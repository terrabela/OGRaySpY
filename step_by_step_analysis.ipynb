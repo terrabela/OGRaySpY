{
 "cells": [
  {
   "cell_type": "code",
   "execution_count": 2,
   "id": "initial_id",
   "metadata": {
    "collapsed": true,
    "ExecuteTime": {
     "end_time": "2024-03-06T20:17:27.631226Z",
     "start_time": "2024-03-06T20:17:26.459573Z"
    }
   },
   "outputs": [],
   "source": [
    "import pandas as pd\n",
    "\n",
    "from ograyspy_class import Ograyspy\n",
    "from spec_class import Spec\n",
    "from spec_graphics_class import SpecGraphics, CountsGraphic"
   ]
  },
  {
   "cell_type": "code",
   "outputs": [
    {
     "name": "stdout",
     "output_type": "stream",
     "text": [
      "C:\\Users\\marce\n",
      "Found folder name:  C:\\Users\\marce\\OwnDrive\\genie_transfer\\almera22\n",
      "Parts:  ('C:\\\\', 'Users', 'marce', 'OwnDrive', 'genie_transfer', 'almera22')\n",
      "No. spec files:  54\n",
      "../ograyspy_results\n",
      "Pedro-notebook\n"
     ]
    }
   ],
   "source": [
    "# Put here a folder in your system with spectra:\n",
    "folder_to_find = 'Genie_Transfer/ALMERA22'\n",
    "ogra = Ograyspy(folder_to_find=folder_to_find)\n",
    "print(ogra.info_node)"
   ],
   "metadata": {
    "collapsed": false,
    "ExecuteTime": {
     "end_time": "2024-03-06T20:17:27.662350Z",
     "start_time": "2024-03-06T20:17:27.634200Z"
    }
   },
   "id": "138598f1961c1db3",
   "execution_count": 3
  },
  {
   "cell_type": "code",
   "outputs": [
    {
     "name": "stdout",
     "output_type": "stream",
     "text": [
      "WindowsPedro-notebook.pkl\n"
     ]
    }
   ],
   "source": [
    "print(ogra.pkl_folder_files)\n",
    "spectra_list_df = pd.read_pickle(ogra.pkl_folder_files)"
   ],
   "metadata": {
    "collapsed": false,
    "ExecuteTime": {
     "end_time": "2024-03-06T20:17:29.032170Z",
     "start_time": "2024-03-06T20:17:29.013172Z"
    }
   },
   "id": "3419a7abe85a798b",
   "execution_count": 4
  },
  {
   "cell_type": "code",
   "outputs": [],
   "source": [
    "reduc_nms = spectra_list_df.reduced_names_files_list[0]\n",
    "fil_lst = spectra_list_df.files_list[0]\n",
    "spc_pth = spectra_list_df.spectra_path[0]"
   ],
   "metadata": {
    "collapsed": false,
    "ExecuteTime": {
     "end_time": "2024-03-06T20:17:33.270525Z",
     "start_time": "2024-03-06T20:17:33.260361Z"
    }
   },
   "id": "7b1b91de1165558c",
   "execution_count": 5
  },
  {
   "cell_type": "code",
   "outputs": [
    {
     "data": {
      "text/plain": "54"
     },
     "execution_count": 6,
     "metadata": {},
     "output_type": "execute_result"
    }
   ],
   "source": [
    "len(reduc_nms)"
   ],
   "metadata": {
    "collapsed": false,
    "ExecuteTime": {
     "end_time": "2024-03-06T19:40:43.940468Z",
     "start_time": "2024-03-06T19:40:43.927304Z"
    }
   },
   "id": "3fa58a2fe82b1880",
   "execution_count": 6
  },
  {
   "cell_type": "code",
   "outputs": [
    {
     "data": {
      "text/plain": "'det_c/iaeaqcb.chn'"
     },
     "execution_count": 7,
     "metadata": {},
     "output_type": "execute_result"
    }
   ],
   "source": [
    "reduc_nms[0]"
   ],
   "metadata": {
    "collapsed": false,
    "ExecuteTime": {
     "end_time": "2024-03-06T19:40:43.956587Z",
     "start_time": "2024-03-06T19:40:43.942436Z"
    }
   },
   "id": "a4da1e4f9317798d",
   "execution_count": 7
  },
  {
   "cell_type": "code",
   "outputs": [
    {
     "data": {
      "text/plain": "WindowsPath('C:/Users/marce/OwnDrive/genie_transfer/almera22/det_c/iaeaqcb.chn')"
     },
     "execution_count": 8,
     "metadata": {},
     "output_type": "execute_result"
    }
   ],
   "source": [
    "fil_lst[0]"
   ],
   "metadata": {
    "collapsed": false,
    "ExecuteTime": {
     "end_time": "2024-03-06T19:40:43.972633Z",
     "start_time": "2024-03-06T19:40:43.958550Z"
    }
   },
   "id": "a98e127e16810483",
   "execution_count": 8
  },
  {
   "cell_type": "code",
   "outputs": [
    {
     "data": {
      "text/plain": "WindowsPath('C:/Users/marce/OwnDrive/genie_transfer/almera22')"
     },
     "execution_count": 9,
     "metadata": {},
     "output_type": "execute_result"
    }
   ],
   "source": [
    "spc_pth"
   ],
   "metadata": {
    "collapsed": false,
    "ExecuteTime": {
     "end_time": "2024-03-06T19:40:43.988656Z",
     "start_time": "2024-03-06T19:40:43.975636Z"
    }
   },
   "id": "24b5a8a66f3550bd",
   "execution_count": 9
  },
  {
   "cell_type": "code",
   "outputs": [],
   "source": [
    "import time"
   ],
   "metadata": {
    "collapsed": false,
    "ExecuteTime": {
     "end_time": "2024-03-06T19:40:44.003806Z",
     "start_time": "2024-03-06T19:40:43.990672Z"
    }
   },
   "id": "63266ad5c7562b94",
   "execution_count": 10
  },
  {
   "cell_type": "code",
   "outputs": [
    {
     "data": {
      "text/plain": "162.4364166"
     },
     "execution_count": 11,
     "metadata": {},
     "output_type": "execute_result"
    }
   ],
   "source": [
    "time.perf_counter()"
   ],
   "metadata": {
    "collapsed": false,
    "ExecuteTime": {
     "end_time": "2024-03-06T19:40:44.018777Z",
     "start_time": "2024-03-06T19:40:44.005814Z"
    }
   },
   "id": "759d54968e803029",
   "execution_count": 11
  },
  {
   "cell_type": "code",
   "outputs": [
    {
     "name": "stdout",
     "output_type": "stream",
     "text": [
      "det_c/iaeaqcb.chn\n",
      "det_c/iaeaqcc.chn\n",
      "det_c/IAEASW1B.chn\n",
      "det_c/iaeaw2a.chn\n",
      "eur_g_p_xtraf/Spiked water Sample Code 01A  Det G.Chn\n",
      "eur_g_p_xtraf/Spiked water Sample Code 01A  Det P.Chn\n",
      "eur_g_p_xtraf/Spiked water Sample Code 01B Det Eurisys.Chn\n",
      "eur_g_p_xtraf/Spiked water Sample Code 01B XtRa.Chn\n",
      "eur_g_p_xtraf/Spiked water Sample Code 01C Eurisys.Chn\n",
      "eur_g_p_xtraf/Spiked water Sample Code 02A  Det P.Chn\n",
      "eur_g_p_xtraf/Spiked water Sample Code 02A  Eurisusys.Chn\n",
      "eur_g_p_xtraf/Spiked water Sample Code 02C Det G.Chn\n",
      "eur_g_p_xtraf/Spiked water Sample code 03A Det P.Chn\n",
      "eur_g_p_xtraf/Spiked water Sample Code 03B Det G.Chn\n",
      "eur_g_p_xtraf/Spiked water Sample Code 03C Det Eurisys.Chn\n",
      "eur_g_p_xtraf/Spiked water Sample Code 03C XtRa.Chn\n",
      "eur_g_p_xtraf/Spiked water Sample code QCA det XtRa.Chn\n",
      "eur_g_p_xtraf/Spiked water Sample Code QCB Det Eurisys.Chn\n",
      "eur_g_p_xtraf/Spiked water Sample Code QCB Det G.Chn\n",
      "eur_g_p_xtraf/Spiked water Sample Code QCB Det XTRa.Chn\n",
      "eur_g_p_xtraf/Spiked water Sample Code QCC Det P.Chn\n",
      "IAEA-TERC-2022/pt2022_spectrum_exercise/PT2022_Spectrum_Exercise/PT2022-Calibration_Standard/Background-2017/BGR-BBE-17D.CHN\n",
      "IAEA-TERC-2022/pt2022_spectrum_exercise/PT2022_Spectrum_Exercise/PT2022-Calibration_Standard/BBE_NPL-A170584-D1/BBE_NPL-A170584-D1.CHN\n",
      "IAEA-TERC-2022/pt2022_spectrum_exercise/PT2022_Spectrum_Exercise/PT2022_Spectra/Background-2021/BGR-BBE-21D.CHN\n",
      "IAEA-TERC-2022/pt2022_spectrum_exercise/PT2022_Spectrum_Exercise/PT2022_Spectra/BBE22032_PT2022/BBE22032_PT2022.CHN\n",
      "IAEA-TERC-2022/pt2022_spectrum_exercise/PT2022_Spectrum_Exercise/PT2022_Spectra/BBE_P105_Blank/BBE_P105_Blank.CHN\n",
      "user2023/GIG/CRM_5A.Chn\n",
      "user2023/GIG/CRM_7.Chn\n",
      "user2023/IAEA2022/IAEA-TERC-2022-01_02;SampleCodeQCA-SpikedWater 100,70g (GMX).Chn\n",
      "user2023/IAEA2022/Sample Code 03B Pop top.Chn\n",
      "user2023/IAEA2022/Sample Code QCA Pop top.Chn\n",
      "user2023/IAEA2022/Sample Code QCC Pop top.Chn\n",
      "IAEA-TERC-2022/pt2022_spectrum_exercise/PT2022_Spectrum_Exercise/PT2022-Calibration_Standard/Background-2017/BGR-BBE-17D.IEC\n",
      "IAEA-TERC-2022/pt2022_spectrum_exercise/PT2022_Spectrum_Exercise/PT2022-Calibration_Standard/BBE_NPL-A170584-D1/BBE_NPL-A170584-D1.IEC\n",
      "IAEA-TERC-2022/pt2022_spectrum_exercise/PT2022_Spectrum_Exercise/PT2022_Spectra/Background-2021/BGR-BBE-21D.IEC\n",
      "IAEA-TERC-2022/pt2022_spectrum_exercise/PT2022_Spectrum_Exercise/PT2022_Spectra/BBE22032_PT2022/BBE22032_PT2022.IEC\n",
      "VERIFICAR_TEMPO_CONTAGEM/IAEA-TERC-2022-01-02/ERAPNI2011.IEC\n",
      "VERIFICAR_TEMPO_CONTAGEM/IAEA-TERC-2022-01-02/Sample Code 01A.IEC\n",
      "VERIFICAR_TEMPO_CONTAGEM/IAEA-TERC-2022-01-02/Sample Code 01C.IEC\n",
      "VERIFICAR_TEMPO_CONTAGEM/IAEA-TERC-2022-01-02/Sample Code 02A.IEC\n",
      "VERIFICAR_TEMPO_CONTAGEM/IAEA-TERC-2022-01-02/Sample Code 02B.IEC\n",
      "VERIFICAR_TEMPO_CONTAGEM/IAEA-TERC-2022-01-02/Sample Code 03A.IEC\n",
      "VERIFICAR_TEMPO_CONTAGEM/IAEA-TERC-2022-01-02/Sample Code QCA.IEC\n",
      "VERIFICAR_TEMPO_CONTAGEM/IAEA-TERC-2022-01-02/Sample Code QCB.IEC\n",
      "VERIFICAR_TEMPO_CONTAGEM/IAEA-TERC-2022-01-02/Sample Code QCC.IEC\n",
      "VERIFICAR_TEMPO_CONTAGEM/IAEA-TERC-2022-01-02/TERC22-Filter.IEC\n",
      "xtra_proj/Sample Code 01A.IEC\n",
      "xtra_proj/Sample Code 01C.IEC\n",
      "xtra_proj/Sample Code 02A.IEC\n",
      "xtra_proj/Sample Code 02B.IEC\n",
      "xtra_proj/Sample Code 03A.IEC\n",
      "xtra_proj/Sample Code QCA.IEC\n",
      "xtra_proj/Sample Code QCB.IEC\n",
      "xtra_proj/Sample Code QCC.IEC\n",
      "Elapsed:  0.924771700000008\n"
     ]
    }
   ],
   "source": [
    "t0 = time.perf_counter()\n",
    "for i in range(len(reduc_nms)):\n",
    "    print(reduc_nms[i])\n",
    "    a_spec = Spec(fil_lst[i], reduc_nms[i], to_smooth=True, smooth_method='sav_gol')\n",
    "print('Elapsed: ', time.perf_counter()-t0)"
   ],
   "metadata": {
    "collapsed": false,
    "ExecuteTime": {
     "end_time": "2024-03-06T19:40:44.956325Z",
     "start_time": "2024-03-06T19:40:44.020775Z"
    }
   },
   "id": "f8ab4f2bd7caec26",
   "execution_count": 12
  },
  {
   "cell_type": "code",
   "outputs": [
    {
     "data": {
      "text/plain": "{'net_spec_ser_an': None,\n 'final_composed_baseline': None,\n 'f_name': WindowsPath('C:/Users/marce/OwnDrive/genie_transfer/almera22/xtra_proj/Sample Code QCC.IEC'),\n 'reduced_f_name': 'xtra_proj/Sample Code QCC.IEC',\n 'sufx': '.iec',\n 'spec_io': None,\n 'lv_time': 150000.0,\n 'rl_time': 150246.6,\n 'source_datetime': 0,\n 'results_pkl_file': WindowsPath('.'),\n 'origin_spec_ser_an': <generic_series_analysis_class.GenericSeriesAnalysis at 0x1ee04058278>,\n 'start_datetime': datetime.datetime(2022, 8, 10, 21, 3),\n 'det_descr': '',\n 'sam_descr': 'Spiked water; ma=100,58g; ; ',\n 'channel_energy_calib': <genericcalib_class.ChannelEnergyCalib at 0x1ee04058240>,\n 'nucl_an': <nuclide_analysis_class.NuclideAnalysis at 0x1ee040580f0>}"
     },
     "execution_count": 13,
     "metadata": {},
     "output_type": "execute_result"
    }
   ],
   "source": [
    "vars(a_spec)"
   ],
   "metadata": {
    "collapsed": false,
    "ExecuteTime": {
     "end_time": "2024-03-06T19:40:44.972425Z",
     "start_time": "2024-03-06T19:40:44.958324Z"
    }
   },
   "id": "819e16a5e716c548",
   "execution_count": 13
  },
  {
   "cell_type": "code",
   "outputs": [],
   "source": [
    "counts_graphic = CountsGraphic(ser_an=a_spec.origin_spec_ser_an,\n",
    "                               graph_name=a_spec.reduced_f_name,\n",
    "                               gen_html=True)"
   ],
   "metadata": {
    "collapsed": false,
    "ExecuteTime": {
     "end_time": "2024-03-06T19:40:47.173746Z",
     "start_time": "2024-03-06T19:40:44.974333Z"
    }
   },
   "id": "37c3b769dd5a8ab7",
   "execution_count": 14
  },
  {
   "cell_type": "code",
   "outputs": [
    {
     "ename": "TypeError",
     "evalue": "resolve_peaks_and_regions() missing 2 required positional arguments: 'k_sep_pk' and 'peak_sd_fact'",
     "output_type": "error",
     "traceback": [
      "\u001B[1;31m---------------------------------------------------------------------------\u001B[0m",
      "\u001B[1;31mTypeError\u001B[0m                                 Traceback (most recent call last)",
      "\u001B[1;32m<ipython-input-15-f875f4deda20>\u001B[0m in \u001B[0;36m<module>\u001B[1;34m\u001B[0m\n\u001B[1;32m----> 1\u001B[1;33m \u001B[0ma_spec\u001B[0m\u001B[1;33m.\u001B[0m\u001B[0morigin_spec_ser_an\u001B[0m\u001B[1;33m.\u001B[0m\u001B[0mresolve_peaks_and_regions\u001B[0m\u001B[1;33m(\u001B[0m\u001B[1;33m)\u001B[0m\u001B[1;33m\u001B[0m\u001B[1;33m\u001B[0m\u001B[0m\n\u001B[0m",
      "\u001B[1;31mTypeError\u001B[0m: resolve_peaks_and_regions() missing 2 required positional arguments: 'k_sep_pk' and 'peak_sd_fact'"
     ]
    }
   ],
   "source": [
    "a_spec.origin_spec_ser_an.resolve_peaks_and_regions()"
   ],
   "metadata": {
    "collapsed": false,
    "ExecuteTime": {
     "end_time": "2024-03-06T19:40:47.468711Z",
     "start_time": "2024-03-06T19:40:47.175744Z"
    }
   },
   "id": "5d110bb2b533b3e6",
   "execution_count": 15
  },
  {
   "cell_type": "code",
   "outputs": [],
   "source": [
    "# 2024-Mar-5 PAREI AQUI: reformar resolve_peaks_and_regions; talvez haja alguma duplicidade internamente."
   ],
   "metadata": {
    "collapsed": false,
    "ExecuteTime": {
     "end_time": "2024-03-06T19:40:47.471712Z",
     "start_time": "2024-03-06T19:40:47.471712Z"
    }
   },
   "id": "9ce3002e62811021",
   "execution_count": null
  },
  {
   "cell_type": "code",
   "outputs": [],
   "source": [
    "# 2024-Mar-6 Começando a usar plotly com Dash"
   ],
   "metadata": {
    "collapsed": false,
    "ExecuteTime": {
     "end_time": "2024-03-06T19:40:47.473717Z",
     "start_time": "2024-03-06T19:40:47.472713Z"
    }
   },
   "id": "33f39a4a218287d4"
  },
  {
   "cell_type": "code",
   "outputs": [],
   "source": [],
   "metadata": {
    "collapsed": false,
    "ExecuteTime": {
     "end_time": "2024-03-06T19:56:11.091888Z",
     "start_time": "2024-03-06T19:56:11.075896Z"
    }
   },
   "id": "7a6d8f778968a3d3",
   "execution_count": 3
  },
  {
   "cell_type": "code",
   "outputs": [],
   "source": [],
   "metadata": {
    "collapsed": false,
    "ExecuteTime": {
     "start_time": "2024-03-06T19:40:47.476727Z"
    }
   },
   "id": "9281f0f5d2895927"
  }
 ],
 "metadata": {
  "kernelspec": {
   "display_name": "Python 3",
   "language": "python",
   "name": "python3"
  },
  "language_info": {
   "codemirror_mode": {
    "name": "ipython",
    "version": 2
   },
   "file_extension": ".py",
   "mimetype": "text/x-python",
   "name": "python",
   "nbconvert_exporter": "python",
   "pygments_lexer": "ipython2",
   "version": "2.7.6"
  }
 },
 "nbformat": 4,
 "nbformat_minor": 5
}
