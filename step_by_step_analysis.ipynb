{
 "cells": [
  {
   "cell_type": "code",
   "execution_count": 1,
   "id": "initial_id",
   "metadata": {
    "ExecuteTime": {
     "end_time": "2024-06-06T21:35:25.274078Z",
     "start_time": "2024-06-06T21:34:49.010115Z"
    }
   },
   "outputs": [],
   "source": [
    "import pandas as pd\n",
    "\n",
    "from ograyspy_class import Ograyspy\n",
    "from spec_class import Spec\n",
    "from spec_graphics_class import SpecGraphics, CountsGraphic"
   ]
  },
  {
   "cell_type": "code",
   "execution_count": 2,
   "id": "4a593c8d-f768-4602-8478-d51d3b4cc728",
   "metadata": {},
   "outputs": [],
   "source": [
    "import os"
   ]
  },
  {
   "cell_type": "code",
   "execution_count": 3,
   "id": "d928a36b-d215-4b48-b092-745131bb25b4",
   "metadata": {},
   "outputs": [
    {
     "data": {
      "text/plain": [
       "'/home/maduar/Documentos/GitHub/OGRaySpY'"
      ]
     },
     "execution_count": 3,
     "metadata": {},
     "output_type": "execute_result"
    }
   ],
   "source": [
    "os.getcwd()"
   ]
  },
  {
   "cell_type": "code",
   "execution_count": 4,
   "id": "65c93137-d7d5-491e-a04f-59319f664fa1",
   "metadata": {},
   "outputs": [],
   "source": [
    "import plotly"
   ]
  },
  {
   "cell_type": "code",
   "execution_count": 5,
   "id": "138598f1961c1db3",
   "metadata": {
    "ExecuteTime": {
     "end_time": "2024-06-06T21:35:25.863711Z",
     "start_time": "2024-06-06T21:35:25.274078Z"
    },
    "collapsed": false,
    "jupyter": {
     "outputs_hidden": false
    }
   },
   "outputs": [
    {
     "name": "stdout",
     "output_type": "stream",
     "text": [
      "No. spec files:  12\n"
     ]
    }
   ],
   "source": [
    "# Put here a folder in your system with spectra:\n",
    "folder_to_find = 'spectra'\n",
    "ogra = Ograyspy(folder_to_find=folder_to_find)"
   ]
  },
  {
   "cell_type": "code",
   "execution_count": 6,
   "id": "1e50a825abc4f3df",
   "metadata": {
    "ExecuteTime": {
     "end_time": "2024-06-06T22:45:07.715189Z",
     "start_time": "2024-06-06T22:45:07.643650Z"
    },
    "collapsed": false,
    "jupyter": {
     "outputs_hidden": false
    }
   },
   "outputs": [
    {
     "name": "stdout",
     "output_type": "stream",
     "text": [
      "maduar-LinuxMint  ../ograyspy_results  data/some_spectra\n"
     ]
    }
   ],
   "source": [
    "print(ogra.info_node, '', ogra.results_path_name, '', ogra.spectra_path)"
   ]
  },
  {
   "cell_type": "code",
   "execution_count": 7,
   "id": "b3ec72bcdfda0cb8",
   "metadata": {
    "ExecuteTime": {
     "end_time": "2024-06-06T22:45:12.287952Z",
     "start_time": "2024-06-06T22:45:10.132733Z"
    },
    "collapsed": false,
    "jupyter": {
     "outputs_hidden": false
    }
   },
   "outputs": [
    {
     "data": {
      "text/html": [
       "<div>\n",
       "<style scoped>\n",
       "    .dataframe tbody tr th:only-of-type {\n",
       "        vertical-align: middle;\n",
       "    }\n",
       "\n",
       "    .dataframe tbody tr th {\n",
       "        vertical-align: top;\n",
       "    }\n",
       "\n",
       "    .dataframe thead th {\n",
       "        text-align: right;\n",
       "    }\n",
       "</style>\n",
       "<table border=\"1\" class=\"dataframe\">\n",
       "  <thead>\n",
       "    <tr style=\"text-align: right;\">\n",
       "      <th></th>\n",
       "      <th>0</th>\n",
       "    </tr>\n",
       "  </thead>\n",
       "  <tbody>\n",
       "    <tr>\n",
       "      <th>info_plat</th>\n",
       "      <td>Linux-5.15.0-112-generic-x86_64-with-glibc2.35</td>\n",
       "    </tr>\n",
       "    <tr>\n",
       "      <th>info_mach</th>\n",
       "      <td>x86_64</td>\n",
       "    </tr>\n",
       "    <tr>\n",
       "      <th>info_syst</th>\n",
       "      <td>Linux</td>\n",
       "    </tr>\n",
       "    <tr>\n",
       "      <th>info_node</th>\n",
       "      <td>maduar-LinuxMint</td>\n",
       "    </tr>\n",
       "    <tr>\n",
       "      <th>home_path</th>\n",
       "      <td>/home/maduar</td>\n",
       "    </tr>\n",
       "    <tr>\n",
       "      <th>spectra_path</th>\n",
       "      <td>data/some_spectra</td>\n",
       "    </tr>\n",
       "    <tr>\n",
       "      <th>n_files</th>\n",
       "      <td>12</td>\n",
       "    </tr>\n",
       "    <tr>\n",
       "      <th>spectra_pattern_names</th>\n",
       "      <td>[**/*.[Cc][Hh][Nn], **/*.[Ii][Ee][Cc]]</td>\n",
       "    </tr>\n",
       "    <tr>\n",
       "      <th>pkl_folder_files</th>\n",
       "      <td>Linux_maduar-LinuxMint.pkl</td>\n",
       "    </tr>\n",
       "    <tr>\n",
       "      <th>results_path_name</th>\n",
       "      <td>../ograyspy_results</td>\n",
       "    </tr>\n",
       "  </tbody>\n",
       "</table>\n",
       "</div>"
      ],
      "text/plain": [
       "                                                                    0\n",
       "info_plat              Linux-5.15.0-112-generic-x86_64-with-glibc2.35\n",
       "info_mach                                                      x86_64\n",
       "info_syst                                                       Linux\n",
       "info_node                                            maduar-LinuxMint\n",
       "home_path                                                /home/maduar\n",
       "spectra_path                                        data/some_spectra\n",
       "n_files                                                            12\n",
       "spectra_pattern_names          [**/*.[Cc][Hh][Nn], **/*.[Ii][Ee][Cc]]\n",
       "pkl_folder_files                           Linux_maduar-LinuxMint.pkl\n",
       "results_path_name                                 ../ograyspy_results"
      ]
     },
     "execution_count": 7,
     "metadata": {},
     "output_type": "execute_result"
    }
   ],
   "source": [
    "ogra.environment_df"
   ]
  },
  {
   "cell_type": "code",
   "execution_count": null,
   "id": "462eee1a4eb93ede",
   "metadata": {
    "ExecuteTime": {
     "end_time": "2024-03-19T21:06:21.106917Z",
     "start_time": "2024-03-19T21:06:21.093239Z"
    },
    "collapsed": false,
    "jupyter": {
     "outputs_hidden": false
    }
   },
   "outputs": [],
   "source": []
  },
  {
   "cell_type": "code",
   "execution_count": 8,
   "id": "bd5011680e27460",
   "metadata": {
    "ExecuteTime": {
     "end_time": "2024-03-19T21:08:38.186212Z",
     "start_time": "2024-03-19T21:08:38.163395Z"
    },
    "collapsed": false,
    "jupyter": {
     "outputs_hidden": false
    }
   },
   "outputs": [
    {
     "data": {
      "text/html": [
       "<div>\n",
       "<style scoped>\n",
       "    .dataframe tbody tr th:only-of-type {\n",
       "        vertical-align: middle;\n",
       "    }\n",
       "\n",
       "    .dataframe tbody tr th {\n",
       "        vertical-align: top;\n",
       "    }\n",
       "\n",
       "    .dataframe thead th {\n",
       "        text-align: right;\n",
       "    }\n",
       "</style>\n",
       "<table border=\"1\" class=\"dataframe\">\n",
       "  <thead>\n",
       "    <tr style=\"text-align: right;\">\n",
       "      <th></th>\n",
       "      <th>files_list</th>\n",
       "      <th>reduced_names_files_list</th>\n",
       "    </tr>\n",
       "  </thead>\n",
       "  <tbody>\n",
       "    <tr>\n",
       "      <th>0</th>\n",
       "      <td>data/some_spectra/CCI2302-I.Chn</td>\n",
       "      <td>CCI2302-I.Chn</td>\n",
       "    </tr>\n",
       "    <tr>\n",
       "      <th>1</th>\n",
       "      <td>data/some_spectra/CCI1201-I.Chn</td>\n",
       "      <td>CCI1201-I.Chn</td>\n",
       "    </tr>\n",
       "    <tr>\n",
       "      <th>2</th>\n",
       "      <td>data/some_spectra/CCI0903-I.Chn</td>\n",
       "      <td>CCI0903-I.Chn</td>\n",
       "    </tr>\n",
       "    <tr>\n",
       "      <th>3</th>\n",
       "      <td>data/some_spectra/CCI0902-I.Chn</td>\n",
       "      <td>CCI0902-I.Chn</td>\n",
       "    </tr>\n",
       "    <tr>\n",
       "      <th>4</th>\n",
       "      <td>data/some_spectra/CCI1602-I.Chn</td>\n",
       "      <td>CCI1602-I.Chn</td>\n",
       "    </tr>\n",
       "    <tr>\n",
       "      <th>5</th>\n",
       "      <td>data/some_spectra/CCI0501-I.Chn</td>\n",
       "      <td>CCI0501-I.Chn</td>\n",
       "    </tr>\n",
       "    <tr>\n",
       "      <th>6</th>\n",
       "      <td>data/some_spectra/CCI1603-I.Chn</td>\n",
       "      <td>CCI1603-I.Chn</td>\n",
       "    </tr>\n",
       "    <tr>\n",
       "      <th>7</th>\n",
       "      <td>data/some_spectra/CCI0202-I.Chn</td>\n",
       "      <td>CCI0202-I.Chn</td>\n",
       "    </tr>\n",
       "    <tr>\n",
       "      <th>8</th>\n",
       "      <td>data/some_spectra/CCI1503-F.Chn</td>\n",
       "      <td>CCI1503-F.Chn</td>\n",
       "    </tr>\n",
       "    <tr>\n",
       "      <th>9</th>\n",
       "      <td>data/some_spectra/SI06122.Chn</td>\n",
       "      <td>SI06122.Chn</td>\n",
       "    </tr>\n",
       "    <tr>\n",
       "      <th>10</th>\n",
       "      <td>data/some_spectra/CCI1901-I.Chn</td>\n",
       "      <td>CCI1901-I.Chn</td>\n",
       "    </tr>\n",
       "    <tr>\n",
       "      <th>11</th>\n",
       "      <td>data/some_spectra/CCI2601-I.Chn</td>\n",
       "      <td>CCI2601-I.Chn</td>\n",
       "    </tr>\n",
       "  </tbody>\n",
       "</table>\n",
       "</div>"
      ],
      "text/plain": [
       "                         files_list reduced_names_files_list\n",
       "0   data/some_spectra/CCI2302-I.Chn            CCI2302-I.Chn\n",
       "1   data/some_spectra/CCI1201-I.Chn            CCI1201-I.Chn\n",
       "2   data/some_spectra/CCI0903-I.Chn            CCI0903-I.Chn\n",
       "3   data/some_spectra/CCI0902-I.Chn            CCI0902-I.Chn\n",
       "4   data/some_spectra/CCI1602-I.Chn            CCI1602-I.Chn\n",
       "5   data/some_spectra/CCI0501-I.Chn            CCI0501-I.Chn\n",
       "6   data/some_spectra/CCI1603-I.Chn            CCI1603-I.Chn\n",
       "7   data/some_spectra/CCI0202-I.Chn            CCI0202-I.Chn\n",
       "8   data/some_spectra/CCI1503-F.Chn            CCI1503-F.Chn\n",
       "9     data/some_spectra/SI06122.Chn              SI06122.Chn\n",
       "10  data/some_spectra/CCI1901-I.Chn            CCI1901-I.Chn\n",
       "11  data/some_spectra/CCI2601-I.Chn            CCI2601-I.Chn"
      ]
     },
     "execution_count": 8,
     "metadata": {},
     "output_type": "execute_result"
    }
   ],
   "source": [
    "\n",
    "ogra.spectra_names_df"
   ]
  },
  {
   "cell_type": "code",
   "execution_count": 9,
   "id": "f47f5ec1081ff7bc",
   "metadata": {
    "ExecuteTime": {
     "end_time": "2024-03-19T21:06:24.941128Z",
     "start_time": "2024-03-19T21:06:22.709786Z"
    },
    "collapsed": false,
    "jupyter": {
     "outputs_hidden": false
    }
   },
   "outputs": [],
   "source": [
    "df = pd.read_csv('https://plotly.github.io/datasets/country_indicators.csv')"
   ]
  },
  {
   "cell_type": "code",
   "execution_count": 10,
   "id": "48845c4be3936a69",
   "metadata": {
    "ExecuteTime": {
     "end_time": "2024-03-19T21:06:24.956549Z",
     "start_time": "2024-03-19T21:06:24.943474Z"
    },
    "collapsed": false,
    "jupyter": {
     "outputs_hidden": false
    }
   },
   "outputs": [
    {
     "data": {
      "text/html": [
       "<div>\n",
       "<style scoped>\n",
       "    .dataframe tbody tr th:only-of-type {\n",
       "        vertical-align: middle;\n",
       "    }\n",
       "\n",
       "    .dataframe tbody tr th {\n",
       "        vertical-align: top;\n",
       "    }\n",
       "\n",
       "    .dataframe thead th {\n",
       "        text-align: right;\n",
       "    }\n",
       "</style>\n",
       "<table border=\"1\" class=\"dataframe\">\n",
       "  <thead>\n",
       "    <tr style=\"text-align: right;\">\n",
       "      <th></th>\n",
       "      <th>Country Name</th>\n",
       "      <th>Indicator Name</th>\n",
       "      <th>Year</th>\n",
       "      <th>Value</th>\n",
       "    </tr>\n",
       "  </thead>\n",
       "  <tbody>\n",
       "    <tr>\n",
       "      <th>0</th>\n",
       "      <td>Arab World</td>\n",
       "      <td>Agriculture, value added (% of GDP)</td>\n",
       "      <td>1962</td>\n",
       "      <td>NaN</td>\n",
       "    </tr>\n",
       "    <tr>\n",
       "      <th>1</th>\n",
       "      <td>Arab World</td>\n",
       "      <td>CO2 emissions (metric tons per capita)</td>\n",
       "      <td>1962</td>\n",
       "      <td>0.760996</td>\n",
       "    </tr>\n",
       "    <tr>\n",
       "      <th>2</th>\n",
       "      <td>Arab World</td>\n",
       "      <td>Domestic credit provided by financial sector (...</td>\n",
       "      <td>1962</td>\n",
       "      <td>18.168690</td>\n",
       "    </tr>\n",
       "    <tr>\n",
       "      <th>3</th>\n",
       "      <td>Arab World</td>\n",
       "      <td>Electric power consumption (kWh per capita)</td>\n",
       "      <td>1962</td>\n",
       "      <td>NaN</td>\n",
       "    </tr>\n",
       "    <tr>\n",
       "      <th>4</th>\n",
       "      <td>Arab World</td>\n",
       "      <td>Energy use (kg of oil equivalent per capita)</td>\n",
       "      <td>1962</td>\n",
       "      <td>NaN</td>\n",
       "    </tr>\n",
       "    <tr>\n",
       "      <th>...</th>\n",
       "      <td>...</td>\n",
       "      <td>...</td>\n",
       "      <td>...</td>\n",
       "      <td>...</td>\n",
       "    </tr>\n",
       "    <tr>\n",
       "      <th>36955</th>\n",
       "      <td>Zimbabwe</td>\n",
       "      <td>Industry, value added (% of GDP)</td>\n",
       "      <td>2007</td>\n",
       "      <td>33.074953</td>\n",
       "    </tr>\n",
       "    <tr>\n",
       "      <th>36956</th>\n",
       "      <td>Zimbabwe</td>\n",
       "      <td>Inflation, GDP deflator (annual %)</td>\n",
       "      <td>2007</td>\n",
       "      <td>0.894887</td>\n",
       "    </tr>\n",
       "    <tr>\n",
       "      <th>36957</th>\n",
       "      <td>Zimbabwe</td>\n",
       "      <td>Life expectancy at birth, total (years)</td>\n",
       "      <td>2007</td>\n",
       "      <td>44.177756</td>\n",
       "    </tr>\n",
       "    <tr>\n",
       "      <th>36958</th>\n",
       "      <td>Zimbabwe</td>\n",
       "      <td>Population density (people per sq. km of land ...</td>\n",
       "      <td>2007</td>\n",
       "      <td>34.374559</td>\n",
       "    </tr>\n",
       "    <tr>\n",
       "      <th>36959</th>\n",
       "      <td>Zimbabwe</td>\n",
       "      <td>Services, etc., value added (% of GDP)</td>\n",
       "      <td>2007</td>\n",
       "      <td>45.327139</td>\n",
       "    </tr>\n",
       "  </tbody>\n",
       "</table>\n",
       "<p>36960 rows × 4 columns</p>\n",
       "</div>"
      ],
      "text/plain": [
       "      Country Name                                     Indicator Name  Year  \\\n",
       "0       Arab World                Agriculture, value added (% of GDP)  1962   \n",
       "1       Arab World             CO2 emissions (metric tons per capita)  1962   \n",
       "2       Arab World  Domestic credit provided by financial sector (...  1962   \n",
       "3       Arab World        Electric power consumption (kWh per capita)  1962   \n",
       "4       Arab World       Energy use (kg of oil equivalent per capita)  1962   \n",
       "...            ...                                                ...   ...   \n",
       "36955     Zimbabwe                   Industry, value added (% of GDP)  2007   \n",
       "36956     Zimbabwe                 Inflation, GDP deflator (annual %)  2007   \n",
       "36957     Zimbabwe            Life expectancy at birth, total (years)  2007   \n",
       "36958     Zimbabwe  Population density (people per sq. km of land ...  2007   \n",
       "36959     Zimbabwe             Services, etc., value added (% of GDP)  2007   \n",
       "\n",
       "           Value  \n",
       "0            NaN  \n",
       "1       0.760996  \n",
       "2      18.168690  \n",
       "3            NaN  \n",
       "4            NaN  \n",
       "...          ...  \n",
       "36955  33.074953  \n",
       "36956   0.894887  \n",
       "36957  44.177756  \n",
       "36958  34.374559  \n",
       "36959  45.327139  \n",
       "\n",
       "[36960 rows x 4 columns]"
      ]
     },
     "execution_count": 10,
     "metadata": {},
     "output_type": "execute_result"
    }
   ],
   "source": [
    "df"
   ]
  },
  {
   "cell_type": "code",
   "execution_count": 11,
   "id": "63266ad5c7562b94",
   "metadata": {
    "ExecuteTime": {
     "end_time": "2024-03-19T21:06:27.288476Z",
     "start_time": "2024-03-19T21:06:27.279850Z"
    },
    "collapsed": false,
    "jupyter": {
     "outputs_hidden": false
    }
   },
   "outputs": [],
   "source": [
    "import time"
   ]
  },
  {
   "cell_type": "code",
   "execution_count": 12,
   "id": "759d54968e803029",
   "metadata": {
    "ExecuteTime": {
     "end_time": "2024-03-19T21:06:28.426763Z",
     "start_time": "2024-03-19T21:06:28.408617Z"
    },
    "collapsed": false,
    "jupyter": {
     "outputs_hidden": false
    }
   },
   "outputs": [
    {
     "data": {
      "text/plain": [
       "27460.667376022"
      ]
     },
     "execution_count": 12,
     "metadata": {},
     "output_type": "execute_result"
    }
   ],
   "source": [
    "time.perf_counter()"
   ]
  },
  {
   "cell_type": "code",
   "execution_count": 13,
   "id": "5298b24a549d901a",
   "metadata": {
    "ExecuteTime": {
     "end_time": "2024-03-19T21:09:17.765404Z",
     "start_time": "2024-03-19T21:09:17.749443Z"
    },
    "collapsed": false,
    "jupyter": {
     "outputs_hidden": false
    }
   },
   "outputs": [
    {
     "data": {
      "text/plain": [
       "0     CCI2302-I.Chn\n",
       "1     CCI1201-I.Chn\n",
       "2     CCI0903-I.Chn\n",
       "3     CCI0902-I.Chn\n",
       "4     CCI1602-I.Chn\n",
       "5     CCI0501-I.Chn\n",
       "6     CCI1603-I.Chn\n",
       "7     CCI0202-I.Chn\n",
       "8     CCI1503-F.Chn\n",
       "9       SI06122.Chn\n",
       "10    CCI1901-I.Chn\n",
       "11    CCI2601-I.Chn\n",
       "Name: reduced_names_files_list, dtype: object"
      ]
     },
     "execution_count": 13,
     "metadata": {},
     "output_type": "execute_result"
    }
   ],
   "source": [
    "reduc_nms = ogra.spectra_names_df.reduced_names_files_list\n",
    "reduc_nms"
   ]
  },
  {
   "cell_type": "code",
   "execution_count": 14,
   "id": "f8ab4f2bd7caec26",
   "metadata": {
    "ExecuteTime": {
     "end_time": "2024-03-19T21:09:54.370775Z",
     "start_time": "2024-03-19T21:09:53.767538Z"
    },
    "collapsed": false,
    "jupyter": {
     "outputs_hidden": false
    }
   },
   "outputs": [
    {
     "name": "stdout",
     "output_type": "stream",
     "text": [
      "CCI2302-I.Chn\n",
      "CCI1201-I.Chn\n",
      "CCI0903-I.Chn\n",
      "CCI0902-I.Chn\n",
      "CCI1602-I.Chn\n",
      "CCI0501-I.Chn\n",
      "CCI1603-I.Chn\n",
      "CCI0202-I.Chn\n",
      "CCI1503-F.Chn\n",
      "SI06122.Chn\n",
      "CCI1901-I.Chn\n",
      "CCI2601-I.Chn\n",
      "Elapsed:  0.7002875639991544\n"
     ]
    }
   ],
   "source": [
    "t0 = time.perf_counter()\n",
    "for i in range(len(reduc_nms)):\n",
    "    print(reduc_nms[i])\n",
    "    # a_spec = Spec(reduc_nms[i], ogra.spectra_path, to_smooth=True, smooth_method='sav_gol')\n",
    "    a_spec = Spec(reduc_nms[i], ogra.spectra_path, to_smooth=True, smooth_method='spline')\n",
    "print('Elapsed: ', time.perf_counter()-t0)"
   ]
  },
  {
   "cell_type": "code",
   "execution_count": 15,
   "id": "819e16a5e716c548",
   "metadata": {
    "ExecuteTime": {
     "end_time": "2024-03-19T21:10:17.826525Z",
     "start_time": "2024-03-19T21:10:17.813484Z"
    },
    "collapsed": false,
    "jupyter": {
     "outputs_hidden": false
    }
   },
   "outputs": [
    {
     "data": {
      "text/plain": [
       "{'net_spec_ser_an': None,\n",
       " 'final_composed_baseline': None,\n",
       " 'reduced_f_name': 'CCI2601-I.Chn',\n",
       " 'sufx': '.chn',\n",
       " 'spec_io': None,\n",
       " 'lv_time': 5000.0,\n",
       " 'rl_time': 5008.18,\n",
       " 'source_datetime': None,\n",
       " 'results_pkl_file': PosixPath('.'),\n",
       " 'origin_spec_ser_an': <generic_series_analysis_class.GenericSeriesAnalysis at 0x7f5611716a10>,\n",
       " 'start_datetime': datetime.datetime(2022, 1, 26, 11, 56, 35),\n",
       " 'det_descr': 'MAQUINA_01 MCB 1 Input 1',\n",
       " 'sam_descr': 'Filtro de Carvao CAC 26/01/22 (I-123)(CCI2601-I) (GMX)',\n",
       " 'channel_energy_calib': <genericcalib_class.ChannelEnergyCalib at 0x7f56117157e0>,\n",
       " 'nucl_an': <nuclide_analysis_class.NuclideAnalysis at 0x7f5611716080>}"
      ]
     },
     "execution_count": 15,
     "metadata": {},
     "output_type": "execute_result"
    }
   ],
   "source": [
    "vars(a_spec)"
   ]
  },
  {
   "cell_type": "code",
   "execution_count": 16,
   "id": "a75baa56-16a9-4776-a7ce-4d254141e5c1",
   "metadata": {},
   "outputs": [
    {
     "data": {
      "text/plain": [
       "{'mix_regions': None,\n",
       " 'spl_baseline': None,\n",
       " 'eval_baseline': None,\n",
       " 'y_s': array([0, 0, 0, ..., 0, 2, 0]),\n",
       " 'nzero': array([False, False, False, ..., False,  True, False]),\n",
       " 'n_ch': 4096,\n",
       " 'final_baseline': None,\n",
       " 'x_s': array([0.000e+00, 1.000e+00, 2.000e+00, ..., 4.093e+03, 4.094e+03,\n",
       "        4.095e+03]),\n",
       " 'chans_nzero': array([  35.,   36.,   37., ..., 4090., 4091., 4094.]),\n",
       " 'counts_nzero': array([  7,  33, 157, ...,   1,   2,   2]),\n",
       " 'unc_y': array([ 2.64575131,  5.74456265, 12.52996409, ...,  1.        ,\n",
       "         1.41421356,  1.41421356]),\n",
       " 'given_variance': array([0, 0, 0, ..., 0, 2, 0]),\n",
       " 'y_smoothed': array([5.11839108e+03, 5.11294665e+03, 5.08182923e+03, ...,\n",
       "        1.18641648e+00, 1.18772306e+00, 1.18907194e+00]),\n",
       " 'fft_s': None,\n",
       " 'is_reg': array([False, False, False, ..., False, False, False]),\n",
       " 'xs_all_mplets': [],\n",
       " 'ys_all_mplets': [],\n",
       " 'ys_all_steps': [],\n",
       " 'chans_in_multiplets_list': [],\n",
       " 'calculated_step_counts': [],\n",
       " 'xs_bl_in_reg': array([], dtype=float64),\n",
       " 'ys_bl_in_reg': array([], dtype=float64),\n",
       " 'xs_bl_out_reg': array([], dtype=float64),\n",
       " 'ys_bl_out_reg': array([], dtype=float64),\n",
       " 'ws_bl_out_reg': array([], dtype=float64),\n",
       " 'pk_parms': <peaksparms_class.PeaksParms at 0x7f56117169b0>,\n",
       " 'fft_spec': array([], dtype=float64),\n",
       " 'k_erf': np.float64(0.9999975184539827)}"
      ]
     },
     "execution_count": 16,
     "metadata": {},
     "output_type": "execute_result"
    }
   ],
   "source": [
    "vars(a_spec.origin_spec_ser_an)"
   ]
  },
  {
   "cell_type": "code",
   "execution_count": 17,
   "id": "37c3b769dd5a8ab7",
   "metadata": {
    "ExecuteTime": {
     "end_time": "2024-03-19T21:10:21.080373Z",
     "start_time": "2024-03-19T21:10:20.263141Z"
    },
    "collapsed": false,
    "jupyter": {
     "outputs_hidden": false
    }
   },
   "outputs": [],
   "source": [
    "counts_graphic = CountsGraphic(ser_an=a_spec.origin_spec_ser_an,\n",
    "                               graph_name=a_spec.reduced_f_name,\n",
    "                               gen_html=True)"
   ]
  },
  {
   "cell_type": "code",
   "execution_count": 18,
   "id": "5d110bb2b533b3e6",
   "metadata": {
    "collapsed": false,
    "jupyter": {
     "outputs_hidden": false
    }
   },
   "outputs": [
    {
     "ename": "TypeError",
     "evalue": "GenericSeriesAnalysis.resolve_peaks_and_regions() missing 2 required positional arguments: 'k_sep_pk' and 'peak_sd_fact'",
     "output_type": "error",
     "traceback": [
      "\u001b[0;31m---------------------------------------------------------------------------\u001b[0m",
      "\u001b[0;31mTypeError\u001b[0m                                 Traceback (most recent call last)",
      "Cell \u001b[0;32mIn[18], line 1\u001b[0m\n\u001b[0;32m----> 1\u001b[0m \u001b[43ma_spec\u001b[49m\u001b[38;5;241;43m.\u001b[39;49m\u001b[43morigin_spec_ser_an\u001b[49m\u001b[38;5;241;43m.\u001b[39;49m\u001b[43mresolve_peaks_and_regions\u001b[49m\u001b[43m(\u001b[49m\u001b[43m)\u001b[49m\n",
      "\u001b[0;31mTypeError\u001b[0m: GenericSeriesAnalysis.resolve_peaks_and_regions() missing 2 required positional arguments: 'k_sep_pk' and 'peak_sd_fact'"
     ]
    }
   ],
   "source": [
    "a_spec.origin_spec_ser_an.resolve_peaks_and_regions()"
   ]
  },
  {
   "cell_type": "code",
   "execution_count": null,
   "id": "9ce3002e62811021",
   "metadata": {
    "ExecuteTime": {
     "start_time": "2024-03-15T19:26:16.296264Z"
    },
    "collapsed": false,
    "jupyter": {
     "outputs_hidden": false
    }
   },
   "outputs": [],
   "source": [
    "# 2024-Mar-5 PAREI AQUI: reformar resolve_peaks_and_regions; talvez haja alguma duplicidade internamente."
   ]
  },
  {
   "cell_type": "code",
   "execution_count": null,
   "id": "33f39a4a218287d4",
   "metadata": {
    "ExecuteTime": {
     "start_time": "2024-03-15T19:26:16.297362Z"
    },
    "collapsed": false,
    "jupyter": {
     "outputs_hidden": false
    }
   },
   "outputs": [],
   "source": [
    "# 2024-Mar-6 Começando a usar plotly com Dash"
   ]
  },
  {
   "cell_type": "code",
   "execution_count": null,
   "id": "7a6d8f778968a3d3",
   "metadata": {
    "ExecuteTime": {
     "start_time": "2024-03-15T19:26:16.298446Z"
    },
    "collapsed": false,
    "jupyter": {
     "outputs_hidden": false
    }
   },
   "outputs": [],
   "source": []
  },
  {
   "cell_type": "code",
   "execution_count": null,
   "id": "9281f0f5d2895927",
   "metadata": {
    "ExecuteTime": {
     "start_time": "2024-03-15T19:26:16.299540Z"
    },
    "collapsed": false,
    "jupyter": {
     "outputs_hidden": false
    }
   },
   "outputs": [],
   "source": [
    "enone = None"
   ]
  },
  {
   "cell_type": "code",
   "execution_count": null,
   "id": "c43a633a-eca4-4a37-ab70-da536e224ec5",
   "metadata": {},
   "outputs": [],
   "source": [
    "sete = 7"
   ]
  },
  {
   "cell_type": "code",
   "execution_count": null,
   "id": "8430e36d-4172-49aa-b8de-39aab1d32f28",
   "metadata": {},
   "outputs": [],
   "source": [
    "if enone:\n",
    "    print(sete)\n",
    "else:\n",
    "    print(8)"
   ]
  },
  {
   "cell_type": "code",
   "execution_count": null,
   "id": "3bf47f4d-47b8-4269-949e-83b4c127a206",
   "metadata": {},
   "outputs": [],
   "source": [
    "import numpy as np\n",
    "sete = np.array([1,2,6])"
   ]
  },
  {
   "cell_type": "code",
   "execution_count": null,
   "id": "543c6ffb-e7fc-4a10-abf4-244e2f7f67f7",
   "metadata": {},
   "outputs": [],
   "source": [
    "sete.size"
   ]
  },
  {
   "cell_type": "code",
   "execution_count": null,
   "id": "1ca64aa7-51e1-4792-8d3d-a9050a62a3cc",
   "metadata": {},
   "outputs": [],
   "source": []
  }
 ],
 "metadata": {
  "kernelspec": {
   "display_name": "Python 3 (ipykernel)",
   "language": "python",
   "name": "python3"
  },
  "language_info": {
   "codemirror_mode": {
    "name": "ipython",
    "version": 3
   },
   "file_extension": ".py",
   "mimetype": "text/x-python",
   "name": "python",
   "nbconvert_exporter": "python",
   "pygments_lexer": "ipython3",
   "version": "3.10.12"
  }
 },
 "nbformat": 4,
 "nbformat_minor": 5
}
