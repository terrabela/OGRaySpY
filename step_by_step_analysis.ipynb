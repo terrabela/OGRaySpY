{
 "cells": [
  {
   "cell_type": "code",
   "id": "initial_id",
   "metadata": {
    "collapsed": true,
    "ExecuteTime": {
     "end_time": "2024-06-06T21:35:25.274078Z",
     "start_time": "2024-06-06T21:34:49.010115Z"
    }
   },
   "source": [
    "import pandas as pd\n",
    "\n",
    "from ograyspy_class import Ograyspy\n",
    "from spec_class import Spec\n",
    "from spec_graphics_class import SpecGraphics, CountsGraphic"
   ],
   "outputs": [],
   "execution_count": 1
  },
  {
   "cell_type": "code",
   "source": [
    "# Put here a folder in your system with spectra:\n",
    "folder_to_find = 'Genie_Transfer/ALMERA22'\n",
    "ogra = Ograyspy(folder_to_find=folder_to_find)"
   ],
   "metadata": {
    "collapsed": false,
    "ExecuteTime": {
     "end_time": "2024-06-06T21:35:25.863711Z",
     "start_time": "2024-06-06T21:35:25.274078Z"
    }
   },
   "id": "138598f1961c1db3",
   "outputs": [
    {
     "name": "stdout",
     "output_type": "stream",
     "text": [
      "No. spec files:  12\n"
     ]
    }
   ],
   "execution_count": 2
  },
  {
   "cell_type": "code",
   "source": [
    "print(ogra.info_node, '', ogra.results_path_name, '', ogra.spectra_path)"
   ],
   "metadata": {
    "collapsed": false,
    "ExecuteTime": {
     "end_time": "2024-06-06T22:45:07.715189Z",
     "start_time": "2024-06-06T22:45:07.643650Z"
    }
   },
   "id": "1e50a825abc4f3df",
   "outputs": [
    {
     "name": "stdout",
     "output_type": "stream",
     "text": [
      "I56611  ../ograyspy_results  data\\some_spectra\n"
     ]
    }
   ],
   "execution_count": 3
  },
  {
   "cell_type": "code",
   "source": [
    "ogra.environment_df"
   ],
   "metadata": {
    "collapsed": false,
    "ExecuteTime": {
     "end_time": "2024-06-06T22:45:12.287952Z",
     "start_time": "2024-06-06T22:45:10.132733Z"
    }
   },
   "id": "b3ec72bcdfda0cb8",
   "outputs": [
    {
     "data": {
      "text/plain": [
       "                                                            0\n",
       "info_plat                           Windows-10-10.0.22631-SP0\n",
       "info_mach                                               AMD64\n",
       "info_syst                                             Windows\n",
       "info_node                                              I56611\n",
       "home_path                                    C:\\Users\\mmaduar\n",
       "spectra_path                                data\\some_spectra\n",
       "n_files                                                    12\n",
       "spectra_pattern_names  [**/*.[Cc][Hh][Nn], **/*.[Ii][Ee][Cc]]\n",
       "pkl_folder_files                           Windows_I56611.pkl\n",
       "results_path_name                         ../ograyspy_results"
      ],
      "text/html": [
       "<div>\n",
       "<style scoped>\n",
       "    .dataframe tbody tr th:only-of-type {\n",
       "        vertical-align: middle;\n",
       "    }\n",
       "\n",
       "    .dataframe tbody tr th {\n",
       "        vertical-align: top;\n",
       "    }\n",
       "\n",
       "    .dataframe thead th {\n",
       "        text-align: right;\n",
       "    }\n",
       "</style>\n",
       "<table border=\"1\" class=\"dataframe\">\n",
       "  <thead>\n",
       "    <tr style=\"text-align: right;\">\n",
       "      <th></th>\n",
       "      <th>0</th>\n",
       "    </tr>\n",
       "  </thead>\n",
       "  <tbody>\n",
       "    <tr>\n",
       "      <th>info_plat</th>\n",
       "      <td>Windows-10-10.0.22631-SP0</td>\n",
       "    </tr>\n",
       "    <tr>\n",
       "      <th>info_mach</th>\n",
       "      <td>AMD64</td>\n",
       "    </tr>\n",
       "    <tr>\n",
       "      <th>info_syst</th>\n",
       "      <td>Windows</td>\n",
       "    </tr>\n",
       "    <tr>\n",
       "      <th>info_node</th>\n",
       "      <td>I56611</td>\n",
       "    </tr>\n",
       "    <tr>\n",
       "      <th>home_path</th>\n",
       "      <td>C:\\Users\\mmaduar</td>\n",
       "    </tr>\n",
       "    <tr>\n",
       "      <th>spectra_path</th>\n",
       "      <td>data\\some_spectra</td>\n",
       "    </tr>\n",
       "    <tr>\n",
       "      <th>n_files</th>\n",
       "      <td>12</td>\n",
       "    </tr>\n",
       "    <tr>\n",
       "      <th>spectra_pattern_names</th>\n",
       "      <td>[**/*.[Cc][Hh][Nn], **/*.[Ii][Ee][Cc]]</td>\n",
       "    </tr>\n",
       "    <tr>\n",
       "      <th>pkl_folder_files</th>\n",
       "      <td>Windows_I56611.pkl</td>\n",
       "    </tr>\n",
       "    <tr>\n",
       "      <th>results_path_name</th>\n",
       "      <td>../ograyspy_results</td>\n",
       "    </tr>\n",
       "  </tbody>\n",
       "</table>\n",
       "</div>"
      ]
     },
     "execution_count": 4,
     "metadata": {},
     "output_type": "execute_result"
    }
   ],
   "execution_count": 4
  },
  {
   "cell_type": "code",
   "outputs": [],
   "source": [],
   "metadata": {
    "collapsed": false,
    "ExecuteTime": {
     "end_time": "2024-03-19T21:06:21.106917Z",
     "start_time": "2024-03-19T21:06:21.093239Z"
    }
   },
   "id": "462eee1a4eb93ede",
   "execution_count": 4
  },
  {
   "cell_type": "code",
   "outputs": [
    {
     "data": {
      "text/plain": "                                           files_list  \\\n0   C:\\Users\\marce\\OwnDrive\\genie_transfer\\almera2...   \n1   C:\\Users\\marce\\OwnDrive\\genie_transfer\\almera2...   \n2   C:\\Users\\marce\\OwnDrive\\genie_transfer\\almera2...   \n3   C:\\Users\\marce\\OwnDrive\\genie_transfer\\almera2...   \n4   C:\\Users\\marce\\OwnDrive\\genie_transfer\\almera2...   \n5   C:\\Users\\marce\\OwnDrive\\genie_transfer\\almera2...   \n6   C:\\Users\\marce\\OwnDrive\\genie_transfer\\almera2...   \n7   C:\\Users\\marce\\OwnDrive\\genie_transfer\\almera2...   \n8   C:\\Users\\marce\\OwnDrive\\genie_transfer\\almera2...   \n9   C:\\Users\\marce\\OwnDrive\\genie_transfer\\almera2...   \n10  C:\\Users\\marce\\OwnDrive\\genie_transfer\\almera2...   \n11  C:\\Users\\marce\\OwnDrive\\genie_transfer\\almera2...   \n12  C:\\Users\\marce\\OwnDrive\\genie_transfer\\almera2...   \n13  C:\\Users\\marce\\OwnDrive\\genie_transfer\\almera2...   \n14  C:\\Users\\marce\\OwnDrive\\genie_transfer\\almera2...   \n15  C:\\Users\\marce\\OwnDrive\\genie_transfer\\almera2...   \n16  C:\\Users\\marce\\OwnDrive\\genie_transfer\\almera2...   \n17  C:\\Users\\marce\\OwnDrive\\genie_transfer\\almera2...   \n18  C:\\Users\\marce\\OwnDrive\\genie_transfer\\almera2...   \n19  C:\\Users\\marce\\OwnDrive\\genie_transfer\\almera2...   \n20  C:\\Users\\marce\\OwnDrive\\genie_transfer\\almera2...   \n21  C:\\Users\\marce\\OwnDrive\\genie_transfer\\almera2...   \n22  C:\\Users\\marce\\OwnDrive\\genie_transfer\\almera2...   \n23  C:\\Users\\marce\\OwnDrive\\genie_transfer\\almera2...   \n24  C:\\Users\\marce\\OwnDrive\\genie_transfer\\almera2...   \n25  C:\\Users\\marce\\OwnDrive\\genie_transfer\\almera2...   \n26  C:\\Users\\marce\\OwnDrive\\genie_transfer\\almera2...   \n27  C:\\Users\\marce\\OwnDrive\\genie_transfer\\almera2...   \n28  C:\\Users\\marce\\OwnDrive\\genie_transfer\\almera2...   \n29  C:\\Users\\marce\\OwnDrive\\genie_transfer\\almera2...   \n30  C:\\Users\\marce\\OwnDrive\\genie_transfer\\almera2...   \n31  C:\\Users\\marce\\OwnDrive\\genie_transfer\\almera2...   \n32  C:\\Users\\marce\\OwnDrive\\genie_transfer\\almera2...   \n33  C:\\Users\\marce\\OwnDrive\\genie_transfer\\almera2...   \n34  C:\\Users\\marce\\OwnDrive\\genie_transfer\\almera2...   \n35  C:\\Users\\marce\\OwnDrive\\genie_transfer\\almera2...   \n36  C:\\Users\\marce\\OwnDrive\\genie_transfer\\almera2...   \n37  C:\\Users\\marce\\OwnDrive\\genie_transfer\\almera2...   \n38  C:\\Users\\marce\\OwnDrive\\genie_transfer\\almera2...   \n39  C:\\Users\\marce\\OwnDrive\\genie_transfer\\almera2...   \n40  C:\\Users\\marce\\OwnDrive\\genie_transfer\\almera2...   \n41  C:\\Users\\marce\\OwnDrive\\genie_transfer\\almera2...   \n42  C:\\Users\\marce\\OwnDrive\\genie_transfer\\almera2...   \n43  C:\\Users\\marce\\OwnDrive\\genie_transfer\\almera2...   \n44  C:\\Users\\marce\\OwnDrive\\genie_transfer\\almera2...   \n45  C:\\Users\\marce\\OwnDrive\\genie_transfer\\almera2...   \n46  C:\\Users\\marce\\OwnDrive\\genie_transfer\\almera2...   \n47  C:\\Users\\marce\\OwnDrive\\genie_transfer\\almera2...   \n48  C:\\Users\\marce\\OwnDrive\\genie_transfer\\almera2...   \n49  C:\\Users\\marce\\OwnDrive\\genie_transfer\\almera2...   \n50  C:\\Users\\marce\\OwnDrive\\genie_transfer\\almera2...   \n51  C:\\Users\\marce\\OwnDrive\\genie_transfer\\almera2...   \n52  C:\\Users\\marce\\OwnDrive\\genie_transfer\\almera2...   \n53  C:\\Users\\marce\\OwnDrive\\genie_transfer\\almera2...   \n\n                             reduced_names_files_list  \n0                                   det_c/iaeaqcb.chn  \n1                                   det_c/iaeaqcc.chn  \n2                                  det_c/IAEASW1B.chn  \n3                                   det_c/iaeaw2a.chn  \n4   eur_g_p_xtraf/Spiked water Sample Code 01A  De...  \n5   eur_g_p_xtraf/Spiked water Sample Code 01A  De...  \n6   eur_g_p_xtraf/Spiked water Sample Code 01B Det...  \n7   eur_g_p_xtraf/Spiked water Sample Code 01B XtR...  \n8   eur_g_p_xtraf/Spiked water Sample Code 01C Eur...  \n9   eur_g_p_xtraf/Spiked water Sample Code 02A  De...  \n10  eur_g_p_xtraf/Spiked water Sample Code 02A  Eu...  \n11  eur_g_p_xtraf/Spiked water Sample Code 02C Det...  \n12  eur_g_p_xtraf/Spiked water Sample code 03A Det...  \n13  eur_g_p_xtraf/Spiked water Sample Code 03B Det...  \n14  eur_g_p_xtraf/Spiked water Sample Code 03C Det...  \n15  eur_g_p_xtraf/Spiked water Sample Code 03C XtR...  \n16  eur_g_p_xtraf/Spiked water Sample code QCA det...  \n17  eur_g_p_xtraf/Spiked water Sample Code QCB Det...  \n18  eur_g_p_xtraf/Spiked water Sample Code QCB Det...  \n19  eur_g_p_xtraf/Spiked water Sample Code QCB Det...  \n20  eur_g_p_xtraf/Spiked water Sample Code QCC Det...  \n21  IAEA-TERC-2022/pt2022_spectrum_exercise/PT2022...  \n22  IAEA-TERC-2022/pt2022_spectrum_exercise/PT2022...  \n23  IAEA-TERC-2022/pt2022_spectrum_exercise/PT2022...  \n24  IAEA-TERC-2022/pt2022_spectrum_exercise/PT2022...  \n25  IAEA-TERC-2022/pt2022_spectrum_exercise/PT2022...  \n26                            user2023/GIG/CRM_5A.Chn  \n27                             user2023/GIG/CRM_7.Chn  \n28  user2023/IAEA2022/IAEA-TERC-2022-01_02;SampleC...  \n29      user2023/IAEA2022/Sample Code 03B Pop top.Chn  \n30      user2023/IAEA2022/Sample Code QCA Pop top.Chn  \n31      user2023/IAEA2022/Sample Code QCC Pop top.Chn  \n32  IAEA-TERC-2022/pt2022_spectrum_exercise/PT2022...  \n33  IAEA-TERC-2022/pt2022_spectrum_exercise/PT2022...  \n34  IAEA-TERC-2022/pt2022_spectrum_exercise/PT2022...  \n35  IAEA-TERC-2022/pt2022_spectrum_exercise/PT2022...  \n36  VERIFICAR_TEMPO_CONTAGEM/IAEA-TERC-2022-01-02/...  \n37  VERIFICAR_TEMPO_CONTAGEM/IAEA-TERC-2022-01-02/...  \n38  VERIFICAR_TEMPO_CONTAGEM/IAEA-TERC-2022-01-02/...  \n39  VERIFICAR_TEMPO_CONTAGEM/IAEA-TERC-2022-01-02/...  \n40  VERIFICAR_TEMPO_CONTAGEM/IAEA-TERC-2022-01-02/...  \n41  VERIFICAR_TEMPO_CONTAGEM/IAEA-TERC-2022-01-02/...  \n42  VERIFICAR_TEMPO_CONTAGEM/IAEA-TERC-2022-01-02/...  \n43  VERIFICAR_TEMPO_CONTAGEM/IAEA-TERC-2022-01-02/...  \n44  VERIFICAR_TEMPO_CONTAGEM/IAEA-TERC-2022-01-02/...  \n45  VERIFICAR_TEMPO_CONTAGEM/IAEA-TERC-2022-01-02/...  \n46                      xtra_proj/Sample Code 01A.IEC  \n47                      xtra_proj/Sample Code 01C.IEC  \n48                      xtra_proj/Sample Code 02A.IEC  \n49                      xtra_proj/Sample Code 02B.IEC  \n50                      xtra_proj/Sample Code 03A.IEC  \n51                      xtra_proj/Sample Code QCA.IEC  \n52                      xtra_proj/Sample Code QCB.IEC  \n53                      xtra_proj/Sample Code QCC.IEC  ",
      "text/html": "<div>\n<style scoped>\n    .dataframe tbody tr th:only-of-type {\n        vertical-align: middle;\n    }\n\n    .dataframe tbody tr th {\n        vertical-align: top;\n    }\n\n    .dataframe thead th {\n        text-align: right;\n    }\n</style>\n<table border=\"1\" class=\"dataframe\">\n  <thead>\n    <tr style=\"text-align: right;\">\n      <th></th>\n      <th>files_list</th>\n      <th>reduced_names_files_list</th>\n    </tr>\n  </thead>\n  <tbody>\n    <tr>\n      <th>0</th>\n      <td>C:\\Users\\marce\\OwnDrive\\genie_transfer\\almera2...</td>\n      <td>det_c/iaeaqcb.chn</td>\n    </tr>\n    <tr>\n      <th>1</th>\n      <td>C:\\Users\\marce\\OwnDrive\\genie_transfer\\almera2...</td>\n      <td>det_c/iaeaqcc.chn</td>\n    </tr>\n    <tr>\n      <th>2</th>\n      <td>C:\\Users\\marce\\OwnDrive\\genie_transfer\\almera2...</td>\n      <td>det_c/IAEASW1B.chn</td>\n    </tr>\n    <tr>\n      <th>3</th>\n      <td>C:\\Users\\marce\\OwnDrive\\genie_transfer\\almera2...</td>\n      <td>det_c/iaeaw2a.chn</td>\n    </tr>\n    <tr>\n      <th>4</th>\n      <td>C:\\Users\\marce\\OwnDrive\\genie_transfer\\almera2...</td>\n      <td>eur_g_p_xtraf/Spiked water Sample Code 01A  De...</td>\n    </tr>\n    <tr>\n      <th>5</th>\n      <td>C:\\Users\\marce\\OwnDrive\\genie_transfer\\almera2...</td>\n      <td>eur_g_p_xtraf/Spiked water Sample Code 01A  De...</td>\n    </tr>\n    <tr>\n      <th>6</th>\n      <td>C:\\Users\\marce\\OwnDrive\\genie_transfer\\almera2...</td>\n      <td>eur_g_p_xtraf/Spiked water Sample Code 01B Det...</td>\n    </tr>\n    <tr>\n      <th>7</th>\n      <td>C:\\Users\\marce\\OwnDrive\\genie_transfer\\almera2...</td>\n      <td>eur_g_p_xtraf/Spiked water Sample Code 01B XtR...</td>\n    </tr>\n    <tr>\n      <th>8</th>\n      <td>C:\\Users\\marce\\OwnDrive\\genie_transfer\\almera2...</td>\n      <td>eur_g_p_xtraf/Spiked water Sample Code 01C Eur...</td>\n    </tr>\n    <tr>\n      <th>9</th>\n      <td>C:\\Users\\marce\\OwnDrive\\genie_transfer\\almera2...</td>\n      <td>eur_g_p_xtraf/Spiked water Sample Code 02A  De...</td>\n    </tr>\n    <tr>\n      <th>10</th>\n      <td>C:\\Users\\marce\\OwnDrive\\genie_transfer\\almera2...</td>\n      <td>eur_g_p_xtraf/Spiked water Sample Code 02A  Eu...</td>\n    </tr>\n    <tr>\n      <th>11</th>\n      <td>C:\\Users\\marce\\OwnDrive\\genie_transfer\\almera2...</td>\n      <td>eur_g_p_xtraf/Spiked water Sample Code 02C Det...</td>\n    </tr>\n    <tr>\n      <th>12</th>\n      <td>C:\\Users\\marce\\OwnDrive\\genie_transfer\\almera2...</td>\n      <td>eur_g_p_xtraf/Spiked water Sample code 03A Det...</td>\n    </tr>\n    <tr>\n      <th>13</th>\n      <td>C:\\Users\\marce\\OwnDrive\\genie_transfer\\almera2...</td>\n      <td>eur_g_p_xtraf/Spiked water Sample Code 03B Det...</td>\n    </tr>\n    <tr>\n      <th>14</th>\n      <td>C:\\Users\\marce\\OwnDrive\\genie_transfer\\almera2...</td>\n      <td>eur_g_p_xtraf/Spiked water Sample Code 03C Det...</td>\n    </tr>\n    <tr>\n      <th>15</th>\n      <td>C:\\Users\\marce\\OwnDrive\\genie_transfer\\almera2...</td>\n      <td>eur_g_p_xtraf/Spiked water Sample Code 03C XtR...</td>\n    </tr>\n    <tr>\n      <th>16</th>\n      <td>C:\\Users\\marce\\OwnDrive\\genie_transfer\\almera2...</td>\n      <td>eur_g_p_xtraf/Spiked water Sample code QCA det...</td>\n    </tr>\n    <tr>\n      <th>17</th>\n      <td>C:\\Users\\marce\\OwnDrive\\genie_transfer\\almera2...</td>\n      <td>eur_g_p_xtraf/Spiked water Sample Code QCB Det...</td>\n    </tr>\n    <tr>\n      <th>18</th>\n      <td>C:\\Users\\marce\\OwnDrive\\genie_transfer\\almera2...</td>\n      <td>eur_g_p_xtraf/Spiked water Sample Code QCB Det...</td>\n    </tr>\n    <tr>\n      <th>19</th>\n      <td>C:\\Users\\marce\\OwnDrive\\genie_transfer\\almera2...</td>\n      <td>eur_g_p_xtraf/Spiked water Sample Code QCB Det...</td>\n    </tr>\n    <tr>\n      <th>20</th>\n      <td>C:\\Users\\marce\\OwnDrive\\genie_transfer\\almera2...</td>\n      <td>eur_g_p_xtraf/Spiked water Sample Code QCC Det...</td>\n    </tr>\n    <tr>\n      <th>21</th>\n      <td>C:\\Users\\marce\\OwnDrive\\genie_transfer\\almera2...</td>\n      <td>IAEA-TERC-2022/pt2022_spectrum_exercise/PT2022...</td>\n    </tr>\n    <tr>\n      <th>22</th>\n      <td>C:\\Users\\marce\\OwnDrive\\genie_transfer\\almera2...</td>\n      <td>IAEA-TERC-2022/pt2022_spectrum_exercise/PT2022...</td>\n    </tr>\n    <tr>\n      <th>23</th>\n      <td>C:\\Users\\marce\\OwnDrive\\genie_transfer\\almera2...</td>\n      <td>IAEA-TERC-2022/pt2022_spectrum_exercise/PT2022...</td>\n    </tr>\n    <tr>\n      <th>24</th>\n      <td>C:\\Users\\marce\\OwnDrive\\genie_transfer\\almera2...</td>\n      <td>IAEA-TERC-2022/pt2022_spectrum_exercise/PT2022...</td>\n    </tr>\n    <tr>\n      <th>25</th>\n      <td>C:\\Users\\marce\\OwnDrive\\genie_transfer\\almera2...</td>\n      <td>IAEA-TERC-2022/pt2022_spectrum_exercise/PT2022...</td>\n    </tr>\n    <tr>\n      <th>26</th>\n      <td>C:\\Users\\marce\\OwnDrive\\genie_transfer\\almera2...</td>\n      <td>user2023/GIG/CRM_5A.Chn</td>\n    </tr>\n    <tr>\n      <th>27</th>\n      <td>C:\\Users\\marce\\OwnDrive\\genie_transfer\\almera2...</td>\n      <td>user2023/GIG/CRM_7.Chn</td>\n    </tr>\n    <tr>\n      <th>28</th>\n      <td>C:\\Users\\marce\\OwnDrive\\genie_transfer\\almera2...</td>\n      <td>user2023/IAEA2022/IAEA-TERC-2022-01_02;SampleC...</td>\n    </tr>\n    <tr>\n      <th>29</th>\n      <td>C:\\Users\\marce\\OwnDrive\\genie_transfer\\almera2...</td>\n      <td>user2023/IAEA2022/Sample Code 03B Pop top.Chn</td>\n    </tr>\n    <tr>\n      <th>30</th>\n      <td>C:\\Users\\marce\\OwnDrive\\genie_transfer\\almera2...</td>\n      <td>user2023/IAEA2022/Sample Code QCA Pop top.Chn</td>\n    </tr>\n    <tr>\n      <th>31</th>\n      <td>C:\\Users\\marce\\OwnDrive\\genie_transfer\\almera2...</td>\n      <td>user2023/IAEA2022/Sample Code QCC Pop top.Chn</td>\n    </tr>\n    <tr>\n      <th>32</th>\n      <td>C:\\Users\\marce\\OwnDrive\\genie_transfer\\almera2...</td>\n      <td>IAEA-TERC-2022/pt2022_spectrum_exercise/PT2022...</td>\n    </tr>\n    <tr>\n      <th>33</th>\n      <td>C:\\Users\\marce\\OwnDrive\\genie_transfer\\almera2...</td>\n      <td>IAEA-TERC-2022/pt2022_spectrum_exercise/PT2022...</td>\n    </tr>\n    <tr>\n      <th>34</th>\n      <td>C:\\Users\\marce\\OwnDrive\\genie_transfer\\almera2...</td>\n      <td>IAEA-TERC-2022/pt2022_spectrum_exercise/PT2022...</td>\n    </tr>\n    <tr>\n      <th>35</th>\n      <td>C:\\Users\\marce\\OwnDrive\\genie_transfer\\almera2...</td>\n      <td>IAEA-TERC-2022/pt2022_spectrum_exercise/PT2022...</td>\n    </tr>\n    <tr>\n      <th>36</th>\n      <td>C:\\Users\\marce\\OwnDrive\\genie_transfer\\almera2...</td>\n      <td>VERIFICAR_TEMPO_CONTAGEM/IAEA-TERC-2022-01-02/...</td>\n    </tr>\n    <tr>\n      <th>37</th>\n      <td>C:\\Users\\marce\\OwnDrive\\genie_transfer\\almera2...</td>\n      <td>VERIFICAR_TEMPO_CONTAGEM/IAEA-TERC-2022-01-02/...</td>\n    </tr>\n    <tr>\n      <th>38</th>\n      <td>C:\\Users\\marce\\OwnDrive\\genie_transfer\\almera2...</td>\n      <td>VERIFICAR_TEMPO_CONTAGEM/IAEA-TERC-2022-01-02/...</td>\n    </tr>\n    <tr>\n      <th>39</th>\n      <td>C:\\Users\\marce\\OwnDrive\\genie_transfer\\almera2...</td>\n      <td>VERIFICAR_TEMPO_CONTAGEM/IAEA-TERC-2022-01-02/...</td>\n    </tr>\n    <tr>\n      <th>40</th>\n      <td>C:\\Users\\marce\\OwnDrive\\genie_transfer\\almera2...</td>\n      <td>VERIFICAR_TEMPO_CONTAGEM/IAEA-TERC-2022-01-02/...</td>\n    </tr>\n    <tr>\n      <th>41</th>\n      <td>C:\\Users\\marce\\OwnDrive\\genie_transfer\\almera2...</td>\n      <td>VERIFICAR_TEMPO_CONTAGEM/IAEA-TERC-2022-01-02/...</td>\n    </tr>\n    <tr>\n      <th>42</th>\n      <td>C:\\Users\\marce\\OwnDrive\\genie_transfer\\almera2...</td>\n      <td>VERIFICAR_TEMPO_CONTAGEM/IAEA-TERC-2022-01-02/...</td>\n    </tr>\n    <tr>\n      <th>43</th>\n      <td>C:\\Users\\marce\\OwnDrive\\genie_transfer\\almera2...</td>\n      <td>VERIFICAR_TEMPO_CONTAGEM/IAEA-TERC-2022-01-02/...</td>\n    </tr>\n    <tr>\n      <th>44</th>\n      <td>C:\\Users\\marce\\OwnDrive\\genie_transfer\\almera2...</td>\n      <td>VERIFICAR_TEMPO_CONTAGEM/IAEA-TERC-2022-01-02/...</td>\n    </tr>\n    <tr>\n      <th>45</th>\n      <td>C:\\Users\\marce\\OwnDrive\\genie_transfer\\almera2...</td>\n      <td>VERIFICAR_TEMPO_CONTAGEM/IAEA-TERC-2022-01-02/...</td>\n    </tr>\n    <tr>\n      <th>46</th>\n      <td>C:\\Users\\marce\\OwnDrive\\genie_transfer\\almera2...</td>\n      <td>xtra_proj/Sample Code 01A.IEC</td>\n    </tr>\n    <tr>\n      <th>47</th>\n      <td>C:\\Users\\marce\\OwnDrive\\genie_transfer\\almera2...</td>\n      <td>xtra_proj/Sample Code 01C.IEC</td>\n    </tr>\n    <tr>\n      <th>48</th>\n      <td>C:\\Users\\marce\\OwnDrive\\genie_transfer\\almera2...</td>\n      <td>xtra_proj/Sample Code 02A.IEC</td>\n    </tr>\n    <tr>\n      <th>49</th>\n      <td>C:\\Users\\marce\\OwnDrive\\genie_transfer\\almera2...</td>\n      <td>xtra_proj/Sample Code 02B.IEC</td>\n    </tr>\n    <tr>\n      <th>50</th>\n      <td>C:\\Users\\marce\\OwnDrive\\genie_transfer\\almera2...</td>\n      <td>xtra_proj/Sample Code 03A.IEC</td>\n    </tr>\n    <tr>\n      <th>51</th>\n      <td>C:\\Users\\marce\\OwnDrive\\genie_transfer\\almera2...</td>\n      <td>xtra_proj/Sample Code QCA.IEC</td>\n    </tr>\n    <tr>\n      <th>52</th>\n      <td>C:\\Users\\marce\\OwnDrive\\genie_transfer\\almera2...</td>\n      <td>xtra_proj/Sample Code QCB.IEC</td>\n    </tr>\n    <tr>\n      <th>53</th>\n      <td>C:\\Users\\marce\\OwnDrive\\genie_transfer\\almera2...</td>\n      <td>xtra_proj/Sample Code QCC.IEC</td>\n    </tr>\n  </tbody>\n</table>\n</div>"
     },
     "execution_count": 18,
     "metadata": {},
     "output_type": "execute_result"
    }
   ],
   "source": [
    "\n",
    "ogra.spectra_names_df"
   ],
   "metadata": {
    "collapsed": false,
    "ExecuteTime": {
     "end_time": "2024-03-19T21:08:38.186212Z",
     "start_time": "2024-03-19T21:08:38.163395Z"
    }
   },
   "id": "bd5011680e27460",
   "execution_count": 18
  },
  {
   "cell_type": "code",
   "outputs": [],
   "source": [
    "df = pd.read_csv('https://plotly.github.io/datasets/country_indicators.csv')"
   ],
   "metadata": {
    "collapsed": false,
    "ExecuteTime": {
     "end_time": "2024-03-19T21:06:24.941128Z",
     "start_time": "2024-03-19T21:06:22.709786Z"
    }
   },
   "id": "f47f5ec1081ff7bc",
   "execution_count": 6
  },
  {
   "cell_type": "code",
   "outputs": [
    {
     "data": {
      "text/plain": "      Country Name                                     Indicator Name  Year  \\\n0       Arab World                Agriculture, value added (% of GDP)  1962   \n1       Arab World             CO2 emissions (metric tons per capita)  1962   \n2       Arab World  Domestic credit provided by financial sector (...  1962   \n3       Arab World        Electric power consumption (kWh per capita)  1962   \n4       Arab World       Energy use (kg of oil equivalent per capita)  1962   \n...            ...                                                ...   ...   \n36955     Zimbabwe                   Industry, value added (% of GDP)  2007   \n36956     Zimbabwe                 Inflation, GDP deflator (annual %)  2007   \n36957     Zimbabwe            Life expectancy at birth, total (years)  2007   \n36958     Zimbabwe  Population density (people per sq. km of land ...  2007   \n36959     Zimbabwe             Services, etc., value added (% of GDP)  2007   \n\n           Value  \n0            NaN  \n1       0.760996  \n2      18.168690  \n3            NaN  \n4            NaN  \n...          ...  \n36955  33.074953  \n36956   0.894887  \n36957  44.177756  \n36958  34.374559  \n36959  45.327139  \n\n[36960 rows x 4 columns]",
      "text/html": "<div>\n<style scoped>\n    .dataframe tbody tr th:only-of-type {\n        vertical-align: middle;\n    }\n\n    .dataframe tbody tr th {\n        vertical-align: top;\n    }\n\n    .dataframe thead th {\n        text-align: right;\n    }\n</style>\n<table border=\"1\" class=\"dataframe\">\n  <thead>\n    <tr style=\"text-align: right;\">\n      <th></th>\n      <th>Country Name</th>\n      <th>Indicator Name</th>\n      <th>Year</th>\n      <th>Value</th>\n    </tr>\n  </thead>\n  <tbody>\n    <tr>\n      <th>0</th>\n      <td>Arab World</td>\n      <td>Agriculture, value added (% of GDP)</td>\n      <td>1962</td>\n      <td>NaN</td>\n    </tr>\n    <tr>\n      <th>1</th>\n      <td>Arab World</td>\n      <td>CO2 emissions (metric tons per capita)</td>\n      <td>1962</td>\n      <td>0.760996</td>\n    </tr>\n    <tr>\n      <th>2</th>\n      <td>Arab World</td>\n      <td>Domestic credit provided by financial sector (...</td>\n      <td>1962</td>\n      <td>18.168690</td>\n    </tr>\n    <tr>\n      <th>3</th>\n      <td>Arab World</td>\n      <td>Electric power consumption (kWh per capita)</td>\n      <td>1962</td>\n      <td>NaN</td>\n    </tr>\n    <tr>\n      <th>4</th>\n      <td>Arab World</td>\n      <td>Energy use (kg of oil equivalent per capita)</td>\n      <td>1962</td>\n      <td>NaN</td>\n    </tr>\n    <tr>\n      <th>...</th>\n      <td>...</td>\n      <td>...</td>\n      <td>...</td>\n      <td>...</td>\n    </tr>\n    <tr>\n      <th>36955</th>\n      <td>Zimbabwe</td>\n      <td>Industry, value added (% of GDP)</td>\n      <td>2007</td>\n      <td>33.074953</td>\n    </tr>\n    <tr>\n      <th>36956</th>\n      <td>Zimbabwe</td>\n      <td>Inflation, GDP deflator (annual %)</td>\n      <td>2007</td>\n      <td>0.894887</td>\n    </tr>\n    <tr>\n      <th>36957</th>\n      <td>Zimbabwe</td>\n      <td>Life expectancy at birth, total (years)</td>\n      <td>2007</td>\n      <td>44.177756</td>\n    </tr>\n    <tr>\n      <th>36958</th>\n      <td>Zimbabwe</td>\n      <td>Population density (people per sq. km of land ...</td>\n      <td>2007</td>\n      <td>34.374559</td>\n    </tr>\n    <tr>\n      <th>36959</th>\n      <td>Zimbabwe</td>\n      <td>Services, etc., value added (% of GDP)</td>\n      <td>2007</td>\n      <td>45.327139</td>\n    </tr>\n  </tbody>\n</table>\n<p>36960 rows × 4 columns</p>\n</div>"
     },
     "execution_count": 7,
     "metadata": {},
     "output_type": "execute_result"
    }
   ],
   "source": [
    "df"
   ],
   "metadata": {
    "collapsed": false,
    "ExecuteTime": {
     "end_time": "2024-03-19T21:06:24.956549Z",
     "start_time": "2024-03-19T21:06:24.943474Z"
    }
   },
   "id": "48845c4be3936a69",
   "execution_count": 7
  },
  {
   "cell_type": "code",
   "outputs": [],
   "source": [
    "import time"
   ],
   "metadata": {
    "collapsed": false,
    "ExecuteTime": {
     "end_time": "2024-03-19T21:06:27.288476Z",
     "start_time": "2024-03-19T21:06:27.279850Z"
    }
   },
   "id": "63266ad5c7562b94",
   "execution_count": 8
  },
  {
   "cell_type": "code",
   "outputs": [
    {
     "data": {
      "text/plain": "4e-07"
     },
     "execution_count": 9,
     "metadata": {},
     "output_type": "execute_result"
    }
   ],
   "source": [
    "time.perf_counter()"
   ],
   "metadata": {
    "collapsed": false,
    "ExecuteTime": {
     "end_time": "2024-03-19T21:06:28.426763Z",
     "start_time": "2024-03-19T21:06:28.408617Z"
    }
   },
   "id": "759d54968e803029",
   "execution_count": 9
  },
  {
   "cell_type": "code",
   "outputs": [
    {
     "data": {
      "text/plain": "0                                     det_c/iaeaqcb.chn\n1                                     det_c/iaeaqcc.chn\n2                                    det_c/IAEASW1B.chn\n3                                     det_c/iaeaw2a.chn\n4     eur_g_p_xtraf/Spiked water Sample Code 01A  De...\n5     eur_g_p_xtraf/Spiked water Sample Code 01A  De...\n6     eur_g_p_xtraf/Spiked water Sample Code 01B Det...\n7     eur_g_p_xtraf/Spiked water Sample Code 01B XtR...\n8     eur_g_p_xtraf/Spiked water Sample Code 01C Eur...\n9     eur_g_p_xtraf/Spiked water Sample Code 02A  De...\n10    eur_g_p_xtraf/Spiked water Sample Code 02A  Eu...\n11    eur_g_p_xtraf/Spiked water Sample Code 02C Det...\n12    eur_g_p_xtraf/Spiked water Sample code 03A Det...\n13    eur_g_p_xtraf/Spiked water Sample Code 03B Det...\n14    eur_g_p_xtraf/Spiked water Sample Code 03C Det...\n15    eur_g_p_xtraf/Spiked water Sample Code 03C XtR...\n16    eur_g_p_xtraf/Spiked water Sample code QCA det...\n17    eur_g_p_xtraf/Spiked water Sample Code QCB Det...\n18    eur_g_p_xtraf/Spiked water Sample Code QCB Det...\n19    eur_g_p_xtraf/Spiked water Sample Code QCB Det...\n20    eur_g_p_xtraf/Spiked water Sample Code QCC Det...\n21    IAEA-TERC-2022/pt2022_spectrum_exercise/PT2022...\n22    IAEA-TERC-2022/pt2022_spectrum_exercise/PT2022...\n23    IAEA-TERC-2022/pt2022_spectrum_exercise/PT2022...\n24    IAEA-TERC-2022/pt2022_spectrum_exercise/PT2022...\n25    IAEA-TERC-2022/pt2022_spectrum_exercise/PT2022...\n26                              user2023/GIG/CRM_5A.Chn\n27                               user2023/GIG/CRM_7.Chn\n28    user2023/IAEA2022/IAEA-TERC-2022-01_02;SampleC...\n29        user2023/IAEA2022/Sample Code 03B Pop top.Chn\n30        user2023/IAEA2022/Sample Code QCA Pop top.Chn\n31        user2023/IAEA2022/Sample Code QCC Pop top.Chn\n32    IAEA-TERC-2022/pt2022_spectrum_exercise/PT2022...\n33    IAEA-TERC-2022/pt2022_spectrum_exercise/PT2022...\n34    IAEA-TERC-2022/pt2022_spectrum_exercise/PT2022...\n35    IAEA-TERC-2022/pt2022_spectrum_exercise/PT2022...\n36    VERIFICAR_TEMPO_CONTAGEM/IAEA-TERC-2022-01-02/...\n37    VERIFICAR_TEMPO_CONTAGEM/IAEA-TERC-2022-01-02/...\n38    VERIFICAR_TEMPO_CONTAGEM/IAEA-TERC-2022-01-02/...\n39    VERIFICAR_TEMPO_CONTAGEM/IAEA-TERC-2022-01-02/...\n40    VERIFICAR_TEMPO_CONTAGEM/IAEA-TERC-2022-01-02/...\n41    VERIFICAR_TEMPO_CONTAGEM/IAEA-TERC-2022-01-02/...\n42    VERIFICAR_TEMPO_CONTAGEM/IAEA-TERC-2022-01-02/...\n43    VERIFICAR_TEMPO_CONTAGEM/IAEA-TERC-2022-01-02/...\n44    VERIFICAR_TEMPO_CONTAGEM/IAEA-TERC-2022-01-02/...\n45    VERIFICAR_TEMPO_CONTAGEM/IAEA-TERC-2022-01-02/...\n46                        xtra_proj/Sample Code 01A.IEC\n47                        xtra_proj/Sample Code 01C.IEC\n48                        xtra_proj/Sample Code 02A.IEC\n49                        xtra_proj/Sample Code 02B.IEC\n50                        xtra_proj/Sample Code 03A.IEC\n51                        xtra_proj/Sample Code QCA.IEC\n52                        xtra_proj/Sample Code QCB.IEC\n53                        xtra_proj/Sample Code QCC.IEC\nName: reduced_names_files_list, dtype: object"
     },
     "execution_count": 19,
     "metadata": {},
     "output_type": "execute_result"
    }
   ],
   "source": [
    "reduc_nms = ogra.spectra_names_df.reduced_names_files_list\n",
    "reduc_nms"
   ],
   "metadata": {
    "collapsed": false,
    "ExecuteTime": {
     "end_time": "2024-03-19T21:09:17.765404Z",
     "start_time": "2024-03-19T21:09:17.749443Z"
    }
   },
   "id": "5298b24a549d901a",
   "execution_count": 19
  },
  {
   "cell_type": "code",
   "outputs": [
    {
     "name": "stdout",
     "output_type": "stream",
     "text": [
      "det_c/iaeaqcb.chn\n",
      "det_c/iaeaqcc.chn\n",
      "det_c/IAEASW1B.chn\n",
      "det_c/iaeaw2a.chn\n",
      "eur_g_p_xtraf/Spiked water Sample Code 01A  Det G.Chn\n",
      "eur_g_p_xtraf/Spiked water Sample Code 01A  Det P.Chn\n",
      "eur_g_p_xtraf/Spiked water Sample Code 01B Det Eurisys.Chn\n",
      "eur_g_p_xtraf/Spiked water Sample Code 01B XtRa.Chn\n",
      "eur_g_p_xtraf/Spiked water Sample Code 01C Eurisys.Chn\n",
      "eur_g_p_xtraf/Spiked water Sample Code 02A  Det P.Chn\n",
      "eur_g_p_xtraf/Spiked water Sample Code 02A  Eurisusys.Chn\n",
      "eur_g_p_xtraf/Spiked water Sample Code 02C Det G.Chn\n",
      "eur_g_p_xtraf/Spiked water Sample code 03A Det P.Chn\n",
      "eur_g_p_xtraf/Spiked water Sample Code 03B Det G.Chn\n",
      "eur_g_p_xtraf/Spiked water Sample Code 03C Det Eurisys.Chn\n",
      "eur_g_p_xtraf/Spiked water Sample Code 03C XtRa.Chn\n",
      "eur_g_p_xtraf/Spiked water Sample code QCA det XtRa.Chn\n",
      "eur_g_p_xtraf/Spiked water Sample Code QCB Det Eurisys.Chn\n",
      "eur_g_p_xtraf/Spiked water Sample Code QCB Det G.Chn\n",
      "eur_g_p_xtraf/Spiked water Sample Code QCB Det XTRa.Chn\n",
      "eur_g_p_xtraf/Spiked water Sample Code QCC Det P.Chn\n",
      "IAEA-TERC-2022/pt2022_spectrum_exercise/PT2022_Spectrum_Exercise/PT2022-Calibration_Standard/Background-2017/BGR-BBE-17D.CHN\n",
      "IAEA-TERC-2022/pt2022_spectrum_exercise/PT2022_Spectrum_Exercise/PT2022-Calibration_Standard/BBE_NPL-A170584-D1/BBE_NPL-A170584-D1.CHN\n",
      "IAEA-TERC-2022/pt2022_spectrum_exercise/PT2022_Spectrum_Exercise/PT2022_Spectra/Background-2021/BGR-BBE-21D.CHN\n",
      "IAEA-TERC-2022/pt2022_spectrum_exercise/PT2022_Spectrum_Exercise/PT2022_Spectra/BBE22032_PT2022/BBE22032_PT2022.CHN\n",
      "IAEA-TERC-2022/pt2022_spectrum_exercise/PT2022_Spectrum_Exercise/PT2022_Spectra/BBE_P105_Blank/BBE_P105_Blank.CHN\n",
      "user2023/GIG/CRM_5A.Chn\n",
      "user2023/GIG/CRM_7.Chn\n",
      "user2023/IAEA2022/IAEA-TERC-2022-01_02;SampleCodeQCA-SpikedWater 100,70g (GMX).Chn\n",
      "user2023/IAEA2022/Sample Code 03B Pop top.Chn\n",
      "user2023/IAEA2022/Sample Code QCA Pop top.Chn\n",
      "user2023/IAEA2022/Sample Code QCC Pop top.Chn\n",
      "IAEA-TERC-2022/pt2022_spectrum_exercise/PT2022_Spectrum_Exercise/PT2022-Calibration_Standard/Background-2017/BGR-BBE-17D.IEC\n",
      "IAEA-TERC-2022/pt2022_spectrum_exercise/PT2022_Spectrum_Exercise/PT2022-Calibration_Standard/BBE_NPL-A170584-D1/BBE_NPL-A170584-D1.IEC\n",
      "IAEA-TERC-2022/pt2022_spectrum_exercise/PT2022_Spectrum_Exercise/PT2022_Spectra/Background-2021/BGR-BBE-21D.IEC\n",
      "IAEA-TERC-2022/pt2022_spectrum_exercise/PT2022_Spectrum_Exercise/PT2022_Spectra/BBE22032_PT2022/BBE22032_PT2022.IEC\n",
      "VERIFICAR_TEMPO_CONTAGEM/IAEA-TERC-2022-01-02/ERAPNI2011.IEC\n",
      "VERIFICAR_TEMPO_CONTAGEM/IAEA-TERC-2022-01-02/Sample Code 01A.IEC\n",
      "VERIFICAR_TEMPO_CONTAGEM/IAEA-TERC-2022-01-02/Sample Code 01C.IEC\n",
      "VERIFICAR_TEMPO_CONTAGEM/IAEA-TERC-2022-01-02/Sample Code 02A.IEC\n",
      "VERIFICAR_TEMPO_CONTAGEM/IAEA-TERC-2022-01-02/Sample Code 02B.IEC\n",
      "VERIFICAR_TEMPO_CONTAGEM/IAEA-TERC-2022-01-02/Sample Code 03A.IEC\n",
      "VERIFICAR_TEMPO_CONTAGEM/IAEA-TERC-2022-01-02/Sample Code QCA.IEC\n",
      "VERIFICAR_TEMPO_CONTAGEM/IAEA-TERC-2022-01-02/Sample Code QCB.IEC\n",
      "VERIFICAR_TEMPO_CONTAGEM/IAEA-TERC-2022-01-02/Sample Code QCC.IEC\n",
      "VERIFICAR_TEMPO_CONTAGEM/IAEA-TERC-2022-01-02/TERC22-Filter.IEC\n",
      "xtra_proj/Sample Code 01A.IEC\n",
      "xtra_proj/Sample Code 01C.IEC\n",
      "xtra_proj/Sample Code 02A.IEC\n",
      "xtra_proj/Sample Code 02B.IEC\n",
      "xtra_proj/Sample Code 03A.IEC\n",
      "xtra_proj/Sample Code QCA.IEC\n",
      "xtra_proj/Sample Code QCB.IEC\n",
      "xtra_proj/Sample Code QCC.IEC\n",
      "Elapsed:  0.5945070000000214\n"
     ]
    }
   ],
   "source": [
    "t0 = time.perf_counter()\n",
    "for i in range(len(reduc_nms)):\n",
    "    print(reduc_nms[i])\n",
    "    a_spec = Spec(reduc_nms[i], ogra.spectra_path, to_smooth=True, smooth_method='sav_gol')\n",
    "print('Elapsed: ', time.perf_counter()-t0)"
   ],
   "metadata": {
    "collapsed": false,
    "ExecuteTime": {
     "end_time": "2024-03-19T21:09:54.370775Z",
     "start_time": "2024-03-19T21:09:53.767538Z"
    }
   },
   "id": "f8ab4f2bd7caec26",
   "execution_count": 20
  },
  {
   "cell_type": "code",
   "outputs": [
    {
     "data": {
      "text/plain": "{'net_spec_ser_an': None,\n 'final_composed_baseline': None,\n 'reduced_f_name': 'xtra_proj/Sample Code QCC.IEC',\n 'sufx': '.iec',\n 'spec_io': None,\n 'lv_time': 150000.0,\n 'rl_time': 150246.6,\n 'source_datetime': 0,\n 'results_pkl_file': WindowsPath('.'),\n 'origin_spec_ser_an': <generic_series_analysis_class.GenericSeriesAnalysis at 0x22583e5ee80>,\n 'start_datetime': datetime.datetime(2022, 8, 10, 21, 3),\n 'det_descr': '',\n 'sam_descr': 'Spiked water; ma=100,58g; ; ',\n 'channel_energy_calib': <genericcalib_class.ChannelEnergyCalib at 0x22583e5ec50>,\n 'nucl_an': <nuclide_analysis_class.NuclideAnalysis at 0x22583e5e898>}"
     },
     "execution_count": 21,
     "metadata": {},
     "output_type": "execute_result"
    }
   ],
   "source": [
    "vars(a_spec)"
   ],
   "metadata": {
    "collapsed": false,
    "ExecuteTime": {
     "end_time": "2024-03-19T21:10:17.826525Z",
     "start_time": "2024-03-19T21:10:17.813484Z"
    }
   },
   "id": "819e16a5e716c548",
   "execution_count": 21
  },
  {
   "cell_type": "code",
   "outputs": [],
   "source": [
    "counts_graphic = CountsGraphic(ser_an=a_spec.origin_spec_ser_an,\n",
    "                               graph_name=a_spec.reduced_f_name,\n",
    "                               gen_html=True)"
   ],
   "metadata": {
    "collapsed": false,
    "ExecuteTime": {
     "end_time": "2024-03-19T21:10:21.080373Z",
     "start_time": "2024-03-19T21:10:20.263141Z"
    }
   },
   "id": "37c3b769dd5a8ab7",
   "execution_count": 22
  },
  {
   "cell_type": "code",
   "outputs": [],
   "source": [
    "a_spec.origin_spec_ser_an.resolve_peaks_and_regions()"
   ],
   "metadata": {
    "collapsed": false
   },
   "id": "5d110bb2b533b3e6",
   "execution_count": null
  },
  {
   "cell_type": "code",
   "outputs": [],
   "source": [
    "# 2024-Mar-5 PAREI AQUI: reformar resolve_peaks_and_regions; talvez haja alguma duplicidade internamente."
   ],
   "metadata": {
    "collapsed": false,
    "ExecuteTime": {
     "start_time": "2024-03-15T19:26:16.296264Z"
    }
   },
   "id": "9ce3002e62811021",
   "execution_count": null
  },
  {
   "cell_type": "code",
   "outputs": [],
   "source": [
    "# 2024-Mar-6 Começando a usar plotly com Dash"
   ],
   "metadata": {
    "collapsed": false,
    "ExecuteTime": {
     "start_time": "2024-03-15T19:26:16.297362Z"
    }
   },
   "id": "33f39a4a218287d4",
   "execution_count": null
  },
  {
   "cell_type": "code",
   "outputs": [],
   "source": [],
   "metadata": {
    "collapsed": false,
    "ExecuteTime": {
     "start_time": "2024-03-15T19:26:16.298446Z"
    }
   },
   "id": "7a6d8f778968a3d3",
   "execution_count": null
  },
  {
   "cell_type": "code",
   "outputs": [],
   "source": [],
   "metadata": {
    "collapsed": false,
    "ExecuteTime": {
     "start_time": "2024-03-15T19:26:16.299540Z"
    }
   },
   "id": "9281f0f5d2895927",
   "execution_count": null
  }
 ],
 "metadata": {
  "kernelspec": {
   "display_name": "Python 3",
   "language": "python",
   "name": "python3"
  },
  "language_info": {
   "codemirror_mode": {
    "name": "ipython",
    "version": 2
   },
   "file_extension": ".py",
   "mimetype": "text/x-python",
   "name": "python",
   "nbconvert_exporter": "python",
   "pygments_lexer": "ipython2",
   "version": "2.7.6"
  }
 },
 "nbformat": 4,
 "nbformat_minor": 5
}
