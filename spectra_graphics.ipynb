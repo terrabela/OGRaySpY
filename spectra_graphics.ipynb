{
 "cells": [
  {
   "cell_type": "code",
   "execution_count": null,
   "metadata": {},
   "outputs": [],
   "source": [
    "import numpy as np\n",
    "import pandas as pd\n",
    "from random import randrange\n",
    "# import matplotlib.pyplot as plt\n",
    "import plotly.graph_objects as go\n",
    "\n",
    "from ograyspy_class import Ograyspy, select_spectrum_from_folder_list\n",
    "from spec_class import Spec"
   ]
  },
  {
   "cell_type": "code",
   "execution_count": null,
   "outputs": [],
   "source": [
    "ogrs_res_pkl = '../ograyspy_results/Si/SI2022/SI06122_result.pkl'\n",
    "ogrs_res = pd.read_pickle(ogrs_res_pkl)\n",
    "ogrs_res"
   ],
   "metadata": {
    "collapsed": false
   }
  },
  {
   "cell_type": "code",
   "execution_count": null,
   "outputs": [],
   "source": [
    "sec_res_pkl = '../ograyspy_results/Si/SI2022/second_result.pkl'\n",
    "sec_res = pd.read_pickle(sec_res_pkl)\n",
    "sec_res"
   ],
   "metadata": {
    "collapsed": false
   }
  },
  {
   "cell_type": "code",
   "execution_count": null,
   "outputs": [],
   "source": [
    "trd_res_pkl = '../ograyspy_results/Si/SI2022/third_result.pkl'\n",
    "trd_res = pd.read_pickle(trd_res_pkl)\n",
    "trd_res"
   ],
   "metadata": {
    "collapsed": false
   }
  },
  {
   "cell_type": "code",
   "execution_count": null,
   "outputs": [],
   "source": [
    "final_res_pkl = '../ograyspy_results/Si/SI2022/SI06122_final.pkl'\n",
    "final_res = pd.read_pickle(final_res_pkl)\n",
    "final_res"
   ],
   "metadata": {
    "collapsed": false
   }
  },
  {
   "cell_type": "code",
   "execution_count": null,
   "outputs": [],
   "source": [
    "orig_ser = ogrs_res['origin_spec_ser_an'][0]\n",
    "vars(orig_ser)"
   ],
   "metadata": {
    "collapsed": false
   }
  },
  {
   "cell_type": "code",
   "execution_count": null,
   "outputs": [],
   "source": [
    "net_ser = ogrs_res['net_spec_ser_an'][0]\n",
    "vars(net_ser)"
   ],
   "metadata": {
    "collapsed": false
   }
  },
  {
   "cell_type": "code",
   "execution_count": null,
   "outputs": [],
   "source": [
    "# 2023-Jun-15\n",
    "# Ok! Espectro previamente gravado recuperado para plotar."
   ],
   "metadata": {
    "collapsed": false
   }
  },
  {
   "cell_type": "code",
   "execution_count": null,
   "metadata": {},
   "outputs": [],
   "source": [
    "x_nz = orig_ser.chans_nzero\n",
    "y_nz = orig_ser.counts_nzero"
   ]
  },
  {
   "cell_type": "code",
   "execution_count": null,
   "outputs": [],
   "source": [
    "sec_res"
   ],
   "metadata": {
    "collapsed": false
   }
  },
  {
   "cell_type": "code",
   "execution_count": null,
   "metadata": {},
   "outputs": [],
   "source": [
    "fig1pkl = go.Figure(data=go.Scattergl(\n",
    "    x=x_nz,\n",
    "    y=y_nz,\n",
    "    mode='markers'\n",
    "))\n",
    "    # marker=dict(\n",
    "    #     color=np.random.randn(N),\n",
    "    #     colorscale='Viridis',\n",
    "    #    line_width=0.1\n",
    "\n",
    "fig1pkl.update_layout(\n",
    "    width=900,\n",
    "    height=500,\n",
    "    margin=dict(l=10, r=10, t=30, b=10),\n",
    "    paper_bgcolor=\"LightSteelBlue\",\n",
    ")\n",
    "fig1pkl.write_html('/home/marcelofm/ograyspy_results/Si/SI2022/fig1pkl.html', auto_open=True)\n",
    "fig1pkl.show()"
   ]
  },
  {
   "cell_type": "code",
   "execution_count": null,
   "metadata": {},
   "outputs": [],
   "source": [
    "chans = net_ser.x_s\n",
    "ys_net_counts = net_ser.y_s\n",
    "peaks_net = net_ser.pk_parms.peaks\n",
    "peaks_1 = orig_ser.pk_parms.peaks\n",
    "counts = orig_ser.y_s\n",
    "chans_nzero = orig_ser.chans_nzero\n",
    "counts_nzero = orig_ser.counts_nzero\n",
    "unc_y = orig_ser.unc_y\n",
    "eval_y = orig_ser.y_smoothed\n",
    "eval_bl = orig_ser.eval_baseline\n",
    "fin_bl = orig_ser.final_baseline\n",
    "inis = orig_ser.pk_parms.propts['left_bases']\n",
    "fins = orig_ser.pk_parms.propts['right_bases']"
   ]
  },
  {
   "cell_type": "code",
   "execution_count": null,
   "outputs": [],
   "source": [],
   "metadata": {
    "collapsed": false
   }
  },
  {
   "cell_type": "code",
   "execution_count": null,
   "metadata": {},
   "outputs": [],
   "source": [
    "# Essa será a 1b\n",
    "figw1b = go.FigureWidget();\n",
    "\n",
    "# Add Traces\n",
    "\n",
    "figw1b.add_trace(\n",
    "    go.Scatter(x=chans_nzero,\n",
    "               y=counts_nzero,\n",
    "               error_y=dict(\n",
    "                   color='orange',width=3.0,\n",
    "                   type='data', # value of error bar given in data coordinates\n",
    "                   array=unc_y,\n",
    "                   visible=True),\n",
    "               name=\"Counts & uncertaintes\",\n",
    "               line=dict(color='orange',width=0.3)));"
   ]
  },
  {
   "cell_type": "code",
   "execution_count": null,
   "metadata": {},
   "outputs": [],
   "source": [
    "figw1b.add_trace(\n",
    "    go.Scatter(x=chans,\n",
    "               y=eval_y,\n",
    "               name=\"eval_y\",\n",
    "               line=dict(color='blue',width=0.5)));"
   ]
  },
  {
   "cell_type": "code",
   "execution_count": null,
   "metadata": {},
   "outputs": [],
   "source": [
    "figw1b.add_trace(\n",
    "    go.Scatter(x=chans,\n",
    "               y=eval_bl,\n",
    "               name='eval_bl',\n",
    "               line=dict(color='green',width=0.5)));"
   ]
  },
  {
   "cell_type": "code",
   "execution_count": null,
   "metadata": {},
   "outputs": [],
   "source": [
    "figw1b.add_trace(\n",
    "    go.Scatter(x=chans,\n",
    "               y=fin_bl,\n",
    "               name='fin_bl',\n",
    "               line=dict(color='red',width=0.5)));"
   ]
  },
  {
   "cell_type": "code",
   "execution_count": null,
   "metadata": {},
   "outputs": [],
   "source": [
    "figw1b.add_trace(\n",
    "    go.Scatter(x=peaks_1,\n",
    "               y=counts[peaks_1],\n",
    "               mode=\"markers\",\n",
    "               name=\"peaks\",\n",
    "               marker=dict(color='cyan',\n",
    "                           symbol='cross',\n",
    "                           size=20,\n",
    "                           opacity=0.5,\n",
    "                           line=dict(color='red', width=2.0)\n",
    "                          )\n",
    "              ));"
   ]
  },
  {
   "cell_type": "code",
   "execution_count": null,
   "metadata": {},
   "outputs": [],
   "source": [
    "figw1b.add_trace(\n",
    "    go.Scatter(x=peaks_net,\n",
    "               y=counts[peaks_net],\n",
    "               mode=\"markers\",\n",
    "               name=\"net peaks\",\n",
    "               marker=dict(color='red',\n",
    "                           symbol='circle',\n",
    "                           size=20,\n",
    "                           opacity=0.4,\n",
    "                           line=dict(color='green', width=2.0)\n",
    "                          )\n",
    "              ));\n",
    "\n",
    "\n",
    "# Set title and scale type\n",
    "figw1b.update_layout(title_text=\"Gamma-ray spectrum excerpt\")\n",
    "figw1b.update_yaxes(type=\"log\");\n",
    "\n",
    "# Melhor não abrir inline, que seria simplesmente entrar com o nome do objeto:\n",
    "# figw2\n",
    "# Além de ficar com visualização incômoda, não funciona no JupyterLab; dá o erro:\n",
    "# Error displaying widget: model not found."
   ]
  },
  {
   "cell_type": "code",
   "execution_count": null,
   "metadata": {},
   "outputs": [],
   "source": [
    "figw1b.add_trace(\n",
    "    go.Scatter(x=inis,\n",
    "               y=eval_y[inis],\n",
    "               mode=\"markers\",\n",
    "               name=\"inis\",\n",
    "               marker=dict(color='yellow',\n",
    "                           symbol='pentagon',\n",
    "                           size=10,\n",
    "                           opacity=1.0,\n",
    "                           line=dict(color='green', width=2.0)\n",
    "                          )\n",
    "              ));"
   ]
  },
  {
   "cell_type": "code",
   "execution_count": null,
   "metadata": {},
   "outputs": [],
   "source": [
    "figw1b.add_trace(\n",
    "    go.Scatter(x=fins,\n",
    "               y=eval_y[fins],\n",
    "               mode=\"markers\",\n",
    "               name=\"fins\",\n",
    "               marker=dict(color='cyan',\n",
    "                           symbol='star-triangle-down',\n",
    "                           size=10,\n",
    "                           opacity=1.0,\n",
    "                           line=dict(color='red', width=2.0)\n",
    "                          )\n",
    "              ));\n",
    "\n"
   ]
  },
  {
   "cell_type": "code",
   "execution_count": null,
   "metadata": {},
   "outputs": [],
   "source": [
    "figw1b.write_html('/home/marcelofm/ograyspy_results/Si/SI2022/figw1b.html', auto_open=True)"
   ]
  },
  {
   "cell_type": "code",
   "execution_count": null,
   "outputs": [],
   "source": [
    "counts_nzero.size"
   ],
   "metadata": {
    "collapsed": false
   }
  },
  {
   "cell_type": "code",
   "execution_count": null,
   "outputs": [],
   "source": [
    "lv_time = ogrs_res['lv_time'][0]"
   ],
   "metadata": {
    "collapsed": false
   }
  },
  {
   "cell_type": "code",
   "execution_count": null,
   "outputs": [],
   "source": [
    "# 2023-May-24\n",
    "# A seguir, um gráfico resumido e com escala em cps, para o utente.\n"
   ],
   "metadata": {
    "collapsed": false
   }
  },
  {
   "cell_type": "code",
   "execution_count": null,
   "outputs": [],
   "source": [
    "counts_nzero_cps = counts_nzero / lv_time\n",
    "unc_y_cps = unc_y / lv_time\n",
    "fin_bl_cps = fin_bl / lv_time\n",
    "counts_cps = counts / lv_time"
   ],
   "metadata": {
    "collapsed": false
   }
  },
  {
   "cell_type": "code",
   "execution_count": null,
   "outputs": [],
   "source": [
    "graf_cps = go.FigureWidget();\n",
    "# Add Traces\n",
    "graf_cps.add_trace(\n",
    "    go.Scatter(x=chans_nzero,\n",
    "               y=counts_nzero_cps,\n",
    "               error_y=dict(\n",
    "                   color='orange',width=3.0,\n",
    "                   type='data', # value of error bar given in data coordinates\n",
    "                   array=unc_y_cps,\n",
    "                   visible=True),\n",
    "               name=\"Counts & uncertaintes\",\n",
    "               line=dict(color='orange',width=0.3)));\n"
   ],
   "metadata": {
    "collapsed": false
   }
  },
  {
   "cell_type": "code",
   "execution_count": null,
   "outputs": [],
   "source": [
    "graf_cps.add_trace(\n",
    "    go.Scatter(x=chans,\n",
    "               y=fin_bl_cps,\n",
    "               name='fin_bl_cps',\n",
    "               line=dict(color='red',width=0.5)));"
   ],
   "metadata": {
    "collapsed": false
   }
  },
  {
   "cell_type": "code",
   "execution_count": null,
   "outputs": [],
   "source": [
    "graf_cps.add_trace(\n",
    "    go.Scatter(x=peaks_net,\n",
    "               y=counts_cps[peaks_net],\n",
    "               mode=\"markers\",\n",
    "               name=\"net peaks\",\n",
    "               marker=dict(color='red',\n",
    "                           symbol='circle',\n",
    "                           size=20,\n",
    "                           opacity=0.4,\n",
    "                           line=dict(color='green', width=2.0)\n",
    "                          )\n",
    "              ));\n",
    "# Set title and scale type\n",
    "graf_cps.update_layout(title_text='Gamma-ray spectrum: ')\n",
    "graf_cps.update_yaxes(type=\"log\");"
   ],
   "metadata": {
    "collapsed": false
   }
  },
  {
   "cell_type": "code",
   "execution_count": null,
   "outputs": [],
   "source": [
    "graf_cps.write_html('/home/marcelofm/ograyspy_results/Si/SI2022/graf_cps.html', auto_open=True)"
   ],
   "metadata": {
    "collapsed": false
   }
  },
  {
   "cell_type": "code",
   "execution_count": null,
   "outputs": [],
   "source": [],
   "metadata": {
    "collapsed": false
   }
  },
  {
   "cell_type": "code",
   "execution_count": null,
   "outputs": [],
   "source": [
    "# 2023-May-24\n",
    "# Implementing:\n",
    "#  - nuclide labels\n",
    "# https://plotly.com/python/text-and-annotations/\n",
    "#  - and energy search in pandas\n",
    "# https://stackoverflow.com/questions/63529555/get-list-of-occurrences-using-pandas"
   ],
   "metadata": {
    "collapsed": false
   }
  },
  {
   "cell_type": "code",
   "execution_count": null,
   "outputs": [],
   "source": [],
   "metadata": {
    "collapsed": false
   }
  },
  {
   "cell_type": "code",
   "execution_count": null,
   "outputs": [],
   "source": [
    "nuclide_labels = ['Ag-110m' for i in range(len(peaks_net_kev))]\n",
    "print(nuclide_labels)"
   ],
   "metadata": {
    "collapsed": false
   }
  },
  {
   "cell_type": "code",
   "execution_count": null,
   "outputs": [],
   "source": [],
   "metadata": {
    "collapsed": false
   }
  },
  {
   "cell_type": "code",
   "execution_count": null,
   "outputs": [],
   "source": [
    "trd_res.columns"
   ],
   "metadata": {
    "collapsed": false
   }
  },
  {
   "cell_type": "code",
   "execution_count": null,
   "outputs": [],
   "source": [],
   "metadata": {
    "collapsed": false
   }
  },
  {
   "cell_type": "code",
   "execution_count": null,
   "outputs": [],
   "source": [],
   "metadata": {
    "collapsed": false
   }
  },
  {
   "cell_type": "code",
   "execution_count": null,
   "outputs": [],
   "source": [],
   "metadata": {
    "collapsed": false
   }
  },
  {
   "cell_type": "code",
   "execution_count": null,
   "outputs": [],
   "source": [],
   "metadata": {
    "collapsed": false
   }
  },
  {
   "cell_type": "code",
   "execution_count": null,
   "outputs": [],
   "source": [],
   "metadata": {
    "collapsed": false
   }
  },
  {
   "cell_type": "code",
   "execution_count": null,
   "outputs": [],
   "source": [],
   "metadata": {
    "collapsed": false
   }
  },
  {
   "cell_type": "code",
   "execution_count": null,
   "outputs": [],
   "source": [
    "stoppingagain"
   ],
   "metadata": {
    "collapsed": false
   }
  },
  {
   "cell_type": "code",
   "execution_count": null,
   "outputs": [],
   "source": [
    "# the service URL\n",
    "livechart = \"https://nds.iaea.org/relnsd/v0/data?\""
   ],
   "metadata": {
    "collapsed": false
   }
  },
  {
   "cell_type": "code",
   "execution_count": null,
   "outputs": [],
   "source": [
    "import urllib.request\n",
    "\n",
    "def lc_read_csv(url):\n",
    "    req = urllib.request.Request(url)\n",
    "    req.add_header('User-Agent', 'Mozilla/5.0 (X11; Ubuntu; Linux x86_64; rv:77.0) Gecko/20100101 Firefox/77.0')\n",
    "    return pd.read_csv(urllib.request.urlopen(req))"
   ],
   "metadata": {
    "collapsed": false
   }
  },
  {
   "cell_type": "code",
   "execution_count": null,
   "outputs": [],
   "source": [
    "# load data into a dataframe\n",
    "\n",
    "# this loading might not work, then use the line below\n",
    "# df = pd.read_csv(livechart + \"fields=decay_rads&nuclides=241am&rad_types=g\")\n",
    "df_ag110m = lc_read_csv(livechart + \"fields=decay_rads&nuclides=110ag&rad_types=g\")\n",
    "\n",
    "df_ag110m = df_ag110m[pd.to_numeric(df_ag110m['intensity'],errors='coerce').notna()]\n",
    "# remove blanks (unknown intensities)\n",
    "\n",
    "df_ag110m.intensity = df_ag110m['intensity'].astype(float)\n",
    "# convert to numeric. Note how one can specify the field by attribute or by string\n"
   ],
   "metadata": {
    "collapsed": false
   }
  },
  {
   "cell_type": "code",
   "execution_count": null,
   "outputs": [],
   "source": [],
   "metadata": {
    "collapsed": false
   }
  },
  {
   "cell_type": "code",
   "execution_count": null,
   "outputs": [],
   "source": [
    "# 2023-May-26\n",
    "# Load data into a dataframe, related to nuclides in a custom list\n",
    "nucl_iear1_list = ['24na','51cr','54mn','58co','60co','65zn','103ru','110ag','131i','132te',\n",
    "                   '137cs','140ba','140la','187w','239np']\n",
    "for nucl in nucl_iear1_list:\n",
    "    df = lc_read_csv(livechart + \"fields=decay_rads&nuclides=\" + nucl + \"&rad_types=g\")\n",
    "    df = df[pd.to_numeric(df['intensity'],errors='coerce').notna()]\n",
    "    df.intensity = df['intensity'].astype(float)"
   ],
   "metadata": {
    "collapsed": false
   }
  },
  {
   "cell_type": "code",
   "execution_count": null,
   "outputs": [],
   "source": [],
   "metadata": {
    "collapsed": false
   }
  },
  {
   "cell_type": "code",
   "execution_count": null,
   "outputs": [],
   "source": [],
   "metadata": {
    "collapsed": false
   }
  },
  {
   "cell_type": "code",
   "execution_count": null,
   "outputs": [],
   "source": [
    "df_ag110m"
   ],
   "metadata": {
    "collapsed": false
   }
  },
  {
   "cell_type": "code",
   "execution_count": null,
   "outputs": [],
   "source": [
    "df_k40 = lc_read_csv(livechart + \"fields=decay_rads&nuclides=40k&rad_types=g\")\n",
    "df_k40 = df_k40[pd.to_numeric(df_k40['intensity'],errors='coerce').notna()]\n",
    "df_k40.intensity = df_k40['intensity'].astype(float)"
   ],
   "metadata": {
    "collapsed": false
   }
  },
  {
   "cell_type": "code",
   "execution_count": null,
   "outputs": [],
   "source": [
    "df_k40"
   ],
   "metadata": {
    "collapsed": false
   }
  },
  {
   "cell_type": "code",
   "execution_count": null,
   "outputs": [],
   "source": [],
   "metadata": {
    "collapsed": false
   }
  },
  {
   "cell_type": "code",
   "execution_count": null,
   "outputs": [],
   "source": [],
   "metadata": {
    "collapsed": false
   }
  },
  {
   "cell_type": "code",
   "execution_count": null,
   "outputs": [],
   "source": [
    "# counts_nzero_cps = counts_nzero / a_spec.lv_time\n",
    "# unc_y_cps = unc_y / a_spec.lv_time\n",
    "# fin_bl_cps = fin_bl / a_spec.lv_time\n",
    "# counts_cps = counts / a_spec.lv_time\n",
    "en_kev_nzero = get_energy(chans_nzero)\n",
    "en_kev = get_energy(chans)\n",
    "peaks_net_kev = get_energy(peaks_net)"
   ],
   "metadata": {
    "collapsed": false
   }
  },
  {
   "cell_type": "code",
   "execution_count": null,
   "outputs": [],
   "source": [],
   "metadata": {
    "collapsed": false
   }
  },
  {
   "cell_type": "code",
   "execution_count": null,
   "outputs": [],
   "source": [
    "graf_cps_kev = go.FigureWidget();\n",
    "# Add Traces\n",
    "graf_cps_kev.add_trace(\n",
    "    go.Scatter(x=en_kev_nzero,\n",
    "               y=counts_nzero_cps,\n",
    "               error_y=dict(\n",
    "                   color='orange',width=3.0,\n",
    "                   type='data', # value of error bar given in data coordinates\n",
    "                   array=unc_y_cps,\n",
    "                   visible=True),\n",
    "               name=\"Counts & uncertaintes\",\n",
    "               line=dict(color='orange',width=0.3)));\n"
   ],
   "metadata": {
    "collapsed": false
   }
  },
  {
   "cell_type": "code",
   "execution_count": null,
   "outputs": [],
   "source": [
    "graf_cps_kev.add_trace(\n",
    "    go.Scatter(x=en_kev,\n",
    "               y=fin_bl_cps,\n",
    "               name='fin_bl_cps',\n",
    "               line=dict(color='red',width=0.5)));"
   ],
   "metadata": {
    "collapsed": false
   }
  },
  {
   "cell_type": "code",
   "execution_count": null,
   "outputs": [],
   "source": [
    "# 2023-May-24: plot net peaks and nuclide labels.\n",
    "\n",
    "graf_cps_kev.add_trace(\n",
    "    go.Scatter(x=peaks_net_kev,\n",
    "               y=counts_cps[peaks_net],\n",
    "               mode=\"markers+text\",\n",
    "               name=\"net peaks\",\n",
    "               marker=dict(color='red',\n",
    "                           symbol='circle',\n",
    "                           size=20,\n",
    "                           opacity=0.4,\n",
    "                           line=dict(color='green', width=2.0)\n",
    "                          ),\n",
    "               text=nuclide_labels,\n",
    "               textposition=\"top center\"\n",
    "              ));\n",
    "# Set title and scale type\n",
    "graf_cps_kev.update_layout(title_text='Gamma-ray spectrum: ')\n",
    "graf_cps_kev.update_yaxes(type=\"log\");"
   ],
   "metadata": {
    "collapsed": false
   }
  },
  {
   "cell_type": "code",
   "execution_count": null,
   "outputs": [],
   "source": [
    "graf_cps_kev.write_html('graf_cps_kev.html', auto_open=True)"
   ],
   "metadata": {
    "collapsed": false
   }
  },
  {
   "cell_type": "code",
   "execution_count": null,
   "outputs": [],
   "source": [],
   "metadata": {
    "collapsed": false
   }
  },
  {
   "cell_type": "code",
   "execution_count": null,
   "outputs": [],
   "source": [
    "# 2023-May-24 PAREI AQUI"
   ],
   "metadata": {
    "collapsed": false
   }
  },
  {
   "cell_type": "code",
   "execution_count": null,
   "outputs": [],
   "source": [
    "figw1b.add_trace(\n",
    "    go.Scatter(x=xs_step_bline,\n",
    "               y=ys_step_bline,\n",
    "               name=\"Step baseline\",\n",
    "               line=dict(color='navy',width=0.4)));\n"
   ],
   "metadata": {
    "collapsed": false
   }
  },
  {
   "cell_type": "code",
   "execution_count": null,
   "metadata": {},
   "outputs": [],
   "source": []
  },
  {
   "cell_type": "code",
   "execution_count": null,
   "metadata": {},
   "outputs": [],
   "source": [
    "# Figure 3: Espectro líquido\n",
    "figw3 = go.FigureWidget();\n",
    "figw3.add_trace(\n",
    "    go.Scatter(x=chans,\n",
    "               y=ys_net_counts,\n",
    "               name=\"Net counts\",\n",
    "               line=dict(color='green',width=0.5)));\n",
    "figw3.add_trace(\n",
    "    go.Scatter(x=peaks_net,\n",
    "               y=ys_net_counts[peaks_net],\n",
    "               mode=\"markers\",\n",
    "               name=\"net peaks\",\n",
    "               marker=dict(color='cyan',\n",
    "                           symbol='cross',\n",
    "                           size=15,\n",
    "                           opacity=0.7,\n",
    "                           line=dict(color='magenta', width=2.0)\n",
    "                          )\n",
    "              ));\n",
    "figw3.add_trace(\n",
    "    go.Scatter(x=peaks_1,\n",
    "               y=counts[peaks_1],\n",
    "               mode=\"markers\",\n",
    "               name=\"gross peaks\",\n",
    "               marker=dict(color='lightblue',\n",
    "                           symbol='cross',\n",
    "                           size=15,\n",
    "                           opacity=0.7,\n",
    "                           line=dict(color='green', width=2.0)\n",
    "                          )\n",
    "              ));\n",
    "# Set title and scale type\n",
    "figw3.update_layout(title_text=\"Gamma-ray net spectrum\")\n",
    "figw3.update_yaxes(type=\"log\");\n",
    "figw3.write_html('figw3.html', auto_open=True)"
   ]
  },
  {
   "cell_type": "code",
   "execution_count": null,
   "metadata": {},
   "outputs": [],
   "source": [
    "# Escolha do que plotar:\n",
    "# y_plot = noisy_y\n",
    "# y_plot = var_win\n",
    "# y_plot = var_rel"
   ]
  },
  {
   "cell_type": "code",
   "execution_count": null,
   "outputs": [],
   "source": [
    "# https://stackoverflow.com/questions/63529555"
   ],
   "metadata": {
    "collapsed": false
   }
  },
  {
   "cell_type": "code",
   "execution_count": null,
   "outputs": [],
   "source": [
    "animals = ['cat', 'dog', 'hamster', 'dolphin']"
   ],
   "metadata": {
    "collapsed": false
   }
  },
  {
   "cell_type": "code",
   "execution_count": null,
   "outputs": [],
   "source": [
    "df_animals_sets = pd.DataFrame(data={\n",
    "    'id': [1,2,3,4,5],\n",
    "    'animals': ['dog,cat','dog','cat,dolphin','cat,dog','hamster,dolphin']\n",
    "})\n",
    "df_animals_sets"
   ],
   "metadata": {
    "collapsed": false
   }
  },
  {
   "cell_type": "code",
   "execution_count": null,
   "outputs": [],
   "source": [
    "df = df_animals_sets\n",
    "df_final = (df.astype(str).assign(animals=df.animals.str.split(','))\n",
    "                          .explode('animals').groupby('animals').id.agg(','.join)\n",
    "                          .reset_index())\n",
    "df_final"
   ],
   "metadata": {
    "collapsed": false
   }
  },
  {
   "cell_type": "code",
   "execution_count": null,
   "outputs": [],
   "source": [
    "peaks_net_kev"
   ],
   "metadata": {
    "collapsed": false
   }
  },
  {
   "cell_type": "code",
   "execution_count": null,
   "outputs": [],
   "source": [
    "df = df_ag110m\n",
    "df1 = df.loc[df.intensity>5].loc[df.energy>40].loc[df.half_life>200]\n",
    "df1"
   ],
   "metadata": {
    "collapsed": false
   }
  },
  {
   "cell_type": "code",
   "execution_count": null,
   "outputs": [],
   "source": [],
   "metadata": {
    "collapsed": false
   }
  },
  {
   "cell_type": "code",
   "execution_count": null,
   "outputs": [],
   "source": [],
   "metadata": {
    "collapsed": false
   }
  },
  {
   "cell_type": "code",
   "execution_count": null,
   "outputs": [],
   "source": [
    "# The end"
   ],
   "metadata": {
    "collapsed": false
   }
  },
  {
   "cell_type": "code",
   "execution_count": null,
   "outputs": [],
   "source": [],
   "metadata": {
    "collapsed": false
   }
  }
 ],
 "metadata": {
  "kernelspec": {
   "display_name": "Python 3 (ipykernel)",
   "language": "python",
   "name": "python3"
  },
  "language_info": {
   "codemirror_mode": {
    "name": "ipython",
    "version": 3
   },
   "file_extension": ".py",
   "mimetype": "text/x-python",
   "name": "python",
   "nbconvert_exporter": "python",
   "pygments_lexer": "ipython3",
   "version": "3.11.2"
  }
 },
 "nbformat": 4,
 "nbformat_minor": 1
}
