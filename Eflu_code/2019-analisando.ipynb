{
 "cells": [
  {
   "cell_type": "code",
   "execution_count": 1,
   "metadata": {},
   "outputs": [],
   "source": [
    "# -*- coding: utf-8 -*-\n",
    "\"\"\"\n",
    "Created on Sat Jun  2 11:09:55 2018\n",
    "\n",
    "@author: Marcelo\n",
    "\"\"\"\n",
    "\n",
    "import numpy as np\n",
    "# 2019-03-15\n",
    "# https://pandas.pydata.org/pandas-docs/stable/getting_started/10min.html\n",
    "import pandas as pd\n",
    "# 2019-03-09\n",
    "from teste_datas import (Spec)\n",
    "from scipy.signal import (cwt, ricker, find_peaks, find_peaks_cwt, peak_widths)\n",
    "from scipy.optimize import (curve_fit, root)\n",
    "from scipy.stats import (iqr)\n",
    "import base_line_funcs as blf\n",
    "import spectra_regions_funcs as spreg\n",
    "\n",
    "# from spectra_regions_funcs import (total_analysis2)\n",
    "import csv\n",
    "import pickle\n",
    "from bokeh.plotting import figure, output_file, output_notebook, show\n",
    "from bokeh import palettes"
   ]
  },
  {
   "cell_type": "code",
   "execution_count": 2,
   "metadata": {},
   "outputs": [],
   "source": [
    "def save_obj(obj, name ):\n",
    "    with open('obj/'+ name + '.pkl', 'wb') as f:\n",
    "        pickle.dump(obj, f, pickle.HIGHEST_PROTOCOL)\n",
    "\n",
    "def load_obj(name ):\n",
    "    with open('obj/' + name + '.pkl', 'rb') as f:\n",
    "        return pickle.load(f)"
   ]
  },
  {
   "cell_type": "code",
   "execution_count": 3,
   "metadata": {},
   "outputs": [
    {
     "name": "stdout",
     "output_type": "stream",
     "text": [
      "b'\\xff\\xff\\x03\\x00\\x01\\x0010(\\xf0\\x03\\x00\\x90\\xd0\\x03\\x0029Jun1710919\\x00\\x00\\x00\\x10'\n",
      "258088\n",
      "250000\n",
      "4096\n",
      "[0 0 0 ... 0 0 0]\n"
     ]
    }
   ],
   "source": [
    "# example 1:\n",
    "# fn1 = r'../ipen/Relat_Eflu-gasosos_2018/Filtros/2018/CTP/CTP0706.Chn'\n",
    "# 2019-03-04:\n",
    "fn1 = r'../gamma/spectra/Filtros/2017/CTP/CTP2906.Chn'\n",
    "chunksize = 32\n",
    "with open(fn1, 'rb') as f:\n",
    "    chunksize = 32\n",
    "    chu1 = f.read(chunksize)\n",
    "    lngtdt = np.frombuffer(chu1[30:32], dtype='u2')[0]\n",
    "    chunksize = 4 * lngtdt\n",
    "    chu2 = f.read(chunksize)\n",
    "print(chu1)\n",
    "rltime, lvtime = np.frombuffer(chu1[8:16], dtype='<u4')\n",
    "print(rltime)\n",
    "print(lvtime)\n",
    "print(lngtdt)\n",
    "counts = np.frombuffer(chu2, dtype='<u4')\n",
    "print(counts)\n",
    "\n",
    "# zz = np.dtype('uint32', yy)\n",
    "# zz = int(yy)\n",
    "# zz\n",
    "              \n",
    "# for b in bytes_from_file('../ipen/Relat_Eflu-gasosos_2018/Filtros/2018/CTP/CTP0706.Chn'):\n",
    "#    # print(b)\n",
    "#    a=1\n",
    "#type(b)"
   ]
  },
  {
   "cell_type": "code",
   "execution_count": null,
   "metadata": {},
   "outputs": [],
   "source": []
  },
  {
   "cell_type": "code",
   "execution_count": null,
   "metadata": {},
   "outputs": [],
   "source": []
  },
  {
   "cell_type": "code",
   "execution_count": 4,
   "metadata": {},
   "outputs": [
    {
     "name": "stdout",
     "output_type": "stream",
     "text": [
      "8192\n"
     ]
    }
   ],
   "source": [
    "fn2 = '../gamma/spectra/ALMERA-2017-3/ALM-17-3-#5_PreliA.IEC'\n",
    "spec2 = Spec()\n",
    "if spec2.readSp( fn2 ) >= 0:\n",
    "    print (spec2.spLngData)"
   ]
  },
  {
   "cell_type": "code",
   "execution_count": 15,
   "metadata": {},
   "outputs": [
    {
     "name": "stderr",
     "output_type": "stream",
     "text": [
      "/home/maduar/anaconda3/lib/python3.7/site-packages/scipy/stats/stats.py:1713: FutureWarning: Using a non-tuple sequence for multidimensional indexing is deprecated; use `arr[tuple(seq)]` instead of `arr[seq]`. In the future this will be interpreted as an array index, `arr[np.array(seq)]`, which will result either in an error or a different result.\n",
      "  return np.add.reduce(sorted[indexer] * weights, axis=axis) / sumval\n"
     ]
    },
    {
     "name": "stdout",
     "output_type": "stream",
     "text": [
      "(array([ 108,  134,  237,  271,  380,  385,  392,  403,  443,  450,  456,\n",
      "        706,  793,  934,  944,  958,  968,  995, 1189, 1209, 1226, 1311,\n",
      "       1392, 1495, 1727, 1782, 1959, 1969, 1998, 2007, 2010, 2056, 2086,\n",
      "       2093, 2146, 2243, 2304, 2317, 2339, 2401, 2418, 2434, 2468, 2586,\n",
      "       2614, 2767, 2780, 2798, 2882, 2939, 2952, 2955, 3035, 3086, 3126,\n",
      "       3370, 3373, 3523, 3541, 3568, 3572, 3616, 3629, 3646, 3674, 3684,\n",
      "       3699, 3891, 3922, 3980, 3994, 4016, 4084, 4159, 4162, 4183, 4210,\n",
      "       4250, 4309, 4379, 4479, 4484, 4505, 4509, 4516, 4550, 4573, 4659,\n",
      "       4701, 4731, 4736, 4782, 4885, 4906, 4960, 4975, 5093, 5097, 5112,\n",
      "       5129, 5170, 5305, 5603, 5647, 5675, 5682, 5744, 5795, 5852, 5855,\n",
      "       5857, 5894, 5914, 5931, 5937, 5941, 6153, 6186, 6266, 6273, 6351,\n",
      "       6380, 6488, 6491, 6493, 6589, 6702, 6706, 6809, 6843, 6927, 6979,\n",
      "       6982, 7020, 7101, 7104, 7130, 7134, 7138, 7154, 7198, 7295, 7348,\n",
      "       7372, 7403, 7412, 7463, 7501, 7567, 7598, 7645, 7649, 7794, 7808,\n",
      "       7813, 7824, 7924, 7992, 8023, 8027, 8079, 8134, 8190]), [[95, 147], [224, 250], [258, 284], [367, 416], [430, 469], [693, 719], [780, 806], [921, 1008], [1176, 1239], [1298, 1324], [1379, 1405], [1482, 1508], [1714, 1740], [1769, 1795], [1946, 2023], [2043, 2106], [2133, 2159], [2230, 2256], [2291, 2352], [2388, 2447], [2455, 2481], [2573, 2627], [2754, 2811], [2869, 2895], [2926, 2968], [3022, 3048], [3073, 3099], [3113, 3139], [3357, 3386], [3510, 3585], [3603, 3712], [3878, 3904], [3909, 3935], [3967, 4029], [4071, 4097], [4146, 4223], [4237, 4263], [4296, 4322], [4366, 4392], [4466, 4529], [4537, 4586], [4646, 4672], [4688, 4749], [4769, 4795], [4872, 4919], [4947, 4988], [5080, 5142], [5157, 5183], [5292, 5318], [5590, 5616], [5634, 5695], [5731, 5757], [5782, 5808], [5839, 5870], [5881, 5954], [6140, 6166], [6173, 6199], [6253, 6286], [6338, 6393], [6475, 6506], [6576, 6602], [6689, 6719], [6796, 6822], [6830, 6856], [6914, 6940], [6966, 6995], [7007, 7033], [7088, 7167], [7185, 7211], [7282, 7308], [7335, 7385], [7390, 7425], [7450, 7476], [7488, 7514], [7554, 7580], [7585, 7611], [7632, 7662], [7781, 7837], [7911, 7937], [7979, 8005], [8010, 8040], [8066, 8092], [8121, 8147], [8177, 8191]], [[108, 134], [237], [271], [380, 385, 392, 403], [443, 450, 456], [706], [793], [934, 944, 958, 968, 995], [1189, 1209, 1226], [1311], [1392], [1495], [1727], [1782], [1959, 1969, 1998, 2007, 2010], [2056, 2086, 2093], [2146], [2243], [2304, 2317, 2339], [2401, 2418, 2434], [2468], [2586, 2614], [2767, 2780, 2798], [2882], [2939, 2952, 2955], [3035], [3086], [3126], [3370, 3373], [3523, 3541, 3568, 3572], [3616, 3629, 3646, 3674, 3684, 3699], [3891], [3922], [3980, 3994, 4016], [4084], [4159, 4162, 4183, 4210], [4250], [4309], [4379], [4479, 4484, 4505, 4509, 4516], [4550, 4573], [4659], [4701, 4731, 4736], [4782], [4885, 4906], [4960, 4975], [5093, 5097, 5112, 5129], [5170], [5305], [5603], [5647, 5675, 5682], [5744], [5795], [5852, 5855, 5857], [5894, 5914, 5931, 5937, 5941], [6153], [6186], [6266, 6273], [6351, 6380], [6488, 6491, 6493], [6589], [6702, 6706], [6809], [6843], [6927], [6979, 6982], [7020], [7101, 7104, 7130, 7134, 7138, 7154], [7198], [7295], [7348, 7372], [7403, 7412], [7463], [7501], [7567], [7598], [7645, 7649], [7794, 7808, 7813, 7824], [7924], [7992], [8023, 8027], [8079], [8134], [8190]])\n"
     ]
    }
   ],
   "source": [
    "# 2019-03-18 A saihda de scanSpec retorna o seguinte:\n",
    "# return self.indicescwt, regions, multiplets\n",
    "ret = spec2.scanSpec()\n",
    "print (ret)"
   ]
  },
  {
   "cell_type": "code",
   "execution_count": 16,
   "metadata": {},
   "outputs": [
    {
     "data": {
      "text/plain": [
       "108"
      ]
     },
     "execution_count": 16,
     "metadata": {},
     "output_type": "execute_result"
    }
   ],
   "source": [
    "spec2.indicescwt[0]"
   ]
  },
  {
   "cell_type": "code",
   "execution_count": 17,
   "metadata": {},
   "outputs": [
    {
     "data": {
      "text/plain": [
       "[[0, 95],\n",
       " [147, 224],\n",
       " [250, 258],\n",
       " [284, 367],\n",
       " [416, 430],\n",
       " [469, 693],\n",
       " [719, 780],\n",
       " [806, 921],\n",
       " [1008, 1176],\n",
       " [1239, 1298],\n",
       " [1324, 1379],\n",
       " [1405, 1482],\n",
       " [1508, 1714],\n",
       " [1740, 1769],\n",
       " [1795, 1946],\n",
       " [2023, 2043],\n",
       " [2106, 2133],\n",
       " [2159, 2230],\n",
       " [2256, 2291],\n",
       " [2352, 2388],\n",
       " [2447, 2455],\n",
       " [2481, 2573],\n",
       " [2627, 2754],\n",
       " [2811, 2869],\n",
       " [2895, 2926],\n",
       " [2968, 3022],\n",
       " [3048, 3073],\n",
       " [3099, 3113],\n",
       " [3139, 3357],\n",
       " [3386, 3510],\n",
       " [3585, 3603],\n",
       " [3712, 3878],\n",
       " [3904, 3909],\n",
       " [3935, 3967],\n",
       " [4029, 4071],\n",
       " [4097, 4146],\n",
       " [4223, 4237],\n",
       " [4263, 4296],\n",
       " [4322, 4366],\n",
       " [4392, 4466],\n",
       " [4529, 4537],\n",
       " [4586, 4646],\n",
       " [4672, 4688],\n",
       " [4749, 4769],\n",
       " [4795, 4872],\n",
       " [4919, 4947],\n",
       " [4988, 5080],\n",
       " [5142, 5157],\n",
       " [5183, 5292],\n",
       " [5318, 5590],\n",
       " [5616, 5634],\n",
       " [5695, 5731],\n",
       " [5757, 5782],\n",
       " [5808, 5839],\n",
       " [5870, 5881],\n",
       " [5954, 6140],\n",
       " [6166, 6173],\n",
       " [6199, 6253],\n",
       " [6286, 6338],\n",
       " [6393, 6475],\n",
       " [6506, 6576],\n",
       " [6602, 6689],\n",
       " [6719, 6796],\n",
       " [6822, 6830],\n",
       " [6856, 6914],\n",
       " [6940, 6966],\n",
       " [6995, 7007],\n",
       " [7033, 7088],\n",
       " [7167, 7185],\n",
       " [7211, 7282],\n",
       " [7308, 7335],\n",
       " [7385, 7390],\n",
       " [7425, 7450],\n",
       " [7476, 7488],\n",
       " [7514, 7554],\n",
       " [7580, 7585],\n",
       " [7611, 7632],\n",
       " [7662, 7781],\n",
       " [7837, 7911],\n",
       " [7937, 7979],\n",
       " [8005, 8010],\n",
       " [8040, 8066],\n",
       " [8092, 8121],\n",
       " [8147, 8177],\n",
       " [8191, 8191]]"
      ]
     },
     "execution_count": 17,
     "metadata": {},
     "output_type": "execute_result"
    }
   ],
   "source": [
    "spec2.defBlineRegionsSpec()"
   ]
  },
  {
   "cell_type": "code",
   "execution_count": 18,
   "metadata": {},
   "outputs": [
    {
     "name": "stderr",
     "output_type": "stream",
     "text": [
      "/home/maduar/ownCloud/Python_Scripts/teste_datas.py:271: RankWarning: Polyfit may be poorly conditioned\n",
      "  zbl.append( np.polyfit(xbl[i], ybl[i], 2) )\n"
     ]
    },
    {
     "data": {
      "text/plain": [
       "0"
      ]
     },
     "execution_count": 18,
     "metadata": {},
     "output_type": "execute_result"
    }
   ],
   "source": [
    "spec2.blinesFitSpec()"
   ]
  },
  {
   "cell_type": "code",
   "execution_count": 19,
   "metadata": {},
   "outputs": [],
   "source": [
    "lx = [ list(range(region[0], region[1]+1)) for region in spec2.regions ]\n",
    "ly = [ [spec2.spCounts[i] for i in xs] for xs in lx ]"
   ]
  },
  {
   "cell_type": "code",
   "execution_count": 20,
   "metadata": {},
   "outputs": [
    {
     "name": "stdout",
     "output_type": "stream",
     "text": [
      "84 84 84\n"
     ]
    }
   ],
   "source": [
    "print(len(lx),len(ly),len(spec2.regions))"
   ]
  },
  {
   "cell_type": "code",
   "execution_count": 21,
   "metadata": {},
   "outputs": [],
   "source": [
    "blins = [blf.bline_estimate_2(ys) for ys in ly ]\n",
    "if blins:\n",
    "    heis = [spec2.spCounts[i] for i in spec2.indicescwt]\n",
    "    nety = [ [ gr-bl for gr, bl in zip(l1,l2) ] for l1,l2 in zip(ly,blins) ]"
   ]
  },
  {
   "cell_type": "code",
   "execution_count": 22,
   "metadata": {},
   "outputs": [
    {
     "name": "stdout",
     "output_type": "stream",
     "text": [
      "163 163 84\n"
     ]
    }
   ],
   "source": [
    "print(len(spec2.indicescwt),len(heis),len(nety))"
   ]
  },
  {
   "cell_type": "raw",
   "metadata": {},
   "source": [
    "# 2019-03-09 Ativar para ver:\n",
    "vars(spec2)"
   ]
  },
  {
   "cell_type": "code",
   "execution_count": 23,
   "metadata": {},
   "outputs": [],
   "source": [
    "# 2019-05-18 Tamanho da janela grahfica:\n",
    "# Em tela de 23\" usar 1600 x 900\n",
    "# Na tela do note usar 1300 x 600"
   ]
  },
  {
   "cell_type": "code",
   "execution_count": 24,
   "metadata": {},
   "outputs": [],
   "source": [
    "# default_plot_width  = 1300 \n",
    "# default_plot_height =  600\n",
    "\n",
    "default_plot_width  = 1600 \n",
    "default_plot_height =  900"
   ]
  },
  {
   "cell_type": "code",
   "execution_count": 25,
   "metadata": {},
   "outputs": [],
   "source": [
    "# 2019-05-12 Este eh o primeiro grahfico bokeh deste arquivo:"
   ]
  },
  {
   "cell_type": "code",
   "execution_count": 27,
   "metadata": {},
   "outputs": [],
   "source": [
    "xs = np.linspace(0,spec2.spLngData-1,spec2.spLngData)\n",
    "y0s = spec2.spCounts\n",
    "p2 = figure(\n",
    "   plot_width =default_plot_width,\n",
    "   plot_height=default_plot_height,\n",
    "   tools=\"pan,box_zoom,reset,save\",\n",
    "   y_axis_type=\"log\", y_range=[1.0, 10**5], title=\"Analyzed spectrum\",\n",
    "   x_axis_label='channels', y_axis_label='counts'\n",
    ")\n",
    "p2.circle(xs, y0s, legend=\"counts\", color=\"lightblue\",size=4)\n",
    "p2.multi_line(lx,ly, legend=\"ly\", color=\"orange\")\n",
    "p2.multi_line(lx,blins, legend=\"blins\", color=\"magenta\")\n",
    "p2.multi_line(lx,nety, legend=\"nety\", color=\"green\")\n",
    "p2.x(spec2.indicescwt, heis, legend=\"heis vs. spec2.indicescwt\", color=\"red\", size=6)\n",
    "show(p2)"
   ]
  },
  {
   "cell_type": "code",
   "execution_count": 26,
   "metadata": {},
   "outputs": [
    {
     "ename": "NameError",
     "evalue": "name 'y0s' is not defined",
     "output_type": "error",
     "traceback": [
      "\u001b[0;31m---------------------------------------------------------------------------\u001b[0m",
      "\u001b[0;31mNameError\u001b[0m                                 Traceback (most recent call last)",
      "\u001b[0;32m<ipython-input-26-385aa7f3c306>\u001b[0m in \u001b[0;36m<module>\u001b[0;34m\u001b[0m\n\u001b[0;32m----> 1\u001b[0;31m \u001b[0mlen\u001b[0m\u001b[0;34m(\u001b[0m\u001b[0my0s\u001b[0m\u001b[0;34m)\u001b[0m\u001b[0;34m\u001b[0m\u001b[0;34m\u001b[0m\u001b[0m\n\u001b[0m\u001b[1;32m      2\u001b[0m \u001b[0mnp\u001b[0m\u001b[0;34m.\u001b[0m\u001b[0mvar\u001b[0m\u001b[0;34m(\u001b[0m\u001b[0my0s\u001b[0m\u001b[0;34m[\u001b[0m\u001b[0;36m0\u001b[0m\u001b[0;34m:\u001b[0m\u001b[0;36m50\u001b[0m\u001b[0;34m]\u001b[0m\u001b[0;34m)\u001b[0m\u001b[0;34m\u001b[0m\u001b[0;34m\u001b[0m\u001b[0m\n",
      "\u001b[0;31mNameError\u001b[0m: name 'y0s' is not defined"
     ]
    }
   ],
   "source": [
    "len(y0s)\n",
    "np.var(y0s[0:50])"
   ]
  },
  {
   "cell_type": "code",
   "execution_count": 26,
   "metadata": {},
   "outputs": [
    {
     "data": {
      "text/plain": [
       "[[3, 8, 7], [4, 4, 8, 9]]"
      ]
     },
     "execution_count": 26,
     "metadata": {},
     "output_type": "execute_result"
    }
   ],
   "source": [
    "test1=[3,8,7]\n",
    "test2=[4,4,8,9]\n",
    "conca1=[test1,test2]\n",
    "conca1"
   ]
  },
  {
   "cell_type": "code",
   "execution_count": 27,
   "metadata": {},
   "outputs": [
    {
     "data": {
      "text/plain": [
       "array([ 3.        ,  0.        ,  0.        ,  0.        ,  0.        ,\n",
       "        0.        , -1.        , -0.77777778, -0.55555556, -0.33333333,\n",
       "       -0.11111111,  0.11111111,  0.33333333,  0.55555556,  0.77777778,\n",
       "        1.        ])"
      ]
     },
     "execution_count": 27,
     "metadata": {},
     "output_type": "execute_result"
    }
   ],
   "source": [
    "# 2019-05-16: Index tricks do Scipy\n",
    "teste3 = np.concatenate(([3], [0]*5, np.arange(-1, 1.002, 2/9.0)))\n",
    "teste3"
   ]
  },
  {
   "cell_type": "code",
   "execution_count": 28,
   "metadata": {},
   "outputs": [
    {
     "data": {
      "text/plain": [
       "array([ 3.        ,  0.        ,  0.        ,  0.        ,  0.        ,\n",
       "        0.        , -1.        , -0.77777778, -0.55555556, -0.33333333,\n",
       "       -0.11111111,  0.11111111,  0.33333333,  0.55555556,  0.77777778,\n",
       "        1.        ])"
      ]
     },
     "execution_count": 28,
     "metadata": {},
     "output_type": "execute_result"
    }
   ],
   "source": [
    "teste4 = np.r_[3,[0]*5,-1:1:10j]\n",
    "teste4"
   ]
  },
  {
   "cell_type": "code",
   "execution_count": 29,
   "metadata": {},
   "outputs": [],
   "source": [
    "# Agora aplicando para o que quero:\n"
   ]
  },
  {
   "cell_type": "code",
   "execution_count": null,
   "metadata": {},
   "outputs": [],
   "source": []
  },
  {
   "cell_type": "code",
   "execution_count": null,
   "metadata": {},
   "outputs": [],
   "source": []
  },
  {
   "cell_type": "code",
   "execution_count": null,
   "metadata": {},
   "outputs": [],
   "source": []
  },
  {
   "cell_type": "code",
   "execution_count": null,
   "metadata": {},
   "outputs": [],
   "source": []
  },
  {
   "cell_type": "code",
   "execution_count": null,
   "metadata": {},
   "outputs": [],
   "source": []
  },
  {
   "cell_type": "code",
   "execution_count": 30,
   "metadata": {},
   "outputs": [
    {
     "data": {
      "text/plain": [
       "array([ 1.        ,  1.09787999,  1.20534048,  1.3233192 ,  1.45284567,\n",
       "        1.5950502 ,  1.7511737 ,  1.92257857,  2.11076055,  2.31736178,\n",
       "        2.54418513,  2.79320995,  3.06660933,  3.36676903,  3.69630836,\n",
       "        4.05810299,  4.45531009,  4.89139581,  5.3701656 ,  5.89579737,\n",
       "        6.47287798,  7.10644323,  7.80202185,  8.56568369,  9.40409276,\n",
       "       10.32456529, 11.33513367, 12.44461648, 13.66269546, 15.        ])"
      ]
     },
     "execution_count": 30,
     "metadata": {},
     "output_type": "execute_result"
    }
   ],
   "source": [
    "widths = np.logspace(0.0,np.log10(15.0),num=30)\n",
    "widths"
   ]
  },
  {
   "cell_type": "code",
   "execution_count": 31,
   "metadata": {},
   "outputs": [
    {
     "name": "stdout",
     "output_type": "stream",
     "text": [
      "30\n",
      "[  52.92882605   64.78609965   51.1904766    62.12965354   74.64202792\n",
      "  105.80683237   97.18299549  104.96614045  117.51879287  134.44020054\n",
      "  159.87847451  210.19035597  214.89637696  242.16019613  293.49946899\n",
      "  299.71496346  335.8365243   402.19175872  436.21804515  505.97494867\n",
      "  550.13933111  586.32416921  657.61600886  771.06296009  836.57371895\n",
      "  950.91813308 1075.11795498 1216.92823833 1383.11674266 1541.23323828]\n"
     ]
    }
   ],
   "source": [
    "cwt1 = cwt(y0s, ricker, [1])[0]\n",
    "cwtmatr = cwt(y0s, ricker, widths)\n",
    "somas_escalas = np.sum(cwtmatr,axis=1)\n",
    "print(len(somas_escalas))\n",
    "print(somas_escalas)"
   ]
  },
  {
   "cell_type": "code",
   "execution_count": null,
   "metadata": {},
   "outputs": [],
   "source": []
  },
  {
   "cell_type": "code",
   "execution_count": null,
   "metadata": {},
   "outputs": [],
   "source": []
  },
  {
   "cell_type": "code",
   "execution_count": null,
   "metadata": {},
   "outputs": [],
   "source": []
  },
  {
   "cell_type": "code",
   "execution_count": null,
   "metadata": {},
   "outputs": [],
   "source": []
  },
  {
   "cell_type": "code",
   "execution_count": 32,
   "metadata": {},
   "outputs": [],
   "source": [
    "# 2019-05-16 \n",
    "half_window = 4\n",
    "var_window = 2 * half_window + 1 \n",
    "ksens = 2.0\n",
    "ndx_scale_to_compare = 10\n",
    "# 2019-05-16 Atualmente corresponde aa escala ....\n",
    "\n",
    "midd_running_std_cwt1 =  [ np.std(cwt1[i:i+var_window]) for i in range(len(y0s)-var_window+1) ]\n",
    "midd_running_iqr_cwt1 = [     iqr(cwt1[i:i+var_window]) for i in range(len(y0s)-var_window+1) ]\n",
    "midd_running_mean_cwt1 = [np.mean(np.absolute(cwt1[i:i+var_window])) for i in range(len(y0s)-var_window+1) ]\n",
    "\n",
    "running_std_cwt1 = np.r_[ [0]*half_window, midd_running_std_cwt1, [0]*half_window ]\n",
    "running_iqr_cwt1 = np.r_[ [0]*half_window, midd_running_iqr_cwt1, [0]*half_window ]\n",
    "running_mean_cwt1 = np.r_[ [0]*half_window, midd_running_mean_cwt1, [0]*half_window ]\n",
    "\n",
    "# 2019-05-19 Usando std em vez de iqr\n",
    "choose_signif_cts = [ (ksens*running_std_cwt1[i]) < cwtmatr[ndx_scale_to_compare][i] for i in range(len(running_std_cwt1))]\n"
   ]
  },
  {
   "cell_type": "code",
   "execution_count": null,
   "metadata": {},
   "outputs": [],
   "source": []
  },
  {
   "cell_type": "code",
   "execution_count": 33,
   "metadata": {},
   "outputs": [
    {
     "name": "stdout",
     "output_type": "stream",
     "text": [
      "[False, False, False, False, False, True, False, True, True, True, True, False, False, False, True, False, True, True, False, False, True, True, True, True, False, True, True, True, False, False]\n"
     ]
    }
   ],
   "source": [
    "print(choose_signif_cts[0:30])"
   ]
  },
  {
   "cell_type": "code",
   "execution_count": null,
   "metadata": {},
   "outputs": [],
   "source": []
  },
  {
   "cell_type": "code",
   "execution_count": 34,
   "metadata": {},
   "outputs": [],
   "source": [
    "regions_cwt = []\n",
    "if choose_signif_cts[0]:\n",
    "    newreg = [0]\n",
    "for i in range(1,len(choose_signif_cts)):\n",
    "    if choose_signif_cts[i] and not choose_signif_cts[i-1]:\n",
    "        newreg = [i]\n",
    "    elif not choose_signif_cts[i] and choose_signif_cts[i-1]:\n",
    "        newreg.append(i-1)\n",
    "        regions_cwt.append(newreg)"
   ]
  },
  {
   "cell_type": "code",
   "execution_count": 35,
   "metadata": {},
   "outputs": [
    {
     "data": {
      "text/plain": [
       "[[5, 5],\n",
       " [7, 10],\n",
       " [14, 14],\n",
       " [16, 17],\n",
       " [20, 23],\n",
       " [25, 27],\n",
       " [30, 30],\n",
       " [32, 32],\n",
       " [39, 39],\n",
       " [41, 43],\n",
       " [50, 50],\n",
       " [52, 54],\n",
       " [57, 57],\n",
       " [59, 65],\n",
       " [70, 70],\n",
       " [72, 79],\n",
       " [87, 87],\n",
       " [89, 89],\n",
       " [91, 91],\n",
       " [93, 94],\n",
       " [108, 114],\n",
       " [202, 205],\n",
       " [219, 222],\n",
       " [235, 238],\n",
       " [269, 272],\n",
       " [302, 307],\n",
       " [329, 330],\n",
       " [378, 381],\n",
       " [389, 393],\n",
       " [402, 404],\n",
       " [413, 413],\n",
       " [423, 427],\n",
       " [440, 445],\n",
       " [454, 458],\n",
       " [468, 471],\n",
       " [480, 482],\n",
       " [494, 497],\n",
       " [520, 520],\n",
       " [535, 537],\n",
       " [618, 619],\n",
       " [659, 659],\n",
       " [681, 681],\n",
       " [705, 706],\n",
       " [717, 719],\n",
       " [728, 729],\n",
       " [744, 745],\n",
       " [778, 779],\n",
       " [825, 828],\n",
       " [886, 886],\n",
       " [919, 921],\n",
       " [941, 946],\n",
       " [993, 996],\n",
       " [1006, 1009],\n",
       " [1017, 1022],\n",
       " [1057, 1061],\n",
       " [1072, 1073],\n",
       " [1096, 1097],\n",
       " [1105, 1106],\n",
       " [1207, 1211],\n",
       " [1224, 1228],\n",
       " [1242, 1244],\n",
       " [1309, 1313],\n",
       " [1364, 1364],\n",
       " [1370, 1370],\n",
       " [1389, 1394],\n",
       " [1422, 1424],\n",
       " [1471, 1471],\n",
       " [1493, 1497],\n",
       " [1518, 1523],\n",
       " [1544, 1545],\n",
       " [1555, 1555],\n",
       " [1589, 1593],\n",
       " [1614, 1614],\n",
       " [1638, 1640],\n",
       " [1661, 1662],\n",
       " [1686, 1690],\n",
       " [1711, 1715],\n",
       " [1765, 1767],\n",
       " [1780, 1784],\n",
       " [1802, 1804],\n",
       " [1899, 1901],\n",
       " [1909, 1910],\n",
       " [1927, 1927],\n",
       " [1957, 1960],\n",
       " [1968, 1971],\n",
       " [2053, 2056],\n",
       " [2075, 2079],\n",
       " [2153, 2153],\n",
       " [2165, 2166],\n",
       " [2194, 2197],\n",
       " [2211, 2212],\n",
       " [2220, 2220],\n",
       " [2281, 2281],\n",
       " [2301, 2306],\n",
       " [2316, 2317],\n",
       " [2337, 2342],\n",
       " [2377, 2381],\n",
       " [2400, 2403],\n",
       " [2430, 2436],\n",
       " [2464, 2469],\n",
       " [2499, 2499],\n",
       " [2519, 2519],\n",
       " [2583, 2589],\n",
       " [2634, 2636],\n",
       " [2673, 2676],\n",
       " [2699, 2705],\n",
       " [2749, 2749],\n",
       " [2753, 2754],\n",
       " [2773, 2773],\n",
       " [2830, 2830],\n",
       " [2850, 2852],\n",
       " [2898, 2902],\n",
       " [2935, 2941],\n",
       " [2951, 2956],\n",
       " [2990, 2990],\n",
       " [3011, 3012],\n",
       " [3059, 3062],\n",
       " [3083, 3088],\n",
       " [3118, 3119],\n",
       " [3203, 3206],\n",
       " [3286, 3287],\n",
       " [3311, 3312],\n",
       " [3367, 3373],\n",
       " [3385, 3385],\n",
       " [3461, 3464],\n",
       " [3485, 3489],\n",
       " [3530, 3532],\n",
       " [3557, 3563],\n",
       " [3584, 3586],\n",
       " [3644, 3649],\n",
       " [3661, 3663],\n",
       " [3681, 3685],\n",
       " [3697, 3699],\n",
       " [3720, 3721],\n",
       " [3758, 3763],\n",
       " [3779, 3779],\n",
       " [3811, 3814],\n",
       " [3866, 3866],\n",
       " [3889, 3894],\n",
       " [3965, 3965],\n",
       " [3977, 3984],\n",
       " [4024, 4024],\n",
       " [4080, 4086],\n",
       " [4107, 4108],\n",
       " [4125, 4127],\n",
       " [4141, 4141],\n",
       " [4158, 4161],\n",
       " [4182, 4183],\n",
       " [4247, 4252],\n",
       " [4290, 4294],\n",
       " [4580, 4581],\n",
       " [4612, 4618],\n",
       " [4643, 4645],\n",
       " [4728, 4735],\n",
       " [4763, 4764],\n",
       " [4777, 4777],\n",
       " [4800, 4801],\n",
       " [4882, 4887],\n",
       " [4905, 4911],\n",
       " [4929, 4931],\n",
       " [4941, 4942],\n",
       " [4983, 4983],\n",
       " [5014, 5015],\n",
       " [5025, 5026],\n",
       " [5090, 5090],\n",
       " [5118, 5120],\n",
       " [5167, 5168],\n",
       " [5203, 5206],\n",
       " [5267, 5267],\n",
       " [5283, 5284],\n",
       " [5298, 5299],\n",
       " [5327, 5333],\n",
       " [5348, 5349],\n",
       " [5416, 5420],\n",
       " [5468, 5471],\n",
       " [5507, 5507],\n",
       " [5536, 5536],\n",
       " [5594, 5596],\n",
       " [5614, 5614],\n",
       " [5672, 5679],\n",
       " [5794, 5794],\n",
       " [5804, 5805],\n",
       " [5820, 5820],\n",
       " [5849, 5857],\n",
       " [5949, 5952],\n",
       " [5987, 5992],\n",
       " [6023, 6024],\n",
       " [6115, 6121],\n",
       " [6203, 6205],\n",
       " [6220, 6222],\n",
       " [6234, 6234],\n",
       " [6270, 6277],\n",
       " [6313, 6313],\n",
       " [6340, 6341],\n",
       " [6486, 6494],\n",
       " [6524, 6525],\n",
       " [6550, 6551],\n",
       " [6627, 6628],\n",
       " [6641, 6642],\n",
       " [6669, 6670],\n",
       " [6742, 6742],\n",
       " [6760, 6762],\n",
       " [6977, 6984],\n",
       " [7017, 7023],\n",
       " [7048, 7049],\n",
       " [7098, 7105],\n",
       " [7131, 7138],\n",
       " [7166, 7168],\n",
       " [7230, 7231],\n",
       " [7380, 7381],\n",
       " [7391, 7391],\n",
       " [7401, 7403],\n",
       " [7428, 7429],\n",
       " [7453, 7454],\n",
       " [7481, 7482],\n",
       " [7644, 7652],\n",
       " [7679, 7681],\n",
       " [7707, 7709],\n",
       " [7721, 7721],\n",
       " [7741, 7743],\n",
       " [7799, 7801],\n",
       " [7818, 7824],\n",
       " [7939, 7941],\n",
       " [8020, 8027],\n",
       " [8048, 8048],\n",
       " [8084, 8084],\n",
       " [8101, 8107],\n",
       " [8160, 8160]]"
      ]
     },
     "execution_count": 35,
     "metadata": {},
     "output_type": "execute_result"
    }
   ],
   "source": [
    "regions_cwt"
   ]
  },
  {
   "cell_type": "code",
   "execution_count": null,
   "metadata": {},
   "outputs": [],
   "source": []
  },
  {
   "cell_type": "code",
   "execution_count": null,
   "metadata": {},
   "outputs": [],
   "source": []
  },
  {
   "cell_type": "code",
   "execution_count": 36,
   "metadata": {},
   "outputs": [
    {
     "name": "stdout",
     "output_type": "stream",
     "text": [
      "8184 8184 8192 8192\n"
     ]
    }
   ],
   "source": [
    "print(len(midd_running_std_cwt1), len(midd_running_std_cwt1), len(running_std_cwt1), len(running_iqr_cwt1))"
   ]
  },
  {
   "cell_type": "code",
   "execution_count": null,
   "metadata": {},
   "outputs": [],
   "source": []
  },
  {
   "cell_type": "code",
   "execution_count": 37,
   "metadata": {},
   "outputs": [
    {
     "data": {
      "text/plain": [
       "8192"
      ]
     },
     "execution_count": 37,
     "metadata": {},
     "output_type": "execute_result"
    }
   ],
   "source": [
    "len(choose_signif_cts)"
   ]
  },
  {
   "cell_type": "raw",
   "metadata": {},
   "source": [
    "# 2019-05-12 Este eh um novo grahfico. Chamah-lo-ei de p2a:\n",
    "Antes de plotar, farei espectros cwt"
   ]
  },
  {
   "cell_type": "code",
   "execution_count": 38,
   "metadata": {},
   "outputs": [],
   "source": [
    "# xs = np.linspace(0,spec2.spLngData-1,spec2.spLngData)\n",
    "# y0s = spec2.spCounts\n",
    "p2a = figure(\n",
    "   plot_width =default_plot_width,\n",
    "   plot_height=default_plot_height,\n",
    "   tools=\"pan,box_zoom,reset,save\",\n",
    "   # y_axis_type=\"log\",\n",
    "   y_range=[1.0, 10**5], title=\"Light blue counts, cwt1, running_mean_cwt1\",\n",
    "   x_axis_label='channels', y_axis_label='counts'\n",
    ")\n",
    "p2a.circle(xs, y0s, legend=\"counts\", color=\"lightblue\",size=4)\n",
    "p2a.line(xs, cwt1, color=\"green\", legend=\"cwt1\")\n",
    "p2a.line(xs, running_mean_cwt1, color=\"magenta\", legend=\"running_mean_cwt1\")\n",
    "p2a.line(xs, running_std_cwt1, color=\"blue\", legend=\"running_std_cwt1\")\n",
    "# [p2a.line(xs, cwtmatr[i], color=palettes.Plasma[11][i]) for i in range(1,7)]\n",
    "p2a.line(xs, cwtmatr[ndx_scale_to_compare], color=\"red\", legend=\"scale to compare\")\n",
    "\n",
    "# p2a.multi_line(lx,ly, color=\"orange\")\n",
    "# p2a.multi_line(lx,blins, color=\"magenta\")\n",
    "# p2a.multi_line(lx,nety, color=\"green\")\n",
    "# p2a.x(spec2.indicescwt, heis, color=\"red\", size=6)\n",
    "# p2a.line(xs, cwtmatr[0], color=palettes.Plasma[10][0])\n",
    "# [p2a2.line(xs, cwtmatr[i], color=palettes.Plasma[11][i]) for i in range(7)]\n",
    "# p2a2.line(xs, running_std_cwt1, color=\"blue\", legend=\"std\")\n",
    "# p2a2.line(xs, running_iqr_cwt1, color=\"red\",  legend=\"iqr\" )\n",
    "# p2a1.line(xs, mean_coeff_cwtmatr, color=\"orange\", legend=\"MEAN\")\n",
    "\n",
    "show(p2a)"
   ]
  },
  {
   "cell_type": "code",
   "execution_count": 39,
   "metadata": {},
   "outputs": [
    {
     "data": {
      "text/plain": [
       "8192"
      ]
     },
     "execution_count": 39,
     "metadata": {},
     "output_type": "execute_result"
    }
   ],
   "source": [
    "len(cwt1)"
   ]
  },
  {
   "cell_type": "code",
   "execution_count": 40,
   "metadata": {},
   "outputs": [
    {
     "data": {
      "text/plain": [
       "[7, 8, 9]"
      ]
     },
     "execution_count": 40,
     "metadata": {},
     "output_type": "execute_result"
    }
   ],
   "source": [
    "lista1 = []\n",
    "lista1.append(7)\n",
    "lista1\n",
    "list(range(7,10))"
   ]
  },
  {
   "cell_type": "code",
   "execution_count": null,
   "metadata": {},
   "outputs": [],
   "source": []
  },
  {
   "cell_type": "code",
   "execution_count": null,
   "metadata": {},
   "outputs": [],
   "source": []
  },
  {
   "cell_type": "code",
   "execution_count": 41,
   "metadata": {},
   "outputs": [
    {
     "data": {
      "text/plain": [
       "array([72., 73., 74., 75., 76., 77., 78., 79.])"
      ]
     },
     "execution_count": 41,
     "metadata": {},
     "output_type": "execute_result"
    }
   ],
   "source": [
    "xs[regions_cwt[15][0]:regions_cwt[15][1]+1]"
   ]
  },
  {
   "cell_type": "code",
   "execution_count": 42,
   "metadata": {},
   "outputs": [],
   "source": [
    "# lx_cwt = [xs[il[0]:il[1]+1] for il in regions_cwt]\n",
    "lx_cwt = [ list(range(region[0], region[1]+1)) for region in regions_cwt ]\n",
    "ly_cwt = [ [spec2.spCounts[i] for i in xs] for xs in lx_cwt ]"
   ]
  },
  {
   "cell_type": "code",
   "execution_count": 43,
   "metadata": {},
   "outputs": [
    {
     "data": {
      "text/plain": [
       "array([ 1.        ,  1.09787999,  1.20534048,  1.3233192 ,  1.45284567,\n",
       "        1.5950502 ,  1.7511737 ,  1.92257857,  2.11076055,  2.31736178,\n",
       "        2.54418513,  2.79320995,  3.06660933,  3.36676903,  3.69630836,\n",
       "        4.05810299,  4.45531009,  4.89139581,  5.3701656 ,  5.89579737,\n",
       "        6.47287798,  7.10644323,  7.80202185,  8.56568369,  9.40409276,\n",
       "       10.32456529, 11.33513367, 12.44461648, 13.66269546, 15.        ])"
      ]
     },
     "execution_count": 43,
     "metadata": {},
     "output_type": "execute_result"
    }
   ],
   "source": [
    "widths"
   ]
  },
  {
   "cell_type": "code",
   "execution_count": 44,
   "metadata": {},
   "outputs": [
    {
     "data": {
      "text/plain": [
       "['#0C0786',\n",
       " '#40039C',\n",
       " '#6A00A7',\n",
       " '#8F0DA3',\n",
       " '#B02A8F',\n",
       " '#CA4678',\n",
       " '#E06461',\n",
       " '#F1824C',\n",
       " '#FCA635',\n",
       " '#FCCC25',\n",
       " '#EFF821']"
      ]
     },
     "execution_count": 44,
     "metadata": {},
     "output_type": "execute_result"
    }
   ],
   "source": [
    "palettes.Plasma[11]"
   ]
  },
  {
   "cell_type": "code",
   "execution_count": 45,
   "metadata": {},
   "outputs": [],
   "source": [
    "# xs = np.linspace(0,spec2.spLngData-1,spec2.spLngData)\n",
    "# y0s = spec2.spCounts\n",
    "p2b = figure(\n",
    "   plot_width =default_plot_width,\n",
    "   plot_height=default_plot_height,\n",
    "   tools=\"pan,box_zoom,reset,save\",\n",
    "   y_range=[1.0, 10**5], title=\"CWT regions selection - y LIN\",\n",
    "   x_axis_label='channels', y_axis_label='counts'\n",
    ")\n",
    "p2b.circle(xs, y0s, legend=\"counts\", color=\"lightblue\",size=4)\n",
    "p2b.multi_line(lx_cwt,ly_cwt, color=\"orange\")\n",
    "show(p2b)"
   ]
  },
  {
   "cell_type": "code",
   "execution_count": 46,
   "metadata": {},
   "outputs": [],
   "source": [
    "# xs = np.linspace(0,spec2.spLngData-1,spec2.spLngData)\n",
    "# y0s = spec2.spCounts\n",
    "p2b1 = figure(\n",
    "   plot_width =default_plot_width,\n",
    "   plot_height=default_plot_height,\n",
    "   tools=\"pan,box_zoom,reset,save\",\n",
    "   y_axis_type=\"log\", \n",
    "   y_range=[1.0, 10**5], title=\"CWT regions selection - y LOG\",\n",
    "   x_axis_label='channels', y_axis_label='counts'\n",
    ")\n",
    "p2b1.circle(xs, y0s, legend=\"counts\", color=\"lightblue\",size=4)\n",
    "p2b1.multi_line(lx_cwt,ly_cwt, color=\"orange\")\n",
    "show(p2b1)"
   ]
  },
  {
   "cell_type": "code",
   "execution_count": 47,
   "metadata": {},
   "outputs": [
    {
     "data": {
      "text/plain": [
       "9"
      ]
     },
     "execution_count": 47,
     "metadata": {},
     "output_type": "execute_result"
    }
   ],
   "source": [
    "var_window"
   ]
  },
  {
   "cell_type": "code",
   "execution_count": 48,
   "metadata": {},
   "outputs": [],
   "source": [
    "# 2019-05-16 Fazendo outra experiencia"
   ]
  },
  {
   "cell_type": "code",
   "execution_count": 49,
   "metadata": {},
   "outputs": [
    {
     "name": "stdout",
     "output_type": "stream",
     "text": [
      "30\n",
      "[  52.92882605   64.78609965   51.1904766    62.12965354   74.64202792\n",
      "  105.80683237   97.18299549  104.96614045  117.51879287  134.44020054\n",
      "  159.87847451  210.19035597  214.89637696  242.16019613  293.49946899\n",
      "  299.71496346  335.8365243   402.19175872  436.21804515  505.97494867\n",
      "  550.13933111  586.32416921  657.61600886  771.06296009  836.57371895\n",
      "  950.91813308 1075.11795498 1216.92823833 1383.11674266 1541.23323828]\n"
     ]
    }
   ],
   "source": [
    "somas_escalas = np.sum(cwtmatr,axis=1)\n",
    "print(len(somas_escalas))\n",
    "print(somas_escalas)"
   ]
  },
  {
   "cell_type": "code",
   "execution_count": 50,
   "metadata": {},
   "outputs": [
    {
     "name": "stdout",
     "output_type": "stream",
     "text": [
      "[ 1.          1.09787999  1.20534048  1.3233192   1.45284567  1.5950502\n",
      "  1.7511737   1.92257857  2.11076055  2.31736178  2.54418513  2.79320995\n",
      "  3.06660933  3.36676903  3.69630836  4.05810299  4.45531009  4.89139581\n",
      "  5.3701656   5.89579737  6.47287798  7.10644323  7.80202185  8.56568369\n",
      "  9.40409276 10.32456529 11.33513367 12.44461648 13.66269546 15.        ]\n"
     ]
    }
   ],
   "source": [
    "print(widths)"
   ]
  },
  {
   "cell_type": "code",
   "execution_count": null,
   "metadata": {},
   "outputs": [],
   "source": []
  },
  {
   "cell_type": "raw",
   "metadata": {},
   "source": [
    "numpy.argmax(a, axis=None, out=None)[source]\n",
    "Returns the indices of the maximum values along an axis.\n",
    "\n",
    "Parameters:\n",
    "a : array_like\n",
    "Input array.\n",
    "\n",
    "axis : int, optional\n",
    "By default, the index is into the flattened array, otherwise along the specified axis.\n",
    "\n",
    "out : array, optional\n",
    "If provided, the result will be inserted into this array. It should be of the appropriate shape and dtype.\n",
    "\n",
    "Returns:\n",
    "index_array : ndarray of ints\n",
    "Array of indices into the array. It has the same shape as a.shape with the dimension along axis removed.\n",
    "\n"
   ]
  },
  {
   "cell_type": "code",
   "execution_count": null,
   "metadata": {},
   "outputs": [],
   "source": []
  },
  {
   "cell_type": "code",
   "execution_count": 51,
   "metadata": {},
   "outputs": [
    {
     "name": "stdout",
     "output_type": "stream",
     "text": [
      "8192\n",
      "[29 29 28 ... 23 11  0]\n"
     ]
    }
   ],
   "source": [
    "max_scales = np.argmax(cwtmatr,axis=0)\n",
    "print(len(max_scales))\n",
    "print(max_scales)"
   ]
  },
  {
   "cell_type": "code",
   "execution_count": 52,
   "metadata": {},
   "outputs": [],
   "source": [
    "# o que estah acima eh inuhtil.\n",
    "# Na verdade, preciso achar o mahximo absoluto dos coeficientes nas escalas em cada regiao. Assim:"
   ]
  },
  {
   "cell_type": "code",
   "execution_count": null,
   "metadata": {},
   "outputs": [],
   "source": []
  },
  {
   "cell_type": "code",
   "execution_count": 53,
   "metadata": {},
   "outputs": [],
   "source": [
    "# lx_cwt = [xs[il[0]:il[1]+1] for il in regions_cwt]\n",
    "# lx_cwt = [ list(range(region[0], region[1]+1)) for region in regions_cwt ]\n",
    "# ly_cwt = [ [spec2.spCounts[i] for i in xs] for xs in lx_cwt ]\n"
   ]
  },
  {
   "cell_type": "code",
   "execution_count": 54,
   "metadata": {},
   "outputs": [],
   "source": [
    "# 2019-05-16 Definicao complicada...\n",
    "coeffs_in_regions = [ [ [cwtmatr[scal,i] for i in xs] for xs in lx_cwt ] for scal in range(len(cwtmatr)) ]"
   ]
  },
  {
   "cell_type": "code",
   "execution_count": 55,
   "metadata": {},
   "outputs": [
    {
     "data": {
      "text/plain": [
       "[[5],\n",
       " [7, 8, 9, 10],\n",
       " [14],\n",
       " [16, 17],\n",
       " [20, 21, 22, 23],\n",
       " [25, 26, 27],\n",
       " [30],\n",
       " [32],\n",
       " [39],\n",
       " [41, 42, 43],\n",
       " [50],\n",
       " [52, 53, 54],\n",
       " [57],\n",
       " [59, 60, 61, 62, 63, 64, 65],\n",
       " [70],\n",
       " [72, 73, 74, 75, 76, 77, 78, 79],\n",
       " [87],\n",
       " [89],\n",
       " [91],\n",
       " [93, 94],\n",
       " [108, 109, 110, 111, 112, 113, 114],\n",
       " [202, 203, 204, 205],\n",
       " [219, 220, 221, 222],\n",
       " [235, 236, 237, 238],\n",
       " [269, 270, 271, 272],\n",
       " [302, 303, 304, 305, 306, 307],\n",
       " [329, 330],\n",
       " [378, 379, 380, 381],\n",
       " [389, 390, 391, 392, 393],\n",
       " [402, 403, 404],\n",
       " [413],\n",
       " [423, 424, 425, 426, 427],\n",
       " [440, 441, 442, 443, 444, 445],\n",
       " [454, 455, 456, 457, 458],\n",
       " [468, 469, 470, 471],\n",
       " [480, 481, 482],\n",
       " [494, 495, 496, 497],\n",
       " [520],\n",
       " [535, 536, 537],\n",
       " [618, 619],\n",
       " [659],\n",
       " [681],\n",
       " [705, 706],\n",
       " [717, 718, 719],\n",
       " [728, 729],\n",
       " [744, 745],\n",
       " [778, 779],\n",
       " [825, 826, 827, 828],\n",
       " [886],\n",
       " [919, 920, 921],\n",
       " [941, 942, 943, 944, 945, 946],\n",
       " [993, 994, 995, 996],\n",
       " [1006, 1007, 1008, 1009],\n",
       " [1017, 1018, 1019, 1020, 1021, 1022],\n",
       " [1057, 1058, 1059, 1060, 1061],\n",
       " [1072, 1073],\n",
       " [1096, 1097],\n",
       " [1105, 1106],\n",
       " [1207, 1208, 1209, 1210, 1211],\n",
       " [1224, 1225, 1226, 1227, 1228],\n",
       " [1242, 1243, 1244],\n",
       " [1309, 1310, 1311, 1312, 1313],\n",
       " [1364],\n",
       " [1370],\n",
       " [1389, 1390, 1391, 1392, 1393, 1394],\n",
       " [1422, 1423, 1424],\n",
       " [1471],\n",
       " [1493, 1494, 1495, 1496, 1497],\n",
       " [1518, 1519, 1520, 1521, 1522, 1523],\n",
       " [1544, 1545],\n",
       " [1555],\n",
       " [1589, 1590, 1591, 1592, 1593],\n",
       " [1614],\n",
       " [1638, 1639, 1640],\n",
       " [1661, 1662],\n",
       " [1686, 1687, 1688, 1689, 1690],\n",
       " [1711, 1712, 1713, 1714, 1715],\n",
       " [1765, 1766, 1767],\n",
       " [1780, 1781, 1782, 1783, 1784],\n",
       " [1802, 1803, 1804],\n",
       " [1899, 1900, 1901],\n",
       " [1909, 1910],\n",
       " [1927],\n",
       " [1957, 1958, 1959, 1960],\n",
       " [1968, 1969, 1970, 1971],\n",
       " [2053, 2054, 2055, 2056],\n",
       " [2075, 2076, 2077, 2078, 2079],\n",
       " [2153],\n",
       " [2165, 2166],\n",
       " [2194, 2195, 2196, 2197],\n",
       " [2211, 2212],\n",
       " [2220],\n",
       " [2281],\n",
       " [2301, 2302, 2303, 2304, 2305, 2306],\n",
       " [2316, 2317],\n",
       " [2337, 2338, 2339, 2340, 2341, 2342],\n",
       " [2377, 2378, 2379, 2380, 2381],\n",
       " [2400, 2401, 2402, 2403],\n",
       " [2430, 2431, 2432, 2433, 2434, 2435, 2436],\n",
       " [2464, 2465, 2466, 2467, 2468, 2469],\n",
       " [2499],\n",
       " [2519],\n",
       " [2583, 2584, 2585, 2586, 2587, 2588, 2589],\n",
       " [2634, 2635, 2636],\n",
       " [2673, 2674, 2675, 2676],\n",
       " [2699, 2700, 2701, 2702, 2703, 2704, 2705],\n",
       " [2749],\n",
       " [2753, 2754],\n",
       " [2773],\n",
       " [2830],\n",
       " [2850, 2851, 2852],\n",
       " [2898, 2899, 2900, 2901, 2902],\n",
       " [2935, 2936, 2937, 2938, 2939, 2940, 2941],\n",
       " [2951, 2952, 2953, 2954, 2955, 2956],\n",
       " [2990],\n",
       " [3011, 3012],\n",
       " [3059, 3060, 3061, 3062],\n",
       " [3083, 3084, 3085, 3086, 3087, 3088],\n",
       " [3118, 3119],\n",
       " [3203, 3204, 3205, 3206],\n",
       " [3286, 3287],\n",
       " [3311, 3312],\n",
       " [3367, 3368, 3369, 3370, 3371, 3372, 3373],\n",
       " [3385],\n",
       " [3461, 3462, 3463, 3464],\n",
       " [3485, 3486, 3487, 3488, 3489],\n",
       " [3530, 3531, 3532],\n",
       " [3557, 3558, 3559, 3560, 3561, 3562, 3563],\n",
       " [3584, 3585, 3586],\n",
       " [3644, 3645, 3646, 3647, 3648, 3649],\n",
       " [3661, 3662, 3663],\n",
       " [3681, 3682, 3683, 3684, 3685],\n",
       " [3697, 3698, 3699],\n",
       " [3720, 3721],\n",
       " [3758, 3759, 3760, 3761, 3762, 3763],\n",
       " [3779],\n",
       " [3811, 3812, 3813, 3814],\n",
       " [3866],\n",
       " [3889, 3890, 3891, 3892, 3893, 3894],\n",
       " [3965],\n",
       " [3977, 3978, 3979, 3980, 3981, 3982, 3983, 3984],\n",
       " [4024],\n",
       " [4080, 4081, 4082, 4083, 4084, 4085, 4086],\n",
       " [4107, 4108],\n",
       " [4125, 4126, 4127],\n",
       " [4141],\n",
       " [4158, 4159, 4160, 4161],\n",
       " [4182, 4183],\n",
       " [4247, 4248, 4249, 4250, 4251, 4252],\n",
       " [4290, 4291, 4292, 4293, 4294],\n",
       " [4580, 4581],\n",
       " [4612, 4613, 4614, 4615, 4616, 4617, 4618],\n",
       " [4643, 4644, 4645],\n",
       " [4728, 4729, 4730, 4731, 4732, 4733, 4734, 4735],\n",
       " [4763, 4764],\n",
       " [4777],\n",
       " [4800, 4801],\n",
       " [4882, 4883, 4884, 4885, 4886, 4887],\n",
       " [4905, 4906, 4907, 4908, 4909, 4910, 4911],\n",
       " [4929, 4930, 4931],\n",
       " [4941, 4942],\n",
       " [4983],\n",
       " [5014, 5015],\n",
       " [5025, 5026],\n",
       " [5090],\n",
       " [5118, 5119, 5120],\n",
       " [5167, 5168],\n",
       " [5203, 5204, 5205, 5206],\n",
       " [5267],\n",
       " [5283, 5284],\n",
       " [5298, 5299],\n",
       " [5327, 5328, 5329, 5330, 5331, 5332, 5333],\n",
       " [5348, 5349],\n",
       " [5416, 5417, 5418, 5419, 5420],\n",
       " [5468, 5469, 5470, 5471],\n",
       " [5507],\n",
       " [5536],\n",
       " [5594, 5595, 5596],\n",
       " [5614],\n",
       " [5672, 5673, 5674, 5675, 5676, 5677, 5678, 5679],\n",
       " [5794],\n",
       " [5804, 5805],\n",
       " [5820],\n",
       " [5849, 5850, 5851, 5852, 5853, 5854, 5855, 5856, 5857],\n",
       " [5949, 5950, 5951, 5952],\n",
       " [5987, 5988, 5989, 5990, 5991, 5992],\n",
       " [6023, 6024],\n",
       " [6115, 6116, 6117, 6118, 6119, 6120, 6121],\n",
       " [6203, 6204, 6205],\n",
       " [6220, 6221, 6222],\n",
       " [6234],\n",
       " [6270, 6271, 6272, 6273, 6274, 6275, 6276, 6277],\n",
       " [6313],\n",
       " [6340, 6341],\n",
       " [6486, 6487, 6488, 6489, 6490, 6491, 6492, 6493, 6494],\n",
       " [6524, 6525],\n",
       " [6550, 6551],\n",
       " [6627, 6628],\n",
       " [6641, 6642],\n",
       " [6669, 6670],\n",
       " [6742],\n",
       " [6760, 6761, 6762],\n",
       " [6977, 6978, 6979, 6980, 6981, 6982, 6983, 6984],\n",
       " [7017, 7018, 7019, 7020, 7021, 7022, 7023],\n",
       " [7048, 7049],\n",
       " [7098, 7099, 7100, 7101, 7102, 7103, 7104, 7105],\n",
       " [7131, 7132, 7133, 7134, 7135, 7136, 7137, 7138],\n",
       " [7166, 7167, 7168],\n",
       " [7230, 7231],\n",
       " [7380, 7381],\n",
       " [7391],\n",
       " [7401, 7402, 7403],\n",
       " [7428, 7429],\n",
       " [7453, 7454],\n",
       " [7481, 7482],\n",
       " [7644, 7645, 7646, 7647, 7648, 7649, 7650, 7651, 7652],\n",
       " [7679, 7680, 7681],\n",
       " [7707, 7708, 7709],\n",
       " [7721],\n",
       " [7741, 7742, 7743],\n",
       " [7799, 7800, 7801],\n",
       " [7818, 7819, 7820, 7821, 7822, 7823, 7824],\n",
       " [7939, 7940, 7941],\n",
       " [8020, 8021, 8022, 8023, 8024, 8025, 8026, 8027],\n",
       " [8048],\n",
       " [8084],\n",
       " [8101, 8102, 8103, 8104, 8105, 8106, 8107],\n",
       " [8160]]"
      ]
     },
     "execution_count": 55,
     "metadata": {},
     "output_type": "execute_result"
    }
   ],
   "source": [
    "lx_cwt"
   ]
  },
  {
   "cell_type": "code",
   "execution_count": 56,
   "metadata": {},
   "outputs": [
    {
     "data": {
      "text/plain": [
       "30"
      ]
     },
     "execution_count": 56,
     "metadata": {},
     "output_type": "execute_result"
    }
   ],
   "source": [
    "\n",
    "# 2016-05-15: PAREI AQUI: ver como achar o coef mahximo em cada regiao:\n",
    "len(coeffs_in_regions)"
   ]
  },
  {
   "cell_type": "code",
   "execution_count": null,
   "metadata": {},
   "outputs": [],
   "source": []
  },
  {
   "cell_type": "code",
   "execution_count": null,
   "metadata": {},
   "outputs": [],
   "source": []
  },
  {
   "cell_type": "code",
   "execution_count": null,
   "metadata": {},
   "outputs": [],
   "source": [
    "# factor for gaussian with fwhm\n",
    "fgf = 4.0 * np.log(2.0)\n",
    "fgf"
   ]
  },
  {
   "cell_type": "code",
   "execution_count": null,
   "metadata": {},
   "outputs": [],
   "source": [
    "\n",
    "# Ateh agora: spLngData, spCounts, indicescwt, regions, multiplets, blin."
   ]
  },
  {
   "cell_type": "code",
   "execution_count": 17,
   "metadata": {},
   "outputs": [],
   "source": [
    "def gaussian_fw(x,*p):\n",
    "    ng = int( len(p) / 3)\n",
    "    a = 0.0\n",
    "    for i in range(ng):\n",
    "        fw, he, cn = p[3*i+0], p[3*i+1], p[3*i+2]\n",
    "        a += he*np.exp(-fgf*(x-cn)**2/fw**2)\n",
    "    return a"
   ]
  },
  {
   "cell_type": "code",
   "execution_count": 18,
   "metadata": {},
   "outputs": [],
   "source": [
    "flatten = lambda l: [item for sublist in l for item in sublist]"
   ]
  },
  {
   "cell_type": "code",
   "execution_count": 19,
   "metadata": {},
   "outputs": [],
   "source": [
    "lx_nonegat = []\n",
    "nety_nonegat = []\n",
    "sigma_nety = []\n",
    "for i in range(len(lx[3])):\n",
    "    if nety[3][i] > 0.0:\n",
    "        lx_nonegat.append(lx[3][i])\n",
    "        nety_nonegat.append(nety[3][i])\n",
    "        sigma_nety.append(np.sqrt(nety[3][i]))\n",
    "# (lx_nonegat,nety_nonegat,sigma_nety)"
   ]
  },
  {
   "cell_type": "code",
   "execution_count": 20,
   "metadata": {},
   "outputs": [],
   "source": [
    "def no_negats(i, lx, nety):\n",
    "    lx_nonegat = []\n",
    "    nety_nonegat = []\n",
    "    sigma_nety = []\n",
    "    for j in range(len(lx[i])):\n",
    "        if nety[i][j] > 0.0:\n",
    "            lx_nonegat.append(lx[i][j])\n",
    "            nety_nonegat.append(nety[i][j])\n",
    "            sigma_nety.append(np.sqrt(nety[i][j]))\n",
    "    return lx_nonegat, nety_nonegat, sigma_nety"
   ]
  },
  {
   "cell_type": "code",
   "execution_count": 21,
   "metadata": {},
   "outputs": [
    {
     "data": {
      "text/plain": [
       "array([0.000e+00, 1.000e+00, 2.000e+00, ..., 8.189e+03, 8.190e+03,\n",
       "       8.191e+03])"
      ]
     },
     "execution_count": 21,
     "metadata": {},
     "output_type": "execute_result"
    }
   ],
   "source": [
    "xs"
   ]
  },
  {
   "cell_type": "raw",
   "metadata": {},
   "source": [
    "Agora, generalizando:"
   ]
  },
  {
   "cell_type": "code",
   "execution_count": 22,
   "metadata": {},
   "outputs": [],
   "source": [
    "spec0 = spec2"
   ]
  },
  {
   "cell_type": "code",
   "execution_count": 23,
   "metadata": {},
   "outputs": [
    {
     "name": "stdout",
     "output_type": "stream",
     "text": [
      "0\n",
      "Length of lx_nonegat:  41\n",
      "Error: curve_fit failed.\n",
      "-----------------------------\n",
      "1\n",
      "Length of lx_nonegat:  20\n",
      "[   4.1352072  3195.8661026   236.36089566]\n",
      "Ajuste Ok.\n",
      "-----------------------------\n",
      "2\n",
      "Length of lx_nonegat:  20\n",
      "[   3.96645789 2251.94181157  270.2616792 ]\n",
      "Ajuste Ok.\n",
      "-----------------------------\n",
      "3\n",
      "Length of lx_nonegat:  46\n",
      "[ 4.61029775e+00  1.36853056e+04  3.79466321e+02  4.06554160e+00\n",
      " -9.61350776e+03  3.93258277e+02  5.09700277e+00  2.96735947e+04\n",
      "  3.91581030e+02  4.68645885e+00  2.04441059e+03  4.02065081e+02]\n",
      "Ajuste Ok.\n",
      "-----------------------------\n",
      "4\n",
      "Length of lx_nonegat:  29\n",
      "[ 5.29454084e+00  6.53143309e+03  4.42051221e+02  1.71536141e+01\n",
      " -1.00979038e+03  4.85893697e+00  4.65574129e+00  2.61265562e+03\n",
      "  4.55510505e+02]\n",
      "Matriz de covariancia ruim.\n",
      "-----------------------------\n",
      "5\n",
      "Length of lx_nonegat:  14\n",
      "[  1.661353   100.99718011 704.40263889]\n",
      "Ajuste Ok.\n",
      "-----------------------------\n",
      "6\n",
      "Length of lx_nonegat:  13\n",
      "[  6.64282468  33.1313021  793.80395218]\n",
      "Ajuste Ok.\n",
      "-----------------------------\n",
      "7\n",
      "Length of lx_nonegat:  49\n",
      "[-2.35979010e+01  2.37136727e+01  9.44997898e+02  4.79129427e+00\n",
      "  5.42567001e+03  9.43300430e+02  7.69443573e-01 -2.94372857e+01\n",
      "  9.54518309e+02  2.26068568e+01  2.22611564e+01  9.88034315e+02\n",
      "  2.64576302e+00  8.14575675e+01  9.93766221e+02]\n",
      "Ajuste Ok.\n",
      "-----------------------------\n",
      "8\n",
      "Length of lx_nonegat:  37\n",
      "[-1.66723746e+01  2.18254308e+01  1.19052842e+03  4.54457326e+00\n",
      "  1.03436030e+03  1.20855110e+03  5.16196710e+00  8.06832070e+03\n",
      "  1.22558733e+03]\n",
      "Ajuste Ok.\n",
      "-----------------------------\n",
      "9\n",
      "Length of lx_nonegat:  16\n",
      "[   5.28824981  518.34199144 1311.23625999]\n",
      "Ajuste Ok.\n",
      "-----------------------------\n",
      "10\n",
      "Length of lx_nonegat:  18\n",
      "[   6.95932507  300.9802025  1390.7854713 ]\n",
      "Ajuste Ok.\n",
      "-----------------------------\n",
      "11\n",
      "Length of lx_nonegat:  20\n",
      "[5.35171745e+00 1.63360106e+04 1.49492491e+03]\n",
      "Ajuste Ok.\n",
      "-----------------------------\n",
      "12\n",
      "Length of lx_nonegat:  4\n",
      "[   3.0837409    16.22788946 1727.78154676]\n",
      "Ajuste Ok.\n",
      "-----------------------------\n",
      "13\n",
      "Length of lx_nonegat:  20\n",
      "[5.61153088e+00 2.51738976e+04 1.78196154e+03]\n",
      "Ajuste Ok.\n",
      "-----------------------------\n",
      "14\n",
      "Length of lx_nonegat:  46\n",
      "Error: curve_fit failed."
     ]
    },
    {
     "name": "stderr",
     "output_type": "stream",
     "text": [
      "/home/marcelo/anaconda3/lib/python3.7/site-packages/scipy/optimize/minpack.py:794: OptimizeWarning: Covariance of the parameters could not be estimated\n",
      "  category=OptimizeWarning)\n"
     ]
    },
    {
     "name": "stdout",
     "output_type": "stream",
     "text": [
      "\n",
      "-----------------------------\n",
      "15\n",
      "Length of lx_nonegat:  31\n",
      "[ 3.88091576e+00  6.52840840e+01  2.05401784e+03 -1.98050451e+02\n",
      "  6.96729235e+01  1.87917488e+03  1.53066125e+00  2.14511914e+01\n",
      "  2.09248768e+03]\n",
      "Ajuste Ok.\n",
      "-----------------------------\n",
      "16\n",
      "Length of lx_nonegat:  13\n",
      "Error: curve_fit failed.\n",
      "-----------------------------\n",
      "17\n",
      "Length of lx_nonegat:  14\n",
      "[  -8.98816172   31.56226223 2241.54591082]\n",
      "Ajuste Ok.\n",
      "-----------------------------\n",
      "18\n",
      "Length of lx_nonegat:  43\n",
      "[   5.70322857  130.98925928 2302.83755635    5.43922021   25.15853421\n",
      " 2318.34409772    8.07712099   75.8242176  2339.71319775]\n",
      "Ajuste Ok.\n",
      "-----------------------------\n",
      "19\n",
      "Length of lx_nonegat:  35\n",
      "[   4.30727092   46.21007792 2401.06305192    8.31554617   23.58600303\n",
      " 2416.33570693    5.54929774  147.23317553 2432.27930198]\n",
      "Ajuste Ok.\n",
      "-----------------------------\n",
      "20\n",
      "Length of lx_nonegat:  15\n",
      "[   7.41550929  103.24439875 2464.66992533]\n",
      "Ajuste Ok.\n",
      "-----------------------------\n",
      "21\n",
      "Length of lx_nonegat:  52\n",
      "[  12.37347568  177.9593463  2585.67079379  -11.64772562   25.61784136\n",
      " 2602.998742  ]\n",
      "Ajuste Ok.\n",
      "-----------------------------\n",
      "22\n",
      "Length of lx_nonegat:  11\n",
      "[-8.97159401e-01 -7.05228843e+00  2.76929370e+03  1.13468935e+00\n",
      "  1.57303574e+01  2.77975067e+03  1.81751653e+01  9.11281859e+00\n",
      "  2.80344712e+03]\n",
      "Matriz de covariancia ruim.\n",
      "-----------------------------\n",
      "23\n",
      "Length of lx_nonegat:  20\n",
      "[  35.82499363    6.87095789 2877.21840487]\n",
      "Ajuste Ok.\n",
      "-----------------------------\n",
      "24\n",
      "Length of lx_nonegat:  29\n",
      "[   6.27535811   99.48171293 2938.02414528    5.20477742  109.76488943\n",
      " 2952.08758893    6.91170784  100.41902718 2954.80920584]\n",
      "Ajuste Ok.\n",
      "-----------------------------\n",
      "25\n",
      "Length of lx_nonegat:  5\n",
      "[  11.00344049   26.23421096 3039.02127426]\n",
      "Ajuste Ok.\n",
      "-----------------------------\n",
      "26\n",
      "Length of lx_nonegat:  23\n",
      "[6.88682614e+00 1.42068187e+04 3.08539979e+03]\n",
      "Ajuste Ok.\n",
      "-----------------------------\n",
      "27\n",
      "Length of lx_nonegat:  18\n",
      "Error: curve_fit failed.\n",
      "-----------------------------\n",
      "28\n",
      "Length of lx_nonegat:  27\n",
      "Error: curve_fit failed.\n",
      "-----------------------------\n",
      "29\n",
      "Length of lx_nonegat:  50\n",
      "Error: curve_fit failed.\n",
      "-----------------------------\n",
      "30\n",
      "Length of lx_nonegat:  57\n",
      "[ 1.41856537e+01  2.39450422e+01  3.61301517e+03  1.87963499e+01\n",
      "  1.88857445e+00  3.64909946e+03 -3.74808684e+00  2.44850563e+01\n",
      "  3.65058576e+03  2.52007672e+00  2.09277692e+01  3.67420868e+03\n",
      "  5.94987811e-02  7.86591101e+00  3.68143282e+03  8.55129421e+00\n",
      "  1.19286857e+01  3.69328382e+03]\n",
      "Matriz de covariancia ruim.\n",
      "-----------------------------\n",
      "31\n",
      "Length of lx_nonegat:  21\n",
      "[   7.60932464 1077.65190626 3891.4548035 ]\n",
      "Ajuste Ok.\n",
      "-----------------------------\n",
      "32\n",
      "Length of lx_nonegat:  14\n",
      "[  36.38073551    6.19453253 3901.39020541]\n",
      "Ajuste Ok.\n",
      "-----------------------------\n",
      "33\n",
      "Length of lx_nonegat:  35\n",
      "[8.79704749e+00 2.29705766e+02 3.98015538e+03 1.44385256e+00\n",
      " 4.34625436e+01 3.99358952e+03 1.22507408e+01 1.74156624e+01\n",
      " 4.01922971e+03]\n",
      "Ajuste Ok.\n",
      "-----------------------------\n",
      "34\n",
      "Length of lx_nonegat:  17\n",
      "[   7.06817945  262.92993888 4083.0344957 ]\n",
      "Ajuste Ok.\n",
      "-----------------------------\n",
      "35\n",
      "Length of lx_nonegat:  50\n",
      "[ 1.73753764e+00 -1.75479075e+01  4.15294917e+03  1.19724943e+01\n",
      "  2.84318993e+01  4.15766919e+03  1.10138463e+01  1.55282837e+01\n",
      "  4.18351155e+03  5.98887485e+00  1.03300401e+01  4.20885714e+03]\n",
      "Ajuste Ok.\n",
      "-----------------------------\n",
      "36\n",
      "Length of lx_nonegat:  18\n",
      "[   7.79628717  113.59004623 4248.95648738]\n",
      "Ajuste Ok.\n",
      "-----------------------------\n",
      "37\n",
      "Length of lx_nonegat:  7\n",
      "[   8.12901074    8.55992839 4306.78379694]\n",
      "Ajuste Ok.\n",
      "-----------------------------\n",
      "38\n",
      "Length of lx_nonegat:  10\n",
      "[   5.16554669    8.75831505 4377.98689368]\n",
      "Ajuste Ok.\n",
      "-----------------------------\n",
      "39\n",
      "Length of lx_nonegat:  40\n",
      "Error: curve_fit failed.\n",
      "-----------------------------\n",
      "40\n",
      "Length of lx_nonegat:  14\n",
      "[   4.80500611   32.41679757 4546.11179677  -25.83425685    7.6548006\n",
      " 4572.55049669]\n",
      "Ajuste Ok.\n",
      "-----------------------------\n",
      "41\n",
      "Length of lx_nonegat:  7\n",
      "Error: curve_fit failed.\n",
      "-----------------------------\n",
      "42\n",
      "Length of lx_nonegat:  41\n",
      "[ 1.45661745e+02  9.88688823e+00  4.65065924e+03  8.39765205e+00\n",
      "  5.21852314e+02  4.73116400e+03  2.36407527e+00 -1.35588538e+01\n",
      "  4.73795489e+03]\n",
      "Ajuste Ok.\n",
      "-----------------------------\n",
      "43\n",
      "Length of lx_nonegat:  20\n",
      "[  23.48415149   20.16675753 4772.80330071]\n",
      "Ajuste Ok.\n",
      "-----------------------------\n",
      "44\n",
      "Length of lx_nonegat:  36\n",
      "[   7.69666858   66.87618116 4884.01832432    6.97803013   48.83521732\n",
      " 4908.59148297]\n",
      "Ajuste Ok.\n",
      "-----------------------------\n",
      "45\n",
      "Length of lx_nonegat:  6\n",
      "Error: curve_fit failed.\n",
      "-----------------------------\n",
      "46\n",
      "Length of lx_nonegat:  27\n",
      "Error: curve_fit failed.\n",
      "-----------------------------\n",
      "47\n",
      "Length of lx_nonegat:  21\n",
      "[   8.97405557   12.6087982  5165.25529844]\n",
      "Ajuste Ok.\n",
      "-----------------------------\n",
      "48\n",
      "Length of lx_nonegat:  11\n",
      "[3.09871464e+01 4.03617695e+00 5.30254263e+03]\n",
      "Ajuste Ok.\n",
      "-----------------------------\n",
      "49\n",
      "Length of lx_nonegat:  16\n",
      "[3.92307207e+00 2.27516602e+01 5.59689931e+03]\n",
      "Ajuste Ok.\n",
      "-----------------------------\n",
      "50\n",
      "Length of lx_nonegat:  40\n",
      "[2.22479490e+01 4.17174309e+00 5.64786145e+03 7.50647527e+00\n",
      " 5.43231755e+02 5.67246509e+03 8.59037169e+00 1.68904249e+03\n",
      " 5.67621198e+03]\n",
      "Ajuste Ok.\n",
      "-----------------------------\n",
      "51\n",
      "Length of lx_nonegat:  10\n",
      "[  22.88532772   15.61186768 5750.61978423]\n",
      "Ajuste Ok.\n",
      "-----------------------------\n",
      "52\n",
      "Length of lx_nonegat:  17\n",
      "[  58.29596996    7.44753215 5794.33740329]\n",
      "Ajuste Ok.\n",
      "-----------------------------\n",
      "53\n",
      "Length of lx_nonegat:  22\n",
      "[9.75050288e+00 1.33701309e+02 5.85120115e+03 3.59815968e+00\n",
      " 7.24982389e+01 5.85054928e+03 4.48974601e+00 9.21212548e+01\n",
      " 5.85554833e+03]\n",
      "Ajuste Ok.\n",
      "-----------------------------\n",
      "54\n",
      "Length of lx_nonegat:  36\n",
      "[5.54652593e+00 8.01339414e+00 5.89526450e+03 1.07258466e+01\n",
      " 4.31925611e+00 5.91597980e+03 7.48523296e+00 6.50199385e+00\n",
      " 5.93548036e+03 1.60588480e+00 8.54717121e+00 5.93082220e+03\n",
      " 2.46806595e+00 2.08078328e+01 5.94211960e+03]\n",
      "Ajuste Ok.\n",
      "-----------------------------\n",
      "55\n",
      "Length of lx_nonegat:  5\n",
      "[ -13.29638447   12.6432441  6154.89799896]\n",
      "Ajuste Ok.\n",
      "-----------------------------\n",
      "56\n",
      "Length of lx_nonegat:  16\n",
      "[2.58237505e+01 4.94630330e+00 6.19202592e+03]\n",
      "Ajuste Ok.\n",
      "-----------------------------\n",
      "57\n",
      "Length of lx_nonegat:  25\n",
      "[4.53731058e+00 5.00979936e+01 6.26636070e+03 8.80045858e+00\n",
      " 6.84099476e+02 6.27312235e+03]\n",
      "Ajuste Ok.\n",
      "-----------------------------\n",
      "58\n",
      "Length of lx_nonegat:  49\n",
      "Error: curve_fit failed.\n",
      "-----------------------------\n",
      "59\n",
      "Length of lx_nonegat:  26\n",
      "Error: curve_fit failed.\n",
      "-----------------------------\n",
      "60\n",
      "Length of lx_nonegat:  9\n",
      "[2.05905274e+00 2.02361018e+01 6.58802169e+03]\n",
      "Ajuste Ok.\n",
      "-----------------------------\n",
      "61\n",
      "Length of lx_nonegat:  15\n",
      "[  10.51348938    8.86302453 6701.00308299    7.61442875    7.12689436\n",
      " 6715.27152624]\n",
      "Ajuste Ok.\n",
      "-----------------------------\n",
      "62\n",
      "Length of lx_nonegat:  13\n",
      "[  10.97920492   11.04007016 6809.64076061]\n",
      "Ajuste Ok.\n",
      "-----------------------------\n",
      "63\n",
      "Length of lx_nonegat:  18\n",
      "Error: curve_fit failed.\n",
      "-----------------------------\n",
      "64\n",
      "Length of lx_nonegat:  12\n",
      "[3.77723439e+00 1.13658311e+01 6.92635640e+03]\n",
      "Ajuste Ok.\n",
      "-----------------------------\n",
      "65\n",
      "Length of lx_nonegat:  28\n",
      "Error: curve_fit failed.\n",
      "-----------------------------\n",
      "66\n",
      "Length of lx_nonegat:  22\n",
      "[  10.82216604   78.90841767 7019.69077656]\n",
      "Ajuste Ok.\n",
      "-----------------------------\n",
      "67\n",
      "Length of lx_nonegat:  51\n",
      "[ 1.03704043e+01  3.21004103e+01  7.09713846e+03  9.26420430e+00\n",
      "  1.23483515e+02  7.10213118e+03  2.90175665e+00  4.16490808e+01\n",
      "  7.12675282e+03  6.17052958e+00  1.10706630e+02  7.13139407e+03\n",
      "  7.82180802e+00  1.82080675e+02  7.13577530e+03 -1.27893605e+00\n",
      " -1.56755936e+00  7.15806927e+03]\n",
      "Matriz de covariancia ruim.\n",
      "-----------------------------\n",
      "68\n",
      "Length of lx_nonegat:  12\n",
      "[4.65363534e+01 3.67179341e+00 7.19118537e+03]\n",
      "Ajuste Ok.\n",
      "-----------------------------\n",
      "69\n",
      "Length of lx_nonegat:  2\n",
      "Error: few points to fit.\n",
      "-----------------------------\n",
      "70\n",
      "Length of lx_nonegat:  43\n",
      "Error: curve_fit failed.\n",
      "-----------------------------\n",
      "71\n",
      "Length of lx_nonegat:  30\n",
      "[4.52249196e+00 1.39200316e+01 7.40166770e+03 1.20769171e+01\n",
      " 1.10229765e+01 7.41880399e+03]\n",
      "Ajuste Ok.\n",
      "-----------------------------\n",
      "72\n",
      "Length of lx_nonegat:  10\n",
      "[ -12.63765046    7.93749163 7463.26029316]\n",
      "Ajuste Ok.\n",
      "-----------------------------\n",
      "73\n",
      "Length of lx_nonegat:  15\n",
      "[  57.57657599   11.96954192 7468.82687688]\n",
      "Ajuste Ok.\n",
      "-----------------------------\n",
      "74\n",
      "Length of lx_nonegat:  22\n",
      "[2.58027512e+01 7.13824347e+00 7.57114142e+03]\n",
      "Ajuste Ok.\n",
      "-----------------------------\n",
      "75\n",
      "Length of lx_nonegat:  15\n",
      "Error: curve_fit failed.\n",
      "-----------------------------\n",
      "76\n",
      "Length of lx_nonegat:  26\n",
      "Error: curve_fit failed.\n",
      "-----------------------------\n",
      "77\n",
      "Length of lx_nonegat:  50\n",
      "[1.28451347e+01 3.91893814e+01 7.79521615e+03 1.23436507e+00\n",
      " 2.46628922e+01 7.80718052e+03 5.97710728e-01 9.40313557e+01\n",
      " 7.81256871e+03 9.89797656e+00 4.07150079e+01 7.82011561e+03]\n",
      "Ajuste Ok.\n",
      "-----------------------------\n",
      "78\n",
      "Length of lx_nonegat:  11\n",
      "[7.68919126e+00 7.41174323e+00 7.92311245e+03]\n",
      "Ajuste Ok.\n",
      "-----------------------------\n",
      "79\n",
      "Length of lx_nonegat:  20\n",
      "[  16.52478773    8.03997937 7989.32097677]\n",
      "Ajuste Ok.\n",
      "-----------------------------\n",
      "80\n",
      "Length of lx_nonegat:  15\n",
      "[ 1.09182144e+01  4.93976183e+01  8.02402808e+03  6.22920115e-01\n",
      " -4.98162231e+01  8.02848684e+03]\n",
      "Ajuste Ok.\n",
      "-----------------------------\n",
      "81\n",
      "Length of lx_nonegat:  20\n",
      "[  10.32289648   17.64921732 8078.18222218]\n",
      "Ajuste Ok.\n",
      "-----------------------------\n",
      "82\n",
      "Length of lx_nonegat:  15\n",
      "[1.81322378e+01 6.23040676e+00 8.13657140e+03]\n",
      "Ajuste Ok.\n",
      "-----------------------------\n",
      "83\n",
      "Length of lx_nonegat:  6\n",
      "Error: curve_fit failed.\n",
      "-----------------------------\n"
     ]
    }
   ],
   "source": [
    "# Outra versao, usando fwhm\n",
    "first_general_fit_fw = []\n",
    "ini_fwhm = 6.0\n",
    "for i in range(len(spec0.multiplets)):\n",
    "    print(i)\n",
    "    ipks = [j-spec0.regions[i][0] for j in spec0.multiplets[i]]\n",
    "    try:\n",
    "        multi_heis = [nety[i][ipk] for ipk in ipks]\n",
    "    except (IndexError):\n",
    "        print('Error: IndexError')\n",
    "    else:\n",
    "        inipars = [[ini_fwhm, i2,i3] for i2,i3 in zip(multi_heis, spec0.multiplets[i])]\n",
    "        iniflat = flatten(inipars)\n",
    "        #if len(lx_nonegat) < 3:\n",
    "        #    print('Error: few points to fit.')\n",
    "        #    break\n",
    "        lx_nonegat, nety_nonegat, sigma_nety = no_negats(i, lx, nety)\n",
    "        len_lx_nonegat = len(lx_nonegat)\n",
    "        print('Length of lx_nonegat: ', len_lx_nonegat)\n",
    "        fittd = True\n",
    "        if len_lx_nonegat < 4:\n",
    "            print('Error: few points to fit.')\n",
    "            fittd = False\n",
    "        else:\n",
    "            try:\n",
    "                popt_gauss1, pcov_gauss1 = curve_fit(gaussian_fw, lx_nonegat, nety_nonegat, sigma=sigma_nety, p0=iniflat)\n",
    "            except (RuntimeError, TypeError):\n",
    "                fittd = False\n",
    "                print(\"Error: curve_fit failed.\")\n",
    "            if fittd:\n",
    "                print(popt_gauss1)\n",
    "                if np.inf in pcov_gauss1:\n",
    "                    print('Matriz de covariancia ruim.')\n",
    "                else:\n",
    "                    print('Ajuste Ok.')\n",
    "                    first_general_fit_fw.append( [lx_nonegat, nety_nonegat, popt_gauss1, pcov_gauss1] )\n",
    "        print('-----------------------------')"
   ]
  },
  {
   "cell_type": "code",
   "execution_count": null,
   "metadata": {},
   "outputs": [],
   "source": []
  },
  {
   "cell_type": "code",
   "execution_count": 24,
   "metadata": {},
   "outputs": [],
   "source": [
    "#  Versao com fw em vez de sh\n",
    "list_fwhms = []\n",
    "list_channs = []\n",
    "list_unc_fwhms = []\n",
    "for i in range(len(first_general_fit_fw)):\n",
    "    parms, cov_parms = first_general_fit_fw[i][2:4] \n",
    "    fwhms_inds = [j*3 for j in range(len(parms)//3)]\n",
    "    fwhms = [parms[j] for j in fwhms_inds]\n",
    "    unc_fwhms = [np.sqrt(cov_parms[j,j]) for j in fwhms_inds]\n",
    "    channs_inds = [j*3+2 for j in range(len(parms)//3)]\n",
    "    channs = [parms[j] for j in channs_inds]\n",
    "    unc_channs = [np.sqrt(cov_parms[j,j]) for j in channs_inds]\n",
    "    for k in range(len(fwhms)):\n",
    "        if fwhms[k] > 0.0 and unc_fwhms[k]/fwhms[k] < 0.15:\n",
    "            list_channs.append(channs[k])\n",
    "            list_fwhms.append(fwhms[k])\n",
    "            list_unc_fwhms.append(unc_fwhms[k])"
   ]
  },
  {
   "cell_type": "code",
   "execution_count": 25,
   "metadata": {},
   "outputs": [
    {
     "data": {
      "text/plain": [
       "(array([0.09169161, 1.77766031]), array([[ 2.52126925e-06, -1.21724772e-04],\n",
       "        [-1.21724772e-04,  6.01191993e-03]]), array([ 3.18733011,  3.28503708,  3.56380321,  3.5920911 ,  3.61622012,\n",
       "         4.59380264,  4.96524765,  4.98763579,  5.09790476,  5.19713707,\n",
       "         5.32284834,  5.64826436,  6.17774703,  6.2128367 ,  6.29972016,\n",
       "         6.32973068,  6.44013191,  6.74767033,  6.87079671,  7.49752269,\n",
       "         7.56234375,  7.59066935,  7.63662808,  7.68993427,  7.75448787,\n",
       "         8.08452604,  8.18559721,  8.20169724,  8.68576463,  8.79143965,\n",
       "         9.03991479,  9.45991277,  9.87316009,  9.8860791 ,  9.99111384,\n",
       "        10.01878352]))"
      ]
     },
     "execution_count": 25,
     "metadata": {},
     "output_type": "execute_result"
    }
   ],
   "source": [
    "channs=np.array(list_channs)\n",
    "fwhms=np.array(list_fwhms)\n",
    "unc_fwhms=np.array(list_unc_fwhms)\n",
    "sqrt_channs = np.sqrt(channs)\n",
    "weis = np.array(unc_fwhms)**-2\n",
    "coeff_fwhm_fit, covar_fwhm_fit = np.polyfit(sqrt_channs, fwhms, deg=1, w=weis, cov=True)\n",
    "poly1 = np.poly1d(coeff_fwhm_fit)\n",
    "fit1 = poly1(sqrt_channs)\n",
    "\n",
    "coeff_fwhm_fit, covar_fwhm_fit, fit1"
   ]
  },
  {
   "cell_type": "code",
   "execution_count": 26,
   "metadata": {},
   "outputs": [
    {
     "data": {
      "text/plain": [
       "(array([0.10604763, 0.11314764, 0.10918141, 0.61428365, 0.40534344,\n",
       "        0.07468659, 0.13511985, 0.04352587, 0.32530408, 0.43527354,\n",
       "        0.05600556, 0.02254538, 0.33681189, 0.72509353, 0.42683563,\n",
       "        0.78541994, 0.83351355, 0.43059479, 0.02232954, 0.09733711,\n",
       "        0.18922077, 1.68186548, 0.2209771 , 1.58286235, 0.34078212,\n",
       "        0.27039347, 0.62643055, 0.62973673, 1.28746099, 1.06223145,\n",
       "        0.28782738, 0.43394449, 1.29913821, 1.12898863, 0.93420996,\n",
       "        1.29888449]),\n",
       " array([8.89197238e+01, 7.81104300e+01, 8.38885316e+01, 2.65009897e+00,\n",
       "        6.08630499e+00, 1.79272956e+02, 5.47723890e+01, 5.27843468e+02,\n",
       "        9.44976447e+00, 5.27807385e+00, 3.18814207e+02, 1.96736538e+03,\n",
       "        8.81505810e+00, 1.90200628e+00, 5.48881586e+00, 1.62104903e+00,\n",
       "        1.43937739e+00, 5.39339781e+00, 2.00558163e+03, 1.05546318e+02,\n",
       "        2.79294493e+01, 3.53522847e-01, 2.04788453e+01, 3.99129382e-01,\n",
       "        8.61085741e+00, 1.36775277e+01, 2.54832102e+00, 2.52163344e+00,\n",
       "        6.03297936e-01, 8.86261099e-01, 1.20707930e+01, 5.31045399e+00,\n",
       "        5.92501271e-01, 7.84550425e-01, 1.14580580e+00, 5.92732768e-01]))"
      ]
     },
     "execution_count": 26,
     "metadata": {},
     "output_type": "execute_result"
    }
   ],
   "source": [
    "unc_fwhms, weis"
   ]
  },
  {
   "cell_type": "code",
   "execution_count": 27,
   "metadata": {},
   "outputs": [
    {
     "data": {
      "text/plain": [
       "(array([ 4.1352072 ,  3.96645789,  4.61029775,  5.09700277,  4.68645885,\n",
       "         4.79129427,  4.54457326,  5.1619671 ,  5.28824981,  6.95932507,\n",
       "         5.35171745,  5.61153088,  5.70322857,  8.07712099,  5.54929774,\n",
       "         7.41550929, 12.37347568,  6.27535811,  6.88682614,  7.60932464,\n",
       "         8.79704749, 12.25074079,  7.06817945, 11.97249434,  7.79628717,\n",
       "         8.39765205,  7.69666858,  6.97803013,  8.59037169,  9.75050288,\n",
       "         8.80045858, 10.82216604, 12.84513466,  9.89797656, 10.9182144 ,\n",
       "        10.32289648]),\n",
       " array([ 236.36089566,  270.2616792 ,  379.46632086,  391.58103049,\n",
       "         402.06508149,  943.30042994, 1208.55110285, 1225.58732502,\n",
       "        1311.23625999, 1390.7854713 , 1494.92491302, 1781.96153674,\n",
       "        2302.83755635, 2339.71319775, 2432.27930198, 2464.66992533,\n",
       "        2585.67079379, 2938.02414528, 3085.39979284, 3891.4548035 ,\n",
       "        3980.15537524, 4019.22971381, 4083.0344957 , 4157.66918589,\n",
       "        4248.95648738, 4731.16399516, 4884.01832432, 4908.59148297,\n",
       "        5676.21198287, 5851.20115197, 6273.12234681, 7019.69077656,\n",
       "        7795.21614816, 7820.1156135 , 8024.02807833, 8078.18222218]))"
      ]
     },
     "execution_count": 27,
     "metadata": {},
     "output_type": "execute_result"
    }
   ],
   "source": [
    "fwhms, channs"
   ]
  },
  {
   "cell_type": "code",
   "execution_count": null,
   "metadata": {},
   "outputs": [],
   "source": []
  },
  {
   "cell_type": "code",
   "execution_count": 28,
   "metadata": {},
   "outputs": [],
   "source": [
    "# Definindo fun,c~ao com fwhms fixos\n",
    "def gaus_fix_fw(*fws):\n",
    "    def g2(x, *hescns): # HEightS, COuntS\n",
    "        pcompl = np.array([])\n",
    "        ng = int( len(hescns) / 2)\n",
    "        for i in range(ng):\n",
    "            pcompl = np.append(pcompl, (fws[i], hescns[2*i+0], hescns[2*i+1]))\n",
    "        return gaussian_fw(x,*pcompl)\n",
    "    return g2"
   ]
  },
  {
   "cell_type": "code",
   "execution_count": 29,
   "metadata": {},
   "outputs": [
    {
     "name": "stdout",
     "output_type": "stream",
     "text": [
      "# 0 :  peaks:  1\n",
      "fws_fit:  [3.18733011]\n",
      "p0:  [3195.866102602346, 236.36089566347565]\n",
      "popt2:  [3569.54876328  236.38996385]\n",
      "Ajuste Ok.\n",
      "-----------------------------\n",
      "# 1 :  peaks:  1\n",
      "fws_fit:  [3.28503708]\n",
      "p0:  [2251.941811565876, 270.26167919967526]\n",
      "popt2:  [2428.57504979  270.15855821]\n",
      "Ajuste Ok.\n",
      "-----------------------------\n",
      "# 2 :  peaks:  4\n",
      "fws_fit:  [3.56380321 3.59597279 3.5920911  3.61622012]\n",
      "p0:  [13685.305589647807, 379.4663208584113, -9613.507762805948, 393.2582774659104, 29673.594699035402, 391.5810304911541, 2044.4105850701228, 402.065081485335]\n",
      "popt2:  [15510.33682532   379.48594427 16938.14049087   391.89942389\n",
      " 13577.94686949   389.8354403   2325.85321372   402.06273144]\n",
      "Ajuste Ok.\n",
      "-----------------------------\n",
      "# 3 :  peaks:  1\n",
      "fws_fit:  [4.21120917]\n",
      "p0:  [100.99718010535219, 704.4026388937463]\n",
      "popt2:  [ 39.87703076 704.60797939]\n",
      "Ajuste Ok.\n",
      "-----------------------------\n",
      "# 4 :  peaks:  1\n",
      "fws_fit:  [4.36102793]\n",
      "p0:  [33.13130209805476, 793.8039521770511]\n",
      "popt2:  [ 70.39088498 791.69608299]\n",
      "Ajuste Ok.\n",
      "-----------------------------\n",
      "# 5 :  peaks:  5\n",
      "fws_fit:  [4.59633532 4.59380264 4.61049815 4.6598038  4.66815183]\n",
      "p0:  [23.713672699718586, 944.9978982000802, 5425.670013133709, 943.3004299447219, -29.437285713271788, 954.5183089650371, 22.261156428532505, 988.0343147802581, 81.45756749001126, 993.7662211010635]\n",
      "popt2:  [4667.35515139  943.60338631 1051.14380142  941.88067374   45.34039582\n",
      "  957.17116637   45.78033964  983.50181998   89.50587834  993.84710855]\n",
      "Ajuste Ok.\n",
      "-----------------------------\n",
      "# 6 :  peaks:  3\n",
      "fws_fit:  [4.94139072 4.96524765 4.98763579]\n",
      "p0:  [21.825430785402837, 1190.5284246708623, 1034.3602970292318, 1208.5511028515393, 8068.320697407266, 1225.5873250181744]\n",
      "popt2:  [  50.97320034 1185.96350287  982.8146857  1208.60706097 8225.47630135\n",
      " 1225.59919907]\n",
      "Ajuste Ok.\n",
      "-----------------------------\n",
      "# 7 :  peaks:  1\n",
      "fws_fit:  [5.09790476]\n",
      "p0:  [518.3419914391266, 1311.2362599865385]\n",
      "popt2:  [ 533.86824658 1311.15488202]\n",
      "Ajuste Ok.\n",
      "-----------------------------\n",
      "# 8 :  peaks:  1\n",
      "fws_fit:  [5.19713707]\n",
      "p0:  [300.98020249958614, 1390.7854713047882]\n",
      "popt2:  [ 355.12374913 1391.12395637]\n",
      "Ajuste Ok.\n",
      "-----------------------------\n",
      "# 9 :  peaks:  1\n",
      "fws_fit:  [5.32284834]\n",
      "p0:  [16336.010571463095, 1494.9249130244061]\n",
      "popt2:  [16378.37153764  1494.95704893]\n",
      "Ajuste Ok.\n",
      "-----------------------------\n",
      "# 10 :  peaks:  1\n",
      "fws_fit:  [5.5889679]\n",
      "p0:  [16.227889463757762, 1727.7815467640253]\n",
      "popt2:  [  63.70086914 1731.15377739]\n",
      "Ajuste Ok.\n",
      "-----------------------------\n",
      "# 11 :  peaks:  1\n",
      "fws_fit:  [5.64826436]\n",
      "p0:  [25173.897631499724, 1781.9615367354543]\n",
      "popt2:  [25056.82567239  1781.95921957]\n",
      "Ajuste Ok.\n",
      "-----------------------------\n",
      "# 12 :  peaks:  3\n",
      "fws_fit:  [5.93324071 5.75244111 5.97197527]\n",
      "p0:  [65.28408397933974, 2054.017835174429, 69.67292354755114, 1879.1748825294824, 21.451191386493146, 2092.487679931878]\n",
      "popt2:  [  70.78113705 2053.93079336   69.67292355 1879.17488253   25.11802886\n",
      " 2090.41772617]\n",
      "Matriz de covariancia ruim.\n",
      "-----------------------------\n",
      "# 13 :  peaks:  1\n",
      "fws_fit:  [6.11879643]\n",
      "p0:  [31.56226222525213, 2241.5459108201435]\n",
      "popt2:  [  49.69930929 2241.0828694 ]\n",
      "Ajuste Ok.\n",
      "-----------------------------\n",
      "# 14 :  peaks:  3\n",
      "fws_fit:  [6.17774703 6.19253654 6.2128367 ]\n",
      "p0:  [130.98925928071387, 2302.8375563470154, 25.15853421182356, 2318.3440977215855, 75.82421759751841, 2339.71319774711]\n",
      "popt2:  [ 127.82008284 2302.9722786    20.0331371  2317.5228935    93.31144658\n",
      " 2339.39757899]\n",
      "Ajuste Ok.\n",
      "-----------------------------\n",
      "# 15 :  peaks:  3\n",
      "fws_fit:  [6.27060804 6.28487474 6.29972016]\n",
      "p0:  [46.21007791663618, 2401.063051915837, 23.586003034714185, 2416.3357069330386, 147.233175529494, 2432.279301978487]\n",
      "popt2:  [  44.58584133 2401.41814555   19.96283255 2418.70512422  144.16722532\n",
      " 2432.82963051]\n",
      "Ajuste Ok.\n",
      "-----------------------------\n",
      "# 16 :  peaks:  1\n",
      "fws_fit:  [6.32973068]\n",
      "p0:  [103.24439874849323, 2464.6699253302445]\n",
      "popt2:  [ 119.86595302 2465.24854985]\n",
      "Ajuste Ok.\n",
      "-----------------------------\n",
      "# 17 :  peaks:  2\n",
      "fws_fit:  [6.44013191 6.45572866]\n",
      "p0:  [177.95934629694975, 2585.670793785427, 25.617841363264006, 2602.998742004419]\n",
      "popt2:  [ 155.81086802 2582.61248796  153.5463794  2588.80018826]\n",
      "Ajuste Ok.\n",
      "-----------------------------\n",
      "# 18 :  peaks:  1\n",
      "fws_fit:  [6.69597145]\n",
      "p0:  [6.870957889970949, 2877.218404865667]\n",
      "popt2:  [  20.3974606  2881.28526915]\n",
      "Ajuste Ok.\n",
      "-----------------------------\n",
      "# 19 :  peaks:  3\n",
      "fws_fit:  [6.74767033 6.75955111 6.76184706]\n",
      "p0:  [99.48171292535095, 2938.024145277277, 109.76488942763885, 2952.0875889341264, 100.41902718347592, 2954.8092058417465]\n",
      "popt2:  [  97.88046713 2938.03868492  181.76312195 2953.1797875    12.43449853\n",
      " 2958.71404626]\n",
      "Ajuste Ok.\n",
      "-----------------------------\n",
      "# 20 :  peaks:  1\n",
      "fws_fit:  [6.83237276]\n",
      "p0:  [26.23421096012409, 3039.0212742648205]\n",
      "popt2:  [ 102.50895558 3040.02064903]\n",
      "Ajuste Ok.\n",
      "-----------------------------\n",
      "# 21 :  peaks:  1\n",
      "fws_fit:  [6.87079671]\n",
      "p0:  [14206.81872386538, 3085.3997928373497]\n",
      "popt2:  [14209.73062774  3085.41291311]\n",
      "Ajuste Ok.\n",
      "-----------------------------\n",
      "# 22 :  peaks:  1\n",
      "fws_fit:  [7.49752269]\n",
      "p0:  [1077.65190626183, 3891.4548034992877]\n",
      "popt2:  [1091.2865171  3891.38964782]\n",
      "Ajuste Ok.\n",
      "-----------------------------\n",
      "# 23 :  peaks:  1\n",
      "fws_fit:  [7.50481982]\n",
      "p0:  [6.1945325281635535, 3901.390205405137]\n",
      "popt2:  [   8.21969198 3933.08389955]\n",
      "Ajuste Ok.\n",
      "-----------------------------\n",
      "# 24 :  peaks:  3\n",
      "fws_fit:  [7.56234375 7.57209799 7.59066935]\n",
      "p0:  [229.7057655863589, 3980.1553752389464, 43.46254363644892, 3993.5895231963523, 17.415662447283086, 4019.2297138066833]\n",
      "popt2:  [ 169.26457109 3978.8676011    97.45144743 3982.51209278   30.90566188\n",
      " 4019.37782742]\n",
      "Ajuste Ok.\n",
      "-----------------------------\n",
      "# 25 :  peaks:  1\n",
      "fws_fit:  [7.63662808]\n",
      "p0:  [262.92993887983357, 4083.034495697416]\n",
      "popt2:  [ 253.2507319  4082.99130832]\n",
      "Ajuste Ok.\n",
      "-----------------------------\n",
      "# 26 :  peaks:  4\n",
      "fws_fit:  [7.68657734 7.68993427 7.70827994 7.72621799]\n",
      "p0:  [-17.547907511568745, 4152.949172757986, 28.431899274780346, 4157.669185887288, 15.528283726326116, 4183.511552944134, 10.330040083312742, 4208.857139820954]\n",
      "popt2:  [  18.35851265 4147.15697744   37.87575778 4159.21044985   22.98705437\n",
      " 4182.7300569    10.56755644 4209.13614451]\n",
      "Ajuste Ok.\n",
      "-----------------------------\n",
      "# 27 :  peaks:  1\n",
      "fws_fit:  [7.75448787]\n",
      "p0:  [113.59004623397816, 4248.956487378258]\n",
      "popt2:  [ 116.11658525 4249.05717425]\n",
      "Ajuste Ok.\n",
      "-----------------------------\n",
      "# 28 :  peaks:  1\n",
      "fws_fit:  [7.79502204]\n",
      "p0:  [8.55992839082946, 4306.78379693742]\n",
      "popt2:  [   9.78445873 4308.01175945]\n",
      "Ajuste Ok.\n",
      "-----------------------------\n",
      "# 29 :  peaks:  1\n",
      "fws_fit:  [7.84455998]\n",
      "p0:  [8.758315050361047, 4377.986893675005]\n",
      "popt2:  [  12.18206984 4378.52382732]\n",
      "Ajuste Ok.\n",
      "-----------------------------\n",
      "# 30 :  peaks:  2\n",
      "fws_fit:  [7.95995411 7.97790515]\n",
      "p0:  [32.41679756808912, 4546.111796774321, 7.654800598234351, 4572.550496692782]\n",
      "popt2:  [  19.05074187 4545.84975348   24.71052309 4570.65557072]\n",
      "Ajuste Ok.\n",
      "-----------------------------\n",
      "# 31 :  peaks:  3\n",
      "fws_fit:  [8.03063749 8.08452604 8.08905071]\n",
      "p0:  [9.886888225372784, 4650.659238955172, 521.8523140885609, 4731.163995155474, -13.55885380666673, 4737.954887161716]\n",
      "popt2:  [   9.88688823 4650.65923896  140.37232251 4729.16545189  411.20304863\n",
      " 4731.71356996]\n",
      "Matriz de covariancia ruim.\n",
      "-----------------------------\n",
      "# 32 :  peaks:  1\n",
      "fws_fit:  [8.11221883]\n",
      "p0:  [20.16675753090933, 4772.803300711317]\n",
      "popt2:  [  29.92920336 4775.52322395]\n",
      "Ajuste Ok.\n",
      "-----------------------------\n",
      "# 33 :  peaks:  2\n",
      "fws_fit:  [8.18559721 8.20169724]\n",
      "p0:  [66.8761811611626, 4884.018324318825, 48.83521731660235, 4908.59148296674]\n",
      "popt2:  [  68.15195616 4884.27954328   46.99375167 4908.16610632]\n",
      "Ajuste Ok.\n",
      "-----------------------------\n",
      "# 34 :  peaks:  1\n",
      "fws_fit:  [8.36750957]\n",
      "p0:  [12.608798199266147, 5165.255298443858]\n",
      "popt2:  [  15.77319074 5166.85908777]\n",
      "Ajuste Ok.\n",
      "-----------------------------\n",
      "# 35 :  peaks:  1\n",
      "fws_fit:  [8.45451106]\n",
      "p0:  [4.036176947825126, 5302.54262903574]\n",
      "popt2:  [   8.51447078 5300.85946609]\n",
      "Ajuste Ok.\n",
      "-----------------------------\n",
      "# 36 :  peaks:  1\n",
      "fws_fit:  [8.63733201]\n",
      "p0:  [22.7516601960301, 5596.8993069312755]\n",
      "popt2:  [  17.43614169 5597.81396375]\n",
      "Ajuste Ok.\n",
      "-----------------------------\n",
      "# 37 :  peaks:  3\n",
      "fws_fit:  [8.66849135 8.68348422 8.68576463]\n",
      "p0:  [4.171743088675966, 5647.861451402714, 543.231754811844, 5672.4650868028, 1689.0424918010233, 5676.211982866481]\n",
      "popt2:  [  16.11115582 5644.83845814 1332.63712106 5674.35833741  814.7847413\n",
      " 5677.08662104]\n",
      "Ajuste Ok.\n",
      "-----------------------------\n",
      "# 38 :  peaks:  1\n",
      "fws_fit:  [8.73089537]\n",
      "p0:  [15.611867678888226, 5750.619784230586]\n",
      "popt2:  [  21.44414839 5745.12938088]\n",
      "Ajuste Ok.\n",
      "-----------------------------\n",
      "# 39 :  peaks:  1\n",
      "fws_fit:  [8.75727543]\n",
      "p0:  [7.4475321508035845, 5794.337403286526]\n",
      "popt2:  [  14.92716263 5799.62256693]\n",
      "Ajuste Ok.\n",
      "-----------------------------\n",
      "# 40 :  peaks:  3\n",
      "fws_fit:  [8.79143965 8.79104894 8.79404463]\n",
      "p0:  [133.7013085857742, 5851.2011519678335, 72.49823894686963, 5850.54927513247, 92.12125475842195, 5855.548327106023]\n",
      "Error: curve_fit failed.\n",
      "-----------------------------\n",
      "# 41 :  peaks:  5\n",
      "fws_fit:  [8.81779928 8.83015756 8.8417714  8.8389989  8.84572114]\n",
      "p0:  [8.01339414019443, 5895.264498928504, 4.319256106820685, 5915.979803970661, 6.5019938462553535, 5935.480355368917, 8.547171209156023, 5930.82220098521, 20.80783276232385, 5942.119595335191]\n",
      "popt2:  [8.07366452e+00 5.89350399e+03 7.42178070e+00 5.91399586e+03\n",
      " 1.87932485e+00 5.92166762e+03 8.23710851e+00 5.93203847e+03\n",
      " 6.77138361e+00 5.94189215e+03]\n",
      "Ajuste Ok.\n",
      "-----------------------------\n",
      "# 42 :  peaks:  1\n",
      "fws_fit:  [8.97115644]\n",
      "p0:  [12.643244097607788, 6154.897998963136]\n",
      "popt2:  [  18.79240797 6154.96903138]\n",
      "Ajuste Ok.\n",
      "-----------------------------\n",
      "# 43 :  peaks:  1\n",
      "fws_fit:  [8.99282033]\n",
      "p0:  [4.946303298300173, 6192.025921455669]\n",
      "popt2:  [  11.07828017 6185.88443568]\n",
      "Ajuste Ok.\n",
      "-----------------------------\n",
      "# 44 :  peaks:  2\n",
      "fws_fit:  [9.03599983 9.03991479]\n",
      "p0:  [50.09799364389554, 6266.360699369734, 684.099476036354, 6273.122346809999]\n",
      "popt2:  [  60.44255911 6269.21565173  636.84028515 6273.25193881]\n",
      "Ajuste Ok.\n",
      "-----------------------------\n",
      "# 45 :  peaks:  1\n",
      "fws_fit:  [9.21995897]\n",
      "p0:  [20.236101800191992, 6588.021686764938]\n",
      "popt2:  [  10.08096333 6589.5503566 ]\n",
      "Ajuste Ok.\n",
      "-----------------------------\n",
      "# 46 :  peaks:  2\n",
      "fws_fit:  [9.28350361 9.29149045]\n",
      "p0:  [8.863024530747936, 6701.003082993972, 7.126894356978861, 6715.271526242855]\n",
      "popt2:  [  11.86893356 6702.48636874    6.80951086 6716.06080774]\n",
      "Ajuste Ok.\n",
      "-----------------------------\n",
      "# 47 :  peaks:  1\n",
      "fws_fit:  [9.34410192]\n",
      "p0:  [11.04007015513582, 6809.640760612642]\n",
      "popt2:  [  14.20979352 6809.51809731]\n",
      "Ajuste Ok.\n",
      "-----------------------------\n",
      "# 48 :  peaks:  1\n",
      "fws_fit:  [9.40866994]\n",
      "p0:  [11.365831060030274, 6926.356400691716]\n",
      "popt2:  [   8.63384068 6927.07772939]\n",
      "Ajuste Ok.\n",
      "-----------------------------\n",
      "# 49 :  peaks:  1\n",
      "fws_fit:  [9.45991277]\n",
      "p0:  [78.90841766925375, 7019.690776559332]\n",
      "popt2:  [  86.06203077 7019.65020214]\n",
      "Ajuste Ok.\n",
      "-----------------------------\n",
      "# 50 :  peaks:  1\n",
      "fws_fit:  [9.55318718]\n",
      "p0:  [3.671793410571217, 7191.1853691663055]\n",
      "popt2:  [   8.69531517 7196.73250453]\n",
      "Ajuste Ok.\n",
      "-----------------------------\n",
      "# 51 :  peaks:  2\n",
      "fws_fit:  [9.66615933 9.67528575]\n",
      "p0:  [13.920031608572467, 7401.667698945277, 11.022976528335128, 7418.803994245744]\n",
      "popt2:  [  12.11012115 7401.37911809   15.6371242  7415.90936566]\n",
      "Ajuste Ok.\n",
      "-----------------------------\n",
      "# 52 :  peaks:  1\n",
      "fws_fit:  [9.6989132]\n",
      "p0:  [7.937491627829013, 7463.260293159334]\n",
      "popt2:  [   9.86573175 7463.67681656]\n",
      "Ajuste Ok.\n",
      "-----------------------------\n",
      "# 53 :  peaks:  1\n",
      "fws_fit:  [9.70186674]\n",
      "p0:  [11.969541919582184, 7468.826876882739]\n",
      "popt2:  [  15.07652122 7492.77069441]\n",
      "Ajuste Ok.\n",
      "-----------------------------\n",
      "# 54 :  peaks:  1\n",
      "fws_fit:  [9.75595849]\n",
      "p0:  [7.138243465721677, 7571.141424436971]\n",
      "popt2:  [  13.96737679 7562.98907626]\n",
      "Ajuste Ok.\n",
      "-----------------------------\n",
      "# 55 :  peaks:  4\n",
      "fws_fit:  [9.87316009 9.87937034 9.88216559 9.8860791 ]\n",
      "p0:  [39.189381372117076, 7795.216148158473, 24.66289216255908, 7807.180521690408, 94.03135570475828, 7812.568709895948, 40.71500788891507, 7820.115613501984]\n",
      "popt2:  [  18.73755767 7785.04368381   45.50786366 7796.89013974   10.6658956\n",
      " 7808.52491885   41.80679797 7820.33315896]\n",
      "Ajuste Ok.\n",
      "-----------------------------\n",
      "# 56 :  peaks:  1\n",
      "fws_fit:  [9.93930143]\n",
      "p0:  [7.411743233199037, 7923.112446138948]\n",
      "popt2:  [   9.39563643 7921.97664668]\n",
      "Ajuste Ok.\n",
      "-----------------------------\n",
      "# 57 :  peaks:  1\n",
      "fws_fit:  [9.97333137]\n",
      "p0:  [8.039979369817162, 7989.320976766178]\n",
      "popt2:  [  11.66981654 7989.93542444]\n",
      "Ajuste Ok.\n",
      "-----------------------------\n",
      "# 58 :  peaks:  2\n",
      "fws_fit:  [9.99111384 9.99339553]\n",
      "p0:  [49.397618348545144, 8024.028078334228, -49.81622309156031, 8028.486840166877]\n",
      "Error: curve_fit failed.\n",
      "-----------------------------\n",
      "# 59 :  peaks:  1\n",
      "fws_fit:  [10.01878352]\n",
      "p0:  [17.64921732438944, 8078.182222183175]\n",
      "popt2:  [  19.8942981  8078.64985732]\n",
      "Ajuste Ok.\n",
      "-----------------------------\n",
      "# 60 :  peaks:  1\n",
      "fws_fit:  [10.04851335]\n",
      "p0:  [6.23040676423994, 8136.571397085823]\n",
      "popt2:  [   8.35663949 8136.30066768]\n",
      "Ajuste Ok.\n",
      "-----------------------------\n"
     ]
    }
   ],
   "source": [
    "second_general_fit = []\n",
    "for i in range(len(first_general_fit_fw)):\n",
    "    # 2018-07-02\n",
    "    # AQUI: fazer a segunda passada do ajuste, usando agora fwhms fixos.\n",
    "    # Todos os dados estao na lista first_general_fit_fw\n",
    "    ipks = len(first_general_fit_fw[i][2])//3\n",
    "    print('#',i,': ','peaks: ', ipks)\n",
    "    xs2 = first_general_fit_fw[i][0]\n",
    "    ys2 = first_general_fit_fw[i][1]\n",
    "    teste1 = first_general_fit_fw[i][2]\n",
    "    fwstest = []\n",
    "    hestest = []\n",
    "    cnstest = []\n",
    "    [fwstest.append(teste1[3*j]) for j in range(len(teste1)//3)]\n",
    "    [hestest.append(teste1[3*j+1]) for j in range(len(teste1)//3)]\n",
    "    [cnstest.append(teste1[3*j+2]) for j in range(len(teste1)//3)]\n",
    "    fws_fit = poly1(np.sqrt(cnstest))\n",
    "    p0=[]\n",
    "    [p0.extend((j1, j2)) for j1,j2 in zip(hestest, cnstest)]\n",
    "    print('fws_fit: ', fws_fit)\n",
    "    print('p0: ', p0)\n",
    "    fittd = True\n",
    "    try:\n",
    "        popt2, pcov2 = curve_fit(gaus_fix_fw(*fws_fit), xs2, ys2, p0=p0)\n",
    "    except RuntimeError:\n",
    "        fittd = False\n",
    "        print(\"Error: curve_fit failed.\")\n",
    "    if fittd:\n",
    "        print('popt2: ', popt2)\n",
    "        if np.inf in pcov2:\n",
    "            print('Matriz de covariancia ruim.')\n",
    "        else:\n",
    "            print('Ajuste Ok.')\n",
    "            second_general_fit.append( [xs2, ys2, fws_fit, popt2, pcov2] )\n",
    "    print('-----------------------------')\n",
    "# second_general_fit"
   ]
  },
  {
   "cell_type": "code",
   "execution_count": 30,
   "metadata": {},
   "outputs": [
    {
     "name": "stdout",
     "output_type": "stream",
     "text": [
      "[[[228, 229, 230, 231, 232, 233, 234, 235, 236, 237, 238, 239, 240, 241, 242, 243, 245, 246, 247, 248], [16.944801949894327, 10.012707186015291, 14.037803787671805, 75.2217133211484, 143.63643281834095, 525.9700451578852, 1237.3706304364891, 2396.922166143834, 3067.6008766170535, 2972.468344145257, 2151.4695855082873, 1060.0104914597514, 380.6154244041694, 87.01410956249174, 7.683507257503152, 19.636200068613675, 86.81829170667663, 31.000483575258272, 47.04584273528553, 52.18918798114794], array([3.18733011]), array([3569.54876328,  236.38996385]), array([[2.72344327e+04, 1.50194009e-05],\n",
      "       [1.50194009e-05, 7.83177133e-03]])], [[259, 263, 265, 266, 267, 268, 269, 270, 271, 272, 273, 274, 275, 276, 277, 279, 280, 281, 282, 283], [22.066504992227806, 0.7752194390194518, 38.69337999693926, 41.95242715924246, 389.1297240065751, 1046.8060284539865, 1801.2201508826788, 2158.8537757239487, 1936.2166522691841, 1282.7375373558546, 646.6965318993189, 226.41901422056765, 51.94265411899869, 3.691575567076711, 17.67250548899085, 1.6296943363546461, 18.702637297004458, 11.763708944114228, 32.852171795745335, 55.04972841744279], array([3.28503708]), array([2428.57504979,  270.15855821]), array([[9.97617023e+03, 8.58099642e-06],\n",
      "       [8.58099642e-06, 6.58348718e-03]])], [[369, 370, 371, 372, 373, 374, 375, 376, 377, 378, 379, 380, 381, 382, 383, 384, 385, 386, 387, 388, 389, 390, 391, 392, 393, 394, 395, 396, 397, 398, 399, 400, 401, 402, 403, 404, 405, 406, 407, 408, 409, 410, 411, 412, 413, 414], [30.995172789426988, 80.24572581680968, 75.48039930404184, 85.67562871880773, 194.143056292648, 353.09859605693214, 1087.8373908752742, 2693.017501272162, 5853.632526668894, 10233.3431419407, 13654.500412388372, 13538.248775231263, 10265.164731119416, 5597.433648192371, 2534.8946246613964, 1017.6886091652973, 772.7231673090894, 1226.3140340231978, 3016.9246367201613, 7087.653264879922, 14341.069968674457, 21098.058731089925, 24923.420787669696, 21618.57535120714, 14346.305639698769, 7023.220899526875, 2850.307483778599, 1002.7660962395539, 409.562131069648, 423.8622486926512, 674.4617723156612, 1163.4849240106346, 1725.1044488120456, 2178.8723808272316, 1830.6951508863044, 1305.344769616313, 608.1525627698439, 276.9835260667128, 97.82467889553027, 115.88661342100579, 198.37335911998787, 320.22121572935873, 291.04636357471804, 311.7428769536482, 198.23163719859235, 61.24159304431862], array([3.56380321, 3.59597279, 3.5920911 , 3.61622012]), array([15510.33682532,   379.48594427, 16938.14049087,   391.89942389,\n",
      "       13577.94686949,   389.8354403 ,  2325.85321372,   402.06273144]), array([[ 1.91668603e+05,  3.61169429e-05, -8.43931015e+01,\n",
      "         5.69249009e-03,  7.87593441e+01,  9.07736830e-03,\n",
      "        -2.09760427e-03,  8.56635701e-06],\n",
      "       [ 3.61169429e-05,  3.64964459e-03, -5.23556420e-02,\n",
      "         3.52325583e-06,  4.87482486e-02,  5.64956922e-06,\n",
      "        -1.29639003e-06,  5.29380829e-09],\n",
      "       [-8.43931015e+01, -5.23556420e-02,  4.98647728e+06,\n",
      "        -3.53741262e+02, -4.83972173e+06, -4.55671215e+02,\n",
      "         1.34138128e+02, -5.48640797e-01],\n",
      "       [ 5.69249009e-03,  3.52325583e-06, -3.53741262e+02,\n",
      "         2.99945379e-02,  3.66619849e+02,  3.19942701e-02,\n",
      "        -1.24782578e-02,  5.13494148e-05],\n",
      "       [ 7.87593441e+01,  4.87482486e-02, -4.83972173e+06,\n",
      "         3.66619849e+02,  4.99813590e+06,  4.40686871e+02,\n",
      "        -1.44292724e+02,  5.91684162e-01],\n",
      "       [ 9.07736830e-03,  5.64956922e-06, -4.55671215e+02,\n",
      "         3.19942701e-02,  4.40686871e+02,  4.64620325e-02,\n",
      "        -1.20774184e-02,  4.93980314e-05],\n",
      "       [-2.09760427e-03, -1.29639003e-06,  1.34138128e+02,\n",
      "        -1.24782578e-02, -1.44292724e+02, -1.20774184e-02,\n",
      "         1.88890382e+05,  2.20835814e-04],\n",
      "       [ 8.56635701e-06,  5.29380829e-09, -5.48640797e-01,\n",
      "         5.13494148e-05,  5.91684162e-01,  4.93980314e-05,\n",
      "         2.20835814e-04,  1.64690952e-01]])], [[694, 696, 699, 701, 702, 703, 705, 706, 707, 710, 711, 713, 715, 717], [38.50981048608753, 21.533611182210507, 48.323472732488426, 0.3154424175384065, 7.658100853254382, 13.395140054245303, 71.3994738937912, 7.228500695319667, 6.310493665844433, 0.11817431486736041, 17.80746100286217, 5.688300836453095, 28.02829831598069, 31.70917553451727], array([4.21120917]), array([ 39.87703076, 704.60797939]), array([[313.13811728,  -2.5652792 ],\n",
      "       [ -2.5652792 ,   1.04088711]])], [[781, 782, 784, 786, 787, 788, 792, 793, 794, 795, 797, 798, 801], [66.92216880956846, 23.15546137029355, 10.802251659658282, 4.865795090390179, 2.5862821051262017, 1.5978674731554747, 79.14418641668283, 46.9655522368289, 16.42383069434368, 35.89767315839265, 43.97165988266863, 6.928939014322623, 65.74556093905994], array([4.36102793]), array([ 70.39088498, 791.69608299]), array([[1162.4288539 ,  -30.91778191],\n",
      "       [ -30.91778191,    1.70449677]])], [[924, 930, 933, 934, 935, 937, 938, 939, 940, 941, 942, 943, 944, 945, 946, 947, 948, 949, 950, 951, 952, 954, 955, 957, 958, 961, 963, 964, 967, 971, 975, 976, 977, 982, 985, 986, 987, 989, 991, 992, 993, 994, 995, 996, 997, 999, 1005, 1006, 1007], [8.931978043669915, 2.40329873204837, 37.24384413825612, 28.429305670593067, 40.50524836664147, 52.54010815735728, 175.98194996585664, 679.5449707899705, 1510.259840894355, 2880.2069666158322, 4315.747219603655, 5422.687629974793, 5111.622864301092, 3906.52190884091, 2311.1173078441107, 1065.67873518311, 372.14963863160733, 153.7430734404527, 25.56709577126196, 33.502770654131155, 14.541879405652821, 7.52087525508216, 4.538885573606876, 78.57162884346076, 17.733475999327425, 5.592813877776393, 2.568879338872307, 4.5954458022469, 60.56179105164449, 7.5635179741613, 8.41322568130306, 6.4542588343132365, 10.47424201772094, 36.40436807369588, 28.344376628085456, 23.453958532397905, 16.483452596134157, 18.413497432186887, 26.441688253163193, 42.577896717325075, 95.79682621180973, 78.01727528600975, 110.2307924717561, 17.301031401370665, 15.235087076951686, 35.20954041982759, 3.8567871456493776, 1.8966441712142341, 51.00210921183691], array([4.59633532, 4.59380264, 4.61049815, 4.6598038 , 4.66815183]), array([4667.35515139,  943.60338631, 1051.14380142,  941.88067374,\n",
      "         45.34039582,  957.17116637,   45.78033964,  983.50181998,\n",
      "         89.50587834,  993.84710855]), array([[ 1.00523233e+05, -2.02690563e+01, -1.00363801e+05,\n",
      "        -9.03765071e+01,  2.97518481e-01, -2.61531564e-01,\n",
      "        -3.85268233e-14,  3.37785851e-16,  7.46894134e-13,\n",
      "        -1.98202732e-16],\n",
      "       [-2.02690563e+01,  4.28282336e-03,  2.04071645e+01,\n",
      "         1.77861452e-02, -6.59049598e-05,  5.82851877e-05,\n",
      "         7.85931765e-18, -6.90097887e-20, -1.51867423e-16,\n",
      "         4.03015927e-20],\n",
      "       [-1.00363801e+05,  2.04071645e+01,  1.00623507e+05,\n",
      "         8.98532276e+01, -3.02218992e-01,  2.65986517e-01,\n",
      "         3.86895765e-14, -3.39477551e-16, -7.48826842e-13,\n",
      "         1.98717167e-16],\n",
      "       [-9.03765071e+01,  1.77861452e-02,  8.98532276e+01,\n",
      "         8.40960306e-02, -2.54775529e-04,  2.23368381e-04,\n",
      "         3.44350090e-17, -3.01680359e-19, -6.68675826e-16,\n",
      "         1.77444553e-19],\n",
      "       [ 2.97518481e-01, -6.59049598e-05, -3.02218992e-01,\n",
      "        -2.54775529e-04,  4.26959936e+02,  3.09447355e+00,\n",
      "        -3.97289123e-17,  4.49026127e-18,  2.06105248e-18,\n",
      "         1.52145519e-20],\n",
      "       [-2.61531564e-01,  5.82851877e-05,  2.65986517e-01,\n",
      "         2.23368381e-04,  3.09447355e+00,  2.20802494e+00,\n",
      "        -2.81619274e-17,  3.20228560e-18, -2.08227952e-18,\n",
      "         1.17988902e-20],\n",
      "       [-3.85268233e-14,  7.85931765e-18,  3.86895765e-14,\n",
      "         3.44350090e-17, -3.97289123e-17, -2.81619274e-17,\n",
      "         7.36230936e+02, -9.60262554e+00, -1.09823852e-01,\n",
      "         1.79238089e-02],\n",
      "       [ 3.37785851e-16, -6.90097887e-20, -3.39477551e-16,\n",
      "        -3.01680359e-19,  4.49026127e-18,  3.20228560e-18,\n",
      "        -9.60262554e+00,  1.69959299e+00, -5.78438221e-02,\n",
      "         6.40989771e-03],\n",
      "       [ 7.46894134e-13, -1.51867423e-16, -7.48826842e-13,\n",
      "        -6.68675826e-16,  2.06105248e-18, -2.08227952e-18,\n",
      "        -1.09823852e-01, -5.78438221e-02,  2.69328488e+02,\n",
      "        -7.11359818e-02],\n",
      "       [-1.98202732e-16,  4.03015927e-20,  1.98717167e-16,\n",
      "         1.77444553e-19,  1.52145519e-20,  1.17988902e-20,\n",
      "         1.79238089e-02,  6.40989771e-03, -7.11359818e-02,\n",
      "         2.84874394e-01]])], [[1178, 1180, 1183, 1188, 1189, 1203, 1204, 1205, 1206, 1207, 1208, 1209, 1210, 1211, 1212, 1213, 1214, 1216, 1218, 1219, 1220, 1221, 1222, 1223, 1224, 1225, 1226, 1227, 1228, 1229, 1230, 1231, 1232, 1233, 1234, 1235, 1237], [11.002728882532324, 3.9238924329263796, 17.966804102052436, 33.883270429376296, 14.941338585307392, 24.479946045167708, 66.59500466505784, 201.8999759735347, 474.64173322604097, 733.8318354315156, 921.2688111520849, 983.7420074477286, 822.9096408388791, 499.4822073714637, 230.57603296481375, 100.52955466836232, 6.44944591548682, 0.30392098857078054, 59.38902882606999, 124.60740336125366, 309.07474525551925, 886.413408555662, 2086.662417001449, 3988.938941934073, 6155.658153039603, 7810.820503859479, 7974.855660363431, 6673.089751679984, 4369.170788744924, 2349.8062043414325, 1079.901158870423, 338.49548197235583, 145.18720945573148, 25.089505758040048, 9.019754686727708, 27.045813130772558, 14.99246087107963], array([4.94139072, 4.96524765, 4.98763579]), array([  50.97320034, 1185.96350287,  982.8146857 , 1208.60706097,\n",
      "       8225.47630135, 1225.59919907]), array([[ 7.48262445e+03, -1.24570741e+02,  2.14864338e-13,\n",
      "        -5.30501996e-18,  1.71501608e-12,  1.86198261e-21],\n",
      "       [-1.24570741e+02,  9.16035501e+00, -3.55694671e-15,\n",
      "         5.02942762e-18, -2.85384255e-14, -2.98733231e-23],\n",
      "       [ 2.14864338e-13, -3.55694671e-15,  1.00604672e+03,\n",
      "         1.59910390e-04, -6.04047486e-05,  1.20181418e-07],\n",
      "       [-5.30501996e-18,  5.02942762e-18,  1.59910390e-04,\n",
      "         9.26834293e-03, -1.08740603e-06,  2.07922212e-09],\n",
      "       [ 1.71501608e-12, -2.85384255e-14, -6.04047486e-05,\n",
      "        -1.08740603e-06,  1.00148834e+03,  1.07302042e-06],\n",
      "       [ 1.86198261e-21, -2.98733231e-23,  1.20181418e-07,\n",
      "         2.07922212e-09,  1.07302042e-06,  1.32809169e-04]])], [[1306, 1307, 1308, 1309, 1310, 1311, 1312, 1313, 1314, 1315, 1316, 1318, 1319, 1320, 1322, 1323], [23.640541885804225, 86.61428540373817, 207.9500554862799, 295.4194424834, 475.4778606656474, 564.8547189282543, 437.537376017597, 395.76083411283656, 222.71799288738248, 120.03603718372602, 67.18940328667787, 32.78990048262881, 29.281408253436837, 33.59020692725113, 38.401853211271714, 47.19061521671085], array([5.09790476]), array([ 533.86824658, 1311.15488202]), array([[2.55321966e+02, 4.93632833e-04],\n",
      "       [4.93632833e-04, 8.42839890e-03]])], [[1380, 1383, 1384, 1385, 1386, 1387, 1388, 1389, 1390, 1391, 1392, 1393, 1394, 1395, 1396, 1402, 1403, 1404], [4.977922896575933, 18.032773660302325, 22.858219833756948, 80.49015822565866, 81.00229769556739, 134.40399804749092, 145.63834644769327, 236.56258065318883, 289.07651527285753, 310.57934981360626, 337.03360221113235, 233.93401409272946, 225.1616068284369, 74.84739839768685, 55.93196519097012, 1.2355560317945447, 16.14841524946695, 33.964519975286976], array([5.19713707]), array([ 355.12374913, 1391.12395637]), array([[4.01351391e+02, 3.11114173e-03],\n",
      "       [3.11114173e-03, 3.11002922e-02]])], [[1483, 1484, 1485, 1486, 1487, 1488, 1489, 1490, 1491, 1492, 1493, 1494, 1495, 1496, 1497, 1498, 1499, 1500, 1501, 1502], [60.964678817714514, 69.90650617453792, 32.88484646923871, 59.860883162583036, 76.80856097855576, 210.68157347594774, 566.314649174838, 1659.2501992269436, 3684.798416880563, 6930.19577822756, 11237.743474438503, 14864.881196135368, 16490.273619043797, 14668.301301272295, 10762.590965511223, 6869.740609235654, 3311.9486384917514, 1280.2373175658254, 458.56028211301054, 66.75972503205713], array([5.32284834]), array([16378.37153764,  1494.95704893]), array([[2.69673215e+03, 4.01673115e-06],\n",
      "       [4.01673115e-06, 1.02732502e-04]])], [[1715, 1726, 1727, 1738], [9.897561431014253, 6.432362661559466, 13.580606399173917, 1.216566440098802], array([5.5889679]), array([  63.70086914, 1731.15377739]), array([[2.45878527e+04, 4.91718065e+02],\n",
      "       [4.91718065e+02, 1.01973179e+01]])], [[1774, 1775, 1776, 1777, 1778, 1779, 1780, 1781, 1782, 1783, 1784, 1785, 1786, 1787, 1788, 1789, 1790, 1791, 1793, 1794], [65.92889850362104, 337.1930159305668, 1148.047599388553, 2892.242897200845, 6460.12394505203, 11565.010025081096, 17923.64000258438, 23259.23820170357, 25149.753214700224, 22621.43771022598, 17522.25709932516, 11150.98028603138, 6138.944686279409, 2698.0719015743066, 1047.6239019964944, 330.2945280698179, 90.11583842482389, 5.039297816239127, 10.983685510283749, 8.003661889143132], array([5.64826436]), array([25056.82567239,  1781.95921957]), array([[1.41401714e+03, 5.39182316e-07],\n",
      "       [5.39182316e-07, 2.59149250e-05]])], [[2231, 2233, 2235, 2236, 2239, 2241, 2244, 2245, 2247, 2248, 2249, 2252, 2253, 2255], [15.584886717400167, 14.92220923329387, 6.715536722363424, 5.4320287886313565, 49.85291727150283, 34.1047421036065, 36.623715997643586, 9.884054349856427, 25.956806964731896, 10.161854600971992, 10.83183427953071, 0.22919043605031675, 11.995827556953714, 4.037529096925795], array([6.11879643]), array([  49.69930929, 2241.0828694 ]), array([[8.06113337e+01, 6.71479190e-02],\n",
      "       [6.71479190e-02, 3.99162909e-01]])], [[2293, 2294, 2295, 2296, 2297, 2298, 2299, 2300, 2301, 2302, 2303, 2304, 2305, 2306, 2307, 2308, 2309, 2310, 2311, 2313, 2314, 2316, 2317, 2324, 2328, 2332, 2333, 2334, 2335, 2336, 2337, 2338, 2339, 2340, 2341, 2342, 2343, 2344, 2345, 2346, 2347, 2348, 2351], [11.045778903520045, 6.117673402937015, 24.241555054272936, 18.39766476886527, 15.468710489450103, 20.577412065949545, 29.7612340112278, 63.14667940976358, 105.8437845627528, 100.53628866836573, 147.35883382091083, 118.16317033711445, 91.59962892988273, 67.90965079225458, 35.04093621408532, 13.021113797220238, 1.9696596361179672, 0.9436981908271207, 1.9519714084209454, 0.75584100514223, 11.891975581595347, 16.92506812818408, 19.10228648262975, 1.440632034907253, 3.1364904155668967, 23.10568839463184, 26.32978638911308, 17.43769185094061, 13.488909944811411, 47.74958745512407, 58.177945408268045, 84.68898611713635, 96.31183626531148, 84.82650953188752, 67.1750802733066, 62.47980394228799, 29.634413673076267, 38.76125654215241, 28.951862594392793, 10.98597017632261, 12.003081495815337, 15.091923033047522, 15.960114556792888], array([6.17774703, 6.19253654, 6.2128367 ]), array([ 127.82008284, 2302.9722786 ,   20.0331371 , 2317.5228935 ,\n",
      "         93.31144658, 2339.39757899]), array([[ 2.77113514e+01,  4.89536693e-05,  1.62665171e-01,\n",
      "         5.15534336e-02, -1.57943452e-08,  3.55874481e-09],\n",
      "       [ 4.89536693e-05,  2.33516204e-02,  1.61396381e-02,\n",
      "         5.18301448e-03, -1.58607916e-09,  3.57355668e-10],\n",
      "       [ 1.62665171e-01,  1.61396381e-02,  1.63015497e+02,\n",
      "         2.58598677e+01, -8.61940617e-06,  1.94817304e-06],\n",
      "       [ 5.15534336e-02,  5.18301448e-03,  2.58598677e+01,\n",
      "         7.02660091e+00, -2.18429771e-06,  4.92435793e-07],\n",
      "       [-1.57943452e-08, -1.58607916e-09, -8.61940617e-06,\n",
      "        -2.18429771e-06,  2.75546751e+01, -3.87402306e-05],\n",
      "       [ 3.55874481e-09,  3.57355668e-10,  1.94817304e-06,\n",
      "         4.92435793e-07, -3.87402306e-05,  4.40659466e-02]])], [[2389, 2390, 2391, 2393, 2394, 2398, 2399, 2400, 2401, 2402, 2403, 2404, 2406, 2407, 2410, 2418, 2421, 2423, 2424, 2426, 2427, 2428, 2429, 2430, 2431, 2432, 2433, 2434, 2435, 2436, 2437, 2438, 2442, 2443, 2445], [19.25917950891497, 0.39230473799460697, 5.336271556900272, 16.316458517260543, 10.648159979214341, 24.421407148989857, 18.965976133223336, 34.38838384310023, 65.36901521265341, 27.946972084039146, 36.17814618417708, 35.71257632567588, 0.32133700244330043, 11.530335770890446, 6.241205476276832, 19.708492196159483, 13.337072568374111, 2.1411576872862383, 6.340878111463212, 21.355015055823202, 12.755447602488516, 53.41370145577565, 64.55154999159254, 81.71856097655044, 102.20159377888356, 126.02542080084197, 140.05828055765045, 135.96881931420904, 118.52347103113146, 79.46502204825651, 37.70326288180971, 1.4400355739102224, 4.623889501416215, 19.0689128519372, 12.160402821353074], array([6.27060804, 6.28487474, 6.29972016]), array([  44.58584133, 2401.41814555,   19.96283255, 2418.70512422,\n",
      "        144.16722532, 2432.82963051]), array([[ 3.44980599e+01,  9.35940761e-02, -2.90003848e-03,\n",
      "         1.19300030e-03, -1.54225763e-05,  1.35118313e-06],\n",
      "       [ 9.35940761e-02,  3.07584278e-01, -1.09033552e-03,\n",
      "         4.44590135e-04, -5.74069475e-06,  5.02890915e-07],\n",
      "       [-2.90003848e-03, -1.09033552e-03,  1.13901335e+02,\n",
      "        -7.13252056e+00,  2.40611736e-02, -1.54896493e-03],\n",
      "       [ 1.19300030e-03,  4.44590135e-04, -7.13252056e+00,\n",
      "         4.41368795e+00, -5.95963367e-02,  5.24210102e-03],\n",
      "       [-1.54225763e-05, -5.74069475e-06,  2.40611736e-02,\n",
      "        -5.95963367e-02,  3.25425044e+01,  3.29669570e-03],\n",
      "       [ 1.35118313e-06,  5.02890915e-07, -1.54896493e-03,\n",
      "         5.24210102e-03,  3.29669570e-03,  2.27149413e-02]])], [[2456, 2457, 2458, 2459, 2460, 2461, 2462, 2463, 2464, 2465, 2466, 2467, 2468, 2469, 2470], [22.664537304129198, 36.19888477564352, 15.054725980831279, 24.784638912319195, 36.895162981195, 46.81926347537933, 48.64083066011486, 100.79999089915097, 83.04204786243557, 112.78252647188211, 119.60753384005324, 91.21309818703071, 102.64879083862138, 39.394268311546995, 11.73420786049303], array([6.32973068]), array([ 119.86595302, 2465.24854985]), array([[7.99281724e+01, 2.11264523e-02],\n",
      "       [2.11264523e-02, 8.22815022e-02]])], [[2574, 2575, 2576, 2577, 2578, 2579, 2580, 2581, 2582, 2583, 2584, 2585, 2586, 2587, 2588, 2589, 2590, 2591, 2592, 2593, 2594, 2595, 2596, 2597, 2598, 2599, 2600, 2601, 2602, 2603, 2604, 2605, 2606, 2607, 2608, 2609, 2610, 2611, 2613, 2614, 2615, 2616, 2617, 2618, 2619, 2620, 2621, 2622, 2623, 2624, 2625, 2626], [13.06604172880256, 17.185760354710666, 36.379749095439166, 70.78554884363813, 53.14006871218331, 75.47606905686766, 108.0779432431964, 108.70827569535656, 166.5500957725761, 137.38857220826068, 158.11192509060055, 192.13360041489665, 207.26460871189641, 171.1651364976584, 147.81877250157996, 157.55447112458856, 108.12372273944669, 112.56632283709612, 105.10769392881068, 56.372407943499525, 49.498763083502055, 54.75784358202257, 34.9471183821409, 41.104333859012186, 22.23186721350349, 52.448950781629065, 34.70015802755039, 13.724035455371094, 42.887737840782265, 24.08275265399007, 16.11619391286918, 20.1980663211462, 25.336236114978135, 30.503048561154046, 35.69610910166459, 11.768227223760135, 12.772129920211952, 6.80907330728229, 17.865472619973772, 39.1086355862583, 0.16252886581902715, 3.0795323398175043, 9.133277771016708, 12.210156834585945, 14.28996652051481, 16.377801849739413, 14.455923128148115, 18.54460153901016, 37.74549337365849, 8.83818290636954, 32.93134331423332, 18.083398518683538], array([6.44013191, 6.45572866]), array([ 155.81086802, 2582.61248796,  153.5463794 , 2588.80018826]), array([[ 2.54988541e+02,  3.27401710e+00, -1.29701093e+02,\n",
      "         4.31159336e+00],\n",
      "       [ 3.27401710e+00,  1.85002507e-01, -4.22655111e+00,\n",
      "         1.18303894e-01],\n",
      "       [-1.29701093e+02, -4.22655111e+00,  2.53976650e+02,\n",
      "        -3.32072777e+00],\n",
      "       [ 4.31159336e+00,  1.18303894e-01, -3.32072777e+00,\n",
      "         1.91234137e-01]])], [[2870, 2871, 2873, 2875, 2876, 2877, 2878, 2880, 2881, 2882, 2883, 2884, 2885, 2886, 2887, 2888, 2889, 2890, 2891, 2892], [3.012854983949069, 10.06218750595795, 28.150554803783578, 9.192830688063992, 6.2407919076772345, 17.308241116783506, 3.3459843828421185, 11.34664807004485, 23.47454079733616, 32.639403998802024, 2.6699963067388524, 3.621447301532257, 22.720522579512377, 1.7686024587323033, 7.756898434881776, 10.81584667107154, 26.9371799225585, 21.061175583703786, 12.10000267259987, 2.089718696892703], array([6.69597145]), array([  20.3974606 , 2881.28526915]), array([[40.62982159, -1.10824396],\n",
      "       [-1.10824396,  1.64104829]])], [[2933, 2934, 2935, 2936, 2937, 2938, 2939, 2940, 2941, 2942, 2943, 2947, 2948, 2949, 2950, 2951, 2952, 2953, 2954, 2955, 2956, 2957, 2958, 2959, 2960, 2961, 2962, 2963, 2967], [13.439598168365535, 45.54597560610398, 48.781856923727645, 81.36541220721836, 77.14663399470354, 103.07058854012911, 111.44391811502817, 63.726805959458034, 62.456557756502875, 32.053593338278574, 16.064445349889667, 10.223710580167236, 28.914195982655613, 48.01027403584868, 114.38242127413429, 132.54597798849665, 187.29102519775483, 159.85464888014212, 191.23329261598798, 141.21750025891703, 134.28986542189756, 69.5403291060304, 67.19781542024857, 35.85838891634181, 20.95362722516333, 14.080136764289463, 3.071906244824561, 6.083117241818684, 16.000000000000384], array([6.74767033, 6.75955111, 6.76184706]), array([  97.88046713, 2938.03868492,  181.76312195, 2953.1797875 ,\n",
      "         12.43449853, 2958.71404626]), array([[ 3.29404875e+01,  1.39205933e-03,  7.32574371e-02,\n",
      "         3.05155057e-03, -1.01248167e-01,  2.92463731e-02],\n",
      "       [ 1.39205933e-03,  5.95697678e-02,  9.99257787e-03,\n",
      "         4.46637630e-04, -1.45432607e-02,  4.15425906e-03],\n",
      "       [ 7.32574371e-02,  9.99257787e-03,  1.19331192e+02,\n",
      "         1.80232704e+00, -8.90340494e+01,  3.12742948e+01],\n",
      "       [ 3.05155057e-03,  4.46637630e-04,  1.80232704e+00,\n",
      "         5.49472392e-02, -2.00803885e+00,  6.14069058e-01],\n",
      "       [-1.01248167e-01, -1.45432607e-02, -8.90340494e+01,\n",
      "        -2.00803885e+00,  1.15271415e+02, -2.64538388e+01],\n",
      "       [ 2.92463731e-02,  4.15425906e-03,  3.12742948e+01,\n",
      "         6.14069058e-01, -2.64538388e+01,  1.26500437e+01]])], [[3026, 3031, 3034, 3035, 3047], [7.513855218763908, 5.256446734936091, 12.20703688086978, 22.557829202658638, 5.945287573970091], array([6.83237276]), array([ 102.50895558, 3040.02064903]), array([[1.62397386e+03, 2.18166037e+01],\n",
      "       [2.18166037e+01, 3.83286592e-01]])], [[3075, 3076, 3077, 3078, 3079, 3080, 3081, 3082, 3083, 3084, 3085, 3086, 3087, 3088, 3089, 3090, 3091, 3092, 3093, 3094, 3095, 3096, 3097], [12.996804229069767, 82.0290801259192, 219.11432128060338, 597.3381130968799, 1364.8603740316394, 2658.882935506498, 4613.650900873515, 7131.37600215711, 10112.197419384434, 12527.908410591124, 14055.037560381166, 14017.00452819099, 12113.068570243764, 9672.99907332004, 6774.865589740967, 4101.756859664204, 2252.064417798893, 1110.1266398708397, 500.1028109394572, 194.06552525829568, 41.02789082254884, 18.00823142055586, 10.007729860434353], array([6.87079671]), array([14209.73062774,  3085.41291311]), array([[8.57174366e+02, 1.32468644e-06],\n",
      "       [1.32468644e-06, 7.22814514e-05]])], [[3883, 3884, 3885, 3886, 3887, 3888, 3889, 3890, 3891, 3892, 3893, 3894, 3895, 3896, 3897, 3898, 3899, 3900, 3901, 3902, 3903], [29.925060708877666, 69.29720157733487, 131.92474156569, 251.0938050974187, 454.2207132704111, 611.1700424588887, 790.7662713856132, 1024.3762218739123, 1074.3029026260592, 1077.8630677588376, 967.8720867724506, 774.8470147970835, 542.6899151135483, 393.83719400407375, 229.47738486918337, 144.73530270169132, 83.90690271221254, 36.93356492882769, 32.972822548754735, 15.02680872904206, 10.031081776095505], array([7.49752269]), array([1091.2865171 , 3891.38964782]), array([[ 5.91322404e+01, -3.39422198e-05],\n",
      "       [-3.39422198e-05,  1.00728207e-03]])], [[3911, 3912, 3915, 3917, 3918, 3919, 3921, 3922, 3926, 3928, 3929, 3931, 3933, 3934], [4.158718079395271, 6.89225647357587, 5.081461107535716, 2.1587845710783995, 7.922696341210624, 3.782513021493429, 1.3905253298011218, 8.028245502884658, 2.1805162857203015, 8.19250414197792, 1.9557330970366138, 0.24702950478456387, 16.20326600701462, 3.834653239257065], array([7.50481982]), array([   8.21969198, 3933.08389955]), array([[13.38478941,  3.29653168],\n",
      "       [ 3.29653168,  6.3145387 ]])], [[3968, 3972, 3973, 3974, 3975, 3976, 3977, 3978, 3979, 3980, 3981, 3982, 3983, 3984, 3985, 3986, 3987, 3988, 3989, 3992, 3993, 3994, 3998, 4000, 4010, 4011, 4012, 4015, 4016, 4022, 4023, 4024, 4025, 4026, 4027], [0.9995276126614812, 20.003764933228368, 31.982505724488362, 60.950864036882024, 95.89868844718283, 122.83236588441612, 162.74906870740173, 183.6528202271099, 238.53512358947904, 226.415120613557, 238.30533065329945, 182.21637759932372, 176.1463620591851, 141.08110346688628, 87.04823423460853, 78.0241196951025, 36.00922810010067, 28.005917029493403, 20.99788364960881, 3.016771876949605, 27.999049428932935, 34.97661147939115, 1.0028432482375251, 0.009216229664431808, 5.026365437491023, 3.023518658761077, 10.019256062797822, 21.01638921925442, 10.005988955747398, 24.02553202900029, 12.011820735176101, 7.011342763871951, 16.00496017662394, 8.99858060442935, 4.99787269392607], array([7.56234375, 7.57209799, 7.59066935]), array([ 169.26457109, 3978.8676011 ,   97.45144743, 3982.51209278,\n",
      "         30.90566188, 4019.37782742]), array([[ 2.02501680e+03,  2.47530186e+01, -2.00163786e+03,\n",
      "         4.40389946e+01, -7.88279481e-11,  1.56340908e-11],\n",
      "       [ 2.47530186e+01,  3.32417308e-01, -2.51146779e+01,\n",
      "         5.24693886e-01, -9.19323462e-13,  1.82337442e-13],\n",
      "       [-2.00163786e+03, -2.51146779e+01,  2.01691469e+03,\n",
      "        -4.32314274e+01,  7.65617745e-11, -1.51849269e-11],\n",
      "       [ 4.40389946e+01,  5.24693886e-01, -4.32314274e+01,\n",
      "         1.01750919e+00, -1.86889197e-12,  3.70643159e-13],\n",
      "       [-7.88279481e-11, -9.19323462e-13,  7.65617745e-11,\n",
      "        -1.86889197e-12,  1.00625609e+02, -2.57959531e+00],\n",
      "       [ 1.56340908e-11,  1.82337442e-13, -1.51849269e-11,\n",
      "         3.70643159e-13, -2.57959531e+00,  8.65959732e-01]])], [[4075, 4077, 4078, 4079, 4080, 4081, 4082, 4083, 4084, 4085, 4086, 4087, 4088, 4089, 4090, 4091, 4092], [5.8160649810934615, 24.9017395750094, 72.31940476164873, 124.01307158751543, 158.8801022779057, 228.03234463111443, 236.30342193086818, 252.5072728877485, 244.69318845889757, 202.62485258969144, 176.3530349267381, 94.73503530461963, 89.96529013573713, 50.18954589539416, 11.147919791928658, 6.084836202182046, 21.17264260868835], array([7.63662808]), array([ 253.2507319 , 4082.99130832]), array([[ 2.71092821e+01, -2.69382757e-03],\n",
      "       [-2.69382757e-03,  9.03119827e-03]])], [[4147, 4148, 4149, 4150, 4151, 4152, 4153, 4154, 4155, 4156, 4157, 4158, 4159, 4160, 4161, 4162, 4163, 4164, 4165, 4166, 4169, 4171, 4173, 4174, 4178, 4179, 4180, 4181, 4182, 4183, 4184, 4185, 4186, 4187, 4188, 4189, 4194, 4196, 4201, 4205, 4206, 4207, 4209, 4210, 4213, 4214, 4216, 4217, 4218, 4222], [19.071566334864983, 25.350641824584315, 3.0094126579326, 6.241084122679865, 30.67476620277303, 6.7150087546731925, 1.215666202218003, 14.648594415198858, 26.040148340260487, 21.668844930989934, 21.686151517094004, 48.31000420473377, 39.67278818424725, 18.898809292693144, 36.603699605162404, 39.231379849666865, 8.686789451001005, 10.88701594596057, 7.474465707823583, 23.407952339026195, 2.0154310375055644, 12.202456957531751, 4.01564951028837, 0.782814617233555, 6.678845868747715, 22.254682201469024, 8.430479966027207, 15.015912051578866, 34.18151689651991, 26.385855768996706, 10.042991909676914, 8.040996150842233, 19.15708105691786, 17.9892470070114, 11.432685978861286, 5.319756600155827, 3.3832507461905266, 5.875074002249832, 6.511513920534185, 3.67115957210126, 6.0597321747926, 5.708796682560688, 16.895032504833935, 7.80899571609649, 3.875267129294457, 0.7185815476023691, 2.3481684457248093, 6.75173483965078, 2.507940468291892, 7.170385471792784], array([7.68657734, 7.68993427, 7.70827994, 7.72621799]), array([  18.35851265, 4147.15697744,   37.87575778, 4159.21044985,\n",
      "         22.98705437, 4182.7300569 ,   10.56755644, 4209.13614451]), array([[ 4.18864752e+01, -8.45355407e+00,  1.51654484e+00,\n",
      "        -3.52956008e-01,  1.88839078e-05, -1.77541405e-05,\n",
      "         2.26045352e-12, -5.58852788e-11],\n",
      "       [-8.45355407e+00,  3.50777025e+00, -9.22789531e-01,\n",
      "         2.40949067e-01, -1.30498741e-05,  1.22745641e-05,\n",
      "        -1.56232172e-12,  3.86376106e-11],\n",
      "       [ 1.51654484e+00, -9.22789531e-01,  1.32728139e+01,\n",
      "        -6.69362377e-02, -1.47239610e-05,  1.44696710e-05,\n",
      "        -1.84418410e-12,  4.56281306e-11],\n",
      "       [-3.52956008e-01,  2.40949067e-01, -6.69362377e-02,\n",
      "         2.13860693e-01, -1.26429968e-05,  1.19277056e-05,\n",
      "        -1.51814106e-12,  3.75503971e-11],\n",
      "       [ 1.88839078e-05, -1.30498741e-05, -1.47239610e-05,\n",
      "        -1.26429968e-05,  1.31435460e+01, -7.08206831e-02,\n",
      "        -4.39216969e-08,  1.38119596e-06],\n",
      "       [-1.77541405e-05,  1.22745641e-05,  1.44696710e-05,\n",
      "         1.19277056e-05, -7.08206831e-02,  5.81472513e-01,\n",
      "        -7.62182865e-08,  1.89753450e-06],\n",
      "       [ 2.26045352e-12, -1.56232172e-12, -1.84418410e-12,\n",
      "        -1.51814106e-12, -4.39216969e-08, -7.62182865e-08,\n",
      "         2.15600752e+01,  1.45499463e+00],\n",
      "       [-5.58852788e-11,  3.86376106e-11,  4.56281306e-11,\n",
      "         3.75503971e-11,  1.38119596e-06,  1.89753450e-06,\n",
      "         1.45499463e+00,  4.32271800e+00]])], [[4238, 4239, 4241, 4242, 4243, 4244, 4245, 4246, 4247, 4248, 4249, 4250, 4251, 4252, 4253, 4254, 4255, 4256], [3.921720658914907, 1.8449732316482113, 17.56645298797696, 26.84106860872221, 16.413642493746465, 32.85759219043476, 54.5981247123331, 69.97190809975218, 91.96654973758407, 108.56011461453203, 125.8583009131603, 121.23871601386598, 85.55103854702325, 69.5030535437871, 68.28966399934826, 31.657760593812128, 28.449189974634763, 7.3327653068630525], array([7.75448787]), array([ 116.11658525, 4249.05717425]), array([[1.17315506e+01, 9.04980335e-04],\n",
      "       [9.04980335e-04, 1.90335508e-02]])], [[4299, 4305, 4308, 4309, 4312, 4313, 4317], [0.5803798954000428, 8.054671479060048, 6.1744116175430435, 12.480059607794118, 1.4594322962059891, 6.094030402120993, 8.391292655166254], array([7.79502204]), array([   9.78445873, 4308.01175945]), array([[ 8.56443023, -0.87410817],\n",
      "       [-0.87410817,  2.56846825]])], [[4367, 4369, 4373, 4374, 4375, 4378, 4379, 4381, 4383, 4386], [2.4509549584372508, 3.2373455246510616, 5.932330321529307, 0.9463696467801554, 5.272493427461285, 5.80647838433832, 26.414429250420554, 2.251284164366936, 0.9189539268398619, 8.551532613412306], array([7.84455998]), array([  12.18206984, 4378.52382732]), array([[15.70592534,  0.04858937],\n",
      "       [ 0.04858937,  2.50018467]])], [[4540, 4542, 4544, 4549, 4550, 4553, 4558, 4564, 4566, 4572, 4577, 4580, 4581, 4582], [6.477380957512068, 3.3427512446435657, 20.973360802634005, 10.657540910758243, 9.437663952045611, 0.831097513050139, 15.330040112910126, 3.2923630299813453, 10.618404592515859, 22.259147953278287, 2.9358908773893546, 14.310508564580786, 8.888703256575809, 4.960029312988937], array([7.95995411, 7.97790515]), array([  19.05074187, 4545.84975348,   24.71052309, 4570.65557072]), array([[ 3.50545606e+01,  4.90881174e-01, -1.41282161e-04,\n",
      "         6.82892217e-05],\n",
      "       [ 4.90881174e-01,  1.28416397e+00, -8.18178716e-05,\n",
      "         3.91570178e-05],\n",
      "       [-1.41282161e-04, -8.18178716e-05,  5.85966526e+01,\n",
      "        -1.93692993e+00],\n",
      "       [ 6.82892217e-05,  3.91570178e-05, -1.93692993e+00,\n",
      "         1.90376321e+00]])], [[4770, 4771, 4772, 4773, 4774, 4775, 4776, 4777, 4778, 4779, 4780, 4781, 4782, 4785, 4787, 4788, 4789, 4791, 4792, 4794], [24.685343139426614, 23.729268071842803, 11.11091071944984, 22.24571932856071, 26.514128180168953, 18.375729985144254, 28.067356679351803, 39.66217391767027, 20.21290762596847, 8.252705948359505, 10.037673292026469, 18.024493881291917, 25.430498028643413, 10.247429392283067, 8.760581529726366, 8.963667813061946, 3.737968139613912, 3.5661396595402266, 9.703212059982931, 1.1331414407938354], array([8.11221883]), array([  29.92920336, 4775.52322395]), array([[15.61005935, -0.03323785],\n",
      "       [-0.03323785,  0.4413624 ]])], [[4874, 4875, 4878, 4879, 4880, 4881, 4882, 4883, 4884, 4885, 4886, 4887, 4888, 4889, 4891, 4892, 4893, 4895, 4897, 4900, 4901, 4902, 4903, 4904, 4905, 4906, 4907, 4908, 4909, 4910, 4911, 4912, 4913, 4914, 4916, 4917], [7.836147690212982, 3.0424905469196517, 10.005531025857877, 28.536099520654247, 31.171647810916795, 61.154990544511406, 42.049652246436835, 47.645230551459306, 68.77282487377187, 79.18378522278324, 65.2878866084655, 47.92748241108667, 35.34427029140626, 24.63111941436378, 2.254760547958057, 11.499982942170774, 12.77326002873258, 17.958942555190546, 5.8370483956519905, 11.822183962427815, 6.020264780812127, 0.9884402622254385, 15.189193673730955, 17.57803832123743, 36.16603536691885, 50.10106246307667, 35.76980531939873, 46.384997754518466, 45.17886845161834, 40.80867420282809, 32.279815210793956, 30.694229320400822, 14.914365958469716, 7.912989379359189, 10.916785793256153, 10.180687904710211], array([8.18559721, 8.20169724]), array([  68.15195616, 4884.27954328,   46.99375167, 4908.16610632]), array([[ 1.10941796e+01,  1.53417137e-02, -4.54526171e-05,\n",
      "         2.53794266e-05],\n",
      "       [ 1.53417137e-02,  6.21569784e-02, -1.54142302e-05,\n",
      "         8.13840976e-06],\n",
      "       [-4.54526171e-05, -1.54142302e-05,  1.09611006e+01,\n",
      "         1.08082177e-02],\n",
      "       [ 2.53794266e-05,  8.13840976e-06,  1.08082177e-02,\n",
      "         1.23740787e-01]])], [[5158, 5159, 5160, 5161, 5162, 5163, 5164, 5165, 5166, 5167, 5168, 5169, 5170, 5172, 5173, 5174, 5177, 5178, 5180, 5181, 5182], [2.9046862844529144, 8.57411651482802, 7.238163736941672, 4.119397645244071, 9.845548706795071, 8.469200953482073, 14.025382138115361, 13.484464661384273, 7.246673949465887, 16.79403947336283, 8.35578575516056, 20.80437094630618, 14.127504695542356, 3.5254916555970865, 6.2069693689679255, 0.15273683800538151, 15.971256092295107, 6.479715124849157, 12.34885158822911, 0.13125509086107456, 10.0], array([8.36750957]), array([  15.77319074, 5166.85908777]), array([[7.3239034 , 0.18755641],\n",
      "       [0.18755641, 0.81293153]])], [[5295, 5296, 5297, 5298, 5300, 5302, 5304, 5305, 5311, 5315, 5317], [2.436523502765226, 7.846208415172072, 3.07831305895656, 9.363909296641523, 7.506615199445967, 1.3788424675154047, 4.141595740524394, 13.97262455872849, 8.655543060201545, 1.921003307031171, 1.9375874100247756], array([8.45451106]), array([   8.51447078, 5300.85946609]), array([[7.79415942, 0.51225362],\n",
      "       [0.51225362, 2.48793806]])], [[5593, 5594, 5595, 5596, 5598, 5599, 5600, 5602, 5603, 5605, 5606, 5607, 5612, 5613, 5614, 5615], [3.570263203183245, 12.581172155024092, 6.34853192632859, 29.42723587437459, 18.47795728137946, 12.214585311136481, 2.6441783416882956, 7.602820497289173, 23.493748551970697, 0.15218407666473155, 2.687681684053942, 13.479967838175817, 0.30956434666561705, 8.258720442701325, 9.819151050984708, 0.8988066110210724], array([8.63733201]), array([  17.43614169, 5597.81396375]), array([[15.36113279,  0.10797116],\n",
      "       [ 0.10797116,  1.45115417]])], [[5635, 5636, 5637, 5640, 5646, 5648, 5652, 5653, 5654, 5658, 5659, 5660, 5662, 5663, 5664, 5665, 5666, 5667, 5668, 5669, 5670, 5671, 5672, 5673, 5674, 5675, 5676, 5677, 5678, 5679, 5680, 5681, 5682, 5683, 5684, 5685, 5686, 5687, 5688, 5689], [3.000303471394048, 4.000859866314762, 1.001011688993394, 3.9994942809131686, 21.99650896353446, 1.9971153790737546, 1.9955458617032917, 7.996658139580276, 10.998074001366149, 5.996555389116793, 9.997971240508726, 0.9982745066792802, 8.997616518539147, 3.9988301630091883, 49.00353385127956, 42.01005884372583, 138.02366549541603, 205.04926064358094, 323.0853281439722, 535.1454241115438, 799.2369860261006, 1073.3589043422025, 1399.5143180016883, 1705.7033315499816, 1896.9106736591177, 2021.1247636916214, 1962.3295183462087, 1836.5122920371211, 1624.6702501411498, 1331.7942354276338, 975.8781244535339, 740.9350635899027, 506.97445772378217, 318.9948888805312, 171.00267746261892, 85.00379046190821, 38.00328505968372, 35.00444869900145, 6.004904356110146, 17.005157745049118], array([8.66849135, 8.68348422, 8.68576463]), array([  16.11115582, 5644.83845814, 1332.63712106, 5674.35833741,\n",
      "        814.7847413 , 5677.08662104]), array([[ 1.52555448e+02, -1.80594560e+01, -8.23588884e-03,\n",
      "        -9.60951563e-06,  8.30250623e-03, -1.41235047e-05],\n",
      "       [-1.80594560e+01,  1.33816267e+01,  1.10529894e-02,\n",
      "         1.28852427e-05, -1.11410511e-02,  1.89646519e-05],\n",
      "       [-8.23588884e-03,  1.10529894e-02,  3.45908349e+04,\n",
      "         3.76962041e+01, -3.45572269e+04,  6.19697743e+01],\n",
      "       [-9.60951563e-06,  1.28852427e-05,  3.76962041e+01,\n",
      "         4.23165887e-02, -3.78036684e+01,  6.62518804e-02],\n",
      "       [ 8.30250623e-03, -1.11410511e-02, -3.45572269e+04,\n",
      "        -3.78036684e+01,  3.45719727e+04, -6.17602335e+01],\n",
      "       [-1.41235047e-05,  1.89646519e-05,  6.19697743e+01,\n",
      "         6.62518804e-02, -6.17602335e+01,  1.13639514e-01]])], [[5737, 5739, 5741, 5743, 5744, 5745, 5746, 5747, 5749, 5751], [4.184567923511551, 16.376013860735824, 7.2074198878221125, 27.96610424905299, 23.46838959870469, 5.537368705422303, 14.874544216905583, 24.825915802168396, 16.007954058107323, 15.188688671813289], array([8.73089537]), array([  21.44414839, 5745.12938088]), array([[16.24014561,  0.12973841],\n",
      "       [ 0.12973841,  1.44905388]])], [[5783, 5784, 5785, 5790, 5793, 5794, 5795, 5796, 5797, 5800, 5801, 5802, 5803, 5804, 5805, 5806, 5807], [9.144918772273442, 6.316324167763817, 7.4099791185966595, 5.1865802460778525, 4.195097215842033, 16.50417831830572, 8.737725842161026, 16.94282979666778, 5.086828009414653, 9.830948741682192, 9.101962122553886, 3.143859139921844, 15.33940060183869, 13.650805289812496, 14.870611727943114, 12.069804379487998, 3.0950815043085314], array([8.75727543]), array([  14.92716263, 5799.62256693]), array([[11.58575163, -0.52986271],\n",
      "       [-0.52986271,  1.15211096]])], [[5884, 5887, 5888, 5890, 5891, 5893, 5894, 5896, 5898, 5900, 5901, 5902, 5904, 5908, 5912, 5913, 5914, 5915, 5917, 5918, 5920, 5921, 5924, 5926, 5927, 5930, 5931, 5936, 5937, 5939, 5940, 5941, 5945, 5948, 5950, 5953], [4.670837584948721, 2.747698250871018, 12.252439610528903, 0.4542856659070793, 6.942853824729603, 3.2076316557257982, 10.352369897279374, 6.2296725821668275, 7.1619011038558185, 2.5521291994280872, 0.11887824032958605, 0.2546658134036974, 5.4602810596388025, 1.2307566636531604, 1.2693962864915846, 9.345876077996671, 15.809367254659783, 3.3612299439887394, 4.575117199965291, 3.2420489788744433, 8.70635095311647, 1.1388965890890788, 1.4818292196721643, 7.104042322654188, 0.25640428192583187, 5.641103499748802, 10.689243285243911, 7.549385046603284, 4.771711721457116, 4.220862664249623, 4.942121037572086, 13.245209195591919, 0.5469280455932193, 4.157260574088227, 2.2712856952053, 0.7655703471950446], array([8.81779928, 8.83015756, 8.8417714 , 8.8389989 , 8.84572114]), array([8.07366452e+00, 5.89350399e+03, 7.42178070e+00, 5.91399586e+03,\n",
      "       1.87932485e+00, 5.92166762e+03, 8.23710851e+00, 5.93203847e+03,\n",
      "       6.77138361e+00, 5.94189215e+03]), array([[ 4.38726616e+00,  2.37692959e-01,  1.82025406e-02,\n",
      "         3.37379924e-02, -2.72806420e-02,  9.23430344e-02,\n",
      "        -3.73662285e-03,  6.83350603e-03, -2.60380467e-03,\n",
      "         2.85975136e-03],\n",
      "       [ 2.37692959e-01,  1.97971643e+00,  3.23624446e-02,\n",
      "         6.06183920e-02, -4.89393170e-02,  1.65248272e-01,\n",
      "        -6.68363230e-03,  1.22026860e-02, -4.64844652e-03,\n",
      "         5.10473031e-03],\n",
      "       [ 1.82025406e-02,  3.23624446e-02,  1.20875590e+01,\n",
      "         7.52106272e+00, -7.83119243e+00,  3.70158183e+01,\n",
      "        -1.57520006e+00,  3.41293225e+00, -1.33201645e+00,\n",
      "         1.47991284e+00],\n",
      "       [ 3.37379924e-02,  6.06183920e-02,  7.52106272e+00,\n",
      "         1.14432209e+01, -9.54772429e+00,  3.40621240e+01,\n",
      "        -1.39118435e+00,  2.63231986e+00, -1.00823374e+00,\n",
      "         1.11014867e+00],\n",
      "       [-2.72806420e-02, -4.89393170e-02, -7.83119243e+00,\n",
      "        -9.54772429e+00,  1.52385460e+01, -2.38480538e+01,\n",
      "         9.39694905e-01,  5.60327730e-01, -3.48582333e-01,\n",
      "         4.58753607e-01],\n",
      "       [ 9.23430344e-02,  1.65248272e-01,  3.70158183e+01,\n",
      "         3.40621240e+01, -2.38480538e+01,  1.87358261e+02,\n",
      "        -8.14975965e+00,  2.14224628e+01, -8.54926325e+00,\n",
      "         9.60118699e+00],\n",
      "       [-3.73662285e-03, -6.68363230e-03, -1.57520006e+00,\n",
      "        -1.39118435e+00,  9.39694905e-01, -8.14975965e+00,\n",
      "         1.18120273e+01,  2.74795567e+00, -2.46001325e+00,\n",
      "         3.83248045e+00],\n",
      "       [ 6.83350603e-03,  1.22026860e-02,  3.41293225e+00,\n",
      "         2.63231986e+00,  5.60327730e-01,  2.14224628e+01,\n",
      "         2.74795567e+00,  7.90497227e+00, -3.77227254e+00,\n",
      "         4.65225896e+00],\n",
      "       [-2.60380467e-03, -4.64844652e-03, -1.33201645e+00,\n",
      "        -1.00823374e+00, -3.48582333e-01, -8.54926325e+00,\n",
      "        -2.46001325e+00, -3.77227254e+00,  8.63400323e+00,\n",
      "        -5.46737695e-01],\n",
      "       [ 2.85975136e-03,  5.10473031e-03,  1.47991284e+00,\n",
      "         1.11014867e+00,  4.58753607e-01,  9.60118699e+00,\n",
      "         3.83248045e+00,  4.65225896e+00, -5.46737695e-01,\n",
      "         7.03618939e+00]])], [[6146, 6147, 6152, 6161, 6164], [2.3185042230978254, 7.626861368021821, 12.566563424569793, 5.062484972242586, 7.09566174831663], array([8.97115644]), array([  18.79240797, 6154.96903138]), array([[47.78481327,  4.9382035 ],\n",
      "       [ 4.9382035 ,  2.00771542]])], [[6176, 6177, 6180, 6181, 6183, 6184, 6185, 6186, 6189, 6190, 6191, 6192, 6193, 6195, 6196, 6198], [0.8853316349682245, 9.679037891529795, 18.01031251376088, 5.266196492734011, 1.0279374733781381, 4.572811481385159, 8.128932907867942, 19.66212412080298, 3.8491804151654776, 5.571646794240543, 4.306995440624611, 8.608309934964126, 3.4553626286713808, 3.5178413096735355, 9.001195444649731, 3.917649969886341], array([8.99282033]), array([  11.07828017, 6185.88443568]), array([[9.23696106, 0.30670083],\n",
      "       [0.30670083, 2.08450511]])], [[6258, 6260, 6261, 6262, 6263, 6264, 6265, 6266, 6267, 6268, 6269, 6270, 6271, 6272, 6273, 6274, 6275, 6276, 6277, 6278, 6279, 6280, 6281, 6282, 6283], [1.0659821270644088, 10.047861767053575, 3.0388162461158785, 12.02978029733216, 31.991123741864364, 55.92129059437358, 102.79967855049779, 163.60147422640782, 222.3336371056319, 307.9761346891004, 386.5211252101178, 483.966595412016, 607.2713800170882, 661.5049413320625, 696.7377263775538, 635.0459278374199, 590.4527467513218, 477.96971918368797, 418.58561725456195, 282.3177969139557, 239.13650494162187, 163.9855640949995, 69.95118721125917, 37.96076284874285, 10.966095471848362], array([9.03599983, 9.03991479]), array([  60.44255911, 6269.21565173,  636.84028515, 6273.25193881]), array([[ 5.20662570e+03,  1.95137691e+02, -5.17260076e+03,\n",
      "         1.87686519e+01],\n",
      "       [ 1.95137691e+02,  7.89882870e+00, -1.97538133e+02,\n",
      "         6.84572293e-01],\n",
      "       [-5.17260076e+03, -1.97538133e+02,  5.20287914e+03,\n",
      "        -1.85275018e+01],\n",
      "       [ 1.87686519e+01,  6.84572293e-01, -1.85275018e+01,\n",
      "         7.12466303e-02]])], [[6578, 6579, 6581, 6585, 6586, 6588, 6589, 6591, 6593], [1.2934267559638855, 3.5818679038902843, 4.749167000072944, 0.6646165538006699, 1.262410467605136, 20.602555298637007, 10.512681695378397, 0.5254407491866573, 10.898138800696849], array([9.21995897]), array([  10.08096333, 6589.5503566 ]), array([[11.50360081,  1.50848459],\n",
      "       [ 1.50848459,  4.84328482]])], [[6691, 6692, 6693, 6695, 6696, 6698, 6701, 6702, 6705, 6706, 6708, 6709, 6712, 6716, 6717], [0.17852154044486213, 7.816798012697674, 7.5829305191264424, 6.094858328624824, 5.51763385591088, 5.2047138623843665, 8.87059390300118, 7.448760516612843, 20.796057159057504, 3.259135730671723, 2.129135655165861, 6.657362167370472, 4.0908377126907, 8.0923009386078, 5.613148922858599], array([9.28350361, 9.29149045]), array([  11.86893356, 6702.48636874,    6.80951086, 6716.06080774]), array([[ 8.50856674,  0.06708392, -0.15879182,  2.71610811],\n",
      "       [ 0.06708392,  2.01017496, -0.24531482,  2.47643176],\n",
      "       [-0.15879182, -0.24531482, 12.79012094,  2.66720937],\n",
      "       [ 2.71610811,  2.47643176,  2.66720937, 19.87870514]])], [[6797, 6798, 6799, 6800, 6805, 6806, 6809, 6810, 6811, 6815, 6817, 6818, 6820], [1.8134780814534253, 4.11871632271891, 2.326828805192548, 1.8914523756912232, 2.942463325674538, 15.558023645798759, 15.958193757477208, 10.522303036644018, 11.690906318127496, 6.1123719917524895, 6.447515811076656, 0.8368690448723228, 14.328496465651494], array([9.34410192]), array([  14.20979352, 6809.51809731]), array([[7.4650931 , 0.19850604],\n",
      "       [0.19850604, 1.64484504]])], [[6916, 6917, 6918, 6923, 6924, 6926, 6927, 6930, 6931, 6932, 6935, 6936], [0.14229157936601666, 9.072574315669456, 0.1203694975111631, 1.5107781067436292, 2.936893802393378, 17.00515553111667, 8.092829612063724, 0.9401332395938269, 7.175801530394899, 0.7709220888347943, 4.546013732077363, 10.982073232682872], array([9.40866994]), array([   8.63384068, 6927.07772939]), array([[ 8.38278396, -0.10525832],\n",
      "       [-0.10525832,  3.7678787 ]])], [[7009, 7010, 7011, 7012, 7013, 7014, 7015, 7016, 7017, 7018, 7019, 7020, 7021, 7022, 7023, 7024, 7025, 7026, 7027, 7028, 7029, 7031], [3.8531933785515093, 10.998218755452996, 17.137437365434046, 15.260622157671513, 36.500103200508306, 35.812524026091026, 35.04556583117783, 62.46356742574156, 72.04061804156083, 71.5536704177847, 91.16529169906863, 84.80144217972178, 70.2517444586717, 60.61002068868051, 70.0488352695194, 50.41931687638016, 36.59875005621135, 38.81336060908124, 12.907177388289895, 22.974464379480523, 20.144084494155543, 4.033638611274135], array([9.45991277]), array([  86.06203077, 7019.65020214]), array([[1.06308317e+01, 4.03987570e-04],\n",
      "       [4.03987570e-04, 4.64746183e-02]])], [[7187, 7188, 7191, 7194, 7195, 7197, 7201, 7202, 7205, 7207, 7208, 7210], [2.0644787219662817, 9.618385293408238, 8.07853078108792, 1.8877210919388858, 4.103341324975773, 13.691408525104919, 5.404806616020508, 1.5753939976595674, 3.7373272165367766, 1.8298779589459073, 2.951316474165978, 3.5569556222650363], array([9.55318718]), array([   8.69531517, 7196.73250453]), array([[6.56280219, 0.62277948],\n",
      "       [0.62277948, 2.9254543 ]])], [[7391, 7392, 7394, 7395, 7397, 7398, 7399, 7400, 7401, 7402, 7403, 7404, 7405, 7406, 7407, 7408, 7409, 7411, 7412, 7413, 7414, 7416, 7417, 7418, 7419, 7420, 7421, 7422, 7423, 7424], [7.892708708823193e-11, 6.506206883765792, 8.073483996331696, 0.41715493516418434, 10.715919607841698, 7.084021295338594, 5.302029522342508, 7.833717976164017, 9.663367265049942, 21.364506483761865, 19.25135100644527, 3.3569247558728392, 8.387037717879771, 1.7149785934519173, 5.901851495839665, 1.146674363461095, 8.62307193614594, 29.458622576028283, 12.648694816633189, 13.998711129227743, 2.2095219246093336, 11.407461138346399, 13.960458394667445, 8.674248774096771, 12.406076180626933, 11.410565800654592, 12.288882479318154, 12.24130081611958, 4.556946187434921, 12.19450921741667], array([9.66615933, 9.67528575]), array([  12.11012115, 7401.37911809,   15.6371242 , 7415.90936566]), array([[ 6.65622634, -0.07730161, -0.33889133,  0.26720027],\n",
      "       [-0.07730161,  1.77659658, -0.46254397,  0.31153124],\n",
      "       [-0.33889133, -0.46254397,  7.67910192, -0.31855877],\n",
      "       [ 0.26720027,  0.31153124, -0.31855877,  1.05078551]])], [[7453, 7454, 7456, 7459, 7462, 7466, 7468, 7470, 7472, 7473], [0.642109267044205, 8.749761526488314, 3.242566394214471, 5.740769946692218, 7.257181015128857, 7.974832684769545, 6.668953507571956, 1.9166644346000155, 6.478851000648099, 1.7044418396759582], array([9.6989132]), array([   9.86573175, 7463.67681656]), array([[ 5.5528222 , -0.33421753],\n",
      "       [-0.33421753,  1.45534396]])], [[7489, 7490, 7494, 7495, 7497, 7498, 7500, 7501, 7504, 7505, 7506, 7509, 7510, 7511, 7513], [4.999999956660858, 20.50000004335269, 13.499999962553318, 7.500000026386402, 10.499999979904253, 2.500000086394575, 10.999999945138654, 11.500000046888953, 1.9999999954051475, 3.999999996268997, 6.500000003105441, 3.0000000000908855, 1.4999999831422457, 7.500000014874871, 4.49999999936778], array([9.70186674]), array([  15.07652122, 7492.77069441]), array([[10.7954648 , -0.92588234],\n",
      "       [-0.92588234,  1.44859655]])], [[7555, 7556, 7557, 7558, 7559, 7560, 7561, 7562, 7563, 7565, 7566, 7567, 7568, 7570, 7571, 7572, 7574, 7575, 7576, 7577, 7578, 7579], [2.9679026958353134, 12.813109138022043, 8.665321282874899, 0.6796011457953526, 17.533241706197252, 7.361700427616292, 17.229441341428405, 13.034402700288254, 5.001937318165027, 5.113091941704688, 8.956744989442974, 20.71112844727893, 4.596528998058261, 7.694685079309757, 9.526766052401705, 6.446236419289924, 3.500418332794588, 3.4308696979858837, 16.25507415719293, 7.107907224185716, 11.037208554832155, 6.940518544240341], array([9.75595849]), array([  13.96737679, 7562.98907626]), array([[9.14112649, 0.31784309],\n",
      "       [0.31784309, 1.53876488]])], [[7782, 7783, 7784, 7785, 7786, 7787, 7788, 7789, 7790, 7791, 7792, 7793, 7794, 7795, 7796, 7797, 7798, 7799, 7800, 7801, 7802, 7803, 7804, 7805, 7806, 7807, 7808, 7809, 7811, 7812, 7813, 7814, 7815, 7816, 7817, 7818, 7819, 7820, 7821, 7822, 7823, 7824, 7825, 7826, 7827, 7828, 7829, 7831, 7832, 7835], [9.949208818455123, 22.807251484541748, 18.67871296408643, 16.604158046586022, 31.448715911848804, 12.347394026702215, 6.363406484935133, 26.24474098290683, 22.0809661335938, 24.963735179481553, 25.82424362354142, 36.63466938015058, 59.303842698415316, 36.06104133311154, 32.951530256646876, 34.781625982024956, 42.559253930666685, 42.32277397876806, 47.082416018331806, 35.88645136868913, 23.793064409745845, 25.692533096969385, 2.6737782850805516, 20.627183581247593, 7.542732151262122, 27.43585362837267, 10.332057513206394, 4.353226985557967, 3.390100297867747, 14.299234364659277, 32.10724758717204, 11.00512050091529, 25.926368161891588, 29.73627521590401, 30.570003806144612, 32.40203734944386, 39.19683062806401, 44.949493671555004, 42.716110764058286, 26.585495599013726, 39.42506913489827, 36.20704763697257, 17.1272696861662, 22.063134291461566, 6.019641120622467, 14.983987533968715, 2.9459754770169795, 4.9894374070943215, 1.9564767877475333, 4.010157971570024], array([9.87316009, 9.87937034, 9.88216559, 9.8860791 ]), array([  18.73755767, 7785.04368381,   45.50786366, 7796.89013974,\n",
      "         10.6658956 , 7808.52491885,   41.80679797, 7820.33315896]), array([[ 1.19704845e+01, -2.60608037e-01, -8.01535077e-01,\n",
      "         5.01516320e-01, -7.94856295e-01,  9.40258500e-01,\n",
      "        -3.59420279e-01,  7.03431300e-02],\n",
      "       [-2.60608037e-01,  2.43404812e+00, -1.51594258e+00,\n",
      "         5.08719965e-01, -7.42950483e-01,  8.32993428e-01,\n",
      "        -3.13699213e-01,  6.11090936e-02],\n",
      "       [-8.01535077e-01, -1.51594258e+00,  1.21085126e+01,\n",
      "        -1.48746460e-03, -1.09724263e+00,  2.44513578e+00,\n",
      "        -1.05383157e+00,  2.13707582e-01],\n",
      "       [ 5.01516320e-01,  5.08719965e-01, -1.48746460e-03,\n",
      "         3.62360595e-01, -6.27071444e-01,  7.97184131e-01,\n",
      "        -3.10483852e-01,  6.11257520e-02],\n",
      "       [-7.94856295e-01, -7.42950483e-01, -1.09724263e+00,\n",
      "        -6.27071444e-01,  1.36166653e+01,  2.50490027e-01,\n",
      "        -1.91293927e+00,  5.18113843e-01],\n",
      "       [ 9.40258500e-01,  8.32993428e-01,  2.44513578e+00,\n",
      "         7.97184131e-01,  2.50490027e-01,  6.42316820e+00,\n",
      "        -3.17996273e+00,  6.74068559e-01],\n",
      "       [-3.59420279e-01, -3.13699213e-01, -1.05383157e+00,\n",
      "        -3.10483852e-01, -1.91293927e+00, -3.17996273e+00,\n",
      "         1.10857141e+01, -3.96823246e-01],\n",
      "       [ 7.03431300e-02,  6.11090936e-02,  2.13707582e-01,\n",
      "         6.11257520e-02,  5.18113843e-01,  6.74068559e-01,\n",
      "        -3.96823246e-01,  2.77554419e-01]])], [[7912, 7914, 7916, 7917, 7918, 7922, 7923, 7924, 7927, 7930, 7935], [3.6755439710718285, 13.065820290249562, 0.45492940642525426, 5.931344215791135, 1.5313431252914818, 5.300378401372431, 17.41039133922065, 5.322620759140868, 4.979856746891848, 0.5061132759631093, 1.6391104959576737], array([9.93930143]), array([   9.39563643, 7921.97664668]), array([[ 7.84643266, -0.04186077],\n",
      "       [-0.04186077,  3.40580064]])], [[7980, 7981, 7982, 7983, 7984, 7985, 7986, 7987, 7988, 7989, 7990, 7991, 7992, 7995, 7996, 7997, 7999, 8001, 8002, 8003], [1.9841738312971628, 2.952646727699225, 7.885760221148857, 8.795663740110683, 13.682540947070269, 7.601965641639314, 5.5813760680381534, 7.529297084069388, 7.461804036794096, 4.426497405105199, 11.347948193840612, 7.26210746475914, 19.1255109523195, 3.228192344325244, 8.13538616903777, 5.0749667142428265, 7.097179832674179, 1.0958670925330338, 1.0753257772726386, 10.987685790178322], array([9.97333137]), array([  11.66981654, 7989.93542444]), array([[4.46152723, 0.47532832],\n",
      "       [0.47532832, 1.29288977]])], [[8067, 8068, 8069, 8070, 8071, 8073, 8074, 8075, 8076, 8078, 8079, 8080, 8081, 8082, 8083, 8084, 8085, 8086, 8087, 8088], [7.739536231485712, 15.096856982037504, 0.9309136599048351, 15.640141231389347, 7.147208951261792, 6.325707022363233, 12.745338168896044, 9.314096832024077, 14.864337867052146, 22.464993170022673, 21.29404596302454, 10.926334741340831, 17.505479508847124, 17.789025743726363, 9.45403594127815, 12.17878968372537, 5.928783871397158, 10.670638755543237, 0.5674091906948959, 11.353587672305267], array([10.01878352]), array([  19.8942981 , 8078.64985732]), array([[ 5.98104745, -0.17307148],\n",
      "       [-0.17307148,  0.52973132]])], [[8122, 8124, 8125, 8126, 8128, 8131, 8133, 8134, 8136, 8137, 8138, 8139, 8143, 8145, 8146], [1.7587715465490739, 1.5867727100937472, 2.154156893083602, 1.8340278116652513, 8.524712845156234, 2.4125371953536003, 9.866018904453497, 5.711122849914712, 5.473311437326096, 6.8482383970473, 5.84132207836317, 10.413090172662805, 4.269730235146756, 1.9506954152213432, 5.9314213224802295], array([10.04851335]), array([   8.35663949, 8136.30066768]), array([[2.09955074, 0.07260049],\n",
      "       [0.07260049, 1.62874157]])]]\n"
     ]
    }
   ],
   "source": [
    "print(second_general_fit)"
   ]
  },
  {
   "cell_type": "code",
   "execution_count": null,
   "metadata": {},
   "outputs": [],
   "source": []
  },
  {
   "cell_type": "code",
   "execution_count": null,
   "metadata": {},
   "outputs": [],
   "source": []
  },
  {
   "cell_type": "code",
   "execution_count": 31,
   "metadata": {},
   "outputs": [
    {
     "ename": "NameError",
     "evalue": "name 'ax1' is not defined",
     "output_type": "error",
     "traceback": [
      "\u001b[0;31m---------------------------------------------------------------------------\u001b[0m",
      "\u001b[0;31mNameError\u001b[0m                                 Traceback (most recent call last)",
      "\u001b[0;32m<ipython-input-31-5e8f39449350>\u001b[0m in \u001b[0;36m<module>\u001b[0;34m\u001b[0m\n\u001b[1;32m     22\u001b[0m \u001b[0;32mfor\u001b[0m \u001b[0mz\u001b[0m \u001b[0;32min\u001b[0m \u001b[0msecond_general_fit\u001b[0m\u001b[0;34m:\u001b[0m\u001b[0;34m\u001b[0m\u001b[0;34m\u001b[0m\u001b[0m\n\u001b[1;32m     23\u001b[0m     \u001b[0mxra\u001b[0m \u001b[0;34m=\u001b[0m \u001b[0mnp\u001b[0m\u001b[0;34m.\u001b[0m\u001b[0mlinspace\u001b[0m\u001b[0;34m(\u001b[0m\u001b[0mz\u001b[0m\u001b[0;34m[\u001b[0m\u001b[0;36m0\u001b[0m\u001b[0;34m]\u001b[0m\u001b[0;34m[\u001b[0m\u001b[0;36m0\u001b[0m\u001b[0;34m]\u001b[0m\u001b[0;34m,\u001b[0m \u001b[0mz\u001b[0m\u001b[0;34m[\u001b[0m\u001b[0;36m0\u001b[0m\u001b[0;34m]\u001b[0m\u001b[0;34m[\u001b[0m\u001b[0;34m-\u001b[0m\u001b[0;36m1\u001b[0m\u001b[0;34m]\u001b[0m\u001b[0;34m,\u001b[0m \u001b[0mnum\u001b[0m\u001b[0;34m=\u001b[0m\u001b[0mint\u001b[0m\u001b[0;34m(\u001b[0m\u001b[0mnp\u001b[0m\u001b[0;34m.\u001b[0m\u001b[0maround\u001b[0m\u001b[0;34m(\u001b[0m\u001b[0mz\u001b[0m\u001b[0;34m[\u001b[0m\u001b[0;36m0\u001b[0m\u001b[0;34m]\u001b[0m\u001b[0;34m[\u001b[0m\u001b[0;34m-\u001b[0m\u001b[0;36m1\u001b[0m\u001b[0;34m]\u001b[0m\u001b[0;34m-\u001b[0m\u001b[0mz\u001b[0m\u001b[0;34m[\u001b[0m\u001b[0;36m0\u001b[0m\u001b[0;34m]\u001b[0m\u001b[0;34m[\u001b[0m\u001b[0;36m0\u001b[0m\u001b[0;34m]\u001b[0m\u001b[0;34m)\u001b[0m\u001b[0;34m)\u001b[0m\u001b[0;34m+\u001b[0m\u001b[0;36m1\u001b[0m\u001b[0;34m)\u001b[0m\u001b[0;34m\u001b[0m\u001b[0;34m\u001b[0m\u001b[0m\n\u001b[0;32m---> 24\u001b[0;31m     \u001b[0max1\u001b[0m\u001b[0;34m.\u001b[0m\u001b[0msemilogy\u001b[0m\u001b[0;34m(\u001b[0m\u001b[0mxra\u001b[0m\u001b[0;34m,\u001b[0m \u001b[0mgaus_fix_fw\u001b[0m\u001b[0;34m(\u001b[0m\u001b[0;34m*\u001b[0m\u001b[0mz\u001b[0m\u001b[0;34m[\u001b[0m\u001b[0;36m2\u001b[0m\u001b[0;34m]\u001b[0m\u001b[0;34m)\u001b[0m\u001b[0;34m(\u001b[0m\u001b[0mxra\u001b[0m\u001b[0;34m,\u001b[0m \u001b[0;34m*\u001b[0m\u001b[0mz\u001b[0m\u001b[0;34m[\u001b[0m\u001b[0;36m3\u001b[0m\u001b[0;34m]\u001b[0m\u001b[0;34m)\u001b[0m\u001b[0;34m,\u001b[0m \u001b[0mmarker\u001b[0m\u001b[0;34m=\u001b[0m\u001b[0;34m'o'\u001b[0m\u001b[0;34m,\u001b[0m \u001b[0mcolor\u001b[0m\u001b[0;34m=\u001b[0m\u001b[0;34m'yellow'\u001b[0m\u001b[0;34m,\u001b[0m \u001b[0mlinewidth\u001b[0m\u001b[0;34m=\u001b[0m\u001b[0;36m1.0\u001b[0m\u001b[0;34m)\u001b[0m\u001b[0;34m\u001b[0m\u001b[0;34m\u001b[0m\u001b[0m\n\u001b[0m\u001b[1;32m     25\u001b[0m \u001b[0mdummy\u001b[0m \u001b[0;34m=\u001b[0m \u001b[0;34m[\u001b[0m \u001b[0max1\u001b[0m\u001b[0;34m.\u001b[0m\u001b[0msemilogy\u001b[0m\u001b[0;34m(\u001b[0m\u001b[0mxs\u001b[0m\u001b[0;34m,\u001b[0m \u001b[0mys\u001b[0m\u001b[0;34m,\u001b[0m \u001b[0mmarker\u001b[0m\u001b[0;34m=\u001b[0m\u001b[0;34m'x'\u001b[0m\u001b[0;34m,\u001b[0m \u001b[0mcolor\u001b[0m\u001b[0;34m=\u001b[0m\u001b[0;34m'red'\u001b[0m\u001b[0;34m,\u001b[0m \u001b[0mlinestyle\u001b[0m\u001b[0;34m=\u001b[0m\u001b[0;34m'None'\u001b[0m\u001b[0;34m)\u001b[0m \u001b[0;32mfor\u001b[0m \u001b[0mxs\u001b[0m\u001b[0;34m,\u001b[0m\u001b[0mys\u001b[0m \u001b[0;32min\u001b[0m \u001b[0mzip\u001b[0m\u001b[0;34m(\u001b[0m\u001b[0mindics\u001b[0m\u001b[0;34m,\u001b[0m\u001b[0mheis\u001b[0m\u001b[0;34m)\u001b[0m \u001b[0;34m]\u001b[0m\u001b[0;34m\u001b[0m\u001b[0;34m\u001b[0m\u001b[0m\n\u001b[1;32m     26\u001b[0m \u001b[0;34m\u001b[0m\u001b[0m\n",
      "\u001b[0;31mNameError\u001b[0m: name 'ax1' is not defined"
     ]
    }
   ],
   "source": [
    "\n",
    "\n",
    "\n",
    "xs = np.linspace(0,spec0.spLngData-1,spec0.spLngData)\n",
    "y0s = spec0.spCounts\n",
    "padj = figure(\n",
    "   plot_width=1500,\n",
    "   plot_height=1000,\n",
    "   tools=\"pan,box_zoom,reset,save\",\n",
    "   y_axis_type=\"log\", y_range=[1.0, 10**3], title=\"Analyzed spectrum\",\n",
    "   x_axis_label='channels', y_axis_label='counts'\n",
    ")\n",
    "padj.circle(xs, y0s, legend=\"counts\", color=\"lightblue\",size=3)\n",
    "padj.multi_line(lx,ly, color=\"orange\")\n",
    "padj.multi_line(lx,blins, color=\"magenta\")\n",
    "padj.multi_line(lx,nety, color=\"green\")\n",
    "padj.x(spec0.indicescwt, heis, color=\"red\", size=6)\n",
    "\n",
    "# 2018-Jul-03: Falta fazer a soma blin com o ajuste:\n",
    "# dummy = [ ax1.semilogy(z[0], gaus_fix_fw(*z[2])(z[0], *z[3]), marker='o', color='blue', linewidth=1.0) for z in second_general_fit ]\n",
    "# Usando linspace: usar pontos extremos de z[0] para construir a faixa\n",
    "for z in second_general_fit:\n",
    "    xra = np.linspace(z[0][0], z[0][-1], num=int(np.around(z[0][-1]-z[0][0]))+1)\n",
    "    ax1.semilogy(xra, gaus_fix_fw(*z[2])(xra, *z[3]), marker='o', color='yellow', linewidth=1.0)\n",
    "dummy = [ ax1.semilogy(xs, ys, marker='x', color='red', linestyle='None') for xs,ys in zip(indics,heis) ]\n",
    "\n",
    "\n",
    "\n",
    "\n",
    "show(padj)\n",
    "\n"
   ]
  },
  {
   "cell_type": "code",
   "execution_count": 32,
   "metadata": {},
   "outputs": [
    {
     "ename": "NameError",
     "evalue": "name 'plt' is not defined",
     "output_type": "error",
     "traceback": [
      "\u001b[0;31m---------------------------------------------------------------------------\u001b[0m",
      "\u001b[0;31mNameError\u001b[0m                                 Traceback (most recent call last)",
      "\u001b[0;32m<ipython-input-32-1ed1d3ce030c>\u001b[0m in \u001b[0;36m<module>\u001b[0;34m\u001b[0m\n\u001b[0;32m----> 1\u001b[0;31m \u001b[0mplt\u001b[0m\u001b[0;34m.\u001b[0m\u001b[0mclose\u001b[0m\u001b[0;34m(\u001b[0m\u001b[0;34m'all'\u001b[0m\u001b[0;34m)\u001b[0m\u001b[0;34m\u001b[0m\u001b[0;34m\u001b[0m\u001b[0m\n\u001b[0m\u001b[1;32m      2\u001b[0m \u001b[0mfig1\u001b[0m\u001b[0;34m,\u001b[0m \u001b[0max1\u001b[0m \u001b[0;34m=\u001b[0m \u001b[0mplt\u001b[0m\u001b[0;34m.\u001b[0m\u001b[0msubplots\u001b[0m\u001b[0;34m(\u001b[0m\u001b[0;36m1\u001b[0m\u001b[0;34m,\u001b[0m \u001b[0;36m1\u001b[0m\u001b[0;34m,\u001b[0m \u001b[0mfigsize\u001b[0m\u001b[0;34m=\u001b[0m\u001b[0;34m(\u001b[0m\u001b[0;36m20\u001b[0m\u001b[0;34m,\u001b[0m\u001b[0;36m12\u001b[0m\u001b[0;34m)\u001b[0m\u001b[0;34m)\u001b[0m\u001b[0;34m\u001b[0m\u001b[0;34m\u001b[0m\u001b[0m\n\u001b[1;32m      3\u001b[0m \u001b[0max1\u001b[0m\u001b[0;34m.\u001b[0m\u001b[0mgrid\u001b[0m\u001b[0;34m(\u001b[0m\u001b[0;32mTrue\u001b[0m\u001b[0;34m)\u001b[0m\u001b[0;34m\u001b[0m\u001b[0;34m\u001b[0m\u001b[0m\n\u001b[1;32m      4\u001b[0m \u001b[0max1\u001b[0m\u001b[0;34m.\u001b[0m\u001b[0mset_xlim\u001b[0m\u001b[0;34m(\u001b[0m\u001b[0;36m1170\u001b[0m\u001b[0;34m,\u001b[0m \u001b[0;36m1250\u001b[0m\u001b[0;34m)\u001b[0m\u001b[0;34m\u001b[0m\u001b[0;34m\u001b[0m\u001b[0m\n\u001b[1;32m      5\u001b[0m \u001b[0max1\u001b[0m\u001b[0;34m.\u001b[0m\u001b[0mset_ylim\u001b[0m\u001b[0;34m(\u001b[0m\u001b[0;36m3.0\u001b[0m\u001b[0;34m,\u001b[0m \u001b[0;36m1e5\u001b[0m\u001b[0;34m)\u001b[0m\u001b[0;34m\u001b[0m\u001b[0;34m\u001b[0m\u001b[0m\n",
      "\u001b[0;31mNameError\u001b[0m: name 'plt' is not defined"
     ]
    }
   ],
   "source": [
    "plt.close('all')\n",
    "fig1, ax1 = plt.subplots(1, 1, figsize=(20,12))\n",
    "ax1.grid(True)\n",
    "ax1.set_xlim(1170, 1250)\n",
    "ax1.set_ylim(3.0, 1e5)\n",
    "ax1.set_xlabel('Canal', size=20)\n",
    "ax1.set_ylabel('Contagens', size=20)\n",
    "ax1.semilogy(xs, cts_spc, marker='.', markersize=2.0, color='lightgreen', linestyle='None')\n",
    "dummy = [ ax1.semilogy(xs, ys, marker='', color='lightgreen', linewidth=0.5) for xs,ys in zip(lx,ly) ]\n",
    "dummy = [ ax1.semilogy(xs, ys, marker='', color='beige', linewidth=1.0) for xs,ys in zip(lx,blins) ]\n",
    "dummy = [ ax1.semilogy(xs, ys, marker='x', color='magenta', linewidth=1.0) for xs,ys in zip(lx,nety) ]\n",
    "\n",
    "# 2018-Jul-03: Falta fazer a soma blin com o ajuste:\n",
    "# dummy = [ ax1.semilogy(z[0], gaus_fix_fw(*z[2])(z[0], *z[3]), marker='o', color='blue', linewidth=1.0) for z in second_general_fit ]\n",
    "# Usando linspace: usar pontos extremos de z[0] para construir a faixa\n",
    "for z in second_general_fit:\n",
    "    xra = np.linspace(z[0][0], z[0][-1], num=int(np.around(z[0][-1]-z[0][0]))+1)\n",
    "    ax1.semilogy(xra, gaus_fix_fw(*z[2])(xra, *z[3]), marker='o', color='yellow', linewidth=1.0)\n",
    "dummy = [ ax1.semilogy(xs, ys, marker='x', color='red', linestyle='None') for xs,ys in zip(indics,heis) ]"
   ]
  },
  {
   "cell_type": "code",
   "execution_count": null,
   "metadata": {},
   "outputs": [],
   "source": []
  },
  {
   "cell_type": "code",
   "execution_count": null,
   "metadata": {},
   "outputs": [],
   "source": []
  },
  {
   "cell_type": "code",
   "execution_count": null,
   "metadata": {},
   "outputs": [],
   "source": []
  },
  {
   "cell_type": "code",
   "execution_count": null,
   "metadata": {},
   "outputs": [],
   "source": []
  },
  {
   "cell_type": "code",
   "execution_count": null,
   "metadata": {},
   "outputs": [],
   "source": []
  },
  {
   "cell_type": "code",
   "execution_count": null,
   "metadata": {},
   "outputs": [],
   "source": []
  },
  {
   "cell_type": "code",
   "execution_count": null,
   "metadata": {},
   "outputs": [],
   "source": []
  },
  {
   "cell_type": "code",
   "execution_count": 33,
   "metadata": {},
   "outputs": [
    {
     "ename": "NameError",
     "evalue": "name 'plt' is not defined",
     "output_type": "error",
     "traceback": [
      "\u001b[0;31m---------------------------------------------------------------------------\u001b[0m",
      "\u001b[0;31mNameError\u001b[0m                                 Traceback (most recent call last)",
      "\u001b[0;32m<ipython-input-33-c89ed2311cf1>\u001b[0m in \u001b[0;36m<module>\u001b[0;34m\u001b[0m\n\u001b[0;32m----> 1\u001b[0;31m \u001b[0mplt\u001b[0m\u001b[0;34m.\u001b[0m\u001b[0mclose\u001b[0m\u001b[0;34m(\u001b[0m\u001b[0;34m'all'\u001b[0m\u001b[0;34m)\u001b[0m\u001b[0;34m\u001b[0m\u001b[0;34m\u001b[0m\u001b[0m\n\u001b[0m\u001b[1;32m      2\u001b[0m \u001b[0mfig1\u001b[0m\u001b[0;34m,\u001b[0m \u001b[0max1\u001b[0m \u001b[0;34m=\u001b[0m \u001b[0mplt\u001b[0m\u001b[0;34m.\u001b[0m\u001b[0msubplots\u001b[0m\u001b[0;34m(\u001b[0m\u001b[0;36m1\u001b[0m\u001b[0;34m,\u001b[0m \u001b[0;36m1\u001b[0m\u001b[0;34m,\u001b[0m \u001b[0mfigsize\u001b[0m\u001b[0;34m=\u001b[0m\u001b[0;34m(\u001b[0m\u001b[0;36m15\u001b[0m\u001b[0;34m,\u001b[0m\u001b[0;36m9\u001b[0m\u001b[0;34m)\u001b[0m\u001b[0;34m)\u001b[0m\u001b[0;34m\u001b[0m\u001b[0;34m\u001b[0m\u001b[0m\n\u001b[1;32m      3\u001b[0m \u001b[0max1\u001b[0m\u001b[0;34m.\u001b[0m\u001b[0mgrid\u001b[0m\u001b[0;34m(\u001b[0m\u001b[0;32mTrue\u001b[0m\u001b[0;34m)\u001b[0m\u001b[0;34m\u001b[0m\u001b[0;34m\u001b[0m\u001b[0m\n\u001b[1;32m      4\u001b[0m \u001b[0max1\u001b[0m\u001b[0;34m.\u001b[0m\u001b[0mset_xlim\u001b[0m\u001b[0;34m(\u001b[0m\u001b[0;36m0\u001b[0m\u001b[0;34m,\u001b[0m \u001b[0;36m8500\u001b[0m\u001b[0;34m)\u001b[0m\u001b[0;34m\u001b[0m\u001b[0;34m\u001b[0m\u001b[0m\n\u001b[1;32m      5\u001b[0m \u001b[0max1\u001b[0m\u001b[0;34m.\u001b[0m\u001b[0mset_ylim\u001b[0m\u001b[0;34m(\u001b[0m\u001b[0;36m0.0\u001b[0m\u001b[0;34m,\u001b[0m \u001b[0;36m15.0\u001b[0m\u001b[0;34m)\u001b[0m\u001b[0;34m\u001b[0m\u001b[0;34m\u001b[0m\u001b[0m\n",
      "\u001b[0;31mNameError\u001b[0m: name 'plt' is not defined"
     ]
    }
   ],
   "source": [
    "plt.close('all')\n",
    "fig1, ax1 = plt.subplots(1, 1, figsize=(15,9))\n",
    "ax1.grid(True)\n",
    "ax1.set_xlim(0, 8500)\n",
    "ax1.set_ylim(0.0, 15.0)\n",
    "dummy = ax1.plot(channs, fwhms, marker='x', color='red', linestyle='None')\n",
    "dummy = ax1.errorbar(channs, fwhms, yerr=unc_fwhms, capsize=5.0, color='orange', linestyle='None')\n",
    "dummy = ax1.plot(channs, fit1, color='lightblue')\n",
    "fig1"
   ]
  },
  {
   "cell_type": "code",
   "execution_count": null,
   "metadata": {},
   "outputs": [],
   "source": []
  },
  {
   "cell_type": "code",
   "execution_count": null,
   "metadata": {},
   "outputs": [],
   "source": []
  },
  {
   "cell_type": "code",
   "execution_count": null,
   "metadata": {},
   "outputs": [],
   "source": []
  },
  {
   "cell_type": "code",
   "execution_count": null,
   "metadata": {},
   "outputs": [],
   "source": []
  },
  {
   "cell_type": "code",
   "execution_count": null,
   "metadata": {},
   "outputs": [],
   "source": []
  },
  {
   "cell_type": "code",
   "execution_count": null,
   "metadata": {},
   "outputs": [],
   "source": []
  },
  {
   "cell_type": "code",
   "execution_count": null,
   "metadata": {},
   "outputs": [],
   "source": []
  },
  {
   "cell_type": "code",
   "execution_count": null,
   "metadata": {},
   "outputs": [],
   "source": []
  },
  {
   "cell_type": "code",
   "execution_count": 34,
   "metadata": {},
   "outputs": [],
   "source": [
    "# Agora espectros totalmente diferentes: espectro .chn de efluente CTP..."
   ]
  },
  {
   "cell_type": "code",
   "execution_count": 35,
   "metadata": {},
   "outputs": [
    {
     "name": "stdout",
     "output_type": "stream",
     "text": [
      "4096\n"
     ]
    }
   ],
   "source": [
    "fn3 = r'../gamma/spectra/Filtros/2017/CTP/CTP2906.Chn'\n",
    "spec3 = Spec()\n",
    "if spec3.readSp( fn3 ) >= 0:\n",
    "    print (spec3.spLngData)"
   ]
  },
  {
   "cell_type": "code",
   "execution_count": 36,
   "metadata": {},
   "outputs": [
    {
     "name": "stderr",
     "output_type": "stream",
     "text": [
      "/home/marcelo/anaconda3/lib/python3.7/site-packages/scipy/stats/stats.py:1713: FutureWarning: Using a non-tuple sequence for multidimensional indexing is deprecated; use `arr[tuple(seq)]` instead of `arr[seq]`. In the future this will be interpreted as an array index, `arr[np.array(seq)]`, which will result either in an error or a different result.\n",
      "  return np.add.reduce(sorted[indexer] * weights, axis=axis) / sumval\n"
     ]
    },
    {
     "data": {
      "text/plain": [
       "0"
      ]
     },
     "execution_count": 36,
     "metadata": {},
     "output_type": "execute_result"
    }
   ],
   "source": [
    "ret = spec3.scanSpec()\n",
    "spec3.defBlineRegionsSpec()\n",
    "spec3.blinesFitSpec()"
   ]
  },
  {
   "cell_type": "code",
   "execution_count": 37,
   "metadata": {},
   "outputs": [],
   "source": [
    "lx = [ list(range(region[0], region[1]+1)) for region in spec3.regions ]\n",
    "ly = [ [spec3.spCounts[i] for i in xs] for xs in lx ]"
   ]
  },
  {
   "cell_type": "code",
   "execution_count": 38,
   "metadata": {},
   "outputs": [],
   "source": [
    "blins = [blf.bline_estimate_2(ys) for ys in ly ]\n",
    "if blins:\n",
    "    heis = [spec3.spCounts[i] for i in spec3.indicescwt]\n",
    "    nety = [ [ gr-bl for gr, bl in zip(l1,l2) ] for l1,l2 in zip(ly,blins) ]"
   ]
  },
  {
   "cell_type": "code",
   "execution_count": 39,
   "metadata": {},
   "outputs": [],
   "source": [
    "xs = np.linspace(0,spec3.spLngData-1,spec3.spLngData)\n",
    "y0s = spec3.spCounts\n",
    "p3 = figure(\n",
    "   plot_width=1500,\n",
    "   plot_height=1000,\n",
    "   tools=\"pan,box_zoom,reset,save\",\n",
    "   y_axis_type=\"log\", y_range=[1.0, 10**3], title=\"Analyzed spectrum\",\n",
    "   x_axis_label='channels', y_axis_label='counts'\n",
    ")\n",
    "p3.circle(xs, y0s, legend=\"counts\", color=\"lightblue\",size=4)\n",
    "p3.multi_line(lx,ly, color=\"orange\")\n",
    "p3.multi_line(lx,blins, color=\"magenta\")\n",
    "p3.multi_line(lx,nety, color=\"green\")\n",
    "p3.x(spec3.indicescwt, heis, color=\"red\", size=6)\n",
    "show(p3)"
   ]
  },
  {
   "cell_type": "code",
   "execution_count": null,
   "metadata": {},
   "outputs": [],
   "source": []
  },
  {
   "cell_type": "code",
   "execution_count": 37,
   "metadata": {},
   "outputs": [],
   "source": [
    "# .. e de efluente CRN"
   ]
  },
  {
   "cell_type": "code",
   "execution_count": 38,
   "metadata": {},
   "outputs": [
    {
     "name": "stdout",
     "output_type": "stream",
     "text": [
      "4096\n"
     ]
    }
   ],
   "source": [
    "fn4 = r'../gamma/spectra/Filtros/2017/CRN/CRN2906.Chn'\n",
    "spec4 = Spec()\n",
    "if spec4.readSp( fn4 ) >= 0:\n",
    "    print (spec4.spLngData)"
   ]
  },
  {
   "cell_type": "code",
   "execution_count": 39,
   "metadata": {},
   "outputs": [
    {
     "name": "stderr",
     "output_type": "stream",
     "text": [
      "/home/marcelo/anaconda3/lib/python3.7/site-packages/scipy/stats/stats.py:1713: FutureWarning: Using a non-tuple sequence for multidimensional indexing is deprecated; use `arr[tuple(seq)]` instead of `arr[seq]`. In the future this will be interpreted as an array index, `arr[np.array(seq)]`, which will result either in an error or a different result.\n",
      "  return np.add.reduce(sorted[indexer] * weights, axis=axis) / sumval\n",
      "/home/marcelo/ownCloud/Python_Scripts/teste_datas.py:257: RankWarning: Polyfit may be poorly conditioned\n",
      "  zbl.append( np.polyfit(xbl[i], ybl[i], 2) )\n"
     ]
    },
    {
     "data": {
      "text/plain": [
       "0"
      ]
     },
     "execution_count": 39,
     "metadata": {},
     "output_type": "execute_result"
    }
   ],
   "source": [
    "ret = spec4.scanSpec()\n",
    "spec4.defBlineRegionsSpec()\n",
    "spec4.blinesFitSpec()"
   ]
  },
  {
   "cell_type": "code",
   "execution_count": 40,
   "metadata": {},
   "outputs": [],
   "source": [
    "lx = [ list(range(region[0], region[1]+1)) for region in spec4.regions ]\n",
    "ly = [ [spec4.spCounts[i] for i in xs] for xs in lx ]"
   ]
  },
  {
   "cell_type": "code",
   "execution_count": 41,
   "metadata": {},
   "outputs": [],
   "source": [
    "blins = [blf.bline_estimate_2(ys) for ys in ly ]\n",
    "if blins:\n",
    "    heis = [spec4.spCounts[i] for i in spec4.indicescwt]\n",
    "    nety = [ [ gr-bl for gr, bl in zip(l1,l2) ] for l1,l2 in zip(ly,blins) ]"
   ]
  },
  {
   "cell_type": "code",
   "execution_count": 42,
   "metadata": {},
   "outputs": [],
   "source": [
    "xs = np.linspace(0,spec4.spLngData-1,spec4.spLngData)\n",
    "y0s = spec4.spCounts\n",
    "p4 = figure(\n",
    "   plot_width=1500,\n",
    "   plot_height=1000,\n",
    "   tools=\"pan,box_zoom,reset,save\",\n",
    "   y_axis_type=\"log\", y_range=[1.0, 10**3], title=\"Analyzed spectrum\",\n",
    "   x_axis_label='channels', y_axis_label='counts'\n",
    ")\n",
    "p4.circle(xs, y0s, legend=\"counts\", color=\"lightblue\",size=4)\n",
    "p4.multi_line(lx,ly, color=\"orange\")\n",
    "p4.multi_line(lx,blins, color=\"magenta\")\n",
    "p4.multi_line(lx,nety, color=\"green\")\n",
    "p4.x(spec4.indicescwt, heis, color=\"red\", size=6)\n",
    "show(p4)"
   ]
  },
  {
   "cell_type": "raw",
   "metadata": {},
   "source": [
    "vars(spec3)"
   ]
  },
  {
   "cell_type": "code",
   "execution_count": null,
   "metadata": {},
   "outputs": [],
   "source": []
  },
  {
   "cell_type": "code",
   "execution_count": null,
   "metadata": {},
   "outputs": [],
   "source": []
  },
  {
   "cell_type": "code",
   "execution_count": null,
   "metadata": {},
   "outputs": [],
   "source": []
  },
  {
   "cell_type": "code",
   "execution_count": null,
   "metadata": {},
   "outputs": [],
   "source": []
  },
  {
   "cell_type": "code",
   "execution_count": null,
   "metadata": {},
   "outputs": [],
   "source": []
  },
  {
   "cell_type": "code",
   "execution_count": null,
   "metadata": {},
   "outputs": [],
   "source": []
  },
  {
   "cell_type": "code",
   "execution_count": null,
   "metadata": {},
   "outputs": [],
   "source": []
  },
  {
   "cell_type": "code",
   "execution_count": 43,
   "metadata": {},
   "outputs": [],
   "source": [
    "# 2019-mar: testes com gravacao"
   ]
  },
  {
   "cell_type": "code",
   "execution_count": 44,
   "metadata": {},
   "outputs": [],
   "source": [
    "with open('teste-csv.csv', 'w') as csvfile:\n",
    "    writer = csv.writer(csvfile)\n",
    "    writer.writerows(vars(spec3).items())"
   ]
  },
  {
   "cell_type": "raw",
   "metadata": {},
   "source": [
    "# 2019-03-14 Ainda nao funciona\n",
    "with open('teste-csv.csv') as csvfile:\n",
    "    reader = csv.reader(csvfile)\n",
    "    mydict = dict(reader)"
   ]
  },
  {
   "cell_type": "code",
   "execution_count": 45,
   "metadata": {},
   "outputs": [],
   "source": [
    "with open('teste-csv.csv', 'w') as csvfile:\n",
    "    writer = csv.writer(csvfile)\n",
    "    writer.writerows(vars(spec3).items())"
   ]
  },
  {
   "cell_type": "code",
   "execution_count": 46,
   "metadata": {},
   "outputs": [],
   "source": [
    "save_obj(spec2, 'arquivo1')"
   ]
  },
  {
   "cell_type": "code",
   "execution_count": 47,
   "metadata": {},
   "outputs": [],
   "source": [
    "spec2_loaded = load_obj('arquivo1')"
   ]
  },
  {
   "cell_type": "raw",
   "metadata": {},
   "source": [
    "Se ativar o seguinte, a saída está a seguir:\n",
    "vars(spec2_loaded)"
   ]
  },
  {
   "cell_type": "raw",
   "metadata": {},
   "source": [
    " 'data': [],\n",
    " 'cnts': [],\n",
    " 'nonull_chan': [],\n",
    " 'nonull_cnts': [],\n",
    " 'nonull_unct': [],\n",
    " 'spType': -1,\n",
    " 'spMCA': 3,\n",
    " 'spSegm': 1,\n",
    " 'spStartSec': '51',\n",
    " 'spRLTime20ms': 250020,\n",
    " 'spLVTime20ms': 250000,\n",
    " 'spdd': '30',\n",
    " 'spMMM': 'Jun',\n",
    " 'spyy': '17',\n",
    " 'sphh': '07',\n",
    " 'spmm': '09',\n",
    " 'spChOffset': 0,\n",
    " 'spLngData': 4096,\n",
    " 'inicounts': 32,\n",
    " 'spCounts': [0,...],\n",
    " 'spRLTime': 5000.400000000001,\n",
    " 'spLVTime': 5000.0,\n",
    " 'iyy': 2017,\n",
    " 'imo': 6,\n",
    " 'diahora': datetime.datetime(2017, 6, 30, 7, 9, 51),\n",
    " 'jnd_lst': '-1\\n3\\n1\\n51\\n250020\\n250000\\n30\\nJun\\n17\\n07\\n09\\n0\\n4096\\n2017\\n6\\n5000.400000000001\\n5000.0\\n2017-06-30 07:09:51\\n'}"
   ]
  },
  {
   "cell_type": "code",
   "execution_count": 48,
   "metadata": {},
   "outputs": [],
   "source": [
    "save_obj(spec3, 'arquivo2')"
   ]
  },
  {
   "cell_type": "code",
   "execution_count": 49,
   "metadata": {},
   "outputs": [],
   "source": [
    "spec3_loaded = load_obj('arquivo2')"
   ]
  },
  {
   "cell_type": "raw",
   "metadata": {},
   "source": [
    " Se ativar:\n",
    " vars(spec3_loaded)\n",
    " \n",
    " Dá:\n",
    " 'data': [],\n",
    " 'cnts': [],\n",
    " 'nonull_chan': [],\n",
    " 'nonull_cnts': [],\n",
    " 'nonull_unct': [],\n",
    " 'spLVTime': 63577.52,\n",
    " 'spRLTime': 63629.1,\n",
    " 'spLngData': 8192,\n",
    " 'spCounts': [0,...]}"
   ]
  },
  {
   "cell_type": "code",
   "execution_count": 50,
   "metadata": {},
   "outputs": [],
   "source": [
    "# 2019-03-15\n",
    "# PAREI AQUI: Usar Pandas para continuar o desenvolvimento."
   ]
  },
  {
   "cell_type": "code",
   "execution_count": null,
   "metadata": {},
   "outputs": [],
   "source": []
  },
  {
   "cell_type": "code",
   "execution_count": null,
   "metadata": {},
   "outputs": [],
   "source": []
  },
  {
   "cell_type": "code",
   "execution_count": null,
   "metadata": {},
   "outputs": [],
   "source": []
  },
  {
   "cell_type": "code",
   "execution_count": null,
   "metadata": {},
   "outputs": [],
   "source": []
  },
  {
   "cell_type": "code",
   "execution_count": null,
   "metadata": {},
   "outputs": [],
   "source": []
  },
  {
   "cell_type": "code",
   "execution_count": null,
   "metadata": {},
   "outputs": [],
   "source": []
  }
 ],
 "metadata": {
  "kernelspec": {
   "display_name": "Python 3",
   "language": "python",
   "name": "python3"
  },
  "language_info": {
   "codemirror_mode": {
    "name": "ipython",
    "version": 3
   },
   "file_extension": ".py",
   "mimetype": "text/x-python",
   "name": "python",
   "nbconvert_exporter": "python",
   "pygments_lexer": "ipython3",
   "version": "3.7.1"
  }
 },
 "nbformat": 4,
 "nbformat_minor": 2
}
