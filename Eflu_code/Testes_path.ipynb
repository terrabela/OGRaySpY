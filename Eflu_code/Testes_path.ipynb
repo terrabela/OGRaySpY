{
 "cells": [
  {
   "cell_type": "code",
   "execution_count": 9,
   "metadata": {},
   "outputs": [],
   "source": [
    "import glob\n",
    "from pathlib import (Path) #  , PurePosixPath, PurePath) "
   ]
  },
  {
   "cell_type": "code",
   "execution_count": null,
   "metadata": {},
   "outputs": [],
   "source": []
  },
  {
   "cell_type": "code",
   "execution_count": 10,
   "metadata": {},
   "outputs": [
    {
     "data": {
      "text/plain": [
       "[]"
      ]
     },
     "execution_count": 10,
     "metadata": {},
     "output_type": "execute_result"
    }
   ],
   "source": [
    "# glob.glob('./[0-9].*')\n",
    "glob.glob('**/*.[Cc][Hh][Nn]')"
   ]
  },
  {
   "cell_type": "code",
   "execution_count": 11,
   "metadata": {},
   "outputs": [],
   "source": [
    "pathPosixName =  '../Genie_Transfer/Filtros/CI/2018/'"
   ]
  },
  {
   "cell_type": "code",
   "execution_count": 12,
   "metadata": {},
   "outputs": [],
   "source": [
    "p = Path( pathPosixName )"
   ]
  },
  {
   "cell_type": "code",
   "execution_count": 13,
   "metadata": {},
   "outputs": [
    {
     "data": {
      "text/plain": [
       "['../Genie_Transfer/Filtros/CI/2018/']"
      ]
     },
     "execution_count": 13,
     "metadata": {},
     "output_type": "execute_result"
    }
   ],
   "source": [
    "glob.glob( pathPosixName )"
   ]
  },
  {
   "cell_type": "code",
   "execution_count": 14,
   "metadata": {},
   "outputs": [
    {
     "data": {
      "text/plain": [
       "[]"
      ]
     },
     "execution_count": 14,
     "metadata": {},
     "output_type": "execute_result"
    }
   ],
   "source": [
    "glob.glob('**/*.[Cc][Hh][Nn]')"
   ]
  },
  {
   "cell_type": "code",
   "execution_count": 15,
   "metadata": {},
   "outputs": [
    {
     "data": {
      "text/plain": [
       "['dict-pt-BR\\\\Lightproof.py',\n",
       " 'mdi\\\\mdi.py',\n",
       " 'mdi\\\\mdi_rc.py',\n",
       " 'OpenGRay\\\\opengray.py',\n",
       " 'OpenGRay\\\\processspectrumread.py',\n",
       " 'OpenGRay\\\\utils.py',\n",
       " 'OpenGRay\\\\veuszwinclass.py',\n",
       " 'OpenGRay\\\\veuszwinclassTesteColorido.py',\n",
       " 'OpenGRay\\\\__init__.py',\n",
       " 'peakutils\\\\setup.py',\n",
       " 'PeakUtils-1.0.1\\\\setup.py',\n",
       " 'projtk1\\\\tk1_ioiecspec.py',\n",
       " 'projtk1\\\\tk1_main.py',\n",
       " 'py2015a\\\\py2015a.py',\n",
       " 'pymc3\\\\pymc3_Ex#1.py',\n",
       " 'pyth\\\\pyth1.py',\n",
       " 'rootproject\\\\mainrootproject.py',\n",
       " 'sdi\\\\sdi.py',\n",
       " 'sdi\\\\sdi_rc.py',\n",
       " 'sdi_antes\\\\sdi_rc2.py',\n",
       " 'sdi_antes\\\\sdi_rc3.py',\n",
       " 'sqlite\\\\sqlitetest_1.py',\n",
       " 'testeui1\\\\testeui1main.py',\n",
       " 'testeui1\\\\testeuidialog.py',\n",
       " 'testeui1\\\\ui_testeuidialog.py',\n",
       " 'verificar\\\\veuszwinclass.py',\n",
       " 'verificar\\\\veuszwinclassTesteColorido.py']"
      ]
     },
     "execution_count": 15,
     "metadata": {},
     "output_type": "execute_result"
    }
   ],
   "source": [
    "list(glob.glob('**/*.py'))"
   ]
  },
  {
   "cell_type": "code",
   "execution_count": 16,
   "metadata": {},
   "outputs": [
    {
     "data": {
      "text/plain": [
       "['dict-pt-BR/description.xml',\n",
       " 'dict-pt-BR/dialog',\n",
       " 'dict-pt-BR/dictionaries.xcu',\n",
       " 'dict-pt-BR/hyph_pt_BR - my dic!! - Copia.dic',\n",
       " 'dict-pt-BR/hyph_pt_BR - orig.dic',\n",
       " 'dict-pt-BR/icons',\n",
       " 'dict-pt-BR/Lightproof.components',\n",
       " 'dict-pt-BR/Lightproof.py',\n",
       " 'dict-pt-BR/Linguistic.xcu',\n",
       " 'dict-pt-BR/META-INF',\n",
       " 'dict-pt-BR/package-description.txt',\n",
       " 'dict-pt-BR/pt_BR.aff',\n",
       " 'dict-pt-BR/pt_BR.dic',\n",
       " 'dict-pt-BR/pythonpath',\n",
       " 'dict-pt-BR/README_en.txt',\n",
       " 'dict-pt-BR/README_hyph_pt_BR.txt',\n",
       " 'dict-pt-BR/README_Lightproof_pt_BR.txt',\n",
       " 'dict-pt-BR/README_pt_BR.txt',\n",
       " 'images/copy.png',\n",
       " 'images/cut.png',\n",
       " 'images/new.png',\n",
       " 'images/open.png',\n",
       " 'images/paste.png',\n",
       " 'images/save.png',\n",
       " 'mdi/mdi.py',\n",
       " 'mdi/mdi.qrc',\n",
       " 'mdi/mdi_rc.py',\n",
       " 'mdi/__pycache__',\n",
       " 'obj/arquivo1.pkl',\n",
       " 'obj/arquivo2.pkl',\n",
       " 'OpenGRay/0.02',\n",
       " 'OpenGRay/Background_incr.C',\n",
       " 'OpenGRay/CHUVA 21-22 NOVEMBRO 2013.PDF',\n",
       " 'OpenGRay/dialogpyqtexemple.ui',\n",
       " 'OpenGRay/espectro1.root',\n",
       " 'OpenGRay/Estudo manual de espectro (chuva) para o ROOT.rtf',\n",
       " 'OpenGRay/LRAN12910.CNF',\n",
       " 'OpenGRay/lran12910.IEC',\n",
       " 'OpenGRay/OpenGRay.e4p',\n",
       " 'OpenGRay/opengray.py',\n",
       " 'OpenGRay/peaks-2014-02-06-testes.C',\n",
       " 'OpenGRay/peaks.C',\n",
       " 'OpenGRay/peaks2.C',\n",
       " 'OpenGRay/processspectrumread.py',\n",
       " 'OpenGRay/rascunho.txt',\n",
       " 'OpenGRay/rascunho_adaptaraspectrumform.txt',\n",
       " 'OpenGRay/salvopeloprograma.vsz',\n",
       " 'OpenGRay/salvopeloprograma_copia_txt.txt',\n",
       " 'OpenGRay/Screenshots_opengamma',\n",
       " 'OpenGRay/spectrumpainter.C',\n",
       " 'OpenGRay/spyd1',\n",
       " 'OpenGRay/tempfile.dat',\n",
       " 'OpenGRay/ui',\n",
       " 'OpenGRay/utils.py',\n",
       " 'OpenGRay/utils.pyc',\n",
       " 'OpenGRay/veuszwinclass.py',\n",
       " 'OpenGRay/veuszwinclassTesteColorido.py',\n",
       " 'OpenGRay/__init__.py',\n",
       " 'OpenGRay/__pycache__',\n",
       " 'peakutils/docs',\n",
       " 'peakutils/LICENSE.txt',\n",
       " 'peakutils/MANIFEST.in',\n",
       " 'peakutils/peakutils',\n",
       " 'peakutils/README.rst',\n",
       " 'peakutils/requirements.txt',\n",
       " 'peakutils/setup.py',\n",
       " 'peakutils/shippable.yml',\n",
       " 'peakutils/tests',\n",
       " 'PeakUtils-1.0.1/build',\n",
       " 'PeakUtils-1.0.1/dist',\n",
       " 'PeakUtils-1.0.1/docs',\n",
       " 'PeakUtils-1.0.1/LICENSE.txt',\n",
       " 'PeakUtils-1.0.1/MANIFEST.in',\n",
       " 'PeakUtils-1.0.1/peakutils',\n",
       " 'PeakUtils-1.0.1/PeakUtils.egg-info',\n",
       " 'PeakUtils-1.0.1/PKG-INFO',\n",
       " 'PeakUtils-1.0.1/README.rst',\n",
       " 'PeakUtils-1.0.1/setup.cfg',\n",
       " 'PeakUtils-1.0.1/setup.py',\n",
       " 'PeakUtils-1.0.1/tests',\n",
       " 'projtk1/tk1_ioiecspec.py',\n",
       " 'projtk1/tk1_main.py',\n",
       " 'projtk1/__pycache__',\n",
       " 'py2015a/py2015a.py',\n",
       " 'pymc3/pymc3_Ex#1.py',\n",
       " 'pyth/pyth1.py',\n",
       " 'rootproject/mainrootproject.py',\n",
       " 'sdi/images',\n",
       " 'sdi/sdi.py',\n",
       " 'sdi/sdi_rc.py',\n",
       " 'sdi/__pycache__',\n",
       " 'sdi_antes/images',\n",
       " 'sdi_antes/sdi.pyw',\n",
       " 'sdi_antes/sdi.qrc',\n",
       " 'sdi_antes/sdi_rc2.py',\n",
       " 'sdi_antes/sdi_rc3.py',\n",
       " 'sdi_antes/sdi_rc3.pyc',\n",
       " 'sdi_antes/__pycache__',\n",
       " 'sqlite/newdb1.db',\n",
       " 'sqlite/spectrum1.db',\n",
       " 'sqlite/sqlitetest_1.py',\n",
       " 'testeui1/testeui1main.py',\n",
       " 'testeui1/testeuidialog.py',\n",
       " 'testeui1/testeuidialog.ui',\n",
       " 'testeui1/ui_testeuidialog.py',\n",
       " 'testeui1/untitled.ui',\n",
       " 'testeui1/__pycache__',\n",
       " 'verificar/veuszwinclass.py',\n",
       " 'verificar/veuszwinclassTesteColorido.py',\n",
       " '__pycache__/base_line_funcs.cpython-37.pyc',\n",
       " '__pycache__/chnspectrum.cpython-36.pyc',\n",
       " '__pycache__/chnspectrum.cpython-37.pyc',\n",
       " '__pycache__/countsplot.cpython-36.pyc',\n",
       " '__pycache__/countsplot.cpython-37.pyc',\n",
       " '__pycache__/filebatch_class.cpython-36.pyc',\n",
       " '__pycache__/filebatch_class.cpython-37.pyc',\n",
       " '__pycache__/gauss_funcs.cpython-37.pyc',\n",
       " '__pycache__/machine_selection.cpython-37.pyc',\n",
       " '__pycache__/ogmwd.cpython-36.pyc',\n",
       " '__pycache__/ogmwd.cpython-37.pyc',\n",
       " '__pycache__/parsedspectrumdata.cpython-36.pyc',\n",
       " '__pycache__/parsedspectrumdata.cpython-37.pyc',\n",
       " '__pycache__/rawspectrumdata.cpython-37.pyc',\n",
       " '__pycache__/readiecsp_func.cpython-36.pyc',\n",
       " '__pycache__/sdi_rc.cpython-36.pyc',\n",
       " '__pycache__/sdi_rc.cpython-37.pyc',\n",
       " '__pycache__/shann_entropy_func.cpython-36.pyc',\n",
       " '__pycache__/shann_entropy_func.cpython-37.pyc',\n",
       " '__pycache__/speccwt_class.cpython-36.pyc',\n",
       " '__pycache__/speccwt_class.cpython-37.pyc',\n",
       " '__pycache__/specific_math_funcs.cpython-36.pyc',\n",
       " '__pycache__/specific_math_funcs.cpython-37.pyc',\n",
       " '__pycache__/spectra_regions_funcs.cpython-37.pyc',\n",
       " '__pycache__/spectrum.cpython-36.pyc',\n",
       " '__pycache__/spectrum.cpython-37.pyc',\n",
       " '__pycache__/spectrumdb.cpython-36.pyc',\n",
       " '__pycache__/spectrumdb.cpython-37.pyc',\n",
       " '__pycache__/spec_cwt.cpython-36.pyc',\n",
       " '__pycache__/teste_datas.cpython-36.pyc',\n",
       " '__pycache__/teste_datas.cpython-37.pyc',\n",
       " '__pycache__/test_lists.cpython-36.pyc',\n",
       " '__pycache__/ui_appmainwindow.cpython-36.pyc',\n",
       " '__pycache__/ui_appmainwindow.cpython-37.pyc']"
      ]
     },
     "execution_count": 16,
     "metadata": {},
     "output_type": "execute_result"
    }
   ],
   "source": [
    "lista = glob.glob('**/*')\n",
    "# listaposix = lista.as_posix()\n",
    "lista\n",
    "lposix = [Path(fn).as_posix() for fn in lista]\n",
    "lposix"
   ]
  },
  {
   "cell_type": "code",
   "execution_count": 17,
   "metadata": {},
   "outputs": [
    {
     "data": {
      "text/plain": [
       "'foo/bar'"
      ]
     },
     "execution_count": 17,
     "metadata": {},
     "output_type": "execute_result"
    }
   ],
   "source": [
    "Path('foo\\\\bar').as_posix()"
   ]
  },
  {
   "cell_type": "code",
   "execution_count": 18,
   "metadata": {},
   "outputs": [
    {
     "data": {
      "text/plain": [
       "pathlib.Path"
      ]
     },
     "execution_count": 18,
     "metadata": {},
     "output_type": "execute_result"
    }
   ],
   "source": [
    "Path"
   ]
  },
  {
   "cell_type": "code",
   "execution_count": 19,
   "metadata": {},
   "outputs": [
    {
     "data": {
      "text/plain": [
       "WindowsPath('..')"
      ]
     },
     "execution_count": 19,
     "metadata": {},
     "output_type": "execute_result"
    }
   ],
   "source": [
    "teste1 = Path('..')\n",
    "teste1"
   ]
  },
  {
   "cell_type": "code",
   "execution_count": 22,
   "metadata": {},
   "outputs": [
    {
     "data": {
      "text/plain": [
       "WindowsPath('foo/some/path/bar')"
      ]
     },
     "execution_count": 22,
     "metadata": {},
     "output_type": "execute_result"
    }
   ],
   "source": [
    "Path('foo/some/path/bar')"
   ]
  },
  {
   "cell_type": "code",
   "execution_count": null,
   "metadata": {},
   "outputs": [],
   "source": []
  },
  {
   "cell_type": "code",
   "execution_count": 24,
   "metadata": {},
   "outputs": [],
   "source": [
    "def ftupla1(a):\n",
    "    b = 2*a\n",
    "    return a,b"
   ]
  },
  {
   "cell_type": "code",
   "execution_count": 27,
   "metadata": {},
   "outputs": [],
   "source": [
    "c,d = ftupla1(7)"
   ]
  },
  {
   "cell_type": "code",
   "execution_count": 28,
   "metadata": {},
   "outputs": [
    {
     "data": {
      "text/plain": [
       "7"
      ]
     },
     "execution_count": 28,
     "metadata": {},
     "output_type": "execute_result"
    }
   ],
   "source": [
    "c"
   ]
  },
  {
   "cell_type": "code",
   "execution_count": 29,
   "metadata": {},
   "outputs": [
    {
     "data": {
      "text/plain": [
       "14"
      ]
     },
     "execution_count": 29,
     "metadata": {},
     "output_type": "execute_result"
    }
   ],
   "source": [
    "d"
   ]
  },
  {
   "cell_type": "code",
   "execution_count": 33,
   "metadata": {},
   "outputs": [
    {
     "data": {
      "text/plain": [
       "26"
      ]
     },
     "execution_count": 33,
     "metadata": {},
     "output_type": "execute_result"
    }
   ],
   "source": [
    "tu = ftupla1(13)\n",
    "tu[1]"
   ]
  },
  {
   "cell_type": "code",
   "execution_count": null,
   "metadata": {},
   "outputs": [],
   "source": []
  }
 ],
 "metadata": {
  "kernelspec": {
   "display_name": "Python 3",
   "language": "python",
   "name": "python3"
  },
  "language_info": {
   "codemirror_mode": {
    "name": "ipython",
    "version": 3
   },
   "file_extension": ".py",
   "mimetype": "text/x-python",
   "name": "python",
   "nbconvert_exporter": "python",
   "pygments_lexer": "ipython3",
   "version": "3.7.7"
  }
 },
 "nbformat": 4,
 "nbformat_minor": 4
}
