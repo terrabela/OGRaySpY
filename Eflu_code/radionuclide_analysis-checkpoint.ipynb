{
 "cells": [
  {
   "cell_type": "code",
   "execution_count": 1,
   "id": "5d523bf6-4772-4993-bf61-8346d4b8804b",
   "metadata": {},
   "outputs": [],
   "source": [
    "import numpy as np\n",
    "from numpy.random import default_rng\n",
    "from scipy import special\n",
    "import matplotlib.pyplot as plt\n",
    "import pandas as pd\n",
    "import plotly.graph_objects as go\n",
    "\n",
    "from spec_class import Spec"
   ]
  },
  {
   "cell_type": "code",
   "execution_count": 2,
   "id": "77de5fe4-245c-4eeb-a94e-a6c5e69e14e1",
   "metadata": {},
   "outputs": [],
   "source": [
    "# https://lmfit.github.io/lmfit-py/builtin_models.html\n",
    "from lmfit import Model, Minimizer, minimize, Parameters, report_fit, fit_report, printfuncs\n",
    "from lmfit.models import LinearModel, StepModel, ExponentialModel, LorentzianModel\n",
    "from lmfit.models import GaussianModel, SkewedGaussianModel, ExpressionModel"
   ]
  },
  {
   "cell_type": "code",
   "execution_count": 3,
   "id": "92958f00-e5f1-4118-9c2f-59c222000b87",
   "metadata": {},
   "outputs": [],
   "source": [
    "# Do this (new version)\n",
    "\n",
    "rng = default_rng()\n",
    "vals = rng.standard_normal(10)\n",
    "more_vals = rng.standard_normal(10)"
   ]
  },
  {
   "cell_type": "code",
   "execution_count": 4,
   "id": "4e76ddb9-7cda-4a56-b31c-a57860dd5174",
   "metadata": {},
   "outputs": [
    {
     "name": "stdout",
     "output_type": "stream",
     "text": [
      "[ 0.54825103  0.69250524 -0.63407001 -0.38855529  0.55788196  1.63100431\n",
      "  1.3079226  -0.81956857  0.92297909 -0.4660779 ]\n"
     ]
    }
   ],
   "source": [
    "print (more_vals)"
   ]
  },
  {
   "cell_type": "code",
   "execution_count": 5,
   "id": "8ba40353-5751-4cdf-aa4d-5672918d3bf6",
   "metadata": {},
   "outputs": [],
   "source": [
    "# f_name = '../../Genie_Transfer/Si/SI2019/SI04119.Chn'\n",
    "# f_name = '../gamma/spectra/ALMERA-2016/alm_samp5_sedim_16.IEC'"
   ]
  },
  {
   "cell_type": "code",
   "execution_count": 6,
   "id": "eecef49d-cc57-4ed3-8952-86a18a7d92aa",
   "metadata": {},
   "outputs": [],
   "source": [
    "# spec = Spec(f_name)\n",
    "# spec.spec_parms.cnt_array_like.eval_smoo_cts.size"
   ]
  },
  {
   "cell_type": "code",
   "execution_count": 7,
   "id": "27865ddd-7672-4a13-a373-789a61ce2c76",
   "metadata": {},
   "outputs": [],
   "source": [
    "# 2022-Mar-24 Questão: o arquivo a seguir, criado no Windows, não abre no Linux.\n",
    "# \"cannot instantiate 'WindowsPath' on your system\"\n",
    "# pkl_file = 'gamma_results_df3_2022-03-22T19.34.57.xz' "
   ]
  },
  {
   "cell_type": "code",
   "execution_count": 8,
   "id": "af328103-594f-4e43-bb26-7769fc5af3d1",
   "metadata": {},
   "outputs": [],
   "source": [
    "# 2022-Mar-24 Peguemos este que foi Linux-created:\n",
    "# pkl_file_df1 = 'gamma_results_df1_2022-03-24T14.13.58.pkl' # 2022-Jun não abre mais...\n",
    "pkl_file_df1 = 'gamma_results_df1_2022-03-07T18.20.36.xz' # 2022-Jun não abre mais no Mint Ipen \n"
   ]
  },
  {
   "cell_type": "code",
   "execution_count": 9,
   "id": "cdb7983d-ed8a-42c4-b518-8ce28726d097",
   "metadata": {},
   "outputs": [],
   "source": [
    "# 2022-Abr-29 Questão: há arquivos que foram criados no Windows e não abrem no Linux.\n",
    "# Mensagem: \"cannot instantiate 'WindowsPath' on your system\"\n",
    "# 2022-Jun-23 Agora está dando outro problema:\n",
    "# \"Can't get attribute '_unpickle_block' on <module 'pandas._libs.internals' from '/home/maduar/anaconda3/\n",
    "#     lib/python3.9/site-packages/pandas/_libs/internals.cpython-39-x86_64-linux-gnu.so'>\"\n",
    "# pkl_df1 = pd.read_pickle(pkl_file_df1)\n",
    "# Pulando para a linha que define o espectro a analisar, p/ex.:\n",
    "# a_spec_name = '../../Genie_Transfer/Si/2018/CTP/CTP0908-2.Chn'"
   ]
  },
  {
   "cell_type": "code",
   "execution_count": 10,
   "id": "f8a8e333-fa81-4c24-bd7c-f30c0c6132be",
   "metadata": {},
   "outputs": [],
   "source": [
    "# pkl_df1"
   ]
  },
  {
   "cell_type": "code",
   "execution_count": 11,
   "id": "e536f79e-164e-49da-8aac-b1394bb57605",
   "metadata": {},
   "outputs": [],
   "source": [
    "# spectra_df = pd.read_pickle(pkl_file)\n",
    "# spectra_df"
   ]
  },
  {
   "cell_type": "code",
   "execution_count": 12,
   "id": "5233eb35-53b0-49eb-bae1-8a321519759b",
   "metadata": {},
   "outputs": [],
   "source": [
    "# spectra_df.count()"
   ]
  },
  {
   "cell_type": "code",
   "execution_count": 13,
   "id": "97f9db1f-e9b5-4733-b14e-a0e54c68726e",
   "metadata": {},
   "outputs": [],
   "source": [
    "# spectra_df.count()[0]"
   ]
  },
  {
   "cell_type": "code",
   "execution_count": null,
   "id": "1cab3d87-d7dd-44a2-a3d0-64d0cf9b9c6b",
   "metadata": {},
   "outputs": [],
   "source": []
  },
  {
   "cell_type": "code",
   "execution_count": 14,
   "id": "b8cf5ce7-c435-4cdb-a6db-6db149a60e27",
   "metadata": {},
   "outputs": [],
   "source": [
    "rng = np.random.default_rng()\n",
    "# rints = rng.integers(low=0, high=10, size=3)\n",
    "\n",
    "# 2022-Jun-23: Reativar após consertar o arquivo pickle:\n",
    "# rints = rng.integers(pkl_df1.count()[0], size=3)\n",
    "# print(rints)\n",
    "# type(rints[0])\n",
    "# some_spec = rints[1]\n",
    "# pkl_df1.iloc[some_spec]\n",
    "# a_spec_name = pkl_df1.iloc[some_spec]['FName']\n",
    "# a_spec_name"
   ]
  },
  {
   "cell_type": "code",
   "execution_count": null,
   "id": "f55e3e9b-9fac-4eea-b80d-5b30966caab6",
   "metadata": {},
   "outputs": [],
   "source": []
  },
  {
   "cell_type": "code",
   "execution_count": null,
   "id": "a7bcf3f4-8876-4661-bf4b-f4d4923177f2",
   "metadata": {},
   "outputs": [],
   "source": []
  },
  {
   "cell_type": "code",
   "execution_count": 15,
   "id": "782107ed-9087-4896-b54d-19cd4bfe1b74",
   "metadata": {},
   "outputs": [],
   "source": [
    "# 2022\n",
    "# Se quiser ignorar o espectro aleatório, definir aqui um específico. Se não, pular.\n",
    "# Vou ignorar o espectro já analisado e refazer a análise, para testes.\n",
    "# 2022-Mar-24 Resolver essa questão dos nomes de arquivos em Linux e Windows\n",
    "# a_spec_name = '..\\\\..\\\\Genie_Transfer\\\\Si\\\\2018\\\\PNR\\\\PRN0803.Chn'\n",
    "# a_spec_name = '../../Genie_Transfer/Si/2018/PNR/PRN0803.Chn'\n",
    "# a_spec_name = '../../Genie_Transfer/Si/2018/CTP/CTP0908-2.Chn'\n",
    "# Esse é um que dá problema na baseline perto do 159 keV do I-123:\n",
    "# a_spec_name = '../../Genie_Transfer/Si/2018/CCI/CCI1508I.Chn'\n",
    "# Precisa quebrar mais a baseline: Ok, consertado!!!\n",
    "# 2022: Já usando o GMX:\n",
    "a_spec_name = '../../Genie_Transfer/Filtros/2022/Cci/CCI1603-I.Chn'\n"
   ]
  },
  {
   "cell_type": "code",
   "execution_count": 16,
   "id": "f79273fa-6725-4871-a0cf-a6203bfa4909",
   "metadata": {},
   "outputs": [
    {
     "data": {
      "text/plain": [
       "<spec_class.Spec at 0x7f13ce017280>"
      ]
     },
     "execution_count": 16,
     "metadata": {},
     "output_type": "execute_result"
    }
   ],
   "source": [
    "a_raw_spec = Spec(a_spec_name)\n",
    "a_raw_spec"
   ]
  },
  {
   "cell_type": "code",
   "execution_count": 17,
   "id": "04dc7d70-7e8c-4176-a6aa-6c70871e8dd0",
   "metadata": {},
   "outputs": [
    {
     "data": {
      "text/plain": [
       "'../../Genie_Transfer/Filtros/2022/Cci/CCI1603-I.Chn'"
      ]
     },
     "execution_count": 17,
     "metadata": {},
     "output_type": "execute_result"
    }
   ],
   "source": [
    "a_spec_name"
   ]
  },
  {
   "cell_type": "code",
   "execution_count": 18,
   "id": "7bc6dc7c-ddd6-42b1-9973-0f8ce5cc7081",
   "metadata": {},
   "outputs": [],
   "source": [
    "# 2022-Mar-28\n",
    "# A partir daqui posso fazer testes com o arquivo carregado."
   ]
  },
  {
   "cell_type": "code",
   "execution_count": null,
   "id": "d7c664c3-85ab-4264-8e3a-c4b5eebbfc67",
   "metadata": {},
   "outputs": [],
   "source": []
  },
  {
   "cell_type": "code",
   "execution_count": 19,
   "id": "e59c119b-a2b4-4d1f-a0d1-ed0480ab520e",
   "metadata": {},
   "outputs": [],
   "source": [
    "# 2022-Jun-24 Lembrando como estão os defaults de total_analysis(...):\n",
    "# def total_analysis(self, k_sep_pk=2.0, smoo=3000.0, widths_range=(4.0, 20.0)):"
   ]
  },
  {
   "cell_type": "code",
   "execution_count": 20,
   "id": "f949a9f9-9cf3-4290-80dd-433c73acc827",
   "metadata": {},
   "outputs": [
    {
     "name": "stdout",
     "output_type": "stream",
     "text": [
      "[False False False ... False False False]\n",
      "4096\n",
      "2.0\n",
      "define_GROSS_multiplets_regions completado\n",
      "define_NET_multiplets_regions completado\n"
     ]
    }
   ],
   "source": [
    "# smoo=3000 fica razoável, mas faz umas ondas\n",
    "# smoo=1500 fica horrível, faz uns abismos. Quanto menor, pior\n",
    "# smoo=400 fica razoável, mas faz umas ondas\n",
    "a_raw_spec.total_analysis(k_sep_pk=2.0, smoo=4096, widths_range=(4.0, 20.0))"
   ]
  },
  {
   "cell_type": "code",
   "execution_count": null,
   "id": "d82e7763-36cb-4150-8457-e21d21473c4b",
   "metadata": {},
   "outputs": [],
   "source": []
  },
  {
   "cell_type": "code",
   "execution_count": 21,
   "id": "96aaad77-59b3-47c5-b2a0-9a106853305b",
   "metadata": {},
   "outputs": [],
   "source": [
    "# 2022-Jun-24 No momento esses são os que interessam:\n",
    "pann = a_raw_spec.spec_parms\n",
    "cntarr = a_raw_spec.spec_parms.cnt_array_like\n",
    "pkprms = a_raw_spec.spec_parms.peaks_parms"
   ]
  },
  {
   "cell_type": "code",
   "execution_count": 22,
   "id": "015011ac-4e95-483d-9d9d-5c32bfbd4f75",
   "metadata": {},
   "outputs": [],
   "source": [
    "# 2022-Jun-14\n",
    "# Verificando o que se tem até agora em a_raw_spec:\n",
    "# (Pode pular e ir direto aos gráficos)"
   ]
  },
  {
   "cell_type": "code",
   "execution_count": 23,
   "id": "6c0be3a5-05fb-4db9-9c34-dc83bd0069f8",
   "metadata": {},
   "outputs": [
    {
     "data": {
      "text/plain": [
       "{'f_name': '../../Genie_Transfer/Filtros/2022/Cci/CCI1603-I.Chn',\n",
       " 'sufx': '.chn',\n",
       " 'spec_parms': <specparms_class.SpecParms at 0x7f13ce0176a0>,\n",
       " 'pkl_file': PosixPath('../../Genie_Transfer/Filtros/2022/Cci/CCI1603-I.xz')}"
      ]
     },
     "execution_count": 23,
     "metadata": {},
     "output_type": "execute_result"
    }
   ],
   "source": [
    "vars(a_raw_spec)"
   ]
  },
  {
   "cell_type": "code",
   "execution_count": 24,
   "id": "392b9a0c-fafd-4a20-9cca-88ea2fa8c782",
   "metadata": {},
   "outputs": [
    {
     "data": {
      "text/plain": [
       "{'sufx': '.chn',\n",
       " 'spec_io': <specchn_class.SpecChn at 0x7f13ce017250>,\n",
       " 'cnt_array_like': <cntarraylike_class.CntArrayLike at 0x7f13ce0176d0>,\n",
       " 'peaks_parms': <peaksparms_class.PeaksParms at 0x7f13ce00ebb0>,\n",
       " 'channel_energy_calib': <genericcalib_class.ChannelEnergyCalib at 0x7f13ce017490>,\n",
       " 'energy_fwhm_calib': <genericcalib_class.EnergyFwhmCalib at 0x7f13ce017790>}"
      ]
     },
     "execution_count": 24,
     "metadata": {},
     "output_type": "execute_result"
    }
   ],
   "source": [
    "vars(a_raw_spec.spec_parms)"
   ]
  },
  {
   "cell_type": "code",
   "execution_count": 25,
   "id": "14c1f5ca-dec7-4cc5-b1a1-dd4ac07fcbc8",
   "metadata": {},
   "outputs": [],
   "source": [
    "# vars(cntarr)"
   ]
  },
  {
   "cell_type": "code",
   "execution_count": 26,
   "id": "a6042a4a-3451-4d9c-89e2-356378e0e31a",
   "metadata": {},
   "outputs": [],
   "source": [
    "\n",
    "# Testes:\n",
    "# https://numpy.org/doc/stable/reference/random/generator.html#distributions\n",
    "# x = np.linspace(0, 10, N) + rng.normal(loc=7, scale=0.05, size=N)\n",
    "# y = np.linspace(22, 23, N)\n",
    "\n",
    "x_step = 400\n",
    "step_stretchness = 0.05\n",
    "height = 1500\n",
    "nch = 4096\n",
    "x = np.linspace(0, nch-1, nch)\n",
    "base_y = height * (special.erf(step_stretchness*(x-x_step))+1)/2\n",
    "noisy_y = np.array([rng.normal(loc=yi, scale=np.sqrt(yi), size=None) for yi in base_y])\n",
    "\n",
    "# Se quiser pegar um espectro real:\n",
    "noisy_y = cntarr.y0s\n",
    "\n",
    "# Busca do canal onde a altura do espectro se \"estabiliza\"\n",
    "# https://numpy.org/doc/stable/reference/routines.sort.html#searching\n",
    "\n",
    "# Escolha do que plotar:\n",
    "# y_plot = noisy_y\n",
    "# y_plot = var_win\n",
    "# y_plot = var_rel"
   ]
  },
  {
   "cell_type": "code",
   "execution_count": null,
   "id": "8df19656-43d4-4000-81fa-d567223a87d8",
   "metadata": {},
   "outputs": [],
   "source": []
  },
  {
   "cell_type": "code",
   "execution_count": 27,
   "id": "8c464c28-5a30-4f4b-bd41-eab0eb5fa662",
   "metadata": {},
   "outputs": [],
   "source": [
    "# Finalmente, definindo uma função que \"estica\" o início do espectro:"
   ]
  },
  {
   "cell_type": "code",
   "execution_count": 55,
   "id": "67747a78-73d0-452f-bcc0-66d3f927e451",
   "metadata": {},
   "outputs": [],
   "source": [
    "def correct_spec_begin(\n",
    "    ct_arr,thresh_first_max=3.0,thresh_stable_var=1.0,ch_win=10):\n",
    "    n_ct = ct_arr.size\n",
    "    var_rel = np.array(\n",
    "        [np.var(ct_arr[i:i+ch_win]) / (abs(np.mean(ct_arr[i:i+ch_win]))+1)\n",
    "         for i in range(n_ct-ch_win)]\n",
    "    )\n",
    "    loc_step = np.where(var_rel>thresh_first_max)[0][0]\n",
    "    remaining_arr = var_rel[loc_step:]\n",
    "    loc_stable_cts = np.where(remaining_arr<thresh_stable_var)[0][0] + loc_step\n",
    "    return var_rel, loc_stable_cts\n",
    "    # loc_stable_cts   "
   ]
  },
  {
   "cell_type": "code",
   "execution_count": 56,
   "id": "7d6e81d0-353a-49c3-9efc-36054a7e155a",
   "metadata": {},
   "outputs": [],
   "source": [
    "# arbitrários!\n",
    "thresh_first_max = 500.0\n",
    "thresh_stable_var = 200.0\n",
    "ch_win = 10"
   ]
  },
  {
   "cell_type": "code",
   "execution_count": 57,
   "id": "eef9afe6-f1f7-4c30-8db4-761fc7010fb0",
   "metadata": {},
   "outputs": [],
   "source": [
    "var_rel, loc_stable_cts = correct_spec_begin(\n",
    "    cntarr.y0s,\n",
    "    thresh_first_max=thresh_first_max,\n",
    "    thresh_stable_var=thresh_stable_var,\n",
    "    ch_win=ch_win\n",
    ")"
   ]
  },
  {
   "cell_type": "code",
   "execution_count": 58,
   "id": "cc288e39-a148-4e39-823d-86689258ea71",
   "metadata": {},
   "outputs": [
    {
     "data": {
      "text/plain": [
       "array([0.        , 0.        , 0.        , ..., 0.16153846, 0.16153846,\n",
       "       0.16153846])"
      ]
     },
     "execution_count": 58,
     "metadata": {},
     "output_type": "execute_result"
    }
   ],
   "source": [
    "var_rel"
   ]
  },
  {
   "cell_type": "code",
   "execution_count": 59,
   "id": "08f8be2d-04e4-4a75-b2f9-a3ac6272acd0",
   "metadata": {},
   "outputs": [
    {
     "data": {
      "text/plain": [
       "31"
      ]
     },
     "execution_count": 59,
     "metadata": {},
     "output_type": "execute_result"
    }
   ],
   "source": [
    "loc_stable_cts"
   ]
  },
  {
   "cell_type": "code",
   "execution_count": 60,
   "id": "1c64f03f-b7af-4d14-8ac5-e1347cbc5449",
   "metadata": {},
   "outputs": [
    {
     "data": {
      "text/plain": [
       "(array([ 20,  21,  22,  23,  34,  35,  36,  37,  38,  39,  40,  41,  42,\n",
       "         43,  44,  45,  46,  47,  48,  49,  50,  51,  52,  53,  54,  55,\n",
       "        235, 236, 237, 238, 239, 240, 241, 242, 243, 244, 245, 246, 247,\n",
       "        251, 252, 253, 254, 255, 256, 257, 258, 259, 260, 261, 262, 263,\n",
       "        264, 265, 284, 285, 286, 287, 288, 289, 290, 291, 292, 293, 829,\n",
       "        838, 839]),)"
      ]
     },
     "execution_count": 60,
     "metadata": {},
     "output_type": "execute_result"
    }
   ],
   "source": [
    "# Entáo devo achar primeiro o pico de incerteza e depois ver onde se estabiliza:\n",
    "np.where(var_rel>thresh_first_max)"
   ]
  },
  {
   "cell_type": "code",
   "execution_count": 61,
   "id": "75f3f912-a2ea-452e-926b-98998c0db099",
   "metadata": {},
   "outputs": [
    {
     "data": {
      "text/plain": [
       "(array([ 20,  21,  22,  23,  34,  35,  36,  37,  38,  39,  40,  41,  42,\n",
       "         43,  44,  45,  46,  47,  48,  49,  50,  51,  52,  53,  54,  55,\n",
       "        235, 236, 237, 238, 239, 240, 241, 242, 243, 244, 245, 246, 247,\n",
       "        251, 252, 253, 254, 255, 256, 257, 258, 259, 260, 261, 262, 263,\n",
       "        264, 265, 284, 285, 286, 287, 288, 289, 290, 291, 292, 293, 829,\n",
       "        838, 839]),)"
      ]
     },
     "execution_count": 61,
     "metadata": {},
     "output_type": "execute_result"
    }
   ],
   "source": [
    "# que é um atalho para\n",
    "np.asarray(var_rel>thresh_first_max).nonzero()"
   ]
  },
  {
   "cell_type": "code",
   "execution_count": 62,
   "id": "ae759c98-24eb-46ea-b6af-3c627d8ac457",
   "metadata": {},
   "outputs": [
    {
     "data": {
      "text/plain": [
       "array([ 20,  21,  22,  23,  34,  35,  36,  37,  38,  39,  40,  41,  42,\n",
       "        43,  44,  45,  46,  47,  48,  49,  50,  51,  52,  53,  54,  55,\n",
       "       235, 236, 237, 238, 239, 240, 241, 242, 243, 244, 245, 246, 247,\n",
       "       251, 252, 253, 254, 255, 256, 257, 258, 259, 260, 261, 262, 263,\n",
       "       264, 265, 284, 285, 286, 287, 288, 289, 290, 291, 292, 293, 829,\n",
       "       838, 839])"
      ]
     },
     "execution_count": 62,
     "metadata": {},
     "output_type": "execute_result"
    }
   ],
   "source": [
    "# Ele sempre retorna uma tupla, o que é explicado aqui:\n",
    "# https://numpy.org/doc/stable/reference/generated/numpy.nonzero.html#numpy-nonzero.\n",
    "# Então nesses casos preciso fazer\n",
    "np.where(var_rel>thresh_first_max)[0]"
   ]
  },
  {
   "cell_type": "code",
   "execution_count": 63,
   "id": "aeab0fad-0a7c-496a-84a7-fcc65530d580",
   "metadata": {},
   "outputs": [
    {
     "data": {
      "text/plain": [
       "array([  693.06600148,   843.41634197,   715.60841407,   557.42760009,\n",
       "         844.11841855,  1298.93783311,  4925.62774105, 16414.91687783,\n",
       "       16785.3801132 , 13907.7699689 , 11892.02263609, 11124.67628604,\n",
       "       10434.20295666,  9202.21273933,  8382.89139298,  8275.87870299,\n",
       "        9807.58671025,  8530.70925282,  4533.82385391,  2395.34737188,\n",
       "        2553.22403041,  3140.5254721 ,  3792.28720882,  3501.3044214 ,\n",
       "        2213.9091954 ,   987.46536711,   641.51070628,  3319.94609732,\n",
       "        3599.63941537,  3113.09391378,  2987.14844592,  3000.24050822,\n",
       "        3007.7303849 ,  3017.20118626,  3040.18693728,  3113.41749409,\n",
       "        3602.81618281,  3109.63981797,   776.28245711,  4291.64664161,\n",
       "       27945.99837701, 36170.24158451, 29664.26831137, 27077.7082351 ,\n",
       "       26704.65578095, 26790.30038152, 26878.9072736 , 26986.62331098,\n",
       "       27256.62608719, 29965.13294017, 35203.43053748, 19564.35220612,\n",
       "        5249.83220974,   527.70965868,   927.30807094,   809.47360035,\n",
       "         735.74820384,   729.56099625,   721.41772344,   721.91379024,\n",
       "         720.91187681,   739.76862088,   800.78264343,   883.94333093,\n",
       "         525.85109816,   575.08591487,   554.56028257])"
      ]
     },
     "execution_count": 63,
     "metadata": {},
     "output_type": "execute_result"
    }
   ],
   "source": [
    "# para obter os valores em vez dos índices:\n",
    "var_rel[var_rel>thresh_first_max]"
   ]
  },
  {
   "cell_type": "code",
   "execution_count": null,
   "id": "5cd5d87e-f30a-4b98-ab35-7f8e45c51ab2",
   "metadata": {},
   "outputs": [],
   "source": []
  },
  {
   "cell_type": "code",
   "execution_count": 64,
   "id": "08e232ca-109d-41c7-9f05-3d4655448278",
   "metadata": {},
   "outputs": [
    {
     "data": {
      "text/plain": [
       "20"
      ]
     },
     "execution_count": 64,
     "metadata": {},
     "output_type": "execute_result"
    }
   ],
   "source": [
    "# Para obter o índice do primeiro:\n",
    "np.where(var_rel>thresh_first_max)[0][0]"
   ]
  },
  {
   "cell_type": "code",
   "execution_count": 65,
   "id": "4b66eafa-9649-4362-bee4-a10c5ffecee2",
   "metadata": {},
   "outputs": [],
   "source": [
    "# O array \"restante\" para a próxima busca será\n",
    "restante = var_rel[np.where(var_rel>thresh_first_max)[0][0]:]"
   ]
  },
  {
   "cell_type": "code",
   "execution_count": 66,
   "id": "e66a0107-5c02-4712-bcaf-2d29240996c8",
   "metadata": {},
   "outputs": [
    {
     "data": {
      "text/plain": [
       "200.0"
      ]
     },
     "execution_count": 66,
     "metadata": {},
     "output_type": "execute_result"
    }
   ],
   "source": [
    "# Para buscar o ponto onde o espectro estabiliza, definir\n",
    "thresh_stable_var"
   ]
  },
  {
   "cell_type": "code",
   "execution_count": 67,
   "id": "aa0741de-96ed-44e5-8090-18998b53322e",
   "metadata": {},
   "outputs": [
    {
     "data": {
      "text/plain": [
       "31"
      ]
     },
     "execution_count": 67,
     "metadata": {},
     "output_type": "execute_result"
    }
   ],
   "source": [
    "# Buscando o segundo critério, ou seja, a partir de qual canal estabiliza:\n",
    "np.where(restante<thresh_stable_var)[0][0] + np.where(var_rel>thresh_first_max)[0][0]"
   ]
  },
  {
   "cell_type": "code",
   "execution_count": 68,
   "id": "9edef35a-d83f-458e-ba79-e378f021bb69",
   "metadata": {},
   "outputs": [
    {
     "data": {
      "text/plain": [
       "4086"
      ]
     },
     "execution_count": 68,
     "metadata": {},
     "output_type": "execute_result"
    }
   ],
   "source": [
    "var_rel.size"
   ]
  },
  {
   "cell_type": "code",
   "execution_count": 79,
   "id": "2e19b0b4-b7e0-4a0f-8718-77754f7890cf",
   "metadata": {},
   "outputs": [],
   "source": [
    "xs_tail = cntarr.chans[:loc_stable_cts]\n",
    "# ys_tail = np.array(cntarr.y0s[:loc_stable_cts])\n",
    "ys_tail = np.repeat(cntarr.y0s[loc_stable_cts], loc_stable_cts)"
   ]
  },
  {
   "cell_type": "code",
   "execution_count": 80,
   "id": "250d9f77-342c-440c-a3e8-83ad06849fb2",
   "metadata": {},
   "outputs": [
    {
     "data": {
      "text/plain": [
       "array([1633, 1633, 1633, 1633, 1633, 1633, 1633, 1633, 1633, 1633, 1633,\n",
       "       1633, 1633, 1633, 1633, 1633, 1633, 1633, 1633, 1633, 1633, 1633,\n",
       "       1633, 1633, 1633, 1633, 1633, 1633, 1633, 1633, 1633])"
      ]
     },
     "execution_count": 80,
     "metadata": {},
     "output_type": "execute_result"
    }
   ],
   "source": [
    "ys_tail"
   ]
  },
  {
   "cell_type": "code",
   "execution_count": 81,
   "id": "5377a67f-c1e8-4bfe-9e71-9c2b54887d72",
   "metadata": {},
   "outputs": [],
   "source": [
    "chans = cntarr.chans\n",
    "chans_nzero = cntarr.chans_nzero\n",
    "counts_nzero = cntarr.counts_nzero\n",
    "unc_y = cntarr.unc_y"
   ]
  },
  {
   "cell_type": "code",
   "execution_count": 82,
   "id": "7822579d-9aad-43b3-930f-08666d769a97",
   "metadata": {},
   "outputs": [],
   "source": [
    "# Initialize figure\n",
    "figw1 = go.FigureWidget();\n",
    "\n",
    "# Add Traces\n",
    "\n",
    "figw1.add_trace(\n",
    "    go.Scattergl(x=chans_nzero,\n",
    "               y=counts_nzero,\n",
    "               error_y=dict(\n",
    "                   color='orange',width=3.0,\n",
    "                   type='data', # value of error bar given in data coordinates\n",
    "                   array=unc_y,\n",
    "                   visible=True),\n",
    "               name=\"Counts & uncertaintes\",\n",
    "               line=dict(color='orange',width=0.7)));\n",
    "\n",
    "figw1.add_trace(\n",
    "    go.Scattergl(x=chans[:-ch_win],\n",
    "               y=var_rel,\n",
    "               name='var_rel',\n",
    "               line=dict(color='blue',width=0.5)));\n",
    "\n",
    "figw1.add_trace(\n",
    "    go.Scattergl(\n",
    "        x=xs_tail,\n",
    "        y=ys_tail,\n",
    "        mode='markers',\n",
    "        marker=dict(\n",
    "            color='cyan',\n",
    "            symbol='star-triangle-down',\n",
    "            size=10,\n",
    "            opacity=0.5,\n",
    "            line=dict(color='red', width=2.0)\n",
    "        ),\n",
    "        name='Left tail'\n",
    "    )\n",
    ");\n",
    "\n",
    "# Set title and scale type\n",
    "figw1.update_layout(title_text='Fig 1: ' + a_raw_spec.f_name)\n",
    "figw1.update_yaxes(type=\"log\");\n",
    "\n",
    "figw1.write_html('figw1.html', auto_open=True)\n",
    "\n",
    "# Melhor não abrir inline, que seria simplesmente entrar com o nome do objeto:\n",
    "# figw2\n",
    "# Além de ficar com visualização incômoda, não funciona no JupyterLab; dá o erro:\n",
    "# Error displaying widget: model not found."
   ]
  },
  {
   "cell_type": "code",
   "execution_count": 84,
   "id": "b39bb3b1-341d-4c51-bb85-3972bb267098",
   "metadata": {},
   "outputs": [],
   "source": [
    "# 2022-Jun-23 Fazendo ajustes no picão acima (364 keV do I-131):"
   ]
  },
  {
   "cell_type": "code",
   "execution_count": 85,
   "id": "e3a2bbdc-8b9e-42b5-a1a8-ed667171e7fd",
   "metadata": {},
   "outputs": [
    {
     "data": {
      "text/plain": [
       "3"
      ]
     },
     "execution_count": 85,
     "metadata": {},
     "output_type": "execute_result"
    }
   ],
   "source": [
    "21 // 7"
   ]
  },
  {
   "cell_type": "code",
   "execution_count": 91,
   "id": "4c71a7c5-6c6c-40d3-92c9-67597373fadc",
   "metadata": {},
   "outputs": [],
   "source": [
    "x = chans\n",
    "y = cntarr.y0s"
   ]
  },
  {
   "cell_type": "code",
   "execution_count": 92,
   "id": "af0b11be-1900-43d2-8d32-b41983ebf462",
   "metadata": {},
   "outputs": [
    {
     "name": "stdout",
     "output_type": "stream",
     "text": [
      "[[Model]]\n",
      "    (((Model(gaussian, prefix='g1_') + Model(gaussian, prefix='g2_')) + Model(linear, prefix='line_')) - Model(step, prefix='step_', form='erf'))\n",
      "[[Fit Statistics]]\n",
      "    # fitting method   = leastsq\n",
      "    # function evals   = 163\n",
      "    # data points      = 4096\n",
      "    # variables        = 9\n",
      "    chi-square         = 9.4040e+09\n",
      "    reduced chi-square = 2300954.40\n",
      "    Akaike info crit   = 60010.6164\n",
      "    Bayesian info crit = 60067.4763\n",
      "[[Variables]]\n",
      "    line_slope:     -9.9993e-04 +/- 0.02354774 (2354.93%) (init = 0)\n",
      "    line_intercept:  1138.02633 +/- 75.0281385 (6.59%) (init = 3000)\n",
      "    step_amplitude:  1119.66286 +/- 92.7241909 (8.28%) (init = 8000)\n",
      "    step_center:     422.044931 +/- 19.8693757 (4.71%) (init = 420)\n",
      "    step_sigma:      1.91439395 +/- 9.54107655 (498.39%) == 'g1_sigma'\n",
      "    g1_amplitude:    10.0022464 +/- 5175.85316 (51746.91%) (init = 2000000)\n",
      "    g1_center:       421.088570 +/- 3708.06041 (880.59%) (init = 420)\n",
      "    g1_sigma:        1.91439395 +/- 9.54107654 (498.39%) (init = 1)\n",
      "    g1_fwhm:         4.50805317 +/- 22.4675178 (498.39%) == '2.3548200*g1_sigma'\n",
      "    g1_height:       2.08437724 +/- 1080.89416 (51856.94%) == '0.3989423*g1_amplitude/max(1e-15, g1_sigma)'\n",
      "    g2_amplitude:    10.0000005 +/- 7.34898801 (73.49%) (init = 40000)\n",
      "    g2_center:       411.999254 +/- 1052.78543 (255.53%) (init = 412)\n",
      "    g2_sigma:        1.91439395 +/- 9.54107655 (498.39%) == 'g1_sigma'\n",
      "    g2_fwhm:         4.50805317 +/- 0.00000000 (0.00%) == '2.3548200*g2_sigma'\n",
      "    g2_height:       2.08390922 +/- 1.53146230 (73.49%) == '0.3989423*g2_amplitude/max(1e-15, g2_sigma)'\n",
      "[[Correlations]] (unreported correlations are < 0.100)\n",
      "    C(step_center, g1_amplitude)      = -0.982\n",
      "    C(step_center, g1_center)         = -0.906\n",
      "    C(g1_amplitude, g1_center)        = 0.866\n",
      "    C(line_intercept, step_amplitude) = 0.772\n",
      "    C(g1_center, g1_sigma)            = -0.565\n",
      "    C(line_slope, step_amplitude)     = 0.524\n",
      "    C(step_center, g1_sigma)          = 0.296\n",
      "    C(g1_amplitude, g1_sigma)         = -0.216\n",
      "    C(line_intercept, g2_amplitude)   = 0.125\n",
      "    C(step_amplitude, g2_amplitude)   = 0.106\n"
     ]
    },
    {
     "ename": "NameError",
     "evalue": "name 'plt' is not defined",
     "output_type": "error",
     "traceback": [
      "\u001b[0;31m---------------------------------------------------------------------------\u001b[0m",
      "\u001b[0;31mNameError\u001b[0m                                 Traceback (most recent call last)",
      "Input \u001b[0;32mIn [92]\u001b[0m, in \u001b[0;36m<cell line: 36>\u001b[0;34m()\u001b[0m\n\u001b[1;32m     32\u001b[0m out \u001b[38;5;241m=\u001b[39m mod\u001b[38;5;241m.\u001b[39mfit(y, pars, x\u001b[38;5;241m=\u001b[39mx)\n\u001b[1;32m     34\u001b[0m \u001b[38;5;28mprint\u001b[39m(out\u001b[38;5;241m.\u001b[39mfit_report(min_correl\u001b[38;5;241m=\u001b[39m\u001b[38;5;241m0.1\u001b[39m))\n\u001b[0;32m---> 36\u001b[0m fig, axes \u001b[38;5;241m=\u001b[39m \u001b[43mplt\u001b[49m\u001b[38;5;241m.\u001b[39msubplots(\u001b[38;5;241m1\u001b[39m, \u001b[38;5;241m2\u001b[39m, figsize\u001b[38;5;241m=\u001b[39m(\u001b[38;5;241m20\u001b[39m, \u001b[38;5;241m16\u001b[39m))\n\u001b[1;32m     37\u001b[0m axes[\u001b[38;5;241m0\u001b[39m]\u001b[38;5;241m.\u001b[39mset_yscale(\u001b[38;5;124m'\u001b[39m\u001b[38;5;124mlog\u001b[39m\u001b[38;5;124m'\u001b[39m)\n\u001b[1;32m     38\u001b[0m axes[\u001b[38;5;241m1\u001b[39m]\u001b[38;5;241m.\u001b[39mset_yscale(\u001b[38;5;124m'\u001b[39m\u001b[38;5;124mlog\u001b[39m\u001b[38;5;124m'\u001b[39m)\n",
      "\u001b[0;31mNameError\u001b[0m: name 'plt' is not defined"
     ]
    }
   ],
   "source": [
    "pars = Parameters()\n",
    "\n",
    "line_mod = LinearModel(prefix='line_')\n",
    "pars.update(line_mod.make_params())\n",
    "pars['line_intercept'].set(value=3e3, min=4e2, max=3.1e3)\n",
    "pars['line_slope'].set(value=0, min=-0.001, max=0.001)\n",
    "                      \n",
    "# exp_mod = ExponentialModel(prefix='exp_')\n",
    "# pars = exp_mod.guess(y, x=x)\n",
    "\n",
    "step_mod = StepModel(form='erf', prefix='step_')\n",
    "pars.update(step_mod.make_params())\n",
    "pars['step_center'].set(value=420, min=416, max=425) \n",
    "pars['step_sigma'].set(expr='g1_sigma') \n",
    "pars['step_amplitude'].set(value=8e3, min=10)\n",
    "\n",
    "gauss1 = GaussianModel(prefix='g1_')\n",
    "pars.update(gauss1.make_params())\n",
    "pars['g1_center'].set(value=420, min=416, max=425)\n",
    "pars['g1_sigma'].set(value=1.0, min=0.5, max=2)\n",
    "pars['g1_amplitude'].set(value=2e6, min=10)\n",
    "\n",
    "gauss2 = GaussianModel(prefix='g2_')\n",
    "pars.update(gauss2.make_params())\n",
    "pars['g2_center'].set(value=412, min=400, max=416)\n",
    "pars['g2_sigma'].set(expr='g1_sigma')\n",
    "pars['g2_amplitude'].set(value=4e4, min=10)\n",
    "\n",
    "mod = gauss1 + gauss2 + line_mod - step_mod\n",
    "\n",
    "init = mod.eval(pars, x=x)\n",
    "out = mod.fit(y, pars, x=x)\n",
    "\n",
    "print(out.fit_report(min_correl=0.1))\n",
    "\n",
    "fig, axes = plt.subplots(1, 2, figsize=(20, 16))\n",
    "axes[0].set_yscale('log')\n",
    "axes[1].set_yscale('log')\n",
    "axes[0].set_ylim([10, 2.5e6])\n",
    "axes[1].set_ylim([10, 2.5e6])\n",
    "\n",
    "axes[0].plot(x, y, 'b')\n",
    "axes[0].plot(x, init, 'k--', label='initial fit')\n",
    "axes[0].plot(x, out.best_fit, 'r-', label='best fit')\n",
    "axes[0].legend(loc='best')\n",
    "\n",
    "comps = out.eval_components(x=x)\n",
    "axes[1].plot(x, y, 'b')\n",
    "axes[1].plot(x, comps['g1_'], 'g--', label='Gaussian component 1')\n",
    "axes[1].plot(x, comps['g2_'], 'm--', label='Gaussian component 2')\n",
    "axes[1].plot(x, comps['line_'], 'k--', label='Linear component')\n",
    "axes[1].plot(x, -comps['step_'], 'r--', label='Step component')\n",
    "# axes[1].plot(x, comps['exp_'], 'k--', label='Exponential component')\n",
    "axes[1].legend(loc='best')\n",
    "\n",
    "# plt.show()\n",
    "# <end examples/doc_builtinmodels_nistgauss.py>"
   ]
  },
  {
   "cell_type": "code",
   "execution_count": null,
   "id": "40791804-bb1a-4723-8bd4-272fbaa3e0cb",
   "metadata": {},
   "outputs": [],
   "source": []
  },
  {
   "cell_type": "code",
   "execution_count": null,
   "id": "b6b45f5c-c89e-4523-8cb7-6aec9764d89b",
   "metadata": {},
   "outputs": [],
   "source": [
    "x = chans\n",
    "y = counts"
   ]
  },
  {
   "cell_type": "code",
   "execution_count": null,
   "id": "167fb754-e67c-45e4-b6f5-35874b14904f",
   "metadata": {},
   "outputs": [],
   "source": [
    "# Após descontar a step_baseline:\n",
    "y = counts - cntarr.step_baseline(counts[0], counts[-1], counts)"
   ]
  },
  {
   "cell_type": "code",
   "execution_count": null,
   "id": "d043b224-6baa-4b66-9102-fef611eee72c",
   "metadata": {},
   "outputs": [],
   "source": []
  },
  {
   "cell_type": "code",
   "execution_count": null,
   "id": "0d62da36-6cf0-44ab-b899-df92e1ae99be",
   "metadata": {},
   "outputs": [],
   "source": [
    "fig1, ax1 = plt.subplots(figsize=(16, 12))\n",
    "ax1.set_yscale('log')\n",
    "ax1.plot(x,y)\n",
    "# ax1.plot(cntarr.x_s[700:760], cntarr.y0s[700:760])"
   ]
  },
  {
   "cell_type": "code",
   "execution_count": null,
   "id": "8cc1fa52-6346-4679-a016-3953c98fbfb6",
   "metadata": {},
   "outputs": [],
   "source": [
    "pars = Parameters()\n",
    "\n",
    "gauss1 = GaussianModel(prefix='g1_')\n",
    "pars.update(gauss1.make_params())\n",
    "pars['g1_center'].set(value=420, min=416, max=425)\n",
    "pars['g1_sigma'].set(value=1.0, min=0.5, max=2)\n",
    "pars['g1_amplitude'].set(value=2e6, min=10)\n",
    "\n",
    "gauss2 = GaussianModel(prefix='g2_')\n",
    "pars.update(gauss2.make_params())\n",
    "pars['g2_center'].set(value=412, min=400, max=416)\n",
    "pars['g2_sigma'].set(expr='g1_sigma')\n",
    "pars['g2_amplitude'].set(value=4e4, min=10)\n",
    "\n",
    "mod = gauss1 + gauss2\n",
    "\n",
    "init = mod.eval(pars, x=x)\n",
    "out = mod.fit(y, pars, x=x)\n",
    "\n",
    "print(out.fit_report(min_correl=0.1))\n",
    "\n",
    "fig, axes = plt.subplots(1, 2, figsize=(20, 16))\n",
    "axes[0].set_yscale('log')\n",
    "axes[1].set_yscale('log')\n",
    "axes[0].set_ylim([10, 2e6])\n",
    "axes[1].set_ylim([10, 2e6])\n",
    "\n",
    "axes[0].plot(x, y, 'b')\n",
    "axes[0].plot(x, init, 'k--', label='initial fit')\n",
    "axes[0].plot(x, out.best_fit, 'r-', label='best fit')\n",
    "axes[0].legend(loc='best')\n",
    "\n",
    "comps = out.eval_components(x=x)\n",
    "axes[1].plot(x, y, 'b')\n",
    "axes[1].plot(x, comps['g1_'], 'g--', label='Gaussian component 1')\n",
    "axes[1].plot(x, comps['g2_'], 'm--', label='Gaussian component 2')\n",
    "axes[1].legend(loc='best')\n",
    "\n",
    "# plt.show()\n",
    "# <end examples/doc_builtinmodels_nistgauss.py>"
   ]
  },
  {
   "cell_type": "code",
   "execution_count": null,
   "id": "758c3778-2849-4afb-b9cb-9b0a3c2d5c6b",
   "metadata": {},
   "outputs": [],
   "source": []
  },
  {
   "cell_type": "code",
   "execution_count": null,
   "id": "98079863-9fcc-42c2-a67a-0fa03f46f376",
   "metadata": {},
   "outputs": [],
   "source": [
    "y[0:10]"
   ]
  },
  {
   "cell_type": "code",
   "execution_count": null,
   "id": "3a552dbc-aaea-45d4-8ff4-842a0e353b5c",
   "metadata": {},
   "outputs": [],
   "source": [
    "y[-11:-1]"
   ]
  },
  {
   "cell_type": "code",
   "execution_count": null,
   "id": "ad2fb403-6ec4-47cb-9dc4-8e33891400c4",
   "metadata": {},
   "outputs": [],
   "source": [
    "y.size"
   ]
  },
  {
   "cell_type": "code",
   "execution_count": null,
   "id": "613a0c08-382c-42aa-95f3-685a4d387c0e",
   "metadata": {},
   "outputs": [],
   "source": [
    "# Agora usando algoritmo SkewedGaussianModel"
   ]
  },
  {
   "cell_type": "code",
   "execution_count": null,
   "id": "20e807b5-1771-49cd-9771-64dbab354858",
   "metadata": {},
   "outputs": [],
   "source": [
    "pars = Parameters()\n",
    "\n",
    "gauss1 = SkewedGaussianModel(prefix='g1_')\n",
    "pars.update(gauss1.make_params())\n",
    "pars['g1_center'].set(value=420, min=416, max=425)\n",
    "pars['g1_sigma'].set(value=1.0, min=0.5, max=2)\n",
    "pars['g1_amplitude'].set(value=2e6, min=10)\n",
    "pars['g1_gamma'].set(value=1.0)\n",
    "\n",
    "mod = gauss1\n",
    "\n",
    "init = mod.eval(pars, x=x)\n",
    "out = mod.fit(y, pars, x=x)\n",
    "\n",
    "print(out.fit_report(min_correl=0.1))\n",
    "\n",
    "fig, axes = plt.subplots(1, 2, figsize=(20, 16))\n",
    "axes[0].set_yscale('log')\n",
    "axes[1].set_yscale('log')\n",
    "axes[0].set_ylim([10, 2e6])\n",
    "axes[1].set_ylim([10, 2e6])\n",
    "\n",
    "axes[0].plot(x, y, 'b')\n",
    "axes[0].plot(x, init, 'k--', label='initial fit')\n",
    "axes[0].plot(x, out.best_fit, 'r-', label='best fit')\n",
    "axes[0].legend(loc='best')\n",
    "\n",
    "comps = out.eval_components(x=x)\n",
    "axes[1].plot(x, y, 'b')\n",
    "axes[1].plot(x, comps['g1_'], 'g--', label='Skewed Gaussian component 1')\n",
    "axes[1].legend(loc='best')\n",
    "\n",
    "# plt.show()\n",
    "# <end examples/doc_builtinmodels_nistgauss.py>"
   ]
  },
  {
   "cell_type": "code",
   "execution_count": null,
   "id": "9a00a88a-0780-42bf-85f8-dac2a513db9d",
   "metadata": {},
   "outputs": [],
   "source": []
  },
  {
   "cell_type": "code",
   "execution_count": null,
   "id": "9693b7ae-d95c-47eb-9f9e-2557c2424e78",
   "metadata": {},
   "outputs": [],
   "source": [
    "# Agora usando algoritmo Tail do Genie"
   ]
  },
  {
   "cell_type": "code",
   "execution_count": null,
   "id": "85f34614-46e8-49ad-a9b5-d7a4acafc2b5",
   "metadata": {},
   "outputs": [],
   "source": [
    "def tailed_gaussian(x, cp, height, sigma, tail):\n",
    "    if x >= cp - tail:\n",
    "        fx = height * np.exp(-((x-cp)**2)/(2*sigma**2))\n",
    "    else:\n",
    "        fx = height * np.exp(tail*(2*x-2*cp+tail)/(2*sigma**2))\n",
    "    return fx"
   ]
  },
  {
   "cell_type": "code",
   "execution_count": null,
   "id": "d8449a2b-a063-4779-b5ff-258cdfb7825d",
   "metadata": {},
   "outputs": [],
   "source": [
    "script = \"\"\"\n",
    "def tailed_gaussian(x, cp, height, sigma, tail):\n",
    "    if x >= cp - tail:\n",
    "        fx = height * np.exp(-((x-cp)**2)/(2*sigma**2))\n",
    "    else:\n",
    "        fx = height * np.exp(tail*(2*x-2*cp+tail)/(2*sigma**2))\n",
    "    return fx\n",
    "\"\"\""
   ]
  },
  {
   "cell_type": "code",
   "execution_count": null,
   "id": "9a156b0d-5c39-40f0-abfe-eed31e254770",
   "metadata": {},
   "outputs": [],
   "source": [
    "script = \"\"\"\n",
    "def mycurve(x, amp, cen, sig):\n",
    "    loren = lorentzian(x, amplitude=amp, center=cen, sigma=sig)\n",
    "    gauss = gaussian(x, amplitude=amp, center=cen, sigma=sig)\n",
    "    return log(loren) * gradient(gauss) / gradient(x)\n",
    "\"\"\""
   ]
  },
  {
   "cell_type": "code",
   "execution_count": null,
   "id": "878c2105-4af7-432d-a4df-d5a59c342275",
   "metadata": {},
   "outputs": [],
   "source": [
    "mod = ExpressionModel('mycurve(x, height, mid, wid)', init_script=script,\n",
    "                      independent_vars=['x'])"
   ]
  },
  {
   "cell_type": "code",
   "execution_count": null,
   "id": "64ff3ebd-7ccd-41c3-aeac-2b12ce34cf44",
   "metadata": {},
   "outputs": [],
   "source": [
    "tailed_gaussian(0,1,2,3,4)"
   ]
  },
  {
   "cell_type": "code",
   "execution_count": null,
   "id": "7c3f6ec2-9be8-4a5e-920a-10e1faf5225b",
   "metadata": {},
   "outputs": [],
   "source": [
    "y"
   ]
  },
  {
   "cell_type": "code",
   "execution_count": null,
   "id": "de097cd4-b45e-41f3-93ec-54398192b8f1",
   "metadata": {},
   "outputs": [],
   "source": [
    "y"
   ]
  },
  {
   "cell_type": "code",
   "execution_count": null,
   "id": "45456ae5-3dbc-46da-8943-8e4171f91f70",
   "metadata": {},
   "outputs": [],
   "source": [
    "mod = ExpressionModel('tailed_gaussian(x, cp, height, sigma, tail)', init_script=script,\n",
    "                      independent_vars=['x'])"
   ]
  },
  {
   "cell_type": "code",
   "execution_count": null,
   "id": "6b3c890d-855b-41e4-92b0-6eccd2f72818",
   "metadata": {},
   "outputs": [],
   "source": [
    "pars = Parameters()\n",
    "\n",
    "pars.update(mod.make_params())\n",
    "pars['cp'].set(value=420, min=416, max=425)\n",
    "pars['height'].set(value=1.0)\n",
    "pars['sigma'].set(value=1.0, min=0.5, max=2)\n",
    "pars['tail'].set(value=2e6, min=10)\n",
    "\n",
    "init = mod.eval(pars, x=x)\n",
    "out = mod.fit(y, pars, x=x)\n",
    "\n",
    "print(out.fit_report(min_correl=0.1))\n",
    "\n"
   ]
  },
  {
   "cell_type": "code",
   "execution_count": null,
   "id": "74ab6a1e-1b03-48f7-afad-92c16fd3112f",
   "metadata": {},
   "outputs": [],
   "source": [
    "fig, axes = plt.subplots(1, 2, figsize=(20, 16))\n",
    "axes[0].set_yscale('log')\n",
    "axes[1].set_yscale('log')\n",
    "axes[0].set_ylim([10, 2e6])\n",
    "axes[1].set_ylim([10, 2e6])\n",
    "\n",
    "axes[0].plot(x, y, 'b')\n",
    "axes[0].plot(x, init, 'k--', label='initial fit')\n",
    "axes[0].plot(x, out.best_fit, 'r-', label='best fit')\n",
    "axes[0].legend(loc='best')\n",
    "\n",
    "comps = out.eval_components(x=x)\n",
    "axes[1].plot(x, y, 'b')\n",
    "axes[1].plot(x, 'g--', label='Genie2k tailed Gaussian')\n",
    "axes[1].legend(loc='best')\n",
    "\n",
    "# plt.show()\n",
    "# <end examples/doc_builtinmodels_nistgauss.py>rg"
   ]
  },
  {
   "cell_type": "code",
   "execution_count": null,
   "id": "61d0eb1a-cd1e-4066-bbeb-a37fcd8bfff2",
   "metadata": {},
   "outputs": [],
   "source": [
    "mod = ExpressionModel('tailed_gaussian(x, cp, height, sigma, tail)', init_script=script,\n",
    "                      independent_vars=['x'])"
   ]
  },
  {
   "cell_type": "code",
   "execution_count": null,
   "id": "85b5f661-d4b5-4562-8ee7-030f1137be9c",
   "metadata": {},
   "outputs": [],
   "source": []
  },
  {
   "cell_type": "code",
   "execution_count": null,
   "id": "c7641578-a805-4120-83b5-0ef595deff2c",
   "metadata": {},
   "outputs": [],
   "source": []
  },
  {
   "cell_type": "code",
   "execution_count": null,
   "id": "f8a783bd-3e0b-410a-a53b-60d80113df51",
   "metadata": {},
   "outputs": [],
   "source": [
    "fig1, ax1 = plt.subplots(figsize=(16, 12))\n",
    "ax1.set_yscale('log')\n",
    "ax1.plot(x,y)\n",
    "# ax1.plot(cntarr.x_s[700:760], cntarr.y0s[700:760])"
   ]
  },
  {
   "cell_type": "code",
   "execution_count": null,
   "id": "cacc3229-6226-4a0f-a129-9d14277f2761",
   "metadata": {},
   "outputs": [],
   "source": [
    "script = \"\"\"\n",
    "def mycurve(x, amp, cen, sig):\n",
    "    loren = lorentzian(x, amplitude=amp, center=cen, sigma=sig)\n",
    "    gauss = gaussian(x, amplitude=amp, center=cen, sigma=sig)\n",
    "    return log(loren) * gradient(gauss) / gradient(x)\n",
    "\"\"\""
   ]
  },
  {
   "cell_type": "code",
   "execution_count": null,
   "id": "51ed7f27-810a-44c5-bc13-a8f679db3ef2",
   "metadata": {},
   "outputs": [],
   "source": [
    "mod = ExpressionModel('mycurve(x, height, mid, wid)', init_script=script,\n",
    "                      independent_vars=['x'])"
   ]
  },
  {
   "cell_type": "code",
   "execution_count": null,
   "id": "46505902-bc8c-439f-b6bb-0432191514bb",
   "metadata": {},
   "outputs": [],
   "source": [
    "pars = Parameters()\n",
    "pars.update(mod.make_params())\n",
    "pars['height'].set(value=47720)\n",
    "pars['mid'].set(value=1.0)\n",
    "pars['wid'].set(value=2e6)\n",
    "\n",
    "init = mod.eval(pars, x=x)\n",
    "out = mod.fit(y, pars, x=x)\n",
    "\n",
    "print(out.fit_report(min_correl=0.1))"
   ]
  },
  {
   "cell_type": "code",
   "execution_count": null,
   "id": "035f387d-211c-4f44-bd40-1d1c024e166c",
   "metadata": {},
   "outputs": [],
   "source": [
    "fig, axes = plt.subplots(1, 2, figsize=(20, 16))\n",
    "axes[0].set_yscale('log')\n",
    "axes[1].set_yscale('log')\n",
    "axes[0].set_ylim([10, 2e6])\n",
    "axes[1].set_ylim([10, 2e6])\n",
    "\n",
    "axes[0].plot(x, y, 'b')\n",
    "axes[0].plot(x, init, 'k--', label='initial fit')\n",
    "axes[0].plot(x, out.best_fit, 'r-', label='best fit')\n",
    "axes[0].legend(loc='best')\n",
    "\n",
    "comps = out.eval_components(x=x)\n",
    "axes[1].plot(x, y, 'b')\n",
    "axes[1].plot(x, comps['g1_'], 'g--', label='Skewed Gaussian component 1')\n",
    "axes[1].legend(loc='best')\n",
    "\n",
    "# plt.show()\n",
    "# <end examples/doc_builtinmodels_nistgauss.py>"
   ]
  },
  {
   "cell_type": "code",
   "execution_count": null,
   "id": "b15b474d-5efd-4bf9-b52b-fd7e26a0a820",
   "metadata": {},
   "outputs": [],
   "source": [
    "def mycurve(x, amp, cen, sig):\n",
    "    loren = lorentzian(x, amplitude=amp, center=cen, sigma=sig)\n",
    "    gauss = gaussian(x, amplitude=amp, center=cen, sigma=sig)\n",
    "    return log(loren) * gradient(gauss) / gradient(x)"
   ]
  },
  {
   "cell_type": "code",
   "execution_count": null,
   "id": "3deb5151-189b-485c-ae0c-75299d038c52",
   "metadata": {},
   "outputs": [],
   "source": [
    "fig1, ax1 = plt.subplots(figsize=(16, 12))\n",
    "ax1.set_yscale('log')\n",
    "ax1.plot(x,mycurve(x,1,1,1))\n",
    "# ax1.plot(cntarr.x_s[700:760], cntarr.y0s[700:760])"
   ]
  },
  {
   "cell_type": "code",
   "execution_count": null,
   "id": "29a4094d-4fa3-4dd3-a0af-ba4033ae0d97",
   "metadata": {},
   "outputs": [],
   "source": []
  },
  {
   "cell_type": "code",
   "execution_count": null,
   "id": "05a392d2-4a6e-4b66-a913-ad4e017931f3",
   "metadata": {},
   "outputs": [],
   "source": []
  },
  {
   "cell_type": "code",
   "execution_count": null,
   "id": "50222dd7-73ad-4e74-a493-953237e84147",
   "metadata": {},
   "outputs": [],
   "source": []
  },
  {
   "cell_type": "code",
   "execution_count": null,
   "id": "5a0b89c8-df7f-492d-9c48-4ba9828d2803",
   "metadata": {},
   "outputs": [],
   "source": [
    "# 2022-Jun-23 Após resgatar o lmfit acima, prosseguir abaixo:"
   ]
  },
  {
   "cell_type": "code",
   "execution_count": null,
   "id": "0fff1cd7-b3bf-46b8-8a93-062b6752df38",
   "metadata": {},
   "outputs": [],
   "source": [
    "afbvg aerfbaawer gawer"
   ]
  },
  {
   "cell_type": "code",
   "execution_count": null,
   "id": "d231e6e8-1546-4e6a-b731-45c3b88a447b",
   "metadata": {},
   "outputs": [],
   "source": []
  },
  {
   "cell_type": "code",
   "execution_count": null,
   "id": "7de947f3-03ed-40bd-af21-ef9e4904ca95",
   "metadata": {},
   "outputs": [],
   "source": [
    "N = 1000\n",
    "fig = go.Figure(data=go.Scattergl(\n",
    "    x = np.random.randn(N),\n",
    "    y = np.random.randn(N),\n",
    "    mode='markers',\n",
    "    marker=dict(\n",
    "        color=np.random.randn(N),\n",
    "        colorscale='Viridis',\n",
    "        line_width=1\n",
    "    )\n",
    "))\n",
    "\n",
    "fig.update_layout(\n",
    "    width = 800,\n",
    "    height = 500,\n",
    "    margin=dict(l=20, r=20, t=20, b=20),\n",
    "    paper_bgcolor=\"LightSteelBlue\",\n",
    ")\n",
    "\n",
    "fig.write_html('figscattergl1.html', auto_open=True)\n",
    "# fig.show()\n"
   ]
  },
  {
   "cell_type": "code",
   "execution_count": null,
   "id": "f3e4cb97-ea0b-4568-b415-0b2c88504d96",
   "metadata": {},
   "outputs": [],
   "source": [
    "fig = go.Figure(data=go.Scattergl(\n",
    "    x = x,\n",
    "    y = y_plot,\n",
    "    mode='markers',\n",
    "    #marker=dict(\n",
    "    #    color=np.random.randn(N),\n",
    "    #    colorscale='Viridis',\n",
    "    #    line_width=0.1\n",
    "    #)\n",
    "))\n",
    "\n",
    "fig.update_layout(\n",
    "    width = 900,\n",
    "    height = 500,\n",
    "    margin=dict(l=10, r=10, t=30, b=10),\n",
    "    paper_bgcolor=\"LightSteelBlue\",\n",
    ")\n",
    "fig.write_html('figscattergl2.html', auto_open=True)\n",
    "# fig.show()\n"
   ]
  },
  {
   "cell_type": "code",
   "execution_count": null,
   "id": "6125ff31-8e3e-4f3e-9836-5072dfd7fbcd",
   "metadata": {},
   "outputs": [],
   "source": [
    "y_plot = var_rel"
   ]
  },
  {
   "cell_type": "code",
   "execution_count": null,
   "id": "e873248f-36b3-47a5-90fb-0572d37de552",
   "metadata": {},
   "outputs": [],
   "source": [
    "fig = go.Figure(data=go.Scattergl(\n",
    "    x = x,\n",
    "    y = y_plot,\n",
    "    mode='markers',\n",
    "    #marker=dict(\n",
    "    #    color=np.random.randn(N),\n",
    "    #    colorscale='Viridis',\n",
    "    #    line_width=0.1\n",
    "    #)\n",
    "))\n",
    "\n",
    "fig.update_layout(\n",
    "    width = 900,\n",
    "    height = 500,\n",
    "    margin=dict(l=10, r=10, t=30, b=10),\n",
    "    paper_bgcolor=\"LightSteelBlue\",\n",
    ")\n",
    "fig.write_html('figscattergl3.html', auto_open=True)\n",
    "# fig.show()\n"
   ]
  },
  {
   "cell_type": "code",
   "execution_count": null,
   "id": "712b4a3b-270d-4ed5-bbee-359517688b1e",
   "metadata": {},
   "outputs": [],
   "source": []
  },
  {
   "cell_type": "code",
   "execution_count": null,
   "id": "c2f5ae86-c354-4fee-b863-bb0a38c13813",
   "metadata": {},
   "outputs": [],
   "source": []
  },
  {
   "cell_type": "code",
   "execution_count": null,
   "id": "40ba7fc8-0bf4-42b0-91f1-79c763eb950a",
   "metadata": {},
   "outputs": [],
   "source": []
  },
  {
   "cell_type": "code",
   "execution_count": null,
   "id": "efb5537b-252d-4104-9122-161a31920ae6",
   "metadata": {},
   "outputs": [],
   "source": []
  },
  {
   "cell_type": "code",
   "execution_count": null,
   "id": "00dc9489-f315-4fda-a606-536bfff3ca68",
   "metadata": {},
   "outputs": [],
   "source": [
    "Agora, é preciso \"limpar\" os picos no espectro líquido e definir as novas regiões, antes de rodar o lmfit"
   ]
  },
  {
   "cell_type": "code",
   "execution_count": null,
   "id": "5a41f38b-008b-4ac4-a0ac-fc2c1f49c8a9",
   "metadata": {},
   "outputs": [],
   "source": []
  },
  {
   "cell_type": "code",
   "execution_count": null,
   "id": "b9771319-a18a-47dd-a30f-3d4faf8f2ade",
   "metadata": {},
   "outputs": [],
   "source": [
    "teste  = np.array([2,0,2.8])"
   ]
  },
  {
   "cell_type": "code",
   "execution_count": null,
   "id": "a636a2fe-32c3-4424-a073-554ff7898c2e",
   "metadata": {},
   "outputs": [],
   "source": [
    "teste[teste<2] = 1.0\n",
    "teste"
   ]
  },
  {
   "cell_type": "code",
   "execution_count": null,
   "id": "d3f94507-610b-4ef4-9574-a73c5dfc8e5f",
   "metadata": {},
   "outputs": [],
   "source": [
    "1.0 / np.sqrt(teste)"
   ]
  },
  {
   "cell_type": "code",
   "execution_count": null,
   "id": "d8307bdc-6fed-41c0-8f3b-3742bee95d57",
   "metadata": {},
   "outputs": [],
   "source": []
  },
  {
   "cell_type": "code",
   "execution_count": null,
   "id": "115d7fca-0633-4e45-a4c7-10c3c7e82c96",
   "metadata": {},
   "outputs": [],
   "source": [
    "np.sum(pann.peaks_parms.mix_regions[:,1]) - np.sum(pann.peaks_parms.mix_regions[:,0])"
   ]
  },
  {
   "cell_type": "code",
   "execution_count": null,
   "id": "ee38e45c-b7a3-43a8-88f8-86396c89e1cb",
   "metadata": {},
   "outputs": [],
   "source": [
    "np.sum(pann.peaks_parms.mix_regions[:,1]) - np.sum(pann.peaks_parms.mix_regions[:,0]) + pann.cnt_array_like.eval_baseline.size"
   ]
  },
  {
   "cell_type": "code",
   "execution_count": null,
   "id": "e63f8445-fc2d-4396-911c-a9feb672bfee",
   "metadata": {},
   "outputs": [],
   "source": [
    "pann.cnt_array_like.counts_outof_regs().size"
   ]
  },
  {
   "cell_type": "code",
   "execution_count": null,
   "id": "2df7f732-bb33-402f-9dbb-78fa2bd3ce1b",
   "metadata": {},
   "outputs": [],
   "source": [
    "few_first_nz = np.nonzero(pann.cnt_array_like.y0s)[0][0]\n",
    "few_first_nz"
   ]
  },
  {
   "cell_type": "code",
   "execution_count": null,
   "id": "f427330a-557d-470b-9958-e5d0b15498f6",
   "metadata": {},
   "outputs": [],
   "source": [
    "np.mean(pann.cnt_array_like.y0s[few_first_nz])"
   ]
  },
  {
   "cell_type": "code",
   "execution_count": null,
   "id": "ccf77a9a-2776-4a9f-8438-be798b2c84d4",
   "metadata": {},
   "outputs": [],
   "source": [
    "np.mean(pann.cnt_array_like.y0s[few_first_nz:few_first_nz+10])"
   ]
  },
  {
   "cell_type": "code",
   "execution_count": null,
   "id": "9fe908c0-2a32-42b5-8299-c13912346d71",
   "metadata": {},
   "outputs": [],
   "source": [
    "pann.cnt_array_like.y0s[few_first_nz:few_first_nz+10]"
   ]
  },
  {
   "cell_type": "code",
   "execution_count": null,
   "id": "7a772077-5f30-4ce7-8455-a108411c4e3e",
   "metadata": {},
   "outputs": [],
   "source": []
  },
  {
   "cell_type": "code",
   "execution_count": null,
   "id": "348773e8-e055-433c-8567-6f45692d12de",
   "metadata": {},
   "outputs": [],
   "source": []
  },
  {
   "cell_type": "code",
   "execution_count": null,
   "id": "64c380f2-fc4d-4197-97de-7cc4e96851e8",
   "metadata": {},
   "outputs": [],
   "source": [
    "peaks_net = pann.peaks_parms.peaks_net\n",
    "pk_hei_net = pann.peaks_parms.propts_net['peak_heights']\n",
    "width_heights_net = pann.peaks_parms.propts_net['width_heights']\n",
    "widths_net = pann.peaks_parms.propts_net['widths']"
   ]
  },
  {
   "cell_type": "code",
   "execution_count": null,
   "id": "f1328905-09d0-4aa9-bd30-ba830920ff60",
   "metadata": {},
   "outputs": [],
   "source": [
    "peaks_net"
   ]
  },
  {
   "cell_type": "code",
   "execution_count": null,
   "id": "6ad8a645-2062-4cd5-b5e3-6da8dc50e2f3",
   "metadata": {},
   "outputs": [],
   "source": [
    "# https://docs.python.org/3.8/library/string.html#formatspec\n",
    "# 2021-Jul-23 A formatação tem que ser exatamente assim para obter o que quero:\n",
    "[print((item.size*'{:10.4f}      ').format(*item))\n",
    " for item in np.array([peaks_net, pk_hei_net, width_heights_net, widths_net]).T]"
   ]
  },
  {
   "cell_type": "code",
   "execution_count": null,
   "id": "5a180327-5d1d-4f17-b5de-82a8377b0d2c",
   "metadata": {},
   "outputs": [],
   "source": []
  },
  {
   "cell_type": "code",
   "execution_count": null,
   "id": "508f0aba-9211-440f-893c-011beee2ac33",
   "metadata": {},
   "outputs": [],
   "source": [
    "# Para o cálculo da centroide:\n",
    "# weighted_means = sum([ w*v for w,v in zip(weights, values)]) / sum( w*w )"
   ]
  },
  {
   "cell_type": "code",
   "execution_count": null,
   "id": "8198376b-7dbc-4e0f-b75d-8eb387621dab",
   "metadata": {},
   "outputs": [],
   "source": []
  },
  {
   "cell_type": "code",
   "execution_count": null,
   "id": "1a0eb67f-f481-4938-a070-7f226eebd3d1",
   "metadata": {},
   "outputs": [],
   "source": []
  },
  {
   "cell_type": "code",
   "execution_count": null,
   "id": "2fa42f81-f6d9-4bd9-b01b-5a979106b7d0",
   "metadata": {},
   "outputs": [],
   "source": []
  },
  {
   "cell_type": "code",
   "execution_count": null,
   "id": "dcf301a3-ea9e-48c4-9852-9869756258b7",
   "metadata": {},
   "outputs": [],
   "source": [
    "# width_heights_net = propts_net['width_heights']\n",
    "# left_ips_net = propts_net['left_ips']\n",
    "# right_ips_net = propts_net['right_ips']\n",
    "# pk_hei_net = propts_net['peak_heights']\n",
    "# promns_net = propts_net['prominences']\n",
    "# widths_net = propts_net['widths']"
   ]
  },
  {
   "cell_type": "code",
   "execution_count": null,
   "id": "77a478e6-0570-4655-a8f2-d4f95cf5519a",
   "metadata": {},
   "outputs": [],
   "source": [
    "# https://docs.python.org/3.8/library/string.html#formatspec\n",
    "# 2021-Jul-23 Assim seria melhor, mas não consigo pôr newline:\n",
    "# print([(item.size*'{:10.4f}      '+'                                             ').format(*item)\n",
    "#        for item in np.array([peaks_net, pk_hei_net, width_heights_net, widths_net]).T])"
   ]
  },
  {
   "cell_type": "code",
   "execution_count": null,
   "id": "fe7f0872-7b1f-498b-829e-731b19f956f1",
   "metadata": {},
   "outputs": [],
   "source": [
    "2*np.sqrt(2*np.log(2))"
   ]
  },
  {
   "cell_type": "code",
   "execution_count": null,
   "id": "db4d7f63-381b-4445-abfd-a8d727b6f326",
   "metadata": {},
   "outputs": [],
   "source": []
  },
  {
   "cell_type": "code",
   "execution_count": null,
   "id": "2550094d-1c6b-4e81-b099-462c2c129584",
   "metadata": {},
   "outputs": [],
   "source": [
    "# 2021-Jul-27\n",
    "# Exemplos de geração de aleatórios e indexação avançada de arrays"
   ]
  },
  {
   "cell_type": "code",
   "execution_count": null,
   "id": "68d253e6-5868-4902-bd79-06add7e57b09",
   "metadata": {},
   "outputs": [],
   "source": [
    "# https://numpy.org/devdocs/reference/random/index.html#random-quick-start"
   ]
  },
  {
   "cell_type": "code",
   "execution_count": null,
   "id": "d9afbb77-d306-4a27-a296-3420d723792d",
   "metadata": {},
   "outputs": [],
   "source": []
  },
  {
   "cell_type": "code",
   "execution_count": null,
   "id": "72b2ae31-8b41-420f-a918-90e66d3895bb",
   "metadata": {},
   "outputs": [],
   "source": [
    "def gaussian_fw_fixed(x,*p):\n",
    "    \"\"\"Gaussian function.\n",
    "    \"\"\"\n",
    "    # fgf: factor for gaussian with fwhm\n",
    "#    fgf = 4.0 * np.log(2.0)\n",
    "    # ng: number of gaussian in multiplet\n",
    "    ng = int( len(p) / 3)\n",
    "    a = 0.0\n",
    "    for i in range(ng):\n",
    "        fw, he, cn = p[3*i+0], p[3*i+1], p[3*i+2]\n",
    "        a += he*np.exp(-fgf*(x-cn)**2/fw**2)\n",
    "    return a"
   ]
  },
  {
   "cell_type": "code",
   "execution_count": null,
   "id": "4e0da0d8-251a-4173-8d3b-f744ccc21815",
   "metadata": {},
   "outputs": [],
   "source": [
    "# 2022-Mar-30: CONTINUAR DAQUI."
   ]
  },
  {
   "cell_type": "code",
   "execution_count": null,
   "id": "6dc5dc26-d193-4748-bbef-4bbbf3c4cc3b",
   "metadata": {},
   "outputs": [],
   "source": [
    "# Localizar os picos pann.peaks_parms.peaks_net dentro de cada região pann.peaks_parms.net_regions:\n",
    "all_matches = []\n",
    "for nt_rg in pann.peaks_parms.net_regions:\n",
    "    matches = [pk for pk in peaks_net if pk in range(nt_rg[0], nt_rg[1])]\n",
    "    all_matches.append(matches)\n",
    "all_matches"
   ]
  },
  {
   "cell_type": "code",
   "execution_count": null,
   "id": "efe67925-2a2a-477e-9304-1ecfad566b38",
   "metadata": {},
   "outputs": [],
   "source": [
    "net_regions = pann.peaks_parms.net_regions\n",
    "net_regions"
   ]
  },
  {
   "cell_type": "code",
   "execution_count": null,
   "id": "28533597-2cdc-4dcf-b041-d2149cc54f70",
   "metadata": {},
   "outputs": [],
   "source": [
    "internal_pk_chans = [all_matches[i]-net_regions[i][0] for i in range(len(all_matches))]\n",
    "internal_pk_chans[0]"
   ]
  },
  {
   "cell_type": "code",
   "execution_count": null,
   "id": "1f1b3c00-4d51-4ace-9a46-ea1255a45844",
   "metadata": {},
   "outputs": [],
   "source": [
    "net_y = pann.cnt_array_like.net_spec[slice(*pann.peaks_parms.net_regions[0])]\n",
    "net_y"
   ]
  },
  {
   "cell_type": "code",
   "execution_count": null,
   "id": "ceca2aaa-55b2-45c3-8f0b-e6dbca9e546e",
   "metadata": {},
   "outputs": [],
   "source": []
  },
  {
   "cell_type": "code",
   "execution_count": null,
   "id": "9df868a4-8e8e-4ee6-915e-0da3631b7274",
   "metadata": {},
   "outputs": [],
   "source": []
  },
  {
   "cell_type": "code",
   "execution_count": null,
   "id": "8dbe5673-4fe5-4143-b6f7-a988f336bfc8",
   "metadata": {},
   "outputs": [],
   "source": []
  },
  {
   "cell_type": "code",
   "execution_count": null,
   "id": "73ac56f8-8be5-44cb-bd51-3439b33316bd",
   "metadata": {},
   "outputs": [],
   "source": []
  },
  {
   "cell_type": "code",
   "execution_count": null,
   "id": "88332e6e-db22-44e4-889c-b39c350f5809",
   "metadata": {},
   "outputs": [],
   "source": []
  },
  {
   "cell_type": "code",
   "execution_count": null,
   "id": "b93526c4-ef36-4199-ae5c-4c59e16ff10b",
   "metadata": {
    "tags": []
   },
   "outputs": [],
   "source": [
    "# 2021-Jul-12\n",
    "\n",
    "def resolve_multiplet(internal_pks, y):\n",
    "    good_multifit = False\n",
    "    picos = internal_pks.copy()\n",
    "    max_loop = 10\n",
    "    loop = 0\n",
    "    while not good_multifit:\n",
    "        gausses = []\n",
    "        for i in range(len(picos)):\n",
    "            print(i)\n",
    "            prefix = 'g'+str(i)+'_'\n",
    "            gausses.append(GaussianModel(prefix=prefix))\n",
    "            if i==0:\n",
    "                x = np.linspace(start=0, stop=y.size-1, num=y.size)\n",
    "                pars = gausses[0].guess(y, x=x)\n",
    "                mod = gausses[0]\n",
    "            else:\n",
    "                pars.update(gausses[i].make_params())\n",
    "                mod = mod + gausses[i]\n",
    "            pars[prefix + 'center'].set(value=picos[i],\n",
    "                                        min=picos[i]-2,\n",
    "                                        max=picos[i]+2)\n",
    "            pars[prefix + 'sigma'].set(value=2, min=0.1, max=10)\n",
    "            pars[prefix + 'amplitude'].set(value=y[picos[i]], min=10)\n",
    "        bad_pks = []\n",
    "        init = mod.eval(pars, x=x)\n",
    "        out = mod.fit(y, pars, x=x)\n",
    "        for name, param in out.params.items():\n",
    "            if name[3:]=='center':\n",
    "                if param.stderr is None:\n",
    "                    bad_pks.append(int(name[1]))\n",
    "                else:\n",
    "                    if param.stderr >= 0.5:\n",
    "                        bad_pks.append(int(name[1]))\n",
    "        print(picos)\n",
    "        new_picos = [pico[1] for pico in enumerate(picos) if pico[0] not in bad_pks]\n",
    "        print(new_picos)\n",
    "        print(bad_pks)\n",
    "        print('---------')\n",
    "        picos = new_picos.copy()\n",
    "        loop = loop + 1\n",
    "        good_multifit = bad_pks == [] or loop >= max_loop\n",
    "        # good_multifit = True\n",
    "\n",
    "    print(out.fit_report(min_correl=0.1))\n",
    "\n",
    "    fig, axes = plt.subplots(1, 2, figsize=(12.8, 4.8))\n",
    "    axes[0].plot(x, y, 'b')\n",
    "    axes[0].plot(x, init, 'k--', label='initial fit')\n",
    "    axes[0].plot(x, out.best_fit, 'r-', label='best fit')\n",
    "    axes[0].legend(loc='best')\n",
    "\n",
    "    plt.show()\n",
    "    return out\n",
    "    # <end examples/doc_builtinmodels_nistgauss.py>"
   ]
  },
  {
   "cell_type": "code",
   "execution_count": null,
   "id": "ff4a1662-31e3-41db-8e5d-a08c07f31078",
   "metadata": {},
   "outputs": [],
   "source": [
    "net_regions"
   ]
  },
  {
   "cell_type": "code",
   "execution_count": null,
   "id": "1eb9c7b0-64c6-4df0-91ce-855df70cba4b",
   "metadata": {},
   "outputs": [],
   "source": [
    "# 2021-Jul-12\n",
    "# Super loop!: Revisto em Jul-25\n",
    "# 2022-Mar-30: Revisto novamente.\n",
    "all_outs = []\n",
    "useful_regs_inichan = []\n",
    "for i_rg, nt_rg in enumerate(pann.peaks_parms.net_regions):\n",
    "    print(nt_rg)\n",
    "    net_y = pann.cnt_array_like.net_spec[slice(*nt_rg)]\n",
    "    print('Canal inicial: ' + str(nt_rg[0]))\n",
    "    print('Contagens líquidas na região: ' + str(net_y))\n",
    "    print('Picos internos candidatos: ' + str(internal_pk_chans[i_rg]))\n",
    "    if not len(internal_pk_chans[i_rg]):\n",
    "        print('Sem picos.')\n",
    "    elif 3*len(internal_pk_chans[i_rg]) > net_y.size:\n",
    "        print('Muitos picos. Selecionar.')\n",
    "    else:\n",
    "        print('Poder resolver o multipleto.')\n",
    "        an_out = resolve_multiplet(internal_pk_chans[i_rg], net_y)\n",
    "        all_outs.append(an_out)\n",
    "        useful_regs_inichan.append(nt_rg)\n",
    "    print('------------------------------------------')"
   ]
  },
  {
   "cell_type": "code",
   "execution_count": null,
   "id": "e6ab7196-e325-4895-bc65-0930daec3016",
   "metadata": {},
   "outputs": [],
   "source": [
    "all_matches"
   ]
  },
  {
   "cell_type": "code",
   "execution_count": null,
   "id": "127a1d02-0487-4033-b44d-d1017b8d2e8a",
   "metadata": {},
   "outputs": [],
   "source": [
    "all_outs"
   ]
  },
  {
   "cell_type": "code",
   "execution_count": null,
   "id": "de4a20db-f0a9-4798-9c75-2e0664d155b8",
   "metadata": {},
   "outputs": [],
   "source": [
    "useful_regs_inichan"
   ]
  },
  {
   "cell_type": "code",
   "execution_count": null,
   "id": "6fd0218d-cfc4-4dff-b017-23dfe76616d9",
   "metadata": {},
   "outputs": [],
   "source": []
  },
  {
   "cell_type": "code",
   "execution_count": null,
   "id": "3410b071-9934-4782-b005-e97e60888afe",
   "metadata": {},
   "outputs": [],
   "source": [
    "import pickle\n",
    "\n",
    "# An arbitrary collection of objects supported by pickle.\n",
    "data = useful_regs_inichan\n",
    "\n",
    "with open('data.pickle', 'wb') as f:\n",
    "    # Pickle the 'data' dictionary using the highest protocol available.\n",
    "    pickle.dump(data, f, pickle.HIGHEST_PROTOCOL)"
   ]
  },
  {
   "cell_type": "code",
   "execution_count": null,
   "id": "9196229e-43c5-42b5-9bf7-ebc8490f7f86",
   "metadata": {},
   "outputs": [],
   "source": [
    "# 2022-Mar-30 Parei aqui.\n",
    "WSDEF waef WEF we "
   ]
  },
  {
   "cell_type": "code",
   "execution_count": null,
   "id": "dc5426b4-3007-4b80-9a18-e76be4c183db",
   "metadata": {},
   "outputs": [],
   "source": []
  },
  {
   "cell_type": "code",
   "execution_count": null,
   "id": "32057a1c-bf75-42b1-b424-af10d8e73c13",
   "metadata": {},
   "outputs": [],
   "source": [
    "p_lo = np.percentile(net_fwhms, q=10)\n",
    "p_hi = np.percentile(net_fwhms, q=90)\n",
    "is_good_fwhms = (net_fwhms > p_lo) & (net_fwhms < p_hi)\n",
    "is_good_fwhms\n",
    "good_fwhms = net_fwhms[is_good_fwhms]\n",
    "good_peaks = peaks_net[is_good_fwhms]\n",
    "good_fwhms.shape"
   ]
  },
  {
   "cell_type": "code",
   "execution_count": null,
   "id": "df24d87d-205a-4910-8e99-2deab77f7779",
   "metadata": {
    "tags": []
   },
   "outputs": [],
   "source": [
    "good_fwhms"
   ]
  },
  {
   "cell_type": "code",
   "execution_count": null,
   "id": "8811f3e6-a94f-407d-b775-b3ac5575b1da",
   "metadata": {},
   "outputs": [],
   "source": []
  },
  {
   "cell_type": "code",
   "execution_count": null,
   "id": "b0167c7b-4a33-4198-a25c-3ecbbb3c7ced",
   "metadata": {},
   "outputs": [],
   "source": [
    "fwhms_fit = P.fit(x=good_peaks, y=good_fwhms**2, deg=2, w=np.sqrt(net_promns[is_good_fwhms]))\n",
    "fwhms_fit"
   ]
  },
  {
   "cell_type": "code",
   "execution_count": null,
   "id": "1820a9bd-cb5e-4acb-93d6-9d30372acc08",
   "metadata": {},
   "outputs": [],
   "source": [
    "plot_widths = go.FigureWidget();\n",
    "plot_widths.add_trace(\n",
    "    go.Scatter(x=good_peaks,\n",
    "               y=good_fwhms,\n",
    "               error_y=dict(\n",
    "                   color='orange',width=3.0,\n",
    "                   type='data', # value of error bar given in data coordinates\n",
    "                   array=1.0/np.sqrt(net_promns[is_good_fwhms]),\n",
    "                   visible=True),\n",
    "               name='good_fwhms',\n",
    "               mode='markers',\n",
    "               line=dict(color='blue',width=3.0)));\n",
    "plot_widths.add_trace(\n",
    "    go.Scatter(x=x_fwhm_fit,\n",
    "               y=y_fwhm_fit,\n",
    "               name='FWHMs fit',\n",
    "               line=dict(color='green',width=2.0)));\n",
    "\n",
    "plot_widths.update_layout(title_text=\"Peaks widths\")\n",
    "plot_widths.write_html('plot_widths.html', auto_open=True)"
   ]
  },
  {
   "cell_type": "code",
   "execution_count": null,
   "id": "07fb2c25-525b-4695-a838-3fba8a442f6a",
   "metadata": {},
   "outputs": [],
   "source": []
  },
  {
   "cell_type": "code",
   "execution_count": null,
   "id": "1f78c04b-7cbb-4451-a664-8135e03d7c9a",
   "metadata": {},
   "outputs": [],
   "source": [
    "# all_matches é obtido a partir de:\n",
    "# net_regions_nz\n",
    "# peaks_net"
   ]
  },
  {
   "cell_type": "code",
   "execution_count": null,
   "id": "60da545c-ea5b-4082-85c7-e8b38f60c0ba",
   "metadata": {},
   "outputs": [],
   "source": [
    "peaks_net"
   ]
  },
  {
   "cell_type": "code",
   "execution_count": null,
   "id": "fc43545c-9f9e-465c-940b-5a2c57c861e3",
   "metadata": {},
   "outputs": [],
   "source": [
    "for i_reg, rg_pk in enumerate(net_regions_nz):\n",
    "    if rg_pk: # If there is at least one peak in region,\n",
    "        print('i_reg: '+ str(i_reg))\n",
    "        print('net region '+ str(i_reg) + ': ' + str(rg_pk))\n",
    "        print('candidates: ' + str(all_matches[i_reg]))\n",
    "        print('----------------------')"
   ]
  },
  {
   "cell_type": "code",
   "execution_count": null,
   "id": "8aab45bd-1efe-4307-abdb-bd86b9c6b207",
   "metadata": {},
   "outputs": [],
   "source": [
    "len(all_matches)"
   ]
  },
  {
   "cell_type": "code",
   "execution_count": null,
   "id": "86e18710-f4b7-4e4a-bfee-28791c8353a7",
   "metadata": {},
   "outputs": [],
   "source": []
  },
  {
   "cell_type": "code",
   "execution_count": null,
   "id": "94c3b75d-9c4f-48d2-b67b-bbf9d2f9e84b",
   "metadata": {},
   "outputs": [],
   "source": [
    "# 2021-Set-16\n",
    "# Variáveis usadas no super-loop a seguir:\n",
    "# net_regions_nz\n",
    "# all_matches"
   ]
  },
  {
   "cell_type": "code",
   "execution_count": null,
   "id": "ba35df91-8275-4fb4-bd2e-e7595eb853f3",
   "metadata": {},
   "outputs": [],
   "source": [
    "net_regions_nz"
   ]
  },
  {
   "cell_type": "code",
   "execution_count": null,
   "id": "95141c67-eac8-4a42-a63a-592496555997",
   "metadata": {},
   "outputs": [],
   "source": [
    "all_matches"
   ]
  },
  {
   "cell_type": "code",
   "execution_count": null,
   "id": "4cb6449a-e23a-457b-8d6b-b38803e09b6e",
   "metadata": {},
   "outputs": [],
   "source": [
    "serg esgh es gthresh rs"
   ]
  },
  {
   "cell_type": "code",
   "execution_count": null,
   "id": "3316fd9f-0b43-4045-a5f0-069fa2021a93",
   "metadata": {},
   "outputs": [],
   "source": []
  },
  {
   "cell_type": "code",
   "execution_count": null,
   "id": "30ec3bd0-d0f0-4e5c-93ab-4e17ab52917f",
   "metadata": {},
   "outputs": [],
   "source": [
    "2*np.sqrt(2*np.log(2))"
   ]
  },
  {
   "cell_type": "code",
   "execution_count": null,
   "id": "5b906387-0c32-45eb-a9e3-b259955f575f",
   "metadata": {},
   "outputs": [],
   "source": [
    "net_regions_nz[11]"
   ]
  },
  {
   "cell_type": "code",
   "execution_count": null,
   "id": "668a7380-e1f8-47be-a9f8-bd87271f933f",
   "metadata": {},
   "outputs": [],
   "source": [
    "pks = np.array(all_matches[11])\n",
    "pks"
   ]
  },
  {
   "cell_type": "code",
   "execution_count": null,
   "id": "28337038-bbf5-40a5-be1e-57d1c50ea31c",
   "metadata": {},
   "outputs": [],
   "source": [
    "net_regions_nz[11][1][np.array(all_matches[11])]"
   ]
  },
  {
   "cell_type": "code",
   "execution_count": null,
   "id": "65749d71-f8c0-4240-9e42-cd5e9d48bab5",
   "metadata": {},
   "outputs": [],
   "source": [
    "np.argsort(net_regions_nz[11][1])"
   ]
  },
  {
   "cell_type": "code",
   "execution_count": null,
   "id": "a222c766-9e4d-4d5a-81f3-bcc3f01f14e8",
   "metadata": {},
   "outputs": [],
   "source": [
    "pk_sort = np.argsort(net_regions_nz[11][1])\n",
    "pk_sort"
   ]
  },
  {
   "cell_type": "code",
   "execution_count": null,
   "id": "df7bc453-e51e-41b9-a242-ec414769f651",
   "metadata": {},
   "outputs": [],
   "source": [
    "np.argwhere(pk_sort==1)"
   ]
  },
  {
   "cell_type": "code",
   "execution_count": null,
   "id": "bd73cbe8-59b1-4177-ab50-6ac7fd011de1",
   "metadata": {},
   "outputs": [],
   "source": [
    "np.argwhere(pk_sort==4)"
   ]
  },
  {
   "cell_type": "code",
   "execution_count": null,
   "id": "06ee68c7-c357-4c2c-a96d-2d83891eae6a",
   "metadata": {},
   "outputs": [],
   "source": [
    "hei_order = [np.argwhere(pk_sort==i)[0][0] for i in pks]\n",
    "hei_order"
   ]
  },
  {
   "cell_type": "code",
   "execution_count": null,
   "id": "89e88627-c73b-464c-ab22-6bbde3ee2a32",
   "metadata": {},
   "outputs": [],
   "source": [
    "# AQIO: SINCRONIZAR AS LISTAS ctrds E fwhms"
   ]
  },
  {
   "cell_type": "code",
   "execution_count": null,
   "id": "211fff09-314e-42fb-8ecb-2eee3de55a91",
   "metadata": {},
   "outputs": [],
   "source": [
    "print ('Número de multipletos: ' + str(len(all_outs)))\n",
    "print ('Canais iniciais: qtd: ' + str(len(useful_regs_inichan)))\n",
    "print (useful_regs_inichan)\n",
    "print('Parameter    Value       Stderr')\n",
    "ctrds = []\n",
    "ctrds_sd = []\n",
    "fwhms = []\n",
    "fwhms_sd = []\n",
    "\n",
    "for iout, out in enumerate(all_outs):\n",
    "    ini_ch = useful_regs_inichan[iout]\n",
    "    print('-------------------')\n",
    "    print('Canal ini do multipleto: ' + str(ini_ch))\n",
    "    for name, param in out.params.items():\n",
    "        if name[3:]=='center':\n",
    "            if (param.stderr is None) or np.isnan(param.stderr):\n",
    "                print('inválido')\n",
    "            elif param.stderr < 1.0e-5:\n",
    "                print('erro pequeno')\n",
    "            elif param.stderr > 1.0:\n",
    "                print('erro grande')\n",
    "            else:\n",
    "                print('centroid {:11.5f} {:11.5f}'.format(param.value+ini_ch, param.stderr))\n",
    "                print('{:7s} {:11.5f} {:11.5f}'.format(name, param.value, param.stderr))\n",
    "                print(param.value+ini_ch)\n",
    "                ctrds.append(param.value+ini_ch)\n",
    "                ctrds_sd.append(param.stderr)\n",
    "\n",
    "        if name[3:]=='fwhm':\n",
    "            if (param.stderr is None) or np.isnan(param.stderr):\n",
    "                print('inválido')\n",
    "            elif param.stderr < 1.0e-5:\n",
    "                print('erro pequeno')\n",
    "            elif param.stderr > 1.0:\n",
    "                print('erro grande')\n",
    "            else:\n",
    "                print('centroid {:11.5f} {:11.5f}'.format(param.value+ini_ch, param.stderr))\n",
    "                print('{:7s} {:11.5f} {:11.5f}'.format(name, param.value, param.stderr))\n",
    "                print(param.value)\n",
    "                fwhms.append(param.value)\n",
    "                fwhms_sd.append(param.stderr)"
   ]
  },
  {
   "cell_type": "code",
   "execution_count": null,
   "id": "70eb94c0-8959-4b57-853c-95c658c6a911",
   "metadata": {},
   "outputs": [],
   "source": []
  },
  {
   "cell_type": "code",
   "execution_count": null,
   "id": "833296c4-36b0-4ada-a996-1914ab3c2a52",
   "metadata": {},
   "outputs": [],
   "source": [
    "len(ctrds)"
   ]
  },
  {
   "cell_type": "code",
   "execution_count": null,
   "id": "b1331495-2c47-45ba-be03-27b2f09e5bc3",
   "metadata": {},
   "outputs": [],
   "source": [
    "len(fwhms)"
   ]
  },
  {
   "cell_type": "code",
   "execution_count": null,
   "id": "ce83d819-bffe-423b-afac-d63ba3e4d373",
   "metadata": {},
   "outputs": [],
   "source": [
    "fwhms_fit = P.fit(x=np.asarray(ctrds), y=np.asarray(fwhms)**2, deg=2, w=1.0/np.asarray(fwhms_sd)**2)\n",
    "fwhms_fit"
   ]
  },
  {
   "cell_type": "code",
   "execution_count": null,
   "id": "ca4ad465-d7fb-44cf-a517-9a37e21635d9",
   "metadata": {},
   "outputs": [],
   "source": [
    "x_fwhm_fit = np.linspace(0, nch, num=150)\n",
    "y_fwhm_fit = np.sqrt(fwhms_fit(x_fwhm_fit))"
   ]
  },
  {
   "cell_type": "code",
   "execution_count": null,
   "id": "6cd19bc3-db6e-4ba6-9488-f65ead14d545",
   "metadata": {},
   "outputs": [],
   "source": [
    "fig_fwhms = go.FigureWidget();\n",
    "fig_fwhms.add_trace(\n",
    "    go.Scatter(x=ctrds,\n",
    "               y=fwhms,\n",
    "               name='fig_fwhms & uncertaintes',\n",
    "               error_y=dict(\n",
    "                   color='orange',width=3.0,\n",
    "                   type='data', # value of error bar given in data coordinates\n",
    "                   array=fwhms_sd,\n",
    "                   visible=True),\n",
    "               marker=dict(color='blue',\n",
    "                           symbol='circle',\n",
    "                           size=20,\n",
    "                           opacity=0.4,\n",
    "                           line=dict(color='green', width=2.0)\n",
    "                          ),\n",
    "               mode='markers'));\n",
    "fig_fwhms.add_trace(\n",
    "    go.Scatter(x=x_fwhm_fit,\n",
    "               y=y_fwhm_fit,\n",
    "               name='FWHMs fit',\n",
    "               line=dict(color='green',width=2.0)));\n",
    "\n",
    "# Set title and scale type\n",
    "fig_fwhms.update_layout(title_text='fig_fwhms')\n",
    "fig_fwhms.write_html('fig_fwhms.html', auto_open=True)"
   ]
  },
  {
   "cell_type": "code",
   "execution_count": null,
   "id": "36c545af-dd9c-4a79-9de8-189ce2fda70f",
   "metadata": {},
   "outputs": [],
   "source": [
    "seh sehseth seth wseth seth setrh "
   ]
  },
  {
   "cell_type": "code",
   "execution_count": null,
   "id": "6a68a86e-49c1-4a6f-b6fd-9656df34f854",
   "metadata": {},
   "outputs": [],
   "source": [
    "# 2021-Jul-27\n",
    "# Exemplos de geração de aleatórios e indexação avançada de arrays"
   ]
  },
  {
   "cell_type": "code",
   "execution_count": null,
   "id": "331fc95e-db44-45e5-bc52-59f5f2073dd1",
   "metadata": {},
   "outputs": [],
   "source": [
    "# https://numpy.org/devdocs/reference/random/index.html#random-quick-start"
   ]
  },
  {
   "cell_type": "code",
   "execution_count": null,
   "id": "bc783c48-5451-4758-ad2f-07f6773e678f",
   "metadata": {},
   "outputs": [],
   "source": [
    "# Do this (new version)\n",
    "from numpy.random import default_rng\n",
    "rng = default_rng()\n",
    "vals = rng.standard_normal(10)\n",
    "more_vals = rng.standard_normal(10)"
   ]
  },
  {
   "cell_type": "code",
   "execution_count": null,
   "id": "5cf7a085-f839-41a5-abf1-755bfe58a49a",
   "metadata": {},
   "outputs": [],
   "source": [
    "print(vals, '\\n', more_vals)"
   ]
  },
  {
   "cell_type": "code",
   "execution_count": null,
   "id": "1df8c9fa-23b8-40d4-b738-94485d21cab4",
   "metadata": {},
   "outputs": [],
   "source": [
    "# Para inteiros:\n",
    "rng_integers = rng.integers\n",
    "a = rng_integers(1000)\n",
    "a"
   ]
  },
  {
   "cell_type": "code",
   "execution_count": null,
   "id": "98056590-441b-4a53-976f-6706d8c5913b",
   "metadata": {},
   "outputs": [],
   "source": [
    "rng = np.random.default_rng(12345)\n",
    "print(rng)"
   ]
  },
  {
   "cell_type": "code",
   "execution_count": null,
   "id": "9756a71e-4614-495d-8219-537630dd753d",
   "metadata": {},
   "outputs": [],
   "source": [
    "rfloat = rng.random()\n",
    "rfloat"
   ]
  },
  {
   "cell_type": "code",
   "execution_count": null,
   "id": "cef10a54-55f7-4b48-bdf8-009160a6ffe3",
   "metadata": {},
   "outputs": [],
   "source": [
    "# Here we use default_rng to create an instance of Generator to generate\n",
    "# 3 random integers between 0 (inclusive) and 10 (exclusive):\n",
    "rng = np.random.default_rng(12345)\n",
    "rints = rng.integers(low=0, high=10, size=3)\n",
    "rints"
   ]
  },
  {
   "cell_type": "code",
   "execution_count": null,
   "id": "cd2c2b99-109c-4aa9-9b7c-6c8af0a9b5be",
   "metadata": {},
   "outputs": [],
   "source": [
    "rints = rng.integers(low=0, high=10, size=200)\n",
    "rints"
   ]
  },
  {
   "cell_type": "code",
   "execution_count": null,
   "id": "4f26f713-adf2-4abe-ab56-9bedc0c6f1a2",
   "metadata": {},
   "outputs": [],
   "source": [
    "rng = np.random.default_rng(12346)\n",
    "rfloats = rng.random(10)\n",
    "rfloats"
   ]
  },
  {
   "cell_type": "code",
   "execution_count": null,
   "id": "56c97749-b85d-40fb-8891-cf57baae4599",
   "metadata": {},
   "outputs": [],
   "source": [
    "rng = np.random.default_rng(12345)\n",
    "rints = rng.integers(low=0, high=10, size=4)\n",
    "rints"
   ]
  },
  {
   "cell_type": "code",
   "execution_count": null,
   "id": "13265cc9-ecdb-4b79-9cfa-40756941a5fe",
   "metadata": {},
   "outputs": [],
   "source": [
    "np.argsort(rfloats)"
   ]
  },
  {
   "cell_type": "code",
   "execution_count": null,
   "id": "c21310da-61c1-44ef-b29c-520de69a90ff",
   "metadata": {},
   "outputs": [],
   "source": [
    "# Digamos que os picos detectados tenham sido:\n",
    "pks_detected = np.array([3,6,8,9])\n",
    "print(pks_detected)\n",
    "print(rfloats[pks_detected])"
   ]
  },
  {
   "cell_type": "code",
   "execution_count": null,
   "id": "a74e3217-b54d-4a3a-aca7-a9329acf52f7",
   "metadata": {},
   "outputs": [],
   "source": [
    "# ... mas quero manter apenas os nm maiores, nm=3 no caso, ou seja, quero manter [3,6,9]: \n",
    "rfloats[np.array([3,6,9])]"
   ]
  },
  {
   "cell_type": "code",
   "execution_count": null,
   "id": "41faf451-3bf9-45af-acbd-268d5039dfd4",
   "metadata": {},
   "outputs": [],
   "source": [
    "# Fazer:\n",
    "sort_inds = np.argsort(rfloats[pks_detected])\n",
    "sort_inds"
   ]
  },
  {
   "cell_type": "code",
   "execution_count": null,
   "id": "55344f94-f95c-4a5f-8d9e-ef0fdbc181cc",
   "metadata": {},
   "outputs": [],
   "source": [
    "nm = 3\n",
    "gt_pks = sort_inds[-nm:]\n",
    "gt_pks"
   ]
  },
  {
   "cell_type": "code",
   "execution_count": null,
   "id": "6c535334-14dc-4a34-9e22-a33af99a9c0e",
   "metadata": {},
   "outputs": [],
   "source": [
    "rfloats[-4:]"
   ]
  },
  {
   "cell_type": "code",
   "execution_count": null,
   "id": "c68e25f6-3ba2-4aa7-b22f-58d14b0a962d",
   "metadata": {},
   "outputs": [],
   "source": [
    "pks_detected[gt_pks]"
   ]
  },
  {
   "cell_type": "code",
   "execution_count": null,
   "id": "a84fb4d5-2caf-4663-ac03-3d1e0149511d",
   "metadata": {},
   "outputs": [],
   "source": [
    "# 2021-Jul-19:\n",
    "# Aos poucos, aproveitar só a parte gráfica do que segue e prosseguir na agregação dos picos\n",
    "# já obtidos com lmfit."
   ]
  },
  {
   "cell_type": "code",
   "execution_count": null,
   "id": "7dee9e7b-ef46-432b-8d62-f0eea2ab6327",
   "metadata": {},
   "outputs": [],
   "source": []
  },
  {
   "cell_type": "code",
   "execution_count": null,
   "id": "8dbcf71a-f8eb-4270-85fb-58d7b67fbd6a",
   "metadata": {},
   "outputs": [],
   "source": [
    "def gaussian_fw_fixed(x,*p):\n",
    "    \"\"\"Gaussian function.\n",
    "    \"\"\"\n",
    "    # fgf: factor for gaussian with fwhm\n",
    "#    fgf = 4.0 * np.log(2.0)\n",
    "    # ng: number of gaussian in multiplet\n",
    "    ng = int( len(p) / 3)\n",
    "    a = 0.0\n",
    "    for i in range(ng):\n",
    "        fw, he, cn = p[3*i+0], p[3*i+1], p[3*i+2]\n",
    "        a += he*np.exp(-fgf*(x-cn)**2/fw**2)\n",
    "    return a"
   ]
  },
  {
   "cell_type": "code",
   "execution_count": null,
   "id": "65bbd271-d8e6-489c-be18-6aefe480c291",
   "metadata": {},
   "outputs": [],
   "source": []
  },
  {
   "cell_type": "code",
   "execution_count": null,
   "id": "2598160f-63d5-429c-8d5d-d2d243f88d31",
   "metadata": {},
   "outputs": [],
   "source": []
  },
  {
   "cell_type": "code",
   "execution_count": null,
   "id": "1978995e-376b-4f1c-9d6e-6716f8c1d4b3",
   "metadata": {},
   "outputs": [],
   "source": []
  },
  {
   "cell_type": "code",
   "execution_count": null,
   "id": "9632b26e-9b12-4ce6-81e0-2a8d58dbd4b6",
   "metadata": {},
   "outputs": [],
   "source": []
  },
  {
   "cell_type": "code",
   "execution_count": null,
   "id": "741b8013-7516-4b2f-b335-c3cbe5a86b3e",
   "metadata": {},
   "outputs": [],
   "source": []
  },
  {
   "cell_type": "code",
   "execution_count": null,
   "id": "63531d4c-6f95-4ba3-a695-66236e766f21",
   "metadata": {},
   "outputs": [],
   "source": []
  },
  {
   "cell_type": "code",
   "execution_count": null,
   "id": "f4b4033e-a93c-452c-a0da-aaa4996b2e21",
   "metadata": {},
   "outputs": [],
   "source": [
    "p_lo = np.percentile(net_fwhms, q=10)\n",
    "p_hi = np.percentile(net_fwhms, q=90)\n",
    "is_good_fwhms = (net_fwhms > p_lo) & (net_fwhms < p_hi)\n",
    "is_good_fwhms\n",
    "good_fwhms = net_fwhms[is_good_fwhms]\n",
    "good_peaks = peaks_net[is_good_fwhms]\n",
    "good_fwhms.shape"
   ]
  },
  {
   "cell_type": "code",
   "execution_count": null,
   "id": "e3cb8127-56c6-4895-9840-68250a67c75e",
   "metadata": {
    "tags": []
   },
   "outputs": [],
   "source": [
    "good_fwhms"
   ]
  },
  {
   "cell_type": "code",
   "execution_count": null,
   "id": "5663d2ef-622c-4652-a742-72184c9963f7",
   "metadata": {},
   "outputs": [],
   "source": []
  },
  {
   "cell_type": "code",
   "execution_count": null,
   "id": "d3797f3e-35a2-4fe3-a986-78351fab6310",
   "metadata": {},
   "outputs": [],
   "source": [
    "fwhms_fit = P.fit(x=good_peaks, y=good_fwhms**2, deg=2, w=np.sqrt(net_promns[is_good_fwhms]))\n",
    "fwhms_fit"
   ]
  },
  {
   "cell_type": "code",
   "execution_count": null,
   "id": "349a4238-3a85-4037-9d58-098eaeba5af7",
   "metadata": {},
   "outputs": [],
   "source": [
    "plot_widths = go.FigureWidget();\n",
    "plot_widths.add_trace(\n",
    "    go.Scatter(x=good_peaks,\n",
    "               y=good_fwhms,\n",
    "               error_y=dict(\n",
    "                   color='orange',width=3.0,\n",
    "                   type='data', # value of error bar given in data coordinates\n",
    "                   array=1.0/np.sqrt(net_promns[is_good_fwhms]),\n",
    "                   visible=True),\n",
    "               name='good_fwhms',\n",
    "               mode='markers',\n",
    "               line=dict(color='blue',width=3.0)));\n",
    "plot_widths.add_trace(\n",
    "    go.Scatter(x=x_fwhm_fit,\n",
    "               y=y_fwhm_fit,\n",
    "               name='FWHMs fit',\n",
    "               line=dict(color='green',width=2.0)));\n",
    "\n",
    "plot_widths.update_layout(title_text=\"Peaks widths\")\n",
    "plot_widths.write_html('plot_widths.html', auto_open=True)"
   ]
  },
  {
   "cell_type": "code",
   "execution_count": null,
   "id": "be8ff994-d8d8-403a-93e5-875ebfafc343",
   "metadata": {},
   "outputs": [],
   "source": []
  },
  {
   "cell_type": "code",
   "execution_count": null,
   "id": "f1d07be3-e79f-4c26-8e5a-d89c1cc01d4b",
   "metadata": {},
   "outputs": [],
   "source": []
  },
  {
   "cell_type": "code",
   "execution_count": null,
   "id": "b1792451-d010-4f18-b568-1e3001877e41",
   "metadata": {},
   "outputs": [],
   "source": [
    "# 2021-06-25 Próxima etapa: refazer as regiões com base no espectro líquido, separando pelas contagens \n",
    "# líquidas nulas."
   ]
  },
  {
   "cell_type": "code",
   "execution_count": null,
   "id": "b3a9a62e-c380-467d-9369-abb3f9a90f85",
   "metadata": {},
   "outputs": [],
   "source": []
  },
  {
   "cell_type": "code",
   "execution_count": null,
   "id": "6f160fc2-6ef6-476f-ba66-927b92b324ec",
   "metadata": {},
   "outputs": [],
   "source": [
    "def response(change):\n",
    "    figw3.layout.title = 'Updating...'\n",
    "    # figw3.data[1].line=dict(color='red',width=0.1)\n",
    "    spec2.aSta = 0.001 * milliasta.value\n",
    "    spec2.bSta = bsta.value\n",
    "    spec2.calc_parabSpec()\n",
    "    spec2.calc_regions()\n",
    "    # figw3.update_traces(selector=dict(type='line'))\n",
    "    bline = figw3.data[1]\n",
    "    bline.y = spec2.smooParabSpec\n",
    "    mixline = figw3.data[2]\n",
    "    mixline.y = spec2.mix\n",
    "    # figw3.data[1].line=dict(color='green',width=0.9)\n",
    "    figw3.layout.title = 'Gamma-ray spectrum'\n",
    "    analysisVars.value = 'hWIni: ' + str(spec2.hWIni) + '\\n' + 'hWFin: ' + str(spec2.hWFin)\n",
    "        \n",
    "milliasta.observe(response, names=\"value\")\n",
    "bsta.observe(response, names=\"value\")"
   ]
  },
  {
   "cell_type": "code",
   "execution_count": null,
   "id": "5ba6e896-fe7b-445a-9b74-2365039c0fb4",
   "metadata": {},
   "outputs": [],
   "source": []
  },
  {
   "cell_type": "code",
   "execution_count": null,
   "id": "9a2eabec-cf1f-43ca-9ca8-1acdaff757f7",
   "metadata": {},
   "outputs": [],
   "source": []
  },
  {
   "cell_type": "code",
   "execution_count": null,
   "id": "cc578386-6136-4e45-be50-7d7a4ff75716",
   "metadata": {},
   "outputs": [],
   "source": []
  },
  {
   "cell_type": "code",
   "execution_count": null,
   "id": "24d22d33-822d-4439-ae19-40cf5632148d",
   "metadata": {},
   "outputs": [],
   "source": []
  },
  {
   "cell_type": "code",
   "execution_count": null,
   "id": "d6d6d995-fa52-40b5-8784-9ec85745d2d7",
   "metadata": {},
   "outputs": [],
   "source": []
  },
  {
   "cell_type": "code",
   "execution_count": null,
   "id": "5e54f617-7de2-49e4-8d0c-e6464804e3ca",
   "metadata": {},
   "outputs": [],
   "source": []
  },
  {
   "cell_type": "code",
   "execution_count": null,
   "id": "e6e5495d-4c32-4a58-b6c5-bded8b131879",
   "metadata": {},
   "outputs": [],
   "source": [
    "# 2022-Mar-16\n",
    "# Fazendo ajuste polinomial nas eficiências:"
   ]
  },
  {
   "cell_type": "code",
   "execution_count": null,
   "id": "8ce8256d-6623-4018-9416-20b36a400036",
   "metadata": {},
   "outputs": [],
   "source": [
    "from numpy.polynomial import Polynomial as P # 2020-09-06 Esta é a nova classe recomendada "
   ]
  },
  {
   "cell_type": "code",
   "execution_count": null,
   "id": "d980f08f-a191-4477-911f-7eccd1b86867",
   "metadata": {},
   "outputs": [],
   "source": [
    "En_CV_LoBg = np.array([81.00,\n",
    "86.54,\n",
    "121.78,\n",
    "133.51,\n",
    "302.85,\n",
    "344.28,\n",
    "356.02,\n",
    "604.69,\n",
    "661.66,\n",
    "795.84,\n",
    "964.13,\n",
    "1085.91,\n",
    "1112.12,\n",
    "1173.24,\n",
    "1332.50,\n",
    "1408.01\n",
    "])\n",
    "En_CV_GMX"
   ]
  },
  {
   "cell_type": "code",
   "execution_count": null,
   "id": "96eadfa9-8ce1-4075-80d2-273694a45d35",
   "metadata": {},
   "outputs": [],
   "source": [
    "Eff_CV_LoBg = np.array([4.4358,\n",
    "4.4723,\n",
    "5.4386,\n",
    "5.5045,\n",
    "3.1379,\n",
    "2.8722,\n",
    "2.7305,\n",
    "1.7817,\n",
    "1.6453,\n",
    "1.4026,\n",
    "1.1216,\n",
    "1.0200,\n",
    "0.9703,\n",
    "0.8962,\n",
    "0.8009,\n",
    "0.7397 ])\n",
    "Eff_CV_GMX"
   ]
  },
  {
   "cell_type": "code",
   "execution_count": null,
   "id": "d1f6dc1f-69e4-460c-9f37-6608f8d91037",
   "metadata": {},
   "outputs": [],
   "source": [
    "unc_perc = np.array([2.01,\n",
    "1.43,\n",
    "1.33,\n",
    "2.11,\n",
    "1.81,\n",
    "1.42,\n",
    "1.41,\n",
    "2.24,\n",
    "1.44,\n",
    "3.68,\n",
    "1.66,\n",
    "1.71,\n",
    "1.58,\n",
    "0.87,\n",
    "0.87,\n",
    "1.51 ])\n",
    "unc_perc"
   ]
  },
  {
   "cell_type": "code",
   "execution_count": null,
   "id": "3ed58d70-28e4-489a-a0e5-d4bf4bb943c4",
   "metadata": {},
   "outputs": [],
   "source": [
    "ln_En_CV_LoBg = np.log (En_CV_LoBg)\n",
    "ln_Eff_CV_LoBg = np.log (Eff_CV_LoBg)"
   ]
  },
  {
   "cell_type": "code",
   "execution_count": null,
   "id": "3e43cd50-6b70-4680-8bfa-0f447f3da69e",
   "metadata": {},
   "outputs": [],
   "source": [
    "N = 16"
   ]
  },
  {
   "cell_type": "code",
   "execution_count": null,
   "id": "807c47fd-5768-4604-9257-fc3ea499445e",
   "metadata": {},
   "outputs": [],
   "source": []
  },
  {
   "cell_type": "code",
   "execution_count": null,
   "id": "8c8cad66-5f65-412d-9995-79f0abcf7c93",
   "metadata": {},
   "outputs": [],
   "source": [
    "# 2022-Mar-23\n",
    "# Parêntese para fazer nova calibração canal-energia do HPGe do projeto:"
   ]
  },
  {
   "cell_type": "code",
   "execution_count": null,
   "id": "97616bd6-7b7d-481e-8704-a12eb4f030b7",
   "metadata": {},
   "outputs": [],
   "source": [
    "canal = np.array([210, 920, 1181, 7232])\n",
    "ener = np.array([46.5, 186, 238.6, 1460.8])"
   ]
  },
  {
   "cell_type": "code",
   "execution_count": null,
   "id": "89a93567-80aa-4402-8b09-ba841b30293e",
   "metadata": {},
   "outputs": [],
   "source": [
    "projeto = P.fit(x=canal, y=ener, deg=1).convert()\n",
    "projeto"
   ]
  },
  {
   "cell_type": "code",
   "execution_count": null,
   "id": "190b24e9-7fee-4935-84bc-612bafb80957",
   "metadata": {},
   "outputs": [],
   "source": [
    "projeto_ener_canal = P.fit(x=ener, y=canal, deg=1).convert()\n",
    "projeto_ener_canal"
   ]
  },
  {
   "cell_type": "code",
   "execution_count": null,
   "id": "82ee531b-5030-47ec-925a-d31dfe7e6a3e",
   "metadata": {},
   "outputs": [],
   "source": [
    "projeto_ener_canal(1173.2)"
   ]
  },
  {
   "cell_type": "code",
   "execution_count": null,
   "id": "1cef6c52-cb3e-471e-92bb-a4ee4f70a173",
   "metadata": {},
   "outputs": [],
   "source": [
    "projeto_ener_canal(1332.486)"
   ]
  },
  {
   "cell_type": "code",
   "execution_count": null,
   "id": "695ee480-ec9b-44bc-b652-bae84579a41e",
   "metadata": {},
   "outputs": [],
   "source": []
  },
  {
   "cell_type": "code",
   "execution_count": null,
   "id": "b2a368d6-3bf6-4c6b-abba-6823ca1494a0",
   "metadata": {},
   "outputs": [],
   "source": []
  },
  {
   "cell_type": "code",
   "execution_count": null,
   "id": "02ac30c2-a06b-4f96-ae17-f9d0346f885d",
   "metadata": {},
   "outputs": [],
   "source": []
  },
  {
   "cell_type": "code",
   "execution_count": null,
   "id": "eab2a698-e1ad-4092-a63a-47da67f3b020",
   "metadata": {},
   "outputs": [],
   "source": [
    "P.fit(x=ln_En_CV_LoBg, y=ln_Eff_CV_LoBg, deg=5).convert()"
   ]
  },
  {
   "cell_type": "code",
   "execution_count": null,
   "id": "58ee4470-e347-4ceb-97df-003c70720ed4",
   "metadata": {},
   "outputs": [],
   "source": [
    "poly_w = P.fit(x=ln_En_CV_LoBg, y=ln_Eff_CV_LoBg, deg=5, w=1/unc_perc).convert()\n",
    "poly_w"
   ]
  },
  {
   "cell_type": "code",
   "execution_count": null,
   "id": "45cc2f52-5b91-48d8-ab57-24ff0bd261e4",
   "metadata": {},
   "outputs": [],
   "source": [
    "poly_w = P.fit(x=ln_En_CV_LoBg, y=ln_Eff_CV_LoBg, deg=5, w=1/unc_perc**2).convert()\n",
    "poly_w"
   ]
  },
  {
   "cell_type": "code",
   "execution_count": null,
   "id": "fb1b628c-4cb8-4733-9534-de467de4419b",
   "metadata": {},
   "outputs": [],
   "source": [
    "print(poly_w)"
   ]
  },
  {
   "cell_type": "code",
   "execution_count": null,
   "id": "26513a3d-f877-4591-852d-16e2d15cee57",
   "metadata": {},
   "outputs": [],
   "source": [
    "poly_o = P.fit(x=ln_En_CV_LoBg, y=Eff_CV_LoBg, deg=5)\n",
    "print(poly_o)"
   ]
  },
  {
   "cell_type": "code",
   "execution_count": null,
   "id": "033082ca-6636-4c02-8633-66d659de7aba",
   "metadata": {},
   "outputs": [],
   "source": [
    "weights = np.linspace(1, 2, N)\n",
    "Xw = X * np.sqrt(weights)[:, None]\n",
    "yw = y * np.sqrt(weights)\n",
    "print (linalg.lstsq(Xw, yw)[0])"
   ]
  },
  {
   "cell_type": "code",
   "execution_count": null,
   "id": "716c5648-d819-4b3b-8148-4465b2b7db23",
   "metadata": {},
   "outputs": [],
   "source": [
    "weights = 1.0 / unc_perc**2.0\n",
    "weights"
   ]
  },
  {
   "cell_type": "code",
   "execution_count": null,
   "id": "7166ffa8-533c-4c00-8870-ad1eae381223",
   "metadata": {},
   "outputs": [],
   "source": [
    "Xw = ln_En_CV_LoBg * np.sqrt(weights)[:, None]\n",
    "yw = ln_Eff_CV_LoBg * np.sqrt(weights)\n",
    "print (linalg.lstsq(Xw, yw)[0])"
   ]
  },
  {
   "cell_type": "code",
   "execution_count": null,
   "id": "e42b8382-1a9a-4614-b9e6-0b391269ffae",
   "metadata": {},
   "outputs": [],
   "source": [
    "print (linalg.lstsq(Xw, yw))"
   ]
  },
  {
   "cell_type": "code",
   "execution_count": null,
   "id": "2b1ea676-2893-4463-9857-968c3812b154",
   "metadata": {},
   "outputs": [],
   "source": [
    "X = ln_En_CV_LoBg\n",
    "y = ln_Eff_CV_LoBg\n",
    "w1 = linalg.lstsq(X, y)\n",
    "print (w1)"
   ]
  },
  {
   "cell_type": "code",
   "execution_count": null,
   "id": "34a0f85d-4be5-4717-aad8-a70e4fbd55a4",
   "metadata": {},
   "outputs": [],
   "source": [
    "np.log(2)"
   ]
  },
  {
   "cell_type": "code",
   "execution_count": null,
   "id": "80c33591-304d-4e8a-86b0-dfab48d3d8cc",
   "metadata": {},
   "outputs": [],
   "source": []
  },
  {
   "cell_type": "code",
   "execution_count": null,
   "id": "22ef8f9c-730a-4290-a052-3707134c520d",
   "metadata": {},
   "outputs": [],
   "source": [
    "# Figure 3\n",
    "figw3 = go.FigureWidget();\n",
    "figw3.add_trace(\n",
    "    go.Scatter(x=chans,\n",
    "               y=ys_net_counts,\n",
    "               name=\"Net counts\",\n",
    "               line=dict(color='green',width=0.5)));\n",
    "figw3.add_trace(\n",
    "    go.Scatter(x=peaks_net,\n",
    "               y=ys_net_counts[peaks_net],\n",
    "               mode=\"markers\",\n",
    "               name=\"net peaks\",\n",
    "               marker=dict(color='cyan',\n",
    "                           symbol='cross',\n",
    "                           size=15,\n",
    "                           opacity=0.7,\n",
    "                           line=dict(color='magenta', width=2.0)\n",
    "                          )\n",
    "              ));\n",
    "figw3.add_trace(\n",
    "    go.Scatter(x=peaks_1,\n",
    "               y=counts[peaks_1],\n",
    "               mode=\"markers\",\n",
    "               name=\"gross peaks\",\n",
    "               marker=dict(color='lightblue',\n",
    "                           symbol='cross',\n",
    "                           size=15,\n",
    "                           opacity=0.7,\n",
    "                           line=dict(color='green', width=2.0)\n",
    "                          )\n",
    "              ));\n",
    "# Set title and scale type\n",
    "figw3.update_layout(title_text=\"Gamma-ray net spectrum\")\n",
    "figw3.update_yaxes(type=\"log\");"
   ]
  },
  {
   "cell_type": "code",
   "execution_count": null,
   "id": "e63175af-efb9-4785-a6e0-c9ec992d3e86",
   "metadata": {},
   "outputs": [],
   "source": [
    "figw3.write_html('figw3.html', auto_open=True)"
   ]
  },
  {
   "cell_type": "code",
   "execution_count": null,
   "id": "a9ee36e3-3398-4363-a4f7-206e42fc325c",
   "metadata": {},
   "outputs": [],
   "source": [
    "# Essa será a 1b\n",
    "figw1 = go.FigureWidget();\n",
    "\n",
    "# Add Traces\n",
    "\n",
    "figw1.add_trace(\n",
    "    go.Scatter(x=chans_nzero,\n",
    "               y=counts_nzero,\n",
    "               error_y=dict(\n",
    "                   color='orange',width=3.0,\n",
    "                   type='data', # value of error bar given in data coordinates\n",
    "                   array=unc_y,\n",
    "                   visible=True),\n",
    "               name=\"Counts & uncertaintes\",\n",
    "               line=dict(color='orange',width=0.3)));\n",
    "\n",
    "figw1.add_trace(\n",
    "    go.Scatter(x=chans,\n",
    "               y=eval_y,\n",
    "               name=\"eval_y\",\n",
    "               line=dict(color='blue',width=0.5)));\n",
    "\n",
    "figw1.add_trace(\n",
    "    go.Scatter(x=peaks_1,\n",
    "               y=counts[peaks_1],\n",
    "               mode=\"markers\",\n",
    "               name=\"peaks\",\n",
    "               marker=dict(color='cyan',\n",
    "                           symbol='cross',\n",
    "                           size=20,\n",
    "                           opacity=0.5,\n",
    "                           line=dict(color='red', width=2.0)\n",
    "                          )\n",
    "              ));\n",
    "figw1.add_trace(\n",
    "    go.Scatter(x=peaks_net,\n",
    "               y=counts[peaks_net],\n",
    "               mode=\"markers\",\n",
    "               name=\"net peaks\",\n",
    "               marker=dict(color='red',\n",
    "                           symbol='circle',\n",
    "                           size=20,\n",
    "                           opacity=0.4,\n",
    "                           line=dict(color='green', width=2.0)\n",
    "                          )\n",
    "              ));\n",
    "\n",
    "figw4.add_trace(\n",
    "    go.Scatter(x=inis,\n",
    "               y=eval_y[inis],\n",
    "               mode=\"markers\",\n",
    "               name=\"inis\",\n",
    "               marker=dict(color='yellow',\n",
    "                           symbol='pentagon',\n",
    "                           size=10,\n",
    "                           opacity=1.0,\n",
    "                           line=dict(color='green', width=2.0)\n",
    "                          )\n",
    "              ));\n",
    "\n",
    "figw1.add_trace(\n",
    "    go.Scatter(x=fins,\n",
    "               y=eval_y[fins],\n",
    "               mode=\"markers\",\n",
    "               name=\"fins\",\n",
    "               marker=dict(color='cyan',\n",
    "                           symbol='star-triangle-down',\n",
    "                           size=10,\n",
    "                           opacity=1.0,\n",
    "                           line=dict(color='red', width=2.0)\n",
    "                          )\n",
    "              ));\n",
    "\n",
    "figw1.add_trace(\n",
    "    go.Scatter(x=xs_step_bline,\n",
    "               y=ys_step_bline,\n",
    "               name=\"Step baseline\",\n",
    "               line=dict(color='navy',width=0.4)));\n",
    "\n",
    "# Set title and scale type\n",
    "figw1.update_layout(title_text=\"Gamma-ray spectrum excerpt\")\n",
    "figw1.update_yaxes(type=\"log\");\n",
    "\n",
    "# Melhor não abrir inline, que seria simplesmente entrar com o nome do objeto:\n",
    "# figw2\n",
    "# Além de ficar com visualização incômoda, não funciona no JupyterLab; dá o erro:\n",
    "# Error displaying widget: model not found."
   ]
  },
  {
   "cell_type": "code",
   "execution_count": null,
   "id": "70d3b997-a476-4f8e-bc05-8b2e53a62269",
   "metadata": {},
   "outputs": [],
   "source": [
    "figw4.write_html('figw4.html', auto_open=True)"
   ]
  }
 ],
 "metadata": {
  "kernelspec": {
   "display_name": "Python 3 (ipykernel)",
   "language": "python",
   "name": "python3"
  },
  "language_info": {
   "codemirror_mode": {
    "name": "ipython",
    "version": 3
   },
   "file_extension": ".py",
   "mimetype": "text/x-python",
   "name": "python",
   "nbconvert_exporter": "python",
   "pygments_lexer": "ipython3",
   "version": "3.9.12"
  }
 },
 "nbformat": 4,
 "nbformat_minor": 5
}
