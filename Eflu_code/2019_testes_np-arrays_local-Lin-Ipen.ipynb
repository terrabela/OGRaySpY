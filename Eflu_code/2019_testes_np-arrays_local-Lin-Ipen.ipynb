{
 "cells": [
  {
   "cell_type": "code",
   "execution_count": 52,
   "metadata": {},
   "outputs": [],
   "source": [
    "import numpy as np\n",
    "import numpy.random as npr\n",
    "# Do this (new version)\n",
    "from numpy.random import default_rng\n",
    "rng = default_rng()\n",
    "vals = rng.standard_normal(10)\n",
    "more_vals = rng.standard_normal(10)"
   ]
  },
  {
   "cell_type": "code",
   "execution_count": 18,
   "metadata": {},
   "outputs": [
    {
     "data": {
      "text/plain": [
       "array([13, 14, 15, 16, 17, 18, 19, 20, 21, 22, 23, 24, 25, 26, 27, 28, 29,\n",
       "       30, 31, 32, 33, 34, 35, 36, 37, 38, 39, 40, 41, 42, 43, 44, 45, 46,\n",
       "       47, 48, 49])"
      ]
     },
     "execution_count": 18,
     "metadata": {},
     "output_type": "execute_result"
    }
   ],
   "source": [
    "xs=np.asarray(range(13,50))\n",
    "xs"
   ]
  },
  {
   "cell_type": "code",
   "execution_count": 19,
   "metadata": {},
   "outputs": [
    {
     "data": {
      "text/plain": [
       "array([36, 38, 40, 42, 44, 46, 48, 50, 52, 54])"
      ]
     },
     "execution_count": 19,
     "metadata": {},
     "output_type": "execute_result"
    }
   ],
   "source": [
    "xs[0:10]+xs[10:20]"
   ]
  },
  {
   "cell_type": "code",
   "execution_count": 20,
   "metadata": {},
   "outputs": [
    {
     "data": {
      "text/plain": [
       "array([23, 24, 25, 26, 27, 28, 29, 30, 31, 32])"
      ]
     },
     "execution_count": 20,
     "metadata": {},
     "output_type": "execute_result"
    }
   ],
   "source": [
    "testarr = np.array(xs[10:20])\n",
    "testarr"
   ]
  },
  {
   "cell_type": "code",
   "execution_count": 21,
   "metadata": {},
   "outputs": [
    {
     "data": {
      "text/plain": [
       "array([23, 24, 25, 26, 27, 28, 29, 30, 31, 32])"
      ]
     },
     "execution_count": 21,
     "metadata": {},
     "output_type": "execute_result"
    }
   ],
   "source": [
    "testarr"
   ]
  },
  {
   "cell_type": "code",
   "execution_count": 22,
   "metadata": {},
   "outputs": [
    {
     "data": {
      "text/plain": [
       "275"
      ]
     },
     "execution_count": 22,
     "metadata": {},
     "output_type": "execute_result"
    }
   ],
   "source": [
    "sum(testarr)"
   ]
  },
  {
   "cell_type": "code",
   "execution_count": 23,
   "metadata": {},
   "outputs": [
    {
     "data": {
      "text/plain": [
       "array([ 2,  3,  5,  7, 11, 13, 17, 19, 23, 29])"
      ]
     },
     "execution_count": 23,
     "metadata": {},
     "output_type": "execute_result"
    }
   ],
   "source": [
    "firstprimes = np.array([2,3,5,7,11,13,17,19,23,29])\n",
    "firstprimes"
   ]
  },
  {
   "cell_type": "code",
   "execution_count": 24,
   "metadata": {},
   "outputs": [
    {
     "data": {
      "text/plain": [
       "array([25, 27, 30, 33, 38, 41, 46, 49, 54, 61])"
      ]
     },
     "execution_count": 24,
     "metadata": {},
     "output_type": "execute_result"
    }
   ],
   "source": [
    "testarr + firstprimes"
   ]
  },
  {
   "cell_type": "code",
   "execution_count": 25,
   "metadata": {},
   "outputs": [
    {
     "data": {
      "text/plain": [
       "array([25, 27, 30, 33, 38, 41, 46, 49, 54, 61])"
      ]
     },
     "execution_count": 25,
     "metadata": {},
     "output_type": "execute_result"
    }
   ],
   "source": [
    "np.sum([testarr, firstprimes],axis=0)"
   ]
  },
  {
   "cell_type": "code",
   "execution_count": 26,
   "metadata": {},
   "outputs": [
    {
     "data": {
      "text/plain": [
       "array([275, 129])"
      ]
     },
     "execution_count": 26,
     "metadata": {},
     "output_type": "execute_result"
    }
   ],
   "source": [
    "np.sum([testarr, firstprimes],axis=1)"
   ]
  },
  {
   "cell_type": "code",
   "execution_count": 27,
   "metadata": {},
   "outputs": [
    {
     "data": {
      "text/plain": [
       "array([23, 24, 25, 26, 27, 28, 29, 30, 31, 32])"
      ]
     },
     "execution_count": 27,
     "metadata": {},
     "output_type": "execute_result"
    }
   ],
   "source": [
    "testarr"
   ]
  },
  {
   "cell_type": "code",
   "execution_count": 28,
   "metadata": {},
   "outputs": [],
   "source": [
    "testarr[2:5] += firstprimes[4:7]"
   ]
  },
  {
   "cell_type": "code",
   "execution_count": 29,
   "metadata": {},
   "outputs": [
    {
     "data": {
      "text/plain": [
       "array([23, 24, 36, 39, 44, 28, 29, 30, 31, 32])"
      ]
     },
     "execution_count": 29,
     "metadata": {},
     "output_type": "execute_result"
    }
   ],
   "source": [
    "testarr"
   ]
  },
  {
   "cell_type": "code",
   "execution_count": 30,
   "metadata": {},
   "outputs": [
    {
     "data": {
      "text/plain": [
       "True"
      ]
     },
     "execution_count": 30,
     "metadata": {},
     "output_type": "execute_result"
    }
   ],
   "source": [
    "7==7==7"
   ]
  },
  {
   "cell_type": "code",
   "execution_count": 31,
   "metadata": {},
   "outputs": [
    {
     "data": {
      "text/plain": [
       "False"
      ]
     },
     "execution_count": 31,
     "metadata": {},
     "output_type": "execute_result"
    }
   ],
   "source": [
    "7==7==8"
   ]
  },
  {
   "cell_type": "code",
   "execution_count": 32,
   "metadata": {},
   "outputs": [
    {
     "data": {
      "text/plain": [
       "True"
      ]
     },
     "execution_count": 32,
     "metadata": {},
     "output_type": "execute_result"
    }
   ],
   "source": [
    "7 in range(5,8)"
   ]
  },
  {
   "cell_type": "code",
   "execution_count": 33,
   "metadata": {},
   "outputs": [
    {
     "data": {
      "text/plain": [
       "False"
      ]
     },
     "execution_count": 33,
     "metadata": {},
     "output_type": "execute_result"
    }
   ],
   "source": [
    "7 in range(5,7)"
   ]
  },
  {
   "cell_type": "code",
   "execution_count": 35,
   "metadata": {},
   "outputs": [
    {
     "data": {
      "text/plain": [
       "False"
      ]
     },
     "execution_count": 35,
     "metadata": {},
     "output_type": "execute_result"
    }
   ],
   "source": [
    "range(5,7) in range(2,13)"
   ]
  },
  {
   "cell_type": "code",
   "execution_count": 46,
   "metadata": {},
   "outputs": [
    {
     "data": {
      "text/plain": [
       "array([0, 3, 3, 1, 1, 2, 0, 1, 3, 2, 1, 2, 1, 2, 3, 1, 3, 0, 2, 0, 1, 2,\n",
       "       0, 0, 0, 2, 3, 1, 0, 2, 0, 0, 1, 3, 1, 1, 2, 3, 3, 3, 2, 0, 3, 3,\n",
       "       3, 3, 2, 2, 0, 0, 1, 1, 0, 3, 0, 1, 0, 3, 2, 0, 0, 3, 2, 2, 3, 1,\n",
       "       0, 2, 1, 1, 0, 0, 0, 3, 2, 1, 3, 0, 3, 0, 3, 1, 2, 2, 2, 0, 1, 3,\n",
       "       0, 0, 1, 3, 2, 0, 3, 2, 0, 3, 0, 2])"
      ]
     },
     "execution_count": 46,
     "metadata": {},
     "output_type": "execute_result"
    }
   ],
   "source": [
    "chPks=npr.randint(4,size=100)\n",
    "chPks"
   ]
  },
  {
   "cell_type": "code",
   "execution_count": 47,
   "metadata": {},
   "outputs": [],
   "source": [
    "chPks=npr.randint(8000,size=500)"
   ]
  },
  {
   "cell_type": "code",
   "execution_count": 51,
   "metadata": {},
   "outputs": [
    {
     "data": {
      "text/plain": [
       "array([ 2, 14,  6, 13,  7,  9, 14,  6,  6,  8, 13, 11, 14, 13,  6,  2,  8,\n",
       "       14,  5,  2,  6,  2,  6,  3,  6, 13, 14, 10, 11, 14, 10, 11, 11, 13,\n",
       "       14, 11, 10, 13, 11,  8, 11, 11,  3,  5, 13,  5,  3, 11, 11, 10, 10,\n",
       "        7, 14,  2,  5,  8,  5,  7,  5, 12, 13,  3,  4, 14, 12,  7,  7, 11,\n",
       "       11,  6,  9,  8,  6,  3,  6,  5,  8,  8,  2,  9,  8, 10, 14,  5,  7,\n",
       "        8, 12, 13, 14, 11,  6,  2,  3,  7, 12, 10,  6,  9,  3, 13,  4,  9,\n",
       "        2,  9, 11, 12, 13, 10,  5,  4,  7, 11,  3,  8,  5, 12, 12,  5, 12,\n",
       "       11,  8,  5, 11,  5, 11, 12, 14,  4,  2,  8, 14,  3,  8, 10,  5,  5,\n",
       "        2,  6, 13, 11,  9,  6,  8, 12,  6, 10, 10,  4, 11,  8,  3,  4, 11,\n",
       "        3, 12,  4,  5,  4,  8,  6, 13,  5,  8,  4, 13,  3,  9,  9, 10, 10,\n",
       "        6,  5,  4, 10,  2, 13,  7,  3, 12,  8, 10,  6,  3,  8, 12,  9, 14,\n",
       "       10, 10,  4,  8,  4, 10, 13, 12, 10, 13, 13,  4,  4,  4, 12, 12,  3,\n",
       "        7, 10,  5,  9,  9,  7,  7,  5, 13, 11,  7,  3, 10,  4, 12,  2, 14,\n",
       "        2, 13, 12,  2,  4, 12,  3, 14, 13, 12, 13,  5, 13,  2,  4, 14,  9,\n",
       "       14, 14,  3,  4,  6, 11, 13,  7, 10, 13, 11,  6,  7, 10,  5,  4,  6,\n",
       "        3,  7, 13,  8,  5, 11,  4,  8, 14, 14,  9,  6,  4,  6,  9, 10,  9,\n",
       "       14, 14,  3, 12, 10,  5,  5,  5,  7,  4,  9,  4,  5, 11,  5,  4, 10,\n",
       "       13,  4, 13,  8, 11, 14,  9,  6,  5, 12,  5,  3, 11,  9,  6,  5, 11,\n",
       "        2, 14, 14, 12, 13,  2, 10, 13,  8, 12,  6,  2,  9, 10,  7,  2,  6,\n",
       "        7, 14,  4, 11,  4,  5,  2, 13, 14, 13,  2,  8,  3,  5,  5,  6,  7,\n",
       "        6, 10, 11,  3, 11,  7,  8,  3, 13,  6,  9,  6,  7, 11,  8, 14,  7,\n",
       "        2, 13,  4, 11,  6,  4, 11,  6, 13,  9, 13,  7, 11,  3,  9,  6,  6,\n",
       "        2, 14, 12,  6, 11,  2,  3, 13,  7, 12, 13,  9, 14, 11,  6, 13,  3,\n",
       "       12,  5, 13, 14,  5, 13,  3,  5,  5, 10,  9,  2,  9,  7,  3,  7,  2,\n",
       "        4, 11,  9,  9,  3,  2, 11,  2,  4,  2, 14, 10, 11,  2,  2, 12,  3,\n",
       "        5, 10,  4,  3, 10, 13,  2, 10, 12,  7,  5,  8,  4,  6,  9, 11,  6,\n",
       "       11, 10,  3, 11,  9,  6, 10,  2, 12,  5, 10,  9, 10,  4,  5,  9,  4,\n",
       "       12, 10,  4,  7,  6,  9,  2,  8,  9, 13,  5, 11,  3,  8, 12,  9,  4,\n",
       "       12,  6,  4, 12,  8, 11, 14,  4,  8,  9,  7,  4,  6, 12,  6, 12, 12,\n",
       "       10,  2, 14, 12,  8,  2,  4])"
      ]
     },
     "execution_count": 51,
     "metadata": {},
     "output_type": "execute_result"
    }
   ],
   "source": [
    "sideChs = npr.randint(low=2,high=15,size=chPks.size)\n",
    "sideChs"
   ]
  },
  {
   "cell_type": "code",
   "execution_count": 53,
   "metadata": {},
   "outputs": [
    {
     "data": {
      "text/plain": [
       "array([-1.24365545, -0.63660639,  1.00775455,  1.87677145,  1.53758085,\n",
       "        0.15589889,  1.81843007, -0.74017808, -0.69988847, -0.17754583])"
      ]
     },
     "execution_count": 53,
     "metadata": {},
     "output_type": "execute_result"
    }
   ],
   "source": [
    "vals"
   ]
  },
  {
   "cell_type": "code",
   "execution_count": 54,
   "metadata": {},
   "outputs": [
    {
     "name": "stdout",
     "output_type": "stream",
     "text": [
      "Generator(PCG64)\n",
      "0.22733602246716966\n"
     ]
    }
   ],
   "source": [
    "from numpy.random import default_rng\n",
    "\n",
    "rg = default_rng(12345)\n",
    "\n",
    "print(rg)\n",
    "# Generator(PCG64)\n",
    "\n",
    "print(rg.random())\n",
    "# 0.22733602246716966"
   ]
  },
  {
   "cell_type": "code",
   "execution_count": 55,
   "metadata": {},
   "outputs": [
    {
     "data": {
      "text/plain": [
       "array([[0.77395605, 0.43887844, 0.85859792],\n",
       "       [0.69736803, 0.09417735, 0.97562235],\n",
       "       [0.7611397 , 0.78606431, 0.12811363]])"
      ]
     },
     "execution_count": 55,
     "metadata": {},
     "output_type": "execute_result"
    }
   ],
   "source": [
    "rng = np.random.default_rng(seed=42)\n",
    "\n",
    "arr2 = rng.random((3, 3))\n",
    "\n",
    "arr2\n",
    "#array([[0.77395605, 0.43887844, 0.85859792],\n",
    "#       [0.69736803, 0.09417735, 0.97562235],\n",
    "#       [0.7611397 , 0.78606431, 0.12811363]])\n"
   ]
  },
  {
   "cell_type": "code",
   "execution_count": null,
   "metadata": {},
   "outputs": [],
   "source": []
  }
 ],
 "metadata": {
  "kernelspec": {
   "display_name": "Python 3",
   "language": "python",
   "name": "python3"
  },
  "language_info": {
   "codemirror_mode": {
    "name": "ipython",
    "version": 3
   },
   "file_extension": ".py",
   "mimetype": "text/x-python",
   "name": "python",
   "nbconvert_exporter": "python",
   "pygments_lexer": "ipython3",
   "version": "3.7.7"
  }
 },
 "nbformat": 4,
 "nbformat_minor": 4
}
