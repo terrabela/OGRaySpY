{
 "cells": [
  {
   "cell_type": "code",
   "execution_count": 1,
   "metadata": {},
   "outputs": [],
   "source": [
    "#!/usr/bin/env python3\n",
    "# -*- coding: utf-8 -*-\n",
    "\"\"\"\n",
    "Created on Sat Feb 22 10:40:56 2020\n",
    "\n",
    "@author: marcelo\n",
    "\n",
    "ar1:\n",
    "- array (nx,2), onde:\n",
    "    nx: n'umero total de picos em todas as escalas\n",
    "    x: 'indice do pico\n",
    "    ar1[x,0]: canal inteiro do pico\n",
    "    ar1[x,1]: valor da escala\n",
    "    \n",
    "xpk:\n",
    "- lista (nx), onde:\n",
    "    nx: numero de picos efetivos ap'os an'alise\n",
    "    x: canal inteiro do pico\n",
    "    \n",
    "ypk:\n",
    "- lista (nx), onde:\n",
    "    nx: numero de picos efetivos ap'os an'alise (= nx(xpk))\n",
    "    x: valor da escala\n",
    "\n",
    "\"\"\"\n",
    "\n",
    "import numpy as np\n",
    "\n",
    "from spectrum_analysis import (cwt_complete_analysis, gaussian_complete_analysis, cwt_calc_peaks)\n",
    "from teste_datas import (Spec)\n",
    "\n",
    "from machine_selection import set_screen_size_by_machine\n",
    "from bokeh.plotting import figure, output_file, output_notebook, show\n",
    "from bokeh.layouts import gridplot\n",
    "\n",
    "from bokeh import palettes"
   ]
  },
  {
   "cell_type": "code",
   "execution_count": 2,
   "metadata": {},
   "outputs": [],
   "source": [
    "# 2019-03-15\n",
    "# https://pandas.pydata.org/pandas-docs/stable/getting_started/10min.html\n",
    "import pandas as pd\n",
    "import csv"
   ]
  },
  {
   "cell_type": "code",
   "execution_count": 3,
   "metadata": {},
   "outputs": [],
   "source": [
    "# fn2 = '../Efluentes-gasosos/Filtros-espectros/2018/CTP/CTP2203-3.Chn'\n",
    "fn2 = '../Pesquisa/2020_Mariana_PR/2020_Mariana_PR_Espectros/AgAm3-2911.chn'"
   ]
  },
  {
   "cell_type": "code",
   "execution_count": 4,
   "metadata": {},
   "outputs": [
    {
     "name": "stdout",
     "output_type": "stream",
     "text": [
      "4096\n",
      "4096\n"
     ]
    }
   ],
   "source": [
    "spec2 = Spec()\n",
    "if spec2.readSp( fn2 ) >= 0:\n",
    "    print (spec2.spLngData)\n",
    "    \n",
    "counts = spec2.spCounts\n",
    "print(len(counts))\n",
    "\n",
    "ret = cwt_complete_analysis(counts)\n",
    "# ret = gaussian_complete_analysis(counts)\n",
    "\n",
    "(xs, y0s, ar1, lblimag1, num_feat_imag1, ridges, xpks, ypks,\n",
    " ind_ypks, retang_indicess, peaks_masks, cwtpks, nscpks) = ret"
   ]
  },
  {
   "cell_type": "code",
   "execution_count": 5,
   "metadata": {},
   "outputs": [],
   "source": [
    "# 2020-05-15 Espectros Mariana PR."
   ]
  },
  {
   "cell_type": "code",
   "execution_count": 6,
   "metadata": {},
   "outputs": [
    {
     "data": {
      "text/plain": [
       "4.4"
      ]
     },
     "execution_count": 6,
     "metadata": {},
     "output_type": "execute_result"
    }
   ],
   "source": [
    "np.float32(4.4)"
   ]
  },
  {
   "cell_type": "code",
   "execution_count": 7,
   "metadata": {},
   "outputs": [],
   "source": [
    "# Desativado:"
   ]
  },
  {
   "cell_type": "raw",
   "metadata": {},
   "source": [
    "# https://stackoverflow.com/questions/17098654/how-to-store-a-dataframe-using-pandas\n",
    "dfSpecFiles = pd.read_pickle('todos_si_specs.pkl')\n",
    "# dfSpecFiles = pd.read_pickle('todos_si2019_specs.pkl')\n",
    "dfSpecFiles"
   ]
  },
  {
   "cell_type": "raw",
   "metadata": {},
   "source": [
    "Máscaras:\n",
    "    # o pico deve aparecer em pelo menos nsca_det (default 5) escalas\n",
    "    nscpk_ma = ma.masked_less(nscpks, nsca_det)\n",
    "    # o coeficiente cwt deve ser >= min_cwtpk (default 30.0)\n",
    "    cwtpk_ma = ma.masked_less(cwtpks, min_cwtpk)\n",
    "    # o cwt m'aximo n~ao pode estar pr'oximo aos extremos do ridge\n",
    "    pospk_ma = ma.masked_where( False, valid_position_in_ridges )\n"
   ]
  },
  {
   "cell_type": "code",
   "execution_count": 8,
   "metadata": {},
   "outputs": [],
   "source": [
    "(nscpk_ma, cwtpk_ma, pospk_ma) = peaks_masks\n",
    "valid_peaks = ~(cwtpk_ma.mask | nscpk_ma.mask | ~pospk_ma)"
   ]
  },
  {
   "cell_type": "code",
   "execution_count": null,
   "metadata": {},
   "outputs": [],
   "source": []
  },
  {
   "cell_type": "code",
   "execution_count": 9,
   "metadata": {},
   "outputs": [],
   "source": [
    "default_plot_width, default_plot_height = set_screen_size_by_machine()\n",
    "\n",
    "# Bokeh graph w/ peaks in all scales\n",
    "\n",
    "# Gráfico de ridges com qualidade dos picos pelas cores e tamanhos:\n",
    "\n",
    "# Navy 2:     pontos dos ridgest\n",
    "# Vermelho 8: picos válidos\n",
    "# Laranja 8:  inválido, aparece em poucas escalas  \n",
    "# Verde 6:    inválido, muito pequeno (pelo coeficiente cwt)\n",
    "# Ciano 3:    inválido, forma ruim (cwt perto dos extremos do ridge)\n",
    "\n",
    "bokridges1 = figure(\n",
    "   plot_width =default_plot_width,\n",
    "   plot_height=int(default_plot_height*0.5),\n",
    "   tools=\"pan,box_zoom,reset,save\",\n",
    "   # x_axis_label='channels',\n",
    "   y_axis_label='scale',\n",
    "   title=fn2,\n",
    ")\n",
    "bokridges1.circle(ar1[:,0], ar1[:,1], color=\"navy\",size=2)\n",
    "bokridges1.circle(xpks[valid_peaks], ypks[valid_peaks], color=\"red\",size=8)\n",
    "bokridges1.circle(xpks[nscpk_ma.mask], ypks[nscpk_ma.mask], color=\"orange\",size=8)\n",
    "bokridges1.circle(xpks[cwtpk_ma.mask], ypks[cwtpk_ma.mask], color=\"green\",size=6)\n",
    "bokridges1.circle(xpks[~pospk_ma], ypks[~pospk_ma], color=\"cyan\",size=3)\n",
    "bokridges2 = figure(\n",
    "   plot_width =default_plot_width,\n",
    "   plot_height=int(default_plot_height*0.5),\n",
    "   tools=\"pan,box_zoom,reset,save\",\n",
    "   y_axis_type=\"log\", y_range=[1.0e1, 1.0e5],\n",
    "   x_axis_label='channels', y_axis_label='counts'\n",
    ")\n",
    "bokridges2.line(xs, y0s, color=\"green\")\n",
    "# https://docs.bokeh.org/en/latest/docs/reference/layouts.html\n",
    "p = gridplot([bokridges1, bokridges2], ncols=1)\n",
    "show(p)"
   ]
  },
  {
   "cell_type": "code",
   "execution_count": 10,
   "metadata": {},
   "outputs": [
    {
     "data": {
      "text/plain": [
       "array([ 111,  153,  226,  345,  350,  460,  492,  593,  692,  845,  878,\n",
       "       1158, 1279, 1426, 1461, 1495, 1525, 1823, 2013, 2286, 2512, 2812,\n",
       "       3669, 1744,  322])"
      ]
     },
     "execution_count": 10,
     "metadata": {},
     "output_type": "execute_result"
    }
   ],
   "source": [
    "valid_xpks = np.asarray(xpks)[valid_peaks]\n",
    "valid_xpks"
   ]
  },
  {
   "cell_type": "code",
   "execution_count": 11,
   "metadata": {},
   "outputs": [
    {
     "data": {
      "text/plain": [
       "array([ 2.62987755,  2.41991837,  4.09959184,  2.83983673, 11.86808163,\n",
       "        3.67967347,  3.46971429,  3.46971429,  3.46971429,  6.82906122,\n",
       "        2.62987755,  6.19918367,  6.61910204,  9.13861224,  4.30955102,\n",
       "        4.30955102,  3.67967347,  3.88963265,  3.67967347,  5.35934694,\n",
       "        9.7684898 ,  4.09959184,  5.35934694, 10.18840816,  2.83983673])"
      ]
     },
     "execution_count": 11,
     "metadata": {},
     "output_type": "execute_result"
    }
   ],
   "source": [
    "valid_ypks = np.asarray(ypks)[valid_peaks]\n",
    "valid_ypks"
   ]
  },
  {
   "cell_type": "code",
   "execution_count": 12,
   "metadata": {},
   "outputs": [
    {
     "data": {
      "text/plain": [
       "array([ 315.60988264,  384.37031546,  942.31011778,   97.92719052,\n",
       "        145.50552394,  587.82621701,  164.97722366,  289.10352168,\n",
       "         49.01765747,   57.01773419,   79.83384172,   30.00778554,\n",
       "       1465.24540443,   53.05132051,   95.2971835 ,   44.6034454 ,\n",
       "         67.93598   ,   33.48617446,   75.17344877,   60.92771669,\n",
       "         43.74211686,   32.52200065,  313.236379  ,   46.02902073,\n",
       "         56.80832437])"
      ]
     },
     "execution_count": 12,
     "metadata": {},
     "output_type": "execute_result"
    }
   ],
   "source": [
    "valid_cwtpks = np.asarray(cwtpks)[valid_peaks]\n",
    "valid_cwtpks"
   ]
  },
  {
   "cell_type": "code",
   "execution_count": 13,
   "metadata": {},
   "outputs": [
    {
     "data": {
      "text/plain": [
       "array([0.000e+00, 1.000e+00, 2.000e+00, ..., 4.093e+03, 4.094e+03,\n",
       "       4.095e+03])"
      ]
     },
     "execution_count": 13,
     "metadata": {},
     "output_type": "execute_result"
    }
   ],
   "source": [
    "xs"
   ]
  },
  {
   "cell_type": "code",
   "execution_count": 14,
   "metadata": {},
   "outputs": [
    {
     "data": {
      "text/plain": [
       "array([   0,    0,    0, ..., 2653, 2587, 2602])"
      ]
     },
     "execution_count": 14,
     "metadata": {},
     "output_type": "execute_result"
    }
   ],
   "source": [
    "y0s"
   ]
  },
  {
   "cell_type": "code",
   "execution_count": null,
   "metadata": {},
   "outputs": [],
   "source": []
  },
  {
   "cell_type": "code",
   "execution_count": 15,
   "metadata": {},
   "outputs": [],
   "source": [
    "step2 = cwt_calc_peaks(valid_xpks, valid_ypks, valid_cwtpks, xs, y0s)"
   ]
  },
  {
   "cell_type": "code",
   "execution_count": 16,
   "metadata": {},
   "outputs": [
    {
     "data": {
      "text/plain": [
       "array([ 111,  153,  226,  345,  350,  460,  492,  593,  692,  845,  868,\n",
       "        878, 1040, 1062, 1158, 1177, 1279, 1426, 1461, 1495, 1525, 1625,\n",
       "       1648, 1680, 1823, 1910, 2013, 2040, 2099, 2286, 2318, 2413, 2465,\n",
       "       2512, 2569, 2580, 2614, 2669, 2683, 2736, 2798, 2812, 2831, 2842,\n",
       "       2853, 2877, 2943, 2989, 3005, 3108, 3126, 3241, 3343, 3413, 3535,\n",
       "       3557, 3570, 3669, 3774, 3793, 3822, 3849, 1012, 1744, 2549,  322,\n",
       "       1052, 1776, 3222, 1896, 2628,  792, 2177, 2652, 3025, 3044, 3495,\n",
       "       1921, 1093, 1859])"
      ]
     },
     "execution_count": 16,
     "metadata": {},
     "output_type": "execute_result"
    }
   ],
   "source": [
    "xpks[pospk_ma]\n"
   ]
  },
  {
   "cell_type": "code",
   "execution_count": null,
   "metadata": {},
   "outputs": [],
   "source": []
  },
  {
   "cell_type": "code",
   "execution_count": 17,
   "metadata": {},
   "outputs": [],
   "source": [
    "(azes, bezes, centrpk, ypkregs, fwhms, gau_areas, peak_constructed_spectrum,\n",
    "           baseline_spectrum, bl_median_smoother) = step2"
   ]
  },
  {
   "cell_type": "code",
   "execution_count": 18,
   "metadata": {},
   "outputs": [
    {
     "data": {
      "text/plain": [
       "[array([106., 107., 108., 109., 110., 111., 112., 113., 114., 115., 116.]),\n",
       " array([148., 149., 150., 151., 152., 153., 154., 155., 156., 157., 158.]),\n",
       " array([221., 222., 223., 224., 225., 226., 227., 228., 229., 230., 231.]),\n",
       " array([340., 341., 342., 343., 344., 345., 346., 347., 348., 349., 350.]),\n",
       " array([345., 346., 347., 348., 349., 350., 351., 352., 353., 354., 355.]),\n",
       " array([455., 456., 457., 458., 459., 460., 461., 462., 463., 464., 465.]),\n",
       " array([487., 488., 489., 490., 491., 492., 493., 494., 495., 496., 497.]),\n",
       " array([588., 589., 590., 591., 592., 593., 594., 595., 596., 597., 598.]),\n",
       " array([687., 688., 689., 690., 691., 692., 693., 694., 695., 696., 697.]),\n",
       " array([840., 841., 842., 843., 844., 845., 846., 847., 848., 849., 850.]),\n",
       " array([873., 874., 875., 876., 877., 878., 879., 880., 881., 882., 883.]),\n",
       " array([1153., 1154., 1155., 1156., 1157., 1158., 1159., 1160., 1161.,\n",
       "        1162., 1163.]),\n",
       " array([1274., 1275., 1276., 1277., 1278., 1279., 1280., 1281., 1282.,\n",
       "        1283., 1284.]),\n",
       " array([1421., 1422., 1423., 1424., 1425., 1426., 1427., 1428., 1429.,\n",
       "        1430., 1431.]),\n",
       " array([1456., 1457., 1458., 1459., 1460., 1461., 1462., 1463., 1464.,\n",
       "        1465., 1466.]),\n",
       " array([1490., 1491., 1492., 1493., 1494., 1495., 1496., 1497., 1498.,\n",
       "        1499., 1500.]),\n",
       " array([1520., 1521., 1522., 1523., 1524., 1525., 1526., 1527., 1528.,\n",
       "        1529., 1530.]),\n",
       " array([1818., 1819., 1820., 1821., 1822., 1823., 1824., 1825., 1826.,\n",
       "        1827., 1828.]),\n",
       " array([2008., 2009., 2010., 2011., 2012., 2013., 2014., 2015., 2016.,\n",
       "        2017., 2018.]),\n",
       " array([2281., 2282., 2283., 2284., 2285., 2286., 2287., 2288., 2289.,\n",
       "        2290., 2291.]),\n",
       " array([2507., 2508., 2509., 2510., 2511., 2512., 2513., 2514., 2515.,\n",
       "        2516., 2517.]),\n",
       " array([2807., 2808., 2809., 2810., 2811., 2812., 2813., 2814., 2815.,\n",
       "        2816., 2817.]),\n",
       " array([3664., 3665., 3666., 3667., 3668., 3669., 3670., 3671., 3672.,\n",
       "        3673., 3674.]),\n",
       " array([1739., 1740., 1741., 1742., 1743., 1744., 1745., 1746., 1747.,\n",
       "        1748., 1749.]),\n",
       " array([317., 318., 319., 320., 321., 322., 323., 324., 325., 326., 327.])]"
      ]
     },
     "execution_count": 18,
     "metadata": {},
     "output_type": "execute_result"
    }
   ],
   "source": [
    "azes"
   ]
  },
  {
   "cell_type": "code",
   "execution_count": 19,
   "metadata": {},
   "outputs": [
    {
     "data": {
      "text/plain": [
       "25"
      ]
     },
     "execution_count": 19,
     "metadata": {},
     "output_type": "execute_result"
    }
   ],
   "source": [
    "len(azes)"
   ]
  },
  {
   "cell_type": "code",
   "execution_count": 20,
   "metadata": {},
   "outputs": [
    {
     "data": {
      "text/plain": [
       "[array([  0. ,  49.9,  58.8,  92.7, 210.6, 273.5,  96.4,  21.3, -29.8,\n",
       "        -43.9,   0. ]),\n",
       " array([  0.,   1.,  59., 137., 279., 284., 197.,  41., -37., -15.,   0.]),\n",
       " array([  0. ,  15.5,  73. , 192.5, 437. , 668.5, 715. , 429.5, 157. ,\n",
       "         96.5,   0. ]),\n",
       " array([  0.,  24.,  54.,   4., 102., 114.,  63.,  53.,  28.,  79.,   0.]),\n",
       " array([   0. ,  -55.5,  -70. ,  -99.5,  -53. , -136.5,  -89. , -111.5,\n",
       "         -78. ,  -42.5,    0. ]),\n",
       " array([  0.,  14.,  18., 152., 305., 423., 439., 159.,  64.,  35.,   0.]),\n",
       " array([  0. , -24.8,  22.4,  22.6, 109.8, 102. ,  99.2,  57.4,  16.6,\n",
       "         28.8,   0. ]),\n",
       " array([  0. ,  13.5,  44. , 141.5, 177. , 207.5, 201. ,  65.5,  49. ,\n",
       "         31.5,   0. ]),\n",
       " array([ 0. , 34.7, 42.4, 54.1, 13.8, 50.5, 56.2, 28.9, 28.6,  8.3,  0. ]),\n",
       " array([  0. ,  -8.4,  14.2,  21.8,   9.4,  -5. ,  -8.4,  27.2,   1.8,\n",
       "        -18.6,   0. ]),\n",
       " array([  0. ,   1.3,  18.6,  22.9,  53.2,  57.5,  26.8,   4.1, -26.6,\n",
       "         -1.3,   0. ]),\n",
       " array([  0. , -21.7,  -4.4,  -0.1,   9.2,  -5.5,   8.8,  -1.9,  -6.6,\n",
       "         -1.3,   0. ]),\n",
       " array([  0. , 113.9, 322.8, 462.7, 553.6, 549.5, 510.4, 343.3, 173.2,\n",
       "         62.1,   0. ]),\n",
       " array([  0.,   6., -12.,   2.,  20.,  39.,  24.,  10.,  -3.,  15.,   0.]),\n",
       " array([ 0. ,  5.2, 35.4, 56.6, 56.8, 45. , 55.2,  4.4, -9.4, 12.8,  0. ]),\n",
       " array([  0. ,  -1.6,  17.8,   8.2,   3.6,  16. ,  23.4,  -1.2, -11.8,\n",
       "         11.6,   0. ]),\n",
       " array([ 0. ,  3.5, 12. , 24.5, 47. , 45.5, 43. , 34.5, 24. , 20.5,  0. ]),\n",
       " array([ 0. , 12.3,  0.6, 10.9, 32.2, 20.5, 14.8, -0.9,  1.4, -3.3,  0. ]),\n",
       " array([ 0. , 19.2,  7.4, 17.6, 38.8, 67. , 33.2, 12.4,  6.6, -0.2,  0. ]),\n",
       " array([ 0. ,  0.9, 22.8, 24.7, 36.6, 29.5, 31.4, 12.3, 13.2,  5.1,  0. ]),\n",
       " array([ 0. ,  4.7, 17.4, 25.1, 26.8, 22.5, 30.2, 11.9, 19.6,  7.3,  0. ]),\n",
       " array([ 0. ,  4.9,  8.8, 11.7, 20.6, 34.5, 16.4,  9.3,  8.2,  6.1,  0. ]),\n",
       " array([  0. ,  71.8,  73.6, 130.4, 166.2, 191. , 150.8,  88.6,  59.4,\n",
       "         19.2,   0. ]),\n",
       " array([  0. ,  -6.6, -25.2, -15.8,   0.6, -27. , -17.6,   0.8, -12.8,\n",
       "        -18.4,   0. ]),\n",
       " array([ 0. , 29.5, 18. , 37.5, 50. , 64.5, 49. , 30.5, 45. , 33.5,  0. ])]"
      ]
     },
     "execution_count": 20,
     "metadata": {},
     "output_type": "execute_result"
    }
   ],
   "source": [
    "bezes"
   ]
  },
  {
   "cell_type": "code",
   "execution_count": 21,
   "metadata": {},
   "outputs": [
    {
     "data": {
      "text/plain": [
       "[109.76901987662785,\n",
       " 152.33826638477802,\n",
       " 226.4769258394685,\n",
       " 345.38579654510556,\n",
       " 350.043507817811,\n",
       " 460.2299564947172,\n",
       " 492.58986175115206,\n",
       " 592.9559376679205,\n",
       " 691.5118110236219,\n",
       " 842.5,\n",
       " 876.6581469648562,\n",
       " 1154.9787234042553,\n",
       " 1278.6965874171115,\n",
       " 1426.8217821782177,\n",
       " 1460.1984732824428,\n",
       " 1494.469696969697,\n",
       " 1525.4715127701375,\n",
       " 1821.8587570621469,\n",
       " 2012.5247524752476,\n",
       " 2285.762039660057,\n",
       " 2511.963746223565,\n",
       " 2811.95020746888,\n",
       " 3668.6298633017873,\n",
       " 1743.9590163934429,\n",
       " 322.22937062937064]"
      ]
     },
     "execution_count": 21,
     "metadata": {},
     "output_type": "execute_result"
    }
   ],
   "source": [
    "centrpk"
   ]
  },
  {
   "cell_type": "code",
   "execution_count": 22,
   "metadata": {},
   "outputs": [],
   "source": [
    "#azes, bezes, centrpk, ypkregs, fwhms, gau_areas, peak_constructed_spectrum,\n",
    "#           baseline_spectrum, bl_median_smoother) = step2"
   ]
  },
  {
   "cell_type": "code",
   "execution_count": 23,
   "metadata": {},
   "outputs": [
    {
     "data": {
      "text/plain": [
       "array([  0. ,  49.9,  58.8,  92.7, 210.6, 273.5,  96.4,  21.3, -29.8,\n",
       "       -43.9,   0. ])"
      ]
     },
     "execution_count": 23,
     "metadata": {},
     "output_type": "execute_result"
    }
   ],
   "source": [
    "bezes[0]"
   ]
  },
  {
   "cell_type": "code",
   "execution_count": 24,
   "metadata": {},
   "outputs": [
    {
     "data": {
      "text/plain": [
       "[775.7259619502651,\n",
       " 906.2336141267638,\n",
       " 2891.7059795068794,\n",
       " 250.1151221409895,\n",
       " 759.7307634959105,\n",
       " 1709.0058973732223,\n",
       " 465.7585293330288,\n",
       " 816.1880052324423,\n",
       " 138.38511492661289,\n",
       " 225.82937213888323,\n",
       " 196.22067328345963,\n",
       " 113.23773352692267,\n",
       " 5713.468995795589,\n",
       " 243.06716329804183,\n",
       " 299.8375686451004,\n",
       " 140.33771125333934,\n",
       " 197.51244008032197,\n",
       " 100.09440404551438,\n",
       " 218.55416371531211,\n",
       " 213.77691617812425,\n",
       " 207.20654964869436,\n",
       " 99.80160667164243,\n",
       " 1099.051643157564,\n",
       " 222.67674883759994,\n",
       " 145.09372640632992]"
      ]
     },
     "execution_count": 24,
     "metadata": {},
     "output_type": "execute_result"
    }
   ],
   "source": [
    "gau_areas"
   ]
  },
  {
   "cell_type": "code",
   "execution_count": 25,
   "metadata": {},
   "outputs": [],
   "source": [
    "# 2020-02-24\n",
    "# Tudo em progresso! Agora:\n",
    "# - Fazer os gr'aficos\n",
    "# - fazer em v'arias passadas o c'alculo at'e n~ao haver picos na linha-base."
   ]
  },
  {
   "cell_type": "code",
   "execution_count": 26,
   "metadata": {},
   "outputs": [],
   "source": [
    "# Bokeh graph w/ peaks in all scales\n",
    "bokpksallscl = figure(\n",
    "   plot_width =default_plot_width,\n",
    "   plot_height=default_plot_height,\n",
    "   tools=\"pan,box_zoom,reset,save\",\n",
    "   y_axis_type=\"log\",\n",
    "   y_range=[10**1, 10**5],\n",
    "   title=fn2,\n",
    "   # y_range=[-1000.0, 1000.0],\n",
    "   x_axis_label='channels', y_axis_label='counts'\n",
    ")\n",
    "# bokpksallscl.circle(ar1[:,0], ar1[:,1], legend_label=\"cwt peaks\", color=\"navy\",size=2)\n",
    "bokpksallscl.line(xs, y0s, color=\"green\")\n",
    "bokpksallscl.line(xs, peak_constructed_spectrum, color=\"red\")\n",
    "bokpksallscl.line(xs, bl_median_smoother, color=\"orange\")\n",
    "bokpksallscl.line(xs, peak_constructed_spectrum+bl_median_smoother, color=\"blue\")\n",
    "\n",
    "# bokpksallscl.cross(pk_per_scal[ 0], y0s[pk_per_scal[ 0]]*1.01, color=\"red\",size=2)\n",
    "show(bokpksallscl)"
   ]
  },
  {
   "cell_type": "code",
   "execution_count": 27,
   "metadata": {},
   "outputs": [],
   "source": [
    "# Bokeh graph w/ peaks in all scales\n",
    "bok2 = figure(\n",
    "   plot_width =default_plot_width,\n",
    "   plot_height=default_plot_height,\n",
    "   tools=\"pan,box_zoom,reset,save\",\n",
    "   # y_axis_type=\"log\",\n",
    "   # y_range=[10**1, 10**5],\n",
    "   title=fn2,\n",
    "   # y_range=[-1000.0, 1000.0], title=\"synth\",\n",
    "   x_axis_label='channels', y_axis_label='counts'\n",
    ")\n",
    "# bokpksallscl.circle(ar1[:,0], ar1[:,1], legend_label=\"cwt peaks\", color=\"navy\",size=2)\n",
    "# bokpksallscl.line(xs, y0s, color=\"green\")\n",
    "bok2.line(xs, peak_constructed_spectrum, color=\"red\")\n",
    "# bokpksallscl.line(xs, bl_median_smoother, color=\"cyan\")\n",
    "# bokpksallscl.line(xs, peak_constructed_spectrum+bl_median_smoother, color=\"blue\")\n",
    "\n",
    "# bokpksallscl.cross(pk_per_scal[ 0], y0s[pk_per_scal[ 0]]*1.01, color=\"red\",size=2)\n",
    "show(bok2)"
   ]
  },
  {
   "cell_type": "code",
   "execution_count": 28,
   "metadata": {},
   "outputs": [],
   "source": [
    "# 2020-02-25 Segunda passada:\n",
    "# 2020-05-15 Por enquanto deixarei desativada; mas posso fazer manualmente, bastando rodar\n",
    "#            as duas células seguintes e repetir o trecho que se inicia logo após\n",
    "#            a determinação de valid_peaks."
   ]
  },
  {
   "cell_type": "raw",
   "metadata": {},
   "source": [
    "ret2 = cwt_complete_analysis(bl_median_smoother)\n",
    "\n",
    "(xs, y0s, ar1, lblimag1, num_feat_imag1, ridges, xpks, ypks,\n",
    " ind_ypks, retang_indicess, peaks_masks, cwtpks, nscpks) = ret2"
   ]
  },
  {
   "cell_type": "raw",
   "metadata": {},
   "source": [
    "(nscpk_ma, cwtpk_ma, pospk_ma) = peaks_masks\n",
    "valid_peaks = ~(cwtpk_ma.mask | nscpk_ma.mask | ~pospk_ma)"
   ]
  },
  {
   "cell_type": "code",
   "execution_count": null,
   "metadata": {},
   "outputs": [],
   "source": []
  },
  {
   "cell_type": "code",
   "execution_count": 29,
   "metadata": {},
   "outputs": [],
   "source": [
    "# 2020-05-17 Continuando para cada espectro. Este é AgAm3-2911.chn"
   ]
  },
  {
   "cell_type": "code",
   "execution_count": 30,
   "metadata": {},
   "outputs": [
    {
     "data": {
      "text/plain": [
       "datetime.datetime(2020, 2, 3, 14, 36, 28)"
      ]
     },
     "execution_count": 30,
     "metadata": {},
     "output_type": "execute_result"
    }
   ],
   "source": [
    "spec2.diahora"
   ]
  },
  {
   "cell_type": "code",
   "execution_count": 31,
   "metadata": {},
   "outputs": [
    {
     "data": {
      "text/plain": [
       "-1"
      ]
     },
     "execution_count": 31,
     "metadata": {},
     "output_type": "execute_result"
    }
   ],
   "source": [
    "spec2.spType"
   ]
  },
  {
   "cell_type": "raw",
   "metadata": {},
   "source": [
    "spec2.chnVersion"
   ]
  },
  {
   "cell_type": "code",
   "execution_count": 32,
   "metadata": {},
   "outputs": [
    {
     "name": "stdout",
     "output_type": "stream",
     "text": [
      "2.6155457496643066\n",
      "0.3980768024921417\n",
      "-1.0149523888003387e-07\n",
      "2.674441337585449\n",
      "-0.0004642767598852515\n",
      "2.759846893241047e-07\n",
      "13\n",
      "MCB 1 Input 1\n",
      "59\n",
      "Agua Am 3- 29/11 - m=101.4g - Sel 17/12/2019 - F100 (Det C)\n"
     ]
    }
   ],
   "source": [
    "print(spec2.enCalZinpt)\n",
    "print(spec2.enCalSlope)\n",
    "print(spec2.enCalQuadr)\n",
    "print(spec2.pkShpZinpt)\n",
    "print(spec2.pkShpSlope)\n",
    "print(spec2.pkShpQuadr)\n",
    "print(spec2.lenDetDesc)\n",
    "print(spec2.detDesc)\n",
    "print(spec2.lenSamDesc)\n",
    "print(spec2.samDesc)"
   ]
  },
  {
   "cell_type": "code",
   "execution_count": null,
   "metadata": {},
   "outputs": [],
   "source": []
  },
  {
   "cell_type": "code",
   "execution_count": 49,
   "metadata": {},
   "outputs": [
    {
     "name": "stdout",
     "output_type": "stream",
     "text": [
      "250000.0\n"
     ]
    }
   ],
   "source": [
    "print(spec2.spLVTime)"
   ]
  },
  {
   "cell_type": "code",
   "execution_count": 50,
   "metadata": {},
   "outputs": [
    {
     "name": "stdout",
     "output_type": "stream",
     "text": [
      "250119.88\n"
     ]
    }
   ],
   "source": [
    "print(spec2.spRLTime)"
   ]
  },
  {
   "cell_type": "code",
   "execution_count": 51,
   "metadata": {},
   "outputs": [
    {
     "name": "stdout",
     "output_type": "stream",
     "text": [
      "2020-02-03 14:36:28\n"
     ]
    }
   ],
   "source": [
    "print(spec2.diahora)"
   ]
  },
  {
   "cell_type": "code",
   "execution_count": null,
   "metadata": {},
   "outputs": [],
   "source": []
  }
 ],
 "metadata": {
  "kernelspec": {
   "display_name": "Python 3",
   "language": "python",
   "name": "python3"
  },
  "language_info": {
   "codemirror_mode": {
    "name": "ipython",
    "version": 3
   },
   "file_extension": ".py",
   "mimetype": "text/x-python",
   "name": "python",
   "nbconvert_exporter": "python",
   "pygments_lexer": "ipython3",
   "version": "3.7.7"
  }
 },
 "nbformat": 4,
 "nbformat_minor": 4
}
