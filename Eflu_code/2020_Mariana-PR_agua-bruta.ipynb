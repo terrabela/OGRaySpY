{
 "cells": [
  {
   "cell_type": "code",
   "execution_count": 1,
   "metadata": {},
   "outputs": [],
   "source": [
    "#!/usr/bin/env python3\n",
    "# -*- coding: utf-8 -*-\n",
    "\"\"\"\n",
    "Created on Sat Feb 22 10:40:56 2020\n",
    "\n",
    "@author: marcelo\n",
    "\n",
    "ar1:\n",
    "- array (nx,2), onde:\n",
    "    nx: n'umero total de picos em todas as escalas\n",
    "    x: 'indice do pico\n",
    "    ar1[x,0]: canal inteiro do pico\n",
    "    ar1[x,1]: valor da escala\n",
    "    \n",
    "xpk:\n",
    "- lista (nx), onde:\n",
    "    nx: numero de picos efetivos ap'os an'alise\n",
    "    x: canal inteiro do pico\n",
    "    \n",
    "ypk:\n",
    "- lista (nx), onde:\n",
    "    nx: numero de picos efetivos ap'os an'alise (= nx(xpk))\n",
    "    x: valor da escala\n",
    "\n",
    "\"\"\"\n",
    "\n",
    "import numpy as np\n",
    "\n",
    "from spectrum_analysis import (cwt_complete_analysis, gaussian_complete_analysis, cwt_calc_peaks)\n",
    "from teste_datas import (Spec)\n",
    "\n",
    "from machine_selection import set_screen_size_by_machine\n",
    "from bokeh.plotting import figure, output_file, output_notebook, show\n",
    "from bokeh.layouts import gridplot\n",
    "\n",
    "from bokeh import palettes"
   ]
  },
  {
   "cell_type": "code",
   "execution_count": 2,
   "metadata": {},
   "outputs": [],
   "source": [
    "# 2019-03-15\n",
    "# https://pandas.pydata.org/pandas-docs/stable/getting_started/10min.html\n",
    "import pandas as pd\n",
    "import csv"
   ]
  },
  {
   "cell_type": "code",
   "execution_count": 3,
   "metadata": {},
   "outputs": [],
   "source": [
    "# fn2 = '../Efluentes-gasosos/Filtros-espectros/2018/CTP/CTP2203-3.Chn'\n",
    "fn2 = '../Pesquisa/2020_Mariana_PR/2020_Mariana_PR_Espectros/espectros-det-projeto/agua-bruta.IEC'"
   ]
  },
  {
   "cell_type": "code",
   "execution_count": 4,
   "metadata": {},
   "outputs": [
    {
     "name": "stdout",
     "output_type": "stream",
     "text": [
      "8192\n",
      "8192\n"
     ]
    }
   ],
   "source": [
    "spec2 = Spec()\n",
    "if spec2.readSp( fn2 ) >= 0:\n",
    "    print (spec2.spLngData)\n",
    "    \n",
    "counts = spec2.spCounts\n",
    "print(len(counts))\n",
    "\n",
    "ret = cwt_complete_analysis(counts)\n",
    "# ret = gaussian_complete_analysis(counts)\n",
    "\n",
    "(xs, y0s, ar1, lblimag1, num_feat_imag1, ridges, xpks, ypks,\n",
    " ind_ypks, retang_indicess, peaks_masks, cwtpks, nscpks) = ret"
   ]
  },
  {
   "cell_type": "code",
   "execution_count": 5,
   "metadata": {},
   "outputs": [],
   "source": [
    "# 2020-05-15 Espectros Mariana PR."
   ]
  },
  {
   "cell_type": "code",
   "execution_count": 6,
   "metadata": {},
   "outputs": [
    {
     "data": {
      "text/plain": [
       "teste_datas.Spec"
      ]
     },
     "execution_count": 6,
     "metadata": {},
     "output_type": "execute_result"
    }
   ],
   "source": [
    "type(spec2)"
   ]
  },
  {
   "cell_type": "code",
   "execution_count": 7,
   "metadata": {},
   "outputs": [],
   "source": [
    "# Desativado:"
   ]
  },
  {
   "cell_type": "raw",
   "metadata": {},
   "source": [
    "# https://stackoverflow.com/questions/17098654/how-to-store-a-dataframe-using-pandas\n",
    "dfSpecFiles = pd.read_pickle('todos_si_specs.pkl')\n",
    "# dfSpecFiles = pd.read_pickle('todos_si2019_specs.pkl')\n",
    "dfSpecFiles"
   ]
  },
  {
   "cell_type": "raw",
   "metadata": {},
   "source": [
    "Máscaras:\n",
    "    # o pico deve aparecer em pelo menos nsca_det (default 5) escalas\n",
    "    nscpk_ma = ma.masked_less(nscpks, nsca_det)\n",
    "    # o coeficiente cwt deve ser >= min_cwtpk (default 30.0)\n",
    "    cwtpk_ma = ma.masked_less(cwtpks, min_cwtpk)\n",
    "    # o cwt m'aximo n~ao pode estar pr'oximo aos extremos do ridge\n",
    "    pospk_ma = ma.masked_where( False, valid_position_in_ridges )\n"
   ]
  },
  {
   "cell_type": "code",
   "execution_count": 8,
   "metadata": {},
   "outputs": [],
   "source": [
    "(nscpk_ma, cwtpk_ma, pospk_ma) = peaks_masks\n",
    "valid_peaks = ~(cwtpk_ma.mask | nscpk_ma.mask | ~pospk_ma)"
   ]
  },
  {
   "cell_type": "code",
   "execution_count": null,
   "metadata": {},
   "outputs": [],
   "source": []
  },
  {
   "cell_type": "code",
   "execution_count": 9,
   "metadata": {},
   "outputs": [],
   "source": [
    "default_plot_width, default_plot_height = set_screen_size_by_machine()\n",
    "\n",
    "# Bokeh graph w/ peaks in all scales\n",
    "\n",
    "# Gráfico de ridges com qualidade dos picos pelas cores e tamanhos:\n",
    "\n",
    "# Navy 2:     pontos dos ridgest\n",
    "# Vermelho 8: picos válidos\n",
    "# Laranja 8:  inválido, aparece em poucas escalas  \n",
    "# Verde 6:    inválido, muito pequeno (pelo coeficiente cwt)\n",
    "# Ciano 3:    inválido, forma ruim (cwt perto dos extremos do ridge)\n",
    "\n",
    "bokridges1 = figure(\n",
    "   plot_width =default_plot_width,\n",
    "   plot_height=int(default_plot_height*0.5),\n",
    "   tools=\"pan,box_zoom,reset,save\",\n",
    "   # x_axis_label='channels',\n",
    "   y_axis_label='scale',\n",
    "   title=fn2,\n",
    ")\n",
    "bokridges1.circle(ar1[:,0], ar1[:,1], color=\"navy\",size=2)\n",
    "bokridges1.circle(xpks[valid_peaks], ypks[valid_peaks], color=\"red\",size=8)\n",
    "bokridges1.circle(xpks[nscpk_ma.mask], ypks[nscpk_ma.mask], color=\"orange\",size=8)\n",
    "bokridges1.circle(xpks[cwtpk_ma.mask], ypks[cwtpk_ma.mask], color=\"green\",size=6)\n",
    "bokridges1.circle(xpks[~pospk_ma], ypks[~pospk_ma], color=\"cyan\",size=3)\n",
    "bokridges2 = figure(\n",
    "   plot_width =default_plot_width,\n",
    "   plot_height=int(default_plot_height*0.5),\n",
    "   tools=\"pan,box_zoom,reset,save\",\n",
    "   y_axis_type=\"log\", y_range=[1.0e1, 1.0e5],\n",
    "   x_axis_label='channels', y_axis_label='counts'\n",
    ")\n",
    "bokridges2.line(xs, y0s, color=\"green\")\n",
    "# https://docs.bokeh.org/en/latest/docs/reference/layouts.html\n",
    "p = gridplot([bokridges1, bokridges2], ncols=1)\n",
    "show(p)"
   ]
  },
  {
   "cell_type": "code",
   "execution_count": 10,
   "metadata": {},
   "outputs": [
    {
     "data": {
      "text/plain": [
       "array([ 113,  158,  236,  321,  391,  427,  442,  470,  709,  729,  828,\n",
       "        941, 1005, 1209, 1713, 1783, 2587, 2953, 3084, 4067, 7403,  827])"
      ]
     },
     "execution_count": 10,
     "metadata": {},
     "output_type": "execute_result"
    }
   ],
   "source": [
    "valid_xpks = np.asarray(xpks)[valid_peaks]\n",
    "valid_xpks"
   ]
  },
  {
   "cell_type": "code",
   "execution_count": 11,
   "metadata": {},
   "outputs": [
    {
     "data": {
      "text/plain": [
       "array([ 7.06808163,  4.30367347,  6.14661224,  3.84293878,  2.92146939,\n",
       "        4.30367347,  2.92146939,  5.22514286,  5.68587755,  4.76440816,\n",
       "        2.92146939,  4.76440816,  5.22514286,  3.84293878,  8.91102041,\n",
       "        5.22514286, 12.59689796,  5.22514286,  4.76440816,  6.60734694,\n",
       "       11.21469388,  6.60734694])"
      ]
     },
     "execution_count": 11,
     "metadata": {},
     "output_type": "execute_result"
    }
   ],
   "source": [
    "valid_ypks = np.asarray(ypks)[valid_peaks]\n",
    "valid_ypks"
   ]
  },
  {
   "cell_type": "code",
   "execution_count": 12,
   "metadata": {},
   "outputs": [
    {
     "data": {
      "text/plain": [
       "array([363.92344023, 157.66410398, 132.62170779, 278.8749593 ,\n",
       "        52.74309673,  78.8691267 ,  63.1045599 , 626.81827194,\n",
       "        64.04584194, 109.11190158,  40.23306285, 408.37033302,\n",
       "        63.96726554, 151.77446391,  35.54886839,  65.1724873 ,\n",
       "       689.55861672,  44.67953049,  59.55391228,  37.30707438,\n",
       "       111.10264647,  40.84078107])"
      ]
     },
     "execution_count": 12,
     "metadata": {},
     "output_type": "execute_result"
    }
   ],
   "source": [
    "valid_cwtpks = np.asarray(cwtpks)[valid_peaks]\n",
    "valid_cwtpks"
   ]
  },
  {
   "cell_type": "code",
   "execution_count": 13,
   "metadata": {},
   "outputs": [
    {
     "data": {
      "text/plain": [
       "array([0.000e+00, 1.000e+00, 2.000e+00, ..., 8.189e+03, 8.190e+03,\n",
       "       8.191e+03])"
      ]
     },
     "execution_count": 13,
     "metadata": {},
     "output_type": "execute_result"
    }
   ],
   "source": [
    "xs"
   ]
  },
  {
   "cell_type": "code",
   "execution_count": 14,
   "metadata": {},
   "outputs": [
    {
     "data": {
      "text/plain": [
       "array([0, 0, 0, ..., 6, 5, 8])"
      ]
     },
     "execution_count": 14,
     "metadata": {},
     "output_type": "execute_result"
    }
   ],
   "source": [
    "y0s"
   ]
  },
  {
   "cell_type": "code",
   "execution_count": null,
   "metadata": {},
   "outputs": [],
   "source": []
  },
  {
   "cell_type": "code",
   "execution_count": 15,
   "metadata": {},
   "outputs": [],
   "source": [
    "step2 = cwt_calc_peaks(valid_xpks, valid_ypks, valid_cwtpks, xs, y0s)"
   ]
  },
  {
   "cell_type": "code",
   "execution_count": 16,
   "metadata": {},
   "outputs": [
    {
     "data": {
      "text/plain": [
       "array([ 113,  158,  236,  321,  391,  427,  442,  470,  709,  729,  828,\n",
       "        941, 1005, 1209, 1348, 1479, 1512, 1679, 1713, 1743, 1783, 1985,\n",
       "       2027, 2311, 2587, 2812, 2953, 3019, 3063, 3084, 3103, 3240, 3297,\n",
       "       3350, 3489, 3513, 3678, 3864, 3884, 3926, 3943, 4067, 4231, 4244,\n",
       "       4260, 4353, 4524, 4668, 4708, 4729, 4876, 4911, 4954, 5072, 5091,\n",
       "       5348, 5382, 5600, 5677, 5704, 5749, 5976, 6046, 6065, 6203, 6269,\n",
       "       6358, 6414, 6457, 6576, 6689, 6743, 6762, 6874, 7046, 7180, 7246,\n",
       "       7403, 7542, 7756, 7956, 7972, 8032, 8071, 1413, 1493, 1801, 2825,\n",
       "       5953, 6618, 7077, 1583, 2112, 4614, 5170, 5197, 5322, 5364, 5828,\n",
       "       6002, 7505, 8182, 1818, 2398, 4464, 5459, 6320, 6492, 7029, 2293,\n",
       "       3710, 4001, 6785, 6806, 7652, 1924, 3388, 7162, 7310, 7829, 4827,\n",
       "       6907, 7993, 5578, 7606,  827, 3420, 3824, 7856, 2230, 4313, 4121,\n",
       "       5202, 6075, 8144, 2285, 5802, 7116, 6656, 6455, 4962, 4736, 5868,\n",
       "       6921, 2107])"
      ]
     },
     "execution_count": 16,
     "metadata": {},
     "output_type": "execute_result"
    }
   ],
   "source": [
    "xpks[pospk_ma]\n"
   ]
  },
  {
   "cell_type": "code",
   "execution_count": null,
   "metadata": {},
   "outputs": [],
   "source": []
  },
  {
   "cell_type": "code",
   "execution_count": 17,
   "metadata": {},
   "outputs": [],
   "source": [
    "(azes, bezes, centrpk, ypkregs, fwhms, gau_areas, peak_constructed_spectrum,\n",
    "           baseline_spectrum, bl_median_smoother) = step2"
   ]
  },
  {
   "cell_type": "code",
   "execution_count": 18,
   "metadata": {},
   "outputs": [
    {
     "data": {
      "text/plain": [
       "[array([108., 109., 110., 111., 112., 113., 114., 115., 116., 117., 118.]),\n",
       " array([153., 154., 155., 156., 157., 158., 159., 160., 161., 162., 163.]),\n",
       " array([231., 232., 233., 234., 235., 236., 237., 238., 239., 240., 241.]),\n",
       " array([316., 317., 318., 319., 320., 321., 322., 323., 324., 325., 326.]),\n",
       " array([386., 387., 388., 389., 390., 391., 392., 393., 394., 395., 396.]),\n",
       " array([422., 423., 424., 425., 426., 427., 428., 429., 430., 431., 432.]),\n",
       " array([437., 438., 439., 440., 441., 442., 443., 444., 445., 446., 447.]),\n",
       " array([465., 466., 467., 468., 469., 470., 471., 472., 473., 474., 475.]),\n",
       " array([704., 705., 706., 707., 708., 709., 710., 711., 712., 713., 714.]),\n",
       " array([724., 725., 726., 727., 728., 729., 730., 731., 732., 733., 734.]),\n",
       " array([823., 824., 825., 826., 827., 828., 829., 830., 831., 832., 833.]),\n",
       " array([936., 937., 938., 939., 940., 941., 942., 943., 944., 945., 946.]),\n",
       " array([1000., 1001., 1002., 1003., 1004., 1005., 1006., 1007., 1008.,\n",
       "        1009., 1010.]),\n",
       " array([1204., 1205., 1206., 1207., 1208., 1209., 1210., 1211., 1212.,\n",
       "        1213., 1214.]),\n",
       " array([1708., 1709., 1710., 1711., 1712., 1713., 1714., 1715., 1716.,\n",
       "        1717., 1718.]),\n",
       " array([1778., 1779., 1780., 1781., 1782., 1783., 1784., 1785., 1786.,\n",
       "        1787., 1788.]),\n",
       " array([2582., 2583., 2584., 2585., 2586., 2587., 2588., 2589., 2590.,\n",
       "        2591., 2592.]),\n",
       " array([2948., 2949., 2950., 2951., 2952., 2953., 2954., 2955., 2956.,\n",
       "        2957., 2958.]),\n",
       " array([3079., 3080., 3081., 3082., 3083., 3084., 3085., 3086., 3087.,\n",
       "        3088., 3089.]),\n",
       " array([4062., 4063., 4064., 4065., 4066., 4067., 4068., 4069., 4070.,\n",
       "        4071., 4072.]),\n",
       " array([7398., 7399., 7400., 7401., 7402., 7403., 7404., 7405., 7406.,\n",
       "        7407., 7408.]),\n",
       " array([822., 823., 824., 825., 826., 827., 828., 829., 830., 831., 832.])]"
      ]
     },
     "execution_count": 18,
     "metadata": {},
     "output_type": "execute_result"
    }
   ],
   "source": [
    "azes"
   ]
  },
  {
   "cell_type": "code",
   "execution_count": 19,
   "metadata": {},
   "outputs": [
    {
     "data": {
      "text/plain": [
       "22"
      ]
     },
     "execution_count": 19,
     "metadata": {},
     "output_type": "execute_result"
    }
   ],
   "source": [
    "len(azes)"
   ]
  },
  {
   "cell_type": "code",
   "execution_count": 20,
   "metadata": {},
   "outputs": [
    {
     "data": {
      "text/plain": [
       "[array([  0. , -27.7, -24.4, -57.1, -10.8, -20.5,  -9.2,  -7.9,  -1.6,\n",
       "         34.7,   0. ]),\n",
       " array([  0.,   1.,   4.,  48.,  78.,  70.,  61.,  21., -11.,  -9.,   0.]),\n",
       " array([  0. , -19.6,   7.8,  33.2,  42.6,  63. ,  66.4,  44.8,  -3.8,\n",
       "         -7.4,   0. ]),\n",
       " array([  0. ,   9.7,  43.4, 118.1, 185.8, 157.5, 166.2,  93.9,  30.6,\n",
       "        -10.7,   0. ]),\n",
       " array([ 0. , 10.6, 31.2, 32.8, 26.4, 55. , 22.6,  8.2, -8.2, -6.6,  0. ]),\n",
       " array([ 0. ,  6.7, 21.4, 17.1, 38.8, 49.5, 29.2,  8.9, 32.6, 17.3,  0. ]),\n",
       " array([ 0. , 34.6, 18.2, 29.8, 59.4, 46. , 49.6, 41.2, 27.8,  6.4,  0. ]),\n",
       " array([  0. ,  72.9, 193.8, 282.7, 355.6, 320.5, 230.4, 159.3,  89.2,\n",
       "         57.1,   0. ]),\n",
       " array([  0. ,   2.7,  25.4,  21.1,  29.8,  19.5,  41.2,   8.9, -18.4,\n",
       "        -12.7,   0. ]),\n",
       " array([ 0. ,  2.1, 12.2, 22.3, 58.4, 38.5, 65.6, 35.7, 19.8, 20.9,  0. ]),\n",
       " array([  0. , -12.3,  16.4,   7.1,  50.8,  21.5,  37.2,  23.9,  26.6,\n",
       "         11.3,   0. ]),\n",
       " array([  0. ,  41.9, 100.8, 192.7, 213.6, 229.5, 183.4, 141.3,  50.2,\n",
       "         -8.9,   0. ]),\n",
       " array([ 0. , -2.7, 12.6, 19.9, 36.2, 37.5, 25.8,  7.1,  7.4,  9.7,  0. ]),\n",
       " array([  0. ,  16.8,  58.6,  63.4,  92.2,  90. ,  61.8,  21.6,  33.4,\n",
       "        -11.8,   0. ]),\n",
       " array([ 0. , -7.6, -7.2, -0.8,  3.6,  8. , 14.4,  9.8, 12.2, -7.4,  0. ]),\n",
       " array([  0. , -17.6,   7.8,   9.2,  34.6,  24. ,  33.4,  14.8,  13.2,\n",
       "         -3.4,   0. ]),\n",
       " array([ 0. , 35.2, 45.4, 77.6, 99.8, 84. , 64.2, 82.4, 65.6, 12.8,  0. ]),\n",
       " array([ 0., -7.,  3., 14., 17., 17., 12., 17., 11.,  6.,  0.]),\n",
       " array([ 0. , 13.8, 15.6, 29.4, 25.2, 32. , 28.8, 28.6, 18.4,  6.2,  0. ]),\n",
       " array([ 0. , 22.1, 12.2, 17.3, 15.4, 12.5, 11.6,  7.7, 10.8,  4.9,  0. ]),\n",
       " array([ 0. , 20.3,  7.6, 22.9, 29.2, 35.5, 21.8, 15.1, 17.4,  6.7,  0. ]),\n",
       " array([ 0. ,  5.8, -8.4, 18.4,  7.2, 49. , 17.8, 31.6, 16.4, 17.2,  0. ])]"
      ]
     },
     "execution_count": 20,
     "metadata": {},
     "output_type": "execute_result"
    }
   ],
   "source": [
    "bezes"
   ]
  },
  {
   "cell_type": "code",
   "execution_count": 21,
   "metadata": {},
   "outputs": [
    {
     "data": {
      "text/plain": [
       "[109.64257028112449,\n",
       " 157.40684410646386,\n",
       " 236.26872246696036,\n",
       " 320.76337319068585,\n",
       " 389.6046511627907,\n",
       " 427.2257336343115,\n",
       " 441.77316293929715,\n",
       " 469.5747942094805,\n",
       " 707.2468085106383,\n",
       " 729.4791288566244,\n",
       " 828.7945205479452,\n",
       " 940.573612931411,\n",
       " 1004.9869706840391,\n",
       " 1208.286384976526,\n",
       " 1716.64,\n",
       " 1783.7155172413795,\n",
       " 2586.9029982363318,\n",
       " 2953.8555555555554,\n",
       " 3083.89898989899,\n",
       " 4066.161572052402,\n",
       " 7402.728045325779,\n",
       " 828.0129032258066]"
      ]
     },
     "execution_count": 21,
     "metadata": {},
     "output_type": "execute_result"
    }
   ],
   "source": [
    "centrpk"
   ]
  },
  {
   "cell_type": "code",
   "execution_count": 22,
   "metadata": {},
   "outputs": [],
   "source": [
    "#azes, bezes, centrpk, ypkregs, fwhms, gau_areas, peak_constructed_spectrum,\n",
    "#           baseline_spectrum, bl_median_smoother) = step2"
   ]
  },
  {
   "cell_type": "code",
   "execution_count": 23,
   "metadata": {},
   "outputs": [
    {
     "data": {
      "text/plain": [
       "array([  0. , -27.7, -24.4, -57.1, -10.8, -20.5,  -9.2,  -7.9,  -1.6,\n",
       "        34.7,   0. ])"
      ]
     },
     "execution_count": 23,
     "metadata": {},
     "output_type": "execute_result"
    }
   ],
   "source": [
    "bezes[0]"
   ]
  },
  {
   "cell_type": "code",
   "execution_count": 24,
   "metadata": {},
   "outputs": [
    {
     "data": {
      "text/plain": [
       "[1466.3943432140982,\n",
       " 495.7268616601767,\n",
       " 498.33626563213693,\n",
       " 828.5738478158929,\n",
       " 136.63320763632893,\n",
       " 247.98000099811637,\n",
       " 163.47501323258086,\n",
       " 2171.6043407634265,\n",
       " 231.46197765033014,\n",
       " 360.9662299956111,\n",
       " 104.22543937058417,\n",
       " 1350.9791087691829,\n",
       " 221.61381971936092,\n",
       " 450.9417119270606,\n",
       " 160.83459460182027,\n",
       " 225.78929596758425,\n",
       " 3709.3085826824713,\n",
       " 154.7916943490386,\n",
       " 197.01747368987273,\n",
       " 145.34319994067187,\n",
       " 563.9077776403681,\n",
       " 159.1100322966713]"
      ]
     },
     "execution_count": 24,
     "metadata": {},
     "output_type": "execute_result"
    }
   ],
   "source": [
    "gau_areas"
   ]
  },
  {
   "cell_type": "code",
   "execution_count": 25,
   "metadata": {},
   "outputs": [],
   "source": [
    "# 2020-02-24\n",
    "# Tudo em progresso! Agora:\n",
    "# - Fazer os gr'aficos\n",
    "# - fazer em v'arias passadas o c'alculo at'e n~ao haver picos na linha-base."
   ]
  },
  {
   "cell_type": "code",
   "execution_count": 26,
   "metadata": {},
   "outputs": [],
   "source": [
    "# Bokeh graph w/ peaks in all scales\n",
    "bokpksallscl = figure(\n",
    "   plot_width =default_plot_width,\n",
    "   plot_height=default_plot_height,\n",
    "   tools=\"pan,box_zoom,reset,save\",\n",
    "   y_axis_type=\"log\",\n",
    "   y_range=[10**1, 10**5],\n",
    "   title=fn2,\n",
    "   # y_range=[-1000.0, 1000.0],\n",
    "   x_axis_label='channels', y_axis_label='counts'\n",
    ")\n",
    "# bokpksallscl.circle(ar1[:,0], ar1[:,1], legend_label=\"cwt peaks\", color=\"navy\",size=2)\n",
    "bokpksallscl.line(xs, y0s, color=\"green\")\n",
    "bokpksallscl.line(xs, peak_constructed_spectrum, color=\"red\")\n",
    "bokpksallscl.line(xs, bl_median_smoother, color=\"orange\")\n",
    "bokpksallscl.line(xs, peak_constructed_spectrum+bl_median_smoother, color=\"blue\")\n",
    "\n",
    "# bokpksallscl.cross(pk_per_scal[ 0], y0s[pk_per_scal[ 0]]*1.01, color=\"red\",size=2)\n",
    "show(bokpksallscl)"
   ]
  },
  {
   "cell_type": "code",
   "execution_count": 27,
   "metadata": {},
   "outputs": [],
   "source": [
    "# Bokeh graph w/ peaks in all scales\n",
    "bok2 = figure(\n",
    "   plot_width =default_plot_width,\n",
    "   plot_height=default_plot_height,\n",
    "   tools=\"pan,box_zoom,reset,save\",\n",
    "   # y_axis_type=\"log\",\n",
    "   # y_range=[10**1, 10**5],\n",
    "   title=fn2,\n",
    "   # y_range=[-1000.0, 1000.0], title=\"synth\",\n",
    "   x_axis_label='channels', y_axis_label='counts'\n",
    ")\n",
    "# bokpksallscl.circle(ar1[:,0], ar1[:,1], legend_label=\"cwt peaks\", color=\"navy\",size=2)\n",
    "# bokpksallscl.line(xs, y0s, color=\"green\")\n",
    "bok2.line(xs, peak_constructed_spectrum, color=\"red\")\n",
    "# bokpksallscl.line(xs, bl_median_smoother, color=\"cyan\")\n",
    "# bokpksallscl.line(xs, peak_constructed_spectrum+bl_median_smoother, color=\"blue\")\n",
    "\n",
    "# bokpksallscl.cross(pk_per_scal[ 0], y0s[pk_per_scal[ 0]]*1.01, color=\"red\",size=2)\n",
    "show(bok2)"
   ]
  },
  {
   "cell_type": "code",
   "execution_count": 28,
   "metadata": {},
   "outputs": [],
   "source": [
    "# 2020-02-25 Segunda passada:\n",
    "# 2020-05-15 Por enquanto deixarei desativada; mas posso fazer manualmente, bastando rodar\n",
    "#            as duas células seguintes e repetir o trecho que se inicia logo após\n",
    "#            a determinação de valid_peaks."
   ]
  },
  {
   "cell_type": "raw",
   "metadata": {},
   "source": [
    "ret2 = cwt_complete_analysis(bl_median_smoother)\n",
    "\n",
    "(xs, y0s, ar1, lblimag1, num_feat_imag1, ridges, xpks, ypks,\n",
    " ind_ypks, retang_indicess, peaks_masks, cwtpks, nscpks) = ret2"
   ]
  },
  {
   "cell_type": "raw",
   "metadata": {},
   "source": [
    "(nscpk_ma, cwtpk_ma, pospk_ma) = peaks_masks\n",
    "valid_peaks = ~(cwtpk_ma.mask | nscpk_ma.mask | ~pospk_ma)"
   ]
  },
  {
   "cell_type": "code",
   "execution_count": null,
   "metadata": {},
   "outputs": [],
   "source": []
  },
  {
   "cell_type": "code",
   "execution_count": null,
   "metadata": {},
   "outputs": [],
   "source": []
  },
  {
   "cell_type": "code",
   "execution_count": 29,
   "metadata": {},
   "outputs": [],
   "source": [
    "# 2020-05-17 Continuando para cada espectro. Este é agua-bruta.iec"
   ]
  },
  {
   "cell_type": "code",
   "execution_count": 30,
   "metadata": {},
   "outputs": [
    {
     "data": {
      "text/plain": [
       "'Agua bruta; m=109,0g - sel 16/10/19; ; .'"
      ]
     },
     "execution_count": 30,
     "metadata": {},
     "output_type": "execute_result"
    }
   ],
   "source": [
    "spec2.samDesc"
   ]
  },
  {
   "cell_type": "code",
   "execution_count": 31,
   "metadata": {},
   "outputs": [
    {
     "name": "stdout",
     "output_type": "stream",
     "text": [
      "250000.0\n"
     ]
    }
   ],
   "source": [
    "print(spec2.spLVTime)"
   ]
  },
  {
   "cell_type": "code",
   "execution_count": 32,
   "metadata": {},
   "outputs": [
    {
     "name": "stdout",
     "output_type": "stream",
     "text": [
      "250198.53\n"
     ]
    }
   ],
   "source": [
    "print(spec2.spRLTime)"
   ]
  },
  {
   "cell_type": "code",
   "execution_count": 33,
   "metadata": {},
   "outputs": [
    {
     "name": "stdout",
     "output_type": "stream",
     "text": [
      "2019-12-20 15:05:14\n"
     ]
    }
   ],
   "source": [
    "print(spec2.diahora)"
   ]
  },
  {
   "cell_type": "code",
   "execution_count": null,
   "metadata": {},
   "outputs": [],
   "source": []
  },
  {
   "cell_type": "code",
   "execution_count": 34,
   "metadata": {},
   "outputs": [],
   "source": [
    "aiai = 'aiuh'"
   ]
  },
  {
   "cell_type": "code",
   "execution_count": 35,
   "metadata": {},
   "outputs": [],
   "source": [
    "aiai = aiai[:-2]+'~'"
   ]
  },
  {
   "cell_type": "code",
   "execution_count": 36,
   "metadata": {},
   "outputs": [
    {
     "data": {
      "text/plain": [
       "'ai~'"
      ]
     },
     "execution_count": 36,
     "metadata": {},
     "output_type": "execute_result"
    }
   ],
   "source": [
    "aiai"
   ]
  },
  {
   "cell_type": "code",
   "execution_count": 37,
   "metadata": {},
   "outputs": [],
   "source": [
    "import pickle"
   ]
  },
  {
   "cell_type": "code",
   "execution_count": 38,
   "metadata": {},
   "outputs": [
    {
     "data": {
      "text/plain": [
       "8192"
      ]
     },
     "execution_count": 38,
     "metadata": {},
     "output_type": "execute_result"
    }
   ],
   "source": [
    "len(counts)"
   ]
  },
  {
   "cell_type": "code",
   "execution_count": 39,
   "metadata": {},
   "outputs": [
    {
     "data": {
      "text/plain": [
       "bytes"
      ]
     },
     "execution_count": 39,
     "metadata": {},
     "output_type": "execute_result"
    }
   ],
   "source": [
    "dmp_counts = pickle.dumps(counts)\n",
    "type(dmp_counts)"
   ]
  },
  {
   "cell_type": "code",
   "execution_count": 40,
   "metadata": {},
   "outputs": [
    {
     "data": {
      "text/plain": [
       "16456"
      ]
     },
     "execution_count": 40,
     "metadata": {},
     "output_type": "execute_result"
    }
   ],
   "source": [
    "len(dmp_counts)"
   ]
  },
  {
   "cell_type": "code",
   "execution_count": 41,
   "metadata": {},
   "outputs": [
    {
     "name": "stdout",
     "output_type": "stream",
     "text": [
      "<class 'list'>\n"
     ]
    },
    {
     "data": {
      "text/plain": [
       "8192"
      ]
     },
     "execution_count": 41,
     "metadata": {},
     "output_type": "execute_result"
    }
   ],
   "source": [
    "ldd_counts = pickle.loads(dmp_counts)\n",
    "print(type(ldd_counts))\n",
    "len(ldd_counts)"
   ]
  },
  {
   "cell_type": "code",
   "execution_count": 42,
   "metadata": {},
   "outputs": [
    {
     "name": "stdout",
     "output_type": "stream",
     "text": [
      "b'\\x80\\x03]q\\x00(K\\x00K\\x00K\\x00K\\x00K\\x00K\\x00K\\x00K\\x00K\\x00K\\x00K\\x00K\\x00K\\x00K\\x00K\\x00K\\x00K\\x00K\\x00K\\x00K\\x00K\\x00K\\x00K\\x00K\\x00K\\x00K\\x00K\\x00K\\x00K\\x00K\\x00K\\x00K\\x00K\\x00K\\x00K\\x00K\\x00K\\x00K\\x00K\\x00K\\x00K\\x00K\\x00K\\x00K\\x00K\\x00K\\x00K\\x00K\\x00K\\x00K\\x00K\\x00K\\x00K\\x00K\\x00K\\x00K\\x00K\\x00K\\x00K\\x00K\\x00K\\x00K\\x00K\\x00K\\x00K\\x00K\\x00K\\x00K\\x00K\\x00K\\x00K\\x00K\\x00K\\x00K\\x00K\\x00K\\x00K\\x00K\\x00K\\x00K\\x00K\\x00K\\x00K\\x00K\\x00K\\x00K\\x00K\\x00K\\x00K\\x00K\\x00K\\x00K\\x00K\\x00K\\x00K\\x00K\\x00K\\x00K\\x00K\\x00K\\x00K\\x00K\\x00K\\x00K\\x00K\\x00K\\x00K\\x00M6\\x01M6\\x01M\\x13\\x01M\\x0f\\x01K\\xe7M\\x0e\\x01K\\xfdM\\x01\\x01K\\xfbK\\xfaM\\x17\\x01K\\xedM\\x02\\x01M\\x17\\x01K\\xf0K\\xf0M\\x0e\\x01K\\xf0K\\xe3K\\xf8K\\xf2M\\'\\x01K\\xfdK\\xfaM\\x16\\x01M\\x0c\\x01M\\x00\\x01K\\xf2M*\\x01MN\\x01M\\xd2\\x01M@\\x02M\\x93\\x02Mn\\x02M\\xc5\\x01Mo\\x01K\\xf5K\\xf6K\\xcbK\\xc3K\\xbdK\\xb1K\\xc7K\\xd2K\\xbfK\\xceK\\xcaK\\xccK\\xd0K\\xfdM\\x1c\\x01M\\x15\\x01M\\r\\x01K\\xe6K\\xc7K\\xcaK\\xd4K\\xa1K\\xabK\\x99K\\xa4K\\xa0K\\x88K\\x94K\\x9eK\\x97K\\xa0K\\x9aK\\x98K\\x9cK\\x93K\\x97K\\xb8K\\x9fK\\x97K\\x96K\\xacK\\x9cK\\x92K\\x8fK\\x86K\\x9aK\\x94K\\x99K\\x9eK\\x91K\\x8dK\\xa9K\\x9eK\\x96K\\x9cK\\x8aK\\x89K\\x8cK|K\\x85K\\x90K\\x94K\\x9cK\\x83K\\xa1KyK\\x89K\\x88K\\x92K\\x97KtK\\x84K\\x8fK{K\\x81KvK\\x92K\\x84K\\x81K\\x92KpK\\x89KwK\\x80K\\x89K\\x8cK\\x88K\\x8cK\\x96K\\x82K\\x9dK\\xb6K\\xbfK\\xd3K\\xd6K\\xc0K\\x8fK\\x8bK\\x92K}K\\x85K\\x7fK{KzKiKzK\\x8bK\\x8cKmKyKzKoK\\x87KxK{K}K\\x7fK{KvK\\x8cK\\x85K\\x85KoKrKzK\\xa1K\\x9aK\\xb9K\\xafK\\xacK\\xaeK}K\\x85K\\x89K\\x8eK\\x9bK\\x96K\\x90KwK\\x80K\\x8fK\\x8aKzK~KxK\\x8dK~K}K\\x89K\\x90K\\x87KyK{K\\x82K\\x84K~K\\x8cK|K\\x81KvK\\x90KrKyK~KzK\\x85K\\x83K\\x9fK\\x7fK\\x87K\\x86K|K\\xa1K\\x8aK\\x94K\\xb6M\\x01\\x01ME\\x01M)\\x01M2\\x01K\\xeaK\\xabK\\x82K\\x8dK\\x8bK\\x8fK\\x92K\\x93KwK\\x84K\\x89K\\x88K\\x9dK\\x9bK\\x91K\\x9cK\\xa1K\\x87K\\x87K\\x8fK\\x84K\\x88K\\x81K\\x89KyK\\x81K\\x89K\\x85K\\xa6K\\x8cK\\x8bK\\x9dK\\x92K\\xa5K\\x93K\\x89K\\xa1K\\x8eK\\x9eK\\x98K\\x9aK\\x98K\\x84K\\x84K\\x87K\\xa0K\\xa1K\\x98K\\x80K\\x99K\\x92K\\x92K\\x91K\\x9dK\\xb0K\\xbbK\\xc5K\\xbfK\\x97K\\x94K\\x92K\\xa0K\\x9eK\\x7fK\\x8dK\\xa5K\\xaaK\\xa7K\\xc7K\\xaaK\\x9fK\\x92K\\x97K\\xa1K\\x8bK\\x8bK\\x83K\\x98K\\x99K\\x96K\\x94K\\x99K\\x8dK\\x9aK\\x86K\\xa5K\\x81K\\xa0K\\x9eK\\x99K\\xa7K\\x9eK\\x96K\\x95K\\x95K\\x99K\\x88K\\x93K\\x88K\\x99K\\xa0K\\xafK\\xabK\\xc1K\\xccK\\xb8K\\xa4K\\xbcK\\xadK\\x9cK\\xa2K\\x93K\\x87K\\x96K\\x82K\\xa5K\\x95K\\xa1K\\xbfK\\xb2K\\xb6K\\xaeK\\xa1K\\x8cK\\x86K\\x8fK\\x92K\\x8dK\\xa8K\\x95K\\x9fK\\x85K\\xb5K\\xa1K\\xb0K\\x9aK\\x9bK\\xa8K\\x92K\\x97K\\xafK\\xb9K\\xcdM\\x13\\x01M\\x89\\x01M\\xdf\\x01M%\\x02M\\xff\\x01M\\xa2\\x01MX\\x01M\\x0f\\x01K\\xecK\\xb0K\\xaaK\\x92K\\xa6K\\xa3K\\x9cK\\xb1K\\x9dK}K\\x93K\\x95K\\x8eK\\xa6K\\xa6K\\x8cK\\x8fK\\x91K\\x9eK\\xa0K\\x86K\\xabK\\xa7K\\x96K\\xa6K\\xb1K\\x9dK\\xb4K\\xa9K\\x9cK\\xafK\\xa6K\\x83K\\x9aK\\x85K\\x97K\\xa0K\\x96K\\x88K\\x83K\\x9aK\\xaaK\\x89K\\xa4K\\x8dK\\x8cK\\x9eK\\x99K\\x89K\\x93K\\xa1K\\x97K\\x97K\\x96K\\x92K\\x91KzK\\xa5K\\x8dK\\x9eK\\x9cK\\xabK\\xb8K\\x92K\\x8cK\\x98K\\x90K\\x98K\\xa4K\\xbcK\\x8eK\\x90K\\x8eK\\x8fK\\x95K\\x9cK\\x97K\\x89K\\x99K\\x99K\\xb3K\\x8bK\\x9eK\\x9bK\\x99K\\xb0K\\x89K\\xa1K\\x92K\\x9dK\\xafK\\xaeK\\x98K\\x87K\\xa5K\\xafK\\xa4K\\xb5K\\xc1K\\xa6K\\xaeK\\x8dK\\x94K\\x96K\\x93K\\xb0K\\xbbK\\x99K\\x94K\\xa5K\\xa1K\\x9fK\\x8bK\\x9cK\\x99K\\x8aK\\x95K\\x9cK\\x7fK\\x98K\\xa0K\\x8dK\\x8fK\\xaaK\\x8fK\\x93K\\x88K\\x85K\\x93K\\xa3K\\x93K\\x8dK\\x91K\\x9cK\\x9fK\\x9dK\\xa1K\\x9cK\\x8bK\\x9dK\\xa1K\\x9aK\\x93K\\xa8K\\x9fK\\x8dK\\x97K{K\\x9cK\\x8dK\\x9dK\\x95K\\x9eK\\xa4K\\xa0K\\x9aK\\x95K\\x98K\\x97K\\xbaK\\x86K\\x99K|K\\x8aK\\xa4K\\x8bK\\x97K\\xa9K\\x85K\\x9bK\\x8aK\\x8aK\\x91K\\xa8K\\xa2K\\x83K\\x9bK\\x8dK\\xa0K\\x96K\\x8aK\\x9aK\\xa5K{K\\x9bK\\x8dK\\x9aK\\x91K\\x9bK\\x91K\\x9aK\\xa1KwK\\x91K}K\\x94K\\x95K\\x95K\\xa0K\\xaaK\\x92K\\x8bK\\x8bK\\xa2K\\x8cK\\x95K\\x94K\\x8cK\\x9aK\\x90K\\x94K\\x8fK\\x93K\\x8eK\\x93K\\x95K\\x90K\\xa6K\\x9aK\\x90K\\x84K\\x8aK\\x85K\\x8cK\\x90K\\x96K\\xa9K\\x90K\\xa2K\\x9dK\\x8fK\\x94K\\xadK\\xabK\\xb6K\\xaeK\\xc6K\\xa8K\\x8fK\\x97K\\xa6K\\x8bK\\x8dK\\x8bK\\x8aK\\x9dK\\x8fK\\x92KlK\\x88K\\x9eK\\x9eK\\xa6K\\xaeK\\xd0K\\xbaK\\xd3K\\xb3K\\xa1K\\xa0K\\x89K\\x89K\\x86K\\x97K\\x95KpK~K\\x81K\\x92KzK\\x91K\\x94K\\x89K\\x80K\\x99K\\x86K\\x9dK\\x8bK\\x8aK\\x94K\\x99K\\x9bKqK\\x8dK\\x8eKxK\\x8dK\\xa3K\\x82K\\x86K\\x85K\\x92K\\x9cK\\x82K\\x99K\\x82K\\x8eK\\x87K\\xa6K\\x84KtKtK\\x8fK\\x86K\\x92K\\xa9K\\x98K\\x8fK\\x81KzK\\xa6K\\x84K\\x83KtK\\x93K\\x9dK\\x8dKxK\\x97K\\x94K\\x8fK\\x8fK\\x81K|K\\x86K\\x81K\\x83K\\x86K\\x86K\\x99K\\x83K\\x84K\\x92K\\xa4K\\x8eK\\x89K\\x84K\\x8bK\\x92K{KoKyKuK\\x8aK\\x97K\\x98K\\x88K\\x9eK\\x83K\\x88KyK\\x93K\\x87K\\xb0K\\x90K\\x9dK\\x8dK\\x8dK{KmK\\x82K\\x8cK\\x8bKsKtKvK~K|K\\x82KvK\\x8fK\\x82KyK\\x91KyKyK\\x85K\\x92K\\x8fK\\x86K\\x80KzK{KwK}K\\x7fK\\x84K\\x86K\\x88KxK\\x98KtK\\x8aK|K\\x86K\\x8aK\\x94K\\x80K\\x8cK\\x8aK\\x7fK\\x91K\\x82K~K\\x8bK\\x99K\\x80K\\x8dK\\x8dKwK\\x90KwK\\x8aK\\x8bK\\x86KrK\\x85K\\x9eK\\x96K{K\\x7fKyK\\x8bK\\x7fKsK\\x81KuK\\x85KxKuK\\x88K\\x84K|KwK~K\\x7fKmK\\x96KpKwKzKyK{KtK{K|K\\x8dK\\x89KvKtK{K\\x84K\\x82K\\x80KyKvK\\x8eK\\x81K\\x8cK}K}K\\x7fK\\x85K\\xb0K\\xecMI\\x01M_\\x01Mp\\x01MC\\x01M\\x1a\\x01K\\xc0K\\x86K\\x90K}KvKgKhK\\x80KyK^K\\x84K|KwKhKtK\\x82KaKoKgKmK\\x8bKsKbKwKsKqKsK~KrKlKsK\\x82K\\x87KeKqKpKoKsK\\x85KYKgK\\x84K}KTKvKqKhKiKsKvKtK|KaK\\x83KvK\\x81e(KuKrK\\x81K\\x88K\\x98K\\x99K\\x8dKzKzK|KrKlK_KeKTKjKiKyKqKqK\\x84KaKuKeK\\x86KbK\\x7fKzKcKpK^KpKgKsKnK]KaK\\x85K{K\\x88K\\x86KxK\\x84KkKlKnKuKsKvK\\x83K]KhKiKgKbKeKsKzKyK[KkKnK}KvKtKsKdK^K_KWKaKuK_KgKfKhKoKTKrKZK[K\\\\K\\x84KbK`KyKaKRKoK\\\\KhKeKZKVK_KlKWKlKhK`KcKkK{KqKuKUKkKrKjKbKpKgKgKXKrKTKaKmK\\\\KyKlK[KmKvKlK^KfK`KfK]K_KqKaK`KcKUKTKkKcK_KVKjKaKlKtKXKlKZKuKdKmK`KnKQKXK_KmKRKkK[K_KVKXKZK}KTKdK]KpKnKOKSKcK_KRKUKaKYK^KSK[KQKlK_K[K\\\\KUKuKWKaKeKIK]KlK_KgK[KkK[KZK\\\\K`K`KVKdKuK\\x9fK\\xa4K\\xc1K\\xbfK\\xa3K{K\\x87KZKfKUKeKqK`KbK`K\\\\KjKoK`K]KoKWKaK^KhKcKaKeKUKSKUK^KiKbKXKXKQKfKYKaKRKZK_K\\\\KWKfK]K[K_KTK`KYKMK]K[KiKYK_KcKUKcKUK`KXKXKPK_KXKUK]KYKRKUKLKbK]KjKTKTK^KOKKK[K^KUKMKgKUKOKPKrKTK\\\\KJKCKXKKKTK@KOKMKRKZKMKMKNKWKaKUKHKOKTKVKLKZKLKRKNKYKQKOK_KQKGKYKVKTKMKAKXKRKLKaK\\\\KTKNKbKAKQK[KSK[KUKOK_KRKRK;K=KYKSKQKKKMKPKQKXKUKTK>KFKSKTK^KLKTKSKHKTKSKVK^K@KOKKKQKLKRKOKZKJKJKBKCKCKUK_K?KLK^KHKPKWKQKTKOKOKKKQKLKHKGKTKGKYKLKRKZKMKKK_KGKCK=KRKZKEKRKQKDKOK@K]KNKEKNKTKDKVKAKFKPK\\\\KSKHKGK`K<KOKOKRKAKRKDK@KTK?KEKTK?K\\\\KFKDK>KCKAK?KRK?K9KBKIKKKKKJKPK8K=KHK>KNKQKIKKKQKTKDK=K@KTKMKLKCKGKNKOKIKVKEKIKZKJKSKIKOKKKBKDK<KAKEKEKTKHKLKDKNKEKOKVK=KCKAKAKBKGKBKPKEKEKHKCKCKBKMKDKOKEKDKFK7KRK@KJKLKUK=KOKAK>KHKXK9KAKTKCKQK:K5K5KHKBKBKCKHK?KEK5KSK8KIKLK9K=KJK9KAK;K:K<KGK>KGKLK;KTKGKKKCKLKCKKKBKAK7KAKPK7KAK6KDK;K@KCKCKAK@K:KDKCK?K?K,KGK<KGK@K7K<KLKGK:KGK7K:K;KHKKK7KDKGKKKGK;K7K=K?KNK?KMKEK9KBKRKFKBKRKFK9K:KGK9KMKIK9K3K?K?KAKAK<K@K6K=K<K>K;KAK8KAKFKAKDKCK5K=K9KMK3K:KTKDKDKEKAKHK@K:K:KNKAK8K@K2K5K;K7K<K@K7K?K=K;K6KGK5KBKGK1KCK?KBKFK>K>KDKHKLKRKMKOK;KBK>KGK9K8K;K5KIK.K9K<K3K3K:K=K?K7K@K1K>K6K6K<KBKCKCK=KAK:K1K4K<K9K+K-KAK.K4K1KCK1K4K1K0K*K4KAK;K.KGK1K6KMKHK:K/K)K:K6KEKLK8KOKNKeKXK_KJKFK3K4K4K9KAK0K2K0K.KBK2K6K=K6K9KCK-K:K1K+K3K0K-K-K-K.K3K>K3K;K;K3K1K<KIK-K2K.K/K6K2K.K9K7K5K?K?K*K<K?K\\x1bK=K=K+K.K=K=KEK(K6K6K4K9K1K-K>K-K=K:K9K>K/K5K6K3K\\'K)K+K7KBK3K8K*K3K:K2K:K6K3K4K4K4K(K2K9K*K<K5K3K2K2K1K/K0K*K+K+K/K<K8KKK5K4K.K0K&K+K3K2K6K1K4K.K8K:K%K*K/K\\'K4K1K6K*KAK/K7K-K>K9K6K1K0K7K1K9K-K!K2K1K:K=K1K0K3K.K,K2K2K,K.K8K+K.K-K%K1K+K7K0K4K/K0K+K7K$K8K+K(K7K/K<K,K/K5K3K)K-K8K<K(K&K\\'K(K(K3K5K1K4K0K<K9K+K\\'K)K*K3K#K,K=K>K-K,K+e(K9K/K/K)K+K0K.K,K0K,K3K0K#K5K?K+K+K6K%K=K2K/K7K0K6K&K\\'K)K7K4K3K1K?K/K/K4K$K2K@K*K,K0K*K\\'K%K.K+K/K1K\\'K-K0K.K-K9K)K%K,K*K1K)K%K/K\\x1fK7K-K&K%K%K,K\\'K/K4K*K1K\\'K0K3K*K(K4K\\'K0K&K)K1K\"K1K8K6K-K)K%K\\x1eK,KJK+K3K#K-K*K-K\\x1dK,K\\'K5K,K5K!K:K.K)K6K1K0K2K/K*K$K,K)K0K/K&K(K*K,K-K4K(K4K%K(K(K+K#K-K(K(K(K0K)K,K.K)K\\x1eK/K2K)K(K$K\\'K*K)K3K(K-K%K,K&K+K\"K*K\"K.K2K3K(K(K\\x1fK\\'K4K)K*K&K K6K(K\\'K7K-K\"K*K5K(K#K;K)K!K!K2K+K#K(K\"K2K%K/K,K\"K4K)K#K!K,K&K&K2K&K!K\\x1fK*K*K!K\\x1fK K\"K2K)K\"K\\x1eK+K(K%K)K*K3K2K\\'K\\x1cK,K&K0K\\'K;K#K#K,K/K0K0K\\x1bK)K\\x19K%K1K&K0K&K\\'K#K5K7K,K.K(K&K)K1K,K\\'K-K,K$K\"K K)K0K%K-K-K\\'K/K.K,K.K\\x1eK\\'K\\x1fK:K\\'K3K,K*K&K$K%K2K$K/K-K.K%K)K0K%K(K\\'K*K*K\\x1dK#K\\x1fK!K K\\x17K)K*K*K3K.K-K&K)K,K,K(K(K&K)K\\'K#K\\'K*K-K*K-K\\x1cK#K,K\"K)K#K/K6K\\'K\"K+K/K K/K$K\\x1fK$K*K\\'K!K4K\\x1eK$K\"K.K+K>K5K*K&K\"K$K#K*K#K%K\\x1eK&K\\'K\\'K-K%K K\\x1eK\\x1fK\"K\\'K)K%K\\x1aK\\'K,K,K%K$K\"K)K&K+K&K\\x1eK\\x1fK-K\\'K\"K\"K$K2K\\'K,K!K8K%K*K-K!K K,K%K\\'K%K\\x1fK K-K\\x1fK K&K\\'K)K\"K(K*K#K\"K K0K$K\\x1dK-K%K\\'K)K$K\\x1cK2K&K&K\"K!K$K*K)K\\x1fK#K!K,K&K)K(K!K\\x1dK(K)K\"K\\x1bK(K K\"K&K K&K,K3K!K\\x1aK\\x1fK\\x1eK!K&K&K\\x1fK#K#K%K\\x1fK$K+K$K-K(K\\x1fK K*K$K!K$K0K%K\\x1dK\"K,K\\x1fK\"K K$K%K\\x1aK/K K*K\\x1dK%K!K(K)K$K$K K!K%K\\'K\\x17K\\x1bK#K&K*K-K&K!K\"K\\x1fK\\x1eK)K&K\"K$K\\x1cK\\x1eK(K\\x1aK$K K K!K.K\"K&K\\x1eK)K)K\"K%K!K&K\\x1bK(K\\x1bK%K%K\"K%K)K\\x1cK%K&K\\x1cK,K1K$K\\x1fK\\x1eK%K0K\\x1eK\\x1fK#K\\x1cK\\x18K\\x1aK K\\'K)K)K7K$K&K2KAK@KNKWK^K{K\\x88K\\xabK\\xd0K\\xf4K\\xffM \\x01M7\\x01M(\\x01M\\x15\\x01M(\\x01M\\x18\\x01K\\xe4K\\xd8K\\xb3K\\xacK\\x8aK\\\\KIKLK8K=K)K&K\\'K2K)K%K(K%K\\x1fK$K$K\\x1eK\\x1cK#K\\x16K\\x1eK K\\x1cK K&K\\x1bK K)K\\x1fK\"K\"K K(K#K\\x1cK\\x1dK\\x1fK\\x1dK#K!K)K\\x1fK K\\x1eK\\x18K\\x1aK!K\\x1dK\\x1aK\\x1dK K!K\\x17K\\x1aK$K\\x1cK K\\x1bK\\x16K\\x1bK K\\x1eK\\'K!K\"K$K\\x1dK\\x1bK&K\\x1dK#K#K&K K%K\\x1dK K!K\"K K\\x1bK\\x1dK\\x14K K\\x19K\"K\\x1dK#K K\\x1fK K!K\\x1dK\\x1dK\"K#K\\x18K\\x1fK\\'K&K\\x18K\\x1aK\\x18K K\\x1cK\\x18K(K\\x17K\\x1dK K$K$K\\'K%K\\x1bK\\x1dK K!K$K&K K\\x19K0K)K(K!K#K&K#K\\x1bK\\x1bK#K\\x1dK\\x1dK$K(K\"K&K\\x1cK\\x1eK\\x18K\\x18K,K\\x13K,K\\x19K\\x1bK\\'K#K(K\"K\\x1aK\\x1aK\\x1fK K#K\\x1bK\\x17K\\x1fK K!K K\\x1aK!K+K\\x1bK\\x1bK\\x1eK\\x16K#K\\x14K\\x1fK\\x1cK\\x1fK\\x1bK\\x1eK\\x13K K%K\\x1cK\\x18K\\x18K$K\\x1dK\\x18K\\x1aK$K\\x1bK\\x17K\\x1aK K\\x1dK\\x1eK\\x1cK&K\\x17K\\x1dK,K\\x18K\\x17K\\x19K\\x1bK K\\x1fK#K$K\\x1eK\\x18K\\x1bK\\x1cK\\x1aK!K\\x17K#K K\\x1eK K$K!K%K\\x15K\\x18K\\x15K\\x19K\\x1aK K\\x1aK\\'K\\x1aK\\x1fK%K%K\\x19K\\x1eK\\x1cK\\x1aK!K\\x1cK\\x11K#K-K\\x17K\\x1bK\\x0fK\\x1eK$K\\x17K#K#K\\x1bK$K\\x1cK\\x1fK\\x17K!K\\x1cK\\x1bK\\x1cK*K\\x19K\\x1aK!K)K\\x1aK\\x14K\\x1bK\"K\\x17K\\x1dK\\x1aK$K\\x14K%K\\x18K\\x19K%K\"K\\x1cK K\\x1cK&K!K\\x14K(K#K\\x1eK\\x1fK$K\\x1eK\\x1eK#K K\"K\\x1aK\\x17K\\x1eK&K\\x1dK\\'K(K\\x1aK\\x1aK\\x1fK\\x18K\\x18K\\x16K\\x1bK&K\\x1dK%K\\x1dK\\x1aK\\x17K\\x1aK\\x1dK\\x1eK\\x19K\\x1fK\\x13K\\x1aK\\x1cK K\\x1dK\\x12K\\x19K\\x1bK K K\\x1cK\\x18K&K!K\\x1aK\\x1aK\\x19K\\x15K!K\"K\\x1cK#K%K#K\\x1aK\\x1dK&K\\x19K\\x1dK\\x17K\\x16K(K\\x17K(K-K$K,K5K6K4K-K0K(K!K\\x19K\\x1eK\\x1eK\\x1fK!K\\x14K\\x17K\\x1eK(K\\x1bK\"K\\x1eK\\x1aK$K\\x1aK\\x1bK#K(K\\x1fK\\x1eK$K\\x12K\\x1cK K\\x19K\\x15K\\x19K\\x1dK#K*K\\x1cK\\x14K\\x1cK\"K\\x1dK\\x1cK\\x1aK K\\x19K\\x1fK K\\x1de(K\\x16K\\x1bK\\x18K\"K\\x10K(K K\\x1dK\\x19K\\x1bK\\x1bK!K\\x1fK\\x1fK#K\\'K2K$K*K$K#K\\x1eK)K\\'K\\x1eK!K!K\\'K$K\\x15K K(K#K\\x1bK\\x1bK\\x16K%K$K K K\\x1eK K\\x16K%K\\x1eK#K\\x19K$K*K&K\\x1fK\\x16K!K\\x1bK K\\x1aK\\x1dK\\x1cK(K\\x1bK-K#K\\x1cK,K%K0K#K)K\\x1aK$K\\x1aK%K\\x1aK\\x17K$K.K\\x1fK\\x1dK\\x1aK\\x1eK,K.K<K8K?K<K<K2K&K K\\x1dK\\x1eK#K\\x13K\\x1eK\\'K\\x13K\\x1fK\\x14K\\x1bK\\x1fK\\x1dK)K\\x1eK#K&K K K\\x19K\\x1bK%K!K\\x18K#K!K\\x1eK K\"K\\x1aK#K&K K!K\\x17K\\x1cK\\x1aK\\x19K\\x19K\"K\\x16K!K\\x1eK\\x14K\\x15K\\x18K\\x1eK\\x1dK\\x1fK\\x1fK\\x1bK%K\\x1bK\\x1aK\\x1aK\\x1bK$K\"K#K\\x16K\\x18K\\x18K\\x16K#K%K%K\\x17K\\x1cK\\x1fK\\x16K\\x1aK\\x1dK&K%K!K\\x15K\\x15K\\x1eK\\x16K\\x17K\\x1bK\\x1eK$K\\x1bK\\x1dK\\x1eK\\x1cK\\x1cK\\x1bK\\x1cK\\x1fK\\x1eK\\x1bK!K\\x1aK\\x1cK\\x1dK\\x1dK\\x14K$K\\x11K(K\\x19K\\x1cK\\x1dK\\x15K\\x10K\\x1eK\\x16K\\x1aK!K$K\\x1aK\\x1cK\\x12K K\\x15K\\x18K K\\x19K\\x1aK\\x13K\\x19K\\x1bK\\x1eK\\x14K K\\x1eK\\x18K\\x17K\\x1cK\\x1bK K\\x19K#K\\x16K\\x1aK\\x1cK\\x18K\\x1dK\\x14K\\x1aK\\x1fK\\x12K\\x15K\\x15K K\\x18K\\x1dK K\\x1cK&K K\\x1cK\\x16K\\x15K K\\x16K K\\x11K\\x14K\\x18K\\x16K\\x16K\\x1aK\\x1bK\\x16K\\x17K\\x1aK\\x1aK$K\\x12K$K\\x18K\\x17K\\x12K\\x19K\\x1aK\\x15K\\x17K\\x19K\\x1dK\\x18K\\x16K\\x1fK\\x1bK\\x1cK\\x1aK\\x1bK\\x1bK\\x17K\\x17K\\x1aK\\x16K\\x19K\\x18K\\x14K\\x0fK!K\\x19K\\x1eK\\x15K\\x16K\\x17K\\x1bK\\x17K\\x1dK\\x1eK\\x1bK K\"K\\x11K\\x19K\\x14K\\x16K\\x1bK\\x18K$K\\x19K\\x1fK\\x19K\\x1dK\\x0fK\\x1fK\"K\\x15K\\x11K\"K#K\\x19K\\x11K\\x18K\\x1cK\\x13K\\x1bK K\"K\\x17K\\x11K#K\\x1bK\\x10K\\x1cK\\x19K\\x15K\\x11K\\x12K\\x10K\\x18K\\x1aK\\x15K\\x14K\\x14K\\x1dK\\x1bK\\x17K\\x1eK\\x17K(K\\x1cK\\x1dK#K\\x17K\\x17K\\x15K\\x19K\\x1cK#K\\x19K\\x16K\\x1cK\\x16K\\x1aK\\x1dK\\x1bK\\x1cK\\x19K\\x11K\\x12K\\x1aK\\x19K\\x1aK\\x14K\\x14K\\x1cK\\x19K\\x14K\\x1aK&K\\x16K\\x1cK\\x17K\\x1bK\\x1fK$K\\x13K\\x16K\\x1cK\\x1cK\\x1cK\\x1fK\\x11K$K K\\x18K\\x1aK\\x1eK\\x1aK\\x19K\\x1bK\\x18K\\x19K\\x12K\\x1aK\\x15K\\x13K\\x10K\\x17K\\x1bK\\x14K\\x15K\\x18K\\x15K\\x1bK\\x18K\\x17K\\x17K\\x1cK\\x1eK\\x15K\\x1aK\\x1eK\\x1dK\\x19K\\x17K\\x16K\\x1bK\\x19K\\x11K\\x1bK\\x1bK\\x15K\\x16K\\x1eK\\x15K\\x1bK\\x10K\\x12K!K\\x12K\\x15K\\x16K\\x14K\\x12K\\x11K\\x17K\\x1dK\\x16K K\\x19K\\x1fK\\x0fK\\x13K\\x1aK\\x1dK\\x19K\\x1aK\\x1fK\\x17K\\x1bK\\x16K\\x0fK\\x1aK\\x19K\\x1bK\\x1eK\\x15K\\x15K\\x1aK\\x14K\\x1fK\\x12K\"K\\x1bK\\x13K\\x18K\\x19K\\x15K\"K\\x15K\\x1bK\\x14K\\x16K\\x1dK\\x14K\\x0fK\\x16K\\x1bK\\x1cK\\x1eK\\x1bK\\x19K\\x1cK\\x1cK\\x14K\\x17K\\rK\\x15K\\x19K\\x0fK\\x15K\\x17K\\x17K\\x1dK\\x1eK\\x18K\\x11K&K\\x19K\\x1aK\\x1dK\\x1bK\\x1dK\\x18K\"K(K K%K\\x1cK\\x17K\\x1fK\\x1fK K\\x1cK\\x16K#K\\x0fK\\x1dK\"K K\\x1dK K\\x1eK\\x1bK\\x1bK\"K$K#K)K\\x1bK\\x1eK\\x19K#K\\x1bK\\'K\\x1aK\\x1cK\\x1aK!K\\x1fK&K$K\\x1eK\\x16K\\x1eK#K\\x12K\\x1aK\\x19K\\x19K\\x17K\\x17K#K\\x1fK\\x19K\\x1cK K\\x17K\\x17K\\x1dK K\\x19K\\x1aK\\x15K\\x1aK\\x1dK\\x19K\\x18K\\x10K#K\\x16K\\x12K\\x16K$K\\x19K\\x19K\\x14K\\x14K\\x1eK\\x12K\\x1cK\\x1eK\\x16K\\x11K\\x16K\\x1eK\\x10K\\x11K\\x16K\\x15K\\x1bK\\x13K\\x15K\\x1bK\\x18K\\x1cK\\x10K\\x1dK\\x16K\\x16K K\\x1bK\\x18K\\x13K\\x19K\\x1bK\\x11K\\x1eK K\\x1bK\\x14K\\x15K\\x10K\\x18K\"K\\x1dK\\x18K\"K\\x17K\\x1aK\\x10K\\x0eK\\x18K\\x18K\\x16K\\x15K\\x1cK\\x0fK\\x17K\\x1bK\\x18K\\x19K\\x1aK\\x18K\\x14K\\x16K\\x1bK\\x1cK\\x1bK\\x19K\\x19K\\x10K\\x1eK\\x15K\\x0fK\\x14K\\x18K\\x1aK\\x11K\\x1aK\"K\\x17K\\x15K\\x10K\\x12K\\x11K\\x16K\\x0fK\\x0fK\\x1bK\\x12K\\x12K\\x1dK\\x15K\\x17K\\x1aK\\x10K\\x13K\\'K\\x1eK!K\\x19K\\x10K\\x1cK\\x13K\\x1fK\\x15K\\x0fK\\x16K\\x11K\\x19K\\x11K\\x14K\\x1bK\\x10K\\x17K\\x14K\\x1cK\\x15K\\x1eK\\x0fK\\x13K\\x10K\\x16K\\x12K\\x14K\\x15K K\\x1aK\\x17K\\x0eK\\x19K\\x1aK\\x16K\\x1aK\\x12K\\x15K\\x1bK\\x0bK\\x13K\\x16K\\x13K\\x17K\\x0eK\\x16K\\x11K\\x16K\\x13K\\x13K\\x19K\\x14K\\x1aK\"K\\x17K\\x16K\\x19K\\x0eK\\x15K\\x19K\\x10K\\x1aK\\x19K\\x13K\\x17K\\x1fK\\rK#K\\x14K\\x18K\\x15K\\x0eK\\x19K\\x1cK\\x19K\\x14K\\x0eK\\x15K\\x13K\\x12K\\x19K\\x1aK\\x1aK\\x13K\\x1bK\\x13K\\x19K\\x1aK\\x18K\\x18K\\x19K\\x12K\\x16K\\x14K\\x14K\\x16K\\x1cK\\x19K\\x14K\\x10K\\x1dK\\x0fK\\x17K\\x1dK\\x13K\\x18K\\x1bK\\x18K\\x1cK\\x18K\\x14K\\x0eK\\x15K\\x1bK\\x18K\\x16K\\x13K\\x11K\\x1aK\\x17K\\x15K#K\\x13K\\x17K\\x1bK\\x12K\\x1cK\\x14K\\x17K\\x1aK\\x16K\\x1bK\\x18K\\x0fK\\x10K\\x16K\\x1bK\\x1fK\\x13K\\x0eK\\x19K\\x19K\\x1cK\\x0fK\\x1cK\\x15K\\x18K\\x1dK\\x15K\\x17K\\x13K\\x11K\\x18K\\x15K\\x19K\\x15K\\x13K\\x10K\\x0fK\\x0fK\\rK\\x1cK\\x10K\\x16K\\x16K\\x0fK\\x14K\\x15K\\x13K\\x17K\\x0fK\\x18K\\x11K\\x11K\\x0eK\\x18K\\x15K\\x13K\\x15K\\x1dK\\x15K\\x15K\\x1bK\\x12K\\x19K\\x16K\\x1fK\\x10K\\x1dK\\x16K\\x12K\"K\\x1dK\\x15K\\x11K\\x16K\\x15K\\rK\\x18K\\x0eK\\x11K\\x15K\\x16K\\x1dK\\x19K\\x15K\\x1bK\\x1bK\\x17K\\x1eK\\x10K\\x0fK\\x10K\\x0cK\\x1cK\\x19K\\x18K\\x14K\\x14K\\x10K\\x1aK\\x0fK\\x18K\\x11K\\x1bK\\x17K\\x17K\\x1fK\\x0fK\\x13K\\x10K\\x16K\\x13K\\x10K\\x16K\\x18K\\x18K\\x12K\\x19K\\x12K\\x13K\\x16K\\x11K\\x1dK\\x0bK\\x19K\\x1aK\\x18K\\x1dK\\x16K\\x18K\\x15K\\x1aK\\rK\\x11K\\x19K\\x10K\\x10K\\x11K\\x0bK\\x12K\\x18K\\x19K\\x14K\\x1bK\\x18K\\x18K\\x1bK\\x19K\\nK\\x18K\\x0bK\\x11K\\x11K\\x1dK\\x0fK\\x0fK\\x11K\\x18K\\x1bK\\x13K\\x10K\\x12K\\x13K\\x18K\\x15K\\x0fK\\x19K\\x1eK\\x11K\\x18K\\x16K\\x14K\\rK\\x17K\\x10K\\x1bK\\x0eK\\x14K\\x17K\\x17K\\x15K\\x15K\\x16K\\x1bK\\x17K\\x0eK\\x1dK\\x1aK\\x18K\\x11K\\x16K\\x14K\\x15K\\x0fK\\x13K\\x14K\\x17K\\x12K\\x19K\\x1bK\\x15e(K\\x12K\\x1aK\\x1dK\\x14K\\x18K\\x15K\\x15K\\x14K\\x14K\\x14K\\x13K\\x12K\\x1cK\\x0bK\\x1aK\\x14K\\x11K\\x15K\\tK\\x1aK\\x16K\\x16K\\x15K\\x19K\\x12K\\x16K\\rK\\x18K\\x18K\\x17K\\x16K\\x0eK\\x10K\\x15K\\x14K\\x10K\\x14K\\x18K\\x16K\\x0eK\\x17K\\x10K\\x1aK\\x15K\\x10K\\x1aK\\x18K\\x19K\\rK\\x10K\\x1aK\\x12K\\nK\\x0fK\\x16K\\x10K\\x16K\\x12K\\x13K\\x16K\\x11K\\x17K\\x11K(K\\x1fK%K$K\"K\"K\\x1fK#K\\x1eK\\x1aK\\x10K\\x13K\\x11K\\x18K\\x11K\\x0cK\\x17K\\x18K\\x14K\\x12K\\x18K\\x14K\\rK\\x16K\\x13K\\x1bK\\x10K\\x11K\\nK\\x1bK\\x17K\\x11K\\x12K\\x15K\\x11K\\x14K\\x19K\\x13K\\x1aK\\x12K\\x10K\\x0cK\\nK\\rK\\x17K\\x10K\\x18K\\x17K\\x15K\\x16K\\x08K\\x14K\\x11K\\x1cK\\rK\\x15K\\x15K\\x16K K\\x12K\\x11K\\x13K\\x12K\\x1aK\\x17K\\rK\\x11K\\x17K\\x1aK\\nK\\x11K\\x1aK\\x10K\\x15K\\x15K\\x0eK\\x17K\\x11K\\x13K\\x15K\\x15K\\x12K\\x13K\\x10K\\x15K\\x15K\\x0fK\\x15K\\x10K\\x19K\\x13K\\x13K\\x18K\\x13K\\x12K\\x0eK\\x18K\\x17K\\x0fK\\x12K\\x0cK\\rK\\x17K\\x10K\\x0fK\\x16K\\x13K\\x19K\\x15K\\nK\\x0fK\\x18K\\x12K\\x12K\\rK\\x0eK\\x14K\\x14K\\x16K\\x0fK\\x1aK\\x0fK\\x14K\\x0eK\\x14K\\x12K\\x10K\\rK\\x10K\\x17K\\x1bK\\x0eK\\x12K\\x0cK\\x16K\\x18K\\x0fK\\x19K\\x15K\\x10K\\x10K\\x15K\\x13K\\x18K\\x15K\\x17K\\x15K\\x10K\\x12K\\x15K\\x14K\\x1bK\\x18K\\x11K\\x17K\\x0fK\\nK\\x12K\\x1aK\\x15K\\x15K\\x0bK\\x1dK\\x16K\\nK\\x1aK\\x17K\\x1bK\\x1bK\\x16K\\x1bK\\x13K\\rK#K\\rK\\rK\\x12K\\x0fK\\x16K\\x12K K\\x19K\\x15K\\x17K\\x1aK\\x0fK\\x12K\\x15K\\x14K\\x13K\\x13K\\x11K\\x14K\\x1aK\\x1aK\\x13K\\x17K\\x16K\\x1bK\\x1bK\\x18K\\x19K\\x15K\\x0eK\\x0cK\\x15K\\x15K\\x0cK\\x18K\\x1bK\\x17K\\x16K\\x13K\\x14K\\x1aK\\x19K\\x18K\\x17K\\x18K\\x11K\\x14K\\x13K\\x0fK\\x12K\\x1cK\\x1cK\\x15K\\x12K\\x13K\\x12K\\x15K\\x16K\\x0fK\\x1bK\\x17K\\x12K\\nK\\x15K\\x0eK\\x13K\\x14K\\x1bK\\x12K\\x19K\\x12K\\x0cK\\x1aK\\x12K\\x15K\\x19K\\x15K\\x17K\\x13K\\x10K\\x11K\\x1aK\\x14K\\x12K\\x19K\\x11K\\x12K\\x10K\\x0eK\\x17K\\x13K\\x0fK\\x10K\\x12K\\x0fK\\x11K\\x14K\\x16K\\x13K\\rK\\x13K\\x18K\\x15K\\x14K\\x10K\\x0fK\\x1dK\\x0fK\\x17K\\x14K\\x10K\\x1cK\\x18K\\x14K\\x18K\\x18K\\x1aK!K\\x12K\\x16K\\x0bK\\x1aK\\x13K\\x16K\\x14K\\x1fK\\rK\\x13K\\x11K\\x13K\\x13K\\x11K\\x16K\\x19K\\x10K\\x15K\\x19K\\nK\\x10K\\x0eK\\x0eK\\x13K\\x13K\\x08K\\x1cK\\x19K\\x15K\\x13K\\x12K\\x0eK\\x0eK\\nK\\x10K\\x1cK\\x13K\\x15K\\rK\\x16K\\rK\\x11K\\x16K\\x13K\\x16K\\x16K\\x10K\\x13K\\x16K\\x14K\\x16K\\x1cK\\x19K\\x12K\\x0cK\\x13K\\x18K\\rK\\x10K\\x16K\\x10K\\x11K\\x12K\\x15K\\x12K\\x15K\\x12K\\x12K\\x17K\\x1cK\\x13K\\rK\\x10K\\x0eK\\x16K\\x15K\\x11K\\x0eK\\x18K\\x17K\\x10K\\x16K\\x16K\\x17K\\x12K\\rK\\x19K\\x0fK\\x10K\\x11K\\x13K\\x14K\\x16K\\x19K\\x10K\\x10K\\x0cK\\x0fK\\x0eK\\x1aK\\x12K\\x14K\\x14K\\x19K\\x18K\\x11K\\x16K\\x18K\\x17K\\x1bK\\x18K\\x12K\\x18K\\x19K\\x14K\\x10K\\x1cK\\x0fK\\x15K\\x0eK\\x0fK\\x12K\\x10K\\x17K\\x16K\\x17K\\x10K\\x10K\\x11K\\x14K\\x11K\\x0cK\\x10K\\x17K\\x0fK\\x12K\\x13K\\x12K\\x14K\\rK\\x13K\\x1bK\\x12K\\x17K\\x0fK\\x13K\\x10K\\x18K\\x14K\\x11K\\x11K\\x1dK\\x0bK\\x0fK\\x10K\\x10K\\x12K\\x0eK\\x10K\\x18K\\x11K\\x14K\\x12K\\x10K\\nK\\x18K\\rK\\x16K\\x16K\\x1cK\\x14K\\x15K\\x15K\\x15K\\x0fK\\x14K\\x0eK\\x11K\\x0fK\\x19K\\x13K\\x11K\\x10K\\x18K\\x10K\\x08K\\x14K\\x13K\\x16K\\x11K\\x13K\\x12K\\x12K\\x15K\\x13K\\x11K\\x0eK\\x16K\"K\\x10K\\x15K\\x13K\\x12K\\x12K\\x18K\\x14K\\x12K\\x0fK\\x11K\\x0cK\\x19K\\x19K\\x13K\\x17K\\rK\\x15K\\x16K\\x12K\\x0fK\\x13K\\x14K\\x0cK\\x15K\\x0fK\\x16K\\x0fK\\x11K\\x11K\\x10K\\x10K\\x12K\\x17K\\x11K\\x11K\\x16K\\x18K\\x13K\\x0eK\\x16K\\x15K\\x14K\\x0eK\\x13K\\x14K\\x0eK\\rK\\x15K\\x0bK\\x19K\\x11K\\x10K\\rK\\x15K\\x1bK\\x12K\\x1bK\\x1dK\\x1cK\\x1aK\\x1dK\\x16K\"K\\x1bK\\x16K\\x1cK\\x12K\\x13K\\x0eK\\x17K\\x13K\\x10K\\x10K\\x18K\\rK\\x0fK\\x0bK\\x0fK\\x16K\\x12K\\x0fK\\x0fK\\x0fK\\x15K\\x0cK\\x0fK\\x10K\\x17K\\x15K\\x12K\\x14K\\x14K\\x11K\\rK\\rK\\x12K\\x14K\\x0eK\\x12K\\x0eK\\rK\\x11K\\x11K\\x10K\\x14K\\x11K\\x14K\\x0fK\\x11K\\x14K\\rK\\x12K\\x1dK\\x10K\\x0eK\\x16K\\x1cK\\x11K\\rK\\x0eK\\x12K\\x0cK\\nK\\x0fK\\x12K\\x1bK\\x0cK\\rK\\x17K\\x0fK\\x0cK\\nK\\x1aK\\x19K\\x10K\\nK\\x16K\\x10K\\x0eK\\x16K\\x15K\\x10K\\x10K\\x11K\\rK\\x13K\\x10K\\x10K\\x0bK\\tK\\tK\\x13K\\x13K\\x17K\\rK\\x16K\\x11K\\x0eK\\x13K\\x0cK\\x05K\\x15K\\x12K\\x13K\\rK\\x0bK\\x18K\\x15K\\x10K\\x10K\\x0eK\\x10K\\x11K\\x18K\\x15K\\x11K\\x19K\\x13K\\x12K\\x10K\\x12K\\x10K\\x12K\\x0eK\\x0bK\\x18K\\x18K\\x19K\\x11K\\x11K\\x0cK\\x11K\\x11K\\x14K\\x0fK\\x14K\\x0eK\\x0cK\\x10K\\x16K\\x13K\\x17K\\x0fK\\rK\\x0bK\\x11K\\x17K\\x11K\\x0fK\\nK\\x1aK\\rK\\x0cK\\x14K\\rK\\x0eK\\nK\\x10K\\nK\\x0eK\\x0eK\\x14K\\x19K\\x0cK\\x10K\\x0fK\\nK\\x12K\\x15K\\x10K\\x16K\\x0eK\\x10K\\x12K\\x11K\\x0eK\\x0fK\\x11K\\x16K\\x13K\\x0cK\\x0cK\\x0fK\\x0cK\\x12K\\x12K\\rK\\x10K\\x0cK\\rK\\x15K\\x14K\\x15K\\x14K\\rK\\rK\\x12K\\x10K\\rK\\x0eK\\x14K\\nK\\x14K\\x11K\\x16K\\rK\\x14K\\x18K\\x11K\\x14K\\x15K\\x16K\\x0eK\\x1dK\\x12K\\x0fK\\x18K\\x14K\\x12K\\rK\\x12K\\x14K\\x13K\\x0eK\\x14K\\x12K\\x0fK\\x0eK\\x0fK\\x13K\\x13K\\x12K\\x12K\\x12K\\x12K\\rK\\x10K\\x12K\\x13K\\x07K\\x15K\\x12K\\x11K\\x17K\\x10K\\x10K\\x10K\\x0cK\\x15K\\x0fK\\x0eK\\x0cK\\rK\\x11K\\x0cK\\x11K\\x0fK\\x18K\\x15K\\x17K\\x10K\\x19K\\x1aK\\x16K\\x14K\\x15K\\x0eK\\x0cK\\x14K\\x17K\\x10K\\x0eK\\x11K\\rK\\x10K\\x0eK\\x15K\\x16K\\x14K\\x0bK\\x0cK\\x0cK\\x0eK\\x0fK\\x11K\\x16K\\x11K\\x0fK\\x13K\\x0eK\\x12K\\x1dK\\x12K\\x18K\\x1cK\\x1bK\\x14K\\x1cK\\x11K\\x14K\\x0fK\\x11K\\x16K\\x10K\\x0bK\\x16K\\x12K\\x13K\\x1cK\\x10K\\x13K\\rK\\x10K\\rK\\x12K\\nK\\rK\\x0bK\\x11K\\x0fK\\x0eK\\x11K\\rK\\x1bK\\tK\\tK\\x13K\\x0cK\\x12K\\x15K\\x11K\\x0eK\\tK\\x0eK\\x0cK\\x12K\\x0bK\\x10K\\x12K\\x16K\\x14K\\x14K\\x11K\\x12K\\x12K\\x11K\\x0cK\\x0eK\\x19K\\x0fK\\x16K\\nK\\x14K\\x12K\\x12K\\x11K\\x0fK\\x10K\\x13K\\x0bK\\x10K\\rK\\x17K\\x13K\\x0cK\\x14K\\x12K\\x12K\\x0bK\\x15K\\rK\\x0cK\\x07K\\x16K\\x0cK\\x0fK\\x14K\\x0fK\\x10K\\tK\\rK\\x0bK\\x14K\\x17K\\x0bK\\re(K\\x14K\\x15K\\x13K\\x10K\\x1bK\\x11K\\nK\\x11K\\nK\\x0fK\\x15K\\x0cK\\x1cK\\x13K\\tK\\x0fK\\x0bK\\x15K\\rK\\x15K\\x16K\\x12K\\x08K\\x08K\\tK\\tK\\x0bK\\x16K\\x18K\\x0fK\\x15K\\x13K\\x0fK\\x08K\\x0cK\\nK\\x10K\\x0fK\\x17K\\rK\\x14K\\x10K\\x14K\\x12K\\x12K\\x0eK\\x10K\\x14K\\x08K\\x0fK\\rK\\x12K\\x11K\\nK\\x18K\\x0bK\\x17K\\x0cK\\x10K\\rK\\x12K\\x11K\\x13K\\x10K\\rK\\x0cK\\x0fK\\x1aK\\x1dK\\x1aK\\x1fK\\x13K\\x12K\\x15K\\x16K\\x1aK K\\x13K\\x10K\\x16K\\x0bK\\x0eK\\x0fK\\nK\\x10K\\x13K\\rK\\x10K\\x0eK\\x13K\\x14K\\x13K\\x1cK\\x0fK\\x11K\\x12K\\x13K\\x0cK\\x0eK\\x10K\\x17K\\x0fK\\x12K\\x0bK\\x14K\\x10K\\rK\\x19K\\tK\\x12K\\x14K\\x12K\\x0fK\\x0cK\\x10K\\x0fK\\x05K\\x18K\\tK\\x14K\\x0bK\\x0eK\\x11K\\tK\\x0fK\\x0eK\\x12K\\x12K\\tK\\x0eK\\x0eK\\x0bK\\x0bK\\x10K\\x19K\\rK\\x14K\\rK\\rK\\x11K\\x0fK\\x10K\\nK\\x0cK\\x0eK\\x11K\\x11K\\x10K\\x15K\\x0bK\\x0fK\\x13K\\x0bK\\x12K\\x0eK\\rK\\x07K\\tK\\x0cK\\x12K\\x0bK\\x11K\\x10K\\x14K\\x12K\\x10K\\x15K\\x11K\\x14K\\x0fK\\x11K\\x10K\\x11K\\x13K\\x12K\\x0cK\\x0bK\\rK\\x10K\\x12K\\x16K\\x14K\\x11K\\x0cK\\nK\\tK\\rK\\x0bK\\rK\\x0fK\\x07K\\x0bK\\x10K\\x0cK\\x15K\\x10K\\x0eK\\x13K\\x10K\\x15K\\x11K\\x13K\\rK\\nK\\x10K\\x0eK\\x15K\\x14K\\x11K\\x0fK\\x10K\\x12K\\x0eK\\x12K\\x0cK\\x0fK\\x08K\\tK\\nK\\x12K\\x0bK\\x11K\\x10K\\nK\\x12K\\x10K\\x1bK\\x0eK\\x15K\\x0fK\\tK\\x0fK\\x10K\\x10K\\x12K\\x10K\\x0cK\\x13K\\x0eK\\x10K\\x0eK\\x15K\\x0eK\\x12K\\x0cK\\x11K\\x13K\\x11K\\x11K\\x06K\\x0fK\\x0eK\\x10K\\x14K\\x12K\\x1aK\\x08K\\x11K\\x0eK\\x08K\\x13K\\x15K\\x12K\\x12K\\x0eK\\x0eK\\x13K\\x11K\\x14K\\x10K\\x13K\\x16K\\x0bK\\x11K\\x0fK\\x0eK\\x14K\\x17K\\x0fK\\x11K\\x0eK\\rK\\x16K\\x10K\\x0eK\\x13K\\rK\\x0eK\\x10K\\nK\\x0eK\\x12K\\rK\\x1aK\\x13K\\x12K\\x10K\\x13K\\x06K\\x14K\\x0cK\\x10K\\x14K\\x0fK\\tK\\rK\\x14K\\x11K\\x0fK\\x10K\\x0eK\\tK\\x0eK\\x10K\\x0fK\\x0cK\\x16K\\x13K\\x0bK\\x11K\\x0cK\\x13K\\x19K\\rK\\x15K\\x0cK\\x15K\\x15K\\x0bK\\rK\\x0bK\\x11K\\x0eK\\x0eK\\x10K\\nK\\x10K\\x0fK\\x10K\\x0bK\\x0eK\\x0cK\\x11K\\x10K\\rK\\x14K\\x17K\\x12K\\x0eK\\x13K\\x11K\\x12K\\x15K\\rK\\x0eK\\x0fK\\nK\\x13K\\x0bK\\x0fK\\x0cK\\x16K\\x12K\\tK\\x12K\\x14K\\x0eK\\x10K\\x0eK\\x0fK\\nK\\tK\\rK\\x0cK\\x0cK\\x0fK\\x08K\\x0bK\\x06K\\x12K\\x11K\\x0eK\\x13K\\x13K\\x12K\\rK\\tK\\x0cK\\x14K\\x12K\\x07K\\x12K\\tK\\x10K\\x0bK\\x08K\\x0cK\\x12K\\nK\\x0fK\\x13K\\x0fK\\rK\\x0cK\\x13K\\nK\\x12K\\x10K\\x0fK\\x07K\\x10K\\rK\\x15K\\x10K\\x08K\\x10K\\x0fK\\x11K\\tK\\x0cK\\x10K\\x0bK\\x11K\\x0eK\\tK\\x12K\\x0cK\\nK\\x0cK\\x12K\\x11K\\nK\\x13K\\rK\\x0bK\\x10K\\nK\\nK\\x0fK\\x10K\\x0cK\\x0cK\\x12K\\x0fK\\x0bK\\x0fK\\x0bK\\nK\\tK\\x10K\\x12K\\rK\\x0eK\\x0fK\\x08K\\x12K\\x11K\\x0cK\\x12K\\rK\\x0cK\\x18K\\x07K\\x16K\\nK\\x0eK\\x0eK\\x08K\\nK\\rK\\nK\\x17K\\rK\\nK\\x0bK\\rK\\x0eK\\x08K\\x12K\\x15K\\x08K\\x15K\\x14K\\x0eK\\x0bK\\x0cK\\rK\\x0fK\\x12K\\x11K\\x14K\\x08K\\x0bK\\rK\\x0cK\\x0fK\\x14K\\x12K\\x0fK\\x0eK\\x10K\\x10K\\x1bK\\tK\\rK\\x0cK\\x1aK\\x10K\\x11K\\rK\\x16K\\x0eK\\x10K\\x0eK\\x14K\\x11K\\tK\\x13K\\x07K\\x15K\\x14K\\x11K\\x0bK\\rK\\x0eK\\x0bK\\x10K\\x10K\\x0eK\\rK\\x12K\\x1aK\\x0eK\\x06K\\x0cK\\x0bK\\x0bK\\x14K\\x14K\\x0bK\\x11K\\rK\\x0cK\\x0fK\\x0bK\\rK\\x0eK\\x06K\\tK\\rK\\x10K\\x0fK\\x0cK\\x0bK\\x13K\\x0eK\\x0eK\\x0bK\\rK\\x0eK\\nK\\x10K\\x14K\\x0cK\\x0bK\\x0eK\\rK\\x11K\\x0bK\\x13K\\x07K\\x0fK\\x0eK\\x10K\\x10K\\x11K\\x0bK\\x0eK\\x11K\\x15K\\x08K\\x10K\\x0bK\\x13K\\x14K\\x0bK\\tK\\x0cK\\x08K\\x0eK\\x10K\\x10K\\nK\\nK\\rK\\x0cK\\x0fK\\x0fK\\x10K\\rK\\x15K\\x0eK\\x0fK\\x0fK\\tK\\x0bK\\x0cK\\x0cK\\rK\\x0bK\\rK\\x0eK\\x10K\\x0fK\\x0bK\\rK\\nK\\x0cK\\x10K\\nK\\x11K\\x11K\\x0bK\\x0fK\\x0cK\\x10K\\nK\\rK\\x10K\\x11K\\x0fK\\rK\\tK\\x0bK\\x10K\\x0bK\\x0bK\\tK\\x08K\\x11K\\x13K\\x0fK\\x0cK\\x0fK\\x0eK\\x0eK\\x0eK\\x10K\\tK\\x0fK\\x11K\\x10K\\x0fK\\rK\\rK\\x0eK\\x12K\\x0fK\\rK\\x0eK\\x10K\\x0fK\\x0fK\\x0eK\\x0fK\\x0fK\\x0cK\\x11K\\x0eK\\x0eK\\rK\\nK\\x15K\\x0fK\\x0fK\\x0bK\\x16K\\x12K\\x0fK\\x12K\\x0fK\\x0fK\\x0eK\\rK\\x0cK\\x0cK\\nK\\rK\\rK\\x12K\\x14K\\x0fK\\x11K\\x0eK\\nK\\x10K\\nK\\rK\\x11K\\x05K\\x0fK\\x0eK\\x0fK\\x0fK\\x13K\\x10K\\x10K\\x10K\\nK\\x12K\\x0eK\\x0fK\\x0bK\\x12K\\x0eK\\rK\\x0bK\\x0bK\\x11K\\x0bK\\x0eK\\x0fK\\x0eK\\x17K\\nK\\rK\\x0eK\\x08K\\x0fK\\x0bK\\x0eK\\rK\\rK\\nK\\x0eK\\x0cK\\x0eK\\x06K\\nK\\x10K\\x0bK\\x0bK\\x0fK\\x12K\\x0fK\\x0fK\\x08K\\x0eK\\x11K\\x11K\\rK\\x0fK\\x11K\\x14K\\x0eK\\tK\\x08K\\tK\\rK\\x11K\\tK\\nK\\rK\\x0fK\\rK\\nK\\x0cK\\x08K\\x10K\\x0cK\\x15K\\tK\\x0fK\\x0fK\\x11K\\x0bK\\x0bK\\rK\\x12K\\x11K\\tK\\nK\\nK\\x0cK\\x11K\\x0eK\\tK\\tK\\x0fK\\x0eK\\tK\\x12K\\x0cK\\x0cK\\x13K\\x0cK\\x14K\\x0bK\\nK\\x0bK\\x15K\\x10K\\rK\\rK\\x0bK\\x10K\\nK\\x14K\\x0bK\\x0bK\\x0eK\\x13K\\tK\\x08K\\x12K\\x0eK\\x12K\\x0cK\\x07K\\x04K\\x08K\\x07K\\x0cK\\x0cK\\x0fK\\tK\\x0eK\\x0fK\\tK\\x15K\\x0bK\\x0fK\\x08K\\x12K\\x0bK\\nK\\tK\\nK\\x12K\\x0cK\\x0fK\\x0cK\\x08K\\tK\\nK\\x0bK\\x0fK\\nK\\x0eK\\x0bK\\x0cK\\x10K\\x0bK\\x0eK\\x0cK\\x13K\\rK\\x11K\\nK\\x0cK\\x0eK\\x0eK\\nK\\x0cK\\x0bK\\x0fK\\rK\\x17K\\nK\\nK\\x0bK\\nK\\x15K\\x10K\\rK\\x07K\\x11K\\rK\\x11K\\x10K\\nK\\x0eK\\x0fK\\x0fK\\x0eK\\x0cK\\x0cK\\x12K\\x05K\\rK\\x0cK\\tK\\x0cK\\x0cK\\x0bK\\x0bK\\x15K\\x06K\\nK\\x10K\\nK\\rK\\x0fK\\rK\\rK\\x10K\\x0eK\\tK\\x0fK\\rK\\x08K\\x10K\\x11K\\rK\\x14K\\x0cK\\x08K\\x14K\\x08K\\x0cK\\x10K\\x08K\\x11K\\nK\\x0fK\\x0eK\\rK\\x11K\\x11K\\x15K\\x11K\\rK\\rK\\rK\\tK\\x0bK\\x0fK\\x11K\\x0cK\\x0eK\\x0cK\\x0eK\\x08K\\nK\\tK\\rK\\x07K\\x0bK\\tK\\x0cK\\x10K\\rK\\x12K\\tK\\x10K\\x10K\\x0fK\\x0cK\\x06K\\x0cK\\x0cK\\x0eK\\x07K\\x0fK\\rK\\x0bK\\x0cK\\x0bK\\x06K\\x0eK\\nK\\x04K\\x05K\\x0bK\\x0fK\\x11K\\x0fK\\x12K\\x10K\\rK\\x0eK\\x07K\\x10K\\x0bK\\x0bK\\x0fK\\tK\\rK\\x0fK\\x08K\\x0cK\\x14K\\x0bK\\x06K\\x0bK\\tK\\x0eK\\x0cK\\x0bK\\x10e(K\\x0fK\\x0bK\\x0eK\\x0eK\\x0eK\\x0cK\\x0cK\\nK\\x07K\\x08K\\x0cK\\nK\\x0bK\\x0eK\\x06K\\x0eK\\rK\\x0cK\\nK\\x03K\\nK\\x0fK\\x0cK\\x16K\\x10K\\x0bK\\x0eK\\tK\\x10K\\x0cK\\x10K\\x10K\\nK\\x0eK\\tK\\tK\\x0eK\\x0cK\\x07K\\x0bK\\nK\\x10K\\x12K\\tK\\x0cK\\x0fK\\rK\\x11K\\x0eK\\x0bK\\x13K\\x0bK\\x04K\\x08K\\x0bK\\rK\\rK\\x04K\\x12K\\x07K\\x10K\\nK\\rK\\x11K\\tK\\x10K\\x12K\\rK\\x0fK\\nK\\x0cK\\x0bK\\x0fK\\rK\\x0bK\\x13K\\x0fK\\x0bK\\x15K\\rK\\x0fK\\x0bK\\x0fK\\x0eK\\x0cK\\x0fK\\x0cK\\x0fK\\x0cK\\x13K\\x08K\\x0bK\\x0cK\\nK\\x0bK\\tK\\x0eK\\x13K\\x0bK\\x0bK\\x12K\\rK\\x08K\\x14K\\x08K\\x0fK\\x0eK\\x10K\\nK\\x0eK\\rK\\nK\\x11K\\x0cK\\nK\\x0fK\\x0eK\\x0bK\\tK\\x0cK\\rK\\x08K\\x0cK\\x0fK\\x12K\\rK\\rK\\x0bK\\x07K\\x0eK\\x0eK\\rK\\x11K\\x0eK\\x0cK\\nK\\x06K\\x0bK\\x11K\\x0cK\\x0cK\\x10K\\x0eK\\x0bK\\x0fK\\x0eK\\x0cK\\nK\\nK\\x11K\\x0bK\\x0bK\\x08K\\rK\\x08K\\x0fK\\x0cK\\x07K\\x15K\\nK\\x0eK\\x0eK\\tK\\x0cK\\rK\\nK\\x06K\\x0eK\\x0fK\\tK\\x06K\\x0fK\\x0cK\\nK\\x0bK\\rK\\nK\\x0fK\\x10K\\x08K\\x05K\\x0bK\\tK\\x08K\\nK\\x0fK\\x0eK\\x10K\\x06K\\x08K\\x0bK\\x0eK\\x07K\\x0bK\\x10K\\x10K\\x0cK\\x12K\\x0eK\\rK\\nK\\x0eK\\x0fK\\x0bK\\x0cK\\x0bK\\x0eK\\x13K\\nK\\x10K\\rK\\x08K\\x0fK\\x10K\\x0bK\\x0eK\\x0bK\\tK\\rK\\x08K\\x0cK\\x0fK\\tK\\x08K\\tK\\x0bK\\rK\\x0fK\\x11K\\tK\\rK\\nK\\x08K\\x0eK\\nK\\x0cK\\x11K\\x08K\\x0bK\\x0cK\\x0bK\\x0eK\\tK\\x10K\\x0bK\\x07K\\x10K\\x11K\\rK\\x08K\\x06K\\nK\\x0eK\\x0bK\\x0eK\\nK\\x10K\\x11K\\rK\\x06K\\x16K\\rK\\x0bK\\x07K\\x0bK\\x0bK\\nK\\x15K\\x0fK\\x0fK\\x10K\\x0fK\\x0bK\\rK\\x12K\\x0cK\\x10K\\nK\\x0eK\\x0cK\\nK\\nK\\x0cK\\x10K\\x0cK\\nK\\x0eK\\x08K\\x0eK\\x08K\\tK\\rK\\rK\\nK\\x0cK\\x0fK\\x0bK\\x0eK\\x07K\\x11K\\x08K\\x08K\\x10K\\x07K\\x07K\\nK\\x0bK\\x0bK\\x0cK\\x0bK\\x0eK\\x08K\\nK\\x0cK\\x08K\\nK\\x0fK\\x0bK\\x11K\\nK\\nK\\x14K\\x08K\\x0cK\\x0cK\\x0eK\\x08K\\nK\\x0cK\\x08K\\x08K\\x0bK\\rK\\x13K\\rK\\tK\\tK\\x0bK\\x0fK\\tK\\x0fK\\x0fK\\nK\\nK\\x0cK\\nK\\x05K\\nK\\x0fK\\x05K\\x12K\\rK\\tK\\nK\\x0cK\\nK\\x0eK\\x17K\\x0cK\\x14K\\x11K\\tK\\x0eK\\x06K\\nK\\nK\\nK\\nK\\x0cK\\nK\\tK\\x0cK\\nK\\rK\\rK\\x0cK\\x0cK\\x08K\\x0eK\\x0eK\\nK\\x04K\\x0bK\\nK\\tK\\nK\\x12K\\x05K\\x08K\\x08K\\x14K\\nK\\rK\\nK\\x0cK\\x08K\\x10K\\x0cK\\x0bK\\x0cK\\nK\\x04K\\x0cK\\tK\\x07K\\x0bK\\tK\\x10K\\nK\\x0fK\\x07K\\x0cK\\x0eK\\x12K\\x0eK\\x0fK\\x10K\\tK\\x0eK\\nK\\x08K\\x0fK\\x07K\\tK\\x0cK\\x08K\\x0fK\\nK\\nK\\rK\\x08K\\x06K\\tK\\x06K\\x0cK\\rK\\x06K\\x07K\\nK\\x0bK\\x0eK\\x07K\\tK\\nK\\x0bK\\x0cK\\rK\\tK\\tK\\x07K\\rK\\nK\\nK\\rK\\x08K\\x0eK\\x0eK\\rK\\x12K\\x0cK\\x06K\\tK\\x07K\\nK\\x07K\\x0bK\\x0bK\\x0cK\\x15K\\x08K\\nK\\x0bK\\x03K\\rK\\x07K\\nK\\x0eK\\x0bK\\nK\\x0bK\\nK\\x08K\\x08K\\x0fK\\x0bK\\x06K\\x0cK\\x0bK\\x0bK\\x10K\\x0bK\\x0fK\\nK\\x0bK\\x10K\\nK\\x0eK\\tK\\x0cK\\x0bK\\tK\\tK\\x06K\\rK\\nK\\x0bK\\x08K\\rK\\tK\\x05K\\rK\\x0cK\\x0bK\\x07K\\x06K\\x10K\\x0bK\\rK\\tK\\x08K\\x10K\\x0cK\\x0bK\\x0cK\\nK\\x07K\\x0eK\\x0eK\\tK\\tK\\x08K\\x0cK\\x08K\\x07K\\x11K\\nK\\x0bK\\x0cK\\tK\\x11K\\x05K\\tK\\x0cK\\x0cK\\x0eK\\x06K\\x0bK\\x0eK\\x14K\\tK\\tK\\x0bK\\tK\\nK\\x0bK\\x0fK\\x0bK\\x0cK\\x08K\\x08K\\x18K\\x0bK\\x0cK\\nK\\x08K\\x06K\\rK\\x05K\\x0cK\\tK\\x0cK\\x08K\\x08K\\x0cK\\x0fK\\tK\\x0eK\\x0eK\\x0fK\\x0bK\\nK\\nK\\x08K\\nK\\rK\\rK\\nK\\rK\\x0cK\\nK\\tK\\nK\\x05K\\x0bK\\tK\\tK\\x0bK\\tK\\x0bK\\x06K\\x05K\\x0eK\\x06K\\x06K\\nK\\x08K\\x0bK\\tK\\x07K\\x0bK\\x0bK\\nK\\x07K\\x08K\\nK\\x0cK\\x0fK\\x06K\\x0eK\\tK\\x13K\\x04K\\x08K\\x07K\\x11K\\x08K\\x0bK\\tK\\x06K\\x0eK\\nK\\nK\\tK\\x07K\\x07K\\x0bK\\x0eK\\x07K\\x08K\\x08K\\x0bK\\x07K\\rK\\x0eK\\x07K\\x07K\\tK\\x12K\\x06K\\tK\\nK\\x0cK\\x10K\\nK\\nK\\x0eK\\nK\\nK\\tK\\x06K\\x0cK\\x0cK\\x0eK\\nK\\x07K\\nK\\x0bK\\nK\\x0bK\\x08K\\rK\\x0eK\\x08K\\tK\\x0bK\\x07K\\nK\\x06K\\tK\\x0cK\\x0bK\\x0bK\\x08K\\x05K\\nK\\x04K\\rK\\tK\\x0fK\\x0cK\\nK\\tK\\x0bK\\x0cK\\x07K\\x05K\\x07K\\x0eK\\tK\\x0eK\\tK\\x0bK\\x0fK\\x0eK\\x07K\\x0bK\\x0bK\\x0cK\\nK\\tK\\x0cK\\x11K\\nK\\x0cK\\x04K\\x0bK\\x10K\\x07K\\x0bK\\rK\\x06K\\x07K\\nK\\x08K\\x14K\\x10K\\x0bK\\x05K\\tK\\x11K\\x0cK\\x0bK\\x0cK\\tK\\x03K\\tK\\tK\\tK\\x07K\\x0cK\\x0eK\\tK\\x08K\\x14K\\x0bK\\x0cK\\nK\\nK\\tK\\x06K\\x0cK\\x0bK\\x07K\\tK\\x0cK\\nK\\x06K\\x08K\\nK\\rK\\x0eK\\x0bK\\nK\\x0cK\\rK\\x08K\\x08K\\x0bK\\x0cK\\x07K\\nK\\x05K\\x07K\\x0eK\\rK\\x04K\\nK\\x06K\\nK\\x07K\\x14K\\x06K\\tK\\x0bK\\nK\\x0fK\\x06K\\x0cK\\x0cK\\x0bK\\x05K\\x0bK\\tK\\x07K\\rK\\x04K\\x06K\\x0cK\\nK\\x0bK\\x07K\\x04K\\x0eK\\x0bK\\rK\\x08K\\x10K\\x07K\\rK\\tK\\nK\\x0fK\\x08K\\x0fK\\x05K\\x08K\\x07K\\x06K\\x0fK\\x12K\\tK\\x0bK\\nK\\x08K\\rK\\x0cK\\x0eK\\x07K\\nK\\nK\\tK\\x0fK\\x10K\\tK\\x0eK\\x0cK\\nK\\tK\\x08K\\nK\\rK\\tK\\x06K\\x06K\\x10K\\x0bK\\x08K\\tK\\x0bK\\x0cK\\tK\\nK\\tK\\x0bK\\x06K\\x0fK\\tK\\rK\\x05K\\rK\\tK\\x07K\\x07K\\tK\\x0bK\\x05K\\x06K\\x0bK\\x08K\\x06K\\x05K\\x0cK\\x0bK\\x0cK\\nK\\x0bK\\rK\\x06K\\tK\\tK\\x07K\\tK\\tK\\nK\\x04K\\x06K\\rK\\x0cK\\nK\\nK\\tK\\tK\\x06K\\x0cK\\tK\\x04K\\x02K\\tK\\x06K\\rK\\tK\\x08K\\x0eK\\x08K\\x0bK\\x08K\\tK\\x0eK\\nK\\nK\\nK\\x08K\\x0cK\\x10K\\x06K\\x07K\\x06K\\x07K\\rK\\x06K\\x08K\\rK\\tK\\x0eK\\tK\\x07K\\nK\\x0bK\\nK\\x08K\\x08K\\x08K\\rK\\rK\\x07K\\x0cK\\x06K\\x0cK\\nK\\x07K\\x0fK\\x06K\\x08K\\x08K\\tK\\tK\\tK\\x06K\\x04K\\tK\\x0eK\\x08K\\nK\\x05K\\x05K\\x05K\\nK\\x10K\\x0bK\\x07K\\nK\\x07K\\x05K\\x07K\\nK\\x0bK\\x04K\\tK\\nK\\nK\\x08K\\x05K\\x08K\\x0bK\\rK\\x08K\\x0eK\\x06K\\nK\\x07K\\tK\\tK\\x0bK\\x08K\\x0bK\\x0eK\\x07K\\tK\\tK\\nK\\x08K\\nK\\x02K\\x08K\\x03K\\x0eK\\x18K\\x10K\\tK\\x0be(K\\x08K\\x0fK\\x08K\\x06K\\x0bK\\tK\\x0cK\\x0cK\\x0bK\\x0fK\\x07K\\x07K\\x0bK\\rK\\x06K\\x10K\\nK\\x05K\\nK\\x08K\\x06K\\x05K\\x0cK\\tK\\nK\\tK\\x0eK\\nK\\x0bK\\x0cK\\x0bK\\x0cK\\nK\\nK\\nK\\x0eK\\x07K\\x06K\\x06K\\rK\\x06K\\x08K\\x07K\\x0bK\\x0eK\\x07K\\x0bK\\x0eK\\x0bK\\x0bK\\x06K\\x06K\\nK\\tK\\x07K\\x0cK\\x0bK\\x08K\\x08K\\x04K\\tK\\x05K\\x0bK\\tK\\x07K\\x08K\\x0cK\\nK\\rK\\x06K\\nK\\x08K\\tK\\nK\\nK\\rK\\x08K\\x0fK\\nK\\nK\\x08K\\x08K\\x08K\\x07K\\x06K\\x07K\\tK\\x07K\\x0bK\\x0bK\\x0bK\\x07K\\x06K\\x0bK\\x05K\\tK\\x05K\\nK\\x0cK\\x10K\\nK\\x0fK\\x08K\\x06K\\nK\\nK\\tK\\x0bK\\x0eK\\tK\\x0eK\\x0cK\\x0eK\\x0cK\\x05K\\nK\\x08K\\x0fK\\nK\\x0fK\\x0bK\\nK\\x07K\\nK\\rK\\x08K\\x0cK\\nK\\x07K\\tK\\x05K\\x0cK\\x06K\\x0eK\\x0cK\\tK\\tK\\tK\\x0bK\\nK\\nK\\x04K\\x0eK\\x08K\\nK\\x08K\\x08K\\x08K\\x07K\\x0bK\\x06K\\x08K\\x07K\\x06K\\tK\\x08K\\tK\\x08K\\x08K\\nK\\rK\\x05K\\x08K\\x0bK\\x0cK\\x07K\\x07K\\tK\\x08K\\x08K\\x03K\\x05K\\x08K\\x06K\\x08K\\x06K\\x05K\\x0cK\\x07K\\x0eK\\nK\\x0eK\\x0bK\\nK\\x06K\\x02K\\x0bK\\x0bK\\x07K\\x05K\\tK\\x04K\\x07K\\x0fK\\x08K\\x07K\\x08K\\x0cK\\nK\\tK\\nK\\x08K\\x07K\\x07K\\x11K\\x06K\\x08K\\x0bK\\nK\\tK\\x07K\\tK\\x07K\\x06K\\x0eK\\x06K\\x0bK\\x07K\\x06K\\tK\\x06K\\x07K\\tK\\x0cK\\x0fK\\x0bK\\tK\\x04K\\x05K\\x08K\\x08K\\tK\\nK\\tK\\x05K\\x06K\\x06K\\x04K\\nK\\nK\\tK\\x07K\\nK\\tK\\nK\\x08K\\x11K\\x0bK\\x0cK\\x08K\\x0fK\\x08K\\x06K\\x04K\\x08K\\x08K\\x08K\\x05K\\x0bK\\tK\\nK\\x0fK\\x07K\\nK\\tK\\x05K\\x0cK\\x05K\\x0eK\\x0eK\\tK\\x06K\\nK\\tK\\x0bK\\x07K\\tK\\x08K\\x08K\\x0cK\\nK\\x05K\\x0cK\\x0cK\\x0eK\\x03K\\x08K\\x04K\\tK\\x0bK\\x06K\\x07K\\tK\\x0bK\\tK\\rK\\x03K\\x04K\\x06K\\x06K\\x03K\\x06K\\x05K\\x0bK\\tK\\rK\\x0bK\\x03K\\x0cK\\tK\\nK\\tK\\x0cK\\nK\\nK\\x0cK\\x03K\\x08K\\x05K\\nK\\x07K\\x0bK\\x05K\\x08K\\tK\\x06K\\nK\\x06K\\x08K\\x06K\\rK\\tK\\x0bK\\x08K\\x06K\\x07K\\tK\\x07K\\tK\\x03K\\x10K\\tK\\x07K\\x08K\\nK\\tK\\x06K\\x07K\\x0cK\\x0bK\\x02K\\x08K\\x0bK\\x06K\\x03K\\x0cK\\tK\\x05K\\nK\\rK\\tK\\x06K\\x0cK\\tK\\x04K\\x06K\\tK\\x06K\\x0bK\\tK\\tK\\x05K\\tK\\nK\\tK\\tK\\tK\\x0bK\\x11K\\x06K\\x07K\\x05K\\x0bK\\x0fK\\x07K\\x03K\\x0bK\\x0cK\\x06K\\rK\\x07K\\x11K\\nK\\x0fK\\x0fK\\x17K!K&K\\x1eK2K%K4K:K@K2K+K-K\"K\\x1bK\"K\\x17K\\x11K\\x0fK\\x10K\\rK\\x06K\\x06K\\tK\\x06K\\x05K\\x08K\\x11K\\x08K\\x07K\\x07K\\tK\\x07K\\x06K\\x06K\\x05K\\nK\\x0cK\\nK\\tK\\x08K\\nK\\tK\\x05K\\x06K\\x08K\\x05K\\x07K\\x06K\\x07K\\nK\\x07K\\x08K\\x06K\\x06K\\x07K\\x0bK\\x08K\\x04K\\x06K\\x08K\\x07K\\x01K\\x06K\\x0bK\\x06K\\nK\\x07K\\x06K\\rK\\x05K\\x06K\\tK\\x07K\\rK\\tK\\tK\\tK\\x04K\\x04K\\x07K\\x05K\\x04K\\rK\\tK\\x05K\\x0bK\\x07K\\x06K\\x05K\\x07K\\x0bK\\nK\\x08K\\x07K\\x07K\\x0bK\\x07K\\nK\\x06K\\x07K\\x08K\\x05K\\tK\\x07K\\tK\\tK\\x0cK\\x08K\\rK\\nK\\x0cK\\x07K\\x0eK\\x0cK\\x05K\\x07K\\nK\\x03K\\x0cK\\nK\\x08K\\x08K\\x08K\\x06K\\x04K\\x05K\\x06K\\tK\\x08K\\x07K\\nK\\x07K\\x06K\\x05K\\x08K\\x06K\\x08K\\x07K\\x07K\\tK\\x08K\\x04K\\x07K\\x08K\\tK\\rK\\x07K\\x07K\\tK\\tK\\nK\\nK\\x07K\\x02K\\x05K\\x02K\\tK\\x03K\\x07K\\x07K\\x05K\\x05K\\x06K\\x05K\\rK\\x06K\\x04K\\x08K\\x08K\\tK\\x03K\\x07K\\x05K\\x05K\\x05K\\x05K\\x07K\\x0cK\\x0cK\\nK\\x06K\\x06K\\x06K\\x05K\\x07K\\x08K\\tK\\x0cK\\tK\\x07K\\x08K\\x05K\\x04K\\x06K\\x05K\\x07K\\x06K\\tK\\x04K\\x0cK\\x06K\\nK\\x03K\\x0bK\\x06K\\x0cK\\nK\\x08K\\nK\\x05K\\tK\\x08K\\x06K\\x0fK\\nK\\tK\\x07K\\x07K\\x08K\\x07K\\x07K\\x04K\\tK\\x04K\\tK\\nK\\x03K\\x06K\\x06K\\x08K\\x06K\\x08K\\x04K\\x05K\\x07K\\x06K\\x04K\\x08K\\x02K\\x04K\\x07K\\x07K\\x0cK\\x04K\\x06K\\nK\\x0cK\\nK\\x03K\\x0cK\\nK\\x0cK\\x08K\\x07K\\x03K\\x0cK\\x06K\\x0cK\\x06K\\rK\\x08K\\x08K\\x07K\\tK\\tK\\x08K\\tK\\tK\\x06K\\nK\\x08K\\x05K\\x05K\\rK\\x08K\\x02K\\tK\\x07K\\x08K\\x08K\\x06K\\x08K\\x03K\\x05K\\x05K\\x0bK\\x07K\\x0fK\\tK\\x06K\\x04K\\x06K\\x08K\\x05K\\tK\\x03K\\x07K\\x07K\\tK\\x08K\\x08K\\x0eK\\nK\\x08K\\x03K\\x06K\\x04K\\x07K\\x07K\\x0bK\\x06K\\x0bK\\x07K\\x06K\\tK\\x0cK\\x07K\\x03K\\x06K\\x07K\\x07K\\x05K\\x08K\\nK\\nK\\x03K\\x08K\\x04K\\x07K\\nK\\nK\\nK\\tK\\x07K\\tK\\x04K\\x05K\\x05K\\x05K\\x0bK\\rK\\x03K\\tK\\x07K\\nK\\x07K\\x06K\\x06K\\x03K\\x08K\\x05K\\x07K\\x05K\\x08K\\x05K\\tK\\x05K\\x05K\\tK\\x0eK\\tK\\x08K\\x07K\\rK\\x08K\\x06K\\x06K\\x07K\\x05K\\x05K\\x07K\\rK\\x07K\\nK\\x07K\\x04K\\x08K\\x08K\\x08K\\x0bK\\x05K\\x05K\\nK\\x07K\\x08K\\x03K\\x08K\\x0cK\\x04K\\nK\\x03K\\x06K\\tK\\x0cK\\x07K\\tK\\x06K\\nK\\tK\\x07K\\x06K\\x05K\\x05K\\x02K\\x08K\\x0bK\\x07K\\x07K\\x07K\\x06K\\x06K\\x08K\\x05K\\x03K\\x07K\\x0bK\\x06K\\x07K\\tK\\x06K\\x07K\\x06K\\x04K\\x05K\\x02K\\x05K\\x03K\\x0bK\\tK\\tK\\x07K\\nK\\x05K\\x06K\\nK\\nK\\x06K\\x0cK\\tK\\x05K\\x06K\\x05K\\x07K\\x07K\\x04K\\tK\\x05K\\x06K\\x07K\\x0bK\\tK\\x03K\\x0cK\\x07K\\x06K\\tK\\nK\\x08K\\x06K\\x0cK\\x06K\\x0bK\\tK\\nK\\x08K\\x08K\\x07K\\x06K\\x08K\\tK\\x08K\\nK\\x05K\\x05K\\x08K\\x02K\\x04K\\tK\\x08K\\x04K\\x05K\\x04K\\x07K\\x03K\\x06K\\nK\\x05K\\x08K\\x06K\\x06K\\x06K\\x04K\\x08K\\x03K\\tK\\x06K\\x06K\\x08K\\x07K\\x06K\\x06K\\x05K\\x07K\\x0cK\\x06K\\x02K\\x04K\\x05K\\nK\\nK\\x05K\\x03K\\x05K\\rK\\x05K\\x08K\\x06K\\x0bK\\x0bK\\nK\\x08K\\x04K\\x05K\\x04K\\nK\\x06K\\x07K\\x05K\\tK\\x05K\\x07K\\x05K\\x08K\\nK\\x02K\\x07K\\x03K\\tK\\x08K\\x06K\\x08K\\x08K\\x02K\\tK\\x07K\\rK\\x04K\\x01K\\x07K\\x02K\\tK\\x04K\\x03K\\x03K\\x05K\\x07K\\x04K\\x05K\\x0bK\\x0cK\\x0cK\\x08K\\x0cK\\x0bK\\x04K\\x08K\\x05K\\nK\\nK\\x03K\\x06K\\x01K\\x03K\\x06K\\x04K\\x08K\\x0cK\\x06K\\rK\\x0bK\\x03K\\x04K\\x08K\\x05K\\x07K\\x04K\\x06K\\tK\\x05K\\x08K\\x07K\\x04K\\tK\\x0bK\\x0cK\\tK\\x04K\\x07K\\x0cK\\x08K\\x07K\\x0bK\\tK\\x08K\\x08e(K\\x01K\\tK\\x05K\\x07K\\x07K\\x07K\\x06K\\x07K\\x04K\\x07K\\x06K\\tK\\x04K\\x05K\\x06K\\x08K\\x06K\\nK\\x06K\\x08K\\x06K\\x04K\\x07K\\tK\\x05K\\x08K\\x07K\\x06K\\x03K\\nK\\x0bK\\x08K\\x08K\\tK\\x07K\\x05K\\x08K\\x08K\\x06K\\x04K\\x03K\\x06K\\x05K\\x04K\\nK\\x08K\\nK\\x0cK\\x03K\\x08K\\x07K\\x08K\\tK\\tK\\tK\\x05K\\x0bK\\nK\\nK\\tK\\x04K\\x08K\\x08K\\x08K\\tK\\nK\\x0bK\\tK\\x11K\\x10K\\x12K\\x10K\\rK\\x13K\\rK\\x0bK\\x07K\\x0cK\\x04K\\x0bK\\x07K\\x08K\\x05K\\x06K\\x05K\\x0cK\\x07K\\x02K\\x0bK\\x04K\\x07K\\x04K\\x08K\\x07K\\x07K\\x06K\\x05K\\x06K\\x03K\\x0eK\\x07K\\x08K\\tK\\x06K\\x07K\\x05K\\x06K\\x0cK\\x05K\\x04K\\x07K\\tK\\x06K\\x0bK\\x06K\\x08K\\x06K\\x06K\\x08K\\x08K\\x0bK\\x05K\\x08K\\tK\\x0cK\\x07K\\x04K\\x06K\\x06K\\x04K\\x07K\\x07K\\x08K\\x03K\\x04K\\x0bK\\tK\\x08K\\x08K\\tK\\x0bK\\x06K\\nK\\x02K\\x04K\\x06K\\tK\\x0fK\\x0cK\\x07K\\x08K\\x07K\\x03K\\x03K\\x06K\\x04K\\x06K\\x08K\\x06K\\x06K\\x06K\\x07K\\x05K\\x05K\\x07K\\x06K\\tK\\x03K\\x02K\\x03K\\x06K\\x06K\\x05K\\x05K\\x04K\\tK\\x07K\\x08K\\x07K\\x07K\\x06K\\x07K\\x06K\\x03K\\nK\\x06K\\x06K\\x06K\\x08K\\x06K\\x05K\\x08e.'\n"
     ]
    }
   ],
   "source": [
    "print(dmp_counts)"
   ]
  },
  {
   "cell_type": "code",
   "execution_count": 43,
   "metadata": {},
   "outputs": [
    {
     "data": {
      "text/plain": [
       "int"
      ]
     },
     "execution_count": 43,
     "metadata": {},
     "output_type": "execute_result"
    }
   ],
   "source": [
    "type(counts[-1])"
   ]
  },
  {
   "cell_type": "code",
   "execution_count": 44,
   "metadata": {},
   "outputs": [
    {
     "data": {
      "text/plain": [
       "2057.0"
      ]
     },
     "execution_count": 44,
     "metadata": {},
     "output_type": "execute_result"
    }
   ],
   "source": [
    "16456/8"
   ]
  },
  {
   "cell_type": "code",
   "execution_count": 45,
   "metadata": {},
   "outputs": [
    {
     "data": {
      "text/plain": [
       "int"
      ]
     },
     "execution_count": 45,
     "metadata": {},
     "output_type": "execute_result"
    }
   ],
   "source": [
    "ai = 7\n",
    "type(ai)"
   ]
  },
  {
   "cell_type": "code",
   "execution_count": 46,
   "metadata": {},
   "outputs": [
    {
     "data": {
      "text/plain": [
       "int"
      ]
     },
     "execution_count": 46,
     "metadata": {},
     "output_type": "execute_result"
    }
   ],
   "source": [
    "ai2 = 256*256\n",
    "type(ai2)"
   ]
  },
  {
   "cell_type": "code",
   "execution_count": 47,
   "metadata": {},
   "outputs": [
    {
     "data": {
      "text/plain": [
       "int"
      ]
     },
     "execution_count": 47,
     "metadata": {},
     "output_type": "execute_result"
    }
   ],
   "source": [
    "ai3 = ai2*ai2\n",
    "type(ai3)"
   ]
  },
  {
   "cell_type": "code",
   "execution_count": 48,
   "metadata": {},
   "outputs": [
    {
     "data": {
      "text/plain": [
       "int"
      ]
     },
     "execution_count": 48,
     "metadata": {},
     "output_type": "execute_result"
    }
   ],
   "source": [
    "ai4 = ai3*ai3*ai3*ai3*ai3*ai3\n",
    "type(ai4)"
   ]
  },
  {
   "cell_type": "code",
   "execution_count": 49,
   "metadata": {},
   "outputs": [
    {
     "data": {
      "text/plain": [
       "6277101735386680763835789423207666416102355444464034512896"
      ]
     },
     "execution_count": 49,
     "metadata": {},
     "output_type": "execute_result"
    }
   ],
   "source": [
    "ai4"
   ]
  },
  {
   "cell_type": "code",
   "execution_count": null,
   "metadata": {},
   "outputs": [],
   "source": []
  }
 ],
 "metadata": {
  "kernelspec": {
   "display_name": "Python 3",
   "language": "python",
   "name": "python3"
  },
  "language_info": {
   "codemirror_mode": {
    "name": "ipython",
    "version": 3
   },
   "file_extension": ".py",
   "mimetype": "text/x-python",
   "name": "python",
   "nbconvert_exporter": "python",
   "pygments_lexer": "ipython3",
   "version": "3.7.7"
  }
 },
 "nbformat": 4,
 "nbformat_minor": 4
}
