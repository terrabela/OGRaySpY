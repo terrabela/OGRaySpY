{
 "cells": [
  {
   "cell_type": "code",
   "execution_count": 1,
   "id": "075b6637-b15f-4f9e-a893-286be9edf382",
   "metadata": {},
   "outputs": [],
   "source": [
    "import numpy as np\n",
    "import numpy.ma as ma  # masked array\n",
    "from numpy.polynomial import Polynomial as P # 2020-09-06 Esta é a nova classe recomendada \n",
    "from numpy import linalg as LA\n",
    "\n",
    "# https://realpython.com/python-import/\n",
    "# https://docs.python-guide.org/writing/structure/\n",
    "\n",
    "import scipy.stats as sta # statistics\n",
    "# from scipy.stats import norm\n",
    "# from scipy.special import (erf, erfinv)\n",
    "import scipy.special as spsp\n",
    "from scipy.optimize import curve_fit\n",
    "# import scipy.optimize as spoptim\n",
    "# 2020-08-30\n",
    "from scipy import ndimage # label, generate_binary_structure, find_objects, binary_dilation\n",
    "\n",
    "# Gráficos e widgets:\n",
    "import plotly.graph_objects as go\n",
    "from ipywidgets import widgets"
   ]
  },
  {
   "cell_type": "code",
   "execution_count": 2,
   "id": "2025e7ed-894e-4419-8fa5-80b91ab81271",
   "metadata": {},
   "outputs": [],
   "source": [
    "def step_baseline(ini_cnt_mplet, fin_cnt_mplet, multiplet_counts):\n",
    "    \"\"\"Calculate step baseline inside a region. Called just by calculate_base_line.\"\"\"\n",
    "    _y0 = ini_cnt_mplet\n",
    "    _y1 = fin_cnt_mplet\n",
    "    _ys = multiplet_counts\n",
    "    contin = np.zeros(_ys.size)\n",
    "    gross_area = np.sum(_ys)+_y1\n",
    "    delta_y = _y1-_y0\n",
    "    n_ys = _ys.size\n",
    "    print(gross_area)\n",
    "    print('===')\n",
    "    for i in range(n_ys):\n",
    "        print(i)\n",
    "        sum_y = np.sum(_ys[0:i+1])\n",
    "        print(sum_y)\n",
    "        result = _y0 + delta_y * sum_y/gross_area\n",
    "        print(result)\n",
    "        contin[i] = result\n",
    "        print(contin[i])\n",
    "        print('===')\n",
    "    return contin"
   ]
  },
  {
   "cell_type": "code",
   "execution_count": 3,
   "id": "06e63b52-6efa-49ab-992a-cf5c6eacd03d",
   "metadata": {},
   "outputs": [
    {
     "name": "stdout",
     "output_type": "stream",
     "text": [
      "Generator(PCG64)\n"
     ]
    },
    {
     "data": {
      "text/plain": [
       "array([[0.77395605, 0.43887844, 0.85859792],\n",
       "       [0.69736803, 0.09417735, 0.97562235],\n",
       "       [0.7611397 , 0.78606431, 0.12811363]])"
      ]
     },
     "execution_count": 3,
     "metadata": {},
     "output_type": "execute_result"
    }
   ],
   "source": [
    "rng = np.random.default_rng(seed=42)\n",
    "print(rng)\n",
    "\n",
    "arr1 = rng.random((3, 3))\n",
    "\n",
    "arr1"
   ]
  },
  {
   "cell_type": "code",
   "execution_count": 4,
   "id": "a0358908-6255-44fb-ac8f-6877207d1a67",
   "metadata": {},
   "outputs": [
    {
     "name": "stdout",
     "output_type": "stream",
     "text": [
      "[53.96132204 36.48020662 59.75586555 62.22734131 24.63654255 33.07166641\n",
      " 51.66192524 45.8888463  49.78158495 38.91042894 61.43217367 60.11129516\n",
      " 50.85839907 64.65413569 56.07762145 38.82919798 54.79376019 37.53452619\n",
      " 61.41985392 49.35096316 47.59678927 41.14791592 65.8930374  47.99111673]\n"
     ]
    }
   ],
   "source": [
    "rng2 = np.random.default_rng(seed=42).normal(50,13,24)\n",
    "print(rng2)"
   ]
  },
  {
   "cell_type": "code",
   "execution_count": 5,
   "id": "1aa5da7c-b88f-4e90-bec8-ced34aede9c5",
   "metadata": {},
   "outputs": [
    {
     "name": "stdout",
     "output_type": "stream",
     "text": [
      "53.96132203680761\n"
     ]
    }
   ],
   "source": [
    "rng3 = np.random.default_rng(seed=42).normal(50,13)\n",
    "print(rng3)"
   ]
  },
  {
   "cell_type": "code",
   "execution_count": null,
   "id": "07dc1750-e086-4da2-b48d-0afc7abccf0f",
   "metadata": {},
   "outputs": [],
   "source": []
  },
  {
   "cell_type": "code",
   "execution_count": null,
   "id": "3e2ed79e-40c0-432a-99a7-bcc0558a79a4",
   "metadata": {
    "tags": []
   },
   "outputs": [],
   "source": []
  },
  {
   "cell_type": "code",
   "execution_count": 6,
   "id": "6d6e9189-300d-4efe-869e-032332f62861",
   "metadata": {},
   "outputs": [],
   "source": [
    "xs = np.linspace(-5, 5, num=201)\n",
    "ys = sta.norm.pdf(xs, loc=2.2, scale=0.5)\n",
    "ys_noise = np.random.default_rng().normal(ys,np.sqrt(ys))"
   ]
  },
  {
   "cell_type": "code",
   "execution_count": 7,
   "id": "53729a04-0e1d-4498-9e97-b02c446f0cad",
   "metadata": {},
   "outputs": [
    {
     "data": {
      "text/plain": [
       "array([7.48666116e-46, 3.14413192e-45, 1.30728536e-44, 5.38142247e-44,\n",
       "       2.19321312e-43, 8.84955917e-43, 3.53524482e-42, 1.39821645e-41,\n",
       "       5.47502838e-41, 2.12253763e-40, 8.14669536e-40, 3.09574093e-39,\n",
       "       1.16467512e-38, 4.33812480e-38, 1.59976555e-37, 5.84073759e-37,\n",
       "       2.11123270e-36, 7.55547144e-36, 2.67697360e-35, 9.39039072e-35,\n",
       "       3.26122147e-34, 1.12133139e-33, 3.81719827e-33, 1.28650807e-32,\n",
       "       4.29276747e-32, 1.41814053e-31, 4.63829355e-31, 1.50194575e-30,\n",
       "       4.81512226e-30, 1.52833108e-29, 4.80269080e-29, 1.49420046e-28,\n",
       "       4.60246142e-28, 1.40355199e-27, 4.23763851e-27, 1.26670756e-26,\n",
       "       3.74874480e-26, 1.09837957e-25, 3.18622227e-25, 9.15075118e-25,\n",
       "       2.60192324e-24, 7.32469034e-24, 2.04146112e-23, 5.63313309e-23,\n",
       "       1.53891973e-22, 4.16235364e-22, 1.11460000e-21, 2.95499099e-21,\n",
       "       7.75622386e-21, 2.01558708e-20, 5.18572940e-20, 1.32091597e-19,\n",
       "       3.33117606e-19, 8.31719796e-19, 2.05595471e-18, 5.03161155e-18,\n",
       "       1.21915163e-17, 2.92459272e-17, 6.94592550e-17, 1.63324713e-16,\n",
       "       3.80216308e-16, 8.76327887e-16, 1.99967575e-15, 4.51761881e-15,\n",
       "       1.01045422e-14, 2.23759124e-14, 4.90571057e-14, 1.06482967e-13,\n",
       "       2.28831298e-13, 4.86864107e-13, 1.02555073e-12, 2.13876757e-12,\n",
       "       4.41597993e-12, 9.02708735e-12, 1.82694408e-11, 3.66066443e-11,\n",
       "       7.26192300e-11, 1.42626562e-10, 2.77335999e-10, 5.33911323e-10,\n",
       "       1.01762806e-09, 1.92028667e-09, 3.58756782e-09, 6.63576849e-09,\n",
       "       1.21517657e-08, 2.20315272e-08, 3.95463928e-08, 7.02791019e-08,\n",
       "       1.23652410e-07, 2.15395201e-07, 3.71472369e-07, 6.34269843e-07,\n",
       "       1.07220707e-06, 1.79448703e-06, 2.97343903e-06, 4.87792149e-06,\n",
       "       7.92259818e-06, 1.27396504e-05, 2.02817041e-05, 3.19674822e-05,\n",
       "       4.98849426e-05, 7.70703935e-05, 1.17886136e-04, 1.78523314e-04,\n",
       "       2.67660452e-04, 3.97310943e-04, 5.83893852e-04, 8.49560541e-04,\n",
       "       1.22380386e-03, 1.74536539e-03, 2.46443834e-03, 3.44513788e-03,\n",
       "       4.76817640e-03, 6.53363811e-03, 8.86369682e-03, 1.19050648e-02,\n",
       "       1.58309032e-02, 2.08418696e-02, 2.71659385e-02, 3.50566010e-02,\n",
       "       4.47890606e-02, 5.66540755e-02, 7.09491857e-02, 8.79671920e-02,\n",
       "       1.07981933e-01, 1.31231630e-01, 1.57900317e-01, 1.88098155e-01,\n",
       "       2.21841669e-01, 2.59035191e-01, 2.99454931e-01, 3.42737184e-01,\n",
       "       3.88372110e-01, 4.35704354e-01, 4.83941449e-01, 5.32170500e-01,\n",
       "       5.79383106e-01, 6.24507867e-01, 6.66449206e-01, 7.04130654e-01,\n",
       "       7.36540281e-01, 7.62775631e-01, 7.82085388e-01, 7.93905095e-01,\n",
       "       7.97884561e-01, 7.93905095e-01, 7.82085388e-01, 7.62775631e-01,\n",
       "       7.36540281e-01, 7.04130654e-01, 6.66449206e-01, 6.24507867e-01,\n",
       "       5.79383106e-01, 5.32170500e-01, 4.83941449e-01, 4.35704354e-01,\n",
       "       3.88372110e-01, 3.42737184e-01, 2.99454931e-01, 2.59035191e-01,\n",
       "       2.21841669e-01, 1.88098155e-01, 1.57900317e-01, 1.31231630e-01,\n",
       "       1.07981933e-01, 8.79671920e-02, 7.09491857e-02, 5.66540755e-02,\n",
       "       4.47890606e-02, 3.50566010e-02, 2.71659385e-02, 2.08418696e-02,\n",
       "       1.58309032e-02, 1.19050648e-02, 8.86369682e-03, 6.53363811e-03,\n",
       "       4.76817640e-03, 3.44513788e-03, 2.46443834e-03, 1.74536539e-03,\n",
       "       1.22380386e-03, 8.49560541e-04, 5.83893852e-04, 3.97310943e-04,\n",
       "       2.67660452e-04, 1.78523314e-04, 1.17886136e-04, 7.70703935e-05,\n",
       "       4.98849426e-05, 3.19674822e-05, 2.02817041e-05, 1.27396504e-05,\n",
       "       7.92259818e-06, 4.87792149e-06, 2.97343903e-06, 1.79448703e-06,\n",
       "       1.07220707e-06, 6.34269843e-07, 3.71472369e-07, 2.15395201e-07,\n",
       "       1.23652410e-07])"
      ]
     },
     "execution_count": 7,
     "metadata": {},
     "output_type": "execute_result"
    }
   ],
   "source": [
    "ys"
   ]
  },
  {
   "cell_type": "code",
   "execution_count": 8,
   "id": "91007919-7b35-4bf9-9dd2-83e28ff326b6",
   "metadata": {},
   "outputs": [],
   "source": [
    "fig_tests = go.FigureWidget();\n",
    "fig_tests.add_trace(\n",
    "    go.Scatter(x=xs,\n",
    "               y=ys_noise,\n",
    "               name='ys_noise',\n",
    "               line=dict(color='navy',width=0.3),\n",
    "               mode='markers'));\n",
    "fig_tests.add_trace(\n",
    "    go.Scatter(x=xs,\n",
    "               y=ys,\n",
    "               name='ys',\n",
    "               line=dict(color='red',width=0.5)));\n",
    "# Set title and scale type\n",
    "fig_tests.update_layout(title_text='fig_tests')\n",
    "# fig_tests.update_yaxes(type='log');\n",
    "fig_tests.write_html('fig_tests.html', auto_open=True)"
   ]
  },
  {
   "cell_type": "code",
   "execution_count": 9,
   "id": "58f8d6ce-4ca1-4f1f-b1b8-0bce20ebf8fe",
   "metadata": {},
   "outputs": [],
   "source": [
    "# Quando scale1 / 2.2"
   ]
  },
  {
   "cell_type": "code",
   "execution_count": 10,
   "id": "05914544-fd57-4671-bc20-7281e2fad744",
   "metadata": {},
   "outputs": [
    {
     "data": {
      "text/plain": [
       "0.15915494309189535"
      ]
     },
     "execution_count": 10,
     "metadata": {},
     "output_type": "execute_result"
    }
   ],
   "source": [
    "1 / (2*np.pi)"
   ]
  },
  {
   "cell_type": "code",
   "execution_count": 11,
   "id": "29caf2b4-f3e5-45b5-817f-bf4bc942724b",
   "metadata": {},
   "outputs": [
    {
     "name": "stdout",
     "output_type": "stream",
     "text": [
      "277\n",
      "===\n",
      "0\n",
      "13\n",
      "14.859205776173285\n",
      "14.859205776173285\n",
      "===\n",
      "1\n",
      "70\n",
      "14.24187725631769\n",
      "14.24187725631769\n",
      "===\n",
      "2\n",
      "164\n",
      "13.223826714801444\n",
      "13.223826714801444\n",
      "===\n",
      "3\n",
      "226\n",
      "12.552346570397113\n",
      "12.552346570397113\n",
      "===\n",
      "4\n",
      "242\n",
      "12.379061371841155\n",
      "12.379061371841155\n",
      "===\n",
      "5\n",
      "256\n",
      "12.227436823104693\n",
      "12.227436823104693\n",
      "===\n",
      "6\n",
      "265\n",
      "12.129963898916968\n",
      "12.129963898916968\n",
      "===\n"
     ]
    },
    {
     "data": {
      "text/plain": [
       "array([14.85920578, 14.24187726, 13.22382671, 12.55234657, 12.37906137,\n",
       "       12.22743682, 12.1299639 ])"
      ]
     },
     "execution_count": 11,
     "metadata": {},
     "output_type": "execute_result"
    }
   ],
   "source": [
    "step_baseline(15, 12, np.array([13, 57, 94, 62, 16, 14, 9]))"
   ]
  },
  {
   "cell_type": "code",
   "execution_count": 12,
   "id": "c82cb978-e06b-4d4f-ba54-c6caf11fa40b",
   "metadata": {},
   "outputs": [
    {
     "name": "stdout",
     "output_type": "stream",
     "text": [
      "100070\n",
      "===\n",
      "0\n",
      "10\n",
      "14.999500349755172\n",
      "14.999500349755172\n",
      "===\n",
      "1\n",
      "20\n",
      "14.999000699510344\n",
      "14.999000699510344\n",
      "===\n",
      "2\n",
      "30\n",
      "14.998501049265514\n",
      "14.998501049265514\n",
      "===\n",
      "3\n",
      "100030\n",
      "10.001998600979315\n",
      "10.001998600979315\n",
      "===\n",
      "4\n",
      "100040\n",
      "10.001498950734486\n",
      "10.001498950734486\n",
      "===\n",
      "5\n",
      "100050\n",
      "10.000999300489656\n",
      "10.000999300489656\n",
      "===\n",
      "6\n",
      "100060\n",
      "10.000499650244828\n",
      "10.000499650244828\n",
      "===\n"
     ]
    },
    {
     "data": {
      "text/plain": [
       "array([14.99950035, 14.9990007 , 14.99850105, 10.0019986 , 10.00149895,\n",
       "       10.0009993 , 10.00049965])"
      ]
     },
     "execution_count": 12,
     "metadata": {},
     "output_type": "execute_result"
    }
   ],
   "source": [
    "step_baseline(15, 10, np.array([10, 10, 10, 100000, 10, 10, 10]))"
   ]
  },
  {
   "cell_type": "code",
   "execution_count": 13,
   "id": "94a0de97-59d4-4ec2-a0c4-2a53d6d820ac",
   "metadata": {},
   "outputs": [],
   "source": [
    "pico = np.array([1, 4, 6, 4, 1])"
   ]
  },
  {
   "cell_type": "code",
   "execution_count": 14,
   "id": "83f73975-947b-465a-ba53-4d6d21e5cad2",
   "metadata": {},
   "outputs": [
    {
     "data": {
      "text/plain": [
       "16"
      ]
     },
     "execution_count": 14,
     "metadata": {},
     "output_type": "execute_result"
    }
   ],
   "source": [
    "np.sum(pico[0:5])"
   ]
  },
  {
   "cell_type": "code",
   "execution_count": 15,
   "id": "785e7634-9d7b-45e9-ba55-1f8fdc58ebc3",
   "metadata": {},
   "outputs": [
    {
     "data": {
      "text/plain": [
       "array([1, 4, 6, 4, 1])"
      ]
     },
     "execution_count": 15,
     "metadata": {},
     "output_type": "execute_result"
    }
   ],
   "source": [
    "np.array(pico)"
   ]
  },
  {
   "cell_type": "code",
   "execution_count": 16,
   "id": "9589ae93-d61b-4c23-8238-46234984135a",
   "metadata": {},
   "outputs": [
    {
     "data": {
      "text/plain": [
       "array([1, 4, 6, 4, 1])"
      ]
     },
     "execution_count": 16,
     "metadata": {},
     "output_type": "execute_result"
    }
   ],
   "source": [
    "pico"
   ]
  },
  {
   "cell_type": "code",
   "execution_count": null,
   "id": "f8885677-199c-4aff-bff8-4c0d54ad37a5",
   "metadata": {},
   "outputs": [],
   "source": []
  }
 ],
 "metadata": {
  "kernelspec": {
   "display_name": "Python 3 (ipykernel)",
   "language": "python",
   "name": "python3"
  },
  "language_info": {
   "codemirror_mode": {
    "name": "ipython",
    "version": 3
   },
   "file_extension": ".py",
   "mimetype": "text/x-python",
   "name": "python",
   "nbconvert_exporter": "python",
   "pygments_lexer": "ipython3",
   "version": "3.8.12"
  }
 },
 "nbformat": 4,
 "nbformat_minor": 5
}
