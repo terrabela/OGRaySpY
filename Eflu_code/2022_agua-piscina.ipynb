{
 "cells": [
  {
   "cell_type": "code",
   "execution_count": 1,
   "metadata": {
    "tags": []
   },
   "outputs": [],
   "source": [
    "# -*- coding: utf-8 -*-\n",
    "\"\"\"\n",
    "Created on Sat Jun  2 11:09:55 2018\n",
    "\n",
    "@author: Marcelo\n",
    "\"\"\"\n",
    "\n",
    "# 2022-Jan-13:\n",
    "# Aqui vou definir um lote de espectros, localizar os picos e fazer a análise segundo\n",
    "# 2021-Out-26: agora lmfit já está no canal conda-forge.\n",
    "\n",
    "import numpy as np\n",
    "import numpy.ma as ma  # masked array\n",
    "from numpy.polynomial import Polynomial as P # 2020-09-06 Esta é a nova classe recomendada \n",
    "from numpy import linalg as LA\n",
    "\n",
    "# https://realpython.com/python-import/\n",
    "# https://docs.python-guide.org/writing/structure/\n",
    "\n",
    "import scipy.stats as sta # statistics\n",
    "# from scipy.special import (erf, erfinv)\n",
    "import scipy.special as spsp\n",
    "from scipy.optimize import curve_fit\n",
    "# import scipy.optimize as spoptim\n",
    "# 2020-08-30\n",
    "from scipy import ndimage # label, generate_binary_structure, find_objects, binary_dilation\n",
    "from scipy.cluster.vq import kmeans2, whiten\n",
    "\n",
    "####################################\n",
    "# Para a coleta dos espectros:\n",
    "import time\n",
    "# 2019-03-15\n",
    "# https://pandas.pydata.org/pandas-docs/stable/getting_started/10min.html\n",
    "from datetime import tzinfo, timedelta, datetime\n",
    "from os.path import getsize, getmtime\n",
    "#\n",
    "import pandas as pd\n",
    "import csv\n",
    "# from pathlib import (Path)\n",
    "from pathlib import Path\n",
    "\n",
    "# 2021-Jul-08\n",
    "# from lmfit import Model, Minimizer, minimize, Parameters, report_fit, fit_report, printfuncs\n",
    "\n",
    "# https://lmfit.github.io/lmfit-py/\n",
    "# builtin_models.html?highlight=peaks%20sum#example-3-\n",
    "# fitting-multiple-peaks-and-using-prefixes\n",
    "# from lmfit.models import ExponentialModel, GaussianModel\n",
    "\n",
    "# Gráficos e widgets:\n",
    "import plotly.graph_objects as go\n",
    "from ipywidgets import widgets\n",
    "# 2022-Jan-20: em princípio, usarei plotly em vez de bokeh ou matplotlib.\n",
    "# from bokeh.models import ColumnDataSource, Whisker\n",
    "# from bokeh.plotting import figure, output_file, output_notebook, show\n",
    "# from bokeh import palettes\n",
    "# import matplotlib.pyplot as plt\n",
    "\n",
    "# 2022-Fev-02 Módulos desenvolvidos ad hoc\n",
    "\n",
    "from gauss_funcs import gaus_fw, gaus_sig\n",
    "\n",
    "# 2022-Jan-20: Desativado por enquanto\n",
    "# import base_line_funcs as blf\n",
    "# import spectra_regions_funcs as spreg\n",
    "\n",
    "# 2021-jun-2: novas classes:\n",
    "from spec_class import Spec\n",
    "# 2022-Jan-13\n",
    "from filebatch_class import (FileBatch)\n",
    "\n",
    "from machine_selection import set_screen_size_by_machine\n",
    "\n",
    "# 2021-Jul-1\n",
    "# import gauss_funcs\n",
    "\n",
    "# 2021-Jul-08\n",
    "# from lmfit import Model, Minimizer, minimize, Parameters, report_fit, fit_report, printfuncs\n",
    "\n",
    "# https://lmfit.github.io/lmfit-py/\n",
    "# builtin_models.html?highlight=peaks%20sum#example-3-\n",
    "# fitting-multiple-peaks-and-using-prefixes\n",
    "# from lmfit.models import ExponentialModel, GaussianModel\n",
    "\n",
    "# https://lmfit.github.io/lmfit-py/builtin_models.html?highlight=peaks%20sum#example-3-fitting-\n",
    "# multiple-peaks-and-using-prefixes\n",
    "\n",
    "\n",
    "# https://stackoverflow.com/questions/19861785/composition-and-aggregation-in-python\n",
    "# https://stackoverflow.com/questions/12053998/...\n",
    "# where-should-i-define-functions-that-i-use-in-init#12054066\n",
    "# https://www.codearmo.com/python-tutorial/object-orientated-programming-functions\n",
    "\n",
    "# Sobre declarar os atributos em init:\n",
    "# https://softwareengineering.stackexchange.com/questions/357937/...\n",
    "# is-it-really-correct-to-declare-all-instance-attributes-in-init\n",
    "\n",
    "# Sobre listar atributos omitindo os \"built in\" (com 2 underscores duplos):\n",
    "# https://stackoverflow.com/questions/192109/...\n",
    "# is-there-a-built-in-function-to-print-all-the-current-properties-and-values-of-a#193539\n",
    "\n",
    "# Longo e ótimo texto sobre inheritance, composition, aggregation....\n",
    "# https://realpython.com/inheritance-composition-python/#composition-in-python\n",
    "\n",
    "# Pequeno vídeo sobre UML:\n",
    "# https://realpython.com/lessons/uml-diagrams/\n",
    "#\n",
    "# UML:\n",
    "# - Open-Source\n",
    "# https://github.com/abulka/pynsource\n",
    "# - Trial\n",
    "# https://staruml.io/\n",
    "\n",
    "# https://realpython.com/python-import/\n",
    "# https://docs.python-guide.org/writing/structure/\n",
    "\n",
    "# https://stackoverflow.com/questions/19861785/...\n",
    "# composition-and-aggregation-in-python#19863217\n"
   ]
  },
  {
   "cell_type": "code",
   "execution_count": 2,
   "metadata": {},
   "outputs": [],
   "source": [
    "# from bokeh.palettes import Paired6\n",
    "# from bokeh.plotting import figure, output_file, output_notebook, show\n",
    "# from bokeh.layouts import gridplot, column, row\n",
    "\n",
    "# from bokeh import palettes"
   ]
  },
  {
   "cell_type": "code",
   "execution_count": 3,
   "metadata": {},
   "outputs": [
    {
     "data": {
      "text/plain": [
       "1648141941.2972991"
      ]
     },
     "execution_count": 3,
     "metadata": {},
     "output_type": "execute_result"
    }
   ],
   "source": [
    "time.time()"
   ]
  },
  {
   "cell_type": "code",
   "execution_count": 4,
   "metadata": {},
   "outputs": [
    {
     "data": {
      "text/plain": [
       "'Thu Mar 24 14:12:21 2022'"
      ]
     },
     "execution_count": 4,
     "metadata": {},
     "output_type": "execute_result"
    }
   ],
   "source": [
    "time.ctime()"
   ]
  },
  {
   "cell_type": "code",
   "execution_count": 5,
   "metadata": {},
   "outputs": [
    {
     "data": {
      "text/plain": [
       "'Fri Feb  4 13:03:07 2022'"
      ]
     },
     "execution_count": 5,
     "metadata": {},
     "output_type": "execute_result"
    }
   ],
   "source": [
    "# Da vez anterior, esse era o time.time():\n",
    "# 1643990587.702764\n",
    "# A que instante corresponde? Vejamos.\n",
    "time.ctime(1643990587.702764)"
   ]
  },
  {
   "cell_type": "code",
   "execution_count": 6,
   "metadata": {},
   "outputs": [
    {
     "name": "stdout",
     "output_type": "stream",
     "text": [
      "../../Genie_Transfer/Si\n"
     ]
    }
   ],
   "source": [
    "fb = FileBatch()\n",
    "# 2021-abr-26. Ver que o nome da pasta é case-sensitive\n",
    "# fb.slot_set_batch_chn('../Genie_Transfer/Filtros/2021/Cci')\n",
    "fb.slot_set_batch_chn('../../Genie_Transfer/Si')"
   ]
  },
  {
   "cell_type": "code",
   "execution_count": 7,
   "metadata": {},
   "outputs": [],
   "source": [
    "# fb.list_p"
   ]
  },
  {
   "cell_type": "code",
   "execution_count": 8,
   "metadata": {},
   "outputs": [
    {
     "data": {
      "text/plain": [
       "1913"
      ]
     },
     "execution_count": 8,
     "metadata": {},
     "output_type": "execute_result"
    }
   ],
   "source": [
    "fb.numarqs"
   ]
  },
  {
   "cell_type": "code",
   "execution_count": 9,
   "metadata": {},
   "outputs": [],
   "source": [
    "# from io import BytesIO as StringIO"
   ]
  },
  {
   "cell_type": "code",
   "execution_count": 10,
   "metadata": {},
   "outputs": [],
   "source": [
    "default_plot_width, default_plot_height = set_screen_size_by_machine()"
   ]
  },
  {
   "cell_type": "code",
   "execution_count": 11,
   "metadata": {},
   "outputs": [],
   "source": [
    "time_A = time.time()\n",
    "l1 = []\n",
    "l2 = []\n",
    "for f_name in fb.list_p:\n",
    "    spec = Spec(f_name)\n",
    "    l1.append( spec.f_name )\n",
    "    l2.append( np.sum(spec.spec_parms.cnt_array_like.counts_nzero))\n",
    "df1 = pd.DataFrame(np.asarray([l1,l2]).T, columns=['FName','CountsSum'])\n",
    "time_B = time.time()"
   ]
  },
  {
   "cell_type": "code",
   "execution_count": null,
   "metadata": {},
   "outputs": [],
   "source": [
    "\n"
   ]
  },
  {
   "cell_type": "code",
   "execution_count": 12,
   "metadata": {},
   "outputs": [
    {
     "data": {
      "text/plain": [
       "95.74228405952454"
      ]
     },
     "execution_count": 12,
     "metadata": {},
     "output_type": "execute_result"
    }
   ],
   "source": [
    "time_B - time_A"
   ]
  },
  {
   "cell_type": "code",
   "execution_count": 13,
   "metadata": {},
   "outputs": [],
   "source": [
    "dtnow = datetime.now()\n",
    "pkl_df1_fname = 'gamma_results_df1' + '_' + dtnow.strftime(format='%Y-%m-%dT%H.%M.%S') + '.pkl'\n",
    "df1.to_pickle(pkl_df1_fname)"
   ]
  },
  {
   "cell_type": "code",
   "execution_count": null,
   "metadata": {},
   "outputs": [],
   "source": []
  },
  {
   "cell_type": "code",
   "execution_count": 14,
   "metadata": {},
   "outputs": [],
   "source": [
    "# 2022-Mar-24\n",
    "# Parando aqui, está muuuito bagunçated e confusing..."
   ]
  },
  {
   "cell_type": "code",
   "execution_count": 15,
   "metadata": {},
   "outputs": [
    {
     "ename": "SyntaxError",
     "evalue": "invalid syntax (3647736893.py, line 1)",
     "output_type": "error",
     "traceback": [
      "\u001b[0;36m  Input \u001b[0;32mIn [15]\u001b[0;36m\u001b[0m\n\u001b[0;31m    xcb dxfsgnbsf bhrsth rth\u001b[0m\n\u001b[0m        ^\u001b[0m\n\u001b[0;31mSyntaxError\u001b[0m\u001b[0;31m:\u001b[0m invalid syntax\n"
     ]
    }
   ],
   "source": [
    "xcb dxfsgnbsf bhrsth rth "
   ]
  },
  {
   "cell_type": "code",
   "execution_count": null,
   "metadata": {},
   "outputs": [],
   "source": []
  },
  {
   "cell_type": "code",
   "execution_count": null,
   "metadata": {},
   "outputs": [],
   "source": [
    "# Pulando aqui, para retomar..."
   ]
  },
  {
   "cell_type": "code",
   "execution_count": null,
   "metadata": {},
   "outputs": [],
   "source": [
    "# ...para retomar aqui"
   ]
  },
  {
   "cell_type": "code",
   "execution_count": null,
   "metadata": {},
   "outputs": [],
   "source": [
    "# 2022-Jan-14\n",
    "# Constante k_ar para cálculo da área em fç de sigma e h (altura) do pico\n",
    "\n",
    "k_ar = 0.5 * np.sqrt(np.pi / np.log(2))\n",
    "k_ar"
   ]
  },
  {
   "cell_type": "code",
   "execution_count": null,
   "metadata": {},
   "outputs": [],
   "source": [
    "# 2022-Jan-17"
   ]
  },
  {
   "cell_type": "code",
   "execution_count": null,
   "metadata": {},
   "outputs": [],
   "source": [
    "k_fwhm = spsp.erf(np.sqrt(np.log(2)))\n",
    "k_fwhm"
   ]
  },
  {
   "cell_type": "code",
   "execution_count": null,
   "metadata": {},
   "outputs": [],
   "source": [
    "# 2022-Jan-13\n",
    "# Fazendo análise básica (\"raw spectra\") de lote de arquivos"
   ]
  },
  {
   "cell_type": "code",
   "execution_count": null,
   "metadata": {},
   "outputs": [],
   "source": [
    " srgh serth serth rsth"
   ]
  },
  {
   "cell_type": "code",
   "execution_count": null,
   "metadata": {},
   "outputs": [],
   "source": []
  },
  {
   "cell_type": "code",
   "execution_count": null,
   "metadata": {},
   "outputs": [],
   "source": [
    "dir_A = set(dir())"
   ]
  },
  {
   "cell_type": "code",
   "execution_count": null,
   "metadata": {},
   "outputs": [],
   "source": [
    "xs = []\n",
    "ys = []\n",
    "all_ratios_list = []\n",
    "all_s_areas_list = []\n",
    "for spec in all_specs:\n",
    "    ctrs = spec.spec_parms.peaks_parms.fwhm_ctrs\n",
    "    peaks_areas_by_fwhm = spec.spec_parms.peaks_parms.sum_net / k_fwhm\n",
    "    s_peaks_areas_by_fwhm = spec.spec_parms.peaks_parms.s_sum_net / k_fwhm\n",
    "    spec_cts_sum = np.sum(spec.spec_parms.cnt_array_like.counts_nzero)\n",
    "    pk_to_tot_ratio = peaks_areas_by_fwhm / spec_cts_sum\n",
    "    s_rel_area = s_peaks_areas_by_fwhm / peaks_areas_by_fwhm\n",
    "    all_ratios_list.append(pk_to_tot_ratio)\n",
    "    all_s_areas_list.append(s_rel_area)\n",
    "all_ratios = np.concatenate(all_ratios_list)\n",
    "all_s_areas = np.concatenate(all_s_areas_list)"
   ]
  },
  {
   "cell_type": "code",
   "execution_count": null,
   "metadata": {},
   "outputs": [],
   "source": [
    "dir_B = set(dir())\n",
    "dir_B - dir_A"
   ]
  },
  {
   "cell_type": "code",
   "execution_count": null,
   "metadata": {},
   "outputs": [],
   "source": [
    "len(ctrs)"
   ]
  },
  {
   "cell_type": "code",
   "execution_count": null,
   "metadata": {},
   "outputs": [],
   "source": [
    "# 2022-Feb-02\n",
    "# Criar os bancos de dados Pandas:"
   ]
  },
  {
   "cell_type": "code",
   "execution_count": null,
   "metadata": {},
   "outputs": [],
   "source": [
    "l1 = []\n",
    "l2 = []\n",
    "for spec in all_specs:\n",
    "    l1.append( spec.f_name )\n",
    "    l2.append( np.sum(spec.spec_parms.cnt_array_like.counts_nzero))\n",
    "df1 = pd.DataFrame(np.asarray([l1,l2]).T, columns=['FName','CountsSum'])\n",
    "\n",
    "l1 = []\n",
    "l2 = []\n",
    "l3 = []\n",
    "l4 = []\n",
    "l5 = []\n",
    "l6 = []\n",
    "for spec in all_specs:\n",
    "    ctrs = spec.spec_parms.peaks_parms.fwhm_ctrs\n",
    "    peaks_areas_by_fwhm = spec.spec_parms.peaks_parms.sum_net / k_fwhm\n",
    "    s_peaks_areas_by_fwhm = spec.spec_parms.peaks_parms.s_sum_net / k_fwhm\n",
    "    spec_cts_sum = np.sum(spec.spec_parms.cnt_array_like.counts_nzero)\n",
    "    pk_to_tot_ratio = peaks_areas_by_fwhm / spec_cts_sum\n",
    "    s_rel_area = s_peaks_areas_by_fwhm / peaks_areas_by_fwhm\n",
    "    for ic, ctr in enumerate(ctrs):\n",
    "            l1.append( spec.f_name )\n",
    "            l2.append(ctr)\n",
    "            l3.append(peaks_areas_by_fwhm[ic])\n",
    "            l4.append(s_peaks_areas_by_fwhm[ic])\n",
    "            l5.append(pk_to_tot_ratio[ic])\n",
    "            l6.append(s_rel_area[ic])\n",
    "df2 = pd.DataFrame(np.asarray([l1,l2,l3,l4,l5,l6]).T,\n",
    "                   columns=['FName','Ctroids','PkAreas','sPkAreas','PkToTotRatio','sRelArea']\n",
    "                  )\n",
    "#    all_ratios_list.append(pk_to_tot_ratio)\n",
    "#    all_s_areas_list.append(s_rel_area)\n"
   ]
  },
  {
   "cell_type": "code",
   "execution_count": null,
   "metadata": {},
   "outputs": [],
   "source": [
    "df1"
   ]
  },
  {
   "cell_type": "code",
   "execution_count": null,
   "metadata": {},
   "outputs": [],
   "source": [
    "df2"
   ]
  },
  {
   "cell_type": "code",
   "execution_count": null,
   "metadata": {},
   "outputs": [],
   "source": []
  },
  {
   "cell_type": "code",
   "execution_count": null,
   "metadata": {},
   "outputs": [],
   "source": [
    "dtnow = datetime.now()\n",
    "pkl_df1_fname = 'gamma_results_df1' + '_' + dtnow.strftime(format='%Y-%m-%dT%H.%M.%S') + '.pkl'\n",
    "df1.to_pickle(pkl_df1_fname)\n",
    "pkl_df2_fname = 'gamma_results_df2' + '_' + dtnow.strftime(format='%Y-%m-%dT%H.%M.%S') + '.pkl'\n",
    "df1.to_pickle(pkl_df1_fname)\n",
    "df2.to_pickle(pkl_df2_fname)"
   ]
  },
  {
   "cell_type": "code",
   "execution_count": null,
   "metadata": {},
   "outputs": [],
   "source": [
    "l_names = []\n",
    "l_specs = []\n",
    "for spec in all_specs:\n",
    "    l_names.append( spec.f_name )\n",
    "    l_specs.append( spec )\n",
    "df_specs = pd.DataFrame(np.asarray([l_names, l_specs]).T, columns=['FName','SpecsResults'])"
   ]
  },
  {
   "cell_type": "code",
   "execution_count": null,
   "metadata": {},
   "outputs": [],
   "source": [
    "df_specs"
   ]
  },
  {
   "cell_type": "code",
   "execution_count": null,
   "metadata": {},
   "outputs": [],
   "source": [
    "pkl_df3_fname = 'gamma_results_df3' + '_' + dtnow.strftime(format='%Y-%m-%dT%H.%M.%S') + '.xz'\n",
    "df_specs.to_pickle(pkl_df3_fname)"
   ]
  },
  {
   "cell_type": "code",
   "execution_count": null,
   "metadata": {},
   "outputs": [],
   "source": [
    "as gaegr aerg aerg ae"
   ]
  },
  {
   "cell_type": "raw",
   "metadata": {},
   "source": [
    "2019-09-28: Voltando a usar Pandas para spec gama, aqui para curva de eficiehncia"
   ]
  },
  {
   "cell_type": "code",
   "execution_count": null,
   "metadata": {},
   "outputs": [],
   "source": [
    "# 2019-09-26 Importar calibra´c~ao em efici^encia de arquivo CSV "
   ]
  },
  {
   "cell_type": "code",
   "execution_count": null,
   "metadata": {},
   "outputs": [],
   "source": [
    "# 2019-09-26 Uma hora usarei isso: ler LibreOffice via Pandas!\n",
    "# pd.read_excel('path_to_file.ods', engine='odf')"
   ]
  },
  {
   "cell_type": "code",
   "execution_count": null,
   "metadata": {},
   "outputs": [],
   "source": []
  },
  {
   "cell_type": "code",
   "execution_count": null,
   "metadata": {},
   "outputs": [],
   "source": [
    "# Alguns defs"
   ]
  },
  {
   "cell_type": "raw",
   "metadata": {},
   "source": [
    "2019-07-15: Agora, fazer looping para todos os picos, sem definir regioens, nada disso:"
   ]
  },
  {
   "cell_type": "code",
   "execution_count": null,
   "metadata": {},
   "outputs": [],
   "source": [
    "##################################################\n",
    "\n",
    "## 2019-nov-warp2.ipynb\n",
    "## P.P.\n",
    "## 2019-11-03: Integrando an'alise em lote de 2019_big-histogram.ipynb \n",
    "## com an'alise Cwt+ridges de 2019-cwt-analysis-real_with_effic-curve-Pandas.ipynb\n",
    "\n",
    "fb = FileBatch()\n",
    "# spec = Spec()"
   ]
  },
  {
   "cell_type": "code",
   "execution_count": null,
   "metadata": {},
   "outputs": [],
   "source": [
    "fb"
   ]
  },
  {
   "cell_type": "code",
   "execution_count": null,
   "metadata": {},
   "outputs": [],
   "source": [
    "# 2020-11-19 AQUI: escolho o diretório e defino os arquivos Pandas/pkl correspondentes"
   ]
  },
  {
   "cell_type": "code",
   "execution_count": null,
   "metadata": {},
   "outputs": [],
   "source": [
    "# pathPosixName =  '../Genie_Transfer/Filtros/CI/2018'\n",
    "# pathPosixName =  '../Ipen/Efluentes-gasosos/Filtros-espectros/2020'\n",
    "# pathPosixName =  '../Genie_Transfer/Si/SI2019'\n",
    "# pklFile = 'si2019.pkl'\n",
    "# peaksPklFile = 'si2019peaks.pkl'"
   ]
  },
  {
   "cell_type": "code",
   "execution_count": null,
   "metadata": {},
   "outputs": [],
   "source": [
    "fb = FileBatch()\n",
    "# 2021-abr-26. Ver que o nome da pasta é case-sensitive\n",
    "fb.slot_set_batch_chn('../../Genie_Transfer/Filtros/2021/Cci')\n",
    "# fb.slot_set_batch_chn('../../Genie_Transfer/Si')"
   ]
  },
  {
   "cell_type": "code",
   "execution_count": null,
   "metadata": {},
   "outputs": [],
   "source": [
    "# print (fb.arqslist)\n",
    "print (fb.numarqstxt, ' arquivos')"
   ]
  },
  {
   "cell_type": "code",
   "execution_count": null,
   "metadata": {},
   "outputs": [],
   "source": [
    "lp_posix = fb.list_p\n",
    "lp_posix"
   ]
  },
  {
   "cell_type": "code",
   "execution_count": null,
   "metadata": {},
   "outputs": [],
   "source": [
    "# Aqui uso Pandas pela primeira vez:\n",
    "# CI_2018  = pd.Series( lp_posix )\n",
    "\n",
    "spectraSer = pd.Series( lp_posix )\n",
    "spectraSer"
   ]
  },
  {
   "cell_type": "code",
   "execution_count": null,
   "metadata": {},
   "outputs": [],
   "source": [
    "As = []\n",
    "Bs = []\n",
    "Cs = []\n",
    "Ds = []\n",
    "Es = []\n",
    "\n",
    "for fname in lp_posix:\n",
    "    print(fname)\n",
    "    spc = Spec(fname)\n",
    "    if spc.f_name:\n",
    "        print('Sucesso')\n",
    "        As.append(spc.spec_parms.spec_io.sp_start_datetime)\n",
    "        Bs.append(spc.spec_parms.spec_io.coeffs_ch_en)\n",
    "        Cs.append(spc.spec_parms.spec_io.coeffs_en_fw)\n",
    "        Ds.append(spc.spec_parms.channel_energy_calib.p_en)\n",
    "        Es.append(spc.spec_parms.energy_fwhm_calib.p_fw)\n",
    "    else:\n",
    "        print('************* ERRRRRRROOOOO *************')"
   ]
  },
  {
   "cell_type": "code",
   "execution_count": null,
   "metadata": {},
   "outputs": [],
   "source": [
    "vars(spc.spec_parms.channel_energy_calib)"
   ]
  },
  {
   "cell_type": "code",
   "execution_count": null,
   "metadata": {},
   "outputs": [],
   "source": [
    "vars(spc.spec_parms.energy_fwhm_calib)"
   ]
  },
  {
   "cell_type": "code",
   "execution_count": null,
   "metadata": {},
   "outputs": [],
   "source": [
    "As"
   ]
  },
  {
   "cell_type": "code",
   "execution_count": null,
   "metadata": {},
   "outputs": [],
   "source": [
    "Bs"
   ]
  },
  {
   "cell_type": "code",
   "execution_count": null,
   "metadata": {},
   "outputs": [],
   "source": [
    "Cs"
   ]
  },
  {
   "cell_type": "code",
   "execution_count": null,
   "metadata": {},
   "outputs": [],
   "source": [
    "Ds"
   ]
  },
  {
   "cell_type": "code",
   "execution_count": null,
   "metadata": {},
   "outputs": [],
   "source": [
    "Es"
   ]
  },
  {
   "cell_type": "code",
   "execution_count": null,
   "metadata": {},
   "outputs": [],
   "source": []
  },
  {
   "cell_type": "code",
   "execution_count": null,
   "metadata": {},
   "outputs": [],
   "source": [
    "zd;lkm nbhsdhbdestbhzdesth "
   ]
  },
  {
   "cell_type": "code",
   "execution_count": null,
   "metadata": {},
   "outputs": [],
   "source": []
  },
  {
   "cell_type": "code",
   "execution_count": null,
   "metadata": {},
   "outputs": [],
   "source": []
  },
  {
   "cell_type": "code",
   "execution_count": null,
   "metadata": {},
   "outputs": [],
   "source": []
  },
  {
   "cell_type": "code",
   "execution_count": null,
   "metadata": {},
   "outputs": [],
   "source": [
    "spectraDfr = pd.DataFrame({'fNames': spectraSer,\n",
    "                           'countDT': As,\n",
    "                           'polEn': Ds,\n",
    "                           'polFw': Es})      "
   ]
  },
  {
   "cell_type": "code",
   "execution_count": null,
   "metadata": {},
   "outputs": [],
   "source": [
    "spectraDfr"
   ]
  },
  {
   "cell_type": "code",
   "execution_count": null,
   "metadata": {},
   "outputs": [],
   "source": [
    "spectraDfr['polEn'].sample()"
   ]
  },
  {
   "cell_type": "code",
   "execution_count": null,
   "metadata": {},
   "outputs": [],
   "source": [
    "# 2020-11-03 Só para interromper e evitar a recriação automática do arquivo pkl, que pode demorar."
   ]
  },
  {
   "cell_type": "code",
   "execution_count": null,
   "metadata": {},
   "outputs": [],
   "source": []
  },
  {
   "cell_type": "code",
   "execution_count": null,
   "metadata": {},
   "outputs": [],
   "source": [
    "# FIM"
   ]
  },
  {
   "cell_type": "code",
   "execution_count": null,
   "metadata": {},
   "outputs": [],
   "source": []
  }
 ],
 "metadata": {
  "kernelspec": {
   "display_name": "Python 3 (ipykernel)",
   "language": "python",
   "name": "python3"
  },
  "language_info": {
   "codemirror_mode": {
    "name": "ipython",
    "version": 3
   },
   "file_extension": ".py",
   "mimetype": "text/x-python",
   "name": "python",
   "nbconvert_exporter": "python",
   "pygments_lexer": "ipython3",
   "version": "3.8.12"
  }
 },
 "nbformat": 4,
 "nbformat_minor": 4
}
