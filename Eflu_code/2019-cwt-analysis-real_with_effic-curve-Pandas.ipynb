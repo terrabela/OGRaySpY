{
 "cells": [
  {
   "cell_type": "code",
   "execution_count": 1,
   "metadata": {},
   "outputs": [],
   "source": [
    "# -*- coding: utf-8 -*-\n",
    "\"\"\"\n",
    "Created on Sat Jun  2 11:09:55 2018\n",
    "\n",
    "@author: Marcelo\n",
    "\"\"\"\n",
    "\n",
    "import numpy as np\n",
    "import numpy.ma as ma  # masked array\n",
    "from machine_selection import set_screen_size_by_machine\n",
    "\n",
    "# 2019-03-15\n",
    "# https://pandas.pydata.org/pandas-docs/stable/getting_started/10min.html\n",
    "import pandas as pd\n",
    "import csv\n",
    "\n",
    "# 2019-03-09\n",
    "from teste_datas import (Spec)\n",
    "\n",
    "# 2019-09-16\n",
    "from gauss_funcs import gaus_fw, gaus_sig\n",
    "\n",
    "# 2019-07-15\n",
    "# https://docs.scipy.org/doc/numpy/reference/routines.polynomials.classes.html#basics\n",
    "from numpy.polynomial import Polynomial as P\n",
    "from numpy.polynomial.polynomial import (polyfit, polyval)\n",
    "\n",
    "from scipy.signal import (cwt, ricker, find_peaks, find_peaks_cwt, peak_widths)\n",
    "from scipy.ndimage import label, generate_binary_structure, find_objects  # 2019-09-18\n",
    "\n",
    "from scipy.optimize import (curve_fit, root, lsq_linear)\n",
    "from scipy.stats import (iqr)\n",
    "from scipy.special import (expit)\n",
    "import base_line_funcs as blf\n",
    "import spectra_regions_funcs as spreg\n",
    "\n",
    "# from spectra_regions_funcs import (total_analysis2)\n",
    "import csv\n",
    "import pickle\n",
    "from bokeh.models import ColumnDataSource, Whisker\n",
    "from bokeh.plotting import figure, output_file, output_notebook, show\n",
    "from bokeh import palettes"
   ]
  },
  {
   "cell_type": "code",
   "execution_count": 2,
   "metadata": {},
   "outputs": [],
   "source": [
    "default_plot_width, default_plot_height = set_screen_size_by_machine()"
   ]
  },
  {
   "cell_type": "code",
   "execution_count": null,
   "metadata": {},
   "outputs": [],
   "source": []
  },
  {
   "cell_type": "code",
   "execution_count": 3,
   "metadata": {},
   "outputs": [
    {
     "data": {
      "text/plain": [
       "0.9041542662259198"
      ]
     },
     "execution_count": 3,
     "metadata": {},
     "output_type": "execute_result"
    }
   ],
   "source": [
    "# constante k: ver no Maxima: (sqrt(3)*6^(3/2))/(2^(3/2)*5^(5/4)*%pi^(1/4));\n",
    "k = (np.sqrt(3)*6**(3/2))/(2**(3/2)*5**(5/4)*np.pi**(1/4))\n",
    "k"
   ]
  },
  {
   "cell_type": "code",
   "execution_count": null,
   "metadata": {},
   "outputs": [],
   "source": []
  },
  {
   "cell_type": "code",
   "execution_count": 4,
   "metadata": {},
   "outputs": [
    {
     "data": {
      "text/plain": [
       "2.3548200450309493"
      ]
     },
     "execution_count": 4,
     "metadata": {},
     "output_type": "execute_result"
    }
   ],
   "source": [
    "kfwhm = 2*np.sqrt(2*np.log(2))\n",
    "kfwhm"
   ]
  },
  {
   "cell_type": "code",
   "execution_count": null,
   "metadata": {},
   "outputs": [],
   "source": []
  },
  {
   "cell_type": "raw",
   "metadata": {},
   "source": [
    "Funcao Ricker:\n",
    "A (1 - x^2/a^2) exp(-x^2/2 a^2), onde\n",
    "A = 2/sqrt(3a)pi^1/4\n",
    "Fazendo anahlise no Maxima, descobri que o fator de escala \"a\"\n",
    "ohtimo eh sigma*sqrt(5):\n"
   ]
  },
  {
   "cell_type": "raw",
   "metadata": {},
   "source": [
    "Lembrar que:\n",
    "sigma_experim = widthmax / np.sqrt(5)\n",
    "sigma_experim"
   ]
  },
  {
   "cell_type": "raw",
   "metadata": {},
   "source": [
    "Lembrar tambem que:\n",
    "gauss_height = k * max_escalas[imax] / np.sqrt(sigma_experim)\n",
    "gauss_height"
   ]
  },
  {
   "cell_type": "code",
   "execution_count": null,
   "metadata": {},
   "outputs": [],
   "source": []
  },
  {
   "cell_type": "raw",
   "metadata": {},
   "source": [
    "2019-09-28: Voltando a usar Pandas para spec gama, aqui para curva de eficiehncia"
   ]
  },
  {
   "cell_type": "code",
   "execution_count": 5,
   "metadata": {},
   "outputs": [],
   "source": [
    "# 2019-09-26 Importar calibra´c~ao em efici^encia de arquivo CSV "
   ]
  },
  {
   "cell_type": "code",
   "execution_count": 6,
   "metadata": {},
   "outputs": [],
   "source": [
    "# 2019-09-26 Uma hora usarei isso: ler LibreOffice via Pandas!\n",
    "# pd.read_excel('path_to_file.ods', engine='odf')"
   ]
  },
  {
   "cell_type": "code",
   "execution_count": 7,
   "metadata": {},
   "outputs": [],
   "source": [
    "effics = pd.read_csv('2019-sep-25 ALMERA Samples CSV.csv',decimal=',',header=None)"
   ]
  },
  {
   "cell_type": "code",
   "execution_count": 8,
   "metadata": {},
   "outputs": [
    {
     "data": {
      "text/html": [
       "<div>\n",
       "<style scoped>\n",
       "    .dataframe tbody tr th:only-of-type {\n",
       "        vertical-align: middle;\n",
       "    }\n",
       "\n",
       "    .dataframe tbody tr th {\n",
       "        vertical-align: top;\n",
       "    }\n",
       "\n",
       "    .dataframe thead th {\n",
       "        text-align: right;\n",
       "    }\n",
       "</style>\n",
       "<table border=\"1\" class=\"dataframe\">\n",
       "  <thead>\n",
       "    <tr style=\"text-align: right;\">\n",
       "      <th></th>\n",
       "      <th>0</th>\n",
       "      <th>1</th>\n",
       "      <th>2</th>\n",
       "    </tr>\n",
       "  </thead>\n",
       "  <tbody>\n",
       "    <tr>\n",
       "      <td>0</td>\n",
       "      <td>46.54</td>\n",
       "      <td>0.008256</td>\n",
       "      <td>0.026447</td>\n",
       "    </tr>\n",
       "    <tr>\n",
       "      <td>1</td>\n",
       "      <td>475.35</td>\n",
       "      <td>0.002822</td>\n",
       "      <td>0.045887</td>\n",
       "    </tr>\n",
       "    <tr>\n",
       "      <td>2</td>\n",
       "      <td>563.23</td>\n",
       "      <td>0.002291</td>\n",
       "      <td>0.013179</td>\n",
       "    </tr>\n",
       "    <tr>\n",
       "      <td>3</td>\n",
       "      <td>569.32</td>\n",
       "      <td>0.002218</td>\n",
       "      <td>0.010851</td>\n",
       "    </tr>\n",
       "    <tr>\n",
       "      <td>4</td>\n",
       "      <td>604.70</td>\n",
       "      <td>0.002068</td>\n",
       "      <td>0.006972</td>\n",
       "    </tr>\n",
       "    <tr>\n",
       "      <td>5</td>\n",
       "      <td>795.84</td>\n",
       "      <td>0.001672</td>\n",
       "      <td>0.007033</td>\n",
       "    </tr>\n",
       "    <tr>\n",
       "      <td>6</td>\n",
       "      <td>801.93</td>\n",
       "      <td>0.001743</td>\n",
       "      <td>0.013259</td>\n",
       "    </tr>\n",
       "    <tr>\n",
       "      <td>7</td>\n",
       "      <td>1038.57</td>\n",
       "      <td>0.001614</td>\n",
       "      <td>0.067092</td>\n",
       "    </tr>\n",
       "    <tr>\n",
       "      <td>8</td>\n",
       "      <td>1167.94</td>\n",
       "      <td>0.001424</td>\n",
       "      <td>0.037835</td>\n",
       "    </tr>\n",
       "    <tr>\n",
       "      <td>9</td>\n",
       "      <td>1365.15</td>\n",
       "      <td>0.001292</td>\n",
       "      <td>0.026036</td>\n",
       "    </tr>\n",
       "    <tr>\n",
       "      <td>10</td>\n",
       "      <td>661.66</td>\n",
       "      <td>0.002144</td>\n",
       "      <td>0.009625</td>\n",
       "    </tr>\n",
       "    <tr>\n",
       "      <td>11</td>\n",
       "      <td>834.83</td>\n",
       "      <td>0.001949</td>\n",
       "      <td>0.022191</td>\n",
       "    </tr>\n",
       "    <tr>\n",
       "      <td>12</td>\n",
       "      <td>810.78</td>\n",
       "      <td>0.002184</td>\n",
       "      <td>0.071074</td>\n",
       "    </tr>\n",
       "    <tr>\n",
       "      <td>13</td>\n",
       "      <td>1173.23</td>\n",
       "      <td>0.001370</td>\n",
       "      <td>0.010167</td>\n",
       "    </tr>\n",
       "    <tr>\n",
       "      <td>14</td>\n",
       "      <td>1332.50</td>\n",
       "      <td>0.001175</td>\n",
       "      <td>0.010148</td>\n",
       "    </tr>\n",
       "    <tr>\n",
       "      <td>15</td>\n",
       "      <td>364.48</td>\n",
       "      <td>0.003588</td>\n",
       "      <td>0.041225</td>\n",
       "    </tr>\n",
       "    <tr>\n",
       "      <td>16</td>\n",
       "      <td>81.00</td>\n",
       "      <td>0.007702</td>\n",
       "      <td>0.017107</td>\n",
       "    </tr>\n",
       "    <tr>\n",
       "      <td>17</td>\n",
       "      <td>276.40</td>\n",
       "      <td>0.003375</td>\n",
       "      <td>0.097986</td>\n",
       "    </tr>\n",
       "    <tr>\n",
       "      <td>18</td>\n",
       "      <td>302.85</td>\n",
       "      <td>0.003620</td>\n",
       "      <td>0.042400</td>\n",
       "    </tr>\n",
       "    <tr>\n",
       "      <td>19</td>\n",
       "      <td>356.02</td>\n",
       "      <td>0.003380</td>\n",
       "      <td>0.018095</td>\n",
       "    </tr>\n",
       "    <tr>\n",
       "      <td>20</td>\n",
       "      <td>383.85</td>\n",
       "      <td>0.003125</td>\n",
       "      <td>0.088448</td>\n",
       "    </tr>\n",
       "    <tr>\n",
       "      <td>21</td>\n",
       "      <td>59.54</td>\n",
       "      <td>0.007809</td>\n",
       "      <td>0.012295</td>\n",
       "    </tr>\n",
       "  </tbody>\n",
       "</table>\n",
       "</div>"
      ],
      "text/plain": [
       "          0         1         2\n",
       "0     46.54  0.008256  0.026447\n",
       "1    475.35  0.002822  0.045887\n",
       "2    563.23  0.002291  0.013179\n",
       "3    569.32  0.002218  0.010851\n",
       "4    604.70  0.002068  0.006972\n",
       "5    795.84  0.001672  0.007033\n",
       "6    801.93  0.001743  0.013259\n",
       "7   1038.57  0.001614  0.067092\n",
       "8   1167.94  0.001424  0.037835\n",
       "9   1365.15  0.001292  0.026036\n",
       "10   661.66  0.002144  0.009625\n",
       "11   834.83  0.001949  0.022191\n",
       "12   810.78  0.002184  0.071074\n",
       "13  1173.23  0.001370  0.010167\n",
       "14  1332.50  0.001175  0.010148\n",
       "15   364.48  0.003588  0.041225\n",
       "16    81.00  0.007702  0.017107\n",
       "17   276.40  0.003375  0.097986\n",
       "18   302.85  0.003620  0.042400\n",
       "19   356.02  0.003380  0.018095\n",
       "20   383.85  0.003125  0.088448\n",
       "21    59.54  0.007809  0.012295"
      ]
     },
     "execution_count": 8,
     "metadata": {},
     "output_type": "execute_result"
    }
   ],
   "source": [
    "effics"
   ]
  },
  {
   "cell_type": "code",
   "execution_count": 9,
   "metadata": {},
   "outputs": [],
   "source": [
    "# "
   ]
  },
  {
   "cell_type": "code",
   "execution_count": 10,
   "metadata": {},
   "outputs": [],
   "source": [
    "npeffics = effics.to_numpy()"
   ]
  },
  {
   "cell_type": "code",
   "execution_count": 11,
   "metadata": {},
   "outputs": [
    {
     "data": {
      "text/plain": [
       "array([3.84031216, 6.16405137, 6.33368807, 6.34444267, 6.40473247,\n",
       "       6.67939816, 6.68702132, 6.94560005, 7.06299679, 7.21901959,\n",
       "       6.49475183, 6.72722811, 6.69799675, 7.06751591, 7.19481216,\n",
       "       5.89847168, 4.39444915, 5.62184909, 5.71323763, 5.87498691,\n",
       "       5.95025185, 4.08664836])"
      ]
     },
     "execution_count": 11,
     "metadata": {},
     "output_type": "execute_result"
    }
   ],
   "source": [
    "# ou entaum\n",
    "npeffics = effics.to_numpy()\n",
    "engys = npeffics[:,0]\n",
    "effs = npeffics[:,1]\n",
    "s_lneffs = npeffics[:,2]\n",
    "lnengys = np.log(engys)\n",
    "lneffs = np.log(effs)\n",
    "lnengys"
   ]
  },
  {
   "cell_type": "code",
   "execution_count": 12,
   "metadata": {},
   "outputs": [
    {
     "data": {
      "text/plain": [
       "array([-4.79681507, -5.87030943, -6.07876688, -6.11114939, -6.18117332,\n",
       "       -6.39373476, -6.35214751, -6.42903971, -6.55428547, -6.65156387,\n",
       "       -6.14508204, -6.24043886, -6.12659722, -6.59294454, -6.74648713,\n",
       "       -5.63016033, -4.86627524, -5.69135995, -5.62128125, -5.68987957,\n",
       "       -5.768321  , -4.85247836])"
      ]
     },
     "execution_count": 12,
     "metadata": {},
     "output_type": "execute_result"
    }
   ],
   "source": [
    "lneffs"
   ]
  },
  {
   "cell_type": "code",
   "execution_count": 13,
   "metadata": {},
   "outputs": [],
   "source": [
    "# lsq_linear: naum usarei por enquanto\n",
    "# res = lsq_linear(effics, b, bounds=(lb, ub), lsmr_tol='auto', verbose=1)\n",
    "# usarei "
   ]
  },
  {
   "cell_type": "code",
   "execution_count": 14,
   "metadata": {},
   "outputs": [],
   "source": [
    "# https://docs.scipy.org/doc/numpy/reference/routines.polynomials.classes.html"
   ]
  },
  {
   "cell_type": "code",
   "execution_count": 15,
   "metadata": {},
   "outputs": [
    {
     "data": {
      "text/plain": [
       "array([-3.56316185e+02,  3.24741130e+02, -1.17786615e+02,  2.09925625e+01,\n",
       "       -1.84188202e+00,  6.36705671e-02])"
      ]
     },
     "execution_count": 15,
     "metadata": {},
     "output_type": "execute_result"
    }
   ],
   "source": [
    "peff_w = polyfit(lnengys,lneffs,5,w=s_lneffs)\n",
    "peff_w"
   ]
  },
  {
   "cell_type": "code",
   "execution_count": 16,
   "metadata": {},
   "outputs": [
    {
     "data": {
      "text/plain": [
       "(array([ 1.29110608e+01, -2.11644869e+01,  9.55439800e+00, -2.03942161e+00,\n",
       "         2.06411683e-01, -8.06276756e-03]),\n",
       " [array([0.11121854]),\n",
       "  6,\n",
       "  array([2.41600476e+00, 3.99024315e-01, 6.07435640e-02, 3.28130369e-03,\n",
       "         1.80800009e-04, 3.56022063e-06]),\n",
       "  4.884981308350689e-15])"
      ]
     },
     "execution_count": 16,
     "metadata": {},
     "output_type": "execute_result"
    }
   ],
   "source": [
    "pfull = polyfit(lnengys,lneffs,5,full=True)\n",
    "pfull"
   ]
  },
  {
   "cell_type": "code",
   "execution_count": 17,
   "metadata": {},
   "outputs": [
    {
     "data": {
      "text/plain": [
       "(array([-3.56316185e+02,  3.24741130e+02, -1.17786615e+02,  2.09925625e+01,\n",
       "        -1.84188202e+00,  6.36705671e-02]),\n",
       " [array([8.04219408e-05]),\n",
       "  6,\n",
       "  array([2.42095475e+00, 3.70714692e-01, 3.92583140e-02, 2.73583863e-03,\n",
       "         1.07477000e-04, 3.30990230e-06]),\n",
       "  4.884981308350689e-15])"
      ]
     },
     "execution_count": 17,
     "metadata": {},
     "output_type": "execute_result"
    }
   ],
   "source": [
    "pfull_w = polyfit(lnengys,lneffs,5,full=True,w=s_lneffs)\n",
    "pfull_w"
   ]
  },
  {
   "cell_type": "code",
   "execution_count": 18,
   "metadata": {},
   "outputs": [
    {
     "data": {
      "text/latex": [
       "$x \\mapsto \\text{-356.31618466893906} + \\text{324.7411302013003}\\,x - \\text{117.78661510695605}\\,x^{2} + \\text{20.99256246559397}\\,x^{3} - \\text{1.8418820153724733}\\,x^{4} + \\text{0.06367056705128903}\\,x^{5}$"
      ],
      "text/plain": [
       "Polynomial([-3.56316185e+02,  3.24741130e+02, -1.17786615e+02,  2.09925625e+01,\n",
       "       -1.84188202e+00,  6.36705671e-02], domain=[-1,  1], window=[-1,  1])"
      ]
     },
     "execution_count": 18,
     "metadata": {},
     "output_type": "execute_result"
    }
   ],
   "source": [
    "P(peff_w)"
   ]
  },
  {
   "cell_type": "code",
   "execution_count": 19,
   "metadata": {},
   "outputs": [
    {
     "data": {
      "text/plain": [
       "array([12.23997754, -9.27243188,  1.65455979, -0.10164261])"
      ]
     },
     "execution_count": 19,
     "metadata": {},
     "output_type": "execute_result"
    }
   ],
   "source": [
    "polyfit(lnengys,lneffs,3,w=s_lneffs)"
   ]
  },
  {
   "cell_type": "code",
   "execution_count": null,
   "metadata": {},
   "outputs": [],
   "source": []
  },
  {
   "cell_type": "code",
   "execution_count": 20,
   "metadata": {},
   "outputs": [],
   "source": [
    "# Bokeh graph w/ efficiencies\n",
    "bokeffics = figure(\n",
    "   plot_width =default_plot_width,\n",
    "   plot_height=default_plot_height,\n",
    "   tools=\"pan,box_zoom,reset,save\",\n",
    "   # y_axis_type=\"log\",\n",
    "   # y_range=[10**1, 10**5], title=\"effs\",\n",
    "   # y_range=[-1000.0, 1000.0], title=\"engys\",\n",
    "   x_axis_label='channels', y_axis_label='counts'\n",
    ")\n",
    "\n",
    "# base, lower, upper = [], [], []\n",
    "\n",
    "base=lneffs\n",
    "lower = lneffs - s_lneffs\n",
    "upper = lneffs + s_lneffs\n",
    "\n",
    "source_error = ColumnDataSource(data=dict(base=base, lower=lower, upper=upper))\n",
    "\n",
    "# for i, eff in enumerate(list(effs)):\n",
    "    # year_mpgs = df[df['yr'] == year]['mpg']\n",
    "    # mpgs_mean = year_mpgs.mean()\n",
    "    # mpgs_std = year_mpgs.std()\n",
    "#    lower.append(lneff - mpgs_std)\n",
    "#    upper.append(eff + mpgs_std)\n",
    "#    base.append(year)\n",
    "\n",
    "bokeffics.circle(lnengys, lneffs, legend=\"cwt peaks\", color=\"navy\",size=10)\n",
    "\n",
    "# bokeffics.add_layout(\n",
    "#     Whisker(source=source_error, base=\"base\", upper=\"upper\", lower=\"lower\")\n",
    "# )\n",
    "\n",
    "# bokpksallscl.line(xs, y0s, color=\"lightgreen\")\n",
    "# bokpksallscl.cross(pk_per_scal[ 0], y0s[pk_per_scal[ 0]]*1.01, color=\"red\",size=2)\n",
    "show(bokeffics)"
   ]
  },
  {
   "cell_type": "code",
   "execution_count": null,
   "metadata": {},
   "outputs": [],
   "source": []
  },
  {
   "cell_type": "code",
   "execution_count": 21,
   "metadata": {},
   "outputs": [],
   "source": [
    "# 2019-09-28 PAREY AKIH a parte do cahlculo de eficiehncias"
   ]
  },
  {
   "cell_type": "code",
   "execution_count": null,
   "metadata": {},
   "outputs": [],
   "source": []
  },
  {
   "cell_type": "code",
   "execution_count": null,
   "metadata": {},
   "outputs": [],
   "source": []
  },
  {
   "cell_type": "code",
   "execution_count": null,
   "metadata": {},
   "outputs": [],
   "source": []
  },
  {
   "cell_type": "code",
   "execution_count": null,
   "metadata": {},
   "outputs": [],
   "source": []
  },
  {
   "cell_type": "code",
   "execution_count": 22,
   "metadata": {},
   "outputs": [],
   "source": [
    "# Alguns defs"
   ]
  },
  {
   "cell_type": "raw",
   "metadata": {},
   "source": [
    "2019-07-15: Agora, fazer looping para todos os picos, sem definir regioens, nada disso:"
   ]
  },
  {
   "cell_type": "raw",
   "metadata": {},
   "source": [
    "def searchcwt(y0s, ipks, widths):\n",
    "    widthmaxes = np.ones_like(ipks,dtype=float)\n",
    "    sigmas_experim = np.ones_like(ipks,dtype=float)\n",
    "    gau_hights = np.ones_like(ipks,dtype=float)\n",
    "    k = (np.sqrt(3)*6**(3/2))/(2**(3/2)*5**(5/4)*np.pi**(1/4))\n",
    "    for enumpk, ipk in enumerate(ipks):\n",
    "        print('pico no canal ', ipk)\n",
    "        if (ipk>25) & (ipk<len(y0s)-35):\n",
    "            insca=1\n",
    "            fisca=len(widths)+1\n",
    "            newwidths=widths\n",
    "            for j in range(1,4):\n",
    "                print ('larguras:')\n",
    "                print(newwidths)\n",
    "                cwtmatr = cwt(y0s, ricker, newwidths)\n",
    "                # 2019-07-15 AQUI: defini janela ao redor do pico\n",
    "                # para analisar resultados de cwtmatr\n",
    "                max_escalas = np.max(cwtmatr[:,ipk-10:ipk+11],axis=1)\n",
    "                print ('max escalas:')\n",
    "                print(max_escalas)\n",
    "                imax = np.argmax(max_escalas)\n",
    "                print('imax:')\n",
    "                print(imax)\n",
    "                i0 = imax-3\n",
    "                if i0 < 0:\n",
    "                    i0 = 0\n",
    "                insca = newwidths[i0]\n",
    "                i1 = imax+3\n",
    "                if i1 >= len(newwidths):\n",
    "                    i1 = len(newwidths)-1\n",
    "                fisca = newwidths[i1]\n",
    "                newwidths = np.linspace(insca,fisca,num=30)\n",
    "            widthmaxes[enumpk] = newwidths[imax]\n",
    "            print('widthmax:')\n",
    "            print(widthmaxes[enumpk])\n",
    "            print('------')\n",
    "            sigmas_experim[enumpk] = widthmaxes[enumpk] / np.sqrt(5)\n",
    "            gau_hights[enumpk] = k * max_escalas[imax] / np.sqrt(sigmas_experim[enumpk])\n",
    "            print('gauss_height:')\n",
    "            print(gau_hights[enumpk])\n",
    "            print('sigma_experim:')\n",
    "            print(sigmas_experim[enumpk])\n",
    "            print('*******')\n",
    "        else:\n",
    "            print('pico extremo')\n",
    "    return sigmas_experim, gau_hights"
   ]
  },
  {
   "cell_type": "raw",
   "metadata": {},
   "source": [
    "def searchcwt2(y0s, ipks, widths):\n",
    "    widthmaxes = np.ones_like(ipks,dtype=float)\n",
    "    sigmas_experim = np.ones_like(ipks,dtype=float)\n",
    "    gau_hights = np.ones_like(ipks,dtype=float)\n",
    "    k = (np.sqrt(3)*6**(3/2))/(2**(3/2)*5**(5/4)*np.pi**(1/4))\n",
    "    cwtmatr2 = cwt(y0s, ricker, widths)\n",
    "    return cwtmatr2"
   ]
  },
  {
   "cell_type": "raw",
   "metadata": {},
   "source": [
    "# 2019-07-23:\n",
    "# Busca cwt usando escala movel obtida por ajuste fwhm x canal\n",
    "# O polinomio de ajuste fit eh passado como parahmetro \n",
    "def searchcwt_fix(y0s):\n",
    "    ipks_fix = []\n",
    "    for i in range(20, len(y0s)-20):\n",
    "        fff = find_peaks_cwt(y0s[i-10:i+11], [5.0])\n",
    "    ipks_fix.append(fff)\n",
    "    return ipks_fix"
   ]
  },
  {
   "cell_type": "code",
   "execution_count": null,
   "metadata": {},
   "outputs": [],
   "source": []
  },
  {
   "cell_type": "code",
   "execution_count": null,
   "metadata": {},
   "outputs": [],
   "source": []
  },
  {
   "cell_type": "code",
   "execution_count": null,
   "metadata": {},
   "outputs": [],
   "source": []
  },
  {
   "cell_type": "code",
   "execution_count": null,
   "metadata": {},
   "outputs": [],
   "source": []
  },
  {
   "cell_type": "code",
   "execution_count": 23,
   "metadata": {},
   "outputs": [],
   "source": [
    "# Aqui: inihcio da anahlise\n",
    "# Leitura do espectro"
   ]
  },
  {
   "cell_type": "code",
   "execution_count": 24,
   "metadata": {},
   "outputs": [],
   "source": [
    "fn2 = '../gamma/spectra/ALMERA-2017-3/ALM-17-3-#5_PreliA.IEC'\n",
    "# fn2 = '..\\Genie_Transfer\\Si\\SI2019\\SI04219.Chn'\n",
    "spec2 = Spec()"
   ]
  },
  {
   "cell_type": "code",
   "execution_count": 25,
   "metadata": {},
   "outputs": [
    {
     "name": "stdout",
     "output_type": "stream",
     "text": [
      "8192\n"
     ]
    }
   ],
   "source": [
    "if spec2.readSp( fn2 ) >= 0:\n",
    "    print (spec2.spLngData)"
   ]
  },
  {
   "cell_type": "code",
   "execution_count": 26,
   "metadata": {},
   "outputs": [],
   "source": [
    "xs = np.linspace(0,spec2.spLngData-1,spec2.spLngData)\n",
    "y0s = np.asarray(spec2.spCounts)"
   ]
  },
  {
   "cell_type": "code",
   "execution_count": 27,
   "metadata": {},
   "outputs": [],
   "source": [
    "# AQUI defino as larguras e quantas. Vamos detonar: tinha usado num=100\n",
    "# 2019-10-01 Menos agora, usarei num=30"
   ]
  },
  {
   "cell_type": "code",
   "execution_count": 28,
   "metadata": {},
   "outputs": [
    {
     "data": {
      "text/plain": [
       "array([ 2.        ,  2.37931034,  2.75862069,  3.13793103,  3.51724138,\n",
       "        3.89655172,  4.27586207,  4.65517241,  5.03448276,  5.4137931 ,\n",
       "        5.79310345,  6.17241379,  6.55172414,  6.93103448,  7.31034483,\n",
       "        7.68965517,  8.06896552,  8.44827586,  8.82758621,  9.20689655,\n",
       "        9.5862069 ,  9.96551724, 10.34482759, 10.72413793, 11.10344828,\n",
       "       11.48275862, 11.86206897, 12.24137931, 12.62068966, 13.        ])"
      ]
     },
     "execution_count": 28,
     "metadata": {},
     "output_type": "execute_result"
    }
   ],
   "source": [
    "# widths = np.linspace(2,13,num=100)\n",
    "widths = np.linspace(2,13,num=30)\n",
    "widths"
   ]
  },
  {
   "cell_type": "code",
   "execution_count": 29,
   "metadata": {},
   "outputs": [
    {
     "data": {
      "text/plain": [
       "array([ 113,  236,  270,  391,  442,  456,  658,  681,  693,  706,  713,\n",
       "        728,  777,  794,  812,  827,  844,  885,  920,  943,  994, 1007,\n",
       "       1020, 1058, 1208, 1225, 1311, 1391, 1495, 1591, 1713, 1782, 1969,\n",
       "       2054, 2076, 2166, 2195, 2303, 2317, 2339, 2379, 2401, 2432, 2466,\n",
       "       2585, 2675, 2702, 2751, 2830, 2850, 2937, 2953, 3060, 3085, 3287,\n",
       "       3312, 3370, 3461, 3487, 3531, 3560, 3584, 3646, 3683, 3698, 3760,\n",
       "       3812, 3891, 3980, 4083, 4160, 4183, 4249, 4291, 4358, 4396, 4477,\n",
       "       4497, 4506, 4566, 4581, 4615, 4731, 4777, 4884, 4908, 4942, 4969,\n",
       "       5026, 5090, 5118, 5150, 5167, 5182, 5204, 5229, 5284, 5298, 5329,\n",
       "       5348, 5391, 5419, 5470, 5508, 5595, 5675, 5744, 5820, 5852, 5914,\n",
       "       5950, 5989, 6118, 6170, 6204, 6221, 6235, 6273, 6352, 6490, 6523,\n",
       "       6588, 6605, 6643, 6670, 6742, 6761, 6806, 6980, 7019, 7101, 7134,\n",
       "       7228, 7338, 7358, 7401, 7412, 7428, 7453, 7506, 7560, 7577, 7648,\n",
       "       7680, 7742, 7797, 7820, 7924, 7971, 8023, 8049, 8081, 8104, 8106,\n",
       "       8137, 8157, 8187])"
      ]
     },
     "execution_count": 29,
     "metadata": {},
     "output_type": "execute_result"
    }
   ],
   "source": [
    "teste1 = find_peaks_cwt(y0s, widths)\n",
    "teste1"
   ]
  },
  {
   "cell_type": "code",
   "execution_count": 30,
   "metadata": {},
   "outputs": [
    {
     "data": {
      "text/plain": [
       "157"
      ]
     },
     "execution_count": 30,
     "metadata": {},
     "output_type": "execute_result"
    }
   ],
   "source": [
    "len(teste1)"
   ]
  },
  {
   "cell_type": "code",
   "execution_count": 31,
   "metadata": {},
   "outputs": [
    {
     "data": {
      "text/plain": [
       "array([ 113,  236,  391,  442,  456,  943, 1208, 1225, 1495, 1713, 1782,\n",
       "       1969, 2054, 2303, 2339, 2432, 2466, 2585, 2702, 2937, 2953, 3085,\n",
       "       3370, 3560, 3646, 3760, 3891, 3980, 4083, 4249, 4615, 4731, 4884,\n",
       "       5329, 5419, 5675, 5852, 6118, 6273, 6490, 6980, 7101, 7134, 7648,\n",
       "       7797, 7820, 8023, 8106])"
      ]
     },
     "execution_count": 31,
     "metadata": {},
     "output_type": "execute_result"
    }
   ],
   "source": [
    "ipks2 = find_peaks_cwt(y0s,widths=widths,wavelet=ricker,max_distances=widths/4,min_snr=3.0,noise_perc=10)\n",
    "ipks2"
   ]
  },
  {
   "cell_type": "code",
   "execution_count": 32,
   "metadata": {},
   "outputs": [
    {
     "data": {
      "text/plain": [
       "array([ 109,  237,  380,  392,  443,  456,  944, 1209, 1226, 1495, 1714,\n",
       "       1782, 1959, 1970, 2055, 2304, 2434, 2467, 2586, 2703, 2953, 3086,\n",
       "       3370, 3647, 3892, 3980, 4083, 4250, 4732, 4886, 5676, 5851, 5855,\n",
       "       6273, 6491, 6981, 7102, 7134, 7649])"
      ]
     },
     "execution_count": 32,
     "metadata": {},
     "output_type": "execute_result"
    }
   ],
   "source": [
    "ipks2 = find_peaks_cwt(y0s,widths=[widths[0]],wavelet=ricker,max_distances=widths/4,min_snr=3.0,noise_perc=10)\n",
    "ipks2"
   ]
  },
  {
   "cell_type": "code",
   "execution_count": 33,
   "metadata": {},
   "outputs": [
    {
     "data": {
      "text/plain": [
       "array([ 109,  237,  380,  391,  443,  456,  944, 1209, 1226, 1495, 1782,\n",
       "       1959, 1970, 2055, 2303, 2434, 2467, 2586, 2703, 2953, 3086, 3370,\n",
       "       3561, 3647, 3892, 3980, 4083, 4250, 4614, 4732, 4885, 5330, 5676,\n",
       "       5852, 6119, 6273, 6491, 6981, 7102, 7134, 7648, 8024])"
      ]
     },
     "execution_count": 33,
     "metadata": {},
     "output_type": "execute_result"
    }
   ],
   "source": [
    "ipks2 = find_peaks_cwt(y0s,widths=[widths[1]],wavelet=ricker,max_distances=widths/4,min_snr=3.0,noise_perc=10)\n",
    "ipks2"
   ]
  },
  {
   "cell_type": "code",
   "execution_count": 34,
   "metadata": {},
   "outputs": [
    {
     "data": {
      "text/plain": [
       "array([ 109,  237,  271,  380,  391,  403,  443,  456,  661,  682,  694,\n",
       "        706,  719,  728,  745,  755,  779,  793,  826,  875,  921,  944,\n",
       "        994, 1008, 1209, 1226, 1311, 1392, 1495, 1713, 1767, 1782, 1959,\n",
       "       1970, 1999, 2055, 2077, 2166, 2196, 2212, 2220, 2303, 2340, 2379,\n",
       "       2402, 2434, 2467, 2586, 2675, 2703, 2780, 2830, 2939, 2953, 3086,\n",
       "       3312, 3370, 3385, 3487, 3531, 3561, 3585, 3618, 3647, 3673, 3683,\n",
       "       3699, 3761, 3892, 3980, 4083, 4160, 4182, 4250, 4352, 4359, 4478,\n",
       "       4508, 4558, 4566, 4581, 4614, 4644, 4653, 4660, 4732, 4777, 4885,\n",
       "       4908, 4931, 4941, 4969, 5015, 5026, 5090, 5098, 5119, 5169, 5205,\n",
       "       5267, 5284, 5298, 5330, 5348, 5378, 5418, 5470, 5507, 5526, 5536,\n",
       "       5595, 5676, 5852, 5914, 5951, 5961, 5989, 6023, 6119, 6171, 6204,\n",
       "       6221, 6235, 6273, 6477, 6491, 6524, 6588, 6642, 6670, 6733, 6742,\n",
       "       6761, 6771, 6808, 6981, 7019, 7102, 7134, 7348, 7360, 7381, 7392,\n",
       "       7402, 7412, 7429, 7454, 7463, 7494, 7530, 7561, 7639, 7648, 7681,\n",
       "       7708, 7742, 7794, 7800, 7821, 7876, 7924, 7971, 8024, 8049, 8081,\n",
       "       8105, 8138, 8189])"
      ]
     },
     "execution_count": 34,
     "metadata": {},
     "output_type": "execute_result"
    }
   ],
   "source": [
    "# min_snr tem que ser menor\n",
    "# noise_perc tem que ser > 5 senao escapam muitos. Usar 7\n",
    "ipks2 = find_peaks_cwt(y0s,widths=[widths[1]],wavelet=ricker,max_distances=widths/4,min_snr=1.0,noise_perc=10)\n",
    "ipks2"
   ]
  },
  {
   "cell_type": "code",
   "execution_count": 35,
   "metadata": {},
   "outputs": [
    {
     "data": {
      "text/plain": [
       "168"
      ]
     },
     "execution_count": 35,
     "metadata": {},
     "output_type": "execute_result"
    }
   ],
   "source": [
    "len(ipks2)"
   ]
  },
  {
   "cell_type": "code",
   "execution_count": 36,
   "metadata": {},
   "outputs": [
    {
     "name": "stdout",
     "output_type": "stream",
     "text": [
      "2.0\n",
      "2.3793103448275863\n",
      "2.7586206896551726\n",
      "3.1379310344827585\n",
      "3.5172413793103448\n",
      "3.896551724137931\n",
      "4.275862068965517\n",
      "4.655172413793103\n",
      "5.0344827586206895\n",
      "5.413793103448276\n",
      "5.793103448275862\n",
      "6.172413793103448\n",
      "6.551724137931034\n",
      "6.93103448275862\n",
      "7.310344827586206\n",
      "7.689655172413793\n",
      "8.068965517241379\n",
      "8.448275862068964\n",
      "8.827586206896552\n",
      "9.206896551724139\n",
      "9.586206896551724\n",
      "9.96551724137931\n",
      "10.344827586206897\n",
      "10.724137931034482\n",
      "11.103448275862068\n",
      "11.482758620689655\n",
      "11.86206896551724\n",
      "12.241379310344827\n",
      "12.620689655172413\n",
      "13.0\n"
     ]
    }
   ],
   "source": [
    "# Separando os picos por escala:\n",
    "# Aqui prestar atencao redobrada:\n",
    "# Eh onde defini-se os parametros da busca cwt na funcao find_peaks_cwt\n",
    "pk_per_scal = []\n",
    "for wid in widths:\n",
    "    print (wid)\n",
    "    pk_per_scal.append(find_peaks_cwt\n",
    "                       (y0s,widths=[wid],wavelet=ricker,max_distances=widths/4,min_snr=1.0,noise_perc=10))\n",
    "    # pk_per_scal.append(find_peaks_cwt(y0s,widths=[wid],))\n",
    "    # print(pk_per_scal[-1])"
   ]
  },
  {
   "cell_type": "code",
   "execution_count": 37,
   "metadata": {},
   "outputs": [
    {
     "data": {
      "text/plain": [
       "2130"
      ]
     },
     "execution_count": 37,
     "metadata": {},
     "output_type": "execute_result"
    }
   ],
   "source": [
    "# pk_per_scal: lista de arrays; cada array corresponde a uma escala e contehm\n",
    "# os canais dos picos detectados na escala.\n",
    "\n",
    "# pks_cwt_flatten: lista contihnua em que cada elemento eh uma lista de 2 elementos: [pk, width], em que\n",
    "#   pk: canal do pico \n",
    "#   width: \"largura\" (=escala)\n",
    "\n",
    "pks_cwt_flatten = []\n",
    "for isc, pksc in enumerate(pk_per_scal):\n",
    "    for pk in pksc:\n",
    "        pks_cwt_flatten.append([pk,widths[isc]])\n",
    "len(pks_cwt_flatten)"
   ]
  },
  {
   "cell_type": "code",
   "execution_count": 38,
   "metadata": {},
   "outputs": [],
   "source": [
    "ar1 = np.asarray(pks_cwt_flatten)"
   ]
  },
  {
   "cell_type": "code",
   "execution_count": 39,
   "metadata": {},
   "outputs": [
    {
     "data": {
      "text/plain": [
       "array([[0., 0., 0., ..., 0., 1., 0.],\n",
       "       [0., 0., 0., ..., 1., 0., 0.],\n",
       "       [0., 0., 0., ..., 1., 0., 0.],\n",
       "       ...,\n",
       "       [0., 0., 0., ..., 0., 0., 0.],\n",
       "       [0., 0., 0., ..., 0., 0., 0.],\n",
       "       [0., 0., 0., ..., 0., 0., 0.]])"
      ]
     },
     "execution_count": 39,
     "metadata": {},
     "output_type": "execute_result"
    }
   ],
   "source": [
    "# imag1: imagem de pixels binahrios dos picos nas escalas\n",
    "imag1 = np.zeros((len(widths),len(xs)))\n",
    "for isc, pksc in enumerate(pk_per_scal):\n",
    "    for pk in pksc:\n",
    "        imag1[isc,pk] = 1\n",
    "imag1"
   ]
  },
  {
   "cell_type": "code",
   "execution_count": 40,
   "metadata": {},
   "outputs": [
    {
     "data": {
      "text/plain": [
       "(30, 8192)"
      ]
     },
     "execution_count": 40,
     "metadata": {},
     "output_type": "execute_result"
    }
   ],
   "source": [
    "np.shape(imag1)"
   ]
  },
  {
   "cell_type": "code",
   "execution_count": 41,
   "metadata": {},
   "outputs": [
    {
     "data": {
      "text/plain": [
       "array([[ True,  True,  True],\n",
       "       [ True,  True,  True],\n",
       "       [ True,  True,  True]])"
      ]
     },
     "execution_count": 41,
     "metadata": {},
     "output_type": "execute_result"
    }
   ],
   "source": [
    "stru_diag_also = generate_binary_structure(2,2)\n",
    "stru_diag_also"
   ]
  },
  {
   "cell_type": "code",
   "execution_count": 42,
   "metadata": {},
   "outputs": [],
   "source": [
    "# 2019-10-01 Fun,c~ao chave: label: identifica os ridges na imagem"
   ]
  },
  {
   "cell_type": "code",
   "execution_count": 43,
   "metadata": {},
   "outputs": [
    {
     "data": {
      "text/plain": [
       "(array([[  0,   0,   0, ...,   0, 213,   0],\n",
       "        [  0,   0,   0, ..., 213,   0,   0],\n",
       "        [  0,   0,   0, ..., 213,   0,   0],\n",
       "        ...,\n",
       "        [  0,   0,   0, ...,   0,   0,   0],\n",
       "        [  0,   0,   0, ...,   0,   0,   0],\n",
       "        [  0,   0,   0, ...,   0,   0,   0]], dtype=int32), 260)"
      ]
     },
     "execution_count": 43,
     "metadata": {},
     "output_type": "execute_result"
    }
   ],
   "source": [
    "lblimag1, num_feat_imag1 = label(imag1,stru_diag_also)\n",
    "lblimag1, num_feat_imag1"
   ]
  },
  {
   "cell_type": "code",
   "execution_count": null,
   "metadata": {},
   "outputs": [],
   "source": []
  },
  {
   "cell_type": "code",
   "execution_count": 44,
   "metadata": {},
   "outputs": [],
   "source": [
    "# Finally, the ridges delimited all over the spectrum\n",
    "ridges = find_objects(lblimag1)\n",
    "# ridges"
   ]
  },
  {
   "cell_type": "code",
   "execution_count": 45,
   "metadata": {},
   "outputs": [],
   "source": [
    "ridges_rectangles = [lblimag1[loc] for loc in ridges]\n",
    "# ridges_rectangles"
   ]
  },
  {
   "cell_type": "code",
   "execution_count": 46,
   "metadata": {},
   "outputs": [],
   "source": [
    "# 2019-09-18 Parei Aqqui"
   ]
  },
  {
   "cell_type": "code",
   "execution_count": 47,
   "metadata": {},
   "outputs": [],
   "source": [
    "# https://stackoverflow.com/questions/29130898/get-start-and-stop-from-a-python-slice-object"
   ]
  },
  {
   "cell_type": "code",
   "execution_count": null,
   "metadata": {},
   "outputs": [],
   "source": []
  },
  {
   "cell_type": "code",
   "execution_count": null,
   "metadata": {},
   "outputs": [],
   "source": []
  },
  {
   "cell_type": "code",
   "execution_count": null,
   "metadata": {},
   "outputs": [],
   "source": []
  },
  {
   "cell_type": "code",
   "execution_count": null,
   "metadata": {},
   "outputs": [],
   "source": []
  },
  {
   "cell_type": "code",
   "execution_count": null,
   "metadata": {},
   "outputs": [],
   "source": []
  },
  {
   "cell_type": "code",
   "execution_count": 48,
   "metadata": {},
   "outputs": [],
   "source": [
    "# 2019-09-18 Aqui eh hora de calcular cwtmatr"
   ]
  },
  {
   "cell_type": "code",
   "execution_count": 49,
   "metadata": {},
   "outputs": [
    {
     "data": {
      "text/plain": [
       "array([[-1.58740510e-13,  6.73699779e-14,  3.26744393e-13, ...,\n",
       "         1.36858386e+01,  1.63385596e+01,  1.20432432e+01],\n",
       "       [-1.09476214e-13, -6.73699779e-15,  4.04219867e-14, ...,\n",
       "         1.76637103e+01,  1.73034365e+01,  9.98293512e+00],\n",
       "       [-3.92430121e-13, -3.90745872e-13, -2.79585408e-13, ...,\n",
       "         1.94460245e+01,  1.65696077e+01,  7.94189113e+00],\n",
       "       ...,\n",
       "       [ 4.31167859e-13,  0.00000000e+00,  7.41069757e-13, ...,\n",
       "         1.52797630e+01,  9.02678519e+00,  2.57067646e+00],\n",
       "       [-1.88635938e-13, -1.34739956e-12, -1.21265960e-12, ...,\n",
       "         1.42514133e+01,  8.11962219e+00,  1.80573346e+00],\n",
       "       [-6.73699779e-13,  4.58115850e-13,  1.07791965e-13, ...,\n",
       "         1.89620534e+01,  1.32258900e+01,  7.21085146e+00]])"
      ]
     },
     "execution_count": 49,
     "metadata": {},
     "output_type": "execute_result"
    }
   ],
   "source": [
    "cwtmatr = cwt(y0s, ricker, widths)\n",
    "cwtmatr"
   ]
  },
  {
   "cell_type": "code",
   "execution_count": null,
   "metadata": {},
   "outputs": [],
   "source": []
  },
  {
   "cell_type": "code",
   "execution_count": 50,
   "metadata": {},
   "outputs": [
    {
     "data": {
      "text/plain": [
       "(30, 8192)"
      ]
     },
     "execution_count": 50,
     "metadata": {},
     "output_type": "execute_result"
    }
   ],
   "source": [
    "np.shape(cwtmatr)"
   ]
  },
  {
   "cell_type": "code",
   "execution_count": 51,
   "metadata": {},
   "outputs": [
    {
     "data": {
      "text/plain": [
       "(30, 8192)"
      ]
     },
     "execution_count": 51,
     "metadata": {},
     "output_type": "execute_result"
    }
   ],
   "source": [
    "np.shape(lblimag1)"
   ]
  },
  {
   "cell_type": "code",
   "execution_count": 52,
   "metadata": {},
   "outputs": [],
   "source": [
    "# Achar o mahximo cwt no retahngulo"
   ]
  },
  {
   "cell_type": "code",
   "execution_count": 53,
   "metadata": {},
   "outputs": [],
   "source": [
    "# 2019-09-19 Fica muito confuso usar os mahximos nos eixos. Melhor usar indice flatten\n",
    "# e depois converter para ihndice estrutural (unravel). Deu certo!\n",
    "#                                                             |\n",
    "#                                                             |\n",
    "#                                                             v"
   ]
  },
  {
   "cell_type": "code",
   "execution_count": 54,
   "metadata": {},
   "outputs": [],
   "source": [
    "# 2019-10-01\n",
    "# https://stackoverflow.com/questions/497885/python-element-wise-tuple-operations-like-sum\n"
   ]
  },
  {
   "cell_type": "code",
   "execution_count": 55,
   "metadata": {},
   "outputs": [],
   "source": [
    "n_side_chans = 11\n",
    "n_side_centr_ch = 3"
   ]
  },
  {
   "cell_type": "code",
   "execution_count": 56,
   "metadata": {},
   "outputs": [],
   "source": [
    "xpk = []\n",
    "ypk = []\n",
    "centrpk = []\n",
    "cwtpk = []\n",
    "nscpk = []\n",
    "regions_slcs = []\n",
    "for iridge, ridge in enumerate(ridges):\n",
    "    lbl_ridge = iridge+1\n",
    "    nscpk.append( ridge[0].stop - ridge[0].start)\n",
    "    labeled = lblimag1[ridge]\n",
    "    cwts_ridge = cwtmatr[ridge]\n",
    "    retang3 = ma.masked_where(labeled!=lbl_ridge,cwts_ridge)\n",
    "    maxim3 = np.max(retang3)\n",
    "    flat_retang_ind = np.argmax(retang3)\n",
    "    retang_indices = np.unravel_index(flat_retang_ind,np.shape(retang3))\n",
    "    # print(iridge)\n",
    "    # print(ridge)\n",
    "    # print(maxim3)\n",
    "    # print(retang_indices)\n",
    "    indices_max_in_ridge = tuple(map(lambda x, y: x + y, retang_indices, (ridge[0].start, ridge[1].start)))\n",
    "    cwtpk.append(maxim3)\n",
    "    xpk.append( indices_max_in_ridge[1] )\n",
    "    ypk.append( widths[indices_max_in_ridge[0]] )\n",
    "    region_slc = slice(xpk[-1]-n_side_chans, xpk[-1]+n_side_chans+1)\n",
    "    regions_slcs.append(region_slc)\n",
    "    # 2019-10-02 C'alculo de centroide\n",
    "    region_centr = slice(xpk[-1]-n_side_centr_ch, xpk[-1]+n_side_centr_ch+1)\n",
    "    centrpk.append( np.sum(xs[region_centr]*y0s[region_centr]) / np.sum(y0s[region_centr]))\n",
    "    # print(indices_max_in_ridge)\n",
    "    # print(cwtmatr[indices_max_in_ridge])\n",
    "    # print('==============')"
   ]
  },
  {
   "cell_type": "code",
   "execution_count": 57,
   "metadata": {},
   "outputs": [],
   "source": [
    "# Vari'aveis importantes definidas at'e aqui\n",
    "\n",
    "# n_side_chans = 11\n",
    "# n_side_centr_ch = 3\n",
    "\n",
    "# nscpk - n'umero de escalas (=pontos) que comp~oe o ridge \n",
    "# xpk - canais dos picos ap'os an'alise dos ridges, com coeficiente cwt m'ahximo\n",
    "# ypk - escalas dos picos ap'os an'alise dos ridges, com coeficiente cwt m'ahximo\n",
    "# cwtpk - coeficiente cwt correspondente a (xpk, ypk)\n",
    "# centrpk - centroides dos xpk\n",
    "# regions_slcs - slices das regi~oes dos picos"
   ]
  },
  {
   "cell_type": "raw",
   "metadata": {},
   "source": [
    "Tinha parado aqui em julho/2019: parei aqui. Agora, usar a expressao para obter todas as alturas de pico por meio da cwt.\n",
    "Mas eh bom verificar com espectros sintehticos com ruihdo e com linhas base com diversas caracterihsticas (com degrau, com forte inclinacao etc)\n",
    "\n",
    "2019-07-15: Funciona perfeitamente com degrau e alta linha base!!!!"
   ]
  },
  {
   "cell_type": "code",
   "execution_count": 58,
   "metadata": {},
   "outputs": [],
   "source": [
    "# 2019-10-02 Selecionando picos vahlidos pelo critehrio seguinte:\n",
    "# nsca_det: nuhmero de escalas sucessivas em que eh detectado (= nuhmero de pontos do ridge)\n",
    "# Supondo que naum haja bifurca,caum, eh a altura do retahngulo que o contehm.\n",
    "# Adotarei 5 por enquanto\n",
    "# ou 7"
   ]
  },
  {
   "cell_type": "code",
   "execution_count": 59,
   "metadata": {},
   "outputs": [
    {
     "data": {
      "text/plain": [
       "masked_array(data=[10, --, 17, 14, 12, 30, --, 20, 8, 22, --, 6, 8, 7, --,\n",
       "                   --, 5, --, 7, --, 5, 30, 11, 5, --, --, 11, 30, 6, --,\n",
       "                   30, --, 8, --, --, 30, --, 8, 22, --, --, 30, --, --,\n",
       "                   10, 5, --, --, 30, --, 30, --, 12, 7, 30, 30, --, 30,\n",
       "                   5, 30, --, --, --, 9, 14, 30, --, --, 30, --, --, 5,\n",
       "                   --, --, 30, 30, --, 12, --, 16, --, 30, 30, 30, 5, 6,\n",
       "                   --, 30, --, 5, --, --, 7, --, --, --, --, --, --, 26,\n",
       "                   --, --, 30, --, --, --, 23, 17, 5, --, --, --, --, --,\n",
       "                   23, --, 9, 11, 8, --, --, 6, --, 30, --, --, --, --,\n",
       "                   30, --, 7, --, --, --, 12, --, 30, --, --, --, 30, --,\n",
       "                   --, --, --, 25, --, 18, --, --, --, --, --, 30, --, 30,\n",
       "                   --, 6, --, --, --, 7, --, 18, 5, --, --, 30, --, 10,\n",
       "                   --, 30, 11, 25, 30, --, --, --, 7, --, 30, --, 6, 20,\n",
       "                   --, --, --, --, --, --, --, --, 30, --, --, 5, --, --,\n",
       "                   23, 22, --, --, --, --, --, 30, --, 19, --, --, --, --,\n",
       "                   10, --, 5, 7, --, --, 15, --, --, --, --, --, 5, --,\n",
       "                   --, 7, 9, --, --, --, --, --, --, 18, --, --, --, 5,\n",
       "                   --, --, --, --, 7, 17, --, --, --, 20, 20, --, 12, --,\n",
       "                   --, --, --, 10, --, 5],\n",
       "             mask=[False,  True, False, False, False, False,  True, False,\n",
       "                   False, False,  True, False, False, False,  True,  True,\n",
       "                   False,  True, False,  True, False, False, False, False,\n",
       "                    True,  True, False, False, False,  True, False,  True,\n",
       "                   False,  True,  True, False,  True, False, False,  True,\n",
       "                    True, False,  True,  True, False, False,  True,  True,\n",
       "                   False,  True, False,  True, False, False, False, False,\n",
       "                    True, False, False, False,  True,  True,  True, False,\n",
       "                   False, False,  True,  True, False,  True,  True, False,\n",
       "                    True,  True, False, False,  True, False,  True, False,\n",
       "                    True, False, False, False, False, False,  True, False,\n",
       "                    True, False,  True,  True, False,  True,  True,  True,\n",
       "                    True,  True,  True, False,  True,  True, False,  True,\n",
       "                    True,  True, False, False, False,  True,  True,  True,\n",
       "                    True,  True, False,  True, False, False, False,  True,\n",
       "                    True, False,  True, False,  True,  True,  True,  True,\n",
       "                   False,  True, False,  True,  True,  True, False,  True,\n",
       "                   False,  True,  True,  True, False,  True,  True,  True,\n",
       "                    True, False,  True, False,  True,  True,  True,  True,\n",
       "                    True, False,  True, False,  True, False,  True,  True,\n",
       "                    True, False,  True, False, False,  True,  True, False,\n",
       "                    True, False,  True, False, False, False, False,  True,\n",
       "                    True,  True, False,  True, False,  True, False, False,\n",
       "                    True,  True,  True,  True,  True,  True,  True,  True,\n",
       "                   False,  True,  True, False,  True,  True, False, False,\n",
       "                    True,  True,  True,  True,  True, False,  True, False,\n",
       "                    True,  True,  True,  True, False,  True, False, False,\n",
       "                    True,  True, False,  True,  True,  True,  True,  True,\n",
       "                   False,  True,  True, False, False,  True,  True,  True,\n",
       "                    True,  True,  True, False,  True,  True,  True, False,\n",
       "                    True,  True,  True,  True, False, False,  True,  True,\n",
       "                    True, False, False,  True, False,  True,  True,  True,\n",
       "                    True, False,  True, False],\n",
       "       fill_value=999999)"
      ]
     },
     "execution_count": 59,
     "metadata": {},
     "output_type": "execute_result"
    }
   ],
   "source": [
    "nsca_det = 5\n",
    "nscpk_ma = ma.masked_less(nscpk, nsca_det)\n",
    "nscpk_ma"
   ]
  },
  {
   "cell_type": "code",
   "execution_count": null,
   "metadata": {},
   "outputs": [],
   "source": []
  },
  {
   "cell_type": "code",
   "execution_count": 60,
   "metadata": {},
   "outputs": [
    {
     "data": {
      "text/plain": [
       "2.3548200450309493"
      ]
     },
     "execution_count": 60,
     "metadata": {},
     "output_type": "execute_result"
    }
   ],
   "source": [
    "kfwhm = 2*np.sqrt(2*np.log(2))\n",
    "kfwhm"
   ]
  },
  {
   "cell_type": "code",
   "execution_count": null,
   "metadata": {},
   "outputs": [],
   "source": []
  },
  {
   "cell_type": "code",
   "execution_count": null,
   "metadata": {},
   "outputs": [],
   "source": []
  },
  {
   "cell_type": "raw",
   "metadata": {},
   "source": [
    "Funcao Ricker:\n",
    "A (1 - x^2/a^2) exp(-x^2/2 a^2), onde\n",
    "A = 2/sqrt(3a)pi^1/4\n",
    "Fazendo anahlise no Maxima, descobri que o fator de escala \"a\"\n",
    "ohtimo eh sigma*sqrt(5):\n"
   ]
  },
  {
   "cell_type": "raw",
   "metadata": {},
   "source": [
    "Lembrar que:\n",
    "sigma_experim = widthmax / np.sqrt(5)\n",
    "sigma_experim"
   ]
  },
  {
   "cell_type": "raw",
   "metadata": {},
   "source": [
    "Lembrar tambem que:\n",
    "gauss_height = k * max_escalas[imax] / np.sqrt(sigma_experim)\n",
    "gauss_height"
   ]
  },
  {
   "cell_type": "code",
   "execution_count": 61,
   "metadata": {},
   "outputs": [
    {
     "data": {
      "text/plain": [
       "[110.97961824652216,\n",
       " 151.0116001364722,\n",
       " 236.19706003289474,\n",
       " 270.078853046595,\n",
       " 379.6696919847978,\n",
       " 390.99176790417124,\n",
       " 402.62230818826566,\n",
       " 442.0686249292659,\n",
       " 455.79453310329956,\n",
       " 656.014657980456,\n",
       " 681.9905080960357,\n",
       " 693.9981903727833,\n",
       " 705.996300863132,\n",
       " 717.9911764705882,\n",
       " 727.992130115425,\n",
       " 756.0011471648639,\n",
       " 792.9911356414116,\n",
       " 811.9902209344441,\n",
       " 826.9554537121907,\n",
       " 874.9427510746385,\n",
       " 921.0024096385542,\n",
       " 943.1624408549519,\n",
       " 993.98629121897,\n",
       " 1007.0053688606084,\n",
       " 1037.9669169404035,\n",
       " 1059.9580287668002,\n",
       " 1208.832788122798,\n",
       " 1225.3269111987456,\n",
       " 1311.0160883892227,\n",
       " 1391.0754269449715,\n",
       " 1494.9869128911585,\n",
       " 1591.917280917281,\n",
       " 1713.0233848592945,\n",
       " 1726.993670886076,\n",
       " 1767.0638464551507,\n",
       " 1781.9764931565246,\n",
       " 1900.9831223628692,\n",
       " 1958.0984493328524,\n",
       " 1965.3411042944786,\n",
       " 1998.9964249233913,\n",
       " 2047.0102040816328,\n",
       " 2053.987158243579,\n",
       " 2086.0280140070035,\n",
       " 2092.9980089596816,\n",
       " 2164.998041136141,\n",
       " 2194.9658744667886,\n",
       " 2211.990053050398,\n",
       " 2219.9383697813123,\n",
       " 2302.1627430910953,\n",
       " 2316.912840466926,\n",
       " 2339.0276211950395,\n",
       " 2366.916095890411,\n",
       " 2378.9890784982936,\n",
       " 2401.910794602699,\n",
       " 2432.9935100054086,\n",
       " 2466.9165354330707,\n",
       " 2498.974180734856,\n",
       " 2585.017275419546,\n",
       " 2674.996784565916,\n",
       " 2702.0305899490168,\n",
       " 2718.8969764837625,\n",
       " 2780.878857142857,\n",
       " 2830.928240740741,\n",
       " 2937.1041809458534,\n",
       " 2952.9945916711736,\n",
       " 3085.7779803681597,\n",
       " 3286.040787623066,\n",
       " 3311.9786910197868,\n",
       " 3369.9517193469956,\n",
       " 3384.8385093167703,\n",
       " 3413.0337078651687,\n",
       " 3486.882920110193,\n",
       " 3521.8658536585367,\n",
       " 3530.9423347398033,\n",
       " 3560.970257234727,\n",
       " 3645.201948627104,\n",
       " 3673.9088050314467,\n",
       " 3682.9864364981504,\n",
       " 3698.0384615384614,\n",
       " 3760.0166147455866,\n",
       " 3812.8825174825174,\n",
       " 3891.1116045845274,\n",
       " 3980.0200702458606,\n",
       " 4082.9901269393513,\n",
       " 4159.981723237598,\n",
       " 4183.026990553306,\n",
       " 4241.220314735337,\n",
       " 4249.044444444445,\n",
       " 4351.973013493253,\n",
       " 4358.873913043478,\n",
       " 4489.956738768718,\n",
       " 4497.0327380952385,\n",
       " 4506.9423592493295,\n",
       " 4515.985549132948,\n",
       " 4558.014836795252,\n",
       " 4565.8813314037625,\n",
       " 4572.904347826087,\n",
       " 4580.9796747967475,\n",
       " 4595.887072808321,\n",
       " 4614.018234165067,\n",
       " 4652.901610017889,\n",
       " 4660.068791946309,\n",
       " 4731.02945945946,\n",
       " 4776.927750410509,\n",
       " 4871.033274956218,\n",
       " 4881.241379310345,\n",
       " 4884.010593220339,\n",
       " 4908.883751651255,\n",
       " 4940.952919020716,\n",
       " 4968.991967871486,\n",
       " 4990.939583333334,\n",
       " 5003.884,\n",
       " 5014.935222672065,\n",
       " 5025.960159362549,\n",
       " 5091.81390593047,\n",
       " 5097.926829268293,\n",
       " 5117.0440881763525,\n",
       " 5167.057654075546,\n",
       " 5204.911949685535,\n",
       " 5250.023094688222,\n",
       " 5267.839907192575,\n",
       " 5283.949886104783,\n",
       " 5297.936936936937,\n",
       " 5329.1375186846035,\n",
       " 5348.861502347418,\n",
       " 5365.9667458432305,\n",
       " 5378.014851485149,\n",
       " 5390.018264840182,\n",
       " 5418.973312401884,\n",
       " 5424.807116104869,\n",
       " 5469.895454545454,\n",
       " 5507.92628992629,\n",
       " 5525.974683544304,\n",
       " 5535.997578692494,\n",
       " 5595.917431192661,\n",
       " 5613.956834532374,\n",
       " 5675.0776177500975,\n",
       " 5757.884422110553,\n",
       " 5794.945736434109,\n",
       " 5819.972906403941,\n",
       " 5851.99882629108,\n",
       " 5854.6624668435015,\n",
       " 5913.9842519685035,\n",
       " 5941.0369393139845,\n",
       " 5960.90514905149,\n",
       " 5989.935483870968,\n",
       " 6022.988795518208,\n",
       " 6118.885039370079,\n",
       " 6152.8108974358975,\n",
       " 6171.936288088643,\n",
       " 6203.980337078651,\n",
       " 6234.954819277108,\n",
       " 6259.337662337663,\n",
       " 6272.987101005684,\n",
       " 6286.724637681159,\n",
       " 6490.025306748466,\n",
       " 6498.29954954955,\n",
       " 6523.966463414634,\n",
       " 6534.934482758621,\n",
       " 6541.832740213523,\n",
       " 6558.8533333333335,\n",
       " 6587.892405063291,\n",
       " 6604.044117647059,\n",
       " 6642.847305389221,\n",
       " 6670.003105590062,\n",
       " 6688.0302013422815,\n",
       " 6732.996655518395,\n",
       " 6765.859477124183,\n",
       " 6770.81045751634,\n",
       " 6808.75,\n",
       " 6831.890070921986,\n",
       " 6980.904159733777,\n",
       " 7019.922222222222,\n",
       " 7101.138325991189,\n",
       " 7134.061024755325,\n",
       " 7307.927797833935,\n",
       " 7338.112211221122,\n",
       " 7347.969899665552,\n",
       " 7359.860317460318,\n",
       " 7380.966777408637,\n",
       " 7400.081794195251,\n",
       " 7411.809836065574,\n",
       " 7428.8489932885905,\n",
       " 7452.958944281525,\n",
       " 7462.972508591065,\n",
       " 7474.031358885018,\n",
       " 7494.009146341464,\n",
       " 7524.010344827586,\n",
       " 7529.983818770226,\n",
       " 7560.884615384615,\n",
       " 7576.9808306709265,\n",
       " 7639.626465661641,\n",
       " 7647.973487423521,\n",
       " 7657.362811791383,\n",
       " 7680.817610062893,\n",
       " 7741.956647398844,\n",
       " 7784.952662721894,\n",
       " 7795.052208835341,\n",
       " 7795.976744186047,\n",
       " 7820.998058252427,\n",
       " 7869.82683982684,\n",
       " 7876.012396694215,\n",
       " 7924.008368200837,\n",
       " 7970.885321100917,\n",
       " 7990.778301886792,\n",
       " 8023.0,\n",
       " 8069.0,\n",
       " 8080.137931034483,\n",
       " 8103.128686327078,\n",
       " 8106.74651810585,\n",
       " 8137.995,\n",
       " 8168.949367088608,\n",
       " 8184.972826086957,\n",
       " 744.0124957784532,\n",
       " 777.9968086803893,\n",
       " 2076.9800759013283,\n",
       " 3585.0238410596025,\n",
       " 3617.9507936507935,\n",
       " 4476.991537376587,\n",
       " 4643.908637873754,\n",
       " 4929.982625482626,\n",
       " 5950.937655860349,\n",
       " 6220.946175637394,\n",
       " 6477.288659793814,\n",
       " 6742.01875,\n",
       " 7391.985207100592,\n",
       " 7707.972477064221,\n",
       " 8048.96265560166,\n",
       " 8104.065789473684,\n",
       " 2008.0004980079682,\n",
       " 2711.851335656214,\n",
       " 5230.934736842105,\n",
       " 6604.044117647059,\n",
       " 6608.006060606061,\n",
       " 8091.956097560976,\n",
       " 6605.973988439307,\n",
       " 7315.925566343042,\n",
       " 4894.803402646503,\n",
       " 5150.016096579477,\n",
       " 7505.940652818991,\n",
       " 2751.0354066985647,\n",
       " 5230.006134969325,\n",
       " 7439.912337662337,\n",
       " 844.0175372430699,\n",
       " 773.996004474988,\n",
       " 4356.0566860465115,\n",
       " 7116.018382352941,\n",
       " 844.0175372430699,\n",
       " 794.947745049093,\n",
       " 120.00758086253369,\n",
       " 8105.892761394102,\n",
       " 2448.0235183443087,\n",
       " 8181.91847826087,\n",
       " 6670.76397515528,\n",
       " 1202.253986332574,\n",
       " 1200.0393504059962,\n",
       " 4908.883751651255,\n",
       " 443.1894240898982,\n",
       " 1965.3411042944786,\n",
       " 2160.998509687034]"
      ]
     },
     "execution_count": 61,
     "metadata": {},
     "output_type": "execute_result"
    }
   ],
   "source": [
    "centrpk"
   ]
  },
  {
   "cell_type": "raw",
   "metadata": {},
   "source": [
    "# escala = sigma * raiz(5)"
   ]
  },
  {
   "cell_type": "raw",
   "metadata": {},
   "source": [
    "# Teste no pico de indice 2\n",
    "escalamaxima = ypk[2]\n",
    "maxcwt = cwtpk[2]\n",
    "centroide = centrpk[2]\n",
    "sigmamaximo = escalamaxima / np.sqrt(5)\n",
    "sigmamaximo"
   ]
  },
  {
   "cell_type": "raw",
   "metadata": {},
   "source": [
    "escalamaxima"
   ]
  },
  {
   "cell_type": "raw",
   "metadata": {},
   "source": [
    "maxcwt"
   ]
  },
  {
   "cell_type": "raw",
   "metadata": {},
   "source": [
    "centroide"
   ]
  },
  {
   "cell_type": "raw",
   "metadata": {},
   "source": [
    "tressigma = 3*sigmamaximo\n",
    "tressigma"
   ]
  },
  {
   "cell_type": "raw",
   "metadata": {},
   "source": [
    "gau_hei = k * maxcwt / np.sqrt(sigmamaximo)\n",
    "gau_hei"
   ]
  },
  {
   "cell_type": "raw",
   "metadata": {},
   "source": [
    "# Estah deslocado com centroidecwt1!\n",
    "# ypicofit = gaus_sig(xpicofit,sigma3,gau_hei,centroidecwt1)\n",
    "ypicofit = gaus_sig(xpicofit,sigmamaximo,gau_hei,centroide)\n",
    "ypicofit"
   ]
  },
  {
   "cell_type": "raw",
   "metadata": {},
   "source": [
    "subtracao = ypico - ypicoregio\n",
    "subtracao"
   ]
  },
  {
   "cell_type": "code",
   "execution_count": 62,
   "metadata": {},
   "outputs": [],
   "source": [
    "# 2019-10-02 Parei aqui.\n",
    "# Agora, montar um array com todos os picos ajustados; e subtrair de xs.\n",
    "# Plotar para ver como fica. Deve ficar uma linha base com alguns picos n~ao subtra'idos.\n",
    "# Prosseguindo:"
   ]
  },
  {
   "cell_type": "code",
   "execution_count": 63,
   "metadata": {},
   "outputs": [],
   "source": [
    "# Vari'aveis importantes definidas at'e aqui\n",
    "\n",
    "# xs - canais\n",
    "# y0s - contagens\n",
    "# widhts - escalas\n",
    "\n",
    "# pk_per_scal: lista de arrays; cada array corresponde a uma escala e contehm os canais dos picos detectados na escala.\n",
    "# pks_cwt_flatten: lista contihnua em que cada elemento eh uma lista de 2 elementos: [pk, width].\n",
    "\n",
    "# nscpk - n'umero de escalas (=pontos) que comp~oe o ridge \n",
    "# xpk - canais dos picos ap'os an'alise dos ridges, com coeficiente cwt m'ahximo\n",
    "# ypk - escalas dos picos ap'os an'alise dos ridges, com coeficiente cwt m'ahximo\n",
    "# cwtpk - coeficiente cwt correspondente a (xpk, ypk)\n",
    "# centrpk - centroides dos xpk\n",
    "# regions_slcs - slices das regi~oes dos picos\n",
    "# nsca_det: nuhmero m'inimo de escalas sucessivas em que eh detectado (= nuhmero de pontos do ridge)\n",
    "# nscpk_ma - nscpk com m'ascara para valores < nsca_det "
   ]
  },
  {
   "cell_type": "code",
   "execution_count": 64,
   "metadata": {},
   "outputs": [
    {
     "data": {
      "text/plain": [
       "array([slice(100, 123, None), slice(225, 248, None),\n",
       "       slice(259, 282, None), slice(369, 392, None),\n",
       "       slice(380, 403, None), slice(431, 454, None),\n",
       "       slice(445, 468, None), slice(645, 668, None),\n",
       "       slice(683, 706, None), slice(695, 718, None),\n",
       "       slice(707, 730, None), slice(782, 805, None),\n",
       "       slice(816, 839, None), slice(910, 933, None),\n",
       "       slice(932, 955, None), slice(983, 1006, None),\n",
       "       slice(996, 1019, None), slice(1198, 1221, None),\n",
       "       slice(1214, 1237, None), slice(1300, 1323, None),\n",
       "       slice(1484, 1507, None), slice(1702, 1725, None),\n",
       "       slice(1771, 1794, None), slice(1947, 1970, None),\n",
       "       slice(1954, 1977, None), slice(2043, 2066, None),\n",
       "       slice(2154, 2177, None), slice(2184, 2207, None),\n",
       "       slice(2291, 2314, None), slice(2328, 2351, None),\n",
       "       slice(2368, 2391, None), slice(2391, 2414, None),\n",
       "       slice(2422, 2445, None), slice(2456, 2479, None),\n",
       "       slice(2574, 2597, None), slice(2664, 2687, None),\n",
       "       slice(2691, 2714, None), slice(2926, 2949, None),\n",
       "       slice(2942, 2965, None), slice(3075, 3098, None),\n",
       "       slice(3359, 3382, None), slice(3476, 3499, None),\n",
       "       slice(3550, 3573, None), slice(3634, 3657, None),\n",
       "       slice(3672, 3695, None), slice(3749, 3772, None),\n",
       "       slice(3880, 3903, None), slice(3969, 3992, None),\n",
       "       slice(4072, 4095, None), slice(4149, 4172, None),\n",
       "       slice(4172, 4195, None), slice(4238, 4261, None),\n",
       "       slice(4348, 4371, None), slice(4496, 4519, None),\n",
       "       slice(4603, 4626, None), slice(4720, 4743, None),\n",
       "       slice(4873, 4896, None), slice(4898, 4921, None),\n",
       "       slice(4930, 4953, None), slice(5081, 5104, None),\n",
       "       slice(5106, 5129, None), slice(5156, 5179, None),\n",
       "       slice(5194, 5217, None), slice(5273, 5296, None),\n",
       "       slice(5318, 5341, None), slice(5408, 5431, None),\n",
       "       slice(5459, 5482, None), slice(5585, 5608, None),\n",
       "       slice(5664, 5687, None), slice(5841, 5864, None),\n",
       "       slice(5979, 6002, None), slice(6108, 6131, None),\n",
       "       slice(6262, 6285, None), slice(6479, 6502, None),\n",
       "       slice(6513, 6536, None), slice(6577, 6600, None),\n",
       "       slice(6632, 6655, None), slice(6659, 6682, None),\n",
       "       slice(6755, 6778, None), slice(6798, 6821, None),\n",
       "       slice(6970, 6993, None), slice(7009, 7032, None),\n",
       "       slice(7090, 7113, None), slice(7123, 7146, None),\n",
       "       slice(7349, 7372, None), slice(7389, 7412, None),\n",
       "       slice(7418, 7441, None), slice(7442, 7465, None),\n",
       "       slice(7637, 7660, None), slice(7731, 7754, None),\n",
       "       slice(7785, 7808, None), slice(7810, 7833, None),\n",
       "       slice(8012, 8035, None), slice(8069, 8092, None),\n",
       "       slice(8174, 8197, None), slice(767, 790, None),\n",
       "       slice(2066, 2089, None), slice(4466, 4489, None),\n",
       "       slice(6731, 6754, None), slice(8038, 8061, None),\n",
       "       slice(8093, 8116, None), slice(6595, 6618, None),\n",
       "       slice(7495, 7518, None), slice(763, 786, None),\n",
       "       slice(4345, 4368, None), slice(109, 132, None),\n",
       "       slice(8095, 8118, None), slice(8171, 8194, None),\n",
       "       slice(433, 456, None), slice(2150, 2173, None)], dtype=object)"
      ]
     },
     "execution_count": 64,
     "metadata": {},
     "output_type": "execute_result"
    }
   ],
   "source": [
    "regions_slcs_valid = np.asarray(regions_slcs)[~nscpk_ma.mask]\n",
    "regions_slcs_valid"
   ]
  },
  {
   "cell_type": "code",
   "execution_count": 65,
   "metadata": {},
   "outputs": [
    {
     "data": {
      "text/plain": [
       "8192"
      ]
     },
     "execution_count": 65,
     "metadata": {},
     "output_type": "execute_result"
    }
   ],
   "source": [
    "len(xs)"
   ]
  },
  {
   "cell_type": "code",
   "execution_count": 66,
   "metadata": {},
   "outputs": [
    {
     "name": "stdout",
     "output_type": "stream",
     "text": [
      "0 10\n",
      "5.413793103448276 1098.390435890713 110.97961824652216 2.421121879085979 638.2501893963286\n",
      "100\n",
      "[2.18388517e-02 1.30511674e-01 6.57628141e-01 2.79397735e+00\n",
      " 1.00086808e+01 3.02302864e+01 7.69873106e+01 1.65313188e+02\n",
      " 2.99300415e+02 4.56897311e+02 5.88086690e+02 6.38227574e+02\n",
      " 5.84011289e+02 4.50586717e+02 2.93121041e+02 1.60778165e+02\n",
      " 7.43564430e+01 2.89948997e+01 9.53314237e+00 2.64278610e+00\n",
      " 6.17731023e-01 1.21744199e-01 2.02305927e-02]\n",
      "2 17\n",
      "4.275862068965517 4607.806721756599 236.19706003289474 1.9122236497239578 3012.7801913884077\n",
      "225\n",
      "[1.08048859e-04 2.01423688e-03 2.85647780e-02 3.08163439e-01\n",
      " 2.52907275e+00 1.57896128e+01 7.49914218e+01 2.70945314e+02\n",
      " 7.44700511e+02 1.55708244e+03 2.47668922e+03 2.99682490e+03\n",
      " 2.75855199e+03 1.93166107e+03 1.02898876e+03 4.16984859e+02\n",
      " 1.28546391e+02 3.01459823e+01 5.37810086e+00 7.29891647e-01\n",
      " 7.53559925e-02 5.91843858e-03 3.53611552e-04]\n",
      "3 14\n",
      "3.896551724137931 3224.6759312000204 270.078853046595 1.7425909066032843 2208.6702946614464\n",
      "259\n",
      "[3.68969743e-06 1.20217211e-04 2.81788747e-03 4.75183932e-02\n",
      " 5.76475627e-01 5.03131209e+00 3.15909486e+01 1.42700396e+02\n",
      " 4.63733846e+02 1.08416033e+03 1.82347299e+03 2.20641021e+03\n",
      " 1.92067678e+03 1.20282769e+03 5.41918091e+02 1.75648718e+02\n",
      " 4.09578758e+01 6.87085789e+00 8.29212063e-01 7.19948380e-02\n",
      " 4.49695156e-03 2.02076664e-04 6.53273769e-06]\n",
      "4 12\n",
      "2.7586206896551726 17768.0989867635 379.6696919847978 1.2336926772412633 14463.72005332547\n",
      "369\n",
      "[8.28148015e-13 6.60661799e-10 2.73215529e-07 5.85715231e-05\n",
      " 6.50912496e-03 3.74984791e-01 1.11984948e+01 1.73364673e+02\n",
      " 1.39128631e+03 5.78798466e+03 1.24822589e+04 1.39544895e+04\n",
      " 8.08704153e+03 2.42951927e+03 3.78360662e+02 3.05454521e+01\n",
      " 1.27832739e+00 2.77327274e-02 3.11887541e-04 1.81827021e-06\n",
      " 5.49507689e-09 8.60882893e-12 6.99148347e-15]\n",
      "5 30\n",
      "3.1379310344827585 33808.59400996189 390.99176790417124 1.4033254203619367 25804.20300924146\n",
      "380\n",
      "[1.22911428e-09 2.53128495e-07 3.13732773e-05 2.34017758e-03\n",
      " 1.05052845e-01 2.83816013e+00 4.61462114e+01 4.51549415e+02\n",
      " 2.65916075e+03 9.42440579e+03 2.01017302e+04 2.58037590e+04\n",
      " 1.99343736e+04 9.26813356e+03 2.59329577e+03 4.36698697e+02\n",
      " 4.42569842e+01 2.69930410e+00 9.90813437e-02 2.18877963e-03\n",
      " 2.90992815e-05 2.32826585e-07 1.12112219e-09]\n",
      "7 20\n",
      "4.275862068965517 10073.109628551165 442.0686249292659 1.9122236497239578 6586.227892608618\n",
      "431\n",
      "[3.49230835e-04 6.28562835e-03 8.60626601e-02 8.96418438e-01\n",
      " 7.10291710e+00 4.28146759e+01 1.96326319e+02 6.84848230e+02\n",
      " 1.81735638e+03 3.66873053e+03 5.63406010e+03 6.58198801e+03\n",
      " 5.84955257e+03 3.95474202e+03 2.03396567e+03 7.95791010e+02\n",
      " 2.36855998e+02 5.36289997e+01 9.23729800e+00 1.21037560e+00\n",
      " 1.20649442e-01 9.14872189e-03 5.27746646e-04]\n",
      "8 8\n",
      "3.1379310344827585 3593.9603372839283 455.79453310329956 1.4033254203619367 2743.068289770058\n",
      "445\n",
      "[3.88999301e-10 7.24772019e-08 8.12688460e-06 5.48424494e-04\n",
      " 2.22730489e-02 5.44393052e-01 8.00784308e+00 7.08905933e+01\n",
      " 3.77686746e+02 1.21100226e+03 2.33683603e+03 2.71382352e+03\n",
      " 1.89672794e+03 7.97808314e+02 2.01958506e+02 3.07677557e+01\n",
      " 2.82097712e+00 1.55658695e-01 5.16912797e-03 1.03307359e-04\n",
      " 1.24255411e-06 8.99434285e-09 3.91826354e-11]\n",
      "9 22\n",
      "9.96551724137931 122.03812516953967 656.014657980456 4.456714796534063 52.26736926256049\n",
      "645\n",
      "[ 2.46521396  4.18562521  6.75772942 10.37471083 15.14558119 21.02473969\n",
      " 27.75300747 34.83567407 41.57891245 47.19073848 50.93017432 52.26708657\n",
      " 51.00540069 47.33024753 41.76342702 35.04194655 27.95857664 21.21175655\n",
      " 15.30287219 10.49793814  6.8480955   4.2478615   2.50556474]\n",
      "11 6\n",
      "2.7586206896551726 47.97203861332557 693.9981903727833 1.2336926772412633 39.050555571946866\n",
      "683\n",
      "[2.15740409e-16 2.13568952e-13 1.09597258e-10 2.91552126e-08\n",
      " 4.02057060e-06 2.87418107e-04 1.06511257e-02 2.04612354e-01\n",
      " 2.03761977e+00 1.05188774e+01 2.81494941e+01 3.90505136e+01\n",
      " 2.80826352e+01 1.04689692e+01 2.02313534e+00 2.02675338e-01\n",
      " 1.05252357e-02 2.83346405e-04 3.95419915e-06 2.86058148e-08\n",
      " 1.07276615e-10 2.08550268e-13 2.10170326e-16]\n",
      "12 8\n",
      "2.0 83.38238415786769 705.996300863132 0.8944271909999159 79.71578880185598\n",
      "695\n",
      "[1.20256904e-31 6.00090773e-26 8.57937751e-21 3.51420025e-16\n",
      " 4.12409945e-12 1.38663977e-08 1.33576503e-05 3.68662011e-03\n",
      " 2.91513454e-01 6.60420759e+00 4.28661743e+01 7.97151071e+01\n",
      " 4.24715821e+01 6.48318093e+00 2.83537002e-01 3.55273849e-03\n",
      " 1.27540653e-05 1.31179488e-08 3.86558406e-12 3.26359463e-16\n",
      " 7.89421948e-21 5.47084084e-26 1.08625268e-31]\n",
      "13 7\n",
      "3.1379310344827585 61.41040148745993 717.9911764705882 1.4033254203619367 46.87111408402594\n",
      "707\n",
      "[2.23996223e-12 4.61167868e-10 5.71409506e-08 4.26094529e-06\n",
      " 1.91220536e-04 5.16455828e-03 8.39463677e-02 8.21184442e-01\n",
      " 4.83447805e+00 1.71288635e+01 3.65239368e+01 4.68701876e+01\n",
      " 3.61981085e+01 1.68246152e+01 4.70624443e+00 7.92271247e-01\n",
      " 8.02681746e-02 4.89421400e-03 1.79594321e-04 3.96617910e-06\n",
      " 5.27135324e-08 4.21640185e-10 2.02970044e-12]\n",
      "16 5\n",
      "2.0 67.49189480479829 792.9911356414116 0.8944271909999159 64.52405608731597\n",
      "782\n",
      "[1.04499471e-31 5.18104051e-26 7.35955886e-21 2.99514930e-16\n",
      " 3.49234440e-12 1.16666872e-08 1.11663167e-05 3.06199321e-03\n",
      " 2.40563871e-01 5.41487558e+00 3.49203395e+01 6.45208874e+01\n",
      " 3.41549853e+01 5.18011942e+00 2.25090589e-01 2.80224951e-03\n",
      " 9.99512349e-06 1.02141310e-08 2.99051910e-12 2.50855505e-16\n",
      " 6.02882375e-21 4.15119789e-26 8.18928876e-32]\n",
      "18 7\n",
      "3.5172413793103448 71.69903634998828 826.9554537121907 1.5729581634826106 51.688897467683084\n",
      "816\n",
      "[1.51252656e-09 1.03500619e-07 4.72773848e-06 1.44156591e-04\n",
      " 2.93417572e-03 3.98665171e-02 3.61577196e-01 2.18909359e+00\n",
      " 8.84704395e+00 2.38672620e+01 4.29811049e+01 5.16681737e+01\n",
      " 4.14609459e+01 2.22088392e+01 7.94114406e+00 1.89544352e+00\n",
      " 3.02001558e-01 3.21201878e-02 2.28043412e-03 1.08075572e-04\n",
      " 3.41907097e-06 7.22036660e-08 1.01784334e-09]\n",
      "20 5\n",
      "3.1379310344827585 69.57017588477594 921.0024096385542 1.4033254203619367 53.09901208522385\n",
      "910\n",
      "[2.38330738e-12 4.93486927e-10 6.14952148e-08 4.61187014e-06\n",
      " 2.08153105e-04 5.65403892e-03 9.24282585e-02 9.09328543e-01\n",
      " 5.38402358e+00 1.91850599e+01 4.11423829e+01 5.30989338e+01\n",
      " 4.12431888e+01 1.92791885e+01 5.42369598e+00 9.18273397e-01\n",
      " 9.35661467e-02 5.73766995e-03 2.11749531e-04 4.70304819e-06\n",
      " 6.28646463e-08 5.05712398e-10 2.44833478e-12]\n",
      "21 30\n",
      "4.655172413793103 8565.612689392052 943.1624408549519 2.0818563928446316 5367.543647293349\n",
      "932\n",
      "[3.06969278e-03 3.59342444e-02 3.33978607e-01 2.46448006e+00\n",
      " 1.44387133e+01 6.71627092e+01 2.48041556e+02 7.27306071e+02\n",
      " 1.69319316e+03 3.12962518e+03 4.59276976e+03 5.35122915e+03\n",
      " 4.95027072e+03 3.63580747e+03 2.12016340e+03 9.81599471e+02\n",
      " 3.60824339e+02 1.05306180e+02 2.44010449e+01 4.48910241e+00\n",
      " 6.55702939e-01 7.60416049e-02 7.00151373e-03]\n",
      "22 11\n",
      "3.5172413793103448 155.87787329240746 993.98629121897 1.5729581634826106 112.37466806055703\n",
      "983\n",
      "[2.86807190e-09 1.98720587e-07 9.19107373e-06 2.83765895e-04\n",
      " 5.84823351e-03 8.04562472e-02 7.38865517e-01 4.52940948e+00\n",
      " 1.85348182e+01 5.06297330e+01 9.23195126e+01 1.12370400e+02\n",
      " 9.13021309e+01 4.95199797e+01 1.79287728e+01 4.33302533e+00\n",
      " 6.99040683e-01 7.52808017e-02 5.41173571e-03 2.59692545e-04\n",
      " 8.31865180e-06 1.77875842e-07 2.53893482e-09]\n",
      "23 5\n",
      "2.7586206896551726 107.39953326139434 1007.0053688606084 1.2336926772412633 87.42616664325438\n",
      "996\n",
      "[4.58574886e-16 4.56105417e-13 2.35166334e-10 6.28550273e-08\n",
      " 8.70883064e-06 6.25510528e-04 2.32897248e-02 4.49520024e-01\n",
      " 4.49768134e+00 2.33283099e+01 6.27238667e+01 8.74253388e+01\n",
      " 6.31679494e+01 2.36598064e+01 4.59388954e+00 4.62386201e-01\n",
      " 2.41259339e-02 6.52556856e-04 9.14971431e-06 6.65045967e-08\n",
      " 2.50582506e-10 4.89446003e-13 4.95580007e-16]\n",
      "26 11\n",
      "3.5172413793103448 1484.5168162768814 1208.832788122798 1.5729581634826106 1070.2101647646425\n",
      "1198\n",
      "[5.37453296e-08 3.49984851e-06 1.52134714e-04 4.41446376e-03\n",
      " 8.55063072e-02 1.10557677e+00 9.54223745e+00 5.49771337e+01\n",
      " 2.11438723e+02 5.42822099e+02 9.30252988e+02 1.06418023e+03\n",
      " 8.12643113e+02 4.14242917e+02 1.40955129e+02 3.20167493e+01\n",
      " 4.85449600e+00 4.91339431e-01 3.31962976e-02 1.49716009e-03\n",
      " 4.50730961e-05 9.05809981e-07 1.21514295e-08]\n",
      "27 30\n",
      "5.0344827586206895 13052.222434496543 1225.3269111987456 2.251489135965305 7864.879523528541\n",
      "1214\n",
      "[2.51077383e-02 2.12511722e-01 1.47667549e+00 8.42391775e+00\n",
      " 3.94520928e+01 1.51688568e+02 4.78809251e+02 1.24079230e+03\n",
      " 2.63974834e+03 4.61055108e+03 6.61104367e+03 7.78240972e+03\n",
      " 7.52116355e+03 5.96736842e+03 3.88693740e+03 2.07854350e+03\n",
      " 9.12509862e+02 3.28884111e+02 9.73139485e+01 2.36392761e+01\n",
      " 4.71433161e+00 7.71850092e-01 1.03746312e-01]\n",
      "28 6\n",
      "3.896551724137931 837.3621693856769 1311.0160883892227 1.7425909066032843 573.5326553286116\n",
      "1300\n",
      "[1.20388773e-06 3.84224764e-05 8.82197490e-04 1.45722759e-02\n",
      " 1.73168964e-01 1.48045030e+00 9.10539330e+00 4.02888332e+01\n",
      " 1.28248346e+02 2.93697304e+02 4.83870615e+02 5.73508212e+02\n",
      " 4.89025084e+02 2.99987898e+02 1.32390687e+02 4.20331792e+01\n",
      " 9.60081600e+00 1.57763000e+00 1.86501904e-01 1.58614353e-02\n",
      " 9.70471540e-04 4.27173424e-05 1.35271638e-06]\n",
      "30 30\n",
      "5.0344827586206895 27060.478319165148 1494.9869128911585 2.251489135965305 16305.836258719817\n",
      "1484\n",
      "[1.10013284e-01 8.70746444e-01 5.65802898e+00 3.01832153e+01\n",
      " 1.32188208e+02 4.75277004e+02 1.40290340e+03 3.39966096e+03\n",
      " 6.76348180e+03 1.10466837e+04 1.48122281e+04 1.63055608e+04\n",
      " 1.47359441e+04 1.09331943e+04 6.65952180e+03 3.33016613e+03\n",
      " 1.36714831e+03 4.60778535e+02 1.27495755e+02 2.89618358e+01\n",
      " 5.40111376e+00 8.26927510e-01 1.03938975e-01]\n",
      "32 8\n",
      "4.655172413793103 183.03860271040435 1713.0233848592945 2.0818563928446316 114.69905595946494\n",
      "1702\n",
      "[9.36368165e-05 1.06151553e-03 9.55438174e-03 6.82771453e-02\n",
      " 3.87386647e-01 1.74506041e+00 6.24126771e+00 1.77227734e+01\n",
      " 3.99564673e+01 7.15218947e+01 1.01645338e+02 1.14691820e+02\n",
      " 1.02748136e+02 7.30822631e+01 4.12711479e+01 1.85045120e+01\n",
      " 6.58726678e+00 1.86178443e+00 4.17782327e-01 7.44332977e-02\n",
      " 1.05288511e-02 1.18247300e-03 1.05438207e-04]\n",
      "35 30\n",
      "5.0344827586206895 42579.19193725838 1781.9764931565246 2.251489135965305 25656.94972456636\n",
      "1771\n",
      "[1.77055876e-01 1.39850568e+00 9.06869929e+00 4.82783751e+01\n",
      " 2.11002288e+02 7.57091833e+02 2.23016417e+03 5.39326780e+03\n",
      " 1.07076462e+04 1.74527117e+04 2.33538613e+04 2.56555514e+04\n",
      " 2.31382701e+04 1.71319697e+04 1.04138324e+04 5.19685677e+03\n",
      " 2.12910847e+03 7.16113243e+02 1.97739075e+02 4.48260189e+01\n",
      " 8.34247121e+00 1.27463588e+00 1.59883792e-01]\n",
      "37 8\n",
      "3.1379310344827585 187.11310206744974 1958.0984493328524 1.4033254203619367 142.81293300794184\n",
      "1947\n",
      "[3.73953143e-12 8.13003486e-10 1.06374542e-07 8.37631649e-06\n",
      " 3.96952488e-04 1.13212415e-02 1.94320965e-01 2.00731411e+00\n",
      " 1.24790376e+01 4.66892530e+01 1.05129073e+02 1.42461929e+02\n",
      " 1.16183614e+02 5.70244390e+01 1.68440777e+01 2.99435666e+00\n",
      " 3.20353812e-01 2.06265380e-02 7.99268803e-04 1.86392941e-05\n",
      " 2.61599033e-07 2.20959605e-09 1.12320677e-11]\n",
      "38 22\n",
      "9.96551724137931 378.0172797181999 1965.3411042944786 4.456714796534063 161.89996953174517\n",
      "1954\n",
      "[  6.35455133  10.96802534  18.00141894  28.09440084  41.69342288\n",
      "  58.83693865  78.95276174 100.7440313  122.23795213 141.03520909\n",
      " 154.73329327 161.42646341 160.14022576 151.06396576 135.5052332\n",
      " 115.58087959  93.74555045  72.30196037  53.02543293  36.97882559\n",
      "  24.52204848  15.46304857   9.27188922]\n",
      "41 30\n",
      "4.655172413793103 130.78882547635283 2053.987158243579 2.0818563928446316 81.95732807204267\n",
      "2043\n",
      "[7.33540478e-05 8.24657783e-04 7.36071441e-03 5.21630167e-02\n",
      " 2.93495846e-01 1.31110582e+00 4.65018316e+00 1.30948009e+01\n",
      " 2.92768445e+01 5.19692154e+01 7.32427397e+01 8.19557689e+01\n",
      " 7.28099954e+01 5.13569242e+01 2.87609704e+01 1.27880578e+01\n",
      " 4.51442220e+00 1.26530808e+00 2.81570349e-01 4.97478232e-02\n",
      " 6.97843075e-03 7.77209303e-04 6.87249978e-05]\n",
      "44 10\n",
      "5.413793103448276 58.32265582864558 2164.998041136141 2.421121879085979 33.889994770888244\n",
      "2154\n",
      "[1.12024089e-03 6.71577147e-03 3.39462544e-02 1.44676928e-01\n",
      " 5.19898016e-01 1.57524644e+00 4.02429974e+00 8.66849290e+00\n",
      " 1.57437557e+01 2.41092971e+01 3.11295055e+01 3.38899837e+01\n",
      " 3.11087072e+01 2.40770919e+01 1.57122205e+01 8.64534966e+00\n",
      " 4.01087407e+00 1.56894224e+00 5.17471397e-01 1.43905439e-01\n",
      " 3.37426768e-02 6.67103658e-03 1.11203531e-03]\n",
      "45 5\n",
      "3.5172413793103448 37.09169868920142 2194.9658744667886 1.5729581634826106 26.739955068428767\n",
      "2184\n",
      "[7.47167073e-10 5.13436585e-08 2.35519276e-06 7.21168360e-05\n",
      " 1.47406770e-03 2.01126250e-02 1.83185309e-01 1.11373813e+00\n",
      " 4.52007970e+00 1.22455884e+01 2.21454129e+01 2.67336628e+01\n",
      " 2.15428774e+01 1.15882943e+01 4.16107821e+00 9.97384929e-01\n",
      " 1.59584345e-01 1.70446594e-02 1.21522566e-03 5.78357128e-05\n",
      " 1.83740890e-06 3.89660242e-08 5.51616106e-10]\n",
      "48 30\n",
      "8.448275862068964 225.77338694759763 2302.1627430910953 3.7781838240513683 105.02041782808485\n",
      "2291\n",
      "[  1.33581589   2.81936476   5.5479406   10.17860378  17.41087059\n",
      "  27.76697937  41.28693651  57.23643202  73.97897649  89.1497143\n",
      " 100.16303253 104.92303525 102.47315273  93.30936253  79.21660367\n",
      "  62.70224439  46.27280494  31.83790171  20.42391154  12.21544453\n",
      "   6.81169984   3.54142135   1.71662555]\n",
      "50 30\n",
      "8.827586206896552 199.41335951045514 2339.0276211950395 3.947816567172042 90.74408028740821\n",
      "2328\n",
      "[ 1.83427585  3.60432935  6.64230113 11.48013318 18.60842279 28.28827571\n",
      " 40.33087649 53.92660967 67.62431005 79.53107446 87.72131335 90.74185926\n",
      " 88.03279579 80.09687799 68.34723586 54.69663323 41.05201767 28.89633027\n",
      " 19.07590498 11.81032588  6.85761161  3.73437702  1.90720647]\n",
      "52 12\n",
      "5.413793103448276 102.78810323885806 2378.9890784982936 2.421121879085979 59.72787473034588\n",
      "2368\n",
      "[2.00778415e-03 1.20181461e-02 6.06553905e-02 2.58114731e-01\n",
      " 9.26120814e-01 2.80177957e+00 7.14680195e+00 1.53709601e+01\n",
      " 2.78741550e+01 4.26200436e+01 5.49461837e+01 5.97272670e+01\n",
      " 5.47418181e+01 4.23035932e+01 2.75642869e+01 1.51435513e+01\n",
      " 7.01487872e+00 2.73983284e+00 9.02276055e-01 2.50533763e-01\n",
      " 5.86549350e-02 1.15785538e-02 1.92715011e-03]\n",
      "53 7\n",
      "3.5172413793103448 76.90871696043607 2401.910794602699 1.5729581634826106 55.4446333969409\n",
      "2391\n",
      "[1.97637746e-09 1.32822253e-07 5.95857418e-06 1.78436797e-04\n",
      " 3.56695021e-03 4.75970718e-02 4.23968884e-01 2.52091552e+00\n",
      " 1.00058309e+01 2.65105407e+01 4.68872296e+01 5.53555435e+01\n",
      " 4.36252798e+01 2.29501692e+01 8.05942611e+00 1.88926511e+00\n",
      " 2.95632550e-01 3.08803457e-02 2.15319131e-03 1.00219826e-04\n",
      " 3.11383236e-06 6.45813876e-08 8.94108196e-10]\n",
      "54 30\n",
      "5.793103448275862 262.3280467304225 2432.9935100054086 2.590754622206653 147.3581364288317\n",
      "2422\n",
      "[1.81298581e-02 8.65700051e-02 3.56152822e-01 1.26241238e+00\n",
      " 3.85533397e+00 1.01442204e+01 2.29970035e+01 4.49179304e+01\n",
      " 7.55899627e+01 1.09598455e+02 1.36911725e+02 1.47357674e+02\n",
      " 1.36647214e+02 1.09175381e+02 7.51526944e+01 4.45718134e+01\n",
      " 2.27757119e+01 1.00271965e+01 3.80349628e+00 1.24303219e+00\n",
      " 3.50007752e-01 8.49119587e-02 1.77482674e-02]\n",
      "55 30\n",
      "6.551724137931034 309.22224428874284 2466.9165354330707 2.9300201084479998 163.33451349724558\n",
      "2456\n",
      "[1.58053333e-01 5.31802059e-01 1.59260796e+00 4.24502510e+00\n",
      " 1.00708043e+01 2.12647637e+01 3.99640487e+01 6.68483835e+01\n",
      " 9.95233196e+01 1.31877683e+02 1.55535768e+02 1.63268258e+02\n",
      " 1.52540706e+02 1.26847601e+02 9.38839335e+01 6.18461698e+01\n",
      " 3.62615907e+01 1.89231490e+01 8.78926335e+00 3.63349075e+00\n",
      " 1.33692841e+00 4.37829237e-01 1.27618571e-01]\n",
      "57 30\n",
      "12.620689655172413 420.1984882930049 2585.017275419546 5.6441439983787784 159.91823167124838\n",
      "2574\n",
      "[ 23.79660744  33.10518161  44.63175931  58.31216168  73.83144696\n",
      "  90.59218233 107.72268434 124.13399021 138.62493893 150.02344132\n",
      " 157.34175218 159.91748259 157.5124948  150.34922    139.0767239\n",
      " 124.67369408 108.30844163  91.18363262  74.39411402  58.82031765\n",
      "  45.0695538   33.46618865  24.08221085]\n",
      "58 5\n",
      "2.7586206896551726 36.36781393138391 2674.996784565916 1.2336926772412633 29.604398312212542\n",
      "2664\n",
      "[1.65223589e-16 1.63409586e-13 8.37795381e-11 2.22665713e-08\n",
      " 3.06777629e-06 2.19103331e-04 8.11202398e-03 1.55691329e-01\n",
      " 1.54901128e+00 7.98913367e+00 2.13599262e+01 2.96042978e+01\n",
      " 2.12698649e+01 7.92190545e+00 1.52950017e+00 1.53082082e-01\n",
      " 7.94244368e-03 2.13618510e-04 2.97836947e-06 2.15264897e-08\n",
      " 8.06534249e-11 1.56648906e-13 1.57720038e-16]\n",
      "59 30\n",
      "6.551724137931034 167.8112474342583 2702.0305899490168 2.9300201084479998 88.63970482487798\n",
      "2691\n",
      "[7.41377647e-02 2.52787488e-01 7.67156861e-01 2.07216954e+00\n",
      " 4.98171536e+00 1.06597016e+01 2.03012929e+01 3.44123918e+01\n",
      " 5.19180692e+01 6.97163627e+01 8.33227165e+01 8.86348742e+01\n",
      " 8.39186247e+01 7.07171248e+01 5.30399792e+01 3.54074465e+01\n",
      " 2.10377061e+01 1.11253753e+01 5.23652850e+00 2.19373813e+00\n",
      " 8.17972324e-01 2.71459439e-01 8.01832764e-02]\n",
      "63 9\n",
      "4.275862068965517 175.5557032630304 2937.1041809458534 1.9122236497239578 114.78579229002182\n",
      "2926\n",
      "[5.46444674e-06 9.93128177e-05 1.37307532e-03 1.44415353e-02\n",
      " 1.15547970e-01 7.03300983e-01 3.25649247e+00 1.14706725e+01\n",
      " 3.07367281e+01 6.26550870e+01 9.71594369e+01 1.14615563e+02\n",
      " 1.02856595e+02 7.02183536e+01 3.64669207e+01 1.44071306e+01\n",
      " 4.32997950e+00 9.89974799e-01 1.72183839e-01 2.27819337e-02\n",
      " 2.29307749e-03 1.75580721e-04 1.02273913e-05]\n",
      "64 14\n",
      "4.655172413793103 311.9991020474509 2952.9945916711736 2.0818563928446316 195.51068427714364\n",
      "2942\n",
      "[1.71719722e-04 1.93381405e-03 1.72904291e-02 1.22742046e-01\n",
      " 6.91795088e-01 3.09569464e+00 1.09985462e+01 3.10247992e+01\n",
      " 6.94831024e+01 1.23550911e+02 1.74425199e+02 1.95510025e+02\n",
      " 1.73990430e+02 1.22935756e+02 6.89648191e+01 3.07166262e+01\n",
      " 1.08621539e+01 3.04968452e+00 6.79814474e-01 1.20315734e-01\n",
      " 1.69063934e-02 1.88614920e-03 1.67069681e-04]\n",
      "65 30\n",
      "6.551724137931034 26769.205910327975 3085.7779803681597 2.9300201084479998 14139.782324289225\n",
      "3075\n",
      "[1.63004091e+01 5.39679235e+01 1.59032331e+02 4.17107166e+02\n",
      " 9.73693771e+02 2.02306411e+03 3.74118694e+03 6.15774483e+03\n",
      " 9.02082959e+03 1.17620706e+04 1.36500298e+04 1.40992472e+04\n",
      " 1.29619627e+04 1.06061587e+04 7.72427962e+03 5.00691669e+03\n",
      " 2.88865221e+03 1.48331251e+03 6.77926447e+02 2.75768722e+02\n",
      " 9.98435346e+01 3.21741736e+01 9.22799537e+00]\n",
      "68 30\n",
      "6.93103448275862 751.5176894236209 3369.9517193469956 3.0996528515686737 385.9448185572745\n",
      "3359\n",
      "[  0.75119784   2.22942846   5.96253161  14.3702986   31.21036399\n",
      "  61.08433046 107.73547865 171.23227084 245.25079857 316.54334498\n",
      " 368.17465429 385.89800313 364.49293776 310.24418351 237.96666339\n",
      " 164.48509033 102.4554104   57.50971298  29.09011554  13.26012553\n",
      "   5.4468795    2.01625679   0.67257677]\n",
      "71 5\n",
      "3.5172413793103448 40.293464060255694 3486.882920110193 1.5729581634826106 29.048155155974708\n",
      "3476\n",
      "[1.17069836e-09 7.77952652e-08 3.45089607e-06 1.02183590e-04\n",
      " 2.01976569e-03 2.66496423e-02 2.34721211e-01 1.38001514e+00\n",
      " 5.41609065e+00 1.41892212e+01 2.48142841e+01 2.89677993e+01\n",
      " 2.25735475e+01 1.17423410e+01 4.07736996e+00 9.45096405e-01\n",
      " 1.46232082e-01 1.51035756e-02 1.04132776e-03 4.79253921e-05\n",
      " 1.47236154e-06 3.01949153e-08 4.13355504e-10]\n",
      "74 30\n",
      "7.310344827586206 198.15777449374656 3560.970257234727 3.269285594689347 99.08940519316164\n",
      "3550\n",
      "[ 0.35563815  0.94720943  2.29747457  5.07484098 10.20848258 18.70109229\n",
      " 31.19893597 47.40013954 65.58227613 82.63430497 94.82029448 99.08530461\n",
      " 94.2940362  81.71959974 64.49636873 46.35657323 30.34271328 18.08691635\n",
      "  9.81842156  4.85384437  2.18522946  0.89593247  0.3345188 ]\n",
      "75 30\n",
      "9.206896551724139 188.40858292396183 3645.201948627104 4.1174493102927165 83.95162140372346\n",
      "3634\n",
      "[ 2.07383163  3.89874659  6.90970573 11.54455305 18.18351017 26.99985005\n",
      " 37.79444819 49.87440113 62.04551692 72.76560569 80.4497907  83.85070466\n",
      " 82.3894385  76.31666748 66.64234657 54.86105968 42.57563476 31.14878417\n",
      " 21.48345347 13.96851119  8.56207786  4.9475621   2.69517124]\n",
      "77 12\n",
      "4.655172413793103 65.33263848799447 3682.9864364981504 2.0818563928446316 40.93995390562506\n",
      "3672\n",
      "[3.67094791e-05 4.12625040e-04 3.68238729e-03 2.60915497e-02\n",
      " 1.46779976e-01 6.55586916e-01 2.32482501e+00 6.54555969e+00\n",
      " 1.46318700e+01 2.59686520e+01 3.65927885e+01 4.09390850e+01\n",
      " 3.63644720e+01 2.56456060e+01 1.43596936e+01 6.38372114e+00\n",
      " 2.25319702e+00 6.31423814e-01 1.40488014e-01 2.48172762e-02\n",
      " 3.48069111e-03 3.87590728e-04 3.42671356e-05]\n",
      "79 16\n",
      "7.689655172413793 118.0990993620131 3760.0166147455866 3.438918337810021 57.58086570053808\n",
      "3749\n",
      "[ 0.34025739  0.82796384  1.85136466  3.80407758  7.18263098 12.46219488\n",
      " 19.86928853 29.11031392 39.19117239 48.4848902  55.11900532 57.58019367\n",
      " 55.27409812 48.75812577 39.52293024 29.43933954 20.1504052  12.67407576\n",
      "  7.32530326  3.89055637  1.89877983  0.85155814  0.35093832]\n",
      "81 30\n",
      "7.689655172413793 2149.8540521152654 3891.1116045845274 3.438918337810021 1048.1913758812643\n",
      "3880\n",
      "[   5.66728004   13.90166476   31.33543613   64.90549558  123.53897428\n",
      "  216.07439534  347.27971453  512.89955187  696.08458725  868.09750909\n",
      "  994.83669658 1047.63953155 1013.79175058  901.49313223  736.63591013\n",
      "  553.12099639  381.64905994  241.98310426  140.98817366   75.48438484\n",
      "   37.13713101   16.7894463     6.9749515 ]\n",
      "82 30\n",
      "8.448275862068964 495.860882453541 3980.0200702458606 3.7781838240513683 230.65392145603306\n",
      "3969\n",
      "[  3.27776747   6.84923562  13.34387437  24.23804872  41.04773855\n",
      "  64.81218883  95.41134401 130.95413321 167.57694887 199.93333904\n",
      " 222.39859085 230.65066709 223.02485754 201.06093509 168.99661167\n",
      " 132.43542457  96.76230626  65.91498012  41.86372913  24.78948873\n",
      "  13.68589172   7.0445702    3.38074002]\n",
      "83 30\n",
      "7.310344827586206 526.775816016297 4082.9901269393513 3.269285594689347 263.4158685550058\n",
      "4072\n",
      "[  0.92631359   2.47174161   6.00641217  13.29211904  26.7880031\n",
      "  49.16471061  82.17385507 125.07798156 173.37844146 218.8650184\n",
      " 251.60811223 263.41466737 251.14370432 218.05781992 172.42016798\n",
      " 124.15707995  81.41828381  48.62273966  26.44380436  13.09710994\n",
      "   5.90736817   2.42649629   0.90767893]\n",
      "84 5\n",
      "3.5172413793103448 51.656459670294545 4159.981723237598 1.5729581634826106 37.23990702480059\n",
      "4149\n",
      "[9.69923193e-10 6.70792745e-08 3.09677698e-06 9.54337659e-05\n",
      " 1.96320094e-03 2.69586416e-02 2.47116542e-01 1.51208494e+00\n",
      " 6.17619671e+00 1.68397876e+01 3.06494483e+01 3.72373932e+01\n",
      " 3.01999651e+01 1.63494885e+01 5.90843498e+00 1.42531649e+00\n",
      " 2.29520097e-01 2.46717916e-02 1.77031772e-03 8.47954021e-05\n",
      " 2.71121496e-06 5.78663593e-08 8.24439758e-10]\n",
      "85 6\n",
      "3.896551724137931 45.24410575019763 4183.026990553306 1.7425909066032843 30.98894726509627\n",
      "4172\n",
      "[6.25244251e-08 2.00266489e-06 4.61474774e-05 7.65012885e-04\n",
      " 9.12369245e-03 7.82805065e-02 4.83189758e-01 2.14566994e+00\n",
      " 6.85471203e+00 1.57542095e+01 2.60486441e+01 3.09852303e+01\n",
      " 2.65158430e+01 1.63244010e+01 7.23019765e+00 2.30379690e+00\n",
      " 5.28103823e-01 8.70914532e-02 1.03326773e-02 8.81924275e-04\n",
      " 5.41540362e-05 2.39227702e-06 7.60279374e-08]\n",
      "87 30\n",
      "8.448275862068964 256.1877949198456 4249.044444444445 3.7781838240513683 119.16793927170247\n",
      "4238\n",
      "[  1.66186448   3.47857311   6.78863621  12.35207187  20.95429024\n",
      "  33.1422487   48.87275943  67.19355535  86.13194479 102.93824446\n",
      " 114.70045302 119.15969441 115.4169252  104.22826087  87.75610806\n",
      "  68.88823995  50.41835774  34.40393937  21.88787117  12.98299069\n",
      "   7.17995693   3.70207152   1.77968706]\n",
      "89 5\n",
      "2.3793103448275863 21.9824890409977 4358.873913043478 1.0640599341205896 19.267987497081112\n",
      "4348\n",
      "[4.04954098e-22 3.86008012e-18 1.52128372e-14 2.47883428e-11\n",
      " 1.66996800e-08 4.65149096e-06 5.35672797e-04 2.55052968e-02\n",
      " 5.02093442e-01 4.08659966e+00 1.37519099e+01 1.91331872e+01\n",
      " 1.10061392e+01 2.61761674e+00 2.57395231e-01 1.04644959e-02\n",
      " 1.75897434e-04 1.22243021e-06 3.51246515e-09 4.17275948e-12\n",
      " 2.04954783e-15 4.16213480e-19 3.49460106e-23]\n",
      "92 7\n",
      "2.7586206896551726 26.87979437246314 4506.9423592493295 1.2336926772412633 21.880890081932044\n",
      "4496\n",
      "[1.80774924e-16 1.72509761e-13 8.53383241e-11 2.18841408e-08\n",
      " 2.90917499e-06 2.00477272e-04 7.16168798e-03 1.32623536e-01\n",
      " 1.27315348e+00 6.33571851e+00 1.63442855e+01 2.18570206e+01\n",
      " 1.51520340e+01 5.44510004e+00 1.01436848e+00 9.79581512e-02\n",
      " 4.90388604e-03 1.27260936e-04 1.71200413e-06 1.19390414e-08\n",
      " 4.31607578e-11 8.08841859e-14 7.85765814e-17]\n",
      "99 26\n",
      "8.448275862068964 157.1656429236987 4614.018234165067 3.7781838240513683 73.10694015454266\n",
      "4603\n",
      "[ 1.04037869  2.17369974  4.23431857  7.69030169 13.02204219 20.55846524\n",
      " 30.26064312 41.52804527 53.13500144 63.38635459 70.49961198 73.10608876\n",
      " 70.67995167 63.71105697 53.54380719 41.9545974  30.64966553 20.87602426\n",
      " 13.25701409  7.84909372  4.3328054   2.22994794  1.07003045]\n",
      "102 30\n",
      "8.068965517241379 1107.2897427817995 4731.02945945946 3.608551080930695 527.0324840187095\n",
      "4720\n",
      "[  4.93440063  11.07669718  23.02684355  44.33092467  79.03644944\n",
      " 130.49573163 199.53240783 282.53927891 370.50363552 449.93975497\n",
      " 506.01630784 527.01492161 508.31106357 454.02991169 375.56716906\n",
      " 287.69944765 204.09797132 134.08697714  81.57982411  45.96499121\n",
      "  23.98390253  11.58939518   5.18620818]\n",
      "106 23\n",
      "6.551724137931034 132.9060660701083 4884.010593220339 2.9300201084479998 70.20241280612228\n",
      "4873\n",
      "[6.02436785e-02 2.04934929e-01 6.20487447e-01 1.67210108e+00\n",
      " 4.01055584e+00 8.56168253e+00 1.62677011e+01 2.75109611e+01\n",
      " 4.14092966e+01 5.54756573e+01 6.61484348e+01 7.02019540e+01\n",
      " 6.63118801e+01 5.57501441e+01 4.17170087e+01 2.77838764e+01\n",
      " 1.64696750e+01 8.68939887e+00 4.08043956e+00 1.70544091e+00\n",
      " 6.34422999e-01 2.10055314e-01 6.19014666e-02]\n",
      "107 17\n",
      "5.793103448275862 86.72754594376804 4908.883751651255 2.590754622206653 48.71766365284123\n",
      "4898\n",
      "[7.16788231e-03 3.36714710e-02 1.36279089e-01 4.75217319e-01\n",
      " 1.42774684e+00 3.69577959e+00 8.24245956e+00 1.58381151e+01\n",
      " 2.62208082e+01 3.74011160e+01 4.59641206e+01 4.86686453e+01\n",
      " 4.43992330e+01 3.48977627e+01 2.36328235e+01 1.37888976e+01\n",
      " 6.93169406e+00 3.00223813e+00 1.12033213e+00 3.60200539e-01\n",
      " 9.97786977e-02 2.38137183e-02 4.89680152e-03]\n",
      "108 5\n",
      "2.7586206896551726 18.22369636627222 4940.952919020716 1.2336926772412633 14.83458881982389\n",
      "4930\n",
      "[1.13595605e-16 1.09156648e-13 5.43743158e-11 1.40408168e-08\n",
      " 1.87951544e-06 1.30423057e-04 4.69156572e-03 8.74855223e-02\n",
      " 8.45686751e-01 4.23777426e+00 1.10083205e+01 1.48237903e+01\n",
      " 1.03479046e+01 3.74455765e+00 7.02430857e-01 6.83064312e-02\n",
      " 3.44329762e-03 8.99792738e-05 1.21889237e-06 8.55939733e-09\n",
      " 3.11584589e-11 5.87981558e-14 5.75183467e-17]\n",
      "114 23\n",
      "6.93103448275862 18.93648904320225 5091.81390593047 3.0996528515686737 9.724907252011251\n",
      "5081\n",
      "[0.02212629 0.06473189 0.17065774 0.4054447  0.86803098 1.67469899\n",
      " 2.91163033 4.56177285 6.44063993 8.19449751 9.3953633  9.70739657\n",
      " 9.03836569 7.58359251 5.73400427 3.90696012 2.39893173 1.32737839\n",
      " 0.66186519 0.2974009  0.12042398 0.04394218 0.01444934]\n",
      "116 9\n",
      "4.655172413793103 13.453449515651378 5117.0440881763525 2.0818563928446316 8.430450932172795\n",
      "5106\n",
      "[6.52901441e-06 7.43707022e-05 6.72593498e-04 4.82947558e-03\n",
      " 2.75323835e-02 1.24618975e-01 4.47838126e-01 1.27777528e+00\n",
      " 2.89457245e+00 5.20608070e+00 7.43419407e+00 8.42856070e+00\n",
      " 7.58698929e+00 5.42228136e+00 3.07674253e+00 1.38610710e+00\n",
      " 4.95791353e-01 1.40798372e-01 3.17462804e-02 5.68309071e-03\n",
      " 8.07742354e-04 9.11502051e-05 8.16655651e-06]\n",
      "117 11\n",
      "3.896551724137931 18.8553516175886 5167.057654075546 1.7425909066032843 12.914555106213994\n",
      "5156\n",
      "[2.33075506e-08 7.54120380e-07 1.75535848e-05 2.93949055e-04\n",
      " 3.54127309e-03 3.06921896e-02 1.91371574e-01 8.58436326e-01\n",
      " 2.77025565e+00 6.43150652e+00 1.07420379e+01 1.29074887e+01\n",
      " 1.11577834e+01 6.93897309e+00 3.10451372e+00 9.99247489e-01\n",
      " 2.31384174e-01 3.85456470e-02 4.61953361e-03 3.98292406e-04\n",
      " 2.47051232e-05 1.10243533e-06 3.53916106e-08]\n",
      "118 8\n",
      "2.3793103448275863 25.84772915611736 5204.911949685535 1.0640599341205896 22.655929511856787\n",
      "5194\n",
      "[3.30235549e-22 3.25539962e-18 1.32680828e-14 2.23581269e-11\n",
      " 1.55770796e-08 4.48704100e-06 5.34388884e-04 2.63134729e-02\n",
      " 5.35700813e-01 4.50909949e+00 1.56920870e+01 2.25784943e+01\n",
      " 1.34317508e+01 3.30364710e+00 3.35952636e-01 1.41249147e-02\n",
      " 2.45537027e-04 1.76470263e-06 5.24384019e-09 6.44244534e-12\n",
      " 3.27246805e-15 6.87263794e-19 5.96753389e-23]\n",
      "121 6\n",
      "2.0 17.83802781355711 5283.949886104783 0.8944271909999159 17.05363155765532\n",
      "5273\n",
      "[4.86264527e-32 2.28972027e-26 3.08904451e-21 1.19398206e-16\n",
      " 1.32221882e-12 4.19508499e-09 3.81338007e-06 9.93141929e-04\n",
      " 7.41044760e-02 1.58419800e+00 9.70300778e+00 1.70268847e+01\n",
      " 8.56043648e+00 1.23307224e+00 5.08877243e-02 6.01685348e-04\n",
      " 2.03825136e-06 1.97823527e-09 5.50085302e-13 4.38242041e-17\n",
      " 1.00029923e-21 6.54150571e-27 1.22562445e-32]\n",
      "123 30\n",
      "8.827586206896552 93.29306894997761 5329.1375186846035 3.947816567172042 42.45349338599163\n",
      "5318\n",
      "[ 0.79363499  1.57051831  2.91473764  5.07329608  8.2816185  12.67869356\n",
      " 18.2040518  24.51296771 30.95693793 36.66522653 40.7272439  42.42774434\n",
      " 41.45234822 37.98241767 32.64001467 26.30585115 19.88330819 14.09480925\n",
      "  9.37052739  5.84255943  3.41646138  1.87363144  0.96366501]\n",
      "128 30\n",
      "13.0 79.63666420074021 5418.973312401884 5.813776741499453 29.862517750220903\n",
      "5408\n",
      "[ 5.02958792  6.85651551  9.07455991 11.66000489 14.54530873 17.61563105\n",
      " 20.71211833 23.64296189 26.20174989 28.19095329 29.44694724 29.86220312\n",
      " 29.40048285 28.10205838 26.07791414 23.49408964 20.54922477 17.44951316\n",
      " 14.38540977 11.51362847  8.94650143  6.74909142  4.94297526]\n",
      "130 7\n",
      "3.1379310344827585 21.785338057592703 5469.895454545454 1.4033254203619367 16.627526293978228\n",
      "5459\n",
      "[1.35260664e-12 2.65265220e-10 3.13082781e-08 2.22386352e-06\n",
      " 9.50664238e-05 2.44577363e-03 3.78682675e-02 3.52861837e-01\n",
      " 1.97880966e+00 6.67841541e+00 1.35647850e+01 1.65814488e+01\n",
      " 1.21983787e+01 5.40072203e+00 1.43903586e+00 2.30760506e-01\n",
      " 2.22700620e-02 1.29345536e-03 4.52117733e-05 9.51090216e-07\n",
      " 1.20409836e-08 9.17428631e-11 4.20680800e-13]\n",
      "134 12\n",
      "6.172413793103448 45.29489977004496 5595.917431192661 2.7603873653273263 24.64942672942291\n",
      "5585\n",
      "[9.88832081e-03 3.88038021e-02 1.33545737e-01 4.03078651e-01\n",
      " 1.06697337e+00 2.47697362e+00 5.04304911e+00 9.00469550e+00\n",
      " 1.41009665e+01 1.93656799e+01 2.33249453e+01 2.46384019e+01\n",
      " 2.28248774e+01 1.85442122e+01 1.32133318e+01 8.25696243e+00\n",
      " 4.52514285e+00 2.17494509e+00 9.16786723e-01 3.38916218e-01\n",
      " 1.09880444e-01 3.12429817e-02 7.79091669e-03]\n",
      "136 30\n",
      "8.827586206896552 4429.818196056373 5675.0776177500975 3.947816567172042 2015.8116739439704\n",
      "5664\n",
      "[  39.32764105   77.52663031  143.33035978  248.51908565  404.1248682\n",
      "  616.31917206  881.51570129 1182.46610201 1487.58441509 1755.12807301\n",
      " 1942.09414329 2015.42210336 1961.53485069 1790.4422309  1532.70604423\n",
      " 1230.52856578  926.52854258  654.27477727  433.30712134  269.13225351\n",
      "  156.77252092   85.64626114   43.88146805]\n",
      "140 30\n",
      "9.206896551724139 480.5774597476857 5851.99882629108 4.1174493102927165 214.13704370455062\n",
      "5841\n",
      "[  6.04220884  11.22390205  19.65508981  32.44809652  50.49942651\n",
      "  74.09121137 102.47784238 133.62148033 164.25008876 190.3347015\n",
      " 207.92818663 214.137035   207.89939825 190.28200015 164.18187523\n",
      " 133.54749428 102.40691996  74.02968356  50.45050409  32.41217352\n",
      "  19.63061153  11.20837185   6.033013  ]\n",
      "145 25\n",
      "8.068965517241379 66.34827434956676 5989.935483870968 3.608551080930695 31.579535590169076\n",
      "5979\n",
      "[ 0.32005497  0.71329011  1.47216361  2.81380637  4.98058768  8.16422987\n",
      " 12.39361813 17.42325327 22.68342557 27.34867463 30.53600234 31.57448884\n",
      " 30.2349134  26.81201056 22.01903526 16.74616802 11.79453583  7.69297845\n",
      "  4.64682621  2.59936099  1.34655785  0.64599876  0.28700312]\n",
      "147 18\n",
      "7.689655172413793 108.30406376816761 6118.885039370079 3.438918337810021 52.805159263248996\n",
      "6108\n",
      "[ 0.35246719  0.84818509  1.87559629  3.81122766  7.11651241 12.21086206\n",
      " 19.25316948 27.89555052 37.14021673 45.43920508 51.0850486  52.77566215\n",
      " 50.10145808 43.706279   35.03596603 25.80840432 17.46968223 10.86639908\n",
      "  6.21102234  3.26225064  1.57452063  0.69832273  0.28460387]\n",
      "153 30\n",
      "9.586206896551724 1523.2903940768417 6272.987101005684 4.28708205341339 665.1879010506824\n",
      "6262\n",
      "[ 24.92815119  44.10608944  73.90557512 117.28055472 176.25643643\n",
      " 250.86156219 338.13756658 431.64119554 521.82215494 597.43725996\n",
      " 647.78704493 665.18489012 646.87840933 595.76241313 519.62939069\n",
      " 429.22447464 335.7727222  248.75768636 174.5330867  115.97094428\n",
      "  72.97780231  43.49131421  24.54620999]\n",
      "155 30\n",
      "8.827586206896552 365.9609177444485 6490.025306748466 3.947816567172042 166.53240777539136\n",
      "6479\n",
      "[  3.37175681   6.62447659  12.20621932  21.09332484  34.18559834\n",
      "  51.960773    74.06999132  99.02463653 124.15908206 145.99836826\n",
      " 161.00960467 166.52898622 161.53333723 146.94972096 125.37462261\n",
      " 100.31936733  75.28252954  52.98316463  34.97162872  21.64851426\n",
      "  12.56824407   6.84313943   3.49438252]\n",
      "157 6\n",
      "3.5172413793103448 14.50612210624732 6523.966463414634 1.5729581634826106 10.457678322808189\n",
      "6513\n",
      "[2.91446385e-10 2.00323149e-08 9.19124117e-07 2.81506058e-05\n",
      " 5.75535199e-04 7.85464558e-03 7.15569559e-02 4.35158709e-01\n",
      " 1.76650171e+00 4.78686308e+00 8.65881593e+00 1.04553017e+01\n",
      " 8.42723668e+00 4.53423863e+00 1.62852382e+00 3.90440100e-01\n",
      " 6.24863671e-02 6.67554452e-03 4.76056695e-04 2.26621556e-05\n",
      " 7.20135660e-07 1.52755894e-08 2.16297847e-10]\n",
      "161 7\n",
      "2.0 19.737862763092508 6587.892405063291 0.8944271909999159 18.86992456876441\n",
      "6577\n",
      "[1.17927779e-31 5.16798606e-26 6.48871123e-21 2.33414299e-16\n",
      " 2.40562743e-12 7.10331662e-09 6.00932756e-06 1.45654021e-03\n",
      " 1.01146528e-01 2.01238641e+00 1.14710631e+01 1.87338855e+01\n",
      " 8.76564647e+00 1.17509219e+00 4.51327528e-02 4.96642185e-04\n",
      " 1.56576754e-06 1.41430431e-09 3.66007799e-13 2.71374923e-17\n",
      " 5.76475671e-22 3.50852157e-27 6.11785553e-33]\n",
      "163 18\n",
      "5.413793103448276 20.516705849885277 6642.847305389221 2.421121879085979 11.921800269372463\n",
      "6632\n",
      "[5.21871872e-04 3.04916262e-03 1.50213425e-02 6.23947967e-02\n",
      " 2.18524163e-01 6.45300531e-01 1.60670463e+00 3.37304031e+00\n",
      " 5.97060697e+00 8.91100938e+00 1.12136445e+01 1.18981141e+01\n",
      " 1.06443940e+01 8.02925445e+00 5.10670727e+00 2.73853422e+00\n",
      " 1.23824575e+00 4.72070631e-01 1.51746466e-01 4.11283848e-02\n",
      " 9.39888180e-03 1.81101558e-03 2.94225053e-04]\n",
      "164 5\n",
      "2.0 18.007264272047756 6670.003105590062 0.8944271909999159 17.215426137156335\n",
      "6659\n",
      "[2.36510149e-32 1.19028451e-26 1.71626237e-21 7.09003660e-17\n",
      " 8.39160766e-13 2.84559941e-09 2.76461239e-06 7.69531917e-04\n",
      " 6.13692649e-02 1.40219077e+00 9.17899604e+00 1.72153224e+01\n",
      " 9.25053891e+00 1.42413384e+00 6.28154501e-02 7.93805390e-04\n",
      " 2.87404464e-06 2.98129445e-09 8.86029398e-13 7.54437539e-17\n",
      " 1.84047679e-21 1.28638006e-26 2.57596613e-32]\n",
      "167 30\n",
      "11.86206896551724 15.336698336200724 6765.859477124183 5.304878512137432 6.0205572422758085\n",
      "6755\n",
      "[0.7407623  1.07041072 1.49275877 2.00907621 2.60958108 3.2712428\n",
      " 3.95751314 4.62061255 5.20648166 5.66182881 5.94205581 6.01844534\n",
      " 5.88300905 5.54986366 5.05280703 4.43967024 3.76475151 3.08098454\n",
      " 2.43338219 1.85480702 1.36444094 0.96867558 0.66369655]\n",
      "169 10\n",
      "2.0 19.82624306829201 6808.75 0.8944271909999159 18.9544185037206\n",
      "6798\n",
      "[8.13041895e-31 2.98202290e-25 3.13358097e-20 9.43414975e-16\n",
      " 8.13760318e-12 2.01104666e-08 1.42390064e-05 2.88847838e-03\n",
      " 1.67876711e-01 2.79539822e+00 1.33360990e+01 1.82282861e+01\n",
      " 7.13829941e+00 8.00894998e-01 2.57447275e-02 2.37100743e-04\n",
      " 6.25618279e-07 4.72952843e-10 1.02437306e-13 6.35668010e-18\n",
      " 1.13014576e-22 5.75665844e-28 8.40114270e-34]\n",
      "171 30\n",
      "9.586206896551724 997.21871143557 6980.904159733777 4.28708205341339 435.46379871337325\n",
      "6970\n",
      "[ 17.14549401  30.19941971  50.37526646  79.58042939 119.05985882\n",
      " 168.69204834 226.35704901 287.64948353 346.18108684 394.56016713\n",
      " 425.88594129 435.35499587 421.46733814 386.41544742 335.51751616\n",
      " 275.89642937 214.85582138 158.45951912 110.67759298  73.21014057\n",
      "  45.86199465  27.20851261  15.28716054]\n",
      "172 11\n",
      "5.793103448275862 167.40168716886052 7019.922222222222 2.590754622206653 94.03493436443438\n",
      "7009\n",
      "[1.29973223e-02 6.14064957e-02 2.49960076e-01 8.76643247e-01\n",
      " 2.64893342e+00 6.89628340e+00 1.54687445e+01 2.98944757e+01\n",
      " 4.97763128e+01 7.14085826e+01 8.82620500e+01 9.39925681e+01\n",
      " 8.62400360e+01 6.81742314e+01 4.64330787e+01 2.72477482e+01\n",
      " 1.37762071e+01 6.00101365e+00 2.25224419e+00 7.28286473e-01\n",
      " 2.02901342e-01 4.87038737e-02 1.00725167e-02]\n",
      "173 25\n",
      "7.689655172413793 306.57050218834837 7101.138325991189 3.438918337810021 149.47273103364412\n",
      "7090\n",
      "[  0.7880961    1.93754864   4.37726502   9.08719535  17.33539256\n",
      "  30.38885183  48.95214164  72.46126247  98.56367547 123.19828954\n",
      " 141.50417726 149.35186057 144.8534383  129.09926613 105.72934289\n",
      "  79.56903425  55.02618895  34.96806313  20.4197544   10.95736795\n",
      "   5.40304732   2.44820675   1.01937553]\n",
      "174 30\n",
      "8.448275862068964 532.186158814959 7134.061024755325 3.7781838240513683 247.55093377787153\n",
      "7123\n",
      "[  3.40820168   7.14225346  13.95471917  25.42042551  43.17381265\n",
      "  68.36500674 100.93067812 138.92755517 178.29101889 213.32728807\n",
      " 237.97932574 247.51864496 240.02279003 217.00658488 182.92337967\n",
      " 143.76110193 105.33906058  71.96367951  45.83667985  27.22004354\n",
      "  15.07094034   7.77978791   3.74430343]\n",
      "178 7\n",
      "2.3793103448275863 11.726277319977102 7359.860317460318 1.0640599341205896 10.278261227254092\n",
      "7349\n",
      "[2.46127723e-22 2.31812102e-18 9.02682569e-15 1.45330707e-11\n",
      " 9.67393337e-09 2.66239309e-06 3.02945594e-04 1.42521532e-02\n",
      " 2.77216899e-01 2.22937075e+00 7.41256090e+00 1.01900808e+01\n",
      " 5.79175739e+00 1.36102616e+00 1.32234860e-01 5.31188700e-03\n",
      " 8.82216290e-05 6.05793622e-07 1.71987822e-09 2.01880363e-12\n",
      " 9.79746759e-16 1.96587985e-19 1.63088556e-23]\n",
      "180 30\n",
      "12.241379310344827 29.076818166081164 7400.081794195251 5.474511255258106 11.236129603063782\n",
      "7389\n",
      "[ 1.44821961  2.06145342  2.83806139  3.77902013  4.86682559  6.06207799\n",
      "  7.30308599  8.50942995  9.58967037 10.45240068 11.01888317 11.23487555\n",
      " 11.07919259 10.56713161  9.74799459  8.69726296  7.50514489  6.26389861\n",
      "  5.05637781  3.94769392  2.98096301  2.17710242  1.53783695]\n",
      "182 6\n",
      "2.3793103448275863 15.007890340694363 7428.8489932885905 1.0640599341205896 13.154645177020361\n",
      "7418\n",
      "[3.51131063e-22 3.27416933e-18 1.26228203e-14 2.01203273e-11\n",
      " 1.32598026e-08 3.61295421e-06 4.07015767e-04 1.89576014e-02\n",
      " 3.65072331e-01 2.90668406e+00 9.56841752e+00 1.30228424e+01\n",
      " 7.32815808e+00 1.70493275e+00 1.63999700e-01 6.52232196e-03\n",
      " 1.07246911e-04 7.29106091e-07 2.04936842e-09 2.38162145e-12\n",
      " 1.14432346e-15 2.27325551e-19 1.86711505e-23]\n",
      "183 20\n",
      "3.1379310344827585 18.03448238773448 7452.958944281525 1.4033254203619367 13.764708599315538\n",
      "7442\n",
      "[7.87254135e-13 1.59450224e-10 1.94359329e-08 1.42579053e-06\n",
      " 6.29471596e-05 1.67250192e-03 2.67440509e-02 2.57369946e-01\n",
      " 1.49059119e+00 5.19552387e+00 1.08985875e+01 1.37588192e+01\n",
      " 1.04535111e+01 4.77983920e+00 1.31532921e+00 2.17834025e-01\n",
      " 2.17113609e-02 1.30232223e-03 4.70132133e-05 1.02138975e-06\n",
      " 1.33546691e-08 1.05085996e-10 4.97653007e-13]\n",
      "192 30\n",
      "9.96551724137931 437.8760234760923 7647.973487423521 4.456714796534063 187.53670443930216\n",
      "7637\n",
      "[  9.04913722  15.33248996  24.70318468  37.84669342  55.13630781\n",
      "  76.38044063 100.61468678 126.03040755 150.11498348 170.02292602\n",
      " 183.11573734 187.53338606 182.62753671 169.11754615 148.91752741\n",
      " 124.6917459   99.28058694  75.16673862  54.11551794  37.0469682\n",
      "  24.11672142  14.92858351   8.78726408]\n",
      "195 5\n",
      "2.7586206896551726 16.975493884017617 7741.956647398844 1.2336926772412633 13.818517754109669\n",
      "7731\n",
      "[1.03013220e-16 9.92305731e-14 4.95510646e-11 1.28267146e-08\n",
      " 1.72120592e-06 1.19730606e-04 4.31750139e-03 8.07076579e-02\n",
      " 7.82081399e-01 3.92865708e+00 1.02303677e+01 1.38099884e+01\n",
      " 9.66385360e+00 3.50559970e+00 6.59218303e-01 6.42615423e-02\n",
      " 3.24734168e-03 8.50667384e-05 1.15517167e-06 8.13182892e-09\n",
      " 2.96746011e-11 5.61353584e-14 5.50481925e-17]\n",
      "198 23\n",
      "6.93103448275862 65.85474285314503 7795.976744186047 3.0996528515686737 33.81995811846578\n",
      "7785\n",
      "[ 0.06397344  0.19035755  0.51043264  1.23340217  2.68577066  5.27024838\n",
      "  9.31946937 14.85077883 21.32579442 27.59682692 32.18185134 33.81900626\n",
      " 32.02643536 27.33092354 21.01831781 14.5659745   9.0965996   5.11937044\n",
      "  2.59628268  1.18654808  0.48867109  0.18136183  0.06065591]\n",
      "199 22\n",
      "6.551724137931034 75.99000126271154 7820.998058252427 2.9300201084479998 40.13873554099909\n",
      "7810\n",
      "[3.50026650e-02 1.18897166e-01 3.59463173e-01 9.67274679e-01\n",
      " 2.31663571e+00 4.93830815e+00 9.36938617e+00 1.58218260e+01\n",
      " 2.37801496e+01 3.18115678e+01 3.78763461e+01 4.01387267e+01\n",
      " 3.78592163e+01 3.17828004e+01 2.37479001e+01 1.57932234e+01\n",
      " 9.34821857e+00 4.92492305e+00 2.30931168e+00 9.63780575e-01\n",
      " 3.58002696e-01 1.18360540e-01 3.48289268e-02]\n",
      "205 30\n",
      "8.827586206896552 139.57169318463428 8023.0 3.947816567172042 63.512820621889794\n",
      "8012\n",
      "[ 1.30913642  2.56788187  4.72388645  8.15000979 13.1871542  20.01143862\n",
      " 28.47998856 38.01330086 47.5845129  55.86373205 61.50756535 63.51282062\n",
      " 61.50756535 55.86373205 47.5845129  38.01330086 28.47998856 20.01143862\n",
      " 13.1871542   8.15000979  4.72388645  2.56788187  1.30913642]\n",
      "207 19\n",
      "7.310344827586206 35.70256844369544 8080.137931034483 3.269285594689347 17.853179265825716\n",
      "8069\n",
      "[ 0.05387462  0.14575886  0.35913088  0.8058191   1.64660487  3.06413758\n",
      "  5.19271103  8.01395828 11.26333568 14.41630644 16.80381964 17.83729707\n",
      " 17.24316989 15.18001487 12.1701047   8.88553251  5.9079884   3.57736155\n",
      "  1.97266375  0.99062737  0.45303798  0.18868002  0.0715623 ]\n",
      "212 10\n",
      "5.413793103448276 32.70059812055659 8184.972826086957 2.421121879085979 19.00158838045008\n",
      "8174\n",
      "[6.58494604e-04 3.93068790e-03 1.97831921e-02 8.39528876e-02\n",
      " 3.00390625e-01 9.06251162e-01 2.30527236e+00 4.94432915e+00\n",
      " 8.94136803e+00 1.36336466e+01 1.75279675e+01 1.90003916e+01\n",
      " 1.73662084e+01 1.33831680e+01 8.69609586e+00 4.76432271e+00\n",
      " 2.20084516e+00 8.57214032e-01]\n",
      "214 5\n",
      "3.896551724137931 58.25914300845538 777.9968086803893 1.7425909066032843 39.90330851860941\n",
      "767\n",
      "[8.98225780e-08 2.84857406e-06 6.49906108e-05 1.06673077e-03\n",
      " 1.25962170e-02 1.07005609e-01 6.53964328e-01 2.87529678e+00\n",
      " 9.09478419e+00 2.06958478e+01 3.38809164e+01 3.99032416e+01\n",
      " 3.38097773e+01 2.06090297e+01 9.03761599e+00 2.85122392e+00\n",
      " 6.47127521e-01 1.05664601e-01 1.24122429e-02 1.04894356e-03\n",
      " 6.37727399e-05 2.78932510e-06 8.77696360e-08]\n",
      "215 7\n",
      "3.1379310344827585 40.06605266120454 2076.9800759013283 1.4033254203619367 30.58017012905194\n",
      "2066\n",
      "[1.55477738e-12 3.18301401e-10 3.92174150e-08 2.90796686e-06\n",
      " 1.29768720e-04 3.48514348e-03 5.63302115e-02 5.47938955e-01\n",
      " 3.20769487e+00 1.13011854e+01 2.39621081e+01 3.05770882e+01\n",
      " 2.34821200e+01 1.08529689e+01 3.01876906e+00 5.05337233e-01\n",
      " 5.09099631e-02 3.08669944e-03 1.12630492e-04 2.47336206e-06\n",
      " 3.26880854e-08 2.59992818e-10 1.24452405e-12]\n",
      "218 15\n",
      "5.793103448275862 27.77642931450729 4476.991537376587 2.590754622206653 15.602917459447868\n",
      "4466\n",
      "[1.92587968e-03 9.19336602e-03 3.78107995e-02 1.33984042e-01\n",
      " 4.09059235e-01 1.07600734e+00 2.43859778e+00 4.76168895e+00\n",
      " 8.01083485e+00 1.16115566e+01 1.45010355e+01 1.56028342e+01\n",
      " 1.44645152e+01 1.15531438e+01 7.95046226e+00 4.71390137e+00\n",
      " 2.40804451e+00 1.05985008e+00 4.01902097e-01 1.31308250e-01\n",
      " 3.69623577e-02 8.96444122e-03 1.87319371e-03]\n",
      "224 5\n",
      "2.7586206896551726 10.848994329496659 6742.01875 1.2336926772412633 8.831379032661383\n",
      "6731\n",
      "[4.20485136e-17 4.21913920e-14 2.19458302e-11 5.91745723e-09\n",
      " 8.27128898e-07 5.99330273e-05 2.25120057e-03 4.38346070e-02\n",
      " 4.42461003e-01 2.31519638e+00 6.27994187e+00 8.83035912e+00\n",
      " 6.43659321e+00 2.43214080e+00 4.76405006e-01 4.83747657e-02\n",
      " 2.54633996e-03 6.94814464e-05 9.82825167e-07 7.20673647e-09\n",
      " 2.73940325e-11 5.39794241e-14 5.51385677e-17]\n",
      "227 7\n",
      "4.655172413793103 14.074555532342396 8048.96265560166 2.0818563928446316 8.819659944426437\n",
      "8038\n",
      "[8.39912938e-06 9.38920237e-05 8.33335063e-04 5.87228518e-03\n",
      " 3.28542190e-02 1.45939107e-01 5.14693576e-01 1.44119364e+00\n",
      " 3.20399961e+00 5.65534494e+00 7.92541971e+00 8.81824110e+00\n",
      " 7.79001320e+00 5.46375159e+00 3.04256752e+00 1.34519743e+00\n",
      " 4.72202588e-01 1.31603434e-01 2.91207536e-02 5.11604697e-03\n",
      " 7.13613347e-04 7.90292630e-05 6.94879383e-06]\n",
      "228 9\n",
      "5.413793103448276 54.26393062699157 8104.065789473684 2.421121879085979 31.53156006131921\n",
      "8093\n",
      "[9.17512644e-04 5.56436897e-03 2.84532086e-02 1.22675557e-01\n",
      " 4.45960400e-01 1.36692919e+00 3.53270365e+00 7.69803461e+00\n",
      " 1.41437307e+01 2.19108669e+01 2.86198009e+01 3.15199211e+01\n",
      " 2.92694863e+01 2.29169355e+01 1.51289731e+01 8.42119696e+00\n",
      " 3.95229783e+00 1.56400079e+00 5.21838043e-01 1.46806732e-01\n",
      " 3.48231192e-02 6.96467466e-03 1.17447956e-03]\n",
      "235 18\n",
      "5.793103448275862 23.310783961177314 6605.973988439307 2.590754622206653 13.0944202346162\n",
      "6595\n",
      "[1.66333762e-03 7.91936432e-03 3.24859928e-02 1.14814800e-01\n",
      " 3.49619388e-01 9.17252815e-01 2.07337809e+00 4.03797723e+00\n",
      " 6.77555904e+00 9.79540303e+00 1.22009991e+01 1.30937603e+01\n",
      " 1.21067977e+01 9.64473039e+00 6.61982955e+00 3.91470851e+00\n",
      " 1.99456393e+00 8.75573079e-01 3.31156090e-01 1.07911816e-01\n",
      " 3.02971072e-02 7.32873864e-03 1.52740150e-03]\n",
      "239 5\n",
      "4.275862068965517 12.277083424077391 7505.940652818991 1.9122236497239578 8.027279784422603\n",
      "7495\n",
      "[6.25614103e-07 1.08728499e-05 1.43750778e-04 1.44579583e-03\n",
      " 1.10620006e-02 6.43858359e-02 2.85086694e-01 9.60270324e-01\n",
      " 2.46059432e+00 4.79641194e+00 7.11250989e+00 8.02341472e+00\n",
      " 6.88534249e+00 4.49491832e+00 2.23227662e+00 8.43342848e-01\n",
      " 2.42376367e-01 5.29915138e-02 8.81357958e-03 1.11513715e-03\n",
      " 1.07333227e-04 7.85904978e-06 4.37759764e-07]\n",
      "244 7\n",
      "6.93103448275862 83.78746379912118 773.996004474988 3.0996528515686737 43.029376378521796\n",
      "763\n",
      "[ 0.07962087  0.237393    0.63783279  1.54434285  3.36960149  6.62538781\n",
      " 11.73929486 18.7443619  26.97101269 34.97210627 40.86431927 43.02934063\n",
      " 40.83034568 34.91398055 26.9037995  18.68210519 11.69057713  6.59240732\n",
      "  3.35004051  1.53410126  0.63307613  0.23542674  0.07889575]\n",
      "245 17\n",
      "7.689655172413793 32.616222075683346 4356.0566860465115 3.438918337810021 15.902494711174183\n",
      "4345\n",
      "[ 0.09052191  0.22101871  0.49588525  1.02237478  1.93693865  3.37208409\n",
      "  5.39458102  7.9303771  10.71289264 13.29831023 15.16920995 15.90033441\n",
      " 15.31532964 13.5557401  11.02546494  8.24038278  5.65945556  3.57173077\n",
      "  2.07137901  1.1038682   0.54056966  0.24325563  0.1005891 ]\n",
      "249 20\n",
      "13.0 1650.3566582002206 120.00758086253369 5.813776741499453 618.8582293636711\n",
      "109\n",
      "[103.07608363 140.65956876 186.35099022 239.68738589 299.30205848\n",
      " 362.84845605 427.06296015 487.98849539 541.3502125  583.03965051\n",
      " 609.63363557 618.85770325 609.90716134 583.56295545 542.07920613\n",
      " 488.8648728  428.021877   363.82635283 300.24334465 240.54906698\n",
      " 187.10483699 141.29194511 103.58594771]\n",
      "250 20\n",
      "7.689655172413793 60.75896629368014 8105.892761394102 3.438918337810021 29.623882799780564\n",
      "8095\n",
      "[ 0.19633443  0.47277226  1.04612673  2.12712691  3.97447069  6.82404669\n",
      " 10.76667183 15.609815   20.79652779 25.46013485 28.64226528 29.60948272\n",
      " 28.12749603 24.55320094 19.69527089 14.51752535  9.8333166   6.12046256\n",
      "  3.50062236  1.83985279  0.88858235  0.39435657  0.16082638]\n",
      "252 12\n",
      "10.344827586206897 45.40276896385504 8181.91847826087 4.626347539654737 19.08559695928818\n",
      "8171\n",
      "[ 1.178193    1.91699023  2.97668005  4.41116406  6.2385414   8.42018646\n",
      " 10.84598882 13.33292368 15.64193333 17.51314988 18.71314985 19.08263409\n",
      " 18.57113927 17.24835046 15.28851788 12.93278327 10.44064696  8.04399179\n",
      "  5.9145897   4.15036626  2.7794382 ]\n",
      "257 10\n",
      "12.241379310344827 8365.453793276174 443.1894240898982 5.474511255258106 3232.655047495552\n",
      "433\n",
      "[ 571.88429407  790.16188701 1055.92517639 1364.76969511 1706.06178225\n",
      " 2062.71533324 2412.08716649 2728.0721851  2984.1996545  3157.2505852\n",
      " 3230.72050132 3197.41406721 3060.60676308 2833.5138799  2537.1860429\n",
      " 2197.29537461 1840.49112624 1491.03614921 1168.29300439  885.3694617\n",
      "  648.94286024  460.04205804  315.42620815]\n",
      "259 5\n",
      "13.0 102.94243811484606 2160.998509687034 5.813776741499453 38.60182261912263\n",
      "2150\n",
      "[ 6.44847485  8.79734913 11.65192541 14.98285632 18.70434845 22.66948245\n",
      " 26.6742168  30.47142742 33.79441804 36.38716298 38.03666844 38.60182135\n",
      " 38.03331435 36.380746   33.78547883 30.46068092 26.66245817 22.65749108\n",
      " 18.69280602 14.97229004 11.64268144  8.78959468  6.44222269]\n"
     ]
    },
    {
     "data": {
      "text/plain": [
       "array([ 0.        ,  0.        ,  0.        , ..., 10.67891242,\n",
       "        6.35121142,  3.63665223])"
      ]
     },
     "execution_count": 66,
     "metadata": {},
     "output_type": "execute_result"
    }
   ],
   "source": [
    "# 2019-10-07\n",
    "ypkregs = []\n",
    "fwhms = []\n",
    "peak_constructed_spectrum = np.zeros(len(xs))\n",
    "for ipk, pk in enumerate(nscpk_ma):\n",
    "    if pk:\n",
    "        print(ipk, pk)\n",
    "        # ypicoregio = gaus_sig(xs[regions_slcs[ipk2]],sigmamaximo,gau_hei,centroide)ypicoregio\n",
    "        # subtrair o pica v'alido\n",
    "        escalmaxima = ypk[ipk]\n",
    "        maxcwt = cwtpk[ipk]\n",
    "        centroide = centrpk[ipk]\n",
    "        sigmamaximo = escalmaxima / np.sqrt(5)\n",
    "        fwhm = kfwhm * sigmamaximo\n",
    "        gau_hei = k * maxcwt / np.sqrt(sigmamaximo)\n",
    "        print(escalmaxima, maxcwt, centroide, sigmamaximo, gau_hei)\n",
    "        region_start = regions_slcs[ipk].start\n",
    "        print(region_start)\n",
    "        ypicoregio = gaus_sig(xs[regions_slcs[ipk]],sigmamaximo,gau_hei,centroide)\n",
    "        print(ypicoregio)\n",
    "        ypkregs.append(ypicoregio)\n",
    "        fwhms.append(fwhm)\n",
    "        peak_constructed_spectrum[regions_slcs[ipk]] += ypicoregio\n",
    "peak_constructed_spectrum"
   ]
  },
  {
   "cell_type": "code",
   "execution_count": null,
   "metadata": {},
   "outputs": [],
   "source": []
  },
  {
   "cell_type": "code",
   "execution_count": 67,
   "metadata": {},
   "outputs": [],
   "source": [
    "baseline_spectrum = y0s - peak_constructed_spectrum"
   ]
  },
  {
   "cell_type": "code",
   "execution_count": 68,
   "metadata": {},
   "outputs": [
    {
     "data": {
      "text/plain": [
       "8192"
      ]
     },
     "execution_count": 68,
     "metadata": {},
     "output_type": "execute_result"
    }
   ],
   "source": [
    "len(baseline_spectrum)"
   ]
  },
  {
   "cell_type": "code",
   "execution_count": 69,
   "metadata": {},
   "outputs": [
    {
     "data": {
      "text/plain": [
       "551.0"
      ]
     },
     "execution_count": 69,
     "metadata": {},
     "output_type": "execute_result"
    }
   ],
   "source": [
    "np.median(baseline_spectrum[100:2000])"
   ]
  },
  {
   "cell_type": "code",
   "execution_count": 70,
   "metadata": {},
   "outputs": [],
   "source": [
    "bl_median_smoother = np.zeros(8192)\n",
    "bl_median_smoother[20:8172] = np.asarray([np.median(baseline_spectrum[i-n_side_chans:i+n_side_chans+1]) for i in range(20,8172) ])"
   ]
  },
  {
   "cell_type": "code",
   "execution_count": 71,
   "metadata": {},
   "outputs": [
    {
     "data": {
      "text/plain": [
       "8192"
      ]
     },
     "execution_count": 71,
     "metadata": {},
     "output_type": "execute_result"
    }
   ],
   "source": [
    "len(bl_median_smoother)"
   ]
  },
  {
   "cell_type": "code",
   "execution_count": 72,
   "metadata": {},
   "outputs": [
    {
     "data": {
      "text/plain": [
       "array([0., 0., 0., ..., 0., 0., 0.])"
      ]
     },
     "execution_count": 72,
     "metadata": {},
     "output_type": "execute_result"
    }
   ],
   "source": [
    "bl_median_smoother"
   ]
  },
  {
   "cell_type": "code",
   "execution_count": null,
   "metadata": {},
   "outputs": [],
   "source": []
  },
  {
   "cell_type": "code",
   "execution_count": null,
   "metadata": {},
   "outputs": [],
   "source": []
  },
  {
   "cell_type": "code",
   "execution_count": 73,
   "metadata": {},
   "outputs": [
    {
     "data": {
      "text/plain": [
       "110"
      ]
     },
     "execution_count": 73,
     "metadata": {},
     "output_type": "execute_result"
    }
   ],
   "source": [
    "len(ypkregs)"
   ]
  },
  {
   "cell_type": "code",
   "execution_count": 74,
   "metadata": {},
   "outputs": [
    {
     "data": {
      "text/plain": [
       "260"
      ]
     },
     "execution_count": 74,
     "metadata": {},
     "output_type": "execute_result"
    }
   ],
   "source": [
    "len(y0s[xpk])"
   ]
  },
  {
   "cell_type": "code",
   "execution_count": 75,
   "metadata": {},
   "outputs": [
    {
     "data": {
      "text/plain": [
       "260"
      ]
     },
     "execution_count": 75,
     "metadata": {},
     "output_type": "execute_result"
    }
   ],
   "source": [
    "len(nscpk)"
   ]
  },
  {
   "cell_type": "code",
   "execution_count": 76,
   "metadata": {},
   "outputs": [
    {
     "data": {
      "text/plain": [
       "260"
      ]
     },
     "execution_count": 76,
     "metadata": {},
     "output_type": "execute_result"
    }
   ],
   "source": [
    "len(nscpk_ma)"
   ]
  },
  {
   "cell_type": "code",
   "execution_count": 77,
   "metadata": {},
   "outputs": [
    {
     "name": "stdout",
     "output_type": "stream",
     "text": [
      "[  897  3930  3066 14784 25945  7237  3379   788   822   838   830   875\n",
      "   797   775  6162   794   767  1452  8244   929 16833   411 25456   407\n",
      "   330   342   318   243   286   278   232   188   292   288   313   148\n",
      "   207   210   272 14130   499   113   198   185   133   139  1168   310\n",
      "   342    98   116   223    98   105   159   619   145   113    79    83\n",
      "    73    75    75    72   104    92    65    94  2078   264    84    93\n",
      "   757   200    51    62    49    51    43    47   468   126   187   291\n",
      "    45    51    45    45   232    59    66    79    98    43    15   899\n",
      "   298    88    52    34    61    38    48   881   100   832    59    25\n",
      "  5710   290]\n",
      "[ 834 2745  747  853  903  804  786  667  650  659  355  330  406  282\n",
      "  296  309  291  311  225  222  202  181  160  142  139  120  112  109\n",
      "  112  101  117  102  116  113  113  103   96   95  102  112  116  113\n",
      "  102  113  104   94   86  106   91  140   77   72   70   72   80   73\n",
      "   76   74   69   78   62   68   75   76   62   62   68   65   66   58\n",
      "   67  227   71   70   61   60   49   66   59   42   55   54   64   41\n",
      "   52   53   56   58   46   47   45   47   44   54   52   46   48   48\n",
      "   59   57   50   54   45   96   75   53   48   69   47   43   37   36\n",
      "   32   29   52   54   33   28  857  100   91   95   73   57   53   51\n",
      "   52   45  267  133   60   56   49   34   42   90   74  149   70   31\n",
      "  746   47  746  862  158   48  463  449  113  330]\n",
      "[5.701306332334662, 4.502942580952216, 4.1034879971580684, 2.905124245775624, 3.304578829569772, 4.502942580952216, 3.304578829569772, 10.49476133786444, 2.905124245775624, 2.1062150781873274, 3.304578829569772, 2.1062150781873274, 3.7040334133639203, 3.304578829569772, 4.9023971647463656, 3.7040334133639203, 2.905124245775624, 3.7040334133639203, 5.301851748540513, 4.1034879971580684, 5.301851748540513, 4.9023971647463656, 5.301851748540513, 3.304578829569772, 10.49476133786444, 4.9023971647463656, 5.701306332334662, 3.7040334133639203, 8.896943002687847, 9.296397586481996, 5.701306332334662, 3.7040334133639203, 6.10076091612881, 6.899670083717106, 13.290943424423478, 2.905124245775624, 6.899670083717106, 4.502942580952216, 4.9023971647463656, 6.899670083717106, 7.299124667511254, 3.7040334133639203, 7.698579251305402, 9.695852170276146, 4.9023971647463656, 8.098033835099551, 8.098033835099551, 8.896943002687847, 7.698579251305402, 3.7040334133639203, 4.1034879971580684, 8.896943002687847, 2.505669661981476, 2.905124245775624, 8.896943002687847, 8.497488418893699, 6.899670083717106, 6.10076091612881, 2.905124245775624, 7.299124667511254, 4.9023971647463656, 4.1034879971580684, 2.505669661981476, 2.1062150781873274, 9.296397586481996, 13.690398008217628, 3.304578829569772, 6.500215499922958, 9.296397586481996, 9.695852170276146, 8.497488418893699, 8.098033835099551, 10.095306754070293, 9.296397586481996, 3.7040334133639203, 2.1062150781873274, 5.701306332334662, 2.1062150781873274, 12.492034256835183, 2.1062150781873274, 10.095306754070293, 6.10076091612881, 8.098033835099551, 8.896943002687847, 2.505669661981476, 12.891488840629332, 2.505669661981476, 3.304578829569772, 10.49476133786444, 2.905124245775624, 7.299124667511254, 6.899670083717106, 9.296397586481996, 7.698579251305402, 5.701306332334662, 4.1034879971580684, 3.304578829569772, 6.10076091612881, 2.905124245775624, 4.9023971647463656, 5.701306332334662, 6.10076091612881, 4.502942580952216, 7.299124667511254, 8.098033835099551, 13.690398008217628, 8.098033835099551, 10.894215921658589, 12.891488840629332, 13.690398008217628]\n"
     ]
    }
   ],
   "source": [
    "y0s_xpk_valid = y0s[xpk][~nscpk_ma.mask]\n",
    "y0s_xpk_invld = y0s[xpk][nscpk_ma.mask]\n",
    "centrpk_valid = np.asarray(centrpk)[~nscpk_ma.mask]\n",
    "centrpk_invld = np.asarray(centrpk)[nscpk_ma.mask]\n",
    "print(y0s_xpk_valid)\n",
    "print(y0s_xpk_invld)\n",
    "print(fwhms)"
   ]
  },
  {
   "cell_type": "code",
   "execution_count": 78,
   "metadata": {},
   "outputs": [
    {
     "data": {
      "text/plain": [
       "110"
      ]
     },
     "execution_count": 78,
     "metadata": {},
     "output_type": "execute_result"
    }
   ],
   "source": [
    "len(y0s_xpk_valid)"
   ]
  },
  {
   "cell_type": "code",
   "execution_count": 79,
   "metadata": {},
   "outputs": [
    {
     "data": {
      "text/plain": [
       "150"
      ]
     },
     "execution_count": 79,
     "metadata": {},
     "output_type": "execute_result"
    }
   ],
   "source": [
    "len(y0s_xpk_invld)"
   ]
  },
  {
   "cell_type": "code",
   "execution_count": 80,
   "metadata": {},
   "outputs": [
    {
     "data": {
      "text/plain": [
       "110"
      ]
     },
     "execution_count": 80,
     "metadata": {},
     "output_type": "execute_result"
    }
   ],
   "source": [
    "len(fwhms)"
   ]
  },
  {
   "cell_type": "code",
   "execution_count": 81,
   "metadata": {},
   "outputs": [
    {
     "data": {
      "text/plain": [
       "array([ 0.        ,  0.        ,  0.        , ..., 10.67891242,\n",
       "        6.35121142,  3.63665223])"
      ]
     },
     "execution_count": 81,
     "metadata": {},
     "output_type": "execute_result"
    }
   ],
   "source": [
    "peak_constructed_spectrum"
   ]
  },
  {
   "cell_type": "code",
   "execution_count": null,
   "metadata": {},
   "outputs": [],
   "source": []
  },
  {
   "cell_type": "code",
   "execution_count": 103,
   "metadata": {},
   "outputs": [],
   "source": [
    "bokspec = figure(\n",
    "   plot_width =default_plot_width,\n",
    "   plot_height=default_plot_height,\n",
    "   tools=\"pan,box_zoom,reset,save\",\n",
    "   y_axis_type=\"log\",\n",
    "   y_range=[10**1, 10**5], title=\"Espectro gama\",\n",
    "   # y_range=[-1000.0, 1000.0], title=\"synth\",\n",
    "   x_axis_label='canais', y_axis_label='contagens'\n",
    ")\n",
    "bokspec.circle(xs, y0s, color=\"green\",size=2)\n",
    "# bokspec.line(xs, y0s, color=\"green\")\n",
    "bokspec.line(xs, peak_constructed_spectrum, color=\"blue\")\n",
    "# bokspec.line(xs, baseline_spectrum, color=\"orange\")\n",
    "bokspec.line(xs, bl_median_smoother, color=\"magenta\")\n",
    "bokspec.cross(centrpk_valid, y0s_xpk_valid, color=\"red\",size=16)\n",
    "bokspec.cross(centrpk_invld, y0s_xpk_invld, color=\"magenta\",size=8)\n",
    "show(bokspec)"
   ]
  },
  {
   "cell_type": "code",
   "execution_count": 83,
   "metadata": {},
   "outputs": [],
   "source": [
    "bokspeclin = figure(\n",
    "   plot_width =default_plot_width,\n",
    "   plot_height=default_plot_height,\n",
    "   tools=\"pan,box_zoom,reset,save\",\n",
    "   # y_axis_type=\"log\",\n",
    "   # y_range=[10**1, 10**5], title=\"synth\",\n",
    "   # y_range=[-1000.0, 1000.0], title=\"synth\",\n",
    "   x_axis_label='channels', y_axis_label='counts'\n",
    ")\n",
    "bokspeclin.circle(xs, y0s, legend=\"counts\", color=\"green\",size=4)\n",
    "bokspeclin.line(xs, y0s, color=\"green\")\n",
    "bokspeclin.line(xs, peak_constructed_spectrum, color=\"blue\")\n",
    "bokspeclin.line(xs, baseline_spectrum, color=\"orange\")\n",
    "bokspeclin.cross(centrpk_valid, y0s_xpk_valid, color=\"red\",size=16)\n",
    "bokspeclin.cross(centrpk_invld, y0s_xpk_invld, color=\"magenta\",size=8)\n",
    "show(bokspeclin)"
   ]
  },
  {
   "cell_type": "code",
   "execution_count": 84,
   "metadata": {},
   "outputs": [],
   "source": [
    "bokfwhm = figure(\n",
    "   plot_width =default_plot_width,\n",
    "   plot_height=default_plot_height,\n",
    "   tools=\"pan,box_zoom,reset,save\",\n",
    "   # y_axis_type=\"log\",\n",
    "   # y_range=[10**1, 10**5], title=\"synth\",\n",
    "   # y_range=[-1000.0, 1000.0], title=\"synth\",\n",
    "   x_axis_label='channels', y_axis_label='counts'\n",
    ")\n",
    "bokfwhm.circle(xs, y0s, legend=\"counts\", color=\"green\",size=4)\n",
    "bokfwhm.line(xs, y0s, color=\"green\")\n",
    "bokfwhm.line(xs, peak_constructed_spectrum, color=\"blue\")\n",
    "bokfwhm.line(xs, baseline_spectrum, color=\"orange\")\n",
    "bokfwhm.cross(centrpk_valid, y0s_xpk_valid, color=\"red\",size=16)\n",
    "bokfwhm.cross(centrpk_invld, y0s_xpk_invld, color=\"magenta\",size=8)\n",
    "bokfwhm.circle(centrpk_valid, np.asarray(fwhms)*2000, color=\"magenta\",size=10)\n",
    "show(bokfwhm)"
   ]
  },
  {
   "cell_type": "code",
   "execution_count": 85,
   "metadata": {},
   "outputs": [],
   "source": [
    "bokfwhmlog = figure(\n",
    "   plot_width =default_plot_width,\n",
    "   plot_height=default_plot_height,\n",
    "   tools=\"pan,box_zoom,reset,save\",\n",
    "   y_axis_type=\"log\",\n",
    "   y_range=[10**1, 10**5], title=\"synth\",\n",
    "   # y_range=[-1000.0, 1000.0], title=\"synth\",\n",
    "   x_axis_label='channels', y_axis_label='counts'\n",
    ")\n",
    "bokfwhmlog.circle(xs, y0s, legend=\"counts\", color=\"green\",size=4)\n",
    "bokfwhmlog.line(xs, y0s, color=\"green\")\n",
    "bokfwhmlog.line(xs, peak_constructed_spectrum, color=\"blue\")\n",
    "bokfwhmlog.line(xs, baseline_spectrum, color=\"orange\")\n",
    "bokfwhmlog.cross(centrpk_valid, y0s_xpk_valid, color=\"red\",size=16)\n",
    "bokfwhmlog.cross(centrpk_invld, y0s_xpk_invld, color=\"magenta\",size=8)\n",
    "bokfwhmlog.circle(centrpk_valid, np.asarray(fwhms)*2000, color=\"magenta\",size=10)\n",
    "show(bokfwhmlog)"
   ]
  },
  {
   "cell_type": "code",
   "execution_count": null,
   "metadata": {},
   "outputs": [],
   "source": []
  },
  {
   "cell_type": "code",
   "execution_count": 86,
   "metadata": {},
   "outputs": [],
   "source": [
    "# 2019-09-13 Numa avaliacao puramente visual, usarei a escala green [5]"
   ]
  },
  {
   "cell_type": "code",
   "execution_count": 87,
   "metadata": {},
   "outputs": [],
   "source": [
    "bokspecx = figure(\n",
    "   plot_width =default_plot_width,\n",
    "   plot_height=default_plot_height,\n",
    "   tools=\"pan,box_zoom,reset,save\",\n",
    "   y_axis_type=\"log\",\n",
    "   y_range=[10**1, 10**5], title=\"synth\",\n",
    "   # y_range=[-1000.0, 1000.0], title=\"synth\",\n",
    "   x_axis_label='channels', y_axis_label='counts'\n",
    ")\n",
    "bokspecx.circle(xs, y0s, legend=\"counts\", color=\"lightblue\",size=4)\n",
    "bokspecx.line(xs, y0s, color=\"lightgreen\")\n",
    "bokspecx.cross(pk_per_scal[ 0], y0s[pk_per_scal[ 0]]*1.01, color=\"red\",size=16)\n",
    "bokspecx.cross(pk_per_scal[ 1], y0s[pk_per_scal[ 1]]*1.01**2, color=\"orange\",size=16)\n",
    "bokspecx.cross(pk_per_scal[ 3], y0s[pk_per_scal[ 3]]*1.01**3, color=\"brown\",size=6)\n",
    "bokspecx.cross(pk_per_scal[ 5], y0s[pk_per_scal[ 5]]*1.01**4, color=\"green\",size=6)\n",
    "bokspecx.cross(pk_per_scal[ 8], y0s[pk_per_scal[ 8]]*1.01**5, color=\"cyan\",size=6)\n",
    "bokspecx.cross(pk_per_scal[12], y0s[pk_per_scal[12]]*1.01**6, color=\"blue\",size=6)\n",
    "bokspecx.cross(pk_per_scal[15], y0s[pk_per_scal[15]]*1.01**7, color=\"magenta\",size=6)\n",
    "bokspecx.cross(pk_per_scal[20], y0s[pk_per_scal[20]]*1.01**8, color=\"violet\",size=6)\n",
    "show(bokspecx)"
   ]
  },
  {
   "cell_type": "code",
   "execution_count": 88,
   "metadata": {},
   "outputs": [],
   "source": [
    "# Bokeh graph w/ peaks in all scales\n",
    "bokpksallscl = figure(\n",
    "   plot_width =default_plot_width,\n",
    "   plot_height=default_plot_height,\n",
    "   tools=\"pan,box_zoom,reset,save\",\n",
    "   # y_axis_type=\"log\",\n",
    "   # y_range=[10**1, 10**5], title=\"synth\",\n",
    "   # y_range=[-1000.0, 1000.0], title=\"synth\",\n",
    "   x_axis_label='channels', y_axis_label='counts'\n",
    ")\n",
    "bokpksallscl.circle(ar1[:,0], ar1[:,1], legend=\"cwt peaks\", color=\"navy\",size=2)\n",
    "# bokpksallscl.line(xs, y0s, color=\"lightgreen\")\n",
    "# bokpksallscl.cross(pk_per_scal[ 0], y0s[pk_per_scal[ 0]]*1.01, color=\"red\",size=2)\n",
    "show(bokpksallscl)"
   ]
  },
  {
   "cell_type": "code",
   "execution_count": 89,
   "metadata": {},
   "outputs": [],
   "source": [
    "# Bokeh graph w/ peaks in all scales\n",
    "# 2019-10-01 Now including the cwt maximum in each ridge\n",
    "bokpksallscl = figure(\n",
    "   plot_width =default_plot_width,\n",
    "   # plot_height=default_plot_height,\n",
    "   plot_height=500,\n",
    "   tools=\"pan,box_zoom,reset,save\",\n",
    "   # y_axis_type=\"log\",\n",
    "   # y_range=[10**1, 10**5], title=\"synth\",\n",
    "   # y_range=[-1000.0, 1000.0], title=\"synth\",\n",
    "   x_axis_label='channels', y_axis_label='counts'\n",
    ")\n",
    "bokpksallscl.circle(ar1[:,0], ar1[:,1], legend=\"cwt peaks\", color=\"navy\",size=2)\n",
    "# bokpksallscl.line(xs, y0s, color=\"lightgreen\")\n",
    "bokpksallscl.cross(xpk, ypk, color=\"red\",size=12)\n",
    "show(bokpksallscl)"
   ]
  },
  {
   "cell_type": "code",
   "execution_count": 90,
   "metadata": {},
   "outputs": [
    {
     "data": {
      "text/plain": [
       "array([[1.090e+02, 2.000e+00],\n",
       "       [1.510e+02, 2.000e+00],\n",
       "       [2.370e+02, 2.000e+00],\n",
       "       ...,\n",
       "       [7.648e+03, 1.300e+01],\n",
       "       [8.024e+03, 1.300e+01],\n",
       "       [8.106e+03, 1.300e+01]])"
      ]
     },
     "execution_count": 90,
     "metadata": {},
     "output_type": "execute_result"
    }
   ],
   "source": [
    "ar1"
   ]
  },
  {
   "cell_type": "code",
   "execution_count": null,
   "metadata": {},
   "outputs": [],
   "source": []
  },
  {
   "cell_type": "raw",
   "metadata": {},
   "source": [
    "bokumpico = figure(\n",
    "   plot_width =default_plot_width,\n",
    "   plot_height=default_plot_height,\n",
    "   tools=\"pan,box_zoom,reset,save\",\n",
    "   # y_range=[10**1, 10**5], title=\"synth\",\n",
    "   # y_range=[-1000.0, 1000.0], title=\"synth\",\n",
    "   x_axis_label='channels', y_axis_label='counts'\n",
    ")\n",
    "bokumpico.circle(xpico, ypico, legend=\"counts\", color=\"blue\",size=4)\n",
    "bokumpico.line(xpico, ypicoregio, color=\"lightgreen\")\n",
    "bokumpico.line(xpico, subtracao, color=\"brown\")\n",
    "show(bokumpico)"
   ]
  },
  {
   "cell_type": "code",
   "execution_count": null,
   "metadata": {},
   "outputs": [],
   "source": []
  },
  {
   "cell_type": "code",
   "execution_count": null,
   "metadata": {},
   "outputs": [],
   "source": []
  },
  {
   "cell_type": "code",
   "execution_count": 91,
   "metadata": {},
   "outputs": [
    {
     "data": {
      "text/plain": [
       "13.690398008217628"
      ]
     },
     "execution_count": 91,
     "metadata": {},
     "output_type": "execute_result"
    }
   ],
   "source": [
    "fwhm"
   ]
  },
  {
   "cell_type": "code",
   "execution_count": null,
   "metadata": {},
   "outputs": [],
   "source": []
  },
  {
   "cell_type": "code",
   "execution_count": null,
   "metadata": {},
   "outputs": [],
   "source": []
  },
  {
   "cell_type": "raw",
   "metadata": {},
   "source": [
    "2019-09-17 Desativado por enquanto"
   ]
  },
  {
   "cell_type": "raw",
   "metadata": {
    "jupyter": {
     "outputs_hidden": true
    }
   },
   "source": [
    "sigmas_experim, gau_hights = searchcwt(y0s,ipks,widths)\n",
    "sigmas_experim, gau_hights"
   ]
  },
  {
   "cell_type": "raw",
   "metadata": {},
   "source": [
    "x = np.sqrt(ipks)"
   ]
  },
  {
   "cell_type": "raw",
   "metadata": {},
   "source": [
    "sigmas_experim, gau_hights"
   ]
  },
  {
   "cell_type": "raw",
   "metadata": {},
   "source": [
    "len(sigmas_experim)"
   ]
  },
  {
   "cell_type": "raw",
   "metadata": {},
   "source": [
    "len(gau_hights)"
   ]
  },
  {
   "cell_type": "code",
   "execution_count": null,
   "metadata": {},
   "outputs": [],
   "source": []
  },
  {
   "cell_type": "code",
   "execution_count": null,
   "metadata": {},
   "outputs": [],
   "source": []
  },
  {
   "cell_type": "raw",
   "metadata": {},
   "source": [
    "xcp = np.copy(x)\n",
    "fwhms = kfwhm * sigmas_experim\n",
    "ycp = np.copy(fwhms)\n",
    "sycp = np.sqrt(gau_hights)**ycp\n",
    "\n",
    "c, stats = polyfit(xcp,ycp,1,full=True,w=sycp)\n",
    "pfit = P(c)\n",
    "print(pfit)\n",
    "x_gr = np.linspace(xcp[0], xcp[-1])\n",
    "y_gr = pfit(x_gr)\n",
    "ch_gr = x_gr**2\n",
    "yfit = pfit(x)\n",
    "\n",
    "mask = [(i>3.0) & (i<12.0) for i in ycp]\n",
    "\n",
    "xcp=xcp[mask]\n",
    "ycp=ycp[mask]\n",
    "sycp=sycp[mask]\n",
    "\n",
    "c, stats = polyfit(xcp,ycp,1,full=True,w=sycp)\n",
    "# c, stats = polyfit(xcp,ycp,1,full=True)\n",
    "pfit = P(c)\n",
    "print(pfit)\n",
    "x_gr = np.linspace(xcp[0], xcp[-1])\n",
    "y_gr = pfit(x_gr)\n",
    "ch_gr = x_gr**2\n",
    "yfit = pfit(x)\n",
    "\n",
    "p01 = figure(\n",
    "   plot_width =default_plot_width,\n",
    "   plot_height=default_plot_height,\n",
    "   tools=\"pan,box_zoom,reset,save\",\n",
    "   # y_axis_type=\"log\",\n",
    "   y_range=[0.0, 25.0], title=\"Plot #1: fwhms\",\n",
    "   x_axis_label='ch', y_axis_label='fwhm'\n",
    ")\n",
    "p01.circle(ipks, fwhms, legend=\"fwhm\", color=\"blue\",size=4)\n",
    "p01.line(ch_gr, y_gr, color=\"green\", legend=\"y_gr\")\n",
    "show(p01)"
   ]
  },
  {
   "cell_type": "raw",
   "metadata": {},
   "source": [
    "pfit"
   ]
  },
  {
   "cell_type": "code",
   "execution_count": 92,
   "metadata": {},
   "outputs": [
    {
     "data": {
      "text/plain": [
       "1"
      ]
     },
     "execution_count": 92,
     "metadata": {},
     "output_type": "execute_result"
    }
   ],
   "source": [
    "1 & 1"
   ]
  },
  {
   "cell_type": "code",
   "execution_count": null,
   "metadata": {},
   "outputs": [],
   "source": []
  },
  {
   "cell_type": "code",
   "execution_count": null,
   "metadata": {},
   "outputs": [],
   "source": []
  },
  {
   "cell_type": "code",
   "execution_count": null,
   "metadata": {},
   "outputs": [],
   "source": []
  },
  {
   "cell_type": "code",
   "execution_count": null,
   "metadata": {},
   "outputs": [],
   "source": []
  },
  {
   "cell_type": "code",
   "execution_count": 93,
   "metadata": {},
   "outputs": [],
   "source": [
    "# Coeficientes de a0 a an\n",
    "# residuals  array...: \n",
    "\n",
    "# coef : ndarray, shape (deg + 1,) or (deg + 1, K)\n",
    "#  Polynomial coefficients ordered from low to high. If y was 2-D, the coefficients in column k of coef\n",
    "# represent the polynomial fit to the data in y’s k-th column.\n",
    "# [residuals, rank, singular_values, rcond] : list\n",
    "# These values are only returned if full = True\n",
    "# resid – sum of squared residuals of the least squares fit\n",
    "# rank – the numerical rank of the scaled Vandermonde matrix\n",
    "# sv – singular values of the scaled Vandermonde matrix\n",
    "# rcond – value of rcond.\n",
    "#"
   ]
  },
  {
   "cell_type": "raw",
   "metadata": {},
   "source": [
    "xcp"
   ]
  },
  {
   "cell_type": "raw",
   "metadata": {},
   "source": [
    "ycp"
   ]
  },
  {
   "cell_type": "raw",
   "metadata": {},
   "source": [
    "fitd_fwhms = pfit(xcp)\n",
    "fitd_fwhms"
   ]
  },
  {
   "cell_type": "code",
   "execution_count": null,
   "metadata": {},
   "outputs": [],
   "source": []
  },
  {
   "cell_type": "code",
   "execution_count": null,
   "metadata": {},
   "outputs": [],
   "source": []
  },
  {
   "cell_type": "raw",
   "metadata": {},
   "source": [
    "bokspec2 = figure(\n",
    "   plot_width =default_plot_width,\n",
    "   plot_height=default_plot_height,\n",
    "   tools=\"pan,box_zoom,reset,save\",\n",
    "   y_axis_type=\"log\",\n",
    "   y_range=[10**1, 10**5], title=\"ALMERA?\",\n",
    "   # y_range=[-1000.0, 1000.0], title=\"synth\",\n",
    "   x_axis_label='channels', y_axis_label='counts'\n",
    ")\n",
    "bokspec.circle(xs, y0s, legend=\"counts\", color=\"lightblue\",size=4)\n",
    "bokspec.line(xs, y0s, color=\"lightgreen\")\n",
    "#bokspec.cross(pk_per_scal[ 0], y0s[pk_per_scal[ 0]]*1.01, color=\"red\",size=2)\n",
    "#bokspec.cross(pk_per_scal[ 1], y0s[pk_per_scal[ 1]]*1.01**2, color=\"orange\",size=4)\n",
    "#bokspec.cross(pk_per_scal[ 3], y0s[pk_per_scal[ 3]]*1.01**3, color=\"brown\",size=6)\n",
    "#bokspec.cross(pk_per_scal[ 5], y0s[pk_per_scal[ 5]]*1.01**4, color=\"green\",size=16)\n",
    "#bokspec.cross(pk_per_scal[ 8], y0s[pk_per_scal[ 8]]*1.01**5, color=\"cyan\",size=10)\n",
    "#bokspec.cross(pk_per_scal[12], y0s[pk_per_scal[12]]*1.01**6, color=\"blue\",size=12)\n",
    "#bokspec.cross(pk_per_scal[15], y0s[pk_per_scal[15]]*1.01**7, color=\"magenta\",size=14)\n",
    "#bokspec.cross(pk_per_scal[20], y0s[pk_per_scal[20]]*1.01**8, color=\"violet\",size=16)\n",
    "show(bokspec2)"
   ]
  },
  {
   "cell_type": "code",
   "execution_count": null,
   "metadata": {},
   "outputs": [],
   "source": []
  },
  {
   "cell_type": "code",
   "execution_count": null,
   "metadata": {},
   "outputs": [],
   "source": []
  },
  {
   "cell_type": "code",
   "execution_count": null,
   "metadata": {},
   "outputs": [],
   "source": []
  },
  {
   "cell_type": "code",
   "execution_count": 95,
   "metadata": {},
   "outputs": [],
   "source": [
    "# 2019-09-13 PAREi AQUI!!"
   ]
  },
  {
   "cell_type": "code",
   "execution_count": null,
   "metadata": {},
   "outputs": [],
   "source": []
  },
  {
   "cell_type": "code",
   "execution_count": null,
   "metadata": {},
   "outputs": [],
   "source": []
  },
  {
   "cell_type": "code",
   "execution_count": null,
   "metadata": {},
   "outputs": [],
   "source": []
  },
  {
   "cell_type": "code",
   "execution_count": null,
   "metadata": {},
   "outputs": [],
   "source": []
  },
  {
   "cell_type": "raw",
   "metadata": {},
   "source": [
    "bokfwhm = figure(\n",
    "   plot_width =default_plot_width,\n",
    "   plot_height=default_plot_height,\n",
    "   tools=\"pan,box_zoom,reset,save\",\n",
    "   # y_axis_type=\"log\",\n",
    "   # y_range=[10**1, 10**5], title=\"synth\",\n",
    "   y_range=[0.0, 15.0], title=\"fwhms\",\n",
    "   x_axis_label='channels', y_axis_label='fwhms'\n",
    ")\n",
    "bokfwhm.circle(ipks, fwhms, legend=\"fwhms\", color=\"blue\",size=4)\n",
    "bokfwhm.cross(x**x, fitd_fwhms, color=\"red\")\n",
    "# bokfwhm.line(xs, pfit[ipks], color=\"blue\",size=8)\n",
    "show(bokfwhm)"
   ]
  },
  {
   "cell_type": "code",
   "execution_count": 96,
   "metadata": {},
   "outputs": [
    {
     "data": {
      "text/plain": [
       "array([0.5       , 0.59482759, 0.68965517, 0.78448276, 0.87931034,\n",
       "       0.97413793, 1.06896552, 1.1637931 , 1.25862069, 1.35344828,\n",
       "       1.44827586, 1.54310345, 1.63793103, 1.73275862, 1.82758621,\n",
       "       1.92241379, 2.01724138, 2.11206897, 2.20689655, 2.30172414,\n",
       "       2.39655172, 2.49137931, 2.5862069 , 2.68103448, 2.77586207,\n",
       "       2.87068966, 2.96551724, 3.06034483, 3.15517241, 3.25      ])"
      ]
     },
     "execution_count": 96,
     "metadata": {},
     "output_type": "execute_result"
    }
   ],
   "source": [
    "widths/4"
   ]
  },
  {
   "cell_type": "code",
   "execution_count": null,
   "metadata": {},
   "outputs": [],
   "source": []
  },
  {
   "cell_type": "code",
   "execution_count": null,
   "metadata": {},
   "outputs": [],
   "source": []
  },
  {
   "cell_type": "code",
   "execution_count": null,
   "metadata": {},
   "outputs": [],
   "source": []
  },
  {
   "cell_type": "code",
   "execution_count": 97,
   "metadata": {},
   "outputs": [],
   "source": [
    "# Outro teste: mahximo do cwt no espectro inteiro em cada escala"
   ]
  },
  {
   "cell_type": "code",
   "execution_count": 98,
   "metadata": {},
   "outputs": [
    {
     "name": "stdout",
     "output_type": "stream",
     "text": [
      "30\n",
      "[25931.0324768  30074.12325138 33616.20949277 36950.72743028\n",
      " 39315.74479899 40897.97041785 41874.57915532 42395.27708054\n",
      " 42579.19193726 42517.98332848 42546.74197462 42458.29551199\n",
      " 42223.71910536 41882.80481787 41465.85220307 40995.8456224\n",
      " 40490.15143705 39961.88596254 39420.90278123 38907.5127376\n",
      " 38482.94414174 38042.36870472 37591.98457993 37136.61308909\n",
      " 36679.99301433 36225.02244215 35773.90325155 35328.32693\n",
      " 34889.55556144 34505.2778318 ]\n"
     ]
    }
   ],
   "source": [
    "maxs_escalas = np.max(cwtmatr,axis=1)\n",
    "print(len(maxs_escalas))\n",
    "print(maxs_escalas)"
   ]
  },
  {
   "cell_type": "code",
   "execution_count": 99,
   "metadata": {},
   "outputs": [
    {
     "name": "stdout",
     "output_type": "stream",
     "text": [
      "8\n",
      "42579.19193725838\n"
     ]
    },
    {
     "data": {
      "text/plain": [
       "5.0344827586206895"
      ]
     },
     "execution_count": 99,
     "metadata": {},
     "output_type": "execute_result"
    }
   ],
   "source": [
    "print(np.argmax(maxs_escalas))\n",
    "print(np.max(maxs_escalas))\n",
    "widths[np.argmax(maxs_escalas)]"
   ]
  },
  {
   "cell_type": "code",
   "execution_count": 100,
   "metadata": {},
   "outputs": [],
   "source": [
    "# Entao a soma maxima eh na escala 5.10, entre 4.48 e 5.72. Interessante. Visualmente, achei melhor pegar\n",
    "# essa mesmo.\n",
    "# 2019-09-17 Era, jah naum eh mais...\n",
    "# Agora eh 5.71, entre 5.45 e 5.98"
   ]
  },
  {
   "cell_type": "code",
   "execution_count": null,
   "metadata": {},
   "outputs": [],
   "source": []
  },
  {
   "cell_type": "raw",
   "metadata": {},
   "source": []
  },
  {
   "cell_type": "code",
   "execution_count": 101,
   "metadata": {},
   "outputs": [
    {
     "data": {
      "text/plain": [
       "[111,\n",
       " 151,\n",
       " 236,\n",
       " 270,\n",
       " 380,\n",
       " 391,\n",
       " 403,\n",
       " 442,\n",
       " 456,\n",
       " 656,\n",
       " 682,\n",
       " 694,\n",
       " 706,\n",
       " 718,\n",
       " 728,\n",
       " 756,\n",
       " 793,\n",
       " 812,\n",
       " 827,\n",
       " 875,\n",
       " 921,\n",
       " 943,\n",
       " 994,\n",
       " 1007,\n",
       " 1038,\n",
       " 1060,\n",
       " 1209,\n",
       " 1225,\n",
       " 1311,\n",
       " 1391,\n",
       " 1495,\n",
       " 1592,\n",
       " 1713,\n",
       " 1727,\n",
       " 1767,\n",
       " 1782,\n",
       " 1901,\n",
       " 1958,\n",
       " 1965,\n",
       " 1999,\n",
       " 2047,\n",
       " 2054,\n",
       " 2086,\n",
       " 2093,\n",
       " 2165,\n",
       " 2195,\n",
       " 2212,\n",
       " 2220,\n",
       " 2302,\n",
       " 2317,\n",
       " 2339,\n",
       " 2367,\n",
       " 2379,\n",
       " 2402,\n",
       " 2433,\n",
       " 2467,\n",
       " 2499,\n",
       " 2585,\n",
       " 2675,\n",
       " 2702,\n",
       " 2719,\n",
       " 2781,\n",
       " 2831,\n",
       " 2937,\n",
       " 2953,\n",
       " 3086,\n",
       " 3286,\n",
       " 3312,\n",
       " 3370,\n",
       " 3385,\n",
       " 3413,\n",
       " 3487,\n",
       " 3522,\n",
       " 3531,\n",
       " 3561,\n",
       " 3645,\n",
       " 3674,\n",
       " 3683,\n",
       " 3698,\n",
       " 3760,\n",
       " 3813,\n",
       " 3891,\n",
       " 3980,\n",
       " 4083,\n",
       " 4160,\n",
       " 4183,\n",
       " 4241,\n",
       " 4249,\n",
       " 4352,\n",
       " 4359,\n",
       " 4490,\n",
       " 4497,\n",
       " 4507,\n",
       " 4516,\n",
       " 4558,\n",
       " 4566,\n",
       " 4573,\n",
       " 4581,\n",
       " 4596,\n",
       " 4614,\n",
       " 4653,\n",
       " 4660,\n",
       " 4731,\n",
       " 4777,\n",
       " 4871,\n",
       " 4881,\n",
       " 4884,\n",
       " 4909,\n",
       " 4941,\n",
       " 4969,\n",
       " 4991,\n",
       " 5004,\n",
       " 5015,\n",
       " 5026,\n",
       " 5092,\n",
       " 5098,\n",
       " 5117,\n",
       " 5167,\n",
       " 5205,\n",
       " 5250,\n",
       " 5268,\n",
       " 5284,\n",
       " 5298,\n",
       " 5329,\n",
       " 5349,\n",
       " 5366,\n",
       " 5378,\n",
       " 5390,\n",
       " 5419,\n",
       " 5425,\n",
       " 5470,\n",
       " 5508,\n",
       " 5526,\n",
       " 5536,\n",
       " 5596,\n",
       " 5614,\n",
       " 5675,\n",
       " 5758,\n",
       " 5795,\n",
       " 5820,\n",
       " 5852,\n",
       " 5855,\n",
       " 5914,\n",
       " 5941,\n",
       " 5961,\n",
       " 5990,\n",
       " 6023,\n",
       " 6119,\n",
       " 6153,\n",
       " 6172,\n",
       " 6204,\n",
       " 6235,\n",
       " 6259,\n",
       " 6273,\n",
       " 6287,\n",
       " 6490,\n",
       " 6499,\n",
       " 6524,\n",
       " 6535,\n",
       " 6542,\n",
       " 6559,\n",
       " 6588,\n",
       " 6604,\n",
       " 6643,\n",
       " 6670,\n",
       " 6688,\n",
       " 6733,\n",
       " 6766,\n",
       " 6771,\n",
       " 6809,\n",
       " 6832,\n",
       " 6981,\n",
       " 7020,\n",
       " 7101,\n",
       " 7134,\n",
       " 7308,\n",
       " 7338,\n",
       " 7348,\n",
       " 7360,\n",
       " 7381,\n",
       " 7400,\n",
       " 7412,\n",
       " 7429,\n",
       " 7453,\n",
       " 7463,\n",
       " 7474,\n",
       " 7494,\n",
       " 7524,\n",
       " 7530,\n",
       " 7561,\n",
       " 7577,\n",
       " 7639,\n",
       " 7648,\n",
       " 7658,\n",
       " 7681,\n",
       " 7742,\n",
       " 7785,\n",
       " 7795,\n",
       " 7796,\n",
       " 7821,\n",
       " 7870,\n",
       " 7876,\n",
       " 7924,\n",
       " 7971,\n",
       " 7991,\n",
       " 8023,\n",
       " 8069,\n",
       " 8080,\n",
       " 8103,\n",
       " 8107,\n",
       " 8138,\n",
       " 8169,\n",
       " 8185,\n",
       " 744,\n",
       " 778,\n",
       " 2077,\n",
       " 3585,\n",
       " 3618,\n",
       " 4477,\n",
       " 4644,\n",
       " 4930,\n",
       " 5951,\n",
       " 6221,\n",
       " 6477,\n",
       " 6742,\n",
       " 7392,\n",
       " 7708,\n",
       " 8049,\n",
       " 8104,\n",
       " 2008,\n",
       " 2712,\n",
       " 5231,\n",
       " 6604,\n",
       " 6608,\n",
       " 8092,\n",
       " 6606,\n",
       " 7316,\n",
       " 4895,\n",
       " 5150,\n",
       " 7506,\n",
       " 2751,\n",
       " 5230,\n",
       " 7440,\n",
       " 844,\n",
       " 774,\n",
       " 4356,\n",
       " 7116,\n",
       " 844,\n",
       " 795,\n",
       " 120,\n",
       " 8106,\n",
       " 2448,\n",
       " 8182,\n",
       " 6671,\n",
       " 1202,\n",
       " 1200,\n",
       " 4909,\n",
       " 444,\n",
       " 1965,\n",
       " 2161]"
      ]
     },
     "execution_count": 101,
     "metadata": {},
     "output_type": "execute_result"
    }
   ],
   "source": [
    "xpk"
   ]
  },
  {
   "cell_type": "code",
   "execution_count": null,
   "metadata": {},
   "outputs": [],
   "source": []
  }
 ],
 "metadata": {
  "kernelspec": {
   "display_name": "Python 3",
   "language": "python",
   "name": "python3"
  },
  "language_info": {
   "codemirror_mode": {
    "name": "ipython",
    "version": 3
   },
   "file_extension": ".py",
   "mimetype": "text/x-python",
   "name": "python",
   "nbconvert_exporter": "python",
   "pygments_lexer": "ipython3",
   "version": "3.7.5"
  }
 },
 "nbformat": 4,
 "nbformat_minor": 4
}
