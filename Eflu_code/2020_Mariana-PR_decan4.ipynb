{
 "cells": [
  {
   "cell_type": "code",
   "execution_count": 1,
   "metadata": {},
   "outputs": [],
   "source": [
    "#!/usr/bin/env python3\n",
    "# -*- coding: utf-8 -*-\n",
    "\"\"\"\n",
    "Created on Sat Feb 22 10:40:56 2020\n",
    "\n",
    "@author: marcelo\n",
    "\n",
    "ar1:\n",
    "- array (nx,2), onde:\n",
    "    nx: n'umero total de picos em todas as escalas\n",
    "    x: 'indice do pico\n",
    "    ar1[x,0]: canal inteiro do pico\n",
    "    ar1[x,1]: valor da escala\n",
    "    \n",
    "xpk:\n",
    "- lista (nx), onde:\n",
    "    nx: numero de picos efetivos ap'os an'alise\n",
    "    x: canal inteiro do pico\n",
    "    \n",
    "ypk:\n",
    "- lista (nx), onde:\n",
    "    nx: numero de picos efetivos ap'os an'alise (= nx(xpk))\n",
    "    x: valor da escala\n",
    "\n",
    "\"\"\"\n",
    "\n",
    "import numpy as np\n",
    "\n",
    "from spectrum_analysis import (cwt_complete_analysis, gaussian_complete_analysis, cwt_calc_peaks)\n",
    "from teste_datas import (Spec)\n",
    "\n",
    "from machine_selection import set_screen_size_by_machine\n",
    "from bokeh.plotting import figure, output_file, output_notebook, show\n",
    "from bokeh.layouts import gridplot\n",
    "\n",
    "from bokeh import palettes"
   ]
  },
  {
   "cell_type": "code",
   "execution_count": 2,
   "metadata": {},
   "outputs": [],
   "source": [
    "# 2019-03-15\n",
    "# https://pandas.pydata.org/pandas-docs/stable/getting_started/10min.html\n",
    "import pandas as pd\n",
    "import csv"
   ]
  },
  {
   "cell_type": "code",
   "execution_count": 3,
   "metadata": {},
   "outputs": [],
   "source": [
    "# fn2 = '../Efluentes-gasosos/Filtros-espectros/2018/CTP/CTP2203-3.Chn'\n",
    "fn2 = '../Pesquisa/2020_Mariana_PR/2020_Mariana_PR_Espectros/decan4.IEC'"
   ]
  },
  {
   "cell_type": "code",
   "execution_count": 4,
   "metadata": {},
   "outputs": [
    {
     "name": "stdout",
     "output_type": "stream",
     "text": [
      "Erro de arquivo IEC !!!\n"
     ]
    },
    {
     "ename": "AttributeError",
     "evalue": "'Spec' object has no attribute 'spCounts'",
     "output_type": "error",
     "traceback": [
      "\u001b[0;31m---------------------------------------------------------------------------\u001b[0m",
      "\u001b[0;31mAttributeError\u001b[0m                            Traceback (most recent call last)",
      "\u001b[0;32m<ipython-input-4-2a0502e3a9bb>\u001b[0m in \u001b[0;36m<module>\u001b[0;34m\u001b[0m\n\u001b[1;32m      3\u001b[0m     \u001b[0mprint\u001b[0m \u001b[0;34m(\u001b[0m\u001b[0mspec2\u001b[0m\u001b[0;34m.\u001b[0m\u001b[0mspLngData\u001b[0m\u001b[0;34m)\u001b[0m\u001b[0;34m\u001b[0m\u001b[0;34m\u001b[0m\u001b[0m\n\u001b[1;32m      4\u001b[0m \u001b[0;34m\u001b[0m\u001b[0m\n\u001b[0;32m----> 5\u001b[0;31m \u001b[0mcounts\u001b[0m \u001b[0;34m=\u001b[0m \u001b[0mspec2\u001b[0m\u001b[0;34m.\u001b[0m\u001b[0mspCounts\u001b[0m\u001b[0;34m\u001b[0m\u001b[0;34m\u001b[0m\u001b[0m\n\u001b[0m\u001b[1;32m      6\u001b[0m \u001b[0mprint\u001b[0m\u001b[0;34m(\u001b[0m\u001b[0mlen\u001b[0m\u001b[0;34m(\u001b[0m\u001b[0mcounts\u001b[0m\u001b[0;34m)\u001b[0m\u001b[0;34m)\u001b[0m\u001b[0;34m\u001b[0m\u001b[0;34m\u001b[0m\u001b[0m\n\u001b[1;32m      7\u001b[0m \u001b[0;34m\u001b[0m\u001b[0m\n",
      "\u001b[0;31mAttributeError\u001b[0m: 'Spec' object has no attribute 'spCounts'"
     ]
    }
   ],
   "source": [
    "spec2 = Spec()\n",
    "if spec2.readSp( fn2 ) >= 0:\n",
    "    print (spec2.spLngData)\n",
    "    \n",
    "counts = spec2.spCounts\n",
    "print(len(counts))\n",
    "\n",
    "ret = cwt_complete_analysis(counts)\n",
    "# ret = gaussian_complete_analysis(counts)\n",
    "\n",
    "(xs, y0s, ar1, lblimag1, num_feat_imag1, ridges, xpks, ypks,\n",
    " ind_ypks, retang_indicess, peaks_masks, cwtpks, nscpks) = ret"
   ]
  },
  {
   "cell_type": "code",
   "execution_count": null,
   "metadata": {},
   "outputs": [],
   "source": [
    "# 2020-05-15 Espectros Mariana PR."
   ]
  },
  {
   "cell_type": "code",
   "execution_count": null,
   "metadata": {},
   "outputs": [],
   "source": []
  },
  {
   "cell_type": "code",
   "execution_count": null,
   "metadata": {},
   "outputs": [],
   "source": [
    "# Desativado:"
   ]
  },
  {
   "cell_type": "raw",
   "metadata": {},
   "source": [
    "# https://stackoverflow.com/questions/17098654/how-to-store-a-dataframe-using-pandas\n",
    "dfSpecFiles = pd.read_pickle('todos_si_specs.pkl')\n",
    "# dfSpecFiles = pd.read_pickle('todos_si2019_specs.pkl')\n",
    "dfSpecFiles"
   ]
  },
  {
   "cell_type": "raw",
   "metadata": {},
   "source": [
    "Máscaras:\n",
    "    # o pico deve aparecer em pelo menos nsca_det (default 5) escalas\n",
    "    nscpk_ma = ma.masked_less(nscpks, nsca_det)\n",
    "    # o coeficiente cwt deve ser >= min_cwtpk (default 30.0)\n",
    "    cwtpk_ma = ma.masked_less(cwtpks, min_cwtpk)\n",
    "    # o cwt m'aximo n~ao pode estar pr'oximo aos extremos do ridge\n",
    "    pospk_ma = ma.masked_where( False, valid_position_in_ridges )\n"
   ]
  },
  {
   "cell_type": "code",
   "execution_count": null,
   "metadata": {},
   "outputs": [],
   "source": [
    "(nscpk_ma, cwtpk_ma, pospk_ma) = peaks_masks\n",
    "valid_peaks = ~(cwtpk_ma.mask | nscpk_ma.mask | ~pospk_ma)"
   ]
  },
  {
   "cell_type": "code",
   "execution_count": null,
   "metadata": {},
   "outputs": [],
   "source": []
  },
  {
   "cell_type": "code",
   "execution_count": null,
   "metadata": {},
   "outputs": [],
   "source": [
    "default_plot_width, default_plot_height = set_screen_size_by_machine()\n",
    "\n",
    "# Bokeh graph w/ peaks in all scales\n",
    "\n",
    "# Gráfico de ridges com qualidade dos picos pelas cores e tamanhos:\n",
    "\n",
    "# Navy 2:     pontos dos ridgest\n",
    "# Vermelho 8: picos válidos\n",
    "# Laranja 8:  inválido, aparece em poucas escalas  \n",
    "# Verde 6:    inválido, muito pequeno (pelo coeficiente cwt)\n",
    "# Ciano 3:    inválido, forma ruim (cwt perto dos extremos do ridge)\n",
    "\n",
    "bokridges1 = figure(\n",
    "   plot_width =default_plot_width,\n",
    "   plot_height=int(default_plot_height*0.5),\n",
    "   tools=\"pan,box_zoom,reset,save\",\n",
    "   # x_axis_label='channels',\n",
    "   y_axis_label='scale',\n",
    "   title=fn2,\n",
    ")\n",
    "bokridges1.circle(ar1[:,0], ar1[:,1], color=\"navy\",size=2)\n",
    "bokridges1.circle(xpks[valid_peaks], ypks[valid_peaks], color=\"red\",size=8)\n",
    "bokridges1.circle(xpks[nscpk_ma.mask], ypks[nscpk_ma.mask], color=\"orange\",size=8)\n",
    "bokridges1.circle(xpks[cwtpk_ma.mask], ypks[cwtpk_ma.mask], color=\"green\",size=6)\n",
    "bokridges1.circle(xpks[~pospk_ma], ypks[~pospk_ma], color=\"cyan\",size=3)\n",
    "bokridges2 = figure(\n",
    "   plot_width =default_plot_width,\n",
    "   plot_height=int(default_plot_height*0.5),\n",
    "   tools=\"pan,box_zoom,reset,save\",\n",
    "   y_axis_type=\"log\", y_range=[1.0e1, 1.0e5],\n",
    "   x_axis_label='channels', y_axis_label='counts'\n",
    ")\n",
    "bokridges2.line(xs, y0s, color=\"green\")\n",
    "# https://docs.bokeh.org/en/latest/docs/reference/layouts.html\n",
    "p = gridplot([bokridges1, bokridges2], ncols=1)\n",
    "show(p)"
   ]
  },
  {
   "cell_type": "code",
   "execution_count": null,
   "metadata": {},
   "outputs": [],
   "source": [
    "valid_xpks = np.asarray(xpks)[valid_peaks]\n",
    "valid_xpks"
   ]
  },
  {
   "cell_type": "code",
   "execution_count": null,
   "metadata": {},
   "outputs": [],
   "source": [
    "valid_ypks = np.asarray(ypks)[valid_peaks]\n",
    "valid_ypks"
   ]
  },
  {
   "cell_type": "code",
   "execution_count": null,
   "metadata": {},
   "outputs": [],
   "source": [
    "valid_cwtpks = np.asarray(cwtpks)[valid_peaks]\n",
    "valid_cwtpks"
   ]
  },
  {
   "cell_type": "code",
   "execution_count": null,
   "metadata": {},
   "outputs": [],
   "source": [
    "xs"
   ]
  },
  {
   "cell_type": "code",
   "execution_count": null,
   "metadata": {},
   "outputs": [],
   "source": [
    "y0s"
   ]
  },
  {
   "cell_type": "code",
   "execution_count": null,
   "metadata": {},
   "outputs": [],
   "source": []
  },
  {
   "cell_type": "code",
   "execution_count": null,
   "metadata": {},
   "outputs": [],
   "source": [
    "step2 = cwt_calc_peaks(valid_xpks, valid_ypks, valid_cwtpks, xs, y0s)"
   ]
  },
  {
   "cell_type": "code",
   "execution_count": null,
   "metadata": {},
   "outputs": [],
   "source": [
    "xpks[pospk_ma]\n"
   ]
  },
  {
   "cell_type": "code",
   "execution_count": null,
   "metadata": {},
   "outputs": [],
   "source": []
  },
  {
   "cell_type": "code",
   "execution_count": null,
   "metadata": {},
   "outputs": [],
   "source": [
    "(azes, bezes, centrpk, ypkregs, fwhms, gau_areas, peak_constructed_spectrum,\n",
    "           baseline_spectrum, bl_median_smoother) = step2"
   ]
  },
  {
   "cell_type": "code",
   "execution_count": null,
   "metadata": {},
   "outputs": [],
   "source": [
    "azes"
   ]
  },
  {
   "cell_type": "code",
   "execution_count": null,
   "metadata": {},
   "outputs": [],
   "source": [
    "len(azes)"
   ]
  },
  {
   "cell_type": "code",
   "execution_count": null,
   "metadata": {},
   "outputs": [],
   "source": [
    "bezes"
   ]
  },
  {
   "cell_type": "code",
   "execution_count": null,
   "metadata": {},
   "outputs": [],
   "source": [
    "centrpk"
   ]
  },
  {
   "cell_type": "code",
   "execution_count": null,
   "metadata": {},
   "outputs": [],
   "source": [
    "#azes, bezes, centrpk, ypkregs, fwhms, gau_areas, peak_constructed_spectrum,\n",
    "#           baseline_spectrum, bl_median_smoother) = step2"
   ]
  },
  {
   "cell_type": "code",
   "execution_count": null,
   "metadata": {},
   "outputs": [],
   "source": [
    "bezes[0]"
   ]
  },
  {
   "cell_type": "code",
   "execution_count": null,
   "metadata": {},
   "outputs": [],
   "source": [
    "gau_areas"
   ]
  },
  {
   "cell_type": "code",
   "execution_count": null,
   "metadata": {},
   "outputs": [],
   "source": [
    "# 2020-02-24\n",
    "# Tudo em progresso! Agora:\n",
    "# - Fazer os gr'aficos\n",
    "# - fazer em v'arias passadas o c'alculo at'e n~ao haver picos na linha-base."
   ]
  },
  {
   "cell_type": "code",
   "execution_count": null,
   "metadata": {},
   "outputs": [],
   "source": [
    "# Bokeh graph w/ peaks in all scales\n",
    "bokpksallscl = figure(\n",
    "   plot_width =default_plot_width,\n",
    "   plot_height=default_plot_height,\n",
    "   tools=\"pan,box_zoom,reset,save\",\n",
    "   y_axis_type=\"log\",\n",
    "   y_range=[10**1, 10**5],\n",
    "   title=fn2,\n",
    "   # y_range=[-1000.0, 1000.0],\n",
    "   x_axis_label='channels', y_axis_label='counts'\n",
    ")\n",
    "# bokpksallscl.circle(ar1[:,0], ar1[:,1], legend_label=\"cwt peaks\", color=\"navy\",size=2)\n",
    "bokpksallscl.line(xs, y0s, color=\"green\")\n",
    "bokpksallscl.line(xs, peak_constructed_spectrum, color=\"red\")\n",
    "bokpksallscl.line(xs, bl_median_smoother, color=\"orange\")\n",
    "bokpksallscl.line(xs, peak_constructed_spectrum+bl_median_smoother, color=\"blue\")\n",
    "\n",
    "# bokpksallscl.cross(pk_per_scal[ 0], y0s[pk_per_scal[ 0]]*1.01, color=\"red\",size=2)\n",
    "show(bokpksallscl)"
   ]
  },
  {
   "cell_type": "code",
   "execution_count": null,
   "metadata": {},
   "outputs": [],
   "source": [
    "# Bokeh graph w/ peaks in all scales\n",
    "bok2 = figure(\n",
    "   plot_width =default_plot_width,\n",
    "   plot_height=default_plot_height,\n",
    "   tools=\"pan,box_zoom,reset,save\",\n",
    "   # y_axis_type=\"log\",\n",
    "   # y_range=[10**1, 10**5],\n",
    "   title=fn2,\n",
    "   # y_range=[-1000.0, 1000.0], title=\"synth\",\n",
    "   x_axis_label='channels', y_axis_label='counts'\n",
    ")\n",
    "# bokpksallscl.circle(ar1[:,0], ar1[:,1], legend_label=\"cwt peaks\", color=\"navy\",size=2)\n",
    "# bokpksallscl.line(xs, y0s, color=\"green\")\n",
    "bok2.line(xs, peak_constructed_spectrum, color=\"red\")\n",
    "# bokpksallscl.line(xs, bl_median_smoother, color=\"cyan\")\n",
    "# bokpksallscl.line(xs, peak_constructed_spectrum+bl_median_smoother, color=\"blue\")\n",
    "\n",
    "# bokpksallscl.cross(pk_per_scal[ 0], y0s[pk_per_scal[ 0]]*1.01, color=\"red\",size=2)\n",
    "show(bok2)"
   ]
  },
  {
   "cell_type": "code",
   "execution_count": null,
   "metadata": {},
   "outputs": [],
   "source": [
    "# 2020-02-25 Segunda passada:\n",
    "# 2020-05-15 Por enquanto deixarei desativada; mas posso fazer manualmente, bastando rodar\n",
    "#            as duas células seguintes e repetir o trecho que se inicia logo após\n",
    "#            a determinação de valid_peaks."
   ]
  },
  {
   "cell_type": "raw",
   "metadata": {},
   "source": [
    "ret2 = cwt_complete_analysis(bl_median_smoother)\n",
    "\n",
    "(xs, y0s, ar1, lblimag1, num_feat_imag1, ridges, xpks, ypks,\n",
    " ind_ypks, retang_indicess, peaks_masks, cwtpks, nscpks) = ret2"
   ]
  },
  {
   "cell_type": "raw",
   "metadata": {},
   "source": [
    "(nscpk_ma, cwtpk_ma, pospk_ma) = peaks_masks\n",
    "valid_peaks = ~(cwtpk_ma.mask | nscpk_ma.mask | ~pospk_ma)"
   ]
  },
  {
   "cell_type": "code",
   "execution_count": null,
   "metadata": {},
   "outputs": [],
   "source": []
  },
  {
   "cell_type": "code",
   "execution_count": null,
   "metadata": {},
   "outputs": [],
   "source": []
  },
  {
   "cell_type": "code",
   "execution_count": null,
   "metadata": {},
   "outputs": [],
   "source": [
    "# 2020-05-17 Continuando para cada espectro. Este é Decan4.iec"
   ]
  },
  {
   "cell_type": "code",
   "execution_count": null,
   "metadata": {},
   "outputs": [],
   "source": [
    "spec2.samDesc"
   ]
  },
  {
   "cell_type": "code",
   "execution_count": null,
   "metadata": {},
   "outputs": [],
   "source": [
    "print(spec2.spLVTime)"
   ]
  },
  {
   "cell_type": "code",
   "execution_count": null,
   "metadata": {},
   "outputs": [],
   "source": [
    "print(spec2.spRLTime)"
   ]
  },
  {
   "cell_type": "code",
   "execution_count": null,
   "metadata": {},
   "outputs": [],
   "source": [
    "print(spec2.diahora)"
   ]
  },
  {
   "cell_type": "code",
   "execution_count": null,
   "metadata": {},
   "outputs": [],
   "source": []
  }
 ],
 "metadata": {
  "kernelspec": {
   "display_name": "Python 3",
   "language": "python",
   "name": "python3"
  },
  "language_info": {
   "codemirror_mode": {
    "name": "ipython",
    "version": 3
   },
   "file_extension": ".py",
   "mimetype": "text/x-python",
   "name": "python",
   "nbconvert_exporter": "python",
   "pygments_lexer": "ipython3",
   "version": "3.7.7"
  }
 },
 "nbformat": 4,
 "nbformat_minor": 4
}
