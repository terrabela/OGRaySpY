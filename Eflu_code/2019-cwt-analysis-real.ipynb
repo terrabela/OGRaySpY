{
 "cells": [
  {
   "cell_type": "code",
   "execution_count": 1,
   "metadata": {},
   "outputs": [],
   "source": [
    "# -*- coding: utf-8 -*-\n",
    "\"\"\"\n",
    "Created on Sat Jun  2 11:09:55 2018\n",
    "\n",
    "@author: Marcelo\n",
    "\"\"\"\n",
    "\n",
    "import numpy as np\n",
    "import numpy.ma as ma  # masked array\n",
    "from machine_selection import set_screen_size_by_machine\n",
    "\n",
    "# 2019-03-15\n",
    "# https://pandas.pydata.org/pandas-docs/stable/getting_started/10min.html\n",
    "import pandas as pd\n",
    "import csv\n",
    "\n",
    "# 2019-03-09\n",
    "from teste_datas import (Spec)\n",
    "\n",
    "# 2019-09-16\n",
    "from gauss_funcs import gaus_fw, gaus_sig\n",
    "\n",
    "# 2019-07-15\n",
    "# https://docs.scipy.org/doc/numpy/reference/routines.polynomials.classes.html#basics\n",
    "from numpy.polynomial import Polynomial as P\n",
    "from numpy.polynomial.polynomial import (polyfit, polyval)\n",
    "\n",
    "from scipy.signal import (cwt, ricker, find_peaks, find_peaks_cwt, peak_widths)\n",
    "from scipy.ndimage import label, generate_binary_structure, find_objects  # 2019-09-18\n",
    "\n",
    "from scipy.optimize import (curve_fit, root)\n",
    "from scipy.stats import (iqr)\n",
    "from scipy.special import (expit)\n",
    "import base_line_funcs as blf\n",
    "import spectra_regions_funcs as spreg\n",
    "\n",
    "# from spectra_regions_funcs import (total_analysis2)\n",
    "import csv\n",
    "import pickle\n",
    "from bokeh.plotting import figure, output_file, output_notebook, show\n",
    "from bokeh import palettes\n",
    "\n",
    "# 2020-02-21\n",
    "from spectrum_analysis import cwt_complete_analysis"
   ]
  },
  {
   "cell_type": "code",
   "execution_count": 2,
   "metadata": {},
   "outputs": [],
   "source": [
    "default_plot_width, default_plot_height = set_screen_size_by_machine()"
   ]
  },
  {
   "cell_type": "code",
   "execution_count": 11,
   "metadata": {},
   "outputs": [
    {
     "data": {
      "text/plain": [
       "True"
      ]
     },
     "execution_count": 11,
     "metadata": {},
     "output_type": "execute_result"
    }
   ],
   "source": [
    "8 in range(8,10)"
   ]
  },
  {
   "cell_type": "code",
   "execution_count": 3,
   "metadata": {},
   "outputs": [],
   "source": [
    "# 2019-09-26 Importar calibra´c~ao em efici^encia de arquivo CSV "
   ]
  },
  {
   "cell_type": "code",
   "execution_count": 4,
   "metadata": {},
   "outputs": [],
   "source": [
    "effics = pd.read_csv('2019-sep-25 ALMERA Samples CSV.csv',decimal=',',header=None)"
   ]
  },
  {
   "cell_type": "code",
   "execution_count": 5,
   "metadata": {},
   "outputs": [
    {
     "data": {
      "text/html": [
       "<div>\n",
       "<style scoped>\n",
       "    .dataframe tbody tr th:only-of-type {\n",
       "        vertical-align: middle;\n",
       "    }\n",
       "\n",
       "    .dataframe tbody tr th {\n",
       "        vertical-align: top;\n",
       "    }\n",
       "\n",
       "    .dataframe thead th {\n",
       "        text-align: right;\n",
       "    }\n",
       "</style>\n",
       "<table border=\"1\" class=\"dataframe\">\n",
       "  <thead>\n",
       "    <tr style=\"text-align: right;\">\n",
       "      <th></th>\n",
       "      <th>0</th>\n",
       "      <th>1</th>\n",
       "      <th>2</th>\n",
       "    </tr>\n",
       "  </thead>\n",
       "  <tbody>\n",
       "    <tr>\n",
       "      <th>0</th>\n",
       "      <td>46.54</td>\n",
       "      <td>0.008256</td>\n",
       "      <td>0.026447</td>\n",
       "    </tr>\n",
       "    <tr>\n",
       "      <th>1</th>\n",
       "      <td>475.35</td>\n",
       "      <td>0.002822</td>\n",
       "      <td>0.045887</td>\n",
       "    </tr>\n",
       "    <tr>\n",
       "      <th>2</th>\n",
       "      <td>563.23</td>\n",
       "      <td>0.002291</td>\n",
       "      <td>0.013179</td>\n",
       "    </tr>\n",
       "    <tr>\n",
       "      <th>3</th>\n",
       "      <td>569.32</td>\n",
       "      <td>0.002218</td>\n",
       "      <td>0.010851</td>\n",
       "    </tr>\n",
       "    <tr>\n",
       "      <th>4</th>\n",
       "      <td>604.70</td>\n",
       "      <td>0.002068</td>\n",
       "      <td>0.006972</td>\n",
       "    </tr>\n",
       "    <tr>\n",
       "      <th>5</th>\n",
       "      <td>795.84</td>\n",
       "      <td>0.001672</td>\n",
       "      <td>0.007033</td>\n",
       "    </tr>\n",
       "    <tr>\n",
       "      <th>6</th>\n",
       "      <td>801.93</td>\n",
       "      <td>0.001743</td>\n",
       "      <td>0.013259</td>\n",
       "    </tr>\n",
       "    <tr>\n",
       "      <th>7</th>\n",
       "      <td>1038.57</td>\n",
       "      <td>0.001614</td>\n",
       "      <td>0.067092</td>\n",
       "    </tr>\n",
       "    <tr>\n",
       "      <th>8</th>\n",
       "      <td>1167.94</td>\n",
       "      <td>0.001424</td>\n",
       "      <td>0.037835</td>\n",
       "    </tr>\n",
       "    <tr>\n",
       "      <th>9</th>\n",
       "      <td>1365.15</td>\n",
       "      <td>0.001292</td>\n",
       "      <td>0.026036</td>\n",
       "    </tr>\n",
       "    <tr>\n",
       "      <th>10</th>\n",
       "      <td>661.66</td>\n",
       "      <td>0.002144</td>\n",
       "      <td>0.009625</td>\n",
       "    </tr>\n",
       "    <tr>\n",
       "      <th>11</th>\n",
       "      <td>834.83</td>\n",
       "      <td>0.001949</td>\n",
       "      <td>0.022191</td>\n",
       "    </tr>\n",
       "    <tr>\n",
       "      <th>12</th>\n",
       "      <td>810.78</td>\n",
       "      <td>0.002184</td>\n",
       "      <td>0.071074</td>\n",
       "    </tr>\n",
       "    <tr>\n",
       "      <th>13</th>\n",
       "      <td>1173.23</td>\n",
       "      <td>0.001370</td>\n",
       "      <td>0.010167</td>\n",
       "    </tr>\n",
       "    <tr>\n",
       "      <th>14</th>\n",
       "      <td>1332.50</td>\n",
       "      <td>0.001175</td>\n",
       "      <td>0.010148</td>\n",
       "    </tr>\n",
       "    <tr>\n",
       "      <th>15</th>\n",
       "      <td>364.48</td>\n",
       "      <td>0.003588</td>\n",
       "      <td>0.041225</td>\n",
       "    </tr>\n",
       "    <tr>\n",
       "      <th>16</th>\n",
       "      <td>81.00</td>\n",
       "      <td>0.007702</td>\n",
       "      <td>0.017107</td>\n",
       "    </tr>\n",
       "    <tr>\n",
       "      <th>17</th>\n",
       "      <td>276.40</td>\n",
       "      <td>0.003375</td>\n",
       "      <td>0.097986</td>\n",
       "    </tr>\n",
       "    <tr>\n",
       "      <th>18</th>\n",
       "      <td>302.85</td>\n",
       "      <td>0.003620</td>\n",
       "      <td>0.042400</td>\n",
       "    </tr>\n",
       "    <tr>\n",
       "      <th>19</th>\n",
       "      <td>356.02</td>\n",
       "      <td>0.003380</td>\n",
       "      <td>0.018095</td>\n",
       "    </tr>\n",
       "    <tr>\n",
       "      <th>20</th>\n",
       "      <td>383.85</td>\n",
       "      <td>0.003125</td>\n",
       "      <td>0.088448</td>\n",
       "    </tr>\n",
       "    <tr>\n",
       "      <th>21</th>\n",
       "      <td>59.54</td>\n",
       "      <td>0.007809</td>\n",
       "      <td>0.012295</td>\n",
       "    </tr>\n",
       "  </tbody>\n",
       "</table>\n",
       "</div>"
      ],
      "text/plain": [
       "          0         1         2\n",
       "0     46.54  0.008256  0.026447\n",
       "1    475.35  0.002822  0.045887\n",
       "2    563.23  0.002291  0.013179\n",
       "3    569.32  0.002218  0.010851\n",
       "4    604.70  0.002068  0.006972\n",
       "5    795.84  0.001672  0.007033\n",
       "6    801.93  0.001743  0.013259\n",
       "7   1038.57  0.001614  0.067092\n",
       "8   1167.94  0.001424  0.037835\n",
       "9   1365.15  0.001292  0.026036\n",
       "10   661.66  0.002144  0.009625\n",
       "11   834.83  0.001949  0.022191\n",
       "12   810.78  0.002184  0.071074\n",
       "13  1173.23  0.001370  0.010167\n",
       "14  1332.50  0.001175  0.010148\n",
       "15   364.48  0.003588  0.041225\n",
       "16    81.00  0.007702  0.017107\n",
       "17   276.40  0.003375  0.097986\n",
       "18   302.85  0.003620  0.042400\n",
       "19   356.02  0.003380  0.018095\n",
       "20   383.85  0.003125  0.088448\n",
       "21    59.54  0.007809  0.012295"
      ]
     },
     "execution_count": 5,
     "metadata": {},
     "output_type": "execute_result"
    }
   ],
   "source": [
    "effics"
   ]
  },
  {
   "cell_type": "code",
   "execution_count": 6,
   "metadata": {},
   "outputs": [],
   "source": [
    "# 2019-09-26 PAREY AKIH"
   ]
  },
  {
   "cell_type": "code",
   "execution_count": 7,
   "metadata": {},
   "outputs": [],
   "source": [
    "# 2019-09-26 Uma hora usarei isso: ler LibreOffice via Pandas!\n",
    "# pd.read_excel('path_to_file.ods', engine='odf')"
   ]
  },
  {
   "cell_type": "code",
   "execution_count": null,
   "metadata": {},
   "outputs": [],
   "source": []
  },
  {
   "cell_type": "code",
   "execution_count": 8,
   "metadata": {},
   "outputs": [
    {
     "data": {
      "text/plain": [
       "0.9041542662259198"
      ]
     },
     "execution_count": 8,
     "metadata": {},
     "output_type": "execute_result"
    }
   ],
   "source": [
    "# constante k: ver no Maxima: (sqrt(3)*6^(3/2))/(2^(3/2)*5^(5/4)*%pi^(1/4));\n",
    "k = (np.sqrt(3)*6**(3/2))/(2**(3/2)*5**(5/4)*np.pi**(1/4))\n",
    "k"
   ]
  },
  {
   "cell_type": "code",
   "execution_count": null,
   "metadata": {},
   "outputs": [],
   "source": []
  },
  {
   "cell_type": "code",
   "execution_count": 9,
   "metadata": {},
   "outputs": [
    {
     "data": {
      "text/plain": [
       "2.3548200450309493"
      ]
     },
     "execution_count": 9,
     "metadata": {},
     "output_type": "execute_result"
    }
   ],
   "source": [
    "kfwhm = 2*np.sqrt(2*np.log(2))\n",
    "kfwhm"
   ]
  },
  {
   "cell_type": "code",
   "execution_count": null,
   "metadata": {},
   "outputs": [],
   "source": []
  },
  {
   "cell_type": "raw",
   "metadata": {},
   "source": [
    "Funcao Ricker:\n",
    "A (1 - x^2/a^2) exp(-x^2/2 a^2), onde\n",
    "A = 2/sqrt(3a)pi^1/4\n",
    "Fazendo anahlise no Maxima, descobri que o fator de escala \"a\"\n",
    "ohtimo eh sigma*sqrt(5):\n"
   ]
  },
  {
   "cell_type": "raw",
   "metadata": {},
   "source": [
    "Lembrar que:\n",
    "sigma_experim = widthmax / np.sqrt(5)\n",
    "sigma_experim"
   ]
  },
  {
   "cell_type": "raw",
   "metadata": {},
   "source": [
    "Lembrar tambem que:\n",
    "gauss_height = k * max_escalas[imax] / np.sqrt(sigma_experim)\n",
    "gauss_height"
   ]
  },
  {
   "cell_type": "code",
   "execution_count": null,
   "metadata": {},
   "outputs": [],
   "source": []
  },
  {
   "cell_type": "raw",
   "metadata": {},
   "source": [
    "2019-07-15: Agora, fazer looping para todos os picos, sem definir regioes, nada disso:"
   ]
  },
  {
   "cell_type": "code",
   "execution_count": null,
   "metadata": {},
   "outputs": [],
   "source": []
  },
  {
   "cell_type": "code",
   "execution_count": 10,
   "metadata": {},
   "outputs": [],
   "source": [
    "def searchcwt(y0s, ipks, widths):\n",
    "    widthmaxes = np.ones_like(ipks,dtype=float)\n",
    "    sigmas_experim = np.ones_like(ipks,dtype=float)\n",
    "    gau_hights = np.ones_like(ipks,dtype=float)\n",
    "    k = (np.sqrt(3)*6**(3/2))/(2**(3/2)*5**(5/4)*np.pi**(1/4))\n",
    "    for enumpk, ipk in enumerate(ipks):\n",
    "        print('pico no canal ', ipk)\n",
    "        if (ipk>25) & (ipk<len(y0s)-35):\n",
    "            insca=1\n",
    "            fisca=len(widths)+1\n",
    "            newwidths=widths\n",
    "            for j in range(1,4):\n",
    "                print ('larguras:')\n",
    "                print(newwidths)\n",
    "                cwtmatr = cwt(y0s, ricker, newwidths)\n",
    "                # 2019-07-15 AQUI: defini janela ao redor do pico\n",
    "                # para analisar resultados de cwtmatr\n",
    "                max_escalas = np.max(cwtmatr[:,ipk-10:ipk+11],axis=1)\n",
    "                print ('max escalas:')\n",
    "                print(max_escalas)\n",
    "                imax = np.argmax(max_escalas)\n",
    "                print('imax:')\n",
    "                print(imax)\n",
    "                i0 = imax-3\n",
    "                if i0 < 0:\n",
    "                    i0 = 0\n",
    "                insca = newwidths[i0]\n",
    "                i1 = imax+3\n",
    "                if i1 >= len(newwidths):\n",
    "                    i1 = len(newwidths)-1\n",
    "                fisca = newwidths[i1]\n",
    "                newwidths = np.linspace(insca,fisca,num=30)\n",
    "            widthmaxes[enumpk] = newwidths[imax]\n",
    "            print('widthmax:')\n",
    "            print(widthmaxes[enumpk])\n",
    "            print('------')\n",
    "            sigmas_experim[enumpk] = widthmaxes[enumpk] / np.sqrt(5)\n",
    "            gau_hights[enumpk] = k * max_escalas[imax] / np.sqrt(sigmas_experim[enumpk])\n",
    "            print('gauss_height:')\n",
    "            print(gau_hights[enumpk])\n",
    "            print('sigma_experim:')\n",
    "            print(sigmas_experim[enumpk])\n",
    "            print('*******')\n",
    "        else:\n",
    "            print('pico extremo')\n",
    "    return sigmas_experim, gau_hights"
   ]
  },
  {
   "cell_type": "code",
   "execution_count": 11,
   "metadata": {},
   "outputs": [],
   "source": [
    "def searchcwt2(y0s, ipks, widths):\n",
    "    widthmaxes = np.ones_like(ipks,dtype=float)\n",
    "    sigmas_experim = np.ones_like(ipks,dtype=float)\n",
    "    gau_hights = np.ones_like(ipks,dtype=float)\n",
    "    k = (np.sqrt(3)*6**(3/2))/(2**(3/2)*5**(5/4)*np.pi**(1/4))\n",
    "    cwtmatr2 = cwt(y0s, ricker, widths)\n",
    "    return cwtmatr2"
   ]
  },
  {
   "cell_type": "code",
   "execution_count": 12,
   "metadata": {},
   "outputs": [],
   "source": [
    "# 2019-07-23:\n",
    "# Busca cwt usando escala movel obtida por ajuste fwhm x canal\n",
    "# O polinomio de ajuste fit eh passado como parahmetro \n",
    "def searchcwt_fix(y0s):\n",
    "    ipks_fix = []\n",
    "    for i in range(20, len(y0s)-20):\n",
    "        fff = find_peaks_cwt(y0s[i-10:i+11], [5.0])\n",
    "    ipks_fix.append(fff)\n",
    "    return ipks_fix"
   ]
  },
  {
   "cell_type": "code",
   "execution_count": 13,
   "metadata": {},
   "outputs": [
    {
     "name": "stdout",
     "output_type": "stream",
     "text": [
      "8192\n"
     ]
    }
   ],
   "source": [
    "fn2 = '../gamma/spectra/ALMERA-2017-3/ALM-17-3-#5_PreliA.IEC'\n",
    "spec2 = Spec()\n",
    "if spec2.readSp( fn2 ) >= 0:\n",
    "    print (spec2.spLngData)"
   ]
  },
  {
   "cell_type": "code",
   "execution_count": 14,
   "metadata": {},
   "outputs": [
    {
     "data": {
      "text/plain": [
       "8192"
      ]
     },
     "execution_count": 14,
     "metadata": {},
     "output_type": "execute_result"
    }
   ],
   "source": [
    "counts = spec2.spCounts\n",
    "len(counts)"
   ]
  },
  {
   "cell_type": "code",
   "execution_count": 15,
   "metadata": {},
   "outputs": [
    {
     "name": "stdout",
     "output_type": "stream",
     "text": [
      "(49, 14)\n",
      "(0, 0)\n",
      "(6, 1)\n",
      "(6, 1)\n",
      "(2, 1)\n",
      "(4, 5)\n",
      "(0, 1)\n",
      "(7, 0)\n",
      "(5, 0)\n",
      "(27, 0)\n",
      "(0, 1)\n",
      "(4, 1)\n",
      "(1, 0)\n",
      "(3, 0)\n",
      "(2, 0)\n",
      "(0, 1)\n",
      "(0, 0)\n",
      "(0, 0)\n",
      "(5, 1)\n",
      "(0, 1)\n",
      "(4, 1)\n",
      "(8, 1)\n",
      "(5, 0)\n",
      "(2, 1)\n",
      "(0, 0)\n",
      "(0, 0)\n",
      "(6, 3)\n",
      "(9, 1)\n",
      "(6, 1)\n",
      "(3, 0)\n",
      "(10, 1)\n",
      "(0, 0)\n",
      "(9, 0)\n",
      "(0, 0)\n",
      "(1, 0)\n",
      "(12, 1)\n",
      "(0, 0)\n",
      "(3, 0)\n",
      "(27, 1)\n",
      "(0, 1)\n",
      "(0, 0)\n",
      "(10, 1)\n",
      "(0, 0)\n",
      "(0, 0)\n",
      "(11, 1)\n",
      "(5, 0)\n",
      "(0, 0)\n",
      "(0, 1)\n",
      "(21, 3)\n",
      "(1, 0)\n",
      "(22, 1)\n",
      "(0, 0)\n",
      "(12, 1)\n",
      "(6, 1)\n",
      "(14, 2)\n",
      "(17, 1)\n",
      "(0, 0)\n",
      "(35, 1)\n",
      "(3, 0)\n",
      "(14, 1)\n",
      "(0, 0)\n",
      "(0, 1)\n",
      "(1, 0)\n",
      "(7, 1)\n",
      "(10, 1)\n",
      "(15, 1)\n",
      "(1, 0)\n",
      "(0, 1)\n",
      "(16, 0)\n",
      "(0, 1)\n",
      "(0, 0)\n",
      "(5, 1)\n",
      "(0, 0)\n",
      "(3, 1)\n",
      "(20, 1)\n",
      "(24, 1)\n",
      "(0, 1)\n",
      "(10, 1)\n",
      "(3, 0)\n",
      "(19, 0)\n",
      "(0, 0)\n",
      "(19, 1)\n",
      "(21, 1)\n",
      "(18, 0)\n",
      "(5, 1)\n",
      "(7, 2)\n",
      "(0, 0)\n",
      "(21, 1)\n",
      "(0, 1)\n",
      "(0, 0)\n",
      "(0, 0)\n",
      "(0, 0)\n",
      "(3, 0)\n",
      "(0, 0)\n",
      "(0, 0)\n",
      "(0, 1)\n",
      "(0, 0)\n",
      "(1, 0)\n",
      "(0, 0)\n",
      "(20, 1)\n",
      "(0, 1)\n",
      "(0, 0)\n",
      "(21, 1)\n",
      "(2, 1)\n",
      "(0, 0)\n",
      "(0, 0)\n",
      "(15, 1)\n",
      "(12, 2)\n",
      "(3, 0)\n",
      "(0, 0)\n",
      "(0, 0)\n",
      "(1, 0)\n",
      "(2, 0)\n",
      "(0, 0)\n",
      "(2, 1)\n",
      "(0, 1)\n",
      "(7, 1)\n",
      "(7, 0)\n",
      "(2, 1)\n",
      "(0, 0)\n",
      "(1, 0)\n",
      "(1, 0)\n",
      "(2, 1)\n",
      "(23, 1)\n",
      "(1, 0)\n",
      "(0, 0)\n",
      "(0, 1)\n",
      "(0, 1)\n",
      "(49, 1)\n",
      "(0, 0)\n",
      "(4, 1)\n",
      "(2, 1)\n",
      "(0, 0)\n",
      "(1, 0)\n",
      "(14, 1)\n",
      "(0, 0)\n",
      "(23, 1)\n",
      "(0, 0)\n",
      "(0, 0)\n",
      "(0, 0)\n",
      "(26, 2)\n",
      "(0, 0)\n",
      "(0, 0)\n",
      "(0, 0)\n",
      "(0, 1)\n",
      "(21, 2)\n",
      "(1, 0)\n",
      "(19, 2)\n",
      "(0, 0)\n",
      "(0, 1)\n",
      "(4, 1)\n",
      "(2, 0)\n",
      "(0, 1)\n",
      "(25, 1)\n",
      "(0, 0)\n",
      "(25, 1)\n",
      "(0, 0)\n",
      "(5, 0)\n",
      "(0, 1)\n",
      "(0, 0)\n",
      "(0, 0)\n",
      "(0, 0)\n",
      "(0, 0)\n",
      "(12, 3)\n",
      "(0, 0)\n",
      "(0, 0)\n",
      "(0, 1)\n",
      "(44, 6)\n",
      "(0, 0)\n",
      "(0, 2)\n",
      "(0, 0)\n",
      "(26, 1)\n",
      "(14, 1)\n",
      "(19, 2)\n",
      "(23, 1)\n",
      "(0, 0)\n",
      "(0, 0)\n",
      "(0, 1)\n",
      "(2, 2)\n",
      "(0, 1)\n",
      "(34, 1)\n",
      "(0, 1)\n",
      "(1, 0)\n",
      "(4, 4)\n",
      "(0, 1)\n",
      "(0, 0)\n",
      "(0, 0)\n",
      "(0, 0)\n",
      "(0, 0)\n",
      "(0, 1)\n",
      "(0, 0)\n",
      "(0, 1)\n",
      "(28, 0)\n",
      "(0, 0)\n",
      "(1, 0)\n",
      "(2, 1)\n",
      "(0, 0)\n",
      "(3, 1)\n",
      "(17, 1)\n",
      "(16, 0)\n",
      "(0, 0)\n",
      "(0, 0)\n",
      "(0, 1)\n",
      "(0, 0)\n",
      "(0, 0)\n",
      "(23, 1)\n",
      "(0, 0)\n",
      "(19, 1)\n",
      "(0, 0)\n",
      "(0, 0)\n",
      "(1, 1)\n",
      "(0, 0)\n",
      "(8, 0)\n",
      "(7, 0)\n",
      "(0, 0)\n",
      "(3, 1)\n",
      "(13, 2)\n",
      "(0, 0)\n",
      "(3, 0)\n",
      "(3, 1)\n",
      "(0, 0)\n",
      "(2, 1)\n",
      "(1, 1)\n",
      "(0, 0)\n",
      "(7, 1)\n",
      "(19, 2)\n",
      "(2, 1)\n",
      "(2, 0)\n",
      "(2, 0)\n",
      "(0, 0)\n",
      "(0, 0)\n",
      "(1, 0)\n",
      "(0, 0)\n",
      "(1, 0)\n",
      "(1, 0)\n",
      "(1, 1)\n",
      "(0, 0)\n",
      "(0, 0)\n",
      "(2, 1)\n",
      "(9, 0)\n",
      "(0, 0)\n",
      "(0, 0)\n",
      "(2, 0)\n",
      "(5, 1)\n",
      "(0, 0)\n",
      "(1, 0)\n",
      "(0, 0)\n",
      "(2, 0)\n",
      "(11, 1)\n",
      "(0, 0)\n",
      "(7, 1)\n",
      "(1, 0)\n",
      "(0, 1)\n",
      "(13, 1)\n",
      "(0, 0)\n",
      "(0, 0)\n",
      "(0, 1)\n",
      "(0, 0)\n",
      "(16, 1)\n"
     ]
    }
   ],
   "source": [
    "ar1, xpk, ypk, peak_constructed_spectrum, bl_median_smoother = cwt_complete_analysis(counts)"
   ]
  },
  {
   "cell_type": "code",
   "execution_count": 17,
   "metadata": {},
   "outputs": [],
   "source": [
    "# Bokeh graph w/ peaks in all scales\n",
    "bokridges = figure(\n",
    "   plot_width =default_plot_width,\n",
    "   plot_height=int(default_plot_height*0.4),\n",
    "   tools=\"pan,box_zoom,reset,save\",\n",
    "   # y_axis_type=\"log\",\n",
    "   # y_range=[10**1, 10**5], title=\"synth\",\n",
    "   # y_range=[-1000.0, 1000.0], title=\"synth\",\n",
    "   x_axis_label='channels', y_axis_label='counts'\n",
    ")\n",
    "bokridges.circle(ar1[:,0], ar1[:,1], legend_label=\"cwt peaks\", color=\"navy\",size=2)\n",
    "# bokridges.cross(pk_per_scal[ 0], y0s[pk_per_scal[ 0]]*1.01, color=\"red\",size=2)\n",
    "show(bokridges)"
   ]
  },
  {
   "cell_type": "code",
   "execution_count": 18,
   "metadata": {},
   "outputs": [],
   "source": [
    "xs = np.linspace(0,spec2.spLngData-1,spec2.spLngData)\n",
    "y0s = np.asarray(spec2.spCounts)"
   ]
  },
  {
   "cell_type": "code",
   "execution_count": 19,
   "metadata": {},
   "outputs": [],
   "source": [
    "# Bokeh graph w/ peaks in all scales\n",
    "bokpksallscl = figure(\n",
    "   plot_width =default_plot_width,\n",
    "   plot_height=default_plot_height,\n",
    "   tools=\"pan,box_zoom,reset,save\",\n",
    "    y_axis_type=\"log\",\n",
    "    y_range=[10**1, 10**5], title=\"real spec\",\n",
    "   # y_range=[-1000.0, 1000.0], title=\"synth\",\n",
    "   x_axis_label='channels', y_axis_label='counts'\n",
    ")\n",
    "# bokpksallscl.circle(ar1[:,0], ar1[:,1], legend_label=\"cwt peaks\", color=\"navy\",size=2)\n",
    "bokpksallscl.line(xs, y0s, color=\"green\")\n",
    "# bokpksallscl.cross(pk_per_scal[ 0], y0s[pk_per_scal[ 0]]*1.01, color=\"red\",size=2)\n",
    "show(bokpksallscl)"
   ]
  },
  {
   "cell_type": "code",
   "execution_count": 20,
   "metadata": {},
   "outputs": [],
   "source": [
    "# Bokeh graph w/ peaks in all scales\n",
    "bokpksallscl = figure(\n",
    "   plot_width =default_plot_width,\n",
    "   plot_height=default_plot_height,\n",
    "   tools=\"pan,box_zoom,reset,save\",\n",
    "    y_axis_type=\"log\",\n",
    "    y_range=[10**1, 10**5], title=\"real spec\",\n",
    "   # y_range=[-1000.0, 1000.0], title=\"synth\",\n",
    "   x_axis_label='channels', y_axis_label='counts'\n",
    ")\n",
    "# bokpksallscl.circle(ar1[:,0], ar1[:,1], legend_label=\"cwt peaks\", color=\"navy\",size=2)\n",
    "bokpksallscl.line(xs, y0s, color=\"green\")\n",
    "bokpksallscl.line(xs, peak_constructed_spectrum, color=\"red\")\n",
    "bokpksallscl.line(xs, bl_median_smoother, color=\"cyan\")\n",
    "bokpksallscl.line(xs, peak_constructed_spectrum+bl_median_smoother, color=\"blue\")\n",
    "\n",
    "# bokpksallscl.cross(pk_per_scal[ 0], y0s[pk_per_scal[ 0]]*1.01, color=\"red\",size=2)\n",
    "show(bokpksallscl)"
   ]
  },
  {
   "cell_type": "code",
   "execution_count": null,
   "metadata": {},
   "outputs": [],
   "source": []
  },
  {
   "cell_type": "code",
   "execution_count": 21,
   "metadata": {},
   "outputs": [
    {
     "data": {
      "text/plain": [
       "600"
      ]
     },
     "execution_count": 21,
     "metadata": {},
     "output_type": "execute_result"
    }
   ],
   "source": [
    "default_plot_height"
   ]
  },
  {
   "cell_type": "code",
   "execution_count": null,
   "metadata": {},
   "outputs": [],
   "source": []
  },
  {
   "cell_type": "code",
   "execution_count": 22,
   "metadata": {},
   "outputs": [
    {
     "ename": "NameError",
     "evalue": "name 'pararaqui' is not defined",
     "output_type": "error",
     "traceback": [
      "\u001b[0;31m---------------------------------------------------------------------------\u001b[0m",
      "\u001b[0;31mNameError\u001b[0m                                 Traceback (most recent call last)",
      "\u001b[0;32m<ipython-input-22-f18c4f0eaa6a>\u001b[0m in \u001b[0;36m<module>\u001b[0;34m\u001b[0m\n\u001b[0;32m----> 1\u001b[0;31m \u001b[0mpararaqui\u001b[0m\u001b[0;34m\u001b[0m\u001b[0;34m\u001b[0m\u001b[0m\n\u001b[0m",
      "\u001b[0;31mNameError\u001b[0m: name 'pararaqui' is not defined"
     ]
    }
   ],
   "source": [
    "pararaqui"
   ]
  },
  {
   "cell_type": "code",
   "execution_count": null,
   "metadata": {},
   "outputs": [],
   "source": [
    "# min_snr tem que ser menor\n",
    "# noise_perc tem que ser > 5 senao escapam muitos. Usar 7\n",
    "ipks2 = find_peaks_cwt(y0s,widths=[widths[1]],wavelet=ricker,max_distances=widths/4,min_snr=1.0,noise_perc=10)\n",
    "ipks2"
   ]
  },
  {
   "cell_type": "code",
   "execution_count": null,
   "metadata": {},
   "outputs": [],
   "source": [
    "len(ipks2)"
   ]
  },
  {
   "cell_type": "code",
   "execution_count": null,
   "metadata": {},
   "outputs": [],
   "source": [
    "# Separando os picos por escala:\n",
    "pk_per_scal = []\n",
    "for wid in widths:\n",
    "    print (wid)\n",
    "    pk_per_scal.append(find_peaks_cwt(y0s,widths=[wid],wavelet=ricker,max_distances=widths/4,min_snr=1.0,noise_perc=10))\n",
    "    print(pk_per_scal[-1])"
   ]
  },
  {
   "cell_type": "code",
   "execution_count": null,
   "metadata": {},
   "outputs": [],
   "source": [
    "# Bokeh graph w/ peaks in all scales\n",
    "bokpksallscl = figure(\n",
    "   plot_width =default_plot_width,\n",
    "   plot_height=default_plot_height,\n",
    "   tools=\"pan,box_zoom,reset,save\",\n",
    "   # y_axis_type=\"log\",\n",
    "   # y_range=[10**1, 10**5], title=\"synth\",\n",
    "   # y_range=[-1000.0, 1000.0], title=\"synth\",\n",
    "   x_axis_label='channels', y_axis_label='counts'\n",
    ")\n",
    "bokpksallscl.circle(ar1[:,0], ar1[:,1], legend=\"cwt peaks\", color=\"navy\",size=2)\n",
    "# bokpksallscl.line(xs, y0s, color=\"lightgreen\")\n",
    "# bokpksallscl.cross(pk_per_scal[ 0], y0s[pk_per_scal[ 0]]*1.01, color=\"red\",size=2)\n",
    "show(bokpksallscl)"
   ]
  },
  {
   "cell_type": "code",
   "execution_count": null,
   "metadata": {},
   "outputs": [],
   "source": [
    "stru_diag_also = generate_binary_structure(2,2)\n",
    "stru_diag_also"
   ]
  },
  {
   "cell_type": "code",
   "execution_count": null,
   "metadata": {},
   "outputs": [],
   "source": [
    "lblimag1, num_feat_imag1 = label(imag1,stru_diag_also)\n",
    "lblimag1, num_feat_imag1"
   ]
  },
  {
   "cell_type": "code",
   "execution_count": null,
   "metadata": {},
   "outputs": [],
   "source": []
  },
  {
   "cell_type": "code",
   "execution_count": null,
   "metadata": {},
   "outputs": [],
   "source": [
    "# Finally, the ridges delimited all over the spectrum\n",
    "ridges = find_objects(lblimag1)\n",
    "ridges"
   ]
  },
  {
   "cell_type": "code",
   "execution_count": null,
   "metadata": {},
   "outputs": [],
   "source": [
    "ridges_rectangles = [lblimag1[loc] for loc in ridges]\n",
    "ridges_rectangles"
   ]
  },
  {
   "cell_type": "code",
   "execution_count": null,
   "metadata": {},
   "outputs": [],
   "source": [
    "# 2019-09-18 Parei Aqqui"
   ]
  },
  {
   "cell_type": "code",
   "execution_count": null,
   "metadata": {},
   "outputs": [],
   "source": []
  },
  {
   "cell_type": "code",
   "execution_count": null,
   "metadata": {},
   "outputs": [],
   "source": []
  },
  {
   "cell_type": "code",
   "execution_count": null,
   "metadata": {},
   "outputs": [],
   "source": [
    "retang2 = ma.masked_where(lblchoice!=0,cwtchoice)\n",
    "maxim2 = np.max(retang2)\n",
    "maxim2"
   ]
  },
  {
   "cell_type": "code",
   "execution_count": null,
   "metadata": {},
   "outputs": [],
   "source": [
    "retang3 = ma.masked_where(lblchoice!=3,cwtchoice)\n",
    "maxim3 = np.max(retang3)\n",
    "maxim3"
   ]
  },
  {
   "cell_type": "code",
   "execution_count": null,
   "metadata": {},
   "outputs": [],
   "source": [
    "retang3"
   ]
  },
  {
   "cell_type": "code",
   "execution_count": null,
   "metadata": {},
   "outputs": [],
   "source": [
    "np.argmax(retang2)"
   ]
  },
  {
   "cell_type": "code",
   "execution_count": null,
   "metadata": {},
   "outputs": [],
   "source": [
    "np.argmax(retang3)"
   ]
  },
  {
   "cell_type": "code",
   "execution_count": null,
   "metadata": {},
   "outputs": [],
   "source": []
  },
  {
   "cell_type": "code",
   "execution_count": null,
   "metadata": {},
   "outputs": [],
   "source": [
    "np.argmax(retang3,axis=0)"
   ]
  },
  {
   "cell_type": "code",
   "execution_count": null,
   "metadata": {},
   "outputs": [],
   "source": [
    "np.argmax(retang3,axis=1)"
   ]
  },
  {
   "cell_type": "code",
   "execution_count": null,
   "metadata": {},
   "outputs": [],
   "source": [
    "# 2019-09-19 Fica muito confuso usar os mahximos nos eixos. Melhor usar indice flatten\n",
    "# e depois converter para ihndice estrutural (unravel). Deu certo!\n",
    "#                                                             |\n",
    "#                                                             |\n",
    "#                                                             v"
   ]
  },
  {
   "cell_type": "code",
   "execution_count": null,
   "metadata": {},
   "outputs": [],
   "source": [
    "np.argmax(retang3)"
   ]
  },
  {
   "cell_type": "code",
   "execution_count": null,
   "metadata": {},
   "outputs": [],
   "source": [
    "ind_retang = np.argmax(retang3)\n",
    "np.unravel_index(ind_retang,np.shape(retang3))"
   ]
  },
  {
   "cell_type": "code",
   "execution_count": null,
   "metadata": {},
   "outputs": [],
   "source": [
    "# 2019-09-22 Agora, fazendo o loop:\n",
    "\n",
    "np.unravel_index(37,np.shape(retang3))"
   ]
  },
  {
   "cell_type": "code",
   "execution_count": null,
   "metadata": {},
   "outputs": [],
   "source": []
  },
  {
   "cell_type": "code",
   "execution_count": null,
   "metadata": {},
   "outputs": [],
   "source": []
  },
  {
   "cell_type": "code",
   "execution_count": null,
   "metadata": {},
   "outputs": [],
   "source": []
  },
  {
   "cell_type": "code",
   "execution_count": null,
   "metadata": {},
   "outputs": [],
   "source": []
  },
  {
   "cell_type": "code",
   "execution_count": null,
   "metadata": {},
   "outputs": [],
   "source": []
  },
  {
   "cell_type": "code",
   "execution_count": null,
   "metadata": {},
   "outputs": [],
   "source": []
  },
  {
   "cell_type": "code",
   "execution_count": null,
   "metadata": {},
   "outputs": [],
   "source": []
  },
  {
   "cell_type": "raw",
   "metadata": {},
   "source": [
    "Tinha parado aqui em julho/2019: parei aqui. Agora, usar a expressao para obter todas as alturas de pico por meio da cwt.\n",
    "Mas eh bom verificar com espectros sintehticos com ruihdo e com linhas base com diversas caracterihsticas (com degrau, com forte inclinacao etc)\n",
    "\n",
    "2019-07-15: Funciona perfeitamente com degrau e alta linha base!!!!"
   ]
  },
  {
   "cell_type": "code",
   "execution_count": null,
   "metadata": {},
   "outputs": [],
   "source": []
  },
  {
   "cell_type": "code",
   "execution_count": null,
   "metadata": {},
   "outputs": [],
   "source": []
  },
  {
   "cell_type": "code",
   "execution_count": null,
   "metadata": {},
   "outputs": [],
   "source": []
  },
  {
   "cell_type": "code",
   "execution_count": null,
   "metadata": {},
   "outputs": [],
   "source": []
  },
  {
   "cell_type": "code",
   "execution_count": null,
   "metadata": {},
   "outputs": [],
   "source": []
  },
  {
   "cell_type": "code",
   "execution_count": null,
   "metadata": {},
   "outputs": [],
   "source": []
  },
  {
   "cell_type": "code",
   "execution_count": null,
   "metadata": {},
   "outputs": [],
   "source": []
  },
  {
   "cell_type": "code",
   "execution_count": null,
   "metadata": {},
   "outputs": [],
   "source": [
    "scalmaxima = np.argmax(cwtmatr[:,pkchoice])\n",
    "scalmaxima"
   ]
  },
  {
   "cell_type": "code",
   "execution_count": null,
   "metadata": {},
   "outputs": [],
   "source": [
    "escalamaxima = widths[scalmaxima]\n",
    "escalamaxima"
   ]
  },
  {
   "cell_type": "code",
   "execution_count": null,
   "metadata": {},
   "outputs": [],
   "source": [
    "cwtmax=cwtmatr[scalmaxima,pkchoice]\n",
    "cwtmax"
   ]
  },
  {
   "cell_type": "code",
   "execution_count": null,
   "metadata": {},
   "outputs": [],
   "source": [
    "xpico = np.array(range(pkchoice-5,pkchoice+6))\n",
    "xpico"
   ]
  },
  {
   "cell_type": "code",
   "execution_count": null,
   "metadata": {},
   "outputs": [],
   "source": [
    "ypico = y0s[xpico]\n",
    "ypico"
   ]
  },
  {
   "cell_type": "code",
   "execution_count": null,
   "metadata": {},
   "outputs": [],
   "source": [
    "ypicocwt = cwtmatr[scalmaxima,xpico]\n",
    "ypicocwt"
   ]
  },
  {
   "cell_type": "code",
   "execution_count": null,
   "metadata": {},
   "outputs": [],
   "source": [
    "maxcwt = np.max(ypicocwt)\n",
    "maxcwt"
   ]
  },
  {
   "cell_type": "code",
   "execution_count": null,
   "metadata": {},
   "outputs": [],
   "source": [
    "centroide = np.average(xpico[4:7],weights=ma.masked_less(ypico[4:7],0))\n",
    "centroide"
   ]
  },
  {
   "cell_type": "code",
   "execution_count": null,
   "metadata": {},
   "outputs": [],
   "source": [
    "centroide = np.average(xpico[4:7],weights=ypico[4:7])\n",
    "centroide"
   ]
  },
  {
   "cell_type": "code",
   "execution_count": null,
   "metadata": {},
   "outputs": [],
   "source": []
  },
  {
   "cell_type": "code",
   "execution_count": null,
   "metadata": {},
   "outputs": [],
   "source": [
    "centroidecwt1 = np.average(xpico,weights=ma.masked_less(ypicocwt,0))\n",
    "centroidecwt1"
   ]
  },
  {
   "cell_type": "code",
   "execution_count": null,
   "metadata": {},
   "outputs": [],
   "source": [
    "centroidecwt2 = np.average(xpico,weights=ypicocwt)\n",
    "centroidecwt2"
   ]
  },
  {
   "cell_type": "code",
   "execution_count": null,
   "metadata": {},
   "outputs": [],
   "source": []
  },
  {
   "cell_type": "code",
   "execution_count": null,
   "metadata": {},
   "outputs": [],
   "source": [
    "kfwhm = 2*np.sqrt(2*np.log(2))\n",
    "kfwhm"
   ]
  },
  {
   "cell_type": "code",
   "execution_count": null,
   "metadata": {},
   "outputs": [],
   "source": []
  },
  {
   "cell_type": "raw",
   "metadata": {},
   "source": [
    "Funcao Ricker:\n",
    "A (1 - x^2/a^2) exp(-x^2/2 a^2), onde\n",
    "A = 2/sqrt(3a)pi^1/4\n",
    "Fazendo anahlise no Maxima, descobri que o fator de escala \"a\"\n",
    "ohtimo eh sigma*sqrt(5):\n"
   ]
  },
  {
   "cell_type": "raw",
   "metadata": {},
   "source": [
    "Lembrar que:\n",
    "sigma_experim = widthmax / np.sqrt(5)\n",
    "sigma_experim"
   ]
  },
  {
   "cell_type": "raw",
   "metadata": {},
   "source": [
    "Lembrar tambem que:\n",
    "gauss_height = k * max_escalas[imax] / np.sqrt(sigma_experim)\n",
    "gauss_height"
   ]
  },
  {
   "cell_type": "code",
   "execution_count": null,
   "metadata": {},
   "outputs": [],
   "source": []
  },
  {
   "cell_type": "code",
   "execution_count": null,
   "metadata": {},
   "outputs": [],
   "source": [
    "# escala = sigma * raiz(5)"
   ]
  },
  {
   "cell_type": "code",
   "execution_count": null,
   "metadata": {},
   "outputs": [],
   "source": [
    "sigmamaximo = escalamaxima / np.sqrt(5)\n",
    "sigmamaximo"
   ]
  },
  {
   "cell_type": "code",
   "execution_count": null,
   "metadata": {},
   "outputs": [],
   "source": [
    "tressigma = 3*sigmamaximo\n",
    "tressigma"
   ]
  },
  {
   "cell_type": "code",
   "execution_count": null,
   "metadata": {},
   "outputs": [],
   "source": [
    "gau_hei = k * maxcwt / np.sqrt(sigmamaximo)\n",
    "gau_hei"
   ]
  },
  {
   "cell_type": "code",
   "execution_count": null,
   "metadata": {},
   "outputs": [],
   "source": [
    "# Estah deslocado com centroidecwt1!\n",
    "# ypicofit = gaus_sig(xpicofit,sigma3,gau_hei,centroidecwt1)\n",
    "ypicofit = gaus_sig(xpicofit,sigmamaximo,gau_hei,centroide)\n",
    "ypicofit"
   ]
  },
  {
   "cell_type": "code",
   "execution_count": null,
   "metadata": {},
   "outputs": [],
   "source": [
    "ypicofitcanal = gaus_sig(xpico,sigmamaximo,gau_hei,centroide-0.3)\n",
    "ypicofitcanal"
   ]
  },
  {
   "cell_type": "code",
   "execution_count": null,
   "metadata": {},
   "outputs": [],
   "source": [
    "subtracao = ypico - ypicofitcanal\n",
    "subtracao"
   ]
  },
  {
   "cell_type": "code",
   "execution_count": null,
   "metadata": {},
   "outputs": [],
   "source": []
  },
  {
   "cell_type": "code",
   "execution_count": null,
   "metadata": {},
   "outputs": [],
   "source": [
    "bokumpico = figure(\n",
    "   plot_width =default_plot_width,\n",
    "   plot_height=default_plot_height,\n",
    "   tools=\"pan,box_zoom,reset,save\",\n",
    "   # y_range=[10**1, 10**5], title=\"synth\",\n",
    "   # y_range=[-1000.0, 1000.0], title=\"synth\",\n",
    "   x_axis_label='channels', y_axis_label='counts'\n",
    ")\n",
    "bokumpico.circle(xpico, ypico, legend=\"counts\", color=\"blue\",size=4)\n",
    "bokumpico.line(xpico, ypicofitcanal, color=\"lightgreen\")\n",
    "bokumpico.line(xpico, subtracao, color=\"brown\")\n",
    "show(bokumpico)"
   ]
  },
  {
   "cell_type": "code",
   "execution_count": null,
   "metadata": {},
   "outputs": [],
   "source": []
  },
  {
   "cell_type": "code",
   "execution_count": null,
   "metadata": {},
   "outputs": [],
   "source": []
  },
  {
   "cell_type": "raw",
   "metadata": {},
   "source": [
    "2019-09-17 Desativado por enquanto"
   ]
  },
  {
   "cell_type": "raw",
   "metadata": {
    "jupyter": {
     "outputs_hidden": true
    }
   },
   "source": [
    "sigmas_experim, gau_hights = searchcwt(y0s,ipks,widths)\n",
    "sigmas_experim, gau_hights"
   ]
  },
  {
   "cell_type": "code",
   "execution_count": null,
   "metadata": {},
   "outputs": [],
   "source": [
    "x = np.sqrt(ipks)"
   ]
  },
  {
   "cell_type": "code",
   "execution_count": null,
   "metadata": {},
   "outputs": [],
   "source": [
    "sigmas_experim, gau_hights"
   ]
  },
  {
   "cell_type": "code",
   "execution_count": null,
   "metadata": {},
   "outputs": [],
   "source": [
    "len(sigmas_experim)"
   ]
  },
  {
   "cell_type": "code",
   "execution_count": null,
   "metadata": {},
   "outputs": [],
   "source": [
    "len(gau_hights)"
   ]
  },
  {
   "cell_type": "code",
   "execution_count": null,
   "metadata": {},
   "outputs": [],
   "source": []
  },
  {
   "cell_type": "code",
   "execution_count": null,
   "metadata": {},
   "outputs": [],
   "source": []
  },
  {
   "cell_type": "code",
   "execution_count": null,
   "metadata": {},
   "outputs": [],
   "source": [
    "xcp = np.copy(x)\n",
    "fwhms = kfwhm * sigmas_experim\n",
    "ycp = np.copy(fwhms)\n",
    "sycp = np.sqrt(gau_hights)**ycp\n",
    "\n",
    "c, stats = polyfit(xcp,ycp,1,full=True,w=sycp)\n",
    "pfit = P(c)\n",
    "print(pfit)\n",
    "x_gr = np.linspace(xcp[0], xcp[-1])\n",
    "y_gr = pfit(x_gr)\n",
    "ch_gr = x_gr**2\n",
    "yfit = pfit(x)\n",
    "\n",
    "mask = [(i>3.0) & (i<12.0) for i in ycp]\n",
    "\n",
    "xcp=xcp[mask]\n",
    "ycp=ycp[mask]\n",
    "sycp=sycp[mask]\n",
    "\n",
    "c, stats = polyfit(xcp,ycp,1,full=True,w=sycp)\n",
    "# c, stats = polyfit(xcp,ycp,1,full=True)\n",
    "pfit = P(c)\n",
    "print(pfit)\n",
    "x_gr = np.linspace(xcp[0], xcp[-1])\n",
    "y_gr = pfit(x_gr)\n",
    "ch_gr = x_gr**2\n",
    "yfit = pfit(x)\n",
    "\n",
    "p01 = figure(\n",
    "   plot_width =default_plot_width,\n",
    "   plot_height=default_plot_height,\n",
    "   tools=\"pan,box_zoom,reset,save\",\n",
    "   # y_axis_type=\"log\",\n",
    "   y_range=[0.0, 25.0], title=\"Plot #1: fwhms\",\n",
    "   x_axis_label='ch', y_axis_label='fwhm'\n",
    ")\n",
    "p01.circle(ipks, fwhms, legend=\"fwhm\", color=\"blue\",size=4)\n",
    "p01.line(ch_gr, y_gr, color=\"green\", legend=\"y_gr\")\n",
    "show(p01)"
   ]
  },
  {
   "cell_type": "code",
   "execution_count": null,
   "metadata": {},
   "outputs": [],
   "source": [
    "pfit"
   ]
  },
  {
   "cell_type": "code",
   "execution_count": null,
   "metadata": {},
   "outputs": [],
   "source": [
    "1 & 1"
   ]
  },
  {
   "cell_type": "code",
   "execution_count": null,
   "metadata": {},
   "outputs": [],
   "source": []
  },
  {
   "cell_type": "code",
   "execution_count": null,
   "metadata": {},
   "outputs": [],
   "source": []
  },
  {
   "cell_type": "code",
   "execution_count": null,
   "metadata": {},
   "outputs": [],
   "source": []
  },
  {
   "cell_type": "code",
   "execution_count": null,
   "metadata": {},
   "outputs": [],
   "source": []
  },
  {
   "cell_type": "code",
   "execution_count": null,
   "metadata": {},
   "outputs": [],
   "source": [
    "# Coeficientes de a0 a an\n",
    "# residuals  array...: \n",
    "\n",
    "# coef : ndarray, shape (deg + 1,) or (deg + 1, K)\n",
    "#  Polynomial coefficients ordered from low to high. If y was 2-D, the coefficients in column k of coef\n",
    "# represent the polynomial fit to the data in y’s k-th column.\n",
    "# [residuals, rank, singular_values, rcond] : list\n",
    "# These values are only returned if full = True\n",
    "# resid – sum of squared residuals of the least squares fit\n",
    "# rank – the numerical rank of the scaled Vandermonde matrix\n",
    "# sv – singular values of the scaled Vandermonde matrix\n",
    "# rcond – value of rcond.\n",
    "#"
   ]
  },
  {
   "cell_type": "code",
   "execution_count": null,
   "metadata": {},
   "outputs": [],
   "source": [
    "xcp"
   ]
  },
  {
   "cell_type": "code",
   "execution_count": null,
   "metadata": {},
   "outputs": [],
   "source": [
    "ycp"
   ]
  },
  {
   "cell_type": "code",
   "execution_count": null,
   "metadata": {},
   "outputs": [],
   "source": [
    "fitd_fwhms = pfit(xcp)\n",
    "fitd_fwhms"
   ]
  },
  {
   "cell_type": "code",
   "execution_count": null,
   "metadata": {},
   "outputs": [],
   "source": []
  },
  {
   "cell_type": "code",
   "execution_count": null,
   "metadata": {},
   "outputs": [],
   "source": []
  },
  {
   "cell_type": "code",
   "execution_count": null,
   "metadata": {},
   "outputs": [],
   "source": [
    "bokspec2 = figure(\n",
    "   plot_width =default_plot_width,\n",
    "   plot_height=default_plot_height,\n",
    "   tools=\"pan,box_zoom,reset,save\",\n",
    "   y_axis_type=\"log\",\n",
    "   y_range=[10**1, 10**5], title=\"ALMERA?\",\n",
    "   # y_range=[-1000.0, 1000.0], title=\"synth\",\n",
    "   x_axis_label='channels', y_axis_label='counts'\n",
    ")\n",
    "bokspec.circle(xs, y0s, legend=\"counts\", color=\"lightblue\",size=4)\n",
    "bokspec.line(xs, y0s, color=\"lightgreen\")\n",
    "#bokspec.cross(pk_per_scal[ 0], y0s[pk_per_scal[ 0]]*1.01, color=\"red\",size=2)\n",
    "#bokspec.cross(pk_per_scal[ 1], y0s[pk_per_scal[ 1]]*1.01**2, color=\"orange\",size=4)\n",
    "#bokspec.cross(pk_per_scal[ 3], y0s[pk_per_scal[ 3]]*1.01**3, color=\"brown\",size=6)\n",
    "#bokspec.cross(pk_per_scal[ 5], y0s[pk_per_scal[ 5]]*1.01**4, color=\"green\",size=16)\n",
    "#bokspec.cross(pk_per_scal[ 8], y0s[pk_per_scal[ 8]]*1.01**5, color=\"cyan\",size=10)\n",
    "#bokspec.cross(pk_per_scal[12], y0s[pk_per_scal[12]]*1.01**6, color=\"blue\",size=12)\n",
    "#bokspec.cross(pk_per_scal[15], y0s[pk_per_scal[15]]*1.01**7, color=\"magenta\",size=14)\n",
    "#bokspec.cross(pk_per_scal[20], y0s[pk_per_scal[20]]*1.01**8, color=\"violet\",size=16)\n",
    "show(bokspec2)"
   ]
  },
  {
   "cell_type": "code",
   "execution_count": null,
   "metadata": {},
   "outputs": [],
   "source": []
  },
  {
   "cell_type": "code",
   "execution_count": null,
   "metadata": {},
   "outputs": [],
   "source": []
  },
  {
   "cell_type": "code",
   "execution_count": null,
   "metadata": {},
   "outputs": [],
   "source": []
  },
  {
   "cell_type": "code",
   "execution_count": null,
   "metadata": {},
   "outputs": [],
   "source": [
    "# 2019-09-13 PAREi AQUI!!"
   ]
  },
  {
   "cell_type": "code",
   "execution_count": null,
   "metadata": {},
   "outputs": [],
   "source": []
  },
  {
   "cell_type": "code",
   "execution_count": null,
   "metadata": {},
   "outputs": [],
   "source": []
  },
  {
   "cell_type": "code",
   "execution_count": null,
   "metadata": {},
   "outputs": [],
   "source": []
  },
  {
   "cell_type": "code",
   "execution_count": null,
   "metadata": {},
   "outputs": [],
   "source": []
  },
  {
   "cell_type": "code",
   "execution_count": null,
   "metadata": {},
   "outputs": [],
   "source": [
    "bokfwhm = figure(\n",
    "   plot_width =default_plot_width,\n",
    "   plot_height=default_plot_height,\n",
    "   tools=\"pan,box_zoom,reset,save\",\n",
    "   # y_axis_type=\"log\",\n",
    "   # y_range=[10**1, 10**5], title=\"synth\",\n",
    "   y_range=[0.0, 15.0], title=\"fwhms\",\n",
    "   x_axis_label='channels', y_axis_label='fwhms'\n",
    ")\n",
    "bokfwhm.circle(ipks, fwhms, legend=\"fwhms\", color=\"blue\",size=4)\n",
    "bokfwhm.cross(x**x, fitd_fwhms, color=\"red\")\n",
    "# bokfwhm.line(xs, pfit[ipks], color=\"blue\",size=8)\n",
    "show(bokfwhm)"
   ]
  },
  {
   "cell_type": "code",
   "execution_count": null,
   "metadata": {},
   "outputs": [],
   "source": []
  },
  {
   "cell_type": "code",
   "execution_count": null,
   "metadata": {},
   "outputs": [],
   "source": []
  },
  {
   "cell_type": "code",
   "execution_count": null,
   "metadata": {},
   "outputs": [],
   "source": []
  },
  {
   "cell_type": "code",
   "execution_count": null,
   "metadata": {},
   "outputs": [],
   "source": [
    "# Outro teste: mahximo do cwt no espectro inteiro em cada escala"
   ]
  },
  {
   "cell_type": "code",
   "execution_count": null,
   "metadata": {},
   "outputs": [],
   "source": [
    "maxs_escalas = np.max(cwtmatr,axis=1)\n",
    "print(len(maxs_escalas))\n",
    "print(maxs_escalas)"
   ]
  },
  {
   "cell_type": "code",
   "execution_count": null,
   "metadata": {},
   "outputs": [],
   "source": [
    "print(np.argmax(maxs_escalas))\n",
    "print(np.max(maxs_escalas))\n",
    "widths[np.argmax(maxs_escalas)]"
   ]
  },
  {
   "cell_type": "code",
   "execution_count": null,
   "metadata": {},
   "outputs": [],
   "source": [
    "# Entao a soma maxima eh na escala 5.10, entre 4.48 e 5.72. Interessante. Visualmente, achei melhor pegar\n",
    "# essa mesmo.\n",
    "# 2019-09-17 Era, jah naum eh mais...\n",
    "# Agora eh 5.71, entre 5.45 e 5.98"
   ]
  },
  {
   "cell_type": "code",
   "execution_count": null,
   "metadata": {},
   "outputs": [],
   "source": []
  }
 ],
 "metadata": {
  "kernelspec": {
   "display_name": "Python 3",
   "language": "python",
   "name": "python3"
  },
  "language_info": {
   "codemirror_mode": {
    "name": "ipython",
    "version": 3
   },
   "file_extension": ".py",
   "mimetype": "text/x-python",
   "name": "python",
   "nbconvert_exporter": "python",
   "pygments_lexer": "ipython3",
   "version": "3.7.6"
  }
 },
 "nbformat": 4,
 "nbformat_minor": 4
}
