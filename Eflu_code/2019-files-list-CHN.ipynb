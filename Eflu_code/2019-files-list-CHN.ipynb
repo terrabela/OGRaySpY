{
 "cells": [
  {
   "cell_type": "code",
   "execution_count": 1,
   "metadata": {},
   "outputs": [],
   "source": [
    "# -*- coding: utf-8 -*-\n",
    "\"\"\"\n",
    "Created on Sat Jun  2 11:09:55 2018\n",
    "\n",
    "@author: Marcelo\n",
    "\"\"\"\n",
    "import numpy as np\n",
    "from scipy import (signal)\n",
    "from speccwt_class import (SpecCwt)\n",
    "\n",
    "from teste_datas import (Spec)\n",
    "# from cwt_graph import (CwtGraph)\n",
    "\n",
    "from sys import platform\n",
    "from platform import node\n",
    "from filebatch_class import (FileBatch)\n",
    "\n",
    "# port (find_peaks, peak_widths, cwt, ricker, find_peaks_cwt)\n",
    "from shann_entropy_func import (nonullelements_cwtmatr, cwt_norm)\n",
    "\n",
    "from scipy.fftpack import (fft, ifft)\n",
    "from scipy.stats import (entropy)\n",
    "# from pathlib import Path, PurePath\n",
    "import matplotlib.pyplot as plt\n",
    "from scipy.optimize import (curve_fit, root)\n",
    "from copy import deepcopy\n",
    "# from numpy import cosh, zeros_like, mgrid, zeros\n",
    "# from test_lists import seqmatch\n"
   ]
  },
  {
   "cell_type": "code",
   "execution_count": 2,
   "metadata": {},
   "outputs": [
    {
     "name": "stdout",
     "output_type": "stream",
     "text": [
      "/home/marcelo/ownCloud/Genie_Transfer/Si/SI2018\n",
      "Num de arquivos:         56 \n",
      "\n",
      "\n",
      " arquivos\n"
     ]
    }
   ],
   "source": [
    "#################################################### P.P.\n",
    "\n",
    "fb = FileBatch()\n",
    "spec = Spec()\n",
    "\n",
    "# 2019-02-20 Micro I...\n",
    "# Pode ser aqui...\n",
    "# fb.slotSetBatchCHN('C:/Users/mmaduar/OneDrive/Documentos/Ipen/Efluentes-gasosos/2018_Relat-efluentes-gasosos/Filtros/2018')\n",
    "# ...mas eh melhor aqui:\n",
    "# 2019-03-03 Desativando do micro I... para usar meu note:\n",
    "# fb.slotSetBatchCHN('C:/GENIE2K/CAMFILES/Filtros/2018')\n",
    "\n",
    "# 2019-03-03 Meu note\n",
    "# Pode ser aqui...\n",
    "# 2019-03-03 Ativando para usar meu note:\n",
    "fb.slotSetBatchCHN('/home/marcelo/ownCloud/Genie_Transfer/Si/SI2018')\n",
    "\n",
    "# print (fb.arqslist)\n",
    "print (fb.numarqstxt + ' arquivos')\n",
    "\n",
    "## totar = TOTal ARray\n",
    "totar = np.zeros( (20,4096) ) \n",
    "\n"
   ]
  },
  {
   "cell_type": "code",
   "execution_count": 3,
   "metadata": {},
   "outputs": [
    {
     "data": {
      "text/plain": [
       "str"
      ]
     },
     "execution_count": 3,
     "metadata": {},
     "output_type": "execute_result"
    }
   ],
   "source": [
    "type(fb.numarqstxt)"
   ]
  },
  {
   "cell_type": "code",
   "execution_count": 4,
   "metadata": {},
   "outputs": [
    {
     "data": {
      "text/plain": [
       "112"
      ]
     },
     "execution_count": 4,
     "metadata": {},
     "output_type": "execute_result"
    }
   ],
   "source": [
    "2*fb.numarqs"
   ]
  },
  {
   "cell_type": "code",
   "execution_count": 5,
   "metadata": {},
   "outputs": [
    {
     "data": {
      "text/plain": [
       "['/home/marcelo/ownCloud/Genie_Transfer/Si/SI2018/co1.chn',\n",
       " '/home/marcelo/ownCloud/Genie_Transfer/Si/SI2018/SI07918.Chn',\n",
       " '/home/marcelo/ownCloud/Genie_Transfer/Si/SI2018/SI08818.Chn',\n",
       " '/home/marcelo/ownCloud/Genie_Transfer/Si/SI2018/SI08218.Chn',\n",
       " '/home/marcelo/ownCloud/Genie_Transfer/Si/SI2018/SI10318.Chn',\n",
       " '/home/marcelo/ownCloud/Genie_Transfer/Si/SI2018/Si06718.chn',\n",
       " '/home/marcelo/ownCloud/Genie_Transfer/Si/SI2018/SI03618.CHN',\n",
       " '/home/marcelo/ownCloud/Genie_Transfer/Si/SI2018/SI07418.Chn',\n",
       " '/home/marcelo/ownCloud/Genie_Transfer/Si/SI2018/SI00618.Chn',\n",
       " '/home/marcelo/ownCloud/Genie_Transfer/Si/SI2018/SI01518.Chn',\n",
       " '/home/marcelo/ownCloud/Genie_Transfer/Si/SI2018/Si03818.chn',\n",
       " '/home/marcelo/ownCloud/Genie_Transfer/Si/SI2018/SI08618.Chn',\n",
       " '/home/marcelo/ownCloud/Genie_Transfer/Si/SI2018/SI02518.Chn',\n",
       " '/home/marcelo/ownCloud/Genie_Transfer/Si/SI2018/SI09618.Chn',\n",
       " '/home/marcelo/ownCloud/Genie_Transfer/Si/SI2018/Si03718.chn',\n",
       " '/home/marcelo/ownCloud/Genie_Transfer/Si/SI2018/SI06818.Chn',\n",
       " '/home/marcelo/ownCloud/Genie_Transfer/Si/SI2018/SI09618 (aprox 17ks).Chn',\n",
       " '/home/marcelo/ownCloud/Genie_Transfer/Si/SI2018/SI08918.Chn',\n",
       " '/home/marcelo/ownCloud/Genie_Transfer/Si/SI2018/SI09218.Chn',\n",
       " '/home/marcelo/ownCloud/Genie_Transfer/Si/SI2018/SI10918.Chn',\n",
       " '/home/marcelo/ownCloud/Genie_Transfer/Si/SI2018/SI00518.Chn',\n",
       " '/home/marcelo/ownCloud/Genie_Transfer/Si/SI2018/co3.chn',\n",
       " '/home/marcelo/ownCloud/Genie_Transfer/Si/SI2018/SI10718.Chn',\n",
       " '/home/marcelo/ownCloud/Genie_Transfer/Si/SI2018/SI08018.Chn',\n",
       " '/home/marcelo/ownCloud/Genie_Transfer/Si/SI2018/co4.chn',\n",
       " '/home/marcelo/ownCloud/Genie_Transfer/Si/SI2018/SI08718.Chn',\n",
       " '/home/marcelo/ownCloud/Genie_Transfer/Si/SI2018/SI025182.Chn',\n",
       " '/home/marcelo/ownCloud/Genie_Transfer/Si/SI2018/SI09818.Chn',\n",
       " '/home/marcelo/ownCloud/Genie_Transfer/Si/SI2018/SI10618.Chn',\n",
       " '/home/marcelo/ownCloud/Genie_Transfer/Si/SI2018/Si05718.chn',\n",
       " '/home/marcelo/ownCloud/Genie_Transfer/Si/SI2018/ESFREGAÇO CR MALVINA.Chn',\n",
       " '/home/marcelo/ownCloud/Genie_Transfer/Si/SI2018/SI00718.Chn',\n",
       " '/home/marcelo/ownCloud/Genie_Transfer/Si/SI2018/SI08318.Chn',\n",
       " '/home/marcelo/ownCloud/Genie_Transfer/Si/SI2018/SI01018.Chn',\n",
       " '/home/marcelo/ownCloud/Genie_Transfer/Si/SI2018/Si05618.chn',\n",
       " '/home/marcelo/ownCloud/Genie_Transfer/Si/SI2018/Si05818.chn',\n",
       " '/home/marcelo/ownCloud/Genie_Transfer/Si/SI2018/SI07718.Chn',\n",
       " '/home/marcelo/ownCloud/Genie_Transfer/Si/SI2018/SI09918.Chn',\n",
       " '/home/marcelo/ownCloud/Genie_Transfer/Si/SI2018/SI10418.Chn',\n",
       " '/home/marcelo/ownCloud/Genie_Transfer/Si/SI2018/SI10218.Chn',\n",
       " '/home/marcelo/ownCloud/Genie_Transfer/Si/SI2018/co6.chn',\n",
       " '/home/marcelo/ownCloud/Genie_Transfer/Si/SI2018/si02618.Chn',\n",
       " '/home/marcelo/ownCloud/Genie_Transfer/Si/SI2018/Si06918.chn',\n",
       " '/home/marcelo/ownCloud/Genie_Transfer/Si/SI2018/SI09018.Chn',\n",
       " '/home/marcelo/ownCloud/Genie_Transfer/Si/SI2018/SI10118.Chn',\n",
       " '/home/marcelo/ownCloud/Genie_Transfer/Si/SI2018/SI10018.Chn',\n",
       " '/home/marcelo/ownCloud/Genie_Transfer/Si/SI2018/co2.chn',\n",
       " '/home/marcelo/ownCloud/Genie_Transfer/Si/SI2018/SI10818.Chn',\n",
       " '/home/marcelo/ownCloud/Genie_Transfer/Si/SI2018/SI09518.Chn',\n",
       " '/home/marcelo/ownCloud/Genie_Transfer/Si/SI2018/SI09718.Chn',\n",
       " '/home/marcelo/ownCloud/Genie_Transfer/Si/SI2018/SI08118.Chn',\n",
       " '/home/marcelo/ownCloud/Genie_Transfer/Si/SI2018/co5.chn',\n",
       " '/home/marcelo/ownCloud/Genie_Transfer/Si/SI2018/SI07818.Chn',\n",
       " '/home/marcelo/ownCloud/Genie_Transfer/Si/SI2018/SI10518.Chn',\n",
       " '/home/marcelo/ownCloud/Genie_Transfer/Si/SI2018/SI02418.Chn',\n",
       " '/home/marcelo/ownCloud/Genie_Transfer/Si/SI2018/SI03118.Chn']"
      ]
     },
     "execution_count": 5,
     "metadata": {},
     "output_type": "execute_result"
    }
   ],
   "source": [
    "fb.lp"
   ]
  },
  {
   "cell_type": "code",
   "execution_count": 6,
   "metadata": {},
   "outputs": [
    {
     "data": {
      "text/plain": [
       "[';home;marcelo;ownCloud;Genie_Transfer;Si;SI2018;co1.chn',\n",
       " ';home;marcelo;ownCloud;Genie_Transfer;Si;SI2018;SI07918.Chn',\n",
       " ';home;marcelo;ownCloud;Genie_Transfer;Si;SI2018;SI08818.Chn',\n",
       " ';home;marcelo;ownCloud;Genie_Transfer;Si;SI2018;SI08218.Chn',\n",
       " ';home;marcelo;ownCloud;Genie_Transfer;Si;SI2018;SI10318.Chn',\n",
       " ';home;marcelo;ownCloud;Genie_Transfer;Si;SI2018;Si06718.chn',\n",
       " ';home;marcelo;ownCloud;Genie_Transfer;Si;SI2018;SI03618.CHN',\n",
       " ';home;marcelo;ownCloud;Genie_Transfer;Si;SI2018;SI07418.Chn',\n",
       " ';home;marcelo;ownCloud;Genie_Transfer;Si;SI2018;SI00618.Chn',\n",
       " ';home;marcelo;ownCloud;Genie_Transfer;Si;SI2018;SI01518.Chn',\n",
       " ';home;marcelo;ownCloud;Genie_Transfer;Si;SI2018;Si03818.chn',\n",
       " ';home;marcelo;ownCloud;Genie_Transfer;Si;SI2018;SI08618.Chn',\n",
       " ';home;marcelo;ownCloud;Genie_Transfer;Si;SI2018;SI02518.Chn',\n",
       " ';home;marcelo;ownCloud;Genie_Transfer;Si;SI2018;SI09618.Chn',\n",
       " ';home;marcelo;ownCloud;Genie_Transfer;Si;SI2018;Si03718.chn',\n",
       " ';home;marcelo;ownCloud;Genie_Transfer;Si;SI2018;SI06818.Chn',\n",
       " ';home;marcelo;ownCloud;Genie_Transfer;Si;SI2018;SI09618 (aprox 17ks).Chn',\n",
       " ';home;marcelo;ownCloud;Genie_Transfer;Si;SI2018;SI08918.Chn',\n",
       " ';home;marcelo;ownCloud;Genie_Transfer;Si;SI2018;SI09218.Chn',\n",
       " ';home;marcelo;ownCloud;Genie_Transfer;Si;SI2018;SI10918.Chn',\n",
       " ';home;marcelo;ownCloud;Genie_Transfer;Si;SI2018;SI00518.Chn',\n",
       " ';home;marcelo;ownCloud;Genie_Transfer;Si;SI2018;co3.chn',\n",
       " ';home;marcelo;ownCloud;Genie_Transfer;Si;SI2018;SI10718.Chn',\n",
       " ';home;marcelo;ownCloud;Genie_Transfer;Si;SI2018;SI08018.Chn',\n",
       " ';home;marcelo;ownCloud;Genie_Transfer;Si;SI2018;co4.chn',\n",
       " ';home;marcelo;ownCloud;Genie_Transfer;Si;SI2018;SI08718.Chn',\n",
       " ';home;marcelo;ownCloud;Genie_Transfer;Si;SI2018;SI025182.Chn',\n",
       " ';home;marcelo;ownCloud;Genie_Transfer;Si;SI2018;SI09818.Chn',\n",
       " ';home;marcelo;ownCloud;Genie_Transfer;Si;SI2018;SI10618.Chn',\n",
       " ';home;marcelo;ownCloud;Genie_Transfer;Si;SI2018;Si05718.chn',\n",
       " ';home;marcelo;ownCloud;Genie_Transfer;Si;SI2018;ESFREGAÇO CR MALVINA.Chn',\n",
       " ';home;marcelo;ownCloud;Genie_Transfer;Si;SI2018;SI00718.Chn',\n",
       " ';home;marcelo;ownCloud;Genie_Transfer;Si;SI2018;SI08318.Chn',\n",
       " ';home;marcelo;ownCloud;Genie_Transfer;Si;SI2018;SI01018.Chn',\n",
       " ';home;marcelo;ownCloud;Genie_Transfer;Si;SI2018;Si05618.chn',\n",
       " ';home;marcelo;ownCloud;Genie_Transfer;Si;SI2018;Si05818.chn',\n",
       " ';home;marcelo;ownCloud;Genie_Transfer;Si;SI2018;SI07718.Chn',\n",
       " ';home;marcelo;ownCloud;Genie_Transfer;Si;SI2018;SI09918.Chn',\n",
       " ';home;marcelo;ownCloud;Genie_Transfer;Si;SI2018;SI10418.Chn',\n",
       " ';home;marcelo;ownCloud;Genie_Transfer;Si;SI2018;SI10218.Chn',\n",
       " ';home;marcelo;ownCloud;Genie_Transfer;Si;SI2018;co6.chn',\n",
       " ';home;marcelo;ownCloud;Genie_Transfer;Si;SI2018;si02618.Chn',\n",
       " ';home;marcelo;ownCloud;Genie_Transfer;Si;SI2018;Si06918.chn',\n",
       " ';home;marcelo;ownCloud;Genie_Transfer;Si;SI2018;SI09018.Chn',\n",
       " ';home;marcelo;ownCloud;Genie_Transfer;Si;SI2018;SI10118.Chn',\n",
       " ';home;marcelo;ownCloud;Genie_Transfer;Si;SI2018;SI10018.Chn',\n",
       " ';home;marcelo;ownCloud;Genie_Transfer;Si;SI2018;co2.chn',\n",
       " ';home;marcelo;ownCloud;Genie_Transfer;Si;SI2018;SI10818.Chn',\n",
       " ';home;marcelo;ownCloud;Genie_Transfer;Si;SI2018;SI09518.Chn',\n",
       " ';home;marcelo;ownCloud;Genie_Transfer;Si;SI2018;SI09718.Chn',\n",
       " ';home;marcelo;ownCloud;Genie_Transfer;Si;SI2018;SI08118.Chn',\n",
       " ';home;marcelo;ownCloud;Genie_Transfer;Si;SI2018;co5.chn',\n",
       " ';home;marcelo;ownCloud;Genie_Transfer;Si;SI2018;SI07818.Chn',\n",
       " ';home;marcelo;ownCloud;Genie_Transfer;Si;SI2018;SI10518.Chn',\n",
       " ';home;marcelo;ownCloud;Genie_Transfer;Si;SI2018;SI02418.Chn',\n",
       " ';home;marcelo;ownCloud;Genie_Transfer;Si;SI2018;SI03118.Chn']"
      ]
     },
     "execution_count": 6,
     "metadata": {},
     "output_type": "execute_result"
    }
   ],
   "source": [
    "fb.lpsemic"
   ]
  },
  {
   "cell_type": "code",
   "execution_count": 7,
   "metadata": {},
   "outputs": [
    {
     "data": {
      "text/plain": [
       "';home;marcelo;ownCloud;Genie_Transfer;Si;SI2018;SI03118.Chn'"
      ]
     },
     "execution_count": 7,
     "metadata": {},
     "output_type": "execute_result"
    }
   ],
   "source": [
    "fb.lpsemic[-1]"
   ]
  },
  {
   "cell_type": "code",
   "execution_count": 8,
   "metadata": {},
   "outputs": [
    {
     "data": {
      "text/plain": [
       "PosixPath('um/dois/tres.csv')"
      ]
     },
     "execution_count": 8,
     "metadata": {},
     "output_type": "execute_result"
    }
   ],
   "source": [
    "fb.teste1"
   ]
  },
  {
   "cell_type": "code",
   "execution_count": 1,
   "metadata": {},
   "outputs": [
    {
     "ename": "FileNotFoundError",
     "evalue": "[Errno 2] No such file or directory: '/home/marcelo/ownCloud/pythonGenie_Transfer/Si/SI2018/CHNlist.csv'",
     "output_type": "error",
     "traceback": [
      "\u001b[0;31m---------------------------------------------------------------------------\u001b[0m",
      "\u001b[0;31mFileNotFoundError\u001b[0m                         Traceback (most recent call last)",
      "\u001b[0;32m<ipython-input-1-6dbb15534a58>\u001b[0m in \u001b[0;36m<module>\u001b[0;34m\u001b[0m\n\u001b[1;32m      1\u001b[0m \u001b[0;31m# stackoverflow.com/questions/12377473/python-write-versus-writelines-and-concatenated-strings\u001b[0m\u001b[0;34m\u001b[0m\u001b[0;34m\u001b[0m\u001b[0;34m\u001b[0m\u001b[0m\n\u001b[0;32m----> 2\u001b[0;31m \u001b[0;32mwith\u001b[0m \u001b[0mopen\u001b[0m\u001b[0;34m(\u001b[0m\u001b[0;34mr'/home/marcelo/ownCloud/pythonGenie_Transfer/Si/SI2018/CHNlist.csv'\u001b[0m\u001b[0;34m,\u001b[0m \u001b[0;34m'w'\u001b[0m\u001b[0;34m)\u001b[0m \u001b[0;32mas\u001b[0m \u001b[0mf\u001b[0m\u001b[0;34m:\u001b[0m\u001b[0;34m\u001b[0m\u001b[0;34m\u001b[0m\u001b[0m\n\u001b[0m\u001b[1;32m      3\u001b[0m     \u001b[0mf\u001b[0m\u001b[0;34m.\u001b[0m\u001b[0mwritelines\u001b[0m\u001b[0;34m(\u001b[0m\u001b[0;34m\"%s\\n\"\u001b[0m \u001b[0;34m%\u001b[0m \u001b[0ml\u001b[0m \u001b[0;32mfor\u001b[0m \u001b[0ml\u001b[0m \u001b[0;32min\u001b[0m \u001b[0mfb\u001b[0m\u001b[0;34m.\u001b[0m\u001b[0mlp\u001b[0m\u001b[0;34m)\u001b[0m\u001b[0;34m\u001b[0m\u001b[0;34m\u001b[0m\u001b[0m\n",
      "\u001b[0;31mFileNotFoundError\u001b[0m: [Errno 2] No such file or directory: '/home/marcelo/ownCloud/pythonGenie_Transfer/Si/SI2018/CHNlist.csv'"
     ]
    }
   ],
   "source": [
    "# stackoverflow.com/questions/12377473/python-write-versus-writelines-and-concatenated-strings\n",
    "with open(r'/home/marcelo/ownCloud/pythonGenie_Transfer/Si/SI2018/CHNlist.csv', 'w') as f:\n",
    "    f.writelines(\"%s\\n\" % l for l in fb.lp)"
   ]
  },
  {
   "cell_type": "code",
   "execution_count": null,
   "metadata": {},
   "outputs": [],
   "source": []
  }
 ],
 "metadata": {
  "kernelspec": {
   "display_name": "Python 3",
   "language": "python",
   "name": "python3"
  },
  "language_info": {
   "codemirror_mode": {
    "name": "ipython",
    "version": 3
   },
   "file_extension": ".py",
   "mimetype": "text/x-python",
   "name": "python",
   "nbconvert_exporter": "python",
   "pygments_lexer": "ipython3",
   "version": "3.7.1"
  }
 },
 "nbformat": 4,
 "nbformat_minor": 2
}
