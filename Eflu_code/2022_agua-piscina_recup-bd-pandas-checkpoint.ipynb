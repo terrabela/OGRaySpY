{
 "cells": [
  {
   "cell_type": "code",
   "execution_count": 1,
   "metadata": {
    "tags": []
   },
   "outputs": [],
   "source": [
    "# -*- coding: utf-8 -*-\n",
    "\"\"\"\n",
    "Created on Sat Jun  2 11:09:55 2018\n",
    "\n",
    "@author: Marcelo\n",
    "\"\"\"\n",
    "\n",
    "# 2022-Jan-13:\n",
    "# Aqui vou definir um lote de espectros, localizar os picos e fazer a análise segundo\n",
    "# 2021-Out-26: agora lmfit já está no canal conda-forge.\n",
    "\n",
    "import numpy as np\n",
    "import numpy.ma as ma  # masked array\n",
    "from numpy.polynomial import Polynomial as P # 2020-09-06 Esta é a nova classe recomendada \n",
    "from numpy import linalg as LA\n",
    "\n",
    "# https://realpython.com/python-import/\n",
    "# https://docs.python-guide.org/writing/structure/\n",
    "\n",
    "import scipy.stats as sta # statistics\n",
    "# from scipy.special import (erf, erfinv)\n",
    "import scipy.special as spsp\n",
    "from scipy.optimize import curve_fit\n",
    "# import scipy.optimize as spoptim\n",
    "# 2020-08-30\n",
    "from scipy import ndimage # label, generate_binary_structure, find_objects, binary_dilation\n",
    "from scipy.cluster.vq import kmeans2, whiten\n",
    "\n",
    "####################################\n",
    "# Para a coleta dos espectros:\n",
    "import time\n",
    "# 2019-03-15\n",
    "# https://pandas.pydata.org/pandas-docs/stable/getting_started/10min.html\n",
    "import pandas as pd\n",
    "import csv\n",
    "# from pathlib import (Path)\n",
    "from pathlib import Path\n",
    "\n",
    "# 2021-Jul-08\n",
    "# from lmfit import Model, Minimizer, minimize, Parameters, report_fit, fit_report, printfuncs\n",
    "\n",
    "# https://lmfit.github.io/lmfit-py/\n",
    "# builtin_models.html?highlight=peaks%20sum#example-3-\n",
    "# fitting-multiple-peaks-and-using-prefixes\n",
    "# from lmfit.models import ExponentialModel, GaussianModel\n",
    "\n",
    "# Gráficos e widgets:\n",
    "import plotly.graph_objects as go\n",
    "from ipywidgets import widgets\n",
    "# 2022-Jan-20: em princípio, usarei plotly em vez de bokeh ou matplotlib.\n",
    "# from bokeh.models import ColumnDataSource, Whisker\n",
    "# from bokeh.plotting import figure, output_file, output_notebook, show\n",
    "# from bokeh import palettes\n",
    "# import matplotlib.pyplot as plt\n",
    "\n",
    "# 2022-Fev-02 Módulos desenvolvidos ad hoc\n",
    "\n",
    "from gauss_funcs import gaus_fw, gaus_sig\n",
    "\n",
    "# 2022-Jan-20: Desativado por enquanto\n",
    "# import base_line_funcs as blf\n",
    "# import spectra_regions_funcs as spreg\n",
    "\n",
    "# 2021-jun-2: novas classes:\n",
    "from spec_class import Spec\n",
    "# 2022-Jan-13\n",
    "from filebatch_class import (FileBatch)\n",
    "\n",
    "from machine_selection import set_screen_size_by_machine\n",
    "\n",
    "# 2021-Jul-1\n",
    "# import gauss_funcs\n",
    "\n",
    "# 2021-Jul-08\n",
    "# from lmfit import Model, Minimizer, minimize, Parameters, report_fit, fit_report, printfuncs\n",
    "\n",
    "# https://lmfit.github.io/lmfit-py/\n",
    "# builtin_models.html?highlight=peaks%20sum#example-3-\n",
    "# fitting-multiple-peaks-and-using-prefixes\n",
    "# from lmfit.models import ExponentialModel, GaussianModel\n",
    "\n",
    "# https://lmfit.github.io/lmfit-py/builtin_models.html?highlight=peaks%20sum#example-3-fitting-\n",
    "# multiple-peaks-and-using-prefixes\n",
    "\n",
    "\n",
    "# https://stackoverflow.com/questions/19861785/composition-and-aggregation-in-python\n",
    "# https://stackoverflow.com/questions/12053998/...\n",
    "# where-should-i-define-functions-that-i-use-in-init#12054066\n",
    "# https://www.codearmo.com/python-tutorial/object-orientated-programming-functions\n",
    "\n",
    "# Sobre declarar os atributos em init:\n",
    "# https://softwareengineering.stackexchange.com/questions/357937/...\n",
    "# is-it-really-correct-to-declare-all-instance-attributes-in-init\n",
    "\n",
    "# Sobre listar atributos omitindo os \"built in\" (com 2 underscores duplos):\n",
    "# https://stackoverflow.com/questions/192109/...\n",
    "# is-there-a-built-in-function-to-print-all-the-current-properties-and-values-of-a#193539\n",
    "\n",
    "# Longo e ótimo texto sobre inheritance, composition, aggregation....\n",
    "# https://realpython.com/inheritance-composition-python/#composition-in-python\n",
    "\n",
    "# Pequeno vídeo sobre UML:\n",
    "# https://realpython.com/lessons/uml-diagrams/\n",
    "#\n",
    "# UML:\n",
    "# - Open-Source\n",
    "# https://github.com/abulka/pynsource\n",
    "# - Trial\n",
    "# https://staruml.io/\n",
    "\n",
    "# https://realpython.com/python-import/\n",
    "# https://docs.python-guide.org/writing/structure/\n",
    "\n",
    "# https://stackoverflow.com/questions/19861785/...\n",
    "# composition-and-aggregation-in-python#19863217\n"
   ]
  },
  {
   "cell_type": "code",
   "execution_count": null,
   "metadata": {},
   "outputs": [],
   "source": [
    "# https://linuxconfig.org/how-to-find-a-string-or-text-in-a-file-on-linux\n",
    "#\n",
    "# Para achar texto dentro de conjunto de arquivos:\n",
    "# Para descobrir qual script gerou os \"todos_si*.pkl\":\n",
    "# grep -r todos_si ~/OwnDrive/Python_Scripts >grep_r_todos_si.txt\n",
    "#\n",
    "# Achei os seguintes arquivos:\n",
    "# 2019-nov-warp2.ipynb\n",
    "# openGamma_pkl-generation.ipynb\n",
    "# 2020_ridge_tests_with_I123.ipynb\n",
    "# 2019-gerar-pkl-CAC-2018.ipynb\n",
    "# 2020_Mariana-PR_agua-bruta.ipynb\n",
    "# 2020_Mariana-PR_AgAm3-2911.ipynb\n",
    "# 2020_Mariana-decan4.ipynb\n",
    "# 2020-PCA-in-gamma-ray.ipynb\n",
    "#"
   ]
  },
  {
   "cell_type": "code",
   "execution_count": 2,
   "metadata": {},
   "outputs": [
    {
     "data": {
      "text/plain": [
       "1.0644670194312262"
      ]
     },
     "execution_count": 2,
     "metadata": {},
     "output_type": "execute_result"
    }
   ],
   "source": [
    "# 2022-Jan-14\n",
    "# Constante k_ar para cálculo da área em fç de sigma e h (altura) do pico\n",
    "\n",
    "k_ar = 0.5 * np.sqrt(np.pi / np.log(2))\n",
    "k_ar"
   ]
  },
  {
   "cell_type": "code",
   "execution_count": 3,
   "metadata": {},
   "outputs": [],
   "source": [
    "# 2022-Jan-17"
   ]
  },
  {
   "cell_type": "code",
   "execution_count": 4,
   "metadata": {},
   "outputs": [
    {
     "data": {
      "text/plain": [
       "0.7609681085504879"
      ]
     },
     "execution_count": 4,
     "metadata": {},
     "output_type": "execute_result"
    }
   ],
   "source": [
    "k_fwhm = spsp.erf(np.sqrt(np.log(2)))\n",
    "k_fwhm"
   ]
  },
  {
   "cell_type": "code",
   "execution_count": null,
   "metadata": {},
   "outputs": [],
   "source": []
  },
  {
   "cell_type": "code",
   "execution_count": 5,
   "metadata": {},
   "outputs": [
    {
     "data": {
      "text/plain": [
       "{'FileBatch',\n",
       " 'In',\n",
       " 'LA',\n",
       " 'Out',\n",
       " 'P',\n",
       " 'Path',\n",
       " 'Spec',\n",
       " '_',\n",
       " '_2',\n",
       " '_4',\n",
       " '__',\n",
       " '___',\n",
       " '__builtin__',\n",
       " '__builtins__',\n",
       " '__doc__',\n",
       " '__loader__',\n",
       " '__name__',\n",
       " '__package__',\n",
       " '__spec__',\n",
       " '_dh',\n",
       " '_i',\n",
       " '_i1',\n",
       " '_i2',\n",
       " '_i3',\n",
       " '_i4',\n",
       " '_i5',\n",
       " '_ih',\n",
       " '_ii',\n",
       " '_iii',\n",
       " '_oh',\n",
       " 'csv',\n",
       " 'curve_fit',\n",
       " 'exit',\n",
       " 'gaus_fw',\n",
       " 'gaus_sig',\n",
       " 'get_ipython',\n",
       " 'go',\n",
       " 'k_ar',\n",
       " 'k_fwhm',\n",
       " 'kmeans2',\n",
       " 'ma',\n",
       " 'ndimage',\n",
       " 'np',\n",
       " 'pd',\n",
       " 'quit',\n",
       " 'set_screen_size_by_machine',\n",
       " 'spsp',\n",
       " 'sta',\n",
       " 'time',\n",
       " 'whiten',\n",
       " 'widgets'}"
      ]
     },
     "execution_count": 5,
     "metadata": {},
     "output_type": "execute_result"
    }
   ],
   "source": [
    "dir_A = set(dir())\n",
    "dir_A"
   ]
  },
  {
   "cell_type": "code",
   "execution_count": 12,
   "metadata": {},
   "outputs": [],
   "source": [
    "# dfTeste1 = pd.read_pickle('../../Python_Scripts/todos_si_specs.pkl')\n",
    "# dfTeste2 = pd.read_pickle('../../Python_Scripts/todos_si_peaks.pkl')\n",
    "dfTeste1 = pd.read_pickle('../../Python_Scripts/todos_si2019_specs.pkl')\n",
    "dfTeste2 = pd.read_pickle('../../Python_Scripts/todos_si2019_peaks.pkl')"
   ]
  },
  {
   "cell_type": "code",
   "execution_count": 13,
   "metadata": {},
   "outputs": [
    {
     "data": {
      "text/plain": [
       "IdSpec             int64\n",
       "FName             object\n",
       "StTime    datetime64[ns]\n",
       "LvTime           float64\n",
       "dtype: object"
      ]
     },
     "execution_count": 13,
     "metadata": {},
     "output_type": "execute_result"
    }
   ],
   "source": [
    "dfTeste1.dtypes"
   ]
  },
  {
   "cell_type": "code",
   "execution_count": 14,
   "metadata": {},
   "outputs": [
    {
     "data": {
      "text/plain": [
       "IdSpec_2      int64\n",
       "Centr       float64\n",
       "Fwhm        float64\n",
       "Area        float64\n",
       "SArea       float64\n",
       "dtype: object"
      ]
     },
     "execution_count": 14,
     "metadata": {},
     "output_type": "execute_result"
    }
   ],
   "source": [
    "dfTeste2.dtypes"
   ]
  },
  {
   "cell_type": "code",
   "execution_count": 15,
   "metadata": {
    "tags": []
   },
   "outputs": [
    {
     "data": {
      "text/html": [
       "<div>\n",
       "<style scoped>\n",
       "    .dataframe tbody tr th:only-of-type {\n",
       "        vertical-align: middle;\n",
       "    }\n",
       "\n",
       "    .dataframe tbody tr th {\n",
       "        vertical-align: top;\n",
       "    }\n",
       "\n",
       "    .dataframe thead th {\n",
       "        text-align: right;\n",
       "    }\n",
       "</style>\n",
       "<table border=\"1\" class=\"dataframe\">\n",
       "  <thead>\n",
       "    <tr style=\"text-align: right;\">\n",
       "      <th></th>\n",
       "      <th>IdSpec</th>\n",
       "      <th>FName</th>\n",
       "      <th>StTime</th>\n",
       "      <th>LvTime</th>\n",
       "    </tr>\n",
       "  </thead>\n",
       "  <tbody>\n",
       "    <tr>\n",
       "      <th>0</th>\n",
       "      <td>0</td>\n",
       "      <td>../Genie_Transfer/Si/SI2019/SI5-19-2.Chn</td>\n",
       "      <td>2019-04-03 14:45:39</td>\n",
       "      <td>70000.00</td>\n",
       "    </tr>\n",
       "    <tr>\n",
       "      <th>1</th>\n",
       "      <td>1</td>\n",
       "      <td>../Genie_Transfer/Si/SI2019/SI02819.Chn</td>\n",
       "      <td>2019-05-07 17:51:40</td>\n",
       "      <td>50000.00</td>\n",
       "    </tr>\n",
       "    <tr>\n",
       "      <th>2</th>\n",
       "      <td>2</td>\n",
       "      <td>../Genie_Transfer/Si/SI2019/SI04019.Chn</td>\n",
       "      <td>2019-06-28 22:17:09</td>\n",
       "      <td>50000.00</td>\n",
       "    </tr>\n",
       "    <tr>\n",
       "      <th>3</th>\n",
       "      <td>3</td>\n",
       "      <td>../Genie_Transfer/Si/SI2019/SI00119.Chn</td>\n",
       "      <td>2019-02-08 20:38:27</td>\n",
       "      <td>50000.00</td>\n",
       "    </tr>\n",
       "    <tr>\n",
       "      <th>4</th>\n",
       "      <td>4</td>\n",
       "      <td>../Genie_Transfer/Si/SI2019/SI03119.Chn</td>\n",
       "      <td>2019-05-17 18:44:21</td>\n",
       "      <td>50000.00</td>\n",
       "    </tr>\n",
       "    <tr>\n",
       "      <th>5</th>\n",
       "      <td>5</td>\n",
       "      <td>../Genie_Transfer/Si/SI2019/SI04319.Chn</td>\n",
       "      <td>2019-07-19 19:00:23</td>\n",
       "      <td>50000.00</td>\n",
       "    </tr>\n",
       "    <tr>\n",
       "      <th>6</th>\n",
       "      <td>6</td>\n",
       "      <td>../Genie_Transfer/Si/SI2019/SI04219.Chn</td>\n",
       "      <td>2019-07-22 16:06:33</td>\n",
       "      <td>50000.00</td>\n",
       "    </tr>\n",
       "    <tr>\n",
       "      <th>7</th>\n",
       "      <td>7</td>\n",
       "      <td>../Genie_Transfer/Si/SI2019/si00919.Chn</td>\n",
       "      <td>2019-03-01 13:41:10</td>\n",
       "      <td>5000.00</td>\n",
       "    </tr>\n",
       "    <tr>\n",
       "      <th>8</th>\n",
       "      <td>8</td>\n",
       "      <td>../Genie_Transfer/Si/SI2019/si00719.Chn</td>\n",
       "      <td>2019-05-27 17:35:51</td>\n",
       "      <td>50000.00</td>\n",
       "    </tr>\n",
       "    <tr>\n",
       "      <th>9</th>\n",
       "      <td>9</td>\n",
       "      <td>../Genie_Transfer/Si/SI2019/SI01419.Chn</td>\n",
       "      <td>2019-05-22 21:12:53</td>\n",
       "      <td>50000.00</td>\n",
       "    </tr>\n",
       "    <tr>\n",
       "      <th>10</th>\n",
       "      <td>10</td>\n",
       "      <td>../Genie_Transfer/Si/SI2019/SI04119.Chn</td>\n",
       "      <td>2019-07-02 18:30:35</td>\n",
       "      <td>50000.00</td>\n",
       "    </tr>\n",
       "    <tr>\n",
       "      <th>11</th>\n",
       "      <td>11</td>\n",
       "      <td>../Genie_Transfer/Si/SI2019/SI03919.Chn</td>\n",
       "      <td>2019-06-24 18:31:49</td>\n",
       "      <td>49496.92</td>\n",
       "    </tr>\n",
       "    <tr>\n",
       "      <th>12</th>\n",
       "      <td>12</td>\n",
       "      <td>../Genie_Transfer/Si/SI2019/SI00219.Chn</td>\n",
       "      <td>2019-02-11 20:29:04</td>\n",
       "      <td>50000.00</td>\n",
       "    </tr>\n",
       "    <tr>\n",
       "      <th>13</th>\n",
       "      <td>13</td>\n",
       "      <td>../Genie_Transfer/Si/SI2019/SI01519.Chn</td>\n",
       "      <td>2019-05-21 18:45:08</td>\n",
       "      <td>50000.00</td>\n",
       "    </tr>\n",
       "    <tr>\n",
       "      <th>14</th>\n",
       "      <td>14</td>\n",
       "      <td>../Genie_Transfer/Si/SI2019/SI01619.Chn</td>\n",
       "      <td>2019-05-13 21:07:08</td>\n",
       "      <td>50000.00</td>\n",
       "    </tr>\n",
       "    <tr>\n",
       "      <th>15</th>\n",
       "      <td>15</td>\n",
       "      <td>../Genie_Transfer/Si/SI2019/SI03819.Chn</td>\n",
       "      <td>2019-07-23 17:14:40</td>\n",
       "      <td>50000.00</td>\n",
       "    </tr>\n",
       "    <tr>\n",
       "      <th>16</th>\n",
       "      <td>16</td>\n",
       "      <td>../Genie_Transfer/Si/SI2019/si00619.Chn</td>\n",
       "      <td>2019-02-27 16:41:30</td>\n",
       "      <td>50000.00</td>\n",
       "    </tr>\n",
       "    <tr>\n",
       "      <th>17</th>\n",
       "      <td>17</td>\n",
       "      <td>../Genie_Transfer/Si/SI2019/SI02419.Chn</td>\n",
       "      <td>2019-05-08 17:29:12</td>\n",
       "      <td>50000.00</td>\n",
       "    </tr>\n",
       "    <tr>\n",
       "      <th>18</th>\n",
       "      <td>18</td>\n",
       "      <td>../Genie_Transfer/Si/SI2019/SI02619.Chn</td>\n",
       "      <td>2019-05-03 22:30:40</td>\n",
       "      <td>50000.00</td>\n",
       "    </tr>\n",
       "    <tr>\n",
       "      <th>19</th>\n",
       "      <td>19</td>\n",
       "      <td>../Genie_Transfer/Si/SI2019/SI03219.Chn</td>\n",
       "      <td>2019-05-20 21:06:44</td>\n",
       "      <td>50000.00</td>\n",
       "    </tr>\n",
       "    <tr>\n",
       "      <th>20</th>\n",
       "      <td>20</td>\n",
       "      <td>../Genie_Transfer/Si/SI2019/si00319.Chn</td>\n",
       "      <td>2019-02-12 20:15:44</td>\n",
       "      <td>50000.00</td>\n",
       "    </tr>\n",
       "    <tr>\n",
       "      <th>21</th>\n",
       "      <td>21</td>\n",
       "      <td>../Genie_Transfer/Si/SI2019/SI02319.Chn</td>\n",
       "      <td>2019-05-09 18:09:28</td>\n",
       "      <td>50000.00</td>\n",
       "    </tr>\n",
       "    <tr>\n",
       "      <th>22</th>\n",
       "      <td>22</td>\n",
       "      <td>../Genie_Transfer/Si/SI2019/SI03419.Chn</td>\n",
       "      <td>2019-06-10 20:30:33</td>\n",
       "      <td>50000.00</td>\n",
       "    </tr>\n",
       "    <tr>\n",
       "      <th>23</th>\n",
       "      <td>23</td>\n",
       "      <td>../Genie_Transfer/Si/SI2019/SI03319.Chn</td>\n",
       "      <td>2019-06-12 20:01:48</td>\n",
       "      <td>50000.00</td>\n",
       "    </tr>\n",
       "    <tr>\n",
       "      <th>24</th>\n",
       "      <td>24</td>\n",
       "      <td>../Genie_Transfer/Si/SI2019/si00819.Chn</td>\n",
       "      <td>2019-03-01 12:55:50</td>\n",
       "      <td>2424.72</td>\n",
       "    </tr>\n",
       "    <tr>\n",
       "      <th>25</th>\n",
       "      <td>25</td>\n",
       "      <td>../Genie_Transfer/Si/SI2019/SI00519.Chn</td>\n",
       "      <td>2019-02-28 18:00:16</td>\n",
       "      <td>50000.00</td>\n",
       "    </tr>\n",
       "    <tr>\n",
       "      <th>26</th>\n",
       "      <td>26</td>\n",
       "      <td>../Genie_Transfer/Si/SI2019/SI02719.Chn</td>\n",
       "      <td>2019-05-02 20:24:31</td>\n",
       "      <td>50000.00</td>\n",
       "    </tr>\n",
       "    <tr>\n",
       "      <th>27</th>\n",
       "      <td>27</td>\n",
       "      <td>../Genie_Transfer/Si/SI2019/SI00419.Chn</td>\n",
       "      <td>2019-05-29 19:34:13</td>\n",
       "      <td>50000.00</td>\n",
       "    </tr>\n",
       "  </tbody>\n",
       "</table>\n",
       "</div>"
      ],
      "text/plain": [
       "    IdSpec                                     FName              StTime  \\\n",
       "0        0  ../Genie_Transfer/Si/SI2019/SI5-19-2.Chn 2019-04-03 14:45:39   \n",
       "1        1   ../Genie_Transfer/Si/SI2019/SI02819.Chn 2019-05-07 17:51:40   \n",
       "2        2   ../Genie_Transfer/Si/SI2019/SI04019.Chn 2019-06-28 22:17:09   \n",
       "3        3   ../Genie_Transfer/Si/SI2019/SI00119.Chn 2019-02-08 20:38:27   \n",
       "4        4   ../Genie_Transfer/Si/SI2019/SI03119.Chn 2019-05-17 18:44:21   \n",
       "5        5   ../Genie_Transfer/Si/SI2019/SI04319.Chn 2019-07-19 19:00:23   \n",
       "6        6   ../Genie_Transfer/Si/SI2019/SI04219.Chn 2019-07-22 16:06:33   \n",
       "7        7   ../Genie_Transfer/Si/SI2019/si00919.Chn 2019-03-01 13:41:10   \n",
       "8        8   ../Genie_Transfer/Si/SI2019/si00719.Chn 2019-05-27 17:35:51   \n",
       "9        9   ../Genie_Transfer/Si/SI2019/SI01419.Chn 2019-05-22 21:12:53   \n",
       "10      10   ../Genie_Transfer/Si/SI2019/SI04119.Chn 2019-07-02 18:30:35   \n",
       "11      11   ../Genie_Transfer/Si/SI2019/SI03919.Chn 2019-06-24 18:31:49   \n",
       "12      12   ../Genie_Transfer/Si/SI2019/SI00219.Chn 2019-02-11 20:29:04   \n",
       "13      13   ../Genie_Transfer/Si/SI2019/SI01519.Chn 2019-05-21 18:45:08   \n",
       "14      14   ../Genie_Transfer/Si/SI2019/SI01619.Chn 2019-05-13 21:07:08   \n",
       "15      15   ../Genie_Transfer/Si/SI2019/SI03819.Chn 2019-07-23 17:14:40   \n",
       "16      16   ../Genie_Transfer/Si/SI2019/si00619.Chn 2019-02-27 16:41:30   \n",
       "17      17   ../Genie_Transfer/Si/SI2019/SI02419.Chn 2019-05-08 17:29:12   \n",
       "18      18   ../Genie_Transfer/Si/SI2019/SI02619.Chn 2019-05-03 22:30:40   \n",
       "19      19   ../Genie_Transfer/Si/SI2019/SI03219.Chn 2019-05-20 21:06:44   \n",
       "20      20   ../Genie_Transfer/Si/SI2019/si00319.Chn 2019-02-12 20:15:44   \n",
       "21      21   ../Genie_Transfer/Si/SI2019/SI02319.Chn 2019-05-09 18:09:28   \n",
       "22      22   ../Genie_Transfer/Si/SI2019/SI03419.Chn 2019-06-10 20:30:33   \n",
       "23      23   ../Genie_Transfer/Si/SI2019/SI03319.Chn 2019-06-12 20:01:48   \n",
       "24      24   ../Genie_Transfer/Si/SI2019/si00819.Chn 2019-03-01 12:55:50   \n",
       "25      25   ../Genie_Transfer/Si/SI2019/SI00519.Chn 2019-02-28 18:00:16   \n",
       "26      26   ../Genie_Transfer/Si/SI2019/SI02719.Chn 2019-05-02 20:24:31   \n",
       "27      27   ../Genie_Transfer/Si/SI2019/SI00419.Chn 2019-05-29 19:34:13   \n",
       "\n",
       "      LvTime  \n",
       "0   70000.00  \n",
       "1   50000.00  \n",
       "2   50000.00  \n",
       "3   50000.00  \n",
       "4   50000.00  \n",
       "5   50000.00  \n",
       "6   50000.00  \n",
       "7    5000.00  \n",
       "8   50000.00  \n",
       "9   50000.00  \n",
       "10  50000.00  \n",
       "11  49496.92  \n",
       "12  50000.00  \n",
       "13  50000.00  \n",
       "14  50000.00  \n",
       "15  50000.00  \n",
       "16  50000.00  \n",
       "17  50000.00  \n",
       "18  50000.00  \n",
       "19  50000.00  \n",
       "20  50000.00  \n",
       "21  50000.00  \n",
       "22  50000.00  \n",
       "23  50000.00  \n",
       "24   2424.72  \n",
       "25  50000.00  \n",
       "26  50000.00  \n",
       "27  50000.00  "
      ]
     },
     "execution_count": 15,
     "metadata": {},
     "output_type": "execute_result"
    }
   ],
   "source": [
    "dfTeste1"
   ]
  },
  {
   "cell_type": "code",
   "execution_count": 16,
   "metadata": {
    "tags": []
   },
   "outputs": [
    {
     "data": {
      "text/html": [
       "<div>\n",
       "<style scoped>\n",
       "    .dataframe tbody tr th:only-of-type {\n",
       "        vertical-align: middle;\n",
       "    }\n",
       "\n",
       "    .dataframe tbody tr th {\n",
       "        vertical-align: top;\n",
       "    }\n",
       "\n",
       "    .dataframe thead th {\n",
       "        text-align: right;\n",
       "    }\n",
       "</style>\n",
       "<table border=\"1\" class=\"dataframe\">\n",
       "  <thead>\n",
       "    <tr style=\"text-align: right;\">\n",
       "      <th></th>\n",
       "      <th>IdSpec_2</th>\n",
       "      <th>Centr</th>\n",
       "      <th>Fwhm</th>\n",
       "      <th>Area</th>\n",
       "      <th>SArea</th>\n",
       "    </tr>\n",
       "  </thead>\n",
       "  <tbody>\n",
       "    <tr>\n",
       "      <th>0</th>\n",
       "      <td>0</td>\n",
       "      <td>56.991714</td>\n",
       "      <td>7.190183</td>\n",
       "      <td>12944.092880</td>\n",
       "      <td>197.976121</td>\n",
       "    </tr>\n",
       "    <tr>\n",
       "      <th>1</th>\n",
       "      <td>0</td>\n",
       "      <td>110.006673</td>\n",
       "      <td>3.558777</td>\n",
       "      <td>1400.612652</td>\n",
       "      <td>226.194244</td>\n",
       "    </tr>\n",
       "    <tr>\n",
       "      <th>2</th>\n",
       "      <td>0</td>\n",
       "      <td>122.047694</td>\n",
       "      <td>2.832496</td>\n",
       "      <td>892.831577</td>\n",
       "      <td>226.734534</td>\n",
       "    </tr>\n",
       "    <tr>\n",
       "      <th>3</th>\n",
       "      <td>0</td>\n",
       "      <td>130.976644</td>\n",
       "      <td>2.106215</td>\n",
       "      <td>628.461711</td>\n",
       "      <td>227.494019</td>\n",
       "    </tr>\n",
       "    <tr>\n",
       "      <th>4</th>\n",
       "      <td>0</td>\n",
       "      <td>234.032683</td>\n",
       "      <td>2.287785</td>\n",
       "      <td>692.340548</td>\n",
       "      <td>230.728923</td>\n",
       "    </tr>\n",
       "    <tr>\n",
       "      <th>...</th>\n",
       "      <td>...</td>\n",
       "      <td>...</td>\n",
       "      <td>...</td>\n",
       "      <td>...</td>\n",
       "      <td>...</td>\n",
       "    </tr>\n",
       "    <tr>\n",
       "      <th>1157</th>\n",
       "      <td>27</td>\n",
       "      <td>2354.588235</td>\n",
       "      <td>2.469356</td>\n",
       "      <td>32.635672</td>\n",
       "      <td>13.514296</td>\n",
       "    </tr>\n",
       "    <tr>\n",
       "      <th>1158</th>\n",
       "      <td>27</td>\n",
       "      <td>2799.926471</td>\n",
       "      <td>2.832496</td>\n",
       "      <td>152.221585</td>\n",
       "      <td>15.300334</td>\n",
       "    </tr>\n",
       "    <tr>\n",
       "      <th>1159</th>\n",
       "      <td>27</td>\n",
       "      <td>2920.837607</td>\n",
       "      <td>3.921918</td>\n",
       "      <td>209.195810</td>\n",
       "      <td>16.316185</td>\n",
       "    </tr>\n",
       "    <tr>\n",
       "      <th>1160</th>\n",
       "      <td>27</td>\n",
       "      <td>264.025319</td>\n",
       "      <td>5.919191</td>\n",
       "      <td>678.137680</td>\n",
       "      <td>170.263691</td>\n",
       "    </tr>\n",
       "    <tr>\n",
       "      <th>1161</th>\n",
       "      <td>27</td>\n",
       "      <td>265.990780</td>\n",
       "      <td>7.371753</td>\n",
       "      <td>1011.345441</td>\n",
       "      <td>171.265669</td>\n",
       "    </tr>\n",
       "  </tbody>\n",
       "</table>\n",
       "<p>1162 rows × 5 columns</p>\n",
       "</div>"
      ],
      "text/plain": [
       "      IdSpec_2        Centr      Fwhm          Area       SArea\n",
       "0            0    56.991714  7.190183  12944.092880  197.976121\n",
       "1            0   110.006673  3.558777   1400.612652  226.194244\n",
       "2            0   122.047694  2.832496    892.831577  226.734534\n",
       "3            0   130.976644  2.106215    628.461711  227.494019\n",
       "4            0   234.032683  2.287785    692.340548  230.728923\n",
       "...        ...          ...       ...           ...         ...\n",
       "1157        27  2354.588235  2.469356     32.635672   13.514296\n",
       "1158        27  2799.926471  2.832496    152.221585   15.300334\n",
       "1159        27  2920.837607  3.921918    209.195810   16.316185\n",
       "1160        27   264.025319  5.919191    678.137680  170.263691\n",
       "1161        27   265.990780  7.371753   1011.345441  171.265669\n",
       "\n",
       "[1162 rows x 5 columns]"
      ]
     },
     "execution_count": 16,
     "metadata": {},
     "output_type": "execute_result"
    }
   ],
   "source": [
    "dfTeste2"
   ]
  },
  {
   "cell_type": "code",
   "execution_count": 6,
   "metadata": {},
   "outputs": [],
   "source": [
    "df1 = pd.read_pickle('gamma_results_df1_2022-03-07T18.20.36.xz')\n",
    "df2 = pd.read_pickle('gamma_results_df2_2022-03-07T18.20.36.xz')"
   ]
  },
  {
   "cell_type": "code",
   "execution_count": 7,
   "metadata": {},
   "outputs": [],
   "source": [
    "df1.CountsSum = pd.to_numeric(df1.CountsSum)"
   ]
  },
  {
   "cell_type": "code",
   "execution_count": 8,
   "metadata": {},
   "outputs": [],
   "source": [
    "df2.Ctroids = pd.to_numeric(df2.Ctroids)\n",
    "df2.PkAreas = pd.to_numeric(df2.PkAreas)\n",
    "df2.sPkAreas = pd.to_numeric(df2.sPkAreas)\n",
    "df2.PkToTotRatio = pd.to_numeric(df2.PkToTotRatio)\n",
    "df2.sRelArea = pd.to_numeric(df2.sRelArea)"
   ]
  },
  {
   "cell_type": "code",
   "execution_count": 9,
   "metadata": {},
   "outputs": [
    {
     "data": {
      "text/html": [
       "<div>\n",
       "<style scoped>\n",
       "    .dataframe tbody tr th:only-of-type {\n",
       "        vertical-align: middle;\n",
       "    }\n",
       "\n",
       "    .dataframe tbody tr th {\n",
       "        vertical-align: top;\n",
       "    }\n",
       "\n",
       "    .dataframe thead th {\n",
       "        text-align: right;\n",
       "    }\n",
       "</style>\n",
       "<table border=\"1\" class=\"dataframe\">\n",
       "  <thead>\n",
       "    <tr style=\"text-align: right;\">\n",
       "      <th></th>\n",
       "      <th>FName</th>\n",
       "      <th>CountsSum</th>\n",
       "    </tr>\n",
       "  </thead>\n",
       "  <tbody>\n",
       "    <tr>\n",
       "      <th>0</th>\n",
       "      <td>../../Genie_Transfer/Si/BGNOVO.Chn</td>\n",
       "      <td>535495</td>\n",
       "    </tr>\n",
       "    <tr>\n",
       "      <th>1</th>\n",
       "      <td>../../Genie_Transfer/Si/2011/SI10511.Chn</td>\n",
       "      <td>779306</td>\n",
       "    </tr>\n",
       "    <tr>\n",
       "      <th>2</th>\n",
       "      <td>../../Genie_Transfer/Si/2011/SI00411.chn</td>\n",
       "      <td>816905</td>\n",
       "    </tr>\n",
       "    <tr>\n",
       "      <th>3</th>\n",
       "      <td>../../Genie_Transfer/Si/2011/SI01711.Chn</td>\n",
       "      <td>788580</td>\n",
       "    </tr>\n",
       "    <tr>\n",
       "      <th>4</th>\n",
       "      <td>../../Genie_Transfer/Si/SI2007/si01507.Chn</td>\n",
       "      <td>95086</td>\n",
       "    </tr>\n",
       "    <tr>\n",
       "      <th>...</th>\n",
       "      <td>...</td>\n",
       "      <td>...</td>\n",
       "    </tr>\n",
       "    <tr>\n",
       "      <th>1908</th>\n",
       "      <td>../../Genie_Transfer/Si/SI2018/SI11418.Chn</td>\n",
       "      <td>1451705</td>\n",
       "    </tr>\n",
       "    <tr>\n",
       "      <th>1909</th>\n",
       "      <td>../../Genie_Transfer/Si/SI2018/si02618.Chn</td>\n",
       "      <td>143327</td>\n",
       "    </tr>\n",
       "    <tr>\n",
       "      <th>1910</th>\n",
       "      <td>../../Genie_Transfer/Si/SI2018/SI08118.Chn</td>\n",
       "      <td>1973215</td>\n",
       "    </tr>\n",
       "    <tr>\n",
       "      <th>1911</th>\n",
       "      <td>../../Genie_Transfer/Si/SI2018/SI09218.Chn</td>\n",
       "      <td>1448714</td>\n",
       "    </tr>\n",
       "    <tr>\n",
       "      <th>1912</th>\n",
       "      <td>../../Genie_Transfer/Si/SI2018/co6.chn</td>\n",
       "      <td>3760</td>\n",
       "    </tr>\n",
       "  </tbody>\n",
       "</table>\n",
       "<p>1913 rows × 2 columns</p>\n",
       "</div>"
      ],
      "text/plain": [
       "                                           FName  CountsSum\n",
       "0             ../../Genie_Transfer/Si/BGNOVO.Chn     535495\n",
       "1       ../../Genie_Transfer/Si/2011/SI10511.Chn     779306\n",
       "2       ../../Genie_Transfer/Si/2011/SI00411.chn     816905\n",
       "3       ../../Genie_Transfer/Si/2011/SI01711.Chn     788580\n",
       "4     ../../Genie_Transfer/Si/SI2007/si01507.Chn      95086\n",
       "...                                          ...        ...\n",
       "1908  ../../Genie_Transfer/Si/SI2018/SI11418.Chn    1451705\n",
       "1909  ../../Genie_Transfer/Si/SI2018/si02618.Chn     143327\n",
       "1910  ../../Genie_Transfer/Si/SI2018/SI08118.Chn    1973215\n",
       "1911  ../../Genie_Transfer/Si/SI2018/SI09218.Chn    1448714\n",
       "1912      ../../Genie_Transfer/Si/SI2018/co6.chn       3760\n",
       "\n",
       "[1913 rows x 2 columns]"
      ]
     },
     "execution_count": 9,
     "metadata": {},
     "output_type": "execute_result"
    }
   ],
   "source": [
    "df1"
   ]
  },
  {
   "cell_type": "code",
   "execution_count": 10,
   "metadata": {},
   "outputs": [
    {
     "data": {
      "text/html": [
       "<div>\n",
       "<style scoped>\n",
       "    .dataframe tbody tr th:only-of-type {\n",
       "        vertical-align: middle;\n",
       "    }\n",
       "\n",
       "    .dataframe tbody tr th {\n",
       "        vertical-align: top;\n",
       "    }\n",
       "\n",
       "    .dataframe thead th {\n",
       "        text-align: right;\n",
       "    }\n",
       "</style>\n",
       "<table border=\"1\" class=\"dataframe\">\n",
       "  <thead>\n",
       "    <tr style=\"text-align: right;\">\n",
       "      <th></th>\n",
       "      <th>FName</th>\n",
       "      <th>Ctroids</th>\n",
       "      <th>PkAreas</th>\n",
       "      <th>sPkAreas</th>\n",
       "      <th>PkToTotRatio</th>\n",
       "      <th>sRelArea</th>\n",
       "    </tr>\n",
       "  </thead>\n",
       "  <tbody>\n",
       "    <tr>\n",
       "      <th>0</th>\n",
       "      <td>../../Genie_Transfer/Si/BGNOVO.Chn</td>\n",
       "      <td>47.028557</td>\n",
       "      <td>5383.931276</td>\n",
       "      <td>308.973682</td>\n",
       "      <td>0.010054</td>\n",
       "      <td>0.057388</td>\n",
       "    </tr>\n",
       "    <tr>\n",
       "      <th>1</th>\n",
       "      <td>../../Genie_Transfer/Si/BGNOVO.Chn</td>\n",
       "      <td>82.467652</td>\n",
       "      <td>710.936495</td>\n",
       "      <td>110.346586</td>\n",
       "      <td>0.001328</td>\n",
       "      <td>0.155213</td>\n",
       "    </tr>\n",
       "    <tr>\n",
       "      <th>2</th>\n",
       "      <td>../../Genie_Transfer/Si/BGNOVO.Chn</td>\n",
       "      <td>95.021828</td>\n",
       "      <td>4816.233373</td>\n",
       "      <td>241.757971</td>\n",
       "      <td>0.008994</td>\n",
       "      <td>0.050196</td>\n",
       "    </tr>\n",
       "    <tr>\n",
       "      <th>3</th>\n",
       "      <td>../../Genie_Transfer/Si/BGNOVO.Chn</td>\n",
       "      <td>106.502343</td>\n",
       "      <td>2524.415910</td>\n",
       "      <td>195.184866</td>\n",
       "      <td>0.004714</td>\n",
       "      <td>0.077319</td>\n",
       "    </tr>\n",
       "    <tr>\n",
       "      <th>4</th>\n",
       "      <td>../../Genie_Transfer/Si/BGNOVO.Chn</td>\n",
       "      <td>138.340183</td>\n",
       "      <td>575.582597</td>\n",
       "      <td>179.596856</td>\n",
       "      <td>0.001075</td>\n",
       "      <td>0.312026</td>\n",
       "    </tr>\n",
       "    <tr>\n",
       "      <th>...</th>\n",
       "      <td>...</td>\n",
       "      <td>...</td>\n",
       "      <td>...</td>\n",
       "      <td>...</td>\n",
       "      <td>...</td>\n",
       "      <td>...</td>\n",
       "    </tr>\n",
       "    <tr>\n",
       "      <th>77448</th>\n",
       "      <td>../../Genie_Transfer/Si/SI2018/SI09218.Chn</td>\n",
       "      <td>2042.000000</td>\n",
       "      <td>27.596426</td>\n",
       "      <td>7.549019</td>\n",
       "      <td>0.000019</td>\n",
       "      <td>0.273551</td>\n",
       "    </tr>\n",
       "    <tr>\n",
       "      <th>77449</th>\n",
       "      <td>../../Genie_Transfer/Si/SI2018/SI09218.Chn</td>\n",
       "      <td>2355.333333</td>\n",
       "      <td>35.481119</td>\n",
       "      <td>8.206649</td>\n",
       "      <td>0.000024</td>\n",
       "      <td>0.231296</td>\n",
       "    </tr>\n",
       "    <tr>\n",
       "      <th>77450</th>\n",
       "      <td>../../Genie_Transfer/Si/SI2018/SI09218.Chn</td>\n",
       "      <td>2801.967391</td>\n",
       "      <td>241.797255</td>\n",
       "      <td>17.825530</td>\n",
       "      <td>0.000167</td>\n",
       "      <td>0.073721</td>\n",
       "    </tr>\n",
       "    <tr>\n",
       "      <th>77451</th>\n",
       "      <td>../../Genie_Transfer/Si/SI2018/SI09218.Chn</td>\n",
       "      <td>2923.454545</td>\n",
       "      <td>202.373790</td>\n",
       "      <td>16.307745</td>\n",
       "      <td>0.000140</td>\n",
       "      <td>0.080582</td>\n",
       "    </tr>\n",
       "    <tr>\n",
       "      <th>77452</th>\n",
       "      <td>../../Genie_Transfer/Si/SI2018/co6.chn</td>\n",
       "      <td>94.627451</td>\n",
       "      <td>134.039783</td>\n",
       "      <td>13.271916</td>\n",
       "      <td>0.035649</td>\n",
       "      <td>0.099015</td>\n",
       "    </tr>\n",
       "  </tbody>\n",
       "</table>\n",
       "<p>77453 rows × 6 columns</p>\n",
       "</div>"
      ],
      "text/plain": [
       "                                            FName      Ctroids      PkAreas  \\\n",
       "0              ../../Genie_Transfer/Si/BGNOVO.Chn    47.028557  5383.931276   \n",
       "1              ../../Genie_Transfer/Si/BGNOVO.Chn    82.467652   710.936495   \n",
       "2              ../../Genie_Transfer/Si/BGNOVO.Chn    95.021828  4816.233373   \n",
       "3              ../../Genie_Transfer/Si/BGNOVO.Chn   106.502343  2524.415910   \n",
       "4              ../../Genie_Transfer/Si/BGNOVO.Chn   138.340183   575.582597   \n",
       "...                                           ...          ...          ...   \n",
       "77448  ../../Genie_Transfer/Si/SI2018/SI09218.Chn  2042.000000    27.596426   \n",
       "77449  ../../Genie_Transfer/Si/SI2018/SI09218.Chn  2355.333333    35.481119   \n",
       "77450  ../../Genie_Transfer/Si/SI2018/SI09218.Chn  2801.967391   241.797255   \n",
       "77451  ../../Genie_Transfer/Si/SI2018/SI09218.Chn  2923.454545   202.373790   \n",
       "77452      ../../Genie_Transfer/Si/SI2018/co6.chn    94.627451   134.039783   \n",
       "\n",
       "         sPkAreas  PkToTotRatio  sRelArea  \n",
       "0      308.973682      0.010054  0.057388  \n",
       "1      110.346586      0.001328  0.155213  \n",
       "2      241.757971      0.008994  0.050196  \n",
       "3      195.184866      0.004714  0.077319  \n",
       "4      179.596856      0.001075  0.312026  \n",
       "...           ...           ...       ...  \n",
       "77448    7.549019      0.000019  0.273551  \n",
       "77449    8.206649      0.000024  0.231296  \n",
       "77450   17.825530      0.000167  0.073721  \n",
       "77451   16.307745      0.000140  0.080582  \n",
       "77452   13.271916      0.035649  0.099015  \n",
       "\n",
       "[77453 rows x 6 columns]"
      ]
     },
     "execution_count": 10,
     "metadata": {},
     "output_type": "execute_result"
    }
   ],
   "source": [
    "df2"
   ]
  },
  {
   "cell_type": "code",
   "execution_count": 11,
   "metadata": {
    "tags": []
   },
   "outputs": [
    {
     "data": {
      "text/plain": [
       "FName        object\n",
       "CountsSum     int64\n",
       "dtype: object"
      ]
     },
     "execution_count": 11,
     "metadata": {},
     "output_type": "execute_result"
    }
   ],
   "source": [
    "df1.dtypes"
   ]
  },
  {
   "cell_type": "code",
   "execution_count": 12,
   "metadata": {
    "tags": []
   },
   "outputs": [
    {
     "data": {
      "text/plain": [
       "FName            object\n",
       "Ctroids         float64\n",
       "PkAreas         float64\n",
       "sPkAreas        float64\n",
       "PkToTotRatio    float64\n",
       "sRelArea        float64\n",
       "dtype: object"
      ]
     },
     "execution_count": 12,
     "metadata": {},
     "output_type": "execute_result"
    }
   ],
   "source": [
    "df2.dtypes"
   ]
  },
  {
   "cell_type": "code",
   "execution_count": 13,
   "metadata": {
    "tags": []
   },
   "outputs": [],
   "source": [
    "df3 = pd.DataFrame( df2 )"
   ]
  },
  {
   "cell_type": "code",
   "execution_count": 14,
   "metadata": {},
   "outputs": [
    {
     "data": {
      "text/html": [
       "<div>\n",
       "<style scoped>\n",
       "    .dataframe tbody tr th:only-of-type {\n",
       "        vertical-align: middle;\n",
       "    }\n",
       "\n",
       "    .dataframe tbody tr th {\n",
       "        vertical-align: top;\n",
       "    }\n",
       "\n",
       "    .dataframe thead th {\n",
       "        text-align: right;\n",
       "    }\n",
       "</style>\n",
       "<table border=\"1\" class=\"dataframe\">\n",
       "  <thead>\n",
       "    <tr style=\"text-align: right;\">\n",
       "      <th></th>\n",
       "      <th>FName</th>\n",
       "      <th>Ctroids</th>\n",
       "      <th>PkAreas</th>\n",
       "      <th>sPkAreas</th>\n",
       "      <th>PkToTotRatio</th>\n",
       "      <th>sRelArea</th>\n",
       "    </tr>\n",
       "  </thead>\n",
       "  <tbody>\n",
       "    <tr>\n",
       "      <th>0</th>\n",
       "      <td>../../Genie_Transfer/Si/BGNOVO.Chn</td>\n",
       "      <td>47.028557</td>\n",
       "      <td>5383.931276</td>\n",
       "      <td>308.973682</td>\n",
       "      <td>0.010054</td>\n",
       "      <td>0.057388</td>\n",
       "    </tr>\n",
       "    <tr>\n",
       "      <th>1</th>\n",
       "      <td>../../Genie_Transfer/Si/BGNOVO.Chn</td>\n",
       "      <td>82.467652</td>\n",
       "      <td>710.936495</td>\n",
       "      <td>110.346586</td>\n",
       "      <td>0.001328</td>\n",
       "      <td>0.155213</td>\n",
       "    </tr>\n",
       "    <tr>\n",
       "      <th>2</th>\n",
       "      <td>../../Genie_Transfer/Si/BGNOVO.Chn</td>\n",
       "      <td>95.021828</td>\n",
       "      <td>4816.233373</td>\n",
       "      <td>241.757971</td>\n",
       "      <td>0.008994</td>\n",
       "      <td>0.050196</td>\n",
       "    </tr>\n",
       "    <tr>\n",
       "      <th>3</th>\n",
       "      <td>../../Genie_Transfer/Si/BGNOVO.Chn</td>\n",
       "      <td>106.502343</td>\n",
       "      <td>2524.415910</td>\n",
       "      <td>195.184866</td>\n",
       "      <td>0.004714</td>\n",
       "      <td>0.077319</td>\n",
       "    </tr>\n",
       "    <tr>\n",
       "      <th>4</th>\n",
       "      <td>../../Genie_Transfer/Si/BGNOVO.Chn</td>\n",
       "      <td>138.340183</td>\n",
       "      <td>575.582597</td>\n",
       "      <td>179.596856</td>\n",
       "      <td>0.001075</td>\n",
       "      <td>0.312026</td>\n",
       "    </tr>\n",
       "    <tr>\n",
       "      <th>...</th>\n",
       "      <td>...</td>\n",
       "      <td>...</td>\n",
       "      <td>...</td>\n",
       "      <td>...</td>\n",
       "      <td>...</td>\n",
       "      <td>...</td>\n",
       "    </tr>\n",
       "    <tr>\n",
       "      <th>77448</th>\n",
       "      <td>../../Genie_Transfer/Si/SI2018/SI09218.Chn</td>\n",
       "      <td>2042.000000</td>\n",
       "      <td>27.596426</td>\n",
       "      <td>7.549019</td>\n",
       "      <td>0.000019</td>\n",
       "      <td>0.273551</td>\n",
       "    </tr>\n",
       "    <tr>\n",
       "      <th>77449</th>\n",
       "      <td>../../Genie_Transfer/Si/SI2018/SI09218.Chn</td>\n",
       "      <td>2355.333333</td>\n",
       "      <td>35.481119</td>\n",
       "      <td>8.206649</td>\n",
       "      <td>0.000024</td>\n",
       "      <td>0.231296</td>\n",
       "    </tr>\n",
       "    <tr>\n",
       "      <th>77450</th>\n",
       "      <td>../../Genie_Transfer/Si/SI2018/SI09218.Chn</td>\n",
       "      <td>2801.967391</td>\n",
       "      <td>241.797255</td>\n",
       "      <td>17.825530</td>\n",
       "      <td>0.000167</td>\n",
       "      <td>0.073721</td>\n",
       "    </tr>\n",
       "    <tr>\n",
       "      <th>77451</th>\n",
       "      <td>../../Genie_Transfer/Si/SI2018/SI09218.Chn</td>\n",
       "      <td>2923.454545</td>\n",
       "      <td>202.373790</td>\n",
       "      <td>16.307745</td>\n",
       "      <td>0.000140</td>\n",
       "      <td>0.080582</td>\n",
       "    </tr>\n",
       "    <tr>\n",
       "      <th>77452</th>\n",
       "      <td>../../Genie_Transfer/Si/SI2018/co6.chn</td>\n",
       "      <td>94.627451</td>\n",
       "      <td>134.039783</td>\n",
       "      <td>13.271916</td>\n",
       "      <td>0.035649</td>\n",
       "      <td>0.099015</td>\n",
       "    </tr>\n",
       "  </tbody>\n",
       "</table>\n",
       "<p>77453 rows × 6 columns</p>\n",
       "</div>"
      ],
      "text/plain": [
       "                                            FName      Ctroids      PkAreas  \\\n",
       "0              ../../Genie_Transfer/Si/BGNOVO.Chn    47.028557  5383.931276   \n",
       "1              ../../Genie_Transfer/Si/BGNOVO.Chn    82.467652   710.936495   \n",
       "2              ../../Genie_Transfer/Si/BGNOVO.Chn    95.021828  4816.233373   \n",
       "3              ../../Genie_Transfer/Si/BGNOVO.Chn   106.502343  2524.415910   \n",
       "4              ../../Genie_Transfer/Si/BGNOVO.Chn   138.340183   575.582597   \n",
       "...                                           ...          ...          ...   \n",
       "77448  ../../Genie_Transfer/Si/SI2018/SI09218.Chn  2042.000000    27.596426   \n",
       "77449  ../../Genie_Transfer/Si/SI2018/SI09218.Chn  2355.333333    35.481119   \n",
       "77450  ../../Genie_Transfer/Si/SI2018/SI09218.Chn  2801.967391   241.797255   \n",
       "77451  ../../Genie_Transfer/Si/SI2018/SI09218.Chn  2923.454545   202.373790   \n",
       "77452      ../../Genie_Transfer/Si/SI2018/co6.chn    94.627451   134.039783   \n",
       "\n",
       "         sPkAreas  PkToTotRatio  sRelArea  \n",
       "0      308.973682      0.010054  0.057388  \n",
       "1      110.346586      0.001328  0.155213  \n",
       "2      241.757971      0.008994  0.050196  \n",
       "3      195.184866      0.004714  0.077319  \n",
       "4      179.596856      0.001075  0.312026  \n",
       "...           ...           ...       ...  \n",
       "77448    7.549019      0.000019  0.273551  \n",
       "77449    8.206649      0.000024  0.231296  \n",
       "77450   17.825530      0.000167  0.073721  \n",
       "77451   16.307745      0.000140  0.080582  \n",
       "77452   13.271916      0.035649  0.099015  \n",
       "\n",
       "[77453 rows x 6 columns]"
      ]
     },
     "execution_count": 14,
     "metadata": {},
     "output_type": "execute_result"
    }
   ],
   "source": [
    "df3"
   ]
  },
  {
   "cell_type": "code",
   "execution_count": 15,
   "metadata": {},
   "outputs": [],
   "source": [
    "# z = whiten(np.array([xs_concat, ys_concat]).T)"
   ]
  },
  {
   "cell_type": "code",
   "execution_count": 16,
   "metadata": {},
   "outputs": [],
   "source": [
    "# 2022-Jan-18, 18h18 (!!!!)\n",
    "# Ficou muito bom!\n",
    "# Agora, associar os clusters no gráfico polar às linhas gama"
   ]
  },
  {
   "cell_type": "code",
   "execution_count": 17,
   "metadata": {},
   "outputs": [],
   "source": [
    "# 2022-Jan-19\n",
    "# Selecionando picos com incerteza < 3%"
   ]
  },
  {
   "cell_type": "code",
   "execution_count": 18,
   "metadata": {},
   "outputs": [],
   "source": [
    "thres_s_ar = 0.03"
   ]
  },
  {
   "cell_type": "code",
   "execution_count": 19,
   "metadata": {},
   "outputs": [
    {
     "data": {
      "text/plain": [
       "0        False\n",
       "1        False\n",
       "2        False\n",
       "3        False\n",
       "4        False\n",
       "         ...  \n",
       "77448    False\n",
       "77449    False\n",
       "77450    False\n",
       "77451    False\n",
       "77452    False\n",
       "Name: sRelArea, Length: 77453, dtype: bool"
      ]
     },
     "execution_count": 19,
     "metadata": {},
     "output_type": "execute_result"
    }
   ],
   "source": [
    "all_s_areas = df3.sRelArea\n",
    "is_good_pks = all_s_areas < thres_s_ar\n",
    "is_good_pks"
   ]
  },
  {
   "cell_type": "code",
   "execution_count": 20,
   "metadata": {},
   "outputs": [],
   "source": [
    "vals_good_ctrs = np.array (df3.Ctroids [is_good_pks])\n",
    "vals_good_pktotot = np.array (df3.PkToTotRatio [is_good_pks])"
   ]
  },
  {
   "cell_type": "code",
   "execution_count": 21,
   "metadata": {},
   "outputs": [
    {
     "data": {
      "text/plain": [
       "11534"
      ]
     },
     "execution_count": 21,
     "metadata": {},
     "output_type": "execute_result"
    }
   ],
   "source": [
    "vals_good_ctrs.size"
   ]
  },
  {
   "cell_type": "code",
   "execution_count": 22,
   "metadata": {},
   "outputs": [
    {
     "data": {
      "text/plain": [
       "array([10.13673961, 11.53236861,  9.45976958, ..., 11.67741759,\n",
       "       11.5305771 ,  8.3269096 ])"
      ]
     },
     "execution_count": 22,
     "metadata": {},
     "output_type": "execute_result"
    }
   ],
   "source": [
    "r_plot = np.log(vals_good_pktotot) + 15\n",
    "r_plot"
   ]
  },
  {
   "cell_type": "code",
   "execution_count": 23,
   "metadata": {},
   "outputs": [
    {
     "data": {
      "text/plain": [
       "array([0.89121458, 0.16226891, 2.05546177, ..., 2.02320752, 2.29498104,\n",
       "       2.3836961 ])"
      ]
     },
     "execution_count": 23,
     "metadata": {},
     "output_type": "execute_result"
    }
   ],
   "source": [
    "th_plot = vals_good_ctrs / 4096 * 2 * np.pi\n",
    "th_plot"
   ]
  },
  {
   "cell_type": "code",
   "execution_count": 24,
   "metadata": {},
   "outputs": [
    {
     "data": {
      "text/plain": [
       "3.9879488344808784"
      ]
     },
     "execution_count": 24,
     "metadata": {},
     "output_type": "execute_result"
    }
   ],
   "source": [
    "np.min(r_plot)"
   ]
  },
  {
   "cell_type": "code",
   "execution_count": 25,
   "metadata": {},
   "outputs": [
    {
     "data": {
      "text/plain": [
       "14.780399471629025"
      ]
     },
     "execution_count": 25,
     "metadata": {},
     "output_type": "execute_result"
    }
   ],
   "source": [
    "np.max(r_plot)"
   ]
  },
  {
   "cell_type": "code",
   "execution_count": 26,
   "metadata": {},
   "outputs": [],
   "source": [
    "xs_concat = np.cos(th_plot) * r_plot\n",
    "ys_concat = np.sin(th_plot) * r_plot"
   ]
  },
  {
   "cell_type": "code",
   "execution_count": 27,
   "metadata": {},
   "outputs": [],
   "source": [
    "# z = whiten(np.array([xs_concat[is_good_pks], ys_concat[is_good_pks]]).T)\n",
    "# z.shape"
   ]
  },
  {
   "cell_type": "code",
   "execution_count": 28,
   "metadata": {},
   "outputs": [
    {
     "data": {
      "text/plain": [
       "(11534, 2)"
      ]
     },
     "execution_count": 28,
     "metadata": {},
     "output_type": "execute_result"
    }
   ],
   "source": [
    "z = np.array([xs_concat, ys_concat]).T\n",
    "z.shape"
   ]
  },
  {
   "cell_type": "code",
   "execution_count": 29,
   "metadata": {},
   "outputs": [],
   "source": [
    "k = 21"
   ]
  },
  {
   "cell_type": "code",
   "execution_count": 30,
   "metadata": {
    "tags": []
   },
   "outputs": [
    {
     "name": "stderr",
     "output_type": "stream",
     "text": [
      "/home/maduar/anaconda3/lib/python3.8/site-packages/scipy/cluster/vq.py:607: UserWarning: One of the clusters is empty. Re-run kmeans with a different initialization.\n",
      "  warnings.warn(\"One of the clusters is empty. \"\n"
     ]
    }
   ],
   "source": [
    "clust_med, clust_ind = kmeans2(data=z, k=k)"
   ]
  },
  {
   "cell_type": "code",
   "execution_count": 31,
   "metadata": {},
   "outputs": [
    {
     "name": "stdout",
     "output_type": "stream",
     "text": [
      "[[ 5.90876235e+00 -5.63900150e+00]\n",
      " [ 7.89094069e+00  9.84217257e+00]\n",
      " [ 1.25823230e+01  1.12514275e+01]\n",
      " [-5.63647330e-01 -9.20054213e+00]\n",
      " [ 1.96362971e+00  9.48547038e+00]\n",
      " [ 3.29485328e-04  9.26274777e+00]\n",
      " [ 1.11515657e+01  2.02720297e+00]\n",
      " [-1.09670400e+00  7.37354686e+00]\n",
      " [ 5.91439925e+00  7.41680427e+00]\n",
      " [ 1.07765256e+01  8.17284394e+00]\n",
      " [-3.99605358e+00  8.37484072e+00]\n",
      " [-6.45078077e+00 -5.59337368e+00]\n",
      " [ 9.61529326e+00  5.68248360e+00]\n",
      " [-7.62429265e+00  7.92752141e+00]\n",
      " [ 7.58341172e+00  5.00777230e+00]\n",
      " [-7.06144632e+00  5.77984372e+00]\n",
      " [ 3.17112165e+00  6.71237403e+00]\n",
      " [-4.92926551e+00  1.03301129e+01]\n",
      " [-8.67313465e+00  1.51915295e+00]\n",
      " [ 9.09403593e+00  3.11922720e+00]\n",
      " [ 4.62028285e+00  9.35812067e+00]]\n"
     ]
    }
   ],
   "source": [
    "print(clust_med)"
   ]
  },
  {
   "cell_type": "code",
   "execution_count": 32,
   "metadata": {},
   "outputs": [
    {
     "name": "stdout",
     "output_type": "stream",
     "text": [
      "[ 8  6 10 ... 17 13 15]\n"
     ]
    }
   ],
   "source": [
    "print(clust_ind)"
   ]
  },
  {
   "cell_type": "code",
   "execution_count": 33,
   "metadata": {},
   "outputs": [
    {
     "data": {
      "text/plain": [
       "11534"
      ]
     },
     "execution_count": 33,
     "metadata": {},
     "output_type": "execute_result"
    }
   ],
   "source": [
    "clust_ind.size"
   ]
  },
  {
   "cell_type": "code",
   "execution_count": 34,
   "metadata": {},
   "outputs": [],
   "source": [
    "# 2022-Feb-02\n",
    "# Recovering chans & ratios corresponding to cluster centroids"
   ]
  },
  {
   "cell_type": "code",
   "execution_count": null,
   "metadata": {},
   "outputs": [],
   "source": []
  },
  {
   "cell_type": "code",
   "execution_count": 35,
   "metadata": {},
   "outputs": [],
   "source": [
    "fig_clus = go.FigureWidget();\n",
    "\n",
    "fig_clus.add_trace(\n",
    "    go.Scatter(x=z[:,0],\n",
    "               y=z[:,1],\n",
    "               name='xs_plcnz',\n",
    "               mode='markers',\n",
    "               marker=dict(\n",
    "                   # color='LightSkyBlue',\n",
    "                   color='rgba(200, 255, 20, 0.3)',\n",
    "                   size=8,\n",
    "                   line=dict(\n",
    "                       color=clust_ind,\n",
    "                       colorscale='Viridis',\n",
    "                       width=1.5))));\n",
    "fig_clus.add_trace(\n",
    "    go.Scatter(x=clust_med[:,0],\n",
    "               y=clust_med[:,1],\n",
    "               name='cluster centroids',\n",
    "               mode='markers',\n",
    "               marker=dict(\n",
    "                   # color='LightSkyBlue',\n",
    "                   color='rgba(200, 20, 255, 0.3)',\n",
    "                   size=16,\n",
    "                   line=dict(\n",
    "                       color='Blue',\n",
    "                       width=3.0))));\n",
    "# Set title and scale type\n",
    "fig_clus.update_layout(title_text=\"Fig 3: fig_clus\")\n",
    "fig_clus.write_html('fig_clus.html', auto_open=True)"
   ]
  },
  {
   "cell_type": "code",
   "execution_count": null,
   "metadata": {},
   "outputs": [],
   "source": []
  },
  {
   "cell_type": "code",
   "execution_count": 36,
   "metadata": {},
   "outputs": [],
   "source": [
    "# 2022-Jan-13 Refatorar a partir daqui"
   ]
  },
  {
   "cell_type": "code",
   "execution_count": null,
   "metadata": {},
   "outputs": [],
   "source": []
  },
  {
   "cell_type": "code",
   "execution_count": 45,
   "metadata": {},
   "outputs": [
    {
     "ename": "NameError",
     "evalue": "name 'pann' is not defined",
     "output_type": "error",
     "traceback": [
      "\u001b[0;31m---------------------------------------------------------------------------\u001b[0m",
      "\u001b[0;31mNameError\u001b[0m                                 Traceback (most recent call last)",
      "\u001b[0;32m/tmp/ipykernel_24108/1291349912.py\u001b[0m in \u001b[0;36m<module>\u001b[0;34m\u001b[0m\n\u001b[1;32m      2\u001b[0m \u001b[0;34m\u001b[0m\u001b[0m\n\u001b[1;32m      3\u001b[0m figw3.add_trace(\n\u001b[0;32m----> 4\u001b[0;31m     go.Scatter(x=pann.cnt_array_like.chans_nzero,\n\u001b[0m\u001b[1;32m      5\u001b[0m                \u001b[0my\u001b[0m\u001b[0;34m=\u001b[0m\u001b[0mpann\u001b[0m\u001b[0;34m.\u001b[0m\u001b[0mcnt_array_like\u001b[0m\u001b[0;34m.\u001b[0m\u001b[0mcounts_nzero\u001b[0m\u001b[0;34m,\u001b[0m\u001b[0;34m\u001b[0m\u001b[0;34m\u001b[0m\u001b[0m\n\u001b[1;32m      6\u001b[0m                error_y=dict(\n",
      "\u001b[0;31mNameError\u001b[0m: name 'pann' is not defined"
     ]
    }
   ],
   "source": [
    "figw3 = go.FigureWidget();\n",
    "\n",
    "figw3.add_trace(\n",
    "    go.Scatter(x=pann.cnt_array_like.chans_nzero,\n",
    "               y=pann.cnt_array_like.counts_nzero,\n",
    "               error_y=dict(\n",
    "                   color='orange',width=3.0,\n",
    "                   type='data', # value of error bar given in data coordinates\n",
    "                   array=pann.cnt_array_like.unc_y_4plot,\n",
    "                   visible=True),\n",
    "               name='Counts & uncertaintes',\n",
    "               line=dict(color='orange',width=0.3)));\n",
    "figw3.add_trace(\n",
    "    go.Scatter(x=pann.peaks_parms.propts_halfhe_net.xs_fwhm_lines,\n",
    "               y=pann.peaks_parms.propts_halfhe_net.ys_fwhm_lines,\n",
    "               name='FWHMs',\n",
    "               line=dict(color='blue',width=3.0)));\n",
    "figw3.add_trace(\n",
    "    go.Scatter(x=pann.peaks_parms.propts_halfhe_net.xs_fwb_lines,\n",
    "               y=pann.peaks_parms.propts_halfhe_net.ys_fwb_lines,\n",
    "               name='FW at base',\n",
    "               line=dict(color='magenta',width=3.0)));\n",
    "\n",
    "# Set title and scale type\n",
    "figw3.update_layout(title_text=\"Fig 3: Definition of regions\")\n",
    "figw3.update_yaxes(type='log');\n",
    "figw3.write_html('figw3.html', auto_open=True)"
   ]
  },
  {
   "cell_type": "code",
   "execution_count": null,
   "metadata": {},
   "outputs": [],
   "source": []
  },
  {
   "cell_type": "code",
   "execution_count": null,
   "metadata": {},
   "outputs": [],
   "source": []
  },
  {
   "cell_type": "code",
   "execution_count": 37,
   "metadata": {},
   "outputs": [
    {
     "data": {
      "text/plain": [
       "0.0015339807878856412"
      ]
     },
     "execution_count": 37,
     "metadata": {},
     "output_type": "execute_result"
    }
   ],
   "source": [
    "ka = 2 * np.pi / 4096\n",
    "ka"
   ]
  },
  {
   "cell_type": "code",
   "execution_count": 38,
   "metadata": {},
   "outputs": [
    {
     "data": {
      "text/plain": [
       "array([1551.22587034,  583.44311635,  475.63523001,  984.11297153,\n",
       "        890.92723621, 1023.9768113 ,  117.22619675, 1120.2544579 ,\n",
       "        585.15923252,  422.98519607, 1314.22587671,  465.67037389,\n",
       "        347.95979798, 1523.29091197,  380.46295465, 1600.84687215,\n",
       "        736.28536373, 1314.23894273, 1934.96261221,  215.40198755,\n",
       "        725.03258518])"
      ]
     },
     "execution_count": 38,
     "metadata": {},
     "output_type": "execute_result"
    }
   ],
   "source": [
    "centrs_angs_step1 = np.array([np.arctan2(y,x) for (x, y) in clust_med])\n",
    "centrs_angs = np.where(centrs_angs_step1 < 0, centrs_angs_step1 + np.pi, centrs_angs_step1)\n",
    "centrs_chans = centrs_angs / ka\n",
    "centrs_chans"
   ]
  },
  {
   "cell_type": "code",
   "execution_count": 39,
   "metadata": {},
   "outputs": [
    {
     "data": {
      "text/plain": [
       "array([ 117.22619675,  215.40198755,  347.95979798,  380.46295465,\n",
       "        422.98519607,  465.67037389,  475.63523001,  583.44311635,\n",
       "        585.15923252,  725.03258518,  736.28536373,  890.92723621,\n",
       "        984.11297153, 1023.9768113 , 1120.2544579 , 1314.22587671,\n",
       "       1314.23894273, 1523.29091197, 1551.22587034, 1600.84687215,\n",
       "       1934.96261221])"
      ]
     },
     "execution_count": 39,
     "metadata": {},
     "output_type": "execute_result"
    }
   ],
   "source": [
    "np.sort(centrs_chans)"
   ]
  },
  {
   "cell_type": "code",
   "execution_count": 40,
   "metadata": {},
   "outputs": [
    {
     "data": {
      "text/plain": [
       "array([1551.22587034,  583.44311635,  475.63523001,  984.11297153,\n",
       "        890.92723621, 1023.9768113 ,  117.22619675, 1120.2544579 ,\n",
       "        585.15923252,  422.98519607, 1314.22587671,  465.67037389,\n",
       "        347.95979798, 1523.29091197,  380.46295465, 1600.84687215,\n",
       "        736.28536373, 1314.23894273, 1934.96261221,  215.40198755,\n",
       "        725.03258518])"
      ]
     },
     "execution_count": 40,
     "metadata": {},
     "output_type": "execute_result"
    }
   ],
   "source": [
    "centrs_chans"
   ]
  },
  {
   "cell_type": "code",
   "execution_count": 41,
   "metadata": {},
   "outputs": [],
   "source": [
    "centrs_pktotot = np.array([np.sqrt(x**2 + y**2) for (x, y) in clust_med])"
   ]
  },
  {
   "cell_type": "code",
   "execution_count": 42,
   "metadata": {},
   "outputs": [
    {
     "data": {
      "text/plain": [
       "array([[1551.22587034,    8.16772982],\n",
       "       [ 583.44311635,   12.6148843 ],\n",
       "       [ 475.63523001,   16.87926158],\n",
       "       [ 984.11297153,    9.21779115],\n",
       "       [ 890.92723621,    9.68658815],\n",
       "       [1023.9768113 ,    9.26274778],\n",
       "       [ 117.22619675,   11.33432704],\n",
       "       [1120.2544579 ,    7.45465981],\n",
       "       [ 585.15923252,    9.48625869],\n",
       "       [ 422.98519607,   13.5251204 ],\n",
       "       [1314.22587671,    9.27935349],\n",
       "       [ 465.67037389,    8.53805608],\n",
       "       [ 347.95979798,   11.16890704],\n",
       "       [1523.29091197,   10.99888332],\n",
       "       [ 380.46295465,    9.08767939],\n",
       "       [1600.84687215,    9.12527356],\n",
       "       [ 736.28536373,    7.42374418],\n",
       "       [1314.23894273,   11.44591155],\n",
       "       [1934.96261221,    8.80517407],\n",
       "       [ 215.40198755,    9.61410775],\n",
       "       [ 725.03258518,   10.4365433 ]])"
      ]
     },
     "execution_count": 42,
     "metadata": {},
     "output_type": "execute_result"
    }
   ],
   "source": [
    "np.array([centrs_chans, centrs_pktotot]).T"
   ]
  },
  {
   "cell_type": "code",
   "execution_count": null,
   "metadata": {},
   "outputs": [],
   "source": []
  },
  {
   "cell_type": "code",
   "execution_count": 43,
   "metadata": {},
   "outputs": [
    {
     "data": {
      "text/plain": [
       "array([[ 5.90876235e+00, -5.63900150e+00],\n",
       "       [ 7.89094069e+00,  9.84217257e+00],\n",
       "       [ 1.25823230e+01,  1.12514275e+01],\n",
       "       [-5.63647330e-01, -9.20054213e+00],\n",
       "       [ 1.96362971e+00,  9.48547038e+00],\n",
       "       [ 3.29485328e-04,  9.26274777e+00],\n",
       "       [ 1.11515657e+01,  2.02720297e+00],\n",
       "       [-1.09670400e+00,  7.37354686e+00],\n",
       "       [ 5.91439925e+00,  7.41680427e+00],\n",
       "       [ 1.07765256e+01,  8.17284394e+00],\n",
       "       [-3.99605358e+00,  8.37484072e+00],\n",
       "       [-6.45078077e+00, -5.59337368e+00],\n",
       "       [ 9.61529326e+00,  5.68248360e+00],\n",
       "       [-7.62429265e+00,  7.92752141e+00],\n",
       "       [ 7.58341172e+00,  5.00777230e+00],\n",
       "       [-7.06144632e+00,  5.77984372e+00],\n",
       "       [ 3.17112165e+00,  6.71237403e+00],\n",
       "       [-4.92926551e+00,  1.03301129e+01],\n",
       "       [-8.67313465e+00,  1.51915295e+00],\n",
       "       [ 9.09403593e+00,  3.11922720e+00],\n",
       "       [ 4.62028285e+00,  9.35812067e+00]])"
      ]
     },
     "execution_count": 43,
     "metadata": {},
     "output_type": "execute_result"
    }
   ],
   "source": [
    "clust_med"
   ]
  },
  {
   "cell_type": "code",
   "execution_count": 44,
   "metadata": {},
   "outputs": [
    {
     "ename": "NameError",
     "evalue": "name 'dfPeakInfo' is not defined",
     "output_type": "error",
     "traceback": [
      "\u001b[0;31m---------------------------------------------------------------------------\u001b[0m",
      "\u001b[0;31mNameError\u001b[0m                                 Traceback (most recent call last)",
      "\u001b[0;32m/tmp/ipykernel_24108/1838554016.py\u001b[0m in \u001b[0;36m<module>\u001b[0;34m\u001b[0m\n\u001b[1;32m      1\u001b[0m \u001b[0;31m# df4=df2sB.copy()\u001b[0m\u001b[0;34m\u001b[0m\u001b[0;34m\u001b[0m\u001b[0;34m\u001b[0m\u001b[0m\n\u001b[0;32m----> 2\u001b[0;31m \u001b[0mdfPeakInfo\u001b[0m\u001b[0;34m.\u001b[0m\u001b[0mloc\u001b[0m\u001b[0;34m[\u001b[0m\u001b[0;34m(\u001b[0m\u001b[0mdfPeakInfo\u001b[0m\u001b[0;34m[\u001b[0m\u001b[0;34m'Centr'\u001b[0m\u001b[0;34m]\u001b[0m \u001b[0;34m>=\u001b[0m  \u001b[0;36m355\u001b[0m\u001b[0;34m)\u001b[0m \u001b[0;34m&\u001b[0m \u001b[0;34m(\u001b[0m\u001b[0mdfPeakInfo\u001b[0m\u001b[0;34m[\u001b[0m\u001b[0;34m'Centr'\u001b[0m\u001b[0;34m]\u001b[0m \u001b[0;34m<=\u001b[0m  \u001b[0;36m405\u001b[0m\u001b[0;34m)\u001b[0m\u001b[0;34m,\u001b[0m \u001b[0;34m'IdEnergy'\u001b[0m\u001b[0;34m]\u001b[0m \u001b[0;34m=\u001b[0m \u001b[0;34m'keV0320'\u001b[0m\u001b[0;34m\u001b[0m\u001b[0;34m\u001b[0m\u001b[0m\n\u001b[0m\u001b[1;32m      3\u001b[0m \u001b[0mdfPeakInfo\u001b[0m\u001b[0;34m.\u001b[0m\u001b[0mloc\u001b[0m\u001b[0;34m[\u001b[0m\u001b[0;34m(\u001b[0m\u001b[0mdfPeakInfo\u001b[0m\u001b[0;34m[\u001b[0m\u001b[0;34m'Centr'\u001b[0m\u001b[0;34m]\u001b[0m \u001b[0;34m>=\u001b[0m  \u001b[0;36m902\u001b[0m\u001b[0;34m)\u001b[0m \u001b[0;34m&\u001b[0m \u001b[0;34m(\u001b[0m\u001b[0mdfPeakInfo\u001b[0m\u001b[0;34m[\u001b[0m\u001b[0;34m'Centr'\u001b[0m\u001b[0;34m]\u001b[0m \u001b[0;34m<=\u001b[0m  \u001b[0;36m952\u001b[0m\u001b[0;34m)\u001b[0m\u001b[0;34m,\u001b[0m \u001b[0;34m'IdEnergy'\u001b[0m\u001b[0;34m]\u001b[0m \u001b[0;34m=\u001b[0m \u001b[0;34m'keV0810'\u001b[0m\u001b[0;34m\u001b[0m\u001b[0;34m\u001b[0m\u001b[0m\n\u001b[1;32m      4\u001b[0m \u001b[0mdfPeakInfo\u001b[0m\u001b[0;34m.\u001b[0m\u001b[0mloc\u001b[0m\u001b[0;34m[\u001b[0m\u001b[0;34m(\u001b[0m\u001b[0mdfPeakInfo\u001b[0m\u001b[0;34m[\u001b[0m\u001b[0;34m'Centr'\u001b[0m\u001b[0;34m]\u001b[0m \u001b[0;34m>=\u001b[0m \u001b[0;36m1305\u001b[0m\u001b[0;34m)\u001b[0m \u001b[0;34m&\u001b[0m \u001b[0;34m(\u001b[0m\u001b[0mdfPeakInfo\u001b[0m\u001b[0;34m[\u001b[0m\u001b[0;34m'Centr'\u001b[0m\u001b[0;34m]\u001b[0m \u001b[0;34m<=\u001b[0m \u001b[0;36m1355\u001b[0m\u001b[0;34m)\u001b[0m\u001b[0;34m,\u001b[0m \u001b[0;34m'IdEnergy'\u001b[0m\u001b[0;34m]\u001b[0m \u001b[0;34m=\u001b[0m \u001b[0;34m'keV1173'\u001b[0m\u001b[0;34m\u001b[0m\u001b[0;34m\u001b[0m\u001b[0m\n\u001b[1;32m      5\u001b[0m \u001b[0mdfPeakInfo\u001b[0m\u001b[0;34m.\u001b[0m\u001b[0mloc\u001b[0m\u001b[0;34m[\u001b[0m\u001b[0;34m(\u001b[0m\u001b[0mdfPeakInfo\u001b[0m\u001b[0;34m[\u001b[0m\u001b[0;34m'Centr'\u001b[0m\u001b[0;34m]\u001b[0m \u001b[0;34m>=\u001b[0m \u001b[0;36m1488\u001b[0m\u001b[0;34m)\u001b[0m \u001b[0;34m&\u001b[0m \u001b[0;34m(\u001b[0m\u001b[0mdfPeakInfo\u001b[0m\u001b[0;34m[\u001b[0m\u001b[0;34m'Centr'\u001b[0m\u001b[0;34m]\u001b[0m \u001b[0;34m<=\u001b[0m \u001b[0;36m1538\u001b[0m\u001b[0;34m)\u001b[0m\u001b[0;34m,\u001b[0m \u001b[0;34m'IdEnergy'\u001b[0m\u001b[0;34m]\u001b[0m \u001b[0;34m=\u001b[0m \u001b[0;34m'keV1332'\u001b[0m\u001b[0;34m\u001b[0m\u001b[0;34m\u001b[0m\u001b[0m\n",
      "\u001b[0;31mNameError\u001b[0m: name 'dfPeakInfo' is not defined"
     ]
    }
   ],
   "source": [
    "# df4=df2sB.copy()\n",
    "dfPeakInfo.loc[(dfPeakInfo['Centr'] >=  355) & (dfPeakInfo['Centr'] <=  405), 'IdEnergy'] = 'keV0320'\n",
    "dfPeakInfo.loc[(dfPeakInfo['Centr'] >=  902) & (dfPeakInfo['Centr'] <=  952), 'IdEnergy'] = 'keV0810'\n",
    "dfPeakInfo.loc[(dfPeakInfo['Centr'] >= 1305) & (dfPeakInfo['Centr'] <= 1355), 'IdEnergy'] = 'keV1173'\n",
    "dfPeakInfo.loc[(dfPeakInfo['Centr'] >= 1488) & (dfPeakInfo['Centr'] <= 1538), 'IdEnergy'] = 'keV1332'\n",
    "dfPeakInfo.loc[(dfPeakInfo['Centr'] >= 2915) & (dfPeakInfo['Centr'] <= 2980), 'IdEnergy'] = 'keV2615'\n",
    "dfPeakInfo.loc[(dfPeakInfo['Centr'] >=  355) & (dfPeakInfo['Centr'] <=  405), 'Energy'] =  320.08\n",
    "dfPeakInfo.loc[(dfPeakInfo['Centr'] >=  902) & (dfPeakInfo['Centr'] <=  952), 'Energy'] =  810.78\n",
    "dfPeakInfo.loc[(dfPeakInfo['Centr'] >= 1305) & (dfPeakInfo['Centr'] <= 1355), 'Energy'] = 1173.24\n",
    "dfPeakInfo.loc[(dfPeakInfo['Centr'] >= 1488) & (dfPeakInfo['Centr'] <= 1538), 'Energy'] = 1332.50\n",
    "dfPeakInfo.loc[(dfPeakInfo['Centr'] >= 2915) & (dfPeakInfo['Centr'] <= 2980), 'Energy'] = 2614.7\n",
    "# df4\n",
    "dfPeakInfo.reset_index(drop=True)"
   ]
  },
  {
   "cell_type": "code",
   "execution_count": null,
   "metadata": {},
   "outputs": [],
   "source": [
    "zdxth zx hszethszehs"
   ]
  },
  {
   "cell_type": "code",
   "execution_count": null,
   "metadata": {},
   "outputs": [],
   "source": []
  },
  {
   "cell_type": "code",
   "execution_count": null,
   "metadata": {},
   "outputs": [],
   "source": []
  },
  {
   "cell_type": "markdown",
   "metadata": {
    "tags": []
   },
   "source": [
    "#### Selecionando um único arquivo\n",
    "A partir daqui: escolher um arquivo (aleatoriamente, ou fixando um (vals=249) para fazer a análise com o ogray."
   ]
  },
  {
   "cell_type": "code",
   "execution_count": 46,
   "metadata": {},
   "outputs": [
    {
     "ename": "NameError",
     "evalue": "name 'fb' is not defined",
     "output_type": "error",
     "traceback": [
      "\u001b[0;31m---------------------------------------------------------------------------\u001b[0m",
      "\u001b[0;31mNameError\u001b[0m                                 Traceback (most recent call last)",
      "\u001b[0;32m/tmp/ipykernel_24108/2009419650.py\u001b[0m in \u001b[0;36m<module>\u001b[0;34m\u001b[0m\n\u001b[1;32m      2\u001b[0m \u001b[0;32mfrom\u001b[0m \u001b[0mnumpy\u001b[0m\u001b[0;34m.\u001b[0m\u001b[0mrandom\u001b[0m \u001b[0;32mimport\u001b[0m \u001b[0mdefault_rng\u001b[0m\u001b[0;34m\u001b[0m\u001b[0;34m\u001b[0m\u001b[0m\n\u001b[1;32m      3\u001b[0m \u001b[0mrng\u001b[0m \u001b[0;34m=\u001b[0m \u001b[0mdefault_rng\u001b[0m\u001b[0;34m(\u001b[0m\u001b[0;34m)\u001b[0m\u001b[0;34m\u001b[0m\u001b[0;34m\u001b[0m\u001b[0m\n\u001b[0;32m----> 4\u001b[0;31m \u001b[0mvals\u001b[0m \u001b[0;34m=\u001b[0m \u001b[0mrng\u001b[0m\u001b[0;34m.\u001b[0m\u001b[0mintegers\u001b[0m\u001b[0;34m(\u001b[0m\u001b[0mfb\u001b[0m\u001b[0;34m.\u001b[0m\u001b[0mnumarqs\u001b[0m\u001b[0;34m)\u001b[0m\u001b[0;34m\u001b[0m\u001b[0;34m\u001b[0m\u001b[0m\n\u001b[0m\u001b[1;32m      5\u001b[0m \u001b[0mf_name\u001b[0m \u001b[0;34m=\u001b[0m \u001b[0mfb\u001b[0m\u001b[0;34m.\u001b[0m\u001b[0mlist_p\u001b[0m \u001b[0;34m[\u001b[0m\u001b[0mvals\u001b[0m\u001b[0;34m]\u001b[0m\u001b[0;34m\u001b[0m\u001b[0;34m\u001b[0m\u001b[0m\n\u001b[1;32m      6\u001b[0m \u001b[0mf_name\u001b[0m\u001b[0;34m\u001b[0m\u001b[0;34m\u001b[0m\u001b[0m\n",
      "\u001b[0;31mNameError\u001b[0m: name 'fb' is not defined"
     ]
    }
   ],
   "source": [
    "# Do this (new version)\n",
    "from numpy.random import default_rng\n",
    "rng = default_rng()\n",
    "vals = rng.integers(fb.numarqs)\n",
    "f_name = fb.list_p [vals]\n",
    "f_name"
   ]
  },
  {
   "cell_type": "code",
   "execution_count": null,
   "metadata": {},
   "outputs": [],
   "source": [
    "vals"
   ]
  },
  {
   "cell_type": "code",
   "execution_count": null,
   "metadata": {},
   "outputs": [],
   "source": [
    "spec = Spec(f_name)\n",
    "# sequência:\n",
    "#    incia obj spec_parms \n",
    "#    initial_peaks_search: acha picos candidatos, põe em peaks_parms.peaks\n",
    "#    define_multiplets_regions: \n",
    "#       em init do cnt_array_like, define eval_smoo_cts\n",
    "#       em define_multiplets_regions: define is_reg com base em bons picos\n",
    "#    em define_multiplets_limits: define mix_regions (lims reg)\n",
    "#    calculate_base_line   \n",
    "#    calculate_net_spec\n",
    "#\n",
    "#\n",
    "#\n",
    "#\n",
    "# spec.spec_parms.peaks_parms.initial_peaks_search(spec.spec_parms.cnt_array_like.n_ch,\n",
    "#                                                  spec.spec_parms.cnt_array_like.eval_smoo_cts)\n",
    "spec.spec_parms.peaks_parms.initial_peaks_search(spec.spec_parms.cnt_array_like.n_ch,\n",
    "                                                 spec.spec_parms.cnt_array_like.y0s,\n",
    "                                                 peak_sd_fact=4.0)\n",
    "spec.spec_parms.peaks_parms.initial_width_lines()\n",
    "spec.spec_parms.peaks_parms.define_multiplets_regions(spec.spec_parms.cnt_array_like.n_ch,\n",
    "                                                      spec.spec_parms.cnt_array_like.is_reg)\n",
    "    #    self.peaks_parms.define_multiplets_limits(self.cnt_array_like.n_ch,\n",
    "    #                                              self.cnt_array_like.is_reg)\n",
    "    #    self.cnt_array_like.calculate_base_line(self.peaks_parms.mix_regions)\n",
    "    #    self.cnt_array_like.calculate_net_spec()"
   ]
  },
  {
   "cell_type": "code",
   "execution_count": null,
   "metadata": {},
   "outputs": [],
   "source": []
  },
  {
   "cell_type": "code",
   "execution_count": null,
   "metadata": {},
   "outputs": [],
   "source": [
    "chans_nzero = spec.spec_parms.cnt_array_like.chans_nzero\n",
    "counts_nzero = spec.spec_parms.cnt_array_like.counts_nzero\n",
    "unc_y_4plot = spec.spec_parms.cnt_array_like.unc_y_4plot\n",
    "chans = spec.spec_parms.cnt_array_like.chans\n",
    "eval_smoo_cts = spec.spec_parms.cnt_array_like.eval_smoo_cts"
   ]
  },
  {
   "cell_type": "code",
   "execution_count": null,
   "metadata": {},
   "outputs": [],
   "source": []
  },
  {
   "cell_type": "code",
   "execution_count": null,
   "metadata": {},
   "outputs": [],
   "source": [
    "# Initialize figure\n",
    "figw1 = go.FigureWidget();\n",
    "\n",
    "# Add Traces\n",
    "\n",
    "figw1.add_trace(\n",
    "    go.Scatter(x=chans_nzero,\n",
    "               y=counts_nzero,\n",
    "               error_y=dict(\n",
    "                   color='orange',width=3.0,\n",
    "                   type='data', # value of error bar given in data coordinates\n",
    "                   array=unc_y_4plot,\n",
    "                   visible=True),\n",
    "               name='Counts & uncertaintes',\n",
    "               line=dict(color='orange',width=0.3)));\n",
    "figw1.add_trace(\n",
    "    go.Scatter(x=chans,\n",
    "               y=eval_smoo_cts,\n",
    "               name='Smoothed',\n",
    "               line=dict(color='navy',width=0.4)));\n",
    "\n",
    "# Set title and scale type\n",
    "figw1.update_layout(title_text='Fig 1: Gamma-ray spectrum with automatic smooth')\n",
    "figw1.update_yaxes(type='log');\n",
    "\n",
    "# figw1.write_html('fig1w.html', auto_open=True)"
   ]
  },
  {
   "cell_type": "code",
   "execution_count": null,
   "metadata": {},
   "outputs": [],
   "source": []
  },
  {
   "cell_type": "code",
   "execution_count": null,
   "metadata": {},
   "outputs": [],
   "source": [
    "fig_widths = go.FigureWidget(figw1);\n",
    "\n",
    "fig_widths.add_trace(\n",
    "    go.Scatter(x=spec.spec_parms.peaks_parms.xs_fwhm_lines,\n",
    "               y=spec.spec_parms.peaks_parms.ys_fwhm_lines,\n",
    "               name='FWHMs',\n",
    "               line=dict(color='blue',width=3.0)));\n",
    "fig_widths.add_trace(\n",
    "    go.Scatter(x=spec.spec_parms.peaks_parms.xs_fwb_lines,\n",
    "               y=spec.spec_parms.peaks_parms.ys_fwb_lines,\n",
    "               name='FW at base',\n",
    "               line=dict(color='magenta',width=3.0)));\n",
    "fig_widths.add_trace(\n",
    "    go.Scatter(x=spec.spec_parms.peaks_parms.peaks,\n",
    "               y=spec.spec_parms.peaks_parms.pk_hei,\n",
    "               name='peak_heights',\n",
    "               mode='markers',\n",
    "               line=dict(color='green',width=3.0)));\n",
    "fig_widths.add_trace(\n",
    "    go.Scatter(x=spec.spec_parms.peaks_parms.peaks,\n",
    "               y=spec.spec_parms.peaks_parms.pk_hei - spec.spec_parms.peaks_parms.promns,\n",
    "               name='pk_hei-promns',\n",
    "               mode='markers',\n",
    "               line=dict(color='cyan',width=3.0)));\n",
    "fig_widths.add_trace(\n",
    "    go.Scatter(x=spec.spec_parms.peaks_parms.fwhm_ctrs,\n",
    "               y=spec.spec_parms.peaks_parms.pk_hei,\n",
    "               name='fwhm_ctrs',\n",
    "               mode='markers',\n",
    "               line=dict(color='red',width=5.0),\n",
    "               marker=dict(\n",
    "                   # color='LightSkyBlue',\n",
    "                   color='rgba(200, 255, 20, 0.3)',\n",
    "                   size=15,\n",
    "                   line=dict(\n",
    "                       color='Crimson',\n",
    "                       width=2))));\n",
    "# Set title and scale type\n",
    "fig_widths.update_layout(title_text=\"Fig 2: Peaks widths\")\n",
    "fig_widths.update_yaxes(type='log');\n",
    "fig_widths.write_html('fig_widths.html', auto_open=True)"
   ]
  },
  {
   "cell_type": "code",
   "execution_count": null,
   "metadata": {},
   "outputs": [],
   "source": []
  },
  {
   "cell_type": "code",
   "execution_count": null,
   "metadata": {},
   "outputs": [],
   "source": [
    "# Áreas iniciais do espectro acima:\n",
    "spec.spec_parms.peaks_parms.promns"
   ]
  },
  {
   "cell_type": "code",
   "execution_count": null,
   "metadata": {},
   "outputs": [],
   "source": []
  },
  {
   "cell_type": "code",
   "execution_count": null,
   "metadata": {},
   "outputs": [],
   "source": [
    "spec.spec_parms.peaks_parms.widths"
   ]
  },
  {
   "cell_type": "code",
   "execution_count": null,
   "metadata": {},
   "outputs": [],
   "source": []
  },
  {
   "cell_type": "code",
   "execution_count": null,
   "metadata": {},
   "outputs": [],
   "source": [
    "init_peaks_areas = k_ar * spec.spec_parms.peaks_parms.promns * spec.spec_parms.peaks_parms.widths\n",
    "init_peaks_areas"
   ]
  },
  {
   "cell_type": "code",
   "execution_count": null,
   "metadata": {},
   "outputs": [],
   "source": [
    "peaks_areas_by_fwhm = spec.spec_parms.peaks_parms.sum_net / k_fwhm\n",
    "peaks_areas_by_fwhm"
   ]
  },
  {
   "cell_type": "code",
   "execution_count": null,
   "metadata": {},
   "outputs": [],
   "source": [
    "# Comparação\n",
    "areas_compar = init_peaks_areas / peaks_areas_by_fwhm\n",
    "areas_compar"
   ]
  },
  {
   "cell_type": "code",
   "execution_count": null,
   "metadata": {},
   "outputs": [],
   "source": [
    "areas_compar.mean()"
   ]
  },
  {
   "cell_type": "code",
   "execution_count": null,
   "metadata": {},
   "outputs": [],
   "source": [
    "# Erro padrão da média acima.\n",
    "areas_compar.std() / np.sqrt(areas_compar.size)"
   ]
  },
  {
   "cell_type": "code",
   "execution_count": null,
   "metadata": {},
   "outputs": [],
   "source": [
    "# 2022-Jan-16\n",
    "# 100.0 * spec.spec_parms.peaks_parms.s_sum_net / spec.spec_parms.peaks_parms.sum_net"
   ]
  },
  {
   "cell_type": "code",
   "execution_count": null,
   "metadata": {},
   "outputs": [],
   "source": [
    "spec.spec_parms.peaks_parms.peaks.size"
   ]
  },
  {
   "cell_type": "code",
   "execution_count": null,
   "metadata": {},
   "outputs": [],
   "source": []
  },
  {
   "cell_type": "code",
   "execution_count": null,
   "metadata": {},
   "outputs": [],
   "source": [
    "adefghesr gaerg aegr agr"
   ]
  },
  {
   "cell_type": "code",
   "execution_count": null,
   "metadata": {},
   "outputs": [],
   "source": []
  },
  {
   "cell_type": "markdown",
   "metadata": {
    "tags": []
   },
   "source": [
    "#### Methods\n",
    "The [updatemenu method](https://plotly.com/python/reference/layout/updatemenus/#layout-updatemenus-buttons-method) determines which [plotly.js function](https://plotly.com/javascript/plotlyjs-function-reference/) will be used to modify the chart. There are 4 possible methods:\n",
    "- `\"restyle\"`: modify data or data attributes\n",
    "- `\"relayout\"`: modify layout attributes\n",
    "- `\"update\"`: modify data **and** layout attributes\n",
    "- `\"animate\"`: start or pause an [animation](https://plotly.com/python/#animations)"
   ]
  },
  {
   "cell_type": "code",
   "execution_count": null,
   "metadata": {},
   "outputs": [],
   "source": [
    "dirspA = set(dir(spec))"
   ]
  },
  {
   "cell_type": "code",
   "execution_count": null,
   "metadata": {},
   "outputs": [],
   "source": [
    "spec.spec_parms.channel_energy_calib"
   ]
  },
  {
   "cell_type": "code",
   "execution_count": null,
   "metadata": {},
   "outputs": [],
   "source": [
    "spec.spec_parms.energy_fwhm_calib"
   ]
  },
  {
   "cell_type": "code",
   "execution_count": null,
   "metadata": {},
   "outputs": [],
   "source": [
    "spec.spec_parms.energy_efficiency_calib"
   ]
  },
  {
   "cell_type": "code",
   "execution_count": null,
   "metadata": {},
   "outputs": [],
   "source": []
  },
  {
   "cell_type": "code",
   "execution_count": null,
   "metadata": {},
   "outputs": [],
   "source": [
    "# 2022-jan-20: Banco de dados: resgatado de:\n",
    "# 2019-nov-warp2_analise-bd.ipynb"
   ]
  },
  {
   "cell_type": "code",
   "execution_count": null,
   "metadata": {},
   "outputs": [],
   "source": [
    "# https://stackoverflow.com/questions/17098654/how-to-store-a-dataframe-using-pandas\n",
    "dfSpecFiles = pd.read_pickle('todos_si_specs.pkl')\n",
    "# dfSpecFiles = pd.read_pickle('todos_si2019_specs.pkl')\n",
    "dfSpecFiles"
   ]
  },
  {
   "cell_type": "code",
   "execution_count": null,
   "metadata": {},
   "outputs": [],
   "source": []
  },
  {
   "cell_type": "code",
   "execution_count": null,
   "metadata": {},
   "outputs": [],
   "source": [
    "# https://stackoverflow.com/questions/17098654/how-to-store-a-dataframe-using-pandas\n",
    "dfPeakInfo = pd.read_pickle('todos_si_peaks.pkl')\n",
    "# dfPeakInfo = pd.read_pickle('todos_si2019_peaks.pkl')\n",
    "dfPeakInfo"
   ]
  },
  {
   "cell_type": "code",
   "execution_count": null,
   "metadata": {},
   "outputs": [],
   "source": []
  },
  {
   "cell_type": "code",
   "execution_count": null,
   "metadata": {},
   "outputs": [],
   "source": [
    "# https://pandas.pydata.org/pandas-docs/stable/user_guide/indexing.html\n",
    "dfPeakInfo['IdEnergy']=''\n",
    "dfPeakInfo.reset_index(drop=True)\n",
    "dfPeakInfo['IdPeak'] = list(range(len(dfPeakInfo.index)))\n",
    "dfPeakInfo\n",
    "# dfPeakInfo.set_index('IdPeak')"
   ]
  },
  {
   "cell_type": "code",
   "execution_count": null,
   "metadata": {},
   "outputs": [],
   "source": []
  },
  {
   "cell_type": "code",
   "execution_count": null,
   "metadata": {},
   "outputs": [],
   "source": [
    "# df4=df2sB.copy()\n",
    "dfPeakInfo.loc[(dfPeakInfo['Centr'] >=  355) & (dfPeakInfo['Centr'] <=  405), 'IdEnergy'] = 'keV0320'\n",
    "dfPeakInfo.loc[(dfPeakInfo['Centr'] >=  902) & (dfPeakInfo['Centr'] <=  952), 'IdEnergy'] = 'keV0810'\n",
    "dfPeakInfo.loc[(dfPeakInfo['Centr'] >= 1305) & (dfPeakInfo['Centr'] <= 1355), 'IdEnergy'] = 'keV1173'\n",
    "dfPeakInfo.loc[(dfPeakInfo['Centr'] >= 1488) & (dfPeakInfo['Centr'] <= 1538), 'IdEnergy'] = 'keV1332'\n",
    "dfPeakInfo.loc[(dfPeakInfo['Centr'] >= 2915) & (dfPeakInfo['Centr'] <= 2980), 'IdEnergy'] = 'keV2615'\n",
    "dfPeakInfo.loc[(dfPeakInfo['Centr'] >=  355) & (dfPeakInfo['Centr'] <=  405), 'Energy'] =  320.08\n",
    "dfPeakInfo.loc[(dfPeakInfo['Centr'] >=  902) & (dfPeakInfo['Centr'] <=  952), 'Energy'] =  810.78\n",
    "dfPeakInfo.loc[(dfPeakInfo['Centr'] >= 1305) & (dfPeakInfo['Centr'] <= 1355), 'Energy'] = 1173.24\n",
    "dfPeakInfo.loc[(dfPeakInfo['Centr'] >= 1488) & (dfPeakInfo['Centr'] <= 1538), 'Energy'] = 1332.50\n",
    "dfPeakInfo.loc[(dfPeakInfo['Centr'] >= 2915) & (dfPeakInfo['Centr'] <= 2980), 'Energy'] = 2614.7\n",
    "# df4\n",
    "dfPeakInfo.reset_index(drop=True)"
   ]
  },
  {
   "cell_type": "code",
   "execution_count": null,
   "metadata": {},
   "outputs": [],
   "source": []
  },
  {
   "cell_type": "code",
   "execution_count": null,
   "metadata": {},
   "outputs": [],
   "source": [
    "# 2019-11-23 Finalmente, a forma mais compacta:\n",
    "dfgrrr = dfPeakInfo.loc[ dfPeakInfo['IdEnergy']!='']\n",
    "dfgrrr = dfgrrr.loc[dfgrrr.groupby(['IdSpec_2','IdEnergy'])['Area'].idxmax()]\n",
    "\n",
    "pd.options.display.max_rows=1000\n",
    "dfgrrr"
   ]
  },
  {
   "cell_type": "code",
   "execution_count": null,
   "metadata": {},
   "outputs": [],
   "source": []
  },
  {
   "cell_type": "code",
   "execution_count": null,
   "metadata": {},
   "outputs": [],
   "source": [
    "# O nihvel de identificacao de picos para calib estah bom:\n",
    "4970/1098"
   ]
  },
  {
   "cell_type": "code",
   "execution_count": null,
   "metadata": {},
   "outputs": [],
   "source": []
  },
  {
   "cell_type": "code",
   "execution_count": null,
   "metadata": {},
   "outputs": [],
   "source": []
  },
  {
   "cell_type": "code",
   "execution_count": null,
   "metadata": {},
   "outputs": [],
   "source": []
  },
  {
   "cell_type": "code",
   "execution_count": null,
   "metadata": {},
   "outputs": [],
   "source": []
  },
  {
   "cell_type": "code",
   "execution_count": null,
   "metadata": {},
   "outputs": [],
   "source": [
    "# 2021-mar-08: A partir daqui: curva de eficiência. Resgatado de:\n",
    "# 2019-nov-warp2_analise-bd.ipynb"
   ]
  },
  {
   "cell_type": "code",
   "execution_count": null,
   "metadata": {},
   "outputs": [],
   "source": [
    "# 2021-mar-08 \n",
    "# Agora, a partir daqui, incluir dados nucleares, curva de eficiência e dados da amostra\n",
    "# para fazer o cálculo das atividades."
   ]
  },
  {
   "cell_type": "code",
   "execution_count": null,
   "metadata": {},
   "outputs": [],
   "source": [
    "engCV = np.array([59.54,81,88.03,122.06,136.47,165.86,276.4,302.85,356.02,383.85,\n",
    "                  604.69,795.84,898.04,1173.24,1332.5,1836.06])\n",
    "effCV = np.array([0.942,2.064,2.732,3.3,3.282,3.143,1.829,1.779,1.492,1.4,\n",
    "                  0.83,0.65,0.596,0.458,0.407,0.307])\n",
    "sPercEffCV = np.array([2.44,2.81,2.78,1.97,2.71,2.16,3.01,2.64,2.55,2.86,\n",
    "                       2.17,2.15,2.52,2.18,2.21,2.61])"
   ]
  },
  {
   "cell_type": "code",
   "execution_count": null,
   "metadata": {},
   "outputs": [],
   "source": [
    "p6 = P.fit(np.log(engCV),np.log(effCV),w=1.0/sPercEffCV**2,deg=6)\n",
    "p6"
   ]
  },
  {
   "cell_type": "code",
   "execution_count": null,
   "metadata": {},
   "outputs": [],
   "source": [
    "p6.convert().coef"
   ]
  },
  {
   "cell_type": "code",
   "execution_count": null,
   "metadata": {},
   "outputs": [],
   "source": [
    "eng131I = np.array([80.183,284.298,364.48,636.973,722.893])"
   ]
  },
  {
   "cell_type": "code",
   "execution_count": null,
   "metadata": {},
   "outputs": [],
   "source": [
    "np.exp(p6(np.log(eng131I)))"
   ]
  },
  {
   "cell_type": "code",
   "execution_count": null,
   "metadata": {},
   "outputs": [],
   "source": [
    "efficFile='../Python_Scripts/F850D3E_(2014)_eff.csv'"
   ]
  },
  {
   "cell_type": "code",
   "execution_count": null,
   "metadata": {},
   "outputs": [],
   "source": [
    "efficF850D3Epercent = pd.read_csv(efficFile)\n",
    "efficF850D3E = efficF850D3Epercent.copy()\n",
    "efficF850D3E['Effic'] = efficF850D3Epercent['Effic']*0.01\n",
    "efficF850D3Epercent"
   ]
  },
  {
   "cell_type": "code",
   "execution_count": null,
   "metadata": {},
   "outputs": [],
   "source": [
    "efficF850D3E"
   ]
  },
  {
   "cell_type": "code",
   "execution_count": null,
   "metadata": {},
   "outputs": [],
   "source": [
    "# 2021-mar-09: Fazer o polinômio para geometria F850 do det. E"
   ]
  },
  {
   "cell_type": "code",
   "execution_count": null,
   "metadata": {},
   "outputs": [],
   "source": [
    "engF850 = np.array(efficF850D3E['EnkeV'])\n",
    "engF850"
   ]
  },
  {
   "cell_type": "code",
   "execution_count": null,
   "metadata": {},
   "outputs": [],
   "source": [
    "effF850 = np.array(efficF850D3Epercent['Effic'])\n",
    "effF850"
   ]
  },
  {
   "cell_type": "code",
   "execution_count": null,
   "metadata": {},
   "outputs": [],
   "source": [
    "sPercEffF850 = np.array(efficF850D3Epercent['Sigma'])\n",
    "sPercEffF850"
   ]
  },
  {
   "cell_type": "code",
   "execution_count": null,
   "metadata": {},
   "outputs": [],
   "source": [
    "p6F850 = P.fit(np.log(engF850),np.log(effF850),w=1.0/sPercEffF850**2,deg=6)\n",
    "p6F850"
   ]
  },
  {
   "cell_type": "code",
   "execution_count": null,
   "metadata": {},
   "outputs": [],
   "source": [
    "p6F850.convert().coef"
   ]
  },
  {
   "cell_type": "code",
   "execution_count": null,
   "metadata": {},
   "outputs": [],
   "source": [
    "np.exp(p6(np.log(eng131I)))"
   ]
  },
  {
   "cell_type": "code",
   "execution_count": null,
   "metadata": {},
   "outputs": [],
   "source": []
  },
  {
   "cell_type": "code",
   "execution_count": null,
   "metadata": {},
   "outputs": [],
   "source": [
    "nucBibGen = pd.read_csv('../Python_Scripts/Pisciro-Nuc_(2019).csv')\n",
    "nucBibGen"
   ]
  },
  {
   "cell_type": "code",
   "execution_count": null,
   "metadata": {},
   "outputs": [],
   "source": [
    "nucBibGam = pd.read_csv('../Python_Scripts/Pisciro-Eng_(2019).csv')"
   ]
  },
  {
   "cell_type": "code",
   "execution_count": null,
   "metadata": {},
   "outputs": [],
   "source": [
    "nucBibGam['IdEngy'] = list(range(len(nucBibGam)))\n",
    "# Macete para fazer merge total com dfFoundPeaks:\n",
    "nucBibGam['IdComm'] = True \n",
    "nucBibGam"
   ]
  },
  {
   "cell_type": "code",
   "execution_count": null,
   "metadata": {},
   "outputs": [],
   "source": [
    "# https://pandas.pydata.org/pandas-docs/stable/getting_started/comparison/comparison_with_sql.html\n",
    "# tips[['total_bill', 'tip', 'smoker', 'time']].head(5)"
   ]
  },
  {
   "cell_type": "code",
   "execution_count": null,
   "metadata": {
    "scrolled": true
   },
   "outputs": [],
   "source": [
    "dfSpecPks['IdComm'] = True\n",
    "dfSpecPks"
   ]
  },
  {
   "cell_type": "code",
   "execution_count": null,
   "metadata": {},
   "outputs": [],
   "source": [
    "# AQUIIII"
   ]
  },
  {
   "cell_type": "code",
   "execution_count": null,
   "metadata": {},
   "outputs": [],
   "source": [
    "dfAux = pd.merge(dfSpecPks, nucBibGam) # Faz automaticamente em IdComm, pois é a única comum.\n",
    "dfAux"
   ]
  },
  {
   "cell_type": "code",
   "execution_count": null,
   "metadata": {},
   "outputs": [],
   "source": [
    "# Esse -12.0 keV é por causa da calibração deslocada neste espectro.\n",
    "# desloc = 11.0\n",
    "desloc = 0.0\n",
    "dfResults = dfAux[abs(dfAux['enCtroids']-desloc-dfAux['Engy']) < 120.0].copy()\n",
    "dfResults"
   ]
  },
  {
   "cell_type": "code",
   "execution_count": null,
   "metadata": {},
   "outputs": [],
   "source": [
    "spec2.spLVTime"
   ]
  },
  {
   "cell_type": "code",
   "execution_count": null,
   "metadata": {},
   "outputs": [],
   "source": [
    "volAmostra = 0.85"
   ]
  },
  {
   "cell_type": "code",
   "execution_count": null,
   "metadata": {},
   "outputs": [],
   "source": [
    "dfResults['percEffic'] = np.exp(p6F850(np.log(dfResults['Engy'])))\n",
    "dfResults['ativsBqL'] = dfResults['areas'] / (spec2.spLVTime * (dfResults['Yie'] * 0.01)\n",
    "                                           * (dfResults['percEffic'] * 0.01) * volAmostra)\n",
    "dfResults"
   ]
  },
  {
   "cell_type": "code",
   "execution_count": null,
   "metadata": {},
   "outputs": [],
   "source": [
    "# Agora, é só pegar ativs que já está em Bq/L"
   ]
  },
  {
   "cell_type": "code",
   "execution_count": null,
   "metadata": {},
   "outputs": [],
   "source": [
    "fn2"
   ]
  },
  {
   "cell_type": "code",
   "execution_count": null,
   "metadata": {},
   "outputs": [],
   "source": []
  },
  {
   "cell_type": "code",
   "execution_count": null,
   "metadata": {},
   "outputs": [],
   "source": [
    "# 2021-mar-9 AQUI PAREI"
   ]
  },
  {
   "cell_type": "code",
   "execution_count": null,
   "metadata": {},
   "outputs": [],
   "source": []
  },
  {
   "cell_type": "code",
   "execution_count": null,
   "metadata": {},
   "outputs": [],
   "source": []
  },
  {
   "cell_type": "code",
   "execution_count": null,
   "metadata": {},
   "outputs": [],
   "source": []
  },
  {
   "cell_type": "code",
   "execution_count": null,
   "metadata": {},
   "outputs": [],
   "source": [
    "dirspB = set(dir(spec))\n",
    "dirspB - dirspA"
   ]
  },
  {
   "cell_type": "code",
   "execution_count": null,
   "metadata": {},
   "outputs": [],
   "source": [
    "attrs = vars(spec)\n",
    "attrs"
   ]
  },
  {
   "cell_type": "code",
   "execution_count": null,
   "metadata": {},
   "outputs": [],
   "source": [
    "spec.curr_h_win(4096, 4096)"
   ]
  },
  {
   "cell_type": "code",
   "execution_count": null,
   "metadata": {},
   "outputs": [],
   "source": [
    "dir(spec)"
   ]
  },
  {
   "cell_type": "code",
   "execution_count": null,
   "metadata": {},
   "outputs": [],
   "source": [
    "dirspC = set(dir(spec))\n",
    "dirspC - dirspB"
   ]
  },
  {
   "cell_type": "code",
   "execution_count": null,
   "metadata": {},
   "outputs": [],
   "source": []
  },
  {
   "cell_type": "code",
   "execution_count": null,
   "metadata": {},
   "outputs": [],
   "source": [
    "# Initialize figure\n",
    "figw1 = go.FigureWidget();\n",
    "\n",
    "# Add Traces\n",
    "\n",
    "figw1.add_trace(\n",
    "    go.Scatter(x=xs_nzc,\n",
    "               y=y0s_nzc,\n",
    "               error_y=dict(\n",
    "                   color='orange',width=3.0,\n",
    "                   type='data', # value of error bar given in data coordinates\n",
    "                   array=unc_y0s_nzc,\n",
    "                   visible=True),\n",
    "               name=\"Counts & uncertaintes\",\n",
    "               line=dict(color='orange',width=0.3)));\n",
    "\n",
    "# Set title and scale type\n",
    "figw1.update_layout(title_text=\"Gamma-ray spectrum: \" + spec.f_name)\n",
    "figw1.update_yaxes(type=\"log\");\n",
    "\n",
    "figw1"
   ]
  },
  {
   "cell_type": "code",
   "execution_count": null,
   "metadata": {},
   "outputs": [],
   "source": [
    "# 2021-06-08\n",
    "# Sobre vários jeitos de visualizar gráficos:\n",
    "#https://plotly.com/python/renderers/\n",
    "\n",
    "figw1.write_html('figw1.html', auto_open=True)"
   ]
  },
  {
   "cell_type": "code",
   "execution_count": null,
   "metadata": {},
   "outputs": [],
   "source": []
  },
  {
   "cell_type": "code",
   "execution_count": null,
   "metadata": {},
   "outputs": [],
   "source": []
  },
  {
   "cell_type": "code",
   "execution_count": null,
   "metadata": {},
   "outputs": [],
   "source": []
  },
  {
   "cell_type": "code",
   "execution_count": null,
   "metadata": {},
   "outputs": [],
   "source": []
  },
  {
   "cell_type": "raw",
   "metadata": {},
   "source": [
    "2019-09-28: Voltando a usar Pandas para spec gama, aqui para curva de eficiehncia"
   ]
  },
  {
   "cell_type": "code",
   "execution_count": null,
   "metadata": {},
   "outputs": [],
   "source": [
    "# 2019-09-26 Importar calibra´c~ao em efici^encia de arquivo CSV "
   ]
  },
  {
   "cell_type": "code",
   "execution_count": null,
   "metadata": {},
   "outputs": [],
   "source": [
    "# 2019-09-26 Uma hora usarei isso: ler LibreOffice via Pandas!\n",
    "# pd.read_excel('path_to_file.ods', engine='odf')"
   ]
  },
  {
   "cell_type": "code",
   "execution_count": null,
   "metadata": {},
   "outputs": [],
   "source": [
    "effics = pd.read_csv('2019-sep-25 ALMERA Samples CSV.csv',decimal=',',header=None)"
   ]
  },
  {
   "cell_type": "code",
   "execution_count": null,
   "metadata": {},
   "outputs": [],
   "source": [
    "effics"
   ]
  },
  {
   "cell_type": "code",
   "execution_count": null,
   "metadata": {},
   "outputs": [],
   "source": [
    "# "
   ]
  },
  {
   "cell_type": "code",
   "execution_count": null,
   "metadata": {},
   "outputs": [],
   "source": [
    "npeffics = effics.to_numpy()"
   ]
  },
  {
   "cell_type": "code",
   "execution_count": null,
   "metadata": {},
   "outputs": [],
   "source": [
    "# ou entaum\n",
    "npeffics = effics.to_numpy()\n",
    "engys = npeffics[:,0]\n",
    "effs = npeffics[:,1]\n",
    "s_lneffs = npeffics[:,2]\n",
    "lnengys = np.log(engys)\n",
    "lneffs = np.log(effs)\n",
    "lnengys"
   ]
  },
  {
   "cell_type": "code",
   "execution_count": null,
   "metadata": {},
   "outputs": [],
   "source": [
    "lneffs"
   ]
  },
  {
   "cell_type": "code",
   "execution_count": null,
   "metadata": {},
   "outputs": [],
   "source": [
    "# lsq_linear: naum usarei por enquanto\n",
    "# res = lsq_linear(effics, b, bounds=(lb, ub), lsmr_tol='auto', verbose=1)\n",
    "# usarei "
   ]
  },
  {
   "cell_type": "code",
   "execution_count": null,
   "metadata": {},
   "outputs": [],
   "source": [
    "# https://docs.scipy.org/doc/numpy/reference/routines.polynomials.classes.html"
   ]
  },
  {
   "cell_type": "code",
   "execution_count": null,
   "metadata": {},
   "outputs": [],
   "source": [
    "peff_w = polyfit(lnengys,lneffs,5,w=s_lneffs)\n",
    "peff_w"
   ]
  },
  {
   "cell_type": "code",
   "execution_count": null,
   "metadata": {},
   "outputs": [],
   "source": [
    "pfull = polyfit(lnengys,lneffs,5,full=True)\n",
    "pfull"
   ]
  },
  {
   "cell_type": "code",
   "execution_count": null,
   "metadata": {},
   "outputs": [],
   "source": [
    "pfull_w = polyfit(lnengys,lneffs,5,full=True,w=s_lneffs)\n",
    "pfull_w"
   ]
  },
  {
   "cell_type": "code",
   "execution_count": null,
   "metadata": {},
   "outputs": [],
   "source": [
    "P(peff_w)"
   ]
  },
  {
   "cell_type": "code",
   "execution_count": null,
   "metadata": {},
   "outputs": [],
   "source": [
    "polyfit(lnengys,lneffs,3,w=s_lneffs)"
   ]
  },
  {
   "cell_type": "code",
   "execution_count": null,
   "metadata": {},
   "outputs": [],
   "source": []
  },
  {
   "cell_type": "code",
   "execution_count": null,
   "metadata": {},
   "outputs": [],
   "source": [
    "# Bokeh graph w/ efficiencies\n",
    "bokeffics = figure(\n",
    "   plot_width =default_plot_width,\n",
    "   plot_height=default_plot_height,\n",
    "   tools=\"pan,box_zoom,reset,save\",\n",
    "   # y_axis_type=\"log\",\n",
    "   # y_range=[10**1, 10**5], title=\"effs\",\n",
    "   # y_range=[-1000.0, 1000.0], title=\"engys\",\n",
    "   x_axis_label='channels', y_axis_label='counts'\n",
    ")\n",
    "\n",
    "# base, lower, upper = [], [], []\n",
    "\n",
    "base=lneffs\n",
    "lower = lneffs - s_lneffs\n",
    "upper = lneffs + s_lneffs\n",
    "\n",
    "source_error = ColumnDataSource(data=dict(base=base, lower=lower, upper=upper))\n",
    "\n",
    "# for i, eff in enumerate(list(effs)):\n",
    "    # year_mpgs = df[df['yr'] == year]['mpg']\n",
    "    # mpgs_mean = year_mpgs.mean()\n",
    "    # mpgs_std = year_mpgs.std()\n",
    "#    lower.append(lneff - mpgs_std)\n",
    "#    upper.append(eff + mpgs_std)\n",
    "#    base.append(year)\n",
    "\n",
    "bokeffics.circle(lnengys, lneffs, legend_label=\"cwt peaks\", color=\"navy\",size=10)\n",
    "\n",
    "# bokeffics.add_layout(\n",
    "#     Whisker(source=source_error, base=\"base\", upper=\"upper\", lower=\"lower\")\n",
    "# )\n",
    "\n",
    "# bokpksallscl.line(xs, y0s, color=\"lightgreen\")\n",
    "# bokpksallscl.cross(pk_per_scal[ 0], y0s[pk_per_scal[ 0]]*1.01, color=\"red\",size=2)\n",
    "show(bokeffics)"
   ]
  },
  {
   "cell_type": "code",
   "execution_count": null,
   "metadata": {},
   "outputs": [],
   "source": []
  },
  {
   "cell_type": "code",
   "execution_count": null,
   "metadata": {},
   "outputs": [],
   "source": [
    "# 2019-09-28 PAREY AKIH a parte do cahlculo de eficiehncias"
   ]
  },
  {
   "cell_type": "code",
   "execution_count": null,
   "metadata": {},
   "outputs": [],
   "source": []
  },
  {
   "cell_type": "code",
   "execution_count": null,
   "metadata": {},
   "outputs": [],
   "source": []
  },
  {
   "cell_type": "code",
   "execution_count": null,
   "metadata": {},
   "outputs": [],
   "source": []
  },
  {
   "cell_type": "code",
   "execution_count": null,
   "metadata": {},
   "outputs": [],
   "source": []
  },
  {
   "cell_type": "code",
   "execution_count": null,
   "metadata": {},
   "outputs": [],
   "source": [
    "# Alguns defs"
   ]
  },
  {
   "cell_type": "raw",
   "metadata": {},
   "source": [
    "2019-07-15: Agora, fazer looping para todos os picos, sem definir regioens, nada disso:"
   ]
  },
  {
   "cell_type": "code",
   "execution_count": null,
   "metadata": {},
   "outputs": [],
   "source": []
  },
  {
   "cell_type": "code",
   "execution_count": null,
   "metadata": {},
   "outputs": [],
   "source": [
    "# FIM"
   ]
  },
  {
   "cell_type": "code",
   "execution_count": null,
   "metadata": {},
   "outputs": [],
   "source": []
  }
 ],
 "metadata": {
  "kernelspec": {
   "display_name": "Python 3 (ipykernel)",
   "language": "python",
   "name": "python3"
  },
  "language_info": {
   "codemirror_mode": {
    "name": "ipython",
    "version": 3
   },
   "file_extension": ".py",
   "mimetype": "text/x-python",
   "name": "python",
   "nbconvert_exporter": "python",
   "pygments_lexer": "ipython3",
   "version": "3.8.10"
  }
 },
 "nbformat": 4,
 "nbformat_minor": 4
}
