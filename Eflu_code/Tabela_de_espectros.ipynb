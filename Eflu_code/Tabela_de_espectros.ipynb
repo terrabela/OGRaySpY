{
 "cells": [
  {
   "cell_type": "code",
   "execution_count": 1,
   "metadata": {},
   "outputs": [],
   "source": [
    "import pandas as pd\n",
    "import numpy as np\n",
    "\n",
    "import time\n",
    "from datetime import tzinfo, timedelta, datetime\n",
    "\n",
    "from os.path import getsize, getmtime\n",
    "from os import chdir\n",
    "from sys import platform"
   ]
  },
  {
   "cell_type": "code",
   "execution_count": null,
   "metadata": {},
   "outputs": [],
   "source": []
  },
  {
   "cell_type": "code",
   "execution_count": 2,
   "metadata": {},
   "outputs": [
    {
     "name": "stdout",
     "output_type": "stream",
     "text": [
      "{'sha3_384', 'md4', 'blake2b', 'ripemd160', 'sha256', 'sha512_224', 'sha384', 'md5', 'sha512_256', 'shake_256', 'mdc2', 'sha512', 'sha3_256', 'md5-sha1', 'sha3_512', 'sha3_224', 'sha1', 'shake_128', 'blake2s', 'sha224', 'sm3', 'whirlpool'}\n"
     ]
    }
   ],
   "source": [
    "# fontes:\n",
    "# http://stackoverflow.com/questions/16874598/how-do-i-calculate-the-md5-checksum-of-a-file-in-python\n",
    "# http://stackoverflow.com/questions/3431825/generating-an-md5-checksum-of-a-file\n",
    "# --- recomenda usar sha256 em vez de md5\n",
    "\n",
    "# Em 2019:\n",
    "# https://en.wikipedia.org/wiki/SHA-3\n",
    "\n",
    "import hashlib\n",
    "\n",
    "print(hashlib.algorithms_available)"
   ]
  },
  {
   "cell_type": "code",
   "execution_count": null,
   "metadata": {},
   "outputs": [],
   "source": []
  },
  {
   "cell_type": "code",
   "execution_count": 3,
   "metadata": {},
   "outputs": [],
   "source": [
    "# 2021-Ago-7\n",
    "# Certo. A partir daqui, vou fazer o bd com os arquivos e respectivos sha256,\n",
    "# principalmente para detectar e eliminar as multiplicatas."
   ]
  },
  {
   "cell_type": "code",
   "execution_count": 4,
   "metadata": {},
   "outputs": [
    {
     "data": {
      "text/plain": [
       "1655321061.5361414"
      ]
     },
     "execution_count": 4,
     "metadata": {},
     "output_type": "execute_result"
    }
   ],
   "source": [
    "time.time()"
   ]
  },
  {
   "cell_type": "code",
   "execution_count": 5,
   "metadata": {},
   "outputs": [
    {
     "data": {
      "text/plain": [
       "WindowsPath('.')"
      ]
     },
     "execution_count": 5,
     "metadata": {},
     "output_type": "execute_result"
    }
   ],
   "source": [
    "# https://docs.python.org/3.8/library/pathlib.html\n",
    "from pathlib import Path\n",
    "p = Path('.')\n",
    "p"
   ]
  },
  {
   "cell_type": "code",
   "execution_count": null,
   "metadata": {},
   "outputs": [],
   "source": []
  },
  {
   "cell_type": "code",
   "execution_count": 6,
   "metadata": {},
   "outputs": [
    {
     "data": {
      "text/plain": [
       "'Wed Jun 15 16:24:31 2022'"
      ]
     },
     "execution_count": 6,
     "metadata": {},
     "output_type": "execute_result"
    }
   ],
   "source": [
    "time.ctime(time.time())"
   ]
  },
  {
   "cell_type": "code",
   "execution_count": 7,
   "metadata": {},
   "outputs": [
    {
     "data": {
      "text/plain": [
       "'2022-06-15T16:24'"
      ]
     },
     "execution_count": 7,
     "metadata": {},
     "output_type": "execute_result"
    }
   ],
   "source": [
    "datetime.now().isoformat(timespec='minutes')   "
   ]
  },
  {
   "cell_type": "code",
   "execution_count": 8,
   "metadata": {},
   "outputs": [
    {
     "data": {
      "text/plain": [
       "'2022-06-15T16:24:33.104639'"
      ]
     },
     "execution_count": 8,
     "metadata": {},
     "output_type": "execute_result"
    }
   ],
   "source": [
    "datetime.now().isoformat()   "
   ]
  },
  {
   "cell_type": "code",
   "execution_count": 9,
   "metadata": {},
   "outputs": [
    {
     "data": {
      "text/plain": [
       "'2022-06-15T16:24:33.574773'"
      ]
     },
     "execution_count": 9,
     "metadata": {},
     "output_type": "execute_result"
    }
   ],
   "source": [
    "datetime.now().isoformat(timespec='auto')   "
   ]
  },
  {
   "cell_type": "code",
   "execution_count": 10,
   "metadata": {},
   "outputs": [
    {
     "data": {
      "text/plain": [
       "'2022-06-15T16.24.34'"
      ]
     },
     "execution_count": 10,
     "metadata": {},
     "output_type": "execute_result"
    }
   ],
   "source": [
    "datetime.now().strftime(format='%Y-%m-%dT%H.%M.%S')"
   ]
  },
  {
   "cell_type": "code",
   "execution_count": 11,
   "metadata": {},
   "outputs": [],
   "source": [
    "if platform == 'win32':\n",
    "    chdir('/Users/mmaduar/OwnDrive/Genie_Transfer')"
   ]
  },
  {
   "cell_type": "code",
   "execution_count": 12,
   "metadata": {},
   "outputs": [
    {
     "data": {
      "text/plain": [
       "6507"
      ]
     },
     "execution_count": 12,
     "metadata": {},
     "output_type": "execute_result"
    }
   ],
   "source": [
    "genie_tranfer_all = Path('.').glob('**/*.[Cc][Hh][Nn]')\n",
    "genie_tranfer_all_just_files = [x for x in genie_tranfer_all if not x.is_dir()]\n",
    "len(genie_tranfer_all_just_files)"
   ]
  },
  {
   "cell_type": "code",
   "execution_count": null,
   "metadata": {},
   "outputs": [],
   "source": []
  },
  {
   "cell_type": "code",
   "execution_count": 15,
   "metadata": {},
   "outputs": [
    {
     "ename": "SyntaxError",
     "evalue": "invalid syntax (620147655.py, line 1)",
     "output_type": "error",
     "traceback": [
      "\u001b[1;36m  Input \u001b[1;32mIn [15]\u001b[1;36m\u001b[0m\n\u001b[1;33m    aesrgse gesr ghesrg\u001b[0m\n\u001b[1;37m            ^\u001b[0m\n\u001b[1;31mSyntaxError\u001b[0m\u001b[1;31m:\u001b[0m invalid syntax\n"
     ]
    }
   ],
   "source": [
    "aesrgse gesr ghesrg \n",
    "#\n",
    "for fn in genie_tranfer_all_just_files:\n",
    "    print(fn)"
   ]
  },
  {
   "cell_type": "code",
   "execution_count": null,
   "metadata": {},
   "outputs": [],
   "source": []
  },
  {
   "cell_type": "code",
   "execution_count": 16,
   "metadata": {},
   "outputs": [],
   "source": [
    "sub_set = 'chnspectra'"
   ]
  },
  {
   "cell_type": "code",
   "execution_count": 17,
   "metadata": {},
   "outputs": [
    {
     "name": "stdout",
     "output_type": "stream",
     "text": [
      "chnspectra_2022-06-15T16.27.08.csv\n",
      "0 Filtros\\BGFILTRO.Chn\n",
      "100 Filtros\\2009\\crf\\crf2711.Chn\n",
      "200 Filtros\\2009\\ctp\\ctp2606.Chn\n",
      "300 Filtros\\2009\\prf\\prf2711.Chn\n",
      "400 Filtros\\2009\\rnp\\PRN2702.Chn\n",
      "500 Filtros\\2010\\crn\\crn0107.Chn\n",
      "600 Filtros\\2010\\ctp\\ctp3004.Chn\n",
      "700 Filtros\\2010\\ptp\\ptp1308.Chn\n",
      "800 Filtros\\2011\\cci\\cci2311.Chn\n",
      "900 Filtros\\2011\\crn\\crn2502.Chn\n",
      "1000 Filtros\\2011\\pci\\pci2707.Chn\n",
      "1100 Filtros\\2011\\rnp\\prn0306.Chn\n",
      "1200 Filtros\\2012\\crf\\crf1105.Chn\n",
      "1300 Filtros\\2012\\ctp\\ctp0911.Chn\n",
      "1400 Filtros\\2012\\prf\\prf1506.Chn\n",
      "1500 Filtros\\2012\\rnp\\prn1805.Chn\n",
      "1600 Filtros\\2013\\crf\\crf2308.Chn\n",
      "1700 Filtros\\2013\\pci\\pci0711.Chn\n",
      "1800 Filtros\\2013\\ptp\\ptp1309.Chn\n",
      "1900 Filtros\\2014\\cci\\cci1607.Chn\n",
      "2000 Filtros\\2014\\ctp\\ctp1104.Chn\n",
      "2100 Filtros\\2014\\prf\\PRF0901.Chn\n",
      "2200 Filtros\\2014\\rnp\\PRN2612.Chn\n",
      "2300 Filtros\\2015\\crn\\CRN2002.Chn\n",
      "2400 Filtros\\2015\\prf\\PRF1408.Chn\n",
      "2500 Filtros\\2015\\rnp\\PRN3001.Chn\n",
      "2600 Filtros\\2016\\crn\\CRN0408.Chn\n",
      "2700 Filtros\\2016\\ctp\\CTP2801.Chn\n",
      "2800 Filtros\\2016\\ptp\\PTP1205.Chn\n",
      "2900 Filtros\\2017\\CCI\\CCI2012F.Chn\n",
      "3000 Filtros\\2017\\CRN\\CRN2302.Chn\n",
      "3100 Filtros\\2017\\PCI\\PCI1603.Chn\n",
      "3200 Filtros\\2017\\PTP\\PTP1611.Chn\n",
      "3300 Filtros\\2018\\CRF\\CRF0305.Chn\n",
      "3400 Filtros\\2018\\CTP\\CTP0111-4.Chn\n",
      "3500 Filtros\\2018\\CTP\\CTP2510-4.Chn\n",
      "3600 Filtros\\2018\\PRF\\PRF0103.Chn\n",
      "3700 Filtros\\2019\\Cci\\CCI0409-I.Chn\n",
      "3800 Filtros\\2019\\Crn\\CRN2908.Chn\n",
      "3900 Filtros\\2019\\Ctp\\t_morto\\CTP2102-2.Chn\n",
      "4000 Filtros\\2019\\Prf\\PRF0703-ruim.Chn\n",
      "4100 Filtros\\2020\\Cci\\CCI1811-I.Chn\n",
      "4200 Filtros\\2020\\Ctp\\t_morto\\CTP1308-2 (23,12%).Chn\n",
      "4300 Filtros\\2020\\Ptp\\PTP3012.Chn\n",
      "4400 Filtros\\2021\\Ctp\\CTP2204-2 (5,77%).Chn\n",
      "4500 Filtros\\2021\\Ptp\\PTP1102.Chn\n",
      "4600 Si\\2018\\CCI\\CCI1403I.Chn\n",
      "4700 Si\\2018\\CTP\\CTP0609-2.Chn\n",
      "4800 Si\\2018\\PNR\\PRN0208.Chn\n",
      "4900 Si\\2018\\PTP\\PTP2203.Chn\n",
      "5000 Si\\2019\\Crn\\CRN2908.Chn\n",
      "5100 Si\\2019\\Ctp\\t_morto\\CTP3005_1.Chn\n",
      "5200 Si\\2019\\Ptp\\PTP0606.Chn\n",
      "5300 Si\\2020\\Ctp\\CTP1806 (5,23%).Chn\n",
      "5400 Si\\2020\\Ptp\\PTP1806.Chn\n",
      "5500 Si\\2021\\Petrobrás\\P3 10ks\\P3.6.Chn\n",
      "5600 Si\\Si2005\\SI06805.CHN\n",
      "5700 Si\\Si2005\\si4005.CHN\n",
      "5800 Si\\SI2007\\SI01907.Chn\n",
      "5900 Si\\si2009\\si01709.Chn\n",
      "6000 Si\\si2010\\SI14710.Chn\n",
      "6100 Si\\si2012\\SI13112.Chn\n",
      "6200 Si\\SI2015\\SI01515.Chn\n",
      "6300 Si\\SI2017\\SI01417.Chn\n",
      "6400 Si\\SI2018\\SI10918.Chn\n",
      "6500 Si\\SI2022\\SI00922.Chn\n"
     ]
    }
   ],
   "source": [
    "# ser gesgr esgr easrg erg gr esr ghes ghwesr ghwesr gherg h\n",
    "# Isso em cima é só ativar para apagar a saída abaixo...       \n",
    "time_ini = time.time()\n",
    "all_hashes = []\n",
    "interv_print_count = 100\n",
    "\n",
    "csv_fname = sub_set + '_' + datetime.now().strftime(format='%Y-%m-%dT%H.%M.%S') + '.csv'\n",
    "print(csv_fname)\n",
    "\n",
    "for i_fi, fi in enumerate(genie_tranfer_all_just_files):\n",
    "    if i_fi % interv_print_count == 0:\n",
    "        print (i_fi, fi)\n",
    "    all_hashes.append( hashlib.sha256(open(fi, 'rb').read()).hexdigest() )\n",
    "delta_time = time.time() - time_ini"
   ]
  },
  {
   "cell_type": "code",
   "execution_count": null,
   "metadata": {},
   "outputs": [],
   "source": []
  },
  {
   "cell_type": "code",
   "execution_count": 18,
   "metadata": {},
   "outputs": [
    {
     "data": {
      "text/plain": [
       "51.58494710922241"
      ]
     },
     "execution_count": 18,
     "metadata": {},
     "output_type": "execute_result"
    }
   ],
   "source": [
    "delta_time"
   ]
  },
  {
   "cell_type": "code",
   "execution_count": 20,
   "metadata": {},
   "outputs": [
    {
     "data": {
      "text/plain": [
       "6507"
      ]
     },
     "execution_count": 20,
     "metadata": {},
     "output_type": "execute_result"
    }
   ],
   "source": [
    "len(genie_tranfer_all_just_files)"
   ]
  },
  {
   "cell_type": "code",
   "execution_count": 21,
   "metadata": {},
   "outputs": [],
   "source": [
    "# all_hashes"
   ]
  },
  {
   "cell_type": "code",
   "execution_count": 22,
   "metadata": {},
   "outputs": [
    {
     "data": {
      "text/plain": [
       "6507"
      ]
     },
     "execution_count": 22,
     "metadata": {},
     "output_type": "execute_result"
    }
   ],
   "source": [
    "len(all_hashes)"
   ]
  },
  {
   "cell_type": "code",
   "execution_count": 25,
   "metadata": {},
   "outputs": [],
   "source": [
    "files_sizes = [getsize(f_name) for f_name in genie_tranfer_all_just_files]\n",
    "files_modif_times = [time.ctime(getmtime(f_name)) for f_name in genie_tranfer_all_just_files]"
   ]
  },
  {
   "cell_type": "code",
   "execution_count": 26,
   "metadata": {},
   "outputs": [
    {
     "data": {
      "text/plain": [
       "6507"
      ]
     },
     "execution_count": 26,
     "metadata": {},
     "output_type": "execute_result"
    }
   ],
   "source": [
    "len(files_sizes)"
   ]
  },
  {
   "cell_type": "code",
   "execution_count": 27,
   "metadata": {},
   "outputs": [],
   "source": [
    "# 2022-Jun-9 Montar o dataframe e gravá-lo."
   ]
  },
  {
   "cell_type": "code",
   "execution_count": 29,
   "metadata": {
    "tags": []
   },
   "outputs": [
    {
     "data": {
      "text/html": [
       "<div>\n",
       "<style scoped>\n",
       "    .dataframe tbody tr th:only-of-type {\n",
       "        vertical-align: middle;\n",
       "    }\n",
       "\n",
       "    .dataframe tbody tr th {\n",
       "        vertical-align: top;\n",
       "    }\n",
       "\n",
       "    .dataframe thead th {\n",
       "        text-align: right;\n",
       "    }\n",
       "</style>\n",
       "<table border=\"1\" class=\"dataframe\">\n",
       "  <thead>\n",
       "    <tr style=\"text-align: right;\">\n",
       "      <th></th>\n",
       "      <th>fHashes</th>\n",
       "      <th>fNames</th>\n",
       "      <th>fSizes</th>\n",
       "      <th>fModifTimes</th>\n",
       "    </tr>\n",
       "  </thead>\n",
       "  <tbody>\n",
       "    <tr>\n",
       "      <th>0</th>\n",
       "      <td>1c40ecfd4cc78f29bd87fb9b01e65e8358fba3f1250c4f...</td>\n",
       "      <td>Filtros\\BGFILTRO.Chn</td>\n",
       "      <td>16928</td>\n",
       "      <td>2013-12-16 09:24:24</td>\n",
       "    </tr>\n",
       "    <tr>\n",
       "      <th>1</th>\n",
       "      <td>90d591ecb101c3322833ebb7fce9c47ad08dafe4834f13...</td>\n",
       "      <td>Filtros\\Exaustor Dirf 20 julho 2016 SI 09816.Chn</td>\n",
       "      <td>16928</td>\n",
       "      <td>2016-08-03 14:38:46</td>\n",
       "    </tr>\n",
       "    <tr>\n",
       "      <th>2</th>\n",
       "      <td>007b7326dc314f18b7bc4abf5869898e89c0a8bdf13cd7...</td>\n",
       "      <td>Filtros\\FC SAS DIRF 2007.Chn</td>\n",
       "      <td>16928</td>\n",
       "      <td>2016-07-20 12:14:50</td>\n",
       "    </tr>\n",
       "    <tr>\n",
       "      <th>3</th>\n",
       "      <td>ca2e8bf1989d293972be68102bea9ef80e342f8e1169c3...</td>\n",
       "      <td>Filtros\\2009\\cce\\fcce0307.Chn</td>\n",
       "      <td>16928</td>\n",
       "      <td>2009-07-10 10:49:56</td>\n",
       "    </tr>\n",
       "    <tr>\n",
       "      <th>4</th>\n",
       "      <td>fddb31e817a44f285daccddf7b710379e09e7728aa727c...</td>\n",
       "      <td>Filtros\\2009\\cce\\fcce1408.Chn</td>\n",
       "      <td>16928</td>\n",
       "      <td>2009-08-17 09:32:04</td>\n",
       "    </tr>\n",
       "    <tr>\n",
       "      <th>...</th>\n",
       "      <td>...</td>\n",
       "      <td>...</td>\n",
       "      <td>...</td>\n",
       "      <td>...</td>\n",
       "    </tr>\n",
       "    <tr>\n",
       "      <th>6502</th>\n",
       "      <td>48728cb2262a20dfcd8cf29bb51501c43019056e323ffe...</td>\n",
       "      <td>Si\\SI2022\\SI01722.Chn</td>\n",
       "      <td>16928</td>\n",
       "      <td>2022-03-31 11:28:34</td>\n",
       "    </tr>\n",
       "    <tr>\n",
       "      <th>6503</th>\n",
       "      <td>da7c979075826ed2cbe38110f4a7dc1ff49312a8c6b340...</td>\n",
       "      <td>Si\\SI2022\\SI01822.Chn</td>\n",
       "      <td>16928</td>\n",
       "      <td>2022-03-31 20:13:22</td>\n",
       "    </tr>\n",
       "    <tr>\n",
       "      <th>6504</th>\n",
       "      <td>53600b7f1672d0c5a48079e63934b29f56ef233a9f426e...</td>\n",
       "      <td>Si\\SI2022\\SI01922.Chn</td>\n",
       "      <td>16928</td>\n",
       "      <td>2022-04-01 10:59:44</td>\n",
       "    </tr>\n",
       "    <tr>\n",
       "      <th>6505</th>\n",
       "      <td>1474fb7a10238702a3f35ff89b282df6e17df9270a69f7...</td>\n",
       "      <td>Si\\SI2022\\SI02022.Chn</td>\n",
       "      <td>16928</td>\n",
       "      <td>2022-04-05 10:50:38</td>\n",
       "    </tr>\n",
       "    <tr>\n",
       "      <th>6506</th>\n",
       "      <td>3ca4ed67ab6192576ab684261407ab2e4551dd42bb2d37...</td>\n",
       "      <td>Si\\SI2022\\SI02722.Chn</td>\n",
       "      <td>16928</td>\n",
       "      <td>2022-04-12 12:23:12</td>\n",
       "    </tr>\n",
       "  </tbody>\n",
       "</table>\n",
       "<p>6507 rows × 4 columns</p>\n",
       "</div>"
      ],
      "text/plain": [
       "                                                fHashes  \\\n",
       "0     1c40ecfd4cc78f29bd87fb9b01e65e8358fba3f1250c4f...   \n",
       "1     90d591ecb101c3322833ebb7fce9c47ad08dafe4834f13...   \n",
       "2     007b7326dc314f18b7bc4abf5869898e89c0a8bdf13cd7...   \n",
       "3     ca2e8bf1989d293972be68102bea9ef80e342f8e1169c3...   \n",
       "4     fddb31e817a44f285daccddf7b710379e09e7728aa727c...   \n",
       "...                                                 ...   \n",
       "6502  48728cb2262a20dfcd8cf29bb51501c43019056e323ffe...   \n",
       "6503  da7c979075826ed2cbe38110f4a7dc1ff49312a8c6b340...   \n",
       "6504  53600b7f1672d0c5a48079e63934b29f56ef233a9f426e...   \n",
       "6505  1474fb7a10238702a3f35ff89b282df6e17df9270a69f7...   \n",
       "6506  3ca4ed67ab6192576ab684261407ab2e4551dd42bb2d37...   \n",
       "\n",
       "                                                fNames  fSizes  \\\n",
       "0                                 Filtros\\BGFILTRO.Chn   16928   \n",
       "1     Filtros\\Exaustor Dirf 20 julho 2016 SI 09816.Chn   16928   \n",
       "2                         Filtros\\FC SAS DIRF 2007.Chn   16928   \n",
       "3                        Filtros\\2009\\cce\\fcce0307.Chn   16928   \n",
       "4                        Filtros\\2009\\cce\\fcce1408.Chn   16928   \n",
       "...                                                ...     ...   \n",
       "6502                             Si\\SI2022\\SI01722.Chn   16928   \n",
       "6503                             Si\\SI2022\\SI01822.Chn   16928   \n",
       "6504                             Si\\SI2022\\SI01922.Chn   16928   \n",
       "6505                             Si\\SI2022\\SI02022.Chn   16928   \n",
       "6506                             Si\\SI2022\\SI02722.Chn   16928   \n",
       "\n",
       "             fModifTimes  \n",
       "0    2013-12-16 09:24:24  \n",
       "1    2016-08-03 14:38:46  \n",
       "2    2016-07-20 12:14:50  \n",
       "3    2009-07-10 10:49:56  \n",
       "4    2009-08-17 09:32:04  \n",
       "...                  ...  \n",
       "6502 2022-03-31 11:28:34  \n",
       "6503 2022-03-31 20:13:22  \n",
       "6504 2022-04-01 10:59:44  \n",
       "6505 2022-04-05 10:50:38  \n",
       "6506 2022-04-12 12:23:12  \n",
       "\n",
       "[6507 rows x 4 columns]"
      ]
     },
     "execution_count": 29,
     "metadata": {},
     "output_type": "execute_result"
    }
   ],
   "source": [
    "# Calling DataFrame constructor after zipping\n",
    "# both lists, with columns specified\n",
    "files_hashes_df = pd.DataFrame(list(zip(\n",
    "    all_hashes, genie_tranfer_all_just_files, files_sizes, pd.to_datetime(files_modif_times))),\n",
    "                               columns =['fHashes', 'fNames', 'fSizes', 'fModifTimes'])\n",
    "files_hashes_df"
   ]
  },
  {
   "cell_type": "code",
   "execution_count": 30,
   "metadata": {},
   "outputs": [
    {
     "data": {
      "text/plain": [
       "'chnspectra_2022-06-15T16.27.08.csv'"
      ]
     },
     "execution_count": 30,
     "metadata": {},
     "output_type": "execute_result"
    }
   ],
   "source": [
    "csv_fname"
   ]
  },
  {
   "cell_type": "code",
   "execution_count": 31,
   "metadata": {},
   "outputs": [],
   "source": [
    "# 2022-Jun-13\n",
    "# Gravar csv\n",
    "files_hashes_df.to_csv(csv_fname)"
   ]
  },
  {
   "cell_type": "code",
   "execution_count": 32,
   "metadata": {},
   "outputs": [],
   "source": [
    "# Fim"
   ]
  },
  {
   "cell_type": "code",
   "execution_count": null,
   "metadata": {},
   "outputs": [],
   "source": []
  }
 ],
 "metadata": {
  "kernelspec": {
   "display_name": "Python 3 (ipykernel)",
   "language": "python",
   "name": "python3"
  },
  "language_info": {
   "codemirror_mode": {
    "name": "ipython",
    "version": 3
   },
   "file_extension": ".py",
   "mimetype": "text/x-python",
   "name": "python",
   "nbconvert_exporter": "python",
   "pygments_lexer": "ipython3",
   "version": "3.9.7"
  }
 },
 "nbformat": 4,
 "nbformat_minor": 4
}
