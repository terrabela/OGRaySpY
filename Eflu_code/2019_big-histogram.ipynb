{
 "cells": [
  {
   "cell_type": "code",
   "execution_count": 1,
   "metadata": {},
   "outputs": [],
   "source": [
    "import matplotlib.pyplot as plt\n",
    "import numpy as np\n",
    "from machine_selection import set_screen_size_by_machine\n",
    "from filebatch_class import (FileBatch)\n",
    "from teste_datas import (Spec)\n",
    "\n",
    "from scipy.signal import (cwt, ricker, find_peaks, find_peaks_cwt, peak_widths)\n",
    "\n",
    "from bokeh.plotting import figure, output_file, output_notebook, show\n",
    "from bokeh import palettes"
   ]
  },
  {
   "cell_type": "raw",
   "metadata": {},
   "source": [
    "Automated Bin Selection Methods example, using 2 peak random data with 2000 points:"
   ]
  },
  {
   "cell_type": "code",
   "execution_count": 2,
   "metadata": {},
   "outputs": [
    {
     "data": {
      "image/png": "[encoded data removed]",
      "text/plain": [
       "<Figure size 432x288 with 1 Axes>"
      ]
     },
     "metadata": {
      "needs_background": "light"
     },
     "output_type": "display_data"
    }
   ],
   "source": [
    "rng = np.random.RandomState(10)  # deterministic random data\n",
    "a = np.hstack((rng.normal(size=1000),\n",
    "               rng.normal(loc=5, scale=2, size=1000)))\n",
    "plt.hist(a, bins='auto')  # arguments are passed to np.histogram\n",
    "plt.title(\"Histogram with 'auto' bins\")\n",
    "plt.show()"
   ]
  },
  {
   "cell_type": "code",
   "execution_count": 3,
   "metadata": {},
   "outputs": [
    {
     "data": {
      "image/png": "[encoded data removed]",
      "text/plain": [
       "<Figure size 432x288 with 1 Axes>"
      ]
     },
     "metadata": {
      "needs_background": "light"
     },
     "output_type": "display_data"
    }
   ],
   "source": [
    "\n",
    "rng = np.random.RandomState()  # 2019-06-17 sem parahmetro: semente aleatohria\n",
    "a = np.hstack((rng.normal(size=1000),\n",
    "               rng.normal(loc=5, scale=2, size=1000)))\n",
    "plt.hist(a, bins='auto')  # arguments are passed to np.histogram\n",
    "plt.title(\"Histogram with 'auto' bins\")\n",
    "plt.show()"
   ]
  },
  {
   "cell_type": "code",
   "execution_count": 4,
   "metadata": {},
   "outputs": [
    {
     "name": "stdout",
     "output_type": "stream",
     "text": [
      "[-0.68999442  0.18368908  1.58611862 ...  7.15843128  9.15112036\n",
      "  8.88151761]\n",
      "2000\n"
     ]
    }
   ],
   "source": [
    "print(a)\n",
    "print(len(a))"
   ]
  },
  {
   "cell_type": "code",
   "execution_count": 5,
   "metadata": {},
   "outputs": [
    {
     "data": {
      "text/plain": [
       "4000000"
      ]
     },
     "execution_count": 5,
     "metadata": {},
     "output_type": "execute_result"
    }
   ],
   "source": [
    "arr_of_arras = np.random.rand(1000, 4000)\n",
    "len(arr_of_arras)\n",
    "arr_sta = np.hstack(arr_of_arras)\n",
    "len(arr_sta)"
   ]
  },
  {
   "cell_type": "code",
   "execution_count": 6,
   "metadata": {},
   "outputs": [
    {
     "data": {
      "image/png": "[encoded data removed]",
      "text/plain": [
       "<Figure size 432x288 with 1 Axes>"
      ]
     },
     "metadata": {
      "needs_background": "light"
     },
     "output_type": "display_data"
    }
   ],
   "source": [
    "plt.hist(arr_sta, bins=np.linspace(start=0.0, stop=1.0, num=4000))  # arguments are passed to np.histogram\n",
    "plt.title(\"BIG data for Histogram\")\n",
    "plt.show()"
   ]
  },
  {
   "cell_type": "code",
   "execution_count": 7,
   "metadata": {},
   "outputs": [
    {
     "data": {
      "image/png": "[encoded data removed]",
      "text/plain": [
       "<Figure size 432x288 with 1 Axes>"
      ]
     },
     "metadata": {
      "needs_background": "light"
     },
     "output_type": "display_data"
    }
   ],
   "source": [
    "histo, edges = np.histogram(arr_sta, bins=np.linspace(start=0.0, stop=1.0, num=4000))\n",
    "plt.hist(arr_sta, bins=np.linspace(start=0.0, stop=1.0, num=4000))  # arguments are passed to np.histogram\n",
    "plt.title(\"BIG data for Histogram\")\n",
    "plt.show()"
   ]
  },
  {
   "cell_type": "code",
   "execution_count": 8,
   "metadata": {},
   "outputs": [
    {
     "data": {
      "text/plain": [
       "array([1055,  989,  973, ...,  913, 1061,  982], dtype=int64)"
      ]
     },
     "execution_count": 8,
     "metadata": {},
     "output_type": "execute_result"
    }
   ],
   "source": [
    "histo"
   ]
  },
  {
   "cell_type": "code",
   "execution_count": 9,
   "metadata": {},
   "outputs": [
    {
     "data": {
      "text/plain": [
       "array([0.00000000e+00, 2.50062516e-04, 5.00125031e-04, ...,\n",
       "       9.99499875e-01, 9.99749937e-01, 1.00000000e+00])"
      ]
     },
     "execution_count": 9,
     "metadata": {},
     "output_type": "execute_result"
    }
   ],
   "source": [
    "edges"
   ]
  },
  {
   "cell_type": "code",
   "execution_count": 10,
   "metadata": {},
   "outputs": [],
   "source": [
    "##################################################\n",
    "## P.P.\n",
    "\n",
    "fb = FileBatch()\n",
    "spec = Spec()"
   ]
  },
  {
   "cell_type": "raw",
   "metadata": {},
   "source": [
    "Pegando todos os arquivos SI"
   ]
  },
  {
   "cell_type": "code",
   "execution_count": 11,
   "metadata": {},
   "outputs": [
    {
     "name": "stdout",
     "output_type": "stream",
     "text": [
      "C:/Users/mmaduar/OwnDrive/Genie_Transfer/Si\n"
     ]
    }
   ],
   "source": [
    "fb.slotSetBatchCHN(\n",
    "    'C:/Users/mmaduar/OwnDrive/Genie_Transfer/Si'\n",
    ")"
   ]
  },
  {
   "cell_type": "code",
   "execution_count": 12,
   "metadata": {},
   "outputs": [
    {
     "name": "stdout",
     "output_type": "stream",
     "text": [
      "Num de arquivos:       1092 \n",
      "\n",
      "\n",
      "  arquivos\n"
     ]
    }
   ],
   "source": [
    "# print (fb.arqslist)\n",
    "print (fb.numarqstxt, ' arquivos')"
   ]
  },
  {
   "cell_type": "code",
   "execution_count": 13,
   "metadata": {},
   "outputs": [
    {
     "name": "stdout",
     "output_type": "stream",
     "text": [
      "C:\\Users\\mmaduar\\OwnDrive\\Genie_Transfer\\Si\\SI2004\\alg11x11.chn\n",
      "1024\n",
      "C:\\Users\\mmaduar\\OwnDrive\\Genie_Transfer\\Si\\si2012\\CAGD1c2.Chn\n",
      "2048\n",
      "1092\n",
      "4464640\n",
      "4096\n"
     ]
    }
   ],
   "source": [
    "n = 0\n",
    "soma_canais = 0\n",
    "all_specs=[]\n",
    "for fn in fb.lp:\n",
    "    # print ( spec.spCounts )\n",
    "    # Se espectro existe, ret = 0. Senao, -1 ou -2\n",
    "    if spec.readchnsp( fn ) >= 0:\n",
    "        # speccwt = SpecCwt()\n",
    "        # peaks = speccwt.setCounts(spec.spCounts)\n",
    "        #\n",
    "        # ar = speccwt.dopksarray( 20 )\n",
    "        # totar += ar\n",
    "        # speccwt.build_cwt_matrix( spec.spCounts, 5, 11 )\n",
    "        # print(fn)\n",
    "        # print(peaks)\n",
    "        n += 1\n",
    "        if spec.spLngData != 4096:\n",
    "            print (fn)\n",
    "            print (spec.spLngData)\n",
    "        else:\n",
    "            soma_canais += spec.spLngData\n",
    "            all_specs.append(spec.spCounts)\n",
    "print(n)\n",
    "print(soma_canais)\n",
    "# np.save('totar_2018_EANNORM', totar)\n",
    "# print(spec.spCounts)\n",
    "print(len(spec.spCounts))"
   ]
  },
  {
   "cell_type": "code",
   "execution_count": 14,
   "metadata": {},
   "outputs": [
    {
     "data": {
      "text/plain": [
       "1090"
      ]
     },
     "execution_count": 14,
     "metadata": {},
     "output_type": "execute_result"
    }
   ],
   "source": [
    "len(all_specs)"
   ]
  },
  {
   "cell_type": "code",
   "execution_count": 15,
   "metadata": {},
   "outputs": [
    {
     "data": {
      "text/plain": [
       "4096"
      ]
     },
     "execution_count": 15,
     "metadata": {},
     "output_type": "execute_result"
    }
   ],
   "source": [
    "len(all_specs[0])"
   ]
  },
  {
   "cell_type": "code",
   "execution_count": 16,
   "metadata": {},
   "outputs": [
    {
     "data": {
      "text/plain": [
       "4096"
      ]
     },
     "execution_count": 16,
     "metadata": {},
     "output_type": "execute_result"
    }
   ],
   "source": [
    "len(all_specs[-1])"
   ]
  },
  {
   "cell_type": "code",
   "execution_count": 17,
   "metadata": {},
   "outputs": [
    {
     "data": {
      "text/plain": [
       "4096"
      ]
     },
     "execution_count": 17,
     "metadata": {},
     "output_type": "execute_result"
    }
   ],
   "source": [
    "soma_specs = np.sum(all_specs, axis=0)\n",
    "len(soma_specs)"
   ]
  },
  {
   "cell_type": "code",
   "execution_count": 18,
   "metadata": {},
   "outputs": [
    {
     "data": {
      "text/plain": [
       "[<matplotlib.lines.Line2D at 0x29750bc9a20>]"
      ]
     },
     "execution_count": 18,
     "metadata": {},
     "output_type": "execute_result"
    },
    {
     "data": {
      "image/png": "[encoded data removed]",
      "text/plain": [
       "<Figure size 432x288 with 1 Axes>"
      ]
     },
     "metadata": {
      "needs_background": "light"
     },
     "output_type": "display_data"
    }
   ],
   "source": [
    "plt.plot(soma_specs)"
   ]
  },
  {
   "cell_type": "code",
   "execution_count": null,
   "metadata": {},
   "outputs": [],
   "source": []
  },
  {
   "cell_type": "code",
   "execution_count": null,
   "metadata": {},
   "outputs": [],
   "source": []
  },
  {
   "cell_type": "code",
   "execution_count": null,
   "metadata": {},
   "outputs": [],
   "source": []
  },
  {
   "cell_type": "raw",
   "metadata": {},
   "source": [
    "Pegando todos os arquivos SI2019"
   ]
  },
  {
   "cell_type": "code",
   "execution_count": 19,
   "metadata": {},
   "outputs": [
    {
     "name": "stdout",
     "output_type": "stream",
     "text": [
      "C:/Users/mmaduar/OwnDrive/Genie_Transfer/Si/SI2019\n"
     ]
    }
   ],
   "source": [
    "fb.slotSetBatchCHN(\n",
    "    'C:/Users/mmaduar/OwnDrive/Genie_Transfer/Si/SI2019'\n",
    ")"
   ]
  },
  {
   "cell_type": "code",
   "execution_count": 20,
   "metadata": {},
   "outputs": [
    {
     "name": "stdout",
     "output_type": "stream",
     "text": [
      "Num de arquivos:         22 \n",
      "\n",
      "\n",
      "  arquivos\n"
     ]
    }
   ],
   "source": [
    "# print (fb.arqslist)\n",
    "print (fb.numarqstxt, ' arquivos')"
   ]
  },
  {
   "cell_type": "code",
   "execution_count": 21,
   "metadata": {},
   "outputs": [
    {
     "name": "stdout",
     "output_type": "stream",
     "text": [
      "Espectros validos: 22\n",
      "Soma dos canais: 90112\n",
      "Soma dos canais esperada: 90112\n",
      "4096\n"
     ]
    }
   ],
   "source": [
    "n = 0\n",
    "soma_canais = 0\n",
    "all_specs=[]\n",
    "for fn in fb.lp:\n",
    "    # print ( spec.spCounts )\n",
    "    # Se espectro existe, ret = 0. Senao, -1 ou -2\n",
    "    if spec.readchnsp( fn ) >= 0:\n",
    "        # speccwt = SpecCwt()\n",
    "        # peaks = speccwt.setCounts(spec.spCounts)\n",
    "        #\n",
    "        # ar = speccwt.dopksarray( 20 )\n",
    "        # totar += ar\n",
    "        # speccwt.build_cwt_matrix( spec.spCounts, 5, 11 )\n",
    "        # print(fn)\n",
    "        # print(peaks)\n",
    "        n += 1\n",
    "        if spec.spLngData != 4096:\n",
    "            print (fn)\n",
    "            print (spec.spLngData)\n",
    "        else:\n",
    "            soma_canais += spec.spLngData\n",
    "            all_specs.append(spec.spCounts)\n",
    "print('Espectros validos:', n)\n",
    "print('Soma dos canais:', soma_canais)\n",
    "print('Soma dos canais esperada:', n*4096)\n",
    "# np.save('totar_2018_EANNORM', totar)\n",
    "# print(spec.spCounts)\n",
    "print(len(spec.spCounts))"
   ]
  },
  {
   "cell_type": "code",
   "execution_count": 22,
   "metadata": {},
   "outputs": [
    {
     "data": {
      "text/plain": [
       "22"
      ]
     },
     "execution_count": 22,
     "metadata": {},
     "output_type": "execute_result"
    }
   ],
   "source": [
    "len(all_specs)"
   ]
  },
  {
   "cell_type": "code",
   "execution_count": 23,
   "metadata": {},
   "outputs": [
    {
     "data": {
      "text/plain": [
       "4096"
      ]
     },
     "execution_count": 23,
     "metadata": {},
     "output_type": "execute_result"
    }
   ],
   "source": [
    "len(all_specs[0])"
   ]
  },
  {
   "cell_type": "code",
   "execution_count": 24,
   "metadata": {},
   "outputs": [
    {
     "data": {
      "text/plain": [
       "4096"
      ]
     },
     "execution_count": 24,
     "metadata": {},
     "output_type": "execute_result"
    }
   ],
   "source": [
    "len(all_specs[-1])"
   ]
  },
  {
   "cell_type": "code",
   "execution_count": 25,
   "metadata": {},
   "outputs": [
    {
     "data": {
      "text/plain": [
       "4096"
      ]
     },
     "execution_count": 25,
     "metadata": {},
     "output_type": "execute_result"
    }
   ],
   "source": [
    "soma_specs = np.sum(all_specs, axis=0)\n",
    "len(soma_specs)"
   ]
  },
  {
   "cell_type": "code",
   "execution_count": 26,
   "metadata": {},
   "outputs": [
    {
     "data": {
      "text/plain": [
       "[<matplotlib.lines.Line2D at 0x29743050400>]"
      ]
     },
     "execution_count": 26,
     "metadata": {},
     "output_type": "execute_result"
    },
    {
     "data": {
      "image/png": "[encoded data removed]",
      "text/plain": [
       "<Figure size 432x288 with 1 Axes>"
      ]
     },
     "metadata": {
      "needs_background": "light"
     },
     "output_type": "display_data"
    }
   ],
   "source": [
    "plt.plot(soma_specs)"
   ]
  },
  {
   "cell_type": "code",
   "execution_count": null,
   "metadata": {},
   "outputs": [],
   "source": []
  },
  {
   "cell_type": "code",
   "execution_count": null,
   "metadata": {},
   "outputs": [],
   "source": []
  },
  {
   "cell_type": "code",
   "execution_count": 27,
   "metadata": {},
   "outputs": [],
   "source": [
    "\n",
    "default_plot_width, default_plot_height = set_screen_size_by_machine()\n",
    "\n",
    "xs = list(range(len(soma_specs)))\n"
   ]
  },
  {
   "cell_type": "code",
   "execution_count": 28,
   "metadata": {},
   "outputs": [],
   "source": [
    "bo1 = figure(\n",
    "   plot_width =default_plot_width,\n",
    "   plot_height=default_plot_height,\n",
    "   tools=\"pan,box_zoom,reset,save\",\n",
    "   y_axis_type=\"log\",\n",
    "   y_range=[1.0, 10**8], title=\"Plot #1: Sum of ~20 IEA-R1.\",\n",
    "   x_axis_label='channels', y_axis_label='counts'\n",
    ")\n",
    "bo1.circle(xs, soma_specs, legend=\"counts\", color=\"lightblue\",size=4)\n",
    "bo1.line(xs, soma_specs, color=\"red\")\n",
    "# [p2a.line(xs, cwtmatr[i], color=palettes.Plasma[11][i]) for i in range(1,7)]\n",
    "# bo1.line(xs, cwtmatr[ndx_scale_to_compare], color=\"red\", legend=\"scale to compare\")\n",
    "\n",
    "# p2a.multi_line(lx,ly, color=\"orange\")\n",
    "# p2a.multi_line(lx,blins, color=\"magenta\")\n",
    "# p2a.multi_line(lx,nety, color=\"green\")\n",
    "# p2a.x(spec2.indicescwt, heis, color=\"red\", size=6)\n",
    "# p2a.line(xs, cwtmatr[0], color=palettes.Plasma[10][0])\n",
    "# [p2a2.line(xs, cwtmatr[i], color=palettes.Plasma[11][i]) for i in range(7)]\n",
    "# p2a2.line(xs, running_std_cwt1, color=\"blue\", legend=\"std\")\n",
    "# p2a2.line(xs, running_iqr_cwt1, color=\"red\",  legend=\"iqr\" )\n",
    "# p2a1.line(xs, mean_coeff_cwtmatr, color=\"orange\", legend=\"MEAN\")\n",
    "\n",
    "show(bo1)"
   ]
  },
  {
   "cell_type": "code",
   "execution_count": null,
   "metadata": {},
   "outputs": [],
   "source": []
  },
  {
   "cell_type": "code",
   "execution_count": 29,
   "metadata": {},
   "outputs": [],
   "source": [
    "Expect_peak_chans = [\n",
    "    [[3040, 3210], 2754.1],\n",
    "    [[1470, 1530], 1332.5],\n",
    "    [[1300, 1360], 1173.2],\n",
    "    [[ 900,  950],  810.8],\n",
    "    [[ 730,  765],  657.8],\n",
    "    [[ 355,  390],  320.1],\n",
    "    [[ 250,  300],  228.2]\n",
    "]"
   ]
  },
  {
   "cell_type": "code",
   "execution_count": 30,
   "metadata": {},
   "outputs": [
    {
     "data": {
      "text/plain": [
       "array([2754.1, 1332.5, 1173.2,  810.8,  657.8,  320.1,  228.2])"
      ]
     },
     "execution_count": 30,
     "metadata": {},
     "output_type": "execute_result"
    }
   ],
   "source": [
    "engys = np.asarray( [ro[1] for ro in Expect_peak_chans] )\n",
    "engys"
   ]
  },
  {
   "cell_type": "code",
   "execution_count": 31,
   "metadata": {},
   "outputs": [
    {
     "data": {
      "text/plain": [
       "4096"
      ]
     },
     "execution_count": 31,
     "metadata": {},
     "output_type": "execute_result"
    }
   ],
   "source": [
    "spec13 = all_specs[13]\n",
    "len(spec13)"
   ]
  },
  {
   "cell_type": "code",
   "execution_count": 32,
   "metadata": {},
   "outputs": [],
   "source": [
    "ra = 1 # range of index 1 (1332.5 keV)\n",
    "ra1 = spec13[Expect_peak_chans[ra][0][0]:Expect_peak_chans[ra][0][1]]"
   ]
  },
  {
   "cell_type": "code",
   "execution_count": 33,
   "metadata": {},
   "outputs": [
    {
     "data": {
      "text/plain": [
       "array([27], dtype=int64)"
      ]
     },
     "execution_count": 33,
     "metadata": {},
     "output_type": "execute_result"
    }
   ],
   "source": [
    "ipks = find_peaks_cwt(ra1, np.arange(1,15))\n",
    "# ipks = find_peaks_cwt(spec13, np.arange(1,15))\n",
    "ipks"
   ]
  },
  {
   "cell_type": "code",
   "execution_count": 34,
   "metadata": {},
   "outputs": [
    {
     "data": {
      "text/plain": [
       "6.25"
      ]
     },
     "execution_count": 34,
     "metadata": {},
     "output_type": "execute_result"
    }
   ],
   "source": [
    "np.average([2,7,9],weights=[1.0,2.0,1.0])"
   ]
  },
  {
   "cell_type": "code",
   "execution_count": 35,
   "metadata": {},
   "outputs": [
    {
     "data": {
      "text/plain": [
       "[0, 0, 0, 0, 0]"
      ]
     },
     "execution_count": 35,
     "metadata": {},
     "output_type": "execute_result"
    }
   ],
   "source": [
    "a = spec13[2:7]\n",
    "a"
   ]
  },
  {
   "cell_type": "raw",
   "metadata": {},
   "source": [
    "for isp, sp in enumerate(all_specs):\n",
    "    print('*************************\\n','Espectro ', isp )\n",
    "    for raCh in Expect_peak_chans:\n",
    "        raSp = sp[raCh[0][0]:raCh[0][1]]\n",
    "        pkNdxs = find_peaks_cwt(raSp, np.arange(1,15), min_snr=5.0)\n",
    "        print(pkNdxs)"
   ]
  },
  {
   "cell_type": "raw",
   "metadata": {},
   "source": [
    "for isp, sp in enumerate(all_specs):\n",
    "    print('*************************\\n','Espectro ', isp )\n",
    "    for raCh in Expect_peak_chans:\n",
    "        print('-----------')\n",
    "        raSp = sp[raCh[0][0]:raCh[0][1]]\n",
    "        peaks = find_peaks(raSp, height=49.0, width=[2,15])\n",
    "        print('Canais dos picos')\n",
    "        print (peaks[0])\n",
    "#        print('Alturas')\n",
    "#        print (peaks[1]['peak_heights'])\n",
    "        print('Prominencias')\n",
    "        print (peaks[1]['prominences'])\n",
    "#        print('Larguras')\n",
    "#        print (peaks[1]['width_heights'])"
   ]
  },
  {
   "cell_type": "code",
   "execution_count": 36,
   "metadata": {},
   "outputs": [],
   "source": [
    "#   https://stackoverflow.com/questions/53277172/how-to-exclude-values-from-a-polynomial-fit"
   ]
  },
  {
   "cell_type": "code",
   "execution_count": 44,
   "metadata": {},
   "outputs": [
    {
     "name": "stdout",
     "output_type": "stream",
     "text": [
      "*************************\n",
      " Espectro  0\n",
      "-----------\n",
      "Canais dos picos\n",
      "[]\n",
      "-----------\n",
      "Canais dos picos\n",
      "[12 16 18 27 55]\n",
      "pkNdx: 4\n",
      "[52 53 54 55 56 57 58]\n",
      "[746, 3294, 8837, 11667, 7156, 1842, 228]\n",
      "centroid:  1524.8182114302635\n",
      "-----------\n",
      "Canais dos picos\n",
      "[12 34 47]\n",
      "pkNdx: 2\n",
      "[44 45 46 47 48 49 50]\n",
      "[337, 1354, 5601, 12420, 12356, 5157, 952]\n",
      "centroid:  1347.4244964245488\n",
      "-----------\n",
      "Canais dos picos\n",
      "[13 19 34 44]\n",
      "pkNdx: 3\n",
      "[41 42 43 44 45 46 47]\n",
      "[571, 1377, 4486, 6535, 3635, 983, 437]\n",
      "centroid:  943.8867620949844\n",
      "-----------\n",
      "Canais dos picos\n",
      "[ 7 12]\n",
      "pkNdx: 0\n",
      "[ 4  5  6  7  8  9 10]\n",
      "[551, 484, 547, 562, 544, 506, 516]\n",
      "centroid:  736.9827493261456\n",
      "-----------\n",
      "Canais dos picos\n",
      "[ 3 12 16 18]\n",
      "pkNdx: 1\n",
      "[ 9 10 11 12 13 14 15]\n",
      "[979, 998, 1024, 1037, 981, 996, 999]\n",
      "centroid:  367.0018534359852\n",
      "-----------\n",
      "Canais dos picos\n",
      "[12 26 32 45]\n",
      "pkNdx: 2\n",
      "[29 30 31 32 33 34 35]\n",
      "[1441, 1506, 1486, 1515, 1486, 1475, 1507]\n",
      "centroid:  282.0130568356375\n",
      "[          nan 1524.81821143 1347.42449642  943.88676209  736.98274933\n",
      "  367.00185344  282.01305684]\n",
      "*************************\n",
      " Espectro  1\n",
      "-----------\n",
      "Canais dos picos\n",
      "[]\n",
      "-----------\n",
      "Canais dos picos\n",
      "[15 26 34 56]\n",
      "pkNdx: 3\n",
      "[53 54 55 56 57 58 59]\n",
      "[422, 2245, 7194, 12238, 9587, 3347, 493]\n",
      "centroid:  1526.135393796093\n",
      "-----------\n",
      "Canais dos picos\n",
      "[39 49]\n",
      "pkNdx: 1\n",
      "[46 47 48 49 50 51 52]\n",
      "[851, 3991, 11161, 14232, 7590, 1727, 258]\n",
      "centroid:  1348.7518713890981\n",
      "-----------\n",
      "Canais dos picos\n",
      "[10 21 29 45]\n",
      "pkNdx: 3\n",
      "[42 43 44 45 46 47 48]\n",
      "[479, 1080, 4186, 7768, 5601, 1639, 477]\n",
      "centroid:  945.1190296749883\n",
      "-----------\n",
      "Canais dos picos\n",
      "[19]\n",
      "pkNdx: 0\n",
      "[16 17 18 19 20 21 22]\n",
      "[570, 497, 554, 563, 528, 561, 536]\n",
      "centroid:  749.0\n",
      "-----------\n",
      "Canais dos picos\n",
      "[ 8 21 25 31]\n",
      "pkNdx: 0\n",
      "[ 5  6  7  8  9 10 11]\n",
      "[1081, 1013, 1000, 1063, 1048, 1021, 1015]\n",
      "centroid:  362.9814942687474\n",
      "-----------\n",
      "Canais dos picos\n",
      "[13 29 37 46]\n",
      "pkNdx: 2\n",
      "[34 35 36 37 38 39 40]\n",
      "[1464, 1481, 1523, 1556, 1456, 1448, 1525]\n",
      "centroid:  287.0047833157945\n",
      "[          nan 1526.1353938  1348.75187139  945.11902967  749.\n",
      "  362.98149427  287.00478332]\n",
      "*************************\n",
      " Espectro  2\n",
      "-----------\n",
      "Canais dos picos\n",
      "[69]\n",
      "pkNdx: 0\n",
      "[66 67 68 69 70 71 72]\n",
      "[331, 753, 1275, 1448, 1071, 468, 140]\n",
      "centroid:  3108.7544659132336\n",
      "-----------\n",
      "Canais dos picos\n",
      "[ 3  8 13 22 29 56]\n",
      "pkNdx: 5\n",
      "[53 54 55 56 57 58 59]\n",
      "[468, 2222, 7401, 12486, 10254, 3533, 511]\n",
      "centroid:  1526.151972881356\n",
      "-----------\n",
      "Canais dos picos\n",
      "[10 23 41 49]\n",
      "pkNdx: 3\n",
      "[46 47 48 49 50 51 52]\n",
      "[900, 3890, 11217, 14786, 8526, 2092, 372]\n",
      "centroid:  1348.8116219515114\n",
      "-----------\n",
      "Canais dos picos\n",
      "[ 3  9 19 39 45]\n",
      "pkNdx: 4\n",
      "[42 43 44 45 46 47 48]\n",
      "[578, 1196, 4529, 9172, 6906, 2079, 678]\n",
      "centroid:  945.1767443710717\n",
      "-----------\n",
      "Canais dos picos\n",
      "[ 9 14 22 26]\n",
      "pkNdx: 2\n",
      "[19 20 21 22 23 24 25]\n",
      "[641, 706, 737, 766, 725, 713, 691]\n",
      "centroid:  752.0305282185178\n",
      "-----------\n",
      "Canais dos picos\n",
      "[ 4 12]\n",
      "pkNdx: 1\n",
      "[ 9 10 11 12 13 14 15]\n",
      "[1434, 1355, 1454, 1479, 1406, 1395, 1430]\n",
      "centroid:  367.00200944438865\n",
      "-----------\n",
      "Canais dos picos\n",
      "[22 35 40]\n",
      "pkNdx: 1\n",
      "[32 33 34 35 36 37 38]\n",
      "[2040, 2028, 2075, 2085, 2068, 2046, 2018]\n",
      "centroid:  284.9974233983287\n",
      "[3108.75446591 1526.15197288 1348.81162195  945.17674437  752.03052822\n",
      "  367.00200944  284.9974234 ]\n",
      "*************************\n",
      " Espectro  3\n",
      "-----------\n",
      "Canais dos picos\n",
      "[]\n",
      "-----------\n",
      "Canais dos picos\n",
      "[ 6 14 31]\n",
      "pkNdx: 2\n",
      "[28 29 30 31 32 33 34]\n",
      "[919, 3731, 9063, 11518, 6625, 1579, 195]\n",
      "centroid:  1500.7349390425215\n",
      "-----------\n",
      "Canais dos picos\n",
      "[24 41 51 56]\n",
      "pkNdx: 0\n",
      "[21 22 23 24 25 26 27]\n",
      "[440, 1964, 6993, 13009, 11239, 3934, 646]\n",
      "centroid:  1324.230320470896\n",
      "-----------\n",
      "Canais dos picos\n",
      "[11 23 31]\n",
      "pkNdx: 1\n",
      "[20 21 22 23 24 25 26]\n",
      "[520, 1213, 2991, 3585, 1703, 576, 414]\n",
      "centroid:  922.738229412834\n",
      "-----------\n",
      "Canais dos picos\n",
      "[23]\n",
      "pkNdx: 0\n",
      "[20 21 22 23 24 25 26]\n",
      "[532, 668, 1962, 3689, 2861, 994, 525]\n",
      "centroid:  753.1362300774641\n",
      "-----------\n",
      "Canais dos picos\n",
      "[ 1 24]\n",
      "pkNdx: 1\n",
      "[21 22 23 24 25 26 27]\n",
      "[822, 844, 884, 943, 900, 857, 785]\n",
      "centroid:  378.98856669428335\n",
      "-----------\n",
      "Canais dos picos\n",
      "[]\n",
      "[          nan 1500.73493904 1324.23032047  922.73822941  753.13623008\n",
      "  378.98856669           nan]\n",
      "*************************\n",
      " Espectro  4\n",
      "-----------\n",
      "Canais dos picos\n",
      "[34]\n",
      "pkNdx: 0\n",
      "[31 32 33 34 35 36 37]\n",
      "[45, 68, 139, 169, 146, 67, 11]\n",
      "centroid:  3073.8496124031008\n",
      "-----------\n",
      "Canais dos picos\n",
      "[22]\n",
      "pkNdx: 0\n",
      "[19 20 21 22 23 24 25]\n",
      "[1237, 5290, 12655, 14103, 6905, 1415, 156]\n",
      "centroid:  1491.599075692632\n",
      "-----------\n",
      "Canais dos picos\n",
      "[14 25 31 37 40 43 51]\n",
      "pkNdx: 0\n",
      "[11 12 13 14 15 16 17]\n",
      "[524, 2188, 8651, 16799, 13611, 4443, 728]\n",
      "centroid:  1314.214766530334\n",
      "-----------\n",
      "Canais dos picos\n",
      "[11 19 30 38]\n",
      "pkNdx: 0\n",
      "[ 8  9 10 11 12 13 14]\n",
      "[809, 2838, 8668, 10857, 4652, 1083, 585]\n",
      "centroid:  910.7220263122202\n",
      "-----------\n",
      "Canais dos picos\n",
      "[10 22]\n",
      "pkNdx: 0\n",
      "[ 7  8  9 10 11 12 13]\n",
      "[763, 882, 2961, 7076, 6355, 2105, 797]\n",
      "centroid:  740.2837766846554\n",
      "-----------\n",
      "Canais dos picos\n",
      "[10 19]\n",
      "pkNdx: 0\n",
      "[ 7  8  9 10 11 12 13]\n",
      "[1343, 1590, 3087, 3463, 1871, 1343, 1286]\n",
      "centroid:  364.8654795108346\n",
      "-----------\n",
      "Canais dos picos\n",
      "[ 6 12 30 33 43]\n",
      "pkNdx: 1\n",
      "[ 9 10 11 12 13 14 15]\n",
      "[2050, 2027, 2069, 2586, 2528, 2065, 1998]\n",
      "centroid:  262.0247340599099\n",
      "[3073.8496124  1491.59907569 1314.21476653  910.72202631  740.28377668\n",
      "  364.86547951  262.02473406]\n",
      "*************************\n",
      " Espectro  5\n",
      "-----------\n",
      "Canais dos picos\n",
      "[]\n",
      "-----------\n",
      "Canais dos picos\n",
      "[]\n",
      "-----------\n",
      "Canais dos picos\n",
      "[38]\n",
      "pkNdx: 0\n",
      "[35 36 37 38 39 40 41]\n",
      "[29, 37, 48, 54, 32, 24, 27]\n",
      "centroid:  1337.8087649402391\n",
      "-----------\n",
      "Canais dos picos\n",
      "[ 5 20 26 33 47]\n",
      "pkNdx: 0\n",
      "[2 3 4 5 6 7 8]\n",
      "[122, 108, 123, 149, 137, 118, 96]\n",
      "centroid:  904.9484173505275\n",
      "-----------\n",
      "Canais dos picos\n",
      "[13 22]\n",
      "pkNdx: 0\n",
      "[10 11 12 13 14 15 16]\n",
      "[143, 127, 152, 172, 151, 151, 152]\n",
      "centroid:  743.0706106870228\n",
      "-----------\n",
      "Canais dos picos\n",
      "[ 6 21]\n",
      "pkNdx: 0\n",
      "[3 4 5 6 7 8 9]\n",
      "[462, 448, 462, 505, 504, 480, 496]\n",
      "centroid:  361.0619600834078\n",
      "-----------\n",
      "Canais dos picos\n",
      "[ 4 11 18 37 41 46]\n",
      "pkNdx: 5\n",
      "[43 44 45 46 47 48 49]\n",
      "[582, 590, 798, 883, 696, 572, 577]\n",
      "centroid:  295.96743295019155\n",
      "[          nan           nan 1337.80876494  904.94841735  743.07061069\n",
      "  361.06196008  295.96743295]\n",
      "*************************\n",
      " Espectro  6\n",
      "-----------\n",
      "Canais dos picos\n",
      "[]\n",
      "-----------\n",
      "Canais dos picos\n",
      "[ 3 14]\n",
      "pkNdx: 1\n",
      "[11 12 13 14 15 16 17]\n",
      "[442, 2224, 7920, 15441, 13741, 4676, 637]\n",
      "centroid:  1484.25088174619\n",
      "-----------\n",
      "Canais dos picos\n",
      "[ 8 47]\n",
      "pkNdx: 0\n",
      "[ 5  6  7  8  9 10 11]\n",
      "[1002, 4586, 13850, 18728, 10148, 2114, 279]\n",
      "centroid:  1307.78671583805\n",
      "-----------\n",
      "Canais dos picos\n",
      "[ 6 17 33 40]\n",
      "pkNdx: 0\n",
      "[3 4 5 6 7 8 9]\n",
      "[558, 832, 2706, 5611, 4533, 1455, 557]\n",
      "centroid:  906.1888998277135\n",
      "-----------\n",
      "Canais dos picos\n",
      "[ 7 29]\n",
      "pkNdx: 0\n",
      "[ 4  5  6  7  8  9 10]\n",
      "[579, 1030, 2675, 3861, 1901, 617, 588]\n",
      "centroid:  736.8601902053151\n",
      "-----------\n",
      "Canais dos picos\n",
      "[]\n",
      "-----------\n",
      "Canais dos picos\n",
      "[ 3 23 26 40]\n",
      "pkNdx: 1\n",
      "[20 21 22 23 24 25 26]\n",
      "[1366, 1445, 1529, 1606, 1435, 1312, 1377]\n",
      "centroid:  272.96752730883816\n",
      "[          nan 1484.25088175 1307.78671584  906.18889983  736.86019021\n",
      "           nan  272.96752731]\n",
      "*************************\n",
      " Espectro  7\n",
      "-----------\n",
      "Canais dos picos\n",
      "[]\n",
      "-----------\n",
      "Canais dos picos\n",
      "[]\n",
      "-----------\n",
      "Canais dos picos\n",
      "[]\n",
      "-----------\n",
      "Canais dos picos\n",
      "[]\n",
      "-----------\n",
      "Canais dos picos\n",
      "[]\n",
      "-----------\n",
      "Canais dos picos\n",
      "[]\n",
      "-----------\n",
      "Canais dos picos\n",
      "[]\n",
      "[nan nan nan nan nan nan nan]\n",
      "*** Impossivel ajustar ***\n",
      "*************************\n",
      " Espectro  8\n",
      "-----------\n",
      "Canais dos picos\n",
      "[]\n",
      "-----------\n",
      "Canais dos picos\n",
      "[]\n",
      "-----------\n",
      "Canais dos picos\n",
      "[]\n",
      "-----------\n",
      "Canais dos picos\n",
      "[]\n",
      "-----------\n",
      "Canais dos picos\n",
      "[]\n",
      "-----------\n",
      "Canais dos picos\n",
      "[]\n",
      "-----------\n",
      "Canais dos picos\n",
      "[]\n",
      "[nan nan nan nan nan nan nan]\n",
      "*** Impossivel ajustar ***\n",
      "*************************\n",
      " Espectro  9\n",
      "-----------\n",
      "Canais dos picos\n",
      "[]\n",
      "-----------\n",
      "Canais dos picos\n",
      "[ 2 13 36 50 56]\n",
      "pkNdx: 1\n",
      "[10 11 12 13 14 15 16]\n",
      "[495, 2484, 8981, 17100, 14922, 5164, 707]\n",
      "centroid:  1483.2394439652578\n",
      "-----------\n",
      "Canais dos picos\n",
      "[ 7 14 26 54]\n",
      "pkNdx: 0\n",
      "[ 4  5  6  7  8  9 10]\n",
      "[951, 4242, 14077, 21241, 12626, 2882, 401]\n",
      "centroid:  1306.8968273661822\n",
      "-----------\n",
      "Canais dos picos\n",
      "[ 6 14 24 32]\n",
      "pkNdx: 0\n",
      "[3 4 5 6 7 8 9]\n",
      "[811, 2044, 5986, 7052, 2827, 804, 645]\n",
      "centroid:  905.6957211562299\n",
      "-----------\n",
      "Canais dos picos\n",
      "[ 6 28]\n",
      "pkNdx: 0\n",
      "[3 4 5 6 7 8 9]\n",
      "[845, 1099, 3907, 9440, 7146, 1869, 802]\n",
      "centroid:  736.1851999362752\n",
      "-----------\n",
      "Canais dos picos\n",
      "[ 8 17 28]\n",
      "pkNdx: 0\n",
      "[ 5  6  7  8  9 10 11]\n",
      "[1383, 1461, 1632, 1635, 1425, 1405, 1334]\n",
      "centroid:  362.9546472019465\n",
      "-----------\n",
      "Canais dos picos\n",
      "[23 38 44]\n",
      "pkNdx: 0\n",
      "[20 21 22 23 24 25 26]\n",
      "[1982, 2040, 2129, 2192, 2006, 1992, 1890]\n",
      "centroid:  272.9652167802684\n",
      "[          nan 1483.23944397 1306.89682737  905.69572116  736.18519994\n",
      "  362.9546472   272.96521678]\n",
      "*************************\n",
      " Espectro  10\n",
      "-----------\n",
      "Canais dos picos\n",
      "[]\n",
      "-----------\n",
      "Canais dos picos\n",
      "[ 4 14]\n",
      "pkNdx: 1\n",
      "[11 12 13 14 15 16 17]\n",
      "[684, 3420, 10745, 18231, 13471, 4015, 469]\n",
      "centroid:  1484.064093269325\n",
      "-----------\n",
      "Canais dos picos\n",
      "[ 8 22 27 37 43 55]\n",
      "pkNdx: 0\n",
      "[ 5  6  7  8  9 10 11]\n",
      "[1469, 6631, 17602, 20493, 9187, 1595, 288]\n",
      "centroid:  1307.6152973020169\n",
      "-----------\n",
      "Canais dos picos\n",
      "[ 6 14 26 33 44]\n",
      "pkNdx: 0\n",
      "[3 4 5 6 7 8 9]\n",
      "[679, 1257, 4436, 8526, 5762, 1477, 681]\n",
      "centroid:  906.0776579893067\n",
      "-----------\n",
      "Canais dos picos\n",
      "[ 7 29]\n",
      "pkNdx: 0\n",
      "[ 4  5  6  7  8  9 10]\n",
      "[717, 1244, 3308, 3905, 1804, 742, 677]\n",
      "centroid:  736.788013229007\n",
      "-----------\n",
      "Canais dos picos\n",
      "[18]\n",
      "pkNdx: 0\n",
      "[15 16 17 18 19 20 21]\n",
      "[1154, 1093, 1151, 1176, 1171, 1084, 1142]\n",
      "centroid:  372.99573453769915\n",
      "-----------\n",
      "Canais dos picos\n",
      "[ 7 22]\n",
      "pkNdx: 1\n",
      "[19 20 21 22 23 24 25]\n",
      "[1684, 1586, 1601, 1823, 1754, 1724, 1628]\n",
      "centroid:  272.0221186440678\n",
      "[          nan 1484.06409327 1307.6152973   906.07765799  736.78801323\n",
      "  372.99573454  272.02211864]\n",
      "*************************\n",
      " Espectro  11\n",
      "-----------\n",
      "Canais dos picos\n",
      "[]\n",
      "-----------\n",
      "Canais dos picos\n",
      "[ 3 14]\n",
      "pkNdx: 1\n",
      "[11 12 13 14 15 16 17]\n",
      "[760, 3353, 10735, 16779, 11987, 3427, 370]\n",
      "centroid:  1484.0048511948703\n",
      "-----------\n",
      "Canais dos picos\n",
      "[ 8 53]\n",
      "pkNdx: 0\n",
      "[ 5  6  7  8  9 10 11]\n",
      "[1622, 7117, 17295, 18548, 7678, 1230, 213]\n",
      "centroid:  1307.5229689216617\n",
      "-----------\n",
      "Canais dos picos\n",
      "[ 6 26 33]\n",
      "pkNdx: 0\n",
      "[3 4 5 6 7 8 9]\n",
      "[693, 1646, 5697, 9164, 5077, 1134, 637]\n",
      "centroid:  905.9246506986028\n",
      "-----------\n",
      "Canais dos picos\n",
      "[ 6 11 28]\n",
      "pkNdx: 0\n",
      "[3 4 5 6 7 8 9]\n",
      "[636, 673, 1330, 2991, 2842, 1127, 576]\n",
      "centroid:  736.2201474201474\n",
      "-----------\n",
      "Canais dos picos\n",
      "[ 3  8 28]\n",
      "pkNdx: 1\n",
      "[ 5  6  7  8  9 10 11]\n",
      "[1032, 1140, 1425, 1446, 1157, 1045, 1002]\n",
      "centroid:  362.9335515945192\n",
      "-----------\n",
      "Canais dos picos\n",
      "[]\n",
      "[          nan 1484.00485119 1307.52296892  905.9246507   736.22014742\n",
      "  362.93355159           nan]\n",
      "*************************\n",
      " Espectro  12\n",
      "-----------\n",
      "Canais dos picos\n",
      "[]\n",
      "-----------\n",
      "Canais dos picos\n",
      "[26]\n",
      "pkNdx: 0\n",
      "[23 24 25 26 27 28 29]\n",
      "[542, 2780, 9510, 17085, 14411, 4673, 592]\n",
      "centroid:  1496.1781904704294\n",
      "-----------\n",
      "Canais dos picos\n",
      "[ 7 20 32 44]\n",
      "pkNdx: 1\n",
      "[17 18 19 20 21 22 23]\n",
      "[1274, 5669, 15995, 20657, 10308, 2068, 305]\n",
      "centroid:  1319.7193119624708\n",
      "-----------\n",
      "Canais dos picos\n",
      "[ 3 18 26 45]\n",
      "pkNdx: 1\n",
      "[15 16 17 18 19 20 21]\n",
      "[716, 1414, 5084, 10601, 7574, 2048, 651]\n",
      "centroid:  918.126851324409\n",
      "-----------\n",
      "Canais dos picos\n",
      "[ 5 19]\n",
      "pkNdx: 1\n",
      "[16 17 18 19 20 21 22]\n",
      "[830, 1787, 5309, 6655, 2738, 915, 789]\n",
      "centroid:  748.7667034642275\n",
      "-----------\n",
      "Canais dos picos\n",
      "[26]\n",
      "pkNdx: 0\n",
      "[23 24 25 26 27 28 29]\n",
      "[1288, 1287, 1306, 1354, 1324, 1326, 1318]\n",
      "centroid:  381.0202108008258\n",
      "-----------\n",
      "Canais dos picos\n",
      "[ 6 35]\n",
      "pkNdx: 1\n",
      "[32 33 34 35 36 37 38]\n",
      "[1865, 1922, 2034, 2062, 1798, 1843, 1855]\n",
      "centroid:  284.9683085432394\n",
      "[          nan 1496.17819047 1319.71931196  918.12685132  748.76670346\n",
      "  381.0202108   284.96830854]\n",
      "*************************\n",
      " Espectro  13\n",
      "-----------\n",
      "Canais dos picos\n",
      "[]\n",
      "-----------\n",
      "Canais dos picos\n",
      "[26]\n",
      "pkNdx: 0\n",
      "[23 24 25 26 27 28 29]\n",
      "[400, 2123, 7998, 16499, 15489, 6152, 990]\n",
      "centroid:  1496.348814726793\n",
      "-----------\n",
      "Canais dos picos\n",
      "[20]\n",
      "pkNdx: 0\n",
      "[17 18 19 20 21 22 23]\n",
      "[983, 4480, 14183, 20415, 12466, 2821, 406]\n",
      "centroid:  1319.8786454783512\n",
      "-----------\n",
      "Canais dos picos\n",
      "[12 18 27 45]\n",
      "pkNdx: 1\n",
      "[15 16 17 18 19 20 21]\n",
      "[678, 1217, 4378, 10761, 9451, 2839, 771]\n",
      "centroid:  918.2856288420003\n",
      "-----------\n",
      "Canais dos picos\n",
      "[19]\n",
      "pkNdx: 0\n",
      "[16 17 18 19 20 21 22]\n",
      "[812, 1436, 4797, 7540, 3809, 1111, 771]\n",
      "centroid:  748.9131485500099\n",
      "-----------\n",
      "Canais dos picos\n",
      "[ 7 30]\n",
      "pkNdx: 0\n",
      "[ 4  5  6  7  8  9 10]\n",
      "[1366, 1391, 1300, 1397, 1369, 1363, 1359]\n",
      "centroid:  361.9991618648507\n",
      "-----------\n",
      "Canais dos picos\n",
      "[ 9 12 35 43]\n",
      "pkNdx: 0\n",
      "[ 6  7  8  9 10 11 12]\n",
      "[2086, 2060, 2122, 2187, 2100, 2051, 2180]\n",
      "centroid:  259.01636683349113\n",
      "[          nan 1496.34881473 1319.87864548  918.28562884  748.91314855\n",
      "  361.99916186  259.01636683]\n",
      "*************************\n",
      " Espectro  14\n",
      "-----------\n",
      "Canais dos picos\n",
      "[]\n",
      "-----------\n",
      "Canais dos picos\n",
      "[ 3 16 27]\n",
      "pkNdx: 2\n",
      "[24 25 26 27 28 29 30]\n",
      "[1515, 6123, 14009, 15543, 7135, 1300, 112]\n",
      "centroid:  1496.5467783195224\n",
      "-----------\n",
      "Canais dos picos\n",
      "[ 7 20 31 37]\n",
      "pkNdx: 1\n",
      "[17 18 19 20 21 22 23]\n",
      "[734, 3080, 11015, 19190, 13795, 3657, 562]\n",
      "centroid:  1320.0656890819287\n",
      "-----------\n",
      "Canais dos picos\n",
      "[19 26 45]\n",
      "pkNdx: 0\n",
      "[16 17 18 19 20 21 22]\n",
      "[935, 3538, 10343, 11220, 3914, 830, 566]\n",
      "centroid:  918.5868053340139\n",
      "-----------\n",
      "Canais dos picos\n",
      "[19]\n",
      "pkNdx: 0\n",
      "[16 17 18 19 20 21 22]\n",
      "[760, 1095, 3409, 6893, 4262, 1256, 734]\n",
      "centroid:  749.0595904177304\n",
      "-----------\n",
      "Canais dos picos\n",
      "[ 9 30]\n",
      "pkNdx: 1\n",
      "[27 28 29 30 31 32 33]\n",
      "[1307, 1262, 1334, 1398, 1279, 1202, 1223]\n",
      "centroid:  384.952581898945\n",
      "-----------\n",
      "Canais dos picos\n",
      "[ 7 12 23 35]\n",
      "pkNdx: 1\n",
      "[ 9 10 11 12 13 14 15]\n",
      "[2053, 2031, 2102, 2186, 2084, 2017, 2053]\n",
      "centroid:  261.9968332644913\n",
      "[          nan 1496.54677832 1320.06568908  918.58680533  749.05959042\n",
      "  384.9525819   261.99683326]\n",
      "*************************\n",
      " Espectro  15\n",
      "-----------\n",
      "Canais dos picos\n",
      "[31]\n",
      "pkNdx: 0\n",
      "[28 29 30 31 32 33 34]\n",
      "[31, 67, 115, 147, 119, 49, 19]\n",
      "centroid:  3070.8756855575866\n",
      "-----------\n",
      "Canais dos picos\n",
      "[15 26]\n",
      "pkNdx: 1\n",
      "[23 24 25 26 27 28 29]\n",
      "[422, 1925, 6857, 14084, 13265, 5358, 857]\n",
      "centroid:  1496.3408857089412\n",
      "-----------\n",
      "Canais dos picos\n",
      "[ 4 11 20]\n",
      "pkNdx: 2\n",
      "[17 18 19 20 21 22 23]\n",
      "[894, 3764, 12059, 17822, 10792, 2537, 352]\n",
      "centroid:  1319.889112401493\n",
      "-----------\n",
      "Canais dos picos\n",
      "[18 27 45]\n",
      "pkNdx: 0\n",
      "[15 16 17 18 19 20 21]\n",
      "[628, 1128, 4630, 11261, 10010, 3035, 693]\n",
      "centroid:  918.2991556476023\n",
      "-----------\n",
      "Canais dos picos\n",
      "[ 6  9 19 23 30]\n",
      "pkNdx: 2\n",
      "[16 17 18 19 20 21 22]\n",
      "[658, 1022, 2586, 3830, 2149, 865, 617]\n",
      "centroid:  748.9254711349877\n",
      "-----------\n",
      "Canais dos picos\n",
      "[ 1 30]\n",
      "pkNdx: 1\n",
      "[27 28 29 30 31 32 33]\n",
      "[1140, 1188, 1250, 1263, 1155, 1181, 1171]\n",
      "centroid:  384.99808337326306\n",
      "-----------\n",
      "Canais dos picos\n",
      "[10 16 26 40]\n",
      "pkNdx: 0\n",
      "[ 7  8  9 10 11 12 13]\n",
      "[1852, 1899, 1912, 1950, 1949, 1944, 1928]\n",
      "centroid:  260.0264254875689\n",
      "[3070.87568556 1496.34088571 1319.8891124   918.29915565  748.92547113\n",
      "  384.99808337  260.02642549]\n",
      "*************************\n",
      " Espectro  16\n",
      "-----------\n",
      "Canais dos picos\n",
      "[31]\n",
      "pkNdx: 0\n",
      "[28 29 30 31 32 33 34]\n",
      "[84, 196, 370, 489, 482, 260, 73]\n",
      "centroid:  3071.10593654043\n",
      "-----------\n",
      "Canais dos picos\n",
      "[13 27]\n",
      "pkNdx: 1\n",
      "[24 25 26 27 28 29 30]\n",
      "[1362, 5453, 13669, 15744, 7561, 1460, 123]\n",
      "centroid:  1496.6074451203385\n",
      "-----------\n",
      "Canais dos picos\n",
      "[20 33 38]\n",
      "pkNdx: 0\n",
      "[17 18 19 20 21 22 23]\n",
      "[673, 2860, 10265, 19048, 14075, 4144, 561]\n",
      "centroid:  1320.1170340526091\n",
      "-----------\n",
      "Canais dos picos\n",
      "[ 2 11 19 27 45]\n",
      "pkNdx: 2\n",
      "[16 17 18 19 20 21 22]\n",
      "[920, 3635, 11114, 12430, 4563, 939, 582]\n",
      "centroid:  918.6209519351725\n",
      "-----------\n",
      "Canais dos picos\n",
      "[ 6 11 30]\n",
      "pkNdx: 2\n",
      "[27 28 29 30 31 32 33]\n",
      "[657, 638, 840, 908, 853, 676, 680]\n",
      "centroid:  760.0300837776085\n",
      "-----------\n",
      "Canais dos picos\n",
      "[ 9 30]\n",
      "pkNdx: 1\n",
      "[27 28 29 30 31 32 33]\n",
      "[1229, 1270, 1315, 1397, 1279, 1160, 1176]\n",
      "centroid:  384.95297983231364\n",
      "-----------\n",
      "Canais dos picos\n",
      "[ 2 14 23 35]\n",
      "pkNdx: 2\n",
      "[20 21 22 23 24 25 26]\n",
      "[1865, 1869, 1989, 2575, 2573, 2040, 1842]\n",
      "centroid:  273.0580898800244\n",
      "[3071.10593654 1496.60744512 1320.11703405  918.62095194  760.03008378\n",
      "  384.95297983  273.05808988]\n",
      "*************************\n",
      " Espectro  17\n",
      "-----------\n",
      "Canais dos picos\n",
      "[17]\n",
      "pkNdx: 0\n",
      "[14 15 16 17 18 19 20]\n",
      "[15, 23, 52, 63, 50, 13, 5]\n",
      "centroid:  3056.764705882353\n",
      "-----------\n",
      "Canais dos picos\n",
      "[13 53]\n",
      "pkNdx: 0\n",
      "[10 11 12 13 14 15 16]\n",
      "[401, 2212, 7754, 15094, 12631, 4255, 572]\n",
      "centroid:  1483.2207879959924\n",
      "-----------\n",
      "Canais dos picos\n",
      "[ 7 27 37 39 43]\n",
      "pkNdx: 0\n",
      "[ 4  5  6  7  8  9 10]\n",
      "[842, 3866, 12342, 18107, 10558, 2293, 339]\n",
      "centroid:  1306.866816968995\n",
      "-----------\n",
      "Canais dos picos\n",
      "[ 6 27 32]\n",
      "pkNdx: 0\n",
      "[3 4 5 6 7 8 9]\n",
      "[770, 3142, 9857, 11858, 4345, 935, 532]\n",
      "centroid:  905.6615668437291\n",
      "-----------\n",
      "Canais dos picos\n",
      "[ 6 17 28]\n",
      "pkNdx: 0\n",
      "[3 4 5 6 7 8 9]\n",
      "[605, 696, 1243, 2332, 1964, 856, 612]\n",
      "centroid:  736.1278285989408\n",
      "-----------\n",
      "Canais dos picos\n",
      "[ 8 17 25]\n",
      "pkNdx: 0\n",
      "[ 5  6  7  8  9 10 11]\n",
      "[1122, 1374, 2764, 3174, 1530, 1077, 1145]\n",
      "centroid:  362.85565402921384\n",
      "-----------\n",
      "Canais dos picos\n",
      "[22 41]\n",
      "pkNdx: 0\n",
      "[19 20 21 22 23 24 25]\n",
      "[1547, 1526, 1604, 1801, 1708, 1640, 1550]\n",
      "centroid:  272.0299753867792\n",
      "[3056.76470588 1483.220788   1306.86681697  905.66156684  736.1278286\n",
      "  362.85565403  272.02997539]\n",
      "*************************\n",
      " Espectro  18\n",
      "-----------\n",
      "Canais dos picos\n",
      "[19]\n",
      "pkNdx: 0\n",
      "[16 17 18 19 20 21 22]\n",
      "[338, 708, 1188, 1512, 1089, 456, 113]\n",
      "centroid:  3058.7635085122133\n",
      "-----------\n",
      "Canais dos picos\n",
      "[14 29 54]\n",
      "pkNdx: 0\n",
      "[11 12 13 14 15 16 17]\n",
      "[494, 2236, 8147, 16366, 14878, 5593, 785]\n",
      "centroid:  1484.295222581909\n",
      "-----------\n",
      "Canais dos picos\n",
      "[8]\n",
      "pkNdx: 0\n",
      "[ 5  6  7  8  9 10 11]\n",
      "[1094, 4607, 14037, 19793, 11634, 2625, 425]\n",
      "centroid:  1307.8455409019643\n",
      "-----------\n",
      "Canais dos picos\n",
      "[ 6 14 33 45]\n",
      "pkNdx: 0\n",
      "[3 4 5 6 7 8 9]\n",
      "[781, 1473, 5680, 13503, 11468, 3426, 848]\n",
      "centroid:  906.2661448667259\n",
      "-----------\n",
      "Canais dos picos\n",
      "[ 7 18 23 29]\n",
      "pkNdx: 0\n",
      "[ 4  5  6  7  8  9 10]\n",
      "[938, 1739, 6089, 9581, 4890, 1335, 931]\n",
      "centroid:  736.9204799435361\n",
      "-----------\n",
      "Canais dos picos\n",
      "[18 26]\n",
      "pkNdx: 1\n",
      "[23 24 25 26 27 28 29]\n",
      "[1643, 1540, 1722, 1862, 1736, 1617, 1514]\n",
      "centroid:  380.98117586384734\n",
      "-----------\n",
      "Canais dos picos\n",
      "[23 40]\n",
      "pkNdx: 0\n",
      "[20 21 22 23 24 25 26]\n",
      "[2388, 2473, 2500, 2552, 2452, 2344, 2378]\n",
      "centroid:  272.9803359278984\n",
      "[3058.76350851 1484.29522258 1307.8455409   906.26614487  736.92047994\n",
      "  380.98117586  272.98033593]\n",
      "*************************\n",
      " Espectro  19\n",
      "-----------\n",
      "Canais dos picos\n",
      "[]\n",
      "-----------\n",
      "Canais dos picos\n",
      "[25]\n",
      "pkNdx: 0\n",
      "[22 23 24 25 26 27 28]\n",
      "[546, 2362, 8230, 14707, 12057, 4048, 538]\n",
      "centroid:  1495.1688712106948\n",
      "-----------\n",
      "Canais dos picos\n",
      "[19 26 36]\n",
      "pkNdx: 0\n",
      "[16 17 18 19 20 21 22]\n",
      "[1113, 4996, 13812, 17261, 8695, 1683, 279]\n",
      "centroid:  1318.7022303977926\n",
      "-----------\n",
      "Canais dos picos\n",
      "[ 6 17 29 44]\n",
      "pkNdx: 1\n",
      "[14 15 16 17 18 19 20]\n",
      "[607, 1391, 5394, 10974, 7534, 2077, 553]\n",
      "centroid:  917.1174202593761\n",
      "-----------\n",
      "Canais dos picos\n",
      "[ 8 13 18 23]\n",
      "pkNdx: 2\n",
      "[15 16 17 18 19 20 21]\n",
      "[621, 805, 1730, 1964, 1001, 594, 546]\n",
      "centroid:  747.8104944222559\n",
      "-----------\n",
      "Canais dos picos\n",
      "[28]\n",
      "pkNdx: 0\n",
      "[25 26 27 28 29 30 31]\n",
      "[1028, 1001, 1062, 1084, 1070, 1001, 953]\n",
      "centroid:  382.96985692457287\n",
      "-----------\n",
      "Canais dos picos\n",
      "[ 9 18 27]\n",
      "pkNdx: 0\n",
      "[ 6  7  8  9 10 11 12]\n",
      "[1622, 1668, 1731, 1742, 1719, 1692, 1560]\n",
      "centroid:  258.98721663541846\n",
      "[          nan 1495.16887121 1318.7022304   917.11742026  747.81049442\n",
      "  382.96985692  258.98721664]\n",
      "*************************\n",
      " Espectro  20\n",
      "-----------\n",
      "Canais dos picos\n",
      "[]\n",
      "-----------\n",
      "Canais dos picos\n",
      "[29]\n",
      "pkNdx: 0\n",
      "[26 27 28 29 30 31 32]\n",
      "[386, 1659, 6257, 12306, 11107, 4193, 577]\n",
      "centroid:  1499.2875428258187\n",
      "-----------\n",
      "Canais dos picos\n",
      "[23 29 35 47]\n",
      "pkNdx: 0\n",
      "[20 21 22 23 24 25 26]\n",
      "[800, 3579, 10848, 15134, 8616, 1916, 239]\n",
      "centroid:  1322.8239570164349\n",
      "-----------\n",
      "Canais dos picos\n",
      "[ 6 15 21 29 36]\n",
      "pkNdx: 2\n",
      "[18 19 20 21 22 23 24]\n",
      "[501, 988, 4342, 10098, 8016, 2132, 521]\n",
      "centroid:  921.2264080006015\n",
      "-----------\n",
      "Canais dos picos\n",
      "[ 4  9 22]\n",
      "pkNdx: 2\n",
      "[19 20 21 22 23 24 25]\n",
      "[574, 934, 2513, 3559, 1736, 615, 558]\n",
      "centroid:  751.8605205453332\n",
      "-----------\n",
      "Canais dos picos\n",
      "[ 3 12]\n",
      "pkNdx: 1\n",
      "[ 9 10 11 12 13 14 15]\n",
      "[1102, 1123, 1069, 1139, 1108, 1125, 1046]\n",
      "centroid:  366.9837914937759\n",
      "-----------\n",
      "Canais dos picos\n",
      "[16]\n",
      "pkNdx: 0\n",
      "[13 14 15 16 17 18 19]\n",
      "[1757, 1730, 1713, 1800, 1636, 1614, 1657]\n",
      "centroid:  265.9488536155203\n",
      "[          nan 1499.28754283 1322.82395702  921.226408    751.86052055\n",
      "  366.98379149  265.94885362]\n",
      "*************************\n",
      " Espectro  21\n",
      "-----------\n",
      "Canais dos picos\n",
      "[]\n",
      "-----------\n",
      "Canais dos picos\n",
      "[ 7 34]\n",
      "pkNdx: 1\n",
      "[31 32 33 34 35 36 37]\n",
      "[1744, 6910, 16104, 18799, 10628, 2998, 475]\n",
      "centroid:  1503.703302230393\n",
      "-----------\n",
      "Canais dos picos\n",
      "[ 4 11 27 37 40]\n",
      "pkNdx: 2\n",
      "[24 25 26 27 28 29 30]\n",
      "[891, 3813, 12904, 22194, 17609, 6646, 1272]\n",
      "centroid:  1327.1762463836887\n",
      "-----------\n",
      "Canais dos picos\n",
      "[17 26 34]\n",
      "pkNdx: 1\n",
      "[23 24 25 26 27 28 29]\n",
      "[1191, 3847, 9527, 9809, 4415, 1310, 765]\n",
      "centroid:  925.6285640228098\n",
      "-----------\n",
      "Canais dos picos\n",
      "[26]\n",
      "pkNdx: 0\n",
      "[23 24 25 26 27 28 29]\n",
      "[914, 1585, 4882, 7965, 5439, 1835, 995]\n",
      "centroid:  756.0550497565107\n",
      "-----------\n",
      "Canais dos picos\n",
      "[ 7 17 27]\n",
      "pkNdx: 2\n",
      "[24 25 26 27 28 29 30]\n",
      "[1603, 1617, 2268, 2899, 2222, 1697, 1533]\n",
      "centroid:  381.9930630825927\n",
      "-----------\n",
      "Canais dos picos\n",
      "[12 19 35]\n",
      "pkNdx: 1\n",
      "[16 17 18 19 20 21 22]\n",
      "[2587, 2513, 2478, 2591, 2556, 2493, 2459]\n",
      "centroid:  268.98042654296546\n",
      "[          nan 1503.70330223 1327.17624638  925.62856402  756.05504976\n",
      "  381.99306308  268.98042654]\n"
     ]
    }
   ],
   "source": [
    "zpl = []\n",
    "for isp, sp in enumerate(all_specs):\n",
    "    print('*************************\\n','Espectro ', isp )\n",
    "    ctrds = np.zeros(7)\n",
    "    for iraCh, raCh in enumerate(Expect_peak_chans):\n",
    "        print('-----------')\n",
    "        raSp = sp[raCh[0][0]:raCh[0][1]]\n",
    "        peaks = find_peaks(raSp, height=49.0, width=[2,15])\n",
    "        print('Canais dos picos')\n",
    "        print (peaks[0])\n",
    "        proms = peaks[1]['prominences']\n",
    "        if len(proms):\n",
    "            pkNdx = np.argmax(peaks[1]['prominences'])\n",
    "            print('pkNdx:', pkNdx)\n",
    "            goodPk = peaks[0][pkNdx]\n",
    "            print(np.arange(goodPk-3,goodPk+4))\n",
    "            print(raSp[goodPk-3:goodPk+4])\n",
    "            centroid = np.average(np.arange(goodPk-3,goodPk+4), weights=raSp[goodPk-3:goodPk+4]) + raCh[0][0]\n",
    "            print('centroid: ', centroid)\n",
    "        else:\n",
    "            centroid = None\n",
    "        ctrds[iraCh] = centroid\n",
    "    print(ctrds)\n",
    "    mask = ~np.isnan(ctrds)\n",
    "    # print(mask)\n",
    "    # print(ctrds[mask])\n",
    "    # print(engys[mask])\n",
    "    \n",
    "    # SE houver 3 ou mais picos validos, faz o ajuste\n",
    "    if len(ctrds[mask]) > 2:\n",
    "        zp = np.polyfit(ctrds[mask], engys[mask], 2)\n",
    "        zpl.append(zp)\n",
    "    else:\n",
    "        print('*** Impossivel ajustar ***')\n"
   ]
  },
  {
   "cell_type": "code",
   "execution_count": 45,
   "metadata": {},
   "outputs": [
    {
     "data": {
      "text/plain": [
       "[array([-1.78191638e-05,  9.10463881e-01, -1.84325511e+01]),\n",
       " array([-6.44282874e-06,  8.90735645e-01, -1.47778943e+01]),\n",
       " array([ 6.21608898e-06,  8.69482605e-01, -9.27221295e+00]),\n",
       " array([ 5.04321063e-08,  9.02421283e-01, -2.19083429e+01]),\n",
       " array([ 3.72059768e-08,  8.98247426e-01, -7.33773329e+00]),\n",
       " array([-8.71999517e-05,  1.03744186e+00, -5.89046110e+01]),\n",
       " array([-1.65438808e-05,  9.39992604e-01, -2.68987930e+01]),\n",
       " array([-1.34640243e-05,  9.32167731e-01, -2.13053255e+01]),\n",
       " array([-1.59971339e-05,  9.39284843e-01, -2.67906736e+01]),\n",
       " array([-1.46821877e-06,  9.05658452e-01, -8.34984969e+00]),\n",
       " array([-1.57048232e-05,  9.38009795e-01, -3.64830792e+01]),\n",
       " array([1.85465478e-05, 8.59848466e-01, 5.00015589e+00]),\n",
       " array([ 1.00123794e-05,  8.83683450e-01, -1.13121151e+01]),\n",
       " array([ 1.37602810e-06,  8.97520174e-01, -1.47242890e+01]),\n",
       " array([-9.12021375e-07,  9.07907554e-01, -2.52350308e+01]),\n",
       " array([-2.33577119e-06,  9.12932713e-01, -1.49884366e+01]),\n",
       " array([-5.10499429e-06,  9.24178362e-01, -2.53894106e+01]),\n",
       " array([ 1.20483657e-05,  8.79241197e-01, -7.85214265e+00]),\n",
       " array([ 1.38790285e-05,  8.70266329e-01, -3.03324713e+00]),\n",
       " array([ 1.19698835e-05,  8.76587938e-01, -1.19255957e+01])]"
      ]
     },
     "execution_count": 45,
     "metadata": {},
     "output_type": "execute_result"
    }
   ],
   "source": [
    "zpl"
   ]
  },
  {
   "cell_type": "code",
   "execution_count": 38,
   "metadata": {},
   "outputs": [
    {
     "name": "stdout",
     "output_type": "stream",
     "text": [
      "[          nan 1503.70330223 1327.17624638  925.62856402  756.05504976\n",
      "  381.99306308  268.98042654]\n"
     ]
    }
   ],
   "source": [
    "print(ctrds)"
   ]
  },
  {
   "cell_type": "code",
   "execution_count": 41,
   "metadata": {},
   "outputs": [
    {
     "data": {
      "text/plain": [
       "array([ True,  True,  True,  True,  True,  True,  True])"
      ]
     },
     "execution_count": 41,
     "metadata": {},
     "output_type": "execute_result"
    }
   ],
   "source": [
    "~np.isnan(engys)"
   ]
  },
  {
   "cell_type": "code",
   "execution_count": 42,
   "metadata": {},
   "outputs": [
    {
     "data": {
      "text/plain": [
       "array([False,  True,  True,  True,  True,  True,  True])"
      ]
     },
     "execution_count": 42,
     "metadata": {},
     "output_type": "execute_result"
    }
   ],
   "source": [
    "~np.isnan(ctrds)"
   ]
  },
  {
   "cell_type": "code",
   "execution_count": 43,
   "metadata": {},
   "outputs": [
    {
     "data": {
      "text/plain": [
       "array([          nan, 1503.70330223, 1327.17624638,  925.62856402,\n",
       "        756.05504976,  381.99306308,  268.98042654])"
      ]
     },
     "execution_count": 43,
     "metadata": {},
     "output_type": "execute_result"
    }
   ],
   "source": [
    "ctrds"
   ]
  },
  {
   "cell_type": "code",
   "execution_count": null,
   "metadata": {},
   "outputs": [],
   "source": [
    "# 2019-jun-25 Aqui continuarei a desenvolver calibracao automahtica em energia"
   ]
  },
  {
   "cell_type": "code",
   "execution_count": null,
   "metadata": {},
   "outputs": [],
   "source": []
  },
  {
   "cell_type": "code",
   "execution_count": null,
   "metadata": {},
   "outputs": [],
   "source": []
  },
  {
   "cell_type": "code",
   "execution_count": 21,
   "metadata": {},
   "outputs": [
    {
     "data": {
      "text/plain": [
       "0"
      ]
     },
     "execution_count": 21,
     "metadata": {},
     "output_type": "execute_result"
    }
   ],
   "source": [
    "np.random.RandomState()\n",
    "spec.readchnsp( fb.lp[np.random.randint(1000)])"
   ]
  },
  {
   "cell_type": "code",
   "execution_count": 22,
   "metadata": {},
   "outputs": [],
   "source": [
    "bo2 = figure(\n",
    "   plot_width =default_plot_width,\n",
    "   plot_height=default_plot_height,\n",
    "   tools=\"pan,box_zoom,reset,save\",\n",
    "   y_axis_type=\"log\",\n",
    "   y_range=[1.0, 10**5], title=\"Plot #2: A random spectra (surprise!!!!!!!\",\n",
    "   x_axis_label='channels', y_axis_label='counts'\n",
    ")\n",
    "bo2.circle(xs, spec.spCounts, legend=\"counts\", color=\"lightblue\",size=4)\n",
    "bo2.line(xs, spec.spCounts, color=\"red\")\n",
    "show(bo2)"
   ]
  },
  {
   "cell_type": "code",
   "execution_count": 23,
   "metadata": {},
   "outputs": [],
   "source": [
    "fouri = np.fft.fft(spec.spCounts)"
   ]
  },
  {
   "cell_type": "code",
   "execution_count": 24,
   "metadata": {},
   "outputs": [
    {
     "data": {
      "text/plain": [
       "array([82627.            +0.j        , 51016.94600883-36359.50864847j,\n",
       "       29705.81827877-36899.20334609j, ...,\n",
       "       19743.93659789+34609.80563427j, 29705.81827877+36899.20334609j,\n",
       "       51016.94600883+36359.50864847j])"
      ]
     },
     "execution_count": 24,
     "metadata": {},
     "output_type": "execute_result"
    }
   ],
   "source": [
    "fouri"
   ]
  },
  {
   "cell_type": "code",
   "execution_count": 25,
   "metadata": {},
   "outputs": [],
   "source": [
    "bo3 = figure(\n",
    "   plot_width =default_plot_width,\n",
    "   plot_height=default_plot_height,\n",
    "   tools=\"pan,box_zoom,reset,save\",\n",
    "   y_axis_type=\"log\",\n",
    "   y_range=[1.0, 10**5], title=\"Plot #2: A random spectra (surprise!!!!!!!\",\n",
    "   x_axis_label='channels', y_axis_label='counts'\n",
    ")\n",
    "bo3.circle(xs, fouri.real, legend=\"counts\", color=\"lightblue\",size=4)\n",
    "bo3.line(xs, fouri.real, color=\"red\")\n",
    "show(bo3)"
   ]
  },
  {
   "cell_type": "code",
   "execution_count": 26,
   "metadata": {},
   "outputs": [],
   "source": [
    "# Ideia: fazer np.correlation entre 1 espectros de referencia e transladar o outro"
   ]
  },
  {
   "cell_type": "code",
   "execution_count": null,
   "metadata": {},
   "outputs": [],
   "source": []
  }
 ],
 "metadata": {
  "kernelspec": {
   "display_name": "Python 3",
   "language": "python",
   "name": "python3"
  },
  "language_info": {
   "codemirror_mode": {
    "name": "ipython",
    "version": 3
   },
   "file_extension": ".py",
   "mimetype": "text/x-python",
   "name": "python",
   "nbconvert_exporter": "python",
   "pygments_lexer": "ipython3",
   "version": "3.7.4"
  }
 },
 "nbformat": 4,
 "nbformat_minor": 4
}
