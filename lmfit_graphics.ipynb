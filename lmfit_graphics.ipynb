{
 "cells": [
  {
   "cell_type": "code",
   "execution_count": null,
   "metadata": {
    "collapsed": true
   },
   "outputs": [],
   "source": []
  },
  {
   "cell_type": "code",
   "execution_count": null,
   "outputs": [],
   "source": [
    "pars = Parameters()\n",
    "\n",
    "# line_mod = LinearModel(prefix='line_')\n",
    "# pars.update(line_mod.make_params())\n",
    "# pars['line_intercept'].set(value=200, min=50, max=400)\n",
    "# pars['line_slope'].set(value=0, min=-0.001, max=0.001)\n",
    "\n",
    "# exp_mod = ExponentialModel(prefix='exp_')\n",
    "# pars = exp_mod.guess(y, x=x)\n",
    "\n",
    "gauss1 = GaussianModel(prefix='g1_')\n",
    "pars.update(gauss1.make_params())\n",
    "pars['g1_center'].set(value=c1, min=c1 - 2, max=c1 + 2)\n",
    "pars['g1_sigma'].set(value=s1, min=0.5, max=10)\n",
    "pars['g1_amplitude'].set(value=a1, min=10)\n",
    "\n",
    "# mod = gauss1 + gauss2 + line_mod - step_mod\n",
    "# mod = gauss1 + gauss2 - step_mod\n",
    "mod = gauss1\n",
    "\n",
    "init = mod.eval(pars, x=x)\n",
    "out = mod.fit(y, pars, x=x)\n",
    "\n",
    "print(out.fit_report(min_correl=0.1))\n",
    "\n",
    "fig, axes = plt.subplots(1, 2, figsize=(20, 16))\n",
    "axes[0].set_yscale('log')\n",
    "axes[1].set_yscale('log')\n",
    "axes[0].set_ylim([10, 2.5e6])\n",
    "axes[1].set_ylim([10, 2.5e6])\n",
    "\n",
    "axes[0].plot(x, y, 'b')\n",
    "axes[0].plot(x, init, 'k--', label='initial fit')\n",
    "axes[0].plot(x, out.best_fit, 'r-', label='best fit')\n",
    "axes[0].legend(loc='best')\n",
    "\n",
    "comps = out.eval_components(x=x)\n",
    "axes[1].plot(x, y, 'b')\n",
    "axes[1].plot(x, comps['g1_'], 'g--', label='Gaussian component 1')\n",
    "# axes[1].plot(x, comps['g2_'], 'm--', label='Gaussian component 2')\n",
    "# axes[1].plot(x, comps['line_'], 'k--', label='Linear component')\n",
    "# axes[1].plot(x, -comps['step_'], 'r--', label='Step component')\n",
    "# axes[1].plot(x, comps['exp_'], 'k--', label='Exponential component')\n",
    "axes[1].legend(loc='best')\n",
    "\n",
    "# plt.show()\n",
    "# <end examples/doc_builtinmodels_nistgauss.py>"
   ],
   "metadata": {
    "collapsed": false
   }
  },
  {
   "cell_type": "code",
   "execution_count": null,
   "outputs": [],
   "source": [
    "pars = Parameters()\n",
    "\n",
    "# line_mod = LinearModel(prefix='line_')\n",
    "# pars.update(line_mod.make_params())\n",
    "# pars['line_intercept'].set(value=200, min=50, max=400)\n",
    "# pars['line_slope'].set(value=0, min=-0.001, max=0.001)\n",
    "\n",
    "# exp_mod = ExponentialModel(prefix='exp_')\n",
    "# pars = exp_mod.guess(y, x=x)\n",
    "\n",
    "step_mod = StepModel(form='erf', prefix='step_')\n",
    "pars.update(step_mod.make_params())\n",
    "pars['step_center'].set(value=310, min=305, max=315)\n",
    "# pars['step_sigma'].set(expr='g1_sigma')\n",
    "pars['step_sigma'].set(value=sste)\n",
    "pars['step_amplitude'].set(value=70)\n",
    "\n",
    "gauss1 = GaussianModel(prefix='g1_')\n",
    "pars.update(gauss1.make_params())\n",
    "pars['g1_center'].set(value=c1, min=c1-2, max=c1+2)\n",
    "pars['g1_sigma'].set(value=s1, min=0.5, max=10)\n",
    "pars['g1_amplitude'].set(value=a1, min=10)\n",
    "\n",
    "gauss2 = GaussianModel(prefix='g2_')\n",
    "pars.update(gauss2.make_params())\n",
    "pars['g2_center'].set(value=c2, min=c2-2, max=c2+2)\n",
    "# pars['g2_sigma'].set(expr='g1_sigma')\n",
    "pars['g2_sigma'].set(s2)\n",
    "pars['g2_amplitude'].set(value=a2, min=10)\n",
    "\n",
    "# mod = gauss1 + gauss2 + line_mod - step_mod\n",
    "mod = gauss1 + gauss2 - step_mod\n",
    "\n",
    "init = mod.eval(pars, x=x)\n",
    "out = mod.fit(y, pars, x=x)\n",
    "\n",
    "print(out.fit_report(min_correl=0.1))\n",
    "\n",
    "fig, axes = plt.subplots(1, 2, figsize=(20, 16))\n",
    "axes[0].set_yscale('log')\n",
    "axes[1].set_yscale('log')\n",
    "axes[0].set_ylim([10, 2.5e6])\n",
    "axes[1].set_ylim([10, 2.5e6])\n",
    "\n",
    "axes[0].plot(x, y, 'b')\n",
    "axes[0].plot(x, init, 'k--', label='initial fit')\n",
    "axes[0].plot(x, out.best_fit, 'r-', label='best fit')\n",
    "axes[0].legend(loc='best')\n",
    "\n",
    "comps = out.eval_components(x=x)\n",
    "axes[1].plot(x, y, 'b')\n",
    "axes[1].plot(x, comps['g1_'], 'g--', label='Gaussian component 1')\n",
    "axes[1].plot(x, comps['g2_'], 'm--', label='Gaussian component 2')\n",
    "# axes[1].plot(x, comps['line_'], 'k--', label='Linear component')\n",
    "axes[1].plot(x, -comps['step_'], 'r--', label='Step component')\n",
    "# axes[1].plot(x, comps['exp_'], 'k--', label='Exponential component')\n",
    "axes[1].legend(loc='best')\n",
    "\n",
    "# plt.show()\n",
    "# <end examples/doc_builtinmodels_nistgauss.py>"
   ],
   "metadata": {
    "collapsed": false
   }
  },
  {
   "cell_type": "code",
   "execution_count": null,
   "outputs": [],
   "source": [
    "plot_widths = go.FigureWidget();\n",
    "plot_widths.add_trace(\n",
    "    go.Scatter(x=good_peaks,\n",
    "               y=good_fwhms,\n",
    "               error_y=dict(\n",
    "                   color='orange',width=3.0,\n",
    "                   type='data', # value of error bar given in data coordinates\n",
    "                   array=1.0/np.sqrt(net_promns[is_good_fwhms]),\n",
    "                   visible=True),\n",
    "               name='good_fwhms',\n",
    "               mode='markers',\n",
    "               line=dict(color='blue',width=3.0)));\n",
    "plot_widths.add_trace(\n",
    "    go.Scatter(x=x_fwhm_fit,\n",
    "               y=y_fwhm_fit,\n",
    "               name='FWHMs fit',\n",
    "               line=dict(color='green',width=2.0)));\n",
    "\n",
    "plot_widths.update_layout(title_text=\"Peaks widths\")\n",
    "plot_widths.write_html('plot_widths.html', auto_open=True)"
   ],
   "metadata": {
    "collapsed": false
   }
  },
  {
   "cell_type": "code",
   "execution_count": null,
   "outputs": [],
   "source": [
    "fig1, ax1 = plt.subplots(figsize=(16, 12))\n",
    "ax1.set_yscale('log')\n",
    "ax1.plot(x,y)\n",
    "# ax1.plot(cntarr.x_s[700:760], cntarr.y0s[700:760])"
   ],
   "metadata": {
    "collapsed": false
   }
  },
  {
   "cell_type": "code",
   "execution_count": null,
   "outputs": [],
   "source": [
    "pars = Parameters()\n",
    "\n",
    "gauss1 = GaussianModel(prefix='g1_')\n",
    "pars.update(gauss1.make_params())\n",
    "pars['g1_center'].set(value=420, min=416, max=425)\n",
    "pars['g1_sigma'].set(value=1.0, min=0.5, max=2)\n",
    "pars['g1_amplitude'].set(value=2e6, min=10)\n",
    "\n",
    "gauss2 = GaussianModel(prefix='g2_')\n",
    "pars.update(gauss2.make_params())\n",
    "pars['g2_center'].set(value=412, min=400, max=416)\n",
    "pars['g2_sigma'].set(expr='g1_sigma')\n",
    "pars['g2_amplitude'].set(value=4e4, min=10)\n",
    "\n",
    "mod = gauss1 + gauss2\n",
    "\n",
    "init = mod.eval(pars, x=x)\n",
    "out = mod.fit(y, pars, x=x)\n",
    "\n",
    "print(out.fit_report(min_correl=0.1))\n",
    "\n",
    "fig, axes = plt.subplots(1, 2, figsize=(20, 16))\n",
    "axes[0].set_yscale('log')\n",
    "axes[1].set_yscale('log')\n",
    "axes[0].set_ylim([10, 2e6])\n",
    "axes[1].set_ylim([10, 2e6])\n",
    "\n",
    "axes[0].plot(x, y, 'b')\n",
    "axes[0].plot(x, init, 'k--', label='initial fit')\n",
    "axes[0].plot(x, out.best_fit, 'r-', label='best fit')\n",
    "axes[0].legend(loc='best')\n",
    "\n",
    "comps = out.eval_components(x=x)\n",
    "axes[1].plot(x, y, 'b')\n",
    "axes[1].plot(x, comps['g1_'], 'g--', label='Gaussian component 1')\n",
    "axes[1].plot(x, comps['g2_'], 'm--', label='Gaussian component 2')\n",
    "axes[1].legend(loc='best')\n",
    "\n",
    "# plt.show()\n",
    "# <end examples/doc_builtinmodels_nistgauss.py>\n"
   ],
   "metadata": {
    "collapsed": false
   }
  },
  {
   "cell_type": "code",
   "execution_count": null,
   "outputs": [],
   "source": [],
   "metadata": {
    "collapsed": false
   }
  },
  {
   "cell_type": "code",
   "execution_count": null,
   "outputs": [],
   "source": [
    "# Agora usando algoritmo SkewedGaussianModel"
   ],
   "metadata": {
    "collapsed": false
   }
  },
  {
   "cell_type": "code",
   "execution_count": null,
   "outputs": [],
   "source": [
    "pars = Parameters()\n",
    "\n",
    "gauss1 = SkewedGaussianModel(prefix='g1_')\n",
    "pars.update(gauss1.make_params())\n",
    "pars['g1_center'].set(value=420, min=416, max=425)\n",
    "pars['g1_sigma'].set(value=1.0, min=0.5, max=2)\n",
    "pars['g1_amplitude'].set(value=2e6, min=10)\n",
    "pars['g1_gamma'].set(value=1.0)\n",
    "\n",
    "mod = gauss1\n",
    "\n",
    "init = mod.eval(pars, x=x)\n",
    "out = mod.fit(y, pars, x=x)\n",
    "\n",
    "print(out.fit_report(min_correl=0.1))\n",
    "\n",
    "fig, axes = plt.subplots(1, 2, figsize=(20, 16))\n",
    "axes[0].set_yscale('log')\n",
    "axes[1].set_yscale('log')\n",
    "axes[0].set_ylim([10, 2e6])\n",
    "axes[1].set_ylim([10, 2e6])\n",
    "\n",
    "axes[0].plot(x, y, 'b')\n",
    "axes[0].plot(x, init, 'k--', label='initial fit')\n",
    "axes[0].plot(x, out.best_fit, 'r-', label='best fit')\n",
    "axes[0].legend(loc='best')\n",
    "\n",
    "comps = out.eval_components(x=x)\n",
    "axes[1].plot(x, y, 'b')\n",
    "axes[1].plot(x, comps['g1_'], 'g--', label='Skewed Gaussian component 1')\n",
    "axes[1].legend(loc='best')\n",
    "\n",
    "# plt.show()\n",
    "# <end examples/doc_builtinmodels_nistgauss.py>"
   ],
   "metadata": {
    "collapsed": false
   }
  },
  {
   "cell_type": "code",
   "execution_count": null,
   "outputs": [],
   "source": [],
   "metadata": {
    "collapsed": false
   }
  },
  {
   "cell_type": "code",
   "execution_count": null,
   "outputs": [],
   "source": [
    "fig, axes = plt.subplots(1, 2, figsize=(20, 16))\n",
    "axes[0].set_yscale('log')\n",
    "axes[1].set_yscale('log')\n",
    "axes[0].set_ylim([10, 2e6])\n",
    "axes[1].set_ylim([10, 2e6])\n",
    "\n",
    "axes[0].plot(x, y, 'b')\n",
    "axes[0].plot(x, init, 'k--', label='initial fit')\n",
    "axes[0].plot(x, out.best_fit, 'r-', label='best fit')\n",
    "axes[0].legend(loc='best')\n",
    "\n",
    "comps = out.eval_components(x=x)\n",
    "axes[1].plot(x, y, 'b')\n",
    "axes[1].plot(x, 'g--', label='Genie2k tailed Gaussian')\n",
    "axes[1].legend(loc='best')\n",
    "\n",
    "# plt.show()\n",
    "# <end examples/doc_builtinmodels_nistgauss.py>rg"
   ],
   "metadata": {
    "collapsed": false
   }
  },
  {
   "cell_type": "code",
   "execution_count": null,
   "outputs": [],
   "source": [],
   "metadata": {
    "collapsed": false
   }
  },
  {
   "cell_type": "code",
   "execution_count": null,
   "outputs": [],
   "source": [
    "fig, axes = plt.subplots(1, 2, figsize=(20, 16))\n",
    "axes[0].set_yscale('log')\n",
    "axes[1].set_yscale('log')\n",
    "axes[0].set_ylim([10, 2e6])\n",
    "axes[1].set_ylim([10, 2e6])\n",
    "\n",
    "axes[0].plot(x, y, 'b')\n",
    "axes[0].plot(x, init, 'k--', label='initial fit')\n",
    "axes[0].plot(x, out.best_fit, 'r-', label='best fit')\n",
    "axes[0].legend(loc='best')\n",
    "\n",
    "comps = out.eval_components(x=x)\n",
    "axes[1].plot(x, y, 'b')\n",
    "axes[1].plot(x, comps['g1_'], 'g--', label='Skewed Gaussian component 1')\n",
    "axes[1].legend(loc='best')\n",
    "\n",
    "# plt.show()\n",
    "# <end examples/doc_builtinmodels_nistgauss.py>"
   ],
   "metadata": {
    "collapsed": false
   }
  },
  {
   "cell_type": "code",
   "execution_count": null,
   "outputs": [],
   "source": [
    "def mycurve(x, amp, cen, sig):\n",
    "    loren = lorentzian(x, amplitude=amp, center=cen, sigma=sig)\n",
    "    gauss = gaussian(x, amplitude=amp, center=cen, sigma=sig)\n",
    "    return log(loren) * gradient(gauss) / gradient(x)"
   ],
   "metadata": {
    "collapsed": false
   }
  },
  {
   "cell_type": "code",
   "execution_count": null,
   "outputs": [],
   "source": [
    "fig1, ax1 = plt.subplots(figsize=(16, 12))\n",
    "ax1.set_yscale('log')\n",
    "ax1.plot(x,mycurve(x,1,1,1))\n",
    "# ax1.plot(cntarr.x_s[700:760], cntarr.y0s[700:760])"
   ],
   "metadata": {
    "collapsed": false
   }
  },
  {
   "cell_type": "code",
   "execution_count": null,
   "outputs": [],
   "source": [],
   "metadata": {
    "collapsed": false
   }
  },
  {
   "cell_type": "code",
   "execution_count": null,
   "outputs": [],
   "source": [],
   "metadata": {
    "collapsed": false
   }
  },
  {
   "cell_type": "code",
   "execution_count": null,
   "outputs": [],
   "source": [
    "fig1, ax1 = plt.subplots(figsize=(16, 12))\n",
    "ax1.set_yscale('log')\n",
    "ax1.plot(x,y)\n",
    "# ax1.plot(cntarr.x_s[700:760], cntarr.y0s[700:760])"
   ],
   "metadata": {
    "collapsed": false
   }
  },
  {
   "cell_type": "code",
   "execution_count": null,
   "outputs": [],
   "source": [
    "script = \"\"\"\n",
    "def mycurve(x, amp, cen, sig):\n",
    "    loren = lorentzian(x, amplitude=amp, center=cen, sigma=sig)\n",
    "    gauss = gaussian(x, amplitude=amp, center=cen, sigma=sig)\n",
    "    return log(loren) * gradient(gauss) / gradient(x)\n",
    "\"\"\""
   ],
   "metadata": {
    "collapsed": false
   }
  },
  {
   "cell_type": "code",
   "execution_count": null,
   "outputs": [],
   "source": [
    "mod = ExpressionModel('mycurve(x, height, mid, wid)', init_script=script,\n",
    "                      independent_vars=['x'])"
   ],
   "metadata": {
    "collapsed": false
   }
  },
  {
   "cell_type": "code",
   "execution_count": null,
   "outputs": [],
   "source": [
    "pars = Parameters()\n",
    "pars.update(mod.make_params())\n",
    "pars['height'].set(value=47720)\n",
    "pars['mid'].set(value=1.0)\n",
    "pars['wid'].set(value=2e6)\n",
    "\n",
    "init = mod.eval(pars, x=x)\n",
    "out = mod.fit(y, pars, x=x)\n",
    "\n",
    "print(out.fit_report(min_correl=0.1))"
   ],
   "metadata": {
    "collapsed": false
   }
  },
  {
   "cell_type": "code",
   "execution_count": null,
   "outputs": [],
   "source": [],
   "metadata": {
    "collapsed": false
   }
  },
  {
   "cell_type": "code",
   "execution_count": null,
   "outputs": [],
   "source": [],
   "metadata": {
    "collapsed": false
   }
  },
  {
   "cell_type": "code",
   "execution_count": null,
   "outputs": [],
   "source": [],
   "metadata": {
    "collapsed": false
   }
  },
  {
   "cell_type": "code",
   "execution_count": null,
   "outputs": [],
   "source": [
    "# 2022-Jun-23 Após resgatar o lmfit acima, prosseguir abaixo:"
   ],
   "metadata": {
    "collapsed": false
   }
  },
  {
   "cell_type": "code",
   "execution_count": null,
   "outputs": [],
   "source": [
    "afbvg aerfbaawer gawer"
   ],
   "metadata": {
    "collapsed": false
   }
  },
  {
   "cell_type": "code",
   "execution_count": null,
   "outputs": [],
   "source": [],
   "metadata": {
    "collapsed": false
   }
  },
  {
   "cell_type": "code",
   "execution_count": null,
   "outputs": [],
   "source": [],
   "metadata": {
    "collapsed": false
   }
  },
  {
   "cell_type": "code",
   "execution_count": null,
   "outputs": [],
   "source": [
    "# 2021-Jul-12\n",
    "\n",
    "def resolve_multiplet(internal_pks, y):\n",
    "    good_multifit = False\n",
    "    picos = internal_pks.copy()\n",
    "    max_loop = 10\n",
    "    loop = 0\n",
    "    while not good_multifit:\n",
    "        gausses = []\n",
    "        for i in range(len(picos)):\n",
    "            print(i)\n",
    "            prefix = 'g'+str(i)+'_'\n",
    "            gausses.append(GaussianModel(prefix=prefix))\n",
    "            if i==0:\n",
    "                x = np.linspace(start=0, stop=y.size-1, num=y.size)\n",
    "                pars = gausses[0].guess(y, x=x)\n",
    "                mod = gausses[0]\n",
    "            else:\n",
    "                pars.update(gausses[i].make_params())\n",
    "                mod = mod + gausses[i]\n",
    "            pars[prefix + 'center'].set(value=picos[i],\n",
    "                                        min=picos[i]-2,\n",
    "                                        max=picos[i]+2)\n",
    "            pars[prefix + 'sigma'].set(value=2, min=0.1, max=10)\n",
    "            pars[prefix + 'amplitude'].set(value=y[picos[i]], min=10)\n",
    "        bad_pks = []\n",
    "        init = mod.eval(pars, x=x)\n",
    "        out = mod.fit(y, pars, x=x)\n",
    "        for name, param in out.params.items():\n",
    "            if name[3:]=='center':\n",
    "                if param.stderr is None:\n",
    "                    bad_pks.append(int(name[1]))\n",
    "                else:\n",
    "                    if param.stderr >= 0.5:\n",
    "                        bad_pks.append(int(name[1]))\n",
    "        print(picos)\n",
    "        new_picos = [pico[1] for pico in enumerate(picos) if pico[0] not in bad_pks]\n",
    "        print(new_picos)\n",
    "        print(bad_pks)\n",
    "        print('---------')\n",
    "        picos = new_picos.copy()\n",
    "        loop = loop + 1\n",
    "        good_multifit = bad_pks == [] or loop >= max_loop\n",
    "        # good_multifit = True\n",
    "\n",
    "    print(out.fit_report(min_correl=0.1))\n",
    "\n",
    "    fig, axes = plt.subplots(1, 2, figsize=(12.8, 4.8))\n",
    "    axes[0].plot(x, y, 'b')\n",
    "    axes[0].plot(x, init, 'k--', label='initial fit')\n",
    "    axes[0].plot(x, out.best_fit, 'r-', label='best fit')\n",
    "    axes[0].legend(loc='best')\n",
    "\n",
    "    plt.show()\n",
    "    return out\n",
    "    # <end examples/doc_builtinmodels_nistgauss.py>"
   ],
   "metadata": {
    "collapsed": false
   }
  },
  {
   "cell_type": "code",
   "execution_count": null,
   "outputs": [],
   "source": [],
   "metadata": {
    "collapsed": false
   }
  },
  {
   "cell_type": "code",
   "execution_count": null,
   "outputs": [],
   "source": [],
   "metadata": {
    "collapsed": false
   }
  },
  {
   "cell_type": "code",
   "execution_count": null,
   "outputs": [],
   "source": [
    "fwhms_fit = P.fit(x=good_peaks, y=good_fwhms**2, deg=2, w=np.sqrt(net_promns[is_good_fwhms]))\n",
    "fwhms_fit"
   ],
   "metadata": {
    "collapsed": false
   }
  },
  {
   "cell_type": "code",
   "execution_count": null,
   "outputs": [],
   "source": [
    "plot_widths = go.FigureWidget();\n",
    "plot_widths.add_trace(\n",
    "    go.Scatter(x=good_peaks,\n",
    "               y=good_fwhms,\n",
    "               error_y=dict(\n",
    "                   color='orange',width=3.0,\n",
    "                   type='data', # value of error bar given in data coordinates\n",
    "                   array=1.0/np.sqrt(net_promns[is_good_fwhms]),\n",
    "                   visible=True),\n",
    "               name='good_fwhms',\n",
    "               mode='markers',\n",
    "               line=dict(color='blue',width=3.0)));\n",
    "plot_widths.add_trace(\n",
    "    go.Scatter(x=x_fwhm_fit,\n",
    "               y=y_fwhm_fit,\n",
    "               name='FWHMs fit',\n",
    "               line=dict(color='green',width=2.0)));\n",
    "\n",
    "plot_widths.update_layout(title_text=\"Peaks widths\")\n",
    "plot_widths.write_html('plot_widths.html', auto_open=True)"
   ],
   "metadata": {
    "collapsed": false
   }
  }
 ],
 "metadata": {
  "kernelspec": {
   "display_name": "Python 3",
   "language": "python",
   "name": "python3"
  },
  "language_info": {
   "codemirror_mode": {
    "name": "ipython",
    "version": 2
   },
   "file_extension": ".py",
   "mimetype": "text/x-python",
   "name": "python",
   "nbconvert_exporter": "python",
   "pygments_lexer": "ipython2",
   "version": "2.7.6"
  }
 },
 "nbformat": 4,
 "nbformat_minor": 0
}
