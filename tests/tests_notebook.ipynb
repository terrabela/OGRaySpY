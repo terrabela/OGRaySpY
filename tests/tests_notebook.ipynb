{
 "cells": [
  {
   "cell_type": "code",
   "execution_count": 1,
   "id": "c4c824c8",
   "metadata": {},
   "outputs": [
    {
     "data": {
      "text/plain": "'/home/marcelofm/ogrsp_in_github/venv/bin/python'"
     },
     "execution_count": 1,
     "metadata": {},
     "output_type": "execute_result"
    }
   ],
   "source": [
    "import sys\n",
    "import os\n",
    "sys.executable"
   ]
  },
  {
   "cell_type": "code",
   "execution_count": 2,
   "id": "64c170d0",
   "metadata": {},
   "outputs": [],
   "source": [
    "src_dir = os.path.abspath(sys.path[0] + '/../src')\n",
    "spectra_dir = sys.path[0] + '/../data/some_spectra'\n",
    "home_path = os.path.expanduser('~')"
   ]
  },
  {
   "cell_type": "code",
   "execution_count": 3,
   "id": "893943b2",
   "metadata": {},
   "outputs": [
    {
     "name": "stdout",
     "output_type": "stream",
     "text": [
      "/home/marcelofm/ogrsp_in_github/src\n"
     ]
    }
   ],
   "source": [
    "print(src_dir)"
   ]
  },
  {
   "cell_type": "code",
   "execution_count": 4,
   "id": "cc9ec3c2",
   "metadata": {},
   "outputs": [
    {
     "name": "stdout",
     "output_type": "stream",
     "text": [
      "['/home/marcelofm/ogrsp_in_github/src', '/home/marcelofm/ogrsp_in_github/tests', '/home/marcelofm/Nextcloud/Python_Scripts', '/usr/lib/python310.zip', '/usr/lib/python3.10', '/usr/lib/python3.10/lib-dynload', '', '/home/marcelofm/ogrsp_in_github/venv/lib/python3.10/site-packages']\n"
     ]
    }
   ],
   "source": [
    "sys.path.insert(0, src_dir)\n",
    "print(sys.path)"
   ]
  },
  {
   "cell_type": "raw",
   "id": "67844ca4-fc98-4621-8632-c539295cd666",
   "metadata": {},
   "source": [
    "Explicação sobre a questão:\n",
    "What does -m in python -m pip install <package> mean ? or while upgrading pip using python -m pip install --upgrade pip?\n",
    "e sobre a flag -m em geral:\n",
    "https://stackoverflow.com/questions/50821312/meaning-of-python-m-flag"
   ]
  },
  {
   "cell_type": "code",
   "execution_count": 5,
   "id": "b891db34",
   "metadata": {},
   "outputs": [
    {
     "name": "stdout",
     "output_type": "stream",
     "text": [
      "Requirement already satisfied: pip in /home/marcelofm/ogrsp_in_github/venv/lib/python3.10/site-packages (22.3.1)\r\n"
     ]
    }
   ],
   "source": [
    "!{sys.executable} -m pip install --upgrade pip"
   ]
  },
  {
   "cell_type": "code",
   "execution_count": 6,
   "id": "0e9d667b",
   "metadata": {
    "tags": []
   },
   "outputs": [
    {
     "name": "stdout",
     "output_type": "stream",
     "text": [
      "Requirement already satisfied: scipy in /home/marcelofm/ogrsp_in_github/venv/lib/python3.10/site-packages (1.8.1)\r\n",
      "Requirement already satisfied: numpy<1.25.0,>=1.17.3 in /home/marcelofm/ogrsp_in_github/venv/lib/python3.10/site-packages (from scipy) (1.23.1)\r\n"
     ]
    }
   ],
   "source": [
    "!{sys.executable} -m pip install scipy"
   ]
  },
  {
   "cell_type": "code",
   "execution_count": 7,
   "id": "752e87a5-83e0-4e0c-8bed-6f34fceb57b2",
   "metadata": {
    "tags": []
   },
   "outputs": [
    {
     "name": "stdout",
     "output_type": "stream",
     "text": [
      "Requirement already satisfied: pandas in /home/marcelofm/ogrsp_in_github/venv/lib/python3.10/site-packages (1.4.3)\r\n",
      "Requirement already satisfied: ipywidgets in /home/marcelofm/ogrsp_in_github/venv/lib/python3.10/site-packages (8.0.2)\r\n",
      "Requirement already satisfied: plotly in /home/marcelofm/ogrsp_in_github/venv/lib/python3.10/site-packages (5.9.0)\r\n",
      "Requirement already satisfied: python-dateutil>=2.8.1 in /home/marcelofm/ogrsp_in_github/venv/lib/python3.10/site-packages (from pandas) (2.8.2)\r\n",
      "Requirement already satisfied: pytz>=2020.1 in /home/marcelofm/ogrsp_in_github/venv/lib/python3.10/site-packages (from pandas) (2022.1)\r\n",
      "Requirement already satisfied: numpy>=1.21.0 in /home/marcelofm/ogrsp_in_github/venv/lib/python3.10/site-packages (from pandas) (1.23.1)\r\n",
      "Requirement already satisfied: traitlets>=4.3.1 in /home/marcelofm/ogrsp_in_github/venv/lib/python3.10/site-packages (from ipywidgets) (5.4.0)\r\n",
      "Requirement already satisfied: ipython>=6.1.0 in /home/marcelofm/ogrsp_in_github/venv/lib/python3.10/site-packages (from ipywidgets) (8.5.0)\r\n",
      "Requirement already satisfied: widgetsnbextension~=4.0 in /home/marcelofm/ogrsp_in_github/venv/lib/python3.10/site-packages (from ipywidgets) (4.0.3)\r\n",
      "Requirement already satisfied: jupyterlab-widgets~=3.0 in /home/marcelofm/ogrsp_in_github/venv/lib/python3.10/site-packages (from ipywidgets) (3.0.3)\r\n",
      "Requirement already satisfied: ipykernel>=4.5.1 in /home/marcelofm/ogrsp_in_github/venv/lib/python3.10/site-packages (from ipywidgets) (6.16.0)\r\n",
      "Requirement already satisfied: tenacity>=6.2.0 in /home/marcelofm/ogrsp_in_github/venv/lib/python3.10/site-packages (from plotly) (8.0.1)\r\n",
      "Requirement already satisfied: psutil in /home/marcelofm/ogrsp_in_github/venv/lib/python3.10/site-packages (from ipykernel>=4.5.1->ipywidgets) (5.9.2)\r\n",
      "Requirement already satisfied: debugpy>=1.0 in /home/marcelofm/ogrsp_in_github/venv/lib/python3.10/site-packages (from ipykernel>=4.5.1->ipywidgets) (1.6.3)\r\n",
      "Requirement already satisfied: nest-asyncio in /home/marcelofm/ogrsp_in_github/venv/lib/python3.10/site-packages (from ipykernel>=4.5.1->ipywidgets) (1.5.6)\r\n",
      "Requirement already satisfied: tornado>=6.1 in /home/marcelofm/ogrsp_in_github/venv/lib/python3.10/site-packages (from ipykernel>=4.5.1->ipywidgets) (6.2)\r\n",
      "Requirement already satisfied: pyzmq>=17 in /home/marcelofm/ogrsp_in_github/venv/lib/python3.10/site-packages (from ipykernel>=4.5.1->ipywidgets) (24.0.1)\r\n",
      "Requirement already satisfied: jupyter-client>=6.1.12 in /home/marcelofm/ogrsp_in_github/venv/lib/python3.10/site-packages (from ipykernel>=4.5.1->ipywidgets) (7.3.5)\r\n",
      "Requirement already satisfied: packaging in /home/marcelofm/ogrsp_in_github/venv/lib/python3.10/site-packages (from ipykernel>=4.5.1->ipywidgets) (21.3)\r\n",
      "Requirement already satisfied: matplotlib-inline>=0.1 in /home/marcelofm/ogrsp_in_github/venv/lib/python3.10/site-packages (from ipykernel>=4.5.1->ipywidgets) (0.1.6)\r\n",
      "Requirement already satisfied: pexpect>4.3 in /home/marcelofm/ogrsp_in_github/venv/lib/python3.10/site-packages (from ipython>=6.1.0->ipywidgets) (4.8.0)\r\n",
      "Requirement already satisfied: jedi>=0.16 in /home/marcelofm/ogrsp_in_github/venv/lib/python3.10/site-packages (from ipython>=6.1.0->ipywidgets) (0.18.1)\r\n",
      "Requirement already satisfied: decorator in /home/marcelofm/ogrsp_in_github/venv/lib/python3.10/site-packages (from ipython>=6.1.0->ipywidgets) (5.1.1)\r\n",
      "Requirement already satisfied: prompt-toolkit<3.1.0,>3.0.1 in /home/marcelofm/ogrsp_in_github/venv/lib/python3.10/site-packages (from ipython>=6.1.0->ipywidgets) (3.0.31)\r\n",
      "Requirement already satisfied: pickleshare in /home/marcelofm/ogrsp_in_github/venv/lib/python3.10/site-packages (from ipython>=6.1.0->ipywidgets) (0.7.5)\r\n",
      "Requirement already satisfied: pygments>=2.4.0 in /home/marcelofm/ogrsp_in_github/venv/lib/python3.10/site-packages (from ipython>=6.1.0->ipywidgets) (2.13.0)\r\n",
      "Requirement already satisfied: stack-data in /home/marcelofm/ogrsp_in_github/venv/lib/python3.10/site-packages (from ipython>=6.1.0->ipywidgets) (0.5.1)\r\n",
      "Requirement already satisfied: backcall in /home/marcelofm/ogrsp_in_github/venv/lib/python3.10/site-packages (from ipython>=6.1.0->ipywidgets) (0.2.0)\r\n",
      "Requirement already satisfied: six>=1.5 in /home/marcelofm/ogrsp_in_github/venv/lib/python3.10/site-packages (from python-dateutil>=2.8.1->pandas) (1.16.0)\r\n",
      "Requirement already satisfied: parso<0.9.0,>=0.8.0 in /home/marcelofm/ogrsp_in_github/venv/lib/python3.10/site-packages (from jedi>=0.16->ipython>=6.1.0->ipywidgets) (0.8.3)\r\n",
      "Requirement already satisfied: jupyter-core>=4.9.2 in /home/marcelofm/ogrsp_in_github/venv/lib/python3.10/site-packages (from jupyter-client>=6.1.12->ipykernel>=4.5.1->ipywidgets) (4.11.1)\r\n",
      "Requirement already satisfied: entrypoints in /home/marcelofm/ogrsp_in_github/venv/lib/python3.10/site-packages (from jupyter-client>=6.1.12->ipykernel>=4.5.1->ipywidgets) (0.4)\r\n",
      "Requirement already satisfied: ptyprocess>=0.5 in /home/marcelofm/ogrsp_in_github/venv/lib/python3.10/site-packages (from pexpect>4.3->ipython>=6.1.0->ipywidgets) (0.7.0)\r\n",
      "Requirement already satisfied: wcwidth in /home/marcelofm/ogrsp_in_github/venv/lib/python3.10/site-packages (from prompt-toolkit<3.1.0,>3.0.1->ipython>=6.1.0->ipywidgets) (0.2.5)\r\n",
      "Requirement already satisfied: pyparsing!=3.0.5,>=2.0.2 in /home/marcelofm/ogrsp_in_github/venv/lib/python3.10/site-packages (from packaging->ipykernel>=4.5.1->ipywidgets) (3.0.9)\r\n",
      "Requirement already satisfied: executing in /home/marcelofm/ogrsp_in_github/venv/lib/python3.10/site-packages (from stack-data->ipython>=6.1.0->ipywidgets) (1.1.1)\r\n",
      "Requirement already satisfied: pure-eval in /home/marcelofm/ogrsp_in_github/venv/lib/python3.10/site-packages (from stack-data->ipython>=6.1.0->ipywidgets) (0.2.2)\r\n",
      "Requirement already satisfied: asttokens in /home/marcelofm/ogrsp_in_github/venv/lib/python3.10/site-packages (from stack-data->ipython>=6.1.0->ipywidgets) (2.0.8)\r\n"
     ]
    }
   ],
   "source": [
    "!{sys.executable} -m pip install pandas ipywidgets plotly"
   ]
  },
  {
   "cell_type": "code",
   "execution_count": 7,
   "id": "ad6747d6-5342-46c4-9c4c-0f681a02b00f",
   "metadata": {},
   "outputs": [],
   "source": []
  },
  {
   "cell_type": "code",
   "execution_count": 8,
   "id": "cfdc9613",
   "metadata": {},
   "outputs": [],
   "source": [
    "import scipy\n",
    "from unittest import TestCase"
   ]
  },
  {
   "cell_type": "code",
   "execution_count": 9,
   "id": "9661a0bd",
   "metadata": {},
   "outputs": [],
   "source": [
    "from spec_class import Spec\n",
    "from spec_graphics_class import GenericGraphics\n",
    "from spec_graphics_class import CountsGraphic, PeaksAndRegionsGraphic, BaselineGraphic\n"
   ]
  },
  {
   "cell_type": "code",
   "execution_count": 10,
   "id": "2a7088f0",
   "metadata": {},
   "outputs": [],
   "source": [
    "class TestSpec(TestCase):\n",
    "    def setUp(self):\n",
    "        self.spec = Spec(spectra_dir + '/' + 'CCI0202-I.Chn')\n",
    "\n",
    "    def test_file_exists(self):\n",
    "        self.assertGreater(self.spec.gross_spec_ser_an.n_ch, 0)\n",
    "\n",
    "    def test_graphics(self):\n",
    "        from spec_graphics_class import GenericGraphics\n",
    "        self.assertTrue(True)\n",
    "\n",
    "    def test_plot(self):\n",
    "        from spec_graphics_class import CountsGraphic\n",
    "        print(self.spec.f_name)\n",
    "        self.home_path = os.path.expanduser('~')\n",
    "        spec_graphic = CountsGraphic(self.spec.f_name,\n",
    "                                     self.spec.gross_spec_ser_an,\n",
    "                                     self.home_path,\n",
    "                                     'test_plot')\n",
    "        del spec_graphic\n",
    "\n",
    "    def test_fft_plot(self):\n",
    "        from scipy.fft import fft, ifft, fftfreq, fftshift\n",
    "        from spec_graphics_class import GenericGraphics\n",
    "        # fft_graphic = GenericGraphics('Qquer_coisa', [1,2,3], [4,5,6])\n",
    "        # Number of sample points\n",
    "        # N = 600\n",
    "        # sample spacing\n",
    "        # T = 1.0 / 800.0\n",
    "        # x = np.linspace(0.0, N * T, N, endpoint=False)\n",
    "        # y = np.sin(50.0 * 2.0 * np.pi * x) + 0.5 * np.sin(80.0 * 2.0 * np.pi * x)\n",
    "        # yf = fft(y)\n",
    "        # xf = fftfreq(N, T)[:N // 2]\n",
    "        # fft_ys = 2.0 / N * np.abs(yf[0:N // 2])\n",
    "        xf = self.spec.gross_spec_ser_an.x_s\n",
    "        fft_ys = fft(self.spec.gross_spec_ser_an.y_s)\n",
    "        fft_ys[2000:2096] = 0.0\n",
    "        fft_ys[1800:2296] = 0.0\n",
    "        ifft_ys = ifft(fft_ys)\n",
    "        ys_plot = abs(ifft_ys)\n",
    "        fft_graphic = GenericGraphics('Qquer_coisa', xf, ys_plot)"
   ]
  },
  {
   "cell_type": "code",
   "execution_count": 11,
   "id": "57613b23",
   "metadata": {},
   "outputs": [],
   "source": [
    "test_spec = TestSpec()\n",
    "test_spec.setUp()"
   ]
  },
  {
   "cell_type": "code",
   "execution_count": 12,
   "id": "ceef9622",
   "metadata": {},
   "outputs": [
    {
     "data": {
      "text/plain": "{'net_spec_ser_an': None,\n 'final_composed_baseline': None,\n 'f_name': '/home/marcelofm/ogrsp_in_github/tests/../data/some_spectra/CCI0202-I.Chn',\n 'sufx': '.chn',\n 'spec_io': None,\n 'pkl_file': PosixPath('/home/marcelofm/ogrsp_in_github/tests/../data/some_spectra/CCI0202-I.xz'),\n 'spec_pks_df': Empty DataFrame\n Columns: []\n Index: [],\n 'gross_spec_ser_an': <generic_series_analysis_class.GenericSeriesAnalysis at 0x7f44332846d0>}"
     },
     "execution_count": 12,
     "metadata": {},
     "output_type": "execute_result"
    }
   ],
   "source": [
    "vars(test_spec.spec)"
   ]
  },
  {
   "cell_type": "code",
   "execution_count": 13,
   "id": "0cf9c696",
   "metadata": {},
   "outputs": [],
   "source": [
    "test_spec.test_file_exists()"
   ]
  },
  {
   "cell_type": "code",
   "execution_count": 14,
   "id": "8eb9b0ad",
   "metadata": {},
   "outputs": [
    {
     "name": "stdout",
     "output_type": "stream",
     "text": [
      "/home/marcelofm/ogrsp_in_github/tests/../data/some_spectra/CCI0202-I.Chn\n"
     ]
    }
   ],
   "source": [
    "test_spec.test_plot()"
   ]
  },
  {
   "cell_type": "code",
   "execution_count": 15,
   "id": "938212b8",
   "metadata": {},
   "outputs": [
    {
     "name": "stdout",
     "output_type": "stream",
     "text": [
      "k_sep_pk:  2.0\n",
      "smoo:  3000.0\n",
      "widths_range:  (4.0, 20.0)\n",
      "=================\n",
      "Exec peaks_search(gross=True), espectro ORIGINAL\n",
      "resolve_peaks_and_regions:\n",
      "define_multiplets_regions completado. Define: self.mix_regions.\n",
      "resolve_peaks_and_regions:\n",
      "define_multiplets_regions completado. Define: self.mix_regions.\n",
      "=================\n",
      "=================\n",
      "=================\n"
     ]
    }
   ],
   "source": [
    "test_spec.spec.total_analysis()"
   ]
  },
  {
   "cell_type": "code",
   "execution_count": 15,
   "outputs": [],
   "source": [],
   "metadata": {
    "collapsed": false
   }
  },
  {
   "cell_type": "code",
   "execution_count": 16,
   "id": "bee43331",
   "metadata": {},
   "outputs": [
    {
     "data": {
      "text/plain": "{'mix_regions': array([[  31,   46],\n        [  47,   65],\n        [  90,  109],\n        [ 127,  138],\n        [ 143,  156],\n        [ 174,  191],\n        [ 229,  259],\n        [ 265,  276],\n        [ 295,  357],\n        [ 402,  432],\n        [ 433,  478],\n        [ 488,  516],\n        [ 517,  522],\n        [ 544,  557],\n        [ 562,  569],\n        [ 573,  588],\n        [ 608,  639],\n        [ 674,  695],\n        [ 721,  738],\n        [ 746,  759],\n        [ 796,  807],\n        [ 836,  857],\n        [ 867,  901],\n        [ 927,  942],\n        [ 951,  978],\n        [1000, 1017],\n        [1023, 1040],\n        [1084, 1099],\n        [1123, 1156],\n        [1182, 1213],\n        [1288, 1297],\n        [1308, 1319],\n        [1363, 1373],\n        [1376, 1387],\n        [1393, 1406],\n        [1426, 1443],\n        [1474, 1491],\n        [1497, 1508],\n        [1531, 1548],\n        [1590, 1603],\n        [1605, 1622],\n        [1663, 1670],\n        [1692, 1701],\n        [1741, 1762],\n        [1791, 1808],\n        [1825, 1838],\n        [1839, 1848],\n        [1868, 1875],\n        [1885, 1900],\n        [1919, 1928],\n        [1938, 1947],\n        [2033, 2054],\n        [2177, 2186],\n        [2229, 2234],\n        [2261, 2272],\n        [2393, 2410],\n        [2668, 2677],\n        [2890, 2905],\n        [2963, 2976]]),\n 'spl_baseline': (array([   0.,    0.,    0.,    0.,   25.,   46.,   66.,   67.,   70.,\n           76.,   82.,  113.,  119.,  125.,  142.,  161.,  167.,  173.,\n          203.,  215.,  227.,  263.,  277.,  280.,  292.,  360.,  366.,\n          378.,  390.,  478.,  523.,  535.,  560.,  588.,  594.,  606.,\n          649.,  661.,  706.,  718.,  760.,  772.,  784.,  807.,  819.,\n          832.,  859.,  865.,  911.,  923.,  989., 1018., 1047., 1059.,\n         1071., 1083., 1110., 1116., 1122., 1167., 1173., 1175., 1176.,\n         1179., 1222., 1235., 1241., 1247., 1253., 1259., 1265., 1271.,\n         1283., 1298., 1304., 1339., 1345., 1348., 1351., 1373., 1409.,\n         1421., 1444., 1450., 1462., 1491., 1514., 1527., 1550., 1556.,\n         1562., 1568., 1580., 1622., 1628., 1634., 1646., 1658., 1672.,\n         1678., 1681., 1684., 1690., 1711., 1717., 1723., 1729., 1735.,\n         1768., 1780., 1786., 1809., 1816., 1822., 1850., 1856., 1875.,\n         1902., 1908., 1914., 1935., 1956., 1968., 1974., 1977., 1980.,\n         1992., 2016., 2028., 2061., 2073., 2079., 2085., 2098., 2104.,\n         2110., 2116., 2119., 2122., 2128., 2134., 2146., 2152., 2158.,\n         2164., 2170., 2176., 2191., 2203., 2209., 2215., 2227., 2244.,\n         2256., 2279., 2291., 2303., 2310., 2316., 2328., 2340., 2352.,\n         2364., 2376., 2388., 2417., 2429., 2441., 2453., 2465., 2471.,\n         2477., 2483., 2489., 2501., 2513., 2520., 2526., 2538., 2544.,\n         2550., 2562., 2568., 2574., 2586., 2598., 2610., 2623., 2635.,\n         2647., 2659., 2665., 2680., 2686., 2692., 2704., 2716., 2729.,\n         2741., 2753., 2765., 2771., 2777., 2789., 2801., 2813., 2825.,\n         2837., 2843., 2849., 2861., 2873., 2885., 2912., 2924., 2937.,\n         2949., 2961., 2986., 2998., 3010., 3022., 3028., 3034., 3046.,\n         3052., 3058., 3064., 3070., 3082., 3094., 3106., 3118., 3130.,\n         3137., 3143., 3149., 3155., 3167., 3179., 3203., 3215., 3227.,\n         3239., 3251., 3263., 3275., 3287., 3299., 3323., 3336., 3348.,\n         3360., 3372., 3384., 3396., 3408., 3420., 3432., 3444., 3456.,\n         3468., 3480., 3492., 3504., 3516., 3541., 3565., 3577., 3589.,\n         3613., 3625., 3637., 3649., 3661., 3673., 3685., 3709., 3734.,\n         3746., 3758., 3770., 3782., 3794., 3800., 3806., 3818., 3830.,\n         3854., 3866., 3878., 3890., 3902., 3915., 3927., 3951., 3975.,\n         3987., 3999., 4011., 4023., 4035., 4047., 4095., 4095., 4095.,\n         4095.]),\n  array([ 3.60537276e+02,  3.93977860e+02,  3.06827246e+02,  5.07153875e+02,\n          5.27236429e+02,  2.99687869e+02,  2.06424894e+02,  2.45725987e+02,\n          2.79676555e+02,  3.14693981e+02,  1.50394404e+02,  1.91500264e+02,\n          2.22009955e+02,  1.78533052e+02,  2.99923409e+02,  8.34898258e+02,\n          4.72996549e+02,  4.22502535e+02,  3.16933707e+02,  3.92478592e+02,\n          1.10535665e+02,  1.10120185e+02,  1.52216616e+02,  9.00033174e+01,\n          8.30645487e+01,  6.87544280e+01,  9.53059521e+01,  4.35065489e+01,\n          6.07755977e+01,  5.69243887e+01,  6.66522615e+01,  3.22483173e+01,\n          4.57969119e+01,  2.56605979e+01,  3.19274427e+01,  2.72598768e+01,\n          2.49335231e+01,  2.42208744e+01,  2.12540152e+01,  2.38984537e+01,\n          1.80571719e+01,  2.30590630e+01,  1.65203885e+01,  2.70803197e+01,\n          2.03556660e+01,  9.30589551e+00,  2.19346041e+01,  1.07586595e+01,\n          1.65655537e+01,  1.41977677e+01,  1.37551029e+01,  1.10704872e+01,\n          1.13742009e+01,  1.36158533e+01,  1.10938373e+01,  1.24603717e+01,\n          7.49205357e+00,  1.49066086e+01,  7.92194017e+00,  5.13503459e+00,\n          6.91687021e+00,  2.39003192e+01,  9.20717256e+00,  7.17014182e+00,\n          1.21973336e+01,  7.71383668e+00,  1.80337242e+01, -3.42152395e+00,\n          1.29846186e+01,  1.18036151e+01,  4.96747774e+00,  7.04372615e+00,\n          1.04886230e+01,  7.44955284e+00,  9.24783067e+00,  4.44200591e+00,\n          1.03107487e+01,  8.98798079e+00,  6.07105573e+00,  9.72097254e+00,\n          8.46979572e+00,  6.99541102e+00,  1.02965444e+01,  3.76619133e+00,\n          6.74794948e+00,  7.61008968e+00,  8.54734384e+00,  1.39598231e+00,\n          5.92793450e+00,  4.42019906e+00,  1.50474893e+01, -4.51949800e+00,\n          7.17609443e+00,  2.25509710e+00,  7.18973802e+00,  2.38610227e+00,\n          1.19025456e+01,  2.32317625e-01,  4.69439273e+00,  2.05445734e+00,\n          3.98560437e+00,  5.00246235e+00,  4.42265044e+00,  6.93713329e+00,\n          2.43679468e+00,  3.58596970e+00,  4.21663458e-01,  6.78064074e+00,\n          1.82855524e+00,  4.00508095e+00,  3.78286959e+00,  3.54238174e+00,\n          2.83059905e+00,  3.64441784e+00,  5.50810606e+00,  1.85133641e+00,\n          3.42055659e+00,  2.73803672e+00,  2.00232066e+00,  5.27666229e+00,\n          4.91385113e+00,  5.56106177e+00,  2.42900769e+00,  2.88551616e+00,\n          5.74375029e+00,  3.07196390e+00,  3.40107298e+00,  1.97389136e+00,\n          4.06452038e+00,  2.51906950e+00,  3.01002782e+00,  2.30536653e+00,\n          3.10658734e+00,  2.72104899e+00,  3.18162305e+00,  2.01770889e+00,\n          3.38426184e+00,  2.00461734e+00,  3.42645538e+00,  1.93507628e+00,\n          2.60267504e+00,  3.08280352e+00,  1.68110473e+00,  3.82938480e+00,\n          5.40606862e-01,  2.55184549e+00,  2.41571631e+00,  1.39311397e+00,\n          2.40841420e+00,  1.57889253e+00,  1.93334040e+00,  2.97331553e+00,\n          1.97575430e+00,  2.10273225e+00,  3.74332635e+00,  1.25865186e+00,\n          2.04486920e+00,  1.60983275e+00,  2.85482136e+00,  1.90889920e+00,\n          2.03367025e+00,  3.01607315e+00,  2.17845428e+00,  1.66872156e+00,\n          1.38908585e+00,  1.84134666e+00,  1.85700666e+00,  3.08820567e+00,\n          8.20221414e-01,  2.49365028e+00,  2.63745462e+00,  1.19253265e+00,\n          2.05377128e+00,  2.27650165e+00,  2.00177795e+00,  2.81287646e+00,\n          3.01759507e-01,  2.74258625e+00, -2.06306399e-01,  3.21341223e+00,\n          1.79095053e+00,  1.42103750e+00,  2.07770885e+00,  1.99803193e+00,\n          2.76020542e+00,  1.12810277e+00,  2.38124821e+00,  1.06548354e+00,\n          7.53725812e-01,  3.83016571e+00,  1.49473028e+00,  2.19502252e+00,\n          7.49950187e-01,  2.07230269e+00,  2.31657926e+00,  9.70749888e-01,\n          1.04855577e+00,  2.22235438e+00,  1.13176456e+00,  4.68936581e+00,\n          4.25827024e-01,  1.76542010e+00,  8.84259103e-01,  1.91042518e+00,\n          1.35981628e+00,  5.10166587e-01,  3.89276439e+00, -9.29104592e-01,\n          2.89905092e+00,  8.78817671e-01,  2.52069425e+00,  1.34016179e+00,\n          1.84016745e+00,  5.28078122e-01,  1.06690068e+00,  1.45168280e+00,\n          1.27374691e+00,  1.74965686e+00,  1.15298405e+00,  1.82731755e+00,\n          4.54735334e-01,  2.74590123e+00, -1.16198082e+00,  2.94482353e+00,\n         -2.33100482e-01,  2.07537618e+00,  1.29319353e+00,  1.69483346e-01,\n          2.80151625e+00,  2.65450538e-02,  2.31498315e+00, -3.46612629e-01,\n          2.17722820e+00,  1.90361471e+00,  1.21644844e+00,  1.94810840e+00,\n          9.08315511e-01,  2.71483774e+00, -3.99393000e-01,  2.11666690e+00,\n         -1.27015635e+00,  2.91275614e+00,  6.06293670e-02,  2.10576610e+00,\n          4.37674329e-01,  1.90056033e+00,  1.04500521e+00,  4.07504446e-01,\n          1.24806005e+00,  1.41227319e+00,  6.02208681e-01,  1.12375085e+00,\n          8.92719824e-01,  7.69295948e-01,  1.63472313e+00,  5.61417719e-01,\n          8.73873173e-01,  8.78754898e-01,  3.26437982e+00, -1.06935919e+00,\n          2.97912994e+00, -3.58671379e-01,  1.75213615e+00,  6.77184048e-01,\n          7.70563391e-01,  6.87693485e-01,  1.21498074e+00,  5.95879252e-01,\n          5.76525189e-01,  1.41227060e+00,  1.16881052e+00,  3.96787409e-01,\n          1.57404319e+00,  4.71479567e-01,  1.16448546e+00, -8.50167883e-02,\n          1.04478149e+00,  1.45311200e+00,  1.26460590e-02,  1.33850880e+00,\n          1.46331401e+00,  3.30889650e-01,  1.73050384e+00,  9.65538632e-01,\n          1.97179605e-01,  1.11498739e+00,  3.82380828e-01,  1.64038734e+00,\n         -7.76634585e-02,  2.11958876e+00, -2.96137361e-02,  1.53364330e+00,\n         -4.32855491e-02,  7.36417341e-01,  3.50085081e-01,  1.29918004e+00,\n          2.07399891e-01,  2.69962248e+00,  1.53215949e+00,  4.00259651e-01,\n          9.57792886e-01, -2.49436344e-01,  3.83908632e-01,  0.00000000e+00,\n          0.00000000e+00,  0.00000000e+00,  0.00000000e+00]),\n  3),\n 'eval_baseline': array([3.60537276e+02, 3.64171740e+02, 3.67087226e+02, ...,\n        3.12876226e-01, 3.46382635e-01, 3.83908632e-01]),\n 'y_s': array([0, 0, 0, ..., 0, 1, 0]),\n 'nzero': array([False, False, False, ..., False,  True, False]),\n 'n_ch': 4096,\n 'final_baseline': array([3.60537276e+02, 3.64171740e+02, 3.67087226e+02, ...,\n        3.12876226e-01, 3.46382635e-01, 3.83908632e-01]),\n 'x_s': array([0.000e+00, 1.000e+00, 2.000e+00, ..., 4.093e+03, 4.094e+03,\n        4.095e+03]),\n 'chans_nzero': array([  31.,   32.,   33., ..., 4084., 4092., 4094.]),\n 'counts_nzero': array([ 13,  34, 179, ...,   1,   1,   1]),\n 'unc_y': array([ 3.60555128,  5.83095189, 13.37908816, ...,  1.        ,\n         1.        ,  1.        ]),\n 'y_smoothed': array([7.72620515e+04, 7.10626667e+04, 6.51941760e+04, ...,\n        8.28331449e-01, 8.13576682e-01, 7.98525802e-01]),\n 'fft_s': None,\n 'is_reg': array([False, False, False, ..., False, False, False]),\n 'net_spec': array([0., 0., 0., ..., 0., 0., 0.]),\n 'xs_all_mplets': [],\n 'ys_all_mplets': [],\n 'ys_all_steps': [],\n 'chans_in_multiplets_list': [array([31., 32., 33., 34., 35., 36., 37., 38., 39., 40., 41., 42., 43.,\n         44., 45.]),\n  array([47., 48., 49., 50., 51., 52., 53., 54., 55., 56., 57., 58., 59.,\n         60., 61., 62., 63., 64.]),\n  array([ 90.,  91.,  92.,  93.,  94.,  95.,  96.,  97.,  98.,  99., 100.,\n         101., 102., 103., 104., 105., 106., 107., 108.]),\n  array([127., 128., 129., 130., 131., 132., 133., 134., 135., 136., 137.]),\n  array([143., 144., 145., 146., 147., 148., 149., 150., 151., 152., 153.,\n         154., 155.]),\n  array([174., 175., 176., 177., 178., 179., 180., 181., 182., 183., 184.,\n         185., 186., 187., 188., 189., 190.]),\n  array([229., 230., 231., 232., 233., 234., 235., 236., 237., 238., 239.,\n         240., 241., 242., 243., 244., 245., 246., 247., 248., 249., 250.,\n         251., 252., 253., 254., 255., 256., 257., 258.]),\n  array([265., 266., 267., 268., 269., 270., 271., 272., 273., 274., 275.]),\n  array([295., 296., 297., 298., 299., 300., 301., 302., 303., 304., 305.,\n         306., 307., 308., 309., 310., 311., 312., 313., 314., 315., 316.,\n         317., 318., 319., 320., 321., 322., 323., 324., 325., 326., 327.,\n         328., 329., 330., 331., 332., 333., 334., 335., 336., 337., 338.,\n         339., 340., 341., 342., 343., 344., 345., 346., 347., 348., 349.,\n         350., 351., 352., 353., 354., 355., 356.]),\n  array([402., 403., 404., 405., 406., 407., 408., 409., 410., 411., 412.,\n         413., 414., 415., 416., 417., 418., 419., 420., 421., 422., 423.,\n         424., 425., 426., 427., 428., 429., 430., 431.]),\n  array([433., 434., 435., 436., 437., 438., 439., 440., 441., 442., 443.,\n         444., 445., 446., 447., 448., 449., 450., 451., 452., 453., 454.,\n         455., 456., 457., 458., 459., 460., 461., 462., 463., 464., 465.,\n         466., 467., 468., 469., 470., 471., 472., 473., 474., 475., 476.,\n         477.]),\n  array([488., 489., 490., 491., 492., 493., 494., 495., 496., 497., 498.,\n         499., 500., 501., 502., 503., 504., 505., 506., 507., 508., 509.,\n         510., 511., 512., 513., 514., 515.]),\n  array([517., 518., 519., 520., 521.]),\n  array([544., 545., 546., 547., 548., 549., 550., 551., 552., 553., 554.,\n         555., 556.]),\n  array([562., 563., 564., 565., 566., 567., 568.]),\n  array([573., 574., 575., 576., 577., 578., 579., 580., 581., 582., 583.,\n         584., 585., 586., 587.]),\n  array([608., 609., 610., 611., 612., 613., 614., 615., 616., 617., 618.,\n         619., 620., 621., 622., 623., 624., 625., 626., 627., 628., 629.,\n         630., 631., 632., 633., 634., 635., 636., 637., 638.]),\n  array([674., 675., 676., 677., 678., 679., 680., 681., 682., 683., 684.,\n         685., 686., 687., 688., 689., 690., 691., 692., 693., 694.]),\n  array([721., 722., 723., 724., 725., 726., 727., 728., 729., 730., 731.,\n         732., 733., 734., 735., 736., 737.]),\n  array([746., 747., 748., 749., 750., 751., 752., 753., 754., 755., 756.,\n         757., 758.]),\n  array([796., 797., 798., 799., 800., 801., 802., 803., 804., 805., 806.]),\n  array([836., 837., 838., 839., 840., 841., 842., 843., 844., 845., 846.,\n         847., 848., 849., 850., 851., 852., 853., 854., 855., 856.]),\n  array([867., 868., 869., 870., 871., 872., 873., 874., 875., 876., 877.,\n         878., 879., 880., 881., 882., 883., 884., 885., 886., 887., 888.,\n         889., 890., 891., 892., 893., 894., 895., 896., 897., 898., 899.,\n         900.]),\n  array([927., 928., 929., 930., 931., 932., 933., 934., 935., 936., 937.,\n         938., 939., 940., 941.]),\n  array([951., 952., 953., 954., 955., 956., 957., 958., 959., 960., 961.,\n         962., 963., 964., 965., 966., 967., 968., 969., 970., 971., 972.,\n         973., 974., 975., 976., 977.]),\n  array([1000., 1001., 1002., 1003., 1004., 1005., 1006., 1007., 1008.,\n         1009., 1010., 1011., 1012., 1013., 1014., 1015., 1016.]),\n  array([1023., 1024., 1025., 1026., 1027., 1028., 1029., 1030., 1031.,\n         1032., 1033., 1034., 1035., 1036., 1037., 1038., 1039.]),\n  array([1084., 1085., 1086., 1087., 1088., 1089., 1090., 1091., 1092.,\n         1093., 1094., 1095., 1096., 1097., 1098.]),\n  array([1123., 1124., 1125., 1126., 1127., 1128., 1129., 1130., 1131.,\n         1132., 1133., 1134., 1135., 1136., 1137., 1138., 1139., 1140.,\n         1141., 1142., 1143., 1144., 1145., 1146., 1147., 1148., 1149.,\n         1150., 1151., 1152., 1153., 1154., 1155.]),\n  array([1182., 1183., 1184., 1185., 1186., 1187., 1188., 1189., 1190.,\n         1191., 1192., 1193., 1194., 1195., 1196., 1197., 1198., 1199.,\n         1200., 1201., 1202., 1203., 1204., 1205., 1206., 1207., 1208.,\n         1209., 1210., 1211., 1212.]),\n  array([1288., 1289., 1290., 1291., 1292., 1293., 1294., 1295., 1296.]),\n  array([1308., 1309., 1310., 1311., 1312., 1313., 1314., 1315., 1316.,\n         1317., 1318.]),\n  array([1363., 1364., 1365., 1366., 1367., 1368., 1369., 1370., 1371.,\n         1372.]),\n  array([1376., 1377., 1378., 1379., 1380., 1381., 1382., 1383., 1384.,\n         1385., 1386.]),\n  array([1393., 1394., 1395., 1396., 1397., 1398., 1399., 1400., 1401.,\n         1402., 1403., 1404., 1405.]),\n  array([1426., 1427., 1428., 1429., 1430., 1431., 1432., 1433., 1434.,\n         1435., 1436., 1437., 1438., 1439., 1440., 1441., 1442.]),\n  array([1474., 1475., 1476., 1477., 1478., 1479., 1480., 1481., 1482.,\n         1483., 1484., 1485., 1486., 1487., 1488., 1489., 1490.]),\n  array([1497., 1498., 1499., 1500., 1501., 1502., 1503., 1504., 1505.,\n         1506., 1507.]),\n  array([1531., 1532., 1533., 1534., 1535., 1536., 1537., 1538., 1539.,\n         1540., 1541., 1542., 1543., 1544., 1545., 1546., 1547.]),\n  array([1590., 1591., 1592., 1593., 1594., 1595., 1596., 1597., 1598.,\n         1599., 1600., 1601., 1602.]),\n  array([1605., 1606., 1607., 1608., 1609., 1610., 1611., 1612., 1613.,\n         1614., 1615., 1616., 1617., 1618., 1619., 1620., 1621.]),\n  array([1663., 1664., 1665., 1666., 1667., 1668., 1669.]),\n  array([1692., 1693., 1694., 1695., 1696., 1697., 1698., 1699., 1700.]),\n  array([1741., 1742., 1743., 1744., 1745., 1746., 1747., 1748., 1749.,\n         1750., 1751., 1752., 1753., 1754., 1755., 1756., 1757., 1758.,\n         1759., 1760., 1761.]),\n  array([1791., 1792., 1793., 1794., 1795., 1796., 1797., 1798., 1799.,\n         1800., 1801., 1802., 1803., 1804., 1805., 1806., 1807.]),\n  array([1825., 1826., 1827., 1828., 1829., 1830., 1831., 1832., 1833.,\n         1834., 1835., 1836., 1837.]),\n  array([1839., 1840., 1841., 1842., 1843., 1844., 1845., 1846., 1847.]),\n  array([1868., 1869., 1870., 1871., 1872., 1873., 1874.]),\n  array([1885., 1886., 1887., 1888., 1889., 1890., 1891., 1892., 1893.,\n         1894., 1895., 1896., 1897., 1898., 1899.]),\n  array([1919., 1920., 1921., 1922., 1923., 1924., 1925., 1926., 1927.]),\n  array([1938., 1939., 1940., 1941., 1942., 1943., 1944., 1945., 1946.]),\n  array([2033., 2034., 2035., 2036., 2037., 2038., 2039., 2040., 2041.,\n         2042., 2043., 2044., 2045., 2046., 2047., 2048., 2049., 2050.,\n         2051., 2052., 2053.]),\n  array([2177., 2178., 2179., 2180., 2181., 2182., 2183., 2184., 2185.]),\n  array([2229., 2230., 2231., 2232., 2233.]),\n  array([2261., 2262., 2263., 2264., 2265., 2266., 2267., 2268., 2269.,\n         2270., 2271.]),\n  array([2393., 2394., 2395., 2396., 2397., 2398., 2399., 2400., 2401.,\n         2402., 2403., 2404., 2405., 2406., 2407., 2408., 2409.]),\n  array([2668., 2669., 2670., 2671., 2672., 2673., 2674., 2675., 2676.]),\n  array([2890., 2891., 2892., 2893., 2894., 2895., 2896., 2897., 2898.,\n         2899., 2900., 2901., 2902., 2903., 2904.]),\n  array([2963., 2964., 2965., 2966., 2967., 2968., 2969., 2970., 2971.,\n         2972., 2973., 2974., 2975.])],\n 'calculated_step_counts': [array([390.18507446, 390.70341171, 392.35308517, 395.78780124,\n         401.55585415, 410.03701383, 421.19007725, 434.11828827,\n         446.27184417, 455.82994236, 462.38915904, 466.96344921,\n         471.52019227, 471.52019227, 477.32916305]),\n  array([487.6536149 , 487.08548427, 486.13907639, 484.55111832,\n         482.41881598, 479.12604985, 469.78374578, 451.82480373,\n         434.27316581, 421.73798426, 414.85087829, 411.65652424,\n         408.41666718, 403.47895788, 398.96575187, 395.50874958,\n         395.50874958, 395.13487679]),\n  array([277.05627524, 275.81069106, 274.53128587, 273.2020172 ,\n         271.80337075, 270.31598375, 268.73513811, 267.07438374,\n         265.36553853, 263.65289788, 261.9700727 , 260.33419896,\n         258.74874199, 257.21471392, 255.733478  , 254.30674859,\n         252.9365912 , 252.9365912 , 251.81179276]),\n  array([181.88042479, 183.92463754, 186.18307666, 188.70258034,\n         191.47074381, 194.40252001, 197.3402196 , 200.08503309,\n         202.52311957, 202.52311957, 204.46599062]),\n  array([205.96537875, 205.97305864, 205.98098407, 205.98909201,\n         205.99731685, 206.00559039, 206.01384187, 206.02199798,\n         206.02998767, 206.03776179, 206.04529788, 206.04529788,\n         206.05217949]),\n  array([535.32941738, 540.18411394, 545.23557138, 550.45537404,\n         555.80838815, 561.2548243 , 566.75848714, 572.28883779,\n         577.8209939 , 583.3357296 , 588.81947552, 594.2643188 ,\n         599.66706643, 605.02549884, 610.33743324, 610.33743324,\n         615.83211933]),\n  array([362.7067555 , 361.54409697, 360.39533011, 359.26026089,\n         358.13838606, 357.02889315, 355.93066041, 354.84225689,\n         353.76194239, 352.68766747, 351.61707346, 350.54749244,\n         349.47594727, 348.39970342, 347.31847645, 346.23498382,\n         345.15494495, 344.08597747, 343.03318244, 341.9980406 ,\n         340.97161268, 339.90734046, 338.05395251, 331.31428609,\n         316.25943881, 302.94867947, 296.41867133, 293.96382911,\n         293.96382911, 293.01336066]),\n  array([227.56606832, 227.21714012, 226.19436504, 217.58183746,\n         188.64021606, 152.34958342, 131.96189138, 124.46070847,\n         122.53133425, 122.53133425, 122.38207733]),\n  array([124.09672968, 123.76795287, 123.44569081, 123.03176288,\n         121.91590075, 119.3204832 , 115.98053573, 113.61201115,\n         112.63241059, 112.13681976, 111.76909348, 111.42753039,\n         111.06164068, 110.672146  , 110.29391099, 109.92766912,\n         109.52295414, 108.9549342 , 107.93174818, 106.17753476,\n         104.25721241, 102.94660249, 101.0938516 ,  99.0269675 ,\n          97.39054489,  96.35829421,  95.69400637,  95.20365173,\n          94.82350476,  94.52054365,  94.26755016,  94.04286876,\n          93.82944301,  93.61457466,  93.38992363,  93.15150806,\n          92.89970427,  92.63924676,  92.37812626,  92.12318185,\n          91.87899901,  91.64790956,  91.42999176,  91.2230702 ,\n          91.02271588,  90.82288067,  90.61843519,  90.40580335,\n          90.18296229,  89.94944241,  89.70632738,  89.45625412,\n          89.20302343,  88.95004251,  88.69993557,  88.45454386,\n          88.21492563,  87.98135618,  87.75332781,  87.52970467,\n          87.52970467,  87.30143556]),\n  array([80.01970279, 79.86520204, 79.71333457, 79.53347036, 79.21206281,\n         78.61394949, 77.88413929, 77.36336934, 77.05225896, 76.86627439,\n         76.73944242, 76.62435036, 76.49214612, 76.33253812, 76.15379534,\n         75.97788132, 75.82099018, 75.68868065, 75.57587602, 75.46960978,\n         75.36000777, 75.24303381, 75.11948928, 74.9910116 , 74.85907382,\n         74.72498468, 74.58988853, 74.45476538, 74.45476538, 74.30913128]),\n  array([73.45409533, 73.03735326, 72.62853539, 72.2270794 , 71.83188071,\n         71.44140639, 71.0541507 , 70.66874905, 70.28397792, 69.89875493,\n         69.51213877, 69.12332929, 68.73166741, 68.33663517, 67.93785572,\n         67.53509331, 67.12825331, 66.71738221, 66.30266758, 65.88441918,\n         65.46299324, 65.03877351, 64.61217127, 64.18362534, 63.75360205,\n         63.32259529, 62.89112644, 62.45974445, 62.02902578, 61.59957442,\n         61.17202189, 60.74702724, 60.32527705, 59.90745975, 59.49416282,\n         59.08584712, 58.68284687, 58.28536967, 57.89349651, 57.50718172,\n         57.12625303, 56.75041153, 56.37923168, 56.37923168, 56.01701371]),\n  array([55.54821518, 55.66386898, 55.78050081, 55.89802528, 56.01631997,\n         56.13522542, 56.25455483, 56.3741329 , 56.49380554, 56.61343987,\n         56.73292422, 56.85216813, 56.97110235, 57.08967886, 57.20787081,\n         57.32567261, 57.44309982, 57.56018927, 57.67699897, 57.79360814,\n         57.91011128, 58.02659439, 58.14312903, 58.25977235, 58.37656703,\n         58.49354136, 58.49354136, 58.60884968]),\n  array([58.73882007, 58.7742177 , 58.80962919, 58.80962919, 58.84441991]),\n  array([59.48713625, 59.48091744, 59.47375643, 59.4638064 , 59.44317325,\n         59.40367957, 59.36063915, 59.33491603, 59.32128742, 59.31221143,\n         59.30512004, 59.30512004, 59.29927372]),\n  array([56.23151443, 55.07510158, 53.98485791, 52.94666302, 51.94775937,\n         51.94775937, 50.9285227 ]),\n  array([46.01892172, 45.5121836 , 44.99810662, 44.47714114, 43.95044199,\n         43.41972934, 42.88673199, 42.3530482 , 41.82014569, 41.28936163,\n         40.76190266, 40.23884488, 39.72113384, 39.72113384, 39.31441862]),\n  array([35.66745247, 35.46225673, 35.25592555, 35.04863288, 34.84071145,\n         34.63261546, 34.42477129, 34.21754025, 34.01121852, 33.8060372 ,\n         33.60216229, 33.39969466, 33.19868037, 32.99915163, 32.80113709,\n         32.60466183, 32.40974736, 32.21641162, 32.02466897, 31.83453023,\n         31.64600261, 31.45908977, 31.27379181, 31.09010525, 30.90802304,\n         30.72753455, 30.5486256 , 30.37127843, 30.19547171, 30.19547171,\n         30.03611906]),\n  array([27.2458672 , 27.14735345, 27.04871213, 26.94994398, 26.85106577,\n         26.75211022, 26.65312611, 26.55417817, 26.45534717, 26.35672985,\n         26.25843898, 26.16060332, 26.06336762, 25.96689264, 25.87135516,\n         25.77694793, 25.68386857, 25.59227494, 25.50227401, 25.50227401,\n         25.41491445]),\n  array([24.17844189, 24.12941143, 24.07675225, 24.01707491, 23.94687586,\n         23.86486529, 23.77254907, 23.67422878, 23.57611775, 23.48280547,\n         23.39637365, 23.31680916, 23.24365577, 23.17642706, 23.11460642,\n         23.11460642, 23.0617438 ]),\n  array([22.57067291, 22.57093319, 22.57121081, 22.5715064 , 22.57181926,\n         22.57214737, 22.57248738, 22.57283496, 22.5731861 , 22.5735375 ,\n         22.57388651, 22.57388651, 22.57416804]),\n  array([20.57834582, 20.59208037, 20.60581079, 20.61953308, 20.63324318,\n         20.64693694, 20.66061009, 20.67425828, 20.68787709, 20.68787709,\n         20.70118206]),\n  array([23.43843516, 23.40924749, 23.37727195, 23.33704183, 23.27996026,\n         23.1885752 , 23.01367933, 22.66858508, 22.06579248, 21.26366101,\n         20.45603579, 19.78408086, 19.29911108, 19.00208634, 18.85348511,\n         18.7853875 , 18.74980751, 18.72667583, 18.70743889, 18.70743889,\n         18.69069564]),\n  array([14.60420143, 14.64625185, 14.68789317, 14.72938726, 14.77102389,\n         14.82335753, 14.94815456, 15.23048669, 15.62615719, 15.97266774,\n         16.18565899, 16.29023848, 16.34288387, 16.38579032, 16.43990295,\n         16.5049168 , 16.56471307, 16.60910396, 16.63926884, 16.66593381,\n         16.70208967, 16.76117143, 16.85705834, 16.99719547, 17.15508028,\n         17.28320495, 17.37907166, 17.45194337, 17.50957632, 17.55822003,\n         17.60261732, 17.64600428, 17.64600428, 17.70017331]),\n  array([15.16354091, 15.06185247, 14.95339464, 14.838685  , 14.71897844,\n         14.59626714, 14.47328059, 14.35323336, 14.23881626, 14.13194413,\n         14.03375581, 13.94461415, 13.86410605, 13.86410605, 13.79246542]),\n  array([13.66903099, 13.71121918, 13.75529351, 13.80104653, 13.84819649,\n         13.89646164, 13.94557881, 13.99530343, 14.04540951, 14.09568964,\n         14.145955  , 14.19603537, 14.2457791 , 14.29505314, 14.343743  ,\n         14.3917528 , 14.43900524, 14.48544162, 14.5310218 , 14.57572424,\n         14.61954598, 14.66250267, 14.70462851, 14.74597631, 14.78661747,\n         14.78661747, 14.82581154]),\n  array([15.0837015 , 15.05312105, 15.01999261, 14.98156588, 14.93508066,\n         14.87998799, 14.81850547, 14.75561723, 14.69799476, 14.64968019,\n         14.61100717, 14.57930747, 14.55173772, 14.52598607, 14.50027215,\n         14.50027215, 14.46157609]),\n  array([14.2032149 , 14.15413279, 14.10451503, 14.05448083, 14.00414232,\n         13.95360455, 13.9029655 , 13.85231608, 13.80174012, 13.75131439,\n         13.70110857, 13.65118528, 13.60160006, 13.55240139, 13.50363066,\n         13.50363066, 13.45798021]),\n  array([12.61937786, 12.59070991, 12.55875872, 12.5222015 , 12.47979256,\n         12.43158598, 12.37924126, 12.32602333, 12.27618741, 12.23251847,\n         12.19571608, 12.16476261, 12.13839586, 12.13839586, 12.11542445]),\n  array([10.87253138, 10.88566366, 10.89896864, 10.91253459, 10.92643305,\n         10.94071886, 10.95543014, 10.97058833, 10.98619813, 11.00224754,\n         11.01870784, 11.03553363, 11.05266276, 11.07001639, 11.08750342,\n         11.10503817, 11.12254485, 11.13995754, 11.15722021, 11.17428672,\n         11.19112078, 11.207696  , 11.22399586, 11.24001373, 11.25575286,\n         11.27122635, 11.28645722, 11.30147835, 11.31632959, 11.33104619,\n         11.34565588, 11.34565588, 11.35990466]),\n  array([11.87326177, 11.88187235, 11.89056195, 11.89931316, 11.90810917,\n         11.91693377, 11.92577136, 11.93460694, 11.9434261 , 11.95221507,\n         11.96096065, 11.96965108, 11.97827942, 11.9868443 , 11.99535002,\n         12.00380648, 12.01222919, 12.02063931, 12.02906153, 12.03751581,\n         12.04601529, 12.05456632, 12.06316844, 12.07181436, 12.08049001,\n         12.08917589, 12.09785269, 12.10650266, 12.11510965, 12.11510965,\n         12.12487162]),\n  array([6.38876655, 6.5067917 , 6.62742103, 6.75071845, 6.87658235,\n         7.00472421, 7.1346685 , 7.1346685 , 7.22804212]),\n  array([8.97309638, 8.97961759, 8.98622403, 8.99293709, 8.99977218,\n         9.00673871, 9.01384006, 9.02107363, 9.02843081, 9.02843081,\n         9.03552124]),\n  array([9.4945293 , 9.45947542, 9.42531193, 9.39170112, 9.35817528,\n         9.32418038, 9.28925089, 9.2530535 , 9.2530535 , 9.211148  ]),\n  array([8.85380996, 8.75332263, 8.65146852, 8.54858621, 8.44499428,\n         8.34099129, 8.23685582, 8.13284641, 8.02920162, 8.02920162,\n         7.94810341]),\n  array([7.46285377, 7.45036082, 7.43807293, 7.42598354, 7.41408254,\n         7.40235631, 7.39078768, 7.379356  , 7.36803705, 7.35680426,\n         7.34563318, 7.34563318, 7.33542663]),\n  array([9.00437132, 8.95209609, 8.89763231, 8.8405079 , 8.78026767,\n         8.71671038, 8.64994791, 8.5804053 , 8.50882071, 8.43624549,\n         8.3640441 , 8.29377641, 8.22672673, 8.16378603, 8.10545194,\n         8.10545194, 8.05771114]),\n  array([7.81549193, 7.7484742 , 7.68839491, 7.62654419, 7.54084833,\n         7.40173248, 7.19557153, 6.93055272, 6.63667575, 6.35857397,\n         6.12679956, 5.95064481, 5.82186599, 5.729579  , 5.66398326,\n         5.66398326, 5.61306587]),\n  array([5.46658661, 5.53480838, 5.60962493, 5.68899889, 5.77095515,\n         5.85374222, 5.93583218, 6.01592069, 6.09292701, 6.09292701,\n         6.13112117]),\n  array([7.69678473, 7.57437742, 7.45096971, 7.32710237, 7.20332205,\n         7.08018128, 6.95823846, 6.83805788, 6.7202097 , 6.60526996,\n         6.4938206 , 6.38642752, 6.28355307, 6.18553417, 6.09258227,\n         6.09258227, 6.0077965 ]),\n  array([8.04591866, 7.54300826, 7.06520845, 6.62220995, 6.22016658,\n         5.86169514, 5.5458755 , 5.26825056, 5.0215358 , 4.79845756,\n         4.59246254, 4.59246254, 4.39861862]),\n  array([3.48832763, 3.47600571, 3.46315483, 3.44972651, 3.43571646,\n         3.42116461, 3.40615512, 3.39080579, 3.37522589, 3.35950564,\n         3.34371614, 3.32790946, 3.31211857, 3.29635734, 3.28062442,\n         3.28062442, 3.27177543]),\n  array([6.74164102, 6.95370303, 7.16662976, 7.37904577, 7.58940885,\n         7.58940885, 7.8109654 ]),\n  array([3.30164937, 3.43244611, 3.56786378, 3.70761217, 3.85122992,\n         3.99812674, 4.14775254, 4.14775254, 4.28370457]),\n  array([2.8320774 , 2.82180371, 2.81017826, 2.79736607, 2.78362502,\n         2.76928308, 2.75464725, 2.73998075, 2.72550306, 2.71138988,\n         2.69777317, 2.68474114, 2.67234353, 2.66061297, 2.64957025,\n         2.63922436, 2.62957245, 2.62059986, 2.61228011, 2.61228011,\n         2.60841261]),\n  array([3.28027555, 3.28894032, 3.29776673, 3.30691377, 3.31830754,\n         3.34262087, 3.39510286, 3.47191756, 3.55035702, 3.61335507,\n         3.6556158 , 3.68148715, 3.69645534, 3.70501852, 3.71068673,\n         3.71068673, 3.71753348]),\n  array([3.57886265, 3.54940803, 3.51560997, 3.47837822, 3.43904833,\n         3.39925649, 3.36043925, 3.32370837, 3.28985084, 3.25932889,\n         3.23227999, 3.23227999, 3.22309829]),\n  array([3.18073704, 3.17420274, 3.16818568, 3.1625525 , 3.15718749,\n         3.15199262, 3.14688756, 3.14688756, 3.14301024]),\n  array([4.27363791, 4.29936198, 4.32567088, 4.35254984, 4.37995995,\n         4.37995995, 4.40550861]),\n  array([3.66514592, 3.58536519, 3.50854858, 3.43432932, 3.36221724,\n         3.29159875, 3.22173686, 3.15177117, 3.08078631, 3.00808583,\n         2.93326064, 2.85618899, 2.77703651, 2.77703651, 2.72049682]),\n  array([2.78748696, 2.75240977, 2.71772865, 2.68366223, 2.65038697,\n         2.61803716, 2.58670486, 2.58670486, 2.56423367]),\n  array([3.04760781, 3.16105174, 3.28023717, 3.4056209 , 3.53752399,\n         3.67613178, 3.82149388, 3.82149388, 3.95510657]),\n  array([3.11622471, 3.09785036, 3.07716101, 3.05415696, 3.02903153,\n         3.00217105, 2.97415488, 2.94575538, 2.9178728 , 2.89127477,\n         2.86653117, 2.84401411, 2.82389795, 2.8061593 , 2.79057702,\n         2.77677129, 2.76436005, 2.75299805, 2.74237687, 2.74237687,\n         2.73349958]),\n  array([1.76675001, 1.74890635, 1.73090239, 1.71272219, 1.69436043,\n         1.6758224 , 1.65712404, 1.65712404, 1.64583345]),\n  array([1.80915532, 1.80013626, 1.79119307, 1.79119307, 1.78358001]),\n  array([2.59347396, 2.56296933, 2.5323226 , 2.50165879, 2.47109326,\n         2.44072686, 2.41064592, 2.38092229, 2.35161326, 2.35161326,\n         2.32576826]),\n  array([2.27007408, 2.26601019, 2.26104112, 2.2535309 , 2.24102241,\n         2.21979692, 2.18311213, 2.12076176, 2.02521959, 1.91621586,\n         1.83486599, 1.79560898, 1.78199248, 1.77787453, 1.77522396,\n         1.77522396, 1.77252389]),\n  array([2.85389358, 2.76041502, 2.66664696, 2.57277404, 2.47898845,\n         2.38546855, 2.2923735 , 2.2923735 , 2.19278772]),\n  array([1.96496838, 1.94821586, 1.9311711 , 1.91383493, 1.89620882,\n         1.8782949 , 1.86009592, 1.84162027, 1.82290199, 1.80400575,\n         1.78502683, 1.76609119, 1.74735539, 1.74735539, 1.73499431]),\n  array([1.32616213, 1.33014596, 1.33413189, 1.33811977, 1.34210948,\n         1.34610095, 1.35009391, 1.35408794, 1.3580824 , 1.36207647,\n         1.36606914, 1.36606914, 1.36943338])],\n 'xs_bl_in_reg': array([  31.,   32.,   33., ..., 2973., 2974., 2975.]),\n 'ys_bl_in_reg': array([ 13,  34, 179, ...,   1,   1,   0]),\n 'xs_bl_out_reg': array([0.000e+00, 1.000e+00, 2.000e+00, ..., 4.093e+03, 4.094e+03,\n        4.095e+03]),\n 'ys_bl_out_reg': array([368, 368, 368, ...,   0,   1,   0]),\n 'ws_bl_out_reg': array([0.0521286, 0.0521286, 0.0521286, ..., 1.       , 1.       ,\n        1.       ]),\n 'pk_parms': <peaksparms_class.PeaksParms at 0x7f4433284730>,\n 'fft_spec': array([], dtype=float64),\n 'widths_range': (1.0690476190475806, 8.092209690893895),\n 'widths_pair': (1.0690476190475806, 8.092209690893895)}"
     },
     "execution_count": 16,
     "metadata": {},
     "output_type": "execute_result"
    }
   ],
   "source": [
    "vars(test_spec.spec.gross_spec_ser_an)"
   ]
  },
  {
   "cell_type": "code",
   "execution_count": 17,
   "id": "c63f1e48",
   "metadata": {},
   "outputs": [
    {
     "data": {
      "text/plain": "{'peaks': array([  38,   54,   60,   99,  132,  149,  177,  183,  237,  244,  253,\n         270,  301,  315,  318,  335,  348,  408,  416,  426,  440,  454,\n         468,  491,  505,  519,  550,  565,  577,  582,  613,  623,  684,\n         729,  752,  801,  846,  875,  891,  934,  964, 1007, 1012, 1031,\n        1091, 1136, 1148, 1190, 1196, 1200, 1292, 1313, 1366, 1369, 1381,\n        1399, 1434, 1482, 1502, 1539, 1596, 1613, 1666, 1696, 1751, 1799,\n        1831, 1843, 1871, 1892, 1923, 1942, 2043, 2181, 2231, 2266, 2401,\n        2672, 2897, 2969]),\n 'pk_hei': array([], dtype=float64),\n 'widths': (None, None),\n 'mix_regions': array([], dtype=float64),\n 'plateaux': array([], dtype=float64),\n 'fwhm_plateaux': array([], dtype=float64),\n 'wide_regions': array([], dtype=float64),\n 'propts': {'peak_heights': array([1.1900e+03, 1.9825e+04, 5.2850e+03, 4.5900e+02, 3.7700e+02,\n         2.9800e+02, 6.0200e+02, 6.4700e+02, 3.7400e+02, 3.6300e+02,\n         4.6700e+03, 3.0242e+04, 1.3060e+03, 7.1200e+02, 8.1100e+02,\n         1.1400e+02, 1.1400e+02, 3.9800e+02, 9.9000e+01, 8.3000e+01,\n         7.6000e+01, 7.8000e+01, 8.1000e+01, 8.3000e+01, 7.4000e+01,\n         8.0000e+01, 4.2700e+02, 7.1000e+01, 6.7000e+01, 6.7000e+01,\n         5.7000e+01, 4.5000e+01, 4.1000e+01, 7.1000e+01, 4.9000e+01,\n         3.2000e+01, 9.0000e+02, 1.2500e+02, 5.5000e+01, 3.6000e+01,\n         3.0000e+01, 3.3000e+01, 2.1000e+01, 2.7000e+01, 4.1000e+01,\n         2.2000e+01, 2.2000e+01, 2.0000e+01, 2.2000e+01, 1.8000e+01,\n         3.2000e+01, 1.6000e+01, 1.5000e+01, 1.5000e+01, 1.9000e+01,\n         1.7000e+01, 2.4000e+01, 4.8000e+01, 2.5000e+01, 1.6000e+01,\n         2.3000e+01, 1.7000e+01, 1.6000e+01, 1.2000e+01, 1.9000e+01,\n         4.8000e+01, 3.1000e+01, 1.4000e+01, 1.1000e+01, 1.1000e+01,\n         1.1000e+01, 1.2000e+01, 1.6000e+01, 9.0000e+00, 1.1000e+01,\n         9.0000e+00, 7.4000e+01, 1.3000e+01, 1.1000e+01, 1.3000e+01]),\n  'left_thresholds': array([1.8400e+02, 1.0248e+04, 1.8800e+03, 8.0000e+01, 8.6000e+01,\n         1.0000e+01, 5.4000e+01, 2.5000e+01, 2.0000e+01, 3.1000e+01,\n         2.5920e+03, 6.2650e+03, 2.9000e+02, 1.2000e+01, 1.1100e+02,\n         1.4000e+01, 4.0000e+00, 7.6000e+01, 2.5000e+01, 2.2000e+01,\n         2.0000e+01, 9.0000e+00, 1.9000e+01, 2.4000e+01, 9.0000e+00,\n         3.3000e+01, 2.7000e+01, 1.5000e+01, 8.0000e+00, 1.4000e+01,\n         1.2000e+01, 9.0000e+00, 9.0000e+00, 1.6000e+01, 1.3000e+01,\n         1.0000e+01, 5.0000e+01, 2.8000e+01, 1.0000e+00, 4.0000e+00,\n         1.0000e+01, 6.0000e+00, 1.6000e+01, 1.0000e+01, 2.0000e+00,\n         2.0000e+00, 7.0000e+00, 1.1000e+01, 1.4000e+01, 2.0000e+00,\n         1.5000e+01, 7.0000e+00, 1.0000e+01, 6.0000e+00, 6.0000e+00,\n         6.0000e+00, 7.0000e+00, 1.1000e+01, 2.0000e+00, 6.0000e+00,\n         7.0000e+00, 7.0000e+00, 9.0000e+00, 5.0000e+00, 5.0000e+00,\n         6.0000e+00, 1.9000e+01, 5.0000e+00, 7.0000e+00, 5.0000e+00,\n         3.0000e+00, 1.0000e+01, 1.0000e+00, 6.0000e+00, 9.0000e+00,\n         5.0000e+00, 2.3000e+01, 6.0000e+00, 6.0000e+00, 6.0000e+00]),\n  'right_thresholds': array([2.4000e+02, 1.8130e+03, 5.6800e+02, 1.7000e+01, 2.7000e+01,\n         5.7000e+01, 8.5000e+01, 3.4000e+01, 3.6000e+01, 3.7000e+01,\n         5.5500e+02, 1.3469e+04, 4.3500e+02, 2.0400e+02, 1.9800e+02,\n         3.7000e+01, 1.5000e+01, 1.4500e+02, 1.2000e+01, 1.0000e+01,\n         1.2000e+01, 3.0000e+00, 1.4000e+01, 2.6000e+01, 2.1000e+01,\n         2.5000e+01, 1.5100e+02, 2.1000e+01, 2.1000e+01, 1.4000e+01,\n         1.8000e+01, 1.0000e+00, 2.0000e+01, 2.0000e+01, 1.7000e+01,\n         7.0000e+00, 9.1000e+01, 1.7000e+01, 1.9000e+01, 1.5000e+01,\n         6.0000e+00, 1.4000e+01, 3.0000e+00, 1.0000e+00, 2.1000e+01,\n         4.0000e+00, 1.3000e+01, 0.0000e+00, 1.2000e+01, 3.0000e+00,\n         1.8000e+01, 4.0000e+00, 9.0000e+00, 1.2000e+01, 7.0000e+00,\n         1.0000e+01, 3.0000e+00, 7.0000e+00, 1.5000e+01, 3.0000e+00,\n         9.0000e+00, 3.0000e+00, 1.0000e+01, 6.0000e+00, 7.0000e+00,\n         5.0000e+00, 2.0000e+00, 6.0000e+00, 6.0000e+00, 3.0000e+00,\n         8.0000e+00, 2.0000e+00, 6.0000e+00, 4.0000e+00, 1.0000e+01,\n         2.0000e+00, 9.0000e+00, 9.0000e+00, 0.0000e+00, 8.0000e+00]),\n  'prominences': array([7.9300e+02, 1.9683e+04, 1.9230e+03, 2.4300e+02, 1.8900e+02,\n         1.0700e+02, 8.5000e+01, 7.8000e+01, 6.1000e+01, 6.4000e+01,\n         4.4380e+03, 3.0242e+04, 1.2070e+03, 2.0400e+02, 6.8800e+02,\n         4.1000e+01, 5.1000e+01, 3.3700e+02, 3.5000e+01, 3.2000e+01,\n         2.7000e+01, 3.0000e+01, 3.6000e+01, 3.7000e+01, 2.7000e+01,\n         3.4000e+01, 3.8700e+02, 2.8000e+01, 3.0000e+01, 3.0000e+01,\n         2.7000e+01, 2.1000e+01, 2.1000e+01, 5.3000e+01, 3.6000e+01,\n         1.8000e+01, 8.8700e+02, 1.1800e+02, 4.9000e+01, 2.5000e+01,\n         2.2000e+01, 2.6000e+01, 1.6000e+01, 2.1000e+01, 3.6000e+01,\n         1.7000e+01, 1.7000e+01, 1.5000e+01, 1.9000e+01, 1.3000e+01,\n         2.9000e+01, 1.2000e+01, 1.2000e+01, 1.2000e+01, 1.5000e+01,\n         1.3000e+01, 2.0000e+01, 4.7000e+01, 2.1000e+01, 1.3000e+01,\n         2.1000e+01, 1.6000e+01, 1.4000e+01, 1.1000e+01, 1.7000e+01,\n         4.8000e+01, 3.1000e+01, 1.2000e+01, 1.0000e+01, 1.0000e+01,\n         1.0000e+01, 1.1000e+01, 1.6000e+01, 9.0000e+00, 1.1000e+01,\n         9.0000e+00, 7.4000e+01, 1.3000e+01, 1.1000e+01, 1.3000e+01]),\n  'left_bases': array([  30,   30,   58,   72,  125,  140,  125,  180,  233,  242,  125,\n           30,  275,  305,  305,  328,  341,  341,  413,  420,  437,  437,\n          459,  482,  496,  496,  482,  562,  571,  571,  602,  618,  648,\n          723,  738,  786,  786,  869,  885,  916,  946, 1003, 1011, 1023,\n         1023, 1129, 1129, 1174, 1174, 1198, 1261, 1302, 1348, 1348, 1370,\n         1391, 1370, 1261, 1495, 1534, 1556, 1605, 1623, 1679, 1679, 1679,\n         1825, 1841, 1863, 1886, 1897, 1934, 1976, 2129, 2220, 2236, 2366,\n         2659, 2889, 2964]),\n  'right_bases': array([  42,  125,  125,  125,  154,  154,  178,  247,  247,  247,  262,\n         1679, 1679,  316,  738,  341,  385,  482,  482,  482,  449,  459,\n          482,  496,  518,  535,  738,  738,  691,  691,  691,  691,  691,\n          738,  786,  808, 1679, 1679, 1679, 1011, 1003, 1011, 1023, 1065,\n         1261, 1261, 1261, 1194, 1261, 1261, 1348, 1348, 1370, 1370, 1391,\n         1408, 1446, 1679, 1679, 1551, 1679, 1679, 1679, 1730, 1768, 1825,\n         1976, 1976, 1886, 1897, 1928, 1976, 2118, 2191, 2236, 2281, 2423,\n         2681, 2916, 2975]),\n  'widths': array([3.41131757, 3.51875268, 1.8858415 , 4.57622739, 2.74434524,\n         2.88424867, 1.28703704, 3.64666667, 4.04459064, 1.8951679 ,\n         2.63113061, 2.67111015, 2.85614284, 1.78301887, 6.38449012,\n         3.09109109, 4.11401099, 2.77183249, 2.06666667, 2.27272727,\n         3.375     , 7.11363636, 4.51258581, 1.48237179, 5.11507937,\n         1.19515152, 3.19030018, 1.6       , 2.1031746 , 2.26785714,\n         1.86538462, 7.375     , 4.9       , 3.80681818, 2.78787879,\n         2.3       , 5.22003906, 3.8027668 , 4.2525    , 3.70833333,\n         6.25555556, 3.70634921, 2.        , 3.8       , 3.48214286,\n         6.62857143, 3.71634615, 3.93181818, 1.4702381 , 5.76623377,\n         1.77222222, 2.35714286, 1.26666667, 1.5       , 2.425     ,\n         3.2125    , 3.975     , 4.16071429, 2.40833333, 4.03571429,\n         2.75      , 4.04761905, 1.47777778, 2.16666667, 4.94805195,\n         4.22705314, 3.23245614, 2.14285714, 1.54761905, 3.66666667,\n         2.125     , 2.13333333, 5.        , 1.875     , 1.16111111,\n         2.525     , 4.09090909, 1.97222222, 3.66666667, 3.02678571]),\n  'width_heights': array([7.9350e+02, 9.9835e+03, 4.3235e+03, 3.3750e+02, 2.8250e+02,\n         2.4450e+02, 5.5950e+02, 6.0800e+02, 3.4350e+02, 3.3100e+02,\n         2.4510e+03, 1.5121e+04, 7.0250e+02, 6.1000e+02, 4.6700e+02,\n         9.3500e+01, 8.8500e+01, 2.2950e+02, 8.1500e+01, 6.7000e+01,\n         6.2500e+01, 6.3000e+01, 6.3000e+01, 6.4500e+01, 6.0500e+01,\n         6.3000e+01, 2.3350e+02, 5.7000e+01, 5.2000e+01, 5.2000e+01,\n         4.3500e+01, 3.4500e+01, 3.0500e+01, 4.4500e+01, 3.1000e+01,\n         2.3000e+01, 4.5650e+02, 6.6000e+01, 3.0500e+01, 2.3500e+01,\n         1.9000e+01, 2.0000e+01, 1.3000e+01, 1.6500e+01, 2.3000e+01,\n         1.3500e+01, 1.3500e+01, 1.2500e+01, 1.2500e+01, 1.1500e+01,\n         1.7500e+01, 1.0000e+01, 9.0000e+00, 9.0000e+00, 1.1500e+01,\n         1.0500e+01, 1.4000e+01, 2.4500e+01, 1.4500e+01, 9.5000e+00,\n         1.2500e+01, 9.0000e+00, 9.0000e+00, 6.5000e+00, 1.0500e+01,\n         2.4000e+01, 1.5500e+01, 8.0000e+00, 6.0000e+00, 6.0000e+00,\n         6.0000e+00, 6.5000e+00, 8.0000e+00, 4.5000e+00, 5.5000e+00,\n         4.5000e+00, 3.7000e+01, 6.5000e+00, 5.5000e+00, 6.5000e+00]),\n  'left_ips': array([  36.47788698,   53.03966628,   59.48856383,   97.03488372,\n          130.85833333,  147.05434783,  176.21296296,  180.52      ,\n          233.80263158,  242.96969697,  252.14390432,  268.48403636,\n          299.49271845,  313.71698113,  313.2672956 ,  332.46296296,\n          346.23214286,  406.43251534,  415.3       ,  425.27272727,\n          439.325     ,  449.63636364,  467.05263158,  490.22916667,\n          500.52777778,  518.48484848,  548.10483871,  564.06666667,\n          575.61111111,  580.85714286,  611.88461538,  618.525     ,\n          679.625     ,  727.625     ,  750.54545455,  800.1       ,\n          843.08564815,  873.43636364,  889.06      ,  931.125     ,\n          959.3       , 1004.22222222, 1011.5       , 1029.75      ,\n         1088.375     , 1134.07142857, 1144.9375    , 1189.31818182,\n         1195.32142857, 1198.59090909, 1291.03333333, 1312.14285714,\n         1365.4       , 1368.        , 1379.7       , 1396.4375    ,\n         1432.625     , 1480.375     , 1500.29166667, 1537.75      ,\n         1594.5       , 1610.66666667, 1665.22222222, 1694.75      ,\n         1748.64285714, 1797.2173913 , 1830.18421053, 1841.85714286,\n         1870.28571429, 1891.        , 1921.5       , 1941.45      ,\n         2040.        , 2180.25      , 2230.38888889, 2265.1       ,\n         2399.36363636, 2670.75      , 2896.08333333, 2966.78571429]),\n  'right_ips': array([  39.88920455,   56.55841896,   61.37440533,  101.61111111,\n          133.60267857,  149.93859649,  177.5       ,  184.16666667,\n          237.84722222,  244.86486486,  254.77503493,  271.15514651,\n          302.34886128,  315.5       ,  319.65178571,  335.55405405,\n          350.34615385,  409.20434783,  417.36666667,  427.54545455,\n          442.7       ,  456.75      ,  471.56521739,  491.71153846,\n          505.64285714,  519.68      ,  551.29513889,  565.66666667,\n          577.71428571,  583.125     ,  613.75      ,  625.9       ,\n          684.525     ,  731.43181818,  753.33333333,  802.4       ,\n          848.3056872 ,  877.23913043,  893.3125    ,  934.83333333,\n          965.55555556, 1007.92857143, 1013.5       , 1033.55      ,\n         1091.85714286, 1140.7       , 1148.65384615, 1193.25      ,\n         1196.79166667, 1204.35714286, 1292.80555556, 1314.5       ,\n         1366.66666667, 1369.5       , 1382.125     , 1399.65      ,\n         1436.6       , 1484.53571429, 1502.7       , 1541.78571429,\n         1597.25      , 1614.71428571, 1666.7       , 1696.91666667,\n         1753.59090909, 1801.44444444, 1833.41666667, 1844.        ,\n         1871.83333333, 1894.66666667, 1923.625     , 1943.58333333,\n         2045.        , 2182.125     , 2231.55      , 2267.625     ,\n         2403.45454545, 2672.72222222, 2899.75      , 2969.8125    ])}}"
     },
     "execution_count": 17,
     "metadata": {},
     "output_type": "execute_result"
    }
   ],
   "source": [
    "vars(test_spec.spec.gross_spec_ser_an.pk_parms)"
   ]
  },
  {
   "cell_type": "code",
   "execution_count": 18,
   "id": "04c00259",
   "metadata": {},
   "outputs": [],
   "source": [
    "gross_counts_graphics = CountsGraphic('Contagens brutas',\n",
    "                                      test_spec.spec.gross_spec_ser_an,\n",
    "                                      home_path,\n",
    "                                      'gross_counts')\n",
    "del gross_counts_graphics"
   ]
  },
  {
   "cell_type": "code",
   "execution_count": 19,
   "id": "4b85f765",
   "metadata": {},
   "outputs": [],
   "source": [
    "peaks_and_regions_graphic = PeaksAndRegionsGraphic(\n",
    "    'Picos e regiões',\n",
    "    test_spec.spec.gross_spec_ser_an,\n",
    "    home_path,\n",
    "    'gross_peaks'\n",
    ")\n",
    "del peaks_and_regions_graphic"
   ]
  },
  {
   "cell_type": "code",
   "execution_count": 20,
   "id": "ae3759d5",
   "metadata": {},
   "outputs": [],
   "source": [
    "base_line_graphic = BaselineGraphic(\n",
    "    'Nome para título da figura',\n",
    "    test_spec.spec.gross_spec_ser_an,\n",
    "    home_path)\n",
    "del base_line_graphic"
   ]
  },
  {
   "cell_type": "code",
   "execution_count": 21,
   "outputs": [],
   "source": [
    "net_counts_graphics = CountsGraphic('Contagens líquidas',\n",
    "                                    test_spec.spec.net_spec_ser_an,\n",
    "                                    home_path,\n",
    "                                    'net_counts')\n",
    "del net_counts_graphics"
   ],
   "metadata": {
    "collapsed": false
   }
  },
  {
   "cell_type": "code",
   "execution_count": 22,
   "outputs": [],
   "source": [
    "net_peaks_graphic = PeaksAndRegionsGraphic(\n",
    "    'Picos líquidos',\n",
    "    test_spec.spec.net_spec_ser_an,\n",
    "    home_path,\n",
    "    'net_peaks'\n",
    ")\n",
    "del net_peaks_graphic"
   ],
   "metadata": {
    "collapsed": false
   }
  },
  {
   "cell_type": "code",
   "execution_count": 23,
   "id": "929353b7",
   "metadata": {},
   "outputs": [
    {
     "data": {
      "text/plain": "[array([31., 32., 33., 34., 35., 36., 37., 38., 39., 40., 41., 42., 43.,\n        44., 45.]),\n array([47., 48., 49., 50., 51., 52., 53., 54., 55., 56., 57., 58., 59.,\n        60., 61., 62., 63., 64.]),\n array([ 90.,  91.,  92.,  93.,  94.,  95.,  96.,  97.,  98.,  99., 100.,\n        101., 102., 103., 104., 105., 106., 107., 108.]),\n array([127., 128., 129., 130., 131., 132., 133., 134., 135., 136., 137.]),\n array([143., 144., 145., 146., 147., 148., 149., 150., 151., 152., 153.,\n        154., 155.]),\n array([174., 175., 176., 177., 178., 179., 180., 181., 182., 183., 184.,\n        185., 186., 187., 188., 189., 190.]),\n array([229., 230., 231., 232., 233., 234., 235., 236., 237., 238., 239.,\n        240., 241., 242., 243., 244., 245., 246., 247., 248., 249., 250.,\n        251., 252., 253., 254., 255., 256., 257., 258.]),\n array([265., 266., 267., 268., 269., 270., 271., 272., 273., 274., 275.]),\n array([295., 296., 297., 298., 299., 300., 301., 302., 303., 304., 305.,\n        306., 307., 308., 309., 310., 311., 312., 313., 314., 315., 316.,\n        317., 318., 319., 320., 321., 322., 323., 324., 325., 326., 327.,\n        328., 329., 330., 331., 332., 333., 334., 335., 336., 337., 338.,\n        339., 340., 341., 342., 343., 344., 345., 346., 347., 348., 349.,\n        350., 351., 352., 353., 354., 355., 356.]),\n array([402., 403., 404., 405., 406., 407., 408., 409., 410., 411., 412.,\n        413., 414., 415., 416., 417., 418., 419., 420., 421., 422., 423.,\n        424., 425., 426., 427., 428., 429., 430., 431.]),\n array([433., 434., 435., 436., 437., 438., 439., 440., 441., 442., 443.,\n        444., 445., 446., 447., 448., 449., 450., 451., 452., 453., 454.,\n        455., 456., 457., 458., 459., 460., 461., 462., 463., 464., 465.,\n        466., 467., 468., 469., 470., 471., 472., 473., 474., 475., 476.,\n        477.]),\n array([488., 489., 490., 491., 492., 493., 494., 495., 496., 497., 498.,\n        499., 500., 501., 502., 503., 504., 505., 506., 507., 508., 509.,\n        510., 511., 512., 513., 514., 515.]),\n array([517., 518., 519., 520., 521.]),\n array([544., 545., 546., 547., 548., 549., 550., 551., 552., 553., 554.,\n        555., 556.]),\n array([562., 563., 564., 565., 566., 567., 568.]),\n array([573., 574., 575., 576., 577., 578., 579., 580., 581., 582., 583.,\n        584., 585., 586., 587.]),\n array([608., 609., 610., 611., 612., 613., 614., 615., 616., 617., 618.,\n        619., 620., 621., 622., 623., 624., 625., 626., 627., 628., 629.,\n        630., 631., 632., 633., 634., 635., 636., 637., 638.]),\n array([674., 675., 676., 677., 678., 679., 680., 681., 682., 683., 684.,\n        685., 686., 687., 688., 689., 690., 691., 692., 693., 694.]),\n array([721., 722., 723., 724., 725., 726., 727., 728., 729., 730., 731.,\n        732., 733., 734., 735., 736., 737.]),\n array([746., 747., 748., 749., 750., 751., 752., 753., 754., 755., 756.,\n        757., 758.]),\n array([796., 797., 798., 799., 800., 801., 802., 803., 804., 805., 806.]),\n array([836., 837., 838., 839., 840., 841., 842., 843., 844., 845., 846.,\n        847., 848., 849., 850., 851., 852., 853., 854., 855., 856.]),\n array([867., 868., 869., 870., 871., 872., 873., 874., 875., 876., 877.,\n        878., 879., 880., 881., 882., 883., 884., 885., 886., 887., 888.,\n        889., 890., 891., 892., 893., 894., 895., 896., 897., 898., 899.,\n        900.]),\n array([927., 928., 929., 930., 931., 932., 933., 934., 935., 936., 937.,\n        938., 939., 940., 941.]),\n array([951., 952., 953., 954., 955., 956., 957., 958., 959., 960., 961.,\n        962., 963., 964., 965., 966., 967., 968., 969., 970., 971., 972.,\n        973., 974., 975., 976., 977.]),\n array([1000., 1001., 1002., 1003., 1004., 1005., 1006., 1007., 1008.,\n        1009., 1010., 1011., 1012., 1013., 1014., 1015., 1016.]),\n array([1023., 1024., 1025., 1026., 1027., 1028., 1029., 1030., 1031.,\n        1032., 1033., 1034., 1035., 1036., 1037., 1038., 1039.]),\n array([1084., 1085., 1086., 1087., 1088., 1089., 1090., 1091., 1092.,\n        1093., 1094., 1095., 1096., 1097., 1098.]),\n array([1123., 1124., 1125., 1126., 1127., 1128., 1129., 1130., 1131.,\n        1132., 1133., 1134., 1135., 1136., 1137., 1138., 1139., 1140.,\n        1141., 1142., 1143., 1144., 1145., 1146., 1147., 1148., 1149.,\n        1150., 1151., 1152., 1153., 1154., 1155.]),\n array([1182., 1183., 1184., 1185., 1186., 1187., 1188., 1189., 1190.,\n        1191., 1192., 1193., 1194., 1195., 1196., 1197., 1198., 1199.,\n        1200., 1201., 1202., 1203., 1204., 1205., 1206., 1207., 1208.,\n        1209., 1210., 1211., 1212.]),\n array([1288., 1289., 1290., 1291., 1292., 1293., 1294., 1295., 1296.]),\n array([1308., 1309., 1310., 1311., 1312., 1313., 1314., 1315., 1316.,\n        1317., 1318.]),\n array([1363., 1364., 1365., 1366., 1367., 1368., 1369., 1370., 1371.,\n        1372.]),\n array([1376., 1377., 1378., 1379., 1380., 1381., 1382., 1383., 1384.,\n        1385., 1386.]),\n array([1393., 1394., 1395., 1396., 1397., 1398., 1399., 1400., 1401.,\n        1402., 1403., 1404., 1405.]),\n array([1426., 1427., 1428., 1429., 1430., 1431., 1432., 1433., 1434.,\n        1435., 1436., 1437., 1438., 1439., 1440., 1441., 1442.]),\n array([1474., 1475., 1476., 1477., 1478., 1479., 1480., 1481., 1482.,\n        1483., 1484., 1485., 1486., 1487., 1488., 1489., 1490.]),\n array([1497., 1498., 1499., 1500., 1501., 1502., 1503., 1504., 1505.,\n        1506., 1507.]),\n array([1531., 1532., 1533., 1534., 1535., 1536., 1537., 1538., 1539.,\n        1540., 1541., 1542., 1543., 1544., 1545., 1546., 1547.]),\n array([1590., 1591., 1592., 1593., 1594., 1595., 1596., 1597., 1598.,\n        1599., 1600., 1601., 1602.]),\n array([1605., 1606., 1607., 1608., 1609., 1610., 1611., 1612., 1613.,\n        1614., 1615., 1616., 1617., 1618., 1619., 1620., 1621.]),\n array([1663., 1664., 1665., 1666., 1667., 1668., 1669.]),\n array([1692., 1693., 1694., 1695., 1696., 1697., 1698., 1699., 1700.]),\n array([1741., 1742., 1743., 1744., 1745., 1746., 1747., 1748., 1749.,\n        1750., 1751., 1752., 1753., 1754., 1755., 1756., 1757., 1758.,\n        1759., 1760., 1761.]),\n array([1791., 1792., 1793., 1794., 1795., 1796., 1797., 1798., 1799.,\n        1800., 1801., 1802., 1803., 1804., 1805., 1806., 1807.]),\n array([1825., 1826., 1827., 1828., 1829., 1830., 1831., 1832., 1833.,\n        1834., 1835., 1836., 1837.]),\n array([1839., 1840., 1841., 1842., 1843., 1844., 1845., 1846., 1847.]),\n array([1868., 1869., 1870., 1871., 1872., 1873., 1874.]),\n array([1885., 1886., 1887., 1888., 1889., 1890., 1891., 1892., 1893.,\n        1894., 1895., 1896., 1897., 1898., 1899.]),\n array([1919., 1920., 1921., 1922., 1923., 1924., 1925., 1926., 1927.]),\n array([1938., 1939., 1940., 1941., 1942., 1943., 1944., 1945., 1946.]),\n array([2033., 2034., 2035., 2036., 2037., 2038., 2039., 2040., 2041.,\n        2042., 2043., 2044., 2045., 2046., 2047., 2048., 2049., 2050.,\n        2051., 2052., 2053.]),\n array([2177., 2178., 2179., 2180., 2181., 2182., 2183., 2184., 2185.]),\n array([2229., 2230., 2231., 2232., 2233.]),\n array([2261., 2262., 2263., 2264., 2265., 2266., 2267., 2268., 2269.,\n        2270., 2271.]),\n array([2393., 2394., 2395., 2396., 2397., 2398., 2399., 2400., 2401.,\n        2402., 2403., 2404., 2405., 2406., 2407., 2408., 2409.]),\n array([2668., 2669., 2670., 2671., 2672., 2673., 2674., 2675., 2676.]),\n array([2890., 2891., 2892., 2893., 2894., 2895., 2896., 2897., 2898.,\n        2899., 2900., 2901., 2902., 2903., 2904.]),\n array([2963., 2964., 2965., 2966., 2967., 2968., 2969., 2970., 2971.,\n        2972., 2973., 2974., 2975.])]"
     },
     "execution_count": 23,
     "metadata": {},
     "output_type": "execute_result"
    }
   ],
   "source": [
    "test_spec.spec.gross_spec_ser_an.chans_in_multiplets_list"
   ]
  },
  {
   "cell_type": "code",
   "execution_count": 24,
   "id": "b3636ab8",
   "metadata": {},
   "outputs": [
    {
     "data": {
      "text/plain": "[array([390.18507446, 390.70341171, 392.35308517, 395.78780124,\n        401.55585415, 410.03701383, 421.19007725, 434.11828827,\n        446.27184417, 455.82994236, 462.38915904, 466.96344921,\n        471.52019227, 471.52019227, 477.32916305]),\n array([487.6536149 , 487.08548427, 486.13907639, 484.55111832,\n        482.41881598, 479.12604985, 469.78374578, 451.82480373,\n        434.27316581, 421.73798426, 414.85087829, 411.65652424,\n        408.41666718, 403.47895788, 398.96575187, 395.50874958,\n        395.50874958, 395.13487679]),\n array([277.05627524, 275.81069106, 274.53128587, 273.2020172 ,\n        271.80337075, 270.31598375, 268.73513811, 267.07438374,\n        265.36553853, 263.65289788, 261.9700727 , 260.33419896,\n        258.74874199, 257.21471392, 255.733478  , 254.30674859,\n        252.9365912 , 252.9365912 , 251.81179276]),\n array([181.88042479, 183.92463754, 186.18307666, 188.70258034,\n        191.47074381, 194.40252001, 197.3402196 , 200.08503309,\n        202.52311957, 202.52311957, 204.46599062]),\n array([205.96537875, 205.97305864, 205.98098407, 205.98909201,\n        205.99731685, 206.00559039, 206.01384187, 206.02199798,\n        206.02998767, 206.03776179, 206.04529788, 206.04529788,\n        206.05217949]),\n array([535.32941738, 540.18411394, 545.23557138, 550.45537404,\n        555.80838815, 561.2548243 , 566.75848714, 572.28883779,\n        577.8209939 , 583.3357296 , 588.81947552, 594.2643188 ,\n        599.66706643, 605.02549884, 610.33743324, 610.33743324,\n        615.83211933]),\n array([362.7067555 , 361.54409697, 360.39533011, 359.26026089,\n        358.13838606, 357.02889315, 355.93066041, 354.84225689,\n        353.76194239, 352.68766747, 351.61707346, 350.54749244,\n        349.47594727, 348.39970342, 347.31847645, 346.23498382,\n        345.15494495, 344.08597747, 343.03318244, 341.9980406 ,\n        340.97161268, 339.90734046, 338.05395251, 331.31428609,\n        316.25943881, 302.94867947, 296.41867133, 293.96382911,\n        293.96382911, 293.01336066]),\n array([227.56606832, 227.21714012, 226.19436504, 217.58183746,\n        188.64021606, 152.34958342, 131.96189138, 124.46070847,\n        122.53133425, 122.53133425, 122.38207733]),\n array([124.09672968, 123.76795287, 123.44569081, 123.03176288,\n        121.91590075, 119.3204832 , 115.98053573, 113.61201115,\n        112.63241059, 112.13681976, 111.76909348, 111.42753039,\n        111.06164068, 110.672146  , 110.29391099, 109.92766912,\n        109.52295414, 108.9549342 , 107.93174818, 106.17753476,\n        104.25721241, 102.94660249, 101.0938516 ,  99.0269675 ,\n         97.39054489,  96.35829421,  95.69400637,  95.20365173,\n         94.82350476,  94.52054365,  94.26755016,  94.04286876,\n         93.82944301,  93.61457466,  93.38992363,  93.15150806,\n         92.89970427,  92.63924676,  92.37812626,  92.12318185,\n         91.87899901,  91.64790956,  91.42999176,  91.2230702 ,\n         91.02271588,  90.82288067,  90.61843519,  90.40580335,\n         90.18296229,  89.94944241,  89.70632738,  89.45625412,\n         89.20302343,  88.95004251,  88.69993557,  88.45454386,\n         88.21492563,  87.98135618,  87.75332781,  87.52970467,\n         87.52970467,  87.30143556]),\n array([80.01970279, 79.86520204, 79.71333457, 79.53347036, 79.21206281,\n        78.61394949, 77.88413929, 77.36336934, 77.05225896, 76.86627439,\n        76.73944242, 76.62435036, 76.49214612, 76.33253812, 76.15379534,\n        75.97788132, 75.82099018, 75.68868065, 75.57587602, 75.46960978,\n        75.36000777, 75.24303381, 75.11948928, 74.9910116 , 74.85907382,\n        74.72498468, 74.58988853, 74.45476538, 74.45476538, 74.30913128]),\n array([73.45409533, 73.03735326, 72.62853539, 72.2270794 , 71.83188071,\n        71.44140639, 71.0541507 , 70.66874905, 70.28397792, 69.89875493,\n        69.51213877, 69.12332929, 68.73166741, 68.33663517, 67.93785572,\n        67.53509331, 67.12825331, 66.71738221, 66.30266758, 65.88441918,\n        65.46299324, 65.03877351, 64.61217127, 64.18362534, 63.75360205,\n        63.32259529, 62.89112644, 62.45974445, 62.02902578, 61.59957442,\n        61.17202189, 60.74702724, 60.32527705, 59.90745975, 59.49416282,\n        59.08584712, 58.68284687, 58.28536967, 57.89349651, 57.50718172,\n        57.12625303, 56.75041153, 56.37923168, 56.37923168, 56.01701371]),\n array([55.54821518, 55.66386898, 55.78050081, 55.89802528, 56.01631997,\n        56.13522542, 56.25455483, 56.3741329 , 56.49380554, 56.61343987,\n        56.73292422, 56.85216813, 56.97110235, 57.08967886, 57.20787081,\n        57.32567261, 57.44309982, 57.56018927, 57.67699897, 57.79360814,\n        57.91011128, 58.02659439, 58.14312903, 58.25977235, 58.37656703,\n        58.49354136, 58.49354136, 58.60884968]),\n array([58.73882007, 58.7742177 , 58.80962919, 58.80962919, 58.84441991]),\n array([59.48713625, 59.48091744, 59.47375643, 59.4638064 , 59.44317325,\n        59.40367957, 59.36063915, 59.33491603, 59.32128742, 59.31221143,\n        59.30512004, 59.30512004, 59.29927372]),\n array([56.23151443, 55.07510158, 53.98485791, 52.94666302, 51.94775937,\n        51.94775937, 50.9285227 ]),\n array([46.01892172, 45.5121836 , 44.99810662, 44.47714114, 43.95044199,\n        43.41972934, 42.88673199, 42.3530482 , 41.82014569, 41.28936163,\n        40.76190266, 40.23884488, 39.72113384, 39.72113384, 39.31441862]),\n array([35.66745247, 35.46225673, 35.25592555, 35.04863288, 34.84071145,\n        34.63261546, 34.42477129, 34.21754025, 34.01121852, 33.8060372 ,\n        33.60216229, 33.39969466, 33.19868037, 32.99915163, 32.80113709,\n        32.60466183, 32.40974736, 32.21641162, 32.02466897, 31.83453023,\n        31.64600261, 31.45908977, 31.27379181, 31.09010525, 30.90802304,\n        30.72753455, 30.5486256 , 30.37127843, 30.19547171, 30.19547171,\n        30.03611906]),\n array([27.2458672 , 27.14735345, 27.04871213, 26.94994398, 26.85106577,\n        26.75211022, 26.65312611, 26.55417817, 26.45534717, 26.35672985,\n        26.25843898, 26.16060332, 26.06336762, 25.96689264, 25.87135516,\n        25.77694793, 25.68386857, 25.59227494, 25.50227401, 25.50227401,\n        25.41491445]),\n array([24.17844189, 24.12941143, 24.07675225, 24.01707491, 23.94687586,\n        23.86486529, 23.77254907, 23.67422878, 23.57611775, 23.48280547,\n        23.39637365, 23.31680916, 23.24365577, 23.17642706, 23.11460642,\n        23.11460642, 23.0617438 ]),\n array([22.57067291, 22.57093319, 22.57121081, 22.5715064 , 22.57181926,\n        22.57214737, 22.57248738, 22.57283496, 22.5731861 , 22.5735375 ,\n        22.57388651, 22.57388651, 22.57416804]),\n array([20.57834582, 20.59208037, 20.60581079, 20.61953308, 20.63324318,\n        20.64693694, 20.66061009, 20.67425828, 20.68787709, 20.68787709,\n        20.70118206]),\n array([23.43843516, 23.40924749, 23.37727195, 23.33704183, 23.27996026,\n        23.1885752 , 23.01367933, 22.66858508, 22.06579248, 21.26366101,\n        20.45603579, 19.78408086, 19.29911108, 19.00208634, 18.85348511,\n        18.7853875 , 18.74980751, 18.72667583, 18.70743889, 18.70743889,\n        18.69069564]),\n array([14.60420143, 14.64625185, 14.68789317, 14.72938726, 14.77102389,\n        14.82335753, 14.94815456, 15.23048669, 15.62615719, 15.97266774,\n        16.18565899, 16.29023848, 16.34288387, 16.38579032, 16.43990295,\n        16.5049168 , 16.56471307, 16.60910396, 16.63926884, 16.66593381,\n        16.70208967, 16.76117143, 16.85705834, 16.99719547, 17.15508028,\n        17.28320495, 17.37907166, 17.45194337, 17.50957632, 17.55822003,\n        17.60261732, 17.64600428, 17.64600428, 17.70017331]),\n array([15.16354091, 15.06185247, 14.95339464, 14.838685  , 14.71897844,\n        14.59626714, 14.47328059, 14.35323336, 14.23881626, 14.13194413,\n        14.03375581, 13.94461415, 13.86410605, 13.86410605, 13.79246542]),\n array([13.66903099, 13.71121918, 13.75529351, 13.80104653, 13.84819649,\n        13.89646164, 13.94557881, 13.99530343, 14.04540951, 14.09568964,\n        14.145955  , 14.19603537, 14.2457791 , 14.29505314, 14.343743  ,\n        14.3917528 , 14.43900524, 14.48544162, 14.5310218 , 14.57572424,\n        14.61954598, 14.66250267, 14.70462851, 14.74597631, 14.78661747,\n        14.78661747, 14.82581154]),\n array([15.0837015 , 15.05312105, 15.01999261, 14.98156588, 14.93508066,\n        14.87998799, 14.81850547, 14.75561723, 14.69799476, 14.64968019,\n        14.61100717, 14.57930747, 14.55173772, 14.52598607, 14.50027215,\n        14.50027215, 14.46157609]),\n array([14.2032149 , 14.15413279, 14.10451503, 14.05448083, 14.00414232,\n        13.95360455, 13.9029655 , 13.85231608, 13.80174012, 13.75131439,\n        13.70110857, 13.65118528, 13.60160006, 13.55240139, 13.50363066,\n        13.50363066, 13.45798021]),\n array([12.61937786, 12.59070991, 12.55875872, 12.5222015 , 12.47979256,\n        12.43158598, 12.37924126, 12.32602333, 12.27618741, 12.23251847,\n        12.19571608, 12.16476261, 12.13839586, 12.13839586, 12.11542445]),\n array([10.87253138, 10.88566366, 10.89896864, 10.91253459, 10.92643305,\n        10.94071886, 10.95543014, 10.97058833, 10.98619813, 11.00224754,\n        11.01870784, 11.03553363, 11.05266276, 11.07001639, 11.08750342,\n        11.10503817, 11.12254485, 11.13995754, 11.15722021, 11.17428672,\n        11.19112078, 11.207696  , 11.22399586, 11.24001373, 11.25575286,\n        11.27122635, 11.28645722, 11.30147835, 11.31632959, 11.33104619,\n        11.34565588, 11.34565588, 11.35990466]),\n array([11.87326177, 11.88187235, 11.89056195, 11.89931316, 11.90810917,\n        11.91693377, 11.92577136, 11.93460694, 11.9434261 , 11.95221507,\n        11.96096065, 11.96965108, 11.97827942, 11.9868443 , 11.99535002,\n        12.00380648, 12.01222919, 12.02063931, 12.02906153, 12.03751581,\n        12.04601529, 12.05456632, 12.06316844, 12.07181436, 12.08049001,\n        12.08917589, 12.09785269, 12.10650266, 12.11510965, 12.11510965,\n        12.12487162]),\n array([6.38876655, 6.5067917 , 6.62742103, 6.75071845, 6.87658235,\n        7.00472421, 7.1346685 , 7.1346685 , 7.22804212]),\n array([8.97309638, 8.97961759, 8.98622403, 8.99293709, 8.99977218,\n        9.00673871, 9.01384006, 9.02107363, 9.02843081, 9.02843081,\n        9.03552124]),\n array([9.4945293 , 9.45947542, 9.42531193, 9.39170112, 9.35817528,\n        9.32418038, 9.28925089, 9.2530535 , 9.2530535 , 9.211148  ]),\n array([8.85380996, 8.75332263, 8.65146852, 8.54858621, 8.44499428,\n        8.34099129, 8.23685582, 8.13284641, 8.02920162, 8.02920162,\n        7.94810341]),\n array([7.46285377, 7.45036082, 7.43807293, 7.42598354, 7.41408254,\n        7.40235631, 7.39078768, 7.379356  , 7.36803705, 7.35680426,\n        7.34563318, 7.34563318, 7.33542663]),\n array([9.00437132, 8.95209609, 8.89763231, 8.8405079 , 8.78026767,\n        8.71671038, 8.64994791, 8.5804053 , 8.50882071, 8.43624549,\n        8.3640441 , 8.29377641, 8.22672673, 8.16378603, 8.10545194,\n        8.10545194, 8.05771114]),\n array([7.81549193, 7.7484742 , 7.68839491, 7.62654419, 7.54084833,\n        7.40173248, 7.19557153, 6.93055272, 6.63667575, 6.35857397,\n        6.12679956, 5.95064481, 5.82186599, 5.729579  , 5.66398326,\n        5.66398326, 5.61306587]),\n array([5.46658661, 5.53480838, 5.60962493, 5.68899889, 5.77095515,\n        5.85374222, 5.93583218, 6.01592069, 6.09292701, 6.09292701,\n        6.13112117]),\n array([7.69678473, 7.57437742, 7.45096971, 7.32710237, 7.20332205,\n        7.08018128, 6.95823846, 6.83805788, 6.7202097 , 6.60526996,\n        6.4938206 , 6.38642752, 6.28355307, 6.18553417, 6.09258227,\n        6.09258227, 6.0077965 ]),\n array([8.04591866, 7.54300826, 7.06520845, 6.62220995, 6.22016658,\n        5.86169514, 5.5458755 , 5.26825056, 5.0215358 , 4.79845756,\n        4.59246254, 4.59246254, 4.39861862]),\n array([3.48832763, 3.47600571, 3.46315483, 3.44972651, 3.43571646,\n        3.42116461, 3.40615512, 3.39080579, 3.37522589, 3.35950564,\n        3.34371614, 3.32790946, 3.31211857, 3.29635734, 3.28062442,\n        3.28062442, 3.27177543]),\n array([6.74164102, 6.95370303, 7.16662976, 7.37904577, 7.58940885,\n        7.58940885, 7.8109654 ]),\n array([3.30164937, 3.43244611, 3.56786378, 3.70761217, 3.85122992,\n        3.99812674, 4.14775254, 4.14775254, 4.28370457]),\n array([2.8320774 , 2.82180371, 2.81017826, 2.79736607, 2.78362502,\n        2.76928308, 2.75464725, 2.73998075, 2.72550306, 2.71138988,\n        2.69777317, 2.68474114, 2.67234353, 2.66061297, 2.64957025,\n        2.63922436, 2.62957245, 2.62059986, 2.61228011, 2.61228011,\n        2.60841261]),\n array([3.28027555, 3.28894032, 3.29776673, 3.30691377, 3.31830754,\n        3.34262087, 3.39510286, 3.47191756, 3.55035702, 3.61335507,\n        3.6556158 , 3.68148715, 3.69645534, 3.70501852, 3.71068673,\n        3.71068673, 3.71753348]),\n array([3.57886265, 3.54940803, 3.51560997, 3.47837822, 3.43904833,\n        3.39925649, 3.36043925, 3.32370837, 3.28985084, 3.25932889,\n        3.23227999, 3.23227999, 3.22309829]),\n array([3.18073704, 3.17420274, 3.16818568, 3.1625525 , 3.15718749,\n        3.15199262, 3.14688756, 3.14688756, 3.14301024]),\n array([4.27363791, 4.29936198, 4.32567088, 4.35254984, 4.37995995,\n        4.37995995, 4.40550861]),\n array([3.66514592, 3.58536519, 3.50854858, 3.43432932, 3.36221724,\n        3.29159875, 3.22173686, 3.15177117, 3.08078631, 3.00808583,\n        2.93326064, 2.85618899, 2.77703651, 2.77703651, 2.72049682]),\n array([2.78748696, 2.75240977, 2.71772865, 2.68366223, 2.65038697,\n        2.61803716, 2.58670486, 2.58670486, 2.56423367]),\n array([3.04760781, 3.16105174, 3.28023717, 3.4056209 , 3.53752399,\n        3.67613178, 3.82149388, 3.82149388, 3.95510657]),\n array([3.11622471, 3.09785036, 3.07716101, 3.05415696, 3.02903153,\n        3.00217105, 2.97415488, 2.94575538, 2.9178728 , 2.89127477,\n        2.86653117, 2.84401411, 2.82389795, 2.8061593 , 2.79057702,\n        2.77677129, 2.76436005, 2.75299805, 2.74237687, 2.74237687,\n        2.73349958]),\n array([1.76675001, 1.74890635, 1.73090239, 1.71272219, 1.69436043,\n        1.6758224 , 1.65712404, 1.65712404, 1.64583345]),\n array([1.80915532, 1.80013626, 1.79119307, 1.79119307, 1.78358001]),\n array([2.59347396, 2.56296933, 2.5323226 , 2.50165879, 2.47109326,\n        2.44072686, 2.41064592, 2.38092229, 2.35161326, 2.35161326,\n        2.32576826]),\n array([2.27007408, 2.26601019, 2.26104112, 2.2535309 , 2.24102241,\n        2.21979692, 2.18311213, 2.12076176, 2.02521959, 1.91621586,\n        1.83486599, 1.79560898, 1.78199248, 1.77787453, 1.77522396,\n        1.77522396, 1.77252389]),\n array([2.85389358, 2.76041502, 2.66664696, 2.57277404, 2.47898845,\n        2.38546855, 2.2923735 , 2.2923735 , 2.19278772]),\n array([1.96496838, 1.94821586, 1.9311711 , 1.91383493, 1.89620882,\n        1.8782949 , 1.86009592, 1.84162027, 1.82290199, 1.80400575,\n        1.78502683, 1.76609119, 1.74735539, 1.74735539, 1.73499431]),\n array([1.32616213, 1.33014596, 1.33413189, 1.33811977, 1.34210948,\n        1.34610095, 1.35009391, 1.35408794, 1.3580824 , 1.36207647,\n        1.36606914, 1.36606914, 1.36943338])]"
     },
     "execution_count": 24,
     "metadata": {},
     "output_type": "execute_result"
    }
   ],
   "source": [
    "test_spec.spec.gross_spec_ser_an.calculated_step_counts"
   ]
  },
  {
   "cell_type": "code",
   "execution_count": 25,
   "id": "594ecefd",
   "metadata": {},
   "outputs": [],
   "source": [
    "graph_test = GenericGraphics(test_spec.spec.f_name,\n",
    "                             home_path,\n",
    "                             'steps_graph',\n",
    "                             test_spec.spec.gross_spec_ser_an.x_s,\n",
    "                             test_spec.spec.gross_spec_ser_an.eval_baseline,\n",
    "                             test_spec.spec.gross_spec_ser_an.chans_in_multiplets_list,\n",
    "                             test_spec.spec.gross_spec_ser_an.calculated_step_counts)"
   ]
  },
  {
   "cell_type": "code",
   "execution_count": 25,
   "outputs": [],
   "source": [],
   "metadata": {
    "collapsed": false
   }
  },
  {
   "cell_type": "code",
   "execution_count": 26,
   "outputs": [
    {
     "data": {
      "text/plain": "[array([31., 32., 33., 34., 35., 36., 37., 38., 39., 40., 41., 42., 43.,\n        44., 45.]),\n array([47., 48., 49., 50., 51., 52., 53., 54., 55., 56., 57., 58., 59.,\n        60., 61., 62., 63., 64.]),\n array([ 90.,  91.,  92.,  93.,  94.,  95.,  96.,  97.,  98.,  99., 100.,\n        101., 102., 103., 104., 105., 106., 107., 108.]),\n array([127., 128., 129., 130., 131., 132., 133., 134., 135., 136., 137.]),\n array([143., 144., 145., 146., 147., 148., 149., 150., 151., 152., 153.,\n        154., 155.]),\n array([174., 175., 176., 177., 178., 179., 180., 181., 182., 183., 184.,\n        185., 186., 187., 188., 189., 190.]),\n array([229., 230., 231., 232., 233., 234., 235., 236., 237., 238., 239.,\n        240., 241., 242., 243., 244., 245., 246., 247., 248., 249., 250.,\n        251., 252., 253., 254., 255., 256., 257., 258.]),\n array([265., 266., 267., 268., 269., 270., 271., 272., 273., 274., 275.]),\n array([295., 296., 297., 298., 299., 300., 301., 302., 303., 304., 305.,\n        306., 307., 308., 309., 310., 311., 312., 313., 314., 315., 316.,\n        317., 318., 319., 320., 321., 322., 323., 324., 325., 326., 327.,\n        328., 329., 330., 331., 332., 333., 334., 335., 336., 337., 338.,\n        339., 340., 341., 342., 343., 344., 345., 346., 347., 348., 349.,\n        350., 351., 352., 353., 354., 355., 356.]),\n array([402., 403., 404., 405., 406., 407., 408., 409., 410., 411., 412.,\n        413., 414., 415., 416., 417., 418., 419., 420., 421., 422., 423.,\n        424., 425., 426., 427., 428., 429., 430., 431.]),\n array([433., 434., 435., 436., 437., 438., 439., 440., 441., 442., 443.,\n        444., 445., 446., 447., 448., 449., 450., 451., 452., 453., 454.,\n        455., 456., 457., 458., 459., 460., 461., 462., 463., 464., 465.,\n        466., 467., 468., 469., 470., 471., 472., 473., 474., 475., 476.,\n        477.]),\n array([488., 489., 490., 491., 492., 493., 494., 495., 496., 497., 498.,\n        499., 500., 501., 502., 503., 504., 505., 506., 507., 508., 509.,\n        510., 511., 512., 513., 514., 515.]),\n array([517., 518., 519., 520., 521.]),\n array([544., 545., 546., 547., 548., 549., 550., 551., 552., 553., 554.,\n        555., 556.]),\n array([562., 563., 564., 565., 566., 567., 568.]),\n array([573., 574., 575., 576., 577., 578., 579., 580., 581., 582., 583.,\n        584., 585., 586., 587.]),\n array([608., 609., 610., 611., 612., 613., 614., 615., 616., 617., 618.,\n        619., 620., 621., 622., 623., 624., 625., 626., 627., 628., 629.,\n        630., 631., 632., 633., 634., 635., 636., 637., 638.]),\n array([674., 675., 676., 677., 678., 679., 680., 681., 682., 683., 684.,\n        685., 686., 687., 688., 689., 690., 691., 692., 693., 694.]),\n array([721., 722., 723., 724., 725., 726., 727., 728., 729., 730., 731.,\n        732., 733., 734., 735., 736., 737.]),\n array([746., 747., 748., 749., 750., 751., 752., 753., 754., 755., 756.,\n        757., 758.]),\n array([796., 797., 798., 799., 800., 801., 802., 803., 804., 805., 806.]),\n array([836., 837., 838., 839., 840., 841., 842., 843., 844., 845., 846.,\n        847., 848., 849., 850., 851., 852., 853., 854., 855., 856.]),\n array([867., 868., 869., 870., 871., 872., 873., 874., 875., 876., 877.,\n        878., 879., 880., 881., 882., 883., 884., 885., 886., 887., 888.,\n        889., 890., 891., 892., 893., 894., 895., 896., 897., 898., 899.,\n        900.]),\n array([927., 928., 929., 930., 931., 932., 933., 934., 935., 936., 937.,\n        938., 939., 940., 941.]),\n array([951., 952., 953., 954., 955., 956., 957., 958., 959., 960., 961.,\n        962., 963., 964., 965., 966., 967., 968., 969., 970., 971., 972.,\n        973., 974., 975., 976., 977.]),\n array([1000., 1001., 1002., 1003., 1004., 1005., 1006., 1007., 1008.,\n        1009., 1010., 1011., 1012., 1013., 1014., 1015., 1016.]),\n array([1023., 1024., 1025., 1026., 1027., 1028., 1029., 1030., 1031.,\n        1032., 1033., 1034., 1035., 1036., 1037., 1038., 1039.]),\n array([1084., 1085., 1086., 1087., 1088., 1089., 1090., 1091., 1092.,\n        1093., 1094., 1095., 1096., 1097., 1098.]),\n array([1123., 1124., 1125., 1126., 1127., 1128., 1129., 1130., 1131.,\n        1132., 1133., 1134., 1135., 1136., 1137., 1138., 1139., 1140.,\n        1141., 1142., 1143., 1144., 1145., 1146., 1147., 1148., 1149.,\n        1150., 1151., 1152., 1153., 1154., 1155.]),\n array([1182., 1183., 1184., 1185., 1186., 1187., 1188., 1189., 1190.,\n        1191., 1192., 1193., 1194., 1195., 1196., 1197., 1198., 1199.,\n        1200., 1201., 1202., 1203., 1204., 1205., 1206., 1207., 1208.,\n        1209., 1210., 1211., 1212.]),\n array([1288., 1289., 1290., 1291., 1292., 1293., 1294., 1295., 1296.]),\n array([1308., 1309., 1310., 1311., 1312., 1313., 1314., 1315., 1316.,\n        1317., 1318.]),\n array([1363., 1364., 1365., 1366., 1367., 1368., 1369., 1370., 1371.,\n        1372.]),\n array([1376., 1377., 1378., 1379., 1380., 1381., 1382., 1383., 1384.,\n        1385., 1386.]),\n array([1393., 1394., 1395., 1396., 1397., 1398., 1399., 1400., 1401.,\n        1402., 1403., 1404., 1405.]),\n array([1426., 1427., 1428., 1429., 1430., 1431., 1432., 1433., 1434.,\n        1435., 1436., 1437., 1438., 1439., 1440., 1441., 1442.]),\n array([1474., 1475., 1476., 1477., 1478., 1479., 1480., 1481., 1482.,\n        1483., 1484., 1485., 1486., 1487., 1488., 1489., 1490.]),\n array([1497., 1498., 1499., 1500., 1501., 1502., 1503., 1504., 1505.,\n        1506., 1507.]),\n array([1531., 1532., 1533., 1534., 1535., 1536., 1537., 1538., 1539.,\n        1540., 1541., 1542., 1543., 1544., 1545., 1546., 1547.]),\n array([1590., 1591., 1592., 1593., 1594., 1595., 1596., 1597., 1598.,\n        1599., 1600., 1601., 1602.]),\n array([1605., 1606., 1607., 1608., 1609., 1610., 1611., 1612., 1613.,\n        1614., 1615., 1616., 1617., 1618., 1619., 1620., 1621.]),\n array([1663., 1664., 1665., 1666., 1667., 1668., 1669.]),\n array([1692., 1693., 1694., 1695., 1696., 1697., 1698., 1699., 1700.]),\n array([1741., 1742., 1743., 1744., 1745., 1746., 1747., 1748., 1749.,\n        1750., 1751., 1752., 1753., 1754., 1755., 1756., 1757., 1758.,\n        1759., 1760., 1761.]),\n array([1791., 1792., 1793., 1794., 1795., 1796., 1797., 1798., 1799.,\n        1800., 1801., 1802., 1803., 1804., 1805., 1806., 1807.]),\n array([1825., 1826., 1827., 1828., 1829., 1830., 1831., 1832., 1833.,\n        1834., 1835., 1836., 1837.]),\n array([1839., 1840., 1841., 1842., 1843., 1844., 1845., 1846., 1847.]),\n array([1868., 1869., 1870., 1871., 1872., 1873., 1874.]),\n array([1885., 1886., 1887., 1888., 1889., 1890., 1891., 1892., 1893.,\n        1894., 1895., 1896., 1897., 1898., 1899.]),\n array([1919., 1920., 1921., 1922., 1923., 1924., 1925., 1926., 1927.]),\n array([1938., 1939., 1940., 1941., 1942., 1943., 1944., 1945., 1946.]),\n array([2033., 2034., 2035., 2036., 2037., 2038., 2039., 2040., 2041.,\n        2042., 2043., 2044., 2045., 2046., 2047., 2048., 2049., 2050.,\n        2051., 2052., 2053.]),\n array([2177., 2178., 2179., 2180., 2181., 2182., 2183., 2184., 2185.]),\n array([2229., 2230., 2231., 2232., 2233.]),\n array([2261., 2262., 2263., 2264., 2265., 2266., 2267., 2268., 2269.,\n        2270., 2271.]),\n array([2393., 2394., 2395., 2396., 2397., 2398., 2399., 2400., 2401.,\n        2402., 2403., 2404., 2405., 2406., 2407., 2408., 2409.]),\n array([2668., 2669., 2670., 2671., 2672., 2673., 2674., 2675., 2676.]),\n array([2890., 2891., 2892., 2893., 2894., 2895., 2896., 2897., 2898.,\n        2899., 2900., 2901., 2902., 2903., 2904.]),\n array([2963., 2964., 2965., 2966., 2967., 2968., 2969., 2970., 2971.,\n        2972., 2973., 2974., 2975.])]"
     },
     "execution_count": 26,
     "metadata": {},
     "output_type": "execute_result"
    }
   ],
   "source": [
    "test_spec.spec.gross_spec_ser_an.chans_in_multiplets_list"
   ],
   "metadata": {
    "collapsed": false
   }
  },
  {
   "cell_type": "code",
   "execution_count": 27,
   "outputs": [
    {
     "data": {
      "text/plain": "[array([390.18507446, 390.70341171, 392.35308517, 395.78780124,\n        401.55585415, 410.03701383, 421.19007725, 434.11828827,\n        446.27184417, 455.82994236, 462.38915904, 466.96344921,\n        471.52019227, 471.52019227, 477.32916305]),\n array([487.6536149 , 487.08548427, 486.13907639, 484.55111832,\n        482.41881598, 479.12604985, 469.78374578, 451.82480373,\n        434.27316581, 421.73798426, 414.85087829, 411.65652424,\n        408.41666718, 403.47895788, 398.96575187, 395.50874958,\n        395.50874958, 395.13487679]),\n array([277.05627524, 275.81069106, 274.53128587, 273.2020172 ,\n        271.80337075, 270.31598375, 268.73513811, 267.07438374,\n        265.36553853, 263.65289788, 261.9700727 , 260.33419896,\n        258.74874199, 257.21471392, 255.733478  , 254.30674859,\n        252.9365912 , 252.9365912 , 251.81179276]),\n array([181.88042479, 183.92463754, 186.18307666, 188.70258034,\n        191.47074381, 194.40252001, 197.3402196 , 200.08503309,\n        202.52311957, 202.52311957, 204.46599062]),\n array([205.96537875, 205.97305864, 205.98098407, 205.98909201,\n        205.99731685, 206.00559039, 206.01384187, 206.02199798,\n        206.02998767, 206.03776179, 206.04529788, 206.04529788,\n        206.05217949]),\n array([535.32941738, 540.18411394, 545.23557138, 550.45537404,\n        555.80838815, 561.2548243 , 566.75848714, 572.28883779,\n        577.8209939 , 583.3357296 , 588.81947552, 594.2643188 ,\n        599.66706643, 605.02549884, 610.33743324, 610.33743324,\n        615.83211933]),\n array([362.7067555 , 361.54409697, 360.39533011, 359.26026089,\n        358.13838606, 357.02889315, 355.93066041, 354.84225689,\n        353.76194239, 352.68766747, 351.61707346, 350.54749244,\n        349.47594727, 348.39970342, 347.31847645, 346.23498382,\n        345.15494495, 344.08597747, 343.03318244, 341.9980406 ,\n        340.97161268, 339.90734046, 338.05395251, 331.31428609,\n        316.25943881, 302.94867947, 296.41867133, 293.96382911,\n        293.96382911, 293.01336066]),\n array([227.56606832, 227.21714012, 226.19436504, 217.58183746,\n        188.64021606, 152.34958342, 131.96189138, 124.46070847,\n        122.53133425, 122.53133425, 122.38207733]),\n array([124.09672968, 123.76795287, 123.44569081, 123.03176288,\n        121.91590075, 119.3204832 , 115.98053573, 113.61201115,\n        112.63241059, 112.13681976, 111.76909348, 111.42753039,\n        111.06164068, 110.672146  , 110.29391099, 109.92766912,\n        109.52295414, 108.9549342 , 107.93174818, 106.17753476,\n        104.25721241, 102.94660249, 101.0938516 ,  99.0269675 ,\n         97.39054489,  96.35829421,  95.69400637,  95.20365173,\n         94.82350476,  94.52054365,  94.26755016,  94.04286876,\n         93.82944301,  93.61457466,  93.38992363,  93.15150806,\n         92.89970427,  92.63924676,  92.37812626,  92.12318185,\n         91.87899901,  91.64790956,  91.42999176,  91.2230702 ,\n         91.02271588,  90.82288067,  90.61843519,  90.40580335,\n         90.18296229,  89.94944241,  89.70632738,  89.45625412,\n         89.20302343,  88.95004251,  88.69993557,  88.45454386,\n         88.21492563,  87.98135618,  87.75332781,  87.52970467,\n         87.52970467,  87.30143556]),\n array([80.01970279, 79.86520204, 79.71333457, 79.53347036, 79.21206281,\n        78.61394949, 77.88413929, 77.36336934, 77.05225896, 76.86627439,\n        76.73944242, 76.62435036, 76.49214612, 76.33253812, 76.15379534,\n        75.97788132, 75.82099018, 75.68868065, 75.57587602, 75.46960978,\n        75.36000777, 75.24303381, 75.11948928, 74.9910116 , 74.85907382,\n        74.72498468, 74.58988853, 74.45476538, 74.45476538, 74.30913128]),\n array([73.45409533, 73.03735326, 72.62853539, 72.2270794 , 71.83188071,\n        71.44140639, 71.0541507 , 70.66874905, 70.28397792, 69.89875493,\n        69.51213877, 69.12332929, 68.73166741, 68.33663517, 67.93785572,\n        67.53509331, 67.12825331, 66.71738221, 66.30266758, 65.88441918,\n        65.46299324, 65.03877351, 64.61217127, 64.18362534, 63.75360205,\n        63.32259529, 62.89112644, 62.45974445, 62.02902578, 61.59957442,\n        61.17202189, 60.74702724, 60.32527705, 59.90745975, 59.49416282,\n        59.08584712, 58.68284687, 58.28536967, 57.89349651, 57.50718172,\n        57.12625303, 56.75041153, 56.37923168, 56.37923168, 56.01701371]),\n array([55.54821518, 55.66386898, 55.78050081, 55.89802528, 56.01631997,\n        56.13522542, 56.25455483, 56.3741329 , 56.49380554, 56.61343987,\n        56.73292422, 56.85216813, 56.97110235, 57.08967886, 57.20787081,\n        57.32567261, 57.44309982, 57.56018927, 57.67699897, 57.79360814,\n        57.91011128, 58.02659439, 58.14312903, 58.25977235, 58.37656703,\n        58.49354136, 58.49354136, 58.60884968]),\n array([58.73882007, 58.7742177 , 58.80962919, 58.80962919, 58.84441991]),\n array([59.48713625, 59.48091744, 59.47375643, 59.4638064 , 59.44317325,\n        59.40367957, 59.36063915, 59.33491603, 59.32128742, 59.31221143,\n        59.30512004, 59.30512004, 59.29927372]),\n array([56.23151443, 55.07510158, 53.98485791, 52.94666302, 51.94775937,\n        51.94775937, 50.9285227 ]),\n array([46.01892172, 45.5121836 , 44.99810662, 44.47714114, 43.95044199,\n        43.41972934, 42.88673199, 42.3530482 , 41.82014569, 41.28936163,\n        40.76190266, 40.23884488, 39.72113384, 39.72113384, 39.31441862]),\n array([35.66745247, 35.46225673, 35.25592555, 35.04863288, 34.84071145,\n        34.63261546, 34.42477129, 34.21754025, 34.01121852, 33.8060372 ,\n        33.60216229, 33.39969466, 33.19868037, 32.99915163, 32.80113709,\n        32.60466183, 32.40974736, 32.21641162, 32.02466897, 31.83453023,\n        31.64600261, 31.45908977, 31.27379181, 31.09010525, 30.90802304,\n        30.72753455, 30.5486256 , 30.37127843, 30.19547171, 30.19547171,\n        30.03611906]),\n array([27.2458672 , 27.14735345, 27.04871213, 26.94994398, 26.85106577,\n        26.75211022, 26.65312611, 26.55417817, 26.45534717, 26.35672985,\n        26.25843898, 26.16060332, 26.06336762, 25.96689264, 25.87135516,\n        25.77694793, 25.68386857, 25.59227494, 25.50227401, 25.50227401,\n        25.41491445]),\n array([24.17844189, 24.12941143, 24.07675225, 24.01707491, 23.94687586,\n        23.86486529, 23.77254907, 23.67422878, 23.57611775, 23.48280547,\n        23.39637365, 23.31680916, 23.24365577, 23.17642706, 23.11460642,\n        23.11460642, 23.0617438 ]),\n array([22.57067291, 22.57093319, 22.57121081, 22.5715064 , 22.57181926,\n        22.57214737, 22.57248738, 22.57283496, 22.5731861 , 22.5735375 ,\n        22.57388651, 22.57388651, 22.57416804]),\n array([20.57834582, 20.59208037, 20.60581079, 20.61953308, 20.63324318,\n        20.64693694, 20.66061009, 20.67425828, 20.68787709, 20.68787709,\n        20.70118206]),\n array([23.43843516, 23.40924749, 23.37727195, 23.33704183, 23.27996026,\n        23.1885752 , 23.01367933, 22.66858508, 22.06579248, 21.26366101,\n        20.45603579, 19.78408086, 19.29911108, 19.00208634, 18.85348511,\n        18.7853875 , 18.74980751, 18.72667583, 18.70743889, 18.70743889,\n        18.69069564]),\n array([14.60420143, 14.64625185, 14.68789317, 14.72938726, 14.77102389,\n        14.82335753, 14.94815456, 15.23048669, 15.62615719, 15.97266774,\n        16.18565899, 16.29023848, 16.34288387, 16.38579032, 16.43990295,\n        16.5049168 , 16.56471307, 16.60910396, 16.63926884, 16.66593381,\n        16.70208967, 16.76117143, 16.85705834, 16.99719547, 17.15508028,\n        17.28320495, 17.37907166, 17.45194337, 17.50957632, 17.55822003,\n        17.60261732, 17.64600428, 17.64600428, 17.70017331]),\n array([15.16354091, 15.06185247, 14.95339464, 14.838685  , 14.71897844,\n        14.59626714, 14.47328059, 14.35323336, 14.23881626, 14.13194413,\n        14.03375581, 13.94461415, 13.86410605, 13.86410605, 13.79246542]),\n array([13.66903099, 13.71121918, 13.75529351, 13.80104653, 13.84819649,\n        13.89646164, 13.94557881, 13.99530343, 14.04540951, 14.09568964,\n        14.145955  , 14.19603537, 14.2457791 , 14.29505314, 14.343743  ,\n        14.3917528 , 14.43900524, 14.48544162, 14.5310218 , 14.57572424,\n        14.61954598, 14.66250267, 14.70462851, 14.74597631, 14.78661747,\n        14.78661747, 14.82581154]),\n array([15.0837015 , 15.05312105, 15.01999261, 14.98156588, 14.93508066,\n        14.87998799, 14.81850547, 14.75561723, 14.69799476, 14.64968019,\n        14.61100717, 14.57930747, 14.55173772, 14.52598607, 14.50027215,\n        14.50027215, 14.46157609]),\n array([14.2032149 , 14.15413279, 14.10451503, 14.05448083, 14.00414232,\n        13.95360455, 13.9029655 , 13.85231608, 13.80174012, 13.75131439,\n        13.70110857, 13.65118528, 13.60160006, 13.55240139, 13.50363066,\n        13.50363066, 13.45798021]),\n array([12.61937786, 12.59070991, 12.55875872, 12.5222015 , 12.47979256,\n        12.43158598, 12.37924126, 12.32602333, 12.27618741, 12.23251847,\n        12.19571608, 12.16476261, 12.13839586, 12.13839586, 12.11542445]),\n array([10.87253138, 10.88566366, 10.89896864, 10.91253459, 10.92643305,\n        10.94071886, 10.95543014, 10.97058833, 10.98619813, 11.00224754,\n        11.01870784, 11.03553363, 11.05266276, 11.07001639, 11.08750342,\n        11.10503817, 11.12254485, 11.13995754, 11.15722021, 11.17428672,\n        11.19112078, 11.207696  , 11.22399586, 11.24001373, 11.25575286,\n        11.27122635, 11.28645722, 11.30147835, 11.31632959, 11.33104619,\n        11.34565588, 11.34565588, 11.35990466]),\n array([11.87326177, 11.88187235, 11.89056195, 11.89931316, 11.90810917,\n        11.91693377, 11.92577136, 11.93460694, 11.9434261 , 11.95221507,\n        11.96096065, 11.96965108, 11.97827942, 11.9868443 , 11.99535002,\n        12.00380648, 12.01222919, 12.02063931, 12.02906153, 12.03751581,\n        12.04601529, 12.05456632, 12.06316844, 12.07181436, 12.08049001,\n        12.08917589, 12.09785269, 12.10650266, 12.11510965, 12.11510965,\n        12.12487162]),\n array([6.38876655, 6.5067917 , 6.62742103, 6.75071845, 6.87658235,\n        7.00472421, 7.1346685 , 7.1346685 , 7.22804212]),\n array([8.97309638, 8.97961759, 8.98622403, 8.99293709, 8.99977218,\n        9.00673871, 9.01384006, 9.02107363, 9.02843081, 9.02843081,\n        9.03552124]),\n array([9.4945293 , 9.45947542, 9.42531193, 9.39170112, 9.35817528,\n        9.32418038, 9.28925089, 9.2530535 , 9.2530535 , 9.211148  ]),\n array([8.85380996, 8.75332263, 8.65146852, 8.54858621, 8.44499428,\n        8.34099129, 8.23685582, 8.13284641, 8.02920162, 8.02920162,\n        7.94810341]),\n array([7.46285377, 7.45036082, 7.43807293, 7.42598354, 7.41408254,\n        7.40235631, 7.39078768, 7.379356  , 7.36803705, 7.35680426,\n        7.34563318, 7.34563318, 7.33542663]),\n array([9.00437132, 8.95209609, 8.89763231, 8.8405079 , 8.78026767,\n        8.71671038, 8.64994791, 8.5804053 , 8.50882071, 8.43624549,\n        8.3640441 , 8.29377641, 8.22672673, 8.16378603, 8.10545194,\n        8.10545194, 8.05771114]),\n array([7.81549193, 7.7484742 , 7.68839491, 7.62654419, 7.54084833,\n        7.40173248, 7.19557153, 6.93055272, 6.63667575, 6.35857397,\n        6.12679956, 5.95064481, 5.82186599, 5.729579  , 5.66398326,\n        5.66398326, 5.61306587]),\n array([5.46658661, 5.53480838, 5.60962493, 5.68899889, 5.77095515,\n        5.85374222, 5.93583218, 6.01592069, 6.09292701, 6.09292701,\n        6.13112117]),\n array([7.69678473, 7.57437742, 7.45096971, 7.32710237, 7.20332205,\n        7.08018128, 6.95823846, 6.83805788, 6.7202097 , 6.60526996,\n        6.4938206 , 6.38642752, 6.28355307, 6.18553417, 6.09258227,\n        6.09258227, 6.0077965 ]),\n array([8.04591866, 7.54300826, 7.06520845, 6.62220995, 6.22016658,\n        5.86169514, 5.5458755 , 5.26825056, 5.0215358 , 4.79845756,\n        4.59246254, 4.59246254, 4.39861862]),\n array([3.48832763, 3.47600571, 3.46315483, 3.44972651, 3.43571646,\n        3.42116461, 3.40615512, 3.39080579, 3.37522589, 3.35950564,\n        3.34371614, 3.32790946, 3.31211857, 3.29635734, 3.28062442,\n        3.28062442, 3.27177543]),\n array([6.74164102, 6.95370303, 7.16662976, 7.37904577, 7.58940885,\n        7.58940885, 7.8109654 ]),\n array([3.30164937, 3.43244611, 3.56786378, 3.70761217, 3.85122992,\n        3.99812674, 4.14775254, 4.14775254, 4.28370457]),\n array([2.8320774 , 2.82180371, 2.81017826, 2.79736607, 2.78362502,\n        2.76928308, 2.75464725, 2.73998075, 2.72550306, 2.71138988,\n        2.69777317, 2.68474114, 2.67234353, 2.66061297, 2.64957025,\n        2.63922436, 2.62957245, 2.62059986, 2.61228011, 2.61228011,\n        2.60841261]),\n array([3.28027555, 3.28894032, 3.29776673, 3.30691377, 3.31830754,\n        3.34262087, 3.39510286, 3.47191756, 3.55035702, 3.61335507,\n        3.6556158 , 3.68148715, 3.69645534, 3.70501852, 3.71068673,\n        3.71068673, 3.71753348]),\n array([3.57886265, 3.54940803, 3.51560997, 3.47837822, 3.43904833,\n        3.39925649, 3.36043925, 3.32370837, 3.28985084, 3.25932889,\n        3.23227999, 3.23227999, 3.22309829]),\n array([3.18073704, 3.17420274, 3.16818568, 3.1625525 , 3.15718749,\n        3.15199262, 3.14688756, 3.14688756, 3.14301024]),\n array([4.27363791, 4.29936198, 4.32567088, 4.35254984, 4.37995995,\n        4.37995995, 4.40550861]),\n array([3.66514592, 3.58536519, 3.50854858, 3.43432932, 3.36221724,\n        3.29159875, 3.22173686, 3.15177117, 3.08078631, 3.00808583,\n        2.93326064, 2.85618899, 2.77703651, 2.77703651, 2.72049682]),\n array([2.78748696, 2.75240977, 2.71772865, 2.68366223, 2.65038697,\n        2.61803716, 2.58670486, 2.58670486, 2.56423367]),\n array([3.04760781, 3.16105174, 3.28023717, 3.4056209 , 3.53752399,\n        3.67613178, 3.82149388, 3.82149388, 3.95510657]),\n array([3.11622471, 3.09785036, 3.07716101, 3.05415696, 3.02903153,\n        3.00217105, 2.97415488, 2.94575538, 2.9178728 , 2.89127477,\n        2.86653117, 2.84401411, 2.82389795, 2.8061593 , 2.79057702,\n        2.77677129, 2.76436005, 2.75299805, 2.74237687, 2.74237687,\n        2.73349958]),\n array([1.76675001, 1.74890635, 1.73090239, 1.71272219, 1.69436043,\n        1.6758224 , 1.65712404, 1.65712404, 1.64583345]),\n array([1.80915532, 1.80013626, 1.79119307, 1.79119307, 1.78358001]),\n array([2.59347396, 2.56296933, 2.5323226 , 2.50165879, 2.47109326,\n        2.44072686, 2.41064592, 2.38092229, 2.35161326, 2.35161326,\n        2.32576826]),\n array([2.27007408, 2.26601019, 2.26104112, 2.2535309 , 2.24102241,\n        2.21979692, 2.18311213, 2.12076176, 2.02521959, 1.91621586,\n        1.83486599, 1.79560898, 1.78199248, 1.77787453, 1.77522396,\n        1.77522396, 1.77252389]),\n array([2.85389358, 2.76041502, 2.66664696, 2.57277404, 2.47898845,\n        2.38546855, 2.2923735 , 2.2923735 , 2.19278772]),\n array([1.96496838, 1.94821586, 1.9311711 , 1.91383493, 1.89620882,\n        1.8782949 , 1.86009592, 1.84162027, 1.82290199, 1.80400575,\n        1.78502683, 1.76609119, 1.74735539, 1.74735539, 1.73499431]),\n array([1.32616213, 1.33014596, 1.33413189, 1.33811977, 1.34210948,\n        1.34610095, 1.35009391, 1.35408794, 1.3580824 , 1.36207647,\n        1.36606914, 1.36606914, 1.36943338])]"
     },
     "execution_count": 27,
     "metadata": {},
     "output_type": "execute_result"
    }
   ],
   "source": [
    "test_spec.spec.gross_spec_ser_an.calculated_step_counts"
   ],
   "metadata": {
    "collapsed": false
   }
  },
  {
   "cell_type": "code",
   "execution_count": 28,
   "outputs": [
    {
     "data": {
      "text/plain": "array([[  31,   46],\n       [  47,   65],\n       [  90,  109],\n       [ 127,  138],\n       [ 143,  156],\n       [ 174,  191],\n       [ 229,  259],\n       [ 265,  276],\n       [ 295,  357],\n       [ 402,  432],\n       [ 433,  478],\n       [ 488,  516],\n       [ 517,  522],\n       [ 544,  557],\n       [ 562,  569],\n       [ 573,  588],\n       [ 608,  639],\n       [ 674,  695],\n       [ 721,  738],\n       [ 746,  759],\n       [ 796,  807],\n       [ 836,  857],\n       [ 867,  901],\n       [ 927,  942],\n       [ 951,  978],\n       [1000, 1017],\n       [1023, 1040],\n       [1084, 1099],\n       [1123, 1156],\n       [1182, 1213],\n       [1288, 1297],\n       [1308, 1319],\n       [1363, 1373],\n       [1376, 1387],\n       [1393, 1406],\n       [1426, 1443],\n       [1474, 1491],\n       [1497, 1508],\n       [1531, 1548],\n       [1590, 1603],\n       [1605, 1622],\n       [1663, 1670],\n       [1692, 1701],\n       [1741, 1762],\n       [1791, 1808],\n       [1825, 1838],\n       [1839, 1848],\n       [1868, 1875],\n       [1885, 1900],\n       [1919, 1928],\n       [1938, 1947],\n       [2033, 2054],\n       [2177, 2186],\n       [2229, 2234],\n       [2261, 2272],\n       [2393, 2410],\n       [2668, 2677],\n       [2890, 2905],\n       [2963, 2976]])"
     },
     "execution_count": 28,
     "metadata": {},
     "output_type": "execute_result"
    }
   ],
   "source": [
    "test_spec.spec.gross_spec_ser_an.mix_regions"
   ],
   "metadata": {
    "collapsed": false
   }
  },
  {
   "cell_type": "code",
   "execution_count": 29,
   "outputs": [
    {
     "data": {
      "text/plain": "[15,\n 18,\n 19,\n 11,\n 13,\n 17,\n 30,\n 11,\n 62,\n 30,\n 45,\n 28,\n 5,\n 13,\n 7,\n 15,\n 31,\n 21,\n 17,\n 13,\n 11,\n 21,\n 34,\n 15,\n 27,\n 17,\n 17,\n 15,\n 33,\n 31,\n 9,\n 11,\n 10,\n 11,\n 13,\n 17,\n 17,\n 11,\n 17,\n 13,\n 17,\n 7,\n 9,\n 21,\n 17,\n 13,\n 9,\n 7,\n 15,\n 9,\n 9,\n 21,\n 9,\n 5,\n 11,\n 17,\n 9,\n 15,\n 13]"
     },
     "execution_count": 29,
     "metadata": {},
     "output_type": "execute_result"
    }
   ],
   "source": [
    "testexxx = [x.size for x in test_spec.spec.gross_spec_ser_an.chans_in_multiplets_list]\n",
    "testexxx"
   ],
   "metadata": {
    "collapsed": false
   }
  },
  {
   "cell_type": "code",
   "execution_count": 30,
   "outputs": [
    {
     "data": {
      "text/plain": "[15,\n 18,\n 19,\n 11,\n 13,\n 17,\n 30,\n 11,\n 62,\n 30,\n 45,\n 28,\n 5,\n 13,\n 7,\n 15,\n 31,\n 21,\n 17,\n 13,\n 11,\n 21,\n 34,\n 15,\n 27,\n 17,\n 17,\n 15,\n 33,\n 31,\n 9,\n 11,\n 10,\n 11,\n 13,\n 17,\n 17,\n 11,\n 17,\n 13,\n 17,\n 7,\n 9,\n 21,\n 17,\n 13,\n 9,\n 7,\n 15,\n 9,\n 9,\n 21,\n 9,\n 5,\n 11,\n 17,\n 9,\n 15,\n 13]"
     },
     "execution_count": 30,
     "metadata": {},
     "output_type": "execute_result"
    }
   ],
   "source": [
    "testeyyy = [x.size for x in test_spec.spec.gross_spec_ser_an.calculated_step_counts]\n",
    "testeyyy"
   ],
   "metadata": {
    "collapsed": false
   }
  },
  {
   "cell_type": "code",
   "execution_count": 30,
   "outputs": [],
   "source": [],
   "metadata": {
    "collapsed": false
   }
  }
 ],
 "metadata": {
  "kernelspec": {
   "display_name": "Python 3 (ipykernel)",
   "language": "python",
   "name": "python3"
  },
  "language_info": {
   "codemirror_mode": {
    "name": "ipython",
    "version": 3
   },
   "file_extension": ".py",
   "mimetype": "text/x-python",
   "name": "python",
   "nbconvert_exporter": "python",
   "pygments_lexer": "ipython3",
   "version": "3.11.0"
  }
 },
 "nbformat": 4,
 "nbformat_minor": 5
}
