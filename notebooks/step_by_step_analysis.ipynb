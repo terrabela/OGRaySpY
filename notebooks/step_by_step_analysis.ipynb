{
 "cells": [
  {
   "metadata": {
    "ExecuteTime": {
     "end_time": "2024-07-30T18:14:13.054291Z",
     "start_time": "2024-07-30T18:14:13.044019Z"
    }
   },
   "cell_type": "code",
   "source": [
    "import sys\n",
    "sys.path.insert(1, '../source')"
   ],
   "id": "e3f1ccb785ba873b",
   "outputs": [],
   "execution_count": 1
  },
  {
   "metadata": {
    "ExecuteTime": {
     "end_time": "2024-07-30T18:14:20.049449Z",
     "start_time": "2024-07-30T18:14:19.417639Z"
    }
   },
   "cell_type": "code",
   "source": "from ograyspy.spec_class import Spec",
   "id": "17305eefabd18387",
   "outputs": [
    {
     "ename": "ModuleNotFoundError",
     "evalue": "No module named 'ograyspy.spec_class'; 'ograyspy' is not a package",
     "output_type": "error",
     "traceback": [
      "\u001B[0;31m---------------------------------------------------------------------------\u001B[0m",
      "\u001B[0;31mModuleNotFoundError\u001B[0m                       Traceback (most recent call last)",
      "Cell \u001B[0;32mIn[2], line 1\u001B[0m\n\u001B[0;32m----> 1\u001B[0m \u001B[38;5;28;01mfrom\u001B[39;00m \u001B[38;5;21;01mograyspy\u001B[39;00m\u001B[38;5;21;01m.\u001B[39;00m\u001B[38;5;21;01mspec_class\u001B[39;00m \u001B[38;5;28;01mimport\u001B[39;00m Spec\n",
      "\u001B[0;31mModuleNotFoundError\u001B[0m: No module named 'ograyspy.spec_class'; 'ograyspy' is not a package"
     ]
    }
   ],
   "execution_count": 2
  },
  {
   "metadata": {
    "ExecuteTime": {
     "end_time": "2024-07-30T18:14:24.892140Z",
     "start_time": "2024-07-30T18:14:24.863738Z"
    }
   },
   "cell_type": "code",
   "source": [
    "a_spectr = Spec(\n",
    "    fpc_fname='SI06122.Chn',\n",
    "    spectra_path='../data/some_spectra',\n",
    "    to_smooth=True)"
   ],
   "id": "c40ced3d696a173e",
   "outputs": [
    {
     "ename": "NameError",
     "evalue": "name 'Spec' is not defined",
     "output_type": "error",
     "traceback": [
      "\u001B[0;31m---------------------------------------------------------------------------\u001B[0m",
      "\u001B[0;31mNameError\u001B[0m                                 Traceback (most recent call last)",
      "Cell \u001B[0;32mIn[3], line 1\u001B[0m\n\u001B[0;32m----> 1\u001B[0m a_spectr \u001B[38;5;241m=\u001B[39m Spec(\n\u001B[1;32m      2\u001B[0m     fpc_fname\u001B[38;5;241m=\u001B[39m\u001B[38;5;124m'\u001B[39m\u001B[38;5;124mSI06122.Chn\u001B[39m\u001B[38;5;124m'\u001B[39m,\n\u001B[1;32m      3\u001B[0m     spectra_path\u001B[38;5;241m=\u001B[39m\u001B[38;5;124m'\u001B[39m\u001B[38;5;124m../data/some_spectra\u001B[39m\u001B[38;5;124m'\u001B[39m,\n\u001B[1;32m      4\u001B[0m     to_smooth\u001B[38;5;241m=\u001B[39m\u001B[38;5;28;01mTrue\u001B[39;00m)\n",
      "\u001B[0;31mNameError\u001B[0m: name 'Spec' is not defined"
     ]
    }
   ],
   "execution_count": 3
  },
  {
   "metadata": {
    "ExecuteTime": {
     "end_time": "2024-07-30T18:14:28.046203Z",
     "start_time": "2024-07-30T18:14:28.016192Z"
    }
   },
   "cell_type": "code",
   "source": "vars(a_spectr)",
   "id": "ee62f32c131fbedb",
   "outputs": [
    {
     "ename": "NameError",
     "evalue": "name 'a_spectr' is not defined",
     "output_type": "error",
     "traceback": [
      "\u001B[0;31m---------------------------------------------------------------------------\u001B[0m",
      "\u001B[0;31mNameError\u001B[0m                                 Traceback (most recent call last)",
      "Cell \u001B[0;32mIn[4], line 1\u001B[0m\n\u001B[0;32m----> 1\u001B[0m \u001B[38;5;28mvars\u001B[39m(a_spectr)\n",
      "\u001B[0;31mNameError\u001B[0m: name 'a_spectr' is not defined"
     ]
    }
   ],
   "execution_count": 4
  },
  {
   "metadata": {
    "ExecuteTime": {
     "end_time": "2024-07-30T18:14:37.065243Z",
     "start_time": "2024-07-30T18:14:37.036592Z"
    }
   },
   "cell_type": "code",
   "source": "vars(a_spectr.origin_spec_ser_an)",
   "id": "62aa5ba8aa53f67",
   "outputs": [
    {
     "ename": "NameError",
     "evalue": "name 'a_spectr' is not defined",
     "output_type": "error",
     "traceback": [
      "\u001B[0;31m---------------------------------------------------------------------------\u001B[0m",
      "\u001B[0;31mNameError\u001B[0m                                 Traceback (most recent call last)",
      "Cell \u001B[0;32mIn[5], line 1\u001B[0m\n\u001B[0;32m----> 1\u001B[0m \u001B[38;5;28mvars\u001B[39m(a_spectr\u001B[38;5;241m.\u001B[39morigin_spec_ser_an)\n",
      "\u001B[0;31mNameError\u001B[0m: name 'a_spectr' is not defined"
     ]
    }
   ],
   "execution_count": 5
  },
  {
   "metadata": {
    "ExecuteTime": {
     "end_time": "2024-07-30T18:14:38.406941Z",
     "start_time": "2024-07-30T18:14:38.376907Z"
    }
   },
   "cell_type": "code",
   "source": "vars(a_spectr.spec_io)",
   "id": "776684e1a49c4a5a",
   "outputs": [
    {
     "ename": "NameError",
     "evalue": "name 'a_spectr' is not defined",
     "output_type": "error",
     "traceback": [
      "\u001B[0;31m---------------------------------------------------------------------------\u001B[0m",
      "\u001B[0;31mNameError\u001B[0m                                 Traceback (most recent call last)",
      "Cell \u001B[0;32mIn[6], line 1\u001B[0m\n\u001B[0;32m----> 1\u001B[0m \u001B[38;5;28mvars\u001B[39m(a_spectr\u001B[38;5;241m.\u001B[39mspec_io)\n",
      "\u001B[0;31mNameError\u001B[0m: name 'a_spectr' is not defined"
     ]
    }
   ],
   "execution_count": 6
  },
  {
   "metadata": {
    "ExecuteTime": {
     "end_time": "2024-07-30T18:14:39.581665Z",
     "start_time": "2024-07-30T18:14:39.578718Z"
    }
   },
   "cell_type": "code",
   "source": "",
   "id": "b05fd77f8480bada",
   "outputs": [],
   "execution_count": 6
  },
  {
   "metadata": {
    "ExecuteTime": {
     "end_time": "2024-07-30T18:14:40.363123Z",
     "start_time": "2024-07-30T18:14:40.339899Z"
    }
   },
   "cell_type": "code",
   "source": "from ograyspy.spec_graphics_class import CountsGraphic",
   "id": "e2314ce4943317b7",
   "outputs": [
    {
     "ename": "ModuleNotFoundError",
     "evalue": "No module named 'ograyspy.spec_graphics_class'; 'ograyspy' is not a package",
     "output_type": "error",
     "traceback": [
      "\u001B[0;31m---------------------------------------------------------------------------\u001B[0m",
      "\u001B[0;31mModuleNotFoundError\u001B[0m                       Traceback (most recent call last)",
      "Cell \u001B[0;32mIn[7], line 1\u001B[0m\n\u001B[0;32m----> 1\u001B[0m \u001B[38;5;28;01mfrom\u001B[39;00m \u001B[38;5;21;01mograyspy\u001B[39;00m\u001B[38;5;21;01m.\u001B[39;00m\u001B[38;5;21;01mspec_graphics_class\u001B[39;00m \u001B[38;5;28;01mimport\u001B[39;00m CountsGraphic\n",
      "\u001B[0;31mModuleNotFoundError\u001B[0m: No module named 'ograyspy.spec_graphics_class'; 'ograyspy' is not a package"
     ]
    }
   ],
   "execution_count": 7
  },
  {
   "metadata": {
    "ExecuteTime": {
     "end_time": "2024-07-30T18:14:41.235104Z",
     "start_time": "2024-07-30T18:14:41.198462Z"
    }
   },
   "cell_type": "code",
   "source": "gra_1 = CountsGraphic(ser_an=a_spectr.origin_spec_ser_an, gen_html=True)",
   "id": "61e32dd3cd76c7bd",
   "outputs": [
    {
     "ename": "NameError",
     "evalue": "name 'CountsGraphic' is not defined",
     "output_type": "error",
     "traceback": [
      "\u001B[0;31m---------------------------------------------------------------------------\u001B[0m",
      "\u001B[0;31mNameError\u001B[0m                                 Traceback (most recent call last)",
      "Cell \u001B[0;32mIn[8], line 1\u001B[0m\n\u001B[0;32m----> 1\u001B[0m gra_1 \u001B[38;5;241m=\u001B[39m CountsGraphic(ser_an\u001B[38;5;241m=\u001B[39ma_spectr\u001B[38;5;241m.\u001B[39morigin_spec_ser_an, gen_html\u001B[38;5;241m=\u001B[39m\u001B[38;5;28;01mTrue\u001B[39;00m)\n",
      "\u001B[0;31mNameError\u001B[0m: name 'CountsGraphic' is not defined"
     ]
    }
   ],
   "execution_count": 8
  },
  {
   "metadata": {
    "ExecuteTime": {
     "end_time": "2024-07-30T18:14:43.045939Z",
     "start_time": "2024-07-30T18:14:43.025287Z"
    }
   },
   "cell_type": "code",
   "source": "vars(gra_1)",
   "id": "bbb6c8c7bc4cee95",
   "outputs": [
    {
     "ename": "NameError",
     "evalue": "name 'gra_1' is not defined",
     "output_type": "error",
     "traceback": [
      "\u001B[0;31m---------------------------------------------------------------------------\u001B[0m",
      "\u001B[0;31mNameError\u001B[0m                                 Traceback (most recent call last)",
      "Cell \u001B[0;32mIn[9], line 1\u001B[0m\n\u001B[0;32m----> 1\u001B[0m \u001B[38;5;28mvars\u001B[39m(gra_1)\n",
      "\u001B[0;31mNameError\u001B[0m: name 'gra_1' is not defined"
     ]
    }
   ],
   "execution_count": 9
  },
  {
   "metadata": {
    "ExecuteTime": {
     "end_time": "2024-07-30T18:14:44.459425Z",
     "start_time": "2024-07-30T18:14:44.455366Z"
    }
   },
   "cell_type": "code",
   "source": "",
   "id": "c81311c60b4bc13d",
   "outputs": [],
   "execution_count": 9
  },
  {
   "cell_type": "code",
   "id": "1ca64aa7-51e1-4792-8d3d-a9050a62a3cc",
   "metadata": {},
   "source": [],
   "outputs": [],
   "execution_count": null
  }
 ],
 "metadata": {
  "kernelspec": {
   "display_name": "Python 3 (ipykernel)",
   "language": "python",
   "name": "python3"
  },
  "language_info": {
   "codemirror_mode": {
    "name": "ipython",
    "version": 3
   },
   "file_extension": ".py",
   "mimetype": "text/x-python",
   "name": "python",
   "nbconvert_exporter": "python",
   "pygments_lexer": "ipython3",
   "version": "3.10.12"
  }
 },
 "nbformat": 4,
 "nbformat_minor": 5
}
