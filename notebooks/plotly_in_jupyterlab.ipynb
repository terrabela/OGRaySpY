{
 "cells": [
  {
   "cell_type": "code",
   "execution_count": 1,
   "id": "602d022f-7dfb-4687-b95b-bb2ad46cc4c7",
   "metadata": {},
   "outputs": [],
   "source": [
    "# https://plotly.com/python/getting-started/#jupyterlab-support\n",
    "\n",
    "# 2021-Abr-29: Isso parece legal (instalar plotly-geo):\n",
    "# https://plotly.com/python/getting-started/#extended-geo-support"
   ]
  },
  {
   "cell_type": "code",
   "execution_count": 2,
   "id": "5a5fc107-6300-4fc0-bcbe-5d4bb99aadc7",
   "metadata": {},
   "outputs": [],
   "source": [
    "# A documentação mais recente do novo JupyterLab está em\n",
    "# https://jupyterlab.readthedocs.io/en/stable/index.html#\n",
    "# Neste dá para usar Binder:\n",
    "# https://jupyterlab.readthedocs.io/en/latest/"
   ]
  },
  {
   "cell_type": "code",
   "execution_count": 3,
   "outputs": [
    {
     "data": {
      "text/plain": "<pandas.io.formats.style.Styler at 0x1cd0ca3e850>",
      "text/html": "<style type=\"text/css\">\n</style>\n<table id=\"T_96755\">\n  <thead>\n    <tr>\n      <th class=\"index_name level0\" >Model:</th>\n      <th id=\"T_96755_level0_col0\" class=\"col_heading level0 col0\" colspan=\"2\">Decision Tree</th>\n      <th id=\"T_96755_level0_col2\" class=\"col_heading level0 col2\" colspan=\"2\">Regression</th>\n      <th id=\"T_96755_level0_col4\" class=\"col_heading level0 col4\" colspan=\"2\">Random</th>\n    </tr>\n    <tr>\n      <th class=\"index_name level1\" >Predicted:</th>\n      <th id=\"T_96755_level1_col0\" class=\"col_heading level1 col0\" >Tumour</th>\n      <th id=\"T_96755_level1_col1\" class=\"col_heading level1 col1\" >Non-Tumour</th>\n      <th id=\"T_96755_level1_col2\" class=\"col_heading level1 col2\" >Tumour</th>\n      <th id=\"T_96755_level1_col3\" class=\"col_heading level1 col3\" >Non-Tumour</th>\n      <th id=\"T_96755_level1_col4\" class=\"col_heading level1 col4\" >Tumour</th>\n      <th id=\"T_96755_level1_col5\" class=\"col_heading level1 col5\" >Non-Tumour</th>\n    </tr>\n    <tr>\n      <th class=\"index_name level0\" >Actual Label:</th>\n      <th class=\"blank col0\" >&nbsp;</th>\n      <th class=\"blank col1\" >&nbsp;</th>\n      <th class=\"blank col2\" >&nbsp;</th>\n      <th class=\"blank col3\" >&nbsp;</th>\n      <th class=\"blank col4\" >&nbsp;</th>\n      <th class=\"blank col5\" >&nbsp;</th>\n    </tr>\n  </thead>\n  <tbody>\n    <tr>\n      <th id=\"T_96755_level0_row0\" class=\"row_heading level0 row0\" >Tumour (Positive)</th>\n      <td id=\"T_96755_row0_col0\" class=\"data row0 col0\" >38.000000</td>\n      <td id=\"T_96755_row0_col1\" class=\"data row0 col1\" >2.000000</td>\n      <td id=\"T_96755_row0_col2\" class=\"data row0 col2\" >18.000000</td>\n      <td id=\"T_96755_row0_col3\" class=\"data row0 col3\" >22.000000</td>\n      <td id=\"T_96755_row0_col4\" class=\"data row0 col4\" >21</td>\n      <td id=\"T_96755_row0_col5\" class=\"data row0 col5\" >nan</td>\n    </tr>\n    <tr>\n      <th id=\"T_96755_level0_row1\" class=\"row_heading level0 row1\" >Non-Tumour (Negative)</th>\n      <td id=\"T_96755_row1_col0\" class=\"data row1 col0\" >19.000000</td>\n      <td id=\"T_96755_row1_col1\" class=\"data row1 col1\" >439.000000</td>\n      <td id=\"T_96755_row1_col2\" class=\"data row1 col2\" >6.000000</td>\n      <td id=\"T_96755_row1_col3\" class=\"data row1 col3\" >452.000000</td>\n      <td id=\"T_96755_row1_col4\" class=\"data row1 col4\" >226</td>\n      <td id=\"T_96755_row1_col5\" class=\"data row1 col5\" >232.000000</td>\n    </tr>\n  </tbody>\n</table>\n"
     },
     "execution_count": 3,
     "metadata": {},
     "output_type": "execute_result"
    }
   ],
   "source": [
    "# Styles: configurando e formatando saídas numéricas no Pandas\n",
    "# https://pandas.pydata.org/pandas-docs/stable/user_guide/style.html\n",
    "\n",
    "import pandas as pd\n",
    "import numpy as np\n",
    "import matplotlib as mpl\n",
    "\n",
    "df = pd.DataFrame([[38.0, 2.0, 18.0, 22.0, 21, np.nan],[19, 439, 6, 452, 226,232]],\n",
    "                  index=pd.Index(['Tumour (Positive)', 'Non-Tumour (Negative)'], name='Actual Label:'),\n",
    "                  columns=pd.MultiIndex.from_product([['Decision Tree', 'Regression', 'Random'],['Tumour', 'Non-Tumour']], names=['Model:', 'Predicted:']))\n",
    "df.style"
   ],
   "metadata": {
    "collapsed": false
   },
   "id": "f868e7b2ff85268c"
  },
  {
   "cell_type": "code",
   "execution_count": 4,
   "outputs": [
    {
     "data": {
      "text/plain": "'<table border=\"1\" class=\"dataframe\">\\n  <thead>\\n    <tr>\\n      <th>Model:</th>\\n      <th colspan=\"2\" halign=\"left\">Decision Tree</th>\\n      <th colspan=\"2\" halign=\"left\">Regression</th>\\n      <th colspan=\"2\" halign=\"left\">Random</th>\\n    </tr>\\n    <tr>\\n      <th>Predicted:</th>\\n      <th>Tumour</th>\\n      <th>Non-Tumour</th>\\n      <th>Tumour</th>\\n      <th>Non-Tumour</th>\\n      <th>Tumour</th>\\n      <th>Non-Tumour</th>\\n    </tr>\\n    <tr>\\n      <th>Actual Label:</th>\\n      <th></th>\\n      <th></th>\\n      <th></th>\\n      <th></th>\\n      <th></th>\\n      <th></th>\\n    </tr>\\n  </thead>\\n  <tbody>\\n    <tr>\\n      <th>Tumour (Positive)</th>\\n      <td>38.0</td>\\n      <td>2.0</td>\\n      <td>18.0</td>\\n      <td>22.0</td>\\n      <td>21</td>\\n      <td>NaN</td>\\n    </tr>\\n    <tr>\\n      <th>Non-Tumour (Negative)</th>\\n      <td>19.0</td>\\n      <td>439.0</td>\\n      <td>6.0</td>\\n      <td>452.0</td>\\n      <td>226</td>\\n      <td>232.0</td>\\n    </tr>\\n  </tbody>\\n</table>'"
     },
     "execution_count": 4,
     "metadata": {},
     "output_type": "execute_result"
    }
   ],
   "source": [
    "# Ver como salvar para arquivo:\n",
    "df.to_html()"
   ],
   "metadata": {
    "collapsed": false
   },
   "id": "c40b6549f536c257"
  },
  {
   "cell_type": "code",
   "execution_count": 5,
   "outputs": [],
   "source": [
    "# É assim. Só falta aplicar um CSS para ficar mais b'nito!\n",
    "with open('my_file.html', 'w') as fo:\n",
    "    fo.write(df.to_html())"
   ],
   "metadata": {
    "collapsed": false
   },
   "id": "1a56950166c64d2c"
  },
  {
   "cell_type": "code",
   "execution_count": 6,
   "outputs": [
    {
     "data": {
      "text/plain": "<pandas.io.formats.style.Styler at 0x1cd174fa670>",
      "text/html": "<style type=\"text/css\">\n</style>\n<table id=\"T_021e9\">\n  <thead>\n    <tr>\n      <th class=\"index_name level0\" >Model:</th>\n      <th id=\"T_021e9_level0_col0\" class=\"col_heading level0 col0\" colspan=\"2\">Decision Tree</th>\n      <th id=\"T_021e9_level0_col2\" class=\"col_heading level0 col2\" colspan=\"2\">Regression</th>\n      <th id=\"T_021e9_level0_col4\" class=\"col_heading level0 col4\" colspan=\"2\">Random</th>\n    </tr>\n    <tr>\n      <th class=\"index_name level1\" >Predicted:</th>\n      <th id=\"T_021e9_level1_col0\" class=\"col_heading level1 col0\" >Tumour</th>\n      <th id=\"T_021e9_level1_col1\" class=\"col_heading level1 col1\" >Non-Tumour</th>\n      <th id=\"T_021e9_level1_col2\" class=\"col_heading level1 col2\" >Tumour</th>\n      <th id=\"T_021e9_level1_col3\" class=\"col_heading level1 col3\" >Non-Tumour</th>\n      <th id=\"T_021e9_level1_col4\" class=\"col_heading level1 col4\" >Tumour</th>\n      <th id=\"T_021e9_level1_col5\" class=\"col_heading level1 col5\" >Non-Tumour</th>\n    </tr>\n    <tr>\n      <th class=\"index_name level0\" >Actual Label:</th>\n      <th class=\"blank col0\" >&nbsp;</th>\n      <th class=\"blank col1\" >&nbsp;</th>\n      <th class=\"blank col2\" >&nbsp;</th>\n      <th class=\"blank col3\" >&nbsp;</th>\n      <th class=\"blank col4\" >&nbsp;</th>\n      <th class=\"blank col5\" >&nbsp;</th>\n    </tr>\n  </thead>\n  <tbody>\n    <tr>\n      <th id=\"T_021e9_level0_row0\" class=\"row_heading level0 row0\" >Tumour (Positive)</th>\n      <td id=\"T_021e9_row0_col0\" class=\"data row0 col0\" >38.00</td>\n      <td id=\"T_021e9_row0_col1\" class=\"data row0 col1\" >2</td>\n      <td id=\"T_021e9_row0_col2\" class=\"data row0 col2\" >18</td>\n      <td id=\"T_021e9_row0_col3\" class=\"data row0 col3\" >$ -22 000 000.0</td>\n      <td id=\"T_021e9_row0_col4\" class=\"data row0 col4\" >21</td>\n      <td id=\"T_021e9_row0_col5\" class=\"data row0 col5\" >MISSING</td>\n    </tr>\n    <tr>\n      <th id=\"T_021e9_level0_row1\" class=\"row_heading level0 row1\" >Non-Tumour (Negative)</th>\n      <td id=\"T_021e9_row1_col0\" class=\"data row1 col0\" >19.00</td>\n      <td id=\"T_021e9_row1_col1\" class=\"data row1 col1\" >439</td>\n      <td id=\"T_021e9_row1_col2\" class=\"data row1 col2\" >6</td>\n      <td id=\"T_021e9_row1_col3\" class=\"data row1 col3\" >$ -452 000 000.0</td>\n      <td id=\"T_021e9_row1_col4\" class=\"data row1 col4\" >226</td>\n      <td id=\"T_021e9_row1_col5\" class=\"data row1 col5\" >232</td>\n    </tr>\n  </tbody>\n</table>\n"
     },
     "execution_count": 6,
     "metadata": {},
     "output_type": "execute_result"
    }
   ],
   "source": [
    "df.style.format(precision=0, na_rep='MISSING', thousands=\" \",\n",
    "                formatter={('Decision Tree', 'Tumour'): \"{:.2f}\",\n",
    "                           ('Regression', 'Non-Tumour'): lambda x: \"$ {:,.1f}\".format(x*-1e6)\n",
    "                           })"
   ],
   "metadata": {
    "collapsed": false
   },
   "id": "4f355591fff972bc"
  },
  {
   "cell_type": "code",
   "execution_count": 7,
   "id": "07dbe6fe-0c92-4517-a122-ffc5726dcc6e",
   "metadata": {},
   "outputs": [],
   "source": [
    "import datetime\n",
    "import jinja2\n",
    "\n",
    "import plotly.graph_objects as go\n",
    "from ipywidgets import widgets"
   ]
  },
  {
   "cell_type": "code",
   "execution_count": 8,
   "outputs": [],
   "source": [
    "from ograyspy_class import Ograyspy"
   ],
   "metadata": {
    "collapsed": false
   },
   "id": "3cf949e9a161ee5e"
  },
  {
   "cell_type": "code",
   "execution_count": 9,
   "outputs": [
    {
     "name": "stdout",
     "output_type": "stream",
     "text": [
      "Objeto ogra: Ograyspy criado.\n",
      "ogra.info_plat: Windows-10-10.0.19044-SP0\n",
      "ogra.info_mach: AMD64\n",
      "ogra.info_syst: Windows\n",
      "ogra.info_node: I56611\n",
      "ogra.home_path: C:\\Users\\mmaduar\n",
      "\n",
      "ogra.define_files_folder(to_be_found)\n",
      "Found folder name:  C:\\Users\\mmaduar\\Nextcloud\\Genie_Transfer\n",
      "Partes:  ('C:\\\\', 'Users', 'mmaduar', 'Nextcloud', 'Genie_Transfer')\n",
      "No. spec files:  6813\n",
      "\n",
      "\n",
      "ogra.select_spectrum(Si/SI2018/SI11318.Chn)\n",
      "Existing:\n",
      "Achou! indice=6643, nomearq = Si/SI2018/SI11318.Chn\n",
      "name:  C:\\Users\\mmaduar\\Nextcloud\\Genie_Transfer\\Si\\SI2018\\SI11318.Chn\n",
      "==========================\n",
      "Final choices:\n",
      "C:\\Users\\mmaduar\\Nextcloud\\Genie_Transfer\n",
      "C:\\Users\\mmaduar\\Nextcloud\\Genie_Transfer\\Si\\SI2018\\SI11318.Chn\n",
      "A spec name: C:\\Users\\mmaduar\\Nextcloud\\Genie_Transfer\\Si\\SI2018\\SI11318.Chn\n",
      "Reduced file name: Si/SI2018/SI11318.Chn\n",
      "k_sep_pk:  2.0\n",
      "smoo:  3000.0\n",
      "widths_range:  (4.0, 20.0)\n",
      "=================\n",
      "Exec peaks_search(gross=True), espectro ORIGINAL\n",
      "resolve_peaks_and_regions:\n",
      "define_multiplets_regions completado. Define: self.mix_regions.\n",
      "resolve_peaks_and_regions:\n",
      "define_multiplets_regions completado. Define: self.mix_regions.\n",
      "{'net_spec_ser_an': <generic_series_analysis_class.GenericSeriesAnalysis object at 0x000001CD1F9C6A00>, 'final_composed_baseline': <generic_series_analysis_class.GenericSeriesAnalysis object at 0x000001CD1F9C68E0>, 'f_name': WindowsPath('C:/Users/mmaduar/Nextcloud/Genie_Transfer/Si/SI2018/SI11318.Chn'), 'reduced_f_name': 'Si/SI2018/SI11318.Chn', 'sufx': '.chn', 'spec_io': None, 'pkl_file': WindowsPath('C:/Users/mmaduar/Nextcloud/Genie_Transfer/Si/SI2018/SI11318.pkl'), 'gross_spec_ser_an': <generic_series_analysis_class.GenericSeriesAnalysis object at 0x000001CD1E149B50>, 'spec_pks_df': Empty DataFrame\n",
      "Columns: []\n",
      "Index: []}\n",
      "['__class__', '__delattr__', '__dict__', '__dir__', '__doc__', '__eq__', '__format__', '__ge__', '__getattribute__', '__gt__', '__hash__', '__init__', '__init_subclass__', '__le__', '__lt__', '__module__', '__ne__', '__new__', '__reduce__', '__reduce_ex__', '__repr__', '__setattr__', '__sizeof__', '__str__', '__subclasshook__', '__weakref__', 'curr_h_win', 'f_name', 'final_composed_baseline', 'generate_pandas_dataframe', 'gross_spec_ser_an', 'net_spec_ser_an', 'pkl_file', 'reduced_f_name', 'spec_io', 'spec_pks_df', 'sufx', 'total_analysis']\n",
      "=================\n",
      "Fez total analysis.\n",
      "            reduced_f_name peaks ini_wide_regions fin_wide_regions  \\\n",
      "0    Si/SI2018/SI11318.Chn    52               51               53   \n",
      "1    Si/SI2018/SI11318.Chn    56               55               57   \n",
      "2    Si/SI2018/SI11318.Chn    60               59               61   \n",
      "3    Si/SI2018/SI11318.Chn    63               61               66   \n",
      "4    Si/SI2018/SI11318.Chn    75               74               76   \n",
      "..                     ...   ...              ...              ...   \n",
      "306  Si/SI2018/SI11318.Chn  2554             2551             2556   \n",
      "307  Si/SI2018/SI11318.Chn  2560             2558             2562   \n",
      "308  Si/SI2018/SI11318.Chn  2596             2593             2599   \n",
      "309  Si/SI2018/SI11318.Chn  2817             2814             2821   \n",
      "310  Si/SI2018/SI11318.Chn  2939             2934             2945   \n",
      "\n",
      "             fwhm_centr           centroids          rough_sums  \\\n",
      "0      52.0222223415729   52.07547204227115   188.3548130187562   \n",
      "1     56.07399275730663  56.185918217095235   86.71503069944902   \n",
      "2                  60.0                60.0   16.39061357558012   \n",
      "3     63.38206913384945   63.40457600306875   120.4606713451808   \n",
      "4     74.99141050506461   74.96785115873236   83.35858252373419   \n",
      "..                  ...                 ...                 ...   \n",
      "306   2553.741652547892   2554.148517540299  32.108734547493974   \n",
      "307  2560.0635979736235    2560.06130264684    17.4479618124455   \n",
      "308   2595.669605978815  2596.0454516879386   39.49469003842944   \n",
      "309  2817.3935048782237   2817.325979182809   173.2428349348183   \n",
      "310  2939.3027327911627  2938.9147680147275  181.39440319044388   \n",
      "\n",
      "           peak_heights     left_thresholds    right_thresholds  \\\n",
      "0    174.13929060862938  174.13929060862938  159.92376819850256   \n",
      "1     70.59312679644904   70.59312679644904   54.47122289344907   \n",
      "2     16.39061357558012   16.39061357558012   16.39061357558012   \n",
      "3     71.72517440536944   71.72517440536944   22.98967746555809   \n",
      "4     80.67870068588377   77.99881884803335   80.67870068588377   \n",
      "..                  ...                 ...                 ...   \n",
      "306  10.425401766747637   5.179594527170401   7.824166979277401   \n",
      "307  10.195391616961285   7.103909639751807    6.03430339868655   \n",
      "308  10.212198087825733   3.028249654521316   5.971050431090669   \n",
      "309   48.32140492260375  24.976680249042165   3.025254217083784   \n",
      "310   43.79315036876867  11.968463946939888   8.019719180487122   \n",
      "\n",
      "            prominences left_bases right_bases       width_heights  \\\n",
      "0    174.13929060862938         51          54   87.06964530431469   \n",
      "1     70.59312679644904         55          59   35.29656339822452   \n",
      "2     16.39061357558012         59          61    8.19530678779006   \n",
      "3     71.72517440536944         62          65   35.86258720268472   \n",
      "4     80.67870068588377         73          76  40.339350342941884   \n",
      "..                  ...        ...         ...                 ...   \n",
      "306  10.425401766747637       2551        2558   5.212700883373818   \n",
      "307  10.195391616961285       2558        2562   5.097695808480642   \n",
      "308  10.212198087825733       2590        2601   5.106099043912867   \n",
      "309   48.32140492260375       2813        2821  24.160702461301874   \n",
      "310   43.79315036876867       2933        2943  21.896575184384336   \n",
      "\n",
      "               left_ips           right_ips              widths  \\\n",
      "0                  51.5   52.54444468314579   1.044444683145791   \n",
      "1                  55.5   56.64798551461325  1.1479855146132465   \n",
      "2                  59.5                60.5                 1.0   \n",
      "3                  62.5    64.2641382676989  1.7641382676988968   \n",
      "4      74.4828210101292                75.5     1.0171789898708   \n",
      "..                  ...                 ...                 ...   \n",
      "306   2552.817074314005   2554.666230781779  1.8491564677742645   \n",
      "307   2559.282409818397  2560.8447861288496  1.5623763104526915   \n",
      "308  2594.4840694491486  2596.8551425084815   2.371073059332957   \n",
      "309  2816.0326695853732   2818.754340171074   2.721670585700849   \n",
      "310  2937.2346457347344   2941.370819847591   4.136174112856679   \n",
      "\n",
      "              variances  \n",
      "0     5243.280396625909  \n",
      "1     9031.659908090194  \n",
      "2     8752.207300068356  \n",
      "3    17388.708609236997  \n",
      "4     8178.966996115427  \n",
      "..                  ...  \n",
      "306   88.00674727602504  \n",
      "307  54.375576654261266  \n",
      "308   78.50530996157057  \n",
      "309   215.4908475451835  \n",
      "310  231.33061092145928  \n",
      "\n",
      "[311 rows x 18 columns]\n",
      "Terminated Ok.\n"
     ]
    }
   ],
   "source": [
    "ogra = Ograyspy(batch_mode=False)\n",
    "print('Objeto ogra: Ograyspy criado.')\n",
    "print(f'ogra.info_plat: {ogra.info_plat}')\n",
    "print(f'ogra.info_mach: {ogra.info_mach}')\n",
    "print(f'ogra.info_syst: {ogra.info_syst}')\n",
    "print(f'ogra.info_node: {ogra.info_node}')\n",
    "print(f'ogra.home_path: {ogra.home_path}')\n",
    "\n",
    "to_be_found = 'Genie_Transfer'\n",
    "print('\\nogra.define_files_folder(to_be_found)')\n",
    "ogra.define_files_folder(to_be_found)\n",
    "\n",
    "# 2022-out-7: Excelente espectro para testes, tenho usado ultimamente:\n",
    "a_pattern = 'Si/SI2018/SI11318.Chn'\n",
    "# 2022-nov-16: outros espectros:\n",
    "# a_pattern = \"Filtros/2022/Cci/CCI1603-I.Chn\"\n",
    "# a_pattern = \"Eso_non_existe.Chn\"\n",
    "\n",
    "print(f'\\n\\nogra.select_spectrum({a_pattern})')\n",
    "ogra.select_spectrum(a_pattern)\n",
    "print(f'A spec name: {ogra.a_spec_name}')\n",
    "print(f'Reduced file name: {ogra.reduced_f_name}')\n",
    "\n",
    "# AQUI: ativar gener_dataframe qdo estiver pronto.\n",
    "ogra.perform_total_analysis(gener_dataframe=True)\n",
    "print(ogra.a_spec.spec_pks_df)\n",
    "\n",
    "ogra.call_graphics()\n",
    "\n",
    "print('Terminated Ok.')\n"
   ],
   "metadata": {
    "collapsed": false
   },
   "id": "e70bb9d2ff52c416"
  },
  {
   "cell_type": "code",
   "execution_count": 10,
   "outputs": [
    {
     "data": {
      "text/plain": "['__class__',\n '__delattr__',\n '__dict__',\n '__dir__',\n '__doc__',\n '__eq__',\n '__format__',\n '__ge__',\n '__getattribute__',\n '__gt__',\n '__hash__',\n '__init__',\n '__init_subclass__',\n '__le__',\n '__lt__',\n '__module__',\n '__ne__',\n '__new__',\n '__reduce__',\n '__reduce_ex__',\n '__repr__',\n '__setattr__',\n '__sizeof__',\n '__str__',\n '__subclasshook__',\n '__weakref__',\n 'calculate_baseline',\n 'calculated_step_counts',\n 'chans_in_multiplets_list',\n 'chans_in_regs',\n 'chans_nzero',\n 'chans_outof_regs',\n 'counts_in_regs',\n 'counts_nzero',\n 'counts_outof_regs',\n 'define_multiplets_regions',\n 'eval_baseline',\n 'eval_smoo_counts',\n 'fft_s',\n 'fft_spec',\n 'final_baseline',\n 'given_variance',\n 'is_reg',\n 'k_erf',\n 'mix_regions',\n 'n_ch',\n 'net_spec',\n 'nzero',\n 'peaks_search',\n 'perform_basic_net_area_calculation',\n 'pk_parms',\n 'redefine_widths_range',\n 'resolve_peaks_and_regions',\n 'spl_baseline',\n 'unc_y',\n 'widths_pair',\n 'widths_range',\n 'ws_bl_out_reg',\n 'x_s',\n 'xs_all_mplets',\n 'xs_bl_in_reg',\n 'xs_bl_out_reg',\n 'y_s',\n 'y_smoothed',\n 'ys_all_mplets',\n 'ys_all_steps',\n 'ys_bl_in_reg',\n 'ys_bl_out_reg']"
     },
     "execution_count": 10,
     "metadata": {},
     "output_type": "execute_result"
    }
   ],
   "source": [
    "dir(ogra.a_spec.net_spec_ser_an)"
   ],
   "metadata": {
    "collapsed": false
   },
   "id": "ba664a4b56d2c085"
  },
  {
   "cell_type": "code",
   "execution_count": 11,
   "outputs": [
    {
     "data": {
      "text/plain": "['T',\n '_AXIS_LEN',\n '_AXIS_ORDERS',\n '_AXIS_TO_AXIS_NUMBER',\n '_HANDLED_TYPES',\n '__abs__',\n '__add__',\n '__and__',\n '__annotations__',\n '__array__',\n '__array_priority__',\n '__array_ufunc__',\n '__array_wrap__',\n '__bool__',\n '__class__',\n '__contains__',\n '__copy__',\n '__dataframe__',\n '__deepcopy__',\n '__delattr__',\n '__delitem__',\n '__dict__',\n '__dir__',\n '__divmod__',\n '__doc__',\n '__eq__',\n '__finalize__',\n '__floordiv__',\n '__format__',\n '__ge__',\n '__getattr__',\n '__getattribute__',\n '__getitem__',\n '__getstate__',\n '__gt__',\n '__hash__',\n '__iadd__',\n '__iand__',\n '__ifloordiv__',\n '__imod__',\n '__imul__',\n '__init__',\n '__init_subclass__',\n '__invert__',\n '__ior__',\n '__ipow__',\n '__isub__',\n '__iter__',\n '__itruediv__',\n '__ixor__',\n '__le__',\n '__len__',\n '__lt__',\n '__matmul__',\n '__mod__',\n '__module__',\n '__mul__',\n '__ne__',\n '__neg__',\n '__new__',\n '__nonzero__',\n '__or__',\n '__pos__',\n '__pow__',\n '__radd__',\n '__rand__',\n '__rdivmod__',\n '__reduce__',\n '__reduce_ex__',\n '__repr__',\n '__rfloordiv__',\n '__rmatmul__',\n '__rmod__',\n '__rmul__',\n '__ror__',\n '__round__',\n '__rpow__',\n '__rsub__',\n '__rtruediv__',\n '__rxor__',\n '__setattr__',\n '__setitem__',\n '__setstate__',\n '__sizeof__',\n '__str__',\n '__sub__',\n '__subclasshook__',\n '__truediv__',\n '__weakref__',\n '__xor__',\n '_accessors',\n '_accum_func',\n '_add_numeric_operations',\n '_agg_by_level',\n '_agg_examples_doc',\n '_agg_summary_and_see_also_doc',\n '_align_frame',\n '_align_series',\n '_append',\n '_arith_method',\n '_as_manager',\n '_attrs',\n '_box_col_values',\n '_can_fast_transpose',\n '_check_inplace_and_allows_duplicate_labels',\n '_check_inplace_setting',\n '_check_is_chained_assignment_possible',\n '_check_label_or_level_ambiguity',\n '_check_setitem_copy',\n '_clear_item_cache',\n '_clip_with_one_bound',\n '_clip_with_scalar',\n '_cmp_method',\n '_combine_frame',\n '_consolidate',\n '_consolidate_inplace',\n '_construct_axes_dict',\n '_construct_axes_from_arguments',\n '_construct_result',\n '_constructor',\n '_constructor_sliced',\n '_convert',\n '_count_level',\n '_data',\n '_dir_additions',\n '_dir_deletions',\n '_dispatch_frame_op',\n '_drop_axis',\n '_drop_labels_or_levels',\n '_ensure_valid_index',\n '_find_valid_index',\n '_flags',\n '_from_arrays',\n '_get_agg_axis',\n '_get_axis',\n '_get_axis_name',\n '_get_axis_number',\n '_get_axis_resolvers',\n '_get_block_manager_axis',\n '_get_bool_data',\n '_get_cleaned_column_resolvers',\n '_get_column_array',\n '_get_index_resolvers',\n '_get_item_cache',\n '_get_label_or_level_values',\n '_get_numeric_data',\n '_get_value',\n '_getitem_bool_array',\n '_getitem_multilevel',\n '_gotitem',\n '_hidden_attrs',\n '_indexed_same',\n '_info_axis',\n '_info_axis_name',\n '_info_axis_number',\n '_info_repr',\n '_init_mgr',\n '_inplace_method',\n '_internal_names',\n '_internal_names_set',\n '_is_copy',\n '_is_homogeneous_type',\n '_is_label_or_level_reference',\n '_is_label_reference',\n '_is_level_reference',\n '_is_mixed_type',\n '_is_view',\n '_iset_item',\n '_iset_item_mgr',\n '_iset_not_inplace',\n '_item_cache',\n '_iter_column_arrays',\n '_ixs',\n '_join_compat',\n '_logical_func',\n '_logical_method',\n '_maybe_cache_changed',\n '_maybe_update_cacher',\n '_metadata',\n '_mgr',\n '_min_count_stat_function',\n '_needs_reindex_multi',\n '_protect_consolidate',\n '_reduce',\n '_reduce_axis1',\n '_reindex_axes',\n '_reindex_columns',\n '_reindex_index',\n '_reindex_multi',\n '_reindex_with_indexers',\n '_rename',\n '_replace_columnwise',\n '_repr_data_resource_',\n '_repr_fits_horizontal_',\n '_repr_fits_vertical_',\n '_repr_html_',\n '_repr_latex_',\n '_reset_cache',\n '_reset_cacher',\n '_sanitize_column',\n '_series',\n '_set_axis',\n '_set_axis_name',\n '_set_axis_nocheck',\n '_set_is_copy',\n '_set_item',\n '_set_item_frame_value',\n '_set_item_mgr',\n '_set_value',\n '_setitem_array',\n '_setitem_frame',\n '_setitem_slice',\n '_slice',\n '_stat_axis',\n '_stat_axis_name',\n '_stat_axis_number',\n '_stat_function',\n '_stat_function_ddof',\n '_take',\n '_take_with_is_copy',\n '_to_dict_of_blocks',\n '_typ',\n '_update_inplace',\n '_validate_dtype',\n '_values',\n '_where',\n 'abs',\n 'add',\n 'add_prefix',\n 'add_suffix',\n 'agg',\n 'aggregate',\n 'align',\n 'all',\n 'any',\n 'append',\n 'apply',\n 'applymap',\n 'asfreq',\n 'asof',\n 'assign',\n 'astype',\n 'at',\n 'at_time',\n 'attrs',\n 'axes',\n 'backfill',\n 'between_time',\n 'bfill',\n 'bool',\n 'boxplot',\n 'centroids',\n 'clip',\n 'columns',\n 'combine',\n 'combine_first',\n 'compare',\n 'convert_dtypes',\n 'copy',\n 'corr',\n 'corrwith',\n 'count',\n 'cov',\n 'cummax',\n 'cummin',\n 'cumprod',\n 'cumsum',\n 'describe',\n 'diff',\n 'div',\n 'divide',\n 'dot',\n 'drop',\n 'drop_duplicates',\n 'droplevel',\n 'dropna',\n 'dtypes',\n 'duplicated',\n 'empty',\n 'eq',\n 'equals',\n 'eval',\n 'ewm',\n 'expanding',\n 'explode',\n 'ffill',\n 'fillna',\n 'filter',\n 'fin_wide_regions',\n 'first',\n 'first_valid_index',\n 'flags',\n 'floordiv',\n 'from_dict',\n 'from_records',\n 'fwhm_centr',\n 'ge',\n 'get',\n 'groupby',\n 'gt',\n 'head',\n 'hist',\n 'iat',\n 'idxmax',\n 'idxmin',\n 'iloc',\n 'index',\n 'infer_objects',\n 'info',\n 'ini_wide_regions',\n 'insert',\n 'interpolate',\n 'isetitem',\n 'isin',\n 'isna',\n 'isnull',\n 'items',\n 'iteritems',\n 'iterrows',\n 'itertuples',\n 'join',\n 'keys',\n 'kurt',\n 'kurtosis',\n 'last',\n 'last_valid_index',\n 'le',\n 'left_bases',\n 'left_ips',\n 'left_thresholds',\n 'loc',\n 'lookup',\n 'lt',\n 'mad',\n 'mask',\n 'max',\n 'mean',\n 'median',\n 'melt',\n 'memory_usage',\n 'merge',\n 'min',\n 'mod',\n 'mode',\n 'mul',\n 'multiply',\n 'ndim',\n 'ne',\n 'nlargest',\n 'notna',\n 'notnull',\n 'nsmallest',\n 'nunique',\n 'pad',\n 'pct_change',\n 'peak_heights',\n 'peaks',\n 'pipe',\n 'pivot',\n 'pivot_table',\n 'plot',\n 'pop',\n 'pow',\n 'prod',\n 'product',\n 'prominences',\n 'quantile',\n 'query',\n 'radd',\n 'rank',\n 'rdiv',\n 'reduced_f_name',\n 'reindex',\n 'reindex_like',\n 'rename',\n 'rename_axis',\n 'reorder_levels',\n 'replace',\n 'resample',\n 'reset_index',\n 'rfloordiv',\n 'right_bases',\n 'right_ips',\n 'right_thresholds',\n 'rmod',\n 'rmul',\n 'rolling',\n 'rough_sums',\n 'round',\n 'rpow',\n 'rsub',\n 'rtruediv',\n 'sample',\n 'select_dtypes',\n 'sem',\n 'set_axis',\n 'set_flags',\n 'set_index',\n 'shape',\n 'shift',\n 'size',\n 'skew',\n 'slice_shift',\n 'sort_index',\n 'sort_values',\n 'squeeze',\n 'stack',\n 'std',\n 'style',\n 'sub',\n 'subtract',\n 'sum',\n 'swapaxes',\n 'swaplevel',\n 'tail',\n 'take',\n 'to_clipboard',\n 'to_csv',\n 'to_dict',\n 'to_excel',\n 'to_feather',\n 'to_gbq',\n 'to_hdf',\n 'to_html',\n 'to_json',\n 'to_latex',\n 'to_markdown',\n 'to_numpy',\n 'to_orc',\n 'to_parquet',\n 'to_period',\n 'to_pickle',\n 'to_records',\n 'to_sql',\n 'to_stata',\n 'to_string',\n 'to_timestamp',\n 'to_xarray',\n 'to_xml',\n 'transform',\n 'transpose',\n 'truediv',\n 'truncate',\n 'tz_convert',\n 'tz_localize',\n 'unstack',\n 'update',\n 'value_counts',\n 'values',\n 'var',\n 'variances',\n 'where',\n 'width_heights',\n 'widths',\n 'xs']"
     },
     "execution_count": 11,
     "metadata": {},
     "output_type": "execute_result"
    }
   ],
   "source": [
    "dir(ogra.a_spec.spec_pks_df)"
   ],
   "metadata": {
    "collapsed": false
   },
   "id": "fe4ec55ffdf91ab9"
  },
  {
   "cell_type": "code",
   "execution_count": 12,
   "outputs": [
    {
     "data": {
      "text/plain": "            reduced_f_name peaks ini_wide_regions fin_wide_regions  \\\n0    Si/SI2018/SI11318.Chn    52               51               53   \n1    Si/SI2018/SI11318.Chn    56               55               57   \n2    Si/SI2018/SI11318.Chn    60               59               61   \n3    Si/SI2018/SI11318.Chn    63               61               66   \n4    Si/SI2018/SI11318.Chn    75               74               76   \n..                     ...   ...              ...              ...   \n306  Si/SI2018/SI11318.Chn  2554             2551             2556   \n307  Si/SI2018/SI11318.Chn  2560             2558             2562   \n308  Si/SI2018/SI11318.Chn  2596             2593             2599   \n309  Si/SI2018/SI11318.Chn  2817             2814             2821   \n310  Si/SI2018/SI11318.Chn  2939             2934             2945   \n\n             fwhm_centr           centroids          rough_sums  \\\n0      52.0222223415729   52.07547204227115   188.3548130187562   \n1     56.07399275730663  56.185918217095235   86.71503069944902   \n2                  60.0                60.0   16.39061357558012   \n3     63.38206913384945   63.40457600306875   120.4606713451808   \n4     74.99141050506461   74.96785115873236   83.35858252373419   \n..                  ...                 ...                 ...   \n306   2553.741652547892   2554.148517540299  32.108734547493974   \n307  2560.0635979736235    2560.06130264684    17.4479618124455   \n308   2595.669605978815  2596.0454516879386   39.49469003842944   \n309  2817.3935048782237   2817.325979182809   173.2428349348183   \n310  2939.3027327911627  2938.9147680147275  181.39440319044388   \n\n           peak_heights     left_thresholds    right_thresholds  \\\n0    174.13929060862938  174.13929060862938  159.92376819850256   \n1     70.59312679644904   70.59312679644904   54.47122289344907   \n2     16.39061357558012   16.39061357558012   16.39061357558012   \n3     71.72517440536944   71.72517440536944   22.98967746555809   \n4     80.67870068588377   77.99881884803335   80.67870068588377   \n..                  ...                 ...                 ...   \n306  10.425401766747637   5.179594527170401   7.824166979277401   \n307  10.195391616961285   7.103909639751807    6.03430339868655   \n308  10.212198087825733   3.028249654521316   5.971050431090669   \n309   48.32140492260375  24.976680249042165   3.025254217083784   \n310   43.79315036876867  11.968463946939888   8.019719180487122   \n\n            prominences left_bases right_bases       width_heights  \\\n0    174.13929060862938         51          54   87.06964530431469   \n1     70.59312679644904         55          59   35.29656339822452   \n2     16.39061357558012         59          61    8.19530678779006   \n3     71.72517440536944         62          65   35.86258720268472   \n4     80.67870068588377         73          76  40.339350342941884   \n..                  ...        ...         ...                 ...   \n306  10.425401766747637       2551        2558   5.212700883373818   \n307  10.195391616961285       2558        2562   5.097695808480642   \n308  10.212198087825733       2590        2601   5.106099043912867   \n309   48.32140492260375       2813        2821  24.160702461301874   \n310   43.79315036876867       2933        2943  21.896575184384336   \n\n               left_ips           right_ips              widths  \\\n0                  51.5   52.54444468314579   1.044444683145791   \n1                  55.5   56.64798551461325  1.1479855146132465   \n2                  59.5                60.5                 1.0   \n3                  62.5    64.2641382676989  1.7641382676988968   \n4      74.4828210101292                75.5     1.0171789898708   \n..                  ...                 ...                 ...   \n306   2552.817074314005   2554.666230781779  1.8491564677742645   \n307   2559.282409818397  2560.8447861288496  1.5623763104526915   \n308  2594.4840694491486  2596.8551425084815   2.371073059332957   \n309  2816.0326695853732   2818.754340171074   2.721670585700849   \n310  2937.2346457347344   2941.370819847591   4.136174112856679   \n\n              variances  \n0     5243.280396625909  \n1     9031.659908090194  \n2     8752.207300068356  \n3    17388.708609236997  \n4     8178.966996115427  \n..                  ...  \n306   88.00674727602504  \n307  54.375576654261266  \n308   78.50530996157057  \n309   215.4908475451835  \n310  231.33061092145928  \n\n[311 rows x 18 columns]",
      "text/html": "<div>\n<style scoped>\n    .dataframe tbody tr th:only-of-type {\n        vertical-align: middle;\n    }\n\n    .dataframe tbody tr th {\n        vertical-align: top;\n    }\n\n    .dataframe thead th {\n        text-align: right;\n    }\n</style>\n<table border=\"1\" class=\"dataframe\">\n  <thead>\n    <tr style=\"text-align: right;\">\n      <th></th>\n      <th>reduced_f_name</th>\n      <th>peaks</th>\n      <th>ini_wide_regions</th>\n      <th>fin_wide_regions</th>\n      <th>fwhm_centr</th>\n      <th>centroids</th>\n      <th>rough_sums</th>\n      <th>peak_heights</th>\n      <th>left_thresholds</th>\n      <th>right_thresholds</th>\n      <th>prominences</th>\n      <th>left_bases</th>\n      <th>right_bases</th>\n      <th>width_heights</th>\n      <th>left_ips</th>\n      <th>right_ips</th>\n      <th>widths</th>\n      <th>variances</th>\n    </tr>\n  </thead>\n  <tbody>\n    <tr>\n      <th>0</th>\n      <td>Si/SI2018/SI11318.Chn</td>\n      <td>52</td>\n      <td>51</td>\n      <td>53</td>\n      <td>52.0222223415729</td>\n      <td>52.07547204227115</td>\n      <td>188.3548130187562</td>\n      <td>174.13929060862938</td>\n      <td>174.13929060862938</td>\n      <td>159.92376819850256</td>\n      <td>174.13929060862938</td>\n      <td>51</td>\n      <td>54</td>\n      <td>87.06964530431469</td>\n      <td>51.5</td>\n      <td>52.54444468314579</td>\n      <td>1.044444683145791</td>\n      <td>5243.280396625909</td>\n    </tr>\n    <tr>\n      <th>1</th>\n      <td>Si/SI2018/SI11318.Chn</td>\n      <td>56</td>\n      <td>55</td>\n      <td>57</td>\n      <td>56.07399275730663</td>\n      <td>56.185918217095235</td>\n      <td>86.71503069944902</td>\n      <td>70.59312679644904</td>\n      <td>70.59312679644904</td>\n      <td>54.47122289344907</td>\n      <td>70.59312679644904</td>\n      <td>55</td>\n      <td>59</td>\n      <td>35.29656339822452</td>\n      <td>55.5</td>\n      <td>56.64798551461325</td>\n      <td>1.1479855146132465</td>\n      <td>9031.659908090194</td>\n    </tr>\n    <tr>\n      <th>2</th>\n      <td>Si/SI2018/SI11318.Chn</td>\n      <td>60</td>\n      <td>59</td>\n      <td>61</td>\n      <td>60.0</td>\n      <td>60.0</td>\n      <td>16.39061357558012</td>\n      <td>16.39061357558012</td>\n      <td>16.39061357558012</td>\n      <td>16.39061357558012</td>\n      <td>16.39061357558012</td>\n      <td>59</td>\n      <td>61</td>\n      <td>8.19530678779006</td>\n      <td>59.5</td>\n      <td>60.5</td>\n      <td>1.0</td>\n      <td>8752.207300068356</td>\n    </tr>\n    <tr>\n      <th>3</th>\n      <td>Si/SI2018/SI11318.Chn</td>\n      <td>63</td>\n      <td>61</td>\n      <td>66</td>\n      <td>63.38206913384945</td>\n      <td>63.40457600306875</td>\n      <td>120.4606713451808</td>\n      <td>71.72517440536944</td>\n      <td>71.72517440536944</td>\n      <td>22.98967746555809</td>\n      <td>71.72517440536944</td>\n      <td>62</td>\n      <td>65</td>\n      <td>35.86258720268472</td>\n      <td>62.5</td>\n      <td>64.2641382676989</td>\n      <td>1.7641382676988968</td>\n      <td>17388.708609236997</td>\n    </tr>\n    <tr>\n      <th>4</th>\n      <td>Si/SI2018/SI11318.Chn</td>\n      <td>75</td>\n      <td>74</td>\n      <td>76</td>\n      <td>74.99141050506461</td>\n      <td>74.96785115873236</td>\n      <td>83.35858252373419</td>\n      <td>80.67870068588377</td>\n      <td>77.99881884803335</td>\n      <td>80.67870068588377</td>\n      <td>80.67870068588377</td>\n      <td>73</td>\n      <td>76</td>\n      <td>40.339350342941884</td>\n      <td>74.4828210101292</td>\n      <td>75.5</td>\n      <td>1.0171789898708</td>\n      <td>8178.966996115427</td>\n    </tr>\n    <tr>\n      <th>...</th>\n      <td>...</td>\n      <td>...</td>\n      <td>...</td>\n      <td>...</td>\n      <td>...</td>\n      <td>...</td>\n      <td>...</td>\n      <td>...</td>\n      <td>...</td>\n      <td>...</td>\n      <td>...</td>\n      <td>...</td>\n      <td>...</td>\n      <td>...</td>\n      <td>...</td>\n      <td>...</td>\n      <td>...</td>\n      <td>...</td>\n    </tr>\n    <tr>\n      <th>306</th>\n      <td>Si/SI2018/SI11318.Chn</td>\n      <td>2554</td>\n      <td>2551</td>\n      <td>2556</td>\n      <td>2553.741652547892</td>\n      <td>2554.148517540299</td>\n      <td>32.108734547493974</td>\n      <td>10.425401766747637</td>\n      <td>5.179594527170401</td>\n      <td>7.824166979277401</td>\n      <td>10.425401766747637</td>\n      <td>2551</td>\n      <td>2558</td>\n      <td>5.212700883373818</td>\n      <td>2552.817074314005</td>\n      <td>2554.666230781779</td>\n      <td>1.8491564677742645</td>\n      <td>88.00674727602504</td>\n    </tr>\n    <tr>\n      <th>307</th>\n      <td>Si/SI2018/SI11318.Chn</td>\n      <td>2560</td>\n      <td>2558</td>\n      <td>2562</td>\n      <td>2560.0635979736235</td>\n      <td>2560.06130264684</td>\n      <td>17.4479618124455</td>\n      <td>10.195391616961285</td>\n      <td>7.103909639751807</td>\n      <td>6.03430339868655</td>\n      <td>10.195391616961285</td>\n      <td>2558</td>\n      <td>2562</td>\n      <td>5.097695808480642</td>\n      <td>2559.282409818397</td>\n      <td>2560.8447861288496</td>\n      <td>1.5623763104526915</td>\n      <td>54.375576654261266</td>\n    </tr>\n    <tr>\n      <th>308</th>\n      <td>Si/SI2018/SI11318.Chn</td>\n      <td>2596</td>\n      <td>2593</td>\n      <td>2599</td>\n      <td>2595.669605978815</td>\n      <td>2596.0454516879386</td>\n      <td>39.49469003842944</td>\n      <td>10.212198087825733</td>\n      <td>3.028249654521316</td>\n      <td>5.971050431090669</td>\n      <td>10.212198087825733</td>\n      <td>2590</td>\n      <td>2601</td>\n      <td>5.106099043912867</td>\n      <td>2594.4840694491486</td>\n      <td>2596.8551425084815</td>\n      <td>2.371073059332957</td>\n      <td>78.50530996157057</td>\n    </tr>\n    <tr>\n      <th>309</th>\n      <td>Si/SI2018/SI11318.Chn</td>\n      <td>2817</td>\n      <td>2814</td>\n      <td>2821</td>\n      <td>2817.3935048782237</td>\n      <td>2817.325979182809</td>\n      <td>173.2428349348183</td>\n      <td>48.32140492260375</td>\n      <td>24.976680249042165</td>\n      <td>3.025254217083784</td>\n      <td>48.32140492260375</td>\n      <td>2813</td>\n      <td>2821</td>\n      <td>24.160702461301874</td>\n      <td>2816.0326695853732</td>\n      <td>2818.754340171074</td>\n      <td>2.721670585700849</td>\n      <td>215.4908475451835</td>\n    </tr>\n    <tr>\n      <th>310</th>\n      <td>Si/SI2018/SI11318.Chn</td>\n      <td>2939</td>\n      <td>2934</td>\n      <td>2945</td>\n      <td>2939.3027327911627</td>\n      <td>2938.9147680147275</td>\n      <td>181.39440319044388</td>\n      <td>43.79315036876867</td>\n      <td>11.968463946939888</td>\n      <td>8.019719180487122</td>\n      <td>43.79315036876867</td>\n      <td>2933</td>\n      <td>2943</td>\n      <td>21.896575184384336</td>\n      <td>2937.2346457347344</td>\n      <td>2941.370819847591</td>\n      <td>4.136174112856679</td>\n      <td>231.33061092145928</td>\n    </tr>\n  </tbody>\n</table>\n<p>311 rows × 18 columns</p>\n</div>"
     },
     "execution_count": 12,
     "metadata": {},
     "output_type": "execute_result"
    }
   ],
   "source": [
    "ogra.a_spec.spec_pks_df"
   ],
   "metadata": {
    "collapsed": false
   },
   "id": "da33b02504391041"
  },
  {
   "cell_type": "code",
   "execution_count": 12,
   "outputs": [],
   "source": [],
   "metadata": {
    "collapsed": false
   },
   "id": "363d904649975a0f"
  },
  {
   "cell_type": "code",
   "execution_count": 12,
   "outputs": [],
   "source": [],
   "metadata": {
    "collapsed": false
   },
   "id": "9c9d6bd7028f5022"
  },
  {
   "cell_type": "code",
   "execution_count": 12,
   "outputs": [],
   "source": [],
   "metadata": {
    "collapsed": false
   },
   "id": "c45a14000ba3bdeb"
  },
  {
   "cell_type": "code",
   "execution_count": 13,
   "outputs": [
    {
     "data": {
      "text/plain": "     roi_ini  roi_fin        centr    net_area      height       stddv  \\\n0         51       53    52.022222  188.354813  174.139291   72.410499   \n1         55       57    56.073993   86.715031   70.593127   95.035046   \n2         59       61    60.000000   16.390614   16.390614   93.553232   \n3         61       66    63.382069  120.460671   71.725174  131.866253   \n4         74       76    74.991411   83.358583   80.678701   90.437641   \n..       ...      ...          ...         ...         ...         ...   \n306     2551     2556  2553.741653   32.108735   10.425402    9.381191   \n307     2558     2562  2560.063598   17.447962   10.195392    7.373980   \n308     2593     2599  2595.669606   39.494690   10.212198    8.860322   \n309     2814     2821  2817.393505  173.242835   48.321405   14.679607   \n310     2934     2945  2939.302733  181.394403   43.793150   15.209557   \n\n      rel_unc  \n0    0.384437  \n1    1.095947  \n2    5.707732  \n3    1.094683  \n4    1.084923  \n..        ...  \n306  0.292169  \n307  0.422627  \n308  0.224342  \n309  0.084734  \n310  0.083848  \n\n[311 rows x 7 columns]",
      "text/html": "<div>\n<style scoped>\n    .dataframe tbody tr th:only-of-type {\n        vertical-align: middle;\n    }\n\n    .dataframe tbody tr th {\n        vertical-align: top;\n    }\n\n    .dataframe thead th {\n        text-align: right;\n    }\n</style>\n<table border=\"1\" class=\"dataframe\">\n  <thead>\n    <tr style=\"text-align: right;\">\n      <th></th>\n      <th>roi_ini</th>\n      <th>roi_fin</th>\n      <th>centr</th>\n      <th>net_area</th>\n      <th>height</th>\n      <th>stddv</th>\n      <th>rel_unc</th>\n    </tr>\n  </thead>\n  <tbody>\n    <tr>\n      <th>0</th>\n      <td>51</td>\n      <td>53</td>\n      <td>52.022222</td>\n      <td>188.354813</td>\n      <td>174.139291</td>\n      <td>72.410499</td>\n      <td>0.384437</td>\n    </tr>\n    <tr>\n      <th>1</th>\n      <td>55</td>\n      <td>57</td>\n      <td>56.073993</td>\n      <td>86.715031</td>\n      <td>70.593127</td>\n      <td>95.035046</td>\n      <td>1.095947</td>\n    </tr>\n    <tr>\n      <th>2</th>\n      <td>59</td>\n      <td>61</td>\n      <td>60.000000</td>\n      <td>16.390614</td>\n      <td>16.390614</td>\n      <td>93.553232</td>\n      <td>5.707732</td>\n    </tr>\n    <tr>\n      <th>3</th>\n      <td>61</td>\n      <td>66</td>\n      <td>63.382069</td>\n      <td>120.460671</td>\n      <td>71.725174</td>\n      <td>131.866253</td>\n      <td>1.094683</td>\n    </tr>\n    <tr>\n      <th>4</th>\n      <td>74</td>\n      <td>76</td>\n      <td>74.991411</td>\n      <td>83.358583</td>\n      <td>80.678701</td>\n      <td>90.437641</td>\n      <td>1.084923</td>\n    </tr>\n    <tr>\n      <th>...</th>\n      <td>...</td>\n      <td>...</td>\n      <td>...</td>\n      <td>...</td>\n      <td>...</td>\n      <td>...</td>\n      <td>...</td>\n    </tr>\n    <tr>\n      <th>306</th>\n      <td>2551</td>\n      <td>2556</td>\n      <td>2553.741653</td>\n      <td>32.108735</td>\n      <td>10.425402</td>\n      <td>9.381191</td>\n      <td>0.292169</td>\n    </tr>\n    <tr>\n      <th>307</th>\n      <td>2558</td>\n      <td>2562</td>\n      <td>2560.063598</td>\n      <td>17.447962</td>\n      <td>10.195392</td>\n      <td>7.373980</td>\n      <td>0.422627</td>\n    </tr>\n    <tr>\n      <th>308</th>\n      <td>2593</td>\n      <td>2599</td>\n      <td>2595.669606</td>\n      <td>39.494690</td>\n      <td>10.212198</td>\n      <td>8.860322</td>\n      <td>0.224342</td>\n    </tr>\n    <tr>\n      <th>309</th>\n      <td>2814</td>\n      <td>2821</td>\n      <td>2817.393505</td>\n      <td>173.242835</td>\n      <td>48.321405</td>\n      <td>14.679607</td>\n      <td>0.084734</td>\n    </tr>\n    <tr>\n      <th>310</th>\n      <td>2934</td>\n      <td>2945</td>\n      <td>2939.302733</td>\n      <td>181.394403</td>\n      <td>43.793150</td>\n      <td>15.209557</td>\n      <td>0.083848</td>\n    </tr>\n  </tbody>\n</table>\n<p>311 rows × 7 columns</p>\n</div>"
     },
     "execution_count": 13,
     "metadata": {},
     "output_type": "execute_result"
    }
   ],
   "source": [
    "pks_df = ogra.a_spec.spec_pks_df\n",
    "df2 = pd.DataFrame({'roi_ini': pd.to_numeric(pks_df['ini_wide_regions']),\n",
    "                    'roi_fin': pd.to_numeric(pks_df['fin_wide_regions']),\n",
    "                    'centr' : pd.to_numeric(pks_df['fwhm_centr']),\n",
    "                    'net_area': pd.to_numeric(pks_df['rough_sums']),\n",
    "                    'height': pd.to_numeric(pks_df['prominences']),\n",
    "                    'stddv': np.sqrt(pd.to_numeric(pks_df['variances'])),\n",
    "                    'rel_unc': np.sqrt(pd.to_numeric(pks_df['variances'])) / pd.to_numeric(pks_df['rough_sums'])\n",
    "                   })\n",
    "df2"
   ],
   "metadata": {
    "collapsed": false
   },
   "id": "bad6b7faf3055f35"
  },
  {
   "cell_type": "code",
   "execution_count": 14,
   "outputs": [
    {
     "data": {
      "text/plain": "     roi_ini  roi_fin        centr      net_area        height       stddv  \\\n13       108      110   109.070674    399.281512     79.378138   93.502505   \n14       108      114   111.315640   1059.468309    266.154131  143.605472   \n15       112      117   114.417008    601.974371     57.619909  132.333010   \n18       129      133   131.180801    604.343558    313.299427  123.497597   \n78       382      387   384.379945   2675.739960   1180.470642  119.433078   \n80       387      400   393.808919    608.698789    107.390593  163.474978   \n102      506      514   510.078924    393.100410     91.119222  114.873859   \n105      519      530   524.534471    534.428955    116.671670  131.550641   \n123      592      602   596.828212  10037.853765   2697.267366  155.608953   \n144      697      702   699.265502    386.435719    171.501348   90.132417   \n146      709      715   711.750995    334.632065    103.345913   94.484750   \n156      757      763   760.248918   5779.450421   2468.208480  114.466369   \n157      762      768   764.709616    604.169196     81.679654   88.813461   \n161      780      785   782.274450    614.499666    278.287600   81.254357   \n162      790      795   792.849717    401.327622    201.935924   78.285378   \n167      812      817   814.581782    911.028810    381.476157   79.830891   \n178      875      881   878.461532   1272.771988    507.649063   86.084612   \n189      927      934   930.528940  21897.726975   8108.944042  169.841406   \n190      936      941   938.438484    426.464820    182.294425   75.028804   \n192      954      961   957.434928   2750.020808   1003.954582   98.847741   \n202     1010     1016  1012.778850   3599.525724   1471.065534  100.987496   \n213     1069     1075  1071.705867   1640.230572    661.428400   94.951406   \n245     1267     1273  1269.993051   2794.154038   1040.307366   84.402879   \n256     1331     1338  1334.152727  37862.263957  14010.063969  200.912260   \n273     1508     1515  1511.523527  34285.247841  11356.234017  187.068843   \n277     1566     1573  1569.204933    947.913914    338.987694   36.056707   \n283     1651     1658  1654.436823    265.038298     92.636693   23.301539   \n284     1667     1675  1670.983887    135.000065     48.197273   21.218693   \n285     1700     1708  1703.635823    419.251925    135.968912   26.175280   \n287     1742     1749  1745.182677     73.264164     20.157143   16.695384   \n291     1801     1809  1805.073007    305.420804     87.644038   22.990009   \n293     1889     1897  1892.661966     77.265782     26.986709   16.540902   \n294     1908     1913  1910.500571     87.892603     34.636382   14.563907   \n297     1990     1996  1992.916418     48.416570     16.884656   13.849794   \n300     2180     2185  2182.432954     33.612944     10.311941    9.912400   \n305     2500     2506  2502.743380     38.132290     13.893922   10.465084   \n306     2551     2556  2553.741653     32.108735     10.425402    9.381191   \n308     2593     2599  2595.669606     39.494690     10.212198    8.860322   \n309     2814     2821  2817.393505    173.242835     48.321405   14.679607   \n310     2934     2945  2939.302733    181.394403     43.793150   15.209557   \n\n      rel_unc  \n13   0.234177  \n14   0.135545  \n15   0.219832  \n18   0.204350  \n78   0.044636  \n80   0.268565  \n102  0.292225  \n105  0.246152  \n123  0.015502  \n144  0.233240  \n146  0.282354  \n156  0.019806  \n157  0.147001  \n161  0.132228  \n162  0.195066  \n167  0.087627  \n178  0.067636  \n189  0.007756  \n190  0.175932  \n192  0.035944  \n202  0.028056  \n213  0.057889  \n245  0.030207  \n256  0.005306  \n273  0.005456  \n277  0.038038  \n283  0.087918  \n284  0.157175  \n285  0.062433  \n287  0.227879  \n291  0.075273  \n293  0.214078  \n294  0.165701  \n297  0.286055  \n300  0.294898  \n305  0.274442  \n306  0.292169  \n308  0.224342  \n309  0.084734  \n310  0.083848  ",
      "text/html": "<div>\n<style scoped>\n    .dataframe tbody tr th:only-of-type {\n        vertical-align: middle;\n    }\n\n    .dataframe tbody tr th {\n        vertical-align: top;\n    }\n\n    .dataframe thead th {\n        text-align: right;\n    }\n</style>\n<table border=\"1\" class=\"dataframe\">\n  <thead>\n    <tr style=\"text-align: right;\">\n      <th></th>\n      <th>roi_ini</th>\n      <th>roi_fin</th>\n      <th>centr</th>\n      <th>net_area</th>\n      <th>height</th>\n      <th>stddv</th>\n      <th>rel_unc</th>\n    </tr>\n  </thead>\n  <tbody>\n    <tr>\n      <th>13</th>\n      <td>108</td>\n      <td>110</td>\n      <td>109.070674</td>\n      <td>399.281512</td>\n      <td>79.378138</td>\n      <td>93.502505</td>\n      <td>0.234177</td>\n    </tr>\n    <tr>\n      <th>14</th>\n      <td>108</td>\n      <td>114</td>\n      <td>111.315640</td>\n      <td>1059.468309</td>\n      <td>266.154131</td>\n      <td>143.605472</td>\n      <td>0.135545</td>\n    </tr>\n    <tr>\n      <th>15</th>\n      <td>112</td>\n      <td>117</td>\n      <td>114.417008</td>\n      <td>601.974371</td>\n      <td>57.619909</td>\n      <td>132.333010</td>\n      <td>0.219832</td>\n    </tr>\n    <tr>\n      <th>18</th>\n      <td>129</td>\n      <td>133</td>\n      <td>131.180801</td>\n      <td>604.343558</td>\n      <td>313.299427</td>\n      <td>123.497597</td>\n      <td>0.204350</td>\n    </tr>\n    <tr>\n      <th>78</th>\n      <td>382</td>\n      <td>387</td>\n      <td>384.379945</td>\n      <td>2675.739960</td>\n      <td>1180.470642</td>\n      <td>119.433078</td>\n      <td>0.044636</td>\n    </tr>\n    <tr>\n      <th>80</th>\n      <td>387</td>\n      <td>400</td>\n      <td>393.808919</td>\n      <td>608.698789</td>\n      <td>107.390593</td>\n      <td>163.474978</td>\n      <td>0.268565</td>\n    </tr>\n    <tr>\n      <th>102</th>\n      <td>506</td>\n      <td>514</td>\n      <td>510.078924</td>\n      <td>393.100410</td>\n      <td>91.119222</td>\n      <td>114.873859</td>\n      <td>0.292225</td>\n    </tr>\n    <tr>\n      <th>105</th>\n      <td>519</td>\n      <td>530</td>\n      <td>524.534471</td>\n      <td>534.428955</td>\n      <td>116.671670</td>\n      <td>131.550641</td>\n      <td>0.246152</td>\n    </tr>\n    <tr>\n      <th>123</th>\n      <td>592</td>\n      <td>602</td>\n      <td>596.828212</td>\n      <td>10037.853765</td>\n      <td>2697.267366</td>\n      <td>155.608953</td>\n      <td>0.015502</td>\n    </tr>\n    <tr>\n      <th>144</th>\n      <td>697</td>\n      <td>702</td>\n      <td>699.265502</td>\n      <td>386.435719</td>\n      <td>171.501348</td>\n      <td>90.132417</td>\n      <td>0.233240</td>\n    </tr>\n    <tr>\n      <th>146</th>\n      <td>709</td>\n      <td>715</td>\n      <td>711.750995</td>\n      <td>334.632065</td>\n      <td>103.345913</td>\n      <td>94.484750</td>\n      <td>0.282354</td>\n    </tr>\n    <tr>\n      <th>156</th>\n      <td>757</td>\n      <td>763</td>\n      <td>760.248918</td>\n      <td>5779.450421</td>\n      <td>2468.208480</td>\n      <td>114.466369</td>\n      <td>0.019806</td>\n    </tr>\n    <tr>\n      <th>157</th>\n      <td>762</td>\n      <td>768</td>\n      <td>764.709616</td>\n      <td>604.169196</td>\n      <td>81.679654</td>\n      <td>88.813461</td>\n      <td>0.147001</td>\n    </tr>\n    <tr>\n      <th>161</th>\n      <td>780</td>\n      <td>785</td>\n      <td>782.274450</td>\n      <td>614.499666</td>\n      <td>278.287600</td>\n      <td>81.254357</td>\n      <td>0.132228</td>\n    </tr>\n    <tr>\n      <th>162</th>\n      <td>790</td>\n      <td>795</td>\n      <td>792.849717</td>\n      <td>401.327622</td>\n      <td>201.935924</td>\n      <td>78.285378</td>\n      <td>0.195066</td>\n    </tr>\n    <tr>\n      <th>167</th>\n      <td>812</td>\n      <td>817</td>\n      <td>814.581782</td>\n      <td>911.028810</td>\n      <td>381.476157</td>\n      <td>79.830891</td>\n      <td>0.087627</td>\n    </tr>\n    <tr>\n      <th>178</th>\n      <td>875</td>\n      <td>881</td>\n      <td>878.461532</td>\n      <td>1272.771988</td>\n      <td>507.649063</td>\n      <td>86.084612</td>\n      <td>0.067636</td>\n    </tr>\n    <tr>\n      <th>189</th>\n      <td>927</td>\n      <td>934</td>\n      <td>930.528940</td>\n      <td>21897.726975</td>\n      <td>8108.944042</td>\n      <td>169.841406</td>\n      <td>0.007756</td>\n    </tr>\n    <tr>\n      <th>190</th>\n      <td>936</td>\n      <td>941</td>\n      <td>938.438484</td>\n      <td>426.464820</td>\n      <td>182.294425</td>\n      <td>75.028804</td>\n      <td>0.175932</td>\n    </tr>\n    <tr>\n      <th>192</th>\n      <td>954</td>\n      <td>961</td>\n      <td>957.434928</td>\n      <td>2750.020808</td>\n      <td>1003.954582</td>\n      <td>98.847741</td>\n      <td>0.035944</td>\n    </tr>\n    <tr>\n      <th>202</th>\n      <td>1010</td>\n      <td>1016</td>\n      <td>1012.778850</td>\n      <td>3599.525724</td>\n      <td>1471.065534</td>\n      <td>100.987496</td>\n      <td>0.028056</td>\n    </tr>\n    <tr>\n      <th>213</th>\n      <td>1069</td>\n      <td>1075</td>\n      <td>1071.705867</td>\n      <td>1640.230572</td>\n      <td>661.428400</td>\n      <td>94.951406</td>\n      <td>0.057889</td>\n    </tr>\n    <tr>\n      <th>245</th>\n      <td>1267</td>\n      <td>1273</td>\n      <td>1269.993051</td>\n      <td>2794.154038</td>\n      <td>1040.307366</td>\n      <td>84.402879</td>\n      <td>0.030207</td>\n    </tr>\n    <tr>\n      <th>256</th>\n      <td>1331</td>\n      <td>1338</td>\n      <td>1334.152727</td>\n      <td>37862.263957</td>\n      <td>14010.063969</td>\n      <td>200.912260</td>\n      <td>0.005306</td>\n    </tr>\n    <tr>\n      <th>273</th>\n      <td>1508</td>\n      <td>1515</td>\n      <td>1511.523527</td>\n      <td>34285.247841</td>\n      <td>11356.234017</td>\n      <td>187.068843</td>\n      <td>0.005456</td>\n    </tr>\n    <tr>\n      <th>277</th>\n      <td>1566</td>\n      <td>1573</td>\n      <td>1569.204933</td>\n      <td>947.913914</td>\n      <td>338.987694</td>\n      <td>36.056707</td>\n      <td>0.038038</td>\n    </tr>\n    <tr>\n      <th>283</th>\n      <td>1651</td>\n      <td>1658</td>\n      <td>1654.436823</td>\n      <td>265.038298</td>\n      <td>92.636693</td>\n      <td>23.301539</td>\n      <td>0.087918</td>\n    </tr>\n    <tr>\n      <th>284</th>\n      <td>1667</td>\n      <td>1675</td>\n      <td>1670.983887</td>\n      <td>135.000065</td>\n      <td>48.197273</td>\n      <td>21.218693</td>\n      <td>0.157175</td>\n    </tr>\n    <tr>\n      <th>285</th>\n      <td>1700</td>\n      <td>1708</td>\n      <td>1703.635823</td>\n      <td>419.251925</td>\n      <td>135.968912</td>\n      <td>26.175280</td>\n      <td>0.062433</td>\n    </tr>\n    <tr>\n      <th>287</th>\n      <td>1742</td>\n      <td>1749</td>\n      <td>1745.182677</td>\n      <td>73.264164</td>\n      <td>20.157143</td>\n      <td>16.695384</td>\n      <td>0.227879</td>\n    </tr>\n    <tr>\n      <th>291</th>\n      <td>1801</td>\n      <td>1809</td>\n      <td>1805.073007</td>\n      <td>305.420804</td>\n      <td>87.644038</td>\n      <td>22.990009</td>\n      <td>0.075273</td>\n    </tr>\n    <tr>\n      <th>293</th>\n      <td>1889</td>\n      <td>1897</td>\n      <td>1892.661966</td>\n      <td>77.265782</td>\n      <td>26.986709</td>\n      <td>16.540902</td>\n      <td>0.214078</td>\n    </tr>\n    <tr>\n      <th>294</th>\n      <td>1908</td>\n      <td>1913</td>\n      <td>1910.500571</td>\n      <td>87.892603</td>\n      <td>34.636382</td>\n      <td>14.563907</td>\n      <td>0.165701</td>\n    </tr>\n    <tr>\n      <th>297</th>\n      <td>1990</td>\n      <td>1996</td>\n      <td>1992.916418</td>\n      <td>48.416570</td>\n      <td>16.884656</td>\n      <td>13.849794</td>\n      <td>0.286055</td>\n    </tr>\n    <tr>\n      <th>300</th>\n      <td>2180</td>\n      <td>2185</td>\n      <td>2182.432954</td>\n      <td>33.612944</td>\n      <td>10.311941</td>\n      <td>9.912400</td>\n      <td>0.294898</td>\n    </tr>\n    <tr>\n      <th>305</th>\n      <td>2500</td>\n      <td>2506</td>\n      <td>2502.743380</td>\n      <td>38.132290</td>\n      <td>13.893922</td>\n      <td>10.465084</td>\n      <td>0.274442</td>\n    </tr>\n    <tr>\n      <th>306</th>\n      <td>2551</td>\n      <td>2556</td>\n      <td>2553.741653</td>\n      <td>32.108735</td>\n      <td>10.425402</td>\n      <td>9.381191</td>\n      <td>0.292169</td>\n    </tr>\n    <tr>\n      <th>308</th>\n      <td>2593</td>\n      <td>2599</td>\n      <td>2595.669606</td>\n      <td>39.494690</td>\n      <td>10.212198</td>\n      <td>8.860322</td>\n      <td>0.224342</td>\n    </tr>\n    <tr>\n      <th>309</th>\n      <td>2814</td>\n      <td>2821</td>\n      <td>2817.393505</td>\n      <td>173.242835</td>\n      <td>48.321405</td>\n      <td>14.679607</td>\n      <td>0.084734</td>\n    </tr>\n    <tr>\n      <th>310</th>\n      <td>2934</td>\n      <td>2945</td>\n      <td>2939.302733</td>\n      <td>181.394403</td>\n      <td>43.793150</td>\n      <td>15.209557</td>\n      <td>0.083848</td>\n    </tr>\n  </tbody>\n</table>\n</div>"
     },
     "execution_count": 14,
     "metadata": {},
     "output_type": "execute_result"
    }
   ],
   "source": [
    "max_rel_unc = 0.3\n",
    "df3 = pd.DataFrame(df2[df2['rel_unc'] < max_rel_unc])\n",
    "df3"
   ],
   "metadata": {
    "collapsed": false
   },
   "id": "2d58012eaa21cc4"
  },
  {
   "cell_type": "code",
   "execution_count": 15,
   "outputs": [
    {
     "data": {
      "text/plain": "0      108\n1      112\n2      129\n3      382\n4      387\n5      506\n6      519\n7      592\n8      697\n9      709\n10     757\n11     762\n12     780\n13     790\n14     812\n15     875\n16     927\n17     936\n18     954\n19    1010\n20    1069\n21    1267\n22    1331\n23    1508\n24    1566\n25    1651\n26    1667\n27    1700\n28    1742\n29    1801\n30    1889\n31    1908\n32    1990\n33    2180\n34    2500\n35    2551\n36    2593\n37    2814\n38    2934\nName: roi_ini, dtype: int64"
     },
     "execution_count": 15,
     "metadata": {},
     "output_type": "execute_result"
    }
   ],
   "source": [
    "serie1 = pd.Series(df3['roi_ini']).iloc[1:]\n",
    "serie1.reset_index(drop=True, inplace=True)\n",
    "serie1"
   ],
   "metadata": {
    "collapsed": false
   },
   "id": "90858cac4689a0d0"
  },
  {
   "cell_type": "code",
   "execution_count": 16,
   "outputs": [
    {
     "data": {
      "text/plain": "0      110\n1      114\n2      117\n3      133\n4      387\n5      400\n6      514\n7      530\n8      602\n9      702\n10     715\n11     763\n12     768\n13     785\n14     795\n15     817\n16     881\n17     934\n18     941\n19     961\n20    1016\n21    1075\n22    1273\n23    1338\n24    1515\n25    1573\n26    1658\n27    1675\n28    1708\n29    1749\n30    1809\n31    1897\n32    1913\n33    1996\n34    2185\n35    2506\n36    2556\n37    2599\n38    2821\nName: roi_fin, dtype: int64"
     },
     "execution_count": 16,
     "metadata": {},
     "output_type": "execute_result"
    }
   ],
   "source": [
    "serie2 = pd.Series(df3['roi_fin']).iloc[0:-1]\n",
    "serie2.reset_index(drop=True, inplace=True)\n",
    "serie2"
   ],
   "metadata": {
    "collapsed": false
   },
   "id": "a623919a18036bd3"
  },
  {
   "cell_type": "code",
   "execution_count": 17,
   "outputs": [
    {
     "data": {
      "text/plain": "0      -2\n1      -2\n2      12\n3     249\n4       0\n5     106\n6       5\n7      62\n8      95\n9       7\n10     42\n11     -1\n12     12\n13      5\n14     17\n15     58\n16     46\n17      2\n18     13\n19     49\n20     53\n21    192\n22     58\n23    170\n24     51\n25     78\n26      9\n27     25\n28     34\n29     52\n30     80\n31     11\n32     77\n33    184\n34    315\n35     45\n36     37\n37    215\n38    113\ndtype: int64"
     },
     "execution_count": 17,
     "metadata": {},
     "output_type": "execute_result"
    }
   ],
   "source": [
    "interval_regs = pd.Series(df3['roi_ini']).iloc[1:].reset_index(drop=True) -\\\n",
    "               pd.Series(df3['roi_fin']).iloc[0:-1].reset_index(drop=True)\n",
    "interval_regs"
   ],
   "metadata": {
    "collapsed": false
   },
   "id": "8b5c4a9445eea29d"
  },
  {
   "cell_type": "code",
   "execution_count": 18,
   "outputs": [
    {
     "data": {
      "text/plain": "    roi_ini  roi_fin        centr      net_area        height       stddv  \\\n0       108      110   109.070674    399.281512     79.378138   93.502505   \n1       108      114   111.315640   1059.468309    266.154131  143.605472   \n2       112      117   114.417008    601.974371     57.619909  132.333010   \n3       129      133   131.180801    604.343558    313.299427  123.497597   \n4       382      387   384.379945   2675.739960   1180.470642  119.433078   \n5       387      400   393.808919    608.698789    107.390593  163.474978   \n6       506      514   510.078924    393.100410     91.119222  114.873859   \n7       519      530   524.534471    534.428955    116.671670  131.550641   \n8       592      602   596.828212  10037.853765   2697.267366  155.608953   \n9       697      702   699.265502    386.435719    171.501348   90.132417   \n10      709      715   711.750995    334.632065    103.345913   94.484750   \n11      757      763   760.248918   5779.450421   2468.208480  114.466369   \n12      762      768   764.709616    604.169196     81.679654   88.813461   \n13      780      785   782.274450    614.499666    278.287600   81.254357   \n14      790      795   792.849717    401.327622    201.935924   78.285378   \n15      812      817   814.581782    911.028810    381.476157   79.830891   \n16      875      881   878.461532   1272.771988    507.649063   86.084612   \n17      927      934   930.528940  21897.726975   8108.944042  169.841406   \n18      936      941   938.438484    426.464820    182.294425   75.028804   \n19      954      961   957.434928   2750.020808   1003.954582   98.847741   \n20     1010     1016  1012.778850   3599.525724   1471.065534  100.987496   \n21     1069     1075  1071.705867   1640.230572    661.428400   94.951406   \n22     1267     1273  1269.993051   2794.154038   1040.307366   84.402879   \n23     1331     1338  1334.152727  37862.263957  14010.063969  200.912260   \n24     1508     1515  1511.523527  34285.247841  11356.234017  187.068843   \n25     1566     1573  1569.204933    947.913914    338.987694   36.056707   \n26     1651     1658  1654.436823    265.038298     92.636693   23.301539   \n27     1667     1675  1670.983887    135.000065     48.197273   21.218693   \n28     1700     1708  1703.635823    419.251925    135.968912   26.175280   \n29     1742     1749  1745.182677     73.264164     20.157143   16.695384   \n30     1801     1809  1805.073007    305.420804     87.644038   22.990009   \n31     1889     1897  1892.661966     77.265782     26.986709   16.540902   \n32     1908     1913  1910.500571     87.892603     34.636382   14.563907   \n33     1990     1996  1992.916418     48.416570     16.884656   13.849794   \n34     2180     2185  2182.432954     33.612944     10.311941    9.912400   \n35     2500     2506  2502.743380     38.132290     13.893922   10.465084   \n36     2551     2556  2553.741653     32.108735     10.425402    9.381191   \n37     2593     2599  2595.669606     39.494690     10.212198    8.860322   \n38     2814     2821  2817.393505    173.242835     48.321405   14.679607   \n39     2934     2945  2939.302733    181.394403     43.793150   15.209557   \n\n     rel_unc  \n0   0.234177  \n1   0.135545  \n2   0.219832  \n3   0.204350  \n4   0.044636  \n5   0.268565  \n6   0.292225  \n7   0.246152  \n8   0.015502  \n9   0.233240  \n10  0.282354  \n11  0.019806  \n12  0.147001  \n13  0.132228  \n14  0.195066  \n15  0.087627  \n16  0.067636  \n17  0.007756  \n18  0.175932  \n19  0.035944  \n20  0.028056  \n21  0.057889  \n22  0.030207  \n23  0.005306  \n24  0.005456  \n25  0.038038  \n26  0.087918  \n27  0.157175  \n28  0.062433  \n29  0.227879  \n30  0.075273  \n31  0.214078  \n32  0.165701  \n33  0.286055  \n34  0.294898  \n35  0.274442  \n36  0.292169  \n37  0.224342  \n38  0.084734  \n39  0.083848  ",
      "text/html": "<div>\n<style scoped>\n    .dataframe tbody tr th:only-of-type {\n        vertical-align: middle;\n    }\n\n    .dataframe tbody tr th {\n        vertical-align: top;\n    }\n\n    .dataframe thead th {\n        text-align: right;\n    }\n</style>\n<table border=\"1\" class=\"dataframe\">\n  <thead>\n    <tr style=\"text-align: right;\">\n      <th></th>\n      <th>roi_ini</th>\n      <th>roi_fin</th>\n      <th>centr</th>\n      <th>net_area</th>\n      <th>height</th>\n      <th>stddv</th>\n      <th>rel_unc</th>\n    </tr>\n  </thead>\n  <tbody>\n    <tr>\n      <th>0</th>\n      <td>108</td>\n      <td>110</td>\n      <td>109.070674</td>\n      <td>399.281512</td>\n      <td>79.378138</td>\n      <td>93.502505</td>\n      <td>0.234177</td>\n    </tr>\n    <tr>\n      <th>1</th>\n      <td>108</td>\n      <td>114</td>\n      <td>111.315640</td>\n      <td>1059.468309</td>\n      <td>266.154131</td>\n      <td>143.605472</td>\n      <td>0.135545</td>\n    </tr>\n    <tr>\n      <th>2</th>\n      <td>112</td>\n      <td>117</td>\n      <td>114.417008</td>\n      <td>601.974371</td>\n      <td>57.619909</td>\n      <td>132.333010</td>\n      <td>0.219832</td>\n    </tr>\n    <tr>\n      <th>3</th>\n      <td>129</td>\n      <td>133</td>\n      <td>131.180801</td>\n      <td>604.343558</td>\n      <td>313.299427</td>\n      <td>123.497597</td>\n      <td>0.204350</td>\n    </tr>\n    <tr>\n      <th>4</th>\n      <td>382</td>\n      <td>387</td>\n      <td>384.379945</td>\n      <td>2675.739960</td>\n      <td>1180.470642</td>\n      <td>119.433078</td>\n      <td>0.044636</td>\n    </tr>\n    <tr>\n      <th>5</th>\n      <td>387</td>\n      <td>400</td>\n      <td>393.808919</td>\n      <td>608.698789</td>\n      <td>107.390593</td>\n      <td>163.474978</td>\n      <td>0.268565</td>\n    </tr>\n    <tr>\n      <th>6</th>\n      <td>506</td>\n      <td>514</td>\n      <td>510.078924</td>\n      <td>393.100410</td>\n      <td>91.119222</td>\n      <td>114.873859</td>\n      <td>0.292225</td>\n    </tr>\n    <tr>\n      <th>7</th>\n      <td>519</td>\n      <td>530</td>\n      <td>524.534471</td>\n      <td>534.428955</td>\n      <td>116.671670</td>\n      <td>131.550641</td>\n      <td>0.246152</td>\n    </tr>\n    <tr>\n      <th>8</th>\n      <td>592</td>\n      <td>602</td>\n      <td>596.828212</td>\n      <td>10037.853765</td>\n      <td>2697.267366</td>\n      <td>155.608953</td>\n      <td>0.015502</td>\n    </tr>\n    <tr>\n      <th>9</th>\n      <td>697</td>\n      <td>702</td>\n      <td>699.265502</td>\n      <td>386.435719</td>\n      <td>171.501348</td>\n      <td>90.132417</td>\n      <td>0.233240</td>\n    </tr>\n    <tr>\n      <th>10</th>\n      <td>709</td>\n      <td>715</td>\n      <td>711.750995</td>\n      <td>334.632065</td>\n      <td>103.345913</td>\n      <td>94.484750</td>\n      <td>0.282354</td>\n    </tr>\n    <tr>\n      <th>11</th>\n      <td>757</td>\n      <td>763</td>\n      <td>760.248918</td>\n      <td>5779.450421</td>\n      <td>2468.208480</td>\n      <td>114.466369</td>\n      <td>0.019806</td>\n    </tr>\n    <tr>\n      <th>12</th>\n      <td>762</td>\n      <td>768</td>\n      <td>764.709616</td>\n      <td>604.169196</td>\n      <td>81.679654</td>\n      <td>88.813461</td>\n      <td>0.147001</td>\n    </tr>\n    <tr>\n      <th>13</th>\n      <td>780</td>\n      <td>785</td>\n      <td>782.274450</td>\n      <td>614.499666</td>\n      <td>278.287600</td>\n      <td>81.254357</td>\n      <td>0.132228</td>\n    </tr>\n    <tr>\n      <th>14</th>\n      <td>790</td>\n      <td>795</td>\n      <td>792.849717</td>\n      <td>401.327622</td>\n      <td>201.935924</td>\n      <td>78.285378</td>\n      <td>0.195066</td>\n    </tr>\n    <tr>\n      <th>15</th>\n      <td>812</td>\n      <td>817</td>\n      <td>814.581782</td>\n      <td>911.028810</td>\n      <td>381.476157</td>\n      <td>79.830891</td>\n      <td>0.087627</td>\n    </tr>\n    <tr>\n      <th>16</th>\n      <td>875</td>\n      <td>881</td>\n      <td>878.461532</td>\n      <td>1272.771988</td>\n      <td>507.649063</td>\n      <td>86.084612</td>\n      <td>0.067636</td>\n    </tr>\n    <tr>\n      <th>17</th>\n      <td>927</td>\n      <td>934</td>\n      <td>930.528940</td>\n      <td>21897.726975</td>\n      <td>8108.944042</td>\n      <td>169.841406</td>\n      <td>0.007756</td>\n    </tr>\n    <tr>\n      <th>18</th>\n      <td>936</td>\n      <td>941</td>\n      <td>938.438484</td>\n      <td>426.464820</td>\n      <td>182.294425</td>\n      <td>75.028804</td>\n      <td>0.175932</td>\n    </tr>\n    <tr>\n      <th>19</th>\n      <td>954</td>\n      <td>961</td>\n      <td>957.434928</td>\n      <td>2750.020808</td>\n      <td>1003.954582</td>\n      <td>98.847741</td>\n      <td>0.035944</td>\n    </tr>\n    <tr>\n      <th>20</th>\n      <td>1010</td>\n      <td>1016</td>\n      <td>1012.778850</td>\n      <td>3599.525724</td>\n      <td>1471.065534</td>\n      <td>100.987496</td>\n      <td>0.028056</td>\n    </tr>\n    <tr>\n      <th>21</th>\n      <td>1069</td>\n      <td>1075</td>\n      <td>1071.705867</td>\n      <td>1640.230572</td>\n      <td>661.428400</td>\n      <td>94.951406</td>\n      <td>0.057889</td>\n    </tr>\n    <tr>\n      <th>22</th>\n      <td>1267</td>\n      <td>1273</td>\n      <td>1269.993051</td>\n      <td>2794.154038</td>\n      <td>1040.307366</td>\n      <td>84.402879</td>\n      <td>0.030207</td>\n    </tr>\n    <tr>\n      <th>23</th>\n      <td>1331</td>\n      <td>1338</td>\n      <td>1334.152727</td>\n      <td>37862.263957</td>\n      <td>14010.063969</td>\n      <td>200.912260</td>\n      <td>0.005306</td>\n    </tr>\n    <tr>\n      <th>24</th>\n      <td>1508</td>\n      <td>1515</td>\n      <td>1511.523527</td>\n      <td>34285.247841</td>\n      <td>11356.234017</td>\n      <td>187.068843</td>\n      <td>0.005456</td>\n    </tr>\n    <tr>\n      <th>25</th>\n      <td>1566</td>\n      <td>1573</td>\n      <td>1569.204933</td>\n      <td>947.913914</td>\n      <td>338.987694</td>\n      <td>36.056707</td>\n      <td>0.038038</td>\n    </tr>\n    <tr>\n      <th>26</th>\n      <td>1651</td>\n      <td>1658</td>\n      <td>1654.436823</td>\n      <td>265.038298</td>\n      <td>92.636693</td>\n      <td>23.301539</td>\n      <td>0.087918</td>\n    </tr>\n    <tr>\n      <th>27</th>\n      <td>1667</td>\n      <td>1675</td>\n      <td>1670.983887</td>\n      <td>135.000065</td>\n      <td>48.197273</td>\n      <td>21.218693</td>\n      <td>0.157175</td>\n    </tr>\n    <tr>\n      <th>28</th>\n      <td>1700</td>\n      <td>1708</td>\n      <td>1703.635823</td>\n      <td>419.251925</td>\n      <td>135.968912</td>\n      <td>26.175280</td>\n      <td>0.062433</td>\n    </tr>\n    <tr>\n      <th>29</th>\n      <td>1742</td>\n      <td>1749</td>\n      <td>1745.182677</td>\n      <td>73.264164</td>\n      <td>20.157143</td>\n      <td>16.695384</td>\n      <td>0.227879</td>\n    </tr>\n    <tr>\n      <th>30</th>\n      <td>1801</td>\n      <td>1809</td>\n      <td>1805.073007</td>\n      <td>305.420804</td>\n      <td>87.644038</td>\n      <td>22.990009</td>\n      <td>0.075273</td>\n    </tr>\n    <tr>\n      <th>31</th>\n      <td>1889</td>\n      <td>1897</td>\n      <td>1892.661966</td>\n      <td>77.265782</td>\n      <td>26.986709</td>\n      <td>16.540902</td>\n      <td>0.214078</td>\n    </tr>\n    <tr>\n      <th>32</th>\n      <td>1908</td>\n      <td>1913</td>\n      <td>1910.500571</td>\n      <td>87.892603</td>\n      <td>34.636382</td>\n      <td>14.563907</td>\n      <td>0.165701</td>\n    </tr>\n    <tr>\n      <th>33</th>\n      <td>1990</td>\n      <td>1996</td>\n      <td>1992.916418</td>\n      <td>48.416570</td>\n      <td>16.884656</td>\n      <td>13.849794</td>\n      <td>0.286055</td>\n    </tr>\n    <tr>\n      <th>34</th>\n      <td>2180</td>\n      <td>2185</td>\n      <td>2182.432954</td>\n      <td>33.612944</td>\n      <td>10.311941</td>\n      <td>9.912400</td>\n      <td>0.294898</td>\n    </tr>\n    <tr>\n      <th>35</th>\n      <td>2500</td>\n      <td>2506</td>\n      <td>2502.743380</td>\n      <td>38.132290</td>\n      <td>13.893922</td>\n      <td>10.465084</td>\n      <td>0.274442</td>\n    </tr>\n    <tr>\n      <th>36</th>\n      <td>2551</td>\n      <td>2556</td>\n      <td>2553.741653</td>\n      <td>32.108735</td>\n      <td>10.425402</td>\n      <td>9.381191</td>\n      <td>0.292169</td>\n    </tr>\n    <tr>\n      <th>37</th>\n      <td>2593</td>\n      <td>2599</td>\n      <td>2595.669606</td>\n      <td>39.494690</td>\n      <td>10.212198</td>\n      <td>8.860322</td>\n      <td>0.224342</td>\n    </tr>\n    <tr>\n      <th>38</th>\n      <td>2814</td>\n      <td>2821</td>\n      <td>2817.393505</td>\n      <td>173.242835</td>\n      <td>48.321405</td>\n      <td>14.679607</td>\n      <td>0.084734</td>\n    </tr>\n    <tr>\n      <th>39</th>\n      <td>2934</td>\n      <td>2945</td>\n      <td>2939.302733</td>\n      <td>181.394403</td>\n      <td>43.793150</td>\n      <td>15.209557</td>\n      <td>0.083848</td>\n    </tr>\n  </tbody>\n</table>\n</div>"
     },
     "execution_count": 18,
     "metadata": {},
     "output_type": "execute_result"
    }
   ],
   "source": [
    "df4 = pd.DataFrame(df3).reset_index(drop=True)\n",
    "df4"
   ],
   "metadata": {
    "collapsed": false
   },
   "id": "644183b79c7386ed"
  },
  {
   "cell_type": "code",
   "execution_count": 18,
   "outputs": [],
   "source": [],
   "metadata": {
    "collapsed": false
   },
   "id": "78d846211a419a41"
  },
  {
   "cell_type": "code",
   "execution_count": 18,
   "outputs": [],
   "source": [],
   "metadata": {
    "collapsed": false
   },
   "id": "bd96a5405c8308a4"
  },
  {
   "cell_type": "code",
   "execution_count": 19,
   "outputs": [
    {
     "ename": "SyntaxError",
     "evalue": "invalid syntax (3583407180.py, line 1)",
     "output_type": "error",
     "traceback": [
      "\u001B[1;36m  Cell \u001B[1;32mIn[19], line 1\u001B[1;36m\u001B[0m\n\u001B[1;33m    2022-dez-15 PAREI AQUI\u001B[0m\n\u001B[1;37m                ^\u001B[0m\n\u001B[1;31mSyntaxError\u001B[0m\u001B[1;31m:\u001B[0m invalid syntax\n"
     ]
    }
   ],
   "source": [
    "2022-dez-15 PAREI AQUI\n",
    "Agora ver o link que segue\n",
    "https://stackoverflow.com/questions/55250131/pandas-compare-consecutive-rows\n",
    "que trata da questão de comparar valores em consecutive rows. Lembrar que quero pegar no multipleto\n",
    "apenas a net_area maior."
   ],
   "metadata": {
    "collapsed": false
   },
   "id": "c81e4770982515c"
  },
  {
   "cell_type": "code",
   "execution_count": null,
   "id": "55f9c320-72ff-4f40-af09-0f630ade48c6",
   "metadata": {},
   "outputs": [],
   "source": [
    "spec_res = pd.read_pickle('../../../Nextcloud/Genie_Transfer/Si/SI2018/SI11318.pkl')\n",
    "spec_res\n",
    "print(spec_res)"
   ]
  },
  {
   "cell_type": "code",
   "execution_count": null,
   "outputs": [],
   "source": [
    "# spec_res.apply(np.float(np.sqrt))\n",
    "spec_res.dtypes\n",
    "\n",
    "# spec_res[['fwhm_centr', 'prominences', 2*spec_res['variances']]]\n",
    "# spec_res[['fwhm_centr', 'prominences', np.sqrt['variances']]]"
   ],
   "metadata": {
    "collapsed": false
   },
   "id": "c2255b34d00ca2e2"
  },
  {
   "cell_type": "code",
   "execution_count": null,
   "outputs": [],
   "source": [
    "df2 = pd.DataFrame({'centr' : pd.to_numeric(spec_res['fwhm_centr']),\n",
    "                    'height': pd.to_numeric(spec_res['prominences']),\n",
    "                    'stddv': np.sqrt(pd.to_numeric(spec_res['variances']))})\n",
    "df2"
   ],
   "metadata": {
    "collapsed": false
   },
   "id": "e4d0c189a2d4d397"
  },
  {
   "cell_type": "code",
   "execution_count": null,
   "outputs": [],
   "source": [
    "df2.dtypes"
   ],
   "metadata": {
    "collapsed": false
   },
   "id": "1ab66496212fedec"
  },
  {
   "cell_type": "code",
   "execution_count": null,
   "outputs": [],
   "source": [
    "dir('~')"
   ],
   "metadata": {
    "collapsed": false
   },
   "id": "a15e0c566adb7b3e"
  },
  {
   "cell_type": "code",
   "execution_count": null,
   "outputs": [],
   "source": [
    "lkjhçlkjh pç"
   ],
   "metadata": {
    "collapsed": false
   },
   "id": "5fc50a17dd14b691"
  },
  {
   "cell_type": "code",
   "execution_count": null,
   "outputs": [],
   "source": [],
   "metadata": {
    "collapsed": false
   },
   "id": "c446c6679bd9852b"
  },
  {
   "cell_type": "code",
   "execution_count": null,
   "id": "4c0b0eca-bd29-4c22-b6a8-24a1e3bedd43",
   "metadata": {
    "tags": []
   },
   "outputs": [],
   "source": [
    "fig = go.Figure(data=go.Bar(y=[2, 3, 1]))\n",
    "fig.show()"
   ]
  },
  {
   "cell_type": "code",
   "execution_count": null,
   "id": "fa9ce5c3-9fb9-4b96-b35b-d513ffa2b3cc",
   "metadata": {},
   "outputs": [],
   "source": [
    "fig2 = go.FigureWidget()\n",
    "fig2.show()"
   ]
  },
  {
   "cell_type": "code",
   "execution_count": null,
   "id": "12315dd2-3b0e-4de2-9ecf-3244570df838",
   "metadata": {},
   "outputs": [],
   "source": [
    "fig2.add_scatter(y=[2, 1, 4, 3]);"
   ]
  },
  {
   "cell_type": "code",
   "execution_count": null,
   "id": "8a1fdc5d-7c0b-492d-9c60-06dc7bfb9192",
   "metadata": {},
   "outputs": [],
   "source": [
    "fig2.add_bar(y=[1, 4, 3, 2]);"
   ]
  },
  {
   "cell_type": "code",
   "execution_count": null,
   "id": "df00a843-51c2-4086-a742-e70c79ddf75b",
   "metadata": {},
   "outputs": [],
   "source": [
    "fig2.layout.title = 'Hello FigureWidget'"
   ]
  },
  {
   "cell_type": "code",
   "execution_count": null,
   "id": "fe9e1011-58f4-401b-9580-61a763f1e2b3",
   "metadata": {},
   "outputs": [],
   "source": [
    "fig2.show()"
   ]
  },
  {
   "cell_type": "code",
   "execution_count": null,
   "id": "7ecf816c-41f3-48d0-beb8-41eca026d491",
   "metadata": {},
   "outputs": [],
   "source": [
    "# Esse só abre no jupyter-notebook; não no jupyter-lab.\n",
    "# Acho que tem de instalar mais coisas (ver: https://plotly.com/python/getting-started/#jupyterlab-support)\n",
    "figw2 = go.FigureWidget(fig2)\n",
    "figw2"
   ]
  },
  {
   "cell_type": "code",
   "execution_count": null,
   "id": "6b72a9b5-8029-43a6-ab04-a21ccc822056",
   "metadata": {},
   "outputs": [],
   "source": []
  },
  {
   "cell_type": "code",
   "execution_count": null,
   "id": "e44456e9-2a7f-466b-a510-b7bc44c06ea4",
   "metadata": {},
   "outputs": [],
   "source": [
    "# Mais complexo: delays de todos os voos saindo de NYC em 2013\n",
    "# Exemplo em\n",
    "# https://plotly.com/python/figurewidget-app/"
   ]
  },
  {
   "cell_type": "code",
   "execution_count": null,
   "id": "5c11ea1f-13a4-4d68-873f-7ce471fedac2",
   "metadata": {},
   "outputs": [],
   "source": [
    "df = pd.read_csv(\n",
    "    'https://raw.githubusercontent.com/yankev/testing/master/datasets/nycflights.csv')\n",
    "df = df.drop(df.columns[[0]], axis=1)"
   ]
  },
  {
   "cell_type": "code",
   "execution_count": null,
   "id": "07ef0d20-44f1-42a8-a4ac-580c9ec0494b",
   "metadata": {},
   "outputs": [],
   "source": [
    "df.sample(3)"
   ]
  },
  {
   "cell_type": "code",
   "execution_count": null,
   "id": "6b55e488-606c-4608-912f-c6c92b797cbd",
   "metadata": {
    "tags": []
   },
   "outputs": [],
   "source": [
    "# Set of all carriers\n",
    "df['carrier'].unique()"
   ]
  },
  {
   "cell_type": "code",
   "execution_count": null,
   "id": "8eb0e366-e503-4efe-b312-d5d852751c75",
   "metadata": {},
   "outputs": [],
   "source": [
    "month = widgets.IntSlider(\n",
    "    value=1.0,\n",
    "    min=1.0,\n",
    "    max=12.0,\n",
    "    step=1.0,\n",
    "    description='Month:',\n",
    "    continuous_update=False\n",
    ")\n",
    "\n",
    "use_date = widgets.Checkbox(\n",
    "    description='Date: ',\n",
    "    value=True,\n",
    ")\n",
    "\n",
    "container = widgets.HBox(children=[use_date, month])\n",
    "\n",
    "textbox = widgets.Dropdown(\n",
    "    description='Airline:   ',\n",
    "    value='DL',\n",
    "    options=df['carrier'].unique().tolist()\n",
    ")\n",
    "\n",
    "origin = widgets.Dropdown(\n",
    "    options=list(df['origin'].unique()),\n",
    "    value='LGA',\n",
    "    description='Origin Airport:',\n",
    ")\n",
    "\n",
    "\n",
    "# Assign an empty figure widget with two traces\n",
    "trace1 = go.Histogram(x=df['arr_delay'], opacity=0.75, name='Arrival Delays')\n",
    "trace2 = go.Histogram(x=df['dep_delay'], opacity=0.75, name='Departure Delays')\n",
    "g = go.FigureWidget(data=[trace1, trace2],\n",
    "                    layout=go.Layout(\n",
    "                        title=dict(\n",
    "                            text='NYC FlightDatabase'\n",
    "                        ),\n",
    "                        barmode='overlay'\n",
    "                    ))"
   ]
  },
  {
   "cell_type": "code",
   "execution_count": null,
   "id": "c5999148-b7f9-47ff-ad62-29bdcc332023",
   "metadata": {},
   "outputs": [],
   "source": [
    "# Observando os widgets e alterando os gráficos de acordo"
   ]
  },
  {
   "cell_type": "code",
   "execution_count": null,
   "id": "2dd207f3-6cf0-480a-9d2b-9fbdb6ab2e40",
   "metadata": {},
   "outputs": [],
   "source": [
    "def validate():\n",
    "    if origin.value in df['origin'].unique() and textbox.value in df['carrier'].unique():\n",
    "        return True\n",
    "    else:\n",
    "        return False\n",
    "\n",
    "\n",
    "def response(change):\n",
    "    if validate():\n",
    "        if use_date.value:\n",
    "            filter_list = [i and j and k for i, j, k in\n",
    "                           zip(df['month'] == month.value, df['carrier'] == textbox.value,\n",
    "                               df['origin'] == origin.value)]\n",
    "            temp_df = df[filter_list]\n",
    "\n",
    "        else:\n",
    "            filter_list = [i and j for i, j in\n",
    "                           zip(df['carrier'] == 'DL', df['origin'] == origin.value)]\n",
    "            temp_df = df[filter_list]\n",
    "        x1 = temp_df['arr_delay']\n",
    "        x2 = temp_df['dep_delay']\n",
    "        with g.batch_update():\n",
    "            g.data[0].x = x1\n",
    "            g.data[1].x = x2\n",
    "            g.layout.barmode = 'overlay'\n",
    "            g.layout.xaxis.title = 'Delay in Minutes'\n",
    "            g.layout.yaxis.title = 'Number of Delays'\n",
    "\n",
    "\n",
    "origin.observe(response, names=\"value\")\n",
    "textbox.observe(response, names=\"value\")\n",
    "month.observe(response, names=\"value\")\n",
    "use_date.observe(response, names=\"value\")"
   ]
  },
  {
   "cell_type": "code",
   "execution_count": null,
   "id": "79869e9a-e520-455f-9f24-81949dee6952",
   "metadata": {},
   "outputs": [],
   "source": [
    "container2 = widgets.HBox([origin, textbox])"
   ]
  },
  {
   "cell_type": "code",
   "execution_count": null,
   "id": "adfe5b97",
   "metadata": {},
   "outputs": [],
   "source": [
    "# esses também: só fiz funcionar no jupyter-notebool, não no jupyter-lab"
   ]
  },
  {
   "cell_type": "code",
   "execution_count": null,
   "id": "d2e067b8-b4e7-43c7-9cdb-38a9150b1f29",
   "metadata": {},
   "outputs": [],
   "source": [
    "widgets.VBox([container,\n",
    "              container2,\n",
    "              g])"
   ]
  },
  {
   "cell_type": "code",
   "execution_count": null,
   "id": "c762e478",
   "metadata": {},
   "outputs": [],
   "source": [
    "allwidg = widgets.VBox([container,\n",
    "                        container2,\n",
    "                        g])"
   ]
  },
  {
   "cell_type": "code",
   "execution_count": null,
   "id": "ab161f88-2682-4809-90df-10267604c576",
   "metadata": {},
   "outputs": [],
   "source": [
    "lkjghpijghpiugh"
   ]
  },
  {
   "cell_type": "code",
   "execution_count": null,
   "id": "7b79c57f",
   "metadata": {},
   "outputs": [],
   "source": [
    "from ipywidgets.embed import embed_minimal_html\n",
    "embed_minimal_html('export.html', views=[allwidg], title='Widgets export')"
   ]
  },
  {
   "cell_type": "code",
   "execution_count": null,
   "id": "786e7d57",
   "metadata": {},
   "outputs": [],
   "source": [
    "import dash\n",
    "import dash_core_components as dcc\n",
    "import dash_html_components as html"
   ]
  },
  {
   "cell_type": "code",
   "execution_count": null,
   "id": "3a942443",
   "metadata": {},
   "outputs": [],
   "source": [
    "# Para rodar no navegador, uso o Dash. MAS só consegui rodar o basicão a seguir;\n",
    "# pois é um go.Figure.\n",
    "# O dos voos de NYC é um widget conteiner, não sei como fazer para rodar no navegador standalone."
   ]
  },
  {
   "cell_type": "code",
   "execution_count": null,
   "id": "a812847e",
   "metadata": {},
   "outputs": [],
   "source": [
    "# Este é o basicão\n",
    "\n",
    "fig = go.Figure(data=go.Bar(y=[23, 37, 13]))\n",
    "\n",
    "app = dash.Dash()\n",
    "app.layout = html.Div([\n",
    "    dcc.Graph(figure=fig)\n",
    "])\n",
    "\n",
    "app.run_server(debug=True, use_reloader=False)  # Turn off reloader if inside Jupyter"
   ]
  },
  {
   "cell_type": "code",
   "execution_count": null,
   "id": "dabbd753-89fb-480f-98bc-2e43bf083d08",
   "metadata": {},
   "outputs": [],
   "source": [
    "# https://plotly.com/python/line-and-scatter/#line-and-scatter-plots\n"
   ]
  },
  {
   "cell_type": "code",
   "execution_count": null,
   "id": "7bb830f5",
   "metadata": {},
   "outputs": [],
   "source": []
  },
  {
   "cell_type": "code",
   "execution_count": null,
   "id": "c782628e",
   "metadata": {},
   "outputs": [],
   "source": [
    "# TEM PCA!!! Análise de componentes principais\n",
    "# https://plotly.com/python/pca-visualization/"
   ]
  },
  {
   "cell_type": "code",
   "execution_count": null,
   "id": "98df474e-c379-4106-bcd9-2386bdf10c5d",
   "metadata": {},
   "outputs": [],
   "source": [
    "# Esse a seguir ainda não consegui fazer funcionar. É o tópico Histograms in Dash.\n",
    "# https://plotly.com/python/histograms/#histograms-in-dash\n",
    "\n",
    "# Acho que não dá para rodar no jupyter do jeito que está, talvez fazer o download do app.py"
   ]
  },
  {
   "cell_type": "code",
   "execution_count": null,
   "id": "dfe8aeaa-cbcb-4001-9ec5-fa53c6975037",
   "metadata": {},
   "outputs": [],
   "source": [
    "import dash\n",
    "import dash_core_components as dcc\n",
    "import dash_html_components as html\n",
    "from dash.dependencies import Input, Output\n",
    "import plotly.express as px\n",
    "import numpy as np\n",
    "\n",
    "np.random.seed(2020)\n",
    "\n",
    "app = dash.Dash(__name__)\n",
    "\n",
    "app.layout = html.Div([\n",
    "    dcc.Graph(id=\"graph\"),\n",
    "    html.P(\"Mean:\"),\n",
    "    dcc.Slider(id=\"mean\", min=-3, max=3, value=0, \n",
    "               marks={-3: '-3', 3: '3'}),\n",
    "    html.P(\"Standard Deviation:\"),\n",
    "    dcc.Slider(id=\"std\", min=1, max=3, value=1, \n",
    "               marks={1: '1', 3: '3'}),\n",
    "])\n",
    "\n",
    "@app.callback(\n",
    "    Output(\"graph\", \"figure\"), \n",
    "    [Input(\"mean\", \"value\"), \n",
    "     Input(\"std\", \"value\")])\n",
    "def display_color(mean, std):\n",
    "    data = np.random.normal(mean, std, size=500)\n",
    "    fig = px.histogram(data, nbins=30, range_x=[-10, 10])\n",
    "    return fig\n",
    "\n",
    "app.run_server(debug=True)"
   ]
  },
  {
   "cell_type": "code",
   "execution_count": null,
   "id": "0c8acd74-1d1e-4f90-9574-f0decbbf0a75",
   "metadata": {},
   "outputs": [],
   "source": []
  },
  {
   "cell_type": "code",
   "execution_count": null,
   "id": "eb118060-c1a0-4423-a5bd-046d7fff4b46",
   "metadata": {},
   "outputs": [],
   "source": []
  }
 ],
 "metadata": {
  "kernelspec": {
   "display_name": "Python 3 (ipykernel)",
   "language": "python",
   "name": "python3"
  },
  "language_info": {
   "codemirror_mode": {
    "name": "ipython",
    "version": 3
   },
   "file_extension": ".py",
   "mimetype": "text/x-python",
   "name": "python",
   "nbconvert_exporter": "python",
   "pygments_lexer": "ipython3",
   "version": "3.10.4"
  }
 },
 "nbformat": 4,
 "nbformat_minor": 5
}
