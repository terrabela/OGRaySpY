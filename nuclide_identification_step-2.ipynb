{
 "cells": [
  {
   "cell_type": "code",
   "execution_count": null,
   "id": "initial_id",
   "metadata": {
    "collapsed": true,
    "ExecuteTime": {
     "end_time": "2023-12-27T19:20:33.480414400Z",
     "start_time": "2023-12-27T19:20:33.418045600Z"
    }
   },
   "outputs": [],
   "source": []
  },
  {
   "cell_type": "code",
   "outputs": [],
   "source": [
    "import numpy as np\n",
    "from numpy.polynomial import Polynomial as P  # 2020-09-06 Esta é a nova classe recomendada\n",
    "from sklearn import linear_model\n",
    "\n",
    "import pandas as pd\n",
    "from random import randrange\n",
    "# import plotly.graph_objects as go"
   ],
   "metadata": {
    "collapsed": false,
    "ExecuteTime": {
     "end_time": "2023-12-27T19:20:47.513419900Z",
     "start_time": "2023-12-27T19:20:46.315146300Z"
    }
   },
   "id": "a73cd3f68e3c92ce",
   "execution_count": 1
  },
  {
   "cell_type": "code",
   "outputs": [],
   "source": [],
   "metadata": {
    "collapsed": false,
    "ExecuteTime": {
     "end_time": "2023-12-27T19:20:57.897779100Z",
     "start_time": "2023-12-27T19:20:57.790622900Z"
    }
   },
   "id": "ed7a82b43e5275be",
   "execution_count": 6
  },
  {
   "cell_type": "code",
   "outputs": [],
   "source": [],
   "metadata": {
    "collapsed": false,
    "ExecuteTime": {
     "start_time": "2023-12-27T19:01:04.868870300Z"
    }
   },
   "id": "1e25d75b9d026c9e"
  },
  {
   "cell_type": "code",
   "outputs": [],
   "source": [
    "dir(a_spec)"
   ],
   "metadata": {
    "collapsed": false,
    "ExecuteTime": {
     "start_time": "2023-12-27T19:01:04.873985Z"
    }
   },
   "id": "94e97ef2c0324be3",
   "execution_count": null
  },
  {
   "cell_type": "code",
   "outputs": [],
   "source": [
    "a_spec.total_analysis(gener_dataframe=True, results_path='../ograyspy_results')\n",
    "# A opção acima, gener_dataframe=True,  grava o pkl_file do espectro\n",
    "vars(a_spec)"
   ],
   "metadata": {
    "collapsed": false,
    "ExecuteTime": {
     "start_time": "2023-12-27T19:01:04.877018600Z"
    }
   },
   "id": "b475d7257a13d9f0",
   "execution_count": null
  },
  {
   "cell_type": "code",
   "outputs": [],
   "source": [
    "a_spec.identify_nuclides(nucl_iear1_df)"
   ],
   "metadata": {
    "collapsed": false,
    "ExecuteTime": {
     "start_time": "2023-12-27T19:01:04.881134700Z"
    }
   },
   "id": "e647837ad43aa684",
   "execution_count": null
  },
  {
   "cell_type": "code",
   "outputs": [],
   "source": [
    "aux_3, pks_comprehensive_df, df_result, d5_grouped, res_1 = (\n",
    "    a_spec.create_activities_df(nucl_iear1_df, results_path='../ograyspy_results')\n",
    ")"
   ],
   "metadata": {
    "collapsed": false,
    "ExecuteTime": {
     "start_time": "2023-12-27T19:01:04.883169900Z"
    }
   },
   "id": "bbfb02c968b8f044",
   "execution_count": null
  },
  {
   "cell_type": "code",
   "outputs": [],
   "source": [
    "aux_3"
   ],
   "metadata": {
    "collapsed": false,
    "ExecuteTime": {
     "start_time": "2023-12-27T19:01:04.887243200Z"
    }
   },
   "id": "9e84b59f3e8624a3",
   "execution_count": null
  },
  {
   "cell_type": "code",
   "outputs": [],
   "source": [
    "pks_comprehensive_df"
   ],
   "metadata": {
    "collapsed": false,
    "ExecuteTime": {
     "start_time": "2023-12-27T19:01:04.890842500Z"
    }
   },
   "id": "1e8f54b5eda9ef9d",
   "execution_count": null
  },
  {
   "cell_type": "code",
   "outputs": [
    {
     "ename": "NameError",
     "evalue": "name 'df_result' is not defined",
     "output_type": "error",
     "traceback": [
      "\u001B[1;31m---------------------------------------------------------------------------\u001B[0m",
      "\u001B[1;31mNameError\u001B[0m                                 Traceback (most recent call last)",
      "Cell \u001B[1;32mIn[133], line 1\u001B[0m\n\u001B[1;32m----> 1\u001B[0m \u001B[43mdf_result\u001B[49m\n",
      "\u001B[1;31mNameError\u001B[0m: name 'df_result' is not defined"
     ]
    }
   ],
   "source": [
    "df_result"
   ],
   "metadata": {
    "collapsed": false,
    "ExecuteTime": {
     "start_time": "2023-12-27T19:01:04.927218100Z"
    }
   },
   "id": "a2c39ce9624cec13",
   "execution_count": 133
  },
  {
   "cell_type": "code",
   "outputs": [
    {
     "ename": "NameError",
     "evalue": "name 'df_result' is not defined",
     "output_type": "error",
     "traceback": [
      "\u001B[1;31m---------------------------------------------------------------------------\u001B[0m",
      "\u001B[1;31mNameError\u001B[0m                                 Traceback (most recent call last)",
      "Cell \u001B[1;32mIn[134], line 1\u001B[0m\n\u001B[1;32m----> 1\u001B[0m \u001B[43mdf_result\u001B[49m\u001B[38;5;241m.\u001B[39mcolumns\n",
      "\u001B[1;31mNameError\u001B[0m: name 'df_result' is not defined"
     ]
    }
   ],
   "source": [
    "df_result.columns"
   ],
   "metadata": {
    "collapsed": false,
    "ExecuteTime": {
     "end_time": "2023-12-27T19:01:07.189996400Z",
     "start_time": "2023-12-27T19:01:05.291364800Z"
    }
   },
   "id": "7320dd81718ec874",
   "execution_count": 134
  },
  {
   "cell_type": "code",
   "outputs": [
    {
     "ename": "NameError",
     "evalue": "name 'df_result' is not defined",
     "output_type": "error",
     "traceback": [
      "\u001B[1;31m---------------------------------------------------------------------------\u001B[0m",
      "\u001B[1;31mNameError\u001B[0m                                 Traceback (most recent call last)",
      "Cell \u001B[1;32mIn[135], line 1\u001B[0m\n\u001B[1;32m----> 1\u001B[0m \u001B[43mdf_result\u001B[49m[[\u001B[38;5;124m'\u001B[39m\u001B[38;5;124mpeaks\u001B[39m\u001B[38;5;124m'\u001B[39m,\u001B[38;5;124m'\u001B[39m\u001B[38;5;124mrough_sums\u001B[39m\u001B[38;5;124m'\u001B[39m,\u001B[38;5;124m'\u001B[39m\u001B[38;5;124mnuclide_name\u001B[39m\u001B[38;5;124m'\u001B[39m]]\n",
      "\u001B[1;31mNameError\u001B[0m: name 'df_result' is not defined"
     ]
    }
   ],
   "source": [
    "df_result[['peaks','rough_sums','nuclide_name']]"
   ],
   "metadata": {
    "collapsed": false,
    "ExecuteTime": {
     "start_time": "2023-12-27T19:01:07.169413700Z"
    }
   },
   "id": "3ec7de56db2a0e0a",
   "execution_count": 135
  },
  {
   "cell_type": "code",
   "outputs": [
    {
     "ename": "NameError",
     "evalue": "name 'd5_grouped' is not defined",
     "output_type": "error",
     "traceback": [
      "\u001B[1;31m---------------------------------------------------------------------------\u001B[0m",
      "\u001B[1;31mNameError\u001B[0m                                 Traceback (most recent call last)",
      "Cell \u001B[1;32mIn[136], line 1\u001B[0m\n\u001B[1;32m----> 1\u001B[0m \u001B[43md5_grouped\u001B[49m\n",
      "\u001B[1;31mNameError\u001B[0m: name 'd5_grouped' is not defined"
     ]
    }
   ],
   "source": [
    "d5_grouped"
   ],
   "metadata": {
    "collapsed": false,
    "ExecuteTime": {
     "end_time": "2023-12-27T19:01:07.440658Z",
     "start_time": "2023-12-27T19:01:07.243005800Z"
    }
   },
   "id": "b3f42d81b0974bce",
   "execution_count": 136
  },
  {
   "cell_type": "code",
   "outputs": [
    {
     "ename": "NameError",
     "evalue": "name 'res_1' is not defined",
     "output_type": "error",
     "traceback": [
      "\u001B[1;31m---------------------------------------------------------------------------\u001B[0m",
      "\u001B[1;31mNameError\u001B[0m                                 Traceback (most recent call last)",
      "Cell \u001B[1;32mIn[137], line 1\u001B[0m\n\u001B[1;32m----> 1\u001B[0m \u001B[43mres_1\u001B[49m\n",
      "\u001B[1;31mNameError\u001B[0m: name 'res_1' is not defined"
     ]
    }
   ],
   "source": [
    "res_1"
   ],
   "metadata": {
    "collapsed": false,
    "ExecuteTime": {
     "start_time": "2023-12-27T19:01:07.419493400Z"
    }
   },
   "id": "8d86fb046d0a6154",
   "execution_count": 137
  },
  {
   "cell_type": "code",
   "outputs": [],
   "source": [],
   "metadata": {
    "collapsed": false,
    "ExecuteTime": {
     "end_time": "2023-12-27T19:01:07.647660Z",
     "start_time": "2023-12-27T19:01:07.489516800Z"
    }
   },
   "id": "5026a58562edd241",
   "execution_count": 137
  },
  {
   "cell_type": "code",
   "outputs": [],
   "source": [
    "# 2023-Oct-25 PAREI AQUI. Reformatar-deletar tudo o que segue."
   ],
   "metadata": {
    "collapsed": false,
    "ExecuteTime": {
     "end_time": "2023-12-27T19:01:07.717224300Z",
     "start_time": "2023-12-27T19:01:07.643369400Z"
    }
   },
   "id": "279ebd478e1c386b",
   "execution_count": 138
  },
  {
   "cell_type": "code",
   "outputs": [
    {
     "ename": "NameError",
     "evalue": "name 'justtostopthenotebook' is not defined",
     "output_type": "error",
     "traceback": [
      "\u001B[1;31m---------------------------------------------------------------------------\u001B[0m",
      "\u001B[1;31mNameError\u001B[0m                                 Traceback (most recent call last)",
      "Cell \u001B[1;32mIn[139], line 1\u001B[0m\n\u001B[1;32m----> 1\u001B[0m \u001B[43mjusttostopthenotebook\u001B[49m\n",
      "\u001B[1;31mNameError\u001B[0m: name 'justtostopthenotebook' is not defined"
     ]
    }
   ],
   "source": [
    "justtostopthenotebook"
   ],
   "metadata": {
    "collapsed": false,
    "ExecuteTime": {
     "end_time": "2023-12-27T19:01:07.808322100Z",
     "start_time": "2023-12-27T19:01:07.697828300Z"
    }
   },
   "id": "1d2679b96fe24c87",
   "execution_count": 139
  },
  {
   "cell_type": "code",
   "outputs": [
    {
     "data": {
      "text/plain": "['__class__',\n '__delattr__',\n '__dict__',\n '__dir__',\n '__doc__',\n '__eq__',\n '__format__',\n '__ge__',\n '__getattribute__',\n '__gt__',\n '__hash__',\n '__init__',\n '__init_subclass__',\n '__le__',\n '__lt__',\n '__module__',\n '__ne__',\n '__new__',\n '__reduce__',\n '__reduce_ex__',\n '__repr__',\n '__setattr__',\n '__sizeof__',\n '__str__',\n '__subclasshook__',\n '__weakref__',\n 'add_engy_to_pks_df',\n 'channel_energy_calib',\n 'create_activities_df',\n 'curr_h_win',\n 'det_descr',\n 'en_eff',\n 'f_name',\n 'final_composed_baseline',\n 'generate_pandas_dataframe',\n 'identify_nuclides',\n 'lv_time',\n 'net_spec_ser_an',\n 'nucl_an',\n 'origin_spec_ser_an',\n 'read_pkl_file',\n 'reduced_f_name',\n 'results_pkl_file',\n 'rl_time',\n 'sam_descr',\n 'source_datetime',\n 'spec_io',\n 'start_datetime',\n 'sufx',\n 'total_analysis']"
     },
     "execution_count": 140,
     "metadata": {},
     "output_type": "execute_result"
    }
   ],
   "source": [
    "dir(a_spec)"
   ],
   "metadata": {
    "collapsed": false,
    "ExecuteTime": {
     "end_time": "2023-12-27T19:01:07.956066700Z",
     "start_time": "2023-12-27T19:01:07.790953300Z"
    }
   },
   "id": "cd90131260567f63",
   "execution_count": 140
  },
  {
   "cell_type": "code",
   "outputs": [],
   "source": [],
   "metadata": {
    "collapsed": false,
    "ExecuteTime": {
     "end_time": "2023-12-27T19:01:08.012925100Z",
     "start_time": "2023-12-27T19:01:07.840155600Z"
    }
   },
   "id": "d7b3f30e895e9dcb",
   "execution_count": 140
  },
  {
   "cell_type": "code",
   "outputs": [],
   "source": [],
   "metadata": {
    "collapsed": false,
    "ExecuteTime": {
     "end_time": "2023-12-27T19:01:08.143882300Z",
     "start_time": "2023-12-27T19:01:08.008696700Z"
    }
   },
   "id": "1fcca21b88b54b75",
   "execution_count": 140
  },
  {
   "cell_type": "code",
   "outputs": [
    {
     "data": {
      "text/plain": "                   info_plat info_mach info_syst info_node         home_path  \\\n0  Windows-10-10.0.19045-SP0     AMD64   Windows    I56611  C:\\Users\\mmaduar   \n\n                                spectra_path  n_files  a_spec_ind a_spec_name  \\\n0  C:\\Users\\mmaduar\\Nextcloud\\Genie_Transfer     7316           0               \n\n  reduced_f_name                                         files_list  \\\n0                 [C:\\Users\\mmaduar\\Nextcloud\\Genie_Transfer\\BGN...   \n\n                            reduced_names_files_list  \\\n0  [BGNOVO.Chn, 2018/CCI/CCI (I-123) 210218.Chn, ...   \n\n                    spectra_pattern_names   pkl_folder_files  \\\n0  [**/*.[Cc][Hh][Nn], **/*.[Ii][Ee][Cc]]  WindowsI56611.pkl   \n\n     results_path_name  \n0  ../ograyspy_results  ",
      "text/html": "<div>\n<style scoped>\n    .dataframe tbody tr th:only-of-type {\n        vertical-align: middle;\n    }\n\n    .dataframe tbody tr th {\n        vertical-align: top;\n    }\n\n    .dataframe thead th {\n        text-align: right;\n    }\n</style>\n<table border=\"1\" class=\"dataframe\">\n  <thead>\n    <tr style=\"text-align: right;\">\n      <th></th>\n      <th>info_plat</th>\n      <th>info_mach</th>\n      <th>info_syst</th>\n      <th>info_node</th>\n      <th>home_path</th>\n      <th>spectra_path</th>\n      <th>n_files</th>\n      <th>a_spec_ind</th>\n      <th>a_spec_name</th>\n      <th>reduced_f_name</th>\n      <th>files_list</th>\n      <th>reduced_names_files_list</th>\n      <th>spectra_pattern_names</th>\n      <th>pkl_folder_files</th>\n      <th>results_path_name</th>\n    </tr>\n  </thead>\n  <tbody>\n    <tr>\n      <th>0</th>\n      <td>Windows-10-10.0.19045-SP0</td>\n      <td>AMD64</td>\n      <td>Windows</td>\n      <td>I56611</td>\n      <td>C:\\Users\\mmaduar</td>\n      <td>C:\\Users\\mmaduar\\Nextcloud\\Genie_Transfer</td>\n      <td>7316</td>\n      <td>0</td>\n      <td></td>\n      <td></td>\n      <td>[C:\\Users\\mmaduar\\Nextcloud\\Genie_Transfer\\BGN...</td>\n      <td>[BGNOVO.Chn, 2018/CCI/CCI (I-123) 210218.Chn, ...</td>\n      <td>[**/*.[Cc][Hh][Nn], **/*.[Ii][Ee][Cc]]</td>\n      <td>WindowsI56611.pkl</td>\n      <td>../ograyspy_results</td>\n    </tr>\n  </tbody>\n</table>\n</div>"
     },
     "execution_count": 141,
     "metadata": {},
     "output_type": "execute_result"
    }
   ],
   "source": [
    "spectra_list_df"
   ],
   "metadata": {
    "collapsed": false,
    "ExecuteTime": {
     "end_time": "2023-12-27T19:01:08.240417700Z",
     "start_time": "2023-12-27T19:01:08.124961300Z"
    }
   },
   "id": "eb9621e4c45c394b",
   "execution_count": 141
  },
  {
   "cell_type": "code",
   "outputs": [],
   "source": [],
   "metadata": {
    "collapsed": false,
    "ExecuteTime": {
     "end_time": "2023-12-27T19:01:08.307167400Z",
     "start_time": "2023-12-27T19:01:08.178360900Z"
    }
   },
   "id": "ab0d0fc6eacb6fe5",
   "execution_count": 141
  },
  {
   "cell_type": "code",
   "outputs": [
    {
     "ename": "NameError",
     "evalue": "name 'nucl_iear1_df' is not defined",
     "output_type": "error",
     "traceback": [
      "\u001B[1;31m---------------------------------------------------------------------------\u001B[0m",
      "\u001B[1;31mNameError\u001B[0m                                 Traceback (most recent call last)",
      "Cell \u001B[1;32mIn[142], line 1\u001B[0m\n\u001B[1;32m----> 1\u001B[0m nucl_iear1_selctd_gamms_df \u001B[38;5;241m=\u001B[39m \u001B[43mnucl_iear1_df\u001B[49m\u001B[38;5;241m.\u001B[39mloc [\n\u001B[0;32m      2\u001B[0m     (nucl_iear1_df\u001B[38;5;241m.\u001B[39mintensity \u001B[38;5;241m>\u001B[39m \u001B[38;5;241m1.0\u001B[39m) \u001B[38;5;241m&\u001B[39m nucl_iear1_df\u001B[38;5;241m.\u001B[39mis_to_consider\n\u001B[0;32m      3\u001B[0m ]\n\u001B[0;32m      4\u001B[0m nucl_iear1_selctd_gamms_df\n",
      "\u001B[1;31mNameError\u001B[0m: name 'nucl_iear1_df' is not defined"
     ]
    }
   ],
   "source": [
    "nucl_iear1_selctd_gamms_df = nucl_iear1_df.loc [\n",
    "    (nucl_iear1_df.intensity > 1.0) & nucl_iear1_df.is_to_consider\n",
    "]\n",
    "nucl_iear1_selctd_gamms_df"
   ],
   "metadata": {
    "collapsed": false,
    "ExecuteTime": {
     "end_time": "2023-12-27T19:01:08.612573Z",
     "start_time": "2023-12-27T19:01:08.289071700Z"
    }
   },
   "id": "42e2820829560413",
   "execution_count": 142
  },
  {
   "cell_type": "code",
   "outputs": [
    {
     "ename": "NameError",
     "evalue": "name 'nucl_iear1_selctd_gamms_df' is not defined",
     "output_type": "error",
     "traceback": [
      "\u001B[1;31m---------------------------------------------------------------------------\u001B[0m",
      "\u001B[1;31mNameError\u001B[0m                                 Traceback (most recent call last)",
      "Cell \u001B[1;32mIn[143], line 1\u001B[0m\n\u001B[1;32m----> 1\u001B[0m \u001B[43mnucl_iear1_selctd_gamms_df\u001B[49m\u001B[38;5;241m.\u001B[39mdtypes\n",
      "\u001B[1;31mNameError\u001B[0m: name 'nucl_iear1_selctd_gamms_df' is not defined"
     ]
    }
   ],
   "source": [
    "nucl_iear1_selctd_gamms_df.dtypes"
   ],
   "metadata": {
    "collapsed": false,
    "ExecuteTime": {
     "start_time": "2023-12-27T19:01:08.479693400Z"
    }
   },
   "id": "fbcaefd3533dbb4e",
   "execution_count": 143
  },
  {
   "cell_type": "code",
   "outputs": [],
   "source": [
    "# Primeiro fiz assim:\n",
    "# cross_df = pd.merge(pks_comprehensive_df, nucl_iear1_selctd_gamms_df, how='cross')\n",
    "# cross_df[\"delta_en\"] = cross_df.engy_pk_det - cross_df.energy\n",
    "# cross_df\n",
    "\n",
    "# Agora fazer de novo:\n",
    "# cross_df_2 = pd.merge(matching_peaks_df, nucl_iear1_selctd_gamms_df, how='cross', suffixes=('_x', None))\n",
    "# cross_df_2.drop(cross_df_2.filter(regex='_x$').columns, axis=1, inplace=True)\n",
    "# cross_df_2[\"delta_en\"] = cross_df_2.recalib_engy_ransac - cross_df_2.energy\n",
    "# cross_df_2"
   ],
   "metadata": {
    "collapsed": false,
    "ExecuteTime": {
     "end_time": "2023-12-27T19:01:08.857166200Z",
     "start_time": "2023-12-27T19:01:08.677418700Z"
    }
   },
   "id": "29789fd630e95775",
   "execution_count": 144
  },
  {
   "cell_type": "code",
   "outputs": [],
   "source": [],
   "metadata": {
    "collapsed": false,
    "ExecuteTime": {
     "end_time": "2023-12-27T19:01:08.934100600Z",
     "start_time": "2023-12-27T19:01:08.854116500Z"
    }
   },
   "id": "819a5ff41a42f0b3",
   "execution_count": 144
  },
  {
   "cell_type": "code",
   "outputs": [],
   "source": [
    "# cross_df = pd.merge(pks_comprehensive_df, nucl_iear1_selctd_gamms_df, how='cross')\n",
    " #    cross_df[\"delta_en\"] = cross_df.engy_pk_det - cross_df.energy\n",
    "  #  cross_df "
   ],
   "metadata": {
    "collapsed": false,
    "ExecuteTime": {
     "end_time": "2023-12-27T19:01:09.058077Z",
     "start_time": "2023-12-27T19:01:08.912364900Z"
    }
   },
   "id": "272d6a879a2ef24e",
   "execution_count": 145
  },
  {
   "cell_type": "code",
   "outputs": [],
   "source": [],
   "metadata": {
    "collapsed": false,
    "ExecuteTime": {
     "end_time": "2023-12-27T19:01:09.130720Z",
     "start_time": "2023-12-27T19:01:09.039679400Z"
    }
   },
   "id": "6971388d6dcf01c",
   "execution_count": 145
  },
  {
   "cell_type": "code",
   "outputs": [],
   "source": [
    "# 2023-Oct-25\n",
    "# Proceed from here."
   ],
   "metadata": {
    "collapsed": false,
    "ExecuteTime": {
     "end_time": "2023-12-27T19:01:09.233710400Z",
     "start_time": "2023-12-27T19:01:09.114398900Z"
    }
   },
   "id": "31e53ab3719eecd6",
   "execution_count": 146
  },
  {
   "cell_type": "code",
   "outputs": [],
   "source": [],
   "metadata": {
    "collapsed": false,
    "ExecuteTime": {
     "end_time": "2023-12-27T19:01:09.396410800Z",
     "start_time": "2023-12-27T19:01:09.229647800Z"
    }
   },
   "id": "84a7c1ce465e307a",
   "execution_count": 146
  },
  {
   "cell_type": "code",
   "outputs": [
    {
     "ename": "NameError",
     "evalue": "name 'new_ch_en_calib' is not defined",
     "output_type": "error",
     "traceback": [
      "\u001B[1;31m---------------------------------------------------------------------------\u001B[0m",
      "\u001B[1;31mNameError\u001B[0m                                 Traceback (most recent call last)",
      "Cell \u001B[1;32mIn[147], line 1\u001B[0m\n\u001B[1;32m----> 1\u001B[0m \u001B[43mnew_ch_en_calib\u001B[49m\n",
      "\u001B[1;31mNameError\u001B[0m: name 'new_ch_en_calib' is not defined"
     ]
    }
   ],
   "source": [
    "new_ch_en_calib"
   ],
   "metadata": {
    "collapsed": false,
    "ExecuteTime": {
     "end_time": "2023-12-27T19:01:09.450215600Z",
     "start_time": "2023-12-27T19:01:09.296275100Z"
    }
   },
   "id": "fdef321dbfcc6529",
   "execution_count": 147
  },
  {
   "cell_type": "code",
   "outputs": [],
   "source": [],
   "metadata": {
    "collapsed": false,
    "ExecuteTime": {
     "end_time": "2023-12-27T19:01:09.586197600Z",
     "start_time": "2023-12-27T19:01:09.436941400Z"
    }
   },
   "id": "99e95a8e9ce8fa95",
   "execution_count": 147
  },
  {
   "cell_type": "code",
   "outputs": [],
   "source": [
    "def en_eff(engy):\n",
    "    return np.exp(p_eff(np.log(engy)))"
   ],
   "metadata": {
    "collapsed": false,
    "ExecuteTime": {
     "end_time": "2023-12-27T19:01:09.697940100Z",
     "start_time": "2023-12-27T19:01:09.584161500Z"
    }
   },
   "id": "2412b6f05aebf412",
   "execution_count": 148
  },
  {
   "cell_type": "code",
   "outputs": [
    {
     "ename": "NameError",
     "evalue": "name 'p_eff' is not defined",
     "output_type": "error",
     "traceback": [
      "\u001B[1;31m---------------------------------------------------------------------------\u001B[0m",
      "\u001B[1;31mNameError\u001B[0m                                 Traceback (most recent call last)",
      "Cell \u001B[1;32mIn[149], line 1\u001B[0m\n\u001B[1;32m----> 1\u001B[0m \u001B[43men_eff\u001B[49m\u001B[43m(\u001B[49m\u001B[38;5;241;43m1332\u001B[39;49m\u001B[43m)\u001B[49m\n",
      "Cell \u001B[1;32mIn[148], line 2\u001B[0m, in \u001B[0;36men_eff\u001B[1;34m(engy)\u001B[0m\n\u001B[0;32m      1\u001B[0m \u001B[38;5;28;01mdef\u001B[39;00m \u001B[38;5;21men_eff\u001B[39m(engy):\n\u001B[1;32m----> 2\u001B[0m     \u001B[38;5;28;01mreturn\u001B[39;00m np\u001B[38;5;241m.\u001B[39mexp(\u001B[43mp_eff\u001B[49m(np\u001B[38;5;241m.\u001B[39mlog(engy)))\n",
      "\u001B[1;31mNameError\u001B[0m: name 'p_eff' is not defined"
     ]
    }
   ],
   "source": [
    "en_eff(1332)"
   ],
   "metadata": {
    "collapsed": false,
    "ExecuteTime": {
     "end_time": "2023-12-27T19:01:09.798877700Z",
     "start_time": "2023-12-27T19:01:09.679613100Z"
    }
   },
   "id": "c2eb86156bc62626",
   "execution_count": 149
  },
  {
   "cell_type": "code",
   "outputs": [],
   "source": [],
   "metadata": {
    "collapsed": false,
    "ExecuteTime": {
     "end_time": "2023-12-27T19:01:09.835588700Z",
     "start_time": "2023-12-27T19:01:09.780381200Z"
    }
   },
   "id": "c92f0992389609c1",
   "execution_count": 149
  },
  {
   "cell_type": "code",
   "outputs": [],
   "source": [
    "# 2023-Sep-21\n",
    "# Now use the assembled peak df, read_result_df, to proceed."
   ],
   "metadata": {
    "collapsed": false,
    "ExecuteTime": {
     "end_time": "2023-12-27T19:01:09.995706400Z",
     "start_time": "2023-12-27T19:01:09.830375100Z"
    }
   },
   "id": "93810b90237bbc15",
   "execution_count": 150
  },
  {
   "cell_type": "code",
   "outputs": [],
   "source": [],
   "metadata": {
    "collapsed": false,
    "ExecuteTime": {
     "end_time": "2023-12-27T19:01:10.047352200Z",
     "start_time": "2023-12-27T19:01:09.970901600Z"
    }
   },
   "id": "3516772afc12c847",
   "execution_count": 150
  },
  {
   "cell_type": "code",
   "outputs": [],
   "source": [],
   "metadata": {
    "collapsed": false,
    "ExecuteTime": {
     "end_time": "2023-12-27T19:01:10.153022800Z",
     "start_time": "2023-12-27T19:01:10.036618Z"
    }
   },
   "id": "4bdc871f0ef2e26",
   "execution_count": 150
  },
  {
   "cell_type": "code",
   "outputs": [],
   "source": [],
   "metadata": {
    "collapsed": false,
    "ExecuteTime": {
     "end_time": "2023-12-27T19:01:10.239069200Z",
     "start_time": "2023-12-27T19:01:10.147639700Z"
    }
   },
   "id": "6947bb662c529df5",
   "execution_count": 150
  },
  {
   "cell_type": "code",
   "outputs": [],
   "source": [],
   "metadata": {
    "collapsed": false,
    "ExecuteTime": {
     "end_time": "2023-12-27T19:01:10.314218Z",
     "start_time": "2023-12-27T19:01:10.215950500Z"
    }
   },
   "id": "5a1ce72e0a503c1f",
   "execution_count": 150
  },
  {
   "cell_type": "code",
   "outputs": [],
   "source": [
    "# 2023-Oct-24: FIX\n",
    "# Integrate what follows here"
   ],
   "metadata": {
    "collapsed": false,
    "ExecuteTime": {
     "end_time": "2023-12-27T19:01:10.401350700Z",
     "start_time": "2023-12-27T19:01:10.308921500Z"
    }
   },
   "id": "90d220cd3c85c66d",
   "execution_count": 151
  },
  {
   "cell_type": "code",
   "outputs": [],
   "source": [],
   "metadata": {
    "collapsed": false,
    "ExecuteTime": {
     "end_time": "2023-12-27T19:01:10.456220200Z",
     "start_time": "2023-12-27T19:01:10.358704700Z"
    }
   },
   "id": "e9fafa2738d3f723",
   "execution_count": 151
  },
  {
   "cell_type": "code",
   "outputs": [
    {
     "ename": "NameError",
     "evalue": "name 'analysis_df' is not defined",
     "output_type": "error",
     "traceback": [
      "\u001B[1;31m---------------------------------------------------------------------------\u001B[0m",
      "\u001B[1;31mNameError\u001B[0m                                 Traceback (most recent call last)",
      "Cell \u001B[1;32mIn[152], line 1\u001B[0m\n\u001B[1;32m----> 1\u001B[0m \u001B[43manalysis_df\u001B[49m\u001B[38;5;241m.\u001B[39mreset_index(drop\u001B[38;5;241m=\u001B[39m\u001B[38;5;28;01mTrue\u001B[39;00m, inplace\u001B[38;5;241m=\u001B[39m\u001B[38;5;28;01mTrue\u001B[39;00m)\n",
      "\u001B[1;31mNameError\u001B[0m: name 'analysis_df' is not defined"
     ]
    }
   ],
   "source": [
    "analysis_df.reset_index(drop=True, inplace=True)"
   ],
   "metadata": {
    "collapsed": false,
    "ExecuteTime": {
     "end_time": "2023-12-27T19:01:10.566583900Z",
     "start_time": "2023-12-27T19:01:10.453039700Z"
    }
   },
   "id": "e05225d7da7be12f",
   "execution_count": 152
  },
  {
   "cell_type": "code",
   "outputs": [
    {
     "ename": "NameError",
     "evalue": "name 'analysis_df' is not defined",
     "output_type": "error",
     "traceback": [
      "\u001B[1;31m---------------------------------------------------------------------------\u001B[0m",
      "\u001B[1;31mNameError\u001B[0m                                 Traceback (most recent call last)",
      "Cell \u001B[1;32mIn[153], line 1\u001B[0m\n\u001B[1;32m----> 1\u001B[0m analysis_df[\u001B[38;5;124m'\u001B[39m\u001B[38;5;124mtest\u001B[39m\u001B[38;5;124m'\u001B[39m] \u001B[38;5;241m=\u001B[39m \u001B[43manalysis_df\u001B[49m[\u001B[38;5;124m'\u001B[39m\u001B[38;5;124mdecay_\u001B[39m\u001B[38;5;124m%\u001B[39m\u001B[38;5;124m'\u001B[39m]\u001B[38;5;241m*\u001B[39manalysis_df[\u001B[38;5;124m'\u001B[39m\u001B[38;5;124mintensity\u001B[39m\u001B[38;5;124m'\u001B[39m]\u001B[38;5;241m/\u001B[39m\u001B[38;5;241m100\u001B[39m\n",
      "\u001B[1;31mNameError\u001B[0m: name 'analysis_df' is not defined"
     ]
    }
   ],
   "source": [
    "analysis_df['test'] = analysis_df['decay_%']*analysis_df['intensity']/100"
   ],
   "metadata": {
    "collapsed": false,
    "ExecuteTime": {
     "start_time": "2023-12-27T19:01:10.547338800Z"
    }
   },
   "id": "d3c1450b63560414",
   "execution_count": 153
  },
  {
   "cell_type": "code",
   "outputs": [],
   "source": [
    "analysis_df"
   ],
   "metadata": {
    "collapsed": false,
    "ExecuteTime": {
     "end_time": "2023-12-27T19:01:11.551625200Z",
     "start_time": "2023-12-27T19:01:11.413948100Z"
    }
   },
   "id": "f10a587c6dbdf519",
   "execution_count": null
  },
  {
   "cell_type": "code",
   "outputs": [],
   "source": [
    "analysis_df.reindex(['nuclide_name'])"
   ],
   "metadata": {
    "collapsed": false,
    "ExecuteTime": {
     "start_time": "2023-12-27T19:01:11.416103300Z"
    }
   },
   "id": "63e0383ab8861d9b",
   "execution_count": null
  },
  {
   "cell_type": "code",
   "outputs": [],
   "source": [
    "# d5_where = d5.where(d5.nuclide_name==\"110ag\")\n",
    "# d5_where\n",
    "d5_loc = analysis_df.loc[analysis_df.nuclide_name==\"110ag\"]\n",
    "d5_loc"
   ],
   "metadata": {
    "collapsed": false,
    "ExecuteTime": {
     "start_time": "2023-12-27T19:01:11.420183400Z"
    }
   },
   "id": "d65c5fafcc8013c6",
   "execution_count": null
  },
  {
   "cell_type": "code",
   "outputs": [],
   "source": [
    "# 2023-Ago-4 PAREI AQUI. Fazer a indexação para o cálculo da atividade considerando a média das linhas de cada nuclídeo\n",
    "# https://pandas.pydata.org/pandas-docs/stable/user_guide/groupby.html\n",
    "# https://pandas.pydata.org/pandas-docs/stable/user_guide/groupby.html#dataframe-column-selection-in-groupby\n",
    "d5_grouped = analysis_df.groupby(\"nuclide_name\")[['energy','intensity','centroids','rough_sums','variances','disintegr']]\n",
    "# d5_grouped = d5.groupby(\"nuclide_name\")[['disintegr']]\n",
    "# sdfsdf = pd.DataFrame([[d5_grouped.mean(), d5_grouped.median()]]) \n",
    "# sdfsdf\n"
   ],
   "metadata": {
    "collapsed": false,
    "ExecuteTime": {
     "start_time": "2023-12-27T19:01:11.423268300Z"
    }
   },
   "id": "2b57dcb788c260bf",
   "execution_count": null
  },
  {
   "cell_type": "code",
   "outputs": [],
   "source": [
    "d5_grouped.mean()"
   ],
   "metadata": {
    "collapsed": false,
    "ExecuteTime": {
     "start_time": "2023-12-27T19:01:11.426602Z"
    }
   },
   "id": "6e45f2a9d9cb0b55",
   "execution_count": null
  },
  {
   "cell_type": "code",
   "outputs": [],
   "source": [
    "# https://pandas.pydata.org/pandas-docs/stable/user_guide/groupby.html#built-in-aggregation-methods\n",
    "d5_aggr_df = pd.DataFrame(df_result.groupby(\"nuclide_name\")[['disintegr']].mean())\n",
    "d5_aggr_df['dsnt_median'] = df_result.groupby(\"nuclide_name\")[['disintegr']].median()\n",
    "d5_aggr_df['dsnt_counts'] = df_result.groupby(\"nuclide_name\")[['disintegr']].count()\n",
    "d5_aggr_df['dsnt_sem'] = df_result.groupby(\"nuclide_name\")[['disintegr']].sem()\n",
    "d5_aggr_df['dsnt_std'] = df_result.groupby(\"nuclide_name\")[['disintegr']].std()\n",
    "d5_aggr_df"
   ],
   "metadata": {
    "collapsed": false,
    "ExecuteTime": {
     "start_time": "2023-12-27T19:01:11.431678600Z"
    }
   },
   "id": "eadaf6fd6243dbce",
   "execution_count": null
  },
  {
   "cell_type": "code",
   "outputs": [],
   "source": [
    "df_result.groupby(\"nuclide_name\")[['disintegr']].describe()"
   ],
   "metadata": {
    "collapsed": false,
    "ExecuteTime": {
     "start_time": "2023-12-27T19:01:11.433760900Z"
    }
   },
   "id": "3f6fd5deb8e3c3f4",
   "execution_count": null
  },
  {
   "cell_type": "code",
   "outputs": [],
   "source": [
    "d5_aggr_df['disint_mean'] = d5_grouped.mean()\n",
    "d5_aggr_df['disint_count'] = d5_grouped.count()\n",
    "d5_aggr_df"
   ],
   "metadata": {
    "collapsed": false,
    "ExecuteTime": {
     "start_time": "2023-12-27T19:01:11.436792500Z"
    }
   },
   "id": "868bb91041e33645",
   "execution_count": null
  },
  {
   "cell_type": "code",
   "outputs": [],
   "source": [
    "df_result"
   ],
   "metadata": {
    "collapsed": false,
    "ExecuteTime": {
     "start_time": "2023-12-27T19:01:11.439275100Z"
    }
   },
   "id": "eb5345a7f9f74046",
   "execution_count": null
  },
  {
   "cell_type": "code",
   "outputs": [],
   "source": [
    "help(spec_engy_identif)"
   ],
   "metadata": {
    "collapsed": false,
    "ExecuteTime": {
     "start_time": "2023-12-27T19:01:11.442381300Z"
    }
   },
   "id": "baf465c8fcba8765",
   "execution_count": null
  },
  {
   "cell_type": "code",
   "outputs": [],
   "source": [],
   "metadata": {
    "collapsed": false,
    "ExecuteTime": {
     "start_time": "2023-12-27T19:01:11.446569200Z"
    }
   },
   "id": "873fbdfa22de7fd2",
   "execution_count": null
  },
  {
   "cell_type": "code",
   "outputs": [],
   "source": [
    "# 2023-Jun-13\n",
    "# PAREI AQUI\n",
    "# Trazer o trabalho feito em\n",
    "# radionuclide_analysis.ipynb e adaptar ao que está aqui\n",
    "# especialmente na identificaćão dos nucl[ideos\n",
    "\n",
    "# Depois, deletar radionuclide_analysis.ipynb."
   ],
   "metadata": {
    "collapsed": false,
    "ExecuteTime": {
     "start_time": "2023-12-27T19:01:11.451661400Z"
    }
   },
   "id": "228fa0169dae3e30",
   "execution_count": null
  },
  {
   "cell_type": "code",
   "outputs": [],
   "source": [],
   "metadata": {
    "collapsed": false,
    "ExecuteTime": {
     "start_time": "2023-12-27T19:01:11.454809100Z"
    }
   },
   "id": "b4ffc804176c6608",
   "execution_count": null
  },
  {
   "cell_type": "code",
   "outputs": [],
   "source": [
    "df1 = pd.DataFrame(\n",
    "    {\n",
    "        \"A\": [\"A0\", \"A1\", \"A2\", \"A3\"],\n",
    "        \"B\": [\"B0\", \"B1\", \"B2\", \"B3\"],\n",
    "        \"C\": [\"C0\", \"C1\", \"C2\", \"C3\"],\n",
    "        \"D\": [\"D0\", \"D1\", \"D2\", \"D3\"],\n",
    "    },\n",
    "    index=[0, 1, 2, 3],\n",
    ")\n",
    "\n",
    "\n",
    "df2 = pd.DataFrame(\n",
    "    {\n",
    "        \"A\": [\"A4\", \"A5\", \"A6\", \"A7\"],\n",
    "        \"B\": [\"B4\", \"B5\", \"B6\", \"B7\"],\n",
    "        \"C\": [\"C4\", \"C5\", \"C6\", \"C7\"],\n",
    "        \"D\": [\"D4\", \"D5\", \"D6\", \"D7\"],\n",
    "    },\n",
    "    index=[4, 5, 6, 7],\n",
    ")\n",
    "\n",
    "\n",
    "df3 = pd.DataFrame(\n",
    "    {\n",
    "        \"A\": [\"A8\", \"A9\", \"A10\", \"A11\"],\n",
    "        \"B\": [\"B8\", \"B9\", \"B10\", \"B11\"],\n",
    "        \"C\": [\"C8\", \"C9\", \"C10\", \"C11\"],\n",
    "        \"D\": [\"D8\", \"D9\", \"D10\", \"D11\"],\n",
    "    },\n",
    "    index=[8, 9, 10, 11],\n",
    ")\n",
    "\n",
    "\n",
    "frames = [df1, df2, df3]\n",
    "\n",
    "result = pd.concat(frames)\n",
    "result"
   ],
   "metadata": {
    "collapsed": false,
    "ExecuteTime": {
     "start_time": "2023-12-27T19:01:11.457843800Z"
    }
   },
   "id": "a1c9ae9279a7de07",
   "execution_count": null
  },
  {
   "cell_type": "code",
   "outputs": [],
   "source": [
    "result = pd.concat(frames, keys=[\"x\", \"y\", \"z\"])\n",
    "result"
   ],
   "metadata": {
    "collapsed": false,
    "ExecuteTime": {
     "start_time": "2023-12-27T19:01:11.460918600Z"
    }
   },
   "id": "a6e6aaebece3e0cd",
   "execution_count": null
  },
  {
   "cell_type": "code",
   "outputs": [
    {
     "data": {
      "text/plain": "Empty DataFrame\nColumns: [A, B, C, D]\nIndex: []",
      "text/html": "<div>\n<style scoped>\n    .dataframe tbody tr th:only-of-type {\n        vertical-align: middle;\n    }\n\n    .dataframe tbody tr th {\n        vertical-align: top;\n    }\n\n    .dataframe thead th {\n        text-align: right;\n    }\n</style>\n<table border=\"1\" class=\"dataframe\">\n  <thead>\n    <tr style=\"text-align: right;\">\n      <th></th>\n      <th></th>\n      <th>A</th>\n      <th>B</th>\n      <th>C</th>\n      <th>D</th>\n    </tr>\n  </thead>\n  <tbody>\n  </tbody>\n</table>\n</div>"
     },
     "execution_count": 154,
     "metadata": {},
     "output_type": "execute_result"
    }
   ],
   "source": [
    "result.loc[result.A=='A1'].loc[result.C=='C0']"
   ],
   "metadata": {
    "collapsed": false,
    "ExecuteTime": {
     "end_time": "2023-12-27T19:01:12.033181800Z",
     "start_time": "2023-12-27T19:01:11.529108200Z"
    }
   },
   "id": "ad6233f93e2cca3",
   "execution_count": 154
  },
  {
   "cell_type": "code",
   "outputs": [],
   "source": [],
   "metadata": {
    "collapsed": false,
    "ExecuteTime": {
     "end_time": "2023-12-27T19:01:12.080333900Z",
     "start_time": "2023-12-27T19:01:11.817424Z"
    }
   },
   "id": "97b3c93b11a5111d",
   "execution_count": 154
  },
  {
   "cell_type": "code",
   "outputs": [],
   "source": [
    "# https://stackoverflow.com/questions/63529555"
   ],
   "metadata": {
    "collapsed": false,
    "ExecuteTime": {
     "end_time": "2023-12-27T19:01:12.181466200Z",
     "start_time": "2023-12-27T19:01:12.037648600Z"
    }
   },
   "id": "92571b7077cacd11",
   "execution_count": 155
  },
  {
   "cell_type": "code",
   "outputs": [],
   "source": [
    "animals = ['cat', 'dog', 'hamster', 'dolphin']"
   ],
   "metadata": {
    "collapsed": false,
    "ExecuteTime": {
     "end_time": "2023-12-27T19:01:12.318591100Z",
     "start_time": "2023-12-27T19:01:12.140519500Z"
    }
   },
   "id": "4b7056fdcb7644e5",
   "execution_count": 156
  },
  {
   "cell_type": "code",
   "outputs": [
    {
     "data": {
      "text/plain": "   id          animals\n0   1          dog,cat\n1   2              dog\n2   3      cat,dolphin\n3   4          cat,dog\n4   5  hamster,dolphin",
      "text/html": "<div>\n<style scoped>\n    .dataframe tbody tr th:only-of-type {\n        vertical-align: middle;\n    }\n\n    .dataframe tbody tr th {\n        vertical-align: top;\n    }\n\n    .dataframe thead th {\n        text-align: right;\n    }\n</style>\n<table border=\"1\" class=\"dataframe\">\n  <thead>\n    <tr style=\"text-align: right;\">\n      <th></th>\n      <th>id</th>\n      <th>animals</th>\n    </tr>\n  </thead>\n  <tbody>\n    <tr>\n      <th>0</th>\n      <td>1</td>\n      <td>dog,cat</td>\n    </tr>\n    <tr>\n      <th>1</th>\n      <td>2</td>\n      <td>dog</td>\n    </tr>\n    <tr>\n      <th>2</th>\n      <td>3</td>\n      <td>cat,dolphin</td>\n    </tr>\n    <tr>\n      <th>3</th>\n      <td>4</td>\n      <td>cat,dog</td>\n    </tr>\n    <tr>\n      <th>4</th>\n      <td>5</td>\n      <td>hamster,dolphin</td>\n    </tr>\n  </tbody>\n</table>\n</div>"
     },
     "execution_count": 157,
     "metadata": {},
     "output_type": "execute_result"
    }
   ],
   "source": [
    "df_animals_sets = pd.DataFrame(data={\n",
    "    'id': [1,2,3,4,5],\n",
    "    'animals': ['dog,cat','dog','cat,dolphin','cat,dog','hamster,dolphin']\n",
    "})\n",
    "df_animals_sets"
   ],
   "metadata": {
    "collapsed": false,
    "ExecuteTime": {
     "end_time": "2023-12-27T19:01:12.577684100Z",
     "start_time": "2023-12-27T19:01:12.306912800Z"
    }
   },
   "id": "9290987d5cf100b7",
   "execution_count": 157
  },
  {
   "cell_type": "code",
   "outputs": [
    {
     "data": {
      "text/plain": "   animals     id\n0      cat  1,3,4\n1      dog  1,2,4\n2  dolphin    3,5\n3  hamster      5",
      "text/html": "<div>\n<style scoped>\n    .dataframe tbody tr th:only-of-type {\n        vertical-align: middle;\n    }\n\n    .dataframe tbody tr th {\n        vertical-align: top;\n    }\n\n    .dataframe thead th {\n        text-align: right;\n    }\n</style>\n<table border=\"1\" class=\"dataframe\">\n  <thead>\n    <tr style=\"text-align: right;\">\n      <th></th>\n      <th>animals</th>\n      <th>id</th>\n    </tr>\n  </thead>\n  <tbody>\n    <tr>\n      <th>0</th>\n      <td>cat</td>\n      <td>1,3,4</td>\n    </tr>\n    <tr>\n      <th>1</th>\n      <td>dog</td>\n      <td>1,2,4</td>\n    </tr>\n    <tr>\n      <th>2</th>\n      <td>dolphin</td>\n      <td>3,5</td>\n    </tr>\n    <tr>\n      <th>3</th>\n      <td>hamster</td>\n      <td>5</td>\n    </tr>\n  </tbody>\n</table>\n</div>"
     },
     "execution_count": 158,
     "metadata": {},
     "output_type": "execute_result"
    }
   ],
   "source": [
    "df = df_animals_sets\n",
    "df_final = (df.astype(str).assign(animals=df.animals.str.split(','))\n",
    "                          .explode('animals').groupby('animals').id.agg(','.join)\n",
    "                          .reset_index())\n",
    "df_final"
   ],
   "metadata": {
    "collapsed": false,
    "ExecuteTime": {
     "end_time": "2023-12-27T19:01:12.658967200Z",
     "start_time": "2023-12-27T19:01:12.504631600Z"
    }
   },
   "id": "adbdc3ff15edf5b0",
   "execution_count": 158
  },
  {
   "cell_type": "code",
   "outputs": [],
   "source": [],
   "metadata": {
    "collapsed": false,
    "ExecuteTime": {
     "end_time": "2023-12-27T19:01:12.875225900Z",
     "start_time": "2023-12-27T19:01:12.639667200Z"
    }
   },
   "id": "6d7f274897af5633",
   "execution_count": 158
  },
  {
   "cell_type": "code",
   "outputs": [],
   "source": [
    "# 2023-Oct-24 FIX:\n",
    "# Brought from extinct radionuculde_analysis.ipynb\n",
    "# Jupyter notebook for tests with OGRaySpY modules"
   ],
   "metadata": {
    "collapsed": false,
    "ExecuteTime": {
     "end_time": "2023-12-27T19:01:13.086227Z",
     "start_time": "2023-12-27T19:01:12.856828100Z"
    }
   },
   "id": "a2dd6a49f27370c8",
   "execution_count": 159
  },
  {
   "cell_type": "code",
   "outputs": [
    {
     "name": "stdout",
     "output_type": "stream",
     "text": [
      "Package                       VersionNote: you may need to restart the kernel to use updated packages.\n",
      "\n",
      "----------------------------- ------------\n",
      "alabaster                     0.7.13\n",
      "anyio                         4.0.0\n",
      "argon2-cffi                   23.1.0\n",
      "argon2-cffi-bindings          21.2.0\n",
      "arrow                         1.2.3\n",
      "asteval                       0.9.31\n",
      "asttokens                     2.4.0\n",
      "async-lru                     2.0.4\n",
      "attrs                         23.1.0\n",
      "Babel                         2.12.1\n",
      "backcall                      0.2.0\n",
      "beautifulsoup4                4.12.2\n",
      "bleach                        6.0.0\n",
      "certifi                       2023.7.22\n",
      "cffi                          1.15.1\n",
      "charset-normalizer            3.2.0\n",
      "colorama                      0.4.6\n",
      "comm                          0.1.4\n",
      "contourpy                     1.1.1\n",
      "cycler                        0.11.0\n",
      "debugpy                       1.8.0\n",
      "decorator                     5.1.1\n",
      "defusedxml                    0.7.1\n",
      "docutils                      0.20.1\n",
      "exceptiongroup                1.1.3\n",
      "executing                     1.2.0\n",
      "fastjsonschema                2.18.0\n",
      "fonttools                     4.42.1\n",
      "fqdn                          1.5.1\n",
      "future                        0.18.3\n",
      "idna                          3.4\n",
      "imagesize                     1.4.1\n",
      "importlib-metadata            6.8.0\n",
      "importlib-resources           6.1.0\n",
      "ipykernel                     6.25.2\n",
      "ipython                       8.15.0\n",
      "ipython-genutils              0.2.0\n",
      "ipywidgets                    8.1.1\n",
      "isoduration                   20.11.0\n",
      "jedi                          0.19.0\n",
      "Jinja2                        3.1.2\n",
      "joblib                        1.3.2\n",
      "json5                         0.9.14\n",
      "jsonpointer                   2.4\n",
      "jsonschema                    4.19.1\n",
      "jsonschema-specifications     2023.7.1\n",
      "jupyter                       1.0.0\n",
      "jupyter_client                8.3.1\n",
      "jupyter-console               6.6.3\n",
      "jupyter_core                  5.3.1\n",
      "jupyter-events                0.7.0\n",
      "jupyter-lsp                   2.2.0\n",
      "jupyter_server                2.7.3\n",
      "jupyter_server_terminals      0.4.4\n",
      "jupyterlab                    4.0.6\n",
      "jupyterlab-pygments           0.2.2\n",
      "jupyterlab_server             2.25.0\n",
      "jupyterlab-widgets            3.0.9\n",
      "kiwisolver                    1.4.5\n",
      "lmfit                         1.2.2\n",
      "MarkupSafe                    2.1.3\n",
      "matplotlib                    3.8.0\n",
      "matplotlib-inline             0.1.6\n",
      "mistune                       3.0.1\n",
      "nbclient                      0.8.0\n",
      "nbconvert                     7.8.0\n",
      "nbformat                      5.9.2\n",
      "nest-asyncio                  1.5.8\n",
      "notebook                      7.0.4\n",
      "notebook_shim                 0.2.3\n",
      "numpy                         1.26.0\n",
      "overrides                     7.4.0\n",
      "packaging                     23.1\n",
      "pandas                        2.1.1\n",
      "pandocfilters                 1.5.0\n",
      "parso                         0.8.3\n",
      "pickleshare                   0.7.5\n",
      "Pillow                        10.0.1\n",
      "pip                           22.0.4\n",
      "platformdirs                  3.10.0\n",
      "plotly                        5.17.0\n",
      "prometheus-client             0.17.1\n",
      "prompt-toolkit                3.0.39\n",
      "psutil                        5.9.5\n",
      "pure-eval                     0.2.2\n",
      "pycparser                     2.21\n",
      "Pygments                      2.16.1\n",
      "pyparsing                     3.1.1\n",
      "python-dateutil               2.8.2\n",
      "python-json-logger            2.0.7\n",
      "pytz                          2023.3.post1\n",
      "pywin32                       306\n",
      "pywinpty                      2.0.11\n",
      "PyYAML                        6.0.1\n",
      "pyzmq                         25.1.1\n",
      "qtconsole                     5.4.4\n",
      "QtPy                          2.4.0\n",
      "referencing                   0.30.2\n",
      "requests                      2.31.0\n",
      "rfc3339-validator             0.1.4\n",
      "rfc3986-validator             0.1.1\n",
      "rpds-py                       0.10.3\n",
      "scikit-learn                  1.3.0\n",
      "scipy                         1.11.2\n",
      "Send2Trash                    1.8.2\n",
      "setuptools                    58.1.0\n",
      "six                           1.16.0\n",
      "sniffio                       1.3.0\n",
      "snowballstemmer               2.2.0\n",
      "soupsieve                     2.5\n",
      "Sphinx                        7.2.6\n",
      "sphinxcontrib-applehelp       1.0.7\n",
      "sphinxcontrib-devhelp         1.0.5\n",
      "sphinxcontrib-htmlhelp        2.0.4\n",
      "sphinxcontrib-jsmath          1.0.1\n",
      "sphinxcontrib-qthelp          1.0.6\n",
      "sphinxcontrib-serializinghtml 1.1.9\n",
      "stack-data                    0.6.2\n",
      "tenacity                      8.2.3\n",
      "terminado                     0.17.1\n",
      "threadpoolctl                 3.2.0\n",
      "tinycss2                      1.2.1\n",
      "tomli                         2.0.1\n",
      "tornado                       6.3.3\n",
      "traitlets                     5.10.0\n",
      "typing_extensions             4.8.0\n",
      "tzdata                        2023.3\n",
      "uncertainties                 3.1.7\n",
      "uri-template                  1.3.0\n",
      "urllib3                       2.0.5\n",
      "wcwidth                       0.2.6\n",
      "webcolors                     1.13\n",
      "webencodings                  0.5.1\n",
      "websocket-client              1.6.3\n",
      "widgetsnbextension            4.0.9\n",
      "zipp                          3.17.0\n"
     ]
    },
    {
     "name": "stderr",
     "output_type": "stream",
     "text": [
      "WARNING: You are using pip version 22.0.4; however, version 23.3.2 is available.\n",
      "You should consider upgrading via the 'C:\\Users\\mmaduar\\AppData\\Local\\Programs\\Python\\Python39\\python.exe -m pip install --upgrade pip' command.\n"
     ]
    }
   ],
   "source": [
    "pip list"
   ],
   "metadata": {
    "collapsed": false,
    "ExecuteTime": {
     "end_time": "2023-12-27T19:01:14.815436400Z",
     "start_time": "2023-12-27T19:01:13.072947600Z"
    }
   },
   "id": "b900670acdb697b5",
   "execution_count": 160
  },
  {
   "cell_type": "code",
   "outputs": [],
   "source": [
    "import numpy as np\n",
    "from numpy.random import default_rng\n",
    "from numpy.polynomial import Polynomial as P\n",
    "from scipy import special\n",
    "import pandas as pd\n",
    "\n",
    "from ograyspy_class import select_spectrum_from_folder_list\n",
    "from spec_class import Spec"
   ],
   "metadata": {
    "collapsed": false,
    "ExecuteTime": {
     "end_time": "2023-12-27T19:01:14.836635900Z",
     "start_time": "2023-12-27T19:01:14.795617Z"
    }
   },
   "id": "ec8d3829d257723b",
   "execution_count": 161
  },
  {
   "cell_type": "code",
   "outputs": [],
   "source": [
    "# https://lmfit.github.io/lmfit-py/builtin_models.html\n",
    "from lmfit import Model, minimize, Parameters, report_fit, fit_report, printfuncs\n",
    "from lmfit.models import LinearModel, StepModel, ExponentialModel, LorentzianModel\n",
    "from lmfit.models import GaussianModel, SkewedGaussianModel, ExpressionModel"
   ],
   "metadata": {
    "collapsed": false,
    "ExecuteTime": {
     "end_time": "2023-12-27T19:01:15.323628800Z",
     "start_time": "2023-12-27T19:01:14.809095500Z"
    }
   },
   "id": "3284b570b467ff74",
   "execution_count": 162
  },
  {
   "cell_type": "code",
   "outputs": [],
   "source": [
    "# a spectrum pattern to find and test:"
   ],
   "metadata": {
    "collapsed": false,
    "ExecuteTime": {
     "end_time": "2023-12-27T19:01:15.860949300Z",
     "start_time": "2023-12-27T19:01:15.808324700Z"
    }
   },
   "id": "ab56dbf1a5f007d",
   "execution_count": 165
  },
  {
   "cell_type": "code",
   "outputs": [],
   "source": [
    "# 2022\n",
    "# Se quiser ignorar o espectro aleatório, definir aqui um específico. Se não, pular.\n",
    "# Vou ignorar o espectro já analisado e refazer a análise, para testes.\n",
    "# 2022-Mar-24 Resolver essa questão dos nomes de arquivos em Linux e Windows\n",
    "# a_spec_name = '..\\\\..\\\\Genie_Transfer\\\\Si\\\\2018\\\\PNR\\\\PRN0803.Chn'\n",
    "# a_spec_name = '../../Genie_Transfer/Si/2018/PNR/PRN0803.Chn'\n",
    "# a_spec_name = '../../Genie_Transfer/Si/2018/CTP/CTP0908-2.Chn'\n",
    "# Esse é um que dá problema na baseline perto do 159 keV do I-123:\n",
    "# a_spec_name = '../../Genie_Transfer/Si/2018/CCI/CCI1508I.Chn'\n",
    "# Precisa quebrar mais a baseline: Ok, consertado!!!\n",
    "# 2022: Já usando o GMX:\n",
    "# a_spec_name = '../../Genie_Transfer/Filtros/2022/Cci/CCI1603-I.Chn'\n",
    "\n"
   ],
   "metadata": {
    "collapsed": false,
    "ExecuteTime": {
     "end_time": "2023-12-27T19:01:16.536893100Z",
     "start_time": "2023-12-27T19:01:15.823201700Z"
    }
   },
   "id": "a2b366b0ad0466d6",
   "execution_count": 166
  },
  {
   "cell_type": "code",
   "outputs": [],
   "source": [
    "\n",
    "# 2022-out-7: Excelente espectro para testes, tenho usado ultimamente:\n",
    "# a_pattern = 'Si/SI2018/SI11318.Chn'\n",
    "# 2022-nov-16: outros espectros:\n",
    "# a_pattern = \"Filtros/2022/Cci/CCI1603-I.Chn\"\n",
    "# a_pattern = \"Filtros/2022/Cci/CCI2302-I.Chn\"\n",
    "\n",
    "# a_pattern = \"Eso_non_existe.Chn\"\n",
    "\n",
    "# 2022-Dez-21 Buscando outro espectro\n",
    "# a_pattern = 'CCI1603-I'\n",
    "# 2022-Dez-28 Este é um espectro mais recente:\n",
    "# a_pattern = 'SI09722.Chn'\n",
    "# 2022-Dez-28 Este é um espectro mais recente que posso comparar com saída do Genie:\n",
    "a_pattern = 'SI06322.Chn'"
   ],
   "metadata": {
    "collapsed": false,
    "ExecuteTime": {
     "end_time": "2023-12-27T19:01:16.656958400Z",
     "start_time": "2023-12-27T19:01:16.498292300Z"
    }
   },
   "id": "89a11f717868187f",
   "execution_count": 167
  },
  {
   "cell_type": "code",
   "outputs": [],
   "source": [],
   "metadata": {
    "collapsed": false,
    "ExecuteTime": {
     "end_time": "2023-12-27T19:01:18.211282100Z",
     "start_time": "2023-12-27T19:01:18.061926200Z"
    }
   },
   "id": "624ded9cebf0084e",
   "execution_count": 176
  },
  {
   "cell_type": "code",
   "outputs": [],
   "source": [],
   "metadata": {
    "collapsed": false,
    "ExecuteTime": {
     "end_time": "2023-12-27T19:01:18.295259200Z",
     "start_time": "2023-12-27T19:01:18.073404800Z"
    }
   },
   "id": "3ebd364102d787f8",
   "execution_count": 176
  },
  {
   "cell_type": "code",
   "outputs": [],
   "source": [
    "# 2023-Jun-13\n",
    "# PAREI AQUI: levar tudo que está aqui para\n",
    "# nuclide_identification.ipynb\n"
   ],
   "metadata": {
    "collapsed": false,
    "ExecuteTime": {
     "end_time": "2023-12-27T19:01:18.386018700Z",
     "start_time": "2023-12-27T19:01:18.092735800Z"
    }
   },
   "id": "fa94d70f2164b06c",
   "execution_count": 177
  },
  {
   "cell_type": "code",
   "outputs": [],
   "source": [],
   "metadata": {
    "collapsed": false,
    "ExecuteTime": {
     "end_time": "2023-12-27T19:01:18.400268500Z",
     "start_time": "2023-12-27T19:01:18.170474600Z"
    }
   },
   "id": "fc11b519b2c49f90",
   "execution_count": 177
  },
  {
   "cell_type": "code",
   "outputs": [
    {
     "data": {
      "text/plain": "Polynomial([-1.99049842,  0.61104035,  0.        ], domain=[-1,  1], window=[-1,  1], symbol='x')",
      "text/latex": "$x \\mapsto \\text{-1.99049842} + \\text{0.61104035}\\,x\\color{LightGray}{ + \\text{0.0}\\,x^{2}}$"
     },
     "execution_count": 178,
     "metadata": {},
     "output_type": "execute_result"
    }
   ],
   "source": [
    "p_en = a_spec.channel_energy_calib.p_en\n",
    "p_en"
   ],
   "metadata": {
    "collapsed": false,
    "ExecuteTime": {
     "end_time": "2023-12-27T19:01:18.445926100Z",
     "start_time": "2023-12-27T19:01:18.181644400Z"
    }
   },
   "id": "d92238202ca10994",
   "execution_count": 178
  },
  {
   "cell_type": "code",
   "outputs": [
    {
     "ename": "NameError",
     "evalue": "name 'peaks_df' is not defined",
     "output_type": "error",
     "traceback": [
      "\u001B[1;31m---------------------------------------------------------------------------\u001B[0m",
      "\u001B[1;31mNameError\u001B[0m                                 Traceback (most recent call last)",
      "Cell \u001B[1;32mIn[179], line 1\u001B[0m\n\u001B[1;32m----> 1\u001B[0m peaks_df[\u001B[38;5;124m'\u001B[39m\u001B[38;5;124menergy\u001B[39m\u001B[38;5;124m'\u001B[39m] \u001B[38;5;241m=\u001B[39m p_en(\u001B[43mpeaks_df\u001B[49m[\u001B[38;5;124m'\u001B[39m\u001B[38;5;124mcentroids\u001B[39m\u001B[38;5;124m'\u001B[39m])\n\u001B[0;32m      2\u001B[0m peaks_df\n",
      "\u001B[1;31mNameError\u001B[0m: name 'peaks_df' is not defined"
     ]
    }
   ],
   "source": [
    "peaks_df['energy'] = p_en(peaks_df['centroids'])\n",
    "peaks_df"
   ],
   "metadata": {
    "collapsed": false,
    "ExecuteTime": {
     "end_time": "2023-12-27T19:01:18.600541400Z",
     "start_time": "2023-12-27T19:01:18.289158200Z"
    }
   },
   "id": "8b82d7d249a86d97",
   "execution_count": 179
  },
  {
   "cell_type": "code",
   "outputs": [],
   "source": [
    "# 2023-Mar-21: Identify nuclide candidates in peaks_df from pisciro_eng_df, with energy tolerance en_toler"
   ],
   "metadata": {
    "collapsed": false,
    "ExecuteTime": {
     "start_time": "2023-12-27T19:01:18.430259700Z"
    }
   },
   "id": "d55b409bf08b2a46",
   "execution_count": null
  },
  {
   "cell_type": "code",
   "outputs": [],
   "source": [
    "big_merge = pd.merge(peaks_df, pisciro_eng_df, how='cross')\n",
    "big_merge"
   ],
   "metadata": {
    "collapsed": false,
    "ExecuteTime": {
     "start_time": "2023-12-27T19:01:18.433303800Z"
    }
   },
   "id": "f7ebf9dee6a15d07",
   "execution_count": null
  },
  {
   "cell_type": "code",
   "outputs": [],
   "source": [
    "en_toler = 2.0"
   ],
   "metadata": {
    "collapsed": false,
    "ExecuteTime": {
     "start_time": "2023-12-27T19:01:18.436693Z"
    }
   },
   "id": "f17122b6d49d059e",
   "execution_count": null
  },
  {
   "cell_type": "code",
   "outputs": [],
   "source": [
    "big_merge['delta_en'] = big_merge.energy - big_merge.Engy\n",
    "big_merge"
   ],
   "metadata": {
    "collapsed": false,
    "ExecuteTime": {
     "start_time": "2023-12-27T19:01:18.439775Z"
    }
   },
   "id": "7ee3277b75fd8172",
   "execution_count": null
  },
  {
   "cell_type": "code",
   "outputs": [],
   "source": [
    "# https://pandas.pydata.org/pandas-docs/stable/user_guide/indexing.html#selection-by-callable\n",
    "# MaTched ENergies\n",
    "mt_en = pd.DataFrame(big_merge.loc[lambda df: abs(df['delta_en']) < en_toler, :]) \\\n",
    "[['Engy', 'Nucl', 'rough_sums', 'Yie']]\n",
    "mt_en\n",
    "# mt_en[['Engy', 'Nucl']]"
   ],
   "metadata": {
    "collapsed": false,
    "ExecuteTime": {
     "start_time": "2023-12-27T19:01:18.442847900Z"
    }
   },
   "id": "2cbcd3644173126e",
   "execution_count": null
  },
  {
   "cell_type": "code",
   "outputs": [],
   "source": [
    "\n",
    "msedg serg set asrhg saertrg"
   ],
   "metadata": {
    "collapsed": false,
    "ExecuteTime": {
     "start_time": "2023-12-27T19:01:18.446969Z"
    }
   },
   "id": "73f9ea265083862a",
   "execution_count": null
  },
  {
   "cell_type": "code",
   "outputs": [],
   "source": [],
   "metadata": {
    "collapsed": false,
    "ExecuteTime": {
     "start_time": "2023-12-27T19:01:18.450005600Z"
    }
   },
   "id": "43c205da9138a6fd",
   "execution_count": null
  },
  {
   "cell_type": "code",
   "outputs": [],
   "source": [
    "rng = np.random.default_rng()\n",
    "# rints = rng.integers(low=0, high=10, size=3)\n",
    "\n",
    "# 2022-Jun-23: Reativar após consertar o arquivo pickle:\n",
    "# rints = rng.integers(pkl_df1.count()[0], size=3)\n",
    "# print(rints)\n",
    "# type(rints[0])\n",
    "# some_spec = rints[1]\n",
    "# pkl_df1.iloc[some_spec]\n",
    "# a_spec_name = pkl_df1.iloc[some_spec]['FName']\n",
    "# a_spec_name"
   ],
   "metadata": {
    "collapsed": false,
    "ExecuteTime": {
     "start_time": "2023-12-27T19:01:18.452041300Z"
    }
   },
   "id": "e9e05b9fee6f598c",
   "execution_count": null
  },
  {
   "cell_type": "code",
   "outputs": [],
   "source": [
    "# 2022-Dez-28: Atualizar:\n",
    "# (2022-Jun-24 Lembrando como estão os defaults de total_analysis(...):\n",
    "# def total_analysis(self, k_sep_pk=2.0, smoo=3000.0, widths_range=(4.0, 20.0)):)\n",
    "# smoo=3000 fica razoável, mas faz umas ondas\n",
    "# smoo=1500 fica horrível, faz uns abismos. Quanto menor, pior\n",
    "# smoo=400 fica razoável, mas faz umas ondas\n",
    "# ogra.perform_total_analysis(\n",
    "#     k_sep_pk=2.0, smoo=4096, widths_range=(4.0, 20.0)\n",
    "# )"
   ],
   "metadata": {
    "collapsed": false,
    "ExecuteTime": {
     "start_time": "2023-12-27T19:01:18.456368Z"
    }
   },
   "id": "bcd8e78c61fd4421",
   "execution_count": null
  },
  {
   "cell_type": "code",
   "outputs": [],
   "source": [],
   "metadata": {
    "collapsed": false,
    "ExecuteTime": {
     "start_time": "2023-12-27T19:01:18.459487500Z"
    }
   },
   "id": "3d5b39a23a588139",
   "execution_count": null
  },
  {
   "cell_type": "code",
   "outputs": [],
   "source": [],
   "metadata": {
    "collapsed": false,
    "ExecuteTime": {
     "start_time": "2023-12-27T19:01:18.464564200Z"
    }
   },
   "id": "5d3a071057065754",
   "execution_count": null
  },
  {
   "cell_type": "code",
   "outputs": [],
   "source": [],
   "metadata": {
    "collapsed": false,
    "ExecuteTime": {
     "start_time": "2023-12-27T19:01:18.467968100Z"
    }
   },
   "id": "b1a84851fccd03e2",
   "execution_count": null
  },
  {
   "cell_type": "code",
   "outputs": [],
   "source": [],
   "metadata": {
    "collapsed": false,
    "ExecuteTime": {
     "start_time": "2023-12-27T19:01:18.472215300Z"
    }
   },
   "id": "6057614afc6bc9e6",
   "execution_count": null
  },
  {
   "cell_type": "code",
   "outputs": [],
   "source": [
    "# 2022-Jun-14\n",
    "# Verificando o que se tem até agora em a_raw_spec:\n",
    "# (Pode pular e ir direto aos gráficos)"
   ],
   "metadata": {
    "collapsed": false,
    "ExecuteTime": {
     "start_time": "2023-12-27T19:01:18.476287200Z"
    }
   },
   "id": "61aa43bdcc2175d6",
   "execution_count": null
  },
  {
   "cell_type": "code",
   "outputs": [],
   "source": [
    "\n",
    "# Testes:\n",
    "# https://numpy.org/doc/stable/reference/random/generator.html#distributions\n",
    "# x = np.linspace(0, 10, N) + rng.normal(loc=7, scale=0.05, size=N)\n",
    "# y = np.linspace(22, 23, N)\n",
    "\n",
    "# Busca do canal onde a altura do espectro se \"estabiliza\"\n",
    "# https://numpy.org/doc/stable/reference/routines.sort.html#searching\n",
    "\n"
   ],
   "metadata": {
    "collapsed": false,
    "ExecuteTime": {
     "start_time": "2023-12-27T19:01:18.481492400Z"
    }
   },
   "id": "bb09a0bdc28a1dbb",
   "execution_count": null
  },
  {
   "cell_type": "code",
   "outputs": [],
   "source": [
    "vars(pkprms)"
   ],
   "metadata": {
    "collapsed": false,
    "ExecuteTime": {
     "start_time": "2023-12-27T19:01:18.487153100Z"
    }
   },
   "id": "9fa86f4629dcbf16",
   "execution_count": null
  },
  {
   "cell_type": "code",
   "outputs": [],
   "source": [
    "# 2022-Dez-21 Achar o pico de maior área inicial do espectro:"
   ],
   "metadata": {
    "collapsed": false,
    "ExecuteTime": {
     "start_time": "2023-12-27T19:01:18.491735400Z"
    }
   },
   "id": "86d13a8b5a51349b",
   "execution_count": null
  },
  {
   "cell_type": "code",
   "outputs": [],
   "source": [
    "largest_pk = np.argmax(pkprms.rough_sums)\n",
    "pkprms.centroids[largest_pk]"
   ],
   "metadata": {
    "collapsed": false,
    "ExecuteTime": {
     "start_time": "2023-12-27T19:01:18.496802300Z"
    }
   },
   "id": "c55c1a51958d9d1f",
   "execution_count": null
  },
  {
   "cell_type": "code",
   "outputs": [],
   "source": [
    "# Só pra lembrar como faz divisão inteira\n",
    "21 // 7"
   ],
   "metadata": {
    "collapsed": false,
    "ExecuteTime": {
     "start_time": "2023-12-27T19:01:18.500863300Z"
    }
   },
   "id": "2b7e8ffab0f2118c",
   "execution_count": null
  },
  {
   "cell_type": "code",
   "outputs": [],
   "source": [
    "wi_re = pkprms.wide_regions[largest_pk]\n",
    "x = np.linspace(wi_re[0], wi_re[1], num=wi_re[1]-wi_re[0]+1)\n",
    "y = cntarr[wi_re[0]:wi_re[1]+1]\n",
    "c1 =  pkprms.centroids[largest_pk]\n",
    "s1 = pkprms.propts['widths'][largest_pk]*pkprms.k_fwhm_to_sd\n",
    "a1 = pkprms.rough_sums[largest_pk]\n",
    "# c2 = 313\n",
    "# s2 = 1.5\n",
    "# a2 = 400\n",
    "sste = 2.0"
   ],
   "metadata": {
    "collapsed": false,
    "ExecuteTime": {
     "start_time": "2023-12-27T19:01:18.505967100Z"
    }
   },
   "id": "3e629c472f5dc905",
   "execution_count": null
  },
  {
   "cell_type": "code",
   "outputs": [],
   "source": [],
   "metadata": {
    "collapsed": false,
    "ExecuteTime": {
     "start_time": "2023-12-27T19:01:18.510030200Z"
    }
   },
   "id": "d492ccd1a64f948b",
   "execution_count": null
  },
  {
   "cell_type": "code",
   "outputs": [],
   "source": [
    "# 2023-Jan-3\n",
    "# Aqui finalizo este teste:\n",
    "# Dado um espectro, escolhi o pico mais proeminente do espectro\n",
    "# e fiz o ajuste gaussianco com lmfit\n",
    "# No caso, o pico tem área, centroide, SD e FWHM:\n",
    "# g1_amplitude:  5264.84728 +/- 85.1465566 (1.62%) (init = 5347.497)\n",
    "# g1_center:     1926.29564 +/- 0.02690572 (0.00%) (init = 1926.275)\n",
    "# g1_sigma:      1.44040103 +/- 0.02690060 (1.87%) (init = 1.418733)\n",
    "# g1_fwhm:       3.39188516 +/- 0.06334608 (1.87%) == '2.3548200*g1_sigma'\n",
    "# g1_height:     1458.18438 +/- 23.5824677 (1.62%) == '0.3989423*g1_amplitude/max(1e-15, g1_sigma)'\n",
    "\n",
    "# Comparando com saíuda do Genie:\n",
    "# canal (>0)    En:    FWHM (keV)    net area    net area unc   continuum\n",
    "# 1927.34      1173.47 2.04          5.40E+003   89.73          8.83E+002\n",
    "#"
   ],
   "metadata": {
    "collapsed": false,
    "ExecuteTime": {
     "start_time": "2023-12-27T19:01:18.518011400Z"
    }
   },
   "id": "cf51dfc3a7b16239",
   "execution_count": null
  },
  {
   "cell_type": "code",
   "outputs": [],
   "source": [
    "out"
   ],
   "metadata": {
    "collapsed": false,
    "ExecuteTime": {
     "start_time": "2023-12-27T19:01:18.521998800Z"
    }
   },
   "id": "ab5bced7a35f5942",
   "execution_count": null
  },
  {
   "cell_type": "code",
   "outputs": [],
   "source": [
    "out.params"
   ],
   "metadata": {
    "collapsed": false,
    "ExecuteTime": {
     "start_time": "2023-12-27T19:01:18.534965100Z"
    }
   },
   "id": "efa9118ba81dc66a",
   "execution_count": null
  },
  {
   "cell_type": "code",
   "outputs": [],
   "source": [
    "out.var_names"
   ],
   "metadata": {
    "collapsed": false,
    "ExecuteTime": {
     "start_time": "2023-12-27T19:01:18.539989900Z"
    }
   },
   "id": "41299cd825a7d210",
   "execution_count": null
  },
  {
   "cell_type": "code",
   "outputs": [],
   "source": [
    "out.params.items()"
   ],
   "metadata": {
    "collapsed": false,
    "ExecuteTime": {
     "start_time": "2023-12-27T19:01:18.543043300Z"
    }
   },
   "id": "b5b9e54a60db9241",
   "execution_count": null
  },
  {
   "cell_type": "code",
   "outputs": [],
   "source": [
    "out.params.pretty_print()"
   ],
   "metadata": {
    "collapsed": false,
    "ExecuteTime": {
     "start_time": "2023-12-27T19:01:18.548786900Z"
    }
   },
   "id": "b30a46579ab9d9f3",
   "execution_count": null
  },
  {
   "cell_type": "code",
   "outputs": [],
   "source": [
    "print('-------------------------------')\n",
    "print('Parameter    Value       Stderr')\n",
    "for name, param in out.params.items():\n",
    "    # print(f'{name:7s} {param.value:11.5f} {param.stderr:11.5f}')\n",
    "    print(name)\n",
    "    print(param)\n",
    "    print(param.value)"
   ],
   "metadata": {
    "collapsed": false,
    "ExecuteTime": {
     "start_time": "2023-12-27T19:01:18.552855700Z"
    }
   },
   "id": "ca9b23b5f4929361",
   "execution_count": null
  },
  {
   "cell_type": "code",
   "outputs": [],
   "source": [],
   "metadata": {
    "collapsed": false,
    "ExecuteTime": {
     "start_time": "2023-12-27T19:01:18.564360900Z"
    }
   },
   "id": "b67fa7db4f73adba",
   "execution_count": null
  },
  {
   "cell_type": "code",
   "outputs": [],
   "source": [
    "def gauss_lmfit_singlet(pkprms, ipk):\n",
    "    wi_re = pkprms.wide_regions[ipk]\n",
    "    print(f'pico: {wi_re}')\n",
    "    x = np.linspace(wi_re[0], wi_re[1], num=wi_re[1]-wi_re[0]+1)\n",
    "    y = cntarr[wi_re[0]:wi_re[1]+1]\n",
    "    c1 = pkprms.centroids[ipk]\n",
    "    s1 = pkprms.propts['widths'][ipk]*pkprms.k_fwhm_to_sd\n",
    "    a1 = pkprms.rough_sums[ipk]\n",
    "\n",
    "    parames = Parameters()\n",
    "\n",
    "    gauss1 = GaussianModel(prefix='g1_')\n",
    "    parames.update(gauss1.make_params())\n",
    "    parames['g1_center'].set(value=c1, min=c1-2, max=c1+2)\n",
    "    parames['g1_sigma'].set(value=s1, min=0.5, max=10)\n",
    "    parames['g1_amplitude'].set(value=a1, min=10)\n",
    "\n",
    "    mod = gauss1\n",
    "\n",
    "    init = mod.eval(parames, x=x)\n",
    "    out = mod.fit(y, parames, x=x, verbose=False)\n",
    "    print('Fez.')\n",
    "\n",
    "    # ret = [param for param in out.params.items()]\n",
    "    ret = out\n",
    "    return ret"
   ],
   "metadata": {
    "collapsed": false,
    "ExecuteTime": {
     "start_time": "2023-12-27T19:01:18.567403800Z"
    }
   },
   "id": "750bf0e4268325be",
   "execution_count": null
  },
  {
   "cell_type": "code",
   "outputs": [],
   "source": [
    "for ipk in range(len(pkprms.peaks)):\n",
    "    ret = gauss_lmfit_singlet(pkprms, ipk)\n",
    "    print(ret)"
   ],
   "metadata": {
    "collapsed": false,
    "ExecuteTime": {
     "start_time": "2023-12-27T19:01:18.569437300Z"
    }
   },
   "id": "b5266dce5f3c13aa",
   "execution_count": null
  },
  {
   "cell_type": "code",
   "outputs": [],
   "source": [
    "ret"
   ],
   "metadata": {
    "collapsed": false,
    "ExecuteTime": {
     "start_time": "2023-12-27T19:01:18.572501Z"
    }
   },
   "id": "bf6a21fdc66595b7",
   "execution_count": null
  },
  {
   "cell_type": "code",
   "outputs": [],
   "source": [
    "ret.params"
   ],
   "metadata": {
    "collapsed": false,
    "ExecuteTime": {
     "start_time": "2023-12-27T19:01:18.575553800Z"
    }
   },
   "id": "de89b8213242a983",
   "execution_count": null
  },
  {
   "cell_type": "code",
   "outputs": [],
   "source": [
    "for name, param in ret.params.items():\n",
    "    print(name, param.value, param.stderr)"
   ],
   "metadata": {
    "collapsed": false,
    "ExecuteTime": {
     "start_time": "2023-12-27T19:01:18.578601Z"
    }
   },
   "id": "94cb482fa5786fc9",
   "execution_count": null
  },
  {
   "cell_type": "code",
   "outputs": [],
   "source": [
    "for ipk in range(len(pkprms.peaks)):\n",
    "    ret = gauss_lmfit_singlet(pkprms, ipk)\n",
    "    # ret.params.pretty_print()"
   ],
   "metadata": {
    "collapsed": false,
    "ExecuteTime": {
     "start_time": "2023-12-27T19:01:18.580593Z"
    }
   },
   "id": "ace9e881c02fb1a7",
   "execution_count": null
  },
  {
   "cell_type": "code",
   "outputs": [],
   "source": [
    "ret"
   ],
   "metadata": {
    "collapsed": false,
    "ExecuteTime": {
     "start_time": "2023-12-27T19:01:18.584582400Z"
    }
   },
   "id": "1bcbc9105f312dde",
   "execution_count": null
  },
  {
   "cell_type": "code",
   "outputs": [],
   "source": [
    "xfgn sr hsrthf srth"
   ],
   "metadata": {
    "collapsed": false,
    "ExecuteTime": {
     "start_time": "2023-12-27T19:01:18.586577Z"
    }
   },
   "id": "b1ba7334a7a2a424",
   "execution_count": null
  },
  {
   "cell_type": "code",
   "outputs": [],
   "source": [],
   "metadata": {
    "collapsed": false,
    "ExecuteTime": {
     "start_time": "2023-12-27T19:01:18.589569Z"
    }
   },
   "id": "7bb57cc29262eb83",
   "execution_count": null
  },
  {
   "cell_type": "code",
   "outputs": [],
   "source": [],
   "metadata": {
    "collapsed": false,
    "ExecuteTime": {
     "start_time": "2023-12-27T19:01:18.591563700Z"
    }
   },
   "id": "54312377c2e33e4d",
   "execution_count": null
  },
  {
   "cell_type": "code",
   "outputs": [],
   "source": [],
   "metadata": {
    "collapsed": false,
    "ExecuteTime": {
     "start_time": "2023-12-27T19:01:18.596551Z"
    }
   },
   "id": "7fdfd0c114b3a6ee",
   "execution_count": null
  },
  {
   "cell_type": "code",
   "outputs": [],
   "source": [],
   "metadata": {
    "collapsed": false,
    "ExecuteTime": {
     "end_time": "2023-12-27T19:01:19.046697300Z",
     "start_time": "2023-12-27T19:01:18.600541400Z"
    }
   },
   "id": "7244560a12db0679",
   "execution_count": null
  },
  {
   "cell_type": "code",
   "outputs": [],
   "source": [
    "my_df.dtypes"
   ],
   "metadata": {
    "collapsed": false,
    "ExecuteTime": {
     "start_time": "2023-12-27T19:01:18.604528600Z"
    }
   },
   "id": "7229246451d9edff",
   "execution_count": null
  },
  {
   "cell_type": "code",
   "outputs": [],
   "source": [
    "ch_en = ogra.a_spec.channel_energy_calib.p_en"
   ],
   "metadata": {
    "collapsed": false,
    "ExecuteTime": {
     "start_time": "2023-12-27T19:01:18.607561200Z"
    }
   },
   "id": "df441c60ca34760a",
   "execution_count": null
  },
  {
   "cell_type": "code",
   "outputs": [],
   "source": [
    "my_df['centrs_en'] = ch_en(my_df['centroids'])\n",
    "my_df"
   ],
   "metadata": {
    "collapsed": false,
    "ExecuteTime": {
     "start_time": "2023-12-27T19:01:18.610697200Z"
    }
   },
   "id": "f9508e655417c6e6",
   "execution_count": null
  }
 ],
 "metadata": {
  "kernelspec": {
   "display_name": "Python 3",
   "language": "python",
   "name": "python3"
  },
  "language_info": {
   "codemirror_mode": {
    "name": "ipython",
    "version": 2
   },
   "file_extension": ".py",
   "mimetype": "text/x-python",
   "name": "python",
   "nbconvert_exporter": "python",
   "pygments_lexer": "ipython2",
   "version": "2.7.6"
  }
 },
 "nbformat": 4,
 "nbformat_minor": 5
}
