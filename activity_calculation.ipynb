{
 "cells": [
  {
   "cell_type": "code",
   "execution_count": 1,
   "outputs": [],
   "source": [
    "import numpy as np\n",
    "from numpy.polynomial import Polynomial as P  # 2020-09-06 Esta é a nova classe recomendada\n",
    "from sklearn import linear_model\n",
    "\n",
    "import pandas as pd\n",
    "from random import randrange\n",
    "import plotly.graph_objects as go\n",
    "\n",
    "from ograyspy_class import Ograyspy, select_spectrum_from_folder_list\n",
    "from spec_class import Spec"
   ],
   "metadata": {
    "collapsed": false,
    "ExecuteTime": {
     "end_time": "2023-09-13T22:06:26.531854401Z",
     "start_time": "2023-09-13T22:06:25.429076174Z"
    }
   },
   "id": "1e13fc0fd90f542a"
  },
  {
   "cell_type": "code",
   "execution_count": 2,
   "outputs": [],
   "source": [
    "analysis_pkl = 'data/some_spectra/SI06122_result.pkl'\n",
    "analysis_df = pd.read_pickle(analysis_pkl)"
   ],
   "metadata": {
    "collapsed": false,
    "ExecuteTime": {
     "end_time": "2023-09-13T22:06:43.014732928Z",
     "start_time": "2023-09-13T22:06:42.950472377Z"
    }
   },
   "id": "9aaac62190f18198"
  },
  {
   "cell_type": "code",
   "execution_count": 8,
   "outputs": [],
   "source": [
    "analysis_df.reset_index(drop=True, inplace=True)"
   ],
   "metadata": {
    "collapsed": false,
    "ExecuteTime": {
     "end_time": "2023-09-13T22:08:05.583949706Z",
     "start_time": "2023-09-13T22:08:05.416388816Z"
    }
   },
   "id": "879404699a2c6de0"
  },
  {
   "cell_type": "code",
   "execution_count": 9,
   "outputs": [],
   "source": [
    "analysis_df['test'] = analysis_df['decay_%']*analysis_df['intensity']/100"
   ],
   "metadata": {
    "collapsed": false,
    "ExecuteTime": {
     "end_time": "2023-09-13T22:08:09.876976319Z",
     "start_time": "2023-09-13T22:08:09.803845287Z"
    }
   },
   "id": "7757ae1e184b1b3"
  },
  {
   "cell_type": "code",
   "execution_count": 12,
   "outputs": [
    {
     "data": {
      "text/plain": "   nuclide_name    centroids   rough_sums     variances  recalib_energy  \\\n0         212Pb   396.426778   630.310441  10404.641509      238.770932   \n1         214Pb   488.967375   249.976688   4072.023312      295.305981   \n2         214Pb   581.647407   430.396173   5405.821287      351.925344   \n3         208Tl   960.065118   483.773366   3335.841582      583.096300   \n4         214Bi  1002.931019   769.886444   3458.113556      609.281662   \n5         110ag  1082.200436  2125.483990   4570.516010      657.704238   \n6         137cs  1088.105023   401.081225   2556.918775      661.311093   \n7         110ag  1115.022855   176.695976   1999.057501      677.753980   \n8         110ag  1161.943753   336.295814   2591.560129      706.415658   \n9          131i  1189.208186   160.747926   1865.322724      723.070063   \n10        110ag  1256.297717   405.106118   2257.095859      764.051198   \n11         58co  1332.650344  2591.874119   4761.752838      810.690071   \n12         54mn  1372.499811   280.179798   3213.742890      835.031294   \n13        110ag  1453.640093  1344.932670   3338.139458      884.593659   \n14        228Ac  1497.348693   583.585709   2898.191988      911.291608   \n15        110ag  1539.865159   709.425445   2764.574555      937.261197   \n16        228Ac  1591.826779   345.779231   1952.269003      968.999754   \n17         65zn  1832.180142   472.981339   2007.018661     1115.805873   \n18        214Bi  1839.453015   319.008013   1418.991987     1120.248001   \n19         60co  1926.124036  6398.833656   7679.166344     1173.184541   \n20        214Bi  2032.321879   150.062903    865.937097     1238.046548   \n21         60co  2186.881900  5848.127892   6473.872108     1332.444474   \n22         24na  2246.149438   170.789713    610.315531     1368.641631   \n23        214Bi  2261.366983   107.824449    633.663193     1377.935563   \n24        110ag  2271.722928   360.400194    921.547003     1384.260317   \n25          40k  2397.267432  3206.949995   3637.050005     1460.934079   \n26        110ag  2469.277794   183.362379    470.637621     1504.912228   \n27        228Ac  2605.622131   131.163569    358.836431     1588.178962   \n28        214Bi  2894.518455   397.650084    654.835127     1764.604363   \n29        214Bi  3030.019570    54.452120    153.547880     1847.350296   \n30        214Bi  3614.158312   124.857782    343.648757     2204.042692   \n\n       energy  intensity                unc_i  decay_% is_key_gamma  \\\n0    238.6320   43.60000   0.5307178534777213  100.000         True   \n1    295.2240   18.47088  0.11249527437185973  100.000        False   \n2    351.9320   35.72370   0.2352736185805795  100.000         True   \n3    583.1870   85.00000                  0.3  100.000         True   \n4    609.3210   45.44000                 0.19   99.979         True   \n5    657.7600   95.61000                 0.09   98.670         True   \n6    661.6570   85.10000                  0.2  100.000         True   \n7    677.6217   10.70000                 0.05   98.670        False   \n8    706.6760   16.69000                 0.07   98.670        False   \n9    722.9110    1.76855             0.026749  100.000        False   \n10   763.9424   22.60000                 0.07   98.670        False   \n11   810.7593   99.45000                 0.01  100.000         True   \n12   834.8480   99.97600                0.001  100.000         True   \n13   884.6781   75.00000                  1.1   98.670        False   \n14   911.2040   25.80000                  0.4  100.000        False   \n15   937.4850   35.00000                  0.3   98.670        False   \n16   968.9710   15.80000                  0.3  100.000        False   \n17  1115.5390   50.04000                  0.1  100.000         True   \n18  1120.2940   14.90000                 0.08   99.979        False   \n19  1173.2280   99.85000                 0.03  100.000        False   \n20  1238.1220    5.83000                 0.03   99.979        False   \n21  1332.4920   99.98260               0.0006  100.000         True   \n22  1368.6250   99.99400                0.002  100.000         True   \n23  1377.6690    3.98500                0.022   99.979        False   \n24  1384.2931   25.10000                  0.5   98.670        False   \n25  1460.8200   10.66000                 0.13   10.720         True   \n26  1505.0280   13.33000                 0.15   98.670        False   \n27  1588.2000    3.22000                 0.08  100.000        False   \n28  1764.4910   15.29000                 0.08   99.979        False   \n29  1847.4330    2.02700                0.016   99.979        False   \n30  2204.1000    4.92000                 0.03   99.979        False   \n\n   nuclide_name     disintegr  activity_conc       test  \n0         212Pb  7.324243e+04      14.648486  43.600000  \n1         214Pb  8.502770e+04      17.005540  18.470880  \n2         214Pb  8.929519e+04      17.859037  35.723700  \n3         208Tl  6.280187e+04      12.560374  85.000000  \n4         214Bi  1.925320e+05      38.506404  45.430458  \n5         110ag  2.655030e+05      53.100602  94.338387  \n6         137cs  5.650064e+04      11.300127  85.100000  \n7         110ag  2.009797e+05      40.195943  10.557690  \n8         110ag  2.517501e+05      50.350025  16.468023  \n9          131i  1.151661e+06     230.332119   1.768550  \n10        110ag  2.349020e+05      46.980399  22.299420  \n11         58co  3.539912e+05      70.798230  99.450000  \n12         54mn  3.873793e+04       7.747586  99.976000  \n13        110ag  2.566186e+05      51.323719  74.002500  \n14        228Ac  3.294775e+05      65.895503  25.800000  \n15        110ag  3.003424e+05      60.068488  34.534500  \n16        228Ac  3.308437e+05      66.168749  15.800000  \n17         65zn  1.561311e+05      31.226226  50.040000  \n18        214Bi  3.546413e+05      70.928257  14.896871  \n19         60co  1.094768e+06     218.953530  99.850000  \n20        214Bi  4.565165e+05      91.303296   5.828776  \n21         60co  1.095400e+06     219.080004  99.982600  \n22         24na  3.266259e+04       6.532518  99.994000  \n23        214Bi  5.201526e+05     104.030525   3.984163  \n24        110ag  2.770920e+05      55.418405  24.766170  \n25          40k  6.071168e+06    1214.233593   1.142752  \n26        110ag  2.849450e+05      56.989002  13.152711  \n27        228Ac  8.869047e+05     177.380940   3.220000  \n28        214Bi  6.315313e+05     126.306270  15.286789  \n29        214Bi  6.879376e+05     137.587513   2.026574  \n30        214Bi  8.285796e+05     165.715924   4.918967  ",
      "text/html": "<div>\n<style scoped>\n    .dataframe tbody tr th:only-of-type {\n        vertical-align: middle;\n    }\n\n    .dataframe tbody tr th {\n        vertical-align: top;\n    }\n\n    .dataframe thead th {\n        text-align: right;\n    }\n</style>\n<table border=\"1\" class=\"dataframe\">\n  <thead>\n    <tr style=\"text-align: right;\">\n      <th></th>\n      <th>nuclide_name</th>\n      <th>centroids</th>\n      <th>rough_sums</th>\n      <th>variances</th>\n      <th>recalib_energy</th>\n      <th>energy</th>\n      <th>intensity</th>\n      <th>unc_i</th>\n      <th>decay_%</th>\n      <th>is_key_gamma</th>\n      <th>nuclide_name</th>\n      <th>disintegr</th>\n      <th>activity_conc</th>\n      <th>test</th>\n    </tr>\n  </thead>\n  <tbody>\n    <tr>\n      <th>0</th>\n      <td>212Pb</td>\n      <td>396.426778</td>\n      <td>630.310441</td>\n      <td>10404.641509</td>\n      <td>238.770932</td>\n      <td>238.6320</td>\n      <td>43.60000</td>\n      <td>0.5307178534777213</td>\n      <td>100.000</td>\n      <td>True</td>\n      <td>212Pb</td>\n      <td>7.324243e+04</td>\n      <td>14.648486</td>\n      <td>43.600000</td>\n    </tr>\n    <tr>\n      <th>1</th>\n      <td>214Pb</td>\n      <td>488.967375</td>\n      <td>249.976688</td>\n      <td>4072.023312</td>\n      <td>295.305981</td>\n      <td>295.2240</td>\n      <td>18.47088</td>\n      <td>0.11249527437185973</td>\n      <td>100.000</td>\n      <td>False</td>\n      <td>214Pb</td>\n      <td>8.502770e+04</td>\n      <td>17.005540</td>\n      <td>18.470880</td>\n    </tr>\n    <tr>\n      <th>2</th>\n      <td>214Pb</td>\n      <td>581.647407</td>\n      <td>430.396173</td>\n      <td>5405.821287</td>\n      <td>351.925344</td>\n      <td>351.9320</td>\n      <td>35.72370</td>\n      <td>0.2352736185805795</td>\n      <td>100.000</td>\n      <td>True</td>\n      <td>214Pb</td>\n      <td>8.929519e+04</td>\n      <td>17.859037</td>\n      <td>35.723700</td>\n    </tr>\n    <tr>\n      <th>3</th>\n      <td>208Tl</td>\n      <td>960.065118</td>\n      <td>483.773366</td>\n      <td>3335.841582</td>\n      <td>583.096300</td>\n      <td>583.1870</td>\n      <td>85.00000</td>\n      <td>0.3</td>\n      <td>100.000</td>\n      <td>True</td>\n      <td>208Tl</td>\n      <td>6.280187e+04</td>\n      <td>12.560374</td>\n      <td>85.000000</td>\n    </tr>\n    <tr>\n      <th>4</th>\n      <td>214Bi</td>\n      <td>1002.931019</td>\n      <td>769.886444</td>\n      <td>3458.113556</td>\n      <td>609.281662</td>\n      <td>609.3210</td>\n      <td>45.44000</td>\n      <td>0.19</td>\n      <td>99.979</td>\n      <td>True</td>\n      <td>214Bi</td>\n      <td>1.925320e+05</td>\n      <td>38.506404</td>\n      <td>45.430458</td>\n    </tr>\n    <tr>\n      <th>5</th>\n      <td>110ag</td>\n      <td>1082.200436</td>\n      <td>2125.483990</td>\n      <td>4570.516010</td>\n      <td>657.704238</td>\n      <td>657.7600</td>\n      <td>95.61000</td>\n      <td>0.09</td>\n      <td>98.670</td>\n      <td>True</td>\n      <td>110ag</td>\n      <td>2.655030e+05</td>\n      <td>53.100602</td>\n      <td>94.338387</td>\n    </tr>\n    <tr>\n      <th>6</th>\n      <td>137cs</td>\n      <td>1088.105023</td>\n      <td>401.081225</td>\n      <td>2556.918775</td>\n      <td>661.311093</td>\n      <td>661.6570</td>\n      <td>85.10000</td>\n      <td>0.2</td>\n      <td>100.000</td>\n      <td>True</td>\n      <td>137cs</td>\n      <td>5.650064e+04</td>\n      <td>11.300127</td>\n      <td>85.100000</td>\n    </tr>\n    <tr>\n      <th>7</th>\n      <td>110ag</td>\n      <td>1115.022855</td>\n      <td>176.695976</td>\n      <td>1999.057501</td>\n      <td>677.753980</td>\n      <td>677.6217</td>\n      <td>10.70000</td>\n      <td>0.05</td>\n      <td>98.670</td>\n      <td>False</td>\n      <td>110ag</td>\n      <td>2.009797e+05</td>\n      <td>40.195943</td>\n      <td>10.557690</td>\n    </tr>\n    <tr>\n      <th>8</th>\n      <td>110ag</td>\n      <td>1161.943753</td>\n      <td>336.295814</td>\n      <td>2591.560129</td>\n      <td>706.415658</td>\n      <td>706.6760</td>\n      <td>16.69000</td>\n      <td>0.07</td>\n      <td>98.670</td>\n      <td>False</td>\n      <td>110ag</td>\n      <td>2.517501e+05</td>\n      <td>50.350025</td>\n      <td>16.468023</td>\n    </tr>\n    <tr>\n      <th>9</th>\n      <td>131i</td>\n      <td>1189.208186</td>\n      <td>160.747926</td>\n      <td>1865.322724</td>\n      <td>723.070063</td>\n      <td>722.9110</td>\n      <td>1.76855</td>\n      <td>0.026749</td>\n      <td>100.000</td>\n      <td>False</td>\n      <td>131i</td>\n      <td>1.151661e+06</td>\n      <td>230.332119</td>\n      <td>1.768550</td>\n    </tr>\n    <tr>\n      <th>10</th>\n      <td>110ag</td>\n      <td>1256.297717</td>\n      <td>405.106118</td>\n      <td>2257.095859</td>\n      <td>764.051198</td>\n      <td>763.9424</td>\n      <td>22.60000</td>\n      <td>0.07</td>\n      <td>98.670</td>\n      <td>False</td>\n      <td>110ag</td>\n      <td>2.349020e+05</td>\n      <td>46.980399</td>\n      <td>22.299420</td>\n    </tr>\n    <tr>\n      <th>11</th>\n      <td>58co</td>\n      <td>1332.650344</td>\n      <td>2591.874119</td>\n      <td>4761.752838</td>\n      <td>810.690071</td>\n      <td>810.7593</td>\n      <td>99.45000</td>\n      <td>0.01</td>\n      <td>100.000</td>\n      <td>True</td>\n      <td>58co</td>\n      <td>3.539912e+05</td>\n      <td>70.798230</td>\n      <td>99.450000</td>\n    </tr>\n    <tr>\n      <th>12</th>\n      <td>54mn</td>\n      <td>1372.499811</td>\n      <td>280.179798</td>\n      <td>3213.742890</td>\n      <td>835.031294</td>\n      <td>834.8480</td>\n      <td>99.97600</td>\n      <td>0.001</td>\n      <td>100.000</td>\n      <td>True</td>\n      <td>54mn</td>\n      <td>3.873793e+04</td>\n      <td>7.747586</td>\n      <td>99.976000</td>\n    </tr>\n    <tr>\n      <th>13</th>\n      <td>110ag</td>\n      <td>1453.640093</td>\n      <td>1344.932670</td>\n      <td>3338.139458</td>\n      <td>884.593659</td>\n      <td>884.6781</td>\n      <td>75.00000</td>\n      <td>1.1</td>\n      <td>98.670</td>\n      <td>False</td>\n      <td>110ag</td>\n      <td>2.566186e+05</td>\n      <td>51.323719</td>\n      <td>74.002500</td>\n    </tr>\n    <tr>\n      <th>14</th>\n      <td>228Ac</td>\n      <td>1497.348693</td>\n      <td>583.585709</td>\n      <td>2898.191988</td>\n      <td>911.291608</td>\n      <td>911.2040</td>\n      <td>25.80000</td>\n      <td>0.4</td>\n      <td>100.000</td>\n      <td>False</td>\n      <td>228Ac</td>\n      <td>3.294775e+05</td>\n      <td>65.895503</td>\n      <td>25.800000</td>\n    </tr>\n    <tr>\n      <th>15</th>\n      <td>110ag</td>\n      <td>1539.865159</td>\n      <td>709.425445</td>\n      <td>2764.574555</td>\n      <td>937.261197</td>\n      <td>937.4850</td>\n      <td>35.00000</td>\n      <td>0.3</td>\n      <td>98.670</td>\n      <td>False</td>\n      <td>110ag</td>\n      <td>3.003424e+05</td>\n      <td>60.068488</td>\n      <td>34.534500</td>\n    </tr>\n    <tr>\n      <th>16</th>\n      <td>228Ac</td>\n      <td>1591.826779</td>\n      <td>345.779231</td>\n      <td>1952.269003</td>\n      <td>968.999754</td>\n      <td>968.9710</td>\n      <td>15.80000</td>\n      <td>0.3</td>\n      <td>100.000</td>\n      <td>False</td>\n      <td>228Ac</td>\n      <td>3.308437e+05</td>\n      <td>66.168749</td>\n      <td>15.800000</td>\n    </tr>\n    <tr>\n      <th>17</th>\n      <td>65zn</td>\n      <td>1832.180142</td>\n      <td>472.981339</td>\n      <td>2007.018661</td>\n      <td>1115.805873</td>\n      <td>1115.5390</td>\n      <td>50.04000</td>\n      <td>0.1</td>\n      <td>100.000</td>\n      <td>True</td>\n      <td>65zn</td>\n      <td>1.561311e+05</td>\n      <td>31.226226</td>\n      <td>50.040000</td>\n    </tr>\n    <tr>\n      <th>18</th>\n      <td>214Bi</td>\n      <td>1839.453015</td>\n      <td>319.008013</td>\n      <td>1418.991987</td>\n      <td>1120.248001</td>\n      <td>1120.2940</td>\n      <td>14.90000</td>\n      <td>0.08</td>\n      <td>99.979</td>\n      <td>False</td>\n      <td>214Bi</td>\n      <td>3.546413e+05</td>\n      <td>70.928257</td>\n      <td>14.896871</td>\n    </tr>\n    <tr>\n      <th>19</th>\n      <td>60co</td>\n      <td>1926.124036</td>\n      <td>6398.833656</td>\n      <td>7679.166344</td>\n      <td>1173.184541</td>\n      <td>1173.2280</td>\n      <td>99.85000</td>\n      <td>0.03</td>\n      <td>100.000</td>\n      <td>False</td>\n      <td>60co</td>\n      <td>1.094768e+06</td>\n      <td>218.953530</td>\n      <td>99.850000</td>\n    </tr>\n    <tr>\n      <th>20</th>\n      <td>214Bi</td>\n      <td>2032.321879</td>\n      <td>150.062903</td>\n      <td>865.937097</td>\n      <td>1238.046548</td>\n      <td>1238.1220</td>\n      <td>5.83000</td>\n      <td>0.03</td>\n      <td>99.979</td>\n      <td>False</td>\n      <td>214Bi</td>\n      <td>4.565165e+05</td>\n      <td>91.303296</td>\n      <td>5.828776</td>\n    </tr>\n    <tr>\n      <th>21</th>\n      <td>60co</td>\n      <td>2186.881900</td>\n      <td>5848.127892</td>\n      <td>6473.872108</td>\n      <td>1332.444474</td>\n      <td>1332.4920</td>\n      <td>99.98260</td>\n      <td>0.0006</td>\n      <td>100.000</td>\n      <td>True</td>\n      <td>60co</td>\n      <td>1.095400e+06</td>\n      <td>219.080004</td>\n      <td>99.982600</td>\n    </tr>\n    <tr>\n      <th>22</th>\n      <td>24na</td>\n      <td>2246.149438</td>\n      <td>170.789713</td>\n      <td>610.315531</td>\n      <td>1368.641631</td>\n      <td>1368.6250</td>\n      <td>99.99400</td>\n      <td>0.002</td>\n      <td>100.000</td>\n      <td>True</td>\n      <td>24na</td>\n      <td>3.266259e+04</td>\n      <td>6.532518</td>\n      <td>99.994000</td>\n    </tr>\n    <tr>\n      <th>23</th>\n      <td>214Bi</td>\n      <td>2261.366983</td>\n      <td>107.824449</td>\n      <td>633.663193</td>\n      <td>1377.935563</td>\n      <td>1377.6690</td>\n      <td>3.98500</td>\n      <td>0.022</td>\n      <td>99.979</td>\n      <td>False</td>\n      <td>214Bi</td>\n      <td>5.201526e+05</td>\n      <td>104.030525</td>\n      <td>3.984163</td>\n    </tr>\n    <tr>\n      <th>24</th>\n      <td>110ag</td>\n      <td>2271.722928</td>\n      <td>360.400194</td>\n      <td>921.547003</td>\n      <td>1384.260317</td>\n      <td>1384.2931</td>\n      <td>25.10000</td>\n      <td>0.5</td>\n      <td>98.670</td>\n      <td>False</td>\n      <td>110ag</td>\n      <td>2.770920e+05</td>\n      <td>55.418405</td>\n      <td>24.766170</td>\n    </tr>\n    <tr>\n      <th>25</th>\n      <td>40k</td>\n      <td>2397.267432</td>\n      <td>3206.949995</td>\n      <td>3637.050005</td>\n      <td>1460.934079</td>\n      <td>1460.8200</td>\n      <td>10.66000</td>\n      <td>0.13</td>\n      <td>10.720</td>\n      <td>True</td>\n      <td>40k</td>\n      <td>6.071168e+06</td>\n      <td>1214.233593</td>\n      <td>1.142752</td>\n    </tr>\n    <tr>\n      <th>26</th>\n      <td>110ag</td>\n      <td>2469.277794</td>\n      <td>183.362379</td>\n      <td>470.637621</td>\n      <td>1504.912228</td>\n      <td>1505.0280</td>\n      <td>13.33000</td>\n      <td>0.15</td>\n      <td>98.670</td>\n      <td>False</td>\n      <td>110ag</td>\n      <td>2.849450e+05</td>\n      <td>56.989002</td>\n      <td>13.152711</td>\n    </tr>\n    <tr>\n      <th>27</th>\n      <td>228Ac</td>\n      <td>2605.622131</td>\n      <td>131.163569</td>\n      <td>358.836431</td>\n      <td>1588.178962</td>\n      <td>1588.2000</td>\n      <td>3.22000</td>\n      <td>0.08</td>\n      <td>100.000</td>\n      <td>False</td>\n      <td>228Ac</td>\n      <td>8.869047e+05</td>\n      <td>177.380940</td>\n      <td>3.220000</td>\n    </tr>\n    <tr>\n      <th>28</th>\n      <td>214Bi</td>\n      <td>2894.518455</td>\n      <td>397.650084</td>\n      <td>654.835127</td>\n      <td>1764.604363</td>\n      <td>1764.4910</td>\n      <td>15.29000</td>\n      <td>0.08</td>\n      <td>99.979</td>\n      <td>False</td>\n      <td>214Bi</td>\n      <td>6.315313e+05</td>\n      <td>126.306270</td>\n      <td>15.286789</td>\n    </tr>\n    <tr>\n      <th>29</th>\n      <td>214Bi</td>\n      <td>3030.019570</td>\n      <td>54.452120</td>\n      <td>153.547880</td>\n      <td>1847.350296</td>\n      <td>1847.4330</td>\n      <td>2.02700</td>\n      <td>0.016</td>\n      <td>99.979</td>\n      <td>False</td>\n      <td>214Bi</td>\n      <td>6.879376e+05</td>\n      <td>137.587513</td>\n      <td>2.026574</td>\n    </tr>\n    <tr>\n      <th>30</th>\n      <td>214Bi</td>\n      <td>3614.158312</td>\n      <td>124.857782</td>\n      <td>343.648757</td>\n      <td>2204.042692</td>\n      <td>2204.1000</td>\n      <td>4.92000</td>\n      <td>0.03</td>\n      <td>99.979</td>\n      <td>False</td>\n      <td>214Bi</td>\n      <td>8.285796e+05</td>\n      <td>165.715924</td>\n      <td>4.918967</td>\n    </tr>\n  </tbody>\n</table>\n</div>"
     },
     "execution_count": 12,
     "metadata": {},
     "output_type": "execute_result"
    }
   ],
   "source": [
    "analysis_df"
   ],
   "metadata": {
    "collapsed": false,
    "ExecuteTime": {
     "end_time": "2023-09-13T22:09:45.170050888Z",
     "start_time": "2023-09-13T22:09:45.076261267Z"
    }
   },
   "id": "c0cf6bb040f51322"
  },
  {
   "cell_type": "code",
   "execution_count": 18,
   "outputs": [
    {
     "data": {
      "text/plain": "             nuclide_name  centroids  rough_sums  variances  recalib_energy  \\\nnuclide_name          NaN        NaN         NaN        NaN             NaN   \n\n              energy  intensity unc_i  decay_% is_key_gamma nuclide_name  \\\nnuclide_name     NaN        NaN   NaN      NaN          NaN          NaN   \n\n              disintegr  activity_conc  test  \nnuclide_name        NaN            NaN   NaN  ",
      "text/html": "<div>\n<style scoped>\n    .dataframe tbody tr th:only-of-type {\n        vertical-align: middle;\n    }\n\n    .dataframe tbody tr th {\n        vertical-align: top;\n    }\n\n    .dataframe thead th {\n        text-align: right;\n    }\n</style>\n<table border=\"1\" class=\"dataframe\">\n  <thead>\n    <tr style=\"text-align: right;\">\n      <th></th>\n      <th>nuclide_name</th>\n      <th>centroids</th>\n      <th>rough_sums</th>\n      <th>variances</th>\n      <th>recalib_energy</th>\n      <th>energy</th>\n      <th>intensity</th>\n      <th>unc_i</th>\n      <th>decay_%</th>\n      <th>is_key_gamma</th>\n      <th>nuclide_name</th>\n      <th>disintegr</th>\n      <th>activity_conc</th>\n      <th>test</th>\n    </tr>\n  </thead>\n  <tbody>\n    <tr>\n      <th>nuclide_name</th>\n      <td>NaN</td>\n      <td>NaN</td>\n      <td>NaN</td>\n      <td>NaN</td>\n      <td>NaN</td>\n      <td>NaN</td>\n      <td>NaN</td>\n      <td>NaN</td>\n      <td>NaN</td>\n      <td>NaN</td>\n      <td>NaN</td>\n      <td>NaN</td>\n      <td>NaN</td>\n      <td>NaN</td>\n    </tr>\n  </tbody>\n</table>\n</div>"
     },
     "execution_count": 18,
     "metadata": {},
     "output_type": "execute_result"
    }
   ],
   "source": [
    "analysis_df.reindex(['nuclide_name'])"
   ],
   "metadata": {
    "collapsed": false,
    "ExecuteTime": {
     "end_time": "2023-09-13T22:42:12.814506782Z",
     "start_time": "2023-09-13T22:42:12.594496723Z"
    }
   },
   "id": "acda97b2eb92dd71"
  },
  {
   "cell_type": "code",
   "execution_count": 15,
   "outputs": [
    {
     "ename": "ValueError",
     "evalue": "Index data must be 1-dimensional",
     "output_type": "error",
     "traceback": [
      "\u001B[0;31m---------------------------------------------------------------------------\u001B[0m",
      "\u001B[0;31mValueError\u001B[0m                                Traceback (most recent call last)",
      "Cell \u001B[0;32mIn[15], line 3\u001B[0m\n\u001B[1;32m      1\u001B[0m \u001B[38;5;66;03m# d5_where = d5.where(d5.nuclide_name==\"110ag\")\u001B[39;00m\n\u001B[1;32m      2\u001B[0m \u001B[38;5;66;03m# d5_where\u001B[39;00m\n\u001B[0;32m----> 3\u001B[0m d5_loc \u001B[38;5;241m=\u001B[39m \u001B[43manalysis_df\u001B[49m\u001B[38;5;241;43m.\u001B[39;49m\u001B[43mloc\u001B[49m\u001B[43m[\u001B[49m\u001B[43m[\u001B[49m\u001B[43manalysis_df\u001B[49m\u001B[38;5;241;43m.\u001B[39;49m\u001B[43mnuclide_name\u001B[49m\u001B[38;5;241;43m==\u001B[39;49m\u001B[38;5;124;43m\"\u001B[39;49m\u001B[38;5;124;43m110ag\u001B[39;49m\u001B[38;5;124;43m\"\u001B[39;49m\u001B[43m]\u001B[49m\u001B[43m]\u001B[49m\n\u001B[1;32m      4\u001B[0m d5_loc\n",
      "File \u001B[0;32m~/ogrsp_in_github/venv/lib/python3.11/lib/python3.11/site-packages/pandas/core/indexing.py:1073\u001B[0m, in \u001B[0;36m_LocationIndexer.__getitem__\u001B[0;34m(self, key)\u001B[0m\n\u001B[1;32m   1070\u001B[0m axis \u001B[38;5;241m=\u001B[39m \u001B[38;5;28mself\u001B[39m\u001B[38;5;241m.\u001B[39maxis \u001B[38;5;129;01mor\u001B[39;00m \u001B[38;5;241m0\u001B[39m\n\u001B[1;32m   1072\u001B[0m maybe_callable \u001B[38;5;241m=\u001B[39m com\u001B[38;5;241m.\u001B[39mapply_if_callable(key, \u001B[38;5;28mself\u001B[39m\u001B[38;5;241m.\u001B[39mobj)\n\u001B[0;32m-> 1073\u001B[0m \u001B[38;5;28;01mreturn\u001B[39;00m \u001B[38;5;28;43mself\u001B[39;49m\u001B[38;5;241;43m.\u001B[39;49m\u001B[43m_getitem_axis\u001B[49m\u001B[43m(\u001B[49m\u001B[43mmaybe_callable\u001B[49m\u001B[43m,\u001B[49m\u001B[43m \u001B[49m\u001B[43maxis\u001B[49m\u001B[38;5;241;43m=\u001B[39;49m\u001B[43maxis\u001B[49m\u001B[43m)\u001B[49m\n",
      "File \u001B[0;32m~/ogrsp_in_github/venv/lib/python3.11/lib/python3.11/site-packages/pandas/core/indexing.py:1301\u001B[0m, in \u001B[0;36m_LocIndexer._getitem_axis\u001B[0;34m(self, key, axis)\u001B[0m\n\u001B[1;32m   1298\u001B[0m     \u001B[38;5;28;01mif\u001B[39;00m \u001B[38;5;28mhasattr\u001B[39m(key, \u001B[38;5;124m\"\u001B[39m\u001B[38;5;124mndim\u001B[39m\u001B[38;5;124m\"\u001B[39m) \u001B[38;5;129;01mand\u001B[39;00m key\u001B[38;5;241m.\u001B[39mndim \u001B[38;5;241m>\u001B[39m \u001B[38;5;241m1\u001B[39m:\n\u001B[1;32m   1299\u001B[0m         \u001B[38;5;28;01mraise\u001B[39;00m \u001B[38;5;167;01mValueError\u001B[39;00m(\u001B[38;5;124m\"\u001B[39m\u001B[38;5;124mCannot index with multidimensional key\u001B[39m\u001B[38;5;124m\"\u001B[39m)\n\u001B[0;32m-> 1301\u001B[0m     \u001B[38;5;28;01mreturn\u001B[39;00m \u001B[38;5;28;43mself\u001B[39;49m\u001B[38;5;241;43m.\u001B[39;49m\u001B[43m_getitem_iterable\u001B[49m\u001B[43m(\u001B[49m\u001B[43mkey\u001B[49m\u001B[43m,\u001B[49m\u001B[43m \u001B[49m\u001B[43maxis\u001B[49m\u001B[38;5;241;43m=\u001B[39;49m\u001B[43maxis\u001B[49m\u001B[43m)\u001B[49m\n\u001B[1;32m   1303\u001B[0m \u001B[38;5;66;03m# nested tuple slicing\u001B[39;00m\n\u001B[1;32m   1304\u001B[0m \u001B[38;5;28;01mif\u001B[39;00m is_nested_tuple(key, labels):\n",
      "File \u001B[0;32m~/ogrsp_in_github/venv/lib/python3.11/lib/python3.11/site-packages/pandas/core/indexing.py:1239\u001B[0m, in \u001B[0;36m_LocIndexer._getitem_iterable\u001B[0;34m(self, key, axis)\u001B[0m\n\u001B[1;32m   1236\u001B[0m \u001B[38;5;28mself\u001B[39m\u001B[38;5;241m.\u001B[39m_validate_key(key, axis)\n\u001B[1;32m   1238\u001B[0m \u001B[38;5;66;03m# A collection of keys\u001B[39;00m\n\u001B[0;32m-> 1239\u001B[0m keyarr, indexer \u001B[38;5;241m=\u001B[39m \u001B[38;5;28;43mself\u001B[39;49m\u001B[38;5;241;43m.\u001B[39;49m\u001B[43m_get_listlike_indexer\u001B[49m\u001B[43m(\u001B[49m\u001B[43mkey\u001B[49m\u001B[43m,\u001B[49m\u001B[43m \u001B[49m\u001B[43maxis\u001B[49m\u001B[43m)\u001B[49m\n\u001B[1;32m   1240\u001B[0m \u001B[38;5;28;01mreturn\u001B[39;00m \u001B[38;5;28mself\u001B[39m\u001B[38;5;241m.\u001B[39mobj\u001B[38;5;241m.\u001B[39m_reindex_with_indexers(\n\u001B[1;32m   1241\u001B[0m     {axis: [keyarr, indexer]}, copy\u001B[38;5;241m=\u001B[39m\u001B[38;5;28;01mTrue\u001B[39;00m, allow_dups\u001B[38;5;241m=\u001B[39m\u001B[38;5;28;01mTrue\u001B[39;00m\n\u001B[1;32m   1242\u001B[0m )\n",
      "File \u001B[0;32m~/ogrsp_in_github/venv/lib/python3.11/lib/python3.11/site-packages/pandas/core/indexing.py:1432\u001B[0m, in \u001B[0;36m_LocIndexer._get_listlike_indexer\u001B[0;34m(self, key, axis)\u001B[0m\n\u001B[1;32m   1429\u001B[0m ax \u001B[38;5;241m=\u001B[39m \u001B[38;5;28mself\u001B[39m\u001B[38;5;241m.\u001B[39mobj\u001B[38;5;241m.\u001B[39m_get_axis(axis)\n\u001B[1;32m   1430\u001B[0m axis_name \u001B[38;5;241m=\u001B[39m \u001B[38;5;28mself\u001B[39m\u001B[38;5;241m.\u001B[39mobj\u001B[38;5;241m.\u001B[39m_get_axis_name(axis)\n\u001B[0;32m-> 1432\u001B[0m keyarr, indexer \u001B[38;5;241m=\u001B[39m \u001B[43max\u001B[49m\u001B[38;5;241;43m.\u001B[39;49m\u001B[43m_get_indexer_strict\u001B[49m\u001B[43m(\u001B[49m\u001B[43mkey\u001B[49m\u001B[43m,\u001B[49m\u001B[43m \u001B[49m\u001B[43maxis_name\u001B[49m\u001B[43m)\u001B[49m\n\u001B[1;32m   1434\u001B[0m \u001B[38;5;28;01mreturn\u001B[39;00m keyarr, indexer\n",
      "File \u001B[0;32m~/ogrsp_in_github/venv/lib/python3.11/lib/python3.11/site-packages/pandas/core/indexes/base.py:6065\u001B[0m, in \u001B[0;36mIndex._get_indexer_strict\u001B[0;34m(self, key, axis_name)\u001B[0m\n\u001B[1;32m   6062\u001B[0m     keyarr \u001B[38;5;241m=\u001B[39m com\u001B[38;5;241m.\u001B[39masarray_tuplesafe(keyarr)\n\u001B[1;32m   6064\u001B[0m \u001B[38;5;28;01mif\u001B[39;00m \u001B[38;5;28mself\u001B[39m\u001B[38;5;241m.\u001B[39m_index_as_unique:\n\u001B[0;32m-> 6065\u001B[0m     indexer \u001B[38;5;241m=\u001B[39m \u001B[38;5;28;43mself\u001B[39;49m\u001B[38;5;241;43m.\u001B[39;49m\u001B[43mget_indexer_for\u001B[49m\u001B[43m(\u001B[49m\u001B[43mkeyarr\u001B[49m\u001B[43m)\u001B[49m\n\u001B[1;32m   6066\u001B[0m     keyarr \u001B[38;5;241m=\u001B[39m \u001B[38;5;28mself\u001B[39m\u001B[38;5;241m.\u001B[39mreindex(keyarr)[\u001B[38;5;241m0\u001B[39m]\n\u001B[1;32m   6067\u001B[0m \u001B[38;5;28;01melse\u001B[39;00m:\n",
      "File \u001B[0;32m~/ogrsp_in_github/venv/lib/python3.11/lib/python3.11/site-packages/pandas/core/indexes/base.py:6052\u001B[0m, in \u001B[0;36mIndex.get_indexer_for\u001B[0;34m(self, target)\u001B[0m\n\u001B[1;32m   6034\u001B[0m \u001B[38;5;250m\u001B[39m\u001B[38;5;124;03m\"\"\"\u001B[39;00m\n\u001B[1;32m   6035\u001B[0m \u001B[38;5;124;03mGuaranteed return of an indexer even when non-unique.\u001B[39;00m\n\u001B[1;32m   6036\u001B[0m \n\u001B[0;32m   (...)\u001B[0m\n\u001B[1;32m   6049\u001B[0m \u001B[38;5;124;03marray([0, 2])\u001B[39;00m\n\u001B[1;32m   6050\u001B[0m \u001B[38;5;124;03m\"\"\"\u001B[39;00m\n\u001B[1;32m   6051\u001B[0m \u001B[38;5;28;01mif\u001B[39;00m \u001B[38;5;28mself\u001B[39m\u001B[38;5;241m.\u001B[39m_index_as_unique:\n\u001B[0;32m-> 6052\u001B[0m     \u001B[38;5;28;01mreturn\u001B[39;00m \u001B[38;5;28;43mself\u001B[39;49m\u001B[38;5;241;43m.\u001B[39;49m\u001B[43mget_indexer\u001B[49m\u001B[43m(\u001B[49m\u001B[43mtarget\u001B[49m\u001B[43m)\u001B[49m\n\u001B[1;32m   6053\u001B[0m indexer, _ \u001B[38;5;241m=\u001B[39m \u001B[38;5;28mself\u001B[39m\u001B[38;5;241m.\u001B[39mget_indexer_non_unique(target)\n\u001B[1;32m   6054\u001B[0m \u001B[38;5;28;01mreturn\u001B[39;00m indexer\n",
      "File \u001B[0;32m~/ogrsp_in_github/venv/lib/python3.11/lib/python3.11/site-packages/pandas/core/indexes/base.py:3899\u001B[0m, in \u001B[0;36mIndex.get_indexer\u001B[0;34m(self, target, method, limit, tolerance)\u001B[0m\n\u001B[1;32m   3897\u001B[0m method \u001B[38;5;241m=\u001B[39m missing\u001B[38;5;241m.\u001B[39mclean_reindex_fill_method(method)\n\u001B[1;32m   3898\u001B[0m orig_target \u001B[38;5;241m=\u001B[39m target\n\u001B[0;32m-> 3899\u001B[0m target \u001B[38;5;241m=\u001B[39m \u001B[38;5;28;43mself\u001B[39;49m\u001B[38;5;241;43m.\u001B[39;49m\u001B[43m_maybe_cast_listlike_indexer\u001B[49m\u001B[43m(\u001B[49m\u001B[43mtarget\u001B[49m\u001B[43m)\u001B[49m\n\u001B[1;32m   3901\u001B[0m \u001B[38;5;28mself\u001B[39m\u001B[38;5;241m.\u001B[39m_check_indexing_method(method, limit, tolerance)\n\u001B[1;32m   3903\u001B[0m \u001B[38;5;28;01mif\u001B[39;00m \u001B[38;5;129;01mnot\u001B[39;00m \u001B[38;5;28mself\u001B[39m\u001B[38;5;241m.\u001B[39m_index_as_unique:\n",
      "File \u001B[0;32m~/ogrsp_in_github/venv/lib/python3.11/lib/python3.11/site-packages/pandas/core/indexes/base.py:6580\u001B[0m, in \u001B[0;36mIndex._maybe_cast_listlike_indexer\u001B[0;34m(self, target)\u001B[0m\n\u001B[1;32m   6576\u001B[0m \u001B[38;5;28;01mdef\u001B[39;00m \u001B[38;5;21m_maybe_cast_listlike_indexer\u001B[39m(\u001B[38;5;28mself\u001B[39m, target) \u001B[38;5;241m-\u001B[39m\u001B[38;5;241m>\u001B[39m Index:\n\u001B[1;32m   6577\u001B[0m \u001B[38;5;250m    \u001B[39m\u001B[38;5;124;03m\"\"\"\u001B[39;00m\n\u001B[1;32m   6578\u001B[0m \u001B[38;5;124;03m    Analogue to maybe_cast_indexer for get_indexer instead of get_loc.\u001B[39;00m\n\u001B[1;32m   6579\u001B[0m \u001B[38;5;124;03m    \"\"\"\u001B[39;00m\n\u001B[0;32m-> 6580\u001B[0m     \u001B[38;5;28;01mreturn\u001B[39;00m \u001B[43mensure_index\u001B[49m\u001B[43m(\u001B[49m\u001B[43mtarget\u001B[49m\u001B[43m)\u001B[49m\n",
      "File \u001B[0;32m~/ogrsp_in_github/venv/lib/python3.11/lib/python3.11/site-packages/pandas/core/indexes/base.py:7333\u001B[0m, in \u001B[0;36mensure_index\u001B[0;34m(index_like, copy)\u001B[0m\n\u001B[1;32m   7331\u001B[0m         \u001B[38;5;28;01mreturn\u001B[39;00m Index\u001B[38;5;241m.\u001B[39m_with_infer(index_like, copy\u001B[38;5;241m=\u001B[39mcopy, tupleize_cols\u001B[38;5;241m=\u001B[39m\u001B[38;5;28;01mFalse\u001B[39;00m)\n\u001B[1;32m   7332\u001B[0m \u001B[38;5;28;01melse\u001B[39;00m:\n\u001B[0;32m-> 7333\u001B[0m     \u001B[38;5;28;01mreturn\u001B[39;00m \u001B[43mIndex\u001B[49m\u001B[38;5;241;43m.\u001B[39;49m\u001B[43m_with_infer\u001B[49m\u001B[43m(\u001B[49m\u001B[43mindex_like\u001B[49m\u001B[43m,\u001B[49m\u001B[43m \u001B[49m\u001B[43mcopy\u001B[49m\u001B[38;5;241;43m=\u001B[39;49m\u001B[43mcopy\u001B[49m\u001B[43m)\u001B[49m\n",
      "File \u001B[0;32m~/ogrsp_in_github/venv/lib/python3.11/lib/python3.11/site-packages/pandas/core/indexes/base.py:716\u001B[0m, in \u001B[0;36mIndex._with_infer\u001B[0;34m(cls, *args, **kwargs)\u001B[0m\n\u001B[1;32m    714\u001B[0m \u001B[38;5;28;01mwith\u001B[39;00m warnings\u001B[38;5;241m.\u001B[39mcatch_warnings():\n\u001B[1;32m    715\u001B[0m     warnings\u001B[38;5;241m.\u001B[39mfilterwarnings(\u001B[38;5;124m\"\u001B[39m\u001B[38;5;124mignore\u001B[39m\u001B[38;5;124m\"\u001B[39m, \u001B[38;5;124m\"\u001B[39m\u001B[38;5;124m.*the Index constructor\u001B[39m\u001B[38;5;124m\"\u001B[39m, \u001B[38;5;167;01mFutureWarning\u001B[39;00m)\n\u001B[0;32m--> 716\u001B[0m     result \u001B[38;5;241m=\u001B[39m \u001B[38;5;28;43mcls\u001B[39;49m\u001B[43m(\u001B[49m\u001B[38;5;241;43m*\u001B[39;49m\u001B[43margs\u001B[49m\u001B[43m,\u001B[49m\u001B[43m \u001B[49m\u001B[38;5;241;43m*\u001B[39;49m\u001B[38;5;241;43m*\u001B[39;49m\u001B[43mkwargs\u001B[49m\u001B[43m)\u001B[49m\n\u001B[1;32m    718\u001B[0m \u001B[38;5;28;01mif\u001B[39;00m result\u001B[38;5;241m.\u001B[39mdtype \u001B[38;5;241m==\u001B[39m _dtype_obj \u001B[38;5;129;01mand\u001B[39;00m \u001B[38;5;129;01mnot\u001B[39;00m result\u001B[38;5;241m.\u001B[39m_is_multi:\n\u001B[1;32m    719\u001B[0m     \u001B[38;5;66;03m# error: Argument 1 to \"maybe_convert_objects\" has incompatible type\u001B[39;00m\n\u001B[1;32m    720\u001B[0m     \u001B[38;5;66;03m# \"Union[ExtensionArray, ndarray[Any, Any]]\"; expected\u001B[39;00m\n\u001B[1;32m    721\u001B[0m     \u001B[38;5;66;03m# \"ndarray[Any, Any]\"\u001B[39;00m\n\u001B[1;32m    722\u001B[0m     values \u001B[38;5;241m=\u001B[39m lib\u001B[38;5;241m.\u001B[39mmaybe_convert_objects(result\u001B[38;5;241m.\u001B[39m_values)  \u001B[38;5;66;03m# type: ignore[arg-type]\u001B[39;00m\n",
      "File \u001B[0;32m~/ogrsp_in_github/venv/lib/python3.11/lib/python3.11/site-packages/pandas/core/indexes/base.py:540\u001B[0m, in \u001B[0;36mIndex.__new__\u001B[0;34m(cls, data, dtype, copy, name, tupleize_cols, **kwargs)\u001B[0m\n\u001B[1;32m    537\u001B[0m             \u001B[38;5;28;01mreturn\u001B[39;00m \u001B[38;5;28mcls\u001B[39m(arr, dtype, copy\u001B[38;5;241m=\u001B[39mcopy, name\u001B[38;5;241m=\u001B[39mname, \u001B[38;5;241m*\u001B[39m\u001B[38;5;241m*\u001B[39mkwargs)\n\u001B[1;32m    539\u001B[0m klass \u001B[38;5;241m=\u001B[39m \u001B[38;5;28mcls\u001B[39m\u001B[38;5;241m.\u001B[39m_dtype_to_subclass(arr\u001B[38;5;241m.\u001B[39mdtype)\n\u001B[0;32m--> 540\u001B[0m arr \u001B[38;5;241m=\u001B[39m \u001B[43mklass\u001B[49m\u001B[38;5;241;43m.\u001B[39;49m\u001B[43m_ensure_array\u001B[49m\u001B[43m(\u001B[49m\u001B[43marr\u001B[49m\u001B[43m,\u001B[49m\u001B[43m \u001B[49m\u001B[43mdtype\u001B[49m\u001B[43m,\u001B[49m\u001B[43m \u001B[49m\u001B[43mcopy\u001B[49m\u001B[43m)\u001B[49m\n\u001B[1;32m    541\u001B[0m disallow_kwargs(kwargs)\n\u001B[1;32m    542\u001B[0m \u001B[38;5;28;01mreturn\u001B[39;00m klass\u001B[38;5;241m.\u001B[39m_simple_new(arr, name)\n",
      "File \u001B[0;32m~/ogrsp_in_github/venv/lib/python3.11/lib/python3.11/site-packages/pandas/core/indexes/base.py:581\u001B[0m, in \u001B[0;36mIndex._ensure_array\u001B[0;34m(cls, data, dtype, copy)\u001B[0m\n\u001B[1;32m    576\u001B[0m \u001B[38;5;250m\u001B[39m\u001B[38;5;124;03m\"\"\"\u001B[39;00m\n\u001B[1;32m    577\u001B[0m \u001B[38;5;124;03mEnsure we have a valid array to pass to _simple_new.\u001B[39;00m\n\u001B[1;32m    578\u001B[0m \u001B[38;5;124;03m\"\"\"\u001B[39;00m\n\u001B[1;32m    579\u001B[0m \u001B[38;5;28;01mif\u001B[39;00m data\u001B[38;5;241m.\u001B[39mndim \u001B[38;5;241m>\u001B[39m \u001B[38;5;241m1\u001B[39m:\n\u001B[1;32m    580\u001B[0m     \u001B[38;5;66;03m# GH#13601, GH#20285, GH#27125\u001B[39;00m\n\u001B[0;32m--> 581\u001B[0m     \u001B[38;5;28;01mraise\u001B[39;00m \u001B[38;5;167;01mValueError\u001B[39;00m(\u001B[38;5;124m\"\u001B[39m\u001B[38;5;124mIndex data must be 1-dimensional\u001B[39m\u001B[38;5;124m\"\u001B[39m)\n\u001B[1;32m    582\u001B[0m \u001B[38;5;28;01mif\u001B[39;00m copy:\n\u001B[1;32m    583\u001B[0m     \u001B[38;5;66;03m# asarray_tuplesafe does not always copy underlying data,\u001B[39;00m\n\u001B[1;32m    584\u001B[0m     \u001B[38;5;66;03m#  so need to make sure that this happens\u001B[39;00m\n\u001B[1;32m    585\u001B[0m     data \u001B[38;5;241m=\u001B[39m data\u001B[38;5;241m.\u001B[39mcopy()\n",
      "\u001B[0;31mValueError\u001B[0m: Index data must be 1-dimensional"
     ]
    }
   ],
   "source": [
    "# d5_where = d5.where(d5.nuclide_name==\"110ag\")\n",
    "# d5_where\n",
    "d5_loc = analysis_df.loc[analysis_df.nuclide_name==\"110ag\"]\n",
    "d5_loc"
   ],
   "metadata": {
    "collapsed": false,
    "ExecuteTime": {
     "end_time": "2023-09-13T22:14:02.886841285Z",
     "start_time": "2023-09-13T22:14:01.333395454Z"
    }
   },
   "id": "5754bfed45d7f952"
  },
  {
   "cell_type": "code",
   "execution_count": 14,
   "outputs": [
    {
     "ename": "ValueError",
     "evalue": "Grouper for 'nuclide_name' not 1-dimensional",
     "output_type": "error",
     "traceback": [
      "\u001B[0;31m---------------------------------------------------------------------------\u001B[0m",
      "\u001B[0;31mValueError\u001B[0m                                Traceback (most recent call last)",
      "Cell \u001B[0;32mIn[14], line 4\u001B[0m\n\u001B[1;32m      1\u001B[0m \u001B[38;5;66;03m# 2023-Ago-4 PAREI AQUI. Fazer a indexação para o cálculo da atividade considerando a média das linhas de cada nuclídeo\u001B[39;00m\n\u001B[1;32m      2\u001B[0m \u001B[38;5;66;03m# https://pandas.pydata.org/pandas-docs/stable/user_guide/groupby.html\u001B[39;00m\n\u001B[1;32m      3\u001B[0m \u001B[38;5;66;03m# https://pandas.pydata.org/pandas-docs/stable/user_guide/groupby.html#dataframe-column-selection-in-groupby\u001B[39;00m\n\u001B[0;32m----> 4\u001B[0m d5_grouped \u001B[38;5;241m=\u001B[39m \u001B[43manalysis_df\u001B[49m\u001B[38;5;241;43m.\u001B[39;49m\u001B[43mgroupby\u001B[49m\u001B[43m(\u001B[49m\u001B[38;5;124;43m\"\u001B[39;49m\u001B[38;5;124;43mnuclide_name\u001B[39;49m\u001B[38;5;124;43m\"\u001B[39;49m\u001B[43m)\u001B[49m[[\u001B[38;5;124m'\u001B[39m\u001B[38;5;124menergy\u001B[39m\u001B[38;5;124m'\u001B[39m,\u001B[38;5;124m'\u001B[39m\u001B[38;5;124mintensity\u001B[39m\u001B[38;5;124m'\u001B[39m,\u001B[38;5;124m'\u001B[39m\u001B[38;5;124mcentroids\u001B[39m\u001B[38;5;124m'\u001B[39m,\u001B[38;5;124m'\u001B[39m\u001B[38;5;124mrough_sums\u001B[39m\u001B[38;5;124m'\u001B[39m,\u001B[38;5;124m'\u001B[39m\u001B[38;5;124mvariances\u001B[39m\u001B[38;5;124m'\u001B[39m,\u001B[38;5;124m'\u001B[39m\u001B[38;5;124mdisintegr\u001B[39m\u001B[38;5;124m'\u001B[39m]]\n\u001B[1;32m      5\u001B[0m \u001B[38;5;66;03m# d5_grouped = d5.groupby(\"nuclide_name\")[['disintegr']]\u001B[39;00m\n\u001B[1;32m      6\u001B[0m \u001B[38;5;66;03m# sdfsdf = pd.DataFrame([[d5_grouped.mean(), d5_grouped.median()]]) \u001B[39;00m\n\u001B[1;32m      7\u001B[0m \u001B[38;5;66;03m# sdfsdf\u001B[39;00m\n",
      "File \u001B[0;32m~/ogrsp_in_github/venv/lib/python3.11/lib/python3.11/site-packages/pandas/core/frame.py:8402\u001B[0m, in \u001B[0;36mDataFrame.groupby\u001B[0;34m(self, by, axis, level, as_index, sort, group_keys, squeeze, observed, dropna)\u001B[0m\n\u001B[1;32m   8399\u001B[0m     \u001B[38;5;28;01mraise\u001B[39;00m \u001B[38;5;167;01mTypeError\u001B[39;00m(\u001B[38;5;124m\"\u001B[39m\u001B[38;5;124mYou have to supply one of \u001B[39m\u001B[38;5;124m'\u001B[39m\u001B[38;5;124mby\u001B[39m\u001B[38;5;124m'\u001B[39m\u001B[38;5;124m and \u001B[39m\u001B[38;5;124m'\u001B[39m\u001B[38;5;124mlevel\u001B[39m\u001B[38;5;124m'\u001B[39m\u001B[38;5;124m\"\u001B[39m)\n\u001B[1;32m   8400\u001B[0m axis \u001B[38;5;241m=\u001B[39m \u001B[38;5;28mself\u001B[39m\u001B[38;5;241m.\u001B[39m_get_axis_number(axis)\n\u001B[0;32m-> 8402\u001B[0m \u001B[38;5;28;01mreturn\u001B[39;00m \u001B[43mDataFrameGroupBy\u001B[49m\u001B[43m(\u001B[49m\n\u001B[1;32m   8403\u001B[0m \u001B[43m    \u001B[49m\u001B[43mobj\u001B[49m\u001B[38;5;241;43m=\u001B[39;49m\u001B[38;5;28;43mself\u001B[39;49m\u001B[43m,\u001B[49m\n\u001B[1;32m   8404\u001B[0m \u001B[43m    \u001B[49m\u001B[43mkeys\u001B[49m\u001B[38;5;241;43m=\u001B[39;49m\u001B[43mby\u001B[49m\u001B[43m,\u001B[49m\n\u001B[1;32m   8405\u001B[0m \u001B[43m    \u001B[49m\u001B[43maxis\u001B[49m\u001B[38;5;241;43m=\u001B[39;49m\u001B[43maxis\u001B[49m\u001B[43m,\u001B[49m\n\u001B[1;32m   8406\u001B[0m \u001B[43m    \u001B[49m\u001B[43mlevel\u001B[49m\u001B[38;5;241;43m=\u001B[39;49m\u001B[43mlevel\u001B[49m\u001B[43m,\u001B[49m\n\u001B[1;32m   8407\u001B[0m \u001B[43m    \u001B[49m\u001B[43mas_index\u001B[49m\u001B[38;5;241;43m=\u001B[39;49m\u001B[43mas_index\u001B[49m\u001B[43m,\u001B[49m\n\u001B[1;32m   8408\u001B[0m \u001B[43m    \u001B[49m\u001B[43msort\u001B[49m\u001B[38;5;241;43m=\u001B[39;49m\u001B[43msort\u001B[49m\u001B[43m,\u001B[49m\n\u001B[1;32m   8409\u001B[0m \u001B[43m    \u001B[49m\u001B[43mgroup_keys\u001B[49m\u001B[38;5;241;43m=\u001B[39;49m\u001B[43mgroup_keys\u001B[49m\u001B[43m,\u001B[49m\n\u001B[1;32m   8410\u001B[0m \u001B[43m    \u001B[49m\u001B[43msqueeze\u001B[49m\u001B[38;5;241;43m=\u001B[39;49m\u001B[43msqueeze\u001B[49m\u001B[43m,\u001B[49m\n\u001B[1;32m   8411\u001B[0m \u001B[43m    \u001B[49m\u001B[43mobserved\u001B[49m\u001B[38;5;241;43m=\u001B[39;49m\u001B[43mobserved\u001B[49m\u001B[43m,\u001B[49m\n\u001B[1;32m   8412\u001B[0m \u001B[43m    \u001B[49m\u001B[43mdropna\u001B[49m\u001B[38;5;241;43m=\u001B[39;49m\u001B[43mdropna\u001B[49m\u001B[43m,\u001B[49m\n\u001B[1;32m   8413\u001B[0m \u001B[43m\u001B[49m\u001B[43m)\u001B[49m\n",
      "File \u001B[0;32m~/ogrsp_in_github/venv/lib/python3.11/lib/python3.11/site-packages/pandas/core/groupby/groupby.py:965\u001B[0m, in \u001B[0;36mGroupBy.__init__\u001B[0;34m(self, obj, keys, axis, level, grouper, exclusions, selection, as_index, sort, group_keys, squeeze, observed, mutated, dropna)\u001B[0m\n\u001B[1;32m    962\u001B[0m \u001B[38;5;28;01mif\u001B[39;00m grouper \u001B[38;5;129;01mis\u001B[39;00m \u001B[38;5;28;01mNone\u001B[39;00m:\n\u001B[1;32m    963\u001B[0m     \u001B[38;5;28;01mfrom\u001B[39;00m \u001B[38;5;21;01mpandas\u001B[39;00m\u001B[38;5;21;01m.\u001B[39;00m\u001B[38;5;21;01mcore\u001B[39;00m\u001B[38;5;21;01m.\u001B[39;00m\u001B[38;5;21;01mgroupby\u001B[39;00m\u001B[38;5;21;01m.\u001B[39;00m\u001B[38;5;21;01mgrouper\u001B[39;00m \u001B[38;5;28;01mimport\u001B[39;00m get_grouper\n\u001B[0;32m--> 965\u001B[0m     grouper, exclusions, obj \u001B[38;5;241m=\u001B[39m \u001B[43mget_grouper\u001B[49m\u001B[43m(\u001B[49m\n\u001B[1;32m    966\u001B[0m \u001B[43m        \u001B[49m\u001B[43mobj\u001B[49m\u001B[43m,\u001B[49m\n\u001B[1;32m    967\u001B[0m \u001B[43m        \u001B[49m\u001B[43mkeys\u001B[49m\u001B[43m,\u001B[49m\n\u001B[1;32m    968\u001B[0m \u001B[43m        \u001B[49m\u001B[43maxis\u001B[49m\u001B[38;5;241;43m=\u001B[39;49m\u001B[43maxis\u001B[49m\u001B[43m,\u001B[49m\n\u001B[1;32m    969\u001B[0m \u001B[43m        \u001B[49m\u001B[43mlevel\u001B[49m\u001B[38;5;241;43m=\u001B[39;49m\u001B[43mlevel\u001B[49m\u001B[43m,\u001B[49m\n\u001B[1;32m    970\u001B[0m \u001B[43m        \u001B[49m\u001B[43msort\u001B[49m\u001B[38;5;241;43m=\u001B[39;49m\u001B[43msort\u001B[49m\u001B[43m,\u001B[49m\n\u001B[1;32m    971\u001B[0m \u001B[43m        \u001B[49m\u001B[43mobserved\u001B[49m\u001B[38;5;241;43m=\u001B[39;49m\u001B[43mobserved\u001B[49m\u001B[43m,\u001B[49m\n\u001B[1;32m    972\u001B[0m \u001B[43m        \u001B[49m\u001B[43mmutated\u001B[49m\u001B[38;5;241;43m=\u001B[39;49m\u001B[38;5;28;43mself\u001B[39;49m\u001B[38;5;241;43m.\u001B[39;49m\u001B[43mmutated\u001B[49m\u001B[43m,\u001B[49m\n\u001B[1;32m    973\u001B[0m \u001B[43m        \u001B[49m\u001B[43mdropna\u001B[49m\u001B[38;5;241;43m=\u001B[39;49m\u001B[38;5;28;43mself\u001B[39;49m\u001B[38;5;241;43m.\u001B[39;49m\u001B[43mdropna\u001B[49m\u001B[43m,\u001B[49m\n\u001B[1;32m    974\u001B[0m \u001B[43m    \u001B[49m\u001B[43m)\u001B[49m\n\u001B[1;32m    976\u001B[0m \u001B[38;5;28mself\u001B[39m\u001B[38;5;241m.\u001B[39mobj \u001B[38;5;241m=\u001B[39m obj\n\u001B[1;32m    977\u001B[0m \u001B[38;5;28mself\u001B[39m\u001B[38;5;241m.\u001B[39maxis \u001B[38;5;241m=\u001B[39m obj\u001B[38;5;241m.\u001B[39m_get_axis_number(axis)\n",
      "File \u001B[0;32m~/ogrsp_in_github/venv/lib/python3.11/lib/python3.11/site-packages/pandas/core/groupby/grouper.py:883\u001B[0m, in \u001B[0;36mget_grouper\u001B[0;34m(obj, key, axis, level, sort, observed, mutated, validate, dropna)\u001B[0m\n\u001B[1;32m    879\u001B[0m     in_axis, name, gpr \u001B[38;5;241m=\u001B[39m \u001B[38;5;28;01mTrue\u001B[39;00m, gpr, obj[gpr]\n\u001B[1;32m    880\u001B[0m     \u001B[38;5;28;01mif\u001B[39;00m gpr\u001B[38;5;241m.\u001B[39mndim \u001B[38;5;241m!=\u001B[39m \u001B[38;5;241m1\u001B[39m:\n\u001B[1;32m    881\u001B[0m         \u001B[38;5;66;03m# non-unique columns; raise here to get the name in the\u001B[39;00m\n\u001B[1;32m    882\u001B[0m         \u001B[38;5;66;03m# exception message\u001B[39;00m\n\u001B[0;32m--> 883\u001B[0m         \u001B[38;5;28;01mraise\u001B[39;00m \u001B[38;5;167;01mValueError\u001B[39;00m(\u001B[38;5;124mf\u001B[39m\u001B[38;5;124m\"\u001B[39m\u001B[38;5;124mGrouper for \u001B[39m\u001B[38;5;124m'\u001B[39m\u001B[38;5;132;01m{\u001B[39;00mname\u001B[38;5;132;01m}\u001B[39;00m\u001B[38;5;124m'\u001B[39m\u001B[38;5;124m not 1-dimensional\u001B[39m\u001B[38;5;124m\"\u001B[39m)\n\u001B[1;32m    884\u001B[0m     exclusions\u001B[38;5;241m.\u001B[39madd(name)\n\u001B[1;32m    885\u001B[0m \u001B[38;5;28;01melif\u001B[39;00m obj\u001B[38;5;241m.\u001B[39m_is_level_reference(gpr, axis\u001B[38;5;241m=\u001B[39maxis):\n",
      "\u001B[0;31mValueError\u001B[0m: Grouper for 'nuclide_name' not 1-dimensional"
     ]
    }
   ],
   "source": [
    "# 2023-Ago-4 PAREI AQUI. Fazer a indexação para o cálculo da atividade considerando a média das linhas de cada nuclídeo\n",
    "# https://pandas.pydata.org/pandas-docs/stable/user_guide/groupby.html\n",
    "# https://pandas.pydata.org/pandas-docs/stable/user_guide/groupby.html#dataframe-column-selection-in-groupby\n",
    "d5_grouped = analysis_df.groupby(\"nuclide_name\")[['energy','intensity','centroids','rough_sums','variances','disintegr']]\n",
    "# d5_grouped = d5.groupby(\"nuclide_name\")[['disintegr']]\n",
    "# sdfsdf = pd.DataFrame([[d5_grouped.mean(), d5_grouped.median()]]) \n",
    "# sdfsdf\n"
   ],
   "metadata": {
    "collapsed": false,
    "ExecuteTime": {
     "end_time": "2023-09-13T22:13:32.191657198Z",
     "start_time": "2023-09-13T22:13:32.088043357Z"
    }
   },
   "id": "284005bc1a759df3"
  },
  {
   "cell_type": "code",
   "execution_count": null,
   "outputs": [],
   "source": [
    "d5_grouped.mean()"
   ],
   "metadata": {
    "collapsed": false
   },
   "id": "635c4cd576c7a73b"
  },
  {
   "cell_type": "code",
   "execution_count": 64,
   "outputs": [
    {
     "ename": "ValueError",
     "evalue": "Grouper for 'nuclide_name' not 1-dimensional",
     "output_type": "error",
     "traceback": [
      "\u001B[0;31m---------------------------------------------------------------------------\u001B[0m",
      "\u001B[0;31mValueError\u001B[0m                                Traceback (most recent call last)",
      "Cell \u001B[0;32mIn[64], line 4\u001B[0m\n\u001B[1;32m      1\u001B[0m \u001B[38;5;66;03m# 2023-Ago-4 PAREI AQUI. Fazer a indexação para o cálculo da atividade considerando a média das linhas de cada nuclídeo\u001B[39;00m\n\u001B[1;32m      2\u001B[0m \u001B[38;5;66;03m# https://pandas.pydata.org/pandas-docs/stable/user_guide/groupby.html\u001B[39;00m\n\u001B[1;32m      3\u001B[0m \u001B[38;5;66;03m# https://pandas.pydata.org/pandas-docs/stable/user_guide/groupby.html#dataframe-column-selection-in-groupby\u001B[39;00m\n\u001B[0;32m----> 4\u001B[0m d5_grouped \u001B[38;5;241m=\u001B[39m \u001B[43mdf_result_2\u001B[49m\u001B[38;5;241;43m.\u001B[39;49m\u001B[43mgroupby\u001B[49m\u001B[43m(\u001B[49m\u001B[38;5;124;43m\"\u001B[39;49m\u001B[38;5;124;43mnuclide_name\u001B[39;49m\u001B[38;5;124;43m\"\u001B[39;49m\u001B[43m)\u001B[49m[[\u001B[38;5;124m'\u001B[39m\u001B[38;5;124menergy\u001B[39m\u001B[38;5;124m'\u001B[39m,\u001B[38;5;124m'\u001B[39m\u001B[38;5;124mintensity\u001B[39m\u001B[38;5;124m'\u001B[39m,\u001B[38;5;124m'\u001B[39m\u001B[38;5;124mcentroids\u001B[39m\u001B[38;5;124m'\u001B[39m,\u001B[38;5;124m'\u001B[39m\u001B[38;5;124mrough_sums\u001B[39m\u001B[38;5;124m'\u001B[39m,\u001B[38;5;124m'\u001B[39m\u001B[38;5;124mvariances\u001B[39m\u001B[38;5;124m'\u001B[39m,\u001B[38;5;124m'\u001B[39m\u001B[38;5;124mdisintegr\u001B[39m\u001B[38;5;124m'\u001B[39m]]\n\u001B[1;32m      5\u001B[0m \u001B[38;5;66;03m# d5_grouped = d5.groupby(\"nuclide_name\")[['disintegr']]\u001B[39;00m\n\u001B[1;32m      6\u001B[0m \u001B[38;5;66;03m# sdfsdf = pd.DataFrame([[d5_grouped.mean(), d5_grouped.median()]])\u001B[39;00m\n\u001B[1;32m      7\u001B[0m \u001B[38;5;66;03m# sdfsdf\u001B[39;00m\n\u001B[1;32m      8\u001B[0m d5_grouped\u001B[38;5;241m.\u001B[39mmean()\n",
      "File \u001B[0;32m~/ogrsp_in_github/venv/lib/python3.11/lib/python3.11/site-packages/pandas/core/frame.py:8402\u001B[0m, in \u001B[0;36mDataFrame.groupby\u001B[0;34m(self, by, axis, level, as_index, sort, group_keys, squeeze, observed, dropna)\u001B[0m\n\u001B[1;32m   8399\u001B[0m     \u001B[38;5;28;01mraise\u001B[39;00m \u001B[38;5;167;01mTypeError\u001B[39;00m(\u001B[38;5;124m\"\u001B[39m\u001B[38;5;124mYou have to supply one of \u001B[39m\u001B[38;5;124m'\u001B[39m\u001B[38;5;124mby\u001B[39m\u001B[38;5;124m'\u001B[39m\u001B[38;5;124m and \u001B[39m\u001B[38;5;124m'\u001B[39m\u001B[38;5;124mlevel\u001B[39m\u001B[38;5;124m'\u001B[39m\u001B[38;5;124m\"\u001B[39m)\n\u001B[1;32m   8400\u001B[0m axis \u001B[38;5;241m=\u001B[39m \u001B[38;5;28mself\u001B[39m\u001B[38;5;241m.\u001B[39m_get_axis_number(axis)\n\u001B[0;32m-> 8402\u001B[0m \u001B[38;5;28;01mreturn\u001B[39;00m \u001B[43mDataFrameGroupBy\u001B[49m\u001B[43m(\u001B[49m\n\u001B[1;32m   8403\u001B[0m \u001B[43m    \u001B[49m\u001B[43mobj\u001B[49m\u001B[38;5;241;43m=\u001B[39;49m\u001B[38;5;28;43mself\u001B[39;49m\u001B[43m,\u001B[49m\n\u001B[1;32m   8404\u001B[0m \u001B[43m    \u001B[49m\u001B[43mkeys\u001B[49m\u001B[38;5;241;43m=\u001B[39;49m\u001B[43mby\u001B[49m\u001B[43m,\u001B[49m\n\u001B[1;32m   8405\u001B[0m \u001B[43m    \u001B[49m\u001B[43maxis\u001B[49m\u001B[38;5;241;43m=\u001B[39;49m\u001B[43maxis\u001B[49m\u001B[43m,\u001B[49m\n\u001B[1;32m   8406\u001B[0m \u001B[43m    \u001B[49m\u001B[43mlevel\u001B[49m\u001B[38;5;241;43m=\u001B[39;49m\u001B[43mlevel\u001B[49m\u001B[43m,\u001B[49m\n\u001B[1;32m   8407\u001B[0m \u001B[43m    \u001B[49m\u001B[43mas_index\u001B[49m\u001B[38;5;241;43m=\u001B[39;49m\u001B[43mas_index\u001B[49m\u001B[43m,\u001B[49m\n\u001B[1;32m   8408\u001B[0m \u001B[43m    \u001B[49m\u001B[43msort\u001B[49m\u001B[38;5;241;43m=\u001B[39;49m\u001B[43msort\u001B[49m\u001B[43m,\u001B[49m\n\u001B[1;32m   8409\u001B[0m \u001B[43m    \u001B[49m\u001B[43mgroup_keys\u001B[49m\u001B[38;5;241;43m=\u001B[39;49m\u001B[43mgroup_keys\u001B[49m\u001B[43m,\u001B[49m\n\u001B[1;32m   8410\u001B[0m \u001B[43m    \u001B[49m\u001B[43msqueeze\u001B[49m\u001B[38;5;241;43m=\u001B[39;49m\u001B[43msqueeze\u001B[49m\u001B[43m,\u001B[49m\n\u001B[1;32m   8411\u001B[0m \u001B[43m    \u001B[49m\u001B[43mobserved\u001B[49m\u001B[38;5;241;43m=\u001B[39;49m\u001B[43mobserved\u001B[49m\u001B[43m,\u001B[49m\n\u001B[1;32m   8412\u001B[0m \u001B[43m    \u001B[49m\u001B[43mdropna\u001B[49m\u001B[38;5;241;43m=\u001B[39;49m\u001B[43mdropna\u001B[49m\u001B[43m,\u001B[49m\n\u001B[1;32m   8413\u001B[0m \u001B[43m\u001B[49m\u001B[43m)\u001B[49m\n",
      "File \u001B[0;32m~/ogrsp_in_github/venv/lib/python3.11/lib/python3.11/site-packages/pandas/core/groupby/groupby.py:965\u001B[0m, in \u001B[0;36mGroupBy.__init__\u001B[0;34m(self, obj, keys, axis, level, grouper, exclusions, selection, as_index, sort, group_keys, squeeze, observed, mutated, dropna)\u001B[0m\n\u001B[1;32m    962\u001B[0m \u001B[38;5;28;01mif\u001B[39;00m grouper \u001B[38;5;129;01mis\u001B[39;00m \u001B[38;5;28;01mNone\u001B[39;00m:\n\u001B[1;32m    963\u001B[0m     \u001B[38;5;28;01mfrom\u001B[39;00m \u001B[38;5;21;01mpandas\u001B[39;00m\u001B[38;5;21;01m.\u001B[39;00m\u001B[38;5;21;01mcore\u001B[39;00m\u001B[38;5;21;01m.\u001B[39;00m\u001B[38;5;21;01mgroupby\u001B[39;00m\u001B[38;5;21;01m.\u001B[39;00m\u001B[38;5;21;01mgrouper\u001B[39;00m \u001B[38;5;28;01mimport\u001B[39;00m get_grouper\n\u001B[0;32m--> 965\u001B[0m     grouper, exclusions, obj \u001B[38;5;241m=\u001B[39m \u001B[43mget_grouper\u001B[49m\u001B[43m(\u001B[49m\n\u001B[1;32m    966\u001B[0m \u001B[43m        \u001B[49m\u001B[43mobj\u001B[49m\u001B[43m,\u001B[49m\n\u001B[1;32m    967\u001B[0m \u001B[43m        \u001B[49m\u001B[43mkeys\u001B[49m\u001B[43m,\u001B[49m\n\u001B[1;32m    968\u001B[0m \u001B[43m        \u001B[49m\u001B[43maxis\u001B[49m\u001B[38;5;241;43m=\u001B[39;49m\u001B[43maxis\u001B[49m\u001B[43m,\u001B[49m\n\u001B[1;32m    969\u001B[0m \u001B[43m        \u001B[49m\u001B[43mlevel\u001B[49m\u001B[38;5;241;43m=\u001B[39;49m\u001B[43mlevel\u001B[49m\u001B[43m,\u001B[49m\n\u001B[1;32m    970\u001B[0m \u001B[43m        \u001B[49m\u001B[43msort\u001B[49m\u001B[38;5;241;43m=\u001B[39;49m\u001B[43msort\u001B[49m\u001B[43m,\u001B[49m\n\u001B[1;32m    971\u001B[0m \u001B[43m        \u001B[49m\u001B[43mobserved\u001B[49m\u001B[38;5;241;43m=\u001B[39;49m\u001B[43mobserved\u001B[49m\u001B[43m,\u001B[49m\n\u001B[1;32m    972\u001B[0m \u001B[43m        \u001B[49m\u001B[43mmutated\u001B[49m\u001B[38;5;241;43m=\u001B[39;49m\u001B[38;5;28;43mself\u001B[39;49m\u001B[38;5;241;43m.\u001B[39;49m\u001B[43mmutated\u001B[49m\u001B[43m,\u001B[49m\n\u001B[1;32m    973\u001B[0m \u001B[43m        \u001B[49m\u001B[43mdropna\u001B[49m\u001B[38;5;241;43m=\u001B[39;49m\u001B[38;5;28;43mself\u001B[39;49m\u001B[38;5;241;43m.\u001B[39;49m\u001B[43mdropna\u001B[49m\u001B[43m,\u001B[49m\n\u001B[1;32m    974\u001B[0m \u001B[43m    \u001B[49m\u001B[43m)\u001B[49m\n\u001B[1;32m    976\u001B[0m \u001B[38;5;28mself\u001B[39m\u001B[38;5;241m.\u001B[39mobj \u001B[38;5;241m=\u001B[39m obj\n\u001B[1;32m    977\u001B[0m \u001B[38;5;28mself\u001B[39m\u001B[38;5;241m.\u001B[39maxis \u001B[38;5;241m=\u001B[39m obj\u001B[38;5;241m.\u001B[39m_get_axis_number(axis)\n",
      "File \u001B[0;32m~/ogrsp_in_github/venv/lib/python3.11/lib/python3.11/site-packages/pandas/core/groupby/grouper.py:883\u001B[0m, in \u001B[0;36mget_grouper\u001B[0;34m(obj, key, axis, level, sort, observed, mutated, validate, dropna)\u001B[0m\n\u001B[1;32m    879\u001B[0m     in_axis, name, gpr \u001B[38;5;241m=\u001B[39m \u001B[38;5;28;01mTrue\u001B[39;00m, gpr, obj[gpr]\n\u001B[1;32m    880\u001B[0m     \u001B[38;5;28;01mif\u001B[39;00m gpr\u001B[38;5;241m.\u001B[39mndim \u001B[38;5;241m!=\u001B[39m \u001B[38;5;241m1\u001B[39m:\n\u001B[1;32m    881\u001B[0m         \u001B[38;5;66;03m# non-unique columns; raise here to get the name in the\u001B[39;00m\n\u001B[1;32m    882\u001B[0m         \u001B[38;5;66;03m# exception message\u001B[39;00m\n\u001B[0;32m--> 883\u001B[0m         \u001B[38;5;28;01mraise\u001B[39;00m \u001B[38;5;167;01mValueError\u001B[39;00m(\u001B[38;5;124mf\u001B[39m\u001B[38;5;124m\"\u001B[39m\u001B[38;5;124mGrouper for \u001B[39m\u001B[38;5;124m'\u001B[39m\u001B[38;5;132;01m{\u001B[39;00mname\u001B[38;5;132;01m}\u001B[39;00m\u001B[38;5;124m'\u001B[39m\u001B[38;5;124m not 1-dimensional\u001B[39m\u001B[38;5;124m\"\u001B[39m)\n\u001B[1;32m    884\u001B[0m     exclusions\u001B[38;5;241m.\u001B[39madd(name)\n\u001B[1;32m    885\u001B[0m \u001B[38;5;28;01melif\u001B[39;00m obj\u001B[38;5;241m.\u001B[39m_is_level_reference(gpr, axis\u001B[38;5;241m=\u001B[39maxis):\n",
      "\u001B[0;31mValueError\u001B[0m: Grouper for 'nuclide_name' not 1-dimensional"
     ]
    }
   ],
   "source": [
    "# https://pandas.pydata.org/pandas-docs/stable/user_guide/groupby.html#built-in-aggregation-methods\n",
    "d5_aggr_df = pd.DataFrame(df_result.groupby(\"nuclide_name\")[['disintegr']].mean())\n",
    "d5_aggr_df['dsnt_median'] = df_result.groupby(\"nuclide_name\")[['disintegr']].median()\n",
    "d5_aggr_df['dsnt_counts'] = df_result.groupby(\"nuclide_name\")[['disintegr']].count()\n",
    "d5_aggr_df['dsnt_sem'] = df_result.groupby(\"nuclide_name\")[['disintegr']].sem()\n",
    "d5_aggr_df['dsnt_std'] = df_result.groupby(\"nuclide_name\")[['disintegr']].std()\n",
    "d5_aggr_df"
   ],
   "metadata": {
    "collapsed": false
   },
   "id": "b42312b282d4e81f"
  },
  {
   "cell_type": "code",
   "execution_count": null,
   "outputs": [],
   "source": [
    "df_result.groupby(\"nuclide_name\")[['disintegr']].describe()"
   ],
   "metadata": {
    "collapsed": false
   },
   "id": "23159cd807c62449"
  },
  {
   "cell_type": "code",
   "execution_count": null,
   "outputs": [],
   "source": [
    "d5_aggr_df['disint_mean'] = d5_grouped.mean()\n",
    "d5_aggr_df['disint_count'] = d5_grouped.count()\n",
    "d5_aggr_df"
   ],
   "metadata": {
    "collapsed": false
   },
   "id": "b22e2c13f9864059"
  },
  {
   "cell_type": "code",
   "execution_count": null,
   "outputs": [],
   "source": [
    "df_result"
   ],
   "metadata": {
    "collapsed": false
   },
   "id": "6c6ddafb2568e0dc"
  },
  {
   "cell_type": "code",
   "execution_count": null,
   "outputs": [],
   "source": [],
   "metadata": {
    "collapsed": false
   },
   "id": "d0666b4beae0fa2"
  },
  {
   "cell_type": "code",
   "execution_count": null,
   "outputs": [],
   "source": [],
   "metadata": {
    "collapsed": false
   },
   "id": "29a0f1bf1390852f"
  },
  {
   "cell_type": "code",
   "execution_count": null,
   "outputs": [],
   "source": [],
   "metadata": {
    "collapsed": false
   },
   "id": "be9c33e9837ccf7c"
  },
  {
   "cell_type": "code",
   "execution_count": null,
   "outputs": [],
   "source": [],
   "metadata": {
    "collapsed": false
   },
   "id": "a540d5928c7ea918"
  },
  {
   "cell_type": "code",
   "execution_count": null,
   "outputs": [],
   "source": [],
   "metadata": {
    "collapsed": false
   },
   "id": "f3bb372dd7bcfe9b"
  },
  {
   "cell_type": "code",
   "execution_count": null,
   "outputs": [],
   "source": [],
   "metadata": {
    "collapsed": false
   },
   "id": "331af2cd9238776d"
  },
  {
   "cell_type": "code",
   "execution_count": null,
   "outputs": [],
   "source": [
    "# 2023-May-24\n",
    "# Implementing:\n",
    "#  - nuclide labels\n",
    "# https://plotly.com/python/text-and-annotations/\n",
    "#  - and energy search in pandas\n",
    "# https://stackoverflow.com/questions/63529555/get-list-of-occurrences-using-pandas"
   ],
   "metadata": {
    "collapsed": false
   },
   "id": "2f67fc900ebfb032"
  },
  {
   "cell_type": "code",
   "execution_count": null,
   "outputs": [],
   "source": [
    "# counts_nzero_cps = counts_nzero / a_spec.lv_time\n",
    "# unc_y_cps = unc_y / a_spec.lv_time\n",
    "# fin_bl_cps = fin_bl / a_spec.lv_time\n",
    "# counts_cps = counts / a_spec.lv_time\n",
    "# en_kev_nzero = get_energy(chans_nzero)\n",
    "# en_kev = get_energy(chans)\n",
    "# peaks_net_kev = get_energy(peaks_net)"
   ],
   "metadata": {
    "collapsed": false
   },
   "id": "39f6655b8db005c4"
  },
  {
   "cell_type": "code",
   "execution_count": null,
   "outputs": [],
   "source": [
    "help(spec_engy_identif)"
   ],
   "metadata": {
    "collapsed": false
   },
   "id": "77812c0cbae7a147"
  },
  {
   "cell_type": "code",
   "execution_count": null,
   "outputs": [],
   "source": [],
   "metadata": {
    "collapsed": false
   },
   "id": "de7efed722615936"
  },
  {
   "cell_type": "code",
   "execution_count": null,
   "outputs": [],
   "source": [
    "# 2023-Jun-13\n",
    "# PAREI AQUI\n",
    "# Trazer o trabalho feito em\n",
    "# radionuclide_analysis.ipynb e adaptar ao que está aqui\n",
    "# especialmente na identificaćão dos nucl[ideos\n",
    "\n",
    "# Depois, deletar radionuclide_analysis.ipynb."
   ],
   "metadata": {
    "collapsed": false
   },
   "id": "8ea47eb006b8ba7b"
  },
  {
   "cell_type": "code",
   "execution_count": null,
   "outputs": [],
   "source": [],
   "metadata": {
    "collapsed": false
   },
   "id": "30c0af179abc5ad6"
  },
  {
   "cell_type": "code",
   "execution_count": 11,
   "outputs": [
    {
     "data": {
      "text/plain": "      A    B    C    D\n0    A0   B0   C0   D0\n1    A1   B1   C1   D1\n2    A2   B2   C2   D2\n3    A3   B3   C3   D3\n4    A4   B4   C4   D4\n5    A5   B5   C5   D5\n6    A6   B6   C6   D6\n7    A7   B7   C7   D7\n8    A8   B8   C8   D8\n9    A9   B9   C9   D9\n10  A10  B10  C10  D10\n11  A11  B11  C11  D11",
      "text/html": "<div>\n<style scoped>\n    .dataframe tbody tr th:only-of-type {\n        vertical-align: middle;\n    }\n\n    .dataframe tbody tr th {\n        vertical-align: top;\n    }\n\n    .dataframe thead th {\n        text-align: right;\n    }\n</style>\n<table border=\"1\" class=\"dataframe\">\n  <thead>\n    <tr style=\"text-align: right;\">\n      <th></th>\n      <th>A</th>\n      <th>B</th>\n      <th>C</th>\n      <th>D</th>\n    </tr>\n  </thead>\n  <tbody>\n    <tr>\n      <th>0</th>\n      <td>A0</td>\n      <td>B0</td>\n      <td>C0</td>\n      <td>D0</td>\n    </tr>\n    <tr>\n      <th>1</th>\n      <td>A1</td>\n      <td>B1</td>\n      <td>C1</td>\n      <td>D1</td>\n    </tr>\n    <tr>\n      <th>2</th>\n      <td>A2</td>\n      <td>B2</td>\n      <td>C2</td>\n      <td>D2</td>\n    </tr>\n    <tr>\n      <th>3</th>\n      <td>A3</td>\n      <td>B3</td>\n      <td>C3</td>\n      <td>D3</td>\n    </tr>\n    <tr>\n      <th>4</th>\n      <td>A4</td>\n      <td>B4</td>\n      <td>C4</td>\n      <td>D4</td>\n    </tr>\n    <tr>\n      <th>5</th>\n      <td>A5</td>\n      <td>B5</td>\n      <td>C5</td>\n      <td>D5</td>\n    </tr>\n    <tr>\n      <th>6</th>\n      <td>A6</td>\n      <td>B6</td>\n      <td>C6</td>\n      <td>D6</td>\n    </tr>\n    <tr>\n      <th>7</th>\n      <td>A7</td>\n      <td>B7</td>\n      <td>C7</td>\n      <td>D7</td>\n    </tr>\n    <tr>\n      <th>8</th>\n      <td>A8</td>\n      <td>B8</td>\n      <td>C8</td>\n      <td>D8</td>\n    </tr>\n    <tr>\n      <th>9</th>\n      <td>A9</td>\n      <td>B9</td>\n      <td>C9</td>\n      <td>D9</td>\n    </tr>\n    <tr>\n      <th>10</th>\n      <td>A10</td>\n      <td>B10</td>\n      <td>C10</td>\n      <td>D10</td>\n    </tr>\n    <tr>\n      <th>11</th>\n      <td>A11</td>\n      <td>B11</td>\n      <td>C11</td>\n      <td>D11</td>\n    </tr>\n  </tbody>\n</table>\n</div>"
     },
     "execution_count": 11,
     "metadata": {},
     "output_type": "execute_result"
    }
   ],
   "source": [
    "df1 = pd.DataFrame(\n",
    "    {\n",
    "        \"A\": [\"A0\", \"A1\", \"A2\", \"A3\"],\n",
    "        \"B\": [\"B0\", \"B1\", \"B2\", \"B3\"],\n",
    "        \"C\": [\"C0\", \"C1\", \"C2\", \"C3\"],\n",
    "        \"D\": [\"D0\", \"D1\", \"D2\", \"D3\"],\n",
    "    },\n",
    "    index=[0, 1, 2, 3],\n",
    ")\n",
    "\n",
    "\n",
    "df2 = pd.DataFrame(\n",
    "    {\n",
    "        \"A\": [\"A4\", \"A5\", \"A6\", \"A7\"],\n",
    "        \"B\": [\"B4\", \"B5\", \"B6\", \"B7\"],\n",
    "        \"C\": [\"C4\", \"C5\", \"C6\", \"C7\"],\n",
    "        \"D\": [\"D4\", \"D5\", \"D6\", \"D7\"],\n",
    "    },\n",
    "    index=[4, 5, 6, 7],\n",
    ")\n",
    "\n",
    "\n",
    "df3 = pd.DataFrame(\n",
    "    {\n",
    "        \"A\": [\"A8\", \"A9\", \"A10\", \"A11\"],\n",
    "        \"B\": [\"B8\", \"B9\", \"B10\", \"B11\"],\n",
    "        \"C\": [\"C8\", \"C9\", \"C10\", \"C11\"],\n",
    "        \"D\": [\"D8\", \"D9\", \"D10\", \"D11\"],\n",
    "    },\n",
    "    index=[8, 9, 10, 11],\n",
    ")\n",
    "\n",
    "\n",
    "frames = [df1, df2, df3]\n",
    "\n",
    "result = pd.concat(frames)\n",
    "result"
   ],
   "metadata": {
    "collapsed": false,
    "ExecuteTime": {
     "end_time": "2023-09-13T21:49:37.024356282Z",
     "start_time": "2023-09-13T21:49:36.963977912Z"
    }
   },
   "id": "8afae99f2795d5e0"
  },
  {
   "cell_type": "code",
   "execution_count": 12,
   "outputs": [
    {
     "data": {
      "text/plain": "        A    B    C    D\nx 0    A0   B0   C0   D0\n  1    A1   B1   C1   D1\n  2    A2   B2   C2   D2\n  3    A3   B3   C3   D3\ny 4    A4   B4   C4   D4\n  5    A5   B5   C5   D5\n  6    A6   B6   C6   D6\n  7    A7   B7   C7   D7\nz 8    A8   B8   C8   D8\n  9    A9   B9   C9   D9\n  10  A10  B10  C10  D10\n  11  A11  B11  C11  D11",
      "text/html": "<div>\n<style scoped>\n    .dataframe tbody tr th:only-of-type {\n        vertical-align: middle;\n    }\n\n    .dataframe tbody tr th {\n        vertical-align: top;\n    }\n\n    .dataframe thead th {\n        text-align: right;\n    }\n</style>\n<table border=\"1\" class=\"dataframe\">\n  <thead>\n    <tr style=\"text-align: right;\">\n      <th></th>\n      <th></th>\n      <th>A</th>\n      <th>B</th>\n      <th>C</th>\n      <th>D</th>\n    </tr>\n  </thead>\n  <tbody>\n    <tr>\n      <th rowspan=\"4\" valign=\"top\">x</th>\n      <th>0</th>\n      <td>A0</td>\n      <td>B0</td>\n      <td>C0</td>\n      <td>D0</td>\n    </tr>\n    <tr>\n      <th>1</th>\n      <td>A1</td>\n      <td>B1</td>\n      <td>C1</td>\n      <td>D1</td>\n    </tr>\n    <tr>\n      <th>2</th>\n      <td>A2</td>\n      <td>B2</td>\n      <td>C2</td>\n      <td>D2</td>\n    </tr>\n    <tr>\n      <th>3</th>\n      <td>A3</td>\n      <td>B3</td>\n      <td>C3</td>\n      <td>D3</td>\n    </tr>\n    <tr>\n      <th rowspan=\"4\" valign=\"top\">y</th>\n      <th>4</th>\n      <td>A4</td>\n      <td>B4</td>\n      <td>C4</td>\n      <td>D4</td>\n    </tr>\n    <tr>\n      <th>5</th>\n      <td>A5</td>\n      <td>B5</td>\n      <td>C5</td>\n      <td>D5</td>\n    </tr>\n    <tr>\n      <th>6</th>\n      <td>A6</td>\n      <td>B6</td>\n      <td>C6</td>\n      <td>D6</td>\n    </tr>\n    <tr>\n      <th>7</th>\n      <td>A7</td>\n      <td>B7</td>\n      <td>C7</td>\n      <td>D7</td>\n    </tr>\n    <tr>\n      <th rowspan=\"4\" valign=\"top\">z</th>\n      <th>8</th>\n      <td>A8</td>\n      <td>B8</td>\n      <td>C8</td>\n      <td>D8</td>\n    </tr>\n    <tr>\n      <th>9</th>\n      <td>A9</td>\n      <td>B9</td>\n      <td>C9</td>\n      <td>D9</td>\n    </tr>\n    <tr>\n      <th>10</th>\n      <td>A10</td>\n      <td>B10</td>\n      <td>C10</td>\n      <td>D10</td>\n    </tr>\n    <tr>\n      <th>11</th>\n      <td>A11</td>\n      <td>B11</td>\n      <td>C11</td>\n      <td>D11</td>\n    </tr>\n  </tbody>\n</table>\n</div>"
     },
     "execution_count": 12,
     "metadata": {},
     "output_type": "execute_result"
    }
   ],
   "source": [
    "result = pd.concat(frames, keys=[\"x\", \"y\", \"z\"])\n",
    "result"
   ],
   "metadata": {
    "collapsed": false,
    "ExecuteTime": {
     "end_time": "2023-09-13T21:49:47.497095122Z",
     "start_time": "2023-09-13T21:49:47.079090094Z"
    }
   },
   "id": "8793c8af0149bc5d"
  },
  {
   "cell_type": "code",
   "execution_count": 13,
   "outputs": [
    {
     "data": {
      "text/plain": "Empty DataFrame\nColumns: [A, B, C, D]\nIndex: []",
      "text/html": "<div>\n<style scoped>\n    .dataframe tbody tr th:only-of-type {\n        vertical-align: middle;\n    }\n\n    .dataframe tbody tr th {\n        vertical-align: top;\n    }\n\n    .dataframe thead th {\n        text-align: right;\n    }\n</style>\n<table border=\"1\" class=\"dataframe\">\n  <thead>\n    <tr style=\"text-align: right;\">\n      <th></th>\n      <th></th>\n      <th>A</th>\n      <th>B</th>\n      <th>C</th>\n      <th>D</th>\n    </tr>\n  </thead>\n  <tbody>\n  </tbody>\n</table>\n</div>"
     },
     "execution_count": 13,
     "metadata": {},
     "output_type": "execute_result"
    }
   ],
   "source": [
    "result.loc[result.A=='A1'].loc[result.C=='C0']"
   ],
   "metadata": {
    "collapsed": false,
    "ExecuteTime": {
     "end_time": "2023-09-13T21:49:49.082479810Z",
     "start_time": "2023-09-13T21:49:48.470691906Z"
    }
   },
   "id": "dfa6cfc5e254418d"
  },
  {
   "cell_type": "code",
   "execution_count": null,
   "outputs": [],
   "source": [],
   "metadata": {
    "collapsed": false
   },
   "id": "f5d840af7f52685c"
  },
  {
   "cell_type": "code",
   "execution_count": null,
   "outputs": [],
   "source": [
    "# https://stackoverflow.com/questions/63529555"
   ],
   "metadata": {
    "collapsed": false
   },
   "id": "ac5456b33924663c"
  },
  {
   "cell_type": "code",
   "execution_count": null,
   "outputs": [],
   "source": [
    "animals = ['cat', 'dog', 'hamster', 'dolphin']"
   ],
   "metadata": {
    "collapsed": false
   },
   "id": "2759eae513aea27c"
  },
  {
   "cell_type": "code",
   "execution_count": null,
   "outputs": [],
   "source": [
    "df_animals_sets = pd.DataFrame(data={\n",
    "    'id': [1,2,3,4,5],\n",
    "    'animals': ['dog,cat','dog','cat,dolphin','cat,dog','hamster,dolphin']\n",
    "})\n",
    "df_animals_sets"
   ],
   "metadata": {
    "collapsed": false
   },
   "id": "bd07ec72fc6404d8"
  },
  {
   "cell_type": "code",
   "execution_count": null,
   "outputs": [],
   "source": [
    "df = df_animals_sets\n",
    "df_final = (df.astype(str).assign(animals=df.animals.str.split(','))\n",
    "                          .explode('animals').groupby('animals').id.agg(','.join)\n",
    "                          .reset_index())\n",
    "df_final"
   ],
   "metadata": {
    "collapsed": false
   },
   "id": "eb35c478a202e022"
  },
  {
   "cell_type": "code",
   "execution_count": null,
   "outputs": [],
   "source": [],
   "metadata": {
    "collapsed": false
   },
   "id": "7d5c1d240f4be272"
  },
  {
   "cell_type": "code",
   "execution_count": null,
   "outputs": [],
   "source": [
    "# The End"
   ],
   "metadata": {
    "collapsed": false
   },
   "id": "317243a0751f5aae"
  },
  {
   "cell_type": "code",
   "execution_count": null,
   "outputs": [],
   "source": [],
   "metadata": {
    "collapsed": false
   },
   "id": "e568e35b5d90b33b"
  }
 ],
 "metadata": {
  "kernelspec": {
   "display_name": "Python 3",
   "language": "python",
   "name": "python3"
  },
  "language_info": {
   "codemirror_mode": {
    "name": "ipython",
    "version": 2
   },
   "file_extension": ".py",
   "mimetype": "text/x-python",
   "name": "python",
   "nbconvert_exporter": "python",
   "pygments_lexer": "ipython2",
   "version": "2.7.6"
  }
 },
 "nbformat": 4,
 "nbformat_minor": 5
}
