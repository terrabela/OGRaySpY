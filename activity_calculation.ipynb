{
 "cells": [
  {
   "cell_type": "code",
   "execution_count": null,
   "id": "initial_id",
   "metadata": {
    "collapsed": true,
    "ExecuteTime": {
     "end_time": "2023-08-22T18:21:28.473764802Z",
     "start_time": "2023-08-22T18:21:28.468725715Z"
    }
   },
   "outputs": [],
   "source": []
  },
  {
   "cell_type": "code",
   "execution_count": 1,
   "outputs": [],
   "source": [
    "\n",
    "# 2022-out-7: Excelente espectro para testes, tenho usado ultimamente:\n",
    "# a_pattern = 'Si/SI2018/SI11318.Chn'\n",
    "# 2022-nov-16: outros espectros:\n",
    "# a_pattern = \"Filtros/2022/Cci/CCI1603-I.Chn\"\n",
    "# a_pattern = \"Filtros/2022/Cci/CCI2302-I.Chn\"\n",
    "\n",
    "# a_pattern = \"Eso_non_existe.Chn\"\n",
    "\n",
    "# 2022-Dez-21 Buscando outro espectro\n",
    "# a_pattern = 'CCI1603-I'\n",
    "# 2022-Dez-28 Este é um espectro mais recente:\n",
    "# a_pattern = 'SI09722.Chn'\n",
    "# 2022-Dez-28 Este é um espectro mais recente que posso comparar com saída do Genie:\n",
    "# a_pattern = 'SI06322.Chn'\n",
    "# a_pattern = 'SI06122.Chn'"
   ],
   "metadata": {
    "collapsed": false,
    "ExecuteTime": {
     "end_time": "2023-08-22T18:21:28.497083479Z",
     "start_time": "2023-08-22T18:21:28.477835226Z"
    }
   },
   "id": "763f541dc3487799"
  },
  {
   "cell_type": "code",
   "execution_count": 2,
   "outputs": [],
   "source": [
    "import numpy as np\n",
    "from numpy.polynomial import Polynomial as P  # 2020-09-06 Esta é a nova classe recomendada\n",
    "from sklearn import linear_model\n",
    "\n",
    "import pandas as pd\n",
    "from random import randrange\n",
    "import plotly.graph_objects as go\n",
    "\n",
    "from ograyspy_class import Ograyspy, select_spectrum_from_folder_list\n",
    "from spec_class import Spec"
   ],
   "metadata": {
    "collapsed": false,
    "ExecuteTime": {
     "end_time": "2023-08-22T18:21:29.551416791Z",
     "start_time": "2023-08-22T18:21:28.484779918Z"
    }
   },
   "id": "1e13fc0fd90f542a"
  },
  {
   "cell_type": "code",
   "execution_count": 3,
   "outputs": [
    {
     "name": "stdout",
     "output_type": "stream",
     "text": [
      "Found folder name:  /home/marcelofm/snap\n",
      "Partes:  ('/', 'home', 'marcelofm', 'snap')\n",
      "No. spec files:  0\n",
      "marcelofm-X540LA\n",
      "\n",
      "Exec ogra.define_files_folder(to_be_found):\n",
      "Found folder name:  /home/marcelofm/Nextcloud/Genie_Transfer\n",
      "Partes:  ('/', 'home', 'marcelofm', 'Nextcloud', 'Genie_Transfer')\n",
      "No. spec files:  7292\n",
      "Linuxmarcelofm-X540LA.pkl\n"
     ]
    }
   ],
   "source": [
    "ogra = Ograyspy()\n",
    "print(ogra.info_node)\n",
    "to_be_found = 'Genie_Transfer'\n",
    "print('\\nExec ogra.define_files_folder(to_be_found):')\n",
    "ogra.define_files_folder(to_be_found)\n",
    "print(ogra.pkl_folder_files)\n",
    "spectra_list_df = pd.read_pickle(ogra.pkl_folder_files)\n",
    "del ogra"
   ],
   "metadata": {
    "collapsed": false,
    "ExecuteTime": {
     "end_time": "2023-08-22T18:21:30.422381956Z",
     "start_time": "2023-08-22T18:21:29.555725290Z"
    }
   },
   "id": "748a9dca53564614"
  },
  {
   "cell_type": "code",
   "execution_count": 4,
   "outputs": [
    {
     "data": {
      "text/plain": "                                      info_plat info_mach info_syst  \\\n0  Linux-6.2.0-27-generic-x86_64-with-glibc2.37    x86_64     Linux   \n\n          info_node        home_path  \\\n0  marcelofm-X540LA  /home/marcelofm   \n\n                               spectra_path  n_files  a_spec_ind a_spec_name  \\\n0  /home/marcelofm/Nextcloud/Genie_Transfer     7292           0               \n\n  reduced_f_name                                         files_list  \\\n0                 [/home/marcelofm/Nextcloud/Genie_Transfer/BGNO...   \n\n                            reduced_names_files_list  \\\n0  [BGNOVO.Chn, testes_lowbg_planar/Ba133 Planar....   \n\n                    spectra_pattern_names           pkl_folder_files  \n0  [**/*.[Cc][Hh][Nn], **/*.[Ii][Ee][Cc]]  Linuxmarcelofm-X540LA.pkl  ",
      "text/html": "<div>\n<style scoped>\n    .dataframe tbody tr th:only-of-type {\n        vertical-align: middle;\n    }\n\n    .dataframe tbody tr th {\n        vertical-align: top;\n    }\n\n    .dataframe thead th {\n        text-align: right;\n    }\n</style>\n<table border=\"1\" class=\"dataframe\">\n  <thead>\n    <tr style=\"text-align: right;\">\n      <th></th>\n      <th>info_plat</th>\n      <th>info_mach</th>\n      <th>info_syst</th>\n      <th>info_node</th>\n      <th>home_path</th>\n      <th>spectra_path</th>\n      <th>n_files</th>\n      <th>a_spec_ind</th>\n      <th>a_spec_name</th>\n      <th>reduced_f_name</th>\n      <th>files_list</th>\n      <th>reduced_names_files_list</th>\n      <th>spectra_pattern_names</th>\n      <th>pkl_folder_files</th>\n    </tr>\n  </thead>\n  <tbody>\n    <tr>\n      <th>0</th>\n      <td>Linux-6.2.0-27-generic-x86_64-with-glibc2.37</td>\n      <td>x86_64</td>\n      <td>Linux</td>\n      <td>marcelofm-X540LA</td>\n      <td>/home/marcelofm</td>\n      <td>/home/marcelofm/Nextcloud/Genie_Transfer</td>\n      <td>7292</td>\n      <td>0</td>\n      <td></td>\n      <td></td>\n      <td>[/home/marcelofm/Nextcloud/Genie_Transfer/BGNO...</td>\n      <td>[BGNOVO.Chn, testes_lowbg_planar/Ba133 Planar....</td>\n      <td>[**/*.[Cc][Hh][Nn], **/*.[Ii][Ee][Cc]]</td>\n      <td>Linuxmarcelofm-X540LA.pkl</td>\n    </tr>\n  </tbody>\n</table>\n</div>"
     },
     "execution_count": 4,
     "metadata": {},
     "output_type": "execute_result"
    }
   ],
   "source": [
    "spectra_list_df"
   ],
   "metadata": {
    "collapsed": false,
    "ExecuteTime": {
     "end_time": "2023-08-22T18:21:30.979955511Z",
     "start_time": "2023-08-22T18:21:30.410065214Z"
    }
   },
   "id": "32a75d1539a602ef"
  },
  {
   "cell_type": "code",
   "execution_count": 5,
   "outputs": [
    {
     "ename": "SyntaxError",
     "evalue": "invalid syntax (4112820205.py, line 17)",
     "output_type": "error",
     "traceback": [
      "\u001B[0;36m  Cell \u001B[0;32mIn[5], line 17\u001B[0;36m\u001B[0m\n\u001B[0;31m    vars(orig_ser)reduc_nms = spectra_list_df.reduced_names_files_list[0]\u001B[0m\n\u001B[0m                  ^\u001B[0m\n\u001B[0;31mSyntaxError\u001B[0m\u001B[0;31m:\u001B[0m invalid syntax\n"
     ]
    }
   ],
   "source": [
    "# 2022-Dez-28 Este é um espectro mais recente que posso comparar com saída do Genie:\n",
    "a_pattern = 'SI06122.Chn'\n",
    "f_name, reduced_f_name = select_spectrum_from_folder_list(reduc_nms, fil_lst, spc_pth, a_pattern)\n",
    "f_name, reduced_f_name\n",
    "nucl_iear1_df = pd.read_pickle('nucl_iear1_list.pkl')\n",
    "nucl_iear1_df\n",
    "# 2023-Jun-15: Setting gamma lines/ranges to dismiss in the analysis\n",
    "df1 = nucl_iear1_df\n",
    "df1[\"is_to_consider\"] = True\n",
    "df1.loc[((df1.energy > 509) & (df1.energy < 513)) | (df1.energy < 100), \"is_to_consider\"] = False\n",
    "del df1\n",
    "nucl_iear1_df\n",
    "a_spec = Spec(f_name, reduced_f_name)\n",
    "a_spec.total_analysis(gener_dataframe=True)\n",
    "# A opção acima, gener_dataframe=True,  grava o pkl_file do espectro\n",
    "vars(a_spec)\n",
    "vars(orig_ser)reduc_nms = spectra_list_df.reduced_names_files_list[0]\n",
    "fil_lst = spectra_list_df.files_list[0]\n",
    "spc_pth = spectra_list_df.spectra_path[0]"
   ],
   "metadata": {
    "collapsed": false,
    "ExecuteTime": {
     "end_time": "2023-08-22T18:21:31.776399953Z",
     "start_time": "2023-08-22T18:21:30.973138624Z"
    }
   },
   "id": "50ffccec344f4cb4"
  }
 ],
 "metadata": {
  "kernelspec": {
   "display_name": "Python 3",
   "language": "python",
   "name": "python3"
  },
  "language_info": {
   "codemirror_mode": {
    "name": "ipython",
    "version": 2
   },
   "file_extension": ".py",
   "mimetype": "text/x-python",
   "name": "python",
   "nbconvert_exporter": "python",
   "pygments_lexer": "ipython2",
   "version": "2.7.6"
  }
 },
 "nbformat": 4,
 "nbformat_minor": 5
}
