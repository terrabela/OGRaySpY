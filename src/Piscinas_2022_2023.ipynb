{
 "cells": [
  {
   "cell_type": "code",
   "execution_count": 1,
   "id": "e358da32",
   "metadata": {
    "ExecuteTime": {
     "end_time": "2023-04-07T21:57:27.813481Z",
     "start_time": "2023-04-07T21:57:27.736462Z"
    }
   },
   "outputs": [],
   "source": [
    "# 2023-Apr-26\n",
    "# Jupyter notebook for Piscina IEA-R1 calculation 2022 & 2023."
   ]
  },
  {
   "cell_type": "code",
   "execution_count": null,
   "id": "116e441e",
   "metadata": {},
   "outputs": [],
   "source": []
  },
  {
   "cell_type": "code",
   "execution_count": 2,
   "id": "2f2af844",
   "metadata": {
    "ExecuteTime": {
     "end_time": "2023-04-07T21:57:44.023380Z",
     "start_time": "2023-04-07T21:57:43.901962Z"
    }
   },
   "outputs": [],
   "source": [
    "import numpy as np\n",
    "from numpy.random import default_rng\n",
    "from numpy.polynomial import Polynomial as P\n",
    "import time\n",
    "# from scipy import special\n",
    "import scipy as sci\n",
    "import pandas as pd\n",
    "\n",
    "from ograyspy_class import select_spectrum_from_folder_list\n",
    "from spec_class import Spec"
   ]
  },
  {
   "cell_type": "code",
   "execution_count": 3,
   "id": "0c9c87c6",
   "metadata": {
    "ExecuteTime": {
     "end_time": "2023-04-07T20:35:17.916368Z",
     "start_time": "2023-04-07T20:35:17.831254Z"
    }
   },
   "outputs": [],
   "source": [
    "import plotly.graph_objects as go"
   ]
  },
  {
   "cell_type": "code",
   "execution_count": 4,
   "id": "f4ee10ef",
   "metadata": {
    "ExecuteTime": {
     "end_time": "2023-04-07T20:35:16.289441Z",
     "start_time": "2023-04-07T20:35:16.283243Z"
    }
   },
   "outputs": [],
   "source": [
    "# a spectrum pattern to find and test:"
   ]
  },
  {
   "cell_type": "code",
   "execution_count": 5,
   "id": "61f9279e",
   "metadata": {
    "ExecuteTime": {
     "end_time": "2023-04-07T20:35:16.579850Z",
     "start_time": "2023-04-07T20:35:16.429486Z"
    }
   },
   "outputs": [],
   "source": [
    "# a_pattern = 'SI11318.Chn'\n",
    "# a_pattern = 'SI00718.Chn'"
   ]
  },
  {
   "cell_type": "code",
   "execution_count": 6,
   "id": "20fe0f60",
   "metadata": {
    "ExecuteTime": {
     "end_time": "2023-04-07T20:35:16.684735Z",
     "start_time": "2023-04-07T20:35:16.584447Z"
    }
   },
   "outputs": [],
   "source": [
    "from ograyspy_class import Ograyspy"
   ]
  },
  {
   "cell_type": "code",
   "execution_count": 7,
   "id": "9f9a8fa9",
   "metadata": {},
   "outputs": [],
   "source": [
    "si_2022 = 'Genie_Transfer/Si/SI2022'"
   ]
  },
  {
   "cell_type": "code",
   "execution_count": 8,
   "id": "61a3afd9",
   "metadata": {},
   "outputs": [
    {
     "name": "stdout",
     "output_type": "stream",
     "text": [
      "Found folder name:  /home/marcelofm/Nextcloud/Genie_Transfer/Si/SI2022\n",
      "Partes:  ('/', 'home', 'marcelofm', 'Nextcloud', 'Genie_Transfer', 'Si', 'SI2022')\n",
      "No. spec files:  49\n",
      "Objeto ogra: Ograyspy criado.\n",
      "ogra.info_plat: Linux-6.2.0-20-generic-x86_64-with-glibc2.37\n",
      "ogra.info_mach: x86_64\n",
      "ogra.info_syst: Linux\n",
      "ogra.info_node: mmaduar-net13\n",
      "ogra.home_path: /home/marcelofm\n"
     ]
    }
   ],
   "source": [
    "ogra = Ograyspy(batch_mode=False, folder_to_find=si_2022)\n",
    "print('Objeto ogra: Ograyspy criado.')\n",
    "print(f'ogra.info_plat: {ogra.info_plat}')\n",
    "print(f'ogra.info_mach: {ogra.info_mach}')\n",
    "print(f'ogra.info_syst: {ogra.info_syst}')\n",
    "print(f'ogra.info_node: {ogra.info_node}')\n",
    "print(f'ogra.home_path: {ogra.home_path}')"
   ]
  },
  {
   "cell_type": "code",
   "execution_count": 9,
   "id": "41bd2b0c",
   "metadata": {
    "ExecuteTime": {
     "end_time": "2023-04-07T20:35:17.096944Z",
     "start_time": "2023-04-07T20:35:17.024976Z"
    }
   },
   "outputs": [
    {
     "data": {
      "text/html": [
       "<div>\n",
       "<style scoped>\n",
       "    .dataframe tbody tr th:only-of-type {\n",
       "        vertical-align: middle;\n",
       "    }\n",
       "\n",
       "    .dataframe tbody tr th {\n",
       "        vertical-align: top;\n",
       "    }\n",
       "\n",
       "    .dataframe thead th {\n",
       "        text-align: right;\n",
       "    }\n",
       "</style>\n",
       "<table border=\"1\" class=\"dataframe\">\n",
       "  <thead>\n",
       "    <tr style=\"text-align: right;\">\n",
       "      <th></th>\n",
       "      <th>info_plat</th>\n",
       "      <th>info_mach</th>\n",
       "      <th>info_syst</th>\n",
       "      <th>info_node</th>\n",
       "      <th>home_path</th>\n",
       "      <th>spectra_path</th>\n",
       "      <th>n_files</th>\n",
       "      <th>a_spec_ind</th>\n",
       "      <th>a_spec_name</th>\n",
       "      <th>reduced_f_name</th>\n",
       "      <th>files_list</th>\n",
       "      <th>reduced_names_files_list</th>\n",
       "      <th>spectra_pattern_names</th>\n",
       "      <th>pkl_folder_files</th>\n",
       "    </tr>\n",
       "  </thead>\n",
       "  <tbody>\n",
       "    <tr>\n",
       "      <th>0</th>\n",
       "      <td>Linux-6.2.0-20-generic-x86_64-with-glibc2.37</td>\n",
       "      <td>x86_64</td>\n",
       "      <td>Linux</td>\n",
       "      <td>mmaduar-net13</td>\n",
       "      <td>/home/marcelofm</td>\n",
       "      <td>/home/marcelofm/Nextcloud/Genie_Transfer/Si/SI...</td>\n",
       "      <td>49</td>\n",
       "      <td>0</td>\n",
       "      <td></td>\n",
       "      <td></td>\n",
       "      <td>[/home/marcelofm/Nextcloud/Genie_Transfer/Si/S...</td>\n",
       "      <td>[SI07222.Chn, SI01922.Chn, SI05622.Chn, SI0922...</td>\n",
       "      <td>[**/*.[Cc][Hh][Nn], **/*.[Ii][Ee][Cc]]</td>\n",
       "      <td>Linuxmmaduar-net13.pkl</td>\n",
       "    </tr>\n",
       "  </tbody>\n",
       "</table>\n",
       "</div>"
      ],
      "text/plain": [
       "                                      info_plat info_mach info_syst  \\\n",
       "0  Linux-6.2.0-20-generic-x86_64-with-glibc2.37    x86_64     Linux   \n",
       "\n",
       "       info_node        home_path  \\\n",
       "0  mmaduar-net13  /home/marcelofm   \n",
       "\n",
       "                                        spectra_path  n_files  a_spec_ind  \\\n",
       "0  /home/marcelofm/Nextcloud/Genie_Transfer/Si/SI...       49           0   \n",
       "\n",
       "  a_spec_name reduced_f_name  \\\n",
       "0                              \n",
       "\n",
       "                                          files_list  \\\n",
       "0  [/home/marcelofm/Nextcloud/Genie_Transfer/Si/S...   \n",
       "\n",
       "                            reduced_names_files_list  \\\n",
       "0  [SI07222.Chn, SI01922.Chn, SI05622.Chn, SI0922...   \n",
       "\n",
       "                    spectra_pattern_names        pkl_folder_files  \n",
       "0  [**/*.[Cc][Hh][Nn], **/*.[Ii][Ee][Cc]]  Linuxmmaduar-net13.pkl  "
      ]
     },
     "execution_count": 9,
     "metadata": {},
     "output_type": "execute_result"
    }
   ],
   "source": [
    "# Select a machine/system to read from:\n",
    "spectra_list_df = pd.read_pickle(ogra.pkl_folder_files)\n",
    "spectra_list_df"
   ]
  },
  {
   "cell_type": "code",
   "execution_count": null,
   "id": "5c078a8e",
   "metadata": {
    "ExecuteTime": {
     "end_time": "2023-04-07T20:35:17.104019Z",
     "start_time": "2023-04-07T20:35:17.097849Z"
    }
   },
   "outputs": [],
   "source": []
  },
  {
   "cell_type": "code",
   "execution_count": 10,
   "id": "f024a879",
   "metadata": {
    "ExecuteTime": {
     "end_time": "2023-04-07T20:35:17.149292Z",
     "start_time": "2023-04-07T20:35:17.115012Z"
    }
   },
   "outputs": [],
   "source": [
    "reduc_nms = spectra_list_df.reduced_names_files_list[0]\n",
    "fil_lst = spectra_list_df.files_list[0]\n",
    "spc_pth = spectra_list_df.spectra_path[0]"
   ]
  },
  {
   "cell_type": "code",
   "execution_count": 11,
   "id": "1d96ddad",
   "metadata": {},
   "outputs": [
    {
     "data": {
      "text/plain": [
       "['SI07222.Chn',\n",
       " 'SI01922.Chn',\n",
       " 'SI05622.Chn',\n",
       " 'SI09222.Chn',\n",
       " 'SI06922.Chn',\n",
       " 'SI09422.Chn',\n",
       " 'SI03422.Chn',\n",
       " 'SI03222.Chn',\n",
       " 'SI08422.Chn',\n",
       " 'SI05522.Chn',\n",
       " 'SI02522.Chn',\n",
       " 'SI05322.Chn',\n",
       " 'SI04722.Chn',\n",
       " 'SI07722.Chn',\n",
       " 'SI06122.Chn',\n",
       " 'SI05922.Chn',\n",
       " 'SI07922.Chn',\n",
       " 'SI09322.Chn',\n",
       " 'SI08722.Chn',\n",
       " 'SI00822.Chn',\n",
       " 'SI01722.Chn',\n",
       " 'SI03322.Chn',\n",
       " 'SI03122.Chn',\n",
       " 'SI08222.Chn',\n",
       " 'SI02722.Chn',\n",
       " 'SI02622.Chn',\n",
       " 'FRASCO ORIGINAL SI084_22.Chn',\n",
       " 'SI04022 (cont em 31-05-22).Chn',\n",
       " 'SI06322.Chn',\n",
       " 'SI09722.Chn',\n",
       " 'SI01822.Chn',\n",
       " 'SI06722.Chn',\n",
       " 'SI07522.Chn',\n",
       " 'SI03022.Chn',\n",
       " 'SI03722.Chn',\n",
       " 'SI02022.Chn',\n",
       " 'SI05822.Chn',\n",
       " 'SI04422.Chn',\n",
       " 'BGTESTE.Chn',\n",
       " 'SI01622.Chn',\n",
       " 'SI09122.Chn',\n",
       " 'SI07322.Chn',\n",
       " 'SI03522.Chn',\n",
       " 'SI02922.Chn',\n",
       " 'SI05122.Chn',\n",
       " 'SI06522.Chn',\n",
       " 'SI00922.Chn',\n",
       " 'SI08522.Chn',\n",
       " 'SI08622.Chn']"
      ]
     },
     "execution_count": 11,
     "metadata": {},
     "output_type": "execute_result"
    }
   ],
   "source": [
    "reduc_nms"
   ]
  },
  {
   "cell_type": "code",
   "execution_count": 12,
   "id": "5b85b7d5",
   "metadata": {},
   "outputs": [],
   "source": [
    "a_pattern='SI04722.Chn'"
   ]
  },
  {
   "cell_type": "code",
   "execution_count": 13,
   "id": "04e22b01",
   "metadata": {
    "ExecuteTime": {
     "end_time": "2023-04-07T20:35:17.409457Z",
     "start_time": "2023-04-07T20:35:17.124891Z"
    }
   },
   "outputs": [
    {
     "name": "stdout",
     "output_type": "stream",
     "text": [
      "Existing:\n",
      "Achou! indice=12, nomearq = SI04722.Chn\n",
      "name:  /home/marcelofm/Nextcloud/Genie_Transfer/Si/SI2022/SI04722.Chn\n",
      "==========================\n",
      "Final choices:\n",
      "spectra_path: /home/marcelofm/Nextcloud/Genie_Transfer/Si/SI2022\n",
      "a_spec_name: /home/marcelofm/Nextcloud/Genie_Transfer/Si/SI2022/SI04722.Chn\n",
      "reduced_f_name: SI04722.Chn\n"
     ]
    }
   ],
   "source": [
    "a_spec_name, reduced_f_name = select_spectrum_from_folder_list(reduc_nms, fil_lst, spc_pth, a_pattern)"
   ]
  },
  {
   "cell_type": "code",
   "execution_count": 14,
   "id": "482e8a5a",
   "metadata": {
    "ExecuteTime": {
     "end_time": "2023-04-07T20:35:17.410602Z",
     "start_time": "2023-04-07T20:35:17.256323Z"
    }
   },
   "outputs": [
    {
     "data": {
      "text/plain": [
       "(PosixPath('/home/marcelofm/Nextcloud/Genie_Transfer/Si/SI2022/SI04722.Chn'),\n",
       " 'SI04722.Chn')"
      ]
     },
     "execution_count": 14,
     "metadata": {},
     "output_type": "execute_result"
    }
   ],
   "source": [
    "a_spec_name, reduced_f_name"
   ]
  },
  {
   "cell_type": "code",
   "execution_count": 15,
   "id": "19e7d3b0",
   "metadata": {
    "ExecuteTime": {
     "end_time": "2023-04-07T20:35:17.628895Z",
     "start_time": "2023-04-07T20:35:17.390841Z"
    }
   },
   "outputs": [],
   "source": [
    "a_spec = Spec(a_spec_name, reduced_f_name)"
   ]
  },
  {
   "cell_type": "code",
   "execution_count": 16,
   "id": "f379803f",
   "metadata": {},
   "outputs": [
    {
     "data": {
      "text/plain": [
       "array([0, 0, 0, ..., 8, 2, 4])"
      ]
     },
     "execution_count": 16,
     "metadata": {},
     "output_type": "execute_result"
    }
   ],
   "source": [
    "y0_s = np.array(a_spec.gross_spec_ser_an.y_s)\n",
    "y0_s"
   ]
  },
  {
   "cell_type": "code",
   "execution_count": 17,
   "id": "41f2ce24",
   "metadata": {},
   "outputs": [
    {
     "data": {
      "text/plain": [
       "array([0.000e+00, 1.000e+00, 2.000e+00, ..., 4.093e+03, 4.094e+03,\n",
       "       4.095e+03])"
      ]
     },
     "execution_count": 17,
     "metadata": {},
     "output_type": "execute_result"
    }
   ],
   "source": [
    "x0_s = np.array(a_spec.gross_spec_ser_an.x_s)\n",
    "x0_s"
   ]
  },
  {
   "cell_type": "code",
   "execution_count": 18,
   "id": "6b81251b",
   "metadata": {},
   "outputs": [],
   "source": [
    "gross_ser = a_spec.gross_spec_ser_an"
   ]
  },
  {
   "cell_type": "code",
   "execution_count": 19,
   "id": "682f31df",
   "metadata": {
    "ExecuteTime": {
     "end_time": "2023-04-07T20:35:18.015944Z",
     "start_time": "2023-04-07T20:35:17.960334Z"
    }
   },
   "outputs": [],
   "source": [
    "x_nz = gross_ser.chans_nzero\n",
    "y_nz = gross_ser.counts_nzero"
   ]
  },
  {
   "cell_type": "code",
   "execution_count": 20,
   "id": "0d959bf9",
   "metadata": {
    "ExecuteTime": {
     "end_time": "2023-04-05T20:00:07.379261Z",
     "start_time": "2023-04-05T20:00:07.379261Z"
    }
   },
   "outputs": [],
   "source": [
    "unc_y = gross_ser.unc_y"
   ]
  },
  {
   "cell_type": "code",
   "execution_count": 21,
   "id": "fc168c64",
   "metadata": {},
   "outputs": [
    {
     "data": {
      "text/plain": [
       "array([0, 0, 0, ..., 8, 2, 4])"
      ]
     },
     "execution_count": 21,
     "metadata": {},
     "output_type": "execute_result"
    }
   ],
   "source": [
    "y0_s"
   ]
  },
  {
   "cell_type": "code",
   "execution_count": 36,
   "id": "01edce94",
   "metadata": {},
   "outputs": [],
   "source": [
    "# Seleciona sensibilidade dos picos do espectro de referência:\n",
    "promin = 30"
   ]
  },
  {
   "cell_type": "code",
   "execution_count": 37,
   "id": "a6794efa",
   "metadata": {},
   "outputs": [],
   "source": [
    "# pks = sci.signal.find_peaks_cwt(y0_s, widths=(3,15), min_snr=1, noise_perc=10, max_distances=(1,20))\n",
    "# pks"
   ]
  },
  {
   "cell_type": "code",
   "execution_count": 38,
   "id": "b6998b66",
   "metadata": {},
   "outputs": [
    {
     "data": {
      "text/plain": [
       "array([  26,   39,   44,   50,   53,   61,   70,   80,   87,   89,   95,\n",
       "        104,  112,  122,  126,  135,  142,  147,  155,  166,  177,  182,\n",
       "        186,  191,  196,  200,  206,  211,  223,  233,  241,  244,  248,\n",
       "        250,  257,  265,  274,  281,  289,  292,  297,  299,  309,  315,\n",
       "        331,  333,  341,  346,  349,  353,  358,  362,  365,  369,  371,\n",
       "        377,  386,  390,  393,  399,  408,  418,  424,  428,  431,  434,\n",
       "        437,  441,  447,  452,  456,  458,  466,  470,  478,  480,  486,\n",
       "        494,  498,  503,  512,  523,  527,  533,  535,  543,  549,  552,\n",
       "        557,  564,  566,  568,  579,  586,  588,  591,  599,  620,  624,\n",
       "        631,  641,  647,  652,  665,  670,  674,  678,  686,  690,  696,\n",
       "        701,  707,  718,  720,  723,  726,  728,  734,  741,  753,  760,\n",
       "        768,  775,  779,  787,  799,  809,  815,  839,  847,  852,  861,\n",
       "        865,  871,  883,  896,  900,  908,  926,  930,  939,  947,  957,\n",
       "        965,  988, 1000, 1009, 1015, 1025, 1050, 1053, 1080, 1095, 1113,\n",
       "       1118, 1126, 1139, 1141, 1152, 1157, 1193, 1200, 1221, 1225, 1228,\n",
       "       1236, 1248, 1250, 1253, 1260, 1268, 1288, 1300, 1320, 1330, 1356,\n",
       "       1365, 1369, 1377, 1397, 1413, 1450, 1459, 1470, 1494, 1537, 1560,\n",
       "       1566, 1582, 1589, 1599, 1610, 1623, 1640, 1653, 1677, 1694, 1709,\n",
       "       1724, 1728, 1735, 1741, 1761, 1771, 1784, 1802, 1829, 1836, 1854,\n",
       "       1867, 1870, 1923, 1936, 1941, 1949, 1959, 2031, 2184, 2243, 2259,\n",
       "       2270, 2394, 2603, 2836, 2891, 3446, 3610, 3676, 4006])"
      ]
     },
     "execution_count": 38,
     "metadata": {},
     "output_type": "execute_result"
    }
   ],
   "source": [
    "pks, _ = sci.signal.find_peaks(y0_s, prominence=promin)\n",
    "pks"
   ]
  },
  {
   "cell_type": "code",
   "execution_count": 39,
   "id": "3304edc5",
   "metadata": {},
   "outputs": [
    {
     "data": {
      "text/plain": [
       "array([ 456,  683,  618,  568,  558,  491,  496,  492,  496,  477,  523,\n",
       "        673,  638, 1045, 1380,  598,  991,  768,  648,  651,  679,  666,\n",
       "        649,  685,  687,  692,  721,  721,  801,  971,  741,  714,  728,\n",
       "        750,  696,  706,  681,  695,  692,  651,  695,  688,  750,  628,\n",
       "        638,  656,  599,  628,  624,  615,  661,  625,  607,  601,  574,\n",
       "        686,  546,  539,  678,  555,  503,  489,  492,  468,  485,  470,\n",
       "        480,  456,  477,  455,  453,  471,  453,  452,  463,  413,  474,\n",
       "        413,  407,  415,  414,  396,  452,  378,  361,  363,  352,  388,\n",
       "        375,  339,  344,  341,  466,  314,  309,  334,  356,  304,  296,\n",
       "        303,  287,  283,  292,  312,  264,  273,  275,  261,  270,  266,\n",
       "        265,  273,  257,  252,  246,  254,  245,  248,  252,  245,  258,\n",
       "        238,  226,  226,  301,  221,  217,  221,  830,  219,  212,  218,\n",
       "        204,  200,  202,  201,  203,  202,  208,  198,  203,  188,  326,\n",
       "        182,  196,  386,  198,  200,  190,  164,  168,  343,  181,  169,\n",
       "        152,  213,  143,  143,  151,  162,  173,  146,  142,  132,  132,\n",
       "        134,  138,  142,  157,  157,  180,  142,  141,  143,  815,  139,\n",
       "        144,  191,  147,  132,  140,  217,  127,  129,  258,  162,  142,\n",
       "        168,  144,  205,  111,  115,  116,  117,  115,  117,  109,  112,\n",
       "        104,  112,  111,  109,  107,  107,  111,  115,  151,  189,  101,\n",
       "         90,   90, 1695,   85,   82,   78,   79,   83, 1508,  533,   59,\n",
       "         57,  854,   49,   54,  109,   45,   41,   42,   36])"
      ]
     },
     "execution_count": 39,
     "metadata": {},
     "output_type": "execute_result"
    }
   ],
   "source": [
    "y0_s_pks = y0_s[pks]\n",
    "y0_s_pks"
   ]
  },
  {
   "cell_type": "code",
   "execution_count": 40,
   "id": "53ca7ed2",
   "metadata": {},
   "outputs": [
    {
     "data": {
      "text/plain": [
       "array([ 33,  42,  17,  28, 174, 128, 221,  29,  16,  13,  14, 217, 211])"
      ]
     },
     "execution_count": 40,
     "metadata": {},
     "output_type": "execute_result"
    }
   ],
   "source": [
    "indir_sort = np.argsort(y0_s_pks)[-13:]\n",
    "indir_sort"
   ]
  },
  {
   "cell_type": "code",
   "execution_count": 41,
   "id": "445becdf",
   "metadata": {},
   "outputs": [
    {
     "data": {
      "text/plain": [
       "array([ 750,  750,  768,  801,  815,  830,  854,  971,  991, 1045, 1380,\n",
       "       1508, 1695])"
      ]
     },
     "execution_count": 41,
     "metadata": {},
     "output_type": "execute_result"
    }
   ],
   "source": [
    "y0_s_pks[indir_sort]"
   ]
  },
  {
   "cell_type": "code",
   "execution_count": 42,
   "id": "24ec2874",
   "metadata": {},
   "outputs": [
    {
     "data": {
      "text/plain": [
       "array([ 250,  309,  147,  223, 1330,  839, 2394,  233,  142,  122,  126,\n",
       "       2184, 1923])"
      ]
     },
     "execution_count": 42,
     "metadata": {},
     "output_type": "execute_result"
    }
   ],
   "source": [
    "pks[indir_sort]"
   ]
  },
  {
   "cell_type": "code",
   "execution_count": 29,
   "id": "cf818b75",
   "metadata": {},
   "outputs": [],
   "source": [
    "fig2 = go.Figure(data=go.Scattergl(\n",
    "    x=x_nz,\n",
    "    y=y_nz,\n",
    "    mode='markers'\n",
    "))\n"
   ]
  },
  {
   "cell_type": "code",
   "execution_count": 30,
   "id": "23577a62",
   "metadata": {},
   "outputs": [],
   "source": [
    "fig2.add_trace(\n",
    "    go.Scattergl(x=x0_s,\n",
    "                 y=y0_s,\n",
    "                 error_y=dict(\n",
    "                     color='orange',width=3.0,\n",
    "                     type='data', # value of error bar given in data coordinates\n",
    "                     array=unc_y,\n",
    "                     visible=True),\n",
    "                 name=\"Counts & uncertaintes\",\n",
    "                 line=dict(color='orange',width=0.3)));"
   ]
  },
  {
   "cell_type": "code",
   "execution_count": 31,
   "id": "e7f16f79",
   "metadata": {},
   "outputs": [],
   "source": [
    "fig2.add_trace(\n",
    "    go.Scattergl(x=pks,\n",
    "                 y=y0_s[pks],\n",
    "                 mode=\"markers\",\n",
    "                 name=\"peaks\",\n",
    "                 marker=dict(color='cyan',\n",
    "                             symbol='circle',\n",
    "                             size=15,\n",
    "                             opacity=0.4,\n",
    "                             line=dict(color='green', width=2.0)\n",
    "                            )\n",
    "                ));"
   ]
  },
  {
   "cell_type": "code",
   "execution_count": 32,
   "id": "11a0987e",
   "metadata": {},
   "outputs": [],
   "source": [
    "# Set title and scale type    width=1800,\n",
    "\n",
    "fig2.update_layout(\n",
    "    title_text=reduced_f_name,\n",
    "    height=900,\n",
    "    margin=dict(l=10, r=10, t=30, b=10),\n",
    "    paper_bgcolor=\"LightSteelBlue\"\n",
    ")\n",
    "fig2.update_yaxes(type=\"log\");\n",
    "fig2.write_html('fig2.html', auto_open=True)\n"
   ]
  },
  {
   "cell_type": "code",
   "execution_count": 33,
   "id": "fac1ed3e",
   "metadata": {},
   "outputs": [],
   "source": [
    "# Agora, o grande loop para comparar o espectro escolhido\n",
    "# com todos os outros:"
   ]
  },
  {
   "cell_type": "code",
   "execution_count": 34,
   "id": "c2380946",
   "metadata": {},
   "outputs": [],
   "source": [
    "# Fazendo correlação entre cada espectro da pasta com um bem formado entre eles.\n",
    "# Método 1: correlação direta"
   ]
  },
  {
   "cell_type": "code",
   "execution_count": 35,
   "id": "51b37fd6",
   "metadata": {},
   "outputs": [],
   "source": [
    "recorte = slice(1700, 4000)"
   ]
  },
  {
   "cell_type": "code",
   "execution_count": null,
   "id": "e3cb76a6",
   "metadata": {},
   "outputs": [],
   "source": []
  },
  {
   "cell_type": "code",
   "execution_count": null,
   "id": "81ad6046",
   "metadata": {},
   "outputs": [],
   "source": []
  },
  {
   "cell_type": "code",
   "execution_count": null,
   "id": "1d585dbd",
   "metadata": {},
   "outputs": [],
   "source": [
    "t = time.time()\n",
    "# do stuff"
   ]
  },
  {
   "cell_type": "code",
   "execution_count": null,
   "id": "95db599c",
   "metadata": {},
   "outputs": [],
   "source": [
    "i_n = 0\n",
    "lista_mix = []\n",
    "for i_sp, j_sp in zip(fil_lst, reduc_nms):\n",
    "    a_spec = Spec(i_sp, j_sp)\n",
    "    gross_ser = a_spec.gross_spec_ser_an\n",
    "    y_s = gross_ser.y_s\n",
    "    # convo = sci.signal.correlate(y_s,y_s)\n",
    "    # convo = sci.signal.convolve(counts, counts)\n",
    "    # convo = sci.signal.fftconvolve(y_s, y_s)\n",
    "    # convo = sci.signal.fftconvolve(y_s, np.roll(y_s,1500))\n",
    "    # shifted_y_s = np.roll(y_s,1319)\n",
    "    convo = sci.signal.correlate(y_s[recorte], y0_s[recorte])\n",
    "    max_arg = np.argmax(abs(convo))\n",
    "    drift = y_s.size-max_arg-1-1796\n",
    "    cts_tot = np.sum(y_s)\n",
    "    pks, _ = sci.signal.find_peaks(y_s, prominence=promin)\n",
    "    n_pks = pks.size\n",
    "    print(f'{i_n}: {j_sp}: {max_arg} ->  {drift}  n_pks: {n_pks}  Tot: {cts_tot}.')\n",
    "    lista_mix.append([i_n, j_sp, max_arg, drift, n_pks, cts_tot])\n",
    "    i_n += 1\n",
    "    # af = sci.fft.fft(y_s)\n",
    "    # bf = sci.fft.fft(shifted_y_s)\n",
    "    # c = sci.fft.ifft(af * np.conj(bf))\n",
    "    # time_shift = np.argmax(abs(c))"
   ]
  },
  {
   "cell_type": "code",
   "execution_count": null,
   "id": "5d160a43",
   "metadata": {},
   "outputs": [],
   "source": [
    "elapsd = time.time() - t\n",
    "elapsd"
   ]
  },
  {
   "cell_type": "code",
   "execution_count": null,
   "id": "561f74d7",
   "metadata": {},
   "outputs": [],
   "source": [
    "drifts = np.array([l[3] for l in lista_mix])\n",
    "drifts"
   ]
  },
  {
   "cell_type": "code",
   "execution_count": null,
   "id": "9d9afcf0",
   "metadata": {},
   "outputs": [],
   "source": []
  },
  {
   "cell_type": "code",
   "execution_count": null,
   "id": "bb9223ea",
   "metadata": {},
   "outputs": [],
   "source": [
    "# num=21 dá percentis 0%, 5%, 10%, ... 100%\n",
    "percentis = np.percentile(drifts, np.linspace(0, 100, num=21))\n",
    "percentis"
   ]
  },
  {
   "cell_type": "code",
   "execution_count": null,
   "id": "b72b5861",
   "metadata": {},
   "outputs": [],
   "source": []
  },
  {
   "cell_type": "code",
   "execution_count": null,
   "id": "73ae92ae",
   "metadata": {},
   "outputs": [],
   "source": []
  },
  {
   "cell_type": "code",
   "execution_count": null,
   "id": "0070390a",
   "metadata": {},
   "outputs": [],
   "source": [
    "# Soma de 1 ano de espectros da piscina."
   ]
  },
  {
   "cell_type": "code",
   "execution_count": null,
   "id": "940d1e13",
   "metadata": {},
   "outputs": [],
   "source": [
    "i_n = 0\n",
    "i_m = 0\n",
    "ys_tot = np.zeros(y0_s.size)\n",
    "for i_sp, j_sp in zip(fil_lst, reduc_nms):\n",
    "    a_spec = Spec(i_sp, j_sp)\n",
    "    gross_ser = a_spec.gross_spec_ser_an\n",
    "    y_s = gross_ser.y_s\n",
    "    convo = sci.signal.correlate(y_s[recorte], y0_s[recorte])\n",
    "    max_arg = np.argmax(abs(convo))\n",
    "    drift = y_s.size-max_arg-1-1796\n",
    "    cts_tot = np.sum(y_s)\n",
    "    pks, _ = sci.signal.find_peaks(y_s, prominence=promin)\n",
    "    n_pks = pks.size\n",
    "    print(f'{i_n}: {j_sp}: {max_arg} ->  {drift}  n_pks: {n_pks}  Tot: {cts_tot}.')\n",
    "    if abs(drift) < 60:\n",
    "        ys_tot += np.roll(y_s, -drift)\n",
    "        # ys_tot += y_s\n",
    "        i_m += 1\n",
    "    i_n += 1\n",
    "    # af = sci.fft.fft(y_s)\n",
    "    # bf = sci.fft.fft(shifted_y_s)\n",
    "    # c = sci.fft.ifft(af * np.conj(bf))\n",
    "    # time_shift = np.argmax(abs(c))"
   ]
  },
  {
   "cell_type": "code",
   "execution_count": null,
   "id": "89fe5c30",
   "metadata": {},
   "outputs": [],
   "source": [
    "i_m"
   ]
  },
  {
   "cell_type": "code",
   "execution_count": null,
   "id": "916174a9",
   "metadata": {},
   "outputs": [],
   "source": [
    "fig2 = go.Figure(data=go.Scattergl(\n",
    "    x=x_nz,\n",
    "    y=y_nz,\n",
    "    mode='markers'\n",
    "))\n"
   ]
  },
  {
   "cell_type": "code",
   "execution_count": null,
   "id": "ace8e20c",
   "metadata": {},
   "outputs": [],
   "source": [
    "fig2.add_trace(\n",
    "    go.Scattergl(x=x0_s,\n",
    "                 y=ys_tot,\n",
    "                 error_y=dict(\n",
    "                     color='orange',width=3.0,\n",
    "                     type='data', # value of error bar given in data coordinates\n",
    "                     array=unc_y,\n",
    "                     visible=True),\n",
    "                 name=\"Counts & uncertaintes\",\n",
    "                 line=dict(color='orange',width=0.3)));"
   ]
  },
  {
   "cell_type": "code",
   "execution_count": null,
   "id": "250536e5",
   "metadata": {},
   "outputs": [],
   "source": [
    "fig2.add_trace(\n",
    "    go.Scattergl(x=pks,\n",
    "                 y=y0_s[pks],\n",
    "                 mode=\"markers\",\n",
    "                 name=\"peaks\",\n",
    "                 marker=dict(color='cyan',\n",
    "                             symbol='circle',\n",
    "                             size=15,\n",
    "                             opacity=0.4,\n",
    "                             line=dict(color='green', width=2.0)\n",
    "                            )\n",
    "                ));"
   ]
  },
  {
   "cell_type": "code",
   "execution_count": null,
   "id": "8a098c9b",
   "metadata": {},
   "outputs": [],
   "source": [
    "# Set title and scale type    width=1800,\n",
    "\n",
    "fig2.update_layout(\n",
    "    title_text=\"Gamma-ray spectrum excerpt\",\n",
    "    height=900,\n",
    "    margin=dict(l=10, r=10, t=30, b=10),\n",
    "    paper_bgcolor=\"LightSteelBlue\"\n",
    ")\n",
    "fig2.update_yaxes(type=\"log\");\n",
    "fig2.write_html('fig2.html', auto_open=True)\n"
   ]
  },
  {
   "cell_type": "code",
   "execution_count": null,
   "id": "bacea814",
   "metadata": {},
   "outputs": [],
   "source": []
  },
  {
   "cell_type": "code",
   "execution_count": null,
   "id": "c1a50feb",
   "metadata": {
    "ExecuteTime": {
     "end_time": "2023-04-05T20:00:09.985393Z",
     "start_time": "2023-04-05T20:00:09.495922Z"
    }
   },
   "outputs": [],
   "source": [
    "# Das Ende"
   ]
  }
 ],
 "metadata": {
  "kernelspec": {
   "display_name": "Python 3 (ipykernel)",
   "language": "python",
   "name": "python3"
  },
  "language_info": {
   "codemirror_mode": {
    "name": "ipython",
    "version": 3
   },
   "file_extension": ".py",
   "mimetype": "text/x-python",
   "name": "python",
   "nbconvert_exporter": "python",
   "pygments_lexer": "ipython3",
   "version": "3.11.2"
  }
 },
 "nbformat": 4,
 "nbformat_minor": 5
}
