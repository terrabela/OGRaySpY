{
 "cells": [
  {
   "cell_type": "code",
   "execution_count": 1,
   "id": "e358da32",
   "metadata": {
    "ExecuteTime": {
     "end_time": "2023-04-30T14:58:13.492719349Z",
     "start_time": "2023-04-30T14:58:13.482176806Z"
    }
   },
   "outputs": [],
   "source": [
    "# 2023-Apr-26\n",
    "# Jupyter notebook for Piscina IEA-R1 calculation 2022 & 2023."
   ]
  },
  {
   "cell_type": "code",
   "execution_count": 1,
   "id": "116e441e",
   "metadata": {
    "ExecuteTime": {
     "end_time": "2023-04-30T14:58:13.504939240Z",
     "start_time": "2023-04-30T14:58:13.496180973Z"
    }
   },
   "outputs": [],
   "source": []
  },
  {
   "cell_type": "code",
   "execution_count": 2,
   "id": "2f2af844",
   "metadata": {
    "ExecuteTime": {
     "end_time": "2023-04-30T14:58:23.267917546Z",
     "start_time": "2023-04-30T14:58:13.505980506Z"
    }
   },
   "outputs": [],
   "source": [
    "import numpy as np\n",
    "from numpy.random import default_rng\n",
    "from numpy.polynomial import Polynomial as P\n",
    "import time\n",
    "# from scipy import special\n",
    "import scipy as sci\n",
    "import pandas as pd\n",
    "\n",
    "from ograyspy_class import select_spectrum_from_folder_list\n",
    "from spec_class import Spec"
   ]
  },
  {
   "cell_type": "code",
   "execution_count": 3,
   "id": "0c9c87c6",
   "metadata": {
    "ExecuteTime": {
     "end_time": "2023-04-30T14:58:24.186157747Z",
     "start_time": "2023-04-30T14:58:23.271987706Z"
    }
   },
   "outputs": [],
   "source": [
    "import plotly.graph_objects as go\n",
    "import plotly.express as px"
   ]
  },
  {
   "cell_type": "code",
   "execution_count": 4,
   "id": "f4ee10ef",
   "metadata": {
    "ExecuteTime": {
     "end_time": "2023-04-30T14:58:24.206340197Z",
     "start_time": "2023-04-30T14:58:24.188018818Z"
    }
   },
   "outputs": [],
   "source": [
    "# a spectrum pattern to find and test:"
   ]
  },
  {
   "cell_type": "code",
   "execution_count": 5,
   "id": "61f9279e",
   "metadata": {
    "ExecuteTime": {
     "end_time": "2023-04-30T14:58:24.348292930Z",
     "start_time": "2023-04-30T14:58:24.220213913Z"
    }
   },
   "outputs": [],
   "source": [
    "# a_pattern = 'SI11318.Chn'\n",
    "# a_pattern = 'SI00718.Chn'"
   ]
  },
  {
   "cell_type": "code",
   "execution_count": 6,
   "id": "20fe0f60",
   "metadata": {
    "ExecuteTime": {
     "end_time": "2023-04-30T14:58:24.498741583Z",
     "start_time": "2023-04-30T14:58:24.326270800Z"
    }
   },
   "outputs": [],
   "source": [
    "from ograyspy_class import Ograyspy"
   ]
  },
  {
   "cell_type": "code",
   "execution_count": 7,
   "id": "9f9a8fa9",
   "metadata": {
    "ExecuteTime": {
     "end_time": "2023-04-30T14:58:24.592472988Z",
     "start_time": "2023-04-30T14:58:24.499426942Z"
    }
   },
   "outputs": [],
   "source": [
    "si_2022 = 'Genie_Transfer/Si/SI2022'"
   ]
  },
  {
   "cell_type": "code",
   "execution_count": 8,
   "id": "61a3afd9",
   "metadata": {
    "ExecuteTime": {
     "end_time": "2023-04-30T14:58:24.757519845Z",
     "start_time": "2023-04-30T14:58:24.633206645Z"
    }
   },
   "outputs": [
    {
     "name": "stdout",
     "output_type": "stream",
     "text": [
      "Found folder name:  /home/marcelofm/Nextcloud/Genie_Transfer/Si/SI2022\n",
      "Partes:  ('/', 'home', 'marcelofm', 'Nextcloud', 'Genie_Transfer', 'Si', 'SI2022')\n",
      "No. spec files:  49\n",
      "Objeto ogra: Ograyspy criado.\n",
      "ogra.info_plat: Linux-5.19.0-41-generic-x86_64-with-glibc2.36\n",
      "ogra.info_mach: x86_64\n",
      "ogra.info_syst: Linux\n",
      "ogra.info_node: marcelofm-X540LA\n",
      "ogra.home_path: /home/marcelofm\n"
     ]
    }
   ],
   "source": [
    "ogra = Ograyspy(batch_mode=False, folder_to_find=si_2022)\n",
    "print('Objeto ogra: Ograyspy criado.')\n",
    "print(f'ogra.info_plat: {ogra.info_plat}')\n",
    "print(f'ogra.info_mach: {ogra.info_mach}')\n",
    "print(f'ogra.info_syst: {ogra.info_syst}')\n",
    "print(f'ogra.info_node: {ogra.info_node}')\n",
    "print(f'ogra.home_path: {ogra.home_path}')"
   ]
  },
  {
   "cell_type": "code",
   "execution_count": 9,
   "id": "41bd2b0c",
   "metadata": {
    "ExecuteTime": {
     "end_time": "2023-04-30T14:58:25.085933239Z",
     "start_time": "2023-04-30T14:58:24.753875377Z"
    }
   },
   "outputs": [
    {
     "data": {
      "text/plain": "                                       info_plat info_mach info_syst  \\\n0  Linux-5.19.0-41-generic-x86_64-with-glibc2.36    x86_64     Linux   \n\n          info_node        home_path  \\\n0  marcelofm-X540LA  /home/marcelofm   \n\n                                        spectra_path  n_files  a_spec_ind  \\\n0  /home/marcelofm/Nextcloud/Genie_Transfer/Si/SI...       49           0   \n\n  a_spec_name reduced_f_name  \\\n0                              \n\n                                          files_list  \\\n0  [/home/marcelofm/Nextcloud/Genie_Transfer/Si/S...   \n\n                            reduced_names_files_list  \\\n0  [SI02622.Chn, SI07222.Chn, SI04022 (cont em 31...   \n\n                    spectra_pattern_names           pkl_folder_files  \n0  [**/*.[Cc][Hh][Nn], **/*.[Ii][Ee][Cc]]  Linuxmarcelofm-X540LA.pkl  ",
      "text/html": "<div>\n<style scoped>\n    .dataframe tbody tr th:only-of-type {\n        vertical-align: middle;\n    }\n\n    .dataframe tbody tr th {\n        vertical-align: top;\n    }\n\n    .dataframe thead th {\n        text-align: right;\n    }\n</style>\n<table border=\"1\" class=\"dataframe\">\n  <thead>\n    <tr style=\"text-align: right;\">\n      <th></th>\n      <th>info_plat</th>\n      <th>info_mach</th>\n      <th>info_syst</th>\n      <th>info_node</th>\n      <th>home_path</th>\n      <th>spectra_path</th>\n      <th>n_files</th>\n      <th>a_spec_ind</th>\n      <th>a_spec_name</th>\n      <th>reduced_f_name</th>\n      <th>files_list</th>\n      <th>reduced_names_files_list</th>\n      <th>spectra_pattern_names</th>\n      <th>pkl_folder_files</th>\n    </tr>\n  </thead>\n  <tbody>\n    <tr>\n      <th>0</th>\n      <td>Linux-5.19.0-41-generic-x86_64-with-glibc2.36</td>\n      <td>x86_64</td>\n      <td>Linux</td>\n      <td>marcelofm-X540LA</td>\n      <td>/home/marcelofm</td>\n      <td>/home/marcelofm/Nextcloud/Genie_Transfer/Si/SI...</td>\n      <td>49</td>\n      <td>0</td>\n      <td></td>\n      <td></td>\n      <td>[/home/marcelofm/Nextcloud/Genie_Transfer/Si/S...</td>\n      <td>[SI02622.Chn, SI07222.Chn, SI04022 (cont em 31...</td>\n      <td>[**/*.[Cc][Hh][Nn], **/*.[Ii][Ee][Cc]]</td>\n      <td>Linuxmarcelofm-X540LA.pkl</td>\n    </tr>\n  </tbody>\n</table>\n</div>"
     },
     "execution_count": 9,
     "metadata": {},
     "output_type": "execute_result"
    }
   ],
   "source": [
    "# Select a machine/system to read from:\n",
    "spectra_list_df = pd.read_pickle(ogra.pkl_folder_files)\n",
    "spectra_list_df"
   ]
  },
  {
   "cell_type": "code",
   "execution_count": 9,
   "id": "5c078a8e",
   "metadata": {
    "ExecuteTime": {
     "end_time": "2023-04-30T14:58:25.104703678Z",
     "start_time": "2023-04-30T14:58:24.996313367Z"
    }
   },
   "outputs": [],
   "source": []
  },
  {
   "cell_type": "code",
   "execution_count": 10,
   "id": "f024a879",
   "metadata": {
    "ExecuteTime": {
     "end_time": "2023-04-30T14:58:25.319947832Z",
     "start_time": "2023-04-30T14:58:24.996888158Z"
    }
   },
   "outputs": [],
   "source": [
    "reduc_nms = spectra_list_df.reduced_names_files_list[0]\n",
    "fil_lst = spectra_list_df.files_list[0]\n",
    "spc_pth = spectra_list_df.spectra_path[0]"
   ]
  },
  {
   "cell_type": "code",
   "execution_count": 11,
   "id": "1d96ddad",
   "metadata": {
    "ExecuteTime": {
     "end_time": "2023-04-30T14:58:25.382196179Z",
     "start_time": "2023-04-30T14:58:25.098564657Z"
    }
   },
   "outputs": [
    {
     "data": {
      "text/plain": "['SI02622.Chn',\n 'SI07222.Chn',\n 'SI04022 (cont em 31-05-22).Chn',\n 'SI02722.Chn',\n 'SI08222.Chn',\n 'SI09222.Chn',\n 'SI05322.Chn',\n 'SI03222.Chn',\n 'SI08622.Chn',\n 'SI02522.Chn',\n 'SI09322.Chn',\n 'SI00922.Chn',\n 'SI08522.Chn',\n 'SI07922.Chn',\n 'SI03322.Chn',\n 'SI05922.Chn',\n 'SI03022.Chn',\n 'SI08722.Chn',\n 'FRASCO ORIGINAL SI084_22.Chn',\n 'SI06122.Chn',\n 'SI01822.Chn',\n 'SI09422.Chn',\n 'SI00822.Chn',\n 'SI05822.Chn',\n 'SI04722.Chn',\n 'SI01622.Chn',\n 'SI08422.Chn',\n 'SI02022.Chn',\n 'SI07522.Chn',\n 'SI01722.Chn',\n 'SI06922.Chn',\n 'SI09722.Chn',\n 'SI06522.Chn',\n 'SI09122.Chn',\n 'SI05522.Chn',\n 'SI03422.Chn',\n 'SI04422.Chn',\n 'SI03722.Chn',\n 'SI05622.Chn',\n 'SI02922.Chn',\n 'SI07722.Chn',\n 'SI03522.Chn',\n 'SI05122.Chn',\n 'SI06722.Chn',\n 'SI06322.Chn',\n 'SI07322.Chn',\n 'SI03122.Chn',\n 'SI01922.Chn',\n 'BGTESTE.Chn']"
     },
     "execution_count": 11,
     "metadata": {},
     "output_type": "execute_result"
    }
   ],
   "source": [
    "reduc_nms"
   ]
  },
  {
   "cell_type": "code",
   "execution_count": 12,
   "id": "5b85b7d5",
   "metadata": {
    "ExecuteTime": {
     "end_time": "2023-04-30T14:58:25.384640720Z",
     "start_time": "2023-04-30T14:58:25.297936186Z"
    }
   },
   "outputs": [],
   "source": [
    "a_pattern='SI04722.Chn'"
   ]
  },
  {
   "cell_type": "code",
   "execution_count": 13,
   "id": "04e22b01",
   "metadata": {
    "ExecuteTime": {
     "end_time": "2023-04-30T14:58:25.501898209Z",
     "start_time": "2023-04-30T14:58:25.334935767Z"
    }
   },
   "outputs": [
    {
     "name": "stdout",
     "output_type": "stream",
     "text": [
      "Existing:\n",
      "Achou! indice=24, nomearq = SI04722.Chn\n",
      "name:  /home/marcelofm/Nextcloud/Genie_Transfer/Si/SI2022/SI04722.Chn\n",
      "==========================\n",
      "Final choices:\n",
      "spectra_path: /home/marcelofm/Nextcloud/Genie_Transfer/Si/SI2022\n",
      "a_spec_name: /home/marcelofm/Nextcloud/Genie_Transfer/Si/SI2022/SI04722.Chn\n",
      "reduced_f_name: SI04722.Chn\n"
     ]
    }
   ],
   "source": [
    "a_spec_name, reduced_f_name = select_spectrum_from_folder_list(reduc_nms, fil_lst, spc_pth, a_pattern)"
   ]
  },
  {
   "cell_type": "code",
   "execution_count": 14,
   "id": "482e8a5a",
   "metadata": {
    "ExecuteTime": {
     "end_time": "2023-04-30T14:58:25.883101324Z",
     "start_time": "2023-04-30T14:58:25.465121613Z"
    }
   },
   "outputs": [
    {
     "data": {
      "text/plain": "(PosixPath('/home/marcelofm/Nextcloud/Genie_Transfer/Si/SI2022/SI04722.Chn'),\n 'SI04722.Chn')"
     },
     "execution_count": 14,
     "metadata": {},
     "output_type": "execute_result"
    }
   ],
   "source": [
    "a_spec_name, reduced_f_name"
   ]
  },
  {
   "cell_type": "code",
   "execution_count": 15,
   "id": "19e7d3b0",
   "metadata": {
    "ExecuteTime": {
     "end_time": "2023-04-30T14:58:26.059861699Z",
     "start_time": "2023-04-30T14:58:25.883573564Z"
    }
   },
   "outputs": [],
   "source": [
    "a_spec = Spec(a_spec_name, reduced_f_name)"
   ]
  },
  {
   "cell_type": "code",
   "execution_count": 16,
   "id": "dd520433",
   "metadata": {
    "ExecuteTime": {
     "end_time": "2023-04-30T14:58:26.160729448Z",
     "start_time": "2023-04-30T14:58:26.063497270Z"
    }
   },
   "outputs": [
    {
     "data": {
      "text/plain": "{'net_spec_ser_an': None,\n 'final_composed_baseline': None,\n 'f_name': PosixPath('/home/marcelofm/Nextcloud/Genie_Transfer/Si/SI2022/SI04722.Chn'),\n 'reduced_f_name': 'SI04722.Chn',\n 'sufx': '.chn',\n 'spec_io': None,\n 'lv_time': 50000.0,\n 'rl_time': 50030.1,\n 'source_datetime': None,\n 'pkl_file': PosixPath('/home/marcelofm/Nextcloud/Genie_Transfer/Si/SI2022/SI04722.pkl'),\n 'origin_spec_ser_an': <generic_series_analysis_class.GenericSeriesAnalysis at 0x7f0f020c60b0>,\n 'start_datetime': datetime.datetime(2022, 6, 20, 17, 34, 1),\n 'det_descr': 'MAQUINA_01 MCB 1 Input 1',\n 'sam_descr': 'SI047/22 - Agua da piscina do reator IEA- R1 20/06/22 (SI02006)',\n 'channel_energy_calib': <genericcalib_class.ChannelEnergyCalib at 0x7f0f020c6f20>}"
     },
     "execution_count": 16,
     "metadata": {},
     "output_type": "execute_result"
    }
   ],
   "source": [
    "vars(a_spec)"
   ]
  },
  {
   "cell_type": "code",
   "execution_count": 17,
   "id": "6b81251b",
   "metadata": {
    "ExecuteTime": {
     "end_time": "2023-04-30T14:58:26.258407534Z",
     "start_time": "2023-04-30T14:58:26.157133676Z"
    }
   },
   "outputs": [],
   "source": [
    "origin_ser = a_spec.origin_spec_ser_an\n",
    "ch_en_cal = a_spec.channel_energy_calib"
   ]
  },
  {
   "cell_type": "code",
   "execution_count": 18,
   "id": "f5739716",
   "metadata": {
    "ExecuteTime": {
     "end_time": "2023-04-30T14:58:26.426870845Z",
     "start_time": "2023-04-30T14:58:26.296104778Z"
    }
   },
   "outputs": [
    {
     "data": {
      "text/plain": "{'mix_regions': None,\n 'spl_baseline': None,\n 'eval_baseline': None,\n 'y_s': array([0, 0, 0, ..., 8, 2, 4]),\n 'nzero': array([False, False, False, ...,  True,  True,  True]),\n 'n_ch': 4096,\n 'final_baseline': None,\n 'x_s': array([0.000e+00, 1.000e+00, 2.000e+00, ..., 4.093e+03, 4.094e+03,\n        4.095e+03]),\n 'chans_nzero': array([  23.,   24.,   25., ..., 4093., 4094., 4095.]),\n 'counts_nzero': array([  1,   8, 159, ...,   8,   2,   4]),\n 'unc_y': array([ 1.        ,  2.82842712, 12.60952021, ...,  2.82842712,\n         1.41421356,  2.        ]),\n 'given_variance': array([0, 0, 0, ..., 8, 2, 4]),\n 'y_smoothed': None,\n 'fft_s': None,\n 'is_reg': array([False, False, False, ..., False, False, False]),\n 'xs_all_mplets': [],\n 'ys_all_mplets': [],\n 'ys_all_steps': [],\n 'chans_in_multiplets_list': [],\n 'calculated_step_counts': [],\n 'xs_bl_in_reg': array([], dtype=float64),\n 'ys_bl_in_reg': array([], dtype=float64),\n 'xs_bl_out_reg': array([], dtype=float64),\n 'ys_bl_out_reg': array([], dtype=float64),\n 'ws_bl_out_reg': array([], dtype=float64),\n 'pk_parms': <peaksparms_class.PeaksParms at 0x7f0f020c66e0>,\n 'fft_spec': array([], dtype=float64),\n 'k_erf': 0.9999975184539827}"
     },
     "execution_count": 18,
     "metadata": {},
     "output_type": "execute_result"
    }
   ],
   "source": [
    "vars(origin_ser)"
   ]
  },
  {
   "cell_type": "code",
   "execution_count": 19,
   "id": "04c0277e",
   "metadata": {
    "ExecuteTime": {
     "end_time": "2023-04-30T14:58:26.492136662Z",
     "start_time": "2023-04-30T14:58:26.396288322Z"
    }
   },
   "outputs": [
    {
     "data": {
      "text/plain": "{'calib_kind': 'channel energy',\n 'p_en': Polynomial([-1.99049842,  0.61104035,  0.        ], domain=[-1,  1], window=[-1,  1]),\n 'coeffs_ch_en': array([ 0.        ,  0.61104035, -1.99049842]),\n 'en_ch_calib': array([], dtype=float64),\n 'chan_calib': array([], dtype=float64)}"
     },
     "execution_count": 19,
     "metadata": {},
     "output_type": "execute_result"
    }
   ],
   "source": [
    "vars(ch_en_cal)"
   ]
  },
  {
   "cell_type": "code",
   "execution_count": 20,
   "id": "f379803f",
   "metadata": {
    "ExecuteTime": {
     "end_time": "2023-04-30T14:58:27.039549794Z",
     "start_time": "2023-04-30T14:58:26.470158716Z"
    }
   },
   "outputs": [
    {
     "data": {
      "text/plain": "array([0, 0, 0, ..., 8, 2, 4])"
     },
     "execution_count": 20,
     "metadata": {},
     "output_type": "execute_result"
    }
   ],
   "source": [
    "y0_s = np.array(origin_ser.y_s)\n",
    "y0_s"
   ]
  },
  {
   "cell_type": "code",
   "execution_count": 21,
   "id": "41f2ce24",
   "metadata": {
    "ExecuteTime": {
     "end_time": "2023-04-30T14:58:28.117763991Z",
     "start_time": "2023-04-30T14:58:27.033541748Z"
    }
   },
   "outputs": [
    {
     "data": {
      "text/plain": "array([0.000e+00, 1.000e+00, 2.000e+00, ..., 4.093e+03, 4.094e+03,\n       4.095e+03])"
     },
     "execution_count": 21,
     "metadata": {},
     "output_type": "execute_result"
    }
   ],
   "source": [
    "x0_s = np.array(origin_ser.x_s)\n",
    "x0_s"
   ]
  },
  {
   "cell_type": "code",
   "execution_count": 22,
   "id": "682f31df",
   "metadata": {
    "ExecuteTime": {
     "end_time": "2023-04-30T14:58:28.119362900Z",
     "start_time": "2023-04-30T14:58:28.117297539Z"
    }
   },
   "outputs": [],
   "source": [
    "x_nz = origin_ser.chans_nzero\n",
    "y_nz = origin_ser.counts_nzero"
   ]
  },
  {
   "cell_type": "code",
   "execution_count": 23,
   "id": "0d959bf9",
   "metadata": {
    "ExecuteTime": {
     "end_time": "2023-04-30T14:58:28.443502964Z",
     "start_time": "2023-04-30T14:58:28.118349354Z"
    }
   },
   "outputs": [],
   "source": [
    "unc_y = origin_ser.unc_y"
   ]
  },
  {
   "cell_type": "code",
   "execution_count": 24,
   "id": "fc168c64",
   "metadata": {
    "ExecuteTime": {
     "end_time": "2023-04-30T14:58:28.578182158Z",
     "start_time": "2023-04-30T14:58:28.417594623Z"
    }
   },
   "outputs": [
    {
     "data": {
      "text/plain": "array([0, 0, 0, ..., 8, 2, 4])"
     },
     "execution_count": 24,
     "metadata": {},
     "output_type": "execute_result"
    }
   ],
   "source": [
    "y0_s"
   ]
  },
  {
   "cell_type": "code",
   "execution_count": 25,
   "id": "01edce94",
   "metadata": {
    "ExecuteTime": {
     "end_time": "2023-04-30T14:58:28.672623531Z",
     "start_time": "2023-04-30T14:58:28.577662913Z"
    }
   },
   "outputs": [],
   "source": [
    "# Seleciona sensibilidade dos picos do espectro de referência:\n",
    "promin = 30"
   ]
  },
  {
   "cell_type": "code",
   "execution_count": 26,
   "id": "a6794efa",
   "metadata": {
    "ExecuteTime": {
     "end_time": "2023-04-30T14:58:28.774263043Z",
     "start_time": "2023-04-30T14:58:28.675439647Z"
    }
   },
   "outputs": [],
   "source": [
    "# pks = sci.signal.find_peaks_cwt(y0_s, widths=(3,15), min_snr=1, noise_perc=10, max_distances=(1,20))\n",
    "# pks"
   ]
  },
  {
   "cell_type": "code",
   "execution_count": 27,
   "id": "b6998b66",
   "metadata": {
    "ExecuteTime": {
     "end_time": "2023-04-30T14:58:28.965414413Z",
     "start_time": "2023-04-30T14:58:28.775312840Z"
    }
   },
   "outputs": [
    {
     "data": {
      "text/plain": "array([  26,   39,   44,   50,   53,   61,   70,   80,   87,   89,   95,\n        104,  112,  122,  126,  135,  142,  147,  155,  166,  177,  182,\n        186,  191,  196,  200,  206,  211,  223,  233,  241,  244,  248,\n        250,  257,  265,  274,  281,  289,  292,  297,  299,  309,  315,\n        331,  333,  341,  346,  349,  353,  358,  362,  365,  369,  371,\n        377,  386,  390,  393,  399,  408,  418,  424,  428,  431,  434,\n        437,  441,  447,  452,  456,  458,  466,  470,  478,  480,  486,\n        494,  498,  503,  512,  523,  527,  533,  535,  543,  549,  552,\n        557,  564,  566,  568,  579,  586,  588,  591,  599,  620,  624,\n        631,  641,  647,  652,  665,  670,  674,  678,  686,  690,  696,\n        701,  707,  718,  720,  723,  726,  728,  734,  741,  753,  760,\n        768,  775,  779,  787,  799,  809,  815,  839,  847,  852,  861,\n        865,  871,  883,  896,  900,  908,  926,  930,  939,  947,  957,\n        965,  988, 1000, 1009, 1015, 1025, 1050, 1053, 1080, 1095, 1113,\n       1118, 1126, 1139, 1141, 1152, 1157, 1193, 1200, 1221, 1225, 1228,\n       1236, 1248, 1250, 1253, 1260, 1268, 1288, 1300, 1320, 1330, 1356,\n       1365, 1369, 1377, 1397, 1413, 1450, 1459, 1470, 1494, 1537, 1560,\n       1566, 1582, 1589, 1599, 1610, 1623, 1640, 1653, 1677, 1694, 1709,\n       1724, 1728, 1735, 1741, 1761, 1771, 1784, 1802, 1829, 1836, 1854,\n       1867, 1870, 1923, 1936, 1941, 1949, 1959, 2031, 2184, 2243, 2259,\n       2270, 2394, 2603, 2836, 2891, 3446, 3610, 3676, 4006])"
     },
     "execution_count": 27,
     "metadata": {},
     "output_type": "execute_result"
    }
   ],
   "source": [
    "pks, _ = sci.signal.find_peaks(y0_s, prominence=promin)\n",
    "pks"
   ]
  },
  {
   "cell_type": "code",
   "execution_count": 28,
   "id": "3304edc5",
   "metadata": {
    "ExecuteTime": {
     "end_time": "2023-04-30T14:58:29.022216670Z",
     "start_time": "2023-04-30T14:58:28.952569607Z"
    }
   },
   "outputs": [
    {
     "data": {
      "text/plain": "array([ 456,  683,  618,  568,  558,  491,  496,  492,  496,  477,  523,\n        673,  638, 1045, 1380,  598,  991,  768,  648,  651,  679,  666,\n        649,  685,  687,  692,  721,  721,  801,  971,  741,  714,  728,\n        750,  696,  706,  681,  695,  692,  651,  695,  688,  750,  628,\n        638,  656,  599,  628,  624,  615,  661,  625,  607,  601,  574,\n        686,  546,  539,  678,  555,  503,  489,  492,  468,  485,  470,\n        480,  456,  477,  455,  453,  471,  453,  452,  463,  413,  474,\n        413,  407,  415,  414,  396,  452,  378,  361,  363,  352,  388,\n        375,  339,  344,  341,  466,  314,  309,  334,  356,  304,  296,\n        303,  287,  283,  292,  312,  264,  273,  275,  261,  270,  266,\n        265,  273,  257,  252,  246,  254,  245,  248,  252,  245,  258,\n        238,  226,  226,  301,  221,  217,  221,  830,  219,  212,  218,\n        204,  200,  202,  201,  203,  202,  208,  198,  203,  188,  326,\n        182,  196,  386,  198,  200,  190,  164,  168,  343,  181,  169,\n        152,  213,  143,  143,  151,  162,  173,  146,  142,  132,  132,\n        134,  138,  142,  157,  157,  180,  142,  141,  143,  815,  139,\n        144,  191,  147,  132,  140,  217,  127,  129,  258,  162,  142,\n        168,  144,  205,  111,  115,  116,  117,  115,  117,  109,  112,\n        104,  112,  111,  109,  107,  107,  111,  115,  151,  189,  101,\n         90,   90, 1695,   85,   82,   78,   79,   83, 1508,  533,   59,\n         57,  854,   49,   54,  109,   45,   41,   42,   36])"
     },
     "execution_count": 28,
     "metadata": {},
     "output_type": "execute_result"
    }
   ],
   "source": [
    "y0_s_pks = y0_s[pks]\n",
    "y0_s_pks"
   ]
  },
  {
   "cell_type": "code",
   "execution_count": 29,
   "id": "53ca7ed2",
   "metadata": {
    "ExecuteTime": {
     "end_time": "2023-04-30T14:58:29.182075287Z",
     "start_time": "2023-04-30T14:58:29.018641472Z"
    }
   },
   "outputs": [
    {
     "data": {
      "text/plain": "array([ 33,  42,  17,  28, 174, 128, 221,  29,  16,  13,  14, 217, 211])"
     },
     "execution_count": 29,
     "metadata": {},
     "output_type": "execute_result"
    }
   ],
   "source": [
    "indir_sort = np.argsort(y0_s_pks)[-13:]\n",
    "indir_sort"
   ]
  },
  {
   "cell_type": "code",
   "execution_count": 30,
   "id": "445becdf",
   "metadata": {
    "ExecuteTime": {
     "end_time": "2023-04-30T14:58:29.240617616Z",
     "start_time": "2023-04-30T14:58:29.126356036Z"
    }
   },
   "outputs": [
    {
     "data": {
      "text/plain": "array([ 750,  750,  768,  801,  815,  830,  854,  971,  991, 1045, 1380,\n       1508, 1695])"
     },
     "execution_count": 30,
     "metadata": {},
     "output_type": "execute_result"
    }
   ],
   "source": [
    "y0_s_pks[indir_sort]"
   ]
  },
  {
   "cell_type": "code",
   "execution_count": 31,
   "id": "24ec2874",
   "metadata": {
    "ExecuteTime": {
     "end_time": "2023-04-30T14:58:29.354041548Z",
     "start_time": "2023-04-30T14:58:29.237861603Z"
    }
   },
   "outputs": [
    {
     "data": {
      "text/plain": "array([ 250,  309,  147,  223, 1330,  839, 2394,  233,  142,  122,  126,\n       2184, 1923])"
     },
     "execution_count": 31,
     "metadata": {},
     "output_type": "execute_result"
    }
   ],
   "source": [
    "pks[indir_sort]"
   ]
  },
  {
   "cell_type": "code",
   "execution_count": 32,
   "id": "cf818b75",
   "metadata": {
    "ExecuteTime": {
     "end_time": "2023-04-30T14:58:29.843999588Z",
     "start_time": "2023-04-30T14:58:29.350094029Z"
    }
   },
   "outputs": [],
   "source": [
    "fig2 = go.Figure(data=go.Scattergl(\n",
    "    x=x_nz,\n",
    "    y=y_nz,\n",
    "    mode='markers'\n",
    "))\n"
   ]
  },
  {
   "cell_type": "code",
   "execution_count": 33,
   "id": "23577a62",
   "metadata": {
    "ExecuteTime": {
     "end_time": "2023-04-30T14:58:30.085228008Z",
     "start_time": "2023-04-30T14:58:29.832583603Z"
    }
   },
   "outputs": [],
   "source": [
    "fig2.add_trace(\n",
    "    go.Scattergl(x=x0_s,\n",
    "                 y=y0_s,\n",
    "                 error_y=dict(\n",
    "                     color='orange',width=3.0,\n",
    "                     type='data', # value of error bar given in data coordinates\n",
    "                     array=unc_y,\n",
    "                     visible=True),\n",
    "                 name=\"Counts & uncertaintes\",\n",
    "                 line=dict(color='orange',width=0.3)));"
   ]
  },
  {
   "cell_type": "code",
   "execution_count": 34,
   "id": "e7f16f79",
   "metadata": {
    "ExecuteTime": {
     "end_time": "2023-04-30T14:58:30.340494328Z",
     "start_time": "2023-04-30T14:58:30.063671540Z"
    }
   },
   "outputs": [],
   "source": [
    "fig2.add_trace(\n",
    "    go.Scattergl(x=pks,\n",
    "                 y=y0_s[pks],\n",
    "                 mode=\"markers\",\n",
    "                 name=\"peaks\",\n",
    "                 marker=dict(color='cyan',\n",
    "                             symbol='circle',\n",
    "                             size=15,\n",
    "                             opacity=0.4,\n",
    "                             line=dict(color='green', width=2.0)\n",
    "                            )\n",
    "                ));"
   ]
  },
  {
   "cell_type": "code",
   "execution_count": 35,
   "id": "11a0987e",
   "metadata": {
    "ExecuteTime": {
     "end_time": "2023-04-30T14:58:35.964291763Z",
     "start_time": "2023-04-30T14:58:30.342453167Z"
    }
   },
   "outputs": [],
   "source": [
    "# Set title and scale type    width=1800,\n",
    "\n",
    "fig2.update_layout(\n",
    "    title_text=reduced_f_name,\n",
    "    height=900,\n",
    "    margin=dict(l=10, r=10, t=30, b=10),\n",
    "    paper_bgcolor=\"LightSteelBlue\"\n",
    ")\n",
    "fig2.update_yaxes(type=\"log\");\n",
    "fig2.write_html('fig2.html', auto_open=True)\n"
   ]
  },
  {
   "cell_type": "code",
   "execution_count": 36,
   "id": "fac1ed3e",
   "metadata": {
    "ExecuteTime": {
     "end_time": "2023-04-30T14:58:35.968982247Z",
     "start_time": "2023-04-30T14:58:35.964734444Z"
    }
   },
   "outputs": [],
   "source": [
    "# Agora, o grande loop para comparar o espectro escolhido\n",
    "# com todos os outros:"
   ]
  },
  {
   "cell_type": "code",
   "execution_count": 37,
   "id": "c2380946",
   "metadata": {
    "ExecuteTime": {
     "end_time": "2023-04-30T14:58:38.007448609Z",
     "start_time": "2023-04-30T14:58:35.965262014Z"
    }
   },
   "outputs": [],
   "source": [
    "# Fazendo correlação entre cada espectro da pasta com um bem formado entre eles.\n",
    "# Método 1: correlação direta"
   ]
  },
  {
   "cell_type": "code",
   "execution_count": 37,
   "id": "2e054650",
   "metadata": {
    "ExecuteTime": {
     "end_time": "2023-04-30T14:58:38.020958745Z",
     "start_time": "2023-04-30T14:58:38.015548834Z"
    }
   },
   "outputs": [],
   "source": []
  },
  {
   "cell_type": "code",
   "execution_count": 38,
   "id": "95db599c",
   "metadata": {
    "ExecuteTime": {
     "end_time": "2023-04-30T14:58:38.976027337Z",
     "start_time": "2023-04-30T14:58:38.026525261Z"
    }
   },
   "outputs": [
    {
     "name": "stdout",
     "output_type": "stream",
     "text": [
      "0: SI02622.Chn: 4094 ->  1  n_pks: 20  Tot: 49377  Start 2022-04-19 19:00:10.\n",
      "1: SI07222.Chn: 4102 ->  -7  n_pks: 214  Tot: 543063  Start 2022-09-06 17:40:39.\n",
      "2: SI04022 (cont em 31-05-22).Chn: 4097 ->  -2  n_pks: 225  Tot: 568571  Start 2022-06-29 17:18:04.\n",
      "3: SI02722.Chn: 4094 ->  1  n_pks: 23  Tot: 54990  Start 2022-04-12 10:59:27.\n",
      "4: SI08222.Chn: 4102 ->  -7  n_pks: 222  Tot: 535351  Start 2022-10-11 18:50:32.\n",
      "5: SI09222.Chn: 4109 ->  -14  n_pks: 221  Tot: 546724  Start 2022-11-23 20:55:34.\n",
      "6: SI05322.Chn: 4095 ->  0  n_pks: 215  Tot: 563877  Start 2022-07-04 17:26:03.\n",
      "7: SI03222.Chn: 4098 ->  -3  n_pks: 208  Tot: 485859  Start 2022-05-04 16:51:26.\n",
      "8: SI08622.Chn: 4102 ->  -7  n_pks: 209  Tot: 525153  Start 2022-10-26 17:51:35.\n",
      "9: SI02522.Chn: 4094 ->  1  n_pks: 201  Tot: 469313  Start 2022-04-13 20:26:18.\n",
      "10: SI09322.Chn: 4110 ->  -15  n_pks: 214  Tot: 556587  Start 2022-11-24 22:02:03.\n",
      "11: SI00922.Chn: 4095 ->  0  n_pks: 174  Tot: 560599  Start 2022-02-24 09:44:43.\n",
      "12: SI08522.Chn: 4101 ->  -6  n_pks: 177  Tot: 424205  Start 2022-10-25 20:24:13.\n",
      "13: SI07922.Chn: 4103 ->  -8  n_pks: 234  Tot: 566099  Start 2022-10-03 18:34:55.\n",
      "14: SI03322.Chn: 4098 ->  -3  n_pks: 197  Tot: 496478  Start 2022-05-05 21:34:56.\n",
      "15: SI05922.Chn: 4098 ->  -3  n_pks: 209  Tot: 544534  Start 2022-07-19 21:40:10.\n",
      "16: SI03022.Chn: 4094 ->  1  n_pks: 17  Tot: 48724  Start 2022-04-14 12:38:20.\n",
      "17: SI08722.Chn: 4103 ->  -8  n_pks: 213  Tot: 539942  Start 2022-11-01 17:41:25.\n",
      "18: FRASCO ORIGINAL SI084_22.Chn: 4102 ->  -7  n_pks: 1  Tot: 2194  Start 2022-11-01 08:28:13.\n",
      "19: SI06122.Chn: 4098 ->  -3  n_pks: 195  Tot: 548003  Start 2022-07-27 16:56:29.\n",
      "20: SI01822.Chn: 4095 ->  0  n_pks: 136  Tot: 304675  Start 2022-03-31 11:35:05.\n",
      "21: SI09422.Chn: 4109 ->  -14  n_pks: 218  Tot: 562898  Start 2022-11-30 17:32:17.\n",
      "22: SI00822.Chn: 4095 ->  0  n_pks: 140  Tot: 398225  Start 2022-02-23 19:10:04.\n",
      "23: SI05822.Chn: 4096 ->  -1  n_pks: 165  Tot: 407164  Start 2022-07-14 21:46:19.\n",
      "24: SI04722.Chn: 4095 ->  0  n_pks: 229  Tot: 570053  Start 2022-06-20 17:34:01.\n",
      "25: SI01622.Chn: 4096 ->  -1  n_pks: 200  Tot: 483775  Start 2022-03-29 21:02:25.\n",
      "26: SI08422.Chn: 4101 ->  -6  n_pks: 193  Tot: 980701  Start 2022-10-24 18:00:59.\n",
      "27: SI02022.Chn: 4095 ->  0  n_pks: 190  Tot: 485891  Start 2022-04-04 21:43:14.\n",
      "28: SI07522.Chn: 4102 ->  -7  n_pks: 205  Tot: 542344  Start 2022-09-19 20:23:10.\n",
      "29: SI01722.Chn: 4095 ->  0  n_pks: 182  Tot: 479312  Start 2022-03-30 14:16:36.\n",
      "30: SI06922.Chn: 4098 ->  -3  n_pks: 205  Tot: 530153  Start 2022-08-23 20:20:39.\n",
      "31: SI09722.Chn: 4110 ->  -15  n_pks: 228  Tot: 563138  Start 2022-12-12 18:07:41.\n",
      "32: SI06522.Chn: 4097 ->  -2  n_pks: 194  Tot: 507831  Start 2022-08-17 17:30:36.\n",
      "33: SI09122.Chn: 4109 ->  -14  n_pks: 202  Tot: 507306  Start 2022-11-22 18:26:15.\n",
      "34: SI05522.Chn: 4096 ->  -1  n_pks: 166  Tot: 432149  Start 2022-07-12 10:04:14.\n",
      "35: SI03422.Chn: 4097 ->  -2  n_pks: 215  Tot: 546337  Start 2022-05-09 22:06:45.\n",
      "36: SI04422.Chn: 4095 ->  0  n_pks: 206  Tot: 529046  Start 2022-06-14 17:32:00.\n",
      "37: SI03722.Chn: 4096 ->  -1  n_pks: 222  Tot: 588242  Start 2022-05-24 19:47:01.\n",
      "38: SI05622.Chn: 4098 ->  -3  n_pks: 199  Tot: 492792  Start 2022-07-20 21:17:06.\n",
      "39: SI02922.Chn: 4094 ->  1  n_pks: 14  Tot: 41108  Start 2022-04-14 11:12:15.\n",
      "40: SI07722.Chn: 4103 ->  -8  n_pks: 213  Tot: 517142  Start 2022-09-28 19:52:28.\n",
      "41: SI03522.Chn: 4097 ->  -2  n_pks: 199  Tot: 560805  Start 2022-05-17 22:22:21.\n",
      "42: SI05122.Chn: 4095 ->  0  n_pks: 208  Tot: 524163  Start 2022-06-29 17:38:47.\n",
      "43: SI06722.Chn: 4097 ->  -2  n_pks: 212  Tot: 528693  Start 2022-08-16 18:18:17.\n",
      "44: SI06322.Chn: 4098 ->  -3  n_pks: 193  Tot: 533890  Start 2022-08-04 19:42:23.\n",
      "45: SI07322.Chn: 4102 ->  -7  n_pks: 213  Tot: 508632  Start 2022-09-13 20:18:07.\n",
      "46: SI03122.Chn: 4098 ->  -3  n_pks: 193  Tot: 492151  Start 2022-04-27 21:35:32.\n",
      "47: SI01922.Chn: 4095 ->  0  n_pks: 191  Tot: 484628  Start 2022-03-31 20:16:36.\n",
      "48: BGTESTE.Chn: 4103 ->  -8  n_pks: 153  Tot: 410833  Start 2022-10-31 11:10:25.\n"
     ]
    },
    {
     "data": {
      "text/plain": "0.44910645484924316"
     },
     "execution_count": 38,
     "metadata": {},
     "output_type": "execute_result"
    }
   ],
   "source": [
    "t = time.time()\n",
    "lista_mix = []\n",
    "i_n = 0\n",
    "for i_sp, j_sp in zip(fil_lst, reduc_nms):\n",
    "    a_spec = Spec(i_sp, j_sp)\n",
    "    strt = a_spec.start_datetime\n",
    "    y_s = a_spec.origin_spec_ser_an.y_s\n",
    "    # convo = sci.signal.correlate(y_s,y_s)\n",
    "    # convo = sci.signal.convolve(counts, counts)\n",
    "    # convo = sci.signal.fftconvolve(y_s, y_s)\n",
    "    # convo = sci.signal.fftconvolve(y_s, np.roll(y_s,1500))\n",
    "    # shifted_y_s = np.roll(y_s,1319)\n",
    "    convo = sci.signal.correlate(y_s, y0_s)\n",
    "    max_arg = np.argmax(abs(convo))\n",
    "    drift = y_s.size-max_arg-1\n",
    "    cts_tot = np.sum(y_s)\n",
    "    pks, _ = sci.signal.find_peaks(y_s, prominence=promin)\n",
    "    n_pks = pks.size\n",
    "    indir_sort = np.argsort(y_s[pks])[-13:]\n",
    "    tall_pks = pks[indir_sort]\n",
    "    # =  np.array(pks[indir_sort])\n",
    "    print(f'{i_n}: {j_sp}: {max_arg} ->  {drift}  n_pks: {n_pks}  Tot: {cts_tot}  Start {strt}.')\n",
    "    for rank, pk in enumerate(tall_pks):\n",
    "        lista_mix.append([i_n, j_sp, max_arg, drift, n_pks, pk, rank, cts_tot, strt])\n",
    "    i_n += 1\n",
    "    # af = sci.fft.fft(y_s)\n",
    "    # bf = sci.fft.fft(shifted_y_s)\n",
    "    # c = sci.fft.ifft(af * np.conj(bf))\n",
    "    # time_shift = np.argmax(abs(c))\n",
    "elapsd = time.time() - t\n",
    "elapsd\n",
    "\n"
   ]
  },
  {
   "cell_type": "code",
   "execution_count": 39,
   "outputs": [
    {
     "data": {
      "text/plain": "[[0,\n  'SI02622.Chn',\n  4094,\n  1,\n  20,\n  254,\n  0,\n  49377,\n  datetime.datetime(2022, 4, 19, 19, 0, 10)],\n [0,\n  'SI02622.Chn',\n  4094,\n  1,\n  20,\n  839,\n  1,\n  49377,\n  datetime.datetime(2022, 4, 19, 19, 0, 10)],\n [0,\n  'SI02622.Chn',\n  4094,\n  1,\n  20,\n  229,\n  2,\n  49377,\n  datetime.datetime(2022, 4, 19, 19, 0, 10)],\n [0,\n  'SI02622.Chn',\n  4094,\n  1,\n  20,\n  231,\n  3,\n  49377,\n  datetime.datetime(2022, 4, 19, 19, 0, 10)],\n [0,\n  'SI02622.Chn',\n  4094,\n  1,\n  20,\n  277,\n  4,\n  49377,\n  datetime.datetime(2022, 4, 19, 19, 0, 10)],\n [0,\n  'SI02622.Chn',\n  4094,\n  1,\n  20,\n  2184,\n  5,\n  49377,\n  datetime.datetime(2022, 4, 19, 19, 0, 10)],\n [0,\n  'SI02622.Chn',\n  4094,\n  1,\n  20,\n  1079,\n  6,\n  49377,\n  datetime.datetime(2022, 4, 19, 19, 0, 10)],\n [0,\n  'SI02622.Chn',\n  4094,\n  1,\n  20,\n  171,\n  7,\n  49377,\n  datetime.datetime(2022, 4, 19, 19, 0, 10)],\n [0,\n  'SI02622.Chn',\n  4094,\n  1,\n  20,\n  25,\n  8,\n  49377,\n  datetime.datetime(2022, 4, 19, 19, 0, 10)],\n [0,\n  'SI02622.Chn',\n  4094,\n  1,\n  20,\n  141,\n  9,\n  49377,\n  datetime.datetime(2022, 4, 19, 19, 0, 10)],\n [0,\n  'SI02622.Chn',\n  4094,\n  1,\n  20,\n  2394,\n  10,\n  49377,\n  datetime.datetime(2022, 4, 19, 19, 0, 10)],\n [0,\n  'SI02622.Chn',\n  4094,\n  1,\n  20,\n  1923,\n  11,\n  49377,\n  datetime.datetime(2022, 4, 19, 19, 0, 10)],\n [0,\n  'SI02622.Chn',\n  4094,\n  1,\n  20,\n  125,\n  12,\n  49377,\n  datetime.datetime(2022, 4, 19, 19, 0, 10)],\n [1,\n  'SI07222.Chn',\n  4102,\n  -7,\n  214,\n  230,\n  0,\n  543063,\n  datetime.datetime(2022, 9, 6, 17, 40, 39)],\n [1,\n  'SI07222.Chn',\n  4102,\n  -7,\n  214,\n  252,\n  1,\n  543063,\n  datetime.datetime(2022, 9, 6, 17, 40, 39)],\n [1,\n  'SI07222.Chn',\n  4102,\n  -7,\n  214,\n  1337,\n  2,\n  543063,\n  datetime.datetime(2022, 9, 6, 17, 40, 39)],\n [1,\n  'SI07222.Chn',\n  4102,\n  -7,\n  214,\n  153,\n  3,\n  543063,\n  datetime.datetime(2022, 9, 6, 17, 40, 39)],\n [1,\n  'SI07222.Chn',\n  4102,\n  -7,\n  214,\n  846,\n  4,\n  543063,\n  datetime.datetime(2022, 9, 6, 17, 40, 39)],\n [1,\n  'SI07222.Chn',\n  4102,\n  -7,\n  214,\n  2402,\n  5,\n  543063,\n  datetime.datetime(2022, 9, 6, 17, 40, 39)],\n [1,\n  'SI07222.Chn',\n  4102,\n  -7,\n  214,\n  240,\n  6,\n  543063,\n  datetime.datetime(2022, 9, 6, 17, 40, 39)],\n [1,\n  'SI07222.Chn',\n  4102,\n  -7,\n  214,\n  2191,\n  7,\n  543063,\n  datetime.datetime(2022, 9, 6, 17, 40, 39)],\n [1,\n  'SI07222.Chn',\n  4102,\n  -7,\n  214,\n  149,\n  8,\n  543063,\n  datetime.datetime(2022, 9, 6, 17, 40, 39)],\n [1,\n  'SI07222.Chn',\n  4102,\n  -7,\n  214,\n  129,\n  9,\n  543063,\n  datetime.datetime(2022, 9, 6, 17, 40, 39)],\n [1,\n  'SI07222.Chn',\n  4102,\n  -7,\n  214,\n  1086,\n  10,\n  543063,\n  datetime.datetime(2022, 9, 6, 17, 40, 39)],\n [1,\n  'SI07222.Chn',\n  4102,\n  -7,\n  214,\n  1930,\n  11,\n  543063,\n  datetime.datetime(2022, 9, 6, 17, 40, 39)],\n [1,\n  'SI07222.Chn',\n  4102,\n  -7,\n  214,\n  133,\n  12,\n  543063,\n  datetime.datetime(2022, 9, 6, 17, 40, 39)],\n [2,\n  'SI04022 (cont em 31-05-22).Chn',\n  4097,\n  -2,\n  225,\n  224,\n  0,\n  568571,\n  datetime.datetime(2022, 6, 29, 17, 18, 4)],\n [2,\n  'SI04022 (cont em 31-05-22).Chn',\n  4097,\n  -2,\n  225,\n  42,\n  1,\n  568571,\n  datetime.datetime(2022, 6, 29, 17, 18, 4)],\n [2,\n  'SI04022 (cont em 31-05-22).Chn',\n  4097,\n  -2,\n  225,\n  149,\n  2,\n  568571,\n  datetime.datetime(2022, 6, 29, 17, 18, 4)],\n [2,\n  'SI04022 (cont em 31-05-22).Chn',\n  4097,\n  -2,\n  225,\n  1082,\n  3,\n  568571,\n  datetime.datetime(2022, 6, 29, 17, 18, 4)],\n [2,\n  'SI04022 (cont em 31-05-22).Chn',\n  4097,\n  -2,\n  225,\n  2397,\n  4,\n  568571,\n  datetime.datetime(2022, 6, 29, 17, 18, 4)],\n [2,\n  'SI04022 (cont em 31-05-22).Chn',\n  4097,\n  -2,\n  225,\n  1332,\n  5,\n  568571,\n  datetime.datetime(2022, 6, 29, 17, 18, 4)],\n [2,\n  'SI04022 (cont em 31-05-22).Chn',\n  4097,\n  -2,\n  225,\n  842,\n  6,\n  568571,\n  datetime.datetime(2022, 6, 29, 17, 18, 4)],\n [2,\n  'SI04022 (cont em 31-05-22).Chn',\n  4097,\n  -2,\n  225,\n  236,\n  7,\n  568571,\n  datetime.datetime(2022, 6, 29, 17, 18, 4)],\n [2,\n  'SI04022 (cont em 31-05-22).Chn',\n  4097,\n  -2,\n  225,\n  145,\n  8,\n  568571,\n  datetime.datetime(2022, 6, 29, 17, 18, 4)],\n [2,\n  'SI04022 (cont em 31-05-22).Chn',\n  4097,\n  -2,\n  225,\n  125,\n  9,\n  568571,\n  datetime.datetime(2022, 6, 29, 17, 18, 4)],\n [2,\n  'SI04022 (cont em 31-05-22).Chn',\n  4097,\n  -2,\n  225,\n  128,\n  10,\n  568571,\n  datetime.datetime(2022, 6, 29, 17, 18, 4)],\n [2,\n  'SI04022 (cont em 31-05-22).Chn',\n  4097,\n  -2,\n  225,\n  2186,\n  11,\n  568571,\n  datetime.datetime(2022, 6, 29, 17, 18, 4)],\n [2,\n  'SI04022 (cont em 31-05-22).Chn',\n  4097,\n  -2,\n  225,\n  1926,\n  12,\n  568571,\n  datetime.datetime(2022, 6, 29, 17, 18, 4)],\n [3,\n  'SI02722.Chn',\n  4094,\n  1,\n  23,\n  220,\n  0,\n  54990,\n  datetime.datetime(2022, 4, 12, 10, 59, 27)],\n [3,\n  'SI02722.Chn',\n  4094,\n  1,\n  23,\n  234,\n  1,\n  54990,\n  datetime.datetime(2022, 4, 12, 10, 59, 27)],\n [3,\n  'SI02722.Chn',\n  4094,\n  1,\n  23,\n  254,\n  2,\n  54990,\n  datetime.datetime(2022, 4, 12, 10, 59, 27)],\n [3,\n  'SI02722.Chn',\n  4094,\n  1,\n  23,\n  258,\n  3,\n  54990,\n  datetime.datetime(2022, 4, 12, 10, 59, 27)],\n [3,\n  'SI02722.Chn',\n  4094,\n  1,\n  23,\n  306,\n  4,\n  54990,\n  datetime.datetime(2022, 4, 12, 10, 59, 27)],\n [3,\n  'SI02722.Chn',\n  4094,\n  1,\n  23,\n  140,\n  5,\n  54990,\n  datetime.datetime(2022, 4, 12, 10, 59, 27)],\n [3,\n  'SI02722.Chn',\n  4094,\n  1,\n  23,\n  578,\n  6,\n  54990,\n  datetime.datetime(2022, 4, 12, 10, 59, 27)],\n [3,\n  'SI02722.Chn',\n  4094,\n  1,\n  23,\n  155,\n  7,\n  54990,\n  datetime.datetime(2022, 4, 12, 10, 59, 27)],\n [3,\n  'SI02722.Chn',\n  4094,\n  1,\n  23,\n  145,\n  8,\n  54990,\n  datetime.datetime(2022, 4, 12, 10, 59, 27)],\n [3,\n  'SI02722.Chn',\n  4094,\n  1,\n  23,\n  2394,\n  9,\n  54990,\n  datetime.datetime(2022, 4, 12, 10, 59, 27)],\n [3,\n  'SI02722.Chn',\n  4094,\n  1,\n  23,\n  129,\n  10,\n  54990,\n  datetime.datetime(2022, 4, 12, 10, 59, 27)],\n [3,\n  'SI02722.Chn',\n  4094,\n  1,\n  23,\n  393,\n  11,\n  54990,\n  datetime.datetime(2022, 4, 12, 10, 59, 27)],\n [3,\n  'SI02722.Chn',\n  4094,\n  1,\n  23,\n  125,\n  12,\n  54990,\n  datetime.datetime(2022, 4, 12, 10, 59, 27)],\n [4,\n  'SI08222.Chn',\n  4102,\n  -7,\n  222,\n  220,\n  0,\n  535351,\n  datetime.datetime(2022, 10, 11, 18, 50, 32)],\n [4,\n  'SI08222.Chn',\n  4102,\n  -7,\n  222,\n  152,\n  1,\n  535351,\n  datetime.datetime(2022, 10, 11, 18, 50, 32)],\n [4,\n  'SI08222.Chn',\n  4102,\n  -7,\n  222,\n  45,\n  2,\n  535351,\n  datetime.datetime(2022, 10, 11, 18, 50, 32)],\n [4,\n  'SI08222.Chn',\n  4102,\n  -7,\n  222,\n  400,\n  3,\n  535351,\n  datetime.datetime(2022, 10, 11, 18, 50, 32)],\n [4,\n  'SI08222.Chn',\n  4102,\n  -7,\n  222,\n  2402,\n  4,\n  535351,\n  datetime.datetime(2022, 10, 11, 18, 50, 32)],\n [4,\n  'SI08222.Chn',\n  4102,\n  -7,\n  222,\n  846,\n  5,\n  535351,\n  datetime.datetime(2022, 10, 11, 18, 50, 32)],\n [4,\n  'SI08222.Chn',\n  4102,\n  -7,\n  222,\n  239,\n  6,\n  535351,\n  datetime.datetime(2022, 10, 11, 18, 50, 32)],\n [4,\n  'SI08222.Chn',\n  4102,\n  -7,\n  222,\n  129,\n  7,\n  535351,\n  datetime.datetime(2022, 10, 11, 18, 50, 32)],\n [4,\n  'SI08222.Chn',\n  4102,\n  -7,\n  222,\n  148,\n  8,\n  535351,\n  datetime.datetime(2022, 10, 11, 18, 50, 32)],\n [4,\n  'SI08222.Chn',\n  4102,\n  -7,\n  222,\n  1337,\n  9,\n  535351,\n  datetime.datetime(2022, 10, 11, 18, 50, 32)],\n [4,\n  'SI08222.Chn',\n  4102,\n  -7,\n  222,\n  2192,\n  10,\n  535351,\n  datetime.datetime(2022, 10, 11, 18, 50, 32)],\n [4,\n  'SI08222.Chn',\n  4102,\n  -7,\n  222,\n  132,\n  11,\n  535351,\n  datetime.datetime(2022, 10, 11, 18, 50, 32)],\n [4,\n  'SI08222.Chn',\n  4102,\n  -7,\n  222,\n  1931,\n  12,\n  535351,\n  datetime.datetime(2022, 10, 11, 18, 50, 32)],\n [5,\n  'SI09222.Chn',\n  4109,\n  -14,\n  221,\n  239,\n  0,\n  546724,\n  datetime.datetime(2022, 11, 23, 20, 55, 34)],\n [5,\n  'SI09222.Chn',\n  4109,\n  -14,\n  221,\n  245,\n  1,\n  546724,\n  datetime.datetime(2022, 11, 23, 20, 55, 34)],\n [5,\n  'SI09222.Chn',\n  4109,\n  -14,\n  221,\n  159,\n  2,\n  546724,\n  datetime.datetime(2022, 11, 23, 20, 55, 34)],\n [5,\n  'SI09222.Chn',\n  4109,\n  -14,\n  221,\n  52,\n  3,\n  546724,\n  datetime.datetime(2022, 11, 23, 20, 55, 34)],\n [5,\n  'SI09222.Chn',\n  4109,\n  -14,\n  221,\n  2409,\n  4,\n  546724,\n  datetime.datetime(2022, 11, 23, 20, 55, 34)],\n [5,\n  'SI09222.Chn',\n  4109,\n  -14,\n  221,\n  852,\n  5,\n  546724,\n  datetime.datetime(2022, 11, 23, 20, 55, 34)],\n [5,\n  'SI09222.Chn',\n  4109,\n  -14,\n  221,\n  1093,\n  6,\n  546724,\n  datetime.datetime(2022, 11, 23, 20, 55, 34)],\n [5,\n  'SI09222.Chn',\n  4109,\n  -14,\n  221,\n  135,\n  7,\n  546724,\n  datetime.datetime(2022, 11, 23, 20, 55, 34)],\n [5,\n  'SI09222.Chn',\n  4109,\n  -14,\n  221,\n  155,\n  8,\n  546724,\n  datetime.datetime(2022, 11, 23, 20, 55, 34)],\n [5,\n  'SI09222.Chn',\n  4109,\n  -14,\n  221,\n  1344,\n  9,\n  546724,\n  datetime.datetime(2022, 11, 23, 20, 55, 34)],\n [5,\n  'SI09222.Chn',\n  4109,\n  -14,\n  221,\n  139,\n  10,\n  546724,\n  datetime.datetime(2022, 11, 23, 20, 55, 34)],\n [5,\n  'SI09222.Chn',\n  4109,\n  -14,\n  221,\n  2199,\n  11,\n  546724,\n  datetime.datetime(2022, 11, 23, 20, 55, 34)],\n [5,\n  'SI09222.Chn',\n  4109,\n  -14,\n  221,\n  1938,\n  12,\n  546724,\n  datetime.datetime(2022, 11, 23, 20, 55, 34)],\n [6,\n  'SI05322.Chn',\n  4095,\n  0,\n  215,\n  377,\n  0,\n  563877,\n  datetime.datetime(2022, 7, 4, 17, 26, 3)],\n [6,\n  'SI05322.Chn',\n  4095,\n  0,\n  215,\n  214,\n  1,\n  563877,\n  datetime.datetime(2022, 7, 4, 17, 26, 3)],\n [6,\n  'SI05322.Chn',\n  4095,\n  0,\n  215,\n  222,\n  2,\n  563877,\n  datetime.datetime(2022, 7, 4, 17, 26, 3)],\n [6,\n  'SI05322.Chn',\n  4095,\n  0,\n  215,\n  146,\n  3,\n  563877,\n  datetime.datetime(2022, 7, 4, 17, 26, 3)],\n [6,\n  'SI05322.Chn',\n  4095,\n  0,\n  215,\n  839,\n  4,\n  563877,\n  datetime.datetime(2022, 7, 4, 17, 26, 3)],\n [6,\n  'SI05322.Chn',\n  4095,\n  0,\n  215,\n  1330,\n  5,\n  563877,\n  datetime.datetime(2022, 7, 4, 17, 26, 3)],\n [6,\n  'SI05322.Chn',\n  4095,\n  0,\n  215,\n  2395,\n  6,\n  563877,\n  datetime.datetime(2022, 7, 4, 17, 26, 3)],\n [6,\n  'SI05322.Chn',\n  4095,\n  0,\n  215,\n  233,\n  7,\n  563877,\n  datetime.datetime(2022, 7, 4, 17, 26, 3)],\n [6,\n  'SI05322.Chn',\n  4095,\n  0,\n  215,\n  142,\n  8,\n  563877,\n  datetime.datetime(2022, 7, 4, 17, 26, 3)],\n [6,\n  'SI05322.Chn',\n  4095,\n  0,\n  215,\n  122,\n  9,\n  563877,\n  datetime.datetime(2022, 7, 4, 17, 26, 3)],\n [6,\n  'SI05322.Chn',\n  4095,\n  0,\n  215,\n  2184,\n  10,\n  563877,\n  datetime.datetime(2022, 7, 4, 17, 26, 3)],\n [6,\n  'SI05322.Chn',\n  4095,\n  0,\n  215,\n  126,\n  11,\n  563877,\n  datetime.datetime(2022, 7, 4, 17, 26, 3)],\n [6,\n  'SI05322.Chn',\n  4095,\n  0,\n  215,\n  1923,\n  12,\n  563877,\n  datetime.datetime(2022, 7, 4, 17, 26, 3)],\n [7,\n  'SI03222.Chn',\n  4098,\n  -3,\n  208,\n  243,\n  0,\n  485859,\n  datetime.datetime(2022, 5, 4, 16, 51, 26)],\n [7,\n  'SI03222.Chn',\n  4098,\n  -3,\n  208,\n  217,\n  1,\n  485859,\n  datetime.datetime(2022, 5, 4, 16, 51, 26)],\n [7,\n  'SI03222.Chn',\n  4098,\n  -3,\n  208,\n  42,\n  2,\n  485859,\n  datetime.datetime(2022, 5, 4, 16, 51, 26)],\n [7,\n  'SI03222.Chn',\n  4098,\n  -3,\n  208,\n  227,\n  3,\n  485859,\n  datetime.datetime(2022, 5, 4, 16, 51, 26)],\n [7,\n  'SI03222.Chn',\n  4098,\n  -3,\n  208,\n  225,\n  4,\n  485859,\n  datetime.datetime(2022, 5, 4, 16, 51, 26)],\n [7,\n  'SI03222.Chn',\n  4098,\n  -3,\n  208,\n  229,\n  5,\n  485859,\n  datetime.datetime(2022, 5, 4, 16, 51, 26)],\n [7,\n  'SI03222.Chn',\n  4098,\n  -3,\n  208,\n  235,\n  6,\n  485859,\n  datetime.datetime(2022, 5, 4, 16, 51, 26)],\n [7,\n  'SI03222.Chn',\n  4098,\n  -3,\n  208,\n  2397,\n  7,\n  485859,\n  datetime.datetime(2022, 5, 4, 16, 51, 26)],\n [7,\n  'SI03222.Chn',\n  4098,\n  -3,\n  208,\n  125,\n  8,\n  485859,\n  datetime.datetime(2022, 5, 4, 16, 51, 26)],\n [7,\n  'SI03222.Chn',\n  4098,\n  -3,\n  208,\n  2187,\n  9,\n  485859,\n  datetime.datetime(2022, 5, 4, 16, 51, 26)],\n [7,\n  'SI03222.Chn',\n  4098,\n  -3,\n  208,\n  144,\n  10,\n  485859,\n  datetime.datetime(2022, 5, 4, 16, 51, 26)],\n [7,\n  'SI03222.Chn',\n  4098,\n  -3,\n  208,\n  1926,\n  11,\n  485859,\n  datetime.datetime(2022, 5, 4, 16, 51, 26)],\n [7,\n  'SI03222.Chn',\n  4098,\n  -3,\n  208,\n  128,\n  12,\n  485859,\n  datetime.datetime(2022, 5, 4, 16, 51, 26)],\n [8,\n  'SI08622.Chn',\n  4102,\n  -7,\n  209,\n  400,\n  0,\n  525153,\n  datetime.datetime(2022, 10, 26, 17, 51, 35)],\n [8,\n  'SI08622.Chn',\n  4102,\n  -7,\n  209,\n  203,\n  1,\n  525153,\n  datetime.datetime(2022, 10, 26, 17, 51, 35)],\n [8,\n  'SI08622.Chn',\n  4102,\n  -7,\n  209,\n  45,\n  2,\n  525153,\n  datetime.datetime(2022, 10, 26, 17, 51, 35)],\n [8,\n  'SI08622.Chn',\n  4102,\n  -7,\n  209,\n  152,\n  3,\n  525153,\n  datetime.datetime(2022, 10, 26, 17, 51, 35)],\n [8,\n  'SI08622.Chn',\n  4102,\n  -7,\n  209,\n  239,\n  4,\n  525153,\n  datetime.datetime(2022, 10, 26, 17, 51, 35)],\n [8,\n  'SI08622.Chn',\n  4102,\n  -7,\n  209,\n  845,\n  5,\n  525153,\n  datetime.datetime(2022, 10, 26, 17, 51, 35)],\n [8,\n  'SI08622.Chn',\n  4102,\n  -7,\n  209,\n  2402,\n  6,\n  525153,\n  datetime.datetime(2022, 10, 26, 17, 51, 35)],\n [8,\n  'SI08622.Chn',\n  4102,\n  -7,\n  209,\n  128,\n  7,\n  525153,\n  datetime.datetime(2022, 10, 26, 17, 51, 35)],\n [8,\n  'SI08622.Chn',\n  4102,\n  -7,\n  209,\n  148,\n  8,\n  525153,\n  datetime.datetime(2022, 10, 26, 17, 51, 35)],\n [8,\n  'SI08622.Chn',\n  4102,\n  -7,\n  209,\n  1337,\n  9,\n  525153,\n  datetime.datetime(2022, 10, 26, 17, 51, 35)],\n [8,\n  'SI08622.Chn',\n  4102,\n  -7,\n  209,\n  2192,\n  10,\n  525153,\n  datetime.datetime(2022, 10, 26, 17, 51, 35)],\n [8,\n  'SI08622.Chn',\n  4102,\n  -7,\n  209,\n  132,\n  11,\n  525153,\n  datetime.datetime(2022, 10, 26, 17, 51, 35)],\n [8,\n  'SI08622.Chn',\n  4102,\n  -7,\n  209,\n  1931,\n  12,\n  525153,\n  datetime.datetime(2022, 10, 26, 17, 51, 35)],\n [9,\n  'SI02522.Chn',\n  4094,\n  1,\n  201,\n  393,\n  0,\n  469313,\n  datetime.datetime(2022, 4, 13, 20, 26, 18)],\n [9,\n  'SI02522.Chn',\n  4094,\n  1,\n  201,\n  209,\n  1,\n  469313,\n  datetime.datetime(2022, 4, 13, 20, 26, 18)],\n [9,\n  'SI02522.Chn',\n  4094,\n  1,\n  201,\n  222,\n  2,\n  469313,\n  datetime.datetime(2022, 4, 13, 20, 26, 18)],\n [9,\n  'SI02522.Chn',\n  4094,\n  1,\n  201,\n  235,\n  3,\n  469313,\n  datetime.datetime(2022, 4, 13, 20, 26, 18)],\n [9,\n  'SI02522.Chn',\n  4094,\n  1,\n  201,\n  238,\n  4,\n  469313,\n  datetime.datetime(2022, 4, 13, 20, 26, 18)],\n [9,\n  'SI02522.Chn',\n  4094,\n  1,\n  201,\n  145,\n  5,\n  469313,\n  datetime.datetime(2022, 4, 13, 20, 26, 18)],\n [9,\n  'SI02522.Chn',\n  4094,\n  1,\n  201,\n  230,\n  6,\n  469313,\n  datetime.datetime(2022, 4, 13, 20, 26, 18)],\n [9,\n  'SI02522.Chn',\n  4094,\n  1,\n  201,\n  2183,\n  7,\n  469313,\n  datetime.datetime(2022, 4, 13, 20, 26, 18)],\n [9,\n  'SI02522.Chn',\n  4094,\n  1,\n  201,\n  2394,\n  8,\n  469313,\n  datetime.datetime(2022, 4, 13, 20, 26, 18)],\n [9,\n  'SI02522.Chn',\n  4094,\n  1,\n  201,\n  121,\n  9,\n  469313,\n  datetime.datetime(2022, 4, 13, 20, 26, 18)],\n [9,\n  'SI02522.Chn',\n  4094,\n  1,\n  201,\n  1923,\n  10,\n  469313,\n  datetime.datetime(2022, 4, 13, 20, 26, 18)],\n [9,\n  'SI02522.Chn',\n  4094,\n  1,\n  201,\n  141,\n  11,\n  469313,\n  datetime.datetime(2022, 4, 13, 20, 26, 18)],\n [9,\n  'SI02522.Chn',\n  4094,\n  1,\n  201,\n  125,\n  12,\n  469313,\n  datetime.datetime(2022, 4, 13, 20, 26, 18)],\n [10,\n  'SI09322.Chn',\n  4110,\n  -15,\n  214,\n  254,\n  0,\n  556587,\n  datetime.datetime(2022, 11, 24, 22, 2, 3)],\n [10,\n  'SI09322.Chn',\n  4110,\n  -15,\n  214,\n  407,\n  1,\n  556587,\n  datetime.datetime(2022, 11, 24, 22, 2, 3)],\n [10,\n  'SI09322.Chn',\n  4110,\n  -15,\n  214,\n  241,\n  2,\n  556587,\n  datetime.datetime(2022, 11, 24, 22, 2, 3)],\n [10,\n  'SI09322.Chn',\n  4110,\n  -15,\n  214,\n  53,\n  3,\n  556587,\n  datetime.datetime(2022, 11, 24, 22, 2, 3)],\n [10,\n  'SI09322.Chn',\n  4110,\n  -15,\n  214,\n  246,\n  4,\n  556587,\n  datetime.datetime(2022, 11, 24, 22, 2, 3)],\n [10,\n  'SI09322.Chn',\n  4110,\n  -15,\n  214,\n  2410,\n  5,\n  556587,\n  datetime.datetime(2022, 11, 24, 22, 2, 3)],\n [10,\n  'SI09322.Chn',\n  4110,\n  -15,\n  214,\n  853,\n  6,\n  556587,\n  datetime.datetime(2022, 11, 24, 22, 2, 3)],\n [10,\n  'SI09322.Chn',\n  4110,\n  -15,\n  214,\n  136,\n  7,\n  556587,\n  datetime.datetime(2022, 11, 24, 22, 2, 3)],\n [10,\n  'SI09322.Chn',\n  4110,\n  -15,\n  214,\n  156,\n  8,\n  556587,\n  datetime.datetime(2022, 11, 24, 22, 2, 3)],\n [10,\n  'SI09322.Chn',\n  4110,\n  -15,\n  214,\n  1344,\n  9,\n  556587,\n  datetime.datetime(2022, 11, 24, 22, 2, 3)],\n [10,\n  'SI09322.Chn',\n  4110,\n  -15,\n  214,\n  139,\n  10,\n  556587,\n  datetime.datetime(2022, 11, 24, 22, 2, 3)],\n [10,\n  'SI09322.Chn',\n  4110,\n  -15,\n  214,\n  2199,\n  11,\n  556587,\n  datetime.datetime(2022, 11, 24, 22, 2, 3)],\n [10,\n  'SI09322.Chn',\n  4110,\n  -15,\n  214,\n  1938,\n  12,\n  556587,\n  datetime.datetime(2022, 11, 24, 22, 2, 3)],\n [11,\n  'SI00922.Chn',\n  4095,\n  0,\n  174,\n  221,\n  0,\n  560599,\n  datetime.datetime(2022, 2, 24, 9, 44, 43)],\n [11,\n  'SI00922.Chn',\n  4095,\n  0,\n  174,\n  241,\n  1,\n  560599,\n  datetime.datetime(2022, 2, 24, 9, 44, 43)],\n [11,\n  'SI00922.Chn',\n  4095,\n  0,\n  174,\n  122,\n  2,\n  560599,\n  datetime.datetime(2022, 2, 24, 9, 44, 43)],\n [11,\n  'SI00922.Chn',\n  4095,\n  0,\n  174,\n  141,\n  3,\n  560599,\n  datetime.datetime(2022, 2, 24, 9, 44, 43)],\n [11,\n  'SI00922.Chn',\n  4095,\n  0,\n  174,\n  94,\n  4,\n  560599,\n  datetime.datetime(2022, 2, 24, 9, 44, 43)],\n [11,\n  'SI00922.Chn',\n  4095,\n  0,\n  174,\n  55,\n  5,\n  560599,\n  datetime.datetime(2022, 2, 24, 9, 44, 43)],\n [11,\n  'SI00922.Chn',\n  4095,\n  0,\n  174,\n  816,\n  6,\n  560599,\n  datetime.datetime(2022, 2, 24, 9, 44, 43)],\n [11,\n  'SI00922.Chn',\n  4095,\n  0,\n  174,\n  232,\n  7,\n  560599,\n  datetime.datetime(2022, 2, 24, 9, 44, 43)],\n [11,\n  'SI00922.Chn',\n  4095,\n  0,\n  174,\n  125,\n  8,\n  560599,\n  datetime.datetime(2022, 2, 24, 9, 44, 43)],\n [11,\n  'SI00922.Chn',\n  4095,\n  0,\n  174,\n  187,\n  9,\n  560599,\n  datetime.datetime(2022, 2, 24, 9, 44, 43)],\n [11,\n  'SI00922.Chn',\n  4095,\n  0,\n  174,\n  344,\n  10,\n  560599,\n  datetime.datetime(2022, 2, 24, 9, 44, 43)],\n [11,\n  'SI00922.Chn',\n  4095,\n  0,\n  174,\n  1085,\n  11,\n  560599,\n  datetime.datetime(2022, 2, 24, 9, 44, 43)],\n [11,\n  'SI00922.Chn',\n  4095,\n  0,\n  174,\n  1256,\n  12,\n  560599,\n  datetime.datetime(2022, 2, 24, 9, 44, 43)],\n [12,\n  'SI08522.Chn',\n  4101,\n  -6,\n  177,\n  258,\n  0,\n  424205,\n  datetime.datetime(2022, 10, 25, 20, 24, 13)],\n [12,\n  'SI08522.Chn',\n  4101,\n  -6,\n  177,\n  241,\n  1,\n  424205,\n  datetime.datetime(2022, 10, 25, 20, 24, 13)],\n [12,\n  'SI08522.Chn',\n  4101,\n  -6,\n  177,\n  228,\n  2,\n  424205,\n  datetime.datetime(2022, 10, 25, 20, 24, 13)],\n [12,\n  'SI08522.Chn',\n  4101,\n  -6,\n  177,\n  249,\n  3,\n  424205,\n  datetime.datetime(2022, 10, 25, 20, 24, 13)],\n [12,\n  'SI08522.Chn',\n  4101,\n  -6,\n  177,\n  152,\n  4,\n  424205,\n  datetime.datetime(2022, 10, 25, 20, 24, 13)],\n [12,\n  'SI08522.Chn',\n  4101,\n  -6,\n  177,\n  313,\n  5,\n  424205,\n  datetime.datetime(2022, 10, 25, 20, 24, 13)],\n [12,\n  'SI08522.Chn',\n  4101,\n  -6,\n  177,\n  400,\n  6,\n  424205,\n  datetime.datetime(2022, 10, 25, 20, 24, 13)],\n [12,\n  'SI08522.Chn',\n  4101,\n  -6,\n  177,\n  61,\n  7,\n  424205,\n  datetime.datetime(2022, 10, 25, 20, 24, 13)],\n [12,\n  'SI08522.Chn',\n  4101,\n  -6,\n  177,\n  2402,\n  8,\n  424205,\n  datetime.datetime(2022, 10, 25, 20, 24, 13)],\n [12,\n  'SI08522.Chn',\n  4101,\n  -6,\n  177,\n  148,\n  9,\n  424205,\n  datetime.datetime(2022, 10, 25, 20, 24, 13)],\n [12,\n  'SI08522.Chn',\n  4101,\n  -6,\n  177,\n  128,\n  10,\n  424205,\n  datetime.datetime(2022, 10, 25, 20, 24, 13)],\n [12,\n  'SI08522.Chn',\n  4101,\n  -6,\n  177,\n  132,\n  11,\n  424205,\n  datetime.datetime(2022, 10, 25, 20, 24, 13)],\n [12,\n  'SI08522.Chn',\n  4101,\n  -6,\n  177,\n  1092,\n  12,\n  424205,\n  datetime.datetime(2022, 10, 25, 20, 24, 13)],\n [13,\n  'SI07922.Chn',\n  4103,\n  -8,\n  234,\n  314,\n  0,\n  566099,\n  datetime.datetime(2022, 10, 3, 18, 34, 55)],\n [13,\n  'SI07922.Chn',\n  4103,\n  -8,\n  234,\n  401,\n  1,\n  566099,\n  datetime.datetime(2022, 10, 3, 18, 34, 55)],\n [13,\n  'SI07922.Chn',\n  4103,\n  -8,\n  234,\n  153,\n  2,\n  566099,\n  datetime.datetime(2022, 10, 3, 18, 34, 55)],\n [13,\n  'SI07922.Chn',\n  4103,\n  -8,\n  234,\n  230,\n  3,\n  566099,\n  datetime.datetime(2022, 10, 3, 18, 34, 55)],\n [13,\n  'SI07922.Chn',\n  4103,\n  -8,\n  234,\n  847,\n  4,\n  566099,\n  datetime.datetime(2022, 10, 3, 18, 34, 55)],\n [13,\n  'SI07922.Chn',\n  4103,\n  -8,\n  234,\n  2403,\n  5,\n  566099,\n  datetime.datetime(2022, 10, 3, 18, 34, 55)],\n [13,\n  'SI07922.Chn',\n  4103,\n  -8,\n  234,\n  240,\n  6,\n  566099,\n  datetime.datetime(2022, 10, 3, 18, 34, 55)],\n [13,\n  'SI07922.Chn',\n  4103,\n  -8,\n  234,\n  1338,\n  7,\n  566099,\n  datetime.datetime(2022, 10, 3, 18, 34, 55)],\n [13,\n  'SI07922.Chn',\n  4103,\n  -8,\n  234,\n  149,\n  8,\n  566099,\n  datetime.datetime(2022, 10, 3, 18, 34, 55)],\n [13,\n  'SI07922.Chn',\n  4103,\n  -8,\n  234,\n  129,\n  9,\n  566099,\n  datetime.datetime(2022, 10, 3, 18, 34, 55)],\n [13,\n  'SI07922.Chn',\n  4103,\n  -8,\n  234,\n  2193,\n  10,\n  566099,\n  datetime.datetime(2022, 10, 3, 18, 34, 55)],\n [13,\n  'SI07922.Chn',\n  4103,\n  -8,\n  234,\n  133,\n  11,\n  566099,\n  datetime.datetime(2022, 10, 3, 18, 34, 55)],\n [13,\n  'SI07922.Chn',\n  4103,\n  -8,\n  234,\n  1932,\n  12,\n  566099,\n  datetime.datetime(2022, 10, 3, 18, 34, 55)],\n [14,\n  'SI03322.Chn',\n  4098,\n  -3,\n  197,\n  229,\n  0,\n  496478,\n  datetime.datetime(2022, 5, 5, 21, 34, 56)],\n [14,\n  'SI03322.Chn',\n  4098,\n  -3,\n  197,\n  219,\n  1,\n  496478,\n  datetime.datetime(2022, 5, 5, 21, 34, 56)],\n [14,\n  'SI03322.Chn',\n  4098,\n  -3,\n  197,\n  222,\n  2,\n  496478,\n  datetime.datetime(2022, 5, 5, 21, 34, 56)],\n [14,\n  'SI03322.Chn',\n  4098,\n  -3,\n  197,\n  257,\n  3,\n  496478,\n  datetime.datetime(2022, 5, 5, 21, 34, 56)],\n [14,\n  'SI03322.Chn',\n  4098,\n  -3,\n  197,\n  149,\n  4,\n  496478,\n  datetime.datetime(2022, 5, 5, 21, 34, 56)],\n [14,\n  'SI03322.Chn',\n  4098,\n  -3,\n  197,\n  235,\n  5,\n  496478,\n  datetime.datetime(2022, 5, 5, 21, 34, 56)],\n [14,\n  'SI03322.Chn',\n  4098,\n  -3,\n  197,\n  2397,\n  6,\n  496478,\n  datetime.datetime(2022, 5, 5, 21, 34, 56)],\n [14,\n  'SI03322.Chn',\n  4098,\n  -3,\n  197,\n  842,\n  7,\n  496478,\n  datetime.datetime(2022, 5, 5, 21, 34, 56)],\n [14,\n  'SI03322.Chn',\n  4098,\n  -3,\n  197,\n  125,\n  8,\n  496478,\n  datetime.datetime(2022, 5, 5, 21, 34, 56)],\n [14,\n  'SI03322.Chn',\n  4098,\n  -3,\n  197,\n  144,\n  9,\n  496478,\n  datetime.datetime(2022, 5, 5, 21, 34, 56)],\n [14,\n  'SI03322.Chn',\n  4098,\n  -3,\n  197,\n  2187,\n  10,\n  496478,\n  datetime.datetime(2022, 5, 5, 21, 34, 56)],\n [14,\n  'SI03322.Chn',\n  4098,\n  -3,\n  197,\n  128,\n  11,\n  496478,\n  datetime.datetime(2022, 5, 5, 21, 34, 56)],\n [14,\n  'SI03322.Chn',\n  4098,\n  -3,\n  197,\n  1926,\n  12,\n  496478,\n  datetime.datetime(2022, 5, 5, 21, 34, 56)],\n [15,\n  'SI05922.Chn',\n  4098,\n  -3,\n  209,\n  149,\n  0,\n  544534,\n  datetime.datetime(2022, 7, 19, 21, 40, 10)],\n [15,\n  'SI05922.Chn',\n  4098,\n  -3,\n  209,\n  243,\n  1,\n  544534,\n  datetime.datetime(2022, 7, 19, 21, 40, 10)],\n [15,\n  'SI05922.Chn',\n  4098,\n  -3,\n  209,\n  225,\n  2,\n  544534,\n  datetime.datetime(2022, 7, 19, 21, 40, 10)],\n [15,\n  'SI05922.Chn',\n  4098,\n  -3,\n  209,\n  2397,\n  3,\n  544534,\n  datetime.datetime(2022, 7, 19, 21, 40, 10)],\n [15,\n  'SI05922.Chn',\n  4098,\n  -3,\n  209,\n  842,\n  4,\n  544534,\n  datetime.datetime(2022, 7, 19, 21, 40, 10)],\n [15,\n  'SI05922.Chn',\n  4098,\n  -3,\n  209,\n  1333,\n  5,\n  544534,\n  datetime.datetime(2022, 7, 19, 21, 40, 10)],\n [15,\n  'SI05922.Chn',\n  4098,\n  -3,\n  209,\n  235,\n  6,\n  544534,\n  datetime.datetime(2022, 7, 19, 21, 40, 10)],\n [15,\n  'SI05922.Chn',\n  4098,\n  -3,\n  209,\n  144,\n  7,\n  544534,\n  datetime.datetime(2022, 7, 19, 21, 40, 10)],\n [15,\n  'SI05922.Chn',\n  4098,\n  -3,\n  209,\n  125,\n  8,\n  544534,\n  datetime.datetime(2022, 7, 19, 21, 40, 10)],\n [15,\n  'SI05922.Chn',\n  4098,\n  -3,\n  209,\n  29,\n  9,\n  544534,\n  datetime.datetime(2022, 7, 19, 21, 40, 10)],\n [15,\n  'SI05922.Chn',\n  4098,\n  -3,\n  209,\n  128,\n  10,\n  544534,\n  datetime.datetime(2022, 7, 19, 21, 40, 10)],\n [15,\n  'SI05922.Chn',\n  4098,\n  -3,\n  209,\n  2187,\n  11,\n  544534,\n  datetime.datetime(2022, 7, 19, 21, 40, 10)],\n [15,\n  'SI05922.Chn',\n  4098,\n  -3,\n  209,\n  1926,\n  12,\n  544534,\n  datetime.datetime(2022, 7, 19, 21, 40, 10)],\n [16,\n  'SI03022.Chn',\n  4094,\n  1,\n  17,\n  369,\n  0,\n  48724,\n  datetime.datetime(2022, 4, 14, 12, 38, 20)],\n [16,\n  'SI03022.Chn',\n  4094,\n  1,\n  17,\n  352,\n  1,\n  48724,\n  datetime.datetime(2022, 4, 14, 12, 38, 20)],\n [16,\n  'SI03022.Chn',\n  4094,\n  1,\n  17,\n  2395,\n  2,\n  48724,\n  datetime.datetime(2022, 4, 14, 12, 38, 20)],\n [16,\n  'SI03022.Chn',\n  4094,\n  1,\n  17,\n  235,\n  3,\n  48724,\n  datetime.datetime(2022, 4, 14, 12, 38, 20)],\n [16,\n  'SI03022.Chn',\n  4094,\n  1,\n  17,\n  199,\n  4,\n  48724,\n  datetime.datetime(2022, 4, 14, 12, 38, 20)],\n [16,\n  'SI03022.Chn',\n  4094,\n  1,\n  17,\n  296,\n  5,\n  48724,\n  datetime.datetime(2022, 4, 14, 12, 38, 20)],\n [16,\n  'SI03022.Chn',\n  4094,\n  1,\n  17,\n  247,\n  6,\n  48724,\n  datetime.datetime(2022, 4, 14, 12, 38, 20)],\n [16,\n  'SI03022.Chn',\n  4094,\n  1,\n  17,\n  134,\n  7,\n  48724,\n  datetime.datetime(2022, 4, 14, 12, 38, 20)],\n [16,\n  'SI03022.Chn',\n  4094,\n  1,\n  17,\n  141,\n  8,\n  48724,\n  datetime.datetime(2022, 4, 14, 12, 38, 20)],\n [16,\n  'SI03022.Chn',\n  4094,\n  1,\n  17,\n  467,\n  9,\n  48724,\n  datetime.datetime(2022, 4, 14, 12, 38, 20)],\n [16,\n  'SI03022.Chn',\n  4094,\n  1,\n  17,\n  51,\n  10,\n  48724,\n  datetime.datetime(2022, 4, 14, 12, 38, 20)],\n [16,\n  'SI03022.Chn',\n  4094,\n  1,\n  17,\n  125,\n  11,\n  48724,\n  datetime.datetime(2022, 4, 14, 12, 38, 20)],\n [16,\n  'SI03022.Chn',\n  4094,\n  1,\n  17,\n  599,\n  12,\n  48724,\n  datetime.datetime(2022, 4, 14, 12, 38, 20)],\n [17,\n  'SI08722.Chn',\n  4103,\n  -8,\n  213,\n  230,\n  0,\n  539942,\n  datetime.datetime(2022, 11, 1, 17, 41, 25)],\n [17,\n  'SI08722.Chn',\n  4103,\n  -8,\n  213,\n  212,\n  1,\n  539942,\n  datetime.datetime(2022, 11, 1, 17, 41, 25)],\n [17,\n  'SI08722.Chn',\n  4103,\n  -8,\n  213,\n  153,\n  2,\n  539942,\n  datetime.datetime(2022, 11, 1, 17, 41, 25)],\n [17,\n  'SI08722.Chn',\n  4103,\n  -8,\n  213,\n  46,\n  3,\n  539942,\n  datetime.datetime(2022, 11, 1, 17, 41, 25)],\n [17,\n  'SI08722.Chn',\n  4103,\n  -8,\n  213,\n  240,\n  4,\n  539942,\n  datetime.datetime(2022, 11, 1, 17, 41, 25)],\n [17,\n  'SI08722.Chn',\n  4103,\n  -8,\n  213,\n  2403,\n  5,\n  539942,\n  datetime.datetime(2022, 11, 1, 17, 41, 25)],\n [17,\n  'SI08722.Chn',\n  4103,\n  -8,\n  213,\n  847,\n  6,\n  539942,\n  datetime.datetime(2022, 11, 1, 17, 41, 25)],\n [17,\n  'SI08722.Chn',\n  4103,\n  -8,\n  213,\n  149,\n  7,\n  539942,\n  datetime.datetime(2022, 11, 1, 17, 41, 25)],\n [17,\n  'SI08722.Chn',\n  4103,\n  -8,\n  213,\n  129,\n  8,\n  539942,\n  datetime.datetime(2022, 11, 1, 17, 41, 25)],\n [17,\n  'SI08722.Chn',\n  4103,\n  -8,\n  213,\n  1338,\n  9,\n  539942,\n  datetime.datetime(2022, 11, 1, 17, 41, 25)],\n [17,\n  'SI08722.Chn',\n  4103,\n  -8,\n  213,\n  133,\n  10,\n  539942,\n  datetime.datetime(2022, 11, 1, 17, 41, 25)],\n [17,\n  'SI08722.Chn',\n  4103,\n  -8,\n  213,\n  2193,\n  11,\n  539942,\n  datetime.datetime(2022, 11, 1, 17, 41, 25)],\n [17,\n  'SI08722.Chn',\n  4103,\n  -8,\n  213,\n  1932,\n  12,\n  539942,\n  datetime.datetime(2022, 11, 1, 17, 41, 25)],\n [18,\n  'FRASCO ORIGINAL SI084_22.Chn',\n  4102,\n  -7,\n  1,\n  240,\n  0,\n  2194,\n  datetime.datetime(2022, 11, 1, 8, 28, 13)],\n [19,\n  'SI06122.Chn',\n  4098,\n  -3,\n  195,\n  257,\n  0,\n  548003,\n  datetime.datetime(2022, 7, 27, 16, 56, 29)],\n [19,\n  'SI06122.Chn',\n  4098,\n  -3,\n  195,\n  244,\n  1,\n  548003,\n  datetime.datetime(2022, 7, 27, 16, 56, 29)],\n [19,\n  'SI06122.Chn',\n  4098,\n  -3,\n  195,\n  841,\n  2,\n  548003,\n  datetime.datetime(2022, 7, 27, 16, 56, 29)],\n [19,\n  'SI06122.Chn',\n  4098,\n  -3,\n  195,\n  236,\n  3,\n  548003,\n  datetime.datetime(2022, 7, 27, 16, 56, 29)],\n [19,\n  'SI06122.Chn',\n  4098,\n  -3,\n  195,\n  1082,\n  4,\n  548003,\n  datetime.datetime(2022, 7, 27, 16, 56, 29)],\n [19,\n  'SI06122.Chn',\n  4098,\n  -3,\n  195,\n  2397,\n  5,\n  548003,\n  datetime.datetime(2022, 7, 27, 16, 56, 29)],\n [19,\n  'SI06122.Chn',\n  4098,\n  -3,\n  195,\n  1333,\n  6,\n  548003,\n  datetime.datetime(2022, 7, 27, 16, 56, 29)],\n [19,\n  'SI06122.Chn',\n  4098,\n  -3,\n  195,\n  145,\n  7,\n  548003,\n  datetime.datetime(2022, 7, 27, 16, 56, 29)],\n [19,\n  'SI06122.Chn',\n  4098,\n  -3,\n  195,\n  125,\n  8,\n  548003,\n  datetime.datetime(2022, 7, 27, 16, 56, 29)],\n [19,\n  'SI06122.Chn',\n  4098,\n  -3,\n  195,\n  128,\n  9,\n  548003,\n  datetime.datetime(2022, 7, 27, 16, 56, 29)],\n [19,\n  'SI06122.Chn',\n  4098,\n  -3,\n  195,\n  2187,\n  10,\n  548003,\n  datetime.datetime(2022, 7, 27, 16, 56, 29)],\n [19,\n  'SI06122.Chn',\n  4098,\n  -3,\n  195,\n  1926,\n  11,\n  548003,\n  datetime.datetime(2022, 7, 27, 16, 56, 29)],\n [19,\n  'SI06122.Chn',\n  4098,\n  -3,\n  195,\n  30,\n  12,\n  548003,\n  datetime.datetime(2022, 7, 27, 16, 56, 29)],\n [20,\n  'SI01822.Chn',\n  4095,\n  0,\n  136,\n  307,\n  0,\n  304675,\n  datetime.datetime(2022, 3, 31, 11, 35, 5)],\n [20,\n  'SI01822.Chn',\n  4095,\n  0,\n  136,\n  145,\n  1,\n  304675,\n  datetime.datetime(2022, 3, 31, 11, 35, 5)],\n [20,\n  'SI01822.Chn',\n  4095,\n  0,\n  136,\n  237,\n  2,\n  304675,\n  datetime.datetime(2022, 3, 31, 11, 35, 5)],\n [20,\n  'SI01822.Chn',\n  4095,\n  0,\n  136,\n  267,\n  3,\n  304675,\n  datetime.datetime(2022, 3, 31, 11, 35, 5)],\n [20,\n  'SI01822.Chn',\n  4095,\n  0,\n  136,\n  231,\n  4,\n  304675,\n  datetime.datetime(2022, 3, 31, 11, 35, 5)],\n [20,\n  'SI01822.Chn',\n  4095,\n  0,\n  136,\n  839,\n  5,\n  304675,\n  datetime.datetime(2022, 3, 31, 11, 35, 5)],\n [20,\n  'SI01822.Chn',\n  4095,\n  0,\n  136,\n  2395,\n  6,\n  304675,\n  datetime.datetime(2022, 3, 31, 11, 35, 5)],\n [20,\n  'SI01822.Chn',\n  4095,\n  0,\n  136,\n  1079,\n  7,\n  304675,\n  datetime.datetime(2022, 3, 31, 11, 35, 5)],\n [20,\n  'SI01822.Chn',\n  4095,\n  0,\n  136,\n  121,\n  8,\n  304675,\n  datetime.datetime(2022, 3, 31, 11, 35, 5)],\n [20,\n  'SI01822.Chn',\n  4095,\n  0,\n  136,\n  2185,\n  9,\n  304675,\n  datetime.datetime(2022, 3, 31, 11, 35, 5)],\n [20,\n  'SI01822.Chn',\n  4095,\n  0,\n  136,\n  142,\n  10,\n  304675,\n  datetime.datetime(2022, 3, 31, 11, 35, 5)],\n [20,\n  'SI01822.Chn',\n  4095,\n  0,\n  136,\n  1924,\n  11,\n  304675,\n  datetime.datetime(2022, 3, 31, 11, 35, 5)],\n [20,\n  'SI01822.Chn',\n  4095,\n  0,\n  136,\n  125,\n  12,\n  304675,\n  datetime.datetime(2022, 3, 31, 11, 35, 5)],\n [21,\n  'SI09422.Chn',\n  4109,\n  -14,\n  218,\n  247,\n  0,\n  562898,\n  datetime.datetime(2022, 11, 30, 17, 32, 17)],\n [21,\n  'SI09422.Chn',\n  4109,\n  -14,\n  218,\n  159,\n  1,\n  562898,\n  datetime.datetime(2022, 11, 30, 17, 32, 17)],\n [21,\n  'SI09422.Chn',\n  4109,\n  -14,\n  218,\n  251,\n  2,\n  562898,\n  datetime.datetime(2022, 11, 30, 17, 32, 17)],\n [21,\n  'SI09422.Chn',\n  4109,\n  -14,\n  218,\n  226,\n  3,\n  562898,\n  datetime.datetime(2022, 11, 30, 17, 32, 17)],\n [21,\n  'SI09422.Chn',\n  4109,\n  -14,\n  218,\n  52,\n  4,\n  562898,\n  datetime.datetime(2022, 11, 30, 17, 32, 17)],\n [21,\n  'SI09422.Chn',\n  4109,\n  -14,\n  218,\n  2409,\n  5,\n  562898,\n  datetime.datetime(2022, 11, 30, 17, 32, 17)],\n [21,\n  'SI09422.Chn',\n  4109,\n  -14,\n  218,\n  853,\n  6,\n  562898,\n  datetime.datetime(2022, 11, 30, 17, 32, 17)],\n [21,\n  'SI09422.Chn',\n  4109,\n  -14,\n  218,\n  136,\n  7,\n  562898,\n  datetime.datetime(2022, 11, 30, 17, 32, 17)],\n [21,\n  'SI09422.Chn',\n  4109,\n  -14,\n  218,\n  155,\n  8,\n  562898,\n  datetime.datetime(2022, 11, 30, 17, 32, 17)],\n [21,\n  'SI09422.Chn',\n  4109,\n  -14,\n  218,\n  1344,\n  9,\n  562898,\n  datetime.datetime(2022, 11, 30, 17, 32, 17)],\n [21,\n  'SI09422.Chn',\n  4109,\n  -14,\n  218,\n  139,\n  10,\n  562898,\n  datetime.datetime(2022, 11, 30, 17, 32, 17)],\n [21,\n  'SI09422.Chn',\n  4109,\n  -14,\n  218,\n  2199,\n  11,\n  562898,\n  datetime.datetime(2022, 11, 30, 17, 32, 17)],\n [21,\n  'SI09422.Chn',\n  4109,\n  -14,\n  218,\n  1938,\n  12,\n  562898,\n  datetime.datetime(2022, 11, 30, 17, 32, 17)],\n [22,\n  'SI00822.Chn',\n  4095,\n  0,\n  140,\n  263,\n  0,\n  398225,\n  datetime.datetime(2022, 2, 23, 19, 10, 4)],\n [22,\n  'SI00822.Chn',\n  4095,\n  0,\n  140,\n  258,\n  1,\n  398225,\n  datetime.datetime(2022, 2, 23, 19, 10, 4)],\n [22,\n  'SI00822.Chn',\n  4095,\n  0,\n  140,\n  201,\n  2,\n  398225,\n  datetime.datetime(2022, 2, 23, 19, 10, 4)],\n [22,\n  'SI00822.Chn',\n  4095,\n  0,\n  140,\n  265,\n  3,\n  398225,\n  datetime.datetime(2022, 2, 23, 19, 10, 4)],\n [22,\n  'SI00822.Chn',\n  4095,\n  0,\n  140,\n  216,\n  4,\n  398225,\n  datetime.datetime(2022, 2, 23, 19, 10, 4)],\n [22,\n  'SI00822.Chn',\n  4095,\n  0,\n  140,\n  243,\n  5,\n  398225,\n  datetime.datetime(2022, 2, 23, 19, 10, 4)],\n [22,\n  'SI00822.Chn',\n  4095,\n  0,\n  140,\n  236,\n  6,\n  398225,\n  datetime.datetime(2022, 2, 23, 19, 10, 4)],\n [22,\n  'SI00822.Chn',\n  4095,\n  0,\n  140,\n  231,\n  7,\n  398225,\n  datetime.datetime(2022, 2, 23, 19, 10, 4)],\n [22,\n  'SI00822.Chn',\n  4095,\n  0,\n  140,\n  225,\n  8,\n  398225,\n  datetime.datetime(2022, 2, 23, 19, 10, 4)],\n [22,\n  'SI00822.Chn',\n  4095,\n  0,\n  140,\n  2394,\n  9,\n  398225,\n  datetime.datetime(2022, 2, 23, 19, 10, 4)],\n [22,\n  'SI00822.Chn',\n  4095,\n  0,\n  140,\n  121,\n  10,\n  398225,\n  datetime.datetime(2022, 2, 23, 19, 10, 4)],\n [22,\n  'SI00822.Chn',\n  4095,\n  0,\n  140,\n  141,\n  11,\n  398225,\n  datetime.datetime(2022, 2, 23, 19, 10, 4)],\n [22,\n  'SI00822.Chn',\n  4095,\n  0,\n  140,\n  125,\n  12,\n  398225,\n  datetime.datetime(2022, 2, 23, 19, 10, 4)],\n [23,\n  'SI05822.Chn',\n  4096,\n  -1,\n  165,\n  204,\n  0,\n  407164,\n  datetime.datetime(2022, 7, 14, 21, 46, 19)],\n [23,\n  'SI05822.Chn',\n  4096,\n  -1,\n  165,\n  232,\n  1,\n  407164,\n  datetime.datetime(2022, 7, 14, 21, 46, 19)],\n [23,\n  'SI05822.Chn',\n  4096,\n  -1,\n  165,\n  147,\n  2,\n  407164,\n  datetime.datetime(2022, 7, 14, 21, 46, 19)],\n [23,\n  'SI05822.Chn',\n  4096,\n  -1,\n  165,\n  228,\n  3,\n  407164,\n  datetime.datetime(2022, 7, 14, 21, 46, 19)],\n [23,\n  'SI05822.Chn',\n  4096,\n  -1,\n  165,\n  308,\n  4,\n  407164,\n  datetime.datetime(2022, 7, 14, 21, 46, 19)],\n [23,\n  'SI05822.Chn',\n  4096,\n  -1,\n  165,\n  250,\n  5,\n  407164,\n  datetime.datetime(2022, 7, 14, 21, 46, 19)],\n [23,\n  'SI05822.Chn',\n  4096,\n  -1,\n  165,\n  236,\n  6,\n  407164,\n  datetime.datetime(2022, 7, 14, 21, 46, 19)],\n [23,\n  'SI05822.Chn',\n  4096,\n  -1,\n  165,\n  266,\n  7,\n  407164,\n  datetime.datetime(2022, 7, 14, 21, 46, 19)],\n [23,\n  'SI05822.Chn',\n  4096,\n  -1,\n  165,\n  2396,\n  8,\n  407164,\n  datetime.datetime(2022, 7, 14, 21, 46, 19)],\n [23,\n  'SI05822.Chn',\n  4096,\n  -1,\n  165,\n  124,\n  9,\n  407164,\n  datetime.datetime(2022, 7, 14, 21, 46, 19)],\n [23,\n  'SI05822.Chn',\n  4096,\n  -1,\n  165,\n  143,\n  10,\n  407164,\n  datetime.datetime(2022, 7, 14, 21, 46, 19)],\n [23,\n  'SI05822.Chn',\n  4096,\n  -1,\n  165,\n  30,\n  11,\n  407164,\n  datetime.datetime(2022, 7, 14, 21, 46, 19)],\n [23,\n  'SI05822.Chn',\n  4096,\n  -1,\n  165,\n  127,\n  12,\n  407164,\n  datetime.datetime(2022, 7, 14, 21, 46, 19)],\n [24,\n  'SI04722.Chn',\n  4095,\n  0,\n  229,\n  250,\n  0,\n  570053,\n  datetime.datetime(2022, 6, 20, 17, 34, 1)],\n [24,\n  'SI04722.Chn',\n  4095,\n  0,\n  229,\n  309,\n  1,\n  570053,\n  datetime.datetime(2022, 6, 20, 17, 34, 1)],\n [24,\n  'SI04722.Chn',\n  4095,\n  0,\n  229,\n  147,\n  2,\n  570053,\n  datetime.datetime(2022, 6, 20, 17, 34, 1)],\n [24,\n  'SI04722.Chn',\n  4095,\n  0,\n  229,\n  223,\n  3,\n  570053,\n  datetime.datetime(2022, 6, 20, 17, 34, 1)],\n [24,\n  'SI04722.Chn',\n  4095,\n  0,\n  229,\n  1330,\n  4,\n  570053,\n  datetime.datetime(2022, 6, 20, 17, 34, 1)],\n [24,\n  'SI04722.Chn',\n  4095,\n  0,\n  229,\n  839,\n  5,\n  570053,\n  datetime.datetime(2022, 6, 20, 17, 34, 1)],\n [24,\n  'SI04722.Chn',\n  4095,\n  0,\n  229,\n  2394,\n  6,\n  570053,\n  datetime.datetime(2022, 6, 20, 17, 34, 1)],\n [24,\n  'SI04722.Chn',\n  4095,\n  0,\n  229,\n  233,\n  7,\n  570053,\n  datetime.datetime(2022, 6, 20, 17, 34, 1)],\n [24,\n  'SI04722.Chn',\n  4095,\n  0,\n  229,\n  142,\n  8,\n  570053,\n  datetime.datetime(2022, 6, 20, 17, 34, 1)],\n [24,\n  'SI04722.Chn',\n  4095,\n  0,\n  229,\n  122,\n  9,\n  570053,\n  datetime.datetime(2022, 6, 20, 17, 34, 1)],\n [24,\n  'SI04722.Chn',\n  4095,\n  0,\n  229,\n  126,\n  10,\n  570053,\n  datetime.datetime(2022, 6, 20, 17, 34, 1)],\n [24,\n  'SI04722.Chn',\n  4095,\n  0,\n  229,\n  2184,\n  11,\n  570053,\n  datetime.datetime(2022, 6, 20, 17, 34, 1)],\n [24,\n  'SI04722.Chn',\n  4095,\n  0,\n  229,\n  1923,\n  12,\n  570053,\n  datetime.datetime(2022, 6, 20, 17, 34, 1)],\n [25,\n  'SI01622.Chn',\n  4096,\n  -1,\n  200,\n  211,\n  0,\n  483775,\n  datetime.datetime(2022, 3, 29, 21, 2, 25)],\n [25,\n  'SI01622.Chn',\n  4096,\n  -1,\n  200,\n  266,\n  1,\n  483775,\n  datetime.datetime(2022, 3, 29, 21, 2, 25)],\n [25,\n  'SI01622.Chn',\n  4096,\n  -1,\n  200,\n  197,\n  2,\n  483775,\n  datetime.datetime(2022, 3, 29, 21, 2, 25)],\n [25,\n  'SI01622.Chn',\n  4096,\n  -1,\n  200,\n  219,\n  3,\n  483775,\n  datetime.datetime(2022, 3, 29, 21, 2, 25)],\n [25,\n  'SI01622.Chn',\n  4096,\n  -1,\n  200,\n  208,\n  4,\n  483775,\n  datetime.datetime(2022, 3, 29, 21, 2, 25)],\n [25,\n  'SI01622.Chn',\n  4096,\n  -1,\n  200,\n  239,\n  5,\n  483775,\n  datetime.datetime(2022, 3, 29, 21, 2, 25)],\n [25,\n  'SI01622.Chn',\n  4096,\n  -1,\n  200,\n  234,\n  6,\n  483775,\n  datetime.datetime(2022, 3, 29, 21, 2, 25)],\n [25,\n  'SI01622.Chn',\n  4096,\n  -1,\n  200,\n  2395,\n  7,\n  483775,\n  datetime.datetime(2022, 3, 29, 21, 2, 25)],\n [25,\n  'SI01622.Chn',\n  4096,\n  -1,\n  200,\n  123,\n  8,\n  483775,\n  datetime.datetime(2022, 3, 29, 21, 2, 25)],\n [25,\n  'SI01622.Chn',\n  4096,\n  -1,\n  200,\n  142,\n  9,\n  483775,\n  datetime.datetime(2022, 3, 29, 21, 2, 25)],\n [25,\n  'SI01622.Chn',\n  4096,\n  -1,\n  200,\n  2185,\n  10,\n  483775,\n  datetime.datetime(2022, 3, 29, 21, 2, 25)],\n [25,\n  'SI01622.Chn',\n  4096,\n  -1,\n  200,\n  126,\n  11,\n  483775,\n  datetime.datetime(2022, 3, 29, 21, 2, 25)],\n [25,\n  'SI01622.Chn',\n  4096,\n  -1,\n  200,\n  1924,\n  12,\n  483775,\n  datetime.datetime(2022, 3, 29, 21, 2, 25)],\n [26,\n  'SI08422.Chn',\n  4101,\n  -6,\n  193,\n  194,\n  0,\n  980701,\n  datetime.datetime(2022, 10, 24, 18, 0, 59)],\n [26,\n  'SI08422.Chn',\n  4101,\n  -6,\n  193,\n  190,\n  1,\n  980701,\n  datetime.datetime(2022, 10, 24, 18, 0, 59)],\n [26,\n  'SI08422.Chn',\n  4101,\n  -6,\n  193,\n  192,\n  2,\n  980701,\n  datetime.datetime(2022, 10, 24, 18, 0, 59)],\n [26,\n  'SI08422.Chn',\n  4101,\n  -6,\n  193,\n  179,\n  3,\n  980701,\n  datetime.datetime(2022, 10, 24, 18, 0, 59)],\n [26,\n  'SI08422.Chn',\n  4101,\n  -6,\n  193,\n  176,\n  4,\n  980701,\n  datetime.datetime(2022, 10, 24, 18, 0, 59)],\n [26,\n  'SI08422.Chn',\n  4101,\n  -6,\n  193,\n  171,\n  5,\n  980701,\n  datetime.datetime(2022, 10, 24, 18, 0, 59)],\n [26,\n  'SI08422.Chn',\n  4101,\n  -6,\n  193,\n  168,\n  6,\n  980701,\n  datetime.datetime(2022, 10, 24, 18, 0, 59)],\n [26,\n  'SI08422.Chn',\n  4101,\n  -6,\n  193,\n  132,\n  7,\n  980701,\n  datetime.datetime(2022, 10, 24, 18, 0, 59)],\n [26,\n  'SI08422.Chn',\n  4101,\n  -6,\n  193,\n  125,\n  8,\n  980701,\n  datetime.datetime(2022, 10, 24, 18, 0, 59)],\n [26,\n  'SI08422.Chn',\n  4101,\n  -6,\n  193,\n  1220,\n  9,\n  980701,\n  datetime.datetime(2022, 10, 24, 18, 0, 59)],\n [26,\n  'SI08422.Chn',\n  4101,\n  -6,\n  193,\n  162,\n  10,\n  980701,\n  datetime.datetime(2022, 10, 24, 18, 0, 59)],\n [26,\n  'SI08422.Chn',\n  4101,\n  -6,\n  193,\n  306,\n  11,\n  980701,\n  datetime.datetime(2022, 10, 24, 18, 0, 59)],\n [26,\n  'SI08422.Chn',\n  4101,\n  -6,\n  193,\n  239,\n  12,\n  980701,\n  datetime.datetime(2022, 10, 24, 18, 0, 59)],\n [27,\n  'SI02022.Chn',\n  4095,\n  0,\n  190,\n  215,\n  0,\n  485891,\n  datetime.datetime(2022, 4, 4, 21, 43, 14)],\n [27,\n  'SI02022.Chn',\n  4095,\n  0,\n  190,\n  218,\n  1,\n  485891,\n  datetime.datetime(2022, 4, 4, 21, 43, 14)],\n [27,\n  'SI02022.Chn',\n  4095,\n  0,\n  190,\n  242,\n  2,\n  485891,\n  datetime.datetime(2022, 4, 4, 21, 43, 14)],\n [27,\n  'SI02022.Chn',\n  4095,\n  0,\n  190,\n  227,\n  3,\n  485891,\n  datetime.datetime(2022, 4, 4, 21, 43, 14)],\n [27,\n  'SI02022.Chn',\n  4095,\n  0,\n  190,\n  208,\n  4,\n  485891,\n  datetime.datetime(2022, 4, 4, 21, 43, 14)],\n [27,\n  'SI02022.Chn',\n  4095,\n  0,\n  190,\n  231,\n  5,\n  485891,\n  datetime.datetime(2022, 4, 4, 21, 43, 14)],\n [27,\n  'SI02022.Chn',\n  4095,\n  0,\n  190,\n  2394,\n  6,\n  485891,\n  datetime.datetime(2022, 4, 4, 21, 43, 14)],\n [27,\n  'SI02022.Chn',\n  4095,\n  0,\n  190,\n  2184,\n  7,\n  485891,\n  datetime.datetime(2022, 4, 4, 21, 43, 14)],\n [27,\n  'SI02022.Chn',\n  4095,\n  0,\n  190,\n  122,\n  8,\n  485891,\n  datetime.datetime(2022, 4, 4, 21, 43, 14)],\n [27,\n  'SI02022.Chn',\n  4095,\n  0,\n  190,\n  141,\n  9,\n  485891,\n  datetime.datetime(2022, 4, 4, 21, 43, 14)],\n [27,\n  'SI02022.Chn',\n  4095,\n  0,\n  190,\n  1923,\n  10,\n  485891,\n  datetime.datetime(2022, 4, 4, 21, 43, 14)],\n [27,\n  'SI02022.Chn',\n  4095,\n  0,\n  190,\n  1079,\n  11,\n  485891,\n  datetime.datetime(2022, 4, 4, 21, 43, 14)],\n [27,\n  'SI02022.Chn',\n  4095,\n  0,\n  190,\n  125,\n  12,\n  485891,\n  datetime.datetime(2022, 4, 4, 21, 43, 14)],\n [28,\n  'SI07522.Chn',\n  4102,\n  -7,\n  205,\n  247,\n  0,\n  542344,\n  datetime.datetime(2022, 9, 19, 20, 23, 10)],\n [28,\n  'SI07522.Chn',\n  4102,\n  -7,\n  205,\n  251,\n  1,\n  542344,\n  datetime.datetime(2022, 9, 19, 20, 23, 10)],\n [28,\n  'SI07522.Chn',\n  4102,\n  -7,\n  205,\n  245,\n  2,\n  542344,\n  datetime.datetime(2022, 9, 19, 20, 23, 10)],\n [28,\n  'SI07522.Chn',\n  4102,\n  -7,\n  205,\n  230,\n  3,\n  542344,\n  datetime.datetime(2022, 9, 19, 20, 23, 10)],\n [28,\n  'SI07522.Chn',\n  4102,\n  -7,\n  205,\n  846,\n  4,\n  542344,\n  datetime.datetime(2022, 9, 19, 20, 23, 10)],\n [28,\n  'SI07522.Chn',\n  4102,\n  -7,\n  205,\n  1337,\n  5,\n  542344,\n  datetime.datetime(2022, 9, 19, 20, 23, 10)],\n [28,\n  'SI07522.Chn',\n  4102,\n  -7,\n  205,\n  2402,\n  6,\n  542344,\n  datetime.datetime(2022, 9, 19, 20, 23, 10)],\n [28,\n  'SI07522.Chn',\n  4102,\n  -7,\n  205,\n  240,\n  7,\n  542344,\n  datetime.datetime(2022, 9, 19, 20, 23, 10)],\n [28,\n  'SI07522.Chn',\n  4102,\n  -7,\n  205,\n  129,\n  8,\n  542344,\n  datetime.datetime(2022, 9, 19, 20, 23, 10)],\n [28,\n  'SI07522.Chn',\n  4102,\n  -7,\n  205,\n  149,\n  9,\n  542344,\n  datetime.datetime(2022, 9, 19, 20, 23, 10)],\n [28,\n  'SI07522.Chn',\n  4102,\n  -7,\n  205,\n  2191,\n  10,\n  542344,\n  datetime.datetime(2022, 9, 19, 20, 23, 10)],\n [28,\n  'SI07522.Chn',\n  4102,\n  -7,\n  205,\n  1931,\n  11,\n  542344,\n  datetime.datetime(2022, 9, 19, 20, 23, 10)],\n [28,\n  'SI07522.Chn',\n  4102,\n  -7,\n  205,\n  133,\n  12,\n  542344,\n  datetime.datetime(2022, 9, 19, 20, 23, 10)],\n [29,\n  'SI01722.Chn',\n  4095,\n  0,\n  182,\n  262,\n  0,\n  479312,\n  datetime.datetime(2022, 3, 30, 14, 16, 36)],\n [29,\n  'SI01722.Chn',\n  4095,\n  0,\n  182,\n  224,\n  1,\n  479312,\n  datetime.datetime(2022, 3, 30, 14, 16, 36)],\n [29,\n  'SI01722.Chn',\n  4095,\n  0,\n  182,\n  239,\n  2,\n  479312,\n  datetime.datetime(2022, 3, 30, 14, 16, 36)],\n [29,\n  'SI01722.Chn',\n  4095,\n  0,\n  182,\n  307,\n  3,\n  479312,\n  datetime.datetime(2022, 3, 30, 14, 16, 36)],\n [29,\n  'SI01722.Chn',\n  4095,\n  0,\n  182,\n  146,\n  4,\n  479312,\n  datetime.datetime(2022, 3, 30, 14, 16, 36)],\n [29,\n  'SI01722.Chn',\n  4095,\n  0,\n  182,\n  228,\n  5,\n  479312,\n  datetime.datetime(2022, 3, 30, 14, 16, 36)],\n [29,\n  'SI01722.Chn',\n  4095,\n  0,\n  182,\n  231,\n  6,\n  479312,\n  datetime.datetime(2022, 3, 30, 14, 16, 36)],\n [29,\n  'SI01722.Chn',\n  4095,\n  0,\n  182,\n  1924,\n  7,\n  479312,\n  datetime.datetime(2022, 3, 30, 14, 16, 36)],\n [29,\n  'SI01722.Chn',\n  4095,\n  0,\n  182,\n  2395,\n  8,\n  479312,\n  datetime.datetime(2022, 3, 30, 14, 16, 36)],\n [29,\n  'SI01722.Chn',\n  4095,\n  0,\n  182,\n  142,\n  9,\n  479312,\n  datetime.datetime(2022, 3, 30, 14, 16, 36)],\n [29,\n  'SI01722.Chn',\n  4095,\n  0,\n  182,\n  122,\n  10,\n  479312,\n  datetime.datetime(2022, 3, 30, 14, 16, 36)],\n [29,\n  'SI01722.Chn',\n  4095,\n  0,\n  182,\n  1079,\n  11,\n  479312,\n  datetime.datetime(2022, 3, 30, 14, 16, 36)],\n [29,\n  'SI01722.Chn',\n  4095,\n  0,\n  182,\n  125,\n  12,\n  479312,\n  datetime.datetime(2022, 3, 30, 14, 16, 36)],\n [30,\n  'SI06922.Chn',\n  4098,\n  -3,\n  205,\n  248,\n  0,\n  530153,\n  datetime.datetime(2022, 8, 23, 20, 20, 39)],\n [30,\n  'SI06922.Chn',\n  4098,\n  -3,\n  205,\n  149,\n  1,\n  530153,\n  datetime.datetime(2022, 8, 23, 20, 20, 39)],\n [30,\n  'SI06922.Chn',\n  4098,\n  -3,\n  205,\n  208,\n  2,\n  530153,\n  datetime.datetime(2022, 8, 23, 20, 20, 39)],\n [30,\n  'SI06922.Chn',\n  4098,\n  -3,\n  205,\n  257,\n  3,\n  530153,\n  datetime.datetime(2022, 8, 23, 20, 20, 39)],\n [30,\n  'SI06922.Chn',\n  4098,\n  -3,\n  205,\n  1333,\n  4,\n  530153,\n  datetime.datetime(2022, 8, 23, 20, 20, 39)],\n [30,\n  'SI06922.Chn',\n  4098,\n  -3,\n  205,\n  2398,\n  5,\n  530153,\n  datetime.datetime(2022, 8, 23, 20, 20, 39)],\n [30,\n  'SI06922.Chn',\n  4098,\n  -3,\n  205,\n  842,\n  6,\n  530153,\n  datetime.datetime(2022, 8, 23, 20, 20, 39)],\n [30,\n  'SI06922.Chn',\n  4098,\n  -3,\n  205,\n  236,\n  7,\n  530153,\n  datetime.datetime(2022, 8, 23, 20, 20, 39)],\n [30,\n  'SI06922.Chn',\n  4098,\n  -3,\n  205,\n  144,\n  8,\n  530153,\n  datetime.datetime(2022, 8, 23, 20, 20, 39)],\n [30,\n  'SI06922.Chn',\n  4098,\n  -3,\n  205,\n  2187,\n  9,\n  530153,\n  datetime.datetime(2022, 8, 23, 20, 20, 39)],\n [30,\n  'SI06922.Chn',\n  4098,\n  -3,\n  205,\n  125,\n  10,\n  530153,\n  datetime.datetime(2022, 8, 23, 20, 20, 39)],\n [30,\n  'SI06922.Chn',\n  4098,\n  -3,\n  205,\n  1926,\n  11,\n  530153,\n  datetime.datetime(2022, 8, 23, 20, 20, 39)],\n [30,\n  'SI06922.Chn',\n  4098,\n  -3,\n  205,\n  128,\n  12,\n  530153,\n  datetime.datetime(2022, 8, 23, 20, 20, 39)],\n [31,\n  'SI09722.Chn',\n  4110,\n  -15,\n  228,\n  263,\n  0,\n  563138,\n  datetime.datetime(2022, 12, 12, 18, 7, 41)],\n [31,\n  'SI09722.Chn',\n  4110,\n  -15,\n  228,\n  159,\n  1,\n  563138,\n  datetime.datetime(2022, 12, 12, 18, 7, 41)],\n [31,\n  'SI09722.Chn',\n  4110,\n  -15,\n  228,\n  246,\n  2,\n  563138,\n  datetime.datetime(2022, 12, 12, 18, 7, 41)],\n [31,\n  'SI09722.Chn',\n  4110,\n  -15,\n  228,\n  407,\n  3,\n  563138,\n  datetime.datetime(2022, 12, 12, 18, 7, 41)],\n [31,\n  'SI09722.Chn',\n  4110,\n  -15,\n  228,\n  53,\n  4,\n  563138,\n  datetime.datetime(2022, 12, 12, 18, 7, 41)],\n [31,\n  'SI09722.Chn',\n  4110,\n  -15,\n  228,\n  2409,\n  5,\n  563138,\n  datetime.datetime(2022, 12, 12, 18, 7, 41)],\n [31,\n  'SI09722.Chn',\n  4110,\n  -15,\n  228,\n  136,\n  6,\n  563138,\n  datetime.datetime(2022, 12, 12, 18, 7, 41)],\n [31,\n  'SI09722.Chn',\n  4110,\n  -15,\n  228,\n  853,\n  7,\n  563138,\n  datetime.datetime(2022, 12, 12, 18, 7, 41)],\n [31,\n  'SI09722.Chn',\n  4110,\n  -15,\n  228,\n  155,\n  8,\n  563138,\n  datetime.datetime(2022, 12, 12, 18, 7, 41)],\n [31,\n  'SI09722.Chn',\n  4110,\n  -15,\n  228,\n  1344,\n  9,\n  563138,\n  datetime.datetime(2022, 12, 12, 18, 7, 41)],\n [31,\n  'SI09722.Chn',\n  4110,\n  -15,\n  228,\n  139,\n  10,\n  563138,\n  datetime.datetime(2022, 12, 12, 18, 7, 41)],\n [31,\n  'SI09722.Chn',\n  4110,\n  -15,\n  228,\n  2199,\n  11,\n  563138,\n  datetime.datetime(2022, 12, 12, 18, 7, 41)],\n [31,\n  'SI09722.Chn',\n  4110,\n  -15,\n  228,\n  1938,\n  12,\n  563138,\n  datetime.datetime(2022, 12, 12, 18, 7, 41)],\n [32,\n  'SI06522.Chn',\n  4097,\n  -2,\n  194,\n  215,\n  0,\n  507831,\n  datetime.datetime(2022, 8, 17, 17, 30, 36)],\n [32,\n  'SI06522.Chn',\n  4097,\n  -2,\n  194,\n  241,\n  1,\n  507831,\n  datetime.datetime(2022, 8, 17, 17, 30, 36)],\n [32,\n  'SI06522.Chn',\n  4097,\n  -2,\n  194,\n  148,\n  2,\n  507831,\n  datetime.datetime(2022, 8, 17, 17, 30, 36)],\n [32,\n  'SI06522.Chn',\n  4097,\n  -2,\n  194,\n  396,\n  3,\n  507831,\n  datetime.datetime(2022, 8, 17, 17, 30, 36)],\n [32,\n  'SI06522.Chn',\n  4097,\n  -2,\n  194,\n  1332,\n  4,\n  507831,\n  datetime.datetime(2022, 8, 17, 17, 30, 36)],\n [32,\n  'SI06522.Chn',\n  4097,\n  -2,\n  194,\n  841,\n  5,\n  507831,\n  datetime.datetime(2022, 8, 17, 17, 30, 36)],\n [32,\n  'SI06522.Chn',\n  4097,\n  -2,\n  194,\n  2397,\n  6,\n  507831,\n  datetime.datetime(2022, 8, 17, 17, 30, 36)],\n [32,\n  'SI06522.Chn',\n  4097,\n  -2,\n  194,\n  144,\n  7,\n  507831,\n  datetime.datetime(2022, 8, 17, 17, 30, 36)],\n [32,\n  'SI06522.Chn',\n  4097,\n  -2,\n  194,\n  124,\n  8,\n  507831,\n  datetime.datetime(2022, 8, 17, 17, 30, 36)],\n [32,\n  'SI06522.Chn',\n  4097,\n  -2,\n  194,\n  27,\n  9,\n  507831,\n  datetime.datetime(2022, 8, 17, 17, 30, 36)],\n [32,\n  'SI06522.Chn',\n  4097,\n  -2,\n  194,\n  2187,\n  10,\n  507831,\n  datetime.datetime(2022, 8, 17, 17, 30, 36)],\n [32,\n  'SI06522.Chn',\n  4097,\n  -2,\n  194,\n  1926,\n  11,\n  507831,\n  datetime.datetime(2022, 8, 17, 17, 30, 36)],\n [32,\n  'SI06522.Chn',\n  4097,\n  -2,\n  194,\n  128,\n  12,\n  507831,\n  datetime.datetime(2022, 8, 17, 17, 30, 36)],\n [33,\n  'SI09122.Chn',\n  4109,\n  -14,\n  202,\n  407,\n  0,\n  507306,\n  datetime.datetime(2022, 11, 22, 18, 26, 15)],\n [33,\n  'SI09122.Chn',\n  4109,\n  -14,\n  202,\n  249,\n  1,\n  507306,\n  datetime.datetime(2022, 11, 22, 18, 26, 15)],\n [33,\n  'SI09122.Chn',\n  4109,\n  -14,\n  202,\n  229,\n  2,\n  507306,\n  datetime.datetime(2022, 11, 22, 18, 26, 15)],\n [33,\n  'SI09122.Chn',\n  4109,\n  -14,\n  202,\n  52,\n  3,\n  507306,\n  datetime.datetime(2022, 11, 22, 18, 26, 15)],\n [33,\n  'SI09122.Chn',\n  4109,\n  -14,\n  202,\n  159,\n  4,\n  507306,\n  datetime.datetime(2022, 11, 22, 18, 26, 15)],\n [33,\n  'SI09122.Chn',\n  4109,\n  -14,\n  202,\n  853,\n  5,\n  507306,\n  datetime.datetime(2022, 11, 22, 18, 26, 15)],\n [33,\n  'SI09122.Chn',\n  4109,\n  -14,\n  202,\n  2409,\n  6,\n  507306,\n  datetime.datetime(2022, 11, 22, 18, 26, 15)],\n [33,\n  'SI09122.Chn',\n  4109,\n  -14,\n  202,\n  1344,\n  7,\n  507306,\n  datetime.datetime(2022, 11, 22, 18, 26, 15)],\n [33,\n  'SI09122.Chn',\n  4109,\n  -14,\n  202,\n  135,\n  8,\n  507306,\n  datetime.datetime(2022, 11, 22, 18, 26, 15)],\n [33,\n  'SI09122.Chn',\n  4109,\n  -14,\n  202,\n  155,\n  9,\n  507306,\n  datetime.datetime(2022, 11, 22, 18, 26, 15)],\n [33,\n  'SI09122.Chn',\n  4109,\n  -14,\n  202,\n  139,\n  10,\n  507306,\n  datetime.datetime(2022, 11, 22, 18, 26, 15)],\n [33,\n  'SI09122.Chn',\n  4109,\n  -14,\n  202,\n  2199,\n  11,\n  507306,\n  datetime.datetime(2022, 11, 22, 18, 26, 15)],\n [33,\n  'SI09122.Chn',\n  4109,\n  -14,\n  202,\n  1938,\n  12,\n  507306,\n  datetime.datetime(2022, 11, 22, 18, 26, 15)],\n [34,\n  'SI05522.Chn',\n  4096,\n  -1,\n  166,\n  268,\n  0,\n  432149,\n  datetime.datetime(2022, 7, 12, 10, 4, 14)],\n [34,\n  'SI05522.Chn',\n  4096,\n  -1,\n  166,\n  241,\n  1,\n  432149,\n  datetime.datetime(2022, 7, 12, 10, 4, 14)],\n [34,\n  'SI05522.Chn',\n  4096,\n  -1,\n  166,\n  223,\n  2,\n  432149,\n  datetime.datetime(2022, 7, 12, 10, 4, 14)],\n [34,\n  'SI05522.Chn',\n  4096,\n  -1,\n  166,\n  245,\n  3,\n  432149,\n  datetime.datetime(2022, 7, 12, 10, 4, 14)],\n [34,\n  'SI05522.Chn',\n  4096,\n  -1,\n  166,\n  258,\n  4,\n  432149,\n  datetime.datetime(2022, 7, 12, 10, 4, 14)],\n [34,\n  'SI05522.Chn',\n  4096,\n  -1,\n  166,\n  204,\n  5,\n  432149,\n  datetime.datetime(2022, 7, 12, 10, 4, 14)],\n [34,\n  'SI05522.Chn',\n  4096,\n  -1,\n  166,\n  232,\n  6,\n  432149,\n  datetime.datetime(2022, 7, 12, 10, 4, 14)],\n [34,\n  'SI05522.Chn',\n  4096,\n  -1,\n  166,\n  219,\n  7,\n  432149,\n  datetime.datetime(2022, 7, 12, 10, 4, 14)],\n [34,\n  'SI05522.Chn',\n  4096,\n  -1,\n  166,\n  1924,\n  8,\n  432149,\n  datetime.datetime(2022, 7, 12, 10, 4, 14)],\n [34,\n  'SI05522.Chn',\n  4096,\n  -1,\n  166,\n  2395,\n  9,\n  432149,\n  datetime.datetime(2022, 7, 12, 10, 4, 14)],\n [34,\n  'SI05522.Chn',\n  4096,\n  -1,\n  166,\n  123,\n  10,\n  432149,\n  datetime.datetime(2022, 7, 12, 10, 4, 14)],\n [34,\n  'SI05522.Chn',\n  4096,\n  -1,\n  166,\n  143,\n  11,\n  432149,\n  datetime.datetime(2022, 7, 12, 10, 4, 14)],\n [34,\n  'SI05522.Chn',\n  4096,\n  -1,\n  166,\n  127,\n  12,\n  432149,\n  datetime.datetime(2022, 7, 12, 10, 4, 14)],\n [35,\n  'SI03422.Chn',\n  4097,\n  -2,\n  215,\n  216,\n  0,\n  546337,\n  datetime.datetime(2022, 5, 9, 22, 6, 45)],\n [35,\n  'SI03422.Chn',\n  4097,\n  -2,\n  215,\n  841,\n  1,\n  546337,\n  datetime.datetime(2022, 5, 9, 22, 6, 45)],\n [35,\n  'SI03422.Chn',\n  4097,\n  -2,\n  215,\n  1082,\n  2,\n  546337,\n  datetime.datetime(2022, 5, 9, 22, 6, 45)],\n [35,\n  'SI03422.Chn',\n  4097,\n  -2,\n  215,\n  1332,\n  3,\n  546337,\n  datetime.datetime(2022, 5, 9, 22, 6, 45)],\n [35,\n  'SI03422.Chn',\n  4097,\n  -2,\n  215,\n  2397,\n  4,\n  546337,\n  datetime.datetime(2022, 5, 9, 22, 6, 45)],\n [35,\n  'SI03422.Chn',\n  4097,\n  -2,\n  215,\n  225,\n  5,\n  546337,\n  datetime.datetime(2022, 5, 9, 22, 6, 45)],\n [35,\n  'SI03422.Chn',\n  4097,\n  -2,\n  215,\n  235,\n  6,\n  546337,\n  datetime.datetime(2022, 5, 9, 22, 6, 45)],\n [35,\n  'SI03422.Chn',\n  4097,\n  -2,\n  215,\n  125,\n  7,\n  546337,\n  datetime.datetime(2022, 5, 9, 22, 6, 45)],\n [35,\n  'SI03422.Chn',\n  4097,\n  -2,\n  215,\n  144,\n  8,\n  546337,\n  datetime.datetime(2022, 5, 9, 22, 6, 45)],\n [35,\n  'SI03422.Chn',\n  4097,\n  -2,\n  215,\n  2186,\n  9,\n  546337,\n  datetime.datetime(2022, 5, 9, 22, 6, 45)],\n [35,\n  'SI03422.Chn',\n  4097,\n  -2,\n  215,\n  128,\n  10,\n  546337,\n  datetime.datetime(2022, 5, 9, 22, 6, 45)],\n [35,\n  'SI03422.Chn',\n  4097,\n  -2,\n  215,\n  1926,\n  11,\n  546337,\n  datetime.datetime(2022, 5, 9, 22, 6, 45)],\n [35,\n  'SI03422.Chn',\n  4097,\n  -2,\n  215,\n  28,\n  12,\n  546337,\n  datetime.datetime(2022, 5, 9, 22, 6, 45)],\n [36,\n  'SI04422.Chn',\n  4095,\n  0,\n  206,\n  207,\n  0,\n  529046,\n  datetime.datetime(2022, 6, 14, 17, 32)],\n [36,\n  'SI04422.Chn',\n  4095,\n  0,\n  206,\n  218,\n  1,\n  529046,\n  datetime.datetime(2022, 6, 14, 17, 32)],\n [36,\n  'SI04422.Chn',\n  4095,\n  0,\n  206,\n  146,\n  2,\n  529046,\n  datetime.datetime(2022, 6, 14, 17, 32)],\n [36,\n  'SI04422.Chn',\n  4095,\n  0,\n  206,\n  223,\n  3,\n  529046,\n  datetime.datetime(2022, 6, 14, 17, 32)],\n [36,\n  'SI04422.Chn',\n  4095,\n  0,\n  206,\n  839,\n  4,\n  529046,\n  datetime.datetime(2022, 6, 14, 17, 32)],\n [36,\n  'SI04422.Chn',\n  4095,\n  0,\n  206,\n  2394,\n  5,\n  529046,\n  datetime.datetime(2022, 6, 14, 17, 32)],\n [36,\n  'SI04422.Chn',\n  4095,\n  0,\n  206,\n  1330,\n  6,\n  529046,\n  datetime.datetime(2022, 6, 14, 17, 32)],\n [36,\n  'SI04422.Chn',\n  4095,\n  0,\n  206,\n  234,\n  7,\n  529046,\n  datetime.datetime(2022, 6, 14, 17, 32)],\n [36,\n  'SI04422.Chn',\n  4095,\n  0,\n  206,\n  122,\n  8,\n  529046,\n  datetime.datetime(2022, 6, 14, 17, 32)],\n [36,\n  'SI04422.Chn',\n  4095,\n  0,\n  206,\n  142,\n  9,\n  529046,\n  datetime.datetime(2022, 6, 14, 17, 32)],\n [36,\n  'SI04422.Chn',\n  4095,\n  0,\n  206,\n  2184,\n  10,\n  529046,\n  datetime.datetime(2022, 6, 14, 17, 32)],\n [36,\n  'SI04422.Chn',\n  4095,\n  0,\n  206,\n  126,\n  11,\n  529046,\n  datetime.datetime(2022, 6, 14, 17, 32)],\n [36,\n  'SI04422.Chn',\n  4095,\n  0,\n  206,\n  1923,\n  12,\n  529046,\n  datetime.datetime(2022, 6, 14, 17, 32)],\n [37,\n  'SI03722.Chn',\n  4096,\n  -1,\n  222,\n  148,\n  0,\n  588242,\n  datetime.datetime(2022, 5, 24, 19, 47, 1)],\n [37,\n  'SI03722.Chn',\n  4096,\n  -1,\n  222,\n  239,\n  1,\n  588242,\n  datetime.datetime(2022, 5, 24, 19, 47, 1)],\n [37,\n  'SI03722.Chn',\n  4096,\n  -1,\n  222,\n  2396,\n  2,\n  588242,\n  datetime.datetime(2022, 5, 24, 19, 47, 1)],\n [37,\n  'SI03722.Chn',\n  4096,\n  -1,\n  222,\n  225,\n  3,\n  588242,\n  datetime.datetime(2022, 5, 24, 19, 47, 1)],\n [37,\n  'SI03722.Chn',\n  4096,\n  -1,\n  222,\n  1331,\n  4,\n  588242,\n  datetime.datetime(2022, 5, 24, 19, 47, 1)],\n [37,\n  'SI03722.Chn',\n  4096,\n  -1,\n  222,\n  841,\n  5,\n  588242,\n  datetime.datetime(2022, 5, 24, 19, 47, 1)],\n [37,\n  'SI03722.Chn',\n  4096,\n  -1,\n  222,\n  2244,\n  6,\n  588242,\n  datetime.datetime(2022, 5, 24, 19, 47, 1)],\n [37,\n  'SI03722.Chn',\n  4096,\n  -1,\n  222,\n  143,\n  7,\n  588242,\n  datetime.datetime(2022, 5, 24, 19, 47, 1)],\n [37,\n  'SI03722.Chn',\n  4096,\n  -1,\n  222,\n  234,\n  8,\n  588242,\n  datetime.datetime(2022, 5, 24, 19, 47, 1)],\n [37,\n  'SI03722.Chn',\n  4096,\n  -1,\n  222,\n  123,\n  9,\n  588242,\n  datetime.datetime(2022, 5, 24, 19, 47, 1)],\n [37,\n  'SI03722.Chn',\n  4096,\n  -1,\n  222,\n  127,\n  10,\n  588242,\n  datetime.datetime(2022, 5, 24, 19, 47, 1)],\n [37,\n  'SI03722.Chn',\n  4096,\n  -1,\n  222,\n  2185,\n  11,\n  588242,\n  datetime.datetime(2022, 5, 24, 19, 47, 1)],\n [37,\n  'SI03722.Chn',\n  4096,\n  -1,\n  222,\n  1924,\n  12,\n  588242,\n  datetime.datetime(2022, 5, 24, 19, 47, 1)],\n [38,\n  'SI05622.Chn',\n  4098,\n  -3,\n  199,\n  310,\n  0,\n  492792,\n  datetime.datetime(2022, 7, 20, 21, 17, 6)],\n [38,\n  'SI05622.Chn',\n  4098,\n  -3,\n  199,\n  227,\n  1,\n  492792,\n  datetime.datetime(2022, 7, 20, 21, 17, 6)],\n [38,\n  'SI05622.Chn',\n  4098,\n  -3,\n  199,\n  241,\n  2,\n  492792,\n  datetime.datetime(2022, 7, 20, 21, 17, 6)],\n [38,\n  'SI05622.Chn',\n  4098,\n  -3,\n  199,\n  235,\n  3,\n  492792,\n  datetime.datetime(2022, 7, 20, 21, 17, 6)],\n [38,\n  'SI05622.Chn',\n  4098,\n  -3,\n  199,\n  842,\n  4,\n  492792,\n  datetime.datetime(2022, 7, 20, 21, 17, 6)],\n [38,\n  'SI05622.Chn',\n  4098,\n  -3,\n  199,\n  1333,\n  5,\n  492792,\n  datetime.datetime(2022, 7, 20, 21, 17, 6)],\n [38,\n  'SI05622.Chn',\n  4098,\n  -3,\n  199,\n  2397,\n  6,\n  492792,\n  datetime.datetime(2022, 7, 20, 21, 17, 6)],\n [38,\n  'SI05622.Chn',\n  4098,\n  -3,\n  199,\n  29,\n  7,\n  492792,\n  datetime.datetime(2022, 7, 20, 21, 17, 6)],\n [38,\n  'SI05622.Chn',\n  4098,\n  -3,\n  199,\n  145,\n  8,\n  492792,\n  datetime.datetime(2022, 7, 20, 21, 17, 6)],\n [38,\n  'SI05622.Chn',\n  4098,\n  -3,\n  199,\n  125,\n  9,\n  492792,\n  datetime.datetime(2022, 7, 20, 21, 17, 6)],\n [38,\n  'SI05622.Chn',\n  4098,\n  -3,\n  199,\n  2187,\n  10,\n  492792,\n  datetime.datetime(2022, 7, 20, 21, 17, 6)],\n [38,\n  'SI05622.Chn',\n  4098,\n  -3,\n  199,\n  129,\n  11,\n  492792,\n  datetime.datetime(2022, 7, 20, 21, 17, 6)],\n [38,\n  'SI05622.Chn',\n  4098,\n  -3,\n  199,\n  1926,\n  12,\n  492792,\n  datetime.datetime(2022, 7, 20, 21, 17, 6)],\n [39,\n  'SI02922.Chn',\n  4094,\n  1,\n  14,\n  839,\n  0,\n  41108,\n  datetime.datetime(2022, 4, 14, 11, 12, 15)],\n [39,\n  'SI02922.Chn',\n  4094,\n  1,\n  14,\n  27,\n  1,\n  41108,\n  datetime.datetime(2022, 4, 14, 11, 12, 15)],\n [39,\n  'SI02922.Chn',\n  4094,\n  1,\n  14,\n  393,\n  2,\n  41108,\n  datetime.datetime(2022, 4, 14, 11, 12, 15)],\n [39,\n  'SI02922.Chn',\n  4094,\n  1,\n  14,\n  323,\n  3,\n  41108,\n  datetime.datetime(2022, 4, 14, 11, 12, 15)],\n [39,\n  'SI02922.Chn',\n  4094,\n  1,\n  14,\n  284,\n  4,\n  41108,\n  datetime.datetime(2022, 4, 14, 11, 12, 15)],\n [39,\n  'SI02922.Chn',\n  4094,\n  1,\n  14,\n  260,\n  5,\n  41108,\n  datetime.datetime(2022, 4, 14, 11, 12, 15)],\n [39,\n  'SI02922.Chn',\n  4094,\n  1,\n  14,\n  133,\n  6,\n  41108,\n  datetime.datetime(2022, 4, 14, 11, 12, 15)],\n [39,\n  'SI02922.Chn',\n  4094,\n  1,\n  14,\n  196,\n  7,\n  41108,\n  datetime.datetime(2022, 4, 14, 11, 12, 15)],\n [39,\n  'SI02922.Chn',\n  4094,\n  1,\n  14,\n  140,\n  8,\n  41108,\n  datetime.datetime(2022, 4, 14, 11, 12, 15)],\n [39,\n  'SI02922.Chn',\n  4094,\n  1,\n  14,\n  300,\n  9,\n  41108,\n  datetime.datetime(2022, 4, 14, 11, 12, 15)],\n [39,\n  'SI02922.Chn',\n  4094,\n  1,\n  14,\n  2394,\n  10,\n  41108,\n  datetime.datetime(2022, 4, 14, 11, 12, 15)],\n [39,\n  'SI02922.Chn',\n  4094,\n  1,\n  14,\n  125,\n  11,\n  41108,\n  datetime.datetime(2022, 4, 14, 11, 12, 15)],\n [39,\n  'SI02922.Chn',\n  4094,\n  1,\n  14,\n  599,\n  12,\n  41108,\n  datetime.datetime(2022, 4, 14, 11, 12, 15)],\n [40,\n  'SI07722.Chn',\n  4103,\n  -8,\n  213,\n  46,\n  0,\n  517142,\n  datetime.datetime(2022, 9, 28, 19, 52, 28)],\n [40,\n  'SI07722.Chn',\n  4103,\n  -8,\n  213,\n  314,\n  1,\n  517142,\n  datetime.datetime(2022, 9, 28, 19, 52, 28)],\n [40,\n  'SI07722.Chn',\n  4103,\n  -8,\n  213,\n  401,\n  2,\n  517142,\n  datetime.datetime(2022, 9, 28, 19, 52, 28)],\n [40,\n  'SI07722.Chn',\n  4103,\n  -8,\n  213,\n  153,\n  3,\n  517142,\n  datetime.datetime(2022, 9, 28, 19, 52, 28)],\n [40,\n  'SI07722.Chn',\n  4103,\n  -8,\n  213,\n  240,\n  4,\n  517142,\n  datetime.datetime(2022, 9, 28, 19, 52, 28)],\n [40,\n  'SI07722.Chn',\n  4103,\n  -8,\n  213,\n  847,\n  5,\n  517142,\n  datetime.datetime(2022, 9, 28, 19, 52, 28)],\n [40,\n  'SI07722.Chn',\n  4103,\n  -8,\n  213,\n  2403,\n  6,\n  517142,\n  datetime.datetime(2022, 9, 28, 19, 52, 28)],\n [40,\n  'SI07722.Chn',\n  4103,\n  -8,\n  213,\n  1338,\n  7,\n  517142,\n  datetime.datetime(2022, 9, 28, 19, 52, 28)],\n [40,\n  'SI07722.Chn',\n  4103,\n  -8,\n  213,\n  129,\n  8,\n  517142,\n  datetime.datetime(2022, 9, 28, 19, 52, 28)],\n [40,\n  'SI07722.Chn',\n  4103,\n  -8,\n  213,\n  149,\n  9,\n  517142,\n  datetime.datetime(2022, 9, 28, 19, 52, 28)],\n [40,\n  'SI07722.Chn',\n  4103,\n  -8,\n  213,\n  2192,\n  10,\n  517142,\n  datetime.datetime(2022, 9, 28, 19, 52, 28)],\n [40,\n  'SI07722.Chn',\n  4103,\n  -8,\n  213,\n  1932,\n  11,\n  517142,\n  datetime.datetime(2022, 9, 28, 19, 52, 28)],\n [40,\n  'SI07722.Chn',\n  4103,\n  -8,\n  213,\n  133,\n  12,\n  517142,\n  datetime.datetime(2022, 9, 28, 19, 52, 28)],\n [41,\n  'SI03522.Chn',\n  4097,\n  -2,\n  199,\n  309,\n  0,\n  560805,\n  datetime.datetime(2022, 5, 17, 22, 22, 21)],\n [41,\n  'SI03522.Chn',\n  4097,\n  -2,\n  199,\n  252,\n  1,\n  560805,\n  datetime.datetime(2022, 5, 17, 22, 22, 21)],\n [41,\n  'SI03522.Chn',\n  4097,\n  -2,\n  199,\n  215,\n  2,\n  560805,\n  datetime.datetime(2022, 5, 17, 22, 22, 21)],\n [41,\n  'SI03522.Chn',\n  4097,\n  -2,\n  199,\n  41,\n  3,\n  560805,\n  datetime.datetime(2022, 5, 17, 22, 22, 21)],\n [41,\n  'SI03522.Chn',\n  4097,\n  -2,\n  199,\n  2396,\n  4,\n  560805,\n  datetime.datetime(2022, 5, 17, 22, 22, 21)],\n [41,\n  'SI03522.Chn',\n  4097,\n  -2,\n  199,\n  841,\n  5,\n  560805,\n  datetime.datetime(2022, 5, 17, 22, 22, 21)],\n [41,\n  'SI03522.Chn',\n  4097,\n  -2,\n  199,\n  236,\n  6,\n  560805,\n  datetime.datetime(2022, 5, 17, 22, 22, 21)],\n [41,\n  'SI03522.Chn',\n  4097,\n  -2,\n  199,\n  1332,\n  7,\n  560805,\n  datetime.datetime(2022, 5, 17, 22, 22, 21)],\n [41,\n  'SI03522.Chn',\n  4097,\n  -2,\n  199,\n  125,\n  8,\n  560805,\n  datetime.datetime(2022, 5, 17, 22, 22, 21)],\n [41,\n  'SI03522.Chn',\n  4097,\n  -2,\n  199,\n  144,\n  9,\n  560805,\n  datetime.datetime(2022, 5, 17, 22, 22, 21)],\n [41,\n  'SI03522.Chn',\n  4097,\n  -2,\n  199,\n  128,\n  10,\n  560805,\n  datetime.datetime(2022, 5, 17, 22, 22, 21)],\n [41,\n  'SI03522.Chn',\n  4097,\n  -2,\n  199,\n  2186,\n  11,\n  560805,\n  datetime.datetime(2022, 5, 17, 22, 22, 21)],\n [41,\n  'SI03522.Chn',\n  4097,\n  -2,\n  199,\n  1925,\n  12,\n  560805,\n  datetime.datetime(2022, 5, 17, 22, 22, 21)],\n [42,\n  'SI05122.Chn',\n  4095,\n  0,\n  208,\n  225,\n  0,\n  524163,\n  datetime.datetime(2022, 6, 29, 17, 38, 47)],\n [42,\n  'SI05122.Chn',\n  4095,\n  0,\n  208,\n  241,\n  1,\n  524163,\n  datetime.datetime(2022, 6, 29, 17, 38, 47)],\n [42,\n  'SI05122.Chn',\n  4095,\n  0,\n  208,\n  223,\n  2,\n  524163,\n  datetime.datetime(2022, 6, 29, 17, 38, 47)],\n [42,\n  'SI05122.Chn',\n  4095,\n  0,\n  208,\n  263,\n  3,\n  524163,\n  datetime.datetime(2022, 6, 29, 17, 38, 47)],\n [42,\n  'SI05122.Chn',\n  4095,\n  0,\n  208,\n  233,\n  4,\n  524163,\n  datetime.datetime(2022, 6, 29, 17, 38, 47)],\n [42,\n  'SI05122.Chn',\n  4095,\n  0,\n  208,\n  2394,\n  5,\n  524163,\n  datetime.datetime(2022, 6, 29, 17, 38, 47)],\n [42,\n  'SI05122.Chn',\n  4095,\n  0,\n  208,\n  839,\n  6,\n  524163,\n  datetime.datetime(2022, 6, 29, 17, 38, 47)],\n [42,\n  'SI05122.Chn',\n  4095,\n  0,\n  208,\n  1330,\n  7,\n  524163,\n  datetime.datetime(2022, 6, 29, 17, 38, 47)],\n [42,\n  'SI05122.Chn',\n  4095,\n  0,\n  208,\n  122,\n  8,\n  524163,\n  datetime.datetime(2022, 6, 29, 17, 38, 47)],\n [42,\n  'SI05122.Chn',\n  4095,\n  0,\n  208,\n  142,\n  9,\n  524163,\n  datetime.datetime(2022, 6, 29, 17, 38, 47)],\n [42,\n  'SI05122.Chn',\n  4095,\n  0,\n  208,\n  126,\n  10,\n  524163,\n  datetime.datetime(2022, 6, 29, 17, 38, 47)],\n [42,\n  'SI05122.Chn',\n  4095,\n  0,\n  208,\n  2184,\n  11,\n  524163,\n  datetime.datetime(2022, 6, 29, 17, 38, 47)],\n [42,\n  'SI05122.Chn',\n  4095,\n  0,\n  208,\n  1923,\n  12,\n  524163,\n  datetime.datetime(2022, 6, 29, 17, 38, 47)],\n [43,\n  'SI06722.Chn',\n  4097,\n  -2,\n  212,\n  148,\n  0,\n  528693,\n  datetime.datetime(2022, 8, 16, 18, 18, 17)],\n [43,\n  'SI06722.Chn',\n  4097,\n  -2,\n  212,\n  217,\n  1,\n  528693,\n  datetime.datetime(2022, 8, 16, 18, 18, 17)],\n [43,\n  'SI06722.Chn',\n  4097,\n  -2,\n  212,\n  224,\n  2,\n  528693,\n  datetime.datetime(2022, 8, 16, 18, 18, 17)],\n [43,\n  'SI06722.Chn',\n  4097,\n  -2,\n  212,\n  1332,\n  3,\n  528693,\n  datetime.datetime(2022, 8, 16, 18, 18, 17)],\n [43,\n  'SI06722.Chn',\n  4097,\n  -2,\n  212,\n  842,\n  4,\n  528693,\n  datetime.datetime(2022, 8, 16, 18, 18, 17)],\n [43,\n  'SI06722.Chn',\n  4097,\n  -2,\n  212,\n  2397,\n  5,\n  528693,\n  datetime.datetime(2022, 8, 16, 18, 18, 17)],\n [43,\n  'SI06722.Chn',\n  4097,\n  -2,\n  212,\n  235,\n  6,\n  528693,\n  datetime.datetime(2022, 8, 16, 18, 18, 17)],\n [43,\n  'SI06722.Chn',\n  4097,\n  -2,\n  212,\n  124,\n  7,\n  528693,\n  datetime.datetime(2022, 8, 16, 18, 18, 17)],\n [43,\n  'SI06722.Chn',\n  4097,\n  -2,\n  212,\n  144,\n  8,\n  528693,\n  datetime.datetime(2022, 8, 16, 18, 18, 17)],\n [43,\n  'SI06722.Chn',\n  4097,\n  -2,\n  212,\n  27,\n  9,\n  528693,\n  datetime.datetime(2022, 8, 16, 18, 18, 17)],\n [43,\n  'SI06722.Chn',\n  4097,\n  -2,\n  212,\n  2187,\n  10,\n  528693,\n  datetime.datetime(2022, 8, 16, 18, 18, 17)],\n [43,\n  'SI06722.Chn',\n  4097,\n  -2,\n  212,\n  1926,\n  11,\n  528693,\n  datetime.datetime(2022, 8, 16, 18, 18, 17)],\n [43,\n  'SI06722.Chn',\n  4097,\n  -2,\n  212,\n  128,\n  12,\n  528693,\n  datetime.datetime(2022, 8, 16, 18, 18, 17)],\n [44,\n  'SI06322.Chn',\n  4098,\n  -3,\n  193,\n  149,\n  0,\n  533890,\n  datetime.datetime(2022, 8, 4, 19, 42, 23)],\n [44,\n  'SI06322.Chn',\n  4098,\n  -3,\n  193,\n  241,\n  1,\n  533890,\n  datetime.datetime(2022, 8, 4, 19, 42, 23)],\n [44,\n  'SI06322.Chn',\n  4098,\n  -3,\n  193,\n  235,\n  2,\n  533890,\n  datetime.datetime(2022, 8, 4, 19, 42, 23)],\n [44,\n  'SI06322.Chn',\n  4098,\n  -3,\n  193,\n  1082,\n  3,\n  533890,\n  datetime.datetime(2022, 8, 4, 19, 42, 23)],\n [44,\n  'SI06322.Chn',\n  4098,\n  -3,\n  193,\n  1333,\n  4,\n  533890,\n  datetime.datetime(2022, 8, 4, 19, 42, 23)],\n [44,\n  'SI06322.Chn',\n  4098,\n  -3,\n  193,\n  2398,\n  5,\n  533890,\n  datetime.datetime(2022, 8, 4, 19, 42, 23)],\n [44,\n  'SI06322.Chn',\n  4098,\n  -3,\n  193,\n  842,\n  6,\n  533890,\n  datetime.datetime(2022, 8, 4, 19, 42, 23)],\n [44,\n  'SI06322.Chn',\n  4098,\n  -3,\n  193,\n  125,\n  7,\n  533890,\n  datetime.datetime(2022, 8, 4, 19, 42, 23)],\n [44,\n  'SI06322.Chn',\n  4098,\n  -3,\n  193,\n  144,\n  8,\n  533890,\n  datetime.datetime(2022, 8, 4, 19, 42, 23)],\n [44,\n  'SI06322.Chn',\n  4098,\n  -3,\n  193,\n  31,\n  9,\n  533890,\n  datetime.datetime(2022, 8, 4, 19, 42, 23)],\n [44,\n  'SI06322.Chn',\n  4098,\n  -3,\n  193,\n  2187,\n  10,\n  533890,\n  datetime.datetime(2022, 8, 4, 19, 42, 23)],\n [44,\n  'SI06322.Chn',\n  4098,\n  -3,\n  193,\n  128,\n  11,\n  533890,\n  datetime.datetime(2022, 8, 4, 19, 42, 23)],\n [44,\n  'SI06322.Chn',\n  4098,\n  -3,\n  193,\n  1926,\n  12,\n  533890,\n  datetime.datetime(2022, 8, 4, 19, 42, 23)],\n [45,\n  'SI07322.Chn',\n  4102,\n  -7,\n  213,\n  314,\n  0,\n  508632,\n  datetime.datetime(2022, 9, 13, 20, 18, 7)],\n [45,\n  'SI07322.Chn',\n  4102,\n  -7,\n  213,\n  222,\n  1,\n  508632,\n  datetime.datetime(2022, 9, 13, 20, 18, 7)],\n [45,\n  'SI07322.Chn',\n  4102,\n  -7,\n  213,\n  1337,\n  2,\n  508632,\n  datetime.datetime(2022, 9, 13, 20, 18, 7)],\n [45,\n  'SI07322.Chn',\n  4102,\n  -7,\n  213,\n  229,\n  3,\n  508632,\n  datetime.datetime(2022, 9, 13, 20, 18, 7)],\n [45,\n  'SI07322.Chn',\n  4102,\n  -7,\n  213,\n  153,\n  4,\n  508632,\n  datetime.datetime(2022, 9, 13, 20, 18, 7)],\n [45,\n  'SI07322.Chn',\n  4102,\n  -7,\n  213,\n  846,\n  5,\n  508632,\n  datetime.datetime(2022, 9, 13, 20, 18, 7)],\n [45,\n  'SI07322.Chn',\n  4102,\n  -7,\n  213,\n  240,\n  6,\n  508632,\n  datetime.datetime(2022, 9, 13, 20, 18, 7)],\n [45,\n  'SI07322.Chn',\n  4102,\n  -7,\n  213,\n  2401,\n  7,\n  508632,\n  datetime.datetime(2022, 9, 13, 20, 18, 7)],\n [45,\n  'SI07322.Chn',\n  4102,\n  -7,\n  213,\n  148,\n  8,\n  508632,\n  datetime.datetime(2022, 9, 13, 20, 18, 7)],\n [45,\n  'SI07322.Chn',\n  4102,\n  -7,\n  213,\n  129,\n  9,\n  508632,\n  datetime.datetime(2022, 9, 13, 20, 18, 7)],\n [45,\n  'SI07322.Chn',\n  4102,\n  -7,\n  213,\n  2191,\n  10,\n  508632,\n  datetime.datetime(2022, 9, 13, 20, 18, 7)],\n [45,\n  'SI07322.Chn',\n  4102,\n  -7,\n  213,\n  1930,\n  11,\n  508632,\n  datetime.datetime(2022, 9, 13, 20, 18, 7)],\n [45,\n  'SI07322.Chn',\n  4102,\n  -7,\n  213,\n  132,\n  12,\n  508632,\n  datetime.datetime(2022, 9, 13, 20, 18, 7)],\n [46,\n  'SI03122.Chn',\n  4098,\n  -3,\n  193,\n  251,\n  0,\n  492151,\n  datetime.datetime(2022, 4, 27, 21, 35, 32)],\n [46,\n  'SI03122.Chn',\n  4098,\n  -3,\n  193,\n  207,\n  1,\n  492151,\n  datetime.datetime(2022, 4, 27, 21, 35, 32)],\n [46,\n  'SI03122.Chn',\n  4098,\n  -3,\n  193,\n  256,\n  2,\n  492151,\n  datetime.datetime(2022, 4, 27, 21, 35, 32)],\n [46,\n  'SI03122.Chn',\n  4098,\n  -3,\n  193,\n  842,\n  3,\n  492151,\n  datetime.datetime(2022, 4, 27, 21, 35, 32)],\n [46,\n  'SI03122.Chn',\n  4098,\n  -3,\n  193,\n  244,\n  4,\n  492151,\n  datetime.datetime(2022, 4, 27, 21, 35, 32)],\n [46,\n  'SI03122.Chn',\n  4098,\n  -3,\n  193,\n  229,\n  5,\n  492151,\n  datetime.datetime(2022, 4, 27, 21, 35, 32)],\n [46,\n  'SI03122.Chn',\n  4098,\n  -3,\n  193,\n  235,\n  6,\n  492151,\n  datetime.datetime(2022, 4, 27, 21, 35, 32)],\n [46,\n  'SI03122.Chn',\n  4098,\n  -3,\n  193,\n  2397,\n  7,\n  492151,\n  datetime.datetime(2022, 4, 27, 21, 35, 32)],\n [46,\n  'SI03122.Chn',\n  4098,\n  -3,\n  193,\n  2187,\n  8,\n  492151,\n  datetime.datetime(2022, 4, 27, 21, 35, 32)],\n [46,\n  'SI03122.Chn',\n  4098,\n  -3,\n  193,\n  125,\n  9,\n  492151,\n  datetime.datetime(2022, 4, 27, 21, 35, 32)],\n [46,\n  'SI03122.Chn',\n  4098,\n  -3,\n  193,\n  145,\n  10,\n  492151,\n  datetime.datetime(2022, 4, 27, 21, 35, 32)],\n [46,\n  'SI03122.Chn',\n  4098,\n  -3,\n  193,\n  1926,\n  11,\n  492151,\n  datetime.datetime(2022, 4, 27, 21, 35, 32)],\n [46,\n  'SI03122.Chn',\n  4098,\n  -3,\n  193,\n  129,\n  12,\n  492151,\n  datetime.datetime(2022, 4, 27, 21, 35, 32)],\n [47,\n  'SI01922.Chn',\n  4095,\n  0,\n  191,\n  223,\n  0,\n  484628,\n  datetime.datetime(2022, 3, 31, 20, 16, 36)],\n [47,\n  'SI01922.Chn',\n  4095,\n  0,\n  191,\n  213,\n  1,\n  484628,\n  datetime.datetime(2022, 3, 31, 20, 16, 36)],\n [47,\n  'SI01922.Chn',\n  4095,\n  0,\n  191,\n  248,\n  2,\n  484628,\n  datetime.datetime(2022, 3, 31, 20, 16, 36)],\n [47,\n  'SI01922.Chn',\n  4095,\n  0,\n  191,\n  231,\n  3,\n  484628,\n  datetime.datetime(2022, 3, 31, 20, 16, 36)],\n [47,\n  'SI01922.Chn',\n  4095,\n  0,\n  191,\n  257,\n  4,\n  484628,\n  datetime.datetime(2022, 3, 31, 20, 16, 36)],\n [47,\n  'SI01922.Chn',\n  4095,\n  0,\n  191,\n  306,\n  5,\n  484628,\n  datetime.datetime(2022, 3, 31, 20, 16, 36)],\n [47,\n  'SI01922.Chn',\n  4095,\n  0,\n  191,\n  1079,\n  6,\n  484628,\n  datetime.datetime(2022, 3, 31, 20, 16, 36)],\n [47,\n  'SI01922.Chn',\n  4095,\n  0,\n  191,\n  2185,\n  7,\n  484628,\n  datetime.datetime(2022, 3, 31, 20, 16, 36)],\n [47,\n  'SI01922.Chn',\n  4095,\n  0,\n  191,\n  2395,\n  8,\n  484628,\n  datetime.datetime(2022, 3, 31, 20, 16, 36)],\n [47,\n  'SI01922.Chn',\n  4095,\n  0,\n  191,\n  122,\n  9,\n  484628,\n  datetime.datetime(2022, 3, 31, 20, 16, 36)],\n [47,\n  'SI01922.Chn',\n  4095,\n  0,\n  191,\n  142,\n  10,\n  484628,\n  datetime.datetime(2022, 3, 31, 20, 16, 36)],\n [47,\n  'SI01922.Chn',\n  4095,\n  0,\n  191,\n  1924,\n  11,\n  484628,\n  datetime.datetime(2022, 3, 31, 20, 16, 36)],\n [47,\n  'SI01922.Chn',\n  4095,\n  0,\n  191,\n  125,\n  12,\n  484628,\n  datetime.datetime(2022, 3, 31, 20, 16, 36)],\n [48,\n  'BGTESTE.Chn',\n  4103,\n  -8,\n  153,\n  219,\n  0,\n  410833,\n  datetime.datetime(2022, 10, 31, 11, 10, 25)],\n [48,\n  'BGTESTE.Chn',\n  4103,\n  -8,\n  153,\n  314,\n  1,\n  410833,\n  datetime.datetime(2022, 10, 31, 11, 10, 25)],\n [48,\n  'BGTESTE.Chn',\n  4103,\n  -8,\n  153,\n  272,\n  2,\n  410833,\n  datetime.datetime(2022, 10, 31, 11, 10, 25)],\n [48,\n  'BGTESTE.Chn',\n  4103,\n  -8,\n  153,\n  401,\n  3,\n  410833,\n  datetime.datetime(2022, 10, 31, 11, 10, 25)],\n [48,\n  'BGTESTE.Chn',\n  4103,\n  -8,\n  153,\n  243,\n  4,\n  410833,\n  datetime.datetime(2022, 10, 31, 11, 10, 25)],\n [48,\n  'BGTESTE.Chn',\n  4103,\n  -8,\n  153,\n  265,\n  5,\n  410833,\n  datetime.datetime(2022, 10, 31, 11, 10, 25)],\n [48,\n  'BGTESTE.Chn',\n  4103,\n  -8,\n  153,\n  262,\n  6,\n  410833,\n  datetime.datetime(2022, 10, 31, 11, 10, 25)],\n [48,\n  'BGTESTE.Chn',\n  4103,\n  -8,\n  153,\n  240,\n  7,\n  410833,\n  datetime.datetime(2022, 10, 31, 11, 10, 25)],\n [48,\n  'BGTESTE.Chn',\n  4103,\n  -8,\n  153,\n  153,\n  8,\n  410833,\n  datetime.datetime(2022, 10, 31, 11, 10, 25)],\n [48,\n  'BGTESTE.Chn',\n  4103,\n  -8,\n  153,\n  129,\n  9,\n  410833,\n  datetime.datetime(2022, 10, 31, 11, 10, 25)],\n [48,\n  'BGTESTE.Chn',\n  4103,\n  -8,\n  153,\n  2403,\n  10,\n  410833,\n  datetime.datetime(2022, 10, 31, 11, 10, 25)],\n [48,\n  'BGTESTE.Chn',\n  4103,\n  -8,\n  153,\n  149,\n  11,\n  410833,\n  datetime.datetime(2022, 10, 31, 11, 10, 25)],\n [48,\n  'BGTESTE.Chn',\n  4103,\n  -8,\n  153,\n  133,\n  12,\n  410833,\n  datetime.datetime(2022, 10, 31, 11, 10, 25)]]"
     },
     "execution_count": 39,
     "metadata": {},
     "output_type": "execute_result"
    }
   ],
   "source": [
    "lista_mix"
   ],
   "metadata": {
    "collapsed": false,
    "ExecuteTime": {
     "end_time": "2023-04-30T14:58:39.307356665Z",
     "start_time": "2023-04-30T14:58:38.870074443Z"
    }
   }
  },
  {
   "cell_type": "code",
   "execution_count": 39,
   "id": "6e7a8562",
   "metadata": {
    "ExecuteTime": {
     "end_time": "2023-04-30T14:58:39.409446321Z",
     "start_time": "2023-04-30T14:58:39.286425785Z"
    }
   },
   "outputs": [],
   "source": []
  },
  {
   "cell_type": "code",
   "execution_count": 40,
   "id": "2b6954ac",
   "metadata": {
    "ExecuteTime": {
     "end_time": "2023-04-30T14:58:39.548392938Z",
     "start_time": "2023-04-30T14:58:39.312462633Z"
    }
   },
   "outputs": [
    {
     "data": {
      "text/plain": "     i_n         j_sp  max_arg  drift  n_pks    pk  rank  cts_tot  \\\n0      0  SI02622.Chn     4094      1     20   254     0    49377   \n1      0  SI02622.Chn     4094      1     20   839     1    49377   \n2      0  SI02622.Chn     4094      1     20   229     2    49377   \n3      0  SI02622.Chn     4094      1     20   231     3    49377   \n4      0  SI02622.Chn     4094      1     20   277     4    49377   \n..   ...          ...      ...    ...    ...   ...   ...      ...   \n620   48  BGTESTE.Chn     4103     -8    153   153     8   410833   \n621   48  BGTESTE.Chn     4103     -8    153   129     9   410833   \n622   48  BGTESTE.Chn     4103     -8    153  2403    10   410833   \n623   48  BGTESTE.Chn     4103     -8    153   149    11   410833   \n624   48  BGTESTE.Chn     4103     -8    153   133    12   410833   \n\n                   strt  \n0   2022-04-19 19:00:10  \n1   2022-04-19 19:00:10  \n2   2022-04-19 19:00:10  \n3   2022-04-19 19:00:10  \n4   2022-04-19 19:00:10  \n..                  ...  \n620 2022-10-31 11:10:25  \n621 2022-10-31 11:10:25  \n622 2022-10-31 11:10:25  \n623 2022-10-31 11:10:25  \n624 2022-10-31 11:10:25  \n\n[625 rows x 9 columns]",
      "text/html": "<div>\n<style scoped>\n    .dataframe tbody tr th:only-of-type {\n        vertical-align: middle;\n    }\n\n    .dataframe tbody tr th {\n        vertical-align: top;\n    }\n\n    .dataframe thead th {\n        text-align: right;\n    }\n</style>\n<table border=\"1\" class=\"dataframe\">\n  <thead>\n    <tr style=\"text-align: right;\">\n      <th></th>\n      <th>i_n</th>\n      <th>j_sp</th>\n      <th>max_arg</th>\n      <th>drift</th>\n      <th>n_pks</th>\n      <th>pk</th>\n      <th>rank</th>\n      <th>cts_tot</th>\n      <th>strt</th>\n    </tr>\n  </thead>\n  <tbody>\n    <tr>\n      <th>0</th>\n      <td>0</td>\n      <td>SI02622.Chn</td>\n      <td>4094</td>\n      <td>1</td>\n      <td>20</td>\n      <td>254</td>\n      <td>0</td>\n      <td>49377</td>\n      <td>2022-04-19 19:00:10</td>\n    </tr>\n    <tr>\n      <th>1</th>\n      <td>0</td>\n      <td>SI02622.Chn</td>\n      <td>4094</td>\n      <td>1</td>\n      <td>20</td>\n      <td>839</td>\n      <td>1</td>\n      <td>49377</td>\n      <td>2022-04-19 19:00:10</td>\n    </tr>\n    <tr>\n      <th>2</th>\n      <td>0</td>\n      <td>SI02622.Chn</td>\n      <td>4094</td>\n      <td>1</td>\n      <td>20</td>\n      <td>229</td>\n      <td>2</td>\n      <td>49377</td>\n      <td>2022-04-19 19:00:10</td>\n    </tr>\n    <tr>\n      <th>3</th>\n      <td>0</td>\n      <td>SI02622.Chn</td>\n      <td>4094</td>\n      <td>1</td>\n      <td>20</td>\n      <td>231</td>\n      <td>3</td>\n      <td>49377</td>\n      <td>2022-04-19 19:00:10</td>\n    </tr>\n    <tr>\n      <th>4</th>\n      <td>0</td>\n      <td>SI02622.Chn</td>\n      <td>4094</td>\n      <td>1</td>\n      <td>20</td>\n      <td>277</td>\n      <td>4</td>\n      <td>49377</td>\n      <td>2022-04-19 19:00:10</td>\n    </tr>\n    <tr>\n      <th>...</th>\n      <td>...</td>\n      <td>...</td>\n      <td>...</td>\n      <td>...</td>\n      <td>...</td>\n      <td>...</td>\n      <td>...</td>\n      <td>...</td>\n      <td>...</td>\n    </tr>\n    <tr>\n      <th>620</th>\n      <td>48</td>\n      <td>BGTESTE.Chn</td>\n      <td>4103</td>\n      <td>-8</td>\n      <td>153</td>\n      <td>153</td>\n      <td>8</td>\n      <td>410833</td>\n      <td>2022-10-31 11:10:25</td>\n    </tr>\n    <tr>\n      <th>621</th>\n      <td>48</td>\n      <td>BGTESTE.Chn</td>\n      <td>4103</td>\n      <td>-8</td>\n      <td>153</td>\n      <td>129</td>\n      <td>9</td>\n      <td>410833</td>\n      <td>2022-10-31 11:10:25</td>\n    </tr>\n    <tr>\n      <th>622</th>\n      <td>48</td>\n      <td>BGTESTE.Chn</td>\n      <td>4103</td>\n      <td>-8</td>\n      <td>153</td>\n      <td>2403</td>\n      <td>10</td>\n      <td>410833</td>\n      <td>2022-10-31 11:10:25</td>\n    </tr>\n    <tr>\n      <th>623</th>\n      <td>48</td>\n      <td>BGTESTE.Chn</td>\n      <td>4103</td>\n      <td>-8</td>\n      <td>153</td>\n      <td>149</td>\n      <td>11</td>\n      <td>410833</td>\n      <td>2022-10-31 11:10:25</td>\n    </tr>\n    <tr>\n      <th>624</th>\n      <td>48</td>\n      <td>BGTESTE.Chn</td>\n      <td>4103</td>\n      <td>-8</td>\n      <td>153</td>\n      <td>133</td>\n      <td>12</td>\n      <td>410833</td>\n      <td>2022-10-31 11:10:25</td>\n    </tr>\n  </tbody>\n</table>\n<p>625 rows × 9 columns</p>\n</div>"
     },
     "execution_count": 40,
     "metadata": {},
     "output_type": "execute_result"
    }
   ],
   "source": [
    "dataf_mix = pd.DataFrame(lista_mix,\n",
    "                         columns=['i_n', 'j_sp', 'max_arg', 'drift', 'n_pks', 'pk',\n",
    "                                  'rank', 'cts_tot', 'strt'])\n",
    "dataf_mix"
   ]
  },
  {
   "cell_type": "code",
   "execution_count": 40,
   "id": "5d160a43",
   "metadata": {
    "ExecuteTime": {
     "end_time": "2023-04-30T14:58:39.549142443Z",
     "start_time": "2023-04-30T14:58:39.488950466Z"
    }
   },
   "outputs": [],
   "source": []
  },
  {
   "cell_type": "code",
   "execution_count": 41,
   "id": "f5f46cda",
   "metadata": {
    "ExecuteTime": {
     "end_time": "2023-04-30T14:58:40.061329304Z",
     "start_time": "2023-04-30T14:58:39.512540396Z"
    }
   },
   "outputs": [],
   "source": [
    "# Plotar picos predominantes"
   ]
  },
  {
   "cell_type": "code",
   "execution_count": 42,
   "id": "63fc52de",
   "metadata": {
    "ExecuteTime": {
     "end_time": "2023-04-30T14:58:48.077845281Z",
     "start_time": "2023-04-30T14:58:40.032074425Z"
    }
   },
   "outputs": [
    {
     "data": {
      "text/plain": "     i_n         j_sp  max_arg  drift  n_pks    pk  rank  cts_tot  \\\n275   22  SI00822.Chn     4095      0    140   258     1   398225   \n282   22  SI00822.Chn     4095      0    140   225     8   398225   \n281   22  SI00822.Chn     4095      0    140   231     7   398225   \n280   22  SI00822.Chn     4095      0    140   236     6   398225   \n279   22  SI00822.Chn     4095      0    140   243     5   398225   \n..   ...          ...      ...    ...    ...   ...   ...      ...   \n400   31  SI09722.Chn     4110    -15    228  1344     9   563138   \n402   31  SI09722.Chn     4110    -15    228  2199    11   563138   \n403   31  SI09722.Chn     4110    -15    228  1938    12   563138   \n396   31  SI09722.Chn     4110    -15    228  2409     5   563138   \n401   31  SI09722.Chn     4110    -15    228   139    10   563138   \n\n                   strt  \n275 2022-02-23 19:10:04  \n282 2022-02-23 19:10:04  \n281 2022-02-23 19:10:04  \n280 2022-02-23 19:10:04  \n279 2022-02-23 19:10:04  \n..                  ...  \n400 2022-12-12 18:07:41  \n402 2022-12-12 18:07:41  \n403 2022-12-12 18:07:41  \n396 2022-12-12 18:07:41  \n401 2022-12-12 18:07:41  \n\n[625 rows x 9 columns]",
      "text/html": "<div>\n<style scoped>\n    .dataframe tbody tr th:only-of-type {\n        vertical-align: middle;\n    }\n\n    .dataframe tbody tr th {\n        vertical-align: top;\n    }\n\n    .dataframe thead th {\n        text-align: right;\n    }\n</style>\n<table border=\"1\" class=\"dataframe\">\n  <thead>\n    <tr style=\"text-align: right;\">\n      <th></th>\n      <th>i_n</th>\n      <th>j_sp</th>\n      <th>max_arg</th>\n      <th>drift</th>\n      <th>n_pks</th>\n      <th>pk</th>\n      <th>rank</th>\n      <th>cts_tot</th>\n      <th>strt</th>\n    </tr>\n  </thead>\n  <tbody>\n    <tr>\n      <th>275</th>\n      <td>22</td>\n      <td>SI00822.Chn</td>\n      <td>4095</td>\n      <td>0</td>\n      <td>140</td>\n      <td>258</td>\n      <td>1</td>\n      <td>398225</td>\n      <td>2022-02-23 19:10:04</td>\n    </tr>\n    <tr>\n      <th>282</th>\n      <td>22</td>\n      <td>SI00822.Chn</td>\n      <td>4095</td>\n      <td>0</td>\n      <td>140</td>\n      <td>225</td>\n      <td>8</td>\n      <td>398225</td>\n      <td>2022-02-23 19:10:04</td>\n    </tr>\n    <tr>\n      <th>281</th>\n      <td>22</td>\n      <td>SI00822.Chn</td>\n      <td>4095</td>\n      <td>0</td>\n      <td>140</td>\n      <td>231</td>\n      <td>7</td>\n      <td>398225</td>\n      <td>2022-02-23 19:10:04</td>\n    </tr>\n    <tr>\n      <th>280</th>\n      <td>22</td>\n      <td>SI00822.Chn</td>\n      <td>4095</td>\n      <td>0</td>\n      <td>140</td>\n      <td>236</td>\n      <td>6</td>\n      <td>398225</td>\n      <td>2022-02-23 19:10:04</td>\n    </tr>\n    <tr>\n      <th>279</th>\n      <td>22</td>\n      <td>SI00822.Chn</td>\n      <td>4095</td>\n      <td>0</td>\n      <td>140</td>\n      <td>243</td>\n      <td>5</td>\n      <td>398225</td>\n      <td>2022-02-23 19:10:04</td>\n    </tr>\n    <tr>\n      <th>...</th>\n      <td>...</td>\n      <td>...</td>\n      <td>...</td>\n      <td>...</td>\n      <td>...</td>\n      <td>...</td>\n      <td>...</td>\n      <td>...</td>\n      <td>...</td>\n    </tr>\n    <tr>\n      <th>400</th>\n      <td>31</td>\n      <td>SI09722.Chn</td>\n      <td>4110</td>\n      <td>-15</td>\n      <td>228</td>\n      <td>1344</td>\n      <td>9</td>\n      <td>563138</td>\n      <td>2022-12-12 18:07:41</td>\n    </tr>\n    <tr>\n      <th>402</th>\n      <td>31</td>\n      <td>SI09722.Chn</td>\n      <td>4110</td>\n      <td>-15</td>\n      <td>228</td>\n      <td>2199</td>\n      <td>11</td>\n      <td>563138</td>\n      <td>2022-12-12 18:07:41</td>\n    </tr>\n    <tr>\n      <th>403</th>\n      <td>31</td>\n      <td>SI09722.Chn</td>\n      <td>4110</td>\n      <td>-15</td>\n      <td>228</td>\n      <td>1938</td>\n      <td>12</td>\n      <td>563138</td>\n      <td>2022-12-12 18:07:41</td>\n    </tr>\n    <tr>\n      <th>396</th>\n      <td>31</td>\n      <td>SI09722.Chn</td>\n      <td>4110</td>\n      <td>-15</td>\n      <td>228</td>\n      <td>2409</td>\n      <td>5</td>\n      <td>563138</td>\n      <td>2022-12-12 18:07:41</td>\n    </tr>\n    <tr>\n      <th>401</th>\n      <td>31</td>\n      <td>SI09722.Chn</td>\n      <td>4110</td>\n      <td>-15</td>\n      <td>228</td>\n      <td>139</td>\n      <td>10</td>\n      <td>563138</td>\n      <td>2022-12-12 18:07:41</td>\n    </tr>\n  </tbody>\n</table>\n<p>625 rows × 9 columns</p>\n</div>"
     },
     "execution_count": 42,
     "metadata": {},
     "output_type": "execute_result"
    }
   ],
   "source": [
    "spec_by_date = dataf_mix.sort_values(by='strt')\n",
    "spec_by_date"
   ]
  },
  {
   "cell_type": "code",
   "execution_count": 43,
   "id": "60f44d94",
   "metadata": {
    "ExecuteTime": {
     "end_time": "2023-04-30T14:58:55.317896355Z",
     "start_time": "2023-04-30T14:58:46.637223433Z"
    }
   },
   "outputs": [
    {
     "ename": "ValueError",
     "evalue": "All arguments should have the same length. The length of argument `y` is 1, whereas the length of  previously-processed arguments ['strt'] is 625",
     "output_type": "error",
     "traceback": [
      "\u001B[0;31m---------------------------------------------------------------------------\u001B[0m",
      "\u001B[0;31mValueError\u001B[0m                                Traceback (most recent call last)",
      "Cell \u001B[0;32mIn [43], line 2\u001B[0m\n\u001B[1;32m      1\u001B[0m \u001B[38;5;66;03m# df = px.data.gapminder().query(\"continent=='Oceania'\")\u001B[39;00m\n\u001B[0;32m----> 2\u001B[0m fig \u001B[38;5;241m=\u001B[39m \u001B[43mpx\u001B[49m\u001B[38;5;241;43m.\u001B[39;49m\u001B[43mline\u001B[49m\u001B[43m(\u001B[49m\u001B[43mspec_by_date\u001B[49m\u001B[43m,\u001B[49m\u001B[43m \u001B[49m\u001B[43mx\u001B[49m\u001B[38;5;241;43m=\u001B[39;49m\u001B[38;5;124;43m\"\u001B[39;49m\u001B[38;5;124;43mstrt\u001B[39;49m\u001B[38;5;124;43m\"\u001B[39;49m\u001B[43m,\u001B[49m\u001B[43m \u001B[49m\u001B[43my\u001B[49m\u001B[38;5;241;43m=\u001B[39;49m\u001B[43m(\u001B[49m\u001B[43m[\u001B[49m\u001B[38;5;124;43m\"\u001B[39;49m\u001B[38;5;124;43mtall_1, tall_2\u001B[39;49m\u001B[38;5;124;43m\"\u001B[39;49m\u001B[43m]\u001B[49m\u001B[43m)\u001B[49m\u001B[43m)\u001B[49m\n\u001B[1;32m      3\u001B[0m \u001B[38;5;66;03m# , color='country')\u001B[39;00m\n\u001B[1;32m      4\u001B[0m fig\u001B[38;5;241m.\u001B[39mshow()\n",
      "File \u001B[0;32m~/ogrsp_in_github/venv/lib/python3.10/site-packages/plotly/express/_chart_types.py:264\u001B[0m, in \u001B[0;36mline\u001B[0;34m(data_frame, x, y, line_group, color, line_dash, symbol, hover_name, hover_data, custom_data, text, facet_row, facet_col, facet_col_wrap, facet_row_spacing, facet_col_spacing, error_x, error_x_minus, error_y, error_y_minus, animation_frame, animation_group, category_orders, labels, orientation, color_discrete_sequence, color_discrete_map, line_dash_sequence, line_dash_map, symbol_sequence, symbol_map, markers, log_x, log_y, range_x, range_y, line_shape, render_mode, title, template, width, height)\u001B[0m\n\u001B[1;32m    216\u001B[0m \u001B[38;5;28;01mdef\u001B[39;00m \u001B[38;5;21mline\u001B[39m(\n\u001B[1;32m    217\u001B[0m     data_frame\u001B[38;5;241m=\u001B[39m\u001B[38;5;28;01mNone\u001B[39;00m,\n\u001B[1;32m    218\u001B[0m     x\u001B[38;5;241m=\u001B[39m\u001B[38;5;28;01mNone\u001B[39;00m,\n\u001B[0;32m   (...)\u001B[0m\n\u001B[1;32m    258\u001B[0m     height\u001B[38;5;241m=\u001B[39m\u001B[38;5;28;01mNone\u001B[39;00m,\n\u001B[1;32m    259\u001B[0m ) \u001B[38;5;241m-\u001B[39m\u001B[38;5;241m>\u001B[39m go\u001B[38;5;241m.\u001B[39mFigure:\n\u001B[1;32m    260\u001B[0m     \u001B[38;5;124;03m\"\"\"\u001B[39;00m\n\u001B[1;32m    261\u001B[0m \u001B[38;5;124;03m    In a 2D line plot, each row of `data_frame` is represented as vertex of\u001B[39;00m\n\u001B[1;32m    262\u001B[0m \u001B[38;5;124;03m    a polyline mark in 2D space.\u001B[39;00m\n\u001B[1;32m    263\u001B[0m \u001B[38;5;124;03m    \"\"\"\u001B[39;00m\n\u001B[0;32m--> 264\u001B[0m     \u001B[38;5;28;01mreturn\u001B[39;00m \u001B[43mmake_figure\u001B[49m\u001B[43m(\u001B[49m\u001B[43margs\u001B[49m\u001B[38;5;241;43m=\u001B[39;49m\u001B[38;5;28;43mlocals\u001B[39;49m\u001B[43m(\u001B[49m\u001B[43m)\u001B[49m\u001B[43m,\u001B[49m\u001B[43m \u001B[49m\u001B[43mconstructor\u001B[49m\u001B[38;5;241;43m=\u001B[39;49m\u001B[43mgo\u001B[49m\u001B[38;5;241;43m.\u001B[39;49m\u001B[43mScatter\u001B[49m\u001B[43m)\u001B[49m\n",
      "File \u001B[0;32m~/ogrsp_in_github/venv/lib/python3.10/site-packages/plotly/express/_core.py:1990\u001B[0m, in \u001B[0;36mmake_figure\u001B[0;34m(args, constructor, trace_patch, layout_patch)\u001B[0m\n\u001B[1;32m   1987\u001B[0m layout_patch \u001B[38;5;241m=\u001B[39m layout_patch \u001B[38;5;129;01mor\u001B[39;00m {}\n\u001B[1;32m   1988\u001B[0m apply_default_cascade(args)\n\u001B[0;32m-> 1990\u001B[0m args \u001B[38;5;241m=\u001B[39m \u001B[43mbuild_dataframe\u001B[49m\u001B[43m(\u001B[49m\u001B[43margs\u001B[49m\u001B[43m,\u001B[49m\u001B[43m \u001B[49m\u001B[43mconstructor\u001B[49m\u001B[43m)\u001B[49m\n\u001B[1;32m   1991\u001B[0m \u001B[38;5;28;01mif\u001B[39;00m constructor \u001B[38;5;129;01min\u001B[39;00m [go\u001B[38;5;241m.\u001B[39mTreemap, go\u001B[38;5;241m.\u001B[39mSunburst, go\u001B[38;5;241m.\u001B[39mIcicle] \u001B[38;5;129;01mand\u001B[39;00m args[\u001B[38;5;124m\"\u001B[39m\u001B[38;5;124mpath\u001B[39m\u001B[38;5;124m\"\u001B[39m] \u001B[38;5;129;01mis\u001B[39;00m \u001B[38;5;129;01mnot\u001B[39;00m \u001B[38;5;28;01mNone\u001B[39;00m:\n\u001B[1;32m   1992\u001B[0m     args \u001B[38;5;241m=\u001B[39m process_dataframe_hierarchy(args)\n",
      "File \u001B[0;32m~/ogrsp_in_github/venv/lib/python3.10/site-packages/plotly/express/_core.py:1405\u001B[0m, in \u001B[0;36mbuild_dataframe\u001B[0;34m(args, constructor)\u001B[0m\n\u001B[1;32m   1402\u001B[0m     args[\u001B[38;5;124m\"\u001B[39m\u001B[38;5;124mcolor\u001B[39m\u001B[38;5;124m\"\u001B[39m] \u001B[38;5;241m=\u001B[39m \u001B[38;5;28;01mNone\u001B[39;00m\n\u001B[1;32m   1403\u001B[0m \u001B[38;5;66;03m# now that things have been prepped, we do the systematic rewriting of `args`\u001B[39;00m\n\u001B[0;32m-> 1405\u001B[0m df_output, wide_id_vars \u001B[38;5;241m=\u001B[39m \u001B[43mprocess_args_into_dataframe\u001B[49m\u001B[43m(\u001B[49m\n\u001B[1;32m   1406\u001B[0m \u001B[43m    \u001B[49m\u001B[43margs\u001B[49m\u001B[43m,\u001B[49m\u001B[43m \u001B[49m\u001B[43mwide_mode\u001B[49m\u001B[43m,\u001B[49m\u001B[43m \u001B[49m\u001B[43mvar_name\u001B[49m\u001B[43m,\u001B[49m\u001B[43m \u001B[49m\u001B[43mvalue_name\u001B[49m\n\u001B[1;32m   1407\u001B[0m \u001B[43m\u001B[49m\u001B[43m)\u001B[49m\n\u001B[1;32m   1409\u001B[0m \u001B[38;5;66;03m# now that `df_output` exists and `args` contains only references, we complete\u001B[39;00m\n\u001B[1;32m   1410\u001B[0m \u001B[38;5;66;03m# the special-case and wide-mode handling by further rewriting args and/or mutating\u001B[39;00m\n\u001B[1;32m   1411\u001B[0m \u001B[38;5;66;03m# df_output\u001B[39;00m\n\u001B[1;32m   1413\u001B[0m count_name \u001B[38;5;241m=\u001B[39m _escape_col_name(df_output, \u001B[38;5;124m\"\u001B[39m\u001B[38;5;124mcount\u001B[39m\u001B[38;5;124m\"\u001B[39m, [var_name, value_name])\n",
      "File \u001B[0;32m~/ogrsp_in_github/venv/lib/python3.10/site-packages/plotly/express/_core.py:1245\u001B[0m, in \u001B[0;36mprocess_args_into_dataframe\u001B[0;34m(args, wide_mode, var_name, value_name)\u001B[0m\n\u001B[1;32m   1242\u001B[0m         col_name \u001B[38;5;241m=\u001B[39m _check_name_not_reserved(field, reserved_names)\n\u001B[1;32m   1244\u001B[0m     \u001B[38;5;28;01mif\u001B[39;00m length \u001B[38;5;129;01mand\u001B[39;00m \u001B[38;5;28mlen\u001B[39m(argument) \u001B[38;5;241m!=\u001B[39m length:\n\u001B[0;32m-> 1245\u001B[0m         \u001B[38;5;28;01mraise\u001B[39;00m \u001B[38;5;167;01mValueError\u001B[39;00m(\n\u001B[1;32m   1246\u001B[0m             \u001B[38;5;124m\"\u001B[39m\u001B[38;5;124mAll arguments should have the same length. \u001B[39m\u001B[38;5;124m\"\u001B[39m\n\u001B[1;32m   1247\u001B[0m             \u001B[38;5;124m\"\u001B[39m\u001B[38;5;124mThe length of argument `\u001B[39m\u001B[38;5;132;01m%s\u001B[39;00m\u001B[38;5;124m` is \u001B[39m\u001B[38;5;132;01m%d\u001B[39;00m\u001B[38;5;124m, whereas the \u001B[39m\u001B[38;5;124m\"\u001B[39m\n\u001B[1;32m   1248\u001B[0m             \u001B[38;5;124m\"\u001B[39m\u001B[38;5;124mlength of  previously-processed arguments \u001B[39m\u001B[38;5;132;01m%s\u001B[39;00m\u001B[38;5;124m is \u001B[39m\u001B[38;5;132;01m%d\u001B[39;00m\u001B[38;5;124m\"\u001B[39m\n\u001B[1;32m   1249\u001B[0m             \u001B[38;5;241m%\u001B[39m (field, \u001B[38;5;28mlen\u001B[39m(argument), \u001B[38;5;28mstr\u001B[39m(\u001B[38;5;28mlist\u001B[39m(df_output\u001B[38;5;241m.\u001B[39mcolumns)), length)\n\u001B[1;32m   1250\u001B[0m         )\n\u001B[1;32m   1251\u001B[0m     df_output[\u001B[38;5;28mstr\u001B[39m(col_name)] \u001B[38;5;241m=\u001B[39m to_unindexed_series(argument)\n\u001B[1;32m   1253\u001B[0m \u001B[38;5;66;03m# Finally, update argument with column name now that column exists\u001B[39;00m\n",
      "\u001B[0;31mValueError\u001B[0m: All arguments should have the same length. The length of argument `y` is 1, whereas the length of  previously-processed arguments ['strt'] is 625"
     ]
    }
   ],
   "source": [
    "# df = px.data.gapminder().query(\"continent=='Oceania'\")\n",
    "fig = px.line(spec_by_date, x=\"strt\", y=([\"tall_1, tall_2\"]))\n",
    "# , color='country')\n",
    "fig.show()"
   ]
  },
  {
   "cell_type": "code",
   "execution_count": 44,
   "id": "6c66efb5",
   "metadata": {},
   "outputs": [],
   "source": [
    "fir=lista_mix[5][:]\n",
    "sec=[i[5][-2] for i in lista_mix]\n",
    "thr=[i[5][-3] for i in lista_mix]\n",
    "fot=[i[5][-4] for i in lista_mix]\n",
    "fif=[i[5][-5] for i in lista_mix]\n",
    "fig3 = go.Figure(data=go.Scattergl(\n",
    "    x=[i[7] for i in lista_mix],\n",
    "    y=[fir, sec, thr, fot, fif],\n",
    "    mode='lines+markers'\n",
    "))\n",
    "fig3.write_html('fig3.html', auto_open=True)"
   ]
  },
  {
   "cell_type": "code",
   "execution_count": 44,
   "id": "fa22f5f9",
   "metadata": {},
   "outputs": [],
   "source": []
  },
  {
   "cell_type": "code",
   "execution_count": 45,
   "id": "aac46768",
   "metadata": {},
   "outputs": [],
   "source": [
    "df = px.data.gapminder().query(\"continent=='Oceania'\")\n",
    "fig = px.line(df, x=\"year\", y=\"lifeExp\", color='country')\n",
    "fig.show()"
   ]
  },
  {
   "cell_type": "code",
   "execution_count": 46,
   "id": "49bcbad7",
   "metadata": {},
   "outputs": [],
   "source": [
    "df"
   ]
  },
  {
   "cell_type": "code",
   "execution_count": 46,
   "id": "0e724b3b",
   "metadata": {},
   "outputs": [],
   "source": []
  },
  {
   "cell_type": "code",
   "execution_count": 47,
   "id": "031d3136",
   "metadata": {},
   "outputs": [],
   "source": [
    "teste = np.array([1, 5, 2, 18])"
   ]
  },
  {
   "cell_type": "code",
   "execution_count": 48,
   "id": "61051735",
   "metadata": {},
   "outputs": [],
   "source": [
    "teste"
   ]
  },
  {
   "cell_type": "code",
   "execution_count": 48,
   "id": "9d9afcf0",
   "metadata": {},
   "outputs": [],
   "source": []
  },
  {
   "cell_type": "code",
   "execution_count": 49,
   "id": "bb9223ea",
   "metadata": {},
   "outputs": [],
   "source": [
    "# num=21 dá percentis 0%, 5%, 10%, ... 100%\n",
    "percentis = np.percentile(drifts, np.linspace(0, 100, num=21))\n",
    "percentis"
   ]
  },
  {
   "cell_type": "code",
   "execution_count": 49,
   "id": "b72b5861",
   "metadata": {},
   "outputs": [],
   "source": []
  },
  {
   "cell_type": "code",
   "execution_count": 50,
   "id": "0070390a",
   "metadata": {},
   "outputs": [],
   "source": [
    "# Soma de 1 ano de espectros da piscina."
   ]
  },
  {
   "cell_type": "code",
   "execution_count": 51,
   "id": "940d1e13",
   "metadata": {},
   "outputs": [],
   "source": [
    "i_n = 0\n",
    "i_m = 0\n",
    "ys_tot = np.zeros(y0_s.size)\n",
    "for i_sp, j_sp in zip(fil_lst, reduc_nms):\n",
    "    a_spec = Spec(i_sp, j_sp)\n",
    "    ori_ser = a_spec.origin_spec_ser_an\n",
    "    y_s = ori_ser.y_s\n",
    "    convo = sci.signal.correlate(y_s, y0_s)\n",
    "    max_arg = np.argmax(abs(convo))\n",
    "    drift = y_s.size-max_arg-1\n",
    "    cts_tot = np.sum(y_s)\n",
    "    pks, _ = sci.signal.find_peaks(y_s, prominence=promin)\n",
    "    n_pks = pks.size\n",
    "    print(f'{i_n}: {j_sp}: {max_arg} ->  {drift}  n_pks: {n_pks}  Tot: {cts_tot}.')\n",
    "    if abs(drift) < 60:\n",
    "        ys_tot += np.roll(y_s, -drift)\n",
    "        # ys_tot += y_s\n",
    "        i_m += 1\n",
    "    i_n += 1\n",
    "    # af = sci.fft.fft(y_s)\n",
    "    # bf = sci.fft.fft(shifted_y_s)\n",
    "    # c = sci.fft.ifft(af * np.conj(bf))\n",
    "    # time_shift = np.argmax(abs(c))"
   ]
  },
  {
   "cell_type": "code",
   "execution_count": null,
   "id": "89fe5c30",
   "metadata": {},
   "outputs": [],
   "source": [
    "i_m"
   ]
  },
  {
   "cell_type": "code",
   "execution_count": null,
   "id": "916174a9",
   "metadata": {},
   "outputs": [],
   "source": [
    "fig2 = go.Figure(data=go.Scattergl(\n",
    "    x=x_nz,\n",
    "    y=y_nz,\n",
    "    mode='markers'\n",
    "))\n"
   ]
  },
  {
   "cell_type": "code",
   "execution_count": null,
   "id": "ace8e20c",
   "metadata": {},
   "outputs": [],
   "source": [
    "fig2.add_trace(\n",
    "    go.Scattergl(x=x0_s,\n",
    "                 y=ys_tot,\n",
    "                 error_y=dict(\n",
    "                     color='orange',width=3.0,\n",
    "                     type='data', # value of error bar given in data coordinates\n",
    "                     array=unc_y,\n",
    "                     visible=True),\n",
    "                 name=\"Counts & uncertaintes\",\n",
    "                 line=dict(color='orange',width=0.3)));"
   ]
  },
  {
   "cell_type": "code",
   "execution_count": null,
   "id": "250536e5",
   "metadata": {},
   "outputs": [],
   "source": [
    "fig2.add_trace(\n",
    "    go.Scattergl(x=pks,\n",
    "                 y=y0_s[pks],\n",
    "                 mode=\"markers\",\n",
    "                 name=\"peaks\",\n",
    "                 marker=dict(color='cyan',\n",
    "                             symbol='circle',\n",
    "                             size=15,\n",
    "                             opacity=0.4,\n",
    "                             line=dict(color='green', width=2.0)\n",
    "                            )\n",
    "                ));"
   ]
  },
  {
   "cell_type": "code",
   "execution_count": null,
   "id": "8a098c9b",
   "metadata": {},
   "outputs": [],
   "source": [
    "# Set title and scale type    width=1800,\n",
    "\n",
    "fig2.update_layout(\n",
    "    title_text=\"Gamma-ray spectrum excerpt\",\n",
    "    height=900,\n",
    "    margin=dict(l=10, r=10, t=30, b=10),\n",
    "    paper_bgcolor=\"LightSteelBlue\"\n",
    ")\n",
    "fig2.update_yaxes(type=\"log\");\n",
    "fig2.write_html('fig2.html', auto_open=True)\n"
   ]
  },
  {
   "cell_type": "code",
   "execution_count": null,
   "id": "bacea814",
   "metadata": {},
   "outputs": [],
   "source": []
  },
  {
   "cell_type": "code",
   "execution_count": null,
   "id": "c1a50feb",
   "metadata": {},
   "outputs": [],
   "source": [
    "# Das Ende"
   ]
  }
 ],
 "metadata": {
  "kernelspec": {
   "display_name": "Python 3 (ipykernel)",
   "language": "python",
   "name": "python3"
  },
  "language_info": {
   "codemirror_mode": {
    "name": "ipython",
    "version": 3
   },
   "file_extension": ".py",
   "mimetype": "text/x-python",
   "name": "python",
   "nbconvert_exporter": "python",
   "pygments_lexer": "ipython3",
   "version": "3.11.2"
  }
 },
 "nbformat": 4,
 "nbformat_minor": 5
}
