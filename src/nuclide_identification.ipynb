{
 "cells": [
  {
   "cell_type": "code",
   "execution_count": 1,
   "metadata": {
    "ExecuteTime": {
     "end_time": "2023-06-14T16:22:33.621616325Z",
     "start_time": "2023-06-14T16:22:32.161816863Z"
    }
   },
   "outputs": [],
   "source": [
    "\n",
    "# 2022-out-7: Excelente espectro para testes, tenho usado ultimamente:\n",
    "# a_pattern = 'Si/SI2018/SI11318.Chn'\n",
    "# 2022-nov-16: outros espectros:\n",
    "# a_pattern = \"Filtros/2022/Cci/CCI1603-I.Chn\"\n",
    "# a_pattern = \"Filtros/2022/Cci/CCI2302-I.Chn\"\n",
    "\n",
    "# a_pattern = \"Eso_non_existe.Chn\"\n",
    "\n",
    "# 2022-Dez-21 Buscando outro espectro\n",
    "# a_pattern = 'CCI1603-I'\n",
    "# 2022-Dez-28 Este é um espectro mais recente:\n",
    "# a_pattern = 'SI09722.Chn'\n",
    "# 2022-Dez-28 Este é um espectro mais recente que posso comparar com saída do Genie:\n",
    "# a_pattern = 'SI06322.Chn'"
   ]
  },
  {
   "cell_type": "code",
   "execution_count": 2,
   "outputs": [],
   "source": [
    "import numpy as np\n",
    "from numpy.polynomial import Polynomial as P  # 2020-09-06 Esta é a nova classe recomendada\n",
    "import pandas as pd\n",
    "from random import randrange\n",
    "import plotly.graph_objects as go\n",
    "\n",
    "from ograyspy_class import Ograyspy, select_spectrum_from_folder_list, build_nucl_library\n",
    "from spec_class import Spec"
   ],
   "metadata": {
    "collapsed": false,
    "ExecuteTime": {
     "end_time": "2023-06-14T16:22:33.853017899Z",
     "start_time": "2023-06-14T16:22:32.185157637Z"
    }
   }
  },
  {
   "cell_type": "code",
   "execution_count": 3,
   "outputs": [],
   "source": [
    "spectra_list_df = pd.read_pickle('Linuxmarcelofm-X540LA.pkl')\n",
    "# spectra_list_df = pd.read_pickle('WindowsI56611.pkl')"
   ],
   "metadata": {
    "collapsed": false,
    "ExecuteTime": {
     "end_time": "2023-06-14T16:22:33.867363015Z",
     "start_time": "2023-06-14T16:22:33.857536358Z"
    }
   }
  },
  {
   "cell_type": "code",
   "execution_count": 4,
   "outputs": [
    {
     "data": {
      "text/plain": "                                       info_plat info_mach info_syst  \\\n0  Linux-5.19.0-41-generic-x86_64-with-glibc2.36    x86_64     Linux   \n\n          info_node        home_path  \\\n0  marcelofm-X540LA  /home/marcelofm   \n\n                                        spectra_path  n_files  a_spec_ind  \\\n0  /home/marcelofm/Nextcloud/Genie_Transfer/Si/SI...       49           0   \n\n  a_spec_name reduced_f_name  \\\n0                              \n\n                                          files_list  \\\n0  [/home/marcelofm/Nextcloud/Genie_Transfer/Si/S...   \n\n                            reduced_names_files_list  \\\n0  [SI02622.Chn, SI07222.Chn, SI04022 (cont em 31...   \n\n                    spectra_pattern_names           pkl_folder_files  \n0  [**/*.[Cc][Hh][Nn], **/*.[Ii][Ee][Cc]]  Linuxmarcelofm-X540LA.pkl  ",
      "text/html": "<div>\n<style scoped>\n    .dataframe tbody tr th:only-of-type {\n        vertical-align: middle;\n    }\n\n    .dataframe tbody tr th {\n        vertical-align: top;\n    }\n\n    .dataframe thead th {\n        text-align: right;\n    }\n</style>\n<table border=\"1\" class=\"dataframe\">\n  <thead>\n    <tr style=\"text-align: right;\">\n      <th></th>\n      <th>info_plat</th>\n      <th>info_mach</th>\n      <th>info_syst</th>\n      <th>info_node</th>\n      <th>home_path</th>\n      <th>spectra_path</th>\n      <th>n_files</th>\n      <th>a_spec_ind</th>\n      <th>a_spec_name</th>\n      <th>reduced_f_name</th>\n      <th>files_list</th>\n      <th>reduced_names_files_list</th>\n      <th>spectra_pattern_names</th>\n      <th>pkl_folder_files</th>\n    </tr>\n  </thead>\n  <tbody>\n    <tr>\n      <th>0</th>\n      <td>Linux-5.19.0-41-generic-x86_64-with-glibc2.36</td>\n      <td>x86_64</td>\n      <td>Linux</td>\n      <td>marcelofm-X540LA</td>\n      <td>/home/marcelofm</td>\n      <td>/home/marcelofm/Nextcloud/Genie_Transfer/Si/SI...</td>\n      <td>49</td>\n      <td>0</td>\n      <td></td>\n      <td></td>\n      <td>[/home/marcelofm/Nextcloud/Genie_Transfer/Si/S...</td>\n      <td>[SI02622.Chn, SI07222.Chn, SI04022 (cont em 31...</td>\n      <td>[**/*.[Cc][Hh][Nn], **/*.[Ii][Ee][Cc]]</td>\n      <td>Linuxmarcelofm-X540LA.pkl</td>\n    </tr>\n  </tbody>\n</table>\n</div>"
     },
     "execution_count": 4,
     "metadata": {},
     "output_type": "execute_result"
    }
   ],
   "source": [
    "spectra_list_df"
   ],
   "metadata": {
    "collapsed": false,
    "ExecuteTime": {
     "end_time": "2023-06-14T16:22:34.234946244Z",
     "start_time": "2023-06-14T16:22:33.868765406Z"
    }
   }
  },
  {
   "cell_type": "code",
   "execution_count": 5,
   "metadata": {
    "ExecuteTime": {
     "end_time": "2023-06-14T16:22:34.237029415Z",
     "start_time": "2023-06-14T16:22:34.062590985Z"
    }
   },
   "outputs": [],
   "source": [
    "reduc_nms = spectra_list_df.reduced_names_files_list[0]\n",
    "fil_lst = spectra_list_df.files_list[0]\n",
    "spc_pth = spectra_list_df.spectra_path[0]"
   ]
  },
  {
   "cell_type": "code",
   "execution_count": 6,
   "outputs": [
    {
     "data": {
      "text/plain": "['SI02622.Chn',\n 'SI07222.Chn',\n 'SI04022 (cont em 31-05-22).Chn',\n 'SI02722.Chn',\n 'SI08222.Chn',\n 'SI09222.Chn',\n 'SI05322.Chn',\n 'SI03222.Chn',\n 'SI08622.Chn',\n 'SI02522.Chn',\n 'SI09322.Chn',\n 'SI00922.Chn',\n 'SI08522.Chn',\n 'SI07922.Chn',\n 'SI03322.Chn',\n 'SI05922.Chn',\n 'SI03022.Chn',\n 'SI08722.Chn',\n 'FRASCO ORIGINAL SI084_22.Chn',\n 'SI06122.Chn',\n 'SI01822.Chn',\n 'SI09422.Chn',\n 'SI00822.Chn',\n 'SI05822.Chn',\n 'SI04722.Chn',\n 'SI01622.Chn',\n 'SI08422.Chn',\n 'SI02022.Chn',\n 'SI07522.Chn',\n 'SI01722.Chn',\n 'SI06922.Chn',\n 'SI09722.Chn',\n 'SI06522.Chn',\n 'SI09122.Chn',\n 'SI05522.Chn',\n 'SI03422.Chn',\n 'SI04422.Chn',\n 'SI03722.Chn',\n 'SI05622.Chn',\n 'SI02922.Chn',\n 'SI07722.Chn',\n 'SI03522.Chn',\n 'SI05122.Chn',\n 'SI06722.Chn',\n 'SI06322.Chn',\n 'SI07322.Chn',\n 'SI03122.Chn',\n 'SI01922.Chn',\n 'BGTESTE.Chn']"
     },
     "execution_count": 6,
     "metadata": {},
     "output_type": "execute_result"
    }
   ],
   "source": [
    "reduc_nms"
   ],
   "metadata": {
    "collapsed": false,
    "ExecuteTime": {
     "end_time": "2023-06-14T16:22:34.522183764Z",
     "start_time": "2023-06-14T16:22:34.225836536Z"
    }
   }
  },
  {
   "cell_type": "code",
   "execution_count": 7,
   "outputs": [],
   "source": [
    "# 2022-Dez-28 Este é um espectro mais recente que posso comparar com saída do Genie:\n",
    "a_pattern = 'SI06322.Chn'"
   ],
   "metadata": {
    "collapsed": false,
    "ExecuteTime": {
     "end_time": "2023-06-14T16:22:34.530439290Z",
     "start_time": "2023-06-14T16:22:34.382804468Z"
    }
   }
  },
  {
   "cell_type": "code",
   "execution_count": 8,
   "metadata": {
    "ExecuteTime": {
     "end_time": "2023-06-14T16:22:35.583814427Z",
     "start_time": "2023-06-14T16:22:34.426707854Z"
    }
   },
   "outputs": [
    {
     "name": "stdout",
     "output_type": "stream",
     "text": [
      "Existing:\n",
      "Achou! indice=44, nomearq = SI06322.Chn\n",
      "name:  /home/marcelofm/Nextcloud/Genie_Transfer/Si/SI2022/SI06322.Chn\n",
      "==========================\n",
      "Final choices:\n",
      "spectra_path: /home/marcelofm/Nextcloud/Genie_Transfer/Si/SI2022\n",
      "a_spec_name: /home/marcelofm/Nextcloud/Genie_Transfer/Si/SI2022/SI06322.Chn\n",
      "reduced_f_name: SI06322.Chn\n"
     ]
    },
    {
     "data": {
      "text/plain": "(PosixPath('/home/marcelofm/Nextcloud/Genie_Transfer/Si/SI2022/SI06322.Chn'),\n 'SI06322.Chn')"
     },
     "execution_count": 8,
     "metadata": {},
     "output_type": "execute_result"
    }
   ],
   "source": [
    "f_name, reduced_f_name = select_spectrum_from_folder_list(reduc_nms, fil_lst, spc_pth, a_pattern)\n",
    "f_name, reduced_f_name"
   ]
  },
  {
   "cell_type": "code",
   "execution_count": 8,
   "outputs": [],
   "source": [],
   "metadata": {
    "collapsed": false,
    "ExecuteTime": {
     "end_time": "2023-06-14T16:22:35.584620041Z",
     "start_time": "2023-06-14T16:22:34.590728555Z"
    }
   }
  },
  {
   "cell_type": "code",
   "execution_count": 9,
   "outputs": [],
   "source": [
    "nucl_iear1_list = ['24na','51cr','54mn','58co','60co','65zn','103ru','110ag','131i','132te',\n",
    "                   '137cs','140ba','140la','187w','239np','40k','208Tl','212Pb','212Bi',\n",
    "                   '214Pb','214Bi','228Ac']"
   ],
   "metadata": {
    "collapsed": false,
    "ExecuteTime": {
     "end_time": "2023-06-14T16:22:35.585489363Z",
     "start_time": "2023-06-14T16:22:34.634811395Z"
    }
   }
  },
  {
   "cell_type": "code",
   "execution_count": 10,
   "outputs": [],
   "source": [
    "iear1_key_gamma_lines_list = [\n",
    "    1368.6, 320.1, 834.8, 810.8, 1332.5, 1115.5, 497.1, 657.8, 364.5, 228.2, 661.7, 537.3,\n",
    "    487.0, 479.6, 106.1, 1460.8, 583.2, 238.6, 727.2, 351.9, 609.3, 911.6\n",
    "]"
   ],
   "metadata": {
    "collapsed": false,
    "ExecuteTime": {
     "end_time": "2023-06-14T16:22:35.586549968Z",
     "start_time": "2023-06-14T16:22:34.769251940Z"
    }
   }
  },
  {
   "cell_type": "code",
   "execution_count": 11,
   "outputs": [],
   "source": [
    "# Run once, just for create the library'd pkl file.\n",
    "# nucl_iear1_df = build_nucl_library('nucl_iear1_list', nucl_iear1_list, iear1_key_gamma_lines_list)\n",
    "# If one didn't want to set key gamma lines, it would be:\n",
    "# nucl_iear1_df = build_nucl_library('nucl_iear1_list', nucl_iear1_list)\n",
    "# nucl_iear1_df"
   ],
   "metadata": {
    "collapsed": false,
    "ExecuteTime": {
     "end_time": "2023-06-14T16:22:35.587473622Z",
     "start_time": "2023-06-14T16:22:34.903798172Z"
    }
   }
  },
  {
   "cell_type": "code",
   "execution_count": 11,
   "outputs": [],
   "source": [],
   "metadata": {
    "collapsed": false,
    "ExecuteTime": {
     "end_time": "2023-06-14T16:22:35.596790847Z",
     "start_time": "2023-06-14T16:22:35.022214629Z"
    }
   }
  },
  {
   "cell_type": "code",
   "execution_count": 12,
   "outputs": [
    {
     "data": {
      "text/plain": "     nuclide_name     energy  unc_en  intensity  unc_i  half_life  decay  \\\n0            24na   472.2023  0.0014     99.900  0.001     20.180     IT   \n2            24na  1368.6250   0.005     99.994  0.002     14.956     B-   \n3            24na  2754.0080   0.011     99.867   0.01     14.956     B-   \n12           51cr   320.0824  0.0004      9.910   0.01     27.704     EC   \n18           54mn   834.8480   0.003     99.976  0.001    312.200  EC+B+   \n...           ...        ...     ...        ...    ...        ...    ...   \n1137        228Ac    89.9540              2.010   0.19      6.150     B-   \n1138        228Ac    93.3470              3.200    0.3      6.150     B-   \n1139        228Ac   105.5660              1.160   0.11      6.150     B-   \n1140        228Ac   106.8940              1.540   0.15      6.150     B-   \n1141        228Ac   108.5800              0.390   0.04      6.150     B-   \n\n      decay_%  key_gamma is_key_gamma  \n0       99.95     1368.6        False  \n2      100.00     1368.6         True  \n3      100.00     1368.6        False  \n12     100.00      320.1         True  \n18     100.00      834.8         True  \n...       ...        ...          ...  \n1137   100.00      911.6        False  \n1138   100.00      911.6        False  \n1139   100.00      911.6        False  \n1140   100.00      911.6        False  \n1141   100.00      911.6        False  \n\n[249 rows x 10 columns]",
      "text/html": "<div>\n<style scoped>\n    .dataframe tbody tr th:only-of-type {\n        vertical-align: middle;\n    }\n\n    .dataframe tbody tr th {\n        vertical-align: top;\n    }\n\n    .dataframe thead th {\n        text-align: right;\n    }\n</style>\n<table border=\"1\" class=\"dataframe\">\n  <thead>\n    <tr style=\"text-align: right;\">\n      <th></th>\n      <th>nuclide_name</th>\n      <th>energy</th>\n      <th>unc_en</th>\n      <th>intensity</th>\n      <th>unc_i</th>\n      <th>half_life</th>\n      <th>decay</th>\n      <th>decay_%</th>\n      <th>key_gamma</th>\n      <th>is_key_gamma</th>\n    </tr>\n  </thead>\n  <tbody>\n    <tr>\n      <th>0</th>\n      <td>24na</td>\n      <td>472.2023</td>\n      <td>0.0014</td>\n      <td>99.900</td>\n      <td>0.001</td>\n      <td>20.180</td>\n      <td>IT</td>\n      <td>99.95</td>\n      <td>1368.6</td>\n      <td>False</td>\n    </tr>\n    <tr>\n      <th>2</th>\n      <td>24na</td>\n      <td>1368.6250</td>\n      <td>0.005</td>\n      <td>99.994</td>\n      <td>0.002</td>\n      <td>14.956</td>\n      <td>B-</td>\n      <td>100.00</td>\n      <td>1368.6</td>\n      <td>True</td>\n    </tr>\n    <tr>\n      <th>3</th>\n      <td>24na</td>\n      <td>2754.0080</td>\n      <td>0.011</td>\n      <td>99.867</td>\n      <td>0.01</td>\n      <td>14.956</td>\n      <td>B-</td>\n      <td>100.00</td>\n      <td>1368.6</td>\n      <td>False</td>\n    </tr>\n    <tr>\n      <th>12</th>\n      <td>51cr</td>\n      <td>320.0824</td>\n      <td>0.0004</td>\n      <td>9.910</td>\n      <td>0.01</td>\n      <td>27.704</td>\n      <td>EC</td>\n      <td>100.00</td>\n      <td>320.1</td>\n      <td>True</td>\n    </tr>\n    <tr>\n      <th>18</th>\n      <td>54mn</td>\n      <td>834.8480</td>\n      <td>0.003</td>\n      <td>99.976</td>\n      <td>0.001</td>\n      <td>312.200</td>\n      <td>EC+B+</td>\n      <td>100.00</td>\n      <td>834.8</td>\n      <td>True</td>\n    </tr>\n    <tr>\n      <th>...</th>\n      <td>...</td>\n      <td>...</td>\n      <td>...</td>\n      <td>...</td>\n      <td>...</td>\n      <td>...</td>\n      <td>...</td>\n      <td>...</td>\n      <td>...</td>\n      <td>...</td>\n    </tr>\n    <tr>\n      <th>1137</th>\n      <td>228Ac</td>\n      <td>89.9540</td>\n      <td></td>\n      <td>2.010</td>\n      <td>0.19</td>\n      <td>6.150</td>\n      <td>B-</td>\n      <td>100.00</td>\n      <td>911.6</td>\n      <td>False</td>\n    </tr>\n    <tr>\n      <th>1138</th>\n      <td>228Ac</td>\n      <td>93.3470</td>\n      <td></td>\n      <td>3.200</td>\n      <td>0.3</td>\n      <td>6.150</td>\n      <td>B-</td>\n      <td>100.00</td>\n      <td>911.6</td>\n      <td>False</td>\n    </tr>\n    <tr>\n      <th>1139</th>\n      <td>228Ac</td>\n      <td>105.5660</td>\n      <td></td>\n      <td>1.160</td>\n      <td>0.11</td>\n      <td>6.150</td>\n      <td>B-</td>\n      <td>100.00</td>\n      <td>911.6</td>\n      <td>False</td>\n    </tr>\n    <tr>\n      <th>1140</th>\n      <td>228Ac</td>\n      <td>106.8940</td>\n      <td></td>\n      <td>1.540</td>\n      <td>0.15</td>\n      <td>6.150</td>\n      <td>B-</td>\n      <td>100.00</td>\n      <td>911.6</td>\n      <td>False</td>\n    </tr>\n    <tr>\n      <th>1141</th>\n      <td>228Ac</td>\n      <td>108.5800</td>\n      <td></td>\n      <td>0.390</td>\n      <td>0.04</td>\n      <td>6.150</td>\n      <td>B-</td>\n      <td>100.00</td>\n      <td>911.6</td>\n      <td>False</td>\n    </tr>\n  </tbody>\n</table>\n<p>249 rows × 10 columns</p>\n</div>"
     },
     "execution_count": 12,
     "metadata": {},
     "output_type": "execute_result"
    }
   ],
   "source": [
    "nucl_iear1_df = pd.read_pickle('nucl_iear1_list.pkl')\n",
    "nucl_iear1_df"
   ],
   "metadata": {
    "collapsed": false,
    "ExecuteTime": {
     "end_time": "2023-06-14T16:22:37.509111681Z",
     "start_time": "2023-06-14T16:22:35.062748996Z"
    }
   }
  },
  {
   "cell_type": "code",
   "execution_count": 12,
   "outputs": [],
   "source": [],
   "metadata": {
    "collapsed": false,
    "ExecuteTime": {
     "end_time": "2023-06-14T16:22:37.509699088Z",
     "start_time": "2023-06-14T16:22:35.331429887Z"
    }
   }
  },
  {
   "cell_type": "code",
   "execution_count": 13,
   "metadata": {
    "ExecuteTime": {
     "end_time": "2023-06-14T16:22:37.510755521Z",
     "start_time": "2023-06-14T16:22:35.381251127Z"
    }
   },
   "outputs": [],
   "source": [
    "a_spec = Spec(f_name, reduced_f_name)"
   ]
  },
  {
   "cell_type": "code",
   "execution_count": 14,
   "outputs": [
    {
     "data": {
      "text/plain": "['__class__',\n '__delattr__',\n '__dict__',\n '__dir__',\n '__doc__',\n '__eq__',\n '__format__',\n '__ge__',\n '__getattribute__',\n '__getstate__',\n '__gt__',\n '__hash__',\n '__init__',\n '__init_subclass__',\n '__le__',\n '__lt__',\n '__module__',\n '__ne__',\n '__new__',\n '__reduce__',\n '__reduce_ex__',\n '__repr__',\n '__setattr__',\n '__sizeof__',\n '__str__',\n '__subclasshook__',\n '__weakref__',\n 'channel_energy_calib',\n 'curr_h_win',\n 'det_descr',\n 'f_name',\n 'final_composed_baseline',\n 'generate_pandas_dataframe',\n 'lv_time',\n 'net_spec_ser_an',\n 'origin_spec_ser_an',\n 'pkl_file',\n 'reduced_f_name',\n 'rl_time',\n 'sam_descr',\n 'source_datetime',\n 'spec_engy_chan_recalib',\n 'spec_io',\n 'start_datetime',\n 'sufx',\n 'total_analysis']"
     },
     "execution_count": 14,
     "metadata": {},
     "output_type": "execute_result"
    }
   ],
   "source": [
    "dir(a_spec)"
   ],
   "metadata": {
    "collapsed": false,
    "ExecuteTime": {
     "end_time": "2023-06-14T16:22:37.901763329Z",
     "start_time": "2023-06-14T16:22:35.426837583Z"
    }
   }
  },
  {
   "cell_type": "code",
   "execution_count": 15,
   "outputs": [
    {
     "data": {
      "text/plain": "{'mix_regions': None,\n 'spl_baseline': None,\n 'eval_baseline': None,\n 'y_s': array([0, 0, 0, ..., 3, 1, 2]),\n 'nzero': array([False, False, False, ...,  True,  True,  True]),\n 'n_ch': 4096,\n 'final_baseline': None,\n 'x_s': array([0.000e+00, 1.000e+00, 2.000e+00, ..., 4.093e+03, 4.094e+03,\n        4.095e+03]),\n 'chans_nzero': array([  26.,   27.,   28., ..., 4093., 4094., 4095.]),\n 'counts_nzero': array([ 11, 221, 380, ...,   3,   1,   2]),\n 'unc_y': array([ 3.31662479, 14.86606875, 19.49358869, ...,  1.73205081,\n         1.        ,  1.41421356]),\n 'given_variance': array([0, 0, 0, ..., 3, 1, 2]),\n 'y_smoothed': array([0, 0, 0, ..., 3, 1, 2]),\n 'fft_s': None,\n 'is_reg': array([False, False, False, ..., False, False, False]),\n 'xs_all_mplets': [],\n 'ys_all_mplets': [],\n 'ys_all_steps': [],\n 'chans_in_multiplets_list': [],\n 'calculated_step_counts': [],\n 'xs_bl_in_reg': array([], dtype=float64),\n 'ys_bl_in_reg': array([], dtype=float64),\n 'xs_bl_out_reg': array([], dtype=float64),\n 'ys_bl_out_reg': array([], dtype=float64),\n 'ws_bl_out_reg': array([], dtype=float64),\n 'pk_parms': <peaksparms_class.PeaksParms at 0x7f8cd8db7a50>,\n 'fft_spec': array([], dtype=float64),\n 'k_erf': 0.9999975184539827}"
     },
     "execution_count": 15,
     "metadata": {},
     "output_type": "execute_result"
    }
   ],
   "source": [
    "orig_ser = a_spec.origin_spec_ser_an\n",
    "vars(orig_ser)"
   ],
   "metadata": {
    "collapsed": false,
    "ExecuteTime": {
     "end_time": "2023-06-14T16:22:37.924733937Z",
     "start_time": "2023-06-14T16:22:35.601416888Z"
    }
   }
  },
  {
   "cell_type": "code",
   "execution_count": 16,
   "outputs": [
    {
     "name": "stdout",
     "output_type": "stream",
     "text": [
      "Starting Spec.total_analysis...\n",
      "Finish Spec.total_analysis!\n"
     ]
    },
    {
     "data": {
      "text/plain": "{'net_spec_ser_an': <generic_series_analysis_class.GenericSeriesAnalysis at 0x7f8cd78a4150>,\n 'final_composed_baseline': <generic_series_analysis_class.GenericSeriesAnalysis at 0x7f8cd78a4610>,\n 'f_name': PosixPath('/home/marcelofm/Nextcloud/Genie_Transfer/Si/SI2022/SI06322.Chn'),\n 'reduced_f_name': 'SI06322.Chn',\n 'sufx': '.chn',\n 'spec_io': None,\n 'lv_time': 50000.0,\n 'rl_time': 50028.58,\n 'source_datetime': None,\n 'pkl_file': PosixPath('/home/marcelofm/Nextcloud/Genie_Transfer/Si/SI2022/SI06322.pkl'),\n 'origin_spec_ser_an': <generic_series_analysis_class.GenericSeriesAnalysis at 0x7f8cd7836bd0>,\n 'start_datetime': datetime.datetime(2022, 8, 4, 19, 42, 23),\n 'det_descr': 'MAQUINA_01 MCB 1 Input 1',\n 'sam_descr': 'SI-063/22 - Agua da Piscina do Reator IEA-R1 (GMX)',\n 'channel_energy_calib': <genericcalib_class.ChannelEnergyCalib at 0x7f8cd7845d10>}"
     },
     "execution_count": 16,
     "metadata": {},
     "output_type": "execute_result"
    }
   ],
   "source": [
    "a_spec.total_analysis(gener_dataframe=True)\n",
    "# A opção acima, gener_dataframe=True,  grava o pkl_file do espectro\n",
    "vars(a_spec)"
   ],
   "metadata": {
    "collapsed": false,
    "ExecuteTime": {
     "end_time": "2023-06-14T16:22:37.933433756Z",
     "start_time": "2023-06-14T16:22:36.136061752Z"
    }
   }
  },
  {
   "cell_type": "code",
   "execution_count": 17,
   "outputs": [
    {
     "data": {
      "text/plain": "{'mix_regions': array([[  24,   57],\n        [ 114,  180],\n        [ 236,  267],\n        [ 278,  285],\n        [ 328,  341],\n        [ 352,  363],\n        [ 375,  386],\n        [ 393,  400],\n        [ 443,  450],\n        [ 458,  465],\n        [ 477,  500],\n        [ 524,  535],\n        [ 537,  544],\n        [ 552,  567],\n        [ 576,  589],\n        [ 596,  607],\n        [ 612,  636],\n        [ 669,  674],\n        [ 678,  685],\n        [ 711,  720],\n        [ 721,  745],\n        [ 759,  768],\n        [ 800,  807],\n        [ 812,  827],\n        [ 834,  851],\n        [ 926,  951],\n        [ 954,  984],\n        [ 989, 1018],\n        [1047, 1054],\n        [1076, 1089],\n        [1102, 1138],\n        [1155, 1177],\n        [1182, 1202],\n        [1213, 1232],\n        [1249, 1266],\n        [1275, 1294],\n        [1298, 1317],\n        [1326, 1350],\n        [1366, 1379],\n        [1406, 1425],\n        [1447, 1462],\n        [1491, 1504],\n        [1534, 1547],\n        [1580, 1598],\n        [1637, 1650],\n        [1673, 1678],\n        [1700, 1709],\n        [1710, 1733],\n        [1759, 1768],\n        [1772, 1781],\n        [1796, 1805],\n        [1826, 1852],\n        [1891, 1902],\n        [1904, 1909],\n        [1919, 1934],\n        [1951, 1979],\n        [1986, 1991],\n        [2018, 2041],\n        [2048, 2055],\n        [2069, 2078],\n        [2088, 2113],\n        [2117, 2126],\n        [2135, 2148],\n        [2180, 2195],\n        [2222, 2229],\n        [2238, 2255],\n        [2256, 2281],\n        [2282, 2293],\n        [2299, 2322],\n        [2329, 2336],\n        [2345, 2352],\n        [2369, 2374],\n        [2390, 2407],\n        [2414, 2429],\n        [2463, 2478],\n        [2523, 2538],\n        [2568, 2577],\n        [2588, 2624],\n        [2653, 2666],\n        [2722, 2729],\n        [2755, 2762],\n        [2815, 2826],\n        [2831, 2844],\n        [2888, 2903],\n        [3023, 3038],\n        [3053, 3058],\n        [3062, 3073],\n        [3098, 3135],\n        [3193, 3210],\n        [3212, 3227],\n        [3259, 3282],\n        [3361, 3375],\n        [3437, 3464],\n        [3467, 3480],\n        [3601, 3624],\n        [3627, 3643],\n        [3673, 3704],\n        [3809, 3816],\n        [3860, 3874],\n        [3896, 3911],\n        [3941, 3948],\n        [3967, 3976],\n        [4021, 4028]]),\n 'spl_baseline': (array([   0.,    0.,    0.,    0.,   72.,  111.,  293.,  413.,  545.,\n          857., 1152., 1508., 1744., 2016., 2374., 2637., 2830., 3013.,\n         3291., 3501., 3726., 3917., 4011., 4095., 4095., 4095., 4095.]),\n  array([5.98442583e+02, 4.84277034e+02, 4.40097088e+02, 5.30354585e+02,\n         7.50341147e+02, 4.38848221e+02, 2.57161762e+02, 1.79556519e+02,\n         1.05822652e+02, 1.00488305e+02, 7.61206442e+01, 4.16135330e+01,\n         1.56122965e+01, 1.50376933e+01, 1.06625706e+01, 9.98343541e+00,\n         7.39194938e+00, 8.70825435e+00, 5.90709498e+00, 1.04595510e+01,\n         3.73875448e+00, 6.43100456e+00, 5.68697491e-01, 0.00000000e+00,\n         0.00000000e+00, 0.00000000e+00, 0.00000000e+00]),\n  3),\n 'eval_baseline': array([5.98442583e+02, 5.93735029e+02, 5.89125598e+02, ...,\n        9.75417199e-01, 7.75047209e-01, 5.68697491e-01]),\n 'y_s': array([0, 0, 0, ..., 3, 1, 2]),\n 'nzero': array([False, False, False, ...,  True,  True,  True]),\n 'n_ch': 4096,\n 'final_baseline': array([5.98442583e+02, 5.93735029e+02, 5.89125598e+02, ...,\n        9.75417199e-01, 7.75047209e-01, 5.68697491e-01]),\n 'x_s': array([0.000e+00, 1.000e+00, 2.000e+00, ..., 4.093e+03, 4.094e+03,\n        4.095e+03]),\n 'chans_nzero': array([  26.,   27.,   28., ..., 4093., 4094., 4095.]),\n 'counts_nzero': array([ 11, 221, 380, ...,   3,   1,   2]),\n 'unc_y': array([ 3.31662479, 14.86606875, 19.49358869, ...,  1.73205081,\n         1.        ,  1.41421356]),\n 'given_variance': array([0, 0, 0, ..., 3, 1, 2]),\n 'y_smoothed': array([0, 0, 0, ..., 3, 1, 2]),\n 'fft_s': None,\n 'is_reg': array([False, False, False, ..., False, False, False]),\n 'xs_all_mplets': [],\n 'ys_all_mplets': [],\n 'ys_all_steps': [],\n 'chans_in_multiplets_list': [array([24., 25., 26., 27., 28., 29., 30., 31., 32., 33., 34., 35., 36.,\n         37., 38., 39., 40., 41., 42., 43., 44., 45., 46., 47., 48., 49.,\n         50., 51., 52., 53., 54., 55., 56.]),\n  array([114., 115., 116., 117., 118., 119., 120., 121., 122., 123., 124.,\n         125., 126., 127., 128., 129., 130., 131., 132., 133., 134., 135.,\n         136., 137., 138., 139., 140., 141., 142., 143., 144., 145., 146.,\n         147., 148., 149., 150., 151., 152., 153., 154., 155., 156., 157.,\n         158., 159., 160., 161., 162., 163., 164., 165., 166., 167., 168.,\n         169., 170., 171., 172., 173., 174., 175., 176., 177., 178., 179.]),\n  array([236., 237., 238., 239., 240., 241., 242., 243., 244., 245., 246.,\n         247., 248., 249., 250., 251., 252., 253., 254., 255., 256., 257.,\n         258., 259., 260., 261., 262., 263., 264., 265., 266.]),\n  array([278., 279., 280., 281., 282., 283., 284.]),\n  array([328., 329., 330., 331., 332., 333., 334., 335., 336., 337., 338.,\n         339., 340.]),\n  array([352., 353., 354., 355., 356., 357., 358., 359., 360., 361., 362.]),\n  array([375., 376., 377., 378., 379., 380., 381., 382., 383., 384., 385.]),\n  array([393., 394., 395., 396., 397., 398., 399.]),\n  array([443., 444., 445., 446., 447., 448., 449.]),\n  array([458., 459., 460., 461., 462., 463., 464.]),\n  array([477., 478., 479., 480., 481., 482., 483., 484., 485., 486., 487.,\n         488., 489., 490., 491., 492., 493., 494., 495., 496., 497., 498.,\n         499.]),\n  array([524., 525., 526., 527., 528., 529., 530., 531., 532., 533., 534.]),\n  array([537., 538., 539., 540., 541., 542., 543.]),\n  array([552., 553., 554., 555., 556., 557., 558., 559., 560., 561., 562.,\n         563., 564., 565., 566.]),\n  array([576., 577., 578., 579., 580., 581., 582., 583., 584., 585., 586.,\n         587., 588.]),\n  array([596., 597., 598., 599., 600., 601., 602., 603., 604., 605., 606.]),\n  array([612., 613., 614., 615., 616., 617., 618., 619., 620., 621., 622.,\n         623., 624., 625., 626., 627., 628., 629., 630., 631., 632., 633.,\n         634., 635.]),\n  array([669., 670., 671., 672., 673.]),\n  array([678., 679., 680., 681., 682., 683., 684.]),\n  array([711., 712., 713., 714., 715., 716., 717., 718., 719.]),\n  array([721., 722., 723., 724., 725., 726., 727., 728., 729., 730., 731.,\n         732., 733., 734., 735., 736., 737., 738., 739., 740., 741., 742.,\n         743., 744.]),\n  array([759., 760., 761., 762., 763., 764., 765., 766., 767.]),\n  array([800., 801., 802., 803., 804., 805., 806.]),\n  array([812., 813., 814., 815., 816., 817., 818., 819., 820., 821., 822.,\n         823., 824., 825., 826.]),\n  array([834., 835., 836., 837., 838., 839., 840., 841., 842., 843., 844.,\n         845., 846., 847., 848., 849., 850.]),\n  array([926., 927., 928., 929., 930., 931., 932., 933., 934., 935., 936.,\n         937., 938., 939., 940., 941., 942., 943., 944., 945., 946., 947.,\n         948., 949., 950.]),\n  array([954., 955., 956., 957., 958., 959., 960., 961., 962., 963., 964.,\n         965., 966., 967., 968., 969., 970., 971., 972., 973., 974., 975.,\n         976., 977., 978., 979., 980., 981., 982., 983.]),\n  array([ 989.,  990.,  991.,  992.,  993.,  994.,  995.,  996.,  997.,\n          998.,  999., 1000., 1001., 1002., 1003., 1004., 1005., 1006.,\n         1007., 1008., 1009., 1010., 1011., 1012., 1013., 1014., 1015.,\n         1016., 1017.]),\n  array([1047., 1048., 1049., 1050., 1051., 1052., 1053.]),\n  array([1076., 1077., 1078., 1079., 1080., 1081., 1082., 1083., 1084.,\n         1085., 1086., 1087., 1088.]),\n  array([1102., 1103., 1104., 1105., 1106., 1107., 1108., 1109., 1110.,\n         1111., 1112., 1113., 1114., 1115., 1116., 1117., 1118., 1119.,\n         1120., 1121., 1122., 1123., 1124., 1125., 1126., 1127., 1128.,\n         1129., 1130., 1131., 1132., 1133., 1134., 1135., 1136., 1137.]),\n  array([1155., 1156., 1157., 1158., 1159., 1160., 1161., 1162., 1163.,\n         1164., 1165., 1166., 1167., 1168., 1169., 1170., 1171., 1172.,\n         1173., 1174., 1175., 1176.]),\n  array([1182., 1183., 1184., 1185., 1186., 1187., 1188., 1189., 1190.,\n         1191., 1192., 1193., 1194., 1195., 1196., 1197., 1198., 1199.,\n         1200., 1201.]),\n  array([1213., 1214., 1215., 1216., 1217., 1218., 1219., 1220., 1221.,\n         1222., 1223., 1224., 1225., 1226., 1227., 1228., 1229., 1230.,\n         1231.]),\n  array([1249., 1250., 1251., 1252., 1253., 1254., 1255., 1256., 1257.,\n         1258., 1259., 1260., 1261., 1262., 1263., 1264., 1265.]),\n  array([1275., 1276., 1277., 1278., 1279., 1280., 1281., 1282., 1283.,\n         1284., 1285., 1286., 1287., 1288., 1289., 1290., 1291., 1292.,\n         1293.]),\n  array([1298., 1299., 1300., 1301., 1302., 1303., 1304., 1305., 1306.,\n         1307., 1308., 1309., 1310., 1311., 1312., 1313., 1314., 1315.,\n         1316.]),\n  array([1326., 1327., 1328., 1329., 1330., 1331., 1332., 1333., 1334.,\n         1335., 1336., 1337., 1338., 1339., 1340., 1341., 1342., 1343.,\n         1344., 1345., 1346., 1347., 1348., 1349.]),\n  array([1366., 1367., 1368., 1369., 1370., 1371., 1372., 1373., 1374.,\n         1375., 1376., 1377., 1378.]),\n  array([1406., 1407., 1408., 1409., 1410., 1411., 1412., 1413., 1414.,\n         1415., 1416., 1417., 1418., 1419., 1420., 1421., 1422., 1423.,\n         1424.]),\n  array([1447., 1448., 1449., 1450., 1451., 1452., 1453., 1454., 1455.,\n         1456., 1457., 1458., 1459., 1460., 1461.]),\n  array([1491., 1492., 1493., 1494., 1495., 1496., 1497., 1498., 1499.,\n         1500., 1501., 1502., 1503.]),\n  array([1534., 1535., 1536., 1537., 1538., 1539., 1540., 1541., 1542.,\n         1543., 1544., 1545., 1546.]),\n  array([1580., 1581., 1582., 1583., 1584., 1585., 1586., 1587., 1588.,\n         1589., 1590., 1591., 1592., 1593., 1594., 1595., 1596., 1597.]),\n  array([1637., 1638., 1639., 1640., 1641., 1642., 1643., 1644., 1645.,\n         1646., 1647., 1648., 1649.]),\n  array([1673., 1674., 1675., 1676., 1677.]),\n  array([1700., 1701., 1702., 1703., 1704., 1705., 1706., 1707., 1708.]),\n  array([1710., 1711., 1712., 1713., 1714., 1715., 1716., 1717., 1718.,\n         1719., 1720., 1721., 1722., 1723., 1724., 1725., 1726., 1727.,\n         1728., 1729., 1730., 1731., 1732.]),\n  array([1759., 1760., 1761., 1762., 1763., 1764., 1765., 1766., 1767.]),\n  array([1772., 1773., 1774., 1775., 1776., 1777., 1778., 1779., 1780.]),\n  array([1796., 1797., 1798., 1799., 1800., 1801., 1802., 1803., 1804.]),\n  array([1826., 1827., 1828., 1829., 1830., 1831., 1832., 1833., 1834.,\n         1835., 1836., 1837., 1838., 1839., 1840., 1841., 1842., 1843.,\n         1844., 1845., 1846., 1847., 1848., 1849., 1850., 1851.]),\n  array([1891., 1892., 1893., 1894., 1895., 1896., 1897., 1898., 1899.,\n         1900., 1901.]),\n  array([1904., 1905., 1906., 1907., 1908.]),\n  array([1919., 1920., 1921., 1922., 1923., 1924., 1925., 1926., 1927.,\n         1928., 1929., 1930., 1931., 1932., 1933.]),\n  array([1951., 1952., 1953., 1954., 1955., 1956., 1957., 1958., 1959.,\n         1960., 1961., 1962., 1963., 1964., 1965., 1966., 1967., 1968.,\n         1969., 1970., 1971., 1972., 1973., 1974., 1975., 1976., 1977.,\n         1978.]),\n  array([1986., 1987., 1988., 1989., 1990.]),\n  array([2018., 2019., 2020., 2021., 2022., 2023., 2024., 2025., 2026.,\n         2027., 2028., 2029., 2030., 2031., 2032., 2033., 2034., 2035.,\n         2036., 2037., 2038., 2039., 2040.]),\n  array([2048., 2049., 2050., 2051., 2052., 2053., 2054.]),\n  array([2069., 2070., 2071., 2072., 2073., 2074., 2075., 2076., 2077.]),\n  array([2088., 2089., 2090., 2091., 2092., 2093., 2094., 2095., 2096.,\n         2097., 2098., 2099., 2100., 2101., 2102., 2103., 2104., 2105.,\n         2106., 2107., 2108., 2109., 2110., 2111., 2112.]),\n  array([2117., 2118., 2119., 2120., 2121., 2122., 2123., 2124., 2125.]),\n  array([2135., 2136., 2137., 2138., 2139., 2140., 2141., 2142., 2143.,\n         2144., 2145., 2146., 2147.]),\n  array([2180., 2181., 2182., 2183., 2184., 2185., 2186., 2187., 2188.,\n         2189., 2190., 2191., 2192., 2193., 2194.]),\n  array([2222., 2223., 2224., 2225., 2226., 2227., 2228.]),\n  array([2238., 2239., 2240., 2241., 2242., 2243., 2244., 2245., 2246.,\n         2247., 2248., 2249., 2250., 2251., 2252., 2253., 2254.]),\n  array([2256., 2257., 2258., 2259., 2260., 2261., 2262., 2263., 2264.,\n         2265., 2266., 2267., 2268., 2269., 2270., 2271., 2272., 2273.,\n         2274., 2275., 2276., 2277., 2278., 2279., 2280.]),\n  array([2282., 2283., 2284., 2285., 2286., 2287., 2288., 2289., 2290.,\n         2291., 2292.]),\n  array([2299., 2300., 2301., 2302., 2303., 2304., 2305., 2306., 2307.,\n         2308., 2309., 2310., 2311., 2312., 2313., 2314., 2315., 2316.,\n         2317., 2318., 2319., 2320., 2321.]),\n  array([2329., 2330., 2331., 2332., 2333., 2334., 2335.]),\n  array([2345., 2346., 2347., 2348., 2349., 2350., 2351.]),\n  array([2369., 2370., 2371., 2372., 2373.]),\n  array([2390., 2391., 2392., 2393., 2394., 2395., 2396., 2397., 2398.,\n         2399., 2400., 2401., 2402., 2403., 2404., 2405., 2406.]),\n  array([2414., 2415., 2416., 2417., 2418., 2419., 2420., 2421., 2422.,\n         2423., 2424., 2425., 2426., 2427., 2428.]),\n  array([2463., 2464., 2465., 2466., 2467., 2468., 2469., 2470., 2471.,\n         2472., 2473., 2474., 2475., 2476., 2477.]),\n  array([2523., 2524., 2525., 2526., 2527., 2528., 2529., 2530., 2531.,\n         2532., 2533., 2534., 2535., 2536., 2537.]),\n  array([2568., 2569., 2570., 2571., 2572., 2573., 2574., 2575., 2576.]),\n  array([2588., 2589., 2590., 2591., 2592., 2593., 2594., 2595., 2596.,\n         2597., 2598., 2599., 2600., 2601., 2602., 2603., 2604., 2605.,\n         2606., 2607., 2608., 2609., 2610., 2611., 2612., 2613., 2614.,\n         2615., 2616., 2617., 2618., 2619., 2620., 2621., 2622., 2623.]),\n  array([2653., 2654., 2655., 2656., 2657., 2658., 2659., 2660., 2661.,\n         2662., 2663., 2664., 2665.]),\n  array([2722., 2723., 2724., 2725., 2726., 2727., 2728.]),\n  array([2755., 2756., 2757., 2758., 2759., 2760., 2761.]),\n  array([2815., 2816., 2817., 2818., 2819., 2820., 2821., 2822., 2823.,\n         2824., 2825.]),\n  array([2831., 2832., 2833., 2834., 2835., 2836., 2837., 2838., 2839.,\n         2840., 2841., 2842., 2843.]),\n  array([2888., 2889., 2890., 2891., 2892., 2893., 2894., 2895., 2896.,\n         2897., 2898., 2899., 2900., 2901., 2902.]),\n  array([3023., 3024., 3025., 3026., 3027., 3028., 3029., 3030., 3031.,\n         3032., 3033., 3034., 3035., 3036., 3037.]),\n  array([3053., 3054., 3055., 3056., 3057.]),\n  array([3062., 3063., 3064., 3065., 3066., 3067., 3068., 3069., 3070.,\n         3071., 3072.]),\n  array([3098., 3099., 3100., 3101., 3102., 3103., 3104., 3105., 3106.,\n         3107., 3108., 3109., 3110., 3111., 3112., 3113., 3114., 3115.,\n         3116., 3117., 3118., 3119., 3120., 3121., 3122., 3123., 3124.,\n         3125., 3126., 3127., 3128., 3129., 3130., 3131., 3132., 3133.,\n         3134.]),\n  array([3193., 3194., 3195., 3196., 3197., 3198., 3199., 3200., 3201.,\n         3202., 3203., 3204., 3205., 3206., 3207., 3208., 3209.]),\n  array([3212., 3213., 3214., 3215., 3216., 3217., 3218., 3219., 3220.,\n         3221., 3222., 3223., 3224., 3225., 3226.]),\n  array([3259., 3260., 3261., 3262., 3263., 3264., 3265., 3266., 3267.,\n         3268., 3269., 3270., 3271., 3272., 3273., 3274., 3275., 3276.,\n         3277., 3278., 3279., 3280., 3281.]),\n  array([3361., 3362., 3363., 3364., 3365., 3366., 3367., 3368., 3369.,\n         3370., 3371., 3372., 3373., 3374.]),\n  array([3437., 3438., 3439., 3440., 3441., 3442., 3443., 3444., 3445.,\n         3446., 3447., 3448., 3449., 3450., 3451., 3452., 3453., 3454.,\n         3455., 3456., 3457., 3458., 3459., 3460., 3461., 3462., 3463.]),\n  array([3467., 3468., 3469., 3470., 3471., 3472., 3473., 3474., 3475.,\n         3476., 3477., 3478., 3479.]),\n  array([3601., 3602., 3603., 3604., 3605., 3606., 3607., 3608., 3609.,\n         3610., 3611., 3612., 3613., 3614., 3615., 3616., 3617., 3618.,\n         3619., 3620., 3621., 3622., 3623.]),\n  array([3627., 3628., 3629., 3630., 3631., 3632., 3633., 3634., 3635.,\n         3636., 3637., 3638., 3639., 3640., 3641., 3642.]),\n  array([3673., 3674., 3675., 3676., 3677., 3678., 3679., 3680., 3681.,\n         3682., 3683., 3684., 3685., 3686., 3687., 3688., 3689., 3690.,\n         3691., 3692., 3693., 3694., 3695., 3696., 3697., 3698., 3699.,\n         3700., 3701., 3702., 3703.]),\n  array([3809., 3810., 3811., 3812., 3813., 3814., 3815.]),\n  array([3860., 3861., 3862., 3863., 3864., 3865., 3866., 3867., 3868.,\n         3869., 3870., 3871., 3872., 3873.]),\n  array([3896., 3897., 3898., 3899., 3900., 3901., 3902., 3903., 3904.,\n         3905., 3906., 3907., 3908., 3909., 3910.]),\n  array([3941., 3942., 3943., 3944., 3945., 3946., 3947.]),\n  array([3967., 3968., 3969., 3970., 3971., 3972., 3973., 3974., 3975.]),\n  array([4021., 4022., 4023., 4024., 4025., 4026., 4027.])],\n 'calculated_step_counts': [array([510.83412207, 510.83412207, 510.80216209, 510.16005697,\n         509.05598484, 507.30399668, 504.68908899, 501.62674154,\n         499.20068829, 497.18430392, 495.67056291, 494.17134916,\n         492.84065169, 491.22521983, 489.69695156, 488.25875233,\n         486.72467315, 484.8361287 , 482.91562427, 481.12295978,\n         479.41164797, 477.67999798, 475.95125345, 474.27480708,\n         472.78721515, 471.27637959, 469.80912583, 468.2285594 ,\n         466.71191294, 465.27080826, 463.86456901, 463.86456901,\n         462.52073675]),\n  array([491.97192833, 493.02012466, 494.11327287, 495.19007495,\n         496.30774238, 497.30894355, 498.44295712, 499.5320188 ,\n         500.67420544, 501.99006983, 503.79223194, 505.74355258,\n         507.30052256, 509.17215577, 512.03886034, 514.42131047,\n         515.93537183, 517.10412095, 518.2585672 , 519.39462404,\n         520.44895017, 521.45423787, 522.5024342 , 523.6977458 ,\n         524.83788917, 525.89017203, 526.96493084, 528.12346362,\n         529.31264542, 530.67141843, 532.82297931, 534.82129512,\n         536.21276042, 537.49184599, 538.85879208, 540.32381502,\n         541.54977563, 542.73895743, 543.92200942, 544.98246535,\n         546.05313763, 547.14015604, 548.39880894, 549.6595051 ,\n         550.87116285, 552.06647445, 553.20661782, 554.32019871,\n         555.38678445, 556.51262495, 557.60372989, 558.65805602,\n         559.84519455, 561.11610706, 562.40540897, 563.58846097,\n         564.71430146, 565.84627177, 566.95576612, 568.16129406,\n         569.44242291, 570.59482588, 571.92907969, 573.15299704,\n         573.15299704, 574.32649982]),\n  array([633.14657771, 633.57633652, 633.99325663, 634.44463853,\n         634.9331851 , 635.42375884, 635.82919168, 636.26300482,\n         636.69681796, 637.13198255, 637.57390435, 638.042855  ,\n         638.48410108, 638.90642695, 639.33956437, 639.78824338,\n         640.22475941, 640.62748937, 641.05319385, 641.47416828,\n         641.91744152, 642.38233785, 642.84723418, 643.29253458,\n         643.72499628, 644.17840534, 644.60681271, 645.04941023,\n         645.4778176 , 645.4778176 , 645.9142757 ]),\n  array([645.85342454, 645.61469718, 645.35636007, 645.06903464,\n         644.81837091, 644.81837091, 644.5436027 ]),\n  array([607.94694969, 606.4204231 , 604.89389651, 603.44571814,\n         602.02028602, 600.58474446, 598.94195922, 597.36235803,\n         595.82824936, 594.38765307, 592.8661812 , 592.8661812 ,\n         591.37157122]),\n  array([572.95551273, 571.20613002, 569.5569892 , 567.571553  ,\n         565.70899396, 563.92080793, 562.18435965, 560.15365292,\n         558.38163494, 558.38163494, 556.58186656]),\n  array([534.43088137, 532.570554  , 530.62230945, 528.71978184,\n         526.6343865 , 524.53844111, 522.69218048, 520.84943655,\n         518.9293255 , 518.9293255 , 517.11080869]),\n  array([503.30518199, 501.54572236, 499.51361919, 496.92168795,\n         494.87504379, 494.87504379, 493.08256678]),\n  array([426.4416346 , 425.06083607, 423.49354007, 421.66801681,\n         420.11865327, 420.11865327, 418.61728668]),\n  array([407.39383725, 405.97510215, 404.57337827, 403.02195572,\n         401.59981839, 401.59981839, 400.2381113 ]),\n  array([385.5736761 , 384.53516743, 383.49932844, 382.47950758,\n         381.47303517, 380.48258088, 379.38800875, 378.33882132,\n         377.23624013, 376.06424705, 374.91895085, 373.65618838,\n         372.41211372, 371.28283564, 370.19894227, 369.28857862,\n         368.15930055, 367.1821947 , 366.12499821, 365.07047141,\n         364.0853565 , 364.0853565 , 363.11595016]),\n  array([340.61836805, 339.76213539, 338.92830416, 338.00486718,\n         337.06898497, 335.95140221, 334.94333759, 334.00745538,\n         333.18358034, 333.18358034, 332.35632934]),\n  array([329.94770586, 328.93184967, 328.03124892, 326.99663021,\n         326.09066875, 326.09066875, 325.21896506]),\n  array([318.32954554, 317.53583448, 316.73016993, 316.00100766,\n         315.27662678, 314.47813432, 313.63182795, 312.73292626,\n         311.89857337, 311.13355065, 310.34462098, 309.5604727 ,\n         308.80979417, 308.80979417, 308.0732846 ]),\n  array([301.07941186, 300.38257132, 299.80078545, 299.17124104,\n         298.41578775, 297.43022513, 296.42295407, 295.6175714 ,\n         294.90119328, 294.26513634, 293.6746671 , 293.6746671 ,\n         293.03852653]),\n  array([287.88432298, 287.2917178 , 286.63376833, 285.89244855,\n         285.21421981, 284.40530247, 283.68426195, 283.00377996,\n         282.30076546, 282.30076546, 281.66610086]),\n  array([278.051653  , 277.45951097, 276.93440388, 276.35790334,\n         275.73894733, 275.10658433, 274.55689777, 273.92230027,\n         273.37037921, 272.77153368, 272.12799819, 271.51127668,\n         270.91466566, 270.27113017, 269.71474011, 269.0935496 ,\n         268.49917307, 267.96736249, 267.35510998, 266.73168497,\n         266.13954294, 265.5608079 , 265.5608079 , 264.96873573]),\n  array([247.7001806 , 247.10168644, 246.4135393 , 246.4135393 ,\n         245.81790941]),\n  array([243.50653582, 242.91601079, 242.42931434, 241.83013693,\n         241.31315715, 241.31315715, 240.79230045]),\n  array([229.33233347, 228.93343742, 228.49760654, 228.0359213 ,\n         227.48374574, 227.00174634, 226.57514917, 226.57514917,\n         226.15749486]),\n  array([225.3785013 , 225.01679907, 224.60946153, 224.2494495 ,\n         223.80661781, 223.39589986, 223.02405646, 222.70798956,\n         222.30065201, 221.90514585, 221.52485145, 221.10737272,\n         220.72538813, 220.33664275, 219.92592481, 219.50168529,\n         219.02504965, 218.64813565, 218.23741771, 217.90106844,\n         217.554578  , 217.18273459, 217.18273459, 216.81627231]),\n  array([211.59265031, 211.19522934, 210.83755047, 210.47295992,\n         210.03406894, 209.60727337, 209.27205742, 209.27205742,\n         208.91107637]),\n  array([198.50957803, 198.19556967, 197.80777792, 197.37708886,\n         197.05450104, 197.05450104, 196.71695585]),\n  array([194.95006801, 194.65781403, 194.35786917, 194.05177158,\n         193.74105946, 193.41496556, 193.07348986, 192.70278877,\n         192.36592761, 192.08751724, 191.80603052, 191.4953184 ,\n         191.21075532, 191.21075532, 190.9170907 ]),\n  array([188.66196963, 188.51968679, 188.34637418, 188.17306157,\n         187.9528259 , 187.64555551, 187.22703205, 186.64352105,\n         186.00173462, 185.49012186, 185.11852147, 184.84228085,\n         184.67048189, 184.51987399, 184.37834797, 184.37834797,\n         184.23891161]),\n  array([164.3600311 , 164.0956902 , 163.85440228, 163.58084017,\n         163.30113061, 163.0414003 , 162.8170179 , 162.57265625,\n         162.33905266, 162.09622787, 161.83342383, 161.57523039,\n         161.28168903, 160.99736887, 160.73302796, 160.47022392,\n         160.22278854, 159.95844763, 159.74636016, 159.47587179,\n         159.21767835, 158.99483281, 158.74124997, 158.74124997,\n         158.49766034]),\n  array([157.54239371, 157.29816817, 157.05965551, 156.83114038,\n         156.58977128, 156.2555679 , 155.81710451, 155.41720303,\n         155.14298488, 154.92589551, 154.72166012, 154.50599897,\n         154.29176604, 154.10895394, 153.90757498, 153.70191137,\n         153.484822  , 153.24630933, 153.02350709, 152.79213552,\n         152.53648422, 152.32939239, 152.14943673, 151.89807009,\n         151.69383469, 151.48817108, 151.2482302 , 151.02971261,\n         151.02971261, 150.81431665]),\n  array([149.46737025, 149.26444446, 149.05547921, 148.83685082,\n         148.59164882, 148.40563351, 148.21720242, 147.99615825,\n         147.79444035, 147.5987619 , 147.37409406, 147.17479194,\n         146.9344215 , 146.56963823, 146.05870007, 145.69512469,\n         145.47045685, 145.30497569, 145.12499984, 144.9293214 ,\n         144.73243506, 144.51139089, 144.31571245, 144.12486557,\n         143.94005815, 143.75525073, 143.5716512 , 143.5716512 ,\n         143.39844143]),\n  array([137.3155282 , 137.09455274, 136.86194699, 136.57949715,\n         136.38012079, 136.38012079, 136.15390521]),\n  array([131.87893603, 131.80760364, 131.71061662, 131.6192611 ,\n         131.45845036, 131.13307455, 130.63687644, 130.21513934,\n         130.02804825, 129.92918406, 129.84533722, 129.84533722,\n         129.76414085]),\n  array([127.40080589, 127.26131971, 127.11502933, 126.96080071,\n         126.82244857, 126.66254978, 126.50378502, 126.38584549,\n         126.22367864, 126.05697564, 125.89140669, 125.71109529,\n         125.51263934, 125.30170903, 125.11572746, 124.95242657,\n         124.79479585, 124.63603109, 124.50221509, 124.3423163 ,\n         124.19375785, 124.04066326, 123.91138339, 123.75942284,\n         123.60632826, 123.4475635 , 123.28086051, 123.08580667,\n         122.87487635, 122.71157546, 122.54827457, 122.39631402,\n         122.26590012, 122.14229042, 122.14229042, 122.00393381]),\n  array([119.52622253, 119.40659029, 119.28695804, 119.14610072,\n         119.0293628 , 118.89622368, 118.71774009, 118.50163022,\n         118.31060454, 118.14948691, 118.03081944, 117.92855317,\n         117.83496988, 117.70761942, 117.57930419, 117.49343911,\n         117.36126477, 117.25899849, 117.1248946 , 117.00815668,\n         117.00815668, 116.8953788 ]),\n  array([116.19259671, 116.08074435, 115.98183359, 115.87367884,\n         115.76459968, 115.63610813, 115.50761658, 115.37635184,\n         115.27651668, 115.16651312, 115.05928276, 114.9622208 ,\n         114.84944405, 114.7218769 , 114.55733376, 114.43069102,\n         114.31883866, 114.2069863 , 114.2069863 , 114.10151091]),\n  array([112.88043508, 112.77478886, 112.68060812, 112.57741879,\n         112.4865139 , 112.39560902, 112.30552309, 112.21543717,\n         112.11552369, 111.99431717, 111.8853951 , 111.76910236,\n         111.65608548, 111.5692754 , 111.45871541, 111.36862948,\n         111.27362978, 111.27362978, 111.18257537]),\n  array([109.63247674, 109.56007688, 109.49371034, 109.43096379,\n         109.36158058, 109.26866742, 109.14679432, 109.00923457,\n         108.87046817, 108.781175  , 108.7117918 , 108.64240859,\n         108.59233202, 108.51691549, 108.43244898, 108.43244898,\n         108.36706764]),\n  array([107.62524734, 107.5549482 , 107.47850642, 107.41776251,\n         107.34746337, 107.27784675, 107.19730987, 107.12291564,\n         107.04306128, 106.95911183, 106.89086024, 106.82602123,\n         106.75503957, 106.67928031, 106.60829866, 106.52503172,\n         106.44858994, 106.44858994, 106.37598664]),\n  array([106.04704154, 105.98663518, 105.93485829, 105.87136997,\n         105.80356691, 105.72959994, 105.652551  , 105.59830855,\n         105.52927271, 105.45407295, 105.37209289, 105.30244065,\n         105.23648676, 105.1686837 , 105.10519538, 105.0386251 ,\n         104.98561544, 104.98561544, 104.92094306]),\n  array([104.33084433, 104.30218178, 104.26714976, 104.23769103,\n         104.17956973, 104.07128896, 103.88126683, 103.66948239,\n         103.51475766, 103.44548982, 103.40860004, 103.38259143,\n         103.35419427, 103.32659329, 103.30297322, 103.27032975,\n         103.2368901 , 103.21220845, 103.17611486, 103.14187903,\n         103.11242029, 103.08136919, 103.08136919, 103.05401927]),\n  array([102.16838214, 102.11687594, 102.07038362, 102.02936099,\n         101.98013383, 101.92270214, 101.8420243 , 101.76636033,\n         101.70984026, 101.65833406, 101.61184174, 101.61184174,\n         101.56554745]),\n  array([100.20461455, 100.15471636, 100.10284202, 100.06628295,\n         100.02181923,  99.971427  ,  99.9225169 ,  99.8652081 ,\n          99.80345293,  99.74021563,  99.68389491,  99.63646693,\n          99.5836045 ,  99.53667057,  99.48825451,  99.44379078,\n          99.39290452,  99.39290452,  99.34382456]),\n  array([98.23332051, 98.20766341, 98.18257021, 98.15522144, 98.11715873,\n         98.04808194, 97.93530351, 97.80448054, 97.70382579, 97.65533107,\n         97.62234338, 97.59330293, 97.5673639 , 97.5673639 , 97.53986292]),\n  array([95.9730562 , 95.93469933, 95.89391991, 95.84910293, 95.78975071,\n         95.70940315, 95.59231374, 95.49541216, 95.43121487, 95.38034154,\n         95.34238842, 95.34238842, 95.30390884]),\n  array([93.43148839, 93.37857167, 93.3247504 , 93.26459722, 93.20851454,\n         93.11489267, 92.99187262, 92.87744588, 92.80191518, 92.74311884,\n         92.69246352, 92.69246352, 92.65055956]),\n  array([90.27518683, 90.19565191, 90.12400475, 90.05695878, 89.98071042,\n         89.88868654, 89.80126386, 89.74210565, 89.68031819, 89.6172161 ,\n         89.53307998, 89.43382566, 89.29841909, 89.19522089, 89.12094447,\n         89.05915701, 89.05915701, 89.00065568]),\n  array([85.78618063, 85.71024343, 85.61637661, 85.53305663, 85.44235387,\n         85.34321363, 85.2314172 , 85.13965975, 85.05106636, 84.94243398,\n         84.85489526, 84.85489526, 84.76549451]),\n  array([82.65015983, 82.54918931, 82.40870859, 82.40870859, 82.28829277]),\n  array([80.15788364, 80.0611367 , 79.97292625, 79.85199257, 79.71683141,\n         79.61297072, 79.51053278, 79.51053278, 79.39756996]),\n  array([79.20597566, 79.12059114, 79.03520662, 78.90384581, 78.80138438,\n         78.71731346, 78.61353843, 78.511077  , 78.39942031, 78.29301806,\n         78.19843828, 78.08940881, 77.98300656, 77.87134987, 77.7452435 ,\n         77.64278207, 77.53900703, 77.44048643, 77.34065221, 77.25395408,\n         77.16068791, 77.16068791, 77.05946198]),\n  array([74.33189252, 74.21462121, 74.10969425, 73.9769925 , 73.82731728,\n         73.72084727, 73.6190064 , 73.6190064 , 73.50558408]),\n  array([72.98530207, 72.87149692, 72.76114042, 72.64388664, 72.4886978 ,\n         72.3610981 , 72.27143344, 72.27143344, 72.14702885]),\n  array([70.45062145, 70.32128194, 70.18211919, 70.08716107, 69.9447239 ,\n         69.82193323, 69.70732861, 69.70732861, 69.59338969]),\n  array([67.2094277 , 67.10752909, 67.00438781, 66.9062172 , 66.77449461,\n         66.59430804, 66.38429749, 66.24014824, 66.13079363, 66.01895369,\n         65.93818041, 65.84870846, 65.72319919, 65.56538061, 65.38892205,\n         65.23855946, 65.13044752, 65.06334356, 64.96020229, 64.88688499,\n         64.80362637, 64.72161042, 64.61846914, 64.54266652, 64.54266652,\n         64.46256109]),\n  array([60.01711432, 59.90248292, 59.7706568 , 59.66366749, 59.52802033,\n         59.36944689, 59.2318892 , 59.12681041, 59.01408953, 59.01408953,\n         58.90155673]),\n  array([58.56686577, 58.45013279, 58.25635604, 58.25635604, 58.12066407]),\n  array([56.89435745, 56.87827349, 56.85401991, 56.82695803, 56.77666376,\n         56.65845948, 56.40417986, 56.01918621, 55.67401949, 55.48433097,\n         55.39829459, 55.368935  , 55.35080864, 55.35080864, 55.33668114]),\n  array([53.3426572 , 53.23439309, 53.13249746, 53.00512792, 52.90110946,\n         52.78223123, 52.65061604, 52.5147552 , 52.41498239, 52.30459546,\n         52.18571722, 52.04985638, 51.96494335, 51.81634556, 51.73355536,\n         51.61043147, 51.47032498, 51.35993805, 51.25167394, 51.14128701,\n         51.0415142 , 50.96084683, 50.85682837, 50.75068709, 50.60421212,\n         50.48745671, 50.48745671, 50.38050767]),\n  array([49.51167038, 49.3968928 , 49.21004558, 49.21004558, 49.07904154]),\n  array([46.08931311, 45.9664806 , 45.86147863, 45.77826951, 45.64553116,\n         45.51279281, 45.41769668, 45.31863821, 45.23741026, 45.13240829,\n         45.01750046, 44.90853614, 44.80749651, 44.66088997, 44.51230227,\n         44.33994053, 44.23295738, 44.13984242, 44.0566333 , 43.96946185,\n         43.8822904 , 43.8822904 , 43.79552404]),\n  array([42.97479824, 42.83498158, 42.74829525, 42.59449693, 42.4826436 ,\n         42.4826436 , 42.36417924]),\n  array([40.85683457, 40.72089603, 40.62939893, 40.50914561, 40.36275025,\n         40.26602475, 40.16929925, 40.16929925, 40.06456236]),\n  array([38.98898527, 38.92502734, 38.82642552, 38.71183422, 38.61589732,\n         38.50930076, 38.40803402, 38.30143747, 38.20550056, 38.11489349,\n         37.99230744, 37.90170037, 37.77644941, 37.67784759, 37.5659212 ,\n         37.44333516, 37.3367386 , 37.24346661, 37.15285954, 37.05159281,\n         36.94499625, 36.859719  , 36.79842598, 36.79842598, 36.70062198]),\n  array([36.23441728, 36.10605694, 36.02965198, 35.91657264, 35.78515611,\n         35.69958255, 35.6048404 , 35.6048404 , 35.49635649]),\n  array([34.58772811, 34.50670552, 34.41121462, 34.35912867, 34.25785043,\n         34.14499754, 34.01767633, 33.91929176, 33.82669452, 33.72252262,\n         33.61545705, 33.61545705, 33.51846588]),\n  array([30.70318819, 30.69197082, 30.67701432, 30.65312547, 30.60368594,\n         30.49213539, 30.29687001, 30.02391394, 29.77775492, 29.64460055,\n         29.59744603, 29.58041225, 29.57355718, 29.57355718, 29.56741517]),\n  array([27.40765357, 27.34440417, 27.26783911, 27.13801139, 27.0547885 ,\n         27.0547885 , 26.9650242 ]),\n  array([26.24369819, 26.18755517, 26.12375628, 26.05995739, 25.97829481,\n         25.91959983, 25.80476183, 25.71544338, 25.59039755, 25.49087128,\n         25.41431261, 25.35816959, 25.2943707 , 25.24077963, 25.19739638,\n         25.19739638, 25.13325743]),\n  array([24.99831327, 24.9593302 , 24.92522001, 24.8683697 , 24.79690075,\n         24.71893461, 24.65883571, 24.60523399, 24.56137804, 24.51264921,\n         24.46392037, 24.42006442, 24.37133558, 24.31123669, 24.22839767,\n         24.08870834, 23.9230303 , 23.76547373, 23.65014882, 23.60141998,\n         23.55918833, 23.52182955, 23.48609507, 23.48609507, 23.4480086 ]),\n  array([23.32468545, 23.28795341, 23.21186559, 23.14889637, 23.08330343,\n         22.98360215, 22.91013806, 22.84979255, 22.78157589, 22.78157589,\n         22.72195988]),\n  array([22.31400779, 22.24851431, 22.18520395, 22.11316112, 22.07168192,\n         22.02583649, 21.97125859, 21.91449758, 21.87301837, 21.81625736,\n         21.74639765, 21.66780548, 21.59576266, 21.5193536 , 21.45604324,\n         21.40583157, 21.34033809, 21.30322512, 21.25083034, 21.21153426,\n         21.15477324, 21.15477324, 21.10869052]),\n  array([20.7000027 , 20.63340136, 20.57869311, 20.4930628 , 20.45262627,\n         20.45262627, 20.4040927 ]),\n  array([19.93141905, 19.89156792, 19.84234007, 19.75794946, 19.70637742,\n         19.70637742, 19.66029009]),\n  array([18.90422005, 18.87134697, 18.79548602, 18.79548602, 18.74807779]),\n  array([18.13250714, 18.12909912, 18.12332031, 18.11561522, 18.09990869,\n         18.05975332, 17.98018346, 17.86416261, 17.74503008, 17.67212809,\n         17.64219678, 17.63286177, 17.62826835, 17.62530486, 17.62263771,\n         17.62263771, 17.62002687]),\n  array([17.3863345 , 17.36576395, 17.33490812, 17.31562323, 17.28091043,\n         17.25648291, 17.22434142, 17.17677203, 17.13948791, 17.1112034 ,\n         17.08677588, 17.06106269, 17.03277819, 17.03277819, 17.01090795]),\n  array([16.23706065, 16.22382863, 16.21324302, 16.193395  , 16.16957738,\n         16.14708296, 16.11863413, 16.07695328, 16.04982765, 16.03394924,\n         16.02204043, 16.01013161, 15.9942532 , 15.9942532 , 15.98367838]),\n  array([15.31803613, 15.30634898, 15.29328687, 15.27816232, 15.26922509,\n         15.25960037, 15.2486007 , 15.2286638 , 15.21078933, 15.1949773 ,\n         15.18397763, 15.1750404 , 15.16266577, 15.16266577, 15.15224891]),\n  array([14.81767923, 14.80969849, 14.80171775, 14.78416012, 14.76500633,\n         14.75383329, 14.74665063, 14.74665063, 14.73489109]),\n  array([14.61068555, 14.60323657, 14.59811539, 14.58926973, 14.57669958,\n         14.56878504, 14.55761157, 14.55342152, 14.54224805, 14.53433351,\n         14.52595341, 14.52036667, 14.51477994, 14.50593427, 14.49662305,\n         14.48219065, 14.47287943, 14.45658478, 14.44168683, 14.42539218,\n         14.41235647, 14.40490749, 14.3951307 , 14.38488836, 14.36533479,\n         14.34578122, 14.32343428, 14.30713963, 14.2955006 , 14.28153377,\n         14.27082586, 14.25685902, 14.24615112, 14.23451209, 14.23451209,\n         14.22788813]),\n  array([13.84316626, 13.83082735, 13.81672574, 13.80703088, 13.79204791,\n         13.78059035, 13.75414983, 13.72947201, 13.7100823 , 13.69509933,\n         13.68364177, 13.68364177, 13.67159231]),\n  array([12.77373058, 12.75476117, 12.73958565, 12.71049922, 12.69152982,\n         12.69152982, 12.67550004]),\n  array([12.2367108 , 12.2114061 , 12.19760353, 12.1699984 , 12.15504562,\n         12.15504562, 12.14108079]),\n  array([11.35338382, 11.3385603 , 11.32373678, 11.3128662 , 11.30001914,\n         11.28025445, 11.26641916, 11.25752505, 11.23973682, 11.23973682,\n         11.22864029]),\n  array([11.15796962, 11.14927833, 11.13872463, 11.12817093, 11.11761723,\n         11.10892594, 11.08781854, 11.06733194, 11.05491582, 11.04436212,\n         11.03318761, 11.03318761, 11.02634239]),\n  array([10.62984049, 10.62798492, 10.62353153, 10.61963482, 10.61072806,\n         10.59996571, 10.58307997, 10.56266863, 10.55023626, 10.54114394,\n         10.53798946, 10.53613388, 10.53279385, 10.53279385, 10.53083977]),\n  array([9.81040806, 9.80405238, 9.7972078 , 9.78987432, 9.78302974,\n         9.77618516, 9.76542939, 9.75125133, 9.74098445, 9.73316207,\n         9.72778419, 9.72191741, 9.71653952, 9.71653952, 9.71179144]),\n  array([9.59254368, 9.58599915, 9.56963782, 9.56963782, 9.56181561]),\n  array([9.52296233, 9.51342918, 9.50707374, 9.49992388, 9.49118516,\n         9.47688543, 9.46576342, 9.45861356, 9.4514637 , 9.4514637 ,\n         9.44396114]),\n  array([9.23293988, 9.22296785, 9.21759829, 9.2060921 , 9.18998343,\n         9.18614803, 9.18231263, 9.17771016, 9.16543688, 9.15853317,\n         9.15393069, 9.14395866, 9.13552078, 9.12861707, 9.12554875,\n         9.11557672, 9.10330345, 9.09716681, 9.08872894, 9.07722274,\n         9.06955195, 9.05957991, 9.04730664, 9.03810169, 9.02966381,\n         9.01815762, 9.00971975, 9.00204895, 8.9966794 , 8.98670736,\n         8.97826949, 8.96906453, 8.95985958, 8.95295586, 8.94451799,\n         8.94451799, 8.93766209]),\n  array([8.48944303, 8.48517251, 8.4776991 , 8.46755661, 8.46115083,\n         8.45527887, 8.44940691, 8.4419335 , 8.4312572 , 8.42324997,\n         8.41631038, 8.41043841, 8.40243119, 8.39549159, 8.388552  ,\n         8.388552  , 8.38407645]),\n  array([8.36537401, 8.35957607, 8.35377812, 8.35008852, 8.34481767,\n         8.34060098, 8.33216761, 8.32268007, 8.31477378, 8.31108418,\n         8.30475916, 8.29632578, 8.28736533, 8.28736533, 8.28299948]),\n  array([8.12575806, 8.12227312, 8.11910499, 8.11371917, 8.11086785,\n         8.10769973, 8.10516522, 8.10231391, 8.0997794 , 8.09692809,\n         8.09534402, 8.08964139, 8.08615645, 8.08140426, 8.07760251,\n         8.07221669, 8.06904856, 8.06651406, 8.06302911, 8.06112824,\n         8.0576433 , 8.0576433 , 8.05509134]),\n  array([8.03429017, 8.03532992, 8.0370195 , 8.03831918, 8.04052863,\n         8.04182831, 8.04325796, 8.04442767, 8.04624722, 8.04741693,\n         8.04962638, 8.05066613, 8.05066613, 8.05171259]),\n  array([8.12536283, 8.12524932, 8.12514613, 8.1250739 , 8.12498103,\n         8.12486752, 8.12477465, 8.12472305, 8.1245889 , 8.1244238 ,\n         8.12414518, 8.12381497, 8.1234538 , 8.1230204 , 8.12259732,\n         8.12222583, 8.12200913, 8.12184402, 8.12169956, 8.12158605,\n         8.12155509, 8.12147254, 8.12135903, 8.1212352 , 8.12115264,\n         8.12115264, 8.12106884]),\n  array([8.11721547, 8.11595392, 8.11399151, 8.11216926, 8.11118806,\n         8.11034702, 8.10726323, 8.10516064, 8.10305806, 8.10165633,\n         8.10067512, 8.10067512, 8.09953979]),\n  array([7.4500057 , 7.44727617, 7.44454663, 7.44220703, 7.43557816,\n         7.42972916, 7.42816943, 7.42466003, 7.42115063, 7.41647143,\n         7.40945263, 7.40282376, 7.39619489, 7.38332709, 7.36811968,\n         7.35642168, 7.34589348, 7.34160421, 7.33614515, 7.33263575,\n         7.32990621, 7.32990621, 7.32704915]),\n  array([7.3076789 , 7.30406323, 7.30044755, 7.29818776, 7.29321621,\n         7.29095641, 7.28146527, 7.27513784, 7.26835845, 7.26655061,\n         7.26383886, 7.25931926, 7.25208792, 7.2489242 , 7.2489242 ,\n         7.24564946]),\n  array([7.18535042, 7.18773481, 7.1891257 , 7.1913114 , 7.19290099,\n         7.19508668, 7.19687498, 7.19886197, 7.20104766, 7.20343206,\n         7.20561775, 7.20879694, 7.20979043, 7.21118133, 7.21376442,\n         7.21595011, 7.21654621, 7.21674491, 7.2189306 , 7.2201228 ,\n         7.22230849, 7.22310329, 7.22648118, 7.22946167, 7.23184606,\n         7.23403175, 7.23601875, 7.23860184, 7.24158233, 7.24158233,\n         7.24302151]),\n  array([8.36064662, 8.37149807, 8.3811438 , 8.40164097, 8.4112867 ,\n         8.4112867 , 8.42144057]),\n  array([8.63061021, 8.6265989 , 8.6230333 , 8.6172392 , 8.60921659,\n         8.60743379, 8.60342249, 8.59941118, 8.59584558, 8.59317138,\n         8.58559447, 8.58158317, 8.58158317, 8.57776006]),\n  array([8.31511152, 8.28496672, 8.2756914 , 8.23859012, 8.2223583 ,\n         8.21308298, 8.18989468, 8.16670638, 8.12960509, 8.11337328,\n         8.09482263, 8.06235901, 8.05076486, 8.05076486, 8.03213969]),\n  array([7.06152678, 7.04926857, 7.02475216, 6.9266865 , 6.88378277,\n         6.88378277, 6.84184837]),\n  array([6.12357253, 6.09060502, 6.05292787, 6.02467001, 5.9493157 ,\n         5.90221927, 5.89279998, 5.89279998, 5.86517708]),\n  array([5.23524991, 5.24103516, 5.24682041, 5.25839091, 5.26475469,\n         5.26475469, 5.26780225])],\n 'xs_bl_in_reg': array([  24.,   25.,   26., ..., 4025., 4026., 4027.]),\n 'ys_bl_in_reg': array([ 0,  0, 11, ..., 11, 12, 10]),\n 'xs_bl_out_reg': array([0.000e+00, 1.000e+00, 2.000e+00, ..., 4.093e+03, 4.094e+03,\n        4.095e+03]),\n 'ys_bl_out_reg': array([572, 572, 572, ...,   3,   1,   2]),\n 'ws_bl_out_reg': array([0.0418121, 0.0418121, 0.0418121, ..., 1.       , 1.       ,\n        1.       ]),\n 'pk_parms': <peaksparms_class.PeaksParms at 0x7f8cd8db7a50>,\n 'fft_spec': array([], dtype=float64),\n 'k_erf': 0.9999975184539827,\n 'widths_range': (0.9485126890018591, 7.605965318047311),\n 'widths_pair': (0.9485126890018591, 7.605965318047311)}"
     },
     "execution_count": 17,
     "metadata": {},
     "output_type": "execute_result"
    }
   ],
   "source": [
    "vars(orig_ser)"
   ],
   "metadata": {
    "collapsed": false,
    "ExecuteTime": {
     "end_time": "2023-06-14T16:22:37.967129512Z",
     "start_time": "2023-06-14T16:22:36.136884114Z"
    }
   }
  },
  {
   "cell_type": "code",
   "execution_count": 18,
   "outputs": [
    {
     "data": {
      "text/plain": "{'mix_regions': array([[  25,   57],\n        [ 122,  134],\n        [ 139,  150],\n        [ 231,  240],\n        [ 393,  400],\n        [ 479,  498],\n        [ 525,  534],\n        [ 577,  588],\n        [ 712,  719],\n        [ 834,  851],\n        [ 955,  966],\n        [ 998, 1009],\n        [1076, 1089],\n        [1108, 1123],\n        [1125, 1136],\n        [1156, 1169],\n        [1193, 1200],\n        [1250, 1265],\n        [1326, 1341],\n        [1367, 1378],\n        [1448, 1461],\n        [1492, 1503],\n        [1534, 1547],\n        [1580, 1598],\n        [1827, 1848],\n        [1919, 1934],\n        [2027, 2040],\n        [2180, 2195],\n        [2264, 2281],\n        [2390, 2407],\n        [2465, 2476],\n        [2606, 2623],\n        [2832, 2843],\n        [2888, 2903],\n        [3025, 3036],\n        [3438, 3463],\n        [3607, 3624],\n        [4001, 4028]]),\n 'spl_baseline': None,\n 'eval_baseline': None,\n 'y_s': array([0.        , 0.        , 0.        , ..., 2.0245828 , 0.        ,\n        1.43130251]),\n 'nzero': array([False, False, False, ...,  True, False,  True]),\n 'n_ch': 4096,\n 'final_baseline': None,\n 'x_s': array([0.000e+00, 1.000e+00, 2.000e+00, ..., 4.093e+03, 4.094e+03,\n        4.095e+03]),\n 'chans_nzero': array([  29.,   30.,   31., ..., 4092., 4093., 4095.]),\n 'counts_nzero': array([ 95.69600332, 395.31091101, 552.37325846, ...,   1.83010695,\n          2.0245828 ,   1.43130251]),\n 'given_variance': array([598.44258345, 593.73502877, 589.12559755, ...,   3.9754172 ,\n          1.77504721,   2.56869749]),\n 'unc_y': array([24.46308614, 24.36667866, 24.27190964, ...,  1.99384483,\n         1.33230898,  1.60271566]),\n 'y_smoothed': array([0.        , 0.        , 0.        , ..., 2.0245828 , 0.        ,\n        1.43130251]),\n 'fft_s': None,\n 'is_reg': array([False, False, False, ..., False, False, False]),\n 'xs_all_mplets': [],\n 'ys_all_mplets': [],\n 'ys_all_steps': [],\n 'chans_in_multiplets_list': [],\n 'calculated_step_counts': [],\n 'xs_bl_in_reg': array([], dtype=float64),\n 'ys_bl_in_reg': array([], dtype=float64),\n 'xs_bl_out_reg': array([], dtype=float64),\n 'ys_bl_out_reg': array([], dtype=float64),\n 'ws_bl_out_reg': array([], dtype=float64),\n 'pk_parms': <peaksparms_class.PeaksParms at 0x7f8cd78a4410>,\n 'fft_spec': array([], dtype=float64),\n 'k_erf': 0.9999975184539827,\n 'widths_range': (1.1924951533206265, 7.116675913019549),\n 'widths_pair': (1.1924951533206265, 7.116675913019549)}"
     },
     "execution_count": 18,
     "metadata": {},
     "output_type": "execute_result"
    }
   ],
   "source": [
    "net_ser = a_spec.net_spec_ser_an\n",
    "vars(net_ser)"
   ],
   "metadata": {
    "collapsed": false,
    "ExecuteTime": {
     "end_time": "2023-06-14T16:22:37.968338603Z",
     "start_time": "2023-06-14T16:22:36.253019647Z"
    }
   }
  },
  {
   "cell_type": "code",
   "execution_count": 19,
   "outputs": [],
   "source": [
    "# Só para verificar se o pkl_file pode ser recuperado:\n",
    "read_analysis_spec = pd.read_pickle(a_spec.pkl_file)"
   ],
   "metadata": {
    "collapsed": false,
    "ExecuteTime": {
     "end_time": "2023-06-14T16:22:37.972114445Z",
     "start_time": "2023-06-14T16:22:36.640437554Z"
    }
   }
  },
  {
   "cell_type": "code",
   "execution_count": 20,
   "outputs": [
    {
     "data": {
      "text/plain": "{'mix_regions': array([[  24,   57],\n        [ 114,  180],\n        [ 236,  267],\n        [ 278,  285],\n        [ 328,  341],\n        [ 352,  363],\n        [ 375,  386],\n        [ 393,  400],\n        [ 443,  450],\n        [ 458,  465],\n        [ 477,  500],\n        [ 524,  535],\n        [ 537,  544],\n        [ 552,  567],\n        [ 576,  589],\n        [ 596,  607],\n        [ 612,  636],\n        [ 669,  674],\n        [ 678,  685],\n        [ 711,  720],\n        [ 721,  745],\n        [ 759,  768],\n        [ 800,  807],\n        [ 812,  827],\n        [ 834,  851],\n        [ 926,  951],\n        [ 954,  984],\n        [ 989, 1018],\n        [1047, 1054],\n        [1076, 1089],\n        [1102, 1138],\n        [1155, 1177],\n        [1182, 1202],\n        [1213, 1232],\n        [1249, 1266],\n        [1275, 1294],\n        [1298, 1317],\n        [1326, 1350],\n        [1366, 1379],\n        [1406, 1425],\n        [1447, 1462],\n        [1491, 1504],\n        [1534, 1547],\n        [1580, 1598],\n        [1637, 1650],\n        [1673, 1678],\n        [1700, 1709],\n        [1710, 1733],\n        [1759, 1768],\n        [1772, 1781],\n        [1796, 1805],\n        [1826, 1852],\n        [1891, 1902],\n        [1904, 1909],\n        [1919, 1934],\n        [1951, 1979],\n        [1986, 1991],\n        [2018, 2041],\n        [2048, 2055],\n        [2069, 2078],\n        [2088, 2113],\n        [2117, 2126],\n        [2135, 2148],\n        [2180, 2195],\n        [2222, 2229],\n        [2238, 2255],\n        [2256, 2281],\n        [2282, 2293],\n        [2299, 2322],\n        [2329, 2336],\n        [2345, 2352],\n        [2369, 2374],\n        [2390, 2407],\n        [2414, 2429],\n        [2463, 2478],\n        [2523, 2538],\n        [2568, 2577],\n        [2588, 2624],\n        [2653, 2666],\n        [2722, 2729],\n        [2755, 2762],\n        [2815, 2826],\n        [2831, 2844],\n        [2888, 2903],\n        [3023, 3038],\n        [3053, 3058],\n        [3062, 3073],\n        [3098, 3135],\n        [3193, 3210],\n        [3212, 3227],\n        [3259, 3282],\n        [3361, 3375],\n        [3437, 3464],\n        [3467, 3480],\n        [3601, 3624],\n        [3627, 3643],\n        [3673, 3704],\n        [3809, 3816],\n        [3860, 3874],\n        [3896, 3911],\n        [3941, 3948],\n        [3967, 3976],\n        [4021, 4028]]),\n 'spl_baseline': (array([   0.,    0.,    0.,    0.,   72.,  111.,  293.,  413.,  545.,\n          857., 1152., 1508., 1744., 2016., 2374., 2637., 2830., 3013.,\n         3291., 3501., 3726., 3917., 4011., 4095., 4095., 4095., 4095.]),\n  array([5.98442583e+02, 4.84277034e+02, 4.40097088e+02, 5.30354585e+02,\n         7.50341147e+02, 4.38848221e+02, 2.57161762e+02, 1.79556519e+02,\n         1.05822652e+02, 1.00488305e+02, 7.61206442e+01, 4.16135330e+01,\n         1.56122965e+01, 1.50376933e+01, 1.06625706e+01, 9.98343541e+00,\n         7.39194938e+00, 8.70825435e+00, 5.90709498e+00, 1.04595510e+01,\n         3.73875448e+00, 6.43100456e+00, 5.68697491e-01, 0.00000000e+00,\n         0.00000000e+00, 0.00000000e+00, 0.00000000e+00]),\n  3),\n 'eval_baseline': array([5.98442583e+02, 5.93735029e+02, 5.89125598e+02, ...,\n        9.75417199e-01, 7.75047209e-01, 5.68697491e-01]),\n 'y_s': array([0, 0, 0, ..., 3, 1, 2]),\n 'nzero': array([False, False, False, ...,  True,  True,  True]),\n 'n_ch': 4096,\n 'final_baseline': array([5.98442583e+02, 5.93735029e+02, 5.89125598e+02, ...,\n        9.75417199e-01, 7.75047209e-01, 5.68697491e-01]),\n 'x_s': array([0.000e+00, 1.000e+00, 2.000e+00, ..., 4.093e+03, 4.094e+03,\n        4.095e+03]),\n 'chans_nzero': array([  26.,   27.,   28., ..., 4093., 4094., 4095.]),\n 'counts_nzero': array([ 11, 221, 380, ...,   3,   1,   2]),\n 'unc_y': array([ 3.31662479, 14.86606875, 19.49358869, ...,  1.73205081,\n         1.        ,  1.41421356]),\n 'given_variance': array([0, 0, 0, ..., 3, 1, 2]),\n 'y_smoothed': array([0, 0, 0, ..., 3, 1, 2]),\n 'fft_s': None,\n 'is_reg': array([False, False, False, ..., False, False, False]),\n 'xs_all_mplets': [],\n 'ys_all_mplets': [],\n 'ys_all_steps': [],\n 'chans_in_multiplets_list': [array([24., 25., 26., 27., 28., 29., 30., 31., 32., 33., 34., 35., 36.,\n         37., 38., 39., 40., 41., 42., 43., 44., 45., 46., 47., 48., 49.,\n         50., 51., 52., 53., 54., 55., 56.]),\n  array([114., 115., 116., 117., 118., 119., 120., 121., 122., 123., 124.,\n         125., 126., 127., 128., 129., 130., 131., 132., 133., 134., 135.,\n         136., 137., 138., 139., 140., 141., 142., 143., 144., 145., 146.,\n         147., 148., 149., 150., 151., 152., 153., 154., 155., 156., 157.,\n         158., 159., 160., 161., 162., 163., 164., 165., 166., 167., 168.,\n         169., 170., 171., 172., 173., 174., 175., 176., 177., 178., 179.]),\n  array([236., 237., 238., 239., 240., 241., 242., 243., 244., 245., 246.,\n         247., 248., 249., 250., 251., 252., 253., 254., 255., 256., 257.,\n         258., 259., 260., 261., 262., 263., 264., 265., 266.]),\n  array([278., 279., 280., 281., 282., 283., 284.]),\n  array([328., 329., 330., 331., 332., 333., 334., 335., 336., 337., 338.,\n         339., 340.]),\n  array([352., 353., 354., 355., 356., 357., 358., 359., 360., 361., 362.]),\n  array([375., 376., 377., 378., 379., 380., 381., 382., 383., 384., 385.]),\n  array([393., 394., 395., 396., 397., 398., 399.]),\n  array([443., 444., 445., 446., 447., 448., 449.]),\n  array([458., 459., 460., 461., 462., 463., 464.]),\n  array([477., 478., 479., 480., 481., 482., 483., 484., 485., 486., 487.,\n         488., 489., 490., 491., 492., 493., 494., 495., 496., 497., 498.,\n         499.]),\n  array([524., 525., 526., 527., 528., 529., 530., 531., 532., 533., 534.]),\n  array([537., 538., 539., 540., 541., 542., 543.]),\n  array([552., 553., 554., 555., 556., 557., 558., 559., 560., 561., 562.,\n         563., 564., 565., 566.]),\n  array([576., 577., 578., 579., 580., 581., 582., 583., 584., 585., 586.,\n         587., 588.]),\n  array([596., 597., 598., 599., 600., 601., 602., 603., 604., 605., 606.]),\n  array([612., 613., 614., 615., 616., 617., 618., 619., 620., 621., 622.,\n         623., 624., 625., 626., 627., 628., 629., 630., 631., 632., 633.,\n         634., 635.]),\n  array([669., 670., 671., 672., 673.]),\n  array([678., 679., 680., 681., 682., 683., 684.]),\n  array([711., 712., 713., 714., 715., 716., 717., 718., 719.]),\n  array([721., 722., 723., 724., 725., 726., 727., 728., 729., 730., 731.,\n         732., 733., 734., 735., 736., 737., 738., 739., 740., 741., 742.,\n         743., 744.]),\n  array([759., 760., 761., 762., 763., 764., 765., 766., 767.]),\n  array([800., 801., 802., 803., 804., 805., 806.]),\n  array([812., 813., 814., 815., 816., 817., 818., 819., 820., 821., 822.,\n         823., 824., 825., 826.]),\n  array([834., 835., 836., 837., 838., 839., 840., 841., 842., 843., 844.,\n         845., 846., 847., 848., 849., 850.]),\n  array([926., 927., 928., 929., 930., 931., 932., 933., 934., 935., 936.,\n         937., 938., 939., 940., 941., 942., 943., 944., 945., 946., 947.,\n         948., 949., 950.]),\n  array([954., 955., 956., 957., 958., 959., 960., 961., 962., 963., 964.,\n         965., 966., 967., 968., 969., 970., 971., 972., 973., 974., 975.,\n         976., 977., 978., 979., 980., 981., 982., 983.]),\n  array([ 989.,  990.,  991.,  992.,  993.,  994.,  995.,  996.,  997.,\n          998.,  999., 1000., 1001., 1002., 1003., 1004., 1005., 1006.,\n         1007., 1008., 1009., 1010., 1011., 1012., 1013., 1014., 1015.,\n         1016., 1017.]),\n  array([1047., 1048., 1049., 1050., 1051., 1052., 1053.]),\n  array([1076., 1077., 1078., 1079., 1080., 1081., 1082., 1083., 1084.,\n         1085., 1086., 1087., 1088.]),\n  array([1102., 1103., 1104., 1105., 1106., 1107., 1108., 1109., 1110.,\n         1111., 1112., 1113., 1114., 1115., 1116., 1117., 1118., 1119.,\n         1120., 1121., 1122., 1123., 1124., 1125., 1126., 1127., 1128.,\n         1129., 1130., 1131., 1132., 1133., 1134., 1135., 1136., 1137.]),\n  array([1155., 1156., 1157., 1158., 1159., 1160., 1161., 1162., 1163.,\n         1164., 1165., 1166., 1167., 1168., 1169., 1170., 1171., 1172.,\n         1173., 1174., 1175., 1176.]),\n  array([1182., 1183., 1184., 1185., 1186., 1187., 1188., 1189., 1190.,\n         1191., 1192., 1193., 1194., 1195., 1196., 1197., 1198., 1199.,\n         1200., 1201.]),\n  array([1213., 1214., 1215., 1216., 1217., 1218., 1219., 1220., 1221.,\n         1222., 1223., 1224., 1225., 1226., 1227., 1228., 1229., 1230.,\n         1231.]),\n  array([1249., 1250., 1251., 1252., 1253., 1254., 1255., 1256., 1257.,\n         1258., 1259., 1260., 1261., 1262., 1263., 1264., 1265.]),\n  array([1275., 1276., 1277., 1278., 1279., 1280., 1281., 1282., 1283.,\n         1284., 1285., 1286., 1287., 1288., 1289., 1290., 1291., 1292.,\n         1293.]),\n  array([1298., 1299., 1300., 1301., 1302., 1303., 1304., 1305., 1306.,\n         1307., 1308., 1309., 1310., 1311., 1312., 1313., 1314., 1315.,\n         1316.]),\n  array([1326., 1327., 1328., 1329., 1330., 1331., 1332., 1333., 1334.,\n         1335., 1336., 1337., 1338., 1339., 1340., 1341., 1342., 1343.,\n         1344., 1345., 1346., 1347., 1348., 1349.]),\n  array([1366., 1367., 1368., 1369., 1370., 1371., 1372., 1373., 1374.,\n         1375., 1376., 1377., 1378.]),\n  array([1406., 1407., 1408., 1409., 1410., 1411., 1412., 1413., 1414.,\n         1415., 1416., 1417., 1418., 1419., 1420., 1421., 1422., 1423.,\n         1424.]),\n  array([1447., 1448., 1449., 1450., 1451., 1452., 1453., 1454., 1455.,\n         1456., 1457., 1458., 1459., 1460., 1461.]),\n  array([1491., 1492., 1493., 1494., 1495., 1496., 1497., 1498., 1499.,\n         1500., 1501., 1502., 1503.]),\n  array([1534., 1535., 1536., 1537., 1538., 1539., 1540., 1541., 1542.,\n         1543., 1544., 1545., 1546.]),\n  array([1580., 1581., 1582., 1583., 1584., 1585., 1586., 1587., 1588.,\n         1589., 1590., 1591., 1592., 1593., 1594., 1595., 1596., 1597.]),\n  array([1637., 1638., 1639., 1640., 1641., 1642., 1643., 1644., 1645.,\n         1646., 1647., 1648., 1649.]),\n  array([1673., 1674., 1675., 1676., 1677.]),\n  array([1700., 1701., 1702., 1703., 1704., 1705., 1706., 1707., 1708.]),\n  array([1710., 1711., 1712., 1713., 1714., 1715., 1716., 1717., 1718.,\n         1719., 1720., 1721., 1722., 1723., 1724., 1725., 1726., 1727.,\n         1728., 1729., 1730., 1731., 1732.]),\n  array([1759., 1760., 1761., 1762., 1763., 1764., 1765., 1766., 1767.]),\n  array([1772., 1773., 1774., 1775., 1776., 1777., 1778., 1779., 1780.]),\n  array([1796., 1797., 1798., 1799., 1800., 1801., 1802., 1803., 1804.]),\n  array([1826., 1827., 1828., 1829., 1830., 1831., 1832., 1833., 1834.,\n         1835., 1836., 1837., 1838., 1839., 1840., 1841., 1842., 1843.,\n         1844., 1845., 1846., 1847., 1848., 1849., 1850., 1851.]),\n  array([1891., 1892., 1893., 1894., 1895., 1896., 1897., 1898., 1899.,\n         1900., 1901.]),\n  array([1904., 1905., 1906., 1907., 1908.]),\n  array([1919., 1920., 1921., 1922., 1923., 1924., 1925., 1926., 1927.,\n         1928., 1929., 1930., 1931., 1932., 1933.]),\n  array([1951., 1952., 1953., 1954., 1955., 1956., 1957., 1958., 1959.,\n         1960., 1961., 1962., 1963., 1964., 1965., 1966., 1967., 1968.,\n         1969., 1970., 1971., 1972., 1973., 1974., 1975., 1976., 1977.,\n         1978.]),\n  array([1986., 1987., 1988., 1989., 1990.]),\n  array([2018., 2019., 2020., 2021., 2022., 2023., 2024., 2025., 2026.,\n         2027., 2028., 2029., 2030., 2031., 2032., 2033., 2034., 2035.,\n         2036., 2037., 2038., 2039., 2040.]),\n  array([2048., 2049., 2050., 2051., 2052., 2053., 2054.]),\n  array([2069., 2070., 2071., 2072., 2073., 2074., 2075., 2076., 2077.]),\n  array([2088., 2089., 2090., 2091., 2092., 2093., 2094., 2095., 2096.,\n         2097., 2098., 2099., 2100., 2101., 2102., 2103., 2104., 2105.,\n         2106., 2107., 2108., 2109., 2110., 2111., 2112.]),\n  array([2117., 2118., 2119., 2120., 2121., 2122., 2123., 2124., 2125.]),\n  array([2135., 2136., 2137., 2138., 2139., 2140., 2141., 2142., 2143.,\n         2144., 2145., 2146., 2147.]),\n  array([2180., 2181., 2182., 2183., 2184., 2185., 2186., 2187., 2188.,\n         2189., 2190., 2191., 2192., 2193., 2194.]),\n  array([2222., 2223., 2224., 2225., 2226., 2227., 2228.]),\n  array([2238., 2239., 2240., 2241., 2242., 2243., 2244., 2245., 2246.,\n         2247., 2248., 2249., 2250., 2251., 2252., 2253., 2254.]),\n  array([2256., 2257., 2258., 2259., 2260., 2261., 2262., 2263., 2264.,\n         2265., 2266., 2267., 2268., 2269., 2270., 2271., 2272., 2273.,\n         2274., 2275., 2276., 2277., 2278., 2279., 2280.]),\n  array([2282., 2283., 2284., 2285., 2286., 2287., 2288., 2289., 2290.,\n         2291., 2292.]),\n  array([2299., 2300., 2301., 2302., 2303., 2304., 2305., 2306., 2307.,\n         2308., 2309., 2310., 2311., 2312., 2313., 2314., 2315., 2316.,\n         2317., 2318., 2319., 2320., 2321.]),\n  array([2329., 2330., 2331., 2332., 2333., 2334., 2335.]),\n  array([2345., 2346., 2347., 2348., 2349., 2350., 2351.]),\n  array([2369., 2370., 2371., 2372., 2373.]),\n  array([2390., 2391., 2392., 2393., 2394., 2395., 2396., 2397., 2398.,\n         2399., 2400., 2401., 2402., 2403., 2404., 2405., 2406.]),\n  array([2414., 2415., 2416., 2417., 2418., 2419., 2420., 2421., 2422.,\n         2423., 2424., 2425., 2426., 2427., 2428.]),\n  array([2463., 2464., 2465., 2466., 2467., 2468., 2469., 2470., 2471.,\n         2472., 2473., 2474., 2475., 2476., 2477.]),\n  array([2523., 2524., 2525., 2526., 2527., 2528., 2529., 2530., 2531.,\n         2532., 2533., 2534., 2535., 2536., 2537.]),\n  array([2568., 2569., 2570., 2571., 2572., 2573., 2574., 2575., 2576.]),\n  array([2588., 2589., 2590., 2591., 2592., 2593., 2594., 2595., 2596.,\n         2597., 2598., 2599., 2600., 2601., 2602., 2603., 2604., 2605.,\n         2606., 2607., 2608., 2609., 2610., 2611., 2612., 2613., 2614.,\n         2615., 2616., 2617., 2618., 2619., 2620., 2621., 2622., 2623.]),\n  array([2653., 2654., 2655., 2656., 2657., 2658., 2659., 2660., 2661.,\n         2662., 2663., 2664., 2665.]),\n  array([2722., 2723., 2724., 2725., 2726., 2727., 2728.]),\n  array([2755., 2756., 2757., 2758., 2759., 2760., 2761.]),\n  array([2815., 2816., 2817., 2818., 2819., 2820., 2821., 2822., 2823.,\n         2824., 2825.]),\n  array([2831., 2832., 2833., 2834., 2835., 2836., 2837., 2838., 2839.,\n         2840., 2841., 2842., 2843.]),\n  array([2888., 2889., 2890., 2891., 2892., 2893., 2894., 2895., 2896.,\n         2897., 2898., 2899., 2900., 2901., 2902.]),\n  array([3023., 3024., 3025., 3026., 3027., 3028., 3029., 3030., 3031.,\n         3032., 3033., 3034., 3035., 3036., 3037.]),\n  array([3053., 3054., 3055., 3056., 3057.]),\n  array([3062., 3063., 3064., 3065., 3066., 3067., 3068., 3069., 3070.,\n         3071., 3072.]),\n  array([3098., 3099., 3100., 3101., 3102., 3103., 3104., 3105., 3106.,\n         3107., 3108., 3109., 3110., 3111., 3112., 3113., 3114., 3115.,\n         3116., 3117., 3118., 3119., 3120., 3121., 3122., 3123., 3124.,\n         3125., 3126., 3127., 3128., 3129., 3130., 3131., 3132., 3133.,\n         3134.]),\n  array([3193., 3194., 3195., 3196., 3197., 3198., 3199., 3200., 3201.,\n         3202., 3203., 3204., 3205., 3206., 3207., 3208., 3209.]),\n  array([3212., 3213., 3214., 3215., 3216., 3217., 3218., 3219., 3220.,\n         3221., 3222., 3223., 3224., 3225., 3226.]),\n  array([3259., 3260., 3261., 3262., 3263., 3264., 3265., 3266., 3267.,\n         3268., 3269., 3270., 3271., 3272., 3273., 3274., 3275., 3276.,\n         3277., 3278., 3279., 3280., 3281.]),\n  array([3361., 3362., 3363., 3364., 3365., 3366., 3367., 3368., 3369.,\n         3370., 3371., 3372., 3373., 3374.]),\n  array([3437., 3438., 3439., 3440., 3441., 3442., 3443., 3444., 3445.,\n         3446., 3447., 3448., 3449., 3450., 3451., 3452., 3453., 3454.,\n         3455., 3456., 3457., 3458., 3459., 3460., 3461., 3462., 3463.]),\n  array([3467., 3468., 3469., 3470., 3471., 3472., 3473., 3474., 3475.,\n         3476., 3477., 3478., 3479.]),\n  array([3601., 3602., 3603., 3604., 3605., 3606., 3607., 3608., 3609.,\n         3610., 3611., 3612., 3613., 3614., 3615., 3616., 3617., 3618.,\n         3619., 3620., 3621., 3622., 3623.]),\n  array([3627., 3628., 3629., 3630., 3631., 3632., 3633., 3634., 3635.,\n         3636., 3637., 3638., 3639., 3640., 3641., 3642.]),\n  array([3673., 3674., 3675., 3676., 3677., 3678., 3679., 3680., 3681.,\n         3682., 3683., 3684., 3685., 3686., 3687., 3688., 3689., 3690.,\n         3691., 3692., 3693., 3694., 3695., 3696., 3697., 3698., 3699.,\n         3700., 3701., 3702., 3703.]),\n  array([3809., 3810., 3811., 3812., 3813., 3814., 3815.]),\n  array([3860., 3861., 3862., 3863., 3864., 3865., 3866., 3867., 3868.,\n         3869., 3870., 3871., 3872., 3873.]),\n  array([3896., 3897., 3898., 3899., 3900., 3901., 3902., 3903., 3904.,\n         3905., 3906., 3907., 3908., 3909., 3910.]),\n  array([3941., 3942., 3943., 3944., 3945., 3946., 3947.]),\n  array([3967., 3968., 3969., 3970., 3971., 3972., 3973., 3974., 3975.]),\n  array([4021., 4022., 4023., 4024., 4025., 4026., 4027.])],\n 'calculated_step_counts': [array([510.83412207, 510.83412207, 510.80216209, 510.16005697,\n         509.05598484, 507.30399668, 504.68908899, 501.62674154,\n         499.20068829, 497.18430392, 495.67056291, 494.17134916,\n         492.84065169, 491.22521983, 489.69695156, 488.25875233,\n         486.72467315, 484.8361287 , 482.91562427, 481.12295978,\n         479.41164797, 477.67999798, 475.95125345, 474.27480708,\n         472.78721515, 471.27637959, 469.80912583, 468.2285594 ,\n         466.71191294, 465.27080826, 463.86456901, 463.86456901,\n         462.52073675]),\n  array([491.97192833, 493.02012466, 494.11327287, 495.19007495,\n         496.30774238, 497.30894355, 498.44295712, 499.5320188 ,\n         500.67420544, 501.99006983, 503.79223194, 505.74355258,\n         507.30052256, 509.17215577, 512.03886034, 514.42131047,\n         515.93537183, 517.10412095, 518.2585672 , 519.39462404,\n         520.44895017, 521.45423787, 522.5024342 , 523.6977458 ,\n         524.83788917, 525.89017203, 526.96493084, 528.12346362,\n         529.31264542, 530.67141843, 532.82297931, 534.82129512,\n         536.21276042, 537.49184599, 538.85879208, 540.32381502,\n         541.54977563, 542.73895743, 543.92200942, 544.98246535,\n         546.05313763, 547.14015604, 548.39880894, 549.6595051 ,\n         550.87116285, 552.06647445, 553.20661782, 554.32019871,\n         555.38678445, 556.51262495, 557.60372989, 558.65805602,\n         559.84519455, 561.11610706, 562.40540897, 563.58846097,\n         564.71430146, 565.84627177, 566.95576612, 568.16129406,\n         569.44242291, 570.59482588, 571.92907969, 573.15299704,\n         573.15299704, 574.32649982]),\n  array([633.14657771, 633.57633652, 633.99325663, 634.44463853,\n         634.9331851 , 635.42375884, 635.82919168, 636.26300482,\n         636.69681796, 637.13198255, 637.57390435, 638.042855  ,\n         638.48410108, 638.90642695, 639.33956437, 639.78824338,\n         640.22475941, 640.62748937, 641.05319385, 641.47416828,\n         641.91744152, 642.38233785, 642.84723418, 643.29253458,\n         643.72499628, 644.17840534, 644.60681271, 645.04941023,\n         645.4778176 , 645.4778176 , 645.9142757 ]),\n  array([645.85342454, 645.61469718, 645.35636007, 645.06903464,\n         644.81837091, 644.81837091, 644.5436027 ]),\n  array([607.94694969, 606.4204231 , 604.89389651, 603.44571814,\n         602.02028602, 600.58474446, 598.94195922, 597.36235803,\n         595.82824936, 594.38765307, 592.8661812 , 592.8661812 ,\n         591.37157122]),\n  array([572.95551273, 571.20613002, 569.5569892 , 567.571553  ,\n         565.70899396, 563.92080793, 562.18435965, 560.15365292,\n         558.38163494, 558.38163494, 556.58186656]),\n  array([534.43088137, 532.570554  , 530.62230945, 528.71978184,\n         526.6343865 , 524.53844111, 522.69218048, 520.84943655,\n         518.9293255 , 518.9293255 , 517.11080869]),\n  array([503.30518199, 501.54572236, 499.51361919, 496.92168795,\n         494.87504379, 494.87504379, 493.08256678]),\n  array([426.4416346 , 425.06083607, 423.49354007, 421.66801681,\n         420.11865327, 420.11865327, 418.61728668]),\n  array([407.39383725, 405.97510215, 404.57337827, 403.02195572,\n         401.59981839, 401.59981839, 400.2381113 ]),\n  array([385.5736761 , 384.53516743, 383.49932844, 382.47950758,\n         381.47303517, 380.48258088, 379.38800875, 378.33882132,\n         377.23624013, 376.06424705, 374.91895085, 373.65618838,\n         372.41211372, 371.28283564, 370.19894227, 369.28857862,\n         368.15930055, 367.1821947 , 366.12499821, 365.07047141,\n         364.0853565 , 364.0853565 , 363.11595016]),\n  array([340.61836805, 339.76213539, 338.92830416, 338.00486718,\n         337.06898497, 335.95140221, 334.94333759, 334.00745538,\n         333.18358034, 333.18358034, 332.35632934]),\n  array([329.94770586, 328.93184967, 328.03124892, 326.99663021,\n         326.09066875, 326.09066875, 325.21896506]),\n  array([318.32954554, 317.53583448, 316.73016993, 316.00100766,\n         315.27662678, 314.47813432, 313.63182795, 312.73292626,\n         311.89857337, 311.13355065, 310.34462098, 309.5604727 ,\n         308.80979417, 308.80979417, 308.0732846 ]),\n  array([301.07941186, 300.38257132, 299.80078545, 299.17124104,\n         298.41578775, 297.43022513, 296.42295407, 295.6175714 ,\n         294.90119328, 294.26513634, 293.6746671 , 293.6746671 ,\n         293.03852653]),\n  array([287.88432298, 287.2917178 , 286.63376833, 285.89244855,\n         285.21421981, 284.40530247, 283.68426195, 283.00377996,\n         282.30076546, 282.30076546, 281.66610086]),\n  array([278.051653  , 277.45951097, 276.93440388, 276.35790334,\n         275.73894733, 275.10658433, 274.55689777, 273.92230027,\n         273.37037921, 272.77153368, 272.12799819, 271.51127668,\n         270.91466566, 270.27113017, 269.71474011, 269.0935496 ,\n         268.49917307, 267.96736249, 267.35510998, 266.73168497,\n         266.13954294, 265.5608079 , 265.5608079 , 264.96873573]),\n  array([247.7001806 , 247.10168644, 246.4135393 , 246.4135393 ,\n         245.81790941]),\n  array([243.50653582, 242.91601079, 242.42931434, 241.83013693,\n         241.31315715, 241.31315715, 240.79230045]),\n  array([229.33233347, 228.93343742, 228.49760654, 228.0359213 ,\n         227.48374574, 227.00174634, 226.57514917, 226.57514917,\n         226.15749486]),\n  array([225.3785013 , 225.01679907, 224.60946153, 224.2494495 ,\n         223.80661781, 223.39589986, 223.02405646, 222.70798956,\n         222.30065201, 221.90514585, 221.52485145, 221.10737272,\n         220.72538813, 220.33664275, 219.92592481, 219.50168529,\n         219.02504965, 218.64813565, 218.23741771, 217.90106844,\n         217.554578  , 217.18273459, 217.18273459, 216.81627231]),\n  array([211.59265031, 211.19522934, 210.83755047, 210.47295992,\n         210.03406894, 209.60727337, 209.27205742, 209.27205742,\n         208.91107637]),\n  array([198.50957803, 198.19556967, 197.80777792, 197.37708886,\n         197.05450104, 197.05450104, 196.71695585]),\n  array([194.95006801, 194.65781403, 194.35786917, 194.05177158,\n         193.74105946, 193.41496556, 193.07348986, 192.70278877,\n         192.36592761, 192.08751724, 191.80603052, 191.4953184 ,\n         191.21075532, 191.21075532, 190.9170907 ]),\n  array([188.66196963, 188.51968679, 188.34637418, 188.17306157,\n         187.9528259 , 187.64555551, 187.22703205, 186.64352105,\n         186.00173462, 185.49012186, 185.11852147, 184.84228085,\n         184.67048189, 184.51987399, 184.37834797, 184.37834797,\n         184.23891161]),\n  array([164.3600311 , 164.0956902 , 163.85440228, 163.58084017,\n         163.30113061, 163.0414003 , 162.8170179 , 162.57265625,\n         162.33905266, 162.09622787, 161.83342383, 161.57523039,\n         161.28168903, 160.99736887, 160.73302796, 160.47022392,\n         160.22278854, 159.95844763, 159.74636016, 159.47587179,\n         159.21767835, 158.99483281, 158.74124997, 158.74124997,\n         158.49766034]),\n  array([157.54239371, 157.29816817, 157.05965551, 156.83114038,\n         156.58977128, 156.2555679 , 155.81710451, 155.41720303,\n         155.14298488, 154.92589551, 154.72166012, 154.50599897,\n         154.29176604, 154.10895394, 153.90757498, 153.70191137,\n         153.484822  , 153.24630933, 153.02350709, 152.79213552,\n         152.53648422, 152.32939239, 152.14943673, 151.89807009,\n         151.69383469, 151.48817108, 151.2482302 , 151.02971261,\n         151.02971261, 150.81431665]),\n  array([149.46737025, 149.26444446, 149.05547921, 148.83685082,\n         148.59164882, 148.40563351, 148.21720242, 147.99615825,\n         147.79444035, 147.5987619 , 147.37409406, 147.17479194,\n         146.9344215 , 146.56963823, 146.05870007, 145.69512469,\n         145.47045685, 145.30497569, 145.12499984, 144.9293214 ,\n         144.73243506, 144.51139089, 144.31571245, 144.12486557,\n         143.94005815, 143.75525073, 143.5716512 , 143.5716512 ,\n         143.39844143]),\n  array([137.3155282 , 137.09455274, 136.86194699, 136.57949715,\n         136.38012079, 136.38012079, 136.15390521]),\n  array([131.87893603, 131.80760364, 131.71061662, 131.6192611 ,\n         131.45845036, 131.13307455, 130.63687644, 130.21513934,\n         130.02804825, 129.92918406, 129.84533722, 129.84533722,\n         129.76414085]),\n  array([127.40080589, 127.26131971, 127.11502933, 126.96080071,\n         126.82244857, 126.66254978, 126.50378502, 126.38584549,\n         126.22367864, 126.05697564, 125.89140669, 125.71109529,\n         125.51263934, 125.30170903, 125.11572746, 124.95242657,\n         124.79479585, 124.63603109, 124.50221509, 124.3423163 ,\n         124.19375785, 124.04066326, 123.91138339, 123.75942284,\n         123.60632826, 123.4475635 , 123.28086051, 123.08580667,\n         122.87487635, 122.71157546, 122.54827457, 122.39631402,\n         122.26590012, 122.14229042, 122.14229042, 122.00393381]),\n  array([119.52622253, 119.40659029, 119.28695804, 119.14610072,\n         119.0293628 , 118.89622368, 118.71774009, 118.50163022,\n         118.31060454, 118.14948691, 118.03081944, 117.92855317,\n         117.83496988, 117.70761942, 117.57930419, 117.49343911,\n         117.36126477, 117.25899849, 117.1248946 , 117.00815668,\n         117.00815668, 116.8953788 ]),\n  array([116.19259671, 116.08074435, 115.98183359, 115.87367884,\n         115.76459968, 115.63610813, 115.50761658, 115.37635184,\n         115.27651668, 115.16651312, 115.05928276, 114.9622208 ,\n         114.84944405, 114.7218769 , 114.55733376, 114.43069102,\n         114.31883866, 114.2069863 , 114.2069863 , 114.10151091]),\n  array([112.88043508, 112.77478886, 112.68060812, 112.57741879,\n         112.4865139 , 112.39560902, 112.30552309, 112.21543717,\n         112.11552369, 111.99431717, 111.8853951 , 111.76910236,\n         111.65608548, 111.5692754 , 111.45871541, 111.36862948,\n         111.27362978, 111.27362978, 111.18257537]),\n  array([109.63247674, 109.56007688, 109.49371034, 109.43096379,\n         109.36158058, 109.26866742, 109.14679432, 109.00923457,\n         108.87046817, 108.781175  , 108.7117918 , 108.64240859,\n         108.59233202, 108.51691549, 108.43244898, 108.43244898,\n         108.36706764]),\n  array([107.62524734, 107.5549482 , 107.47850642, 107.41776251,\n         107.34746337, 107.27784675, 107.19730987, 107.12291564,\n         107.04306128, 106.95911183, 106.89086024, 106.82602123,\n         106.75503957, 106.67928031, 106.60829866, 106.52503172,\n         106.44858994, 106.44858994, 106.37598664]),\n  array([106.04704154, 105.98663518, 105.93485829, 105.87136997,\n         105.80356691, 105.72959994, 105.652551  , 105.59830855,\n         105.52927271, 105.45407295, 105.37209289, 105.30244065,\n         105.23648676, 105.1686837 , 105.10519538, 105.0386251 ,\n         104.98561544, 104.98561544, 104.92094306]),\n  array([104.33084433, 104.30218178, 104.26714976, 104.23769103,\n         104.17956973, 104.07128896, 103.88126683, 103.66948239,\n         103.51475766, 103.44548982, 103.40860004, 103.38259143,\n         103.35419427, 103.32659329, 103.30297322, 103.27032975,\n         103.2368901 , 103.21220845, 103.17611486, 103.14187903,\n         103.11242029, 103.08136919, 103.08136919, 103.05401927]),\n  array([102.16838214, 102.11687594, 102.07038362, 102.02936099,\n         101.98013383, 101.92270214, 101.8420243 , 101.76636033,\n         101.70984026, 101.65833406, 101.61184174, 101.61184174,\n         101.56554745]),\n  array([100.20461455, 100.15471636, 100.10284202, 100.06628295,\n         100.02181923,  99.971427  ,  99.9225169 ,  99.8652081 ,\n          99.80345293,  99.74021563,  99.68389491,  99.63646693,\n          99.5836045 ,  99.53667057,  99.48825451,  99.44379078,\n          99.39290452,  99.39290452,  99.34382456]),\n  array([98.23332051, 98.20766341, 98.18257021, 98.15522144, 98.11715873,\n         98.04808194, 97.93530351, 97.80448054, 97.70382579, 97.65533107,\n         97.62234338, 97.59330293, 97.5673639 , 97.5673639 , 97.53986292]),\n  array([95.9730562 , 95.93469933, 95.89391991, 95.84910293, 95.78975071,\n         95.70940315, 95.59231374, 95.49541216, 95.43121487, 95.38034154,\n         95.34238842, 95.34238842, 95.30390884]),\n  array([93.43148839, 93.37857167, 93.3247504 , 93.26459722, 93.20851454,\n         93.11489267, 92.99187262, 92.87744588, 92.80191518, 92.74311884,\n         92.69246352, 92.69246352, 92.65055956]),\n  array([90.27518683, 90.19565191, 90.12400475, 90.05695878, 89.98071042,\n         89.88868654, 89.80126386, 89.74210565, 89.68031819, 89.6172161 ,\n         89.53307998, 89.43382566, 89.29841909, 89.19522089, 89.12094447,\n         89.05915701, 89.05915701, 89.00065568]),\n  array([85.78618063, 85.71024343, 85.61637661, 85.53305663, 85.44235387,\n         85.34321363, 85.2314172 , 85.13965975, 85.05106636, 84.94243398,\n         84.85489526, 84.85489526, 84.76549451]),\n  array([82.65015983, 82.54918931, 82.40870859, 82.40870859, 82.28829277]),\n  array([80.15788364, 80.0611367 , 79.97292625, 79.85199257, 79.71683141,\n         79.61297072, 79.51053278, 79.51053278, 79.39756996]),\n  array([79.20597566, 79.12059114, 79.03520662, 78.90384581, 78.80138438,\n         78.71731346, 78.61353843, 78.511077  , 78.39942031, 78.29301806,\n         78.19843828, 78.08940881, 77.98300656, 77.87134987, 77.7452435 ,\n         77.64278207, 77.53900703, 77.44048643, 77.34065221, 77.25395408,\n         77.16068791, 77.16068791, 77.05946198]),\n  array([74.33189252, 74.21462121, 74.10969425, 73.9769925 , 73.82731728,\n         73.72084727, 73.6190064 , 73.6190064 , 73.50558408]),\n  array([72.98530207, 72.87149692, 72.76114042, 72.64388664, 72.4886978 ,\n         72.3610981 , 72.27143344, 72.27143344, 72.14702885]),\n  array([70.45062145, 70.32128194, 70.18211919, 70.08716107, 69.9447239 ,\n         69.82193323, 69.70732861, 69.70732861, 69.59338969]),\n  array([67.2094277 , 67.10752909, 67.00438781, 66.9062172 , 66.77449461,\n         66.59430804, 66.38429749, 66.24014824, 66.13079363, 66.01895369,\n         65.93818041, 65.84870846, 65.72319919, 65.56538061, 65.38892205,\n         65.23855946, 65.13044752, 65.06334356, 64.96020229, 64.88688499,\n         64.80362637, 64.72161042, 64.61846914, 64.54266652, 64.54266652,\n         64.46256109]),\n  array([60.01711432, 59.90248292, 59.7706568 , 59.66366749, 59.52802033,\n         59.36944689, 59.2318892 , 59.12681041, 59.01408953, 59.01408953,\n         58.90155673]),\n  array([58.56686577, 58.45013279, 58.25635604, 58.25635604, 58.12066407]),\n  array([56.89435745, 56.87827349, 56.85401991, 56.82695803, 56.77666376,\n         56.65845948, 56.40417986, 56.01918621, 55.67401949, 55.48433097,\n         55.39829459, 55.368935  , 55.35080864, 55.35080864, 55.33668114]),\n  array([53.3426572 , 53.23439309, 53.13249746, 53.00512792, 52.90110946,\n         52.78223123, 52.65061604, 52.5147552 , 52.41498239, 52.30459546,\n         52.18571722, 52.04985638, 51.96494335, 51.81634556, 51.73355536,\n         51.61043147, 51.47032498, 51.35993805, 51.25167394, 51.14128701,\n         51.0415142 , 50.96084683, 50.85682837, 50.75068709, 50.60421212,\n         50.48745671, 50.48745671, 50.38050767]),\n  array([49.51167038, 49.3968928 , 49.21004558, 49.21004558, 49.07904154]),\n  array([46.08931311, 45.9664806 , 45.86147863, 45.77826951, 45.64553116,\n         45.51279281, 45.41769668, 45.31863821, 45.23741026, 45.13240829,\n         45.01750046, 44.90853614, 44.80749651, 44.66088997, 44.51230227,\n         44.33994053, 44.23295738, 44.13984242, 44.0566333 , 43.96946185,\n         43.8822904 , 43.8822904 , 43.79552404]),\n  array([42.97479824, 42.83498158, 42.74829525, 42.59449693, 42.4826436 ,\n         42.4826436 , 42.36417924]),\n  array([40.85683457, 40.72089603, 40.62939893, 40.50914561, 40.36275025,\n         40.26602475, 40.16929925, 40.16929925, 40.06456236]),\n  array([38.98898527, 38.92502734, 38.82642552, 38.71183422, 38.61589732,\n         38.50930076, 38.40803402, 38.30143747, 38.20550056, 38.11489349,\n         37.99230744, 37.90170037, 37.77644941, 37.67784759, 37.5659212 ,\n         37.44333516, 37.3367386 , 37.24346661, 37.15285954, 37.05159281,\n         36.94499625, 36.859719  , 36.79842598, 36.79842598, 36.70062198]),\n  array([36.23441728, 36.10605694, 36.02965198, 35.91657264, 35.78515611,\n         35.69958255, 35.6048404 , 35.6048404 , 35.49635649]),\n  array([34.58772811, 34.50670552, 34.41121462, 34.35912867, 34.25785043,\n         34.14499754, 34.01767633, 33.91929176, 33.82669452, 33.72252262,\n         33.61545705, 33.61545705, 33.51846588]),\n  array([30.70318819, 30.69197082, 30.67701432, 30.65312547, 30.60368594,\n         30.49213539, 30.29687001, 30.02391394, 29.77775492, 29.64460055,\n         29.59744603, 29.58041225, 29.57355718, 29.57355718, 29.56741517]),\n  array([27.40765357, 27.34440417, 27.26783911, 27.13801139, 27.0547885 ,\n         27.0547885 , 26.9650242 ]),\n  array([26.24369819, 26.18755517, 26.12375628, 26.05995739, 25.97829481,\n         25.91959983, 25.80476183, 25.71544338, 25.59039755, 25.49087128,\n         25.41431261, 25.35816959, 25.2943707 , 25.24077963, 25.19739638,\n         25.19739638, 25.13325743]),\n  array([24.99831327, 24.9593302 , 24.92522001, 24.8683697 , 24.79690075,\n         24.71893461, 24.65883571, 24.60523399, 24.56137804, 24.51264921,\n         24.46392037, 24.42006442, 24.37133558, 24.31123669, 24.22839767,\n         24.08870834, 23.9230303 , 23.76547373, 23.65014882, 23.60141998,\n         23.55918833, 23.52182955, 23.48609507, 23.48609507, 23.4480086 ]),\n  array([23.32468545, 23.28795341, 23.21186559, 23.14889637, 23.08330343,\n         22.98360215, 22.91013806, 22.84979255, 22.78157589, 22.78157589,\n         22.72195988]),\n  array([22.31400779, 22.24851431, 22.18520395, 22.11316112, 22.07168192,\n         22.02583649, 21.97125859, 21.91449758, 21.87301837, 21.81625736,\n         21.74639765, 21.66780548, 21.59576266, 21.5193536 , 21.45604324,\n         21.40583157, 21.34033809, 21.30322512, 21.25083034, 21.21153426,\n         21.15477324, 21.15477324, 21.10869052]),\n  array([20.7000027 , 20.63340136, 20.57869311, 20.4930628 , 20.45262627,\n         20.45262627, 20.4040927 ]),\n  array([19.93141905, 19.89156792, 19.84234007, 19.75794946, 19.70637742,\n         19.70637742, 19.66029009]),\n  array([18.90422005, 18.87134697, 18.79548602, 18.79548602, 18.74807779]),\n  array([18.13250714, 18.12909912, 18.12332031, 18.11561522, 18.09990869,\n         18.05975332, 17.98018346, 17.86416261, 17.74503008, 17.67212809,\n         17.64219678, 17.63286177, 17.62826835, 17.62530486, 17.62263771,\n         17.62263771, 17.62002687]),\n  array([17.3863345 , 17.36576395, 17.33490812, 17.31562323, 17.28091043,\n         17.25648291, 17.22434142, 17.17677203, 17.13948791, 17.1112034 ,\n         17.08677588, 17.06106269, 17.03277819, 17.03277819, 17.01090795]),\n  array([16.23706065, 16.22382863, 16.21324302, 16.193395  , 16.16957738,\n         16.14708296, 16.11863413, 16.07695328, 16.04982765, 16.03394924,\n         16.02204043, 16.01013161, 15.9942532 , 15.9942532 , 15.98367838]),\n  array([15.31803613, 15.30634898, 15.29328687, 15.27816232, 15.26922509,\n         15.25960037, 15.2486007 , 15.2286638 , 15.21078933, 15.1949773 ,\n         15.18397763, 15.1750404 , 15.16266577, 15.16266577, 15.15224891]),\n  array([14.81767923, 14.80969849, 14.80171775, 14.78416012, 14.76500633,\n         14.75383329, 14.74665063, 14.74665063, 14.73489109]),\n  array([14.61068555, 14.60323657, 14.59811539, 14.58926973, 14.57669958,\n         14.56878504, 14.55761157, 14.55342152, 14.54224805, 14.53433351,\n         14.52595341, 14.52036667, 14.51477994, 14.50593427, 14.49662305,\n         14.48219065, 14.47287943, 14.45658478, 14.44168683, 14.42539218,\n         14.41235647, 14.40490749, 14.3951307 , 14.38488836, 14.36533479,\n         14.34578122, 14.32343428, 14.30713963, 14.2955006 , 14.28153377,\n         14.27082586, 14.25685902, 14.24615112, 14.23451209, 14.23451209,\n         14.22788813]),\n  array([13.84316626, 13.83082735, 13.81672574, 13.80703088, 13.79204791,\n         13.78059035, 13.75414983, 13.72947201, 13.7100823 , 13.69509933,\n         13.68364177, 13.68364177, 13.67159231]),\n  array([12.77373058, 12.75476117, 12.73958565, 12.71049922, 12.69152982,\n         12.69152982, 12.67550004]),\n  array([12.2367108 , 12.2114061 , 12.19760353, 12.1699984 , 12.15504562,\n         12.15504562, 12.14108079]),\n  array([11.35338382, 11.3385603 , 11.32373678, 11.3128662 , 11.30001914,\n         11.28025445, 11.26641916, 11.25752505, 11.23973682, 11.23973682,\n         11.22864029]),\n  array([11.15796962, 11.14927833, 11.13872463, 11.12817093, 11.11761723,\n         11.10892594, 11.08781854, 11.06733194, 11.05491582, 11.04436212,\n         11.03318761, 11.03318761, 11.02634239]),\n  array([10.62984049, 10.62798492, 10.62353153, 10.61963482, 10.61072806,\n         10.59996571, 10.58307997, 10.56266863, 10.55023626, 10.54114394,\n         10.53798946, 10.53613388, 10.53279385, 10.53279385, 10.53083977]),\n  array([9.81040806, 9.80405238, 9.7972078 , 9.78987432, 9.78302974,\n         9.77618516, 9.76542939, 9.75125133, 9.74098445, 9.73316207,\n         9.72778419, 9.72191741, 9.71653952, 9.71653952, 9.71179144]),\n  array([9.59254368, 9.58599915, 9.56963782, 9.56963782, 9.56181561]),\n  array([9.52296233, 9.51342918, 9.50707374, 9.49992388, 9.49118516,\n         9.47688543, 9.46576342, 9.45861356, 9.4514637 , 9.4514637 ,\n         9.44396114]),\n  array([9.23293988, 9.22296785, 9.21759829, 9.2060921 , 9.18998343,\n         9.18614803, 9.18231263, 9.17771016, 9.16543688, 9.15853317,\n         9.15393069, 9.14395866, 9.13552078, 9.12861707, 9.12554875,\n         9.11557672, 9.10330345, 9.09716681, 9.08872894, 9.07722274,\n         9.06955195, 9.05957991, 9.04730664, 9.03810169, 9.02966381,\n         9.01815762, 9.00971975, 9.00204895, 8.9966794 , 8.98670736,\n         8.97826949, 8.96906453, 8.95985958, 8.95295586, 8.94451799,\n         8.94451799, 8.93766209]),\n  array([8.48944303, 8.48517251, 8.4776991 , 8.46755661, 8.46115083,\n         8.45527887, 8.44940691, 8.4419335 , 8.4312572 , 8.42324997,\n         8.41631038, 8.41043841, 8.40243119, 8.39549159, 8.388552  ,\n         8.388552  , 8.38407645]),\n  array([8.36537401, 8.35957607, 8.35377812, 8.35008852, 8.34481767,\n         8.34060098, 8.33216761, 8.32268007, 8.31477378, 8.31108418,\n         8.30475916, 8.29632578, 8.28736533, 8.28736533, 8.28299948]),\n  array([8.12575806, 8.12227312, 8.11910499, 8.11371917, 8.11086785,\n         8.10769973, 8.10516522, 8.10231391, 8.0997794 , 8.09692809,\n         8.09534402, 8.08964139, 8.08615645, 8.08140426, 8.07760251,\n         8.07221669, 8.06904856, 8.06651406, 8.06302911, 8.06112824,\n         8.0576433 , 8.0576433 , 8.05509134]),\n  array([8.03429017, 8.03532992, 8.0370195 , 8.03831918, 8.04052863,\n         8.04182831, 8.04325796, 8.04442767, 8.04624722, 8.04741693,\n         8.04962638, 8.05066613, 8.05066613, 8.05171259]),\n  array([8.12536283, 8.12524932, 8.12514613, 8.1250739 , 8.12498103,\n         8.12486752, 8.12477465, 8.12472305, 8.1245889 , 8.1244238 ,\n         8.12414518, 8.12381497, 8.1234538 , 8.1230204 , 8.12259732,\n         8.12222583, 8.12200913, 8.12184402, 8.12169956, 8.12158605,\n         8.12155509, 8.12147254, 8.12135903, 8.1212352 , 8.12115264,\n         8.12115264, 8.12106884]),\n  array([8.11721547, 8.11595392, 8.11399151, 8.11216926, 8.11118806,\n         8.11034702, 8.10726323, 8.10516064, 8.10305806, 8.10165633,\n         8.10067512, 8.10067512, 8.09953979]),\n  array([7.4500057 , 7.44727617, 7.44454663, 7.44220703, 7.43557816,\n         7.42972916, 7.42816943, 7.42466003, 7.42115063, 7.41647143,\n         7.40945263, 7.40282376, 7.39619489, 7.38332709, 7.36811968,\n         7.35642168, 7.34589348, 7.34160421, 7.33614515, 7.33263575,\n         7.32990621, 7.32990621, 7.32704915]),\n  array([7.3076789 , 7.30406323, 7.30044755, 7.29818776, 7.29321621,\n         7.29095641, 7.28146527, 7.27513784, 7.26835845, 7.26655061,\n         7.26383886, 7.25931926, 7.25208792, 7.2489242 , 7.2489242 ,\n         7.24564946]),\n  array([7.18535042, 7.18773481, 7.1891257 , 7.1913114 , 7.19290099,\n         7.19508668, 7.19687498, 7.19886197, 7.20104766, 7.20343206,\n         7.20561775, 7.20879694, 7.20979043, 7.21118133, 7.21376442,\n         7.21595011, 7.21654621, 7.21674491, 7.2189306 , 7.2201228 ,\n         7.22230849, 7.22310329, 7.22648118, 7.22946167, 7.23184606,\n         7.23403175, 7.23601875, 7.23860184, 7.24158233, 7.24158233,\n         7.24302151]),\n  array([8.36064662, 8.37149807, 8.3811438 , 8.40164097, 8.4112867 ,\n         8.4112867 , 8.42144057]),\n  array([8.63061021, 8.6265989 , 8.6230333 , 8.6172392 , 8.60921659,\n         8.60743379, 8.60342249, 8.59941118, 8.59584558, 8.59317138,\n         8.58559447, 8.58158317, 8.58158317, 8.57776006]),\n  array([8.31511152, 8.28496672, 8.2756914 , 8.23859012, 8.2223583 ,\n         8.21308298, 8.18989468, 8.16670638, 8.12960509, 8.11337328,\n         8.09482263, 8.06235901, 8.05076486, 8.05076486, 8.03213969]),\n  array([7.06152678, 7.04926857, 7.02475216, 6.9266865 , 6.88378277,\n         6.88378277, 6.84184837]),\n  array([6.12357253, 6.09060502, 6.05292787, 6.02467001, 5.9493157 ,\n         5.90221927, 5.89279998, 5.89279998, 5.86517708]),\n  array([5.23524991, 5.24103516, 5.24682041, 5.25839091, 5.26475469,\n         5.26475469, 5.26780225])],\n 'xs_bl_in_reg': array([  24.,   25.,   26., ..., 4025., 4026., 4027.]),\n 'ys_bl_in_reg': array([ 0,  0, 11, ..., 11, 12, 10]),\n 'xs_bl_out_reg': array([0.000e+00, 1.000e+00, 2.000e+00, ..., 4.093e+03, 4.094e+03,\n        4.095e+03]),\n 'ys_bl_out_reg': array([572, 572, 572, ...,   3,   1,   2]),\n 'ws_bl_out_reg': array([0.0418121, 0.0418121, 0.0418121, ..., 1.       , 1.       ,\n        1.       ]),\n 'pk_parms': <peaksparms_class.PeaksParms at 0x7f8cd7586bd0>,\n 'fft_spec': array([], dtype=float64),\n 'k_erf': 0.9999975184539827,\n 'widths_range': (0.9485126890018591, 7.605965318047311),\n 'widths_pair': (0.9485126890018591, 7.605965318047311)}"
     },
     "execution_count": 20,
     "metadata": {},
     "output_type": "execute_result"
    }
   ],
   "source": [
    "read_orig = read_analysis_spec['origin_spec_ser_an'][0]\n",
    "vars(read_orig)"
   ],
   "metadata": {
    "collapsed": false,
    "ExecuteTime": {
     "end_time": "2023-06-14T16:22:37.977555037Z",
     "start_time": "2023-06-14T16:22:37.447564736Z"
    }
   }
  },
  {
   "cell_type": "code",
   "execution_count": 21,
   "outputs": [
    {
     "data": {
      "text/plain": "{'mix_regions': array([[  25,   57],\n        [ 122,  134],\n        [ 139,  150],\n        [ 231,  240],\n        [ 393,  400],\n        [ 479,  498],\n        [ 525,  534],\n        [ 577,  588],\n        [ 712,  719],\n        [ 834,  851],\n        [ 955,  966],\n        [ 998, 1009],\n        [1076, 1089],\n        [1108, 1123],\n        [1125, 1136],\n        [1156, 1169],\n        [1193, 1200],\n        [1250, 1265],\n        [1326, 1341],\n        [1367, 1378],\n        [1448, 1461],\n        [1492, 1503],\n        [1534, 1547],\n        [1580, 1598],\n        [1827, 1848],\n        [1919, 1934],\n        [2027, 2040],\n        [2180, 2195],\n        [2264, 2281],\n        [2390, 2407],\n        [2465, 2476],\n        [2606, 2623],\n        [2832, 2843],\n        [2888, 2903],\n        [3025, 3036],\n        [3438, 3463],\n        [3607, 3624],\n        [4001, 4028]]),\n 'spl_baseline': None,\n 'eval_baseline': None,\n 'y_s': array([0.        , 0.        , 0.        , ..., 2.0245828 , 0.        ,\n        1.43130251]),\n 'nzero': array([False, False, False, ...,  True, False,  True]),\n 'n_ch': 4096,\n 'final_baseline': None,\n 'x_s': array([0.000e+00, 1.000e+00, 2.000e+00, ..., 4.093e+03, 4.094e+03,\n        4.095e+03]),\n 'chans_nzero': array([  29.,   30.,   31., ..., 4092., 4093., 4095.]),\n 'counts_nzero': array([ 95.69600332, 395.31091101, 552.37325846, ...,   1.83010695,\n          2.0245828 ,   1.43130251]),\n 'given_variance': array([598.44258345, 593.73502877, 589.12559755, ...,   3.9754172 ,\n          1.77504721,   2.56869749]),\n 'unc_y': array([24.46308614, 24.36667866, 24.27190964, ...,  1.99384483,\n         1.33230898,  1.60271566]),\n 'y_smoothed': array([0.        , 0.        , 0.        , ..., 2.0245828 , 0.        ,\n        1.43130251]),\n 'fft_s': None,\n 'is_reg': array([False, False, False, ..., False, False, False]),\n 'xs_all_mplets': [],\n 'ys_all_mplets': [],\n 'ys_all_steps': [],\n 'chans_in_multiplets_list': [],\n 'calculated_step_counts': [],\n 'xs_bl_in_reg': array([], dtype=float64),\n 'ys_bl_in_reg': array([], dtype=float64),\n 'xs_bl_out_reg': array([], dtype=float64),\n 'ys_bl_out_reg': array([], dtype=float64),\n 'ws_bl_out_reg': array([], dtype=float64),\n 'pk_parms': <peaksparms_class.PeaksParms at 0x7f8cd78b0e90>,\n 'fft_spec': array([], dtype=float64),\n 'k_erf': 0.9999975184539827,\n 'widths_range': (1.1924951533206265, 7.116675913019549),\n 'widths_pair': (1.1924951533206265, 7.116675913019549)}"
     },
     "execution_count": 21,
     "metadata": {},
     "output_type": "execute_result"
    }
   ],
   "source": [
    "read_net = read_analysis_spec['net_spec_ser_an'][0]\n",
    "vars(read_net)"
   ],
   "metadata": {
    "collapsed": false,
    "ExecuteTime": {
     "end_time": "2023-06-14T16:22:37.979985263Z",
     "start_time": "2023-06-14T16:22:37.681564886Z"
    }
   }
  },
  {
   "cell_type": "code",
   "execution_count": 22,
   "outputs": [],
   "source": [
    "# 2023-May-26\n",
    "# Ok! Espectro gravado, depois lido, então vamos prosseguir\n",
    "# com a identificação dos nuclídeos.\n",
    "# Agora, posso ler e analisar um espectro, gravá-lo e depois, em outro momento,\n",
    "# ler o pkl com a análise."
   ],
   "metadata": {
    "collapsed": false,
    "ExecuteTime": {
     "end_time": "2023-06-14T16:22:38.097764489Z",
     "start_time": "2023-06-14T16:22:37.714201562Z"
    }
   }
  },
  {
   "cell_type": "code",
   "execution_count": 22,
   "outputs": [],
   "source": [],
   "metadata": {
    "collapsed": false,
    "ExecuteTime": {
     "end_time": "2023-06-14T16:22:38.098983385Z",
     "start_time": "2023-06-14T16:22:37.802137401Z"
    }
   }
  },
  {
   "cell_type": "code",
   "execution_count": 23,
   "metadata": {
    "ExecuteTime": {
     "end_time": "2023-06-14T16:22:38.556535784Z",
     "start_time": "2023-06-14T16:22:37.843147681Z"
    }
   },
   "outputs": [],
   "source": [
    "x_nz = a_spec.origin_spec_ser_an.chans_nzero\n",
    "y_nz = a_spec.origin_spec_ser_an.counts_nzero"
   ]
  },
  {
   "cell_type": "code",
   "execution_count": 23,
   "metadata": {
    "ExecuteTime": {
     "end_time": "2023-06-14T16:22:38.608080372Z",
     "start_time": "2023-06-14T16:22:37.902509790Z"
    }
   },
   "outputs": [],
   "source": []
  },
  {
   "cell_type": "code",
   "execution_count": 24,
   "metadata": {
    "ExecuteTime": {
     "end_time": "2023-06-14T16:22:38.638423229Z",
     "start_time": "2023-06-14T16:22:37.942628312Z"
    }
   },
   "outputs": [],
   "source": [
    "chans = net_ser.x_s\n",
    "ys_net_counts = net_ser.y_s\n",
    "peaks_net = net_ser.pk_parms.peaks\n",
    "peaks_1 = orig_ser.pk_parms.peaks\n",
    "counts = orig_ser.y_s\n",
    "chans_nzero = orig_ser.chans_nzero\n",
    "counts_nzero = orig_ser.counts_nzero\n",
    "unc_y = orig_ser.unc_y\n",
    "eval_y = orig_ser.y_smoothed\n",
    "eval_bl = orig_ser.eval_baseline\n",
    "fin_bl = orig_ser.final_baseline\n",
    "inis = orig_ser.pk_parms.propts['left_bases']\n",
    "fins = orig_ser.pk_parms.propts['right_bases']"
   ]
  },
  {
   "cell_type": "code",
   "execution_count": 24,
   "outputs": [],
   "source": [],
   "metadata": {
    "collapsed": false,
    "ExecuteTime": {
     "end_time": "2023-06-14T16:22:38.760357905Z",
     "start_time": "2023-06-14T16:22:37.994301169Z"
    }
   }
  },
  {
   "cell_type": "code",
   "execution_count": 25,
   "outputs": [],
   "source": [
    "# 2023-May-24\n",
    "# A seguir, um gráfico resumido e com escala em cps, para o utente."
   ],
   "metadata": {
    "collapsed": false,
    "ExecuteTime": {
     "end_time": "2023-06-14T16:22:38.851810931Z",
     "start_time": "2023-06-14T16:22:38.034838675Z"
    }
   }
  },
  {
   "cell_type": "code",
   "execution_count": 26,
   "outputs": [],
   "source": [
    "counts_nzero_cps = counts_nzero / a_spec.lv_time\n",
    "unc_y_cps = unc_y / a_spec.lv_time\n",
    "fin_bl_cps = fin_bl / a_spec.lv_time\n",
    "counts_cps = counts / a_spec.lv_time"
   ],
   "metadata": {
    "collapsed": false,
    "ExecuteTime": {
     "end_time": "2023-06-14T16:22:38.896291738Z",
     "start_time": "2023-06-14T16:22:38.116582323Z"
    }
   }
  },
  {
   "cell_type": "code",
   "execution_count": 26,
   "outputs": [],
   "source": [],
   "metadata": {
    "collapsed": false,
    "ExecuteTime": {
     "end_time": "2023-06-14T16:22:38.919209726Z",
     "start_time": "2023-06-14T16:22:38.250441942Z"
    }
   }
  },
  {
   "cell_type": "code",
   "execution_count": 26,
   "outputs": [],
   "source": [],
   "metadata": {
    "collapsed": false,
    "ExecuteTime": {
     "end_time": "2023-06-14T16:22:38.919931077Z",
     "start_time": "2023-06-14T16:22:38.250874439Z"
    }
   }
  },
  {
   "cell_type": "code",
   "execution_count": 26,
   "outputs": [],
   "source": [],
   "metadata": {
    "collapsed": false,
    "ExecuteTime": {
     "end_time": "2023-06-14T16:22:38.920819078Z",
     "start_time": "2023-06-14T16:22:38.251172691Z"
    }
   }
  },
  {
   "cell_type": "code",
   "execution_count": 27,
   "outputs": [],
   "source": [
    "# prosseguir a partir daqui:"
   ],
   "metadata": {
    "collapsed": false,
    "ExecuteTime": {
     "end_time": "2023-06-14T16:22:38.923217460Z",
     "start_time": "2023-06-14T16:22:38.251547557Z"
    }
   }
  },
  {
   "cell_type": "code",
   "execution_count": 27,
   "outputs": [],
   "source": [],
   "metadata": {
    "collapsed": false,
    "ExecuteTime": {
     "end_time": "2023-06-14T16:22:38.937837147Z",
     "start_time": "2023-06-14T16:22:38.303252033Z"
    }
   }
  },
  {
   "cell_type": "code",
   "execution_count": 27,
   "outputs": [],
   "source": [],
   "metadata": {
    "collapsed": false,
    "ExecuteTime": {
     "end_time": "2023-06-14T16:22:38.939252747Z",
     "start_time": "2023-06-14T16:22:38.312354251Z"
    }
   }
  },
  {
   "cell_type": "code",
   "execution_count": 27,
   "outputs": [],
   "source": [],
   "metadata": {
    "collapsed": false,
    "ExecuteTime": {
     "end_time": "2023-06-14T16:22:38.940113846Z",
     "start_time": "2023-06-14T16:22:38.355041708Z"
    }
   }
  },
  {
   "cell_type": "code",
   "execution_count": 27,
   "outputs": [],
   "source": [],
   "metadata": {
    "collapsed": false,
    "ExecuteTime": {
     "end_time": "2023-06-14T16:22:38.940850667Z",
     "start_time": "2023-06-14T16:22:38.355585672Z"
    }
   }
  },
  {
   "cell_type": "code",
   "execution_count": 28,
   "outputs": [
    {
     "data": {
      "text/plain": "{'calib_kind': 'channel energy',\n 'p_en': Polynomial([-1.99049842,  0.61104035,  0.        ], domain=[-1,  1], window=[-1,  1]),\n 'coeffs_ch_en': array([ 0.        ,  0.61104035, -1.99049842]),\n 'en_ch_calib': array([], dtype=float64),\n 'chan_calib': array([], dtype=float64)}"
     },
     "execution_count": 28,
     "metadata": {},
     "output_type": "execute_result"
    }
   ],
   "source": [
    "vars(a_spec.channel_energy_calib)"
   ],
   "metadata": {
    "collapsed": false,
    "ExecuteTime": {
     "end_time": "2023-06-14T16:22:38.951898847Z",
     "start_time": "2023-06-14T16:22:38.355981989Z"
    }
   }
  },
  {
   "cell_type": "code",
   "execution_count": 29,
   "outputs": [
    {
     "data": {
      "text/plain": "PosixPath('/home/marcelofm/Nextcloud/Genie_Transfer/Si/SI2022/SI06322.pkl')"
     },
     "execution_count": 29,
     "metadata": {},
     "output_type": "execute_result"
    }
   ],
   "source": [
    "a_spec.pkl_file"
   ],
   "metadata": {
    "collapsed": false,
    "ExecuteTime": {
     "end_time": "2023-06-14T16:22:39.462320901Z",
     "start_time": "2023-06-14T16:22:38.473956552Z"
    }
   }
  },
  {
   "cell_type": "code",
   "execution_count": 30,
   "outputs": [
    {
     "data": {
      "text/plain": "                                     net_spec_ser_an  \\\n0  <generic_series_analysis_class.GenericSeriesAn...   \n\n                             final_composed_baseline  \\\n0  <generic_series_analysis_class.GenericSeriesAn...   \n\n                                              f_name reduced_f_name  sufx  \\\n0  /home/marcelofm/Nextcloud/Genie_Transfer/Si/SI...    SI06322.Chn  .chn   \n\n  spec_io  lv_time   rl_time source_datetime  \\\n0    None  50000.0  50028.58            None   \n\n                                            pkl_file  \\\n0  /home/marcelofm/Nextcloud/Genie_Transfer/Si/SI...   \n\n                                  origin_spec_ser_an      start_datetime  \\\n0  <generic_series_analysis_class.GenericSeriesAn... 2022-08-04 19:42:23   \n\n                  det_descr  \\\n0  MAQUINA_01 MCB 1 Input 1   \n\n                                           sam_descr  \\\n0  SI-063/22 - Agua da Piscina do Reator IEA-R1 (...   \n\n                                channel_energy_calib  \n0  <genericcalib_class.ChannelEnergyCalib object ...  ",
      "text/html": "<div>\n<style scoped>\n    .dataframe tbody tr th:only-of-type {\n        vertical-align: middle;\n    }\n\n    .dataframe tbody tr th {\n        vertical-align: top;\n    }\n\n    .dataframe thead th {\n        text-align: right;\n    }\n</style>\n<table border=\"1\" class=\"dataframe\">\n  <thead>\n    <tr style=\"text-align: right;\">\n      <th></th>\n      <th>net_spec_ser_an</th>\n      <th>final_composed_baseline</th>\n      <th>f_name</th>\n      <th>reduced_f_name</th>\n      <th>sufx</th>\n      <th>spec_io</th>\n      <th>lv_time</th>\n      <th>rl_time</th>\n      <th>source_datetime</th>\n      <th>pkl_file</th>\n      <th>origin_spec_ser_an</th>\n      <th>start_datetime</th>\n      <th>det_descr</th>\n      <th>sam_descr</th>\n      <th>channel_energy_calib</th>\n    </tr>\n  </thead>\n  <tbody>\n    <tr>\n      <th>0</th>\n      <td>&lt;generic_series_analysis_class.GenericSeriesAn...</td>\n      <td>&lt;generic_series_analysis_class.GenericSeriesAn...</td>\n      <td>/home/marcelofm/Nextcloud/Genie_Transfer/Si/SI...</td>\n      <td>SI06322.Chn</td>\n      <td>.chn</td>\n      <td>None</td>\n      <td>50000.0</td>\n      <td>50028.58</td>\n      <td>None</td>\n      <td>/home/marcelofm/Nextcloud/Genie_Transfer/Si/SI...</td>\n      <td>&lt;generic_series_analysis_class.GenericSeriesAn...</td>\n      <td>2022-08-04 19:42:23</td>\n      <td>MAQUINA_01 MCB 1 Input 1</td>\n      <td>SI-063/22 - Agua da Piscina do Reator IEA-R1 (...</td>\n      <td>&lt;genericcalib_class.ChannelEnergyCalib object ...</td>\n    </tr>\n  </tbody>\n</table>\n</div>"
     },
     "execution_count": 30,
     "metadata": {},
     "output_type": "execute_result"
    }
   ],
   "source": [
    "df_1 = read_analysis_spec\n",
    "df_1"
   ],
   "metadata": {
    "collapsed": false,
    "ExecuteTime": {
     "end_time": "2023-06-14T16:22:39.476648626Z",
     "start_time": "2023-06-14T16:22:38.747333139Z"
    }
   }
  },
  {
   "cell_type": "code",
   "execution_count": 31,
   "outputs": [],
   "source": [
    "# 2023-Mar-20\n",
    "# 2023-Jun-14 TALVEZ NÄO USE ISSO MAIS!\n",
    "# Lendo biblioteca de nuclídeos\n",
    "# pisciro_eng_df = pd.read_excel('../data/Pisciro-Eng_(2019).ods')\n",
    "# pisciro_eng_df"
   ],
   "metadata": {
    "collapsed": false,
    "ExecuteTime": {
     "end_time": "2023-06-14T16:22:39.479696102Z",
     "start_time": "2023-06-14T16:22:38.790605419Z"
    }
   }
  },
  {
   "cell_type": "code",
   "execution_count": 32,
   "outputs": [
    {
     "data": {
      "text/plain": "{'k_fwhm_to_sd': 0.42466090014400953,\n 'peaks': array([  31,   42,  125,  128,  144,  235,  396,  488,  529,  582,  715,\n         842,  960, 1003, 1082, 1115, 1130, 1162, 1196, 1257, 1333, 1372,\n        1454, 1497, 1540, 1585, 1592, 1832, 1840, 1926, 2033, 2187, 2272,\n        2398, 2470, 2614, 2837, 2895, 3030, 3450, 3615, 4014]),\n 'pk_hei': array([], dtype=float64),\n 'widths': (None, None),\n 'mix_regions': array([], dtype=float64),\n 'plateaux': array([], dtype=float64),\n 'fwhm_plateaux': array([], dtype=float64),\n 'wide_regions': array([[  27,   35],\n        [  34,   54],\n        [ 123,  127],\n        [ 125,  131],\n        [ 142,  147],\n        [ 233,  238],\n        [ 394,  398],\n        [ 481,  494],\n        [ 526,  532],\n        [ 578,  585],\n        [ 713,  717],\n        [ 836,  847],\n        [ 957,  964],\n        [1000, 1006],\n        [1078, 1086],\n        [1110, 1120],\n        [1126, 1133],\n        [1158, 1167],\n        [1194, 1198],\n        [1251, 1261],\n        [1328, 1337],\n        [1369, 1376],\n        [1450, 1458],\n        [1494, 1501],\n        [1536, 1544],\n        [1582, 1588],\n        [1589, 1595],\n        [1828, 1835],\n        [1835, 1844],\n        [1922, 1931],\n        [2028, 2036],\n        [2182, 2192],\n        [2267, 2278],\n        [2392, 2403],\n        [2467, 2473],\n        [2608, 2619],\n        [2835, 2841],\n        [2890, 2899],\n        [3027, 3033],\n        [3441, 3458],\n        [3610, 3621],\n        [4003, 4022]]),\n 'fwhm_centr': array([  31.01566374,   43.80050074,  124.69447492,  128.28152716,\n         144.46976074,  235.39031302,  396.02014184,  487.82017919,\n         529.35978221,  581.61426594,  715.11573339,  841.81403526,\n         960.26275335, 1002.9912974 , 1082.17408008, 1114.60361391,\n        1129.53286544, 1162.29336544, 1195.99315189, 1256.03421383,\n        1332.77565595, 1372.44990532, 1453.82251037, 1497.23377531,\n        1540.26422525, 1585.17576645, 1592.03801405, 1831.63954589,\n        1839.81541685, 1926.26811694, 2032.15122575, 2187.13984625,\n        2272.27602328, 2397.40344616, 2469.85443214, 2613.42330752,\n        2837.61723017, 2894.72218225, 3030.00080203, 3449.77658826,\n        3615.31394808, 4012.61758393]),\n 'rough_sums': [1623.153268509038,\n  1430.1115016468652,\n  1631.0014673179455,\n  2933.2841054787937,\n  1383.6670553032604,\n  332.094691880652,\n  390.8146052721414,\n  533.3443513329491,\n  297.0239526618241,\n  484.2122683752652,\n  139.40583090276553,\n  3048.368615064814,\n  405.94622801490846,\n  698.0968667187394,\n  1959.4240120600589,\n  288.80351441154596,\n  218.0484006492084,\n  353.2180316053499,\n  123.1218156151215,\n  435.20787954493596,\n  2432.3247037795327,\n  203.12060508251122,\n  1210.520172106249,\n  602.7524608885451,\n  679.9804291332825,\n  154.46805747104406,\n  319.7421368019473,\n  343.9463992914566,\n  299.1256267201243,\n  5328.038163969782,\n  144.38053432658648,\n  5053.0794840044755,\n  317.0809961468898,\n  3185.811266461664,\n  146.3819349392195,\n  189.9563078078981,\n  75.48584081263695,\n  389.7710216127898,\n  58.722173673167035,\n  209.39972353429323,\n  145.9109102589486,\n  175.72033997646793],\n 'propts': {'peak_heights': array([ 552.37325846,  178.08437573,  449.25644742,  890.96113966,\n          520.17702069,  132.5526578 ,  216.07831205,   99.34381162,\n          113.04859779,  167.57704593,   71.51625426,  661.99826538,\n          151.18289549,  276.94129993,  662.36312356,   60.69829097,\n           63.12512365,  105.49836978,   63.44266624,  121.12953183,\n          694.33051761,   75.1579757 ,  366.19551946,  194.40768626,\n          179.00812738,   50.11131346,  116.70158091,  102.61570251,\n           76.61107795, 1451.98081379,   42.66005947, 1283.97608606,\n           78.0769697 ,  786.25496992,   46.92304672,   33.67656572,\n           22.91218146,   99.43733137,   19.24874867,   33.8769796 ,\n           31.63188032,   18.78923907]),\n  'left_thresholds': array([157.06234745,  12.92050443,  71.04867935, 484.13329543,\n         385.84843912,  91.28523318, 156.59193124,  45.26276248,\n          74.11758275,  11.00727105,  49.55217556,  77.64178642,\n          73.4384634 , 121.51093816, 273.49619811,  11.21093032,\n          14.21093032,  39.21610987,  40.16454313,   2.13876641,\n          82.21178444,  51.08067785,  64.13082297,  91.11708941,\n          65.12302005,  24.09202388,  55.13540656,  24.21001055,\n          15.17645857, 512.38499365,  12.17236174, 374.27295608,\n          16.16567804,  21.11913253,  20.04168084,   6.02234694,\n          20.0211074 ,  19.02041134,   7.01417806,   7.0004334 ,\n           6.0152074 ,   4.99928497]),\n  'right_thresholds': array([216.57394675,  42.2073355 , 194.55696998, 239.38245013,\n          76.9983158 ,   0.69923551, 147.95335584,   5.75592534,\n          42.99193538,  92.19461732,  37.5180006 , 171.48838724,\n          26.60009853, 121.63642462, 118.57826289,  21.81401843,\n          41.83669911,  25.80897431,  40.87335725,  81.91070683,\n         214.84527527,  10.92433603, 106.89934525,  49.90309842,\n          18.88557326,   6.91257732,  48.89680179,  52.85585075,\n          20.84963742, 155.65483328,  32.89301685, 128.75384098,\n           4.84244343, 311.92709801,  21.97287437,  12.98370536,\n           0.9795134 ,  42.98756764,   7.98973313,   0.99957692,\n           8.988302  ,   3.00158205]),\n  'prominences': array([ 552.37325846,  178.08437573,  194.55696998,  890.96113966,\n          520.17702069,  132.5526578 ,  216.07831205,   99.34381162,\n          113.04859779,  167.57704593,   71.51625426,  661.99826538,\n          151.18289549,  276.94129993,  662.36312356,   60.69829097,\n           63.12512365,  105.49836978,   63.44266624,  121.12953183,\n          694.33051761,   75.1579757 ,  366.19551946,  194.40768626,\n          179.00812738,   50.11131346,  116.70158091,  102.61570251,\n           76.61107795, 1451.98081379,   42.66005947, 1283.97608606,\n           78.0769697 ,  786.25496992,   46.92304672,   33.67656572,\n           22.91218146,   99.43733137,   19.24874867,   33.8769796 ,\n           31.63188032,   18.78923907]),\n  'left_bases': array([  28,   36,  119,  119,  140,  224,  394,  482,  526,  579,  712,\n          835,  951,  983, 1077, 1109, 1124, 1152, 1193, 1252, 1324, 1369,\n         1450, 1492, 1530, 1578, 1587, 1820, 1836, 1916, 2026, 2176, 2258,\n         2388, 2465, 2600, 2831, 2889, 3023, 3444, 3607, 3998]),\n  'right_bases': array([  36,   56,  126,  134,  153,  238,  404,  492,  532,  585,  718,\n          849,  963, 1006, 1087, 1120, 1134, 1166, 1200, 1261, 1337, 1376,\n         1459, 1501, 1549, 1587, 1596, 1836, 1843, 1932, 2036, 2196, 2277,\n         2404, 2479, 2622, 2844, 2899, 3036, 3457, 3621, 4020]),\n  'widths': array([2.82651008, 6.82987512, 1.61105015, 2.40337628, 2.28765969,\n         2.23269723, 1.4201652 , 4.6166465 , 2.2448246 , 2.58911269,\n         1.67471833, 4.09984075, 2.59141351, 2.31074742, 2.78629009,\n         3.65331124, 2.44311483, 3.16042779, 1.56587276, 3.41037208,\n         3.2707282 , 2.37116887, 3.17896189, 2.70129537, 3.1152836 ,\n         2.48844905, 2.3544253 , 2.66233383, 3.39925949, 3.33737293,\n         2.99448212, 3.60765991, 3.85386837, 3.75316815, 2.46643462,\n         3.92519877, 2.37886165, 3.30391326, 2.65327697, 5.90541579,\n         3.85200328, 6.59079776]),\n  'width_heights': array([276.18662923,  89.04218786, 351.97796243, 445.48056983,\n         260.08851034,  66.2763289 , 108.03915602,  49.67190581,\n          56.52429889,  83.78852296,  35.75812713, 330.99913269,\n          75.59144775, 138.47064996, 331.18156178,  30.34914549,\n          31.56256182,  52.74918489,  31.72133312,  60.56476592,\n         347.16525881,  37.57898785, 183.09775973,  97.20384313,\n          89.50406369,  25.05565673,  58.35079045,  51.30785125,\n          38.30553898, 725.9904069 ,  21.33002974, 641.98804303,\n          39.03848485, 393.12748496,  23.46152336,  16.83828286,\n          11.45609073,  49.71866569,   9.62437434,  16.9384898 ,\n          15.81594016,   9.39461953]),\n  'left_ips': array([  29.6024087 ,   40.38556318,  123.88894985,  127.07983902,\n          143.3259309 ,  234.2739644 ,  395.31005924,  485.51185594,\n          528.23736991,  580.31970959,  714.27837422,  839.76411489,\n          958.9670466 , 1001.83592369, 1080.78093504, 1112.77695829,\n         1128.31130802, 1160.71315155, 1195.21021551, 1254.32902779,\n         1331.14029185, 1371.26432089, 1452.23302943, 1495.88312763,\n         1538.70658345, 1583.93154193, 1590.8608014 , 1830.30837898,\n         1838.11578711, 1924.59943048, 2030.65398469, 2185.33601629,\n         2270.3490891 , 2395.52686209, 2468.62121483, 2611.46070814,\n         2836.42779935, 2893.07022562, 3028.67416354, 3446.82388037,\n         3613.38794644, 4009.32218505]),\n  'right_ips': array([  32.42891878,   47.2154383 ,  125.5       ,  129.4832153 ,\n          145.61359059,  236.50666164,  396.73022444,  490.12850244,\n          530.48219451,  582.90882229,  715.95309256,  843.86395563,\n          961.5584601 , 1004.14667111, 1083.56722512, 1116.43026952,\n         1130.75442285, 1163.87357934, 1196.77608827, 1257.73939987,\n         1334.41102004, 1373.63548976, 1455.41199132, 1498.584423  ,\n         1541.82186705, 1586.41999098, 1593.2152267 , 1832.97071281,\n         1841.5150466 , 1927.93680341, 2033.64846681, 2188.94367621,\n         2274.20295747, 2399.28003024, 2471.08764945, 2615.38590691,\n         2838.80666099, 2896.37413888, 3031.32744051, 3452.72929616,\n         3617.23994972, 4015.91298281])},\n 'fwhm_centr_ini': array([  29.6024087 ,   40.38556318,  123.88894985,  127.07983902,\n         143.3259309 ,  234.2739644 ,  395.31005924,  485.51185594,\n         528.23736991,  580.31970959,  714.27837422,  839.76411489,\n         958.9670466 , 1001.83592369, 1080.78093504, 1112.77695829,\n        1128.31130802, 1160.71315155, 1195.21021551, 1254.32902779,\n        1331.14029185, 1371.26432089, 1452.23302943, 1495.88312763,\n        1538.70658345, 1583.93154193, 1590.8608014 , 1830.30837898,\n        1838.11578711, 1924.59943048, 2030.65398469, 2185.33601629,\n        2270.3490891 , 2395.52686209, 2468.62121483, 2611.46070814,\n        2836.42779935, 2893.07022562, 3028.67416354, 3446.82388037,\n        3613.38794644, 4009.32218505]),\n 'fwhm_centr_fin': array([  32.42891878,   47.2154383 ,  125.5       ,  129.4832153 ,\n         145.61359059,  236.50666164,  396.73022444,  490.12850244,\n         530.48219451,  582.90882229,  715.95309256,  843.86395563,\n         961.5584601 , 1004.14667111, 1083.56722512, 1116.43026952,\n        1130.75442285, 1163.87357934, 1196.77608827, 1257.73939987,\n        1334.41102004, 1373.63548976, 1455.41199132, 1498.584423  ,\n        1541.82186705, 1586.41999098, 1593.2152267 , 1832.97071281,\n        1841.5150466 , 1927.93680341, 2033.64846681, 2188.94367621,\n        2274.20295747, 2399.28003024, 2471.08764945, 2615.38590691,\n        2838.80666099, 2896.37413888, 3031.32744051, 3452.72929616,\n        3617.23994972, 4015.91298281]),\n 'centroids': [31.18854085242766,\n  44.293327089809324,\n  125.24900501049747,\n  127.659903192979,\n  144.54823474507984,\n  235.14284563524217,\n  396.26326674188203,\n  488.1493976257752,\n  529.1653754538635,\n  581.7725002761985,\n  715.0421724805975,\n  841.6894252906669,\n  960.2124058627636,\n  1002.8901682775197,\n  1082.1052911911465,\n  1114.435624088223,\n  1129.5754083259917,\n  1161.927751825494,\n  1195.9866181039163,\n  1256.1025510912996,\n  1332.6592632269637,\n  1372.5254116229596,\n  1453.8191919545973,\n  1497.1863739331582,\n  1540.147275162454,\n  1584.67387706534,\n  1591.9147345820527,\n  1831.7334494657146,\n  1839.6700797858828,\n  1926.2746398446786,\n  2031.6318486454677,\n  2187.021381227709,\n  2272.0250979832385,\n  2397.320809331911,\n  2469.485849703603,\n  2613.9010297368623,\n  2837.9392643609985,\n  2894.3764669856982,\n  3029.9025279226607,\n  3449.9775770124147,\n  3614.787703162399,\n  4011.784421506171],\n 'variances': [10243.062773303203,\n  21540.72915004628,\n  6686.998532682055,\n  10096.715894521205,\n  7786.33294469674,\n  7906.898564749432,\n  5348.731117087952,\n  10970.082038037895,\n  4995.087931837591,\n  5194.0248944606155,\n  2414.594169097234,\n  7521.631384935185,\n  2882.701327616506,\n  2736.208108974499,\n  4312.57598793994,\n  3039.6987006738273,\n  2185.9515993507916,\n  2689.5454914364595,\n  1268.8781843848785,\n  2803.309126598594,\n  4503.057887648314,\n  1820.5205976508207,\n  2970.635049338624,\n  2130.5899275310135,\n  2354.0195708667175,\n  1413.2740481785454,\n  1570.2578631980527,\n  1408.0536007085434,\n  1596.8758972481064,\n  6447.961836030218,\n  943.6760989770742,\n  5714.920515995524,\n  888.9269284805663,\n  3614.188733538336,\n  371.61806506078045,\n  534.0436921921018,\n  230.51415918736305,\n  600.7651122708027,\n  195.27782632683298,\n  495.21778281193434,\n  322.418995952563,\n  384.50992305102955]}"
     },
     "execution_count": 32,
     "metadata": {},
     "output_type": "execute_result"
    }
   ],
   "source": [
    "vars_pkprms = vars(net_ser.pk_parms)\n",
    "vars_pkprms"
   ],
   "metadata": {
    "collapsed": false,
    "ExecuteTime": {
     "end_time": "2023-06-14T16:22:39.485971186Z",
     "start_time": "2023-06-14T16:22:38.871647332Z"
    }
   }
  },
  {
   "cell_type": "code",
   "execution_count": 33,
   "outputs": [
    {
     "data": {
      "text/plain": "     fwhm_centr   rough_sums    centroids     variances\n0     31.015664  1623.153269    31.188541  10243.062773\n1     43.800501  1430.111502    44.293327  21540.729150\n2    124.694475  1631.001467   125.249005   6686.998533\n3    128.281527  2933.284105   127.659903  10096.715895\n4    144.469761  1383.667055   144.548235   7786.332945\n5    235.390313   332.094692   235.142846   7906.898565\n6    396.020142   390.814605   396.263267   5348.731117\n7    487.820179   533.344351   488.149398  10970.082038\n8    529.359782   297.023953   529.165375   4995.087932\n9    581.614266   484.212268   581.772500   5194.024894\n10   715.115733   139.405831   715.042172   2414.594169\n11   841.814035  3048.368615   841.689425   7521.631385\n12   960.262753   405.946228   960.212406   2882.701328\n13  1002.991297   698.096867  1002.890168   2736.208109\n14  1082.174080  1959.424012  1082.105291   4312.575988\n15  1114.603614   288.803514  1114.435624   3039.698701\n16  1129.532865   218.048401  1129.575408   2185.951599\n17  1162.293365   353.218032  1161.927752   2689.545491\n18  1195.993152   123.121816  1195.986618   1268.878184\n19  1256.034214   435.207880  1256.102551   2803.309127\n20  1332.775656  2432.324704  1332.659263   4503.057888\n21  1372.449905   203.120605  1372.525412   1820.520598\n22  1453.822510  1210.520172  1453.819192   2970.635049\n23  1497.233775   602.752461  1497.186374   2130.589928\n24  1540.264225   679.980429  1540.147275   2354.019571\n25  1585.175766   154.468057  1584.673877   1413.274048\n26  1592.038014   319.742137  1591.914735   1570.257863\n27  1831.639546   343.946399  1831.733449   1408.053601\n28  1839.815417   299.125627  1839.670080   1596.875897\n29  1926.268117  5328.038164  1926.274640   6447.961836\n30  2032.151226   144.380534  2031.631849    943.676099\n31  2187.139846  5053.079484  2187.021381   5714.920516\n32  2272.276023   317.080996  2272.025098    888.926928\n33  2397.403446  3185.811266  2397.320809   3614.188734\n34  2469.854432   146.381935  2469.485850    371.618065\n35  2613.423308   189.956308  2613.901030    534.043692\n36  2837.617230    75.485841  2837.939264    230.514159\n37  2894.722182   389.771022  2894.376467    600.765112\n38  3030.000802    58.722174  3029.902528    195.277826\n39  3449.776588   209.399724  3449.977577    495.217783\n40  3615.313948   145.910910  3614.787703    322.418996\n41  4012.617584   175.720340  4011.784422    384.509923",
      "text/html": "<div>\n<style scoped>\n    .dataframe tbody tr th:only-of-type {\n        vertical-align: middle;\n    }\n\n    .dataframe tbody tr th {\n        vertical-align: top;\n    }\n\n    .dataframe thead th {\n        text-align: right;\n    }\n</style>\n<table border=\"1\" class=\"dataframe\">\n  <thead>\n    <tr style=\"text-align: right;\">\n      <th></th>\n      <th>fwhm_centr</th>\n      <th>rough_sums</th>\n      <th>centroids</th>\n      <th>variances</th>\n    </tr>\n  </thead>\n  <tbody>\n    <tr>\n      <th>0</th>\n      <td>31.015664</td>\n      <td>1623.153269</td>\n      <td>31.188541</td>\n      <td>10243.062773</td>\n    </tr>\n    <tr>\n      <th>1</th>\n      <td>43.800501</td>\n      <td>1430.111502</td>\n      <td>44.293327</td>\n      <td>21540.729150</td>\n    </tr>\n    <tr>\n      <th>2</th>\n      <td>124.694475</td>\n      <td>1631.001467</td>\n      <td>125.249005</td>\n      <td>6686.998533</td>\n    </tr>\n    <tr>\n      <th>3</th>\n      <td>128.281527</td>\n      <td>2933.284105</td>\n      <td>127.659903</td>\n      <td>10096.715895</td>\n    </tr>\n    <tr>\n      <th>4</th>\n      <td>144.469761</td>\n      <td>1383.667055</td>\n      <td>144.548235</td>\n      <td>7786.332945</td>\n    </tr>\n    <tr>\n      <th>5</th>\n      <td>235.390313</td>\n      <td>332.094692</td>\n      <td>235.142846</td>\n      <td>7906.898565</td>\n    </tr>\n    <tr>\n      <th>6</th>\n      <td>396.020142</td>\n      <td>390.814605</td>\n      <td>396.263267</td>\n      <td>5348.731117</td>\n    </tr>\n    <tr>\n      <th>7</th>\n      <td>487.820179</td>\n      <td>533.344351</td>\n      <td>488.149398</td>\n      <td>10970.082038</td>\n    </tr>\n    <tr>\n      <th>8</th>\n      <td>529.359782</td>\n      <td>297.023953</td>\n      <td>529.165375</td>\n      <td>4995.087932</td>\n    </tr>\n    <tr>\n      <th>9</th>\n      <td>581.614266</td>\n      <td>484.212268</td>\n      <td>581.772500</td>\n      <td>5194.024894</td>\n    </tr>\n    <tr>\n      <th>10</th>\n      <td>715.115733</td>\n      <td>139.405831</td>\n      <td>715.042172</td>\n      <td>2414.594169</td>\n    </tr>\n    <tr>\n      <th>11</th>\n      <td>841.814035</td>\n      <td>3048.368615</td>\n      <td>841.689425</td>\n      <td>7521.631385</td>\n    </tr>\n    <tr>\n      <th>12</th>\n      <td>960.262753</td>\n      <td>405.946228</td>\n      <td>960.212406</td>\n      <td>2882.701328</td>\n    </tr>\n    <tr>\n      <th>13</th>\n      <td>1002.991297</td>\n      <td>698.096867</td>\n      <td>1002.890168</td>\n      <td>2736.208109</td>\n    </tr>\n    <tr>\n      <th>14</th>\n      <td>1082.174080</td>\n      <td>1959.424012</td>\n      <td>1082.105291</td>\n      <td>4312.575988</td>\n    </tr>\n    <tr>\n      <th>15</th>\n      <td>1114.603614</td>\n      <td>288.803514</td>\n      <td>1114.435624</td>\n      <td>3039.698701</td>\n    </tr>\n    <tr>\n      <th>16</th>\n      <td>1129.532865</td>\n      <td>218.048401</td>\n      <td>1129.575408</td>\n      <td>2185.951599</td>\n    </tr>\n    <tr>\n      <th>17</th>\n      <td>1162.293365</td>\n      <td>353.218032</td>\n      <td>1161.927752</td>\n      <td>2689.545491</td>\n    </tr>\n    <tr>\n      <th>18</th>\n      <td>1195.993152</td>\n      <td>123.121816</td>\n      <td>1195.986618</td>\n      <td>1268.878184</td>\n    </tr>\n    <tr>\n      <th>19</th>\n      <td>1256.034214</td>\n      <td>435.207880</td>\n      <td>1256.102551</td>\n      <td>2803.309127</td>\n    </tr>\n    <tr>\n      <th>20</th>\n      <td>1332.775656</td>\n      <td>2432.324704</td>\n      <td>1332.659263</td>\n      <td>4503.057888</td>\n    </tr>\n    <tr>\n      <th>21</th>\n      <td>1372.449905</td>\n      <td>203.120605</td>\n      <td>1372.525412</td>\n      <td>1820.520598</td>\n    </tr>\n    <tr>\n      <th>22</th>\n      <td>1453.822510</td>\n      <td>1210.520172</td>\n      <td>1453.819192</td>\n      <td>2970.635049</td>\n    </tr>\n    <tr>\n      <th>23</th>\n      <td>1497.233775</td>\n      <td>602.752461</td>\n      <td>1497.186374</td>\n      <td>2130.589928</td>\n    </tr>\n    <tr>\n      <th>24</th>\n      <td>1540.264225</td>\n      <td>679.980429</td>\n      <td>1540.147275</td>\n      <td>2354.019571</td>\n    </tr>\n    <tr>\n      <th>25</th>\n      <td>1585.175766</td>\n      <td>154.468057</td>\n      <td>1584.673877</td>\n      <td>1413.274048</td>\n    </tr>\n    <tr>\n      <th>26</th>\n      <td>1592.038014</td>\n      <td>319.742137</td>\n      <td>1591.914735</td>\n      <td>1570.257863</td>\n    </tr>\n    <tr>\n      <th>27</th>\n      <td>1831.639546</td>\n      <td>343.946399</td>\n      <td>1831.733449</td>\n      <td>1408.053601</td>\n    </tr>\n    <tr>\n      <th>28</th>\n      <td>1839.815417</td>\n      <td>299.125627</td>\n      <td>1839.670080</td>\n      <td>1596.875897</td>\n    </tr>\n    <tr>\n      <th>29</th>\n      <td>1926.268117</td>\n      <td>5328.038164</td>\n      <td>1926.274640</td>\n      <td>6447.961836</td>\n    </tr>\n    <tr>\n      <th>30</th>\n      <td>2032.151226</td>\n      <td>144.380534</td>\n      <td>2031.631849</td>\n      <td>943.676099</td>\n    </tr>\n    <tr>\n      <th>31</th>\n      <td>2187.139846</td>\n      <td>5053.079484</td>\n      <td>2187.021381</td>\n      <td>5714.920516</td>\n    </tr>\n    <tr>\n      <th>32</th>\n      <td>2272.276023</td>\n      <td>317.080996</td>\n      <td>2272.025098</td>\n      <td>888.926928</td>\n    </tr>\n    <tr>\n      <th>33</th>\n      <td>2397.403446</td>\n      <td>3185.811266</td>\n      <td>2397.320809</td>\n      <td>3614.188734</td>\n    </tr>\n    <tr>\n      <th>34</th>\n      <td>2469.854432</td>\n      <td>146.381935</td>\n      <td>2469.485850</td>\n      <td>371.618065</td>\n    </tr>\n    <tr>\n      <th>35</th>\n      <td>2613.423308</td>\n      <td>189.956308</td>\n      <td>2613.901030</td>\n      <td>534.043692</td>\n    </tr>\n    <tr>\n      <th>36</th>\n      <td>2837.617230</td>\n      <td>75.485841</td>\n      <td>2837.939264</td>\n      <td>230.514159</td>\n    </tr>\n    <tr>\n      <th>37</th>\n      <td>2894.722182</td>\n      <td>389.771022</td>\n      <td>2894.376467</td>\n      <td>600.765112</td>\n    </tr>\n    <tr>\n      <th>38</th>\n      <td>3030.000802</td>\n      <td>58.722174</td>\n      <td>3029.902528</td>\n      <td>195.277826</td>\n    </tr>\n    <tr>\n      <th>39</th>\n      <td>3449.776588</td>\n      <td>209.399724</td>\n      <td>3449.977577</td>\n      <td>495.217783</td>\n    </tr>\n    <tr>\n      <th>40</th>\n      <td>3615.313948</td>\n      <td>145.910910</td>\n      <td>3614.787703</td>\n      <td>322.418996</td>\n    </tr>\n    <tr>\n      <th>41</th>\n      <td>4012.617584</td>\n      <td>175.720340</td>\n      <td>4011.784422</td>\n      <td>384.509923</td>\n    </tr>\n  </tbody>\n</table>\n</div>"
     },
     "execution_count": 33,
     "metadata": {},
     "output_type": "execute_result"
    }
   ],
   "source": [
    "keys_to_get = ['fwhm_centr', 'rough_sums', 'centroids', 'variances']\n",
    "prep_for_dict = [(key, vars_pkprms[key]) for key in keys_to_get]\n",
    "pks_dict = dict(prep_for_dict)\n",
    "peaks_df = pd.DataFrame.from_dict(pks_dict)\n",
    "peaks_df"
   ],
   "metadata": {
    "collapsed": false,
    "ExecuteTime": {
     "end_time": "2023-06-14T16:22:39.531429124Z",
     "start_time": "2023-06-14T16:22:39.002676990Z"
    }
   }
  },
  {
   "cell_type": "code",
   "execution_count": 34,
   "outputs": [
    {
     "data": {
      "text/plain": "     fwhm_centr   rough_sums    centroids     variances\n0     31.015664  1623.153269    31.188541  10243.062773\n1     43.800501  1430.111502    44.293327  21540.729150\n2    124.694475  1631.001467   125.249005   6686.998533\n3    128.281527  2933.284105   127.659903  10096.715895\n4    144.469761  1383.667055   144.548235   7786.332945\n5    235.390313   332.094692   235.142846   7906.898565\n6    396.020142   390.814605   396.263267   5348.731117\n7    487.820179   533.344351   488.149398  10970.082038\n8    529.359782   297.023953   529.165375   4995.087932\n9    581.614266   484.212268   581.772500   5194.024894\n10   715.115733   139.405831   715.042172   2414.594169\n11   841.814035  3048.368615   841.689425   7521.631385\n12   960.262753   405.946228   960.212406   2882.701328\n13  1002.991297   698.096867  1002.890168   2736.208109\n14  1082.174080  1959.424012  1082.105291   4312.575988\n15  1114.603614   288.803514  1114.435624   3039.698701\n16  1129.532865   218.048401  1129.575408   2185.951599\n17  1162.293365   353.218032  1161.927752   2689.545491\n18  1195.993152   123.121816  1195.986618   1268.878184\n19  1256.034214   435.207880  1256.102551   2803.309127\n20  1332.775656  2432.324704  1332.659263   4503.057888\n21  1372.449905   203.120605  1372.525412   1820.520598\n22  1453.822510  1210.520172  1453.819192   2970.635049\n23  1497.233775   602.752461  1497.186374   2130.589928\n24  1540.264225   679.980429  1540.147275   2354.019571\n25  1585.175766   154.468057  1584.673877   1413.274048\n26  1592.038014   319.742137  1591.914735   1570.257863\n27  1831.639546   343.946399  1831.733449   1408.053601\n28  1839.815417   299.125627  1839.670080   1596.875897\n29  1926.268117  5328.038164  1926.274640   6447.961836\n30  2032.151226   144.380534  2031.631849    943.676099\n31  2187.139846  5053.079484  2187.021381   5714.920516\n32  2272.276023   317.080996  2272.025098    888.926928\n33  2397.403446  3185.811266  2397.320809   3614.188734\n34  2469.854432   146.381935  2469.485850    371.618065\n35  2613.423308   189.956308  2613.901030    534.043692\n36  2837.617230    75.485841  2837.939264    230.514159\n37  2894.722182   389.771022  2894.376467    600.765112\n38  3030.000802    58.722174  3029.902528    195.277826\n39  3449.776588   209.399724  3449.977577    495.217783\n40  3615.313948   145.910910  3614.787703    322.418996\n41  4012.617584   175.720340  4011.784422    384.509923",
      "text/html": "<div>\n<style scoped>\n    .dataframe tbody tr th:only-of-type {\n        vertical-align: middle;\n    }\n\n    .dataframe tbody tr th {\n        vertical-align: top;\n    }\n\n    .dataframe thead th {\n        text-align: right;\n    }\n</style>\n<table border=\"1\" class=\"dataframe\">\n  <thead>\n    <tr style=\"text-align: right;\">\n      <th></th>\n      <th>fwhm_centr</th>\n      <th>rough_sums</th>\n      <th>centroids</th>\n      <th>variances</th>\n    </tr>\n  </thead>\n  <tbody>\n    <tr>\n      <th>0</th>\n      <td>31.015664</td>\n      <td>1623.153269</td>\n      <td>31.188541</td>\n      <td>10243.062773</td>\n    </tr>\n    <tr>\n      <th>1</th>\n      <td>43.800501</td>\n      <td>1430.111502</td>\n      <td>44.293327</td>\n      <td>21540.729150</td>\n    </tr>\n    <tr>\n      <th>2</th>\n      <td>124.694475</td>\n      <td>1631.001467</td>\n      <td>125.249005</td>\n      <td>6686.998533</td>\n    </tr>\n    <tr>\n      <th>3</th>\n      <td>128.281527</td>\n      <td>2933.284105</td>\n      <td>127.659903</td>\n      <td>10096.715895</td>\n    </tr>\n    <tr>\n      <th>4</th>\n      <td>144.469761</td>\n      <td>1383.667055</td>\n      <td>144.548235</td>\n      <td>7786.332945</td>\n    </tr>\n    <tr>\n      <th>5</th>\n      <td>235.390313</td>\n      <td>332.094692</td>\n      <td>235.142846</td>\n      <td>7906.898565</td>\n    </tr>\n    <tr>\n      <th>6</th>\n      <td>396.020142</td>\n      <td>390.814605</td>\n      <td>396.263267</td>\n      <td>5348.731117</td>\n    </tr>\n    <tr>\n      <th>7</th>\n      <td>487.820179</td>\n      <td>533.344351</td>\n      <td>488.149398</td>\n      <td>10970.082038</td>\n    </tr>\n    <tr>\n      <th>8</th>\n      <td>529.359782</td>\n      <td>297.023953</td>\n      <td>529.165375</td>\n      <td>4995.087932</td>\n    </tr>\n    <tr>\n      <th>9</th>\n      <td>581.614266</td>\n      <td>484.212268</td>\n      <td>581.772500</td>\n      <td>5194.024894</td>\n    </tr>\n    <tr>\n      <th>10</th>\n      <td>715.115733</td>\n      <td>139.405831</td>\n      <td>715.042172</td>\n      <td>2414.594169</td>\n    </tr>\n    <tr>\n      <th>11</th>\n      <td>841.814035</td>\n      <td>3048.368615</td>\n      <td>841.689425</td>\n      <td>7521.631385</td>\n    </tr>\n    <tr>\n      <th>12</th>\n      <td>960.262753</td>\n      <td>405.946228</td>\n      <td>960.212406</td>\n      <td>2882.701328</td>\n    </tr>\n    <tr>\n      <th>13</th>\n      <td>1002.991297</td>\n      <td>698.096867</td>\n      <td>1002.890168</td>\n      <td>2736.208109</td>\n    </tr>\n    <tr>\n      <th>14</th>\n      <td>1082.174080</td>\n      <td>1959.424012</td>\n      <td>1082.105291</td>\n      <td>4312.575988</td>\n    </tr>\n    <tr>\n      <th>15</th>\n      <td>1114.603614</td>\n      <td>288.803514</td>\n      <td>1114.435624</td>\n      <td>3039.698701</td>\n    </tr>\n    <tr>\n      <th>16</th>\n      <td>1129.532865</td>\n      <td>218.048401</td>\n      <td>1129.575408</td>\n      <td>2185.951599</td>\n    </tr>\n    <tr>\n      <th>17</th>\n      <td>1162.293365</td>\n      <td>353.218032</td>\n      <td>1161.927752</td>\n      <td>2689.545491</td>\n    </tr>\n    <tr>\n      <th>18</th>\n      <td>1195.993152</td>\n      <td>123.121816</td>\n      <td>1195.986618</td>\n      <td>1268.878184</td>\n    </tr>\n    <tr>\n      <th>19</th>\n      <td>1256.034214</td>\n      <td>435.207880</td>\n      <td>1256.102551</td>\n      <td>2803.309127</td>\n    </tr>\n    <tr>\n      <th>20</th>\n      <td>1332.775656</td>\n      <td>2432.324704</td>\n      <td>1332.659263</td>\n      <td>4503.057888</td>\n    </tr>\n    <tr>\n      <th>21</th>\n      <td>1372.449905</td>\n      <td>203.120605</td>\n      <td>1372.525412</td>\n      <td>1820.520598</td>\n    </tr>\n    <tr>\n      <th>22</th>\n      <td>1453.822510</td>\n      <td>1210.520172</td>\n      <td>1453.819192</td>\n      <td>2970.635049</td>\n    </tr>\n    <tr>\n      <th>23</th>\n      <td>1497.233775</td>\n      <td>602.752461</td>\n      <td>1497.186374</td>\n      <td>2130.589928</td>\n    </tr>\n    <tr>\n      <th>24</th>\n      <td>1540.264225</td>\n      <td>679.980429</td>\n      <td>1540.147275</td>\n      <td>2354.019571</td>\n    </tr>\n    <tr>\n      <th>25</th>\n      <td>1585.175766</td>\n      <td>154.468057</td>\n      <td>1584.673877</td>\n      <td>1413.274048</td>\n    </tr>\n    <tr>\n      <th>26</th>\n      <td>1592.038014</td>\n      <td>319.742137</td>\n      <td>1591.914735</td>\n      <td>1570.257863</td>\n    </tr>\n    <tr>\n      <th>27</th>\n      <td>1831.639546</td>\n      <td>343.946399</td>\n      <td>1831.733449</td>\n      <td>1408.053601</td>\n    </tr>\n    <tr>\n      <th>28</th>\n      <td>1839.815417</td>\n      <td>299.125627</td>\n      <td>1839.670080</td>\n      <td>1596.875897</td>\n    </tr>\n    <tr>\n      <th>29</th>\n      <td>1926.268117</td>\n      <td>5328.038164</td>\n      <td>1926.274640</td>\n      <td>6447.961836</td>\n    </tr>\n    <tr>\n      <th>30</th>\n      <td>2032.151226</td>\n      <td>144.380534</td>\n      <td>2031.631849</td>\n      <td>943.676099</td>\n    </tr>\n    <tr>\n      <th>31</th>\n      <td>2187.139846</td>\n      <td>5053.079484</td>\n      <td>2187.021381</td>\n      <td>5714.920516</td>\n    </tr>\n    <tr>\n      <th>32</th>\n      <td>2272.276023</td>\n      <td>317.080996</td>\n      <td>2272.025098</td>\n      <td>888.926928</td>\n    </tr>\n    <tr>\n      <th>33</th>\n      <td>2397.403446</td>\n      <td>3185.811266</td>\n      <td>2397.320809</td>\n      <td>3614.188734</td>\n    </tr>\n    <tr>\n      <th>34</th>\n      <td>2469.854432</td>\n      <td>146.381935</td>\n      <td>2469.485850</td>\n      <td>371.618065</td>\n    </tr>\n    <tr>\n      <th>35</th>\n      <td>2613.423308</td>\n      <td>189.956308</td>\n      <td>2613.901030</td>\n      <td>534.043692</td>\n    </tr>\n    <tr>\n      <th>36</th>\n      <td>2837.617230</td>\n      <td>75.485841</td>\n      <td>2837.939264</td>\n      <td>230.514159</td>\n    </tr>\n    <tr>\n      <th>37</th>\n      <td>2894.722182</td>\n      <td>389.771022</td>\n      <td>2894.376467</td>\n      <td>600.765112</td>\n    </tr>\n    <tr>\n      <th>38</th>\n      <td>3030.000802</td>\n      <td>58.722174</td>\n      <td>3029.902528</td>\n      <td>195.277826</td>\n    </tr>\n    <tr>\n      <th>39</th>\n      <td>3449.776588</td>\n      <td>209.399724</td>\n      <td>3449.977577</td>\n      <td>495.217783</td>\n    </tr>\n    <tr>\n      <th>40</th>\n      <td>3615.313948</td>\n      <td>145.910910</td>\n      <td>3614.787703</td>\n      <td>322.418996</td>\n    </tr>\n    <tr>\n      <th>41</th>\n      <td>4012.617584</td>\n      <td>175.720340</td>\n      <td>4011.784422</td>\n      <td>384.509923</td>\n    </tr>\n  </tbody>\n</table>\n</div>"
     },
     "execution_count": 34,
     "metadata": {},
     "output_type": "execute_result"
    }
   ],
   "source": [
    "peaks_df"
   ],
   "metadata": {
    "collapsed": false,
    "ExecuteTime": {
     "end_time": "2023-06-14T16:22:39.537845777Z",
     "start_time": "2023-06-14T16:22:39.069522428Z"
    }
   }
  },
  {
   "cell_type": "code",
   "execution_count": 34,
   "outputs": [],
   "source": [],
   "metadata": {
    "collapsed": false,
    "ExecuteTime": {
     "end_time": "2023-06-14T16:22:39.538731689Z",
     "start_time": "2023-06-14T16:22:39.202907317Z"
    }
   }
  },
  {
   "cell_type": "code",
   "execution_count": 34,
   "outputs": [],
   "source": [
    "\n"
   ],
   "metadata": {
    "collapsed": false,
    "ExecuteTime": {
     "end_time": "2023-06-14T16:22:39.539627639Z",
     "start_time": "2023-06-14T16:22:39.203418904Z"
    }
   }
  },
  {
   "cell_type": "code",
   "execution_count": 34,
   "outputs": [],
   "source": [],
   "metadata": {
    "collapsed": false,
    "ExecuteTime": {
     "end_time": "2023-06-14T16:22:39.540692886Z",
     "start_time": "2023-06-14T16:22:39.203828005Z"
    }
   }
  },
  {
   "cell_type": "code",
   "execution_count": 35,
   "outputs": [],
   "source": [
    "# 2023-May-24\n",
    "# Implementing:\n",
    "#  - nuclide labels\n",
    "# https://plotly.com/python/text-and-annotations/\n",
    "#  - and energy search in pandas\n",
    "# https://stackoverflow.com/questions/63529555/get-list-of-occurrences-using-pandas"
   ],
   "metadata": {
    "collapsed": false,
    "ExecuteTime": {
     "end_time": "2023-06-14T16:22:39.680350098Z",
     "start_time": "2023-06-14T16:22:39.204257474Z"
    }
   }
  },
  {
   "cell_type": "code",
   "execution_count": 36,
   "outputs": [],
   "source": [
    "get_energy = a_spec.channel_energy_calib.get_energy"
   ],
   "metadata": {
    "collapsed": false,
    "ExecuteTime": {
     "end_time": "2023-06-14T16:22:39.692767685Z",
     "start_time": "2023-06-14T16:22:39.416193031Z"
    }
   }
  },
  {
   "cell_type": "code",
   "execution_count": 37,
   "outputs": [
    {
     "data": {
      "text/plain": "609.0498553514481"
     },
     "execution_count": 37,
     "metadata": {},
     "output_type": "execute_result"
    }
   ],
   "source": [
    "get_energy(1000)"
   ],
   "metadata": {
    "collapsed": false,
    "ExecuteTime": {
     "end_time": "2023-06-14T16:22:39.895808235Z",
     "start_time": "2023-06-14T16:22:39.582574068Z"
    }
   }
  },
  {
   "cell_type": "code",
   "execution_count": 38,
   "outputs": [],
   "source": [
    "# counts_nzero_cps = counts_nzero / a_spec.lv_time\n",
    "# unc_y_cps = unc_y / a_spec.lv_time\n",
    "# fin_bl_cps = fin_bl / a_spec.lv_time\n",
    "# counts_cps = counts / a_spec.lv_time\n",
    "# en_kev_nzero = get_energy(chans_nzero)\n",
    "# en_kev = get_energy(chans)\n",
    "peaks_net_kev = get_energy(peaks_net)"
   ],
   "metadata": {
    "collapsed": false,
    "ExecuteTime": {
     "end_time": "2023-06-14T16:22:40.375325298Z",
     "start_time": "2023-06-14T16:22:39.673404034Z"
    }
   }
  },
  {
   "cell_type": "code",
   "execution_count": 39,
   "outputs": [
    {
     "data": {
      "text/plain": "    energy_detected\n0         16.951753\n1         23.673196\n2         74.389546\n3         76.222667\n4         85.999313\n5        141.603985\n6        239.981482\n7        296.197194\n8        321.249849\n9        353.634987\n10       434.903355\n11       512.505479\n12       584.608241\n13       610.882976\n14       659.155164\n15       679.319496\n16       688.485101\n17       708.038393\n18       728.813765\n19       766.087226\n20       812.526293\n21       836.356867\n22       886.462176\n23       912.736911\n24       939.011646\n25       966.508462\n26       970.785745\n27      1117.435430\n28      1122.323753\n29      1174.873223\n30      1240.254541\n31      1334.354755\n32      1386.293185\n33      1463.284270\n34      1507.279175\n35      1595.268986\n36      1731.530985\n37      1766.971326\n38      1849.461774\n39      2106.098722\n40      2206.920380\n41      2450.725482",
      "text/html": "<div>\n<style scoped>\n    .dataframe tbody tr th:only-of-type {\n        vertical-align: middle;\n    }\n\n    .dataframe tbody tr th {\n        vertical-align: top;\n    }\n\n    .dataframe thead th {\n        text-align: right;\n    }\n</style>\n<table border=\"1\" class=\"dataframe\">\n  <thead>\n    <tr style=\"text-align: right;\">\n      <th></th>\n      <th>energy_detected</th>\n    </tr>\n  </thead>\n  <tbody>\n    <tr>\n      <th>0</th>\n      <td>16.951753</td>\n    </tr>\n    <tr>\n      <th>1</th>\n      <td>23.673196</td>\n    </tr>\n    <tr>\n      <th>2</th>\n      <td>74.389546</td>\n    </tr>\n    <tr>\n      <th>3</th>\n      <td>76.222667</td>\n    </tr>\n    <tr>\n      <th>4</th>\n      <td>85.999313</td>\n    </tr>\n    <tr>\n      <th>5</th>\n      <td>141.603985</td>\n    </tr>\n    <tr>\n      <th>6</th>\n      <td>239.981482</td>\n    </tr>\n    <tr>\n      <th>7</th>\n      <td>296.197194</td>\n    </tr>\n    <tr>\n      <th>8</th>\n      <td>321.249849</td>\n    </tr>\n    <tr>\n      <th>9</th>\n      <td>353.634987</td>\n    </tr>\n    <tr>\n      <th>10</th>\n      <td>434.903355</td>\n    </tr>\n    <tr>\n      <th>11</th>\n      <td>512.505479</td>\n    </tr>\n    <tr>\n      <th>12</th>\n      <td>584.608241</td>\n    </tr>\n    <tr>\n      <th>13</th>\n      <td>610.882976</td>\n    </tr>\n    <tr>\n      <th>14</th>\n      <td>659.155164</td>\n    </tr>\n    <tr>\n      <th>15</th>\n      <td>679.319496</td>\n    </tr>\n    <tr>\n      <th>16</th>\n      <td>688.485101</td>\n    </tr>\n    <tr>\n      <th>17</th>\n      <td>708.038393</td>\n    </tr>\n    <tr>\n      <th>18</th>\n      <td>728.813765</td>\n    </tr>\n    <tr>\n      <th>19</th>\n      <td>766.087226</td>\n    </tr>\n    <tr>\n      <th>20</th>\n      <td>812.526293</td>\n    </tr>\n    <tr>\n      <th>21</th>\n      <td>836.356867</td>\n    </tr>\n    <tr>\n      <th>22</th>\n      <td>886.462176</td>\n    </tr>\n    <tr>\n      <th>23</th>\n      <td>912.736911</td>\n    </tr>\n    <tr>\n      <th>24</th>\n      <td>939.011646</td>\n    </tr>\n    <tr>\n      <th>25</th>\n      <td>966.508462</td>\n    </tr>\n    <tr>\n      <th>26</th>\n      <td>970.785745</td>\n    </tr>\n    <tr>\n      <th>27</th>\n      <td>1117.435430</td>\n    </tr>\n    <tr>\n      <th>28</th>\n      <td>1122.323753</td>\n    </tr>\n    <tr>\n      <th>29</th>\n      <td>1174.873223</td>\n    </tr>\n    <tr>\n      <th>30</th>\n      <td>1240.254541</td>\n    </tr>\n    <tr>\n      <th>31</th>\n      <td>1334.354755</td>\n    </tr>\n    <tr>\n      <th>32</th>\n      <td>1386.293185</td>\n    </tr>\n    <tr>\n      <th>33</th>\n      <td>1463.284270</td>\n    </tr>\n    <tr>\n      <th>34</th>\n      <td>1507.279175</td>\n    </tr>\n    <tr>\n      <th>35</th>\n      <td>1595.268986</td>\n    </tr>\n    <tr>\n      <th>36</th>\n      <td>1731.530985</td>\n    </tr>\n    <tr>\n      <th>37</th>\n      <td>1766.971326</td>\n    </tr>\n    <tr>\n      <th>38</th>\n      <td>1849.461774</td>\n    </tr>\n    <tr>\n      <th>39</th>\n      <td>2106.098722</td>\n    </tr>\n    <tr>\n      <th>40</th>\n      <td>2206.920380</td>\n    </tr>\n    <tr>\n      <th>41</th>\n      <td>2450.725482</td>\n    </tr>\n  </tbody>\n</table>\n</div>"
     },
     "execution_count": 39,
     "metadata": {},
     "output_type": "execute_result"
    }
   ],
   "source": [
    "peaks_net_kev_df = pd.DataFrame({'energy_detected': peaks_net_kev})\n",
    "peaks_net_kev_df"
   ],
   "metadata": {
    "collapsed": false,
    "ExecuteTime": {
     "end_time": "2023-06-14T16:22:40.607030542Z",
     "start_time": "2023-06-14T16:22:39.779931763Z"
    }
   }
  },
  {
   "cell_type": "code",
   "execution_count": 40,
   "outputs": [
    {
     "name": "stdout",
     "output_type": "stream",
     "text": [
      "Help on method spec_engy_chan_recalib in module spec_class:\n",
      "\n",
      "spec_engy_chan_recalib(nucl_lib_df, peaks_net_kev_df, en_toler=2.5, min_intensity=1.0) method of spec_class.Spec instance\n",
      "    Perform a library-based spectrum energy/channel recalibration\n",
      "    \n",
      "    :param nucl_lib_df: nuclide library based on IAEA format as a Pandas dataframe\n",
      "    :type nucl_lib_df: pd.Dataframe\n",
      "    :param en_toler: energy difference accetable to take a detected peak as possibly identified\n",
      "        (default is 2.5)\n",
      "    :type en_toler: float\n",
      "    :param min_intensity: minimum yield percentage to accept a peak\n",
      "        (default is 1.0)\n",
      "    :type min_intensity: float\n",
      "    :returns: a pd.Dataframe with each row as an identified peak with parameters\n",
      "    :rtype: pd.Dataframe\n",
      "\n"
     ]
    }
   ],
   "source": [
    "help(a_spec.spec_engy_chan_recalib)"
   ],
   "metadata": {
    "collapsed": false,
    "ExecuteTime": {
     "end_time": "2023-06-14T16:22:40.776558461Z",
     "start_time": "2023-06-14T16:22:39.955261793Z"
    }
   }
  },
  {
   "cell_type": "code",
   "execution_count": 41,
   "outputs": [
    {
     "data": {
      "text/plain": "     nuclide_name     energy  energy_detected  delta_en  intensity  \\\n591          187w    72.0020        74.389546  2.387546  13.545600   \n631         208Tl    72.8050        74.389546  1.584546   2.050000   \n632         208Tl    74.9700        74.389546 -0.580454   3.450000   \n639         212Pb    74.8150        74.389546 -0.425454  10.027300   \n663         214Pb    74.8150        74.389546 -0.425454   5.221248   \n881         208Tl    74.9700        76.222667  1.252667   3.450000   \n888         212Pb    74.8150        76.222667  1.407667  10.027300   \n889         212Pb    77.1080        76.222667 -0.885333  16.776476   \n912         214Pb    74.8150        76.222667  1.407667   5.221248   \n913         214Pb    77.1080        76.222667 -0.885333   8.735566   \n1131        208Tl    84.9860        85.999313  1.013313   1.180000   \n1132        208Tl    86.0220        85.999313 -0.022687   1.530000   \n1139        212Pb    87.3880        85.999313 -1.388687   5.746598   \n1140        212Pb    88.4580        85.999313 -2.458687   7.505057   \n1163        214Pb    87.3880        85.999313 -1.388687   2.992272   \n1164        214Pb    88.4580        85.999313 -2.458687   3.907908   \n1633        212Pb   238.6320       239.981482  1.349482  43.600000   \n1649        214Pb   241.9950       239.981482 -2.013518   7.262910   \n1901        214Pb   295.2240       296.197194  0.973194  18.470880   \n1995         51cr   320.0824       321.249849  1.167449   9.910000   \n2400        214Pb   351.9320       353.634987  1.702987  35.723700   \n2568        140la   432.4930       434.903355  2.410355   2.900160   \n2747         58co   511.0000       512.505479  1.505479  29.801260   \n2752         65zn   511.0000       512.505479  1.505479   2.842000   \n2866        208Tl   510.7700       512.505479  1.735479  22.600000   \n3116        208Tl   583.1870       584.608241  1.421241  85.000000   \n3257        103ru   610.3330       610.882976  0.549976   5.760300   \n3408        214Bi   609.3210       610.882976  1.561976  45.440000   \n3509        110ag   657.5000       659.155164  1.655164   4.500000   \n3510        110ag   657.7600       659.155164  1.395164  95.610000   \n3760        110ag   677.6217       679.319496  1.697796  10.700000   \n4010        110ag   687.0091       688.485101  1.476001   6.530000   \n4260        110ag   706.6760       708.038393  1.362393  16.690000   \n4631        212Bi   727.3300       728.813765  1.483765   6.670000   \n4760        110ag   763.9424       766.087226  2.144826  22.600000   \n4906        214Bi   768.3600       766.087226 -2.272774   4.890000   \n4985         58co   810.7593       812.526293  1.766993  99.450000   \n5233         54mn   834.8480       836.356867  1.508867  99.976000   \n5459        228Ac   835.7100       836.356867  0.646867   1.610000   \n5509        110ag   884.6781       886.462176  1.784076  75.000000   \n5960        228Ac   911.2040       912.736911  1.532911  25.800000   \n6008        110ag   937.4850       939.011646  1.526646  35.000000   \n6459        228Ac   964.7660       966.508462  1.742462   4.990000   \n6460        228Ac   968.9710       966.508462 -2.462538  15.800000   \n6709        228Ac   968.9710       970.785745  1.814745  15.800000   \n6735         65zn  1115.5390      1117.435430  1.896430  50.040000   \n7153        214Bi  1120.2940      1122.323753  2.029753  14.900000   \n7231         60co  1173.2280      1174.873223  1.645223  99.850000   \n7654        214Bi  1238.1220      1240.254541  2.132541   5.830000   \n7730         60co  1332.4920      1334.354755  1.862755  99.982600   \n8001        110ag  1384.2931      1386.293185  2.000085  25.100000   \n8340          40k  1460.8200      1463.284270  2.464270  10.660000   \n8501        110ag  1505.0280      1507.279175  2.251175  13.330000   \n8656        214Bi  1509.2110      1507.279175 -1.931825   2.127000   \n8801        140la  1596.2100      1595.268986 -0.941014  95.400000   \n9160        214Bi  1729.5950      1731.530985  1.935985   2.870000   \n9410        214Bi  1764.4910      1766.971326  2.480326  15.290000   \n9661        214Bi  1847.4330      1849.461774  2.028774   2.027000   \n\n                     unc_i     half_life  decay  decay_%  \n591    0.20668391325886976  2.380000e+01     B-  100.000  \n631                   0.04  3.053000e+00     B-  100.000  \n632                   0.07  3.053000e+00     B-  100.000  \n639    0.17755540608529785  1.062200e+01     B-  100.000  \n663    0.16991268659939543  2.706000e+01     B-  100.000  \n881                   0.07  3.053000e+00     B-  100.000  \n888    0.17755540608529785  1.062200e+01     B-  100.000  \n889     0.2886577667150119  1.062200e+01     B-  100.000  \n912    0.16991268659939543  2.706000e+01     B-  100.000  \n913    0.28191962795057635  2.706000e+01     B-  100.000  \n1131                  0.03  3.053000e+00     B-  100.000  \n1132                  0.04  3.053000e+00     B-  100.000  \n1139   0.13007389815555664  1.062200e+01     B-  100.000  \n1140     0.167428922776184  1.062200e+01     B-  100.000  \n1163   0.10612290276360802  2.706000e+01     B-  100.000  \n1164   0.13778661222356645  2.706000e+01     B-  100.000  \n1633    0.5307178534777213  1.062200e+01     B-  100.000  \n1649   0.03792461824461783  2.706000e+01     B-  100.000  \n1901   0.11249527437185973  2.706000e+01     B-  100.000  \n1995                  0.01  2.770400e+01     EC  100.000  \n2400    0.2352736185805795  2.706000e+01     B-  100.000  \n2568  0.028723144396113738  1.678580e+00     B-  100.000  \n2747                        7.086000e+01  EC+B+  100.000  \n2752                        2.439300e+02  EC+B+  100.000  \n2866                   0.2  3.053000e+00     B-  100.000  \n3116                   0.3  3.053000e+00     B-  100.000  \n3257   0.06351083450876709  3.924700e+01     B-  100.000  \n3408                  0.19  1.971000e+01     B-   99.979  \n3509                  0.24  2.456000e+01     B-   99.700  \n3510                  0.09  2.498300e+02     B-   98.670  \n3760                  0.05  2.498300e+02     B-   98.670  \n4010                  0.03  2.498300e+02     B-   98.670  \n4260                  0.07  2.498300e+02     B-   98.670  \n4631                  0.09  6.055000e+01     B-   64.060  \n4760                  0.07  2.498300e+02     B-   98.670  \n4906                  0.02  1.971000e+01     B-   99.979  \n4985                  0.01  7.086000e+01  EC+B+  100.000  \n5233                 0.001  3.122000e+02  EC+B+  100.000  \n5459                  0.06  6.150000e+00     B-  100.000  \n5509                   1.1  2.498300e+02     B-   98.670  \n5960                   0.4  6.150000e+00     B-  100.000  \n6008                   0.3  2.498300e+02     B-   98.670  \n6459                  0.09  6.150000e+00     B-  100.000  \n6460                   0.3  6.150000e+00     B-  100.000  \n6709                   0.3  6.150000e+00     B-  100.000  \n6735                   0.1  2.439300e+02  EC+B+  100.000  \n7153                  0.08  1.971000e+01     B-   99.979  \n7231                  0.03  1.925280e+03     B-  100.000  \n7654                  0.03  1.971000e+01     B-   99.979  \n7730                0.0006  1.925280e+03     B-  100.000  \n8001                   0.5  2.498300e+02     B-   98.670  \n8340                  0.13  1.248000e+09  EC+B+   10.720  \n8501                  0.15  2.498300e+02     B-   98.670  \n8656                 0.016  1.971000e+01     B-   99.979  \n8801                  0.08  1.678580e+00     B-  100.000  \n9160                  0.03  1.971000e+01     B-   99.979  \n9410                  0.08  1.971000e+01     B-   99.979  \n9661                 0.016  1.971000e+01     B-   99.979  ",
      "text/html": "<div>\n<style scoped>\n    .dataframe tbody tr th:only-of-type {\n        vertical-align: middle;\n    }\n\n    .dataframe tbody tr th {\n        vertical-align: top;\n    }\n\n    .dataframe thead th {\n        text-align: right;\n    }\n</style>\n<table border=\"1\" class=\"dataframe\">\n  <thead>\n    <tr style=\"text-align: right;\">\n      <th></th>\n      <th>nuclide_name</th>\n      <th>energy</th>\n      <th>energy_detected</th>\n      <th>delta_en</th>\n      <th>intensity</th>\n      <th>unc_i</th>\n      <th>half_life</th>\n      <th>decay</th>\n      <th>decay_%</th>\n    </tr>\n  </thead>\n  <tbody>\n    <tr>\n      <th>591</th>\n      <td>187w</td>\n      <td>72.0020</td>\n      <td>74.389546</td>\n      <td>2.387546</td>\n      <td>13.545600</td>\n      <td>0.20668391325886976</td>\n      <td>2.380000e+01</td>\n      <td>B-</td>\n      <td>100.000</td>\n    </tr>\n    <tr>\n      <th>631</th>\n      <td>208Tl</td>\n      <td>72.8050</td>\n      <td>74.389546</td>\n      <td>1.584546</td>\n      <td>2.050000</td>\n      <td>0.04</td>\n      <td>3.053000e+00</td>\n      <td>B-</td>\n      <td>100.000</td>\n    </tr>\n    <tr>\n      <th>632</th>\n      <td>208Tl</td>\n      <td>74.9700</td>\n      <td>74.389546</td>\n      <td>-0.580454</td>\n      <td>3.450000</td>\n      <td>0.07</td>\n      <td>3.053000e+00</td>\n      <td>B-</td>\n      <td>100.000</td>\n    </tr>\n    <tr>\n      <th>639</th>\n      <td>212Pb</td>\n      <td>74.8150</td>\n      <td>74.389546</td>\n      <td>-0.425454</td>\n      <td>10.027300</td>\n      <td>0.17755540608529785</td>\n      <td>1.062200e+01</td>\n      <td>B-</td>\n      <td>100.000</td>\n    </tr>\n    <tr>\n      <th>663</th>\n      <td>214Pb</td>\n      <td>74.8150</td>\n      <td>74.389546</td>\n      <td>-0.425454</td>\n      <td>5.221248</td>\n      <td>0.16991268659939543</td>\n      <td>2.706000e+01</td>\n      <td>B-</td>\n      <td>100.000</td>\n    </tr>\n    <tr>\n      <th>881</th>\n      <td>208Tl</td>\n      <td>74.9700</td>\n      <td>76.222667</td>\n      <td>1.252667</td>\n      <td>3.450000</td>\n      <td>0.07</td>\n      <td>3.053000e+00</td>\n      <td>B-</td>\n      <td>100.000</td>\n    </tr>\n    <tr>\n      <th>888</th>\n      <td>212Pb</td>\n      <td>74.8150</td>\n      <td>76.222667</td>\n      <td>1.407667</td>\n      <td>10.027300</td>\n      <td>0.17755540608529785</td>\n      <td>1.062200e+01</td>\n      <td>B-</td>\n      <td>100.000</td>\n    </tr>\n    <tr>\n      <th>889</th>\n      <td>212Pb</td>\n      <td>77.1080</td>\n      <td>76.222667</td>\n      <td>-0.885333</td>\n      <td>16.776476</td>\n      <td>0.2886577667150119</td>\n      <td>1.062200e+01</td>\n      <td>B-</td>\n      <td>100.000</td>\n    </tr>\n    <tr>\n      <th>912</th>\n      <td>214Pb</td>\n      <td>74.8150</td>\n      <td>76.222667</td>\n      <td>1.407667</td>\n      <td>5.221248</td>\n      <td>0.16991268659939543</td>\n      <td>2.706000e+01</td>\n      <td>B-</td>\n      <td>100.000</td>\n    </tr>\n    <tr>\n      <th>913</th>\n      <td>214Pb</td>\n      <td>77.1080</td>\n      <td>76.222667</td>\n      <td>-0.885333</td>\n      <td>8.735566</td>\n      <td>0.28191962795057635</td>\n      <td>2.706000e+01</td>\n      <td>B-</td>\n      <td>100.000</td>\n    </tr>\n    <tr>\n      <th>1131</th>\n      <td>208Tl</td>\n      <td>84.9860</td>\n      <td>85.999313</td>\n      <td>1.013313</td>\n      <td>1.180000</td>\n      <td>0.03</td>\n      <td>3.053000e+00</td>\n      <td>B-</td>\n      <td>100.000</td>\n    </tr>\n    <tr>\n      <th>1132</th>\n      <td>208Tl</td>\n      <td>86.0220</td>\n      <td>85.999313</td>\n      <td>-0.022687</td>\n      <td>1.530000</td>\n      <td>0.04</td>\n      <td>3.053000e+00</td>\n      <td>B-</td>\n      <td>100.000</td>\n    </tr>\n    <tr>\n      <th>1139</th>\n      <td>212Pb</td>\n      <td>87.3880</td>\n      <td>85.999313</td>\n      <td>-1.388687</td>\n      <td>5.746598</td>\n      <td>0.13007389815555664</td>\n      <td>1.062200e+01</td>\n      <td>B-</td>\n      <td>100.000</td>\n    </tr>\n    <tr>\n      <th>1140</th>\n      <td>212Pb</td>\n      <td>88.4580</td>\n      <td>85.999313</td>\n      <td>-2.458687</td>\n      <td>7.505057</td>\n      <td>0.167428922776184</td>\n      <td>1.062200e+01</td>\n      <td>B-</td>\n      <td>100.000</td>\n    </tr>\n    <tr>\n      <th>1163</th>\n      <td>214Pb</td>\n      <td>87.3880</td>\n      <td>85.999313</td>\n      <td>-1.388687</td>\n      <td>2.992272</td>\n      <td>0.10612290276360802</td>\n      <td>2.706000e+01</td>\n      <td>B-</td>\n      <td>100.000</td>\n    </tr>\n    <tr>\n      <th>1164</th>\n      <td>214Pb</td>\n      <td>88.4580</td>\n      <td>85.999313</td>\n      <td>-2.458687</td>\n      <td>3.907908</td>\n      <td>0.13778661222356645</td>\n      <td>2.706000e+01</td>\n      <td>B-</td>\n      <td>100.000</td>\n    </tr>\n    <tr>\n      <th>1633</th>\n      <td>212Pb</td>\n      <td>238.6320</td>\n      <td>239.981482</td>\n      <td>1.349482</td>\n      <td>43.600000</td>\n      <td>0.5307178534777213</td>\n      <td>1.062200e+01</td>\n      <td>B-</td>\n      <td>100.000</td>\n    </tr>\n    <tr>\n      <th>1649</th>\n      <td>214Pb</td>\n      <td>241.9950</td>\n      <td>239.981482</td>\n      <td>-2.013518</td>\n      <td>7.262910</td>\n      <td>0.03792461824461783</td>\n      <td>2.706000e+01</td>\n      <td>B-</td>\n      <td>100.000</td>\n    </tr>\n    <tr>\n      <th>1901</th>\n      <td>214Pb</td>\n      <td>295.2240</td>\n      <td>296.197194</td>\n      <td>0.973194</td>\n      <td>18.470880</td>\n      <td>0.11249527437185973</td>\n      <td>2.706000e+01</td>\n      <td>B-</td>\n      <td>100.000</td>\n    </tr>\n    <tr>\n      <th>1995</th>\n      <td>51cr</td>\n      <td>320.0824</td>\n      <td>321.249849</td>\n      <td>1.167449</td>\n      <td>9.910000</td>\n      <td>0.01</td>\n      <td>2.770400e+01</td>\n      <td>EC</td>\n      <td>100.000</td>\n    </tr>\n    <tr>\n      <th>2400</th>\n      <td>214Pb</td>\n      <td>351.9320</td>\n      <td>353.634987</td>\n      <td>1.702987</td>\n      <td>35.723700</td>\n      <td>0.2352736185805795</td>\n      <td>2.706000e+01</td>\n      <td>B-</td>\n      <td>100.000</td>\n    </tr>\n    <tr>\n      <th>2568</th>\n      <td>140la</td>\n      <td>432.4930</td>\n      <td>434.903355</td>\n      <td>2.410355</td>\n      <td>2.900160</td>\n      <td>0.028723144396113738</td>\n      <td>1.678580e+00</td>\n      <td>B-</td>\n      <td>100.000</td>\n    </tr>\n    <tr>\n      <th>2747</th>\n      <td>58co</td>\n      <td>511.0000</td>\n      <td>512.505479</td>\n      <td>1.505479</td>\n      <td>29.801260</td>\n      <td></td>\n      <td>7.086000e+01</td>\n      <td>EC+B+</td>\n      <td>100.000</td>\n    </tr>\n    <tr>\n      <th>2752</th>\n      <td>65zn</td>\n      <td>511.0000</td>\n      <td>512.505479</td>\n      <td>1.505479</td>\n      <td>2.842000</td>\n      <td></td>\n      <td>2.439300e+02</td>\n      <td>EC+B+</td>\n      <td>100.000</td>\n    </tr>\n    <tr>\n      <th>2866</th>\n      <td>208Tl</td>\n      <td>510.7700</td>\n      <td>512.505479</td>\n      <td>1.735479</td>\n      <td>22.600000</td>\n      <td>0.2</td>\n      <td>3.053000e+00</td>\n      <td>B-</td>\n      <td>100.000</td>\n    </tr>\n    <tr>\n      <th>3116</th>\n      <td>208Tl</td>\n      <td>583.1870</td>\n      <td>584.608241</td>\n      <td>1.421241</td>\n      <td>85.000000</td>\n      <td>0.3</td>\n      <td>3.053000e+00</td>\n      <td>B-</td>\n      <td>100.000</td>\n    </tr>\n    <tr>\n      <th>3257</th>\n      <td>103ru</td>\n      <td>610.3330</td>\n      <td>610.882976</td>\n      <td>0.549976</td>\n      <td>5.760300</td>\n      <td>0.06351083450876709</td>\n      <td>3.924700e+01</td>\n      <td>B-</td>\n      <td>100.000</td>\n    </tr>\n    <tr>\n      <th>3408</th>\n      <td>214Bi</td>\n      <td>609.3210</td>\n      <td>610.882976</td>\n      <td>1.561976</td>\n      <td>45.440000</td>\n      <td>0.19</td>\n      <td>1.971000e+01</td>\n      <td>B-</td>\n      <td>99.979</td>\n    </tr>\n    <tr>\n      <th>3509</th>\n      <td>110ag</td>\n      <td>657.5000</td>\n      <td>659.155164</td>\n      <td>1.655164</td>\n      <td>4.500000</td>\n      <td>0.24</td>\n      <td>2.456000e+01</td>\n      <td>B-</td>\n      <td>99.700</td>\n    </tr>\n    <tr>\n      <th>3510</th>\n      <td>110ag</td>\n      <td>657.7600</td>\n      <td>659.155164</td>\n      <td>1.395164</td>\n      <td>95.610000</td>\n      <td>0.09</td>\n      <td>2.498300e+02</td>\n      <td>B-</td>\n      <td>98.670</td>\n    </tr>\n    <tr>\n      <th>3760</th>\n      <td>110ag</td>\n      <td>677.6217</td>\n      <td>679.319496</td>\n      <td>1.697796</td>\n      <td>10.700000</td>\n      <td>0.05</td>\n      <td>2.498300e+02</td>\n      <td>B-</td>\n      <td>98.670</td>\n    </tr>\n    <tr>\n      <th>4010</th>\n      <td>110ag</td>\n      <td>687.0091</td>\n      <td>688.485101</td>\n      <td>1.476001</td>\n      <td>6.530000</td>\n      <td>0.03</td>\n      <td>2.498300e+02</td>\n      <td>B-</td>\n      <td>98.670</td>\n    </tr>\n    <tr>\n      <th>4260</th>\n      <td>110ag</td>\n      <td>706.6760</td>\n      <td>708.038393</td>\n      <td>1.362393</td>\n      <td>16.690000</td>\n      <td>0.07</td>\n      <td>2.498300e+02</td>\n      <td>B-</td>\n      <td>98.670</td>\n    </tr>\n    <tr>\n      <th>4631</th>\n      <td>212Bi</td>\n      <td>727.3300</td>\n      <td>728.813765</td>\n      <td>1.483765</td>\n      <td>6.670000</td>\n      <td>0.09</td>\n      <td>6.055000e+01</td>\n      <td>B-</td>\n      <td>64.060</td>\n    </tr>\n    <tr>\n      <th>4760</th>\n      <td>110ag</td>\n      <td>763.9424</td>\n      <td>766.087226</td>\n      <td>2.144826</td>\n      <td>22.600000</td>\n      <td>0.07</td>\n      <td>2.498300e+02</td>\n      <td>B-</td>\n      <td>98.670</td>\n    </tr>\n    <tr>\n      <th>4906</th>\n      <td>214Bi</td>\n      <td>768.3600</td>\n      <td>766.087226</td>\n      <td>-2.272774</td>\n      <td>4.890000</td>\n      <td>0.02</td>\n      <td>1.971000e+01</td>\n      <td>B-</td>\n      <td>99.979</td>\n    </tr>\n    <tr>\n      <th>4985</th>\n      <td>58co</td>\n      <td>810.7593</td>\n      <td>812.526293</td>\n      <td>1.766993</td>\n      <td>99.450000</td>\n      <td>0.01</td>\n      <td>7.086000e+01</td>\n      <td>EC+B+</td>\n      <td>100.000</td>\n    </tr>\n    <tr>\n      <th>5233</th>\n      <td>54mn</td>\n      <td>834.8480</td>\n      <td>836.356867</td>\n      <td>1.508867</td>\n      <td>99.976000</td>\n      <td>0.001</td>\n      <td>3.122000e+02</td>\n      <td>EC+B+</td>\n      <td>100.000</td>\n    </tr>\n    <tr>\n      <th>5459</th>\n      <td>228Ac</td>\n      <td>835.7100</td>\n      <td>836.356867</td>\n      <td>0.646867</td>\n      <td>1.610000</td>\n      <td>0.06</td>\n      <td>6.150000e+00</td>\n      <td>B-</td>\n      <td>100.000</td>\n    </tr>\n    <tr>\n      <th>5509</th>\n      <td>110ag</td>\n      <td>884.6781</td>\n      <td>886.462176</td>\n      <td>1.784076</td>\n      <td>75.000000</td>\n      <td>1.1</td>\n      <td>2.498300e+02</td>\n      <td>B-</td>\n      <td>98.670</td>\n    </tr>\n    <tr>\n      <th>5960</th>\n      <td>228Ac</td>\n      <td>911.2040</td>\n      <td>912.736911</td>\n      <td>1.532911</td>\n      <td>25.800000</td>\n      <td>0.4</td>\n      <td>6.150000e+00</td>\n      <td>B-</td>\n      <td>100.000</td>\n    </tr>\n    <tr>\n      <th>6008</th>\n      <td>110ag</td>\n      <td>937.4850</td>\n      <td>939.011646</td>\n      <td>1.526646</td>\n      <td>35.000000</td>\n      <td>0.3</td>\n      <td>2.498300e+02</td>\n      <td>B-</td>\n      <td>98.670</td>\n    </tr>\n    <tr>\n      <th>6459</th>\n      <td>228Ac</td>\n      <td>964.7660</td>\n      <td>966.508462</td>\n      <td>1.742462</td>\n      <td>4.990000</td>\n      <td>0.09</td>\n      <td>6.150000e+00</td>\n      <td>B-</td>\n      <td>100.000</td>\n    </tr>\n    <tr>\n      <th>6460</th>\n      <td>228Ac</td>\n      <td>968.9710</td>\n      <td>966.508462</td>\n      <td>-2.462538</td>\n      <td>15.800000</td>\n      <td>0.3</td>\n      <td>6.150000e+00</td>\n      <td>B-</td>\n      <td>100.000</td>\n    </tr>\n    <tr>\n      <th>6709</th>\n      <td>228Ac</td>\n      <td>968.9710</td>\n      <td>970.785745</td>\n      <td>1.814745</td>\n      <td>15.800000</td>\n      <td>0.3</td>\n      <td>6.150000e+00</td>\n      <td>B-</td>\n      <td>100.000</td>\n    </tr>\n    <tr>\n      <th>6735</th>\n      <td>65zn</td>\n      <td>1115.5390</td>\n      <td>1117.435430</td>\n      <td>1.896430</td>\n      <td>50.040000</td>\n      <td>0.1</td>\n      <td>2.439300e+02</td>\n      <td>EC+B+</td>\n      <td>100.000</td>\n    </tr>\n    <tr>\n      <th>7153</th>\n      <td>214Bi</td>\n      <td>1120.2940</td>\n      <td>1122.323753</td>\n      <td>2.029753</td>\n      <td>14.900000</td>\n      <td>0.08</td>\n      <td>1.971000e+01</td>\n      <td>B-</td>\n      <td>99.979</td>\n    </tr>\n    <tr>\n      <th>7231</th>\n      <td>60co</td>\n      <td>1173.2280</td>\n      <td>1174.873223</td>\n      <td>1.645223</td>\n      <td>99.850000</td>\n      <td>0.03</td>\n      <td>1.925280e+03</td>\n      <td>B-</td>\n      <td>100.000</td>\n    </tr>\n    <tr>\n      <th>7654</th>\n      <td>214Bi</td>\n      <td>1238.1220</td>\n      <td>1240.254541</td>\n      <td>2.132541</td>\n      <td>5.830000</td>\n      <td>0.03</td>\n      <td>1.971000e+01</td>\n      <td>B-</td>\n      <td>99.979</td>\n    </tr>\n    <tr>\n      <th>7730</th>\n      <td>60co</td>\n      <td>1332.4920</td>\n      <td>1334.354755</td>\n      <td>1.862755</td>\n      <td>99.982600</td>\n      <td>0.0006</td>\n      <td>1.925280e+03</td>\n      <td>B-</td>\n      <td>100.000</td>\n    </tr>\n    <tr>\n      <th>8001</th>\n      <td>110ag</td>\n      <td>1384.2931</td>\n      <td>1386.293185</td>\n      <td>2.000085</td>\n      <td>25.100000</td>\n      <td>0.5</td>\n      <td>2.498300e+02</td>\n      <td>B-</td>\n      <td>98.670</td>\n    </tr>\n    <tr>\n      <th>8340</th>\n      <td>40k</td>\n      <td>1460.8200</td>\n      <td>1463.284270</td>\n      <td>2.464270</td>\n      <td>10.660000</td>\n      <td>0.13</td>\n      <td>1.248000e+09</td>\n      <td>EC+B+</td>\n      <td>10.720</td>\n    </tr>\n    <tr>\n      <th>8501</th>\n      <td>110ag</td>\n      <td>1505.0280</td>\n      <td>1507.279175</td>\n      <td>2.251175</td>\n      <td>13.330000</td>\n      <td>0.15</td>\n      <td>2.498300e+02</td>\n      <td>B-</td>\n      <td>98.670</td>\n    </tr>\n    <tr>\n      <th>8656</th>\n      <td>214Bi</td>\n      <td>1509.2110</td>\n      <td>1507.279175</td>\n      <td>-1.931825</td>\n      <td>2.127000</td>\n      <td>0.016</td>\n      <td>1.971000e+01</td>\n      <td>B-</td>\n      <td>99.979</td>\n    </tr>\n    <tr>\n      <th>8801</th>\n      <td>140la</td>\n      <td>1596.2100</td>\n      <td>1595.268986</td>\n      <td>-0.941014</td>\n      <td>95.400000</td>\n      <td>0.08</td>\n      <td>1.678580e+00</td>\n      <td>B-</td>\n      <td>100.000</td>\n    </tr>\n    <tr>\n      <th>9160</th>\n      <td>214Bi</td>\n      <td>1729.5950</td>\n      <td>1731.530985</td>\n      <td>1.935985</td>\n      <td>2.870000</td>\n      <td>0.03</td>\n      <td>1.971000e+01</td>\n      <td>B-</td>\n      <td>99.979</td>\n    </tr>\n    <tr>\n      <th>9410</th>\n      <td>214Bi</td>\n      <td>1764.4910</td>\n      <td>1766.971326</td>\n      <td>2.480326</td>\n      <td>15.290000</td>\n      <td>0.08</td>\n      <td>1.971000e+01</td>\n      <td>B-</td>\n      <td>99.979</td>\n    </tr>\n    <tr>\n      <th>9661</th>\n      <td>214Bi</td>\n      <td>1847.4330</td>\n      <td>1849.461774</td>\n      <td>2.028774</td>\n      <td>2.027000</td>\n      <td>0.016</td>\n      <td>1.971000e+01</td>\n      <td>B-</td>\n      <td>99.979</td>\n    </tr>\n  </tbody>\n</table>\n</div>"
     },
     "execution_count": 41,
     "metadata": {},
     "output_type": "execute_result"
    }
   ],
   "source": [
    "identified_peaks_df = a_spec.spec_engy_chan_recalib(nucl_iear1_df, peaks_net_kev_df)\n",
    "identified_peaks_df"
   ],
   "metadata": {
    "collapsed": false,
    "ExecuteTime": {
     "end_time": "2023-06-14T16:22:40.801892451Z",
     "start_time": "2023-06-14T16:22:40.050276543Z"
    }
   }
  },
  {
   "cell_type": "code",
   "execution_count": 42,
   "outputs": [
    {
     "data": {
      "text/plain": "     nuclide_name  energy_detected     energy  delta_en\n591          187w        74.389546    72.0020  2.387546\n631         208Tl        74.389546    72.8050  1.584546\n632         208Tl        74.389546    74.9700 -0.580454\n639         212Pb        74.389546    74.8150 -0.425454\n663         214Pb        74.389546    74.8150 -0.425454\n881         208Tl        76.222667    74.9700  1.252667\n888         212Pb        76.222667    74.8150  1.407667\n889         212Pb        76.222667    77.1080 -0.885333\n912         214Pb        76.222667    74.8150  1.407667\n913         214Pb        76.222667    77.1080 -0.885333\n1131        208Tl        85.999313    84.9860  1.013313\n1132        208Tl        85.999313    86.0220 -0.022687\n1139        212Pb        85.999313    87.3880 -1.388687\n1140        212Pb        85.999313    88.4580 -2.458687\n1163        214Pb        85.999313    87.3880 -1.388687\n1164        214Pb        85.999313    88.4580 -2.458687\n1633        212Pb       239.981482   238.6320  1.349482\n1649        214Pb       239.981482   241.9950 -2.013518\n1901        214Pb       296.197194   295.2240  0.973194\n1995         51cr       321.249849   320.0824  1.167449\n2400        214Pb       353.634987   351.9320  1.702987\n2568        140la       434.903355   432.4930  2.410355\n2747         58co       512.505479   511.0000  1.505479\n2752         65zn       512.505479   511.0000  1.505479\n2866        208Tl       512.505479   510.7700  1.735479\n3116        208Tl       584.608241   583.1870  1.421241\n3257        103ru       610.882976   610.3330  0.549976\n3408        214Bi       610.882976   609.3210  1.561976\n3509        110ag       659.155164   657.5000  1.655164\n3510        110ag       659.155164   657.7600  1.395164\n3760        110ag       679.319496   677.6217  1.697796\n4010        110ag       688.485101   687.0091  1.476001\n4260        110ag       708.038393   706.6760  1.362393\n4631        212Bi       728.813765   727.3300  1.483765\n4760        110ag       766.087226   763.9424  2.144826\n4906        214Bi       766.087226   768.3600 -2.272774\n4985         58co       812.526293   810.7593  1.766993\n5233         54mn       836.356867   834.8480  1.508867\n5459        228Ac       836.356867   835.7100  0.646867\n5509        110ag       886.462176   884.6781  1.784076\n5960        228Ac       912.736911   911.2040  1.532911\n6008        110ag       939.011646   937.4850  1.526646\n6459        228Ac       966.508462   964.7660  1.742462\n6460        228Ac       966.508462   968.9710 -2.462538\n6709        228Ac       970.785745   968.9710  1.814745\n6735         65zn      1117.435430  1115.5390  1.896430\n7153        214Bi      1122.323753  1120.2940  2.029753\n7231         60co      1174.873223  1173.2280  1.645223\n7654        214Bi      1240.254541  1238.1220  2.132541\n7730         60co      1334.354755  1332.4920  1.862755\n8001        110ag      1386.293185  1384.2931  2.000085\n8340          40k      1463.284270  1460.8200  2.464270\n8501        110ag      1507.279175  1505.0280  2.251175\n8656        214Bi      1507.279175  1509.2110 -1.931825\n8801        140la      1595.268986  1596.2100 -0.941014\n9160        214Bi      1731.530985  1729.5950  1.935985\n9410        214Bi      1766.971326  1764.4910  2.480326\n9661        214Bi      1849.461774  1847.4330  2.028774",
      "text/html": "<div>\n<style scoped>\n    .dataframe tbody tr th:only-of-type {\n        vertical-align: middle;\n    }\n\n    .dataframe tbody tr th {\n        vertical-align: top;\n    }\n\n    .dataframe thead th {\n        text-align: right;\n    }\n</style>\n<table border=\"1\" class=\"dataframe\">\n  <thead>\n    <tr style=\"text-align: right;\">\n      <th></th>\n      <th>nuclide_name</th>\n      <th>energy_detected</th>\n      <th>energy</th>\n      <th>delta_en</th>\n    </tr>\n  </thead>\n  <tbody>\n    <tr>\n      <th>591</th>\n      <td>187w</td>\n      <td>74.389546</td>\n      <td>72.0020</td>\n      <td>2.387546</td>\n    </tr>\n    <tr>\n      <th>631</th>\n      <td>208Tl</td>\n      <td>74.389546</td>\n      <td>72.8050</td>\n      <td>1.584546</td>\n    </tr>\n    <tr>\n      <th>632</th>\n      <td>208Tl</td>\n      <td>74.389546</td>\n      <td>74.9700</td>\n      <td>-0.580454</td>\n    </tr>\n    <tr>\n      <th>639</th>\n      <td>212Pb</td>\n      <td>74.389546</td>\n      <td>74.8150</td>\n      <td>-0.425454</td>\n    </tr>\n    <tr>\n      <th>663</th>\n      <td>214Pb</td>\n      <td>74.389546</td>\n      <td>74.8150</td>\n      <td>-0.425454</td>\n    </tr>\n    <tr>\n      <th>881</th>\n      <td>208Tl</td>\n      <td>76.222667</td>\n      <td>74.9700</td>\n      <td>1.252667</td>\n    </tr>\n    <tr>\n      <th>888</th>\n      <td>212Pb</td>\n      <td>76.222667</td>\n      <td>74.8150</td>\n      <td>1.407667</td>\n    </tr>\n    <tr>\n      <th>889</th>\n      <td>212Pb</td>\n      <td>76.222667</td>\n      <td>77.1080</td>\n      <td>-0.885333</td>\n    </tr>\n    <tr>\n      <th>912</th>\n      <td>214Pb</td>\n      <td>76.222667</td>\n      <td>74.8150</td>\n      <td>1.407667</td>\n    </tr>\n    <tr>\n      <th>913</th>\n      <td>214Pb</td>\n      <td>76.222667</td>\n      <td>77.1080</td>\n      <td>-0.885333</td>\n    </tr>\n    <tr>\n      <th>1131</th>\n      <td>208Tl</td>\n      <td>85.999313</td>\n      <td>84.9860</td>\n      <td>1.013313</td>\n    </tr>\n    <tr>\n      <th>1132</th>\n      <td>208Tl</td>\n      <td>85.999313</td>\n      <td>86.0220</td>\n      <td>-0.022687</td>\n    </tr>\n    <tr>\n      <th>1139</th>\n      <td>212Pb</td>\n      <td>85.999313</td>\n      <td>87.3880</td>\n      <td>-1.388687</td>\n    </tr>\n    <tr>\n      <th>1140</th>\n      <td>212Pb</td>\n      <td>85.999313</td>\n      <td>88.4580</td>\n      <td>-2.458687</td>\n    </tr>\n    <tr>\n      <th>1163</th>\n      <td>214Pb</td>\n      <td>85.999313</td>\n      <td>87.3880</td>\n      <td>-1.388687</td>\n    </tr>\n    <tr>\n      <th>1164</th>\n      <td>214Pb</td>\n      <td>85.999313</td>\n      <td>88.4580</td>\n      <td>-2.458687</td>\n    </tr>\n    <tr>\n      <th>1633</th>\n      <td>212Pb</td>\n      <td>239.981482</td>\n      <td>238.6320</td>\n      <td>1.349482</td>\n    </tr>\n    <tr>\n      <th>1649</th>\n      <td>214Pb</td>\n      <td>239.981482</td>\n      <td>241.9950</td>\n      <td>-2.013518</td>\n    </tr>\n    <tr>\n      <th>1901</th>\n      <td>214Pb</td>\n      <td>296.197194</td>\n      <td>295.2240</td>\n      <td>0.973194</td>\n    </tr>\n    <tr>\n      <th>1995</th>\n      <td>51cr</td>\n      <td>321.249849</td>\n      <td>320.0824</td>\n      <td>1.167449</td>\n    </tr>\n    <tr>\n      <th>2400</th>\n      <td>214Pb</td>\n      <td>353.634987</td>\n      <td>351.9320</td>\n      <td>1.702987</td>\n    </tr>\n    <tr>\n      <th>2568</th>\n      <td>140la</td>\n      <td>434.903355</td>\n      <td>432.4930</td>\n      <td>2.410355</td>\n    </tr>\n    <tr>\n      <th>2747</th>\n      <td>58co</td>\n      <td>512.505479</td>\n      <td>511.0000</td>\n      <td>1.505479</td>\n    </tr>\n    <tr>\n      <th>2752</th>\n      <td>65zn</td>\n      <td>512.505479</td>\n      <td>511.0000</td>\n      <td>1.505479</td>\n    </tr>\n    <tr>\n      <th>2866</th>\n      <td>208Tl</td>\n      <td>512.505479</td>\n      <td>510.7700</td>\n      <td>1.735479</td>\n    </tr>\n    <tr>\n      <th>3116</th>\n      <td>208Tl</td>\n      <td>584.608241</td>\n      <td>583.1870</td>\n      <td>1.421241</td>\n    </tr>\n    <tr>\n      <th>3257</th>\n      <td>103ru</td>\n      <td>610.882976</td>\n      <td>610.3330</td>\n      <td>0.549976</td>\n    </tr>\n    <tr>\n      <th>3408</th>\n      <td>214Bi</td>\n      <td>610.882976</td>\n      <td>609.3210</td>\n      <td>1.561976</td>\n    </tr>\n    <tr>\n      <th>3509</th>\n      <td>110ag</td>\n      <td>659.155164</td>\n      <td>657.5000</td>\n      <td>1.655164</td>\n    </tr>\n    <tr>\n      <th>3510</th>\n      <td>110ag</td>\n      <td>659.155164</td>\n      <td>657.7600</td>\n      <td>1.395164</td>\n    </tr>\n    <tr>\n      <th>3760</th>\n      <td>110ag</td>\n      <td>679.319496</td>\n      <td>677.6217</td>\n      <td>1.697796</td>\n    </tr>\n    <tr>\n      <th>4010</th>\n      <td>110ag</td>\n      <td>688.485101</td>\n      <td>687.0091</td>\n      <td>1.476001</td>\n    </tr>\n    <tr>\n      <th>4260</th>\n      <td>110ag</td>\n      <td>708.038393</td>\n      <td>706.6760</td>\n      <td>1.362393</td>\n    </tr>\n    <tr>\n      <th>4631</th>\n      <td>212Bi</td>\n      <td>728.813765</td>\n      <td>727.3300</td>\n      <td>1.483765</td>\n    </tr>\n    <tr>\n      <th>4760</th>\n      <td>110ag</td>\n      <td>766.087226</td>\n      <td>763.9424</td>\n      <td>2.144826</td>\n    </tr>\n    <tr>\n      <th>4906</th>\n      <td>214Bi</td>\n      <td>766.087226</td>\n      <td>768.3600</td>\n      <td>-2.272774</td>\n    </tr>\n    <tr>\n      <th>4985</th>\n      <td>58co</td>\n      <td>812.526293</td>\n      <td>810.7593</td>\n      <td>1.766993</td>\n    </tr>\n    <tr>\n      <th>5233</th>\n      <td>54mn</td>\n      <td>836.356867</td>\n      <td>834.8480</td>\n      <td>1.508867</td>\n    </tr>\n    <tr>\n      <th>5459</th>\n      <td>228Ac</td>\n      <td>836.356867</td>\n      <td>835.7100</td>\n      <td>0.646867</td>\n    </tr>\n    <tr>\n      <th>5509</th>\n      <td>110ag</td>\n      <td>886.462176</td>\n      <td>884.6781</td>\n      <td>1.784076</td>\n    </tr>\n    <tr>\n      <th>5960</th>\n      <td>228Ac</td>\n      <td>912.736911</td>\n      <td>911.2040</td>\n      <td>1.532911</td>\n    </tr>\n    <tr>\n      <th>6008</th>\n      <td>110ag</td>\n      <td>939.011646</td>\n      <td>937.4850</td>\n      <td>1.526646</td>\n    </tr>\n    <tr>\n      <th>6459</th>\n      <td>228Ac</td>\n      <td>966.508462</td>\n      <td>964.7660</td>\n      <td>1.742462</td>\n    </tr>\n    <tr>\n      <th>6460</th>\n      <td>228Ac</td>\n      <td>966.508462</td>\n      <td>968.9710</td>\n      <td>-2.462538</td>\n    </tr>\n    <tr>\n      <th>6709</th>\n      <td>228Ac</td>\n      <td>970.785745</td>\n      <td>968.9710</td>\n      <td>1.814745</td>\n    </tr>\n    <tr>\n      <th>6735</th>\n      <td>65zn</td>\n      <td>1117.435430</td>\n      <td>1115.5390</td>\n      <td>1.896430</td>\n    </tr>\n    <tr>\n      <th>7153</th>\n      <td>214Bi</td>\n      <td>1122.323753</td>\n      <td>1120.2940</td>\n      <td>2.029753</td>\n    </tr>\n    <tr>\n      <th>7231</th>\n      <td>60co</td>\n      <td>1174.873223</td>\n      <td>1173.2280</td>\n      <td>1.645223</td>\n    </tr>\n    <tr>\n      <th>7654</th>\n      <td>214Bi</td>\n      <td>1240.254541</td>\n      <td>1238.1220</td>\n      <td>2.132541</td>\n    </tr>\n    <tr>\n      <th>7730</th>\n      <td>60co</td>\n      <td>1334.354755</td>\n      <td>1332.4920</td>\n      <td>1.862755</td>\n    </tr>\n    <tr>\n      <th>8001</th>\n      <td>110ag</td>\n      <td>1386.293185</td>\n      <td>1384.2931</td>\n      <td>2.000085</td>\n    </tr>\n    <tr>\n      <th>8340</th>\n      <td>40k</td>\n      <td>1463.284270</td>\n      <td>1460.8200</td>\n      <td>2.464270</td>\n    </tr>\n    <tr>\n      <th>8501</th>\n      <td>110ag</td>\n      <td>1507.279175</td>\n      <td>1505.0280</td>\n      <td>2.251175</td>\n    </tr>\n    <tr>\n      <th>8656</th>\n      <td>214Bi</td>\n      <td>1507.279175</td>\n      <td>1509.2110</td>\n      <td>-1.931825</td>\n    </tr>\n    <tr>\n      <th>8801</th>\n      <td>140la</td>\n      <td>1595.268986</td>\n      <td>1596.2100</td>\n      <td>-0.941014</td>\n    </tr>\n    <tr>\n      <th>9160</th>\n      <td>214Bi</td>\n      <td>1731.530985</td>\n      <td>1729.5950</td>\n      <td>1.935985</td>\n    </tr>\n    <tr>\n      <th>9410</th>\n      <td>214Bi</td>\n      <td>1766.971326</td>\n      <td>1764.4910</td>\n      <td>2.480326</td>\n    </tr>\n    <tr>\n      <th>9661</th>\n      <td>214Bi</td>\n      <td>1849.461774</td>\n      <td>1847.4330</td>\n      <td>2.028774</td>\n    </tr>\n  </tbody>\n</table>\n</div>"
     },
     "execution_count": 42,
     "metadata": {},
     "output_type": "execute_result"
    }
   ],
   "source": [
    "identified_peaks_df[['nuclide_name', 'energy_detected', 'energy', 'delta_en']]"
   ],
   "metadata": {
    "collapsed": false,
    "ExecuteTime": {
     "end_time": "2023-06-14T16:22:40.816366284Z",
     "start_time": "2023-06-14T16:22:40.340558284Z"
    }
   }
  },
  {
   "cell_type": "code",
   "execution_count": 42,
   "outputs": [],
   "source": [],
   "metadata": {
    "collapsed": false,
    "ExecuteTime": {
     "end_time": "2023-06-14T16:22:40.817450804Z",
     "start_time": "2023-06-14T16:22:40.345259384Z"
    }
   }
  },
  {
   "cell_type": "code",
   "execution_count": 43,
   "outputs": [],
   "source": [
    "# Sample size (L, kg, g etc.)\n",
    "samp_size = 0.1"
   ],
   "metadata": {
    "collapsed": false,
    "ExecuteTime": {
     "end_time": "2023-06-14T16:22:40.942409706Z",
     "start_time": "2023-06-14T16:22:40.355562315Z"
    }
   }
  },
  {
   "cell_type": "code",
   "execution_count": 43,
   "outputs": [],
   "source": [],
   "metadata": {
    "collapsed": false,
    "ExecuteTime": {
     "end_time": "2023-06-14T16:22:40.958344834Z",
     "start_time": "2023-06-14T16:22:40.534302374Z"
    }
   }
  },
  {
   "cell_type": "code",
   "execution_count": 44,
   "outputs": [],
   "source": [
    "# 2023-Jun-13\n",
    "# PAREI AQUI\n",
    "# Trazer o trabalho feito em\n",
    "# radionuclide_analysis.ipynb e adaptar ao que está aqui\n",
    "# especialmente na identificaćão dos nucl[ideos\n",
    "\n",
    "# Depois, deletar radionuclide_analysis.ipynb."
   ],
   "metadata": {
    "collapsed": false,
    "ExecuteTime": {
     "end_time": "2023-06-14T16:22:40.959881415Z",
     "start_time": "2023-06-14T16:22:40.574012485Z"
    }
   }
  },
  {
   "cell_type": "code",
   "execution_count": 44,
   "outputs": [],
   "source": [],
   "metadata": {
    "collapsed": false,
    "ExecuteTime": {
     "end_time": "2023-06-14T16:22:40.960568579Z",
     "start_time": "2023-06-14T16:22:40.693495116Z"
    }
   }
  },
  {
   "cell_type": "code",
   "execution_count": 45,
   "outputs": [
    {
     "data": {
      "text/plain": "       Engy   Effic  sEffic                                         effic_func\n0     59.54  6.4299    3.61                                                743\n1     81.00  5.6528    3.61                                                743\n2    276.40  1.6306    3.61  ((0.5110491663154504, -1.542825320223859, 0.42...\n3    302.85  1.5006    3.61  ((0.5110491663154504, -1.542825320223859, 0.42...\n4    356.02  1.4023    3.61                                                743\n5    383.85  1.3216    3.61                                                743\n6    604.69  0.9112    3.61                                                743\n7    661.66  0.7900    3.61                                                743\n8    795.84  0.7000    3.61                                                743\n9   1155.00  0.5916    0.01                                                743\n10  1173.24  0.5513    3.61                                                743\n11  1332.50  0.5053    3.61                                                743",
      "text/html": "<div>\n<style scoped>\n    .dataframe tbody tr th:only-of-type {\n        vertical-align: middle;\n    }\n\n    .dataframe tbody tr th {\n        vertical-align: top;\n    }\n\n    .dataframe thead th {\n        text-align: right;\n    }\n</style>\n<table border=\"1\" class=\"dataframe\">\n  <thead>\n    <tr style=\"text-align: right;\">\n      <th></th>\n      <th>Engy</th>\n      <th>Effic</th>\n      <th>sEffic</th>\n      <th>effic_func</th>\n    </tr>\n  </thead>\n  <tbody>\n    <tr>\n      <th>0</th>\n      <td>59.54</td>\n      <td>6.4299</td>\n      <td>3.61</td>\n      <td>743</td>\n    </tr>\n    <tr>\n      <th>1</th>\n      <td>81.00</td>\n      <td>5.6528</td>\n      <td>3.61</td>\n      <td>743</td>\n    </tr>\n    <tr>\n      <th>2</th>\n      <td>276.40</td>\n      <td>1.6306</td>\n      <td>3.61</td>\n      <td>((0.5110491663154504, -1.542825320223859, 0.42...</td>\n    </tr>\n    <tr>\n      <th>3</th>\n      <td>302.85</td>\n      <td>1.5006</td>\n      <td>3.61</td>\n      <td>((0.5110491663154504, -1.542825320223859, 0.42...</td>\n    </tr>\n    <tr>\n      <th>4</th>\n      <td>356.02</td>\n      <td>1.4023</td>\n      <td>3.61</td>\n      <td>743</td>\n    </tr>\n    <tr>\n      <th>5</th>\n      <td>383.85</td>\n      <td>1.3216</td>\n      <td>3.61</td>\n      <td>743</td>\n    </tr>\n    <tr>\n      <th>6</th>\n      <td>604.69</td>\n      <td>0.9112</td>\n      <td>3.61</td>\n      <td>743</td>\n    </tr>\n    <tr>\n      <th>7</th>\n      <td>661.66</td>\n      <td>0.7900</td>\n      <td>3.61</td>\n      <td>743</td>\n    </tr>\n    <tr>\n      <th>8</th>\n      <td>795.84</td>\n      <td>0.7000</td>\n      <td>3.61</td>\n      <td>743</td>\n    </tr>\n    <tr>\n      <th>9</th>\n      <td>1155.00</td>\n      <td>0.5916</td>\n      <td>0.01</td>\n      <td>743</td>\n    </tr>\n    <tr>\n      <th>10</th>\n      <td>1173.24</td>\n      <td>0.5513</td>\n      <td>3.61</td>\n      <td>743</td>\n    </tr>\n    <tr>\n      <th>11</th>\n      <td>1332.50</td>\n      <td>0.5053</td>\n      <td>3.61</td>\n      <td>743</td>\n    </tr>\n  </tbody>\n</table>\n</div>"
     },
     "execution_count": 45,
     "metadata": {},
     "output_type": "execute_result"
    }
   ],
   "source": [
    "# 2023-Jun-14\n",
    "# Loading calibration pkl file:\n",
    "calib_pkl_name = 'f100_gmx_2021.pkl'\n",
    "calib_df = pd.read_pickle(calib_pkl_name)\n",
    "calib_df"
   ],
   "metadata": {
    "collapsed": false,
    "ExecuteTime": {
     "end_time": "2023-06-14T16:22:41.074651988Z",
     "start_time": "2023-06-14T16:22:40.694819445Z"
    }
   }
  },
  {
   "cell_type": "code",
   "execution_count": 46,
   "outputs": [
    {
     "data": {
      "text/plain": "(Polynomial([ 0.51104917, -1.54282532,  0.42082601,  0.36310567, -0.3132035 ,\n        -0.06636575], domain=[4.08664836, 7.19481216], window=[-1.,  1.]),\n [array([0.00174484]),\n  6,\n  array([2.44946008e+00, 1.04967799e-02, 5.50802223e-03, 2.01458065e-03,\n         8.07092181e-04, 2.92462463e-04]),\n  2.6645352591003757e-15])"
     },
     "execution_count": 46,
     "metadata": {},
     "output_type": "execute_result"
    }
   ],
   "source": [
    "calib_df.effic_func[3]"
   ],
   "metadata": {
    "collapsed": false,
    "ExecuteTime": {
     "end_time": "2023-06-14T16:22:41.121950212Z",
     "start_time": "2023-06-14T16:22:40.854954895Z"
    }
   }
  },
  {
   "cell_type": "code",
   "execution_count": null,
   "outputs": [],
   "source": [
    "# 2023-Jun-14 PAREI AQUI\n",
    "# Ver exatamente o que são esses elementos de Polynomial"
   ],
   "metadata": {
    "collapsed": false
   }
  },
  {
   "cell_type": "code",
   "execution_count": 47,
   "outputs": [
    {
     "data": {
      "text/plain": "(Polynomial([ 0.51104917, -1.54282532,  0.42082601,  0.36310567, -0.3132035 ,\n        -0.06636575], domain=[4.08664836, 7.19481216], window=[-1.,  1.]),\n [array([0.00174484]),\n  6,\n  array([2.44946008e+00, 1.04967799e-02, 5.50802223e-03, 2.01458065e-03,\n         8.07092181e-04, 2.92462463e-04]),\n  2.6645352591003757e-15])"
     },
     "execution_count": 47,
     "metadata": {},
     "output_type": "execute_result"
    }
   ],
   "source": [
    "p_eff = calib_df.effic_func[3]\n",
    "p_eff"
   ],
   "metadata": {
    "collapsed": false,
    "ExecuteTime": {
     "end_time": "2023-06-14T16:22:41.673268071Z",
     "start_time": "2023-06-14T16:22:40.897902517Z"
    }
   }
  },
  {
   "cell_type": "code",
   "execution_count": 48,
   "outputs": [
    {
     "data": {
      "text/plain": "[array([0.00174484]),\n 6,\n array([2.44946008e+00, 1.04967799e-02, 5.50802223e-03, 2.01458065e-03,\n        8.07092181e-04, 2.92462463e-04]),\n 2.6645352591003757e-15]"
     },
     "execution_count": 48,
     "metadata": {},
     "output_type": "execute_result"
    }
   ],
   "source": [
    "p_eff[1]"
   ],
   "metadata": {
    "collapsed": false,
    "ExecuteTime": {
     "end_time": "2023-06-14T16:22:41.761364397Z",
     "start_time": "2023-06-14T16:22:41.047126823Z"
    }
   }
  },
  {
   "cell_type": "code",
   "execution_count": 49,
   "outputs": [
    {
     "ename": "TypeError",
     "evalue": "'list' object is not callable",
     "output_type": "error",
     "traceback": [
      "\u001B[0;31m---------------------------------------------------------------------------\u001B[0m",
      "\u001B[0;31mTypeError\u001B[0m                                 Traceback (most recent call last)",
      "Cell \u001B[0;32mIn[49], line 1\u001B[0m\n\u001B[0;32m----> 1\u001B[0m \u001B[43mp_eff\u001B[49m\u001B[43m[\u001B[49m\u001B[38;5;241;43m1\u001B[39;49m\u001B[43m]\u001B[49m\u001B[43m(\u001B[49m\u001B[38;5;241;43m12.3\u001B[39;49m\u001B[43m)\u001B[49m\n",
      "\u001B[0;31mTypeError\u001B[0m: 'list' object is not callable"
     ]
    }
   ],
   "source": [
    "p_eff[1](12.3)"
   ],
   "metadata": {
    "collapsed": false,
    "ExecuteTime": {
     "end_time": "2023-06-14T16:22:42.207661463Z",
     "start_time": "2023-06-14T16:22:41.120340128Z"
    }
   }
  },
  {
   "cell_type": "code",
   "execution_count": null,
   "outputs": [],
   "source": [
    "mt_en['uncorr_activ'] = mt_en['rough_sums'] /\\\n",
    "                        (p_eff(mt_en['Engy']) * 1e-4 * mt_en['Yie'] *\n",
    "                         a_spec.lv_time * samp_size)"
   ],
   "metadata": {
    "collapsed": false,
    "ExecuteTime": {
     "start_time": "2023-06-14T16:22:41.706279553Z"
    }
   }
  },
  {
   "cell_type": "code",
   "execution_count": null,
   "outputs": [],
   "source": [
    "mt_en"
   ],
   "metadata": {
    "collapsed": false,
    "ExecuteTime": {
     "start_time": "2023-06-14T16:22:41.710542329Z"
    }
   }
  },
  {
   "cell_type": "code",
   "execution_count": null,
   "outputs": [],
   "source": [
    "# 2023-Mar-22 PAREI AQUI"
   ],
   "metadata": {
    "collapsed": false,
    "ExecuteTime": {
     "start_time": "2023-06-14T16:22:41.718641875Z"
    }
   }
  },
  {
   "cell_type": "code",
   "execution_count": null,
   "outputs": [],
   "source": [
    "xdfgh rxfth rxthj rds"
   ],
   "metadata": {
    "collapsed": false,
    "ExecuteTime": {
     "start_time": "2023-06-14T16:22:41.728836235Z"
    }
   }
  },
  {
   "cell_type": "code",
   "execution_count": null,
   "outputs": [],
   "source": [
    "df1 = pd.DataFrame(\n",
    "    {\n",
    "        \"A\": [\"A0\", \"A1\", \"A2\", \"A3\"],\n",
    "        \"B\": [\"B0\", \"B1\", \"B2\", \"B3\"],\n",
    "        \"C\": [\"C0\", \"C1\", \"C2\", \"C3\"],\n",
    "        \"D\": [\"D0\", \"D1\", \"D2\", \"D3\"],\n",
    "    },\n",
    "    index=[0, 1, 2, 3],\n",
    ")\n",
    "\n",
    "\n",
    "df2 = pd.DataFrame(\n",
    "    {\n",
    "        \"A\": [\"A4\", \"A5\", \"A6\", \"A7\"],\n",
    "        \"B\": [\"B4\", \"B5\", \"B6\", \"B7\"],\n",
    "        \"C\": [\"C4\", \"C5\", \"C6\", \"C7\"],\n",
    "        \"D\": [\"D4\", \"D5\", \"D6\", \"D7\"],\n",
    "    },\n",
    "    index=[4, 5, 6, 7],\n",
    ")\n",
    "\n",
    "\n",
    "df3 = pd.DataFrame(\n",
    "    {\n",
    "        \"A\": [\"A8\", \"A9\", \"A10\", \"A11\"],\n",
    "        \"B\": [\"B8\", \"B9\", \"B10\", \"B11\"],\n",
    "        \"C\": [\"C8\", \"C9\", \"C10\", \"C11\"],\n",
    "        \"D\": [\"D8\", \"D9\", \"D10\", \"D11\"],\n",
    "    },\n",
    "    index=[8, 9, 10, 11],\n",
    ")\n",
    "\n",
    "\n",
    "frames = [df1, df2, df3]\n",
    "\n",
    "result = pd.concat(frames)\n",
    "result"
   ],
   "metadata": {
    "collapsed": false,
    "ExecuteTime": {
     "start_time": "2023-06-14T16:22:41.825050917Z"
    }
   }
  },
  {
   "cell_type": "code",
   "execution_count": null,
   "outputs": [],
   "source": [
    "result = pd.concat(frames, keys=[\"x\", \"y\", \"z\"])\n",
    "result"
   ],
   "metadata": {
    "collapsed": false,
    "ExecuteTime": {
     "start_time": "2023-06-14T16:22:41.826267721Z"
    }
   }
  },
  {
   "cell_type": "code",
   "execution_count": null,
   "outputs": [],
   "source": [],
   "metadata": {
    "collapsed": false,
    "ExecuteTime": {
     "start_time": "2023-06-14T16:22:41.827359799Z"
    }
   }
  },
  {
   "cell_type": "code",
   "execution_count": null,
   "outputs": [],
   "source": [],
   "metadata": {
    "collapsed": false,
    "ExecuteTime": {
     "start_time": "2023-06-14T16:22:41.828442294Z"
    }
   }
  },
  {
   "cell_type": "code",
   "execution_count": null,
   "outputs": [],
   "source": [
    "# https://stackoverflow.com/questions/63529555"
   ],
   "metadata": {
    "collapsed": false,
    "ExecuteTime": {
     "start_time": "2023-06-14T16:22:41.829258505Z"
    }
   }
  },
  {
   "cell_type": "code",
   "execution_count": null,
   "outputs": [],
   "source": [
    "animals = ['cat', 'dog', 'hamster', 'dolphin']"
   ],
   "metadata": {
    "collapsed": false,
    "ExecuteTime": {
     "start_time": "2023-06-14T16:22:41.830069239Z"
    }
   }
  },
  {
   "cell_type": "code",
   "execution_count": null,
   "outputs": [],
   "source": [
    "df_animals_sets = pd.DataFrame(data={\n",
    "    'id': [1,2,3,4,5],\n",
    "    'animals': ['dog,cat','dog','cat,dolphin','cat,dog','hamster,dolphin']\n",
    "})\n",
    "df_animals_sets"
   ],
   "metadata": {
    "collapsed": false,
    "ExecuteTime": {
     "start_time": "2023-06-14T16:22:41.830859961Z"
    }
   }
  },
  {
   "cell_type": "code",
   "execution_count": null,
   "outputs": [],
   "source": [
    "df = df_animals_sets\n",
    "df_final = (df.astype(str).assign(animals=df.animals.str.split(','))\n",
    "                          .explode('animals').groupby('animals').id.agg(','.join)\n",
    "                          .reset_index())\n",
    "df_final"
   ],
   "metadata": {
    "collapsed": false,
    "ExecuteTime": {
     "start_time": "2023-06-14T16:22:41.831720289Z"
    }
   }
  },
  {
   "cell_type": "code",
   "execution_count": null,
   "outputs": [],
   "source": [],
   "metadata": {
    "collapsed": false,
    "ExecuteTime": {
     "start_time": "2023-06-14T16:22:41.832790261Z"
    }
   }
  },
  {
   "cell_type": "code",
   "execution_count": null,
   "outputs": [],
   "source": [
    "help(str)"
   ],
   "metadata": {
    "collapsed": false,
    "ExecuteTime": {
     "start_time": "2023-06-14T16:22:41.833589025Z"
    }
   }
  },
  {
   "cell_type": "code",
   "execution_count": null,
   "outputs": [],
   "source": [],
   "metadata": {
    "collapsed": false,
    "ExecuteTime": {
     "start_time": "2023-06-14T16:22:41.834428663Z"
    }
   }
  }
 ],
 "metadata": {
  "kernelspec": {
   "display_name": "Python 3 (ipykernel)",
   "language": "python",
   "name": "python3"
  },
  "language_info": {
   "codemirror_mode": {
    "name": "ipython",
    "version": 3
   },
   "file_extension": ".py",
   "mimetype": "text/x-python",
   "name": "python",
   "nbconvert_exporter": "python",
   "pygments_lexer": "ipython3",
   "version": "3.11.2"
  }
 },
 "nbformat": 4,
 "nbformat_minor": 1
}
