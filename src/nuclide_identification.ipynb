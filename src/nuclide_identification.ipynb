{
 "cells": [
  {
   "cell_type": "code",
   "execution_count": 70,
   "metadata": {},
   "outputs": [],
   "source": [
    "\n",
    "# 2022-out-7: Excelente espectro para testes, tenho usado ultimamente:\n",
    "# a_pattern = 'Si/SI2018/SI11318.Chn'\n",
    "# 2022-nov-16: outros espectros:\n",
    "# a_pattern = \"Filtros/2022/Cci/CCI1603-I.Chn\"\n",
    "# a_pattern = \"Filtros/2022/Cci/CCI2302-I.Chn\"\n",
    "\n",
    "# a_pattern = \"Eso_non_existe.Chn\"\n",
    "\n",
    "# 2022-Dez-21 Buscando outro espectro\n",
    "# a_pattern = 'CCI1603-I'\n",
    "# 2022-Dez-28 Este é um espectro mais recente:\n",
    "# a_pattern = 'SI09722.Chn'\n",
    "# 2022-Dez-28 Este é um espectro mais recente que posso comparar com saída do Genie:\n",
    "# a_pattern = 'SI06322.Chn'\n",
    "# a_pattern = 'SI06122.Chn'"
   ]
  },
  {
   "cell_type": "code",
   "execution_count": 71,
   "outputs": [],
   "source": [
    "import numpy as np\n",
    "from numpy.polynomial import Polynomial as P  # 2020-09-06 Esta é a nova classe recomendada\n",
    "from sklearn import linear_model\n",
    "\n",
    "import pandas as pd\n",
    "from random import randrange\n",
    "import plotly.graph_objects as go\n",
    "\n",
    "from ograyspy_class import Ograyspy, select_spectrum_from_folder_list\n",
    "from spec_class import Spec"
   ],
   "metadata": {
    "collapsed": false
   }
  },
  {
   "cell_type": "code",
   "execution_count": 72,
   "outputs": [],
   "source": [
    "ogra = Ograyspy()\n",
    "print(ogra.info_node)\n",
    "to_be_found = 'Genie_Transfer'\n",
    "print('\\nExec ogra.define_files_folder(to_be_found):')\n",
    "ogra.define_files_folder(to_be_found)\n",
    "print(ogra.pkl_folder_files)\n",
    "spectra_list_df = pd.read_pickle(ogra.pkl_folder_files)\n",
    "del ogra"
   ],
   "metadata": {
    "collapsed": false
   }
  },
  {
   "cell_type": "code",
   "execution_count": 73,
   "outputs": [],
   "source": [
    "spectra_list_df"
   ],
   "metadata": {
    "collapsed": false
   }
  },
  {
   "cell_type": "code",
   "execution_count": 74,
   "metadata": {},
   "outputs": [],
   "source": [
    "reduc_nms = spectra_list_df.reduced_names_files_list[0]\n",
    "fil_lst = spectra_list_df.files_list[0]\n",
    "spc_pth = spectra_list_df.spectra_path[0]"
   ]
  },
  {
   "cell_type": "code",
   "execution_count": 75,
   "outputs": [],
   "source": [
    "reduc_nms"
   ],
   "metadata": {
    "collapsed": false
   }
  },
  {
   "cell_type": "code",
   "execution_count": 76,
   "outputs": [],
   "source": [
    "# 2022-Dez-28 Este é um espectro mais recente que posso comparar com saída do Genie:\n",
    "a_pattern = 'SI06122.Chn'"
   ],
   "metadata": {
    "collapsed": false
   }
  },
  {
   "cell_type": "code",
   "execution_count": 77,
   "metadata": {},
   "outputs": [],
   "source": [
    "f_name, reduced_f_name = select_spectrum_from_folder_list(reduc_nms, fil_lst, spc_pth, a_pattern)\n",
    "f_name, reduced_f_name"
   ]
  },
  {
   "cell_type": "code",
   "execution_count": 77,
   "outputs": [],
   "source": [],
   "metadata": {
    "collapsed": false
   }
  },
  {
   "cell_type": "code",
   "execution_count": 78,
   "outputs": [],
   "source": [
    "nucl_iear1_df = pd.read_pickle('nucl_iear1_list.pkl')\n",
    "nucl_iear1_df"
   ],
   "metadata": {
    "collapsed": false
   }
  },
  {
   "cell_type": "code",
   "execution_count": 79,
   "outputs": [],
   "source": [
    "# 2023-Jun-15: Setting gamma lines/ranges to dismiss in the analysis\n",
    "df1 = nucl_iear1_df\n",
    "df1[\"is_to_consider\"] = True\n",
    "df1.loc[((df1.energy > 509) & (df1.energy < 513)) | (df1.energy < 100), \"is_to_consider\"] = False\n",
    "nucl_iear1_df"
   ],
   "metadata": {
    "collapsed": false
   }
  },
  {
   "cell_type": "code",
   "execution_count": 79,
   "outputs": [],
   "source": [],
   "metadata": {
    "collapsed": false
   }
  },
  {
   "cell_type": "code",
   "execution_count": 80,
   "metadata": {},
   "outputs": [],
   "source": [
    "a_spec = Spec(f_name, reduced_f_name)"
   ]
  },
  {
   "cell_type": "code",
   "execution_count": 81,
   "outputs": [],
   "source": [
    "dir(a_spec)"
   ],
   "metadata": {
    "collapsed": false
   }
  },
  {
   "cell_type": "code",
   "execution_count": 82,
   "outputs": [],
   "source": [
    "orig_ser = a_spec.origin_spec_ser_an\n",
    "vars(orig_ser)"
   ],
   "metadata": {
    "collapsed": false
   }
  },
  {
   "cell_type": "code",
   "execution_count": 83,
   "outputs": [],
   "source": [
    "a_spec.total_analysis(gener_dataframe=True)\n",
    "# A opção acima, gener_dataframe=True,  grava o pkl_file do espectro\n",
    "vars(a_spec)"
   ],
   "metadata": {
    "collapsed": false
   }
  },
  {
   "cell_type": "code",
   "execution_count": 84,
   "outputs": [],
   "source": [
    "vars(orig_ser)"
   ],
   "metadata": {
    "collapsed": false
   }
  },
  {
   "cell_type": "code",
   "execution_count": 85,
   "outputs": [],
   "source": [
    "net_ser = a_spec.net_spec_ser_an\n",
    "vars(net_ser)"
   ],
   "metadata": {
    "collapsed": false
   }
  },
  {
   "cell_type": "code",
   "execution_count": 86,
   "outputs": [],
   "source": [
    "print(a_spec.pkl_file)"
   ],
   "metadata": {
    "collapsed": false
   }
  },
  {
   "cell_type": "code",
   "execution_count": 87,
   "outputs": [],
   "source": [
    "a_spec.pkl_file"
   ],
   "metadata": {
    "collapsed": false
   }
  },
  {
   "cell_type": "code",
   "execution_count": 87,
   "outputs": [],
   "source": [],
   "metadata": {
    "collapsed": false
   }
  },
  {
   "cell_type": "code",
   "execution_count": 88,
   "outputs": [],
   "source": [
    "# Só para verificar se o pkl_file pode ser recuperado:\n",
    "read_analysis_spec = pd.read_pickle(a_spec.pkl_file)"
   ],
   "metadata": {
    "collapsed": false
   }
  },
  {
   "cell_type": "code",
   "execution_count": 89,
   "outputs": [],
   "source": [
    "read_orig = read_analysis_spec['origin_spec_ser_an'][0]\n",
    "orig_ser = read_orig\n",
    "vars(orig_ser)"
   ],
   "metadata": {
    "collapsed": false
   }
  },
  {
   "cell_type": "code",
   "execution_count": 90,
   "outputs": [],
   "source": [
    "read_net = read_analysis_spec['net_spec_ser_an'][0]\n",
    "net_ser = read_net\n",
    "vars(net_ser)"
   ],
   "metadata": {
    "collapsed": false
   }
  },
  {
   "cell_type": "code",
   "execution_count": 91,
   "outputs": [],
   "source": [
    "# 2023-May-26\n",
    "# Ok! Espectro gravado, depois lido, então vamos prosseguir\n",
    "# com a identificação dos nuclídeos.\n",
    "# Agora, posso ler e analisar um espectro, gravá-lo e depois, em outro momento,\n",
    "# ler o pkl com a análise."
   ],
   "metadata": {
    "collapsed": false
   }
  },
  {
   "cell_type": "code",
   "execution_count": 91,
   "outputs": [],
   "source": [],
   "metadata": {
    "collapsed": false
   }
  },
  {
   "cell_type": "code",
   "execution_count": 92,
   "metadata": {},
   "outputs": [],
   "source": [
    "x_nz = orig_ser.chans_nzero\n",
    "y_nz = orig_ser.counts_nzero"
   ]
  },
  {
   "cell_type": "code",
   "execution_count": 92,
   "metadata": {},
   "outputs": [],
   "source": []
  },
  {
   "cell_type": "code",
   "execution_count": 93,
   "metadata": {},
   "outputs": [],
   "source": [
    "chans = net_ser.x_s\n",
    "ys_net_counts = net_ser.y_s\n",
    "peaks_net = net_ser.pk_parms.peaks\n",
    "peaks_orig = orig_ser.pk_parms.peaks\n",
    "counts = orig_ser.y_s\n",
    "chans_nzero = orig_ser.chans_nzero\n",
    "counts_nzero = orig_ser.counts_nzero\n",
    "unc_y = orig_ser.unc_y\n",
    "eval_y = orig_ser.y_smoothed\n",
    "eval_bl = orig_ser.eval_baseline\n",
    "fin_bl = orig_ser.final_baseline\n",
    "inis = orig_ser.pk_parms.propts['left_bases']\n",
    "fins = orig_ser.pk_parms.propts['right_bases']"
   ]
  },
  {
   "cell_type": "code",
   "execution_count": 94,
   "outputs": [],
   "source": [
    "# 2023-Jun-15\n",
    "# CRUCIAL step: take the dict net_ser.pk_parms' keys/values and organize them as a pd.Dataframe\n",
    "vars_pkprms = vars(net_ser.pk_parms)\n",
    "keys_to_get = ['peaks', 'fwhm_centr', 'rough_sums', 'centroids', 'variances']\n",
    "prep_for_dict = [(key, vars_pkprms[key]) for key in keys_to_get]\n",
    "pks_dict = dict(prep_for_dict)\n",
    "peaks_df = pd.DataFrame.from_dict(pks_dict)\n",
    "peaks_df"
   ],
   "metadata": {
    "collapsed": false
   }
  },
  {
   "cell_type": "code",
   "execution_count": 94,
   "outputs": [],
   "source": [],
   "metadata": {
    "collapsed": false
   }
  },
  {
   "cell_type": "code",
   "execution_count": 95,
   "outputs": [],
   "source": [
    "pr_pk = dict([('pk_hei',net_ser.pk_parms.propts['peak_heights']),\n",
    "              ('lf_thr',net_ser.pk_parms.propts['left_thresholds']),\n",
    "              ('rg_thr',net_ser.pk_parms.propts['right_thresholds']),\n",
    "              ('promns',net_ser.pk_parms.propts['prominences']),\n",
    "              ('lf_bas',net_ser.pk_parms.propts['left_bases']),\n",
    "              ('rg_bas',net_ser.pk_parms.propts['right_bases']),\n",
    "              ('widths',net_ser.pk_parms.propts['widths']),\n",
    "              ('wi_hei',net_ser.pk_parms.propts['width_heights']),\n",
    "              ('lf_ips',net_ser.pk_parms.propts['left_ips']),\n",
    "              ('rg_ips',net_ser.pk_parms.propts['right_ips'])])"
   ],
   "metadata": {
    "collapsed": false
   }
  },
  {
   "cell_type": "code",
   "execution_count": 96,
   "outputs": [],
   "source": [
    "teste_df = pd.DataFrame(pr_pk)\n",
    "teste_df"
   ],
   "metadata": {
    "collapsed": false
   }
  },
  {
   "cell_type": "code",
   "execution_count": 97,
   "outputs": [],
   "source": [
    "big_df = pd.concat([peaks_df, teste_df],axis=1)\n",
    "big_df"
   ],
   "metadata": {
    "collapsed": false
   }
  },
  {
   "cell_type": "code",
   "execution_count": 98,
   "outputs": [],
   "source": [
    "vars()"
   ],
   "metadata": {
    "collapsed": false
   }
  },
  {
   "cell_type": "code",
   "execution_count": 99,
   "outputs": [],
   "source": [
    "nucl_iear1_df"
   ],
   "metadata": {
    "collapsed": false
   }
  },
  {
   "cell_type": "code",
   "execution_count": 100,
   "outputs": [],
   "source": [
    "teste1_df = nucl_iear1_df.loc [\n",
    "    (nucl_iear1_df.intensity > 1.0) & nucl_iear1_df.is_to_consider\n",
    "]\n",
    "teste1_df"
   ],
   "metadata": {
    "collapsed": false
   }
  },
  {
   "cell_type": "code",
   "execution_count": 101,
   "outputs": [],
   "source": [
    "big_df"
   ],
   "metadata": {
    "collapsed": false
   }
  },
  {
   "cell_type": "code",
   "execution_count": 102,
   "outputs": [],
   "source": [
    "def spec_engy_identif(peaks_net_kev_df, nucl_lib_df, func_en,\n",
    "                      en_toler_calib=3.0, en_toler_ident=0.5, min_intensity = 1.0):\n",
    "    # Library-based spectrum energy/channel recalibration\n",
    "    # TODO: implement option to update self.channel_energy_calib\n",
    "\n",
    "    \"\"\"Perform a library-based spectrum energy/channel recalibration\n",
    "    :param func_en: energy function\n",
    "    :type callable\n",
    "    :param initial_energy: column specifying the base energy values to consider\n",
    "    :type initial_energy: string\n",
    "    :param peaks_net_kev_df: single col 'energy_detected' w/ peaks' energies detected\n",
    "    :type peaks_net_kev_df: pd.Dataframe\n",
    "    :param nucl_lib_df: nuclide library based on IAEA format as a Pandas dataframe\n",
    "    :type nucl_lib_df: pd.Dataframe\n",
    "    :param en_toler_calib: energy difference accetable to take a peak for automatic calibration\n",
    "        (default is 3.0)\n",
    "    :type en_toler_calib: float\n",
    "    :param en_toler_ident: energy difference accetable to take a detected peak as possibly identified\n",
    "        (default is 0.5)\n",
    "    :type en_toler_ident: float\n",
    "    :param min_intensity: minimum yield percentage to accept a peak\n",
    "        (default is 1.0)\n",
    "    :type min_intensity: float\n",
    "    :returns: a pd.Dataframe with each row as an identified peak with parameters\n",
    "    :rtype: pd.Dataframe\n",
    "    \"\"\"\n",
    "\n",
    "    left = peaks_net_kev_df\n",
    "    left['engy_pk_det'] = func_en(left.centroids)\n",
    "    right = nucl_lib_df.loc [\n",
    "        (nucl_lib_df.intensity > min_intensity) & nucl_lib_df.is_to_consider\n",
    "    ]\n",
    "    cross_df = pd.merge(left, right, how='cross')\n",
    "    cross_df[\"delta_en\"] = cross_df.engy_pk_det - cross_df.energy\n",
    "    df1 = pd.DataFrame(cross_df.loc [(np.abs(cross_df.delta_en) < en_toler_calib)] )\n",
    "    X_energy = np.array(df1.energy).reshape(-1,1)\n",
    "    y_delta_en = np.array(df1.delta_en)\n",
    "    # Robustly fit linear model with RANSAC algorithm\n",
    "    ransac = linear_model.RANSACRegressor()\n",
    "    ransac.fit(X_energy, y_delta_en)\n",
    "    inlier_mask = ransac.inlier_mask_\n",
    "    outlier_mask = np.logical_not(inlier_mask)\n",
    "    df1[\"recalib_engy_ransac\"] = df1.engy_pk_det - ransac.predict(X_energy)\n",
    "    # cross_df[\"recalib_engy_ransac\"] = cross_df.engy_pk_det - ransac.predict(X_energy)\n",
    "\n",
    "    cross_df_2 = pd.merge(df1, right, how='cross', suffixes=('_x', None))\n",
    "    cross_df_2.drop(cross_df_2.filter(regex='_x$').columns, axis=1, inplace=True)\n",
    "    cross_df_2[\"new_delta_en\"] = cross_df_2.recalib_engy_ransac - cross_df_2.energy\n",
    "    df_result = pd.DataFrame(cross_df_2.loc [(np.abs(cross_df_2.new_delta_en) < en_toler_ident)] )\n",
    "    return left, right, df1, cross_df_2, df_result\n",
    "    # return cross_df_2"
   ],
   "metadata": {
    "collapsed": false
   }
  },
  {
   "cell_type": "code",
   "execution_count": 103,
   "outputs": [],
   "source": [
    "d1, d2, d3, d4, d5 = spec_engy_identif(\n",
    "    big_df, nucl_iear1_df, a_spec.channel_energy_calib.get_energy\n",
    ")"
   ],
   "metadata": {
    "collapsed": false
   }
  },
  {
   "cell_type": "code",
   "execution_count": 104,
   "outputs": [],
   "source": [
    "d1"
   ],
   "metadata": {
    "collapsed": false
   }
  },
  {
   "cell_type": "code",
   "execution_count": 105,
   "outputs": [],
   "source": [
    "d2"
   ],
   "metadata": {
    "collapsed": false
   }
  },
  {
   "cell_type": "code",
   "execution_count": 106,
   "outputs": [],
   "source": [
    "d3"
   ],
   "metadata": {
    "collapsed": false
   }
  },
  {
   "cell_type": "code",
   "execution_count": 107,
   "outputs": [],
   "source": [
    "d4"
   ],
   "metadata": {
    "collapsed": false
   }
  },
  {
   "cell_type": "code",
   "execution_count": 108,
   "outputs": [],
   "source": [
    "d5"
   ],
   "metadata": {
    "collapsed": false
   }
  },
  {
   "cell_type": "code",
   "execution_count": 109,
   "outputs": [],
   "source": [
    "d5.columns"
   ],
   "metadata": {
    "collapsed": false
   }
  },
  {
   "cell_type": "code",
   "execution_count": 110,
   "outputs": [],
   "source": [
    "# 2023-Jun-20: Cálculo das atividades"
   ],
   "metadata": {
    "collapsed": false
   }
  },
  {
   "cell_type": "code",
   "execution_count": 111,
   "outputs": [],
   "source": [
    "# Ver exatamente o que são esses elementos de Polynomial"
   ],
   "metadata": {
    "collapsed": false
   }
  },
  {
   "cell_type": "code",
   "execution_count": 112,
   "outputs": [],
   "source": [
    "# 2023-Jun-14\n",
    "# Loading calibration pkl file:\n",
    "calib_pkl_name = 'f100_gmx_2021.pkl'\n",
    "calib_df = pd.read_pickle(calib_pkl_name)\n",
    "calib_df"
   ],
   "metadata": {
    "collapsed": false
   }
  },
  {
   "cell_type": "code",
   "execution_count": 113,
   "outputs": [],
   "source": [
    "p_eff, _ = calib_df.effic_func[3]\n",
    "p_eff"
   ],
   "metadata": {
    "collapsed": false
   }
  },
  {
   "cell_type": "code",
   "execution_count": 114,
   "outputs": [],
   "source": [
    "def en_eff(engy):\n",
    "    return np.exp(p_eff(np.log(engy)))"
   ],
   "metadata": {
    "collapsed": false
   }
  },
  {
   "cell_type": "code",
   "execution_count": 115,
   "outputs": [],
   "source": [
    "en_eff(1332)"
   ],
   "metadata": {
    "collapsed": false
   }
  },
  {
   "cell_type": "code",
   "execution_count": 115,
   "outputs": [],
   "source": [],
   "metadata": {
    "collapsed": false
   }
  },
  {
   "cell_type": "code",
   "execution_count": 115,
   "outputs": [],
   "source": [
    "\n"
   ],
   "metadata": {
    "collapsed": false
   }
  },
  {
   "cell_type": "code",
   "execution_count": 115,
   "outputs": [],
   "source": [],
   "metadata": {
    "collapsed": false
   }
  },
  {
   "cell_type": "code",
   "execution_count": 116,
   "outputs": [],
   "source": [
    "d5"
   ],
   "metadata": {
    "collapsed": false
   }
  },
  {
   "cell_type": "code",
   "execution_count": 117,
   "outputs": [],
   "source": [
    "d5[\"disintegr\"] = d5.rough_sums / (en_eff(d5.energy) * 1e-4 * d5.intensity)"
   ],
   "metadata": {
    "collapsed": false
   }
  },
  {
   "cell_type": "code",
   "execution_count": 118,
   "outputs": [],
   "source": [
    "# 2023-Ago-02 Aparece a nova coluna \"disintegr\"\n",
    "d5"
   ],
   "metadata": {
    "collapsed": false
   }
  },
  {
   "cell_type": "code",
   "execution_count": 119,
   "outputs": [],
   "source": [
    "# d5_where = d5.where(d5.nuclide_name==\"110ag\")\n",
    "# d5_where\n",
    "d5_loc = d5.loc[(d5.nuclide_name==\"110ag\")]\n",
    "d5_loc"
   ],
   "metadata": {
    "collapsed": false
   }
  },
  {
   "cell_type": "code",
   "execution_count": 120,
   "outputs": [],
   "source": [
    "# 2023-Ago-4 PAREI AQUI. Fazer a indexação para o cálculo da atividade considerando a média das linhas de cada nuclídeo\n",
    "\n",
    "# https://pandas.pydata.org/pandas-docs/stable/user_guide/groupby.html#dataframe-column-selection-in-groupby\n",
    "# d5_grouped = d5.groupby(\"nuclide_name\")[['energy','intensity','centroids','rough_sums','variances','disintegr']]\n",
    "d5_grouped = d5.groupby(\"nuclide_name\")[['disintegr']]\n",
    "d5_grouped.mean()"
   ],
   "metadata": {
    "collapsed": false
   }
  },
  {
   "cell_type": "code",
   "execution_count": 121,
   "outputs": [],
   "source": [
    "d5"
   ],
   "metadata": {
    "collapsed": false
   }
  },
  {
   "cell_type": "code",
   "execution_count": 121,
   "outputs": [],
   "source": [],
   "metadata": {
    "collapsed": false
   }
  },
  {
   "cell_type": "code",
   "execution_count": 122,
   "outputs": [],
   "source": [
    "a_spec.lv_time"
   ],
   "metadata": {
    "collapsed": false
   }
  },
  {
   "cell_type": "code",
   "execution_count": 123,
   "outputs": [],
   "source": [
    "# Sample size (L, kg, g etc.)\n",
    "samp_size = 0.1"
   ],
   "metadata": {
    "collapsed": false
   }
  },
  {
   "cell_type": "code",
   "execution_count": 124,
   "outputs": [],
   "source": [
    "a_spec.sam_descr"
   ],
   "metadata": {
    "collapsed": false
   }
  },
  {
   "cell_type": "code",
   "execution_count": 125,
   "outputs": [],
   "source": [
    "a_spec.source_datetime"
   ],
   "metadata": {
    "collapsed": false
   }
  },
  {
   "cell_type": "code",
   "execution_count": 126,
   "outputs": [],
   "source": [
    "a_spec.start_datetime"
   ],
   "metadata": {
    "collapsed": false
   }
  },
  {
   "cell_type": "code",
   "execution_count": 126,
   "outputs": [],
   "source": [],
   "metadata": {
    "collapsed": false
   }
  },
  {
   "cell_type": "code",
   "execution_count": 127,
   "outputs": [],
   "source": [
    "# 2023-May-24\n",
    "# Implementing:\n",
    "#  - nuclide labels\n",
    "# https://plotly.com/python/text-and-annotations/\n",
    "#  - and energy search in pandas\n",
    "# https://stackoverflow.com/questions/63529555/get-list-of-occurrences-using-pandas"
   ],
   "metadata": {
    "collapsed": false
   }
  },
  {
   "cell_type": "code",
   "execution_count": 128,
   "outputs": [],
   "source": [
    "# counts_nzero_cps = counts_nzero / a_spec.lv_time\n",
    "# unc_y_cps = unc_y / a_spec.lv_time\n",
    "# fin_bl_cps = fin_bl / a_spec.lv_time\n",
    "# counts_cps = counts / a_spec.lv_time\n",
    "# en_kev_nzero = get_energy(chans_nzero)\n",
    "# en_kev = get_energy(chans)\n",
    "# peaks_net_kev = get_energy(peaks_net)"
   ],
   "metadata": {
    "collapsed": false
   }
  },
  {
   "cell_type": "code",
   "execution_count": 129,
   "outputs": [],
   "source": [
    "help(spec_engy_identif)"
   ],
   "metadata": {
    "collapsed": false
   }
  },
  {
   "cell_type": "code",
   "execution_count": 129,
   "outputs": [],
   "source": [],
   "metadata": {
    "collapsed": false
   }
  },
  {
   "cell_type": "code",
   "execution_count": 130,
   "outputs": [],
   "source": [
    "# 2023-Jun-13\n",
    "# PAREI AQUI\n",
    "# Trazer o trabalho feito em\n",
    "# radionuclide_analysis.ipynb e adaptar ao que está aqui\n",
    "# especialmente na identificaćão dos nucl[ideos\n",
    "\n",
    "# Depois, deletar radionuclide_analysis.ipynb."
   ],
   "metadata": {
    "collapsed": false
   }
  },
  {
   "cell_type": "code",
   "execution_count": 130,
   "outputs": [],
   "source": [],
   "metadata": {
    "collapsed": false
   }
  },
  {
   "cell_type": "code",
   "execution_count": 131,
   "outputs": [],
   "source": [
    "xdfgh rxfth rxthj rds"
   ],
   "metadata": {
    "collapsed": false
   }
  },
  {
   "cell_type": "code",
   "execution_count": null,
   "outputs": [],
   "source": [
    "df1 = pd.DataFrame(\n",
    "    {\n",
    "        \"A\": [\"A0\", \"A1\", \"A2\", \"A3\"],\n",
    "        \"B\": [\"B0\", \"B1\", \"B2\", \"B3\"],\n",
    "        \"C\": [\"C0\", \"C1\", \"C2\", \"C3\"],\n",
    "        \"D\": [\"D0\", \"D1\", \"D2\", \"D3\"],\n",
    "    },\n",
    "    index=[0, 1, 2, 3],\n",
    ")\n",
    "\n",
    "\n",
    "df2 = pd.DataFrame(\n",
    "    {\n",
    "        \"A\": [\"A4\", \"A5\", \"A6\", \"A7\"],\n",
    "        \"B\": [\"B4\", \"B5\", \"B6\", \"B7\"],\n",
    "        \"C\": [\"C4\", \"C5\", \"C6\", \"C7\"],\n",
    "        \"D\": [\"D4\", \"D5\", \"D6\", \"D7\"],\n",
    "    },\n",
    "    index=[4, 5, 6, 7],\n",
    ")\n",
    "\n",
    "\n",
    "df3 = pd.DataFrame(\n",
    "    {\n",
    "        \"A\": [\"A8\", \"A9\", \"A10\", \"A11\"],\n",
    "        \"B\": [\"B8\", \"B9\", \"B10\", \"B11\"],\n",
    "        \"C\": [\"C8\", \"C9\", \"C10\", \"C11\"],\n",
    "        \"D\": [\"D8\", \"D9\", \"D10\", \"D11\"],\n",
    "    },\n",
    "    index=[8, 9, 10, 11],\n",
    ")\n",
    "\n",
    "\n",
    "frames = [df1, df2, df3]\n",
    "\n",
    "result = pd.concat(frames)\n",
    "result"
   ],
   "metadata": {
    "collapsed": false
   }
  },
  {
   "cell_type": "code",
   "execution_count": null,
   "outputs": [],
   "source": [
    "result = pd.concat(frames, keys=[\"x\", \"y\", \"z\"])\n",
    "result"
   ],
   "metadata": {
    "collapsed": false
   }
  },
  {
   "cell_type": "code",
   "execution_count": null,
   "outputs": [],
   "source": [],
   "metadata": {
    "collapsed": false
   }
  },
  {
   "cell_type": "code",
   "execution_count": null,
   "outputs": [],
   "source": [],
   "metadata": {
    "collapsed": false
   }
  },
  {
   "cell_type": "code",
   "execution_count": null,
   "outputs": [],
   "source": [
    "# https://stackoverflow.com/questions/63529555"
   ],
   "metadata": {
    "collapsed": false
   }
  },
  {
   "cell_type": "code",
   "execution_count": null,
   "outputs": [],
   "source": [
    "animals = ['cat', 'dog', 'hamster', 'dolphin']"
   ],
   "metadata": {
    "collapsed": false
   }
  },
  {
   "cell_type": "code",
   "execution_count": null,
   "outputs": [],
   "source": [
    "df_animals_sets = pd.DataFrame(data={\n",
    "    'id': [1,2,3,4,5],\n",
    "    'animals': ['dog,cat','dog','cat,dolphin','cat,dog','hamster,dolphin']\n",
    "})\n",
    "df_animals_sets"
   ],
   "metadata": {
    "collapsed": false
   }
  },
  {
   "cell_type": "code",
   "execution_count": null,
   "outputs": [],
   "source": [
    "df = df_animals_sets\n",
    "df_final = (df.astype(str).assign(animals=df.animals.str.split(','))\n",
    "                          .explode('animals').groupby('animals').id.agg(','.join)\n",
    "                          .reset_index())\n",
    "df_final"
   ],
   "metadata": {
    "collapsed": false
   }
  },
  {
   "cell_type": "code",
   "execution_count": null,
   "outputs": [],
   "source": [],
   "metadata": {
    "collapsed": false
   }
  },
  {
   "cell_type": "code",
   "execution_count": null,
   "outputs": [],
   "source": [
    "# The End"
   ],
   "metadata": {
    "collapsed": false
   }
  }
 ],
 "metadata": {
  "kernelspec": {
   "display_name": "Python 3 (ipykernel)",
   "language": "python",
   "name": "python3"
  },
  "language_info": {
   "codemirror_mode": {
    "name": "ipython",
    "version": 3
   },
   "file_extension": ".py",
   "mimetype": "text/x-python",
   "name": "python",
   "nbconvert_exporter": "python",
   "pygments_lexer": "ipython3",
   "version": "3.11.2"
  }
 },
 "nbformat": 4,
 "nbformat_minor": 1
}
