{
 "cells": [
  {
   "cell_type": "code",
   "execution_count": 1,
   "outputs": [],
   "source": [
    "\n",
    "# 2022-Dez-21:\n",
    "# PAREI AQUI;\n",
    "# Usar os resultados de áreas dos picos e montar as curvas de eficiência\n",
    "\n",
    "# 2022-Mar-16\n",
    "# Fazendo ajuste polinomial nas eficiências:"
   ],
   "metadata": {
    "collapsed": false,
    "ExecuteTime": {
     "end_time": "2023-06-14T14:55:42.747311702Z",
     "start_time": "2023-06-14T14:55:41.822572552Z"
    }
   }
  },
  {
   "cell_type": "code",
   "execution_count": 2,
   "outputs": [],
   "source": [
    "import numpy as np\n",
    "from numpy.polynomial import Polynomial as P  # 2020-09-06 Current recommended class\n",
    "from scipy import linalg\n",
    "import pandas as pd"
   ],
   "metadata": {
    "collapsed": false,
    "ExecuteTime": {
     "end_time": "2023-06-14T14:55:43.199271597Z",
     "start_time": "2023-06-14T14:55:41.842429201Z"
    }
   }
  },
  {
   "cell_type": "code",
   "execution_count": 3,
   "outputs": [],
   "source": [
    "En_CV_LoBg = np.array([81.00,\n",
    "86.54,\n",
    "121.78,\n",
    "133.51,\n",
    "302.85,\n",
    "344.28,\n",
    "356.02,\n",
    "604.69,\n",
    "661.66,\n",
    "795.84,\n",
    "964.13,\n",
    "1085.91,\n",
    "1112.12,\n",
    "1173.24,\n",
    "1332.50,\n",
    "1408.01\n",
    "])\n",
    "# En_CV_GMX"
   ],
   "metadata": {
    "collapsed": false,
    "ExecuteTime": {
     "end_time": "2023-06-14T14:55:43.216143855Z",
     "start_time": "2023-06-14T14:55:42.636829667Z"
    }
   }
  },
  {
   "cell_type": "code",
   "execution_count": 4,
   "outputs": [
    {
     "data": {
      "text/plain": "array([4.4358, 4.4723, 5.4386, 5.5045, 3.1379, 2.8722, 2.7305, 1.7817,\n       1.6453, 1.4026, 1.1216, 1.02  , 0.9703, 0.8962, 0.8009, 0.7397])"
     },
     "execution_count": 4,
     "metadata": {},
     "output_type": "execute_result"
    }
   ],
   "source": [
    "Eff_CV_LoBg = np.array([4.4358,\n",
    "4.4723,\n",
    "5.4386,\n",
    "5.5045,\n",
    "3.1379,\n",
    "2.8722,\n",
    "2.7305,\n",
    "1.7817,\n",
    "1.6453,\n",
    "1.4026,\n",
    "1.1216,\n",
    "1.0200,\n",
    "0.9703,\n",
    "0.8962,\n",
    "0.8009,\n",
    "0.7397 ])\n",
    "# Eff_CV_GMX\n",
    "Eff_CV_LoBg"
   ],
   "metadata": {
    "collapsed": false,
    "ExecuteTime": {
     "end_time": "2023-06-14T14:55:43.216639506Z",
     "start_time": "2023-06-14T14:55:42.648619073Z"
    }
   }
  },
  {
   "cell_type": "code",
   "execution_count": 5,
   "outputs": [
    {
     "data": {
      "text/plain": "array([2.01, 1.43, 1.33, 2.11, 1.81, 1.42, 1.41, 2.24, 1.44, 3.68, 1.66,\n       1.71, 1.58, 0.87, 0.87, 1.51])"
     },
     "execution_count": 5,
     "metadata": {},
     "output_type": "execute_result"
    }
   ],
   "source": [
    "unc_perc = np.array([2.01,\n",
    "1.43,\n",
    "1.33,\n",
    "2.11,\n",
    "1.81,\n",
    "1.42,\n",
    "1.41,\n",
    "2.24,\n",
    "1.44,\n",
    "3.68,\n",
    "1.66,\n",
    "1.71,\n",
    "1.58,\n",
    "0.87,\n",
    "0.87,\n",
    "1.51 ])\n",
    "unc_perc"
   ],
   "metadata": {
    "collapsed": false,
    "ExecuteTime": {
     "end_time": "2023-06-14T14:55:43.216994912Z",
     "start_time": "2023-06-14T14:55:42.811786460Z"
    }
   }
  },
  {
   "cell_type": "code",
   "execution_count": 6,
   "outputs": [],
   "source": [
    "ln_En_CV_LoBg = np.log (En_CV_LoBg)\n",
    "ln_Eff_CV_LoBg = np.log (Eff_CV_LoBg)"
   ],
   "metadata": {
    "collapsed": false,
    "ExecuteTime": {
     "end_time": "2023-06-14T14:55:43.217798693Z",
     "start_time": "2023-06-14T14:55:42.897990620Z"
    }
   }
  },
  {
   "cell_type": "code",
   "execution_count": 7,
   "outputs": [],
   "source": [
    "N = 16"
   ],
   "metadata": {
    "collapsed": false,
    "ExecuteTime": {
     "end_time": "2023-06-14T14:55:43.218799606Z",
     "start_time": "2023-06-14T14:55:43.022377721Z"
    }
   }
  },
  {
   "cell_type": "code",
   "execution_count": 7,
   "outputs": [],
   "source": [],
   "metadata": {
    "collapsed": false,
    "ExecuteTime": {
     "end_time": "2023-06-14T14:55:43.218988553Z",
     "start_time": "2023-06-14T14:55:43.098201868Z"
    }
   }
  },
  {
   "cell_type": "code",
   "execution_count": 8,
   "outputs": [],
   "source": [
    "# 2022-Mar-23\n",
    "# Parêntese para fazer nova calibração canal-energia do HPGe do projeto:"
   ],
   "metadata": {
    "collapsed": false,
    "ExecuteTime": {
     "end_time": "2023-06-14T14:55:43.219103854Z",
     "start_time": "2023-06-14T14:55:43.138435274Z"
    }
   }
  },
  {
   "cell_type": "code",
   "execution_count": 9,
   "outputs": [],
   "source": [
    "canal = np.array([210, 920, 1181, 7232])\n",
    "ener = np.array([46.5, 186, 238.6, 1460.8])"
   ],
   "metadata": {
    "collapsed": false,
    "ExecuteTime": {
     "end_time": "2023-06-14T14:55:43.287283209Z",
     "start_time": "2023-06-14T14:55:43.186171250Z"
    }
   }
  },
  {
   "cell_type": "code",
   "execution_count": 10,
   "outputs": [
    {
     "data": {
      "text/plain": "Polynomial([1.76334373, 0.20170247], domain=[-1.,  1.], window=[-1.,  1.])",
      "text/latex": "$x \\mapsto \\text{1.7633437259737548} + \\text{0.2017024651677779}\\,x$"
     },
     "execution_count": 10,
     "metadata": {},
     "output_type": "execute_result"
    }
   ],
   "source": [
    "projeto = P.fit(x=canal, y=ener, deg=1).convert()\n",
    "projeto"
   ],
   "metadata": {
    "collapsed": false,
    "ExecuteTime": {
     "end_time": "2023-06-14T14:55:43.376046677Z",
     "start_time": "2023-06-14T14:55:43.275217122Z"
    }
   }
  },
  {
   "cell_type": "code",
   "execution_count": 11,
   "outputs": [
    {
     "data": {
      "text/plain": "Polynomial([-8.72487544,  4.95776153], domain=[-1.,  1.], window=[-1.,  1.])",
      "text/latex": "$x \\mapsto \\text{-8.724875443193014} + \\text{4.957761531017533}\\,x$"
     },
     "execution_count": 11,
     "metadata": {},
     "output_type": "execute_result"
    }
   ],
   "source": [
    "projeto_ener_canal = P.fit(x=ener, y=canal, deg=1).convert()\n",
    "projeto_ener_canal"
   ],
   "metadata": {
    "collapsed": false,
    "ExecuteTime": {
     "end_time": "2023-06-14T14:55:43.466228162Z",
     "start_time": "2023-06-14T14:55:43.365792307Z"
    }
   }
  },
  {
   "cell_type": "code",
   "execution_count": 12,
   "outputs": [
    {
     "data": {
      "text/plain": "5807.720952746577"
     },
     "execution_count": 12,
     "metadata": {},
     "output_type": "execute_result"
    }
   ],
   "source": [
    "projeto_ener_canal(1173.2)"
   ],
   "metadata": {
    "collapsed": false,
    "ExecuteTime": {
     "end_time": "2023-06-14T14:55:43.530353236Z",
     "start_time": "2023-06-14T14:55:43.454353613Z"
    }
   }
  },
  {
   "cell_type": "code",
   "execution_count": 13,
   "outputs": [
    {
     "data": {
      "text/plain": "6597.422955976235"
     },
     "execution_count": 13,
     "metadata": {},
     "output_type": "execute_result"
    }
   ],
   "source": [
    "projeto_ener_canal(1332.486)"
   ],
   "metadata": {
    "collapsed": false,
    "ExecuteTime": {
     "end_time": "2023-06-14T14:55:43.748613638Z",
     "start_time": "2023-06-14T14:55:43.531263739Z"
    }
   }
  },
  {
   "cell_type": "code",
   "execution_count": 13,
   "outputs": [],
   "source": [],
   "metadata": {
    "collapsed": false,
    "ExecuteTime": {
     "end_time": "2023-06-14T14:55:43.780080785Z",
     "start_time": "2023-06-14T14:55:43.699274916Z"
    }
   }
  },
  {
   "cell_type": "code",
   "execution_count": 13,
   "outputs": [],
   "source": [],
   "metadata": {
    "collapsed": false,
    "ExecuteTime": {
     "end_time": "2023-06-14T14:55:43.780407219Z",
     "start_time": "2023-06-14T14:55:43.699561940Z"
    }
   }
  },
  {
   "cell_type": "code",
   "execution_count": 13,
   "outputs": [],
   "source": [],
   "metadata": {
    "collapsed": false,
    "ExecuteTime": {
     "end_time": "2023-06-14T14:55:43.780592810Z",
     "start_time": "2023-06-14T14:55:43.700303436Z"
    }
   }
  },
  {
   "cell_type": "code",
   "execution_count": 14,
   "outputs": [
    {
     "data": {
      "text/plain": "Polynomial([-3.72705775e+02,  3.00500400e+02, -9.55264764e+01,  1.50658279e+01,\n       -1.18096853e+00,  3.67654984e-02], domain=[-1.,  1.], window=[-1.,  1.])",
      "text/latex": "$x \\mapsto \\text{-372.7057747918591} + \\text{300.5003999729721}\\,x - \\text{95.52647638150457}\\,x^{2} + \\text{15.0658278715925}\\,x^{3} - \\text{1.1809685254174458}\\,x^{4} + \\text{0.03676549844198257}\\,x^{5}$"
     },
     "execution_count": 14,
     "metadata": {},
     "output_type": "execute_result"
    }
   ],
   "source": [
    "P.fit(x=ln_En_CV_LoBg, y=ln_Eff_CV_LoBg, deg=5).convert()"
   ],
   "metadata": {
    "collapsed": false,
    "ExecuteTime": {
     "end_time": "2023-06-14T14:55:43.782251530Z",
     "start_time": "2023-06-14T14:55:43.700567176Z"
    }
   }
  },
  {
   "cell_type": "code",
   "execution_count": 15,
   "outputs": [
    {
     "data": {
      "text/plain": "Polynomial([-4.52692893e+02,  3.72137803e+02, -1.21021144e+02,  1.95714003e+01,\n       -1.57632172e+00,  5.05446265e-02], domain=[-1.,  1.], window=[-1.,  1.])",
      "text/latex": "$x \\mapsto \\text{-452.69289329678674} + \\text{372.13780303634064}\\,x - \\text{121.02114391480691}\\,x^{2} + \\text{19.57140033423393}\\,x^{3} - \\text{1.5763217238947707}\\,x^{4} + \\text{0.05054462649569031}\\,x^{5}$"
     },
     "execution_count": 15,
     "metadata": {},
     "output_type": "execute_result"
    }
   ],
   "source": [
    "poly_w = P.fit(x=ln_En_CV_LoBg, y=ln_Eff_CV_LoBg, deg=5, w=1/unc_perc).convert()\n",
    "poly_w"
   ],
   "metadata": {
    "collapsed": false,
    "ExecuteTime": {
     "end_time": "2023-06-14T14:55:43.916466767Z",
     "start_time": "2023-06-14T14:55:43.761046142Z"
    }
   }
  },
  {
   "cell_type": "code",
   "execution_count": 16,
   "outputs": [
    {
     "data": {
      "text/plain": "Polynomial([-5.90700260e+02,  4.94985076e+02, -1.64443537e+02,  2.71891133e+01,\n       -2.23961917e+00,  7.34793811e-02], domain=[-1.,  1.], window=[-1.,  1.])",
      "text/latex": "$x \\mapsto \\text{-590.7002599657337} + \\text{494.98507553765165}\\,x - \\text{164.44353702411448}\\,x^{2} + \\text{27.18911329928743}\\,x^{3} - \\text{2.239619171069574}\\,x^{4} + \\text{0.07347938107242347}\\,x^{5}$"
     },
     "execution_count": 16,
     "metadata": {},
     "output_type": "execute_result"
    }
   ],
   "source": [
    "poly_w = P.fit(x=ln_En_CV_LoBg, y=ln_Eff_CV_LoBg, deg=5, w=1/unc_perc**2).convert()\n",
    "poly_w"
   ],
   "metadata": {
    "collapsed": false,
    "ExecuteTime": {
     "end_time": "2023-06-14T14:55:44.024628732Z",
     "start_time": "2023-06-14T14:55:43.868978552Z"
    }
   }
  },
  {
   "cell_type": "code",
   "execution_count": 17,
   "outputs": [
    {
     "name": "stdout",
     "output_type": "stream",
     "text": [
      "-590.7002599657337 + 494.98507553765165·x¹ - 164.44353702411448·x² +\n",
      "27.18911329928743·x³ - 2.239619171069574·x⁴ + 0.07347938107242347·x⁵\n"
     ]
    }
   ],
   "source": [
    "print(poly_w)"
   ],
   "metadata": {
    "collapsed": false,
    "ExecuteTime": {
     "end_time": "2023-06-14T14:55:44.070551376Z",
     "start_time": "2023-06-14T14:55:43.961306532Z"
    }
   }
  },
  {
   "cell_type": "code",
   "execution_count": 18,
   "outputs": [
    {
     "name": "stdout",
     "output_type": "stream",
     "text": [
      "2.8983277899894047 - 3.6672204305624962·x¹ + 2.131490769929572·x² +\n",
      "0.7157445482058078·x³ - 2.5321988401161253·x⁴ + 1.1796094492773173·x⁵\n"
     ]
    }
   ],
   "source": [
    "poly_o = P.fit(x=ln_En_CV_LoBg, y=Eff_CV_LoBg, deg=5)\n",
    "print(poly_o)"
   ],
   "metadata": {
    "collapsed": false,
    "ExecuteTime": {
     "end_time": "2023-06-14T14:55:44.157666304Z",
     "start_time": "2023-06-14T14:55:44.046448373Z"
    }
   }
  },
  {
   "cell_type": "code",
   "execution_count": 19,
   "outputs": [],
   "source": [
    "# 2023-Jun-14 O que será isso???\n",
    "# weights = np.linspace(1, 2, N)\n",
    "# Xw = X * np.sqrt(weights)[:, None]\n",
    "# yw = y * np.sqrt(weights)\n",
    "# print (linalg.lstsq(Xw, yw)[0])"
   ],
   "metadata": {
    "collapsed": false,
    "ExecuteTime": {
     "end_time": "2023-06-14T14:55:44.273871757Z",
     "start_time": "2023-06-14T14:55:44.138627590Z"
    }
   }
  },
  {
   "cell_type": "code",
   "execution_count": 20,
   "outputs": [
    {
     "data": {
      "text/plain": "array([0.24751863, 0.48902147, 0.56532308, 0.2246131 , 0.30524099,\n       0.49593335, 0.50299281, 0.19929847, 0.48225309, 0.07384216,\n       0.36289737, 0.34198557, 0.40057683, 1.32117849, 1.32117849,\n       0.43857726])"
     },
     "execution_count": 20,
     "metadata": {},
     "output_type": "execute_result"
    }
   ],
   "source": [
    "weights = 1.0 / unc_perc**2.0\n",
    "weights"
   ],
   "metadata": {
    "collapsed": false,
    "ExecuteTime": {
     "end_time": "2023-06-14T14:55:44.448910787Z",
     "start_time": "2023-06-14T14:55:44.266810387Z"
    }
   }
  },
  {
   "cell_type": "code",
   "execution_count": 21,
   "outputs": [
    {
     "name": "stdout",
     "output_type": "stream",
     "text": [
      "[0.00337051 0.00342126 0.00368327 0.0037538  0.00438202 0.00448036\n",
      " 0.00450608 0.00491238 0.00498143 0.00512306 0.00527019 0.00536142\n",
      " 0.00537971 0.00542075 0.00551838 0.00556065]\n"
     ]
    }
   ],
   "source": [
    "Xw = ln_En_CV_LoBg * np.sqrt(weights)[:, None]\n",
    "yw = ln_Eff_CV_LoBg * np.sqrt(weights)\n",
    "print (linalg.lstsq(Xw, yw)[0])"
   ],
   "metadata": {
    "collapsed": false,
    "ExecuteTime": {
     "end_time": "2023-06-14T14:55:44.510834397Z",
     "start_time": "2023-06-14T14:55:44.418382143Z"
    }
   }
  },
  {
   "cell_type": "code",
   "execution_count": 22,
   "outputs": [
    {
     "name": "stdout",
     "output_type": "stream",
     "text": [
      "(array([0.00337051, 0.00342126, 0.00368327, 0.0037538 , 0.00438202,\n",
      "       0.00448036, 0.00450608, 0.00491238, 0.00498143, 0.00512306,\n",
      "       0.00527019, 0.00536142, 0.00537971, 0.00542075, 0.00551838,\n",
      "       0.00556065]), array([], dtype=float64), 1, array([6.91304330e+01, 6.05929133e-15, 2.21553298e-15, 1.22736274e-15,\n",
      "       9.44309798e-16, 8.59406481e-16, 6.73580396e-16, 6.08139955e-16,\n",
      "       5.24981506e-16, 4.48117405e-16, 3.41109468e-16, 2.22575532e-16,\n",
      "       2.00091774e-16, 1.41251642e-16, 3.40414085e-17, 1.99405749e-32]))\n"
     ]
    }
   ],
   "source": [
    "print (linalg.lstsq(Xw, yw))"
   ],
   "metadata": {
    "collapsed": false,
    "ExecuteTime": {
     "end_time": "2023-06-14T14:55:44.579139913Z",
     "start_time": "2023-06-14T14:55:44.466812765Z"
    }
   }
  },
  {
   "cell_type": "code",
   "execution_count": 23,
   "outputs": [],
   "source": [
    "# 2023-Jun-14 Não sei o que é isso também...\n",
    "# X = ln_En_CV_LoBg\n",
    "# y = ln_Eff_CV_LoBg\n",
    "# w1 = linalg.lstsq(X, y)\n",
    "# print (w1)"
   ],
   "metadata": {
    "collapsed": false,
    "ExecuteTime": {
     "end_time": "2023-06-14T14:55:44.659144566Z",
     "start_time": "2023-06-14T14:55:44.559178481Z"
    }
   }
  },
  {
   "cell_type": "code",
   "execution_count": 24,
   "outputs": [
    {
     "data": {
      "text/plain": "0.6931471805599453"
     },
     "execution_count": 24,
     "metadata": {},
     "output_type": "execute_result"
    }
   ],
   "source": [
    "np.log(2)"
   ],
   "metadata": {
    "collapsed": false,
    "ExecuteTime": {
     "end_time": "2023-06-14T14:55:44.744505554Z",
     "start_time": "2023-06-14T14:55:44.644254083Z"
    }
   }
  },
  {
   "cell_type": "code",
   "execution_count": 24,
   "outputs": [],
   "source": [],
   "metadata": {
    "collapsed": false,
    "ExecuteTime": {
     "end_time": "2023-06-14T14:55:44.795426784Z",
     "start_time": "2023-06-14T14:55:44.774321683Z"
    }
   }
  },
  {
   "cell_type": "code",
   "execution_count": 25,
   "outputs": [],
   "source": [
    "# Now, we can insert the counting efficiency function:"
   ],
   "metadata": {
    "collapsed": false,
    "ExecuteTime": {
     "end_time": "2023-06-14T14:55:44.872037859Z",
     "start_time": "2023-06-14T14:55:44.774659086Z"
    }
   }
  },
  {
   "cell_type": "code",
   "execution_count": 26,
   "outputs": [],
   "source": [
    "# Curva de eficiência para frasco F100 do GMX (2021):\n",
    "# Arquivo Effic_F100_GMX_2021.ods construído a partir de\n",
    "# Nextcloud\\Ipen\\Radiometria\\2021_Curvas-efic_Bessa\\F100 GMX_2021.pdf"
   ],
   "metadata": {
    "collapsed": false,
    "ExecuteTime": {
     "end_time": "2023-06-14T14:55:44.936722293Z",
     "start_time": "2023-06-14T14:55:44.842316814Z"
    }
   }
  },
  {
   "cell_type": "code",
   "execution_count": 62,
   "outputs": [
    {
     "data": {
      "text/plain": "       Engy   Effic  sEffic\n0     59.54  6.4299    3.61\n1     81.00  5.6528    3.61\n2    276.40  1.6306    3.61\n3    302.85  1.5006    3.61\n4    356.02  1.4023    3.61\n5    383.85  1.3216    3.61\n6    604.69  0.9112    3.61\n7    661.66  0.7900    3.61\n8    795.84  0.7000    3.61\n9   1155.00  0.5916    0.01\n10  1173.24  0.5513    3.61\n11  1332.50  0.5053    3.61",
      "text/html": "<div>\n<style scoped>\n    .dataframe tbody tr th:only-of-type {\n        vertical-align: middle;\n    }\n\n    .dataframe tbody tr th {\n        vertical-align: top;\n    }\n\n    .dataframe thead th {\n        text-align: right;\n    }\n</style>\n<table border=\"1\" class=\"dataframe\">\n  <thead>\n    <tr style=\"text-align: right;\">\n      <th></th>\n      <th>Engy</th>\n      <th>Effic</th>\n      <th>sEffic</th>\n    </tr>\n  </thead>\n  <tbody>\n    <tr>\n      <th>0</th>\n      <td>59.54</td>\n      <td>6.4299</td>\n      <td>3.61</td>\n    </tr>\n    <tr>\n      <th>1</th>\n      <td>81.00</td>\n      <td>5.6528</td>\n      <td>3.61</td>\n    </tr>\n    <tr>\n      <th>2</th>\n      <td>276.40</td>\n      <td>1.6306</td>\n      <td>3.61</td>\n    </tr>\n    <tr>\n      <th>3</th>\n      <td>302.85</td>\n      <td>1.5006</td>\n      <td>3.61</td>\n    </tr>\n    <tr>\n      <th>4</th>\n      <td>356.02</td>\n      <td>1.4023</td>\n      <td>3.61</td>\n    </tr>\n    <tr>\n      <th>5</th>\n      <td>383.85</td>\n      <td>1.3216</td>\n      <td>3.61</td>\n    </tr>\n    <tr>\n      <th>6</th>\n      <td>604.69</td>\n      <td>0.9112</td>\n      <td>3.61</td>\n    </tr>\n    <tr>\n      <th>7</th>\n      <td>661.66</td>\n      <td>0.7900</td>\n      <td>3.61</td>\n    </tr>\n    <tr>\n      <th>8</th>\n      <td>795.84</td>\n      <td>0.7000</td>\n      <td>3.61</td>\n    </tr>\n    <tr>\n      <th>9</th>\n      <td>1155.00</td>\n      <td>0.5916</td>\n      <td>0.01</td>\n    </tr>\n    <tr>\n      <th>10</th>\n      <td>1173.24</td>\n      <td>0.5513</td>\n      <td>3.61</td>\n    </tr>\n    <tr>\n      <th>11</th>\n      <td>1332.50</td>\n      <td>0.5053</td>\n      <td>3.61</td>\n    </tr>\n  </tbody>\n</table>\n</div>"
     },
     "execution_count": 62,
     "metadata": {},
     "output_type": "execute_result"
    }
   ],
   "source": [
    "# 2023-Mar-21\n",
    "# Lendo curva de eficiência\n",
    "eff_F100_GMX_2021_df = pd.read_excel('../data/Effic_F100_GMX_2021.ods')\n",
    "effics_df = eff_F100_GMX_2021_df\n",
    "effics_df"
   ],
   "metadata": {
    "collapsed": false,
    "ExecuteTime": {
     "end_time": "2023-06-14T16:06:31.657079732Z",
     "start_time": "2023-06-14T16:06:31.601922328Z"
    }
   }
  },
  {
   "cell_type": "code",
   "execution_count": 63,
   "outputs": [],
   "source": [
    "p_eff_log = P.fit(np.log(effics_df.Engy),\n",
    "                  np.log(effics_df.Effic),\n",
    "                  full=True,\n",
    "                  w = 1/effics_df.sEffic, deg=5)\n",
    "def p_eff(en):\n",
    "    return np.exp(p_eff_log[0](np.log(en)))"
   ],
   "metadata": {
    "collapsed": false,
    "ExecuteTime": {
     "end_time": "2023-06-14T16:06:34.871532250Z",
     "start_time": "2023-06-14T16:06:34.844417805Z"
    }
   }
  },
  {
   "cell_type": "code",
   "execution_count": 64,
   "outputs": [
    {
     "data": {
      "text/plain": "(Polynomial([ 0.51104917, -1.54282532,  0.42082601,  0.36310567, -0.3132035 ,\n        -0.06636575], domain=[4.08664836, 7.19481216], window=[-1.,  1.]),\n [array([0.00174484]),\n  6,\n  array([2.44946008e+00, 1.04967799e-02, 5.50802223e-03, 2.01458065e-03,\n         8.07092181e-04, 2.92462463e-04]),\n  2.6645352591003757e-15])"
     },
     "execution_count": 64,
     "metadata": {},
     "output_type": "execute_result"
    }
   ],
   "source": [
    "p_eff_log"
   ],
   "metadata": {
    "collapsed": false,
    "ExecuteTime": {
     "end_time": "2023-06-14T16:06:36.796003943Z",
     "start_time": "2023-06-14T16:06:36.685143704Z"
    }
   }
  },
  {
   "cell_type": "code",
   "execution_count": 65,
   "outputs": [
    {
     "data": {
      "text/plain": "0     6.454368\n1     5.607742\n2     1.698686\n3     1.552736\n4     1.335262\n5     1.249593\n6     0.884475\n7     0.834158\n8     0.744488\n9     0.591599\n10    0.585366\n11    0.533971\nName: Engy, dtype: float64"
     },
     "execution_count": 65,
     "metadata": {},
     "output_type": "execute_result"
    }
   ],
   "source": [
    "p_eff(effics_df.Engy)"
   ],
   "metadata": {
    "collapsed": false,
    "ExecuteTime": {
     "end_time": "2023-06-14T16:06:38.258091651Z",
     "start_time": "2023-06-14T16:06:38.224979674Z"
    }
   }
  },
  {
   "cell_type": "code",
   "execution_count": 66,
   "outputs": [
    {
     "data": {
      "text/plain": "Polynomial([ 47.00339024, -28.21798773,   5.7295277 ,  -0.38845885], domain=[-1,  1], window=[-1,  1])",
      "text/latex": "$x \\mapsto \\text{47.0033902423} - \\text{28.217987731}\\,x + \\text{5.72952770082}\\,x^{2} - \\text{0.388458849293}\\,x^{3}$"
     },
     "execution_count": 66,
     "metadata": {},
     "output_type": "execute_result"
    }
   ],
   "source": [
    "log_unc_fitted_effic = P([4.70033902423E+01, -2.82179877310E+01, 5.72952770082E+00, -3.88458849293E-01])\n",
    "log_unc_fitted_effic"
   ],
   "metadata": {
    "collapsed": false,
    "ExecuteTime": {
     "end_time": "2023-06-14T16:06:43.449291Z",
     "start_time": "2023-06-14T16:06:43.366292726Z"
    }
   }
  },
  {
   "cell_type": "code",
   "execution_count": 67,
   "outputs": [
    {
     "data": {
      "text/plain": "0     2.366059\n1     1.972769\n2     1.533736\n3     1.437744\n4     1.233116\n5     1.126118\n6     0.470105\n7     0.365696\n8     0.198657\n9     0.037309\n10    0.034281\n11    0.016454\nName: Engy, dtype: float64"
     },
     "execution_count": 67,
     "metadata": {},
     "output_type": "execute_result"
    }
   ],
   "source": [
    "# Incerteza percentual da curva F100_GMX_2021 para os valores de eficiência\n",
    "# Os coeficientes foram tirados do InterWinner e a curva reconstruída aqui.\n",
    "unc_perc_fitted_effic = np.exp(log_unc_fitted_effic(np.log(effics_df.Engy)))\n",
    "unc_perc_fitted_effic"
   ],
   "metadata": {
    "collapsed": false,
    "ExecuteTime": {
     "end_time": "2023-06-14T16:06:44.542495816Z",
     "start_time": "2023-06-14T16:06:44.434262061Z"
    }
   }
  },
  {
   "cell_type": "code",
   "execution_count": 67,
   "outputs": [],
   "source": [],
   "metadata": {
    "collapsed": false,
    "ExecuteTime": {
     "end_time": "2023-06-14T16:06:45.911538386Z",
     "start_time": "2023-06-14T16:06:45.885644072Z"
    }
   }
  },
  {
   "cell_type": "code",
   "execution_count": 68,
   "outputs": [
    {
     "data": {
      "text/plain": "       Engy   Effic  sEffic\n0     59.54  6.4299    3.61\n1     81.00  5.6528    3.61\n2    276.40  1.6306    3.61\n3    302.85  1.5006    3.61\n4    356.02  1.4023    3.61\n5    383.85  1.3216    3.61\n6    604.69  0.9112    3.61\n7    661.66  0.7900    3.61\n8    795.84  0.7000    3.61\n9   1155.00  0.5916    0.01\n10  1173.24  0.5513    3.61\n11  1332.50  0.5053    3.61",
      "text/html": "<div>\n<style scoped>\n    .dataframe tbody tr th:only-of-type {\n        vertical-align: middle;\n    }\n\n    .dataframe tbody tr th {\n        vertical-align: top;\n    }\n\n    .dataframe thead th {\n        text-align: right;\n    }\n</style>\n<table border=\"1\" class=\"dataframe\">\n  <thead>\n    <tr style=\"text-align: right;\">\n      <th></th>\n      <th>Engy</th>\n      <th>Effic</th>\n      <th>sEffic</th>\n    </tr>\n  </thead>\n  <tbody>\n    <tr>\n      <th>0</th>\n      <td>59.54</td>\n      <td>6.4299</td>\n      <td>3.61</td>\n    </tr>\n    <tr>\n      <th>1</th>\n      <td>81.00</td>\n      <td>5.6528</td>\n      <td>3.61</td>\n    </tr>\n    <tr>\n      <th>2</th>\n      <td>276.40</td>\n      <td>1.6306</td>\n      <td>3.61</td>\n    </tr>\n    <tr>\n      <th>3</th>\n      <td>302.85</td>\n      <td>1.5006</td>\n      <td>3.61</td>\n    </tr>\n    <tr>\n      <th>4</th>\n      <td>356.02</td>\n      <td>1.4023</td>\n      <td>3.61</td>\n    </tr>\n    <tr>\n      <th>5</th>\n      <td>383.85</td>\n      <td>1.3216</td>\n      <td>3.61</td>\n    </tr>\n    <tr>\n      <th>6</th>\n      <td>604.69</td>\n      <td>0.9112</td>\n      <td>3.61</td>\n    </tr>\n    <tr>\n      <th>7</th>\n      <td>661.66</td>\n      <td>0.7900</td>\n      <td>3.61</td>\n    </tr>\n    <tr>\n      <th>8</th>\n      <td>795.84</td>\n      <td>0.7000</td>\n      <td>3.61</td>\n    </tr>\n    <tr>\n      <th>9</th>\n      <td>1155.00</td>\n      <td>0.5916</td>\n      <td>0.01</td>\n    </tr>\n    <tr>\n      <th>10</th>\n      <td>1173.24</td>\n      <td>0.5513</td>\n      <td>3.61</td>\n    </tr>\n    <tr>\n      <th>11</th>\n      <td>1332.50</td>\n      <td>0.5053</td>\n      <td>3.61</td>\n    </tr>\n  </tbody>\n</table>\n</div>"
     },
     "execution_count": 68,
     "metadata": {},
     "output_type": "execute_result"
    }
   ],
   "source": [
    "effics_df"
   ],
   "metadata": {
    "collapsed": false,
    "ExecuteTime": {
     "end_time": "2023-06-14T16:06:46.640218445Z",
     "start_time": "2023-06-14T16:06:46.586313777Z"
    }
   }
  },
  {
   "cell_type": "code",
   "execution_count": 70,
   "outputs": [
    {
     "data": {
      "text/plain": "       Engy   Effic  sEffic  effic_func\n0     59.54  6.4299    3.61         743\n1     81.00  5.6528    3.61         743\n2    276.40  1.6306    3.61         743\n3    302.85  1.5006    3.61         743\n4    356.02  1.4023    3.61         743\n5    383.85  1.3216    3.61         743\n6    604.69  0.9112    3.61         743\n7    661.66  0.7900    3.61         743\n8    795.84  0.7000    3.61         743\n9   1155.00  0.5916    0.01         743\n10  1173.24  0.5513    3.61         743\n11  1332.50  0.5053    3.61         743",
      "text/html": "<div>\n<style scoped>\n    .dataframe tbody tr th:only-of-type {\n        vertical-align: middle;\n    }\n\n    .dataframe tbody tr th {\n        vertical-align: top;\n    }\n\n    .dataframe thead th {\n        text-align: right;\n    }\n</style>\n<table border=\"1\" class=\"dataframe\">\n  <thead>\n    <tr style=\"text-align: right;\">\n      <th></th>\n      <th>Engy</th>\n      <th>Effic</th>\n      <th>sEffic</th>\n      <th>effic_func</th>\n    </tr>\n  </thead>\n  <tbody>\n    <tr>\n      <th>0</th>\n      <td>59.54</td>\n      <td>6.4299</td>\n      <td>3.61</td>\n      <td>743</td>\n    </tr>\n    <tr>\n      <th>1</th>\n      <td>81.00</td>\n      <td>5.6528</td>\n      <td>3.61</td>\n      <td>743</td>\n    </tr>\n    <tr>\n      <th>2</th>\n      <td>276.40</td>\n      <td>1.6306</td>\n      <td>3.61</td>\n      <td>743</td>\n    </tr>\n    <tr>\n      <th>3</th>\n      <td>302.85</td>\n      <td>1.5006</td>\n      <td>3.61</td>\n      <td>743</td>\n    </tr>\n    <tr>\n      <th>4</th>\n      <td>356.02</td>\n      <td>1.4023</td>\n      <td>3.61</td>\n      <td>743</td>\n    </tr>\n    <tr>\n      <th>5</th>\n      <td>383.85</td>\n      <td>1.3216</td>\n      <td>3.61</td>\n      <td>743</td>\n    </tr>\n    <tr>\n      <th>6</th>\n      <td>604.69</td>\n      <td>0.9112</td>\n      <td>3.61</td>\n      <td>743</td>\n    </tr>\n    <tr>\n      <th>7</th>\n      <td>661.66</td>\n      <td>0.7900</td>\n      <td>3.61</td>\n      <td>743</td>\n    </tr>\n    <tr>\n      <th>8</th>\n      <td>795.84</td>\n      <td>0.7000</td>\n      <td>3.61</td>\n      <td>743</td>\n    </tr>\n    <tr>\n      <th>9</th>\n      <td>1155.00</td>\n      <td>0.5916</td>\n      <td>0.01</td>\n      <td>743</td>\n    </tr>\n    <tr>\n      <th>10</th>\n      <td>1173.24</td>\n      <td>0.5513</td>\n      <td>3.61</td>\n      <td>743</td>\n    </tr>\n    <tr>\n      <th>11</th>\n      <td>1332.50</td>\n      <td>0.5053</td>\n      <td>3.61</td>\n      <td>743</td>\n    </tr>\n  </tbody>\n</table>\n</div>"
     },
     "execution_count": 70,
     "metadata": {},
     "output_type": "execute_result"
    }
   ],
   "source": [
    "effics_df[\"effic_func\"] = 743 # p_eff_log\n",
    "effics_df"
   ],
   "metadata": {
    "collapsed": false,
    "ExecuteTime": {
     "end_time": "2023-06-14T16:07:02.279574393Z",
     "start_time": "2023-06-14T16:07:02.259604769Z"
    }
   }
  },
  {
   "cell_type": "code",
   "execution_count": 81,
   "outputs": [
    {
     "name": "stderr",
     "output_type": "stream",
     "text": [
      "/home/marcelofm/ogrsp_in_github/venv/lib/python3.11/lib/python3.11/site-packages/numpy/core/fromnumeric.py:3156: VisibleDeprecationWarning: Creating an ndarray from ragged nested sequences (which is a list-or-tuple of lists-or-tuples-or ndarrays with different lengths or shapes) is deprecated. If you meant to do this, you must specify 'dtype=object' when creating the ndarray.\n",
      "  return asarray(a).ndim\n"
     ]
    },
    {
     "ename": "ValueError",
     "evalue": "Must have equal len keys and value when setting with an iterable",
     "output_type": "error",
     "traceback": [
      "\u001B[0;31m---------------------------------------------------------------------------\u001B[0m",
      "\u001B[0;31mValueError\u001B[0m                                Traceback (most recent call last)",
      "Cell \u001B[0;32mIn[81], line 1\u001B[0m\n\u001B[0;32m----> 1\u001B[0m \u001B[43meffics_df\u001B[49m\u001B[38;5;241;43m.\u001B[39;49m\u001B[43mloc\u001B[49m\u001B[43m[\u001B[49m\u001B[43m(\u001B[49m\u001B[38;5;241;43m5\u001B[39;49m\u001B[43m,\u001B[49m\u001B[43m \u001B[49m\u001B[38;5;124;43m'\u001B[39;49m\u001B[38;5;124;43meffic_func\u001B[39;49m\u001B[38;5;124;43m'\u001B[39;49m\u001B[43m)\u001B[49m\u001B[43m]\u001B[49m \u001B[38;5;241m=\u001B[39m p_eff_log\n\u001B[1;32m      2\u001B[0m effics_df\n",
      "File \u001B[0;32m~/ogrsp_in_github/venv/lib/python3.11/lib/python3.11/site-packages/pandas/core/indexing.py:818\u001B[0m, in \u001B[0;36m_LocationIndexer.__setitem__\u001B[0;34m(self, key, value)\u001B[0m\n\u001B[1;32m    815\u001B[0m \u001B[38;5;28mself\u001B[39m\u001B[38;5;241m.\u001B[39m_has_valid_setitem_indexer(key)\n\u001B[1;32m    817\u001B[0m iloc \u001B[38;5;241m=\u001B[39m \u001B[38;5;28mself\u001B[39m \u001B[38;5;28;01mif\u001B[39;00m \u001B[38;5;28mself\u001B[39m\u001B[38;5;241m.\u001B[39mname \u001B[38;5;241m==\u001B[39m \u001B[38;5;124m\"\u001B[39m\u001B[38;5;124miloc\u001B[39m\u001B[38;5;124m\"\u001B[39m \u001B[38;5;28;01melse\u001B[39;00m \u001B[38;5;28mself\u001B[39m\u001B[38;5;241m.\u001B[39mobj\u001B[38;5;241m.\u001B[39miloc\n\u001B[0;32m--> 818\u001B[0m \u001B[43miloc\u001B[49m\u001B[38;5;241;43m.\u001B[39;49m\u001B[43m_setitem_with_indexer\u001B[49m\u001B[43m(\u001B[49m\u001B[43mindexer\u001B[49m\u001B[43m,\u001B[49m\u001B[43m \u001B[49m\u001B[43mvalue\u001B[49m\u001B[43m,\u001B[49m\u001B[43m \u001B[49m\u001B[38;5;28;43mself\u001B[39;49m\u001B[38;5;241;43m.\u001B[39;49m\u001B[43mname\u001B[49m\u001B[43m)\u001B[49m\n",
      "File \u001B[0;32m~/ogrsp_in_github/venv/lib/python3.11/lib/python3.11/site-packages/pandas/core/indexing.py:1795\u001B[0m, in \u001B[0;36m_iLocIndexer._setitem_with_indexer\u001B[0;34m(self, indexer, value, name)\u001B[0m\n\u001B[1;32m   1792\u001B[0m \u001B[38;5;66;03m# align and set the values\u001B[39;00m\n\u001B[1;32m   1793\u001B[0m \u001B[38;5;28;01mif\u001B[39;00m take_split_path:\n\u001B[1;32m   1794\u001B[0m     \u001B[38;5;66;03m# We have to operate column-wise\u001B[39;00m\n\u001B[0;32m-> 1795\u001B[0m     \u001B[38;5;28;43mself\u001B[39;49m\u001B[38;5;241;43m.\u001B[39;49m\u001B[43m_setitem_with_indexer_split_path\u001B[49m\u001B[43m(\u001B[49m\u001B[43mindexer\u001B[49m\u001B[43m,\u001B[49m\u001B[43m \u001B[49m\u001B[43mvalue\u001B[49m\u001B[43m,\u001B[49m\u001B[43m \u001B[49m\u001B[43mname\u001B[49m\u001B[43m)\u001B[49m\n\u001B[1;32m   1796\u001B[0m \u001B[38;5;28;01melse\u001B[39;00m:\n\u001B[1;32m   1797\u001B[0m     \u001B[38;5;28mself\u001B[39m\u001B[38;5;241m.\u001B[39m_setitem_single_block(indexer, value, name)\n",
      "File \u001B[0;32m~/ogrsp_in_github/venv/lib/python3.11/lib/python3.11/site-packages/pandas/core/indexing.py:1850\u001B[0m, in \u001B[0;36m_iLocIndexer._setitem_with_indexer_split_path\u001B[0;34m(self, indexer, value, name)\u001B[0m\n\u001B[1;32m   1845\u001B[0m     \u001B[38;5;28;01mif\u001B[39;00m \u001B[38;5;28mlen\u001B[39m(value) \u001B[38;5;241m==\u001B[39m \u001B[38;5;241m1\u001B[39m \u001B[38;5;129;01mand\u001B[39;00m \u001B[38;5;129;01mnot\u001B[39;00m is_integer(info_axis):\n\u001B[1;32m   1846\u001B[0m         \u001B[38;5;66;03m# This is a case like df.iloc[:3, [1]] = [0]\u001B[39;00m\n\u001B[1;32m   1847\u001B[0m         \u001B[38;5;66;03m#  where we treat as df.iloc[:3, 1] = 0\u001B[39;00m\n\u001B[1;32m   1848\u001B[0m         \u001B[38;5;28;01mreturn\u001B[39;00m \u001B[38;5;28mself\u001B[39m\u001B[38;5;241m.\u001B[39m_setitem_with_indexer((pi, info_axis[\u001B[38;5;241m0\u001B[39m]), value[\u001B[38;5;241m0\u001B[39m])\n\u001B[0;32m-> 1850\u001B[0m     \u001B[38;5;28;01mraise\u001B[39;00m \u001B[38;5;167;01mValueError\u001B[39;00m(\n\u001B[1;32m   1851\u001B[0m         \u001B[38;5;124m\"\u001B[39m\u001B[38;5;124mMust have equal len keys and value \u001B[39m\u001B[38;5;124m\"\u001B[39m\n\u001B[1;32m   1852\u001B[0m         \u001B[38;5;124m\"\u001B[39m\u001B[38;5;124mwhen setting with an iterable\u001B[39m\u001B[38;5;124m\"\u001B[39m\n\u001B[1;32m   1853\u001B[0m     )\n\u001B[1;32m   1855\u001B[0m \u001B[38;5;28;01melif\u001B[39;00m lplane_indexer \u001B[38;5;241m==\u001B[39m \u001B[38;5;241m0\u001B[39m \u001B[38;5;129;01mand\u001B[39;00m \u001B[38;5;28mlen\u001B[39m(value) \u001B[38;5;241m==\u001B[39m \u001B[38;5;28mlen\u001B[39m(\u001B[38;5;28mself\u001B[39m\u001B[38;5;241m.\u001B[39mobj\u001B[38;5;241m.\u001B[39mindex):\n\u001B[1;32m   1856\u001B[0m     \u001B[38;5;66;03m# We get here in one case via .loc with a all-False mask\u001B[39;00m\n\u001B[1;32m   1857\u001B[0m     \u001B[38;5;28;01mpass\u001B[39;00m\n",
      "\u001B[0;31mValueError\u001B[0m: Must have equal len keys and value when setting with an iterable"
     ]
    }
   ],
   "source": [
    "effics_df.loc[(5, 'effic_func')] = p_eff_log\n",
    "effics_df"
   ],
   "metadata": {
    "collapsed": false,
    "ExecuteTime": {
     "end_time": "2023-06-14T16:12:56.876973955Z",
     "start_time": "2023-06-14T16:12:56.684031251Z"
    }
   }
  },
  {
   "cell_type": "code",
   "execution_count": 82,
   "outputs": [
    {
     "data": {
      "text/plain": "       Engy   Effic  sEffic                                         effic_func\n0     59.54  6.4299    3.61                                                743\n1     81.00  5.6528    3.61                                                743\n2    276.40  1.6306    3.61  ((0.5110491663154504, -1.542825320223859, 0.42...\n3    302.85  1.5006    3.61  ((0.5110491663154504, -1.542825320223859, 0.42...\n4    356.02  1.4023    3.61                                                743\n5    383.85  1.3216    3.61                                                743\n6    604.69  0.9112    3.61                                                743\n7    661.66  0.7900    3.61                                                743\n8    795.84  0.7000    3.61                                                743\n9   1155.00  0.5916    0.01                                                743\n10  1173.24  0.5513    3.61                                                743\n11  1332.50  0.5053    3.61                                                743",
      "text/html": "<div>\n<style scoped>\n    .dataframe tbody tr th:only-of-type {\n        vertical-align: middle;\n    }\n\n    .dataframe tbody tr th {\n        vertical-align: top;\n    }\n\n    .dataframe thead th {\n        text-align: right;\n    }\n</style>\n<table border=\"1\" class=\"dataframe\">\n  <thead>\n    <tr style=\"text-align: right;\">\n      <th></th>\n      <th>Engy</th>\n      <th>Effic</th>\n      <th>sEffic</th>\n      <th>effic_func</th>\n    </tr>\n  </thead>\n  <tbody>\n    <tr>\n      <th>0</th>\n      <td>59.54</td>\n      <td>6.4299</td>\n      <td>3.61</td>\n      <td>743</td>\n    </tr>\n    <tr>\n      <th>1</th>\n      <td>81.00</td>\n      <td>5.6528</td>\n      <td>3.61</td>\n      <td>743</td>\n    </tr>\n    <tr>\n      <th>2</th>\n      <td>276.40</td>\n      <td>1.6306</td>\n      <td>3.61</td>\n      <td>((0.5110491663154504, -1.542825320223859, 0.42...</td>\n    </tr>\n    <tr>\n      <th>3</th>\n      <td>302.85</td>\n      <td>1.5006</td>\n      <td>3.61</td>\n      <td>((0.5110491663154504, -1.542825320223859, 0.42...</td>\n    </tr>\n    <tr>\n      <th>4</th>\n      <td>356.02</td>\n      <td>1.4023</td>\n      <td>3.61</td>\n      <td>743</td>\n    </tr>\n    <tr>\n      <th>5</th>\n      <td>383.85</td>\n      <td>1.3216</td>\n      <td>3.61</td>\n      <td>743</td>\n    </tr>\n    <tr>\n      <th>6</th>\n      <td>604.69</td>\n      <td>0.9112</td>\n      <td>3.61</td>\n      <td>743</td>\n    </tr>\n    <tr>\n      <th>7</th>\n      <td>661.66</td>\n      <td>0.7900</td>\n      <td>3.61</td>\n      <td>743</td>\n    </tr>\n    <tr>\n      <th>8</th>\n      <td>795.84</td>\n      <td>0.7000</td>\n      <td>3.61</td>\n      <td>743</td>\n    </tr>\n    <tr>\n      <th>9</th>\n      <td>1155.00</td>\n      <td>0.5916</td>\n      <td>0.01</td>\n      <td>743</td>\n    </tr>\n    <tr>\n      <th>10</th>\n      <td>1173.24</td>\n      <td>0.5513</td>\n      <td>3.61</td>\n      <td>743</td>\n    </tr>\n    <tr>\n      <th>11</th>\n      <td>1332.50</td>\n      <td>0.5053</td>\n      <td>3.61</td>\n      <td>743</td>\n    </tr>\n  </tbody>\n</table>\n</div>"
     },
     "execution_count": 82,
     "metadata": {},
     "output_type": "execute_result"
    }
   ],
   "source": [
    "effics_df.effic_func[2] = p_eff_log\n",
    "effics_df"
   ],
   "metadata": {
    "collapsed": false,
    "ExecuteTime": {
     "end_time": "2023-06-14T16:13:34.413814396Z",
     "start_time": "2023-06-14T16:13:34.347980472Z"
    }
   }
  },
  {
   "cell_type": "code",
   "execution_count": 83,
   "outputs": [
    {
     "data": {
      "text/plain": "       Engy   Effic  sEffic                                         effic_func\n0     59.54  6.4299    3.61                                                743\n1     81.00  5.6528    3.61                                                743\n2    276.40  1.6306    3.61  ((0.5110491663154504, -1.542825320223859, 0.42...\n3    302.85  1.5006    3.61  ((0.5110491663154504, -1.542825320223859, 0.42...\n4    356.02  1.4023    3.61                                                743\n5    383.85  1.3216    3.61                                                743\n6    604.69  0.9112    3.61                                                743\n7    661.66  0.7900    3.61                                                743\n8    795.84  0.7000    3.61                                                743\n9   1155.00  0.5916    0.01                                                743\n10  1173.24  0.5513    3.61                                                743\n11  1332.50  0.5053    3.61                                                743",
      "text/html": "<div>\n<style scoped>\n    .dataframe tbody tr th:only-of-type {\n        vertical-align: middle;\n    }\n\n    .dataframe tbody tr th {\n        vertical-align: top;\n    }\n\n    .dataframe thead th {\n        text-align: right;\n    }\n</style>\n<table border=\"1\" class=\"dataframe\">\n  <thead>\n    <tr style=\"text-align: right;\">\n      <th></th>\n      <th>Engy</th>\n      <th>Effic</th>\n      <th>sEffic</th>\n      <th>effic_func</th>\n    </tr>\n  </thead>\n  <tbody>\n    <tr>\n      <th>0</th>\n      <td>59.54</td>\n      <td>6.4299</td>\n      <td>3.61</td>\n      <td>743</td>\n    </tr>\n    <tr>\n      <th>1</th>\n      <td>81.00</td>\n      <td>5.6528</td>\n      <td>3.61</td>\n      <td>743</td>\n    </tr>\n    <tr>\n      <th>2</th>\n      <td>276.40</td>\n      <td>1.6306</td>\n      <td>3.61</td>\n      <td>((0.5110491663154504, -1.542825320223859, 0.42...</td>\n    </tr>\n    <tr>\n      <th>3</th>\n      <td>302.85</td>\n      <td>1.5006</td>\n      <td>3.61</td>\n      <td>((0.5110491663154504, -1.542825320223859, 0.42...</td>\n    </tr>\n    <tr>\n      <th>4</th>\n      <td>356.02</td>\n      <td>1.4023</td>\n      <td>3.61</td>\n      <td>743</td>\n    </tr>\n    <tr>\n      <th>5</th>\n      <td>383.85</td>\n      <td>1.3216</td>\n      <td>3.61</td>\n      <td>743</td>\n    </tr>\n    <tr>\n      <th>6</th>\n      <td>604.69</td>\n      <td>0.9112</td>\n      <td>3.61</td>\n      <td>743</td>\n    </tr>\n    <tr>\n      <th>7</th>\n      <td>661.66</td>\n      <td>0.7900</td>\n      <td>3.61</td>\n      <td>743</td>\n    </tr>\n    <tr>\n      <th>8</th>\n      <td>795.84</td>\n      <td>0.7000</td>\n      <td>3.61</td>\n      <td>743</td>\n    </tr>\n    <tr>\n      <th>9</th>\n      <td>1155.00</td>\n      <td>0.5916</td>\n      <td>0.01</td>\n      <td>743</td>\n    </tr>\n    <tr>\n      <th>10</th>\n      <td>1173.24</td>\n      <td>0.5513</td>\n      <td>3.61</td>\n      <td>743</td>\n    </tr>\n    <tr>\n      <th>11</th>\n      <td>1332.50</td>\n      <td>0.5053</td>\n      <td>3.61</td>\n      <td>743</td>\n    </tr>\n  </tbody>\n</table>\n</div>"
     },
     "execution_count": 83,
     "metadata": {},
     "output_type": "execute_result"
    }
   ],
   "source": [
    "effics_df.effic_func[3] = p_eff_log\n",
    "effics_df"
   ],
   "metadata": {
    "collapsed": false,
    "ExecuteTime": {
     "end_time": "2023-06-14T16:13:43.691578433Z",
     "start_time": "2023-06-14T16:13:43.611135758Z"
    }
   }
  },
  {
   "cell_type": "code",
   "execution_count": 84,
   "outputs": [
    {
     "data": {
      "text/plain": "743"
     },
     "execution_count": 84,
     "metadata": {},
     "output_type": "execute_result"
    }
   ],
   "source": [
    "effics_df.loc[1,('effic_func')]"
   ],
   "metadata": {
    "collapsed": false,
    "ExecuteTime": {
     "end_time": "2023-06-14T16:13:44.884903576Z",
     "start_time": "2023-06-14T16:13:44.856454777Z"
    }
   }
  },
  {
   "cell_type": "code",
   "execution_count": 85,
   "outputs": [],
   "source": [
    "pkl_name = 'f100_gmx_2021.pkl'"
   ],
   "metadata": {
    "collapsed": false,
    "ExecuteTime": {
     "end_time": "2023-06-14T16:13:47.684786321Z",
     "start_time": "2023-06-14T16:13:47.634602566Z"
    }
   }
  },
  {
   "cell_type": "code",
   "execution_count": 86,
   "outputs": [],
   "source": [
    "effics_df.to_pickle(pkl_name)"
   ],
   "metadata": {
    "collapsed": false,
    "ExecuteTime": {
     "end_time": "2023-06-14T16:13:48.192311536Z",
     "start_time": "2023-06-14T16:13:48.166140012Z"
    }
   }
  },
  {
   "cell_type": "code",
   "execution_count": 87,
   "outputs": [
    {
     "data": {
      "text/plain": "       Engy   Effic  sEffic                                         effic_func\n0     59.54  6.4299    3.61                                                743\n1     81.00  5.6528    3.61                                                743\n2    276.40  1.6306    3.61  ((0.5110491663154504, -1.542825320223859, 0.42...\n3    302.85  1.5006    3.61  ((0.5110491663154504, -1.542825320223859, 0.42...\n4    356.02  1.4023    3.61                                                743\n5    383.85  1.3216    3.61                                                743\n6    604.69  0.9112    3.61                                                743\n7    661.66  0.7900    3.61                                                743\n8    795.84  0.7000    3.61                                                743\n9   1155.00  0.5916    0.01                                                743\n10  1173.24  0.5513    3.61                                                743\n11  1332.50  0.5053    3.61                                                743",
      "text/html": "<div>\n<style scoped>\n    .dataframe tbody tr th:only-of-type {\n        vertical-align: middle;\n    }\n\n    .dataframe tbody tr th {\n        vertical-align: top;\n    }\n\n    .dataframe thead th {\n        text-align: right;\n    }\n</style>\n<table border=\"1\" class=\"dataframe\">\n  <thead>\n    <tr style=\"text-align: right;\">\n      <th></th>\n      <th>Engy</th>\n      <th>Effic</th>\n      <th>sEffic</th>\n      <th>effic_func</th>\n    </tr>\n  </thead>\n  <tbody>\n    <tr>\n      <th>0</th>\n      <td>59.54</td>\n      <td>6.4299</td>\n      <td>3.61</td>\n      <td>743</td>\n    </tr>\n    <tr>\n      <th>1</th>\n      <td>81.00</td>\n      <td>5.6528</td>\n      <td>3.61</td>\n      <td>743</td>\n    </tr>\n    <tr>\n      <th>2</th>\n      <td>276.40</td>\n      <td>1.6306</td>\n      <td>3.61</td>\n      <td>((0.5110491663154504, -1.542825320223859, 0.42...</td>\n    </tr>\n    <tr>\n      <th>3</th>\n      <td>302.85</td>\n      <td>1.5006</td>\n      <td>3.61</td>\n      <td>((0.5110491663154504, -1.542825320223859, 0.42...</td>\n    </tr>\n    <tr>\n      <th>4</th>\n      <td>356.02</td>\n      <td>1.4023</td>\n      <td>3.61</td>\n      <td>743</td>\n    </tr>\n    <tr>\n      <th>5</th>\n      <td>383.85</td>\n      <td>1.3216</td>\n      <td>3.61</td>\n      <td>743</td>\n    </tr>\n    <tr>\n      <th>6</th>\n      <td>604.69</td>\n      <td>0.9112</td>\n      <td>3.61</td>\n      <td>743</td>\n    </tr>\n    <tr>\n      <th>7</th>\n      <td>661.66</td>\n      <td>0.7900</td>\n      <td>3.61</td>\n      <td>743</td>\n    </tr>\n    <tr>\n      <th>8</th>\n      <td>795.84</td>\n      <td>0.7000</td>\n      <td>3.61</td>\n      <td>743</td>\n    </tr>\n    <tr>\n      <th>9</th>\n      <td>1155.00</td>\n      <td>0.5916</td>\n      <td>0.01</td>\n      <td>743</td>\n    </tr>\n    <tr>\n      <th>10</th>\n      <td>1173.24</td>\n      <td>0.5513</td>\n      <td>3.61</td>\n      <td>743</td>\n    </tr>\n    <tr>\n      <th>11</th>\n      <td>1332.50</td>\n      <td>0.5053</td>\n      <td>3.61</td>\n      <td>743</td>\n    </tr>\n  </tbody>\n</table>\n</div>"
     },
     "execution_count": 87,
     "metadata": {},
     "output_type": "execute_result"
    }
   ],
   "source": [
    "calib_pkl_name = 'f100_gmx_2021.pkl'\n",
    "calib_df = pd.read_pickle(calib_pkl_name)\n",
    "calib_df"
   ],
   "metadata": {
    "collapsed": false,
    "ExecuteTime": {
     "end_time": "2023-06-14T16:13:50.380578001Z",
     "start_time": "2023-06-14T16:13:50.337808578Z"
    }
   }
  },
  {
   "cell_type": "code",
   "execution_count": null,
   "outputs": [],
   "source": [],
   "metadata": {
    "collapsed": false
   }
  }
 ],
 "metadata": {
  "kernelspec": {
   "display_name": "Python 3",
   "language": "python",
   "name": "python3"
  },
  "language_info": {
   "codemirror_mode": {
    "name": "ipython",
    "version": 2
   },
   "file_extension": ".py",
   "mimetype": "text/x-python",
   "name": "python",
   "nbconvert_exporter": "python",
   "pygments_lexer": "ipython2",
   "version": "2.7.6"
  }
 },
 "nbformat": 4,
 "nbformat_minor": 0
}
