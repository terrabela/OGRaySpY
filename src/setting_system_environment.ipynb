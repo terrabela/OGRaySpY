{
 "cells": [
  {
   "cell_type": "code",
   "execution_count": 1,
   "outputs": [],
   "source": [
    "# 2022-Dez-28\n",
    "# Jupyter notebook for tests with OGRaySpY modules"
   ],
   "metadata": {
    "collapsed": false
   }
  },
  {
   "cell_type": "code",
   "execution_count": 1,
   "outputs": [],
   "source": [],
   "metadata": {
    "collapsed": false
   }
  },
  {
   "cell_type": "code",
   "execution_count": 1,
   "outputs": [],
   "source": [],
   "metadata": {
    "collapsed": false
   }
  },
  {
   "cell_type": "code",
   "execution_count": 2,
   "outputs": [],
   "source": [
    "import pandas as pd"
   ],
   "metadata": {
    "collapsed": false
   }
  },
  {
   "cell_type": "code",
   "execution_count": 3,
   "metadata": {},
   "outputs": [],
   "source": [
    "# https://lmfit.github.io/lmfit-py/builtin_models.html\n",
    "from lmfit import Model, minimize, Parameters, report_fit, fit_report, printfuncs\n",
    "from lmfit.models import LinearModel, StepModel, ExponentialModel, LorentzianModel\n",
    "from lmfit.models import GaussianModel, SkewedGaussianModel, ExpressionModel"
   ]
  },
  {
   "cell_type": "code",
   "execution_count": 4,
   "metadata": {},
   "outputs": [],
   "source": [
    "from ograyspy_class import Ograyspy"
   ]
  },
  {
   "cell_type": "code",
   "execution_count": 5,
   "metadata": {},
   "outputs": [
    {
     "name": "stdout",
     "output_type": "stream",
     "text": [
      "Objeto ogra: Ograyspy criado.\n",
      "ogra.info_plat: Windows-10-10.0.19044-SP0\n",
      "ogra.info_mach: AMD64\n",
      "ogra.info_syst: Windows\n",
      "ogra.info_node: I56611\n",
      "ogra.home_path: C:\\Users\\mmaduar\n"
     ]
    }
   ],
   "source": [
    "ogra = Ograyspy(batch_mode=False)\n",
    "print('Objeto ogra: Ograyspy criado.')\n",
    "print(f'ogra.info_plat: {ogra.info_plat}')\n",
    "print(f'ogra.info_mach: {ogra.info_mach}')\n",
    "print(f'ogra.info_syst: {ogra.info_syst}')\n",
    "print(f'ogra.info_node: {ogra.info_node}')\n",
    "print(f'ogra.home_path: {ogra.home_path}')"
   ]
  },
  {
   "cell_type": "code",
   "execution_count": 6,
   "metadata": {},
   "outputs": [],
   "source": [
    "# f_name = '../../Genie_Transfer/Si/SI2019/SI04119.Chn'\n",
    "# f_name = '../gamma/spectra/ALMERA-2016/alm_samp5_sedim_16.IEC'"
   ]
  },
  {
   "cell_type": "code",
   "execution_count": 7,
   "metadata": {},
   "outputs": [
    {
     "name": "stdout",
     "output_type": "stream",
     "text": [
      "\n",
      "ogra.define_files_folder(to_be_found)\n",
      "Found folder name:  C:\\Users\\mmaduar\\Nextcloud\\Genie_Transfer\n",
      "Partes:  ('C:\\\\', 'Users', 'mmaduar', 'Nextcloud', 'Genie_Transfer')\n",
      "No. spec files:  6868\n"
     ]
    }
   ],
   "source": [
    "to_be_found = 'Genie_Transfer'\n",
    "# to_be_found = 'some_spectra'\n",
    "print('\\nogra.define_files_folder(to_be_found)')\n",
    "ogra.define_files_folder(to_be_found)"
   ]
  },
  {
   "cell_type": "code",
   "execution_count": 8,
   "outputs": [],
   "source": [
    "# a spectrum pattern to find and test:"
   ],
   "metadata": {
    "collapsed": false
   }
  },
  {
   "cell_type": "code",
   "execution_count": 9,
   "metadata": {},
   "outputs": [],
   "source": [
    "# 2022\n",
    "# Se quiser ignorar o espectro aleatório, definir aqui um específico. Se não, pular.\n",
    "# Vou ignorar o espectro já analisado e refazer a análise, para testes.\n",
    "# 2022-Mar-24 Resolver essa questão dos nomes de arquivos em Linux e Windows\n",
    "# a_spec_name = '..\\\\..\\\\Genie_Transfer\\\\Si\\\\2018\\\\PNR\\\\PRN0803.Chn'\n",
    "# a_spec_name = '../../Genie_Transfer/Si/2018/PNR/PRN0803.Chn'\n",
    "# a_spec_name = '../../Genie_Transfer/Si/2018/CTP/CTP0908-2.Chn'\n",
    "# Esse é um que dá problema na baseline perto do 159 keV do I-123:\n",
    "# a_spec_name = '../../Genie_Transfer/Si/2018/CCI/CCI1508I.Chn'\n",
    "# Precisa quebrar mais a baseline: Ok, consertado!!!\n",
    "# 2022: Já usando o GMX:\n",
    "# a_spec_name = '../../Genie_Transfer/Filtros/2022/Cci/CCI1603-I.Chn'\n",
    "\n"
   ]
  },
  {
   "cell_type": "code",
   "execution_count": 9,
   "metadata": {},
   "outputs": [],
   "source": [
    "\n"
   ]
  },
  {
   "cell_type": "code",
   "execution_count": 10,
   "outputs": [
    {
     "data": {
      "text/plain": "                   info_plat info_mach info_syst info_node         home_path  \\\n0  Windows-10-10.0.19044-SP0     AMD64   Windows    I56611  C:\\Users\\mmaduar   \n\n                                spectra_path  n_files  a_spec_ind a_spec_name  \\\n0  C:\\Users\\mmaduar\\Nextcloud\\Genie_Transfer     6868           0               \n\n  reduced_f_name gross_counts_graphics pks_regions_gros  \\\n0                                 None             None   \n\n                                          files_list  \\\n0  [C:\\Users\\mmaduar\\Nextcloud\\Genie_Transfer\\alm...   \n\n                            reduced_names_files_list  \\\n0  [almera22/det_c/iaeaqcb.chn, almera22/det_c/ia...   \n\n                    spectra_pattern_names   pkl_folder_files  \n0  [**/*.[Cc][Hh][Nn], **/*.[Ii][Ee][Cc]]  WindowsI56611.pkl  ",
      "text/html": "<div>\n<style scoped>\n    .dataframe tbody tr th:only-of-type {\n        vertical-align: middle;\n    }\n\n    .dataframe tbody tr th {\n        vertical-align: top;\n    }\n\n    .dataframe thead th {\n        text-align: right;\n    }\n</style>\n<table border=\"1\" class=\"dataframe\">\n  <thead>\n    <tr style=\"text-align: right;\">\n      <th></th>\n      <th>info_plat</th>\n      <th>info_mach</th>\n      <th>info_syst</th>\n      <th>info_node</th>\n      <th>home_path</th>\n      <th>spectra_path</th>\n      <th>n_files</th>\n      <th>a_spec_ind</th>\n      <th>a_spec_name</th>\n      <th>reduced_f_name</th>\n      <th>gross_counts_graphics</th>\n      <th>pks_regions_gros</th>\n      <th>files_list</th>\n      <th>reduced_names_files_list</th>\n      <th>spectra_pattern_names</th>\n      <th>pkl_folder_files</th>\n    </tr>\n  </thead>\n  <tbody>\n    <tr>\n      <th>0</th>\n      <td>Windows-10-10.0.19044-SP0</td>\n      <td>AMD64</td>\n      <td>Windows</td>\n      <td>I56611</td>\n      <td>C:\\Users\\mmaduar</td>\n      <td>C:\\Users\\mmaduar\\Nextcloud\\Genie_Transfer</td>\n      <td>6868</td>\n      <td>0</td>\n      <td></td>\n      <td></td>\n      <td>None</td>\n      <td>None</td>\n      <td>[C:\\Users\\mmaduar\\Nextcloud\\Genie_Transfer\\alm...</td>\n      <td>[almera22/det_c/iaeaqcb.chn, almera22/det_c/ia...</td>\n      <td>[**/*.[Cc][Hh][Nn], **/*.[Ii][Ee][Cc]]</td>\n      <td>WindowsI56611.pkl</td>\n    </tr>\n  </tbody>\n</table>\n</div>"
     },
     "execution_count": 10,
     "metadata": {},
     "output_type": "execute_result"
    }
   ],
   "source": [
    "spectra_list_df = pd.read_pickle('WindowsI56611.pkl')\n",
    "spectra_list_df"
   ],
   "metadata": {
    "collapsed": false
   }
  },
  {
   "cell_type": "code",
   "execution_count": 10,
   "outputs": [],
   "source": [],
   "metadata": {
    "collapsed": false
   }
  },
  {
   "cell_type": "code",
   "execution_count": 10,
   "outputs": [],
   "source": [],
   "metadata": {
    "collapsed": false
   }
  },
  {
   "cell_type": "code",
   "execution_count": 10,
   "outputs": [],
   "source": [],
   "metadata": {
    "collapsed": false
   }
  }
 ],
 "metadata": {
  "kernelspec": {
   "display_name": "Python 3",
   "language": "python",
   "name": "python3"
  },
  "language_info": {
   "codemirror_mode": {
    "name": "ipython",
    "version": 3
   },
   "file_extension": ".py",
   "mimetype": "text/x-python",
   "name": "python",
   "nbconvert_exporter": "python",
   "pygments_lexer": "ipython3",
   "version": "3.7.3"
  }
 },
 "nbformat": 4,
 "nbformat_minor": 5
}
