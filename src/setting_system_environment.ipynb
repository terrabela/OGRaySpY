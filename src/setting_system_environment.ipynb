{
 "cells": [
  {
   "cell_type": "code",
   "execution_count": 1,
   "id": "ada1f8b4",
   "metadata": {},
   "outputs": [],
   "source": [
    "# 2022-Dez-28\n",
    "# Jupyter notebook for tests with OGRaySpY modules"
   ]
  },
  {
   "cell_type": "code",
   "execution_count": null,
   "id": "cde600b7",
   "metadata": {},
   "outputs": [],
   "source": []
  },
  {
   "cell_type": "code",
   "execution_count": null,
   "id": "80a324c8",
   "metadata": {},
   "outputs": [],
   "source": []
  },
  {
   "cell_type": "code",
   "execution_count": 2,
   "id": "5ebbb6dd",
   "metadata": {},
   "outputs": [],
   "source": [
    "import pandas as pd"
   ]
  },
  {
   "cell_type": "code",
   "execution_count": 4,
   "id": "c1f4effa",
   "metadata": {},
   "outputs": [],
   "source": [
    "from ograyspy_class import Ograyspy"
   ]
  },
  {
   "cell_type": "code",
   "execution_count": 5,
   "id": "e7c99d8f",
   "metadata": {},
   "outputs": [
    {
     "name": "stdout",
     "output_type": "stream",
     "text": [
      "Objeto ogra: Ograyspy criado.\n",
      "ogra.info_plat: Linux-5.19.0-38-generic-x86_64-with-glibc2.36\n",
      "ogra.info_mach: x86_64\n",
      "ogra.info_syst: Linux\n",
      "ogra.info_node: mmaduar-net13\n",
      "ogra.home_path: /home/marcelofm\n"
     ]
    }
   ],
   "source": [
    "ogra = Ograyspy(batch_mode=False)\n",
    "print('Objeto ogra: Ograyspy criado.')\n",
    "print(f'ogra.info_plat: {ogra.info_plat}')\n",
    "print(f'ogra.info_mach: {ogra.info_mach}')\n",
    "print(f'ogra.info_syst: {ogra.info_syst}')\n",
    "print(f'ogra.info_node: {ogra.info_node}')\n",
    "print(f'ogra.home_path: {ogra.home_path}')"
   ]
  },
  {
   "cell_type": "code",
   "execution_count": 6,
   "id": "e2a15b20",
   "metadata": {},
   "outputs": [],
   "source": [
    "# f_name = '../../Genie_Transfer/Si/SI2019/SI04119.Chn'\n",
    "# f_name = '../gamma/spectra/ALMERA-2016/alm_samp5_sedim_16.IEC'"
   ]
  },
  {
   "cell_type": "code",
   "execution_count": 7,
   "id": "38aab891",
   "metadata": {},
   "outputs": [
    {
     "name": "stdout",
     "output_type": "stream",
     "text": [
      "\n",
      "ogra.define_files_folder(to_be_found)\n",
      "Found folder name:  /home/marcelofm/Nextcloud/Genie_Transfer\n",
      "Partes:  ('/', 'home', 'marcelofm', 'Nextcloud', 'Genie_Transfer')\n",
      "No. spec files:  6868\n"
     ]
    }
   ],
   "source": [
    "to_be_found = 'Genie_Transfer'\n",
    "# to_be_found = 'some_spectra'\n",
    "print('\\nogra.define_files_folder(to_be_found)')\n",
    "ogra.define_files_folder(to_be_found)"
   ]
  },
  {
   "cell_type": "code",
   "execution_count": 8,
   "id": "88a146a3",
   "metadata": {},
   "outputs": [],
   "source": [
    "# a spectrum pattern to find and test:"
   ]
  },
  {
   "cell_type": "code",
   "execution_count": 9,
   "id": "42740134",
   "metadata": {},
   "outputs": [],
   "source": [
    "# 2022\n",
    "# Se quiser ignorar o espectro aleatório, definir aqui um específico. Se não, pular.\n",
    "# Vou ignorar o espectro já analisado e refazer a análise, para testes.\n",
    "# 2022-Mar-24 Resolver essa questão dos nomes de arquivos em Linux e Windows\n",
    "# a_spec_name = '..\\\\..\\\\Genie_Transfer\\\\Si\\\\2018\\\\PNR\\\\PRN0803.Chn'\n",
    "# a_spec_name = '../../Genie_Transfer/Si/2018/PNR/PRN0803.Chn'\n",
    "# a_spec_name = '../../Genie_Transfer/Si/2018/CTP/CTP0908-2.Chn'\n",
    "# Esse é um que dá problema na baseline perto do 159 keV do I-123:\n",
    "# a_spec_name = '../../Genie_Transfer/Si/2018/CCI/CCI1508I.Chn'\n",
    "# Precisa quebrar mais a baseline: Ok, consertado!!!\n",
    "# 2022: Já usando o GMX:\n",
    "# a_spec_name = '../../Genie_Transfer/Filtros/2022/Cci/CCI1603-I.Chn'\n",
    "\n"
   ]
  },
  {
   "cell_type": "code",
   "execution_count": null,
   "id": "1c15c1ba",
   "metadata": {},
   "outputs": [],
   "source": [
    "\n"
   ]
  },
  {
   "cell_type": "code",
   "execution_count": 11,
   "id": "849540c4",
   "metadata": {},
   "outputs": [
    {
     "data": {
      "text/html": [
       "<div>\n",
       "<style scoped>\n",
       "    .dataframe tbody tr th:only-of-type {\n",
       "        vertical-align: middle;\n",
       "    }\n",
       "\n",
       "    .dataframe tbody tr th {\n",
       "        vertical-align: top;\n",
       "    }\n",
       "\n",
       "    .dataframe thead th {\n",
       "        text-align: right;\n",
       "    }\n",
       "</style>\n",
       "<table border=\"1\" class=\"dataframe\">\n",
       "  <thead>\n",
       "    <tr style=\"text-align: right;\">\n",
       "      <th></th>\n",
       "      <th>info_plat</th>\n",
       "      <th>info_mach</th>\n",
       "      <th>info_syst</th>\n",
       "      <th>info_node</th>\n",
       "      <th>home_path</th>\n",
       "      <th>spectra_path</th>\n",
       "      <th>n_files</th>\n",
       "      <th>a_spec_ind</th>\n",
       "      <th>a_spec_name</th>\n",
       "      <th>reduced_f_name</th>\n",
       "      <th>files_list</th>\n",
       "      <th>reduced_names_files_list</th>\n",
       "      <th>spectra_pattern_names</th>\n",
       "      <th>pkl_folder_files</th>\n",
       "    </tr>\n",
       "  </thead>\n",
       "  <tbody>\n",
       "    <tr>\n",
       "      <th>0</th>\n",
       "      <td>Linux-5.19.0-38-generic-x86_64-with-glibc2.36</td>\n",
       "      <td>x86_64</td>\n",
       "      <td>Linux</td>\n",
       "      <td>mmaduar-net13</td>\n",
       "      <td>/home/marcelofm</td>\n",
       "      <td>/home/marcelofm/Nextcloud/Genie_Transfer</td>\n",
       "      <td>6868</td>\n",
       "      <td>0</td>\n",
       "      <td></td>\n",
       "      <td></td>\n",
       "      <td>[/home/marcelofm/Nextcloud/Genie_Transfer/alme...</td>\n",
       "      <td>[almera22/IAEA-TERC-2022/pt2022_spectrum_exerc...</td>\n",
       "      <td>[**/*.[Cc][Hh][Nn], **/*.[Ii][Ee][Cc]]</td>\n",
       "      <td>Linuxmmaduar-net13.pkl</td>\n",
       "    </tr>\n",
       "  </tbody>\n",
       "</table>\n",
       "</div>"
      ],
      "text/plain": [
       "                                       info_plat info_mach info_syst  \\\n",
       "0  Linux-5.19.0-38-generic-x86_64-with-glibc2.36    x86_64     Linux   \n",
       "\n",
       "       info_node        home_path                              spectra_path  \\\n",
       "0  mmaduar-net13  /home/marcelofm  /home/marcelofm/Nextcloud/Genie_Transfer   \n",
       "\n",
       "   n_files  a_spec_ind a_spec_name reduced_f_name  \\\n",
       "0     6868           0                              \n",
       "\n",
       "                                          files_list  \\\n",
       "0  [/home/marcelofm/Nextcloud/Genie_Transfer/alme...   \n",
       "\n",
       "                            reduced_names_files_list  \\\n",
       "0  [almera22/IAEA-TERC-2022/pt2022_spectrum_exerc...   \n",
       "\n",
       "                    spectra_pattern_names        pkl_folder_files  \n",
       "0  [**/*.[Cc][Hh][Nn], **/*.[Ii][Ee][Cc]]  Linuxmmaduar-net13.pkl  "
      ]
     },
     "execution_count": 11,
     "metadata": {},
     "output_type": "execute_result"
    }
   ],
   "source": [
    "# Select a particular machine/system:\n",
    "# spectra_list_df = pd.read_pickle('WindowsI56611.pkl')\n",
    "spectra_list_df = pd.read_pickle('Linuxmmaduar-net13.pkl')\n",
    "\n",
    "spectra_list_df"
   ]
  },
  {
   "cell_type": "code",
   "execution_count": 10,
   "id": "12f6d0c9",
   "metadata": {},
   "outputs": [],
   "source": []
  }
 ],
 "metadata": {
  "kernelspec": {
   "display_name": "Python 3 (ipykernel)",
   "language": "python",
   "name": "python3"
  },
  "language_info": {
   "codemirror_mode": {
    "name": "ipython",
    "version": 3
   },
   "file_extension": ".py",
   "mimetype": "text/x-python",
   "name": "python",
   "nbconvert_exporter": "python",
   "pygments_lexer": "ipython3",
   "version": "3.10.7"
  }
 },
 "nbformat": 4,
 "nbformat_minor": 5
}
