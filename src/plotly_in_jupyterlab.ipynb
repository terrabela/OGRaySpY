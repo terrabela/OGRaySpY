{
 "cells": [
  {
   "cell_type": "code",
   "execution_count": 1,
   "id": "602d022f-7dfb-4687-b95b-bb2ad46cc4c7",
   "metadata": {},
   "outputs": [],
   "source": [
    "# https://plotly.com/python/getting-started/#jupyterlab-support\n",
    "\n",
    "# 2021-Abr-29: Isso parece legal (instalar plotly-geo):\n",
    "# https://plotly.com/python/getting-started/#extended-geo-support"
   ]
  },
  {
   "cell_type": "code",
   "execution_count": 2,
   "id": "5a5fc107-6300-4fc0-bcbe-5d4bb99aadc7",
   "metadata": {},
   "outputs": [],
   "source": [
    "# A documentação mais recente do novo JupyterLab está em\n",
    "# https://jupyterlab.readthedocs.io/en/stable/index.html#\n",
    "# Neste dá para usar Binder:\n",
    "# https://jupyterlab.readthedocs.io/en/latest/"
   ]
  },
  {
   "cell_type": "code",
   "execution_count": 3,
   "id": "07dbe6fe-0c92-4517-a122-ffc5726dcc6e",
   "metadata": {},
   "outputs": [],
   "source": [
    "import datetime\n",
    "import numpy as np\n",
    "import pandas as pd\n",
    "import jinja2\n",
    "\n",
    "import plotly.graph_objects as go\n",
    "from ipywidgets import widgets"
   ]
  },
  {
   "cell_type": "code",
   "execution_count": 4,
   "id": "55f9c320-72ff-4f40-af09-0f630ade48c6",
   "metadata": {},
   "outputs": [
    {
     "data": {
      "text/plain": "            reduced_f_name peaks ini_wide_regions fin_wide_regions  \\\n0    Si/SI2018/SI11318.Chn    52               50               54   \n1    Si/SI2018/SI11318.Chn    56               54               58   \n2    Si/SI2018/SI11318.Chn    60               58               62   \n3    Si/SI2018/SI11318.Chn    63               60               66   \n4    Si/SI2018/SI11318.Chn    75               73               77   \n..                     ...   ...              ...              ...   \n282  Si/SI2018/SI11318.Chn  2215             2213             2217   \n283  Si/SI2018/SI11318.Chn  2278             2276             2280   \n284  Si/SI2018/SI11318.Chn  2503             2499             2507   \n285  Si/SI2018/SI11318.Chn  2817             2813             2822   \n286  Si/SI2018/SI11318.Chn  2939             2932             2947   \n\n             fwhm_centr          rough_sums        peak_heights  \\\n0     52.02065909676685   191.3548130187562  174.13929060862938   \n1     56.06940317795224   90.78133733835784   70.59312679644904   \n2                  60.0  21.456920214488946   16.39061357558012   \n3    63.379598627125716  140.85128492076092   71.72517440536944   \n4     74.99461568180564   122.1074269172168   80.67870068588377   \n..                  ...                 ...                 ...   \n282              2215.0   22.74046513867069  12.219726071822992   \n283              2278.0  19.588976780132278  13.476713218703978   \n284  2502.7384401130444  43.893108686729974   13.89392174676562   \n285   2817.394591525303  176.24283493481832   48.32140492260375   \n286  2939.3141935901003   188.3944031904439   43.79315036876867   \n\n        left_thresholds    right_thresholds         prominences left_bases  \\\n0    173.13929060862938  159.92376819850256  173.13929060862938         51   \n1     69.59312679644904   54.47122289344907   69.59312679644904         55   \n2    15.390613575580119  15.390613575580119  15.390613575580119         59   \n3     70.72517440536944   22.98967746555809   70.72517440536944         62   \n4     77.99881884803335   79.67870068588377   79.67870068588377         73   \n..                  ...                 ...                 ...        ...   \n282  11.219726071822992  11.219726071822992  11.219726071822992       2214   \n283  12.476713218703978  12.476713218703978  12.476713218703978       2277   \n284  3.2088857860491427   7.771626667909004   12.89392174676562       2500   \n285  24.976680249042165   3.025254217083784   47.32140492260375       2813   \n286  11.968463946939888   8.019719180487122   42.79315036876867       2933   \n\n    right_bases       width_heights            left_ips           right_ips  \\\n0            54   87.56964530431469                51.5    52.5413181935337   \n1            59   35.79656339822452                55.5   56.63880635590447   \n2            61    8.69530678779006                59.5                60.5   \n3            65   36.36258720268472                62.5   64.25919725425143   \n4            76  40.839350342941884   74.48923136361127                75.5   \n..          ...                 ...                 ...                 ...   \n282        2216   6.609863035911496              2214.5              2215.5   \n283        2279   7.238356609351989              2277.5              2278.5   \n284        2509    7.44696087338281   2501.647329200432  2503.8295510256567   \n285        2821  24.660702461301874  2816.0526882585923  2818.7364947920137   \n286        2943  22.396575184384336  2937.2731905418464  2941.3551966383548   \n\n                 widths           variances  \n0     1.041318193533698   9325.817703771874  \n1     1.138806355904471  15026.521605063423  \n2                   1.0   14578.88287130845  \n3    1.7591972542514327   20338.31799566142  \n4    1.0107686363887325  13623.621987435974  \n..                  ...                 ...  \n282                 1.0  103.73517385270654  \n283                 1.0      97.29676175502  \n284  2.1822218252245875  130.53870848444396  \n285   2.683806533421375   225.8453183035444  \n286   4.082006096508394  249.05208541388564  \n\n[287 rows x 17 columns]",
      "text/html": "<div>\n<style scoped>\n    .dataframe tbody tr th:only-of-type {\n        vertical-align: middle;\n    }\n\n    .dataframe tbody tr th {\n        vertical-align: top;\n    }\n\n    .dataframe thead th {\n        text-align: right;\n    }\n</style>\n<table border=\"1\" class=\"dataframe\">\n  <thead>\n    <tr style=\"text-align: right;\">\n      <th></th>\n      <th>reduced_f_name</th>\n      <th>peaks</th>\n      <th>ini_wide_regions</th>\n      <th>fin_wide_regions</th>\n      <th>fwhm_centr</th>\n      <th>rough_sums</th>\n      <th>peak_heights</th>\n      <th>left_thresholds</th>\n      <th>right_thresholds</th>\n      <th>prominences</th>\n      <th>left_bases</th>\n      <th>right_bases</th>\n      <th>width_heights</th>\n      <th>left_ips</th>\n      <th>right_ips</th>\n      <th>widths</th>\n      <th>variances</th>\n    </tr>\n  </thead>\n  <tbody>\n    <tr>\n      <th>0</th>\n      <td>Si/SI2018/SI11318.Chn</td>\n      <td>52</td>\n      <td>50</td>\n      <td>54</td>\n      <td>52.02065909676685</td>\n      <td>191.3548130187562</td>\n      <td>174.13929060862938</td>\n      <td>173.13929060862938</td>\n      <td>159.92376819850256</td>\n      <td>173.13929060862938</td>\n      <td>51</td>\n      <td>54</td>\n      <td>87.56964530431469</td>\n      <td>51.5</td>\n      <td>52.5413181935337</td>\n      <td>1.041318193533698</td>\n      <td>9325.817703771874</td>\n    </tr>\n    <tr>\n      <th>1</th>\n      <td>Si/SI2018/SI11318.Chn</td>\n      <td>56</td>\n      <td>54</td>\n      <td>58</td>\n      <td>56.06940317795224</td>\n      <td>90.78133733835784</td>\n      <td>70.59312679644904</td>\n      <td>69.59312679644904</td>\n      <td>54.47122289344907</td>\n      <td>69.59312679644904</td>\n      <td>55</td>\n      <td>59</td>\n      <td>35.79656339822452</td>\n      <td>55.5</td>\n      <td>56.63880635590447</td>\n      <td>1.138806355904471</td>\n      <td>15026.521605063423</td>\n    </tr>\n    <tr>\n      <th>2</th>\n      <td>Si/SI2018/SI11318.Chn</td>\n      <td>60</td>\n      <td>58</td>\n      <td>62</td>\n      <td>60.0</td>\n      <td>21.456920214488946</td>\n      <td>16.39061357558012</td>\n      <td>15.390613575580119</td>\n      <td>15.390613575580119</td>\n      <td>15.390613575580119</td>\n      <td>59</td>\n      <td>61</td>\n      <td>8.69530678779006</td>\n      <td>59.5</td>\n      <td>60.5</td>\n      <td>1.0</td>\n      <td>14578.88287130845</td>\n    </tr>\n    <tr>\n      <th>3</th>\n      <td>Si/SI2018/SI11318.Chn</td>\n      <td>63</td>\n      <td>60</td>\n      <td>66</td>\n      <td>63.379598627125716</td>\n      <td>140.85128492076092</td>\n      <td>71.72517440536944</td>\n      <td>70.72517440536944</td>\n      <td>22.98967746555809</td>\n      <td>70.72517440536944</td>\n      <td>62</td>\n      <td>65</td>\n      <td>36.36258720268472</td>\n      <td>62.5</td>\n      <td>64.25919725425143</td>\n      <td>1.7591972542514327</td>\n      <td>20338.31799566142</td>\n    </tr>\n    <tr>\n      <th>4</th>\n      <td>Si/SI2018/SI11318.Chn</td>\n      <td>75</td>\n      <td>73</td>\n      <td>77</td>\n      <td>74.99461568180564</td>\n      <td>122.1074269172168</td>\n      <td>80.67870068588377</td>\n      <td>77.99881884803335</td>\n      <td>79.67870068588377</td>\n      <td>79.67870068588377</td>\n      <td>73</td>\n      <td>76</td>\n      <td>40.839350342941884</td>\n      <td>74.48923136361127</td>\n      <td>75.5</td>\n      <td>1.0107686363887325</td>\n      <td>13623.621987435974</td>\n    </tr>\n    <tr>\n      <th>...</th>\n      <td>...</td>\n      <td>...</td>\n      <td>...</td>\n      <td>...</td>\n      <td>...</td>\n      <td>...</td>\n      <td>...</td>\n      <td>...</td>\n      <td>...</td>\n      <td>...</td>\n      <td>...</td>\n      <td>...</td>\n      <td>...</td>\n      <td>...</td>\n      <td>...</td>\n      <td>...</td>\n      <td>...</td>\n    </tr>\n    <tr>\n      <th>282</th>\n      <td>Si/SI2018/SI11318.Chn</td>\n      <td>2215</td>\n      <td>2213</td>\n      <td>2217</td>\n      <td>2215.0</td>\n      <td>22.74046513867069</td>\n      <td>12.219726071822992</td>\n      <td>11.219726071822992</td>\n      <td>11.219726071822992</td>\n      <td>11.219726071822992</td>\n      <td>2214</td>\n      <td>2216</td>\n      <td>6.609863035911496</td>\n      <td>2214.5</td>\n      <td>2215.5</td>\n      <td>1.0</td>\n      <td>103.73517385270654</td>\n    </tr>\n    <tr>\n      <th>283</th>\n      <td>Si/SI2018/SI11318.Chn</td>\n      <td>2278</td>\n      <td>2276</td>\n      <td>2280</td>\n      <td>2278.0</td>\n      <td>19.588976780132278</td>\n      <td>13.476713218703978</td>\n      <td>12.476713218703978</td>\n      <td>12.476713218703978</td>\n      <td>12.476713218703978</td>\n      <td>2277</td>\n      <td>2279</td>\n      <td>7.238356609351989</td>\n      <td>2277.5</td>\n      <td>2278.5</td>\n      <td>1.0</td>\n      <td>97.29676175502</td>\n    </tr>\n    <tr>\n      <th>284</th>\n      <td>Si/SI2018/SI11318.Chn</td>\n      <td>2503</td>\n      <td>2499</td>\n      <td>2507</td>\n      <td>2502.7384401130444</td>\n      <td>43.893108686729974</td>\n      <td>13.89392174676562</td>\n      <td>3.2088857860491427</td>\n      <td>7.771626667909004</td>\n      <td>12.89392174676562</td>\n      <td>2500</td>\n      <td>2509</td>\n      <td>7.44696087338281</td>\n      <td>2501.647329200432</td>\n      <td>2503.8295510256567</td>\n      <td>2.1822218252245875</td>\n      <td>130.53870848444396</td>\n    </tr>\n    <tr>\n      <th>285</th>\n      <td>Si/SI2018/SI11318.Chn</td>\n      <td>2817</td>\n      <td>2813</td>\n      <td>2822</td>\n      <td>2817.394591525303</td>\n      <td>176.24283493481832</td>\n      <td>48.32140492260375</td>\n      <td>24.976680249042165</td>\n      <td>3.025254217083784</td>\n      <td>47.32140492260375</td>\n      <td>2813</td>\n      <td>2821</td>\n      <td>24.660702461301874</td>\n      <td>2816.0526882585923</td>\n      <td>2818.7364947920137</td>\n      <td>2.683806533421375</td>\n      <td>225.8453183035444</td>\n    </tr>\n    <tr>\n      <th>286</th>\n      <td>Si/SI2018/SI11318.Chn</td>\n      <td>2939</td>\n      <td>2932</td>\n      <td>2947</td>\n      <td>2939.3141935901003</td>\n      <td>188.3944031904439</td>\n      <td>43.79315036876867</td>\n      <td>11.968463946939888</td>\n      <td>8.019719180487122</td>\n      <td>42.79315036876867</td>\n      <td>2933</td>\n      <td>2943</td>\n      <td>22.396575184384336</td>\n      <td>2937.2731905418464</td>\n      <td>2941.3551966383548</td>\n      <td>4.082006096508394</td>\n      <td>249.05208541388564</td>\n    </tr>\n  </tbody>\n</table>\n<p>287 rows × 17 columns</p>\n</div>"
     },
     "execution_count": 4,
     "metadata": {},
     "output_type": "execute_result"
    }
   ],
   "source": [
    "spec_res = pd.read_pickle('../../../Nextcloud/Genie_Transfer/Si/SI2018/SI11318.pkl')\n",
    "spec_res"
   ]
  },
  {
   "cell_type": "code",
   "execution_count": 7,
   "outputs": [
    {
     "data": {
      "text/plain": "reduced_f_name      object\npeaks               object\nini_wide_regions    object\nfin_wide_regions    object\nfwhm_centr          object\nrough_sums          object\npeak_heights        object\nleft_thresholds     object\nright_thresholds    object\nprominences         object\nleft_bases          object\nright_bases         object\nwidth_heights       object\nleft_ips            object\nright_ips           object\nwidths              object\nvariances           object\ndtype: object"
     },
     "execution_count": 7,
     "metadata": {},
     "output_type": "execute_result"
    }
   ],
   "source": [
    "# spec_res.apply(np.float(np.sqrt))\n",
    "spec_res.dtypes\n",
    "\n",
    "# spec_res[['fwhm_centr', 'prominences', 2*spec_res['variances']]]\n",
    "# spec_res[['fwhm_centr', 'prominences', np.sqrt['variances']]]"
   ],
   "metadata": {
    "collapsed": false
   }
  },
  {
   "cell_type": "code",
   "execution_count": 17,
   "outputs": [
    {
     "data": {
      "text/plain": "           centr      height       stddv\n0      52.020659  173.139291   96.570273\n1      56.069403   69.593127  122.582713\n2      60.000000   15.390614  120.743045\n3      63.379599   70.725174  142.612475\n4      74.994616   79.678701  116.720272\n..           ...         ...         ...\n282  2215.000000   11.219726   10.185047\n283  2278.000000   12.476713    9.863912\n284  2502.738440   12.893922   11.425354\n285  2817.394592   47.321405   15.028151\n286  2939.314194   42.793150   15.781384\n\n[287 rows x 3 columns]",
      "text/html": "<div>\n<style scoped>\n    .dataframe tbody tr th:only-of-type {\n        vertical-align: middle;\n    }\n\n    .dataframe tbody tr th {\n        vertical-align: top;\n    }\n\n    .dataframe thead th {\n        text-align: right;\n    }\n</style>\n<table border=\"1\" class=\"dataframe\">\n  <thead>\n    <tr style=\"text-align: right;\">\n      <th></th>\n      <th>centr</th>\n      <th>height</th>\n      <th>stddv</th>\n    </tr>\n  </thead>\n  <tbody>\n    <tr>\n      <th>0</th>\n      <td>52.020659</td>\n      <td>173.139291</td>\n      <td>96.570273</td>\n    </tr>\n    <tr>\n      <th>1</th>\n      <td>56.069403</td>\n      <td>69.593127</td>\n      <td>122.582713</td>\n    </tr>\n    <tr>\n      <th>2</th>\n      <td>60.000000</td>\n      <td>15.390614</td>\n      <td>120.743045</td>\n    </tr>\n    <tr>\n      <th>3</th>\n      <td>63.379599</td>\n      <td>70.725174</td>\n      <td>142.612475</td>\n    </tr>\n    <tr>\n      <th>4</th>\n      <td>74.994616</td>\n      <td>79.678701</td>\n      <td>116.720272</td>\n    </tr>\n    <tr>\n      <th>...</th>\n      <td>...</td>\n      <td>...</td>\n      <td>...</td>\n    </tr>\n    <tr>\n      <th>282</th>\n      <td>2215.000000</td>\n      <td>11.219726</td>\n      <td>10.185047</td>\n    </tr>\n    <tr>\n      <th>283</th>\n      <td>2278.000000</td>\n      <td>12.476713</td>\n      <td>9.863912</td>\n    </tr>\n    <tr>\n      <th>284</th>\n      <td>2502.738440</td>\n      <td>12.893922</td>\n      <td>11.425354</td>\n    </tr>\n    <tr>\n      <th>285</th>\n      <td>2817.394592</td>\n      <td>47.321405</td>\n      <td>15.028151</td>\n    </tr>\n    <tr>\n      <th>286</th>\n      <td>2939.314194</td>\n      <td>42.793150</td>\n      <td>15.781384</td>\n    </tr>\n  </tbody>\n</table>\n<p>287 rows × 3 columns</p>\n</div>"
     },
     "execution_count": 17,
     "metadata": {},
     "output_type": "execute_result"
    }
   ],
   "source": [
    "df2 = pd.DataFrame({'centr' : pd.to_numeric(spec_res['fwhm_centr']),\n",
    "                    'height': pd.to_numeric(spec_res['prominences']),\n",
    "                    'stddv': np.sqrt(pd.to_numeric(spec_res['variances']))})\n",
    "df2"
   ],
   "metadata": {
    "collapsed": false
   }
  },
  {
   "cell_type": "code",
   "execution_count": 16,
   "outputs": [
    {
     "data": {
      "text/plain": "centr    float64\nstddv    float64\ndtype: object"
     },
     "execution_count": 16,
     "metadata": {},
     "output_type": "execute_result"
    }
   ],
   "source": [
    "df2.dtypes"
   ],
   "metadata": {
    "collapsed": false
   }
  },
  {
   "cell_type": "code",
   "execution_count": 5,
   "outputs": [
    {
     "data": {
      "text/plain": "['__add__',\n '__class__',\n '__contains__',\n '__delattr__',\n '__dir__',\n '__doc__',\n '__eq__',\n '__format__',\n '__ge__',\n '__getattribute__',\n '__getitem__',\n '__getnewargs__',\n '__gt__',\n '__hash__',\n '__init__',\n '__init_subclass__',\n '__iter__',\n '__le__',\n '__len__',\n '__lt__',\n '__mod__',\n '__mul__',\n '__ne__',\n '__new__',\n '__reduce__',\n '__reduce_ex__',\n '__repr__',\n '__rmod__',\n '__rmul__',\n '__setattr__',\n '__sizeof__',\n '__str__',\n '__subclasshook__',\n 'capitalize',\n 'casefold',\n 'center',\n 'count',\n 'encode',\n 'endswith',\n 'expandtabs',\n 'find',\n 'format',\n 'format_map',\n 'index',\n 'isalnum',\n 'isalpha',\n 'isascii',\n 'isdecimal',\n 'isdigit',\n 'isidentifier',\n 'islower',\n 'isnumeric',\n 'isprintable',\n 'isspace',\n 'istitle',\n 'isupper',\n 'join',\n 'ljust',\n 'lower',\n 'lstrip',\n 'maketrans',\n 'partition',\n 'removeprefix',\n 'removesuffix',\n 'replace',\n 'rfind',\n 'rindex',\n 'rjust',\n 'rpartition',\n 'rsplit',\n 'rstrip',\n 'split',\n 'splitlines',\n 'startswith',\n 'strip',\n 'swapcase',\n 'title',\n 'translate',\n 'upper',\n 'zfill']"
     },
     "execution_count": 5,
     "metadata": {},
     "output_type": "execute_result"
    }
   ],
   "source": [
    "dir('~')"
   ],
   "metadata": {
    "collapsed": false
   }
  },
  {
   "cell_type": "code",
   "execution_count": 6,
   "outputs": [
    {
     "ename": "SyntaxError",
     "evalue": "invalid syntax (3566513305.py, line 1)",
     "output_type": "error",
     "traceback": [
      "\u001B[1;36m  Cell \u001B[1;32mIn[6], line 1\u001B[1;36m\u001B[0m\n\u001B[1;33m    lkjhçlkjh pç\u001B[0m\n\u001B[1;37m              ^\u001B[0m\n\u001B[1;31mSyntaxError\u001B[0m\u001B[1;31m:\u001B[0m invalid syntax\n"
     ]
    }
   ],
   "source": [
    "lkjhçlkjh pç"
   ],
   "metadata": {
    "collapsed": false
   }
  },
  {
   "cell_type": "code",
   "execution_count": null,
   "outputs": [],
   "source": [],
   "metadata": {
    "collapsed": false
   }
  },
  {
   "cell_type": "code",
   "execution_count": null,
   "id": "4c0b0eca-bd29-4c22-b6a8-24a1e3bedd43",
   "metadata": {
    "tags": []
   },
   "outputs": [],
   "source": [
    "fig = go.Figure(data=go.Bar(y=[2, 3, 1]))\n",
    "fig.show()"
   ]
  },
  {
   "cell_type": "code",
   "execution_count": null,
   "id": "fa9ce5c3-9fb9-4b96-b35b-d513ffa2b3cc",
   "metadata": {},
   "outputs": [],
   "source": [
    "fig2 = go.FigureWidget()\n",
    "fig2.show()"
   ]
  },
  {
   "cell_type": "code",
   "execution_count": null,
   "id": "12315dd2-3b0e-4de2-9ecf-3244570df838",
   "metadata": {},
   "outputs": [],
   "source": [
    "fig2.add_scatter(y=[2, 1, 4, 3]);"
   ]
  },
  {
   "cell_type": "code",
   "execution_count": null,
   "id": "8a1fdc5d-7c0b-492d-9c60-06dc7bfb9192",
   "metadata": {},
   "outputs": [],
   "source": [
    "fig2.add_bar(y=[1, 4, 3, 2]);"
   ]
  },
  {
   "cell_type": "code",
   "execution_count": null,
   "id": "df00a843-51c2-4086-a742-e70c79ddf75b",
   "metadata": {},
   "outputs": [],
   "source": [
    "fig2.layout.title = 'Hello FigureWidget'"
   ]
  },
  {
   "cell_type": "code",
   "execution_count": null,
   "id": "fe9e1011-58f4-401b-9580-61a763f1e2b3",
   "metadata": {},
   "outputs": [],
   "source": [
    "fig2.show()"
   ]
  },
  {
   "cell_type": "code",
   "execution_count": null,
   "id": "7ecf816c-41f3-48d0-beb8-41eca026d491",
   "metadata": {},
   "outputs": [],
   "source": [
    "# Esse só abre no jupyter-notebook; não no jupyter-lab.\n",
    "# Acho que tem de instalar mais coisas (ver: https://plotly.com/python/getting-started/#jupyterlab-support)\n",
    "figw2 = go.FigureWidget(fig2)\n",
    "figw2"
   ]
  },
  {
   "cell_type": "code",
   "execution_count": null,
   "id": "6b72a9b5-8029-43a6-ab04-a21ccc822056",
   "metadata": {},
   "outputs": [],
   "source": []
  },
  {
   "cell_type": "code",
   "execution_count": null,
   "id": "e44456e9-2a7f-466b-a510-b7bc44c06ea4",
   "metadata": {},
   "outputs": [],
   "source": [
    "# Mais complexo: delays de todos os voos saindo de NYC em 2013\n",
    "# Exemplo em\n",
    "# https://plotly.com/python/figurewidget-app/"
   ]
  },
  {
   "cell_type": "code",
   "execution_count": null,
   "id": "5c11ea1f-13a4-4d68-873f-7ce471fedac2",
   "metadata": {},
   "outputs": [],
   "source": [
    "df = pd.read_csv(\n",
    "    'https://raw.githubusercontent.com/yankev/testing/master/datasets/nycflights.csv')\n",
    "df = df.drop(df.columns[[0]], axis=1)"
   ]
  },
  {
   "cell_type": "code",
   "execution_count": null,
   "id": "07ef0d20-44f1-42a8-a4ac-580c9ec0494b",
   "metadata": {},
   "outputs": [],
   "source": [
    "df.sample(3)"
   ]
  },
  {
   "cell_type": "code",
   "execution_count": null,
   "id": "6b55e488-606c-4608-912f-c6c92b797cbd",
   "metadata": {
    "tags": []
   },
   "outputs": [],
   "source": [
    "# Set of all carriers\n",
    "df['carrier'].unique()"
   ]
  },
  {
   "cell_type": "code",
   "execution_count": null,
   "id": "8eb0e366-e503-4efe-b312-d5d852751c75",
   "metadata": {},
   "outputs": [],
   "source": [
    "month = widgets.IntSlider(\n",
    "    value=1.0,\n",
    "    min=1.0,\n",
    "    max=12.0,\n",
    "    step=1.0,\n",
    "    description='Month:',\n",
    "    continuous_update=False\n",
    ")\n",
    "\n",
    "use_date = widgets.Checkbox(\n",
    "    description='Date: ',\n",
    "    value=True,\n",
    ")\n",
    "\n",
    "container = widgets.HBox(children=[use_date, month])\n",
    "\n",
    "textbox = widgets.Dropdown(\n",
    "    description='Airline:   ',\n",
    "    value='DL',\n",
    "    options=df['carrier'].unique().tolist()\n",
    ")\n",
    "\n",
    "origin = widgets.Dropdown(\n",
    "    options=list(df['origin'].unique()),\n",
    "    value='LGA',\n",
    "    description='Origin Airport:',\n",
    ")\n",
    "\n",
    "\n",
    "# Assign an empty figure widget with two traces\n",
    "trace1 = go.Histogram(x=df['arr_delay'], opacity=0.75, name='Arrival Delays')\n",
    "trace2 = go.Histogram(x=df['dep_delay'], opacity=0.75, name='Departure Delays')\n",
    "g = go.FigureWidget(data=[trace1, trace2],\n",
    "                    layout=go.Layout(\n",
    "                        title=dict(\n",
    "                            text='NYC FlightDatabase'\n",
    "                        ),\n",
    "                        barmode='overlay'\n",
    "                    ))"
   ]
  },
  {
   "cell_type": "code",
   "execution_count": null,
   "id": "c5999148-b7f9-47ff-ad62-29bdcc332023",
   "metadata": {},
   "outputs": [],
   "source": [
    "# Observando os widgets e alterando os gráficos de acordo"
   ]
  },
  {
   "cell_type": "code",
   "execution_count": null,
   "id": "2dd207f3-6cf0-480a-9d2b-9fbdb6ab2e40",
   "metadata": {},
   "outputs": [],
   "source": [
    "def validate():\n",
    "    if origin.value in df['origin'].unique() and textbox.value in df['carrier'].unique():\n",
    "        return True\n",
    "    else:\n",
    "        return False\n",
    "\n",
    "\n",
    "def response(change):\n",
    "    if validate():\n",
    "        if use_date.value:\n",
    "            filter_list = [i and j and k for i, j, k in\n",
    "                           zip(df['month'] == month.value, df['carrier'] == textbox.value,\n",
    "                               df['origin'] == origin.value)]\n",
    "            temp_df = df[filter_list]\n",
    "\n",
    "        else:\n",
    "            filter_list = [i and j for i, j in\n",
    "                           zip(df['carrier'] == 'DL', df['origin'] == origin.value)]\n",
    "            temp_df = df[filter_list]\n",
    "        x1 = temp_df['arr_delay']\n",
    "        x2 = temp_df['dep_delay']\n",
    "        with g.batch_update():\n",
    "            g.data[0].x = x1\n",
    "            g.data[1].x = x2\n",
    "            g.layout.barmode = 'overlay'\n",
    "            g.layout.xaxis.title = 'Delay in Minutes'\n",
    "            g.layout.yaxis.title = 'Number of Delays'\n",
    "\n",
    "\n",
    "origin.observe(response, names=\"value\")\n",
    "textbox.observe(response, names=\"value\")\n",
    "month.observe(response, names=\"value\")\n",
    "use_date.observe(response, names=\"value\")"
   ]
  },
  {
   "cell_type": "code",
   "execution_count": null,
   "id": "79869e9a-e520-455f-9f24-81949dee6952",
   "metadata": {},
   "outputs": [],
   "source": [
    "container2 = widgets.HBox([origin, textbox])"
   ]
  },
  {
   "cell_type": "code",
   "execution_count": null,
   "id": "adfe5b97",
   "metadata": {},
   "outputs": [],
   "source": [
    "# esses também: só fiz funcionar no jupyter-notebool, não no jupyter-lab"
   ]
  },
  {
   "cell_type": "code",
   "execution_count": null,
   "id": "d2e067b8-b4e7-43c7-9cdb-38a9150b1f29",
   "metadata": {},
   "outputs": [],
   "source": [
    "widgets.VBox([container,\n",
    "              container2,\n",
    "              g])"
   ]
  },
  {
   "cell_type": "code",
   "execution_count": null,
   "id": "c762e478",
   "metadata": {},
   "outputs": [],
   "source": [
    "allwidg = widgets.VBox([container,\n",
    "                        container2,\n",
    "                        g])"
   ]
  },
  {
   "cell_type": "code",
   "execution_count": null,
   "id": "ab161f88-2682-4809-90df-10267604c576",
   "metadata": {},
   "outputs": [],
   "source": [
    "lkjghpijghpiugh"
   ]
  },
  {
   "cell_type": "code",
   "execution_count": null,
   "id": "7b79c57f",
   "metadata": {},
   "outputs": [],
   "source": [
    "from ipywidgets.embed import embed_minimal_html\n",
    "embed_minimal_html('export.html', views=[allwidg], title='Widgets export')"
   ]
  },
  {
   "cell_type": "code",
   "execution_count": null,
   "id": "786e7d57",
   "metadata": {},
   "outputs": [],
   "source": [
    "import dash\n",
    "import dash_core_components as dcc\n",
    "import dash_html_components as html"
   ]
  },
  {
   "cell_type": "code",
   "execution_count": null,
   "id": "3a942443",
   "metadata": {},
   "outputs": [],
   "source": [
    "# Para rodar no navegador, uso o Dash. MAS só consegui rodar o basicão a seguir;\n",
    "# pois é um go.Figure.\n",
    "# O dos voos de NYC é um widget conteiner, não sei como fazer para rodar no navegador standalone."
   ]
  },
  {
   "cell_type": "code",
   "execution_count": null,
   "id": "a812847e",
   "metadata": {},
   "outputs": [],
   "source": [
    "# Este é o basicão\n",
    "\n",
    "fig = go.Figure(data=go.Bar(y=[23, 37, 13]))\n",
    "\n",
    "app = dash.Dash()\n",
    "app.layout = html.Div([\n",
    "    dcc.Graph(figure=fig)\n",
    "])\n",
    "\n",
    "app.run_server(debug=True, use_reloader=False)  # Turn off reloader if inside Jupyter"
   ]
  },
  {
   "cell_type": "code",
   "execution_count": null,
   "id": "dabbd753-89fb-480f-98bc-2e43bf083d08",
   "metadata": {},
   "outputs": [],
   "source": [
    "# https://plotly.com/python/line-and-scatter/#line-and-scatter-plots\n"
   ]
  },
  {
   "cell_type": "code",
   "execution_count": null,
   "id": "7bb830f5",
   "metadata": {},
   "outputs": [],
   "source": []
  },
  {
   "cell_type": "code",
   "execution_count": null,
   "id": "c782628e",
   "metadata": {},
   "outputs": [],
   "source": [
    "# TEM PCA!!! Análise de componentes principais\n",
    "# https://plotly.com/python/pca-visualization/"
   ]
  },
  {
   "cell_type": "code",
   "execution_count": null,
   "id": "98df474e-c379-4106-bcd9-2386bdf10c5d",
   "metadata": {},
   "outputs": [],
   "source": [
    "# Esse a seguir ainda não consegui fazer funcionar. É o tópico Histograms in Dash.\n",
    "# https://plotly.com/python/histograms/#histograms-in-dash\n",
    "\n",
    "# Acho que não dá para rodar no jupyter do jeito que está, talvez fazer o download do app.py"
   ]
  },
  {
   "cell_type": "code",
   "execution_count": null,
   "id": "dfe8aeaa-cbcb-4001-9ec5-fa53c6975037",
   "metadata": {},
   "outputs": [],
   "source": [
    "import dash\n",
    "import dash_core_components as dcc\n",
    "import dash_html_components as html\n",
    "from dash.dependencies import Input, Output\n",
    "import plotly.express as px\n",
    "import numpy as np\n",
    "\n",
    "np.random.seed(2020)\n",
    "\n",
    "app = dash.Dash(__name__)\n",
    "\n",
    "app.layout = html.Div([\n",
    "    dcc.Graph(id=\"graph\"),\n",
    "    html.P(\"Mean:\"),\n",
    "    dcc.Slider(id=\"mean\", min=-3, max=3, value=0, \n",
    "               marks={-3: '-3', 3: '3'}),\n",
    "    html.P(\"Standard Deviation:\"),\n",
    "    dcc.Slider(id=\"std\", min=1, max=3, value=1, \n",
    "               marks={1: '1', 3: '3'}),\n",
    "])\n",
    "\n",
    "@app.callback(\n",
    "    Output(\"graph\", \"figure\"), \n",
    "    [Input(\"mean\", \"value\"), \n",
    "     Input(\"std\", \"value\")])\n",
    "def display_color(mean, std):\n",
    "    data = np.random.normal(mean, std, size=500)\n",
    "    fig = px.histogram(data, nbins=30, range_x=[-10, 10])\n",
    "    return fig\n",
    "\n",
    "app.run_server(debug=True)"
   ]
  },
  {
   "cell_type": "code",
   "execution_count": null,
   "id": "0c8acd74-1d1e-4f90-9574-f0decbbf0a75",
   "metadata": {},
   "outputs": [],
   "source": []
  },
  {
   "cell_type": "code",
   "execution_count": null,
   "id": "eb118060-c1a0-4423-a5bd-046d7fff4b46",
   "metadata": {},
   "outputs": [],
   "source": []
  }
 ],
 "metadata": {
  "kernelspec": {
   "display_name": "Python 3 (ipykernel)",
   "language": "python",
   "name": "python3"
  },
  "language_info": {
   "codemirror_mode": {
    "name": "ipython",
    "version": 3
   },
   "file_extension": ".py",
   "mimetype": "text/x-python",
   "name": "python",
   "nbconvert_exporter": "python",
   "pygments_lexer": "ipython3",
   "version": "3.10.4"
  }
 },
 "nbformat": 4,
 "nbformat_minor": 5
}
