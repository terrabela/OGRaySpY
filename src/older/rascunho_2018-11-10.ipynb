{
 "cells": [
  {
   "cell_type": "code",
   "execution_count": null,
   "metadata": {},
   "outputs": [],
   "source": []
  },
  {
   "cell_type": "code",
   "execution_count": 2,
   "metadata": {},
   "outputs": [
    {
     "ename": "NameError",
     "evalue": "name 'cts_spc' is not defined",
     "output_type": "error",
     "traceback": [
      "\u001b[1;31m---------------------------------------------------------------------------\u001b[0m",
      "\u001b[1;31mNameError\u001b[0m                                 Traceback (most recent call last)",
      "\u001b[1;32m<ipython-input-2-23178af6261a>\u001b[0m in \u001b[0;36m<module>\u001b[1;34m()\u001b[0m\n\u001b[0;32m      2\u001b[0m \u001b[1;31m# 2018-11-09: Katowice\u001b[0m\u001b[1;33m\u001b[0m\u001b[1;33m\u001b[0m\u001b[0m\n\u001b[0;32m      3\u001b[0m \u001b[1;33m\u001b[0m\u001b[0m\n\u001b[1;32m----> 4\u001b[1;33m \u001b[0mycont\u001b[0m \u001b[1;33m=\u001b[0m \u001b[0mcts_spc\u001b[0m\u001b[1;33m\u001b[0m\u001b[0m\n\u001b[0m\u001b[0;32m      5\u001b[0m \u001b[0mexpect_width\u001b[0m \u001b[1;33m=\u001b[0m \u001b[1;36m5\u001b[0m\u001b[1;33m\u001b[0m\u001b[0m\n\u001b[0;32m      6\u001b[0m \u001b[0mwidths\u001b[0m \u001b[1;33m=\u001b[0m \u001b[0mnp\u001b[0m\u001b[1;33m.\u001b[0m\u001b[0marange\u001b[0m\u001b[1;33m(\u001b[0m\u001b[1;36m1\u001b[0m\u001b[1;33m,\u001b[0m \u001b[1;36m2\u001b[0m\u001b[1;33m*\u001b[0m\u001b[0mexpect_width\u001b[0m\u001b[1;33m)\u001b[0m\u001b[1;33m\u001b[0m\u001b[0m\n",
      "\u001b[1;31mNameError\u001b[0m: name 'cts_spc' is not defined"
     ]
    }
   ],
   "source": [
    "\n",
    "# 2018-11-09: Katowice\n",
    "\n",
    "ycont = cts_spc\n",
    "expect_width = 5\n",
    "widths = np.arange(1, 2*expect_width)\n",
    "\n",
    "indicescwt = signal.find_peaks_cwt(ycont_part, widths, max_distances=widths/4,\n",
    "                                   gap_thresh=2.0, min_snr=2.0)\n",
    "print(r'expect_width:', expect_width)\n",
    "print(r'indicescwt:', indicescwt)\n"
   ]
  },
  {
   "cell_type": "code",
   "execution_count": 3,
   "metadata": {},
   "outputs": [
    {
     "ename": "NameError",
     "evalue": "name 'ycont' is not defined",
     "output_type": "error",
     "traceback": [
      "\u001b[1;31m---------------------------------------------------------------------------\u001b[0m",
      "\u001b[1;31mNameError\u001b[0m                                 Traceback (most recent call last)",
      "\u001b[1;32m<ipython-input-3-2094e8f63710>\u001b[0m in \u001b[0;36m<module>\u001b[1;34m()\u001b[0m\n\u001b[1;32m----> 1\u001b[1;33m \u001b[0mlen\u001b[0m\u001b[1;33m(\u001b[0m\u001b[0mycont\u001b[0m\u001b[1;33m)\u001b[0m\u001b[1;33m\u001b[0m\u001b[0m\n\u001b[0m",
      "\u001b[1;31mNameError\u001b[0m: name 'ycont' is not defined"
     ]
    }
   ],
   "source": [
    "len(ycont)"
   ]
  },
  {
   "cell_type": "code",
   "execution_count": 4,
   "metadata": {},
   "outputs": [
    {
     "ename": "NameError",
     "evalue": "name 'cwtmatr' is not defined",
     "output_type": "error",
     "traceback": [
      "\u001b[1;31m---------------------------------------------------------------------------\u001b[0m",
      "\u001b[1;31mNameError\u001b[0m                                 Traceback (most recent call last)",
      "\u001b[1;32m<ipython-input-4-734ef5506229>\u001b[0m in \u001b[0;36m<module>\u001b[1;34m()\u001b[0m\n\u001b[1;32m----> 1\u001b[1;33m \u001b[0mlen\u001b[0m\u001b[1;33m(\u001b[0m\u001b[0mcwtmatr\u001b[0m\u001b[1;33m)\u001b[0m\u001b[1;33m\u001b[0m\u001b[0m\n\u001b[0m",
      "\u001b[1;31mNameError\u001b[0m: name 'cwtmatr' is not defined"
     ]
    }
   ],
   "source": [
    "len(cwtmatr)"
   ]
  },
  {
   "cell_type": "code",
   "execution_count": 5,
   "metadata": {},
   "outputs": [
    {
     "ename": "NameError",
     "evalue": "name 'expect_width' is not defined",
     "output_type": "error",
     "traceback": [
      "\u001b[1;31m---------------------------------------------------------------------------\u001b[0m",
      "\u001b[1;31mNameError\u001b[0m                                 Traceback (most recent call last)",
      "\u001b[1;32m<ipython-input-5-59e8d2f2dd0c>\u001b[0m in \u001b[0;36m<module>\u001b[1;34m()\u001b[0m\n\u001b[1;32m----> 1\u001b[1;33m \u001b[0mnscal\u001b[0m \u001b[1;33m=\u001b[0m \u001b[1;36m2\u001b[0m\u001b[1;33m*\u001b[0m\u001b[0mexpect_width\u001b[0m\u001b[1;33m-\u001b[0m\u001b[1;36m1\u001b[0m\u001b[1;33m\u001b[0m\u001b[0m\n\u001b[0m\u001b[0;32m      2\u001b[0m \u001b[0mscals\u001b[0m \u001b[1;33m=\u001b[0m \u001b[0mnp\u001b[0m\u001b[1;33m.\u001b[0m\u001b[0marange\u001b[0m\u001b[1;33m(\u001b[0m\u001b[1;36m1\u001b[0m\u001b[1;33m,\u001b[0m \u001b[0mnscal\u001b[0m \u001b[1;33m+\u001b[0m \u001b[1;36m1\u001b[0m\u001b[1;33m)\u001b[0m\u001b[1;33m\u001b[0m\u001b[0m\n\u001b[0;32m      3\u001b[0m \u001b[0mcwtmatr\u001b[0m \u001b[1;33m=\u001b[0m \u001b[0msignal\u001b[0m\u001b[1;33m.\u001b[0m\u001b[0mcwt\u001b[0m\u001b[1;33m(\u001b[0m\u001b[0mycont_part\u001b[0m\u001b[1;33m,\u001b[0m \u001b[0msignal\u001b[0m\u001b[1;33m.\u001b[0m\u001b[0mricker\u001b[0m\u001b[1;33m,\u001b[0m \u001b[0mscals\u001b[0m\u001b[1;33m)\u001b[0m\u001b[1;33m\u001b[0m\u001b[0m\n\u001b[0;32m      4\u001b[0m \u001b[1;33m\u001b[0m\u001b[0m\n\u001b[0;32m      5\u001b[0m \u001b[1;31m# ... e gr'afico\u001b[0m\u001b[1;33m\u001b[0m\u001b[1;33m\u001b[0m\u001b[0m\n",
      "\u001b[1;31mNameError\u001b[0m: name 'expect_width' is not defined"
     ]
    }
   ],
   "source": [
    "nscal = 2*expect_width-1\n",
    "scals = np.arange(1, nscal + 1)\n",
    "cwtmatr = signal.cwt(ycont_part, signal.ricker, scals)\n",
    "\n",
    "# ... e gr'afico\n",
    "\n",
    "# 2017-07-07: Reativar depois. Desativei os plots s'o para fazer benchmarking \n",
    "# dos c'alculos\n",
    "\n",
    "# plt.figure(figsize=(12,8))\n",
    "# plt.plot(xchan, ycont)\n",
    "# plt.title(\"Original spectrum\")\n",
    "# plt.show()\n",
    "\n",
    "# plt.figure(figsize=(12,8))\n",
    "# plt.plot(xchan_part, ycont_part)\n",
    "# plt.title(\"CWT-found peaks\")\n",
    "# pyplot.plot(indicescwt5, ycont[indicescwt5], 'go', fillstyle='none', ms=15)\n",
    "# plt.plot(indicescwt+offs, ycont_part[indicescwt], 'r^', fillstyle='none', ms=10)\n",
    "# 2017-06-28 Gr'afico dos coeficiente cwt para dada escala\n",
    "scalmin = 0 \n",
    "scalmed = expect_width-1 \n",
    "scalmax = 2*expect_width - 2\n",
    "# plt.plot(xchan_part, cwtmatr[scalmin], xchan_part, cwtmatr[scalmax], xchan_part, cwtmatr[scalmed])\n",
    "\n",
    "# grafico cwt: mapa de \n",
    "# plt.figure(figsize=(12,8))\n",
    "# plt.imshow(cwtmatr, extent=[-1, 1, nscal, 1], cmap='PRGn', aspect='auto', \n",
    "#           vmax=abs(cwtmatr).max(), vmin=-abs(cwtmatr).max())\n",
    "# plt.show()\n",
    "\n",
    "# ====================================="
   ]
  },
  {
   "cell_type": "code",
   "execution_count": 6,
   "metadata": {},
   "outputs": [
    {
     "ename": "NameError",
     "evalue": "name 'xchan' is not defined",
     "output_type": "error",
     "traceback": [
      "\u001b[1;31m---------------------------------------------------------------------------\u001b[0m",
      "\u001b[1;31mNameError\u001b[0m                                 Traceback (most recent call last)",
      "\u001b[1;32m<ipython-input-6-8915dedf1a2b>\u001b[0m in \u001b[0;36m<module>\u001b[1;34m()\u001b[0m\n\u001b[1;32m----> 1\u001b[1;33m \u001b[0mentro_y\u001b[0m \u001b[1;33m=\u001b[0m \u001b[0mentropy\u001b[0m\u001b[1;33m(\u001b[0m\u001b[0mxchan\u001b[0m\u001b[1;33m)\u001b[0m\u001b[1;33m\u001b[0m\u001b[0m\n\u001b[0m\u001b[0;32m      2\u001b[0m \u001b[0mentro_y\u001b[0m\u001b[1;33m\u001b[0m\u001b[0m\n",
      "\u001b[1;31mNameError\u001b[0m: name 'xchan' is not defined"
     ]
    }
   ],
   "source": [
    "entro_y = entropy(xchan)\n",
    "entro_y"
   ]
  },
  {
   "cell_type": "code",
   "execution_count": 7,
   "metadata": {},
   "outputs": [
    {
     "ename": "NameError",
     "evalue": "name 'xchan' is not defined",
     "output_type": "error",
     "traceback": [
      "\u001b[1;31m---------------------------------------------------------------------------\u001b[0m",
      "\u001b[1;31mNameError\u001b[0m                                 Traceback (most recent call last)",
      "\u001b[1;32m<ipython-input-7-30d69a7b4071>\u001b[0m in \u001b[0;36m<module>\u001b[1;34m()\u001b[0m\n\u001b[1;32m----> 1\u001b[1;33m \u001b[0mlen\u001b[0m\u001b[1;33m(\u001b[0m\u001b[0mxchan\u001b[0m\u001b[1;33m)\u001b[0m\u001b[1;33m\u001b[0m\u001b[0m\n\u001b[0m",
      "\u001b[1;31mNameError\u001b[0m: name 'xchan' is not defined"
     ]
    }
   ],
   "source": [
    "len(xchan)"
   ]
  },
  {
   "cell_type": "code",
   "execution_count": 8,
   "metadata": {},
   "outputs": [
    {
     "ename": "NameError",
     "evalue": "name 'ycont' is not defined",
     "output_type": "error",
     "traceback": [
      "\u001b[1;31m---------------------------------------------------------------------------\u001b[0m",
      "\u001b[1;31mNameError\u001b[0m                                 Traceback (most recent call last)",
      "\u001b[1;32m<ipython-input-8-2094e8f63710>\u001b[0m in \u001b[0;36m<module>\u001b[1;34m()\u001b[0m\n\u001b[1;32m----> 1\u001b[1;33m \u001b[0mlen\u001b[0m\u001b[1;33m(\u001b[0m\u001b[0mycont\u001b[0m\u001b[1;33m)\u001b[0m\u001b[1;33m\u001b[0m\u001b[0m\n\u001b[0m",
      "\u001b[1;31mNameError\u001b[0m: name 'ycont' is not defined"
     ]
    }
   ],
   "source": [
    "len(ycont)"
   ]
  },
  {
   "cell_type": "code",
   "execution_count": 9,
   "metadata": {},
   "outputs": [
    {
     "ename": "NameError",
     "evalue": "name 'ycont' is not defined",
     "output_type": "error",
     "traceback": [
      "\u001b[1;31m---------------------------------------------------------------------------\u001b[0m",
      "\u001b[1;31mNameError\u001b[0m                                 Traceback (most recent call last)",
      "\u001b[1;32m<ipython-input-9-bb238d963505>\u001b[0m in \u001b[0;36m<module>\u001b[1;34m()\u001b[0m\n\u001b[1;32m----> 1\u001b[1;33m \u001b[0mycont\u001b[0m\u001b[1;33m[\u001b[0m\u001b[1;36m100\u001b[0m\u001b[1;33m:\u001b[0m\u001b[1;36m200\u001b[0m\u001b[1;33m]\u001b[0m\u001b[1;33m\u001b[0m\u001b[0m\n\u001b[0m",
      "\u001b[1;31mNameError\u001b[0m: name 'ycont' is not defined"
     ]
    }
   ],
   "source": [
    "ycont[100:200]"
   ]
  },
  {
   "cell_type": "raw",
   "metadata": {},
   "source": [
    "np.log(4101)"
   ]
  },
  {
   "cell_type": "code",
   "execution_count": 10,
   "metadata": {},
   "outputs": [
    {
     "ename": "NameError",
     "evalue": "name 'xchan' is not defined",
     "output_type": "error",
     "traceback": [
      "\u001b[1;31m---------------------------------------------------------------------------\u001b[0m",
      "\u001b[1;31mNameError\u001b[0m                                 Traceback (most recent call last)",
      "\u001b[1;32m<ipython-input-10-82bde00da1e6>\u001b[0m in \u001b[0;36m<module>\u001b[1;34m()\u001b[0m\n\u001b[1;32m----> 1\u001b[1;33m \u001b[0mxchan\u001b[0m \u001b[1;33m[\u001b[0m\u001b[1;36m300\u001b[0m\u001b[1;33m:\u001b[0m\u001b[1;36m400\u001b[0m\u001b[1;33m]\u001b[0m\u001b[1;33m\u001b[0m\u001b[0m\n\u001b[0m",
      "\u001b[1;31mNameError\u001b[0m: name 'xchan' is not defined"
     ]
    }
   ],
   "source": [
    "xchan [300:400]"
   ]
  },
  {
   "cell_type": "code",
   "execution_count": 11,
   "metadata": {},
   "outputs": [
    {
     "ename": "NameError",
     "evalue": "name 'xchan' is not defined",
     "output_type": "error",
     "traceback": [
      "\u001b[1;31m---------------------------------------------------------------------------\u001b[0m",
      "\u001b[1;31mNameError\u001b[0m                                 Traceback (most recent call last)",
      "\u001b[1;32m<ipython-input-11-1b0cf63d12fd>\u001b[0m in \u001b[0;36m<module>\u001b[1;34m()\u001b[0m\n\u001b[0;32m      1\u001b[0m dados = (\n\u001b[1;32m----> 2\u001b[1;33m     \u001b[0mxchan\u001b[0m\u001b[1;33m,\u001b[0m\u001b[1;33m\u001b[0m\u001b[0m\n\u001b[0m\u001b[0;32m      3\u001b[0m     \u001b[0mycont\u001b[0m\u001b[1;33m,\u001b[0m\u001b[1;33m\u001b[0m\u001b[0m\n\u001b[0;32m      4\u001b[0m     \u001b[0mxchan_part\u001b[0m\u001b[1;33m,\u001b[0m\u001b[1;33m\u001b[0m\u001b[0m\n\u001b[0;32m      5\u001b[0m     \u001b[0mycont_part\u001b[0m\u001b[1;33m,\u001b[0m\u001b[1;33m\u001b[0m\u001b[0m\n",
      "\u001b[1;31mNameError\u001b[0m: name 'xchan' is not defined"
     ]
    }
   ],
   "source": [
    "dados = (\n",
    "    xchan,\n",
    "    ycont,\n",
    "    xchan_part,\n",
    "    ycont_part,\n",
    "    indicescwt,\n",
    "    cwtmatr\n",
    ")"
   ]
  },
  {
   "cell_type": "code",
   "execution_count": 12,
   "metadata": {},
   "outputs": [
    {
     "ename": "NameError",
     "evalue": "name 'dados' is not defined",
     "output_type": "error",
     "traceback": [
      "\u001b[1;31m---------------------------------------------------------------------------\u001b[0m",
      "\u001b[1;31mNameError\u001b[0m                                 Traceback (most recent call last)",
      "\u001b[1;32m<ipython-input-12-8278f36a6549>\u001b[0m in \u001b[0;36m<module>\u001b[1;34m()\u001b[0m\n\u001b[1;32m----> 1\u001b[1;33m \u001b[1;33m[\u001b[0m\u001b[0mprint\u001b[0m \u001b[1;33m(\u001b[0m\u001b[0mtype\u001b[0m\u001b[1;33m(\u001b[0m\u001b[0mdado\u001b[0m\u001b[1;33m)\u001b[0m\u001b[1;33m)\u001b[0m \u001b[1;32mfor\u001b[0m \u001b[0mdado\u001b[0m \u001b[1;32min\u001b[0m \u001b[0mdados\u001b[0m\u001b[1;33m]\u001b[0m\u001b[1;33m\u001b[0m\u001b[0m\n\u001b[0m",
      "\u001b[1;31mNameError\u001b[0m: name 'dados' is not defined"
     ]
    }
   ],
   "source": [
    "[print (type(dado)) for dado in dados]"
   ]
  },
  {
   "cell_type": "code",
   "execution_count": 13,
   "metadata": {},
   "outputs": [
    {
     "ename": "NameError",
     "evalue": "name 'dados' is not defined",
     "output_type": "error",
     "traceback": [
      "\u001b[1;31m---------------------------------------------------------------------------\u001b[0m",
      "\u001b[1;31mNameError\u001b[0m                                 Traceback (most recent call last)",
      "\u001b[1;32m<ipython-input-13-f429a69fad70>\u001b[0m in \u001b[0;36m<module>\u001b[1;34m()\u001b[0m\n\u001b[1;32m----> 1\u001b[1;33m (dados[0].shape,\n\u001b[0m\u001b[0;32m      2\u001b[0m  \u001b[0mdados\u001b[0m\u001b[1;33m[\u001b[0m\u001b[1;36m2\u001b[0m\u001b[1;33m]\u001b[0m\u001b[1;33m.\u001b[0m\u001b[0mshape\u001b[0m\u001b[1;33m,\u001b[0m\u001b[1;33m\u001b[0m\u001b[0m\n\u001b[0;32m      3\u001b[0m  \u001b[0mdados\u001b[0m\u001b[1;33m[\u001b[0m\u001b[1;36m4\u001b[0m\u001b[1;33m]\u001b[0m\u001b[1;33m.\u001b[0m\u001b[0mshape\u001b[0m\u001b[1;33m,\u001b[0m\u001b[1;33m\u001b[0m\u001b[0m\n\u001b[0;32m      4\u001b[0m  \u001b[0mdados\u001b[0m\u001b[1;33m[\u001b[0m\u001b[1;36m5\u001b[0m\u001b[1;33m]\u001b[0m\u001b[1;33m.\u001b[0m\u001b[0mshape\u001b[0m\u001b[1;33m\u001b[0m\u001b[0m\n\u001b[0;32m      5\u001b[0m ) \n",
      "\u001b[1;31mNameError\u001b[0m: name 'dados' is not defined"
     ]
    }
   ],
   "source": [
    "(dados[0].shape,\n",
    " dados[2].shape,\n",
    " dados[4].shape,\n",
    " dados[5].shape\n",
    ") "
   ]
  },
  {
   "cell_type": "code",
   "execution_count": 19,
   "metadata": {},
   "outputs": [
    {
     "data": {
      "text/plain": [
       "2.3978952727983707"
      ]
     },
     "execution_count": 19,
     "metadata": {},
     "output_type": "execute_result"
    }
   ],
   "source": [
    "entropy([0,0,0,0,0,0,0,0,0,0,0,0,0,0,7,7,7,7,7,7,7,7,7,7,7])"
   ]
  },
  {
   "cell_type": "code",
   "execution_count": 20,
   "metadata": {},
   "outputs": [
    {
     "data": {
      "text/plain": [
       "2.3978952727983707"
      ]
     },
     "execution_count": 20,
     "metadata": {},
     "output_type": "execute_result"
    }
   ],
   "source": [
    "np.log(11) # porque s~ao 11 elementos iguais e n~ao nulos"
   ]
  },
  {
   "cell_type": "code",
   "execution_count": 22,
   "metadata": {},
   "outputs": [
    {
     "data": {
      "image/png": "[encoded data removed]",
      "text/plain": [
       "<Figure size 432x288 with 1 Axes>"
      ]
     },
     "metadata": {},
     "output_type": "display_data"
    }
   ],
   "source": [
    "t = np.linspace(-1, 1, 200, endpoint=False)\n",
    "sig  = np.cos(2 * np.pi * 7 * t) + signal.gausspulse(t - 0.4, fc=2)\n",
    "widths = np.arange(1, 31)\n",
    "cwtmatr = signal.cwt(sig, signal.ricker, widths)\n",
    "plt.imshow(cwtmatr, extent=[-1, 1, 31, 1], cmap='PRGn', aspect='auto',\n",
    "           vmax=abs(cwtmatr).max(), vmin=-abs(cwtmatr).max())\n",
    "plt.show()"
   ]
  },
  {
   "cell_type": "code",
   "execution_count": 23,
   "metadata": {},
   "outputs": [
    {
     "data": {
      "text/plain": [
       "(30, 200)"
      ]
     },
     "execution_count": 23,
     "metadata": {},
     "output_type": "execute_result"
    }
   ],
   "source": [
    "nonullelements_cwtmatr = np.asarray(\n",
    "    [[negtozero(col) for col in row] for row in cwtmatr]\n",
    ")\n",
    "nonullelements_cwtmatr.shape"
   ]
  },
  {
   "cell_type": "code",
   "execution_count": 24,
   "metadata": {},
   "outputs": [],
   "source": [
    "entro_sig = [entropy(scal) for scal in nonullelements_cwtmatr]"
   ]
  },
  {
   "cell_type": "code",
   "execution_count": 25,
   "metadata": {},
   "outputs": [
    {
     "data": {
      "text/plain": [
       "[4.43214578451323,\n",
       " 4.473580668914959,\n",
       " 4.465439871732126,\n",
       " 4.444793993614136,\n",
       " 4.389282552486421,\n",
       " 4.313264776740905,\n",
       " 4.2225489243059116,\n",
       " 4.145231054740218,\n",
       " 4.1390262377835985,\n",
       " 4.157965114362301,\n",
       " 4.167953525291059,\n",
       " 4.171413100135091,\n",
       " 4.171045278909532,\n",
       " 4.16730657421387,\n",
       " 4.15738287350013,\n",
       " 4.145762721507314,\n",
       " 4.1372138198874815,\n",
       " 4.126114317921016,\n",
       " 4.113391636239089,\n",
       " 4.1042931593667955,\n",
       " 4.112380014444571,\n",
       " 4.1190742970712115,\n",
       " 4.125433664919164,\n",
       " 4.13477036972234,\n",
       " 4.141319907923569,\n",
       " 4.143252757055407,\n",
       " 4.143571102035802,\n",
       " 4.139430798487252,\n",
       " 4.129482510931833,\n",
       " 4.11130496829621]"
      ]
     },
     "execution_count": 25,
     "metadata": {},
     "output_type": "execute_result"
    }
   ],
   "source": [
    "entro_sig"
   ]
  },
  {
   "cell_type": "code",
   "execution_count": 26,
   "metadata": {},
   "outputs": [
    {
     "ename": "NameError",
     "evalue": "name 'entro_spc' is not defined",
     "output_type": "error",
     "traceback": [
      "\u001b[1;31m---------------------------------------------------------------------------\u001b[0m",
      "\u001b[1;31mNameError\u001b[0m                                 Traceback (most recent call last)",
      "\u001b[1;32m<ipython-input-26-605a11eedcfa>\u001b[0m in \u001b[0;36m<module>\u001b[1;34m()\u001b[0m\n\u001b[1;32m----> 1\u001b[1;33m \u001b[0mentro_spc\u001b[0m\u001b[1;33m\u001b[0m\u001b[0m\n\u001b[0m",
      "\u001b[1;31mNameError\u001b[0m: name 'entro_spc' is not defined"
     ]
    }
   ],
   "source": [
    "entro_spc"
   ]
  },
  {
   "cell_type": "code",
   "execution_count": 27,
   "metadata": {},
   "outputs": [
    {
     "data": {
      "image/png": "[encoded data removed]",
      "text/plain": [
       "<Figure size 432x288 with 1 Axes>"
      ]
     },
     "metadata": {},
     "output_type": "display_data"
    }
   ],
   "source": [
    "plt.plot(entro_sig)\n",
    "plt.show()"
   ]
  },
  {
   "cell_type": "code",
   "execution_count": 28,
   "metadata": {},
   "outputs": [
    {
     "ename": "NameError",
     "evalue": "name 'entro_spc' is not defined",
     "output_type": "error",
     "traceback": [
      "\u001b[1;31m---------------------------------------------------------------------------\u001b[0m",
      "\u001b[1;31mNameError\u001b[0m                                 Traceback (most recent call last)",
      "\u001b[1;32m<ipython-input-28-94bd4a5d76ee>\u001b[0m in \u001b[0;36m<module>\u001b[1;34m()\u001b[0m\n\u001b[1;32m----> 1\u001b[1;33m \u001b[0mplt\u001b[0m\u001b[1;33m.\u001b[0m\u001b[0mplot\u001b[0m\u001b[1;33m(\u001b[0m\u001b[0mentro_spc\u001b[0m\u001b[1;33m)\u001b[0m\u001b[1;33m\u001b[0m\u001b[0m\n\u001b[0m\u001b[0;32m      2\u001b[0m \u001b[0mplt\u001b[0m\u001b[1;33m.\u001b[0m\u001b[0mshow\u001b[0m\u001b[1;33m(\u001b[0m\u001b[1;33m)\u001b[0m\u001b[1;33m\u001b[0m\u001b[0m\n",
      "\u001b[1;31mNameError\u001b[0m: name 'entro_spc' is not defined"
     ]
    }
   ],
   "source": [
    "plt.plot(entro_spc)\n",
    "plt.show()"
   ]
  },
  {
   "cell_type": "code",
   "execution_count": 29,
   "metadata": {},
   "outputs": [
    {
     "data": {
      "image/png": "[encoded data removed]",
      "text/plain": [
       "<Figure size 432x288 with 1 Axes>"
      ]
     },
     "metadata": {},
     "output_type": "display_data"
    }
   ],
   "source": [
    "plt.plot(sig)\n",
    "plt.show()"
   ]
  },
  {
   "cell_type": "raw",
   "metadata": {},
   "source": [
    "# 2020-09-06 Mais um método para estimar baseline: fazer percentil em ajuste\n",
    "# quadrático em janelas do logaritmo das contagens\n",
    "\n",
    "# https://numpy.org/doc/stable/reference/routines.polynomials.classes.html\n",
    "\n",
    "matrFits = np.zeros((nChPart, 2*hStaW+1))\n",
    "blineQuaPerc = np.zeros(nChPart)\n",
    "for i in range(hStaW,nChPart-hStaW-1):\n",
    "    p = P.fit(spec2.xs[i-hStaW:i+hStaW+1], spec2.lnCounts[i-hStaW:i+hStaW+1], deg=2)\n",
    "    matrFits[i,:] = p(spec2.xs[i-hStaW:i+hStaW+1])\n",
    "for i in range(hStaW,nChPart-hStaW-1):\n",
    "    dia = np.fliplr(matrFits[i-hStaW:i+hStaW+1,:]).diagonal()  # Horizontal flip\n",
    "    blineQuaPerc[i] = np.exp(np.percentile(dia, perc))"
   ]
  },
  {
   "cell_type": "raw",
   "metadata": {},
   "source": [
    "# 2020-09-06 Mais um método para estimar baseline: fazer percentil em ajuste\n",
    "# quadrático em janelas do logaritmo das contagens\n",
    "\n",
    "# https://numpy.org/doc/stable/reference/routines.polynomials.classes.html\n",
    "\n",
    "matrFits = np.zeros((nChPart, 2*hStaW+1))\n",
    "blineLinPerc = np.zeros(nChPart)\n",
    "for i in range(hStaW,nChPart-hStaW-1):\n",
    "    p = P.fit(spec2.xs[i-hStaW:i+hStaW+1], spec2.lnCounts[i-hStaW:i+hStaW+1], deg=1)\n",
    "    matrFits[i,:] = p(spec2.xs[i-hStaW:i+hStaW+1])\n",
    "for i in range(hStaW,nChPart-hStaW-1):\n",
    "    dia = np.fliplr(matrFits[i-hStaW:i+hStaW+1,:]).diagonal()  # Horizontal flip\n",
    "    blineLinPerc[i] = np.exp(np.percentile(dia, perc))"
   ]
  },
  {
   "cell_type": "raw",
   "metadata": {},
   "source": [
    "# 2020-09-06 Mais um método para estimar baseline: fazer percentil em ajuste\n",
    "# LINEAR em janelas do logaritmo das contagens\n",
    "\n",
    "# https://numpy.org/doc/stable/reference/routines.polynomials.classes.html\n",
    "\n",
    "matrFits = np.zeros((nChPart, 2*hStaW+1))\n",
    "blineConPerc = np.zeros(nChPart)\n",
    "for i in range(hStaW,nChPart-hStaW-1):\n",
    "    p = P.fit(spec2.xs[i-hStaW:i+hStaW+1], spec2.lnCounts[i-hStaW:i+hStaW+1], deg=0)\n",
    "    matrFits[i,:] = p(spec2.xs[i-hStaW:i+hStaW+1])\n",
    "for i in range(hStaW,nChPart-hStaW-1):\n",
    "    dia = np.fliplr(matrFits[i-hStaW:i+hStaW+1,:]).diagonal()  # Horizontal flip\n",
    "    blineConPerc[i] = np.exp(np.percentile(dia, perc))"
   ]
  },
  {
   "cell_type": "raw",
   "metadata": {},
   "source": [
    "# 2020-09-06 Bokeh graph 5\n",
    "default_plot_width, default_plot_height = set_screen_size_by_machine()\n",
    "tools='pan,xwheel_zoom,xbox_select,reset'\n",
    "boka = figure(\n",
    "    plot_width =default_plot_width,\n",
    "    # plot_height=300,\n",
    "    plot_height=default_plot_height,\n",
    "    y_axis_type=\"log\",\n",
    "    tools=tools\n",
    ")\n",
    "boka.circle(spec2.xs, spec2.y0s, color=\"red\",size=2)\n",
    "boka.line(spec2.xs, blineQuaPerc, color=\"orange\")\n",
    "p = gridplot([boka], ncols=1)\n",
    "show(p)"
   ]
  },
  {
   "cell_type": "raw",
   "metadata": {},
   "source": [
    "# 2020-09-06 Bokeh graph 6\n",
    "default_plot_width, default_plot_height = set_screen_size_by_machine()\n",
    "tools='pan,xwheel_zoom,xbox_select,reset'\n",
    "boka = figure(\n",
    "    plot_width =default_plot_width,\n",
    "    # plot_height=300,\n",
    "    plot_height=default_plot_height,\n",
    "    y_axis_type=\"log\",\n",
    "    tools=tools\n",
    ")\n",
    "boka.circle(spec2.xs, spec2.y0s, color=\"red\",size=2)\n",
    "boka.line(spec2.xs, blineLinPerc, color=\"blue\")\n",
    "p = gridplot([boka], ncols=1)\n",
    "show(p)"
   ]
  },
  {
   "cell_type": "raw",
   "metadata": {},
   "source": [
    "# 2020-09-06 Bokeh graph 7\n",
    "default_plot_width, default_plot_height = set_screen_size_by_machine()\n",
    "tools='pan,xwheel_zoom,xbox_select,reset'\n",
    "boka = figure(\n",
    "    plot_width =default_plot_width,\n",
    "    # plot_height=300,\n",
    "    plot_height=default_plot_height,\n",
    "    y_axis_type=\"log\",\n",
    "    tools=tools\n",
    ")\n",
    "boka.circle(spec2.xs, spec2.y0s, color=\"red\",size=2)\n",
    "boka.line(spec2.xs, blineConPerc, color=\"green\")\n",
    "p = gridplot([boka], ncols=1)\n",
    "show(p)"
   ]
  },
  {
   "cell_type": "raw",
   "metadata": {},
   "source": [
    "is_bline = np.array(spec2.lnCounts)\n",
    "for i,pk in enumerate(chanCwtpk):\n",
    "    is_bline[pk-halfWins[i]:pk+halfWins[i]+1] = np.nan\n",
    "mascara = ~(ma.masked_invalid(is_bline).mask)\n",
    "xbline = spec2.xs[mascara]\n",
    "ybline = spec2.lnCounts[mascara]\n",
    "\n",
    "# turn UnivariateSpline(xbline, ybline, k=3, s=halfWin*10.0)\n"
   ]
  },
  {
   "cell_type": "raw",
   "metadata": {},
   "source": [
    "# 2020-07-11 RASCUNHO\n",
    "\n",
    "uncys = np.sqrt(ys)\n",
    "\n",
    "bokzz = figure(\n",
    "    plot_width =default_plot_width,\n",
    "    plot_height=default_plot_height,\n",
    "    tools=\"pan,box_zoom,reset,save\",\n",
    "    y_axis_type=\"log\",\n",
    "    x_range=[20,40],\n",
    "    y_range=yrange,\n",
    ")\n",
    "\n",
    "base, lower, upper = [], [], []\n",
    "\n",
    "for i, x in enumerate(list(ens)):\n",
    "    lower.append(ys[i]-uncys[i])\n",
    "    upper.append(ys[i]+uncys[i])\n",
    "    base.append(x)\n",
    "\n",
    "source_error = ColumnDataSource(data=dict(base=base, lower=lower, upper=upper))\n",
    "\n",
    "bokzz.add_layout(\n",
    "    Whisker(source=source_error, base=\"base\", upper=\"upper\", lower=\"lower\")\n",
    ")    \n",
    "    \n",
    "bokzz.circle(spec2.xs, spec2.y0s, color=\"red\",size=4)\n",
    "bokzz.line(spec2.xs, spec2.y0s)\n",
    "\n",
    "show(bokzz)"
   ]
  },
  {
   "cell_type": "code",
   "execution_count": 7,
   "metadata": {},
   "outputs": [],
   "source": [
    "# 2020-09-05 Fator para cálculo da largura da janela: kWin"
   ]
  },
  {
   "cell_type": "raw",
   "metadata": {},
   "source": [
    "# https://stackoverflow.com/questions/10873824/how-to-convert-2d-float-numpy-array-to-2d-int-numpy-array\n",
    "halfWins = np.int_(np.rint(kWin*widths[scales]))\n",
    "halfWins"
   ]
  },
  {
   "cell_type": "raw",
   "metadata": {},
   "source": [
    "xbl = np.ones(nChPart,dtype=int)\n",
    "for i,pk in enumerate(chanCwtpk):\n",
    "    xbl[pk-halfWins[i]:pk+halfWins[i]+1] = 0\n",
    "imabl = np.array([xbl,xbl,xbl])"
   ]
  },
  {
   "cell_type": "raw",
   "metadata": {},
   "source": [
    "stru22 = generate_binary_structure(2,2)\n",
    "lblimag22, num_feat_imag22 = label(imabl,stru22)\n",
    "objs = find_objects(lblimag22)\n",
    "stopsBls = [i[1].stop for i in objs]\n",
    "startsBls = [i[1].start for i in objs]\n",
    "len(objs)"
   ]
  },
  {
   "cell_type": "raw",
   "metadata": {},
   "source": [
    "# Tentar aqui um método mais direto para estimar baseline: esta está melhor ainda!!!!!\n",
    "# Aqui usando spline SOBRE LNCOUNTS\n",
    "blineMin = np.zeros(nChPart)\n",
    "hWIni = hStaW(nChPart,0)\n",
    "for i in range(hWIni,nChPart-3*hWIni):\n",
    "    hW = hStaW(nChPart, i)\n",
    "    blineMin[i] = np.percentile(spec2.lnCounts[i-hW:i+hW+1],  perc)\n",
    "tckDirectSpl = splrep(spec2.xs, blineMin, k=3, s=smoo)\n",
    "directSpl = np.exp(splev(spec2.xs, tckDirectSpl, der=0))"
   ]
  },
  {
   "cell_type": "code",
   "execution_count": null,
   "metadata": {},
   "outputs": [],
   "source": []
  },
  {
   "cell_type": "code",
   "execution_count": null,
   "metadata": {},
   "outputs": [],
   "source": []
  },
  {
   "cell_type": "code",
   "execution_count": null,
   "metadata": {},
   "outputs": [],
   "source": []
  },
  {
   "cell_type": "raw",
   "metadata": {},
   "source": [
    "# 2020-09-22 Enorme funçao que estou tirando de gamma_spectrum_claa\n",
    "# Só aproveitar alguma coisa.\n",
    "    \n",
    "    def analisa_este_espectro(self, widths_range=(2,7), n_side_chans=11, n_side_centr_ch=5,\n",
    "                              nsca_det=5, min_cwtpk = 13.0):\n",
    "        # self.readSp( fn2 )\n",
    "        # spec2.spLngData = 4096\n",
    "\n",
    "        widths = np.linspace(widths_range[0],widths_range[1],num=30)\n",
    "        ipks2 = find_peaks_cwt(self.y0s,\n",
    "                               widths=[widths[1]],wavelet=ricker,max_distances=widths/4,min_snr=1.0,noise_perc=10)\n",
    "        # constante k: ver no Maxima: (sqrt(3)*6^(3/2))/(2^(3/2)*5^(5/4)*%pi^(1/4));\n",
    "        k = (np.sqrt(3)*6**(3/2))/(2**(3/2)*5**(5/4)*np.pi**(1/4))\n",
    "        kfwhm = 2*np.sqrt(2*np.log(2))\n",
    "        karea = np.sqrt(2*np.pi)\n",
    "        \n",
    "        pk_per_scal = []\n",
    "        for wid in widths:\n",
    "            pk_per_scal.append(find_peaks_cwt\n",
    "                               (self.y0s,widths=[wid],wavelet=ricker,max_distances=widths/4,min_snr=1.0,noise_perc=10))\n",
    "\n",
    "        pks_cwt_flatten = []\n",
    "        for isc, pksc in enumerate(pk_per_scal):\n",
    "            for pk in pksc:\n",
    "                pks_cwt_flatten.append([pk,widths[isc]])\n",
    "\n",
    "        self.ar1 = np.asarray(pks_cwt_flatten)\n",
    "\n",
    "        # imag1: imagem de pixels binahrios dos picos nas escalas\n",
    "        imag1 = np.zeros((len(widths),len(self.xs)))\n",
    "        for isc, pksc in enumerate(pk_per_scal):\n",
    "            for pk in pksc:\n",
    "                imag1[isc,pk] = 1\n",
    "        stru_diag_also = generate_binary_structure(2,2)\n",
    "        lblimag1, num_feat_imag1 = label(imag1,stru_diag_also)\n",
    "        ridges = find_objects(lblimag1)\n",
    "        ridges_rectangles = [lblimag1[loc] for loc in ridges]\n",
    "        cwtmatr = cwt(self.y0s, ricker, widths)\n",
    "\n",
    "        xpk = []\n",
    "        ypk = []\n",
    "        centrpk = []\n",
    "        cwtpk = []\n",
    "        nscpk = []\n",
    "        regions_slcs = []\n",
    "        for iridge, ridge in enumerate(ridges):\n",
    "            lbl_ridge = iridge+1\n",
    "            nscpk.append( ridge[0].stop - ridge[0].start)\n",
    "            labeled = lblimag1[ridge]\n",
    "            cwts_ridge = cwtmatr[ridge]\n",
    "            retang3 = ma.masked_where(labeled!=lbl_ridge,cwts_ridge)\n",
    "            maxim3 = np.max(retang3)\n",
    "            flat_retang_ind = np.argmax(retang3)\n",
    "            retang_indices = np.unravel_index(flat_retang_ind,np.shape(retang3))\n",
    "            # print(iridge)\n",
    "            # print(ridge)\n",
    "            # print(maxim3)\n",
    "            # print(retang_indices)\n",
    "            indices_max_in_ridge = tuple(map(lambda x, y: x + y, retang_indices, (ridge[0].start, ridge[1].start)))\n",
    "            cwtpk.append(maxim3)\n",
    "            xpk.append( indices_max_in_ridge[1] )\n",
    "            ypk.append( widths[indices_max_in_ridge[0]] )\n",
    "            region_slc = slice(xpk[-1]-n_side_chans, xpk[-1]+n_side_chans+1)\n",
    "            regions_slcs.append(region_slc)\n",
    "            # 2019-10-02 C'alculo de centroide\n",
    "            region_centr = slice(xpk[-1]-n_side_centr_ch, xpk[-1]+n_side_centr_ch+1)\n",
    "            centrpk.append( np.sum(self.xs[region_centr]*self.y0s[region_centr]) / np.sum(self.y0s[region_centr]))\n",
    "\n",
    "        nscpk_ma = ma.masked_less(nscpk, nsca_det)\n",
    "        cwtpk_ma = ma.masked_less(cwtpk, min_cwtpk)\n",
    "        valid_peaks = ~(cwtpk_ma.mask | nscpk_ma.mask)\n",
    "        regions_slcs_valid = np.asarray(regions_slcs)[valid_peaks]\n",
    "\n",
    "        ypkregs = []\n",
    "        fwhms = []\n",
    "        gau_areas = []\n",
    "        unc_gau_areas = []\n",
    "        peak_constructed_spectrum = np.zeros(len(self.xs))\n",
    "        for ipk, pk in enumerate(valid_peaks):\n",
    "            if pk:\n",
    "                # ypicoregio = gaus_sig(xs[regions_slcs[ipk2]],sigmamaximo,gau_hei,centroide)ypicoregio\n",
    "                # subtrair o pica v'alido\n",
    "                escalmaxima = ypk[ipk]\n",
    "                maxcwt = cwtpk[ipk]\n",
    "                centroide = centrpk[ipk]\n",
    "                sigmamaximo = escalmaxima / np.sqrt(5)\n",
    "                fwhm = kfwhm * sigmamaximo\n",
    "                gau_hei = k * maxcwt / np.sqrt(sigmamaximo)\n",
    "                gau_area = gau_hei * sigmamaximo * karea\n",
    "                # print(escalmaxima, maxcwt, centroide, sigmamaximo, gau_hei)\n",
    "                region_start = regions_slcs[ipk].start\n",
    "                # print(region_start)\n",
    "                ypicoregio = gaus_sig(self.xs[regions_slcs[ipk]],sigmamaximo,gau_hei,centroide)\n",
    "                # print(ypicoregio)\n",
    "                ypkregs.append(ypicoregio)\n",
    "                fwhms.append(fwhm)\n",
    "                gau_areas.append(gau_area)\n",
    "                peak_constructed_spectrum[regions_slcs[ipk]] += ypicoregio\n",
    "        # peak_constructed_spectrum\n",
    "        baseline_spectrum = self.y0s - peak_constructed_spectrum\n",
    "        len_bl = len(baseline_spectrum)\n",
    "        bl_median_smoother = np.zeros(len_bl)\n",
    "        bl_median_smoother[20:len_bl-20] = np.asarray(\n",
    "            [np.median(baseline_spectrum[i-n_side_chans:i+n_side_chans+1]) for i in range(20,len_bl-20) ])\n",
    "\n",
    "        # reconstructed_spectrum with median-smoothed baseline\n",
    "        ys_reconstructed = peak_constructed_spectrum + bl_median_smoother\n",
    "        stripped_spectrum = self.y0s - bl_median_smoother\n",
    "        for ipk,regio in enumerate(regions_slcs_valid):\n",
    "            bline_cts = np.sum(bl_median_smoother[regio])\n",
    "            unc_gau_area = np.sqrt(gau_areas[ipk]+bline_cts)\n",
    "            # print ('gau_areas: ', gau_areas[ipk])\n",
    "            # print ('unc_gau_area: ', unc_gau_area)\n",
    "            # print ('bline_cts: ', bline_cts)\n",
    "            # print ('------------------------')\n",
    "            unc_gau_areas.append(unc_gau_area)\n",
    "        y0s_xpk_valid = self.y0s[xpk][valid_peaks]\n",
    "        y0s_xpk_invld = self.y0s[xpk][~valid_peaks]\n",
    "        centrpk_valid = np.asarray(centrpk)[valid_peaks]\n",
    "        centrpk_invld = np.asarray(centrpk)[~valid_peaks]\n",
    "        # df2 = pd.DataFrame({'Centr': centrpk_valid,\n",
    "        #                     'Fwhm': fwhms,\n",
    "        #                     'Area': gau_areas,\n",
    "        #                     'SArea': unc_gau_areas})\n",
    "\n",
    "        \n",
    "        # 2014-12-16: repetindo tudo isso com o espectro stripped:\n",
    "        pk_per_scal = []\n",
    "        for wid in widths:\n",
    "            pk_per_scal.append(find_peaks_cwt\n",
    "                               (stripped_spectrum,widths=[wid],wavelet=ricker,max_distances=widths/4,min_snr=1.0,noise_perc=10))\n",
    "\n",
    "        pks_cwt_flatten = []\n",
    "        for isc, pksc in enumerate(pk_per_scal):\n",
    "            for pk in pksc:\n",
    "                pks_cwt_flatten.append([pk,widths[isc]])\n",
    "\n",
    "        self.ar1 = np.asarray(pks_cwt_flatten)\n",
    "\n",
    "        # imag1: imagem de pixels binahrios dos picos nas escalas\n",
    "        imag1 = np.zeros((len(widths),len(self.xs)))\n",
    "        for isc, pksc in enumerate(pk_per_scal):\n",
    "            for pk in pksc:\n",
    "                imag1[isc,pk] = 1\n",
    "        stru_diag_also = generate_binary_structure(2,2)\n",
    "        lblimag1, num_feat_imag1 = label(imag1,stru_diag_also)\n",
    "        ridges = find_objects(lblimag1)\n",
    "        ridges_rectangles = [lblimag1[loc] for loc in ridges]\n",
    "        cwtmatr = cwt(stripped_spectrum, ricker, widths)\n",
    "\n",
    "        xpk = []\n",
    "        ypk = []\n",
    "        centrpk = []\n",
    "        cwtpk = []\n",
    "        nscpk = []\n",
    "        regions_slcs = []\n",
    "        for iridge, ridge in enumerate(ridges):\n",
    "            lbl_ridge = iridge+1\n",
    "            nscpk.append( ridge[0].stop - ridge[0].start)\n",
    "            labeled = lblimag1[ridge]\n",
    "            cwts_ridge = cwtmatr[ridge]\n",
    "            retang3 = ma.masked_where(labeled!=lbl_ridge,cwts_ridge)\n",
    "            maxim3 = np.max(retang3)\n",
    "            flat_retang_ind = np.argmax(retang3)\n",
    "            retang_indices = np.unravel_index(flat_retang_ind,np.shape(retang3))\n",
    "            # print(iridge)\n",
    "            # print(ridge)\n",
    "            # print(maxim3)\n",
    "            # print(retang_indices)\n",
    "            indices_max_in_ridge = tuple(map(lambda x, y: x + y, retang_indices, (ridge[0].start, ridge[1].start)))\n",
    "            cwtpk.append(maxim3)\n",
    "            xpk.append( indices_max_in_ridge[1] )\n",
    "            ypk.append( widths[indices_max_in_ridge[0]] )\n",
    "            region_slc = slice(xpk[-1]-n_side_chans, xpk[-1]+n_side_chans+1)\n",
    "            regions_slcs.append(region_slc)\n",
    "            # 2019-10-02 C'alculo de centroide\n",
    "            region_centr = slice(xpk[-1]-n_side_centr_ch, xpk[-1]+n_side_centr_ch+1)\n",
    "            centrpk.append( np.sum(self.xs[region_centr]*stripped_spectrum[region_centr]) / np.sum(stripped_spectrum[region_centr]))\n",
    "\n",
    "        nscpk_ma = ma.masked_less(nscpk, nsca_det)\n",
    "        cwtpk_ma = ma.masked_less(cwtpk, min_cwtpk)\n",
    "        valid_peaks = ~(cwtpk_ma.mask | nscpk_ma.mask)\n",
    "        regions_slcs_valid = np.asarray(regions_slcs)[valid_peaks]\n",
    "\n",
    "        ypkregs = []\n",
    "        fwhms = []\n",
    "        gau_areas = []\n",
    "        unc_gau_areas = []\n",
    "        peak_constructed_spectrum = np.zeros(len(self.xs))\n",
    "        for ipk, pk in enumerate(valid_peaks):\n",
    "            if pk:\n",
    "                # ypicoregio = gaus_sig(xs[regions_slcs[ipk2]],sigmamaximo,gau_hei,centroide)ypicoregio\n",
    "                # subtrair o pica v'alido\n",
    "                escalmaxima = ypk[ipk]\n",
    "                maxcwt = cwtpk[ipk]\n",
    "                centroide = centrpk[ipk]\n",
    "                sigmamaximo = escalmaxima / np.sqrt(5)\n",
    "                fwhm = kfwhm * sigmamaximo\n",
    "                gau_hei = k * maxcwt / np.sqrt(sigmamaximo)\n",
    "                gau_area = gau_hei * sigmamaximo * karea\n",
    "                # print(escalmaxima, maxcwt, centroide, sigmamaximo, gau_hei)\n",
    "                region_start = regions_slcs[ipk].start\n",
    "                # print(region_start)\n",
    "                ypicoregio = gaus_sig(self.xs[regions_slcs[ipk]],sigmamaximo,gau_hei,centroide)\n",
    "                # print(ypicoregio)\n",
    "                ypkregs.append(ypicoregio)\n",
    "                fwhms.append(fwhm)\n",
    "                gau_areas.append(gau_area)\n",
    "                peak_constructed_spectrum[regions_slcs[ipk]] += ypicoregio\n",
    "\n",
    "        # peak_constructed_spectrum\n",
    "        baseline_spectrum = stripped_spectrum - peak_constructed_spectrum\n",
    "        len_bl = len(baseline_spectrum)\n",
    "        bl_median_smoother = np.zeros(len_bl)\n",
    "        bl_median_smoother[20:len_bl-20] = np.asarray(\n",
    "            [np.median(baseline_spectrum[i-n_side_chans:i+n_side_chans+1]) for i in range(20,len_bl-20) ])\n",
    "\n",
    "        # reconstructed_spectrum with median-smoothed baseline\n",
    "        # ys_reconstructed = peak_constructed_spectrum + bl_median_smoother\n",
    "        # stripped_spectrum = self.y0s - bl_median_smoother\n",
    "        for ipk,regio in enumerate(regions_slcs_valid):\n",
    "            bline_cts = np.sum(bl_median_smoother[regio])\n",
    "            unc_gau_area = np.sqrt(gau_areas[ipk]+bline_cts)\n",
    "            unc_gau_areas.append(unc_gau_area)\n",
    "        y0s_xpk_valid = self.y0s[xpk][valid_peaks]\n",
    "        y0s_xpk_invld = self.y0s[xpk][~valid_peaks]\n",
    "        centrpk_valid = np.asarray(centrpk)[valid_peaks]\n",
    "        centrpk_invld = np.asarray(centrpk)[~valid_peaks]\n",
    "                \n",
    "        self.xpk = xpk\n",
    "        self.ypk = ypk\n",
    "        self.peak_constructed_spectrum = peak_constructed_spectrum\n",
    "        self.baseline_spectrum = baseline_spectrum\n",
    "        self.bl_median_smoother = bl_median_smoother\n",
    "        self.ys_reconstructed = ys_reconstructed\n",
    "        self.stripped_spectrum = stripped_spectrum\n",
    "        self.y0s_xpk_valid = y0s_xpk_valid\n",
    "        self.y0s_xpk_invld = y0s_xpk_invld\n",
    "        self.valid_peaks = valid_peaks\n",
    "        self.regions_slcs_valid = regions_slcs_valid\n",
    "        self.centrpk_valid = centrpk_valid\n",
    "        self.centrpk_invld = centrpk_invld\n",
    "        self.fwhms = fwhms\n",
    "        self.gau_areas = gau_areas\n",
    "        self.unc_gau_areas = unc_gau_areas\n",
    "        return 0\n"
   ]
  },
  {
   "cell_type": "code",
   "execution_count": null,
   "metadata": {},
   "outputs": [],
   "source": []
  },
  {
   "cell_type": "raw",
   "metadata": {},
   "source": [
    "# 2020-09-22 Mais rascunhos....\n",
    "\n",
    "def coeffs_2nd_grade_estim( self, haWin=0, hei=0.2 ):\n",
    "        \"\"\"\n",
    "        Return the 2nd-grade coefficients on ln(counts) with a movable window.\n",
    "    \n",
    "        Parameters\n",
    "        ----------\n",
    "        spCounts (internal)\n",
    "            A num sequence containing the spetrum counts per channel.\n",
    "        \n",
    "        \"\"\"\n",
    "        \n",
    "        if haWin==0:\n",
    "            self.halfWin = int(np.ceil(self.nCh/1000))\n",
    "        else:\n",
    "            self.halfWin=haWin\n",
    "        self.coeffs0 = np.zeros(self.nCh)\n",
    "        self.coeffs1 = np.zeros(self.nCh)\n",
    "        self.coeffs2 = np.zeros(self.nCh)\n",
    "        self.covars0 = np.zeros(self.nCh)\n",
    "        self.covars1 = np.zeros(self.nCh)\n",
    "        self.covars2 = np.zeros(self.nCh)\n",
    "        self.invrel2 = np.zeros(self.nCh)\n",
    "        self.c2w1    = np.zeros(self.nCh)\n",
    "        xdata = np.linspace(-self.halfWin, self.halfWin, 2*self.halfWin + 1)\n",
    "        for i in range(self.halfWin, self.nCh-self.halfWin):\n",
    "            ydata = self.lnCounts[i-self.halfWin:i+self.halfWin+1]\n",
    "            wYdata = self.wLnCounts[i-self.halfWin:i+self.halfWin+1]\n",
    "            if np.max(ydata) > 2.0:\n",
    "                try:\n",
    "                    coeffs, covars = np.polyfit(xdata, ydata, 2, w=wYdata, cov=True)\n",
    "                # except LA.LinAlgError or ValueError:\n",
    "                except:\n",
    "                    coeffs = np.zeros(3)\n",
    "                    covars = np.zeros((3,3))\n",
    "                self.coeffs0[i] = coeffs[2]\n",
    "                self.coeffs1[i] = coeffs[1]\n",
    "                self.coeffs2[i] = coeffs[0]\n",
    "                self.covars0[i] = covars[2,2]\n",
    "                self.covars1[i] = covars[1,1]\n",
    "                self.covars2[i] = covars[0,0]\n",
    "                if self.covars2[i] > 0:\n",
    "                    self.invrel2[i] = np.abs(self.coeffs2[i]) / np.sqrt(self.covars2[i])\n",
    "        # 2020-jul-12\n",
    "        # smo0 = np.zeros(self.spLngData)\n",
    "        # smo1 = np.zeros(self.spLngData)\n",
    "        # sum1 = np.zeros(self.spLngData)\n",
    "        # bline = np.zeros(self.spLngData)\n",
    "\n",
    "        for i in range(self.halfWin, self.nCh-self.halfWin):\n",
    "            if (self.coeffs2[i] < 0) and (self.coeffs0[i] > 0):\n",
    "                self.c2w1[i] = self.coeffs2[i] * (\n",
    "                    self.coeffs1[i+self.halfWin] -\n",
    "                    self.coeffs1[i-self.halfWin]\n",
    "                    ) * np.exp(self.coeffs0[i]) * self.invrel2[i]\n",
    "            # outro criterio\n",
    "            # 2020-Ago-05\n",
    "            # AQUI: tinha parado aqui. Resolver antes, depois ativar o que segue:\n",
    "            # if (self.coeffs2[i] < 0):\n",
    "            #     self.c2lat[i] = self.coeffs2[i]**2.0 / (\n",
    "            #         self.coeffs2[i-self.halfWin] *\n",
    "            #         self.coeffs2[i+self.halfWin]\n",
    "            #     )\n",
    "                \n",
    "        self.peaks_by_coeffs_2nd(hei=hei)\n",
    "        self.bline_by_coeffs_2nd()\n",
    "        \n",
    " #       self.defSpecSpline()\n",
    "        \n",
    "        # for i in range(4*self.halfWin, self.spLngData-4*self.halfWin):\n",
    "        #     smo0[i]=np.percentile(self.coeffs0[i-4*self.halfWin:i+4*self.halfWin+1], 20)\n",
    "        #     smo1[i]=np.median(self.coeffs1[i-4*self.halfWin:i+4*self.halfWin+1])\n",
    "        #     sum1[i]=np.sum(self.coeffs1[i-4*self.halfWin:i+4*self.halfWin+1])\n",
    "        #     bline[i] = np.exp(smo0[i])\n",
    "        # return (smo0, smo1, sum1, bline)\n",
    "        return 0\n",
    "\n",
    "    def peaks_by_coeffs_2nd(self, hei=0.2):\n",
    "        self.peaks_c2w1, _ = find_peaks(self.c2w1, height=hei)\n",
    "        \n",
    "    def bline_by_coeffs_2nd(self):\n",
    "        is_bline = np.array(self.lnCounts)\n",
    "        # is_bline[0:50] = np.nan\n",
    "        for pk in self.peaks_c2w1:\n",
    "            is_bline[pk-2*self.halfWin:pk+2*self.halfWin+1] = np.nan\n",
    "        mascara = ~(ma.masked_invalid(is_bline).mask)\n",
    "        self.xbline = self.xs[mascara]\n",
    "        self.ybline = self.lnCounts[mascara]\n",
    "        self.unispl = UnivariateSpline(self.xbline, self.ybline, k=3, s=self.halfWin*10.0)\n",
    "    \n",
    "    def defRegsSpec(self, side_extd=13, min_separ_pks=30):\n",
    "        regions = []\n",
    "        ### pobrema aqui\n",
    "        start = self.indicescwt[0]-side_extd\n",
    "        if start < 0:\n",
    "            start = 0\n",
    "        multiplet =[]\n",
    "        multiplets = []\n",
    "        for i in range(len(self.indicescwt)-1):\n",
    "            if self.indicescwt[i+1] - self.indicescwt[i] > min_separ_pks:\n",
    "                regions.append([start, self.indicescwt[i]+side_extd])\n",
    "                multiplet.append(self.indicescwt[i])\n",
    "                multiplets.append(multiplet)\n",
    "                start = self.indicescwt[i+1]-side_extd\n",
    "                multiplet = []\n",
    "            else:\n",
    "                multiplet.append(self.indicescwt[i])\n",
    "        final = self.indicescwt[-1]+side_extd\n",
    "        if final >= self.nCh:\n",
    "            final = self.nCh - 1\n",
    "        regions.append([self.indicescwt[-1]-side_extd,final])\n",
    "        multiplet.append(self.indicescwt[-1])\n",
    "        multiplets.append(multiplet)\n",
    "        return regions, multiplets    \n",
    "    \n",
    "    def scanSpec( self ):\n",
    "        # expect_width = 7      # 2018-Jun-10: mudei pra 30; Jun-21: mudei para 5\n",
    "        expect_width = 4\n",
    "        widths = np.arange(1, expect_width)\n",
    "        \n",
    "        self.indicescwt = find_peaks_cwt(self.y0s, widths, max_distances=widths,\n",
    "                                           gap_thresh=2.0, min_snr=1.5)\n",
    "        self.regions, self.multiplets = self.defRegsSpec()\n",
    "        return self.indicescwt, self.regions, self.multiplets\n",
    "    \n",
    "    def defBlineRegionsSpec( self ):\n",
    "\n",
    "        ######################################\n",
    "\n",
    "        # Define baseline regions (list 'blin')\n",
    "\n",
    "        self.blin = []\n",
    "        self.blin.append( [ 0, self.regions[0][0] ] )\n",
    "        for i in range(len(self.regions)-1):\n",
    "            self.blin.append( [self.regions[i][1], self.regions[i+1][0]] )\n",
    "        self.blin.append( [ self.regions[-1][1], self.nCh-1 ] )\n",
    "        return self.blin\n",
    "\n",
    "    def blinesFitSpec( self ):\n",
    "\n",
    "    # Baseline fit between regions\n",
    "\n",
    "        xbl = []\n",
    "        ybl = []\n",
    "        zbl = []\n",
    "        for i in range(len(self.blin)):\n",
    "            xbl.append( list( range( self.blin[i][0], self.blin[i][1]+1 ) ) )\n",
    "            ybl.append( self.y0s[ self.blin[i][0]:self.blin[i][1]+1 ] )\n",
    "            zbl.append( np.polyfit(xbl[i], ybl[i], 2) )\n",
    "\n",
    "        # Baseline estimating inside regions\n",
    "\n",
    "        xrg = []\n",
    "        yrg = []\n",
    "        zrg = []\n",
    "        for i in range(len(self.regions)):\n",
    "            xrg.append( list( range( self.regions[i][0], self.regions[i][1]+1 ) ) )\n",
    "            yrg.append( self.y0s[ self.regions[i][0]:self.regions[i][1]+1 ] )\n",
    "            deltay = yrg[i][-1] - yrg[i][0]\n",
    "            sumy = sum( yrg[i] )\n",
    "            cumy = 0\n",
    "            zrgi = []\n",
    "            for j in range( len( yrg[i] ) ):\n",
    "                zrgi.append( yrg[i][0] )\n",
    "            zrg.append( np.polyfit(xrg[i], yrg[i], 2) )\n",
    "\n",
    "        # return xbl, ybl, zbl, xrg, yrg, zrg\n",
    "        return 0\n",
    "\n",
    "\n",
    "\n",
    "\n",
    "\n",
    "    def ipks(self, widths_range=(2,7), n_side_chans=11, n_side_centr_ch=5,\n",
    "                              nsca_det=5, min_cwtpk = 13.0):\n",
    "        widths = np.linspace(widths_range[0],widths_range[1],num=30)\n",
    "        # ipks2 = find_peaks_cwt(self.y0s,\n",
    "        #                       widths=[widths[1]],wavelet=ricker,max_distances=widths/4,min_snr=1.0,noise_perc=10)\n",
    "        ipks2 = find_peaks_cwt(self.y0s, widths=widths_range)\n",
    "        return ipks2\n",
    "    \n",
    "    def lnIpks(self, widt=(10,20), msnr=1.0):\n",
    "        # widths = np.linspace(widths_range[0],widths_range[1],num=30)\n",
    "        # ipks2 = find_peaks_cwt(self.y0s,\n",
    "        #                       widths=[widths[1]],wavelet=ricker,max_distances=widths/4,min_snr=1.0,noise_perc=10)\n",
    "        ipks2 = find_peaks_cwt(self.lnCounts, widths=widt, min_snr=msnr)\n",
    "        return ipks2\n",
    "    \n",
    "    def lnFindPeaks(self, hei=2):\n",
    "        ipks2 = find_peaks(self.lnCounts, height=hei)\n",
    "        return ipks2\n",
    "\n",
    "\n",
    "\n",
    "\n",
    "\n",
    "\n",
    "\n",
    "                    \n",
    "                    \n",
    "\n",
    "    def coeffs_Calibs( self ):\n",
    "        xdata = self.chancalib\n",
    "        ydata = self.enChcalib\n",
    "        if len(xdata) > 2:\n",
    "            try:\n",
    "                coeffs, covars = np.polyfit(xdata, ydata, 2, cov=True)\n",
    "            except:\n",
    "                coeffs = covars = np.zeros(1)\n",
    "        else:\n",
    "            coeffs = covars = np.zeros(1)\n",
    "        if coeffs.all() == 0:\n",
    "            coeffs = np.array(self.specIO.coeffs_ChEn)\n",
    "        self.coeffs_ChEn = coeffs\n",
    "        self.covars_ChEn = covars\n",
    "\n",
    "        xdata = self.enFwcalib\n",
    "        ydata = self.fwhmcalib\n",
    "        if len(xdata) > 3:\n",
    "            try:\n",
    "                coeffs, covars = np.polyfit(xdata, ydata, 3, cov=True)\n",
    "            except:\n",
    "                coeffs = covars = np.zeros(1)\n",
    "        else:\n",
    "            coeffs = covars = np.zeros(1)\n",
    "        if coeffs.all() == 0:\n",
    "            coeffs = np.array(self.specIO.coeffs_EnFw)\n",
    "        self.coeffs_EnFw = coeffs\n",
    "        self.covars_EnFw = covars\n",
    "\n",
    "        xdata = self.enEfcalib\n",
    "        ydata = self.efficalib\n",
    "        if len(xdata) > 3:\n",
    "            try:\n",
    "                coeffs, covars = np.polyfit(xdata, ydata, 3, cov=True)\n",
    "            except:\n",
    "                coeffs = covars = 0\n",
    "        else:\n",
    "            coeffs = covars = 0\n",
    "        self.coeffs_EnEf = coeffs\n",
    "        self.covars_EnEf = covars\n",
    "                    \n",
    "   \n",
    "\n",
    "# Funcao Ricker:\n",
    "# A (1 - x^2/a^2) exp(-x^2/2 a^2), onde\n",
    "# A = 2/sqrt(3a)pi^1/4\n",
    "# Fazendo anahlise no Maxima, descobri que o fator de escala \"a\"\n",
    "# ohtimo eh sigma*sqrt(5):\n",
    "        \n",
    "# Lembrar que:\n",
    "# sigma_experim = widthmax / np.sqrt(5)\n",
    "# sigma_experim    \n",
    "\n",
    "    # 2019-11-04 Para cada fn2:\n",
    "\n",
    "    # Modificado em 2019-11-23\n",
    "#==============\n",
    "# 2020-08-30 Quebrar analisa_este_espectro\n",
    "#==============\n"
   ]
  },
  {
   "cell_type": "code",
   "execution_count": null,
   "metadata": {},
   "outputs": [],
   "source": []
  },
  {
   "cell_type": "code",
   "execution_count": null,
   "metadata": {},
   "outputs": [],
   "source": []
  }
 ],
 "metadata": {
  "kernelspec": {
   "display_name": "Python 3",
   "language": "python",
   "name": "python3"
  },
  "language_info": {
   "codemirror_mode": {
    "name": "ipython",
    "version": 3
   },
   "file_extension": ".py",
   "mimetype": "text/x-python",
   "name": "python",
   "nbconvert_exporter": "python",
   "pygments_lexer": "ipython3",
   "version": "3.7.7"
  }
 },
 "nbformat": 4,
 "nbformat_minor": 4
}
