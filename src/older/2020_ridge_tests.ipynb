{
 "cells": [
  {
   "cell_type": "code",
   "execution_count": 1,
   "metadata": {},
   "outputs": [
    {
     "name": "stdout",
     "output_type": "stream",
     "text": [
      "8192\n",
      "8192\n"
     ]
    }
   ],
   "source": [
    "#!/usr/bin/env python3\n",
    "# -*- coding: utf-8 -*-\n",
    "\"\"\"\n",
    "Created on Sat Feb 22 10:40:56 2020\n",
    "\n",
    "@author: marcelo\n",
    "\n",
    "ar1:\n",
    "- array (nx,2), onde:\n",
    "    nx: n'umero total de picos em todas as escalas\n",
    "    x: 'indice do pico\n",
    "    ar1[x,0]: canal inteiro do pico\n",
    "    ar1[x,1]: valor da escala\n",
    "    \n",
    "xpk:\n",
    "- lista (nx), onde:\n",
    "    nx: numero de picos efetivos ap'os an'alise\n",
    "    x: canal inteiro do pico\n",
    "    \n",
    "ypk:\n",
    "- lista (nx), onde:\n",
    "    nx: numero de picos efetivos ap'os an'alise (= nx(xpk))\n",
    "    x: valor da escala\n",
    "\n",
    "\"\"\"\n",
    "\n",
    "import numpy as np\n",
    "\n",
    "from spectrum_analysis import (cwt_complete_analysis, cwt_calc_peaks)\n",
    "from teste_datas import (Spec)\n",
    "\n",
    "from machine_selection import set_screen_size_by_machine\n",
    "from bokeh.plotting import figure, output_file, output_notebook, show\n",
    "from bokeh.layouts import gridplot\n",
    "\n",
    "from bokeh import palettes\n",
    "\n",
    "fn2 = '../gamma/spectra/ALMERA-2017-3/ALM-17-3-#5_PreliA.IEC'\n",
    "\n",
    "spec2 = Spec()\n",
    "if spec2.readSp( fn2 ) >= 0:\n",
    "    print (spec2.spLngData)\n",
    "    \n",
    "counts = spec2.spCounts\n",
    "print(len(counts))\n",
    "\n",
    "ret = cwt_complete_analysis(counts)\n",
    "\n",
    "(xs, y0s, ar1, lblimag1, num_feat_imag1, ridges, xpks, ypks,\n",
    " ind_ypks, retang_indicess, peaks_masks, cwtpks, nscpks) = ret"
   ]
  },
  {
   "cell_type": "code",
   "execution_count": 2,
   "metadata": {},
   "outputs": [],
   "source": [
    "(nscpk_ma, cwtpk_ma, pospk_ma) = peaks_masks\n",
    "valid_peaks = ~(cwtpk_ma.mask | nscpk_ma.mask | ~pospk_ma)"
   ]
  },
  {
   "cell_type": "code",
   "execution_count": 3,
   "metadata": {},
   "outputs": [],
   "source": [
    "default_plot_width, default_plot_height = set_screen_size_by_machine()\n",
    "\n",
    "# Bokeh graph w/ peaks in all scales\n",
    "bokridges1 = figure(\n",
    "   plot_width =default_plot_width,\n",
    "   plot_height=int(default_plot_height*0.5),\n",
    "   tools=\"pan,box_zoom,reset,save\",\n",
    "   # x_axis_label='channels',\n",
    "   y_axis_label='scale'\n",
    ")\n",
    "bokridges1.circle(ar1[:,0], ar1[:,1], legend_label=\"cwt peaks\", color=\"navy\",size=2)\n",
    "bokridges1.circle(xpks[valid_peaks], ypks[valid_peaks], color=\"red\",size=8)\n",
    "bokridges1.circle(xpks[nscpk_ma.mask], ypks[nscpk_ma.mask], color=\"orange\",size=8)\n",
    "bokridges1.circle(xpks[cwtpk_ma.mask], ypks[cwtpk_ma.mask], color=\"green\",size=6)\n",
    "bokridges1.circle(xpks[~pospk_ma], ypks[~pospk_ma], color=\"cyan\",size=4)\n",
    "bokridges2 = figure(\n",
    "   plot_width =default_plot_width,\n",
    "   plot_height=int(default_plot_height*0.5),\n",
    "   tools=\"pan,box_zoom,reset,save\",\n",
    "   y_axis_type=\"log\", y_range=[1.0e1, 1.0e5],\n",
    "   x_axis_label='channels', y_axis_label='counts'\n",
    ")\n",
    "bokridges2.line(xs, y0s, color=\"green\")\n",
    "# https://docs.bokeh.org/en/latest/docs/reference/layouts.html\n",
    "p = gridplot([bokridges1, bokridges2], ncols=1)\n",
    "show(p)"
   ]
  },
  {
   "cell_type": "code",
   "execution_count": 4,
   "metadata": {},
   "outputs": [
    {
     "data": {
      "text/plain": [
       "array([ 237,  271,  380,  392,  442,  456,  694,  718,  728,  827,  921,\n",
       "        944,  994, 1008, 1209, 1226, 1496, 1783, 1958, 2055, 2303, 2340,\n",
       "       2380, 2402, 2433, 2467, 2586, 2675, 2703, 2938, 2954, 3086, 3370,\n",
       "       3561, 3646, 3684, 3892, 3981, 4083, 4250, 4615, 4732, 4884, 4909,\n",
       "       5330, 5676, 5853, 5991, 6120, 6274, 6491, 6981, 7102, 7135, 7648,\n",
       "       7797, 7821, 8024, 8080, 2077, 8106,  844, 4356])"
      ]
     },
     "execution_count": 4,
     "metadata": {},
     "output_type": "execute_result"
    }
   ],
   "source": [
    "valid_xpks = np.asarray(xpks)[valid_peaks]\n",
    "valid_xpks"
   ]
  },
  {
   "cell_type": "code",
   "execution_count": 5,
   "metadata": {},
   "outputs": [
    {
     "data": {
      "text/plain": [
       "array([ 3.76130612,  3.76130612,  2.58710204,  3.17420408,  4.05485714,\n",
       "        3.4677551 ,  3.17420408,  2.88065306,  2.58710204,  3.4677551 ,\n",
       "        3.17420408,  4.34840816,  3.4677551 ,  2.58710204,  3.76130612,\n",
       "        4.64195918,  4.9355102 ,  5.52261224,  2.88065306,  4.9355102 ,\n",
       "        8.16457143,  8.45812245,  5.52261224,  3.76130612,  6.10971429,\n",
       "        6.99036735, 12.27428571,  2.88065306,  6.10971429,  4.05485714,\n",
       "        4.9355102 ,  6.40326531,  6.69681633,  7.87102041,  9.04522449,\n",
       "        4.9355102 ,  7.57746939,  8.16457143,  7.28391837,  8.16457143,\n",
       "        7.87102041,  8.16457143,  6.40326531,  5.52261224,  8.75167347,\n",
       "        8.75167347,  9.63232653,  8.16457143,  7.57746939,  9.33877551,\n",
       "        9.33877551,  9.63232653,  7.57746939,  8.75167347, 10.21942857,\n",
       "        6.99036735,  6.69681633,  8.75167347,  7.57746939,  3.17420408,\n",
       "        7.87102041,  4.64195918,  7.87102041])"
      ]
     },
     "execution_count": 5,
     "metadata": {},
     "output_type": "execute_result"
    }
   ],
   "source": [
    "valid_ypks = np.asarray(ypks)[valid_peaks]\n",
    "valid_ypks"
   ]
  },
  {
   "cell_type": "code",
   "execution_count": 6,
   "metadata": {},
   "outputs": [
    {
     "data": {
      "text/plain": [
       "array([4.63642518e+03, 3.22518382e+03, 1.79388738e+04, 3.37817389e+04,\n",
       "       1.00641615e+04, 3.55885662e+03, 4.80476259e+01, 6.18105240e+01,\n",
       "       5.47266310e+01, 7.19101178e+01, 7.12169226e+01, 8.55183114e+03,\n",
       "       1.55438993e+02, 1.10263799e+02, 1.50248181e+03, 1.31314159e+04,\n",
       "       2.71672602e+04, 4.28764536e+04, 1.86425072e+02, 1.31081750e+02,\n",
       "       2.26142313e+02, 1.99880706e+02, 1.03685870e+02, 7.82539136e+01,\n",
       "       2.62728014e+02, 3.10286659e+02, 4.20806810e+02, 3.64439002e+01,\n",
       "       1.67949780e+02, 1.75384514e+02, 3.10886681e+02, 2.68424403e+04,\n",
       "       7.50507670e+02, 1.98242374e+02, 1.88262553e+02, 6.53408317e+01,\n",
       "       2.15365155e+03, 4.95737799e+02, 5.26745890e+02, 2.56422340e+02,\n",
       "       1.57575958e+02, 1.10667316e+03, 1.32832265e+02, 8.74973610e+01,\n",
       "       9.33107086e+01, 4.42874435e+03, 4.80324859e+02, 6.62868129e+01,\n",
       "       1.08269182e+02, 1.52598796e+03, 3.66446595e+02, 9.97007013e+02,\n",
       "       3.06786975e+02, 5.31786487e+02, 4.37915796e+02, 6.59717015e+01,\n",
       "       7.59745515e+01, 1.39596510e+02, 3.57144909e+01, 4.08749173e+01,\n",
       "       6.06330273e+01, 6.72810388e+01, 3.26693545e+01])"
      ]
     },
     "execution_count": 6,
     "metadata": {},
     "output_type": "execute_result"
    }
   ],
   "source": [
    "valid_cwtpks = np.asarray(cwtpks)[valid_peaks]\n",
    "valid_cwtpks"
   ]
  },
  {
   "cell_type": "code",
   "execution_count": 7,
   "metadata": {},
   "outputs": [
    {
     "data": {
      "text/plain": [
       "array([0.000e+00, 1.000e+00, 2.000e+00, ..., 8.189e+03, 8.190e+03,\n",
       "       8.191e+03])"
      ]
     },
     "execution_count": 7,
     "metadata": {},
     "output_type": "execute_result"
    }
   ],
   "source": [
    "xs"
   ]
  },
  {
   "cell_type": "code",
   "execution_count": 8,
   "metadata": {},
   "outputs": [
    {
     "data": {
      "text/plain": [
       "array([ 0,  0,  0, ..., 19, 28, 23])"
      ]
     },
     "execution_count": 8,
     "metadata": {},
     "output_type": "execute_result"
    }
   ],
   "source": [
    "y0s"
   ]
  },
  {
   "cell_type": "code",
   "execution_count": null,
   "metadata": {},
   "outputs": [],
   "source": []
  },
  {
   "cell_type": "code",
   "execution_count": 9,
   "metadata": {},
   "outputs": [],
   "source": [
    "step2 = cwt_calc_peaks(valid_xpks, valid_ypks, valid_cwtpks, xs, y0s)"
   ]
  },
  {
   "cell_type": "code",
   "execution_count": 10,
   "metadata": {},
   "outputs": [
    {
     "data": {
      "text/plain": [
       "array([ 237,  271,  380,  392,  442,  456,  694,  718,  728,  827,  921,\n",
       "        944,  994, 1008, 1209, 1226, 1496, 1783, 1958, 2055, 2303, 2340,\n",
       "       2380, 2402, 2433, 2467, 2586, 2675, 2703, 2938, 2954, 3086, 3370,\n",
       "       3561, 3646, 3684, 3892, 3981, 4083, 4250, 4507, 4615, 4732, 4884,\n",
       "       4909, 4941, 5090, 5118, 5167, 5205, 5330, 5470, 5676, 5853, 5991,\n",
       "       6120, 6274, 6491, 6524, 6644, 6981, 7102, 7135, 7360, 7401, 7454,\n",
       "       7648, 7742, 7797, 7821, 8024, 8080, 2077, 4477, 6742, 8106, 5151,\n",
       "       6606, 7506,  844, 4356])"
      ]
     },
     "execution_count": 10,
     "metadata": {},
     "output_type": "execute_result"
    }
   ],
   "source": [
    "xpks[pospk_ma]\n"
   ]
  },
  {
   "cell_type": "code",
   "execution_count": null,
   "metadata": {},
   "outputs": [],
   "source": []
  },
  {
   "cell_type": "code",
   "execution_count": 11,
   "metadata": {},
   "outputs": [],
   "source": [
    "(azes, bezes, centrpk, ypkregs, fwhms, gau_areas, peak_constructed_spectrum,\n",
    "           baseline_spectrum, bl_median_smoother) = step2"
   ]
  },
  {
   "cell_type": "code",
   "execution_count": 12,
   "metadata": {},
   "outputs": [
    {
     "data": {
      "text/plain": [
       "[array([232., 233., 234., 235., 236., 237., 238., 239., 240., 241., 242.]),\n",
       " array([266., 267., 268., 269., 270., 271., 272., 273., 274., 275., 276.]),\n",
       " array([375., 376., 377., 378., 379., 380., 381., 382., 383., 384., 385.]),\n",
       " array([387., 388., 389., 390., 391., 392., 393., 394., 395., 396., 397.]),\n",
       " array([437., 438., 439., 440., 441., 442., 443., 444., 445., 446., 447.]),\n",
       " array([451., 452., 453., 454., 455., 456., 457., 458., 459., 460., 461.]),\n",
       " array([689., 690., 691., 692., 693., 694., 695., 696., 697., 698., 699.]),\n",
       " array([713., 714., 715., 716., 717., 718., 719., 720., 721., 722., 723.]),\n",
       " array([723., 724., 725., 726., 727., 728., 729., 730., 731., 732., 733.]),\n",
       " array([822., 823., 824., 825., 826., 827., 828., 829., 830., 831., 832.]),\n",
       " array([916., 917., 918., 919., 920., 921., 922., 923., 924., 925., 926.]),\n",
       " array([939., 940., 941., 942., 943., 944., 945., 946., 947., 948., 949.]),\n",
       " array([989., 990., 991., 992., 993., 994., 995., 996., 997., 998., 999.]),\n",
       " array([1003., 1004., 1005., 1006., 1007., 1008., 1009., 1010., 1011.,\n",
       "        1012., 1013.]),\n",
       " array([1204., 1205., 1206., 1207., 1208., 1209., 1210., 1211., 1212.,\n",
       "        1213., 1214.]),\n",
       " array([1221., 1222., 1223., 1224., 1225., 1226., 1227., 1228., 1229.,\n",
       "        1230., 1231.]),\n",
       " array([1491., 1492., 1493., 1494., 1495., 1496., 1497., 1498., 1499.,\n",
       "        1500., 1501.]),\n",
       " array([1778., 1779., 1780., 1781., 1782., 1783., 1784., 1785., 1786.,\n",
       "        1787., 1788.]),\n",
       " array([1953., 1954., 1955., 1956., 1957., 1958., 1959., 1960., 1961.,\n",
       "        1962., 1963.]),\n",
       " array([2050., 2051., 2052., 2053., 2054., 2055., 2056., 2057., 2058.,\n",
       "        2059., 2060.]),\n",
       " array([2298., 2299., 2300., 2301., 2302., 2303., 2304., 2305., 2306.,\n",
       "        2307., 2308.]),\n",
       " array([2335., 2336., 2337., 2338., 2339., 2340., 2341., 2342., 2343.,\n",
       "        2344., 2345.]),\n",
       " array([2375., 2376., 2377., 2378., 2379., 2380., 2381., 2382., 2383.,\n",
       "        2384., 2385.]),\n",
       " array([2397., 2398., 2399., 2400., 2401., 2402., 2403., 2404., 2405.,\n",
       "        2406., 2407.]),\n",
       " array([2428., 2429., 2430., 2431., 2432., 2433., 2434., 2435., 2436.,\n",
       "        2437., 2438.]),\n",
       " array([2462., 2463., 2464., 2465., 2466., 2467., 2468., 2469., 2470.,\n",
       "        2471., 2472.]),\n",
       " array([2581., 2582., 2583., 2584., 2585., 2586., 2587., 2588., 2589.,\n",
       "        2590., 2591.]),\n",
       " array([2670., 2671., 2672., 2673., 2674., 2675., 2676., 2677., 2678.,\n",
       "        2679., 2680.]),\n",
       " array([2698., 2699., 2700., 2701., 2702., 2703., 2704., 2705., 2706.,\n",
       "        2707., 2708.]),\n",
       " array([2933., 2934., 2935., 2936., 2937., 2938., 2939., 2940., 2941.,\n",
       "        2942., 2943.]),\n",
       " array([2949., 2950., 2951., 2952., 2953., 2954., 2955., 2956., 2957.,\n",
       "        2958., 2959.]),\n",
       " array([3081., 3082., 3083., 3084., 3085., 3086., 3087., 3088., 3089.,\n",
       "        3090., 3091.]),\n",
       " array([3365., 3366., 3367., 3368., 3369., 3370., 3371., 3372., 3373.,\n",
       "        3374., 3375.]),\n",
       " array([3556., 3557., 3558., 3559., 3560., 3561., 3562., 3563., 3564.,\n",
       "        3565., 3566.]),\n",
       " array([3641., 3642., 3643., 3644., 3645., 3646., 3647., 3648., 3649.,\n",
       "        3650., 3651.]),\n",
       " array([3679., 3680., 3681., 3682., 3683., 3684., 3685., 3686., 3687.,\n",
       "        3688., 3689.]),\n",
       " array([3887., 3888., 3889., 3890., 3891., 3892., 3893., 3894., 3895.,\n",
       "        3896., 3897.]),\n",
       " array([3976., 3977., 3978., 3979., 3980., 3981., 3982., 3983., 3984.,\n",
       "        3985., 3986.]),\n",
       " array([4078., 4079., 4080., 4081., 4082., 4083., 4084., 4085., 4086.,\n",
       "        4087., 4088.]),\n",
       " array([4245., 4246., 4247., 4248., 4249., 4250., 4251., 4252., 4253.,\n",
       "        4254., 4255.]),\n",
       " array([4610., 4611., 4612., 4613., 4614., 4615., 4616., 4617., 4618.,\n",
       "        4619., 4620.]),\n",
       " array([4727., 4728., 4729., 4730., 4731., 4732., 4733., 4734., 4735.,\n",
       "        4736., 4737.]),\n",
       " array([4879., 4880., 4881., 4882., 4883., 4884., 4885., 4886., 4887.,\n",
       "        4888., 4889.]),\n",
       " array([4904., 4905., 4906., 4907., 4908., 4909., 4910., 4911., 4912.,\n",
       "        4913., 4914.]),\n",
       " array([5325., 5326., 5327., 5328., 5329., 5330., 5331., 5332., 5333.,\n",
       "        5334., 5335.]),\n",
       " array([5671., 5672., 5673., 5674., 5675., 5676., 5677., 5678., 5679.,\n",
       "        5680., 5681.]),\n",
       " array([5848., 5849., 5850., 5851., 5852., 5853., 5854., 5855., 5856.,\n",
       "        5857., 5858.]),\n",
       " array([5986., 5987., 5988., 5989., 5990., 5991., 5992., 5993., 5994.,\n",
       "        5995., 5996.]),\n",
       " array([6115., 6116., 6117., 6118., 6119., 6120., 6121., 6122., 6123.,\n",
       "        6124., 6125.]),\n",
       " array([6269., 6270., 6271., 6272., 6273., 6274., 6275., 6276., 6277.,\n",
       "        6278., 6279.]),\n",
       " array([6486., 6487., 6488., 6489., 6490., 6491., 6492., 6493., 6494.,\n",
       "        6495., 6496.]),\n",
       " array([6976., 6977., 6978., 6979., 6980., 6981., 6982., 6983., 6984.,\n",
       "        6985., 6986.]),\n",
       " array([7097., 7098., 7099., 7100., 7101., 7102., 7103., 7104., 7105.,\n",
       "        7106., 7107.]),\n",
       " array([7130., 7131., 7132., 7133., 7134., 7135., 7136., 7137., 7138.,\n",
       "        7139., 7140.]),\n",
       " array([7643., 7644., 7645., 7646., 7647., 7648., 7649., 7650., 7651.,\n",
       "        7652., 7653.]),\n",
       " array([7792., 7793., 7794., 7795., 7796., 7797., 7798., 7799., 7800.,\n",
       "        7801., 7802.]),\n",
       " array([7816., 7817., 7818., 7819., 7820., 7821., 7822., 7823., 7824.,\n",
       "        7825., 7826.]),\n",
       " array([8019., 8020., 8021., 8022., 8023., 8024., 8025., 8026., 8027.,\n",
       "        8028., 8029.]),\n",
       " array([8075., 8076., 8077., 8078., 8079., 8080., 8081., 8082., 8083.,\n",
       "        8084., 8085.]),\n",
       " array([2072., 2073., 2074., 2075., 2076., 2077., 2078., 2079., 2080.,\n",
       "        2081., 2082.]),\n",
       " array([8101., 8102., 8103., 8104., 8105., 8106., 8107., 8108., 8109.,\n",
       "        8110., 8111.]),\n",
       " array([839., 840., 841., 842., 843., 844., 845., 846., 847., 848., 849.]),\n",
       " array([4351., 4352., 4353., 4354., 4355., 4356., 4357., 4358., 4359.,\n",
       "        4360., 4361.])]"
      ]
     },
     "execution_count": 12,
     "metadata": {},
     "output_type": "execute_result"
    }
   ],
   "source": [
    "azes"
   ]
  },
  {
   "cell_type": "code",
   "execution_count": 13,
   "metadata": {},
   "outputs": [
    {
     "data": {
      "text/plain": [
       "63"
      ]
     },
     "execution_count": 13,
     "metadata": {},
     "output_type": "execute_result"
    }
   ],
   "source": [
    "len(azes)"
   ]
  },
  {
   "cell_type": "code",
   "execution_count": 14,
   "metadata": {},
   "outputs": [
    {
     "data": {
      "text/plain": [
       "[array([   0. ,  397.9, 1122.8, 2292.7, 2971.6, 2885.5, 2076.4, 1000.3,\n",
       "         338.2,   62.1,    0. ]),\n",
       " array([   0. ,  352.7, 1013.4, 1768.1, 2124.8, 1902.5, 1252.2,  621.9,\n",
       "         208.6,   41.3,    0. ]),\n",
       " array([    0. ,  1645.1,  4837.2,  9236.3, 12667.4, 12562.5,  9312.6,\n",
       "         4682.7,  1666.8,   197.9,     0. ]),\n",
       " array([    0. ,  4339.6, 11842.2, 18828.8, 22875.4, 19803. , 12788.6,\n",
       "         5745.2,  1861.8,   304.4,     0. ]),\n",
       " array([   0. ,  867.5, 2069. , 3437.5, 4933. , 5712.5, 5460. , 4210.5,\n",
       "        2384. ,  975.5,    0. ]),\n",
       " array([   0. ,  407.6, 1212.2, 1717.8, 2215.4, 2317. , 1864.6, 1200.2,\n",
       "         586.8,  197.4,    0. ]),\n",
       " array([  0. , -66.1, -53.2,   9.7, -49.4,   5.5, -35.6,  -4.7, -61.8,\n",
       "        -94.9,   0. ]),\n",
       " array([  0. , -20.7,  36.6,   9.9,  66.2,  50.5,  51.8,  56.1,  52.4,\n",
       "         53.7,   0. ]),\n",
       " array([  0. ,  21.8,  46.6,  64.4,  39.2,  74. ,  -4.2,  41.6,   3.4,\n",
       "        -32.8,   0. ]),\n",
       " array([  0. , -35.1,  41.8,  25.7,  36.6,  52.5,  33.4,  30.3,  23.2,\n",
       "         64.1,   0. ]),\n",
       " array([  0. ,  -0.9,  26.2,  24.3,  48.4,  27.5,  -7.4,  15.7,  27.8,\n",
       "        -73.1,   0. ]),\n",
       " array([   0. ,  885.3, 2306.6, 3789.9, 4942.2, 4677.5, 3522.8, 1982.1,\n",
       "         794.4,  159.7,    0. ]),\n",
       " array([  0. , -37.6,   4.8,  19.2,  70.6,  51. ,  81.4, -13.2, -16.8,\n",
       "        -59.4,   0. ]),\n",
       " array([  0. ,  -5.3,  30.4,  30.1,  80.8,  31.5,  56.2,   1.9, -34.4,\n",
       "        -41.7,   0. ]),\n",
       " array([  0. , 141.7, 420.4, 685.1, 877.8, 945.5, 790.2, 472.9, 210.6,\n",
       "         87.3,   0. ]),\n",
       " array([   0. , 1257.7, 3214.4, 5432.1, 7135.8, 7348.5, 6098.2, 3849.9,\n",
       "        1889.6,  680.3,    0. ]),\n",
       " array([    0. ,  3567.6,  8200.2, 12154.8, 14108.4, 12613. ,  9030.6,\n",
       "         5458.2,  2218.8,   504.4,     0. ]),\n",
       " array([    0. ,  5646.5, 12542. , 18410.5, 20833. , 18839.5, 14280. ,\n",
       "         8453.5,  3990. ,  1099.5,     0. ]),\n",
       " array([  0. ,  -5.8,  58.4,  55.6, 119.8, 122. , 182.2, 105.4, 134.6,\n",
       "         33.8,   0. ]),\n",
       " array([  0. ,  38.5,  49. ,  93.5,  64. , 114.5,  66. ,  42.5,  64. ,\n",
       "         49.5,   0. ]),\n",
       " array([  0. ,  10.2,  44.4,  87.6,  82.8, 130. , 101.2,  75.4,  52.6,\n",
       "         20.8,   0. ]),\n",
       " array([ 0. , 32.8, 41.6, 66.4, 76.2, 63. , 43.8, 37.6,  3.4, 11.2,  0. ]),\n",
       " array([ 0. ,  1.5,  9. , 47.5, 47. , 27.5, 44. , -6.5,  9. , -3.5,  0. ]),\n",
       " array([  0. ,  40.3,  31.6,  43.9,  71.2,  30.5,  35.8,  32.1, -13.6,\n",
       "         -8.3,   0. ]),\n",
       " array([  0. ,  16.4,  38.8,  64.2,  92.6, 111. , 111.4,  98.8,  65.2,\n",
       "         29.6,   0. ]),\n",
       " array([  0. ,  62.3,  55.6,  95.9, 116.2,  97.5, 117.8,  59.1,  29.4,\n",
       "        -10.3,   0. ]),\n",
       " array([ 0. , 57.4, 27.8, 48.2, 81.6, 96. , 59.4, 35.8, 45.2, -4.4,  0. ]),\n",
       " array([ 0. , 19.5, 19. , 29.5, 31. , 43.5, 24. , 29.5, 25. , 17.5,  0. ]),\n",
       " array([  0. ,   6.2,  28.4,  35.6,  47.8,  55. ,  41.2,  44.4,  21.6,\n",
       "        -12.2,   0. ]),\n",
       " array([ 0., 32., 35., 67., 62., 87., 94., 46., 45., 15.,  0.]),\n",
       " array([  0. ,  67.6,  86.2, 140.8, 113.4, 145. ,  95.6,  90.2,  27.8,\n",
       "         28.4,   0. ]),\n",
       " array([    0. ,  2754.3,  5970.6,  8620.9, 10382.2, 10578.5,  8909.8,\n",
       "         6706.1,  4045.4,  1610.7,     0. ]),\n",
       " array([  0. ,  88.4, 147.8, 213.2, 295.6, 311. , 249.4, 193.8, 152.2,\n",
       "         65.6,   0. ]),\n",
       " array([ 0. , 34.8, 33.6, 57.4, 51.2, 72. , 52.8, 57.6, 37.4,  5.2,  0. ]),\n",
       " array([ 0. , -7.6, 18.8, 33.2, 62.6, 66. , 48.4, 50.8, 36.2, 14.6,  0. ]),\n",
       " array([ 0. ,  5.4,  8.8, 12.2, 31.6, 28. , -0.6, 15.8,  6.2, 17.6,  0. ]),\n",
       " array([  0. , 179.6, 381.2, 635.8, 706.4, 731. , 642.6, 472.2, 263.8,\n",
       "        139.4,   0. ]),\n",
       " array([  0. ,  44.4,  69.8, 129.2, 121.6, 138. ,  86.4,  84.8,  54.2,\n",
       "          4.6,   0. ]),\n",
       " array([  0. ,  50.1,  83.2, 150.3, 156.4, 170.5, 160.6, 116.7,  88.8,\n",
       "          5.9,   0. ]),\n",
       " array([ 0., 18., 43., 63., 84., 83., 50., 36., 37.,  2.,  0.]),\n",
       " array([ 0. , -0.1, 43.8, 29.7, 39.6, 36.5, 45.4, 11.3, 38.2,  6.1,  0. ]),\n",
       " array([  0. ,  87.2, 143.4, 277.6, 315.8, 306. , 260.2, 187.4, 155.6,\n",
       "         84.8,   0. ]),\n",
       " array([ 0. ,  3.2, 33.4, 14.6, 20.8, 42. , 52.2, 38.4, 21.6,  9.8,  0. ]),\n",
       " array([ 0. , 19.5, 34. , 20.5, 32. , 31.5, 28. , 20.5, 20. ,  5.5,  0. ]),\n",
       " array([  0. , -18.4,   8.2,   7.8,  18.4,  17. ,  21.6,  15.2,   0.8,\n",
       "          2.4,   0. ]),\n",
       " array([   0. ,  359.4,  698.8,  923.2, 1080.6, 1055. ,  962.4,  783.8,\n",
       "         524.2,  201.6,    0. ]),\n",
       " array([  0.,  54.,  75., 110., 109.,  69., 115.,  87.,  85.,  63.,   0.]),\n",
       " array([ 0. , -5.7, 15.6,  5.9, 13.2,  3.5,  5.8, -6.9, -2.6, -9.3,  0. ]),\n",
       " array([ 0. , 27.2,  2.4, 38.6, 25.8, 33. , 32.2,  5.4, 20.6, 10.8,  0. ]),\n",
       " array([  0. , 112.2, 250.4, 319.6, 369.8, 323. , 293.2, 195.4, 150.6,\n",
       "         28.8,   0. ]),\n",
       " array([ 0. , 52.9, 53.8, 68.7, 83.6, 84.5, 72.4, 73.3, 35.2, 27.1,  0. ]),\n",
       " array([  0. ,  80.7, 142.4, 181.1, 214.8, 217.5, 240.2, 158.9,  96.6,\n",
       "         64.3,   0. ]),\n",
       " array([ 0. , -7.8, 35.4, 41.6, 68.8, 57. , 59.2, 53.4, 26.6,  7.8,  0. ]),\n",
       " array([  0. , -11.5,  72. ,  89.5, 119. ,  89.5,  98. ,  76.5,  70. ,\n",
       "         24.5,   0. ]),\n",
       " array([ 0. , 42.9, 54.8, 61.7, 84.6, 90.5, 83.4, 69.3, 36.2, 11.1,  0. ]),\n",
       " array([ 0., 11., 34., 11.,  8., 10., 18., 18., 23., 12.,  0.]),\n",
       " array([ 0. ,  1.6,  4.2, 11.8, 18.4, 17. ,  1.6, 15.2, 12.8, -5.6,  0. ]),\n",
       " array([ 0. , 19.3,  5.6, 22.9, 37.2, 22.5, 19.8, 22.1, 28.4,  3.7,  0. ]),\n",
       " array([  0. ,   5.9, -13.2,  13.7,  13.6,   3.5,  10.4,  11.3,   3.2,\n",
       "          6.1,   0. ]),\n",
       " array([ 0. , 18.7,  3.4, 28.1, 28.8, 16.5, 30.2, 20.9,  9.6, 15.3,  0. ]),\n",
       " array([ 0. , 13.9,  6.8, 15.7,  4.6, 13.5,  8.4, 11.3, -5.8, -7.9,  0. ]),\n",
       " array([  0. ,  41.8,  36.6, -16.6,  84.2,  26. ,  24.8,  72.6,  35.4,\n",
       "         16.2,   0. ]),\n",
       " array([  0., -14.,  -1., -25., -20.,  -6.,  -3.,   6.,  -5.,   4.,   0.])]"
      ]
     },
     "execution_count": 14,
     "metadata": {},
     "output_type": "execute_result"
    }
   ],
   "source": [
    "bezes"
   ]
  },
  {
   "cell_type": "code",
   "execution_count": 15,
   "metadata": {},
   "outputs": [
    {
     "data": {
      "text/plain": [
       "[236.45411675223426,\n",
       " 270.26498303807017,\n",
       " 379.5113055264617,\n",
       " 391.1631584831638,\n",
       " 442.11481056257173,\n",
       " 455.6498848024576,\n",
       " 694.4450784593438,\n",
       " 719.1865357643758,\n",
       " 726.2795275590552,\n",
       " 828.2733944954128,\n",
       " 916.9661016949151,\n",
       " 943.4590750417381,\n",
       " 991.94,\n",
       " 1005.1839464882942,\n",
       " 1208.7065745438845,\n",
       " 1225.7158766071016,\n",
       " 1495.2827752888472,\n",
       " 1782.3245464457777,\n",
       " 1958.681141439206,\n",
       " 2054.981083404987,\n",
       " 2303.100826446281,\n",
       " 2339.2260638297876,\n",
       " 2379.253561253561,\n",
       " 2400.523719165086,\n",
       " 2433.3503184713372,\n",
       " 2466.2927024859664,\n",
       " 2585.458612975392,\n",
       " 2675.012578616352,\n",
       " 2702.690298507462,\n",
       " 2937.9006211180126,\n",
       " 2953.4327044025167,\n",
       " 3085.737287779988,\n",
       " 3369.9050669772855,\n",
       " 3560.7388059701498,\n",
       " 3646.501547987616,\n",
       " 3684.128,\n",
       " 3891.7822736030835,\n",
       " 3980.5497953615272,\n",
       " 4082.7730279898224,\n",
       " 4249.591346153846,\n",
       " 4614.908183632733,\n",
       " 4731.885038503851,\n",
       " 4884.296610169492,\n",
       " 4908.517730496454,\n",
       " 5331.082191780822,\n",
       " 5675.764455911368,\n",
       " 5853.033898305085,\n",
       " 5985.76923076923,\n",
       " 6119.6377551020405,\n",
       " 6273.531081742537,\n",
       " 6490.708068902992,\n",
       " 6980.841031149302,\n",
       " 7102.146198830408,\n",
       " 7135.145019920319,\n",
       " 7647.683816651072,\n",
       " 7796.9655172413795,\n",
       " 7820.831168831169,\n",
       " 8023.9283746556475,\n",
       " 8080.770642201836,\n",
       " 2076.9533527696794,\n",
       " 8103.851239669422,\n",
       " 844.0404984423676,\n",
       " 4353.828125]"
      ]
     },
     "execution_count": 15,
     "metadata": {},
     "output_type": "execute_result"
    }
   ],
   "source": [
    "centrpk"
   ]
  },
  {
   "cell_type": "code",
   "execution_count": 16,
   "metadata": {},
   "outputs": [],
   "source": [
    "#azes, bezes, centrpk, ypkregs, fwhms, gau_areas, peak_constructed_spectrum,\n",
    "#           baseline_spectrum, bl_median_smoother) = step2"
   ]
  },
  {
   "cell_type": "code",
   "execution_count": 17,
   "metadata": {},
   "outputs": [
    {
     "data": {
      "text/plain": [
       "array([1026, 1407, 2115, 3268, 3930, 3827, 3001, 1908, 1229,  936,  857])"
      ]
     },
     "execution_count": 17,
     "metadata": {},
     "output_type": "execute_result"
    }
   ],
   "source": [
    "y0s[232:243]"
   ]
  },
  {
   "cell_type": "code",
   "execution_count": 18,
   "metadata": {},
   "outputs": [
    {
     "data": {
      "text/plain": [
       "array([232., 233., 234., 235., 236., 237., 238., 239., 240., 241., 242.])"
      ]
     },
     "execution_count": 18,
     "metadata": {},
     "output_type": "execute_result"
    }
   ],
   "source": [
    "xs[232:243]"
   ]
  },
  {
   "cell_type": "code",
   "execution_count": 19,
   "metadata": {},
   "outputs": [
    {
     "data": {
      "text/plain": [
       "array([   0. ,  397.9, 1122.8, 2292.7, 2971.6, 2885.5, 2076.4, 1000.3,\n",
       "        338.2,   62.1,    0. ])"
      ]
     },
     "execution_count": 19,
     "metadata": {},
     "output_type": "execute_result"
    }
   ],
   "source": [
    "bezes[0]"
   ]
  },
  {
   "cell_type": "code",
   "execution_count": 20,
   "metadata": {},
   "outputs": [
    {
     "data": {
      "text/plain": [
       "[13628.327617830502,\n",
       " 9480.11885385221,\n",
       " 43731.2532273757,\n",
       " 91219.85821300902,\n",
       " 30715.34142348274,\n",
       " 10044.415508430797,\n",
       " 129.74162275352117,\n",
       " 159.0002737543125,\n",
       " 133.41217413353084,\n",
       " 202.95706744808726,\n",
       " 192.3050083073056,\n",
       " 27028.02034182289,\n",
       " 438.70658439954934,\n",
       " 268.80027049806887,\n",
       " 4416.40134033403,\n",
       " 42879.74402629698,\n",
       " 91474.87795018457,\n",
       " 152714.79075784728,\n",
       " 479.55648332183716,\n",
       " 441.36533992040177,\n",
       " 979.3512816963357,\n",
       " 881.0444679959929,\n",
       " 369.3021384620348,\n",
       " 230.01988179545813,\n",
       " 984.2531251771571,\n",
       " 1243.3776915142093,\n",
       " 2234.451036508623,\n",
       " 93.74762968240854,\n",
       " 629.1871728164263,\n",
       " 535.2651792257028,\n",
       " 1046.7864998879943,\n",
       " 102946.76698884787,\n",
       " 2943.603414242873,\n",
       " 842.9503160775274,\n",
       " 858.1507540776555,\n",
       " 220.00910503632943,\n",
       " 8985.194900740384,\n",
       " 2146.8845924033844,\n",
       " 2154.6347484087783,\n",
       " 1110.484560821338,\n",
       " 670.0318443269985,\n",
       " 4792.653644004813,\n",
       " 509.4414704329429,\n",
       " 311.6428729913487,\n",
       " 418.37623682773165,\n",
       " 19857.114160543584,\n",
       " 2259.387028296732,\n",
       " 287.067352461185,\n",
       " 451.7071010578977,\n",
       " 7067.829181653477,\n",
       " 1697.2492582684115,\n",
       " 4689.794149960267,\n",
       " 1279.938143716544,\n",
       " 2384.365446159883,\n",
       " 2121.7484131163196,\n",
       " 264.36116299429204,\n",
       " 297.9835621738521,\n",
       " 625.907396074496,\n",
       " 149.00352003341123,\n",
       " 110.37336393455477,\n",
       " 257.81889381488264,\n",
       " 219.70164866140564,\n",
       " 138.91400794224782]"
      ]
     },
     "execution_count": 20,
     "metadata": {},
     "output_type": "execute_result"
    }
   ],
   "source": [
    "gau_areas"
   ]
  },
  {
   "cell_type": "code",
   "execution_count": 21,
   "metadata": {},
   "outputs": [],
   "source": [
    "# 2020-02-24\n",
    "# Tudo em progresso! Agora:\n",
    "# - Fazer os gr'aficos\n",
    "# - fazer em v'arias passadas o c'alculo at'e n~ao haver picos na linha-base."
   ]
  },
  {
   "cell_type": "code",
   "execution_count": 24,
   "metadata": {},
   "outputs": [],
   "source": [
    "# Bokeh graph w/ peaks in all scales\n",
    "bokpksallscl = figure(\n",
    "   plot_width =default_plot_width,\n",
    "   plot_height=default_plot_height,\n",
    "   tools=\"pan,box_zoom,reset,save\",\n",
    "    y_axis_type=\"log\",\n",
    "    y_range=[10**1, 10**5], title=\"real spec\",\n",
    "   # y_range=[-1000.0, 1000.0], title=\"synth\",\n",
    "   x_axis_label='channels', y_axis_label='counts'\n",
    ")\n",
    "# bokpksallscl.circle(ar1[:,0], ar1[:,1], legend_label=\"cwt peaks\", color=\"navy\",size=2)\n",
    "bokpksallscl.line(xs, y0s, color=\"green\")\n",
    "bokpksallscl.line(xs, peak_constructed_spectrum, color=\"red\")\n",
    "bokpksallscl.line(xs, bl_median_smoother, color=\"cyan\")\n",
    "bokpksallscl.line(xs, peak_constructed_spectrum+bl_median_smoother, color=\"blue\")\n",
    "\n",
    "# bokpksallscl.cross(pk_per_scal[ 0], y0s[pk_per_scal[ 0]]*1.01, color=\"red\",size=2)\n",
    "show(bokpksallscl)"
   ]
  },
  {
   "cell_type": "code",
   "execution_count": 23,
   "metadata": {},
   "outputs": [],
   "source": [
    "# Bokeh graph w/ peaks in all scales\n",
    "bok2 = figure(\n",
    "   plot_width =default_plot_width,\n",
    "   plot_height=default_plot_height,\n",
    "   tools=\"pan,box_zoom,reset,save\",\n",
    "   # y_axis_type=\"log\",\n",
    "   # y_range=[10**1, 10**5], title=\"real spec\",\n",
    "   # y_range=[-1000.0, 1000.0], title=\"synth\",\n",
    "   x_axis_label='channels', y_axis_label='counts'\n",
    ")\n",
    "# bokpksallscl.circle(ar1[:,0], ar1[:,1], legend_label=\"cwt peaks\", color=\"navy\",size=2)\n",
    "# bokpksallscl.line(xs, y0s, color=\"green\")\n",
    "bok2.line(xs, peak_constructed_spectrum, color=\"red\")\n",
    "# bokpksallscl.line(xs, bl_median_smoother, color=\"cyan\")\n",
    "# bokpksallscl.line(xs, peak_constructed_spectrum+bl_median_smoother, color=\"blue\")\n",
    "\n",
    "# bokpksallscl.cross(pk_per_scal[ 0], y0s[pk_per_scal[ 0]]*1.01, color=\"red\",size=2)\n",
    "show(bok2)"
   ]
  },
  {
   "cell_type": "code",
   "execution_count": null,
   "metadata": {},
   "outputs": [],
   "source": [
    "# 2020-02-25 Segunda passada"
   ]
  },
  {
   "cell_type": "code",
   "execution_count": 25,
   "metadata": {},
   "outputs": [],
   "source": [
    "ret2 = cwt_complete_analysis(bl_median_smoother)\n",
    "\n",
    "(xs, y0s, ar1, lblimag1, num_feat_imag1, ridges, xpks, ypks,\n",
    " ind_ypks, retang_indicess, peaks_masks, cwtpks, nscpks) = ret2"
   ]
  },
  {
   "cell_type": "code",
   "execution_count": 26,
   "metadata": {},
   "outputs": [],
   "source": [
    "(nscpk_ma, cwtpk_ma, pospk_ma) = peaks_masks\n",
    "valid_peaks = ~(cwtpk_ma.mask | nscpk_ma.mask | ~pospk_ma)"
   ]
  },
  {
   "cell_type": "code",
   "execution_count": 27,
   "metadata": {},
   "outputs": [],
   "source": [
    "default_plot_width, default_plot_height = set_screen_size_by_machine()\n",
    "\n",
    "# Bokeh graph w/ peaks in all scales\n",
    "bokridges1 = figure(\n",
    "   plot_width =default_plot_width,\n",
    "   plot_height=int(default_plot_height*0.5),\n",
    "   tools=\"pan,box_zoom,reset,save\",\n",
    "   # x_axis_label='channels',\n",
    "   y_axis_label='scale'\n",
    ")\n",
    "bokridges1.circle(ar1[:,0], ar1[:,1], legend_label=\"cwt peaks\", color=\"navy\",size=2)\n",
    "bokridges1.circle(xpks[valid_peaks], ypks[valid_peaks], color=\"red\",size=8)\n",
    "bokridges1.circle(xpks[nscpk_ma.mask], ypks[nscpk_ma.mask], color=\"orange\",size=8)\n",
    "bokridges1.circle(xpks[cwtpk_ma.mask], ypks[cwtpk_ma.mask], color=\"green\",size=6)\n",
    "bokridges1.circle(xpks[~pospk_ma], ypks[~pospk_ma], color=\"cyan\",size=4)\n",
    "bokridges2 = figure(\n",
    "   plot_width =default_plot_width,\n",
    "   plot_height=int(default_plot_height*0.5),\n",
    "   tools=\"pan,box_zoom,reset,save\",\n",
    "   y_axis_type=\"log\", y_range=[1.0e1, 1.0e5],\n",
    "   x_axis_label='channels', y_axis_label='counts'\n",
    ")\n",
    "bokridges2.line(xs, y0s, color=\"green\")\n",
    "# https://docs.bokeh.org/en/latest/docs/reference/layouts.html\n",
    "p = gridplot([bokridges1, bokridges2], ncols=1)\n",
    "show(p)"
   ]
  },
  {
   "cell_type": "code",
   "execution_count": null,
   "metadata": {},
   "outputs": [],
   "source": []
  }
 ],
 "metadata": {
  "kernelspec": {
   "display_name": "Python 3",
   "language": "python",
   "name": "python3"
  },
  "language_info": {
   "codemirror_mode": {
    "name": "ipython",
    "version": 3
   },
   "file_extension": ".py",
   "mimetype": "text/x-python",
   "name": "python",
   "nbconvert_exporter": "python",
   "pygments_lexer": "ipython3",
   "version": "3.7.7"
  }
 },
 "nbformat": 4,
 "nbformat_minor": 4
}
