{
 "cells": [
  {
   "cell_type": "code",
   "execution_count": 1,
   "metadata": {},
   "outputs": [],
   "source": [
    "#!/usr/bin/env python3\n",
    "# -*- coding: utf-8 -*-\n",
    "\"\"\"\n",
    "Created on Sat Feb 22 10:40:56 2020\n",
    "\n",
    "@author: marcelo\n",
    "\n",
    "ar1:\n",
    "- array (nx,2), onde:\n",
    "    nx: n'umero total de picos em todas as escalas\n",
    "    x: 'indice do pico\n",
    "    ar1[x,0]: canal inteiro do pico\n",
    "    ar1[x,1]: valor da escala\n",
    "    \n",
    "xpk:\n",
    "- lista (nx), onde:\n",
    "    nx: numero de picos efetivos ap'os an'alise\n",
    "    x: canal inteiro do pico\n",
    "    \n",
    "ypk:\n",
    "- lista (nx), onde:\n",
    "    nx: numero de picos efetivos ap'os an'alise (= nx(xpk))\n",
    "    x: valor da escala\n",
    "\n",
    "\"\"\"\n",
    "\n",
    "import numpy as np\n",
    "\n",
    "from spectrum_analysis import (cwt_complete_analysis, gaussian_complete_analysis, cwt_calc_peaks)\n",
    "from teste_datas import (Spec)\n",
    "\n",
    "from machine_selection import set_screen_size_by_machine\n",
    "from bokeh.plotting import figure, output_file, output_notebook, show\n",
    "from bokeh.layouts import gridplot\n",
    "\n",
    "from bokeh import palettes"
   ]
  },
  {
   "cell_type": "code",
   "execution_count": 2,
   "metadata": {},
   "outputs": [],
   "source": [
    "# 2019-03-15\n",
    "# https://pandas.pydata.org/pandas-docs/stable/getting_started/10min.html\n",
    "import pandas as pd\n",
    "import csv"
   ]
  },
  {
   "cell_type": "code",
   "execution_count": 3,
   "metadata": {},
   "outputs": [],
   "source": [
    "fn2 = '../Efluentes-gasosos/Filtros-espectros/2018/CTP/CTP2203-3.Chn'"
   ]
  },
  {
   "cell_type": "code",
   "execution_count": 4,
   "metadata": {},
   "outputs": [
    {
     "name": "stdout",
     "output_type": "stream",
     "text": [
      "4096\n",
      "4096\n"
     ]
    }
   ],
   "source": [
    "spec2 = Spec()\n",
    "if spec2.readSp( fn2 ) >= 0:\n",
    "    print (spec2.spLngData)\n",
    "    \n",
    "counts = spec2.spCounts\n",
    "print(len(counts))\n",
    "\n",
    "ret = cwt_complete_analysis(counts)\n",
    "# ret = gaussian_complete_analysis(counts)\n",
    "\n",
    "(xs, y0s, ar1, lblimag1, num_feat_imag1, ridges, xpks, ypks,\n",
    " ind_ypks, retang_indicess, peaks_masks, cwtpks, nscpks) = ret"
   ]
  },
  {
   "cell_type": "code",
   "execution_count": 5,
   "metadata": {},
   "outputs": [],
   "source": [
    "# PAREI AQUI: 2020-04-25 Já mudei de ideia... Agora ver a análise com arquivo do CR (I-131)."
   ]
  },
  {
   "cell_type": "code",
   "execution_count": null,
   "metadata": {},
   "outputs": [],
   "source": []
  },
  {
   "cell_type": "code",
   "execution_count": 6,
   "metadata": {},
   "outputs": [],
   "source": [
    "# Desativado:"
   ]
  },
  {
   "cell_type": "raw",
   "metadata": {},
   "source": [
    "# https://stackoverflow.com/questions/17098654/how-to-store-a-dataframe-using-pandas\n",
    "dfSpecFiles = pd.read_pickle('todos_si_specs.pkl')\n",
    "# dfSpecFiles = pd.read_pickle('todos_si2019_specs.pkl')\n",
    "dfSpecFiles"
   ]
  },
  {
   "cell_type": "raw",
   "metadata": {},
   "source": [
    "Máscaras:\n",
    "    # o pico deve aparecer em pelo menos nsca_det (default 5) escalas\n",
    "    nscpk_ma = ma.masked_less(nscpks, nsca_det)\n",
    "    # o coeficiente cwt deve ser >= min_cwtpk (default 30.0)\n",
    "    cwtpk_ma = ma.masked_less(cwtpks, min_cwtpk)\n",
    "    # o cwt m'aximo n~ao pode estar pr'oximo aos extremos do ridge\n",
    "    pospk_ma = ma.masked_where( False, valid_position_in_ridges )\n"
   ]
  },
  {
   "cell_type": "code",
   "execution_count": 7,
   "metadata": {},
   "outputs": [],
   "source": [
    "(nscpk_ma, cwtpk_ma, pospk_ma) = peaks_masks\n",
    "valid_peaks = ~(cwtpk_ma.mask | nscpk_ma.mask | ~pospk_ma)"
   ]
  },
  {
   "cell_type": "code",
   "execution_count": null,
   "metadata": {},
   "outputs": [],
   "source": []
  },
  {
   "cell_type": "code",
   "execution_count": 8,
   "metadata": {},
   "outputs": [],
   "source": [
    "default_plot_width, default_plot_height = set_screen_size_by_machine()\n",
    "\n",
    "# Bokeh graph w/ peaks in all scales\n",
    "\n",
    "# Gráfico de ridges com qualidade dos picos pelas cores e tamanhos:\n",
    "\n",
    "# Navy 2:     pontos dos ridgest\n",
    "# Vermelho 8: picos válidos\n",
    "# Laranja 8:  inválido, aparece em poucas escalas  \n",
    "# Verde 6:    inválido, muito pequeno (pelo coeficiente cwt)\n",
    "# Ciano 3:    inválido, forma ruim (cwt perto dos extremos do ridge)\n",
    "\n",
    "bokridges1 = figure(\n",
    "   plot_width =default_plot_width,\n",
    "   plot_height=int(default_plot_height*0.5),\n",
    "   tools=\"pan,box_zoom,reset,save\",\n",
    "   # x_axis_label='channels',\n",
    "   y_axis_label='scale'\n",
    ")\n",
    "bokridges1.circle(ar1[:,0], ar1[:,1], color=\"navy\",size=2)\n",
    "bokridges1.circle(xpks[valid_peaks], ypks[valid_peaks], color=\"red\",size=8)\n",
    "bokridges1.circle(xpks[nscpk_ma.mask], ypks[nscpk_ma.mask], color=\"orange\",size=8)\n",
    "bokridges1.circle(xpks[cwtpk_ma.mask], ypks[cwtpk_ma.mask], color=\"green\",size=6)\n",
    "bokridges1.circle(xpks[~pospk_ma], ypks[~pospk_ma], color=\"cyan\",size=3)\n",
    "bokridges2 = figure(\n",
    "   plot_width =default_plot_width,\n",
    "   plot_height=int(default_plot_height*0.5),\n",
    "   tools=\"pan,box_zoom,reset,save\",\n",
    "   y_axis_type=\"log\", y_range=[1.0e1, 1.0e5],\n",
    "   x_axis_label='channels', y_axis_label='counts'\n",
    ")\n",
    "bokridges2.line(xs, y0s, color=\"green\")\n",
    "# https://docs.bokeh.org/en/latest/docs/reference/layouts.html\n",
    "p = gridplot([bokridges1, bokridges2], ncols=1)\n",
    "show(p)"
   ]
  },
  {
   "cell_type": "code",
   "execution_count": 9,
   "metadata": {},
   "outputs": [
    {
     "data": {
      "text/plain": [
       "array([ 415,  814, 1120])"
      ]
     },
     "execution_count": 9,
     "metadata": {},
     "output_type": "execute_result"
    }
   ],
   "source": [
    "valid_xpks = np.asarray(xpks)[valid_peaks]\n",
    "valid_xpks"
   ]
  },
  {
   "cell_type": "code",
   "execution_count": 10,
   "metadata": {},
   "outputs": [
    {
     "data": {
      "text/plain": [
       "array([ 2.62987755,  2.41991837, 10.39836735])"
      ]
     },
     "execution_count": 10,
     "metadata": {},
     "output_type": "execute_result"
    }
   ],
   "source": [
    "valid_ypks = np.asarray(ypks)[valid_peaks]\n",
    "valid_ypks"
   ]
  },
  {
   "cell_type": "code",
   "execution_count": 11,
   "metadata": {},
   "outputs": [
    {
     "data": {
      "text/plain": [
       "array([1.37810486e+06, 1.59150904e+04, 3.55332542e+01])"
      ]
     },
     "execution_count": 11,
     "metadata": {},
     "output_type": "execute_result"
    }
   ],
   "source": [
    "valid_cwtpks = np.asarray(cwtpks)[valid_peaks]\n",
    "valid_cwtpks"
   ]
  },
  {
   "cell_type": "code",
   "execution_count": 12,
   "metadata": {},
   "outputs": [
    {
     "data": {
      "text/plain": [
       "array([0.000e+00, 1.000e+00, 2.000e+00, ..., 4.093e+03, 4.094e+03,\n",
       "       4.095e+03])"
      ]
     },
     "execution_count": 12,
     "metadata": {},
     "output_type": "execute_result"
    }
   ],
   "source": [
    "xs"
   ]
  },
  {
   "cell_type": "code",
   "execution_count": 13,
   "metadata": {},
   "outputs": [
    {
     "data": {
      "text/plain": [
       "array([0, 0, 0, ..., 0, 0, 0])"
      ]
     },
     "execution_count": 13,
     "metadata": {},
     "output_type": "execute_result"
    }
   ],
   "source": [
    "y0s"
   ]
  },
  {
   "cell_type": "code",
   "execution_count": null,
   "metadata": {},
   "outputs": [],
   "source": []
  },
  {
   "cell_type": "code",
   "execution_count": 14,
   "metadata": {},
   "outputs": [],
   "source": [
    "step2 = cwt_calc_peaks(valid_xpks, valid_ypks, valid_cwtpks, xs, y0s)"
   ]
  },
  {
   "cell_type": "code",
   "execution_count": 15,
   "metadata": {},
   "outputs": [
    {
     "data": {
      "text/plain": [
       "array([ 415,  814, 1013, 1120, 1211, 1215, 1257, 1313, 1473, 1636, 1731,\n",
       "       1859, 1869, 2017, 2080, 2181, 2196, 2218, 2288, 2322, 2363, 2419,\n",
       "       2627, 2671, 2704, 2710, 2795, 2820, 2919, 3065, 3087, 3277, 3298,\n",
       "       3345, 3381, 3509, 3588, 3623, 3633, 3741, 3768, 3820, 3857, 3933,\n",
       "       3965, 3978, 1605, 1659, 2144, 3443, 1149, 2036, 2248, 1527,  983,\n",
       "       1426, 2739, 3197, 1397, 2529, 1799, 2654, 2559, 3628, 3540, 2052])"
      ]
     },
     "execution_count": 15,
     "metadata": {},
     "output_type": "execute_result"
    }
   ],
   "source": [
    "xpks[pospk_ma]\n"
   ]
  },
  {
   "cell_type": "code",
   "execution_count": null,
   "metadata": {},
   "outputs": [],
   "source": []
  },
  {
   "cell_type": "code",
   "execution_count": 16,
   "metadata": {},
   "outputs": [],
   "source": [
    "(azes, bezes, centrpk, ypkregs, fwhms, gau_areas, peak_constructed_spectrum,\n",
    "           baseline_spectrum, bl_median_smoother) = step2"
   ]
  },
  {
   "cell_type": "code",
   "execution_count": 17,
   "metadata": {},
   "outputs": [
    {
     "data": {
      "text/plain": [
       "[array([410., 411., 412., 413., 414., 415., 416., 417., 418., 419., 420.]),\n",
       " array([809., 810., 811., 812., 813., 814., 815., 816., 817., 818., 819.]),\n",
       " array([1115., 1116., 1117., 1118., 1119., 1120., 1121., 1122., 1123.,\n",
       "        1124., 1125.])]"
      ]
     },
     "execution_count": 17,
     "metadata": {},
     "output_type": "execute_result"
    }
   ],
   "source": [
    "azes"
   ]
  },
  {
   "cell_type": "code",
   "execution_count": 18,
   "metadata": {},
   "outputs": [
    {
     "data": {
      "text/plain": [
       "3"
      ]
     },
     "execution_count": 18,
     "metadata": {},
     "output_type": "execute_result"
    }
   ],
   "source": [
    "len(azes)"
   ]
  },
  {
   "cell_type": "code",
   "execution_count": 19,
   "metadata": {},
   "outputs": [
    {
     "data": {
      "text/plain": [
       "[array([ 0.000000e+00,  4.459400e+03,  1.472880e+04,  9.475620e+04,\n",
       "         6.779246e+05,  1.410610e+06,  8.039214e+05,  1.302548e+05,\n",
       "         3.880200e+03, -1.261400e+03,  0.000000e+00]),\n",
       " array([    0. ,    37.4,   268.8,  2233.2,  9698.6, 14793. ,  7990.4,\n",
       "         1438.8,    25.2,   -27.4,     0. ]),\n",
       " array([ 0. ,  1.5, -4. ,  0.5, -4. ,  4.5,  7. ,  7.5, 18. , 15.5,  0. ])]"
      ]
     },
     "execution_count": 19,
     "metadata": {},
     "output_type": "execute_result"
    }
   ],
   "source": [
    "bezes"
   ]
  },
  {
   "cell_type": "code",
   "execution_count": 20,
   "metadata": {},
   "outputs": [
    {
     "data": {
      "text/plain": [
       "[415.0450948212866, 813.8824126392014, 1123.1612903225807]"
      ]
     },
     "execution_count": 20,
     "metadata": {},
     "output_type": "execute_result"
    }
   ],
   "source": [
    "centrpk"
   ]
  },
  {
   "cell_type": "code",
   "execution_count": 21,
   "metadata": {},
   "outputs": [],
   "source": [
    "#azes, bezes, centrpk, ypkregs, fwhms, gau_areas, peak_constructed_spectrum,\n",
    "#           baseline_spectrum, bl_median_smoother) = step2"
   ]
  },
  {
   "cell_type": "code",
   "execution_count": 22,
   "metadata": {},
   "outputs": [
    {
     "data": {
      "text/plain": [
       "array([ 0.000000e+00,  4.459400e+03,  1.472880e+04,  9.475620e+04,\n",
       "        6.779246e+05,  1.410610e+06,  8.039214e+05,  1.302548e+05,\n",
       "        3.880200e+03, -1.261400e+03,  0.000000e+00])"
      ]
     },
     "execution_count": 22,
     "metadata": {},
     "output_type": "execute_result"
    }
   ],
   "source": [
    "bezes[0]"
   ]
  },
  {
   "cell_type": "code",
   "execution_count": 23,
   "metadata": {},
   "outputs": [
    {
     "data": {
      "text/plain": [
       "[3387193.4126061485, 37523.162750015166, 173.66309194141255]"
      ]
     },
     "execution_count": 23,
     "metadata": {},
     "output_type": "execute_result"
    }
   ],
   "source": [
    "gau_areas"
   ]
  },
  {
   "cell_type": "code",
   "execution_count": 24,
   "metadata": {},
   "outputs": [],
   "source": [
    "# 2020-02-24\n",
    "# Tudo em progresso! Agora:\n",
    "# - Fazer os gr'aficos\n",
    "# - fazer em v'arias passadas o c'alculo at'e n~ao haver picos na linha-base."
   ]
  },
  {
   "cell_type": "code",
   "execution_count": 25,
   "metadata": {},
   "outputs": [],
   "source": [
    "# Bokeh graph w/ peaks in all scales\n",
    "bokpksallscl = figure(\n",
    "   plot_width =default_plot_width,\n",
    "   plot_height=default_plot_height,\n",
    "   tools=\"pan,box_zoom,reset,save\",\n",
    "    y_axis_type=\"log\",\n",
    "    y_range=[10**1, 10**5], title=\"real spec\",\n",
    "   # y_range=[-1000.0, 1000.0], title=\"synth\",\n",
    "   x_axis_label='channels', y_axis_label='counts'\n",
    ")\n",
    "# bokpksallscl.circle(ar1[:,0], ar1[:,1], legend_label=\"cwt peaks\", color=\"navy\",size=2)\n",
    "bokpksallscl.line(xs, y0s, color=\"green\")\n",
    "bokpksallscl.line(xs, peak_constructed_spectrum, color=\"red\")\n",
    "bokpksallscl.line(xs, bl_median_smoother, color=\"cyan\")\n",
    "bokpksallscl.line(xs, peak_constructed_spectrum+bl_median_smoother, color=\"blue\")\n",
    "\n",
    "# bokpksallscl.cross(pk_per_scal[ 0], y0s[pk_per_scal[ 0]]*1.01, color=\"red\",size=2)\n",
    "show(bokpksallscl)"
   ]
  },
  {
   "cell_type": "code",
   "execution_count": 26,
   "metadata": {},
   "outputs": [],
   "source": [
    "# Bokeh graph w/ peaks in all scales\n",
    "bok2 = figure(\n",
    "   plot_width =default_plot_width,\n",
    "   plot_height=default_plot_height,\n",
    "   tools=\"pan,box_zoom,reset,save\",\n",
    "   # y_axis_type=\"log\",\n",
    "   # y_range=[10**1, 10**5], title=\"real spec\",\n",
    "   # y_range=[-1000.0, 1000.0], title=\"synth\",\n",
    "   x_axis_label='channels', y_axis_label='counts'\n",
    ")\n",
    "# bokpksallscl.circle(ar1[:,0], ar1[:,1], legend_label=\"cwt peaks\", color=\"navy\",size=2)\n",
    "# bokpksallscl.line(xs, y0s, color=\"green\")\n",
    "bok2.line(xs, peak_constructed_spectrum, color=\"red\")\n",
    "# bokpksallscl.line(xs, bl_median_smoother, color=\"cyan\")\n",
    "# bokpksallscl.line(xs, peak_constructed_spectrum+bl_median_smoother, color=\"blue\")\n",
    "\n",
    "# bokpksallscl.cross(pk_per_scal[ 0], y0s[pk_per_scal[ 0]]*1.01, color=\"red\",size=2)\n",
    "show(bok2)"
   ]
  },
  {
   "cell_type": "code",
   "execution_count": 27,
   "metadata": {},
   "outputs": [],
   "source": [
    "# 2020-02-25 Segunda passada"
   ]
  },
  {
   "cell_type": "code",
   "execution_count": 28,
   "metadata": {},
   "outputs": [],
   "source": [
    "ret2 = cwt_complete_analysis(bl_median_smoother)\n",
    "\n",
    "(xs, y0s, ar1, lblimag1, num_feat_imag1, ridges, xpks, ypks,\n",
    " ind_ypks, retang_indicess, peaks_masks, cwtpks, nscpks) = ret2"
   ]
  },
  {
   "cell_type": "code",
   "execution_count": 29,
   "metadata": {},
   "outputs": [],
   "source": [
    "(nscpk_ma, cwtpk_ma, pospk_ma) = peaks_masks\n",
    "valid_peaks = ~(cwtpk_ma.mask | nscpk_ma.mask | ~pospk_ma)"
   ]
  },
  {
   "cell_type": "code",
   "execution_count": null,
   "metadata": {},
   "outputs": [],
   "source": []
  },
  {
   "cell_type": "code",
   "execution_count": null,
   "metadata": {},
   "outputs": [],
   "source": []
  }
 ],
 "metadata": {
  "kernelspec": {
   "display_name": "Python 3",
   "language": "python",
   "name": "python3"
  },
  "language_info": {
   "codemirror_mode": {
    "name": "ipython",
    "version": 3
   },
   "file_extension": ".py",
   "mimetype": "text/x-python",
   "name": "python",
   "nbconvert_exporter": "python",
   "pygments_lexer": "ipython3",
   "version": "3.7.7"
  }
 },
 "nbformat": 4,
 "nbformat_minor": 4
}
