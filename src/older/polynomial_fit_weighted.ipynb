{
 "cells": [
  {
   "cell_type": "code",
   "execution_count": 1,
   "metadata": {},
   "outputs": [],
   "source": [
    "import numpy as np\n",
    "from numpy.polynomial import Polynomial as P # 2020-09-06 Esta é a nova classe recomendada"
   ]
  },
  {
   "cell_type": "code",
   "execution_count": 2,
   "metadata": {},
   "outputs": [],
   "source": [
    "engCV = np.array([59.54,81,88.03,122.06,136.47,165.86,276.4,302.85,356.02,383.85,604.69,795.84,898.04,\n",
    "                  1173.24,1332.5,1836.06])\n",
    "effCV = np.array([0.942,2.064,2.732,3.3,3.282,3.143,1.829,1.779,1.492,1.4,0.83,0.65,0.596,0.458,0.407,0.307])\n",
    "sPercEffCV = np.array([2.44,2.81,2.78,1.97,2.71,2.16,3.01,2.64,2.55,2.86,2.17,2.15,2.52,2.18,2.21,2.61])"
   ]
  },
  {
   "cell_type": "code",
   "execution_count": 3,
   "metadata": {},
   "outputs": [
    {
     "data": {
      "text/latex": [
       "$x \\mapsto \\text{0.4695679020085988} - \\text{1.9316608598896778}\\,\\left(\\text{-3.383768726532175} + \\text{0.5833065434350068}x\\right) + \\text{0.038016660902548495}\\,\\left(\\text{-3.383768726532175} + \\text{0.5833065434350068}x\\right)^{2} + \\text{1.2608583499521986}\\,\\left(\\text{-3.383768726532175} + \\text{0.5833065434350068}x\\right)^{3} - \\text{1.420434328952905}\\,\\left(\\text{-3.383768726532175} + \\text{0.5833065434350068}x\\right)^{4} + \\text{0.11058447845536125}\\,\\left(\\text{-3.383768726532175} + \\text{0.5833065434350068}x\\right)^{5} + \\text{0.290750081037019}\\,\\left(\\text{-3.383768726532175} + \\text{0.5833065434350068}x\\right)^{6}$"
      ],
      "text/plain": [
       "Polynomial([ 0.4695679 , -1.93166086,  0.03801666,  1.26085835, -1.42043433,\n",
       "        0.11058448,  0.29075008], domain=[4.08664836, 7.51537725], window=[-1.,  1.])"
      ]
     },
     "execution_count": 3,
     "metadata": {},
     "output_type": "execute_result"
    }
   ],
   "source": [
    "p6 = P.fit(np.log(engCV),np.log(effCV),w=1.0/sPercEffCV**2,deg=6)\n",
    "p6"
   ]
  },
  {
   "cell_type": "code",
   "execution_count": 4,
   "metadata": {},
   "outputs": [
    {
     "data": {
      "text/plain": [
       "array([ 1.59754505e+02, -2.56736679e+02,  1.42417386e+02, -3.81349980e+01,\n",
       "        5.39992105e+00, -3.91149622e-01,  1.14525167e-02])"
      ]
     },
     "execution_count": 4,
     "metadata": {},
     "output_type": "execute_result"
    }
   ],
   "source": [
    "p6.convert().coef"
   ]
  },
  {
   "cell_type": "code",
   "execution_count": 5,
   "metadata": {},
   "outputs": [],
   "source": [
    "eng131I = np.array([80.183,284.298,364.48,636.973,722.893])"
   ]
  },
  {
   "cell_type": "code",
   "execution_count": 6,
   "metadata": {},
   "outputs": [
    {
     "data": {
      "text/plain": [
       "array([2.15511458, 1.89466744, 1.43346676, 0.80113127, 0.71113345])"
      ]
     },
     "execution_count": 6,
     "metadata": {},
     "output_type": "execute_result"
    }
   ],
   "source": [
    "np.exp(p6(np.log(eng131I)))"
   ]
  },
  {
   "cell_type": "code",
   "execution_count": null,
   "metadata": {},
   "outputs": [],
   "source": []
  },
  {
   "cell_type": "code",
   "execution_count": null,
   "metadata": {},
   "outputs": [],
   "source": []
  }
 ],
 "metadata": {
  "kernelspec": {
   "display_name": "Python 3",
   "language": "python",
   "name": "python3"
  },
  "language_info": {
   "codemirror_mode": {
    "name": "ipython",
    "version": 3
   },
   "file_extension": ".py",
   "mimetype": "text/x-python",
   "name": "python",
   "nbconvert_exporter": "python",
   "pygments_lexer": "ipython3",
   "version": "3.7.10"
  }
 },
 "nbformat": 4,
 "nbformat_minor": 4
}
