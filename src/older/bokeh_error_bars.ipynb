{
 "cells": [
  {
   "cell_type": "code",
   "execution_count": 1,
   "metadata": {},
   "outputs": [],
   "source": [
    "# from bokeh.models import ColumnDataSource, Whisker\n",
    "# from bokeh.plotting import figure, show\n",
    "from bokeh.sampledata.autompg import autompg as df\n",
    "\n",
    "from machine_selection import set_screen_size_by_machine\n",
    "from bokeh.models import ColumnDataSource, Whisker\n",
    "from bokeh.plotting import figure, output_file, output_notebook, show\n",
    "from bokeh.layouts import gridplot\n",
    "\n",
    "from bokeh import palettes\n",
    "\n",
    "colors = [\"red\", \"olive\", \"darkred\", \"goldenrod\", \"skyblue\", \"orange\", \"salmon\"]\n",
    "\n",
    "p = figure(plot_width=600, plot_height=300, title=\"Years vs mpg with Quartile Ranges\")\n",
    "\n",
    "base, lower, upper = [], [], []\n",
    "\n",
    "for i, year in enumerate(list(df.yr.unique())):\n",
    "    year_mpgs = df[df['yr'] == year]['mpg']\n",
    "    mpgs_mean = year_mpgs.mean()\n",
    "    mpgs_std = year_mpgs.std()\n",
    "    lower.append(mpgs_mean - mpgs_std)\n",
    "    upper.append(mpgs_mean + mpgs_std)\n",
    "    base.append(year)\n",
    "\n",
    "source_error = ColumnDataSource(data=dict(base=base, lower=lower, upper=upper))\n",
    "\n",
    "p.add_layout(\n",
    "    Whisker(source=source_error, base=\"base\", upper=\"upper\", lower=\"lower\")\n",
    ")\n",
    "\n",
    "for i, year in enumerate(list(df.yr.unique())):\n",
    "    y = df[df['yr'] == year]['mpg']\n",
    "    color = colors[i % len(colors)]\n",
    "    p.circle(x=year, y=y, color=color)\n",
    "\n",
    "show(p)"
   ]
  },
  {
   "cell_type": "code",
   "execution_count": 7,
   "metadata": {},
   "outputs": [
    {
     "data": {
      "text/plain": [
       "[70, 71, 72, 73, 74, 75, 76, 77, 78, 79, 80, 81, 82]"
      ]
     },
     "execution_count": 7,
     "metadata": {},
     "output_type": "execute_result"
    }
   ],
   "source": [
    "list(df.yr.unique())"
   ]
  },
  {
   "cell_type": "code",
   "execution_count": null,
   "metadata": {},
   "outputs": [],
   "source": []
  }
 ],
 "metadata": {
  "kernelspec": {
   "display_name": "Python 3",
   "language": "python",
   "name": "python3"
  },
  "language_info": {
   "codemirror_mode": {
    "name": "ipython",
    "version": 3
   },
   "file_extension": ".py",
   "mimetype": "text/x-python",
   "name": "python",
   "nbconvert_exporter": "python",
   "pygments_lexer": "ipython3",
   "version": "3.7.7"
  }
 },
 "nbformat": 4,
 "nbformat_minor": 4
}
