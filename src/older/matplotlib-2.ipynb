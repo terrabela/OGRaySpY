{
 "cells": [
  {
   "cell_type": "code",
   "execution_count": 1,
   "metadata": {},
   "outputs": [
    {
     "ename": "SyntaxError",
     "evalue": "invalid syntax (<ipython-input-1-d694aab9739d>, line 3)",
     "output_type": "error",
     "traceback": [
      "\u001b[0;36m  File \u001b[0;32m\"<ipython-input-1-d694aab9739d>\"\u001b[0;36m, line \u001b[0;32m3\u001b[0m\n\u001b[0;31m    Creates just a figure and only one subplot\u001b[0m\n\u001b[0m               ^\u001b[0m\n\u001b[0;31mSyntaxError\u001b[0m\u001b[0;31m:\u001b[0m invalid syntax\n"
     ]
    }
   ],
   "source": [
    "\n",
    "\n",
    "Creates just a figure and only one subplot\n",
    "\n",
    ">>> fig, ax = plt.subplots()\n",
    ">>> ax.plot(x, y)\n",
    ">>> ax.set_title('Simple plot')\n",
    "Creates two subplots and unpacks the output array immediately\n",
    "\n",
    ">>> f, (ax1, ax2) = plt.subplots(1, 2, sharey=True)\n",
    ">>> ax1.plot(x, y)\n",
    ">>> ax1.set_title('Sharing Y axis')\n",
    ">>> ax2.scatter(x, y)\n",
    "Creates four polar axes, and accesses them through the returned array\n",
    "\n",
    ">>> fig, axes = plt.subplots(2, 2, subplot_kw=dict(polar=True))\n",
    ">>> axes[0, 0].plot(x, y)\n",
    ">>> axes[1, 1].scatter(x, y)\n",
    "Share a X axis with each column of subplots\n",
    "\n",
    ">>> plt.subplots(2, 2, sharex='col')\n",
    "Share a Y axis with each row of subplots\n",
    "\n",
    ">>> plt.subplots(2, 2, sharey='row')\n",
    "Share both X and Y axes with all subplots\n",
    "\n",
    ">>> plt.subplots(2, 2, sharex='all', sharey='all')\n",
    "Note that this is the same as\n",
    "\n",
    ">>> plt.subplots(2, 2, sharex=True, sharey=True)"
   ]
  },
  {
   "cell_type": "code",
   "execution_count": null,
   "metadata": {},
   "outputs": [],
   "source": [
    "# First create some toy data:\n",
    "x = np.linspace(0, 2*np.pi, 400)\n",
    "y = np.sin(x**2)"
   ]
  },
  {
   "cell_type": "code",
   "execution_count": null,
   "metadata": {},
   "outputs": [],
   "source": []
  }
 ],
 "metadata": {
  "kernelspec": {
   "display_name": "Python 3",
   "language": "python",
   "name": "python3"
  },
  "language_info": {
   "codemirror_mode": {
    "name": "ipython",
    "version": 3
   },
   "file_extension": ".py",
   "mimetype": "text/x-python",
   "name": "python",
   "nbconvert_exporter": "python",
   "pygments_lexer": "ipython3",
   "version": "3.7.1"
  }
 },
 "nbformat": 4,
 "nbformat_minor": 2
}
