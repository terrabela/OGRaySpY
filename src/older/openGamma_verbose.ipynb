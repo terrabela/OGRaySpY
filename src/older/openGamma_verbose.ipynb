{
 "cells": [
  {
   "cell_type": "code",
   "execution_count": 1,
   "metadata": {},
   "outputs": [],
   "source": [
    "# *** OpenGamma_verbose.ipynb ***\n",
    "# 2020-09-21\n",
    "# Essa é a versão verbose, ou seja, com comentários, gráficos etc.\n",
    "# Agora vou congelar por enquanto e fazer em lotes\n",
    "# 2020-12-05 Descongelando!!\n",
    "\n",
    "# Em setembro/2020, trabalhei bastante com esta versão, inluindo o cálculo correto\n",
    "# da linha base usando percentis e extrapolando para a mediana da linha base\n",
    "# usando a função erf\n",
    "# Usei o espectro CTP2203-3.Chn, que tem altos picos de I-131 distorcidos e grandes platôs Compton.\n",
    "# E fiz a recostrução do espectro com a análise dos picos.\n",
    "# Obtive bons resultados, mas há como melhorar\n",
    "\n",
    "# 2020-12-05\n",
    "# Agora em dezembro/2020 vou usar para espectros \"comuns\" de efluente\n"
   ]
  },
  {
   "cell_type": "code",
   "execution_count": 2,
   "metadata": {},
   "outputs": [],
   "source": [
    "#!/usr/bin/env python3\n",
    "# -*- coding: utf-8 -*-\n",
    "\"\"\"\n",
    "Created on Sat Feb 22 10:40:56 2020\n",
    "\n",
    "@author: marcelo\n",
    "\n",
    "ar1:\n",
    "- array (nx,2), onde:\n",
    "    nx: n'umero total de picos em todas as escalas\n",
    "    x: 'indice do picoh\n",
    "    ar1[x,0]: canal inteiro do pico\n",
    "    ar1[x,1]: valor da escala\n",
    "    \n",
    "xpk:\n",
    "- lista (nx), onde:\n",
    "    nx: numero de picos efetivos ap'os an'alise\n",
    "    x: canal inteiro do pico\n",
    "    \n",
    "ypk:\n",
    "- lista (nx), onde:\n",
    "    nx: numero de picos efetivos ap'os an'alise (= nx(xpk))\n",
    "    x: valor da escala\n",
    "\n",
    "\"\"\"\n",
    "\n",
    "import numpy as np\n",
    "import numpy.ma as ma  # masked array\n",
    "import scipy.stats as sta # statistics\n",
    "from scipy.special import (erf, erfinv)\n",
    "\n",
    "from numpy import linalg as LA\n",
    "\n",
    "from spectrum_analysis import (cwt_complete_analysis, gaussian_complete_analysis, cwt_calc_peaks)\n",
    "from gamma_spectrum_class import (Spec)\n",
    "\n",
    "from machine_selection import set_screen_size_by_machine\n",
    "from bokeh.models import ColumnDataSource, Whisker, Label, LabelSet, MultiLine\n",
    "from bokeh.palettes import Paired6\n",
    "from bokeh.plotting import figure, output_file, output_notebook, show\n",
    "from bokeh.layouts import gridplot, column, row\n",
    "\n",
    "from bokeh import palettes\n",
    "\n",
    "# 2020-08-22 Para rodar curve_fit\n",
    "from gauss_funcs import func_example, func_example_fixed_b\n",
    "# 2020-09-03 Desativei por enquanto\n",
    "# import matplotlib.pyplot as plt\n",
    "from scipy.optimize import curve_fit\n",
    "# 2020-08-30\n",
    "from scipy.interpolate import splrep, splev\n",
    "\n",
    "from scipy.ndimage import label, generate_binary_structure, find_objects, binary_dilation  # 2020-09-03\n",
    "from numpy.polynomial import Polynomial as P # 2020-09-06 Esta é a nova classe recomendada \n",
    "\n",
    "# 2020-09-11\n",
    "from opengamma_searchfuncs import selectOverlappedPks\n",
    "\n",
    "# 2019-03-15\n",
    "# https://pandas.pydata.org/pandas-docs/stable/getting_started/10min.html\n",
    "import pandas as pd\n",
    "import csv"
   ]
  },
  {
   "cell_type": "code",
   "execution_count": null,
   "metadata": {},
   "outputs": [],
   "source": []
  },
  {
   "cell_type": "code",
   "execution_count": 3,
   "metadata": {},
   "outputs": [],
   "source": [
    "\n",
    "# hei = 0.01\n",
    "# haPercWin = 9 # 2020-12-05 Meia janela para o cálculo do percentil para a linha base:\n",
    "# 9 para 4k canais, 18 para 8k canais.\n",
    "# yrange = [10**1, 10**5]\n",
    "# fn2 = '../Efluentes-gasosos/Filtros-espectros/2018/CTP/CTP2203-3.Chn'\n",
    "# yrange = [10**1, 10**5]\n",
    "# fn2 = '../Genie_Transfer/Si/SI2019/SI04019.Chn'\n",
    "# fn2 = '../Pesquisa/2020_Mariana_PR/2020_Mariana_PR_Espectros/espectros-det-projeto/agua-bruta.IEC'\n",
    "\n",
    "# Para espectros CTP 4k\n",
    "kSigma = 4.0 # Com 3.0 ele pega os grandes degraus Compton, com 4.0 só o da esquerda (retroespalhamento)\n",
    "aSta = 0.004\n",
    "bSta = 3.0\n",
    "kExpand = 1 # Parâmetro para alargar região (inteiro positivo)\n",
    "# 2020-12-05 Ainda não aprendi a mexer com o smoo... Chutando bem baixo para 4k, altíssima intens\n",
    "smoo = 0.1 # Tem que ser >= 0.0\n",
    "yrange = [10**1, 10**6]\n",
    "fn2 = '../Ipen/Efluentes-gasosos/Filtros-espectros/2018/CTP/CTP2203-3.Chn'\n",
    "\n",
    "# Para espectros Almera 8k\n",
    "# kSigma = 3.0 # Maior, menos sensível\n",
    "# aSta = 0.003 # Janela para estatísticas\n",
    "# bSta = 10.0\n",
    "# kExpand = 1 # Parâmetro para alargar região (inteiro positivo)\n",
    "# smoo = 15\n",
    "# yrange = [10**1, 10**5]\n",
    "\n",
    "# Alguns espectros ALMERA com relatórios do Genie2k em .REP:\n",
    "# fn2 = '../gamma/spectra/ALMERA-2016/alm_samp3(QC)_F100_16_Cont-A.IEC'\n",
    "# fn2 = '../gamma/spectra/ALMERA-2016/alm_samp2_spk_water_16_250k.IEC'\n",
    "# fn2 = '../gamma/spectra/ALMERA-2016/alm_samp4_f100_8k.IEC'\n",
    "# fn2 = '../gamma/spectra/ALMERA-2016/alm_samp4_f100_63k.IEC'\n",
    "# fn2 = '../gamma/spectra/ALMERA-2016/alm_samp5_F100_16_Cont-A.IEC'\n",
    "\n",
    "# kSigma = 2.0\n",
    "# fn2 = '../Pesquisa/2020_Mariana_PR/2020_Mariana_PR_Espectros/espectros-det-projeto/agua-bruta.IEC'\n",
    "\n",
    "# yrange = [10**1, 10**6]\n",
    "# fn2 = './I125_01.001.3.IEC'\n",
    "\n",
    "# 2020-12-05 Espectros do tq de retenção do CEN: 54 e 55 de 2020.\n",
    "# yrange = [10**1, 10**3]\n",
    "# fn2 = '../Genie_Transfer/Si/SI2020/SI05420.Chn'\n",
    "\n",
    "# yrange = [10**1, 10**5]\n",
    "# fn2 = '../Genie_Transfer/Si/SI2019/SI04019.Chn'\n",
    "\n",
    "# sigma 5 funciona para este\n",
    "# yrange = [10**1, 10**6]\n",
    "# fn2 = './I125_01.001.3.IEC'\n",
    "\n",
    "# 13 de julho de 2020\n",
    "# PAREI AQUI O termo de 1o grau oscila selvagemente em baixas contagens\n",
    "# ponderá-lo pelo coeffs0\n",
    "# Para o espectro do I-123, usar kSigma = 5.0\n"
   ]
  },
  {
   "cell_type": "code",
   "execution_count": 4,
   "metadata": {},
   "outputs": [
    {
     "name": "stdout",
     "output_type": "stream",
     "text": [
      "4096\n",
      "4096\n"
     ]
    }
   ],
   "source": [
    "spec2 = Spec()\n",
    "if spec2.readSp( fn2 ) >= 0:\n",
    "    print (spec2.nCh)\n",
    "    \n",
    "counts = spec2.specIO.spCounts\n",
    "print(len(counts))"
   ]
  },
  {
   "cell_type": "code",
   "execution_count": 5,
   "metadata": {},
   "outputs": [],
   "source": [
    "# 2020-12-15\n",
    "# A nomenclatura dos arrays está algo incoerente.\n",
    "if (spec2.chancalib.size >= 3) & (spec2.enChcalib.size == spec2.chancalib.size):\n",
    "    spec2.coeffs_ChEn = P.fit(spec2.chancalib, spec2.enChcalib, deg=2)\n",
    "if (spec2.enFwcalib.size >= 3) & (spec2.fwhmcalib.size == spec2.enFwcalib.size):\n",
    "    spec2.coeffs_EnFw = P.fit(spec2.enFwcalib, spec2.fwhmcalib, deg=2)"
   ]
  },
  {
   "cell_type": "code",
   "execution_count": 6,
   "metadata": {},
   "outputs": [
    {
     "name": "stdout",
     "output_type": "stream",
     "text": [
      "\n",
      "Channel vs Energy\n",
      "[]\n",
      "[]\n",
      "[0.0, 0.8981618285179138, -7.436953544616699]\n",
      "\n",
      "Energy vs FWHM\n",
      "[]\n",
      "[]\n",
      "[0.0, 0.0008241464965976775, 1.392101764678955]\n",
      "\n",
      "Energy vs Efficiency\n",
      "[]\n",
      "[]\n",
      "[]\n"
     ]
    }
   ],
   "source": [
    "print ('\\nChannel vs Energy')\n",
    "print (spec2.enChcalib)\n",
    "print (spec2.chancalib)\n",
    "print (spec2.coeffs_ChEn)\n",
    "\n",
    "print ('\\nEnergy vs FWHM')\n",
    "print (spec2.enFwcalib)\n",
    "print (spec2.fwhmcalib)\n",
    "print (spec2.coeffs_EnFw)\n",
    "\n",
    "print ('\\nEnergy vs Efficiency')\n",
    "print (spec2.enEfcalib)\n",
    "print (spec2.efficalib)\n",
    "print (spec2.coeffs_EnEf)"
   ]
  },
  {
   "cell_type": "code",
   "execution_count": 7,
   "metadata": {},
   "outputs": [
    {
     "data": {
      "text/plain": [
       "2096.0580488443375"
      ]
     },
     "execution_count": 7,
     "metadata": {},
     "output_type": "execute_result"
    }
   ],
   "source": [
    "spec2.pEn(2342)"
   ]
  },
  {
   "cell_type": "code",
   "execution_count": 8,
   "metadata": {},
   "outputs": [
    {
     "name": "stdout",
     "output_type": "stream",
     "text": [
      "poly([1.39210176e+00 8.24146497e-04 0.00000000e+00])\n"
     ]
    }
   ],
   "source": [
    "# Atenção: isso parece estar duplicado? \n",
    "print(spec2.pFw)"
   ]
  },
  {
   "cell_type": "code",
   "execution_count": 9,
   "metadata": {},
   "outputs": [
    {
     "data": {
      "text/plain": [
       "4096"
      ]
     },
     "execution_count": 9,
     "metadata": {},
     "output_type": "execute_result"
    }
   ],
   "source": [
    "xs = spec2.xs\n",
    "y0s = spec2.y0sCorr\n",
    "lnCounts = spec2.lnCounts\n",
    "nCh = xs.size\n",
    "nCh"
   ]
  },
  {
   "cell_type": "code",
   "execution_count": 10,
   "metadata": {},
   "outputs": [
    {
     "data": {
      "text/plain": [
       "datetime.datetime(2018, 4, 10, 10, 58, 11)"
      ]
     },
     "execution_count": 10,
     "metadata": {},
     "output_type": "execute_result"
    }
   ],
   "source": [
    "spec2.countDatetime"
   ]
  },
  {
   "cell_type": "code",
   "execution_count": 11,
   "metadata": {},
   "outputs": [
    {
     "data": {
      "text/plain": [
       "5000.0"
      ]
     },
     "execution_count": 11,
     "metadata": {},
     "output_type": "execute_result"
    }
   ],
   "source": [
    "spec2.spLVTime"
   ]
  },
  {
   "cell_type": "code",
   "execution_count": null,
   "metadata": {},
   "outputs": [],
   "source": []
  },
  {
   "cell_type": "code",
   "execution_count": null,
   "metadata": {},
   "outputs": [],
   "source": []
  },
  {
   "cell_type": "code",
   "execution_count": 12,
   "metadata": {},
   "outputs": [
    {
     "data": {
      "text/plain": [
       "[3, 5, 7, 8, 10, 12, 14, 16, 18, 19]"
      ]
     },
     "execution_count": 12,
     "metadata": {},
     "output_type": "execute_result"
    }
   ],
   "source": [
    "test_chs = np.linspace( 0, nCh-1, 10 )\n",
    "[spec2.hStaW(ch,a=aSta,b=bSta) for ch in test_chs]"
   ]
  },
  {
   "cell_type": "code",
   "execution_count": 13,
   "metadata": {},
   "outputs": [],
   "source": [
    "# Calcular espectro com ajuste parabólico na mesma janela e calculado no centro da janela\n",
    "parabSpec = np.zeros(nCh)\n",
    "hWIni = spec2.hStaW(0,a=aSta,b=bSta)\n",
    "hWFin = spec2.hStaW(nCh-1,a=aSta,b=bSta)\n",
    "for i in range(hWIni,nCh-hWFin):\n",
    "    hW = spec2.hStaW(i,a=aSta,b=bSta)\n",
    "    chanWin = np.array(range(i-hW,i+hW+1))\n",
    "    lnctsWindow = lnCounts[chanWin]\n",
    "    # Primeiro, acha usando parábola na janela e calcula no canal central\n",
    "    parabWinFit = P.fit(chanWin,lnctsWindow,deg=2)\n",
    "    parabSpec[i]=parabWinFit(i)\n",
    "tckDirectSpl = splrep(xs, parabSpec, k=3, s=smoo)\n",
    "smooParabSpec = np.exp(splev(xs, tckDirectSpl, der=0))"
   ]
  },
  {
   "cell_type": "code",
   "execution_count": 14,
   "metadata": {},
   "outputs": [],
   "source": [
    "del parabSpec"
   ]
  },
  {
   "cell_type": "code",
   "execution_count": 15,
   "metadata": {},
   "outputs": [],
   "source": [
    "# 2020-12-16 \n",
    "# Agora, smooParabSpec\n",
    "default_plot_width, default_plot_height = set_screen_size_by_machine()\n",
    "tools='pan,xwheel_zoom,xbox_select,reset'\n",
    "bok1b = figure(\n",
    "    plot_width =default_plot_width,\n",
    "    plot_height=default_plot_height,\n",
    "    y_axis_type=\"log\",\n",
    "    tools=tools\n",
    ")\n",
    "bok1b.title.text = 'Gráfico 1b: smooParabSpec (blu)'\n",
    "bok1b.circle(spec2.xs, spec2.y0s, color=\"red\",size=2)\n",
    "bok1b.line(spec2.xs, smooParabSpec, color=\"blue\")\n",
    "# set up layout\n",
    "p = gridplot([bok1b], ncols=1)\n",
    "show(p)"
   ]
  },
  {
   "cell_type": "code",
   "execution_count": null,
   "metadata": {},
   "outputs": [],
   "source": []
  },
  {
   "cell_type": "code",
   "execution_count": null,
   "metadata": {},
   "outputs": [],
   "source": []
  },
  {
   "cell_type": "code",
   "execution_count": 16,
   "metadata": {},
   "outputs": [
    {
     "data": {
      "text/plain": [
       "array([ True,  True,  True, ..., False, False, False])"
      ]
     },
     "execution_count": 16,
     "metadata": {},
     "output_type": "execute_result"
    }
   ],
   "source": [
    "isRegionSigma = np.abs(y0s-smooParabSpec) / (np.sqrt(y0s+5))\n",
    "isReg = isRegionSigma > kSigma\n",
    "isReg"
   ]
  },
  {
   "cell_type": "code",
   "execution_count": null,
   "metadata": {},
   "outputs": [],
   "source": []
  },
  {
   "cell_type": "code",
   "execution_count": null,
   "metadata": {},
   "outputs": [],
   "source": []
  },
  {
   "cell_type": "code",
   "execution_count": 17,
   "metadata": {},
   "outputs": [
    {
     "data": {
      "text/plain": [
       "array([0., 0., 0., ..., 0., 0., 0.])"
      ]
     },
     "execution_count": 17,
     "metadata": {},
     "output_type": "execute_result"
    }
   ],
   "source": [
    "# 2020-12-06\n",
    "# Expandindo canais marcados para chExpand = kExpand * hStaW(ch) canais antes e depois\n",
    "# Deu certo: depois, eliminar chExpand fixo.\n",
    "\n",
    "isRegExpand = np.zeros(nCh)\n",
    "chExpandIni = kExpand*spec2.hStaW(0,a=aSta,b=bSta)\n",
    "chExpandFin = kExpand*spec2.hStaW(nCh-1,a=aSta,b=bSta)\n",
    "\n",
    "for i in range(chExpandIni, nCh-chExpandFin+1):\n",
    "    chExpandMov = kExpand*spec2.hStaW(i,a=aSta,b=bSta)\n",
    "    isRegExpand[i] = np.any(isReg[i-chExpandMov:i+chExpandMov+1])\n",
    "isRegExpand"
   ]
  },
  {
   "cell_type": "code",
   "execution_count": 18,
   "metadata": {},
   "outputs": [
    {
     "data": {
      "text/plain": [
       "array([100., 100., 100., ..., 100., 100., 100.])"
      ]
     },
     "execution_count": 18,
     "metadata": {},
     "output_type": "execute_result"
    }
   ],
   "source": [
    "# Para plotar\n",
    "isRegPlot = isRegExpand * 1e3 + 1e2\n",
    "isRegPlot"
   ]
  },
  {
   "cell_type": "code",
   "execution_count": 19,
   "metadata": {},
   "outputs": [],
   "source": [
    "# 2020-09-20 \n",
    "# Gráfico 2: Canais marcados\n",
    "default_plot_width, default_plot_height = set_screen_size_by_machine()\n",
    "tools='pan,xwheel_zoom,xbox_select,reset'\n",
    "bok2 = figure(\n",
    "    plot_width =default_plot_width,\n",
    "    plot_height=default_plot_height,\n",
    "    y_axis_type=\"log\",\n",
    "    tools=tools\n",
    ")\n",
    "bok2.title.text = 'Gráfico 2: Canais marcados'\n",
    "bok2.line(xs, isRegPlot, color='black')\n",
    "bok2.line(xs, y0s, color='lightblue')\n",
    "# set up layout\n",
    "p = gridplot([bok2], ncols=1)\n",
    "show(p)"
   ]
  },
  {
   "cell_type": "code",
   "execution_count": 20,
   "metadata": {},
   "outputs": [],
   "source": [
    "# Com base nos canais marcados, definir extremos das regiões"
   ]
  },
  {
   "cell_type": "code",
   "execution_count": 21,
   "metadata": {},
   "outputs": [
    {
     "data": {
      "text/plain": [
       "array([0., 0., 0., ..., 0., 0., 0.])"
      ]
     },
     "execution_count": 21,
     "metadata": {},
     "output_type": "execute_result"
    }
   ],
   "source": [
    "comuta = np.zeros(nCh)\n",
    "for i in range(1,nCh):\n",
    "    comuta[i] = isRegExpand[i] - isRegExpand[i-1]\n",
    "comuta"
   ]
  },
  {
   "cell_type": "code",
   "execution_count": 22,
   "metadata": {},
   "outputs": [
    {
     "data": {
      "text/plain": [
       "array([  3,  91, 170, 200, 309, 357, 401, 455, 561, 706, 804])"
      ]
     },
     "execution_count": 22,
     "metadata": {},
     "output_type": "execute_result"
    }
   ],
   "source": [
    "# inis = np.insert(np.nonzero(comuta>0), 0, 0)\n",
    "# np.nonzero gera uma tupla, não sei por quê.\n",
    "inis = np.nonzero(comuta>0)[0]\n",
    "inis"
   ]
  },
  {
   "cell_type": "code",
   "execution_count": 23,
   "metadata": {},
   "outputs": [
    {
     "data": {
      "text/plain": [
       "array([  8, 108, 183, 214, 336, 381, 429, 466, 579, 736, 830])"
      ]
     },
     "execution_count": 23,
     "metadata": {},
     "output_type": "execute_result"
    }
   ],
   "source": [
    "# fins = np.append(np.nonzero(comuta<0), n)\n",
    "fins = np.nonzero(comuta<0)[0]\n",
    "fins"
   ]
  },
  {
   "cell_type": "code",
   "execution_count": 24,
   "metadata": {},
   "outputs": [],
   "source": [
    "# Ajusta comprimento dos arrays. Têm de ser iguais.\n",
    "minSize = np.minimum(inis.size, fins.size)\n",
    "inis = inis[:minSize] \n",
    "fins = fins[:minSize] "
   ]
  },
  {
   "cell_type": "code",
   "execution_count": 25,
   "metadata": {},
   "outputs": [
    {
     "data": {
      "text/plain": [
       "array([[  3,   8],\n",
       "       [ 91, 108],\n",
       "       [170, 183],\n",
       "       [200, 214],\n",
       "       [309, 336],\n",
       "       [357, 381],\n",
       "       [401, 429],\n",
       "       [455, 466],\n",
       "       [561, 579],\n",
       "       [706, 736],\n",
       "       [804, 830]])"
      ]
     },
     "execution_count": 25,
     "metadata": {},
     "output_type": "execute_result"
    }
   ],
   "source": [
    "mix = np.concatenate(np.array([[inis], [fins]])).T\n",
    "mix"
   ]
  },
  {
   "cell_type": "code",
   "execution_count": 26,
   "metadata": {},
   "outputs": [
    {
     "data": {
      "text/plain": [
       "(11, 2)"
      ]
     },
     "execution_count": 26,
     "metadata": {},
     "output_type": "execute_result"
    }
   ],
   "source": [
    "mix.shape"
   ]
  },
  {
   "cell_type": "code",
   "execution_count": null,
   "metadata": {},
   "outputs": [],
   "source": []
  },
  {
   "cell_type": "code",
   "execution_count": 27,
   "metadata": {},
   "outputs": [],
   "source": [
    "# Agora, criar nova baseline onde\n",
    "# Fora das regiões marcadas, seja smooParabSpec\n",
    "# Nas regiões marcadas, seja a stepLine dos extremos"
   ]
  },
  {
   "cell_type": "code",
   "execution_count": 28,
   "metadata": {},
   "outputs": [
    {
     "data": {
      "text/plain": [
       "array([1.00029724, 0.99755678, 1.01162162, ..., 1.00030969, 0.99992796,\n",
       "       0.99931596])"
      ]
     },
     "execution_count": 28,
     "metadata": {},
     "output_type": "execute_result"
    }
   ],
   "source": [
    "assembledBaseLine = np.array(smooParabSpec)\n",
    "for regLim in mix:\n",
    "    assembledBaseLine[regLim[0]:regLim[1]+1] = spec2.stepBaseLine (\n",
    "        regLim[0], regLim[1], smooParabSpec[regLim[0]], smooParabSpec[regLim[1]], y0s)\n",
    "assembledBaseLine"
   ]
  },
  {
   "cell_type": "code",
   "execution_count": 29,
   "metadata": {},
   "outputs": [
    {
     "data": {
      "text/plain": [
       "(4096,)"
      ]
     },
     "execution_count": 29,
     "metadata": {},
     "output_type": "execute_result"
    }
   ],
   "source": [
    "assembledBaseLine.shape"
   ]
  },
  {
   "cell_type": "code",
   "execution_count": null,
   "metadata": {},
   "outputs": [],
   "source": []
  },
  {
   "cell_type": "code",
   "execution_count": 30,
   "metadata": {},
   "outputs": [],
   "source": [
    "# 2020-12-16\n",
    "# Substituindo smooParabSpec por assembledBaseLine\n",
    "default_plot_width, default_plot_height = set_screen_size_by_machine()\n",
    "tools='pan,xwheel_zoom,xbox_select,reset'\n",
    "bok3 = figure(\n",
    "    plot_width =default_plot_width,\n",
    "    plot_height=default_plot_height,\n",
    "    y_axis_type=\"log\",\n",
    "    tools=tools\n",
    ")\n",
    "bok3.title.text = 'Gráfico 3: assembledBaseLine'\n",
    "bok3.circle(xs, y0s, color='red',size=2)\n",
    "bok3.line(xs, assembledBaseLine, color='green')\n",
    "# set up layout\n",
    "p = gridplot([bok3], ncols=1)\n",
    "show(p)"
   ]
  },
  {
   "cell_type": "code",
   "execution_count": 31,
   "metadata": {},
   "outputs": [],
   "source": [
    "lnNetCounts = np.zeros(nCh)\n",
    "wLnNetCounts = np.zeros(nCh)\n",
    "uncys = np.sqrt(y0s)\n",
    "contin = assembledBaseLine\n",
    "yNets = y0s - contin\n",
    "\n",
    "for i in range(nCh):\n",
    "    if yNets[i] < 2:\n",
    "        lnNetCounts[i] = 0\n",
    "        wLnNetCounts[i] = 0\n",
    "    else:\n",
    "        lnNetCounts[i] = np.log(yNets[i])\n",
    "        wLnNetCounts[i] = np.sqrt(y0s[i])"
   ]
  },
  {
   "cell_type": "code",
   "execution_count": 32,
   "metadata": {},
   "outputs": [],
   "source": [
    "default_plot_width, default_plot_height = set_screen_size_by_machine()\n",
    "tools='pan,xwheel_zoom,xbox_select,reset'\n",
    "bok4 = figure(\n",
    "    plot_width =default_plot_width,\n",
    "    plot_height=default_plot_height,\n",
    "    y_axis_type=\"log\",\n",
    "    tools=tools\n",
    ")\n",
    "bok4.title.text = 'Gráfico 4: yNets'\n",
    "bok4.line(xs, y0s, color=\"red\")\n",
    "bok4.line(xs, yNets, color=\"blue\")\n",
    "# set up layout\n",
    "p = gridplot([bok4], ncols=1)\n",
    "show(p)"
   ]
  },
  {
   "cell_type": "code",
   "execution_count": 33,
   "metadata": {},
   "outputs": [],
   "source": [
    "default_plot_width, default_plot_height = set_screen_size_by_machine()\n",
    "tools='pan,xwheel_zoom,xbox_select,reset'\n",
    "bok4b = figure(\n",
    "    plot_width =default_plot_width,\n",
    "    plot_height=default_plot_height,\n",
    "    # y_axis_type=\"log\",\n",
    "    tools=tools\n",
    ")\n",
    "bok4b.title.text = 'Gráfico 4b: yNets linear'\n",
    "bok4b.line(xs, y0s, color=\"red\")\n",
    "bok4b.line(xs, yNets, color=\"blue\")\n",
    "# set up layout\n",
    "p = gridplot([bok4b], ncols=1)\n",
    "show(p)"
   ]
  },
  {
   "cell_type": "code",
   "execution_count": null,
   "metadata": {},
   "outputs": [],
   "source": []
  },
  {
   "cell_type": "code",
   "execution_count": null,
   "metadata": {},
   "outputs": [],
   "source": []
  },
  {
   "cell_type": "code",
   "execution_count": 34,
   "metadata": {},
   "outputs": [
    {
     "data": {
      "text/plain": [
       "array([[  3,   8],\n",
       "       [ 91, 108],\n",
       "       [170, 183],\n",
       "       [200, 214],\n",
       "       [309, 336],\n",
       "       [357, 381],\n",
       "       [401, 429],\n",
       "       [455, 466],\n",
       "       [561, 579],\n",
       "       [706, 736],\n",
       "       [804, 830]])"
      ]
     },
     "execution_count": 34,
     "metadata": {},
     "output_type": "execute_result"
    }
   ],
   "source": [
    "mix"
   ]
  },
  {
   "cell_type": "code",
   "execution_count": 35,
   "metadata": {},
   "outputs": [
    {
     "data": {
      "text/plain": [
       "(11, 2)"
      ]
     },
     "execution_count": 35,
     "metadata": {},
     "output_type": "execute_result"
    }
   ],
   "source": [
    "mix.shape"
   ]
  },
  {
   "cell_type": "code",
   "execution_count": null,
   "metadata": {},
   "outputs": [],
   "source": []
  },
  {
   "cell_type": "code",
   "execution_count": 36,
   "metadata": {},
   "outputs": [],
   "source": [
    "# 2020-12-16\n",
    "# Usando as regiões mix, ir direto ao ajuste parabólico\n",
    "# Quebrar yNets usando mix\n",
    "# Testar se é uma gaussiana simples ou multipleto"
   ]
  },
  {
   "cell_type": "code",
   "execution_count": 37,
   "metadata": {},
   "outputs": [
    {
     "data": {
      "text/plain": [
       "(4096,)"
      ]
     },
     "execution_count": 37,
     "metadata": {},
     "output_type": "execute_result"
    }
   ],
   "source": [
    "assembledBaseLine.shape"
   ]
  },
  {
   "cell_type": "code",
   "execution_count": 38,
   "metadata": {},
   "outputs": [
    {
     "data": {
      "text/plain": [
       "11"
      ]
     },
     "execution_count": 38,
     "metadata": {},
     "output_type": "execute_result"
    }
   ],
   "source": [
    "len(mix)"
   ]
  },
  {
   "cell_type": "code",
   "execution_count": 39,
   "metadata": {},
   "outputs": [],
   "source": [
    "# 2020-12-16  Agora vou usar split para dividir o array. Vejamos:"
   ]
  },
  {
   "cell_type": "code",
   "execution_count": 40,
   "metadata": {},
   "outputs": [
    {
     "data": {
      "text/plain": [
       "array([-5.28378236e+01, -7.58279830e+01,  8.20255665e+01,  7.10277505e+02,\n",
       "        1.07836816e+03,  5.21494636e+02, -1.57180838e+02,  6.97399773e+00,\n",
       "       -8.54513254e+01,  3.75560733e+00,  2.04152541e+02,  8.73079639e+02,\n",
       "        8.61971104e+02,  1.29073692e+03,  2.05772549e+03,  1.33639696e+04,\n",
       "        8.41707601e+04,  1.35300333e+05,  5.69067216e+04,  6.59352098e+03,\n",
       "        2.98524623e+02, -1.28978147e+01, -7.83499356e+01, -1.77074800e+02,\n",
       "       -1.11735374e+01,  1.50165953e+02, -4.70716500e+01])"
      ]
     },
     "execution_count": 40,
     "metadata": {},
     "output_type": "execute_result"
    }
   ],
   "source": [
    "regLim = mix[4]\n",
    "teste = yNets[regLim[0]:regLim[1]]\n",
    "teste"
   ]
  },
  {
   "cell_type": "code",
   "execution_count": 41,
   "metadata": {},
   "outputs": [],
   "source": [
    "maxCountInReg = np.max(teste)"
   ]
  },
  {
   "cell_type": "code",
   "execution_count": 42,
   "metadata": {},
   "outputs": [],
   "source": [
    "# 2020-12-18 AQUI: 1e-3 picota demais. Usar:\n",
    "cutFactor = 1e-5"
   ]
  },
  {
   "cell_type": "code",
   "execution_count": 43,
   "metadata": {},
   "outputs": [
    {
     "data": {
      "text/plain": [
       "array([ True,  True, False, False, False, False,  True, False,  True,\n",
       "       False, False, False, False, False, False, False, False, False,\n",
       "       False, False, False,  True,  True,  True,  True, False,  True])"
      ]
     },
     "execution_count": 43,
     "metadata": {},
     "output_type": "execute_result"
    }
   ],
   "source": [
    "isToSplit = (teste / maxCountInReg) < cutFactor\n",
    "isToSplit"
   ]
  },
  {
   "cell_type": "code",
   "execution_count": 44,
   "metadata": {},
   "outputs": [
    {
     "data": {
      "text/plain": [
       "27"
      ]
     },
     "execution_count": 44,
     "metadata": {},
     "output_type": "execute_result"
    }
   ],
   "source": [
    "isToSplit.size"
   ]
  },
  {
   "cell_type": "code",
   "execution_count": 45,
   "metadata": {},
   "outputs": [
    {
     "data": {
      "text/plain": [
       "array([0., 0., 1., 0., 0., 0., 1., 1., 1., 1., 0., 0., 0., 0., 0., 0., 0.,\n",
       "       0., 0., 0., 0., 1., 0., 0., 0., 1., 1.])"
      ]
     },
     "execution_count": 45,
     "metadata": {},
     "output_type": "execute_result"
    }
   ],
   "source": [
    "# 2020-12-17 Interessante, não conhecia esse operador lógico: ^\n",
    "comuta = np.zeros(isToSplit.size)\n",
    "for i in range(1,isToSplit.size):\n",
    "    comuta[i] = isToSplit[i] ^ isToSplit[i-1]\n",
    "comuta"
   ]
  },
  {
   "cell_type": "code",
   "execution_count": 46,
   "metadata": {},
   "outputs": [
    {
     "data": {
      "text/plain": [
       "27"
      ]
     },
     "execution_count": 46,
     "metadata": {},
     "output_type": "execute_result"
    }
   ],
   "source": [
    "comuta.size"
   ]
  },
  {
   "cell_type": "code",
   "execution_count": 47,
   "metadata": {},
   "outputs": [
    {
     "data": {
      "text/plain": [
       "array([ 2,  6,  7,  8,  9, 21, 25, 26])"
      ]
     },
     "execution_count": 47,
     "metadata": {},
     "output_type": "execute_result"
    }
   ],
   "source": [
    "splitting, = comuta.nonzero() # Precisa da vírgula pois é tupla\n",
    "splitting"
   ]
  },
  {
   "cell_type": "code",
   "execution_count": 48,
   "metadata": {},
   "outputs": [],
   "source": [
    "splitted = np.split(teste,splitting)"
   ]
  },
  {
   "cell_type": "code",
   "execution_count": 49,
   "metadata": {},
   "outputs": [
    {
     "data": {
      "text/plain": [
       "array([ True,  True, False, False, False, False,  True, False,  True,\n",
       "       False, False, False, False, False, False, False, False, False,\n",
       "       False, False, False,  True,  True,  True,  True, False,  True])"
      ]
     },
     "execution_count": 49,
     "metadata": {},
     "output_type": "execute_result"
    }
   ],
   "source": [
    "# agora uso isToSplit para ver quais interessam\n",
    "isToSplit"
   ]
  },
  {
   "cell_type": "code",
   "execution_count": 50,
   "metadata": {},
   "outputs": [
    {
     "name": "stdout",
     "output_type": "stream",
     "text": [
      "False\n",
      "True\n",
      "False\n",
      "True\n",
      "False\n",
      "True\n",
      "False\n",
      "True\n"
     ]
    }
   ],
   "source": [
    "# Lembrar que len(splitted) == splitting.size\n",
    "usefulSubRegions = []\n",
    "if not isToSplit[0]:\n",
    "    usefulSubRegions.append(splitted[0])\n",
    "for i in range(splitting.size):\n",
    "    print (isToSplit[splitting[i]])\n",
    "    if not isToSplit[splitting[i]]:\n",
    "        usefulSubRegions.append(splitted[i+1])    "
   ]
  },
  {
   "cell_type": "code",
   "execution_count": 51,
   "metadata": {},
   "outputs": [
    {
     "data": {
      "text/plain": [
       "array([154.28869045, 154.28869045, 154.28869045, ...,   0.        ,\n",
       "         0.        ,   0.        ])"
      ]
     },
     "execution_count": 51,
     "metadata": {},
     "output_type": "execute_result"
    }
   ],
   "source": [
    "# Ok. Agora, montando tudo: e acrescentando os canais xs correpondentes, e também:\n",
    "uncys # Defini lá atrás, porque se baseia direto em y0s"
   ]
  },
  {
   "cell_type": "code",
   "execution_count": 52,
   "metadata": {},
   "outputs": [],
   "source": [
    "xsUsefulSubRegions = []\n",
    "usefulSubRegions = []\n",
    "wsUsefulSubRegions = []\n",
    "for regLim in mix:\n",
    "    # print('===============')\n",
    "    xsNetReg = xs[regLim[0]:regLim[1]]\n",
    "    netRegion = yNets[regLim[0]:regLim[1]]\n",
    "    #  wsNetReg = uncys[regLim[0]:regLim[1]]  # Nao bom com uncys. Tentar com:\n",
    "    netRegion[netRegion < 0.0] = 0.0\n",
    "    wsNetReg = netRegion\n",
    "    maxCountInReg = np.max(netRegion)\n",
    "    isToSplit = (netRegion / maxCountInReg) < cutFactor\n",
    "    comuta = np.zeros(isToSplit.size)\n",
    "    for i in range(1,isToSplit.size):\n",
    "        comuta[i] = isToSplit[i] ^ isToSplit[i-1]\n",
    "    splitting, = comuta.nonzero() # Precisa da vírgula pois é tupla\n",
    "    xsSplitted = np.split(xsNetReg,splitting)\n",
    "    splitted = np.split(netRegion,splitting)\n",
    "    wsSplitted = np.split(wsNetReg,splitting)\n",
    "    # print(splitted)\n",
    "    # print('-----')\n",
    "    # for i in range(0,len(splitted),2):\n",
    "    #     print(splitted[i])\n",
    "    # for j in range(1,len(splitted),2):\n",
    "    #     print(splitted[j])\n",
    "    if not isToSplit[0]:\n",
    "        xsUsefulSubRegions.append(xsSplitted[0])\n",
    "        usefulSubRegions.append(splitted[0])\n",
    "        wsUsefulSubRegions.append(wsSplitted[0])\n",
    "    for i in range(splitting.size):\n",
    "        if not isToSplit[splitting[i]]:\n",
    "            xsUsefulSubRegions.append(xsSplitted[i+1])\n",
    "            usefulSubRegions.append(splitted[i+1])\n",
    "            wsUsefulSubRegions.append(wsSplitted[i+1])\n",
    "# print('xsUsefulSubRegions:')\n",
    "# print(xsUsefulSubRegions)\n",
    "# print('usefulSubRegions:')\n",
    "# usefulSubRegions"
   ]
  },
  {
   "cell_type": "code",
   "execution_count": 53,
   "metadata": {},
   "outputs": [
    {
     "data": {
      "text/plain": [
       "27"
      ]
     },
     "execution_count": 53,
     "metadata": {},
     "output_type": "execute_result"
    }
   ],
   "source": [
    "len(usefulSubRegions)"
   ]
  },
  {
   "cell_type": "code",
   "execution_count": 54,
   "metadata": {},
   "outputs": [
    {
     "data": {
      "text/plain": [
       "27"
      ]
     },
     "execution_count": 54,
     "metadata": {},
     "output_type": "execute_result"
    }
   ],
   "source": [
    "len(xsUsefulSubRegions)"
   ]
  },
  {
   "cell_type": "code",
   "execution_count": 55,
   "metadata": {},
   "outputs": [
    {
     "data": {
      "text/plain": [
       "27"
      ]
     },
     "execution_count": 55,
     "metadata": {},
     "output_type": "execute_result"
    }
   ],
   "source": [
    "len(wsUsefulSubRegions)"
   ]
  },
  {
   "cell_type": "code",
   "execution_count": 56,
   "metadata": {},
   "outputs": [
    {
     "data": {
      "text/plain": [
       "array([0.00000000e+00, 4.73838399e+00, 4.44051237e+01, 4.42087206e+01,\n",
       "       1.03008808e+02, 1.57012427e+02, 1.92202031e+02, 4.21510946e+02,\n",
       "       2.38461995e+03, 9.85561041e+03, 1.49817862e+04, 8.22882709e+03,\n",
       "       1.70298468e+03, 2.92139737e+02, 2.37322322e+02, 2.62308395e+02,\n",
       "       3.51378688e+02, 2.37757787e+02, 6.87333321e+01, 1.91123210e+01,\n",
       "       1.03158520e+01, 1.34878007e+01, 8.67027686e+00, 0.00000000e+00,\n",
       "       9.51009379e-01, 0.00000000e+00])"
      ]
     },
     "execution_count": 56,
     "metadata": {},
     "output_type": "execute_result"
    }
   ],
   "source": [
    "netRegion"
   ]
  },
  {
   "cell_type": "code",
   "execution_count": 57,
   "metadata": {},
   "outputs": [
    {
     "data": {
      "text/plain": [
       "array([0.00000000e+00, 4.73838399e+00, 4.44051237e+01, 4.42087206e+01,\n",
       "       1.03008808e+02, 1.57012427e+02, 1.92202031e+02, 4.21510946e+02,\n",
       "       2.38461995e+03, 9.85561041e+03, 1.49817862e+04, 8.22882709e+03,\n",
       "       1.70298468e+03, 2.92139737e+02, 2.37322322e+02, 2.62308395e+02,\n",
       "       3.51378688e+02, 2.37757787e+02, 6.87333321e+01, 1.91123210e+01,\n",
       "       1.03158520e+01, 1.34878007e+01, 8.67027686e+00, 0.00000000e+00,\n",
       "       9.51009379e-01, 0.00000000e+00])"
      ]
     },
     "execution_count": 57,
     "metadata": {},
     "output_type": "execute_result"
    }
   ],
   "source": [
    "netRegion[netRegion<0.0] = 0.0\n",
    "netRegion"
   ]
  },
  {
   "cell_type": "code",
   "execution_count": 58,
   "metadata": {},
   "outputs": [],
   "source": [
    "newregsMarks = [np.ones_like(x)*1.0e4 for x in xsUsefulSubRegions]"
   ]
  },
  {
   "cell_type": "code",
   "execution_count": 59,
   "metadata": {},
   "outputs": [
    {
     "data": {
      "text/plain": [
       "[array([1056.79673976,  883.55313808,  710.30953639,  537.06593471,\n",
       "         363.82233303]),\n",
       " array([5.77234058e+02, 7.87291748e+02, 8.27677337e+02, 8.02339073e+02,\n",
       "        1.55787481e+03, 9.71812263e+03, 4.99688709e+04, 5.62223504e+04,\n",
       "        1.34096946e+04, 3.11201741e+01]),\n",
       " array([383.55925796]),\n",
       " array([35.07484219]),\n",
       " array([21.37158879]),\n",
       " array([ 138.40050748, 1214.35754157, 2336.84170323, 3200.3047988 ,\n",
       "        3102.15624063, 2210.66079463, 1224.14361846,  650.54485355]),\n",
       " array([622.81194835, 206.30162231,  31.18730476, 226.78605849]),\n",
       " array([1246.00714912, 6365.02613451, 8836.69295704, 2521.53040745,\n",
       "         176.02203157]),\n",
       " array([149.13602573,  73.28931934]),\n",
       " array([  82.02556648,  710.27750533, 1078.36816457,  521.4946363 ]),\n",
       " array([6.97399773]),\n",
       " array([3.75560733e+00, 2.04152541e+02, 8.73079639e+02, 8.61971104e+02,\n",
       "        1.29073692e+03, 2.05772549e+03, 1.33639696e+04, 8.41707601e+04,\n",
       "        1.35300333e+05, 5.69067216e+04, 6.59352098e+03, 2.98524623e+02]),\n",
       " array([150.16595347])]"
      ]
     },
     "execution_count": 59,
     "metadata": {},
     "output_type": "execute_result"
    }
   ],
   "source": [
    "usefulSubRegions[0:13]"
   ]
  },
  {
   "cell_type": "code",
   "execution_count": 60,
   "metadata": {},
   "outputs": [
    {
     "data": {
      "text/plain": [
       "[array([1056.79673976,  883.55313808,  710.30953639,  537.06593471,\n",
       "         363.82233303]),\n",
       " array([5.77234058e+02, 7.87291748e+02, 8.27677337e+02, 8.02339073e+02,\n",
       "        1.55787481e+03, 9.71812263e+03, 4.99688709e+04, 5.62223504e+04,\n",
       "        1.34096946e+04, 3.11201741e+01]),\n",
       " array([383.55925796]),\n",
       " array([35.07484219]),\n",
       " array([21.37158879]),\n",
       " array([ 138.40050748, 1214.35754157, 2336.84170323, 3200.3047988 ,\n",
       "        3102.15624063, 2210.66079463, 1224.14361846,  650.54485355]),\n",
       " array([622.81194835, 206.30162231,  31.18730476, 226.78605849]),\n",
       " array([1246.00714912, 6365.02613451, 8836.69295704, 2521.53040745,\n",
       "         176.02203157]),\n",
       " array([149.13602573,  73.28931934]),\n",
       " array([  82.02556648,  710.27750533, 1078.36816457,  521.4946363 ]),\n",
       " array([6.97399773]),\n",
       " array([3.75560733e+00, 2.04152541e+02, 8.73079639e+02, 8.61971104e+02,\n",
       "        1.29073692e+03, 2.05772549e+03, 1.33639696e+04, 8.41707601e+04,\n",
       "        1.35300333e+05, 5.69067216e+04, 6.59352098e+03, 2.98524623e+02]),\n",
       " array([150.16595347])]"
      ]
     },
     "execution_count": 60,
     "metadata": {},
     "output_type": "execute_result"
    }
   ],
   "source": [
    "wsUsefulSubRegions[0:13]"
   ]
  },
  {
   "cell_type": "code",
   "execution_count": 61,
   "metadata": {},
   "outputs": [],
   "source": [
    "# 2020-09-20 \n",
    "# Gráfico 2.extra: Novos canais marcados\n",
    "default_plot_width, default_plot_height = set_screen_size_by_machine()\n",
    "tools='pan,xwheel_zoom,xbox_select,reset'\n",
    "bok2e = figure(\n",
    "    plot_width =default_plot_width,\n",
    "    plot_height=default_plot_height,\n",
    "    y_axis_type=\"log\",\n",
    "    tools=tools\n",
    ")\n",
    "bok2e.title.text = 'Gráfico 2: Canais marcados'\n",
    "bok2e.line(xs, y0s, color='lightblue')\n",
    "bok2e.multi_line(xsUsefulSubRegions, newregsMarks, color='red')\n",
    "# set up layout\n",
    "p = gridplot([bok2e], ncols=1)\n",
    "show(p)"
   ]
  },
  {
   "cell_type": "code",
   "execution_count": 62,
   "metadata": {},
   "outputs": [],
   "source": [
    "xspolys = []\n",
    "polys = []\n",
    "for ixs, xsreg in enumerate(xsUsefulSubRegions):\n",
    "    ysreg=usefulSubRegions[ixs]\n",
    "    wsreg=wsUsefulSubRegions[ixs]\n",
    "    if xsreg.size > 2:\n",
    "        xspolys.append(xsreg)\n",
    "        polys.append(P.fit(xsreg,np.log(ysreg),w=wsreg,deg=2))"
   ]
  },
  {
   "cell_type": "code",
   "execution_count": 63,
   "metadata": {},
   "outputs": [
    {
     "data": {
      "text/plain": [
       "14"
      ]
     },
     "execution_count": 63,
     "metadata": {},
     "output_type": "execute_result"
    }
   ],
   "source": [
    "len(polys)"
   ]
  },
  {
   "cell_type": "code",
   "execution_count": 64,
   "metadata": {},
   "outputs": [],
   "source": [
    "xplots = []\n",
    "y1plots = []\n",
    "y2plots = []\n",
    "for ixs, xspoly in enumerate(xspolys):\n",
    "    xplots.append(xspoly)\n",
    "    blplot = assembledBaseLine[ np.asarray(xspoly,dtype=int) ]\n",
    "    y1plots.append(blplot)\n",
    "    y2plots.append(np.exp(polys[ixs](xspoly)) + blplot)"
   ]
  },
  {
   "cell_type": "code",
   "execution_count": null,
   "metadata": {},
   "outputs": [],
   "source": []
  },
  {
   "cell_type": "code",
   "execution_count": 65,
   "metadata": {},
   "outputs": [],
   "source": [
    "# 2020-12-17\n",
    "# Substituindo smooParabSpec por assembledBaseLine\n",
    "default_plot_width, default_plot_height = set_screen_size_by_machine()\n",
    "tools='pan,xwheel_zoom,xbox_select,reset'\n",
    "bok3a = figure(\n",
    "    plot_width =default_plot_width,\n",
    "    plot_height=default_plot_height,\n",
    "    y_axis_type='log',\n",
    "    tools=tools\n",
    ")\n",
    "bok3a.title.text = 'Gráfico 3a: assembledBaseLine + novo ajuste'\n",
    "bok3a.circle(xs, y0s, color='red',size=2)\n",
    "# bok3a.line(xs, assembledBaseLine, color='green')\n",
    "bok3a.multi_line(xplots, y1plots, color='green')\n",
    "bok3a.multi_line(xplots, y2plots, color='blue')\n",
    "# set up layout\n",
    "p = gridplot([bok3a], ncols=1)\n",
    "show(p)"
   ]
  },
  {
   "cell_type": "code",
   "execution_count": 66,
   "metadata": {},
   "outputs": [],
   "source": [
    "# 2020-12-18\n",
    "# PAREI AQUI: Agora, partir direto para o cálculo dos picos a partir de polys\n",
    "# Está tudo na list polys"
   ]
  },
  {
   "cell_type": "code",
   "execution_count": 67,
   "metadata": {},
   "outputs": [
    {
     "data": {
      "text/plain": [
       "[Polynomial([ 6.56253906, -0.52218191, -0.12447678], domain=[3., 7.], window=[-1.,  1.]),\n",
       " Polynomial([ 9.26585481,  7.38893244, -8.09285163], domain=[ 92., 101.], window=[-1.,  1.]),\n",
       " Polynomial([ 8.08437147e+00, -6.89220621e-03, -1.84683799e+00], domain=[175., 182.], window=[-1.,  1.]),\n",
       " Polynomial([ 5.02450218, -0.51052478,  0.90048343], domain=[200., 203.], window=[-1.,  1.]),\n",
       " Polynomial([ 9.07723759, -0.90539189, -3.01280469], domain=[205., 209.], window=[-1.,  1.]),\n",
       " Polynomial([ 6.9179889 ,  0.66924744, -1.34287843], domain=[311., 314.], window=[-1.,  1.]),\n",
       " Polynomial([  8.56218017,  15.18697611, -17.8063094 ], domain=[318., 329.], window=[-1.,  1.]),\n",
       " Polynomial([ 6.50662401, -3.42624859, -3.82712566], domain=[362., 367.], window=[-1.,  1.]),\n",
       " Polynomial([ 8.43695527,  1.30591777, -3.74042525], domain=[369., 374.], window=[-1.,  1.]),\n",
       " Polynomial([ 13.55082317,  13.01152201, -74.54303396], domain=[402., 426.], window=[-1.,  1.]),\n",
       " Polynomial([ 6.53496905, -1.09002757, -5.62081476], domain=[456., 465.], window=[-1.,  1.]),\n",
       " Polynomial([  8.07595552,   3.74858702, -11.5206676 ], domain=[564., 573.], window=[-1.,  1.]),\n",
       " Polynomial([ 10.21636738,  -9.25016608, -28.49545621], domain=[708., 733.], window=[-1.,  1.]),\n",
       " Polynomial([  8.94819249,  -7.54151335, -26.26183312], domain=[805., 826.], window=[-1.,  1.])]"
      ]
     },
     "execution_count": 67,
     "metadata": {},
     "output_type": "execute_result"
    }
   ],
   "source": [
    "polys"
   ]
  },
  {
   "cell_type": "code",
   "execution_count": 68,
   "metadata": {},
   "outputs": [
    {
     "data": {
      "text/plain": [
       "array([[ 7.09001397e+00,  5.01009913e-02, -3.11191946e-02],\n",
       "       [-3.87079842e+03,  7.87738548e+01, -3.99646994e-01],\n",
       "       [-4.79518974e+03,  5.38201665e+01, -1.50762285e-01],\n",
       "       [-3.21711317e+04,  3.11372589e+02, -7.53201172e-01],\n",
       "       [-5.84171627e+04,  3.73467951e+02, -5.96834858e-01],\n",
       "       [-6.24870335e+04,  3.83610266e+02, -5.88638327e-01],\n",
       "       [-8.08496058e+04,  4.45025438e+02, -6.12340106e-01],\n",
       "       [-8.27815433e+04,  4.45184121e+02, -5.98468041e-01],\n",
       "       [-8.91601929e+04,  4.29706739e+02, -5.17659958e-01],\n",
       "       [-5.87437156e+04,  2.55400754e+02, -2.77571099e-01],\n",
       "       [-1.84336630e+05,  6.47697170e+02, -5.68921857e-01],\n",
       "       [-9.41290415e+04,  2.62056482e+02, -1.82370920e-01],\n",
       "       [-1.57819623e+05,  3.87790149e+02, -2.38202568e-01]])"
      ]
     },
     "execution_count": 68,
     "metadata": {},
     "output_type": "execute_result"
    }
   ],
   "source": [
    "# 2020-12-21\n",
    "polys_conv = []\n",
    "for pol in polys:\n",
    "    polconv = pol.convert().coef\n",
    "    if polconv[2] < 0:\n",
    "        polys_conv.append(polconv)\n",
    "polys_conv_ar = np.array(polys_conv)\n",
    "polys_conv_ar"
   ]
  },
  {
   "cell_type": "code",
   "execution_count": 69,
   "metadata": {},
   "outputs": [
    {
     "data": {
      "text/plain": [
       "array([-0.03111919, -0.39964699, -0.15076228, -0.75320117, -0.59683486,\n",
       "       -0.58863833, -0.61234011, -0.59846804, -0.51765996, -0.2775711 ,\n",
       "       -0.56892186, -0.18237092, -0.23820257])"
      ]
     },
     "execution_count": 69,
     "metadata": {},
     "output_type": "execute_result"
    }
   ],
   "source": [
    "a0 = polys_conv_ar[:,0]\n",
    "a1 = polys_conv_ar[:,1]\n",
    "a2 = polys_conv_ar[:,2]\n",
    "a2"
   ]
  },
  {
   "cell_type": "markdown",
   "metadata": {},
   "source": [
    "***\n",
    "$\\mathbf{\\text{Cálculo da área sob os picos gaussianos}}$<br>\n",
    "***\n",
    "1.&emsp;A integral da gaussiana é\n",
    "    $$ \\int _{-\\infty }^{\\infty }a\\,e^{-\\left(x-b\\right)^{2}/2c^{2}} \\,dx = a \\sqrt{2\\pi}\\left\\vert c\\right\\vert $$\n",
    "2.&emsp;A definição de FWHM é\n",
    "    $$ \\mathrm{FWHM}=2{\\sqrt  {2\\ln 2}}\\;\\sigma \\approx 2.355\\;\\sigma. $$\n",
    "3.&emsp;Portanto, o cálculo da área das contagens $A_C$ far-se-á por\n",
    "    $$ A_C = a {\\sqrt{2\\pi} \\over 2{\\sqrt  {2\\ln 2}}} \\mathrm{FWHM} =\n",
    "       {{1 \\over 2}\\sqrt{\\pi \\over {\\ln 2}}}\\cdot a \\cdot \\mathrm{FWHM} $$"
   ]
  },
  {
   "cell_type": "code",
   "execution_count": 70,
   "metadata": {},
   "outputs": [
    {
     "data": {
      "text/plain": [
       "array([4.00839792, 1.11852766, 1.82112035, 0.81475964, 0.9152883 ,\n",
       "       0.92163877, 0.90362586, 0.91403857, 0.9827945 , 1.34214018,\n",
       "       0.93747284, 1.65579744, 1.44881116])"
      ]
     },
     "execution_count": 70,
     "metadata": {},
     "output_type": "execute_result"
    }
   ],
   "source": [
    "sigmas = 1.0/(np.sqrt(2*(-a2)))\n",
    "sigmas"
   ]
  },
  {
   "cell_type": "code",
   "execution_count": 71,
   "metadata": {},
   "outputs": [
    {
     "data": {
      "text/plain": [
       "array([9.43905577, 2.63393135, 4.2884107 , 1.91861234, 2.15533924,\n",
       "       2.17029344, 2.12787628, 2.15239634, 2.31430418, 3.16049861,\n",
       "       2.20757983, 3.89910501, 3.41168956])"
      ]
     },
     "execution_count": 71,
     "metadata": {},
     "output_type": "execute_result"
    }
   ],
   "source": [
    "fwhms = 2*np.sqrt(2*np.log(2))*sigmas\n",
    "fwhms"
   ]
  },
  {
   "cell_type": "code",
   "execution_count": 72,
   "metadata": {},
   "outputs": [
    {
     "data": {
      "text/plain": [
       "array([8.04985347e-01, 9.85542942e+01, 1.78493469e+02, 2.06699485e+02,\n",
       "       3.12873776e+02, 3.25845471e+02, 3.63380933e+02, 3.71936420e+02,\n",
       "       4.15047303e+02, 4.60063664e+02, 5.69232103e+02, 7.18471131e+02,\n",
       "       8.13992377e+02])"
      ]
     },
     "execution_count": 72,
     "metadata": {},
     "output_type": "execute_result"
    }
   ],
   "source": [
    "chCentroids = -a1/(2*a2)\n",
    "chCentroids"
   ]
  },
  {
   "cell_type": "code",
   "execution_count": 73,
   "metadata": {},
   "outputs": [
    {
     "data": {
      "text/plain": [
       "array([1.22436699e+03, 5.70917508e+04, 3.24340149e+03, 9.36990720e+03,\n",
       "       1.09813850e+03, 1.33308035e+05, 1.44153599e+03, 5.17161890e+03,\n",
       "       1.35405588e+06, 7.26192761e+02, 4.36286269e+03, 5.79341476e+04,\n",
       "       1.32216327e+04])"
      ]
     },
     "execution_count": 73,
     "metadata": {},
     "output_type": "execute_result"
    }
   ],
   "source": [
    "alturas = np.exp(a0 - a1**2 / (4*a2))\n",
    "alturas"
   ]
  },
  {
   "cell_type": "code",
   "execution_count": 74,
   "metadata": {},
   "outputs": [
    {
     "data": {
      "text/plain": [
       "1.0644670194312262"
      ]
     },
     "execution_count": 74,
     "metadata": {},
     "output_type": "execute_result"
    }
   ],
   "source": [
    "# Constante para cálculo da área do pico\n",
    "karea = 0.5*np.sqrt(np.pi/np.log(2.0))\n",
    "karea"
   ]
  },
  {
   "cell_type": "code",
   "execution_count": 75,
   "metadata": {},
   "outputs": [
    {
     "data": {
      "text/plain": [
       "array([1.23019052e+04, 1.60070029e+05, 1.48057118e+04, 1.91361573e+04,\n",
       "       2.51944547e+03, 3.07968994e+05, 3.26515704e+03, 1.18489801e+04,\n",
       "       3.33571731e+06, 2.44309148e+03, 1.02522732e+04, 2.40453866e+05,\n",
       "       4.80160914e+04])"
      ]
     },
     "execution_count": 75,
     "metadata": {},
     "output_type": "execute_result"
    }
   ],
   "source": [
    "areas = karea * alturas * fwhms\n",
    "areas"
   ]
  },
  {
   "cell_type": "code",
   "execution_count": 76,
   "metadata": {},
   "outputs": [],
   "source": [
    "nPks = len(polys_conv)"
   ]
  },
  {
   "cell_type": "code",
   "execution_count": 77,
   "metadata": {},
   "outputs": [
    {
     "name": "stdout",
     "output_type": "stream",
     "text": [
      "[1.22436699e+03 5.70917508e+04 3.24340149e+03 9.36990720e+03\n",
      " 1.09813850e+03 1.33308035e+05 1.44153599e+03 5.17161890e+03\n",
      " 1.35405588e+06 7.26192761e+02 4.36286269e+03 5.79341476e+04\n",
      " 1.32216327e+04]\n",
      "[9.43905577 2.63393135 4.2884107  1.91861234 2.15533924 2.17029344\n",
      " 2.12787628 2.15239634 2.31430418 3.16049861 2.20757983 3.89910501\n",
      " 3.41168956]\n",
      "[8.04985347e-01 9.85542942e+01 1.78493469e+02 2.06699485e+02\n",
      " 3.12873776e+02 3.25845471e+02 3.63380933e+02 3.71936420e+02\n",
      " 4.15047303e+02 4.60063664e+02 5.69232103e+02 7.18471131e+02\n",
      " 8.13992377e+02]\n",
      "[ -6.71394643  81.08075152 152.87906712 178.21263419 273.5743291\n",
      " 285.2250106  318.93792952 326.62214173 365.34269091 405.77466843\n",
      " 503.82559337 637.86639152 723.65992813]\n"
     ]
    }
   ],
   "source": [
    "# O vértice da parábola tem coord xV = -b/2a, y = c - b^2/4a.\n",
    "# O fwhm será 2 delta x, onde delta x é x(H/2)-x(vertice)\n",
    "# Usando a função quadrática inversa, será raiz(b^2) etc\n",
    "\n",
    "# Os canais centroides e as alturas serão\n",
    "chCtroids = np.zeros(nPks)\n",
    "heights = np.zeros(nPks)\n",
    "chFwhms = np.zeros(nPks)\n",
    "for iPk,coefs_pol in enumerate(polys_conv):\n",
    "    a = coefs_pol[2]\n",
    "    b = coefs_pol[1]\n",
    "    c = coefs_pol[0]\n",
    "    chCtroids[iPk] = -b / (2*a)\n",
    "    heights[iPk] = np.exp( c - b**2 / (4*a))\n",
    "    # Isso a seguir funciona mas é horrível...\n",
    "    chFwhms[iPk] = - np.sqrt( b**2 - 4*a*( c - np.log(heights[iPk]/2) ) ) / a\n",
    "enCtroids = spec2.pEn(chCtroids)\n",
    "# print(enCtroids)\n",
    "print(heights)\n",
    "print(chFwhms)\n",
    "print(chCtroids)\n",
    "print(enCtroids)\n"
   ]
  },
  {
   "cell_type": "code",
   "execution_count": 78,
   "metadata": {},
   "outputs": [],
   "source": [
    "# 2020-12-21 PAREI AQUI:\n",
    "# Usar definições do markup language para recalcular FWHM (ver se bate) (sim, bate)\n",
    "# E então achar as áreas dos picos\n",
    "# Depois, montar arquivo com numpy.savetxt"
   ]
  },
  {
   "cell_type": "code",
   "execution_count": 79,
   "metadata": {},
   "outputs": [
    {
     "data": {
      "text/plain": [
       "'../Ipen/Efluentes-gasosos/Filtros-espectros/2018/CTP/CTP2203-3.Chn'"
      ]
     },
     "execution_count": 79,
     "metadata": {},
     "output_type": "execute_result"
    }
   ],
   "source": [
    "fn2"
   ]
  },
  {
   "cell_type": "code",
   "execution_count": 80,
   "metadata": {},
   "outputs": [
    {
     "data": {
      "text/plain": [
       "datetime.datetime(2018, 4, 10, 10, 58, 11)"
      ]
     },
     "execution_count": 80,
     "metadata": {},
     "output_type": "execute_result"
    }
   ],
   "source": [
    "spec2.countDatetime"
   ]
  },
  {
   "cell_type": "code",
   "execution_count": 81,
   "metadata": {},
   "outputs": [
    {
     "data": {
      "text/plain": [
       "'2018-04-10 10:58:11'"
      ]
     },
     "execution_count": 81,
     "metadata": {},
     "output_type": "execute_result"
    }
   ],
   "source": [
    "str(spec2.countDatetime)"
   ]
  },
  {
   "cell_type": "code",
   "execution_count": 82,
   "metadata": {},
   "outputs": [
    {
     "data": {
      "text/plain": [
       "5000.0"
      ]
     },
     "execution_count": 82,
     "metadata": {},
     "output_type": "execute_result"
    }
   ],
   "source": [
    "spec2.spLVTime"
   ]
  },
  {
   "cell_type": "code",
   "execution_count": 83,
   "metadata": {},
   "outputs": [
    {
     "data": {
      "text/plain": [
       "array([1.23019052e+04, 1.60070029e+05, 1.48057118e+04, 1.91361573e+04,\n",
       "       2.51944547e+03, 3.07968994e+05, 3.26515704e+03, 1.18489801e+04,\n",
       "       3.33571731e+06, 2.44309148e+03, 1.02522732e+04, 2.40453866e+05,\n",
       "       4.80160914e+04])"
      ]
     },
     "execution_count": 83,
     "metadata": {},
     "output_type": "execute_result"
    }
   ],
   "source": [
    "areas"
   ]
  },
  {
   "cell_type": "code",
   "execution_count": 84,
   "metadata": {},
   "outputs": [
    {
     "data": {
      "text/plain": [
       "array([12,  1, 11,  5,  8])"
      ]
     },
     "execution_count": 84,
     "metadata": {},
     "output_type": "execute_result"
    }
   ],
   "source": [
    "np.argsort(areas)[-5:]"
   ]
  },
  {
   "cell_type": "code",
   "execution_count": 85,
   "metadata": {},
   "outputs": [],
   "source": [
    "max5 = np.argsort(areas)[-5:]\n",
    "maxareas = np.array(areas[max5])"
   ]
  },
  {
   "cell_type": "code",
   "execution_count": 86,
   "metadata": {},
   "outputs": [
    {
     "data": {
      "text/plain": [
       "array([  48016.09143626,  160070.02850548,  240453.86586786,\n",
       "        307968.99365977, 3335717.31103196,   48016.09143626,\n",
       "        160070.02850548])"
      ]
     },
     "execution_count": 86,
     "metadata": {},
     "output_type": "execute_result"
    }
   ],
   "source": [
    "np.resize(maxareas,7)"
   ]
  },
  {
   "cell_type": "code",
   "execution_count": 87,
   "metadata": {},
   "outputs": [
    {
     "data": {
      "text/plain": [
       "array([      0.        ,       0.        ,  240453.86586786,\n",
       "        307968.99365977, 3335717.31103196])"
      ]
     },
     "execution_count": 87,
     "metadata": {},
     "output_type": "execute_result"
    }
   ],
   "source": [
    "maxareas[0:2]=0\n",
    "maxareas"
   ]
  },
  {
   "cell_type": "code",
   "execution_count": 88,
   "metadata": {},
   "outputs": [
    {
     "data": {
      "text/plain": [
       "array([723.65992813,  81.08075152, 637.86639152, 285.2250106 ,\n",
       "       365.34269091])"
      ]
     },
     "execution_count": 88,
     "metadata": {},
     "output_type": "execute_result"
    }
   ],
   "source": [
    "enCtroids[max5]"
   ]
  },
  {
   "cell_type": "code",
   "execution_count": 96,
   "metadata": {},
   "outputs": [
    {
     "data": {
      "text/plain": [
       "array(['../Ipen/Efluentes-gasosos/Filtros-espectros/2018/CTP/CTP2203-3.Chn',\n",
       "       '2018-04-10 10:58:11', '5000.0', '48016.09143626338',\n",
       "       '160070.02850548044', '240453.86586785677', '307968.99365977244',\n",
       "       '3335717.3110319586', '723.6599281324906', '81.08075152452209',\n",
       "       '637.8663915198699', '285.22501060259225', '365.3426909065381'],\n",
       "      dtype='<U66')"
      ]
     },
     "execution_count": 96,
     "metadata": {},
     "output_type": "execute_result"
    }
   ],
   "source": [
    "linha=np.concatenate((np.asarray([fn2,str(spec2.countDatetime),spec2.spLVTime]),areas[max5],enCtroids[max5]))\n",
    "linha"
   ]
  },
  {
   "cell_type": "code",
   "execution_count": null,
   "metadata": {},
   "outputs": [],
   "source": []
  },
  {
   "cell_type": "code",
   "execution_count": 100,
   "metadata": {},
   "outputs": [
    {
     "ename": "NameError",
     "evalue": "name 'numspecs' is not defined",
     "output_type": "error",
     "traceback": [
      "\u001b[0;31m---------------------------------------------------------------------------\u001b[0m",
      "\u001b[0;31mNameError\u001b[0m                                 Traceback (most recent call last)",
      "\u001b[0;32m<ipython-input-100-c063363ec4e3>\u001b[0m in \u001b[0;36m<module>\u001b[0;34m\u001b[0m\n\u001b[0;32m----> 1\u001b[0;31m \u001b[0mnumspecs\u001b[0m\u001b[0;34m\u001b[0m\u001b[0;34m\u001b[0m\u001b[0m\n\u001b[0m\u001b[1;32m      2\u001b[0m \u001b[0mall_polys_specs\u001b[0m\u001b[0;34m\u001b[0m\u001b[0;34m\u001b[0m\u001b[0m\n",
      "\u001b[0;31mNameError\u001b[0m: name 'numspecs' is not defined"
     ]
    }
   ],
   "source": [
    "numspecs = 1\n",
    "all_polys_specs = []\n",
    "for pol in all_polys_specs = []\n",
    "\n",
    "    "
   ]
  },
  {
   "cell_type": "code",
   "execution_count": null,
   "metadata": {},
   "outputs": [],
   "source": []
  },
  {
   "cell_type": "code",
   "execution_count": null,
   "metadata": {},
   "outputs": [],
   "source": []
  },
  {
   "cell_type": "code",
   "execution_count": 90,
   "metadata": {},
   "outputs": [
    {
     "ename": "SyntaxError",
     "evalue": "invalid syntax (<ipython-input-90-29801e2cdcb9>, line 1)",
     "output_type": "error",
     "traceback": [
      "\u001b[0;36m  File \u001b[0;32m\"<ipython-input-90-29801e2cdcb9>\"\u001b[0;36m, line \u001b[0;32m1\u001b[0m\n\u001b[0;31m    np.savetxt('test.out', ,newline=';')\u001b[0m\n\u001b[0m                           ^\u001b[0m\n\u001b[0;31mSyntaxError\u001b[0m\u001b[0;31m:\u001b[0m invalid syntax\n"
     ]
    }
   ],
   "source": [
    "np.savetxt('test.out', ,newline=';')"
   ]
  },
  {
   "cell_type": "code",
   "execution_count": null,
   "metadata": {},
   "outputs": [],
   "source": [
    "np.concatenate(areas[max5],enCtroids[max5])"
   ]
  },
  {
   "cell_type": "code",
   "execution_count": 97,
   "metadata": {},
   "outputs": [
    {
     "data": {
      "text/plain": [
       "array([[None, None, None, None, None, None, None, None, None, None, None,\n",
       "        None, None],\n",
       "       [None, None, None, None, None, None, None, None, None, None, None,\n",
       "        None, None],\n",
       "       [None, None, None, None, None, None, None, None, None, None, None,\n",
       "        None, None],\n",
       "       [None, None, None, None, None, None, None, None, None, None, None,\n",
       "        None, None],\n",
       "       [None, None, None, None, None, None, None, None, None, None, None,\n",
       "        None, None],\n",
       "       [None, None, None, None, None, None, None, None, None, None, None,\n",
       "        None, None],\n",
       "       [None, None, None, None, None, None, None, None, None, None, None,\n",
       "        None, None],\n",
       "       [None, None, None, None, None, None, None, None, None, None, None,\n",
       "        None, None],\n",
       "       [None, None, None, None, None, None, None, None, None, None, None,\n",
       "        None, None],\n",
       "       [None, None, None, None, None, None, None, None, None, None, None,\n",
       "        None, None]], dtype=object)"
      ]
     },
     "execution_count": 97,
     "metadata": {},
     "output_type": "execute_result"
    }
   ],
   "source": [
    "main_peaks_area_per_spec = np.empty([10,13], dtype=object)\n",
    "main_peaks_area_per_spec"
   ]
  },
  {
   "cell_type": "code",
   "execution_count": 99,
   "metadata": {},
   "outputs": [
    {
     "data": {
      "text/plain": [
       "array([['../Ipen/Efluentes-gasosos/Filtros-espectros/2018/CTP/CTP2203-3.Chn',\n",
       "        '2018-04-10 10:58:11', '5000.0', '48016.09143626338',\n",
       "        '160070.02850548044', '240453.86586785677', '307968.99365977244',\n",
       "        '3335717.3110319586', '723.6599281324906', '81.08075152452209',\n",
       "        '637.8663915198699', '285.22501060259225', '365.3426909065381'],\n",
       "       [None, None, None, None, None, None, None, None, None, None, None,\n",
       "        None, None],\n",
       "       [None, None, None, None, None, None, None, None, None, None, None,\n",
       "        None, None],\n",
       "       [None, None, None, None, None, None, None, None, None, None, None,\n",
       "        None, None],\n",
       "       [None, None, None, None, None, None, None, None, None, None, None,\n",
       "        None, None],\n",
       "       [None, None, None, None, None, None, None, None, None, None, None,\n",
       "        None, None],\n",
       "       [None, None, None, None, None, None, None, None, None, None, None,\n",
       "        None, None],\n",
       "       [None, None, None, None, None, None, None, None, None, None, None,\n",
       "        None, None],\n",
       "       [None, None, None, None, None, None, None, None, None, None, None,\n",
       "        None, None],\n",
       "       [None, None, None, None, None, None, None, None, None, None, None,\n",
       "        None, None]], dtype=object)"
      ]
     },
     "execution_count": 99,
     "metadata": {},
     "output_type": "execute_result"
    }
   ],
   "source": [
    "main_peaks_area_per_spec[0]=linha\n",
    "main_peaks_area_per_spec"
   ]
  },
  {
   "cell_type": "code",
   "execution_count": null,
   "metadata": {},
   "outputs": [],
   "source": [
    "reconstru"
   ]
  },
  {
   "cell_type": "code",
   "execution_count": null,
   "metadata": {},
   "outputs": [],
   "source": [
    "w45ywb45y w45y w4 "
   ]
  },
  {
   "cell_type": "code",
   "execution_count": null,
   "metadata": {},
   "outputs": [],
   "source": [
    "xnxxnsd drhs drh"
   ]
  },
  {
   "cell_type": "code",
   "execution_count": null,
   "metadata": {},
   "outputs": [],
   "source": []
  },
  {
   "cell_type": "code",
   "execution_count": null,
   "metadata": {},
   "outputs": [],
   "source": [
    "# 2020-08-30 AQUI: Detecção dos picos\n",
    "# 2020-08-30 Atenção ao parâmetro widths_range"
   ]
  },
  {
   "cell_type": "code",
   "execution_count": null,
   "metadata": {},
   "outputs": [],
   "source": [
    "imag, pksCh, nscpk, chanCwtpk, iscaleCwtpk, maxcoefCwtpk, widths = spec2.pks_by_ridges(\n",
    "    yNets, widths_range=(1,20), msnr=2.0, minCoefCwt=30.0)  \n",
    "# Finalmente achei o parâmetro crítico: window_size. O default é muito grande!"
   ]
  },
  {
   "cell_type": "code",
   "execution_count": null,
   "metadata": {},
   "outputs": [],
   "source": [
    "# 2020-08-31 ATENÇÃO AQUI: O pksCh obtido diretamente de find_pks_cwt não dá resultados bons;\n",
    "# Picos importantes, próximos de picos maiores, não são detectados, mesmo com os kwargs\n",
    "# bem ajustados, o que prejudica a delimitação das regiões.\n",
    "# Vou usar os ridges criados com a análise de imagem (imag),para definir as regiões por meio dos retângulos\n",
    "# e buscando o máximo cwt em cada ridge para selecionar os picos.\n",
    "\n",
    "# As coordenadas dos pontos dos ridges estão em indices_tupl.\n",
    "# Os canais dos picos estão em chanCwtpk.\n",
    "# Os coeficientes cwt máximos estão em maxcoefCwtpk.\n"
   ]
  },
  {
   "cell_type": "code",
   "execution_count": null,
   "metadata": {},
   "outputs": [],
   "source": [
    "indices_tupl = imag.nonzero()\n",
    "np.asarray(indices_tupl).shape"
   ]
  },
  {
   "cell_type": "code",
   "execution_count": null,
   "metadata": {},
   "outputs": [],
   "source": [
    "indices_tupl"
   ]
  },
  {
   "cell_type": "code",
   "execution_count": null,
   "metadata": {},
   "outputs": [],
   "source": [
    "# 2020-08-30 Perfeito! É o que eu queria para listar indices dos elementos não nulos"
   ]
  },
  {
   "cell_type": "code",
   "execution_count": null,
   "metadata": {},
   "outputs": [],
   "source": [
    "# 2020-09-06\n",
    "# chanCwtpk define melhor os picos do que pksCh\n",
    "len(chanCwtpk)"
   ]
  },
  {
   "cell_type": "code",
   "execution_count": null,
   "metadata": {},
   "outputs": [],
   "source": [
    "chanCwtpk"
   ]
  },
  {
   "cell_type": "code",
   "execution_count": null,
   "metadata": {},
   "outputs": [],
   "source": [
    "len(pksCh)"
   ]
  },
  {
   "cell_type": "code",
   "execution_count": null,
   "metadata": {},
   "outputs": [],
   "source": [
    "sideChs = np.int_(np.round(widths[iscaleCwtpk]))\n",
    "sideChs"
   ]
  },
  {
   "cell_type": "code",
   "execution_count": null,
   "metadata": {},
   "outputs": [],
   "source": [
    "sideChs.shape"
   ]
  },
  {
   "cell_type": "code",
   "execution_count": null,
   "metadata": {},
   "outputs": [],
   "source": [
    "# 2020-12-05\n",
    "# O que segue desativei porque veio de um arquivo anterior.\n",
    "# Verificar"
   ]
  },
  {
   "cell_type": "raw",
   "metadata": {},
   "source": [
    "# 2020-09-06\n",
    "# AQUI: escolho quem vou usar para definir os canais dos picos\n",
    "nPks = len(chanCwtpk)\n",
    "# e defino pksLimits\n",
    "pksLimits = np.zeros([nPks,2],dtype=int)\n",
    "for i,ch in enumerate(chanCwtpk):\n",
    "    pksLimits[i] = [ch-3,ch+4]"
   ]
  },
  {
   "cell_type": "raw",
   "metadata": {},
   "source": [
    "coeffs_pks = np.zeros((nPks,3))\n",
    "covars_pks = np.zeros((nPks,3,3))"
   ]
  },
  {
   "cell_type": "raw",
   "metadata": {},
   "source": [
    "xs[pksLimits[7,0]:pksLimits[7,1]]"
   ]
  },
  {
   "cell_type": "raw",
   "metadata": {},
   "source": [
    "xs[pksLimits[7]]"
   ]
  },
  {
   "cell_type": "raw",
   "metadata": {},
   "source": [
    "for iPk in range(nPks):\n",
    "    xdata = xs[pksLimits[iPk,0]:pksLimits[iPk,1]]\n",
    "    ydata = lnNetCounts[pksLimits[iPk,0]:pksLimits[iPk,1]]\n",
    "    wYdata = wLnNetCounts[pksLimits[iPk,0]:pksLimits[iPk,1]]\n",
    "    if np.max(ydata) > 2.0:\n",
    "        try:\n",
    "            coeffs_pks[iPk], covars_pks[iPk] = np.polyfit(xdata, ydata, 2, w=wYdata, cov=True)\n",
    "            # except LA.LinAlgError or ValueError:\n",
    "        except:\n",
    "            coeffs_pks[iPk] = np.zeros(3)\n",
    "            covars_pks[iPk] = np.zeros((3,3))"
   ]
  },
  {
   "cell_type": "raw",
   "metadata": {},
   "source": [
    "coeffs_pks"
   ]
  },
  {
   "cell_type": "raw",
   "metadata": {},
   "source": [
    "covars_pks"
   ]
  },
  {
   "cell_type": "code",
   "execution_count": null,
   "metadata": {},
   "outputs": [],
   "source": []
  },
  {
   "cell_type": "code",
   "execution_count": null,
   "metadata": {},
   "outputs": [],
   "source": [
    "# 2020-09-11 Seleciona picos eliminando duplicados próximos, com base no coef cwt\n",
    "# selectOverlappedPks está em opengamma_searchfuncs.py"
   ]
  },
  {
   "cell_type": "code",
   "execution_count": null,
   "metadata": {},
   "outputs": [],
   "source": [
    "slctdPks=selectOverlappedPks(chanCwtpk, sideChs, maxcoefCwtpk)\n",
    "slctdPks"
   ]
  },
  {
   "cell_type": "code",
   "execution_count": null,
   "metadata": {},
   "outputs": [],
   "source": [
    "ma_chanCwtpk = chanCwtpk[slctdPks]\n",
    "ma_maxcoefCwtpk = np.asarray(maxcoefCwtpk)[slctdPks]"
   ]
  },
  {
   "cell_type": "code",
   "execution_count": null,
   "metadata": {},
   "outputs": [],
   "source": [
    "ma_chanCwtpk"
   ]
  },
  {
   "cell_type": "code",
   "execution_count": null,
   "metadata": {},
   "outputs": [],
   "source": [
    "ma_chanCwtpk.size"
   ]
  },
  {
   "cell_type": "code",
   "execution_count": null,
   "metadata": {},
   "outputs": [],
   "source": [
    "ma_maxcoefCwtpk"
   ]
  },
  {
   "cell_type": "code",
   "execution_count": null,
   "metadata": {},
   "outputs": [],
   "source": [
    "ma_sideChs = sideChs[slctdPks]\n",
    "ma_sideChs"
   ]
  },
  {
   "cell_type": "code",
   "execution_count": null,
   "metadata": {},
   "outputs": [],
   "source": [
    "# 2020-09-12\n",
    "# *** Rotina central para o ajuste dos picos do espectro ***\n",
    "# Elimina picos com coef 2o grau positivo, antes da reconstrução.\n",
    "# do espectro\n",
    "# Descarta canais com menos que exp(2.5) ~ 12 contagens\n",
    "# Fornece várias listas e a lista principal com os ajustes\n",
    "\n",
    "# 2020-09-13\n",
    "# O chanCwtpk *quase* sempre fornece a faixa de canais correta\n",
    "# para fazer o ajuste.\n",
    "# Mas às vezes dá problema no pico de aniilação, pois alarga demais \n",
    "# a faixa e o ajuste de 2o grau fica distorcido, por causa dos extremos da faixa.\n",
    "# Ver isso."
   ]
  },
  {
   "cell_type": "code",
   "execution_count": null,
   "metadata": {},
   "outputs": [],
   "source": [
    "# 2020-12-06 Ver melhor o limiar 1.3 arbitrário em masklow\n",
    "# 2020-12-15 Definir melhor win_for_plot\n",
    "# 2020-12-15 Talvez usar numpy.trim_zeros em ypts antes do ajuste\n",
    "\n",
    "hwin_for_plot = 15\n",
    "reconstru = np.array(assembledBaseLine)\n",
    "recons_multiline = [[],[]]\n",
    "xs_multi_fits = []\n",
    "ys_multi_fits = []\n",
    "pksChans = []\n",
    "pksParams = []\n",
    "for i in range(ma_chanCwtpk.size):\n",
    "    print('ma_chanCwtpk[i] = ', ma_chanCwtpk[i])\n",
    "    sli = slice(ma_chanCwtpk[i]-hwin_for_plot, ma_chanCwtpk[i]+hwin_for_plot+1)\n",
    "    # masklow = ma.masked_less(lnNetCounts[sli], 2.5).mask\n",
    "    # masklow = ma.masked_less(lnNetCounts[sli], 1.3).mask\n",
    "    masklow = ma.masked_less(lnNetCounts[sli], 0.0).mask\n",
    "    xpts = np.array(range(sli.start, sli.stop))[~masklow]\n",
    "    ypts = lnNetCounts[sli][~masklow]\n",
    "    print('- ypts.shape[0] é ', ypts.shape[0])\n",
    "    print('- xpts: ', xpts)\n",
    "    print('- ypts: ', ypts)\n",
    "    if ypts.shape[0] == 1:  # Que absurdo fazer isso. mask_less retorna array ou bool...\n",
    "        xpts = xpts[0]\n",
    "        ypts = ypts[0]\n",
    "        print('- shape é 1')\n",
    "    if ypts.size == hwin_for_plot:   # 2020-12-15 Horrível, mudar o qto antes\n",
    "        p = P.fit(xpts, ypts, deg=2)\n",
    "        print('- p.coef = ', p.coef)\n",
    "        if p.coef[2] < 0:\n",
    "            pksChans.append(ma_chanCwtpk[i])\n",
    "            pksParams.append(p)\n",
    "            ycalcs = np.exp(p(xpts))\n",
    "            xs_multi_fits.append(xpts)\n",
    "            ys_multi_fits.append(ycalcs)\n",
    "            \n",
    "            sli_for_plot = slice(ma_chanCwtpk[i]-hwin_for_plot, ma_chanCwtpk[i]+hwin_for_plot+1)\n",
    "            print('-', sli_for_plot)\n",
    "            if ((sli_for_plot.start >= 0) & (sli_for_plot.stop < nCh)):\n",
    "                xs_for_plot = np.asarray(range(sli_for_plot.start, sli_for_plot.stop))\n",
    "                ys_for_plot = np.exp(p(xs_for_plot))\n",
    "                xs_for_plot_2 = np.asarray(np.linspace(xs_for_plot[0],xs_for_plot[-1],50))\n",
    "                ys_for_plot_2 = np.exp(p(xs_for_plot_2))\n",
    "                tck_step_for_plot = splrep(xs_for_plot, assembledBaseLine[sli_for_plot], k=3, s=0)\n",
    "                step_for_plot = splev(xs_for_plot_2, tck_step_for_plot, der=0)\n",
    "                reconstru[sli_for_plot] += ys_for_plot\n",
    "                recons_multiline[0].append(xs_for_plot_2)\n",
    "                recons_multiline[1].append(step_for_plot+ys_for_plot_2)"
   ]
  },
  {
   "cell_type": "code",
   "execution_count": null,
   "metadata": {},
   "outputs": [],
   "source": [
    "reconstru.shape"
   ]
  },
  {
   "cell_type": "code",
   "execution_count": null,
   "metadata": {},
   "outputs": [],
   "source": [
    "len(recons_multiline)"
   ]
  },
  {
   "cell_type": "code",
   "execution_count": null,
   "metadata": {},
   "outputs": [],
   "source": []
  },
  {
   "cell_type": "code",
   "execution_count": null,
   "metadata": {},
   "outputs": [],
   "source": [
    "ma_chanCwtpk.size"
   ]
  },
  {
   "cell_type": "code",
   "execution_count": null,
   "metadata": {},
   "outputs": [],
   "source": [
    "len(pksParams)"
   ]
  },
  {
   "cell_type": "code",
   "execution_count": null,
   "metadata": {},
   "outputs": [],
   "source": [
    "len(pksChans)"
   ]
  },
  {
   "cell_type": "code",
   "execution_count": null,
   "metadata": {},
   "outputs": [],
   "source": [
    "# 2020-09-11 Bokeh graph\n",
    "\n",
    "default_plot_width, default_plot_height = set_screen_size_by_machine()\n",
    "tools='pan,xwheel_zoom,xbox_select,reset'\n",
    "bok5a = figure(\n",
    "    plot_width =default_plot_width,\n",
    "    plot_height=300,\n",
    "    tools=tools\n",
    ")\n",
    "bok5a.title.text = 'Gráfico 5a: maxcoefCwtpk[i] nos ridges'\n",
    "float_formatter = \"{:n}\".format\n",
    "for i in range(len(chanCwtpk)):\n",
    "    mytext = Label(x=chanCwtpk[i], y=iscaleCwtpk[i], text=float_formatter(chanCwtpk[i]),\n",
    "                   text_font_size='10pt')\n",
    "    bok5a.add_layout(mytext)\n",
    "bok5a.circle(indices_tupl[1], indices_tupl[0], size=3)\n",
    "bok5a.circle(chanCwtpk, iscaleCwtpk, size=8, line_color='magenta', fill_color='white', fill_alpha=0)\n",
    "\n",
    "bok5b = figure(\n",
    "    plot_width =default_plot_width,\n",
    "    plot_height=300,\n",
    "    y_axis_type=\"log\",\n",
    "    tools=tools\n",
    ")\n",
    "bok5b.title.text = '5b: picos p/ ridges nos canais chanCwtpk em círculos AZUIS no espectro líq yNets'\n",
    "float_formatter = \"{:.2f}\".format\n",
    "for i in range(ma_chanCwtpk.size):\n",
    "    mytext = Label(x=ma_chanCwtpk[i], y=yNets[ma_chanCwtpk][i],\n",
    "                   text=float_formatter(ma_maxcoefCwtpk[i]),\n",
    "                   text_font_size='10pt')\n",
    "    bok5b.add_layout(mytext)\n",
    "bok5b.circle(ma_chanCwtpk, yNets[ma_chanCwtpk], size=8, line_color='blue', fill_color='white', fill_alpha=0)\n",
    "    \n",
    "bok5b.x_range = bok5a.x_range\n",
    "bok5b.circle(spec2.xs, yNets, color='red',size=2)\n",
    "bok5b.multi_line(xs_multi_fits, ys_multi_fits, color='blue')\n",
    "\n",
    "# set up layout\n",
    "p = gridplot([bok5a, bok5b], ncols=1)\n",
    "show(p)"
   ]
  },
  {
   "cell_type": "code",
   "execution_count": null,
   "metadata": {},
   "outputs": [],
   "source": [
    "# 2020-09-11 Bokeh graph\n",
    "\n",
    "default_plot_width, default_plot_height = set_screen_size_by_machine()\n",
    "tools='pan,xwheel_zoom,xbox_select,reset'\n",
    "bok6 = figure(\n",
    "    plot_width =default_plot_width,\n",
    "    plot_height=default_plot_height,\n",
    "    y_axis_type=\"log\",\n",
    "    tools=tools\n",
    ")\n",
    "bok6.title.text = 'Gráfico 6: tudo junto e misturado'\n",
    "bok6.circle(spec2.xs, spec2.y0s, color=\"red\",size=2.5)\n",
    "bok6.line(spec2.xs, assembledBaseLine, color=\"black\")\n",
    "bok6.circle(spec2.xs, yNets, color='blue',size=1.5)\n",
    "bok6.multi_line(xs_multi_fits, ys_multi_fits, color='blue')\n",
    "bok6.line(spec2.xs, reconstru, color='green')\n",
    "\n",
    "# set up layout\n",
    "p = gridplot([bok6], ncols=1)\n",
    "show(p)"
   ]
  },
  {
   "cell_type": "code",
   "execution_count": null,
   "metadata": {},
   "outputs": [],
   "source": []
  },
  {
   "cell_type": "code",
   "execution_count": null,
   "metadata": {},
   "outputs": [],
   "source": [
    "# 2020-12-06 Variante do gráfico 6\n",
    "\n",
    "default_plot_width, default_plot_height = set_screen_size_by_machine()\n",
    "tools='pan,xwheel_zoom,xbox_select,reset'\n",
    "bok6a = figure(\n",
    "    plot_width =default_plot_width,\n",
    "    plot_height=default_plot_height,\n",
    "    y_axis_type=\"log\",\n",
    "    tools=tools\n",
    ")\n",
    "bok6a.title.text = 'Gráfico 6a: recons_multiline'\n",
    "bok6a.circle(spec2.xs, spec2.y0s, color=\"red\",size=2.5)\n",
    "bok6a.line(spec2.xs, assembledBaseLine, color=\"black\")\n",
    "bok6a.circle(spec2.xs, yNets, color='blue',size=1.5)\n",
    "bok6a.multi_line(recons_multiline[0], recons_multiline[1], color='orange')\n",
    "\n",
    "# set up layout\n",
    "p = gridplot([bok6a], ncols=1)\n",
    "show(p)"
   ]
  },
  {
   "cell_type": "code",
   "execution_count": null,
   "metadata": {},
   "outputs": [],
   "source": []
  },
  {
   "cell_type": "code",
   "execution_count": null,
   "metadata": {},
   "outputs": [],
   "source": [
    "# 2020-08-15 AGORA interpretar os coefs. do ajuste gaussiano linearizado.\n",
    "# 2020-09-12 Retomando"
   ]
  },
  {
   "cell_type": "code",
   "execution_count": null,
   "metadata": {},
   "outputs": [],
   "source": [
    "nPks = len(xs_multi_fits)\n",
    "nPks"
   ]
  },
  {
   "cell_type": "code",
   "execution_count": null,
   "metadata": {},
   "outputs": [],
   "source": []
  },
  {
   "cell_type": "code",
   "execution_count": null,
   "metadata": {},
   "outputs": [],
   "source": []
  },
  {
   "cell_type": "code",
   "execution_count": null,
   "metadata": {},
   "outputs": [],
   "source": []
  },
  {
   "cell_type": "code",
   "execution_count": null,
   "metadata": {},
   "outputs": [],
   "source": [
    "# Gr'afico do ajuste:"
   ]
  },
  {
   "cell_type": "code",
   "execution_count": null,
   "metadata": {},
   "outputs": [],
   "source": [
    "default_plot_width, default_plot_height"
   ]
  },
  {
   "cell_type": "raw",
   "metadata": {},
   "source": [
    "# Atributos possíveis para os eixos:\n",
    "\n",
    "AttributeError: unexpected attribute 'font_size' to LinearAxis, possible attributes are axis_label, axis_label_standoff, axis_label_text_align, axis_label_text_alpha, axis_label_text_baseline, axis_label_text_color, axis_label_text_font, axis_label_text_font_size, axis_label_text_font_style, axis_label_text_line_height, axis_line_alpha, axis_line_cap, axis_line_color, axis_line_dash, axis_line_dash_offset, axis_line_join, axis_line_width, bounds, fixed_location, formatter, js_event_callbacks, js_property_callbacks, level, major_label_orientation, major_label_overrides, major_label_standoff, major_label_text_align, major_label_text_alpha, major_label_text_baseline, major_label_text_color, major_label_text_font, major_label_text_font_size, major_label_text_font_style, major_label_text_line_height, major_tick_in, major_tick_line_alpha, major_tick_line_cap, major_tick_line_color, major_tick_line_dash, major_tick_line_dash_offset, major_tick_line_join, major_tick_line_width, major_tick_out, minor_tick_in, minor_tick_line_alpha, minor_tick_line_cap, minor_tick_line_color, minor_tick_line_dash, minor_tick_line_dash_offset, minor_tick_line_join, minor_tick_line_width, minor_tick_out, name, subscribed_events, tags, ticker, visible, x_range_name or y_range_name"
   ]
  },
  {
   "cell_type": "code",
   "execution_count": null,
   "metadata": {},
   "outputs": [],
   "source": [
    "# PAREI AQUI a parte das paletas gr'aficas  2020-ago-12"
   ]
  },
  {
   "cell_type": "code",
   "execution_count": null,
   "metadata": {},
   "outputs": [],
   "source": [
    "Paired6"
   ]
  },
  {
   "cell_type": "code",
   "execution_count": null,
   "metadata": {},
   "outputs": [],
   "source": [
    "Pretos = ('#a6cee3', '#1f78b4', '#b2df8a', '#a6cee3', '#a6cee3', '#a6cee3')"
   ]
  },
  {
   "cell_type": "code",
   "execution_count": null,
   "metadata": {},
   "outputs": [],
   "source": []
  },
  {
   "cell_type": "code",
   "execution_count": null,
   "metadata": {},
   "outputs": [],
   "source": [
    "# 2020-12-14 Cálculo das áreas sob os picos: usa heights e chFwhms"
   ]
  },
  {
   "cell_type": "markdown",
   "metadata": {},
   "source": [
    "***\n",
    "$\\mathbf{\\text{Cálculo da área sob os picos gaussianos}}$<br>\n",
    "***\n",
    "1.&emsp;A integral da gaussiana é\n",
    "    $$ \\int _{-\\infty }^{\\infty }a\\,e^{-\\left(x-b\\right)^{2}/2c^{2}} \\,dx = a \\sqrt{2\\pi}\\left\\vert c\\right\\vert $$\n",
    "2.&emsp;A definição de FWHM é\n",
    "    $$ \\mathrm{FWHM}=2{\\sqrt  {2\\ln 2}}\\;\\sigma \\approx 2.355\\;\\sigma. $$\n",
    "3.&emsp;Portanto, o cálculo da área das contagens $A_C$ far-se-á por\n",
    "    $$ A_C = a {\\sqrt{2\\pi} \\over 2{\\sqrt  {2\\ln 2}}} \\mathrm{FWHM} =\n",
    "       {{1 \\over 2}\\sqrt{\\pi \\over {\\ln 2}}}\\cdot a \\cdot \\mathrm{FWHM} $$"
   ]
  },
  {
   "cell_type": "code",
   "execution_count": null,
   "metadata": {},
   "outputs": [],
   "source": [
    "# 2020-09-17\n",
    "# Convertendo canais em energias\n",
    "# ATENCAO NAO USAR MAIS POLYVAL, INVERTE OS COEFS\n",
    "\n",
    "ens = spec2.coeffs_ChEn(spec2.xs)\n",
    "# ens = np.polyval(spec2.coeffs_ChEn, spec2.xs)\n",
    "enCtroids = spec2.coeffs_ChEn(chCtroids)\n",
    "# enCtroids = np.polyval(spec2.coeffs_ChEn, chCtroids)\n",
    "enCtroids"
   ]
  },
  {
   "cell_type": "code",
   "execution_count": null,
   "metadata": {},
   "outputs": [],
   "source": [
    "# https://stackoverflow.com/questions/21008858/formatting-floats-in-a-numpy-array#21009774\n",
    "\n",
    "# 2020-09-17 Bokeh graph\n",
    "# Plot do espectro analisado em energias (keV)\n",
    "default_plot_width, default_plot_height = set_screen_size_by_machine()\n",
    "tools='pan,xwheel_zoom,xbox_select,reset,save'\n",
    "bok7 = figure(\n",
    "    plot_width =default_plot_width,\n",
    "    plot_height=default_plot_height,\n",
    "    y_axis_type=\"log\",\n",
    "    tools=tools\n",
    ")\n",
    "bok7.title.text = 'Gráfico 7: ' + fn2 \\\n",
    "    + '.   Início da medição: ' + str(spec2.countDatetime) \\\n",
    "    + '.   Live time: ' + str(spec2.spLVTime) \\\n",
    "    + '.   Real time: ' + str(spec2.spRLTime) + '.'\n",
    "bok7.xaxis.axis_label = 'Energy (keV)'\n",
    "bok7.xaxis.axis_label_text_font_size = '12pt'\n",
    "bok7.xaxis.major_label_text_font_size = '10pt'\n",
    "\n",
    "bok7.yaxis.axis_label = 'Counts'\n",
    "bok7.yaxis.axis_label_text_font_size = '12pt'\n",
    "bok7.yaxis.major_label_text_font_size = '10pt'\n",
    "\n",
    "uai = ['{:.1f}'.format(i) for i in enCtroids]\n",
    "source = ColumnDataSource(data=dict(height=heights,\n",
    "                                   enkeV=enCtroids,\n",
    "                                   lblPkEns=uai))\n",
    "labels = LabelSet(x='enkeV', y='height', text='lblPkEns', level='glyph',\n",
    "                  text_font_size = '10pt',\n",
    "                  x_offset=5, y_offset=5, source=source, render_mode='canvas')\n",
    "\n",
    "# boka.add_layout(mytext)\n",
    "bok7.add_layout(labels)\n",
    "\n",
    "bok7.circle(ens, spec2.y0s, color='orange',size=2.5)\n",
    "bok7.line(ens, assembledBaseLine, color='brown')\n",
    "bok7.line(ens, reconstru, color='turquoise')\n",
    "# set up layout\n",
    "p = gridplot([bok7], ncols=1)\n",
    "show(p)"
   ]
  },
  {
   "cell_type": "code",
   "execution_count": null,
   "metadata": {},
   "outputs": [],
   "source": []
  },
  {
   "cell_type": "code",
   "execution_count": null,
   "metadata": {},
   "outputs": [],
   "source": [
    "erf(0.9)"
   ]
  },
  {
   "cell_type": "code",
   "execution_count": null,
   "metadata": {},
   "outputs": [],
   "source": [
    "erf(0.0)"
   ]
  },
  {
   "cell_type": "code",
   "execution_count": null,
   "metadata": {},
   "outputs": [],
   "source": [
    "teste = np.array([2,7,5,4,1,6])"
   ]
  },
  {
   "cell_type": "code",
   "execution_count": null,
   "metadata": {},
   "outputs": [],
   "source": [
    "np.asarray(range(sli.start, sli.stop))"
   ]
  },
  {
   "cell_type": "code",
   "execution_count": null,
   "metadata": {},
   "outputs": [],
   "source": [
    "men5 = ma.masked_less(teste,5)\n",
    "men5"
   ]
  },
  {
   "cell_type": "code",
   "execution_count": null,
   "metadata": {},
   "outputs": [],
   "source": [
    "teste[~men5.mask]"
   ]
  },
  {
   "cell_type": "code",
   "execution_count": null,
   "metadata": {},
   "outputs": [],
   "source": [
    "teste[ma.masked_less(teste,5).mask]"
   ]
  },
  {
   "cell_type": "code",
   "execution_count": null,
   "metadata": {},
   "outputs": [],
   "source": [
    "teste[~ma.masked_less(teste,5).mask]"
   ]
  },
  {
   "cell_type": "code",
   "execution_count": null,
   "metadata": {},
   "outputs": [],
   "source": [
    "# 2020-09-13 Dicas legais para usar markdown no Jupyter-lab:\n",
    "# medium.com/analytics-vidhya/writing-math-equations-in-jupyter-notebook-a-naive-introduction-a5ce87b9a214\n",
    "# Ver a seguir:\n",
    "\n",
    "# A primeira célula do par está como Raw para ver o código\n",
    "# A segunda tem o mesmo conteúdo, mas está como Markdown"
   ]
  },
  {
   "cell_type": "markdown",
   "metadata": {},
   "source": [
    "***\n",
    "$\\mathbf{\\text{Esta é uma célula para testes do uso de markdown em Jupyter}}$<br>\n",
    "***\n",
    "1.&emsp;Initialize model with a constant value $$f_{0}(x) = \\textrm{arg min}_{\\gamma} \\sum \\limits _{i=1} ^{N} L(y_{i}, \\gamma)$$\n",
    "2.&emsp;For m = 1 to M:<br>\n",
    "&emsp;&emsp;(a)&emsp;For $i = 1,2,...,N$ compute<br>\n",
    "    $$r_{im} = - \\displaystyle \\Bigg[\\frac{\\partial L(y_{i}, f(x_{i}))}{\\partial f(x_{i})}\\Bigg]_{f=f_{m−1}}$$\n",
    "&emsp;&emsp;(b)&emsp;Fit a regression tree to the targets $r_{im}$ giving terminal regions<br>\n",
    "&emsp;&emsp;&emsp;&emsp;$R_{jm}, j = 1, 2, . . . , J_{m}.$<br><br>\n",
    "&emsp;&emsp;(c)&emsp;For $j = 1, 2, . . . , J_{m}$ compute<br>\n",
    "$$\\gamma_{jm} = \\underset{\\gamma}{\\textrm{arg min}} \\sum \\limits _{x_{i} \\in R_{jm}} L(y_{i}, f_{m−1}(x_{i}) + \\gamma)$$\n",
    "<br>\n",
    "&emsp;&emsp;(d)&emsp;Update $f_{m}(x) = f_{m−1}(x) + \\sum _{j=1} ^{J_{m}} \\gamma_{jm} I(x \\in R_{jm})$<br><br>\n",
    "3. Output $\\hat{f}(x) = f_{M}(x)$\n",
    "***"
   ]
  },
  {
   "cell_type": "markdown",
   "metadata": {},
   "source": [
    "***\n",
    "$\\mathbf{\\text{Gradient Tree Boosting Algorithm}}$<br>\n",
    "***\n",
    "1.&emsp;Initialize model with a constant value $$f_{0}(x) = \\textrm{arg min}_{\\gamma} \\sum \\limits _{i=1} ^{N} L(y_{i}, \\gamma)$$\n",
    "2.&emsp;For m = 1 to M:<br>\n",
    "&emsp;&emsp;(a)&emsp;For $i = 1,2,...,N$ compute<br>\n",
    "    $$r_{im} = - \\displaystyle \\Bigg[\\frac{\\partial L(y_{i}, f(x_{i}))}{\\partial f(x_{i})}\\Bigg]_{f=f_{m−1}}$$\n",
    "&emsp;&emsp;(b)&emsp;Fit a regression tree to the targets $r_{im}$ giving terminal regions<br>\n",
    "&emsp;&emsp;&emsp;&emsp;$R_{jm}, j = 1, 2, . . . , J_{m}.$<br><br>\n",
    "&emsp;&emsp;(c)&emsp;For $j = 1, 2, . . . , J_{m}$ compute<br>\n",
    "$$\\gamma_{jm} = \\underset{\\gamma}{\\textrm{arg min}} \\sum \\limits _{x_{i} \\in R_{jm}} L(y_{i}, f_{m−1}(x_{i}) + \\gamma)$$\n",
    "<br>\n",
    "&emsp;&emsp;(d)&emsp;Update $f_{m}(x) = f_{m−1}(x) + \\sum _{j=1} ^{J_{m}} \\gamma_{jm} I(x \\in R_{jm})$<br><br>\n",
    "3. Output $\\hat{f}(x) = f_{M}(x)$\n",
    "***"
   ]
  },
  {
   "cell_type": "raw",
   "metadata": {},
   "source": [
    "$\\hat{Y} = \\hat{\\beta}_{0} + \\sum \\limits _{j=1} ^{p} X_{j}\\hat{\\beta}_{j} $"
   ]
  },
  {
   "cell_type": "markdown",
   "metadata": {},
   "source": [
    "$\\hat{Y} = \\hat{\\beta}_{0} + \\sum \\limits _{j=1} ^{p} X_{j}\\hat{\\beta}_{j} $"
   ]
  },
  {
   "cell_type": "code",
   "execution_count": null,
   "metadata": {},
   "outputs": [],
   "source": []
  },
  {
   "cell_type": "code",
   "execution_count": null,
   "metadata": {},
   "outputs": [],
   "source": []
  },
  {
   "cell_type": "code",
   "execution_count": null,
   "metadata": {},
   "outputs": [],
   "source": []
  }
 ],
 "metadata": {
  "kernelspec": {
   "display_name": "Python 3",
   "language": "python",
   "name": "python3"
  },
  "language_info": {
   "codemirror_mode": {
    "name": "ipython",
    "version": 3
   },
   "file_extension": ".py",
   "mimetype": "text/x-python",
   "name": "python",
   "nbconvert_exporter": "python",
   "pygments_lexer": "ipython3",
   "version": "3.7.10"
  }
 },
 "nbformat": 4,
 "nbformat_minor": 4
}
