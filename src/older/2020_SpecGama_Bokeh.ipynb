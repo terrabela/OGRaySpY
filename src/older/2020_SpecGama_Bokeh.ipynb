{
 "cells": [
  {
   "cell_type": "code",
   "execution_count": 5,
   "metadata": {},
   "outputs": [],
   "source": [
    "#!/usr/bin/env python3\n",
    "# -*- coding: utf-8 -*-\n",
    "\"\"\"\n",
    "Created on Sat Feb 22 10:40:56 2020\n",
    "\n",
    "@author: marcelo\n",
    "\n",
    "ar1:\n",
    "- array (nx,2), onde:\n",
    "    nx: n'umero total de picos em todas as escalas\n",
    "    x: 'indice do pico\n",
    "    ar1[x,0]: canal inteiro do pico\n",
    "    ar1[x,1]: valor da escala\n",
    "    \n",
    "xpk:\n",
    "- lista (nx), onde:\n",
    "    nx: numero de picos efetivos ap'os an'alise\n",
    "    x: canal inteiro do pico\n",
    "    \n",
    "ypk:\n",
    "- lista (nx), onde:\n",
    "    nx: numero de picos efetivos ap'os an'alise (= nx(xpk))\n",
    "    x: valor da escala\n",
    "\n",
    "\"\"\"\n",
    "\n",
    "import numpy as np\n",
    "from numpy import linalg as LA\n",
    "\n",
    "from spectrum_analysis import (cwt_complete_analysis, gaussian_complete_analysis, cwt_calc_peaks)\n",
    "from gamma_spectrum_class import (Spec)\n",
    "\n",
    "from machine_selection import set_screen_size_by_machine\n",
    "from bokeh.models import ColumnDataSource, Whisker\n",
    "from bokeh.palettes import Paired6\n",
    "from bokeh.plotting import figure, output_file, output_notebook, show\n",
    "from bokeh.layouts import gridplot\n",
    "\n",
    "from bokeh import palettes"
   ]
  },
  {
   "cell_type": "code",
   "execution_count": 6,
   "metadata": {},
   "outputs": [],
   "source": [
    "# 2019-03-15\n",
    "# https://pandas.pydata.org/pandas-docs/stable/getting_started/10min.html\n",
    "import pandas as pd\n",
    "import csv"
   ]
  },
  {
   "cell_type": "code",
   "execution_count": 7,
   "metadata": {},
   "outputs": [],
   "source": [
    "# haWin = 3 \n",
    "# fn2 = '../Efluentes-gasosos/Filtros-espectros/2018/CTP/CTP2203-3.Chn'\n",
    "\n",
    "# haWin = 3 \n",
    "# fn2 = '../Genie_Transfer/Si/SI2019/SI04019.Chn'\n",
    "\n",
    "# haWin = 6\n",
    "# fn2 = '../Pesquisa/2020_Mariana_PR/2020_Mariana_PR_Espectros/espectros-det-projeto/agua-bruta.IEC'\n",
    "\n",
    "haWin = 6\n",
    "hei = 0.01\n",
    "fn2 = '../gamma/spectra/ALMERA-2016/alm_samp5_F100_16_Cont-D_133k.IEC'\n",
    "\n",
    "# 13 de julho de 2020\n",
    "# PAREI AQUI O termo de 1o grau oscila selvagemente em baixas contagens\n",
    "# ponderá-lo pelo coeffs0\n",
    "\n"
   ]
  },
  {
   "cell_type": "code",
   "execution_count": 8,
   "metadata": {},
   "outputs": [
    {
     "ename": "ValueError",
     "evalue": "invalid literal for int() with base 10: '  '",
     "output_type": "error",
     "traceback": [
      "\u001b[0;31m---------------------------------------------------------------------------\u001b[0m",
      "\u001b[0;31mValueError\u001b[0m                                Traceback (most recent call last)",
      "\u001b[0;32m<ipython-input-8-62f41b41ef51>\u001b[0m in \u001b[0;36m<module>\u001b[0;34m\u001b[0m\n\u001b[1;32m      1\u001b[0m \u001b[0mspec2\u001b[0m \u001b[0;34m=\u001b[0m \u001b[0mSpec\u001b[0m\u001b[0;34m(\u001b[0m\u001b[0;34m)\u001b[0m\u001b[0;34m\u001b[0m\u001b[0;34m\u001b[0m\u001b[0m\n\u001b[0;32m----> 2\u001b[0;31m \u001b[0;32mif\u001b[0m \u001b[0mspec2\u001b[0m\u001b[0;34m.\u001b[0m\u001b[0mreadSp\u001b[0m\u001b[0;34m(\u001b[0m \u001b[0mfn2\u001b[0m \u001b[0;34m)\u001b[0m \u001b[0;34m>=\u001b[0m \u001b[0;36m0\u001b[0m\u001b[0;34m:\u001b[0m\u001b[0;34m\u001b[0m\u001b[0;34m\u001b[0m\u001b[0m\n\u001b[0m\u001b[1;32m      3\u001b[0m     \u001b[0mprint\u001b[0m \u001b[0;34m(\u001b[0m\u001b[0mspec2\u001b[0m\u001b[0;34m.\u001b[0m\u001b[0mnCh\u001b[0m\u001b[0;34m)\u001b[0m\u001b[0;34m\u001b[0m\u001b[0;34m\u001b[0m\u001b[0m\n\u001b[1;32m      4\u001b[0m \u001b[0;34m\u001b[0m\u001b[0m\n\u001b[1;32m      5\u001b[0m \u001b[0mcounts\u001b[0m \u001b[0;34m=\u001b[0m \u001b[0mspec2\u001b[0m\u001b[0;34m.\u001b[0m\u001b[0mspecIO\u001b[0m\u001b[0;34m.\u001b[0m\u001b[0mspCounts\u001b[0m\u001b[0;34m\u001b[0m\u001b[0;34m\u001b[0m\u001b[0m\n",
      "\u001b[0;32m~/OwnDrive/Python_Scripts/gamma_spectrum_class.py\u001b[0m in \u001b[0;36mreadSp\u001b[0;34m(self, fn)\u001b[0m\n\u001b[1;32m     65\u001b[0m             \u001b[0mret\u001b[0m \u001b[0;34m=\u001b[0m \u001b[0mself\u001b[0m\u001b[0;34m.\u001b[0m\u001b[0mspecIO\u001b[0m\u001b[0;34m.\u001b[0m\u001b[0mreadchnsp\u001b[0m\u001b[0;34m(\u001b[0m \u001b[0mfn\u001b[0m \u001b[0;34m)\u001b[0m\u001b[0;34m\u001b[0m\u001b[0;34m\u001b[0m\u001b[0m\n\u001b[1;32m     66\u001b[0m         \u001b[0;32melif\u001b[0m \u001b[0msufx\u001b[0m \u001b[0;34m==\u001b[0m \u001b[0;34m'.iec'\u001b[0m\u001b[0;34m:\u001b[0m\u001b[0;34m\u001b[0m\u001b[0;34m\u001b[0m\u001b[0m\n\u001b[0;32m---> 67\u001b[0;31m             \u001b[0mret\u001b[0m \u001b[0;34m=\u001b[0m \u001b[0mself\u001b[0m\u001b[0;34m.\u001b[0m\u001b[0mspecIO\u001b[0m\u001b[0;34m.\u001b[0m\u001b[0mreadiecsp\u001b[0m\u001b[0;34m(\u001b[0m \u001b[0mfn\u001b[0m \u001b[0;34m)\u001b[0m\u001b[0;34m\u001b[0m\u001b[0;34m\u001b[0m\u001b[0m\n\u001b[0m\u001b[1;32m     68\u001b[0m         \u001b[0;32mif\u001b[0m \u001b[0mret\u001b[0m\u001b[0;34m:\u001b[0m\u001b[0;34m\u001b[0m\u001b[0;34m\u001b[0m\u001b[0m\n\u001b[1;32m     69\u001b[0m             \u001b[0mself\u001b[0m\u001b[0;34m.\u001b[0m\u001b[0msetCounts\u001b[0m\u001b[0;34m(\u001b[0m\u001b[0;34m)\u001b[0m\u001b[0;34m\u001b[0m\u001b[0;34m\u001b[0m\u001b[0m\n",
      "\u001b[0;32m~/OwnDrive/Python_Scripts/gamma_spectrum_io_module.py\u001b[0m in \u001b[0;36mreadiecsp\u001b[0;34m(self, fn)\u001b[0m\n\u001b[1;32m    149\u001b[0m                 \u001b[0mself\u001b[0m\u001b[0;34m.\u001b[0m\u001b[0mdiahora\u001b[0m \u001b[0;34m=\u001b[0m \u001b[0mdatetime\u001b[0m\u001b[0;34m(\u001b[0m\u001b[0myyyy\u001b[0m\u001b[0;34m,\u001b[0m \u001b[0mmo\u001b[0m\u001b[0;34m,\u001b[0m \u001b[0mdd\u001b[0m\u001b[0;34m,\u001b[0m \u001b[0mhh\u001b[0m\u001b[0;34m,\u001b[0m \u001b[0mmi\u001b[0m\u001b[0;34m,\u001b[0m \u001b[0mss\u001b[0m\u001b[0;34m)\u001b[0m\u001b[0;34m\u001b[0m\u001b[0;34m\u001b[0m\u001b[0m\n\u001b[1;32m    150\u001b[0m \u001b[0;34m\u001b[0m\u001b[0m\n\u001b[0;32m--> 151\u001b[0;31m                 \u001b[0mdd\u001b[0m \u001b[0;34m=\u001b[0m \u001b[0mint\u001b[0m\u001b[0;34m(\u001b[0m \u001b[0mlins\u001b[0m\u001b[0;34m[\u001b[0m\u001b[0;36m2\u001b[0m\u001b[0;34m]\u001b[0m\u001b[0;34m[\u001b[0m\u001b[0;36m22\u001b[0m\u001b[0;34m:\u001b[0m\u001b[0;36m24\u001b[0m\u001b[0;34m]\u001b[0m \u001b[0;34m)\u001b[0m\u001b[0;34m\u001b[0m\u001b[0;34m\u001b[0m\u001b[0m\n\u001b[0m\u001b[1;32m    152\u001b[0m                 \u001b[0mmo\u001b[0m \u001b[0;34m=\u001b[0m \u001b[0mint\u001b[0m\u001b[0;34m(\u001b[0m \u001b[0mlins\u001b[0m\u001b[0;34m[\u001b[0m\u001b[0;36m2\u001b[0m\u001b[0;34m]\u001b[0m\u001b[0;34m[\u001b[0m\u001b[0;36m25\u001b[0m\u001b[0;34m:\u001b[0m\u001b[0;36m27\u001b[0m\u001b[0;34m]\u001b[0m \u001b[0;34m)\u001b[0m\u001b[0;34m\u001b[0m\u001b[0;34m\u001b[0m\u001b[0m\n\u001b[1;32m    153\u001b[0m                 \u001b[0myy\u001b[0m \u001b[0;34m=\u001b[0m \u001b[0mint\u001b[0m\u001b[0;34m(\u001b[0m \u001b[0mlins\u001b[0m\u001b[0;34m[\u001b[0m\u001b[0;36m2\u001b[0m\u001b[0;34m]\u001b[0m\u001b[0;34m[\u001b[0m\u001b[0;36m28\u001b[0m\u001b[0;34m:\u001b[0m\u001b[0;36m30\u001b[0m\u001b[0;34m]\u001b[0m \u001b[0;34m)\u001b[0m\u001b[0;34m\u001b[0m\u001b[0;34m\u001b[0m\u001b[0m\n",
      "\u001b[0;31mValueError\u001b[0m: invalid literal for int() with base 10: '  '"
     ]
    }
   ],
   "source": [
    "spec2 = Spec()\n",
    "if spec2.readSp( fn2 ) >= 0:\n",
    "    print (spec2.nCh)\n",
    "    \n",
    "counts = spec2.specIO.spCounts\n",
    "print(len(counts))\n",
    "# smo0, smo1, sum1, bline = spec2.coeffs_2nd_grade_estim(haWin=haWin)\n",
    "spec2.coeffs_2nd_grade_estim(haWin=haWin, hei=hei)"
   ]
  },
  {
   "cell_type": "code",
   "execution_count": null,
   "metadata": {},
   "outputs": [],
   "source": []
  },
  {
   "cell_type": "code",
   "execution_count": 5,
   "metadata": {},
   "outputs": [],
   "source": [
    "default_plot_width, default_plot_height = set_screen_size_by_machine()\n",
    "\n",
    "# 2020-07-11 Bokeh graph w/ 2nd grade fit coefficients\n",
    "\n",
    "bok1 = figure(\n",
    "    plot_width =default_plot_width,\n",
    "    plot_height=default_plot_height,\n",
    "    tools=\"pan,box_zoom,reset,save\",\n",
    "    y_axis_label='scale',\n",
    "    y_axis_type=\"log\",\n",
    "    y_range=[10**1, 10**5],\n",
    "    title=fn2\n",
    ")\n",
    "bok1.title.text = 'Click on legend entries to hide the corresponding lines'\n",
    "\n",
    "xs = spec2.xs\n",
    "y0s = spec2.y0s\n",
    "c1 = 1e2*np.exp( -spec2.coeffs1*10)\n",
    "c0 = 10*np.exp(spec2.coeffs0)\n",
    "c2       = 1e3*np.exp(-spec2.coeffs2*10)\n",
    "c2w1     = 1e3*spec2.c2w1\n",
    "for data, name, color in zip([y0s, c1, c0, c2, c2w1],\n",
    "                             [\"y0s\", \"c1\", \"c0\", \"c2\", \"c2w1\"],\n",
    "                             Paired6):\n",
    "    bok1.line(xs, data, line_width=1.3, color=color, alpha=0.6, legend_label=name)\n",
    "    bok1.circle(xs, data, fill_color=\"white\", size=3, color=color, alpha=1.0, legend_label=name)\n",
    "\n",
    "bok1.circle(spec2.peaks_c2w1, spec2.y0s[spec2.peaks_c2w1], color=\"green\", fill_color=\"yellow\", size=7)\n",
    "\n",
    "bok1.legend.location = \"top_right\"\n",
    "bok1.legend.click_policy=\"hide\"\n",
    "\n",
    "show(bok1)"
   ]
  },
  {
   "cell_type": "code",
   "execution_count": 6,
   "metadata": {},
   "outputs": [],
   "source": [
    "default_plot_width, default_plot_height = set_screen_size_by_machine()\n",
    "\n",
    "# 2020-07-11 Bokeh graph w/ 2nd grade fit coefficients\n",
    "\n",
    "bok1a = figure(\n",
    "    plot_width =default_plot_width,\n",
    "    plot_height=default_plot_height,\n",
    "    tools=\"pan,box_zoom,reset,save\",\n",
    "    y_axis_label='scale',\n",
    "    y_axis_type=\"log\",\n",
    "    y_range=[10**1, 10**5],\n",
    "    title=fn2\n",
    ")\n",
    "bok1a.title.text = 'Click on legend entries to hide the corresponding lines'\n",
    "\n",
    "xs = spec2.xs\n",
    "y0s = spec2.y0s\n",
    "spli       = np.exp(spec2.unispl(spec2.xs))\n",
    "for data, name, color in zip([y0s, spli],\n",
    "                             [\"y0s\", \"spli\"],\n",
    "                             Paired6):\n",
    "    bok1a.line(xs, data, line_width=1.3, color=color, alpha=0.6, legend_label=name)\n",
    "    bok1a.circle(xs, data, fill_color=\"white\", size=3, color=color, alpha=1.0, legend_label=name)\n",
    "\n",
    "bok1a.circle(spec2.peaks_c2w1, spec2.y0s[spec2.peaks_c2w1], color=\"green\", fill_color=\"yellow\", size=7)\n",
    "\n",
    "bok1a.legend.location = \"top_right\"\n",
    "bok1a.legend.click_policy=\"hide\"\n",
    "\n",
    "show(bok1a)"
   ]
  },
  {
   "cell_type": "code",
   "execution_count": 7,
   "metadata": {},
   "outputs": [
    {
     "data": {
      "text/plain": [
       "<scipy.interpolate.fitpack2.UnivariateSpline at 0x7f420c315f90>"
      ]
     },
     "execution_count": 7,
     "metadata": {},
     "output_type": "execute_result"
    }
   ],
   "source": [
    "spec2.unispl"
   ]
  },
  {
   "cell_type": "code",
   "execution_count": null,
   "metadata": {},
   "outputs": [],
   "source": []
  },
  {
   "cell_type": "code",
   "execution_count": 8,
   "metadata": {},
   "outputs": [],
   "source": [
    "default_plot_width, default_plot_height = set_screen_size_by_machine()\n",
    "\n",
    "# 2020-07-11 Bokeh graph w/ 2nd grade fit coefficients\n",
    "\n",
    "bok2 = figure(\n",
    "    plot_width =default_plot_width,\n",
    "    plot_height=default_plot_height,\n",
    "    tools=\"pan,box_zoom,reset,save\",\n",
    "    y_axis_label='scale',\n",
    "    y_axis_type=\"log\",\n",
    "    y_range=[10**1, 10**5],\n",
    "    title=fn2\n",
    ")\n",
    "\n",
    "base, lower, upper = [], [], []\n",
    "\n",
    "for i, x in enumerate(list(spec2.xs)):\n",
    "    lower.append(spec2.y0s[i]-spec2.uncCounts[i])\n",
    "    upper.append(spec2.y0s[i]+spec2.uncCounts[i])\n",
    "    base.append(x)\n",
    "\n",
    "source_error = ColumnDataSource(data=dict(base=base, lower=lower, upper=upper))\n",
    "\n",
    "bok2.add_layout(\n",
    "    Whisker(source=source_error, base=\"base\", upper=\"upper\", lower=\"lower\")\n",
    ")    \n",
    "    \n",
    "bok2.circle(spec2.xs, spec2.y0s, color=\"red\",size=4)\n",
    "bok2.line(spec2.xs, spec2.y0s)\n",
    "\n",
    "show(bok2)"
   ]
  },
  {
   "cell_type": "raw",
   "metadata": {},
   "source": [
    "valid_xpks = np.asarray(xpks)[valid_peaks]\n",
    "valid_xpks"
   ]
  },
  {
   "cell_type": "raw",
   "metadata": {},
   "source": [
    "valid_ypks = np.asarray(ypks)[valid_peaks]\n",
    "valid_ypks"
   ]
  },
  {
   "cell_type": "raw",
   "metadata": {},
   "source": [
    "valid_cwtpks = np.asarray(cwtpks)[valid_peaks]\n",
    "valid_cwtpks"
   ]
  },
  {
   "cell_type": "raw",
   "metadata": {},
   "source": [
    "xs"
   ]
  },
  {
   "cell_type": "raw",
   "metadata": {},
   "source": [
    "y0s"
   ]
  },
  {
   "cell_type": "raw",
   "metadata": {},
   "source": []
  },
  {
   "cell_type": "raw",
   "metadata": {},
   "source": [
    "step2 = cwt_calc_peaks(valid_xpks, valid_ypks, valid_cwtpks, xs, y0s)"
   ]
  },
  {
   "cell_type": "raw",
   "metadata": {},
   "source": [
    "xpks[pospk_ma]\n"
   ]
  },
  {
   "cell_type": "raw",
   "metadata": {},
   "source": []
  },
  {
   "cell_type": "raw",
   "metadata": {},
   "source": [
    "(azes, bezes, centrpk, ypkregs, fwhms, gau_areas, peak_constructed_spectrum,\n",
    "           baseline_spectrum, bl_median_smoother) = step2"
   ]
  },
  {
   "cell_type": "raw",
   "metadata": {},
   "source": [
    "azes"
   ]
  },
  {
   "cell_type": "raw",
   "metadata": {},
   "source": [
    "len(azes)"
   ]
  },
  {
   "cell_type": "raw",
   "metadata": {},
   "source": [
    "bezes"
   ]
  },
  {
   "cell_type": "raw",
   "metadata": {},
   "source": [
    "centrpk"
   ]
  },
  {
   "cell_type": "raw",
   "metadata": {},
   "source": [
    "#azes, bezes, centrpk, ypkregs, fwhms, gau_areas, peak_constructed_spectrum,\n",
    "#           baseline_spectrum, bl_median_smoother) = step2"
   ]
  },
  {
   "cell_type": "raw",
   "metadata": {},
   "source": [
    "bezes[0]"
   ]
  },
  {
   "cell_type": "raw",
   "metadata": {},
   "source": [
    "gau_areas"
   ]
  },
  {
   "cell_type": "raw",
   "metadata": {},
   "source": [
    "# 2020-02-24\n",
    "# Tudo em progresso! Agora:\n",
    "# - Fazer os gr'aficos\n",
    "# - fazer em v'arias passadas o c'alculo at'e n~ao haver picos na linha-base."
   ]
  },
  {
   "cell_type": "raw",
   "metadata": {},
   "source": [
    "# Bokeh graph w/ peaks in all scales\n",
    "bokpksallscl = figure(\n",
    "   plot_width =default_plot_width,\n",
    "   plot_height=default_plot_height,\n",
    "   tools=\"pan,box_zoom,reset,save\",\n",
    "   y_axis_type=\"log\",\n",
    "   y_range=[10**1, 10**5],\n",
    "   title=fn2,\n",
    "   # y_range=[-1000.0, 1000.0],\n",
    "   x_axis_label='channels', y_axis_label='counts'\n",
    ")\n",
    "# bokpksallscl.circle(ar1[:,0], ar1[:,1], legend_label=\"cwt peaks\", color=\"navy\",size=2)\n",
    "bokpksallscl.line(xs, y0s, color=\"green\")\n",
    "bokpksallscl.line(xs, peak_constructed_spectrum, color=\"red\")\n",
    "bokpksallscl.line(xs, bl_median_smoother, color=\"orange\")\n",
    "bokpksallscl.line(xs, peak_constructed_spectrum+bl_median_smoother, color=\"blue\")\n",
    "\n",
    "# bokpksallscl.cross(pk_per_scal[ 0], y0s[pk_per_scal[ 0]]*1.01, color=\"red\",size=2)\n",
    "show(bokpksallscl)"
   ]
  },
  {
   "cell_type": "raw",
   "metadata": {},
   "source": [
    "# Bokeh graph w/ peaks in all scales\n",
    "bok2 = figure(\n",
    "   plot_width =default_plot_width,\n",
    "   plot_height=default_plot_height,\n",
    "   tools=\"pan,box_zoom,reset,save\",\n",
    "   # y_axis_type=\"log\",\n",
    "   # y_range=[10**1, 10**5],\n",
    "   title=fn2,\n",
    "   # y_range=[-1000.0, 1000.0], title=\"synth\",\n",
    "   x_axis_label='channels', y_axis_label='counts'\n",
    ")\n",
    "# bokpksallscl.circle(ar1[:,0], ar1[:,1], legend_label=\"cwt peaks\", color=\"navy\",size=2)\n",
    "# bokpksallscl.line(xs, y0s, color=\"green\")\n",
    "bok2.line(xs, peak_constructed_spectrum, color=\"red\")\n",
    "# bokpksallscl.line(xs, bl_median_smoother, color=\"cyan\")\n",
    "# bokpksallscl.line(xs, peak_constructed_spectrum+bl_median_smoother, color=\"blue\")\n",
    "\n",
    "# bokpksallscl.cross(pk_per_scal[ 0], y0s[pk_per_scal[ 0]]*1.01, color=\"red\",size=2)\n",
    "show(bok2)"
   ]
  },
  {
   "cell_type": "raw",
   "metadata": {},
   "source": [
    "# 2020-02-25 Segunda passada:\n",
    "# 2020-05-15 Por enquanto deixarei desativada; mas posso fazer manualmente, bastando rodar\n",
    "#            as duas células seguintes e repetir o trecho que se inicia logo após\n",
    "#            a determinação de valid_peaks."
   ]
  },
  {
   "cell_type": "raw",
   "metadata": {},
   "source": [
    "ret2 = cwt_complete_analysis(bl_median_smoother)\n",
    "\n",
    "(xs, y0s, ar1, lblimag1, num_feat_imag1, ridges, xpks, ypks,\n",
    " ind_ypks, retang_indicess, peaks_masks, cwtpks, nscpks) = ret2"
   ]
  },
  {
   "cell_type": "raw",
   "metadata": {},
   "source": [
    "(nscpk_ma, cwtpk_ma, pospk_ma) = peaks_masks\n",
    "valid_peaks = ~(cwtpk_ma.mask | nscpk_ma.mask | ~pospk_ma)"
   ]
  },
  {
   "cell_type": "raw",
   "metadata": {},
   "source": []
  },
  {
   "cell_type": "raw",
   "metadata": {},
   "source": []
  },
  {
   "cell_type": "raw",
   "metadata": {},
   "source": [
    "# 2020-05-17 Continuando para cada espectro. Este é agua-bruta.iec"
   ]
  },
  {
   "cell_type": "raw",
   "metadata": {},
   "source": [
    "spec2.samDesc"
   ]
  },
  {
   "cell_type": "raw",
   "metadata": {},
   "source": [
    "print(spec2.spLVTime)"
   ]
  },
  {
   "cell_type": "raw",
   "metadata": {},
   "source": [
    "print(spec2.spRLTime)"
   ]
  },
  {
   "cell_type": "raw",
   "metadata": {},
   "source": [
    "print(spec2.diahora)"
   ]
  },
  {
   "cell_type": "raw",
   "metadata": {},
   "source": []
  },
  {
   "cell_type": "raw",
   "metadata": {},
   "source": [
    "aiai = 'aiuh'"
   ]
  },
  {
   "cell_type": "raw",
   "metadata": {},
   "source": [
    "aiai = aiai[:-2]+'~'"
   ]
  },
  {
   "cell_type": "raw",
   "metadata": {},
   "source": [
    "aiai"
   ]
  },
  {
   "cell_type": "raw",
   "metadata": {},
   "source": [
    "import pickle"
   ]
  },
  {
   "cell_type": "raw",
   "metadata": {},
   "source": [
    "len(counts)"
   ]
  },
  {
   "cell_type": "raw",
   "metadata": {},
   "source": [
    "dmp_counts = pickle.dumps(counts)\n",
    "type(dmp_counts)"
   ]
  },
  {
   "cell_type": "raw",
   "metadata": {},
   "source": [
    "len(dmp_counts)"
   ]
  },
  {
   "cell_type": "raw",
   "metadata": {},
   "source": [
    "ldd_counts = pickle.loads(dmp_counts)\n",
    "print(type(ldd_counts))\n",
    "len(ldd_counts)"
   ]
  },
  {
   "cell_type": "raw",
   "metadata": {},
   "source": [
    "print(dmp_counts)"
   ]
  },
  {
   "cell_type": "raw",
   "metadata": {},
   "source": [
    "type(counts[-1])"
   ]
  },
  {
   "cell_type": "code",
   "execution_count": 9,
   "metadata": {},
   "outputs": [
    {
     "data": {
      "text/plain": [
       "2057.0"
      ]
     },
     "execution_count": 9,
     "metadata": {},
     "output_type": "execute_result"
    }
   ],
   "source": [
    "16456/8"
   ]
  },
  {
   "cell_type": "code",
   "execution_count": 10,
   "metadata": {},
   "outputs": [
    {
     "data": {
      "text/plain": [
       "int"
      ]
     },
     "execution_count": 10,
     "metadata": {},
     "output_type": "execute_result"
    }
   ],
   "source": [
    "ai = 7\n",
    "type(ai)"
   ]
  },
  {
   "cell_type": "code",
   "execution_count": 11,
   "metadata": {},
   "outputs": [
    {
     "data": {
      "text/plain": [
       "int"
      ]
     },
     "execution_count": 11,
     "metadata": {},
     "output_type": "execute_result"
    }
   ],
   "source": [
    "ai2 = 256*256\n",
    "type(ai2)"
   ]
  },
  {
   "cell_type": "code",
   "execution_count": 12,
   "metadata": {},
   "outputs": [
    {
     "data": {
      "text/plain": [
       "int"
      ]
     },
     "execution_count": 12,
     "metadata": {},
     "output_type": "execute_result"
    }
   ],
   "source": [
    "ai3 = ai2*ai2\n",
    "type(ai3)"
   ]
  },
  {
   "cell_type": "code",
   "execution_count": 13,
   "metadata": {},
   "outputs": [
    {
     "data": {
      "text/plain": [
       "int"
      ]
     },
     "execution_count": 13,
     "metadata": {},
     "output_type": "execute_result"
    }
   ],
   "source": [
    "ai4 = ai3*ai3*ai3*ai3*ai3*ai3\n",
    "type(ai4)"
   ]
  },
  {
   "cell_type": "code",
   "execution_count": 14,
   "metadata": {},
   "outputs": [
    {
     "data": {
      "text/plain": [
       "6277101735386680763835789423207666416102355444464034512896"
      ]
     },
     "execution_count": 14,
     "metadata": {},
     "output_type": "execute_result"
    }
   ],
   "source": [
    "ai4"
   ]
  },
  {
   "cell_type": "code",
   "execution_count": 15,
   "metadata": {},
   "outputs": [
    {
     "data": {
      "text/plain": [
       "481.88235294117646"
      ]
     },
     "execution_count": 15,
     "metadata": {},
     "output_type": "execute_result"
    }
   ],
   "source": [
    "8192/17"
   ]
  },
  {
   "cell_type": "code",
   "execution_count": 16,
   "metadata": {},
   "outputs": [
    {
     "data": {
      "text/plain": [
       "455.1111111111111"
      ]
     },
     "execution_count": 16,
     "metadata": {},
     "output_type": "execute_result"
    }
   ],
   "source": [
    "4096/9"
   ]
  },
  {
   "cell_type": "code",
   "execution_count": 17,
   "metadata": {},
   "outputs": [
    {
     "data": {
      "text/plain": [
       "8.192"
      ]
     },
     "execution_count": 17,
     "metadata": {},
     "output_type": "execute_result"
    }
   ],
   "source": [
    "4096/500"
   ]
  },
  {
   "cell_type": "code",
   "execution_count": 18,
   "metadata": {},
   "outputs": [
    {
     "data": {
      "text/plain": [
       "11"
      ]
     },
     "execution_count": 18,
     "metadata": {},
     "output_type": "execute_result"
    }
   ],
   "source": [
    "2*int(np.ceil(4096/1000))+1"
   ]
  },
  {
   "cell_type": "code",
   "execution_count": 19,
   "metadata": {},
   "outputs": [
    {
     "data": {
      "text/plain": [
       "19"
      ]
     },
     "execution_count": 19,
     "metadata": {},
     "output_type": "execute_result"
    }
   ],
   "source": [
    "2*int(np.ceil(8192/1000))+1"
   ]
  },
  {
   "cell_type": "code",
   "execution_count": 20,
   "metadata": {},
   "outputs": [
    {
     "data": {
      "text/plain": [
       "16.384"
      ]
     },
     "execution_count": 20,
     "metadata": {},
     "output_type": "execute_result"
    }
   ],
   "source": [
    "8192/500"
   ]
  },
  {
   "cell_type": "code",
   "execution_count": 21,
   "metadata": {},
   "outputs": [
    {
     "data": {
      "text/plain": [
       "3.0"
      ]
     },
     "execution_count": 21,
     "metadata": {},
     "output_type": "execute_result"
    }
   ],
   "source": [
    "np.trunc(3.)"
   ]
  },
  {
   "cell_type": "code",
   "execution_count": 22,
   "metadata": {},
   "outputs": [
    {
     "data": {
      "text/plain": [
       "32"
      ]
     },
     "execution_count": 22,
     "metadata": {},
     "output_type": "execute_result"
    }
   ],
   "source": [
    "2**3*4"
   ]
  },
  {
   "cell_type": "code",
   "execution_count": 23,
   "metadata": {},
   "outputs": [
    {
     "data": {
      "text/plain": [
       "40"
      ]
     },
     "execution_count": 23,
     "metadata": {},
     "output_type": "execute_result"
    }
   ],
   "source": [
    "2**3*5"
   ]
  },
  {
   "cell_type": "code",
   "execution_count": 24,
   "metadata": {},
   "outputs": [
    {
     "data": {
      "text/plain": [
       "42.870938501451725"
      ]
     },
     "execution_count": 24,
     "metadata": {},
     "output_type": "execute_result"
    }
   ],
   "source": [
    "2.0**3.1*5"
   ]
  },
  {
   "cell_type": "code",
   "execution_count": 25,
   "metadata": {},
   "outputs": [],
   "source": [
    "xdata = np.array([1.0, 2.0, 3.0, 4.0])"
   ]
  },
  {
   "cell_type": "code",
   "execution_count": 26,
   "metadata": {},
   "outputs": [],
   "source": [
    "ydata = np.array([4.0, 6.0, 8.0, 10.1])"
   ]
  },
  {
   "cell_type": "code",
   "execution_count": 27,
   "metadata": {},
   "outputs": [],
   "source": [
    "wYdata = np.array([0.1, 0.7, 0.13, 0.12])"
   ]
  },
  {
   "cell_type": "code",
   "execution_count": 28,
   "metadata": {},
   "outputs": [],
   "source": [
    "xdata = np.zeros(3)"
   ]
  },
  {
   "cell_type": "code",
   "execution_count": 29,
   "metadata": {},
   "outputs": [],
   "source": [
    "ydata = np.zeros(3)"
   ]
  },
  {
   "cell_type": "code",
   "execution_count": 30,
   "metadata": {},
   "outputs": [],
   "source": [
    "wYdata = np.zeros(3)"
   ]
  },
  {
   "cell_type": "code",
   "execution_count": 31,
   "metadata": {},
   "outputs": [],
   "source": [
    "wYdata[-3:1]=np.nan"
   ]
  },
  {
   "cell_type": "code",
   "execution_count": 32,
   "metadata": {},
   "outputs": [
    {
     "data": {
      "text/plain": [
       "array([nan,  0.,  0.])"
      ]
     },
     "execution_count": 32,
     "metadata": {},
     "output_type": "execute_result"
    }
   ],
   "source": [
    "wYdata"
   ]
  },
  {
   "cell_type": "code",
   "execution_count": 33,
   "metadata": {},
   "outputs": [
    {
     "name": "stdout",
     "output_type": "stream",
     "text": [
      "Deu ruim\n"
     ]
    }
   ],
   "source": [
    "try:\n",
    "    coeffs, covars = np.polyfit(xdata, ydata, 2, w=wYdata, cov=True)\n",
    "except LA.LinAlgError:\n",
    "    print('Deu ruim')\n",
    "else:\n",
    "    print('Zuzu bem')"
   ]
  },
  {
   "cell_type": "code",
   "execution_count": 34,
   "metadata": {},
   "outputs": [],
   "source": [
    "aaa = 1200"
   ]
  },
  {
   "cell_type": "code",
   "execution_count": 35,
   "metadata": {},
   "outputs": [
    {
     "data": {
      "text/plain": [
       "0.01823215567939546"
      ]
     },
     "execution_count": 35,
     "metadata": {},
     "output_type": "execute_result"
    }
   ],
   "source": [
    "np.log(aaa/1e3)/10"
   ]
  },
  {
   "cell_type": "code",
   "execution_count": 36,
   "metadata": {},
   "outputs": [
    {
     "data": {
      "text/plain": [
       "6"
      ]
     },
     "execution_count": 36,
     "metadata": {},
     "output_type": "execute_result"
    }
   ],
   "source": [
    "spec2.halfWin"
   ]
  },
  {
   "cell_type": "code",
   "execution_count": 37,
   "metadata": {},
   "outputs": [
    {
     "name": "stderr",
     "output_type": "stream",
     "text": [
      "/home/marcelo/anaconda3/lib/python3.7/site-packages/ipykernel_launcher.py:1: RuntimeWarning: overflow encountered in exp\n",
      "  \"\"\"Entry point for launching an IPython kernel.\n",
      "/home/marcelo/anaconda3/lib/python3.7/site-packages/ipykernel_launcher.py:1: RuntimeWarning: overflow encountered in multiply\n",
      "  \"\"\"Entry point for launching an IPython kernel.\n"
     ]
    }
   ],
   "source": [
    "c2w1     = 1e3*np.exp(spec2.c2w1*10)"
   ]
  },
  {
   "cell_type": "code",
   "execution_count": null,
   "metadata": {},
   "outputs": [],
   "source": []
  },
  {
   "cell_type": "code",
   "execution_count": null,
   "metadata": {},
   "outputs": [],
   "source": []
  },
  {
   "cell_type": "code",
   "execution_count": null,
   "metadata": {},
   "outputs": [],
   "source": []
  },
  {
   "cell_type": "code",
   "execution_count": 38,
   "metadata": {},
   "outputs": [],
   "source": [
    "# 2020-07-23 Rascunhos"
   ]
  },
  {
   "cell_type": "code",
   "execution_count": 39,
   "metadata": {},
   "outputs": [],
   "source": [
    "# for data, name, color in zip([spec2.y0s, 1e3*np.exp(-spec2.coeffs2*10), IBM, MSFT, GOOG],\n",
    "#     [\"AAPL\", \"IBM\", \"MSFT\", \"GOOG\"], Spectral4):\n",
    "#     df = pd.DataFrame(data)\n",
    "#     df['date'] = pd.to_datetime(df['date'])\n",
    "#     bok1.line(df['date'], df['close'], line_width=2, color=color, alpha=0.8, legend_label=name)"
   ]
  },
  {
   "cell_type": "raw",
   "metadata": {},
   "source": [
    "default_plot_width, default_plot_height = set_screen_size_by_machine()\n",
    "\n",
    "# 2020-07-11 Bokeh graph w/ 2nd grade fit coefficients\n",
    "\n",
    "bok1 = figure(\n",
    "    plot_width =default_plot_width,\n",
    "    plot_height=default_plot_height,\n",
    "    tools=\"pan,box_zoom,reset,save\",\n",
    "    y_axis_label='scale',\n",
    "    y_axis_type=\"log\",\n",
    "    y_range=[10**1, 10**5],\n",
    "    title=fn2\n",
    ")\n",
    "\n",
    "bok1.circle(spec2.xs, spec2.y0s, color=\"red\",size=4)\n",
    "bok1.line(spec2.xs, spec2.y0s)\n",
    "\n",
    "bok1.circle(spec2.xs, 1e3*np.exp(-spec2.coeffs2*10), color=\"green\",size=4)\n",
    "bok1.line(spec2.xs,   1e3*np.exp(-spec2.coeffs2*10), color=\"blue\")\n",
    "\n",
    "bok1.cross(spec2.xs, 1e2*np.exp( -spec2.coeffs1*10), color=\"red\",size=4)\n",
    "bok1.line(spec2.xs,  1e2*np.exp( -spec2.coeffs1*10), color=\"yellow\")\n",
    "\n",
    "bok1.square(spec2.xs, 10*np.exp(spec2.coeffs0), color=\"yellow\",size=4)\n",
    "bok1.line(spec2.xs,   10*np.exp(spec2.coeffs0), color=\"gray\")\n",
    "\n",
    "bok1.circle(spec2.xs, 10*np.exp(spec2.c2w1*30), color=\"orange\",size=4)\n",
    "bok1.line(spec2.xs,   10*np.exp(spec2.c2w1*30), color=\"green\")\n",
    "\n",
    "# bok1.line(spec2.xs,   1e2*np.exp(  -smo1*10), color=\"green\")\n",
    "# bok1.line(spec2.xs,   1e3*smo0, color=\"blue\")\n",
    "\n",
    "# bok1.line(spec2.xs,   np.exp(smo0), color=\"blue\")\n",
    "\n",
    "show(bok1)"
   ]
  }
 ],
 "metadata": {
  "kernelspec": {
   "display_name": "Python 3",
   "language": "python",
   "name": "python3"
  },
  "language_info": {
   "codemirror_mode": {
    "name": "ipython",
    "version": 3
   },
   "file_extension": ".py",
   "mimetype": "text/x-python",
   "name": "python",
   "nbconvert_exporter": "python",
   "pygments_lexer": "ipython3",
   "version": "3.7.7"
  }
 },
 "nbformat": 4,
 "nbformat_minor": 4
}
