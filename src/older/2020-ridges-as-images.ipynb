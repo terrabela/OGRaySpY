{
 "cells": [
  {
   "cell_type": "code",
   "execution_count": 1,
   "metadata": {},
   "outputs": [],
   "source": [
    "import numpy as np\n",
    "import numpy.ma as ma  # masked array\n",
    "from numpy import random\n",
    "\n",
    "from scipy.signal import (cwt, ricker, find_peaks, find_peaks_cwt, peak_widths)\n",
    "from scipy.ndimage import label, generate_binary_structure, find_objects, binary_dilation  # 2020-09-03\n",
    "\n",
    "from bokeh.plotting import figure, output_file, output_notebook, show\n",
    "from bokeh import colors\n",
    "from bokeh.palettes import Spectral6\n",
    "from bokeh.transform import linear_cmap"
   ]
  },
  {
   "cell_type": "code",
   "execution_count": 2,
   "metadata": {},
   "outputs": [],
   "source": [
    "default_plot_width =1200\n",
    "default_plot_height = 900"
   ]
  },
  {
   "cell_type": "code",
   "execution_count": 3,
   "metadata": {},
   "outputs": [],
   "source": [
    "maxX = 500\n",
    "maxY = 300\n",
    "\n",
    "nri = 60\n",
    "lengs = random.randint(100, size=nri)\n",
    "\n",
    "walk = {\n",
    "    0: ( 0, -1),\n",
    "    1: ( 1, -1),\n",
    "    2: ( 1,  0),\n",
    "    3: ( 1,  1),\n",
    "    4: ( 0,  1),\n",
    "}\n",
    "\n",
    "ris = []\n",
    "for i in range(nri):\n",
    "    ri = np.asarray([random.randint(maxX), random.randint(maxY)])\n",
    "    ris.append(ri)\n",
    "    for j in range(lengs[i]):\n",
    "        ri = ri + walk[random.randint(5)]\n",
    "        if (ri[0] in range(0,maxX)) and (ri[1] in range(0,maxY)):\n",
    "            ris.append(ri)\n",
    "ris = np.asarray(ris)"
   ]
  },
  {
   "cell_type": "code",
   "execution_count": 4,
   "metadata": {},
   "outputs": [],
   "source": [
    "# 2020-09-02 Caminho aleatório\n",
    "fig1 = figure(\n",
    "   title = 'Caminhos aleatórios',\n",
    "   plot_width =default_plot_width,\n",
    "   plot_height=default_plot_height,\n",
    "   tools=\"pan,box_zoom,reset,save\",\n",
    "   x_axis_label='channels', y_axis_label='counts'\n",
    ")\n",
    "fig1.circle(ris[:,0], ris[:,1], legend_label=\"cwt peaks\", color=\"navy\",size=2)\n",
    "show(fig1)"
   ]
  },
  {
   "cell_type": "code",
   "execution_count": 5,
   "metadata": {},
   "outputs": [],
   "source": [
    "# Agora, criacao e processamento da imagem:"
   ]
  },
  {
   "cell_type": "code",
   "execution_count": 6,
   "metadata": {},
   "outputs": [],
   "source": [
    "ima1 = np.zeros((maxX,maxY))"
   ]
  },
  {
   "cell_type": "code",
   "execution_count": 7,
   "metadata": {},
   "outputs": [
    {
     "data": {
      "text/plain": [
       "(500, 300)"
      ]
     },
     "execution_count": 7,
     "metadata": {},
     "output_type": "execute_result"
    }
   ],
   "source": [
    "np.shape(ima1)"
   ]
  },
  {
   "cell_type": "code",
   "execution_count": 8,
   "metadata": {},
   "outputs": [
    {
     "data": {
      "text/plain": [
       "array([[0., 0., 0., ..., 0., 0., 0.],\n",
       "       [0., 0., 0., ..., 0., 0., 0.],\n",
       "       [0., 0., 0., ..., 0., 0., 0.],\n",
       "       ...,\n",
       "       [0., 0., 0., ..., 0., 0., 0.],\n",
       "       [0., 0., 0., ..., 0., 0., 0.],\n",
       "       [0., 0., 0., ..., 0., 0., 0.]])"
      ]
     },
     "execution_count": 8,
     "metadata": {},
     "output_type": "execute_result"
    }
   ],
   "source": [
    "for ri in ris:\n",
    "    ima1[ri[0],ri[1]]=1\n",
    "ima1"
   ]
  },
  {
   "cell_type": "code",
   "execution_count": null,
   "metadata": {},
   "outputs": [],
   "source": []
  },
  {
   "cell_type": "code",
   "execution_count": 9,
   "metadata": {},
   "outputs": [],
   "source": [
    "# 2020-09-02 Refazendo o plot com os objetos identificados com stru22 (=adjacentes e na diagonal imediata)"
   ]
  },
  {
   "cell_type": "code",
   "execution_count": 10,
   "metadata": {},
   "outputs": [
    {
     "data": {
      "text/plain": [
       "array([[ True,  True,  True],\n",
       "       [ True,  True,  True],\n",
       "       [ True,  True,  True]])"
      ]
     },
     "execution_count": 10,
     "metadata": {},
     "output_type": "execute_result"
    }
   ],
   "source": [
    "stru22 = generate_binary_structure(2,2)\n",
    "stru22"
   ]
  },
  {
   "cell_type": "code",
   "execution_count": 11,
   "metadata": {},
   "outputs": [
    {
     "data": {
      "text/plain": [
       "58"
      ]
     },
     "execution_count": 11,
     "metadata": {},
     "output_type": "execute_result"
    }
   ],
   "source": [
    "lblimag22, num_feat_imag22 = label(ima1,stru22)\n",
    "lblimag22, num_feat_imag22\n",
    "objs = find_objects(lblimag22)\n",
    "ridges_rectangles = [lblimag22[loc] for loc in objs]\n",
    "alltops = [i[1].stop-0.5 for i in objs]\n",
    "allbottoms = [i[1].start-0.5 for i in objs]\n",
    "alllefts = [i[0].start-0.5 for i in objs]\n",
    "allrights = [i[0].stop-0.5 for i in objs]\n",
    "len(objs)"
   ]
  },
  {
   "cell_type": "code",
   "execution_count": 12,
   "metadata": {},
   "outputs": [],
   "source": [
    "# https://stackoverflow.com/questions/3941517/converting-list-to-args-when-calling-function#3941529\n",
    "# 2020-09-02 Python: * faz função ver lista comum como lista de argumentos\n",
    "randcolors = [[colors.RGB(*random.randint(16,240,3))] for i in range(len(objs))]"
   ]
  },
  {
   "cell_type": "code",
   "execution_count": 13,
   "metadata": {},
   "outputs": [],
   "source": [
    "# 2020-09-02 Caminhos aleatórios identificados (porém, com superposição)\n",
    "fig2 = figure(\n",
    "   title='Figura 2: Agrupamentos identificados',\n",
    "   plot_width =default_plot_width,\n",
    "   plot_height=default_plot_height,\n",
    "   tools=\"pan,box_zoom,reset,save\",\n",
    "   x_axis_label='channels', y_axis_label='counts'\n",
    ")\n",
    "fig2.circle(ris[:,0], ris[:,1], legend_label=\"positions\", color=\"navy\",size=2)\n",
    "fig2.quad(top=alltops, bottom=allbottoms, left=alllefts, right=allrights, color=randcolors, fill_alpha=0.5)\n",
    "show(fig2)"
   ]
  },
  {
   "cell_type": "code",
   "execution_count": null,
   "metadata": {},
   "outputs": [],
   "source": []
  },
  {
   "cell_type": "code",
   "execution_count": 14,
   "metadata": {},
   "outputs": [],
   "source": [
    "# 2020-09-03 Refazendo o plot com os objetos identificados com stru20 (=só adjacentes)"
   ]
  },
  {
   "cell_type": "code",
   "execution_count": 15,
   "metadata": {},
   "outputs": [
    {
     "data": {
      "text/plain": [
       "array([[False,  True, False],\n",
       "       [ True,  True,  True],\n",
       "       [False,  True, False]])"
      ]
     },
     "execution_count": 15,
     "metadata": {},
     "output_type": "execute_result"
    }
   ],
   "source": [
    "stru20 = generate_binary_structure(2,0)\n",
    "stru20"
   ]
  },
  {
   "cell_type": "code",
   "execution_count": 16,
   "metadata": {},
   "outputs": [
    {
     "data": {
      "text/plain": [
       "813"
      ]
     },
     "execution_count": 16,
     "metadata": {},
     "output_type": "execute_result"
    }
   ],
   "source": [
    "lblimag20, num_feat_imag20 = label(ima1,stru20)\n",
    "lblimag20, num_feat_imag20\n",
    "objs = find_objects(lblimag20)\n",
    "ridges_rectangles = [lblimag20[loc] for loc in objs]\n",
    "alltops = [i[1].stop-0.5 for i in objs]\n",
    "allbottoms = [i[1].start-0.5 for i in objs]\n",
    "alllefts = [i[0].start-0.5 for i in objs]\n",
    "allrights = [i[0].stop-0.5 for i in objs]\n",
    "len(objs)"
   ]
  },
  {
   "cell_type": "code",
   "execution_count": 17,
   "metadata": {},
   "outputs": [],
   "source": [
    "# https://stackoverflow.com/questions/3941517/converting-list-to-args-when-calling-function#3941529\n",
    "# 2020-09-02 Python: * faz função ver lista comum como lista de argumentos\n",
    "randcolors = [[colors.RGB(*random.randint(16,240,3))] for i in range(len(objs))]"
   ]
  },
  {
   "cell_type": "code",
   "execution_count": 18,
   "metadata": {},
   "outputs": [],
   "source": [
    "# 2020-09-02 Caminhos aleatórios identificados (porém, com superposição)\n",
    "fig3 = figure(\n",
    "   title='Figura 3: Agrupamentos identificados',\n",
    "   plot_width =default_plot_width,\n",
    "   plot_height=default_plot_height,\n",
    "   tools=\"pan,box_zoom,reset,save\",\n",
    "   x_axis_label='channels', y_axis_label='counts'\n",
    ")\n",
    "fig3.circle(ris[:,0], ris[:,1], legend_label=\"positions\", color=\"navy\",size=2)\n",
    "fig3.quad(top=alltops, bottom=allbottoms, left=alllefts, right=allrights, color=randcolors, fill_alpha=0.5)\n",
    "show(fig3)"
   ]
  },
  {
   "cell_type": "code",
   "execution_count": null,
   "metadata": {},
   "outputs": [],
   "source": []
  }
 ],
 "metadata": {
  "kernelspec": {
   "display_name": "Python 3",
   "language": "python",
   "name": "python3"
  },
  "language_info": {
   "codemirror_mode": {
    "name": "ipython",
    "version": 3
   },
   "file_extension": ".py",
   "mimetype": "text/x-python",
   "name": "python",
   "nbconvert_exporter": "python",
   "pygments_lexer": "ipython3",
   "version": "3.7.7"
  }
 },
 "nbformat": 4,
 "nbformat_minor": 4
}
