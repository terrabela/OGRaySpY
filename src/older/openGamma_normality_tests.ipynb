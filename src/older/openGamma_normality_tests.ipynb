{
 "cells": [
  {
   "cell_type": "code",
   "execution_count": 1,
   "metadata": {},
   "outputs": [],
   "source": [
    "#!/usr/bin/env python3\n",
    "# -*- coding: utf-8 -*-\n",
    "\"\"\"\n",
    "Created on Sat Feb 22 10:40:56 2020\n",
    "\n",
    "@author: marcelo\n",
    "\n",
    "ar1:\n",
    "- array (nx,2), onde:\n",
    "    nx: n'umero total de picos em todas as escalas\n",
    "    x: 'indice do pico\n",
    "    ar1[x,0]: canal inteiro do pico\n",
    "    ar1[x,1]: valor da escala\n",
    "    \n",
    "xpk:\n",
    "- lista (nx), onde:\n",
    "    nx: numero de picos efetivos ap'os an'alise\n",
    "    x: canal inteiro do pico\n",
    "    \n",
    "ypk:\n",
    "- lista (nx), onde:\n",
    "    nx: numero de picos efetivos ap'os an'alise (= nx(xpk))\n",
    "    x: valor da escala\n",
    "\n",
    "\"\"\"\n",
    "\n",
    "import numpy as np\n",
    "import numpy.ma as ma  # masked array\n",
    "import scipy.stats as sta # statistics\n",
    "from numpy import linalg as LA\n",
    "\n",
    "from spectrum_analysis import (cwt_complete_analysis, gaussian_complete_analysis, cwt_calc_peaks)\n",
    "from gamma_spectrum_class import (Spec)\n",
    "\n",
    "from machine_selection import set_screen_size_by_machine\n",
    "from bokeh.models import ColumnDataSource, Whisker, Label\n",
    "from bokeh.palettes import Paired6\n",
    "from bokeh.plotting import figure, output_file, output_notebook, show\n",
    "from bokeh.layouts import gridplot, column, row\n",
    "\n",
    "from bokeh import palettes\n",
    "\n",
    "# 2020-08-22 Para rodar curve_fit\n",
    "from gauss_funcs import func_example, func_example_fixed_b\n",
    "# 2020-09-03 Desativei por enquanto\n",
    "# import matplotlib.pyplot as plt\n",
    "from scipy.optimize import curve_fit\n",
    "# 2020-08-30\n",
    "from scipy.interpolate import splrep, splev\n",
    "\n",
    "from scipy.ndimage import label, generate_binary_structure, find_objects, binary_dilation  # 2020-09-03\n",
    "from numpy.polynomial import Polynomial as P # 2020-09-06 Esta é a nova classe recomendada \n",
    "\n",
    "# 2020-09-11\n",
    "from opengamma_searchfuncs import selectOverlappedPks"
   ]
  },
  {
   "cell_type": "raw",
   "metadata": {},
   "source": [
    "# 2020-09-06 Bokeh graph 5\n",
    "default_plot_width, default_plot_height = set_screen_size_by_machine()\n",
    "tools='pan,xwheel_zoom,xbox_select,reset'\n",
    "boka = figure(\n",
    "    plot_width =default_plot_width,\n",
    "    # plot_height=300,\n",
    "    plot_height=default_plot_height,\n",
    "    y_axis_type=\"log\",\n",
    "    tools=tools\n",
    ")\n",
    "boka.circle(spec2.xs, spec2.y0s, color=\"red\",size=2)\n",
    "boka.line(spec2.xs, blineQuaPerc, color=\"orange\")\n",
    "p = gridplot([boka], ncols=1)\n",
    "show(p)"
   ]
  },
  {
   "cell_type": "raw",
   "metadata": {},
   "source": [
    "# 2020-09-06 Bokeh graph 6\n",
    "default_plot_width, default_plot_height = set_screen_size_by_machine()\n",
    "tools='pan,xwheel_zoom,xbox_select,reset'\n",
    "boka = figure(\n",
    "    plot_width =default_plot_width,\n",
    "    # plot_height=300,\n",
    "    plot_height=default_plot_height,\n",
    "    y_axis_type=\"log\",\n",
    "    tools=tools\n",
    ")\n",
    "boka.circle(spec2.xs, spec2.y0s, color=\"red\",size=2)\n",
    "boka.line(spec2.xs, blineLinPerc, color=\"blue\")\n",
    "p = gridplot([boka], ncols=1)\n",
    "show(p)"
   ]
  },
  {
   "cell_type": "raw",
   "metadata": {},
   "source": [
    "# 2020-09-06 Bokeh graph 7\n",
    "default_plot_width, default_plot_height = set_screen_size_by_machine()\n",
    "tools='pan,xwheel_zoom,xbox_select,reset'\n",
    "boka = figure(\n",
    "    plot_width =default_plot_width,\n",
    "    # plot_height=300,\n",
    "    plot_height=default_plot_height,\n",
    "    y_axis_type=\"log\",\n",
    "    tools=tools\n",
    ")\n",
    "boka.circle(spec2.xs, spec2.y0s, color=\"red\",size=2)\n",
    "boka.line(spec2.xs, blineConPerc, color=\"green\")\n",
    "p = gridplot([boka], ncols=1)\n",
    "show(p)"
   ]
  },
  {
   "cell_type": "code",
   "execution_count": null,
   "metadata": {},
   "outputs": [],
   "source": []
  },
  {
   "cell_type": "code",
   "execution_count": 3,
   "metadata": {},
   "outputs": [],
   "source": [
    "# 2020-09-12 Vou mudar hWin de 25 para 15 para testes de normalidade\n",
    "hWin=15"
   ]
  },
  {
   "cell_type": "code",
   "execution_count": 6,
   "metadata": {},
   "outputs": [],
   "source": [
    "nChIn = 100\n",
    "nChFi = 4000\n",
    "sli = slice(nChIn, nChFi)"
   ]
  },
  {
   "cell_type": "code",
   "execution_count": null,
   "metadata": {},
   "outputs": [],
   "source": []
  },
  {
   "cell_type": "code",
   "execution_count": null,
   "metadata": {},
   "outputs": [],
   "source": []
  },
  {
   "cell_type": "code",
   "execution_count": null,
   "metadata": {},
   "outputs": [],
   "source": []
  },
  {
   "cell_type": "code",
   "execution_count": null,
   "metadata": {},
   "outputs": [],
   "source": []
  },
  {
   "cell_type": "code",
   "execution_count": null,
   "metadata": {},
   "outputs": [],
   "source": []
  },
  {
   "cell_type": "code",
   "execution_count": null,
   "metadata": {},
   "outputs": [],
   "source": []
  },
  {
   "cell_type": "code",
   "execution_count": 7,
   "metadata": {},
   "outputs": [
    {
     "ename": "NameError",
     "evalue": "name 'spec2' is not defined",
     "output_type": "error",
     "traceback": [
      "\u001b[0;31m---------------------------------------------------------------------------\u001b[0m",
      "\u001b[0;31mNameError\u001b[0m                                 Traceback (most recent call last)",
      "\u001b[0;32m<ipython-input-7-08a8a36dd4aa>\u001b[0m in \u001b[0;36m<module>\u001b[0;34m\u001b[0m\n\u001b[0;32m----> 1\u001b[0;31m \u001b[0mx0s\u001b[0m \u001b[0;34m=\u001b[0m \u001b[0mspec2\u001b[0m\u001b[0;34m.\u001b[0m\u001b[0mxs\u001b[0m\u001b[0;34m\u001b[0m\u001b[0;34m\u001b[0m\u001b[0m\n\u001b[0m\u001b[1;32m      2\u001b[0m \u001b[0my0s\u001b[0m \u001b[0;34m=\u001b[0m \u001b[0mspec2\u001b[0m\u001b[0;34m.\u001b[0m\u001b[0my0s\u001b[0m\u001b[0;34m\u001b[0m\u001b[0;34m\u001b[0m\u001b[0m\n",
      "\u001b[0;31mNameError\u001b[0m: name 'spec2' is not defined"
     ]
    }
   ],
   "source": [
    "x0s = spec2.xs\n",
    "y0s = spec2.y0s"
   ]
  },
  {
   "cell_type": "code",
   "execution_count": null,
   "metadata": {},
   "outputs": [],
   "source": [
    "s2k2 = np.zeros(nChPart)\n",
    "skew = np.zeros(nChPart)\n",
    "pvalskew = np.zeros(nChPart)\n",
    "kurt = np.zeros(nChPart)\n",
    "pvalkurt = np.zeros(nChPart)\n",
    "pvalue = np.zeros(nChPart)\n",
    "for ch in range(nChIn+hWin, nChFi-hWin):\n",
    "    skew[ch], pvalskew[ch] = sta.skewtest(y0s[ch-hWin:ch+hWin+1])\n",
    "    kurt[ch], pvalkurt[ch] = sta.kurtosistest(y0s[ch-hWin:ch+hWin+1])\n",
    "    s2k2[ch], pvalue[ch] = sta.normaltest(y0s[ch-hWin:ch+hWin+1])"
   ]
  },
  {
   "cell_type": "code",
   "execution_count": null,
   "metadata": {},
   "outputs": [],
   "source": [
    "# 2020-09-12 Bokeh graph\n",
    "# Teste de normalidade\n",
    "\n",
    "default_plot_width, default_plot_height = set_screen_size_by_machine()\n",
    "tools='pan,xwheel_zoom,xbox_select,reset'\n",
    "boka = figure(\n",
    "    plot_width =default_plot_width,\n",
    "    plot_height=default_plot_height,\n",
    "    y_axis_type=\"log\",\n",
    "    tools=tools\n",
    ")\n",
    "\n",
    "boka.circle(x0s[sli], y0s[sli], color='blue',size=1.5)\n",
    "boka.line(x0s[sli], y0s[sli], color='green')\n",
    "boka.line(x0s[sli], s2k2[sli], color='cyan')\n",
    "boka.line(x0s[sli], 1.0e6 * pvalue[sli], color='orange')\n",
    "\n",
    "# set up layout\n",
    "p = gridplot([boka], ncols=1)\n",
    "show(p)"
   ]
  },
  {
   "cell_type": "code",
   "execution_count": null,
   "metadata": {},
   "outputs": [],
   "source": [
    "# 2020-09-12 Bokeh graph\n",
    "# Teste de normalidade: skewness\n",
    "\n",
    "default_plot_width, default_plot_height = set_screen_size_by_machine()\n",
    "tools='pan,xwheel_zoom,xbox_select,reset'\n",
    "boka = figure(\n",
    "    plot_width =default_plot_width,\n",
    "    plot_height=default_plot_height,\n",
    "    y_axis_type=\"log\",\n",
    "    tools=tools\n",
    ")\n",
    "\n",
    "boka.circle(x0s[sli], y0s[sli], color='blue',size=1.5)\n",
    "boka.line(x0s[sli], y0s[sli], color='green')\n",
    "boka.line(x0s[sli], skew[sli], color='cyan')\n",
    "boka.line(x0s[sli], 1.0e6 * pvalskew[sli], color='orange')\n",
    "\n",
    "# set up layout\n",
    "p = gridplot([boka], ncols=1)\n",
    "show(p)"
   ]
  },
  {
   "cell_type": "code",
   "execution_count": null,
   "metadata": {},
   "outputs": [],
   "source": [
    "# 2020-09-12 Bokeh graph\n",
    "# Teste de normalidade: kurtosis\n",
    "\n",
    "default_plot_width, default_plot_height = set_screen_size_by_machine()\n",
    "tools='pan,xwheel_zoom,xbox_select,reset'\n",
    "boka = figure(\n",
    "    plot_width =default_plot_width,\n",
    "    plot_height=default_plot_height,\n",
    "    y_axis_type=\"log\",\n",
    "    tools=tools\n",
    ")\n",
    "\n",
    "boka.circle(x0s[sli], y0s[sli], color='blue',size=1.5)\n",
    "boka.line(x0s[sli], y0s[sli], color='green')\n",
    "boka.line(x0s[sli], kurt[sli], color='cyan')\n",
    "boka.line(x0s[sli], 1.0e6 * pvalkurt[sli], color='orange')\n",
    "\n",
    "# set up layout\n",
    "p = gridplot([boka], ncols=1)\n",
    "show(p)"
   ]
  },
  {
   "cell_type": "code",
   "execution_count": null,
   "metadata": {},
   "outputs": [],
   "source": []
  },
  {
   "cell_type": "code",
   "execution_count": null,
   "metadata": {},
   "outputs": [],
   "source": []
  },
  {
   "cell_type": "code",
   "execution_count": null,
   "metadata": {},
   "outputs": [],
   "source": [
    "# 2020-08-15 AGORA interpretar os coefs. do ajuste gaussiano linearizado."
   ]
  },
  {
   "cell_type": "code",
   "execution_count": null,
   "metadata": {},
   "outputs": [],
   "source": [
    "# O vértice da parábola tem coord xV = -b/2a, y = c - b^2/4a.\n",
    "# O fwhm será 2 delta x, onde delta x é x(H/2)-x(vertice)\n",
    "# Usando a função quadrática inversa, será raiz(b^2) etc\n",
    "\n",
    "# Os canais centroides e as alturas serão\n",
    "chCtroids = np.zeros(nPks)\n",
    "heights = np.zeros(nPks)\n",
    "chFwhms = np.zeros(nPks)\n",
    "for iPk in range(nPks):\n",
    "    a = coeffs_pks[iPk,0]\n",
    "    b = coeffs_pks[iPk,1]\n",
    "    c = coeffs_pks[iPk,2]\n",
    "    chCtroids[iPk] = -b / (2*a)\n",
    "    heights[iPk] = np.exp( c - b**2 / (4*a))\n",
    "    # Isso a seguir funciona mas é horrível...\n",
    "    chFwhms[iPk] = np.sqrt( b**2 - 4*a*( c - np.log(heights[iPk]/2) ) ) / a\n",
    "enCtroids = np.polyval(spec2.coeffs_ChEn, chCtroids)\n",
    "print(chCtroids)\n",
    "print(enCtroids)\n",
    "print(heights)\n",
    "print(chFwhms)"
   ]
  },
  {
   "cell_type": "code",
   "execution_count": null,
   "metadata": {},
   "outputs": [],
   "source": [
    "# Perfeito!!!"
   ]
  },
  {
   "cell_type": "code",
   "execution_count": null,
   "metadata": {},
   "outputs": [],
   "source": [
    "c"
   ]
  },
  {
   "cell_type": "code",
   "execution_count": null,
   "metadata": {},
   "outputs": [],
   "source": []
  },
  {
   "cell_type": "code",
   "execution_count": null,
   "metadata": {},
   "outputs": [],
   "source": [
    "2020-09-06 PAREI AQIOOOOOO!!!!!!!!"
   ]
  },
  {
   "cell_type": "code",
   "execution_count": null,
   "metadata": {},
   "outputs": [],
   "source": [
    "# Gr'afico do ajuste:"
   ]
  },
  {
   "cell_type": "code",
   "execution_count": null,
   "metadata": {},
   "outputs": [],
   "source": []
  },
  {
   "cell_type": "code",
   "execution_count": null,
   "metadata": {},
   "outputs": [],
   "source": [
    "xnew_pks = np.zeros((nPks,130))\n",
    "ynew_pks = np.zeros((nPks,130))\n",
    "enNew_pks = np.zeros((nPks,130))\n",
    "for iPk in range(nPks):\n",
    "    xnew_pks[iPk] = np.linspace(pksLimits[iPk,0]+3, pksLimits[iPk,1]-3, num=130)\n",
    "    ynew_pks[iPk] = np.exp(np.polyval(coeffs_pks[iPk], xnew_pks[iPk]))\n",
    "    enNew_pks[iPk] = np.polyval(spec2.coeffs_ChEn, xnew_pks[iPk])"
   ]
  },
  {
   "cell_type": "code",
   "execution_count": null,
   "metadata": {},
   "outputs": [],
   "source": [
    "xnew_pks[0]"
   ]
  },
  {
   "cell_type": "raw",
   "metadata": {},
   "source": [
    "# Atributos possíveis para os eixos:\n",
    "\n",
    "AttributeError: unexpected attribute 'font_size' to LinearAxis, possible attributes are axis_label, axis_label_standoff, axis_label_text_align, axis_label_text_alpha, axis_label_text_baseline, axis_label_text_color, axis_label_text_font, axis_label_text_font_size, axis_label_text_font_style, axis_label_text_line_height, axis_line_alpha, axis_line_cap, axis_line_color, axis_line_dash, axis_line_dash_offset, axis_line_join, axis_line_width, bounds, fixed_location, formatter, js_event_callbacks, js_property_callbacks, level, major_label_orientation, major_label_overrides, major_label_standoff, major_label_text_align, major_label_text_alpha, major_label_text_baseline, major_label_text_color, major_label_text_font, major_label_text_font_size, major_label_text_font_style, major_label_text_line_height, major_tick_in, major_tick_line_alpha, major_tick_line_cap, major_tick_line_color, major_tick_line_dash, major_tick_line_dash_offset, major_tick_line_join, major_tick_line_width, major_tick_out, minor_tick_in, minor_tick_line_alpha, minor_tick_line_cap, minor_tick_line_color, minor_tick_line_dash, minor_tick_line_dash_offset, minor_tick_line_join, minor_tick_line_width, minor_tick_out, name, subscribed_events, tags, ticker, visible, x_range_name or y_range_name"
   ]
  },
  {
   "cell_type": "code",
   "execution_count": null,
   "metadata": {},
   "outputs": [],
   "source": [
    "# PAREI AQUI a parte das paletas gr'aficas  2020-ago-12"
   ]
  },
  {
   "cell_type": "code",
   "execution_count": null,
   "metadata": {},
   "outputs": [],
   "source": [
    "Paired6"
   ]
  },
  {
   "cell_type": "code",
   "execution_count": null,
   "metadata": {},
   "outputs": [],
   "source": [
    "Pretos = ('#a6cee3', '#1f78b4', '#b2df8a', '#a6cee3', '#a6cee3', '#a6cee3')"
   ]
  },
  {
   "cell_type": "code",
   "execution_count": null,
   "metadata": {},
   "outputs": [],
   "source": [
    "base, lower, upper = [], [], []\n",
    "\n",
    "for i, x in enumerate(list(spec2.xs)):\n",
    "    lower.append(spec2.y0s[i]-spec2.uncCounts[i])\n",
    "    upper.append(spec2.y0s[i]+spec2.uncCounts[i])\n",
    "    base.append(x)\n",
    "\n",
    "source_error = ColumnDataSource(data=dict(base=base, lower=lower, upper=upper))\n",
    "\n",
    "# Para nao cortar o numero da escala y:\n",
    "yrange [1] = 1.5e6\n",
    "\n",
    "bok1z = figure(\n",
    "    plot_width = 900,\n",
    "    # plot_width =default_plot_width,\n",
    "    plot_height=default_plot_height,\n",
    "    tools=\"pan,box_zoom,reset,save\",\n",
    "    y_axis_type=\"log\",\n",
    "    x_range=[22,39],\n",
    "    y_range=yrange,\n",
    "#    title=fn2\n",
    ")\n",
    "# bok1z.title.text = 'Click on legend entries to hide the corresponding lines'\n",
    "bok1z.xaxis.axis_label = 'Energy (keV)'\n",
    "bok1z.xaxis.axis_label_text_font_size = '18pt'\n",
    "bok1z.xaxis.major_label_text_font_size = '16pt'\n",
    "\n",
    "bok1z.yaxis.axis_label = 'Counts'\n",
    "bok1z.yaxis.axis_label_text_font_size = '18pt'\n",
    "bok1z.yaxis.major_label_text_font_size = '16pt'\n",
    "\n",
    "base, lower, upper = [], [], []\n",
    "for i, x in enumerate(list(ens)):\n",
    "    lower.append(ys[i]-uncys[i])\n",
    "    upper.append(ys[i]+uncys[i])\n",
    "    base.append(x)\n",
    "source_error = ColumnDataSource(data=dict(base=base, lower=lower, upper=upper))\n",
    "\n",
    "bok1z.circle(ens, ys, size=3, color='navy', alpha=1.0, legend_label='ys')\n",
    "bok1z.line(ensnew, ynew, line_width=0.7, color='red', alpha=0.9, legend_label='gross')\n",
    "bok1z.line(ens, contin, line_width=0.4, color='green', alpha=0.8, legend_label='contin')\n",
    "bok1z.square(ens, yNets, size=7, line_color='navy', fill_color='orange', alpha=0.6, legend_label='net')\n",
    "bok1z.add_layout(\n",
    "    Whisker(source=source_error, base=\"base\", upper=\"upper\", lower=\"lower\")\n",
    ") \n",
    "\n",
    "bok1z.legend.location = \"top_right\"\n",
    "bok1z.legend.click_policy=\"hide\"\n",
    "\n",
    "bok1z.multi_line(list(enNew_pks), list(ynew_pks), line_width=0.3, color='blue', alpha=0.9, legend_label='pks')\n",
    "\n",
    "mytext = Label(x=27.7, y=6.0e5, text='27 keV', text_font_size='18pt')\n",
    "bok1z.add_layout(mytext)\n",
    "\n",
    "mytext = Label(x=31.3, y=1.3e5, text='31 keV', text_font_size='18pt')\n",
    "bok1z.add_layout(mytext)\n",
    "\n",
    "mytext = Label(x=35.8, y=4.0e4, text='35 keV', text_font_size='18pt')\n",
    "bok1z.add_layout(mytext)\n",
    "\n",
    "show(bok1z)"
   ]
  },
  {
   "cell_type": "code",
   "execution_count": null,
   "metadata": {},
   "outputs": [],
   "source": [
    "enNew_pks.shape"
   ]
  },
  {
   "cell_type": "code",
   "execution_count": null,
   "metadata": {},
   "outputs": [],
   "source": [
    "# 2020-07-11 Bokeh graph w/ 2nd grade fit coefficients\n",
    "\n",
    "uncys = np.sqrt(ys)\n",
    "\n",
    "bokzz = figure(\n",
    "    plot_width =default_plot_width,\n",
    "    plot_height=default_plot_height,\n",
    "    tools=\"pan,box_zoom,reset,save\",\n",
    "    y_axis_type=\"log\",\n",
    "    x_range=[20,40],\n",
    "    y_range=yrange,\n",
    ")\n",
    "\n",
    "bokzz.xaxis.axis_label = 'Energy (keV)'\n",
    "bokzz.xaxis.axis_label_text_font_size = '16pt'\n",
    "bokzz.xaxis.major_label_text_font_size = '14pt'\n",
    "\n",
    "bokzz.yaxis.axis_label = 'Counts'\n",
    "bokzz.yaxis.axis_label_text_font_size = '16pt'\n",
    "bokzz.yaxis.major_label_text_font_size = '14pt'\n",
    "\n",
    "base, lower, upper = [], [], []\n",
    "\n",
    "for i, x in enumerate(list(ens)):\n",
    "    lower.append(ys[i]-uncys[i])\n",
    "    upper.append(ys[i]+uncys[i])\n",
    "    base.append(x)\n",
    "\n",
    "source_error = ColumnDataSource(data=dict(base=base, lower=lower, upper=upper))\n",
    "\n",
    "bokzz.add_layout(\n",
    "    Whisker(source=source_error, base=\"base\", upper=\"upper\", lower=\"lower\")\n",
    ")    \n",
    "    \n",
    "bokzz.circle(spec2.xs, spec2.y0s, color=\"red\",size=4)\n",
    "bokzz.line(spec2.xs, spec2.y0s)\n",
    "\n",
    "show(bokzz)"
   ]
  },
  {
   "cell_type": "code",
   "execution_count": null,
   "metadata": {},
   "outputs": [],
   "source": [
    "import pyplot as plt"
   ]
  },
  {
   "cell_type": "code",
   "execution_count": null,
   "metadata": {},
   "outputs": [],
   "source": [
    "xdata = np.linspace(0, 4, 50)\n",
    "y = func_example(xdata, 2.5, 1.3, 0.5)\n",
    "np.random.seed(1729)\n",
    "y_noise = 0.2 * np.random.normal(size=xdata.size)\n",
    "ydata = y + y_noise\n",
    "plt.plot(xdata, ydata, 'b-', label='data')\n",
    "popt, pcov = curve_fit(func_example, xdata, ydata)\n",
    "popt\n",
    "\n",
    "plt.plot(xdata, func_example(xdata, *popt), 'r-',\n",
    "         label='fit: a=%5.3f, b=%5.3f, c=%5.3f' % tuple(popt))\n",
    "#popt, pcov = curve_fit(func_example, xdata, ydata, bounds=(0, [3., 1., 0.5]))\n",
    "popt, pcov = curve_fit(func_example, xdata, ydata, bounds=([3., 1., 0.5], [3.0001, 1.0001, 0.5001]))\n",
    "popt\n",
    "\n",
    "plt.plot(xdata, func_example(xdata, *popt), 'g--',\n",
    "         label='fit: a=%5.3f, b=%5.3f, c=%5.3f' % tuple(popt))\n",
    "\n",
    "plt.xlabel('x')\n",
    "plt.ylabel('y')\n",
    "plt.legend()\n",
    "plt.show()"
   ]
  },
  {
   "cell_type": "code",
   "execution_count": null,
   "metadata": {},
   "outputs": [],
   "source": [
    "xdata = np.linspace(0, 4, 50)\n",
    "y = func_example(xdata, 2.5, 1.3, 0.5)\n",
    "np.random.seed(1729)\n",
    "y_noise = 0.2 * np.random.normal(size=xdata.size)\n",
    "ydata = y + y_noise\n",
    "plt.plot(xdata, ydata, 'b-', label='data')\n",
    "popt, pcov = curve_fit(func_example, xdata, ydata)\n",
    "popt\n",
    "\n",
    "plt.plot(xdata, func_example(xdata, *popt), 'r-',\n",
    "         label='fit: a=%5.3f, b=%5.3f, c=%5.3f' % tuple(popt))\n",
    "popt, pcov = curve_fit(func_example, xdata, ydata, bounds=(0, [3., 1., 0.5]))\n",
    "# popt, pcov = curve_fit(func_example, xdata, ydata, bounds=([3., 1., 0.5], [3.0001, 1.0001, 0.5001]))\n",
    "popt\n",
    "\n",
    "plt.plot(xdata, func_example(xdata, *popt), 'g--',\n",
    "         label='fit: a=%5.3f, b=%5.3f, c=%5.3f' % tuple(popt))\n",
    "\n",
    "plt.xlabel('x')\n",
    "plt.ylabel('y')\n",
    "plt.legend()\n",
    "plt.show()"
   ]
  },
  {
   "cell_type": "code",
   "execution_count": null,
   "metadata": {},
   "outputs": [],
   "source": [
    "xdata = np.linspace(0, 4, 50)\n",
    "y = func_example(xdata, 2.5, 1.3, 0.5)\n",
    "np.random.seed(1729)\n",
    "y_noise = 0.2 * np.random.normal(size=xdata.size)\n",
    "ydata = y + y_noise\n",
    "plt.plot(xdata, ydata, 'b-', label='data')\n",
    "popt, pcov = curve_fit(func_example, xdata, ydata)\n",
    "popt\n",
    "\n",
    "plt.plot(xdata, func_example(xdata, *popt), 'r-',\n",
    "         label='fit: a=%5.3f, b=%5.3f, c=%5.3f' % tuple(popt))\n",
    "popt, pcov = curve_fit(func_example, xdata, ydata, bounds=(0, [3., 1., 0.5]))\n",
    "# popt, pcov = curve_fit(func_example, xdata, ydata, bounds=([3., 1., 0.5], [3.0001, 1.0001, 0.5001]))\n",
    "popt\n",
    "\n",
    "plt.plot(xdata, func_example(xdata, *popt), 'g--',\n",
    "         label='fit: a=%5.3f, b=%5.3f, c=%5.3f' % tuple(popt))\n",
    "\n",
    "plt.xlabel('x')\n",
    "plt.ylabel('y')\n",
    "plt.legend()\n",
    "plt.show()"
   ]
  },
  {
   "cell_type": "code",
   "execution_count": null,
   "metadata": {},
   "outputs": [],
   "source": []
  },
  {
   "cell_type": "code",
   "execution_count": null,
   "metadata": {},
   "outputs": [],
   "source": [
    "fixed_b = 1.313"
   ]
  },
  {
   "cell_type": "code",
   "execution_count": null,
   "metadata": {},
   "outputs": [],
   "source": [
    "xdata2 = np.concatenate((xdata, np.array([fixed_b])))"
   ]
  },
  {
   "cell_type": "code",
   "execution_count": null,
   "metadata": {},
   "outputs": [],
   "source": [
    "# xdata = np.linspace(0, 4, 50)\n",
    "# y = func_example(xdata, 2.5, 1.3, 0.5)\n",
    "# np.random.seed(1729)\n",
    "# y_noise = 0.2 * np.random.normal(size=xdata.size)\n",
    "# ydata = y + y_noise\n",
    "\n",
    "popt, pcov = curve_fit(func_example_fixed_b, xdata2, ydata)\n",
    "tupla = (popt[0], popt[1], fixed_b) # QUELLE HORREUR\n",
    "\n",
    "plt.plot(xdata, func_example_fixed_b(xdata2, *popt), 'g--',\n",
    "         label='fit: a=%5.3f, b=%5.3f, c=%5.3f' % tupla)\n",
    "\n",
    "plt.xlabel('x')\n",
    "plt.ylabel('y')\n",
    "plt.legend()\n",
    "plt.show()\n",
    "print(popt)"
   ]
  },
  {
   "cell_type": "raw",
   "metadata": {},
   "source": [
    "# Nao funciona\n",
    "\n",
    "# xdata = np.linspace(0, 4, 50)\n",
    "# y = func_example(xdata, 2.5, 1.3, 0.5)\n",
    "# np.random.seed(1729)\n",
    "# y_noise = 0.2 * np.random.normal(size=xdata.size)\n",
    "# ydata = y + y_noise\n",
    "\n",
    "xdatab = [xdata, fixed_b]\n",
    "popt, pcov = curve_fit(func_example_fixed_b, xdatab, ydata)\n",
    "tupla = (popt[0], popt[1], fixed_b) # QUELLE HORREUR\n",
    "\n",
    "plt.plot(xdata, func_example_fixed_b2(xdatab, *popt), 'g--',\n",
    "         label='fit: a=%5.3f, b=%5.3f, c=%5.3f' % tupla)\n",
    "\n",
    "plt.xlabel('x')\n",
    "plt.ylabel('y')\n",
    "plt.legend()\n",
    "plt.show()\n",
    "print(popt)"
   ]
  },
  {
   "cell_type": "code",
   "execution_count": null,
   "metadata": {},
   "outputs": [],
   "source": []
  },
  {
   "cell_type": "code",
   "execution_count": null,
   "metadata": {},
   "outputs": [],
   "source": []
  }
 ],
 "metadata": {
  "kernelspec": {
   "display_name": "Python 3",
   "language": "python",
   "name": "python3"
  },
  "language_info": {
   "codemirror_mode": {
    "name": "ipython",
    "version": 3
   },
   "file_extension": ".py",
   "mimetype": "text/x-python",
   "name": "python",
   "nbconvert_exporter": "python",
   "pygments_lexer": "ipython3",
   "version": "3.7.7"
  }
 },
 "nbformat": 4,
 "nbformat_minor": 4
}
