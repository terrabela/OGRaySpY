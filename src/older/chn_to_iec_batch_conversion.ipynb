{
 "cells": [
  {
   "cell_type": "code",
   "execution_count": 44,
   "metadata": {},
   "outputs": [],
   "source": [
    "#!/usr/bin/env python3\n",
    "# -*- coding: utf-8 -*-\n",
    "\n",
    "import numpy as np\n",
    "import numpy.ma as ma  # masked array\n",
    "from numpy.polynomial import Polynomial as P # 2020-09-06 Esta é a nova classe recomendada \n",
    "from numpy import linalg as LA\n",
    "\n",
    "####################################\n",
    "# Para a coleta dos espectros:\n",
    "import time\n",
    "# 2019-03-15\n",
    "# https://pandas.pydata.org/pandas-docs/stable/getting_started/10min.html\n",
    "import pandas as pd\n",
    "import csv\n",
    "# from pathlib import (Path)\n",
    "from pathlib import Path\n",
    "\n",
    "# from machine_selection import set_screen_size_by_machine\n",
    "import machine_selection\n",
    "# from spectrum_analysis import (cwt_complete_analysis, gaussian_complete_analysis, cwt_calc_peaks)\n",
    "import spectrum_analysis as speclys\n",
    "from gamma_spectrum_class import (Spec)\n",
    "from filebatch_class import (FileBatch)\n",
    "\n"
   ]
  },
  {
   "cell_type": "code",
   "execution_count": 45,
   "metadata": {
    "scrolled": false
   },
   "outputs": [
    {
     "name": "stdout",
     "output_type": "stream",
     "text": [
      "../Ipen/Efluentes-gasosos/Filtros-espectros/2018/CTP\n",
      "Num de arquivos:        128 \n",
      "\n",
      "\n",
      "  arquivos\n"
     ]
    }
   ],
   "source": [
    "fb = FileBatch()\n",
    "# 2021-mar-22\n",
    "pathPosixName =  '../Genie_Transfer/Si'\n",
    "# 2021-abr-26. Ver que o nome da pasta é case-sensitive. Os nomes originais estão uma bagunça.\n",
    "# pathPosixName =  '../Ipen/Efluentes-gasosos/Filtros-espectros/2019/Ctp'\n",
    "pathPosixName =  '../Ipen/Efluentes-gasosos/Filtros-espectros/2018/CTP'\n",
    "\n",
    "fb.slotSetBatchCHN( pathPosixName )\n",
    "print (fb.numarqstxt, ' arquivos')"
   ]
  },
  {
   "cell_type": "code",
   "execution_count": 46,
   "metadata": {},
   "outputs": [
    {
     "data": {
      "text/plain": [
       "['../Ipen/Efluentes-gasosos/Filtros-espectros/2018/CTP/CTP12073.Chn',\n",
       " '../Ipen/Efluentes-gasosos/Filtros-espectros/2018/CTP/CTP1309-3.Chn',\n",
       " '../Ipen/Efluentes-gasosos/Filtros-espectros/2018/CTP/CTP0111-2.Chn',\n",
       " '../Ipen/Efluentes-gasosos/Filtros-espectros/2018/CTP/CTP1608.Chn',\n",
       " '../Ipen/Efluentes-gasosos/Filtros-espectros/2018/CTP/CTP2510-4.Chn',\n",
       " '../Ipen/Efluentes-gasosos/Filtros-espectros/2018/CTP/CTP2806.Chn',\n",
       " '../Ipen/Efluentes-gasosos/Filtros-espectros/2018/CTP/CTP1608-3.Chn',\n",
       " '../Ipen/Efluentes-gasosos/Filtros-espectros/2018/CTP/CTP0811.Chn',\n",
       " '../Ipen/Efluentes-gasosos/Filtros-espectros/2018/CTP/CTP1309-2.Chn',\n",
       " '../Ipen/Efluentes-gasosos/Filtros-espectros/2018/CTP/CTP1502.Chn',\n",
       " '../Ipen/Efluentes-gasosos/Filtros-espectros/2018/CTP/CTP2510-3.Chn',\n",
       " '../Ipen/Efluentes-gasosos/Filtros-espectros/2018/CTP/CTP1503 4.Chn',\n",
       " '../Ipen/Efluentes-gasosos/Filtros-espectros/2018/CTP/CTP1406.Chn',\n",
       " '../Ipen/Efluentes-gasosos/Filtros-espectros/2018/CTP/CTP2012.Chn',\n",
       " '../Ipen/Efluentes-gasosos/Filtros-espectros/2018/CTP/CTP2012-4.Chn',\n",
       " '../Ipen/Efluentes-gasosos/Filtros-espectros/2018/CTP/CTP2911.Chn',\n",
       " '../Ipen/Efluentes-gasosos/Filtros-espectros/2018/CTP/CTP0803.Chn',\n",
       " '../Ipen/Efluentes-gasosos/Filtros-espectros/2018/CTP/CTP21064.Chn',\n",
       " '../Ipen/Efluentes-gasosos/Filtros-espectros/2018/CTP/CTP05072.Chn',\n",
       " '../Ipen/Efluentes-gasosos/Filtros-espectros/2018/CTP/CTP19072.Chn',\n",
       " '../Ipen/Efluentes-gasosos/Filtros-espectros/2018/CTP/CTP0507.Chn',\n",
       " '../Ipen/Efluentes-gasosos/Filtros-espectros/2018/CTP/CTP1411-3.Chn',\n",
       " '../Ipen/Efluentes-gasosos/Filtros-espectros/2018/CTP/CTP0111-4.Chn',\n",
       " '../Ipen/Efluentes-gasosos/Filtros-espectros/2018/CTP/CTP15033.Chn',\n",
       " '../Ipen/Efluentes-gasosos/Filtros-espectros/2018/CTP/CTP0908.Chn',\n",
       " '../Ipen/Efluentes-gasosos/Filtros-espectros/2018/CTP/CTP2308-4.Chn',\n",
       " '../Ipen/Efluentes-gasosos/Filtros-espectros/2018/CTP/CTP0111-3.Chn',\n",
       " '../Ipen/Efluentes-gasosos/Filtros-espectros/2018/CTP/CTP3008-4.Chn',\n",
       " '../Ipen/Efluentes-gasosos/Filtros-espectros/2018/CTP/CTP0802.Chn',\n",
       " '../Ipen/Efluentes-gasosos/Filtros-espectros/2018/CTP/CTP1110-4.Chn',\n",
       " '../Ipen/Efluentes-gasosos/Filtros-espectros/2018/CTP/CTP0811-4.Chn',\n",
       " '../Ipen/Efluentes-gasosos/Filtros-espectros/2018/CTP/CTP3008-2.Chn',\n",
       " '../Ipen/Efluentes-gasosos/Filtros-espectros/2018/CTP/CTP2308.Chn',\n",
       " '../Ipen/Efluentes-gasosos/Filtros-espectros/2018/CTP/CTP1608-2.Chn',\n",
       " '../Ipen/Efluentes-gasosos/Filtros-espectros/2018/CTP/CTP0504.Chn',\n",
       " '../Ipen/Efluentes-gasosos/Filtros-espectros/2018/CTP/CTP21062.Chn',\n",
       " '../Ipen/Efluentes-gasosos/Filtros-espectros/2018/CTP/CTP2709-2.Chn',\n",
       " '../Ipen/Efluentes-gasosos/Filtros-espectros/2018/CTP/CTP1705-2.Chn',\n",
       " '../Ipen/Efluentes-gasosos/Filtros-espectros/2018/CTP/CTP2604.Chn',\n",
       " '../Ipen/Efluentes-gasosos/Filtros-espectros/2018/CTP/CTP2510.Chn',\n",
       " '../Ipen/Efluentes-gasosos/Filtros-espectros/2018/CTP/CTP1207.Chn',\n",
       " '../Ipen/Efluentes-gasosos/Filtros-espectros/2018/CTP/CTP2211-3.Chn',\n",
       " '../Ipen/Efluentes-gasosos/Filtros-espectros/2018/CTP/CTP2308-2.Chn',\n",
       " '../Ipen/Efluentes-gasosos/Filtros-espectros/2018/CTP/CTP1810-2.Chn',\n",
       " '../Ipen/Efluentes-gasosos/Filtros-espectros/2018/CTP/CTP1411-2.Chn',\n",
       " '../Ipen/Efluentes-gasosos/Filtros-espectros/2018/CTP/CTP2903.Chn',\n",
       " '../Ipen/Efluentes-gasosos/Filtros-espectros/2018/CTP/CTP1904.Chn',\n",
       " '../Ipen/Efluentes-gasosos/Filtros-espectros/2018/CTP/CTP1101.Chn',\n",
       " '../Ipen/Efluentes-gasosos/Filtros-espectros/2018/CTP/CTP2911-2.Chn',\n",
       " '../Ipen/Efluentes-gasosos/Filtros-espectros/2018/CTP/CTP2308-3.Chn',\n",
       " '../Ipen/Efluentes-gasosos/Filtros-espectros/2018/CTP/CTP2202.Chn',\n",
       " '../Ipen/Efluentes-gasosos/Filtros-espectros/2018/CTP/CTP2401.Chn',\n",
       " '../Ipen/Efluentes-gasosos/Filtros-espectros/2018/CTP/CTP0612-4.Chn',\n",
       " '../Ipen/Efluentes-gasosos/Filtros-espectros/2018/CTP/CTP0612-2.Chn',\n",
       " '../Ipen/Efluentes-gasosos/Filtros-espectros/2018/CTP/CTP1810-4.Chn',\n",
       " '../Ipen/Efluentes-gasosos/Filtros-espectros/2018/CTP/CTP0609.Chn',\n",
       " '../Ipen/Efluentes-gasosos/Filtros-espectros/2018/CTP/CTP1705.Chn',\n",
       " '../Ipen/Efluentes-gasosos/Filtros-espectros/2018/CTP/CTP05074.Chn',\n",
       " '../Ipen/Efluentes-gasosos/Filtros-espectros/2018/CTP/CTP1810.Chn',\n",
       " '../Ipen/Efluentes-gasosos/Filtros-espectros/2018/CTP/CTP0111.Chn',\n",
       " '../Ipen/Efluentes-gasosos/Filtros-espectros/2018/CTP/CTP15023.Chn',\n",
       " '../Ipen/Efluentes-gasosos/Filtros-espectros/2018/CTP/CTP2712-2.Chn',\n",
       " '../Ipen/Efluentes-gasosos/Filtros-espectros/2018/CTP/CTP0208-2.Chn',\n",
       " '../Ipen/Efluentes-gasosos/Filtros-espectros/2018/CTP/CTP2405.Chn',\n",
       " '../Ipen/Efluentes-gasosos/Filtros-espectros/2018/CTP/CTP1810-3.Chn',\n",
       " '../Ipen/Efluentes-gasosos/Filtros-espectros/2018/CTP/CTP2012-3.Chn',\n",
       " '../Ipen/Efluentes-gasosos/Filtros-espectros/2018/CTP/CTP0609-3.Chn',\n",
       " '../Ipen/Efluentes-gasosos/Filtros-espectros/2018/CTP/CTP1110-3.Chn',\n",
       " '../Ipen/Efluentes-gasosos/Filtros-espectros/2018/CTP/CTP2308-5.Chn',\n",
       " '../Ipen/Efluentes-gasosos/Filtros-espectros/2018/CTP/CTP1204.Chn',\n",
       " '../Ipen/Efluentes-gasosos/Filtros-espectros/2018/CTP/CTP1110-2.Chn',\n",
       " '../Ipen/Efluentes-gasosos/Filtros-espectros/2018/CTP/CTP3008-3.Chn',\n",
       " '../Ipen/Efluentes-gasosos/Filtros-espectros/2018/CTP/CTP2203.Chn',\n",
       " '../Ipen/Efluentes-gasosos/Filtros-espectros/2018/CTP/CTP1312-3.Chn',\n",
       " '../Ipen/Efluentes-gasosos/Filtros-espectros/2018/CTP/CTP1503.Chn',\n",
       " '../Ipen/Efluentes-gasosos/Filtros-espectros/2018/CTP/CTP0103.Chn',\n",
       " '../Ipen/Efluentes-gasosos/Filtros-espectros/2018/CTP/CTP0410.Chn',\n",
       " '../Ipen/Efluentes-gasosos/Filtros-espectros/2018/CTP/CTP05073.Chn',\n",
       " '../Ipen/Efluentes-gasosos/Filtros-espectros/2018/CTP/CTP1110.Chn',\n",
       " '../Ipen/Efluentes-gasosos/Filtros-espectros/2018/CTP/CTP2709.Chn',\n",
       " '../Ipen/Efluentes-gasosos/Filtros-espectros/2018/CTP/CTP2709-3.Chn',\n",
       " '../Ipen/Efluentes-gasosos/Filtros-espectros/2018/CTP/CTP0609-2.Chn',\n",
       " '../Ipen/Efluentes-gasosos/Filtros-espectros/2018/CTP/CTP0410-2.Chn',\n",
       " '../Ipen/Efluentes-gasosos/Filtros-espectros/2018/CTP/CTP0612.Chn',\n",
       " '../Ipen/Efluentes-gasosos/Filtros-espectros/2018/CTP/CTP0706.Chn',\n",
       " '../Ipen/Efluentes-gasosos/Filtros-espectros/2018/CTP/CTP2009.Chn',\n",
       " '../Ipen/Efluentes-gasosos/Filtros-espectros/2018/CTP/CTP0102.Chn',\n",
       " '../Ipen/Efluentes-gasosos/Filtros-espectros/2018/CTP/CTP2211-2.Chn',\n",
       " '../Ipen/Efluentes-gasosos/Filtros-espectros/2018/CTP/CTP1411.Chn',\n",
       " '../Ipen/Efluentes-gasosos/Filtros-espectros/2018/CTP/CTP0811-2.Chn',\n",
       " '../Ipen/Efluentes-gasosos/Filtros-espectros/2018/CTP/CTP1312-2.Chn',\n",
       " '../Ipen/Efluentes-gasosos/Filtros-espectros/2018/CTP/CTP2009-3.Chn',\n",
       " '../Ipen/Efluentes-gasosos/Filtros-espectros/2018/CTP/CTP150218 2 CONTAGEM.Chn',\n",
       " '../Ipen/Efluentes-gasosos/Filtros-espectros/2018/CTP/CTP1207-4.Chn',\n",
       " '../Ipen/Efluentes-gasosos/Filtros-espectros/2018/CTP/CTP2712.Chn',\n",
       " '../Ipen/Efluentes-gasosos/Filtros-espectros/2018/CTP/PTP1406.Chn',\n",
       " '../Ipen/Efluentes-gasosos/Filtros-espectros/2018/CTP/CTP2203-2.Chn',\n",
       " '../Ipen/Efluentes-gasosos/Filtros-espectros/2018/CTP/CTP0612-3.Chn',\n",
       " '../Ipen/Efluentes-gasosos/Filtros-espectros/2018/CTP/CTP1312.Chn',\n",
       " '../Ipen/Efluentes-gasosos/Filtros-espectros/2018/CTP/CTP2009-4.Chn',\n",
       " '../Ipen/Efluentes-gasosos/Filtros-espectros/2018/CTP/CTP2911-3.Chn',\n",
       " '../Ipen/Efluentes-gasosos/Filtros-espectros/2018/CTP/CTP2211.Chn',\n",
       " '../Ipen/Efluentes-gasosos/Filtros-espectros/2018/CTP/CTP2009-2.Chn',\n",
       " '../Ipen/Efluentes-gasosos/Filtros-espectros/2018/CTP/CTP21063.Chn',\n",
       " '../Ipen/Efluentes-gasosos/Filtros-espectros/2018/CTP/CTP0410-3.Chn',\n",
       " '../Ipen/Efluentes-gasosos/Filtros-espectros/2018/CTP/CTP2911-4.Chn',\n",
       " '../Ipen/Efluentes-gasosos/Filtros-espectros/2018/CTP/CTP0908-2.Chn',\n",
       " '../Ipen/Efluentes-gasosos/Filtros-espectros/2018/CTP/CTP1907.Chn',\n",
       " '../Ipen/Efluentes-gasosos/Filtros-espectros/2018/CTP/CTP0208.Chn',\n",
       " '../Ipen/Efluentes-gasosos/Filtros-espectros/2018/CTP/CTP0609-4.Chn',\n",
       " '../Ipen/Efluentes-gasosos/Filtros-espectros/2018/CTP/CTP15032.Chn',\n",
       " '../Ipen/Efluentes-gasosos/Filtros-espectros/2018/CTP/CTP2607-2.Chn',\n",
       " '../Ipen/Efluentes-gasosos/Filtros-espectros/2018/CTP/CTP2012-2.Chn',\n",
       " '../Ipen/Efluentes-gasosos/Filtros-espectros/2018/CTP/CTP1309.Chn',\n",
       " '../Ipen/Efluentes-gasosos/Filtros-espectros/2018/CTP/CTP2607.Chn',\n",
       " '../Ipen/Efluentes-gasosos/Filtros-espectros/2018/CTP/CTP3008.Chn',\n",
       " '../Ipen/Efluentes-gasosos/Filtros-espectros/2018/CTP/CTP1005.Chn',\n",
       " '../Ipen/Efluentes-gasosos/Filtros-espectros/2018/CTP/CTP12072.Chn',\n",
       " '../Ipen/Efluentes-gasosos/Filtros-espectros/2018/CTP/CTP2510-2.Chn',\n",
       " '../Ipen/Efluentes-gasosos/Filtros-espectros/2018/CTP/CTP0811-3.Chn',\n",
       " '../Ipen/Efluentes-gasosos/Filtros-espectros/2018/CTP/CTP0305.Chn',\n",
       " '../Ipen/Efluentes-gasosos/Filtros-espectros/2018/CTP/CTP2106.Chn',\n",
       " '../Ipen/Efluentes-gasosos/Filtros-espectros/2018/CTP/CTP2203-3.Chn',\n",
       " '../Ipen/Efluentes-gasosos/Filtros-espectros/2018/CTP/CTP3005.Chn',\n",
       " '../Ipen/Efluentes-gasosos/Filtros-espectros/2018/CTP/CTP0305-2.Chn',\n",
       " '../Ipen/Efluentes-gasosos/Filtros-espectros/2018/CTP/CTP1801.Chn',\n",
       " '../Ipen/Efluentes-gasosos/Filtros-espectros/2018/CTP/CTP2903-2.Chn',\n",
       " '../Ipen/Efluentes-gasosos/Filtros-espectros/2018/CTP/CTP2709-4.Chn']"
      ]
     },
     "execution_count": 46,
     "metadata": {},
     "output_type": "execute_result"
    }
   ],
   "source": [
    "fb.lp"
   ]
  },
  {
   "cell_type": "code",
   "execution_count": 47,
   "metadata": {},
   "outputs": [],
   "source": [
    "lp_posix = [Path(fn).as_posix() for fn in fb.lp]"
   ]
  },
  {
   "cell_type": "code",
   "execution_count": 48,
   "metadata": {
    "scrolled": true
   },
   "outputs": [
    {
     "data": {
      "text/plain": [
       "128"
      ]
     },
     "execution_count": 48,
     "metadata": {},
     "output_type": "execute_result"
    }
   ],
   "source": [
    "fb.numarqs"
   ]
  },
  {
   "cell_type": "markdown",
   "metadata": {},
   "source": [
    "#### Selecionando um único arquivo\n",
    "A partir daqui: escolher um arquivo (aleatoriamente, ou fixando um (vals=???) para fazer a análise com o ogray."
   ]
  },
  {
   "cell_type": "code",
   "execution_count": 54,
   "metadata": {},
   "outputs": [],
   "source": [
    "# Do this (new version)\n",
    "from numpy.random import default_rng\n",
    "rng = default_rng()\n",
    "vals = rng.integers(fb.numarqs)\n",
    "fn2=lp_posix [vals]"
   ]
  },
  {
   "cell_type": "code",
   "execution_count": 55,
   "metadata": {},
   "outputs": [
    {
     "data": {
      "text/plain": [
       "84"
      ]
     },
     "execution_count": 55,
     "metadata": {},
     "output_type": "execute_result"
    }
   ],
   "source": [
    "vals"
   ]
  },
  {
   "cell_type": "code",
   "execution_count": null,
   "metadata": {},
   "outputs": [],
   "source": []
  },
  {
   "cell_type": "code",
   "execution_count": null,
   "metadata": {},
   "outputs": [],
   "source": []
  },
  {
   "cell_type": "markdown",
   "metadata": {},
   "source": [
    "###### Manipulação de nomes de diretórios e arquivos"
   ]
  },
  {
   "cell_type": "code",
   "execution_count": 56,
   "metadata": {},
   "outputs": [
    {
     "name": "stdout",
     "output_type": "stream",
     "text": [
      "84\n"
     ]
    }
   ],
   "source": [
    "# 2021-mar-08\n",
    "# Busca espectro na lista lp_posix\n",
    "# fnToFind = 'si00821'\n",
    "fnToFind = 'si00921'\n",
    "# fnToFind = 'si02220'\n",
    "for ifn, fn in enumerate(lp_posix):\n",
    "    if fnToFind in fn.lower():\n",
    "        print (fn)\n",
    "        vals = ifn\n",
    "        print (ifn)\n",
    "print(vals)"
   ]
  },
  {
   "cell_type": "code",
   "execution_count": 57,
   "metadata": {},
   "outputs": [
    {
     "data": {
      "text/plain": [
       "'aerger ijhijh'"
      ]
     },
     "execution_count": 57,
     "metadata": {},
     "output_type": "execute_result"
    }
   ],
   "source": [
    "'aerger IJHijh'.lower()"
   ]
  },
  {
   "cell_type": "code",
   "execution_count": 58,
   "metadata": {
    "scrolled": true
   },
   "outputs": [
    {
     "data": {
      "text/plain": [
       "PosixPath('../Ipen/Efluentes-gasosos/Filtros-espectros/2018/CTP/CTP0706.Chn')"
      ]
     },
     "execution_count": 58,
     "metadata": {},
     "output_type": "execute_result"
    }
   ],
   "source": [
    "fb.lpp[vals]"
   ]
  },
  {
   "cell_type": "code",
   "execution_count": 59,
   "metadata": {},
   "outputs": [
    {
     "data": {
      "text/plain": [
       "'../Ipen/Efluentes-gasosos/Filtros-espectros/2018/CTP/CTP0706.Chn'"
      ]
     },
     "execution_count": 59,
     "metadata": {},
     "output_type": "execute_result"
    }
   ],
   "source": [
    "lp_posix[vals]"
   ]
  },
  {
   "cell_type": "code",
   "execution_count": 60,
   "metadata": {},
   "outputs": [
    {
     "data": {
      "text/plain": [
       "PosixPath('../Ipen/Efluentes-gasosos/Filtros-espectros/2018/CTP/CTP0706.Chn')"
      ]
     },
     "execution_count": 60,
     "metadata": {},
     "output_type": "execute_result"
    }
   ],
   "source": [
    "Path(lp_posix[vals])"
   ]
  },
  {
   "cell_type": "code",
   "execution_count": 61,
   "metadata": {},
   "outputs": [
    {
     "data": {
      "text/plain": [
       "PosixPath('../Ipen/Efluentes-gasosos/Filtros-espectros/2018/CTP/CTP0706.iec')"
      ]
     },
     "execution_count": 61,
     "metadata": {},
     "output_type": "execute_result"
    }
   ],
   "source": [
    "fb.lpp[vals].with_suffix('.iec')"
   ]
  },
  {
   "cell_type": "code",
   "execution_count": 62,
   "metadata": {},
   "outputs": [
    {
     "data": {
      "text/plain": [
       "'CTP0706'"
      ]
     },
     "execution_count": 62,
     "metadata": {},
     "output_type": "execute_result"
    }
   ],
   "source": [
    "fb.lpp[vals].stem"
   ]
  },
  {
   "cell_type": "code",
   "execution_count": 63,
   "metadata": {},
   "outputs": [
    {
     "data": {
      "text/plain": [
       "''"
      ]
     },
     "execution_count": 63,
     "metadata": {},
     "output_type": "execute_result"
    }
   ],
   "source": [
    "fb.lpp[vals].root"
   ]
  },
  {
   "cell_type": "code",
   "execution_count": 64,
   "metadata": {},
   "outputs": [
    {
     "data": {
      "text/plain": [
       "'CTP0706.Chn'"
      ]
     },
     "execution_count": 64,
     "metadata": {},
     "output_type": "execute_result"
    }
   ],
   "source": [
    "fb.lpp[vals].name"
   ]
  },
  {
   "cell_type": "code",
   "execution_count": 65,
   "metadata": {},
   "outputs": [
    {
     "data": {
      "text/plain": [
       "('..',\n",
       " 'Ipen',\n",
       " 'Efluentes-gasosos',\n",
       " 'Filtros-espectros',\n",
       " '2018',\n",
       " 'CTP',\n",
       " 'CTP0706.Chn')"
      ]
     },
     "execution_count": 65,
     "metadata": {},
     "output_type": "execute_result"
    }
   ],
   "source": [
    "fb.lpp[vals].parts"
   ]
  },
  {
   "cell_type": "code",
   "execution_count": 66,
   "metadata": {},
   "outputs": [
    {
     "data": {
      "text/plain": [
       "PosixPath('Filtros-espectros/2018/CTP/CTP0706.Chn')"
      ]
     },
     "execution_count": 66,
     "metadata": {},
     "output_type": "execute_result"
    }
   ],
   "source": [
    "fb.lpp[vals].relative_to('../Ipen/Efluentes-gasosos')\n",
    "# fb.lpp[vals].relative_to('../Genie_Transfer')"
   ]
  },
  {
   "cell_type": "code",
   "execution_count": 67,
   "metadata": {},
   "outputs": [
    {
     "data": {
      "text/plain": [
       "PosixPath('../iec_files/Filtros-espectros/2018/CTP/CTP0706.iec')"
      ]
     },
     "execution_count": 67,
     "metadata": {},
     "output_type": "execute_result"
    }
   ],
   "source": [
    "'../iec_files' / fb.lpp[vals].relative_to('../Ipen/Efluentes-gasosos').with_suffix('.iec')"
   ]
  },
  {
   "cell_type": "code",
   "execution_count": 68,
   "metadata": {},
   "outputs": [],
   "source": [
    "Path('../fazdir').mkdir(parents=True, exist_ok=True)"
   ]
  },
  {
   "cell_type": "code",
   "execution_count": 69,
   "metadata": {},
   "outputs": [
    {
     "data": {
      "text/plain": [
       "'../Ipen/Efluentes-gasosos/Filtros-espectros/2018/CTP/CTP0706.Chn'"
      ]
     },
     "execution_count": 69,
     "metadata": {},
     "output_type": "execute_result"
    }
   ],
   "source": [
    "fn2=lp_posix [vals]\n",
    "fn2"
   ]
  },
  {
   "cell_type": "code",
   "execution_count": 70,
   "metadata": {},
   "outputs": [
    {
     "data": {
      "text/plain": [
       "PosixPath('Filtros-espectros/2018/CTP/CTP0706.Chn')"
      ]
     },
     "execution_count": 70,
     "metadata": {},
     "output_type": "execute_result"
    }
   ],
   "source": [
    "fb.lpp[vals].relative_to('../Ipen/Efluentes-gasosos')"
   ]
  },
  {
   "cell_type": "code",
   "execution_count": 71,
   "metadata": {},
   "outputs": [
    {
     "data": {
      "text/plain": [
       "PosixPath('../Ipen/Efluentes-gasosos/Filtros-espectros/2018/CTP')"
      ]
     },
     "execution_count": 71,
     "metadata": {},
     "output_type": "execute_result"
    }
   ],
   "source": [
    "fb.lpp[vals].parent"
   ]
  },
  {
   "cell_type": "code",
   "execution_count": 72,
   "metadata": {},
   "outputs": [],
   "source": [
    "lp_posix = [Path(fn).as_posix() for fn in fb.lp]"
   ]
  },
  {
   "cell_type": "code",
   "execution_count": 73,
   "metadata": {},
   "outputs": [],
   "source": [
    "def convert_spec_to_iec(spe, iecfilename):\n",
    "    with open(iecfilename, 'w') as f:\n",
    "        y0s = spe.y0s\n",
    "        for i in range(0, spe.nCh-5, 5):\n",
    "            lin = 'A004{:6d}{:10d}{:10d}{:10d}{:10d}{:10d}\\n'. \\\n",
    "            format(i, y0s[i], y0s[i+1], y0s[i+2], y0s[i+3], y0s[i+4])\n",
    "            f.write(lin)\n",
    "        trail = np.zeros(5,dtype=int)\n",
    "        nChTrail = np.mod(spe.nCh, 5)\n",
    "        if nChTrail:\n",
    "            for i in range(nChTrail):\n",
    "                trail[i] = y0s[spe.nCh-1+i]\n",
    "            lastline = spe.nCh // 5 * 5   \n",
    "            lin = 'A004{:6d}{:10d}{:10d}{:10d}{:10d}{:10d}\\n'. \\\n",
    "            format(lastline, trail[i], trail[i+1], trail[i+2], trail[i+3], trail[i+4])\n",
    "            f.write(lin)"
   ]
  },
  {
   "cell_type": "code",
   "execution_count": 75,
   "metadata": {},
   "outputs": [
    {
     "name": "stdout",
     "output_type": "stream",
     "text": [
      "../Ipen/Efluentes-gasosos/Filtros-espectros/2018/CTP/CTP12073.Chn\n",
      "../iec_files/Filtros-espectros/2018/CTP/CTP12073.iec\n",
      "../Ipen/Efluentes-gasosos/Filtros-espectros/2018/CTP/CTP1309-3.Chn\n",
      "../iec_files/Filtros-espectros/2018/CTP/CTP1309-3.iec\n",
      "../Ipen/Efluentes-gasosos/Filtros-espectros/2018/CTP/CTP0111-2.Chn\n",
      "../iec_files/Filtros-espectros/2018/CTP/CTP0111-2.iec\n",
      "../Ipen/Efluentes-gasosos/Filtros-espectros/2018/CTP/CTP1608.Chn\n",
      "../iec_files/Filtros-espectros/2018/CTP/CTP1608.iec\n",
      "../Ipen/Efluentes-gasosos/Filtros-espectros/2018/CTP/CTP2510-4.Chn\n",
      "../iec_files/Filtros-espectros/2018/CTP/CTP2510-4.iec\n",
      "../Ipen/Efluentes-gasosos/Filtros-espectros/2018/CTP/CTP2806.Chn\n",
      "../iec_files/Filtros-espectros/2018/CTP/CTP2806.iec\n",
      "../Ipen/Efluentes-gasosos/Filtros-espectros/2018/CTP/CTP1608-3.Chn\n",
      "../iec_files/Filtros-espectros/2018/CTP/CTP1608-3.iec\n",
      "../Ipen/Efluentes-gasosos/Filtros-espectros/2018/CTP/CTP0811.Chn\n",
      "../iec_files/Filtros-espectros/2018/CTP/CTP0811.iec\n",
      "../Ipen/Efluentes-gasosos/Filtros-espectros/2018/CTP/CTP1309-2.Chn\n",
      "../iec_files/Filtros-espectros/2018/CTP/CTP1309-2.iec\n",
      "../Ipen/Efluentes-gasosos/Filtros-espectros/2018/CTP/CTP1502.Chn\n",
      "../iec_files/Filtros-espectros/2018/CTP/CTP1502.iec\n",
      "../Ipen/Efluentes-gasosos/Filtros-espectros/2018/CTP/CTP2510-3.Chn\n",
      "../iec_files/Filtros-espectros/2018/CTP/CTP2510-3.iec\n",
      "../Ipen/Efluentes-gasosos/Filtros-espectros/2018/CTP/CTP1503 4.Chn\n",
      "../iec_files/Filtros-espectros/2018/CTP/CTP1503 4.iec\n",
      "../Ipen/Efluentes-gasosos/Filtros-espectros/2018/CTP/CTP1406.Chn\n",
      "../iec_files/Filtros-espectros/2018/CTP/CTP1406.iec\n",
      "../Ipen/Efluentes-gasosos/Filtros-espectros/2018/CTP/CTP2012.Chn\n",
      "../iec_files/Filtros-espectros/2018/CTP/CTP2012.iec\n",
      "../Ipen/Efluentes-gasosos/Filtros-espectros/2018/CTP/CTP2012-4.Chn\n",
      "../iec_files/Filtros-espectros/2018/CTP/CTP2012-4.iec\n",
      "../Ipen/Efluentes-gasosos/Filtros-espectros/2018/CTP/CTP2911.Chn\n",
      "../iec_files/Filtros-espectros/2018/CTP/CTP2911.iec\n",
      "../Ipen/Efluentes-gasosos/Filtros-espectros/2018/CTP/CTP0803.Chn\n",
      "../iec_files/Filtros-espectros/2018/CTP/CTP0803.iec\n",
      "../Ipen/Efluentes-gasosos/Filtros-espectros/2018/CTP/CTP21064.Chn\n",
      "../iec_files/Filtros-espectros/2018/CTP/CTP21064.iec\n",
      "../Ipen/Efluentes-gasosos/Filtros-espectros/2018/CTP/CTP05072.Chn\n",
      "../iec_files/Filtros-espectros/2018/CTP/CTP05072.iec\n",
      "../Ipen/Efluentes-gasosos/Filtros-espectros/2018/CTP/CTP19072.Chn\n",
      "../iec_files/Filtros-espectros/2018/CTP/CTP19072.iec\n",
      "../Ipen/Efluentes-gasosos/Filtros-espectros/2018/CTP/CTP0507.Chn\n",
      "../iec_files/Filtros-espectros/2018/CTP/CTP0507.iec\n",
      "../Ipen/Efluentes-gasosos/Filtros-espectros/2018/CTP/CTP1411-3.Chn\n",
      "../iec_files/Filtros-espectros/2018/CTP/CTP1411-3.iec\n",
      "../Ipen/Efluentes-gasosos/Filtros-espectros/2018/CTP/CTP0111-4.Chn\n",
      "../iec_files/Filtros-espectros/2018/CTP/CTP0111-4.iec\n",
      "../Ipen/Efluentes-gasosos/Filtros-espectros/2018/CTP/CTP15033.Chn\n",
      "../iec_files/Filtros-espectros/2018/CTP/CTP15033.iec\n",
      "../Ipen/Efluentes-gasosos/Filtros-espectros/2018/CTP/CTP0908.Chn\n",
      "../iec_files/Filtros-espectros/2018/CTP/CTP0908.iec\n",
      "../Ipen/Efluentes-gasosos/Filtros-espectros/2018/CTP/CTP2308-4.Chn\n",
      "../iec_files/Filtros-espectros/2018/CTP/CTP2308-4.iec\n",
      "../Ipen/Efluentes-gasosos/Filtros-espectros/2018/CTP/CTP0111-3.Chn\n",
      "../iec_files/Filtros-espectros/2018/CTP/CTP0111-3.iec\n",
      "../Ipen/Efluentes-gasosos/Filtros-espectros/2018/CTP/CTP3008-4.Chn\n",
      "../iec_files/Filtros-espectros/2018/CTP/CTP3008-4.iec\n",
      "../Ipen/Efluentes-gasosos/Filtros-espectros/2018/CTP/CTP0802.Chn\n",
      "../iec_files/Filtros-espectros/2018/CTP/CTP0802.iec\n",
      "../Ipen/Efluentes-gasosos/Filtros-espectros/2018/CTP/CTP1110-4.Chn\n",
      "../iec_files/Filtros-espectros/2018/CTP/CTP1110-4.iec\n",
      "../Ipen/Efluentes-gasosos/Filtros-espectros/2018/CTP/CTP0811-4.Chn\n",
      "../iec_files/Filtros-espectros/2018/CTP/CTP0811-4.iec\n",
      "../Ipen/Efluentes-gasosos/Filtros-espectros/2018/CTP/CTP3008-2.Chn\n",
      "../iec_files/Filtros-espectros/2018/CTP/CTP3008-2.iec\n",
      "../Ipen/Efluentes-gasosos/Filtros-espectros/2018/CTP/CTP2308.Chn\n",
      "../iec_files/Filtros-espectros/2018/CTP/CTP2308.iec\n",
      "../Ipen/Efluentes-gasosos/Filtros-espectros/2018/CTP/CTP1608-2.Chn\n",
      "../iec_files/Filtros-espectros/2018/CTP/CTP1608-2.iec\n",
      "../Ipen/Efluentes-gasosos/Filtros-espectros/2018/CTP/CTP0504.Chn\n",
      "../iec_files/Filtros-espectros/2018/CTP/CTP0504.iec\n",
      "../Ipen/Efluentes-gasosos/Filtros-espectros/2018/CTP/CTP21062.Chn\n",
      "../iec_files/Filtros-espectros/2018/CTP/CTP21062.iec\n",
      "../Ipen/Efluentes-gasosos/Filtros-espectros/2018/CTP/CTP2709-2.Chn\n",
      "../iec_files/Filtros-espectros/2018/CTP/CTP2709-2.iec\n",
      "../Ipen/Efluentes-gasosos/Filtros-espectros/2018/CTP/CTP1705-2.Chn\n",
      "../iec_files/Filtros-espectros/2018/CTP/CTP1705-2.iec\n",
      "../Ipen/Efluentes-gasosos/Filtros-espectros/2018/CTP/CTP2604.Chn\n",
      "../iec_files/Filtros-espectros/2018/CTP/CTP2604.iec\n",
      "../Ipen/Efluentes-gasosos/Filtros-espectros/2018/CTP/CTP2510.Chn\n",
      "../iec_files/Filtros-espectros/2018/CTP/CTP2510.iec\n",
      "../Ipen/Efluentes-gasosos/Filtros-espectros/2018/CTP/CTP1207.Chn\n",
      "../iec_files/Filtros-espectros/2018/CTP/CTP1207.iec\n",
      "../Ipen/Efluentes-gasosos/Filtros-espectros/2018/CTP/CTP2211-3.Chn\n",
      "../iec_files/Filtros-espectros/2018/CTP/CTP2211-3.iec\n",
      "../Ipen/Efluentes-gasosos/Filtros-espectros/2018/CTP/CTP2308-2.Chn\n",
      "../iec_files/Filtros-espectros/2018/CTP/CTP2308-2.iec\n",
      "../Ipen/Efluentes-gasosos/Filtros-espectros/2018/CTP/CTP1810-2.Chn\n",
      "../iec_files/Filtros-espectros/2018/CTP/CTP1810-2.iec\n",
      "../Ipen/Efluentes-gasosos/Filtros-espectros/2018/CTP/CTP1411-2.Chn\n",
      "../iec_files/Filtros-espectros/2018/CTP/CTP1411-2.iec\n",
      "../Ipen/Efluentes-gasosos/Filtros-espectros/2018/CTP/CTP2903.Chn\n",
      "../iec_files/Filtros-espectros/2018/CTP/CTP2903.iec\n",
      "../Ipen/Efluentes-gasosos/Filtros-espectros/2018/CTP/CTP1904.Chn\n",
      "../iec_files/Filtros-espectros/2018/CTP/CTP1904.iec\n",
      "../Ipen/Efluentes-gasosos/Filtros-espectros/2018/CTP/CTP1101.Chn\n",
      "../iec_files/Filtros-espectros/2018/CTP/CTP1101.iec\n",
      "../Ipen/Efluentes-gasosos/Filtros-espectros/2018/CTP/CTP2911-2.Chn\n",
      "../iec_files/Filtros-espectros/2018/CTP/CTP2911-2.iec\n",
      "../Ipen/Efluentes-gasosos/Filtros-espectros/2018/CTP/CTP2308-3.Chn\n",
      "../iec_files/Filtros-espectros/2018/CTP/CTP2308-3.iec\n",
      "../Ipen/Efluentes-gasosos/Filtros-espectros/2018/CTP/CTP2202.Chn\n",
      "../iec_files/Filtros-espectros/2018/CTP/CTP2202.iec\n",
      "../Ipen/Efluentes-gasosos/Filtros-espectros/2018/CTP/CTP2401.Chn\n",
      "../iec_files/Filtros-espectros/2018/CTP/CTP2401.iec\n",
      "../Ipen/Efluentes-gasosos/Filtros-espectros/2018/CTP/CTP0612-4.Chn\n",
      "../iec_files/Filtros-espectros/2018/CTP/CTP0612-4.iec\n",
      "../Ipen/Efluentes-gasosos/Filtros-espectros/2018/CTP/CTP0612-2.Chn\n",
      "../iec_files/Filtros-espectros/2018/CTP/CTP0612-2.iec\n",
      "../Ipen/Efluentes-gasosos/Filtros-espectros/2018/CTP/CTP1810-4.Chn\n",
      "../iec_files/Filtros-espectros/2018/CTP/CTP1810-4.iec\n",
      "../Ipen/Efluentes-gasosos/Filtros-espectros/2018/CTP/CTP0609.Chn\n",
      "../iec_files/Filtros-espectros/2018/CTP/CTP0609.iec\n",
      "../Ipen/Efluentes-gasosos/Filtros-espectros/2018/CTP/CTP1705.Chn\n",
      "../iec_files/Filtros-espectros/2018/CTP/CTP1705.iec\n",
      "../Ipen/Efluentes-gasosos/Filtros-espectros/2018/CTP/CTP05074.Chn\n",
      "../iec_files/Filtros-espectros/2018/CTP/CTP05074.iec\n",
      "../Ipen/Efluentes-gasosos/Filtros-espectros/2018/CTP/CTP1810.Chn\n",
      "../iec_files/Filtros-espectros/2018/CTP/CTP1810.iec\n",
      "../Ipen/Efluentes-gasosos/Filtros-espectros/2018/CTP/CTP0111.Chn\n",
      "../iec_files/Filtros-espectros/2018/CTP/CTP0111.iec\n",
      "../Ipen/Efluentes-gasosos/Filtros-espectros/2018/CTP/CTP15023.Chn\n",
      "../iec_files/Filtros-espectros/2018/CTP/CTP15023.iec\n",
      "../Ipen/Efluentes-gasosos/Filtros-espectros/2018/CTP/CTP2712-2.Chn\n",
      "../iec_files/Filtros-espectros/2018/CTP/CTP2712-2.iec\n",
      "../Ipen/Efluentes-gasosos/Filtros-espectros/2018/CTP/CTP0208-2.Chn\n",
      "../iec_files/Filtros-espectros/2018/CTP/CTP0208-2.iec\n",
      "../Ipen/Efluentes-gasosos/Filtros-espectros/2018/CTP/CTP2405.Chn\n",
      "../iec_files/Filtros-espectros/2018/CTP/CTP2405.iec\n",
      "../Ipen/Efluentes-gasosos/Filtros-espectros/2018/CTP/CTP1810-3.Chn\n",
      "../iec_files/Filtros-espectros/2018/CTP/CTP1810-3.iec\n",
      "../Ipen/Efluentes-gasosos/Filtros-espectros/2018/CTP/CTP2012-3.Chn\n",
      "../iec_files/Filtros-espectros/2018/CTP/CTP2012-3.iec\n",
      "../Ipen/Efluentes-gasosos/Filtros-espectros/2018/CTP/CTP0609-3.Chn\n",
      "../iec_files/Filtros-espectros/2018/CTP/CTP0609-3.iec\n",
      "../Ipen/Efluentes-gasosos/Filtros-espectros/2018/CTP/CTP1110-3.Chn\n",
      "../iec_files/Filtros-espectros/2018/CTP/CTP1110-3.iec\n",
      "../Ipen/Efluentes-gasosos/Filtros-espectros/2018/CTP/CTP2308-5.Chn\n",
      "../iec_files/Filtros-espectros/2018/CTP/CTP2308-5.iec\n"
     ]
    },
    {
     "name": "stdout",
     "output_type": "stream",
     "text": [
      "../Ipen/Efluentes-gasosos/Filtros-espectros/2018/CTP/CTP1204.Chn\n",
      "../iec_files/Filtros-espectros/2018/CTP/CTP1204.iec\n",
      "../Ipen/Efluentes-gasosos/Filtros-espectros/2018/CTP/CTP1110-2.Chn\n",
      "../iec_files/Filtros-espectros/2018/CTP/CTP1110-2.iec\n",
      "../Ipen/Efluentes-gasosos/Filtros-espectros/2018/CTP/CTP3008-3.Chn\n",
      "../iec_files/Filtros-espectros/2018/CTP/CTP3008-3.iec\n",
      "../Ipen/Efluentes-gasosos/Filtros-espectros/2018/CTP/CTP2203.Chn\n",
      "../iec_files/Filtros-espectros/2018/CTP/CTP2203.iec\n",
      "../Ipen/Efluentes-gasosos/Filtros-espectros/2018/CTP/CTP1312-3.Chn\n",
      "../iec_files/Filtros-espectros/2018/CTP/CTP1312-3.iec\n",
      "../Ipen/Efluentes-gasosos/Filtros-espectros/2018/CTP/CTP1503.Chn\n",
      "../iec_files/Filtros-espectros/2018/CTP/CTP1503.iec\n",
      "../Ipen/Efluentes-gasosos/Filtros-espectros/2018/CTP/CTP0103.Chn\n",
      "../iec_files/Filtros-espectros/2018/CTP/CTP0103.iec\n",
      "../Ipen/Efluentes-gasosos/Filtros-espectros/2018/CTP/CTP0410.Chn\n",
      "../iec_files/Filtros-espectros/2018/CTP/CTP0410.iec\n",
      "../Ipen/Efluentes-gasosos/Filtros-espectros/2018/CTP/CTP05073.Chn\n",
      "../iec_files/Filtros-espectros/2018/CTP/CTP05073.iec\n",
      "../Ipen/Efluentes-gasosos/Filtros-espectros/2018/CTP/CTP1110.Chn\n",
      "../iec_files/Filtros-espectros/2018/CTP/CTP1110.iec\n",
      "../Ipen/Efluentes-gasosos/Filtros-espectros/2018/CTP/CTP2709.Chn\n",
      "../iec_files/Filtros-espectros/2018/CTP/CTP2709.iec\n",
      "../Ipen/Efluentes-gasosos/Filtros-espectros/2018/CTP/CTP2709-3.Chn\n",
      "../iec_files/Filtros-espectros/2018/CTP/CTP2709-3.iec\n",
      "../Ipen/Efluentes-gasosos/Filtros-espectros/2018/CTP/CTP0609-2.Chn\n",
      "../iec_files/Filtros-espectros/2018/CTP/CTP0609-2.iec\n",
      "../Ipen/Efluentes-gasosos/Filtros-espectros/2018/CTP/CTP0410-2.Chn\n",
      "../iec_files/Filtros-espectros/2018/CTP/CTP0410-2.iec\n",
      "../Ipen/Efluentes-gasosos/Filtros-espectros/2018/CTP/CTP0612.Chn\n",
      "../iec_files/Filtros-espectros/2018/CTP/CTP0612.iec\n",
      "../Ipen/Efluentes-gasosos/Filtros-espectros/2018/CTP/CTP0706.Chn\n",
      "../iec_files/Filtros-espectros/2018/CTP/CTP0706.iec\n",
      "../Ipen/Efluentes-gasosos/Filtros-espectros/2018/CTP/CTP2009.Chn\n",
      "../iec_files/Filtros-espectros/2018/CTP/CTP2009.iec\n",
      "../Ipen/Efluentes-gasosos/Filtros-espectros/2018/CTP/CTP0102.Chn\n",
      "../iec_files/Filtros-espectros/2018/CTP/CTP0102.iec\n",
      "../Ipen/Efluentes-gasosos/Filtros-espectros/2018/CTP/CTP2211-2.Chn\n",
      "../iec_files/Filtros-espectros/2018/CTP/CTP2211-2.iec\n",
      "../Ipen/Efluentes-gasosos/Filtros-espectros/2018/CTP/CTP1411.Chn\n",
      "../iec_files/Filtros-espectros/2018/CTP/CTP1411.iec\n",
      "../Ipen/Efluentes-gasosos/Filtros-espectros/2018/CTP/CTP0811-2.Chn\n",
      "../iec_files/Filtros-espectros/2018/CTP/CTP0811-2.iec\n",
      "../Ipen/Efluentes-gasosos/Filtros-espectros/2018/CTP/CTP1312-2.Chn\n",
      "../iec_files/Filtros-espectros/2018/CTP/CTP1312-2.iec\n",
      "../Ipen/Efluentes-gasosos/Filtros-espectros/2018/CTP/CTP2009-3.Chn\n",
      "../iec_files/Filtros-espectros/2018/CTP/CTP2009-3.iec\n",
      "../Ipen/Efluentes-gasosos/Filtros-espectros/2018/CTP/CTP150218 2 CONTAGEM.Chn\n",
      "../iec_files/Filtros-espectros/2018/CTP/CTP150218 2 CONTAGEM.iec\n",
      "../Ipen/Efluentes-gasosos/Filtros-espectros/2018/CTP/CTP1207-4.Chn\n",
      "../iec_files/Filtros-espectros/2018/CTP/CTP1207-4.iec\n",
      "../Ipen/Efluentes-gasosos/Filtros-espectros/2018/CTP/CTP2712.Chn\n",
      "../iec_files/Filtros-espectros/2018/CTP/CTP2712.iec\n",
      "../Ipen/Efluentes-gasosos/Filtros-espectros/2018/CTP/PTP1406.Chn\n",
      "../iec_files/Filtros-espectros/2018/CTP/PTP1406.iec\n",
      "../Ipen/Efluentes-gasosos/Filtros-espectros/2018/CTP/CTP2203-2.Chn\n",
      "../iec_files/Filtros-espectros/2018/CTP/CTP2203-2.iec\n",
      "../Ipen/Efluentes-gasosos/Filtros-espectros/2018/CTP/CTP0612-3.Chn\n",
      "../iec_files/Filtros-espectros/2018/CTP/CTP0612-3.iec\n",
      "../Ipen/Efluentes-gasosos/Filtros-espectros/2018/CTP/CTP1312.Chn\n",
      "../iec_files/Filtros-espectros/2018/CTP/CTP1312.iec\n",
      "../Ipen/Efluentes-gasosos/Filtros-espectros/2018/CTP/CTP2009-4.Chn\n",
      "../iec_files/Filtros-espectros/2018/CTP/CTP2009-4.iec\n",
      "../Ipen/Efluentes-gasosos/Filtros-espectros/2018/CTP/CTP2911-3.Chn\n",
      "../iec_files/Filtros-espectros/2018/CTP/CTP2911-3.iec\n",
      "../Ipen/Efluentes-gasosos/Filtros-espectros/2018/CTP/CTP2211.Chn\n",
      "../iec_files/Filtros-espectros/2018/CTP/CTP2211.iec\n",
      "../Ipen/Efluentes-gasosos/Filtros-espectros/2018/CTP/CTP2009-2.Chn\n",
      "../iec_files/Filtros-espectros/2018/CTP/CTP2009-2.iec\n",
      "../Ipen/Efluentes-gasosos/Filtros-espectros/2018/CTP/CTP21063.Chn\n",
      "../iec_files/Filtros-espectros/2018/CTP/CTP21063.iec\n",
      "../Ipen/Efluentes-gasosos/Filtros-espectros/2018/CTP/CTP0410-3.Chn\n",
      "../iec_files/Filtros-espectros/2018/CTP/CTP0410-3.iec\n",
      "../Ipen/Efluentes-gasosos/Filtros-espectros/2018/CTP/CTP2911-4.Chn\n",
      "../iec_files/Filtros-espectros/2018/CTP/CTP2911-4.iec\n",
      "../Ipen/Efluentes-gasosos/Filtros-espectros/2018/CTP/CTP0908-2.Chn\n",
      "../iec_files/Filtros-espectros/2018/CTP/CTP0908-2.iec\n",
      "../Ipen/Efluentes-gasosos/Filtros-espectros/2018/CTP/CTP1907.Chn\n",
      "../iec_files/Filtros-espectros/2018/CTP/CTP1907.iec\n",
      "../Ipen/Efluentes-gasosos/Filtros-espectros/2018/CTP/CTP0208.Chn\n",
      "../iec_files/Filtros-espectros/2018/CTP/CTP0208.iec\n",
      "../Ipen/Efluentes-gasosos/Filtros-espectros/2018/CTP/CTP0609-4.Chn\n",
      "../iec_files/Filtros-espectros/2018/CTP/CTP0609-4.iec\n",
      "../Ipen/Efluentes-gasosos/Filtros-espectros/2018/CTP/CTP15032.Chn\n",
      "../iec_files/Filtros-espectros/2018/CTP/CTP15032.iec\n",
      "../Ipen/Efluentes-gasosos/Filtros-espectros/2018/CTP/CTP2607-2.Chn\n",
      "../iec_files/Filtros-espectros/2018/CTP/CTP2607-2.iec\n",
      "../Ipen/Efluentes-gasosos/Filtros-espectros/2018/CTP/CTP2012-2.Chn\n",
      "../iec_files/Filtros-espectros/2018/CTP/CTP2012-2.iec\n",
      "../Ipen/Efluentes-gasosos/Filtros-espectros/2018/CTP/CTP1309.Chn\n",
      "../iec_files/Filtros-espectros/2018/CTP/CTP1309.iec\n",
      "../Ipen/Efluentes-gasosos/Filtros-espectros/2018/CTP/CTP2607.Chn\n",
      "../iec_files/Filtros-espectros/2018/CTP/CTP2607.iec\n",
      "../Ipen/Efluentes-gasosos/Filtros-espectros/2018/CTP/CTP3008.Chn\n",
      "../iec_files/Filtros-espectros/2018/CTP/CTP3008.iec\n",
      "../Ipen/Efluentes-gasosos/Filtros-espectros/2018/CTP/CTP1005.Chn\n",
      "../iec_files/Filtros-espectros/2018/CTP/CTP1005.iec\n",
      "../Ipen/Efluentes-gasosos/Filtros-espectros/2018/CTP/CTP12072.Chn\n",
      "../iec_files/Filtros-espectros/2018/CTP/CTP12072.iec\n",
      "../Ipen/Efluentes-gasosos/Filtros-espectros/2018/CTP/CTP2510-2.Chn\n",
      "../iec_files/Filtros-espectros/2018/CTP/CTP2510-2.iec\n",
      "../Ipen/Efluentes-gasosos/Filtros-espectros/2018/CTP/CTP0811-3.Chn\n",
      "../iec_files/Filtros-espectros/2018/CTP/CTP0811-3.iec\n",
      "../Ipen/Efluentes-gasosos/Filtros-espectros/2018/CTP/CTP0305.Chn\n",
      "../iec_files/Filtros-espectros/2018/CTP/CTP0305.iec\n",
      "../Ipen/Efluentes-gasosos/Filtros-espectros/2018/CTP/CTP2106.Chn\n",
      "../iec_files/Filtros-espectros/2018/CTP/CTP2106.iec\n",
      "../Ipen/Efluentes-gasosos/Filtros-espectros/2018/CTP/CTP2203-3.Chn\n",
      "../iec_files/Filtros-espectros/2018/CTP/CTP2203-3.iec\n",
      "../Ipen/Efluentes-gasosos/Filtros-espectros/2018/CTP/CTP3005.Chn\n",
      "../iec_files/Filtros-espectros/2018/CTP/CTP3005.iec\n",
      "../Ipen/Efluentes-gasosos/Filtros-espectros/2018/CTP/CTP0305-2.Chn\n",
      "../iec_files/Filtros-espectros/2018/CTP/CTP0305-2.iec\n",
      "../Ipen/Efluentes-gasosos/Filtros-espectros/2018/CTP/CTP1801.Chn\n",
      "../iec_files/Filtros-espectros/2018/CTP/CTP1801.iec\n",
      "../Ipen/Efluentes-gasosos/Filtros-espectros/2018/CTP/CTP2903-2.Chn\n",
      "../iec_files/Filtros-espectros/2018/CTP/CTP2903-2.iec\n",
      "../Ipen/Efluentes-gasosos/Filtros-espectros/2018/CTP/CTP2709-4.Chn\n",
      "../iec_files/Filtros-espectros/2018/CTP/CTP2709-4.iec\n"
     ]
    }
   ],
   "source": [
    "# 2021-abr-26 Retomando.\n",
    "\n",
    "spec2 = Spec()\n",
    "for fblp in fb.lp:\n",
    "    if spec2.readSp( fblp ) >= 0:\n",
    "        print (fblp)\n",
    "        iecfile = '../iec_files' / Path(fblp).relative_to('../Ipen/Efluentes-gasosos').with_suffix('.iec')\n",
    "        print (iecfile)\n",
    "        # 2021-abr-27: as 2 linhas a seguir mostram como criar um dir se não existe.\n",
    "        pariec = Path(iecfile).parent\n",
    "        pariec.mkdir(parents=True, exist_ok=True)\n",
    "        # Passa um objeto spec e o nome do arquivo iec a criar. Falta pôr os metadados do arquivo.\n",
    "        convert_spec_to_iec(spec2, iecfile)\n",
    "        # Calcular espectro com ajuste parabólico na mesma janela e calculado no centro da janela\n",
    "        spec2.calc_parabSpec()\n",
    "        spec2.calc_regions()\n",
    "        # spec2.calc_newBaseLine()      "
   ]
  },
  {
   "cell_type": "code",
   "execution_count": null,
   "metadata": {},
   "outputs": [],
   "source": []
  }
 ],
 "metadata": {
  "jupytext": {
   "notebook_metadata_filter": "all"
  },
  "kernelspec": {
   "display_name": "Python 3",
   "language": "python",
   "name": "python3"
  },
  "language_info": {
   "codemirror_mode": {
    "name": "ipython",
    "version": 3
   },
   "file_extension": ".py",
   "mimetype": "text/x-python",
   "name": "python",
   "nbconvert_exporter": "python",
   "pygments_lexer": "ipython3",
   "version": "3.7.10"
  },
  "plotly": {
   "description": "How to add dropdowns to update Plotly chart attributes in Python.",
   "display_as": "controls",
   "language": "python",
   "layout": "base",
   "name": "Dropdown Menus",
   "order": 2,
   "page_type": "example_index",
   "permalink": "python/dropdowns/",
   "thumbnail": "thumbnail/dropdown.jpg"
  }
 },
 "nbformat": 4,
 "nbformat_minor": 4
}
