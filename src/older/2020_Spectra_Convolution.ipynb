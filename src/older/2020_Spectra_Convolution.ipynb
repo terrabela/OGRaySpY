{
 "cells": [
  {
   "cell_type": "code",
   "execution_count": 1,
   "metadata": {},
   "outputs": [],
   "source": [
    "# 2020-01-28\n",
    "# Versoes em uso: eram\n",
    "# NumPy: 1.17.4  verificar\n",
    "# SciPy: 1.3.1   verificar\n",
    "\n",
    "import numpy as np\n",
    "import numpy.ma as ma  # masked array\n",
    "import numpy.fft as fft\n",
    "from machine_selection import set_screen_size_by_machine\n",
    "\n",
    "# 2019-03-15\n",
    "# https://pandas.pydata.org/pandas-docs/stable/getting_started/10min.html\n",
    "import pandas as pd\n",
    "import csv\n",
    "from collections import defaultdict\n",
    "\n",
    "# 2019-11-06\n",
    "import time\n",
    "\n",
    "# 2020-01-29\n",
    "import timeit\n",
    "\n",
    "# 2019-11-03\n",
    "from filebatch_class import (FileBatch)\n",
    "\n",
    "# 2019-03-09\n",
    "from gamma_spectrum_class import (Spec)\n",
    "\n",
    "# 2019-09-16\n",
    "from gauss_funcs import gaus_fw, gaus_sig\n",
    "\n",
    "np.random.random(100)\n",
    "\n",
    "# 2019-07-15\n",
    "# https://docs.scipy.org/doc/numpy/reference/routines.polynomials.classes.html#basics\n",
    "from numpy.polynomial import Polynomial as P\n",
    "from numpy.polynomial.polynomial import (polyfit, polyval)\n",
    "\n",
    "from scipy.signal import (cwt, ricker, find_peaks, find_peaks_cwt, peak_widths, convolve, correlate, csd, periodogram, welch)\n",
    "from scipy.ndimage import label, generate_binary_structure, find_objects  # 2019-09-18\n",
    "from scipy.linalg import (norm)\n",
    "from scipy.spatial.distance import (pdist, cdist)\n",
    "\n",
    "from scipy.optimize import (curve_fit, root, lsq_linear, minimize)\n",
    "from scipy.stats import (iqr)\n",
    "from scipy.special import (expit)\n",
    "import base_line_funcs as blf\n",
    "import spectra_regions_funcs as spreg\n",
    "\n",
    "import matplotlib.pyplot as plt\n",
    "\n",
    "# frm spectra_regions_funcs import (total_analysis2)\n",
    "import csv\n",
    "import pickle\n",
    "from bokeh.models import ColumnDataSource, Whisker, Range1d, LabelSet, Label\n",
    "from bokeh.plotting import figure, output_file, output_notebook, show\n",
    "from bokeh import palettes"
   ]
  },
  {
   "cell_type": "raw",
   "metadata": {},
   "source": [
    "def spectr_transf(ai, *args):\n",
    "    specRef  = args[0]\n",
    "    specTest = args[1]\n",
    "    a0=ai[0]\n",
    "    a1=ai[1]\n",
    "    a2=ai[2]\n",
    "    transSpecTest = [a0,0] + ([a1,1]+[a2,0]*specTest) * specTest\n",
    "    signif = 0.0\n",
    "    for i, pair in enumerate(specRef):\n",
    "        diffChan = transSpecTest[i][0] - pair[0]\n",
    "        prodCnts = transSpecTest[i][1] * pair[1]\n",
    "        signif += (np.abs(diffChan) + 1)**(-10.0) * np.log(prodCnts + 1.0)\n",
    "    return 1.0e6 / signif"
   ]
  },
  {
   "cell_type": "code",
   "execution_count": 2,
   "metadata": {},
   "outputs": [],
   "source": [
    "def spectr_transf(ai, *args):\n",
    "    specRef  = args[0]\n",
    "    specTest = args[1]\n",
    "    a0=ai[0]\n",
    "    a1=ai[1]\n",
    "    a2=ai[2]\n",
    "    transSpecTest = [a0,0] + ([a1,1]+[a2,0]*specTest) * specTest\n",
    "    signif = 1.0\n",
    "    for i, pair in enumerate(specRef):\n",
    "        compareChan = int(np.round(transSpecTest[i][0]))\n",
    "        if compareChan in (0,4095):\n",
    "            prodCnts = transSpecTest[i][1] * specRef[compareChan][1]\n",
    "            signif += np.log(prodCnts + 1.0)\n",
    "    return 1.0e6 / signif"
   ]
  },
  {
   "cell_type": "code",
   "execution_count": 3,
   "metadata": {},
   "outputs": [],
   "source": [
    "def spectr_transf_lin(ai, *args):\n",
    "    specRef  = args[0]\n",
    "    specTest = args[1]\n",
    "    a0=ai[0]\n",
    "    a1=ai[1]\n",
    "    transSpecTest = [a0,0] + [a1,1] * specTest\n",
    "    signif = 1.0\n",
    "    for i, pair in enumerate(specRef):\n",
    "        compareChan = int(np.round(transSpecTest[i][0]))\n",
    "        if compareChan in (0,4095):\n",
    "            prodCnts = transSpecTest[i][1] * specRef[compareChan][1]\n",
    "            signif += np.log(prodCnts + 1.0)\n",
    "    return 1.0e6 / signif"
   ]
  },
  {
   "cell_type": "code",
   "execution_count": null,
   "metadata": {},
   "outputs": [],
   "source": []
  },
  {
   "cell_type": "code",
   "execution_count": 4,
   "metadata": {},
   "outputs": [],
   "source": [
    "##################################################\n",
    "\n",
    "## 2019-nov-warp2.ipynb\n",
    "## P.P.\n",
    "## 2019-11-03: Integrando an'alise em lote de 2019_big-histogram.ipynb \n",
    "## com an'alise Cwt+ridges de 2019-cwt-analysis-real_with_effic-curve-Pandas.ipynb\n",
    "\n",
    "fb = FileBatch()\n",
    "spec = Spec()"
   ]
  },
  {
   "cell_type": "raw",
   "metadata": {},
   "source": [
    "Pegando todos os arquivos SI"
   ]
  },
  {
   "cell_type": "code",
   "execution_count": 5,
   "metadata": {},
   "outputs": [
    {
     "name": "stdout",
     "output_type": "stream",
     "text": [
      "../Genie_Transfer/Si\n"
     ]
    }
   ],
   "source": [
    "fb.slotSetBatchCHN(\n",
    "    '../Genie_Transfer/Si'\n",
    ")"
   ]
  },
  {
   "cell_type": "code",
   "execution_count": 6,
   "metadata": {},
   "outputs": [
    {
     "name": "stdout",
     "output_type": "stream",
     "text": [
      "Num de arquivos:       1134 \n",
      "\n",
      "\n",
      "  arquivos\n"
     ]
    }
   ],
   "source": [
    "# print (fb.arqslist)\n",
    "print (fb.numarqstxt, ' arquivos')"
   ]
  },
  {
   "cell_type": "code",
   "execution_count": 7,
   "metadata": {},
   "outputs": [
    {
     "data": {
      "text/plain": [
       "array([0.63482287, 0.86598282, 0.07764565, 0.87010804, 0.97139825,\n",
       "       0.21552025, 0.81090015, 0.63332899, 0.04658186, 0.23425061,\n",
       "       0.15706534, 0.86691852, 0.82864751, 0.8131276 , 0.73401686,\n",
       "       0.76049374, 0.76926145, 0.29918919, 0.34013392, 0.89193186,\n",
       "       0.64619659, 0.45460067, 0.08976597, 0.46466312, 0.56927984,\n",
       "       0.52959627, 0.45588738, 0.35815032, 0.34744047, 0.1885235 ,\n",
       "       0.32120991, 0.02813424, 0.91667121, 0.42995931, 0.3941577 ,\n",
       "       0.31908082, 0.96233906, 0.65197519, 0.2243106 , 0.34375735,\n",
       "       0.33096127, 0.79448911, 0.61996654, 0.27016947, 0.685754  ,\n",
       "       0.53997211, 0.689282  , 0.0460812 , 0.29584935, 0.33173973,\n",
       "       0.38366114, 0.97710947, 0.17849804, 0.80162922, 0.83906862,\n",
       "       0.81362596, 0.72169769, 0.0848945 , 0.26065962, 0.73648071,\n",
       "       0.81175474, 0.79122643, 0.25489711, 0.87837154, 0.37402325,\n",
       "       0.95345434, 0.33620575, 0.83720992, 0.32521312, 0.78890075,\n",
       "       0.79395584, 0.32102918, 0.92828709, 0.56856497, 0.76283336,\n",
       "       0.82773902, 0.84077738, 0.80456793, 0.92169626, 0.37499239,\n",
       "       0.65020055, 0.4981399 , 0.51844021, 0.15084237, 0.86587094,\n",
       "       0.05913337, 0.25327728, 0.77686854, 0.72985435, 0.60992822,\n",
       "       0.89398182, 0.94012541, 0.05060978, 0.58018743, 0.06609019,\n",
       "       0.36594223, 0.09067341, 0.8548614 , 0.19790904, 0.44904215])"
      ]
     },
     "execution_count": 7,
     "metadata": {},
     "output_type": "execute_result"
    }
   ],
   "source": [
    "np.random.random(100)"
   ]
  },
  {
   "cell_type": "code",
   "execution_count": 8,
   "metadata": {},
   "outputs": [
    {
     "data": {
      "text/plain": [
       "array([ 909,  194,  642,   32,  535,  105,  803,  425,  916,  958, 1125,\n",
       "        469,  888,  315, 1022,  635,  573,   16,  158,  114,  659,  966,\n",
       "        590, 1003, 1011,  323,  152,   15,  388,  364,  601,  716,  644,\n",
       "        138,  705,   93,  432,  965, 1123,  655,  126,  294, 1060,  762,\n",
       "        976,  967,  537,  114,  583,  342,  126,  756, 1060,  539,  505,\n",
       "        704,    2,  299,  293,  828,  659,   59,  734,  304,   33,  159,\n",
       "        813,  432,  465, 1050,  463,  272,  768,  387,   16,  209,  974,\n",
       "        654,  880,   69,  825,   31, 1129,  825,   21,   35,   64,  446,\n",
       "        787,   23,  353, 1130, 1061, 1109, 1106,  468,  332, 1093,  220,\n",
       "        413])"
      ]
     },
     "execution_count": 8,
     "metadata": {},
     "output_type": "execute_result"
    }
   ],
   "source": [
    "# https://numpy.org/doc/1.17/reference/random/generated/numpy.random.Generator.integers.html\n",
    "rng = np.random.default_rng()\n",
    "# rng.integers(100, size=10)\n",
    "cemarqs = rng.integers(fb.numarqs, size=100)\n",
    "cemarqs"
   ]
  },
  {
   "cell_type": "code",
   "execution_count": 9,
   "metadata": {},
   "outputs": [
    {
     "data": {
      "text/plain": [
       "315"
      ]
     },
     "execution_count": 9,
     "metadata": {},
     "output_type": "execute_result"
    }
   ],
   "source": [
    "indicetreze = cemarqs[13]\n",
    "# 2019-12-14 Vou fixar o indicetreze em 162. Espectro de bombona, bem legal. Para isso, habilitar:\n",
    "# indicetreze = 162\n",
    "# 2020-01-28 J'a n~ao 'e mais isso. Agora farei convolu'c~ao de dois espectros.\n",
    "indicetreze"
   ]
  },
  {
   "cell_type": "code",
   "execution_count": 10,
   "metadata": {},
   "outputs": [
    {
     "data": {
      "text/plain": [
       "'../Genie_Transfer/Si/SI2007/SI09907.Chn'"
      ]
     },
     "execution_count": 10,
     "metadata": {},
     "output_type": "execute_result"
    }
   ],
   "source": [
    "arq_treze = fb.lp[indicetreze]\n",
    "arq_treze"
   ]
  },
  {
   "cell_type": "code",
   "execution_count": 11,
   "metadata": {},
   "outputs": [
    {
     "data": {
      "text/plain": [
       "0"
      ]
     },
     "execution_count": 11,
     "metadata": {},
     "output_type": "execute_result"
    }
   ],
   "source": [
    "aleator_spec = Spec()\n",
    "aleator_spec.readSp(arq_treze)"
   ]
  },
  {
   "cell_type": "code",
   "execution_count": 12,
   "metadata": {},
   "outputs": [],
   "source": [
    "aleator_spec.spCounts\n",
    "chans = np.asarray(list(range(len(aleator_spec.spCounts))))\n",
    "arrSpecRef = np.asarray([chans, aleator_spec.spCounts])"
   ]
  },
  {
   "cell_type": "code",
   "execution_count": 13,
   "metadata": {},
   "outputs": [
    {
     "data": {
      "text/plain": [
       "array([[   0,    1,    2, ..., 4093, 4094, 4095],\n",
       "       [   0,    0,    0, ...,    0,    3,    1]])"
      ]
     },
     "execution_count": 13,
     "metadata": {},
     "output_type": "execute_result"
    }
   ],
   "source": [
    "arrSpecRef"
   ]
  },
  {
   "cell_type": "code",
   "execution_count": 14,
   "metadata": {},
   "outputs": [
    {
     "data": {
      "text/plain": [
       "(2, 4096)"
      ]
     },
     "execution_count": 14,
     "metadata": {},
     "output_type": "execute_result"
    }
   ],
   "source": [
    "arrSpecRef.shape"
   ]
  },
  {
   "cell_type": "code",
   "execution_count": 15,
   "metadata": {},
   "outputs": [
    {
     "name": "stdout",
     "output_type": "stream",
     "text": [
      "../Genie_Transfer/Si/SI2019/SI02819.Chn\n"
     ]
    },
    {
     "data": {
      "text/plain": [
       "(2, 4096)"
      ]
     },
     "execution_count": 15,
     "metadata": {},
     "output_type": "execute_result"
    }
   ],
   "source": [
    "# arrSpecTest = arrSpecRef.copy()\n",
    "\n",
    "indicequinze = cemarqs[15]\n",
    "print(fb.lp[indicequinze])\n",
    "\n",
    "spec = Spec()\n",
    "spec.readSp(fb.lp[indicequinze])\n",
    "arrSpecTest = np.asarray([np.asarray(list(range(len(spec.spCounts)))), spec.spCounts])\n",
    "\n",
    "arrSpecTest.shape"
   ]
  },
  {
   "cell_type": "code",
   "execution_count": 16,
   "metadata": {},
   "outputs": [
    {
     "data": {
      "text/plain": [
       "(4096,)"
      ]
     },
     "execution_count": 16,
     "metadata": {},
     "output_type": "execute_result"
    }
   ],
   "source": [
    "arrSpecRef[1].shape"
   ]
  },
  {
   "cell_type": "code",
   "execution_count": 17,
   "metadata": {},
   "outputs": [
    {
     "data": {
      "text/plain": [
       "(4096,)"
      ]
     },
     "execution_count": 17,
     "metadata": {},
     "output_type": "execute_result"
    }
   ],
   "source": [
    "arrSpecTest[1].shape"
   ]
  },
  {
   "cell_type": "code",
   "execution_count": null,
   "metadata": {},
   "outputs": [],
   "source": []
  },
  {
   "cell_type": "code",
   "execution_count": null,
   "metadata": {},
   "outputs": [],
   "source": []
  },
  {
   "cell_type": "code",
   "execution_count": 18,
   "metadata": {},
   "outputs": [],
   "source": [
    "# 2020-01-28\n",
    "# Gr'aficos:\n",
    "default_plot_width, default_plot_height = set_screen_size_by_machine()"
   ]
  },
  {
   "cell_type": "code",
   "execution_count": null,
   "metadata": {},
   "outputs": [],
   "source": []
  },
  {
   "cell_type": "code",
   "execution_count": 19,
   "metadata": {},
   "outputs": [],
   "source": [
    "xs = chans\n",
    "y0s = arrSpecRef[1]\n",
    "bokspecdiag = figure(\n",
    "   plot_width =default_plot_width,\n",
    "   plot_height=default_plot_height,\n",
    "   tools=\"pan,box_zoom,reset,save\",\n",
    "   y_axis_type=\"log\",\n",
    "   y_range=[10**1, 10**5], title=\"arrSpecRef[1]\",\n",
    "   # y_range=[-1000.0, 1000.0], title=\"synth\",\n",
    "   x_axis_label='canais', y_axis_label='contagens'\n",
    ")\n",
    "bokspecdiag.circle(xs, y0s, color=\"green\",size=2)\n",
    "bokspecdiag.line(xs, y0s, color=\"green\")\n",
    "show(bokspecdiag)"
   ]
  },
  {
   "cell_type": "code",
   "execution_count": 20,
   "metadata": {},
   "outputs": [],
   "source": [
    "xs = chans\n",
    "y0s = arrSpecTest[1]\n",
    "bokspecdiag = figure(\n",
    "   plot_width =default_plot_width,\n",
    "   plot_height=default_plot_height,\n",
    "   tools=\"pan,box_zoom,reset,save\",\n",
    "   y_axis_type=\"log\",\n",
    "   y_range=[10**1, 10**5], title=\"arrSpecTest[1]\",\n",
    "   # y_range=[-1000.0, 1000.0], title=\"synth\",\n",
    "   x_axis_label='canais', y_axis_label='contagens'\n",
    ")\n",
    "bokspecdiag.circle(xs, y0s, color=\"green\",size=2)\n",
    "bokspecdiag.line(xs, y0s, color=\"green\")\n",
    "show(bokspecdiag)"
   ]
  },
  {
   "cell_type": "code",
   "execution_count": 21,
   "metadata": {},
   "outputs": [
    {
     "data": {
      "text/plain": [
       "1580754481.6236324"
      ]
     },
     "execution_count": 21,
     "metadata": {},
     "output_type": "execute_result"
    }
   ],
   "source": [
    "t1 = time.time()\n",
    "t1"
   ]
  },
  {
   "cell_type": "code",
   "execution_count": 22,
   "metadata": {},
   "outputs": [
    {
     "data": {
      "text/plain": [
       "array([[0.00000000e+00, 1.00000000e+00, 2.00000000e+00, ...,\n",
       "        4.09300000e+03, 4.09400110e+03, 4.09500012e+03],\n",
       "       [1.00000000e+00, 0.00000000e+00, 1.00000000e+00, ...,\n",
       "        4.09200000e+03, 4.09300110e+03, 4.09400012e+03],\n",
       "       [2.00000000e+00, 1.00000000e+00, 0.00000000e+00, ...,\n",
       "        4.09100000e+03, 4.09200110e+03, 4.09300012e+03],\n",
       "       ...,\n",
       "       [4.09300000e+03, 4.09200000e+03, 4.09100000e+03, ...,\n",
       "        0.00000000e+00, 3.16227766e+00, 2.23606798e+00],\n",
       "       [4.09400012e+03, 4.09300012e+03, 4.09200012e+03, ...,\n",
       "        1.41421356e+00, 2.00000000e+00, 1.00000000e+00],\n",
       "       [4.09500012e+03, 4.09400012e+03, 4.09300012e+03, ...,\n",
       "        2.23606798e+00, 2.23606798e+00, 0.00000000e+00]])"
      ]
     },
     "execution_count": 22,
     "metadata": {},
     "output_type": "execute_result"
    }
   ],
   "source": [
    "h = cdist(arrSpecTest.T, arrSpecRef.T)\n",
    "h"
   ]
  },
  {
   "cell_type": "code",
   "execution_count": 23,
   "metadata": {},
   "outputs": [
    {
     "data": {
      "text/plain": [
       "(4096, 4096)"
      ]
     },
     "execution_count": 23,
     "metadata": {},
     "output_type": "execute_result"
    }
   ],
   "source": [
    "h.shape"
   ]
  },
  {
   "cell_type": "code",
   "execution_count": 24,
   "metadata": {},
   "outputs": [
    {
     "data": {
      "text/plain": [
       "array([0., 0., 0., ..., 0., 2., 0.])"
      ]
     },
     "execution_count": 24,
     "metadata": {},
     "output_type": "execute_result"
    }
   ],
   "source": [
    "hdiag = h.diagonal()\n",
    "hdiag"
   ]
  },
  {
   "cell_type": "code",
   "execution_count": 25,
   "metadata": {},
   "outputs": [
    {
     "data": {
      "text/plain": [
       "1580754482.1710293"
      ]
     },
     "execution_count": 25,
     "metadata": {},
     "output_type": "execute_result"
    }
   ],
   "source": [
    "t2 = time.time()\n",
    "t2"
   ]
  },
  {
   "cell_type": "code",
   "execution_count": 26,
   "metadata": {},
   "outputs": [
    {
     "data": {
      "text/plain": [
       "696376.0"
      ]
     },
     "execution_count": 26,
     "metadata": {},
     "output_type": "execute_result"
    }
   ],
   "source": [
    "sum(hdiag)"
   ]
  },
  {
   "cell_type": "code",
   "execution_count": 27,
   "metadata": {},
   "outputs": [],
   "source": [
    "y0s = hdiag\n",
    "bokspecdiag = figure(\n",
    "   plot_width =default_plot_width,\n",
    "   plot_height=default_plot_height,\n",
    "   tools=\"pan,box_zoom,reset,save\",\n",
    "   y_axis_type=\"log\",\n",
    "   y_range=[10**1, 10**5], title=\"hdiag\",\n",
    "   # y_range=[-1000.0, 1000.0], title=\"synth\",\n",
    "   x_axis_label='canais', y_axis_label='contagens'\n",
    ")\n",
    "bokspecdiag.circle(xs, y0s, color=\"green\",size=2)\n",
    "bokspecdiag.line(xs, y0s, color=\"green\")\n",
    "show(bokspecdiag)"
   ]
  },
  {
   "cell_type": "code",
   "execution_count": null,
   "metadata": {},
   "outputs": [],
   "source": []
  },
  {
   "cell_type": "code",
   "execution_count": 28,
   "metadata": {},
   "outputs": [
    {
     "data": {
      "text/plain": [
       "1580754482.6633277"
      ]
     },
     "execution_count": 28,
     "metadata": {},
     "output_type": "execute_result"
    }
   ],
   "source": [
    "t3 = time.time()\n",
    "t3"
   ]
  },
  {
   "cell_type": "code",
   "execution_count": 29,
   "metadata": {},
   "outputs": [],
   "source": [
    "h3 = np.sum((arrSpecTest.T - arrSpecRef.T)**2,axis=1)"
   ]
  },
  {
   "cell_type": "code",
   "execution_count": 30,
   "metadata": {},
   "outputs": [
    {
     "data": {
      "text/plain": [
       "1580754482.8714519"
      ]
     },
     "execution_count": 30,
     "metadata": {},
     "output_type": "execute_result"
    }
   ],
   "source": [
    "t4 = time.time()\n",
    "t4"
   ]
  },
  {
   "cell_type": "code",
   "execution_count": 31,
   "metadata": {},
   "outputs": [
    {
     "data": {
      "text/plain": [
       "43446.979987106126"
      ]
     },
     "execution_count": 31,
     "metadata": {},
     "output_type": "execute_result"
    }
   ],
   "source": [
    "norm(arrSpecTest.T - arrSpecRef.T)"
   ]
  },
  {
   "cell_type": "code",
   "execution_count": 32,
   "metadata": {},
   "outputs": [
    {
     "data": {
      "text/plain": [
       "1887640070"
      ]
     },
     "execution_count": 32,
     "metadata": {},
     "output_type": "execute_result"
    }
   ],
   "source": [
    "sum(h3)"
   ]
  },
  {
   "cell_type": "code",
   "execution_count": 33,
   "metadata": {},
   "outputs": [],
   "source": [
    "y0s = h3\n",
    "bokspecdiag = figure(\n",
    "   plot_width =default_plot_width,\n",
    "   plot_height=default_plot_height,\n",
    "   tools=\"pan,box_zoom,reset,save\",\n",
    "   y_axis_type=\"log\",\n",
    "   y_range=[10**1, 10**5], title=\"h3\",\n",
    "   # y_range=[-1000.0, 1000.0], title=\"synth\",\n",
    "   x_axis_label='canais', y_axis_label='contagens'\n",
    ")\n",
    "bokspecdiag.circle(xs, y0s, color=\"green\",size=2)\n",
    "bokspecdiag.line(xs, y0s, color=\"blue\")\n",
    "show(bokspecdiag)"
   ]
  },
  {
   "cell_type": "code",
   "execution_count": 34,
   "metadata": {},
   "outputs": [
    {
     "data": {
      "text/plain": [
       "1580754481.6236324"
      ]
     },
     "execution_count": 34,
     "metadata": {},
     "output_type": "execute_result"
    }
   ],
   "source": [
    "t1"
   ]
  },
  {
   "cell_type": "code",
   "execution_count": 35,
   "metadata": {},
   "outputs": [
    {
     "data": {
      "text/plain": [
       "1580754482.1710293"
      ]
     },
     "execution_count": 35,
     "metadata": {},
     "output_type": "execute_result"
    }
   ],
   "source": [
    "t2"
   ]
  },
  {
   "cell_type": "code",
   "execution_count": 36,
   "metadata": {},
   "outputs": [
    {
     "data": {
      "text/plain": [
       "0.5473968982696533"
      ]
     },
     "execution_count": 36,
     "metadata": {},
     "output_type": "execute_result"
    }
   ],
   "source": [
    "t2-t1"
   ]
  },
  {
   "cell_type": "code",
   "execution_count": 37,
   "metadata": {},
   "outputs": [
    {
     "data": {
      "text/plain": [
       "1580754482.6633277"
      ]
     },
     "execution_count": 37,
     "metadata": {},
     "output_type": "execute_result"
    }
   ],
   "source": [
    "t3"
   ]
  },
  {
   "cell_type": "code",
   "execution_count": 38,
   "metadata": {},
   "outputs": [
    {
     "data": {
      "text/plain": [
       "1580754482.8714519"
      ]
     },
     "execution_count": 38,
     "metadata": {},
     "output_type": "execute_result"
    }
   ],
   "source": [
    "t4"
   ]
  },
  {
   "cell_type": "code",
   "execution_count": 39,
   "metadata": {},
   "outputs": [
    {
     "data": {
      "text/plain": [
       "0.20812416076660156"
      ]
     },
     "execution_count": 39,
     "metadata": {},
     "output_type": "execute_result"
    }
   ],
   "source": [
    "t4-t3"
   ]
  },
  {
   "cell_type": "code",
   "execution_count": 40,
   "metadata": {},
   "outputs": [
    {
     "data": {
      "text/plain": [
       "array([[   0,    0],\n",
       "       [   1,    0],\n",
       "       [   2,    0],\n",
       "       ...,\n",
       "       [4093,    0],\n",
       "       [4094,    1],\n",
       "       [4095,    1]])"
      ]
     },
     "execution_count": 40,
     "metadata": {},
     "output_type": "execute_result"
    }
   ],
   "source": [
    "specTest = arrSpecTest.T\n",
    "specTest"
   ]
  },
  {
   "cell_type": "code",
   "execution_count": 41,
   "metadata": {},
   "outputs": [
    {
     "data": {
      "text/plain": [
       "array([[   0,    0],\n",
       "       [   1,    0],\n",
       "       [   2,    0],\n",
       "       ...,\n",
       "       [4093,    0],\n",
       "       [4094,    3],\n",
       "       [4095,    1]])"
      ]
     },
     "execution_count": 41,
     "metadata": {},
     "output_type": "execute_result"
    }
   ],
   "source": [
    "specRef = arrSpecRef.T\n",
    "specRef"
   ]
  },
  {
   "cell_type": "code",
   "execution_count": 42,
   "metadata": {},
   "outputs": [],
   "source": [
    "# signal 1 and 2:\n",
    "s1 = arrSpecRef[1]\n",
    "# s2 = arrSpecTest[1]\n",
    "xs = list(range(len(s1)))\n",
    "\n",
    "s2 = np.zeros(len(s1))\n",
    "# Tentando espectro deslocado artificialmente:\n",
    "for i in range(53, len(s2)-1):\n",
    "    s2[i] = s1[i-53]"
   ]
  },
  {
   "cell_type": "code",
   "execution_count": 43,
   "metadata": {},
   "outputs": [
    {
     "data": {
      "text/plain": [
       "4096"
      ]
     },
     "execution_count": 43,
     "metadata": {},
     "output_type": "execute_result"
    }
   ],
   "source": [
    "len(s2)"
   ]
  },
  {
   "cell_type": "code",
   "execution_count": 44,
   "metadata": {},
   "outputs": [
    {
     "data": {
      "text/plain": [
       "array([ 238.,  291.,  256.,  279.,  276.,  281.,  335.,  386.,  388.,\n",
       "        290.,  261.,  249.,  272.,  279.,  271.,  243.,  246.,  253.,\n",
       "        271.,  233.,  234.,  284.,  248.,  257.,  261.,  261.,  256.,\n",
       "        268.,  228.,  234.,  249.,  242.,  231.,  222.,  266.,  282.,\n",
       "        405.,  378.,  291.,  273.,  241.,  240.,  240.,  258.,  263.,\n",
       "        273.,  240.,  238.,  223.,  242.,  216.,  217.,  223.,  223.,\n",
       "        248.,  238.,  255.,  234.,  226.,  259.,  226.,  223.,  237.,\n",
       "        239.,  241.,  229.,  220.,  246.,  241.,  239.,  220.,  250.,\n",
       "        221.,  260.,  230.,  231.,  238.,  244.,  234.,  244.,  242.,\n",
       "        261.,  222.,  249.,  228.,  275.,  268.,  246.,  257.,  285.,\n",
       "        222.,  270.,  508., 1104., 1295.,  733.,  307.,  219.,  223.,\n",
       "        236.])"
      ]
     },
     "execution_count": 44,
     "metadata": {},
     "output_type": "execute_result"
    }
   ],
   "source": [
    "s2[1000:1100]"
   ]
  },
  {
   "cell_type": "code",
   "execution_count": 45,
   "metadata": {},
   "outputs": [
    {
     "data": {
      "image/png": "[encoded data removed]",
      "text/plain": [
       "<Figure size 432x288 with 1 Axes>"
      ]
     },
     "metadata": {
      "needs_background": "light"
     },
     "output_type": "display_data"
    }
   ],
   "source": [
    "fs = 10e3\n",
    "plt.semilogy(xs, s1)\n",
    "plt.ylim([1, 1e5])\n",
    "plt.show()"
   ]
  },
  {
   "cell_type": "code",
   "execution_count": 46,
   "metadata": {},
   "outputs": [
    {
     "data": {
      "image/png": "[encoded data removed]",
      "text/plain": [
       "<Figure size 432x288 with 1 Axes>"
      ]
     },
     "metadata": {
      "needs_background": "light"
     },
     "output_type": "display_data"
    }
   ],
   "source": [
    "fs = 10e3\n",
    "plt.semilogy(xs, s2)\n",
    "plt.ylim([1, 1e5])\n",
    "plt.show()"
   ]
  },
  {
   "cell_type": "code",
   "execution_count": 47,
   "metadata": {},
   "outputs": [
    {
     "data": {
      "image/png": "[encoded data removed]",
      "text/plain": [
       "<Figure size 432x288 with 1 Axes>"
      ]
     },
     "metadata": {
      "needs_background": "light"
     },
     "output_type": "display_data"
    }
   ],
   "source": [
    "s1s2 = s1*s2\n",
    "fs = 10e3\n",
    "plt.semilogy(xs, s1s2)\n",
    "plt.ylim([1, 1e11])\n",
    "plt.show()"
   ]
  },
  {
   "cell_type": "code",
   "execution_count": 48,
   "metadata": {},
   "outputs": [
    {
     "data": {
      "image/png": "[encoded data removed]",
      "text/plain": [
       "<Figure size 432x288 with 1 Axes>"
      ]
     },
     "metadata": {
      "needs_background": "light"
     },
     "output_type": "display_data"
    }
   ],
   "source": [
    "fs = 10e3\n",
    "f, Pxx_den = periodogram(s1, fs)\n",
    "plt.semilogy(f, Pxx_den)\n",
    "plt.ylim([1e-7, 1e2])\n",
    "plt.show()"
   ]
  },
  {
   "cell_type": "code",
   "execution_count": 49,
   "metadata": {},
   "outputs": [
    {
     "data": {
      "image/png": "[encoded data removed]",
      "text/plain": [
       "<Figure size 432x288 with 1 Axes>"
      ]
     },
     "metadata": {
      "needs_background": "light"
     },
     "output_type": "display_data"
    }
   ],
   "source": [
    "fs = 10e3\n",
    "f, Pxx_den = periodogram(s2, fs)\n",
    "plt.semilogy(f, Pxx_den)\n",
    "plt.ylim([1e-7, 1e2])\n",
    "plt.show()"
   ]
  },
  {
   "cell_type": "code",
   "execution_count": 54,
   "metadata": {},
   "outputs": [
    {
     "data": {
      "image/png": "[encoded data removed]",
      "text/plain": [
       "<Figure size 432x288 with 1 Axes>"
      ]
     },
     "metadata": {
      "needs_background": "light"
     },
     "output_type": "display_data"
    }
   ],
   "source": [
    "fs = 10e3\n",
    "f, Pxx_den = periodogram(s1s2, fs)\n",
    "plt.semilogy(f, Pxx_den)\n",
    "plt.ylim([1e2, 1e8])\n",
    "plt.show()"
   ]
  },
  {
   "cell_type": "code",
   "execution_count": 54,
   "metadata": {},
   "outputs": [
    {
     "data": {
      "image/png": "[encoded data removed]",
      "text/plain": [
       "<Figure size 432x288 with 1 Axes>"
      ]
     },
     "metadata": {
      "needs_background": "light"
     },
     "output_type": "display_data"
    }
   ],
   "source": [
    "fs = 10e3\n",
    "f, Pxx_den = welc(s1s2, fs)\n",
    "plt.semilogy(f, Pxx_den)\n",
    "plt.ylim([1e2, 1e8])\n",
    "plt.show()"
   ]
  },
  {
   "cell_type": "code",
   "execution_count": 51,
   "metadata": {},
   "outputs": [
    {
     "ename": "NameError",
     "evalue": "name 'x' is not defined",
     "output_type": "error",
     "traceback": [
      "\u001b[0;31m---------------------------------------------------------------------------\u001b[0m",
      "\u001b[0;31mNameError\u001b[0m                                 Traceback (most recent call last)",
      "\u001b[0;32m<ipython-input-51-987425436ef0>\u001b[0m in \u001b[0;36m<module>\u001b[0;34m\u001b[0m\n\u001b[1;32m      1\u001b[0m \u001b[0mfs\u001b[0m \u001b[0;34m=\u001b[0m \u001b[0;36m10e3\u001b[0m\u001b[0;34m\u001b[0m\u001b[0;34m\u001b[0m\u001b[0m\n\u001b[0;32m----> 2\u001b[0;31m \u001b[0mf\u001b[0m\u001b[0;34m,\u001b[0m \u001b[0mPxx_den\u001b[0m \u001b[0;34m=\u001b[0m \u001b[0mwelch\u001b[0m\u001b[0;34m(\u001b[0m\u001b[0mx\u001b[0m\u001b[0;34m,\u001b[0m \u001b[0mfs\u001b[0m\u001b[0;34m)\u001b[0m\u001b[0;34m\u001b[0m\u001b[0;34m\u001b[0m\u001b[0m\n\u001b[0m\u001b[1;32m      3\u001b[0m \u001b[0mplt\u001b[0m\u001b[0;34m.\u001b[0m\u001b[0msemilogy\u001b[0m\u001b[0;34m(\u001b[0m\u001b[0mf\u001b[0m\u001b[0;34m,\u001b[0m \u001b[0mPxx_den\u001b[0m\u001b[0;34m)\u001b[0m\u001b[0;34m\u001b[0m\u001b[0;34m\u001b[0m\u001b[0m\n\u001b[1;32m      4\u001b[0m \u001b[0mplt\u001b[0m\u001b[0;34m.\u001b[0m\u001b[0mylim\u001b[0m\u001b[0;34m(\u001b[0m\u001b[0;34m[\u001b[0m\u001b[0;36m1e-7\u001b[0m\u001b[0;34m,\u001b[0m \u001b[0;36m1e4\u001b[0m\u001b[0;34m]\u001b[0m\u001b[0;34m)\u001b[0m\u001b[0;34m\u001b[0m\u001b[0;34m\u001b[0m\u001b[0m\n\u001b[1;32m      5\u001b[0m \u001b[0mplt\u001b[0m\u001b[0;34m.\u001b[0m\u001b[0mxlabel\u001b[0m\u001b[0;34m(\u001b[0m\u001b[0;34m'frequency [Hz]'\u001b[0m\u001b[0;34m)\u001b[0m\u001b[0;34m\u001b[0m\u001b[0;34m\u001b[0m\u001b[0m\n",
      "\u001b[0;31mNameError\u001b[0m: name 'x' is not defined"
     ]
    }
   ],
   "source": [
    "fs = 10e3\n",
    "f, Pxx_den = welch(x, fs)\n",
    "plt.semilogy(f, Pxx_den)\n",
    "plt.ylim([1e-7, 1e4])\n",
    "plt.xlabel('frequency [Hz]')\n",
    "plt.ylabel('PSD [V**2/Hz]')\n",
    "plt.show()"
   ]
  },
  {
   "cell_type": "code",
   "execution_count": null,
   "metadata": {},
   "outputs": [],
   "source": [
    "fs = 10e3\n",
    "f, Pxx_den = welch(y, fs)\n",
    "plt.semilogy(f, Pxx_den)\n",
    "plt.ylim([1e-7, 1e2])\n",
    "plt.xlabel('frequency [Hz]')\n",
    "plt.ylabel('PSD [V**2/Hz]')\n",
    "plt.show()"
   ]
  },
  {
   "cell_type": "code",
   "execution_count": null,
   "metadata": {},
   "outputs": [],
   "source": [
    "fs = 1000\n",
    "f, Pxy = csd(x, y, fs, nperseg=1024)\n",
    "plt.semilogy(f, np.abs(Pxy))\n",
    "plt.xlabel('frequency [Hz]')\n",
    "plt.ylabel('CSD [V**2/Hz]')\n",
    "plt.show()"
   ]
  },
  {
   "cell_type": "code",
   "execution_count": null,
   "metadata": {},
   "outputs": [],
   "source": [
    "fs = 1000\n",
    "f, Pxy = csd(x, y, fs, nperseg=1024)\n",
    "plt.semilogy(f, np.abs(Pxy))\n",
    "plt.xlabel('frequency [Hz]')\n",
    "plt.ylabel('CSD [V**2/Hz]')\n",
    "plt.show()"
   ]
  },
  {
   "cell_type": "code",
   "execution_count": null,
   "metadata": {},
   "outputs": [],
   "source": []
  },
  {
   "cell_type": "code",
   "execution_count": null,
   "metadata": {},
   "outputs": [],
   "source": []
  },
  {
   "cell_type": "code",
   "execution_count": null,
   "metadata": {},
   "outputs": [],
   "source": []
  },
  {
   "cell_type": "code",
   "execution_count": null,
   "metadata": {},
   "outputs": [],
   "source": []
  },
  {
   "cell_type": "code",
   "execution_count": null,
   "metadata": {},
   "outputs": [],
   "source": [
    "arrSpecRef[1]"
   ]
  },
  {
   "cell_type": "code",
   "execution_count": null,
   "metadata": {},
   "outputs": [],
   "source": []
  },
  {
   "cell_type": "code",
   "execution_count": null,
   "metadata": {},
   "outputs": [],
   "source": []
  },
  {
   "cell_type": "code",
   "execution_count": null,
   "metadata": {},
   "outputs": [],
   "source": []
  },
  {
   "cell_type": "code",
   "execution_count": null,
   "metadata": {},
   "outputs": [],
   "source": []
  },
  {
   "cell_type": "code",
   "execution_count": null,
   "metadata": {},
   "outputs": [],
   "source": [
    "cross1 = csd(arrSpecRef[1], arrSpecTest[1])\n",
    "cross1"
   ]
  },
  {
   "cell_type": "code",
   "execution_count": null,
   "metadata": {},
   "outputs": [],
   "source": [
    "cross0 = csd(arrSpecRef[0], arrSpecTest[0])\n",
    "cross0"
   ]
  },
  {
   "cell_type": "code",
   "execution_count": null,
   "metadata": {},
   "outputs": [],
   "source": []
  },
  {
   "cell_type": "code",
   "execution_count": null,
   "metadata": {},
   "outputs": [],
   "source": [
    "result = minimize(spectr_transf, [0,1,0], args=(specRef, specTest), method = 'Nelder-Mead')\n",
    "result"
   ]
  },
  {
   "cell_type": "code",
   "execution_count": null,
   "metadata": {},
   "outputs": [],
   "source": [
    "result = minimize(spectr_transf, [0,1,0], args=(specRef, specTest), method = 'Nelder-Mead')\n",
    "result"
   ]
  },
  {
   "cell_type": "code",
   "execution_count": null,
   "metadata": {},
   "outputs": [],
   "source": [
    "result = minimize(spectr_transf_lin, [0,1], args=(specRef, specTest), method = 'Nelder-Mead')\n",
    "result"
   ]
  },
  {
   "cell_type": "code",
   "execution_count": null,
   "metadata": {},
   "outputs": [],
   "source": []
  },
  {
   "cell_type": "code",
   "execution_count": null,
   "metadata": {},
   "outputs": [],
   "source": [
    "a1 = 1.0\n",
    "a2 = 0.0\n",
    "for a0 in np.linspace(-10.0, 10.0, 50):\n",
    "    result = spectr_transf([a0,a1,a2],specRef, specTest)\n",
    "    print (a0)\n",
    "    print (result)"
   ]
  },
  {
   "cell_type": "code",
   "execution_count": null,
   "metadata": {},
   "outputs": [],
   "source": []
  },
  {
   "cell_type": "code",
   "execution_count": null,
   "metadata": {},
   "outputs": [],
   "source": [
    "result = minimize(spectr_transf_lin, [0,1], args=(specRef, specTest), method = 'Nelder-Mead')\n",
    "result"
   ]
  },
  {
   "cell_type": "code",
   "execution_count": null,
   "metadata": {},
   "outputs": [],
   "source": []
  },
  {
   "cell_type": "code",
   "execution_count": null,
   "metadata": {},
   "outputs": [],
   "source": [
    "xs = chans\n",
    "y0s = arrSpecRef[1]\n",
    "bokspecdiag = figure(\n",
    "   plot_width =default_plot_width,\n",
    "   plot_height=default_plot_height,\n",
    "   tools=\"pan,box_zoom,reset,save\",\n",
    "   y_axis_type=\"log\",\n",
    "   y_range=[10**1, 10**5], title=\"arrSpecRef[1]\",\n",
    "   x_axis_label='canais', y_axis_label='contagens'\n",
    ")\n",
    "bokspecdiag.circle(xs, y0s, color=\"green\",size=2)\n",
    "bokspecdiag.line(xs, y0s, color=\"green\")\n",
    "show(bokspecdiag)"
   ]
  },
  {
   "cell_type": "code",
   "execution_count": null,
   "metadata": {},
   "outputs": [],
   "source": [
    "xs = chans\n",
    "y0s = arrSpecTest[1]\n",
    "bokspecdiag = figure(\n",
    "   plot_width =default_plot_width,\n",
    "   plot_height=default_plot_height,\n",
    "   tools=\"pan,box_zoom,reset,save\",\n",
    "   y_axis_type=\"log\",\n",
    "   y_range=[10**1, 10**5], title=\"arrSpecTest[1]\",\n",
    "   x_axis_label='canais', y_axis_label='contagens'\n",
    ")\n",
    "bokspecdiag.circle(xs, y0s, color=\"green\",size=2)\n",
    "bokspecdiag.line(xs, y0s, color=\"green\")\n",
    "show(bokspecdiag)"
   ]
  },
  {
   "cell_type": "code",
   "execution_count": null,
   "metadata": {},
   "outputs": [],
   "source": []
  },
  {
   "cell_type": "code",
   "execution_count": null,
   "metadata": {},
   "outputs": [],
   "source": []
  },
  {
   "cell_type": "code",
   "execution_count": null,
   "metadata": {},
   "outputs": [],
   "source": [
    "np.round(-31.4)"
   ]
  },
  {
   "cell_type": "code",
   "execution_count": null,
   "metadata": {},
   "outputs": [],
   "source": [
    "10 in (6,9)"
   ]
  },
  {
   "cell_type": "code",
   "execution_count": null,
   "metadata": {},
   "outputs": [],
   "source": []
  }
 ],
 "metadata": {
  "kernelspec": {
   "display_name": "Python 3",
   "language": "python",
   "name": "python3"
  },
  "language_info": {
   "codemirror_mode": {
    "name": "ipython",
    "version": 3
   },
   "file_extension": ".py",
   "mimetype": "text/x-python",
   "name": "python",
   "nbconvert_exporter": "python",
   "pygments_lexer": "ipython3",
   "version": "3.7.6"
  }
 },
 "nbformat": 4,
 "nbformat_minor": 4
}
