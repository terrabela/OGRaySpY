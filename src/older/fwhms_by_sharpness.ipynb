{
 "cells": [
  {
   "cell_type": "code",
   "execution_count": null,
   "metadata": {},
   "outputs": [],
   "source": []
  },
  {
   "cell_type": "code",
   "execution_count": 84,
   "metadata": {},
   "outputs": [],
   "source": [
    "# Definindo fun,c~ao com shs fixos\n",
    "def g1(*shs):\n",
    "    def g2(x, *hescns):\n",
    "        pcompl = np.array([])\n",
    "        ng = int( len(hescns) / 2)\n",
    "        for i in range(ng):\n",
    "            pcompl = np.append(pcompl, (shs[i], hescns[2*i+0], hescns[2*i+1]))\n",
    "        return gaussian(x,*pcompl)\n",
    "    return g2"
   ]
  },
  {
   "cell_type": "code",
   "execution_count": 85,
   "metadata": {},
   "outputs": [],
   "source": [
    "xs2 = np.linspace(11.0, 19.0)\n",
    "ys2 = gaussian(xs2, 1.1, 150.0, 13.0, 0.9, 200.0, 17.1)\n",
    "# ..................sh1..he1... cn1...sh2..he2...cn2 .\n",
    "rs = 7.0 * np.random.normal(size=xs2.size)\n",
    "yrs2 = ys2 + rs"
   ]
  },
  {
   "cell_type": "raw",
   "metadata": {},
   "source": [
    "******************* ==================== *****************************\n",
    "FFFFIIIINNNNAALLLLLLMMMMEEEENNNNNNTTTTTEEEEEEEEEEEEEE !!!!!!!!!!!!!!!!!!!\n",
    "******************* ==================== *****************************"
   ]
  },
  {
   "cell_type": "code",
   "execution_count": 86,
   "metadata": {},
   "outputs": [
    {
     "data": {
      "text/plain": [
       "array([150.00921794,  12.98857325, 203.03461519,  17.09590188])"
      ]
     },
     "execution_count": 86,
     "metadata": {},
     "output_type": "execute_result"
    }
   ],
   "source": [
    "gausinipars_test = (130.0, 12.0, 210.0, 16.0)\n",
    "popt_gauss_test, pcov_gauss_test = curve_fit(g1(1.1, 0.9),xs2,yrs2,p0=gausinipars_test)\n",
    "popt_gauss_test"
   ]
  },
  {
   "cell_type": "raw",
   "metadata": {},
   "source": [
    "Agora sim:"
   ]
  },
  {
   "cell_type": "code",
   "execution_count": 87,
   "metadata": {},
   "outputs": [
    {
     "data": {
      "text/plain": [
       "[380, 385, 392, 403]"
      ]
     },
     "execution_count": 87,
     "metadata": {},
     "output_type": "execute_result"
    }
   ],
   "source": [
    "multis[3]"
   ]
  },
  {
   "cell_type": "code",
   "execution_count": 88,
   "metadata": {},
   "outputs": [
    {
     "data": {
      "text/plain": [
       "[367, 416]"
      ]
     },
     "execution_count": 88,
     "metadata": {},
     "output_type": "execute_result"
    }
   ],
   "source": [
    "regions[3]"
   ]
  },
  {
   "cell_type": "code",
   "execution_count": 89,
   "metadata": {},
   "outputs": [
    {
     "data": {
      "text/plain": [
       "[13, 18, 25, 36]"
      ]
     },
     "execution_count": 89,
     "metadata": {},
     "output_type": "execute_result"
    }
   ],
   "source": [
    "ipks = [i-regions[3][0] for i in multis[3]]\n",
    "ipks"
   ]
  },
  {
   "cell_type": "code",
   "execution_count": 90,
   "metadata": {},
   "outputs": [
    {
     "data": {
      "text/plain": [
       "[13522.237975840148, 771.5322964733796, 21589.354331990227, 1828.1404164397723]"
      ]
     },
     "execution_count": 90,
     "metadata": {},
     "output_type": "execute_result"
    }
   ],
   "source": [
    "multi_heis = [nety[3][ipk] for ipk in ipks]\n",
    "multi_heis    "
   ]
  },
  {
   "cell_type": "code",
   "execution_count": 91,
   "metadata": {},
   "outputs": [
    {
     "data": {
      "text/plain": [
       "[[0.15, 13522.237975840148, 380],\n",
       " [0.15, 771.5322964733796, 385],\n",
       " [0.15, 21589.354331990227, 392],\n",
       " [0.15, 1828.1404164397723, 403]]"
      ]
     },
     "execution_count": 91,
     "metadata": {},
     "output_type": "execute_result"
    }
   ],
   "source": [
    "inipars = [[0.15, i2,i3] for i2,i3 in zip(multi_heis, multis[3])]\n",
    "inipars"
   ]
  },
  {
   "cell_type": "code",
   "execution_count": 92,
   "metadata": {},
   "outputs": [],
   "source": [
    "# inipars = [inipars[0], inipars[2], inipars[3]]"
   ]
  },
  {
   "cell_type": "code",
   "execution_count": 93,
   "metadata": {},
   "outputs": [],
   "source": [
    "flatten = lambda l: [item for sublist in l for item in sublist]"
   ]
  },
  {
   "cell_type": "code",
   "execution_count": 94,
   "metadata": {},
   "outputs": [
    {
     "data": {
      "text/plain": [
       "[0.15,\n",
       " 13522.237975840148,\n",
       " 380,\n",
       " 0.15,\n",
       " 771.5322964733796,\n",
       " 385,\n",
       " 0.15,\n",
       " 21589.354331990227,\n",
       " 392,\n",
       " 0.15,\n",
       " 1828.1404164397723,\n",
       " 403]"
      ]
     },
     "execution_count": 94,
     "metadata": {},
     "output_type": "execute_result"
    }
   ],
   "source": [
    "iniflat = flatten(inipars)\n",
    "iniflat"
   ]
  },
  {
   "cell_type": "code",
   "execution_count": 95,
   "metadata": {},
   "outputs": [],
   "source": [
    "lx_nonegat = []\n",
    "nety_nonegat = []\n",
    "sigma_nety = []\n",
    "for i in range(len(lx[3])):\n",
    "    if nety[3][i] > 0.0:\n",
    "        lx_nonegat.append(lx[3][i])\n",
    "        nety_nonegat.append(nety[3][i])\n",
    "        sigma_nety.append(np.sqrt(nety[3][i]))\n",
    "# (lx_nonegat,nety_nonegat,sigma_nety)"
   ]
  },
  {
   "cell_type": "code",
   "execution_count": 96,
   "metadata": {},
   "outputs": [],
   "source": [
    "def no_negats(i, lx, nety):\n",
    "    lx_nonegat = []\n",
    "    nety_nonegat = []\n",
    "    sigma_nety = []\n",
    "    for j in range(len(lx[i])):\n",
    "        if nety[i][j] > 0.0:\n",
    "            lx_nonegat.append(lx[i][j])\n",
    "            nety_nonegat.append(nety[i][j])\n",
    "            sigma_nety.append(np.sqrt(nety[i][j]))\n",
    "    return lx_nonegat, nety_nonegat, sigma_nety"
   ]
  },
  {
   "cell_type": "code",
   "execution_count": 97,
   "metadata": {},
   "outputs": [
    {
     "data": {
      "text/plain": [
       "[0.15,\n",
       " 13522.237975840148,\n",
       " 380,\n",
       " 0.15,\n",
       " 771.5322964733796,\n",
       " 385,\n",
       " 0.15,\n",
       " 21589.354331990227,\n",
       " 392,\n",
       " 0.15,\n",
       " 1828.1404164397723,\n",
       " 403]"
      ]
     },
     "execution_count": 97,
     "metadata": {},
     "output_type": "execute_result"
    }
   ],
   "source": [
    "iniflat"
   ]
  },
  {
   "cell_type": "code",
   "execution_count": 98,
   "metadata": {},
   "outputs": [],
   "source": [
    "# iniflat = [0.15, 13522.237975840148, 379, 0.15, 21589.354331990227, 391, 0.15, 1828.1404164397723, 402]\n",
    "# iniflat"
   ]
  },
  {
   "cell_type": "code",
   "execution_count": 99,
   "metadata": {},
   "outputs": [
    {
     "data": {
      "text/plain": [
       "array([1.38796876e-01, 1.37114609e+04, 3.79459118e+02, 2.48952619e-03,\n",
       "       2.81648298e+02, 3.93870544e+02, 1.38482357e-01, 2.42970894e+04,\n",
       "       3.90984390e+02, 1.85534915e-01, 1.93478536e+03, 4.02044490e+02])"
      ]
     },
     "execution_count": 99,
     "metadata": {},
     "output_type": "execute_result"
    }
   ],
   "source": [
    "popt_gauss1, pcov_gauss1 = curve_fit(gaussian, lx_nonegat, nety_nonegat, sigma=sigma_nety, p0=iniflat)\n",
    "popt_gauss1"
   ]
  },
  {
   "cell_type": "code",
   "execution_count": 100,
   "metadata": {},
   "outputs": [],
   "source": [
    "yfitted = gaussian(lx[3], *popt_gauss1)"
   ]
  },
  {
   "cell_type": "raw",
   "metadata": {},
   "source": [
    "Agora, generalizando:"
   ]
  },
  {
   "cell_type": "code",
   "execution_count": 101,
   "metadata": {},
   "outputs": [
    {
     "name": "stdout",
     "output_type": "stream",
     "text": [
      "0\n",
      "Length of lx_nonegat:  48\n",
      "[7.39336434e-02 3.33151836e+02 1.18965901e+02 9.48847016e-01\n",
      " 1.23839020e+02 1.33581478e+02]\n",
      "Ajuste Ok.\n",
      "-----------------------------\n",
      "1\n",
      "Length of lx_nonegat:  20\n",
      "[1.62236672e-01 3.19292723e+03 2.36359649e+02]\n",
      "Ajuste Ok.\n",
      "-----------------------------\n",
      "2\n",
      "Length of lx_nonegat:  19\n",
      "[1.76356769e-01 2.24928358e+03 2.70260142e+02]\n",
      "Ajuste Ok.\n",
      "-----------------------------\n",
      "3\n",
      "Length of lx_nonegat:  46\n",
      "[1.38796876e-01 1.37114609e+04 3.79459118e+02 2.48952619e-03\n",
      " 2.81648298e+02 3.93870544e+02 1.38482357e-01 2.42970894e+04\n",
      " 3.90984390e+02 1.85534915e-01 1.93478536e+03 4.02044490e+02]\n",
      "Ajuste Ok.\n",
      "-----------------------------\n",
      "4\n",
      "Length of lx_nonegat:  28\n",
      "[9.83782025e-02 6.52063375e+03 4.42055966e+02 2.92753627e-01\n",
      " 1.09829519e+03 4.53547264e+02 1.74919148e-01 2.23285546e+03\n",
      " 4.56246863e+02]\n",
      "Ajuste Ok.\n",
      "-----------------------------\n",
      "5\n",
      "Length of lx_nonegat:  12\n",
      "[4.37794284e-01 5.96017677e+01 7.04660578e+02]\n",
      "Ajuste Ok.\n",
      "-----------------------------\n",
      "6\n",
      "Length of lx_nonegat:  13\n",
      "[7.16928278e-02 3.05795599e+01 7.93458689e+02]\n",
      "Ajuste Ok.\n",
      "-----------------------------\n",
      "7\n",
      "Length of lx_nonegat:  48\n",
      "[1.74094681e-01 3.64712508e+01 9.33890199e+02 1.17400345e-01\n",
      " 5.40160913e+03 9.43306081e+02 1.00224090e+00 8.34823309e+01\n",
      " 9.56732885e+02 3.79033218e-03 1.89958168e+01 9.85888764e+02\n",
      " 3.55881585e-01 8.43864747e+01 9.93741496e+02]\n",
      "Ajuste Ok.\n",
      "-----------------------------\n",
      "8\n",
      "Length of lx_nonegat:  37\n"
     ]
    },
    {
     "name": "stderr",
     "output_type": "stream",
     "text": [
      "C:\\Users\\mmaduar\\AppData\\Local\\Continuum\\anaconda3\\lib\\site-packages\\ipykernel_launcher.py:6: RuntimeWarning: overflow encountered in exp\n",
      "  \n",
      "C:\\Users\\mmaduar\\AppData\\Local\\Continuum\\anaconda3\\lib\\site-packages\\ipykernel_launcher.py:6: RuntimeWarning: overflow encountered in multiply\n",
      "  \n",
      "C:\\Users\\mmaduar\\AppData\\Local\\Continuum\\anaconda3\\lib\\site-packages\\scipy\\optimize\\minpack.py:794: OptimizeWarning: Covariance of the parameters could not be estimated\n",
      "  category=OptimizeWarning)\n"
     ]
    },
    {
     "name": "stdout",
     "output_type": "stream",
     "text": [
      "[5.57936968e-02 3.18154208e+01 1.18593875e+03 1.32983740e-01\n",
      " 1.03215353e+03 1.20853807e+03 1.04060310e-01 8.06310596e+03\n",
      " 1.22558659e+03]\n",
      "Ajuste Ok.\n",
      "-----------------------------\n",
      "9\n",
      "Length of lx_nonegat:  15\n",
      "[9.92146621e-02 5.15981635e+02 1.31123119e+03]\n",
      "Ajuste Ok.\n",
      "-----------------------------\n",
      "10\n",
      "Length of lx_nonegat:  17\n",
      "[5.72223553e-02 3.01651850e+02 1.39078814e+03]\n",
      "Ajuste Ok.\n",
      "-----------------------------\n",
      "11\n",
      "Length of lx_nonegat:  20\n",
      "[9.67980767e-02 1.63401752e+04 1.49492521e+03]\n",
      "Ajuste Ok.\n",
      "-----------------------------\n",
      "12\n",
      "Length of lx_nonegat:  3\n",
      "Error: few points to fit.\n",
      "-----------------------------\n",
      "13\n",
      "Length of lx_nonegat:  19\n",
      "[8.80566343e-02 2.51666074e+04 1.78196118e+03]\n",
      "Ajuste Ok.\n",
      "-----------------------------\n",
      "14\n",
      "Length of lx_nonegat:  45\n",
      "[ 7.56275015e-02  1.42894851e+02  1.95834967e+03  1.52501399e-01\n",
      "  2.52637337e+02  1.96897224e+03  3.14766530e-01  3.02803066e+01\n",
      "  1.99784044e+03  4.67527270e+00 -4.86306688e+01  2.01334936e+03\n",
      "  3.78610878e-02  3.07590625e+01  2.00937697e+03]\n",
      "Ajuste Ok.\n",
      "-----------------------------\n",
      "15\n",
      "Length of lx_nonegat:  31\n",
      "[1.21264766e-01 6.98104412e+01 2.05405126e+03 9.20917849e-01\n",
      " 3.09869471e+01 2.08496583e+03 1.31882202e-01 1.96779482e+01\n",
      " 2.09236414e+03]\n",
      "Ajuste Ok.\n",
      "-----------------------------\n",
      "16\n",
      "Length of lx_nonegat:  11\n",
      "[7.34842187e-03 2.87463484e+01 2.15068458e+03]\n",
      "Ajuste Ok.\n",
      "-----------------------------\n",
      "17\n",
      "Length of lx_nonegat:  12\n",
      "[1.85373132e-02 2.29208573e+01 2.24414246e+03]\n",
      "Ajuste Ok.\n",
      "-----------------------------\n",
      "18\n",
      "Length of lx_nonegat:  42\n",
      "[8.52500612e-02 1.30607821e+02 2.30283485e+03 2.35365267e-01\n",
      " 1.98080172e+01 2.31627231e+03 4.32654850e-02 7.61565615e+01\n",
      " 2.33970260e+03]\n",
      "Ajuste Ok.\n",
      "-----------------------------\n",
      "19\n",
      "Length of lx_nonegat:  35\n",
      "[1.45599980e-01 4.55639493e+01 2.40106435e+03 3.88450764e-02\n",
      " 2.32802099e+01 2.41635359e+03 9.23719750e-02 1.46823373e+02\n",
      " 2.43225633e+03]\n",
      "Ajuste Ok.\n",
      "-----------------------------\n",
      "20\n",
      "Length of lx_nonegat:  15\n",
      "[4.68580285e-02 1.08194801e+02 2.46475528e+03]\n",
      "Ajuste Ok.\n",
      "-----------------------------\n",
      "21\n",
      "Length of lx_nonegat:  51\n",
      "[1.40621928e-02 1.63315445e+02 2.58618003e+03 6.17750934e-01\n",
      " 2.50137429e+01 2.61240139e+03]\n",
      "Ajuste Ok.\n",
      "-----------------------------\n",
      "22\n",
      "Length of lx_nonegat:  10\n",
      "[ 5.98919215e+03 -4.20768998e+05  1.22276025e+05  1.95980277e+00\n",
      "  1.50762567e+01  2.77979763e+03  1.38997867e+03 -9.03838958e+04\n",
      " -1.07676421e+04]\n",
      "Matriz de covariancia ruim.\n",
      "-----------------------------\n",
      "23\n",
      "Length of lx_nonegat:  20\n",
      "[2.11511569e-03 6.81167625e+00 2.87696598e+03]\n",
      "Ajuste Ok.\n",
      "-----------------------------\n",
      "24\n",
      "Length of lx_nonegat:  28\n",
      "[7.03320326e-02 9.84764215e+01 2.93801171e+03 1.02294905e-01\n",
      " 1.09303171e+02 2.95207410e+03 5.84927971e-02 9.92747470e+01\n",
      " 2.95481281e+03]\n",
      "Ajuste Ok.\n",
      "-----------------------------\n",
      "25\n",
      "Length of lx_nonegat:  4\n",
      "Error: curve_fit failed.\n",
      "-----------------------------\n",
      "26\n",
      "Length of lx_nonegat:  23\n",
      "[5.84596011e-02 1.42045714e+04 3.08539962e+03]\n",
      "Ajuste Ok.\n",
      "-----------------------------\n",
      "27\n",
      "Length of lx_nonegat:  18\n",
      "Error: curve_fit failed.\n",
      "-----------------------------\n",
      "28\n",
      "Length of lx_nonegat:  26\n",
      "Error: curve_fit failed.\n",
      "-----------------------------\n",
      "29\n",
      "Length of lx_nonegat:  49\n",
      "Error: curve_fit failed.\n",
      "-----------------------------\n",
      "30\n",
      "Length of lx_nonegat:  58\n",
      "[2.91746647e-01 3.87670300e+01 3.61540939e+03 7.28223838e+02\n",
      " 2.77350242e+05 2.50269335e+04 6.82936038e-02 7.74658756e+01\n",
      " 3.64682221e+03 1.30712676e+00 2.10581113e+01 3.67423009e+03\n",
      " 2.80275292e-02 2.14586330e+01 3.68390877e+03 7.26057622e-02\n",
      " 1.68113037e+01 3.69853989e+03]\n",
      "Matriz de covariancia ruim.\n",
      "-----------------------------\n",
      "31\n",
      "Length of lx_nonegat:  20\n",
      "[4.80188020e-02 1.07672177e+03 3.89145022e+03]\n",
      "Ajuste Ok.\n",
      "-----------------------------\n",
      "32\n",
      "Length of lx_nonegat:  13\n",
      "[3.96088045e-03 5.10858604e+00 3.90804370e+03]\n",
      "Ajuste Ok.\n",
      "-----------------------------\n",
      "33\n",
      "Length of lx_nonegat:  35\n",
      "[3.58269999e-02 2.29760062e+02 3.98015564e+03 1.33137563e+00\n",
      " 4.34824579e+01 3.99358949e+03 1.85762230e-02 1.74682716e+01\n",
      " 4.01923014e+03]\n",
      "Ajuste Ok.\n",
      "-----------------------------\n",
      "34\n",
      "Length of lx_nonegat:  17\n",
      "[5.55097789e-02 2.62338849e+02 4.08303106e+03]\n",
      "Ajuste Ok.\n",
      "-----------------------------\n",
      "35\n",
      "Length of lx_nonegat:  49\n",
      "Error: curve_fit failed.\n",
      "-----------------------------\n",
      "36\n",
      "Length of lx_nonegat:  18\n",
      "[4.54004736e-02 1.14584338e+02 4.24896752e+03]\n",
      "Ajuste Ok.\n",
      "-----------------------------\n",
      "37\n",
      "Length of lx_nonegat:  7\n",
      "[2.59637842e-02 8.66354047e+00 4.30684378e+03]\n",
      "Ajuste Ok.\n",
      "-----------------------------\n",
      "38\n",
      "Length of lx_nonegat:  10\n",
      "[1.42116791e-01 1.10124352e+01 4.37854566e+03]\n",
      "Ajuste Ok.\n",
      "-----------------------------\n",
      "39\n",
      "Length of lx_nonegat:  39\n",
      "[1.06276597e-01 1.88958307e+01 4.47646962e+03 6.95023981e-02\n",
      " 1.01826741e+01 4.49410306e+03 1.84653193e-01 2.71100283e+01\n",
      " 4.50296703e+03 1.16623388e-01 2.49794749e+01 4.50976430e+03\n",
      " 5.32031614e-01 2.07334467e+01 4.51540353e+03]\n",
      "Ajuste Ok.\n",
      "-----------------------------\n",
      "40\n",
      "Length of lx_nonegat:  14\n",
      "[ 8.15727785e-02  2.43899786e+01  4.54624747e+03  2.16768404e+02\n",
      " -1.28448123e+03  6.73523035e+03]\n",
      "Matriz de covariancia ruim.\n",
      "-----------------------------\n",
      "41\n",
      "Length of lx_nonegat:  7\n",
      "[-1.17375632e-02  1.12673910e+00  4.66128938e+03]\n",
      "Ajuste Ok.\n",
      "-----------------------------\n",
      "42\n",
      "Length of lx_nonegat:  41\n",
      "[3.30134247e-05 2.29674575e+01 4.51182649e+03 4.10420830e-02\n",
      " 5.21282296e+02 4.73104580e+03 7.23042158e+00 1.90828790e+02\n",
      " 4.73549276e+03]\n",
      "Ajuste Ok.\n",
      "-----------------------------\n",
      "43\n",
      "Length of lx_nonegat:  19\n",
      "[4.15871644e-03 2.09047507e+01 4.77180534e+03]\n",
      "Ajuste Ok.\n",
      "-----------------------------\n",
      "44\n",
      "Length of lx_nonegat:  36\n",
      "[4.64698992e-02 6.62267425e+01 4.88401780e+03 5.74857640e-02\n",
      " 4.85364554e+01 4.90859097e+03]\n",
      "Ajuste Ok.\n",
      "-----------------------------\n",
      "45\n",
      "Length of lx_nonegat:  6\n",
      "[1.53569022e+00 6.81617774e-01 4.96004516e+03 5.84102678e-02\n",
      " 1.95156521e+01 4.97449618e+03]\n",
      "Matriz de covariancia ruim.\n",
      "-----------------------------\n",
      "46\n",
      "Length of lx_nonegat:  28\n",
      "[ 2.93142623e+00 -1.75852838e-01  4.99540206e+03  1.75015806e+00\n",
      "  1.72232259e+01  5.09664228e+03  1.28256534e-01  6.92559007e+00\n",
      "  5.11160578e+03  7.95940271e-02  1.04160839e+01  5.12674958e+03]\n",
      "Matriz de covariancia ruim.\n",
      "-----------------------------\n",
      "47\n",
      "Length of lx_nonegat:  20\n",
      "[3.17333035e-02 1.27381852e+01 5.16537736e+03]\n",
      "Ajuste Ok.\n",
      "-----------------------------\n",
      "48\n",
      "Length of lx_nonegat:  10\n",
      "[2.72700321e-03 4.17878687e+00 5.30378852e+03]\n",
      "Ajuste Ok.\n",
      "-----------------------------\n",
      "49\n",
      "Length of lx_nonegat:  14\n",
      "[1.05716952e+00 2.39773313e+01 5.60314402e+03]\n",
      "Ajuste Ok.\n",
      "-----------------------------\n",
      "50\n",
      "Length of lx_nonegat:  40\n",
      "[1.84481053e-01 5.51295129e+01 5.64376635e+03 3.37357952e-02\n",
      " 2.03386944e+03 5.67533368e+03 3.92725086e-01 5.89845318e+01\n",
      " 5.68185469e+03]\n",
      "Ajuste Ok.\n",
      "-----------------------------\n",
      "51\n",
      "Length of lx_nonegat:  10\n",
      "[2.69524931e-03 1.75553859e+01 5.75649648e+03]\n",
      "Ajuste Ok.\n",
      "-----------------------------\n",
      "52\n",
      "Length of lx_nonegat:  16\n",
      "[-3.51714229e-03  6.01945697e+00  5.79203411e+03]\n",
      "Ajuste Ok.\n",
      "-----------------------------\n",
      "53\n",
      "Length of lx_nonegat:  22\n",
      "[3.55198546e-02 1.97018870e+02 5.85148456e+03 3.05160636e-01\n",
      " 6.93968737e+01 5.85612401e+03 8.20655228e+00 1.29843991e+02\n",
      " 5.85954774e+03]\n",
      "Ajuste Ok.\n",
      "-----------------------------\n",
      "54\n",
      "Length of lx_nonegat:  32\n",
      "[ 1.33171094e-02  4.03322933e+00  5.89325443e+03  1.11495497e-01\n",
      "  1.00989276e+01  5.91407309e+03  2.05447348e-02  1.34165140e+01\n",
      "  5.93641255e+03  3.95358535e-02 -1.02868134e+01  5.93934195e+03\n",
      "  5.27611334e-01  1.80453621e+01  5.94162379e+03]\n",
      "Ajuste Ok.\n",
      "-----------------------------\n",
      "55\n",
      "Length of lx_nonegat:  5\n",
      "[ 299.35744472 2554.35159194 -179.72984408]\n",
      "Matriz de covariancia ruim.\n",
      "-----------------------------\n",
      "56\n",
      "Length of lx_nonegat:  15\n",
      "[4.63607411e-03 5.04639053e+00 6.18984145e+03]\n",
      "Ajuste Ok.\n",
      "-----------------------------\n",
      "57\n",
      "Length of lx_nonegat:  25\n",
      "[1.34683494e-01 5.00852677e+01 6.26636061e+03 3.57941671e-02\n",
      " 6.84440501e+02 6.27312273e+03]\n",
      "Ajuste Ok.\n",
      "-----------------------------\n",
      "58\n",
      "Length of lx_nonegat:  48\n",
      "[4.24715242e-03 1.83770988e+01 6.35393278e+03 4.05623351e-01\n",
      " 2.47780277e+01 6.37823052e+03]\n",
      "Ajuste Ok.\n",
      "-----------------------------\n",
      "59\n",
      "Length of lx_nonegat:  26\n",
      "Error: curve_fit failed.\n",
      "-----------------------------\n",
      "60\n",
      "Length of lx_nonegat:  9\n",
      "[7.42206820e-01 2.06256498e+01 6.58795560e+03]\n",
      "Ajuste Ok.\n",
      "-----------------------------\n",
      "61\n",
      "Length of lx_nonegat:  15\n",
      "[2.58912496e-02 8.03306251e+00 6.69943440e+03 3.82516012e-02\n",
      " 7.29570996e+00 6.71442805e+03]\n",
      "Ajuste Ok.\n",
      "-----------------------------\n",
      "62\n",
      "Length of lx_nonegat:  16\n",
      "[1.08322911e-01 7.54536937e+00 6.80810158e+03]\n",
      "Ajuste Ok.\n",
      "-----------------------------\n",
      "63\n",
      "Length of lx_nonegat:  17\n",
      "[-4.90745921e-03  4.58884050e+00  6.84505910e+03]\n",
      "Ajuste Ok.\n",
      "-----------------------------\n",
      "64\n",
      "Length of lx_nonegat:  11\n",
      "[4.22824308e-03 6.70398145e+00 6.93987181e+03]\n",
      "Ajuste Ok.\n",
      "-----------------------------\n",
      "65\n",
      "Length of lx_nonegat:  27\n",
      "[2.48760755e-02 4.31319645e+02 6.98047655e+03 4.02506982e-03\n",
      " 8.58362079e+01 7.01880357e+03]\n",
      "Ajuste Ok.\n",
      "-----------------------------\n",
      "66\n",
      "Length of lx_nonegat:  22\n",
      "[2.36566571e-02 7.86092529e+01 7.01968545e+03]\n",
      "Ajuste Ok.\n",
      "-----------------------------\n",
      "67\n",
      "Length of lx_nonegat:  51\n",
      "[ 2.60466730e-02  3.15872910e+01  7.09706183e+03  3.22586551e-02\n",
      "  1.24585349e+02  7.10212263e+03  3.27781567e-01  4.13709699e+01\n",
      "  7.12675488e+03  7.18622868e-02  1.12022072e+02  7.13141535e+03\n",
      "  4.53753691e-02  1.81468182e+02  7.13579590e+03  1.06212397e+00\n",
      " -4.06739564e+00  7.15699153e+03]\n",
      "Ajuste Ok.\n",
      "-----------------------------\n",
      "68\n",
      "Length of lx_nonegat:  12\n",
      "[1.08065525e-01 1.03129486e+01 7.19861176e+03]\n",
      "Ajuste Ok.\n",
      "-----------------------------\n",
      "69\n",
      "Length of lx_nonegat:  2\n",
      "Error: few points to fit.\n",
      "-----------------------------\n",
      "70\n",
      "Length of lx_nonegat:  42\n",
      "Error: curve_fit failed.\n",
      "-----------------------------\n",
      "71\n",
      "Length of lx_nonegat:  29\n",
      "[1.31803049e-01 1.29546218e+01 7.40155128e+03 2.91907951e-01\n",
      " 2.30001343e+01 7.41099283e+03]\n",
      "Ajuste Ok.\n",
      "-----------------------------\n",
      "72\n",
      "Length of lx_nonegat:  9\n",
      "[2.25807745e-02 1.23106736e+01 7.45655202e+03]\n",
      "Ajuste Ok.\n",
      "-----------------------------\n",
      "73\n",
      "Length of lx_nonegat:  13\n",
      "[3.16256167e+00 1.69838341e+01 7.53533875e+03]\n",
      "Matriz de covariancia ruim.\n",
      "-----------------------------\n",
      "74\n",
      "Length of lx_nonegat:  21\n",
      "[5.07531139e-03 7.28365702e+00 7.56982874e+03]\n",
      "Ajuste Ok.\n",
      "-----------------------------\n",
      "75\n",
      "Length of lx_nonegat:  11\n",
      "[8.38454022e-03 8.40391594e+00 7.59772741e+03]\n",
      "Ajuste Ok.\n",
      "-----------------------------\n",
      "76\n",
      "Length of lx_nonegat:  26\n",
      "[2.70492391e-02 1.41919114e+02 7.64605669e+03 4.50573916e-02\n",
      " 7.80060574e+01 7.65092339e+03]\n",
      "Ajuste Ok.\n",
      "-----------------------------\n",
      "77\n",
      "Length of lx_nonegat:  50\n",
      "[1.66579767e-02 3.92323029e+01 7.79522384e+03 1.83481647e+00\n",
      " 2.46517668e+01 7.80718369e+03 7.87342796e+00 9.65796461e+01\n",
      " 7.81256792e+03 2.82698057e-02 4.08235835e+01 7.82012160e+03]\n",
      "Ajuste Ok.\n",
      "-----------------------------\n",
      "78\n",
      "Length of lx_nonegat:  12\n",
      "[4.59885311e-02 7.85837235e+00 7.92298755e+03]\n",
      "Ajuste Ok.\n",
      "-----------------------------\n",
      "79\n",
      "Length of lx_nonegat:  20\n",
      "[1.01942096e-02 8.07306730e+00 7.98931159e+03]\n",
      "Ajuste Ok.\n",
      "-----------------------------\n",
      "80\n",
      "Length of lx_nonegat:  15\n",
      "[ 2.95788614e-02  4.92121673e+01  8.02368360e+03 -7.54507880e-02\n",
      "  1.15473622e-01  8.02368409e+03]\n",
      "Ajuste Ok.\n",
      "-----------------------------\n",
      "81\n",
      "Length of lx_nonegat:  20\n",
      "[2.35134415e-02 1.74869989e+01 8.07818620e+03]\n",
      "Ajuste Ok.\n",
      "-----------------------------\n",
      "82\n",
      "Length of lx_nonegat:  14\n",
      "[9.86646452e-03 6.20852217e+00 8.13598309e+03]\n",
      "Ajuste Ok.\n",
      "-----------------------------\n"
     ]
    }
   ],
   "source": [
    "first_general_fit = []\n",
    "for i in range(len(multis)):\n",
    "    print(i)\n",
    "    ipks = [j-regions[i][0] for j in multis[i]]\n",
    "    multi_heis = [nety[i][ipk] for ipk in ipks]\n",
    "    inipars = [[0.15, i2,i3] for i2,i3 in zip(multi_heis, multis[i])]\n",
    "    iniflat = flatten(inipars)\n",
    "    #if len(lx_nonegat) < 3:\n",
    "    #    print('Error: few points to fit.')\n",
    "    #    break\n",
    "    lx_nonegat, nety_nonegat, sigma_nety = no_negats(i, lx, nety)\n",
    "    len_lx_nonegat = len(lx_nonegat)\n",
    "    print('Length of lx_nonegat: ', len_lx_nonegat)\n",
    "    fittd = True\n",
    "    if len_lx_nonegat < 4:\n",
    "        print('Error: few points to fit.')\n",
    "        fittd = False\n",
    "    else:\n",
    "        try:\n",
    "            popt_gauss1, pcov_gauss1 = curve_fit(gaussian, lx_nonegat, nety_nonegat, sigma=sigma_nety, p0=iniflat)\n",
    "        except RuntimeError:\n",
    "            fittd = False\n",
    "            print(\"Error: curve_fit failed.\")\n",
    "        if fittd:\n",
    "            print(popt_gauss1)\n",
    "            if np.inf in pcov_gauss1:\n",
    "                print('Matriz de covariancia ruim.')\n",
    "            else:\n",
    "                print('Ajuste Ok.')\n",
    "                first_general_fit.append( [lx_nonegat, nety_nonegat, popt_gauss1, pcov_gauss1] )\n",
    "    print('-----------------------------')"
   ]
  },
  {
   "cell_type": "raw",
   "metadata": {},
   "source": [
    "Ajuste de FWHM vs canal a partir dos resultados para sharpness: (Talvez nao use mais pra frente)"
   ]
  },
  {
   "cell_type": "code",
   "execution_count": 85,
   "metadata": {},
   "outputs": [
    {
     "data": {
      "text/plain": [
       "(array([ 236.3596495 ,  270.2601425 ,  379.46517235,  391.58034091,\n",
       "         402.06394756,  943.30201141, 1208.55046563, 1225.58659712,\n",
       "        1311.23118461, 1390.78814885, 1494.925212  , 1781.96117926,\n",
       "        1958.34962702, 1968.96406499, 2302.83454962, 2339.70262204,\n",
       "        2432.25633332, 2464.75520773, 2585.72735811, 2938.01171489,\n",
       "        3085.39962209, 3891.45022213, 3980.15564139, 4019.23014145,\n",
       "        4083.03106483, 4157.61150518, 4248.96751754, 4884.01779504,\n",
       "        4908.59096514, 5676.21276905, 5851.21951259, 6273.12272956,\n",
       "        6980.4765712 , 7019.68545405, 7795.23498899, 8024.02168074,\n",
       "        8078.18623285]),\n",
       " array([2.92316422, 2.80370077, 3.16036965, 3.16395651, 2.73347374,\n",
       "        3.75386186, 3.43631559, 3.22870568, 3.64993533, 3.73800433,\n",
       "        4.92203689, 3.78437674, 3.96777181, 3.01502428, 4.03255574,\n",
       "        9.92890156, 4.43967463, 4.86967306, 5.37306467, 6.22046008,\n",
       "        4.99738696, 5.52583022, 5.81183168, 6.41035754, 6.22331234,\n",
       "        7.46513686, 7.65510306, 0.57908679, 0.59129542, 0.54840034,\n",
       "        0.52153584, 0.54393891, 0.53634908, 0.55235989, 0.51823716,\n",
       "        0.51209516, 0.446271  , 0.50894754, 0.49704633, 0.4784755 ,\n",
       "        0.57309156, 0.49320656, 0.41616239, 0.50302713, 0.42451713,\n",
       "        0.33297818, 0.46988824, 0.44866307, 0.42712902, 0.39697119,\n",
       "        0.33685711, 0.44289305, 0.33773247, 0.42118333, 0.42364206,\n",
       "        0.44678333, 0.40172993, 0.37684999, 0.39688018, 0.36236909,\n",
       "        0.35784486, 0.31619566, 0.35603234, 0.35730329]),\n",
       " array([0.06369977, 0.06279061, 0.0439869 , 0.03674276, 0.16821233,\n",
       "        0.05055134, 0.03326357, 0.0657403 , 0.02602341, 0.17745518,\n",
       "        0.23356001, 0.03362658, 0.01330704, 0.1899236 , 0.19582293,\n",
       "        0.54856347, 0.22732497, 0.01341226, 0.05533464, 0.11360965,\n",
       "        0.13298909, 0.20324314, 0.11455702, 0.06889651, 0.17273806,\n",
       "        0.34515067, 0.26211444, 0.00630956, 0.00662123, 0.00551587,\n",
       "        0.02666802, 0.01997653, 0.00325098, 0.00698976, 0.00185689,\n",
       "        0.01215573, 0.01058833, 0.00226116, 0.0008335 , 0.02313809,\n",
       "        0.0226955 , 0.01201036, 0.01537705, 0.01648796, 0.0188739 ,\n",
       "        0.0090474 , 0.01202991, 0.00061787, 0.00219939, 0.00362511,\n",
       "        0.01929108, 0.00589301, 0.01824216, 0.0077455 , 0.0147497 ,\n",
       "        0.01713646, 0.02556479, 0.01728192, 0.00550789, 0.00839195,\n",
       "        0.00612647, 0.01411136, 0.0130773 , 0.01941284]))"
      ]
     },
     "execution_count": 85,
     "metadata": {},
     "output_type": "execute_result"
    }
   ],
   "source": [
    "sqrt_2ln2 = np.sqrt(2*np.log(2))\n",
    "fwhms_derived = sqrt_2ln2 * np.array(list_sharps) ** -0.5\n",
    "channs = np.array(list_channs)\n",
    "unc_fwhms_derived = np.array(list_unc_sharps) * 0.5 * np.array(list_sharps) ** -1.5\n",
    "channs, fwhms_derived, unc_fwhms_derived"
   ]
  },
  {
   "cell_type": "code",
   "execution_count": 360,
   "metadata": {},
   "outputs": [
    {
     "data": {
      "text/plain": [
       "(array([3.02380575e-08, 5.34825262e-04, 2.92596342e+00]),\n",
       " array([[ 1.92213962e-16, -8.78457916e-13,  8.98397348e-10],\n",
       "        [-8.78457916e-13,  4.12839484e-09, -4.37039692e-06],\n",
       "        [ 8.98397348e-10, -4.37039692e-06,  4.87679757e-03]]),\n",
       " 3.491026738841133)"
      ]
     },
     "execution_count": 360,
     "metadata": {},
     "output_type": "execute_result"
    }
   ],
   "source": [
    "coeff_fwhm_fit, covar_fwhm_fit = np.polyfit(channs, fwhms, deg=2, w=unc_fwhms**-2 , cov=True)\n",
    "poly1 = np.poly1d(coeff_fwhm_fit)\n",
    "coeff_fwhm_fit, covar_fwhm_fit, poly1(1000)"
   ]
  },
  {
   "cell_type": "code",
   "execution_count": 363,
   "metadata": {},
   "outputs": [
    {
     "data": {
      "image/png": "[encoded data removed]",
      "text/plain": [
       "<matplotlib.figure.Figure at 0x7f1583932470>"
      ]
     },
     "metadata": {},
     "output_type": "display_data"
    }
   ],
   "source": [
    "plt.close('all')\n",
    "fig1, ax1 = plt.subplots(1, 1, figsize=(15,9))\n",
    "ax1.grid(True)\n",
    "ax1.set_xlim(0, 8000)\n",
    "ax1.set_ylim(0.0, 10.0)\n",
    "dummy = ax1.plot(channs, fwhms, marker='x', color='blue', linestyle='None')\n",
    "dummy = ax1.errorbar(channs, fwhms, yerr=unc_fwhms, capsize=5.0, color='green', linestyle='None')\n",
    "dummy = ax1.plot(channs, poly1(channs), color='lightblue')"
   ]
  }
 ],
 "metadata": {
  "kernelspec": {
   "display_name": "Python 3",
   "language": "python",
   "name": "python3"
  },
  "language_info": {
   "codemirror_mode": {
    "name": "ipython",
    "version": 3
   },
   "file_extension": ".py",
   "mimetype": "text/x-python",
   "name": "python",
   "nbconvert_exporter": "python",
   "pygments_lexer": "ipython3",
   "version": "3.6.4"
  }
 },
 "nbformat": 4,
 "nbformat_minor": 2
}
