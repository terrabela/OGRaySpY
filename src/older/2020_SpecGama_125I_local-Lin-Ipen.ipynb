{
 "cells": [
  {
   "cell_type": "code",
   "execution_count": 1,
   "metadata": {},
   "outputs": [],
   "source": [
    "#!/usr/bin/env python3\n",
    "# -*- coding: utf-8 -*-\n",
    "\"\"\"\n",
    "Created on Sat Feb 22 10:40:56 2020\n",
    "\n",
    "@author: marcelo\n",
    "\n",
    "ar1:\n",
    "- array (nx,2), onde:\n",
    "    nx: n'umero total de picos em todas as escalas\n",
    "    x: 'indice do pico\n",
    "    ar1[x,0]: canal inteiro do pico\n",
    "    ar1[x,1]: valor da escala\n",
    "    \n",
    "xpk:\n",
    "- lista (nx), onde:\n",
    "    nx: numero de picos efetivos ap'os an'alise\n",
    "    x: canal inteiro do pico\n",
    "    \n",
    "ypk:\n",
    "- lista (nx), onde:\n",
    "    nx: numero de picos efetivos ap'os an'alise (= nx(xpk))\n",
    "    x: valor da escala\n",
    "\n",
    "\"\"\"\n",
    "\n",
    "import numpy as np\n",
    "import numpy.ma as ma  # masked array\n",
    "from numpy import linalg as LA\n",
    "\n",
    "from spectrum_analysis import (cwt_complete_analysis, gaussian_complete_analysis, cwt_calc_peaks)\n",
    "from gamma_spectrum_class import (Spec)\n",
    "\n",
    "from machine_selection import set_screen_size_by_machine\n",
    "from bokeh.models import ColumnDataSource, Whisker, Label\n",
    "from bokeh.palettes import Paired6\n",
    "from bokeh.plotting import figure, output_file, output_notebook, show\n",
    "from bokeh.layouts import gridplot, column, row\n",
    "\n",
    "from bokeh import palettes\n",
    "\n",
    "# 2020-08-22 Para rodar curve_fit\n",
    "from gauss_funcs import func_example, func_example_fixed_b\n",
    "# 2020-09-03 Desativei por enquanto\n",
    "# import matplotlib.pyplot as plt\n",
    "from scipy.optimize import curve_fit\n",
    "# 2020-08-30\n",
    "from scipy.interpolate import splrep, splev\n",
    "\n",
    "from scipy.ndimage import label, generate_binary_structure, find_objects, binary_dilation  # 2020-09-03\n",
    "from numpy.polynomial import Polynomial as P # 2020-09-06 Esta é a nova classe recomendada "
   ]
  },
  {
   "cell_type": "code",
   "execution_count": 2,
   "metadata": {},
   "outputs": [],
   "source": [
    "# 2019-03-15\n",
    "# https://pandas.pydata.org/pandas-docs/stable/getting_started/10min.html\n",
    "import pandas as pd\n",
    "import csv"
   ]
  },
  {
   "cell_type": "code",
   "execution_count": 3,
   "metadata": {},
   "outputs": [],
   "source": [
    "def stepBaseLine(ch0, ch1, y0, y1, ys):\n",
    "    contin = []\n",
    "    G=np.sum(ys[ch0:ch1])\n",
    "    deltaY = y1-y0\n",
    "    deltaX = ch1-ch0\n",
    "    dydx = deltaY/deltaX\n",
    "    for i in range(ch0,ch1+1):\n",
    "        sumY = np.sum(ys[ch0:i])\n",
    "        contin.append( y0 + deltaY * sumY/G )\n",
    "    return contin"
   ]
  },
  {
   "cell_type": "code",
   "execution_count": 4,
   "metadata": {},
   "outputs": [],
   "source": [
    "hei = 0.01\n",
    "\n",
    "# haWin = 3\n",
    "# yrange = [10**1, 10**5]\n",
    "# fn2 = '../Efluentes-gasosos/Filtros-espectros/2018/CTP/CTP2203-3.Chn'\n",
    "\n",
    "# haWin = 3 \n",
    "# yrange = [10**1, 10**5]\n",
    "# fn2 = '../Genie_Transfer/Si/SI2019/SI04019.Chn'\n",
    "\n",
    "# haWin = 6\n",
    "# fn2 = '../Pesquisa/2020_Mariana_PR/2020_Mariana_PR_Espectros/espectros-det-projeto/agua-bruta.IEC'\n",
    "\n",
    "haWin = 6\n",
    "yrange = [10**1, 10**5]\n",
    "fn2 = '../gamma/spectra/ALMERA-2016/alm_samp5_F100_16_Cont-D_133k.IEC'\n",
    "\n",
    "# haWin = 6\n",
    "# yrange = [10**1, 10**6]\n",
    "# fn2 = './I125_01.001.3.IEC'\n",
    "\n",
    "# 13 de julho de 2020\n",
    "# PAREI AQUI O termo de 1o grau oscila selvagemente em baixas contagens\n",
    "# ponderá-lo pelo coeffs0\n",
    "\n"
   ]
  },
  {
   "cell_type": "code",
   "execution_count": 5,
   "metadata": {},
   "outputs": [
    {
     "name": "stdout",
     "output_type": "stream",
     "text": [
      "8192\n",
      "8192\n",
      "\n",
      "Channel vs Energy\n",
      "[  46.54   338.32   609.312 1120.29  1460.81 ]\n",
      "[ 236.289 1712.41  3083.95  5672.44  7398.92 ]\n",
      "[-4.00151430e-08  1.97757610e-01 -1.91052541e-01]\n",
      "\n",
      "Energy vs FWHM\n",
      "[  46.54   338.32   609.312 1120.29  1460.81 ]\n",
      "[ 4.14796  5.47718  6.5903   8.72066 10.6854 ]\n",
      "[ 1.33173266e-09 -2.45953829e-06  5.39601735e-03  3.89756470e+00]\n",
      "\n",
      "Energy vs Efficiency\n",
      "[  30.85    53.161   80.997  276.398  302.853  356.017  383.851  563.227\n",
      "  569.315  604.699  621.84   661.66   795.845  801.932 1115.55  1173.24\n",
      " 1332.5  ]\n",
      "[0.04078 0.05937 0.05247 0.02347 0.02246 0.02087 0.02205 0.01468 0.01441\n",
      " 0.01305 0.01328 0.01391 0.01052 0.01157 0.00829 0.00807 0.00723]\n",
      "[-5.50950773e-11  1.53992636e-07 -1.45591433e-04  5.69774291e-02]\n"
     ]
    }
   ],
   "source": [
    "spec2 = Spec()\n",
    "if spec2.readSp( fn2 ) >= 0:\n",
    "    print (spec2.nCh)\n",
    "    \n",
    "counts = spec2.specIO.spCounts\n",
    "print(len(counts))\n",
    "# smo0, smo1, sum1, bline = spec2.coeffs_2nd_grade_estim(haWin=haWin)\n",
    "\n",
    "spec2.coeffs_Calibs()\n",
    "\n",
    "print ('\\nChannel vs Energy')\n",
    "print (spec2.enChcalib)\n",
    "print (spec2.chancalib)\n",
    "print (spec2.coeffs_ChEn)\n",
    "\n",
    "print ('\\nEnergy vs FWHM')\n",
    "print (spec2.enFwcalib)\n",
    "print (spec2.fwhmcalib)\n",
    "print (spec2.coeffs_EnFw)\n",
    "\n",
    "print ('\\nEnergy vs Efficiency')\n",
    "print (spec2.enEfcalib)\n",
    "print (spec2.efficalib)\n",
    "print (spec2.coeffs_EnEf)"
   ]
  },
  {
   "cell_type": "code",
   "execution_count": 6,
   "metadata": {},
   "outputs": [
    {
     "name": "stdout",
     "output_type": "stream",
     "text": [
      "[ 236.289 1712.41  3083.95  5672.44  7398.92 ]\n"
     ]
    }
   ],
   "source": [
    "print (spec2.chancalib)"
   ]
  },
  {
   "cell_type": "code",
   "execution_count": 7,
   "metadata": {},
   "outputs": [
    {
     "data": {
      "text/plain": [
       "5"
      ]
     },
     "execution_count": 7,
     "metadata": {},
     "output_type": "execute_result"
    }
   ],
   "source": [
    "len(spec2.chancalib)"
   ]
  },
  {
   "cell_type": "code",
   "execution_count": 8,
   "metadata": {},
   "outputs": [],
   "source": [
    "# 2020-08-30 AQUI: Detecção dos picos"
   ]
  },
  {
   "cell_type": "code",
   "execution_count": 9,
   "metadata": {},
   "outputs": [],
   "source": [
    "imag, pksCh, nscpk, chanCwtpk, iscaleCwtpk, maxcoefCwtpk, widths = spec2.pks_by_ridges(\n",
    "    spec2.y0s, widths_range=(3,20), msnr=2.0, minCoefCwt=30.0)  \n",
    "# Finalmente achei o parâmetro crítico: window_size. O default é muito grande!"
   ]
  },
  {
   "cell_type": "code",
   "execution_count": 10,
   "metadata": {},
   "outputs": [],
   "source": [
    "# 2020-08-31 PAREI AQUI: O pksCh obtido diretamente de find_pks_cwt não dá resultados bons;\n",
    "# Picos importantes, próximos de picos maiores, não são detectados, mesmo com os kwargs\n",
    "# bem ajustados, o que prejudica a delimitação das regiões\n",
    "# Vou usar os ridges criados com a análise de imagem, para definir as regiões por meio dos retângulos\n",
    "# e buscando o máximo cwt em cada ridge para selecionar os picos."
   ]
  },
  {
   "cell_type": "code",
   "execution_count": 11,
   "metadata": {},
   "outputs": [
    {
     "data": {
      "text/plain": [
       "(2, 2084)"
      ]
     },
     "execution_count": 11,
     "metadata": {},
     "output_type": "execute_result"
    }
   ],
   "source": [
    "indices_tupl = imag.nonzero()\n",
    "np.asarray(indices_tupl).shape"
   ]
  },
  {
   "cell_type": "code",
   "execution_count": 12,
   "metadata": {},
   "outputs": [],
   "source": [
    "# 2020-08-30 Perfeito! É o que eu queria para listar indices dos elementos não nulos"
   ]
  },
  {
   "cell_type": "code",
   "execution_count": 13,
   "metadata": {},
   "outputs": [
    {
     "data": {
      "text/plain": [
       "8192"
      ]
     },
     "execution_count": 13,
     "metadata": {},
     "output_type": "execute_result"
    }
   ],
   "source": [
    "nChPart = spec2.lnCounts.size\n",
    "nChPart"
   ]
  },
  {
   "cell_type": "code",
   "execution_count": null,
   "metadata": {},
   "outputs": [],
   "source": []
  },
  {
   "cell_type": "code",
   "execution_count": 14,
   "metadata": {},
   "outputs": [],
   "source": [
    "# 2020-08-30 Bokeh graph 1\n",
    "default_plot_width, default_plot_height = set_screen_size_by_machine()\n",
    "tools='pan,xwheel_zoom,xbox_select,reset'\n",
    "boka = figure(\n",
    "    plot_width =default_plot_width,\n",
    "    plot_height=300,\n",
    "    # plot_height=default_plot_height,\n",
    "    tools=tools\n",
    ")\n",
    "float_formatter = \"{:.2f}\".format\n",
    "for i in range(len(chanCwtpk)):\n",
    "    mytext = Label(x=chanCwtpk[i], y=iscaleCwtpk[i], text=float_formatter(maxcoefCwtpk[i]),\n",
    "                   text_font_size='10pt')\n",
    "    boka.add_layout(mytext)\n",
    "boka.circle(indices_tupl[1], indices_tupl[0], size=3)\n",
    "\n",
    "bokb = figure(\n",
    "    plot_width =default_plot_width,\n",
    "    plot_height=300,\n",
    "    y_axis_type=\"log\",\n",
    "    tools=tools\n",
    ")\n",
    "float_formatter = \"{:n}\".format\n",
    "for i in pksCh:\n",
    "    mytext = Label(x=i, y=spec2.y0s[i], text=float_formatter(i), text_font_size='10pt')\n",
    "    bokb.add_layout(mytext)\n",
    "\n",
    "bokb.x_range = boka.x_range\n",
    "bokb.circle(spec2.xs, spec2.y0s, color=\"red\",size=2)\n",
    "bokb.line(spec2.xs, spec2.y0s, color=\"yellow\")\n",
    "bokb.circle(pksCh, spec2.y0s[pksCh], size=8, line_color='green', fill_color='white', fill_alpha=0)\n",
    "\n",
    "# set up layout\n",
    "p = gridplot([boka, bokb], ncols=1)\n",
    "show(p)"
   ]
  },
  {
   "cell_type": "code",
   "execution_count": 15,
   "metadata": {},
   "outputs": [
    {
     "data": {
      "text/plain": [
       "124"
      ]
     },
     "execution_count": 15,
     "metadata": {},
     "output_type": "execute_result"
    }
   ],
   "source": [
    "chanCwtpk.size"
   ]
  },
  {
   "cell_type": "code",
   "execution_count": 16,
   "metadata": {},
   "outputs": [
    {
     "data": {
      "text/plain": [
       "124"
      ]
     },
     "execution_count": 16,
     "metadata": {},
     "output_type": "execute_result"
    }
   ],
   "source": [
    "len(iscaleCwtpk)"
   ]
  },
  {
   "cell_type": "code",
   "execution_count": 17,
   "metadata": {},
   "outputs": [],
   "source": [
    "# 2020-08-30 Bokeh graph 2\n",
    "default_plot_width, default_plot_height = set_screen_size_by_machine()\n",
    "tools='pan,xwheel_zoom,xbox_select,reset'\n",
    "boka = figure(\n",
    "    plot_width =default_plot_width,\n",
    "    plot_height=300,\n",
    "    # plot_height=default_plot_height,\n",
    "    tools=tools\n",
    ")\n",
    "float_formatter = \"{:.2f}\".format\n",
    "boka.circle(indices_tupl[1], indices_tupl[0], size=3)\n",
    "boka.circle(chanCwtpk, iscaleCwtpk, size=8, line_color='magenta', fill_color='white', fill_alpha=0)\n",
    "\n",
    "bokb = figure(\n",
    "    plot_width =default_plot_width,\n",
    "    plot_height=300,\n",
    "    y_axis_type=\"log\",\n",
    "    tools=tools\n",
    ")\n",
    "float_formatter = \"{:n}\".format\n",
    "#for i in pksCh:\n",
    "#    mytext = Label(x=i, y=spec2.y0s[i], text=float_formatter(i), text_font_size='10pt')\n",
    "#    bokb.add_layout(mytext)\n",
    "for i in range(len(chanCwtpk)):\n",
    "    mytext = Label(x=chanCwtpk[i], y=spec2.y0s[chanCwtpk][i], text=float_formatter(maxcoefCwtpk[i]),\n",
    "                   text_font_size='10pt')\n",
    "    bokb.add_layout(mytext)\n",
    "bokb.circle(chanCwtpk, spec2.y0s[chanCwtpk], size=8, line_color='blue', fill_color='white', fill_alpha=0)\n",
    "    \n",
    "bokb.x_range = boka.x_range\n",
    "bokb.circle(spec2.xs, spec2.y0s, color=\"red\",size=2)\n",
    "bokb.line(spec2.xs, spec2.y0s, color=\"yellow\")\n",
    "\n",
    "# set up layout\n",
    "p = gridplot([boka, bokb], ncols=1)\n",
    "show(p)"
   ]
  },
  {
   "cell_type": "code",
   "execution_count": 18,
   "metadata": {},
   "outputs": [],
   "source": [
    "float_formatter = \"{:.2f}\".format"
   ]
  },
  {
   "cell_type": "code",
   "execution_count": 19,
   "metadata": {},
   "outputs": [
    {
     "data": {
      "text/plain": [
       "array([ 3.        ,  3.5862069 ,  4.17241379,  4.75862069,  5.34482759,\n",
       "        5.93103448,  6.51724138,  7.10344828,  7.68965517,  8.27586207,\n",
       "        8.86206897,  9.44827586, 10.03448276, 10.62068966, 11.20689655,\n",
       "       11.79310345, 12.37931034, 12.96551724, 13.55172414, 14.13793103,\n",
       "       14.72413793, 15.31034483, 15.89655172, 16.48275862, 17.06896552,\n",
       "       17.65517241, 18.24137931, 18.82758621, 19.4137931 , 20.        ])"
      ]
     },
     "execution_count": 19,
     "metadata": {},
     "output_type": "execute_result"
    }
   ],
   "source": [
    "widths"
   ]
  },
  {
   "cell_type": "code",
   "execution_count": 20,
   "metadata": {},
   "outputs": [],
   "source": [
    "scales = np.asarray(iscaleCwtpk)"
   ]
  },
  {
   "cell_type": "code",
   "execution_count": 21,
   "metadata": {},
   "outputs": [
    {
     "data": {
      "text/plain": [
       "array([ 3,  0,  0,  1,  0,  4,  0,  0,  3,  0,  0,  0,  0,  1,  2,  2,  4,\n",
       "        2,  1,  0,  0,  3,  0,  3,  4,  4,  3,  4,  2,  0,  4,  1,  2,  2,\n",
       "        0,  3,  3,  0,  0,  3,  0,  1,  1,  2,  0,  1,  0,  0,  0,  4,  1,\n",
       "        0,  3,  0,  4,  4,  4,  1,  0,  4,  0,  2,  2,  3,  2,  0,  2,  3,\n",
       "        3,  1,  2,  4,  4,  2,  3,  3,  4,  4,  4,  0,  3,  4,  3,  3,  3,\n",
       "        3,  3,  3,  3,  4,  2,  3,  3,  3,  3,  4,  4,  3,  3,  3,  2,  3,\n",
       "        2,  2,  2,  2,  0,  2,  2,  1,  2,  1,  1,  2,  4,  4,  7,  7,  8,\n",
       "        8,  9, 12, 15, 16])"
      ]
     },
     "execution_count": 21,
     "metadata": {},
     "output_type": "execute_result"
    }
   ],
   "source": [
    "scales"
   ]
  },
  {
   "cell_type": "code",
   "execution_count": 22,
   "metadata": {},
   "outputs": [
    {
     "data": {
      "text/plain": [
       "array([ 112,  130,  140,  163,  187,  205,  237,  255,  271,  304,  321,\n",
       "        343,  391,  426,  443,  470,  500,  535,  552,  572,  621,  654,\n",
       "        705,  729,  759,  781,  828,  862,  883,  909,  943,  969,  993,\n",
       "       1008, 1022, 1040, 1060, 1122, 1209, 1226, 1267, 1297, 1311, 1366,\n",
       "       1373, 1391, 1405, 1436, 1450, 1495, 1519, 1618, 1640, 1660, 1690,\n",
       "       1713, 1782, 1901, 1958, 1969, 1993, 2034, 2051, 2073, 2119, 2163,\n",
       "       2251, 2303, 2343, 2378, 2400, 2433, 2466, 2586, 2673, 2702, 2953,\n",
       "       3085, 3369, 3484, 3560, 3645, 3682, 3760, 3890, 3979, 4025, 4082,\n",
       "       4183, 4212, 4230, 4249, 4358, 4614, 4730, 4884, 4907, 5070, 5328,\n",
       "       5674, 5851, 6117, 6271, 6489, 6979, 7018, 7099, 7132, 7400, 7644,\n",
       "       8019,  379, 2936, 1671,  912,  806,  167,  206,  204, 1038, 1396,\n",
       "        619,  272, 1441])"
      ]
     },
     "execution_count": 22,
     "metadata": {},
     "output_type": "execute_result"
    }
   ],
   "source": [
    "chanCwtpk"
   ]
  },
  {
   "cell_type": "code",
   "execution_count": 23,
   "metadata": {},
   "outputs": [],
   "source": [
    "kWin = 3.5"
   ]
  },
  {
   "cell_type": "code",
   "execution_count": 24,
   "metadata": {},
   "outputs": [],
   "source": [
    "# 2020-09-05 Fator para cálculo da largura da janela: kWin"
   ]
  },
  {
   "cell_type": "code",
   "execution_count": 25,
   "metadata": {},
   "outputs": [
    {
     "data": {
      "text/plain": [
       "array([17, 10, 10, 13, 10, 19, 10, 10, 17, 10, 10, 10, 10, 13, 15, 15, 19,\n",
       "       15, 13, 10, 10, 17, 10, 17, 19, 19, 17, 19, 15, 10, 19, 13, 15, 15,\n",
       "       10, 17, 17, 10, 10, 17, 10, 13, 13, 15, 10, 13, 10, 10, 10, 19, 13,\n",
       "       10, 17, 10, 19, 19, 19, 13, 10, 19, 10, 15, 15, 17, 15, 10, 15, 17,\n",
       "       17, 13, 15, 19, 19, 15, 17, 17, 19, 19, 19, 10, 17, 19, 17, 17, 17,\n",
       "       17, 17, 17, 17, 19, 15, 17, 17, 17, 17, 19, 19, 17, 17, 17, 15, 17,\n",
       "       15, 15, 15, 15, 10, 15, 15, 13, 15, 13, 13, 15, 19, 19, 25, 25, 27,\n",
       "       27, 29, 35, 41, 43])"
      ]
     },
     "execution_count": 25,
     "metadata": {},
     "output_type": "execute_result"
    }
   ],
   "source": [
    "# https://stackoverflow.com/questions/10873824/how-to-convert-2d-float-numpy-array-to-2d-int-numpy-array\n",
    "halfWins = np.int_(np.rint(kWin*widths[scales]))\n",
    "halfWins"
   ]
  },
  {
   "cell_type": "code",
   "execution_count": 26,
   "metadata": {},
   "outputs": [],
   "source": [
    "xbl = np.ones(nChPart,dtype=int)\n",
    "for i,pk in enumerate(chanCwtpk):\n",
    "    xbl[pk-halfWins[i]:pk+halfWins[i]+1] = 0\n",
    "imabl = np.array([xbl,xbl,xbl])"
   ]
  },
  {
   "cell_type": "code",
   "execution_count": 27,
   "metadata": {},
   "outputs": [
    {
     "data": {
      "text/plain": [
       "55"
      ]
     },
     "execution_count": 27,
     "metadata": {},
     "output_type": "execute_result"
    }
   ],
   "source": [
    "stru22 = generate_binary_structure(2,2)\n",
    "lblimag22, num_feat_imag22 = label(imabl,stru22)\n",
    "objs = find_objects(lblimag22)\n",
    "stopsBls = [i[1].stop for i in objs]\n",
    "startsBls = [i[1].start for i in objs]\n",
    "len(objs)"
   ]
  },
  {
   "cell_type": "code",
   "execution_count": 28,
   "metadata": {},
   "outputs": [],
   "source": [
    "smoo=11"
   ]
  },
  {
   "cell_type": "code",
   "execution_count": 29,
   "metadata": {},
   "outputs": [],
   "source": [
    "splTcks = []\n",
    "for obj in objs:\n",
    "    m = spec2.xs[obj[1]].size\n",
    "    if m > 3:\n",
    "        splTcks.append(splrep(spec2.xs[obj[1]], spec2.lnCounts[obj[1]], k=3, s=smoo))"
   ]
  },
  {
   "cell_type": "code",
   "execution_count": 30,
   "metadata": {},
   "outputs": [],
   "source": [
    "xBlPlot = []\n",
    "yBlPlot = []\n",
    "for tck in splTcks:\n",
    "    xIn = tck[0][0]\n",
    "    xFi = tck[0][-1]\n",
    "    xBlPl = np.linspace(xIn, xFi, num=int(np.round(3*(xFi-xIn))))\n",
    "    xBlPlot.append( xBlPl )\n",
    "    yBlPlot.append( np.exp(splev(xBlPl, tck, der=0)) )"
   ]
  },
  {
   "cell_type": "code",
   "execution_count": 31,
   "metadata": {},
   "outputs": [],
   "source": [
    "xRgPlot = []\n",
    "yRgPlot = []\n",
    "for i in range(len(splTcks)-1):\n",
    "    xIn = splTcks[i][0][-1]\n",
    "    xFi = splTcks[i+1][0][1]\n",
    "    y0 = np.exp(splev([int(xIn)], splTcks[i])[0])\n",
    "    y1 = np.exp(splev([int(xFi)], splTcks[i+1])[0])\n",
    "    xRgPlot.append( np.linspace(xIn, xFi, num=int(xFi-xIn)+1) )\n",
    "    yRgPlot.append( stepBaseLine(int(xIn), int(xFi), y0, y1, spec2.y0s) )"
   ]
  },
  {
   "cell_type": "code",
   "execution_count": 32,
   "metadata": {},
   "outputs": [],
   "source": [
    "# Tentar aqui um método mais direto para estimar baseline:\n",
    "blineMin = np.zeros(nChPart)\n",
    "for i in range(15,nChPart):\n",
    "    blineMin[i] = np.amin(spec2.y0s[i-15:i+15+1])"
   ]
  },
  {
   "cell_type": "code",
   "execution_count": 33,
   "metadata": {},
   "outputs": [],
   "source": [
    "# Tentar aqui um método mais direto para estimar baseline: esta está muito bom!!\n",
    "blineMin = np.zeros(nChPart)\n",
    "for i in range(18,nChPart):\n",
    "    blineMin[i] = np.percentile(spec2.y0s[i-18:i+18+1], 10.0)"
   ]
  },
  {
   "cell_type": "code",
   "execution_count": 34,
   "metadata": {},
   "outputs": [
    {
     "data": {
      "text/plain": [
       "11"
      ]
     },
     "execution_count": 34,
     "metadata": {},
     "output_type": "execute_result"
    }
   ],
   "source": [
    "smoo"
   ]
  },
  {
   "cell_type": "code",
   "execution_count": 35,
   "metadata": {},
   "outputs": [],
   "source": [
    "# Tentar aqui um método mais direto para estimar baseline: esta está melhor ainda!!!!!\n",
    "# Aqui usando spline SOBRE LNCOUNTS\n",
    "blineMin = np.zeros(nChPart)\n",
    "for i in range(18,nChPart):\n",
    "    blineMin[i] = np.percentile(spec2.lnCounts[i-18:i+18+1], 10.0)\n",
    "tckDirectSpl = splrep(spec2.xs, blineMin, k=3, s=smoo)\n",
    "directSpl = np.exp(splev(spec2.xs, tckDirectSpl, der=0))"
   ]
  },
  {
   "cell_type": "code",
   "execution_count": 36,
   "metadata": {},
   "outputs": [
    {
     "data": {
      "text/plain": [
       "468"
      ]
     },
     "execution_count": 36,
     "metadata": {},
     "output_type": "execute_result"
    }
   ],
   "source": [
    "xBlPl.size"
   ]
  },
  {
   "cell_type": "code",
   "execution_count": 37,
   "metadata": {},
   "outputs": [],
   "source": [
    "# 2020-09-06 Mais um método para estimar baseline: fazer percentil em ajuste\n",
    "# quadrático em janelas do logaritmo das contagens\n",
    "\n",
    "# https://numpy.org/doc/stable/reference/routines.polynomials.classes.html\n",
    "\n",
    "matrFits = np.zeros((nChPart, 37))\n",
    "blineQuaPerc = np.zeros(nChPart)\n",
    "for i in range(18,nChPart-19):\n",
    "    p = P.fit(spec2.xs[i-18:i+18+1], spec2.lnCounts[i-18:i+18+1], deg=2)\n",
    "    matrFits[i,:] = p(spec2.xs[i-18:i+18+1])\n",
    "for i in range(18,nChPart-19):\n",
    "    dia = np.fliplr(matrFits[i-18:i+18+1,:]).diagonal()  # Horizontal flip\n",
    "    blineQuaPerc[i] = np.exp(np.percentile(dia, 10.0))"
   ]
  },
  {
   "cell_type": "code",
   "execution_count": 38,
   "metadata": {},
   "outputs": [],
   "source": [
    "# 2020-09-06 Mais um método para estimar baseline: fazer percentil em ajuste\n",
    "# quadrático em janelas do logaritmo das contagens\n",
    "\n",
    "# https://numpy.org/doc/stable/reference/routines.polynomials.classes.html\n",
    "\n",
    "matrFits = np.zeros((nChPart, 37))\n",
    "blineLinPerc = np.zeros(nChPart)\n",
    "for i in range(18,nChPart-19):\n",
    "    p = P.fit(spec2.xs[i-18:i+18+1], spec2.lnCounts[i-18:i+18+1], deg=1)\n",
    "    matrFits[i,:] = p(spec2.xs[i-18:i+18+1])\n",
    "for i in range(18,nChPart-19):\n",
    "    dia = np.fliplr(matrFits[i-18:i+18+1,:]).diagonal()  # Horizontal flip\n",
    "    blineLinPerc[i] = np.exp(np.percentile(dia, 10.0))"
   ]
  },
  {
   "cell_type": "code",
   "execution_count": 39,
   "metadata": {},
   "outputs": [],
   "source": [
    "# 2020-09-06 Mais um método para estimar baseline: fazer percentil em ajuste\n",
    "# quadrático em janelas do logaritmo das contagens\n",
    "\n",
    "# https://numpy.org/doc/stable/reference/routines.polynomials.classes.html\n",
    "\n",
    "hWin = 25\n",
    "matrFits = np.zeros((nChPart, 2*hWin+1))\n",
    "blineConPerc = np.zeros(nChPart)\n",
    "for i in range(hWin,nChPart-hWin-1):\n",
    "    p = P.fit(spec2.xs[i-hWin:i+hWin+1], spec2.lnCounts[i-hWin:i+hWin+1], deg=0)\n",
    "    matrFits[i,:] = p(spec2.xs[i-hWin:i+hWin+1])\n",
    "for i in range(hWin,nChPart-hWin-1):\n",
    "    dia = np.fliplr(matrFits[i-hWin:i+hWin+1,:]).diagonal()  # Horizontal flip\n",
    "    blineConPerc[i] = np.exp(np.percentile(dia, 5.0))"
   ]
  },
  {
   "cell_type": "code",
   "execution_count": null,
   "metadata": {},
   "outputs": [],
   "source": []
  },
  {
   "cell_type": "code",
   "execution_count": 40,
   "metadata": {},
   "outputs": [
    {
     "data": {
      "text/plain": [
       "(array([8035., 8035., 8035., 8035., 8055., 8074., 8094., 8113., 8123.,\n",
       "        8133., 8152., 8162., 8172., 8191., 8191., 8191., 8191.]),\n",
       " array([3.05721223, 3.67795138, 2.73305538, 3.63173962, 2.9783063 ,\n",
       "        3.05385731, 2.63715145, 2.90865429, 2.98127897, 2.56739887,\n",
       "        2.7257536 , 2.96282995, 2.80932372, 0.        , 0.        ,\n",
       "        0.        , 0.        ]),\n",
       " 3)"
      ]
     },
     "execution_count": 40,
     "metadata": {},
     "output_type": "execute_result"
    }
   ],
   "source": [
    "splrep(spec2.xs[obj[1]], spec2.lnCounts[obj[1]], k=3, s=smoo)"
   ]
  },
  {
   "cell_type": "code",
   "execution_count": 41,
   "metadata": {},
   "outputs": [],
   "source": [
    "# 2020-08-30 Bokeh graph 3\n",
    "default_plot_width, default_plot_height = set_screen_size_by_machine()\n",
    "tools='pan,xwheel_zoom,xbox_select,reset'\n",
    "boka = figure(\n",
    "    plot_width =default_plot_width,\n",
    "    # plot_height=300,\n",
    "    plot_height=default_plot_height,\n",
    "    y_axis_type=\"log\",\n",
    "    tools=tools\n",
    ")\n",
    "\n",
    "boka.circle(spec2.xs, spec2.y0s, color=\"red\",size=2)\n",
    "boka.multi_line(xBlPlot, yBlPlot, color=\"green\")\n",
    "boka.multi_line(xRgPlot, yRgPlot, color=\"orange\")\n",
    "\n",
    "# set up layout\n",
    "p = gridplot([boka], ncols=1)\n",
    "show(p)"
   ]
  },
  {
   "cell_type": "code",
   "execution_count": 42,
   "metadata": {},
   "outputs": [],
   "source": [
    "# 2020-09-05 Bokeh graph 4\n",
    "# blineMin - o melhor até agora\n",
    "default_plot_width, default_plot_height = set_screen_size_by_machine()\n",
    "tools='pan,xwheel_zoom,xbox_select,reset'\n",
    "boka = figure(\n",
    "    plot_width =default_plot_width,\n",
    "    plot_height=default_plot_height,\n",
    "    y_axis_type=\"log\",\n",
    "    tools=tools\n",
    ")\n",
    "boka.circle(spec2.xs, spec2.y0s, color=\"red\",size=2)\n",
    "boka.line(spec2.xs, np.exp(blineMin), color=\"green\")\n",
    "# set up layout\n",
    "p = gridplot([boka], ncols=1)\n",
    "show(p)"
   ]
  },
  {
   "cell_type": "code",
   "execution_count": 43,
   "metadata": {},
   "outputs": [],
   "source": [
    "# 2020-09-06 Bokeh graph 4b\n",
    "# blineMin sobre lncounts com spline: *** directSpl ***- o melhorzíssimo até agora!!!!\n",
    "default_plot_width, default_plot_height = set_screen_size_by_machine()\n",
    "tools='pan,xwheel_zoom,xbox_select,reset'\n",
    "boka = figure(\n",
    "    plot_width =default_plot_width,\n",
    "    plot_height=default_plot_height,\n",
    "    y_axis_type=\"log\",\n",
    "    tools=tools\n",
    ")\n",
    "boka.circle(spec2.xs, spec2.y0s, color=\"red\",size=2)\n",
    "boka.line(spec2.xs, directSpl, color=\"black\")\n",
    "# set up layout\n",
    "p = gridplot([boka], ncols=1)\n",
    "show(p)"
   ]
  },
  {
   "cell_type": "code",
   "execution_count": 44,
   "metadata": {},
   "outputs": [],
   "source": [
    "# 2020-09-06 Bokeh graph 5\n",
    "default_plot_width, default_plot_height = set_screen_size_by_machine()\n",
    "tools='pan,xwheel_zoom,xbox_select,reset'\n",
    "boka = figure(\n",
    "    plot_width =default_plot_width,\n",
    "    # plot_height=300,\n",
    "    plot_height=default_plot_height,\n",
    "    y_axis_type=\"log\",\n",
    "    tools=tools\n",
    ")\n",
    "boka.circle(spec2.xs, spec2.y0s, color=\"red\",size=2)\n",
    "boka.line(spec2.xs, blineQuaPerc, color=\"orange\")\n",
    "p = gridplot([boka], ncols=1)\n",
    "show(p)"
   ]
  },
  {
   "cell_type": "code",
   "execution_count": 45,
   "metadata": {},
   "outputs": [],
   "source": [
    "# 2020-09-06 Bokeh graph 6\n",
    "default_plot_width, default_plot_height = set_screen_size_by_machine()\n",
    "tools='pan,xwheel_zoom,xbox_select,reset'\n",
    "boka = figure(\n",
    "    plot_width =default_plot_width,\n",
    "    # plot_height=300,\n",
    "    plot_height=default_plot_height,\n",
    "    y_axis_type=\"log\",\n",
    "    tools=tools\n",
    ")\n",
    "boka.circle(spec2.xs, spec2.y0s, color=\"red\",size=2)\n",
    "boka.line(spec2.xs, blineLinPerc, color=\"blue\")\n",
    "p = gridplot([boka], ncols=1)\n",
    "show(p)"
   ]
  },
  {
   "cell_type": "code",
   "execution_count": 46,
   "metadata": {},
   "outputs": [],
   "source": [
    "# 2020-09-06 Bokeh graph 7\n",
    "default_plot_width, default_plot_height = set_screen_size_by_machine()\n",
    "tools='pan,xwheel_zoom,xbox_select,reset'\n",
    "boka = figure(\n",
    "    plot_width =default_plot_width,\n",
    "    # plot_height=300,\n",
    "    plot_height=default_plot_height,\n",
    "    y_axis_type=\"log\",\n",
    "    tools=tools\n",
    ")\n",
    "boka.circle(spec2.xs, spec2.y0s, color=\"red\",size=2)\n",
    "boka.line(spec2.xs, blineConPerc, color=\"green\")\n",
    "p = gridplot([boka], ncols=1)\n",
    "show(p)"
   ]
  },
  {
   "cell_type": "code",
   "execution_count": null,
   "metadata": {},
   "outputs": [],
   "source": []
  },
  {
   "cell_type": "code",
   "execution_count": 47,
   "metadata": {},
   "outputs": [
    {
     "ename": "SyntaxError",
     "evalue": "invalid syntax (<ipython-input-47-d8497885789c>, line 1)",
     "output_type": "error",
     "traceback": [
      "\u001b[0;36m  File \u001b[0;32m\"<ipython-input-47-d8497885789c>\"\u001b[0;36m, line \u001b[0;32m1\u001b[0m\n\u001b[0;31m    PAREI AQUIIIIII 2020-09-05\u001b[0m\n\u001b[0m                  ^\u001b[0m\n\u001b[0;31mSyntaxError\u001b[0m\u001b[0;31m:\u001b[0m invalid syntax\n"
     ]
    }
   ],
   "source": [
    "PAREI AQUIIIIII 2020-09-05"
   ]
  },
  {
   "cell_type": "code",
   "execution_count": null,
   "metadata": {},
   "outputs": [],
   "source": []
  },
  {
   "cell_type": "code",
   "execution_count": 48,
   "metadata": {},
   "outputs": [
    {
     "data": {
      "text/plain": [
       "8192"
      ]
     },
     "execution_count": 48,
     "metadata": {},
     "output_type": "execute_result"
    }
   ],
   "source": [
    "nChPart"
   ]
  },
  {
   "cell_type": "code",
   "execution_count": 49,
   "metadata": {},
   "outputs": [],
   "source": [
    "is_bline = np.array(spec2.lnCounts)\n",
    "for i,pk in enumerate(chanCwtpk):\n",
    "    is_bline[pk-halfWins[i]:pk+halfWins[i]+1] = np.nan\n",
    "mascara = ~(ma.masked_invalid(is_bline).mask)\n",
    "xbline = spec2.xs[mascara]\n",
    "ybline = spec2.lnCounts[mascara]\n",
    "\n",
    "# turn UnivariateSpline(xbline, ybline, k=3, s=halfWin*10.0)\n"
   ]
  },
  {
   "cell_type": "code",
   "execution_count": 50,
   "metadata": {},
   "outputs": [],
   "source": [
    "xs = spec2.xs[:nChPart]\n",
    "ys = spec2.y0s[:nChPart]\n",
    "lnNetCounts = np.zeros(nChPart)\n",
    "uncys = np.sqrt(ys)\n",
    "contin = np.zeros(nChPart)\n",
    "yNets = np.zeros(nChPart)"
   ]
  },
  {
   "cell_type": "code",
   "execution_count": 51,
   "metadata": {},
   "outputs": [],
   "source": [
    "splTck = splrep(xbline, ybline, k=1, s=smoo)\n",
    "# tck é uma tupla com coeficientes, nós e grau\n",
    "xnew = np.linspace(0, nChPart, num=20000)\n",
    "ynewlog = np.exp(splev(xnew, splTck, der=0))"
   ]
  },
  {
   "cell_type": "code",
   "execution_count": 52,
   "metadata": {},
   "outputs": [],
   "source": [
    "splTck = splrep(xbline, ybline, k=1, s=smoo)\n",
    "# tck é uma tupla com coeficientes, nós e grau\n",
    "xnew = np.linspace(0, nChPart, num=20000)\n",
    "ynewlin = splev(xnew, splTck, der=0)"
   ]
  },
  {
   "cell_type": "code",
   "execution_count": 53,
   "metadata": {},
   "outputs": [],
   "source": [
    "tck = splrep(xs, ys, s=smoo)\n",
    "xnew = np.linspace(0, nChPart, num=1000)\n",
    "ynew = splev(xnew, tck, der=0)"
   ]
  },
  {
   "cell_type": "code",
   "execution_count": 54,
   "metadata": {},
   "outputs": [],
   "source": [
    "# 2020-08-30 Bokeh graph\n",
    "default_plot_width, default_plot_height = set_screen_size_by_machine()\n",
    "tools='pan,xwheel_zoom,xbox_select,reset'\n",
    "boka = figure(\n",
    "    plot_width =default_plot_width,\n",
    "    plot_height=300,\n",
    "    # plot_height=default_plot_height,\n",
    "    tools=tools\n",
    ")\n",
    "boka.circle(indices_tupl[1], indices_tupl[0], size=3)\n",
    "\n",
    "bokb = figure(\n",
    "    plot_width =default_plot_width,\n",
    "    plot_height=300,\n",
    "    y_axis_type=\"log\",\n",
    "    tools=tools\n",
    ")\n",
    "\n",
    "bokb.x_range = boka.x_range\n",
    "bokb.circle(spec2.xs, spec2.y0s, color=\"red\",size=2)\n",
    "bokb.line(spec2.xs, spec2.y0s, color=\"yellow\")\n",
    "bokb.circle(pksCh, spec2.y0s[pksCh], size=8, line_color='green', fill_color='white', fill_alpha=0)\n",
    "\n",
    "bokb.circle(xbline, ybline, color=\"blue\",size=2)\n",
    "bokb.line(xbline, ybline, color=\"lightblue\")\n",
    "\n",
    "bokb.square(xnew, ynew, color=\"magenta\",size=2)\n",
    "bokb.line(xnew, ynew, color=\"orange\")\n",
    "\n",
    "# set up layout\n",
    "p = gridplot([boka, bokb], ncols=1)\n",
    "show(p)"
   ]
  },
  {
   "cell_type": "code",
   "execution_count": null,
   "metadata": {},
   "outputs": [],
   "source": []
  },
  {
   "cell_type": "code",
   "execution_count": 55,
   "metadata": {},
   "outputs": [
    {
     "data": {
      "text/plain": [
       "<scipy.interpolate.fitpack2.UnivariateSpline at 0x7f3b0928cc10>"
      ]
     },
     "execution_count": 55,
     "metadata": {},
     "output_type": "execute_result"
    }
   ],
   "source": [
    "spec2.bline_by_spline(pksCh)"
   ]
  },
  {
   "cell_type": "code",
   "execution_count": null,
   "metadata": {},
   "outputs": [],
   "source": []
  },
  {
   "cell_type": "code",
   "execution_count": 56,
   "metadata": {},
   "outputs": [
    {
     "data": {
      "text/plain": [
       "8064.0"
      ]
     },
     "execution_count": 56,
     "metadata": {},
     "output_type": "execute_result"
    }
   ],
   "source": [
    "smoo = nChPart - np.sqrt(2*nChPart)\n",
    "smoo"
   ]
  },
  {
   "cell_type": "code",
   "execution_count": 57,
   "metadata": {},
   "outputs": [],
   "source": [
    "smoo=100"
   ]
  },
  {
   "cell_type": "code",
   "execution_count": null,
   "metadata": {},
   "outputs": [],
   "source": []
  },
  {
   "cell_type": "code",
   "execution_count": 60,
   "metadata": {},
   "outputs": [],
   "source": [
    "# 2020-08-30 Bokeh graph\n",
    "default_plot_width, default_plot_height = set_screen_size_by_machine()\n",
    "tools='pan,wheel_zoom,xbox_select,reset'\n",
    "boka = figure(\n",
    "    plot_width =default_plot_width,\n",
    "    plot_height=300,\n",
    "    # plot_height=default_plot_height,\n",
    "    tools=tools\n",
    ")\n",
    "boka.circle(indices_tupl[1], indices_tupl[0], size=3)\n",
    "\n",
    "bokb = figure(\n",
    "    plot_width =default_plot_width,\n",
    "    plot_height=300,\n",
    "    y_axis_type=\"log\",\n",
    "    tools=tools\n",
    ")\n",
    "\n",
    "bokb.x_range = boka.x_range\n",
    "bokb.circle(spec2.xs, spec2.y0s, color=\"red\",size=2)\n",
    "bokb.line(spec2.xs, spec2.y0s, color=\"yellow\")\n",
    "bokb.circle(pksCh, spec2.y0s[pksCh], size=8, line_color='green', fill_color='white', fill_alpha=0)\n",
    "\n",
    "bokb.circle(xnew, ynew, color=\"blue\",size=2)\n",
    "bokb.line(xnew, ynew, color=\"lightblue\")\n",
    "\n",
    "# set up layout\n",
    "p = gridplot([boka, bokb], ncols=1)\n",
    "show(p)"
   ]
  },
  {
   "cell_type": "code",
   "execution_count": null,
   "metadata": {},
   "outputs": [],
   "source": []
  },
  {
   "cell_type": "code",
   "execution_count": null,
   "metadata": {},
   "outputs": [],
   "source": []
  },
  {
   "cell_type": "code",
   "execution_count": 61,
   "metadata": {},
   "outputs": [
    {
     "name": "stderr",
     "output_type": "stream",
     "text": [
      "/home/marcelo/anaconda3/lib/python3.7/site-packages/ipykernel_launcher.py:1: RankWarning: Polyfit may be poorly conditioned\n",
      "  \"\"\"Entry point for launching an IPython kernel.\n",
      "/home/marcelo/anaconda3/lib/python3.7/site-packages/ipykernel_launcher.py:1: RankWarning: Polyfit may be poorly conditioned\n",
      "  \"\"\"Entry point for launching an IPython kernel.\n"
     ]
    },
    {
     "data": {
      "text/plain": [
       "0"
      ]
     },
     "execution_count": 61,
     "metadata": {},
     "output_type": "execute_result"
    }
   ],
   "source": [
    "spec2.coeffs_2nd_grade_estim(haWin=haWin, hei=hei)"
   ]
  },
  {
   "cell_type": "code",
   "execution_count": null,
   "metadata": {},
   "outputs": [],
   "source": []
  },
  {
   "cell_type": "code",
   "execution_count": 62,
   "metadata": {},
   "outputs": [
    {
     "data": {
      "text/plain": [
       "array([ 112,  124,  237,  321,  379,  387,  392,  442,  470,  729,  781,\n",
       "        828,  942, 1208, 1220, 1226, 1495, 1520, 1713, 1782, 1964, 1969,\n",
       "       2034, 2039, 2052, 2073, 2119, 2161, 2297, 2303, 2343, 2379, 2433,\n",
       "       2466, 2469, 2586, 2672, 2702, 2706, 2953, 3085, 3369, 3560, 3645,\n",
       "       3682, 3760, 3890, 3979, 4025, 4082, 4247, 4249, 4357, 4614, 4730,\n",
       "       4884, 4905, 4907, 5069, 5181, 5229, 5231, 5269, 5327, 5330, 5416,\n",
       "       5418, 5461, 5674, 5851, 5987, 6117, 6271, 6489, 6560, 6610, 6620,\n",
       "       6672, 6979, 7017, 7099, 7132, 7400, 7645, 7711, 7794, 7819, 8020,\n",
       "       8045, 8076, 8101, 8180, 8187])"
      ]
     },
     "execution_count": 62,
     "metadata": {},
     "output_type": "execute_result"
    }
   ],
   "source": [
    "pks = spec2.ipks(widths_range=(5,15))\n",
    "pks"
   ]
  },
  {
   "cell_type": "code",
   "execution_count": 63,
   "metadata": {},
   "outputs": [
    {
     "data": {
      "text/plain": [
       "array([ 112,  127,  237,  271,  321,  379,  386,  392,  426,  442,  464,\n",
       "        470,  654,  727,  729,  781,  828,  942, 1060, 1208, 1217, 1226,\n",
       "       1303, 1367, 1372, 1427, 1495, 1519, 1711, 1713, 1782, 1965, 1969,\n",
       "       2034, 2044, 2052, 2073, 2119, 2159, 2303, 2343, 2379, 2433, 2466,\n",
       "       2469, 2586, 2672, 2702, 2723, 2950, 2953, 3085, 3367, 3369, 3560,\n",
       "       3645, 3682, 3758, 3760, 3890, 3976, 3979, 4025, 4082, 4183, 4244,\n",
       "       4249, 4299, 4357, 4614, 4672, 4730, 4884, 4900, 4907, 5017, 5069,\n",
       "       5228, 5269, 5327, 5332, 5415, 5418, 5462, 5674, 5742, 5851, 5987,\n",
       "       5989, 6117, 6271, 6350, 6489, 6560, 6604, 6620, 6639, 6673, 6979,\n",
       "       7017, 7100, 7132, 7400, 7645, 7711, 7794, 7803, 7819, 8020, 8045,\n",
       "       8080, 8101, 8187])"
      ]
     },
     "execution_count": 63,
     "metadata": {},
     "output_type": "execute_result"
    }
   ],
   "source": [
    "lnpks = spec2.lnIpks(widt=(5,20))\n",
    "lnpks"
   ]
  },
  {
   "cell_type": "code",
   "execution_count": 64,
   "metadata": {},
   "outputs": [
    {
     "data": {
      "text/plain": [
       "array([ 116,  127,  236,  321,  387,  464,  471,  729,  942, 1207, 1217,\n",
       "       1226, 1368, 1372, 1495, 1713, 1782, 1965, 2033, 2044, 2076, 2159,\n",
       "       2342, 2586, 2952, 3085, 3369, 3560, 3645, 3682, 3890, 3976, 3979,\n",
       "       4082, 4244, 4249, 4357, 4614, 4730, 4900, 4907, 5069, 5228, 5328,\n",
       "       5332, 5417, 5674, 5851, 5987, 6118, 6271, 6488, 6979, 7099, 7132,\n",
       "       7400, 7645, 7793, 7803, 7821, 8020, 8074, 8173, 8183])"
      ]
     },
     "execution_count": 64,
     "metadata": {},
     "output_type": "execute_result"
    }
   ],
   "source": [
    "lnpks = spec2.lnIpks(widt=(9,20), msnr=1.5)\n",
    "lnpks"
   ]
  },
  {
   "cell_type": "code",
   "execution_count": 65,
   "metadata": {},
   "outputs": [
    {
     "data": {
      "text/plain": [
       "array([ 114,  236,  321,  388,  443,  471,  729,  781,  942, 1207, 1226,\n",
       "       1368, 1495, 1713, 1782, 1965, 2033, 2052, 2075, 2301, 2342, 2432,\n",
       "       2466, 2586, 2701, 2953, 3085, 3369, 3560, 3645, 3682, 3760, 3890,\n",
       "       3979, 4025, 4082, 4249, 4357, 4614, 4730, 4883, 4907, 5069, 5228,\n",
       "       5327, 5417, 5674, 5851, 5986, 6118, 6271, 6488, 6673, 6979, 7017,\n",
       "       7100, 7132, 7400, 7645, 7794, 7820, 8020, 8045, 8074, 8185])"
      ]
     },
     "execution_count": 65,
     "metadata": {},
     "output_type": "execute_result"
    }
   ],
   "source": [
    "lnpks = spec2.lnIpks(widt=(7,8, 9,10,11,12), msnr=1.2)\n",
    "lnpks"
   ]
  },
  {
   "cell_type": "code",
   "execution_count": 66,
   "metadata": {},
   "outputs": [
    {
     "data": {
      "text/plain": [
       "array([ 112,  237,  321,  379,  388,  392,  426,  442,  470,  654,  729,\n",
       "        781,  828,  942, 1208, 1226, 1367, 1495, 1519, 1713, 1782, 1965,\n",
       "       1969, 2034, 2052, 2073, 2303, 2343, 2379, 2433, 2466, 2586, 2672,\n",
       "       2702, 2953, 3085, 3369, 3560, 3645, 3682, 3760, 3890, 3979, 4025,\n",
       "       4082, 4183, 4249, 4357, 4614, 4730, 4884, 4907, 5069, 5228, 5327,\n",
       "       5418, 5674, 5851, 5987, 6117, 6271, 6489, 6560, 6607, 6673, 6979,\n",
       "       7017, 7100, 7132, 7400, 7645, 7711, 7794, 7819, 8020, 8045, 8074,\n",
       "       8101, 8187])"
      ]
     },
     "execution_count": 66,
     "metadata": {},
     "output_type": "execute_result"
    }
   ],
   "source": [
    "lnpks = spec2.lnIpks(widt=(5,6,7,8,9,10,11,12), msnr=1.2)\n",
    "lnpks"
   ]
  },
  {
   "cell_type": "code",
   "execution_count": null,
   "metadata": {},
   "outputs": [],
   "source": []
  },
  {
   "cell_type": "code",
   "execution_count": null,
   "metadata": {},
   "outputs": [],
   "source": []
  },
  {
   "cell_type": "code",
   "execution_count": 67,
   "metadata": {},
   "outputs": [
    {
     "data": {
      "text/plain": [
       "8192"
      ]
     },
     "execution_count": 67,
     "metadata": {},
     "output_type": "execute_result"
    }
   ],
   "source": [
    "if fn2 == './I125_01.001.3.IEC':\n",
    "    nChPart = 500\n",
    "else:\n",
    "    nChPart = spec2.lnCounts.size\n",
    "nChPart"
   ]
  },
  {
   "cell_type": "code",
   "execution_count": 68,
   "metadata": {},
   "outputs": [
    {
     "data": {
      "text/plain": [
       "403200.0"
      ]
     },
     "execution_count": 68,
     "metadata": {},
     "output_type": "execute_result"
    }
   ],
   "source": [
    "smoo = nChPart - np.sqrt(2*nChPart)\n",
    "# Aumentado o smooth:\n",
    "smoo = 50*smoo\n",
    "smoo"
   ]
  },
  {
   "cell_type": "code",
   "execution_count": 69,
   "metadata": {},
   "outputs": [
    {
     "data": {
      "text/plain": [
       "array([923, 965, 907, 862, 776, 775, 787, 748, 822, 921, 922, 902, 862,\n",
       "       782, 677, 733, 753, 762, 674, 700, 768, 745])"
      ]
     },
     "execution_count": 69,
     "metadata": {},
     "output_type": "execute_result"
    }
   ],
   "source": [
    "ys[129:151]"
   ]
  },
  {
   "cell_type": "code",
   "execution_count": 70,
   "metadata": {},
   "outputs": [],
   "source": [
    "nContin = 4"
   ]
  },
  {
   "cell_type": "code",
   "execution_count": null,
   "metadata": {},
   "outputs": [],
   "source": []
  },
  {
   "cell_type": "code",
   "execution_count": 71,
   "metadata": {},
   "outputs": [],
   "source": [
    "xs = spec2.xs[:nChPart]\n",
    "ys = spec2.y0s[:nChPart]\n",
    "lnNetCounts = np.zeros(nChPart)\n",
    "uncys = np.sqrt(ys)\n",
    "contin = np.zeros(nChPart)\n",
    "yNets = np.zeros(nChPart)"
   ]
  },
  {
   "cell_type": "code",
   "execution_count": 72,
   "metadata": {},
   "outputs": [],
   "source": [
    "tck = splrep(xs, ys, s=smoo)\n",
    "xnew = np.linspace(0, nChPart, num=2000)\n",
    "ynew = splev(xnew, tck, der=0)"
   ]
  },
  {
   "cell_type": "code",
   "execution_count": 73,
   "metadata": {},
   "outputs": [
    {
     "data": {
      "text/plain": [
       "array([0.00000000e+00, 4.09804902e+00, 8.19609805e+00, ...,\n",
       "       8.18380390e+03, 8.18790195e+03, 8.19200000e+03])"
      ]
     },
     "execution_count": 73,
     "metadata": {},
     "output_type": "execute_result"
    }
   ],
   "source": [
    "xnew"
   ]
  },
  {
   "cell_type": "code",
   "execution_count": 74,
   "metadata": {},
   "outputs": [
    {
     "data": {
      "text/plain": [
       "2000"
      ]
     },
     "execution_count": 74,
     "metadata": {},
     "output_type": "execute_result"
    }
   ],
   "source": [
    "xnew.size"
   ]
  },
  {
   "cell_type": "code",
   "execution_count": 75,
   "metadata": {},
   "outputs": [
    {
     "data": {
      "text/plain": [
       "2000"
      ]
     },
     "execution_count": 75,
     "metadata": {},
     "output_type": "execute_result"
    }
   ],
   "source": [
    "ens = np.polyval(spec2.coeffs_ChEn, xs)\n",
    "ensnew = np.polyval(spec2.coeffs_ChEn, xnew)\n",
    "ensnew.size"
   ]
  },
  {
   "cell_type": "code",
   "execution_count": 76,
   "metadata": {},
   "outputs": [
    {
     "data": {
      "text/plain": [
       "array([ 0.10274373,  0.02782861, -0.02129569, ..., 18.10512843,\n",
       "       17.6097416 , 15.78302065])"
      ]
     },
     "execution_count": 76,
     "metadata": {},
     "output_type": "execute_result"
    }
   ],
   "source": [
    "ynew"
   ]
  },
  {
   "cell_type": "code",
   "execution_count": 77,
   "metadata": {},
   "outputs": [
    {
     "data": {
      "text/plain": [
       "782.3174343416745"
      ]
     },
     "execution_count": 77,
     "metadata": {},
     "output_type": "execute_result"
    }
   ],
   "source": [
    "x0 = splev([133], tck)[0]\n",
    "x0"
   ]
  },
  {
   "cell_type": "code",
   "execution_count": 78,
   "metadata": {},
   "outputs": [
    {
     "data": {
      "text/plain": [
       "679.0160012109075"
      ]
     },
     "execution_count": 78,
     "metadata": {},
     "output_type": "execute_result"
    }
   ],
   "source": [
    "x1 = splev([147], tck)[0]\n",
    "x1"
   ]
  },
  {
   "cell_type": "code",
   "execution_count": null,
   "metadata": {},
   "outputs": [],
   "source": []
  },
  {
   "cell_type": "code",
   "execution_count": null,
   "metadata": {},
   "outputs": [],
   "source": []
  },
  {
   "cell_type": "code",
   "execution_count": 79,
   "metadata": {},
   "outputs": [],
   "source": [
    "pksLimits = np.array([[133,147],[151,168],[174,189]])"
   ]
  },
  {
   "cell_type": "code",
   "execution_count": 80,
   "metadata": {},
   "outputs": [],
   "source": [
    "nPks = 3"
   ]
  },
  {
   "cell_type": "code",
   "execution_count": 81,
   "metadata": {},
   "outputs": [
    {
     "ename": "TypeError",
     "evalue": "stepBaseLine() missing 3 required positional arguments: 'y0', 'y1', and 'ys'",
     "output_type": "error",
     "traceback": [
      "\u001b[0;31m---------------------------------------------------------------------------\u001b[0m",
      "\u001b[0;31mTypeError\u001b[0m                                 Traceback (most recent call last)",
      "\u001b[0;32m<ipython-input-81-80a62cf873e9>\u001b[0m in \u001b[0;36m<module>\u001b[0;34m\u001b[0m\n\u001b[1;32m      1\u001b[0m \u001b[0;32mfor\u001b[0m \u001b[0miPk\u001b[0m \u001b[0;32min\u001b[0m \u001b[0mrange\u001b[0m\u001b[0;34m(\u001b[0m\u001b[0mnPks\u001b[0m\u001b[0;34m)\u001b[0m\u001b[0;34m:\u001b[0m\u001b[0;34m\u001b[0m\u001b[0;34m\u001b[0m\u001b[0m\n\u001b[0;32m----> 2\u001b[0;31m     \u001b[0mcontin\u001b[0m \u001b[0;34m=\u001b[0m \u001b[0mstepBaseLine\u001b[0m\u001b[0;34m(\u001b[0m \u001b[0mpksLimits\u001b[0m\u001b[0;34m[\u001b[0m\u001b[0miPk\u001b[0m\u001b[0;34m,\u001b[0m\u001b[0;36m0\u001b[0m\u001b[0;34m]\u001b[0m\u001b[0;34m,\u001b[0m \u001b[0mpksLimits\u001b[0m\u001b[0;34m[\u001b[0m\u001b[0miPk\u001b[0m\u001b[0;34m,\u001b[0m\u001b[0;36m1\u001b[0m\u001b[0;34m]\u001b[0m \u001b[0;34m)\u001b[0m\u001b[0;34m\u001b[0m\u001b[0;34m\u001b[0m\u001b[0m\n\u001b[0m",
      "\u001b[0;31mTypeError\u001b[0m: stepBaseLine() missing 3 required positional arguments: 'y0', 'y1', and 'ys'"
     ]
    }
   ],
   "source": [
    "for iPk in range(nPks):\n",
    "    contin = stepBaseLine( pksLimits[iPk,0], pksLimits[iPk,1] )"
   ]
  },
  {
   "cell_type": "code",
   "execution_count": null,
   "metadata": {},
   "outputs": [],
   "source": [
    "contin # 15, 18 e 16 canais incluindo os extremos"
   ]
  },
  {
   "cell_type": "code",
   "execution_count": null,
   "metadata": {},
   "outputs": [],
   "source": [
    "yNets = ys - contin"
   ]
  },
  {
   "cell_type": "code",
   "execution_count": null,
   "metadata": {},
   "outputs": [],
   "source": [
    "for i in range(nChPart):\n",
    "    if yNets[i] < 2:\n",
    "        lnNetCounts[i] = 0\n",
    "    else:\n",
    "        lnNetCounts[i] = np.log(yNets[i])"
   ]
  },
  {
   "cell_type": "code",
   "execution_count": null,
   "metadata": {},
   "outputs": [],
   "source": [
    "coeffs_pks = np.zeros((nPks,3))\n",
    "covars_pks = np.zeros((nPks,3,3))"
   ]
  },
  {
   "cell_type": "code",
   "execution_count": null,
   "metadata": {},
   "outputs": [],
   "source": [
    "for iPk in range(nPks):\n",
    "    xdata = xs[pksLimits[iPk,0]+3:pksLimits[iPk,1]-2]\n",
    "    ydata = lnNetCounts[pksLimits[iPk,0]+3:pksLimits[iPk,1]-2]\n",
    "    wYdata = uncys[pksLimits[iPk,0]+3:pksLimits[iPk,1]-2]\n",
    "    if np.max(ydata) > 2.0:\n",
    "        try:\n",
    "            coeffs_pks[iPk], covars_pks[iPk] = np.polyfit(xdata, ydata, 2, w=wYdata, cov=True)\n",
    "            # except LA.LinAlgError or ValueError:\n",
    "        except:\n",
    "            coeffs_pks[iPk] = np.zeros(3)\n",
    "            covars_pks[iPk] = np.zeros((3,3))"
   ]
  },
  {
   "cell_type": "code",
   "execution_count": null,
   "metadata": {},
   "outputs": [],
   "source": [
    "xdata"
   ]
  },
  {
   "cell_type": "code",
   "execution_count": null,
   "metadata": {},
   "outputs": [],
   "source": [
    "ydata"
   ]
  },
  {
   "cell_type": "code",
   "execution_count": null,
   "metadata": {},
   "outputs": [],
   "source": [
    "wYdata"
   ]
  },
  {
   "cell_type": "code",
   "execution_count": null,
   "metadata": {},
   "outputs": [],
   "source": [
    "coeffs_pks"
   ]
  },
  {
   "cell_type": "code",
   "execution_count": null,
   "metadata": {},
   "outputs": [],
   "source": [
    "covars_pks"
   ]
  },
  {
   "cell_type": "code",
   "execution_count": null,
   "metadata": {},
   "outputs": [],
   "source": [
    "\n",
    "\n"
   ]
  },
  {
   "cell_type": "code",
   "execution_count": null,
   "metadata": {},
   "outputs": [],
   "source": [
    "# 2020-08-15 AGORA interpretar os coefs. do ajuste gaussiano linearizado."
   ]
  },
  {
   "cell_type": "code",
   "execution_count": null,
   "metadata": {},
   "outputs": [],
   "source": [
    "# O vértice da parábola tem coord xV = -b/2a, y = c - b^2/4a.\n",
    "# O fwhm será 2 delta x, onde delta x é x(H/2)-x(vertice)\n",
    "# Usando a função quadrática inversa, será raiz(b^2) etc\n",
    "\n",
    "# Os canais centroides e as alturas serão\n",
    "chCtroids = np.zeros(nPks)\n",
    "heights = np.zeros(nPks)\n",
    "chFwhms = np.zeros(nPks)\n",
    "for iPk in range(nPks):\n",
    "    a = coeffs_pks[iPk,0]\n",
    "    b = coeffs_pks[iPk,1]\n",
    "    c = coeffs_pks[iPk,2]\n",
    "    chCtroids[iPk] = -b / (2*a)\n",
    "    heights[iPk] = np.exp( c - b**2 / (4*a))\n",
    "    # Isso a seguir funciona mas é horrível...\n",
    "    chFwhms[iPk] = np.sqrt( b**2 - 4*a*( c - np.log(heights[iPk]/2) ) ) / a\n",
    "enCtroids = np.polyval(spec2.coeffs_ChEn, chCtroids)\n",
    "print(chCtroids)\n",
    "print(enCtroids)\n",
    "print(heights)\n",
    "print(chFwhms)"
   ]
  },
  {
   "cell_type": "code",
   "execution_count": null,
   "metadata": {},
   "outputs": [],
   "source": [
    "# Perfeito!!!"
   ]
  },
  {
   "cell_type": "code",
   "execution_count": null,
   "metadata": {},
   "outputs": [],
   "source": [
    "c"
   ]
  },
  {
   "cell_type": "code",
   "execution_count": null,
   "metadata": {},
   "outputs": [],
   "source": []
  },
  {
   "cell_type": "code",
   "execution_count": null,
   "metadata": {},
   "outputs": [],
   "source": []
  },
  {
   "cell_type": "code",
   "execution_count": null,
   "metadata": {},
   "outputs": [],
   "source": [
    "# Gr'afico do ajuste:"
   ]
  },
  {
   "cell_type": "code",
   "execution_count": null,
   "metadata": {},
   "outputs": [],
   "source": []
  },
  {
   "cell_type": "code",
   "execution_count": null,
   "metadata": {},
   "outputs": [],
   "source": [
    "xnew_pks = np.zeros((nPks,130))\n",
    "ynew_pks = np.zeros((nPks,130))\n",
    "enNew_pks = np.zeros((nPks,130))\n",
    "for iPk in range(nPks):\n",
    "    xnew_pks[iPk] = np.linspace(pksLimits[iPk,0]+3, pksLimits[iPk,1]-3, num=130)\n",
    "    ynew_pks[iPk] = np.exp(np.polyval(coeffs_pks[iPk], xnew_pks[iPk]))\n",
    "    enNew_pks[iPk] = np.polyval(spec2.coeffs_ChEn, xnew_pks[iPk])"
   ]
  },
  {
   "cell_type": "code",
   "execution_count": null,
   "metadata": {},
   "outputs": [],
   "source": [
    "xnew_pks[0]"
   ]
  },
  {
   "cell_type": "raw",
   "metadata": {},
   "source": [
    "# Atributos possíveis para os eixos:\n",
    "\n",
    "AttributeError: unexpected attribute 'font_size' to LinearAxis, possible attributes are axis_label, axis_label_standoff, axis_label_text_align, axis_label_text_alpha, axis_label_text_baseline, axis_label_text_color, axis_label_text_font, axis_label_text_font_size, axis_label_text_font_style, axis_label_text_line_height, axis_line_alpha, axis_line_cap, axis_line_color, axis_line_dash, axis_line_dash_offset, axis_line_join, axis_line_width, bounds, fixed_location, formatter, js_event_callbacks, js_property_callbacks, level, major_label_orientation, major_label_overrides, major_label_standoff, major_label_text_align, major_label_text_alpha, major_label_text_baseline, major_label_text_color, major_label_text_font, major_label_text_font_size, major_label_text_font_style, major_label_text_line_height, major_tick_in, major_tick_line_alpha, major_tick_line_cap, major_tick_line_color, major_tick_line_dash, major_tick_line_dash_offset, major_tick_line_join, major_tick_line_width, major_tick_out, minor_tick_in, minor_tick_line_alpha, minor_tick_line_cap, minor_tick_line_color, minor_tick_line_dash, minor_tick_line_dash_offset, minor_tick_line_join, minor_tick_line_width, minor_tick_out, name, subscribed_events, tags, ticker, visible, x_range_name or y_range_name"
   ]
  },
  {
   "cell_type": "code",
   "execution_count": null,
   "metadata": {},
   "outputs": [],
   "source": [
    "# PAREI AQUI a parte das paletas gr'aficas  2020-ago-12"
   ]
  },
  {
   "cell_type": "code",
   "execution_count": null,
   "metadata": {},
   "outputs": [],
   "source": [
    "Paired6"
   ]
  },
  {
   "cell_type": "code",
   "execution_count": null,
   "metadata": {},
   "outputs": [],
   "source": [
    "Pretos = ('#a6cee3', '#1f78b4', '#b2df8a', '#a6cee3', '#a6cee3', '#a6cee3')"
   ]
  },
  {
   "cell_type": "code",
   "execution_count": null,
   "metadata": {},
   "outputs": [],
   "source": [
    "base, lower, upper = [], [], []\n",
    "\n",
    "for i, x in enumerate(list(spec2.xs)):\n",
    "    lower.append(spec2.y0s[i]-spec2.uncCounts[i])\n",
    "    upper.append(spec2.y0s[i]+spec2.uncCounts[i])\n",
    "    base.append(x)\n",
    "\n",
    "source_error = ColumnDataSource(data=dict(base=base, lower=lower, upper=upper))\n",
    "\n",
    "# Para nao cortar o numero da escala y:\n",
    "yrange [1] = 1.5e6\n",
    "\n",
    "bok1z = figure(\n",
    "    plot_width = 900,\n",
    "    # plot_width =default_plot_width,\n",
    "    plot_height=default_plot_height,\n",
    "    tools=\"pan,box_zoom,reset,save\",\n",
    "    y_axis_type=\"log\",\n",
    "    x_range=[22,39],\n",
    "    y_range=yrange,\n",
    "#    title=fn2\n",
    ")\n",
    "# bok1z.title.text = 'Click on legend entries to hide the corresponding lines'\n",
    "bok1z.xaxis.axis_label = 'Energy (keV)'\n",
    "bok1z.xaxis.axis_label_text_font_size = '18pt'\n",
    "bok1z.xaxis.major_label_text_font_size = '16pt'\n",
    "\n",
    "bok1z.yaxis.axis_label = 'Counts'\n",
    "bok1z.yaxis.axis_label_text_font_size = '18pt'\n",
    "bok1z.yaxis.major_label_text_font_size = '16pt'\n",
    "\n",
    "base, lower, upper = [], [], []\n",
    "for i, x in enumerate(list(ens)):\n",
    "    lower.append(ys[i]-uncys[i])\n",
    "    upper.append(ys[i]+uncys[i])\n",
    "    base.append(x)\n",
    "source_error = ColumnDataSource(data=dict(base=base, lower=lower, upper=upper))\n",
    "\n",
    "bok1z.circle(ens, ys, size=3, color='navy', alpha=1.0, legend_label='ys')\n",
    "bok1z.line(ensnew, ynew, line_width=0.7, color='red', alpha=0.9, legend_label='gross')\n",
    "bok1z.line(ens, contin, line_width=0.4, color='green', alpha=0.8, legend_label='contin')\n",
    "bok1z.square(ens, yNets, size=7, line_color='navy', fill_color='orange', alpha=0.6, legend_label='net')\n",
    "bok1z.add_layout(\n",
    "    Whisker(source=source_error, base=\"base\", upper=\"upper\", lower=\"lower\")\n",
    ") \n",
    "\n",
    "bok1z.legend.location = \"top_right\"\n",
    "bok1z.legend.click_policy=\"hide\"\n",
    "\n",
    "bok1z.multi_line(list(enNew_pks), list(ynew_pks), line_width=0.3, color='blue', alpha=0.9, legend_label='pks')\n",
    "\n",
    "mytext = Label(x=27.7, y=6.0e5, text='27 keV', text_font_size='18pt')\n",
    "bok1z.add_layout(mytext)\n",
    "\n",
    "mytext = Label(x=31.3, y=1.3e5, text='31 keV', text_font_size='18pt')\n",
    "bok1z.add_layout(mytext)\n",
    "\n",
    "mytext = Label(x=35.8, y=4.0e4, text='35 keV', text_font_size='18pt')\n",
    "bok1z.add_layout(mytext)\n",
    "\n",
    "show(bok1z)"
   ]
  },
  {
   "cell_type": "code",
   "execution_count": null,
   "metadata": {},
   "outputs": [],
   "source": [
    "enNew_pks.shape"
   ]
  },
  {
   "cell_type": "code",
   "execution_count": null,
   "metadata": {},
   "outputs": [],
   "source": [
    "# 2020-07-11 Bokeh graph w/ 2nd grade fit coefficients\n",
    "\n",
    "uncys = np.sqrt(ys)\n",
    "\n",
    "bokzz = figure(\n",
    "    plot_width =default_plot_width,\n",
    "    plot_height=default_plot_height,\n",
    "    tools=\"pan,box_zoom,reset,save\",\n",
    "    y_axis_type=\"log\",\n",
    "    x_range=[20,40],\n",
    "    y_range=yrange,\n",
    ")\n",
    "\n",
    "bokzz.xaxis.axis_label = 'Energy (keV)'\n",
    "bokzz.xaxis.axis_label_text_font_size = '16pt'\n",
    "bokzz.xaxis.major_label_text_font_size = '14pt'\n",
    "\n",
    "bokzz.yaxis.axis_label = 'Counts'\n",
    "bokzz.yaxis.axis_label_text_font_size = '16pt'\n",
    "bokzz.yaxis.major_label_text_font_size = '14pt'\n",
    "\n",
    "base, lower, upper = [], [], []\n",
    "\n",
    "for i, x in enumerate(list(ens)):\n",
    "    lower.append(ys[i]-uncys[i])\n",
    "    upper.append(ys[i]+uncys[i])\n",
    "    base.append(x)\n",
    "\n",
    "source_error = ColumnDataSource(data=dict(base=base, lower=lower, upper=upper))\n",
    "\n",
    "bokzz.add_layout(\n",
    "    Whisker(source=source_error, base=\"base\", upper=\"upper\", lower=\"lower\")\n",
    ")    \n",
    "    \n",
    "bokzz.circle(spec2.xs, spec2.y0s, color=\"red\",size=4)\n",
    "bokzz.line(spec2.xs, spec2.y0s)\n",
    "\n",
    "show(bokzz)"
   ]
  },
  {
   "cell_type": "code",
   "execution_count": null,
   "metadata": {},
   "outputs": [],
   "source": [
    "import pyplot as plt"
   ]
  },
  {
   "cell_type": "code",
   "execution_count": null,
   "metadata": {},
   "outputs": [],
   "source": [
    "xdata = np.linspace(0, 4, 50)\n",
    "y = func_example(xdata, 2.5, 1.3, 0.5)\n",
    "np.random.seed(1729)\n",
    "y_noise = 0.2 * np.random.normal(size=xdata.size)\n",
    "ydata = y + y_noise\n",
    "plt.plot(xdata, ydata, 'b-', label='data')\n",
    "popt, pcov = curve_fit(func_example, xdata, ydata)\n",
    "popt\n",
    "\n",
    "plt.plot(xdata, func_example(xdata, *popt), 'r-',\n",
    "         label='fit: a=%5.3f, b=%5.3f, c=%5.3f' % tuple(popt))\n",
    "#popt, pcov = curve_fit(func_example, xdata, ydata, bounds=(0, [3., 1., 0.5]))\n",
    "popt, pcov = curve_fit(func_example, xdata, ydata, bounds=([3., 1., 0.5], [3.0001, 1.0001, 0.5001]))\n",
    "popt\n",
    "\n",
    "plt.plot(xdata, func_example(xdata, *popt), 'g--',\n",
    "         label='fit: a=%5.3f, b=%5.3f, c=%5.3f' % tuple(popt))\n",
    "\n",
    "plt.xlabel('x')\n",
    "plt.ylabel('y')\n",
    "plt.legend()\n",
    "plt.show()"
   ]
  },
  {
   "cell_type": "code",
   "execution_count": null,
   "metadata": {},
   "outputs": [],
   "source": [
    "xdata = np.linspace(0, 4, 50)\n",
    "y = func_example(xdata, 2.5, 1.3, 0.5)\n",
    "np.random.seed(1729)\n",
    "y_noise = 0.2 * np.random.normal(size=xdata.size)\n",
    "ydata = y + y_noise\n",
    "plt.plot(xdata, ydata, 'b-', label='data')\n",
    "popt, pcov = curve_fit(func_example, xdata, ydata)\n",
    "popt\n",
    "\n",
    "plt.plot(xdata, func_example(xdata, *popt), 'r-',\n",
    "         label='fit: a=%5.3f, b=%5.3f, c=%5.3f' % tuple(popt))\n",
    "popt, pcov = curve_fit(func_example, xdata, ydata, bounds=(0, [3., 1., 0.5]))\n",
    "# popt, pcov = curve_fit(func_example, xdata, ydata, bounds=([3., 1., 0.5], [3.0001, 1.0001, 0.5001]))\n",
    "popt\n",
    "\n",
    "plt.plot(xdata, func_example(xdata, *popt), 'g--',\n",
    "         label='fit: a=%5.3f, b=%5.3f, c=%5.3f' % tuple(popt))\n",
    "\n",
    "plt.xlabel('x')\n",
    "plt.ylabel('y')\n",
    "plt.legend()\n",
    "plt.show()"
   ]
  },
  {
   "cell_type": "code",
   "execution_count": null,
   "metadata": {},
   "outputs": [],
   "source": [
    "xdata = np.linspace(0, 4, 50)\n",
    "y = func_example(xdata, 2.5, 1.3, 0.5)\n",
    "np.random.seed(1729)\n",
    "y_noise = 0.2 * np.random.normal(size=xdata.size)\n",
    "ydata = y + y_noise\n",
    "plt.plot(xdata, ydata, 'b-', label='data')\n",
    "popt, pcov = curve_fit(func_example, xdata, ydata)\n",
    "popt\n",
    "\n",
    "plt.plot(xdata, func_example(xdata, *popt), 'r-',\n",
    "         label='fit: a=%5.3f, b=%5.3f, c=%5.3f' % tuple(popt))\n",
    "popt, pcov = curve_fit(func_example, xdata, ydata, bounds=(0, [3., 1., 0.5]))\n",
    "# popt, pcov = curve_fit(func_example, xdata, ydata, bounds=([3., 1., 0.5], [3.0001, 1.0001, 0.5001]))\n",
    "popt\n",
    "\n",
    "plt.plot(xdata, func_example(xdata, *popt), 'g--',\n",
    "         label='fit: a=%5.3f, b=%5.3f, c=%5.3f' % tuple(popt))\n",
    "\n",
    "plt.xlabel('x')\n",
    "plt.ylabel('y')\n",
    "plt.legend()\n",
    "plt.show()"
   ]
  },
  {
   "cell_type": "code",
   "execution_count": null,
   "metadata": {},
   "outputs": [],
   "source": []
  },
  {
   "cell_type": "code",
   "execution_count": null,
   "metadata": {},
   "outputs": [],
   "source": [
    "fixed_b = 1.313"
   ]
  },
  {
   "cell_type": "code",
   "execution_count": null,
   "metadata": {},
   "outputs": [],
   "source": [
    "xdata2 = np.concatenate((xdata, np.array([fixed_b])))"
   ]
  },
  {
   "cell_type": "code",
   "execution_count": null,
   "metadata": {},
   "outputs": [],
   "source": [
    "# xdata = np.linspace(0, 4, 50)\n",
    "# y = func_example(xdata, 2.5, 1.3, 0.5)\n",
    "# np.random.seed(1729)\n",
    "# y_noise = 0.2 * np.random.normal(size=xdata.size)\n",
    "# ydata = y + y_noise\n",
    "\n",
    "popt, pcov = curve_fit(func_example_fixed_b, xdata2, ydata)\n",
    "tupla = (popt[0], popt[1], fixed_b) # QUELLE HORREUR\n",
    "\n",
    "plt.plot(xdata, func_example_fixed_b(xdata2, *popt), 'g--',\n",
    "         label='fit: a=%5.3f, b=%5.3f, c=%5.3f' % tupla)\n",
    "\n",
    "plt.xlabel('x')\n",
    "plt.ylabel('y')\n",
    "plt.legend()\n",
    "plt.show()\n",
    "print(popt)"
   ]
  },
  {
   "cell_type": "raw",
   "metadata": {},
   "source": [
    "# Nao funciona\n",
    "\n",
    "# xdata = np.linspace(0, 4, 50)\n",
    "# y = func_example(xdata, 2.5, 1.3, 0.5)\n",
    "# np.random.seed(1729)\n",
    "# y_noise = 0.2 * np.random.normal(size=xdata.size)\n",
    "# ydata = y + y_noise\n",
    "\n",
    "xdatab = [xdata, fixed_b]\n",
    "popt, pcov = curve_fit(func_example_fixed_b, xdatab, ydata)\n",
    "tupla = (popt[0], popt[1], fixed_b) # QUELLE HORREUR\n",
    "\n",
    "plt.plot(xdata, func_example_fixed_b2(xdatab, *popt), 'g--',\n",
    "         label='fit: a=%5.3f, b=%5.3f, c=%5.3f' % tupla)\n",
    "\n",
    "plt.xlabel('x')\n",
    "plt.ylabel('y')\n",
    "plt.legend()\n",
    "plt.show()\n",
    "print(popt)"
   ]
  },
  {
   "cell_type": "code",
   "execution_count": null,
   "metadata": {},
   "outputs": [],
   "source": []
  },
  {
   "cell_type": "code",
   "execution_count": null,
   "metadata": {},
   "outputs": [],
   "source": []
  }
 ],
 "metadata": {
  "kernelspec": {
   "display_name": "Python 3",
   "language": "python",
   "name": "python3"
  },
  "language_info": {
   "codemirror_mode": {
    "name": "ipython",
    "version": 3
   },
   "file_extension": ".py",
   "mimetype": "text/x-python",
   "name": "python",
   "nbconvert_exporter": "python",
   "pygments_lexer": "ipython3",
   "version": "3.7.7"
  }
 },
 "nbformat": 4,
 "nbformat_minor": 4
}
