{
 "cells": [
  {
   "cell_type": "code",
   "execution_count": 1,
   "outputs": [],
   "source": [
    "# 2022-Dez-28\n",
    "# Jupyter notebook for tests with OGRaySpY modules"
   ],
   "metadata": {
    "collapsed": false
   }
  },
  {
   "cell_type": "code",
   "execution_count": 1,
   "outputs": [],
   "source": [],
   "metadata": {
    "collapsed": false
   }
  },
  {
   "cell_type": "code",
   "execution_count": 1,
   "outputs": [],
   "source": [],
   "metadata": {
    "collapsed": false
   }
  },
  {
   "cell_type": "code",
   "execution_count": 2,
   "outputs": [],
   "source": [
    "import numpy as np\n",
    "from numpy.random import default_rng\n",
    "from scipy import special\n",
    "import matplotlib.pyplot as plt\n",
    "import pandas as pd\n",
    "import plotly.graph_objects as go\n",
    "\n",
    "from spec_class import Spec"
   ],
   "metadata": {
    "collapsed": false
   }
  },
  {
   "cell_type": "code",
   "execution_count": 3,
   "metadata": {},
   "outputs": [],
   "source": [
    "# https://lmfit.github.io/lmfit-py/builtin_models.html\n",
    "from lmfit import Model, minimize, Parameters, report_fit, fit_report, printfuncs\n",
    "from lmfit.models import LinearModel, StepModel, ExponentialModel, LorentzianModel\n",
    "from lmfit.models import GaussianModel, SkewedGaussianModel, ExpressionModel"
   ]
  },
  {
   "cell_type": "code",
   "execution_count": 4,
   "metadata": {},
   "outputs": [],
   "source": [
    "from ograyspy_class import Ograyspy"
   ]
  },
  {
   "cell_type": "code",
   "execution_count": 5,
   "metadata": {},
   "outputs": [
    {
     "name": "stdout",
     "output_type": "stream",
     "text": [
      "Objeto ogra: Ograyspy criado.\n",
      "ogra.info_plat: Windows-10-10.0.19044-SP0\n",
      "ogra.info_mach: AMD64\n",
      "ogra.info_syst: Windows\n",
      "ogra.info_node: I56611\n",
      "ogra.home_path: C:\\Users\\mmaduar\n"
     ]
    }
   ],
   "source": [
    "ogra = Ograyspy(batch_mode=False)\n",
    "print('Objeto ogra: Ograyspy criado.')\n",
    "print(f'ogra.info_plat: {ogra.info_plat}')\n",
    "print(f'ogra.info_mach: {ogra.info_mach}')\n",
    "print(f'ogra.info_syst: {ogra.info_syst}')\n",
    "print(f'ogra.info_node: {ogra.info_node}')\n",
    "print(f'ogra.home_path: {ogra.home_path}')"
   ]
  },
  {
   "cell_type": "code",
   "execution_count": 6,
   "metadata": {},
   "outputs": [],
   "source": [
    "# f_name = '../../Genie_Transfer/Si/SI2019/SI04119.Chn'\n",
    "# f_name = '../gamma/spectra/ALMERA-2016/alm_samp5_sedim_16.IEC'"
   ]
  },
  {
   "cell_type": "code",
   "execution_count": 7,
   "metadata": {},
   "outputs": [
    {
     "name": "stdout",
     "output_type": "stream",
     "text": [
      "\n",
      "ogra.define_files_folder(to_be_found)\n",
      "Found folder name:  C:\\Users\\mmaduar\\Nextcloud\\Genie_Transfer\n",
      "Partes:  ('C:\\\\', 'Users', 'mmaduar', 'Nextcloud', 'Genie_Transfer')\n",
      "No. spec files:  6868\n"
     ]
    }
   ],
   "source": [
    "to_be_found = 'Genie_Transfer'\n",
    "# to_be_found = 'some_spectra'\n",
    "print('\\nogra.define_files_folder(to_be_found)')\n",
    "ogra.define_files_folder(to_be_found)"
   ]
  },
  {
   "cell_type": "code",
   "execution_count": 8,
   "outputs": [],
   "source": [
    "# a spectrum pattern to find and test:"
   ],
   "metadata": {
    "collapsed": false
   }
  },
  {
   "cell_type": "code",
   "execution_count": 9,
   "metadata": {},
   "outputs": [],
   "source": [
    "# 2022\n",
    "# Se quiser ignorar o espectro aleatório, definir aqui um específico. Se não, pular.\n",
    "# Vou ignorar o espectro já analisado e refazer a análise, para testes.\n",
    "# 2022-Mar-24 Resolver essa questão dos nomes de arquivos em Linux e Windows\n",
    "# a_spec_name = '..\\\\..\\\\Genie_Transfer\\\\Si\\\\2018\\\\PNR\\\\PRN0803.Chn'\n",
    "# a_spec_name = '../../Genie_Transfer/Si/2018/PNR/PRN0803.Chn'\n",
    "# a_spec_name = '../../Genie_Transfer/Si/2018/CTP/CTP0908-2.Chn'\n",
    "# Esse é um que dá problema na baseline perto do 159 keV do I-123:\n",
    "# a_spec_name = '../../Genie_Transfer/Si/2018/CCI/CCI1508I.Chn'\n",
    "# Precisa quebrar mais a baseline: Ok, consertado!!!\n",
    "# 2022: Já usando o GMX:\n",
    "# a_spec_name = '../../Genie_Transfer/Filtros/2022/Cci/CCI1603-I.Chn'\n",
    "\n"
   ]
  },
  {
   "cell_type": "code",
   "execution_count": 10,
   "metadata": {},
   "outputs": [],
   "source": [
    "\n",
    "# 2022-out-7: Excelente espectro para testes, tenho usado ultimamente:\n",
    "# a_pattern = 'Si/SI2018/SI11318.Chn'\n",
    "# 2022-nov-16: outros espectros:\n",
    "# a_pattern = \"Filtros/2022/Cci/CCI1603-I.Chn\"\n",
    "# a_pattern = \"Filtros/2022/Cci/CCI2302-I.Chn\"\n",
    "\n",
    "# a_pattern = \"Eso_non_existe.Chn\"\n",
    "\n",
    "# 2022-Dez-21 Buscando outro espectro\n",
    "# a_pattern = 'CCI1603-I'\n",
    "# 2022-Dez-28 Este é um espectro mais recente:\n",
    "# a_pattern = 'SI09722.Chn'\n",
    "\n",
    "# 2022-Dez-28 Este é um espectro mais recente que posso comparar com saída do Genie:\n",
    "a_pattern = 'SI06322.Chn'\n",
    "# 2023-Mar-14 Para usar um espectro iec, pode ser este:\n",
    "# a_pattern = 'Sample Code 02B'"
   ]
  },
  {
   "cell_type": "code",
   "execution_count": 11,
   "outputs": [
    {
     "name": "stdout",
     "output_type": "stream",
     "text": [
      "\n",
      "\n",
      "ogra.select_spectrum(SI06322.Chn)\n",
      "Existing:\n",
      "Achou! indice=62, nomearq = almera22/user2023/SI2022/SI06322.Chn\n",
      "==========================\n",
      "Final choices:\n",
      "spectra_path: C:\\Users\\mmaduar\\Nextcloud\\Genie_Transfer\n",
      "a_spec_name: C:\\Users\\mmaduar\\Nextcloud\\Genie_Transfer\\almera22\\user2023\\SI2022\\SI06322.Chn\n",
      "reduced_f_name: almera22/user2023/SI2022/SI06322.Chn\n",
      "A spec name: C:\\Users\\mmaduar\\Nextcloud\\Genie_Transfer\\almera22\\user2023\\SI2022\\SI06322.Chn\n",
      "Reduced file name: almera22/user2023/SI2022/SI06322.Chn\n",
      "Starting Ograyspy.perform_total_analysis...\n",
      "Starting Spec.total_analysis...\n",
      "Finish Spec.total_analysis!\n",
      "Finished Ograyspy.perform_total_analysis!\n"
     ]
    }
   ],
   "source": [
    "\n",
    "\n",
    "print(f'\\n\\nogra.select_spectrum({a_pattern})')\n",
    "ogra.select_spectrum(a_pattern)\n",
    "print(f'A spec name: {ogra.a_spec_name}')\n",
    "print(f'Reduced file name: {ogra.reduced_f_name}')\n",
    "\n",
    "# AQUI: ativar gener_dataframe qdo estiver pronto.\n",
    "ogra.perform_total_analysis(peak_sd_fact=3.0, gener_dataframe=True)\n",
    "# print(ogra.a_spec.spec_pks_df)"
   ],
   "metadata": {
    "collapsed": false
   }
  },
  {
   "cell_type": "code",
   "execution_count": 12,
   "outputs": [
    {
     "ename": "SyntaxError",
     "evalue": "invalid syntax (1287144914.py, line 1)",
     "output_type": "error",
     "traceback": [
      "\u001B[1;36m  Cell \u001B[1;32mIn[12], line 1\u001B[1;36m\u001B[0m\n\u001B[1;33m    sreth setr setr sehg\u001B[0m\n\u001B[1;37m          ^\u001B[0m\n\u001B[1;31mSyntaxError\u001B[0m\u001B[1;31m:\u001B[0m invalid syntax\n"
     ]
    }
   ],
   "source": [
    "sreth setr setr sehg"
   ],
   "metadata": {
    "collapsed": false
   }
  },
  {
   "cell_type": "code",
   "execution_count": 13,
   "outputs": [],
   "source": [
    "# 2023-Mar-14\n",
    "# Padronizando a gravação e leitura de arquivos iec e chn em formato pkl para leitura pelo Pandas.\n",
    "# Neste ipynb, serão usados pkl com dois conteúdos distintos:\n",
    "# - dodos de um espectro determinado, eventualmente analisado (ex.: SI06322.pkl\n",
    "# - dados para identificação de um conjunto de espectros, tipicamente contidos num diretório único e respectivos subdiretórios."
   ],
   "metadata": {
    "collapsed": false
   }
  },
  {
   "cell_type": "code",
   "execution_count": 14,
   "outputs": [
    {
     "data": {
      "text/plain": "{'net_spec_ser_an': <generic_series_analysis_class.GenericSeriesAnalysis at 0x1e7af889160>,\n 'final_composed_baseline': <generic_series_analysis_class.GenericSeriesAnalysis at 0x1e7af8701c0>,\n 'f_name': WindowsPath('C:/Users/mmaduar/Nextcloud/Genie_Transfer/almera22/user2023/SI2022/SI06322.Chn'),\n 'reduced_f_name': 'almera22/user2023/SI2022/SI06322.Chn',\n 'sufx': '.chn',\n 'spec_io': None,\n 'lv_time': 50000.0,\n 'rl_time': 50028.58,\n 'source_datetime': None,\n 'pkl_file': WindowsPath('C:/Users/mmaduar/Nextcloud/Genie_Transfer/almera22/user2023/SI2022/SI06322.pkl'),\n 'gross_spec_ser_an': <generic_series_analysis_class.GenericSeriesAnalysis at 0x1e7af870e80>,\n 'origin_spec_ser_an': <generic_series_analysis_class.GenericSeriesAnalysis at 0x1e7af870be0>,\n 'start_datetime': datetime.datetime(2022, 8, 4, 19, 42, 23),\n 'det_descr': 'MAQUINA_01 MCB 1 Input 1',\n 'sam_descr': 'SI-063/22 - Agua da Piscina do Reator IEA-R1 (GMX)',\n 'channel_energy_calib': <genericcalib_class.ChannelEnergyCalib at 0x1e7af870a00>,\n 'spec_pks_df': Empty DataFrame\n Columns: []\n Index: []}"
     },
     "execution_count": 14,
     "metadata": {},
     "output_type": "execute_result"
    }
   ],
   "source": [
    "vars(ogra.a_spec)"
   ],
   "metadata": {
    "collapsed": false
   }
  },
  {
   "cell_type": "code",
   "execution_count": 15,
   "outputs": [
    {
     "data": {
      "text/plain": "                                     net_spec_ser_an  \\\n0  <generic_series_analysis_class.GenericSeriesAn...   \n\n                             final_composed_baseline  \\\n0  <generic_series_analysis_class.GenericSeriesAn...   \n\n                                              f_name  \\\n0  C:\\Users\\mmaduar\\Nextcloud\\Genie_Transfer\\alme...   \n\n                         reduced_f_name  sufx spec_io  lv_time   rl_time  \\\n0  almera22/user2023/SI2022/SI06322.Chn  .chn    None  50000.0  50028.58   \n\n  source_datetime                                           pkl_file  \\\n0            None  C:\\Users\\mmaduar\\Nextcloud\\Genie_Transfer\\alme...   \n\n                                   gross_spec_ser_an  \\\n0  <generic_series_analysis_class.GenericSeriesAn...   \n\n                                  origin_spec_ser_an      start_datetime  \\\n0  <generic_series_analysis_class.GenericSeriesAn... 2022-08-04 19:42:23   \n\n                  det_descr  \\\n0  MAQUINA_01 MCB 1 Input 1   \n\n                                           sam_descr  \\\n0  SI-063/22 - Agua da Piscina do Reator IEA-R1 (...   \n\n                                channel_energy_calib  \\\n0  <genericcalib_class.ChannelEnergyCalib object ...   \n\n                             spec_pks_df  \n0  Empty DataFrame\nColumns: []\nIndex: []  ",
      "text/html": "<div>\n<style scoped>\n    .dataframe tbody tr th:only-of-type {\n        vertical-align: middle;\n    }\n\n    .dataframe tbody tr th {\n        vertical-align: top;\n    }\n\n    .dataframe thead th {\n        text-align: right;\n    }\n</style>\n<table border=\"1\" class=\"dataframe\">\n  <thead>\n    <tr style=\"text-align: right;\">\n      <th></th>\n      <th>net_spec_ser_an</th>\n      <th>final_composed_baseline</th>\n      <th>f_name</th>\n      <th>reduced_f_name</th>\n      <th>sufx</th>\n      <th>spec_io</th>\n      <th>lv_time</th>\n      <th>rl_time</th>\n      <th>source_datetime</th>\n      <th>pkl_file</th>\n      <th>gross_spec_ser_an</th>\n      <th>origin_spec_ser_an</th>\n      <th>start_datetime</th>\n      <th>det_descr</th>\n      <th>sam_descr</th>\n      <th>channel_energy_calib</th>\n      <th>spec_pks_df</th>\n    </tr>\n  </thead>\n  <tbody>\n    <tr>\n      <th>0</th>\n      <td>&lt;generic_series_analysis_class.GenericSeriesAn...</td>\n      <td>&lt;generic_series_analysis_class.GenericSeriesAn...</td>\n      <td>C:\\Users\\mmaduar\\Nextcloud\\Genie_Transfer\\alme...</td>\n      <td>almera22/user2023/SI2022/SI06322.Chn</td>\n      <td>.chn</td>\n      <td>None</td>\n      <td>50000.0</td>\n      <td>50028.58</td>\n      <td>None</td>\n      <td>C:\\Users\\mmaduar\\Nextcloud\\Genie_Transfer\\alme...</td>\n      <td>&lt;generic_series_analysis_class.GenericSeriesAn...</td>\n      <td>&lt;generic_series_analysis_class.GenericSeriesAn...</td>\n      <td>2022-08-04 19:42:23</td>\n      <td>MAQUINA_01 MCB 1 Input 1</td>\n      <td>SI-063/22 - Agua da Piscina do Reator IEA-R1 (...</td>\n      <td>&lt;genericcalib_class.ChannelEnergyCalib object ...</td>\n      <td>Empty DataFrame\nColumns: []\nIndex: []</td>\n    </tr>\n  </tbody>\n</table>\n</div>"
     },
     "execution_count": 15,
     "metadata": {},
     "output_type": "execute_result"
    }
   ],
   "source": [
    "unpickled_spec = pd.read_pickle(ogra.a_spec.pkl_file)\n",
    "unpickled_spec"
   ],
   "metadata": {
    "collapsed": false
   }
  },
  {
   "cell_type": "code",
   "execution_count": 16,
   "outputs": [],
   "source": [
    "# 2023-Mar-15 Compare as formas diferentes como os registros ficam no objeto original\n",
    "# com o dataframe unpickled:"
   ],
   "metadata": {
    "collapsed": false
   }
  },
  {
   "cell_type": "code",
   "execution_count": 17,
   "outputs": [
    {
     "data": {
      "text/plain": "{'calib_kind': 'channel energy',\n 'p_en': Polynomial([-1.99049842,  0.61104035,  0.        ], domain=[-1,  1], window=[-1,  1]),\n 'coeffs_ch_en': array([ 0.        ,  0.61104035, -1.99049842]),\n 'en_ch_calib': array([], dtype=float64),\n 'chan_calib': array([], dtype=float64)}"
     },
     "execution_count": 17,
     "metadata": {},
     "output_type": "execute_result"
    }
   ],
   "source": [
    "vars(ogra.a_spec.channel_energy_calib)"
   ],
   "metadata": {
    "collapsed": false
   }
  },
  {
   "cell_type": "code",
   "execution_count": 18,
   "outputs": [
    {
     "data": {
      "text/plain": "275.1163020133972"
     },
     "execution_count": 18,
     "metadata": {},
     "output_type": "execute_result"
    }
   ],
   "source": [
    "ogra.a_spec.channel_energy_calib.p_en(453.5)"
   ],
   "metadata": {
    "collapsed": false
   }
  },
  {
   "cell_type": "code",
   "execution_count": 19,
   "outputs": [
    {
     "data": {
      "text/plain": "Series([], dtype: object)"
     },
     "execution_count": 19,
     "metadata": {},
     "output_type": "execute_result"
    }
   ],
   "source": [
    "ogra.a_spec.spec_pks_df.dtypes"
   ],
   "metadata": {
    "collapsed": false
   }
  },
  {
   "cell_type": "code",
   "execution_count": 21,
   "outputs": [],
   "source": [
    "# O objeto unpickled:"
   ],
   "metadata": {
    "collapsed": false
   }
  },
  {
   "cell_type": "code",
   "execution_count": 26,
   "outputs": [
    {
     "data": {
      "text/plain": "{'calib_kind': 'channel energy',\n 'p_en': Polynomial([-1.99049842,  0.61104035,  0.        ], domain=[-1,  1], window=[-1,  1]),\n 'coeffs_ch_en': array([ 0.        ,  0.61104035, -1.99049842]),\n 'en_ch_calib': array([], dtype=float64),\n 'chan_calib': array([], dtype=float64)}"
     },
     "execution_count": 26,
     "metadata": {},
     "output_type": "execute_result"
    }
   ],
   "source": [
    "vars(unpickled_spec['channel_energy_calib'][0])"
   ],
   "metadata": {
    "collapsed": false
   }
  },
  {
   "cell_type": "code",
   "execution_count": 30,
   "outputs": [
    {
     "data": {
      "text/plain": "275.1163020133972"
     },
     "execution_count": 30,
     "metadata": {},
     "output_type": "execute_result"
    }
   ],
   "source": [
    "unpickled_spec['channel_energy_calib'][0].p_en(453.5)"
   ],
   "metadata": {
    "collapsed": false
   }
  },
  {
   "cell_type": "code",
   "execution_count": 36,
   "outputs": [
    {
     "data": {
      "text/plain": "{'k_fwhm_to_sd': 0.42466090014400953,\n 'peaks': array([  31,  125,  128,  144,  235,  241,  396,  582,  715,  737,  803,\n         842,  960, 1003, 1082, 1115, 1130, 1162, 1196, 1257, 1333, 1372,\n        1454, 1497, 1540, 1585, 1592, 1832, 1840, 1926, 2033, 2187, 2272,\n        2398, 2470, 2614, 2837, 2895, 3030, 3450, 3615, 4014], dtype=int64),\n 'pk_hei': array([], dtype=float64),\n 'widths': (None, None),\n 'mix_regions': array([], dtype=float64),\n 'plateaux': array([], dtype=float64),\n 'fwhm_plateaux': array([], dtype=float64),\n 'wide_regions': array([[  27,   35],\n        [ 123,  127],\n        [ 125,  131],\n        [ 142,  147],\n        [ 232,  239],\n        [ 237,  243],\n        [ 394,  398],\n        [ 579,  585],\n        [ 713,  717],\n        [ 734,  739],\n        [ 801,  805],\n        [ 836,  848],\n        [ 957,  964],\n        [1000, 1006],\n        [1079, 1086],\n        [1110, 1119],\n        [1127, 1132],\n        [1158, 1166],\n        [1194, 1198],\n        [1252, 1260],\n        [1328, 1337],\n        [1370, 1375],\n        [1450, 1458],\n        [1494, 1501],\n        [1536, 1544],\n        [1582, 1588],\n        [1589, 1595],\n        [1828, 1835],\n        [1835, 1844],\n        [1922, 1931],\n        [2028, 2036],\n        [2182, 2192],\n        [2267, 2277],\n        [2392, 2403],\n        [2467, 2473],\n        [2608, 2619],\n        [2834, 2841],\n        [2890, 2899],\n        [3026, 3034],\n        [3441, 3458],\n        [3610, 3621],\n        [4003, 4022]]),\n 'fwhm_centr': array([  31.01645579,  124.69690217,  128.28212143,  144.46856223,\n         235.36702762,  240.2492388 ,  396.0145058 ,  581.60936848,\n         715.12207284,  736.64232716,  802.67056744,  841.81011827,\n         960.25119868, 1002.98798753, 1082.17370278, 1114.62196057,\n        1129.55164526, 1162.26893269, 1195.99321241, 1256.05451846,\n        1332.77648595, 1372.44500207, 1453.82402486, 1497.23553061,\n        1540.26506344, 1585.18156761, 1592.02458625, 1831.63485366,\n        1839.81183506, 1926.26783626, 2032.1502095 , 2187.14015285,\n        2272.2787827 , 2397.40389929, 2469.87233458, 2613.43998576,\n        2837.6226341 , 2894.7262709 , 3030.00247774, 3449.77987134,\n        3615.31321308, 4012.64624649]),\n 'rough_sums': [1694.2500571756377,\n  1486.5959406853367,\n  2746.6605219002713,\n  1269.9550075441243,\n  668.2577111037252,\n  452.4611535668537,\n  346.9332852716651,\n  380.73353047985853,\n  151.62214001093798,\n  187.54026502419194,\n  118.8709421166466,\n  3222.9620337317106,\n  467.3472741083266,\n  731.2751128167524,\n  1920.2499961308986,\n  242.95679371015765,\n  160.52757510427898,\n  300.60480980632593,\n  82.72133811555052,\n  370.4936367928293,\n  2365.9709514630126,\n  167.47948451620772,\n  1193.7701710822455,\n  601.3174547895372,\n  692.7975235500821,\n  173.7064756667729,\n  340.0556063846695,\n  372.8865475974544,\n  329.5919518860874,\n  5347.497160537201,\n  142.60761531114832,\n  5023.581307779358,\n  286.8815609390967,\n  3156.520439390454,\n  136.9454336399722,\n  203.3864408643384,\n  88.66088235447995,\n  396.22338711619665,\n  68.06742998239882,\n  210.03904501013426,\n  148.20757745083299,\n  163.47601797762195],\n 'propts': {'peak_heights': array([ 563.32981903,  420.56893675,  864.43336533,  500.9611582 ,\n          170.44375986,  131.8759576 ,  205.2004002 ,  146.89976013,\n           73.93567206,   68.22252031,   65.11144042,  675.23074007,\n          160.32942296,  282.34701119,  660.38628531,   56.04454958,\n           57.30572755,   97.84907692,   54.57351234,  111.85523775,\n          686.97059987,   69.17516631,  364.10446193,  194.21681657,\n          180.43267718,   52.82033493,  119.61438423,  106.20498506,\n           80.08066194, 1453.91314791,   42.38543084, 1281.35886202,\n           74.91864881,  783.85248251,   45.69789474,   34.79609291,\n           23.82898884,  100.14597756,   19.45217984,   33.93028063,\n           31.83830596,   18.18947351]),\n  'left_thresholds': array([155.4122716 ,  71.87448396, 485.32919786, 386.69356603,\n          91.95482999,   3.09816454, 155.31199147,  11.2311923 ,\n          49.63229657,  31.55153681,  25.44687749,  77.68950708,\n          73.24340772, 121.26975583, 273.22945129,  11.09654329,\n          14.09048267,  39.13362348,  40.09163593,   2.14227827,\n          82.35096855,  51.13199131,  64.25706739,  91.19883822,\n          65.18281312,  24.10404974,  55.17606672,  24.16277521,\n          15.13550111, 512.29535953,  12.11775286, 374.23576017,\n          16.15345693,  21.16572754,  20.05731543,   6.03863992,\n          20.00856484,  19.01051816,   7.00120077,   7.01736719,\n           6.00661551,   5.03474197]),\n  'right_thresholds': array([2.17783355e+02, 1.94076831e+02, 2.38452778e+02, 7.62152157e+01,\n         3.69400061e-02, 1.25904597e+02, 1.48778162e+02, 9.19621139e+01,\n         3.73797624e+01, 5.84699884e+01, 6.25639710e+01, 1.71416256e+02,\n         2.67408286e+01, 1.21779801e+02, 1.18797736e+02, 2.19042878e+01,\n         4.19151650e+01, 2.58803540e+01, 4.09075630e+01, 8.18965151e+01,\n         2.14745675e+02, 1.08630276e+01, 1.06804402e+02, 4.98406873e+01,\n         1.88251963e+01, 6.89730290e+00, 4.88647209e+01, 5.28574369e+01,\n         2.08803715e+01, 1.55719806e+02, 3.29034041e+01, 1.28794193e+02,\n         4.84297025e+00, 3.11887893e+02, 2.19565883e+01, 1.29614347e+01,\n         9.91629314e-01, 4.29913518e+01, 7.99888744e+00, 9.83478497e-01,\n         8.99380084e+00, 2.96490567e+00]),\n  'prominences': array([ 563.32981903,  194.07683054,  864.43336533,  500.9611582 ,\n          170.44375986,  109.28640684,  205.2004002 ,  146.89976013,\n           73.93567206,   68.22252031,   65.11144042,  675.23074007,\n          160.32942296,  282.34701119,  660.38628531,   56.04454958,\n           57.30572755,   97.84907692,   54.57351234,  111.85523775,\n          686.97059987,   69.17516631,  364.10446193,  194.21681657,\n          180.43267718,   49.80132164,  119.61438423,  106.20498506,\n           77.48281467, 1453.91314791,   42.38543084, 1281.35886202,\n           74.91864881,  783.85248251,   45.69789474,   34.79609291,\n           23.82898884,  100.14597756,   19.45217984,   33.93028063,\n           31.83830596,   18.18947351]),\n  'left_bases': array([  28,  119,  119,  140,  194,  238,  394,  579,  712,  728,  801,\n          831,  951,  979, 1077, 1109, 1124, 1159, 1194, 1253, 1329, 1370,\n         1450, 1492, 1530, 1566, 1566, 1804, 1836, 1914, 2026, 2177, 2267,\n         2388, 2465, 2600, 2830, 2889, 3023, 3444, 3607, 3998], dtype=int64),\n  'right_bases': array([  36,  126,  134,  153,  275,  275,  399,  585,  718,  740,  808,\n          851,  964, 1006, 1087, 1120, 1134, 1165, 1198, 1259, 1337, 1376,\n         1459, 1501, 1549, 1587, 1596, 1843, 1843, 1932, 2036, 2192, 2276,\n         2403, 2473, 2622, 2847, 2899, 3036, 3457, 3621, 4020], dtype=int64),\n  'widths': array([2.87948023, 1.60619567, 2.34537074, 2.23262354, 2.58761485,\n         2.36953207, 1.35022576, 2.37865737, 1.73381425, 1.8821412 ,\n         1.69958294, 4.18046339, 2.71470561, 2.36168245, 2.78033714,\n         3.3707306 , 2.26389312, 2.95342755, 1.34764421, 3.25677501,\n         3.24695329, 2.24287863, 3.16589055, 2.69769696, 3.13243142,\n         2.47610355, 2.44932179, 2.74786223, 3.43000995, 3.34086139,\n         2.98775868, 3.60202329, 3.77090282, 3.74427421, 2.36052868,\n         4.01056915, 2.43620763, 3.33453444, 2.68606872, 5.90763757,\n         3.86501212, 6.4678015 ]),\n  'width_heights': array([281.66490952, 323.53052148, 432.21668266, 250.4805791 ,\n          85.22187993,  77.23275418, 102.6002001 ,  73.44988007,\n          36.96783603,  34.11126016,  32.55572021, 337.61537003,\n          80.16471148, 141.1735056 , 330.19314265,  28.02227479,\n          28.65286377,  48.92453846,  27.28675617,  55.92761887,\n         343.48529994,  34.58758316, 182.05223097,  97.10840828,\n          90.21633859,  27.91967411,  59.80719212,  53.10249253,\n          41.33925461, 726.95657395,  21.19271542, 640.67943101,\n          37.4593244 , 391.92624125,  22.84894737,  17.39804646,\n          11.91449442,  50.07298878,   9.72608992,  16.96514031,\n          15.91915298,   9.09473676]),\n  'left_ips': array([  29.57671568,  123.89380433,  127.10943606,  143.35225046,\n          234.07322019,  239.06447277,  395.33939293,  580.4200398 ,\n          714.25516572,  735.70125656,  801.82077597,  839.71988658,\n          958.89384588, 1001.8071463 , 1080.78353421, 1112.93659527,\n         1128.4196987 , 1160.79221892, 1195.3193903 , 1254.42613095,\n         1331.1530093 , 1371.32356276, 1452.24107958, 1495.88668213,\n         1538.69884773, 1583.94351583, 1590.79992536, 1830.26092255,\n         1838.09683009, 1924.59740556, 2030.65633016, 2185.33914121,\n         2270.39333129, 2395.53176218, 2468.69207024, 2611.43470119,\n         2836.40453028, 2893.05900368, 3028.65944338, 3446.82605255,\n         3613.38070702, 4009.41234574]),\n  'right_ips': array([  32.45619591,  125.5       ,  129.4548068 ,  145.584874  ,\n          236.66083504,  241.43400483,  396.68961868,  582.79869717,\n          715.98897996,  737.58339776,  803.52035892,  843.90034996,\n          961.60855149, 1004.16882875, 1083.56387135, 1116.30732587,\n         1130.68359182, 1163.74564646, 1196.66703451, 1257.68290597,\n         1334.3999626 , 1373.56644139, 1455.40697014, 1498.58437909,\n         1541.83127916, 1586.41961938, 1593.24924714, 1833.00878477,\n         1841.52684004, 1927.93826695, 2033.64408884, 2188.9411645 ,\n         2274.16423411, 2399.27603639, 2471.05259892, 2615.44527034,\n         2838.84073792, 2896.39353811, 3031.3455121 , 3452.73369012,\n         3617.24571914, 4015.88014725])},\n 'fwhm_centr_ini': array([  29.57671568,  123.89380433,  127.10943606,  143.35225046,\n         234.07322019,  239.06447277,  395.33939293,  580.4200398 ,\n         714.25516572,  735.70125656,  801.82077597,  839.71988658,\n         958.89384588, 1001.8071463 , 1080.78353421, 1112.93659527,\n        1128.4196987 , 1160.79221892, 1195.3193903 , 1254.42613095,\n        1331.1530093 , 1371.32356276, 1452.24107958, 1495.88668213,\n        1538.69884773, 1583.94351583, 1590.79992536, 1830.26092255,\n        1838.09683009, 1924.59740556, 2030.65633016, 2185.33914121,\n        2270.39333129, 2395.53176218, 2468.69207024, 2611.43470119,\n        2836.40453028, 2893.05900368, 3028.65944338, 3446.82605255,\n        3613.38070702, 4009.41234574]),\n 'fwhm_centr_fin': array([  32.45619591,  125.5       ,  129.4548068 ,  145.584874  ,\n         236.66083504,  241.43400483,  396.68961868,  582.79869717,\n         715.98897996,  737.58339776,  803.52035892,  843.90034996,\n         961.60855149, 1004.16882875, 1083.56387135, 1116.30732587,\n        1130.68359182, 1163.74564646, 1196.66703451, 1257.68290597,\n        1334.3999626 , 1373.56644139, 1455.40697014, 1498.58437909,\n        1541.83127916, 1586.41961938, 1593.24924714, 1833.00878477,\n        1841.52684004, 1927.93826695, 2033.64408884, 2188.9411645 ,\n        2274.16423411, 2399.27603639, 2471.05259892, 2615.44527034,\n        2838.84073792, 2896.39353811, 3031.3455121 , 3452.73369012,\n        3617.24571914, 4015.88014725]),\n 'centroids': [31.20376714216839,\n  125.27750205833703,\n  127.64410764527013,\n  144.56089422770515,\n  235.39582840610512,\n  240.09867413333603,\n  396.22303511681486,\n  581.7167934352312,\n  715.0476436376385,\n  736.6470896038497,\n  802.8820388354817,\n  841.7131184601277,\n  960.1584430401904,\n  1002.868702807657,\n  1082.1486160816687,\n  1114.3935783086679,\n  1129.5875915991471,\n  1161.981829441307,\n  1195.990136438083,\n  1256.046938637468,\n  1332.6786372126276,\n  1372.5355124688617,\n  1453.812298938367,\n  1497.1896389031951,\n  1540.148341263151,\n  1584.716720395848,\n  1591.9225234893595,\n  1831.7132173621342,\n  1839.6235586828823,\n  1926.274908054728,\n  2031.6267628186763,\n  2187.0203789782395,\n  2272.0816901597545,\n  2397.3201792793743,\n  2469.4374279589247,\n  2613.8865958690617,\n  2837.6391893398204,\n  2894.3696003616355,\n  3029.736571365467,\n  3449.9894000957097,\n  3614.7877792516856,\n  4011.885129534331],\n 'variances': [10141.76677534925,\n  6831.404059314664,\n  10283.33947809973,\n  7900.044992455876,\n  10179.742288896276,\n  8771.538846433146,\n  5401.351451804279,\n  4771.239773587763,\n  2402.377859989062,\n  2756.4597349758083,\n  1974.9174849604424,\n  7721.037966268289,\n  2809.5814564727407,\n  2697.933819882833,\n  4041.7500038691014,\n  2843.0432062898426,\n  1705.472424895721,\n  2543.542779133248,\n  1313.1283175665533,\n  2475.8025293528854,\n  4577.55114136314,\n  1460.5909241125296,\n  2989.802691650911,\n  2132.029065180326,\n  2341.2024764499183,\n  1394.2935243332272,\n  1549.9443936153307,\n  1379.1134524025456,\n  1562.0312472715643,\n  6428.502839462798,\n  945.7560665313615,\n  5743.670630764617,\n  878.0924365523687,\n  3643.4473521909003,\n  380.24732705136586,\n  520.6135591356616,\n  251.33911764552005,\n  593.6134148203754,\n  239.93257001760122,\n  494.4258377431314,\n  319.9327333528709,\n  397.11860461643755]}"
     },
     "execution_count": 36,
     "metadata": {},
     "output_type": "execute_result"
    }
   ],
   "source": [
    "# Os parâmetros dos picos estão aqui:\n",
    "pkprms = vars(unpickled_spec['net_spec_ser_an'][0].pk_parms)\n",
    "pkprms"
   ],
   "metadata": {
    "collapsed": false
   }
  },
  {
   "cell_type": "code",
   "execution_count": null,
   "outputs": [],
   "source": [
    "# E os que interessam no momento:\n",
    "pkprms"
   ],
   "metadata": {
    "collapsed": false
   }
  },
  {
   "cell_type": "code",
   "execution_count": 31,
   "outputs": [
    {
     "data": {
      "text/plain": "Series([], dtype: object)"
     },
     "execution_count": 31,
     "metadata": {},
     "output_type": "execute_result"
    }
   ],
   "source": [
    "# Está vazio???\n",
    "# ogra.a_spec.spec_pks_df.dtypes"
   ],
   "metadata": {
    "collapsed": false
   }
  },
  {
   "cell_type": "code",
   "execution_count": null,
   "outputs": [],
   "source": [
    "vbnmxfghjmdjytr dsrtyj srtyu"
   ],
   "metadata": {
    "collapsed": false
   }
  },
  {
   "cell_type": "code",
   "execution_count": null,
   "outputs": [],
   "source": [],
   "metadata": {
    "collapsed": false
   }
  },
  {
   "cell_type": "code",
   "execution_count": 20,
   "outputs": [],
   "source": [
    "# 2023-Mar-15 AQUI: Não deveria gerar um gráfico??\n",
    "ogra.call_graphics()"
   ],
   "metadata": {
    "collapsed": false
   }
  },
  {
   "cell_type": "code",
   "execution_count": null,
   "outputs": [],
   "source": [
    "# 2023-Mar-14: Após várias tentativas, usando as chamadas que documento abaixo, pois todas poderão\n",
    "# ser úteis, cheguei em dois modos diferentes\n",
    "# de serializar dado espectro em arquivo pkl.\n",
    "a_spec_dir = dir(ogra.a_spec)\n",
    "a_spec_dict = ogra.a_spec.__dict__\n",
    "# a_spec_vars = vars(ogra.a_spec)\n",
    "# campos = [a for a in a_spec_vars]\n",
    "# valores = [a_spec_vars[a] for a in a_spec_vars]"
   ],
   "metadata": {
    "collapsed": false
   }
  },
  {
   "cell_type": "code",
   "execution_count": null,
   "outputs": [],
   "source": [],
   "metadata": {
    "collapsed": false
   }
  },
  {
   "cell_type": "code",
   "execution_count": null,
   "outputs": [],
   "source": [],
   "metadata": {
    "collapsed": false
   }
  },
  {
   "cell_type": "code",
   "execution_count": null,
   "outputs": [],
   "source": [],
   "metadata": {
    "collapsed": false
   }
  },
  {
   "cell_type": "code",
   "execution_count": null,
   "outputs": [],
   "source": [],
   "metadata": {
    "collapsed": false
   }
  },
  {
   "cell_type": "code",
   "execution_count": null,
   "outputs": [],
   "source": [
    "# teste_df_1: cada nome de campo entra como um índice, e os valores numa coluna única.\n",
    "# teste_df_2: cada nome de campo entra como título de coluna, e os valores em cada coluna respectiva, num registro único.\n",
    "# Qual é melhor? Não sei ainda.\n",
    "# Vou colocar no ipynb o método 1, por enquanto.\n",
    "teste_df = pd.DataFrame(data={'col1': [1, 2], 'col2': [3, 4]})\n",
    "teste_df = pd.DataFrame(data={'col1': [5], 'col2': [6]})\n",
    "teste_df = pd.DataFrame(data=[[1,2,3]], columns=['um', 'dois', 'tres'])\n",
    "# teste_df_1 = pd.DataFrame(data=valores, index=campos)\n",
    "# teste_df_2 = pd.DataFrame(data=[valores], columns=campos)"
   ],
   "metadata": {
    "collapsed": false
   }
  },
  {
   "cell_type": "code",
   "execution_count": null,
   "outputs": [],
   "source": [
    "# teste_df_1.to_pickle('teste_df_1.pkl')\n",
    "# teste_df_2.to_pickle('teste_df_2.pkl')"
   ],
   "metadata": {
    "collapsed": false
   }
  },
  {
   "cell_type": "code",
   "execution_count": null,
   "outputs": [],
   "source": [
    "# unpickled_teste_df_1 = pd.read_pickle('teste_df_1.pkl')\n",
    "# unpickled_teste_df_2 = pd.read_pickle('teste_df_2.pkl')"
   ],
   "metadata": {
    "collapsed": false
   }
  },
  {
   "cell_type": "code",
   "execution_count": null,
   "outputs": [],
   "source": [
    "# unpickled_teste_df_1"
   ],
   "metadata": {
    "collapsed": false
   }
  },
  {
   "cell_type": "code",
   "execution_count": null,
   "outputs": [],
   "source": [
    "# unpickled_teste_df_2"
   ],
   "metadata": {
    "collapsed": false
   }
  },
  {
   "cell_type": "code",
   "execution_count": null,
   "outputs": [],
   "source": [
    "# No final de 2019, criei dois arquivos pkl:\n",
    "# C:\\Users\\mmaduar\\Nextcloud\\Python_Scripts\\Eflu_code\\todos_si_peaks\n",
    "# C:\\Users\\mmaduar\\Nextcloud\\Python_Scripts\\Eflu_code\\todos_si_specs\n",
    "\n",
    "# Creio que criei com o seguinte ipynb, para o trabalho do WARP2 (2019) das águas da piscina:\n",
    "# C:\\Users\\mmaduar\\Nextcloud\\Python_Scripts\\Eflu_code\\2019-nov-warp2.ipynb\n",
    "\n",
    "# unpickled_todos_si_specs = pd.read_pickle('/Users/mmaduar/Nextcloud/Python_Scripts/Eflu_code/todos_si_specs.pkl')\n",
    "# unpickled_todos_si_peaks = pd.read_pickle('/Users/mmaduar/Nextcloud/Python_Scripts/Eflu_code/todos_si_peaks.pkl')"
   ],
   "metadata": {
    "collapsed": false
   }
  },
  {
   "cell_type": "code",
   "execution_count": null,
   "outputs": [],
   "source": [
    "# unpickled_todos_si_specs"
   ],
   "metadata": {
    "collapsed": false
   }
  },
  {
   "cell_type": "code",
   "execution_count": null,
   "outputs": [],
   "source": [
    "# unpickled_todos_si_peaks"
   ],
   "metadata": {
    "collapsed": false
   }
  },
  {
   "cell_type": "code",
   "execution_count": null,
   "outputs": [],
   "source": [],
   "metadata": {
    "collapsed": false
   }
  },
  {
   "cell_type": "code",
   "execution_count": null,
   "outputs": [],
   "source": [],
   "metadata": {
    "collapsed": false
   }
  },
  {
   "cell_type": "code",
   "execution_count": null,
   "outputs": [],
   "source": [
    "# 2023-Mar-14: prosseguindo com a calibração"
   ],
   "metadata": {
    "collapsed": false
   }
  },
  {
   "cell_type": "code",
   "execution_count": null,
   "outputs": [],
   "source": [],
   "metadata": {
    "collapsed": false
   }
  },
  {
   "cell_type": "code",
   "execution_count": null,
   "outputs": [],
   "source": [],
   "metadata": {
    "collapsed": false
   }
  },
  {
   "cell_type": "code",
   "execution_count": null,
   "outputs": [],
   "source": [
    "rng = np.random.default_rng()\n",
    "# rints = rng.integers(low=0, high=10, size=3)\n",
    "\n",
    "# 2022-Jun-23: Reativar após consertar o arquivo pickle:\n",
    "# rints = rng.integers(pkl_df1.count()[0], size=3)\n",
    "# print(rints)\n",
    "# type(rints[0])\n",
    "# some_spec = rints[1]\n",
    "# pkl_df1.iloc[some_spec]\n",
    "# a_spec_name = pkl_df1.iloc[some_spec]['FName']\n",
    "# a_spec_name"
   ],
   "metadata": {
    "collapsed": false
   }
  },
  {
   "cell_type": "code",
   "execution_count": null,
   "outputs": [],
   "source": [
    "rng"
   ],
   "metadata": {
    "collapsed": false
   }
  },
  {
   "cell_type": "code",
   "execution_count": null,
   "outputs": [],
   "source": [
    "print(f'A spec name: {ogra.a_spec_name}')\n",
    "print(f'Reduced file name: {ogra.reduced_f_name}')"
   ],
   "metadata": {
    "collapsed": false
   }
  },
  {
   "cell_type": "code",
   "execution_count": null,
   "outputs": [],
   "source": [
    "vars(ogra)"
   ],
   "metadata": {
    "collapsed": false
   }
  },
  {
   "cell_type": "code",
   "execution_count": null,
   "outputs": [],
   "source": [
    "# 2022-Dez-28\n",
    "print(f'índice do espectro na lista: {ogra.a_spec_ind}')\n",
    "ogra.reduced_names_files_list[ogra.a_spec_ind]"
   ],
   "metadata": {
    "collapsed": false
   }
  },
  {
   "cell_type": "code",
   "execution_count": null,
   "metadata": {},
   "outputs": [],
   "source": [
    "# 2022-Dez-28: Atualizar:\n",
    "# (2022-Jun-24 Lembrando como estão os defaults de total_analysis(...):\n",
    "# def total_analysis(self, k_sep_pk=2.0, smoo=3000.0, widths_range=(4.0, 20.0)):)\n",
    "# smoo=3000 fica razoável, mas faz umas ondas\n",
    "# smoo=1500 fica horrível, faz uns abismos. Quanto menor, pior\n",
    "# smoo=400 fica razoável, mas faz umas ondas\n",
    "# ogra.perform_total_analysis(\n",
    "#     k_sep_pk=2.0, smoo=4096, widths_range=(4.0, 20.0)\n",
    "# )"
   ]
  },
  {
   "cell_type": "code",
   "execution_count": null,
   "outputs": [],
   "source": [
    "ogra.a_spec.spec_pks_df.dtypes"
   ],
   "metadata": {
    "collapsed": false
   }
  },
  {
   "cell_type": "code",
   "execution_count": null,
   "metadata": {},
   "outputs": [],
   "source": [
    "# 2022-Dez-28\n",
    "# Testes com conversão de pandas df .to_html\n",
    "# Teste 1: html direto\n",
    "df_to_html_1 = ogra.a_spec.spec_pks_df.to_html(columns=['peaks', 'centroids', 'rough_sums'])\n",
    "df_to_html_1"
   ]
  },
  {
   "cell_type": "code",
   "execution_count": null,
   "outputs": [],
   "source": [
    "# 2022-Dez-28\n",
    "# Testes com conversão de pandas df .to_html\n",
    "# Teste 2: aplicando tags html:\n",
    "df_to_html_2 = ogra.a_spec.spec_pks_df.to_html(\n",
    "    columns=['peaks', 'centroids', 'rough_sums'],\n",
    "    formatters={\n",
    "        'peaks': lambda x: '<b>' + str(x) + '</b>',\n",
    "        'rough_sums': lambda x: '<i>' + str(x) + '</i>'}\n",
    ")\n",
    "df_to_html_2\n",
    "import IPython\n",
    "IPython.display.HTML(df_to_html_2)"
   ],
   "metadata": {
    "collapsed": false
   }
  },
  {
   "cell_type": "code",
   "execution_count": null,
   "outputs": [],
   "source": [
    "# 2022-Dez-28\n",
    "# Testes com conversão de pandas df .to_html\n",
    "# Teste 3: aplicando float_formatters:\n",
    "df_to_html = ogra.a_spec.spec_pks_df.to_html(\n",
    "    columns=['peaks', 'centroids', 'rough_sums'],\n",
    "    float_format='{:.3f}'\n",
    ")\n",
    "df_to_html"
   ],
   "metadata": {
    "collapsed": false
   }
  },
  {
   "cell_type": "code",
   "execution_count": null,
   "outputs": [],
   "source": [
    "# Teste 3: usando Styles:\n",
    "my_df = ogra.a_spec.spec_pks_df\n",
    "my_df.style.format(na_rep='MISSING', thousands=\" \",\n",
    "                   formatter={('fwhm_centr', 'centroids'): \"{:.2f}\"})"
   ],
   "metadata": {
    "collapsed": false
   }
  },
  {
   "cell_type": "code",
   "execution_count": null,
   "outputs": [],
   "source": [
    "df = pd.DataFrame([[38.0, 2.0, 18.0, 22.0, 21, np.nan],[19, 439, 6, 452, 226,232]],\n",
    "                  index=pd.Index(['Tumour (Positive)', 'Non-Tumour (Negative)'], name='Actual Label:'),\n",
    "                  columns=pd.MultiIndex.from_product([['Decision Tree', 'Regression', 'Random'],['Tumour', 'Non-Tumour']], names=['Model:', 'Predicted:']))\n",
    "\n",
    "df.style.format(precision=0, na_rep='MISSING', thousands=\" \",\n",
    "                formatter={('Decision Tree', 'Tumour'): \"{:.2f}\",\n",
    "                           ('Regression', 'Non-Tumour'): lambda x: \"$ {:,.1f}\".format(x*-1e6)\n",
    "                           })"
   ],
   "metadata": {
    "collapsed": false
   }
  },
  {
   "cell_type": "code",
   "execution_count": null,
   "metadata": {},
   "outputs": [],
   "source": [
    "# 2022-Jun-24 No momento esses são os que interessam:\n",
    "# pann = ogra.a_spec..saw_spec.spec_parms\n",
    "cntarr = ogra.a_spec.net_spec_ser_an.y_s\n",
    "pkprms = ogra.a_spec.net_spec_ser_an.pk_parms"
   ]
  },
  {
   "cell_type": "code",
   "execution_count": null,
   "outputs": [],
   "source": [],
   "metadata": {
    "collapsed": false
   }
  },
  {
   "cell_type": "code",
   "execution_count": null,
   "metadata": {},
   "outputs": [],
   "source": [
    "# 2022-Jun-14\n",
    "# Verificando o que se tem até agora em a_raw_spec:\n",
    "# (Pode pular e ir direto aos gráficos)"
   ]
  },
  {
   "cell_type": "code",
   "execution_count": null,
   "metadata": {},
   "outputs": [],
   "source": [
    "\n",
    "# Testes:\n",
    "# https://numpy.org/doc/stable/reference/random/generator.html#distributions\n",
    "# x = np.linspace(0, 10, N) + rng.normal(loc=7, scale=0.05, size=N)\n",
    "# y = np.linspace(22, 23, N)\n",
    "\n",
    "# Busca do canal onde a altura do espectro se \"estabiliza\"\n",
    "# https://numpy.org/doc/stable/reference/routines.sort.html#searching\n",
    "\n",
    "# Escolha do que plotar:\n",
    "# y_plot = noisy_y\n",
    "# y_plot = var_win\n",
    "# y_plot = var_rel"
   ]
  },
  {
   "cell_type": "code",
   "execution_count": null,
   "outputs": [],
   "source": [
    "vars(pkprms)"
   ],
   "metadata": {
    "collapsed": false
   }
  },
  {
   "cell_type": "code",
   "execution_count": null,
   "metadata": {},
   "outputs": [],
   "source": [
    "# 2022-Dez-21 Achar o pico de maior área inicial do espectro:"
   ]
  },
  {
   "cell_type": "code",
   "execution_count": null,
   "outputs": [],
   "source": [
    "largest_pk = np.argmax(pkprms.rough_sums)\n",
    "pkprms.centroids[largest_pk]"
   ],
   "metadata": {
    "collapsed": false
   }
  },
  {
   "cell_type": "code",
   "execution_count": null,
   "metadata": {},
   "outputs": [],
   "source": [
    "# Só pra lembrar como faz divisão inteira\n",
    "21 // 7"
   ]
  },
  {
   "cell_type": "code",
   "execution_count": null,
   "metadata": {},
   "outputs": [],
   "source": [
    "wi_re = pkprms.wide_regions[largest_pk]\n",
    "x = np.linspace(wi_re[0], wi_re[1], num=wi_re[1]-wi_re[0]+1)\n",
    "y = cntarr[wi_re[0]:wi_re[1]+1]\n",
    "c1 =  pkprms.centroids[largest_pk]\n",
    "s1 = pkprms.propts['widths'][largest_pk]*pkprms.k_fwhm_to_sd\n",
    "a1 = pkprms.rough_sums[largest_pk]\n",
    "# c2 = 313\n",
    "# s2 = 1.5\n",
    "# a2 = 400\n",
    "sste = 2.0"
   ]
  },
  {
   "cell_type": "code",
   "execution_count": null,
   "outputs": [],
   "source": [],
   "metadata": {
    "collapsed": false
   }
  },
  {
   "cell_type": "code",
   "execution_count": null,
   "metadata": {},
   "outputs": [],
   "source": [
    "pars = Parameters()\n",
    "\n",
    "# line_mod = LinearModel(prefix='line_')\n",
    "# pars.update(line_mod.make_params())\n",
    "# pars['line_intercept'].set(value=200, min=50, max=400)\n",
    "# pars['line_slope'].set(value=0, min=-0.001, max=0.001)\n",
    "                      \n",
    "# exp_mod = ExponentialModel(prefix='exp_')\n",
    "# pars = exp_mod.guess(y, x=x)\n",
    "\n",
    "gauss1 = GaussianModel(prefix='g1_')\n",
    "pars.update(gauss1.make_params())\n",
    "pars['g1_center'].set(value=c1, min=c1-2, max=c1+2)\n",
    "pars['g1_sigma'].set(value=s1, min=0.5, max=10)\n",
    "pars['g1_amplitude'].set(value=a1, min=10)\n",
    "\n",
    "# mod = gauss1 + gauss2 + line_mod - step_mod\n",
    "# mod = gauss1 + gauss2 - step_mod\n",
    "mod = gauss1\n",
    "\n",
    "init = mod.eval(pars, x=x)\n",
    "out = mod.fit(y, pars, x=x)\n",
    "\n",
    "print(out.fit_report(min_correl=0.1))\n",
    "\n",
    "fig, axes = plt.subplots(1, 2, figsize=(20, 16))\n",
    "axes[0].set_yscale('log')\n",
    "axes[1].set_yscale('log')\n",
    "axes[0].set_ylim([10, 2.5e6])\n",
    "axes[1].set_ylim([10, 2.5e6])\n",
    "\n",
    "axes[0].plot(x, y, 'b')\n",
    "axes[0].plot(x, init, 'k--', label='initial fit')\n",
    "axes[0].plot(x, out.best_fit, 'r-', label='best fit')\n",
    "axes[0].legend(loc='best')\n",
    "\n",
    "comps = out.eval_components(x=x)\n",
    "axes[1].plot(x, y, 'b')\n",
    "axes[1].plot(x, comps['g1_'], 'g--', label='Gaussian component 1')\n",
    "# axes[1].plot(x, comps['g2_'], 'm--', label='Gaussian component 2')\n",
    "# axes[1].plot(x, comps['line_'], 'k--', label='Linear component')\n",
    "# axes[1].plot(x, -comps['step_'], 'r--', label='Step component')\n",
    "# axes[1].plot(x, comps['exp_'], 'k--', label='Exponential component')\n",
    "axes[1].legend(loc='best')\n",
    "\n",
    "# plt.show()\n",
    "# <end examples/doc_builtinmodels_nistgauss.py>"
   ]
  },
  {
   "cell_type": "code",
   "execution_count": null,
   "outputs": [],
   "source": [
    "# 2023-Jan-3\n",
    "# Aqui finalizo este teste:\n",
    "# Dado um espectro, escolhi o pico mais proeminente do espectro\n",
    "# e fiz o ajuste gaussianco com lmfit\n",
    "# No caso, o pico tem área, centroide, SD e FWHM:\n",
    "# g1_amplitude:  5264.84728 +/- 85.1465566 (1.62%) (init = 5347.497)\n",
    "# g1_center:     1926.29564 +/- 0.02690572 (0.00%) (init = 1926.275)\n",
    "# g1_sigma:      1.44040103 +/- 0.02690060 (1.87%) (init = 1.418733)\n",
    "# g1_fwhm:       3.39188516 +/- 0.06334608 (1.87%) == '2.3548200*g1_sigma'\n",
    "# g1_height:     1458.18438 +/- 23.5824677 (1.62%) == '0.3989423*g1_amplitude/max(1e-15, g1_sigma)'\n",
    "\n",
    "# Comparando com saíuda do Genie:\n",
    "# canal (>0)    En:    FWHM (keV)    net area    net area unc   continuum\n",
    "# 1927.34      1173.47 2.04          5.40E+003   89.73          8.83E+002\n",
    "#"
   ],
   "metadata": {
    "collapsed": false
   }
  },
  {
   "cell_type": "code",
   "execution_count": null,
   "outputs": [],
   "source": [
    "out"
   ],
   "metadata": {
    "collapsed": false
   }
  },
  {
   "cell_type": "code",
   "execution_count": null,
   "outputs": [],
   "source": [
    "out.params"
   ],
   "metadata": {
    "collapsed": false
   }
  },
  {
   "cell_type": "code",
   "execution_count": null,
   "outputs": [],
   "source": [
    "out.var_names"
   ],
   "metadata": {
    "collapsed": false
   }
  },
  {
   "cell_type": "code",
   "execution_count": null,
   "outputs": [],
   "source": [
    "out.params.items()"
   ],
   "metadata": {
    "collapsed": false
   }
  },
  {
   "cell_type": "code",
   "execution_count": null,
   "outputs": [],
   "source": [
    "out.params.pretty_print()"
   ],
   "metadata": {
    "collapsed": false
   }
  },
  {
   "cell_type": "code",
   "execution_count": null,
   "outputs": [],
   "source": [
    "print('-------------------------------')\n",
    "print('Parameter    Value       Stderr')\n",
    "for name, param in out.params.items():\n",
    "    # print(f'{name:7s} {param.value:11.5f} {param.stderr:11.5f}')\n",
    "    print(name)\n",
    "    print(param)\n",
    "    print(param.value)"
   ],
   "metadata": {
    "collapsed": false
   }
  },
  {
   "cell_type": "code",
   "execution_count": null,
   "outputs": [],
   "source": [],
   "metadata": {
    "collapsed": false
   }
  },
  {
   "cell_type": "code",
   "execution_count": null,
   "outputs": [],
   "source": [
    "def gauss_lmfit_singlet(pkprms, ipk):\n",
    "    wi_re = pkprms.wide_regions[ipk]\n",
    "    print(f'pico: {wi_re}')\n",
    "    x = np.linspace(wi_re[0], wi_re[1], num=wi_re[1]-wi_re[0]+1)\n",
    "    y = cntarr[wi_re[0]:wi_re[1]+1]\n",
    "    c1 = pkprms.centroids[ipk]\n",
    "    s1 = pkprms.propts['widths'][ipk]*pkprms.k_fwhm_to_sd\n",
    "    a1 = pkprms.rough_sums[ipk]\n",
    "\n",
    "    parames = Parameters()\n",
    "\n",
    "    gauss1 = GaussianModel(prefix='g1_')\n",
    "    parames.update(gauss1.make_params())\n",
    "    parames['g1_center'].set(value=c1, min=c1-2, max=c1+2)\n",
    "    parames['g1_sigma'].set(value=s1, min=0.5, max=10)\n",
    "    parames['g1_amplitude'].set(value=a1, min=10)\n",
    "\n",
    "    mod = gauss1\n",
    "\n",
    "    init = mod.eval(parames, x=x)\n",
    "    out = mod.fit(y, parames, x=x, verbose=False)\n",
    "    print('Fez.')\n",
    "\n",
    "    # ret = [param for param in out.params.items()]\n",
    "    ret = out\n",
    "    return ret"
   ],
   "metadata": {
    "collapsed": false
   }
  },
  {
   "cell_type": "code",
   "execution_count": null,
   "outputs": [],
   "source": [
    "for ipk in range(len(pkprms.peaks)):\n",
    "    ret = gauss_lmfit_singlet(pkprms, ipk)\n",
    "    print(ret)"
   ],
   "metadata": {
    "collapsed": false
   }
  },
  {
   "cell_type": "code",
   "execution_count": null,
   "outputs": [],
   "source": [
    "ret"
   ],
   "metadata": {
    "collapsed": false
   }
  },
  {
   "cell_type": "code",
   "execution_count": null,
   "outputs": [],
   "source": [
    "ret.params"
   ],
   "metadata": {
    "collapsed": false
   }
  },
  {
   "cell_type": "code",
   "execution_count": null,
   "outputs": [],
   "source": [
    "for name, param in ret.params.items():\n",
    "    print(name, param.value, param.stderr)"
   ],
   "metadata": {
    "collapsed": false
   }
  },
  {
   "cell_type": "code",
   "execution_count": null,
   "outputs": [],
   "source": [
    "for ipk in range(len(pkprms.peaks)):\n",
    "    ret = gauss_lmfit_singlet(pkprms, ipk)\n",
    "    # ret.params.pretty_print()"
   ],
   "metadata": {
    "collapsed": false
   }
  },
  {
   "cell_type": "code",
   "execution_count": null,
   "outputs": [],
   "source": [
    "ret"
   ],
   "metadata": {
    "collapsed": false
   }
  },
  {
   "cell_type": "code",
   "execution_count": null,
   "outputs": [],
   "source": [
    "my_df.dtypes"
   ],
   "metadata": {
    "collapsed": false
   }
  },
  {
   "cell_type": "code",
   "execution_count": null,
   "outputs": [],
   "source": [
    "ch_en = ogra.a_spec.channel_energy_calib.p_en"
   ],
   "metadata": {
    "collapsed": false
   }
  },
  {
   "cell_type": "code",
   "execution_count": null,
   "outputs": [],
   "source": [
    "my_df['centrs_en'] = ch_en(my_df['centroids'])\n",
    "my_df"
   ],
   "metadata": {
    "collapsed": false
   }
  },
  {
   "cell_type": "code",
   "execution_count": null,
   "metadata": {},
   "outputs": [],
   "source": [
    "\n",
    "# 2022-Dez-21:\n",
    "# PAREI AQUI;\n",
    "# Usar os resultados de áreas dos picos e montar as curvas de eficiência\n",
    "\n",
    "# 2022-Mar-16\n",
    "# Fazendo ajuste polinomial nas eficiências:"
   ]
  },
  {
   "cell_type": "code",
   "execution_count": null,
   "metadata": {},
   "outputs": [],
   "source": [
    "from numpy.polynomial import Polynomial as P # 2020-09-06 Esta é a nova classe recomendada "
   ]
  },
  {
   "cell_type": "code",
   "execution_count": null,
   "metadata": {},
   "outputs": [],
   "source": [
    "En_CV_LoBg = np.array([81.00,\n",
    "86.54,\n",
    "121.78,\n",
    "133.51,\n",
    "302.85,\n",
    "344.28,\n",
    "356.02,\n",
    "604.69,\n",
    "661.66,\n",
    "795.84,\n",
    "964.13,\n",
    "1085.91,\n",
    "1112.12,\n",
    "1173.24,\n",
    "1332.50,\n",
    "1408.01\n",
    "])\n",
    "# En_CV_GMX"
   ]
  },
  {
   "cell_type": "code",
   "execution_count": null,
   "metadata": {},
   "outputs": [],
   "source": [
    "Eff_CV_LoBg = np.array([4.4358,\n",
    "4.4723,\n",
    "5.4386,\n",
    "5.5045,\n",
    "3.1379,\n",
    "2.8722,\n",
    "2.7305,\n",
    "1.7817,\n",
    "1.6453,\n",
    "1.4026,\n",
    "1.1216,\n",
    "1.0200,\n",
    "0.9703,\n",
    "0.8962,\n",
    "0.8009,\n",
    "0.7397 ])\n",
    "# PAREI AQUI"
   ]
  },
  {
   "cell_type": "code",
   "execution_count": null,
   "metadata": {},
   "outputs": [],
   "source": [
    "unc_perc = np.array([2.01,\n",
    "1.43,\n",
    "1.33,\n",
    "2.11,\n",
    "1.81,\n",
    "1.42,\n",
    "1.41,\n",
    "2.24,\n",
    "1.44,\n",
    "3.68,\n",
    "1.66,\n",
    "1.71,\n",
    "1.58,\n",
    "0.87,\n",
    "0.87,\n",
    "1.51 ])\n",
    "unc_perc"
   ]
  },
  {
   "cell_type": "code",
   "execution_count": null,
   "metadata": {},
   "outputs": [],
   "source": [
    "ln_En_CV_LoBg = np.log (En_CV_LoBg)\n",
    "ln_Eff_CV_LoBg = np.log (Eff_CV_LoBg)"
   ]
  },
  {
   "cell_type": "code",
   "execution_count": null,
   "metadata": {},
   "outputs": [],
   "source": [
    "N = 16"
   ]
  },
  {
   "cell_type": "code",
   "execution_count": null,
   "metadata": {},
   "outputs": [],
   "source": []
  },
  {
   "cell_type": "code",
   "execution_count": null,
   "metadata": {},
   "outputs": [],
   "source": [
    "# 2022-Mar-23\n",
    "# Parêntese para fazer nova calibração canal-energia do HPGe do projeto:"
   ]
  },
  {
   "cell_type": "code",
   "execution_count": null,
   "metadata": {},
   "outputs": [],
   "source": [
    "canal = np.array([210, 920, 1181, 7232])\n",
    "ener = np.array([46.5, 186, 238.6, 1460.8])"
   ]
  },
  {
   "cell_type": "code",
   "execution_count": null,
   "metadata": {},
   "outputs": [],
   "source": [
    "projeto = P.fit(x=canal, y=ener, deg=1).convert()\n",
    "projeto"
   ]
  },
  {
   "cell_type": "code",
   "execution_count": null,
   "metadata": {},
   "outputs": [],
   "source": [
    "projeto_ener_canal = P.fit(x=ener, y=canal, deg=1).convert()\n",
    "projeto_ener_canal"
   ]
  },
  {
   "cell_type": "code",
   "execution_count": null,
   "metadata": {},
   "outputs": [],
   "source": [
    "projeto_ener_canal(1173.2)"
   ]
  },
  {
   "cell_type": "code",
   "execution_count": null,
   "metadata": {},
   "outputs": [],
   "source": [
    "projeto_ener_canal(1332.486)"
   ]
  },
  {
   "cell_type": "code",
   "execution_count": null,
   "metadata": {},
   "outputs": [],
   "source": []
  },
  {
   "cell_type": "code",
   "execution_count": null,
   "metadata": {},
   "outputs": [],
   "source": [
    "P.fit(x=ln_En_CV_LoBg, y=ln_Eff_CV_LoBg, deg=5).convert()"
   ]
  },
  {
   "cell_type": "code",
   "execution_count": null,
   "metadata": {},
   "outputs": [],
   "source": [
    "poly_w = P.fit(x=ln_En_CV_LoBg, y=ln_Eff_CV_LoBg, deg=5, w=1/unc_perc).convert()\n",
    "poly_w"
   ]
  },
  {
   "cell_type": "code",
   "execution_count": null,
   "metadata": {},
   "outputs": [],
   "source": [
    "poly_w = P.fit(x=ln_En_CV_LoBg, y=ln_Eff_CV_LoBg, deg=5, w=1/unc_perc**2).convert()\n",
    "poly_w"
   ]
  },
  {
   "cell_type": "code",
   "execution_count": null,
   "metadata": {},
   "outputs": [],
   "source": [
    "print(poly_w)"
   ]
  },
  {
   "cell_type": "code",
   "execution_count": null,
   "metadata": {},
   "outputs": [],
   "source": [
    "poly_o = P.fit(x=ln_En_CV_LoBg, y=Eff_CV_LoBg, deg=5)\n",
    "print(poly_o)"
   ]
  },
  {
   "cell_type": "code",
   "execution_count": null,
   "metadata": {},
   "outputs": [],
   "source": [
    "# AQUI IMPLEMENTAR AJUSTE POLINOMIAL MINIMOS QUADRADOS\n",
    "# weights = np.linspace(1, 2, N)\n",
    "# Xw = X * np.sqrt(weights)[:, None]\n",
    "# yw = y * np.sqrt(weights)\n",
    "# print (linalg.lstsq(Xw, yw)[0])"
   ]
  },
  {
   "cell_type": "code",
   "execution_count": null,
   "metadata": {},
   "outputs": [],
   "source": [
    "weights = 1.0 / unc_perc**2.0\n",
    "weights"
   ]
  },
  {
   "cell_type": "code",
   "execution_count": null,
   "metadata": {},
   "outputs": [],
   "source": [
    "# from scipy import linalg\n",
    "from numpy import linalg\n",
    "\n",
    "Xw = ln_En_CV_LoBg * np.sqrt(weights)[:, None]\n",
    "yw = ln_Eff_CV_LoBg * np.sqrt(weights)\n",
    "print (linalg.lstsq(Xw, yw)[0])"
   ]
  },
  {
   "cell_type": "code",
   "execution_count": null,
   "metadata": {},
   "outputs": [],
   "source": [
    "print (linalg.lstsq(Xw, yw))"
   ]
  },
  {
   "cell_type": "code",
   "execution_count": null,
   "metadata": {},
   "outputs": [],
   "source": [
    "X = ln_En_CV_LoBg\n",
    "y = ln_Eff_CV_LoBg\n",
    "w1 = linalg.lstsq(X, y)\n",
    "print (w1)"
   ]
  },
  {
   "cell_type": "code",
   "execution_count": null,
   "metadata": {},
   "outputs": [],
   "source": [
    "np.log(2)"
   ]
  },
  {
   "cell_type": "code",
   "execution_count": null,
   "metadata": {},
   "outputs": [],
   "source": []
  },
  {
   "cell_type": "code",
   "execution_count": null,
   "metadata": {},
   "outputs": [],
   "source": [
    "# Figure 3\n",
    "figw3 = go.FigureWidget();\n",
    "figw3.add_trace(\n",
    "    go.Scatter(x=chans,\n",
    "               y=ys_net_counts,\n",
    "               name=\"Net counts\",\n",
    "               line=dict(color='green',width=0.5)));\n",
    "figw3.add_trace(\n",
    "    go.Scatter(x=peaks_net,\n",
    "               y=ys_net_counts[peaks_net],\n",
    "               mode=\"markers\",\n",
    "               name=\"net peaks\",\n",
    "               marker=dict(color='cyan',\n",
    "                           symbol='cross',\n",
    "                           size=15,\n",
    "                           opacity=0.7,\n",
    "                           line=dict(color='magenta', width=2.0)\n",
    "                          )\n",
    "              ));\n",
    "figw3.add_trace(\n",
    "    go.Scatter(x=peaks_1,\n",
    "               y=counts[peaks_1],\n",
    "               mode=\"markers\",\n",
    "               name=\"gross peaks\",\n",
    "               marker=dict(color='lightblue',\n",
    "                           symbol='cross',\n",
    "                           size=15,\n",
    "                           opacity=0.7,\n",
    "                           line=dict(color='green', width=2.0)\n",
    "                          )\n",
    "              ));\n",
    "# Set title and scale type\n",
    "figw3.update_layout(title_text=\"Gamma-ray net spectrum\")\n",
    "figw3.update_yaxes(type=\"log\");"
   ]
  },
  {
   "cell_type": "code",
   "execution_count": null,
   "metadata": {},
   "outputs": [],
   "source": [
    "figw3.write_html('figw3.html', auto_open=True)"
   ]
  },
  {
   "cell_type": "code",
   "execution_count": null,
   "metadata": {},
   "outputs": [],
   "source": [
    "# Essa será a 1b\n",
    "figw1 = go.FigureWidget();\n",
    "\n",
    "# Add Traces\n",
    "\n",
    "figw1.add_trace(\n",
    "    go.Scatter(x=chans_nzero,\n",
    "               y=counts_nzero,\n",
    "               error_y=dict(\n",
    "                   color='orange',width=3.0,\n",
    "                   type='data', # value of error bar given in data coordinates\n",
    "                   array=unc_y,\n",
    "                   visible=True),\n",
    "               name=\"Counts & uncertaintes\",\n",
    "               line=dict(color='orange',width=0.3)));\n",
    "\n",
    "figw1.add_trace(\n",
    "    go.Scatter(x=chans,\n",
    "               y=eval_y,\n",
    "               name=\"eval_y\",\n",
    "               line=dict(color='blue',width=0.5)));\n",
    "\n",
    "figw1.add_trace(\n",
    "    go.Scatter(x=peaks_1,\n",
    "               y=counts[peaks_1],\n",
    "               mode=\"markers\",\n",
    "               name=\"peaks\",\n",
    "               marker=dict(color='cyan',\n",
    "                           symbol='cross',\n",
    "                           size=20,\n",
    "                           opacity=0.5,\n",
    "                           line=dict(color='red', width=2.0)\n",
    "                          )\n",
    "              ));\n",
    "figw1.add_trace(\n",
    "    go.Scatter(x=peaks_net,\n",
    "               y=counts[peaks_net],\n",
    "               mode=\"markers\",\n",
    "               name=\"net peaks\",\n",
    "               marker=dict(color='red',\n",
    "                           symbol='circle',\n",
    "                           size=20,\n",
    "                           opacity=0.4,\n",
    "                           line=dict(color='green', width=2.0)\n",
    "                          )\n",
    "              ));\n",
    "\n",
    "figw4.add_trace(\n",
    "    go.Scatter(x=inis,\n",
    "               y=eval_y[inis],\n",
    "               mode=\"markers\",\n",
    "               name=\"inis\",\n",
    "               marker=dict(color='yellow',\n",
    "                           symbol='pentagon',\n",
    "                           size=10,\n",
    "                           opacity=1.0,\n",
    "                           line=dict(color='green', width=2.0)\n",
    "                          )\n",
    "              ));\n",
    "\n",
    "figw1.add_trace(\n",
    "    go.Scatter(x=fins,\n",
    "               y=eval_y[fins],\n",
    "               mode=\"markers\",\n",
    "               name=\"fins\",\n",
    "               marker=dict(color='cyan',\n",
    "                           symbol='star-triangle-down',\n",
    "                           size=10,\n",
    "                           opacity=1.0,\n",
    "                           line=dict(color='red', width=2.0)\n",
    "                          )\n",
    "              ));\n",
    "\n",
    "figw1.add_trace(\n",
    "    go.Scatter(x=xs_step_bline,\n",
    "               y=ys_step_bline,\n",
    "               name=\"Step baseline\",\n",
    "               line=dict(color='navy',width=0.4)));\n",
    "\n",
    "# Set title and scale type\n",
    "figw1.update_layout(title_text=\"Gamma-ray spectrum excerpt\")\n",
    "figw1.update_yaxes(type=\"log\");\n",
    "\n",
    "# Melhor não abrir inline, que seria simplesmente entrar com o nome do objeto:\n",
    "# figw2\n",
    "# Além de ficar com visualização incômoda, não funciona no JupyterLab; dá o erro:\n",
    "# Error displaying widget: model not found."
   ]
  },
  {
   "cell_type": "code",
   "execution_count": null,
   "metadata": {},
   "outputs": [],
   "source": [
    "figw4.write_html('figw4.html', auto_open=True)"
   ]
  },
  {
   "cell_type": "code",
   "execution_count": null,
   "outputs": [],
   "source": [
    "dir()"
   ],
   "metadata": {
    "collapsed": false
   }
  },
  {
   "cell_type": "code",
   "execution_count": null,
   "outputs": [],
   "source": [],
   "metadata": {
    "collapsed": false
   }
  }
 ],
 "metadata": {
  "kernelspec": {
   "display_name": "Python 3",
   "language": "python",
   "name": "python3"
  },
  "language_info": {
   "codemirror_mode": {
    "name": "ipython",
    "version": 3
   },
   "file_extension": ".py",
   "mimetype": "text/x-python",
   "name": "python",
   "nbconvert_exporter": "python",
   "pygments_lexer": "ipython3",
   "version": "3.7.3"
  }
 },
 "nbformat": 4,
 "nbformat_minor": 5
}
