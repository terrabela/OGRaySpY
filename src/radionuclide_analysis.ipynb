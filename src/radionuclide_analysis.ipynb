{
 "cells": [
  {
   "cell_type": "code",
   "execution_count": 1,
   "outputs": [],
   "source": [
    "# 2022-Dez-28\n",
    "# Jupyter notebook for tests with OGRaySpY modules"
   ],
   "metadata": {
    "collapsed": false
   }
  },
  {
   "cell_type": "code",
   "execution_count": 1,
   "outputs": [],
   "source": [],
   "metadata": {
    "collapsed": false
   }
  },
  {
   "cell_type": "code",
   "execution_count": 1,
   "outputs": [],
   "source": [],
   "metadata": {
    "collapsed": false
   }
  },
  {
   "cell_type": "code",
   "execution_count": 2,
   "outputs": [],
   "source": [
    "import numpy as np\n",
    "from numpy.random import default_rng\n",
    "from scipy import special\n",
    "import matplotlib.pyplot as plt\n",
    "import pandas as pd\n",
    "import plotly.graph_objects as go\n",
    "\n",
    "from spec_class import Spec"
   ],
   "metadata": {
    "collapsed": false
   }
  },
  {
   "cell_type": "code",
   "execution_count": 3,
   "metadata": {},
   "outputs": [],
   "source": [
    "# https://lmfit.github.io/lmfit-py/builtin_models.html\n",
    "from lmfit import Model, minimize, Parameters, report_fit, fit_report, printfuncs\n",
    "from lmfit.models import LinearModel, StepModel, ExponentialModel, LorentzianModel\n",
    "from lmfit.models import GaussianModel, SkewedGaussianModel, ExpressionModel"
   ]
  },
  {
   "cell_type": "code",
   "execution_count": 4,
   "metadata": {},
   "outputs": [],
   "source": [
    "from ograyspy_class import Ograyspy"
   ]
  },
  {
   "cell_type": "code",
   "execution_count": 5,
   "metadata": {},
   "outputs": [
    {
     "name": "stdout",
     "output_type": "stream",
     "text": [
      "Objeto ogra: Ograyspy criado.\n",
      "ogra.info_plat: Windows-10-10.0.19044-SP0\n",
      "ogra.info_mach: AMD64\n",
      "ogra.info_syst: Windows\n",
      "ogra.info_node: I56611\n",
      "ogra.home_path: C:\\Users\\mmaduar\n"
     ]
    }
   ],
   "source": [
    "ogra = Ograyspy(batch_mode=False)\n",
    "print('Objeto ogra: Ograyspy criado.')\n",
    "print(f'ogra.info_plat: {ogra.info_plat}')\n",
    "print(f'ogra.info_mach: {ogra.info_mach}')\n",
    "print(f'ogra.info_syst: {ogra.info_syst}')\n",
    "print(f'ogra.info_node: {ogra.info_node}')\n",
    "print(f'ogra.home_path: {ogra.home_path}')"
   ]
  },
  {
   "cell_type": "code",
   "execution_count": 6,
   "metadata": {},
   "outputs": [],
   "source": [
    "# f_name = '../../Genie_Transfer/Si/SI2019/SI04119.Chn'\n",
    "# f_name = '../gamma/spectra/ALMERA-2016/alm_samp5_sedim_16.IEC'"
   ]
  },
  {
   "cell_type": "code",
   "execution_count": 7,
   "metadata": {},
   "outputs": [
    {
     "name": "stdout",
     "output_type": "stream",
     "text": [
      "\n",
      "ogra.define_files_folder(to_be_found)\n",
      "Found folder name:  C:\\Users\\mmaduar\\Nextcloud\\Genie_Transfer\n",
      "Partes:  ('C:\\\\', 'Users', 'mmaduar', 'Nextcloud', 'Genie_Transfer')\n",
      "No. spec files:  6868\n"
     ]
    }
   ],
   "source": [
    "to_be_found = 'Genie_Transfer'\n",
    "# to_be_found = 'some_spectra'\n",
    "print('\\nogra.define_files_folder(to_be_found)')\n",
    "ogra.define_files_folder(to_be_found)"
   ]
  },
  {
   "cell_type": "code",
   "execution_count": 8,
   "outputs": [],
   "source": [
    "# a spectrum pattern to find and test:"
   ],
   "metadata": {
    "collapsed": false
   }
  },
  {
   "cell_type": "code",
   "execution_count": 9,
   "metadata": {},
   "outputs": [],
   "source": [
    "# 2022\n",
    "# Se quiser ignorar o espectro aleatório, definir aqui um específico. Se não, pular.\n",
    "# Vou ignorar o espectro já analisado e refazer a análise, para testes.\n",
    "# 2022-Mar-24 Resolver essa questão dos nomes de arquivos em Linux e Windows\n",
    "# a_spec_name = '..\\\\..\\\\Genie_Transfer\\\\Si\\\\2018\\\\PNR\\\\PRN0803.Chn'\n",
    "# a_spec_name = '../../Genie_Transfer/Si/2018/PNR/PRN0803.Chn'\n",
    "# a_spec_name = '../../Genie_Transfer/Si/2018/CTP/CTP0908-2.Chn'\n",
    "# Esse é um que dá problema na baseline perto do 159 keV do I-123:\n",
    "# a_spec_name = '../../Genie_Transfer/Si/2018/CCI/CCI1508I.Chn'\n",
    "# Precisa quebrar mais a baseline: Ok, consertado!!!\n",
    "# 2022: Já usando o GMX:\n",
    "# a_spec_name = '../../Genie_Transfer/Filtros/2022/Cci/CCI1603-I.Chn'\n",
    "\n"
   ]
  },
  {
   "cell_type": "code",
   "execution_count": 10,
   "metadata": {},
   "outputs": [],
   "source": [
    "\n",
    "# 2022-out-7: Excelente espectro para testes, tenho usado ultimamente:\n",
    "# a_pattern = 'Si/SI2018/SI11318.Chn'\n",
    "# 2022-nov-16: outros espectros:\n",
    "# a_pattern = \"Filtros/2022/Cci/CCI1603-I.Chn\"\n",
    "# a_pattern = \"Filtros/2022/Cci/CCI2302-I.Chn\"\n",
    "\n",
    "# a_pattern = \"Eso_non_existe.Chn\"\n",
    "\n",
    "# 2022-Dez-21 Buscando outro espectro\n",
    "# a_pattern = 'CCI1603-I'\n",
    "# 2022-Dez-28 Este é um espectro mais recente:\n",
    "# a_pattern = 'SI09722.Chn'\n",
    "# 2022-Dez-28 Este é um espectro mais recente que posso comparar com saída do Genie:\n",
    "a_pattern = 'SI06322.Chn'"
   ]
  },
  {
   "cell_type": "code",
   "execution_count": 11,
   "outputs": [
    {
     "name": "stdout",
     "output_type": "stream",
     "text": [
      "\n",
      "\n",
      "ogra.select_spectrum(SI06322.Chn)\n",
      "Existing:\n",
      "Achou! indice=62, nomearq = almera22/user2023/SI2022/SI06322.Chn\n",
      "==========================\n",
      "Final choices:\n",
      "spectra_path: C:\\Users\\mmaduar\\Nextcloud\\Genie_Transfer\n",
      "a_spec_name: C:\\Users\\mmaduar\\Nextcloud\\Genie_Transfer\\almera22\\user2023\\SI2022\\SI06322.Chn\n",
      "reduced_f_name: almera22/user2023/SI2022/SI06322.Chn\n",
      "A spec name: C:\\Users\\mmaduar\\Nextcloud\\Genie_Transfer\\almera22\\user2023\\SI2022\\SI06322.Chn\n",
      "Reduced file name: almera22/user2023/SI2022/SI06322.Chn\n",
      "Starting Ograyspy.perform_total_analysis...\n",
      "Starting Spec.total_analysis...\n",
      "Finish Spec.total_analysis!\n",
      "Finished Ograyspy.perform_total_analysis!\n"
     ]
    }
   ],
   "source": [
    "\n",
    "\n",
    "print(f'\\n\\nogra.select_spectrum({a_pattern})')\n",
    "ogra.select_spectrum(a_pattern)\n",
    "print(f'A spec name: {ogra.a_spec_name}')\n",
    "print(f'Reduced file name: {ogra.reduced_f_name}')\n",
    "\n",
    "# AQUI: ativar gener_dataframe qdo estiver pronto.\n",
    "ogra.perform_total_analysis(peak_sd_fact=3.0, gener_dataframe=True)\n",
    "# print(ogra.a_spec.spec_pks_df)"
   ],
   "metadata": {
    "collapsed": false
   }
  },
  {
   "cell_type": "code",
   "execution_count": 12,
   "outputs": [
    {
     "data": {
      "text/plain": "{'calib_kind': 'channel energy',\n 'p_en': Polynomial([-1.99049842,  0.61104035,  0.        ], domain=[-1,  1], window=[-1,  1]),\n 'coeffs_ch_en': array([ 0.        ,  0.61104035, -1.99049842]),\n 'en_ch_calib': array([], dtype=float64),\n 'chan_calib': array([], dtype=float64)}"
     },
     "execution_count": 12,
     "metadata": {},
     "output_type": "execute_result"
    }
   ],
   "source": [
    "vars(ogra.a_spec.channel_energy_calib)"
   ],
   "metadata": {
    "collapsed": false
   }
  },
  {
   "cell_type": "code",
   "execution_count": 13,
   "outputs": [
    {
     "data": {
      "text/plain": "275.1163020133972"
     },
     "execution_count": 13,
     "metadata": {},
     "output_type": "execute_result"
    }
   ],
   "source": [
    "ogra.a_spec.channel_energy_calib.p_en(453.5)"
   ],
   "metadata": {
    "collapsed": false
   }
  },
  {
   "cell_type": "code",
   "execution_count": 14,
   "outputs": [
    {
     "data": {
      "text/plain": "Series([], dtype: object)"
     },
     "execution_count": 14,
     "metadata": {},
     "output_type": "execute_result"
    }
   ],
   "source": [
    "ogra.a_spec.spec_pks_df.dtypes"
   ],
   "metadata": {
    "collapsed": false
   }
  },
  {
   "cell_type": "code",
   "execution_count": 15,
   "outputs": [],
   "source": [
    "ogra.call_graphics()"
   ],
   "metadata": {
    "collapsed": false
   }
  },
  {
   "cell_type": "code",
   "execution_count": 15,
   "outputs": [],
   "source": [],
   "metadata": {
    "collapsed": false
   }
  },
  {
   "cell_type": "code",
   "execution_count": 16,
   "outputs": [],
   "source": [
    "rng = np.random.default_rng()\n",
    "# rints = rng.integers(low=0, high=10, size=3)\n",
    "\n",
    "# 2022-Jun-23: Reativar após consertar o arquivo pickle:\n",
    "# rints = rng.integers(pkl_df1.count()[0], size=3)\n",
    "# print(rints)\n",
    "# type(rints[0])\n",
    "# some_spec = rints[1]\n",
    "# pkl_df1.iloc[some_spec]\n",
    "# a_spec_name = pkl_df1.iloc[some_spec]['FName']\n",
    "# a_spec_name"
   ],
   "metadata": {
    "collapsed": false
   }
  },
  {
   "cell_type": "code",
   "execution_count": 17,
   "outputs": [
    {
     "data": {
      "text/plain": "Generator(PCG64) at 0x1C31836A820"
     },
     "execution_count": 17,
     "metadata": {},
     "output_type": "execute_result"
    }
   ],
   "source": [
    "rng"
   ],
   "metadata": {
    "collapsed": false
   }
  },
  {
   "cell_type": "code",
   "execution_count": 18,
   "outputs": [
    {
     "name": "stdout",
     "output_type": "stream",
     "text": [
      "A spec name: C:\\Users\\mmaduar\\Nextcloud\\Genie_Transfer\\almera22\\user2023\\SI2022\\SI06322.Chn\n",
      "Reduced file name: almera22/user2023/SI2022/SI06322.Chn\n"
     ]
    }
   ],
   "source": [
    "print(f'A spec name: {ogra.a_spec_name}')\n",
    "print(f'Reduced file name: {ogra.reduced_f_name}')"
   ],
   "metadata": {
    "collapsed": false
   }
  },
  {
   "cell_type": "code",
   "execution_count": 19,
   "outputs": [
    {
     "data": {
      "text/plain": "{'info_plat': 'Windows-10-10.0.19044-SP0',\n 'info_mach': 'AMD64',\n 'info_syst': 'Windows',\n 'info_node': 'I56611',\n 'home_path': WindowsPath('C:/Users/mmaduar'),\n 'spectra_path': WindowsPath('C:/Users/mmaduar/Nextcloud/Genie_Transfer'),\n 'n_files': 6868,\n 'a_spec_ind': 62,\n 'a_spec_name': WindowsPath('C:/Users/mmaduar/Nextcloud/Genie_Transfer/almera22/user2023/SI2022/SI06322.Chn'),\n 'reduced_f_name': 'almera22/user2023/SI2022/SI06322.Chn',\n 'gross_counts_graphics': None,\n 'pks_regions_gros': None,\n 'files_list': [WindowsPath('C:/Users/mmaduar/Nextcloud/Genie_Transfer/almera22/det_c/iaeaqcb.chn'),\n  WindowsPath('C:/Users/mmaduar/Nextcloud/Genie_Transfer/almera22/det_c/iaeaqcc.chn'),\n  WindowsPath('C:/Users/mmaduar/Nextcloud/Genie_Transfer/almera22/det_c/IAEASW1B.chn'),\n  WindowsPath('C:/Users/mmaduar/Nextcloud/Genie_Transfer/almera22/det_c/iaeaw2a.chn'),\n  WindowsPath('C:/Users/mmaduar/Nextcloud/Genie_Transfer/almera22/eur_g_p_xtraf/Spiked water Sample Code 01A  Det G.Chn'),\n  WindowsPath('C:/Users/mmaduar/Nextcloud/Genie_Transfer/almera22/eur_g_p_xtraf/Spiked water Sample Code 01A  Det P.Chn'),\n  WindowsPath('C:/Users/mmaduar/Nextcloud/Genie_Transfer/almera22/eur_g_p_xtraf/Spiked water Sample Code 01B Det Eurisys.Chn'),\n  WindowsPath('C:/Users/mmaduar/Nextcloud/Genie_Transfer/almera22/eur_g_p_xtraf/Spiked water Sample Code 01B XtRa.Chn'),\n  WindowsPath('C:/Users/mmaduar/Nextcloud/Genie_Transfer/almera22/eur_g_p_xtraf/Spiked water Sample Code 01C Eurisys.Chn'),\n  WindowsPath('C:/Users/mmaduar/Nextcloud/Genie_Transfer/almera22/eur_g_p_xtraf/Spiked water Sample Code 02A  Det P.Chn'),\n  WindowsPath('C:/Users/mmaduar/Nextcloud/Genie_Transfer/almera22/eur_g_p_xtraf/Spiked water Sample Code 02A  Eurisusys.Chn'),\n  WindowsPath('C:/Users/mmaduar/Nextcloud/Genie_Transfer/almera22/eur_g_p_xtraf/Spiked water Sample Code 02C Det G.Chn'),\n  WindowsPath('C:/Users/mmaduar/Nextcloud/Genie_Transfer/almera22/eur_g_p_xtraf/Spiked water Sample code 03A Det P.Chn'),\n  WindowsPath('C:/Users/mmaduar/Nextcloud/Genie_Transfer/almera22/eur_g_p_xtraf/Spiked water Sample Code 03B Det G.Chn'),\n  WindowsPath('C:/Users/mmaduar/Nextcloud/Genie_Transfer/almera22/eur_g_p_xtraf/Spiked water Sample Code 03C Det Eurisys.Chn'),\n  WindowsPath('C:/Users/mmaduar/Nextcloud/Genie_Transfer/almera22/eur_g_p_xtraf/Spiked water Sample Code 03C XtRa.Chn'),\n  WindowsPath('C:/Users/mmaduar/Nextcloud/Genie_Transfer/almera22/eur_g_p_xtraf/Spiked water Sample code QCA det XtRa.Chn'),\n  WindowsPath('C:/Users/mmaduar/Nextcloud/Genie_Transfer/almera22/eur_g_p_xtraf/Spiked water Sample Code QCB Det Eurisys.Chn'),\n  WindowsPath('C:/Users/mmaduar/Nextcloud/Genie_Transfer/almera22/eur_g_p_xtraf/Spiked water Sample Code QCB Det G.Chn'),\n  WindowsPath('C:/Users/mmaduar/Nextcloud/Genie_Transfer/almera22/eur_g_p_xtraf/Spiked water Sample Code QCB Det XTRa.Chn'),\n  WindowsPath('C:/Users/mmaduar/Nextcloud/Genie_Transfer/almera22/eur_g_p_xtraf/Spiked water Sample Code QCC Det P.Chn'),\n  WindowsPath('C:/Users/mmaduar/Nextcloud/Genie_Transfer/almera22/IAEA-TERC-2022/pt2022_spectrum_exercise/PT2022_Spectrum_Exercise/PT2022-Calibration_Standard/Background-2017/BGR-BBE-17D.CHN'),\n  WindowsPath('C:/Users/mmaduar/Nextcloud/Genie_Transfer/almera22/IAEA-TERC-2022/pt2022_spectrum_exercise/PT2022_Spectrum_Exercise/PT2022-Calibration_Standard/BBE_NPL-A170584-D1/BBE_NPL-A170584-D1.CHN'),\n  WindowsPath('C:/Users/mmaduar/Nextcloud/Genie_Transfer/almera22/IAEA-TERC-2022/pt2022_spectrum_exercise/PT2022_Spectrum_Exercise/PT2022_Spectra/Background-2021/BGR-BBE-21D.CHN'),\n  WindowsPath('C:/Users/mmaduar/Nextcloud/Genie_Transfer/almera22/IAEA-TERC-2022/pt2022_spectrum_exercise/PT2022_Spectrum_Exercise/PT2022_Spectra/BBE22032_PT2022/BBE22032_PT2022.CHN'),\n  WindowsPath('C:/Users/mmaduar/Nextcloud/Genie_Transfer/almera22/IAEA-TERC-2022/pt2022_spectrum_exercise/PT2022_Spectrum_Exercise/PT2022_Spectra/BBE_P105_Blank/BBE_P105_Blank.CHN'),\n  WindowsPath('C:/Users/mmaduar/Nextcloud/Genie_Transfer/almera22/user2023/GIG/CRM_5A.Chn'),\n  WindowsPath('C:/Users/mmaduar/Nextcloud/Genie_Transfer/almera22/user2023/GIG/CRM_7.Chn'),\n  WindowsPath('C:/Users/mmaduar/Nextcloud/Genie_Transfer/almera22/user2023/IAEA2022/IAEA-TERC-2022-01_02;SampleCodeQCA-SpikedWater 100,70g (GMX).Chn'),\n  WindowsPath('C:/Users/mmaduar/Nextcloud/Genie_Transfer/almera22/user2023/IAEA2022/Sample Code 03B Pop top.Chn'),\n  WindowsPath('C:/Users/mmaduar/Nextcloud/Genie_Transfer/almera22/user2023/IAEA2022/Sample Code QCA Pop top.Chn'),\n  WindowsPath('C:/Users/mmaduar/Nextcloud/Genie_Transfer/almera22/user2023/IAEA2022/Sample Code QCC Pop top.Chn'),\n  WindowsPath('C:/Users/mmaduar/Nextcloud/Genie_Transfer/almera22/user2023/SI2022/BGTESTE.Chn'),\n  WindowsPath('C:/Users/mmaduar/Nextcloud/Genie_Transfer/almera22/user2023/SI2022/FRASCO ORIGINAL SI084_22.Chn'),\n  WindowsPath('C:/Users/mmaduar/Nextcloud/Genie_Transfer/almera22/user2023/SI2022/SI00822.Chn'),\n  WindowsPath('C:/Users/mmaduar/Nextcloud/Genie_Transfer/almera22/user2023/SI2022/SI00922.Chn'),\n  WindowsPath('C:/Users/mmaduar/Nextcloud/Genie_Transfer/almera22/user2023/SI2022/SI01622.Chn'),\n  WindowsPath('C:/Users/mmaduar/Nextcloud/Genie_Transfer/almera22/user2023/SI2022/SI01722.Chn'),\n  WindowsPath('C:/Users/mmaduar/Nextcloud/Genie_Transfer/almera22/user2023/SI2022/SI01822.Chn'),\n  WindowsPath('C:/Users/mmaduar/Nextcloud/Genie_Transfer/almera22/user2023/SI2022/SI01922.Chn'),\n  WindowsPath('C:/Users/mmaduar/Nextcloud/Genie_Transfer/almera22/user2023/SI2022/SI02022.Chn'),\n  WindowsPath('C:/Users/mmaduar/Nextcloud/Genie_Transfer/almera22/user2023/SI2022/SI02522.Chn'),\n  WindowsPath('C:/Users/mmaduar/Nextcloud/Genie_Transfer/almera22/user2023/SI2022/SI02622.Chn'),\n  WindowsPath('C:/Users/mmaduar/Nextcloud/Genie_Transfer/almera22/user2023/SI2022/SI02722.Chn'),\n  WindowsPath('C:/Users/mmaduar/Nextcloud/Genie_Transfer/almera22/user2023/SI2022/SI02922.Chn'),\n  WindowsPath('C:/Users/mmaduar/Nextcloud/Genie_Transfer/almera22/user2023/SI2022/SI03022.Chn'),\n  WindowsPath('C:/Users/mmaduar/Nextcloud/Genie_Transfer/almera22/user2023/SI2022/SI03122.Chn'),\n  WindowsPath('C:/Users/mmaduar/Nextcloud/Genie_Transfer/almera22/user2023/SI2022/SI03222.Chn'),\n  WindowsPath('C:/Users/mmaduar/Nextcloud/Genie_Transfer/almera22/user2023/SI2022/SI03322.Chn'),\n  WindowsPath('C:/Users/mmaduar/Nextcloud/Genie_Transfer/almera22/user2023/SI2022/SI03422.Chn'),\n  WindowsPath('C:/Users/mmaduar/Nextcloud/Genie_Transfer/almera22/user2023/SI2022/SI03522.Chn'),\n  WindowsPath('C:/Users/mmaduar/Nextcloud/Genie_Transfer/almera22/user2023/SI2022/SI03722.Chn'),\n  WindowsPath('C:/Users/mmaduar/Nextcloud/Genie_Transfer/almera22/user2023/SI2022/SI04022 (cont em 31-05-22).Chn'),\n  WindowsPath('C:/Users/mmaduar/Nextcloud/Genie_Transfer/almera22/user2023/SI2022/SI04422.Chn'),\n  WindowsPath('C:/Users/mmaduar/Nextcloud/Genie_Transfer/almera22/user2023/SI2022/SI04722.Chn'),\n  WindowsPath('C:/Users/mmaduar/Nextcloud/Genie_Transfer/almera22/user2023/SI2022/SI05122.Chn'),\n  WindowsPath('C:/Users/mmaduar/Nextcloud/Genie_Transfer/almera22/user2023/SI2022/SI05322.Chn'),\n  WindowsPath('C:/Users/mmaduar/Nextcloud/Genie_Transfer/almera22/user2023/SI2022/SI05522.Chn'),\n  WindowsPath('C:/Users/mmaduar/Nextcloud/Genie_Transfer/almera22/user2023/SI2022/SI05622.Chn'),\n  WindowsPath('C:/Users/mmaduar/Nextcloud/Genie_Transfer/almera22/user2023/SI2022/SI05822.Chn'),\n  WindowsPath('C:/Users/mmaduar/Nextcloud/Genie_Transfer/almera22/user2023/SI2022/SI05922.Chn'),\n  WindowsPath('C:/Users/mmaduar/Nextcloud/Genie_Transfer/almera22/user2023/SI2022/SI06122.Chn'),\n  WindowsPath('C:/Users/mmaduar/Nextcloud/Genie_Transfer/almera22/user2023/SI2022/SI06322.Chn'),\n  WindowsPath('C:/Users/mmaduar/Nextcloud/Genie_Transfer/almera22/user2023/SI2022/SI06522.Chn'),\n  WindowsPath('C:/Users/mmaduar/Nextcloud/Genie_Transfer/almera22/user2023/SI2022/SI06722.Chn'),\n  WindowsPath('C:/Users/mmaduar/Nextcloud/Genie_Transfer/almera22/user2023/SI2022/SI06922.Chn'),\n  WindowsPath('C:/Users/mmaduar/Nextcloud/Genie_Transfer/almera22/user2023/SI2022/SI07222.Chn'),\n  WindowsPath('C:/Users/mmaduar/Nextcloud/Genie_Transfer/almera22/user2023/SI2022/SI07322.Chn'),\n  WindowsPath('C:/Users/mmaduar/Nextcloud/Genie_Transfer/almera22/user2023/SI2022/SI07522.Chn'),\n  WindowsPath('C:/Users/mmaduar/Nextcloud/Genie_Transfer/almera22/user2023/SI2022/SI07722.Chn'),\n  WindowsPath('C:/Users/mmaduar/Nextcloud/Genie_Transfer/almera22/user2023/SI2022/SI07922.Chn'),\n  WindowsPath('C:/Users/mmaduar/Nextcloud/Genie_Transfer/almera22/user2023/SI2022/SI08222.Chn'),\n  WindowsPath('C:/Users/mmaduar/Nextcloud/Genie_Transfer/almera22/user2023/SI2022/SI08422.Chn'),\n  WindowsPath('C:/Users/mmaduar/Nextcloud/Genie_Transfer/almera22/user2023/SI2022/SI08522.Chn'),\n  WindowsPath('C:/Users/mmaduar/Nextcloud/Genie_Transfer/almera22/user2023/SI2022/SI08622.Chn'),\n  WindowsPath('C:/Users/mmaduar/Nextcloud/Genie_Transfer/almera22/user2023/SI2022/SI08722.Chn'),\n  WindowsPath('C:/Users/mmaduar/Nextcloud/Genie_Transfer/almera22/user2023/SI2022/SI09122.Chn'),\n  WindowsPath('C:/Users/mmaduar/Nextcloud/Genie_Transfer/almera22/user2023/SI2022/SI09222.Chn'),\n  WindowsPath('C:/Users/mmaduar/Nextcloud/Genie_Transfer/almera22/user2023/SI2022/SI09322.Chn'),\n  WindowsPath('C:/Users/mmaduar/Nextcloud/Genie_Transfer/almera22/user2023/SI2022/SI09422.Chn'),\n  WindowsPath('C:/Users/mmaduar/Nextcloud/Genie_Transfer/almera22/user2023/SI2022/SI09722.Chn'),\n  WindowsPath('C:/Users/mmaduar/Nextcloud/Genie_Transfer/almera22/user2023/SI2022/SI09922.Chn'),\n  WindowsPath('C:/Users/mmaduar/Nextcloud/Genie_Transfer/Filtros/BGFILTRO.Chn'),\n  WindowsPath('C:/Users/mmaduar/Nextcloud/Genie_Transfer/Filtros/Exaustor Dirf 20 julho 2016 SI 09816.Chn'),\n  WindowsPath('C:/Users/mmaduar/Nextcloud/Genie_Transfer/Filtros/FC SAS DIRF 2007.Chn'),\n  WindowsPath('C:/Users/mmaduar/Nextcloud/Genie_Transfer/Filtros/2009/cce/fcce0307.Chn'),\n  WindowsPath('C:/Users/mmaduar/Nextcloud/Genie_Transfer/Filtros/2009/cce/fcce1408.Chn'),\n  WindowsPath('C:/Users/mmaduar/Nextcloud/Genie_Transfer/Filtros/2009/cce/fcce1707.Chn'),\n  WindowsPath('C:/Users/mmaduar/Nextcloud/Genie_Transfer/Filtros/2009/cce/fcce2708.Chn'),\n  WindowsPath('C:/Users/mmaduar/Nextcloud/Genie_Transfer/Filtros/2009/cce/fcce3107.Chn'),\n  WindowsPath('C:/Users/mmaduar/Nextcloud/Genie_Transfer/Filtros/2009/cci/cci0107.Chn'),\n  WindowsPath('C:/Users/mmaduar/Nextcloud/Genie_Transfer/Filtros/2009/cci/cci0209.Chn'),\n  WindowsPath('C:/Users/mmaduar/Nextcloud/Genie_Transfer/Filtros/2009/cci/cci0212.Chn'),\n  WindowsPath('C:/Users/mmaduar/Nextcloud/Genie_Transfer/Filtros/2009/cci/cci0403.Chn'),\n  WindowsPath('C:/Users/mmaduar/Nextcloud/Genie_Transfer/Filtros/2009/cci/cci0406.Chn'),\n  WindowsPath('C:/Users/mmaduar/Nextcloud/Genie_Transfer/Filtros/2009/cci/cci0411.Chn'),\n  WindowsPath('C:/Users/mmaduar/Nextcloud/Genie_Transfer/Filtros/2009/cci/cci0502.Chn'),\n  WindowsPath('C:/Users/mmaduar/Nextcloud/Genie_Transfer/Filtros/2009/cci/cci0508.Chn'),\n  WindowsPath('C:/Users/mmaduar/Nextcloud/Genie_Transfer/Filtros/2009/cci/cci0605.chn'),\n  WindowsPath('C:/Users/mmaduar/Nextcloud/Genie_Transfer/Filtros/2009/cci/cci0701.Chn'),\n  WindowsPath('C:/Users/mmaduar/Nextcloud/Genie_Transfer/Filtros/2009/cci/cci0710.Chn'),\n  WindowsPath('C:/Users/mmaduar/Nextcloud/Genie_Transfer/Filtros/2009/cci/cci0804.Chn'),\n  WindowsPath('C:/Users/mmaduar/Nextcloud/Genie_Transfer/Filtros/2009/cci/cci0807.Chn'),\n  WindowsPath('C:/Users/mmaduar/Nextcloud/Genie_Transfer/Filtros/2009/cci/cci0909.Chn'),\n  WindowsPath('C:/Users/mmaduar/Nextcloud/Genie_Transfer/Filtros/2009/cci/cci0912.Chn'),\n  WindowsPath('C:/Users/mmaduar/Nextcloud/Genie_Transfer/Filtros/2009/cci/cci1006.Chn'),\n  WindowsPath('C:/Users/mmaduar/Nextcloud/Genie_Transfer/Filtros/2009/cci/cci1103.Chn'),\n  WindowsPath('C:/Users/mmaduar/Nextcloud/Genie_Transfer/Filtros/2009/cci/cci1111.Chn'),\n  WindowsPath('C:/Users/mmaduar/Nextcloud/Genie_Transfer/Filtros/2009/cci/cci1208.Chn'),\n  WindowsPath('C:/Users/mmaduar/Nextcloud/Genie_Transfer/Filtros/2009/cci/cci1305.Chn'),\n  WindowsPath('C:/Users/mmaduar/Nextcloud/Genie_Transfer/Filtros/2009/cci/cci1410.Chn'),\n  WindowsPath('C:/Users/mmaduar/Nextcloud/Genie_Transfer/Filtros/2009/cci/cci1504.Chn'),\n  WindowsPath('C:/Users/mmaduar/Nextcloud/Genie_Transfer/Filtros/2009/cci/cci1507.Chn'),\n  WindowsPath('C:/Users/mmaduar/Nextcloud/Genie_Transfer/Filtros/2009/cci/cci1609.Chn'),\n  WindowsPath('C:/Users/mmaduar/Nextcloud/Genie_Transfer/Filtros/2009/cci/cci1706.Chn'),\n  WindowsPath('C:/Users/mmaduar/Nextcloud/Genie_Transfer/Filtros/2009/cci/cci1803.Chn'),\n  WindowsPath('C:/Users/mmaduar/Nextcloud/Genie_Transfer/Filtros/2009/cci/cci1811.Chn'),\n  WindowsPath('C:/Users/mmaduar/Nextcloud/Genie_Transfer/Filtros/2009/cci/cci1908.Chn'),\n  WindowsPath('C:/Users/mmaduar/Nextcloud/Genie_Transfer/Filtros/2009/cci/cci2005.Chn'),\n  WindowsPath('C:/Users/mmaduar/Nextcloud/Genie_Transfer/Filtros/2009/cci/cci2101.Chn'),\n  WindowsPath('C:/Users/mmaduar/Nextcloud/Genie_Transfer/Filtros/2009/cci/cci2110.Chn'),\n  WindowsPath('C:/Users/mmaduar/Nextcloud/Genie_Transfer/Filtros/2009/cci/cci2207.Chn'),\n  WindowsPath('C:/Users/mmaduar/Nextcloud/Genie_Transfer/Filtros/2009/cci/cci2309.Chn'),\n  WindowsPath('C:/Users/mmaduar/Nextcloud/Genie_Transfer/Filtros/2009/cci/cci2406.Chn'),\n  WindowsPath('C:/Users/mmaduar/Nextcloud/Genie_Transfer/Filtros/2009/cci/cci2503.Chn'),\n  WindowsPath('C:/Users/mmaduar/Nextcloud/Genie_Transfer/Filtros/2009/cci/cci2511.Chn'),\n  WindowsPath('C:/Users/mmaduar/Nextcloud/Genie_Transfer/Filtros/2009/cci/cci2608.Chn'),\n  WindowsPath('C:/Users/mmaduar/Nextcloud/Genie_Transfer/Filtros/2009/cci/cci2801.Chn'),\n  WindowsPath('C:/Users/mmaduar/Nextcloud/Genie_Transfer/Filtros/2009/cci/cci2810.Chn'),\n  WindowsPath('C:/Users/mmaduar/Nextcloud/Genie_Transfer/Filtros/2009/cci/cci2907.chn'),\n  WindowsPath('C:/Users/mmaduar/Nextcloud/Genie_Transfer/Filtros/2009/cci/cci2912.Chn'),\n  WindowsPath('C:/Users/mmaduar/Nextcloud/Genie_Transfer/Filtros/2009/cci/cci3103.Chn'),\n  WindowsPath('C:/Users/mmaduar/Nextcloud/Genie_Transfer/Filtros/2009/cci/xxi1006.Chn'),\n  WindowsPath('C:/Users/mmaduar/Nextcloud/Genie_Transfer/Filtros/2009/ces/fces0109.Chn'),\n  WindowsPath('C:/Users/mmaduar/Nextcloud/Genie_Transfer/Filtros/2009/ces/fces0408.Chn'),\n  WindowsPath('C:/Users/mmaduar/Nextcloud/Genie_Transfer/Filtros/2009/ces/fces0707.Chn'),\n  WindowsPath('C:/Users/mmaduar/Nextcloud/Genie_Transfer/Filtros/2009/ces/fces1808.Chn'),\n  WindowsPath('C:/Users/mmaduar/Nextcloud/Genie_Transfer/Filtros/2009/ces/fces2107.Chn'),\n  WindowsPath('C:/Users/mmaduar/Nextcloud/Genie_Transfer/Filtros/2009/crf/crf0210.Chn'),\n  WindowsPath('C:/Users/mmaduar/Nextcloud/Genie_Transfer/Filtros/2009/crf/crf0304.Chn'),\n  WindowsPath('C:/Users/mmaduar/Nextcloud/Genie_Transfer/Filtros/2009/crf/crf0307.Chn'),\n  WindowsPath('C:/Users/mmaduar/Nextcloud/Genie_Transfer/Filtros/2009/crf/crf0409.Chn'),\n  WindowsPath('C:/Users/mmaduar/Nextcloud/Genie_Transfer/Filtros/2009/crf/crf0412.Chn'),\n  WindowsPath('C:/Users/mmaduar/Nextcloud/Genie_Transfer/Filtros/2009/crf/crf0506.Chn'),\n  WindowsPath('C:/Users/mmaduar/Nextcloud/Genie_Transfer/Filtros/2009/crf/crf0602.Chn'),\n  WindowsPath('C:/Users/mmaduar/Nextcloud/Genie_Transfer/Filtros/2009/crf/crf0603.Chn'),\n  WindowsPath('C:/Users/mmaduar/Nextcloud/Genie_Transfer/Filtros/2009/crf/crf0611.Chn'),\n  WindowsPath('C:/Users/mmaduar/Nextcloud/Genie_Transfer/Filtros/2009/crf/crf0708.Chn'),\n  WindowsPath('C:/Users/mmaduar/Nextcloud/Genie_Transfer/Filtros/2009/crf/crf0901.Chn'),\n  WindowsPath('C:/Users/mmaduar/Nextcloud/Genie_Transfer/Filtros/2009/crf/crf0904.Chn'),\n  WindowsPath('C:/Users/mmaduar/Nextcloud/Genie_Transfer/Filtros/2009/crf/crf0910.Chn'),\n  WindowsPath('C:/Users/mmaduar/Nextcloud/Genie_Transfer/Filtros/2009/crf/crf1007.Chn'),\n  WindowsPath('C:/Users/mmaduar/Nextcloud/Genie_Transfer/Filtros/2009/crf/crf1109.Chn'),\n  WindowsPath('C:/Users/mmaduar/Nextcloud/Genie_Transfer/Filtros/2009/crf/crf1112.Chn'),\n  WindowsPath('C:/Users/mmaduar/Nextcloud/Genie_Transfer/Filtros/2009/crf/crf1206.Chn'),\n  WindowsPath('C:/Users/mmaduar/Nextcloud/Genie_Transfer/Filtros/2009/crf/crf1302.Chn'),\n  WindowsPath('C:/Users/mmaduar/Nextcloud/Genie_Transfer/Filtros/2009/crf/crf1303.Chn'),\n  WindowsPath('C:/Users/mmaduar/Nextcloud/Genie_Transfer/Filtros/2009/crf/crf1311.Chn'),\n  WindowsPath('C:/Users/mmaduar/Nextcloud/Genie_Transfer/Filtros/2009/crf/crf1408.Chn'),\n  WindowsPath('C:/Users/mmaduar/Nextcloud/Genie_Transfer/Filtros/2009/crf/crf1505.Chn'),\n  WindowsPath('C:/Users/mmaduar/Nextcloud/Genie_Transfer/Filtros/2009/crf/crf15052.Chn'),\n  WindowsPath('C:/Users/mmaduar/Nextcloud/Genie_Transfer/Filtros/2009/crf/crf1601.Chn'),\n  WindowsPath('C:/Users/mmaduar/Nextcloud/Genie_Transfer/Filtros/2009/crf/crf1610.Chn'),\n  WindowsPath('C:/Users/mmaduar/Nextcloud/Genie_Transfer/Filtros/2009/crf/crf1704.Chn'),\n  WindowsPath('C:/Users/mmaduar/Nextcloud/Genie_Transfer/Filtros/2009/crf/crf1707.chn'),\n  WindowsPath('C:/Users/mmaduar/Nextcloud/Genie_Transfer/Filtros/2009/crf/crf1809.Chn'),\n  WindowsPath('C:/Users/mmaduar/Nextcloud/Genie_Transfer/Filtros/2009/crf/crf1812.Chn'),\n  WindowsPath('C:/Users/mmaduar/Nextcloud/Genie_Transfer/Filtros/2009/crf/crf1906.Chn'),\n  WindowsPath('C:/Users/mmaduar/Nextcloud/Genie_Transfer/Filtros/2009/crf/crf1911.Chn'),\n  WindowsPath('C:/Users/mmaduar/Nextcloud/Genie_Transfer/Filtros/2009/crf/crf2002.Chn'),\n  WindowsPath('C:/Users/mmaduar/Nextcloud/Genie_Transfer/Filtros/2009/crf/crf2003.Chn'),\n  WindowsPath('C:/Users/mmaduar/Nextcloud/Genie_Transfer/Filtros/2009/crf/crf2108.Chn'),\n  WindowsPath('C:/Users/mmaduar/Nextcloud/Genie_Transfer/Filtros/2009/crf/crf2205.Chn'),\n  WindowsPath('C:/Users/mmaduar/Nextcloud/Genie_Transfer/Filtros/2009/crf/crf2301.Chn'),\n  WindowsPath('C:/Users/mmaduar/Nextcloud/Genie_Transfer/Filtros/2009/crf/crf2310.Chn'),\n  WindowsPath('C:/Users/mmaduar/Nextcloud/Genie_Transfer/Filtros/2009/crf/crf2312.Chn'),\n  WindowsPath('C:/Users/mmaduar/Nextcloud/Genie_Transfer/Filtros/2009/crf/crf2404.Chn'),\n  WindowsPath('C:/Users/mmaduar/Nextcloud/Genie_Transfer/Filtros/2009/crf/crf2407.Chn'),\n  WindowsPath('C:/Users/mmaduar/Nextcloud/Genie_Transfer/Filtros/2009/crf/crf2509.Chn'),\n  WindowsPath('C:/Users/mmaduar/Nextcloud/Genie_Transfer/Filtros/2009/crf/crf2606.Chn'),\n  WindowsPath('C:/Users/mmaduar/Nextcloud/Genie_Transfer/Filtros/2009/crf/crf2702.Chn'),\n  WindowsPath('C:/Users/mmaduar/Nextcloud/Genie_Transfer/Filtros/2009/crf/crf2703.Chn'),\n  WindowsPath('C:/Users/mmaduar/Nextcloud/Genie_Transfer/Filtros/2009/crf/crf2711.Chn'),\n  WindowsPath('C:/Users/mmaduar/Nextcloud/Genie_Transfer/Filtros/2009/crf/crf2808.Chn'),\n  WindowsPath('C:/Users/mmaduar/Nextcloud/Genie_Transfer/Filtros/2009/crf/crf2905.Chn'),\n  WindowsPath('C:/Users/mmaduar/Nextcloud/Genie_Transfer/Filtros/2009/crf/crf3001.Chn'),\n  WindowsPath('C:/Users/mmaduar/Nextcloud/Genie_Transfer/Filtros/2009/crf/crf3004.Chn'),\n  WindowsPath('C:/Users/mmaduar/Nextcloud/Genie_Transfer/Filtros/2009/crf/crf3010.Chn'),\n  WindowsPath('C:/Users/mmaduar/Nextcloud/Genie_Transfer/Filtros/2009/crf/crf3107.Chn'),\n  WindowsPath('C:/Users/mmaduar/Nextcloud/Genie_Transfer/Filtros/2009/crn/crn0210.Chn'),\n  WindowsPath('C:/Users/mmaduar/Nextcloud/Genie_Transfer/Filtros/2009/crn/crn0304.Chn'),\n  WindowsPath('C:/Users/mmaduar/Nextcloud/Genie_Transfer/Filtros/2009/crn/crn0307.Chn'),\n  WindowsPath('C:/Users/mmaduar/Nextcloud/Genie_Transfer/Filtros/2009/crn/crn0409.Chn'),\n  WindowsPath('C:/Users/mmaduar/Nextcloud/Genie_Transfer/Filtros/2009/crn/crn0412.Chn'),\n  WindowsPath('C:/Users/mmaduar/Nextcloud/Genie_Transfer/Filtros/2009/crn/crn0506.Chn'),\n  WindowsPath('C:/Users/mmaduar/Nextcloud/Genie_Transfer/Filtros/2009/crn/crn0602.Chn'),\n  WindowsPath('C:/Users/mmaduar/Nextcloud/Genie_Transfer/Filtros/2009/crn/crn0603.Chn'),\n  WindowsPath('C:/Users/mmaduar/Nextcloud/Genie_Transfer/Filtros/2009/crn/crn0611.Chn'),\n  WindowsPath('C:/Users/mmaduar/Nextcloud/Genie_Transfer/Filtros/2009/crn/crn0708.Chn'),\n  WindowsPath('C:/Users/mmaduar/Nextcloud/Genie_Transfer/Filtros/2009/crn/crn0805.Chn'),\n  WindowsPath('C:/Users/mmaduar/Nextcloud/Genie_Transfer/Filtros/2009/crn/crn0901.Chn'),\n  WindowsPath('C:/Users/mmaduar/Nextcloud/Genie_Transfer/Filtros/2009/crn/crn0904.Chn'),\n  WindowsPath('C:/Users/mmaduar/Nextcloud/Genie_Transfer/Filtros/2009/crn/crn0910.Chn'),\n  WindowsPath('C:/Users/mmaduar/Nextcloud/Genie_Transfer/Filtros/2009/crn/crn1007.Chn'),\n  WindowsPath('C:/Users/mmaduar/Nextcloud/Genie_Transfer/Filtros/2009/crn/crn1109.Chn'),\n  WindowsPath('C:/Users/mmaduar/Nextcloud/Genie_Transfer/Filtros/2009/crn/crn1112.Chn'),\n  WindowsPath('C:/Users/mmaduar/Nextcloud/Genie_Transfer/Filtros/2009/crn/crn1206.Chn'),\n  WindowsPath('C:/Users/mmaduar/Nextcloud/Genie_Transfer/Filtros/2009/crn/crn1302.Chn'),\n  WindowsPath('C:/Users/mmaduar/Nextcloud/Genie_Transfer/Filtros/2009/crn/crn1303.Chn'),\n  WindowsPath('C:/Users/mmaduar/Nextcloud/Genie_Transfer/Filtros/2009/crn/crn1311.Chn'),\n  WindowsPath('C:/Users/mmaduar/Nextcloud/Genie_Transfer/Filtros/2009/crn/crn1408.Chn'),\n  WindowsPath('C:/Users/mmaduar/Nextcloud/Genie_Transfer/Filtros/2009/crn/crn1505.Chn'),\n  WindowsPath('C:/Users/mmaduar/Nextcloud/Genie_Transfer/Filtros/2009/crn/crn1601.Chn'),\n  WindowsPath('C:/Users/mmaduar/Nextcloud/Genie_Transfer/Filtros/2009/crn/crn1610.Chn'),\n  WindowsPath('C:/Users/mmaduar/Nextcloud/Genie_Transfer/Filtros/2009/crn/crn1704.Chn'),\n  WindowsPath('C:/Users/mmaduar/Nextcloud/Genie_Transfer/Filtros/2009/crn/crn1707.Chn'),\n  WindowsPath('C:/Users/mmaduar/Nextcloud/Genie_Transfer/Filtros/2009/crn/crn1809.Chn'),\n  WindowsPath('C:/Users/mmaduar/Nextcloud/Genie_Transfer/Filtros/2009/crn/crn1812.Chn'),\n  WindowsPath('C:/Users/mmaduar/Nextcloud/Genie_Transfer/Filtros/2009/crn/crn1906.Chn'),\n  WindowsPath('C:/Users/mmaduar/Nextcloud/Genie_Transfer/Filtros/2009/crn/crn1911.Chn'),\n  WindowsPath('C:/Users/mmaduar/Nextcloud/Genie_Transfer/Filtros/2009/crn/crn2002.Chn'),\n  WindowsPath('C:/Users/mmaduar/Nextcloud/Genie_Transfer/Filtros/2009/crn/crn2003.Chn'),\n  WindowsPath('C:/Users/mmaduar/Nextcloud/Genie_Transfer/Filtros/2009/crn/crn2108.Chn'),\n  WindowsPath('C:/Users/mmaduar/Nextcloud/Genie_Transfer/Filtros/2009/crn/crn2205.Chn'),\n  WindowsPath('C:/Users/mmaduar/Nextcloud/Genie_Transfer/Filtros/2009/crn/crn2301.Chn'),\n  WindowsPath('C:/Users/mmaduar/Nextcloud/Genie_Transfer/Filtros/2009/crn/crn2310.Chn'),\n  WindowsPath('C:/Users/mmaduar/Nextcloud/Genie_Transfer/Filtros/2009/crn/crn2312.Chn'),\n  WindowsPath('C:/Users/mmaduar/Nextcloud/Genie_Transfer/Filtros/2009/crn/crn2404.Chn'),\n  WindowsPath('C:/Users/mmaduar/Nextcloud/Genie_Transfer/Filtros/2009/crn/CRN2407.CHN'),\n  WindowsPath('C:/Users/mmaduar/Nextcloud/Genie_Transfer/Filtros/2009/crn/crn2509.Chn'),\n  WindowsPath('C:/Users/mmaduar/Nextcloud/Genie_Transfer/Filtros/2009/crn/CRN2606.Chn'),\n  WindowsPath('C:/Users/mmaduar/Nextcloud/Genie_Transfer/Filtros/2009/crn/crn2702.Chn'),\n  WindowsPath('C:/Users/mmaduar/Nextcloud/Genie_Transfer/Filtros/2009/crn/crn2703.Chn'),\n  WindowsPath('C:/Users/mmaduar/Nextcloud/Genie_Transfer/Filtros/2009/crn/crn2711.Chn'),\n  WindowsPath('C:/Users/mmaduar/Nextcloud/Genie_Transfer/Filtros/2009/crn/crn2808.Chn'),\n  WindowsPath('C:/Users/mmaduar/Nextcloud/Genie_Transfer/Filtros/2009/crn/crn2905.Chn'),\n  WindowsPath('C:/Users/mmaduar/Nextcloud/Genie_Transfer/Filtros/2009/crn/crn3001.Chn'),\n  WindowsPath('C:/Users/mmaduar/Nextcloud/Genie_Transfer/Filtros/2009/crn/crn3004.Chn'),\n  WindowsPath('C:/Users/mmaduar/Nextcloud/Genie_Transfer/Filtros/2009/crn/crn3010.Chn'),\n  WindowsPath('C:/Users/mmaduar/Nextcloud/Genie_Transfer/Filtros/2009/crn/crn3107.chn'),\n  WindowsPath('C:/Users/mmaduar/Nextcloud/Genie_Transfer/Filtros/2009/ctp/ctp0201.Chn'),\n  WindowsPath('C:/Users/mmaduar/Nextcloud/Genie_Transfer/Filtros/2009/ctp/ctp0210.Chn'),\n  WindowsPath('C:/Users/mmaduar/Nextcloud/Genie_Transfer/Filtros/2009/ctp/ctp0304.Chn'),\n  WindowsPath('C:/Users/mmaduar/Nextcloud/Genie_Transfer/Filtros/2009/ctp/ctp0307.Chn'),\n  WindowsPath('C:/Users/mmaduar/Nextcloud/Genie_Transfer/Filtros/2009/ctp/ctp0409.Chn'),\n  WindowsPath('C:/Users/mmaduar/Nextcloud/Genie_Transfer/Filtros/2009/ctp/ctp0412.Chn'),\n  WindowsPath('C:/Users/mmaduar/Nextcloud/Genie_Transfer/Filtros/2009/ctp/ctp0506.Chn'),\n  WindowsPath('C:/Users/mmaduar/Nextcloud/Genie_Transfer/Filtros/2009/ctp/ctp0602.Chn'),\n  WindowsPath('C:/Users/mmaduar/Nextcloud/Genie_Transfer/Filtros/2009/ctp/ctp0603.Chn'),\n  WindowsPath('C:/Users/mmaduar/Nextcloud/Genie_Transfer/Filtros/2009/ctp/ctp0611.Chn'),\n  WindowsPath('C:/Users/mmaduar/Nextcloud/Genie_Transfer/Filtros/2009/ctp/ctp0708.Chn'),\n  WindowsPath('C:/Users/mmaduar/Nextcloud/Genie_Transfer/Filtros/2009/ctp/ctp0901.Chn'),\n  WindowsPath('C:/Users/mmaduar/Nextcloud/Genie_Transfer/Filtros/2009/ctp/ctp0904.Chn'),\n  WindowsPath('C:/Users/mmaduar/Nextcloud/Genie_Transfer/Filtros/2009/ctp/ctp0910.Chn'),\n  WindowsPath('C:/Users/mmaduar/Nextcloud/Genie_Transfer/Filtros/2009/ctp/ctp1007.Chn'),\n  WindowsPath('C:/Users/mmaduar/Nextcloud/Genie_Transfer/Filtros/2009/ctp/ctp1109.Chn'),\n  WindowsPath('C:/Users/mmaduar/Nextcloud/Genie_Transfer/Filtros/2009/ctp/ctp1112.Chn'),\n  WindowsPath('C:/Users/mmaduar/Nextcloud/Genie_Transfer/Filtros/2009/ctp/ctp1206.Chn'),\n  WindowsPath('C:/Users/mmaduar/Nextcloud/Genie_Transfer/Filtros/2009/ctp/ctp1302.Chn'),\n  WindowsPath('C:/Users/mmaduar/Nextcloud/Genie_Transfer/Filtros/2009/ctp/ctp1303.Chn'),\n  WindowsPath('C:/Users/mmaduar/Nextcloud/Genie_Transfer/Filtros/2009/ctp/ctp1311.Chn'),\n  WindowsPath('C:/Users/mmaduar/Nextcloud/Genie_Transfer/Filtros/2009/ctp/ctp1408.Chn'),\n  WindowsPath('C:/Users/mmaduar/Nextcloud/Genie_Transfer/Filtros/2009/ctp/ctp1505.Chn'),\n  WindowsPath('C:/Users/mmaduar/Nextcloud/Genie_Transfer/Filtros/2009/ctp/ctp15052.Chn'),\n  WindowsPath('C:/Users/mmaduar/Nextcloud/Genie_Transfer/Filtros/2009/ctp/ctp1601.Chn'),\n  WindowsPath('C:/Users/mmaduar/Nextcloud/Genie_Transfer/Filtros/2009/ctp/ctp1610.Chn'),\n  WindowsPath('C:/Users/mmaduar/Nextcloud/Genie_Transfer/Filtros/2009/ctp/ctp1704.Chn'),\n  WindowsPath('C:/Users/mmaduar/Nextcloud/Genie_Transfer/Filtros/2009/ctp/ctp1707.chn'),\n  WindowsPath('C:/Users/mmaduar/Nextcloud/Genie_Transfer/Filtros/2009/ctp/ctp1809.Chn'),\n  WindowsPath('C:/Users/mmaduar/Nextcloud/Genie_Transfer/Filtros/2009/ctp/ctp1812.Chn'),\n  WindowsPath('C:/Users/mmaduar/Nextcloud/Genie_Transfer/Filtros/2009/ctp/ctp1906.Chn'),\n  WindowsPath('C:/Users/mmaduar/Nextcloud/Genie_Transfer/Filtros/2009/ctp/ctp1911.Chn'),\n  WindowsPath('C:/Users/mmaduar/Nextcloud/Genie_Transfer/Filtros/2009/ctp/ctp2002.Chn'),\n  WindowsPath('C:/Users/mmaduar/Nextcloud/Genie_Transfer/Filtros/2009/ctp/ctp2003.Chn'),\n  WindowsPath('C:/Users/mmaduar/Nextcloud/Genie_Transfer/Filtros/2009/ctp/ctp2108.Chn'),\n  WindowsPath('C:/Users/mmaduar/Nextcloud/Genie_Transfer/Filtros/2009/ctp/ctp2205.Chn'),\n  WindowsPath('C:/Users/mmaduar/Nextcloud/Genie_Transfer/Filtros/2009/ctp/ctp2301.Chn'),\n  WindowsPath('C:/Users/mmaduar/Nextcloud/Genie_Transfer/Filtros/2009/ctp/ctp2310.Chn'),\n  WindowsPath('C:/Users/mmaduar/Nextcloud/Genie_Transfer/Filtros/2009/ctp/ctp2312.Chn'),\n  WindowsPath('C:/Users/mmaduar/Nextcloud/Genie_Transfer/Filtros/2009/ctp/ctp2404.Chn'),\n  WindowsPath('C:/Users/mmaduar/Nextcloud/Genie_Transfer/Filtros/2009/ctp/ctp2407.Chn'),\n  WindowsPath('C:/Users/mmaduar/Nextcloud/Genie_Transfer/Filtros/2009/ctp/ctp2509.Chn'),\n  WindowsPath('C:/Users/mmaduar/Nextcloud/Genie_Transfer/Filtros/2009/ctp/ctp2606.Chn'),\n  WindowsPath('C:/Users/mmaduar/Nextcloud/Genie_Transfer/Filtros/2009/ctp/ctp2702.Chn'),\n  WindowsPath('C:/Users/mmaduar/Nextcloud/Genie_Transfer/Filtros/2009/ctp/ctp2703.Chn'),\n  WindowsPath('C:/Users/mmaduar/Nextcloud/Genie_Transfer/Filtros/2009/ctp/ctp2711.Chn'),\n  WindowsPath('C:/Users/mmaduar/Nextcloud/Genie_Transfer/Filtros/2009/ctp/ctp2808.Chn'),\n  WindowsPath('C:/Users/mmaduar/Nextcloud/Genie_Transfer/Filtros/2009/ctp/ctp2905.Chn'),\n  WindowsPath('C:/Users/mmaduar/Nextcloud/Genie_Transfer/Filtros/2009/ctp/ctp3001.Chn'),\n  WindowsPath('C:/Users/mmaduar/Nextcloud/Genie_Transfer/Filtros/2009/ctp/ctp3004.Chn'),\n  WindowsPath('C:/Users/mmaduar/Nextcloud/Genie_Transfer/Filtros/2009/ctp/ctp3010.Chn'),\n  WindowsPath('C:/Users/mmaduar/Nextcloud/Genie_Transfer/Filtros/2009/ctp/ctp3107.Chn'),\n  WindowsPath('C:/Users/mmaduar/Nextcloud/Genie_Transfer/Filtros/2009/ctr/fctr0409.Chn'),\n  WindowsPath('C:/Users/mmaduar/Nextcloud/Genie_Transfer/Filtros/2009/ctr/fctr0708.Chn'),\n  WindowsPath('C:/Users/mmaduar/Nextcloud/Genie_Transfer/Filtros/2009/ctr/fctr1007.Chn'),\n  WindowsPath('C:/Users/mmaduar/Nextcloud/Genie_Transfer/Filtros/2009/ctr/fctr2108.Chn'),\n  WindowsPath('C:/Users/mmaduar/Nextcloud/Genie_Transfer/Filtros/2009/ctr/fctr2407.Chn'),\n  WindowsPath('C:/Users/mmaduar/Nextcloud/Genie_Transfer/Filtros/2009/pci/pci0107.Chn'),\n  WindowsPath('C:/Users/mmaduar/Nextcloud/Genie_Transfer/Filtros/2009/pci/pci0209.Chn'),\n  WindowsPath('C:/Users/mmaduar/Nextcloud/Genie_Transfer/Filtros/2009/pci/pci0212.Chn'),\n  WindowsPath('C:/Users/mmaduar/Nextcloud/Genie_Transfer/Filtros/2009/pci/pci0403.Chn'),\n  WindowsPath('C:/Users/mmaduar/Nextcloud/Genie_Transfer/Filtros/2009/pci/pci0406.Chn'),\n  WindowsPath('C:/Users/mmaduar/Nextcloud/Genie_Transfer/Filtros/2009/pci/pci0411.Chn'),\n  WindowsPath('C:/Users/mmaduar/Nextcloud/Genie_Transfer/Filtros/2009/pci/pci0502.Chn'),\n  WindowsPath('C:/Users/mmaduar/Nextcloud/Genie_Transfer/Filtros/2009/pci/pci0508.Chn'),\n  WindowsPath('C:/Users/mmaduar/Nextcloud/Genie_Transfer/Filtros/2009/pci/pci0605.Chn'),\n  WindowsPath('C:/Users/mmaduar/Nextcloud/Genie_Transfer/Filtros/2009/pci/pci0701.Chn'),\n  WindowsPath('C:/Users/mmaduar/Nextcloud/Genie_Transfer/Filtros/2009/pci/pci0710.Chn'),\n  WindowsPath('C:/Users/mmaduar/Nextcloud/Genie_Transfer/Filtros/2009/pci/pci0804.Chn'),\n  WindowsPath('C:/Users/mmaduar/Nextcloud/Genie_Transfer/Filtros/2009/pci/pci0807.Chn'),\n  WindowsPath('C:/Users/mmaduar/Nextcloud/Genie_Transfer/Filtros/2009/pci/pci0909.Chn'),\n  WindowsPath('C:/Users/mmaduar/Nextcloud/Genie_Transfer/Filtros/2009/pci/pci0912.Chn'),\n  WindowsPath('C:/Users/mmaduar/Nextcloud/Genie_Transfer/Filtros/2009/pci/pci1006.Chn'),\n  WindowsPath('C:/Users/mmaduar/Nextcloud/Genie_Transfer/Filtros/2009/pci/pci1103.Chn'),\n  WindowsPath('C:/Users/mmaduar/Nextcloud/Genie_Transfer/Filtros/2009/pci/pci1111.Chn'),\n  WindowsPath('C:/Users/mmaduar/Nextcloud/Genie_Transfer/Filtros/2009/pci/pci1208.Chn'),\n  WindowsPath('C:/Users/mmaduar/Nextcloud/Genie_Transfer/Filtros/2009/pci/pci1305.Chn'),\n  WindowsPath('C:/Users/mmaduar/Nextcloud/Genie_Transfer/Filtros/2009/pci/pci1410.Chn'),\n  WindowsPath('C:/Users/mmaduar/Nextcloud/Genie_Transfer/Filtros/2009/pci/pci1504.Chn'),\n  WindowsPath('C:/Users/mmaduar/Nextcloud/Genie_Transfer/Filtros/2009/pci/pci1507.Chn'),\n  WindowsPath('C:/Users/mmaduar/Nextcloud/Genie_Transfer/Filtros/2009/pci/pci1609.Chn'),\n  WindowsPath('C:/Users/mmaduar/Nextcloud/Genie_Transfer/Filtros/2009/pci/PCI1706.Chn'),\n  WindowsPath('C:/Users/mmaduar/Nextcloud/Genie_Transfer/Filtros/2009/pci/pci1803.Chn'),\n  WindowsPath('C:/Users/mmaduar/Nextcloud/Genie_Transfer/Filtros/2009/pci/pci1811.Chn'),\n  WindowsPath('C:/Users/mmaduar/Nextcloud/Genie_Transfer/Filtros/2009/pci/pci1908.Chn'),\n  WindowsPath('C:/Users/mmaduar/Nextcloud/Genie_Transfer/Filtros/2009/pci/pci2005.Chn'),\n  WindowsPath('C:/Users/mmaduar/Nextcloud/Genie_Transfer/Filtros/2009/pci/pci2101.Chn'),\n  WindowsPath('C:/Users/mmaduar/Nextcloud/Genie_Transfer/Filtros/2009/pci/pci2110.Chn'),\n  WindowsPath('C:/Users/mmaduar/Nextcloud/Genie_Transfer/Filtros/2009/pci/pci2207.Chn'),\n  WindowsPath('C:/Users/mmaduar/Nextcloud/Genie_Transfer/Filtros/2009/pci/pci2309.Chn'),\n  WindowsPath('C:/Users/mmaduar/Nextcloud/Genie_Transfer/Filtros/2009/pci/pci2406.Chn'),\n  WindowsPath('C:/Users/mmaduar/Nextcloud/Genie_Transfer/Filtros/2009/pci/pci2503.Chn'),\n  WindowsPath('C:/Users/mmaduar/Nextcloud/Genie_Transfer/Filtros/2009/pci/pci2511.Chn'),\n  WindowsPath('C:/Users/mmaduar/Nextcloud/Genie_Transfer/Filtros/2009/pci/pci2608.Chn'),\n  WindowsPath('C:/Users/mmaduar/Nextcloud/Genie_Transfer/Filtros/2009/pci/pci2801.Chn'),\n  WindowsPath('C:/Users/mmaduar/Nextcloud/Genie_Transfer/Filtros/2009/pci/pci2810.Chn'),\n  WindowsPath('C:/Users/mmaduar/Nextcloud/Genie_Transfer/Filtros/2009/pci/pci2907.chn'),\n  WindowsPath('C:/Users/mmaduar/Nextcloud/Genie_Transfer/Filtros/2009/pci/pci2912.Chn'),\n  WindowsPath('C:/Users/mmaduar/Nextcloud/Genie_Transfer/Filtros/2009/pci/pci3103.Chn'),\n  WindowsPath('C:/Users/mmaduar/Nextcloud/Genie_Transfer/Filtros/2009/prf/prf0210.Chn'),\n  WindowsPath('C:/Users/mmaduar/Nextcloud/Genie_Transfer/Filtros/2009/prf/prf0304.Chn'),\n  WindowsPath('C:/Users/mmaduar/Nextcloud/Genie_Transfer/Filtros/2009/prf/prf0307.Chn'),\n  WindowsPath('C:/Users/mmaduar/Nextcloud/Genie_Transfer/Filtros/2009/prf/prf0409.Chn'),\n  WindowsPath('C:/Users/mmaduar/Nextcloud/Genie_Transfer/Filtros/2009/prf/prf0412.Chn'),\n  WindowsPath('C:/Users/mmaduar/Nextcloud/Genie_Transfer/Filtros/2009/prf/prf0506.Chn'),\n  WindowsPath('C:/Users/mmaduar/Nextcloud/Genie_Transfer/Filtros/2009/prf/prf0602.Chn'),\n  WindowsPath('C:/Users/mmaduar/Nextcloud/Genie_Transfer/Filtros/2009/prf/prf0603.Chn'),\n  WindowsPath('C:/Users/mmaduar/Nextcloud/Genie_Transfer/Filtros/2009/prf/prf0611.Chn'),\n  WindowsPath('C:/Users/mmaduar/Nextcloud/Genie_Transfer/Filtros/2009/prf/prf0708.Chn'),\n  WindowsPath('C:/Users/mmaduar/Nextcloud/Genie_Transfer/Filtros/2009/prf/prf0805.Chn'),\n  WindowsPath('C:/Users/mmaduar/Nextcloud/Genie_Transfer/Filtros/2009/prf/prf0904.Chn'),\n  WindowsPath('C:/Users/mmaduar/Nextcloud/Genie_Transfer/Filtros/2009/prf/prf0910.Chn'),\n  WindowsPath('C:/Users/mmaduar/Nextcloud/Genie_Transfer/Filtros/2009/prf/prf1007.Chn'),\n  WindowsPath('C:/Users/mmaduar/Nextcloud/Genie_Transfer/Filtros/2009/prf/prf1109.Chn'),\n  WindowsPath('C:/Users/mmaduar/Nextcloud/Genie_Transfer/Filtros/2009/prf/prf1112.Chn'),\n  WindowsPath('C:/Users/mmaduar/Nextcloud/Genie_Transfer/Filtros/2009/prf/prf1206.Chn'),\n  WindowsPath('C:/Users/mmaduar/Nextcloud/Genie_Transfer/Filtros/2009/prf/prf1302.Chn'),\n  WindowsPath('C:/Users/mmaduar/Nextcloud/Genie_Transfer/Filtros/2009/prf/prf1303.Chn'),\n  WindowsPath('C:/Users/mmaduar/Nextcloud/Genie_Transfer/Filtros/2009/prf/prf1311.Chn'),\n  WindowsPath('C:/Users/mmaduar/Nextcloud/Genie_Transfer/Filtros/2009/prf/prf1408.Chn'),\n  WindowsPath('C:/Users/mmaduar/Nextcloud/Genie_Transfer/Filtros/2009/prf/prf1505.chn'),\n  WindowsPath('C:/Users/mmaduar/Nextcloud/Genie_Transfer/Filtros/2009/prf/prf1601.Chn'),\n  WindowsPath('C:/Users/mmaduar/Nextcloud/Genie_Transfer/Filtros/2009/prf/prf1610.Chn'),\n  WindowsPath('C:/Users/mmaduar/Nextcloud/Genie_Transfer/Filtros/2009/prf/prf1704.Chn'),\n  WindowsPath('C:/Users/mmaduar/Nextcloud/Genie_Transfer/Filtros/2009/prf/prf1707.chn'),\n  WindowsPath('C:/Users/mmaduar/Nextcloud/Genie_Transfer/Filtros/2009/prf/prf1809.Chn'),\n  WindowsPath('C:/Users/mmaduar/Nextcloud/Genie_Transfer/Filtros/2009/prf/prf1812.Chn'),\n  WindowsPath('C:/Users/mmaduar/Nextcloud/Genie_Transfer/Filtros/2009/prf/prf1906.Chn'),\n  WindowsPath('C:/Users/mmaduar/Nextcloud/Genie_Transfer/Filtros/2009/prf/prf1911.Chn'),\n  WindowsPath('C:/Users/mmaduar/Nextcloud/Genie_Transfer/Filtros/2009/prf/PRF2002.Chn'),\n  WindowsPath('C:/Users/mmaduar/Nextcloud/Genie_Transfer/Filtros/2009/prf/prf2003.Chn'),\n  WindowsPath('C:/Users/mmaduar/Nextcloud/Genie_Transfer/Filtros/2009/prf/prf2108.Chn'),\n  WindowsPath('C:/Users/mmaduar/Nextcloud/Genie_Transfer/Filtros/2009/prf/prf2205.Chn'),\n  WindowsPath('C:/Users/mmaduar/Nextcloud/Genie_Transfer/Filtros/2009/prf/prf2301.Chn'),\n  WindowsPath('C:/Users/mmaduar/Nextcloud/Genie_Transfer/Filtros/2009/prf/prf2310.Chn'),\n  WindowsPath('C:/Users/mmaduar/Nextcloud/Genie_Transfer/Filtros/2009/prf/prf2312.Chn'),\n  WindowsPath('C:/Users/mmaduar/Nextcloud/Genie_Transfer/Filtros/2009/prf/prf2404.Chn'),\n  WindowsPath('C:/Users/mmaduar/Nextcloud/Genie_Transfer/Filtros/2009/prf/prf2407.chn'),\n  WindowsPath('C:/Users/mmaduar/Nextcloud/Genie_Transfer/Filtros/2009/prf/prf2509.Chn'),\n  WindowsPath('C:/Users/mmaduar/Nextcloud/Genie_Transfer/Filtros/2009/prf/prf2606.Chn'),\n  WindowsPath('C:/Users/mmaduar/Nextcloud/Genie_Transfer/Filtros/2009/prf/prf2702.Chn'),\n  WindowsPath('C:/Users/mmaduar/Nextcloud/Genie_Transfer/Filtros/2009/prf/prf2703.Chn'),\n  WindowsPath('C:/Users/mmaduar/Nextcloud/Genie_Transfer/Filtros/2009/prf/prf2711.Chn'),\n  WindowsPath('C:/Users/mmaduar/Nextcloud/Genie_Transfer/Filtros/2009/prf/prf2808.Chn'),\n  WindowsPath('C:/Users/mmaduar/Nextcloud/Genie_Transfer/Filtros/2009/prf/prf2905.chn'),\n  WindowsPath('C:/Users/mmaduar/Nextcloud/Genie_Transfer/Filtros/2009/prf/prf3001.Chn'),\n  WindowsPath('C:/Users/mmaduar/Nextcloud/Genie_Transfer/Filtros/2009/prf/prf3004.Chn'),\n  WindowsPath('C:/Users/mmaduar/Nextcloud/Genie_Transfer/Filtros/2009/prf/prf3010.Chn'),\n  WindowsPath('C:/Users/mmaduar/Nextcloud/Genie_Transfer/Filtros/2009/prf/prf3107.Chn'),\n  WindowsPath('C:/Users/mmaduar/Nextcloud/Genie_Transfer/Filtros/2009/ptp/ptp0304.Chn'),\n  WindowsPath('C:/Users/mmaduar/Nextcloud/Genie_Transfer/Filtros/2009/ptp/ptp0307.Chn'),\n  WindowsPath('C:/Users/mmaduar/Nextcloud/Genie_Transfer/Filtros/2009/ptp/ptp0409.Chn'),\n  WindowsPath('C:/Users/mmaduar/Nextcloud/Genie_Transfer/Filtros/2009/ptp/ptp0412.Chn'),\n  WindowsPath('C:/Users/mmaduar/Nextcloud/Genie_Transfer/Filtros/2009/ptp/ptp0506.Chn'),\n  WindowsPath('C:/Users/mmaduar/Nextcloud/Genie_Transfer/Filtros/2009/ptp/ptp0602.Chn'),\n  WindowsPath('C:/Users/mmaduar/Nextcloud/Genie_Transfer/Filtros/2009/ptp/ptp0603.Chn'),\n  WindowsPath('C:/Users/mmaduar/Nextcloud/Genie_Transfer/Filtros/2009/ptp/ptp0611.Chn'),\n  WindowsPath('C:/Users/mmaduar/Nextcloud/Genie_Transfer/Filtros/2009/ptp/ptp0708.Chn'),\n  WindowsPath('C:/Users/mmaduar/Nextcloud/Genie_Transfer/Filtros/2009/ptp/ptp0805.Chn'),\n  WindowsPath('C:/Users/mmaduar/Nextcloud/Genie_Transfer/Filtros/2009/ptp/ptp0901.Chn'),\n  WindowsPath('C:/Users/mmaduar/Nextcloud/Genie_Transfer/Filtros/2009/ptp/ptp0904.Chn'),\n  WindowsPath('C:/Users/mmaduar/Nextcloud/Genie_Transfer/Filtros/2009/ptp/ptp0910.Chn'),\n  WindowsPath('C:/Users/mmaduar/Nextcloud/Genie_Transfer/Filtros/2009/ptp/ptp1007.Chn'),\n  WindowsPath('C:/Users/mmaduar/Nextcloud/Genie_Transfer/Filtros/2009/ptp/ptp1109.Chn'),\n  WindowsPath('C:/Users/mmaduar/Nextcloud/Genie_Transfer/Filtros/2009/ptp/ptp1112.Chn'),\n  WindowsPath('C:/Users/mmaduar/Nextcloud/Genie_Transfer/Filtros/2009/ptp/ptp1206.Chn'),\n  WindowsPath('C:/Users/mmaduar/Nextcloud/Genie_Transfer/Filtros/2009/ptp/ptp1302.Chn'),\n  WindowsPath('C:/Users/mmaduar/Nextcloud/Genie_Transfer/Filtros/2009/ptp/ptp1303.Chn'),\n  WindowsPath('C:/Users/mmaduar/Nextcloud/Genie_Transfer/Filtros/2009/ptp/ptp1311.Chn'),\n  WindowsPath('C:/Users/mmaduar/Nextcloud/Genie_Transfer/Filtros/2009/ptp/ptp1408.Chn'),\n  WindowsPath('C:/Users/mmaduar/Nextcloud/Genie_Transfer/Filtros/2009/ptp/ptp1505.chn'),\n  WindowsPath('C:/Users/mmaduar/Nextcloud/Genie_Transfer/Filtros/2009/ptp/ptp1601.Chn'),\n  WindowsPath('C:/Users/mmaduar/Nextcloud/Genie_Transfer/Filtros/2009/ptp/ptp1610.Chn'),\n  WindowsPath('C:/Users/mmaduar/Nextcloud/Genie_Transfer/Filtros/2009/ptp/ptp1704.Chn'),\n  WindowsPath('C:/Users/mmaduar/Nextcloud/Genie_Transfer/Filtros/2009/ptp/ptp1707.chn'),\n  WindowsPath('C:/Users/mmaduar/Nextcloud/Genie_Transfer/Filtros/2009/ptp/ptp1809.Chn'),\n  WindowsPath('C:/Users/mmaduar/Nextcloud/Genie_Transfer/Filtros/2009/ptp/ptp1812.Chn'),\n  WindowsPath('C:/Users/mmaduar/Nextcloud/Genie_Transfer/Filtros/2009/ptp/ptp1906.Chn'),\n  WindowsPath('C:/Users/mmaduar/Nextcloud/Genie_Transfer/Filtros/2009/ptp/ptp1911.Chn'),\n  WindowsPath('C:/Users/mmaduar/Nextcloud/Genie_Transfer/Filtros/2009/ptp/ptp2002.Chn'),\n  WindowsPath('C:/Users/mmaduar/Nextcloud/Genie_Transfer/Filtros/2009/ptp/ptp2003.Chn'),\n  WindowsPath('C:/Users/mmaduar/Nextcloud/Genie_Transfer/Filtros/2009/ptp/ptp2108.Chn'),\n  WindowsPath('C:/Users/mmaduar/Nextcloud/Genie_Transfer/Filtros/2009/ptp/ptp2205.Chn'),\n  WindowsPath('C:/Users/mmaduar/Nextcloud/Genie_Transfer/Filtros/2009/ptp/ptp2301.Chn'),\n  WindowsPath('C:/Users/mmaduar/Nextcloud/Genie_Transfer/Filtros/2009/ptp/ptp2310.Chn'),\n  WindowsPath('C:/Users/mmaduar/Nextcloud/Genie_Transfer/Filtros/2009/ptp/ptp2312.Chn'),\n  WindowsPath('C:/Users/mmaduar/Nextcloud/Genie_Transfer/Filtros/2009/ptp/ptp2404.Chn'),\n  WindowsPath('C:/Users/mmaduar/Nextcloud/Genie_Transfer/Filtros/2009/ptp/ptp2407.chn'),\n  WindowsPath('C:/Users/mmaduar/Nextcloud/Genie_Transfer/Filtros/2009/ptp/ptp2509.Chn'),\n  WindowsPath('C:/Users/mmaduar/Nextcloud/Genie_Transfer/Filtros/2009/ptp/ptp2606.Chn'),\n  WindowsPath('C:/Users/mmaduar/Nextcloud/Genie_Transfer/Filtros/2009/ptp/ptp2702.Chn'),\n  WindowsPath('C:/Users/mmaduar/Nextcloud/Genie_Transfer/Filtros/2009/ptp/ptp2703.Chn'),\n  WindowsPath('C:/Users/mmaduar/Nextcloud/Genie_Transfer/Filtros/2009/ptp/ptp2711.Chn'),\n  WindowsPath('C:/Users/mmaduar/Nextcloud/Genie_Transfer/Filtros/2009/ptp/ptp2808.Chn'),\n  WindowsPath('C:/Users/mmaduar/Nextcloud/Genie_Transfer/Filtros/2009/ptp/ptp2905.Chn'),\n  WindowsPath('C:/Users/mmaduar/Nextcloud/Genie_Transfer/Filtros/2009/ptp/ptp3001.Chn'),\n  WindowsPath('C:/Users/mmaduar/Nextcloud/Genie_Transfer/Filtros/2009/ptp/ptp3004.Chn'),\n  WindowsPath('C:/Users/mmaduar/Nextcloud/Genie_Transfer/Filtros/2009/ptp/ptp3010.Chn'),\n  WindowsPath('C:/Users/mmaduar/Nextcloud/Genie_Transfer/Filtros/2009/ptp/ptp3040.Chn'),\n  WindowsPath('C:/Users/mmaduar/Nextcloud/Genie_Transfer/Filtros/2009/ptp/ptp3107.Chn'),\n  WindowsPath('C:/Users/mmaduar/Nextcloud/Genie_Transfer/Filtros/2009/rnp/prn0210.Chn'),\n  WindowsPath('C:/Users/mmaduar/Nextcloud/Genie_Transfer/Filtros/2009/rnp/prn0304.Chn'),\n  WindowsPath('C:/Users/mmaduar/Nextcloud/Genie_Transfer/Filtros/2009/rnp/prn0307.Chn'),\n  WindowsPath('C:/Users/mmaduar/Nextcloud/Genie_Transfer/Filtros/2009/rnp/prn0409.Chn'),\n  WindowsPath('C:/Users/mmaduar/Nextcloud/Genie_Transfer/Filtros/2009/rnp/prn0412.Chn'),\n  WindowsPath('C:/Users/mmaduar/Nextcloud/Genie_Transfer/Filtros/2009/rnp/prn0506.Chn'),\n  WindowsPath('C:/Users/mmaduar/Nextcloud/Genie_Transfer/Filtros/2009/rnp/prn0602.Chn'),\n  WindowsPath('C:/Users/mmaduar/Nextcloud/Genie_Transfer/Filtros/2009/rnp/prn0603.Chn'),\n  WindowsPath('C:/Users/mmaduar/Nextcloud/Genie_Transfer/Filtros/2009/rnp/prn0611.Chn'),\n  WindowsPath('C:/Users/mmaduar/Nextcloud/Genie_Transfer/Filtros/2009/rnp/prn0708.Chn'),\n  WindowsPath('C:/Users/mmaduar/Nextcloud/Genie_Transfer/Filtros/2009/rnp/PRN0805.Chn'),\n  WindowsPath('C:/Users/mmaduar/Nextcloud/Genie_Transfer/Filtros/2009/rnp/prn0901.Chn'),\n  WindowsPath('C:/Users/mmaduar/Nextcloud/Genie_Transfer/Filtros/2009/rnp/prn0904.Chn'),\n  WindowsPath('C:/Users/mmaduar/Nextcloud/Genie_Transfer/Filtros/2009/rnp/prn0910.Chn'),\n  WindowsPath('C:/Users/mmaduar/Nextcloud/Genie_Transfer/Filtros/2009/rnp/prn1007.Chn'),\n  WindowsPath('C:/Users/mmaduar/Nextcloud/Genie_Transfer/Filtros/2009/rnp/prn1109.Chn'),\n  WindowsPath('C:/Users/mmaduar/Nextcloud/Genie_Transfer/Filtros/2009/rnp/prn1112.Chn'),\n  WindowsPath('C:/Users/mmaduar/Nextcloud/Genie_Transfer/Filtros/2009/rnp/prn1206.Chn'),\n  WindowsPath('C:/Users/mmaduar/Nextcloud/Genie_Transfer/Filtros/2009/rnp/prn1302.Chn'),\n  WindowsPath('C:/Users/mmaduar/Nextcloud/Genie_Transfer/Filtros/2009/rnp/prn1303.Chn'),\n  WindowsPath('C:/Users/mmaduar/Nextcloud/Genie_Transfer/Filtros/2009/rnp/prn1311.Chn'),\n  WindowsPath('C:/Users/mmaduar/Nextcloud/Genie_Transfer/Filtros/2009/rnp/prn1408.Chn'),\n  WindowsPath('C:/Users/mmaduar/Nextcloud/Genie_Transfer/Filtros/2009/rnp/prn1505.Chn'),\n  WindowsPath('C:/Users/mmaduar/Nextcloud/Genie_Transfer/Filtros/2009/rnp/prn1601.Chn'),\n  WindowsPath('C:/Users/mmaduar/Nextcloud/Genie_Transfer/Filtros/2009/rnp/prn1610.Chn'),\n  WindowsPath('C:/Users/mmaduar/Nextcloud/Genie_Transfer/Filtros/2009/rnp/prn1704.Chn'),\n  WindowsPath('C:/Users/mmaduar/Nextcloud/Genie_Transfer/Filtros/2009/rnp/prn1707.chn'),\n  WindowsPath('C:/Users/mmaduar/Nextcloud/Genie_Transfer/Filtros/2009/rnp/prn1809.Chn'),\n  WindowsPath('C:/Users/mmaduar/Nextcloud/Genie_Transfer/Filtros/2009/rnp/prn1812.Chn'),\n  WindowsPath('C:/Users/mmaduar/Nextcloud/Genie_Transfer/Filtros/2009/rnp/prn1906.Chn'),\n  WindowsPath('C:/Users/mmaduar/Nextcloud/Genie_Transfer/Filtros/2009/rnp/prn1911.Chn'),\n  WindowsPath('C:/Users/mmaduar/Nextcloud/Genie_Transfer/Filtros/2009/rnp/prn2002.Chn'),\n  WindowsPath('C:/Users/mmaduar/Nextcloud/Genie_Transfer/Filtros/2009/rnp/prn2003.Chn'),\n  WindowsPath('C:/Users/mmaduar/Nextcloud/Genie_Transfer/Filtros/2009/rnp/prn2108.Chn'),\n  WindowsPath('C:/Users/mmaduar/Nextcloud/Genie_Transfer/Filtros/2009/rnp/prn2205.Chn'),\n  WindowsPath('C:/Users/mmaduar/Nextcloud/Genie_Transfer/Filtros/2009/rnp/prn2301.Chn'),\n  WindowsPath('C:/Users/mmaduar/Nextcloud/Genie_Transfer/Filtros/2009/rnp/prn2310.Chn'),\n  WindowsPath('C:/Users/mmaduar/Nextcloud/Genie_Transfer/Filtros/2009/rnp/prn2312.Chn'),\n  WindowsPath('C:/Users/mmaduar/Nextcloud/Genie_Transfer/Filtros/2009/rnp/prn2404.Chn'),\n  WindowsPath('C:/Users/mmaduar/Nextcloud/Genie_Transfer/Filtros/2009/rnp/prn2407.chn'),\n  WindowsPath('C:/Users/mmaduar/Nextcloud/Genie_Transfer/Filtros/2009/rnp/prn2509.Chn'),\n  WindowsPath('C:/Users/mmaduar/Nextcloud/Genie_Transfer/Filtros/2009/rnp/prn2606.Chn'),\n  WindowsPath('C:/Users/mmaduar/Nextcloud/Genie_Transfer/Filtros/2009/rnp/PRN2702.Chn'),\n  WindowsPath('C:/Users/mmaduar/Nextcloud/Genie_Transfer/Filtros/2009/rnp/prn2703.Chn'),\n  WindowsPath('C:/Users/mmaduar/Nextcloud/Genie_Transfer/Filtros/2009/rnp/prn2711.Chn'),\n  WindowsPath('C:/Users/mmaduar/Nextcloud/Genie_Transfer/Filtros/2009/rnp/prn2808.Chn'),\n  WindowsPath('C:/Users/mmaduar/Nextcloud/Genie_Transfer/Filtros/2009/rnp/prn2905.Chn'),\n  WindowsPath('C:/Users/mmaduar/Nextcloud/Genie_Transfer/Filtros/2009/rnp/prn3001.Chn'),\n  WindowsPath('C:/Users/mmaduar/Nextcloud/Genie_Transfer/Filtros/2009/rnp/prn3004.Chn'),\n  WindowsPath('C:/Users/mmaduar/Nextcloud/Genie_Transfer/Filtros/2009/rnp/prn3010.Chn'),\n  WindowsPath('C:/Users/mmaduar/Nextcloud/Genie_Transfer/Filtros/2009/rnp/prn3107.Chn'),\n  WindowsPath('C:/Users/mmaduar/Nextcloud/Genie_Transfer/Filtros/2010/cci/cci 2306.Chn'),\n  WindowsPath('C:/Users/mmaduar/Nextcloud/Genie_Transfer/Filtros/2010/cci/cci0109.Chn'),\n  WindowsPath('C:/Users/mmaduar/Nextcloud/Genie_Transfer/Filtros/2010/cci/cci0112.Chn'),\n  WindowsPath('C:/Users/mmaduar/Nextcloud/Genie_Transfer/Filtros/2010/cci/cci0206.Chn'),\n  WindowsPath('C:/Users/mmaduar/Nextcloud/Genie_Transfer/Filtros/2010/cci/cci0303.Chn'),\n  WindowsPath('C:/Users/mmaduar/Nextcloud/Genie_Transfer/Filtros/2010/cci/cci0311.Chn'),\n  WindowsPath('C:/Users/mmaduar/Nextcloud/Genie_Transfer/Filtros/2010/cci/cci0508.Chn'),\n  WindowsPath('C:/Users/mmaduar/Nextcloud/Genie_Transfer/Filtros/2010/cci/cci0601.Chn'),\n  WindowsPath('C:/Users/mmaduar/Nextcloud/Genie_Transfer/Filtros/2010/cci/cci0610.Chn'),\n  WindowsPath('C:/Users/mmaduar/Nextcloud/Genie_Transfer/Filtros/2010/cci/cci0707.Chn'),\n  WindowsPath('C:/Users/mmaduar/Nextcloud/Genie_Transfer/Filtros/2010/cci/cci0804.Chn'),\n  WindowsPath('C:/Users/mmaduar/Nextcloud/Genie_Transfer/Filtros/2010/cci/cci0812.Chn'),\n  WindowsPath('C:/Users/mmaduar/Nextcloud/Genie_Transfer/Filtros/2010/cci/cci0906.Chn'),\n  WindowsPath('C:/Users/mmaduar/Nextcloud/Genie_Transfer/Filtros/2010/cci/cci1002.Chn'),\n  WindowsPath('C:/Users/mmaduar/Nextcloud/Genie_Transfer/Filtros/2010/cci/cci1011.Chn'),\n  WindowsPath('C:/Users/mmaduar/Nextcloud/Genie_Transfer/Filtros/2010/cci/cci1103.Chn'),\n  WindowsPath('C:/Users/mmaduar/Nextcloud/Genie_Transfer/Filtros/2010/cci/cci1108.Chn'),\n  WindowsPath('C:/Users/mmaduar/Nextcloud/Genie_Transfer/Filtros/2010/cci/cci1310.Chn'),\n  WindowsPath('C:/Users/mmaduar/Nextcloud/Genie_Transfer/Filtros/2010/cci/cci1404.Chn'),\n  WindowsPath('C:/Users/mmaduar/Nextcloud/Genie_Transfer/Filtros/2010/cci/cci1407.Chn'),\n  WindowsPath('C:/Users/mmaduar/Nextcloud/Genie_Transfer/Filtros/2010/cci/cci1512.Chn'),\n  WindowsPath('C:/Users/mmaduar/Nextcloud/Genie_Transfer/Filtros/2010/cci/cci1606.Chn'),\n  WindowsPath('C:/Users/mmaduar/Nextcloud/Genie_Transfer/Filtros/2010/cci/cci1611.Chn'),\n  WindowsPath('C:/Users/mmaduar/Nextcloud/Genie_Transfer/Filtros/2010/cci/cci1703.Chn'),\n  WindowsPath('C:/Users/mmaduar/Nextcloud/Genie_Transfer/Filtros/2010/cci/cci1808.Chn'),\n  WindowsPath('C:/Users/mmaduar/Nextcloud/Genie_Transfer/Filtros/2010/cci/cci1905.Chn'),\n  WindowsPath('C:/Users/mmaduar/Nextcloud/Genie_Transfer/Filtros/2010/cci/cci2001.Chn'),\n  WindowsPath('C:/Users/mmaduar/Nextcloud/Genie_Transfer/Filtros/2010/cci/cci2010.Chn'),\n  WindowsPath('C:/Users/mmaduar/Nextcloud/Genie_Transfer/Filtros/2010/cci/cci2107.Chn'),\n  WindowsPath('C:/Users/mmaduar/Nextcloud/Genie_Transfer/Filtros/2010/cci/cci2402.Chn'),\n  WindowsPath('C:/Users/mmaduar/Nextcloud/Genie_Transfer/Filtros/2010/cci/cci2403.Chn'),\n  WindowsPath('C:/Users/mmaduar/Nextcloud/Genie_Transfer/Filtros/2010/cci/cci2411.Chn'),\n  WindowsPath('C:/Users/mmaduar/Nextcloud/Genie_Transfer/Filtros/2010/cci/cci2508.Chn'),\n  WindowsPath('C:/Users/mmaduar/Nextcloud/Genie_Transfer/Filtros/2010/cci/cci2701.Chn'),\n  WindowsPath('C:/Users/mmaduar/Nextcloud/Genie_Transfer/Filtros/2010/cci/cci2904.Chn'),\n  WindowsPath('C:/Users/mmaduar/Nextcloud/Genie_Transfer/Filtros/2010/cci/cci3103.Chn'),\n  WindowsPath('C:/Users/mmaduar/Nextcloud/Genie_Transfer/Filtros/2010/cci/pci1002.Chn'),\n  WindowsPath('C:/Users/mmaduar/Nextcloud/Genie_Transfer/Filtros/2010/ces/ces0202.Chn'),\n  WindowsPath('C:/Users/mmaduar/Nextcloud/Genie_Transfer/Filtros/2010/crf/crf0104.Chn'),\n  WindowsPath('C:/Users/mmaduar/Nextcloud/Genie_Transfer/Filtros/2010/crf/crf0107.Chn'),\n  WindowsPath('C:/Users/mmaduar/Nextcloud/Genie_Transfer/Filtros/2010/crf/crf0110.Chn'),\n  WindowsPath('C:/Users/mmaduar/Nextcloud/Genie_Transfer/Filtros/2010/crf/crf0206.Chn'),\n  WindowsPath('C:/Users/mmaduar/Nextcloud/Genie_Transfer/Filtros/2010/crf/crf0309.Chn'),\n  WindowsPath('C:/Users/mmaduar/Nextcloud/Genie_Transfer/Filtros/2010/crf/crf0312.Chn'),\n  WindowsPath('C:/Users/mmaduar/Nextcloud/Genie_Transfer/Filtros/2010/crf/crf0502.Chn'),\n  WindowsPath('C:/Users/mmaduar/Nextcloud/Genie_Transfer/Filtros/2010/crf/crf0503.Chn'),\n  WindowsPath('C:/Users/mmaduar/Nextcloud/Genie_Transfer/Filtros/2010/crf/crf0511.Chn'),\n  WindowsPath('C:/Users/mmaduar/Nextcloud/Genie_Transfer/Filtros/2010/crf/crf0705.Chn'),\n  WindowsPath('C:/Users/mmaduar/Nextcloud/Genie_Transfer/Filtros/2010/crf/crf0801.Chn'),\n  WindowsPath('C:/Users/mmaduar/Nextcloud/Genie_Transfer/Filtros/2010/crf/crf0807.Chn'),\n  WindowsPath('C:/Users/mmaduar/Nextcloud/Genie_Transfer/Filtros/2010/crf/crf0810.Chn'),\n  WindowsPath('C:/Users/mmaduar/Nextcloud/Genie_Transfer/Filtros/2010/crf/crf0904.Chn'),\n  WindowsPath('C:/Users/mmaduar/Nextcloud/Genie_Transfer/Filtros/2010/crf/crf1009.Chn'),\n  WindowsPath('C:/Users/mmaduar/Nextcloud/Genie_Transfer/Filtros/2010/crf/crf1012.Chn'),\n  WindowsPath('C:/Users/mmaduar/Nextcloud/Genie_Transfer/Filtros/2010/crf/crf1106.Chn'),\n  WindowsPath('C:/Users/mmaduar/Nextcloud/Genie_Transfer/Filtros/2010/crf/crf1202.Chn'),\n  WindowsPath('C:/Users/mmaduar/Nextcloud/Genie_Transfer/Filtros/2010/crf/crf1203.Chn'),\n  WindowsPath('C:/Users/mmaduar/Nextcloud/Genie_Transfer/Filtros/2010/crf/crf1211.Chn'),\n  WindowsPath('C:/Users/mmaduar/Nextcloud/Genie_Transfer/Filtros/2010/crf/crf1308.Chn'),\n  WindowsPath('C:/Users/mmaduar/Nextcloud/Genie_Transfer/Filtros/2010/crf/crf1405.Chn'),\n  WindowsPath('C:/Users/mmaduar/Nextcloud/Genie_Transfer/Filtros/2010/crf/crf1501.Chn'),\n  WindowsPath('C:/Users/mmaduar/Nextcloud/Genie_Transfer/Filtros/2010/crf/crf1510.Chn'),\n  WindowsPath('C:/Users/mmaduar/Nextcloud/Genie_Transfer/Filtros/2010/crf/crf1604.Chn'),\n  WindowsPath('C:/Users/mmaduar/Nextcloud/Genie_Transfer/Filtros/2010/crf/crf1607.Chn'),\n  WindowsPath('C:/Users/mmaduar/Nextcloud/Genie_Transfer/Filtros/2010/crf/crf1709.Chn'),\n  WindowsPath('C:/Users/mmaduar/Nextcloud/Genie_Transfer/Filtros/2010/crf/crf1712.Chn'),\n  WindowsPath('C:/Users/mmaduar/Nextcloud/Genie_Transfer/Filtros/2010/crf/crf1806.Chn'),\n  WindowsPath('C:/Users/mmaduar/Nextcloud/Genie_Transfer/Filtros/2010/crf/crf1902.Chn'),\n  WindowsPath('C:/Users/mmaduar/Nextcloud/Genie_Transfer/Filtros/2010/crf/crf1903.Chn'),\n  WindowsPath('C:/Users/mmaduar/Nextcloud/Genie_Transfer/Filtros/2010/crf/crf1911.Chn'),\n  WindowsPath('C:/Users/mmaduar/Nextcloud/Genie_Transfer/Filtros/2010/crf/crf2008.Chn'),\n  WindowsPath('C:/Users/mmaduar/Nextcloud/Genie_Transfer/Filtros/2010/crf/crf2105.Chn'),\n  WindowsPath('C:/Users/mmaduar/Nextcloud/Genie_Transfer/Filtros/2010/crf/crf2201.Chn'),\n  WindowsPath('C:/Users/mmaduar/Nextcloud/Genie_Transfer/Filtros/2010/crf/crf2210.Chn'),\n  WindowsPath('C:/Users/mmaduar/Nextcloud/Genie_Transfer/Filtros/2010/crf/crf2304.Chn'),\n  WindowsPath('C:/Users/mmaduar/Nextcloud/Genie_Transfer/Filtros/2010/crf/crf2307.Chn'),\n  WindowsPath('C:/Users/mmaduar/Nextcloud/Genie_Transfer/Filtros/2010/crf/crf2312.Chn'),\n  WindowsPath('C:/Users/mmaduar/Nextcloud/Genie_Transfer/Filtros/2010/crf/crf2406.Chn'),\n  WindowsPath('C:/Users/mmaduar/Nextcloud/Genie_Transfer/Filtros/2010/crf/crf2409.Chn'),\n  WindowsPath('C:/Users/mmaduar/Nextcloud/Genie_Transfer/Filtros/2010/crf/crf2602.Chn'),\n  WindowsPath('C:/Users/mmaduar/Nextcloud/Genie_Transfer/Filtros/2010/crf/crf2603.Chn'),\n  WindowsPath('C:/Users/mmaduar/Nextcloud/Genie_Transfer/Filtros/2010/crf/crf2611.Chn'),\n  WindowsPath('C:/Users/mmaduar/Nextcloud/Genie_Transfer/Filtros/2010/crf/crf2708.Chn'),\n  WindowsPath('C:/Users/mmaduar/Nextcloud/Genie_Transfer/Filtros/2010/crf/crf2805.Chn'),\n  WindowsPath('C:/Users/mmaduar/Nextcloud/Genie_Transfer/Filtros/2010/crf/crf2901.Chn'),\n  WindowsPath('C:/Users/mmaduar/Nextcloud/Genie_Transfer/Filtros/2010/crf/crf2910.Chn'),\n  WindowsPath('C:/Users/mmaduar/Nextcloud/Genie_Transfer/Filtros/2010/crf/crf3004.Chn'),\n  WindowsPath('C:/Users/mmaduar/Nextcloud/Genie_Transfer/Filtros/2010/crf/crf3007.Chn'),\n  WindowsPath('C:/Users/mmaduar/Nextcloud/Genie_Transfer/Filtros/2010/crf/crf3012.Chn'),\n  WindowsPath('C:/Users/mmaduar/Nextcloud/Genie_Transfer/Filtros/2010/crn/crf0608.Chn'),\n  WindowsPath('C:/Users/mmaduar/Nextcloud/Genie_Transfer/Filtros/2010/crn/crn0104.Chn'),\n  WindowsPath('C:/Users/mmaduar/Nextcloud/Genie_Transfer/Filtros/2010/crn/crn0107.Chn'),\n  WindowsPath('C:/Users/mmaduar/Nextcloud/Genie_Transfer/Filtros/2010/crn/crn0110.Chn'),\n  WindowsPath('C:/Users/mmaduar/Nextcloud/Genie_Transfer/Filtros/2010/crn/crn0206.Chn'),\n  WindowsPath('C:/Users/mmaduar/Nextcloud/Genie_Transfer/Filtros/2010/crn/crn0309.Chn'),\n  WindowsPath('C:/Users/mmaduar/Nextcloud/Genie_Transfer/Filtros/2010/crn/crn0312.Chn'),\n  WindowsPath('C:/Users/mmaduar/Nextcloud/Genie_Transfer/Filtros/2010/crn/crn0502.Chn'),\n  WindowsPath('C:/Users/mmaduar/Nextcloud/Genie_Transfer/Filtros/2010/crn/crn0503.Chn'),\n  WindowsPath('C:/Users/mmaduar/Nextcloud/Genie_Transfer/Filtros/2010/crn/crn0511.Chn'),\n  WindowsPath('C:/Users/mmaduar/Nextcloud/Genie_Transfer/Filtros/2010/crn/crn0608.Chn'),\n  WindowsPath('C:/Users/mmaduar/Nextcloud/Genie_Transfer/Filtros/2010/crn/crn0705.Chn'),\n  WindowsPath('C:/Users/mmaduar/Nextcloud/Genie_Transfer/Filtros/2010/crn/crn0801.Chn'),\n  WindowsPath('C:/Users/mmaduar/Nextcloud/Genie_Transfer/Filtros/2010/crn/crn0807.Chn'),\n  WindowsPath('C:/Users/mmaduar/Nextcloud/Genie_Transfer/Filtros/2010/crn/crn0810.Chn'),\n  WindowsPath('C:/Users/mmaduar/Nextcloud/Genie_Transfer/Filtros/2010/crn/crn0904.Chn'),\n  WindowsPath('C:/Users/mmaduar/Nextcloud/Genie_Transfer/Filtros/2010/crn/crn1009.Chn'),\n  WindowsPath('C:/Users/mmaduar/Nextcloud/Genie_Transfer/Filtros/2010/crn/crn1012.Chn'),\n  WindowsPath('C:/Users/mmaduar/Nextcloud/Genie_Transfer/Filtros/2010/crn/crn1106.Chn'),\n  WindowsPath('C:/Users/mmaduar/Nextcloud/Genie_Transfer/Filtros/2010/crn/crn1202.Chn'),\n  WindowsPath('C:/Users/mmaduar/Nextcloud/Genie_Transfer/Filtros/2010/crn/crn1203.Chn'),\n  WindowsPath('C:/Users/mmaduar/Nextcloud/Genie_Transfer/Filtros/2010/crn/crn1211.Chn'),\n  WindowsPath('C:/Users/mmaduar/Nextcloud/Genie_Transfer/Filtros/2010/crn/crn1308.Chn'),\n  WindowsPath('C:/Users/mmaduar/Nextcloud/Genie_Transfer/Filtros/2010/crn/crn1405.Chn'),\n  WindowsPath('C:/Users/mmaduar/Nextcloud/Genie_Transfer/Filtros/2010/crn/crn1501.Chn'),\n  WindowsPath('C:/Users/mmaduar/Nextcloud/Genie_Transfer/Filtros/2010/crn/crn1510.Chn'),\n  WindowsPath('C:/Users/mmaduar/Nextcloud/Genie_Transfer/Filtros/2010/crn/crn1601.Chn'),\n  WindowsPath('C:/Users/mmaduar/Nextcloud/Genie_Transfer/Filtros/2010/crn/crn1604.Chn'),\n  WindowsPath('C:/Users/mmaduar/Nextcloud/Genie_Transfer/Filtros/2010/crn/crn1607.Chn'),\n  WindowsPath('C:/Users/mmaduar/Nextcloud/Genie_Transfer/Filtros/2010/crn/crn1709.Chn'),\n  WindowsPath('C:/Users/mmaduar/Nextcloud/Genie_Transfer/Filtros/2010/crn/crn1712.Chn'),\n  WindowsPath('C:/Users/mmaduar/Nextcloud/Genie_Transfer/Filtros/2010/crn/crn1902.Chn'),\n  WindowsPath('C:/Users/mmaduar/Nextcloud/Genie_Transfer/Filtros/2010/crn/crn1903.Chn'),\n  WindowsPath('C:/Users/mmaduar/Nextcloud/Genie_Transfer/Filtros/2010/crn/crn1911.Chn'),\n  WindowsPath('C:/Users/mmaduar/Nextcloud/Genie_Transfer/Filtros/2010/crn/crn2008.Chn'),\n  WindowsPath('C:/Users/mmaduar/Nextcloud/Genie_Transfer/Filtros/2010/crn/crn2105.Chn'),\n  WindowsPath('C:/Users/mmaduar/Nextcloud/Genie_Transfer/Filtros/2010/crn/crn2201.Chn'),\n  WindowsPath('C:/Users/mmaduar/Nextcloud/Genie_Transfer/Filtros/2010/crn/crn2210.Chn'),\n  WindowsPath('C:/Users/mmaduar/Nextcloud/Genie_Transfer/Filtros/2010/crn/crn2304.Chn'),\n  WindowsPath('C:/Users/mmaduar/Nextcloud/Genie_Transfer/Filtros/2010/crn/crn2307.Chn'),\n  WindowsPath('C:/Users/mmaduar/Nextcloud/Genie_Transfer/Filtros/2010/crn/crn2312.Chn'),\n  WindowsPath('C:/Users/mmaduar/Nextcloud/Genie_Transfer/Filtros/2010/crn/crn2406.Chn'),\n  WindowsPath('C:/Users/mmaduar/Nextcloud/Genie_Transfer/Filtros/2010/crn/crn2409.Chn'),\n  WindowsPath('C:/Users/mmaduar/Nextcloud/Genie_Transfer/Filtros/2010/crn/crn2602.Chn'),\n  WindowsPath('C:/Users/mmaduar/Nextcloud/Genie_Transfer/Filtros/2010/crn/crn2603.Chn'),\n  WindowsPath('C:/Users/mmaduar/Nextcloud/Genie_Transfer/Filtros/2010/crn/crn2611.Chn'),\n  WindowsPath('C:/Users/mmaduar/Nextcloud/Genie_Transfer/Filtros/2010/crn/crn2708.Chn'),\n  WindowsPath('C:/Users/mmaduar/Nextcloud/Genie_Transfer/Filtros/2010/crn/crn2805.Chn'),\n  WindowsPath('C:/Users/mmaduar/Nextcloud/Genie_Transfer/Filtros/2010/crn/crn2901.Chn'),\n  WindowsPath('C:/Users/mmaduar/Nextcloud/Genie_Transfer/Filtros/2010/crn/crn2910.Chn'),\n  WindowsPath('C:/Users/mmaduar/Nextcloud/Genie_Transfer/Filtros/2010/crn/crn3004.Chn'),\n  WindowsPath('C:/Users/mmaduar/Nextcloud/Genie_Transfer/Filtros/2010/crn/crn3007.Chn'),\n  WindowsPath('C:/Users/mmaduar/Nextcloud/Genie_Transfer/Filtros/2010/crn/crn3012.Chn'),\n  WindowsPath('C:/Users/mmaduar/Nextcloud/Genie_Transfer/Filtros/2010/ctp/cpt0309.Chn'),\n  WindowsPath('C:/Users/mmaduar/Nextcloud/Genie_Transfer/Filtros/2010/ctp/cpt1806.Chn'),\n  WindowsPath('C:/Users/mmaduar/Nextcloud/Genie_Transfer/Filtros/2010/ctp/ctp0107.Chn'),\n  WindowsPath('C:/Users/mmaduar/Nextcloud/Genie_Transfer/Filtros/2010/ctp/ctp0110.Chn'),\n  WindowsPath('C:/Users/mmaduar/Nextcloud/Genie_Transfer/Filtros/2010/ctp/ctp0206.Chn'),\n  WindowsPath('C:/Users/mmaduar/Nextcloud/Genie_Transfer/Filtros/2010/ctp/ctp0312.Chn'),\n  WindowsPath('C:/Users/mmaduar/Nextcloud/Genie_Transfer/Filtros/2010/ctp/ctp0502.Chn'),\n  WindowsPath('C:/Users/mmaduar/Nextcloud/Genie_Transfer/Filtros/2010/ctp/ctp0511.Chn'),\n  WindowsPath('C:/Users/mmaduar/Nextcloud/Genie_Transfer/Filtros/2010/ctp/ctp0608.Chn'),\n  WindowsPath('C:/Users/mmaduar/Nextcloud/Genie_Transfer/Filtros/2010/ctp/ctp0705.Chn'),\n  WindowsPath('C:/Users/mmaduar/Nextcloud/Genie_Transfer/Filtros/2010/ctp/ctp0801.Chn'),\n  WindowsPath('C:/Users/mmaduar/Nextcloud/Genie_Transfer/Filtros/2010/ctp/ctp0807.Chn'),\n  WindowsPath('C:/Users/mmaduar/Nextcloud/Genie_Transfer/Filtros/2010/ctp/ctp0810.Chn'),\n  WindowsPath('C:/Users/mmaduar/Nextcloud/Genie_Transfer/Filtros/2010/ctp/ctp0903.Chn'),\n  WindowsPath('C:/Users/mmaduar/Nextcloud/Genie_Transfer/Filtros/2010/ctp/ctp0904.Chn'),\n  WindowsPath('C:/Users/mmaduar/Nextcloud/Genie_Transfer/Filtros/2010/ctp/ctp1009.Chn'),\n  WindowsPath('C:/Users/mmaduar/Nextcloud/Genie_Transfer/Filtros/2010/ctp/ctp1012.Chn'),\n  WindowsPath('C:/Users/mmaduar/Nextcloud/Genie_Transfer/Filtros/2010/ctp/ctp1106.Chn'),\n  WindowsPath('C:/Users/mmaduar/Nextcloud/Genie_Transfer/Filtros/2010/ctp/ctp1202.Chn'),\n  WindowsPath('C:/Users/mmaduar/Nextcloud/Genie_Transfer/Filtros/2010/ctp/ctp1203.Chn'),\n  WindowsPath('C:/Users/mmaduar/Nextcloud/Genie_Transfer/Filtros/2010/ctp/ctp1211.Chn'),\n  WindowsPath('C:/Users/mmaduar/Nextcloud/Genie_Transfer/Filtros/2010/ctp/ctp1211a.Chn'),\n  WindowsPath('C:/Users/mmaduar/Nextcloud/Genie_Transfer/Filtros/2010/ctp/ctp1308.Chn'),\n  WindowsPath('C:/Users/mmaduar/Nextcloud/Genie_Transfer/Filtros/2010/ctp/ctp1405.Chn'),\n  WindowsPath('C:/Users/mmaduar/Nextcloud/Genie_Transfer/Filtros/2010/ctp/ctp1501.Chn'),\n  WindowsPath('C:/Users/mmaduar/Nextcloud/Genie_Transfer/Filtros/2010/ctp/ctp1510.Chn'),\n  WindowsPath('C:/Users/mmaduar/Nextcloud/Genie_Transfer/Filtros/2010/ctp/ctp1604.Chn'),\n  WindowsPath('C:/Users/mmaduar/Nextcloud/Genie_Transfer/Filtros/2010/ctp/ctp1607.Chn'),\n  WindowsPath('C:/Users/mmaduar/Nextcloud/Genie_Transfer/Filtros/2010/ctp/ctp1709.Chn'),\n  WindowsPath('C:/Users/mmaduar/Nextcloud/Genie_Transfer/Filtros/2010/ctp/ctp1712.Chn'),\n  WindowsPath('C:/Users/mmaduar/Nextcloud/Genie_Transfer/Filtros/2010/ctp/ctp1902.Chn'),\n  WindowsPath('C:/Users/mmaduar/Nextcloud/Genie_Transfer/Filtros/2010/ctp/ctp1903.Chn'),\n  WindowsPath('C:/Users/mmaduar/Nextcloud/Genie_Transfer/Filtros/2010/ctp/ctp1911.Chn'),\n  WindowsPath('C:/Users/mmaduar/Nextcloud/Genie_Transfer/Filtros/2010/ctp/ctp2008.Chn'),\n  WindowsPath('C:/Users/mmaduar/Nextcloud/Genie_Transfer/Filtros/2010/ctp/ctp2105.Chn'),\n  WindowsPath('C:/Users/mmaduar/Nextcloud/Genie_Transfer/Filtros/2010/ctp/ctp2201.Chn'),\n  WindowsPath('C:/Users/mmaduar/Nextcloud/Genie_Transfer/Filtros/2010/ctp/ctp2210.Chn'),\n  WindowsPath('C:/Users/mmaduar/Nextcloud/Genie_Transfer/Filtros/2010/ctp/ctp2304.Chn'),\n  WindowsPath('C:/Users/mmaduar/Nextcloud/Genie_Transfer/Filtros/2010/ctp/ctp2307.Chn'),\n  WindowsPath('C:/Users/mmaduar/Nextcloud/Genie_Transfer/Filtros/2010/ctp/ctp2312.Chn'),\n  WindowsPath('C:/Users/mmaduar/Nextcloud/Genie_Transfer/Filtros/2010/ctp/ctp2406.Chn'),\n  WindowsPath('C:/Users/mmaduar/Nextcloud/Genie_Transfer/Filtros/2010/ctp/ctp2409.Chn'),\n  WindowsPath('C:/Users/mmaduar/Nextcloud/Genie_Transfer/Filtros/2010/ctp/ctp2602.Chn'),\n  WindowsPath('C:/Users/mmaduar/Nextcloud/Genie_Transfer/Filtros/2010/ctp/ctp2603.Chn'),\n  WindowsPath('C:/Users/mmaduar/Nextcloud/Genie_Transfer/Filtros/2010/ctp/ctp2611.Chn'),\n  WindowsPath('C:/Users/mmaduar/Nextcloud/Genie_Transfer/Filtros/2010/ctp/ctp2708.Chn'),\n  WindowsPath('C:/Users/mmaduar/Nextcloud/Genie_Transfer/Filtros/2010/ctp/ctp2805.Chn'),\n  WindowsPath('C:/Users/mmaduar/Nextcloud/Genie_Transfer/Filtros/2010/ctp/ctp2901.Chn'),\n  WindowsPath('C:/Users/mmaduar/Nextcloud/Genie_Transfer/Filtros/2010/ctp/ctp2910.Chn'),\n  WindowsPath('C:/Users/mmaduar/Nextcloud/Genie_Transfer/Filtros/2010/ctp/ctp3004.Chn'),\n  WindowsPath('C:/Users/mmaduar/Nextcloud/Genie_Transfer/Filtros/2010/ctp/ctp3007.Chn'),\n  WindowsPath('C:/Users/mmaduar/Nextcloud/Genie_Transfer/Filtros/2010/ctp/ctp3012.Chn'),\n  WindowsPath('C:/Users/mmaduar/Nextcloud/Genie_Transfer/Filtros/2010/pci/pci0109.Chn'),\n  WindowsPath('C:/Users/mmaduar/Nextcloud/Genie_Transfer/Filtros/2010/pci/pci0112.Chn'),\n  WindowsPath('C:/Users/mmaduar/Nextcloud/Genie_Transfer/Filtros/2010/pci/pci0206.Chn'),\n  WindowsPath('C:/Users/mmaduar/Nextcloud/Genie_Transfer/Filtros/2010/pci/pci0303.Chn'),\n  WindowsPath('C:/Users/mmaduar/Nextcloud/Genie_Transfer/Filtros/2010/pci/pci0311.Chn'),\n  WindowsPath('C:/Users/mmaduar/Nextcloud/Genie_Transfer/Filtros/2010/pci/pci0508.Chn'),\n  WindowsPath('C:/Users/mmaduar/Nextcloud/Genie_Transfer/Filtros/2010/pci/pci0601.Chn'),\n  WindowsPath('C:/Users/mmaduar/Nextcloud/Genie_Transfer/Filtros/2010/pci/pci0610.Chn'),\n  WindowsPath('C:/Users/mmaduar/Nextcloud/Genie_Transfer/Filtros/2010/pci/pci0707.Chn'),\n  WindowsPath('C:/Users/mmaduar/Nextcloud/Genie_Transfer/Filtros/2010/pci/pci0804.Chn'),\n  WindowsPath('C:/Users/mmaduar/Nextcloud/Genie_Transfer/Filtros/2010/pci/pci0812.Chn'),\n  WindowsPath('C:/Users/mmaduar/Nextcloud/Genie_Transfer/Filtros/2010/pci/pci0906.Chn'),\n  WindowsPath('C:/Users/mmaduar/Nextcloud/Genie_Transfer/Filtros/2010/pci/pci1011.Chn'),\n  WindowsPath('C:/Users/mmaduar/Nextcloud/Genie_Transfer/Filtros/2010/pci/pci1103.Chn'),\n  WindowsPath('C:/Users/mmaduar/Nextcloud/Genie_Transfer/Filtros/2010/pci/pci1108.Chn'),\n  WindowsPath('C:/Users/mmaduar/Nextcloud/Genie_Transfer/Filtros/2010/pci/pci1310.Chn'),\n  WindowsPath('C:/Users/mmaduar/Nextcloud/Genie_Transfer/Filtros/2010/pci/pci1404.Chn'),\n  WindowsPath('C:/Users/mmaduar/Nextcloud/Genie_Transfer/Filtros/2010/pci/pci1407.Chn'),\n  WindowsPath('C:/Users/mmaduar/Nextcloud/Genie_Transfer/Filtros/2010/pci/pci1512.Chn'),\n  WindowsPath('C:/Users/mmaduar/Nextcloud/Genie_Transfer/Filtros/2010/pci/pci1606.Chn'),\n  WindowsPath('C:/Users/mmaduar/Nextcloud/Genie_Transfer/Filtros/2010/pci/pci1611.Chn'),\n  WindowsPath('C:/Users/mmaduar/Nextcloud/Genie_Transfer/Filtros/2010/pci/pci1703.Chn'),\n  WindowsPath('C:/Users/mmaduar/Nextcloud/Genie_Transfer/Filtros/2010/pci/pci1808.Chn'),\n  WindowsPath('C:/Users/mmaduar/Nextcloud/Genie_Transfer/Filtros/2010/pci/pci1905.Chn'),\n  WindowsPath('C:/Users/mmaduar/Nextcloud/Genie_Transfer/Filtros/2010/pci/pci2001.Chn'),\n  WindowsPath('C:/Users/mmaduar/Nextcloud/Genie_Transfer/Filtros/2010/pci/pci2010.Chn'),\n  WindowsPath('C:/Users/mmaduar/Nextcloud/Genie_Transfer/Filtros/2010/pci/pci2107.Chn'),\n  WindowsPath('C:/Users/mmaduar/Nextcloud/Genie_Transfer/Filtros/2010/pci/pci2306.Chn'),\n  WindowsPath('C:/Users/mmaduar/Nextcloud/Genie_Transfer/Filtros/2010/pci/pci2402.Chn'),\n  WindowsPath('C:/Users/mmaduar/Nextcloud/Genie_Transfer/Filtros/2010/pci/pci2403.Chn'),\n  WindowsPath('C:/Users/mmaduar/Nextcloud/Genie_Transfer/Filtros/2010/pci/pci2411.Chn'),\n  WindowsPath('C:/Users/mmaduar/Nextcloud/Genie_Transfer/Filtros/2010/pci/pci2508.Chn'),\n  WindowsPath('C:/Users/mmaduar/Nextcloud/Genie_Transfer/Filtros/2010/pci/pci2701.Chn'),\n  WindowsPath('C:/Users/mmaduar/Nextcloud/Genie_Transfer/Filtros/2010/pci/pci2904.Chn'),\n  WindowsPath('C:/Users/mmaduar/Nextcloud/Genie_Transfer/Filtros/2010/pci/pci3103.Chn'),\n  WindowsPath('C:/Users/mmaduar/Nextcloud/Genie_Transfer/Filtros/2010/prf/prf 0608.Chn'),\n  WindowsPath('C:/Users/mmaduar/Nextcloud/Genie_Transfer/Filtros/2010/prf/prf0104.Chn'),\n  WindowsPath('C:/Users/mmaduar/Nextcloud/Genie_Transfer/Filtros/2010/prf/prf0107.Chn'),\n  WindowsPath('C:/Users/mmaduar/Nextcloud/Genie_Transfer/Filtros/2010/prf/prf0110.Chn'),\n  WindowsPath('C:/Users/mmaduar/Nextcloud/Genie_Transfer/Filtros/2010/prf/prf0206.Chn'),\n  WindowsPath('C:/Users/mmaduar/Nextcloud/Genie_Transfer/Filtros/2010/prf/prf0309.Chn'),\n  WindowsPath('C:/Users/mmaduar/Nextcloud/Genie_Transfer/Filtros/2010/prf/prf0312.Chn'),\n  WindowsPath('C:/Users/mmaduar/Nextcloud/Genie_Transfer/Filtros/2010/prf/prf0502.Chn'),\n  WindowsPath('C:/Users/mmaduar/Nextcloud/Genie_Transfer/Filtros/2010/prf/prf0503.Chn'),\n  WindowsPath('C:/Users/mmaduar/Nextcloud/Genie_Transfer/Filtros/2010/prf/prf0705.Chn'),\n  WindowsPath('C:/Users/mmaduar/Nextcloud/Genie_Transfer/Filtros/2010/prf/prf0801.Chn'),\n  WindowsPath('C:/Users/mmaduar/Nextcloud/Genie_Transfer/Filtros/2010/prf/prf0807.Chn'),\n  WindowsPath('C:/Users/mmaduar/Nextcloud/Genie_Transfer/Filtros/2010/prf/prf0810.Chn'),\n  WindowsPath('C:/Users/mmaduar/Nextcloud/Genie_Transfer/Filtros/2010/prf/prf0904.Chn'),\n  WindowsPath('C:/Users/mmaduar/Nextcloud/Genie_Transfer/Filtros/2010/prf/prf1009.Chn'),\n  WindowsPath('C:/Users/mmaduar/Nextcloud/Genie_Transfer/Filtros/2010/prf/PRF1012.Chn'),\n  WindowsPath('C:/Users/mmaduar/Nextcloud/Genie_Transfer/Filtros/2010/prf/prf1106.Chn'),\n  WindowsPath('C:/Users/mmaduar/Nextcloud/Genie_Transfer/Filtros/2010/prf/prf1202.Chn'),\n  WindowsPath('C:/Users/mmaduar/Nextcloud/Genie_Transfer/Filtros/2010/prf/prf1203.Chn'),\n  WindowsPath('C:/Users/mmaduar/Nextcloud/Genie_Transfer/Filtros/2010/prf/prf1308.Chn'),\n  WindowsPath('C:/Users/mmaduar/Nextcloud/Genie_Transfer/Filtros/2010/prf/prf1405.Chn'),\n  WindowsPath('C:/Users/mmaduar/Nextcloud/Genie_Transfer/Filtros/2010/prf/prf1510.Chn'),\n  WindowsPath('C:/Users/mmaduar/Nextcloud/Genie_Transfer/Filtros/2010/prf/prf1604.Chn'),\n  WindowsPath('C:/Users/mmaduar/Nextcloud/Genie_Transfer/Filtros/2010/prf/prf1607.Chn'),\n  WindowsPath('C:/Users/mmaduar/Nextcloud/Genie_Transfer/Filtros/2010/prf/prf1709.Chn'),\n  WindowsPath('C:/Users/mmaduar/Nextcloud/Genie_Transfer/Filtros/2010/prf/prf1712.Chn'),\n  WindowsPath('C:/Users/mmaduar/Nextcloud/Genie_Transfer/Filtros/2010/prf/prf1806.Chn'),\n  WindowsPath('C:/Users/mmaduar/Nextcloud/Genie_Transfer/Filtros/2010/prf/prf1902.Chn'),\n  WindowsPath('C:/Users/mmaduar/Nextcloud/Genie_Transfer/Filtros/2010/prf/prf1903.Chn'),\n  WindowsPath('C:/Users/mmaduar/Nextcloud/Genie_Transfer/Filtros/2010/prf/prf2105.Chn'),\n  WindowsPath('C:/Users/mmaduar/Nextcloud/Genie_Transfer/Filtros/2010/prf/prf2201.Chn'),\n  WindowsPath('C:/Users/mmaduar/Nextcloud/Genie_Transfer/Filtros/2010/prf/prf2307.Chn'),\n  WindowsPath('C:/Users/mmaduar/Nextcloud/Genie_Transfer/Filtros/2010/prf/prf2312.Chn'),\n  WindowsPath('C:/Users/mmaduar/Nextcloud/Genie_Transfer/Filtros/2010/prf/prf2406.Chn'),\n  WindowsPath('C:/Users/mmaduar/Nextcloud/Genie_Transfer/Filtros/2010/prf/prf2409.Chn'),\n  WindowsPath('C:/Users/mmaduar/Nextcloud/Genie_Transfer/Filtros/2010/prf/prf2602.Chn'),\n  WindowsPath('C:/Users/mmaduar/Nextcloud/Genie_Transfer/Filtros/2010/prf/prf2603.Chn'),\n  WindowsPath('C:/Users/mmaduar/Nextcloud/Genie_Transfer/Filtros/2010/prf/prf2611.Chn'),\n  WindowsPath('C:/Users/mmaduar/Nextcloud/Genie_Transfer/Filtros/2010/prf/prf2708.Chn'),\n  WindowsPath('C:/Users/mmaduar/Nextcloud/Genie_Transfer/Filtros/2010/prf/prf2805.Chn'),\n  WindowsPath('C:/Users/mmaduar/Nextcloud/Genie_Transfer/Filtros/2010/prf/prf2901.Chn'),\n  WindowsPath('C:/Users/mmaduar/Nextcloud/Genie_Transfer/Filtros/2010/prf/prf3004.Chn'),\n  WindowsPath('C:/Users/mmaduar/Nextcloud/Genie_Transfer/Filtros/2010/prf/prf3007.Chn'),\n  WindowsPath('C:/Users/mmaduar/Nextcloud/Genie_Transfer/Filtros/2010/prf/prf3012.Chn'),\n  WindowsPath('C:/Users/mmaduar/Nextcloud/Genie_Transfer/Filtros/2010/ptp/ptp0107.Chn'),\n  WindowsPath('C:/Users/mmaduar/Nextcloud/Genie_Transfer/Filtros/2010/ptp/ptp0110.Chn'),\n  WindowsPath('C:/Users/mmaduar/Nextcloud/Genie_Transfer/Filtros/2010/ptp/ptp0206.Chn'),\n  WindowsPath('C:/Users/mmaduar/Nextcloud/Genie_Transfer/Filtros/2010/ptp/ptp0309.Chn'),\n  WindowsPath('C:/Users/mmaduar/Nextcloud/Genie_Transfer/Filtros/2010/ptp/ptp0312.Chn'),\n  WindowsPath('C:/Users/mmaduar/Nextcloud/Genie_Transfer/Filtros/2010/ptp/ptp0502.Chn'),\n  WindowsPath('C:/Users/mmaduar/Nextcloud/Genie_Transfer/Filtros/2010/ptp/ptp0503.Chn'),\n  WindowsPath('C:/Users/mmaduar/Nextcloud/Genie_Transfer/Filtros/2010/ptp/ptp0608.Chn'),\n  WindowsPath('C:/Users/mmaduar/Nextcloud/Genie_Transfer/Filtros/2010/ptp/ptp0705.Chn'),\n  WindowsPath('C:/Users/mmaduar/Nextcloud/Genie_Transfer/Filtros/2010/ptp/ptp0801.Chn'),\n  WindowsPath('C:/Users/mmaduar/Nextcloud/Genie_Transfer/Filtros/2010/ptp/ptp0807.Chn'),\n  WindowsPath('C:/Users/mmaduar/Nextcloud/Genie_Transfer/Filtros/2010/ptp/ptp0810.Chn'),\n  WindowsPath('C:/Users/mmaduar/Nextcloud/Genie_Transfer/Filtros/2010/ptp/ptp0904.Chn'),\n  WindowsPath('C:/Users/mmaduar/Nextcloud/Genie_Transfer/Filtros/2010/ptp/ptp1009.Chn'),\n  WindowsPath('C:/Users/mmaduar/Nextcloud/Genie_Transfer/Filtros/2010/ptp/ptp1012.Chn'),\n  WindowsPath('C:/Users/mmaduar/Nextcloud/Genie_Transfer/Filtros/2010/ptp/ptp1106.Chn'),\n  WindowsPath('C:/Users/mmaduar/Nextcloud/Genie_Transfer/Filtros/2010/ptp/ptp1202.Chn'),\n  WindowsPath('C:/Users/mmaduar/Nextcloud/Genie_Transfer/Filtros/2010/ptp/ptp1203.Chn'),\n  WindowsPath('C:/Users/mmaduar/Nextcloud/Genie_Transfer/Filtros/2010/ptp/ptp1308.Chn'),\n  WindowsPath('C:/Users/mmaduar/Nextcloud/Genie_Transfer/Filtros/2010/ptp/ptp1405.Chn'),\n  WindowsPath('C:/Users/mmaduar/Nextcloud/Genie_Transfer/Filtros/2010/ptp/ptp1501.Chn'),\n  WindowsPath('C:/Users/mmaduar/Nextcloud/Genie_Transfer/Filtros/2010/ptp/ptp1604.Chn'),\n  WindowsPath('C:/Users/mmaduar/Nextcloud/Genie_Transfer/Filtros/2010/ptp/ptp1607.Chn'),\n  WindowsPath('C:/Users/mmaduar/Nextcloud/Genie_Transfer/Filtros/2010/ptp/ptp1709.Chn'),\n  WindowsPath('C:/Users/mmaduar/Nextcloud/Genie_Transfer/Filtros/2010/ptp/ptp1712.Chn'),\n  WindowsPath('C:/Users/mmaduar/Nextcloud/Genie_Transfer/Filtros/2010/ptp/ptp1902.Chn'),\n  WindowsPath('C:/Users/mmaduar/Nextcloud/Genie_Transfer/Filtros/2010/ptp/ptp1903.Chn'),\n  WindowsPath('C:/Users/mmaduar/Nextcloud/Genie_Transfer/Filtros/2010/ptp/ptp2008.Chn'),\n  WindowsPath('C:/Users/mmaduar/Nextcloud/Genie_Transfer/Filtros/2010/ptp/ptp2105.Chn'),\n  WindowsPath('C:/Users/mmaduar/Nextcloud/Genie_Transfer/Filtros/2010/ptp/ptp2201.Chn'),\n  WindowsPath('C:/Users/mmaduar/Nextcloud/Genie_Transfer/Filtros/2010/ptp/ptp2307.Chn'),\n  WindowsPath('C:/Users/mmaduar/Nextcloud/Genie_Transfer/Filtros/2010/ptp/ptp2312.Chn'),\n  WindowsPath('C:/Users/mmaduar/Nextcloud/Genie_Transfer/Filtros/2010/ptp/ptp2406.Chn'),\n  WindowsPath('C:/Users/mmaduar/Nextcloud/Genie_Transfer/Filtros/2010/ptp/ptp2409.Chn'),\n  WindowsPath('C:/Users/mmaduar/Nextcloud/Genie_Transfer/Filtros/2010/ptp/ptp2603.Chn'),\n  WindowsPath('C:/Users/mmaduar/Nextcloud/Genie_Transfer/Filtros/2010/ptp/ptp2611.Chn'),\n  WindowsPath('C:/Users/mmaduar/Nextcloud/Genie_Transfer/Filtros/2010/ptp/ptp2708.Chn'),\n  WindowsPath('C:/Users/mmaduar/Nextcloud/Genie_Transfer/Filtros/2010/ptp/ptp2805.Chn'),\n  WindowsPath('C:/Users/mmaduar/Nextcloud/Genie_Transfer/Filtros/2010/ptp/ptp2901.Chn'),\n  WindowsPath('C:/Users/mmaduar/Nextcloud/Genie_Transfer/Filtros/2010/ptp/ptp3004.Chn'),\n  WindowsPath('C:/Users/mmaduar/Nextcloud/Genie_Transfer/Filtros/2010/ptp/ptp3007.Chn'),\n  WindowsPath('C:/Users/mmaduar/Nextcloud/Genie_Transfer/Filtros/2010/ptp/ptp3012.Chn'),\n  WindowsPath('C:/Users/mmaduar/Nextcloud/Genie_Transfer/Filtros/2010/rnp/prn0104.Chn'),\n  WindowsPath('C:/Users/mmaduar/Nextcloud/Genie_Transfer/Filtros/2010/rnp/prn0107.Chn'),\n  WindowsPath('C:/Users/mmaduar/Nextcloud/Genie_Transfer/Filtros/2010/rnp/prn0110.Chn'),\n  WindowsPath('C:/Users/mmaduar/Nextcloud/Genie_Transfer/Filtros/2010/rnp/prn0206.Chn'),\n  WindowsPath('C:/Users/mmaduar/Nextcloud/Genie_Transfer/Filtros/2010/rnp/prn0309.Chn'),\n  WindowsPath('C:/Users/mmaduar/Nextcloud/Genie_Transfer/Filtros/2010/rnp/prn0312.Chn'),\n  WindowsPath('C:/Users/mmaduar/Nextcloud/Genie_Transfer/Filtros/2010/rnp/prn0502.Chn'),\n  WindowsPath('C:/Users/mmaduar/Nextcloud/Genie_Transfer/Filtros/2010/rnp/prn0503.Chn'),\n  WindowsPath('C:/Users/mmaduar/Nextcloud/Genie_Transfer/Filtros/2010/rnp/prn0608.Chn'),\n  WindowsPath('C:/Users/mmaduar/Nextcloud/Genie_Transfer/Filtros/2010/rnp/prn0705.Chn'),\n  WindowsPath('C:/Users/mmaduar/Nextcloud/Genie_Transfer/Filtros/2010/rnp/prn0801.Chn'),\n  WindowsPath('C:/Users/mmaduar/Nextcloud/Genie_Transfer/Filtros/2010/rnp/prn0807.Chn'),\n  WindowsPath('C:/Users/mmaduar/Nextcloud/Genie_Transfer/Filtros/2010/rnp/prn0904.Chn'),\n  WindowsPath('C:/Users/mmaduar/Nextcloud/Genie_Transfer/Filtros/2010/rnp/prn1009.Chn'),\n  WindowsPath('C:/Users/mmaduar/Nextcloud/Genie_Transfer/Filtros/2010/rnp/prn1012.Chn'),\n  WindowsPath('C:/Users/mmaduar/Nextcloud/Genie_Transfer/Filtros/2010/rnp/prn1106.Chn'),\n  WindowsPath('C:/Users/mmaduar/Nextcloud/Genie_Transfer/Filtros/2010/rnp/prn1202.Chn'),\n  WindowsPath('C:/Users/mmaduar/Nextcloud/Genie_Transfer/Filtros/2010/rnp/prn1203.Chn'),\n  WindowsPath('C:/Users/mmaduar/Nextcloud/Genie_Transfer/Filtros/2010/rnp/prn1308.Chn'),\n  WindowsPath('C:/Users/mmaduar/Nextcloud/Genie_Transfer/Filtros/2010/rnp/prn1405.Chn'),\n  WindowsPath('C:/Users/mmaduar/Nextcloud/Genie_Transfer/Filtros/2010/rnp/prn1501.Chn'),\n  WindowsPath('C:/Users/mmaduar/Nextcloud/Genie_Transfer/Filtros/2010/rnp/prn1604.Chn'),\n  WindowsPath('C:/Users/mmaduar/Nextcloud/Genie_Transfer/Filtros/2010/rnp/prn1607.Chn'),\n  WindowsPath('C:/Users/mmaduar/Nextcloud/Genie_Transfer/Filtros/2010/rnp/prn1709.Chn'),\n  WindowsPath('C:/Users/mmaduar/Nextcloud/Genie_Transfer/Filtros/2010/rnp/prn1712.Chn'),\n  WindowsPath('C:/Users/mmaduar/Nextcloud/Genie_Transfer/Filtros/2010/rnp/prn1806.Chn'),\n  WindowsPath('C:/Users/mmaduar/Nextcloud/Genie_Transfer/Filtros/2010/rnp/prn1902.Chn'),\n  WindowsPath('C:/Users/mmaduar/Nextcloud/Genie_Transfer/Filtros/2010/rnp/prn1903.Chn'),\n  WindowsPath('C:/Users/mmaduar/Nextcloud/Genie_Transfer/Filtros/2010/rnp/PRN2008.Chn'),\n  WindowsPath('C:/Users/mmaduar/Nextcloud/Genie_Transfer/Filtros/2010/rnp/prn2105.Chn'),\n  WindowsPath('C:/Users/mmaduar/Nextcloud/Genie_Transfer/Filtros/2010/rnp/prn2201.Chn'),\n  WindowsPath('C:/Users/mmaduar/Nextcloud/Genie_Transfer/Filtros/2010/rnp/prn2307.Chn'),\n  WindowsPath('C:/Users/mmaduar/Nextcloud/Genie_Transfer/Filtros/2010/rnp/prn2312.Chn'),\n  WindowsPath('C:/Users/mmaduar/Nextcloud/Genie_Transfer/Filtros/2010/rnp/prn2406.Chn'),\n  WindowsPath('C:/Users/mmaduar/Nextcloud/Genie_Transfer/Filtros/2010/rnp/prn2409.Chn'),\n  WindowsPath('C:/Users/mmaduar/Nextcloud/Genie_Transfer/Filtros/2010/rnp/prn2602.Chn'),\n  WindowsPath('C:/Users/mmaduar/Nextcloud/Genie_Transfer/Filtros/2010/rnp/prn2603.Chn'),\n  WindowsPath('C:/Users/mmaduar/Nextcloud/Genie_Transfer/Filtros/2010/rnp/prn2611.Chn'),\n  WindowsPath('C:/Users/mmaduar/Nextcloud/Genie_Transfer/Filtros/2010/rnp/prn2708.Chn'),\n  WindowsPath('C:/Users/mmaduar/Nextcloud/Genie_Transfer/Filtros/2010/rnp/prn2805.Chn'),\n  WindowsPath('C:/Users/mmaduar/Nextcloud/Genie_Transfer/Filtros/2010/rnp/prn2901.Chn'),\n  WindowsPath('C:/Users/mmaduar/Nextcloud/Genie_Transfer/Filtros/2010/rnp/prn3004.Chn'),\n  WindowsPath('C:/Users/mmaduar/Nextcloud/Genie_Transfer/Filtros/2010/rnp/prn3007.Chn'),\n  WindowsPath('C:/Users/mmaduar/Nextcloud/Genie_Transfer/Filtros/2010/rnp/prn3012.Chn'),\n  WindowsPath('C:/Users/mmaduar/Nextcloud/Genie_Transfer/Filtros/2011/cci/cci0106.Chn'),\n  WindowsPath('C:/Users/mmaduar/Nextcloud/Genie_Transfer/Filtros/2011/cci/cci0203.Chn'),\n  WindowsPath('C:/Users/mmaduar/Nextcloud/Genie_Transfer/Filtros/2011/cci/cci0302.Chn'),\n  WindowsPath('C:/Users/mmaduar/Nextcloud/Genie_Transfer/Filtros/2011/cci/cci0308.Chn'),\n  WindowsPath('C:/Users/mmaduar/Nextcloud/Genie_Transfer/Filtros/2011/cci/cci0311.Chn'),\n  WindowsPath('C:/Users/mmaduar/Nextcloud/Genie_Transfer/Filtros/2011/cci/cci0405.Chn'),\n  WindowsPath('C:/Users/mmaduar/Nextcloud/Genie_Transfer/Filtros/2011/cci/cci0501.Chn'),\n  WindowsPath('C:/Users/mmaduar/Nextcloud/Genie_Transfer/Filtros/2011/cci/cci0510.Chn'),\n  WindowsPath('C:/Users/mmaduar/Nextcloud/Genie_Transfer/Filtros/2011/cci/cci0604.Chn'),\n  WindowsPath('C:/Users/mmaduar/Nextcloud/Genie_Transfer/Filtros/2011/cci/cci0607.Chn'),\n  WindowsPath('C:/Users/mmaduar/Nextcloud/Genie_Transfer/Filtros/2011/cci/cci0712.Chn'),\n  WindowsPath('C:/Users/mmaduar/Nextcloud/Genie_Transfer/Filtros/2011/cci/cci0806.Chn'),\n  WindowsPath('C:/Users/mmaduar/Nextcloud/Genie_Transfer/Filtros/2011/cci/cci0902.Chn'),\n  WindowsPath('C:/Users/mmaduar/Nextcloud/Genie_Transfer/Filtros/2011/cci/cci1008.Chn'),\n  WindowsPath('C:/Users/mmaduar/Nextcloud/Genie_Transfer/Filtros/2011/cci/cci1011.Chn'),\n  WindowsPath('C:/Users/mmaduar/Nextcloud/Genie_Transfer/Filtros/2011/cci/cci1301.Chn'),\n  WindowsPath('C:/Users/mmaduar/Nextcloud/Genie_Transfer/Filtros/2011/cci/cci1304.Chn'),\n  WindowsPath('C:/Users/mmaduar/Nextcloud/Genie_Transfer/Filtros/2011/cci/cci1307.Chn'),\n  WindowsPath('C:/Users/mmaduar/Nextcloud/Genie_Transfer/Filtros/2011/cci/cci1409.Chn'),\n  WindowsPath('C:/Users/mmaduar/Nextcloud/Genie_Transfer/Filtros/2011/cci/cci1412.Chn'),\n  WindowsPath('C:/Users/mmaduar/Nextcloud/Genie_Transfer/Filtros/2011/cci/cci1506.Chn'),\n  WindowsPath('C:/Users/mmaduar/Nextcloud/Genie_Transfer/Filtros/2011/cci/cci1602.Chn'),\n  WindowsPath('C:/Users/mmaduar/Nextcloud/Genie_Transfer/Filtros/2011/cci/cci1611.Chn'),\n  WindowsPath('C:/Users/mmaduar/Nextcloud/Genie_Transfer/Filtros/2011/cci/CCI1703.Chn'),\n  WindowsPath('C:/Users/mmaduar/Nextcloud/Genie_Transfer/Filtros/2011/cci/cci1708.Chn'),\n  WindowsPath('C:/Users/mmaduar/Nextcloud/Genie_Transfer/Filtros/2011/cci/cci1901.Chn'),\n  WindowsPath('C:/Users/mmaduar/Nextcloud/Genie_Transfer/Filtros/2011/cci/cci1910.Chn'),\n  WindowsPath('C:/Users/mmaduar/Nextcloud/Genie_Transfer/Filtros/2011/cci/cci2007.Chn'),\n  WindowsPath('C:/Users/mmaduar/Nextcloud/Genie_Transfer/Filtros/2011/cci/cci2206.Chn'),\n  WindowsPath('C:/Users/mmaduar/Nextcloud/Genie_Transfer/Filtros/2011/cci/cci2209.Chn'),\n  WindowsPath('C:/Users/mmaduar/Nextcloud/Genie_Transfer/Filtros/2011/cci/cci2212.Chn'),\n  WindowsPath('C:/Users/mmaduar/Nextcloud/Genie_Transfer/Filtros/2011/cci/cci2302.Chn'),\n  WindowsPath('C:/Users/mmaduar/Nextcloud/Genie_Transfer/Filtros/2011/cci/cci2311.Chn'),\n  WindowsPath('C:/Users/mmaduar/Nextcloud/Genie_Transfer/Filtros/2011/cci/cci2408.Chn'),\n  WindowsPath('C:/Users/mmaduar/Nextcloud/Genie_Transfer/Filtros/2011/cci/cci2505.Chn'),\n  WindowsPath('C:/Users/mmaduar/Nextcloud/Genie_Transfer/Filtros/2011/cci/cci2601.Chn'),\n  WindowsPath('C:/Users/mmaduar/Nextcloud/Genie_Transfer/Filtros/2011/cci/cci2610.Chn'),\n  WindowsPath('C:/Users/mmaduar/Nextcloud/Genie_Transfer/Filtros/2011/cci/cci2704.Chn'),\n  WindowsPath('C:/Users/mmaduar/Nextcloud/Genie_Transfer/Filtros/2011/cci/cci2707.Chn'),\n  WindowsPath('C:/Users/mmaduar/Nextcloud/Genie_Transfer/Filtros/2011/cci/cci2809.Chn'),\n  WindowsPath('C:/Users/mmaduar/Nextcloud/Genie_Transfer/Filtros/2011/cci/cci2906.Chn'),\n  WindowsPath('C:/Users/mmaduar/Nextcloud/Genie_Transfer/Filtros/2011/cci/cci3003.Chn'),\n  WindowsPath('C:/Users/mmaduar/Nextcloud/Genie_Transfer/Filtros/2011/cci/cci3108.Chn'),\n  WindowsPath('C:/Users/mmaduar/Nextcloud/Genie_Transfer/Filtros/2011/crf/crf0104.Chn'),\n  WindowsPath('C:/Users/mmaduar/Nextcloud/Genie_Transfer/Filtros/2011/crf/crf0107.Chn'),\n  WindowsPath('C:/Users/mmaduar/Nextcloud/Genie_Transfer/Filtros/2011/crf/crf0209.Chn'),\n  WindowsPath('C:/Users/mmaduar/Nextcloud/Genie_Transfer/Filtros/2011/crf/crf0212.Chn'),\n  WindowsPath('C:/Users/mmaduar/Nextcloud/Genie_Transfer/Filtros/2011/crf/crf0306.Chn'),\n  WindowsPath('C:/Users/mmaduar/Nextcloud/Genie_Transfer/Filtros/2011/crf/crf0402.Chn'),\n  WindowsPath('C:/Users/mmaduar/Nextcloud/Genie_Transfer/Filtros/2011/crf/crf0403.Chn'),\n  WindowsPath('C:/Users/mmaduar/Nextcloud/Genie_Transfer/Filtros/2011/crf/crf0411.Chn'),\n  WindowsPath('C:/Users/mmaduar/Nextcloud/Genie_Transfer/Filtros/2011/crf/crf0508.Chn'),\n  WindowsPath('C:/Users/mmaduar/Nextcloud/Genie_Transfer/Filtros/2011/crf/crf0605.Chn'),\n  WindowsPath('C:/Users/mmaduar/Nextcloud/Genie_Transfer/Filtros/2011/crf/crf0701.Chn'),\n  WindowsPath('C:/Users/mmaduar/Nextcloud/Genie_Transfer/Filtros/2011/crf/crf0710.Chn'),\n  WindowsPath('C:/Users/mmaduar/Nextcloud/Genie_Transfer/Filtros/2011/crf/crf0804.Chn'),\n  WindowsPath('C:/Users/mmaduar/Nextcloud/Genie_Transfer/Filtros/2011/crf/crf0909.Chn'),\n  WindowsPath('C:/Users/mmaduar/Nextcloud/Genie_Transfer/Filtros/2011/crf/crf0912.Chn'),\n  WindowsPath('C:/Users/mmaduar/Nextcloud/Genie_Transfer/Filtros/2011/crf/crf1006.Chn'),\n  WindowsPath('C:/Users/mmaduar/Nextcloud/Genie_Transfer/Filtros/2011/crf/crf1102.Chn'),\n  WindowsPath('C:/Users/mmaduar/Nextcloud/Genie_Transfer/Filtros/2011/crf/crf1103.Chn'),\n  WindowsPath('C:/Users/mmaduar/Nextcloud/Genie_Transfer/Filtros/2011/crf/crf1111.Chn'),\n  WindowsPath('C:/Users/mmaduar/Nextcloud/Genie_Transfer/Filtros/2011/crf/crf1208.Chn'),\n  WindowsPath('C:/Users/mmaduar/Nextcloud/Genie_Transfer/Filtros/2011/crf/crf1305.Chn'),\n  WindowsPath('C:/Users/mmaduar/Nextcloud/Genie_Transfer/Filtros/2011/crf/crf1401.Chn'),\n  WindowsPath('C:/Users/mmaduar/Nextcloud/Genie_Transfer/Filtros/2011/crf/crf1410.Chn'),\n  WindowsPath('C:/Users/mmaduar/Nextcloud/Genie_Transfer/Filtros/2011/crf/crf1504.Chn'),\n  WindowsPath('C:/Users/mmaduar/Nextcloud/Genie_Transfer/Filtros/2011/crf/crf1507.Chn'),\n  WindowsPath('C:/Users/mmaduar/Nextcloud/Genie_Transfer/Filtros/2011/crf/crf1609.Chn'),\n  WindowsPath('C:/Users/mmaduar/Nextcloud/Genie_Transfer/Filtros/2011/crf/crf1612.Chn'),\n  WindowsPath('C:/Users/mmaduar/Nextcloud/Genie_Transfer/Filtros/2011/crf/crf1706.Chn'),\n  WindowsPath('C:/Users/mmaduar/Nextcloud/Genie_Transfer/Filtros/2011/crf/crf1802.Chn'),\n  WindowsPath('C:/Users/mmaduar/Nextcloud/Genie_Transfer/Filtros/2011/crf/crf1803.Chn'),\n  WindowsPath('C:/Users/mmaduar/Nextcloud/Genie_Transfer/Filtros/2011/crf/crf1811.Chn'),\n  WindowsPath('C:/Users/mmaduar/Nextcloud/Genie_Transfer/Filtros/2011/crf/crf1908.Chn'),\n  WindowsPath('C:/Users/mmaduar/Nextcloud/Genie_Transfer/Filtros/2011/crf/crf2005.Chn'),\n  WindowsPath('C:/Users/mmaduar/Nextcloud/Genie_Transfer/Filtros/2011/crf/crf2101.Chn'),\n  WindowsPath('C:/Users/mmaduar/Nextcloud/Genie_Transfer/Filtros/2011/crf/crf2110.Chn'),\n  WindowsPath('C:/Users/mmaduar/Nextcloud/Genie_Transfer/Filtros/2011/crf/crf2207.Chn'),\n  WindowsPath('C:/Users/mmaduar/Nextcloud/Genie_Transfer/Filtros/2011/crf/crf2309.Chn'),\n  WindowsPath('C:/Users/mmaduar/Nextcloud/Genie_Transfer/Filtros/2011/crf/crf2312.Chn'),\n  WindowsPath('C:/Users/mmaduar/Nextcloud/Genie_Transfer/Filtros/2011/crf/crf2406.Chn'),\n  WindowsPath('C:/Users/mmaduar/Nextcloud/Genie_Transfer/Filtros/2011/crf/crf2502.Chn'),\n  WindowsPath('C:/Users/mmaduar/Nextcloud/Genie_Transfer/Filtros/2011/crf/crf2503.Chn'),\n  WindowsPath('C:/Users/mmaduar/Nextcloud/Genie_Transfer/Filtros/2011/crf/crf2511.Chn'),\n  WindowsPath('C:/Users/mmaduar/Nextcloud/Genie_Transfer/Filtros/2011/crf/crf2608.Chn'),\n  WindowsPath('C:/Users/mmaduar/Nextcloud/Genie_Transfer/Filtros/2011/crf/crf2705.Chn'),\n  WindowsPath('C:/Users/mmaduar/Nextcloud/Genie_Transfer/Filtros/2011/crf/crf2801.Chn'),\n  WindowsPath('C:/Users/mmaduar/Nextcloud/Genie_Transfer/Filtros/2011/crf/crf2810.Chn'),\n  WindowsPath('C:/Users/mmaduar/Nextcloud/Genie_Transfer/Filtros/2011/crf/crf2904.Chn'),\n  WindowsPath('C:/Users/mmaduar/Nextcloud/Genie_Transfer/Filtros/2011/crf/crf2907.Chn'),\n  WindowsPath('C:/Users/mmaduar/Nextcloud/Genie_Transfer/Filtros/2011/crf/crf2912.Chn'),\n  WindowsPath('C:/Users/mmaduar/Nextcloud/Genie_Transfer/Filtros/2011/crf/crf3009.Chn'),\n  WindowsPath('C:/Users/mmaduar/Nextcloud/Genie_Transfer/Filtros/2011/crn/crn0104.Chn'),\n  WindowsPath('C:/Users/mmaduar/Nextcloud/Genie_Transfer/Filtros/2011/crn/crn0107-reco.CHN'),\n  WindowsPath('C:/Users/mmaduar/Nextcloud/Genie_Transfer/Filtros/2011/crn/crn0107.Chn'),\n  WindowsPath('C:/Users/mmaduar/Nextcloud/Genie_Transfer/Filtros/2011/crn/crn0209.Chn'),\n  WindowsPath('C:/Users/mmaduar/Nextcloud/Genie_Transfer/Filtros/2011/crn/crn0212.Chn'),\n  WindowsPath('C:/Users/mmaduar/Nextcloud/Genie_Transfer/Filtros/2011/crn/crn0306.Chn'),\n  WindowsPath('C:/Users/mmaduar/Nextcloud/Genie_Transfer/Filtros/2011/crn/crn0402.Chn'),\n  WindowsPath('C:/Users/mmaduar/Nextcloud/Genie_Transfer/Filtros/2011/crn/crn0403.Chn'),\n  WindowsPath('C:/Users/mmaduar/Nextcloud/Genie_Transfer/Filtros/2011/crn/crn0411.Chn'),\n  WindowsPath('C:/Users/mmaduar/Nextcloud/Genie_Transfer/Filtros/2011/crn/crn0508.Chn'),\n  WindowsPath('C:/Users/mmaduar/Nextcloud/Genie_Transfer/Filtros/2011/crn/crn0701.Chn'),\n  WindowsPath('C:/Users/mmaduar/Nextcloud/Genie_Transfer/Filtros/2011/crn/crn0710.Chn'),\n  WindowsPath('C:/Users/mmaduar/Nextcloud/Genie_Transfer/Filtros/2011/crn/crn0804.Chn'),\n  WindowsPath('C:/Users/mmaduar/Nextcloud/Genie_Transfer/Filtros/2011/crn/crn0909.Chn'),\n  WindowsPath('C:/Users/mmaduar/Nextcloud/Genie_Transfer/Filtros/2011/crn/crn0912.Chn'),\n  WindowsPath('C:/Users/mmaduar/Nextcloud/Genie_Transfer/Filtros/2011/crn/crn1006.Chn'),\n  WindowsPath('C:/Users/mmaduar/Nextcloud/Genie_Transfer/Filtros/2011/crn/crn1102.Chn'),\n  WindowsPath('C:/Users/mmaduar/Nextcloud/Genie_Transfer/Filtros/2011/crn/crn1103.Chn'),\n  WindowsPath('C:/Users/mmaduar/Nextcloud/Genie_Transfer/Filtros/2011/crn/crn1111.Chn'),\n  WindowsPath('C:/Users/mmaduar/Nextcloud/Genie_Transfer/Filtros/2011/crn/crn1208.Chn'),\n  WindowsPath('C:/Users/mmaduar/Nextcloud/Genie_Transfer/Filtros/2011/crn/crn1305.Chn'),\n  WindowsPath('C:/Users/mmaduar/Nextcloud/Genie_Transfer/Filtros/2011/crn/crn1401.Chn'),\n  WindowsPath('C:/Users/mmaduar/Nextcloud/Genie_Transfer/Filtros/2011/crn/crn1410.Chn'),\n  WindowsPath('C:/Users/mmaduar/Nextcloud/Genie_Transfer/Filtros/2011/crn/crn1504.Chn'),\n  WindowsPath('C:/Users/mmaduar/Nextcloud/Genie_Transfer/Filtros/2011/crn/crn1507.Chn'),\n  WindowsPath('C:/Users/mmaduar/Nextcloud/Genie_Transfer/Filtros/2011/crn/crn1609.Chn'),\n  WindowsPath('C:/Users/mmaduar/Nextcloud/Genie_Transfer/Filtros/2011/crn/crn1612.Chn'),\n  WindowsPath('C:/Users/mmaduar/Nextcloud/Genie_Transfer/Filtros/2011/crn/crn1706.Chn'),\n  WindowsPath('C:/Users/mmaduar/Nextcloud/Genie_Transfer/Filtros/2011/crn/crn1802.Chn'),\n  WindowsPath('C:/Users/mmaduar/Nextcloud/Genie_Transfer/Filtros/2011/crn/crn1803.Chn'),\n  WindowsPath('C:/Users/mmaduar/Nextcloud/Genie_Transfer/Filtros/2011/crn/crn1811.Chn'),\n  WindowsPath('C:/Users/mmaduar/Nextcloud/Genie_Transfer/Filtros/2011/crn/crn1908.Chn'),\n  WindowsPath('C:/Users/mmaduar/Nextcloud/Genie_Transfer/Filtros/2011/crn/crn2005.Chn'),\n  WindowsPath('C:/Users/mmaduar/Nextcloud/Genie_Transfer/Filtros/2011/crn/crn2101.Chn'),\n  WindowsPath('C:/Users/mmaduar/Nextcloud/Genie_Transfer/Filtros/2011/crn/crn2110.Chn'),\n  WindowsPath('C:/Users/mmaduar/Nextcloud/Genie_Transfer/Filtros/2011/crn/crn2207.Chn'),\n  WindowsPath('C:/Users/mmaduar/Nextcloud/Genie_Transfer/Filtros/2011/crn/crn2309.Chn'),\n  WindowsPath('C:/Users/mmaduar/Nextcloud/Genie_Transfer/Filtros/2011/crn/crn2312.Chn'),\n  WindowsPath('C:/Users/mmaduar/Nextcloud/Genie_Transfer/Filtros/2011/crn/crn2406.Chn'),\n  WindowsPath('C:/Users/mmaduar/Nextcloud/Genie_Transfer/Filtros/2011/crn/crn2502.Chn'),\n  WindowsPath('C:/Users/mmaduar/Nextcloud/Genie_Transfer/Filtros/2011/crn/crn2503.Chn'),\n  WindowsPath('C:/Users/mmaduar/Nextcloud/Genie_Transfer/Filtros/2011/crn/crn2511.Chn'),\n  WindowsPath('C:/Users/mmaduar/Nextcloud/Genie_Transfer/Filtros/2011/crn/crn2608.Chn'),\n  WindowsPath('C:/Users/mmaduar/Nextcloud/Genie_Transfer/Filtros/2011/crn/crn2705.Chn'),\n  WindowsPath('C:/Users/mmaduar/Nextcloud/Genie_Transfer/Filtros/2011/crn/crn2801.Chn'),\n  WindowsPath('C:/Users/mmaduar/Nextcloud/Genie_Transfer/Filtros/2011/crn/crn2810.Chn'),\n  WindowsPath('C:/Users/mmaduar/Nextcloud/Genie_Transfer/Filtros/2011/crn/crn2904.Chn'),\n  WindowsPath('C:/Users/mmaduar/Nextcloud/Genie_Transfer/Filtros/2011/crn/crn2907.Chn'),\n  WindowsPath('C:/Users/mmaduar/Nextcloud/Genie_Transfer/Filtros/2011/crn/crn2912.Chn'),\n  WindowsPath('C:/Users/mmaduar/Nextcloud/Genie_Transfer/Filtros/2011/crn/crn3009.Chn'),\n  WindowsPath('C:/Users/mmaduar/Nextcloud/Genie_Transfer/Filtros/2011/ctp/ctp0104.Chn'),\n  WindowsPath('C:/Users/mmaduar/Nextcloud/Genie_Transfer/Filtros/2011/ctp/ctp0107.Chn'),\n  WindowsPath('C:/Users/mmaduar/Nextcloud/Genie_Transfer/Filtros/2011/ctp/ctp0209.Chn'),\n  WindowsPath('C:/Users/mmaduar/Nextcloud/Genie_Transfer/Filtros/2011/ctp/ctp0212.Chn'),\n  WindowsPath('C:/Users/mmaduar/Nextcloud/Genie_Transfer/Filtros/2011/ctp/ctp0306.Chn'),\n  WindowsPath('C:/Users/mmaduar/Nextcloud/Genie_Transfer/Filtros/2011/ctp/ctp0402.Chn'),\n  WindowsPath('C:/Users/mmaduar/Nextcloud/Genie_Transfer/Filtros/2011/ctp/ctp0403.Chn'),\n  ...],\n 'reduced_names_files_list': ['almera22/det_c/iaeaqcb.chn',\n  'almera22/det_c/iaeaqcc.chn',\n  'almera22/det_c/IAEASW1B.chn',\n  'almera22/det_c/iaeaw2a.chn',\n  'almera22/eur_g_p_xtraf/Spiked water Sample Code 01A  Det G.Chn',\n  'almera22/eur_g_p_xtraf/Spiked water Sample Code 01A  Det P.Chn',\n  'almera22/eur_g_p_xtraf/Spiked water Sample Code 01B Det Eurisys.Chn',\n  'almera22/eur_g_p_xtraf/Spiked water Sample Code 01B XtRa.Chn',\n  'almera22/eur_g_p_xtraf/Spiked water Sample Code 01C Eurisys.Chn',\n  'almera22/eur_g_p_xtraf/Spiked water Sample Code 02A  Det P.Chn',\n  'almera22/eur_g_p_xtraf/Spiked water Sample Code 02A  Eurisusys.Chn',\n  'almera22/eur_g_p_xtraf/Spiked water Sample Code 02C Det G.Chn',\n  'almera22/eur_g_p_xtraf/Spiked water Sample code 03A Det P.Chn',\n  'almera22/eur_g_p_xtraf/Spiked water Sample Code 03B Det G.Chn',\n  'almera22/eur_g_p_xtraf/Spiked water Sample Code 03C Det Eurisys.Chn',\n  'almera22/eur_g_p_xtraf/Spiked water Sample Code 03C XtRa.Chn',\n  'almera22/eur_g_p_xtraf/Spiked water Sample code QCA det XtRa.Chn',\n  'almera22/eur_g_p_xtraf/Spiked water Sample Code QCB Det Eurisys.Chn',\n  'almera22/eur_g_p_xtraf/Spiked water Sample Code QCB Det G.Chn',\n  'almera22/eur_g_p_xtraf/Spiked water Sample Code QCB Det XTRa.Chn',\n  'almera22/eur_g_p_xtraf/Spiked water Sample Code QCC Det P.Chn',\n  'almera22/IAEA-TERC-2022/pt2022_spectrum_exercise/PT2022_Spectrum_Exercise/PT2022-Calibration_Standard/Background-2017/BGR-BBE-17D.CHN',\n  'almera22/IAEA-TERC-2022/pt2022_spectrum_exercise/PT2022_Spectrum_Exercise/PT2022-Calibration_Standard/BBE_NPL-A170584-D1/BBE_NPL-A170584-D1.CHN',\n  'almera22/IAEA-TERC-2022/pt2022_spectrum_exercise/PT2022_Spectrum_Exercise/PT2022_Spectra/Background-2021/BGR-BBE-21D.CHN',\n  'almera22/IAEA-TERC-2022/pt2022_spectrum_exercise/PT2022_Spectrum_Exercise/PT2022_Spectra/BBE22032_PT2022/BBE22032_PT2022.CHN',\n  'almera22/IAEA-TERC-2022/pt2022_spectrum_exercise/PT2022_Spectrum_Exercise/PT2022_Spectra/BBE_P105_Blank/BBE_P105_Blank.CHN',\n  'almera22/user2023/GIG/CRM_5A.Chn',\n  'almera22/user2023/GIG/CRM_7.Chn',\n  'almera22/user2023/IAEA2022/IAEA-TERC-2022-01_02;SampleCodeQCA-SpikedWater 100,70g (GMX).Chn',\n  'almera22/user2023/IAEA2022/Sample Code 03B Pop top.Chn',\n  'almera22/user2023/IAEA2022/Sample Code QCA Pop top.Chn',\n  'almera22/user2023/IAEA2022/Sample Code QCC Pop top.Chn',\n  'almera22/user2023/SI2022/BGTESTE.Chn',\n  'almera22/user2023/SI2022/FRASCO ORIGINAL SI084_22.Chn',\n  'almera22/user2023/SI2022/SI00822.Chn',\n  'almera22/user2023/SI2022/SI00922.Chn',\n  'almera22/user2023/SI2022/SI01622.Chn',\n  'almera22/user2023/SI2022/SI01722.Chn',\n  'almera22/user2023/SI2022/SI01822.Chn',\n  'almera22/user2023/SI2022/SI01922.Chn',\n  'almera22/user2023/SI2022/SI02022.Chn',\n  'almera22/user2023/SI2022/SI02522.Chn',\n  'almera22/user2023/SI2022/SI02622.Chn',\n  'almera22/user2023/SI2022/SI02722.Chn',\n  'almera22/user2023/SI2022/SI02922.Chn',\n  'almera22/user2023/SI2022/SI03022.Chn',\n  'almera22/user2023/SI2022/SI03122.Chn',\n  'almera22/user2023/SI2022/SI03222.Chn',\n  'almera22/user2023/SI2022/SI03322.Chn',\n  'almera22/user2023/SI2022/SI03422.Chn',\n  'almera22/user2023/SI2022/SI03522.Chn',\n  'almera22/user2023/SI2022/SI03722.Chn',\n  'almera22/user2023/SI2022/SI04022 (cont em 31-05-22).Chn',\n  'almera22/user2023/SI2022/SI04422.Chn',\n  'almera22/user2023/SI2022/SI04722.Chn',\n  'almera22/user2023/SI2022/SI05122.Chn',\n  'almera22/user2023/SI2022/SI05322.Chn',\n  'almera22/user2023/SI2022/SI05522.Chn',\n  'almera22/user2023/SI2022/SI05622.Chn',\n  'almera22/user2023/SI2022/SI05822.Chn',\n  'almera22/user2023/SI2022/SI05922.Chn',\n  'almera22/user2023/SI2022/SI06122.Chn',\n  'almera22/user2023/SI2022/SI06322.Chn',\n  'almera22/user2023/SI2022/SI06522.Chn',\n  'almera22/user2023/SI2022/SI06722.Chn',\n  'almera22/user2023/SI2022/SI06922.Chn',\n  'almera22/user2023/SI2022/SI07222.Chn',\n  'almera22/user2023/SI2022/SI07322.Chn',\n  'almera22/user2023/SI2022/SI07522.Chn',\n  'almera22/user2023/SI2022/SI07722.Chn',\n  'almera22/user2023/SI2022/SI07922.Chn',\n  'almera22/user2023/SI2022/SI08222.Chn',\n  'almera22/user2023/SI2022/SI08422.Chn',\n  'almera22/user2023/SI2022/SI08522.Chn',\n  'almera22/user2023/SI2022/SI08622.Chn',\n  'almera22/user2023/SI2022/SI08722.Chn',\n  'almera22/user2023/SI2022/SI09122.Chn',\n  'almera22/user2023/SI2022/SI09222.Chn',\n  'almera22/user2023/SI2022/SI09322.Chn',\n  'almera22/user2023/SI2022/SI09422.Chn',\n  'almera22/user2023/SI2022/SI09722.Chn',\n  'almera22/user2023/SI2022/SI09922.Chn',\n  'Filtros/BGFILTRO.Chn',\n  'Filtros/Exaustor Dirf 20 julho 2016 SI 09816.Chn',\n  'Filtros/FC SAS DIRF 2007.Chn',\n  'Filtros/2009/cce/fcce0307.Chn',\n  'Filtros/2009/cce/fcce1408.Chn',\n  'Filtros/2009/cce/fcce1707.Chn',\n  'Filtros/2009/cce/fcce2708.Chn',\n  'Filtros/2009/cce/fcce3107.Chn',\n  'Filtros/2009/cci/cci0107.Chn',\n  'Filtros/2009/cci/cci0209.Chn',\n  'Filtros/2009/cci/cci0212.Chn',\n  'Filtros/2009/cci/cci0403.Chn',\n  'Filtros/2009/cci/cci0406.Chn',\n  'Filtros/2009/cci/cci0411.Chn',\n  'Filtros/2009/cci/cci0502.Chn',\n  'Filtros/2009/cci/cci0508.Chn',\n  'Filtros/2009/cci/cci0605.chn',\n  'Filtros/2009/cci/cci0701.Chn',\n  'Filtros/2009/cci/cci0710.Chn',\n  'Filtros/2009/cci/cci0804.Chn',\n  'Filtros/2009/cci/cci0807.Chn',\n  'Filtros/2009/cci/cci0909.Chn',\n  'Filtros/2009/cci/cci0912.Chn',\n  'Filtros/2009/cci/cci1006.Chn',\n  'Filtros/2009/cci/cci1103.Chn',\n  'Filtros/2009/cci/cci1111.Chn',\n  'Filtros/2009/cci/cci1208.Chn',\n  'Filtros/2009/cci/cci1305.Chn',\n  'Filtros/2009/cci/cci1410.Chn',\n  'Filtros/2009/cci/cci1504.Chn',\n  'Filtros/2009/cci/cci1507.Chn',\n  'Filtros/2009/cci/cci1609.Chn',\n  'Filtros/2009/cci/cci1706.Chn',\n  'Filtros/2009/cci/cci1803.Chn',\n  'Filtros/2009/cci/cci1811.Chn',\n  'Filtros/2009/cci/cci1908.Chn',\n  'Filtros/2009/cci/cci2005.Chn',\n  'Filtros/2009/cci/cci2101.Chn',\n  'Filtros/2009/cci/cci2110.Chn',\n  'Filtros/2009/cci/cci2207.Chn',\n  'Filtros/2009/cci/cci2309.Chn',\n  'Filtros/2009/cci/cci2406.Chn',\n  'Filtros/2009/cci/cci2503.Chn',\n  'Filtros/2009/cci/cci2511.Chn',\n  'Filtros/2009/cci/cci2608.Chn',\n  'Filtros/2009/cci/cci2801.Chn',\n  'Filtros/2009/cci/cci2810.Chn',\n  'Filtros/2009/cci/cci2907.chn',\n  'Filtros/2009/cci/cci2912.Chn',\n  'Filtros/2009/cci/cci3103.Chn',\n  'Filtros/2009/cci/xxi1006.Chn',\n  'Filtros/2009/ces/fces0109.Chn',\n  'Filtros/2009/ces/fces0408.Chn',\n  'Filtros/2009/ces/fces0707.Chn',\n  'Filtros/2009/ces/fces1808.Chn',\n  'Filtros/2009/ces/fces2107.Chn',\n  'Filtros/2009/crf/crf0210.Chn',\n  'Filtros/2009/crf/crf0304.Chn',\n  'Filtros/2009/crf/crf0307.Chn',\n  'Filtros/2009/crf/crf0409.Chn',\n  'Filtros/2009/crf/crf0412.Chn',\n  'Filtros/2009/crf/crf0506.Chn',\n  'Filtros/2009/crf/crf0602.Chn',\n  'Filtros/2009/crf/crf0603.Chn',\n  'Filtros/2009/crf/crf0611.Chn',\n  'Filtros/2009/crf/crf0708.Chn',\n  'Filtros/2009/crf/crf0901.Chn',\n  'Filtros/2009/crf/crf0904.Chn',\n  'Filtros/2009/crf/crf0910.Chn',\n  'Filtros/2009/crf/crf1007.Chn',\n  'Filtros/2009/crf/crf1109.Chn',\n  'Filtros/2009/crf/crf1112.Chn',\n  'Filtros/2009/crf/crf1206.Chn',\n  'Filtros/2009/crf/crf1302.Chn',\n  'Filtros/2009/crf/crf1303.Chn',\n  'Filtros/2009/crf/crf1311.Chn',\n  'Filtros/2009/crf/crf1408.Chn',\n  'Filtros/2009/crf/crf1505.Chn',\n  'Filtros/2009/crf/crf15052.Chn',\n  'Filtros/2009/crf/crf1601.Chn',\n  'Filtros/2009/crf/crf1610.Chn',\n  'Filtros/2009/crf/crf1704.Chn',\n  'Filtros/2009/crf/crf1707.chn',\n  'Filtros/2009/crf/crf1809.Chn',\n  'Filtros/2009/crf/crf1812.Chn',\n  'Filtros/2009/crf/crf1906.Chn',\n  'Filtros/2009/crf/crf1911.Chn',\n  'Filtros/2009/crf/crf2002.Chn',\n  'Filtros/2009/crf/crf2003.Chn',\n  'Filtros/2009/crf/crf2108.Chn',\n  'Filtros/2009/crf/crf2205.Chn',\n  'Filtros/2009/crf/crf2301.Chn',\n  'Filtros/2009/crf/crf2310.Chn',\n  'Filtros/2009/crf/crf2312.Chn',\n  'Filtros/2009/crf/crf2404.Chn',\n  'Filtros/2009/crf/crf2407.Chn',\n  'Filtros/2009/crf/crf2509.Chn',\n  'Filtros/2009/crf/crf2606.Chn',\n  'Filtros/2009/crf/crf2702.Chn',\n  'Filtros/2009/crf/crf2703.Chn',\n  'Filtros/2009/crf/crf2711.Chn',\n  'Filtros/2009/crf/crf2808.Chn',\n  'Filtros/2009/crf/crf2905.Chn',\n  'Filtros/2009/crf/crf3001.Chn',\n  'Filtros/2009/crf/crf3004.Chn',\n  'Filtros/2009/crf/crf3010.Chn',\n  'Filtros/2009/crf/crf3107.Chn',\n  'Filtros/2009/crn/crn0210.Chn',\n  'Filtros/2009/crn/crn0304.Chn',\n  'Filtros/2009/crn/crn0307.Chn',\n  'Filtros/2009/crn/crn0409.Chn',\n  'Filtros/2009/crn/crn0412.Chn',\n  'Filtros/2009/crn/crn0506.Chn',\n  'Filtros/2009/crn/crn0602.Chn',\n  'Filtros/2009/crn/crn0603.Chn',\n  'Filtros/2009/crn/crn0611.Chn',\n  'Filtros/2009/crn/crn0708.Chn',\n  'Filtros/2009/crn/crn0805.Chn',\n  'Filtros/2009/crn/crn0901.Chn',\n  'Filtros/2009/crn/crn0904.Chn',\n  'Filtros/2009/crn/crn0910.Chn',\n  'Filtros/2009/crn/crn1007.Chn',\n  'Filtros/2009/crn/crn1109.Chn',\n  'Filtros/2009/crn/crn1112.Chn',\n  'Filtros/2009/crn/crn1206.Chn',\n  'Filtros/2009/crn/crn1302.Chn',\n  'Filtros/2009/crn/crn1303.Chn',\n  'Filtros/2009/crn/crn1311.Chn',\n  'Filtros/2009/crn/crn1408.Chn',\n  'Filtros/2009/crn/crn1505.Chn',\n  'Filtros/2009/crn/crn1601.Chn',\n  'Filtros/2009/crn/crn1610.Chn',\n  'Filtros/2009/crn/crn1704.Chn',\n  'Filtros/2009/crn/crn1707.Chn',\n  'Filtros/2009/crn/crn1809.Chn',\n  'Filtros/2009/crn/crn1812.Chn',\n  'Filtros/2009/crn/crn1906.Chn',\n  'Filtros/2009/crn/crn1911.Chn',\n  'Filtros/2009/crn/crn2002.Chn',\n  'Filtros/2009/crn/crn2003.Chn',\n  'Filtros/2009/crn/crn2108.Chn',\n  'Filtros/2009/crn/crn2205.Chn',\n  'Filtros/2009/crn/crn2301.Chn',\n  'Filtros/2009/crn/crn2310.Chn',\n  'Filtros/2009/crn/crn2312.Chn',\n  'Filtros/2009/crn/crn2404.Chn',\n  'Filtros/2009/crn/CRN2407.CHN',\n  'Filtros/2009/crn/crn2509.Chn',\n  'Filtros/2009/crn/CRN2606.Chn',\n  'Filtros/2009/crn/crn2702.Chn',\n  'Filtros/2009/crn/crn2703.Chn',\n  'Filtros/2009/crn/crn2711.Chn',\n  'Filtros/2009/crn/crn2808.Chn',\n  'Filtros/2009/crn/crn2905.Chn',\n  'Filtros/2009/crn/crn3001.Chn',\n  'Filtros/2009/crn/crn3004.Chn',\n  'Filtros/2009/crn/crn3010.Chn',\n  'Filtros/2009/crn/crn3107.chn',\n  'Filtros/2009/ctp/ctp0201.Chn',\n  'Filtros/2009/ctp/ctp0210.Chn',\n  'Filtros/2009/ctp/ctp0304.Chn',\n  'Filtros/2009/ctp/ctp0307.Chn',\n  'Filtros/2009/ctp/ctp0409.Chn',\n  'Filtros/2009/ctp/ctp0412.Chn',\n  'Filtros/2009/ctp/ctp0506.Chn',\n  'Filtros/2009/ctp/ctp0602.Chn',\n  'Filtros/2009/ctp/ctp0603.Chn',\n  'Filtros/2009/ctp/ctp0611.Chn',\n  'Filtros/2009/ctp/ctp0708.Chn',\n  'Filtros/2009/ctp/ctp0901.Chn',\n  'Filtros/2009/ctp/ctp0904.Chn',\n  'Filtros/2009/ctp/ctp0910.Chn',\n  'Filtros/2009/ctp/ctp1007.Chn',\n  'Filtros/2009/ctp/ctp1109.Chn',\n  'Filtros/2009/ctp/ctp1112.Chn',\n  'Filtros/2009/ctp/ctp1206.Chn',\n  'Filtros/2009/ctp/ctp1302.Chn',\n  'Filtros/2009/ctp/ctp1303.Chn',\n  'Filtros/2009/ctp/ctp1311.Chn',\n  'Filtros/2009/ctp/ctp1408.Chn',\n  'Filtros/2009/ctp/ctp1505.Chn',\n  'Filtros/2009/ctp/ctp15052.Chn',\n  'Filtros/2009/ctp/ctp1601.Chn',\n  'Filtros/2009/ctp/ctp1610.Chn',\n  'Filtros/2009/ctp/ctp1704.Chn',\n  'Filtros/2009/ctp/ctp1707.chn',\n  'Filtros/2009/ctp/ctp1809.Chn',\n  'Filtros/2009/ctp/ctp1812.Chn',\n  'Filtros/2009/ctp/ctp1906.Chn',\n  'Filtros/2009/ctp/ctp1911.Chn',\n  'Filtros/2009/ctp/ctp2002.Chn',\n  'Filtros/2009/ctp/ctp2003.Chn',\n  'Filtros/2009/ctp/ctp2108.Chn',\n  'Filtros/2009/ctp/ctp2205.Chn',\n  'Filtros/2009/ctp/ctp2301.Chn',\n  'Filtros/2009/ctp/ctp2310.Chn',\n  'Filtros/2009/ctp/ctp2312.Chn',\n  'Filtros/2009/ctp/ctp2404.Chn',\n  'Filtros/2009/ctp/ctp2407.Chn',\n  'Filtros/2009/ctp/ctp2509.Chn',\n  'Filtros/2009/ctp/ctp2606.Chn',\n  'Filtros/2009/ctp/ctp2702.Chn',\n  'Filtros/2009/ctp/ctp2703.Chn',\n  'Filtros/2009/ctp/ctp2711.Chn',\n  'Filtros/2009/ctp/ctp2808.Chn',\n  'Filtros/2009/ctp/ctp2905.Chn',\n  'Filtros/2009/ctp/ctp3001.Chn',\n  'Filtros/2009/ctp/ctp3004.Chn',\n  'Filtros/2009/ctp/ctp3010.Chn',\n  'Filtros/2009/ctp/ctp3107.Chn',\n  'Filtros/2009/ctr/fctr0409.Chn',\n  'Filtros/2009/ctr/fctr0708.Chn',\n  'Filtros/2009/ctr/fctr1007.Chn',\n  'Filtros/2009/ctr/fctr2108.Chn',\n  'Filtros/2009/ctr/fctr2407.Chn',\n  'Filtros/2009/pci/pci0107.Chn',\n  'Filtros/2009/pci/pci0209.Chn',\n  'Filtros/2009/pci/pci0212.Chn',\n  'Filtros/2009/pci/pci0403.Chn',\n  'Filtros/2009/pci/pci0406.Chn',\n  'Filtros/2009/pci/pci0411.Chn',\n  'Filtros/2009/pci/pci0502.Chn',\n  'Filtros/2009/pci/pci0508.Chn',\n  'Filtros/2009/pci/pci0605.Chn',\n  'Filtros/2009/pci/pci0701.Chn',\n  'Filtros/2009/pci/pci0710.Chn',\n  'Filtros/2009/pci/pci0804.Chn',\n  'Filtros/2009/pci/pci0807.Chn',\n  'Filtros/2009/pci/pci0909.Chn',\n  'Filtros/2009/pci/pci0912.Chn',\n  'Filtros/2009/pci/pci1006.Chn',\n  'Filtros/2009/pci/pci1103.Chn',\n  'Filtros/2009/pci/pci1111.Chn',\n  'Filtros/2009/pci/pci1208.Chn',\n  'Filtros/2009/pci/pci1305.Chn',\n  'Filtros/2009/pci/pci1410.Chn',\n  'Filtros/2009/pci/pci1504.Chn',\n  'Filtros/2009/pci/pci1507.Chn',\n  'Filtros/2009/pci/pci1609.Chn',\n  'Filtros/2009/pci/PCI1706.Chn',\n  'Filtros/2009/pci/pci1803.Chn',\n  'Filtros/2009/pci/pci1811.Chn',\n  'Filtros/2009/pci/pci1908.Chn',\n  'Filtros/2009/pci/pci2005.Chn',\n  'Filtros/2009/pci/pci2101.Chn',\n  'Filtros/2009/pci/pci2110.Chn',\n  'Filtros/2009/pci/pci2207.Chn',\n  'Filtros/2009/pci/pci2309.Chn',\n  'Filtros/2009/pci/pci2406.Chn',\n  'Filtros/2009/pci/pci2503.Chn',\n  'Filtros/2009/pci/pci2511.Chn',\n  'Filtros/2009/pci/pci2608.Chn',\n  'Filtros/2009/pci/pci2801.Chn',\n  'Filtros/2009/pci/pci2810.Chn',\n  'Filtros/2009/pci/pci2907.chn',\n  'Filtros/2009/pci/pci2912.Chn',\n  'Filtros/2009/pci/pci3103.Chn',\n  'Filtros/2009/prf/prf0210.Chn',\n  'Filtros/2009/prf/prf0304.Chn',\n  'Filtros/2009/prf/prf0307.Chn',\n  'Filtros/2009/prf/prf0409.Chn',\n  'Filtros/2009/prf/prf0412.Chn',\n  'Filtros/2009/prf/prf0506.Chn',\n  'Filtros/2009/prf/prf0602.Chn',\n  'Filtros/2009/prf/prf0603.Chn',\n  'Filtros/2009/prf/prf0611.Chn',\n  'Filtros/2009/prf/prf0708.Chn',\n  'Filtros/2009/prf/prf0805.Chn',\n  'Filtros/2009/prf/prf0904.Chn',\n  'Filtros/2009/prf/prf0910.Chn',\n  'Filtros/2009/prf/prf1007.Chn',\n  'Filtros/2009/prf/prf1109.Chn',\n  'Filtros/2009/prf/prf1112.Chn',\n  'Filtros/2009/prf/prf1206.Chn',\n  'Filtros/2009/prf/prf1302.Chn',\n  'Filtros/2009/prf/prf1303.Chn',\n  'Filtros/2009/prf/prf1311.Chn',\n  'Filtros/2009/prf/prf1408.Chn',\n  'Filtros/2009/prf/prf1505.chn',\n  'Filtros/2009/prf/prf1601.Chn',\n  'Filtros/2009/prf/prf1610.Chn',\n  'Filtros/2009/prf/prf1704.Chn',\n  'Filtros/2009/prf/prf1707.chn',\n  'Filtros/2009/prf/prf1809.Chn',\n  'Filtros/2009/prf/prf1812.Chn',\n  'Filtros/2009/prf/prf1906.Chn',\n  'Filtros/2009/prf/prf1911.Chn',\n  'Filtros/2009/prf/PRF2002.Chn',\n  'Filtros/2009/prf/prf2003.Chn',\n  'Filtros/2009/prf/prf2108.Chn',\n  'Filtros/2009/prf/prf2205.Chn',\n  'Filtros/2009/prf/prf2301.Chn',\n  'Filtros/2009/prf/prf2310.Chn',\n  'Filtros/2009/prf/prf2312.Chn',\n  'Filtros/2009/prf/prf2404.Chn',\n  'Filtros/2009/prf/prf2407.chn',\n  'Filtros/2009/prf/prf2509.Chn',\n  'Filtros/2009/prf/prf2606.Chn',\n  'Filtros/2009/prf/prf2702.Chn',\n  'Filtros/2009/prf/prf2703.Chn',\n  'Filtros/2009/prf/prf2711.Chn',\n  'Filtros/2009/prf/prf2808.Chn',\n  'Filtros/2009/prf/prf2905.chn',\n  'Filtros/2009/prf/prf3001.Chn',\n  'Filtros/2009/prf/prf3004.Chn',\n  'Filtros/2009/prf/prf3010.Chn',\n  'Filtros/2009/prf/prf3107.Chn',\n  'Filtros/2009/ptp/ptp0304.Chn',\n  'Filtros/2009/ptp/ptp0307.Chn',\n  'Filtros/2009/ptp/ptp0409.Chn',\n  'Filtros/2009/ptp/ptp0412.Chn',\n  'Filtros/2009/ptp/ptp0506.Chn',\n  'Filtros/2009/ptp/ptp0602.Chn',\n  'Filtros/2009/ptp/ptp0603.Chn',\n  'Filtros/2009/ptp/ptp0611.Chn',\n  'Filtros/2009/ptp/ptp0708.Chn',\n  'Filtros/2009/ptp/ptp0805.Chn',\n  'Filtros/2009/ptp/ptp0901.Chn',\n  'Filtros/2009/ptp/ptp0904.Chn',\n  'Filtros/2009/ptp/ptp0910.Chn',\n  'Filtros/2009/ptp/ptp1007.Chn',\n  'Filtros/2009/ptp/ptp1109.Chn',\n  'Filtros/2009/ptp/ptp1112.Chn',\n  'Filtros/2009/ptp/ptp1206.Chn',\n  'Filtros/2009/ptp/ptp1302.Chn',\n  'Filtros/2009/ptp/ptp1303.Chn',\n  'Filtros/2009/ptp/ptp1311.Chn',\n  'Filtros/2009/ptp/ptp1408.Chn',\n  'Filtros/2009/ptp/ptp1505.chn',\n  'Filtros/2009/ptp/ptp1601.Chn',\n  'Filtros/2009/ptp/ptp1610.Chn',\n  'Filtros/2009/ptp/ptp1704.Chn',\n  'Filtros/2009/ptp/ptp1707.chn',\n  'Filtros/2009/ptp/ptp1809.Chn',\n  'Filtros/2009/ptp/ptp1812.Chn',\n  'Filtros/2009/ptp/ptp1906.Chn',\n  'Filtros/2009/ptp/ptp1911.Chn',\n  'Filtros/2009/ptp/ptp2002.Chn',\n  'Filtros/2009/ptp/ptp2003.Chn',\n  'Filtros/2009/ptp/ptp2108.Chn',\n  'Filtros/2009/ptp/ptp2205.Chn',\n  'Filtros/2009/ptp/ptp2301.Chn',\n  'Filtros/2009/ptp/ptp2310.Chn',\n  'Filtros/2009/ptp/ptp2312.Chn',\n  'Filtros/2009/ptp/ptp2404.Chn',\n  'Filtros/2009/ptp/ptp2407.chn',\n  'Filtros/2009/ptp/ptp2509.Chn',\n  'Filtros/2009/ptp/ptp2606.Chn',\n  'Filtros/2009/ptp/ptp2702.Chn',\n  'Filtros/2009/ptp/ptp2703.Chn',\n  'Filtros/2009/ptp/ptp2711.Chn',\n  'Filtros/2009/ptp/ptp2808.Chn',\n  'Filtros/2009/ptp/ptp2905.Chn',\n  'Filtros/2009/ptp/ptp3001.Chn',\n  'Filtros/2009/ptp/ptp3004.Chn',\n  'Filtros/2009/ptp/ptp3010.Chn',\n  'Filtros/2009/ptp/ptp3040.Chn',\n  'Filtros/2009/ptp/ptp3107.Chn',\n  'Filtros/2009/rnp/prn0210.Chn',\n  'Filtros/2009/rnp/prn0304.Chn',\n  'Filtros/2009/rnp/prn0307.Chn',\n  'Filtros/2009/rnp/prn0409.Chn',\n  'Filtros/2009/rnp/prn0412.Chn',\n  'Filtros/2009/rnp/prn0506.Chn',\n  'Filtros/2009/rnp/prn0602.Chn',\n  'Filtros/2009/rnp/prn0603.Chn',\n  'Filtros/2009/rnp/prn0611.Chn',\n  'Filtros/2009/rnp/prn0708.Chn',\n  'Filtros/2009/rnp/PRN0805.Chn',\n  'Filtros/2009/rnp/prn0901.Chn',\n  'Filtros/2009/rnp/prn0904.Chn',\n  'Filtros/2009/rnp/prn0910.Chn',\n  'Filtros/2009/rnp/prn1007.Chn',\n  'Filtros/2009/rnp/prn1109.Chn',\n  'Filtros/2009/rnp/prn1112.Chn',\n  'Filtros/2009/rnp/prn1206.Chn',\n  'Filtros/2009/rnp/prn1302.Chn',\n  'Filtros/2009/rnp/prn1303.Chn',\n  'Filtros/2009/rnp/prn1311.Chn',\n  'Filtros/2009/rnp/prn1408.Chn',\n  'Filtros/2009/rnp/prn1505.Chn',\n  'Filtros/2009/rnp/prn1601.Chn',\n  'Filtros/2009/rnp/prn1610.Chn',\n  'Filtros/2009/rnp/prn1704.Chn',\n  'Filtros/2009/rnp/prn1707.chn',\n  'Filtros/2009/rnp/prn1809.Chn',\n  'Filtros/2009/rnp/prn1812.Chn',\n  'Filtros/2009/rnp/prn1906.Chn',\n  'Filtros/2009/rnp/prn1911.Chn',\n  'Filtros/2009/rnp/prn2002.Chn',\n  'Filtros/2009/rnp/prn2003.Chn',\n  'Filtros/2009/rnp/prn2108.Chn',\n  'Filtros/2009/rnp/prn2205.Chn',\n  'Filtros/2009/rnp/prn2301.Chn',\n  'Filtros/2009/rnp/prn2310.Chn',\n  'Filtros/2009/rnp/prn2312.Chn',\n  'Filtros/2009/rnp/prn2404.Chn',\n  'Filtros/2009/rnp/prn2407.chn',\n  'Filtros/2009/rnp/prn2509.Chn',\n  'Filtros/2009/rnp/prn2606.Chn',\n  'Filtros/2009/rnp/PRN2702.Chn',\n  'Filtros/2009/rnp/prn2703.Chn',\n  'Filtros/2009/rnp/prn2711.Chn',\n  'Filtros/2009/rnp/prn2808.Chn',\n  'Filtros/2009/rnp/prn2905.Chn',\n  'Filtros/2009/rnp/prn3001.Chn',\n  'Filtros/2009/rnp/prn3004.Chn',\n  'Filtros/2009/rnp/prn3010.Chn',\n  'Filtros/2009/rnp/prn3107.Chn',\n  'Filtros/2010/cci/cci 2306.Chn',\n  'Filtros/2010/cci/cci0109.Chn',\n  'Filtros/2010/cci/cci0112.Chn',\n  'Filtros/2010/cci/cci0206.Chn',\n  'Filtros/2010/cci/cci0303.Chn',\n  'Filtros/2010/cci/cci0311.Chn',\n  'Filtros/2010/cci/cci0508.Chn',\n  'Filtros/2010/cci/cci0601.Chn',\n  'Filtros/2010/cci/cci0610.Chn',\n  'Filtros/2010/cci/cci0707.Chn',\n  'Filtros/2010/cci/cci0804.Chn',\n  'Filtros/2010/cci/cci0812.Chn',\n  'Filtros/2010/cci/cci0906.Chn',\n  'Filtros/2010/cci/cci1002.Chn',\n  'Filtros/2010/cci/cci1011.Chn',\n  'Filtros/2010/cci/cci1103.Chn',\n  'Filtros/2010/cci/cci1108.Chn',\n  'Filtros/2010/cci/cci1310.Chn',\n  'Filtros/2010/cci/cci1404.Chn',\n  'Filtros/2010/cci/cci1407.Chn',\n  'Filtros/2010/cci/cci1512.Chn',\n  'Filtros/2010/cci/cci1606.Chn',\n  'Filtros/2010/cci/cci1611.Chn',\n  'Filtros/2010/cci/cci1703.Chn',\n  'Filtros/2010/cci/cci1808.Chn',\n  'Filtros/2010/cci/cci1905.Chn',\n  'Filtros/2010/cci/cci2001.Chn',\n  'Filtros/2010/cci/cci2010.Chn',\n  'Filtros/2010/cci/cci2107.Chn',\n  'Filtros/2010/cci/cci2402.Chn',\n  'Filtros/2010/cci/cci2403.Chn',\n  'Filtros/2010/cci/cci2411.Chn',\n  'Filtros/2010/cci/cci2508.Chn',\n  'Filtros/2010/cci/cci2701.Chn',\n  'Filtros/2010/cci/cci2904.Chn',\n  'Filtros/2010/cci/cci3103.Chn',\n  'Filtros/2010/cci/pci1002.Chn',\n  'Filtros/2010/ces/ces0202.Chn',\n  'Filtros/2010/crf/crf0104.Chn',\n  'Filtros/2010/crf/crf0107.Chn',\n  'Filtros/2010/crf/crf0110.Chn',\n  'Filtros/2010/crf/crf0206.Chn',\n  'Filtros/2010/crf/crf0309.Chn',\n  'Filtros/2010/crf/crf0312.Chn',\n  'Filtros/2010/crf/crf0502.Chn',\n  'Filtros/2010/crf/crf0503.Chn',\n  'Filtros/2010/crf/crf0511.Chn',\n  'Filtros/2010/crf/crf0705.Chn',\n  'Filtros/2010/crf/crf0801.Chn',\n  'Filtros/2010/crf/crf0807.Chn',\n  'Filtros/2010/crf/crf0810.Chn',\n  'Filtros/2010/crf/crf0904.Chn',\n  'Filtros/2010/crf/crf1009.Chn',\n  'Filtros/2010/crf/crf1012.Chn',\n  'Filtros/2010/crf/crf1106.Chn',\n  'Filtros/2010/crf/crf1202.Chn',\n  'Filtros/2010/crf/crf1203.Chn',\n  'Filtros/2010/crf/crf1211.Chn',\n  'Filtros/2010/crf/crf1308.Chn',\n  'Filtros/2010/crf/crf1405.Chn',\n  'Filtros/2010/crf/crf1501.Chn',\n  'Filtros/2010/crf/crf1510.Chn',\n  'Filtros/2010/crf/crf1604.Chn',\n  'Filtros/2010/crf/crf1607.Chn',\n  'Filtros/2010/crf/crf1709.Chn',\n  'Filtros/2010/crf/crf1712.Chn',\n  'Filtros/2010/crf/crf1806.Chn',\n  'Filtros/2010/crf/crf1902.Chn',\n  'Filtros/2010/crf/crf1903.Chn',\n  'Filtros/2010/crf/crf1911.Chn',\n  'Filtros/2010/crf/crf2008.Chn',\n  'Filtros/2010/crf/crf2105.Chn',\n  'Filtros/2010/crf/crf2201.Chn',\n  'Filtros/2010/crf/crf2210.Chn',\n  'Filtros/2010/crf/crf2304.Chn',\n  'Filtros/2010/crf/crf2307.Chn',\n  'Filtros/2010/crf/crf2312.Chn',\n  'Filtros/2010/crf/crf2406.Chn',\n  'Filtros/2010/crf/crf2409.Chn',\n  'Filtros/2010/crf/crf2602.Chn',\n  'Filtros/2010/crf/crf2603.Chn',\n  'Filtros/2010/crf/crf2611.Chn',\n  'Filtros/2010/crf/crf2708.Chn',\n  'Filtros/2010/crf/crf2805.Chn',\n  'Filtros/2010/crf/crf2901.Chn',\n  'Filtros/2010/crf/crf2910.Chn',\n  'Filtros/2010/crf/crf3004.Chn',\n  'Filtros/2010/crf/crf3007.Chn',\n  'Filtros/2010/crf/crf3012.Chn',\n  'Filtros/2010/crn/crf0608.Chn',\n  'Filtros/2010/crn/crn0104.Chn',\n  'Filtros/2010/crn/crn0107.Chn',\n  'Filtros/2010/crn/crn0110.Chn',\n  'Filtros/2010/crn/crn0206.Chn',\n  'Filtros/2010/crn/crn0309.Chn',\n  'Filtros/2010/crn/crn0312.Chn',\n  'Filtros/2010/crn/crn0502.Chn',\n  'Filtros/2010/crn/crn0503.Chn',\n  'Filtros/2010/crn/crn0511.Chn',\n  'Filtros/2010/crn/crn0608.Chn',\n  'Filtros/2010/crn/crn0705.Chn',\n  'Filtros/2010/crn/crn0801.Chn',\n  'Filtros/2010/crn/crn0807.Chn',\n  'Filtros/2010/crn/crn0810.Chn',\n  'Filtros/2010/crn/crn0904.Chn',\n  'Filtros/2010/crn/crn1009.Chn',\n  'Filtros/2010/crn/crn1012.Chn',\n  'Filtros/2010/crn/crn1106.Chn',\n  'Filtros/2010/crn/crn1202.Chn',\n  'Filtros/2010/crn/crn1203.Chn',\n  'Filtros/2010/crn/crn1211.Chn',\n  'Filtros/2010/crn/crn1308.Chn',\n  'Filtros/2010/crn/crn1405.Chn',\n  'Filtros/2010/crn/crn1501.Chn',\n  'Filtros/2010/crn/crn1510.Chn',\n  'Filtros/2010/crn/crn1601.Chn',\n  'Filtros/2010/crn/crn1604.Chn',\n  'Filtros/2010/crn/crn1607.Chn',\n  'Filtros/2010/crn/crn1709.Chn',\n  'Filtros/2010/crn/crn1712.Chn',\n  'Filtros/2010/crn/crn1902.Chn',\n  'Filtros/2010/crn/crn1903.Chn',\n  'Filtros/2010/crn/crn1911.Chn',\n  'Filtros/2010/crn/crn2008.Chn',\n  'Filtros/2010/crn/crn2105.Chn',\n  'Filtros/2010/crn/crn2201.Chn',\n  'Filtros/2010/crn/crn2210.Chn',\n  'Filtros/2010/crn/crn2304.Chn',\n  'Filtros/2010/crn/crn2307.Chn',\n  'Filtros/2010/crn/crn2312.Chn',\n  'Filtros/2010/crn/crn2406.Chn',\n  'Filtros/2010/crn/crn2409.Chn',\n  'Filtros/2010/crn/crn2602.Chn',\n  'Filtros/2010/crn/crn2603.Chn',\n  'Filtros/2010/crn/crn2611.Chn',\n  'Filtros/2010/crn/crn2708.Chn',\n  'Filtros/2010/crn/crn2805.Chn',\n  'Filtros/2010/crn/crn2901.Chn',\n  'Filtros/2010/crn/crn2910.Chn',\n  'Filtros/2010/crn/crn3004.Chn',\n  'Filtros/2010/crn/crn3007.Chn',\n  'Filtros/2010/crn/crn3012.Chn',\n  'Filtros/2010/ctp/cpt0309.Chn',\n  'Filtros/2010/ctp/cpt1806.Chn',\n  'Filtros/2010/ctp/ctp0107.Chn',\n  'Filtros/2010/ctp/ctp0110.Chn',\n  'Filtros/2010/ctp/ctp0206.Chn',\n  'Filtros/2010/ctp/ctp0312.Chn',\n  'Filtros/2010/ctp/ctp0502.Chn',\n  'Filtros/2010/ctp/ctp0511.Chn',\n  'Filtros/2010/ctp/ctp0608.Chn',\n  'Filtros/2010/ctp/ctp0705.Chn',\n  'Filtros/2010/ctp/ctp0801.Chn',\n  'Filtros/2010/ctp/ctp0807.Chn',\n  'Filtros/2010/ctp/ctp0810.Chn',\n  'Filtros/2010/ctp/ctp0903.Chn',\n  'Filtros/2010/ctp/ctp0904.Chn',\n  'Filtros/2010/ctp/ctp1009.Chn',\n  'Filtros/2010/ctp/ctp1012.Chn',\n  'Filtros/2010/ctp/ctp1106.Chn',\n  'Filtros/2010/ctp/ctp1202.Chn',\n  'Filtros/2010/ctp/ctp1203.Chn',\n  'Filtros/2010/ctp/ctp1211.Chn',\n  'Filtros/2010/ctp/ctp1211a.Chn',\n  'Filtros/2010/ctp/ctp1308.Chn',\n  'Filtros/2010/ctp/ctp1405.Chn',\n  'Filtros/2010/ctp/ctp1501.Chn',\n  'Filtros/2010/ctp/ctp1510.Chn',\n  'Filtros/2010/ctp/ctp1604.Chn',\n  'Filtros/2010/ctp/ctp1607.Chn',\n  'Filtros/2010/ctp/ctp1709.Chn',\n  'Filtros/2010/ctp/ctp1712.Chn',\n  'Filtros/2010/ctp/ctp1902.Chn',\n  'Filtros/2010/ctp/ctp1903.Chn',\n  'Filtros/2010/ctp/ctp1911.Chn',\n  'Filtros/2010/ctp/ctp2008.Chn',\n  'Filtros/2010/ctp/ctp2105.Chn',\n  'Filtros/2010/ctp/ctp2201.Chn',\n  'Filtros/2010/ctp/ctp2210.Chn',\n  'Filtros/2010/ctp/ctp2304.Chn',\n  'Filtros/2010/ctp/ctp2307.Chn',\n  'Filtros/2010/ctp/ctp2312.Chn',\n  'Filtros/2010/ctp/ctp2406.Chn',\n  'Filtros/2010/ctp/ctp2409.Chn',\n  'Filtros/2010/ctp/ctp2602.Chn',\n  'Filtros/2010/ctp/ctp2603.Chn',\n  'Filtros/2010/ctp/ctp2611.Chn',\n  'Filtros/2010/ctp/ctp2708.Chn',\n  'Filtros/2010/ctp/ctp2805.Chn',\n  'Filtros/2010/ctp/ctp2901.Chn',\n  'Filtros/2010/ctp/ctp2910.Chn',\n  'Filtros/2010/ctp/ctp3004.Chn',\n  'Filtros/2010/ctp/ctp3007.Chn',\n  'Filtros/2010/ctp/ctp3012.Chn',\n  'Filtros/2010/pci/pci0109.Chn',\n  'Filtros/2010/pci/pci0112.Chn',\n  'Filtros/2010/pci/pci0206.Chn',\n  'Filtros/2010/pci/pci0303.Chn',\n  'Filtros/2010/pci/pci0311.Chn',\n  'Filtros/2010/pci/pci0508.Chn',\n  'Filtros/2010/pci/pci0601.Chn',\n  'Filtros/2010/pci/pci0610.Chn',\n  'Filtros/2010/pci/pci0707.Chn',\n  'Filtros/2010/pci/pci0804.Chn',\n  'Filtros/2010/pci/pci0812.Chn',\n  'Filtros/2010/pci/pci0906.Chn',\n  'Filtros/2010/pci/pci1011.Chn',\n  'Filtros/2010/pci/pci1103.Chn',\n  'Filtros/2010/pci/pci1108.Chn',\n  'Filtros/2010/pci/pci1310.Chn',\n  'Filtros/2010/pci/pci1404.Chn',\n  'Filtros/2010/pci/pci1407.Chn',\n  'Filtros/2010/pci/pci1512.Chn',\n  'Filtros/2010/pci/pci1606.Chn',\n  'Filtros/2010/pci/pci1611.Chn',\n  'Filtros/2010/pci/pci1703.Chn',\n  'Filtros/2010/pci/pci1808.Chn',\n  'Filtros/2010/pci/pci1905.Chn',\n  'Filtros/2010/pci/pci2001.Chn',\n  'Filtros/2010/pci/pci2010.Chn',\n  'Filtros/2010/pci/pci2107.Chn',\n  'Filtros/2010/pci/pci2306.Chn',\n  'Filtros/2010/pci/pci2402.Chn',\n  'Filtros/2010/pci/pci2403.Chn',\n  'Filtros/2010/pci/pci2411.Chn',\n  'Filtros/2010/pci/pci2508.Chn',\n  'Filtros/2010/pci/pci2701.Chn',\n  'Filtros/2010/pci/pci2904.Chn',\n  'Filtros/2010/pci/pci3103.Chn',\n  'Filtros/2010/prf/prf 0608.Chn',\n  'Filtros/2010/prf/prf0104.Chn',\n  'Filtros/2010/prf/prf0107.Chn',\n  'Filtros/2010/prf/prf0110.Chn',\n  'Filtros/2010/prf/prf0206.Chn',\n  'Filtros/2010/prf/prf0309.Chn',\n  'Filtros/2010/prf/prf0312.Chn',\n  'Filtros/2010/prf/prf0502.Chn',\n  'Filtros/2010/prf/prf0503.Chn',\n  'Filtros/2010/prf/prf0705.Chn',\n  'Filtros/2010/prf/prf0801.Chn',\n  'Filtros/2010/prf/prf0807.Chn',\n  'Filtros/2010/prf/prf0810.Chn',\n  'Filtros/2010/prf/prf0904.Chn',\n  'Filtros/2010/prf/prf1009.Chn',\n  'Filtros/2010/prf/PRF1012.Chn',\n  'Filtros/2010/prf/prf1106.Chn',\n  'Filtros/2010/prf/prf1202.Chn',\n  'Filtros/2010/prf/prf1203.Chn',\n  'Filtros/2010/prf/prf1308.Chn',\n  'Filtros/2010/prf/prf1405.Chn',\n  'Filtros/2010/prf/prf1510.Chn',\n  'Filtros/2010/prf/prf1604.Chn',\n  'Filtros/2010/prf/prf1607.Chn',\n  'Filtros/2010/prf/prf1709.Chn',\n  'Filtros/2010/prf/prf1712.Chn',\n  'Filtros/2010/prf/prf1806.Chn',\n  'Filtros/2010/prf/prf1902.Chn',\n  'Filtros/2010/prf/prf1903.Chn',\n  'Filtros/2010/prf/prf2105.Chn',\n  'Filtros/2010/prf/prf2201.Chn',\n  'Filtros/2010/prf/prf2307.Chn',\n  'Filtros/2010/prf/prf2312.Chn',\n  'Filtros/2010/prf/prf2406.Chn',\n  'Filtros/2010/prf/prf2409.Chn',\n  'Filtros/2010/prf/prf2602.Chn',\n  'Filtros/2010/prf/prf2603.Chn',\n  'Filtros/2010/prf/prf2611.Chn',\n  'Filtros/2010/prf/prf2708.Chn',\n  'Filtros/2010/prf/prf2805.Chn',\n  'Filtros/2010/prf/prf2901.Chn',\n  'Filtros/2010/prf/prf3004.Chn',\n  'Filtros/2010/prf/prf3007.Chn',\n  'Filtros/2010/prf/prf3012.Chn',\n  'Filtros/2010/ptp/ptp0107.Chn',\n  'Filtros/2010/ptp/ptp0110.Chn',\n  'Filtros/2010/ptp/ptp0206.Chn',\n  'Filtros/2010/ptp/ptp0309.Chn',\n  'Filtros/2010/ptp/ptp0312.Chn',\n  'Filtros/2010/ptp/ptp0502.Chn',\n  'Filtros/2010/ptp/ptp0503.Chn',\n  'Filtros/2010/ptp/ptp0608.Chn',\n  'Filtros/2010/ptp/ptp0705.Chn',\n  'Filtros/2010/ptp/ptp0801.Chn',\n  'Filtros/2010/ptp/ptp0807.Chn',\n  'Filtros/2010/ptp/ptp0810.Chn',\n  'Filtros/2010/ptp/ptp0904.Chn',\n  'Filtros/2010/ptp/ptp1009.Chn',\n  'Filtros/2010/ptp/ptp1012.Chn',\n  'Filtros/2010/ptp/ptp1106.Chn',\n  'Filtros/2010/ptp/ptp1202.Chn',\n  'Filtros/2010/ptp/ptp1203.Chn',\n  'Filtros/2010/ptp/ptp1308.Chn',\n  'Filtros/2010/ptp/ptp1405.Chn',\n  'Filtros/2010/ptp/ptp1501.Chn',\n  'Filtros/2010/ptp/ptp1604.Chn',\n  'Filtros/2010/ptp/ptp1607.Chn',\n  'Filtros/2010/ptp/ptp1709.Chn',\n  'Filtros/2010/ptp/ptp1712.Chn',\n  'Filtros/2010/ptp/ptp1902.Chn',\n  'Filtros/2010/ptp/ptp1903.Chn',\n  'Filtros/2010/ptp/ptp2008.Chn',\n  'Filtros/2010/ptp/ptp2105.Chn',\n  'Filtros/2010/ptp/ptp2201.Chn',\n  'Filtros/2010/ptp/ptp2307.Chn',\n  'Filtros/2010/ptp/ptp2312.Chn',\n  'Filtros/2010/ptp/ptp2406.Chn',\n  'Filtros/2010/ptp/ptp2409.Chn',\n  'Filtros/2010/ptp/ptp2603.Chn',\n  'Filtros/2010/ptp/ptp2611.Chn',\n  'Filtros/2010/ptp/ptp2708.Chn',\n  'Filtros/2010/ptp/ptp2805.Chn',\n  'Filtros/2010/ptp/ptp2901.Chn',\n  'Filtros/2010/ptp/ptp3004.Chn',\n  'Filtros/2010/ptp/ptp3007.Chn',\n  'Filtros/2010/ptp/ptp3012.Chn',\n  'Filtros/2010/rnp/prn0104.Chn',\n  'Filtros/2010/rnp/prn0107.Chn',\n  'Filtros/2010/rnp/prn0110.Chn',\n  'Filtros/2010/rnp/prn0206.Chn',\n  'Filtros/2010/rnp/prn0309.Chn',\n  'Filtros/2010/rnp/prn0312.Chn',\n  'Filtros/2010/rnp/prn0502.Chn',\n  'Filtros/2010/rnp/prn0503.Chn',\n  'Filtros/2010/rnp/prn0608.Chn',\n  'Filtros/2010/rnp/prn0705.Chn',\n  'Filtros/2010/rnp/prn0801.Chn',\n  'Filtros/2010/rnp/prn0807.Chn',\n  'Filtros/2010/rnp/prn0904.Chn',\n  'Filtros/2010/rnp/prn1009.Chn',\n  'Filtros/2010/rnp/prn1012.Chn',\n  'Filtros/2010/rnp/prn1106.Chn',\n  'Filtros/2010/rnp/prn1202.Chn',\n  'Filtros/2010/rnp/prn1203.Chn',\n  'Filtros/2010/rnp/prn1308.Chn',\n  'Filtros/2010/rnp/prn1405.Chn',\n  'Filtros/2010/rnp/prn1501.Chn',\n  'Filtros/2010/rnp/prn1604.Chn',\n  'Filtros/2010/rnp/prn1607.Chn',\n  'Filtros/2010/rnp/prn1709.Chn',\n  'Filtros/2010/rnp/prn1712.Chn',\n  'Filtros/2010/rnp/prn1806.Chn',\n  'Filtros/2010/rnp/prn1902.Chn',\n  'Filtros/2010/rnp/prn1903.Chn',\n  'Filtros/2010/rnp/PRN2008.Chn',\n  'Filtros/2010/rnp/prn2105.Chn',\n  'Filtros/2010/rnp/prn2201.Chn',\n  'Filtros/2010/rnp/prn2307.Chn',\n  'Filtros/2010/rnp/prn2312.Chn',\n  'Filtros/2010/rnp/prn2406.Chn',\n  'Filtros/2010/rnp/prn2409.Chn',\n  'Filtros/2010/rnp/prn2602.Chn',\n  'Filtros/2010/rnp/prn2603.Chn',\n  'Filtros/2010/rnp/prn2611.Chn',\n  'Filtros/2010/rnp/prn2708.Chn',\n  'Filtros/2010/rnp/prn2805.Chn',\n  'Filtros/2010/rnp/prn2901.Chn',\n  'Filtros/2010/rnp/prn3004.Chn',\n  'Filtros/2010/rnp/prn3007.Chn',\n  'Filtros/2010/rnp/prn3012.Chn',\n  'Filtros/2011/cci/cci0106.Chn',\n  'Filtros/2011/cci/cci0203.Chn',\n  'Filtros/2011/cci/cci0302.Chn',\n  'Filtros/2011/cci/cci0308.Chn',\n  'Filtros/2011/cci/cci0311.Chn',\n  'Filtros/2011/cci/cci0405.Chn',\n  'Filtros/2011/cci/cci0501.Chn',\n  'Filtros/2011/cci/cci0510.Chn',\n  'Filtros/2011/cci/cci0604.Chn',\n  'Filtros/2011/cci/cci0607.Chn',\n  'Filtros/2011/cci/cci0712.Chn',\n  'Filtros/2011/cci/cci0806.Chn',\n  'Filtros/2011/cci/cci0902.Chn',\n  'Filtros/2011/cci/cci1008.Chn',\n  'Filtros/2011/cci/cci1011.Chn',\n  'Filtros/2011/cci/cci1301.Chn',\n  'Filtros/2011/cci/cci1304.Chn',\n  'Filtros/2011/cci/cci1307.Chn',\n  'Filtros/2011/cci/cci1409.Chn',\n  'Filtros/2011/cci/cci1412.Chn',\n  'Filtros/2011/cci/cci1506.Chn',\n  'Filtros/2011/cci/cci1602.Chn',\n  'Filtros/2011/cci/cci1611.Chn',\n  'Filtros/2011/cci/CCI1703.Chn',\n  'Filtros/2011/cci/cci1708.Chn',\n  'Filtros/2011/cci/cci1901.Chn',\n  'Filtros/2011/cci/cci1910.Chn',\n  'Filtros/2011/cci/cci2007.Chn',\n  'Filtros/2011/cci/cci2206.Chn',\n  'Filtros/2011/cci/cci2209.Chn',\n  'Filtros/2011/cci/cci2212.Chn',\n  'Filtros/2011/cci/cci2302.Chn',\n  'Filtros/2011/cci/cci2311.Chn',\n  'Filtros/2011/cci/cci2408.Chn',\n  'Filtros/2011/cci/cci2505.Chn',\n  'Filtros/2011/cci/cci2601.Chn',\n  'Filtros/2011/cci/cci2610.Chn',\n  'Filtros/2011/cci/cci2704.Chn',\n  'Filtros/2011/cci/cci2707.Chn',\n  'Filtros/2011/cci/cci2809.Chn',\n  'Filtros/2011/cci/cci2906.Chn',\n  'Filtros/2011/cci/cci3003.Chn',\n  'Filtros/2011/cci/cci3108.Chn',\n  'Filtros/2011/crf/crf0104.Chn',\n  'Filtros/2011/crf/crf0107.Chn',\n  'Filtros/2011/crf/crf0209.Chn',\n  'Filtros/2011/crf/crf0212.Chn',\n  'Filtros/2011/crf/crf0306.Chn',\n  'Filtros/2011/crf/crf0402.Chn',\n  'Filtros/2011/crf/crf0403.Chn',\n  'Filtros/2011/crf/crf0411.Chn',\n  'Filtros/2011/crf/crf0508.Chn',\n  'Filtros/2011/crf/crf0605.Chn',\n  'Filtros/2011/crf/crf0701.Chn',\n  'Filtros/2011/crf/crf0710.Chn',\n  'Filtros/2011/crf/crf0804.Chn',\n  'Filtros/2011/crf/crf0909.Chn',\n  'Filtros/2011/crf/crf0912.Chn',\n  'Filtros/2011/crf/crf1006.Chn',\n  'Filtros/2011/crf/crf1102.Chn',\n  'Filtros/2011/crf/crf1103.Chn',\n  'Filtros/2011/crf/crf1111.Chn',\n  'Filtros/2011/crf/crf1208.Chn',\n  'Filtros/2011/crf/crf1305.Chn',\n  'Filtros/2011/crf/crf1401.Chn',\n  'Filtros/2011/crf/crf1410.Chn',\n  'Filtros/2011/crf/crf1504.Chn',\n  'Filtros/2011/crf/crf1507.Chn',\n  'Filtros/2011/crf/crf1609.Chn',\n  'Filtros/2011/crf/crf1612.Chn',\n  'Filtros/2011/crf/crf1706.Chn',\n  'Filtros/2011/crf/crf1802.Chn',\n  'Filtros/2011/crf/crf1803.Chn',\n  'Filtros/2011/crf/crf1811.Chn',\n  'Filtros/2011/crf/crf1908.Chn',\n  'Filtros/2011/crf/crf2005.Chn',\n  'Filtros/2011/crf/crf2101.Chn',\n  'Filtros/2011/crf/crf2110.Chn',\n  'Filtros/2011/crf/crf2207.Chn',\n  'Filtros/2011/crf/crf2309.Chn',\n  'Filtros/2011/crf/crf2312.Chn',\n  'Filtros/2011/crf/crf2406.Chn',\n  'Filtros/2011/crf/crf2502.Chn',\n  'Filtros/2011/crf/crf2503.Chn',\n  'Filtros/2011/crf/crf2511.Chn',\n  'Filtros/2011/crf/crf2608.Chn',\n  'Filtros/2011/crf/crf2705.Chn',\n  'Filtros/2011/crf/crf2801.Chn',\n  'Filtros/2011/crf/crf2810.Chn',\n  'Filtros/2011/crf/crf2904.Chn',\n  'Filtros/2011/crf/crf2907.Chn',\n  'Filtros/2011/crf/crf2912.Chn',\n  'Filtros/2011/crf/crf3009.Chn',\n  'Filtros/2011/crn/crn0104.Chn',\n  'Filtros/2011/crn/crn0107-reco.CHN',\n  'Filtros/2011/crn/crn0107.Chn',\n  'Filtros/2011/crn/crn0209.Chn',\n  'Filtros/2011/crn/crn0212.Chn',\n  'Filtros/2011/crn/crn0306.Chn',\n  'Filtros/2011/crn/crn0402.Chn',\n  'Filtros/2011/crn/crn0403.Chn',\n  'Filtros/2011/crn/crn0411.Chn',\n  'Filtros/2011/crn/crn0508.Chn',\n  'Filtros/2011/crn/crn0701.Chn',\n  'Filtros/2011/crn/crn0710.Chn',\n  'Filtros/2011/crn/crn0804.Chn',\n  'Filtros/2011/crn/crn0909.Chn',\n  'Filtros/2011/crn/crn0912.Chn',\n  'Filtros/2011/crn/crn1006.Chn',\n  'Filtros/2011/crn/crn1102.Chn',\n  'Filtros/2011/crn/crn1103.Chn',\n  'Filtros/2011/crn/crn1111.Chn',\n  'Filtros/2011/crn/crn1208.Chn',\n  'Filtros/2011/crn/crn1305.Chn',\n  'Filtros/2011/crn/crn1401.Chn',\n  'Filtros/2011/crn/crn1410.Chn',\n  'Filtros/2011/crn/crn1504.Chn',\n  'Filtros/2011/crn/crn1507.Chn',\n  'Filtros/2011/crn/crn1609.Chn',\n  'Filtros/2011/crn/crn1612.Chn',\n  'Filtros/2011/crn/crn1706.Chn',\n  'Filtros/2011/crn/crn1802.Chn',\n  'Filtros/2011/crn/crn1803.Chn',\n  'Filtros/2011/crn/crn1811.Chn',\n  'Filtros/2011/crn/crn1908.Chn',\n  'Filtros/2011/crn/crn2005.Chn',\n  'Filtros/2011/crn/crn2101.Chn',\n  'Filtros/2011/crn/crn2110.Chn',\n  'Filtros/2011/crn/crn2207.Chn',\n  'Filtros/2011/crn/crn2309.Chn',\n  'Filtros/2011/crn/crn2312.Chn',\n  'Filtros/2011/crn/crn2406.Chn',\n  'Filtros/2011/crn/crn2502.Chn',\n  'Filtros/2011/crn/crn2503.Chn',\n  'Filtros/2011/crn/crn2511.Chn',\n  'Filtros/2011/crn/crn2608.Chn',\n  'Filtros/2011/crn/crn2705.Chn',\n  'Filtros/2011/crn/crn2801.Chn',\n  'Filtros/2011/crn/crn2810.Chn',\n  'Filtros/2011/crn/crn2904.Chn',\n  'Filtros/2011/crn/crn2907.Chn',\n  'Filtros/2011/crn/crn2912.Chn',\n  'Filtros/2011/crn/crn3009.Chn',\n  'Filtros/2011/ctp/ctp0104.Chn',\n  'Filtros/2011/ctp/ctp0107.Chn',\n  'Filtros/2011/ctp/ctp0209.Chn',\n  'Filtros/2011/ctp/ctp0212.Chn',\n  'Filtros/2011/ctp/ctp0306.Chn',\n  'Filtros/2011/ctp/ctp0402.Chn',\n  'Filtros/2011/ctp/ctp0403.Chn',\n  ...],\n 'spectra_pattern_names': ['**/*.[Cc][Hh][Nn]', '**/*.[Ii][Ee][Cc]'],\n 'a_spec': <spec_class.Spec at 0x1c31835fe80>}"
     },
     "execution_count": 19,
     "metadata": {},
     "output_type": "execute_result"
    }
   ],
   "source": [
    "vars(ogra)"
   ],
   "metadata": {
    "collapsed": false
   }
  },
  {
   "cell_type": "code",
   "execution_count": 20,
   "outputs": [
    {
     "name": "stdout",
     "output_type": "stream",
     "text": [
      "índice do espectro na lista: 62\n"
     ]
    },
    {
     "data": {
      "text/plain": "'almera22/user2023/SI2022/SI06322.Chn'"
     },
     "execution_count": 20,
     "metadata": {},
     "output_type": "execute_result"
    }
   ],
   "source": [
    "# 2022-Dez-28\n",
    "print(f'índice do espectro na lista: {ogra.a_spec_ind}')\n",
    "ogra.reduced_names_files_list[ogra.a_spec_ind]"
   ],
   "metadata": {
    "collapsed": false
   }
  },
  {
   "cell_type": "code",
   "execution_count": 21,
   "metadata": {},
   "outputs": [],
   "source": [
    "# 2022-Dez-28: Atualizar:\n",
    "# (2022-Jun-24 Lembrando como estão os defaults de total_analysis(...):\n",
    "# def total_analysis(self, k_sep_pk=2.0, smoo=3000.0, widths_range=(4.0, 20.0)):)\n",
    "# smoo=3000 fica razoável, mas faz umas ondas\n",
    "# smoo=1500 fica horrível, faz uns abismos. Quanto menor, pior\n",
    "# smoo=400 fica razoável, mas faz umas ondas\n",
    "# ogra.perform_total_analysis(\n",
    "#     k_sep_pk=2.0, smoo=4096, widths_range=(4.0, 20.0)\n",
    "# )"
   ]
  },
  {
   "cell_type": "code",
   "execution_count": 22,
   "outputs": [
    {
     "data": {
      "text/plain": "Series([], dtype: object)"
     },
     "execution_count": 22,
     "metadata": {},
     "output_type": "execute_result"
    }
   ],
   "source": [
    "ogra.a_spec.spec_pks_df.dtypes"
   ],
   "metadata": {
    "collapsed": false
   }
  },
  {
   "cell_type": "code",
   "execution_count": 23,
   "outputs": [
    {
     "data": {
      "text/plain": "['ExponentialModel',\n 'ExpressionModel',\n 'GaussianModel',\n 'In',\n 'LinearModel',\n 'LorentzianModel',\n 'Model',\n 'Ograyspy',\n 'Out',\n 'Parameters',\n 'SkewedGaussianModel',\n 'Spec',\n 'StepModel',\n '_',\n '_12',\n '_13',\n '_14',\n '_17',\n '_19',\n '_20',\n '_22',\n '__',\n '___',\n '__builtin__',\n '__builtins__',\n '__doc__',\n '__loader__',\n '__name__',\n '__package__',\n '__spec__',\n '_dh',\n '_i',\n '_i1',\n '_i10',\n '_i11',\n '_i12',\n '_i13',\n '_i14',\n '_i15',\n '_i16',\n '_i17',\n '_i18',\n '_i19',\n '_i2',\n '_i20',\n '_i21',\n '_i22',\n '_i23',\n '_i3',\n '_i4',\n '_i5',\n '_i6',\n '_i7',\n '_i8',\n '_i9',\n '_ih',\n '_ii',\n '_iii',\n '_oh',\n '_pydevd_bundle',\n 'a_pattern',\n 'default_rng',\n 'exit',\n 'fit_report',\n 'get_ipython',\n 'go',\n 'minimize',\n 'np',\n 'ogra',\n 'open',\n 'pd',\n 'plt',\n 'printfuncs',\n 'pydev_jupyter_vars',\n 'quit',\n 'remove_imported_pydev_package',\n 'report_fit',\n 'rng',\n 'special',\n 'sys',\n 'to_be_found']"
     },
     "execution_count": 23,
     "metadata": {},
     "output_type": "execute_result"
    }
   ],
   "source": [
    "dir()"
   ],
   "metadata": {
    "collapsed": false
   }
  },
  {
   "cell_type": "code",
   "execution_count": 24,
   "outputs": [
    {
     "data": {
      "text/plain": "       Nucl      Engy  sEngy      Yie   sYie\n0   Ag-110m   446.811  0.003    3.750  0.030\n1   Ag-110m   620.360  0.003    2.806  0.018\n2   Ag-110m   657.762  0.002   94.600  0.400\n3   Ag-110m   677.723  0.002   10.350  0.080\n4   Ag-110m   687.015  0.003    6.440  0.060\n5   Ag-110m   706.682  0.003   16.440  0.100\n6   Ag-110m   744.277  0.003    4.730  0.030\n7   Ag-110m   763.944  0.003   22.290  0.090\n8   Ag-110m   818.031  0.003    7.340  0.040\n9   Ag-110m   884.685  0.003   72.700  0.300\n10  Ag-110m   937.493  0.004   34.360  0.120\n11  Ag-110m  1384.300  0.004   24.280  0.080\n12  Ag-110m  1475.788  0.006    3.995  0.017\n13  Ag-110m  1505.040  0.005   13.040  0.050\n14  Ag-110m  1562.302  0.005    1.029  0.007\n15   Ba-140   304.874  0.007    4.300  0.060\n16   Ba-140   537.311  0.003   24.390  0.220\n17    Co-58   810.775  0.009   99.448  0.008\n18    Co-58  1674.730  0.010    0.518  0.008\n19    Co-60  1173.237  0.004   99.900  0.020\n20    Co-60  1332.501  0.005   99.982  0.001\n21    Cr-51   320.084  0.001   10.080  0.230\n22   Cs-137   661.660  0.003   85.210  0.070\n23    I-131   284.298  0.011    6.060  0.090\n24    I-131   364.480  0.011   81.200  1.200\n25    I-131   636.973  0.010    7.270  0.110\n26    I-131   722.893  0.010    1.800  0.030\n27   La-140   328.762  0.008   20.600  0.400\n28   La-140   487.021  0.012   44.300  0.800\n29   La-140   815.772  0.019   22.900  0.400\n30   La-140   867.846  0.020    5.590  0.050\n31   La-140   925.189  0.021    6.930  0.080\n32   La-140  1596.210  0.040   95.400  0.080\n33   La-140  2521.400  0.050    3.420  0.050\n34    Mn-54   834.827  0.001   99.975  0.005\n35    Na-24  1368.550  0.040  100.000  0.001\n36    Na-24  2754.050  0.080   99.944  0.004\n37   Np-239   106.123  0.002   22.900  1.200\n38   Np-239   228.183  0.001   10.800  0.600\n39   Np-239   277.599  0.001   14.200  0.200\n40   Ru-103   497.084  0.006   91.000  3.000\n41   Ru-103   610.330  0.020    5.730  0.190\n42   Te-132   228.160  0.060   88.200  0.400\n43    W-187   134.247  0.007    8.800  0.300\n44    W-187   479.550  0.022   21.800  0.800\n45    W-187   618.260  0.040    6.280  0.220\n46    W-187   685.730  0.040   27.300  1.000\n47    W-187   772.890  0.050    4.120  0.140\n48    Zn-65  1115.520  0.001   50.750  0.100",
      "text/html": "<div>\n<style scoped>\n    .dataframe tbody tr th:only-of-type {\n        vertical-align: middle;\n    }\n\n    .dataframe tbody tr th {\n        vertical-align: top;\n    }\n\n    .dataframe thead th {\n        text-align: right;\n    }\n</style>\n<table border=\"1\" class=\"dataframe\">\n  <thead>\n    <tr style=\"text-align: right;\">\n      <th></th>\n      <th>Nucl</th>\n      <th>Engy</th>\n      <th>sEngy</th>\n      <th>Yie</th>\n      <th>sYie</th>\n    </tr>\n  </thead>\n  <tbody>\n    <tr>\n      <th>0</th>\n      <td>Ag-110m</td>\n      <td>446.811</td>\n      <td>0.003</td>\n      <td>3.750</td>\n      <td>0.030</td>\n    </tr>\n    <tr>\n      <th>1</th>\n      <td>Ag-110m</td>\n      <td>620.360</td>\n      <td>0.003</td>\n      <td>2.806</td>\n      <td>0.018</td>\n    </tr>\n    <tr>\n      <th>2</th>\n      <td>Ag-110m</td>\n      <td>657.762</td>\n      <td>0.002</td>\n      <td>94.600</td>\n      <td>0.400</td>\n    </tr>\n    <tr>\n      <th>3</th>\n      <td>Ag-110m</td>\n      <td>677.723</td>\n      <td>0.002</td>\n      <td>10.350</td>\n      <td>0.080</td>\n    </tr>\n    <tr>\n      <th>4</th>\n      <td>Ag-110m</td>\n      <td>687.015</td>\n      <td>0.003</td>\n      <td>6.440</td>\n      <td>0.060</td>\n    </tr>\n    <tr>\n      <th>5</th>\n      <td>Ag-110m</td>\n      <td>706.682</td>\n      <td>0.003</td>\n      <td>16.440</td>\n      <td>0.100</td>\n    </tr>\n    <tr>\n      <th>6</th>\n      <td>Ag-110m</td>\n      <td>744.277</td>\n      <td>0.003</td>\n      <td>4.730</td>\n      <td>0.030</td>\n    </tr>\n    <tr>\n      <th>7</th>\n      <td>Ag-110m</td>\n      <td>763.944</td>\n      <td>0.003</td>\n      <td>22.290</td>\n      <td>0.090</td>\n    </tr>\n    <tr>\n      <th>8</th>\n      <td>Ag-110m</td>\n      <td>818.031</td>\n      <td>0.003</td>\n      <td>7.340</td>\n      <td>0.040</td>\n    </tr>\n    <tr>\n      <th>9</th>\n      <td>Ag-110m</td>\n      <td>884.685</td>\n      <td>0.003</td>\n      <td>72.700</td>\n      <td>0.300</td>\n    </tr>\n    <tr>\n      <th>10</th>\n      <td>Ag-110m</td>\n      <td>937.493</td>\n      <td>0.004</td>\n      <td>34.360</td>\n      <td>0.120</td>\n    </tr>\n    <tr>\n      <th>11</th>\n      <td>Ag-110m</td>\n      <td>1384.300</td>\n      <td>0.004</td>\n      <td>24.280</td>\n      <td>0.080</td>\n    </tr>\n    <tr>\n      <th>12</th>\n      <td>Ag-110m</td>\n      <td>1475.788</td>\n      <td>0.006</td>\n      <td>3.995</td>\n      <td>0.017</td>\n    </tr>\n    <tr>\n      <th>13</th>\n      <td>Ag-110m</td>\n      <td>1505.040</td>\n      <td>0.005</td>\n      <td>13.040</td>\n      <td>0.050</td>\n    </tr>\n    <tr>\n      <th>14</th>\n      <td>Ag-110m</td>\n      <td>1562.302</td>\n      <td>0.005</td>\n      <td>1.029</td>\n      <td>0.007</td>\n    </tr>\n    <tr>\n      <th>15</th>\n      <td>Ba-140</td>\n      <td>304.874</td>\n      <td>0.007</td>\n      <td>4.300</td>\n      <td>0.060</td>\n    </tr>\n    <tr>\n      <th>16</th>\n      <td>Ba-140</td>\n      <td>537.311</td>\n      <td>0.003</td>\n      <td>24.390</td>\n      <td>0.220</td>\n    </tr>\n    <tr>\n      <th>17</th>\n      <td>Co-58</td>\n      <td>810.775</td>\n      <td>0.009</td>\n      <td>99.448</td>\n      <td>0.008</td>\n    </tr>\n    <tr>\n      <th>18</th>\n      <td>Co-58</td>\n      <td>1674.730</td>\n      <td>0.010</td>\n      <td>0.518</td>\n      <td>0.008</td>\n    </tr>\n    <tr>\n      <th>19</th>\n      <td>Co-60</td>\n      <td>1173.237</td>\n      <td>0.004</td>\n      <td>99.900</td>\n      <td>0.020</td>\n    </tr>\n    <tr>\n      <th>20</th>\n      <td>Co-60</td>\n      <td>1332.501</td>\n      <td>0.005</td>\n      <td>99.982</td>\n      <td>0.001</td>\n    </tr>\n    <tr>\n      <th>21</th>\n      <td>Cr-51</td>\n      <td>320.084</td>\n      <td>0.001</td>\n      <td>10.080</td>\n      <td>0.230</td>\n    </tr>\n    <tr>\n      <th>22</th>\n      <td>Cs-137</td>\n      <td>661.660</td>\n      <td>0.003</td>\n      <td>85.210</td>\n      <td>0.070</td>\n    </tr>\n    <tr>\n      <th>23</th>\n      <td>I-131</td>\n      <td>284.298</td>\n      <td>0.011</td>\n      <td>6.060</td>\n      <td>0.090</td>\n    </tr>\n    <tr>\n      <th>24</th>\n      <td>I-131</td>\n      <td>364.480</td>\n      <td>0.011</td>\n      <td>81.200</td>\n      <td>1.200</td>\n    </tr>\n    <tr>\n      <th>25</th>\n      <td>I-131</td>\n      <td>636.973</td>\n      <td>0.010</td>\n      <td>7.270</td>\n      <td>0.110</td>\n    </tr>\n    <tr>\n      <th>26</th>\n      <td>I-131</td>\n      <td>722.893</td>\n      <td>0.010</td>\n      <td>1.800</td>\n      <td>0.030</td>\n    </tr>\n    <tr>\n      <th>27</th>\n      <td>La-140</td>\n      <td>328.762</td>\n      <td>0.008</td>\n      <td>20.600</td>\n      <td>0.400</td>\n    </tr>\n    <tr>\n      <th>28</th>\n      <td>La-140</td>\n      <td>487.021</td>\n      <td>0.012</td>\n      <td>44.300</td>\n      <td>0.800</td>\n    </tr>\n    <tr>\n      <th>29</th>\n      <td>La-140</td>\n      <td>815.772</td>\n      <td>0.019</td>\n      <td>22.900</td>\n      <td>0.400</td>\n    </tr>\n    <tr>\n      <th>30</th>\n      <td>La-140</td>\n      <td>867.846</td>\n      <td>0.020</td>\n      <td>5.590</td>\n      <td>0.050</td>\n    </tr>\n    <tr>\n      <th>31</th>\n      <td>La-140</td>\n      <td>925.189</td>\n      <td>0.021</td>\n      <td>6.930</td>\n      <td>0.080</td>\n    </tr>\n    <tr>\n      <th>32</th>\n      <td>La-140</td>\n      <td>1596.210</td>\n      <td>0.040</td>\n      <td>95.400</td>\n      <td>0.080</td>\n    </tr>\n    <tr>\n      <th>33</th>\n      <td>La-140</td>\n      <td>2521.400</td>\n      <td>0.050</td>\n      <td>3.420</td>\n      <td>0.050</td>\n    </tr>\n    <tr>\n      <th>34</th>\n      <td>Mn-54</td>\n      <td>834.827</td>\n      <td>0.001</td>\n      <td>99.975</td>\n      <td>0.005</td>\n    </tr>\n    <tr>\n      <th>35</th>\n      <td>Na-24</td>\n      <td>1368.550</td>\n      <td>0.040</td>\n      <td>100.000</td>\n      <td>0.001</td>\n    </tr>\n    <tr>\n      <th>36</th>\n      <td>Na-24</td>\n      <td>2754.050</td>\n      <td>0.080</td>\n      <td>99.944</td>\n      <td>0.004</td>\n    </tr>\n    <tr>\n      <th>37</th>\n      <td>Np-239</td>\n      <td>106.123</td>\n      <td>0.002</td>\n      <td>22.900</td>\n      <td>1.200</td>\n    </tr>\n    <tr>\n      <th>38</th>\n      <td>Np-239</td>\n      <td>228.183</td>\n      <td>0.001</td>\n      <td>10.800</td>\n      <td>0.600</td>\n    </tr>\n    <tr>\n      <th>39</th>\n      <td>Np-239</td>\n      <td>277.599</td>\n      <td>0.001</td>\n      <td>14.200</td>\n      <td>0.200</td>\n    </tr>\n    <tr>\n      <th>40</th>\n      <td>Ru-103</td>\n      <td>497.084</td>\n      <td>0.006</td>\n      <td>91.000</td>\n      <td>3.000</td>\n    </tr>\n    <tr>\n      <th>41</th>\n      <td>Ru-103</td>\n      <td>610.330</td>\n      <td>0.020</td>\n      <td>5.730</td>\n      <td>0.190</td>\n    </tr>\n    <tr>\n      <th>42</th>\n      <td>Te-132</td>\n      <td>228.160</td>\n      <td>0.060</td>\n      <td>88.200</td>\n      <td>0.400</td>\n    </tr>\n    <tr>\n      <th>43</th>\n      <td>W-187</td>\n      <td>134.247</td>\n      <td>0.007</td>\n      <td>8.800</td>\n      <td>0.300</td>\n    </tr>\n    <tr>\n      <th>44</th>\n      <td>W-187</td>\n      <td>479.550</td>\n      <td>0.022</td>\n      <td>21.800</td>\n      <td>0.800</td>\n    </tr>\n    <tr>\n      <th>45</th>\n      <td>W-187</td>\n      <td>618.260</td>\n      <td>0.040</td>\n      <td>6.280</td>\n      <td>0.220</td>\n    </tr>\n    <tr>\n      <th>46</th>\n      <td>W-187</td>\n      <td>685.730</td>\n      <td>0.040</td>\n      <td>27.300</td>\n      <td>1.000</td>\n    </tr>\n    <tr>\n      <th>47</th>\n      <td>W-187</td>\n      <td>772.890</td>\n      <td>0.050</td>\n      <td>4.120</td>\n      <td>0.140</td>\n    </tr>\n    <tr>\n      <th>48</th>\n      <td>Zn-65</td>\n      <td>1115.520</td>\n      <td>0.001</td>\n      <td>50.750</td>\n      <td>0.100</td>\n    </tr>\n  </tbody>\n</table>\n</div>"
     },
     "execution_count": 24,
     "metadata": {},
     "output_type": "execute_result"
    }
   ],
   "source": [
    "# 2023-Mar-20\n",
    "# Lendo biblioteca de nuclídeos\n",
    "pisciro_eng_df = pd.read_excel('../data/Pisciro-Eng_(2019).ods')\n",
    "pisciro_eng_df"
   ],
   "metadata": {
    "collapsed": false
   }
  },
  {
   "cell_type": "code",
   "execution_count": 25,
   "outputs": [
    {
     "data": {
      "text/plain": "Empty DataFrame\nColumns: []\nIndex: []",
      "text/html": "<div>\n<style scoped>\n    .dataframe tbody tr th:only-of-type {\n        vertical-align: middle;\n    }\n\n    .dataframe tbody tr th {\n        vertical-align: top;\n    }\n\n    .dataframe thead th {\n        text-align: right;\n    }\n</style>\n<table border=\"1\" class=\"dataframe\">\n  <thead>\n    <tr style=\"text-align: right;\">\n      <th></th>\n    </tr>\n  </thead>\n  <tbody>\n  </tbody>\n</table>\n</div>"
     },
     "execution_count": 25,
     "metadata": {},
     "output_type": "execute_result"
    }
   ],
   "source": [],
   "metadata": {
    "collapsed": false
   }
  },
  {
   "cell_type": "code",
   "execution_count": null,
   "outputs": [],
   "source": [],
   "metadata": {
    "collapsed": false
   }
  },
  {
   "cell_type": "code",
   "execution_count": null,
   "outputs": [],
   "source": [],
   "metadata": {
    "collapsed": false
   }
  },
  {
   "cell_type": "code",
   "execution_count": 26,
   "metadata": {},
   "outputs": [
    {
     "data": {
      "text/plain": "Empty DataFrame\nColumns: []\nIndex: []",
      "text/html": "<div>\n<style scoped>\n    .dataframe tbody tr th:only-of-type {\n        vertical-align: middle;\n    }\n\n    .dataframe tbody tr th {\n        vertical-align: top;\n    }\n\n    .dataframe thead th {\n        text-align: right;\n    }\n</style>\n<table border=\"1\" class=\"dataframe\">\n  <thead>\n    <tr style=\"text-align: right;\">\n      <th></th>\n    </tr>\n  </thead>\n  <tbody>\n  </tbody>\n</table>\n</div>"
     },
     "execution_count": 26,
     "metadata": {},
     "output_type": "execute_result"
    }
   ],
   "source": [
    "# 2022-Dez-28\n",
    "# Testes com conversão de pandas df .to_html\n",
    "# Teste 1: html direto\n",
    "df_to_html = ogra.a_spec.spec_pks_df.to_html(columns=['peaks', 'centroids', 'rough_sums'])\n",
    "df_to_html"
   ]
  },
  {
   "cell_type": "code",
   "execution_count": null,
   "outputs": [],
   "source": [
    "# 2022-Dez-28\n",
    "# Testes com conversão de pandas df .to_html\n",
    "# Teste 2: aplicando tags html:\n",
    "df_to_html = ogra.a_spec.spec_pks_df.to_html(\n",
    "    columns=['peaks', 'centroids', 'rough_sums'],\n",
    "    formatters={\n",
    "        'peaks': lambda x: '<b>' + str(x) + '</b>',\n",
    "        'rough_sums': lambda x: '<i>' + str(x) + '</i>'}\n",
    ")\n",
    "df_to_html\n",
    "import IPython\n",
    "IPython.display.HTML(df_to_html)"
   ],
   "metadata": {
    "collapsed": false
   }
  },
  {
   "cell_type": "code",
   "execution_count": null,
   "outputs": [],
   "source": [
    "# 2022-Dez-28\n",
    "# Testes com conversão de pandas df .to_html\n",
    "# Teste 3: aplicando float_formatters:\n",
    "df_to_html = ogra.a_spec.spec_pks_df.to_html(\n",
    "    columns=['peaks', 'centroids', 'rough_sums'],\n",
    "    float_format='{:.3f}'\n",
    ")\n",
    "df_to_html"
   ],
   "metadata": {
    "collapsed": false
   }
  },
  {
   "cell_type": "code",
   "execution_count": null,
   "outputs": [],
   "source": [
    "# Teste 3: usando Styles:\n",
    "my_df = ogra.a_spec.spec_pks_df\n",
    "my_df.style.format(na_rep='MISSING', thousands=\" \",\n",
    "                   formatter={('fwhm_centr', 'centroids'): \"{:.2f}\"})"
   ],
   "metadata": {
    "collapsed": false
   }
  },
  {
   "cell_type": "code",
   "execution_count": 2,
   "outputs": [
    {
     "ename": "NameError",
     "evalue": "name 'pd' is not defined",
     "output_type": "error",
     "traceback": [
      "\u001B[1;31m---------------------------------------------------------------------------\u001B[0m",
      "\u001B[1;31mNameError\u001B[0m                                 Traceback (most recent call last)",
      "Cell \u001B[1;32mIn[2], line 1\u001B[0m\n\u001B[1;32m----> 1\u001B[0m df \u001B[38;5;241m=\u001B[39m \u001B[43mpd\u001B[49m\u001B[38;5;241m.\u001B[39mDataFrame([[\u001B[38;5;241m38.0\u001B[39m, \u001B[38;5;241m2.0\u001B[39m, \u001B[38;5;241m18.0\u001B[39m, \u001B[38;5;241m22.0\u001B[39m, \u001B[38;5;241m21\u001B[39m, np\u001B[38;5;241m.\u001B[39mnan],[\u001B[38;5;241m19\u001B[39m, \u001B[38;5;241m439\u001B[39m, \u001B[38;5;241m6\u001B[39m, \u001B[38;5;241m452\u001B[39m, \u001B[38;5;241m226\u001B[39m,\u001B[38;5;241m232\u001B[39m]],\n\u001B[0;32m      2\u001B[0m                   index\u001B[38;5;241m=\u001B[39mpd\u001B[38;5;241m.\u001B[39mIndex([\u001B[38;5;124m'\u001B[39m\u001B[38;5;124mTumour (Positive)\u001B[39m\u001B[38;5;124m'\u001B[39m, \u001B[38;5;124m'\u001B[39m\u001B[38;5;124mNon-Tumour (Negative)\u001B[39m\u001B[38;5;124m'\u001B[39m], name\u001B[38;5;241m=\u001B[39m\u001B[38;5;124m'\u001B[39m\u001B[38;5;124mActual Label:\u001B[39m\u001B[38;5;124m'\u001B[39m),\n\u001B[0;32m      3\u001B[0m                   columns\u001B[38;5;241m=\u001B[39mpd\u001B[38;5;241m.\u001B[39mMultiIndex\u001B[38;5;241m.\u001B[39mfrom_product([[\u001B[38;5;124m'\u001B[39m\u001B[38;5;124mDecision Tree\u001B[39m\u001B[38;5;124m'\u001B[39m, \u001B[38;5;124m'\u001B[39m\u001B[38;5;124mRegression\u001B[39m\u001B[38;5;124m'\u001B[39m, \u001B[38;5;124m'\u001B[39m\u001B[38;5;124mRandom\u001B[39m\u001B[38;5;124m'\u001B[39m],[\u001B[38;5;124m'\u001B[39m\u001B[38;5;124mTumour\u001B[39m\u001B[38;5;124m'\u001B[39m, \u001B[38;5;124m'\u001B[39m\u001B[38;5;124mNon-Tumour\u001B[39m\u001B[38;5;124m'\u001B[39m]], names\u001B[38;5;241m=\u001B[39m[\u001B[38;5;124m'\u001B[39m\u001B[38;5;124mModel:\u001B[39m\u001B[38;5;124m'\u001B[39m, \u001B[38;5;124m'\u001B[39m\u001B[38;5;124mPredicted:\u001B[39m\u001B[38;5;124m'\u001B[39m]))\n\u001B[0;32m      5\u001B[0m df\u001B[38;5;241m.\u001B[39mstyle\u001B[38;5;241m.\u001B[39mformat(precision\u001B[38;5;241m=\u001B[39m\u001B[38;5;241m0\u001B[39m, na_rep\u001B[38;5;241m=\u001B[39m\u001B[38;5;124m'\u001B[39m\u001B[38;5;124mMISSING\u001B[39m\u001B[38;5;124m'\u001B[39m, thousands\u001B[38;5;241m=\u001B[39m\u001B[38;5;124m\"\u001B[39m\u001B[38;5;124m \u001B[39m\u001B[38;5;124m\"\u001B[39m,\n\u001B[0;32m      6\u001B[0m                 formatter\u001B[38;5;241m=\u001B[39m{(\u001B[38;5;124m'\u001B[39m\u001B[38;5;124mDecision Tree\u001B[39m\u001B[38;5;124m'\u001B[39m, \u001B[38;5;124m'\u001B[39m\u001B[38;5;124mTumour\u001B[39m\u001B[38;5;124m'\u001B[39m): \u001B[38;5;124m\"\u001B[39m\u001B[38;5;132;01m{:.2f}\u001B[39;00m\u001B[38;5;124m\"\u001B[39m,\n\u001B[0;32m      7\u001B[0m                            (\u001B[38;5;124m'\u001B[39m\u001B[38;5;124mRegression\u001B[39m\u001B[38;5;124m'\u001B[39m, \u001B[38;5;124m'\u001B[39m\u001B[38;5;124mNon-Tumour\u001B[39m\u001B[38;5;124m'\u001B[39m): \u001B[38;5;28;01mlambda\u001B[39;00m x: \u001B[38;5;124m\"\u001B[39m\u001B[38;5;124m$ \u001B[39m\u001B[38;5;132;01m{:,.1f}\u001B[39;00m\u001B[38;5;124m\"\u001B[39m\u001B[38;5;241m.\u001B[39mformat(x\u001B[38;5;241m*\u001B[39m\u001B[38;5;241m-\u001B[39m\u001B[38;5;241m1e6\u001B[39m)\n\u001B[0;32m      8\u001B[0m                            })\n",
      "\u001B[1;31mNameError\u001B[0m: name 'pd' is not defined"
     ]
    }
   ],
   "source": [
    "df = pd.DataFrame([[38.0, 2.0, 18.0, 22.0, 21, np.nan],[19, 439, 6, 452, 226,232]],\n",
    "                  index=pd.Index(['Tumour (Positive)', 'Non-Tumour (Negative)'], name='Actual Label:'),\n",
    "                  columns=pd.MultiIndex.from_product([['Decision Tree', 'Regression', 'Random'],['Tumour', 'Non-Tumour']], names=['Model:', 'Predicted:']))\n",
    "\n",
    "df.style.format(precision=0, na_rep='MISSING', thousands=\" \",\n",
    "                formatter={('Decision Tree', 'Tumour'): \"{:.2f}\",\n",
    "                           ('Regression', 'Non-Tumour'): lambda x: \"$ {:,.1f}\".format(x*-1e6)\n",
    "                           })"
   ],
   "metadata": {
    "collapsed": false
   }
  },
  {
   "cell_type": "code",
   "execution_count": 28,
   "metadata": {},
   "outputs": [],
   "source": [
    "# 2022-Jun-24 No momento esses são os que interessam:\n",
    "# pann = ogra.a_spec..saw_spec.spec_parms\n",
    "cntarr = ogra.a_spec.net_spec_ser_an.y_s\n",
    "pkprms = ogra.a_spec.net_spec_ser_an.pk_parms"
   ]
  },
  {
   "cell_type": "code",
   "execution_count": 28,
   "outputs": [],
   "source": [],
   "metadata": {
    "collapsed": false
   }
  },
  {
   "cell_type": "code",
   "execution_count": 29,
   "metadata": {},
   "outputs": [],
   "source": [
    "# 2022-Jun-14\n",
    "# Verificando o que se tem até agora em a_raw_spec:\n",
    "# (Pode pular e ir direto aos gráficos)"
   ]
  },
  {
   "cell_type": "code",
   "execution_count": 30,
   "metadata": {},
   "outputs": [],
   "source": [
    "\n",
    "# Testes:\n",
    "# https://numpy.org/doc/stable/reference/random/generator.html#distributions\n",
    "# x = np.linspace(0, 10, N) + rng.normal(loc=7, scale=0.05, size=N)\n",
    "# y = np.linspace(22, 23, N)\n",
    "\n",
    "# Busca do canal onde a altura do espectro se \"estabiliza\"\n",
    "# https://numpy.org/doc/stable/reference/routines.sort.html#searching\n",
    "\n",
    "# Escolha do que plotar:\n",
    "# y_plot = noisy_y\n",
    "# y_plot = var_win\n",
    "# y_plot = var_rel"
   ]
  },
  {
   "cell_type": "code",
   "execution_count": 27,
   "outputs": [
    {
     "ename": "KeyError",
     "evalue": "\"None of [Index(['peaks', 'centroids', 'rough_sums'], dtype='object')] are in the [columns]\"",
     "output_type": "error",
     "traceback": [
      "\u001B[1;31m---------------------------------------------------------------------------\u001B[0m",
      "\u001B[1;31mKeyError\u001B[0m                                  Traceback (most recent call last)",
      "Cell \u001B[1;32mIn[27], line 4\u001B[0m\n\u001B[0;32m      1\u001B[0m \u001B[38;5;66;03m# 2022-Dez-28\u001B[39;00m\n\u001B[0;32m      2\u001B[0m \u001B[38;5;66;03m# Testes com conversão de pandas df .to_html\u001B[39;00m\n\u001B[0;32m      3\u001B[0m \u001B[38;5;66;03m# Teste 2: aplicando tags html:\u001B[39;00m\n\u001B[1;32m----> 4\u001B[0m df_to_html \u001B[38;5;241m=\u001B[39m \u001B[43mogra\u001B[49m\u001B[38;5;241;43m.\u001B[39;49m\u001B[43ma_spec\u001B[49m\u001B[38;5;241;43m.\u001B[39;49m\u001B[43mspec_pks_df\u001B[49m\u001B[38;5;241;43m.\u001B[39;49m\u001B[43mto_html\u001B[49m\u001B[43m(\u001B[49m\n\u001B[0;32m      5\u001B[0m \u001B[43m    \u001B[49m\u001B[43mcolumns\u001B[49m\u001B[38;5;241;43m=\u001B[39;49m\u001B[43m[\u001B[49m\u001B[38;5;124;43m'\u001B[39;49m\u001B[38;5;124;43mpeaks\u001B[39;49m\u001B[38;5;124;43m'\u001B[39;49m\u001B[43m,\u001B[49m\u001B[43m \u001B[49m\u001B[38;5;124;43m'\u001B[39;49m\u001B[38;5;124;43mcentroids\u001B[39;49m\u001B[38;5;124;43m'\u001B[39;49m\u001B[43m,\u001B[49m\u001B[43m \u001B[49m\u001B[38;5;124;43m'\u001B[39;49m\u001B[38;5;124;43mrough_sums\u001B[39;49m\u001B[38;5;124;43m'\u001B[39;49m\u001B[43m]\u001B[49m\u001B[43m,\u001B[49m\n\u001B[0;32m      6\u001B[0m \u001B[43m    \u001B[49m\u001B[43mformatters\u001B[49m\u001B[38;5;241;43m=\u001B[39;49m\u001B[43m{\u001B[49m\n\u001B[0;32m      7\u001B[0m \u001B[43m        \u001B[49m\u001B[38;5;124;43m'\u001B[39;49m\u001B[38;5;124;43mpeaks\u001B[39;49m\u001B[38;5;124;43m'\u001B[39;49m\u001B[43m:\u001B[49m\u001B[43m \u001B[49m\u001B[38;5;28;43;01mlambda\u001B[39;49;00m\u001B[43m \u001B[49m\u001B[43mx\u001B[49m\u001B[43m:\u001B[49m\u001B[43m \u001B[49m\u001B[38;5;124;43m'\u001B[39;49m\u001B[38;5;124;43m<b>\u001B[39;49m\u001B[38;5;124;43m'\u001B[39;49m\u001B[43m \u001B[49m\u001B[38;5;241;43m+\u001B[39;49m\u001B[43m \u001B[49m\u001B[38;5;28;43mstr\u001B[39;49m\u001B[43m(\u001B[49m\u001B[43mx\u001B[49m\u001B[43m)\u001B[49m\u001B[43m \u001B[49m\u001B[38;5;241;43m+\u001B[39;49m\u001B[43m \u001B[49m\u001B[38;5;124;43m'\u001B[39;49m\u001B[38;5;124;43m</b>\u001B[39;49m\u001B[38;5;124;43m'\u001B[39;49m\u001B[43m,\u001B[49m\n\u001B[0;32m      8\u001B[0m \u001B[43m        \u001B[49m\u001B[38;5;124;43m'\u001B[39;49m\u001B[38;5;124;43mrough_sums\u001B[39;49m\u001B[38;5;124;43m'\u001B[39;49m\u001B[43m:\u001B[49m\u001B[43m \u001B[49m\u001B[38;5;28;43;01mlambda\u001B[39;49;00m\u001B[43m \u001B[49m\u001B[43mx\u001B[49m\u001B[43m:\u001B[49m\u001B[43m \u001B[49m\u001B[38;5;124;43m'\u001B[39;49m\u001B[38;5;124;43m<i>\u001B[39;49m\u001B[38;5;124;43m'\u001B[39;49m\u001B[43m \u001B[49m\u001B[38;5;241;43m+\u001B[39;49m\u001B[43m \u001B[49m\u001B[38;5;28;43mstr\u001B[39;49m\u001B[43m(\u001B[49m\u001B[43mx\u001B[49m\u001B[43m)\u001B[49m\u001B[43m \u001B[49m\u001B[38;5;241;43m+\u001B[39;49m\u001B[43m \u001B[49m\u001B[38;5;124;43m'\u001B[39;49m\u001B[38;5;124;43m</i>\u001B[39;49m\u001B[38;5;124;43m'\u001B[39;49m\u001B[43m}\u001B[49m\n\u001B[0;32m      9\u001B[0m \u001B[43m)\u001B[49m\n\u001B[0;32m     10\u001B[0m df_to_html\n\u001B[0;32m     11\u001B[0m \u001B[38;5;28;01mimport\u001B[39;00m \u001B[38;5;21;01mIPython\u001B[39;00m\n",
      "File \u001B[1;32m~\\PycharmProjects\\OGRaySpY\\venv\\lib\\site-packages\\pandas\\core\\frame.py:3197\u001B[0m, in \u001B[0;36mDataFrame.to_html\u001B[1;34m(self, buf, columns, col_space, header, index, na_rep, formatters, float_format, sparsify, index_names, justify, max_rows, max_cols, show_dimensions, decimal, bold_rows, classes, escape, notebook, border, table_id, render_links, encoding)\u001B[0m\n\u001B[0;32m   3194\u001B[0m \u001B[38;5;28;01mif\u001B[39;00m justify \u001B[38;5;129;01mis\u001B[39;00m \u001B[38;5;129;01mnot\u001B[39;00m \u001B[38;5;28;01mNone\u001B[39;00m \u001B[38;5;129;01mand\u001B[39;00m justify \u001B[38;5;129;01mnot\u001B[39;00m \u001B[38;5;129;01min\u001B[39;00m fmt\u001B[38;5;241m.\u001B[39m_VALID_JUSTIFY_PARAMETERS:\n\u001B[0;32m   3195\u001B[0m     \u001B[38;5;28;01mraise\u001B[39;00m \u001B[38;5;167;01mValueError\u001B[39;00m(\u001B[38;5;124m\"\u001B[39m\u001B[38;5;124mInvalid value for justify parameter\u001B[39m\u001B[38;5;124m\"\u001B[39m)\n\u001B[1;32m-> 3197\u001B[0m formatter \u001B[38;5;241m=\u001B[39m \u001B[43mfmt\u001B[49m\u001B[38;5;241;43m.\u001B[39;49m\u001B[43mDataFrameFormatter\u001B[49m\u001B[43m(\u001B[49m\n\u001B[0;32m   3198\u001B[0m \u001B[43m    \u001B[49m\u001B[38;5;28;43mself\u001B[39;49m\u001B[43m,\u001B[49m\n\u001B[0;32m   3199\u001B[0m \u001B[43m    \u001B[49m\u001B[43mcolumns\u001B[49m\u001B[38;5;241;43m=\u001B[39;49m\u001B[43mcolumns\u001B[49m\u001B[43m,\u001B[49m\n\u001B[0;32m   3200\u001B[0m \u001B[43m    \u001B[49m\u001B[43mcol_space\u001B[49m\u001B[38;5;241;43m=\u001B[39;49m\u001B[43mcol_space\u001B[49m\u001B[43m,\u001B[49m\n\u001B[0;32m   3201\u001B[0m \u001B[43m    \u001B[49m\u001B[43mna_rep\u001B[49m\u001B[38;5;241;43m=\u001B[39;49m\u001B[43mna_rep\u001B[49m\u001B[43m,\u001B[49m\n\u001B[0;32m   3202\u001B[0m \u001B[43m    \u001B[49m\u001B[43mheader\u001B[49m\u001B[38;5;241;43m=\u001B[39;49m\u001B[43mheader\u001B[49m\u001B[43m,\u001B[49m\n\u001B[0;32m   3203\u001B[0m \u001B[43m    \u001B[49m\u001B[43mindex\u001B[49m\u001B[38;5;241;43m=\u001B[39;49m\u001B[43mindex\u001B[49m\u001B[43m,\u001B[49m\n\u001B[0;32m   3204\u001B[0m \u001B[43m    \u001B[49m\u001B[43mformatters\u001B[49m\u001B[38;5;241;43m=\u001B[39;49m\u001B[43mformatters\u001B[49m\u001B[43m,\u001B[49m\n\u001B[0;32m   3205\u001B[0m \u001B[43m    \u001B[49m\u001B[43mfloat_format\u001B[49m\u001B[38;5;241;43m=\u001B[39;49m\u001B[43mfloat_format\u001B[49m\u001B[43m,\u001B[49m\n\u001B[0;32m   3206\u001B[0m \u001B[43m    \u001B[49m\u001B[43mbold_rows\u001B[49m\u001B[38;5;241;43m=\u001B[39;49m\u001B[43mbold_rows\u001B[49m\u001B[43m,\u001B[49m\n\u001B[0;32m   3207\u001B[0m \u001B[43m    \u001B[49m\u001B[43msparsify\u001B[49m\u001B[38;5;241;43m=\u001B[39;49m\u001B[43msparsify\u001B[49m\u001B[43m,\u001B[49m\n\u001B[0;32m   3208\u001B[0m \u001B[43m    \u001B[49m\u001B[43mjustify\u001B[49m\u001B[38;5;241;43m=\u001B[39;49m\u001B[43mjustify\u001B[49m\u001B[43m,\u001B[49m\n\u001B[0;32m   3209\u001B[0m \u001B[43m    \u001B[49m\u001B[43mindex_names\u001B[49m\u001B[38;5;241;43m=\u001B[39;49m\u001B[43mindex_names\u001B[49m\u001B[43m,\u001B[49m\n\u001B[0;32m   3210\u001B[0m \u001B[43m    \u001B[49m\u001B[43mescape\u001B[49m\u001B[38;5;241;43m=\u001B[39;49m\u001B[43mescape\u001B[49m\u001B[43m,\u001B[49m\n\u001B[0;32m   3211\u001B[0m \u001B[43m    \u001B[49m\u001B[43mdecimal\u001B[49m\u001B[38;5;241;43m=\u001B[39;49m\u001B[43mdecimal\u001B[49m\u001B[43m,\u001B[49m\n\u001B[0;32m   3212\u001B[0m \u001B[43m    \u001B[49m\u001B[43mmax_rows\u001B[49m\u001B[38;5;241;43m=\u001B[39;49m\u001B[43mmax_rows\u001B[49m\u001B[43m,\u001B[49m\n\u001B[0;32m   3213\u001B[0m \u001B[43m    \u001B[49m\u001B[43mmax_cols\u001B[49m\u001B[38;5;241;43m=\u001B[39;49m\u001B[43mmax_cols\u001B[49m\u001B[43m,\u001B[49m\n\u001B[0;32m   3214\u001B[0m \u001B[43m    \u001B[49m\u001B[43mshow_dimensions\u001B[49m\u001B[38;5;241;43m=\u001B[39;49m\u001B[43mshow_dimensions\u001B[49m\u001B[43m,\u001B[49m\n\u001B[0;32m   3215\u001B[0m \u001B[43m\u001B[49m\u001B[43m)\u001B[49m\n\u001B[0;32m   3216\u001B[0m \u001B[38;5;66;03m# TODO: a generic formatter wld b in DataFrameFormatter\u001B[39;00m\n\u001B[0;32m   3217\u001B[0m \u001B[38;5;28;01mreturn\u001B[39;00m fmt\u001B[38;5;241m.\u001B[39mDataFrameRenderer(formatter)\u001B[38;5;241m.\u001B[39mto_html(\n\u001B[0;32m   3218\u001B[0m     buf\u001B[38;5;241m=\u001B[39mbuf,\n\u001B[0;32m   3219\u001B[0m     classes\u001B[38;5;241m=\u001B[39mclasses,\n\u001B[1;32m   (...)\u001B[0m\n\u001B[0;32m   3224\u001B[0m     render_links\u001B[38;5;241m=\u001B[39mrender_links,\n\u001B[0;32m   3225\u001B[0m )\n",
      "File \u001B[1;32m~\\PycharmProjects\\OGRaySpY\\venv\\lib\\site-packages\\pandas\\io\\formats\\format.py:588\u001B[0m, in \u001B[0;36mDataFrameFormatter.__init__\u001B[1;34m(self, frame, columns, col_space, header, index, na_rep, formatters, justify, float_format, sparsify, index_names, max_rows, min_rows, max_cols, show_dimensions, decimal, bold_rows, escape)\u001B[0m\n\u001B[0;32m    566\u001B[0m \u001B[38;5;28;01mdef\u001B[39;00m \u001B[38;5;21m__init__\u001B[39m(\n\u001B[0;32m    567\u001B[0m     \u001B[38;5;28mself\u001B[39m,\n\u001B[0;32m    568\u001B[0m     frame: DataFrame,\n\u001B[1;32m   (...)\u001B[0m\n\u001B[0;32m    585\u001B[0m     escape: \u001B[38;5;28mbool\u001B[39m \u001B[38;5;241m=\u001B[39m \u001B[38;5;28;01mTrue\u001B[39;00m,\n\u001B[0;32m    586\u001B[0m ) \u001B[38;5;241m-\u001B[39m\u001B[38;5;241m>\u001B[39m \u001B[38;5;28;01mNone\u001B[39;00m:\n\u001B[0;32m    587\u001B[0m     \u001B[38;5;28mself\u001B[39m\u001B[38;5;241m.\u001B[39mframe \u001B[38;5;241m=\u001B[39m frame\n\u001B[1;32m--> 588\u001B[0m     \u001B[38;5;28mself\u001B[39m\u001B[38;5;241m.\u001B[39mcolumns \u001B[38;5;241m=\u001B[39m \u001B[38;5;28;43mself\u001B[39;49m\u001B[38;5;241;43m.\u001B[39;49m\u001B[43m_initialize_columns\u001B[49m\u001B[43m(\u001B[49m\u001B[43mcolumns\u001B[49m\u001B[43m)\u001B[49m\n\u001B[0;32m    589\u001B[0m     \u001B[38;5;28mself\u001B[39m\u001B[38;5;241m.\u001B[39mcol_space \u001B[38;5;241m=\u001B[39m \u001B[38;5;28mself\u001B[39m\u001B[38;5;241m.\u001B[39m_initialize_colspace(col_space)\n\u001B[0;32m    590\u001B[0m     \u001B[38;5;28mself\u001B[39m\u001B[38;5;241m.\u001B[39mheader \u001B[38;5;241m=\u001B[39m header\n",
      "File \u001B[1;32m~\\PycharmProjects\\OGRaySpY\\venv\\lib\\site-packages\\pandas\\io\\formats\\format.py:696\u001B[0m, in \u001B[0;36mDataFrameFormatter._initialize_columns\u001B[1;34m(self, columns)\u001B[0m\n\u001B[0;32m    692\u001B[0m \u001B[38;5;28;01mif\u001B[39;00m columns \u001B[38;5;129;01mis\u001B[39;00m \u001B[38;5;129;01mnot\u001B[39;00m \u001B[38;5;28;01mNone\u001B[39;00m:\n\u001B[0;32m    693\u001B[0m     \u001B[38;5;66;03m# GH 47231 - columns doesn't have to be `Sequence[str]`\u001B[39;00m\n\u001B[0;32m    694\u001B[0m     \u001B[38;5;66;03m# Will fix in later PR\u001B[39;00m\n\u001B[0;32m    695\u001B[0m     cols \u001B[38;5;241m=\u001B[39m ensure_index(cast(Axes, columns))\n\u001B[1;32m--> 696\u001B[0m     \u001B[38;5;28mself\u001B[39m\u001B[38;5;241m.\u001B[39mframe \u001B[38;5;241m=\u001B[39m \u001B[38;5;28;43mself\u001B[39;49m\u001B[38;5;241;43m.\u001B[39;49m\u001B[43mframe\u001B[49m\u001B[43m[\u001B[49m\u001B[43mcols\u001B[49m\u001B[43m]\u001B[49m\n\u001B[0;32m    697\u001B[0m     \u001B[38;5;28;01mreturn\u001B[39;00m cols\n\u001B[0;32m    698\u001B[0m \u001B[38;5;28;01melse\u001B[39;00m:\n",
      "File \u001B[1;32m~\\PycharmProjects\\OGRaySpY\\venv\\lib\\site-packages\\pandas\\core\\frame.py:3811\u001B[0m, in \u001B[0;36mDataFrame.__getitem__\u001B[1;34m(self, key)\u001B[0m\n\u001B[0;32m   3809\u001B[0m     \u001B[38;5;28;01mif\u001B[39;00m is_iterator(key):\n\u001B[0;32m   3810\u001B[0m         key \u001B[38;5;241m=\u001B[39m \u001B[38;5;28mlist\u001B[39m(key)\n\u001B[1;32m-> 3811\u001B[0m     indexer \u001B[38;5;241m=\u001B[39m \u001B[38;5;28;43mself\u001B[39;49m\u001B[38;5;241;43m.\u001B[39;49m\u001B[43mcolumns\u001B[49m\u001B[38;5;241;43m.\u001B[39;49m\u001B[43m_get_indexer_strict\u001B[49m\u001B[43m(\u001B[49m\u001B[43mkey\u001B[49m\u001B[43m,\u001B[49m\u001B[43m \u001B[49m\u001B[38;5;124;43m\"\u001B[39;49m\u001B[38;5;124;43mcolumns\u001B[39;49m\u001B[38;5;124;43m\"\u001B[39;49m\u001B[43m)\u001B[49m[\u001B[38;5;241m1\u001B[39m]\n\u001B[0;32m   3813\u001B[0m \u001B[38;5;66;03m# take() does not accept boolean indexers\u001B[39;00m\n\u001B[0;32m   3814\u001B[0m \u001B[38;5;28;01mif\u001B[39;00m \u001B[38;5;28mgetattr\u001B[39m(indexer, \u001B[38;5;124m\"\u001B[39m\u001B[38;5;124mdtype\u001B[39m\u001B[38;5;124m\"\u001B[39m, \u001B[38;5;28;01mNone\u001B[39;00m) \u001B[38;5;241m==\u001B[39m \u001B[38;5;28mbool\u001B[39m:\n",
      "File \u001B[1;32m~\\PycharmProjects\\OGRaySpY\\venv\\lib\\site-packages\\pandas\\core\\indexes\\base.py:6113\u001B[0m, in \u001B[0;36mIndex._get_indexer_strict\u001B[1;34m(self, key, axis_name)\u001B[0m\n\u001B[0;32m   6110\u001B[0m \u001B[38;5;28;01melse\u001B[39;00m:\n\u001B[0;32m   6111\u001B[0m     keyarr, indexer, new_indexer \u001B[38;5;241m=\u001B[39m \u001B[38;5;28mself\u001B[39m\u001B[38;5;241m.\u001B[39m_reindex_non_unique(keyarr)\n\u001B[1;32m-> 6113\u001B[0m \u001B[38;5;28;43mself\u001B[39;49m\u001B[38;5;241;43m.\u001B[39;49m\u001B[43m_raise_if_missing\u001B[49m\u001B[43m(\u001B[49m\u001B[43mkeyarr\u001B[49m\u001B[43m,\u001B[49m\u001B[43m \u001B[49m\u001B[43mindexer\u001B[49m\u001B[43m,\u001B[49m\u001B[43m \u001B[49m\u001B[43maxis_name\u001B[49m\u001B[43m)\u001B[49m\n\u001B[0;32m   6115\u001B[0m keyarr \u001B[38;5;241m=\u001B[39m \u001B[38;5;28mself\u001B[39m\u001B[38;5;241m.\u001B[39mtake(indexer)\n\u001B[0;32m   6116\u001B[0m \u001B[38;5;28;01mif\u001B[39;00m \u001B[38;5;28misinstance\u001B[39m(key, Index):\n\u001B[0;32m   6117\u001B[0m     \u001B[38;5;66;03m# GH 42790 - Preserve name from an Index\u001B[39;00m\n",
      "File \u001B[1;32m~\\PycharmProjects\\OGRaySpY\\venv\\lib\\site-packages\\pandas\\core\\indexes\\base.py:6173\u001B[0m, in \u001B[0;36mIndex._raise_if_missing\u001B[1;34m(self, key, indexer, axis_name)\u001B[0m\n\u001B[0;32m   6171\u001B[0m     \u001B[38;5;28;01mif\u001B[39;00m use_interval_msg:\n\u001B[0;32m   6172\u001B[0m         key \u001B[38;5;241m=\u001B[39m \u001B[38;5;28mlist\u001B[39m(key)\n\u001B[1;32m-> 6173\u001B[0m     \u001B[38;5;28;01mraise\u001B[39;00m \u001B[38;5;167;01mKeyError\u001B[39;00m(\u001B[38;5;124mf\u001B[39m\u001B[38;5;124m\"\u001B[39m\u001B[38;5;124mNone of [\u001B[39m\u001B[38;5;132;01m{\u001B[39;00mkey\u001B[38;5;132;01m}\u001B[39;00m\u001B[38;5;124m] are in the [\u001B[39m\u001B[38;5;132;01m{\u001B[39;00maxis_name\u001B[38;5;132;01m}\u001B[39;00m\u001B[38;5;124m]\u001B[39m\u001B[38;5;124m\"\u001B[39m)\n\u001B[0;32m   6175\u001B[0m not_found \u001B[38;5;241m=\u001B[39m \u001B[38;5;28mlist\u001B[39m(ensure_index(key)[missing_mask\u001B[38;5;241m.\u001B[39mnonzero()[\u001B[38;5;241m0\u001B[39m]]\u001B[38;5;241m.\u001B[39munique())\n\u001B[0;32m   6176\u001B[0m \u001B[38;5;28;01mraise\u001B[39;00m \u001B[38;5;167;01mKeyError\u001B[39;00m(\u001B[38;5;124mf\u001B[39m\u001B[38;5;124m\"\u001B[39m\u001B[38;5;132;01m{\u001B[39;00mnot_found\u001B[38;5;132;01m}\u001B[39;00m\u001B[38;5;124m not in index\u001B[39m\u001B[38;5;124m\"\u001B[39m)\n",
      "\u001B[1;31mKeyError\u001B[0m: \"None of [Index(['peaks', 'centroids', 'rough_sums'], dtype='object')] are in the [columns]\""
     ]
    }
   ],
   "source": [
    "vars(pkprms)"
   ],
   "metadata": {
    "collapsed": false
   }
  },
  {
   "cell_type": "code",
   "execution_count": 28,
   "metadata": {},
   "outputs": [
    {
     "ename": "KeyError",
     "evalue": "\"None of [Index(['peaks', 'centroids', 'rough_sums'], dtype='object')] are in the [columns]\"",
     "output_type": "error",
     "traceback": [
      "\u001B[1;31m---------------------------------------------------------------------------\u001B[0m",
      "\u001B[1;31mKeyError\u001B[0m                                  Traceback (most recent call last)",
      "Cell \u001B[1;32mIn[28], line 4\u001B[0m\n\u001B[0;32m      1\u001B[0m \u001B[38;5;66;03m# 2022-Dez-28\u001B[39;00m\n\u001B[0;32m      2\u001B[0m \u001B[38;5;66;03m# Testes com conversão de pandas df .to_html\u001B[39;00m\n\u001B[0;32m      3\u001B[0m \u001B[38;5;66;03m# Teste 3: aplicando float_formatters:\u001B[39;00m\n\u001B[1;32m----> 4\u001B[0m df_to_html \u001B[38;5;241m=\u001B[39m \u001B[43mogra\u001B[49m\u001B[38;5;241;43m.\u001B[39;49m\u001B[43ma_spec\u001B[49m\u001B[38;5;241;43m.\u001B[39;49m\u001B[43mspec_pks_df\u001B[49m\u001B[38;5;241;43m.\u001B[39;49m\u001B[43mto_html\u001B[49m\u001B[43m(\u001B[49m\n\u001B[0;32m      5\u001B[0m \u001B[43m    \u001B[49m\u001B[43mcolumns\u001B[49m\u001B[38;5;241;43m=\u001B[39;49m\u001B[43m[\u001B[49m\u001B[38;5;124;43m'\u001B[39;49m\u001B[38;5;124;43mpeaks\u001B[39;49m\u001B[38;5;124;43m'\u001B[39;49m\u001B[43m,\u001B[49m\u001B[43m \u001B[49m\u001B[38;5;124;43m'\u001B[39;49m\u001B[38;5;124;43mcentroids\u001B[39;49m\u001B[38;5;124;43m'\u001B[39;49m\u001B[43m,\u001B[49m\u001B[43m \u001B[49m\u001B[38;5;124;43m'\u001B[39;49m\u001B[38;5;124;43mrough_sums\u001B[39;49m\u001B[38;5;124;43m'\u001B[39;49m\u001B[43m]\u001B[49m\u001B[43m,\u001B[49m\n\u001B[0;32m      6\u001B[0m \u001B[43m    \u001B[49m\u001B[43mfloat_format\u001B[49m\u001B[38;5;241;43m=\u001B[39;49m\u001B[38;5;124;43m'\u001B[39;49m\u001B[38;5;132;43;01m{:.3f}\u001B[39;49;00m\u001B[38;5;124;43m'\u001B[39;49m\n\u001B[0;32m      7\u001B[0m \u001B[43m)\u001B[49m\n\u001B[0;32m      8\u001B[0m df_to_html\n",
      "File \u001B[1;32m~\\PycharmProjects\\OGRaySpY\\venv\\lib\\site-packages\\pandas\\core\\frame.py:3197\u001B[0m, in \u001B[0;36mDataFrame.to_html\u001B[1;34m(self, buf, columns, col_space, header, index, na_rep, formatters, float_format, sparsify, index_names, justify, max_rows, max_cols, show_dimensions, decimal, bold_rows, classes, escape, notebook, border, table_id, render_links, encoding)\u001B[0m\n\u001B[0;32m   3194\u001B[0m \u001B[38;5;28;01mif\u001B[39;00m justify \u001B[38;5;129;01mis\u001B[39;00m \u001B[38;5;129;01mnot\u001B[39;00m \u001B[38;5;28;01mNone\u001B[39;00m \u001B[38;5;129;01mand\u001B[39;00m justify \u001B[38;5;129;01mnot\u001B[39;00m \u001B[38;5;129;01min\u001B[39;00m fmt\u001B[38;5;241m.\u001B[39m_VALID_JUSTIFY_PARAMETERS:\n\u001B[0;32m   3195\u001B[0m     \u001B[38;5;28;01mraise\u001B[39;00m \u001B[38;5;167;01mValueError\u001B[39;00m(\u001B[38;5;124m\"\u001B[39m\u001B[38;5;124mInvalid value for justify parameter\u001B[39m\u001B[38;5;124m\"\u001B[39m)\n\u001B[1;32m-> 3197\u001B[0m formatter \u001B[38;5;241m=\u001B[39m \u001B[43mfmt\u001B[49m\u001B[38;5;241;43m.\u001B[39;49m\u001B[43mDataFrameFormatter\u001B[49m\u001B[43m(\u001B[49m\n\u001B[0;32m   3198\u001B[0m \u001B[43m    \u001B[49m\u001B[38;5;28;43mself\u001B[39;49m\u001B[43m,\u001B[49m\n\u001B[0;32m   3199\u001B[0m \u001B[43m    \u001B[49m\u001B[43mcolumns\u001B[49m\u001B[38;5;241;43m=\u001B[39;49m\u001B[43mcolumns\u001B[49m\u001B[43m,\u001B[49m\n\u001B[0;32m   3200\u001B[0m \u001B[43m    \u001B[49m\u001B[43mcol_space\u001B[49m\u001B[38;5;241;43m=\u001B[39;49m\u001B[43mcol_space\u001B[49m\u001B[43m,\u001B[49m\n\u001B[0;32m   3201\u001B[0m \u001B[43m    \u001B[49m\u001B[43mna_rep\u001B[49m\u001B[38;5;241;43m=\u001B[39;49m\u001B[43mna_rep\u001B[49m\u001B[43m,\u001B[49m\n\u001B[0;32m   3202\u001B[0m \u001B[43m    \u001B[49m\u001B[43mheader\u001B[49m\u001B[38;5;241;43m=\u001B[39;49m\u001B[43mheader\u001B[49m\u001B[43m,\u001B[49m\n\u001B[0;32m   3203\u001B[0m \u001B[43m    \u001B[49m\u001B[43mindex\u001B[49m\u001B[38;5;241;43m=\u001B[39;49m\u001B[43mindex\u001B[49m\u001B[43m,\u001B[49m\n\u001B[0;32m   3204\u001B[0m \u001B[43m    \u001B[49m\u001B[43mformatters\u001B[49m\u001B[38;5;241;43m=\u001B[39;49m\u001B[43mformatters\u001B[49m\u001B[43m,\u001B[49m\n\u001B[0;32m   3205\u001B[0m \u001B[43m    \u001B[49m\u001B[43mfloat_format\u001B[49m\u001B[38;5;241;43m=\u001B[39;49m\u001B[43mfloat_format\u001B[49m\u001B[43m,\u001B[49m\n\u001B[0;32m   3206\u001B[0m \u001B[43m    \u001B[49m\u001B[43mbold_rows\u001B[49m\u001B[38;5;241;43m=\u001B[39;49m\u001B[43mbold_rows\u001B[49m\u001B[43m,\u001B[49m\n\u001B[0;32m   3207\u001B[0m \u001B[43m    \u001B[49m\u001B[43msparsify\u001B[49m\u001B[38;5;241;43m=\u001B[39;49m\u001B[43msparsify\u001B[49m\u001B[43m,\u001B[49m\n\u001B[0;32m   3208\u001B[0m \u001B[43m    \u001B[49m\u001B[43mjustify\u001B[49m\u001B[38;5;241;43m=\u001B[39;49m\u001B[43mjustify\u001B[49m\u001B[43m,\u001B[49m\n\u001B[0;32m   3209\u001B[0m \u001B[43m    \u001B[49m\u001B[43mindex_names\u001B[49m\u001B[38;5;241;43m=\u001B[39;49m\u001B[43mindex_names\u001B[49m\u001B[43m,\u001B[49m\n\u001B[0;32m   3210\u001B[0m \u001B[43m    \u001B[49m\u001B[43mescape\u001B[49m\u001B[38;5;241;43m=\u001B[39;49m\u001B[43mescape\u001B[49m\u001B[43m,\u001B[49m\n\u001B[0;32m   3211\u001B[0m \u001B[43m    \u001B[49m\u001B[43mdecimal\u001B[49m\u001B[38;5;241;43m=\u001B[39;49m\u001B[43mdecimal\u001B[49m\u001B[43m,\u001B[49m\n\u001B[0;32m   3212\u001B[0m \u001B[43m    \u001B[49m\u001B[43mmax_rows\u001B[49m\u001B[38;5;241;43m=\u001B[39;49m\u001B[43mmax_rows\u001B[49m\u001B[43m,\u001B[49m\n\u001B[0;32m   3213\u001B[0m \u001B[43m    \u001B[49m\u001B[43mmax_cols\u001B[49m\u001B[38;5;241;43m=\u001B[39;49m\u001B[43mmax_cols\u001B[49m\u001B[43m,\u001B[49m\n\u001B[0;32m   3214\u001B[0m \u001B[43m    \u001B[49m\u001B[43mshow_dimensions\u001B[49m\u001B[38;5;241;43m=\u001B[39;49m\u001B[43mshow_dimensions\u001B[49m\u001B[43m,\u001B[49m\n\u001B[0;32m   3215\u001B[0m \u001B[43m\u001B[49m\u001B[43m)\u001B[49m\n\u001B[0;32m   3216\u001B[0m \u001B[38;5;66;03m# TODO: a generic formatter wld b in DataFrameFormatter\u001B[39;00m\n\u001B[0;32m   3217\u001B[0m \u001B[38;5;28;01mreturn\u001B[39;00m fmt\u001B[38;5;241m.\u001B[39mDataFrameRenderer(formatter)\u001B[38;5;241m.\u001B[39mto_html(\n\u001B[0;32m   3218\u001B[0m     buf\u001B[38;5;241m=\u001B[39mbuf,\n\u001B[0;32m   3219\u001B[0m     classes\u001B[38;5;241m=\u001B[39mclasses,\n\u001B[1;32m   (...)\u001B[0m\n\u001B[0;32m   3224\u001B[0m     render_links\u001B[38;5;241m=\u001B[39mrender_links,\n\u001B[0;32m   3225\u001B[0m )\n",
      "File \u001B[1;32m~\\PycharmProjects\\OGRaySpY\\venv\\lib\\site-packages\\pandas\\io\\formats\\format.py:588\u001B[0m, in \u001B[0;36mDataFrameFormatter.__init__\u001B[1;34m(self, frame, columns, col_space, header, index, na_rep, formatters, justify, float_format, sparsify, index_names, max_rows, min_rows, max_cols, show_dimensions, decimal, bold_rows, escape)\u001B[0m\n\u001B[0;32m    566\u001B[0m \u001B[38;5;28;01mdef\u001B[39;00m \u001B[38;5;21m__init__\u001B[39m(\n\u001B[0;32m    567\u001B[0m     \u001B[38;5;28mself\u001B[39m,\n\u001B[0;32m    568\u001B[0m     frame: DataFrame,\n\u001B[1;32m   (...)\u001B[0m\n\u001B[0;32m    585\u001B[0m     escape: \u001B[38;5;28mbool\u001B[39m \u001B[38;5;241m=\u001B[39m \u001B[38;5;28;01mTrue\u001B[39;00m,\n\u001B[0;32m    586\u001B[0m ) \u001B[38;5;241m-\u001B[39m\u001B[38;5;241m>\u001B[39m \u001B[38;5;28;01mNone\u001B[39;00m:\n\u001B[0;32m    587\u001B[0m     \u001B[38;5;28mself\u001B[39m\u001B[38;5;241m.\u001B[39mframe \u001B[38;5;241m=\u001B[39m frame\n\u001B[1;32m--> 588\u001B[0m     \u001B[38;5;28mself\u001B[39m\u001B[38;5;241m.\u001B[39mcolumns \u001B[38;5;241m=\u001B[39m \u001B[38;5;28;43mself\u001B[39;49m\u001B[38;5;241;43m.\u001B[39;49m\u001B[43m_initialize_columns\u001B[49m\u001B[43m(\u001B[49m\u001B[43mcolumns\u001B[49m\u001B[43m)\u001B[49m\n\u001B[0;32m    589\u001B[0m     \u001B[38;5;28mself\u001B[39m\u001B[38;5;241m.\u001B[39mcol_space \u001B[38;5;241m=\u001B[39m \u001B[38;5;28mself\u001B[39m\u001B[38;5;241m.\u001B[39m_initialize_colspace(col_space)\n\u001B[0;32m    590\u001B[0m     \u001B[38;5;28mself\u001B[39m\u001B[38;5;241m.\u001B[39mheader \u001B[38;5;241m=\u001B[39m header\n",
      "File \u001B[1;32m~\\PycharmProjects\\OGRaySpY\\venv\\lib\\site-packages\\pandas\\io\\formats\\format.py:696\u001B[0m, in \u001B[0;36mDataFrameFormatter._initialize_columns\u001B[1;34m(self, columns)\u001B[0m\n\u001B[0;32m    692\u001B[0m \u001B[38;5;28;01mif\u001B[39;00m columns \u001B[38;5;129;01mis\u001B[39;00m \u001B[38;5;129;01mnot\u001B[39;00m \u001B[38;5;28;01mNone\u001B[39;00m:\n\u001B[0;32m    693\u001B[0m     \u001B[38;5;66;03m# GH 47231 - columns doesn't have to be `Sequence[str]`\u001B[39;00m\n\u001B[0;32m    694\u001B[0m     \u001B[38;5;66;03m# Will fix in later PR\u001B[39;00m\n\u001B[0;32m    695\u001B[0m     cols \u001B[38;5;241m=\u001B[39m ensure_index(cast(Axes, columns))\n\u001B[1;32m--> 696\u001B[0m     \u001B[38;5;28mself\u001B[39m\u001B[38;5;241m.\u001B[39mframe \u001B[38;5;241m=\u001B[39m \u001B[38;5;28;43mself\u001B[39;49m\u001B[38;5;241;43m.\u001B[39;49m\u001B[43mframe\u001B[49m\u001B[43m[\u001B[49m\u001B[43mcols\u001B[49m\u001B[43m]\u001B[49m\n\u001B[0;32m    697\u001B[0m     \u001B[38;5;28;01mreturn\u001B[39;00m cols\n\u001B[0;32m    698\u001B[0m \u001B[38;5;28;01melse\u001B[39;00m:\n",
      "File \u001B[1;32m~\\PycharmProjects\\OGRaySpY\\venv\\lib\\site-packages\\pandas\\core\\frame.py:3811\u001B[0m, in \u001B[0;36mDataFrame.__getitem__\u001B[1;34m(self, key)\u001B[0m\n\u001B[0;32m   3809\u001B[0m     \u001B[38;5;28;01mif\u001B[39;00m is_iterator(key):\n\u001B[0;32m   3810\u001B[0m         key \u001B[38;5;241m=\u001B[39m \u001B[38;5;28mlist\u001B[39m(key)\n\u001B[1;32m-> 3811\u001B[0m     indexer \u001B[38;5;241m=\u001B[39m \u001B[38;5;28;43mself\u001B[39;49m\u001B[38;5;241;43m.\u001B[39;49m\u001B[43mcolumns\u001B[49m\u001B[38;5;241;43m.\u001B[39;49m\u001B[43m_get_indexer_strict\u001B[49m\u001B[43m(\u001B[49m\u001B[43mkey\u001B[49m\u001B[43m,\u001B[49m\u001B[43m \u001B[49m\u001B[38;5;124;43m\"\u001B[39;49m\u001B[38;5;124;43mcolumns\u001B[39;49m\u001B[38;5;124;43m\"\u001B[39;49m\u001B[43m)\u001B[49m[\u001B[38;5;241m1\u001B[39m]\n\u001B[0;32m   3813\u001B[0m \u001B[38;5;66;03m# take() does not accept boolean indexers\u001B[39;00m\n\u001B[0;32m   3814\u001B[0m \u001B[38;5;28;01mif\u001B[39;00m \u001B[38;5;28mgetattr\u001B[39m(indexer, \u001B[38;5;124m\"\u001B[39m\u001B[38;5;124mdtype\u001B[39m\u001B[38;5;124m\"\u001B[39m, \u001B[38;5;28;01mNone\u001B[39;00m) \u001B[38;5;241m==\u001B[39m \u001B[38;5;28mbool\u001B[39m:\n",
      "File \u001B[1;32m~\\PycharmProjects\\OGRaySpY\\venv\\lib\\site-packages\\pandas\\core\\indexes\\base.py:6113\u001B[0m, in \u001B[0;36mIndex._get_indexer_strict\u001B[1;34m(self, key, axis_name)\u001B[0m\n\u001B[0;32m   6110\u001B[0m \u001B[38;5;28;01melse\u001B[39;00m:\n\u001B[0;32m   6111\u001B[0m     keyarr, indexer, new_indexer \u001B[38;5;241m=\u001B[39m \u001B[38;5;28mself\u001B[39m\u001B[38;5;241m.\u001B[39m_reindex_non_unique(keyarr)\n\u001B[1;32m-> 6113\u001B[0m \u001B[38;5;28;43mself\u001B[39;49m\u001B[38;5;241;43m.\u001B[39;49m\u001B[43m_raise_if_missing\u001B[49m\u001B[43m(\u001B[49m\u001B[43mkeyarr\u001B[49m\u001B[43m,\u001B[49m\u001B[43m \u001B[49m\u001B[43mindexer\u001B[49m\u001B[43m,\u001B[49m\u001B[43m \u001B[49m\u001B[43maxis_name\u001B[49m\u001B[43m)\u001B[49m\n\u001B[0;32m   6115\u001B[0m keyarr \u001B[38;5;241m=\u001B[39m \u001B[38;5;28mself\u001B[39m\u001B[38;5;241m.\u001B[39mtake(indexer)\n\u001B[0;32m   6116\u001B[0m \u001B[38;5;28;01mif\u001B[39;00m \u001B[38;5;28misinstance\u001B[39m(key, Index):\n\u001B[0;32m   6117\u001B[0m     \u001B[38;5;66;03m# GH 42790 - Preserve name from an Index\u001B[39;00m\n",
      "File \u001B[1;32m~\\PycharmProjects\\OGRaySpY\\venv\\lib\\site-packages\\pandas\\core\\indexes\\base.py:6173\u001B[0m, in \u001B[0;36mIndex._raise_if_missing\u001B[1;34m(self, key, indexer, axis_name)\u001B[0m\n\u001B[0;32m   6171\u001B[0m     \u001B[38;5;28;01mif\u001B[39;00m use_interval_msg:\n\u001B[0;32m   6172\u001B[0m         key \u001B[38;5;241m=\u001B[39m \u001B[38;5;28mlist\u001B[39m(key)\n\u001B[1;32m-> 6173\u001B[0m     \u001B[38;5;28;01mraise\u001B[39;00m \u001B[38;5;167;01mKeyError\u001B[39;00m(\u001B[38;5;124mf\u001B[39m\u001B[38;5;124m\"\u001B[39m\u001B[38;5;124mNone of [\u001B[39m\u001B[38;5;132;01m{\u001B[39;00mkey\u001B[38;5;132;01m}\u001B[39;00m\u001B[38;5;124m] are in the [\u001B[39m\u001B[38;5;132;01m{\u001B[39;00maxis_name\u001B[38;5;132;01m}\u001B[39;00m\u001B[38;5;124m]\u001B[39m\u001B[38;5;124m\"\u001B[39m)\n\u001B[0;32m   6175\u001B[0m not_found \u001B[38;5;241m=\u001B[39m \u001B[38;5;28mlist\u001B[39m(ensure_index(key)[missing_mask\u001B[38;5;241m.\u001B[39mnonzero()[\u001B[38;5;241m0\u001B[39m]]\u001B[38;5;241m.\u001B[39munique())\n\u001B[0;32m   6176\u001B[0m \u001B[38;5;28;01mraise\u001B[39;00m \u001B[38;5;167;01mKeyError\u001B[39;00m(\u001B[38;5;124mf\u001B[39m\u001B[38;5;124m\"\u001B[39m\u001B[38;5;132;01m{\u001B[39;00mnot_found\u001B[38;5;132;01m}\u001B[39;00m\u001B[38;5;124m not in index\u001B[39m\u001B[38;5;124m\"\u001B[39m)\n",
      "\u001B[1;31mKeyError\u001B[0m: \"None of [Index(['peaks', 'centroids', 'rough_sums'], dtype='object')] are in the [columns]\""
     ]
    }
   ],
   "source": [
    "# 2022-Dez-21 Achar o pico de maior área inicial do espectro:"
   ]
  },
  {
   "cell_type": "code",
   "execution_count": 29,
   "outputs": [
    {
     "data": {
      "text/plain": "<pandas.io.formats.style.Styler at 0x1c318c31a00>",
      "text/html": "<style type=\"text/css\">\n</style>\n<table id=\"T_e7dbc\">\n  <thead>\n  </thead>\n  <tbody>\n  </tbody>\n</table>\n"
     },
     "execution_count": 29,
     "metadata": {},
     "output_type": "execute_result"
    }
   ],
   "source": [
    "largest_pk = np.argmax(pkprms.rough_sums)\n",
    "pkprms.centroids[largest_pk]"
   ],
   "metadata": {
    "collapsed": false
   }
  },
  {
   "cell_type": "code",
   "execution_count": 30,
   "metadata": {},
   "outputs": [
    {
     "data": {
      "text/plain": "<pandas.io.formats.style.Styler at 0x1c31b6f4160>",
      "text/html": "<style type=\"text/css\">\n</style>\n<table id=\"T_e47ac\">\n  <thead>\n    <tr>\n      <th class=\"index_name level0\" >Model:</th>\n      <th id=\"T_e47ac_level0_col0\" class=\"col_heading level0 col0\" colspan=\"2\">Decision Tree</th>\n      <th id=\"T_e47ac_level0_col2\" class=\"col_heading level0 col2\" colspan=\"2\">Regression</th>\n      <th id=\"T_e47ac_level0_col4\" class=\"col_heading level0 col4\" colspan=\"2\">Random</th>\n    </tr>\n    <tr>\n      <th class=\"index_name level1\" >Predicted:</th>\n      <th id=\"T_e47ac_level1_col0\" class=\"col_heading level1 col0\" >Tumour</th>\n      <th id=\"T_e47ac_level1_col1\" class=\"col_heading level1 col1\" >Non-Tumour</th>\n      <th id=\"T_e47ac_level1_col2\" class=\"col_heading level1 col2\" >Tumour</th>\n      <th id=\"T_e47ac_level1_col3\" class=\"col_heading level1 col3\" >Non-Tumour</th>\n      <th id=\"T_e47ac_level1_col4\" class=\"col_heading level1 col4\" >Tumour</th>\n      <th id=\"T_e47ac_level1_col5\" class=\"col_heading level1 col5\" >Non-Tumour</th>\n    </tr>\n    <tr>\n      <th class=\"index_name level0\" >Actual Label:</th>\n      <th class=\"blank col0\" >&nbsp;</th>\n      <th class=\"blank col1\" >&nbsp;</th>\n      <th class=\"blank col2\" >&nbsp;</th>\n      <th class=\"blank col3\" >&nbsp;</th>\n      <th class=\"blank col4\" >&nbsp;</th>\n      <th class=\"blank col5\" >&nbsp;</th>\n    </tr>\n  </thead>\n  <tbody>\n    <tr>\n      <th id=\"T_e47ac_level0_row0\" class=\"row_heading level0 row0\" >Tumour (Positive)</th>\n      <td id=\"T_e47ac_row0_col0\" class=\"data row0 col0\" >38.00</td>\n      <td id=\"T_e47ac_row0_col1\" class=\"data row0 col1\" >2</td>\n      <td id=\"T_e47ac_row0_col2\" class=\"data row0 col2\" >18</td>\n      <td id=\"T_e47ac_row0_col3\" class=\"data row0 col3\" >$ -22 000 000.0</td>\n      <td id=\"T_e47ac_row0_col4\" class=\"data row0 col4\" >21</td>\n      <td id=\"T_e47ac_row0_col5\" class=\"data row0 col5\" >MISSING</td>\n    </tr>\n    <tr>\n      <th id=\"T_e47ac_level0_row1\" class=\"row_heading level0 row1\" >Non-Tumour (Negative)</th>\n      <td id=\"T_e47ac_row1_col0\" class=\"data row1 col0\" >19.00</td>\n      <td id=\"T_e47ac_row1_col1\" class=\"data row1 col1\" >439</td>\n      <td id=\"T_e47ac_row1_col2\" class=\"data row1 col2\" >6</td>\n      <td id=\"T_e47ac_row1_col3\" class=\"data row1 col3\" >$ -452 000 000.0</td>\n      <td id=\"T_e47ac_row1_col4\" class=\"data row1 col4\" >226</td>\n      <td id=\"T_e47ac_row1_col5\" class=\"data row1 col5\" >232</td>\n    </tr>\n  </tbody>\n</table>\n"
     },
     "execution_count": 30,
     "metadata": {},
     "output_type": "execute_result"
    }
   ],
   "source": [
    "# Só pra lembrar como faz divisão inteira\n",
    "21 // 7"
   ]
  },
  {
   "cell_type": "code",
   "execution_count": 35,
   "metadata": {},
   "outputs": [],
   "source": [
    "wi_re = pkprms.wide_regions[largest_pk]\n",
    "x = np.linspace(wi_re[0], wi_re[1], num=wi_re[1]-wi_re[0]+1)\n",
    "y = cntarr[wi_re[0]:wi_re[1]+1]\n",
    "c1 =  pkprms.centroids[largest_pk]\n",
    "s1 = pkprms.propts['widths'][largest_pk]*pkprms.k_fwhm_to_sd\n",
    "a1 = pkprms.rough_sums[largest_pk]\n",
    "# c2 = 313\n",
    "# s2 = 1.5\n",
    "# a2 = 400\n",
    "sste = 2.0"
   ]
  },
  {
   "cell_type": "code",
   "execution_count": 35,
   "outputs": [],
   "source": [],
   "metadata": {
    "collapsed": false
   }
  },
  {
   "cell_type": "code",
   "execution_count": 36,
   "metadata": {},
   "outputs": [
    {
     "name": "stdout",
     "output_type": "stream",
     "text": [
      "[[Model]]\n",
      "    Model(gaussian, prefix='g1_')\n",
      "[[Fit Statistics]]\n",
      "    # fitting method   = leastsq\n",
      "    # function evals   = 21\n",
      "    # data points      = 10\n",
      "    # variables        = 3\n",
      "    chi-square         = 6625.48823\n",
      "    reduced chi-square = 946.498318\n",
      "    Akaike info crit   = 70.9609425\n",
      "    Bayesian info crit = 71.8686978\n",
      "    R-squared          = 0.99742759\n",
      "[[Variables]]\n",
      "    g1_amplitude:  5264.84728 +/- 85.1465566 (1.62%) (init = 5347.497)\n",
      "    g1_center:     1926.29564 +/- 0.02690572 (0.00%) (init = 1926.275)\n",
      "    g1_sigma:      1.44040103 +/- 0.02690060 (1.87%) (init = 1.418733)\n",
      "    g1_fwhm:       3.39188516 +/- 0.06334608 (1.87%) == '2.3548200*g1_sigma'\n",
      "    g1_height:     1458.18438 +/- 23.5824677 (1.62%) == '0.3989423*g1_amplitude/max(1e-15, g1_sigma)'\n",
      "[[Correlations]] (unreported correlations are < 0.100)\n",
      "    C(g1_amplitude, g1_sigma) = 0.577\n"
     ]
    },
    {
     "data": {
      "text/plain": "<matplotlib.legend.Legend at 0x1e1136185e0>"
     },
     "execution_count": 36,
     "metadata": {},
     "output_type": "execute_result"
    },
    {
     "data": {
      "text/plain": "<Figure size 2000x1600 with 2 Axes>",
      "image/png": "[encoded data removed]"
     },
     "metadata": {},
     "output_type": "display_data"
    }
   ],
   "source": [
    "pars = Parameters()\n",
    "\n",
    "# line_mod = LinearModel(prefix='line_')\n",
    "# pars.update(line_mod.make_params())\n",
    "# pars['line_intercept'].set(value=200, min=50, max=400)\n",
    "# pars['line_slope'].set(value=0, min=-0.001, max=0.001)\n",
    "                      \n",
    "# exp_mod = ExponentialModel(prefix='exp_')\n",
    "# pars = exp_mod.guess(y, x=x)\n",
    "\n",
    "gauss1 = GaussianModel(prefix='g1_')\n",
    "pars.update(gauss1.make_params())\n",
    "pars['g1_center'].set(value=c1, min=c1-2, max=c1+2)\n",
    "pars['g1_sigma'].set(value=s1, min=0.5, max=10)\n",
    "pars['g1_amplitude'].set(value=a1, min=10)\n",
    "\n",
    "# mod = gauss1 + gauss2 + line_mod - step_mod\n",
    "# mod = gauss1 + gauss2 - step_mod\n",
    "mod = gauss1\n",
    "\n",
    "init = mod.eval(pars, x=x)\n",
    "out = mod.fit(y, pars, x=x)\n",
    "\n",
    "print(out.fit_report(min_correl=0.1))\n",
    "\n",
    "fig, axes = plt.subplots(1, 2, figsize=(20, 16))\n",
    "axes[0].set_yscale('log')\n",
    "axes[1].set_yscale('log')\n",
    "axes[0].set_ylim([10, 2.5e6])\n",
    "axes[1].set_ylim([10, 2.5e6])\n",
    "\n",
    "axes[0].plot(x, y, 'b')\n",
    "axes[0].plot(x, init, 'k--', label='initial fit')\n",
    "axes[0].plot(x, out.best_fit, 'r-', label='best fit')\n",
    "axes[0].legend(loc='best')\n",
    "\n",
    "comps = out.eval_components(x=x)\n",
    "axes[1].plot(x, y, 'b')\n",
    "axes[1].plot(x, comps['g1_'], 'g--', label='Gaussian component 1')\n",
    "# axes[1].plot(x, comps['g2_'], 'm--', label='Gaussian component 2')\n",
    "# axes[1].plot(x, comps['line_'], 'k--', label='Linear component')\n",
    "# axes[1].plot(x, -comps['step_'], 'r--', label='Step component')\n",
    "# axes[1].plot(x, comps['exp_'], 'k--', label='Exponential component')\n",
    "axes[1].legend(loc='best')\n",
    "\n",
    "# plt.show()\n",
    "# <end examples/doc_builtinmodels_nistgauss.py>"
   ]
  },
  {
   "cell_type": "code",
   "execution_count": 37,
   "outputs": [],
   "source": [
    "# 2023-Jan-3\n",
    "# Aqui finalizo este teste:\n",
    "# Dado um espectro, escolhi o pico mais proeminente do espectro\n",
    "# e fiz o ajuste gaussianco com lmfit\n",
    "# No caso, o pico tem área, centroide, SD e FWHM:\n",
    "# g1_amplitude:  5264.84728 +/- 85.1465566 (1.62%) (init = 5347.497)\n",
    "# g1_center:     1926.29564 +/- 0.02690572 (0.00%) (init = 1926.275)\n",
    "# g1_sigma:      1.44040103 +/- 0.02690060 (1.87%) (init = 1.418733)\n",
    "# g1_fwhm:       3.39188516 +/- 0.06334608 (1.87%) == '2.3548200*g1_sigma'\n",
    "# g1_height:     1458.18438 +/- 23.5824677 (1.62%) == '0.3989423*g1_amplitude/max(1e-15, g1_sigma)'\n",
    "\n",
    "# Comparando com saíuda do Genie:\n",
    "# canal (>0)    En:    FWHM (keV)    net area    net area unc   continuum\n",
    "# 1927.34      1173.47 2.04          5.40E+003   89.73          8.83E+002\n",
    "#"
   ],
   "metadata": {
    "collapsed": false
   }
  },
  {
   "cell_type": "code",
   "execution_count": 38,
   "outputs": [
    {
     "data": {
      "text/plain": "<lmfit.model.ModelResult at 0x1e10f3cba00>",
      "text/html": "<h2> Model</h2> Model(gaussian, prefix='g1_') <h2>Fit Statistics</h2><table><tr><td>fitting method</td><td>leastsq</td><td></td></tr><tr><td># function evals</td><td>21</td><td></td></tr><tr><td># data points</td><td>10</td><td></td></tr><tr><td># variables</td><td>3</td><td></td></tr><tr><td>chi-square</td><td> 6625.48823</td><td></td></tr><tr><td>reduced chi-square</td><td> 946.498318</td><td></td></tr><tr><td>Akaike info crit.</td><td> 70.9609425</td><td></td></tr><tr><td>Bayesian info crit.</td><td> 71.8686978</td><td></td></tr><tr><td>R-squared</td><td> 0.99742759</td><td></td></tr></table><h2>Variables</h2><table><tr><th> name </th><th> value </th><th> standard error </th><th> relative error </th><th> initial value </th><th> min </th><th> max </th><th> vary </th><th> expression </th></tr><tr><td> g1_amplitude </td><td>  5264.84728 </td><td>  85.1465566 </td><td> (1.62%) </td><td> 5347.497160537201 </td><td>  10.0000000 </td><td>         inf </td><td> True </td><td>  </td></tr><tr><td> g1_center </td><td>  1926.29564 </td><td>  0.02690572 </td><td> (0.00%) </td><td> 1926.274908054728 </td><td>  1924.27491 </td><td>  1928.27491 </td><td> True </td><td>  </td></tr><tr><td> g1_sigma </td><td>  1.44040103 </td><td>  0.02690060 </td><td> (1.87%) </td><td> 1.4187332051144015 </td><td>  0.50000000 </td><td>  10.0000000 </td><td> True </td><td>  </td></tr><tr><td> g1_fwhm </td><td>  3.39188516 </td><td>  0.06334608 </td><td> (1.87%) </td><td> 3.340861326067495 </td><td>        -inf </td><td>         inf </td><td> False </td><td> 2.3548200*g1_sigma </td></tr><tr><td> g1_height </td><td>  1458.18438 </td><td>  23.5824677 </td><td> (1.62%) </td><td> 1503.695556555438 </td><td>        -inf </td><td>         inf </td><td> False </td><td> 0.3989423*g1_amplitude/max(1e-15, g1_sigma) </td></tr></table><h2>Correlations (unreported correlations are < 0.100)</h2><table><tr><td>g1_amplitude</td><td>g1_sigma</td><td>0.5774</td></tr></table>"
     },
     "execution_count": 38,
     "metadata": {},
     "output_type": "execute_result"
    }
   ],
   "source": [
    "out"
   ],
   "metadata": {
    "collapsed": false
   }
  },
  {
   "cell_type": "code",
   "execution_count": 39,
   "outputs": [
    {
     "data": {
      "text/plain": "Parameters([('g1_amplitude', <Parameter 'g1_amplitude', value=5264.8472819797735 +/- 85.1, bounds=[10:inf]>), ('g1_center', <Parameter 'g1_center', value=1926.295636105063 +/- 0.0269, bounds=[1924.274908054728:1928.274908054728]>), ('g1_sigma', <Parameter 'g1_sigma', value=1.440401032769619 +/- 0.0269, bounds=[0.5:10]>), ('g1_fwhm', <Parameter 'g1_fwhm', value=3.3918851599865545 +/- 0.0633, bounds=[-inf:inf], expr='2.3548200*g1_sigma'>), ('g1_height', <Parameter 'g1_height', value=1458.1843778486775 +/- 23.6, bounds=[-inf:inf], expr='0.3989423*g1_amplitude/max(1e-15, g1_sigma)'>)])",
      "text/html": "<table><tr><th> name </th><th> value </th><th> standard error </th><th> relative error </th><th> initial value </th><th> min </th><th> max </th><th> vary </th><th> expression </th></tr><tr><td> g1_amplitude </td><td>  5264.84728 </td><td>  85.1465566 </td><td> (1.62%) </td><td> 5347.497160537201 </td><td>  10.0000000 </td><td>         inf </td><td> True </td><td>  </td></tr><tr><td> g1_center </td><td>  1926.29564 </td><td>  0.02690572 </td><td> (0.00%) </td><td> 1926.274908054728 </td><td>  1924.27491 </td><td>  1928.27491 </td><td> True </td><td>  </td></tr><tr><td> g1_sigma </td><td>  1.44040103 </td><td>  0.02690060 </td><td> (1.87%) </td><td> 1.4187332051144015 </td><td>  0.50000000 </td><td>  10.0000000 </td><td> True </td><td>  </td></tr><tr><td> g1_fwhm </td><td>  3.39188516 </td><td>  0.06334608 </td><td> (1.87%) </td><td> 3.340861326067495 </td><td>        -inf </td><td>         inf </td><td> False </td><td> 2.3548200*g1_sigma </td></tr><tr><td> g1_height </td><td>  1458.18438 </td><td>  23.5824677 </td><td> (1.62%) </td><td> 1503.695556555438 </td><td>        -inf </td><td>         inf </td><td> False </td><td> 0.3989423*g1_amplitude/max(1e-15, g1_sigma) </td></tr></table>"
     },
     "execution_count": 39,
     "metadata": {},
     "output_type": "execute_result"
    }
   ],
   "source": [
    "out.params"
   ],
   "metadata": {
    "collapsed": false
   }
  },
  {
   "cell_type": "code",
   "execution_count": 40,
   "outputs": [
    {
     "data": {
      "text/plain": "['g1_amplitude', 'g1_center', 'g1_sigma']"
     },
     "execution_count": 40,
     "metadata": {},
     "output_type": "execute_result"
    }
   ],
   "source": [
    "out.var_names"
   ],
   "metadata": {
    "collapsed": false
   }
  },
  {
   "cell_type": "code",
   "execution_count": 41,
   "outputs": [
    {
     "data": {
      "text/plain": "dict_items([('g1_amplitude', <Parameter 'g1_amplitude', value=5264.8472819797735 +/- 85.1, bounds=[10:inf]>), ('g1_center', <Parameter 'g1_center', value=1926.295636105063 +/- 0.0269, bounds=[1924.274908054728:1928.274908054728]>), ('g1_sigma', <Parameter 'g1_sigma', value=1.440401032769619 +/- 0.0269, bounds=[0.5:10]>), ('g1_fwhm', <Parameter 'g1_fwhm', value=3.3918851599865545 +/- 0.0633, bounds=[-inf:inf], expr='2.3548200*g1_sigma'>), ('g1_height', <Parameter 'g1_height', value=1458.1843778486775 +/- 23.6, bounds=[-inf:inf], expr='0.3989423*g1_amplitude/max(1e-15, g1_sigma)'>)])"
     },
     "execution_count": 41,
     "metadata": {},
     "output_type": "execute_result"
    }
   ],
   "source": [
    "out.params.items()"
   ],
   "metadata": {
    "collapsed": false
   }
  },
  {
   "cell_type": "code",
   "execution_count": 42,
   "outputs": [
    {
     "name": "stdout",
     "output_type": "stream",
     "text": [
      "Name             Value      Min      Max   Stderr     Vary     Expr Brute_Step\n",
      "g1_amplitude      5265       10      inf    85.15     True     None     None\n",
      "g1_center         1926     1924     1928  0.02691     True     None     None\n",
      "g1_fwhm          3.392     -inf      inf  0.06335    False 2.3548200*g1_sigma     None\n",
      "g1_height         1458     -inf      inf    23.58    False 0.3989423*g1_amplitude/max(1e-15, g1_sigma)     None\n",
      "g1_sigma          1.44      0.5       10   0.0269     True     None     None\n"
     ]
    }
   ],
   "source": [
    "out.params.pretty_print()"
   ],
   "metadata": {
    "collapsed": false
   }
  },
  {
   "cell_type": "code",
   "execution_count": 31,
   "outputs": [
    {
     "ename": "KeyError",
     "evalue": "\"None of [Index(['peaks', 'centroids', 'rough_sums'], dtype='object')] are in the [columns]\"",
     "output_type": "error",
     "traceback": [
      "\u001B[1;31m---------------------------------------------------------------------------\u001B[0m",
      "\u001B[1;31mKeyError\u001B[0m                                  Traceback (most recent call last)",
      "Cell \u001B[1;32mIn[31], line 4\u001B[0m\n\u001B[0;32m      1\u001B[0m \u001B[38;5;66;03m# 2022-Dez-28\u001B[39;00m\n\u001B[0;32m      2\u001B[0m \u001B[38;5;66;03m# Testes com conversão de pandas df .to_html\u001B[39;00m\n\u001B[0;32m      3\u001B[0m \u001B[38;5;66;03m# Teste 1: html direto\u001B[39;00m\n\u001B[1;32m----> 4\u001B[0m df_to_html \u001B[38;5;241m=\u001B[39m \u001B[43mogra\u001B[49m\u001B[38;5;241;43m.\u001B[39;49m\u001B[43ma_spec\u001B[49m\u001B[38;5;241;43m.\u001B[39;49m\u001B[43mspec_pks_df\u001B[49m\u001B[38;5;241;43m.\u001B[39;49m\u001B[43mto_html\u001B[49m\u001B[43m(\u001B[49m\u001B[43mcolumns\u001B[49m\u001B[38;5;241;43m=\u001B[39;49m\u001B[43m[\u001B[49m\u001B[38;5;124;43m'\u001B[39;49m\u001B[38;5;124;43mpeaks\u001B[39;49m\u001B[38;5;124;43m'\u001B[39;49m\u001B[43m,\u001B[49m\u001B[43m \u001B[49m\u001B[38;5;124;43m'\u001B[39;49m\u001B[38;5;124;43mcentroids\u001B[39;49m\u001B[38;5;124;43m'\u001B[39;49m\u001B[43m,\u001B[49m\u001B[43m \u001B[49m\u001B[38;5;124;43m'\u001B[39;49m\u001B[38;5;124;43mrough_sums\u001B[39;49m\u001B[38;5;124;43m'\u001B[39;49m\u001B[43m]\u001B[49m\u001B[43m)\u001B[49m\n\u001B[0;32m      5\u001B[0m df_to_html\n",
      "File \u001B[1;32m~\\PycharmProjects\\OGRaySpY\\venv\\lib\\site-packages\\pandas\\core\\frame.py:3197\u001B[0m, in \u001B[0;36mDataFrame.to_html\u001B[1;34m(self, buf, columns, col_space, header, index, na_rep, formatters, float_format, sparsify, index_names, justify, max_rows, max_cols, show_dimensions, decimal, bold_rows, classes, escape, notebook, border, table_id, render_links, encoding)\u001B[0m\n\u001B[0;32m   3194\u001B[0m \u001B[38;5;28;01mif\u001B[39;00m justify \u001B[38;5;129;01mis\u001B[39;00m \u001B[38;5;129;01mnot\u001B[39;00m \u001B[38;5;28;01mNone\u001B[39;00m \u001B[38;5;129;01mand\u001B[39;00m justify \u001B[38;5;129;01mnot\u001B[39;00m \u001B[38;5;129;01min\u001B[39;00m fmt\u001B[38;5;241m.\u001B[39m_VALID_JUSTIFY_PARAMETERS:\n\u001B[0;32m   3195\u001B[0m     \u001B[38;5;28;01mraise\u001B[39;00m \u001B[38;5;167;01mValueError\u001B[39;00m(\u001B[38;5;124m\"\u001B[39m\u001B[38;5;124mInvalid value for justify parameter\u001B[39m\u001B[38;5;124m\"\u001B[39m)\n\u001B[1;32m-> 3197\u001B[0m formatter \u001B[38;5;241m=\u001B[39m \u001B[43mfmt\u001B[49m\u001B[38;5;241;43m.\u001B[39;49m\u001B[43mDataFrameFormatter\u001B[49m\u001B[43m(\u001B[49m\n\u001B[0;32m   3198\u001B[0m \u001B[43m    \u001B[49m\u001B[38;5;28;43mself\u001B[39;49m\u001B[43m,\u001B[49m\n\u001B[0;32m   3199\u001B[0m \u001B[43m    \u001B[49m\u001B[43mcolumns\u001B[49m\u001B[38;5;241;43m=\u001B[39;49m\u001B[43mcolumns\u001B[49m\u001B[43m,\u001B[49m\n\u001B[0;32m   3200\u001B[0m \u001B[43m    \u001B[49m\u001B[43mcol_space\u001B[49m\u001B[38;5;241;43m=\u001B[39;49m\u001B[43mcol_space\u001B[49m\u001B[43m,\u001B[49m\n\u001B[0;32m   3201\u001B[0m \u001B[43m    \u001B[49m\u001B[43mna_rep\u001B[49m\u001B[38;5;241;43m=\u001B[39;49m\u001B[43mna_rep\u001B[49m\u001B[43m,\u001B[49m\n\u001B[0;32m   3202\u001B[0m \u001B[43m    \u001B[49m\u001B[43mheader\u001B[49m\u001B[38;5;241;43m=\u001B[39;49m\u001B[43mheader\u001B[49m\u001B[43m,\u001B[49m\n\u001B[0;32m   3203\u001B[0m \u001B[43m    \u001B[49m\u001B[43mindex\u001B[49m\u001B[38;5;241;43m=\u001B[39;49m\u001B[43mindex\u001B[49m\u001B[43m,\u001B[49m\n\u001B[0;32m   3204\u001B[0m \u001B[43m    \u001B[49m\u001B[43mformatters\u001B[49m\u001B[38;5;241;43m=\u001B[39;49m\u001B[43mformatters\u001B[49m\u001B[43m,\u001B[49m\n\u001B[0;32m   3205\u001B[0m \u001B[43m    \u001B[49m\u001B[43mfloat_format\u001B[49m\u001B[38;5;241;43m=\u001B[39;49m\u001B[43mfloat_format\u001B[49m\u001B[43m,\u001B[49m\n\u001B[0;32m   3206\u001B[0m \u001B[43m    \u001B[49m\u001B[43mbold_rows\u001B[49m\u001B[38;5;241;43m=\u001B[39;49m\u001B[43mbold_rows\u001B[49m\u001B[43m,\u001B[49m\n\u001B[0;32m   3207\u001B[0m \u001B[43m    \u001B[49m\u001B[43msparsify\u001B[49m\u001B[38;5;241;43m=\u001B[39;49m\u001B[43msparsify\u001B[49m\u001B[43m,\u001B[49m\n\u001B[0;32m   3208\u001B[0m \u001B[43m    \u001B[49m\u001B[43mjustify\u001B[49m\u001B[38;5;241;43m=\u001B[39;49m\u001B[43mjustify\u001B[49m\u001B[43m,\u001B[49m\n\u001B[0;32m   3209\u001B[0m \u001B[43m    \u001B[49m\u001B[43mindex_names\u001B[49m\u001B[38;5;241;43m=\u001B[39;49m\u001B[43mindex_names\u001B[49m\u001B[43m,\u001B[49m\n\u001B[0;32m   3210\u001B[0m \u001B[43m    \u001B[49m\u001B[43mescape\u001B[49m\u001B[38;5;241;43m=\u001B[39;49m\u001B[43mescape\u001B[49m\u001B[43m,\u001B[49m\n\u001B[0;32m   3211\u001B[0m \u001B[43m    \u001B[49m\u001B[43mdecimal\u001B[49m\u001B[38;5;241;43m=\u001B[39;49m\u001B[43mdecimal\u001B[49m\u001B[43m,\u001B[49m\n\u001B[0;32m   3212\u001B[0m \u001B[43m    \u001B[49m\u001B[43mmax_rows\u001B[49m\u001B[38;5;241;43m=\u001B[39;49m\u001B[43mmax_rows\u001B[49m\u001B[43m,\u001B[49m\n\u001B[0;32m   3213\u001B[0m \u001B[43m    \u001B[49m\u001B[43mmax_cols\u001B[49m\u001B[38;5;241;43m=\u001B[39;49m\u001B[43mmax_cols\u001B[49m\u001B[43m,\u001B[49m\n\u001B[0;32m   3214\u001B[0m \u001B[43m    \u001B[49m\u001B[43mshow_dimensions\u001B[49m\u001B[38;5;241;43m=\u001B[39;49m\u001B[43mshow_dimensions\u001B[49m\u001B[43m,\u001B[49m\n\u001B[0;32m   3215\u001B[0m \u001B[43m\u001B[49m\u001B[43m)\u001B[49m\n\u001B[0;32m   3216\u001B[0m \u001B[38;5;66;03m# TODO: a generic formatter wld b in DataFrameFormatter\u001B[39;00m\n\u001B[0;32m   3217\u001B[0m \u001B[38;5;28;01mreturn\u001B[39;00m fmt\u001B[38;5;241m.\u001B[39mDataFrameRenderer(formatter)\u001B[38;5;241m.\u001B[39mto_html(\n\u001B[0;32m   3218\u001B[0m     buf\u001B[38;5;241m=\u001B[39mbuf,\n\u001B[0;32m   3219\u001B[0m     classes\u001B[38;5;241m=\u001B[39mclasses,\n\u001B[1;32m   (...)\u001B[0m\n\u001B[0;32m   3224\u001B[0m     render_links\u001B[38;5;241m=\u001B[39mrender_links,\n\u001B[0;32m   3225\u001B[0m )\n",
      "File \u001B[1;32m~\\PycharmProjects\\OGRaySpY\\venv\\lib\\site-packages\\pandas\\io\\formats\\format.py:588\u001B[0m, in \u001B[0;36mDataFrameFormatter.__init__\u001B[1;34m(self, frame, columns, col_space, header, index, na_rep, formatters, justify, float_format, sparsify, index_names, max_rows, min_rows, max_cols, show_dimensions, decimal, bold_rows, escape)\u001B[0m\n\u001B[0;32m    566\u001B[0m \u001B[38;5;28;01mdef\u001B[39;00m \u001B[38;5;21m__init__\u001B[39m(\n\u001B[0;32m    567\u001B[0m     \u001B[38;5;28mself\u001B[39m,\n\u001B[0;32m    568\u001B[0m     frame: DataFrame,\n\u001B[1;32m   (...)\u001B[0m\n\u001B[0;32m    585\u001B[0m     escape: \u001B[38;5;28mbool\u001B[39m \u001B[38;5;241m=\u001B[39m \u001B[38;5;28;01mTrue\u001B[39;00m,\n\u001B[0;32m    586\u001B[0m ) \u001B[38;5;241m-\u001B[39m\u001B[38;5;241m>\u001B[39m \u001B[38;5;28;01mNone\u001B[39;00m:\n\u001B[0;32m    587\u001B[0m     \u001B[38;5;28mself\u001B[39m\u001B[38;5;241m.\u001B[39mframe \u001B[38;5;241m=\u001B[39m frame\n\u001B[1;32m--> 588\u001B[0m     \u001B[38;5;28mself\u001B[39m\u001B[38;5;241m.\u001B[39mcolumns \u001B[38;5;241m=\u001B[39m \u001B[38;5;28;43mself\u001B[39;49m\u001B[38;5;241;43m.\u001B[39;49m\u001B[43m_initialize_columns\u001B[49m\u001B[43m(\u001B[49m\u001B[43mcolumns\u001B[49m\u001B[43m)\u001B[49m\n\u001B[0;32m    589\u001B[0m     \u001B[38;5;28mself\u001B[39m\u001B[38;5;241m.\u001B[39mcol_space \u001B[38;5;241m=\u001B[39m \u001B[38;5;28mself\u001B[39m\u001B[38;5;241m.\u001B[39m_initialize_colspace(col_space)\n\u001B[0;32m    590\u001B[0m     \u001B[38;5;28mself\u001B[39m\u001B[38;5;241m.\u001B[39mheader \u001B[38;5;241m=\u001B[39m header\n",
      "File \u001B[1;32m~\\PycharmProjects\\OGRaySpY\\venv\\lib\\site-packages\\pandas\\io\\formats\\format.py:696\u001B[0m, in \u001B[0;36mDataFrameFormatter._initialize_columns\u001B[1;34m(self, columns)\u001B[0m\n\u001B[0;32m    692\u001B[0m \u001B[38;5;28;01mif\u001B[39;00m columns \u001B[38;5;129;01mis\u001B[39;00m \u001B[38;5;129;01mnot\u001B[39;00m \u001B[38;5;28;01mNone\u001B[39;00m:\n\u001B[0;32m    693\u001B[0m     \u001B[38;5;66;03m# GH 47231 - columns doesn't have to be `Sequence[str]`\u001B[39;00m\n\u001B[0;32m    694\u001B[0m     \u001B[38;5;66;03m# Will fix in later PR\u001B[39;00m\n\u001B[0;32m    695\u001B[0m     cols \u001B[38;5;241m=\u001B[39m ensure_index(cast(Axes, columns))\n\u001B[1;32m--> 696\u001B[0m     \u001B[38;5;28mself\u001B[39m\u001B[38;5;241m.\u001B[39mframe \u001B[38;5;241m=\u001B[39m \u001B[38;5;28;43mself\u001B[39;49m\u001B[38;5;241;43m.\u001B[39;49m\u001B[43mframe\u001B[49m\u001B[43m[\u001B[49m\u001B[43mcols\u001B[49m\u001B[43m]\u001B[49m\n\u001B[0;32m    697\u001B[0m     \u001B[38;5;28;01mreturn\u001B[39;00m cols\n\u001B[0;32m    698\u001B[0m \u001B[38;5;28;01melse\u001B[39;00m:\n",
      "File \u001B[1;32m~\\PycharmProjects\\OGRaySpY\\venv\\lib\\site-packages\\pandas\\core\\frame.py:3811\u001B[0m, in \u001B[0;36mDataFrame.__getitem__\u001B[1;34m(self, key)\u001B[0m\n\u001B[0;32m   3809\u001B[0m     \u001B[38;5;28;01mif\u001B[39;00m is_iterator(key):\n\u001B[0;32m   3810\u001B[0m         key \u001B[38;5;241m=\u001B[39m \u001B[38;5;28mlist\u001B[39m(key)\n\u001B[1;32m-> 3811\u001B[0m     indexer \u001B[38;5;241m=\u001B[39m \u001B[38;5;28;43mself\u001B[39;49m\u001B[38;5;241;43m.\u001B[39;49m\u001B[43mcolumns\u001B[49m\u001B[38;5;241;43m.\u001B[39;49m\u001B[43m_get_indexer_strict\u001B[49m\u001B[43m(\u001B[49m\u001B[43mkey\u001B[49m\u001B[43m,\u001B[49m\u001B[43m \u001B[49m\u001B[38;5;124;43m\"\u001B[39;49m\u001B[38;5;124;43mcolumns\u001B[39;49m\u001B[38;5;124;43m\"\u001B[39;49m\u001B[43m)\u001B[49m[\u001B[38;5;241m1\u001B[39m]\n\u001B[0;32m   3813\u001B[0m \u001B[38;5;66;03m# take() does not accept boolean indexers\u001B[39;00m\n\u001B[0;32m   3814\u001B[0m \u001B[38;5;28;01mif\u001B[39;00m \u001B[38;5;28mgetattr\u001B[39m(indexer, \u001B[38;5;124m\"\u001B[39m\u001B[38;5;124mdtype\u001B[39m\u001B[38;5;124m\"\u001B[39m, \u001B[38;5;28;01mNone\u001B[39;00m) \u001B[38;5;241m==\u001B[39m \u001B[38;5;28mbool\u001B[39m:\n",
      "File \u001B[1;32m~\\PycharmProjects\\OGRaySpY\\venv\\lib\\site-packages\\pandas\\core\\indexes\\base.py:6113\u001B[0m, in \u001B[0;36mIndex._get_indexer_strict\u001B[1;34m(self, key, axis_name)\u001B[0m\n\u001B[0;32m   6110\u001B[0m \u001B[38;5;28;01melse\u001B[39;00m:\n\u001B[0;32m   6111\u001B[0m     keyarr, indexer, new_indexer \u001B[38;5;241m=\u001B[39m \u001B[38;5;28mself\u001B[39m\u001B[38;5;241m.\u001B[39m_reindex_non_unique(keyarr)\n\u001B[1;32m-> 6113\u001B[0m \u001B[38;5;28;43mself\u001B[39;49m\u001B[38;5;241;43m.\u001B[39;49m\u001B[43m_raise_if_missing\u001B[49m\u001B[43m(\u001B[49m\u001B[43mkeyarr\u001B[49m\u001B[43m,\u001B[49m\u001B[43m \u001B[49m\u001B[43mindexer\u001B[49m\u001B[43m,\u001B[49m\u001B[43m \u001B[49m\u001B[43maxis_name\u001B[49m\u001B[43m)\u001B[49m\n\u001B[0;32m   6115\u001B[0m keyarr \u001B[38;5;241m=\u001B[39m \u001B[38;5;28mself\u001B[39m\u001B[38;5;241m.\u001B[39mtake(indexer)\n\u001B[0;32m   6116\u001B[0m \u001B[38;5;28;01mif\u001B[39;00m \u001B[38;5;28misinstance\u001B[39m(key, Index):\n\u001B[0;32m   6117\u001B[0m     \u001B[38;5;66;03m# GH 42790 - Preserve name from an Index\u001B[39;00m\n",
      "File \u001B[1;32m~\\PycharmProjects\\OGRaySpY\\venv\\lib\\site-packages\\pandas\\core\\indexes\\base.py:6173\u001B[0m, in \u001B[0;36mIndex._raise_if_missing\u001B[1;34m(self, key, indexer, axis_name)\u001B[0m\n\u001B[0;32m   6171\u001B[0m     \u001B[38;5;28;01mif\u001B[39;00m use_interval_msg:\n\u001B[0;32m   6172\u001B[0m         key \u001B[38;5;241m=\u001B[39m \u001B[38;5;28mlist\u001B[39m(key)\n\u001B[1;32m-> 6173\u001B[0m     \u001B[38;5;28;01mraise\u001B[39;00m \u001B[38;5;167;01mKeyError\u001B[39;00m(\u001B[38;5;124mf\u001B[39m\u001B[38;5;124m\"\u001B[39m\u001B[38;5;124mNone of [\u001B[39m\u001B[38;5;132;01m{\u001B[39;00mkey\u001B[38;5;132;01m}\u001B[39;00m\u001B[38;5;124m] are in the [\u001B[39m\u001B[38;5;132;01m{\u001B[39;00maxis_name\u001B[38;5;132;01m}\u001B[39;00m\u001B[38;5;124m]\u001B[39m\u001B[38;5;124m\"\u001B[39m)\n\u001B[0;32m   6175\u001B[0m not_found \u001B[38;5;241m=\u001B[39m \u001B[38;5;28mlist\u001B[39m(ensure_index(key)[missing_mask\u001B[38;5;241m.\u001B[39mnonzero()[\u001B[38;5;241m0\u001B[39m]]\u001B[38;5;241m.\u001B[39munique())\n\u001B[0;32m   6176\u001B[0m \u001B[38;5;28;01mraise\u001B[39;00m \u001B[38;5;167;01mKeyError\u001B[39;00m(\u001B[38;5;124mf\u001B[39m\u001B[38;5;124m\"\u001B[39m\u001B[38;5;132;01m{\u001B[39;00mnot_found\u001B[38;5;132;01m}\u001B[39;00m\u001B[38;5;124m not in index\u001B[39m\u001B[38;5;124m\"\u001B[39m)\n",
      "\u001B[1;31mKeyError\u001B[0m: \"None of [Index(['peaks', 'centroids', 'rough_sums'], dtype='object')] are in the [columns]\""
     ]
    }
   ],
   "source": [
    "print('-------------------------------')\n",
    "print('Parameter    Value       Stderr')\n",
    "for name, param in out.params.items():\n",
    "    # print(f'{name:7s} {param.value:11.5f} {param.stderr:11.5f}')\n",
    "    print(name)\n",
    "    print(param)\n",
    "    print(param.value)"
   ],
   "metadata": {
    "collapsed": false
   }
  },
  {
   "cell_type": "code",
   "execution_count": 43,
   "outputs": [],
   "source": [],
   "metadata": {
    "collapsed": false
   }
  },
  {
   "cell_type": "code",
   "execution_count": 44,
   "outputs": [],
   "source": [
    "def gauss_lmfit_singlet(pkprms, ipk):\n",
    "    wi_re = pkprms.wide_regions[ipk]\n",
    "    print(f'pico: {wi_re}')\n",
    "    x = np.linspace(wi_re[0], wi_re[1], num=wi_re[1]-wi_re[0]+1)\n",
    "    y = cntarr[wi_re[0]:wi_re[1]+1]\n",
    "    c1 = pkprms.centroids[ipk]\n",
    "    s1 = pkprms.propts['widths'][ipk]*pkprms.k_fwhm_to_sd\n",
    "    a1 = pkprms.rough_sums[ipk]\n",
    "\n",
    "    parames = Parameters()\n",
    "\n",
    "    gauss1 = GaussianModel(prefix='g1_')\n",
    "    parames.update(gauss1.make_params())\n",
    "    parames['g1_center'].set(value=c1, min=c1-2, max=c1+2)\n",
    "    parames['g1_sigma'].set(value=s1, min=0.5, max=10)\n",
    "    parames['g1_amplitude'].set(value=a1, min=10)\n",
    "\n",
    "    mod = gauss1\n",
    "\n",
    "    init = mod.eval(parames, x=x)\n",
    "    out = mod.fit(y, parames, x=x, verbose=False)\n",
    "    print('Fez.')\n",
    "\n",
    "    # ret = [param for param in out.params.items()]\n",
    "    ret = out\n",
    "    return ret"
   ],
   "metadata": {
    "collapsed": false
   }
  },
  {
   "cell_type": "code",
   "execution_count": 45,
   "outputs": [
    {
     "name": "stdout",
     "output_type": "stream",
     "text": [
      "pico: [27 35]\n",
      "Fez.\n",
      "<lmfit.model.ModelResult object at 0x000001E114462430>\n",
      "pico: [123 127]\n",
      "Fez.\n",
      "<lmfit.model.ModelResult object at 0x000001E114462190>\n",
      "pico: [125 131]\n",
      "Fez.\n",
      "<lmfit.model.ModelResult object at 0x000001E10F413880>\n",
      "pico: [142 147]\n",
      "Fez.\n",
      "<lmfit.model.ModelResult object at 0x000001E10F4088B0>\n",
      "pico: [232 239]\n",
      "Fez.\n",
      "<lmfit.model.ModelResult object at 0x000001E10F2BCA60>\n",
      "pico: [237 243]\n",
      "Fez.\n",
      "<lmfit.model.ModelResult object at 0x000001E10F4088B0>\n",
      "pico: [394 398]\n",
      "Fez.\n",
      "<lmfit.model.ModelResult object at 0x000001E10F2BCA60>\n",
      "pico: [579 585]\n",
      "Fez.\n",
      "<lmfit.model.ModelResult object at 0x000001E10F40CAC0>\n",
      "pico: [713 717]\n",
      "Fez.\n",
      "<lmfit.model.ModelResult object at 0x000001E10F408F70>\n",
      "pico: [734 739]\n",
      "Fez.\n",
      "<lmfit.model.ModelResult object at 0x000001E10F2D63A0>\n",
      "pico: [801 805]\n",
      "Fez.\n",
      "<lmfit.model.ModelResult object at 0x000001E10F2D6FA0>\n",
      "pico: [836 848]\n",
      "Fez.\n",
      "<lmfit.model.ModelResult object at 0x000001E10F44A370>\n",
      "pico: [957 964]\n",
      "Fez.\n",
      "<lmfit.model.ModelResult object at 0x000001E10F2C3190>\n",
      "pico: [1000 1006]\n",
      "Fez.\n",
      "<lmfit.model.ModelResult object at 0x000001E10F43D850>\n",
      "pico: [1079 1086]\n",
      "Fez.\n",
      "<lmfit.model.ModelResult object at 0x000001E10F2C32E0>\n",
      "pico: [1110 1119]\n",
      "Fez.\n",
      "<lmfit.model.ModelResult object at 0x000001E10F458130>\n",
      "pico: [1127 1132]\n",
      "Fez.\n",
      "<lmfit.model.ModelResult object at 0x000001E114462310>\n",
      "pico: [1158 1166]\n",
      "Fez.\n",
      "<lmfit.model.ModelResult object at 0x000001E10F44AC10>\n",
      "pico: [1194 1198]\n",
      "Fez.\n",
      "<lmfit.model.ModelResult object at 0x000001E10F44A8E0>\n",
      "pico: [1252 1260]\n",
      "Fez.\n",
      "<lmfit.model.ModelResult object at 0x000001E10F43D280>\n",
      "pico: [1328 1337]\n",
      "Fez.\n",
      "<lmfit.model.ModelResult object at 0x000001E114451F10>\n",
      "pico: [1370 1375]\n",
      "Fez.\n",
      "<lmfit.model.ModelResult object at 0x000001E10F40C850>\n",
      "pico: [1450 1458]\n",
      "Fez.\n",
      "<lmfit.model.ModelResult object at 0x000001E10F408D60>\n",
      "pico: [1494 1501]\n",
      "Fez.\n",
      "<lmfit.model.ModelResult object at 0x000001E10F432A30>\n",
      "pico: [1536 1544]\n",
      "Fez.\n",
      "<lmfit.model.ModelResult object at 0x000001E10F44A8E0>\n",
      "pico: [1582 1588]\n",
      "Fez.\n",
      "<lmfit.model.ModelResult object at 0x000001E10F43B190>\n",
      "pico: [1589 1595]\n",
      "Fez.\n",
      "<lmfit.model.ModelResult object at 0x000001E10F2D6BE0>\n",
      "pico: [1828 1835]\n",
      "Fez.\n",
      "<lmfit.model.ModelResult object at 0x000001E1144C18B0>\n",
      "pico: [1835 1844]\n",
      "Fez.\n",
      "<lmfit.model.ModelResult object at 0x000001E10F408700>\n",
      "pico: [1922 1931]\n",
      "Fez.\n",
      "<lmfit.model.ModelResult object at 0x000001E10F519FD0>\n",
      "pico: [2028 2036]\n",
      "Fez.\n",
      "<lmfit.model.ModelResult object at 0x000001E10F432F10>\n",
      "pico: [2182 2192]\n",
      "Fez.\n",
      "<lmfit.model.ModelResult object at 0x000001E10F519AF0>\n",
      "pico: [2267 2277]\n",
      "Fez.\n",
      "<lmfit.model.ModelResult object at 0x000001E10F40CB50>\n",
      "pico: [2392 2403]\n",
      "Fez.\n",
      "<lmfit.model.ModelResult object at 0x000001E10F43B130>\n",
      "pico: [2467 2473]\n",
      "Fez.\n",
      "<lmfit.model.ModelResult object at 0x000001E1144C10D0>\n",
      "pico: [2608 2619]\n",
      "Fez.\n",
      "<lmfit.model.ModelResult object at 0x000001E10F4083D0>\n",
      "pico: [2834 2841]\n",
      "Fez.\n",
      "<lmfit.model.ModelResult object at 0x000001E10F43DDC0>\n",
      "pico: [2890 2899]\n",
      "Fez.\n",
      "<lmfit.model.ModelResult object at 0x000001E10F4585B0>\n",
      "pico: [3026 3034]\n",
      "Fez.\n",
      "<lmfit.model.ModelResult object at 0x000001E10F408FA0>\n",
      "pico: [3441 3458]\n",
      "Fez.\n",
      "<lmfit.model.ModelResult object at 0x000001E10F2D6670>\n",
      "pico: [3610 3621]\n",
      "Fez.\n",
      "<lmfit.model.ModelResult object at 0x000001E1144CBD90>\n",
      "pico: [4003 4022]\n",
      "Fez.\n",
      "<lmfit.model.ModelResult object at 0x000001E10A283700>\n"
     ]
    }
   ],
   "source": [
    "for ipk in range(len(pkprms.peaks)):\n",
    "    ret = gauss_lmfit_singlet(pkprms, ipk)\n",
    "    print(ret)"
   ],
   "metadata": {
    "collapsed": false
   }
  },
  {
   "cell_type": "code",
   "execution_count": 46,
   "outputs": [
    {
     "data": {
      "text/plain": "<lmfit.model.ModelResult at 0x1e10a283700>",
      "text/html": "<h2> Model</h2> Model(gaussian, prefix='g1_') <h2>Fit Statistics</h2><table><tr><td>fitting method</td><td>leastsq</td><td></td></tr><tr><td># function evals</td><td>45</td><td></td></tr><tr><td># data points</td><td>20</td><td></td></tr><tr><td># variables</td><td>3</td><td></td></tr><tr><td>chi-square</td><td> 167.869557</td><td></td></tr><tr><td>reduced chi-square</td><td> 9.87467984</td><td></td></tr><tr><td>Akaike info crit.</td><td> 48.5490992</td><td></td></tr><tr><td>Bayesian info crit.</td><td> 51.5362960</td><td></td></tr><tr><td>R-squared</td><td> 0.63277523</td><td></td></tr></table><h2>Variables</h2><table><tr><th> name </th><th> value </th><th> standard error </th><th> relative error </th><th> initial value </th><th> min </th><th> max </th><th> vary </th><th> expression </th></tr><tr><td> g1_amplitude </td><td>  164.766808 </td><td>  16.2794842 </td><td> (9.88%) </td><td> 163.47601797762195 </td><td>  10.0000000 </td><td>         inf </td><td> True </td><td>  </td></tr><tr><td> g1_center </td><td>  4012.13449 </td><td>  0.52497237 </td><td> (0.01%) </td><td> 4011.885129534331 </td><td>  4009.88513 </td><td>  4013.88513 </td><td> True </td><td>  </td></tr><tr><td> g1_sigma </td><td>  4.69883521 </td><td>  0.55596914 </td><td> (11.83%) </td><td> 2.7466224077416643 </td><td>  0.50000000 </td><td>  10.0000000 </td><td> True </td><td>  </td></tr><tr><td> g1_fwhm </td><td>  11.0649111 </td><td>  1.30920726 </td><td> (11.83%) </td><td> 6.467801378198226 </td><td>        -inf </td><td>         inf </td><td> False </td><td> 2.3548200*g1_sigma </td></tr><tr><td> g1_height </td><td>  13.9890944 </td><td>  1.35574322 </td><td> (9.69%) </td><td> 23.744617542990618 </td><td>        -inf </td><td>         inf </td><td> False </td><td> 0.3989423*g1_amplitude/max(1e-15, g1_sigma) </td></tr></table><h2>Correlations (unreported correlations are < 0.100)</h2><table><tr><td>g1_amplitude</td><td>g1_sigma</td><td>0.6146</td></tr></table>"
     },
     "execution_count": 46,
     "metadata": {},
     "output_type": "execute_result"
    }
   ],
   "source": [
    "ret"
   ],
   "metadata": {
    "collapsed": false
   }
  },
  {
   "cell_type": "code",
   "execution_count": 47,
   "outputs": [
    {
     "data": {
      "text/plain": "Parameters([('g1_amplitude', <Parameter 'g1_amplitude', value=164.76680808345466 +/- 16.3, bounds=[10:inf]>), ('g1_center', <Parameter 'g1_center', value=4012.13448511202 +/- 0.525, bounds=[4009.885129534331:4013.885129534331]>), ('g1_sigma', <Parameter 'g1_sigma', value=4.698835208482994 +/- 0.556, bounds=[0.5:10]>), ('g1_fwhm', <Parameter 'g1_fwhm', value=11.064911125639926 +/- 1.31, bounds=[-inf:inf], expr='2.3548200*g1_sigma'>), ('g1_height', <Parameter 'g1_height', value=13.989094416804104 +/- 1.36, bounds=[-inf:inf], expr='0.3989423*g1_amplitude/max(1e-15, g1_sigma)'>)])",
      "text/html": "<table><tr><th> name </th><th> value </th><th> standard error </th><th> relative error </th><th> initial value </th><th> min </th><th> max </th><th> vary </th><th> expression </th></tr><tr><td> g1_amplitude </td><td>  164.766808 </td><td>  16.2794842 </td><td> (9.88%) </td><td> 163.47601797762195 </td><td>  10.0000000 </td><td>         inf </td><td> True </td><td>  </td></tr><tr><td> g1_center </td><td>  4012.13449 </td><td>  0.52497237 </td><td> (0.01%) </td><td> 4011.885129534331 </td><td>  4009.88513 </td><td>  4013.88513 </td><td> True </td><td>  </td></tr><tr><td> g1_sigma </td><td>  4.69883521 </td><td>  0.55596914 </td><td> (11.83%) </td><td> 2.7466224077416643 </td><td>  0.50000000 </td><td>  10.0000000 </td><td> True </td><td>  </td></tr><tr><td> g1_fwhm </td><td>  11.0649111 </td><td>  1.30920726 </td><td> (11.83%) </td><td> 6.467801378198226 </td><td>        -inf </td><td>         inf </td><td> False </td><td> 2.3548200*g1_sigma </td></tr><tr><td> g1_height </td><td>  13.9890944 </td><td>  1.35574322 </td><td> (9.69%) </td><td> 23.744617542990618 </td><td>        -inf </td><td>         inf </td><td> False </td><td> 0.3989423*g1_amplitude/max(1e-15, g1_sigma) </td></tr></table>"
     },
     "execution_count": 47,
     "metadata": {},
     "output_type": "execute_result"
    }
   ],
   "source": [
    "ret.params"
   ],
   "metadata": {
    "collapsed": false
   }
  },
  {
   "cell_type": "code",
   "execution_count": 48,
   "outputs": [
    {
     "name": "stdout",
     "output_type": "stream",
     "text": [
      "g1_amplitude 164.76680808345466 16.27948415673123\n",
      "g1_center 4012.13448511202 0.5249723651639712\n",
      "g1_sigma 4.698835208482994 0.5559691419627769\n",
      "g1_fwhm 11.064911125639926 1.3092072550484144\n",
      "g1_height 13.989094416804104 1.3557432195252896\n"
     ]
    }
   ],
   "source": [
    "for name, param in ret.params.items():\n",
    "    print(name, param.value, param.stderr)"
   ],
   "metadata": {
    "collapsed": false
   }
  },
  {
   "cell_type": "code",
   "execution_count": 32,
   "outputs": [
    {
     "ename": "KeyError",
     "evalue": "\"None of [Index(['peaks', 'centroids', 'rough_sums'], dtype='object')] are in the [columns]\"",
     "output_type": "error",
     "traceback": [
      "\u001B[1;31m---------------------------------------------------------------------------\u001B[0m",
      "\u001B[1;31mKeyError\u001B[0m                                  Traceback (most recent call last)",
      "Cell \u001B[1;32mIn[32], line 4\u001B[0m\n\u001B[0;32m      1\u001B[0m \u001B[38;5;66;03m# 2022-Dez-28\u001B[39;00m\n\u001B[0;32m      2\u001B[0m \u001B[38;5;66;03m# Testes com conversão de pandas df .to_html\u001B[39;00m\n\u001B[0;32m      3\u001B[0m \u001B[38;5;66;03m# Teste 1: html direto\u001B[39;00m\n\u001B[1;32m----> 4\u001B[0m df_to_html \u001B[38;5;241m=\u001B[39m \u001B[43mogra\u001B[49m\u001B[38;5;241;43m.\u001B[39;49m\u001B[43ma_spec\u001B[49m\u001B[38;5;241;43m.\u001B[39;49m\u001B[43mspec_pks_df\u001B[49m\u001B[38;5;241;43m.\u001B[39;49m\u001B[43mto_html\u001B[49m\u001B[43m(\u001B[49m\u001B[43mcolumns\u001B[49m\u001B[38;5;241;43m=\u001B[39;49m\u001B[43m[\u001B[49m\u001B[38;5;124;43m'\u001B[39;49m\u001B[38;5;124;43mpeaks\u001B[39;49m\u001B[38;5;124;43m'\u001B[39;49m\u001B[43m,\u001B[49m\u001B[43m \u001B[49m\u001B[38;5;124;43m'\u001B[39;49m\u001B[38;5;124;43mcentroids\u001B[39;49m\u001B[38;5;124;43m'\u001B[39;49m\u001B[43m,\u001B[49m\u001B[43m \u001B[49m\u001B[38;5;124;43m'\u001B[39;49m\u001B[38;5;124;43mrough_sums\u001B[39;49m\u001B[38;5;124;43m'\u001B[39;49m\u001B[43m]\u001B[49m\u001B[43m)\u001B[49m\n\u001B[0;32m      5\u001B[0m df_to_html\n",
      "File \u001B[1;32m~\\PycharmProjects\\OGRaySpY\\venv\\lib\\site-packages\\pandas\\core\\frame.py:3197\u001B[0m, in \u001B[0;36mDataFrame.to_html\u001B[1;34m(self, buf, columns, col_space, header, index, na_rep, formatters, float_format, sparsify, index_names, justify, max_rows, max_cols, show_dimensions, decimal, bold_rows, classes, escape, notebook, border, table_id, render_links, encoding)\u001B[0m\n\u001B[0;32m   3194\u001B[0m \u001B[38;5;28;01mif\u001B[39;00m justify \u001B[38;5;129;01mis\u001B[39;00m \u001B[38;5;129;01mnot\u001B[39;00m \u001B[38;5;28;01mNone\u001B[39;00m \u001B[38;5;129;01mand\u001B[39;00m justify \u001B[38;5;129;01mnot\u001B[39;00m \u001B[38;5;129;01min\u001B[39;00m fmt\u001B[38;5;241m.\u001B[39m_VALID_JUSTIFY_PARAMETERS:\n\u001B[0;32m   3195\u001B[0m     \u001B[38;5;28;01mraise\u001B[39;00m \u001B[38;5;167;01mValueError\u001B[39;00m(\u001B[38;5;124m\"\u001B[39m\u001B[38;5;124mInvalid value for justify parameter\u001B[39m\u001B[38;5;124m\"\u001B[39m)\n\u001B[1;32m-> 3197\u001B[0m formatter \u001B[38;5;241m=\u001B[39m \u001B[43mfmt\u001B[49m\u001B[38;5;241;43m.\u001B[39;49m\u001B[43mDataFrameFormatter\u001B[49m\u001B[43m(\u001B[49m\n\u001B[0;32m   3198\u001B[0m \u001B[43m    \u001B[49m\u001B[38;5;28;43mself\u001B[39;49m\u001B[43m,\u001B[49m\n\u001B[0;32m   3199\u001B[0m \u001B[43m    \u001B[49m\u001B[43mcolumns\u001B[49m\u001B[38;5;241;43m=\u001B[39;49m\u001B[43mcolumns\u001B[49m\u001B[43m,\u001B[49m\n\u001B[0;32m   3200\u001B[0m \u001B[43m    \u001B[49m\u001B[43mcol_space\u001B[49m\u001B[38;5;241;43m=\u001B[39;49m\u001B[43mcol_space\u001B[49m\u001B[43m,\u001B[49m\n\u001B[0;32m   3201\u001B[0m \u001B[43m    \u001B[49m\u001B[43mna_rep\u001B[49m\u001B[38;5;241;43m=\u001B[39;49m\u001B[43mna_rep\u001B[49m\u001B[43m,\u001B[49m\n\u001B[0;32m   3202\u001B[0m \u001B[43m    \u001B[49m\u001B[43mheader\u001B[49m\u001B[38;5;241;43m=\u001B[39;49m\u001B[43mheader\u001B[49m\u001B[43m,\u001B[49m\n\u001B[0;32m   3203\u001B[0m \u001B[43m    \u001B[49m\u001B[43mindex\u001B[49m\u001B[38;5;241;43m=\u001B[39;49m\u001B[43mindex\u001B[49m\u001B[43m,\u001B[49m\n\u001B[0;32m   3204\u001B[0m \u001B[43m    \u001B[49m\u001B[43mformatters\u001B[49m\u001B[38;5;241;43m=\u001B[39;49m\u001B[43mformatters\u001B[49m\u001B[43m,\u001B[49m\n\u001B[0;32m   3205\u001B[0m \u001B[43m    \u001B[49m\u001B[43mfloat_format\u001B[49m\u001B[38;5;241;43m=\u001B[39;49m\u001B[43mfloat_format\u001B[49m\u001B[43m,\u001B[49m\n\u001B[0;32m   3206\u001B[0m \u001B[43m    \u001B[49m\u001B[43mbold_rows\u001B[49m\u001B[38;5;241;43m=\u001B[39;49m\u001B[43mbold_rows\u001B[49m\u001B[43m,\u001B[49m\n\u001B[0;32m   3207\u001B[0m \u001B[43m    \u001B[49m\u001B[43msparsify\u001B[49m\u001B[38;5;241;43m=\u001B[39;49m\u001B[43msparsify\u001B[49m\u001B[43m,\u001B[49m\n\u001B[0;32m   3208\u001B[0m \u001B[43m    \u001B[49m\u001B[43mjustify\u001B[49m\u001B[38;5;241;43m=\u001B[39;49m\u001B[43mjustify\u001B[49m\u001B[43m,\u001B[49m\n\u001B[0;32m   3209\u001B[0m \u001B[43m    \u001B[49m\u001B[43mindex_names\u001B[49m\u001B[38;5;241;43m=\u001B[39;49m\u001B[43mindex_names\u001B[49m\u001B[43m,\u001B[49m\n\u001B[0;32m   3210\u001B[0m \u001B[43m    \u001B[49m\u001B[43mescape\u001B[49m\u001B[38;5;241;43m=\u001B[39;49m\u001B[43mescape\u001B[49m\u001B[43m,\u001B[49m\n\u001B[0;32m   3211\u001B[0m \u001B[43m    \u001B[49m\u001B[43mdecimal\u001B[49m\u001B[38;5;241;43m=\u001B[39;49m\u001B[43mdecimal\u001B[49m\u001B[43m,\u001B[49m\n\u001B[0;32m   3212\u001B[0m \u001B[43m    \u001B[49m\u001B[43mmax_rows\u001B[49m\u001B[38;5;241;43m=\u001B[39;49m\u001B[43mmax_rows\u001B[49m\u001B[43m,\u001B[49m\n\u001B[0;32m   3213\u001B[0m \u001B[43m    \u001B[49m\u001B[43mmax_cols\u001B[49m\u001B[38;5;241;43m=\u001B[39;49m\u001B[43mmax_cols\u001B[49m\u001B[43m,\u001B[49m\n\u001B[0;32m   3214\u001B[0m \u001B[43m    \u001B[49m\u001B[43mshow_dimensions\u001B[49m\u001B[38;5;241;43m=\u001B[39;49m\u001B[43mshow_dimensions\u001B[49m\u001B[43m,\u001B[49m\n\u001B[0;32m   3215\u001B[0m \u001B[43m\u001B[49m\u001B[43m)\u001B[49m\n\u001B[0;32m   3216\u001B[0m \u001B[38;5;66;03m# TODO: a generic formatter wld b in DataFrameFormatter\u001B[39;00m\n\u001B[0;32m   3217\u001B[0m \u001B[38;5;28;01mreturn\u001B[39;00m fmt\u001B[38;5;241m.\u001B[39mDataFrameRenderer(formatter)\u001B[38;5;241m.\u001B[39mto_html(\n\u001B[0;32m   3218\u001B[0m     buf\u001B[38;5;241m=\u001B[39mbuf,\n\u001B[0;32m   3219\u001B[0m     classes\u001B[38;5;241m=\u001B[39mclasses,\n\u001B[1;32m   (...)\u001B[0m\n\u001B[0;32m   3224\u001B[0m     render_links\u001B[38;5;241m=\u001B[39mrender_links,\n\u001B[0;32m   3225\u001B[0m )\n",
      "File \u001B[1;32m~\\PycharmProjects\\OGRaySpY\\venv\\lib\\site-packages\\pandas\\io\\formats\\format.py:588\u001B[0m, in \u001B[0;36mDataFrameFormatter.__init__\u001B[1;34m(self, frame, columns, col_space, header, index, na_rep, formatters, justify, float_format, sparsify, index_names, max_rows, min_rows, max_cols, show_dimensions, decimal, bold_rows, escape)\u001B[0m\n\u001B[0;32m    566\u001B[0m \u001B[38;5;28;01mdef\u001B[39;00m \u001B[38;5;21m__init__\u001B[39m(\n\u001B[0;32m    567\u001B[0m     \u001B[38;5;28mself\u001B[39m,\n\u001B[0;32m    568\u001B[0m     frame: DataFrame,\n\u001B[1;32m   (...)\u001B[0m\n\u001B[0;32m    585\u001B[0m     escape: \u001B[38;5;28mbool\u001B[39m \u001B[38;5;241m=\u001B[39m \u001B[38;5;28;01mTrue\u001B[39;00m,\n\u001B[0;32m    586\u001B[0m ) \u001B[38;5;241m-\u001B[39m\u001B[38;5;241m>\u001B[39m \u001B[38;5;28;01mNone\u001B[39;00m:\n\u001B[0;32m    587\u001B[0m     \u001B[38;5;28mself\u001B[39m\u001B[38;5;241m.\u001B[39mframe \u001B[38;5;241m=\u001B[39m frame\n\u001B[1;32m--> 588\u001B[0m     \u001B[38;5;28mself\u001B[39m\u001B[38;5;241m.\u001B[39mcolumns \u001B[38;5;241m=\u001B[39m \u001B[38;5;28;43mself\u001B[39;49m\u001B[38;5;241;43m.\u001B[39;49m\u001B[43m_initialize_columns\u001B[49m\u001B[43m(\u001B[49m\u001B[43mcolumns\u001B[49m\u001B[43m)\u001B[49m\n\u001B[0;32m    589\u001B[0m     \u001B[38;5;28mself\u001B[39m\u001B[38;5;241m.\u001B[39mcol_space \u001B[38;5;241m=\u001B[39m \u001B[38;5;28mself\u001B[39m\u001B[38;5;241m.\u001B[39m_initialize_colspace(col_space)\n\u001B[0;32m    590\u001B[0m     \u001B[38;5;28mself\u001B[39m\u001B[38;5;241m.\u001B[39mheader \u001B[38;5;241m=\u001B[39m header\n",
      "File \u001B[1;32m~\\PycharmProjects\\OGRaySpY\\venv\\lib\\site-packages\\pandas\\io\\formats\\format.py:696\u001B[0m, in \u001B[0;36mDataFrameFormatter._initialize_columns\u001B[1;34m(self, columns)\u001B[0m\n\u001B[0;32m    692\u001B[0m \u001B[38;5;28;01mif\u001B[39;00m columns \u001B[38;5;129;01mis\u001B[39;00m \u001B[38;5;129;01mnot\u001B[39;00m \u001B[38;5;28;01mNone\u001B[39;00m:\n\u001B[0;32m    693\u001B[0m     \u001B[38;5;66;03m# GH 47231 - columns doesn't have to be `Sequence[str]`\u001B[39;00m\n\u001B[0;32m    694\u001B[0m     \u001B[38;5;66;03m# Will fix in later PR\u001B[39;00m\n\u001B[0;32m    695\u001B[0m     cols \u001B[38;5;241m=\u001B[39m ensure_index(cast(Axes, columns))\n\u001B[1;32m--> 696\u001B[0m     \u001B[38;5;28mself\u001B[39m\u001B[38;5;241m.\u001B[39mframe \u001B[38;5;241m=\u001B[39m \u001B[38;5;28;43mself\u001B[39;49m\u001B[38;5;241;43m.\u001B[39;49m\u001B[43mframe\u001B[49m\u001B[43m[\u001B[49m\u001B[43mcols\u001B[49m\u001B[43m]\u001B[49m\n\u001B[0;32m    697\u001B[0m     \u001B[38;5;28;01mreturn\u001B[39;00m cols\n\u001B[0;32m    698\u001B[0m \u001B[38;5;28;01melse\u001B[39;00m:\n",
      "File \u001B[1;32m~\\PycharmProjects\\OGRaySpY\\venv\\lib\\site-packages\\pandas\\core\\frame.py:3811\u001B[0m, in \u001B[0;36mDataFrame.__getitem__\u001B[1;34m(self, key)\u001B[0m\n\u001B[0;32m   3809\u001B[0m     \u001B[38;5;28;01mif\u001B[39;00m is_iterator(key):\n\u001B[0;32m   3810\u001B[0m         key \u001B[38;5;241m=\u001B[39m \u001B[38;5;28mlist\u001B[39m(key)\n\u001B[1;32m-> 3811\u001B[0m     indexer \u001B[38;5;241m=\u001B[39m \u001B[38;5;28;43mself\u001B[39;49m\u001B[38;5;241;43m.\u001B[39;49m\u001B[43mcolumns\u001B[49m\u001B[38;5;241;43m.\u001B[39;49m\u001B[43m_get_indexer_strict\u001B[49m\u001B[43m(\u001B[49m\u001B[43mkey\u001B[49m\u001B[43m,\u001B[49m\u001B[43m \u001B[49m\u001B[38;5;124;43m\"\u001B[39;49m\u001B[38;5;124;43mcolumns\u001B[39;49m\u001B[38;5;124;43m\"\u001B[39;49m\u001B[43m)\u001B[49m[\u001B[38;5;241m1\u001B[39m]\n\u001B[0;32m   3813\u001B[0m \u001B[38;5;66;03m# take() does not accept boolean indexers\u001B[39;00m\n\u001B[0;32m   3814\u001B[0m \u001B[38;5;28;01mif\u001B[39;00m \u001B[38;5;28mgetattr\u001B[39m(indexer, \u001B[38;5;124m\"\u001B[39m\u001B[38;5;124mdtype\u001B[39m\u001B[38;5;124m\"\u001B[39m, \u001B[38;5;28;01mNone\u001B[39;00m) \u001B[38;5;241m==\u001B[39m \u001B[38;5;28mbool\u001B[39m:\n",
      "File \u001B[1;32m~\\PycharmProjects\\OGRaySpY\\venv\\lib\\site-packages\\pandas\\core\\indexes\\base.py:6113\u001B[0m, in \u001B[0;36mIndex._get_indexer_strict\u001B[1;34m(self, key, axis_name)\u001B[0m\n\u001B[0;32m   6110\u001B[0m \u001B[38;5;28;01melse\u001B[39;00m:\n\u001B[0;32m   6111\u001B[0m     keyarr, indexer, new_indexer \u001B[38;5;241m=\u001B[39m \u001B[38;5;28mself\u001B[39m\u001B[38;5;241m.\u001B[39m_reindex_non_unique(keyarr)\n\u001B[1;32m-> 6113\u001B[0m \u001B[38;5;28;43mself\u001B[39;49m\u001B[38;5;241;43m.\u001B[39;49m\u001B[43m_raise_if_missing\u001B[49m\u001B[43m(\u001B[49m\u001B[43mkeyarr\u001B[49m\u001B[43m,\u001B[49m\u001B[43m \u001B[49m\u001B[43mindexer\u001B[49m\u001B[43m,\u001B[49m\u001B[43m \u001B[49m\u001B[43maxis_name\u001B[49m\u001B[43m)\u001B[49m\n\u001B[0;32m   6115\u001B[0m keyarr \u001B[38;5;241m=\u001B[39m \u001B[38;5;28mself\u001B[39m\u001B[38;5;241m.\u001B[39mtake(indexer)\n\u001B[0;32m   6116\u001B[0m \u001B[38;5;28;01mif\u001B[39;00m \u001B[38;5;28misinstance\u001B[39m(key, Index):\n\u001B[0;32m   6117\u001B[0m     \u001B[38;5;66;03m# GH 42790 - Preserve name from an Index\u001B[39;00m\n",
      "File \u001B[1;32m~\\PycharmProjects\\OGRaySpY\\venv\\lib\\site-packages\\pandas\\core\\indexes\\base.py:6173\u001B[0m, in \u001B[0;36mIndex._raise_if_missing\u001B[1;34m(self, key, indexer, axis_name)\u001B[0m\n\u001B[0;32m   6171\u001B[0m     \u001B[38;5;28;01mif\u001B[39;00m use_interval_msg:\n\u001B[0;32m   6172\u001B[0m         key \u001B[38;5;241m=\u001B[39m \u001B[38;5;28mlist\u001B[39m(key)\n\u001B[1;32m-> 6173\u001B[0m     \u001B[38;5;28;01mraise\u001B[39;00m \u001B[38;5;167;01mKeyError\u001B[39;00m(\u001B[38;5;124mf\u001B[39m\u001B[38;5;124m\"\u001B[39m\u001B[38;5;124mNone of [\u001B[39m\u001B[38;5;132;01m{\u001B[39;00mkey\u001B[38;5;132;01m}\u001B[39;00m\u001B[38;5;124m] are in the [\u001B[39m\u001B[38;5;132;01m{\u001B[39;00maxis_name\u001B[38;5;132;01m}\u001B[39;00m\u001B[38;5;124m]\u001B[39m\u001B[38;5;124m\"\u001B[39m)\n\u001B[0;32m   6175\u001B[0m not_found \u001B[38;5;241m=\u001B[39m \u001B[38;5;28mlist\u001B[39m(ensure_index(key)[missing_mask\u001B[38;5;241m.\u001B[39mnonzero()[\u001B[38;5;241m0\u001B[39m]]\u001B[38;5;241m.\u001B[39munique())\n\u001B[0;32m   6176\u001B[0m \u001B[38;5;28;01mraise\u001B[39;00m \u001B[38;5;167;01mKeyError\u001B[39;00m(\u001B[38;5;124mf\u001B[39m\u001B[38;5;124m\"\u001B[39m\u001B[38;5;132;01m{\u001B[39;00mnot_found\u001B[38;5;132;01m}\u001B[39;00m\u001B[38;5;124m not in index\u001B[39m\u001B[38;5;124m\"\u001B[39m)\n",
      "\u001B[1;31mKeyError\u001B[0m: \"None of [Index(['peaks', 'centroids', 'rough_sums'], dtype='object')] are in the [columns]\""
     ]
    }
   ],
   "source": [
    "for ipk in range(len(pkprms.peaks)):\n",
    "    ret = gauss_lmfit_singlet(pkprms, ipk)\n",
    "    # ret.params.pretty_print()"
   ],
   "metadata": {
    "collapsed": false
   }
  },
  {
   "cell_type": "code",
   "execution_count": 33,
   "outputs": [
    {
     "ename": "KeyError",
     "evalue": "\"None of [Index(['peaks', 'centroids', 'rough_sums'], dtype='object')] are in the [columns]\"",
     "output_type": "error",
     "traceback": [
      "\u001B[1;31m---------------------------------------------------------------------------\u001B[0m",
      "\u001B[1;31mKeyError\u001B[0m                                  Traceback (most recent call last)",
      "Cell \u001B[1;32mIn[33], line 4\u001B[0m\n\u001B[0;32m      1\u001B[0m \u001B[38;5;66;03m# 2022-Dez-28\u001B[39;00m\n\u001B[0;32m      2\u001B[0m \u001B[38;5;66;03m# Testes com conversão de pandas df .to_html\u001B[39;00m\n\u001B[0;32m      3\u001B[0m \u001B[38;5;66;03m# Teste 2: aplicando tags html:\u001B[39;00m\n\u001B[1;32m----> 4\u001B[0m df_to_html \u001B[38;5;241m=\u001B[39m \u001B[43mogra\u001B[49m\u001B[38;5;241;43m.\u001B[39;49m\u001B[43ma_spec\u001B[49m\u001B[38;5;241;43m.\u001B[39;49m\u001B[43mspec_pks_df\u001B[49m\u001B[38;5;241;43m.\u001B[39;49m\u001B[43mto_html\u001B[49m\u001B[43m(\u001B[49m\n\u001B[0;32m      5\u001B[0m \u001B[43m    \u001B[49m\u001B[43mcolumns\u001B[49m\u001B[38;5;241;43m=\u001B[39;49m\u001B[43m[\u001B[49m\u001B[38;5;124;43m'\u001B[39;49m\u001B[38;5;124;43mpeaks\u001B[39;49m\u001B[38;5;124;43m'\u001B[39;49m\u001B[43m,\u001B[49m\u001B[43m \u001B[49m\u001B[38;5;124;43m'\u001B[39;49m\u001B[38;5;124;43mcentroids\u001B[39;49m\u001B[38;5;124;43m'\u001B[39;49m\u001B[43m,\u001B[49m\u001B[43m \u001B[49m\u001B[38;5;124;43m'\u001B[39;49m\u001B[38;5;124;43mrough_sums\u001B[39;49m\u001B[38;5;124;43m'\u001B[39;49m\u001B[43m]\u001B[49m\u001B[43m,\u001B[49m\n\u001B[0;32m      6\u001B[0m \u001B[43m    \u001B[49m\u001B[43mformatters\u001B[49m\u001B[38;5;241;43m=\u001B[39;49m\u001B[43m{\u001B[49m\n\u001B[0;32m      7\u001B[0m \u001B[43m        \u001B[49m\u001B[38;5;124;43m'\u001B[39;49m\u001B[38;5;124;43mpeaks\u001B[39;49m\u001B[38;5;124;43m'\u001B[39;49m\u001B[43m:\u001B[49m\u001B[43m \u001B[49m\u001B[38;5;28;43;01mlambda\u001B[39;49;00m\u001B[43m \u001B[49m\u001B[43mx\u001B[49m\u001B[43m:\u001B[49m\u001B[43m \u001B[49m\u001B[38;5;124;43m'\u001B[39;49m\u001B[38;5;124;43m<b>\u001B[39;49m\u001B[38;5;124;43m'\u001B[39;49m\u001B[43m \u001B[49m\u001B[38;5;241;43m+\u001B[39;49m\u001B[43m \u001B[49m\u001B[38;5;28;43mstr\u001B[39;49m\u001B[43m(\u001B[49m\u001B[43mx\u001B[49m\u001B[43m)\u001B[49m\u001B[43m \u001B[49m\u001B[38;5;241;43m+\u001B[39;49m\u001B[43m \u001B[49m\u001B[38;5;124;43m'\u001B[39;49m\u001B[38;5;124;43m</b>\u001B[39;49m\u001B[38;5;124;43m'\u001B[39;49m\u001B[43m,\u001B[49m\n\u001B[0;32m      8\u001B[0m \u001B[43m        \u001B[49m\u001B[38;5;124;43m'\u001B[39;49m\u001B[38;5;124;43mrough_sums\u001B[39;49m\u001B[38;5;124;43m'\u001B[39;49m\u001B[43m:\u001B[49m\u001B[43m \u001B[49m\u001B[38;5;28;43;01mlambda\u001B[39;49;00m\u001B[43m \u001B[49m\u001B[43mx\u001B[49m\u001B[43m:\u001B[49m\u001B[43m \u001B[49m\u001B[38;5;124;43m'\u001B[39;49m\u001B[38;5;124;43m<i>\u001B[39;49m\u001B[38;5;124;43m'\u001B[39;49m\u001B[43m \u001B[49m\u001B[38;5;241;43m+\u001B[39;49m\u001B[43m \u001B[49m\u001B[38;5;28;43mstr\u001B[39;49m\u001B[43m(\u001B[49m\u001B[43mx\u001B[49m\u001B[43m)\u001B[49m\u001B[43m \u001B[49m\u001B[38;5;241;43m+\u001B[39;49m\u001B[43m \u001B[49m\u001B[38;5;124;43m'\u001B[39;49m\u001B[38;5;124;43m</i>\u001B[39;49m\u001B[38;5;124;43m'\u001B[39;49m\u001B[43m}\u001B[49m\n\u001B[0;32m      9\u001B[0m \u001B[43m)\u001B[49m\n\u001B[0;32m     10\u001B[0m df_to_html\n\u001B[0;32m     11\u001B[0m \u001B[38;5;28;01mimport\u001B[39;00m \u001B[38;5;21;01mIPython\u001B[39;00m\n",
      "File \u001B[1;32m~\\PycharmProjects\\OGRaySpY\\venv\\lib\\site-packages\\pandas\\core\\frame.py:3197\u001B[0m, in \u001B[0;36mDataFrame.to_html\u001B[1;34m(self, buf, columns, col_space, header, index, na_rep, formatters, float_format, sparsify, index_names, justify, max_rows, max_cols, show_dimensions, decimal, bold_rows, classes, escape, notebook, border, table_id, render_links, encoding)\u001B[0m\n\u001B[0;32m   3194\u001B[0m \u001B[38;5;28;01mif\u001B[39;00m justify \u001B[38;5;129;01mis\u001B[39;00m \u001B[38;5;129;01mnot\u001B[39;00m \u001B[38;5;28;01mNone\u001B[39;00m \u001B[38;5;129;01mand\u001B[39;00m justify \u001B[38;5;129;01mnot\u001B[39;00m \u001B[38;5;129;01min\u001B[39;00m fmt\u001B[38;5;241m.\u001B[39m_VALID_JUSTIFY_PARAMETERS:\n\u001B[0;32m   3195\u001B[0m     \u001B[38;5;28;01mraise\u001B[39;00m \u001B[38;5;167;01mValueError\u001B[39;00m(\u001B[38;5;124m\"\u001B[39m\u001B[38;5;124mInvalid value for justify parameter\u001B[39m\u001B[38;5;124m\"\u001B[39m)\n\u001B[1;32m-> 3197\u001B[0m formatter \u001B[38;5;241m=\u001B[39m \u001B[43mfmt\u001B[49m\u001B[38;5;241;43m.\u001B[39;49m\u001B[43mDataFrameFormatter\u001B[49m\u001B[43m(\u001B[49m\n\u001B[0;32m   3198\u001B[0m \u001B[43m    \u001B[49m\u001B[38;5;28;43mself\u001B[39;49m\u001B[43m,\u001B[49m\n\u001B[0;32m   3199\u001B[0m \u001B[43m    \u001B[49m\u001B[43mcolumns\u001B[49m\u001B[38;5;241;43m=\u001B[39;49m\u001B[43mcolumns\u001B[49m\u001B[43m,\u001B[49m\n\u001B[0;32m   3200\u001B[0m \u001B[43m    \u001B[49m\u001B[43mcol_space\u001B[49m\u001B[38;5;241;43m=\u001B[39;49m\u001B[43mcol_space\u001B[49m\u001B[43m,\u001B[49m\n\u001B[0;32m   3201\u001B[0m \u001B[43m    \u001B[49m\u001B[43mna_rep\u001B[49m\u001B[38;5;241;43m=\u001B[39;49m\u001B[43mna_rep\u001B[49m\u001B[43m,\u001B[49m\n\u001B[0;32m   3202\u001B[0m \u001B[43m    \u001B[49m\u001B[43mheader\u001B[49m\u001B[38;5;241;43m=\u001B[39;49m\u001B[43mheader\u001B[49m\u001B[43m,\u001B[49m\n\u001B[0;32m   3203\u001B[0m \u001B[43m    \u001B[49m\u001B[43mindex\u001B[49m\u001B[38;5;241;43m=\u001B[39;49m\u001B[43mindex\u001B[49m\u001B[43m,\u001B[49m\n\u001B[0;32m   3204\u001B[0m \u001B[43m    \u001B[49m\u001B[43mformatters\u001B[49m\u001B[38;5;241;43m=\u001B[39;49m\u001B[43mformatters\u001B[49m\u001B[43m,\u001B[49m\n\u001B[0;32m   3205\u001B[0m \u001B[43m    \u001B[49m\u001B[43mfloat_format\u001B[49m\u001B[38;5;241;43m=\u001B[39;49m\u001B[43mfloat_format\u001B[49m\u001B[43m,\u001B[49m\n\u001B[0;32m   3206\u001B[0m \u001B[43m    \u001B[49m\u001B[43mbold_rows\u001B[49m\u001B[38;5;241;43m=\u001B[39;49m\u001B[43mbold_rows\u001B[49m\u001B[43m,\u001B[49m\n\u001B[0;32m   3207\u001B[0m \u001B[43m    \u001B[49m\u001B[43msparsify\u001B[49m\u001B[38;5;241;43m=\u001B[39;49m\u001B[43msparsify\u001B[49m\u001B[43m,\u001B[49m\n\u001B[0;32m   3208\u001B[0m \u001B[43m    \u001B[49m\u001B[43mjustify\u001B[49m\u001B[38;5;241;43m=\u001B[39;49m\u001B[43mjustify\u001B[49m\u001B[43m,\u001B[49m\n\u001B[0;32m   3209\u001B[0m \u001B[43m    \u001B[49m\u001B[43mindex_names\u001B[49m\u001B[38;5;241;43m=\u001B[39;49m\u001B[43mindex_names\u001B[49m\u001B[43m,\u001B[49m\n\u001B[0;32m   3210\u001B[0m \u001B[43m    \u001B[49m\u001B[43mescape\u001B[49m\u001B[38;5;241;43m=\u001B[39;49m\u001B[43mescape\u001B[49m\u001B[43m,\u001B[49m\n\u001B[0;32m   3211\u001B[0m \u001B[43m    \u001B[49m\u001B[43mdecimal\u001B[49m\u001B[38;5;241;43m=\u001B[39;49m\u001B[43mdecimal\u001B[49m\u001B[43m,\u001B[49m\n\u001B[0;32m   3212\u001B[0m \u001B[43m    \u001B[49m\u001B[43mmax_rows\u001B[49m\u001B[38;5;241;43m=\u001B[39;49m\u001B[43mmax_rows\u001B[49m\u001B[43m,\u001B[49m\n\u001B[0;32m   3213\u001B[0m \u001B[43m    \u001B[49m\u001B[43mmax_cols\u001B[49m\u001B[38;5;241;43m=\u001B[39;49m\u001B[43mmax_cols\u001B[49m\u001B[43m,\u001B[49m\n\u001B[0;32m   3214\u001B[0m \u001B[43m    \u001B[49m\u001B[43mshow_dimensions\u001B[49m\u001B[38;5;241;43m=\u001B[39;49m\u001B[43mshow_dimensions\u001B[49m\u001B[43m,\u001B[49m\n\u001B[0;32m   3215\u001B[0m \u001B[43m\u001B[49m\u001B[43m)\u001B[49m\n\u001B[0;32m   3216\u001B[0m \u001B[38;5;66;03m# TODO: a generic formatter wld b in DataFrameFormatter\u001B[39;00m\n\u001B[0;32m   3217\u001B[0m \u001B[38;5;28;01mreturn\u001B[39;00m fmt\u001B[38;5;241m.\u001B[39mDataFrameRenderer(formatter)\u001B[38;5;241m.\u001B[39mto_html(\n\u001B[0;32m   3218\u001B[0m     buf\u001B[38;5;241m=\u001B[39mbuf,\n\u001B[0;32m   3219\u001B[0m     classes\u001B[38;5;241m=\u001B[39mclasses,\n\u001B[1;32m   (...)\u001B[0m\n\u001B[0;32m   3224\u001B[0m     render_links\u001B[38;5;241m=\u001B[39mrender_links,\n\u001B[0;32m   3225\u001B[0m )\n",
      "File \u001B[1;32m~\\PycharmProjects\\OGRaySpY\\venv\\lib\\site-packages\\pandas\\io\\formats\\format.py:588\u001B[0m, in \u001B[0;36mDataFrameFormatter.__init__\u001B[1;34m(self, frame, columns, col_space, header, index, na_rep, formatters, justify, float_format, sparsify, index_names, max_rows, min_rows, max_cols, show_dimensions, decimal, bold_rows, escape)\u001B[0m\n\u001B[0;32m    566\u001B[0m \u001B[38;5;28;01mdef\u001B[39;00m \u001B[38;5;21m__init__\u001B[39m(\n\u001B[0;32m    567\u001B[0m     \u001B[38;5;28mself\u001B[39m,\n\u001B[0;32m    568\u001B[0m     frame: DataFrame,\n\u001B[1;32m   (...)\u001B[0m\n\u001B[0;32m    585\u001B[0m     escape: \u001B[38;5;28mbool\u001B[39m \u001B[38;5;241m=\u001B[39m \u001B[38;5;28;01mTrue\u001B[39;00m,\n\u001B[0;32m    586\u001B[0m ) \u001B[38;5;241m-\u001B[39m\u001B[38;5;241m>\u001B[39m \u001B[38;5;28;01mNone\u001B[39;00m:\n\u001B[0;32m    587\u001B[0m     \u001B[38;5;28mself\u001B[39m\u001B[38;5;241m.\u001B[39mframe \u001B[38;5;241m=\u001B[39m frame\n\u001B[1;32m--> 588\u001B[0m     \u001B[38;5;28mself\u001B[39m\u001B[38;5;241m.\u001B[39mcolumns \u001B[38;5;241m=\u001B[39m \u001B[38;5;28;43mself\u001B[39;49m\u001B[38;5;241;43m.\u001B[39;49m\u001B[43m_initialize_columns\u001B[49m\u001B[43m(\u001B[49m\u001B[43mcolumns\u001B[49m\u001B[43m)\u001B[49m\n\u001B[0;32m    589\u001B[0m     \u001B[38;5;28mself\u001B[39m\u001B[38;5;241m.\u001B[39mcol_space \u001B[38;5;241m=\u001B[39m \u001B[38;5;28mself\u001B[39m\u001B[38;5;241m.\u001B[39m_initialize_colspace(col_space)\n\u001B[0;32m    590\u001B[0m     \u001B[38;5;28mself\u001B[39m\u001B[38;5;241m.\u001B[39mheader \u001B[38;5;241m=\u001B[39m header\n",
      "File \u001B[1;32m~\\PycharmProjects\\OGRaySpY\\venv\\lib\\site-packages\\pandas\\io\\formats\\format.py:696\u001B[0m, in \u001B[0;36mDataFrameFormatter._initialize_columns\u001B[1;34m(self, columns)\u001B[0m\n\u001B[0;32m    692\u001B[0m \u001B[38;5;28;01mif\u001B[39;00m columns \u001B[38;5;129;01mis\u001B[39;00m \u001B[38;5;129;01mnot\u001B[39;00m \u001B[38;5;28;01mNone\u001B[39;00m:\n\u001B[0;32m    693\u001B[0m     \u001B[38;5;66;03m# GH 47231 - columns doesn't have to be `Sequence[str]`\u001B[39;00m\n\u001B[0;32m    694\u001B[0m     \u001B[38;5;66;03m# Will fix in later PR\u001B[39;00m\n\u001B[0;32m    695\u001B[0m     cols \u001B[38;5;241m=\u001B[39m ensure_index(cast(Axes, columns))\n\u001B[1;32m--> 696\u001B[0m     \u001B[38;5;28mself\u001B[39m\u001B[38;5;241m.\u001B[39mframe \u001B[38;5;241m=\u001B[39m \u001B[38;5;28;43mself\u001B[39;49m\u001B[38;5;241;43m.\u001B[39;49m\u001B[43mframe\u001B[49m\u001B[43m[\u001B[49m\u001B[43mcols\u001B[49m\u001B[43m]\u001B[49m\n\u001B[0;32m    697\u001B[0m     \u001B[38;5;28;01mreturn\u001B[39;00m cols\n\u001B[0;32m    698\u001B[0m \u001B[38;5;28;01melse\u001B[39;00m:\n",
      "File \u001B[1;32m~\\PycharmProjects\\OGRaySpY\\venv\\lib\\site-packages\\pandas\\core\\frame.py:3811\u001B[0m, in \u001B[0;36mDataFrame.__getitem__\u001B[1;34m(self, key)\u001B[0m\n\u001B[0;32m   3809\u001B[0m     \u001B[38;5;28;01mif\u001B[39;00m is_iterator(key):\n\u001B[0;32m   3810\u001B[0m         key \u001B[38;5;241m=\u001B[39m \u001B[38;5;28mlist\u001B[39m(key)\n\u001B[1;32m-> 3811\u001B[0m     indexer \u001B[38;5;241m=\u001B[39m \u001B[38;5;28;43mself\u001B[39;49m\u001B[38;5;241;43m.\u001B[39;49m\u001B[43mcolumns\u001B[49m\u001B[38;5;241;43m.\u001B[39;49m\u001B[43m_get_indexer_strict\u001B[49m\u001B[43m(\u001B[49m\u001B[43mkey\u001B[49m\u001B[43m,\u001B[49m\u001B[43m \u001B[49m\u001B[38;5;124;43m\"\u001B[39;49m\u001B[38;5;124;43mcolumns\u001B[39;49m\u001B[38;5;124;43m\"\u001B[39;49m\u001B[43m)\u001B[49m[\u001B[38;5;241m1\u001B[39m]\n\u001B[0;32m   3813\u001B[0m \u001B[38;5;66;03m# take() does not accept boolean indexers\u001B[39;00m\n\u001B[0;32m   3814\u001B[0m \u001B[38;5;28;01mif\u001B[39;00m \u001B[38;5;28mgetattr\u001B[39m(indexer, \u001B[38;5;124m\"\u001B[39m\u001B[38;5;124mdtype\u001B[39m\u001B[38;5;124m\"\u001B[39m, \u001B[38;5;28;01mNone\u001B[39;00m) \u001B[38;5;241m==\u001B[39m \u001B[38;5;28mbool\u001B[39m:\n",
      "File \u001B[1;32m~\\PycharmProjects\\OGRaySpY\\venv\\lib\\site-packages\\pandas\\core\\indexes\\base.py:6113\u001B[0m, in \u001B[0;36mIndex._get_indexer_strict\u001B[1;34m(self, key, axis_name)\u001B[0m\n\u001B[0;32m   6110\u001B[0m \u001B[38;5;28;01melse\u001B[39;00m:\n\u001B[0;32m   6111\u001B[0m     keyarr, indexer, new_indexer \u001B[38;5;241m=\u001B[39m \u001B[38;5;28mself\u001B[39m\u001B[38;5;241m.\u001B[39m_reindex_non_unique(keyarr)\n\u001B[1;32m-> 6113\u001B[0m \u001B[38;5;28;43mself\u001B[39;49m\u001B[38;5;241;43m.\u001B[39;49m\u001B[43m_raise_if_missing\u001B[49m\u001B[43m(\u001B[49m\u001B[43mkeyarr\u001B[49m\u001B[43m,\u001B[49m\u001B[43m \u001B[49m\u001B[43mindexer\u001B[49m\u001B[43m,\u001B[49m\u001B[43m \u001B[49m\u001B[43maxis_name\u001B[49m\u001B[43m)\u001B[49m\n\u001B[0;32m   6115\u001B[0m keyarr \u001B[38;5;241m=\u001B[39m \u001B[38;5;28mself\u001B[39m\u001B[38;5;241m.\u001B[39mtake(indexer)\n\u001B[0;32m   6116\u001B[0m \u001B[38;5;28;01mif\u001B[39;00m \u001B[38;5;28misinstance\u001B[39m(key, Index):\n\u001B[0;32m   6117\u001B[0m     \u001B[38;5;66;03m# GH 42790 - Preserve name from an Index\u001B[39;00m\n",
      "File \u001B[1;32m~\\PycharmProjects\\OGRaySpY\\venv\\lib\\site-packages\\pandas\\core\\indexes\\base.py:6173\u001B[0m, in \u001B[0;36mIndex._raise_if_missing\u001B[1;34m(self, key, indexer, axis_name)\u001B[0m\n\u001B[0;32m   6171\u001B[0m     \u001B[38;5;28;01mif\u001B[39;00m use_interval_msg:\n\u001B[0;32m   6172\u001B[0m         key \u001B[38;5;241m=\u001B[39m \u001B[38;5;28mlist\u001B[39m(key)\n\u001B[1;32m-> 6173\u001B[0m     \u001B[38;5;28;01mraise\u001B[39;00m \u001B[38;5;167;01mKeyError\u001B[39;00m(\u001B[38;5;124mf\u001B[39m\u001B[38;5;124m\"\u001B[39m\u001B[38;5;124mNone of [\u001B[39m\u001B[38;5;132;01m{\u001B[39;00mkey\u001B[38;5;132;01m}\u001B[39;00m\u001B[38;5;124m] are in the [\u001B[39m\u001B[38;5;132;01m{\u001B[39;00maxis_name\u001B[38;5;132;01m}\u001B[39;00m\u001B[38;5;124m]\u001B[39m\u001B[38;5;124m\"\u001B[39m)\n\u001B[0;32m   6175\u001B[0m not_found \u001B[38;5;241m=\u001B[39m \u001B[38;5;28mlist\u001B[39m(ensure_index(key)[missing_mask\u001B[38;5;241m.\u001B[39mnonzero()[\u001B[38;5;241m0\u001B[39m]]\u001B[38;5;241m.\u001B[39munique())\n\u001B[0;32m   6176\u001B[0m \u001B[38;5;28;01mraise\u001B[39;00m \u001B[38;5;167;01mKeyError\u001B[39;00m(\u001B[38;5;124mf\u001B[39m\u001B[38;5;124m\"\u001B[39m\u001B[38;5;132;01m{\u001B[39;00mnot_found\u001B[38;5;132;01m}\u001B[39;00m\u001B[38;5;124m not in index\u001B[39m\u001B[38;5;124m\"\u001B[39m)\n",
      "\u001B[1;31mKeyError\u001B[0m: \"None of [Index(['peaks', 'centroids', 'rough_sums'], dtype='object')] are in the [columns]\""
     ]
    }
   ],
   "source": [
    "ret"
   ],
   "metadata": {
    "collapsed": false
   }
  },
  {
   "cell_type": "code",
   "execution_count": null,
   "outputs": [],
   "source": [
    "xfgn sr hsrthf srth"
   ],
   "metadata": {
    "collapsed": false
   }
  },
  {
   "cell_type": "code",
   "execution_count": 50,
   "outputs": [],
   "source": [],
   "metadata": {
    "collapsed": false
   }
  },
  {
   "cell_type": "code",
   "execution_count": 50,
   "outputs": [],
   "source": [],
   "metadata": {
    "collapsed": false
   }
  },
  {
   "cell_type": "code",
   "execution_count": 50,
   "outputs": [],
   "source": [],
   "metadata": {
    "collapsed": false
   }
  },
  {
   "cell_type": "code",
   "execution_count": 50,
   "outputs": [],
   "source": [],
   "metadata": {
    "collapsed": false
   }
  },
  {
   "cell_type": "code",
   "execution_count": 51,
   "outputs": [
    {
     "ename": "NameError",
     "evalue": "name 'my_df' is not defined",
     "output_type": "error",
     "traceback": [
      "\u001B[1;31m---------------------------------------------------------------------------\u001B[0m",
      "\u001B[1;31mNameError\u001B[0m                                 Traceback (most recent call last)",
      "Cell \u001B[1;32mIn[51], line 1\u001B[0m\n\u001B[1;32m----> 1\u001B[0m \u001B[43mmy_df\u001B[49m\u001B[38;5;241m.\u001B[39mdtypes\n",
      "\u001B[1;31mNameError\u001B[0m: name 'my_df' is not defined"
     ]
    }
   ],
   "source": [
    "my_df.dtypes"
   ],
   "metadata": {
    "collapsed": false
   }
  },
  {
   "cell_type": "code",
   "execution_count": 52,
   "outputs": [],
   "source": [
    "ch_en = ogra.a_spec.channel_energy_calib.p_en"
   ],
   "metadata": {
    "collapsed": false
   }
  },
  {
   "cell_type": "code",
   "execution_count": 53,
   "outputs": [
    {
     "ename": "NameError",
     "evalue": "name 'my_df' is not defined",
     "output_type": "error",
     "traceback": [
      "\u001B[1;31m---------------------------------------------------------------------------\u001B[0m",
      "\u001B[1;31mNameError\u001B[0m                                 Traceback (most recent call last)",
      "Cell \u001B[1;32mIn[53], line 1\u001B[0m\n\u001B[1;32m----> 1\u001B[0m my_df[\u001B[38;5;124m'\u001B[39m\u001B[38;5;124mcentrs_en\u001B[39m\u001B[38;5;124m'\u001B[39m] \u001B[38;5;241m=\u001B[39m ch_en(\u001B[43mmy_df\u001B[49m[\u001B[38;5;124m'\u001B[39m\u001B[38;5;124mcentroids\u001B[39m\u001B[38;5;124m'\u001B[39m])\n\u001B[0;32m      2\u001B[0m my_df\n",
      "\u001B[1;31mNameError\u001B[0m: name 'my_df' is not defined"
     ]
    }
   ],
   "source": [
    "my_df['centrs_en'] = ch_en(my_df['centroids'])\n",
    "my_df"
   ],
   "metadata": {
    "collapsed": false
   }
  },
  {
   "cell_type": "code",
   "execution_count": null,
   "metadata": {},
   "outputs": [],
   "source": [
    "\n",
    "# 2022-Dez-21:\n",
    "# PAREI AQUI;\n",
    "# Usar os resultados de áreas dos picos e montar as curvas de eficiência\n",
    "\n",
    "# 2022-Mar-16\n",
    "# Fazendo ajuste polinomial nas eficiências:"
   ]
  },
  {
   "cell_type": "code",
   "execution_count": null,
   "metadata": {},
   "outputs": [],
   "source": [
    "from numpy.polynomial import Polynomial as P # 2020-09-06 Esta é a nova classe recomendada "
   ]
  },
  {
   "cell_type": "code",
   "execution_count": null,
   "metadata": {},
   "outputs": [],
   "source": [
    "En_CV_LoBg = np.array([81.00,\n",
    "86.54,\n",
    "121.78,\n",
    "133.51,\n",
    "302.85,\n",
    "344.28,\n",
    "356.02,\n",
    "604.69,\n",
    "661.66,\n",
    "795.84,\n",
    "964.13,\n",
    "1085.91,\n",
    "1112.12,\n",
    "1173.24,\n",
    "1332.50,\n",
    "1408.01\n",
    "])\n",
    "# En_CV_GMX"
   ]
  },
  {
   "cell_type": "code",
   "execution_count": null,
   "metadata": {},
   "outputs": [],
   "source": [
    "Eff_CV_LoBg = np.array([4.4358,\n",
    "4.4723,\n",
    "5.4386,\n",
    "5.5045,\n",
    "3.1379,\n",
    "2.8722,\n",
    "2.7305,\n",
    "1.7817,\n",
    "1.6453,\n",
    "1.4026,\n",
    "1.1216,\n",
    "1.0200,\n",
    "0.9703,\n",
    "0.8962,\n",
    "0.8009,\n",
    "0.7397 ])\n",
    "Eff_CV_GMX"
   ]
  },
  {
   "cell_type": "code",
   "execution_count": null,
   "metadata": {},
   "outputs": [],
   "source": [
    "unc_perc = np.array([2.01,\n",
    "1.43,\n",
    "1.33,\n",
    "2.11,\n",
    "1.81,\n",
    "1.42,\n",
    "1.41,\n",
    "2.24,\n",
    "1.44,\n",
    "3.68,\n",
    "1.66,\n",
    "1.71,\n",
    "1.58,\n",
    "0.87,\n",
    "0.87,\n",
    "1.51 ])\n",
    "unc_perc"
   ]
  },
  {
   "cell_type": "code",
   "execution_count": 54,
   "metadata": {},
   "outputs": [
    {
     "ename": "NameError",
     "evalue": "name 'En_CV_LoBg' is not defined",
     "output_type": "error",
     "traceback": [
      "\u001B[1;31m---------------------------------------------------------------------------\u001B[0m",
      "\u001B[1;31mNameError\u001B[0m                                 Traceback (most recent call last)",
      "Cell \u001B[1;32mIn[54], line 1\u001B[0m\n\u001B[1;32m----> 1\u001B[0m ln_En_CV_LoBg \u001B[38;5;241m=\u001B[39m np\u001B[38;5;241m.\u001B[39mlog (\u001B[43mEn_CV_LoBg\u001B[49m)\n\u001B[0;32m      2\u001B[0m ln_Eff_CV_LoBg \u001B[38;5;241m=\u001B[39m np\u001B[38;5;241m.\u001B[39mlog (Eff_CV_LoBg)\n",
      "\u001B[1;31mNameError\u001B[0m: name 'En_CV_LoBg' is not defined"
     ]
    }
   ],
   "source": [
    "ln_En_CV_LoBg = np.log (En_CV_LoBg)\n",
    "ln_Eff_CV_LoBg = np.log (Eff_CV_LoBg)"
   ]
  },
  {
   "cell_type": "code",
   "execution_count": 55,
   "metadata": {},
   "outputs": [],
   "source": [
    "N = 16"
   ]
  },
  {
   "cell_type": "code",
   "execution_count": 55,
   "metadata": {},
   "outputs": [],
   "source": []
  },
  {
   "cell_type": "code",
   "execution_count": 56,
   "metadata": {},
   "outputs": [],
   "source": [
    "# 2022-Mar-23\n",
    "# Parêntese para fazer nova calibração canal-energia do HPGe do projeto:"
   ]
  },
  {
   "cell_type": "code",
   "execution_count": 57,
   "metadata": {},
   "outputs": [],
   "source": [
    "canal = np.array([210, 920, 1181, 7232])\n",
    "ener = np.array([46.5, 186, 238.6, 1460.8])"
   ]
  },
  {
   "cell_type": "code",
   "execution_count": 58,
   "metadata": {},
   "outputs": [
    {
     "ename": "NameError",
     "evalue": "name 'P' is not defined",
     "output_type": "error",
     "traceback": [
      "\u001B[1;31m---------------------------------------------------------------------------\u001B[0m",
      "\u001B[1;31mNameError\u001B[0m                                 Traceback (most recent call last)",
      "Cell \u001B[1;32mIn[58], line 1\u001B[0m\n\u001B[1;32m----> 1\u001B[0m projeto \u001B[38;5;241m=\u001B[39m \u001B[43mP\u001B[49m\u001B[38;5;241m.\u001B[39mfit(x\u001B[38;5;241m=\u001B[39mcanal, y\u001B[38;5;241m=\u001B[39mener, deg\u001B[38;5;241m=\u001B[39m\u001B[38;5;241m1\u001B[39m)\u001B[38;5;241m.\u001B[39mconvert()\n\u001B[0;32m      2\u001B[0m projeto\n",
      "\u001B[1;31mNameError\u001B[0m: name 'P' is not defined"
     ]
    }
   ],
   "source": [
    "projeto = P.fit(x=canal, y=ener, deg=1).convert()\n",
    "projeto"
   ]
  },
  {
   "cell_type": "code",
   "execution_count": 59,
   "metadata": {},
   "outputs": [
    {
     "ename": "NameError",
     "evalue": "name 'P' is not defined",
     "output_type": "error",
     "traceback": [
      "\u001B[1;31m---------------------------------------------------------------------------\u001B[0m",
      "\u001B[1;31mNameError\u001B[0m                                 Traceback (most recent call last)",
      "Cell \u001B[1;32mIn[59], line 1\u001B[0m\n\u001B[1;32m----> 1\u001B[0m projeto_ener_canal \u001B[38;5;241m=\u001B[39m \u001B[43mP\u001B[49m\u001B[38;5;241m.\u001B[39mfit(x\u001B[38;5;241m=\u001B[39mener, y\u001B[38;5;241m=\u001B[39mcanal, deg\u001B[38;5;241m=\u001B[39m\u001B[38;5;241m1\u001B[39m)\u001B[38;5;241m.\u001B[39mconvert()\n\u001B[0;32m      2\u001B[0m projeto_ener_canal\n",
      "\u001B[1;31mNameError\u001B[0m: name 'P' is not defined"
     ]
    }
   ],
   "source": [
    "projeto_ener_canal = P.fit(x=ener, y=canal, deg=1).convert()\n",
    "projeto_ener_canal"
   ]
  },
  {
   "cell_type": "code",
   "execution_count": 60,
   "metadata": {},
   "outputs": [
    {
     "ename": "NameError",
     "evalue": "name 'projeto_ener_canal' is not defined",
     "output_type": "error",
     "traceback": [
      "\u001B[1;31m---------------------------------------------------------------------------\u001B[0m",
      "\u001B[1;31mNameError\u001B[0m                                 Traceback (most recent call last)",
      "Cell \u001B[1;32mIn[60], line 1\u001B[0m\n\u001B[1;32m----> 1\u001B[0m \u001B[43mprojeto_ener_canal\u001B[49m(\u001B[38;5;241m1173.2\u001B[39m)\n",
      "\u001B[1;31mNameError\u001B[0m: name 'projeto_ener_canal' is not defined"
     ]
    }
   ],
   "source": [
    "projeto_ener_canal(1173.2)"
   ]
  },
  {
   "cell_type": "code",
   "execution_count": 61,
   "metadata": {},
   "outputs": [
    {
     "ename": "NameError",
     "evalue": "name 'projeto_ener_canal' is not defined",
     "output_type": "error",
     "traceback": [
      "\u001B[1;31m---------------------------------------------------------------------------\u001B[0m",
      "\u001B[1;31mNameError\u001B[0m                                 Traceback (most recent call last)",
      "Cell \u001B[1;32mIn[61], line 1\u001B[0m\n\u001B[1;32m----> 1\u001B[0m \u001B[43mprojeto_ener_canal\u001B[49m(\u001B[38;5;241m1332.486\u001B[39m)\n",
      "\u001B[1;31mNameError\u001B[0m: name 'projeto_ener_canal' is not defined"
     ]
    }
   ],
   "source": [
    "projeto_ener_canal(1332.486)"
   ]
  },
  {
   "cell_type": "code",
   "execution_count": 61,
   "metadata": {},
   "outputs": [],
   "source": []
  },
  {
   "cell_type": "code",
   "execution_count": 61,
   "metadata": {},
   "outputs": [],
   "source": []
  },
  {
   "cell_type": "code",
   "execution_count": 61,
   "metadata": {},
   "outputs": [],
   "source": []
  },
  {
   "cell_type": "code",
   "execution_count": 62,
   "metadata": {},
   "outputs": [
    {
     "ename": "NameError",
     "evalue": "name 'P' is not defined",
     "output_type": "error",
     "traceback": [
      "\u001B[1;31m---------------------------------------------------------------------------\u001B[0m",
      "\u001B[1;31mNameError\u001B[0m                                 Traceback (most recent call last)",
      "Cell \u001B[1;32mIn[62], line 1\u001B[0m\n\u001B[1;32m----> 1\u001B[0m \u001B[43mP\u001B[49m\u001B[38;5;241m.\u001B[39mfit(x\u001B[38;5;241m=\u001B[39mln_En_CV_LoBg, y\u001B[38;5;241m=\u001B[39mln_Eff_CV_LoBg, deg\u001B[38;5;241m=\u001B[39m\u001B[38;5;241m5\u001B[39m)\u001B[38;5;241m.\u001B[39mconvert()\n",
      "\u001B[1;31mNameError\u001B[0m: name 'P' is not defined"
     ]
    }
   ],
   "source": [
    "P.fit(x=ln_En_CV_LoBg, y=ln_Eff_CV_LoBg, deg=5).convert()"
   ]
  },
  {
   "cell_type": "code",
   "execution_count": 63,
   "metadata": {},
   "outputs": [
    {
     "ename": "NameError",
     "evalue": "name 'P' is not defined",
     "output_type": "error",
     "traceback": [
      "\u001B[1;31m---------------------------------------------------------------------------\u001B[0m",
      "\u001B[1;31mNameError\u001B[0m                                 Traceback (most recent call last)",
      "Cell \u001B[1;32mIn[63], line 1\u001B[0m\n\u001B[1;32m----> 1\u001B[0m poly_w \u001B[38;5;241m=\u001B[39m \u001B[43mP\u001B[49m\u001B[38;5;241m.\u001B[39mfit(x\u001B[38;5;241m=\u001B[39mln_En_CV_LoBg, y\u001B[38;5;241m=\u001B[39mln_Eff_CV_LoBg, deg\u001B[38;5;241m=\u001B[39m\u001B[38;5;241m5\u001B[39m, w\u001B[38;5;241m=\u001B[39m\u001B[38;5;241m1\u001B[39m\u001B[38;5;241m/\u001B[39munc_perc)\u001B[38;5;241m.\u001B[39mconvert()\n\u001B[0;32m      2\u001B[0m poly_w\n",
      "\u001B[1;31mNameError\u001B[0m: name 'P' is not defined"
     ]
    }
   ],
   "source": [
    "poly_w = P.fit(x=ln_En_CV_LoBg, y=ln_Eff_CV_LoBg, deg=5, w=1/unc_perc).convert()\n",
    "poly_w"
   ]
  },
  {
   "cell_type": "code",
   "execution_count": 64,
   "metadata": {},
   "outputs": [
    {
     "ename": "NameError",
     "evalue": "name 'P' is not defined",
     "output_type": "error",
     "traceback": [
      "\u001B[1;31m---------------------------------------------------------------------------\u001B[0m",
      "\u001B[1;31mNameError\u001B[0m                                 Traceback (most recent call last)",
      "Cell \u001B[1;32mIn[64], line 1\u001B[0m\n\u001B[1;32m----> 1\u001B[0m poly_w \u001B[38;5;241m=\u001B[39m \u001B[43mP\u001B[49m\u001B[38;5;241m.\u001B[39mfit(x\u001B[38;5;241m=\u001B[39mln_En_CV_LoBg, y\u001B[38;5;241m=\u001B[39mln_Eff_CV_LoBg, deg\u001B[38;5;241m=\u001B[39m\u001B[38;5;241m5\u001B[39m, w\u001B[38;5;241m=\u001B[39m\u001B[38;5;241m1\u001B[39m\u001B[38;5;241m/\u001B[39munc_perc\u001B[38;5;241m*\u001B[39m\u001B[38;5;241m*\u001B[39m\u001B[38;5;241m2\u001B[39m)\u001B[38;5;241m.\u001B[39mconvert()\n\u001B[0;32m      2\u001B[0m poly_w\n",
      "\u001B[1;31mNameError\u001B[0m: name 'P' is not defined"
     ]
    }
   ],
   "source": [
    "poly_w = P.fit(x=ln_En_CV_LoBg, y=ln_Eff_CV_LoBg, deg=5, w=1/unc_perc**2).convert()\n",
    "poly_w"
   ]
  },
  {
   "cell_type": "code",
   "execution_count": 65,
   "metadata": {},
   "outputs": [
    {
     "ename": "NameError",
     "evalue": "name 'poly_w' is not defined",
     "output_type": "error",
     "traceback": [
      "\u001B[1;31m---------------------------------------------------------------------------\u001B[0m",
      "\u001B[1;31mNameError\u001B[0m                                 Traceback (most recent call last)",
      "Cell \u001B[1;32mIn[65], line 1\u001B[0m\n\u001B[1;32m----> 1\u001B[0m \u001B[38;5;28mprint\u001B[39m(\u001B[43mpoly_w\u001B[49m)\n",
      "\u001B[1;31mNameError\u001B[0m: name 'poly_w' is not defined"
     ]
    }
   ],
   "source": [
    "print(poly_w)"
   ]
  },
  {
   "cell_type": "code",
   "execution_count": 66,
   "metadata": {},
   "outputs": [
    {
     "ename": "NameError",
     "evalue": "name 'P' is not defined",
     "output_type": "error",
     "traceback": [
      "\u001B[1;31m---------------------------------------------------------------------------\u001B[0m",
      "\u001B[1;31mNameError\u001B[0m                                 Traceback (most recent call last)",
      "Cell \u001B[1;32mIn[66], line 1\u001B[0m\n\u001B[1;32m----> 1\u001B[0m poly_o \u001B[38;5;241m=\u001B[39m \u001B[43mP\u001B[49m\u001B[38;5;241m.\u001B[39mfit(x\u001B[38;5;241m=\u001B[39mln_En_CV_LoBg, y\u001B[38;5;241m=\u001B[39mEff_CV_LoBg, deg\u001B[38;5;241m=\u001B[39m\u001B[38;5;241m5\u001B[39m)\n\u001B[0;32m      2\u001B[0m \u001B[38;5;28mprint\u001B[39m(poly_o)\n",
      "\u001B[1;31mNameError\u001B[0m: name 'P' is not defined"
     ]
    }
   ],
   "source": [
    "poly_o = P.fit(x=ln_En_CV_LoBg, y=Eff_CV_LoBg, deg=5)\n",
    "print(poly_o)"
   ]
  },
  {
   "cell_type": "code",
   "execution_count": null,
   "metadata": {},
   "outputs": [],
   "source": [
    "weights = np.linspace(1, 2, N)\n",
    "Xw = X * np.sqrt(weights)[:, None]\n",
    "yw = y * np.sqrt(weights)\n",
    "print (linalg.lstsq(Xw, yw)[0])"
   ]
  },
  {
   "cell_type": "code",
   "execution_count": 34,
   "metadata": {},
   "outputs": [
    {
     "ename": "NameError",
     "evalue": "name 'pkprms' is not defined",
     "output_type": "error",
     "traceback": [
      "\u001B[1;31m---------------------------------------------------------------------------\u001B[0m",
      "\u001B[1;31mNameError\u001B[0m                                 Traceback (most recent call last)",
      "Cell \u001B[1;32mIn[34], line 1\u001B[0m\n\u001B[1;32m----> 1\u001B[0m wi_re \u001B[38;5;241m=\u001B[39m \u001B[43mpkprms\u001B[49m\u001B[38;5;241m.\u001B[39mwide_regions[largest_pk]\n\u001B[0;32m      2\u001B[0m x \u001B[38;5;241m=\u001B[39m np\u001B[38;5;241m.\u001B[39mlinspace(wi_re[\u001B[38;5;241m0\u001B[39m], wi_re[\u001B[38;5;241m1\u001B[39m], num\u001B[38;5;241m=\u001B[39mwi_re[\u001B[38;5;241m1\u001B[39m]\u001B[38;5;241m-\u001B[39mwi_re[\u001B[38;5;241m0\u001B[39m]\u001B[38;5;241m+\u001B[39m\u001B[38;5;241m1\u001B[39m)\n\u001B[0;32m      3\u001B[0m y \u001B[38;5;241m=\u001B[39m cntarr[wi_re[\u001B[38;5;241m0\u001B[39m]:wi_re[\u001B[38;5;241m1\u001B[39m]\u001B[38;5;241m+\u001B[39m\u001B[38;5;241m1\u001B[39m]\n",
      "\u001B[1;31mNameError\u001B[0m: name 'pkprms' is not defined"
     ]
    }
   ],
   "source": [
    "weights = 1.0 / unc_perc**2.0\n",
    "weights"
   ]
  },
  {
   "cell_type": "code",
   "execution_count": null,
   "metadata": {},
   "outputs": [],
   "source": [
    "Xw = ln_En_CV_LoBg * np.sqrt(weights)[:, None]\n",
    "yw = ln_Eff_CV_LoBg * np.sqrt(weights)\n",
    "print (linalg.lstsq(Xw, yw)[0])"
   ]
  },
  {
   "cell_type": "code",
   "execution_count": null,
   "metadata": {},
   "outputs": [],
   "source": [
    "print (linalg.lstsq(Xw, yw))"
   ]
  },
  {
   "cell_type": "code",
   "execution_count": null,
   "metadata": {},
   "outputs": [],
   "source": [
    "X = ln_En_CV_LoBg\n",
    "y = ln_Eff_CV_LoBg\n",
    "w1 = linalg.lstsq(X, y)\n",
    "print (w1)"
   ]
  },
  {
   "cell_type": "code",
   "execution_count": null,
   "metadata": {},
   "outputs": [],
   "source": [
    "np.log(2)"
   ]
  },
  {
   "cell_type": "code",
   "execution_count": null,
   "metadata": {},
   "outputs": [],
   "source": []
  },
  {
   "cell_type": "code",
   "execution_count": null,
   "metadata": {},
   "outputs": [],
   "source": [
    "# Figure 3\n",
    "figw3 = go.FigureWidget();\n",
    "figw3.add_trace(\n",
    "    go.Scatter(x=chans,\n",
    "               y=ys_net_counts,\n",
    "               name=\"Net counts\",\n",
    "               line=dict(color='green',width=0.5)));\n",
    "figw3.add_trace(\n",
    "    go.Scatter(x=peaks_net,\n",
    "               y=ys_net_counts[peaks_net],\n",
    "               mode=\"markers\",\n",
    "               name=\"net peaks\",\n",
    "               marker=dict(color='cyan',\n",
    "                           symbol='cross',\n",
    "                           size=15,\n",
    "                           opacity=0.7,\n",
    "                           line=dict(color='magenta', width=2.0)\n",
    "                          )\n",
    "              ));\n",
    "figw3.add_trace(\n",
    "    go.Scatter(x=peaks_1,\n",
    "               y=counts[peaks_1],\n",
    "               mode=\"markers\",\n",
    "               name=\"gross peaks\",\n",
    "               marker=dict(color='lightblue',\n",
    "                           symbol='cross',\n",
    "                           size=15,\n",
    "                           opacity=0.7,\n",
    "                           line=dict(color='green', width=2.0)\n",
    "                          )\n",
    "              ));\n",
    "# Set title and scale type\n",
    "figw3.update_layout(title_text=\"Gamma-ray net spectrum\")\n",
    "figw3.update_yaxes(type=\"log\");"
   ]
  },
  {
   "cell_type": "code",
   "execution_count": null,
   "metadata": {},
   "outputs": [],
   "source": [
    "figw3.write_html('figw3.html', auto_open=True)"
   ]
  },
  {
   "cell_type": "code",
   "execution_count": null,
   "metadata": {},
   "outputs": [],
   "source": [
    "# Essa será a 1b\n",
    "figw1 = go.FigureWidget();\n",
    "\n",
    "# Add Traces\n",
    "\n",
    "figw1.add_trace(\n",
    "    go.Scatter(x=chans_nzero,\n",
    "               y=counts_nzero,\n",
    "               error_y=dict(\n",
    "                   color='orange',width=3.0,\n",
    "                   type='data', # value of error bar given in data coordinates\n",
    "                   array=unc_y,\n",
    "                   visible=True),\n",
    "               name=\"Counts & uncertaintes\",\n",
    "               line=dict(color='orange',width=0.3)));\n",
    "\n",
    "figw1.add_trace(\n",
    "    go.Scatter(x=chans,\n",
    "               y=eval_y,\n",
    "               name=\"eval_y\",\n",
    "               line=dict(color='blue',width=0.5)));\n",
    "\n",
    "figw1.add_trace(\n",
    "    go.Scatter(x=peaks_1,\n",
    "               y=counts[peaks_1],\n",
    "               mode=\"markers\",\n",
    "               name=\"peaks\",\n",
    "               marker=dict(color='cyan',\n",
    "                           symbol='cross',\n",
    "                           size=20,\n",
    "                           opacity=0.5,\n",
    "                           line=dict(color='red', width=2.0)\n",
    "                          )\n",
    "              ));\n",
    "figw1.add_trace(\n",
    "    go.Scatter(x=peaks_net,\n",
    "               y=counts[peaks_net],\n",
    "               mode=\"markers\",\n",
    "               name=\"net peaks\",\n",
    "               marker=dict(color='red',\n",
    "                           symbol='circle',\n",
    "                           size=20,\n",
    "                           opacity=0.4,\n",
    "                           line=dict(color='green', width=2.0)\n",
    "                          )\n",
    "              ));\n",
    "\n",
    "figw4.add_trace(\n",
    "    go.Scatter(x=inis,\n",
    "               y=eval_y[inis],\n",
    "               mode=\"markers\",\n",
    "               name=\"inis\",\n",
    "               marker=dict(color='yellow',\n",
    "                           symbol='pentagon',\n",
    "                           size=10,\n",
    "                           opacity=1.0,\n",
    "                           line=dict(color='green', width=2.0)\n",
    "                          )\n",
    "              ));\n",
    "\n",
    "figw1.add_trace(\n",
    "    go.Scatter(x=fins,\n",
    "               y=eval_y[fins],\n",
    "               mode=\"markers\",\n",
    "               name=\"fins\",\n",
    "               marker=dict(color='cyan',\n",
    "                           symbol='star-triangle-down',\n",
    "                           size=10,\n",
    "                           opacity=1.0,\n",
    "                           line=dict(color='red', width=2.0)\n",
    "                          )\n",
    "              ));\n",
    "\n",
    "figw1.add_trace(\n",
    "    go.Scatter(x=xs_step_bline,\n",
    "               y=ys_step_bline,\n",
    "               name=\"Step baseline\",\n",
    "               line=dict(color='navy',width=0.4)));\n",
    "\n",
    "# Set title and scale type\n",
    "figw1.update_layout(title_text=\"Gamma-ray spectrum excerpt\")\n",
    "figw1.update_yaxes(type=\"log\");\n",
    "\n",
    "# Melhor não abrir inline, que seria simplesmente entrar com o nome do objeto:\n",
    "# figw2\n",
    "# Além de ficar com visualização incômoda, não funciona no JupyterLab; dá o erro:\n",
    "# Error displaying widget: model not found."
   ]
  },
  {
   "cell_type": "code",
   "execution_count": null,
   "metadata": {},
   "outputs": [],
   "source": [
    "figw4.write_html('figw4.html', auto_open=True)"
   ]
  },
  {
   "cell_type": "code",
   "execution_count": null,
   "outputs": [],
   "source": [
    "# 2022-Dez-28\n",
    "# Cópia do programa principal com interface, ograyspy_main_ui.py,\n",
    "# para testes com Pandas"
   ],
   "metadata": {
    "collapsed": false
   }
  },
  {
   "cell_type": "code",
   "execution_count": null,
   "outputs": [],
   "source": [
    "import sys\n",
    "from PyQt5.QtCore import *\n",
    "from PyQt5.QtGui import *\n",
    "from PyQt5.QtWebEngineWidgets import QWebEngineView\n",
    "from PyQt5.QtWidgets import *\n",
    "from css_test import css_test, apply_css\n",
    "\n",
    "from ograyspy_class import Ograyspy\n",
    "# from html_window_class import SimpleHtmlViewer\n",
    "\n",
    "class MainWindow(QMainWindow):\n",
    "    count = 0\n",
    "\n",
    "    def __init__(self, parent=None):\n",
    "        super(MainWindow, self).__init__(parent)\n",
    "        self.mdi = QMdiArea()\n",
    "\n",
    "        self.mdi.setHorizontalScrollBarPolicy(Qt.ScrollBarAsNeeded)\n",
    "        self.mdi.setVerticalScrollBarPolicy(Qt.ScrollBarAsNeeded)\n",
    "        self.setCentralWidget(self.mdi)\n",
    "\n",
    "        # self.mdi.subWindowActivated.connect(self.updateMenus)\n",
    "        self.windowMapper = QSignalMapper(self)\n",
    "        # self.windowMapper.mapped[QWidget].connect(self.setActiveSubWindow)\n",
    "\n",
    "        self.setCentralWidget(self.mdi)\n",
    "        bar = self.menuBar()\n",
    "\n",
    "        file = bar.addMenu(\"File\")\n",
    "        file.addAction(\"New\")\n",
    "        file.addAction(\"Open\")\n",
    "        file.addAction(\"Pandas-generate an_html_file.html\")\n",
    "        file.addAction(\"Show spectrum graphic\")\n",
    "        file.addAction(\"Show Pandas dataframe\")\n",
    "        file.addAction(\"cascade\")\n",
    "        file.addAction(\"Tiled\")\n",
    "        file.addAction(\"Exit\")\n",
    "        file.triggered[QAction].connect(self.windowaction)\n",
    "        self.setWindowTitle(\"MDI demo\")\n",
    "\n",
    "    def windowaction(self, q):\n",
    "        print(\"triggered\")\n",
    "\n",
    "        if q.text() == \"New\":\n",
    "            MainWindow.count = MainWindow.count + 1\n",
    "            sub = QMdiSubWindow()\n",
    "            sub.setWidget(QTextEdit())\n",
    "            sub.setWindowTitle(\"subwindow\" + str(MainWindow.count))\n",
    "            self.mdi.addSubWindow(sub)\n",
    "            sub.show()\n",
    "\n",
    "        if q.text() == \"Open\":\n",
    "            fileName, _ = QFileDialog.getOpenFileName(self)\n",
    "            if fileName:\n",
    "                # This is a hack...\n",
    "                # existing = self.findMdiChild(fileName)\n",
    "                existing = True\n",
    "                if existing:\n",
    "                    MainWindow.count = MainWindow.count + 1\n",
    "                    sub = QMdiSubWindow()\n",
    "                    sub.setWidget(QTextEdit())\n",
    "                    # sub.setWindowTitle(\"subwindow\" + str(MainWindow.count))\n",
    "                    sub.setWindowTitle(fileName)\n",
    "                    self.mdi.addSubWindow(sub)\n",
    "                    sub.show()\n",
    "\n",
    "        if q.text() == \"Pandas-generate an_html_file.html\":\n",
    "            fileName, _ = QFileDialog.getOpenFileName(self)\n",
    "            if fileName:\n",
    "                # This is a hack...\n",
    "                # existing = self.findMdiChild(fileName)\n",
    "                existing = True\n",
    "                if existing:\n",
    "                    ogra = Ograyspy(batch_mode=False)\n",
    "                    # to_be_found = 'Genie_Transfer'\n",
    "                    # print('\\nogra.define_files_folder(to_be_found)')\n",
    "                    # ogra.define_files_folder(to_be_found)\n",
    "                    ogra.a_spec_name = fileName\n",
    "                    # AQUI: ativar gener_dataframe qdo estiver pronto.\n",
    "                    ogra.perform_total_analysis(peak_sd_fact=3.0, gener_dataframe=True)\n",
    "                    ogra.a_spec.spec_pks_df.to_html(buf='an_html_file.html')\n",
    "                    # print(ogra.a_spec.spec_pks_df)\n",
    "\n",
    "                    MainWindow.count = MainWindow.count + 1\n",
    "                    sub = QMdiSubWindow()\n",
    "                    web = QWebEngineView()\n",
    "                    # web.load(QUrl(\"file:///C:/Users/mmaduar/PycharmProjects/OGRaySpY/src/my_file.html\"))\n",
    "                    apply_css(ogra.a_spec.spec_pks_df)\n",
    "                    web.load(QUrl(\"file:///C:/Users/mmaduar/PycharmProjects/OGRaySpY/src/an_html_file.html\"))\n",
    "                    # 2022-Dez-27 PAREI AQUI:\n",
    "                    # - passar a saída de to_html como string?\n",
    "                    # - O html pode ser renderizado com sucesso, inclusive com css\n",
    "                    # - porém, parece que o SEI não aceita css. Paciência.\n",
    "\n",
    "                    # web.load(ogra.dataframe_html_string)\n",
    "                    # css_test()\n",
    "                    sub.setWidget(web)\n",
    "                    sub.setWindowTitle(\"subwindow\" + str(MainWindow.count))\n",
    "                    self.mdi.addSubWindow(sub)\n",
    "                    sub.show()\n",
    "\n",
    "        if q.text() == \"Show spectrum graphic\":\n",
    "            MainWindow.count = MainWindow.count + 1\n",
    "            sub = QMdiSubWindow()\n",
    "            web = QWebEngineView()\n",
    "            web.load(QUrl(\"file:///C:/Users/mmaduar/PycharmProjects/OGRaySpY/src/gross_counts_graph.html\"))\n",
    "            sub.setWidget(web)\n",
    "            sub.setWindowTitle(\"subwindow\" + str(MainWindow.count))\n",
    "            self.mdi.addSubWindow(sub)\n",
    "            sub.show()\n",
    "\n",
    "        if q.text() == \"Show Pandas dataframe\":\n",
    "            MainWindow.count = MainWindow.count + 1\n",
    "            sub = QMdiSubWindow()\n",
    "            web = QWebEngineView()\n",
    "            web.load(QUrl(\"file:///C:/Users/mmaduar/PycharmProjects/OGRaySpY/src/my_file.html\"))\n",
    "            # 2022-Dez-23 PAREI AQUI - passar a saída de to_html como string\n",
    "            # web.load(ogra.dataframe_html_string)\n",
    "            css_test()\n",
    "            sub.setWidget(web)\n",
    "            sub.setWindowTitle(\"subwindow\" + str(MainWindow.count))\n",
    "            self.mdi.addSubWindow(sub)\n",
    "            sub.show()\n",
    "\n",
    "        if q.text() == \"cascade\":\n",
    "            self.mdi.cascadeSubWindows()\n",
    "\n",
    "        if q.text() == \"Tiled\":\n",
    "            self.mdi.tileSubWindows()\n",
    "\n",
    "        if q.text() == \"Exit\":\n",
    "            QApplication.instance().exit()\n",
    "\n",
    "    def findMdiChild(self, fileName):\n",
    "        canonicalFilePath = QFileInfo(fileName).canonicalFilePath()\n",
    "\n",
    "        for window in self.mdiArea.subWindowList():\n",
    "            if window.widget().currentFile() == canonicalFilePath:\n",
    "                return window\n",
    "        return None\n",
    "\n",
    "\n",
    "def main():\n",
    "    app = QApplication(sys.argv)\n",
    "    ex = MainWindow()\n",
    "    ex.show()\n",
    "    sys.exit(app.exec_())\n",
    "\n",
    "\n",
    "if __name__ == '__main__':\n",
    "    main()\n"
   ],
   "metadata": {
    "collapsed": false
   }
  },
  {
   "cell_type": "code",
   "execution_count": null,
   "outputs": [],
   "source": [
    "dir()"
   ],
   "metadata": {
    "collapsed": false
   }
  },
  {
   "cell_type": "code",
   "execution_count": null,
   "outputs": [],
   "source": [],
   "metadata": {
    "collapsed": false
   }
  }
 ],
 "metadata": {
  "kernelspec": {
   "display_name": "Python 3",
   "language": "python",
   "name": "python3"
  },
  "language_info": {
   "codemirror_mode": {
    "name": "ipython",
    "version": 3
   },
   "file_extension": ".py",
   "mimetype": "text/x-python",
   "name": "python",
   "nbconvert_exporter": "python",
   "pygments_lexer": "ipython3",
   "version": "3.7.3"
  }
 },
 "nbformat": 4,
 "nbformat_minor": 5
}
