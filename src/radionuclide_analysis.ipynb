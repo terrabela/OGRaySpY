{
 "cells": [
  {
   "cell_type": "code",
   "execution_count": 29,
   "metadata": {},
   "outputs": [],
   "source": [
    "import numpy as np\n",
    "from numpy.random import default_rng\n",
    "from scipy import special\n",
    "import matplotlib.pyplot as plt\n",
    "import pandas as pd\n",
    "import plotly.graph_objects as go\n",
    "\n",
    "from spec_class import Spec"
   ]
  },
  {
   "cell_type": "code",
   "execution_count": 30,
   "metadata": {},
   "outputs": [],
   "source": [
    "# https://lmfit.github.io/lmfit-py/builtin_models.html\n",
    "from lmfit import Model, Minimizer, minimize, Parameters, report_fit, fit_report, printfuncs\n",
    "from lmfit.models import LinearModel, StepModel, ExponentialModel, LorentzianModel\n",
    "from lmfit.models import GaussianModel, SkewedGaussianModel, ExpressionModel"
   ]
  },
  {
   "cell_type": "code",
   "execution_count": 31,
   "metadata": {},
   "outputs": [],
   "source": [
    "from ograyspy_class import Ograyspy"
   ]
  },
  {
   "cell_type": "code",
   "execution_count": 32,
   "metadata": {},
   "outputs": [
    {
     "name": "stdout",
     "output_type": "stream",
     "text": [
      "Objeto ogra: Ograyspy criado.\n",
      "ogra.info_plat: Windows-10-10.0.19044-SP0\n",
      "ogra.info_mach: AMD64\n",
      "ogra.info_syst: Windows\n",
      "ogra.info_node: I56611\n",
      "ogra.home_path: C:\\Users\\mmaduar\n"
     ]
    }
   ],
   "source": [
    "ogra = Ograyspy(batch_mode=False)\n",
    "print('Objeto ogra: Ograyspy criado.')\n",
    "print(f'ogra.info_plat: {ogra.info_plat}')\n",
    "print(f'ogra.info_mach: {ogra.info_mach}')\n",
    "print(f'ogra.info_syst: {ogra.info_syst}')\n",
    "print(f'ogra.info_node: {ogra.info_node}')\n",
    "print(f'ogra.home_path: {ogra.home_path}')"
   ]
  },
  {
   "cell_type": "code",
   "execution_count": 33,
   "metadata": {},
   "outputs": [],
   "source": [
    "# f_name = '../../Genie_Transfer/Si/SI2019/SI04119.Chn'\n",
    "# f_name = '../gamma/spectra/ALMERA-2016/alm_samp5_sedim_16.IEC'"
   ]
  },
  {
   "cell_type": "code",
   "execution_count": 34,
   "metadata": {},
   "outputs": [
    {
     "name": "stdout",
     "output_type": "stream",
     "text": [
      "\n",
      "ogra.define_files_folder(to_be_found)\n",
      "Found folder name:  C:\\Users\\mmaduar\\Nextcloud\\Genie_Transfer\n",
      "Partes:  ('C:\\\\', 'Users', 'mmaduar', 'Nextcloud', 'Genie_Transfer')\n",
      "No. spec files:  6813\n"
     ]
    }
   ],
   "source": [
    "to_be_found = 'Genie_Transfer'\n",
    "# to_be_found = 'some_spectra'\n",
    "print('\\nogra.define_files_folder(to_be_found)')\n",
    "ogra.define_files_folder(to_be_found)\n",
    "\n"
   ]
  },
  {
   "cell_type": "code",
   "execution_count": 35,
   "outputs": [
    {
     "name": "stdout",
     "output_type": "stream",
     "text": [
      "\n",
      "\n",
      "ogra.select_spectrum(CCI1603-I)\n",
      "Existing:\n",
      "Achou! indice=4567, nomearq = Filtros/2022/Cci/CCI1603-I.Chn\n",
      "==========================\n",
      "Final choices:\n",
      "spectra_path: C:\\Users\\mmaduar\\Nextcloud\\Genie_Transfer\n",
      "a_spec_name: C:\\Users\\mmaduar\\Nextcloud\\Genie_Transfer\\Filtros\\2022\\Cci\\CCI1603-I.Chn\n",
      "reduced_f_name: Filtros/2022/Cci/CCI1603-I.Chn\n",
      "A spec name: C:\\Users\\mmaduar\\Nextcloud\\Genie_Transfer\\Filtros\\2022\\Cci\\CCI1603-I.Chn\n",
      "Reduced file name: Filtros/2022/Cci/CCI1603-I.Chn\n",
      "k_sep_pk:  2.0\n",
      "smoo:  4096\n",
      "widths_range:  (4.0, 20.0)\n",
      "=================\n",
      "Exec peaks_search(gross=True), espectro ORIGINAL\n",
      "resolve_peaks_and_regions:\n",
      "define_multiplets_regions completado. Define: self.mix_regions.\n",
      "resolve_peaks_and_regions:\n",
      "define_multiplets_regions completado. Define: self.mix_regions.\n",
      "{'net_spec_ser_an': <generic_series_analysis_class.GenericSeriesAnalysis object at 0x0000017AA08D9AF0>, 'final_composed_baseline': <generic_series_analysis_class.GenericSeriesAnalysis object at 0x0000017AA08D9970>, 'f_name': WindowsPath('C:/Users/mmaduar/Nextcloud/Genie_Transfer/Filtros/2022/Cci/CCI1603-I.Chn'), 'reduced_f_name': 'Filtros/2022/Cci/CCI1603-I.Chn', 'sufx': '.chn', 'spec_io': None, 'pkl_file': WindowsPath('C:/Users/mmaduar/Nextcloud/Genie_Transfer/Filtros/2022/Cci/CCI1603-I.pkl'), 'gross_spec_ser_an': <generic_series_analysis_class.GenericSeriesAnalysis object at 0x0000017AA08D9B20>, 'spec_pks_df': Empty DataFrame\n",
      "Columns: []\n",
      "Index: []}\n",
      "['__class__', '__delattr__', '__dict__', '__dir__', '__doc__', '__eq__', '__format__', '__ge__', '__getattribute__', '__gt__', '__hash__', '__init__', '__init_subclass__', '__le__', '__lt__', '__module__', '__ne__', '__new__', '__reduce__', '__reduce_ex__', '__repr__', '__setattr__', '__sizeof__', '__str__', '__subclasshook__', '__weakref__', 'curr_h_win', 'f_name', 'final_composed_baseline', 'generate_pandas_dataframe', 'gross_spec_ser_an', 'net_spec_ser_an', 'pkl_file', 'reduced_f_name', 'spec_io', 'spec_pks_df', 'sufx', 'total_analysis']\n",
      "=================\n",
      "Fez total analysis.\n"
     ]
    }
   ],
   "source": [
    "print(f'\\n\\nogra.select_spectrum({a_pattern})')\n",
    "ogra.select_spectrum(a_pattern)\n",
    "print(f'A spec name: {ogra.a_spec_name}')\n",
    "print(f'Reduced file name: {ogra.reduced_f_name}')\n",
    "\n",
    "# AQUI: ativar gener_dataframe qdo estiver pronto.\n",
    "ogra.perform_total_analysis(peak_sd_fact=3.0, gener_dataframe=True)\n",
    "# print(ogra.a_spec.spec_pks_df)"
   ],
   "metadata": {
    "collapsed": false
   }
  },
  {
   "cell_type": "code",
   "execution_count": 36,
   "outputs": [],
   "source": [
    "ogra.call_graphics()"
   ],
   "metadata": {
    "collapsed": false
   }
  },
  {
   "cell_type": "code",
   "execution_count": 36,
   "outputs": [],
   "source": [],
   "metadata": {
    "collapsed": false
   }
  },
  {
   "cell_type": "code",
   "execution_count": 37,
   "metadata": {},
   "outputs": [],
   "source": [
    "rng = np.random.default_rng()\n",
    "# rints = rng.integers(low=0, high=10, size=3)\n",
    "\n",
    "# 2022-Jun-23: Reativar após consertar o arquivo pickle:\n",
    "# rints = rng.integers(pkl_df1.count()[0], size=3)\n",
    "# print(rints)\n",
    "# type(rints[0])\n",
    "# some_spec = rints[1]\n",
    "# pkl_df1.iloc[some_spec]\n",
    "# a_spec_name = pkl_df1.iloc[some_spec]['FName']\n",
    "# a_spec_name"
   ]
  },
  {
   "cell_type": "code",
   "execution_count": 37,
   "metadata": {},
   "outputs": [],
   "source": []
  },
  {
   "cell_type": "code",
   "execution_count": 38,
   "metadata": {},
   "outputs": [],
   "source": [
    "# 2022\n",
    "# Se quiser ignorar o espectro aleatório, definir aqui um específico. Se não, pular.\n",
    "# Vou ignorar o espectro já analisado e refazer a análise, para testes.\n",
    "# 2022-Mar-24 Resolver essa questão dos nomes de arquivos em Linux e Windows\n",
    "# a_spec_name = '..\\\\..\\\\Genie_Transfer\\\\Si\\\\2018\\\\PNR\\\\PRN0803.Chn'\n",
    "# a_spec_name = '../../Genie_Transfer/Si/2018/PNR/PRN0803.Chn'\n",
    "# a_spec_name = '../../Genie_Transfer/Si/2018/CTP/CTP0908-2.Chn'\n",
    "# Esse é um que dá problema na baseline perto do 159 keV do I-123:\n",
    "# a_spec_name = '../../Genie_Transfer/Si/2018/CCI/CCI1508I.Chn'\n",
    "# Precisa quebrar mais a baseline: Ok, consertado!!!\n",
    "# 2022: Já usando o GMX:\n",
    "# a_spec_name = '../../Genie_Transfer/Filtros/2022/Cci/CCI1603-I.Chn'\n",
    "\n"
   ]
  },
  {
   "cell_type": "code",
   "execution_count": 39,
   "metadata": {},
   "outputs": [
    {
     "name": "stdout",
     "output_type": "stream",
     "text": [
      "Existing:\n",
      "Achou! indice=6643, nomearq = Si/SI2018/SI11318.Chn\n",
      "name:  C:\\Users\\mmaduar\\Nextcloud\\Genie_Transfer\\Si\\SI2018\\SI11318.Chn\n",
      "==========================\n",
      "Final choices:\n",
      "spectra_path: C:\\Users\\mmaduar\\Nextcloud\\Genie_Transfer\n",
      "a_spec_name: C:\\Users\\mmaduar\\Nextcloud\\Genie_Transfer\\Si\\SI2018\\SI11318.Chn\n",
      "reduced_f_name: Si/SI2018/SI11318.Chn\n"
     ]
    }
   ],
   "source": [
    "\n",
    "# 2022-out-7: Excelente espectro para testes, tenho usado ultimamente:\n",
    "a_pattern = 'Si/SI2018/SI11318.Chn'\n",
    "# 2022-nov-16: outros espectros:\n",
    "# a_pattern = \"Filtros/2022/Cci/CCI1603-I.Chn\"\n",
    "# a_pattern = \"Filtros/2022/Cci/CCI2302-I.Chn\"\n",
    "\n",
    "# a_pattern = \"Eso_non_existe.Chn\"\n",
    "\n",
    "# 2022-Dez-21 Buscando outro espectro\n",
    "# a_pattern = 'CCI1603-I'\n",
    "ogra.select_spectrum(a_pattern)"
   ]
  },
  {
   "cell_type": "code",
   "execution_count": 40,
   "outputs": [
    {
     "name": "stdout",
     "output_type": "stream",
     "text": [
      "A spec name: C:\\Users\\mmaduar\\Nextcloud\\Genie_Transfer\\Si\\SI2018\\SI11318.Chn\n",
      "Reduced file name: Si/SI2018/SI11318.Chn\n"
     ]
    }
   ],
   "source": [
    "print(f'A spec name: {ogra.a_spec_name}')\n",
    "print(f'Reduced file name: {ogra.reduced_f_name}')"
   ],
   "metadata": {
    "collapsed": false
   }
  },
  {
   "cell_type": "code",
   "execution_count": 41,
   "outputs": [
    {
     "data": {
      "text/plain": "'Filtros/2022/Cci/CCI1603-I.Chn'"
     },
     "execution_count": 41,
     "metadata": {},
     "output_type": "execute_result"
    }
   ],
   "source": [
    "# adsfgaedf sead\n",
    "ogra.reduced_names_files_list[4567]"
   ],
   "metadata": {
    "collapsed": false
   }
  },
  {
   "cell_type": "code",
   "execution_count": 42,
   "outputs": [
    {
     "name": "stdout",
     "output_type": "stream",
     "text": [
      "k_sep_pk:  2.0\n",
      "smoo:  4096\n",
      "widths_range:  (4.0, 20.0)\n",
      "=================\n",
      "Exec peaks_search(gross=True), espectro ORIGINAL\n",
      "resolve_peaks_and_regions:\n",
      "define_multiplets_regions completado. Define: self.mix_regions.\n",
      "resolve_peaks_and_regions:\n",
      "define_multiplets_regions completado. Define: self.mix_regions.\n",
      "{'net_spec_ser_an': <generic_series_analysis_class.GenericSeriesAnalysis object at 0x0000017AA08F5160>, 'final_composed_baseline': <generic_series_analysis_class.GenericSeriesAnalysis object at 0x0000017AA08F5070>, 'f_name': WindowsPath('C:/Users/mmaduar/Nextcloud/Genie_Transfer/Si/SI2018/SI11318.Chn'), 'reduced_f_name': 'Si/SI2018/SI11318.Chn', 'sufx': '.chn', 'spec_io': None, 'pkl_file': WindowsPath('C:/Users/mmaduar/Nextcloud/Genie_Transfer/Si/SI2018/SI11318.pkl'), 'gross_spec_ser_an': <generic_series_analysis_class.GenericSeriesAnalysis object at 0x0000017AA0B2A640>, 'spec_pks_df': Empty DataFrame\n",
      "Columns: []\n",
      "Index: []}\n",
      "['__class__', '__delattr__', '__dict__', '__dir__', '__doc__', '__eq__', '__format__', '__ge__', '__getattribute__', '__gt__', '__hash__', '__init__', '__init_subclass__', '__le__', '__lt__', '__module__', '__ne__', '__new__', '__reduce__', '__reduce_ex__', '__repr__', '__setattr__', '__sizeof__', '__str__', '__subclasshook__', '__weakref__', 'curr_h_win', 'f_name', 'final_composed_baseline', 'generate_pandas_dataframe', 'gross_spec_ser_an', 'net_spec_ser_an', 'pkl_file', 'reduced_f_name', 'spec_io', 'spec_pks_df', 'sufx', 'total_analysis']\n",
      "=================\n",
      "Fez total analysis.\n"
     ]
    },
    {
     "data": {
      "text/plain": "{'net_spec_ser_an': <generic_series_analysis_class.GenericSeriesAnalysis at 0x17aa08f5160>,\n 'final_composed_baseline': <generic_series_analysis_class.GenericSeriesAnalysis at 0x17aa08f5070>,\n 'f_name': WindowsPath('C:/Users/mmaduar/Nextcloud/Genie_Transfer/Si/SI2018/SI11318.Chn'),\n 'reduced_f_name': 'Si/SI2018/SI11318.Chn',\n 'sufx': '.chn',\n 'spec_io': None,\n 'pkl_file': WindowsPath('C:/Users/mmaduar/Nextcloud/Genie_Transfer/Si/SI2018/SI11318.pkl'),\n 'gross_spec_ser_an': <generic_series_analysis_class.GenericSeriesAnalysis at 0x17aa0b2a640>,\n 'spec_pks_df': Empty DataFrame\n Columns: []\n Index: []}"
     },
     "execution_count": 42,
     "metadata": {},
     "output_type": "execute_result"
    }
   ],
   "source": [
    "ogra.perform_total_analysis()\n",
    "vars(ogra.a_spec)"
   ],
   "metadata": {
    "collapsed": false
   }
  },
  {
   "cell_type": "code",
   "execution_count": 43,
   "metadata": {},
   "outputs": [],
   "source": [
    "# 2022-Jun-24 Lembrando como estão os defaults de total_analysis(...):\n",
    "# def total_analysis(self, k_sep_pk=2.0, smoo=3000.0, widths_range=(4.0, 20.0)):"
   ]
  },
  {
   "cell_type": "code",
   "execution_count": 44,
   "metadata": {},
   "outputs": [
    {
     "name": "stdout",
     "output_type": "stream",
     "text": [
      "k_sep_pk:  2.0\n",
      "smoo:  4096\n",
      "widths_range:  (4.0, 20.0)\n",
      "=================\n",
      "Exec peaks_search(gross=True), espectro ORIGINAL\n",
      "resolve_peaks_and_regions:\n",
      "define_multiplets_regions completado. Define: self.mix_regions.\n",
      "resolve_peaks_and_regions:\n",
      "define_multiplets_regions completado. Define: self.mix_regions.\n",
      "{'net_spec_ser_an': <generic_series_analysis_class.GenericSeriesAnalysis object at 0x0000017AA0B4B5E0>, 'final_composed_baseline': <generic_series_analysis_class.GenericSeriesAnalysis object at 0x0000017AA0B2A670>, 'f_name': WindowsPath('C:/Users/mmaduar/Nextcloud/Genie_Transfer/Si/SI2018/SI11318.Chn'), 'reduced_f_name': 'Si/SI2018/SI11318.Chn', 'sufx': '.chn', 'spec_io': None, 'pkl_file': WindowsPath('C:/Users/mmaduar/Nextcloud/Genie_Transfer/Si/SI2018/SI11318.pkl'), 'gross_spec_ser_an': <generic_series_analysis_class.GenericSeriesAnalysis object at 0x0000017AA0B4B370>, 'spec_pks_df': Empty DataFrame\n",
      "Columns: []\n",
      "Index: []}\n",
      "['__class__', '__delattr__', '__dict__', '__dir__', '__doc__', '__eq__', '__format__', '__ge__', '__getattribute__', '__gt__', '__hash__', '__init__', '__init_subclass__', '__le__', '__lt__', '__module__', '__ne__', '__new__', '__reduce__', '__reduce_ex__', '__repr__', '__setattr__', '__sizeof__', '__str__', '__subclasshook__', '__weakref__', 'curr_h_win', 'f_name', 'final_composed_baseline', 'generate_pandas_dataframe', 'gross_spec_ser_an', 'net_spec_ser_an', 'pkl_file', 'reduced_f_name', 'spec_io', 'spec_pks_df', 'sufx', 'total_analysis']\n",
      "=================\n",
      "Fez total analysis.\n"
     ]
    }
   ],
   "source": [
    "# smoo=3000 fica razoável, mas faz umas ondas\n",
    "# smoo=1500 fica horrível, faz uns abismos. Quanto menor, pior\n",
    "# smoo=400 fica razoável, mas faz umas ondas\n",
    "ogra.perform_total_analysis(\n",
    "    k_sep_pk=2.0, smoo=4096, widths_range=(4.0, 20.0)\n",
    ")"
   ]
  },
  {
   "cell_type": "code",
   "execution_count": 44,
   "metadata": {},
   "outputs": [],
   "source": []
  },
  {
   "cell_type": "code",
   "execution_count": 45,
   "metadata": {},
   "outputs": [],
   "source": [
    "# 2022-Jun-24 No momento esses são os que interessam:\n",
    "# pann = ogra.a_spec..saw_spec.spec_parms\n",
    "cntarr = ogra.a_spec.net_spec_ser_an.y_s\n",
    "pkprms = ogra.a_spec.net_spec_ser_an.pk_parms"
   ]
  },
  {
   "cell_type": "code",
   "execution_count": 46,
   "metadata": {},
   "outputs": [],
   "source": [
    "# 2022-Jun-14\n",
    "# Verificando o que se tem até agora em a_raw_spec:\n",
    "# (Pode pular e ir direto aos gráficos)"
   ]
  },
  {
   "cell_type": "code",
   "execution_count": 47,
   "metadata": {},
   "outputs": [],
   "source": [
    "\n",
    "# Testes:\n",
    "# https://numpy.org/doc/stable/reference/random/generator.html#distributions\n",
    "# x = np.linspace(0, 10, N) + rng.normal(loc=7, scale=0.05, size=N)\n",
    "# y = np.linspace(22, 23, N)\n",
    "\n",
    "# Busca do canal onde a altura do espectro se \"estabiliza\"\n",
    "# https://numpy.org/doc/stable/reference/routines.sort.html#searching\n",
    "\n",
    "# Escolha do que plotar:\n",
    "# y_plot = noisy_y\n",
    "# y_plot = var_win\n",
    "# y_plot = var_rel"
   ]
  },
  {
   "cell_type": "code",
   "execution_count": 48,
   "metadata": {},
   "outputs": [],
   "source": [
    "# Initialize figure\n",
    "ogra.call_graphics()"
   ]
  },
  {
   "cell_type": "code",
   "execution_count": 49,
   "outputs": [
    {
     "data": {
      "text/plain": "{'k_fwhm_to_sd': 0.42466090014400953,\n 'peaks': array([  52,  111,  131,  282,  294,  384,  434,  570,  597,  699,  760,\n         782,  793,  815,  878,  931,  939,  957, 1013, 1072, 1270, 1334,\n        1512, 1569, 1654, 1671, 1704, 1805, 1892, 1910, 2817, 2939],\n       dtype=int64),\n 'pk_hei': array([], dtype=float64),\n 'widths': (None, None),\n 'mix_regions': array([], dtype=float64),\n 'plateaux': array([], dtype=float64),\n 'fwhm_plateaux': array([], dtype=float64),\n 'wide_regions': array([[  51,   53],\n        [ 109,  114],\n        [ 129,  133],\n        [ 279,  285],\n        [ 291,  296],\n        [ 382,  387],\n        [ 431,  436],\n        [ 567,  573],\n        [ 592,  602],\n        [ 696,  703],\n        [ 757,  763],\n        [ 780,  785],\n        [ 790,  795],\n        [ 812,  817],\n        [ 875,  882],\n        [ 927,  934],\n        [ 936,  941],\n        [ 954,  961],\n        [1010, 1016],\n        [1069, 1075],\n        [1267, 1273],\n        [1331, 1338],\n        [1508, 1515],\n        [1566, 1573],\n        [1651, 1658],\n        [1667, 1675],\n        [1700, 1708],\n        [1801, 1809],\n        [1889, 1897],\n        [1908, 1913],\n        [2814, 2821],\n        [2934, 2945]]),\n 'fwhm_centr': array([  52.06078821,  111.31725067,  131.15172406,  282.27559706,\n         293.66754252,  384.38057638,  433.60906799,  570.18540421,\n         596.82430762,  699.22494125,  760.25018136,  782.26926263,\n         792.84055001,  814.58957808,  878.4632744 ,  930.52853252,\n         938.45305039,  957.43463007, 1012.77878935, 1071.70507041,\n        1269.97565281, 1334.15246527, 1511.52269736, 1569.20126761,\n        1654.43953711, 1670.99935592, 1703.63105348, 1805.06515123,\n        1892.65417474, 1910.4975668 , 2817.39516244, 2939.30514301]),\n 'rough_sums': [539.0507810807409,\n  738.6855107745887,\n  425.59851684215255,\n  784.4887891331748,\n  469.35251257270534,\n  2766.2032772443213,\n  282.25354297723277,\n  325.32721750495807,\n  9888.319423208315,\n  816.0583942238623,\n  5761.031862407108,\n  612.6136533250282,\n  378.8383540001047,\n  841.6095086320648,\n  1333.66897691044,\n  21907.606964605002,\n  413.9394711615448,\n  2712.8730819480543,\n  3528.5874748841325,\n  1692.2068220320414,\n  2877.6553668457127,\n  37918.32208351102,\n  34363.43005909407,\n  945.8220330607211,\n  263.22461468250015,\n  139.62233171020227,\n  418.28306812713834,\n  306.6718776796953,\n  76.74906051840836,\n  84.75017873687483,\n  173.6885457480265,\n  181.9691694344449],\n 'propts': {'peak_heights': array([  450.86452786,   242.66075309,   267.54354938,   234.04036613,\n           197.21182085,  1195.5398243 ,   137.10240422,   146.99062101,\n          2682.46260126,   228.02149794,  2465.95516405,   277.91490548,\n           194.38099689,   368.19568831,   517.80540717,  8108.23579119,\n           179.78183301,   998.28422272,  1460.85122762,   668.91156979,\n          1050.27878345, 14016.97757939, 11362.51806703,   338.727185  ,\n            92.391529  ,    49.13303036,   135.63122339,    87.73131459,\n            26.95574406,    34.1187669 ,    48.38358014,    43.89782888]),\n  'left_thresholds': array([4.50864528e+02, 1.64252516e+02, 2.27132307e+02, 1.29726048e+02,\n         7.65505290e+01, 8.57927595e+02, 2.03833406e+01, 8.25815918e+01,\n         3.69238916e+02, 1.08106004e+02, 1.42068859e+03, 1.75451419e+02,\n         8.35030206e+01, 9.14482343e+01, 3.57442413e+02, 2.77249484e+02,\n         7.18851293e+01, 6.06086560e+02, 4.72762758e+02, 2.02149306e+02,\n         3.78280687e+02, 6.14023302e+03, 5.46381773e+02, 1.53318359e+02,\n         6.10950619e+01, 1.00680515e+01, 5.12365324e+00, 3.00546864e+01,\n         1.60115341e+01, 2.90126324e+01, 2.50116099e+01, 1.20137070e+01]),\n  'right_thresholds': array([3.62678275e+02, 5.27587838e+01, 1.49899825e+02, 6.83377084e+01,\n         1.65488059e+02, 2.51894680e+02, 1.08670329e+02, 5.04310306e+01,\n         6.74043650e+02, 5.38978636e+01, 6.83234536e+02, 8.35183714e+01,\n         1.20801616e+02, 2.66861900e+02, 7.35879426e+01, 5.28870099e+03,\n         1.56107874e+02, 6.27041257e+01, 8.05596503e+02, 3.96271792e+02,\n         3.66518846e+02, 3.71324418e+03, 6.31635615e+03, 8.27453277e+01,\n         1.89176517e+01, 1.79318329e+01, 6.19257349e+01, 7.94614410e+00,\n         1.29888609e+01, 5.98703016e+00, 2.98742698e+00, 7.99142918e+00]),\n  'prominences': array([  450.86452786,   242.66075309,   267.54354938,   234.04036613,\n           197.21182085,  1195.5398243 ,   137.10240422,   146.99062101,\n          2682.46260126,   228.02149794,  2465.95516405,   277.91490548,\n           194.38099689,   368.19568831,   517.80540717,  8108.23579119,\n           179.78183301,   998.28422272,  1460.85122762,   668.91156979,\n          1050.27878345, 14016.97757939, 11362.51806703,   338.727185  ,\n            92.391529  ,    49.13303036,   135.63122339,    87.73131459,\n            26.95574406,    34.1187669 ,    48.38358014,    43.89782888]),\n  'left_bases': array([  51,  107,  129,  278,  290,  377,  432,  568,  589,  675,  756,\n          779,  791,  812,  875,  925,  936,  953, 1008, 1066, 1254, 1321,\n         1492, 1559, 1650, 1669, 1700, 1797, 1890, 1903, 2813, 2933],\n        dtype=int64),\n  'right_bases': array([  54,  118,  133,  289,  299,  399,  436,  573,  604,  717,  769,\n          785,  795,  817,  882,  934,  943,  960, 1017, 1076, 1276, 1340,\n         1516, 1575, 1661, 1674, 1707, 1808, 1897, 1918, 2821, 2943],\n        dtype=int64),\n  'widths': array([1.12157642, 2.11186533, 1.48136751, 2.35530648, 1.85661315,\n         2.15467341, 2.04350006, 2.15075258, 3.46198943, 2.71782046,\n         2.23610915, 2.12252446, 1.92799266, 2.20056754, 2.37518888,\n         2.47605922, 2.24555051, 2.51635856, 2.25579962, 2.27787126,\n         2.62755864, 2.60239571, 2.75350924, 2.64169754, 2.39133277,\n         2.74098608, 2.93108517, 3.27919593, 2.99186987, 2.17113054,\n         2.72476973, 4.13734563]),\n  'width_heights': array([ 225.43226393,  121.33037654,  133.77177469,  117.02018307,\n           98.60591043,  597.76991215,   68.55120211,   73.4953105 ,\n         1341.23130063,  114.01074897, 1232.97758202,  138.95745274,\n           97.19049845,  184.09784416,  258.90270358, 4054.11789559,\n           89.8909165 ,  499.14211136,  730.42561381,  334.4557849 ,\n          525.13939172, 7008.48878969, 5681.25903351,  169.3635925 ,\n           46.1957645 ,   24.56651518,   67.81561169,   43.8656573 ,\n           13.47787203,   17.05938345,   24.19179007,   21.94891444]),\n  'left_ips': array([  51.5       ,  110.261318  ,  130.4110403 ,  281.09794382,\n          292.73923594,  383.30323967,  432.58731796,  569.11002793,\n          595.0933129 ,  697.86603102,  759.13212678,  781.2080004 ,\n          791.87655368,  813.48929431,  877.27567996,  929.29050291,\n          937.33027513,  956.17645078, 1011.65088954, 1070.56613478,\n         1268.66187349, 1332.85126742, 1510.14594274, 1567.88041884,\n         1653.24387073, 1669.62886288, 1702.16551089, 1803.42555326,\n         1891.15823981, 1909.41200153, 2816.03277757, 2937.2364702 ]),\n  'right_ips': array([  52.62157642,  112.37318333,  131.89240781,  283.4532503 ,\n          294.59584909,  385.45791308,  434.63081802,  571.2607805 ,\n          598.55530233,  700.58385148,  761.36823594,  783.33052487,\n          793.80454634,  815.68986185,  879.65086884,  931.76656213,\n          939.57582564,  958.69280935, 1013.90668916, 1072.84400604,\n         1271.28943213, 1335.45366313, 1512.89945198, 1570.52211638,\n         1655.6352035 , 1672.36984897, 1705.09659606, 1806.70474919,\n         1894.15010967, 1911.58313207, 2818.7575473 , 2941.37381582])},\n 'fwhm_centr_ini': array([  51.5       ,  110.261318  ,  130.4110403 ,  281.09794382,\n         292.73923594,  383.30323967,  432.58731796,  569.11002793,\n         595.0933129 ,  697.86603102,  759.13212678,  781.2080004 ,\n         791.87655368,  813.48929431,  877.27567996,  929.29050291,\n         937.33027513,  956.17645078, 1011.65088954, 1070.56613478,\n        1268.66187349, 1332.85126742, 1510.14594274, 1567.88041884,\n        1653.24387073, 1669.62886288, 1702.16551089, 1803.42555326,\n        1891.15823981, 1909.41200153, 2816.03277757, 2937.2364702 ]),\n 'fwhm_centr_fin': array([  52.62157642,  112.37318333,  131.89240781,  283.4532503 ,\n         294.59584909,  385.45791308,  434.63081802,  571.2607805 ,\n         598.55530233,  700.58385148,  761.36823594,  783.33052487,\n         793.80454634,  815.68986185,  879.65086884,  931.76656213,\n         939.57582564,  958.69280935, 1013.90668916, 1072.84400604,\n        1271.28943213, 1335.45366313, 1512.89945198, 1570.52211638,\n        1655.6352035 , 1672.36984897, 1705.09659606, 1806.70474919,\n        1894.15010967, 1911.58313207, 2818.7575473 , 2941.37381582]),\n 'centroids': [52.163595446500494,\n  110.99709771491906,\n  131.181467930498,\n  281.8828217711173,\n  293.6566079302439,\n  384.3987754108286,\n  433.687206801597,\n  570.0634076698615,\n  596.768223488841,\n  699.2427836220478,\n  760.1843572854791,\n  782.200648428771,\n  792.9015448273597,\n  814.5650253276759,\n  878.4370097138993,\n  930.5141031060276,\n  938.5093625398654,\n  957.3646844062489,\n  1012.7842733515824,\n  1071.6995286752156,\n  1269.8728041800007,\n  1334.1184194028456,\n  1511.488586772688,\n  1569.19939784643,\n  1654.5100201578018,\n  1670.9840881368448,\n  1703.586210692418,\n  1804.9499348627828,\n  1892.7057344270577,\n  1910.4199288366506,\n  2817.329682613061,\n  2938.9202845660297],\n 'variances': [4912.700781632066,\n  17997.31448922541,\n  15480.451241044902,\n  20679.511210866825,\n  16904.647487427294,\n  14173.796722755676,\n  9953.64757396402,\n  9682.18571203627,\n  24363.680576791685,\n  10247.941605776137,\n  13120.968137592892,\n  6606.701324447658,\n  6171.292251531154,\n  6453.948680023509,\n  8190.752292470323,\n  28838.093816150224,\n  5643.944206964617,\n  9816.585919670924,\n  10269.412525115868,\n  8963.793177967958,\n  7040.344633154287,\n  40309.67791648898,\n  34916.56994090593,\n  1302.177966939279,\n  544.7753853174999,\n  441.7765590594929,\n  686.9214128241273,\n  527.5004326792913,\n  274.31331347154725,\n  215.24982126312517,\n  214.90044839359868,\n  230.2919387518387],\n 'fwhm_ch_ini': array([  52,  111,  131,  282,  293,  384,  433,  570,  596,  698,  760,\n         782,  792,  814,  878,  930,  938,  957, 1012, 1071, 1269, 1333,\n        1511, 1568, 1654, 1670, 1703, 1804, 1892, 1910, 2817, 2938]),\n 'fwhm_ch_fin': array([  52,  112,  131,  283,  294,  385,  434,  571,  598,  700,  761,\n         783,  793,  815,  879,  931,  939,  958, 1013, 1072, 1271, 1335,\n        1512, 1570, 1655, 1672, 1705, 1806, 1894, 1911, 2818, 2941])}"
     },
     "execution_count": 49,
     "metadata": {},
     "output_type": "execute_result"
    }
   ],
   "source": [
    "vars(pkprms)"
   ],
   "metadata": {
    "collapsed": false
   }
  },
  {
   "cell_type": "code",
   "execution_count": 50,
   "metadata": {},
   "outputs": [],
   "source": [
    "# 2022-Dez-21 Achar o pico de maior área inicial do espectro:"
   ]
  },
  {
   "cell_type": "code",
   "execution_count": 51,
   "outputs": [
    {
     "data": {
      "text/plain": "1334.1184194028456"
     },
     "execution_count": 51,
     "metadata": {},
     "output_type": "execute_result"
    }
   ],
   "source": [
    "largest_pk = np.argmax(pkprms.rough_sums)\n",
    "pkprms.centroids[largest_pk]"
   ],
   "metadata": {
    "collapsed": false
   }
  },
  {
   "cell_type": "code",
   "execution_count": 52,
   "metadata": {},
   "outputs": [
    {
     "data": {
      "text/plain": "3"
     },
     "execution_count": 52,
     "metadata": {},
     "output_type": "execute_result"
    }
   ],
   "source": [
    "# Só pra lembrar como faz divisão inteira\n",
    "21 // 7"
   ]
  },
  {
   "cell_type": "code",
   "execution_count": 53,
   "metadata": {},
   "outputs": [],
   "source": [
    "wi_re = pkprms.wide_regions[largest_pk]\n",
    "x = np.linspace(wi_re[0], wi_re[1], num=wi_re[1]-wi_re[0]+1)\n",
    "y = cntarr[wi_re[0]:wi_re[1]+1]\n",
    "c1 =  pkprms.centroids[largest_pk]\n",
    "s1 = pkprms.propts['widths'][largest_pk]*pkprms.k_fwhm_to_sd\n",
    "a1 = pkprms.rough_sums[largest_pk]\n",
    "# c2 = 313\n",
    "# s2 = 1.5\n",
    "# a2 = 400\n",
    "sste = 2.0"
   ]
  },
  {
   "cell_type": "code",
   "execution_count": 54,
   "outputs": [
    {
     "data": {
      "text/plain": "{'k_fwhm_to_sd': 0.42466090014400953,\n 'peaks': array([  52,  111,  131,  282,  294,  384,  434,  570,  597,  699,  760,\n         782,  793,  815,  878,  931,  939,  957, 1013, 1072, 1270, 1334,\n        1512, 1569, 1654, 1671, 1704, 1805, 1892, 1910, 2817, 2939],\n       dtype=int64),\n 'pk_hei': array([], dtype=float64),\n 'widths': (None, None),\n 'mix_regions': array([], dtype=float64),\n 'plateaux': array([], dtype=float64),\n 'fwhm_plateaux': array([], dtype=float64),\n 'wide_regions': array([[  51,   53],\n        [ 109,  114],\n        [ 129,  133],\n        [ 279,  285],\n        [ 291,  296],\n        [ 382,  387],\n        [ 431,  436],\n        [ 567,  573],\n        [ 592,  602],\n        [ 696,  703],\n        [ 757,  763],\n        [ 780,  785],\n        [ 790,  795],\n        [ 812,  817],\n        [ 875,  882],\n        [ 927,  934],\n        [ 936,  941],\n        [ 954,  961],\n        [1010, 1016],\n        [1069, 1075],\n        [1267, 1273],\n        [1331, 1338],\n        [1508, 1515],\n        [1566, 1573],\n        [1651, 1658],\n        [1667, 1675],\n        [1700, 1708],\n        [1801, 1809],\n        [1889, 1897],\n        [1908, 1913],\n        [2814, 2821],\n        [2934, 2945]]),\n 'fwhm_centr': array([  52.06078821,  111.31725067,  131.15172406,  282.27559706,\n         293.66754252,  384.38057638,  433.60906799,  570.18540421,\n         596.82430762,  699.22494125,  760.25018136,  782.26926263,\n         792.84055001,  814.58957808,  878.4632744 ,  930.52853252,\n         938.45305039,  957.43463007, 1012.77878935, 1071.70507041,\n        1269.97565281, 1334.15246527, 1511.52269736, 1569.20126761,\n        1654.43953711, 1670.99935592, 1703.63105348, 1805.06515123,\n        1892.65417474, 1910.4975668 , 2817.39516244, 2939.30514301]),\n 'rough_sums': [539.0507810807409,\n  738.6855107745887,\n  425.59851684215255,\n  784.4887891331748,\n  469.35251257270534,\n  2766.2032772443213,\n  282.25354297723277,\n  325.32721750495807,\n  9888.319423208315,\n  816.0583942238623,\n  5761.031862407108,\n  612.6136533250282,\n  378.8383540001047,\n  841.6095086320648,\n  1333.66897691044,\n  21907.606964605002,\n  413.9394711615448,\n  2712.8730819480543,\n  3528.5874748841325,\n  1692.2068220320414,\n  2877.6553668457127,\n  37918.32208351102,\n  34363.43005909407,\n  945.8220330607211,\n  263.22461468250015,\n  139.62233171020227,\n  418.28306812713834,\n  306.6718776796953,\n  76.74906051840836,\n  84.75017873687483,\n  173.6885457480265,\n  181.9691694344449],\n 'propts': {'peak_heights': array([  450.86452786,   242.66075309,   267.54354938,   234.04036613,\n           197.21182085,  1195.5398243 ,   137.10240422,   146.99062101,\n          2682.46260126,   228.02149794,  2465.95516405,   277.91490548,\n           194.38099689,   368.19568831,   517.80540717,  8108.23579119,\n           179.78183301,   998.28422272,  1460.85122762,   668.91156979,\n          1050.27878345, 14016.97757939, 11362.51806703,   338.727185  ,\n            92.391529  ,    49.13303036,   135.63122339,    87.73131459,\n            26.95574406,    34.1187669 ,    48.38358014,    43.89782888]),\n  'left_thresholds': array([4.50864528e+02, 1.64252516e+02, 2.27132307e+02, 1.29726048e+02,\n         7.65505290e+01, 8.57927595e+02, 2.03833406e+01, 8.25815918e+01,\n         3.69238916e+02, 1.08106004e+02, 1.42068859e+03, 1.75451419e+02,\n         8.35030206e+01, 9.14482343e+01, 3.57442413e+02, 2.77249484e+02,\n         7.18851293e+01, 6.06086560e+02, 4.72762758e+02, 2.02149306e+02,\n         3.78280687e+02, 6.14023302e+03, 5.46381773e+02, 1.53318359e+02,\n         6.10950619e+01, 1.00680515e+01, 5.12365324e+00, 3.00546864e+01,\n         1.60115341e+01, 2.90126324e+01, 2.50116099e+01, 1.20137070e+01]),\n  'right_thresholds': array([3.62678275e+02, 5.27587838e+01, 1.49899825e+02, 6.83377084e+01,\n         1.65488059e+02, 2.51894680e+02, 1.08670329e+02, 5.04310306e+01,\n         6.74043650e+02, 5.38978636e+01, 6.83234536e+02, 8.35183714e+01,\n         1.20801616e+02, 2.66861900e+02, 7.35879426e+01, 5.28870099e+03,\n         1.56107874e+02, 6.27041257e+01, 8.05596503e+02, 3.96271792e+02,\n         3.66518846e+02, 3.71324418e+03, 6.31635615e+03, 8.27453277e+01,\n         1.89176517e+01, 1.79318329e+01, 6.19257349e+01, 7.94614410e+00,\n         1.29888609e+01, 5.98703016e+00, 2.98742698e+00, 7.99142918e+00]),\n  'prominences': array([  450.86452786,   242.66075309,   267.54354938,   234.04036613,\n           197.21182085,  1195.5398243 ,   137.10240422,   146.99062101,\n          2682.46260126,   228.02149794,  2465.95516405,   277.91490548,\n           194.38099689,   368.19568831,   517.80540717,  8108.23579119,\n           179.78183301,   998.28422272,  1460.85122762,   668.91156979,\n          1050.27878345, 14016.97757939, 11362.51806703,   338.727185  ,\n            92.391529  ,    49.13303036,   135.63122339,    87.73131459,\n            26.95574406,    34.1187669 ,    48.38358014,    43.89782888]),\n  'left_bases': array([  51,  107,  129,  278,  290,  377,  432,  568,  589,  675,  756,\n          779,  791,  812,  875,  925,  936,  953, 1008, 1066, 1254, 1321,\n         1492, 1559, 1650, 1669, 1700, 1797, 1890, 1903, 2813, 2933],\n        dtype=int64),\n  'right_bases': array([  54,  118,  133,  289,  299,  399,  436,  573,  604,  717,  769,\n          785,  795,  817,  882,  934,  943,  960, 1017, 1076, 1276, 1340,\n         1516, 1575, 1661, 1674, 1707, 1808, 1897, 1918, 2821, 2943],\n        dtype=int64),\n  'widths': array([1.12157642, 2.11186533, 1.48136751, 2.35530648, 1.85661315,\n         2.15467341, 2.04350006, 2.15075258, 3.46198943, 2.71782046,\n         2.23610915, 2.12252446, 1.92799266, 2.20056754, 2.37518888,\n         2.47605922, 2.24555051, 2.51635856, 2.25579962, 2.27787126,\n         2.62755864, 2.60239571, 2.75350924, 2.64169754, 2.39133277,\n         2.74098608, 2.93108517, 3.27919593, 2.99186987, 2.17113054,\n         2.72476973, 4.13734563]),\n  'width_heights': array([ 225.43226393,  121.33037654,  133.77177469,  117.02018307,\n           98.60591043,  597.76991215,   68.55120211,   73.4953105 ,\n         1341.23130063,  114.01074897, 1232.97758202,  138.95745274,\n           97.19049845,  184.09784416,  258.90270358, 4054.11789559,\n           89.8909165 ,  499.14211136,  730.42561381,  334.4557849 ,\n          525.13939172, 7008.48878969, 5681.25903351,  169.3635925 ,\n           46.1957645 ,   24.56651518,   67.81561169,   43.8656573 ,\n           13.47787203,   17.05938345,   24.19179007,   21.94891444]),\n  'left_ips': array([  51.5       ,  110.261318  ,  130.4110403 ,  281.09794382,\n          292.73923594,  383.30323967,  432.58731796,  569.11002793,\n          595.0933129 ,  697.86603102,  759.13212678,  781.2080004 ,\n          791.87655368,  813.48929431,  877.27567996,  929.29050291,\n          937.33027513,  956.17645078, 1011.65088954, 1070.56613478,\n         1268.66187349, 1332.85126742, 1510.14594274, 1567.88041884,\n         1653.24387073, 1669.62886288, 1702.16551089, 1803.42555326,\n         1891.15823981, 1909.41200153, 2816.03277757, 2937.2364702 ]),\n  'right_ips': array([  52.62157642,  112.37318333,  131.89240781,  283.4532503 ,\n          294.59584909,  385.45791308,  434.63081802,  571.2607805 ,\n          598.55530233,  700.58385148,  761.36823594,  783.33052487,\n          793.80454634,  815.68986185,  879.65086884,  931.76656213,\n          939.57582564,  958.69280935, 1013.90668916, 1072.84400604,\n         1271.28943213, 1335.45366313, 1512.89945198, 1570.52211638,\n         1655.6352035 , 1672.36984897, 1705.09659606, 1806.70474919,\n         1894.15010967, 1911.58313207, 2818.7575473 , 2941.37381582])},\n 'fwhm_centr_ini': array([  51.5       ,  110.261318  ,  130.4110403 ,  281.09794382,\n         292.73923594,  383.30323967,  432.58731796,  569.11002793,\n         595.0933129 ,  697.86603102,  759.13212678,  781.2080004 ,\n         791.87655368,  813.48929431,  877.27567996,  929.29050291,\n         937.33027513,  956.17645078, 1011.65088954, 1070.56613478,\n        1268.66187349, 1332.85126742, 1510.14594274, 1567.88041884,\n        1653.24387073, 1669.62886288, 1702.16551089, 1803.42555326,\n        1891.15823981, 1909.41200153, 2816.03277757, 2937.2364702 ]),\n 'fwhm_centr_fin': array([  52.62157642,  112.37318333,  131.89240781,  283.4532503 ,\n         294.59584909,  385.45791308,  434.63081802,  571.2607805 ,\n         598.55530233,  700.58385148,  761.36823594,  783.33052487,\n         793.80454634,  815.68986185,  879.65086884,  931.76656213,\n         939.57582564,  958.69280935, 1013.90668916, 1072.84400604,\n        1271.28943213, 1335.45366313, 1512.89945198, 1570.52211638,\n        1655.6352035 , 1672.36984897, 1705.09659606, 1806.70474919,\n        1894.15010967, 1911.58313207, 2818.7575473 , 2941.37381582]),\n 'centroids': [52.163595446500494,\n  110.99709771491906,\n  131.181467930498,\n  281.8828217711173,\n  293.6566079302439,\n  384.3987754108286,\n  433.687206801597,\n  570.0634076698615,\n  596.768223488841,\n  699.2427836220478,\n  760.1843572854791,\n  782.200648428771,\n  792.9015448273597,\n  814.5650253276759,\n  878.4370097138993,\n  930.5141031060276,\n  938.5093625398654,\n  957.3646844062489,\n  1012.7842733515824,\n  1071.6995286752156,\n  1269.8728041800007,\n  1334.1184194028456,\n  1511.488586772688,\n  1569.19939784643,\n  1654.5100201578018,\n  1670.9840881368448,\n  1703.586210692418,\n  1804.9499348627828,\n  1892.7057344270577,\n  1910.4199288366506,\n  2817.329682613061,\n  2938.9202845660297],\n 'variances': [4912.700781632066,\n  17997.31448922541,\n  15480.451241044902,\n  20679.511210866825,\n  16904.647487427294,\n  14173.796722755676,\n  9953.64757396402,\n  9682.18571203627,\n  24363.680576791685,\n  10247.941605776137,\n  13120.968137592892,\n  6606.701324447658,\n  6171.292251531154,\n  6453.948680023509,\n  8190.752292470323,\n  28838.093816150224,\n  5643.944206964617,\n  9816.585919670924,\n  10269.412525115868,\n  8963.793177967958,\n  7040.344633154287,\n  40309.67791648898,\n  34916.56994090593,\n  1302.177966939279,\n  544.7753853174999,\n  441.7765590594929,\n  686.9214128241273,\n  527.5004326792913,\n  274.31331347154725,\n  215.24982126312517,\n  214.90044839359868,\n  230.2919387518387],\n 'fwhm_ch_ini': array([  52,  111,  131,  282,  293,  384,  433,  570,  596,  698,  760,\n         782,  792,  814,  878,  930,  938,  957, 1012, 1071, 1269, 1333,\n        1511, 1568, 1654, 1670, 1703, 1804, 1892, 1910, 2817, 2938]),\n 'fwhm_ch_fin': array([  52,  112,  131,  283,  294,  385,  434,  571,  598,  700,  761,\n         783,  793,  815,  879,  931,  939,  958, 1013, 1072, 1271, 1335,\n        1512, 1570, 1655, 1672, 1705, 1806, 1894, 1911, 2818, 2941])}"
     },
     "execution_count": 54,
     "metadata": {},
     "output_type": "execute_result"
    }
   ],
   "source": [
    "vars(pkprms)"
   ],
   "metadata": {
    "collapsed": false
   }
  },
  {
   "cell_type": "code",
   "execution_count": 54,
   "outputs": [],
   "source": [],
   "metadata": {
    "collapsed": false
   }
  },
  {
   "cell_type": "code",
   "execution_count": 55,
   "metadata": {},
   "outputs": [
    {
     "name": "stdout",
     "output_type": "stream",
     "text": [
      "[[Model]]\n",
      "    Model(gaussian, prefix='g1_')\n",
      "[[Fit Statistics]]\n",
      "    # fitting method   = leastsq\n",
      "    # function evals   = 17\n",
      "    # data points      = 8\n",
      "    # variables        = 3\n",
      "    chi-square         = 65404.4594\n",
      "    reduced chi-square = 13080.8919\n",
      "    Akaike info crit   = 78.0712334\n",
      "    Bayesian info crit = 78.3095581\n",
      "    R-squared          = 0.99967060\n",
      "[[Variables]]\n",
      "    g1_amplitude:  37830.1631 +/- 272.363652 (0.72%) (init = 37918.32)\n",
      "    g1_center:     1334.14378 +/- 0.00887867 (0.00%) (init = 1334.118)\n",
      "    g1_sigma:      1.06743447 +/- 0.00886322 (0.83%) (init = 1.105136)\n",
      "    g1_fwhm:       2.51361604 +/- 0.02087129 (0.83%) == '2.3548200*g1_sigma'\n",
      "    g1_height:     14138.6218 +/- 101.768105 (0.72%) == '0.3989423*g1_amplitude/max(1e-15, g1_sigma)'\n",
      "[[Correlations]] (unreported correlations are < 0.100)\n",
      "    C(g1_amplitude, g1_sigma) = 0.577\n"
     ]
    },
    {
     "data": {
      "text/plain": "<matplotlib.legend.Legend at 0x17aa0a1c190>"
     },
     "execution_count": 55,
     "metadata": {},
     "output_type": "execute_result"
    },
    {
     "data": {
      "text/plain": "<Figure size 2000x1600 with 2 Axes>",
      "image/png": "[encoded data removed]"
     },
     "metadata": {},
     "output_type": "display_data"
    }
   ],
   "source": [
    "pars = Parameters()\n",
    "\n",
    "# line_mod = LinearModel(prefix='line_')\n",
    "# pars.update(line_mod.make_params())\n",
    "# pars['line_intercept'].set(value=200, min=50, max=400)\n",
    "# pars['line_slope'].set(value=0, min=-0.001, max=0.001)\n",
    "                      \n",
    "# exp_mod = ExponentialModel(prefix='exp_')\n",
    "# pars = exp_mod.guess(y, x=x)\n",
    "\n",
    "gauss1 = GaussianModel(prefix='g1_')\n",
    "pars.update(gauss1.make_params())\n",
    "pars['g1_center'].set(value=c1, min=c1-2, max=c1+2)\n",
    "pars['g1_sigma'].set(value=s1, min=0.5, max=10)\n",
    "pars['g1_amplitude'].set(value=a1, min=10)\n",
    "\n",
    "# mod = gauss1 + gauss2 + line_mod - step_mod\n",
    "# mod = gauss1 + gauss2 - step_mod\n",
    "mod = gauss1\n",
    "\n",
    "init = mod.eval(pars, x=x)\n",
    "out = mod.fit(y, pars, x=x)\n",
    "\n",
    "print(out.fit_report(min_correl=0.1))\n",
    "\n",
    "fig, axes = plt.subplots(1, 2, figsize=(20, 16))\n",
    "axes[0].set_yscale('log')\n",
    "axes[1].set_yscale('log')\n",
    "axes[0].set_ylim([10, 2.5e6])\n",
    "axes[1].set_ylim([10, 2.5e6])\n",
    "\n",
    "axes[0].plot(x, y, 'b')\n",
    "axes[0].plot(x, init, 'k--', label='initial fit')\n",
    "axes[0].plot(x, out.best_fit, 'r-', label='best fit')\n",
    "axes[0].legend(loc='best')\n",
    "\n",
    "comps = out.eval_components(x=x)\n",
    "axes[1].plot(x, y, 'b')\n",
    "axes[1].plot(x, comps['g1_'], 'g--', label='Gaussian component 1')\n",
    "# axes[1].plot(x, comps['g2_'], 'm--', label='Gaussian component 2')\n",
    "# axes[1].plot(x, comps['line_'], 'k--', label='Linear component')\n",
    "# axes[1].plot(x, -comps['step_'], 'r--', label='Step component')\n",
    "# axes[1].plot(x, comps['exp_'], 'k--', label='Exponential component')\n",
    "axes[1].legend(loc='best')\n",
    "\n",
    "# plt.show()\n",
    "# <end examples/doc_builtinmodels_nistgauss.py>"
   ]
  },
  {
   "cell_type": "code",
   "execution_count": 56,
   "metadata": {},
   "outputs": [
    {
     "ename": "SyntaxError",
     "evalue": "invalid syntax (1926381993.py, line 1)",
     "output_type": "error",
     "traceback": [
      "\u001B[1;36m  Cell \u001B[1;32mIn[56], line 1\u001B[1;36m\u001B[0m\n\u001B[1;33m    xfgn sr hsrthf srth\u001B[0m\n\u001B[1;37m         ^\u001B[0m\n\u001B[1;31mSyntaxError\u001B[0m\u001B[1;31m:\u001B[0m invalid syntax\n"
     ]
    }
   ],
   "source": [
    "xfgn sr hsrthf srth"
   ]
  },
  {
   "cell_type": "code",
   "execution_count": null,
   "metadata": {},
   "outputs": [],
   "source": [
    "\n",
    "# 2022-Dez-21:\n",
    "# PAREI AQUI;\n",
    "# Usar os resultados de áreas dos picos e montar as curvas de eficiência\n",
    "\n",
    "# 2022-Mar-16\n",
    "# Fazendo ajuste polinomial nas eficiências:"
   ]
  },
  {
   "cell_type": "code",
   "execution_count": null,
   "metadata": {},
   "outputs": [],
   "source": [
    "from numpy.polynomial import Polynomial as P # 2020-09-06 Esta é a nova classe recomendada "
   ]
  },
  {
   "cell_type": "code",
   "execution_count": null,
   "metadata": {},
   "outputs": [],
   "source": [
    "En_CV_LoBg = np.array([81.00,\n",
    "86.54,\n",
    "121.78,\n",
    "133.51,\n",
    "302.85,\n",
    "344.28,\n",
    "356.02,\n",
    "604.69,\n",
    "661.66,\n",
    "795.84,\n",
    "964.13,\n",
    "1085.91,\n",
    "1112.12,\n",
    "1173.24,\n",
    "1332.50,\n",
    "1408.01\n",
    "])\n",
    "En_CV_GMX"
   ]
  },
  {
   "cell_type": "code",
   "execution_count": null,
   "metadata": {},
   "outputs": [],
   "source": [
    "Eff_CV_LoBg = np.array([4.4358,\n",
    "4.4723,\n",
    "5.4386,\n",
    "5.5045,\n",
    "3.1379,\n",
    "2.8722,\n",
    "2.7305,\n",
    "1.7817,\n",
    "1.6453,\n",
    "1.4026,\n",
    "1.1216,\n",
    "1.0200,\n",
    "0.9703,\n",
    "0.8962,\n",
    "0.8009,\n",
    "0.7397 ])\n",
    "Eff_CV_GMX"
   ]
  },
  {
   "cell_type": "code",
   "execution_count": null,
   "metadata": {},
   "outputs": [],
   "source": [
    "unc_perc = np.array([2.01,\n",
    "1.43,\n",
    "1.33,\n",
    "2.11,\n",
    "1.81,\n",
    "1.42,\n",
    "1.41,\n",
    "2.24,\n",
    "1.44,\n",
    "3.68,\n",
    "1.66,\n",
    "1.71,\n",
    "1.58,\n",
    "0.87,\n",
    "0.87,\n",
    "1.51 ])\n",
    "unc_perc"
   ]
  },
  {
   "cell_type": "code",
   "execution_count": null,
   "metadata": {},
   "outputs": [],
   "source": [
    "ln_En_CV_LoBg = np.log (En_CV_LoBg)\n",
    "ln_Eff_CV_LoBg = np.log (Eff_CV_LoBg)"
   ]
  },
  {
   "cell_type": "code",
   "execution_count": null,
   "metadata": {},
   "outputs": [],
   "source": [
    "N = 16"
   ]
  },
  {
   "cell_type": "code",
   "execution_count": null,
   "metadata": {},
   "outputs": [],
   "source": []
  },
  {
   "cell_type": "code",
   "execution_count": null,
   "metadata": {},
   "outputs": [],
   "source": [
    "# 2022-Mar-23\n",
    "# Parêntese para fazer nova calibração canal-energia do HPGe do projeto:"
   ]
  },
  {
   "cell_type": "code",
   "execution_count": null,
   "metadata": {},
   "outputs": [],
   "source": [
    "canal = np.array([210, 920, 1181, 7232])\n",
    "ener = np.array([46.5, 186, 238.6, 1460.8])"
   ]
  },
  {
   "cell_type": "code",
   "execution_count": null,
   "metadata": {},
   "outputs": [],
   "source": [
    "projeto = P.fit(x=canal, y=ener, deg=1).convert()\n",
    "projeto"
   ]
  },
  {
   "cell_type": "code",
   "execution_count": null,
   "metadata": {},
   "outputs": [],
   "source": [
    "projeto_ener_canal = P.fit(x=ener, y=canal, deg=1).convert()\n",
    "projeto_ener_canal"
   ]
  },
  {
   "cell_type": "code",
   "execution_count": null,
   "metadata": {},
   "outputs": [],
   "source": [
    "projeto_ener_canal(1173.2)"
   ]
  },
  {
   "cell_type": "code",
   "execution_count": null,
   "metadata": {},
   "outputs": [],
   "source": [
    "projeto_ener_canal(1332.486)"
   ]
  },
  {
   "cell_type": "code",
   "execution_count": null,
   "metadata": {},
   "outputs": [],
   "source": []
  },
  {
   "cell_type": "code",
   "execution_count": null,
   "metadata": {},
   "outputs": [],
   "source": []
  },
  {
   "cell_type": "code",
   "execution_count": null,
   "metadata": {},
   "outputs": [],
   "source": []
  },
  {
   "cell_type": "code",
   "execution_count": null,
   "metadata": {},
   "outputs": [],
   "source": [
    "P.fit(x=ln_En_CV_LoBg, y=ln_Eff_CV_LoBg, deg=5).convert()"
   ]
  },
  {
   "cell_type": "code",
   "execution_count": null,
   "metadata": {},
   "outputs": [],
   "source": [
    "poly_w = P.fit(x=ln_En_CV_LoBg, y=ln_Eff_CV_LoBg, deg=5, w=1/unc_perc).convert()\n",
    "poly_w"
   ]
  },
  {
   "cell_type": "code",
   "execution_count": null,
   "metadata": {},
   "outputs": [],
   "source": [
    "poly_w = P.fit(x=ln_En_CV_LoBg, y=ln_Eff_CV_LoBg, deg=5, w=1/unc_perc**2).convert()\n",
    "poly_w"
   ]
  },
  {
   "cell_type": "code",
   "execution_count": null,
   "metadata": {},
   "outputs": [],
   "source": [
    "print(poly_w)"
   ]
  },
  {
   "cell_type": "code",
   "execution_count": null,
   "metadata": {},
   "outputs": [],
   "source": [
    "poly_o = P.fit(x=ln_En_CV_LoBg, y=Eff_CV_LoBg, deg=5)\n",
    "print(poly_o)"
   ]
  },
  {
   "cell_type": "code",
   "execution_count": null,
   "metadata": {},
   "outputs": [],
   "source": [
    "weights = np.linspace(1, 2, N)\n",
    "Xw = X * np.sqrt(weights)[:, None]\n",
    "yw = y * np.sqrt(weights)\n",
    "print (linalg.lstsq(Xw, yw)[0])"
   ]
  },
  {
   "cell_type": "code",
   "execution_count": null,
   "metadata": {},
   "outputs": [],
   "source": [
    "weights = 1.0 / unc_perc**2.0\n",
    "weights"
   ]
  },
  {
   "cell_type": "code",
   "execution_count": null,
   "metadata": {},
   "outputs": [],
   "source": [
    "Xw = ln_En_CV_LoBg * np.sqrt(weights)[:, None]\n",
    "yw = ln_Eff_CV_LoBg * np.sqrt(weights)\n",
    "print (linalg.lstsq(Xw, yw)[0])"
   ]
  },
  {
   "cell_type": "code",
   "execution_count": null,
   "metadata": {},
   "outputs": [],
   "source": [
    "print (linalg.lstsq(Xw, yw))"
   ]
  },
  {
   "cell_type": "code",
   "execution_count": null,
   "metadata": {},
   "outputs": [],
   "source": [
    "X = ln_En_CV_LoBg\n",
    "y = ln_Eff_CV_LoBg\n",
    "w1 = linalg.lstsq(X, y)\n",
    "print (w1)"
   ]
  },
  {
   "cell_type": "code",
   "execution_count": null,
   "metadata": {},
   "outputs": [],
   "source": [
    "np.log(2)"
   ]
  },
  {
   "cell_type": "code",
   "execution_count": null,
   "metadata": {},
   "outputs": [],
   "source": []
  },
  {
   "cell_type": "code",
   "execution_count": null,
   "metadata": {},
   "outputs": [],
   "source": [
    "# Figure 3\n",
    "figw3 = go.FigureWidget();\n",
    "figw3.add_trace(\n",
    "    go.Scatter(x=chans,\n",
    "               y=ys_net_counts,\n",
    "               name=\"Net counts\",\n",
    "               line=dict(color='green',width=0.5)));\n",
    "figw3.add_trace(\n",
    "    go.Scatter(x=peaks_net,\n",
    "               y=ys_net_counts[peaks_net],\n",
    "               mode=\"markers\",\n",
    "               name=\"net peaks\",\n",
    "               marker=dict(color='cyan',\n",
    "                           symbol='cross',\n",
    "                           size=15,\n",
    "                           opacity=0.7,\n",
    "                           line=dict(color='magenta', width=2.0)\n",
    "                          )\n",
    "              ));\n",
    "figw3.add_trace(\n",
    "    go.Scatter(x=peaks_1,\n",
    "               y=counts[peaks_1],\n",
    "               mode=\"markers\",\n",
    "               name=\"gross peaks\",\n",
    "               marker=dict(color='lightblue',\n",
    "                           symbol='cross',\n",
    "                           size=15,\n",
    "                           opacity=0.7,\n",
    "                           line=dict(color='green', width=2.0)\n",
    "                          )\n",
    "              ));\n",
    "# Set title and scale type\n",
    "figw3.update_layout(title_text=\"Gamma-ray net spectrum\")\n",
    "figw3.update_yaxes(type=\"log\");"
   ]
  },
  {
   "cell_type": "code",
   "execution_count": null,
   "metadata": {},
   "outputs": [],
   "source": [
    "figw3.write_html('figw3.html', auto_open=True)"
   ]
  },
  {
   "cell_type": "code",
   "execution_count": null,
   "metadata": {},
   "outputs": [],
   "source": [
    "# Essa será a 1b\n",
    "figw1 = go.FigureWidget();\n",
    "\n",
    "# Add Traces\n",
    "\n",
    "figw1.add_trace(\n",
    "    go.Scatter(x=chans_nzero,\n",
    "               y=counts_nzero,\n",
    "               error_y=dict(\n",
    "                   color='orange',width=3.0,\n",
    "                   type='data', # value of error bar given in data coordinates\n",
    "                   array=unc_y,\n",
    "                   visible=True),\n",
    "               name=\"Counts & uncertaintes\",\n",
    "               line=dict(color='orange',width=0.3)));\n",
    "\n",
    "figw1.add_trace(\n",
    "    go.Scatter(x=chans,\n",
    "               y=eval_y,\n",
    "               name=\"eval_y\",\n",
    "               line=dict(color='blue',width=0.5)));\n",
    "\n",
    "figw1.add_trace(\n",
    "    go.Scatter(x=peaks_1,\n",
    "               y=counts[peaks_1],\n",
    "               mode=\"markers\",\n",
    "               name=\"peaks\",\n",
    "               marker=dict(color='cyan',\n",
    "                           symbol='cross',\n",
    "                           size=20,\n",
    "                           opacity=0.5,\n",
    "                           line=dict(color='red', width=2.0)\n",
    "                          )\n",
    "              ));\n",
    "figw1.add_trace(\n",
    "    go.Scatter(x=peaks_net,\n",
    "               y=counts[peaks_net],\n",
    "               mode=\"markers\",\n",
    "               name=\"net peaks\",\n",
    "               marker=dict(color='red',\n",
    "                           symbol='circle',\n",
    "                           size=20,\n",
    "                           opacity=0.4,\n",
    "                           line=dict(color='green', width=2.0)\n",
    "                          )\n",
    "              ));\n",
    "\n",
    "figw4.add_trace(\n",
    "    go.Scatter(x=inis,\n",
    "               y=eval_y[inis],\n",
    "               mode=\"markers\",\n",
    "               name=\"inis\",\n",
    "               marker=dict(color='yellow',\n",
    "                           symbol='pentagon',\n",
    "                           size=10,\n",
    "                           opacity=1.0,\n",
    "                           line=dict(color='green', width=2.0)\n",
    "                          )\n",
    "              ));\n",
    "\n",
    "figw1.add_trace(\n",
    "    go.Scatter(x=fins,\n",
    "               y=eval_y[fins],\n",
    "               mode=\"markers\",\n",
    "               name=\"fins\",\n",
    "               marker=dict(color='cyan',\n",
    "                           symbol='star-triangle-down',\n",
    "                           size=10,\n",
    "                           opacity=1.0,\n",
    "                           line=dict(color='red', width=2.0)\n",
    "                          )\n",
    "              ));\n",
    "\n",
    "figw1.add_trace(\n",
    "    go.Scatter(x=xs_step_bline,\n",
    "               y=ys_step_bline,\n",
    "               name=\"Step baseline\",\n",
    "               line=dict(color='navy',width=0.4)));\n",
    "\n",
    "# Set title and scale type\n",
    "figw1.update_layout(title_text=\"Gamma-ray spectrum excerpt\")\n",
    "figw1.update_yaxes(type=\"log\");\n",
    "\n",
    "# Melhor não abrir inline, que seria simplesmente entrar com o nome do objeto:\n",
    "# figw2\n",
    "# Além de ficar com visualização incômoda, não funciona no JupyterLab; dá o erro:\n",
    "# Error displaying widget: model not found."
   ]
  },
  {
   "cell_type": "code",
   "execution_count": null,
   "metadata": {},
   "outputs": [],
   "source": [
    "figw4.write_html('figw4.html', auto_open=True)"
   ]
  }
 ],
 "metadata": {
  "kernelspec": {
   "display_name": "Python 3",
   "language": "python",
   "name": "python3"
  },
  "language_info": {
   "codemirror_mode": {
    "name": "ipython",
    "version": 3
   },
   "file_extension": ".py",
   "mimetype": "text/x-python",
   "name": "python",
   "nbconvert_exporter": "python",
   "pygments_lexer": "ipython3",
   "version": "3.7.3"
  }
 },
 "nbformat": 4,
 "nbformat_minor": 5
}
