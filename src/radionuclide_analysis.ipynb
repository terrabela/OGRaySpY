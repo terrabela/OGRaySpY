{
 "cells": [
  {
   "cell_type": "code",
   "execution_count": 1,
   "id": "e358da32",
   "metadata": {
    "ExecuteTime": {
     "start_time": "2023-04-05T17:20:11.827507Z",
     "end_time": "2023-04-05T17:20:11.843220Z"
    }
   },
   "outputs": [],
   "source": [
    "# 2022-Dez-28\n",
    "# Jupyter notebook for tests with OGRaySpY modules"
   ]
  },
  {
   "cell_type": "code",
   "execution_count": 2,
   "id": "15a2f1e2",
   "metadata": {
    "ExecuteTime": {
     "start_time": "2023-04-05T17:20:13.654268Z",
     "end_time": "2023-04-05T17:20:22.010349Z"
    }
   },
   "outputs": [
    {
     "name": "stdout",
     "output_type": "stream",
     "text": [
      "Requirement already satisfied: pip in c:\\users\\mmaduar\\pycharmprojects\\ograyspy\\venv\\lib\\site-packages (23.0.1)Note: you may need to restart the kernel to use updated packages.\n",
      "\n"
     ]
    }
   ],
   "source": [
    "pip install --upgrade pip"
   ]
  },
  {
   "cell_type": "code",
   "execution_count": 3,
   "id": "eb3dbca3",
   "metadata": {
    "ExecuteTime": {
     "start_time": "2023-04-05T17:20:27.936898Z",
     "end_time": "2023-04-05T17:20:31.071202Z"
    }
   },
   "outputs": [
    {
     "name": "stdout",
     "output_type": "stream",
     "text": [
      "Requirement already satisfied: lmfit in c:\\users\\mmaduar\\pycharmprojects\\ograyspy\\venv\\lib\\site-packages (1.1.0)\n",
      "Requirement already satisfied: asteval>=0.9.28 in c:\\users\\mmaduar\\pycharmprojects\\ograyspy\\venv\\lib\\site-packages (from lmfit) (0.9.28)\n",
      "Requirement already satisfied: uncertainties>=3.1.4 in c:\\users\\mmaduar\\pycharmprojects\\ograyspy\\venv\\lib\\site-packages (from lmfit) (3.1.7)\n",
      "Requirement already satisfied: numpy>=1.19 in c:\\users\\mmaduar\\pycharmprojects\\ograyspy\\venv\\lib\\site-packages (from lmfit) (1.23.5)\n",
      "Requirement already satisfied: scipy>=1.6 in c:\\users\\mmaduar\\pycharmprojects\\ograyspy\\venv\\lib\\site-packages (from lmfit) (1.9.3)\n",
      "Requirement already satisfied: future in c:\\users\\mmaduar\\pycharmprojects\\ograyspy\\venv\\lib\\site-packages (from uncertainties>=3.1.4->lmfit) (0.18.2)\n",
      "Note: you may need to restart the kernel to use updated packages.\n"
     ]
    }
   ],
   "source": [
    "pip install lmfit"
   ]
  },
  {
   "cell_type": "code",
   "execution_count": 4,
   "id": "d9f72441",
   "metadata": {
    "ExecuteTime": {
     "start_time": "2023-04-05T17:20:35.047751Z",
     "end_time": "2023-04-05T17:20:38.262627Z"
    }
   },
   "outputs": [
    {
     "name": "stdout",
     "output_type": "stream",
     "text": [
      "Requirement already satisfied: odfpy in c:\\users\\mmaduar\\pycharmprojects\\ograyspy\\venv\\lib\\site-packages (1.4.1)\n",
      "Requirement already satisfied: defusedxml in c:\\users\\mmaduar\\pycharmprojects\\ograyspy\\venv\\lib\\site-packages (from odfpy) (0.7.1)\n",
      "Note: you may need to restart the kernel to use updated packages.\n"
     ]
    }
   ],
   "source": [
    "pip install odfpy"
   ]
  },
  {
   "cell_type": "code",
   "execution_count": 5,
   "id": "4711bf0f",
   "metadata": {
    "ExecuteTime": {
     "start_time": "2023-04-05T17:20:53.102257Z",
     "end_time": "2023-04-05T17:20:58.587804Z"
    }
   },
   "outputs": [
    {
     "name": "stdout",
     "output_type": "stream",
     "text": [
      "Collecting cythonNote: you may need to restart the kernel to use updated packages.\n",
      "\n",
      "  Downloading Cython-0.29.34-py2.py3-none-any.whl (988 kB)\n",
      "     ------------------------------------- 988.1/988.1 kB 12.5 MB/s eta 0:00:00\n",
      "Installing collected packages: cython\n",
      "Successfully installed cython-0.29.34\n"
     ]
    }
   ],
   "source": [
    "pip install cython"
   ]
  },
  {
   "cell_type": "code",
   "execution_count": 6,
   "id": "1bdf2da7",
   "metadata": {
    "ExecuteTime": {
     "start_time": "2023-04-05T17:21:13.989626Z",
     "end_time": "2023-04-05T17:21:17.159528Z"
    }
   },
   "outputs": [
    {
     "name": "stdout",
     "output_type": "stream",
     "text": [
      "Requirement already satisfied: debugpy in c:\\users\\mmaduar\\pycharmprojects\\ograyspy\\venv\\lib\\site-packages (1.6.4)\n",
      "Note: you may need to restart the kernel to use updated packages.\n"
     ]
    }
   ],
   "source": [
    "pip install debugpy"
   ]
  },
  {
   "cell_type": "code",
   "execution_count": 7,
   "id": "961f03bd",
   "metadata": {
    "ExecuteTime": {
     "start_time": "2023-04-05T17:21:24.670627Z",
     "end_time": "2023-04-05T17:22:59.726017Z"
    }
   },
   "outputs": [
    {
     "name": "stdout",
     "output_type": "stream",
     "text": [
      "Collecting spyder-unittest\n",
      "  Downloading spyder_unittest-0.5.1-py3-none-any.whl (59 kB)\n",
      "     ---------------------------------------- 60.0/60.0 kB 1.6 MB/s eta 0:00:00\n",
      "Requirement already satisfied: pyzmq in c:\\users\\mmaduar\\pycharmprojects\\ograyspy\\venv\\lib\\site-packages (from spyder-unittest) (24.0.1)\n",
      "Collecting lxml\n",
      "  Downloading lxml-4.9.2-cp39-cp39-win_amd64.whl (3.9 MB)\n",
      "     ---------------------------------------- 3.9/3.9 MB 24.8 MB/s eta 0:00:00\n",
      "Collecting spyder<6,>=5.3.1\n",
      "  Downloading spyder-5.4.3-py3-none-any.whl (14.9 MB)\n",
      "     --------------------------------------- 14.9/14.9 MB 11.5 MB/s eta 0:00:00\n",
      "Collecting qdarkstyle<3.2.0,>=3.0.2\n",
      "  Downloading QDarkStyle-3.1-py2.py3-none-any.whl (870 kB)\n",
      "     -------------------------------------- 870.2/870.2 kB 4.2 MB/s eta 0:00:00\n",
      "Requirement already satisfied: pyqt5<5.16 in c:\\users\\mmaduar\\pycharmprojects\\ograyspy\\venv\\lib\\site-packages (from spyder<6,>=5.3.1->spyder-unittest) (5.15.7)\n",
      "Collecting qtconsole<5.5.0,>=5.4.2\n",
      "  Downloading qtconsole-5.4.2-py3-none-any.whl (121 kB)\n",
      "     ------------------------------------ 121.2/121.2 kB 509.1 kB/s eta 0:00:00\n",
      "Collecting diff-match-patch>=20181111\n",
      "  Downloading diff_match_patch-20200713-py3-none-any.whl (61 kB)\n",
      "     ---------------------------------------- 61.6/61.6 kB 1.1 MB/s eta 0:00:00\n",
      "Collecting pylint<3.0,>=2.5.0\n",
      "  Downloading pylint-2.17.2-py3-none-any.whl (536 kB)\n",
      "     ------------------------------------ 536.0/536.0 kB 509.5 kB/s eta 0:00:00\n",
      "Collecting python-lsp-black>=1.2.0\n",
      "  Downloading python_lsp_black-1.2.1-py3-none-any.whl (6.2 kB)\n",
      "Collecting watchdog>=0.10.3\n",
      "  Downloading watchdog-3.0.0-py3-none-win_amd64.whl (82 kB)\n",
      "     ---------------------------------------- 82.0/82.0 kB 2.3 MB/s eta 0:00:00\n",
      "Collecting qtawesome>=1.2.1\n",
      "  Downloading QtAwesome-1.2.3-py3-none-any.whl (2.3 MB)\n",
      "     ---------------------------------------- 2.3/2.3 MB 3.7 MB/s eta 0:00:00\n",
      "Requirement already satisfied: sphinx>=0.6.6 in c:\\users\\mmaduar\\pycharmprojects\\ograyspy\\venv\\lib\\site-packages (from spyder<6,>=5.3.1->spyder-unittest) (5.3.0)\n",
      "Collecting paramiko>=2.4.0\n",
      "  Downloading paramiko-3.1.0-py3-none-any.whl (211 kB)\n",
      "     -------------------------------------- 211.2/211.2 kB 3.2 MB/s eta 0:00:00\n",
      "Requirement already satisfied: pyqtwebengine<5.16 in c:\\users\\mmaduar\\pycharmprojects\\ograyspy\\venv\\lib\\site-packages (from spyder<6,>=5.3.1->spyder-unittest) (5.15.6)\n",
      "Collecting atomicwrites>=1.2.0\n",
      "  Downloading atomicwrites-1.4.1.tar.gz (14 kB)\n",
      "  Preparing metadata (setup.py): started\n",
      "  Preparing metadata (setup.py): finished with status 'done'\n",
      "Requirement already satisfied: pickleshare>=0.4 in c:\\users\\mmaduar\\pycharmprojects\\ograyspy\\venv\\lib\\site-packages (from spyder<6,>=5.3.1->spyder-unittest) (0.7.5)\n",
      "Requirement already satisfied: parso<0.9.0,>=0.7.0 in c:\\users\\mmaduar\\pycharmprojects\\ograyspy\\venv\\lib\\site-packages (from spyder<6,>=5.3.1->spyder-unittest) (0.8.3)\n",
      "Collecting intervaltree>=3.0.2\n",
      "  Downloading intervaltree-3.1.0.tar.gz (32 kB)\n",
      "  Preparing metadata (setup.py): started\n",
      "  Preparing metadata (setup.py): finished with status 'done'\n",
      "Requirement already satisfied: psutil>=5.3 in c:\\users\\mmaduar\\pycharmprojects\\ograyspy\\venv\\lib\\site-packages (from spyder<6,>=5.3.1->spyder-unittest) (5.9.4)\n",
      "Requirement already satisfied: nbconvert>=4.0 in c:\\users\\mmaduar\\pycharmprojects\\ograyspy\\venv\\lib\\site-packages (from spyder<6,>=5.3.1->spyder-unittest) (7.2.6)\n",
      "Collecting jellyfish>=0.7\n",
      "  Downloading jellyfish-0.11.2-cp39-none-win_amd64.whl (208 kB)\n",
      "     -------------------------------------- 208.0/208.0 kB 2.5 MB/s eta 0:00:00\n",
      "Requirement already satisfied: setuptools>=49.6.0 in c:\\users\\mmaduar\\pycharmprojects\\ograyspy\\venv\\lib\\site-packages (from spyder<6,>=5.3.1->spyder-unittest) (60.2.0)\n",
      "Collecting keyring>=17.0.0\n",
      "  Downloading keyring-23.13.1-py3-none-any.whl (37 kB)\n",
      "Collecting pexpect>=4.4.0\n",
      "  Downloading pexpect-4.8.0-py2.py3-none-any.whl (59 kB)\n",
      "     -------------------------------------- 59.0/59.0 kB 519.0 kB/s eta 0:00:00\n",
      "Collecting python-lsp-server[all]<1.8.0,>=1.7.2\n",
      "  Downloading python_lsp_server-1.7.2-py3-none-any.whl (68 kB)\n",
      "     ---------------------------------------- 68.9/68.9 kB 1.9 MB/s eta 0:00:00\n",
      "Requirement already satisfied: jsonschema>=3.2.0 in c:\\users\\mmaduar\\pycharmprojects\\ograyspy\\venv\\lib\\site-packages (from spyder<6,>=5.3.1->spyder-unittest) (4.17.3)\n",
      "Collecting rtree>=0.9.7\n",
      "  Downloading Rtree-1.0.1-cp39-cp39-win_amd64.whl (433 kB)\n",
      "     -------------------------------------- 433.3/433.3 kB 5.4 MB/s eta 0:00:00\n",
      "Collecting cloudpickle>=0.5.0\n",
      "  Downloading cloudpickle-2.2.1-py3-none-any.whl (25 kB)\n",
      "Requirement already satisfied: jedi<0.19.0,>=0.17.2 in c:\\users\\mmaduar\\pycharmprojects\\ograyspy\\venv\\lib\\site-packages (from spyder<6,>=5.3.1->spyder-unittest) (0.18.2)\n",
      "Collecting textdistance>=4.2.0\n",
      "  Downloading textdistance-4.5.0-py3-none-any.whl (31 kB)\n",
      "Requirement already satisfied: ipython!=8.10.0,!=8.8.0,!=8.9.0,<9.0.0,>=7.31.1 in c:\\users\\mmaduar\\pycharmprojects\\ograyspy\\venv\\lib\\site-packages (from spyder<6,>=5.3.1->spyder-unittest) (8.7.0)\n",
      "Requirement already satisfied: pygments>=2.0 in c:\\users\\mmaduar\\pycharmprojects\\ograyspy\\venv\\lib\\site-packages (from spyder<6,>=5.3.1->spyder-unittest) (2.13.0)\n",
      "Collecting numpydoc>=0.6.0\n",
      "  Downloading numpydoc-1.5.0-py3-none-any.whl (52 kB)\n",
      "     -------------------------------------- 52.4/52.4 kB 299.3 kB/s eta 0:00:00\n",
      "Collecting chardet>=2.0.0\n",
      "  Downloading chardet-5.1.0-py3-none-any.whl (199 kB)\n",
      "     -------------------------------------- 199.1/199.1 kB 1.3 MB/s eta 0:00:00\n",
      "Collecting three-merge>=0.1.1\n",
      "  Downloading three_merge-0.1.1-py2.py3-none-any.whl (6.4 kB)\n",
      "Collecting pylint-venv>=2.1.1\n",
      "  Downloading pylint_venv-3.0.1-py3-none-any.whl (5.0 kB)\n",
      "Requirement already satisfied: qtpy>=2.1.0 in c:\\users\\mmaduar\\pycharmprojects\\ograyspy\\venv\\lib\\site-packages (from spyder<6,>=5.3.1->spyder-unittest) (2.3.0)\n",
      "Collecting cookiecutter>=1.6.0\n",
      "  Downloading cookiecutter-2.1.1-py2.py3-none-any.whl (36 kB)\n",
      "Collecting qstylizer>=0.2.2\n",
      "  Downloading qstylizer-0.2.2-py2.py3-none-any.whl (15 kB)\n",
      "Collecting pyls-spyder>=0.4.0\n",
      "  Downloading pyls_spyder-0.4.0-py3-none-any.whl (8.1 kB)\n",
      "Collecting spyder-kernels<2.5.0,>=2.4.3\n",
      "  Downloading spyder_kernels-2.4.3-py2.py3-none-any.whl (98 kB)\n",
      "     -------------------------------------- 98.2/98.2 kB 160.7 kB/s eta 0:00:00\n",
      "Collecting binaryornot>=0.4.4\n",
      "  Downloading binaryornot-0.4.4-py2.py3-none-any.whl (9.0 kB)\n",
      "Requirement already satisfied: Jinja2<4.0.0,>=2.7 in c:\\users\\mmaduar\\pycharmprojects\\ograyspy\\venv\\lib\\site-packages (from cookiecutter>=1.6.0->spyder<6,>=5.3.1->spyder-unittest) (3.1.2)\n",
      "Collecting jinja2-time>=0.2.0\n",
      "  Downloading jinja2_time-0.2.0-py2.py3-none-any.whl (6.4 kB)\n",
      "Requirement already satisfied: requests>=2.23.0 in c:\\users\\mmaduar\\pycharmprojects\\ograyspy\\venv\\lib\\site-packages (from cookiecutter>=1.6.0->spyder<6,>=5.3.1->spyder-unittest) (2.28.2)\n",
      "Collecting click<9.0.0,>=7.0\n",
      "  Using cached click-8.1.3-py3-none-any.whl (96 kB)\n",
      "Collecting python-slugify>=4.0.0\n",
      "  Downloading python_slugify-8.0.1-py2.py3-none-any.whl (9.7 kB)\n",
      "Requirement already satisfied: pyyaml>=5.3.1 in c:\\users\\mmaduar\\pycharmprojects\\ograyspy\\venv\\lib\\site-packages (from cookiecutter>=1.6.0->spyder<6,>=5.3.1->spyder-unittest) (6.0)\n",
      "Collecting sortedcontainers<3.0,>=2.0\n",
      "  Downloading sortedcontainers-2.4.0-py2.py3-none-any.whl (29 kB)\n",
      "Requirement already satisfied: traitlets>=5 in c:\\users\\mmaduar\\pycharmprojects\\ograyspy\\venv\\lib\\site-packages (from ipython!=8.10.0,!=8.8.0,!=8.9.0,<9.0.0,>=7.31.1->spyder<6,>=5.3.1->spyder-unittest) (5.6.0)\n",
      "Requirement already satisfied: prompt-toolkit<3.1.0,>=3.0.11 in c:\\users\\mmaduar\\pycharmprojects\\ograyspy\\venv\\lib\\site-packages (from ipython!=8.10.0,!=8.8.0,!=8.9.0,<9.0.0,>=7.31.1->spyder<6,>=5.3.1->spyder-unittest) (3.0.33)\n",
      "Requirement already satisfied: matplotlib-inline in c:\\users\\mmaduar\\pycharmprojects\\ograyspy\\venv\\lib\\site-packages (from ipython!=8.10.0,!=8.8.0,!=8.9.0,<9.0.0,>=7.31.1->spyder<6,>=5.3.1->spyder-unittest) (0.1.6)\n",
      "Requirement already satisfied: colorama in c:\\users\\mmaduar\\pycharmprojects\\ograyspy\\venv\\lib\\site-packages (from ipython!=8.10.0,!=8.8.0,!=8.9.0,<9.0.0,>=7.31.1->spyder<6,>=5.3.1->spyder-unittest) (0.4.6)\n",
      "Requirement already satisfied: decorator in c:\\users\\mmaduar\\pycharmprojects\\ograyspy\\venv\\lib\\site-packages (from ipython!=8.10.0,!=8.8.0,!=8.9.0,<9.0.0,>=7.31.1->spyder<6,>=5.3.1->spyder-unittest) (5.1.1)\n",
      "Requirement already satisfied: backcall in c:\\users\\mmaduar\\pycharmprojects\\ograyspy\\venv\\lib\\site-packages (from ipython!=8.10.0,!=8.8.0,!=8.9.0,<9.0.0,>=7.31.1->spyder<6,>=5.3.1->spyder-unittest) (0.2.0)\n",
      "Requirement already satisfied: stack-data in c:\\users\\mmaduar\\pycharmprojects\\ograyspy\\venv\\lib\\site-packages (from ipython!=8.10.0,!=8.8.0,!=8.9.0,<9.0.0,>=7.31.1->spyder<6,>=5.3.1->spyder-unittest) (0.6.2)\n",
      "Requirement already satisfied: attrs>=17.4.0 in c:\\users\\mmaduar\\pycharmprojects\\ograyspy\\venv\\lib\\site-packages (from jsonschema>=3.2.0->spyder<6,>=5.3.1->spyder-unittest) (22.1.0)\n",
      "Requirement already satisfied: pyrsistent!=0.17.0,!=0.17.1,!=0.17.2,>=0.14.0 in c:\\users\\mmaduar\\pycharmprojects\\ograyspy\\venv\\lib\\site-packages (from jsonschema>=3.2.0->spyder<6,>=5.3.1->spyder-unittest) (0.19.2)\n",
      "Collecting pywin32-ctypes>=0.2.0\n",
      "  Downloading pywin32_ctypes-0.2.0-py2.py3-none-any.whl (28 kB)\n",
      "Requirement already satisfied: importlib-metadata>=4.11.4 in c:\\users\\mmaduar\\pycharmprojects\\ograyspy\\venv\\lib\\site-packages (from keyring>=17.0.0->spyder<6,>=5.3.1->spyder-unittest) (5.1.0)\n",
      "Collecting jaraco.classes\n",
      "  Downloading jaraco.classes-3.2.3-py3-none-any.whl (6.0 kB)\n",
      "Requirement already satisfied: nbclient>=0.5.0 in c:\\users\\mmaduar\\pycharmprojects\\ograyspy\\venv\\lib\\site-packages (from nbconvert>=4.0->spyder<6,>=5.3.1->spyder-unittest) (0.7.2)\n",
      "Requirement already satisfied: markupsafe>=2.0 in c:\\users\\mmaduar\\pycharmprojects\\ograyspy\\venv\\lib\\site-packages (from nbconvert>=4.0->spyder<6,>=5.3.1->spyder-unittest) (2.1.1)\n",
      "Requirement already satisfied: tinycss2 in c:\\users\\mmaduar\\pycharmprojects\\ograyspy\\venv\\lib\\site-packages (from nbconvert>=4.0->spyder<6,>=5.3.1->spyder-unittest) (1.2.1)\n",
      "Requirement already satisfied: packaging in c:\\users\\mmaduar\\pycharmprojects\\ograyspy\\venv\\lib\\site-packages (from nbconvert>=4.0->spyder<6,>=5.3.1->spyder-unittest) (21.3)\n",
      "Requirement already satisfied: beautifulsoup4 in c:\\users\\mmaduar\\pycharmprojects\\ograyspy\\venv\\lib\\site-packages (from nbconvert>=4.0->spyder<6,>=5.3.1->spyder-unittest) (4.11.1)\n",
      "Requirement already satisfied: defusedxml in c:\\users\\mmaduar\\pycharmprojects\\ograyspy\\venv\\lib\\site-packages (from nbconvert>=4.0->spyder<6,>=5.3.1->spyder-unittest) (0.7.1)\n",
      "Requirement already satisfied: nbformat>=5.1 in c:\\users\\mmaduar\\pycharmprojects\\ograyspy\\venv\\lib\\site-packages (from nbconvert>=4.0->spyder<6,>=5.3.1->spyder-unittest) (5.7.0)\n",
      "Requirement already satisfied: jupyter-core>=4.7 in c:\\users\\mmaduar\\pycharmprojects\\ograyspy\\venv\\lib\\site-packages (from nbconvert>=4.0->spyder<6,>=5.3.1->spyder-unittest) (5.1.0)\n",
      "Requirement already satisfied: pandocfilters>=1.4.1 in c:\\users\\mmaduar\\pycharmprojects\\ograyspy\\venv\\lib\\site-packages (from nbconvert>=4.0->spyder<6,>=5.3.1->spyder-unittest) (1.5.0)\n",
      "Requirement already satisfied: mistune<3,>=2.0.3 in c:\\users\\mmaduar\\pycharmprojects\\ograyspy\\venv\\lib\\site-packages (from nbconvert>=4.0->spyder<6,>=5.3.1->spyder-unittest) (2.0.4)\n",
      "Requirement already satisfied: jupyterlab-pygments in c:\\users\\mmaduar\\pycharmprojects\\ograyspy\\venv\\lib\\site-packages (from nbconvert>=4.0->spyder<6,>=5.3.1->spyder-unittest) (0.2.2)\n",
      "Requirement already satisfied: bleach in c:\\users\\mmaduar\\pycharmprojects\\ograyspy\\venv\\lib\\site-packages (from nbconvert>=4.0->spyder<6,>=5.3.1->spyder-unittest) (5.0.1)\n",
      "Collecting cryptography>=3.3\n",
      "  Downloading cryptography-40.0.1-cp36-abi3-win_amd64.whl (2.6 MB)\n",
      "     ---------------------------------------- 2.6/2.6 MB 2.7 MB/s eta 0:00:00\n",
      "Collecting pynacl>=1.5\n",
      "  Downloading PyNaCl-1.5.0-cp36-abi3-win_amd64.whl (212 kB)\n",
      "     -------------------------------------- 212.1/212.1 kB 4.3 MB/s eta 0:00:00\n",
      "Collecting bcrypt>=3.2\n",
      "  Downloading bcrypt-4.0.1-cp36-abi3-win_amd64.whl (152 kB)\n",
      "     -------------------------------------- 152.9/152.9 kB 3.0 MB/s eta 0:00:00\n",
      "Collecting ptyprocess>=0.5\n",
      "  Downloading ptyprocess-0.7.0-py2.py3-none-any.whl (13 kB)\n",
      "Collecting mccabe<0.8,>=0.6\n",
      "  Downloading mccabe-0.7.0-py2.py3-none-any.whl (7.3 kB)\n",
      "Collecting isort<6,>=4.2.5\n",
      "  Downloading isort-5.12.0-py3-none-any.whl (91 kB)\n",
      "     ---------------------------------------- 91.2/91.2 kB 1.7 MB/s eta 0:00:00\n",
      "Collecting dill>=0.2\n",
      "  Downloading dill-0.3.6-py3-none-any.whl (110 kB)\n",
      "     -------------------------------------- 110.5/110.5 kB 1.3 MB/s eta 0:00:00\n",
      "Requirement already satisfied: platformdirs>=2.2.0 in c:\\users\\mmaduar\\pycharmprojects\\ograyspy\\venv\\lib\\site-packages (from pylint<3.0,>=2.5.0->spyder<6,>=5.3.1->spyder-unittest) (2.5.4)\n",
      "Collecting tomlkit>=0.10.1\n",
      "  Downloading tomlkit-0.11.7-py3-none-any.whl (35 kB)\n",
      "Collecting astroid<=2.17.0-dev0,>=2.15.2\n",
      "  Downloading astroid-2.15.2-py3-none-any.whl (277 kB)\n",
      "     ------------------------------------ 277.9/277.9 kB 342.7 kB/s eta 0:00:00\n",
      "Collecting tomli>=1.1.0\n",
      "  Downloading tomli-2.0.1-py3-none-any.whl (12 kB)\n",
      "Requirement already satisfied: typing-extensions>=3.10.0 in c:\\users\\mmaduar\\pycharmprojects\\ograyspy\\venv\\lib\\site-packages (from pylint<3.0,>=2.5.0->spyder<6,>=5.3.1->spyder-unittest) (4.4.0)\n",
      "Requirement already satisfied: PyQt5-Qt5>=5.15.0 in c:\\users\\mmaduar\\pycharmprojects\\ograyspy\\venv\\lib\\site-packages (from pyqt5<5.16->spyder<6,>=5.3.1->spyder-unittest) (5.15.2)\n",
      "Requirement already satisfied: PyQt5-sip<13,>=12.11 in c:\\users\\mmaduar\\pycharmprojects\\ograyspy\\venv\\lib\\site-packages (from pyqt5<5.16->spyder<6,>=5.3.1->spyder-unittest) (12.11.0)\n",
      "Requirement already satisfied: PyQtWebEngine-Qt5>=5.15.0 in c:\\users\\mmaduar\\pycharmprojects\\ograyspy\\venv\\lib\\site-packages (from pyqtwebengine<5.16->spyder<6,>=5.3.1->spyder-unittest) (5.15.2)\n",
      "Collecting black>=22.3.0\n",
      "  Downloading black-23.3.0-cp39-cp39-win_amd64.whl (1.3 MB)\n",
      "     ---------------------------------------- 1.3/1.3 MB 20.6 MB/s eta 0:00:00\n",
      "Collecting toml\n",
      "  Downloading toml-0.10.2-py2.py3-none-any.whl (16 kB)\n",
      "Collecting ujson>=3.0.0\n",
      "  Downloading ujson-5.7.0-cp39-cp39-win_amd64.whl (41 kB)\n",
      "     ---------------------------------------- 41.4/41.4 kB 1.0 MB/s eta 0:00:00\n",
      "Collecting pluggy>=1.0.0\n",
      "  Downloading pluggy-1.0.0-py2.py3-none-any.whl (13 kB)\n",
      "Collecting python-lsp-jsonrpc>=1.0.0\n",
      "  Downloading python_lsp_jsonrpc-1.0.0-py3-none-any.whl (8.5 kB)\n",
      "Collecting docstring-to-markdown\n",
      "  Downloading docstring_to_markdown-0.12-py3-none-any.whl (18 kB)\n",
      "Collecting autopep8<2.1.0,>=1.6.0\n",
      "  Downloading autopep8-2.0.2-py2.py3-none-any.whl (45 kB)\n",
      "     ---------------------------------------- 45.2/45.2 kB 1.1 MB/s eta 0:00:00\n",
      "Collecting yapf<=0.32.0\n",
      "  Downloading yapf-0.32.0-py2.py3-none-any.whl (190 kB)\n",
      "     -------------------------------------- 190.2/190.2 kB 3.8 MB/s eta 0:00:00\n",
      "Collecting pyflakes<3.1.0,>=2.5.0\n",
      "  Downloading pyflakes-3.0.1-py2.py3-none-any.whl (62 kB)\n",
      "     ---------------------------------------- 62.8/62.8 kB 1.1 MB/s eta 0:00:00\n",
      "Collecting flake8<7,>=5.0.0\n",
      "  Downloading flake8-6.0.0-py2.py3-none-any.whl (57 kB)\n",
      "     -------------------------------------- 57.8/57.8 kB 610.0 kB/s eta 0:00:00\n",
      "Collecting pycodestyle<2.11.0,>=2.9.0\n",
      "  Downloading pycodestyle-2.10.0-py2.py3-none-any.whl (41 kB)\n",
      "     ---------------------------------------- 41.3/41.3 kB 2.1 MB/s eta 0:00:00\n",
      "Collecting pydocstyle<6.4.0,>=6.3.0\n",
      "  Downloading pydocstyle-6.3.0-py3-none-any.whl (38 kB)\n",
      "Collecting whatthepatch<2.0.0,>=1.0.2\n",
      "  Downloading whatthepatch-1.0.4-py3-none-any.whl (11 kB)\n",
      "Collecting rope>1.2.0\n",
      "  Downloading rope-1.7.0-py3-none-any.whl (199 kB)\n",
      "     -------------------------------------- 199.7/199.7 kB 4.0 MB/s eta 0:00:00\n",
      "Collecting inflection<1,>0.3.0\n",
      "  Downloading inflection-0.5.1-py2.py3-none-any.whl (9.5 kB)\n",
      "Requirement already satisfied: ipython-genutils in c:\\users\\mmaduar\\pycharmprojects\\ograyspy\\venv\\lib\\site-packages (from qtconsole<5.5.0,>=5.4.2->spyder<6,>=5.3.1->spyder-unittest) (0.2.0)\n",
      "Requirement already satisfied: ipykernel>=4.1 in c:\\users\\mmaduar\\pycharmprojects\\ograyspy\\venv\\lib\\site-packages (from qtconsole<5.5.0,>=5.4.2->spyder<6,>=5.3.1->spyder-unittest) (6.17.1)\n",
      "Requirement already satisfied: jupyter-client>=4.1 in c:\\users\\mmaduar\\pycharmprojects\\ograyspy\\venv\\lib\\site-packages (from qtconsole<5.5.0,>=5.4.2->spyder<6,>=5.3.1->spyder-unittest) (7.4.8)\n",
      "Requirement already satisfied: sphinxcontrib-applehelp in c:\\users\\mmaduar\\pycharmprojects\\ograyspy\\venv\\lib\\site-packages (from sphinx>=0.6.6->spyder<6,>=5.3.1->spyder-unittest) (1.0.4)\n",
      "Requirement already satisfied: imagesize>=1.3 in c:\\users\\mmaduar\\pycharmprojects\\ograyspy\\venv\\lib\\site-packages (from sphinx>=0.6.6->spyder<6,>=5.3.1->spyder-unittest) (1.4.1)\n",
      "Requirement already satisfied: sphinxcontrib-serializinghtml>=1.1.5 in c:\\users\\mmaduar\\pycharmprojects\\ograyspy\\venv\\lib\\site-packages (from sphinx>=0.6.6->spyder<6,>=5.3.1->spyder-unittest) (1.1.5)\n",
      "Requirement already satisfied: sphinxcontrib-qthelp in c:\\users\\mmaduar\\pycharmprojects\\ograyspy\\venv\\lib\\site-packages (from sphinx>=0.6.6->spyder<6,>=5.3.1->spyder-unittest) (1.0.3)\n",
      "Requirement already satisfied: snowballstemmer>=2.0 in c:\\users\\mmaduar\\pycharmprojects\\ograyspy\\venv\\lib\\site-packages (from sphinx>=0.6.6->spyder<6,>=5.3.1->spyder-unittest) (2.2.0)\n",
      "Requirement already satisfied: alabaster<0.8,>=0.7 in c:\\users\\mmaduar\\pycharmprojects\\ograyspy\\venv\\lib\\site-packages (from sphinx>=0.6.6->spyder<6,>=5.3.1->spyder-unittest) (0.7.13)\n",
      "Requirement already satisfied: docutils<0.20,>=0.14 in c:\\users\\mmaduar\\pycharmprojects\\ograyspy\\venv\\lib\\site-packages (from sphinx>=0.6.6->spyder<6,>=5.3.1->spyder-unittest) (0.19)\n",
      "Requirement already satisfied: sphinxcontrib-devhelp in c:\\users\\mmaduar\\pycharmprojects\\ograyspy\\venv\\lib\\site-packages (from sphinx>=0.6.6->spyder<6,>=5.3.1->spyder-unittest) (1.0.2)\n",
      "Requirement already satisfied: sphinxcontrib-htmlhelp>=2.0.0 in c:\\users\\mmaduar\\pycharmprojects\\ograyspy\\venv\\lib\\site-packages (from sphinx>=0.6.6->spyder<6,>=5.3.1->spyder-unittest) (2.0.1)\n",
      "Requirement already satisfied: sphinxcontrib-jsmath in c:\\users\\mmaduar\\pycharmprojects\\ograyspy\\venv\\lib\\site-packages (from sphinx>=0.6.6->spyder<6,>=5.3.1->spyder-unittest) (1.0.1)\n",
      "Requirement already satisfied: babel>=2.9 in c:\\users\\mmaduar\\pycharmprojects\\ograyspy\\venv\\lib\\site-packages (from sphinx>=0.6.6->spyder<6,>=5.3.1->spyder-unittest) (2.11.0)\n",
      "Collecting jupyter-client>=4.1\n",
      "  Downloading jupyter_client-8.1.0-py3-none-any.whl (102 kB)\n",
      "     -------------------------------------- 102.9/102.9 kB 5.8 MB/s eta 0:00:00\n",
      "Collecting lazy-object-proxy>=1.4.0\n",
      "  Downloading lazy_object_proxy-1.9.0-cp39-cp39-win_amd64.whl (22 kB)\n",
      "Collecting wrapt<2,>=1.11\n",
      "  Downloading wrapt-1.15.0-cp39-cp39-win_amd64.whl (36 kB)\n",
      "Requirement already satisfied: pytz>=2015.7 in c:\\users\\mmaduar\\pycharmprojects\\ograyspy\\venv\\lib\\site-packages (from babel>=2.9->sphinx>=0.6.6->spyder<6,>=5.3.1->spyder-unittest) (2022.6)\n",
      "Collecting mypy-extensions>=0.4.3\n",
      "  Downloading mypy_extensions-1.0.0-py3-none-any.whl (4.7 kB)\n",
      "Collecting packaging\n",
      "  Downloading packaging-23.0-py3-none-any.whl (42 kB)\n",
      "     -------------------------------------- 42.7/42.7 kB 148.8 kB/s eta 0:00:00\n",
      "Collecting pathspec>=0.9.0\n",
      "  Downloading pathspec-0.11.1-py3-none-any.whl (29 kB)\n",
      "Requirement already satisfied: cffi>=1.12 in c:\\users\\mmaduar\\pycharmprojects\\ograyspy\\venv\\lib\\site-packages (from cryptography>=3.3->paramiko>=2.4.0->spyder<6,>=5.3.1->spyder-unittest) (1.15.1)\n",
      "Requirement already satisfied: zipp>=0.5 in c:\\users\\mmaduar\\pycharmprojects\\ograyspy\\venv\\lib\\site-packages (from importlib-metadata>=4.11.4->keyring>=17.0.0->spyder<6,>=5.3.1->spyder-unittest) (3.11.0)\n",
      "Requirement already satisfied: debugpy>=1.0 in c:\\users\\mmaduar\\pycharmprojects\\ograyspy\\venv\\lib\\site-packages (from ipykernel>=4.1->qtconsole<5.5.0,>=5.4.2->spyder<6,>=5.3.1->spyder-unittest) (1.6.4)\n",
      "Requirement already satisfied: nest-asyncio in c:\\users\\mmaduar\\pycharmprojects\\ograyspy\\venv\\lib\\site-packages (from ipykernel>=4.1->qtconsole<5.5.0,>=5.4.2->spyder<6,>=5.3.1->spyder-unittest) (1.5.6)\n",
      "Requirement already satisfied: tornado>=6.1 in c:\\users\\mmaduar\\pycharmprojects\\ograyspy\\venv\\lib\\site-packages (from ipykernel>=4.1->qtconsole<5.5.0,>=5.4.2->spyder<6,>=5.3.1->spyder-unittest) (6.2)\n",
      "Requirement already satisfied: arrow in c:\\users\\mmaduar\\pycharmprojects\\ograyspy\\venv\\lib\\site-packages (from jinja2-time>=0.2.0->cookiecutter>=1.6.0->spyder<6,>=5.3.1->spyder-unittest) (1.2.3)\n",
      "Requirement already satisfied: python-dateutil>=2.8.2 in c:\\users\\mmaduar\\pycharmprojects\\ograyspy\\venv\\lib\\site-packages (from jupyter-client>=4.1->qtconsole<5.5.0,>=5.4.2->spyder<6,>=5.3.1->spyder-unittest) (2.8.2)\n",
      "Requirement already satisfied: pywin32>=1.0 in c:\\users\\mmaduar\\pycharmprojects\\ograyspy\\venv\\lib\\site-packages (from jupyter-core>=4.7->nbconvert>=4.0->spyder<6,>=5.3.1->spyder-unittest) (305)\n",
      "Requirement already satisfied: fastjsonschema in c:\\users\\mmaduar\\pycharmprojects\\ograyspy\\venv\\lib\\site-packages (from nbformat>=5.1->nbconvert>=4.0->spyder<6,>=5.3.1->spyder-unittest) (2.16.2)\n",
      "Requirement already satisfied: wcwidth in c:\\users\\mmaduar\\pycharmprojects\\ograyspy\\venv\\lib\\site-packages (from prompt-toolkit<3.1.0,>=3.0.11->ipython!=8.10.0,!=8.8.0,!=8.9.0,<9.0.0,>=7.31.1->spyder<6,>=5.3.1->spyder-unittest) (0.2.5)\n",
      "Collecting text-unidecode>=1.3\n",
      "  Downloading text_unidecode-1.3-py2.py3-none-any.whl (78 kB)\n",
      "     -------------------------------------- 78.2/78.2 kB 543.3 kB/s eta 0:00:00\n",
      "Requirement already satisfied: charset-normalizer<4,>=2 in c:\\users\\mmaduar\\pycharmprojects\\ograyspy\\venv\\lib\\site-packages (from requests>=2.23.0->cookiecutter>=1.6.0->spyder<6,>=5.3.1->spyder-unittest) (3.0.1)\n",
      "Requirement already satisfied: urllib3<1.27,>=1.21.1 in c:\\users\\mmaduar\\pycharmprojects\\ograyspy\\venv\\lib\\site-packages (from requests>=2.23.0->cookiecutter>=1.6.0->spyder<6,>=5.3.1->spyder-unittest) (1.26.14)\n",
      "Requirement already satisfied: certifi>=2017.4.17 in c:\\users\\mmaduar\\pycharmprojects\\ograyspy\\venv\\lib\\site-packages (from requests>=2.23.0->cookiecutter>=1.6.0->spyder<6,>=5.3.1->spyder-unittest) (2022.12.7)\n",
      "Requirement already satisfied: idna<4,>=2.5 in c:\\users\\mmaduar\\pycharmprojects\\ograyspy\\venv\\lib\\site-packages (from requests>=2.23.0->cookiecutter>=1.6.0->spyder<6,>=5.3.1->spyder-unittest) (3.4)\n",
      "Collecting pytoolconfig[global]>=1.2.2\n",
      "  Downloading pytoolconfig-1.2.5-py3-none-any.whl (16 kB)\n",
      "Requirement already satisfied: webencodings>=0.4 in c:\\users\\mmaduar\\pycharmprojects\\ograyspy\\venv\\lib\\site-packages (from tinycss2->nbconvert>=4.0->spyder<6,>=5.3.1->spyder-unittest) (0.5.1)\n",
      "Requirement already satisfied: soupsieve>1.2 in c:\\users\\mmaduar\\pycharmprojects\\ograyspy\\venv\\lib\\site-packages (from beautifulsoup4->nbconvert>=4.0->spyder<6,>=5.3.1->spyder-unittest) (2.3.2.post1)\n",
      "Requirement already satisfied: six>=1.9.0 in c:\\users\\mmaduar\\pycharmprojects\\ograyspy\\venv\\lib\\site-packages (from bleach->nbconvert>=4.0->spyder<6,>=5.3.1->spyder-unittest) (1.16.0)\n",
      "Collecting more-itertools\n",
      "  Downloading more_itertools-9.1.0-py3-none-any.whl (54 kB)\n",
      "     ---------------------------------------- 54.2/54.2 kB 1.4 MB/s eta 0:00:00\n",
      "Requirement already satisfied: asttokens>=2.1.0 in c:\\users\\mmaduar\\pycharmprojects\\ograyspy\\venv\\lib\\site-packages (from stack-data->ipython!=8.10.0,!=8.8.0,!=8.9.0,<9.0.0,>=7.31.1->spyder<6,>=5.3.1->spyder-unittest) (2.2.1)\n",
      "Requirement already satisfied: pure-eval in c:\\users\\mmaduar\\pycharmprojects\\ograyspy\\venv\\lib\\site-packages (from stack-data->ipython!=8.10.0,!=8.8.0,!=8.9.0,<9.0.0,>=7.31.1->spyder<6,>=5.3.1->spyder-unittest) (0.2.2)\n",
      "Requirement already satisfied: executing>=1.2.0 in c:\\users\\mmaduar\\pycharmprojects\\ograyspy\\venv\\lib\\site-packages (from stack-data->ipython!=8.10.0,!=8.8.0,!=8.9.0,<9.0.0,>=7.31.1->spyder<6,>=5.3.1->spyder-unittest) (1.2.0)\n",
      "Requirement already satisfied: pycparser in c:\\users\\mmaduar\\pycharmprojects\\ograyspy\\venv\\lib\\site-packages (from cffi>=1.12->cryptography>=3.3->paramiko>=2.4.0->spyder<6,>=5.3.1->spyder-unittest) (2.21)\n",
      "Building wheels for collected packages: atomicwrites, intervaltree\n",
      "  Building wheel for atomicwrites (setup.py): started\n",
      "  Building wheel for atomicwrites (setup.py): finished with status 'done'\n",
      "  Created wheel for atomicwrites: filename=atomicwrites-1.4.1-py2.py3-none-any.whl size=6957 sha256=2f2d51de0b646b65c49104fec4d1b1d3daf5bccb1ff3dfbe58926c24feffceb0\n",
      "  Stored in directory: c:\\users\\mmaduar\\appdata\\local\\pip\\cache\\wheels\\2a\\b5\\06\\d2f34584f352e4af7d1d7ac1baf38b5d24142c8044cd024fd5\n",
      "  Building wheel for intervaltree (setup.py): started\n",
      "  Building wheel for intervaltree (setup.py): finished with status 'done'\n",
      "  Created wheel for intervaltree: filename=intervaltree-3.1.0-py2.py3-none-any.whl size=26119 sha256=8b83b652d01927913a2ffb3e7985e5c35ded2f624d9929fccd46309f457801a4\n",
      "  Stored in directory: c:\\users\\mmaduar\\appdata\\local\\pip\\cache\\wheels\\ab\\fa\\1b\\75d9a713279796785711bd0bad8334aaace560c0bd28830c8c\n",
      "Successfully built atomicwrites intervaltree\n",
      "Installing collected packages: yapf, text-unidecode, sortedcontainers, pywin32-ctypes, ptyprocess, wrapt, whatthepatch, watchdog, ujson, tomlkit, tomli, toml, textdistance, rtree, python-slugify, pylint-venv, pyflakes, pydocstyle, pycodestyle, pluggy, pexpect, pathspec, packaging, mypy-extensions, more-itertools, mccabe, lxml, lazy-object-proxy, jellyfish, isort, intervaltree, inflection, docstring-to-markdown, dill, diff-match-patch, cloudpickle, click, chardet, bcrypt, atomicwrites, three-merge, qstylizer, pytoolconfig, python-lsp-jsonrpc, pynacl, jupyter-client, jaraco.classes, flake8, cryptography, black, binaryornot, autopep8, astroid, qtawesome, qdarkstyle, python-lsp-server, pylint, paramiko, numpydoc, keyring, jinja2-time, rope, python-lsp-black, pyls-spyder, cookiecutter, spyder-kernels, qtconsole, spyder, spyder-unittest\n",
      "  Attempting uninstall: packaging\n",
      "    Found existing installation: packaging 21.3\n",
      "    Uninstalling packaging-21.3:\n",
      "      Successfully uninstalled packaging-21.3\n",
      "  Attempting uninstall: jupyter-client\n",
      "    Found existing installation: jupyter_client 7.4.8\n",
      "    Uninstalling jupyter_client-7.4.8:\n",
      "      Successfully uninstalled jupyter_client-7.4.8\n",
      "  Attempting uninstall: qtconsole\n",
      "    Found existing installation: qtconsole 5.4.0\n",
      "    Uninstalling qtconsole-5.4.0:\n",
      "      Successfully uninstalled qtconsole-5.4.0\n",
      "Successfully installed astroid-2.15.2 atomicwrites-1.4.1 autopep8-2.0.2 bcrypt-4.0.1 binaryornot-0.4.4 black-23.3.0 chardet-5.1.0 click-8.1.3 cloudpickle-2.2.1 cookiecutter-2.1.1 cryptography-40.0.1 diff-match-patch-20200713 dill-0.3.6 docstring-to-markdown-0.12 flake8-6.0.0 inflection-0.5.1 intervaltree-3.1.0 isort-5.12.0 jaraco.classes-3.2.3 jellyfish-0.11.2 jinja2-time-0.2.0 jupyter-client-8.1.0 keyring-23.13.1 lazy-object-proxy-1.9.0 lxml-4.9.2 mccabe-0.7.0 more-itertools-9.1.0 mypy-extensions-1.0.0 numpydoc-1.5.0 packaging-23.0 paramiko-3.1.0 pathspec-0.11.1 pexpect-4.8.0 pluggy-1.0.0 ptyprocess-0.7.0 pycodestyle-2.10.0 pydocstyle-6.3.0 pyflakes-3.0.1 pylint-2.17.2 pylint-venv-3.0.1 pyls-spyder-0.4.0 pynacl-1.5.0 python-lsp-black-1.2.1 python-lsp-jsonrpc-1.0.0 python-lsp-server-1.7.2 python-slugify-8.0.1 pytoolconfig-1.2.5 pywin32-ctypes-0.2.0 qdarkstyle-3.1 qstylizer-0.2.2 qtawesome-1.2.3 qtconsole-5.4.2 rope-1.7.0 rtree-1.0.1 sortedcontainers-2.4.0 spyder-5.4.3 spyder-kernels-2.4.3 spyder-unittest-0.5.1 text-unidecode-1.3 textdistance-4.5.0 three-merge-0.1.1 toml-0.10.2 tomli-2.0.1 tomlkit-0.11.7 ujson-5.7.0 watchdog-3.0.0 whatthepatch-1.0.4 wrapt-1.15.0 yapf-0.32.0\n",
      "Note: you may need to restart the kernel to use updated packages.\n"
     ]
    }
   ],
   "source": [
    "pip install spyder-unittest"
   ]
  },
  {
   "cell_type": "code",
   "execution_count": 8,
   "id": "aaa4b4c3",
   "metadata": {
    "ExecuteTime": {
     "start_time": "2023-04-05T17:22:59.726017Z",
     "end_time": "2023-04-05T17:23:01.925657Z"
    }
   },
   "outputs": [
    {
     "name": "stdout",
     "output_type": "stream",
     "text": [
      "Package                       Version\n",
      "----------------------------- -----------\n",
      "alabaster                     0.7.13\n",
      "anyio                         3.6.2\n",
      "argon2-cffi                   21.3.0\n",
      "argon2-cffi-bindings          21.2.0\n",
      "arrow                         1.2.3\n",
      "asteval                       0.9.28\n",
      "astroid                       2.15.2\n",
      "asttokens                     2.2.1\n",
      "atomicwrites                  1.4.1\n",
      "attrs                         22.1.0\n",
      "autopep8                      2.0.2\n",
      "Babel                         2.11.0\n",
      "backcall                      0.2.0\n",
      "bcrypt                        4.0.1\n",
      "beautifulsoup4                4.11.1\n",
      "binaryornot                   0.4.4\n",
      "black                         23.3.0\n",
      "bleach                        5.0.1\n",
      "certifi                       2022.12.7\n",
      "cffi                          1.15.1\n",
      "chardet                       5.1.0\n",
      "charset-normalizer            3.0.1\n",
      "click                         8.1.3\n",
      "cloudpickle                   2.2.1\n",
      "colorama                      0.4.6\n",
      "contourpy                     1.0.6\n",
      "cookiecutter                  2.1.1\n",
      "cryptography                  40.0.1\n",
      "cycler                        0.11.0\n",
      "Cython                        0.29.34\n",
      "debugpy                       1.6.4\n",
      "decorator                     5.1.1\n",
      "defusedxml                    0.7.1\n",
      "diff-match-patch              20200713\n",
      "dill                          0.3.6\n",
      "docstring-to-markdown         0.12\n",
      "docutils                      0.19\n",
      "entrypoints                   0.4\n",
      "executing                     1.2.0\n",
      "fastjsonschema                2.16.2\n",
      "flake8                        6.0.0\n",
      "fonttools                     4.38.0\n",
      "fqdn                          1.5.1\n",
      "future                        0.18.2\n",
      "idna                          3.4\n",
      "imagesize                     1.4.1\n",
      "importlib-metadata            5.1.0\n",
      "inflection                    0.5.1\n",
      "intervaltree                  3.1.0\n",
      "ipykernel                     6.17.1\n",
      "ipython                       8.7.0\n",
      "ipython-genutils              0.2.0\n",
      "ipywidgets                    8.0.2\n",
      "isoduration                   20.11.0\n",
      "isort                         5.12.0\n",
      "jaraco.classes                3.2.3\n",
      "jedi                          0.18.2\n",
      "jellyfish                     0.11.2\n",
      "Jinja2                        3.1.2\n",
      "jinja2-time                   0.2.0\n",
      "jsonpointer                   2.3\n",
      "jsonschema                    4.17.3\n",
      "jupyter                       1.0.0\n",
      "jupyter_client                8.1.0\n",
      "jupyter-console               6.4.4\n",
      "jupyter_core                  5.1.0\n",
      "jupyter-events                0.5.0\n",
      "jupyter_server                2.0.1\n",
      "jupyter_server_terminals      0.4.2\n",
      "jupyterlab-pygments           0.2.2\n",
      "jupyterlab-widgets            3.0.3\n",
      "keyring                       23.13.1\n",
      "kiwisolver                    1.4.4\n",
      "lazy-object-proxy             1.9.0\n",
      "livereload                    2.6.3\n",
      "lmfit                         1.1.0\n",
      "lxml                          4.9.2\n",
      "markdown-it-py                2.1.0\n",
      "MarkupSafe                    2.1.1\n",
      "matplotlib                    3.6.2\n",
      "matplotlib-inline             0.1.6\n",
      "mccabe                        0.7.0\n",
      "mdit-py-plugins               0.3.3\n",
      "mdurl                         0.1.2\n",
      "mistune                       2.0.4\n",
      "more-itertools                9.1.0\n",
      "mypy-extensions               1.0.0\n",
      "myst-parser                   0.18.1\n",
      "nbclassic                     0.4.8\n",
      "nbclient                      0.7.2\n",
      "nbconvert                     7.2.6\n",
      "nbformat                      5.7.0\n",
      "nest-asyncio                  1.5.6\n",
      "notebook                      6.5.2\n",
      "notebook_shim                 0.2.2\n",
      "numpy                         1.23.5\n",
      "numpydoc                      1.5.0\n",
      "odfpy                         1.4.1\n",
      "packaging                     23.0\n",
      "pandas                        1.5.2\n",
      "pandocfilters                 1.5.0\n",
      "paramiko                      3.1.0\n",
      "parso                         0.8.3\n",
      "pathspec                      0.11.1\n",
      "pexpect                       4.8.0\n",
      "pickleshare                   0.7.5\n",
      "Pillow                        9.3.0\n",
      "pip                           23.0.1\n",
      "platformdirs                  2.5.4\n",
      "plotly                        5.11.0\n",
      "pluggy                        1.0.0\n",
      "prometheus-client             0.15.0\n",
      "prompt-toolkit                3.0.33\n",
      "psutil                        5.9.4\n",
      "ptyprocess                    0.7.0\n",
      "pure-eval                     0.2.2\n",
      "pycodestyle                   2.10.0\n",
      "pycparser                     2.21\n",
      "pydocstyle                    6.3.0\n",
      "pyflakes                      3.0.1\n",
      "Pygments                      2.13.0\n",
      "pylint                        2.17.2\n",
      "pylint-venv                   3.0.1\n",
      "pyls-spyder                   0.4.0\n",
      "PyNaCl                        1.5.0\n",
      "pyparsing                     3.0.9\n",
      "PyQt5                         5.15.7\n",
      "PyQt5-Qt5                     5.15.2\n",
      "PyQt5-sip                     12.11.0\n",
      "PyQt5-stubs                   5.15.6.0\n",
      "PyQtWebEngine                 5.15.6\n",
      "PyQtWebEngine-Qt5             5.15.2\n",
      "pyrsistent                    0.19.2\n",
      "PySide2                       5.15.2.1\n",
      "python-dateutil               2.8.2\n",
      "python-json-logger            2.0.4\n",
      "python-lsp-black              1.2.1\n",
      "python-lsp-jsonrpc            1.0.0\n",
      "python-lsp-server             1.7.2\n",
      "python-slugify                8.0.1\n",
      "pytoolconfig                  1.2.5\n",
      "pytz                          2022.6\n",
      "pywin32                       305\n",
      "pywin32-ctypes                0.2.0\n",
      "pywinpty                      2.0.9\n",
      "PyYAML                        6.0\n",
      "pyzmq                         24.0.1\n",
      "QDarkStyle                    3.1\n",
      "qstylizer                     0.2.2\n",
      "QtAwesome                     1.2.3\n",
      "qtconsole                     5.4.2\n",
      "QtPy                          2.3.0\n",
      "requests                      2.28.2\n",
      "rfc3339-validator             0.1.4\n",
      "rfc3986-validator             0.1.1\n",
      "rope                          1.7.0\n",
      "Rtree                         1.0.1\n",
      "scipy                         1.9.3\n",
      "Send2Trash                    1.8.0\n",
      "setuptools                    60.2.0\n",
      "shiboken2                     5.15.2.1\n",
      "six                           1.16.0\n",
      "sniffio                       1.3.0\n",
      "snowballstemmer               2.2.0\n",
      "sortedcontainers              2.4.0\n",
      "soupsieve                     2.3.2.post1\n",
      "Sphinx                        5.3.0\n",
      "sphinxcontrib-applehelp       1.0.4\n",
      "sphinxcontrib-devhelp         1.0.2\n",
      "sphinxcontrib-htmlhelp        2.0.1\n",
      "sphinxcontrib-jsmath          1.0.1\n",
      "sphinxcontrib-qthelp          1.0.3\n",
      "sphinxcontrib-serializinghtml 1.1.5\n",
      "spyder                        5.4.3\n",
      "spyder-kernels                2.4.3\n",
      "spyder-unittest               0.5.1\n",
      "stack-data                    0.6.2\n",
      "tenacity                      8.1.0\n",
      "terminado                     0.17.1\n",
      "text-unidecode                1.3\n",
      "textdistance                  4.5.0\n",
      "three-merge                   0.1.1\n",
      "tinycss2                      1.2.1\n",
      "toml                          0.10.2\n",
      "tomli                         2.0.1\n",
      "tomlkit                       0.11.7\n",
      "tornado                       6.2\n",
      "traitlets                     5.6.0\n",
      "typing_extensions             4.4.0\n",
      "ujson                         5.7.0\n",
      "uncertainties                 3.1.7\n",
      "uri-template                  1.2.0\n",
      "urllib3                       1.26.14\n",
      "watchdog                      3.0.0\n",
      "wcwidth                       0.2.5\n",
      "webcolors                     1.12\n",
      "webencodings                  0.5.1\n",
      "websocket-client              1.4.2\n",
      "whatthepatch                  1.0.4\n",
      "wheel                         0.37.1\n",
      "widgetsnbextension            4.0.3\n",
      "wrapt                         1.15.0\n",
      "yapf                          0.32.0\n",
      "zipp                          3.11.0\n",
      "Note: you may need to restart the kernel to use updated packages.\n"
     ]
    }
   ],
   "source": [
    "pip list"
   ]
  },
  {
   "cell_type": "code",
   "execution_count": 9,
   "id": "2f2af844",
   "metadata": {
    "ExecuteTime": {
     "start_time": "2023-04-05T17:23:01.925657Z",
     "end_time": "2023-04-05T17:23:21.049131Z"
    }
   },
   "outputs": [],
   "source": [
    "import numpy as np\n",
    "from numpy.random import default_rng\n",
    "from numpy.polynomial import Polynomial as P\n",
    "from scipy import special\n",
    "import pandas as pd\n",
    "\n",
    "from ograyspy_class import select_spectrum_from_folder_list\n",
    "from spec_class import Spec"
   ]
  },
  {
   "cell_type": "code",
   "execution_count": 10,
   "id": "243352f1",
   "metadata": {
    "ExecuteTime": {
     "start_time": "2023-04-05T17:23:21.049131Z",
     "end_time": "2023-04-05T17:23:22.675127Z"
    }
   },
   "outputs": [],
   "source": [
    "# https://lmfit.github.io/lmfit-py/builtin_models.html\n",
    "from lmfit import Model, minimize, Parameters, report_fit, fit_report, printfuncs\n",
    "from lmfit.models import LinearModel, StepModel, ExponentialModel, LorentzianModel\n",
    "from lmfit.models import GaussianModel, SkewedGaussianModel, ExpressionModel"
   ]
  },
  {
   "cell_type": "code",
   "execution_count": 11,
   "id": "f4ee10ef",
   "metadata": {
    "ExecuteTime": {
     "start_time": "2023-04-05T17:23:22.675127Z",
     "end_time": "2023-04-05T17:23:22.690723Z"
    }
   },
   "outputs": [],
   "source": [
    "# a spectrum pattern to find and test:"
   ]
  },
  {
   "cell_type": "code",
   "execution_count": 12,
   "id": "2a26692d",
   "metadata": {
    "ExecuteTime": {
     "start_time": "2023-04-05T17:23:22.690723Z",
     "end_time": "2023-04-05T17:23:22.924960Z"
    }
   },
   "outputs": [],
   "source": [
    "# 2022\n",
    "# Se quiser ignorar o espectro aleatório, definir aqui um específico. Se não, pular.\n",
    "# Vou ignorar o espectro já analisado e refazer a análise, para testes.\n",
    "# 2022-Mar-24 Resolver essa questão dos nomes de arquivos em Linux e Windows\n",
    "# a_spec_name = '..\\\\..\\\\Genie_Transfer\\\\Si\\\\2018\\\\PNR\\\\PRN0803.Chn'\n",
    "# a_spec_name = '../../Genie_Transfer/Si/2018/PNR/PRN0803.Chn'\n",
    "# a_spec_name = '../../Genie_Transfer/Si/2018/CTP/CTP0908-2.Chn'\n",
    "# Esse é um que dá problema na baseline perto do 159 keV do I-123:\n",
    "# a_spec_name = '../../Genie_Transfer/Si/2018/CCI/CCI1508I.Chn'\n",
    "# Precisa quebrar mais a baseline: Ok, consertado!!!\n",
    "# 2022: Já usando o GMX:\n",
    "# a_spec_name = '../../Genie_Transfer/Filtros/2022/Cci/CCI1603-I.Chn'\n",
    "\n"
   ]
  },
  {
   "cell_type": "code",
   "execution_count": 13,
   "id": "61f9279e",
   "metadata": {
    "ExecuteTime": {
     "start_time": "2023-04-05T17:23:22.924960Z",
     "end_time": "2023-04-05T17:23:23.034001Z"
    }
   },
   "outputs": [],
   "source": [
    "\n",
    "# 2022-out-7: Excelente espectro para testes, tenho usado ultimamente:\n",
    "# a_pattern = 'Si/SI2018/SI11318.Chn'\n",
    "# 2022-nov-16: outros espectros:\n",
    "# a_pattern = \"Filtros/2022/Cci/CCI1603-I.Chn\"\n",
    "# a_pattern = \"Filtros/2022/Cci/CCI2302-I.Chn\"\n",
    "\n",
    "# a_pattern = \"Eso_non_existe.Chn\"\n",
    "\n",
    "# 2022-Dez-21 Buscando outro espectro\n",
    "# a_pattern = 'CCI1603-I'\n",
    "# 2022-Dez-28 Este é um espectro mais recente:\n",
    "# a_pattern = 'SI09722.Chn'\n",
    "# 2022-Dez-28 Este é um espectro mais recente que posso comparar com saída do Genie:\n",
    "a_pattern = 'SI06322.Chn'"
   ]
  },
  {
   "cell_type": "code",
   "execution_count": 15,
   "id": "41bd2b0c",
   "metadata": {
    "ExecuteTime": {
     "start_time": "2023-04-05T17:26:56.402143Z",
     "end_time": "2023-04-05T17:26:56.812008Z"
    }
   },
   "outputs": [
    {
     "data": {
      "text/plain": "                   info_plat info_mach info_syst info_node         home_path  \\\n0  Windows-10-10.0.19044-SP0     AMD64   Windows    I56611  C:\\Users\\mmaduar   \n\n                                spectra_path  n_files  a_spec_ind a_spec_name  \\\n0  C:\\Users\\mmaduar\\Nextcloud\\Genie_Transfer     6868           0               \n\n  reduced_f_name gross_counts_graphics pks_regions_gros  \\\n0                                 None             None   \n\n                                          files_list  \\\n0  [C:\\Users\\mmaduar\\Nextcloud\\Genie_Transfer\\alm...   \n\n                            reduced_names_files_list  \\\n0  [almera22/det_c/iaeaqcb.chn, almera22/det_c/ia...   \n\n                    spectra_pattern_names   pkl_folder_files  \n0  [**/*.[Cc][Hh][Nn], **/*.[Ii][Ee][Cc]]  WindowsI56611.pkl  ",
      "text/html": "<div>\n<style scoped>\n    .dataframe tbody tr th:only-of-type {\n        vertical-align: middle;\n    }\n\n    .dataframe tbody tr th {\n        vertical-align: top;\n    }\n\n    .dataframe thead th {\n        text-align: right;\n    }\n</style>\n<table border=\"1\" class=\"dataframe\">\n  <thead>\n    <tr style=\"text-align: right;\">\n      <th></th>\n      <th>info_plat</th>\n      <th>info_mach</th>\n      <th>info_syst</th>\n      <th>info_node</th>\n      <th>home_path</th>\n      <th>spectra_path</th>\n      <th>n_files</th>\n      <th>a_spec_ind</th>\n      <th>a_spec_name</th>\n      <th>reduced_f_name</th>\n      <th>gross_counts_graphics</th>\n      <th>pks_regions_gros</th>\n      <th>files_list</th>\n      <th>reduced_names_files_list</th>\n      <th>spectra_pattern_names</th>\n      <th>pkl_folder_files</th>\n    </tr>\n  </thead>\n  <tbody>\n    <tr>\n      <th>0</th>\n      <td>Windows-10-10.0.19044-SP0</td>\n      <td>AMD64</td>\n      <td>Windows</td>\n      <td>I56611</td>\n      <td>C:\\Users\\mmaduar</td>\n      <td>C:\\Users\\mmaduar\\Nextcloud\\Genie_Transfer</td>\n      <td>6868</td>\n      <td>0</td>\n      <td></td>\n      <td></td>\n      <td>None</td>\n      <td>None</td>\n      <td>[C:\\Users\\mmaduar\\Nextcloud\\Genie_Transfer\\alm...</td>\n      <td>[almera22/det_c/iaeaqcb.chn, almera22/det_c/ia...</td>\n      <td>[**/*.[Cc][Hh][Nn], **/*.[Ii][Ee][Cc]]</td>\n      <td>WindowsI56611.pkl</td>\n    </tr>\n  </tbody>\n</table>\n</div>"
     },
     "execution_count": 15,
     "metadata": {},
     "output_type": "execute_result"
    }
   ],
   "source": [
    "# Select a machine/system to read from:\n",
    "spectra_list_df = pd.read_pickle('WindowsI56611.pkl')\n",
    "# spectra_list_df = pd.read_pickle('Linuxmmaduar-net13.pkl')\n",
    "spectra_list_df"
   ]
  },
  {
   "cell_type": "code",
   "execution_count": 15,
   "id": "5c078a8e",
   "metadata": {
    "ExecuteTime": {
     "start_time": "2023-04-05T17:27:20.716293Z",
     "end_time": "2023-04-05T17:27:20.762854Z"
    }
   },
   "outputs": [],
   "source": []
  },
  {
   "cell_type": "code",
   "execution_count": 16,
   "id": "f024a879",
   "metadata": {
    "ExecuteTime": {
     "start_time": "2023-04-05T17:27:21.893909Z",
     "end_time": "2023-04-05T17:27:21.956407Z"
    }
   },
   "outputs": [],
   "source": [
    "reduc_nms = spectra_list_df.reduced_names_files_list[0]\n",
    "fil_lst = spectra_list_df.files_list[0]\n",
    "spc_pth = spectra_list_df.spectra_path[0]"
   ]
  },
  {
   "cell_type": "code",
   "execution_count": 19,
   "id": "04e22b01",
   "metadata": {
    "ExecuteTime": {
     "start_time": "2023-04-05T17:35:02.711900Z",
     "end_time": "2023-04-05T17:35:02.743236Z"
    }
   },
   "outputs": [
    {
     "name": "stdout",
     "output_type": "stream",
     "text": [
      "Existing:\n",
      "Achou! indice=62, nomearq = almera22/user2023/SI2022/SI06322.Chn\n",
      "==========================\n",
      "Final choices:\n",
      "spectra_path: C:\\Users\\mmaduar\\Nextcloud\\Genie_Transfer\n",
      "a_spec_name: C:\\Users\\mmaduar\\Nextcloud\\Genie_Transfer\\almera22\\user2023\\SI2022\\SI06322.Chn\n",
      "reduced_f_name: almera22/user2023/SI2022/SI06322.Chn\n"
     ]
    }
   ],
   "source": [
    "a_spec_name, reduced_f_name = select_spectrum_from_folder_list(reduc_nms, fil_lst, spc_pth, a_pattern)"
   ]
  },
  {
   "cell_type": "code",
   "execution_count": 20,
   "id": "482e8a5a",
   "metadata": {
    "ExecuteTime": {
     "start_time": "2023-04-05T17:35:04.822542Z",
     "end_time": "2023-04-05T17:35:04.869402Z"
    }
   },
   "outputs": [
    {
     "data": {
      "text/plain": "(WindowsPath('C:/Users/mmaduar/Nextcloud/Genie_Transfer/almera22/user2023/SI2022/SI06322.Chn'),\n 'almera22/user2023/SI2022/SI06322.Chn')"
     },
     "execution_count": 20,
     "metadata": {},
     "output_type": "execute_result"
    }
   ],
   "source": [
    "a_spec_name, reduced_f_name"
   ]
  },
  {
   "cell_type": "code",
   "execution_count": 21,
   "outputs": [],
   "source": [
    "a_spec = Spec(a_spec_name, reduced_f_name)"
   ],
   "metadata": {
    "collapsed": false,
    "ExecuteTime": {
     "start_time": "2023-04-05T17:38:07.315248Z",
     "end_time": "2023-04-05T17:38:07.597755Z"
    }
   }
  },
  {
   "cell_type": "code",
   "execution_count": 22,
   "outputs": [
    {
     "data": {
      "text/plain": "{'net_spec_ser_an': None,\n 'final_composed_baseline': None,\n 'f_name': WindowsPath('C:/Users/mmaduar/Nextcloud/Genie_Transfer/almera22/user2023/SI2022/SI06322.Chn'),\n 'reduced_f_name': 'almera22/user2023/SI2022/SI06322.Chn',\n 'sufx': '.chn',\n 'spec_io': None,\n 'lv_time': 50000.0,\n 'rl_time': 50028.58,\n 'source_datetime': None,\n 'pkl_file': WindowsPath('C:/Users/mmaduar/Nextcloud/Genie_Transfer/almera22/user2023/SI2022/SI06322.pkl'),\n 'gross_spec_ser_an': <generic_series_analysis_class.GenericSeriesAnalysis at 0x12ac670d910>,\n 'origin_spec_ser_an': <generic_series_analysis_class.GenericSeriesAnalysis at 0x12ad702ef40>,\n 'start_datetime': datetime.datetime(2022, 8, 4, 19, 42, 23),\n 'det_descr': 'MAQUINA_01 MCB 1 Input 1',\n 'sam_descr': 'SI-063/22 - Agua da Piscina do Reator IEA-R1 (GMX)',\n 'channel_energy_calib': <genericcalib_class.ChannelEnergyCalib at 0x12ad6ee1760>}"
     },
     "execution_count": 22,
     "metadata": {},
     "output_type": "execute_result"
    }
   ],
   "source": [
    "vars(a_spec)"
   ],
   "metadata": {
    "collapsed": false,
    "ExecuteTime": {
     "start_time": "2023-04-05T17:42:04.696133Z",
     "end_time": "2023-04-05T17:42:04.789852Z"
    }
   }
  },
  {
   "cell_type": "code",
   "execution_count": null,
   "outputs": [],
   "source": [],
   "metadata": {
    "collapsed": false
   }
  },
  {
   "cell_type": "code",
   "execution_count": null,
   "outputs": [],
   "source": [],
   "metadata": {
    "collapsed": false
   }
  },
  {
   "cell_type": "code",
   "execution_count": null,
   "outputs": [],
   "source": [],
   "metadata": {
    "collapsed": false
   }
  },
  {
   "cell_type": "code",
   "execution_count": null,
   "id": "9ed8267c",
   "metadata": {},
   "outputs": [],
   "source": [
    "a_spec = Spec(a_spec_name, reduced_f_name)\n",
    "a_spec.total_analysis(gener_dataframe=True)"
   ]
  },
  {
   "cell_type": "code",
   "execution_count": null,
   "id": "fe7bf546",
   "metadata": {},
   "outputs": [],
   "source": [
    "vars(a_spec)"
   ]
  },
  {
   "cell_type": "code",
   "execution_count": null,
   "id": "6d225e54",
   "metadata": {},
   "outputs": [],
   "source": [
    "vars(a_spec.net_spec_ser_an.pk_parms)"
   ]
  },
  {
   "cell_type": "code",
   "execution_count": null,
   "id": "8f696c30",
   "metadata": {},
   "outputs": [],
   "source": [
    "# 2022-Jun-24 No momento esses são os que interessam:\n",
    "# pann = ogra.a_spec..saw_spec.spec_parms\n",
    "cntarr = a_spec.net_spec_ser_an.y_s\n",
    "pkprms = a_spec.net_spec_ser_an.pk_parms"
   ]
  },
  {
   "cell_type": "code",
   "execution_count": null,
   "id": "18d80f2a",
   "metadata": {},
   "outputs": [],
   "source": [
    "vars(a_spec.channel_energy_calib)"
   ]
  },
  {
   "cell_type": "code",
   "execution_count": null,
   "id": "e6a2b2c7",
   "metadata": {},
   "outputs": [],
   "source": [
    "a_spec.channel_energy_calib.p_en(453.5)"
   ]
  },
  {
   "cell_type": "code",
   "execution_count": null,
   "id": "cf6846ad",
   "metadata": {},
   "outputs": [],
   "source": [
    "a_spec.pkl_file"
   ]
  },
  {
   "cell_type": "code",
   "execution_count": null,
   "id": "649b14ce",
   "metadata": {},
   "outputs": [],
   "source": [
    "df_1 = pd.read_pickle(a_spec.pkl_file)\n",
    "df_1"
   ]
  },
  {
   "cell_type": "code",
   "execution_count": null,
   "id": "7e3ae600",
   "metadata": {},
   "outputs": [],
   "source": [
    "# 2023-Mar-20\n",
    "# Lendo biblioteca de nuclídeos\n",
    "pisciro_eng_df = pd.read_excel('../data/Pisciro-Eng_(2019).ods')\n",
    "pisciro_eng_df"
   ]
  },
  {
   "cell_type": "code",
   "execution_count": null,
   "id": "2995271d",
   "metadata": {},
   "outputs": [],
   "source": [
    "vars_pkprms = vars(pkprms)\n",
    "vars_pkprms"
   ]
  },
  {
   "cell_type": "code",
   "execution_count": null,
   "id": "256841bb",
   "metadata": {},
   "outputs": [],
   "source": [
    "keys_to_get = ['fwhm_centr', 'rough_sums', 'centroids', 'variances']"
   ]
  },
  {
   "cell_type": "code",
   "execution_count": null,
   "id": "ef5d481e",
   "metadata": {},
   "outputs": [],
   "source": [
    "prep_for_dict = [(key, vars_pkprms[key]) for key in keys_to_get]"
   ]
  },
  {
   "cell_type": "code",
   "execution_count": null,
   "id": "e85c870b",
   "metadata": {},
   "outputs": [],
   "source": [
    "pks_dict = dict(prep_for_dict)"
   ]
  },
  {
   "cell_type": "code",
   "execution_count": null,
   "id": "d8e8f9a5",
   "metadata": {},
   "outputs": [],
   "source": [
    "peaks_df = pd.DataFrame.from_dict(pks_dict)"
   ]
  },
  {
   "cell_type": "code",
   "execution_count": null,
   "id": "dc341172",
   "metadata": {},
   "outputs": [],
   "source": [
    "p_en = a_spec.channel_energy_calib.p_en\n",
    "p_en"
   ]
  },
  {
   "cell_type": "code",
   "execution_count": null,
   "id": "6d9f427a",
   "metadata": {},
   "outputs": [],
   "source": [
    "peaks_df['energy'] = p_en(peaks_df['centroids'])\n",
    "peaks_df"
   ]
  },
  {
   "cell_type": "code",
   "execution_count": null,
   "id": "55c413a9",
   "metadata": {},
   "outputs": [],
   "source": [
    "# 2023-Mar-21: Identify nuclide candidates in peaks_df from pisciro_eng_df, with energy tolerance en_toler"
   ]
  },
  {
   "cell_type": "code",
   "execution_count": null,
   "id": "44750c30",
   "metadata": {},
   "outputs": [],
   "source": [
    "big_merge = pd.merge(peaks_df, pisciro_eng_df, how='cross')\n",
    "big_merge"
   ]
  },
  {
   "cell_type": "code",
   "execution_count": null,
   "id": "886e4072",
   "metadata": {},
   "outputs": [],
   "source": [
    "en_toler = 2.0"
   ]
  },
  {
   "cell_type": "code",
   "execution_count": null,
   "id": "8f2a8a4c",
   "metadata": {},
   "outputs": [],
   "source": [
    "big_merge['delta_en'] = big_merge.energy - big_merge.Engy\n",
    "big_merge"
   ]
  },
  {
   "cell_type": "code",
   "execution_count": null,
   "id": "e2eb0fdc",
   "metadata": {},
   "outputs": [],
   "source": [
    "# https://pandas.pydata.org/pandas-docs/stable/user_guide/indexing.html#selection-by-callable\n",
    "# MaTched ENergies\n",
    "mt_en = pd.DataFrame(big_merge.loc[lambda df: abs(df['delta_en']) < en_toler, :]) \\\n",
    "[['Engy', 'Nucl', 'rough_sums', 'Yie']]\n",
    "mt_en\n",
    "# mt_en[['Engy', 'Nucl']]"
   ]
  },
  {
   "cell_type": "code",
   "execution_count": null,
   "id": "b7611c40",
   "metadata": {},
   "outputs": [],
   "source": [
    "# Now, we can insert the counting efficiency function:"
   ]
  },
  {
   "cell_type": "code",
   "execution_count": null,
   "id": "a82fa68d",
   "metadata": {},
   "outputs": [],
   "source": [
    "# Curva de eficiência para frasco F100 do GMX (2021):\n",
    "# Arquivo Effic_F100_GMX_2021.ods construído a partir de\n",
    "# Nextcloud\\Ipen\\Radiometria\\2021_Curvas-efic_Bessa\\F100 GMX_2021.pdf"
   ]
  },
  {
   "cell_type": "code",
   "execution_count": null,
   "id": "e53e87fa",
   "metadata": {},
   "outputs": [],
   "source": [
    "# 2023-Mar-21\n",
    "# Lendo curva de eficiência\n",
    "eff_F100_GMX_2021_df = pd.read_excel('../data/Effic_F100_GMX_2021.ods')\n",
    "effics_df = eff_F100_GMX_2021_df\n",
    "effics_df"
   ]
  },
  {
   "cell_type": "code",
   "execution_count": null,
   "id": "da6220ff",
   "metadata": {},
   "outputs": [],
   "source": [
    "p_eff_log = P.fit(np.log(effics_df.Engy),\n",
    "                  np.log(effics_df.Effic),\n",
    "                  full=True,\n",
    "                  w = 1/effics_df.sEffic, deg=5)\n",
    "def p_eff(en):\n",
    "    return np.exp(p_eff_log[0](np.log(en)))"
   ]
  },
  {
   "cell_type": "code",
   "execution_count": null,
   "id": "450a401f",
   "metadata": {},
   "outputs": [],
   "source": [
    "p_eff_log"
   ]
  },
  {
   "cell_type": "code",
   "execution_count": null,
   "id": "819d78f0",
   "metadata": {},
   "outputs": [],
   "source": [
    "p_eff(effics_df.Engy)"
   ]
  },
  {
   "cell_type": "code",
   "execution_count": null,
   "id": "fcdc3f6f",
   "metadata": {},
   "outputs": [],
   "source": [
    "log_unc_fitted_effic = P([4.70033902423E+01, -2.82179877310E+01, 5.72952770082E+00, -3.88458849293E-01])\n",
    "log_unc_fitted_effic"
   ]
  },
  {
   "cell_type": "code",
   "execution_count": null,
   "id": "be49a55c",
   "metadata": {},
   "outputs": [],
   "source": [
    "# Incerteza percentual da curva F100_GMX_2021 para os valores de eficiência\n",
    "# Os coeficientes foram tirados do InterWinner e a curva reconstruída aqui.\n",
    "unc_perc_fitted_effic = np.exp(log_unc_fitted_effic(np.log(effics_df.Engy)))\n",
    "unc_perc_fitted_effic"
   ]
  },
  {
   "cell_type": "code",
   "execution_count": null,
   "id": "5a13d474",
   "metadata": {},
   "outputs": [],
   "source": [
    "# Sample size (L, kg, g etc.)\n",
    "samp_size = 0.1"
   ]
  },
  {
   "cell_type": "code",
   "execution_count": null,
   "id": "525026c9",
   "metadata": {},
   "outputs": [],
   "source": [
    "mt_en['uncorr_activ'] = mt_en['rough_sums'] /\\\n",
    "                        (p_eff(mt_en['Engy']) * 1e-4 * mt_en['Yie'] *\n",
    "                         a_spec.lv_time * samp_size)"
   ]
  },
  {
   "cell_type": "code",
   "execution_count": null,
   "id": "ec5184cd",
   "metadata": {},
   "outputs": [],
   "source": [
    "mt_en"
   ]
  },
  {
   "cell_type": "code",
   "execution_count": null,
   "id": "8451a9c9",
   "metadata": {},
   "outputs": [],
   "source": [
    "# 2023-Mar-22 PAREI AQUI"
   ]
  },
  {
   "cell_type": "code",
   "execution_count": null,
   "id": "907315ba",
   "metadata": {},
   "outputs": [],
   "source": [
    "\n",
    "msedg serg set asrhg saertrg"
   ]
  },
  {
   "cell_type": "code",
   "execution_count": null,
   "id": "14e3e8c7",
   "metadata": {},
   "outputs": [],
   "source": []
  },
  {
   "cell_type": "code",
   "execution_count": null,
   "id": "4052065b",
   "metadata": {},
   "outputs": [],
   "source": [
    "rng = np.random.default_rng()\n",
    "# rints = rng.integers(low=0, high=10, size=3)\n",
    "\n",
    "# 2022-Jun-23: Reativar após consertar o arquivo pickle:\n",
    "# rints = rng.integers(pkl_df1.count()[0], size=3)\n",
    "# print(rints)\n",
    "# type(rints[0])\n",
    "# some_spec = rints[1]\n",
    "# pkl_df1.iloc[some_spec]\n",
    "# a_spec_name = pkl_df1.iloc[some_spec]['FName']\n",
    "# a_spec_name"
   ]
  },
  {
   "cell_type": "code",
   "execution_count": null,
   "id": "f27f94a6",
   "metadata": {},
   "outputs": [],
   "source": [
    "# 2022-Dez-28: Atualizar:\n",
    "# (2022-Jun-24 Lembrando como estão os defaults de total_analysis(...):\n",
    "# def total_analysis(self, k_sep_pk=2.0, smoo=3000.0, widths_range=(4.0, 20.0)):)\n",
    "# smoo=3000 fica razoável, mas faz umas ondas\n",
    "# smoo=1500 fica horrível, faz uns abismos. Quanto menor, pior\n",
    "# smoo=400 fica razoável, mas faz umas ondas\n",
    "# ogra.perform_total_analysis(\n",
    "#     k_sep_pk=2.0, smoo=4096, widths_range=(4.0, 20.0)\n",
    "# )"
   ]
  },
  {
   "cell_type": "code",
   "execution_count": null,
   "id": "6c9b5595",
   "metadata": {},
   "outputs": [],
   "source": []
  },
  {
   "cell_type": "code",
   "execution_count": null,
   "id": "897d2983",
   "metadata": {},
   "outputs": [],
   "source": []
  },
  {
   "cell_type": "code",
   "execution_count": null,
   "id": "6f82debe",
   "metadata": {},
   "outputs": [],
   "source": []
  },
  {
   "cell_type": "code",
   "execution_count": null,
   "id": "ce367e24",
   "metadata": {},
   "outputs": [],
   "source": [
    "# 2022-Dez-28\n",
    "# Testes com conversão de pandas df .to_html\n",
    "# Teste 1: html direto\n",
    "df_to_html = a_spec.spec_pks_df.to_html(columns=['peaks', 'centroids', 'rough_sums'])\n",
    "df_to_html"
   ]
  },
  {
   "cell_type": "code",
   "execution_count": null,
   "id": "7aa0a26b",
   "metadata": {},
   "outputs": [],
   "source": [
    "# 2022-Dez-28\n",
    "# Testes com conversão de pandas df .to_html\n",
    "# Teste 2: aplicando tags html:\n",
    "df_to_html = ogra.a_spec.spec_pks_df.to_html(\n",
    "    columns=['peaks', 'centroids', 'rough_sums'],\n",
    "    formatters={\n",
    "        'peaks': lambda x: '<b>' + str(x) + '</b>',\n",
    "        'rough_sums': lambda x: '<i>' + str(x) + '</i>'}\n",
    ")\n",
    "df_to_html\n",
    "import IPython\n",
    "IPython.display.HTML(df_to_html)"
   ]
  },
  {
   "cell_type": "code",
   "execution_count": null,
   "id": "03a37dbe",
   "metadata": {},
   "outputs": [],
   "source": [
    "# 2022-Dez-28\n",
    "# Testes com conversão de pandas df .to_html\n",
    "# Teste 3: aplicando float_formatters:\n",
    "df_to_html = ogra.a_spec.spec_pks_df.to_html(\n",
    "    columns=['peaks', 'centroids', 'rough_sums'],\n",
    "    float_format='{:.3f}'\n",
    ")\n",
    "df_to_html"
   ]
  },
  {
   "cell_type": "code",
   "execution_count": null,
   "id": "db9828d1",
   "metadata": {},
   "outputs": [],
   "source": [
    "# Teste 3: usando Styles:\n",
    "my_df = ogra.a_spec.spec_pks_df\n",
    "my_df.style.format(na_rep='MISSING', thousands=\" \",\n",
    "                   formatter={('fwhm_centr', 'centroids'): \"{:.2f}\"})"
   ]
  },
  {
   "cell_type": "code",
   "execution_count": null,
   "id": "ef4b57fa",
   "metadata": {},
   "outputs": [],
   "source": [
    "df = pd.DataFrame([[38.0, 2.0, 18.0, 22.0, 21, np.nan],[19, 439, 6, 452, 226,232]],\n",
    "                  index=pd.Index(['Tumour (Positive)', 'Non-Tumour (Negative)'], name='Actual Label:'),\n",
    "                  columns=pd.MultiIndex.from_product([['Decision Tree', 'Regression', 'Random'],['Tumour', 'Non-Tumour']], names=['Model:', 'Predicted:']))\n",
    "\n",
    "df.style.format(precision=0, na_rep='MISSING', thousands=\" \",\n",
    "                formatter={('Decision Tree', 'Tumour'): \"{:.2f}\",\n",
    "                           ('Regression', 'Non-Tumour'): lambda x: \"$ {:,.1f}\".format(x*-1e6)\n",
    "                           })"
   ]
  },
  {
   "cell_type": "code",
   "execution_count": null,
   "id": "6d71820f",
   "metadata": {},
   "outputs": [],
   "source": []
  },
  {
   "cell_type": "code",
   "execution_count": null,
   "id": "e14bd194",
   "metadata": {},
   "outputs": [],
   "source": []
  },
  {
   "cell_type": "code",
   "execution_count": null,
   "id": "d4396271",
   "metadata": {},
   "outputs": [],
   "source": [
    "# 2022-Jun-14\n",
    "# Verificando o que se tem até agora em a_raw_spec:\n",
    "# (Pode pular e ir direto aos gráficos)"
   ]
  },
  {
   "cell_type": "code",
   "execution_count": null,
   "id": "7a989972",
   "metadata": {},
   "outputs": [],
   "source": [
    "\n",
    "# Testes:\n",
    "# https://numpy.org/doc/stable/reference/random/generator.html#distributions\n",
    "# x = np.linspace(0, 10, N) + rng.normal(loc=7, scale=0.05, size=N)\n",
    "# y = np.linspace(22, 23, N)\n",
    "\n",
    "# Busca do canal onde a altura do espectro se \"estabiliza\"\n",
    "# https://numpy.org/doc/stable/reference/routines.sort.html#searching\n",
    "\n"
   ]
  },
  {
   "cell_type": "code",
   "execution_count": 23,
   "id": "7762cf61",
   "metadata": {},
   "outputs": [
    {
     "ename": "NameError",
     "evalue": "name 'pkprms' is not defined",
     "output_type": "error",
     "traceback": [
      "\u001B[1;31m---------------------------------------------------------------------------\u001B[0m",
      "\u001B[1;31mNameError\u001B[0m                                 Traceback (most recent call last)",
      "Cell \u001B[1;32mIn[23], line 1\u001B[0m\n\u001B[1;32m----> 1\u001B[0m \u001B[38;5;28mvars\u001B[39m(\u001B[43mpkprms\u001B[49m)\n",
      "\u001B[1;31mNameError\u001B[0m: name 'pkprms' is not defined"
     ]
    }
   ],
   "source": [
    "vars(pkprms)"
   ]
  },
  {
   "cell_type": "code",
   "execution_count": null,
   "id": "9ec5149d",
   "metadata": {},
   "outputs": [],
   "source": [
    "# 2022-Dez-21 Achar o pico de maior área inicial do espectro:"
   ]
  },
  {
   "cell_type": "code",
   "execution_count": null,
   "id": "f2281a3d",
   "metadata": {},
   "outputs": [],
   "source": [
    "largest_pk = np.argmax(pkprms.rough_sums)\n",
    "pkprms.centroids[largest_pk]"
   ]
  },
  {
   "cell_type": "code",
   "execution_count": null,
   "id": "3b05fef8",
   "metadata": {},
   "outputs": [],
   "source": [
    "# Só pra lembrar como faz divisão inteira\n",
    "21 // 7"
   ]
  },
  {
   "cell_type": "code",
   "execution_count": null,
   "id": "b825b145",
   "metadata": {},
   "outputs": [],
   "source": [
    "wi_re = pkprms.wide_regions[largest_pk]\n",
    "x = np.linspace(wi_re[0], wi_re[1], num=wi_re[1]-wi_re[0]+1)\n",
    "y = cntarr[wi_re[0]:wi_re[1]+1]\n",
    "c1 =  pkprms.centroids[largest_pk]\n",
    "s1 = pkprms.propts['widths'][largest_pk]*pkprms.k_fwhm_to_sd\n",
    "a1 = pkprms.rough_sums[largest_pk]\n",
    "# c2 = 313\n",
    "# s2 = 1.5\n",
    "# a2 = 400\n",
    "sste = 2.0"
   ]
  },
  {
   "cell_type": "code",
   "execution_count": null,
   "id": "334e5e54",
   "metadata": {},
   "outputs": [],
   "source": []
  },
  {
   "cell_type": "code",
   "execution_count": null,
   "id": "48a68cb1",
   "metadata": {},
   "outputs": [],
   "source": [
    "# 2023-Jan-3\n",
    "# Aqui finalizo este teste:\n",
    "# Dado um espectro, escolhi o pico mais proeminente do espectro\n",
    "# e fiz o ajuste gaussianco com lmfit\n",
    "# No caso, o pico tem área, centroide, SD e FWHM:\n",
    "# g1_amplitude:  5264.84728 +/- 85.1465566 (1.62%) (init = 5347.497)\n",
    "# g1_center:     1926.29564 +/- 0.02690572 (0.00%) (init = 1926.275)\n",
    "# g1_sigma:      1.44040103 +/- 0.02690060 (1.87%) (init = 1.418733)\n",
    "# g1_fwhm:       3.39188516 +/- 0.06334608 (1.87%) == '2.3548200*g1_sigma'\n",
    "# g1_height:     1458.18438 +/- 23.5824677 (1.62%) == '0.3989423*g1_amplitude/max(1e-15, g1_sigma)'\n",
    "\n",
    "# Comparando com saíuda do Genie:\n",
    "# canal (>0)    En:    FWHM (keV)    net area    net area unc   continuum\n",
    "# 1927.34      1173.47 2.04          5.40E+003   89.73          8.83E+002\n",
    "#"
   ]
  },
  {
   "cell_type": "code",
   "execution_count": null,
   "id": "c3fd0934",
   "metadata": {},
   "outputs": [],
   "source": [
    "out"
   ]
  },
  {
   "cell_type": "code",
   "execution_count": null,
   "id": "cbbd80b3",
   "metadata": {},
   "outputs": [],
   "source": [
    "out.params"
   ]
  },
  {
   "cell_type": "code",
   "execution_count": null,
   "id": "e89b15da",
   "metadata": {},
   "outputs": [],
   "source": [
    "out.var_names"
   ]
  },
  {
   "cell_type": "code",
   "execution_count": null,
   "id": "5699594c",
   "metadata": {},
   "outputs": [],
   "source": [
    "out.params.items()"
   ]
  },
  {
   "cell_type": "code",
   "execution_count": null,
   "id": "f5f835bb",
   "metadata": {},
   "outputs": [],
   "source": [
    "out.params.pretty_print()"
   ]
  },
  {
   "cell_type": "code",
   "execution_count": null,
   "id": "723996f8",
   "metadata": {},
   "outputs": [],
   "source": [
    "print('-------------------------------')\n",
    "print('Parameter    Value       Stderr')\n",
    "for name, param in out.params.items():\n",
    "    # print(f'{name:7s} {param.value:11.5f} {param.stderr:11.5f}')\n",
    "    print(name)\n",
    "    print(param)\n",
    "    print(param.value)"
   ]
  },
  {
   "cell_type": "code",
   "execution_count": null,
   "id": "2c31812e",
   "metadata": {},
   "outputs": [],
   "source": []
  },
  {
   "cell_type": "code",
   "execution_count": null,
   "id": "a718f8f6",
   "metadata": {},
   "outputs": [],
   "source": [
    "def gauss_lmfit_singlet(pkprms, ipk):\n",
    "    wi_re = pkprms.wide_regions[ipk]\n",
    "    print(f'pico: {wi_re}')\n",
    "    x = np.linspace(wi_re[0], wi_re[1], num=wi_re[1]-wi_re[0]+1)\n",
    "    y = cntarr[wi_re[0]:wi_re[1]+1]\n",
    "    c1 = pkprms.centroids[ipk]\n",
    "    s1 = pkprms.propts['widths'][ipk]*pkprms.k_fwhm_to_sd\n",
    "    a1 = pkprms.rough_sums[ipk]\n",
    "\n",
    "    parames = Parameters()\n",
    "\n",
    "    gauss1 = GaussianModel(prefix='g1_')\n",
    "    parames.update(gauss1.make_params())\n",
    "    parames['g1_center'].set(value=c1, min=c1-2, max=c1+2)\n",
    "    parames['g1_sigma'].set(value=s1, min=0.5, max=10)\n",
    "    parames['g1_amplitude'].set(value=a1, min=10)\n",
    "\n",
    "    mod = gauss1\n",
    "\n",
    "    init = mod.eval(parames, x=x)\n",
    "    out = mod.fit(y, parames, x=x, verbose=False)\n",
    "    print('Fez.')\n",
    "\n",
    "    # ret = [param for param in out.params.items()]\n",
    "    ret = out\n",
    "    return ret"
   ]
  },
  {
   "cell_type": "code",
   "execution_count": null,
   "id": "84e2d85f",
   "metadata": {},
   "outputs": [],
   "source": [
    "for ipk in range(len(pkprms.peaks)):\n",
    "    ret = gauss_lmfit_singlet(pkprms, ipk)\n",
    "    print(ret)"
   ]
  },
  {
   "cell_type": "code",
   "execution_count": null,
   "id": "5cf511dc",
   "metadata": {},
   "outputs": [],
   "source": [
    "ret"
   ]
  },
  {
   "cell_type": "code",
   "execution_count": null,
   "id": "b3755fa3",
   "metadata": {},
   "outputs": [],
   "source": [
    "ret.params"
   ]
  },
  {
   "cell_type": "code",
   "execution_count": null,
   "id": "beb21bcb",
   "metadata": {},
   "outputs": [],
   "source": [
    "for name, param in ret.params.items():\n",
    "    print(name, param.value, param.stderr)"
   ]
  },
  {
   "cell_type": "code",
   "execution_count": null,
   "id": "0aba2ce3",
   "metadata": {},
   "outputs": [],
   "source": [
    "for ipk in range(len(pkprms.peaks)):\n",
    "    ret = gauss_lmfit_singlet(pkprms, ipk)\n",
    "    # ret.params.pretty_print()"
   ]
  },
  {
   "cell_type": "code",
   "execution_count": null,
   "id": "e23229b1",
   "metadata": {},
   "outputs": [],
   "source": [
    "ret"
   ]
  },
  {
   "cell_type": "code",
   "execution_count": null,
   "id": "bf8c2e77",
   "metadata": {},
   "outputs": [],
   "source": [
    "xfgn sr hsrthf srth"
   ]
  },
  {
   "cell_type": "code",
   "execution_count": null,
   "id": "6992a805",
   "metadata": {},
   "outputs": [],
   "source": []
  },
  {
   "cell_type": "code",
   "execution_count": null,
   "id": "52922cea",
   "metadata": {},
   "outputs": [],
   "source": []
  },
  {
   "cell_type": "code",
   "execution_count": null,
   "id": "7e005512",
   "metadata": {},
   "outputs": [],
   "source": []
  },
  {
   "cell_type": "code",
   "execution_count": null,
   "id": "dc68eaf1",
   "metadata": {},
   "outputs": [],
   "source": []
  },
  {
   "cell_type": "code",
   "execution_count": null,
   "id": "32c7f841",
   "metadata": {},
   "outputs": [],
   "source": [
    "my_df.dtypes"
   ]
  },
  {
   "cell_type": "code",
   "execution_count": null,
   "id": "30f3c2c6",
   "metadata": {},
   "outputs": [],
   "source": [
    "ch_en = ogra.a_spec.channel_energy_calib.p_en"
   ]
  },
  {
   "cell_type": "code",
   "execution_count": null,
   "id": "02639c2c",
   "metadata": {},
   "outputs": [],
   "source": [
    "my_df['centrs_en'] = ch_en(my_df['centroids'])\n",
    "my_df"
   ]
  },
  {
   "cell_type": "code",
   "execution_count": null,
   "id": "4c3d002d",
   "metadata": {},
   "outputs": [],
   "source": [
    "\n",
    "# 2022-Dez-21:\n",
    "# PAREI AQUI;\n",
    "# Usar os resultados de áreas dos picos e montar as curvas de eficiência\n",
    "\n",
    "# 2022-Mar-16\n",
    "# Fazendo ajuste polinomial nas eficiências:"
   ]
  },
  {
   "cell_type": "code",
   "execution_count": null,
   "id": "d879b9ca",
   "metadata": {},
   "outputs": [],
   "source": [
    "from numpy.polynomial import Polynomial as P # 2020-09-06 Esta é a nova classe recomendada "
   ]
  },
  {
   "cell_type": "code",
   "execution_count": null,
   "id": "bdee2c0c",
   "metadata": {},
   "outputs": [],
   "source": [
    "En_CV_LoBg = np.array([81.00,\n",
    "86.54,\n",
    "121.78,\n",
    "133.51,\n",
    "302.85,\n",
    "344.28,\n",
    "356.02,\n",
    "604.69,\n",
    "661.66,\n",
    "795.84,\n",
    "964.13,\n",
    "1085.91,\n",
    "1112.12,\n",
    "1173.24,\n",
    "1332.50,\n",
    "1408.01\n",
    "])\n",
    "# En_CV_GMX"
   ]
  },
  {
   "cell_type": "code",
   "execution_count": null,
   "id": "0cbb6709",
   "metadata": {},
   "outputs": [],
   "source": [
    "Eff_CV_LoBg = np.array([4.4358,\n",
    "4.4723,\n",
    "5.4386,\n",
    "5.5045,\n",
    "3.1379,\n",
    "2.8722,\n",
    "2.7305,\n",
    "1.7817,\n",
    "1.6453,\n",
    "1.4026,\n",
    "1.1216,\n",
    "1.0200,\n",
    "0.9703,\n",
    "0.8962,\n",
    "0.8009,\n",
    "0.7397 ])\n",
    "Eff_CV_GMX"
   ]
  },
  {
   "cell_type": "code",
   "execution_count": null,
   "id": "652df02a",
   "metadata": {},
   "outputs": [],
   "source": [
    "unc_perc = np.array([2.01,\n",
    "1.43,\n",
    "1.33,\n",
    "2.11,\n",
    "1.81,\n",
    "1.42,\n",
    "1.41,\n",
    "2.24,\n",
    "1.44,\n",
    "3.68,\n",
    "1.66,\n",
    "1.71,\n",
    "1.58,\n",
    "0.87,\n",
    "0.87,\n",
    "1.51 ])\n",
    "unc_perc"
   ]
  },
  {
   "cell_type": "code",
   "execution_count": null,
   "id": "a8253e45",
   "metadata": {},
   "outputs": [],
   "source": [
    "ln_En_CV_LoBg = np.log (En_CV_LoBg)\n",
    "ln_Eff_CV_LoBg = np.log (Eff_CV_LoBg)"
   ]
  },
  {
   "cell_type": "code",
   "execution_count": null,
   "id": "f5bd63fa",
   "metadata": {},
   "outputs": [],
   "source": [
    "N = 16"
   ]
  },
  {
   "cell_type": "code",
   "execution_count": null,
   "id": "707e4eb6",
   "metadata": {},
   "outputs": [],
   "source": []
  },
  {
   "cell_type": "code",
   "execution_count": null,
   "id": "a36f47cd",
   "metadata": {},
   "outputs": [],
   "source": [
    "# 2022-Mar-23\n",
    "# Parêntese para fazer nova calibração canal-energia do HPGe do projeto:"
   ]
  },
  {
   "cell_type": "code",
   "execution_count": null,
   "id": "470492e0",
   "metadata": {},
   "outputs": [],
   "source": [
    "canal = np.array([210, 920, 1181, 7232])\n",
    "ener = np.array([46.5, 186, 238.6, 1460.8])"
   ]
  },
  {
   "cell_type": "code",
   "execution_count": null,
   "id": "cca85ecd",
   "metadata": {},
   "outputs": [],
   "source": [
    "projeto = P.fit(x=canal, y=ener, deg=1).convert()\n",
    "projeto"
   ]
  },
  {
   "cell_type": "code",
   "execution_count": null,
   "id": "24427279",
   "metadata": {},
   "outputs": [],
   "source": [
    "projeto_ener_canal = P.fit(x=ener, y=canal, deg=1).convert()\n",
    "projeto_ener_canal"
   ]
  },
  {
   "cell_type": "code",
   "execution_count": null,
   "id": "3132dd1f",
   "metadata": {},
   "outputs": [],
   "source": [
    "projeto_ener_canal(1173.2)"
   ]
  },
  {
   "cell_type": "code",
   "execution_count": null,
   "id": "849d9f72",
   "metadata": {},
   "outputs": [],
   "source": [
    "projeto_ener_canal(1332.486)"
   ]
  },
  {
   "cell_type": "code",
   "execution_count": null,
   "id": "f4f03034",
   "metadata": {},
   "outputs": [],
   "source": []
  },
  {
   "cell_type": "code",
   "execution_count": null,
   "id": "62f5ce19",
   "metadata": {},
   "outputs": [],
   "source": []
  },
  {
   "cell_type": "code",
   "execution_count": null,
   "id": "a994b4fb",
   "metadata": {},
   "outputs": [],
   "source": []
  },
  {
   "cell_type": "code",
   "execution_count": null,
   "id": "046b413c",
   "metadata": {},
   "outputs": [],
   "source": [
    "P.fit(x=ln_En_CV_LoBg, y=ln_Eff_CV_LoBg, deg=5).convert()"
   ]
  },
  {
   "cell_type": "code",
   "execution_count": null,
   "id": "d9ee3a03",
   "metadata": {},
   "outputs": [],
   "source": [
    "poly_w = P.fit(x=ln_En_CV_LoBg, y=ln_Eff_CV_LoBg, deg=5, w=1/unc_perc).convert()\n",
    "poly_w"
   ]
  },
  {
   "cell_type": "code",
   "execution_count": null,
   "id": "7ee72c1c",
   "metadata": {},
   "outputs": [],
   "source": [
    "poly_w = P.fit(x=ln_En_CV_LoBg, y=ln_Eff_CV_LoBg, deg=5, w=1/unc_perc**2).convert()\n",
    "poly_w"
   ]
  },
  {
   "cell_type": "code",
   "execution_count": null,
   "id": "d8bc573c",
   "metadata": {},
   "outputs": [],
   "source": [
    "print(poly_w)"
   ]
  },
  {
   "cell_type": "code",
   "execution_count": null,
   "id": "3d39a6fb",
   "metadata": {},
   "outputs": [],
   "source": [
    "poly_o = P.fit(x=ln_En_CV_LoBg, y=Eff_CV_LoBg, deg=5)\n",
    "print(poly_o)"
   ]
  },
  {
   "cell_type": "code",
   "execution_count": null,
   "id": "0939d1b6",
   "metadata": {},
   "outputs": [],
   "source": [
    "weights = np.linspace(1, 2, N)\n",
    "Xw = X * np.sqrt(weights)[:, None]\n",
    "yw = y * np.sqrt(weights)\n",
    "print (linalg.lstsq(Xw, yw)[0])"
   ]
  },
  {
   "cell_type": "code",
   "execution_count": null,
   "id": "be309f94",
   "metadata": {},
   "outputs": [],
   "source": [
    "weights = 1.0 / unc_perc**2.0\n",
    "weights"
   ]
  },
  {
   "cell_type": "code",
   "execution_count": null,
   "id": "f9771928",
   "metadata": {},
   "outputs": [],
   "source": [
    "Xw = ln_En_CV_LoBg * np.sqrt(weights)[:, None]\n",
    "yw = ln_Eff_CV_LoBg * np.sqrt(weights)\n",
    "print (linalg.lstsq(Xw, yw)[0])"
   ]
  },
  {
   "cell_type": "code",
   "execution_count": null,
   "id": "ddf1ab34",
   "metadata": {},
   "outputs": [],
   "source": [
    "print (linalg.lstsq(Xw, yw))"
   ]
  },
  {
   "cell_type": "code",
   "execution_count": null,
   "id": "d514150d",
   "metadata": {},
   "outputs": [],
   "source": [
    "X = ln_En_CV_LoBg\n",
    "y = ln_Eff_CV_LoBg\n",
    "w1 = linalg.lstsq(X, y)\n",
    "print (w1)"
   ]
  },
  {
   "cell_type": "code",
   "execution_count": null,
   "id": "7ebb8822",
   "metadata": {},
   "outputs": [],
   "source": [
    "np.log(2)"
   ]
  },
  {
   "cell_type": "code",
   "execution_count": null,
   "id": "db2a0cbc",
   "metadata": {},
   "outputs": [],
   "source": []
  },
  {
   "cell_type": "code",
   "execution_count": null,
   "id": "a6692867",
   "metadata": {},
   "outputs": [],
   "source": [
    "# 2022-Dez-28\n",
    "# Cópia do programa principal com interface, ograyspy_main_ui.py,\n",
    "# para testes com Pandas"
   ]
  },
  {
   "cell_type": "code",
   "execution_count": null,
   "id": "b6c26693",
   "metadata": {},
   "outputs": [],
   "source": [
    "import sys\n",
    "from PyQt5.QtCore import *\n",
    "from PyQt5.QtGui import *\n",
    "from PyQt5.QtWebEngineWidgets import QWebEngineView\n",
    "from PyQt5.QtWidgets import *\n",
    "from css_test import css_test, apply_css\n",
    "\n",
    "from ograyspy_class import Ograyspy\n",
    "# from html_window_class import SimpleHtmlViewer\n",
    "\n",
    "class MainWindow(QMainWindow):\n",
    "    count = 0\n",
    "\n",
    "    def __init__(self, parent=None):\n",
    "        super(MainWindow, self).__init__(parent)\n",
    "        self.mdi = QMdiArea()\n",
    "\n",
    "        self.mdi.setHorizontalScrollBarPolicy(Qt.ScrollBarAsNeeded)\n",
    "        self.mdi.setVerticalScrollBarPolicy(Qt.ScrollBarAsNeeded)\n",
    "        self.setCentralWidget(self.mdi)\n",
    "\n",
    "        # self.mdi.subWindowActivated.connect(self.updateMenus)\n",
    "        self.windowMapper = QSignalMapper(self)\n",
    "        # self.windowMapper.mapped[QWidget].connect(self.setActiveSubWindow)\n",
    "\n",
    "        self.setCentralWidget(self.mdi)\n",
    "        bar = self.menuBar()\n",
    "\n",
    "        file = bar.addMenu(\"File\")\n",
    "        file.addAction(\"New\")\n",
    "        file.addAction(\"Open\")\n",
    "        file.addAction(\"Pandas-generate an_html_file.html\")\n",
    "        file.addAction(\"Show spectrum graphic\")\n",
    "        file.addAction(\"Show Pandas dataframe\")\n",
    "        file.addAction(\"cascade\")\n",
    "        file.addAction(\"Tiled\")\n",
    "        file.addAction(\"Exit\")\n",
    "        file.triggered[QAction].connect(self.windowaction)\n",
    "        self.setWindowTitle(\"MDI demo\")\n",
    "\n",
    "    def windowaction(self, q):\n",
    "        print(\"triggered\")\n",
    "\n",
    "        if q.text() == \"New\":\n",
    "            MainWindow.count = MainWindow.count + 1\n",
    "            sub = QMdiSubWindow()\n",
    "            sub.setWidget(QTextEdit())\n",
    "            sub.setWindowTitle(\"subwindow\" + str(MainWindow.count))\n",
    "            self.mdi.addSubWindow(sub)\n",
    "            sub.show()\n",
    "\n",
    "        if q.text() == \"Open\":\n",
    "            fileName, _ = QFileDialog.getOpenFileName(self)\n",
    "            if fileName:\n",
    "                # This is a hack...\n",
    "                # existing = self.findMdiChild(fileName)\n",
    "                existing = True\n",
    "                if existing:\n",
    "                    MainWindow.count = MainWindow.count + 1\n",
    "                    sub = QMdiSubWindow()\n",
    "                    sub.setWidget(QTextEdit())\n",
    "                    # sub.setWindowTitle(\"subwindow\" + str(MainWindow.count))\n",
    "                    sub.setWindowTitle(fileName)\n",
    "                    self.mdi.addSubWindow(sub)\n",
    "                    sub.show()\n",
    "\n",
    "        if q.text() == \"Pandas-generate an_html_file.html\":\n",
    "            fileName, _ = QFileDialog.getOpenFileName(self)\n",
    "            if fileName:\n",
    "                # This is a hack...\n",
    "                # existing = self.findMdiChild(fileName)\n",
    "                existing = True\n",
    "                if existing:\n",
    "                    ogra = Ograyspy(batch_mode=False)\n",
    "                    # to_be_found = 'Genie_Transfer'\n",
    "                    # print('\\nogra.define_files_folder(to_be_found)')\n",
    "                    # ogra.define_files_folder(to_be_found)\n",
    "                    ogra.a_spec_name = fileName\n",
    "                    # AQUI: ativar gener_dataframe qdo estiver pronto.\n",
    "                    ogra.perform_total_analysis(peak_sd_fact=3.0, gener_dataframe=True)\n",
    "                    ogra.a_spec.spec_pks_df.to_html(buf='an_html_file.html')\n",
    "                    # print(ogra.a_spec.spec_pks_df)\n",
    "\n",
    "                    MainWindow.count = MainWindow.count + 1\n",
    "                    sub = QMdiSubWindow()\n",
    "                    web = QWebEngineView()\n",
    "                    # web.load(QUrl(\"file:///C:/Users/mmaduar/PycharmProjects/OGRaySpY/src/my_file.html\"))\n",
    "                    apply_css(ogra.a_spec.spec_pks_df)\n",
    "                    web.load(QUrl(\"file:///C:/Users/mmaduar/PycharmProjects/OGRaySpY/src/an_html_file.html\"))\n",
    "                    # 2022-Dez-27 PAREI AQUI:\n",
    "                    # - passar a saída de to_html como string?\n",
    "                    # - O html pode ser renderizado com sucesso, inclusive com css\n",
    "                    # - porém, parece que o SEI não aceita css. Paciência.\n",
    "\n",
    "                    # web.load(ogra.dataframe_html_string)\n",
    "                    # css_test()\n",
    "                    sub.setWidget(web)\n",
    "                    sub.setWindowTitle(\"subwindow\" + str(MainWindow.count))\n",
    "                    self.mdi.addSubWindow(sub)\n",
    "                    sub.show()\n",
    "\n",
    "        if q.text() == \"Show spectrum graphic\":\n",
    "            MainWindow.count = MainWindow.count + 1\n",
    "            sub = QMdiSubWindow()\n",
    "            web = QWebEngineView()\n",
    "            web.load(QUrl(\"file:///C:/Users/mmaduar/PycharmProjects/OGRaySpY/src/gross_counts_graph.html\"))\n",
    "            sub.setWidget(web)\n",
    "            sub.setWindowTitle(\"subwindow\" + str(MainWindow.count))\n",
    "            self.mdi.addSubWindow(sub)\n",
    "            sub.show()\n",
    "\n",
    "        if q.text() == \"Show Pandas dataframe\":\n",
    "            MainWindow.count = MainWindow.count + 1\n",
    "            sub = QMdiSubWindow()\n",
    "            web = QWebEngineView()\n",
    "            web.load(QUrl(\"file:///C:/Users/mmaduar/PycharmProjects/OGRaySpY/src/my_file.html\"))\n",
    "            # 2022-Dez-23 PAREI AQUI - passar a saída de to_html como string\n",
    "            # web.load(ogra.dataframe_html_string)\n",
    "            css_test()\n",
    "            sub.setWidget(web)\n",
    "            sub.setWindowTitle(\"subwindow\" + str(MainWindow.count))\n",
    "            self.mdi.addSubWindow(sub)\n",
    "            sub.show()\n",
    "\n",
    "        if q.text() == \"cascade\":\n",
    "            self.mdi.cascadeSubWindows()\n",
    "\n",
    "        if q.text() == \"Tiled\":\n",
    "            self.mdi.tileSubWindows()\n",
    "\n",
    "        if q.text() == \"Exit\":\n",
    "            QApplication.instance().exit()\n",
    "\n",
    "    def findMdiChild(self, fileName):\n",
    "        canonicalFilePath = QFileInfo(fileName).canonicalFilePath()\n",
    "\n",
    "        for window in self.mdiArea.subWindowList():\n",
    "            if window.widget().currentFile() == canonicalFilePath:\n",
    "                return window\n",
    "        return None\n",
    "\n",
    "\n",
    "def main():\n",
    "    app = QApplication(sys.argv)\n",
    "    ex = MainWindow()\n",
    "    ex.show()\n",
    "    sys.exit(app.exec_())\n",
    "\n",
    "\n",
    "if __name__ == '__main__':\n",
    "    main()\n"
   ]
  },
  {
   "cell_type": "code",
   "execution_count": null,
   "id": "5c41dfdc",
   "metadata": {},
   "outputs": [],
   "source": [
    "dir()"
   ]
  },
  {
   "cell_type": "code",
   "execution_count": null,
   "id": "70443e5d",
   "metadata": {},
   "outputs": [],
   "source": []
  }
 ],
 "metadata": {
  "kernelspec": {
   "display_name": "Python 3 (ipykernel)",
   "language": "python",
   "name": "python3"
  },
  "language_info": {
   "codemirror_mode": {
    "name": "ipython",
    "version": 3
   },
   "file_extension": ".py",
   "mimetype": "text/x-python",
   "name": "python",
   "nbconvert_exporter": "python",
   "pygments_lexer": "ipython3",
   "version": "3.10.7"
  }
 },
 "nbformat": 4,
 "nbformat_minor": 5
}
