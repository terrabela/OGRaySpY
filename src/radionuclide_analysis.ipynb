{
 "cells": [
  {
   "cell_type": "code",
   "execution_count": 1,
   "outputs": [],
   "source": [
    "# 2022-Dez-28\n",
    "# Jupyter notebook for tests with OGRaySpY modules"
   ],
   "metadata": {
    "collapsed": false
   }
  },
  {
   "cell_type": "code",
   "execution_count": 1,
   "outputs": [],
   "source": [],
   "metadata": {
    "collapsed": false
   }
  },
  {
   "cell_type": "code",
   "execution_count": 1,
   "outputs": [],
   "source": [],
   "metadata": {
    "collapsed": false
   }
  },
  {
   "cell_type": "code",
   "execution_count": 2,
   "outputs": [],
   "source": [
    "import numpy as np\n",
    "from numpy.random import default_rng\n",
    "from scipy import special\n",
    "import matplotlib.pyplot as plt\n",
    "import pandas as pd\n",
    "import plotly.graph_objects as go\n",
    "\n",
    "from spec_class import Spec"
   ],
   "metadata": {
    "collapsed": false
   }
  },
  {
   "cell_type": "code",
   "execution_count": 3,
   "metadata": {},
   "outputs": [],
   "source": [
    "# https://lmfit.github.io/lmfit-py/builtin_models.html\n",
    "from lmfit import Model, minimize, Parameters, report_fit, fit_report, printfuncs\n",
    "from lmfit.models import LinearModel, StepModel, ExponentialModel, LorentzianModel\n",
    "from lmfit.models import GaussianModel, SkewedGaussianModel, ExpressionModel"
   ]
  },
  {
   "cell_type": "code",
   "execution_count": 4,
   "metadata": {},
   "outputs": [],
   "source": [
    "from ograyspy_class import Ograyspy"
   ]
  },
  {
   "cell_type": "code",
   "execution_count": 5,
   "metadata": {},
   "outputs": [
    {
     "name": "stdout",
     "output_type": "stream",
     "text": [
      "Objeto ogra: Ograyspy criado.\n",
      "ogra.info_plat: Windows-10-10.0.19044-SP0\n",
      "ogra.info_mach: AMD64\n",
      "ogra.info_syst: Windows\n",
      "ogra.info_node: I56611\n",
      "ogra.home_path: C:\\Users\\mmaduar\n"
     ]
    }
   ],
   "source": [
    "ogra = Ograyspy(batch_mode=False)\n",
    "print('Objeto ogra: Ograyspy criado.')\n",
    "print(f'ogra.info_plat: {ogra.info_plat}')\n",
    "print(f'ogra.info_mach: {ogra.info_mach}')\n",
    "print(f'ogra.info_syst: {ogra.info_syst}')\n",
    "print(f'ogra.info_node: {ogra.info_node}')\n",
    "print(f'ogra.home_path: {ogra.home_path}')"
   ]
  },
  {
   "cell_type": "code",
   "execution_count": 6,
   "metadata": {},
   "outputs": [],
   "source": [
    "# f_name = '../../Genie_Transfer/Si/SI2019/SI04119.Chn'\n",
    "# f_name = '../gamma/spectra/ALMERA-2016/alm_samp5_sedim_16.IEC'"
   ]
  },
  {
   "cell_type": "code",
   "execution_count": 7,
   "metadata": {},
   "outputs": [
    {
     "name": "stdout",
     "output_type": "stream",
     "text": [
      "\n",
      "ogra.define_files_folder(to_be_found)\n",
      "Found folder name:  C:\\Users\\mmaduar\\Nextcloud\\Genie_Transfer\n",
      "Partes:  ('C:\\\\', 'Users', 'mmaduar', 'Nextcloud', 'Genie_Transfer')\n",
      "No. spec files:  6868\n"
     ]
    }
   ],
   "source": [
    "to_be_found = 'Genie_Transfer'\n",
    "# to_be_found = 'some_spectra'\n",
    "print('\\nogra.define_files_folder(to_be_found)')\n",
    "ogra.define_files_folder(to_be_found)"
   ]
  },
  {
   "cell_type": "code",
   "execution_count": 8,
   "outputs": [],
   "source": [
    "# a spectrum pattern to find and test:"
   ],
   "metadata": {
    "collapsed": false
   }
  },
  {
   "cell_type": "code",
   "execution_count": 9,
   "metadata": {},
   "outputs": [],
   "source": [
    "# 2022\n",
    "# Se quiser ignorar o espectro aleatório, definir aqui um específico. Se não, pular.\n",
    "# Vou ignorar o espectro já analisado e refazer a análise, para testes.\n",
    "# 2022-Mar-24 Resolver essa questão dos nomes de arquivos em Linux e Windows\n",
    "# a_spec_name = '..\\\\..\\\\Genie_Transfer\\\\Si\\\\2018\\\\PNR\\\\PRN0803.Chn'\n",
    "# a_spec_name = '../../Genie_Transfer/Si/2018/PNR/PRN0803.Chn'\n",
    "# a_spec_name = '../../Genie_Transfer/Si/2018/CTP/CTP0908-2.Chn'\n",
    "# Esse é um que dá problema na baseline perto do 159 keV do I-123:\n",
    "# a_spec_name = '../../Genie_Transfer/Si/2018/CCI/CCI1508I.Chn'\n",
    "# Precisa quebrar mais a baseline: Ok, consertado!!!\n",
    "# 2022: Já usando o GMX:\n",
    "# a_spec_name = '../../Genie_Transfer/Filtros/2022/Cci/CCI1603-I.Chn'\n",
    "\n"
   ]
  },
  {
   "cell_type": "code",
   "execution_count": 10,
   "metadata": {},
   "outputs": [],
   "source": [
    "\n",
    "# 2022-out-7: Excelente espectro para testes, tenho usado ultimamente:\n",
    "# a_pattern = 'Si/SI2018/SI11318.Chn'\n",
    "# 2022-nov-16: outros espectros:\n",
    "# a_pattern = \"Filtros/2022/Cci/CCI1603-I.Chn\"\n",
    "# a_pattern = \"Filtros/2022/Cci/CCI2302-I.Chn\"\n",
    "\n",
    "# a_pattern = \"Eso_non_existe.Chn\"\n",
    "\n",
    "# 2022-Dez-21 Buscando outro espectro\n",
    "# a_pattern = 'CCI1603-I'\n",
    "# 2022-Dez-28 Este é um espectro mais recente:\n",
    "# a_pattern = 'SI09722.Chn'\n",
    "\n",
    "# 2022-Dez-28 Este é um espectro mais recente que posso comparar com saída do Genie:\n",
    "# a_pattern = 'SI06322.Chn'\n",
    "# 2023-Mar-14 Para usar um espectro iec, pode ser este:\n",
    "a_pattern = 'Sample Code 02B'"
   ]
  },
  {
   "cell_type": "code",
   "execution_count": 11,
   "outputs": [
    {
     "name": "stdout",
     "output_type": "stream",
     "text": [
      "\n",
      "\n",
      "ogra.select_spectrum(Sample Code 02B)\n",
      "Existing:\n",
      "Achou! indice=6858, nomearq = almera22/xtra_proj/Sample Code 02B.IEC\n",
      "==========================\n",
      "Final choices:\n",
      "spectra_path: C:\\Users\\mmaduar\\Nextcloud\\Genie_Transfer\n",
      "a_spec_name: C:\\Users\\mmaduar\\Nextcloud\\Genie_Transfer\\almera22\\xtra_proj\\Sample Code 02B.IEC\n",
      "reduced_f_name: almera22/xtra_proj/Sample Code 02B.IEC\n",
      "A spec name: C:\\Users\\mmaduar\\Nextcloud\\Genie_Transfer\\almera22\\xtra_proj\\Sample Code 02B.IEC\n",
      "Reduced file name: almera22/xtra_proj/Sample Code 02B.IEC\n",
      "arq .iec\n",
      "executou __init__spec C:\\Users\\mmaduar\\Nextcloud\\Genie_Transfer\\almera22\\xtra_proj\\Sample Code 02B.IEC\n",
      "k_sep_pk:  2.0\n",
      "smoo:  4096\n",
      "widths_range:  (4.0, 20.0)\n",
      "=================\n",
      "Exec peaks_search(gross=True), espectro ORIGINAL\n",
      "resolve_peaks_and_regions:\n",
      "define_multiplets_regions completado. Define: self.mix_regions.\n",
      "resolve_peaks_and_regions:\n",
      "define_multiplets_regions completado. Define: self.mix_regions.\n",
      "{'net_spec_ser_an': <generic_series_analysis_class.GenericSeriesAnalysis object at 0x0000014B70CC31C0>, 'final_composed_baseline': <generic_series_analysis_class.GenericSeriesAnalysis object at 0x0000014B70CC3250>, 'f_name': WindowsPath('C:/Users/mmaduar/Nextcloud/Genie_Transfer/almera22/xtra_proj/Sample Code 02B.IEC'), 'reduced_f_name': 'almera22/xtra_proj/Sample Code 02B.IEC', 'sufx': '.iec', 'spec_io': None, 'lv_time': 150000.0, 'rl_time': 150243.81, 'source_datetime': 0, 'pkl_file': WindowsPath('C:/Users/mmaduar/Nextcloud/Genie_Transfer/almera22/xtra_proj/Sample Code 02B.pkl'), 'gross_spec_ser_an': <generic_series_analysis_class.GenericSeriesAnalysis object at 0x0000014B70CBAC10>, 'origin_spec_ser_an': <generic_series_analysis_class.GenericSeriesAnalysis object at 0x0000014B70CBACD0>, 'start_datetime': datetime.datetime(2022, 8, 29, 18, 55, 26), 'det_descr': '           DET01   1   1     0   ', 'sam_descr': 'Spiked water 02B; ma=103,29g; ; ', 'channel_energy_calib': <genericcalib_class.ChannelEnergyCalib object at 0x0000014B70CBAB80>, 'spec_pks_df': Empty DataFrame\n",
      "Columns: []\n",
      "Index: []}\n",
      "['__class__', '__delattr__', '__dict__', '__dir__', '__doc__', '__eq__', '__format__', '__ge__', '__getattribute__', '__gt__', '__hash__', '__init__', '__init_subclass__', '__le__', '__lt__', '__module__', '__ne__', '__new__', '__reduce__', '__reduce_ex__', '__repr__', '__setattr__', '__sizeof__', '__str__', '__subclasshook__', '__weakref__', 'channel_energy_calib', 'curr_h_win', 'det_descr', 'f_name', 'final_composed_baseline', 'generate_pandas_dataframe', 'gross_spec_ser_an', 'lv_time', 'net_spec_ser_an', 'origin_spec_ser_an', 'pkl_file', 'reduced_f_name', 'rl_time', 'sam_descr', 'source_datetime', 'spec_io', 'spec_pks_df', 'start_datetime', 'sufx', 'total_analysis']\n",
      "=================\n",
      "Fez total analysis.\n"
     ]
    }
   ],
   "source": [
    "\n",
    "\n",
    "print(f'\\n\\nogra.select_spectrum({a_pattern})')\n",
    "ogra.select_spectrum(a_pattern)\n",
    "print(f'A spec name: {ogra.a_spec_name}')\n",
    "print(f'Reduced file name: {ogra.reduced_f_name}')\n",
    "\n",
    "# AQUI: ativar gener_dataframe qdo estiver pronto.\n",
    "ogra.perform_total_analysis(peak_sd_fact=3.0, gener_dataframe=True)\n",
    "# print(ogra.a_spec.spec_pks_df)"
   ],
   "metadata": {
    "collapsed": false
   }
  },
  {
   "cell_type": "code",
   "execution_count": 12,
   "outputs": [],
   "source": [
    "# 2023-Mar-14\n",
    "# Padronizando a gravação e leitura de arquivos iec e chn em formato pkl para leitura pelo Pandas.\n",
    "# Neste ipynb, serão usados pkl com dois conteúdos distintos:\n",
    "# - dodos de um espectro determinado, eventualmente analisado (ex.: SI06322.pkl\n",
    "# - dados para identificação de um conjunto de espectros, tipicamente contidos num diretório único e respectivos subdiretórios."
   ],
   "metadata": {
    "collapsed": false
   }
  },
  {
   "cell_type": "code",
   "execution_count": 12,
   "outputs": [],
   "source": [],
   "metadata": {
    "collapsed": false
   }
  },
  {
   "cell_type": "code",
   "execution_count": 12,
   "outputs": [],
   "source": [
    "\n"
   ],
   "metadata": {
    "collapsed": false
   }
  },
  {
   "cell_type": "code",
   "execution_count": 12,
   "outputs": [],
   "source": [],
   "metadata": {
    "collapsed": false
   }
  },
  {
   "cell_type": "code",
   "execution_count": 13,
   "outputs": [
    {
     "data": {
      "text/plain": "{'net_spec_ser_an': <generic_series_analysis_class.GenericSeriesAnalysis at 0x14b70cc31c0>,\n 'final_composed_baseline': <generic_series_analysis_class.GenericSeriesAnalysis at 0x14b70cc3250>,\n 'f_name': WindowsPath('C:/Users/mmaduar/Nextcloud/Genie_Transfer/almera22/xtra_proj/Sample Code 02B.IEC'),\n 'reduced_f_name': 'almera22/xtra_proj/Sample Code 02B.IEC',\n 'sufx': '.iec',\n 'spec_io': None,\n 'lv_time': 150000.0,\n 'rl_time': 150243.81,\n 'source_datetime': 0,\n 'pkl_file': WindowsPath('C:/Users/mmaduar/Nextcloud/Genie_Transfer/almera22/xtra_proj/Sample Code 02B.pkl'),\n 'gross_spec_ser_an': <generic_series_analysis_class.GenericSeriesAnalysis at 0x14b70cbac10>,\n 'origin_spec_ser_an': <generic_series_analysis_class.GenericSeriesAnalysis at 0x14b70cbacd0>,\n 'start_datetime': datetime.datetime(2022, 8, 29, 18, 55, 26),\n 'det_descr': '           DET01   1   1     0   ',\n 'sam_descr': 'Spiked water 02B; ma=103,29g; ; ',\n 'channel_energy_calib': <genericcalib_class.ChannelEnergyCalib at 0x14b70cbab80>,\n 'spec_pks_df':                             reduced_f_name  peaks  ini_wide_regions  \\\n 0   almera22/xtra_proj/Sample Code 02B.IEC     53                46   \n 1   almera22/xtra_proj/Sample Code 02B.IEC    259               252   \n 2   almera22/xtra_proj/Sample Code 02B.IEC    295               288   \n 3   almera22/xtra_proj/Sample Code 02B.IEC    315               306   \n 4   almera22/xtra_proj/Sample Code 02B.IEC    383               378   \n 5   almera22/xtra_proj/Sample Code 02B.IEC    459               450   \n 6   almera22/xtra_proj/Sample Code 02B.IEC    919               911   \n 7   almera22/xtra_proj/Sample Code 02B.IEC    936               933   \n 8   almera22/xtra_proj/Sample Code 02B.IEC   1181              1178   \n 9   almera22/xtra_proj/Sample Code 02B.IEC   3273              3263   \n 10  almera22/xtra_proj/Sample Code 02B.IEC   7232              7229   \n \n     fin_wide_regions   fwhm_centr    centroids   rough_sums  peak_heights  \\\n 0                 57    51.610812    51.548199   869.282707    238.933118   \n 1                266   258.945145   259.554832   841.308479    147.226706   \n 2                303   295.404529   295.412682  3228.925782    588.740712   \n 3                322   313.939221   313.917043   423.399965     82.429587   \n 4                388   382.875771   382.949172   231.186185     47.651646   \n 5                468   459.163609   459.212272  1227.103471    194.520218   \n 6                927   919.101896   919.204454  1013.966060    153.025021   \n 7                939   936.075295   935.863913   151.424451     49.924591   \n 8               1183  1180.561259  1180.579050   165.125194     51.360942   \n 9               3285  3274.236737  3273.887146  1365.745076    177.641785   \n 10              7236  7232.366144  7232.646823   198.715550     38.417971   \n \n     left_thresholds  right_thresholds  prominences  left_bases  right_bases  \\\n 0        118.164586        230.005467   238.933118          48           56   \n 1         54.322840         17.165975   147.226706         254          269   \n 2        133.824918         23.176820   588.740712         290          303   \n 3         29.630158         17.383119    82.429587         310          318   \n 4         13.702568         17.312258    47.651646         378          389   \n 5         21.171633          5.838204   194.520218         453          466   \n 6         14.491194         26.517851   153.025021         911          925   \n 7         26.195685         22.808043    49.924591         925          954   \n 8         17.655491         38.351803    51.360942        1177         1184   \n 9         20.222068         27.771309   177.641785        3263         3283   \n 10        21.090618         10.907448    38.417971        7224         7242   \n \n     width_heights     left_ips    right_ips    widths     variances  \n 0      119.466559    49.702216    53.519407  3.817192  24681.593697  \n 1       73.613353   256.339393   261.550896  5.211503   5249.670644  \n 2      294.370356   292.857920   297.951138  5.093218   6538.644738  \n 3       41.214793   311.241601   316.636840  5.395239   3408.023214  \n 4       23.825823   381.054268   384.697273  3.643005   1997.604412  \n 5       97.260109   456.102297   462.224922  6.122625   4867.953066  \n 6       76.512511   916.300637   921.903155  5.602518   3012.507518  \n 7       24.962295   935.047084   937.103507  2.056423    922.575549  \n 8       25.680471  1179.452916  1181.669603  2.216687    998.874806  \n 9       88.820893  3270.397460  3278.076015  7.678555   1974.811242  \n 10      19.208986  7231.089217  7233.643071  2.553854    319.284450  }"
     },
     "execution_count": 13,
     "metadata": {},
     "output_type": "execute_result"
    }
   ],
   "source": [
    "vars(ogra.a_spec)"
   ],
   "metadata": {
    "collapsed": false
   }
  },
  {
   "cell_type": "code",
   "execution_count": 14,
   "outputs": [
    {
     "data": {
      "text/plain": "                            reduced_f_name  peaks  ini_wide_regions  \\\n0   almera22/xtra_proj/Sample Code 02B.IEC     53                46   \n1   almera22/xtra_proj/Sample Code 02B.IEC    259               252   \n2   almera22/xtra_proj/Sample Code 02B.IEC    295               288   \n3   almera22/xtra_proj/Sample Code 02B.IEC    315               306   \n4   almera22/xtra_proj/Sample Code 02B.IEC    383               378   \n5   almera22/xtra_proj/Sample Code 02B.IEC    459               450   \n6   almera22/xtra_proj/Sample Code 02B.IEC    919               911   \n7   almera22/xtra_proj/Sample Code 02B.IEC    936               933   \n8   almera22/xtra_proj/Sample Code 02B.IEC   1181              1178   \n9   almera22/xtra_proj/Sample Code 02B.IEC   3273              3263   \n10  almera22/xtra_proj/Sample Code 02B.IEC   7232              7229   \n\n    fin_wide_regions   fwhm_centr    centroids   rough_sums  peak_heights  \\\n0                 57    51.610812    51.548199   869.282707    238.933118   \n1                266   258.945145   259.554832   841.308479    147.226706   \n2                303   295.404529   295.412682  3228.925782    588.740712   \n3                322   313.939221   313.917043   423.399965     82.429587   \n4                388   382.875771   382.949172   231.186185     47.651646   \n5                468   459.163609   459.212272  1227.103471    194.520218   \n6                927   919.101896   919.204454  1013.966060    153.025021   \n7                939   936.075295   935.863913   151.424451     49.924591   \n8               1183  1180.561259  1180.579050   165.125194     51.360942   \n9               3285  3274.236737  3273.887146  1365.745076    177.641785   \n10              7236  7232.366144  7232.646823   198.715550     38.417971   \n\n    left_thresholds  right_thresholds  prominences  left_bases  right_bases  \\\n0        118.164586        230.005467   238.933118          48           56   \n1         54.322840         17.165975   147.226706         254          269   \n2        133.824918         23.176820   588.740712         290          303   \n3         29.630158         17.383119    82.429587         310          318   \n4         13.702568         17.312258    47.651646         378          389   \n5         21.171633          5.838204   194.520218         453          466   \n6         14.491194         26.517851   153.025021         911          925   \n7         26.195685         22.808043    49.924591         925          954   \n8         17.655491         38.351803    51.360942        1177         1184   \n9         20.222068         27.771309   177.641785        3263         3283   \n10        21.090618         10.907448    38.417971        7224         7242   \n\n    width_heights     left_ips    right_ips    widths     variances  \n0      119.466559    49.702216    53.519407  3.817192  24681.593697  \n1       73.613353   256.339393   261.550896  5.211503   5249.670644  \n2      294.370356   292.857920   297.951138  5.093218   6538.644738  \n3       41.214793   311.241601   316.636840  5.395239   3408.023214  \n4       23.825823   381.054268   384.697273  3.643005   1997.604412  \n5       97.260109   456.102297   462.224922  6.122625   4867.953066  \n6       76.512511   916.300637   921.903155  5.602518   3012.507518  \n7       24.962295   935.047084   937.103507  2.056423    922.575549  \n8       25.680471  1179.452916  1181.669603  2.216687    998.874806  \n9       88.820893  3270.397460  3278.076015  7.678555   1974.811242  \n10      19.208986  7231.089217  7233.643071  2.553854    319.284450  ",
      "text/html": "<div>\n<style scoped>\n    .dataframe tbody tr th:only-of-type {\n        vertical-align: middle;\n    }\n\n    .dataframe tbody tr th {\n        vertical-align: top;\n    }\n\n    .dataframe thead th {\n        text-align: right;\n    }\n</style>\n<table border=\"1\" class=\"dataframe\">\n  <thead>\n    <tr style=\"text-align: right;\">\n      <th></th>\n      <th>reduced_f_name</th>\n      <th>peaks</th>\n      <th>ini_wide_regions</th>\n      <th>fin_wide_regions</th>\n      <th>fwhm_centr</th>\n      <th>centroids</th>\n      <th>rough_sums</th>\n      <th>peak_heights</th>\n      <th>left_thresholds</th>\n      <th>right_thresholds</th>\n      <th>prominences</th>\n      <th>left_bases</th>\n      <th>right_bases</th>\n      <th>width_heights</th>\n      <th>left_ips</th>\n      <th>right_ips</th>\n      <th>widths</th>\n      <th>variances</th>\n    </tr>\n  </thead>\n  <tbody>\n    <tr>\n      <th>0</th>\n      <td>almera22/xtra_proj/Sample Code 02B.IEC</td>\n      <td>53</td>\n      <td>46</td>\n      <td>57</td>\n      <td>51.610812</td>\n      <td>51.548199</td>\n      <td>869.282707</td>\n      <td>238.933118</td>\n      <td>118.164586</td>\n      <td>230.005467</td>\n      <td>238.933118</td>\n      <td>48</td>\n      <td>56</td>\n      <td>119.466559</td>\n      <td>49.702216</td>\n      <td>53.519407</td>\n      <td>3.817192</td>\n      <td>24681.593697</td>\n    </tr>\n    <tr>\n      <th>1</th>\n      <td>almera22/xtra_proj/Sample Code 02B.IEC</td>\n      <td>259</td>\n      <td>252</td>\n      <td>266</td>\n      <td>258.945145</td>\n      <td>259.554832</td>\n      <td>841.308479</td>\n      <td>147.226706</td>\n      <td>54.322840</td>\n      <td>17.165975</td>\n      <td>147.226706</td>\n      <td>254</td>\n      <td>269</td>\n      <td>73.613353</td>\n      <td>256.339393</td>\n      <td>261.550896</td>\n      <td>5.211503</td>\n      <td>5249.670644</td>\n    </tr>\n    <tr>\n      <th>2</th>\n      <td>almera22/xtra_proj/Sample Code 02B.IEC</td>\n      <td>295</td>\n      <td>288</td>\n      <td>303</td>\n      <td>295.404529</td>\n      <td>295.412682</td>\n      <td>3228.925782</td>\n      <td>588.740712</td>\n      <td>133.824918</td>\n      <td>23.176820</td>\n      <td>588.740712</td>\n      <td>290</td>\n      <td>303</td>\n      <td>294.370356</td>\n      <td>292.857920</td>\n      <td>297.951138</td>\n      <td>5.093218</td>\n      <td>6538.644738</td>\n    </tr>\n    <tr>\n      <th>3</th>\n      <td>almera22/xtra_proj/Sample Code 02B.IEC</td>\n      <td>315</td>\n      <td>306</td>\n      <td>322</td>\n      <td>313.939221</td>\n      <td>313.917043</td>\n      <td>423.399965</td>\n      <td>82.429587</td>\n      <td>29.630158</td>\n      <td>17.383119</td>\n      <td>82.429587</td>\n      <td>310</td>\n      <td>318</td>\n      <td>41.214793</td>\n      <td>311.241601</td>\n      <td>316.636840</td>\n      <td>5.395239</td>\n      <td>3408.023214</td>\n    </tr>\n    <tr>\n      <th>4</th>\n      <td>almera22/xtra_proj/Sample Code 02B.IEC</td>\n      <td>383</td>\n      <td>378</td>\n      <td>388</td>\n      <td>382.875771</td>\n      <td>382.949172</td>\n      <td>231.186185</td>\n      <td>47.651646</td>\n      <td>13.702568</td>\n      <td>17.312258</td>\n      <td>47.651646</td>\n      <td>378</td>\n      <td>389</td>\n      <td>23.825823</td>\n      <td>381.054268</td>\n      <td>384.697273</td>\n      <td>3.643005</td>\n      <td>1997.604412</td>\n    </tr>\n    <tr>\n      <th>5</th>\n      <td>almera22/xtra_proj/Sample Code 02B.IEC</td>\n      <td>459</td>\n      <td>450</td>\n      <td>468</td>\n      <td>459.163609</td>\n      <td>459.212272</td>\n      <td>1227.103471</td>\n      <td>194.520218</td>\n      <td>21.171633</td>\n      <td>5.838204</td>\n      <td>194.520218</td>\n      <td>453</td>\n      <td>466</td>\n      <td>97.260109</td>\n      <td>456.102297</td>\n      <td>462.224922</td>\n      <td>6.122625</td>\n      <td>4867.953066</td>\n    </tr>\n    <tr>\n      <th>6</th>\n      <td>almera22/xtra_proj/Sample Code 02B.IEC</td>\n      <td>919</td>\n      <td>911</td>\n      <td>927</td>\n      <td>919.101896</td>\n      <td>919.204454</td>\n      <td>1013.966060</td>\n      <td>153.025021</td>\n      <td>14.491194</td>\n      <td>26.517851</td>\n      <td>153.025021</td>\n      <td>911</td>\n      <td>925</td>\n      <td>76.512511</td>\n      <td>916.300637</td>\n      <td>921.903155</td>\n      <td>5.602518</td>\n      <td>3012.507518</td>\n    </tr>\n    <tr>\n      <th>7</th>\n      <td>almera22/xtra_proj/Sample Code 02B.IEC</td>\n      <td>936</td>\n      <td>933</td>\n      <td>939</td>\n      <td>936.075295</td>\n      <td>935.863913</td>\n      <td>151.424451</td>\n      <td>49.924591</td>\n      <td>26.195685</td>\n      <td>22.808043</td>\n      <td>49.924591</td>\n      <td>925</td>\n      <td>954</td>\n      <td>24.962295</td>\n      <td>935.047084</td>\n      <td>937.103507</td>\n      <td>2.056423</td>\n      <td>922.575549</td>\n    </tr>\n    <tr>\n      <th>8</th>\n      <td>almera22/xtra_proj/Sample Code 02B.IEC</td>\n      <td>1181</td>\n      <td>1178</td>\n      <td>1183</td>\n      <td>1180.561259</td>\n      <td>1180.579050</td>\n      <td>165.125194</td>\n      <td>51.360942</td>\n      <td>17.655491</td>\n      <td>38.351803</td>\n      <td>51.360942</td>\n      <td>1177</td>\n      <td>1184</td>\n      <td>25.680471</td>\n      <td>1179.452916</td>\n      <td>1181.669603</td>\n      <td>2.216687</td>\n      <td>998.874806</td>\n    </tr>\n    <tr>\n      <th>9</th>\n      <td>almera22/xtra_proj/Sample Code 02B.IEC</td>\n      <td>3273</td>\n      <td>3263</td>\n      <td>3285</td>\n      <td>3274.236737</td>\n      <td>3273.887146</td>\n      <td>1365.745076</td>\n      <td>177.641785</td>\n      <td>20.222068</td>\n      <td>27.771309</td>\n      <td>177.641785</td>\n      <td>3263</td>\n      <td>3283</td>\n      <td>88.820893</td>\n      <td>3270.397460</td>\n      <td>3278.076015</td>\n      <td>7.678555</td>\n      <td>1974.811242</td>\n    </tr>\n    <tr>\n      <th>10</th>\n      <td>almera22/xtra_proj/Sample Code 02B.IEC</td>\n      <td>7232</td>\n      <td>7229</td>\n      <td>7236</td>\n      <td>7232.366144</td>\n      <td>7232.646823</td>\n      <td>198.715550</td>\n      <td>38.417971</td>\n      <td>21.090618</td>\n      <td>10.907448</td>\n      <td>38.417971</td>\n      <td>7224</td>\n      <td>7242</td>\n      <td>19.208986</td>\n      <td>7231.089217</td>\n      <td>7233.643071</td>\n      <td>2.553854</td>\n      <td>319.284450</td>\n    </tr>\n  </tbody>\n</table>\n</div>"
     },
     "execution_count": 14,
     "metadata": {},
     "output_type": "execute_result"
    }
   ],
   "source": [
    "unpickled_spec = pd.read_pickle(ogra.a_spec.pkl_file)\n",
    "unpickled_spec"
   ],
   "metadata": {
    "collapsed": false
   }
  },
  {
   "cell_type": "code",
   "execution_count": 14,
   "outputs": [],
   "source": [],
   "metadata": {
    "collapsed": false
   }
  },
  {
   "cell_type": "code",
   "execution_count": 15,
   "outputs": [],
   "source": [
    "# 2023-Mar-14: Após várias tentativas, usando as chamadas que documento abaixo, pois todas poderão\n",
    "# ser úteis, cheguei em dois modos diferentes\n",
    "# de serializar dado espectro em arquivo pkl.\n",
    "a_spec_dir = dir(ogra.a_spec)\n",
    "a_spec_dict = ogra.a_spec.__dict__\n",
    "a_spec_vars = vars(ogra.a_spec)\n",
    "campos = [a for a in a_spec_vars]\n",
    "valores = [a_spec_vars[a] for a in a_spec_vars]"
   ],
   "metadata": {
    "collapsed": false
   }
  },
  {
   "cell_type": "code",
   "execution_count": 16,
   "outputs": [
    {
     "ename": "SyntaxError",
     "evalue": "invalid syntax (1079187171.py, line 1)",
     "output_type": "error",
     "traceback": [
      "\u001B[1;36m  Cell \u001B[1;32mIn[16], line 1\u001B[1;36m\u001B[0m\n\u001B[1;33m    xfgj nxfgjhxftjh xrftjh\u001B[0m\n\u001B[1;37m         ^\u001B[0m\n\u001B[1;31mSyntaxError\u001B[0m\u001B[1;31m:\u001B[0m invalid syntax\n"
     ]
    }
   ],
   "source": [
    "xfgj nxfgjhxftjh xrftjh"
   ],
   "metadata": {
    "collapsed": false
   }
  },
  {
   "cell_type": "code",
   "execution_count": 17,
   "outputs": [],
   "source": [
    "# teste_df_1: cada nome de campo entra como um índice, e os valores numa coluna única.\n",
    "# teste_df_2: cada nome de campo entra como título de coluna, e os valores em cada coluna respectiva, num registro único.\n",
    "# Qual é melhor? Não sei ainda.\n",
    "teste_df = pd.DataFrame(data={'col1': [1, 2], 'col2': [3, 4]})\n",
    "teste_df = pd.DataFrame(data={'col1': [5], 'col2': [6]})\n",
    "teste_df = pd.DataFrame(data=[[1,2,3]], columns=['um', 'dois', 'tres'])\n",
    "teste_df_1 = pd.DataFrame(data=valores, index=campos)\n",
    "teste_df_2 = pd.DataFrame(data=[valores], columns=campos)"
   ],
   "metadata": {
    "collapsed": false
   }
  },
  {
   "cell_type": "code",
   "execution_count": 18,
   "outputs": [],
   "source": [
    "teste_df_1.to_pickle('teste_df_1.pkl')\n",
    "teste_df_2.to_pickle('teste_df_2.pkl')"
   ],
   "metadata": {
    "collapsed": false
   }
  },
  {
   "cell_type": "code",
   "execution_count": 19,
   "outputs": [],
   "source": [
    "unpickled_teste_df_1 = pd.read_pickle('teste_df_1.pkl')\n",
    "unpickled_teste_df_2 = pd.read_pickle('teste_df_2.pkl')"
   ],
   "metadata": {
    "collapsed": false
   }
  },
  {
   "cell_type": "code",
   "execution_count": 20,
   "outputs": [
    {
     "data": {
      "text/plain": "                                                                         0\nnet_spec_ser_an          <generic_series_analysis_class.GenericSeriesAn...\nfinal_composed_baseline  <generic_series_analysis_class.GenericSeriesAn...\nf_name                   C:\\Users\\mmaduar\\Nextcloud\\Genie_Transfer\\alme...\nreduced_f_name                      almera22/xtra_proj/Sample Code 02B.IEC\nsufx                                                                  .iec\nspec_io                                                               None\nlv_time                                                           150000.0\nrl_time                                                          150243.81\nsource_datetime                                                          0\npkl_file                 C:\\Users\\mmaduar\\Nextcloud\\Genie_Transfer\\alme...\ngross_spec_ser_an        <generic_series_analysis_class.GenericSeriesAn...\norigin_spec_ser_an       <generic_series_analysis_class.GenericSeriesAn...\nstart_datetime                                         2022-08-29 18:55:26\ndet_descr                                           DET01   1   1     0   \nsam_descr                                 Spiked water 02B; ma=103,29g; ; \nchannel_energy_calib     <genericcalib_class.ChannelEnergyCalib object ...\nspec_pks_df                                          reduced_f_name  pe...",
      "text/html": "<div>\n<style scoped>\n    .dataframe tbody tr th:only-of-type {\n        vertical-align: middle;\n    }\n\n    .dataframe tbody tr th {\n        vertical-align: top;\n    }\n\n    .dataframe thead th {\n        text-align: right;\n    }\n</style>\n<table border=\"1\" class=\"dataframe\">\n  <thead>\n    <tr style=\"text-align: right;\">\n      <th></th>\n      <th>0</th>\n    </tr>\n  </thead>\n  <tbody>\n    <tr>\n      <th>net_spec_ser_an</th>\n      <td>&lt;generic_series_analysis_class.GenericSeriesAn...</td>\n    </tr>\n    <tr>\n      <th>final_composed_baseline</th>\n      <td>&lt;generic_series_analysis_class.GenericSeriesAn...</td>\n    </tr>\n    <tr>\n      <th>f_name</th>\n      <td>C:\\Users\\mmaduar\\Nextcloud\\Genie_Transfer\\alme...</td>\n    </tr>\n    <tr>\n      <th>reduced_f_name</th>\n      <td>almera22/xtra_proj/Sample Code 02B.IEC</td>\n    </tr>\n    <tr>\n      <th>sufx</th>\n      <td>.iec</td>\n    </tr>\n    <tr>\n      <th>spec_io</th>\n      <td>None</td>\n    </tr>\n    <tr>\n      <th>lv_time</th>\n      <td>150000.0</td>\n    </tr>\n    <tr>\n      <th>rl_time</th>\n      <td>150243.81</td>\n    </tr>\n    <tr>\n      <th>source_datetime</th>\n      <td>0</td>\n    </tr>\n    <tr>\n      <th>pkl_file</th>\n      <td>C:\\Users\\mmaduar\\Nextcloud\\Genie_Transfer\\alme...</td>\n    </tr>\n    <tr>\n      <th>gross_spec_ser_an</th>\n      <td>&lt;generic_series_analysis_class.GenericSeriesAn...</td>\n    </tr>\n    <tr>\n      <th>origin_spec_ser_an</th>\n      <td>&lt;generic_series_analysis_class.GenericSeriesAn...</td>\n    </tr>\n    <tr>\n      <th>start_datetime</th>\n      <td>2022-08-29 18:55:26</td>\n    </tr>\n    <tr>\n      <th>det_descr</th>\n      <td>DET01   1   1     0</td>\n    </tr>\n    <tr>\n      <th>sam_descr</th>\n      <td>Spiked water 02B; ma=103,29g; ;</td>\n    </tr>\n    <tr>\n      <th>channel_energy_calib</th>\n      <td>&lt;genericcalib_class.ChannelEnergyCalib object ...</td>\n    </tr>\n    <tr>\n      <th>spec_pks_df</th>\n      <td>reduced_f_name  pe...</td>\n    </tr>\n  </tbody>\n</table>\n</div>"
     },
     "execution_count": 20,
     "metadata": {},
     "output_type": "execute_result"
    }
   ],
   "source": [
    "unpickled_teste_df_1"
   ],
   "metadata": {
    "collapsed": false
   }
  },
  {
   "cell_type": "code",
   "execution_count": 21,
   "outputs": [
    {
     "data": {
      "text/plain": "                                     net_spec_ser_an  \\\n0  <generic_series_analysis_class.GenericSeriesAn...   \n\n                             final_composed_baseline  \\\n0  <generic_series_analysis_class.GenericSeriesAn...   \n\n                                              f_name  \\\n0  C:\\Users\\mmaduar\\Nextcloud\\Genie_Transfer\\alme...   \n\n                           reduced_f_name  sufx spec_io   lv_time    rl_time  \\\n0  almera22/xtra_proj/Sample Code 02B.IEC  .iec    None  150000.0  150243.81   \n\n   source_datetime                                           pkl_file  \\\n0                0  C:\\Users\\mmaduar\\Nextcloud\\Genie_Transfer\\alme...   \n\n                                   gross_spec_ser_an  \\\n0  <generic_series_analysis_class.GenericSeriesAn...   \n\n                                  origin_spec_ser_an      start_datetime  \\\n0  <generic_series_analysis_class.GenericSeriesAn... 2022-08-29 18:55:26   \n\n                           det_descr                         sam_descr  \\\n0             DET01   1   1     0     Spiked water 02B; ma=103,29g; ;    \n\n                                channel_energy_calib  \\\n0  <genericcalib_class.ChannelEnergyCalib object ...   \n\n                                         spec_pks_df  \n0                              reduced_f_name  pe...  ",
      "text/html": "<div>\n<style scoped>\n    .dataframe tbody tr th:only-of-type {\n        vertical-align: middle;\n    }\n\n    .dataframe tbody tr th {\n        vertical-align: top;\n    }\n\n    .dataframe thead th {\n        text-align: right;\n    }\n</style>\n<table border=\"1\" class=\"dataframe\">\n  <thead>\n    <tr style=\"text-align: right;\">\n      <th></th>\n      <th>net_spec_ser_an</th>\n      <th>final_composed_baseline</th>\n      <th>f_name</th>\n      <th>reduced_f_name</th>\n      <th>sufx</th>\n      <th>spec_io</th>\n      <th>lv_time</th>\n      <th>rl_time</th>\n      <th>source_datetime</th>\n      <th>pkl_file</th>\n      <th>gross_spec_ser_an</th>\n      <th>origin_spec_ser_an</th>\n      <th>start_datetime</th>\n      <th>det_descr</th>\n      <th>sam_descr</th>\n      <th>channel_energy_calib</th>\n      <th>spec_pks_df</th>\n    </tr>\n  </thead>\n  <tbody>\n    <tr>\n      <th>0</th>\n      <td>&lt;generic_series_analysis_class.GenericSeriesAn...</td>\n      <td>&lt;generic_series_analysis_class.GenericSeriesAn...</td>\n      <td>C:\\Users\\mmaduar\\Nextcloud\\Genie_Transfer\\alme...</td>\n      <td>almera22/xtra_proj/Sample Code 02B.IEC</td>\n      <td>.iec</td>\n      <td>None</td>\n      <td>150000.0</td>\n      <td>150243.81</td>\n      <td>0</td>\n      <td>C:\\Users\\mmaduar\\Nextcloud\\Genie_Transfer\\alme...</td>\n      <td>&lt;generic_series_analysis_class.GenericSeriesAn...</td>\n      <td>&lt;generic_series_analysis_class.GenericSeriesAn...</td>\n      <td>2022-08-29 18:55:26</td>\n      <td>DET01   1   1     0</td>\n      <td>Spiked water 02B; ma=103,29g; ;</td>\n      <td>&lt;genericcalib_class.ChannelEnergyCalib object ...</td>\n      <td>reduced_f_name  pe...</td>\n    </tr>\n  </tbody>\n</table>\n</div>"
     },
     "execution_count": 21,
     "metadata": {},
     "output_type": "execute_result"
    }
   ],
   "source": [
    "unpickled_teste_df_2"
   ],
   "metadata": {
    "collapsed": false
   }
  },
  {
   "cell_type": "code",
   "execution_count": null,
   "outputs": [],
   "source": [
    "# No final de 2019, criei dois arquivos pkl:\n",
    "# C:\\Users\\mmaduar\\Nextcloud\\Python_Scripts\\Eflu_code\\todos_si_peaks\n",
    "# C:\\Users\\mmaduar\\Nextcloud\\Python_Scripts\\Eflu_code\\todos_si_specs\n",
    "\n",
    "# Creio que criei com o seguinte ipynb, para o trabalho do WARP2 (2019) das águas da piscina:\n",
    "# C:\\Users\\mmaduar\\Nextcloud\\Python_Scripts\\Eflu_code\\2019-nov-warp2.ipynb\n",
    "\n",
    "unpickled_todos_si_specs = pd.read_pickle('/Users/mmaduar/Nextcloud/Python_Scripts/Eflu_code/todos_si_specs.pkl')\n",
    "unpickled_todos_si_peaks = pd.read_pickle('/Users/mmaduar/Nextcloud/Python_Scripts/Eflu_code/todos_si_peaks.pkl')"
   ],
   "metadata": {
    "collapsed": false
   }
  },
  {
   "cell_type": "code",
   "execution_count": null,
   "outputs": [],
   "source": [
    "unpickled_todos_si_specs"
   ],
   "metadata": {
    "collapsed": false
   }
  },
  {
   "cell_type": "code",
   "execution_count": null,
   "outputs": [],
   "source": [
    "unpickled_todos_si_peaks"
   ],
   "metadata": {
    "collapsed": false
   }
  },
  {
   "cell_type": "code",
   "execution_count": null,
   "outputs": [],
   "source": [],
   "metadata": {
    "collapsed": false
   }
  },
  {
   "cell_type": "code",
   "execution_count": null,
   "outputs": [],
   "source": [],
   "metadata": {
    "collapsed": false
   }
  },
  {
   "cell_type": "code",
   "execution_count": null,
   "outputs": [],
   "source": [
    "# 2023-Mar-14: prosseguindo com a calibração"
   ],
   "metadata": {
    "collapsed": false
   }
  },
  {
   "cell_type": "code",
   "execution_count": null,
   "outputs": [],
   "source": [],
   "metadata": {
    "collapsed": false
   }
  },
  {
   "cell_type": "code",
   "execution_count": null,
   "outputs": [],
   "source": [
    "vars(ogra.a_spec.channel_energy_calib)"
   ],
   "metadata": {
    "collapsed": false
   }
  },
  {
   "cell_type": "code",
   "execution_count": null,
   "outputs": [],
   "source": [
    "ogra.a_spec.channel_energy_calib.p_en(453.5)"
   ],
   "metadata": {
    "collapsed": false
   }
  },
  {
   "cell_type": "code",
   "execution_count": null,
   "outputs": [],
   "source": [
    "ogra.a_spec.spec_pks_df.dtypes"
   ],
   "metadata": {
    "collapsed": false
   }
  },
  {
   "cell_type": "code",
   "execution_count": null,
   "outputs": [],
   "source": [
    "ogra.call_graphics()"
   ],
   "metadata": {
    "collapsed": false
   }
  },
  {
   "cell_type": "code",
   "execution_count": null,
   "outputs": [],
   "source": [],
   "metadata": {
    "collapsed": false
   }
  },
  {
   "cell_type": "code",
   "execution_count": null,
   "outputs": [],
   "source": [
    "rng = np.random.default_rng()\n",
    "# rints = rng.integers(low=0, high=10, size=3)\n",
    "\n",
    "# 2022-Jun-23: Reativar após consertar o arquivo pickle:\n",
    "# rints = rng.integers(pkl_df1.count()[0], size=3)\n",
    "# print(rints)\n",
    "# type(rints[0])\n",
    "# some_spec = rints[1]\n",
    "# pkl_df1.iloc[some_spec]\n",
    "# a_spec_name = pkl_df1.iloc[some_spec]['FName']\n",
    "# a_spec_name"
   ],
   "metadata": {
    "collapsed": false
   }
  },
  {
   "cell_type": "code",
   "execution_count": null,
   "outputs": [],
   "source": [
    "rng"
   ],
   "metadata": {
    "collapsed": false
   }
  },
  {
   "cell_type": "code",
   "execution_count": null,
   "outputs": [],
   "source": [
    "print(f'A spec name: {ogra.a_spec_name}')\n",
    "print(f'Reduced file name: {ogra.reduced_f_name}')"
   ],
   "metadata": {
    "collapsed": false
   }
  },
  {
   "cell_type": "code",
   "execution_count": null,
   "outputs": [],
   "source": [
    "vars(ogra)"
   ],
   "metadata": {
    "collapsed": false
   }
  },
  {
   "cell_type": "code",
   "execution_count": null,
   "outputs": [],
   "source": [
    "# 2022-Dez-28\n",
    "print(f'índice do espectro na lista: {ogra.a_spec_ind}')\n",
    "ogra.reduced_names_files_list[ogra.a_spec_ind]"
   ],
   "metadata": {
    "collapsed": false
   }
  },
  {
   "cell_type": "code",
   "execution_count": null,
   "metadata": {},
   "outputs": [],
   "source": [
    "# 2022-Dez-28: Atualizar:\n",
    "# (2022-Jun-24 Lembrando como estão os defaults de total_analysis(...):\n",
    "# def total_analysis(self, k_sep_pk=2.0, smoo=3000.0, widths_range=(4.0, 20.0)):)\n",
    "# smoo=3000 fica razoável, mas faz umas ondas\n",
    "# smoo=1500 fica horrível, faz uns abismos. Quanto menor, pior\n",
    "# smoo=400 fica razoável, mas faz umas ondas\n",
    "# ogra.perform_total_analysis(\n",
    "#     k_sep_pk=2.0, smoo=4096, widths_range=(4.0, 20.0)\n",
    "# )"
   ]
  },
  {
   "cell_type": "code",
   "execution_count": null,
   "outputs": [],
   "source": [
    "ogra.a_spec.spec_pks_df.dtypes"
   ],
   "metadata": {
    "collapsed": false
   }
  },
  {
   "cell_type": "code",
   "execution_count": null,
   "metadata": {},
   "outputs": [],
   "source": [
    "# 2022-Dez-28\n",
    "# Testes com conversão de pandas df .to_html\n",
    "# Teste 1: html direto\n",
    "df_to_html = ogra.a_spec.spec_pks_df.to_html(columns=['peaks', 'centroids', 'rough_sums'])\n",
    "df_to_html"
   ]
  },
  {
   "cell_type": "code",
   "execution_count": null,
   "outputs": [],
   "source": [
    "# 2022-Dez-28\n",
    "# Testes com conversão de pandas df .to_html\n",
    "# Teste 2: aplicando tags html:\n",
    "df_to_html = ogra.a_spec.spec_pks_df.to_html(\n",
    "    columns=['peaks', 'centroids', 'rough_sums'],\n",
    "    formatters={\n",
    "        'peaks': lambda x: '<b>' + str(x) + '</b>',\n",
    "        'rough_sums': lambda x: '<i>' + str(x) + '</i>'}\n",
    ")\n",
    "df_to_html\n",
    "import IPython\n",
    "IPython.display.HTML(df_to_html)"
   ],
   "metadata": {
    "collapsed": false
   }
  },
  {
   "cell_type": "code",
   "execution_count": null,
   "outputs": [],
   "source": [
    "# 2022-Dez-28\n",
    "# Testes com conversão de pandas df .to_html\n",
    "# Teste 3: aplicando float_formatters:\n",
    "df_to_html = ogra.a_spec.spec_pks_df.to_html(\n",
    "    columns=['peaks', 'centroids', 'rough_sums'],\n",
    "    float_format='{:.3f}'\n",
    ")\n",
    "df_to_html"
   ],
   "metadata": {
    "collapsed": false
   }
  },
  {
   "cell_type": "code",
   "execution_count": null,
   "outputs": [],
   "source": [
    "# Teste 3: usando Styles:\n",
    "my_df = ogra.a_spec.spec_pks_df\n",
    "my_df.style.format(na_rep='MISSING', thousands=\" \",\n",
    "                   formatter={('fwhm_centr', 'centroids'): \"{:.2f}\"})"
   ],
   "metadata": {
    "collapsed": false
   }
  },
  {
   "cell_type": "code",
   "execution_count": null,
   "outputs": [],
   "source": [
    "df = pd.DataFrame([[38.0, 2.0, 18.0, 22.0, 21, np.nan],[19, 439, 6, 452, 226,232]],\n",
    "                  index=pd.Index(['Tumour (Positive)', 'Non-Tumour (Negative)'], name='Actual Label:'),\n",
    "                  columns=pd.MultiIndex.from_product([['Decision Tree', 'Regression', 'Random'],['Tumour', 'Non-Tumour']], names=['Model:', 'Predicted:']))\n",
    "\n",
    "df.style.format(precision=0, na_rep='MISSING', thousands=\" \",\n",
    "                formatter={('Decision Tree', 'Tumour'): \"{:.2f}\",\n",
    "                           ('Regression', 'Non-Tumour'): lambda x: \"$ {:,.1f}\".format(x*-1e6)\n",
    "                           })"
   ],
   "metadata": {
    "collapsed": false
   }
  },
  {
   "cell_type": "code",
   "execution_count": null,
   "metadata": {},
   "outputs": [],
   "source": [
    "# 2022-Jun-24 No momento esses são os que interessam:\n",
    "# pann = ogra.a_spec..saw_spec.spec_parms\n",
    "cntarr = ogra.a_spec.net_spec_ser_an.y_s\n",
    "pkprms = ogra.a_spec.net_spec_ser_an.pk_parms"
   ]
  },
  {
   "cell_type": "code",
   "execution_count": null,
   "outputs": [],
   "source": [],
   "metadata": {
    "collapsed": false
   }
  },
  {
   "cell_type": "code",
   "execution_count": null,
   "metadata": {},
   "outputs": [],
   "source": [
    "# 2022-Jun-14\n",
    "# Verificando o que se tem até agora em a_raw_spec:\n",
    "# (Pode pular e ir direto aos gráficos)"
   ]
  },
  {
   "cell_type": "code",
   "execution_count": null,
   "metadata": {},
   "outputs": [],
   "source": [
    "\n",
    "# Testes:\n",
    "# https://numpy.org/doc/stable/reference/random/generator.html#distributions\n",
    "# x = np.linspace(0, 10, N) + rng.normal(loc=7, scale=0.05, size=N)\n",
    "# y = np.linspace(22, 23, N)\n",
    "\n",
    "# Busca do canal onde a altura do espectro se \"estabiliza\"\n",
    "# https://numpy.org/doc/stable/reference/routines.sort.html#searching\n",
    "\n",
    "# Escolha do que plotar:\n",
    "# y_plot = noisy_y\n",
    "# y_plot = var_win\n",
    "# y_plot = var_rel"
   ]
  },
  {
   "cell_type": "code",
   "execution_count": null,
   "outputs": [],
   "source": [
    "vars(pkprms)"
   ],
   "metadata": {
    "collapsed": false
   }
  },
  {
   "cell_type": "code",
   "execution_count": null,
   "metadata": {},
   "outputs": [],
   "source": [
    "# 2022-Dez-21 Achar o pico de maior área inicial do espectro:"
   ]
  },
  {
   "cell_type": "code",
   "execution_count": null,
   "outputs": [],
   "source": [
    "largest_pk = np.argmax(pkprms.rough_sums)\n",
    "pkprms.centroids[largest_pk]"
   ],
   "metadata": {
    "collapsed": false
   }
  },
  {
   "cell_type": "code",
   "execution_count": null,
   "metadata": {},
   "outputs": [],
   "source": [
    "# Só pra lembrar como faz divisão inteira\n",
    "21 // 7"
   ]
  },
  {
   "cell_type": "code",
   "execution_count": null,
   "metadata": {},
   "outputs": [],
   "source": [
    "wi_re = pkprms.wide_regions[largest_pk]\n",
    "x = np.linspace(wi_re[0], wi_re[1], num=wi_re[1]-wi_re[0]+1)\n",
    "y = cntarr[wi_re[0]:wi_re[1]+1]\n",
    "c1 =  pkprms.centroids[largest_pk]\n",
    "s1 = pkprms.propts['widths'][largest_pk]*pkprms.k_fwhm_to_sd\n",
    "a1 = pkprms.rough_sums[largest_pk]\n",
    "# c2 = 313\n",
    "# s2 = 1.5\n",
    "# a2 = 400\n",
    "sste = 2.0"
   ]
  },
  {
   "cell_type": "code",
   "execution_count": null,
   "outputs": [],
   "source": [],
   "metadata": {
    "collapsed": false
   }
  },
  {
   "cell_type": "code",
   "execution_count": null,
   "metadata": {},
   "outputs": [],
   "source": [
    "pars = Parameters()\n",
    "\n",
    "# line_mod = LinearModel(prefix='line_')\n",
    "# pars.update(line_mod.make_params())\n",
    "# pars['line_intercept'].set(value=200, min=50, max=400)\n",
    "# pars['line_slope'].set(value=0, min=-0.001, max=0.001)\n",
    "                      \n",
    "# exp_mod = ExponentialModel(prefix='exp_')\n",
    "# pars = exp_mod.guess(y, x=x)\n",
    "\n",
    "gauss1 = GaussianModel(prefix='g1_')\n",
    "pars.update(gauss1.make_params())\n",
    "pars['g1_center'].set(value=c1, min=c1-2, max=c1+2)\n",
    "pars['g1_sigma'].set(value=s1, min=0.5, max=10)\n",
    "pars['g1_amplitude'].set(value=a1, min=10)\n",
    "\n",
    "# mod = gauss1 + gauss2 + line_mod - step_mod\n",
    "# mod = gauss1 + gauss2 - step_mod\n",
    "mod = gauss1\n",
    "\n",
    "init = mod.eval(pars, x=x)\n",
    "out = mod.fit(y, pars, x=x)\n",
    "\n",
    "print(out.fit_report(min_correl=0.1))\n",
    "\n",
    "fig, axes = plt.subplots(1, 2, figsize=(20, 16))\n",
    "axes[0].set_yscale('log')\n",
    "axes[1].set_yscale('log')\n",
    "axes[0].set_ylim([10, 2.5e6])\n",
    "axes[1].set_ylim([10, 2.5e6])\n",
    "\n",
    "axes[0].plot(x, y, 'b')\n",
    "axes[0].plot(x, init, 'k--', label='initial fit')\n",
    "axes[0].plot(x, out.best_fit, 'r-', label='best fit')\n",
    "axes[0].legend(loc='best')\n",
    "\n",
    "comps = out.eval_components(x=x)\n",
    "axes[1].plot(x, y, 'b')\n",
    "axes[1].plot(x, comps['g1_'], 'g--', label='Gaussian component 1')\n",
    "# axes[1].plot(x, comps['g2_'], 'm--', label='Gaussian component 2')\n",
    "# axes[1].plot(x, comps['line_'], 'k--', label='Linear component')\n",
    "# axes[1].plot(x, -comps['step_'], 'r--', label='Step component')\n",
    "# axes[1].plot(x, comps['exp_'], 'k--', label='Exponential component')\n",
    "axes[1].legend(loc='best')\n",
    "\n",
    "# plt.show()\n",
    "# <end examples/doc_builtinmodels_nistgauss.py>"
   ]
  },
  {
   "cell_type": "code",
   "execution_count": null,
   "outputs": [],
   "source": [
    "# 2023-Jan-3\n",
    "# Aqui finalizo este teste:\n",
    "# Dado um espectro, escolhi o pico mais proeminente do espectro\n",
    "# e fiz o ajuste gaussianco com lmfit\n",
    "# No caso, o pico tem área, centroide, SD e FWHM:\n",
    "# g1_amplitude:  5264.84728 +/- 85.1465566 (1.62%) (init = 5347.497)\n",
    "# g1_center:     1926.29564 +/- 0.02690572 (0.00%) (init = 1926.275)\n",
    "# g1_sigma:      1.44040103 +/- 0.02690060 (1.87%) (init = 1.418733)\n",
    "# g1_fwhm:       3.39188516 +/- 0.06334608 (1.87%) == '2.3548200*g1_sigma'\n",
    "# g1_height:     1458.18438 +/- 23.5824677 (1.62%) == '0.3989423*g1_amplitude/max(1e-15, g1_sigma)'\n",
    "\n",
    "# Comparando com saíuda do Genie:\n",
    "# canal (>0)    En:    FWHM (keV)    net area    net area unc   continuum\n",
    "# 1927.34      1173.47 2.04          5.40E+003   89.73          8.83E+002\n",
    "#"
   ],
   "metadata": {
    "collapsed": false
   }
  },
  {
   "cell_type": "code",
   "execution_count": null,
   "outputs": [],
   "source": [
    "out"
   ],
   "metadata": {
    "collapsed": false
   }
  },
  {
   "cell_type": "code",
   "execution_count": null,
   "outputs": [],
   "source": [
    "out.params"
   ],
   "metadata": {
    "collapsed": false
   }
  },
  {
   "cell_type": "code",
   "execution_count": null,
   "outputs": [],
   "source": [
    "out.var_names"
   ],
   "metadata": {
    "collapsed": false
   }
  },
  {
   "cell_type": "code",
   "execution_count": null,
   "outputs": [],
   "source": [
    "out.params.items()"
   ],
   "metadata": {
    "collapsed": false
   }
  },
  {
   "cell_type": "code",
   "execution_count": null,
   "outputs": [],
   "source": [
    "out.params.pretty_print()"
   ],
   "metadata": {
    "collapsed": false
   }
  },
  {
   "cell_type": "code",
   "execution_count": null,
   "outputs": [],
   "source": [
    "print('-------------------------------')\n",
    "print('Parameter    Value       Stderr')\n",
    "for name, param in out.params.items():\n",
    "    # print(f'{name:7s} {param.value:11.5f} {param.stderr:11.5f}')\n",
    "    print(name)\n",
    "    print(param)\n",
    "    print(param.value)"
   ],
   "metadata": {
    "collapsed": false
   }
  },
  {
   "cell_type": "code",
   "execution_count": null,
   "outputs": [],
   "source": [],
   "metadata": {
    "collapsed": false
   }
  },
  {
   "cell_type": "code",
   "execution_count": null,
   "outputs": [],
   "source": [
    "def gauss_lmfit_singlet(pkprms, ipk):\n",
    "    wi_re = pkprms.wide_regions[ipk]\n",
    "    print(f'pico: {wi_re}')\n",
    "    x = np.linspace(wi_re[0], wi_re[1], num=wi_re[1]-wi_re[0]+1)\n",
    "    y = cntarr[wi_re[0]:wi_re[1]+1]\n",
    "    c1 = pkprms.centroids[ipk]\n",
    "    s1 = pkprms.propts['widths'][ipk]*pkprms.k_fwhm_to_sd\n",
    "    a1 = pkprms.rough_sums[ipk]\n",
    "\n",
    "    parames = Parameters()\n",
    "\n",
    "    gauss1 = GaussianModel(prefix='g1_')\n",
    "    parames.update(gauss1.make_params())\n",
    "    parames['g1_center'].set(value=c1, min=c1-2, max=c1+2)\n",
    "    parames['g1_sigma'].set(value=s1, min=0.5, max=10)\n",
    "    parames['g1_amplitude'].set(value=a1, min=10)\n",
    "\n",
    "    mod = gauss1\n",
    "\n",
    "    init = mod.eval(parames, x=x)\n",
    "    out = mod.fit(y, parames, x=x, verbose=False)\n",
    "    print('Fez.')\n",
    "\n",
    "    # ret = [param for param in out.params.items()]\n",
    "    ret = out\n",
    "    return ret"
   ],
   "metadata": {
    "collapsed": false
   }
  },
  {
   "cell_type": "code",
   "execution_count": null,
   "outputs": [],
   "source": [
    "for ipk in range(len(pkprms.peaks)):\n",
    "    ret = gauss_lmfit_singlet(pkprms, ipk)\n",
    "    print(ret)"
   ],
   "metadata": {
    "collapsed": false
   }
  },
  {
   "cell_type": "code",
   "execution_count": null,
   "outputs": [],
   "source": [
    "ret"
   ],
   "metadata": {
    "collapsed": false
   }
  },
  {
   "cell_type": "code",
   "execution_count": null,
   "outputs": [],
   "source": [
    "ret.params"
   ],
   "metadata": {
    "collapsed": false
   }
  },
  {
   "cell_type": "code",
   "execution_count": null,
   "outputs": [],
   "source": [
    "for name, param in ret.params.items():\n",
    "    print(name, param.value, param.stderr)"
   ],
   "metadata": {
    "collapsed": false
   }
  },
  {
   "cell_type": "code",
   "execution_count": null,
   "outputs": [],
   "source": [
    "for ipk in range(len(pkprms.peaks)):\n",
    "    ret = gauss_lmfit_singlet(pkprms, ipk)\n",
    "    # ret.params.pretty_print()"
   ],
   "metadata": {
    "collapsed": false
   }
  },
  {
   "cell_type": "code",
   "execution_count": null,
   "outputs": [],
   "source": [
    "ret"
   ],
   "metadata": {
    "collapsed": false
   }
  },
  {
   "cell_type": "code",
   "execution_count": null,
   "outputs": [],
   "source": [
    "xfgn sr hsrthf srth"
   ],
   "metadata": {
    "collapsed": false
   }
  },
  {
   "cell_type": "code",
   "execution_count": null,
   "outputs": [],
   "source": [],
   "metadata": {
    "collapsed": false
   }
  },
  {
   "cell_type": "code",
   "execution_count": null,
   "outputs": [],
   "source": [],
   "metadata": {
    "collapsed": false
   }
  },
  {
   "cell_type": "code",
   "execution_count": null,
   "outputs": [],
   "source": [],
   "metadata": {
    "collapsed": false
   }
  },
  {
   "cell_type": "code",
   "execution_count": null,
   "outputs": [],
   "source": [],
   "metadata": {
    "collapsed": false
   }
  },
  {
   "cell_type": "code",
   "execution_count": null,
   "outputs": [],
   "source": [
    "my_df.dtypes"
   ],
   "metadata": {
    "collapsed": false
   }
  },
  {
   "cell_type": "code",
   "execution_count": null,
   "outputs": [],
   "source": [
    "ch_en = ogra.a_spec.channel_energy_calib.p_en"
   ],
   "metadata": {
    "collapsed": false
   }
  },
  {
   "cell_type": "code",
   "execution_count": null,
   "outputs": [],
   "source": [
    "my_df['centrs_en'] = ch_en(my_df['centroids'])\n",
    "my_df"
   ],
   "metadata": {
    "collapsed": false
   }
  },
  {
   "cell_type": "code",
   "execution_count": null,
   "metadata": {},
   "outputs": [],
   "source": [
    "\n",
    "# 2022-Dez-21:\n",
    "# PAREI AQUI;\n",
    "# Usar os resultados de áreas dos picos e montar as curvas de eficiência\n",
    "\n",
    "# 2022-Mar-16\n",
    "# Fazendo ajuste polinomial nas eficiências:"
   ]
  },
  {
   "cell_type": "code",
   "execution_count": null,
   "metadata": {},
   "outputs": [],
   "source": [
    "from numpy.polynomial import Polynomial as P # 2020-09-06 Esta é a nova classe recomendada "
   ]
  },
  {
   "cell_type": "code",
   "execution_count": null,
   "metadata": {},
   "outputs": [],
   "source": [
    "En_CV_LoBg = np.array([81.00,\n",
    "86.54,\n",
    "121.78,\n",
    "133.51,\n",
    "302.85,\n",
    "344.28,\n",
    "356.02,\n",
    "604.69,\n",
    "661.66,\n",
    "795.84,\n",
    "964.13,\n",
    "1085.91,\n",
    "1112.12,\n",
    "1173.24,\n",
    "1332.50,\n",
    "1408.01\n",
    "])\n",
    "# En_CV_GMX"
   ]
  },
  {
   "cell_type": "code",
   "execution_count": null,
   "metadata": {},
   "outputs": [],
   "source": [
    "Eff_CV_LoBg = np.array([4.4358,\n",
    "4.4723,\n",
    "5.4386,\n",
    "5.5045,\n",
    "3.1379,\n",
    "2.8722,\n",
    "2.7305,\n",
    "1.7817,\n",
    "1.6453,\n",
    "1.4026,\n",
    "1.1216,\n",
    "1.0200,\n",
    "0.9703,\n",
    "0.8962,\n",
    "0.8009,\n",
    "0.7397 ])\n",
    "Eff_CV_GMX"
   ]
  },
  {
   "cell_type": "code",
   "execution_count": null,
   "metadata": {},
   "outputs": [],
   "source": [
    "unc_perc = np.array([2.01,\n",
    "1.43,\n",
    "1.33,\n",
    "2.11,\n",
    "1.81,\n",
    "1.42,\n",
    "1.41,\n",
    "2.24,\n",
    "1.44,\n",
    "3.68,\n",
    "1.66,\n",
    "1.71,\n",
    "1.58,\n",
    "0.87,\n",
    "0.87,\n",
    "1.51 ])\n",
    "unc_perc"
   ]
  },
  {
   "cell_type": "code",
   "execution_count": null,
   "metadata": {},
   "outputs": [],
   "source": [
    "ln_En_CV_LoBg = np.log (En_CV_LoBg)\n",
    "ln_Eff_CV_LoBg = np.log (Eff_CV_LoBg)"
   ]
  },
  {
   "cell_type": "code",
   "execution_count": null,
   "metadata": {},
   "outputs": [],
   "source": [
    "N = 16"
   ]
  },
  {
   "cell_type": "code",
   "execution_count": null,
   "metadata": {},
   "outputs": [],
   "source": []
  },
  {
   "cell_type": "code",
   "execution_count": null,
   "metadata": {},
   "outputs": [],
   "source": [
    "# 2022-Mar-23\n",
    "# Parêntese para fazer nova calibração canal-energia do HPGe do projeto:"
   ]
  },
  {
   "cell_type": "code",
   "execution_count": null,
   "metadata": {},
   "outputs": [],
   "source": [
    "canal = np.array([210, 920, 1181, 7232])\n",
    "ener = np.array([46.5, 186, 238.6, 1460.8])"
   ]
  },
  {
   "cell_type": "code",
   "execution_count": null,
   "metadata": {},
   "outputs": [],
   "source": [
    "projeto = P.fit(x=canal, y=ener, deg=1).convert()\n",
    "projeto"
   ]
  },
  {
   "cell_type": "code",
   "execution_count": null,
   "metadata": {},
   "outputs": [],
   "source": [
    "projeto_ener_canal = P.fit(x=ener, y=canal, deg=1).convert()\n",
    "projeto_ener_canal"
   ]
  },
  {
   "cell_type": "code",
   "execution_count": null,
   "metadata": {},
   "outputs": [],
   "source": [
    "projeto_ener_canal(1173.2)"
   ]
  },
  {
   "cell_type": "code",
   "execution_count": null,
   "metadata": {},
   "outputs": [],
   "source": [
    "projeto_ener_canal(1332.486)"
   ]
  },
  {
   "cell_type": "code",
   "execution_count": null,
   "metadata": {},
   "outputs": [],
   "source": []
  },
  {
   "cell_type": "code",
   "execution_count": null,
   "metadata": {},
   "outputs": [],
   "source": []
  },
  {
   "cell_type": "code",
   "execution_count": null,
   "metadata": {},
   "outputs": [],
   "source": []
  },
  {
   "cell_type": "code",
   "execution_count": null,
   "metadata": {},
   "outputs": [],
   "source": [
    "P.fit(x=ln_En_CV_LoBg, y=ln_Eff_CV_LoBg, deg=5).convert()"
   ]
  },
  {
   "cell_type": "code",
   "execution_count": null,
   "metadata": {},
   "outputs": [],
   "source": [
    "poly_w = P.fit(x=ln_En_CV_LoBg, y=ln_Eff_CV_LoBg, deg=5, w=1/unc_perc).convert()\n",
    "poly_w"
   ]
  },
  {
   "cell_type": "code",
   "execution_count": null,
   "metadata": {},
   "outputs": [],
   "source": [
    "poly_w = P.fit(x=ln_En_CV_LoBg, y=ln_Eff_CV_LoBg, deg=5, w=1/unc_perc**2).convert()\n",
    "poly_w"
   ]
  },
  {
   "cell_type": "code",
   "execution_count": null,
   "metadata": {},
   "outputs": [],
   "source": [
    "print(poly_w)"
   ]
  },
  {
   "cell_type": "code",
   "execution_count": null,
   "metadata": {},
   "outputs": [],
   "source": [
    "poly_o = P.fit(x=ln_En_CV_LoBg, y=Eff_CV_LoBg, deg=5)\n",
    "print(poly_o)"
   ]
  },
  {
   "cell_type": "code",
   "execution_count": null,
   "metadata": {},
   "outputs": [],
   "source": [
    "weights = np.linspace(1, 2, N)\n",
    "Xw = X * np.sqrt(weights)[:, None]\n",
    "yw = y * np.sqrt(weights)\n",
    "print (linalg.lstsq(Xw, yw)[0])"
   ]
  },
  {
   "cell_type": "code",
   "execution_count": null,
   "metadata": {},
   "outputs": [],
   "source": [
    "weights = 1.0 / unc_perc**2.0\n",
    "weights"
   ]
  },
  {
   "cell_type": "code",
   "execution_count": null,
   "metadata": {},
   "outputs": [],
   "source": [
    "Xw = ln_En_CV_LoBg * np.sqrt(weights)[:, None]\n",
    "yw = ln_Eff_CV_LoBg * np.sqrt(weights)\n",
    "print (linalg.lstsq(Xw, yw)[0])"
   ]
  },
  {
   "cell_type": "code",
   "execution_count": null,
   "metadata": {},
   "outputs": [],
   "source": [
    "print (linalg.lstsq(Xw, yw))"
   ]
  },
  {
   "cell_type": "code",
   "execution_count": null,
   "metadata": {},
   "outputs": [],
   "source": [
    "X = ln_En_CV_LoBg\n",
    "y = ln_Eff_CV_LoBg\n",
    "w1 = linalg.lstsq(X, y)\n",
    "print (w1)"
   ]
  },
  {
   "cell_type": "code",
   "execution_count": null,
   "metadata": {},
   "outputs": [],
   "source": [
    "np.log(2)"
   ]
  },
  {
   "cell_type": "code",
   "execution_count": null,
   "metadata": {},
   "outputs": [],
   "source": []
  },
  {
   "cell_type": "code",
   "execution_count": null,
   "metadata": {},
   "outputs": [],
   "source": [
    "# Figure 3\n",
    "figw3 = go.FigureWidget();\n",
    "figw3.add_trace(\n",
    "    go.Scatter(x=chans,\n",
    "               y=ys_net_counts,\n",
    "               name=\"Net counts\",\n",
    "               line=dict(color='green',width=0.5)));\n",
    "figw3.add_trace(\n",
    "    go.Scatter(x=peaks_net,\n",
    "               y=ys_net_counts[peaks_net],\n",
    "               mode=\"markers\",\n",
    "               name=\"net peaks\",\n",
    "               marker=dict(color='cyan',\n",
    "                           symbol='cross',\n",
    "                           size=15,\n",
    "                           opacity=0.7,\n",
    "                           line=dict(color='magenta', width=2.0)\n",
    "                          )\n",
    "              ));\n",
    "figw3.add_trace(\n",
    "    go.Scatter(x=peaks_1,\n",
    "               y=counts[peaks_1],\n",
    "               mode=\"markers\",\n",
    "               name=\"gross peaks\",\n",
    "               marker=dict(color='lightblue',\n",
    "                           symbol='cross',\n",
    "                           size=15,\n",
    "                           opacity=0.7,\n",
    "                           line=dict(color='green', width=2.0)\n",
    "                          )\n",
    "              ));\n",
    "# Set title and scale type\n",
    "figw3.update_layout(title_text=\"Gamma-ray net spectrum\")\n",
    "figw3.update_yaxes(type=\"log\");"
   ]
  },
  {
   "cell_type": "code",
   "execution_count": null,
   "metadata": {},
   "outputs": [],
   "source": [
    "figw3.write_html('figw3.html', auto_open=True)"
   ]
  },
  {
   "cell_type": "code",
   "execution_count": null,
   "metadata": {},
   "outputs": [],
   "source": [
    "# Essa será a 1b\n",
    "figw1 = go.FigureWidget();\n",
    "\n",
    "# Add Traces\n",
    "\n",
    "figw1.add_trace(\n",
    "    go.Scatter(x=chans_nzero,\n",
    "               y=counts_nzero,\n",
    "               error_y=dict(\n",
    "                   color='orange',width=3.0,\n",
    "                   type='data', # value of error bar given in data coordinates\n",
    "                   array=unc_y,\n",
    "                   visible=True),\n",
    "               name=\"Counts & uncertaintes\",\n",
    "               line=dict(color='orange',width=0.3)));\n",
    "\n",
    "figw1.add_trace(\n",
    "    go.Scatter(x=chans,\n",
    "               y=eval_y,\n",
    "               name=\"eval_y\",\n",
    "               line=dict(color='blue',width=0.5)));\n",
    "\n",
    "figw1.add_trace(\n",
    "    go.Scatter(x=peaks_1,\n",
    "               y=counts[peaks_1],\n",
    "               mode=\"markers\",\n",
    "               name=\"peaks\",\n",
    "               marker=dict(color='cyan',\n",
    "                           symbol='cross',\n",
    "                           size=20,\n",
    "                           opacity=0.5,\n",
    "                           line=dict(color='red', width=2.0)\n",
    "                          )\n",
    "              ));\n",
    "figw1.add_trace(\n",
    "    go.Scatter(x=peaks_net,\n",
    "               y=counts[peaks_net],\n",
    "               mode=\"markers\",\n",
    "               name=\"net peaks\",\n",
    "               marker=dict(color='red',\n",
    "                           symbol='circle',\n",
    "                           size=20,\n",
    "                           opacity=0.4,\n",
    "                           line=dict(color='green', width=2.0)\n",
    "                          )\n",
    "              ));\n",
    "\n",
    "figw4.add_trace(\n",
    "    go.Scatter(x=inis,\n",
    "               y=eval_y[inis],\n",
    "               mode=\"markers\",\n",
    "               name=\"inis\",\n",
    "               marker=dict(color='yellow',\n",
    "                           symbol='pentagon',\n",
    "                           size=10,\n",
    "                           opacity=1.0,\n",
    "                           line=dict(color='green', width=2.0)\n",
    "                          )\n",
    "              ));\n",
    "\n",
    "figw1.add_trace(\n",
    "    go.Scatter(x=fins,\n",
    "               y=eval_y[fins],\n",
    "               mode=\"markers\",\n",
    "               name=\"fins\",\n",
    "               marker=dict(color='cyan',\n",
    "                           symbol='star-triangle-down',\n",
    "                           size=10,\n",
    "                           opacity=1.0,\n",
    "                           line=dict(color='red', width=2.0)\n",
    "                          )\n",
    "              ));\n",
    "\n",
    "figw1.add_trace(\n",
    "    go.Scatter(x=xs_step_bline,\n",
    "               y=ys_step_bline,\n",
    "               name=\"Step baseline\",\n",
    "               line=dict(color='navy',width=0.4)));\n",
    "\n",
    "# Set title and scale type\n",
    "figw1.update_layout(title_text=\"Gamma-ray spectrum excerpt\")\n",
    "figw1.update_yaxes(type=\"log\");\n",
    "\n",
    "# Melhor não abrir inline, que seria simplesmente entrar com o nome do objeto:\n",
    "# figw2\n",
    "# Além de ficar com visualização incômoda, não funciona no JupyterLab; dá o erro:\n",
    "# Error displaying widget: model not found."
   ]
  },
  {
   "cell_type": "code",
   "execution_count": null,
   "metadata": {},
   "outputs": [],
   "source": [
    "figw4.write_html('figw4.html', auto_open=True)"
   ]
  },
  {
   "cell_type": "code",
   "execution_count": null,
   "outputs": [],
   "source": [
    "# 2022-Dez-28\n",
    "# Cópia do programa principal com interface, ograyspy_main_ui.py,\n",
    "# para testes com Pandas"
   ],
   "metadata": {
    "collapsed": false
   }
  },
  {
   "cell_type": "code",
   "execution_count": null,
   "outputs": [],
   "source": [
    "import sys\n",
    "from PyQt5.QtCore import *\n",
    "from PyQt5.QtGui import *\n",
    "from PyQt5.QtWebEngineWidgets import QWebEngineView\n",
    "from PyQt5.QtWidgets import *\n",
    "from css_test import css_test, apply_css\n",
    "\n",
    "from ograyspy_class import Ograyspy\n",
    "# from html_window_class import SimpleHtmlViewer\n",
    "\n",
    "class MainWindow(QMainWindow):\n",
    "    count = 0\n",
    "\n",
    "    def __init__(self, parent=None):\n",
    "        super(MainWindow, self).__init__(parent)\n",
    "        self.mdi = QMdiArea()\n",
    "\n",
    "        self.mdi.setHorizontalScrollBarPolicy(Qt.ScrollBarAsNeeded)\n",
    "        self.mdi.setVerticalScrollBarPolicy(Qt.ScrollBarAsNeeded)\n",
    "        self.setCentralWidget(self.mdi)\n",
    "\n",
    "        # self.mdi.subWindowActivated.connect(self.updateMenus)\n",
    "        self.windowMapper = QSignalMapper(self)\n",
    "        # self.windowMapper.mapped[QWidget].connect(self.setActiveSubWindow)\n",
    "\n",
    "        self.setCentralWidget(self.mdi)\n",
    "        bar = self.menuBar()\n",
    "\n",
    "        file = bar.addMenu(\"File\")\n",
    "        file.addAction(\"New\")\n",
    "        file.addAction(\"Open\")\n",
    "        file.addAction(\"Pandas-generate an_html_file.html\")\n",
    "        file.addAction(\"Show spectrum graphic\")\n",
    "        file.addAction(\"Show Pandas dataframe\")\n",
    "        file.addAction(\"cascade\")\n",
    "        file.addAction(\"Tiled\")\n",
    "        file.addAction(\"Exit\")\n",
    "        file.triggered[QAction].connect(self.windowaction)\n",
    "        self.setWindowTitle(\"MDI demo\")\n",
    "\n",
    "    def windowaction(self, q):\n",
    "        print(\"triggered\")\n",
    "\n",
    "        if q.text() == \"New\":\n",
    "            MainWindow.count = MainWindow.count + 1\n",
    "            sub = QMdiSubWindow()\n",
    "            sub.setWidget(QTextEdit())\n",
    "            sub.setWindowTitle(\"subwindow\" + str(MainWindow.count))\n",
    "            self.mdi.addSubWindow(sub)\n",
    "            sub.show()\n",
    "\n",
    "        if q.text() == \"Open\":\n",
    "            fileName, _ = QFileDialog.getOpenFileName(self)\n",
    "            if fileName:\n",
    "                # This is a hack...\n",
    "                # existing = self.findMdiChild(fileName)\n",
    "                existing = True\n",
    "                if existing:\n",
    "                    MainWindow.count = MainWindow.count + 1\n",
    "                    sub = QMdiSubWindow()\n",
    "                    sub.setWidget(QTextEdit())\n",
    "                    # sub.setWindowTitle(\"subwindow\" + str(MainWindow.count))\n",
    "                    sub.setWindowTitle(fileName)\n",
    "                    self.mdi.addSubWindow(sub)\n",
    "                    sub.show()\n",
    "\n",
    "        if q.text() == \"Pandas-generate an_html_file.html\":\n",
    "            fileName, _ = QFileDialog.getOpenFileName(self)\n",
    "            if fileName:\n",
    "                # This is a hack...\n",
    "                # existing = self.findMdiChild(fileName)\n",
    "                existing = True\n",
    "                if existing:\n",
    "                    ogra = Ograyspy(batch_mode=False)\n",
    "                    # to_be_found = 'Genie_Transfer'\n",
    "                    # print('\\nogra.define_files_folder(to_be_found)')\n",
    "                    # ogra.define_files_folder(to_be_found)\n",
    "                    ogra.a_spec_name = fileName\n",
    "                    # AQUI: ativar gener_dataframe qdo estiver pronto.\n",
    "                    ogra.perform_total_analysis(peak_sd_fact=3.0, gener_dataframe=True)\n",
    "                    ogra.a_spec.spec_pks_df.to_html(buf='an_html_file.html')\n",
    "                    # print(ogra.a_spec.spec_pks_df)\n",
    "\n",
    "                    MainWindow.count = MainWindow.count + 1\n",
    "                    sub = QMdiSubWindow()\n",
    "                    web = QWebEngineView()\n",
    "                    # web.load(QUrl(\"file:///C:/Users/mmaduar/PycharmProjects/OGRaySpY/src/my_file.html\"))\n",
    "                    apply_css(ogra.a_spec.spec_pks_df)\n",
    "                    web.load(QUrl(\"file:///C:/Users/mmaduar/PycharmProjects/OGRaySpY/src/an_html_file.html\"))\n",
    "                    # 2022-Dez-27 PAREI AQUI:\n",
    "                    # - passar a saída de to_html como string?\n",
    "                    # - O html pode ser renderizado com sucesso, inclusive com css\n",
    "                    # - porém, parece que o SEI não aceita css. Paciência.\n",
    "\n",
    "                    # web.load(ogra.dataframe_html_string)\n",
    "                    # css_test()\n",
    "                    sub.setWidget(web)\n",
    "                    sub.setWindowTitle(\"subwindow\" + str(MainWindow.count))\n",
    "                    self.mdi.addSubWindow(sub)\n",
    "                    sub.show()\n",
    "\n",
    "        if q.text() == \"Show spectrum graphic\":\n",
    "            MainWindow.count = MainWindow.count + 1\n",
    "            sub = QMdiSubWindow()\n",
    "            web = QWebEngineView()\n",
    "            web.load(QUrl(\"file:///C:/Users/mmaduar/PycharmProjects/OGRaySpY/src/gross_counts_graph.html\"))\n",
    "            sub.setWidget(web)\n",
    "            sub.setWindowTitle(\"subwindow\" + str(MainWindow.count))\n",
    "            self.mdi.addSubWindow(sub)\n",
    "            sub.show()\n",
    "\n",
    "        if q.text() == \"Show Pandas dataframe\":\n",
    "            MainWindow.count = MainWindow.count + 1\n",
    "            sub = QMdiSubWindow()\n",
    "            web = QWebEngineView()\n",
    "            web.load(QUrl(\"file:///C:/Users/mmaduar/PycharmProjects/OGRaySpY/src/my_file.html\"))\n",
    "            # 2022-Dez-23 PAREI AQUI - passar a saída de to_html como string\n",
    "            # web.load(ogra.dataframe_html_string)\n",
    "            css_test()\n",
    "            sub.setWidget(web)\n",
    "            sub.setWindowTitle(\"subwindow\" + str(MainWindow.count))\n",
    "            self.mdi.addSubWindow(sub)\n",
    "            sub.show()\n",
    "\n",
    "        if q.text() == \"cascade\":\n",
    "            self.mdi.cascadeSubWindows()\n",
    "\n",
    "        if q.text() == \"Tiled\":\n",
    "            self.mdi.tileSubWindows()\n",
    "\n",
    "        if q.text() == \"Exit\":\n",
    "            QApplication.instance().exit()\n",
    "\n",
    "    def findMdiChild(self, fileName):\n",
    "        canonicalFilePath = QFileInfo(fileName).canonicalFilePath()\n",
    "\n",
    "        for window in self.mdiArea.subWindowList():\n",
    "            if window.widget().currentFile() == canonicalFilePath:\n",
    "                return window\n",
    "        return None\n",
    "\n",
    "\n",
    "def main():\n",
    "    app = QApplication(sys.argv)\n",
    "    ex = MainWindow()\n",
    "    ex.show()\n",
    "    sys.exit(app.exec_())\n",
    "\n",
    "\n",
    "if __name__ == '__main__':\n",
    "    main()\n"
   ],
   "metadata": {
    "collapsed": false
   }
  },
  {
   "cell_type": "code",
   "execution_count": null,
   "outputs": [],
   "source": [
    "dir()"
   ],
   "metadata": {
    "collapsed": false
   }
  },
  {
   "cell_type": "code",
   "execution_count": null,
   "outputs": [],
   "source": [],
   "metadata": {
    "collapsed": false
   }
  }
 ],
 "metadata": {
  "kernelspec": {
   "display_name": "Python 3",
   "language": "python",
   "name": "python3"
  },
  "language_info": {
   "codemirror_mode": {
    "name": "ipython",
    "version": 3
   },
   "file_extension": ".py",
   "mimetype": "text/x-python",
   "name": "python",
   "nbconvert_exporter": "python",
   "pygments_lexer": "ipython3",
   "version": "3.7.3"
  }
 },
 "nbformat": 4,
 "nbformat_minor": 5
}
