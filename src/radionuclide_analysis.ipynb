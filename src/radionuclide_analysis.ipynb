{
 "cells": [
  {
   "cell_type": "code",
   "execution_count": 1,
   "outputs": [],
   "source": [
    "# 2022-Dez-28\n",
    "# Jupyter notebook for tests with OGRaySpY modules"
   ],
   "metadata": {
    "collapsed": false
   }
  },
  {
   "cell_type": "code",
   "execution_count": 2,
   "outputs": [],
   "source": [
    "import numpy as np\n",
    "from numpy.random import default_rng\n",
    "from scipy import special\n",
    "import matplotlib.pyplot as plt\n",
    "import pandas as pd\n",
    "import plotly.graph_objects as go\n",
    "\n",
    "from spec_class import Spec"
   ],
   "metadata": {
    "collapsed": false
   }
  },
  {
   "cell_type": "code",
   "execution_count": 3,
   "metadata": {},
   "outputs": [],
   "source": [
    "# https://lmfit.github.io/lmfit-py/builtin_models.html\n",
    "from lmfit import Model, Minimizer, minimize, Parameters, report_fit, fit_report, printfuncs\n",
    "from lmfit.models import LinearModel, StepModel, ExponentialModel, LorentzianModel\n",
    "from lmfit.models import GaussianModel, SkewedGaussianModel, ExpressionModel"
   ]
  },
  {
   "cell_type": "code",
   "execution_count": 4,
   "metadata": {},
   "outputs": [],
   "source": [
    "from ograyspy_class import Ograyspy"
   ]
  },
  {
   "cell_type": "code",
   "execution_count": 5,
   "metadata": {},
   "outputs": [
    {
     "name": "stdout",
     "output_type": "stream",
     "text": [
      "Objeto ogra: Ograyspy criado.\n",
      "ogra.info_plat: Windows-10-10.0.19044-SP0\n",
      "ogra.info_mach: AMD64\n",
      "ogra.info_syst: Windows\n",
      "ogra.info_node: I56611\n",
      "ogra.home_path: C:\\Users\\mmaduar\n"
     ]
    }
   ],
   "source": [
    "ogra = Ograyspy(batch_mode=False)\n",
    "print('Objeto ogra: Ograyspy criado.')\n",
    "print(f'ogra.info_plat: {ogra.info_plat}')\n",
    "print(f'ogra.info_mach: {ogra.info_mach}')\n",
    "print(f'ogra.info_syst: {ogra.info_syst}')\n",
    "print(f'ogra.info_node: {ogra.info_node}')\n",
    "print(f'ogra.home_path: {ogra.home_path}')"
   ]
  },
  {
   "cell_type": "code",
   "execution_count": 6,
   "metadata": {},
   "outputs": [],
   "source": [
    "# f_name = '../../Genie_Transfer/Si/SI2019/SI04119.Chn'\n",
    "# f_name = '../gamma/spectra/ALMERA-2016/alm_samp5_sedim_16.IEC'"
   ]
  },
  {
   "cell_type": "code",
   "execution_count": 7,
   "metadata": {},
   "outputs": [
    {
     "name": "stdout",
     "output_type": "stream",
     "text": [
      "\n",
      "ogra.define_files_folder(to_be_found)\n",
      "Found folder name:  C:\\Users\\mmaduar\\Nextcloud\\Genie_Transfer\n",
      "Partes:  ('C:\\\\', 'Users', 'mmaduar', 'Nextcloud', 'Genie_Transfer')\n",
      "No. spec files:  6813\n"
     ]
    }
   ],
   "source": [
    "to_be_found = 'Genie_Transfer'\n",
    "# to_be_found = 'some_spectra'\n",
    "print('\\nogra.define_files_folder(to_be_found)')\n",
    "ogra.define_files_folder(to_be_found)"
   ]
  },
  {
   "cell_type": "code",
   "execution_count": 8,
   "outputs": [],
   "source": [
    "# a spectrum pattern to find and test:"
   ],
   "metadata": {
    "collapsed": false
   }
  },
  {
   "cell_type": "code",
   "execution_count": 9,
   "metadata": {},
   "outputs": [],
   "source": [
    "# 2022\n",
    "# Se quiser ignorar o espectro aleatório, definir aqui um específico. Se não, pular.\n",
    "# Vou ignorar o espectro já analisado e refazer a análise, para testes.\n",
    "# 2022-Mar-24 Resolver essa questão dos nomes de arquivos em Linux e Windows\n",
    "# a_spec_name = '..\\\\..\\\\Genie_Transfer\\\\Si\\\\2018\\\\PNR\\\\PRN0803.Chn'\n",
    "# a_spec_name = '../../Genie_Transfer/Si/2018/PNR/PRN0803.Chn'\n",
    "# a_spec_name = '../../Genie_Transfer/Si/2018/CTP/CTP0908-2.Chn'\n",
    "# Esse é um que dá problema na baseline perto do 159 keV do I-123:\n",
    "# a_spec_name = '../../Genie_Transfer/Si/2018/CCI/CCI1508I.Chn'\n",
    "# Precisa quebrar mais a baseline: Ok, consertado!!!\n",
    "# 2022: Já usando o GMX:\n",
    "# a_spec_name = '../../Genie_Transfer/Filtros/2022/Cci/CCI1603-I.Chn'\n",
    "\n"
   ]
  },
  {
   "cell_type": "code",
   "execution_count": 10,
   "metadata": {},
   "outputs": [],
   "source": [
    "\n",
    "# 2022-out-7: Excelente espectro para testes, tenho usado ultimamente:\n",
    "a_pattern = 'Si/SI2018/SI11318.Chn'\n",
    "# 2022-nov-16: outros espectros:\n",
    "# a_pattern = \"Filtros/2022/Cci/CCI1603-I.Chn\"\n",
    "# a_pattern = \"Filtros/2022/Cci/CCI2302-I.Chn\"\n",
    "\n",
    "# a_pattern = \"Eso_non_existe.Chn\"\n",
    "\n",
    "# 2022-Dez-21 Buscando outro espectro\n",
    "# a_pattern = 'CCI1603-I'\n",
    "# 2022-Dez-28 Este é um espectro mais recente:\n",
    "a_pattern = 'SI09722.Chn'"
   ]
  },
  {
   "cell_type": "code",
   "execution_count": 11,
   "outputs": [
    {
     "name": "stdout",
     "output_type": "stream",
     "text": [
      "\n",
      "\n",
      "ogra.select_spectrum(SI09722.Chn)\n",
      "Existing:\n",
      "Achou! indice=6789, nomearq = Si/SI2022/SI09722.Chn\n",
      "==========================\n",
      "Final choices:\n",
      "spectra_path: C:\\Users\\mmaduar\\Nextcloud\\Genie_Transfer\n",
      "a_spec_name: C:\\Users\\mmaduar\\Nextcloud\\Genie_Transfer\\Si\\SI2022\\SI09722.Chn\n",
      "reduced_f_name: Si/SI2022/SI09722.Chn\n",
      "A spec name: C:\\Users\\mmaduar\\Nextcloud\\Genie_Transfer\\Si\\SI2022\\SI09722.Chn\n",
      "Reduced file name: Si/SI2022/SI09722.Chn\n",
      "k_sep_pk:  2.0\n",
      "smoo:  4096\n",
      "widths_range:  (4.0, 20.0)\n",
      "=================\n",
      "Exec peaks_search(gross=True), espectro ORIGINAL\n",
      "resolve_peaks_and_regions:\n",
      "define_multiplets_regions completado. Define: self.mix_regions.\n",
      "resolve_peaks_and_regions:\n",
      "define_multiplets_regions completado. Define: self.mix_regions.\n",
      "{'net_spec_ser_an': <generic_series_analysis_class.GenericSeriesAnalysis object at 0x00000191B0B9F7F0>, 'final_composed_baseline': <generic_series_analysis_class.GenericSeriesAnalysis object at 0x00000191B0B9F760>, 'f_name': WindowsPath('C:/Users/mmaduar/Nextcloud/Genie_Transfer/Si/SI2022/SI09722.Chn'), 'reduced_f_name': 'Si/SI2022/SI09722.Chn', 'sufx': '.chn', 'spec_io': None, 'pkl_file': WindowsPath('C:/Users/mmaduar/Nextcloud/Genie_Transfer/Si/SI2022/SI09722.pkl'), 'gross_spec_ser_an': <generic_series_analysis_class.GenericSeriesAnalysis object at 0x00000191B0B9F6A0>, 'spec_pks_df': Empty DataFrame\n",
      "Columns: []\n",
      "Index: []}\n",
      "['__class__', '__delattr__', '__dict__', '__dir__', '__doc__', '__eq__', '__format__', '__ge__', '__getattribute__', '__gt__', '__hash__', '__init__', '__init_subclass__', '__le__', '__lt__', '__module__', '__ne__', '__new__', '__reduce__', '__reduce_ex__', '__repr__', '__setattr__', '__sizeof__', '__str__', '__subclasshook__', '__weakref__', 'curr_h_win', 'f_name', 'final_composed_baseline', 'generate_pandas_dataframe', 'gross_spec_ser_an', 'net_spec_ser_an', 'pkl_file', 'reduced_f_name', 'spec_io', 'spec_pks_df', 'sufx', 'total_analysis']\n",
      "=================\n",
      "Fez total analysis.\n"
     ]
    }
   ],
   "source": [
    "\n",
    "\n",
    "print(f'\\n\\nogra.select_spectrum({a_pattern})')\n",
    "ogra.select_spectrum(a_pattern)\n",
    "print(f'A spec name: {ogra.a_spec_name}')\n",
    "print(f'Reduced file name: {ogra.reduced_f_name}')\n",
    "\n",
    "# AQUI: ativar gener_dataframe qdo estiver pronto.\n",
    "ogra.perform_total_analysis(peak_sd_fact=3.0, gener_dataframe=True)\n",
    "# print(ogra.a_spec.spec_pks_df)"
   ],
   "metadata": {
    "collapsed": false
   }
  },
  {
   "cell_type": "code",
   "execution_count": 12,
   "outputs": [
    {
     "data": {
      "text/plain": "reduced_f_name       object\npeaks                 int64\nini_wide_regions      int32\nfin_wide_regions      int32\nfwhm_centr          float64\ncentroids           float64\nrough_sums          float64\npeak_heights        float64\nleft_thresholds     float64\nright_thresholds    float64\nprominences         float64\nleft_bases            int64\nright_bases           int64\nwidth_heights       float64\nleft_ips            float64\nright_ips           float64\nwidths              float64\nvariances           float64\ndtype: object"
     },
     "execution_count": 12,
     "metadata": {},
     "output_type": "execute_result"
    }
   ],
   "source": [
    "ogra.a_spec.spec_pks_df.dtypes"
   ],
   "metadata": {
    "collapsed": false
   }
  },
  {
   "cell_type": "code",
   "execution_count": 13,
   "outputs": [],
   "source": [
    "ogra.call_graphics()"
   ],
   "metadata": {
    "collapsed": false
   }
  },
  {
   "cell_type": "code",
   "execution_count": 13,
   "outputs": [],
   "source": [],
   "metadata": {
    "collapsed": false
   }
  },
  {
   "cell_type": "code",
   "execution_count": 14,
   "outputs": [],
   "source": [
    "rng = np.random.default_rng()\n",
    "# rints = rng.integers(low=0, high=10, size=3)\n",
    "\n",
    "# 2022-Jun-23: Reativar após consertar o arquivo pickle:\n",
    "# rints = rng.integers(pkl_df1.count()[0], size=3)\n",
    "# print(rints)\n",
    "# type(rints[0])\n",
    "# some_spec = rints[1]\n",
    "# pkl_df1.iloc[some_spec]\n",
    "# a_spec_name = pkl_df1.iloc[some_spec]['FName']\n",
    "# a_spec_name"
   ],
   "metadata": {
    "collapsed": false
   }
  },
  {
   "cell_type": "code",
   "execution_count": 15,
   "outputs": [
    {
     "data": {
      "text/plain": "Generator(PCG64) at 0x191B10BC820"
     },
     "execution_count": 15,
     "metadata": {},
     "output_type": "execute_result"
    }
   ],
   "source": [
    "rng"
   ],
   "metadata": {
    "collapsed": false
   }
  },
  {
   "cell_type": "code",
   "execution_count": 16,
   "outputs": [
    {
     "name": "stdout",
     "output_type": "stream",
     "text": [
      "A spec name: C:\\Users\\mmaduar\\Nextcloud\\Genie_Transfer\\Si\\SI2022\\SI09722.Chn\n",
      "Reduced file name: Si/SI2022/SI09722.Chn\n"
     ]
    }
   ],
   "source": [
    "print(f'A spec name: {ogra.a_spec_name}')\n",
    "print(f'Reduced file name: {ogra.reduced_f_name}')"
   ],
   "metadata": {
    "collapsed": false
   }
  },
  {
   "cell_type": "code",
   "execution_count": 17,
   "outputs": [
    {
     "data": {
      "text/plain": "{'info_plat': 'Windows-10-10.0.19044-SP0',\n 'info_mach': 'AMD64',\n 'info_syst': 'Windows',\n 'info_node': 'I56611',\n 'home_path': WindowsPath('C:/Users/mmaduar'),\n 'spectra_path': WindowsPath('C:/Users/mmaduar/Nextcloud/Genie_Transfer'),\n 'n_files': 6813,\n 'a_spec_ind': 6789,\n 'a_spec_name': WindowsPath('C:/Users/mmaduar/Nextcloud/Genie_Transfer/Si/SI2022/SI09722.Chn'),\n 'reduced_f_name': 'Si/SI2022/SI09722.Chn',\n 'gross_counts_graphics': None,\n 'pks_regions_gros': None,\n 'files_list': [WindowsPath('C:/Users/mmaduar/Nextcloud/Genie_Transfer/almera22/det_c/iaeaqcb.chn'),\n  WindowsPath('C:/Users/mmaduar/Nextcloud/Genie_Transfer/almera22/det_c/iaeaqcc.chn'),\n  WindowsPath('C:/Users/mmaduar/Nextcloud/Genie_Transfer/almera22/det_c/IAEASW1B.chn'),\n  WindowsPath('C:/Users/mmaduar/Nextcloud/Genie_Transfer/almera22/det_c/iaeaw2a.chn'),\n  WindowsPath('C:/Users/mmaduar/Nextcloud/Genie_Transfer/almera22/eur_g_p_xtraf/Spiked water Sample Code 01A  Det G.Chn'),\n  WindowsPath('C:/Users/mmaduar/Nextcloud/Genie_Transfer/almera22/eur_g_p_xtraf/Spiked water Sample Code 01A  Det P.Chn'),\n  WindowsPath('C:/Users/mmaduar/Nextcloud/Genie_Transfer/almera22/eur_g_p_xtraf/Spiked water Sample Code 01B Det Eurisys.Chn'),\n  WindowsPath('C:/Users/mmaduar/Nextcloud/Genie_Transfer/almera22/eur_g_p_xtraf/Spiked water Sample Code 01B XtRa.Chn'),\n  WindowsPath('C:/Users/mmaduar/Nextcloud/Genie_Transfer/almera22/eur_g_p_xtraf/Spiked water Sample Code 01C Eurisys.Chn'),\n  WindowsPath('C:/Users/mmaduar/Nextcloud/Genie_Transfer/almera22/eur_g_p_xtraf/Spiked water Sample Code 02A  Det P.Chn'),\n  WindowsPath('C:/Users/mmaduar/Nextcloud/Genie_Transfer/almera22/eur_g_p_xtraf/Spiked water Sample Code 02A  Eurisusys.Chn'),\n  WindowsPath('C:/Users/mmaduar/Nextcloud/Genie_Transfer/almera22/eur_g_p_xtraf/Spiked water Sample Code 02C Det G.Chn'),\n  WindowsPath('C:/Users/mmaduar/Nextcloud/Genie_Transfer/almera22/eur_g_p_xtraf/Spiked water Sample code 03A Det P.Chn'),\n  WindowsPath('C:/Users/mmaduar/Nextcloud/Genie_Transfer/almera22/eur_g_p_xtraf/Spiked water Sample Code 03B Det G.Chn'),\n  WindowsPath('C:/Users/mmaduar/Nextcloud/Genie_Transfer/almera22/eur_g_p_xtraf/Spiked water Sample Code 03C Det Eurisys.Chn'),\n  WindowsPath('C:/Users/mmaduar/Nextcloud/Genie_Transfer/almera22/eur_g_p_xtraf/Spiked water Sample Code 03C XtRa.Chn'),\n  WindowsPath('C:/Users/mmaduar/Nextcloud/Genie_Transfer/almera22/eur_g_p_xtraf/Spiked water Sample code QCA det XtRa.Chn'),\n  WindowsPath('C:/Users/mmaduar/Nextcloud/Genie_Transfer/almera22/eur_g_p_xtraf/Spiked water Sample Code QCB Det Eurisys.Chn'),\n  WindowsPath('C:/Users/mmaduar/Nextcloud/Genie_Transfer/almera22/eur_g_p_xtraf/Spiked water Sample Code QCB Det G.Chn'),\n  WindowsPath('C:/Users/mmaduar/Nextcloud/Genie_Transfer/almera22/eur_g_p_xtraf/Spiked water Sample Code QCB Det XTRa.Chn'),\n  WindowsPath('C:/Users/mmaduar/Nextcloud/Genie_Transfer/almera22/eur_g_p_xtraf/Spiked water Sample Code QCC Det P.Chn'),\n  WindowsPath('C:/Users/mmaduar/Nextcloud/Genie_Transfer/Filtros/BGFILTRO.Chn'),\n  WindowsPath('C:/Users/mmaduar/Nextcloud/Genie_Transfer/Filtros/Exaustor Dirf 20 julho 2016 SI 09816.Chn'),\n  WindowsPath('C:/Users/mmaduar/Nextcloud/Genie_Transfer/Filtros/FC SAS DIRF 2007.Chn'),\n  WindowsPath('C:/Users/mmaduar/Nextcloud/Genie_Transfer/Filtros/2009/cce/fcce0307.Chn'),\n  WindowsPath('C:/Users/mmaduar/Nextcloud/Genie_Transfer/Filtros/2009/cce/fcce1408.Chn'),\n  WindowsPath('C:/Users/mmaduar/Nextcloud/Genie_Transfer/Filtros/2009/cce/fcce1707.Chn'),\n  WindowsPath('C:/Users/mmaduar/Nextcloud/Genie_Transfer/Filtros/2009/cce/fcce2708.Chn'),\n  WindowsPath('C:/Users/mmaduar/Nextcloud/Genie_Transfer/Filtros/2009/cce/fcce3107.Chn'),\n  WindowsPath('C:/Users/mmaduar/Nextcloud/Genie_Transfer/Filtros/2009/cci/cci0107.Chn'),\n  WindowsPath('C:/Users/mmaduar/Nextcloud/Genie_Transfer/Filtros/2009/cci/cci0209.Chn'),\n  WindowsPath('C:/Users/mmaduar/Nextcloud/Genie_Transfer/Filtros/2009/cci/cci0212.Chn'),\n  WindowsPath('C:/Users/mmaduar/Nextcloud/Genie_Transfer/Filtros/2009/cci/cci0403.Chn'),\n  WindowsPath('C:/Users/mmaduar/Nextcloud/Genie_Transfer/Filtros/2009/cci/cci0406.Chn'),\n  WindowsPath('C:/Users/mmaduar/Nextcloud/Genie_Transfer/Filtros/2009/cci/cci0411.Chn'),\n  WindowsPath('C:/Users/mmaduar/Nextcloud/Genie_Transfer/Filtros/2009/cci/cci0502.Chn'),\n  WindowsPath('C:/Users/mmaduar/Nextcloud/Genie_Transfer/Filtros/2009/cci/cci0508.Chn'),\n  WindowsPath('C:/Users/mmaduar/Nextcloud/Genie_Transfer/Filtros/2009/cci/cci0605.chn'),\n  WindowsPath('C:/Users/mmaduar/Nextcloud/Genie_Transfer/Filtros/2009/cci/cci0701.Chn'),\n  WindowsPath('C:/Users/mmaduar/Nextcloud/Genie_Transfer/Filtros/2009/cci/cci0710.Chn'),\n  WindowsPath('C:/Users/mmaduar/Nextcloud/Genie_Transfer/Filtros/2009/cci/cci0804.Chn'),\n  WindowsPath('C:/Users/mmaduar/Nextcloud/Genie_Transfer/Filtros/2009/cci/cci0807.Chn'),\n  WindowsPath('C:/Users/mmaduar/Nextcloud/Genie_Transfer/Filtros/2009/cci/cci0909.Chn'),\n  WindowsPath('C:/Users/mmaduar/Nextcloud/Genie_Transfer/Filtros/2009/cci/cci0912.Chn'),\n  WindowsPath('C:/Users/mmaduar/Nextcloud/Genie_Transfer/Filtros/2009/cci/cci1006.Chn'),\n  WindowsPath('C:/Users/mmaduar/Nextcloud/Genie_Transfer/Filtros/2009/cci/cci1103.Chn'),\n  WindowsPath('C:/Users/mmaduar/Nextcloud/Genie_Transfer/Filtros/2009/cci/cci1111.Chn'),\n  WindowsPath('C:/Users/mmaduar/Nextcloud/Genie_Transfer/Filtros/2009/cci/cci1208.Chn'),\n  WindowsPath('C:/Users/mmaduar/Nextcloud/Genie_Transfer/Filtros/2009/cci/cci1305.Chn'),\n  WindowsPath('C:/Users/mmaduar/Nextcloud/Genie_Transfer/Filtros/2009/cci/cci1410.Chn'),\n  WindowsPath('C:/Users/mmaduar/Nextcloud/Genie_Transfer/Filtros/2009/cci/cci1504.Chn'),\n  WindowsPath('C:/Users/mmaduar/Nextcloud/Genie_Transfer/Filtros/2009/cci/cci1507.Chn'),\n  WindowsPath('C:/Users/mmaduar/Nextcloud/Genie_Transfer/Filtros/2009/cci/cci1609.Chn'),\n  WindowsPath('C:/Users/mmaduar/Nextcloud/Genie_Transfer/Filtros/2009/cci/cci1706.Chn'),\n  WindowsPath('C:/Users/mmaduar/Nextcloud/Genie_Transfer/Filtros/2009/cci/cci1803.Chn'),\n  WindowsPath('C:/Users/mmaduar/Nextcloud/Genie_Transfer/Filtros/2009/cci/cci1811.Chn'),\n  WindowsPath('C:/Users/mmaduar/Nextcloud/Genie_Transfer/Filtros/2009/cci/cci1908.Chn'),\n  WindowsPath('C:/Users/mmaduar/Nextcloud/Genie_Transfer/Filtros/2009/cci/cci2005.Chn'),\n  WindowsPath('C:/Users/mmaduar/Nextcloud/Genie_Transfer/Filtros/2009/cci/cci2101.Chn'),\n  WindowsPath('C:/Users/mmaduar/Nextcloud/Genie_Transfer/Filtros/2009/cci/cci2110.Chn'),\n  WindowsPath('C:/Users/mmaduar/Nextcloud/Genie_Transfer/Filtros/2009/cci/cci2207.Chn'),\n  WindowsPath('C:/Users/mmaduar/Nextcloud/Genie_Transfer/Filtros/2009/cci/cci2309.Chn'),\n  WindowsPath('C:/Users/mmaduar/Nextcloud/Genie_Transfer/Filtros/2009/cci/cci2406.Chn'),\n  WindowsPath('C:/Users/mmaduar/Nextcloud/Genie_Transfer/Filtros/2009/cci/cci2503.Chn'),\n  WindowsPath('C:/Users/mmaduar/Nextcloud/Genie_Transfer/Filtros/2009/cci/cci2511.Chn'),\n  WindowsPath('C:/Users/mmaduar/Nextcloud/Genie_Transfer/Filtros/2009/cci/cci2608.Chn'),\n  WindowsPath('C:/Users/mmaduar/Nextcloud/Genie_Transfer/Filtros/2009/cci/cci2801.Chn'),\n  WindowsPath('C:/Users/mmaduar/Nextcloud/Genie_Transfer/Filtros/2009/cci/cci2810.Chn'),\n  WindowsPath('C:/Users/mmaduar/Nextcloud/Genie_Transfer/Filtros/2009/cci/cci2907.chn'),\n  WindowsPath('C:/Users/mmaduar/Nextcloud/Genie_Transfer/Filtros/2009/cci/cci2912.Chn'),\n  WindowsPath('C:/Users/mmaduar/Nextcloud/Genie_Transfer/Filtros/2009/cci/cci3103.Chn'),\n  WindowsPath('C:/Users/mmaduar/Nextcloud/Genie_Transfer/Filtros/2009/cci/xxi1006.Chn'),\n  WindowsPath('C:/Users/mmaduar/Nextcloud/Genie_Transfer/Filtros/2009/ces/fces0109.Chn'),\n  WindowsPath('C:/Users/mmaduar/Nextcloud/Genie_Transfer/Filtros/2009/ces/fces0408.Chn'),\n  WindowsPath('C:/Users/mmaduar/Nextcloud/Genie_Transfer/Filtros/2009/ces/fces0707.Chn'),\n  WindowsPath('C:/Users/mmaduar/Nextcloud/Genie_Transfer/Filtros/2009/ces/fces1808.Chn'),\n  WindowsPath('C:/Users/mmaduar/Nextcloud/Genie_Transfer/Filtros/2009/ces/fces2107.Chn'),\n  WindowsPath('C:/Users/mmaduar/Nextcloud/Genie_Transfer/Filtros/2009/crf/crf0210.Chn'),\n  WindowsPath('C:/Users/mmaduar/Nextcloud/Genie_Transfer/Filtros/2009/crf/crf0304.Chn'),\n  WindowsPath('C:/Users/mmaduar/Nextcloud/Genie_Transfer/Filtros/2009/crf/crf0307.Chn'),\n  WindowsPath('C:/Users/mmaduar/Nextcloud/Genie_Transfer/Filtros/2009/crf/crf0409.Chn'),\n  WindowsPath('C:/Users/mmaduar/Nextcloud/Genie_Transfer/Filtros/2009/crf/crf0412.Chn'),\n  WindowsPath('C:/Users/mmaduar/Nextcloud/Genie_Transfer/Filtros/2009/crf/crf0506.Chn'),\n  WindowsPath('C:/Users/mmaduar/Nextcloud/Genie_Transfer/Filtros/2009/crf/crf0602.Chn'),\n  WindowsPath('C:/Users/mmaduar/Nextcloud/Genie_Transfer/Filtros/2009/crf/crf0603.Chn'),\n  WindowsPath('C:/Users/mmaduar/Nextcloud/Genie_Transfer/Filtros/2009/crf/crf0611.Chn'),\n  WindowsPath('C:/Users/mmaduar/Nextcloud/Genie_Transfer/Filtros/2009/crf/crf0708.Chn'),\n  WindowsPath('C:/Users/mmaduar/Nextcloud/Genie_Transfer/Filtros/2009/crf/crf0901.Chn'),\n  WindowsPath('C:/Users/mmaduar/Nextcloud/Genie_Transfer/Filtros/2009/crf/crf0904.Chn'),\n  WindowsPath('C:/Users/mmaduar/Nextcloud/Genie_Transfer/Filtros/2009/crf/crf0910.Chn'),\n  WindowsPath('C:/Users/mmaduar/Nextcloud/Genie_Transfer/Filtros/2009/crf/crf1007.Chn'),\n  WindowsPath('C:/Users/mmaduar/Nextcloud/Genie_Transfer/Filtros/2009/crf/crf1109.Chn'),\n  WindowsPath('C:/Users/mmaduar/Nextcloud/Genie_Transfer/Filtros/2009/crf/crf1112.Chn'),\n  WindowsPath('C:/Users/mmaduar/Nextcloud/Genie_Transfer/Filtros/2009/crf/crf1206.Chn'),\n  WindowsPath('C:/Users/mmaduar/Nextcloud/Genie_Transfer/Filtros/2009/crf/crf1302.Chn'),\n  WindowsPath('C:/Users/mmaduar/Nextcloud/Genie_Transfer/Filtros/2009/crf/crf1303.Chn'),\n  WindowsPath('C:/Users/mmaduar/Nextcloud/Genie_Transfer/Filtros/2009/crf/crf1311.Chn'),\n  WindowsPath('C:/Users/mmaduar/Nextcloud/Genie_Transfer/Filtros/2009/crf/crf1408.Chn'),\n  WindowsPath('C:/Users/mmaduar/Nextcloud/Genie_Transfer/Filtros/2009/crf/crf1505.Chn'),\n  WindowsPath('C:/Users/mmaduar/Nextcloud/Genie_Transfer/Filtros/2009/crf/crf15052.Chn'),\n  WindowsPath('C:/Users/mmaduar/Nextcloud/Genie_Transfer/Filtros/2009/crf/crf1601.Chn'),\n  WindowsPath('C:/Users/mmaduar/Nextcloud/Genie_Transfer/Filtros/2009/crf/crf1610.Chn'),\n  WindowsPath('C:/Users/mmaduar/Nextcloud/Genie_Transfer/Filtros/2009/crf/crf1704.Chn'),\n  WindowsPath('C:/Users/mmaduar/Nextcloud/Genie_Transfer/Filtros/2009/crf/crf1707.chn'),\n  WindowsPath('C:/Users/mmaduar/Nextcloud/Genie_Transfer/Filtros/2009/crf/crf1809.Chn'),\n  WindowsPath('C:/Users/mmaduar/Nextcloud/Genie_Transfer/Filtros/2009/crf/crf1812.Chn'),\n  WindowsPath('C:/Users/mmaduar/Nextcloud/Genie_Transfer/Filtros/2009/crf/crf1906.Chn'),\n  WindowsPath('C:/Users/mmaduar/Nextcloud/Genie_Transfer/Filtros/2009/crf/crf1911.Chn'),\n  WindowsPath('C:/Users/mmaduar/Nextcloud/Genie_Transfer/Filtros/2009/crf/crf2002.Chn'),\n  WindowsPath('C:/Users/mmaduar/Nextcloud/Genie_Transfer/Filtros/2009/crf/crf2003.Chn'),\n  WindowsPath('C:/Users/mmaduar/Nextcloud/Genie_Transfer/Filtros/2009/crf/crf2108.Chn'),\n  WindowsPath('C:/Users/mmaduar/Nextcloud/Genie_Transfer/Filtros/2009/crf/crf2205.Chn'),\n  WindowsPath('C:/Users/mmaduar/Nextcloud/Genie_Transfer/Filtros/2009/crf/crf2301.Chn'),\n  WindowsPath('C:/Users/mmaduar/Nextcloud/Genie_Transfer/Filtros/2009/crf/crf2310.Chn'),\n  WindowsPath('C:/Users/mmaduar/Nextcloud/Genie_Transfer/Filtros/2009/crf/crf2312.Chn'),\n  WindowsPath('C:/Users/mmaduar/Nextcloud/Genie_Transfer/Filtros/2009/crf/crf2404.Chn'),\n  WindowsPath('C:/Users/mmaduar/Nextcloud/Genie_Transfer/Filtros/2009/crf/crf2407.Chn'),\n  WindowsPath('C:/Users/mmaduar/Nextcloud/Genie_Transfer/Filtros/2009/crf/crf2509.Chn'),\n  WindowsPath('C:/Users/mmaduar/Nextcloud/Genie_Transfer/Filtros/2009/crf/crf2606.Chn'),\n  WindowsPath('C:/Users/mmaduar/Nextcloud/Genie_Transfer/Filtros/2009/crf/crf2702.Chn'),\n  WindowsPath('C:/Users/mmaduar/Nextcloud/Genie_Transfer/Filtros/2009/crf/crf2703.Chn'),\n  WindowsPath('C:/Users/mmaduar/Nextcloud/Genie_Transfer/Filtros/2009/crf/crf2711.Chn'),\n  WindowsPath('C:/Users/mmaduar/Nextcloud/Genie_Transfer/Filtros/2009/crf/crf2808.Chn'),\n  WindowsPath('C:/Users/mmaduar/Nextcloud/Genie_Transfer/Filtros/2009/crf/crf2905.Chn'),\n  WindowsPath('C:/Users/mmaduar/Nextcloud/Genie_Transfer/Filtros/2009/crf/crf3001.Chn'),\n  WindowsPath('C:/Users/mmaduar/Nextcloud/Genie_Transfer/Filtros/2009/crf/crf3004.Chn'),\n  WindowsPath('C:/Users/mmaduar/Nextcloud/Genie_Transfer/Filtros/2009/crf/crf3010.Chn'),\n  WindowsPath('C:/Users/mmaduar/Nextcloud/Genie_Transfer/Filtros/2009/crf/crf3107.Chn'),\n  WindowsPath('C:/Users/mmaduar/Nextcloud/Genie_Transfer/Filtros/2009/crn/crn0210.Chn'),\n  WindowsPath('C:/Users/mmaduar/Nextcloud/Genie_Transfer/Filtros/2009/crn/crn0304.Chn'),\n  WindowsPath('C:/Users/mmaduar/Nextcloud/Genie_Transfer/Filtros/2009/crn/crn0307.Chn'),\n  WindowsPath('C:/Users/mmaduar/Nextcloud/Genie_Transfer/Filtros/2009/crn/crn0409.Chn'),\n  WindowsPath('C:/Users/mmaduar/Nextcloud/Genie_Transfer/Filtros/2009/crn/crn0412.Chn'),\n  WindowsPath('C:/Users/mmaduar/Nextcloud/Genie_Transfer/Filtros/2009/crn/crn0506.Chn'),\n  WindowsPath('C:/Users/mmaduar/Nextcloud/Genie_Transfer/Filtros/2009/crn/crn0602.Chn'),\n  WindowsPath('C:/Users/mmaduar/Nextcloud/Genie_Transfer/Filtros/2009/crn/crn0603.Chn'),\n  WindowsPath('C:/Users/mmaduar/Nextcloud/Genie_Transfer/Filtros/2009/crn/crn0611.Chn'),\n  WindowsPath('C:/Users/mmaduar/Nextcloud/Genie_Transfer/Filtros/2009/crn/crn0708.Chn'),\n  WindowsPath('C:/Users/mmaduar/Nextcloud/Genie_Transfer/Filtros/2009/crn/crn0805.Chn'),\n  WindowsPath('C:/Users/mmaduar/Nextcloud/Genie_Transfer/Filtros/2009/crn/crn0901.Chn'),\n  WindowsPath('C:/Users/mmaduar/Nextcloud/Genie_Transfer/Filtros/2009/crn/crn0904.Chn'),\n  WindowsPath('C:/Users/mmaduar/Nextcloud/Genie_Transfer/Filtros/2009/crn/crn0910.Chn'),\n  WindowsPath('C:/Users/mmaduar/Nextcloud/Genie_Transfer/Filtros/2009/crn/crn1007.Chn'),\n  WindowsPath('C:/Users/mmaduar/Nextcloud/Genie_Transfer/Filtros/2009/crn/crn1109.Chn'),\n  WindowsPath('C:/Users/mmaduar/Nextcloud/Genie_Transfer/Filtros/2009/crn/crn1112.Chn'),\n  WindowsPath('C:/Users/mmaduar/Nextcloud/Genie_Transfer/Filtros/2009/crn/crn1206.Chn'),\n  WindowsPath('C:/Users/mmaduar/Nextcloud/Genie_Transfer/Filtros/2009/crn/crn1302.Chn'),\n  WindowsPath('C:/Users/mmaduar/Nextcloud/Genie_Transfer/Filtros/2009/crn/crn1303.Chn'),\n  WindowsPath('C:/Users/mmaduar/Nextcloud/Genie_Transfer/Filtros/2009/crn/crn1311.Chn'),\n  WindowsPath('C:/Users/mmaduar/Nextcloud/Genie_Transfer/Filtros/2009/crn/crn1408.Chn'),\n  WindowsPath('C:/Users/mmaduar/Nextcloud/Genie_Transfer/Filtros/2009/crn/crn1505.Chn'),\n  WindowsPath('C:/Users/mmaduar/Nextcloud/Genie_Transfer/Filtros/2009/crn/crn1601.Chn'),\n  WindowsPath('C:/Users/mmaduar/Nextcloud/Genie_Transfer/Filtros/2009/crn/crn1610.Chn'),\n  WindowsPath('C:/Users/mmaduar/Nextcloud/Genie_Transfer/Filtros/2009/crn/crn1704.Chn'),\n  WindowsPath('C:/Users/mmaduar/Nextcloud/Genie_Transfer/Filtros/2009/crn/crn1707.Chn'),\n  WindowsPath('C:/Users/mmaduar/Nextcloud/Genie_Transfer/Filtros/2009/crn/crn1809.Chn'),\n  WindowsPath('C:/Users/mmaduar/Nextcloud/Genie_Transfer/Filtros/2009/crn/crn1812.Chn'),\n  WindowsPath('C:/Users/mmaduar/Nextcloud/Genie_Transfer/Filtros/2009/crn/crn1906.Chn'),\n  WindowsPath('C:/Users/mmaduar/Nextcloud/Genie_Transfer/Filtros/2009/crn/crn1911.Chn'),\n  WindowsPath('C:/Users/mmaduar/Nextcloud/Genie_Transfer/Filtros/2009/crn/crn2002.Chn'),\n  WindowsPath('C:/Users/mmaduar/Nextcloud/Genie_Transfer/Filtros/2009/crn/crn2003.Chn'),\n  WindowsPath('C:/Users/mmaduar/Nextcloud/Genie_Transfer/Filtros/2009/crn/crn2108.Chn'),\n  WindowsPath('C:/Users/mmaduar/Nextcloud/Genie_Transfer/Filtros/2009/crn/crn2205.Chn'),\n  WindowsPath('C:/Users/mmaduar/Nextcloud/Genie_Transfer/Filtros/2009/crn/crn2301.Chn'),\n  WindowsPath('C:/Users/mmaduar/Nextcloud/Genie_Transfer/Filtros/2009/crn/crn2310.Chn'),\n  WindowsPath('C:/Users/mmaduar/Nextcloud/Genie_Transfer/Filtros/2009/crn/crn2312.Chn'),\n  WindowsPath('C:/Users/mmaduar/Nextcloud/Genie_Transfer/Filtros/2009/crn/crn2404.Chn'),\n  WindowsPath('C:/Users/mmaduar/Nextcloud/Genie_Transfer/Filtros/2009/crn/CRN2407.CHN'),\n  WindowsPath('C:/Users/mmaduar/Nextcloud/Genie_Transfer/Filtros/2009/crn/crn2509.Chn'),\n  WindowsPath('C:/Users/mmaduar/Nextcloud/Genie_Transfer/Filtros/2009/crn/CRN2606.Chn'),\n  WindowsPath('C:/Users/mmaduar/Nextcloud/Genie_Transfer/Filtros/2009/crn/crn2702.Chn'),\n  WindowsPath('C:/Users/mmaduar/Nextcloud/Genie_Transfer/Filtros/2009/crn/crn2703.Chn'),\n  WindowsPath('C:/Users/mmaduar/Nextcloud/Genie_Transfer/Filtros/2009/crn/crn2711.Chn'),\n  WindowsPath('C:/Users/mmaduar/Nextcloud/Genie_Transfer/Filtros/2009/crn/crn2808.Chn'),\n  WindowsPath('C:/Users/mmaduar/Nextcloud/Genie_Transfer/Filtros/2009/crn/crn2905.Chn'),\n  WindowsPath('C:/Users/mmaduar/Nextcloud/Genie_Transfer/Filtros/2009/crn/crn3001.Chn'),\n  WindowsPath('C:/Users/mmaduar/Nextcloud/Genie_Transfer/Filtros/2009/crn/crn3004.Chn'),\n  WindowsPath('C:/Users/mmaduar/Nextcloud/Genie_Transfer/Filtros/2009/crn/crn3010.Chn'),\n  WindowsPath('C:/Users/mmaduar/Nextcloud/Genie_Transfer/Filtros/2009/crn/crn3107.chn'),\n  WindowsPath('C:/Users/mmaduar/Nextcloud/Genie_Transfer/Filtros/2009/ctp/ctp0201.Chn'),\n  WindowsPath('C:/Users/mmaduar/Nextcloud/Genie_Transfer/Filtros/2009/ctp/ctp0210.Chn'),\n  WindowsPath('C:/Users/mmaduar/Nextcloud/Genie_Transfer/Filtros/2009/ctp/ctp0304.Chn'),\n  WindowsPath('C:/Users/mmaduar/Nextcloud/Genie_Transfer/Filtros/2009/ctp/ctp0307.Chn'),\n  WindowsPath('C:/Users/mmaduar/Nextcloud/Genie_Transfer/Filtros/2009/ctp/ctp0409.Chn'),\n  WindowsPath('C:/Users/mmaduar/Nextcloud/Genie_Transfer/Filtros/2009/ctp/ctp0412.Chn'),\n  WindowsPath('C:/Users/mmaduar/Nextcloud/Genie_Transfer/Filtros/2009/ctp/ctp0506.Chn'),\n  WindowsPath('C:/Users/mmaduar/Nextcloud/Genie_Transfer/Filtros/2009/ctp/ctp0602.Chn'),\n  WindowsPath('C:/Users/mmaduar/Nextcloud/Genie_Transfer/Filtros/2009/ctp/ctp0603.Chn'),\n  WindowsPath('C:/Users/mmaduar/Nextcloud/Genie_Transfer/Filtros/2009/ctp/ctp0611.Chn'),\n  WindowsPath('C:/Users/mmaduar/Nextcloud/Genie_Transfer/Filtros/2009/ctp/ctp0708.Chn'),\n  WindowsPath('C:/Users/mmaduar/Nextcloud/Genie_Transfer/Filtros/2009/ctp/ctp0901.Chn'),\n  WindowsPath('C:/Users/mmaduar/Nextcloud/Genie_Transfer/Filtros/2009/ctp/ctp0904.Chn'),\n  WindowsPath('C:/Users/mmaduar/Nextcloud/Genie_Transfer/Filtros/2009/ctp/ctp0910.Chn'),\n  WindowsPath('C:/Users/mmaduar/Nextcloud/Genie_Transfer/Filtros/2009/ctp/ctp1007.Chn'),\n  WindowsPath('C:/Users/mmaduar/Nextcloud/Genie_Transfer/Filtros/2009/ctp/ctp1109.Chn'),\n  WindowsPath('C:/Users/mmaduar/Nextcloud/Genie_Transfer/Filtros/2009/ctp/ctp1112.Chn'),\n  WindowsPath('C:/Users/mmaduar/Nextcloud/Genie_Transfer/Filtros/2009/ctp/ctp1206.Chn'),\n  WindowsPath('C:/Users/mmaduar/Nextcloud/Genie_Transfer/Filtros/2009/ctp/ctp1302.Chn'),\n  WindowsPath('C:/Users/mmaduar/Nextcloud/Genie_Transfer/Filtros/2009/ctp/ctp1303.Chn'),\n  WindowsPath('C:/Users/mmaduar/Nextcloud/Genie_Transfer/Filtros/2009/ctp/ctp1311.Chn'),\n  WindowsPath('C:/Users/mmaduar/Nextcloud/Genie_Transfer/Filtros/2009/ctp/ctp1408.Chn'),\n  WindowsPath('C:/Users/mmaduar/Nextcloud/Genie_Transfer/Filtros/2009/ctp/ctp1505.Chn'),\n  WindowsPath('C:/Users/mmaduar/Nextcloud/Genie_Transfer/Filtros/2009/ctp/ctp15052.Chn'),\n  WindowsPath('C:/Users/mmaduar/Nextcloud/Genie_Transfer/Filtros/2009/ctp/ctp1601.Chn'),\n  WindowsPath('C:/Users/mmaduar/Nextcloud/Genie_Transfer/Filtros/2009/ctp/ctp1610.Chn'),\n  WindowsPath('C:/Users/mmaduar/Nextcloud/Genie_Transfer/Filtros/2009/ctp/ctp1704.Chn'),\n  WindowsPath('C:/Users/mmaduar/Nextcloud/Genie_Transfer/Filtros/2009/ctp/ctp1707.chn'),\n  WindowsPath('C:/Users/mmaduar/Nextcloud/Genie_Transfer/Filtros/2009/ctp/ctp1809.Chn'),\n  WindowsPath('C:/Users/mmaduar/Nextcloud/Genie_Transfer/Filtros/2009/ctp/ctp1812.Chn'),\n  WindowsPath('C:/Users/mmaduar/Nextcloud/Genie_Transfer/Filtros/2009/ctp/ctp1906.Chn'),\n  WindowsPath('C:/Users/mmaduar/Nextcloud/Genie_Transfer/Filtros/2009/ctp/ctp1911.Chn'),\n  WindowsPath('C:/Users/mmaduar/Nextcloud/Genie_Transfer/Filtros/2009/ctp/ctp2002.Chn'),\n  WindowsPath('C:/Users/mmaduar/Nextcloud/Genie_Transfer/Filtros/2009/ctp/ctp2003.Chn'),\n  WindowsPath('C:/Users/mmaduar/Nextcloud/Genie_Transfer/Filtros/2009/ctp/ctp2108.Chn'),\n  WindowsPath('C:/Users/mmaduar/Nextcloud/Genie_Transfer/Filtros/2009/ctp/ctp2205.Chn'),\n  WindowsPath('C:/Users/mmaduar/Nextcloud/Genie_Transfer/Filtros/2009/ctp/ctp2301.Chn'),\n  WindowsPath('C:/Users/mmaduar/Nextcloud/Genie_Transfer/Filtros/2009/ctp/ctp2310.Chn'),\n  WindowsPath('C:/Users/mmaduar/Nextcloud/Genie_Transfer/Filtros/2009/ctp/ctp2312.Chn'),\n  WindowsPath('C:/Users/mmaduar/Nextcloud/Genie_Transfer/Filtros/2009/ctp/ctp2404.Chn'),\n  WindowsPath('C:/Users/mmaduar/Nextcloud/Genie_Transfer/Filtros/2009/ctp/ctp2407.Chn'),\n  WindowsPath('C:/Users/mmaduar/Nextcloud/Genie_Transfer/Filtros/2009/ctp/ctp2509.Chn'),\n  WindowsPath('C:/Users/mmaduar/Nextcloud/Genie_Transfer/Filtros/2009/ctp/ctp2606.Chn'),\n  WindowsPath('C:/Users/mmaduar/Nextcloud/Genie_Transfer/Filtros/2009/ctp/ctp2702.Chn'),\n  WindowsPath('C:/Users/mmaduar/Nextcloud/Genie_Transfer/Filtros/2009/ctp/ctp2703.Chn'),\n  WindowsPath('C:/Users/mmaduar/Nextcloud/Genie_Transfer/Filtros/2009/ctp/ctp2711.Chn'),\n  WindowsPath('C:/Users/mmaduar/Nextcloud/Genie_Transfer/Filtros/2009/ctp/ctp2808.Chn'),\n  WindowsPath('C:/Users/mmaduar/Nextcloud/Genie_Transfer/Filtros/2009/ctp/ctp2905.Chn'),\n  WindowsPath('C:/Users/mmaduar/Nextcloud/Genie_Transfer/Filtros/2009/ctp/ctp3001.Chn'),\n  WindowsPath('C:/Users/mmaduar/Nextcloud/Genie_Transfer/Filtros/2009/ctp/ctp3004.Chn'),\n  WindowsPath('C:/Users/mmaduar/Nextcloud/Genie_Transfer/Filtros/2009/ctp/ctp3010.Chn'),\n  WindowsPath('C:/Users/mmaduar/Nextcloud/Genie_Transfer/Filtros/2009/ctp/ctp3107.Chn'),\n  WindowsPath('C:/Users/mmaduar/Nextcloud/Genie_Transfer/Filtros/2009/ctr/fctr0409.Chn'),\n  WindowsPath('C:/Users/mmaduar/Nextcloud/Genie_Transfer/Filtros/2009/ctr/fctr0708.Chn'),\n  WindowsPath('C:/Users/mmaduar/Nextcloud/Genie_Transfer/Filtros/2009/ctr/fctr1007.Chn'),\n  WindowsPath('C:/Users/mmaduar/Nextcloud/Genie_Transfer/Filtros/2009/ctr/fctr2108.Chn'),\n  WindowsPath('C:/Users/mmaduar/Nextcloud/Genie_Transfer/Filtros/2009/ctr/fctr2407.Chn'),\n  WindowsPath('C:/Users/mmaduar/Nextcloud/Genie_Transfer/Filtros/2009/pci/pci0107.Chn'),\n  WindowsPath('C:/Users/mmaduar/Nextcloud/Genie_Transfer/Filtros/2009/pci/pci0209.Chn'),\n  WindowsPath('C:/Users/mmaduar/Nextcloud/Genie_Transfer/Filtros/2009/pci/pci0212.Chn'),\n  WindowsPath('C:/Users/mmaduar/Nextcloud/Genie_Transfer/Filtros/2009/pci/pci0403.Chn'),\n  WindowsPath('C:/Users/mmaduar/Nextcloud/Genie_Transfer/Filtros/2009/pci/pci0406.Chn'),\n  WindowsPath('C:/Users/mmaduar/Nextcloud/Genie_Transfer/Filtros/2009/pci/pci0411.Chn'),\n  WindowsPath('C:/Users/mmaduar/Nextcloud/Genie_Transfer/Filtros/2009/pci/pci0502.Chn'),\n  WindowsPath('C:/Users/mmaduar/Nextcloud/Genie_Transfer/Filtros/2009/pci/pci0508.Chn'),\n  WindowsPath('C:/Users/mmaduar/Nextcloud/Genie_Transfer/Filtros/2009/pci/pci0605.Chn'),\n  WindowsPath('C:/Users/mmaduar/Nextcloud/Genie_Transfer/Filtros/2009/pci/pci0701.Chn'),\n  WindowsPath('C:/Users/mmaduar/Nextcloud/Genie_Transfer/Filtros/2009/pci/pci0710.Chn'),\n  WindowsPath('C:/Users/mmaduar/Nextcloud/Genie_Transfer/Filtros/2009/pci/pci0804.Chn'),\n  WindowsPath('C:/Users/mmaduar/Nextcloud/Genie_Transfer/Filtros/2009/pci/pci0807.Chn'),\n  WindowsPath('C:/Users/mmaduar/Nextcloud/Genie_Transfer/Filtros/2009/pci/pci0909.Chn'),\n  WindowsPath('C:/Users/mmaduar/Nextcloud/Genie_Transfer/Filtros/2009/pci/pci0912.Chn'),\n  WindowsPath('C:/Users/mmaduar/Nextcloud/Genie_Transfer/Filtros/2009/pci/pci1006.Chn'),\n  WindowsPath('C:/Users/mmaduar/Nextcloud/Genie_Transfer/Filtros/2009/pci/pci1103.Chn'),\n  WindowsPath('C:/Users/mmaduar/Nextcloud/Genie_Transfer/Filtros/2009/pci/pci1111.Chn'),\n  WindowsPath('C:/Users/mmaduar/Nextcloud/Genie_Transfer/Filtros/2009/pci/pci1208.Chn'),\n  WindowsPath('C:/Users/mmaduar/Nextcloud/Genie_Transfer/Filtros/2009/pci/pci1305.Chn'),\n  WindowsPath('C:/Users/mmaduar/Nextcloud/Genie_Transfer/Filtros/2009/pci/pci1410.Chn'),\n  WindowsPath('C:/Users/mmaduar/Nextcloud/Genie_Transfer/Filtros/2009/pci/pci1504.Chn'),\n  WindowsPath('C:/Users/mmaduar/Nextcloud/Genie_Transfer/Filtros/2009/pci/pci1507.Chn'),\n  WindowsPath('C:/Users/mmaduar/Nextcloud/Genie_Transfer/Filtros/2009/pci/pci1609.Chn'),\n  WindowsPath('C:/Users/mmaduar/Nextcloud/Genie_Transfer/Filtros/2009/pci/PCI1706.Chn'),\n  WindowsPath('C:/Users/mmaduar/Nextcloud/Genie_Transfer/Filtros/2009/pci/pci1803.Chn'),\n  WindowsPath('C:/Users/mmaduar/Nextcloud/Genie_Transfer/Filtros/2009/pci/pci1811.Chn'),\n  WindowsPath('C:/Users/mmaduar/Nextcloud/Genie_Transfer/Filtros/2009/pci/pci1908.Chn'),\n  WindowsPath('C:/Users/mmaduar/Nextcloud/Genie_Transfer/Filtros/2009/pci/pci2005.Chn'),\n  WindowsPath('C:/Users/mmaduar/Nextcloud/Genie_Transfer/Filtros/2009/pci/pci2101.Chn'),\n  WindowsPath('C:/Users/mmaduar/Nextcloud/Genie_Transfer/Filtros/2009/pci/pci2110.Chn'),\n  WindowsPath('C:/Users/mmaduar/Nextcloud/Genie_Transfer/Filtros/2009/pci/pci2207.Chn'),\n  WindowsPath('C:/Users/mmaduar/Nextcloud/Genie_Transfer/Filtros/2009/pci/pci2309.Chn'),\n  WindowsPath('C:/Users/mmaduar/Nextcloud/Genie_Transfer/Filtros/2009/pci/pci2406.Chn'),\n  WindowsPath('C:/Users/mmaduar/Nextcloud/Genie_Transfer/Filtros/2009/pci/pci2503.Chn'),\n  WindowsPath('C:/Users/mmaduar/Nextcloud/Genie_Transfer/Filtros/2009/pci/pci2511.Chn'),\n  WindowsPath('C:/Users/mmaduar/Nextcloud/Genie_Transfer/Filtros/2009/pci/pci2608.Chn'),\n  WindowsPath('C:/Users/mmaduar/Nextcloud/Genie_Transfer/Filtros/2009/pci/pci2801.Chn'),\n  WindowsPath('C:/Users/mmaduar/Nextcloud/Genie_Transfer/Filtros/2009/pci/pci2810.Chn'),\n  WindowsPath('C:/Users/mmaduar/Nextcloud/Genie_Transfer/Filtros/2009/pci/pci2907.chn'),\n  WindowsPath('C:/Users/mmaduar/Nextcloud/Genie_Transfer/Filtros/2009/pci/pci2912.Chn'),\n  WindowsPath('C:/Users/mmaduar/Nextcloud/Genie_Transfer/Filtros/2009/pci/pci3103.Chn'),\n  WindowsPath('C:/Users/mmaduar/Nextcloud/Genie_Transfer/Filtros/2009/prf/prf0210.Chn'),\n  WindowsPath('C:/Users/mmaduar/Nextcloud/Genie_Transfer/Filtros/2009/prf/prf0304.Chn'),\n  WindowsPath('C:/Users/mmaduar/Nextcloud/Genie_Transfer/Filtros/2009/prf/prf0307.Chn'),\n  WindowsPath('C:/Users/mmaduar/Nextcloud/Genie_Transfer/Filtros/2009/prf/prf0409.Chn'),\n  WindowsPath('C:/Users/mmaduar/Nextcloud/Genie_Transfer/Filtros/2009/prf/prf0412.Chn'),\n  WindowsPath('C:/Users/mmaduar/Nextcloud/Genie_Transfer/Filtros/2009/prf/prf0506.Chn'),\n  WindowsPath('C:/Users/mmaduar/Nextcloud/Genie_Transfer/Filtros/2009/prf/prf0602.Chn'),\n  WindowsPath('C:/Users/mmaduar/Nextcloud/Genie_Transfer/Filtros/2009/prf/prf0603.Chn'),\n  WindowsPath('C:/Users/mmaduar/Nextcloud/Genie_Transfer/Filtros/2009/prf/prf0611.Chn'),\n  WindowsPath('C:/Users/mmaduar/Nextcloud/Genie_Transfer/Filtros/2009/prf/prf0708.Chn'),\n  WindowsPath('C:/Users/mmaduar/Nextcloud/Genie_Transfer/Filtros/2009/prf/prf0805.Chn'),\n  WindowsPath('C:/Users/mmaduar/Nextcloud/Genie_Transfer/Filtros/2009/prf/prf0904.Chn'),\n  WindowsPath('C:/Users/mmaduar/Nextcloud/Genie_Transfer/Filtros/2009/prf/prf0910.Chn'),\n  WindowsPath('C:/Users/mmaduar/Nextcloud/Genie_Transfer/Filtros/2009/prf/prf1007.Chn'),\n  WindowsPath('C:/Users/mmaduar/Nextcloud/Genie_Transfer/Filtros/2009/prf/prf1109.Chn'),\n  WindowsPath('C:/Users/mmaduar/Nextcloud/Genie_Transfer/Filtros/2009/prf/prf1112.Chn'),\n  WindowsPath('C:/Users/mmaduar/Nextcloud/Genie_Transfer/Filtros/2009/prf/prf1206.Chn'),\n  WindowsPath('C:/Users/mmaduar/Nextcloud/Genie_Transfer/Filtros/2009/prf/prf1302.Chn'),\n  WindowsPath('C:/Users/mmaduar/Nextcloud/Genie_Transfer/Filtros/2009/prf/prf1303.Chn'),\n  WindowsPath('C:/Users/mmaduar/Nextcloud/Genie_Transfer/Filtros/2009/prf/prf1311.Chn'),\n  WindowsPath('C:/Users/mmaduar/Nextcloud/Genie_Transfer/Filtros/2009/prf/prf1408.Chn'),\n  WindowsPath('C:/Users/mmaduar/Nextcloud/Genie_Transfer/Filtros/2009/prf/prf1505.chn'),\n  WindowsPath('C:/Users/mmaduar/Nextcloud/Genie_Transfer/Filtros/2009/prf/prf1601.Chn'),\n  WindowsPath('C:/Users/mmaduar/Nextcloud/Genie_Transfer/Filtros/2009/prf/prf1610.Chn'),\n  WindowsPath('C:/Users/mmaduar/Nextcloud/Genie_Transfer/Filtros/2009/prf/prf1704.Chn'),\n  WindowsPath('C:/Users/mmaduar/Nextcloud/Genie_Transfer/Filtros/2009/prf/prf1707.chn'),\n  WindowsPath('C:/Users/mmaduar/Nextcloud/Genie_Transfer/Filtros/2009/prf/prf1809.Chn'),\n  WindowsPath('C:/Users/mmaduar/Nextcloud/Genie_Transfer/Filtros/2009/prf/prf1812.Chn'),\n  WindowsPath('C:/Users/mmaduar/Nextcloud/Genie_Transfer/Filtros/2009/prf/prf1906.Chn'),\n  WindowsPath('C:/Users/mmaduar/Nextcloud/Genie_Transfer/Filtros/2009/prf/prf1911.Chn'),\n  WindowsPath('C:/Users/mmaduar/Nextcloud/Genie_Transfer/Filtros/2009/prf/PRF2002.Chn'),\n  WindowsPath('C:/Users/mmaduar/Nextcloud/Genie_Transfer/Filtros/2009/prf/prf2003.Chn'),\n  WindowsPath('C:/Users/mmaduar/Nextcloud/Genie_Transfer/Filtros/2009/prf/prf2108.Chn'),\n  WindowsPath('C:/Users/mmaduar/Nextcloud/Genie_Transfer/Filtros/2009/prf/prf2205.Chn'),\n  WindowsPath('C:/Users/mmaduar/Nextcloud/Genie_Transfer/Filtros/2009/prf/prf2301.Chn'),\n  WindowsPath('C:/Users/mmaduar/Nextcloud/Genie_Transfer/Filtros/2009/prf/prf2310.Chn'),\n  WindowsPath('C:/Users/mmaduar/Nextcloud/Genie_Transfer/Filtros/2009/prf/prf2312.Chn'),\n  WindowsPath('C:/Users/mmaduar/Nextcloud/Genie_Transfer/Filtros/2009/prf/prf2404.Chn'),\n  WindowsPath('C:/Users/mmaduar/Nextcloud/Genie_Transfer/Filtros/2009/prf/prf2407.chn'),\n  WindowsPath('C:/Users/mmaduar/Nextcloud/Genie_Transfer/Filtros/2009/prf/prf2509.Chn'),\n  WindowsPath('C:/Users/mmaduar/Nextcloud/Genie_Transfer/Filtros/2009/prf/prf2606.Chn'),\n  WindowsPath('C:/Users/mmaduar/Nextcloud/Genie_Transfer/Filtros/2009/prf/prf2702.Chn'),\n  WindowsPath('C:/Users/mmaduar/Nextcloud/Genie_Transfer/Filtros/2009/prf/prf2703.Chn'),\n  WindowsPath('C:/Users/mmaduar/Nextcloud/Genie_Transfer/Filtros/2009/prf/prf2711.Chn'),\n  WindowsPath('C:/Users/mmaduar/Nextcloud/Genie_Transfer/Filtros/2009/prf/prf2808.Chn'),\n  WindowsPath('C:/Users/mmaduar/Nextcloud/Genie_Transfer/Filtros/2009/prf/prf2905.chn'),\n  WindowsPath('C:/Users/mmaduar/Nextcloud/Genie_Transfer/Filtros/2009/prf/prf3001.Chn'),\n  WindowsPath('C:/Users/mmaduar/Nextcloud/Genie_Transfer/Filtros/2009/prf/prf3004.Chn'),\n  WindowsPath('C:/Users/mmaduar/Nextcloud/Genie_Transfer/Filtros/2009/prf/prf3010.Chn'),\n  WindowsPath('C:/Users/mmaduar/Nextcloud/Genie_Transfer/Filtros/2009/prf/prf3107.Chn'),\n  WindowsPath('C:/Users/mmaduar/Nextcloud/Genie_Transfer/Filtros/2009/ptp/ptp0304.Chn'),\n  WindowsPath('C:/Users/mmaduar/Nextcloud/Genie_Transfer/Filtros/2009/ptp/ptp0307.Chn'),\n  WindowsPath('C:/Users/mmaduar/Nextcloud/Genie_Transfer/Filtros/2009/ptp/ptp0409.Chn'),\n  WindowsPath('C:/Users/mmaduar/Nextcloud/Genie_Transfer/Filtros/2009/ptp/ptp0412.Chn'),\n  WindowsPath('C:/Users/mmaduar/Nextcloud/Genie_Transfer/Filtros/2009/ptp/ptp0506.Chn'),\n  WindowsPath('C:/Users/mmaduar/Nextcloud/Genie_Transfer/Filtros/2009/ptp/ptp0602.Chn'),\n  WindowsPath('C:/Users/mmaduar/Nextcloud/Genie_Transfer/Filtros/2009/ptp/ptp0603.Chn'),\n  WindowsPath('C:/Users/mmaduar/Nextcloud/Genie_Transfer/Filtros/2009/ptp/ptp0611.Chn'),\n  WindowsPath('C:/Users/mmaduar/Nextcloud/Genie_Transfer/Filtros/2009/ptp/ptp0708.Chn'),\n  WindowsPath('C:/Users/mmaduar/Nextcloud/Genie_Transfer/Filtros/2009/ptp/ptp0805.Chn'),\n  WindowsPath('C:/Users/mmaduar/Nextcloud/Genie_Transfer/Filtros/2009/ptp/ptp0901.Chn'),\n  WindowsPath('C:/Users/mmaduar/Nextcloud/Genie_Transfer/Filtros/2009/ptp/ptp0904.Chn'),\n  WindowsPath('C:/Users/mmaduar/Nextcloud/Genie_Transfer/Filtros/2009/ptp/ptp0910.Chn'),\n  WindowsPath('C:/Users/mmaduar/Nextcloud/Genie_Transfer/Filtros/2009/ptp/ptp1007.Chn'),\n  WindowsPath('C:/Users/mmaduar/Nextcloud/Genie_Transfer/Filtros/2009/ptp/ptp1109.Chn'),\n  WindowsPath('C:/Users/mmaduar/Nextcloud/Genie_Transfer/Filtros/2009/ptp/ptp1112.Chn'),\n  WindowsPath('C:/Users/mmaduar/Nextcloud/Genie_Transfer/Filtros/2009/ptp/ptp1206.Chn'),\n  WindowsPath('C:/Users/mmaduar/Nextcloud/Genie_Transfer/Filtros/2009/ptp/ptp1302.Chn'),\n  WindowsPath('C:/Users/mmaduar/Nextcloud/Genie_Transfer/Filtros/2009/ptp/ptp1303.Chn'),\n  WindowsPath('C:/Users/mmaduar/Nextcloud/Genie_Transfer/Filtros/2009/ptp/ptp1311.Chn'),\n  WindowsPath('C:/Users/mmaduar/Nextcloud/Genie_Transfer/Filtros/2009/ptp/ptp1408.Chn'),\n  WindowsPath('C:/Users/mmaduar/Nextcloud/Genie_Transfer/Filtros/2009/ptp/ptp1505.chn'),\n  WindowsPath('C:/Users/mmaduar/Nextcloud/Genie_Transfer/Filtros/2009/ptp/ptp1601.Chn'),\n  WindowsPath('C:/Users/mmaduar/Nextcloud/Genie_Transfer/Filtros/2009/ptp/ptp1610.Chn'),\n  WindowsPath('C:/Users/mmaduar/Nextcloud/Genie_Transfer/Filtros/2009/ptp/ptp1704.Chn'),\n  WindowsPath('C:/Users/mmaduar/Nextcloud/Genie_Transfer/Filtros/2009/ptp/ptp1707.chn'),\n  WindowsPath('C:/Users/mmaduar/Nextcloud/Genie_Transfer/Filtros/2009/ptp/ptp1809.Chn'),\n  WindowsPath('C:/Users/mmaduar/Nextcloud/Genie_Transfer/Filtros/2009/ptp/ptp1812.Chn'),\n  WindowsPath('C:/Users/mmaduar/Nextcloud/Genie_Transfer/Filtros/2009/ptp/ptp1906.Chn'),\n  WindowsPath('C:/Users/mmaduar/Nextcloud/Genie_Transfer/Filtros/2009/ptp/ptp1911.Chn'),\n  WindowsPath('C:/Users/mmaduar/Nextcloud/Genie_Transfer/Filtros/2009/ptp/ptp2002.Chn'),\n  WindowsPath('C:/Users/mmaduar/Nextcloud/Genie_Transfer/Filtros/2009/ptp/ptp2003.Chn'),\n  WindowsPath('C:/Users/mmaduar/Nextcloud/Genie_Transfer/Filtros/2009/ptp/ptp2108.Chn'),\n  WindowsPath('C:/Users/mmaduar/Nextcloud/Genie_Transfer/Filtros/2009/ptp/ptp2205.Chn'),\n  WindowsPath('C:/Users/mmaduar/Nextcloud/Genie_Transfer/Filtros/2009/ptp/ptp2301.Chn'),\n  WindowsPath('C:/Users/mmaduar/Nextcloud/Genie_Transfer/Filtros/2009/ptp/ptp2310.Chn'),\n  WindowsPath('C:/Users/mmaduar/Nextcloud/Genie_Transfer/Filtros/2009/ptp/ptp2312.Chn'),\n  WindowsPath('C:/Users/mmaduar/Nextcloud/Genie_Transfer/Filtros/2009/ptp/ptp2404.Chn'),\n  WindowsPath('C:/Users/mmaduar/Nextcloud/Genie_Transfer/Filtros/2009/ptp/ptp2407.chn'),\n  WindowsPath('C:/Users/mmaduar/Nextcloud/Genie_Transfer/Filtros/2009/ptp/ptp2509.Chn'),\n  WindowsPath('C:/Users/mmaduar/Nextcloud/Genie_Transfer/Filtros/2009/ptp/ptp2606.Chn'),\n  WindowsPath('C:/Users/mmaduar/Nextcloud/Genie_Transfer/Filtros/2009/ptp/ptp2702.Chn'),\n  WindowsPath('C:/Users/mmaduar/Nextcloud/Genie_Transfer/Filtros/2009/ptp/ptp2703.Chn'),\n  WindowsPath('C:/Users/mmaduar/Nextcloud/Genie_Transfer/Filtros/2009/ptp/ptp2711.Chn'),\n  WindowsPath('C:/Users/mmaduar/Nextcloud/Genie_Transfer/Filtros/2009/ptp/ptp2808.Chn'),\n  WindowsPath('C:/Users/mmaduar/Nextcloud/Genie_Transfer/Filtros/2009/ptp/ptp2905.Chn'),\n  WindowsPath('C:/Users/mmaduar/Nextcloud/Genie_Transfer/Filtros/2009/ptp/ptp3001.Chn'),\n  WindowsPath('C:/Users/mmaduar/Nextcloud/Genie_Transfer/Filtros/2009/ptp/ptp3004.Chn'),\n  WindowsPath('C:/Users/mmaduar/Nextcloud/Genie_Transfer/Filtros/2009/ptp/ptp3010.Chn'),\n  WindowsPath('C:/Users/mmaduar/Nextcloud/Genie_Transfer/Filtros/2009/ptp/ptp3040.Chn'),\n  WindowsPath('C:/Users/mmaduar/Nextcloud/Genie_Transfer/Filtros/2009/ptp/ptp3107.Chn'),\n  WindowsPath('C:/Users/mmaduar/Nextcloud/Genie_Transfer/Filtros/2009/rnp/prn0210.Chn'),\n  WindowsPath('C:/Users/mmaduar/Nextcloud/Genie_Transfer/Filtros/2009/rnp/prn0304.Chn'),\n  WindowsPath('C:/Users/mmaduar/Nextcloud/Genie_Transfer/Filtros/2009/rnp/prn0307.Chn'),\n  WindowsPath('C:/Users/mmaduar/Nextcloud/Genie_Transfer/Filtros/2009/rnp/prn0409.Chn'),\n  WindowsPath('C:/Users/mmaduar/Nextcloud/Genie_Transfer/Filtros/2009/rnp/prn0412.Chn'),\n  WindowsPath('C:/Users/mmaduar/Nextcloud/Genie_Transfer/Filtros/2009/rnp/prn0506.Chn'),\n  WindowsPath('C:/Users/mmaduar/Nextcloud/Genie_Transfer/Filtros/2009/rnp/prn0602.Chn'),\n  WindowsPath('C:/Users/mmaduar/Nextcloud/Genie_Transfer/Filtros/2009/rnp/prn0603.Chn'),\n  WindowsPath('C:/Users/mmaduar/Nextcloud/Genie_Transfer/Filtros/2009/rnp/prn0611.Chn'),\n  WindowsPath('C:/Users/mmaduar/Nextcloud/Genie_Transfer/Filtros/2009/rnp/prn0708.Chn'),\n  WindowsPath('C:/Users/mmaduar/Nextcloud/Genie_Transfer/Filtros/2009/rnp/PRN0805.Chn'),\n  WindowsPath('C:/Users/mmaduar/Nextcloud/Genie_Transfer/Filtros/2009/rnp/prn0901.Chn'),\n  WindowsPath('C:/Users/mmaduar/Nextcloud/Genie_Transfer/Filtros/2009/rnp/prn0904.Chn'),\n  WindowsPath('C:/Users/mmaduar/Nextcloud/Genie_Transfer/Filtros/2009/rnp/prn0910.Chn'),\n  WindowsPath('C:/Users/mmaduar/Nextcloud/Genie_Transfer/Filtros/2009/rnp/prn1007.Chn'),\n  WindowsPath('C:/Users/mmaduar/Nextcloud/Genie_Transfer/Filtros/2009/rnp/prn1109.Chn'),\n  WindowsPath('C:/Users/mmaduar/Nextcloud/Genie_Transfer/Filtros/2009/rnp/prn1112.Chn'),\n  WindowsPath('C:/Users/mmaduar/Nextcloud/Genie_Transfer/Filtros/2009/rnp/prn1206.Chn'),\n  WindowsPath('C:/Users/mmaduar/Nextcloud/Genie_Transfer/Filtros/2009/rnp/prn1302.Chn'),\n  WindowsPath('C:/Users/mmaduar/Nextcloud/Genie_Transfer/Filtros/2009/rnp/prn1303.Chn'),\n  WindowsPath('C:/Users/mmaduar/Nextcloud/Genie_Transfer/Filtros/2009/rnp/prn1311.Chn'),\n  WindowsPath('C:/Users/mmaduar/Nextcloud/Genie_Transfer/Filtros/2009/rnp/prn1408.Chn'),\n  WindowsPath('C:/Users/mmaduar/Nextcloud/Genie_Transfer/Filtros/2009/rnp/prn1505.Chn'),\n  WindowsPath('C:/Users/mmaduar/Nextcloud/Genie_Transfer/Filtros/2009/rnp/prn1601.Chn'),\n  WindowsPath('C:/Users/mmaduar/Nextcloud/Genie_Transfer/Filtros/2009/rnp/prn1610.Chn'),\n  WindowsPath('C:/Users/mmaduar/Nextcloud/Genie_Transfer/Filtros/2009/rnp/prn1704.Chn'),\n  WindowsPath('C:/Users/mmaduar/Nextcloud/Genie_Transfer/Filtros/2009/rnp/prn1707.chn'),\n  WindowsPath('C:/Users/mmaduar/Nextcloud/Genie_Transfer/Filtros/2009/rnp/prn1809.Chn'),\n  WindowsPath('C:/Users/mmaduar/Nextcloud/Genie_Transfer/Filtros/2009/rnp/prn1812.Chn'),\n  WindowsPath('C:/Users/mmaduar/Nextcloud/Genie_Transfer/Filtros/2009/rnp/prn1906.Chn'),\n  WindowsPath('C:/Users/mmaduar/Nextcloud/Genie_Transfer/Filtros/2009/rnp/prn1911.Chn'),\n  WindowsPath('C:/Users/mmaduar/Nextcloud/Genie_Transfer/Filtros/2009/rnp/prn2002.Chn'),\n  WindowsPath('C:/Users/mmaduar/Nextcloud/Genie_Transfer/Filtros/2009/rnp/prn2003.Chn'),\n  WindowsPath('C:/Users/mmaduar/Nextcloud/Genie_Transfer/Filtros/2009/rnp/prn2108.Chn'),\n  WindowsPath('C:/Users/mmaduar/Nextcloud/Genie_Transfer/Filtros/2009/rnp/prn2205.Chn'),\n  WindowsPath('C:/Users/mmaduar/Nextcloud/Genie_Transfer/Filtros/2009/rnp/prn2301.Chn'),\n  WindowsPath('C:/Users/mmaduar/Nextcloud/Genie_Transfer/Filtros/2009/rnp/prn2310.Chn'),\n  WindowsPath('C:/Users/mmaduar/Nextcloud/Genie_Transfer/Filtros/2009/rnp/prn2312.Chn'),\n  WindowsPath('C:/Users/mmaduar/Nextcloud/Genie_Transfer/Filtros/2009/rnp/prn2404.Chn'),\n  WindowsPath('C:/Users/mmaduar/Nextcloud/Genie_Transfer/Filtros/2009/rnp/prn2407.chn'),\n  WindowsPath('C:/Users/mmaduar/Nextcloud/Genie_Transfer/Filtros/2009/rnp/prn2509.Chn'),\n  WindowsPath('C:/Users/mmaduar/Nextcloud/Genie_Transfer/Filtros/2009/rnp/prn2606.Chn'),\n  WindowsPath('C:/Users/mmaduar/Nextcloud/Genie_Transfer/Filtros/2009/rnp/PRN2702.Chn'),\n  WindowsPath('C:/Users/mmaduar/Nextcloud/Genie_Transfer/Filtros/2009/rnp/prn2703.Chn'),\n  WindowsPath('C:/Users/mmaduar/Nextcloud/Genie_Transfer/Filtros/2009/rnp/prn2711.Chn'),\n  WindowsPath('C:/Users/mmaduar/Nextcloud/Genie_Transfer/Filtros/2009/rnp/prn2808.Chn'),\n  WindowsPath('C:/Users/mmaduar/Nextcloud/Genie_Transfer/Filtros/2009/rnp/prn2905.Chn'),\n  WindowsPath('C:/Users/mmaduar/Nextcloud/Genie_Transfer/Filtros/2009/rnp/prn3001.Chn'),\n  WindowsPath('C:/Users/mmaduar/Nextcloud/Genie_Transfer/Filtros/2009/rnp/prn3004.Chn'),\n  WindowsPath('C:/Users/mmaduar/Nextcloud/Genie_Transfer/Filtros/2009/rnp/prn3010.Chn'),\n  WindowsPath('C:/Users/mmaduar/Nextcloud/Genie_Transfer/Filtros/2009/rnp/prn3107.Chn'),\n  WindowsPath('C:/Users/mmaduar/Nextcloud/Genie_Transfer/Filtros/2010/cci/cci 2306.Chn'),\n  WindowsPath('C:/Users/mmaduar/Nextcloud/Genie_Transfer/Filtros/2010/cci/cci0109.Chn'),\n  WindowsPath('C:/Users/mmaduar/Nextcloud/Genie_Transfer/Filtros/2010/cci/cci0112.Chn'),\n  WindowsPath('C:/Users/mmaduar/Nextcloud/Genie_Transfer/Filtros/2010/cci/cci0206.Chn'),\n  WindowsPath('C:/Users/mmaduar/Nextcloud/Genie_Transfer/Filtros/2010/cci/cci0303.Chn'),\n  WindowsPath('C:/Users/mmaduar/Nextcloud/Genie_Transfer/Filtros/2010/cci/cci0311.Chn'),\n  WindowsPath('C:/Users/mmaduar/Nextcloud/Genie_Transfer/Filtros/2010/cci/cci0508.Chn'),\n  WindowsPath('C:/Users/mmaduar/Nextcloud/Genie_Transfer/Filtros/2010/cci/cci0601.Chn'),\n  WindowsPath('C:/Users/mmaduar/Nextcloud/Genie_Transfer/Filtros/2010/cci/cci0610.Chn'),\n  WindowsPath('C:/Users/mmaduar/Nextcloud/Genie_Transfer/Filtros/2010/cci/cci0707.Chn'),\n  WindowsPath('C:/Users/mmaduar/Nextcloud/Genie_Transfer/Filtros/2010/cci/cci0804.Chn'),\n  WindowsPath('C:/Users/mmaduar/Nextcloud/Genie_Transfer/Filtros/2010/cci/cci0812.Chn'),\n  WindowsPath('C:/Users/mmaduar/Nextcloud/Genie_Transfer/Filtros/2010/cci/cci0906.Chn'),\n  WindowsPath('C:/Users/mmaduar/Nextcloud/Genie_Transfer/Filtros/2010/cci/cci1002.Chn'),\n  WindowsPath('C:/Users/mmaduar/Nextcloud/Genie_Transfer/Filtros/2010/cci/cci1011.Chn'),\n  WindowsPath('C:/Users/mmaduar/Nextcloud/Genie_Transfer/Filtros/2010/cci/cci1103.Chn'),\n  WindowsPath('C:/Users/mmaduar/Nextcloud/Genie_Transfer/Filtros/2010/cci/cci1108.Chn'),\n  WindowsPath('C:/Users/mmaduar/Nextcloud/Genie_Transfer/Filtros/2010/cci/cci1310.Chn'),\n  WindowsPath('C:/Users/mmaduar/Nextcloud/Genie_Transfer/Filtros/2010/cci/cci1404.Chn'),\n  WindowsPath('C:/Users/mmaduar/Nextcloud/Genie_Transfer/Filtros/2010/cci/cci1407.Chn'),\n  WindowsPath('C:/Users/mmaduar/Nextcloud/Genie_Transfer/Filtros/2010/cci/cci1512.Chn'),\n  WindowsPath('C:/Users/mmaduar/Nextcloud/Genie_Transfer/Filtros/2010/cci/cci1606.Chn'),\n  WindowsPath('C:/Users/mmaduar/Nextcloud/Genie_Transfer/Filtros/2010/cci/cci1611.Chn'),\n  WindowsPath('C:/Users/mmaduar/Nextcloud/Genie_Transfer/Filtros/2010/cci/cci1703.Chn'),\n  WindowsPath('C:/Users/mmaduar/Nextcloud/Genie_Transfer/Filtros/2010/cci/cci1808.Chn'),\n  WindowsPath('C:/Users/mmaduar/Nextcloud/Genie_Transfer/Filtros/2010/cci/cci1905.Chn'),\n  WindowsPath('C:/Users/mmaduar/Nextcloud/Genie_Transfer/Filtros/2010/cci/cci2001.Chn'),\n  WindowsPath('C:/Users/mmaduar/Nextcloud/Genie_Transfer/Filtros/2010/cci/cci2010.Chn'),\n  WindowsPath('C:/Users/mmaduar/Nextcloud/Genie_Transfer/Filtros/2010/cci/cci2107.Chn'),\n  WindowsPath('C:/Users/mmaduar/Nextcloud/Genie_Transfer/Filtros/2010/cci/cci2402.Chn'),\n  WindowsPath('C:/Users/mmaduar/Nextcloud/Genie_Transfer/Filtros/2010/cci/cci2403.Chn'),\n  WindowsPath('C:/Users/mmaduar/Nextcloud/Genie_Transfer/Filtros/2010/cci/cci2411.Chn'),\n  WindowsPath('C:/Users/mmaduar/Nextcloud/Genie_Transfer/Filtros/2010/cci/cci2508.Chn'),\n  WindowsPath('C:/Users/mmaduar/Nextcloud/Genie_Transfer/Filtros/2010/cci/cci2701.Chn'),\n  WindowsPath('C:/Users/mmaduar/Nextcloud/Genie_Transfer/Filtros/2010/cci/cci2904.Chn'),\n  WindowsPath('C:/Users/mmaduar/Nextcloud/Genie_Transfer/Filtros/2010/cci/cci3103.Chn'),\n  WindowsPath('C:/Users/mmaduar/Nextcloud/Genie_Transfer/Filtros/2010/cci/pci1002.Chn'),\n  WindowsPath('C:/Users/mmaduar/Nextcloud/Genie_Transfer/Filtros/2010/ces/ces0202.Chn'),\n  WindowsPath('C:/Users/mmaduar/Nextcloud/Genie_Transfer/Filtros/2010/crf/crf0104.Chn'),\n  WindowsPath('C:/Users/mmaduar/Nextcloud/Genie_Transfer/Filtros/2010/crf/crf0107.Chn'),\n  WindowsPath('C:/Users/mmaduar/Nextcloud/Genie_Transfer/Filtros/2010/crf/crf0110.Chn'),\n  WindowsPath('C:/Users/mmaduar/Nextcloud/Genie_Transfer/Filtros/2010/crf/crf0206.Chn'),\n  WindowsPath('C:/Users/mmaduar/Nextcloud/Genie_Transfer/Filtros/2010/crf/crf0309.Chn'),\n  WindowsPath('C:/Users/mmaduar/Nextcloud/Genie_Transfer/Filtros/2010/crf/crf0312.Chn'),\n  WindowsPath('C:/Users/mmaduar/Nextcloud/Genie_Transfer/Filtros/2010/crf/crf0502.Chn'),\n  WindowsPath('C:/Users/mmaduar/Nextcloud/Genie_Transfer/Filtros/2010/crf/crf0503.Chn'),\n  WindowsPath('C:/Users/mmaduar/Nextcloud/Genie_Transfer/Filtros/2010/crf/crf0511.Chn'),\n  WindowsPath('C:/Users/mmaduar/Nextcloud/Genie_Transfer/Filtros/2010/crf/crf0705.Chn'),\n  WindowsPath('C:/Users/mmaduar/Nextcloud/Genie_Transfer/Filtros/2010/crf/crf0801.Chn'),\n  WindowsPath('C:/Users/mmaduar/Nextcloud/Genie_Transfer/Filtros/2010/crf/crf0807.Chn'),\n  WindowsPath('C:/Users/mmaduar/Nextcloud/Genie_Transfer/Filtros/2010/crf/crf0810.Chn'),\n  WindowsPath('C:/Users/mmaduar/Nextcloud/Genie_Transfer/Filtros/2010/crf/crf0904.Chn'),\n  WindowsPath('C:/Users/mmaduar/Nextcloud/Genie_Transfer/Filtros/2010/crf/crf1009.Chn'),\n  WindowsPath('C:/Users/mmaduar/Nextcloud/Genie_Transfer/Filtros/2010/crf/crf1012.Chn'),\n  WindowsPath('C:/Users/mmaduar/Nextcloud/Genie_Transfer/Filtros/2010/crf/crf1106.Chn'),\n  WindowsPath('C:/Users/mmaduar/Nextcloud/Genie_Transfer/Filtros/2010/crf/crf1202.Chn'),\n  WindowsPath('C:/Users/mmaduar/Nextcloud/Genie_Transfer/Filtros/2010/crf/crf1203.Chn'),\n  WindowsPath('C:/Users/mmaduar/Nextcloud/Genie_Transfer/Filtros/2010/crf/crf1211.Chn'),\n  WindowsPath('C:/Users/mmaduar/Nextcloud/Genie_Transfer/Filtros/2010/crf/crf1308.Chn'),\n  WindowsPath('C:/Users/mmaduar/Nextcloud/Genie_Transfer/Filtros/2010/crf/crf1405.Chn'),\n  WindowsPath('C:/Users/mmaduar/Nextcloud/Genie_Transfer/Filtros/2010/crf/crf1501.Chn'),\n  WindowsPath('C:/Users/mmaduar/Nextcloud/Genie_Transfer/Filtros/2010/crf/crf1510.Chn'),\n  WindowsPath('C:/Users/mmaduar/Nextcloud/Genie_Transfer/Filtros/2010/crf/crf1604.Chn'),\n  WindowsPath('C:/Users/mmaduar/Nextcloud/Genie_Transfer/Filtros/2010/crf/crf1607.Chn'),\n  WindowsPath('C:/Users/mmaduar/Nextcloud/Genie_Transfer/Filtros/2010/crf/crf1709.Chn'),\n  WindowsPath('C:/Users/mmaduar/Nextcloud/Genie_Transfer/Filtros/2010/crf/crf1712.Chn'),\n  WindowsPath('C:/Users/mmaduar/Nextcloud/Genie_Transfer/Filtros/2010/crf/crf1806.Chn'),\n  WindowsPath('C:/Users/mmaduar/Nextcloud/Genie_Transfer/Filtros/2010/crf/crf1902.Chn'),\n  WindowsPath('C:/Users/mmaduar/Nextcloud/Genie_Transfer/Filtros/2010/crf/crf1903.Chn'),\n  WindowsPath('C:/Users/mmaduar/Nextcloud/Genie_Transfer/Filtros/2010/crf/crf1911.Chn'),\n  WindowsPath('C:/Users/mmaduar/Nextcloud/Genie_Transfer/Filtros/2010/crf/crf2008.Chn'),\n  WindowsPath('C:/Users/mmaduar/Nextcloud/Genie_Transfer/Filtros/2010/crf/crf2105.Chn'),\n  WindowsPath('C:/Users/mmaduar/Nextcloud/Genie_Transfer/Filtros/2010/crf/crf2201.Chn'),\n  WindowsPath('C:/Users/mmaduar/Nextcloud/Genie_Transfer/Filtros/2010/crf/crf2210.Chn'),\n  WindowsPath('C:/Users/mmaduar/Nextcloud/Genie_Transfer/Filtros/2010/crf/crf2304.Chn'),\n  WindowsPath('C:/Users/mmaduar/Nextcloud/Genie_Transfer/Filtros/2010/crf/crf2307.Chn'),\n  WindowsPath('C:/Users/mmaduar/Nextcloud/Genie_Transfer/Filtros/2010/crf/crf2312.Chn'),\n  WindowsPath('C:/Users/mmaduar/Nextcloud/Genie_Transfer/Filtros/2010/crf/crf2406.Chn'),\n  WindowsPath('C:/Users/mmaduar/Nextcloud/Genie_Transfer/Filtros/2010/crf/crf2409.Chn'),\n  WindowsPath('C:/Users/mmaduar/Nextcloud/Genie_Transfer/Filtros/2010/crf/crf2602.Chn'),\n  WindowsPath('C:/Users/mmaduar/Nextcloud/Genie_Transfer/Filtros/2010/crf/crf2603.Chn'),\n  WindowsPath('C:/Users/mmaduar/Nextcloud/Genie_Transfer/Filtros/2010/crf/crf2611.Chn'),\n  WindowsPath('C:/Users/mmaduar/Nextcloud/Genie_Transfer/Filtros/2010/crf/crf2708.Chn'),\n  WindowsPath('C:/Users/mmaduar/Nextcloud/Genie_Transfer/Filtros/2010/crf/crf2805.Chn'),\n  WindowsPath('C:/Users/mmaduar/Nextcloud/Genie_Transfer/Filtros/2010/crf/crf2901.Chn'),\n  WindowsPath('C:/Users/mmaduar/Nextcloud/Genie_Transfer/Filtros/2010/crf/crf2910.Chn'),\n  WindowsPath('C:/Users/mmaduar/Nextcloud/Genie_Transfer/Filtros/2010/crf/crf3004.Chn'),\n  WindowsPath('C:/Users/mmaduar/Nextcloud/Genie_Transfer/Filtros/2010/crf/crf3007.Chn'),\n  WindowsPath('C:/Users/mmaduar/Nextcloud/Genie_Transfer/Filtros/2010/crf/crf3012.Chn'),\n  WindowsPath('C:/Users/mmaduar/Nextcloud/Genie_Transfer/Filtros/2010/crn/crf0608.Chn'),\n  WindowsPath('C:/Users/mmaduar/Nextcloud/Genie_Transfer/Filtros/2010/crn/crn0104.Chn'),\n  WindowsPath('C:/Users/mmaduar/Nextcloud/Genie_Transfer/Filtros/2010/crn/crn0107.Chn'),\n  WindowsPath('C:/Users/mmaduar/Nextcloud/Genie_Transfer/Filtros/2010/crn/crn0110.Chn'),\n  WindowsPath('C:/Users/mmaduar/Nextcloud/Genie_Transfer/Filtros/2010/crn/crn0206.Chn'),\n  WindowsPath('C:/Users/mmaduar/Nextcloud/Genie_Transfer/Filtros/2010/crn/crn0309.Chn'),\n  WindowsPath('C:/Users/mmaduar/Nextcloud/Genie_Transfer/Filtros/2010/crn/crn0312.Chn'),\n  WindowsPath('C:/Users/mmaduar/Nextcloud/Genie_Transfer/Filtros/2010/crn/crn0502.Chn'),\n  WindowsPath('C:/Users/mmaduar/Nextcloud/Genie_Transfer/Filtros/2010/crn/crn0503.Chn'),\n  WindowsPath('C:/Users/mmaduar/Nextcloud/Genie_Transfer/Filtros/2010/crn/crn0511.Chn'),\n  WindowsPath('C:/Users/mmaduar/Nextcloud/Genie_Transfer/Filtros/2010/crn/crn0608.Chn'),\n  WindowsPath('C:/Users/mmaduar/Nextcloud/Genie_Transfer/Filtros/2010/crn/crn0705.Chn'),\n  WindowsPath('C:/Users/mmaduar/Nextcloud/Genie_Transfer/Filtros/2010/crn/crn0801.Chn'),\n  WindowsPath('C:/Users/mmaduar/Nextcloud/Genie_Transfer/Filtros/2010/crn/crn0807.Chn'),\n  WindowsPath('C:/Users/mmaduar/Nextcloud/Genie_Transfer/Filtros/2010/crn/crn0810.Chn'),\n  WindowsPath('C:/Users/mmaduar/Nextcloud/Genie_Transfer/Filtros/2010/crn/crn0904.Chn'),\n  WindowsPath('C:/Users/mmaduar/Nextcloud/Genie_Transfer/Filtros/2010/crn/crn1009.Chn'),\n  WindowsPath('C:/Users/mmaduar/Nextcloud/Genie_Transfer/Filtros/2010/crn/crn1012.Chn'),\n  WindowsPath('C:/Users/mmaduar/Nextcloud/Genie_Transfer/Filtros/2010/crn/crn1106.Chn'),\n  WindowsPath('C:/Users/mmaduar/Nextcloud/Genie_Transfer/Filtros/2010/crn/crn1202.Chn'),\n  WindowsPath('C:/Users/mmaduar/Nextcloud/Genie_Transfer/Filtros/2010/crn/crn1203.Chn'),\n  WindowsPath('C:/Users/mmaduar/Nextcloud/Genie_Transfer/Filtros/2010/crn/crn1211.Chn'),\n  WindowsPath('C:/Users/mmaduar/Nextcloud/Genie_Transfer/Filtros/2010/crn/crn1308.Chn'),\n  WindowsPath('C:/Users/mmaduar/Nextcloud/Genie_Transfer/Filtros/2010/crn/crn1405.Chn'),\n  WindowsPath('C:/Users/mmaduar/Nextcloud/Genie_Transfer/Filtros/2010/crn/crn1501.Chn'),\n  WindowsPath('C:/Users/mmaduar/Nextcloud/Genie_Transfer/Filtros/2010/crn/crn1510.Chn'),\n  WindowsPath('C:/Users/mmaduar/Nextcloud/Genie_Transfer/Filtros/2010/crn/crn1601.Chn'),\n  WindowsPath('C:/Users/mmaduar/Nextcloud/Genie_Transfer/Filtros/2010/crn/crn1604.Chn'),\n  WindowsPath('C:/Users/mmaduar/Nextcloud/Genie_Transfer/Filtros/2010/crn/crn1607.Chn'),\n  WindowsPath('C:/Users/mmaduar/Nextcloud/Genie_Transfer/Filtros/2010/crn/crn1709.Chn'),\n  WindowsPath('C:/Users/mmaduar/Nextcloud/Genie_Transfer/Filtros/2010/crn/crn1712.Chn'),\n  WindowsPath('C:/Users/mmaduar/Nextcloud/Genie_Transfer/Filtros/2010/crn/crn1902.Chn'),\n  WindowsPath('C:/Users/mmaduar/Nextcloud/Genie_Transfer/Filtros/2010/crn/crn1903.Chn'),\n  WindowsPath('C:/Users/mmaduar/Nextcloud/Genie_Transfer/Filtros/2010/crn/crn1911.Chn'),\n  WindowsPath('C:/Users/mmaduar/Nextcloud/Genie_Transfer/Filtros/2010/crn/crn2008.Chn'),\n  WindowsPath('C:/Users/mmaduar/Nextcloud/Genie_Transfer/Filtros/2010/crn/crn2105.Chn'),\n  WindowsPath('C:/Users/mmaduar/Nextcloud/Genie_Transfer/Filtros/2010/crn/crn2201.Chn'),\n  WindowsPath('C:/Users/mmaduar/Nextcloud/Genie_Transfer/Filtros/2010/crn/crn2210.Chn'),\n  WindowsPath('C:/Users/mmaduar/Nextcloud/Genie_Transfer/Filtros/2010/crn/crn2304.Chn'),\n  WindowsPath('C:/Users/mmaduar/Nextcloud/Genie_Transfer/Filtros/2010/crn/crn2307.Chn'),\n  WindowsPath('C:/Users/mmaduar/Nextcloud/Genie_Transfer/Filtros/2010/crn/crn2312.Chn'),\n  WindowsPath('C:/Users/mmaduar/Nextcloud/Genie_Transfer/Filtros/2010/crn/crn2406.Chn'),\n  WindowsPath('C:/Users/mmaduar/Nextcloud/Genie_Transfer/Filtros/2010/crn/crn2409.Chn'),\n  WindowsPath('C:/Users/mmaduar/Nextcloud/Genie_Transfer/Filtros/2010/crn/crn2602.Chn'),\n  WindowsPath('C:/Users/mmaduar/Nextcloud/Genie_Transfer/Filtros/2010/crn/crn2603.Chn'),\n  WindowsPath('C:/Users/mmaduar/Nextcloud/Genie_Transfer/Filtros/2010/crn/crn2611.Chn'),\n  WindowsPath('C:/Users/mmaduar/Nextcloud/Genie_Transfer/Filtros/2010/crn/crn2708.Chn'),\n  WindowsPath('C:/Users/mmaduar/Nextcloud/Genie_Transfer/Filtros/2010/crn/crn2805.Chn'),\n  WindowsPath('C:/Users/mmaduar/Nextcloud/Genie_Transfer/Filtros/2010/crn/crn2901.Chn'),\n  WindowsPath('C:/Users/mmaduar/Nextcloud/Genie_Transfer/Filtros/2010/crn/crn2910.Chn'),\n  WindowsPath('C:/Users/mmaduar/Nextcloud/Genie_Transfer/Filtros/2010/crn/crn3004.Chn'),\n  WindowsPath('C:/Users/mmaduar/Nextcloud/Genie_Transfer/Filtros/2010/crn/crn3007.Chn'),\n  WindowsPath('C:/Users/mmaduar/Nextcloud/Genie_Transfer/Filtros/2010/crn/crn3012.Chn'),\n  WindowsPath('C:/Users/mmaduar/Nextcloud/Genie_Transfer/Filtros/2010/ctp/cpt0309.Chn'),\n  WindowsPath('C:/Users/mmaduar/Nextcloud/Genie_Transfer/Filtros/2010/ctp/cpt1806.Chn'),\n  WindowsPath('C:/Users/mmaduar/Nextcloud/Genie_Transfer/Filtros/2010/ctp/ctp0107.Chn'),\n  WindowsPath('C:/Users/mmaduar/Nextcloud/Genie_Transfer/Filtros/2010/ctp/ctp0110.Chn'),\n  WindowsPath('C:/Users/mmaduar/Nextcloud/Genie_Transfer/Filtros/2010/ctp/ctp0206.Chn'),\n  WindowsPath('C:/Users/mmaduar/Nextcloud/Genie_Transfer/Filtros/2010/ctp/ctp0312.Chn'),\n  WindowsPath('C:/Users/mmaduar/Nextcloud/Genie_Transfer/Filtros/2010/ctp/ctp0502.Chn'),\n  WindowsPath('C:/Users/mmaduar/Nextcloud/Genie_Transfer/Filtros/2010/ctp/ctp0511.Chn'),\n  WindowsPath('C:/Users/mmaduar/Nextcloud/Genie_Transfer/Filtros/2010/ctp/ctp0608.Chn'),\n  WindowsPath('C:/Users/mmaduar/Nextcloud/Genie_Transfer/Filtros/2010/ctp/ctp0705.Chn'),\n  WindowsPath('C:/Users/mmaduar/Nextcloud/Genie_Transfer/Filtros/2010/ctp/ctp0801.Chn'),\n  WindowsPath('C:/Users/mmaduar/Nextcloud/Genie_Transfer/Filtros/2010/ctp/ctp0807.Chn'),\n  WindowsPath('C:/Users/mmaduar/Nextcloud/Genie_Transfer/Filtros/2010/ctp/ctp0810.Chn'),\n  WindowsPath('C:/Users/mmaduar/Nextcloud/Genie_Transfer/Filtros/2010/ctp/ctp0903.Chn'),\n  WindowsPath('C:/Users/mmaduar/Nextcloud/Genie_Transfer/Filtros/2010/ctp/ctp0904.Chn'),\n  WindowsPath('C:/Users/mmaduar/Nextcloud/Genie_Transfer/Filtros/2010/ctp/ctp1009.Chn'),\n  WindowsPath('C:/Users/mmaduar/Nextcloud/Genie_Transfer/Filtros/2010/ctp/ctp1012.Chn'),\n  WindowsPath('C:/Users/mmaduar/Nextcloud/Genie_Transfer/Filtros/2010/ctp/ctp1106.Chn'),\n  WindowsPath('C:/Users/mmaduar/Nextcloud/Genie_Transfer/Filtros/2010/ctp/ctp1202.Chn'),\n  WindowsPath('C:/Users/mmaduar/Nextcloud/Genie_Transfer/Filtros/2010/ctp/ctp1203.Chn'),\n  WindowsPath('C:/Users/mmaduar/Nextcloud/Genie_Transfer/Filtros/2010/ctp/ctp1211.Chn'),\n  WindowsPath('C:/Users/mmaduar/Nextcloud/Genie_Transfer/Filtros/2010/ctp/ctp1211a.Chn'),\n  WindowsPath('C:/Users/mmaduar/Nextcloud/Genie_Transfer/Filtros/2010/ctp/ctp1308.Chn'),\n  WindowsPath('C:/Users/mmaduar/Nextcloud/Genie_Transfer/Filtros/2010/ctp/ctp1405.Chn'),\n  WindowsPath('C:/Users/mmaduar/Nextcloud/Genie_Transfer/Filtros/2010/ctp/ctp1501.Chn'),\n  WindowsPath('C:/Users/mmaduar/Nextcloud/Genie_Transfer/Filtros/2010/ctp/ctp1510.Chn'),\n  WindowsPath('C:/Users/mmaduar/Nextcloud/Genie_Transfer/Filtros/2010/ctp/ctp1604.Chn'),\n  WindowsPath('C:/Users/mmaduar/Nextcloud/Genie_Transfer/Filtros/2010/ctp/ctp1607.Chn'),\n  WindowsPath('C:/Users/mmaduar/Nextcloud/Genie_Transfer/Filtros/2010/ctp/ctp1709.Chn'),\n  WindowsPath('C:/Users/mmaduar/Nextcloud/Genie_Transfer/Filtros/2010/ctp/ctp1712.Chn'),\n  WindowsPath('C:/Users/mmaduar/Nextcloud/Genie_Transfer/Filtros/2010/ctp/ctp1902.Chn'),\n  WindowsPath('C:/Users/mmaduar/Nextcloud/Genie_Transfer/Filtros/2010/ctp/ctp1903.Chn'),\n  WindowsPath('C:/Users/mmaduar/Nextcloud/Genie_Transfer/Filtros/2010/ctp/ctp1911.Chn'),\n  WindowsPath('C:/Users/mmaduar/Nextcloud/Genie_Transfer/Filtros/2010/ctp/ctp2008.Chn'),\n  WindowsPath('C:/Users/mmaduar/Nextcloud/Genie_Transfer/Filtros/2010/ctp/ctp2105.Chn'),\n  WindowsPath('C:/Users/mmaduar/Nextcloud/Genie_Transfer/Filtros/2010/ctp/ctp2201.Chn'),\n  WindowsPath('C:/Users/mmaduar/Nextcloud/Genie_Transfer/Filtros/2010/ctp/ctp2210.Chn'),\n  WindowsPath('C:/Users/mmaduar/Nextcloud/Genie_Transfer/Filtros/2010/ctp/ctp2304.Chn'),\n  WindowsPath('C:/Users/mmaduar/Nextcloud/Genie_Transfer/Filtros/2010/ctp/ctp2307.Chn'),\n  WindowsPath('C:/Users/mmaduar/Nextcloud/Genie_Transfer/Filtros/2010/ctp/ctp2312.Chn'),\n  WindowsPath('C:/Users/mmaduar/Nextcloud/Genie_Transfer/Filtros/2010/ctp/ctp2406.Chn'),\n  WindowsPath('C:/Users/mmaduar/Nextcloud/Genie_Transfer/Filtros/2010/ctp/ctp2409.Chn'),\n  WindowsPath('C:/Users/mmaduar/Nextcloud/Genie_Transfer/Filtros/2010/ctp/ctp2602.Chn'),\n  WindowsPath('C:/Users/mmaduar/Nextcloud/Genie_Transfer/Filtros/2010/ctp/ctp2603.Chn'),\n  WindowsPath('C:/Users/mmaduar/Nextcloud/Genie_Transfer/Filtros/2010/ctp/ctp2611.Chn'),\n  WindowsPath('C:/Users/mmaduar/Nextcloud/Genie_Transfer/Filtros/2010/ctp/ctp2708.Chn'),\n  WindowsPath('C:/Users/mmaduar/Nextcloud/Genie_Transfer/Filtros/2010/ctp/ctp2805.Chn'),\n  WindowsPath('C:/Users/mmaduar/Nextcloud/Genie_Transfer/Filtros/2010/ctp/ctp2901.Chn'),\n  WindowsPath('C:/Users/mmaduar/Nextcloud/Genie_Transfer/Filtros/2010/ctp/ctp2910.Chn'),\n  WindowsPath('C:/Users/mmaduar/Nextcloud/Genie_Transfer/Filtros/2010/ctp/ctp3004.Chn'),\n  WindowsPath('C:/Users/mmaduar/Nextcloud/Genie_Transfer/Filtros/2010/ctp/ctp3007.Chn'),\n  WindowsPath('C:/Users/mmaduar/Nextcloud/Genie_Transfer/Filtros/2010/ctp/ctp3012.Chn'),\n  WindowsPath('C:/Users/mmaduar/Nextcloud/Genie_Transfer/Filtros/2010/pci/pci0109.Chn'),\n  WindowsPath('C:/Users/mmaduar/Nextcloud/Genie_Transfer/Filtros/2010/pci/pci0112.Chn'),\n  WindowsPath('C:/Users/mmaduar/Nextcloud/Genie_Transfer/Filtros/2010/pci/pci0206.Chn'),\n  WindowsPath('C:/Users/mmaduar/Nextcloud/Genie_Transfer/Filtros/2010/pci/pci0303.Chn'),\n  WindowsPath('C:/Users/mmaduar/Nextcloud/Genie_Transfer/Filtros/2010/pci/pci0311.Chn'),\n  WindowsPath('C:/Users/mmaduar/Nextcloud/Genie_Transfer/Filtros/2010/pci/pci0508.Chn'),\n  WindowsPath('C:/Users/mmaduar/Nextcloud/Genie_Transfer/Filtros/2010/pci/pci0601.Chn'),\n  WindowsPath('C:/Users/mmaduar/Nextcloud/Genie_Transfer/Filtros/2010/pci/pci0610.Chn'),\n  WindowsPath('C:/Users/mmaduar/Nextcloud/Genie_Transfer/Filtros/2010/pci/pci0707.Chn'),\n  WindowsPath('C:/Users/mmaduar/Nextcloud/Genie_Transfer/Filtros/2010/pci/pci0804.Chn'),\n  WindowsPath('C:/Users/mmaduar/Nextcloud/Genie_Transfer/Filtros/2010/pci/pci0812.Chn'),\n  WindowsPath('C:/Users/mmaduar/Nextcloud/Genie_Transfer/Filtros/2010/pci/pci0906.Chn'),\n  WindowsPath('C:/Users/mmaduar/Nextcloud/Genie_Transfer/Filtros/2010/pci/pci1011.Chn'),\n  WindowsPath('C:/Users/mmaduar/Nextcloud/Genie_Transfer/Filtros/2010/pci/pci1103.Chn'),\n  WindowsPath('C:/Users/mmaduar/Nextcloud/Genie_Transfer/Filtros/2010/pci/pci1108.Chn'),\n  WindowsPath('C:/Users/mmaduar/Nextcloud/Genie_Transfer/Filtros/2010/pci/pci1310.Chn'),\n  WindowsPath('C:/Users/mmaduar/Nextcloud/Genie_Transfer/Filtros/2010/pci/pci1404.Chn'),\n  WindowsPath('C:/Users/mmaduar/Nextcloud/Genie_Transfer/Filtros/2010/pci/pci1407.Chn'),\n  WindowsPath('C:/Users/mmaduar/Nextcloud/Genie_Transfer/Filtros/2010/pci/pci1512.Chn'),\n  WindowsPath('C:/Users/mmaduar/Nextcloud/Genie_Transfer/Filtros/2010/pci/pci1606.Chn'),\n  WindowsPath('C:/Users/mmaduar/Nextcloud/Genie_Transfer/Filtros/2010/pci/pci1611.Chn'),\n  WindowsPath('C:/Users/mmaduar/Nextcloud/Genie_Transfer/Filtros/2010/pci/pci1703.Chn'),\n  WindowsPath('C:/Users/mmaduar/Nextcloud/Genie_Transfer/Filtros/2010/pci/pci1808.Chn'),\n  WindowsPath('C:/Users/mmaduar/Nextcloud/Genie_Transfer/Filtros/2010/pci/pci1905.Chn'),\n  WindowsPath('C:/Users/mmaduar/Nextcloud/Genie_Transfer/Filtros/2010/pci/pci2001.Chn'),\n  WindowsPath('C:/Users/mmaduar/Nextcloud/Genie_Transfer/Filtros/2010/pci/pci2010.Chn'),\n  WindowsPath('C:/Users/mmaduar/Nextcloud/Genie_Transfer/Filtros/2010/pci/pci2107.Chn'),\n  WindowsPath('C:/Users/mmaduar/Nextcloud/Genie_Transfer/Filtros/2010/pci/pci2306.Chn'),\n  WindowsPath('C:/Users/mmaduar/Nextcloud/Genie_Transfer/Filtros/2010/pci/pci2402.Chn'),\n  WindowsPath('C:/Users/mmaduar/Nextcloud/Genie_Transfer/Filtros/2010/pci/pci2403.Chn'),\n  WindowsPath('C:/Users/mmaduar/Nextcloud/Genie_Transfer/Filtros/2010/pci/pci2411.Chn'),\n  WindowsPath('C:/Users/mmaduar/Nextcloud/Genie_Transfer/Filtros/2010/pci/pci2508.Chn'),\n  WindowsPath('C:/Users/mmaduar/Nextcloud/Genie_Transfer/Filtros/2010/pci/pci2701.Chn'),\n  WindowsPath('C:/Users/mmaduar/Nextcloud/Genie_Transfer/Filtros/2010/pci/pci2904.Chn'),\n  WindowsPath('C:/Users/mmaduar/Nextcloud/Genie_Transfer/Filtros/2010/pci/pci3103.Chn'),\n  WindowsPath('C:/Users/mmaduar/Nextcloud/Genie_Transfer/Filtros/2010/prf/prf 0608.Chn'),\n  WindowsPath('C:/Users/mmaduar/Nextcloud/Genie_Transfer/Filtros/2010/prf/prf0104.Chn'),\n  WindowsPath('C:/Users/mmaduar/Nextcloud/Genie_Transfer/Filtros/2010/prf/prf0107.Chn'),\n  WindowsPath('C:/Users/mmaduar/Nextcloud/Genie_Transfer/Filtros/2010/prf/prf0110.Chn'),\n  WindowsPath('C:/Users/mmaduar/Nextcloud/Genie_Transfer/Filtros/2010/prf/prf0206.Chn'),\n  WindowsPath('C:/Users/mmaduar/Nextcloud/Genie_Transfer/Filtros/2010/prf/prf0309.Chn'),\n  WindowsPath('C:/Users/mmaduar/Nextcloud/Genie_Transfer/Filtros/2010/prf/prf0312.Chn'),\n  WindowsPath('C:/Users/mmaduar/Nextcloud/Genie_Transfer/Filtros/2010/prf/prf0502.Chn'),\n  WindowsPath('C:/Users/mmaduar/Nextcloud/Genie_Transfer/Filtros/2010/prf/prf0503.Chn'),\n  WindowsPath('C:/Users/mmaduar/Nextcloud/Genie_Transfer/Filtros/2010/prf/prf0705.Chn'),\n  WindowsPath('C:/Users/mmaduar/Nextcloud/Genie_Transfer/Filtros/2010/prf/prf0801.Chn'),\n  WindowsPath('C:/Users/mmaduar/Nextcloud/Genie_Transfer/Filtros/2010/prf/prf0807.Chn'),\n  WindowsPath('C:/Users/mmaduar/Nextcloud/Genie_Transfer/Filtros/2010/prf/prf0810.Chn'),\n  WindowsPath('C:/Users/mmaduar/Nextcloud/Genie_Transfer/Filtros/2010/prf/prf0904.Chn'),\n  WindowsPath('C:/Users/mmaduar/Nextcloud/Genie_Transfer/Filtros/2010/prf/prf1009.Chn'),\n  WindowsPath('C:/Users/mmaduar/Nextcloud/Genie_Transfer/Filtros/2010/prf/PRF1012.Chn'),\n  WindowsPath('C:/Users/mmaduar/Nextcloud/Genie_Transfer/Filtros/2010/prf/prf1106.Chn'),\n  WindowsPath('C:/Users/mmaduar/Nextcloud/Genie_Transfer/Filtros/2010/prf/prf1202.Chn'),\n  WindowsPath('C:/Users/mmaduar/Nextcloud/Genie_Transfer/Filtros/2010/prf/prf1203.Chn'),\n  WindowsPath('C:/Users/mmaduar/Nextcloud/Genie_Transfer/Filtros/2010/prf/prf1308.Chn'),\n  WindowsPath('C:/Users/mmaduar/Nextcloud/Genie_Transfer/Filtros/2010/prf/prf1405.Chn'),\n  WindowsPath('C:/Users/mmaduar/Nextcloud/Genie_Transfer/Filtros/2010/prf/prf1510.Chn'),\n  WindowsPath('C:/Users/mmaduar/Nextcloud/Genie_Transfer/Filtros/2010/prf/prf1604.Chn'),\n  WindowsPath('C:/Users/mmaduar/Nextcloud/Genie_Transfer/Filtros/2010/prf/prf1607.Chn'),\n  WindowsPath('C:/Users/mmaduar/Nextcloud/Genie_Transfer/Filtros/2010/prf/prf1709.Chn'),\n  WindowsPath('C:/Users/mmaduar/Nextcloud/Genie_Transfer/Filtros/2010/prf/prf1712.Chn'),\n  WindowsPath('C:/Users/mmaduar/Nextcloud/Genie_Transfer/Filtros/2010/prf/prf1806.Chn'),\n  WindowsPath('C:/Users/mmaduar/Nextcloud/Genie_Transfer/Filtros/2010/prf/prf1902.Chn'),\n  WindowsPath('C:/Users/mmaduar/Nextcloud/Genie_Transfer/Filtros/2010/prf/prf1903.Chn'),\n  WindowsPath('C:/Users/mmaduar/Nextcloud/Genie_Transfer/Filtros/2010/prf/prf2105.Chn'),\n  WindowsPath('C:/Users/mmaduar/Nextcloud/Genie_Transfer/Filtros/2010/prf/prf2201.Chn'),\n  WindowsPath('C:/Users/mmaduar/Nextcloud/Genie_Transfer/Filtros/2010/prf/prf2307.Chn'),\n  WindowsPath('C:/Users/mmaduar/Nextcloud/Genie_Transfer/Filtros/2010/prf/prf2312.Chn'),\n  WindowsPath('C:/Users/mmaduar/Nextcloud/Genie_Transfer/Filtros/2010/prf/prf2406.Chn'),\n  WindowsPath('C:/Users/mmaduar/Nextcloud/Genie_Transfer/Filtros/2010/prf/prf2409.Chn'),\n  WindowsPath('C:/Users/mmaduar/Nextcloud/Genie_Transfer/Filtros/2010/prf/prf2602.Chn'),\n  WindowsPath('C:/Users/mmaduar/Nextcloud/Genie_Transfer/Filtros/2010/prf/prf2603.Chn'),\n  WindowsPath('C:/Users/mmaduar/Nextcloud/Genie_Transfer/Filtros/2010/prf/prf2611.Chn'),\n  WindowsPath('C:/Users/mmaduar/Nextcloud/Genie_Transfer/Filtros/2010/prf/prf2708.Chn'),\n  WindowsPath('C:/Users/mmaduar/Nextcloud/Genie_Transfer/Filtros/2010/prf/prf2805.Chn'),\n  WindowsPath('C:/Users/mmaduar/Nextcloud/Genie_Transfer/Filtros/2010/prf/prf2901.Chn'),\n  WindowsPath('C:/Users/mmaduar/Nextcloud/Genie_Transfer/Filtros/2010/prf/prf3004.Chn'),\n  WindowsPath('C:/Users/mmaduar/Nextcloud/Genie_Transfer/Filtros/2010/prf/prf3007.Chn'),\n  WindowsPath('C:/Users/mmaduar/Nextcloud/Genie_Transfer/Filtros/2010/prf/prf3012.Chn'),\n  WindowsPath('C:/Users/mmaduar/Nextcloud/Genie_Transfer/Filtros/2010/ptp/ptp0107.Chn'),\n  WindowsPath('C:/Users/mmaduar/Nextcloud/Genie_Transfer/Filtros/2010/ptp/ptp0110.Chn'),\n  WindowsPath('C:/Users/mmaduar/Nextcloud/Genie_Transfer/Filtros/2010/ptp/ptp0206.Chn'),\n  WindowsPath('C:/Users/mmaduar/Nextcloud/Genie_Transfer/Filtros/2010/ptp/ptp0309.Chn'),\n  WindowsPath('C:/Users/mmaduar/Nextcloud/Genie_Transfer/Filtros/2010/ptp/ptp0312.Chn'),\n  WindowsPath('C:/Users/mmaduar/Nextcloud/Genie_Transfer/Filtros/2010/ptp/ptp0502.Chn'),\n  WindowsPath('C:/Users/mmaduar/Nextcloud/Genie_Transfer/Filtros/2010/ptp/ptp0503.Chn'),\n  WindowsPath('C:/Users/mmaduar/Nextcloud/Genie_Transfer/Filtros/2010/ptp/ptp0608.Chn'),\n  WindowsPath('C:/Users/mmaduar/Nextcloud/Genie_Transfer/Filtros/2010/ptp/ptp0705.Chn'),\n  WindowsPath('C:/Users/mmaduar/Nextcloud/Genie_Transfer/Filtros/2010/ptp/ptp0801.Chn'),\n  WindowsPath('C:/Users/mmaduar/Nextcloud/Genie_Transfer/Filtros/2010/ptp/ptp0807.Chn'),\n  WindowsPath('C:/Users/mmaduar/Nextcloud/Genie_Transfer/Filtros/2010/ptp/ptp0810.Chn'),\n  WindowsPath('C:/Users/mmaduar/Nextcloud/Genie_Transfer/Filtros/2010/ptp/ptp0904.Chn'),\n  WindowsPath('C:/Users/mmaduar/Nextcloud/Genie_Transfer/Filtros/2010/ptp/ptp1009.Chn'),\n  WindowsPath('C:/Users/mmaduar/Nextcloud/Genie_Transfer/Filtros/2010/ptp/ptp1012.Chn'),\n  WindowsPath('C:/Users/mmaduar/Nextcloud/Genie_Transfer/Filtros/2010/ptp/ptp1106.Chn'),\n  WindowsPath('C:/Users/mmaduar/Nextcloud/Genie_Transfer/Filtros/2010/ptp/ptp1202.Chn'),\n  WindowsPath('C:/Users/mmaduar/Nextcloud/Genie_Transfer/Filtros/2010/ptp/ptp1203.Chn'),\n  WindowsPath('C:/Users/mmaduar/Nextcloud/Genie_Transfer/Filtros/2010/ptp/ptp1308.Chn'),\n  WindowsPath('C:/Users/mmaduar/Nextcloud/Genie_Transfer/Filtros/2010/ptp/ptp1405.Chn'),\n  WindowsPath('C:/Users/mmaduar/Nextcloud/Genie_Transfer/Filtros/2010/ptp/ptp1501.Chn'),\n  WindowsPath('C:/Users/mmaduar/Nextcloud/Genie_Transfer/Filtros/2010/ptp/ptp1604.Chn'),\n  WindowsPath('C:/Users/mmaduar/Nextcloud/Genie_Transfer/Filtros/2010/ptp/ptp1607.Chn'),\n  WindowsPath('C:/Users/mmaduar/Nextcloud/Genie_Transfer/Filtros/2010/ptp/ptp1709.Chn'),\n  WindowsPath('C:/Users/mmaduar/Nextcloud/Genie_Transfer/Filtros/2010/ptp/ptp1712.Chn'),\n  WindowsPath('C:/Users/mmaduar/Nextcloud/Genie_Transfer/Filtros/2010/ptp/ptp1902.Chn'),\n  WindowsPath('C:/Users/mmaduar/Nextcloud/Genie_Transfer/Filtros/2010/ptp/ptp1903.Chn'),\n  WindowsPath('C:/Users/mmaduar/Nextcloud/Genie_Transfer/Filtros/2010/ptp/ptp2008.Chn'),\n  WindowsPath('C:/Users/mmaduar/Nextcloud/Genie_Transfer/Filtros/2010/ptp/ptp2105.Chn'),\n  WindowsPath('C:/Users/mmaduar/Nextcloud/Genie_Transfer/Filtros/2010/ptp/ptp2201.Chn'),\n  WindowsPath('C:/Users/mmaduar/Nextcloud/Genie_Transfer/Filtros/2010/ptp/ptp2307.Chn'),\n  WindowsPath('C:/Users/mmaduar/Nextcloud/Genie_Transfer/Filtros/2010/ptp/ptp2312.Chn'),\n  WindowsPath('C:/Users/mmaduar/Nextcloud/Genie_Transfer/Filtros/2010/ptp/ptp2406.Chn'),\n  WindowsPath('C:/Users/mmaduar/Nextcloud/Genie_Transfer/Filtros/2010/ptp/ptp2409.Chn'),\n  WindowsPath('C:/Users/mmaduar/Nextcloud/Genie_Transfer/Filtros/2010/ptp/ptp2603.Chn'),\n  WindowsPath('C:/Users/mmaduar/Nextcloud/Genie_Transfer/Filtros/2010/ptp/ptp2611.Chn'),\n  WindowsPath('C:/Users/mmaduar/Nextcloud/Genie_Transfer/Filtros/2010/ptp/ptp2708.Chn'),\n  WindowsPath('C:/Users/mmaduar/Nextcloud/Genie_Transfer/Filtros/2010/ptp/ptp2805.Chn'),\n  WindowsPath('C:/Users/mmaduar/Nextcloud/Genie_Transfer/Filtros/2010/ptp/ptp2901.Chn'),\n  WindowsPath('C:/Users/mmaduar/Nextcloud/Genie_Transfer/Filtros/2010/ptp/ptp3004.Chn'),\n  WindowsPath('C:/Users/mmaduar/Nextcloud/Genie_Transfer/Filtros/2010/ptp/ptp3007.Chn'),\n  WindowsPath('C:/Users/mmaduar/Nextcloud/Genie_Transfer/Filtros/2010/ptp/ptp3012.Chn'),\n  WindowsPath('C:/Users/mmaduar/Nextcloud/Genie_Transfer/Filtros/2010/rnp/prn0104.Chn'),\n  WindowsPath('C:/Users/mmaduar/Nextcloud/Genie_Transfer/Filtros/2010/rnp/prn0107.Chn'),\n  WindowsPath('C:/Users/mmaduar/Nextcloud/Genie_Transfer/Filtros/2010/rnp/prn0110.Chn'),\n  WindowsPath('C:/Users/mmaduar/Nextcloud/Genie_Transfer/Filtros/2010/rnp/prn0206.Chn'),\n  WindowsPath('C:/Users/mmaduar/Nextcloud/Genie_Transfer/Filtros/2010/rnp/prn0309.Chn'),\n  WindowsPath('C:/Users/mmaduar/Nextcloud/Genie_Transfer/Filtros/2010/rnp/prn0312.Chn'),\n  WindowsPath('C:/Users/mmaduar/Nextcloud/Genie_Transfer/Filtros/2010/rnp/prn0502.Chn'),\n  WindowsPath('C:/Users/mmaduar/Nextcloud/Genie_Transfer/Filtros/2010/rnp/prn0503.Chn'),\n  WindowsPath('C:/Users/mmaduar/Nextcloud/Genie_Transfer/Filtros/2010/rnp/prn0608.Chn'),\n  WindowsPath('C:/Users/mmaduar/Nextcloud/Genie_Transfer/Filtros/2010/rnp/prn0705.Chn'),\n  WindowsPath('C:/Users/mmaduar/Nextcloud/Genie_Transfer/Filtros/2010/rnp/prn0801.Chn'),\n  WindowsPath('C:/Users/mmaduar/Nextcloud/Genie_Transfer/Filtros/2010/rnp/prn0807.Chn'),\n  WindowsPath('C:/Users/mmaduar/Nextcloud/Genie_Transfer/Filtros/2010/rnp/prn0904.Chn'),\n  WindowsPath('C:/Users/mmaduar/Nextcloud/Genie_Transfer/Filtros/2010/rnp/prn1009.Chn'),\n  WindowsPath('C:/Users/mmaduar/Nextcloud/Genie_Transfer/Filtros/2010/rnp/prn1012.Chn'),\n  WindowsPath('C:/Users/mmaduar/Nextcloud/Genie_Transfer/Filtros/2010/rnp/prn1106.Chn'),\n  WindowsPath('C:/Users/mmaduar/Nextcloud/Genie_Transfer/Filtros/2010/rnp/prn1202.Chn'),\n  WindowsPath('C:/Users/mmaduar/Nextcloud/Genie_Transfer/Filtros/2010/rnp/prn1203.Chn'),\n  WindowsPath('C:/Users/mmaduar/Nextcloud/Genie_Transfer/Filtros/2010/rnp/prn1308.Chn'),\n  WindowsPath('C:/Users/mmaduar/Nextcloud/Genie_Transfer/Filtros/2010/rnp/prn1405.Chn'),\n  WindowsPath('C:/Users/mmaduar/Nextcloud/Genie_Transfer/Filtros/2010/rnp/prn1501.Chn'),\n  WindowsPath('C:/Users/mmaduar/Nextcloud/Genie_Transfer/Filtros/2010/rnp/prn1604.Chn'),\n  WindowsPath('C:/Users/mmaduar/Nextcloud/Genie_Transfer/Filtros/2010/rnp/prn1607.Chn'),\n  WindowsPath('C:/Users/mmaduar/Nextcloud/Genie_Transfer/Filtros/2010/rnp/prn1709.Chn'),\n  WindowsPath('C:/Users/mmaduar/Nextcloud/Genie_Transfer/Filtros/2010/rnp/prn1712.Chn'),\n  WindowsPath('C:/Users/mmaduar/Nextcloud/Genie_Transfer/Filtros/2010/rnp/prn1806.Chn'),\n  WindowsPath('C:/Users/mmaduar/Nextcloud/Genie_Transfer/Filtros/2010/rnp/prn1902.Chn'),\n  WindowsPath('C:/Users/mmaduar/Nextcloud/Genie_Transfer/Filtros/2010/rnp/prn1903.Chn'),\n  WindowsPath('C:/Users/mmaduar/Nextcloud/Genie_Transfer/Filtros/2010/rnp/PRN2008.Chn'),\n  WindowsPath('C:/Users/mmaduar/Nextcloud/Genie_Transfer/Filtros/2010/rnp/prn2105.Chn'),\n  WindowsPath('C:/Users/mmaduar/Nextcloud/Genie_Transfer/Filtros/2010/rnp/prn2201.Chn'),\n  WindowsPath('C:/Users/mmaduar/Nextcloud/Genie_Transfer/Filtros/2010/rnp/prn2307.Chn'),\n  WindowsPath('C:/Users/mmaduar/Nextcloud/Genie_Transfer/Filtros/2010/rnp/prn2312.Chn'),\n  WindowsPath('C:/Users/mmaduar/Nextcloud/Genie_Transfer/Filtros/2010/rnp/prn2406.Chn'),\n  WindowsPath('C:/Users/mmaduar/Nextcloud/Genie_Transfer/Filtros/2010/rnp/prn2409.Chn'),\n  WindowsPath('C:/Users/mmaduar/Nextcloud/Genie_Transfer/Filtros/2010/rnp/prn2602.Chn'),\n  WindowsPath('C:/Users/mmaduar/Nextcloud/Genie_Transfer/Filtros/2010/rnp/prn2603.Chn'),\n  WindowsPath('C:/Users/mmaduar/Nextcloud/Genie_Transfer/Filtros/2010/rnp/prn2611.Chn'),\n  WindowsPath('C:/Users/mmaduar/Nextcloud/Genie_Transfer/Filtros/2010/rnp/prn2708.Chn'),\n  WindowsPath('C:/Users/mmaduar/Nextcloud/Genie_Transfer/Filtros/2010/rnp/prn2805.Chn'),\n  WindowsPath('C:/Users/mmaduar/Nextcloud/Genie_Transfer/Filtros/2010/rnp/prn2901.Chn'),\n  WindowsPath('C:/Users/mmaduar/Nextcloud/Genie_Transfer/Filtros/2010/rnp/prn3004.Chn'),\n  WindowsPath('C:/Users/mmaduar/Nextcloud/Genie_Transfer/Filtros/2010/rnp/prn3007.Chn'),\n  WindowsPath('C:/Users/mmaduar/Nextcloud/Genie_Transfer/Filtros/2010/rnp/prn3012.Chn'),\n  WindowsPath('C:/Users/mmaduar/Nextcloud/Genie_Transfer/Filtros/2011/cci/cci0106.Chn'),\n  WindowsPath('C:/Users/mmaduar/Nextcloud/Genie_Transfer/Filtros/2011/cci/cci0203.Chn'),\n  WindowsPath('C:/Users/mmaduar/Nextcloud/Genie_Transfer/Filtros/2011/cci/cci0302.Chn'),\n  WindowsPath('C:/Users/mmaduar/Nextcloud/Genie_Transfer/Filtros/2011/cci/cci0308.Chn'),\n  WindowsPath('C:/Users/mmaduar/Nextcloud/Genie_Transfer/Filtros/2011/cci/cci0311.Chn'),\n  WindowsPath('C:/Users/mmaduar/Nextcloud/Genie_Transfer/Filtros/2011/cci/cci0405.Chn'),\n  WindowsPath('C:/Users/mmaduar/Nextcloud/Genie_Transfer/Filtros/2011/cci/cci0501.Chn'),\n  WindowsPath('C:/Users/mmaduar/Nextcloud/Genie_Transfer/Filtros/2011/cci/cci0510.Chn'),\n  WindowsPath('C:/Users/mmaduar/Nextcloud/Genie_Transfer/Filtros/2011/cci/cci0604.Chn'),\n  WindowsPath('C:/Users/mmaduar/Nextcloud/Genie_Transfer/Filtros/2011/cci/cci0607.Chn'),\n  WindowsPath('C:/Users/mmaduar/Nextcloud/Genie_Transfer/Filtros/2011/cci/cci0712.Chn'),\n  WindowsPath('C:/Users/mmaduar/Nextcloud/Genie_Transfer/Filtros/2011/cci/cci0806.Chn'),\n  WindowsPath('C:/Users/mmaduar/Nextcloud/Genie_Transfer/Filtros/2011/cci/cci0902.Chn'),\n  WindowsPath('C:/Users/mmaduar/Nextcloud/Genie_Transfer/Filtros/2011/cci/cci1008.Chn'),\n  WindowsPath('C:/Users/mmaduar/Nextcloud/Genie_Transfer/Filtros/2011/cci/cci1011.Chn'),\n  WindowsPath('C:/Users/mmaduar/Nextcloud/Genie_Transfer/Filtros/2011/cci/cci1301.Chn'),\n  WindowsPath('C:/Users/mmaduar/Nextcloud/Genie_Transfer/Filtros/2011/cci/cci1304.Chn'),\n  WindowsPath('C:/Users/mmaduar/Nextcloud/Genie_Transfer/Filtros/2011/cci/cci1307.Chn'),\n  WindowsPath('C:/Users/mmaduar/Nextcloud/Genie_Transfer/Filtros/2011/cci/cci1409.Chn'),\n  WindowsPath('C:/Users/mmaduar/Nextcloud/Genie_Transfer/Filtros/2011/cci/cci1412.Chn'),\n  WindowsPath('C:/Users/mmaduar/Nextcloud/Genie_Transfer/Filtros/2011/cci/cci1506.Chn'),\n  WindowsPath('C:/Users/mmaduar/Nextcloud/Genie_Transfer/Filtros/2011/cci/cci1602.Chn'),\n  WindowsPath('C:/Users/mmaduar/Nextcloud/Genie_Transfer/Filtros/2011/cci/cci1611.Chn'),\n  WindowsPath('C:/Users/mmaduar/Nextcloud/Genie_Transfer/Filtros/2011/cci/CCI1703.Chn'),\n  WindowsPath('C:/Users/mmaduar/Nextcloud/Genie_Transfer/Filtros/2011/cci/cci1708.Chn'),\n  WindowsPath('C:/Users/mmaduar/Nextcloud/Genie_Transfer/Filtros/2011/cci/cci1901.Chn'),\n  WindowsPath('C:/Users/mmaduar/Nextcloud/Genie_Transfer/Filtros/2011/cci/cci1910.Chn'),\n  WindowsPath('C:/Users/mmaduar/Nextcloud/Genie_Transfer/Filtros/2011/cci/cci2007.Chn'),\n  WindowsPath('C:/Users/mmaduar/Nextcloud/Genie_Transfer/Filtros/2011/cci/cci2206.Chn'),\n  WindowsPath('C:/Users/mmaduar/Nextcloud/Genie_Transfer/Filtros/2011/cci/cci2209.Chn'),\n  WindowsPath('C:/Users/mmaduar/Nextcloud/Genie_Transfer/Filtros/2011/cci/cci2212.Chn'),\n  WindowsPath('C:/Users/mmaduar/Nextcloud/Genie_Transfer/Filtros/2011/cci/cci2302.Chn'),\n  WindowsPath('C:/Users/mmaduar/Nextcloud/Genie_Transfer/Filtros/2011/cci/cci2311.Chn'),\n  WindowsPath('C:/Users/mmaduar/Nextcloud/Genie_Transfer/Filtros/2011/cci/cci2408.Chn'),\n  WindowsPath('C:/Users/mmaduar/Nextcloud/Genie_Transfer/Filtros/2011/cci/cci2505.Chn'),\n  WindowsPath('C:/Users/mmaduar/Nextcloud/Genie_Transfer/Filtros/2011/cci/cci2601.Chn'),\n  WindowsPath('C:/Users/mmaduar/Nextcloud/Genie_Transfer/Filtros/2011/cci/cci2610.Chn'),\n  WindowsPath('C:/Users/mmaduar/Nextcloud/Genie_Transfer/Filtros/2011/cci/cci2704.Chn'),\n  WindowsPath('C:/Users/mmaduar/Nextcloud/Genie_Transfer/Filtros/2011/cci/cci2707.Chn'),\n  WindowsPath('C:/Users/mmaduar/Nextcloud/Genie_Transfer/Filtros/2011/cci/cci2809.Chn'),\n  WindowsPath('C:/Users/mmaduar/Nextcloud/Genie_Transfer/Filtros/2011/cci/cci2906.Chn'),\n  WindowsPath('C:/Users/mmaduar/Nextcloud/Genie_Transfer/Filtros/2011/cci/cci3003.Chn'),\n  WindowsPath('C:/Users/mmaduar/Nextcloud/Genie_Transfer/Filtros/2011/cci/cci3108.Chn'),\n  WindowsPath('C:/Users/mmaduar/Nextcloud/Genie_Transfer/Filtros/2011/crf/crf0104.Chn'),\n  WindowsPath('C:/Users/mmaduar/Nextcloud/Genie_Transfer/Filtros/2011/crf/crf0107.Chn'),\n  WindowsPath('C:/Users/mmaduar/Nextcloud/Genie_Transfer/Filtros/2011/crf/crf0209.Chn'),\n  WindowsPath('C:/Users/mmaduar/Nextcloud/Genie_Transfer/Filtros/2011/crf/crf0212.Chn'),\n  WindowsPath('C:/Users/mmaduar/Nextcloud/Genie_Transfer/Filtros/2011/crf/crf0306.Chn'),\n  WindowsPath('C:/Users/mmaduar/Nextcloud/Genie_Transfer/Filtros/2011/crf/crf0402.Chn'),\n  WindowsPath('C:/Users/mmaduar/Nextcloud/Genie_Transfer/Filtros/2011/crf/crf0403.Chn'),\n  WindowsPath('C:/Users/mmaduar/Nextcloud/Genie_Transfer/Filtros/2011/crf/crf0411.Chn'),\n  WindowsPath('C:/Users/mmaduar/Nextcloud/Genie_Transfer/Filtros/2011/crf/crf0508.Chn'),\n  WindowsPath('C:/Users/mmaduar/Nextcloud/Genie_Transfer/Filtros/2011/crf/crf0605.Chn'),\n  WindowsPath('C:/Users/mmaduar/Nextcloud/Genie_Transfer/Filtros/2011/crf/crf0701.Chn'),\n  WindowsPath('C:/Users/mmaduar/Nextcloud/Genie_Transfer/Filtros/2011/crf/crf0710.Chn'),\n  WindowsPath('C:/Users/mmaduar/Nextcloud/Genie_Transfer/Filtros/2011/crf/crf0804.Chn'),\n  WindowsPath('C:/Users/mmaduar/Nextcloud/Genie_Transfer/Filtros/2011/crf/crf0909.Chn'),\n  WindowsPath('C:/Users/mmaduar/Nextcloud/Genie_Transfer/Filtros/2011/crf/crf0912.Chn'),\n  WindowsPath('C:/Users/mmaduar/Nextcloud/Genie_Transfer/Filtros/2011/crf/crf1006.Chn'),\n  WindowsPath('C:/Users/mmaduar/Nextcloud/Genie_Transfer/Filtros/2011/crf/crf1102.Chn'),\n  WindowsPath('C:/Users/mmaduar/Nextcloud/Genie_Transfer/Filtros/2011/crf/crf1103.Chn'),\n  WindowsPath('C:/Users/mmaduar/Nextcloud/Genie_Transfer/Filtros/2011/crf/crf1111.Chn'),\n  WindowsPath('C:/Users/mmaduar/Nextcloud/Genie_Transfer/Filtros/2011/crf/crf1208.Chn'),\n  WindowsPath('C:/Users/mmaduar/Nextcloud/Genie_Transfer/Filtros/2011/crf/crf1305.Chn'),\n  WindowsPath('C:/Users/mmaduar/Nextcloud/Genie_Transfer/Filtros/2011/crf/crf1401.Chn'),\n  WindowsPath('C:/Users/mmaduar/Nextcloud/Genie_Transfer/Filtros/2011/crf/crf1410.Chn'),\n  WindowsPath('C:/Users/mmaduar/Nextcloud/Genie_Transfer/Filtros/2011/crf/crf1504.Chn'),\n  WindowsPath('C:/Users/mmaduar/Nextcloud/Genie_Transfer/Filtros/2011/crf/crf1507.Chn'),\n  WindowsPath('C:/Users/mmaduar/Nextcloud/Genie_Transfer/Filtros/2011/crf/crf1609.Chn'),\n  WindowsPath('C:/Users/mmaduar/Nextcloud/Genie_Transfer/Filtros/2011/crf/crf1612.Chn'),\n  WindowsPath('C:/Users/mmaduar/Nextcloud/Genie_Transfer/Filtros/2011/crf/crf1706.Chn'),\n  WindowsPath('C:/Users/mmaduar/Nextcloud/Genie_Transfer/Filtros/2011/crf/crf1802.Chn'),\n  WindowsPath('C:/Users/mmaduar/Nextcloud/Genie_Transfer/Filtros/2011/crf/crf1803.Chn'),\n  WindowsPath('C:/Users/mmaduar/Nextcloud/Genie_Transfer/Filtros/2011/crf/crf1811.Chn'),\n  WindowsPath('C:/Users/mmaduar/Nextcloud/Genie_Transfer/Filtros/2011/crf/crf1908.Chn'),\n  WindowsPath('C:/Users/mmaduar/Nextcloud/Genie_Transfer/Filtros/2011/crf/crf2005.Chn'),\n  WindowsPath('C:/Users/mmaduar/Nextcloud/Genie_Transfer/Filtros/2011/crf/crf2101.Chn'),\n  WindowsPath('C:/Users/mmaduar/Nextcloud/Genie_Transfer/Filtros/2011/crf/crf2110.Chn'),\n  WindowsPath('C:/Users/mmaduar/Nextcloud/Genie_Transfer/Filtros/2011/crf/crf2207.Chn'),\n  WindowsPath('C:/Users/mmaduar/Nextcloud/Genie_Transfer/Filtros/2011/crf/crf2309.Chn'),\n  WindowsPath('C:/Users/mmaduar/Nextcloud/Genie_Transfer/Filtros/2011/crf/crf2312.Chn'),\n  WindowsPath('C:/Users/mmaduar/Nextcloud/Genie_Transfer/Filtros/2011/crf/crf2406.Chn'),\n  WindowsPath('C:/Users/mmaduar/Nextcloud/Genie_Transfer/Filtros/2011/crf/crf2502.Chn'),\n  WindowsPath('C:/Users/mmaduar/Nextcloud/Genie_Transfer/Filtros/2011/crf/crf2503.Chn'),\n  WindowsPath('C:/Users/mmaduar/Nextcloud/Genie_Transfer/Filtros/2011/crf/crf2511.Chn'),\n  WindowsPath('C:/Users/mmaduar/Nextcloud/Genie_Transfer/Filtros/2011/crf/crf2608.Chn'),\n  WindowsPath('C:/Users/mmaduar/Nextcloud/Genie_Transfer/Filtros/2011/crf/crf2705.Chn'),\n  WindowsPath('C:/Users/mmaduar/Nextcloud/Genie_Transfer/Filtros/2011/crf/crf2801.Chn'),\n  WindowsPath('C:/Users/mmaduar/Nextcloud/Genie_Transfer/Filtros/2011/crf/crf2810.Chn'),\n  WindowsPath('C:/Users/mmaduar/Nextcloud/Genie_Transfer/Filtros/2011/crf/crf2904.Chn'),\n  WindowsPath('C:/Users/mmaduar/Nextcloud/Genie_Transfer/Filtros/2011/crf/crf2907.Chn'),\n  WindowsPath('C:/Users/mmaduar/Nextcloud/Genie_Transfer/Filtros/2011/crf/crf2912.Chn'),\n  WindowsPath('C:/Users/mmaduar/Nextcloud/Genie_Transfer/Filtros/2011/crf/crf3009.Chn'),\n  WindowsPath('C:/Users/mmaduar/Nextcloud/Genie_Transfer/Filtros/2011/crn/crn0104.Chn'),\n  WindowsPath('C:/Users/mmaduar/Nextcloud/Genie_Transfer/Filtros/2011/crn/crn0107-reco.CHN'),\n  WindowsPath('C:/Users/mmaduar/Nextcloud/Genie_Transfer/Filtros/2011/crn/crn0107.Chn'),\n  WindowsPath('C:/Users/mmaduar/Nextcloud/Genie_Transfer/Filtros/2011/crn/crn0209.Chn'),\n  WindowsPath('C:/Users/mmaduar/Nextcloud/Genie_Transfer/Filtros/2011/crn/crn0212.Chn'),\n  WindowsPath('C:/Users/mmaduar/Nextcloud/Genie_Transfer/Filtros/2011/crn/crn0306.Chn'),\n  WindowsPath('C:/Users/mmaduar/Nextcloud/Genie_Transfer/Filtros/2011/crn/crn0402.Chn'),\n  WindowsPath('C:/Users/mmaduar/Nextcloud/Genie_Transfer/Filtros/2011/crn/crn0403.Chn'),\n  WindowsPath('C:/Users/mmaduar/Nextcloud/Genie_Transfer/Filtros/2011/crn/crn0411.Chn'),\n  WindowsPath('C:/Users/mmaduar/Nextcloud/Genie_Transfer/Filtros/2011/crn/crn0508.Chn'),\n  WindowsPath('C:/Users/mmaduar/Nextcloud/Genie_Transfer/Filtros/2011/crn/crn0701.Chn'),\n  WindowsPath('C:/Users/mmaduar/Nextcloud/Genie_Transfer/Filtros/2011/crn/crn0710.Chn'),\n  WindowsPath('C:/Users/mmaduar/Nextcloud/Genie_Transfer/Filtros/2011/crn/crn0804.Chn'),\n  WindowsPath('C:/Users/mmaduar/Nextcloud/Genie_Transfer/Filtros/2011/crn/crn0909.Chn'),\n  WindowsPath('C:/Users/mmaduar/Nextcloud/Genie_Transfer/Filtros/2011/crn/crn0912.Chn'),\n  WindowsPath('C:/Users/mmaduar/Nextcloud/Genie_Transfer/Filtros/2011/crn/crn1006.Chn'),\n  WindowsPath('C:/Users/mmaduar/Nextcloud/Genie_Transfer/Filtros/2011/crn/crn1102.Chn'),\n  WindowsPath('C:/Users/mmaduar/Nextcloud/Genie_Transfer/Filtros/2011/crn/crn1103.Chn'),\n  WindowsPath('C:/Users/mmaduar/Nextcloud/Genie_Transfer/Filtros/2011/crn/crn1111.Chn'),\n  WindowsPath('C:/Users/mmaduar/Nextcloud/Genie_Transfer/Filtros/2011/crn/crn1208.Chn'),\n  WindowsPath('C:/Users/mmaduar/Nextcloud/Genie_Transfer/Filtros/2011/crn/crn1305.Chn'),\n  WindowsPath('C:/Users/mmaduar/Nextcloud/Genie_Transfer/Filtros/2011/crn/crn1401.Chn'),\n  WindowsPath('C:/Users/mmaduar/Nextcloud/Genie_Transfer/Filtros/2011/crn/crn1410.Chn'),\n  WindowsPath('C:/Users/mmaduar/Nextcloud/Genie_Transfer/Filtros/2011/crn/crn1504.Chn'),\n  WindowsPath('C:/Users/mmaduar/Nextcloud/Genie_Transfer/Filtros/2011/crn/crn1507.Chn'),\n  WindowsPath('C:/Users/mmaduar/Nextcloud/Genie_Transfer/Filtros/2011/crn/crn1609.Chn'),\n  WindowsPath('C:/Users/mmaduar/Nextcloud/Genie_Transfer/Filtros/2011/crn/crn1612.Chn'),\n  WindowsPath('C:/Users/mmaduar/Nextcloud/Genie_Transfer/Filtros/2011/crn/crn1706.Chn'),\n  WindowsPath('C:/Users/mmaduar/Nextcloud/Genie_Transfer/Filtros/2011/crn/crn1802.Chn'),\n  WindowsPath('C:/Users/mmaduar/Nextcloud/Genie_Transfer/Filtros/2011/crn/crn1803.Chn'),\n  WindowsPath('C:/Users/mmaduar/Nextcloud/Genie_Transfer/Filtros/2011/crn/crn1811.Chn'),\n  WindowsPath('C:/Users/mmaduar/Nextcloud/Genie_Transfer/Filtros/2011/crn/crn1908.Chn'),\n  WindowsPath('C:/Users/mmaduar/Nextcloud/Genie_Transfer/Filtros/2011/crn/crn2005.Chn'),\n  WindowsPath('C:/Users/mmaduar/Nextcloud/Genie_Transfer/Filtros/2011/crn/crn2101.Chn'),\n  WindowsPath('C:/Users/mmaduar/Nextcloud/Genie_Transfer/Filtros/2011/crn/crn2110.Chn'),\n  WindowsPath('C:/Users/mmaduar/Nextcloud/Genie_Transfer/Filtros/2011/crn/crn2207.Chn'),\n  WindowsPath('C:/Users/mmaduar/Nextcloud/Genie_Transfer/Filtros/2011/crn/crn2309.Chn'),\n  WindowsPath('C:/Users/mmaduar/Nextcloud/Genie_Transfer/Filtros/2011/crn/crn2312.Chn'),\n  WindowsPath('C:/Users/mmaduar/Nextcloud/Genie_Transfer/Filtros/2011/crn/crn2406.Chn'),\n  WindowsPath('C:/Users/mmaduar/Nextcloud/Genie_Transfer/Filtros/2011/crn/crn2502.Chn'),\n  WindowsPath('C:/Users/mmaduar/Nextcloud/Genie_Transfer/Filtros/2011/crn/crn2503.Chn'),\n  WindowsPath('C:/Users/mmaduar/Nextcloud/Genie_Transfer/Filtros/2011/crn/crn2511.Chn'),\n  WindowsPath('C:/Users/mmaduar/Nextcloud/Genie_Transfer/Filtros/2011/crn/crn2608.Chn'),\n  WindowsPath('C:/Users/mmaduar/Nextcloud/Genie_Transfer/Filtros/2011/crn/crn2705.Chn'),\n  WindowsPath('C:/Users/mmaduar/Nextcloud/Genie_Transfer/Filtros/2011/crn/crn2801.Chn'),\n  WindowsPath('C:/Users/mmaduar/Nextcloud/Genie_Transfer/Filtros/2011/crn/crn2810.Chn'),\n  WindowsPath('C:/Users/mmaduar/Nextcloud/Genie_Transfer/Filtros/2011/crn/crn2904.Chn'),\n  WindowsPath('C:/Users/mmaduar/Nextcloud/Genie_Transfer/Filtros/2011/crn/crn2907.Chn'),\n  WindowsPath('C:/Users/mmaduar/Nextcloud/Genie_Transfer/Filtros/2011/crn/crn2912.Chn'),\n  WindowsPath('C:/Users/mmaduar/Nextcloud/Genie_Transfer/Filtros/2011/crn/crn3009.Chn'),\n  WindowsPath('C:/Users/mmaduar/Nextcloud/Genie_Transfer/Filtros/2011/ctp/ctp0104.Chn'),\n  WindowsPath('C:/Users/mmaduar/Nextcloud/Genie_Transfer/Filtros/2011/ctp/ctp0107.Chn'),\n  WindowsPath('C:/Users/mmaduar/Nextcloud/Genie_Transfer/Filtros/2011/ctp/ctp0209.Chn'),\n  WindowsPath('C:/Users/mmaduar/Nextcloud/Genie_Transfer/Filtros/2011/ctp/ctp0212.Chn'),\n  WindowsPath('C:/Users/mmaduar/Nextcloud/Genie_Transfer/Filtros/2011/ctp/ctp0306.Chn'),\n  WindowsPath('C:/Users/mmaduar/Nextcloud/Genie_Transfer/Filtros/2011/ctp/ctp0402.Chn'),\n  WindowsPath('C:/Users/mmaduar/Nextcloud/Genie_Transfer/Filtros/2011/ctp/ctp0403.Chn'),\n  WindowsPath('C:/Users/mmaduar/Nextcloud/Genie_Transfer/Filtros/2011/ctp/ctp0411.Chn'),\n  WindowsPath('C:/Users/mmaduar/Nextcloud/Genie_Transfer/Filtros/2011/ctp/ctp0508.Chn'),\n  WindowsPath('C:/Users/mmaduar/Nextcloud/Genie_Transfer/Filtros/2011/ctp/ctp0605.Chn'),\n  WindowsPath('C:/Users/mmaduar/Nextcloud/Genie_Transfer/Filtros/2011/ctp/ctp0701.Chn'),\n  WindowsPath('C:/Users/mmaduar/Nextcloud/Genie_Transfer/Filtros/2011/ctp/ctp0710.Chn'),\n  WindowsPath('C:/Users/mmaduar/Nextcloud/Genie_Transfer/Filtros/2011/ctp/ctp0804.Chn'),\n  WindowsPath('C:/Users/mmaduar/Nextcloud/Genie_Transfer/Filtros/2011/ctp/ctp0909.Chn'),\n  WindowsPath('C:/Users/mmaduar/Nextcloud/Genie_Transfer/Filtros/2011/ctp/ctp0912.Chn'),\n  WindowsPath('C:/Users/mmaduar/Nextcloud/Genie_Transfer/Filtros/2011/ctp/ctp1006.Chn'),\n  WindowsPath('C:/Users/mmaduar/Nextcloud/Genie_Transfer/Filtros/2011/ctp/ctp1102.Chn'),\n  WindowsPath('C:/Users/mmaduar/Nextcloud/Genie_Transfer/Filtros/2011/ctp/ctp1103.Chn'),\n  WindowsPath('C:/Users/mmaduar/Nextcloud/Genie_Transfer/Filtros/2011/ctp/ctp1111.Chn'),\n  WindowsPath('C:/Users/mmaduar/Nextcloud/Genie_Transfer/Filtros/2011/ctp/ctp1208.Chn'),\n  WindowsPath('C:/Users/mmaduar/Nextcloud/Genie_Transfer/Filtros/2011/ctp/ctp1305.Chn'),\n  WindowsPath('C:/Users/mmaduar/Nextcloud/Genie_Transfer/Filtros/2011/ctp/ctp1401.Chn'),\n  WindowsPath('C:/Users/mmaduar/Nextcloud/Genie_Transfer/Filtros/2011/ctp/ctp1410.Chn'),\n  WindowsPath('C:/Users/mmaduar/Nextcloud/Genie_Transfer/Filtros/2011/ctp/ctp1504.Chn'),\n  WindowsPath('C:/Users/mmaduar/Nextcloud/Genie_Transfer/Filtros/2011/ctp/ctp1507.Chn'),\n  WindowsPath('C:/Users/mmaduar/Nextcloud/Genie_Transfer/Filtros/2011/ctp/ctp1609.Chn'),\n  WindowsPath('C:/Users/mmaduar/Nextcloud/Genie_Transfer/Filtros/2011/ctp/ctp1612.Chn'),\n  WindowsPath('C:/Users/mmaduar/Nextcloud/Genie_Transfer/Filtros/2011/ctp/ctp1706.Chn'),\n  WindowsPath('C:/Users/mmaduar/Nextcloud/Genie_Transfer/Filtros/2011/ctp/ctp1802.Chn'),\n  WindowsPath('C:/Users/mmaduar/Nextcloud/Genie_Transfer/Filtros/2011/ctp/ctp1803-2.Chn'),\n  WindowsPath('C:/Users/mmaduar/Nextcloud/Genie_Transfer/Filtros/2011/ctp/ctp1803.Chn'),\n  WindowsPath('C:/Users/mmaduar/Nextcloud/Genie_Transfer/Filtros/2011/ctp/ctp1811.Chn'),\n  WindowsPath('C:/Users/mmaduar/Nextcloud/Genie_Transfer/Filtros/2011/ctp/ctp1908.Chn'),\n  WindowsPath('C:/Users/mmaduar/Nextcloud/Genie_Transfer/Filtros/2011/ctp/ctp2005.Chn'),\n  WindowsPath('C:/Users/mmaduar/Nextcloud/Genie_Transfer/Filtros/2011/ctp/ctp2101.Chn'),\n  WindowsPath('C:/Users/mmaduar/Nextcloud/Genie_Transfer/Filtros/2011/ctp/ctp2110.Chn'),\n  WindowsPath('C:/Users/mmaduar/Nextcloud/Genie_Transfer/Filtros/2011/ctp/ctp2207.Chn'),\n  WindowsPath('C:/Users/mmaduar/Nextcloud/Genie_Transfer/Filtros/2011/ctp/ctp2309.Chn'),\n  WindowsPath('C:/Users/mmaduar/Nextcloud/Genie_Transfer/Filtros/2011/ctp/ctp2312.Chn'),\n  WindowsPath('C:/Users/mmaduar/Nextcloud/Genie_Transfer/Filtros/2011/ctp/ctp2406.Chn'),\n  WindowsPath('C:/Users/mmaduar/Nextcloud/Genie_Transfer/Filtros/2011/ctp/ctp2502.Chn'),\n  WindowsPath('C:/Users/mmaduar/Nextcloud/Genie_Transfer/Filtros/2011/ctp/ctp2503.Chn'),\n  WindowsPath('C:/Users/mmaduar/Nextcloud/Genie_Transfer/Filtros/2011/ctp/ctp2511.Chn'),\n  WindowsPath('C:/Users/mmaduar/Nextcloud/Genie_Transfer/Filtros/2011/ctp/ctp2608.Chn'),\n  WindowsPath('C:/Users/mmaduar/Nextcloud/Genie_Transfer/Filtros/2011/ctp/ctp2705.Chn'),\n  WindowsPath('C:/Users/mmaduar/Nextcloud/Genie_Transfer/Filtros/2011/ctp/ctp2801.Chn'),\n  WindowsPath('C:/Users/mmaduar/Nextcloud/Genie_Transfer/Filtros/2011/ctp/ctp2810.Chn'),\n  WindowsPath('C:/Users/mmaduar/Nextcloud/Genie_Transfer/Filtros/2011/ctp/ctp2904.Chn'),\n  WindowsPath('C:/Users/mmaduar/Nextcloud/Genie_Transfer/Filtros/2011/ctp/ctp2907.Chn'),\n  WindowsPath('C:/Users/mmaduar/Nextcloud/Genie_Transfer/Filtros/2011/ctp/ctp2912.Chn'),\n  WindowsPath('C:/Users/mmaduar/Nextcloud/Genie_Transfer/Filtros/2011/ctp/ctp3009.Chn'),\n  WindowsPath('C:/Users/mmaduar/Nextcloud/Genie_Transfer/Filtros/2011/pci/pci0106.Chn'),\n  WindowsPath('C:/Users/mmaduar/Nextcloud/Genie_Transfer/Filtros/2011/pci/pci0203.Chn'),\n  WindowsPath('C:/Users/mmaduar/Nextcloud/Genie_Transfer/Filtros/2011/pci/pci0302.Chn'),\n  WindowsPath('C:/Users/mmaduar/Nextcloud/Genie_Transfer/Filtros/2011/pci/pci0308.Chn'),\n  WindowsPath('C:/Users/mmaduar/Nextcloud/Genie_Transfer/Filtros/2011/pci/pci0311.Chn'),\n  WindowsPath('C:/Users/mmaduar/Nextcloud/Genie_Transfer/Filtros/2011/pci/pci0405.Chn'),\n  WindowsPath('C:/Users/mmaduar/Nextcloud/Genie_Transfer/Filtros/2011/pci/pci0501.Chn'),\n  WindowsPath('C:/Users/mmaduar/Nextcloud/Genie_Transfer/Filtros/2011/pci/pci0510.Chn'),\n  WindowsPath('C:/Users/mmaduar/Nextcloud/Genie_Transfer/Filtros/2011/pci/pci0604.Chn'),\n  WindowsPath('C:/Users/mmaduar/Nextcloud/Genie_Transfer/Filtros/2011/pci/pci0607.Chn'),\n  WindowsPath('C:/Users/mmaduar/Nextcloud/Genie_Transfer/Filtros/2011/pci/pci0712.Chn'),\n  WindowsPath('C:/Users/mmaduar/Nextcloud/Genie_Transfer/Filtros/2011/pci/pci0806.Chn'),\n  WindowsPath('C:/Users/mmaduar/Nextcloud/Genie_Transfer/Filtros/2011/pci/pci0902.Chn'),\n  WindowsPath('C:/Users/mmaduar/Nextcloud/Genie_Transfer/Filtros/2011/pci/pci1008.Chn'),\n  WindowsPath('C:/Users/mmaduar/Nextcloud/Genie_Transfer/Filtros/2011/pci/pci1011.Chn'),\n  WindowsPath('C:/Users/mmaduar/Nextcloud/Genie_Transfer/Filtros/2011/pci/pci1301.Chn'),\n  WindowsPath('C:/Users/mmaduar/Nextcloud/Genie_Transfer/Filtros/2011/pci/pci1304.Chn'),\n  ...],\n 'reduced_names_files_list': ['almera22/det_c/iaeaqcb.chn',\n  'almera22/det_c/iaeaqcc.chn',\n  'almera22/det_c/IAEASW1B.chn',\n  'almera22/det_c/iaeaw2a.chn',\n  'almera22/eur_g_p_xtraf/Spiked water Sample Code 01A  Det G.Chn',\n  'almera22/eur_g_p_xtraf/Spiked water Sample Code 01A  Det P.Chn',\n  'almera22/eur_g_p_xtraf/Spiked water Sample Code 01B Det Eurisys.Chn',\n  'almera22/eur_g_p_xtraf/Spiked water Sample Code 01B XtRa.Chn',\n  'almera22/eur_g_p_xtraf/Spiked water Sample Code 01C Eurisys.Chn',\n  'almera22/eur_g_p_xtraf/Spiked water Sample Code 02A  Det P.Chn',\n  'almera22/eur_g_p_xtraf/Spiked water Sample Code 02A  Eurisusys.Chn',\n  'almera22/eur_g_p_xtraf/Spiked water Sample Code 02C Det G.Chn',\n  'almera22/eur_g_p_xtraf/Spiked water Sample code 03A Det P.Chn',\n  'almera22/eur_g_p_xtraf/Spiked water Sample Code 03B Det G.Chn',\n  'almera22/eur_g_p_xtraf/Spiked water Sample Code 03C Det Eurisys.Chn',\n  'almera22/eur_g_p_xtraf/Spiked water Sample Code 03C XtRa.Chn',\n  'almera22/eur_g_p_xtraf/Spiked water Sample code QCA det XtRa.Chn',\n  'almera22/eur_g_p_xtraf/Spiked water Sample Code QCB Det Eurisys.Chn',\n  'almera22/eur_g_p_xtraf/Spiked water Sample Code QCB Det G.Chn',\n  'almera22/eur_g_p_xtraf/Spiked water Sample Code QCB Det XTRa.Chn',\n  'almera22/eur_g_p_xtraf/Spiked water Sample Code QCC Det P.Chn',\n  'Filtros/BGFILTRO.Chn',\n  'Filtros/Exaustor Dirf 20 julho 2016 SI 09816.Chn',\n  'Filtros/FC SAS DIRF 2007.Chn',\n  'Filtros/2009/cce/fcce0307.Chn',\n  'Filtros/2009/cce/fcce1408.Chn',\n  'Filtros/2009/cce/fcce1707.Chn',\n  'Filtros/2009/cce/fcce2708.Chn',\n  'Filtros/2009/cce/fcce3107.Chn',\n  'Filtros/2009/cci/cci0107.Chn',\n  'Filtros/2009/cci/cci0209.Chn',\n  'Filtros/2009/cci/cci0212.Chn',\n  'Filtros/2009/cci/cci0403.Chn',\n  'Filtros/2009/cci/cci0406.Chn',\n  'Filtros/2009/cci/cci0411.Chn',\n  'Filtros/2009/cci/cci0502.Chn',\n  'Filtros/2009/cci/cci0508.Chn',\n  'Filtros/2009/cci/cci0605.chn',\n  'Filtros/2009/cci/cci0701.Chn',\n  'Filtros/2009/cci/cci0710.Chn',\n  'Filtros/2009/cci/cci0804.Chn',\n  'Filtros/2009/cci/cci0807.Chn',\n  'Filtros/2009/cci/cci0909.Chn',\n  'Filtros/2009/cci/cci0912.Chn',\n  'Filtros/2009/cci/cci1006.Chn',\n  'Filtros/2009/cci/cci1103.Chn',\n  'Filtros/2009/cci/cci1111.Chn',\n  'Filtros/2009/cci/cci1208.Chn',\n  'Filtros/2009/cci/cci1305.Chn',\n  'Filtros/2009/cci/cci1410.Chn',\n  'Filtros/2009/cci/cci1504.Chn',\n  'Filtros/2009/cci/cci1507.Chn',\n  'Filtros/2009/cci/cci1609.Chn',\n  'Filtros/2009/cci/cci1706.Chn',\n  'Filtros/2009/cci/cci1803.Chn',\n  'Filtros/2009/cci/cci1811.Chn',\n  'Filtros/2009/cci/cci1908.Chn',\n  'Filtros/2009/cci/cci2005.Chn',\n  'Filtros/2009/cci/cci2101.Chn',\n  'Filtros/2009/cci/cci2110.Chn',\n  'Filtros/2009/cci/cci2207.Chn',\n  'Filtros/2009/cci/cci2309.Chn',\n  'Filtros/2009/cci/cci2406.Chn',\n  'Filtros/2009/cci/cci2503.Chn',\n  'Filtros/2009/cci/cci2511.Chn',\n  'Filtros/2009/cci/cci2608.Chn',\n  'Filtros/2009/cci/cci2801.Chn',\n  'Filtros/2009/cci/cci2810.Chn',\n  'Filtros/2009/cci/cci2907.chn',\n  'Filtros/2009/cci/cci2912.Chn',\n  'Filtros/2009/cci/cci3103.Chn',\n  'Filtros/2009/cci/xxi1006.Chn',\n  'Filtros/2009/ces/fces0109.Chn',\n  'Filtros/2009/ces/fces0408.Chn',\n  'Filtros/2009/ces/fces0707.Chn',\n  'Filtros/2009/ces/fces1808.Chn',\n  'Filtros/2009/ces/fces2107.Chn',\n  'Filtros/2009/crf/crf0210.Chn',\n  'Filtros/2009/crf/crf0304.Chn',\n  'Filtros/2009/crf/crf0307.Chn',\n  'Filtros/2009/crf/crf0409.Chn',\n  'Filtros/2009/crf/crf0412.Chn',\n  'Filtros/2009/crf/crf0506.Chn',\n  'Filtros/2009/crf/crf0602.Chn',\n  'Filtros/2009/crf/crf0603.Chn',\n  'Filtros/2009/crf/crf0611.Chn',\n  'Filtros/2009/crf/crf0708.Chn',\n  'Filtros/2009/crf/crf0901.Chn',\n  'Filtros/2009/crf/crf0904.Chn',\n  'Filtros/2009/crf/crf0910.Chn',\n  'Filtros/2009/crf/crf1007.Chn',\n  'Filtros/2009/crf/crf1109.Chn',\n  'Filtros/2009/crf/crf1112.Chn',\n  'Filtros/2009/crf/crf1206.Chn',\n  'Filtros/2009/crf/crf1302.Chn',\n  'Filtros/2009/crf/crf1303.Chn',\n  'Filtros/2009/crf/crf1311.Chn',\n  'Filtros/2009/crf/crf1408.Chn',\n  'Filtros/2009/crf/crf1505.Chn',\n  'Filtros/2009/crf/crf15052.Chn',\n  'Filtros/2009/crf/crf1601.Chn',\n  'Filtros/2009/crf/crf1610.Chn',\n  'Filtros/2009/crf/crf1704.Chn',\n  'Filtros/2009/crf/crf1707.chn',\n  'Filtros/2009/crf/crf1809.Chn',\n  'Filtros/2009/crf/crf1812.Chn',\n  'Filtros/2009/crf/crf1906.Chn',\n  'Filtros/2009/crf/crf1911.Chn',\n  'Filtros/2009/crf/crf2002.Chn',\n  'Filtros/2009/crf/crf2003.Chn',\n  'Filtros/2009/crf/crf2108.Chn',\n  'Filtros/2009/crf/crf2205.Chn',\n  'Filtros/2009/crf/crf2301.Chn',\n  'Filtros/2009/crf/crf2310.Chn',\n  'Filtros/2009/crf/crf2312.Chn',\n  'Filtros/2009/crf/crf2404.Chn',\n  'Filtros/2009/crf/crf2407.Chn',\n  'Filtros/2009/crf/crf2509.Chn',\n  'Filtros/2009/crf/crf2606.Chn',\n  'Filtros/2009/crf/crf2702.Chn',\n  'Filtros/2009/crf/crf2703.Chn',\n  'Filtros/2009/crf/crf2711.Chn',\n  'Filtros/2009/crf/crf2808.Chn',\n  'Filtros/2009/crf/crf2905.Chn',\n  'Filtros/2009/crf/crf3001.Chn',\n  'Filtros/2009/crf/crf3004.Chn',\n  'Filtros/2009/crf/crf3010.Chn',\n  'Filtros/2009/crf/crf3107.Chn',\n  'Filtros/2009/crn/crn0210.Chn',\n  'Filtros/2009/crn/crn0304.Chn',\n  'Filtros/2009/crn/crn0307.Chn',\n  'Filtros/2009/crn/crn0409.Chn',\n  'Filtros/2009/crn/crn0412.Chn',\n  'Filtros/2009/crn/crn0506.Chn',\n  'Filtros/2009/crn/crn0602.Chn',\n  'Filtros/2009/crn/crn0603.Chn',\n  'Filtros/2009/crn/crn0611.Chn',\n  'Filtros/2009/crn/crn0708.Chn',\n  'Filtros/2009/crn/crn0805.Chn',\n  'Filtros/2009/crn/crn0901.Chn',\n  'Filtros/2009/crn/crn0904.Chn',\n  'Filtros/2009/crn/crn0910.Chn',\n  'Filtros/2009/crn/crn1007.Chn',\n  'Filtros/2009/crn/crn1109.Chn',\n  'Filtros/2009/crn/crn1112.Chn',\n  'Filtros/2009/crn/crn1206.Chn',\n  'Filtros/2009/crn/crn1302.Chn',\n  'Filtros/2009/crn/crn1303.Chn',\n  'Filtros/2009/crn/crn1311.Chn',\n  'Filtros/2009/crn/crn1408.Chn',\n  'Filtros/2009/crn/crn1505.Chn',\n  'Filtros/2009/crn/crn1601.Chn',\n  'Filtros/2009/crn/crn1610.Chn',\n  'Filtros/2009/crn/crn1704.Chn',\n  'Filtros/2009/crn/crn1707.Chn',\n  'Filtros/2009/crn/crn1809.Chn',\n  'Filtros/2009/crn/crn1812.Chn',\n  'Filtros/2009/crn/crn1906.Chn',\n  'Filtros/2009/crn/crn1911.Chn',\n  'Filtros/2009/crn/crn2002.Chn',\n  'Filtros/2009/crn/crn2003.Chn',\n  'Filtros/2009/crn/crn2108.Chn',\n  'Filtros/2009/crn/crn2205.Chn',\n  'Filtros/2009/crn/crn2301.Chn',\n  'Filtros/2009/crn/crn2310.Chn',\n  'Filtros/2009/crn/crn2312.Chn',\n  'Filtros/2009/crn/crn2404.Chn',\n  'Filtros/2009/crn/CRN2407.CHN',\n  'Filtros/2009/crn/crn2509.Chn',\n  'Filtros/2009/crn/CRN2606.Chn',\n  'Filtros/2009/crn/crn2702.Chn',\n  'Filtros/2009/crn/crn2703.Chn',\n  'Filtros/2009/crn/crn2711.Chn',\n  'Filtros/2009/crn/crn2808.Chn',\n  'Filtros/2009/crn/crn2905.Chn',\n  'Filtros/2009/crn/crn3001.Chn',\n  'Filtros/2009/crn/crn3004.Chn',\n  'Filtros/2009/crn/crn3010.Chn',\n  'Filtros/2009/crn/crn3107.chn',\n  'Filtros/2009/ctp/ctp0201.Chn',\n  'Filtros/2009/ctp/ctp0210.Chn',\n  'Filtros/2009/ctp/ctp0304.Chn',\n  'Filtros/2009/ctp/ctp0307.Chn',\n  'Filtros/2009/ctp/ctp0409.Chn',\n  'Filtros/2009/ctp/ctp0412.Chn',\n  'Filtros/2009/ctp/ctp0506.Chn',\n  'Filtros/2009/ctp/ctp0602.Chn',\n  'Filtros/2009/ctp/ctp0603.Chn',\n  'Filtros/2009/ctp/ctp0611.Chn',\n  'Filtros/2009/ctp/ctp0708.Chn',\n  'Filtros/2009/ctp/ctp0901.Chn',\n  'Filtros/2009/ctp/ctp0904.Chn',\n  'Filtros/2009/ctp/ctp0910.Chn',\n  'Filtros/2009/ctp/ctp1007.Chn',\n  'Filtros/2009/ctp/ctp1109.Chn',\n  'Filtros/2009/ctp/ctp1112.Chn',\n  'Filtros/2009/ctp/ctp1206.Chn',\n  'Filtros/2009/ctp/ctp1302.Chn',\n  'Filtros/2009/ctp/ctp1303.Chn',\n  'Filtros/2009/ctp/ctp1311.Chn',\n  'Filtros/2009/ctp/ctp1408.Chn',\n  'Filtros/2009/ctp/ctp1505.Chn',\n  'Filtros/2009/ctp/ctp15052.Chn',\n  'Filtros/2009/ctp/ctp1601.Chn',\n  'Filtros/2009/ctp/ctp1610.Chn',\n  'Filtros/2009/ctp/ctp1704.Chn',\n  'Filtros/2009/ctp/ctp1707.chn',\n  'Filtros/2009/ctp/ctp1809.Chn',\n  'Filtros/2009/ctp/ctp1812.Chn',\n  'Filtros/2009/ctp/ctp1906.Chn',\n  'Filtros/2009/ctp/ctp1911.Chn',\n  'Filtros/2009/ctp/ctp2002.Chn',\n  'Filtros/2009/ctp/ctp2003.Chn',\n  'Filtros/2009/ctp/ctp2108.Chn',\n  'Filtros/2009/ctp/ctp2205.Chn',\n  'Filtros/2009/ctp/ctp2301.Chn',\n  'Filtros/2009/ctp/ctp2310.Chn',\n  'Filtros/2009/ctp/ctp2312.Chn',\n  'Filtros/2009/ctp/ctp2404.Chn',\n  'Filtros/2009/ctp/ctp2407.Chn',\n  'Filtros/2009/ctp/ctp2509.Chn',\n  'Filtros/2009/ctp/ctp2606.Chn',\n  'Filtros/2009/ctp/ctp2702.Chn',\n  'Filtros/2009/ctp/ctp2703.Chn',\n  'Filtros/2009/ctp/ctp2711.Chn',\n  'Filtros/2009/ctp/ctp2808.Chn',\n  'Filtros/2009/ctp/ctp2905.Chn',\n  'Filtros/2009/ctp/ctp3001.Chn',\n  'Filtros/2009/ctp/ctp3004.Chn',\n  'Filtros/2009/ctp/ctp3010.Chn',\n  'Filtros/2009/ctp/ctp3107.Chn',\n  'Filtros/2009/ctr/fctr0409.Chn',\n  'Filtros/2009/ctr/fctr0708.Chn',\n  'Filtros/2009/ctr/fctr1007.Chn',\n  'Filtros/2009/ctr/fctr2108.Chn',\n  'Filtros/2009/ctr/fctr2407.Chn',\n  'Filtros/2009/pci/pci0107.Chn',\n  'Filtros/2009/pci/pci0209.Chn',\n  'Filtros/2009/pci/pci0212.Chn',\n  'Filtros/2009/pci/pci0403.Chn',\n  'Filtros/2009/pci/pci0406.Chn',\n  'Filtros/2009/pci/pci0411.Chn',\n  'Filtros/2009/pci/pci0502.Chn',\n  'Filtros/2009/pci/pci0508.Chn',\n  'Filtros/2009/pci/pci0605.Chn',\n  'Filtros/2009/pci/pci0701.Chn',\n  'Filtros/2009/pci/pci0710.Chn',\n  'Filtros/2009/pci/pci0804.Chn',\n  'Filtros/2009/pci/pci0807.Chn',\n  'Filtros/2009/pci/pci0909.Chn',\n  'Filtros/2009/pci/pci0912.Chn',\n  'Filtros/2009/pci/pci1006.Chn',\n  'Filtros/2009/pci/pci1103.Chn',\n  'Filtros/2009/pci/pci1111.Chn',\n  'Filtros/2009/pci/pci1208.Chn',\n  'Filtros/2009/pci/pci1305.Chn',\n  'Filtros/2009/pci/pci1410.Chn',\n  'Filtros/2009/pci/pci1504.Chn',\n  'Filtros/2009/pci/pci1507.Chn',\n  'Filtros/2009/pci/pci1609.Chn',\n  'Filtros/2009/pci/PCI1706.Chn',\n  'Filtros/2009/pci/pci1803.Chn',\n  'Filtros/2009/pci/pci1811.Chn',\n  'Filtros/2009/pci/pci1908.Chn',\n  'Filtros/2009/pci/pci2005.Chn',\n  'Filtros/2009/pci/pci2101.Chn',\n  'Filtros/2009/pci/pci2110.Chn',\n  'Filtros/2009/pci/pci2207.Chn',\n  'Filtros/2009/pci/pci2309.Chn',\n  'Filtros/2009/pci/pci2406.Chn',\n  'Filtros/2009/pci/pci2503.Chn',\n  'Filtros/2009/pci/pci2511.Chn',\n  'Filtros/2009/pci/pci2608.Chn',\n  'Filtros/2009/pci/pci2801.Chn',\n  'Filtros/2009/pci/pci2810.Chn',\n  'Filtros/2009/pci/pci2907.chn',\n  'Filtros/2009/pci/pci2912.Chn',\n  'Filtros/2009/pci/pci3103.Chn',\n  'Filtros/2009/prf/prf0210.Chn',\n  'Filtros/2009/prf/prf0304.Chn',\n  'Filtros/2009/prf/prf0307.Chn',\n  'Filtros/2009/prf/prf0409.Chn',\n  'Filtros/2009/prf/prf0412.Chn',\n  'Filtros/2009/prf/prf0506.Chn',\n  'Filtros/2009/prf/prf0602.Chn',\n  'Filtros/2009/prf/prf0603.Chn',\n  'Filtros/2009/prf/prf0611.Chn',\n  'Filtros/2009/prf/prf0708.Chn',\n  'Filtros/2009/prf/prf0805.Chn',\n  'Filtros/2009/prf/prf0904.Chn',\n  'Filtros/2009/prf/prf0910.Chn',\n  'Filtros/2009/prf/prf1007.Chn',\n  'Filtros/2009/prf/prf1109.Chn',\n  'Filtros/2009/prf/prf1112.Chn',\n  'Filtros/2009/prf/prf1206.Chn',\n  'Filtros/2009/prf/prf1302.Chn',\n  'Filtros/2009/prf/prf1303.Chn',\n  'Filtros/2009/prf/prf1311.Chn',\n  'Filtros/2009/prf/prf1408.Chn',\n  'Filtros/2009/prf/prf1505.chn',\n  'Filtros/2009/prf/prf1601.Chn',\n  'Filtros/2009/prf/prf1610.Chn',\n  'Filtros/2009/prf/prf1704.Chn',\n  'Filtros/2009/prf/prf1707.chn',\n  'Filtros/2009/prf/prf1809.Chn',\n  'Filtros/2009/prf/prf1812.Chn',\n  'Filtros/2009/prf/prf1906.Chn',\n  'Filtros/2009/prf/prf1911.Chn',\n  'Filtros/2009/prf/PRF2002.Chn',\n  'Filtros/2009/prf/prf2003.Chn',\n  'Filtros/2009/prf/prf2108.Chn',\n  'Filtros/2009/prf/prf2205.Chn',\n  'Filtros/2009/prf/prf2301.Chn',\n  'Filtros/2009/prf/prf2310.Chn',\n  'Filtros/2009/prf/prf2312.Chn',\n  'Filtros/2009/prf/prf2404.Chn',\n  'Filtros/2009/prf/prf2407.chn',\n  'Filtros/2009/prf/prf2509.Chn',\n  'Filtros/2009/prf/prf2606.Chn',\n  'Filtros/2009/prf/prf2702.Chn',\n  'Filtros/2009/prf/prf2703.Chn',\n  'Filtros/2009/prf/prf2711.Chn',\n  'Filtros/2009/prf/prf2808.Chn',\n  'Filtros/2009/prf/prf2905.chn',\n  'Filtros/2009/prf/prf3001.Chn',\n  'Filtros/2009/prf/prf3004.Chn',\n  'Filtros/2009/prf/prf3010.Chn',\n  'Filtros/2009/prf/prf3107.Chn',\n  'Filtros/2009/ptp/ptp0304.Chn',\n  'Filtros/2009/ptp/ptp0307.Chn',\n  'Filtros/2009/ptp/ptp0409.Chn',\n  'Filtros/2009/ptp/ptp0412.Chn',\n  'Filtros/2009/ptp/ptp0506.Chn',\n  'Filtros/2009/ptp/ptp0602.Chn',\n  'Filtros/2009/ptp/ptp0603.Chn',\n  'Filtros/2009/ptp/ptp0611.Chn',\n  'Filtros/2009/ptp/ptp0708.Chn',\n  'Filtros/2009/ptp/ptp0805.Chn',\n  'Filtros/2009/ptp/ptp0901.Chn',\n  'Filtros/2009/ptp/ptp0904.Chn',\n  'Filtros/2009/ptp/ptp0910.Chn',\n  'Filtros/2009/ptp/ptp1007.Chn',\n  'Filtros/2009/ptp/ptp1109.Chn',\n  'Filtros/2009/ptp/ptp1112.Chn',\n  'Filtros/2009/ptp/ptp1206.Chn',\n  'Filtros/2009/ptp/ptp1302.Chn',\n  'Filtros/2009/ptp/ptp1303.Chn',\n  'Filtros/2009/ptp/ptp1311.Chn',\n  'Filtros/2009/ptp/ptp1408.Chn',\n  'Filtros/2009/ptp/ptp1505.chn',\n  'Filtros/2009/ptp/ptp1601.Chn',\n  'Filtros/2009/ptp/ptp1610.Chn',\n  'Filtros/2009/ptp/ptp1704.Chn',\n  'Filtros/2009/ptp/ptp1707.chn',\n  'Filtros/2009/ptp/ptp1809.Chn',\n  'Filtros/2009/ptp/ptp1812.Chn',\n  'Filtros/2009/ptp/ptp1906.Chn',\n  'Filtros/2009/ptp/ptp1911.Chn',\n  'Filtros/2009/ptp/ptp2002.Chn',\n  'Filtros/2009/ptp/ptp2003.Chn',\n  'Filtros/2009/ptp/ptp2108.Chn',\n  'Filtros/2009/ptp/ptp2205.Chn',\n  'Filtros/2009/ptp/ptp2301.Chn',\n  'Filtros/2009/ptp/ptp2310.Chn',\n  'Filtros/2009/ptp/ptp2312.Chn',\n  'Filtros/2009/ptp/ptp2404.Chn',\n  'Filtros/2009/ptp/ptp2407.chn',\n  'Filtros/2009/ptp/ptp2509.Chn',\n  'Filtros/2009/ptp/ptp2606.Chn',\n  'Filtros/2009/ptp/ptp2702.Chn',\n  'Filtros/2009/ptp/ptp2703.Chn',\n  'Filtros/2009/ptp/ptp2711.Chn',\n  'Filtros/2009/ptp/ptp2808.Chn',\n  'Filtros/2009/ptp/ptp2905.Chn',\n  'Filtros/2009/ptp/ptp3001.Chn',\n  'Filtros/2009/ptp/ptp3004.Chn',\n  'Filtros/2009/ptp/ptp3010.Chn',\n  'Filtros/2009/ptp/ptp3040.Chn',\n  'Filtros/2009/ptp/ptp3107.Chn',\n  'Filtros/2009/rnp/prn0210.Chn',\n  'Filtros/2009/rnp/prn0304.Chn',\n  'Filtros/2009/rnp/prn0307.Chn',\n  'Filtros/2009/rnp/prn0409.Chn',\n  'Filtros/2009/rnp/prn0412.Chn',\n  'Filtros/2009/rnp/prn0506.Chn',\n  'Filtros/2009/rnp/prn0602.Chn',\n  'Filtros/2009/rnp/prn0603.Chn',\n  'Filtros/2009/rnp/prn0611.Chn',\n  'Filtros/2009/rnp/prn0708.Chn',\n  'Filtros/2009/rnp/PRN0805.Chn',\n  'Filtros/2009/rnp/prn0901.Chn',\n  'Filtros/2009/rnp/prn0904.Chn',\n  'Filtros/2009/rnp/prn0910.Chn',\n  'Filtros/2009/rnp/prn1007.Chn',\n  'Filtros/2009/rnp/prn1109.Chn',\n  'Filtros/2009/rnp/prn1112.Chn',\n  'Filtros/2009/rnp/prn1206.Chn',\n  'Filtros/2009/rnp/prn1302.Chn',\n  'Filtros/2009/rnp/prn1303.Chn',\n  'Filtros/2009/rnp/prn1311.Chn',\n  'Filtros/2009/rnp/prn1408.Chn',\n  'Filtros/2009/rnp/prn1505.Chn',\n  'Filtros/2009/rnp/prn1601.Chn',\n  'Filtros/2009/rnp/prn1610.Chn',\n  'Filtros/2009/rnp/prn1704.Chn',\n  'Filtros/2009/rnp/prn1707.chn',\n  'Filtros/2009/rnp/prn1809.Chn',\n  'Filtros/2009/rnp/prn1812.Chn',\n  'Filtros/2009/rnp/prn1906.Chn',\n  'Filtros/2009/rnp/prn1911.Chn',\n  'Filtros/2009/rnp/prn2002.Chn',\n  'Filtros/2009/rnp/prn2003.Chn',\n  'Filtros/2009/rnp/prn2108.Chn',\n  'Filtros/2009/rnp/prn2205.Chn',\n  'Filtros/2009/rnp/prn2301.Chn',\n  'Filtros/2009/rnp/prn2310.Chn',\n  'Filtros/2009/rnp/prn2312.Chn',\n  'Filtros/2009/rnp/prn2404.Chn',\n  'Filtros/2009/rnp/prn2407.chn',\n  'Filtros/2009/rnp/prn2509.Chn',\n  'Filtros/2009/rnp/prn2606.Chn',\n  'Filtros/2009/rnp/PRN2702.Chn',\n  'Filtros/2009/rnp/prn2703.Chn',\n  'Filtros/2009/rnp/prn2711.Chn',\n  'Filtros/2009/rnp/prn2808.Chn',\n  'Filtros/2009/rnp/prn2905.Chn',\n  'Filtros/2009/rnp/prn3001.Chn',\n  'Filtros/2009/rnp/prn3004.Chn',\n  'Filtros/2009/rnp/prn3010.Chn',\n  'Filtros/2009/rnp/prn3107.Chn',\n  'Filtros/2010/cci/cci 2306.Chn',\n  'Filtros/2010/cci/cci0109.Chn',\n  'Filtros/2010/cci/cci0112.Chn',\n  'Filtros/2010/cci/cci0206.Chn',\n  'Filtros/2010/cci/cci0303.Chn',\n  'Filtros/2010/cci/cci0311.Chn',\n  'Filtros/2010/cci/cci0508.Chn',\n  'Filtros/2010/cci/cci0601.Chn',\n  'Filtros/2010/cci/cci0610.Chn',\n  'Filtros/2010/cci/cci0707.Chn',\n  'Filtros/2010/cci/cci0804.Chn',\n  'Filtros/2010/cci/cci0812.Chn',\n  'Filtros/2010/cci/cci0906.Chn',\n  'Filtros/2010/cci/cci1002.Chn',\n  'Filtros/2010/cci/cci1011.Chn',\n  'Filtros/2010/cci/cci1103.Chn',\n  'Filtros/2010/cci/cci1108.Chn',\n  'Filtros/2010/cci/cci1310.Chn',\n  'Filtros/2010/cci/cci1404.Chn',\n  'Filtros/2010/cci/cci1407.Chn',\n  'Filtros/2010/cci/cci1512.Chn',\n  'Filtros/2010/cci/cci1606.Chn',\n  'Filtros/2010/cci/cci1611.Chn',\n  'Filtros/2010/cci/cci1703.Chn',\n  'Filtros/2010/cci/cci1808.Chn',\n  'Filtros/2010/cci/cci1905.Chn',\n  'Filtros/2010/cci/cci2001.Chn',\n  'Filtros/2010/cci/cci2010.Chn',\n  'Filtros/2010/cci/cci2107.Chn',\n  'Filtros/2010/cci/cci2402.Chn',\n  'Filtros/2010/cci/cci2403.Chn',\n  'Filtros/2010/cci/cci2411.Chn',\n  'Filtros/2010/cci/cci2508.Chn',\n  'Filtros/2010/cci/cci2701.Chn',\n  'Filtros/2010/cci/cci2904.Chn',\n  'Filtros/2010/cci/cci3103.Chn',\n  'Filtros/2010/cci/pci1002.Chn',\n  'Filtros/2010/ces/ces0202.Chn',\n  'Filtros/2010/crf/crf0104.Chn',\n  'Filtros/2010/crf/crf0107.Chn',\n  'Filtros/2010/crf/crf0110.Chn',\n  'Filtros/2010/crf/crf0206.Chn',\n  'Filtros/2010/crf/crf0309.Chn',\n  'Filtros/2010/crf/crf0312.Chn',\n  'Filtros/2010/crf/crf0502.Chn',\n  'Filtros/2010/crf/crf0503.Chn',\n  'Filtros/2010/crf/crf0511.Chn',\n  'Filtros/2010/crf/crf0705.Chn',\n  'Filtros/2010/crf/crf0801.Chn',\n  'Filtros/2010/crf/crf0807.Chn',\n  'Filtros/2010/crf/crf0810.Chn',\n  'Filtros/2010/crf/crf0904.Chn',\n  'Filtros/2010/crf/crf1009.Chn',\n  'Filtros/2010/crf/crf1012.Chn',\n  'Filtros/2010/crf/crf1106.Chn',\n  'Filtros/2010/crf/crf1202.Chn',\n  'Filtros/2010/crf/crf1203.Chn',\n  'Filtros/2010/crf/crf1211.Chn',\n  'Filtros/2010/crf/crf1308.Chn',\n  'Filtros/2010/crf/crf1405.Chn',\n  'Filtros/2010/crf/crf1501.Chn',\n  'Filtros/2010/crf/crf1510.Chn',\n  'Filtros/2010/crf/crf1604.Chn',\n  'Filtros/2010/crf/crf1607.Chn',\n  'Filtros/2010/crf/crf1709.Chn',\n  'Filtros/2010/crf/crf1712.Chn',\n  'Filtros/2010/crf/crf1806.Chn',\n  'Filtros/2010/crf/crf1902.Chn',\n  'Filtros/2010/crf/crf1903.Chn',\n  'Filtros/2010/crf/crf1911.Chn',\n  'Filtros/2010/crf/crf2008.Chn',\n  'Filtros/2010/crf/crf2105.Chn',\n  'Filtros/2010/crf/crf2201.Chn',\n  'Filtros/2010/crf/crf2210.Chn',\n  'Filtros/2010/crf/crf2304.Chn',\n  'Filtros/2010/crf/crf2307.Chn',\n  'Filtros/2010/crf/crf2312.Chn',\n  'Filtros/2010/crf/crf2406.Chn',\n  'Filtros/2010/crf/crf2409.Chn',\n  'Filtros/2010/crf/crf2602.Chn',\n  'Filtros/2010/crf/crf2603.Chn',\n  'Filtros/2010/crf/crf2611.Chn',\n  'Filtros/2010/crf/crf2708.Chn',\n  'Filtros/2010/crf/crf2805.Chn',\n  'Filtros/2010/crf/crf2901.Chn',\n  'Filtros/2010/crf/crf2910.Chn',\n  'Filtros/2010/crf/crf3004.Chn',\n  'Filtros/2010/crf/crf3007.Chn',\n  'Filtros/2010/crf/crf3012.Chn',\n  'Filtros/2010/crn/crf0608.Chn',\n  'Filtros/2010/crn/crn0104.Chn',\n  'Filtros/2010/crn/crn0107.Chn',\n  'Filtros/2010/crn/crn0110.Chn',\n  'Filtros/2010/crn/crn0206.Chn',\n  'Filtros/2010/crn/crn0309.Chn',\n  'Filtros/2010/crn/crn0312.Chn',\n  'Filtros/2010/crn/crn0502.Chn',\n  'Filtros/2010/crn/crn0503.Chn',\n  'Filtros/2010/crn/crn0511.Chn',\n  'Filtros/2010/crn/crn0608.Chn',\n  'Filtros/2010/crn/crn0705.Chn',\n  'Filtros/2010/crn/crn0801.Chn',\n  'Filtros/2010/crn/crn0807.Chn',\n  'Filtros/2010/crn/crn0810.Chn',\n  'Filtros/2010/crn/crn0904.Chn',\n  'Filtros/2010/crn/crn1009.Chn',\n  'Filtros/2010/crn/crn1012.Chn',\n  'Filtros/2010/crn/crn1106.Chn',\n  'Filtros/2010/crn/crn1202.Chn',\n  'Filtros/2010/crn/crn1203.Chn',\n  'Filtros/2010/crn/crn1211.Chn',\n  'Filtros/2010/crn/crn1308.Chn',\n  'Filtros/2010/crn/crn1405.Chn',\n  'Filtros/2010/crn/crn1501.Chn',\n  'Filtros/2010/crn/crn1510.Chn',\n  'Filtros/2010/crn/crn1601.Chn',\n  'Filtros/2010/crn/crn1604.Chn',\n  'Filtros/2010/crn/crn1607.Chn',\n  'Filtros/2010/crn/crn1709.Chn',\n  'Filtros/2010/crn/crn1712.Chn',\n  'Filtros/2010/crn/crn1902.Chn',\n  'Filtros/2010/crn/crn1903.Chn',\n  'Filtros/2010/crn/crn1911.Chn',\n  'Filtros/2010/crn/crn2008.Chn',\n  'Filtros/2010/crn/crn2105.Chn',\n  'Filtros/2010/crn/crn2201.Chn',\n  'Filtros/2010/crn/crn2210.Chn',\n  'Filtros/2010/crn/crn2304.Chn',\n  'Filtros/2010/crn/crn2307.Chn',\n  'Filtros/2010/crn/crn2312.Chn',\n  'Filtros/2010/crn/crn2406.Chn',\n  'Filtros/2010/crn/crn2409.Chn',\n  'Filtros/2010/crn/crn2602.Chn',\n  'Filtros/2010/crn/crn2603.Chn',\n  'Filtros/2010/crn/crn2611.Chn',\n  'Filtros/2010/crn/crn2708.Chn',\n  'Filtros/2010/crn/crn2805.Chn',\n  'Filtros/2010/crn/crn2901.Chn',\n  'Filtros/2010/crn/crn2910.Chn',\n  'Filtros/2010/crn/crn3004.Chn',\n  'Filtros/2010/crn/crn3007.Chn',\n  'Filtros/2010/crn/crn3012.Chn',\n  'Filtros/2010/ctp/cpt0309.Chn',\n  'Filtros/2010/ctp/cpt1806.Chn',\n  'Filtros/2010/ctp/ctp0107.Chn',\n  'Filtros/2010/ctp/ctp0110.Chn',\n  'Filtros/2010/ctp/ctp0206.Chn',\n  'Filtros/2010/ctp/ctp0312.Chn',\n  'Filtros/2010/ctp/ctp0502.Chn',\n  'Filtros/2010/ctp/ctp0511.Chn',\n  'Filtros/2010/ctp/ctp0608.Chn',\n  'Filtros/2010/ctp/ctp0705.Chn',\n  'Filtros/2010/ctp/ctp0801.Chn',\n  'Filtros/2010/ctp/ctp0807.Chn',\n  'Filtros/2010/ctp/ctp0810.Chn',\n  'Filtros/2010/ctp/ctp0903.Chn',\n  'Filtros/2010/ctp/ctp0904.Chn',\n  'Filtros/2010/ctp/ctp1009.Chn',\n  'Filtros/2010/ctp/ctp1012.Chn',\n  'Filtros/2010/ctp/ctp1106.Chn',\n  'Filtros/2010/ctp/ctp1202.Chn',\n  'Filtros/2010/ctp/ctp1203.Chn',\n  'Filtros/2010/ctp/ctp1211.Chn',\n  'Filtros/2010/ctp/ctp1211a.Chn',\n  'Filtros/2010/ctp/ctp1308.Chn',\n  'Filtros/2010/ctp/ctp1405.Chn',\n  'Filtros/2010/ctp/ctp1501.Chn',\n  'Filtros/2010/ctp/ctp1510.Chn',\n  'Filtros/2010/ctp/ctp1604.Chn',\n  'Filtros/2010/ctp/ctp1607.Chn',\n  'Filtros/2010/ctp/ctp1709.Chn',\n  'Filtros/2010/ctp/ctp1712.Chn',\n  'Filtros/2010/ctp/ctp1902.Chn',\n  'Filtros/2010/ctp/ctp1903.Chn',\n  'Filtros/2010/ctp/ctp1911.Chn',\n  'Filtros/2010/ctp/ctp2008.Chn',\n  'Filtros/2010/ctp/ctp2105.Chn',\n  'Filtros/2010/ctp/ctp2201.Chn',\n  'Filtros/2010/ctp/ctp2210.Chn',\n  'Filtros/2010/ctp/ctp2304.Chn',\n  'Filtros/2010/ctp/ctp2307.Chn',\n  'Filtros/2010/ctp/ctp2312.Chn',\n  'Filtros/2010/ctp/ctp2406.Chn',\n  'Filtros/2010/ctp/ctp2409.Chn',\n  'Filtros/2010/ctp/ctp2602.Chn',\n  'Filtros/2010/ctp/ctp2603.Chn',\n  'Filtros/2010/ctp/ctp2611.Chn',\n  'Filtros/2010/ctp/ctp2708.Chn',\n  'Filtros/2010/ctp/ctp2805.Chn',\n  'Filtros/2010/ctp/ctp2901.Chn',\n  'Filtros/2010/ctp/ctp2910.Chn',\n  'Filtros/2010/ctp/ctp3004.Chn',\n  'Filtros/2010/ctp/ctp3007.Chn',\n  'Filtros/2010/ctp/ctp3012.Chn',\n  'Filtros/2010/pci/pci0109.Chn',\n  'Filtros/2010/pci/pci0112.Chn',\n  'Filtros/2010/pci/pci0206.Chn',\n  'Filtros/2010/pci/pci0303.Chn',\n  'Filtros/2010/pci/pci0311.Chn',\n  'Filtros/2010/pci/pci0508.Chn',\n  'Filtros/2010/pci/pci0601.Chn',\n  'Filtros/2010/pci/pci0610.Chn',\n  'Filtros/2010/pci/pci0707.Chn',\n  'Filtros/2010/pci/pci0804.Chn',\n  'Filtros/2010/pci/pci0812.Chn',\n  'Filtros/2010/pci/pci0906.Chn',\n  'Filtros/2010/pci/pci1011.Chn',\n  'Filtros/2010/pci/pci1103.Chn',\n  'Filtros/2010/pci/pci1108.Chn',\n  'Filtros/2010/pci/pci1310.Chn',\n  'Filtros/2010/pci/pci1404.Chn',\n  'Filtros/2010/pci/pci1407.Chn',\n  'Filtros/2010/pci/pci1512.Chn',\n  'Filtros/2010/pci/pci1606.Chn',\n  'Filtros/2010/pci/pci1611.Chn',\n  'Filtros/2010/pci/pci1703.Chn',\n  'Filtros/2010/pci/pci1808.Chn',\n  'Filtros/2010/pci/pci1905.Chn',\n  'Filtros/2010/pci/pci2001.Chn',\n  'Filtros/2010/pci/pci2010.Chn',\n  'Filtros/2010/pci/pci2107.Chn',\n  'Filtros/2010/pci/pci2306.Chn',\n  'Filtros/2010/pci/pci2402.Chn',\n  'Filtros/2010/pci/pci2403.Chn',\n  'Filtros/2010/pci/pci2411.Chn',\n  'Filtros/2010/pci/pci2508.Chn',\n  'Filtros/2010/pci/pci2701.Chn',\n  'Filtros/2010/pci/pci2904.Chn',\n  'Filtros/2010/pci/pci3103.Chn',\n  'Filtros/2010/prf/prf 0608.Chn',\n  'Filtros/2010/prf/prf0104.Chn',\n  'Filtros/2010/prf/prf0107.Chn',\n  'Filtros/2010/prf/prf0110.Chn',\n  'Filtros/2010/prf/prf0206.Chn',\n  'Filtros/2010/prf/prf0309.Chn',\n  'Filtros/2010/prf/prf0312.Chn',\n  'Filtros/2010/prf/prf0502.Chn',\n  'Filtros/2010/prf/prf0503.Chn',\n  'Filtros/2010/prf/prf0705.Chn',\n  'Filtros/2010/prf/prf0801.Chn',\n  'Filtros/2010/prf/prf0807.Chn',\n  'Filtros/2010/prf/prf0810.Chn',\n  'Filtros/2010/prf/prf0904.Chn',\n  'Filtros/2010/prf/prf1009.Chn',\n  'Filtros/2010/prf/PRF1012.Chn',\n  'Filtros/2010/prf/prf1106.Chn',\n  'Filtros/2010/prf/prf1202.Chn',\n  'Filtros/2010/prf/prf1203.Chn',\n  'Filtros/2010/prf/prf1308.Chn',\n  'Filtros/2010/prf/prf1405.Chn',\n  'Filtros/2010/prf/prf1510.Chn',\n  'Filtros/2010/prf/prf1604.Chn',\n  'Filtros/2010/prf/prf1607.Chn',\n  'Filtros/2010/prf/prf1709.Chn',\n  'Filtros/2010/prf/prf1712.Chn',\n  'Filtros/2010/prf/prf1806.Chn',\n  'Filtros/2010/prf/prf1902.Chn',\n  'Filtros/2010/prf/prf1903.Chn',\n  'Filtros/2010/prf/prf2105.Chn',\n  'Filtros/2010/prf/prf2201.Chn',\n  'Filtros/2010/prf/prf2307.Chn',\n  'Filtros/2010/prf/prf2312.Chn',\n  'Filtros/2010/prf/prf2406.Chn',\n  'Filtros/2010/prf/prf2409.Chn',\n  'Filtros/2010/prf/prf2602.Chn',\n  'Filtros/2010/prf/prf2603.Chn',\n  'Filtros/2010/prf/prf2611.Chn',\n  'Filtros/2010/prf/prf2708.Chn',\n  'Filtros/2010/prf/prf2805.Chn',\n  'Filtros/2010/prf/prf2901.Chn',\n  'Filtros/2010/prf/prf3004.Chn',\n  'Filtros/2010/prf/prf3007.Chn',\n  'Filtros/2010/prf/prf3012.Chn',\n  'Filtros/2010/ptp/ptp0107.Chn',\n  'Filtros/2010/ptp/ptp0110.Chn',\n  'Filtros/2010/ptp/ptp0206.Chn',\n  'Filtros/2010/ptp/ptp0309.Chn',\n  'Filtros/2010/ptp/ptp0312.Chn',\n  'Filtros/2010/ptp/ptp0502.Chn',\n  'Filtros/2010/ptp/ptp0503.Chn',\n  'Filtros/2010/ptp/ptp0608.Chn',\n  'Filtros/2010/ptp/ptp0705.Chn',\n  'Filtros/2010/ptp/ptp0801.Chn',\n  'Filtros/2010/ptp/ptp0807.Chn',\n  'Filtros/2010/ptp/ptp0810.Chn',\n  'Filtros/2010/ptp/ptp0904.Chn',\n  'Filtros/2010/ptp/ptp1009.Chn',\n  'Filtros/2010/ptp/ptp1012.Chn',\n  'Filtros/2010/ptp/ptp1106.Chn',\n  'Filtros/2010/ptp/ptp1202.Chn',\n  'Filtros/2010/ptp/ptp1203.Chn',\n  'Filtros/2010/ptp/ptp1308.Chn',\n  'Filtros/2010/ptp/ptp1405.Chn',\n  'Filtros/2010/ptp/ptp1501.Chn',\n  'Filtros/2010/ptp/ptp1604.Chn',\n  'Filtros/2010/ptp/ptp1607.Chn',\n  'Filtros/2010/ptp/ptp1709.Chn',\n  'Filtros/2010/ptp/ptp1712.Chn',\n  'Filtros/2010/ptp/ptp1902.Chn',\n  'Filtros/2010/ptp/ptp1903.Chn',\n  'Filtros/2010/ptp/ptp2008.Chn',\n  'Filtros/2010/ptp/ptp2105.Chn',\n  'Filtros/2010/ptp/ptp2201.Chn',\n  'Filtros/2010/ptp/ptp2307.Chn',\n  'Filtros/2010/ptp/ptp2312.Chn',\n  'Filtros/2010/ptp/ptp2406.Chn',\n  'Filtros/2010/ptp/ptp2409.Chn',\n  'Filtros/2010/ptp/ptp2603.Chn',\n  'Filtros/2010/ptp/ptp2611.Chn',\n  'Filtros/2010/ptp/ptp2708.Chn',\n  'Filtros/2010/ptp/ptp2805.Chn',\n  'Filtros/2010/ptp/ptp2901.Chn',\n  'Filtros/2010/ptp/ptp3004.Chn',\n  'Filtros/2010/ptp/ptp3007.Chn',\n  'Filtros/2010/ptp/ptp3012.Chn',\n  'Filtros/2010/rnp/prn0104.Chn',\n  'Filtros/2010/rnp/prn0107.Chn',\n  'Filtros/2010/rnp/prn0110.Chn',\n  'Filtros/2010/rnp/prn0206.Chn',\n  'Filtros/2010/rnp/prn0309.Chn',\n  'Filtros/2010/rnp/prn0312.Chn',\n  'Filtros/2010/rnp/prn0502.Chn',\n  'Filtros/2010/rnp/prn0503.Chn',\n  'Filtros/2010/rnp/prn0608.Chn',\n  'Filtros/2010/rnp/prn0705.Chn',\n  'Filtros/2010/rnp/prn0801.Chn',\n  'Filtros/2010/rnp/prn0807.Chn',\n  'Filtros/2010/rnp/prn0904.Chn',\n  'Filtros/2010/rnp/prn1009.Chn',\n  'Filtros/2010/rnp/prn1012.Chn',\n  'Filtros/2010/rnp/prn1106.Chn',\n  'Filtros/2010/rnp/prn1202.Chn',\n  'Filtros/2010/rnp/prn1203.Chn',\n  'Filtros/2010/rnp/prn1308.Chn',\n  'Filtros/2010/rnp/prn1405.Chn',\n  'Filtros/2010/rnp/prn1501.Chn',\n  'Filtros/2010/rnp/prn1604.Chn',\n  'Filtros/2010/rnp/prn1607.Chn',\n  'Filtros/2010/rnp/prn1709.Chn',\n  'Filtros/2010/rnp/prn1712.Chn',\n  'Filtros/2010/rnp/prn1806.Chn',\n  'Filtros/2010/rnp/prn1902.Chn',\n  'Filtros/2010/rnp/prn1903.Chn',\n  'Filtros/2010/rnp/PRN2008.Chn',\n  'Filtros/2010/rnp/prn2105.Chn',\n  'Filtros/2010/rnp/prn2201.Chn',\n  'Filtros/2010/rnp/prn2307.Chn',\n  'Filtros/2010/rnp/prn2312.Chn',\n  'Filtros/2010/rnp/prn2406.Chn',\n  'Filtros/2010/rnp/prn2409.Chn',\n  'Filtros/2010/rnp/prn2602.Chn',\n  'Filtros/2010/rnp/prn2603.Chn',\n  'Filtros/2010/rnp/prn2611.Chn',\n  'Filtros/2010/rnp/prn2708.Chn',\n  'Filtros/2010/rnp/prn2805.Chn',\n  'Filtros/2010/rnp/prn2901.Chn',\n  'Filtros/2010/rnp/prn3004.Chn',\n  'Filtros/2010/rnp/prn3007.Chn',\n  'Filtros/2010/rnp/prn3012.Chn',\n  'Filtros/2011/cci/cci0106.Chn',\n  'Filtros/2011/cci/cci0203.Chn',\n  'Filtros/2011/cci/cci0302.Chn',\n  'Filtros/2011/cci/cci0308.Chn',\n  'Filtros/2011/cci/cci0311.Chn',\n  'Filtros/2011/cci/cci0405.Chn',\n  'Filtros/2011/cci/cci0501.Chn',\n  'Filtros/2011/cci/cci0510.Chn',\n  'Filtros/2011/cci/cci0604.Chn',\n  'Filtros/2011/cci/cci0607.Chn',\n  'Filtros/2011/cci/cci0712.Chn',\n  'Filtros/2011/cci/cci0806.Chn',\n  'Filtros/2011/cci/cci0902.Chn',\n  'Filtros/2011/cci/cci1008.Chn',\n  'Filtros/2011/cci/cci1011.Chn',\n  'Filtros/2011/cci/cci1301.Chn',\n  'Filtros/2011/cci/cci1304.Chn',\n  'Filtros/2011/cci/cci1307.Chn',\n  'Filtros/2011/cci/cci1409.Chn',\n  'Filtros/2011/cci/cci1412.Chn',\n  'Filtros/2011/cci/cci1506.Chn',\n  'Filtros/2011/cci/cci1602.Chn',\n  'Filtros/2011/cci/cci1611.Chn',\n  'Filtros/2011/cci/CCI1703.Chn',\n  'Filtros/2011/cci/cci1708.Chn',\n  'Filtros/2011/cci/cci1901.Chn',\n  'Filtros/2011/cci/cci1910.Chn',\n  'Filtros/2011/cci/cci2007.Chn',\n  'Filtros/2011/cci/cci2206.Chn',\n  'Filtros/2011/cci/cci2209.Chn',\n  'Filtros/2011/cci/cci2212.Chn',\n  'Filtros/2011/cci/cci2302.Chn',\n  'Filtros/2011/cci/cci2311.Chn',\n  'Filtros/2011/cci/cci2408.Chn',\n  'Filtros/2011/cci/cci2505.Chn',\n  'Filtros/2011/cci/cci2601.Chn',\n  'Filtros/2011/cci/cci2610.Chn',\n  'Filtros/2011/cci/cci2704.Chn',\n  'Filtros/2011/cci/cci2707.Chn',\n  'Filtros/2011/cci/cci2809.Chn',\n  'Filtros/2011/cci/cci2906.Chn',\n  'Filtros/2011/cci/cci3003.Chn',\n  'Filtros/2011/cci/cci3108.Chn',\n  'Filtros/2011/crf/crf0104.Chn',\n  'Filtros/2011/crf/crf0107.Chn',\n  'Filtros/2011/crf/crf0209.Chn',\n  'Filtros/2011/crf/crf0212.Chn',\n  'Filtros/2011/crf/crf0306.Chn',\n  'Filtros/2011/crf/crf0402.Chn',\n  'Filtros/2011/crf/crf0403.Chn',\n  'Filtros/2011/crf/crf0411.Chn',\n  'Filtros/2011/crf/crf0508.Chn',\n  'Filtros/2011/crf/crf0605.Chn',\n  'Filtros/2011/crf/crf0701.Chn',\n  'Filtros/2011/crf/crf0710.Chn',\n  'Filtros/2011/crf/crf0804.Chn',\n  'Filtros/2011/crf/crf0909.Chn',\n  'Filtros/2011/crf/crf0912.Chn',\n  'Filtros/2011/crf/crf1006.Chn',\n  'Filtros/2011/crf/crf1102.Chn',\n  'Filtros/2011/crf/crf1103.Chn',\n  'Filtros/2011/crf/crf1111.Chn',\n  'Filtros/2011/crf/crf1208.Chn',\n  'Filtros/2011/crf/crf1305.Chn',\n  'Filtros/2011/crf/crf1401.Chn',\n  'Filtros/2011/crf/crf1410.Chn',\n  'Filtros/2011/crf/crf1504.Chn',\n  'Filtros/2011/crf/crf1507.Chn',\n  'Filtros/2011/crf/crf1609.Chn',\n  'Filtros/2011/crf/crf1612.Chn',\n  'Filtros/2011/crf/crf1706.Chn',\n  'Filtros/2011/crf/crf1802.Chn',\n  'Filtros/2011/crf/crf1803.Chn',\n  'Filtros/2011/crf/crf1811.Chn',\n  'Filtros/2011/crf/crf1908.Chn',\n  'Filtros/2011/crf/crf2005.Chn',\n  'Filtros/2011/crf/crf2101.Chn',\n  'Filtros/2011/crf/crf2110.Chn',\n  'Filtros/2011/crf/crf2207.Chn',\n  'Filtros/2011/crf/crf2309.Chn',\n  'Filtros/2011/crf/crf2312.Chn',\n  'Filtros/2011/crf/crf2406.Chn',\n  'Filtros/2011/crf/crf2502.Chn',\n  'Filtros/2011/crf/crf2503.Chn',\n  'Filtros/2011/crf/crf2511.Chn',\n  'Filtros/2011/crf/crf2608.Chn',\n  'Filtros/2011/crf/crf2705.Chn',\n  'Filtros/2011/crf/crf2801.Chn',\n  'Filtros/2011/crf/crf2810.Chn',\n  'Filtros/2011/crf/crf2904.Chn',\n  'Filtros/2011/crf/crf2907.Chn',\n  'Filtros/2011/crf/crf2912.Chn',\n  'Filtros/2011/crf/crf3009.Chn',\n  'Filtros/2011/crn/crn0104.Chn',\n  'Filtros/2011/crn/crn0107-reco.CHN',\n  'Filtros/2011/crn/crn0107.Chn',\n  'Filtros/2011/crn/crn0209.Chn',\n  'Filtros/2011/crn/crn0212.Chn',\n  'Filtros/2011/crn/crn0306.Chn',\n  'Filtros/2011/crn/crn0402.Chn',\n  'Filtros/2011/crn/crn0403.Chn',\n  'Filtros/2011/crn/crn0411.Chn',\n  'Filtros/2011/crn/crn0508.Chn',\n  'Filtros/2011/crn/crn0701.Chn',\n  'Filtros/2011/crn/crn0710.Chn',\n  'Filtros/2011/crn/crn0804.Chn',\n  'Filtros/2011/crn/crn0909.Chn',\n  'Filtros/2011/crn/crn0912.Chn',\n  'Filtros/2011/crn/crn1006.Chn',\n  'Filtros/2011/crn/crn1102.Chn',\n  'Filtros/2011/crn/crn1103.Chn',\n  'Filtros/2011/crn/crn1111.Chn',\n  'Filtros/2011/crn/crn1208.Chn',\n  'Filtros/2011/crn/crn1305.Chn',\n  'Filtros/2011/crn/crn1401.Chn',\n  'Filtros/2011/crn/crn1410.Chn',\n  'Filtros/2011/crn/crn1504.Chn',\n  'Filtros/2011/crn/crn1507.Chn',\n  'Filtros/2011/crn/crn1609.Chn',\n  'Filtros/2011/crn/crn1612.Chn',\n  'Filtros/2011/crn/crn1706.Chn',\n  'Filtros/2011/crn/crn1802.Chn',\n  'Filtros/2011/crn/crn1803.Chn',\n  'Filtros/2011/crn/crn1811.Chn',\n  'Filtros/2011/crn/crn1908.Chn',\n  'Filtros/2011/crn/crn2005.Chn',\n  'Filtros/2011/crn/crn2101.Chn',\n  'Filtros/2011/crn/crn2110.Chn',\n  'Filtros/2011/crn/crn2207.Chn',\n  'Filtros/2011/crn/crn2309.Chn',\n  'Filtros/2011/crn/crn2312.Chn',\n  'Filtros/2011/crn/crn2406.Chn',\n  'Filtros/2011/crn/crn2502.Chn',\n  'Filtros/2011/crn/crn2503.Chn',\n  'Filtros/2011/crn/crn2511.Chn',\n  'Filtros/2011/crn/crn2608.Chn',\n  'Filtros/2011/crn/crn2705.Chn',\n  'Filtros/2011/crn/crn2801.Chn',\n  'Filtros/2011/crn/crn2810.Chn',\n  'Filtros/2011/crn/crn2904.Chn',\n  'Filtros/2011/crn/crn2907.Chn',\n  'Filtros/2011/crn/crn2912.Chn',\n  'Filtros/2011/crn/crn3009.Chn',\n  'Filtros/2011/ctp/ctp0104.Chn',\n  'Filtros/2011/ctp/ctp0107.Chn',\n  'Filtros/2011/ctp/ctp0209.Chn',\n  'Filtros/2011/ctp/ctp0212.Chn',\n  'Filtros/2011/ctp/ctp0306.Chn',\n  'Filtros/2011/ctp/ctp0402.Chn',\n  'Filtros/2011/ctp/ctp0403.Chn',\n  'Filtros/2011/ctp/ctp0411.Chn',\n  'Filtros/2011/ctp/ctp0508.Chn',\n  'Filtros/2011/ctp/ctp0605.Chn',\n  'Filtros/2011/ctp/ctp0701.Chn',\n  'Filtros/2011/ctp/ctp0710.Chn',\n  'Filtros/2011/ctp/ctp0804.Chn',\n  'Filtros/2011/ctp/ctp0909.Chn',\n  'Filtros/2011/ctp/ctp0912.Chn',\n  'Filtros/2011/ctp/ctp1006.Chn',\n  'Filtros/2011/ctp/ctp1102.Chn',\n  'Filtros/2011/ctp/ctp1103.Chn',\n  'Filtros/2011/ctp/ctp1111.Chn',\n  'Filtros/2011/ctp/ctp1208.Chn',\n  'Filtros/2011/ctp/ctp1305.Chn',\n  'Filtros/2011/ctp/ctp1401.Chn',\n  'Filtros/2011/ctp/ctp1410.Chn',\n  'Filtros/2011/ctp/ctp1504.Chn',\n  'Filtros/2011/ctp/ctp1507.Chn',\n  'Filtros/2011/ctp/ctp1609.Chn',\n  'Filtros/2011/ctp/ctp1612.Chn',\n  'Filtros/2011/ctp/ctp1706.Chn',\n  'Filtros/2011/ctp/ctp1802.Chn',\n  'Filtros/2011/ctp/ctp1803-2.Chn',\n  'Filtros/2011/ctp/ctp1803.Chn',\n  'Filtros/2011/ctp/ctp1811.Chn',\n  'Filtros/2011/ctp/ctp1908.Chn',\n  'Filtros/2011/ctp/ctp2005.Chn',\n  'Filtros/2011/ctp/ctp2101.Chn',\n  'Filtros/2011/ctp/ctp2110.Chn',\n  'Filtros/2011/ctp/ctp2207.Chn',\n  'Filtros/2011/ctp/ctp2309.Chn',\n  'Filtros/2011/ctp/ctp2312.Chn',\n  'Filtros/2011/ctp/ctp2406.Chn',\n  'Filtros/2011/ctp/ctp2502.Chn',\n  'Filtros/2011/ctp/ctp2503.Chn',\n  'Filtros/2011/ctp/ctp2511.Chn',\n  'Filtros/2011/ctp/ctp2608.Chn',\n  'Filtros/2011/ctp/ctp2705.Chn',\n  'Filtros/2011/ctp/ctp2801.Chn',\n  'Filtros/2011/ctp/ctp2810.Chn',\n  'Filtros/2011/ctp/ctp2904.Chn',\n  'Filtros/2011/ctp/ctp2907.Chn',\n  'Filtros/2011/ctp/ctp2912.Chn',\n  'Filtros/2011/ctp/ctp3009.Chn',\n  'Filtros/2011/pci/pci0106.Chn',\n  'Filtros/2011/pci/pci0203.Chn',\n  'Filtros/2011/pci/pci0302.Chn',\n  'Filtros/2011/pci/pci0308.Chn',\n  'Filtros/2011/pci/pci0311.Chn',\n  'Filtros/2011/pci/pci0405.Chn',\n  'Filtros/2011/pci/pci0501.Chn',\n  'Filtros/2011/pci/pci0510.Chn',\n  'Filtros/2011/pci/pci0604.Chn',\n  'Filtros/2011/pci/pci0607.Chn',\n  'Filtros/2011/pci/pci0712.Chn',\n  'Filtros/2011/pci/pci0806.Chn',\n  'Filtros/2011/pci/pci0902.Chn',\n  'Filtros/2011/pci/pci1008.Chn',\n  'Filtros/2011/pci/pci1011.Chn',\n  'Filtros/2011/pci/pci1301.Chn',\n  'Filtros/2011/pci/pci1304.Chn',\n  ...],\n 'spectra_pattern_names': ['**/*.[Cc][Hh][Nn]', '**/*.[Ii][Ee][Cc]'],\n 'a_spec': <spec_class.Spec at 0x191b0b9f610>}"
     },
     "execution_count": 17,
     "metadata": {},
     "output_type": "execute_result"
    }
   ],
   "source": [
    "vars(ogra)"
   ],
   "metadata": {
    "collapsed": false
   }
  },
  {
   "cell_type": "code",
   "execution_count": 18,
   "outputs": [
    {
     "name": "stdout",
     "output_type": "stream",
     "text": [
      "índice do espectro na lista: 6789\n"
     ]
    },
    {
     "data": {
      "text/plain": "'Si/SI2022/SI09722.Chn'"
     },
     "execution_count": 18,
     "metadata": {},
     "output_type": "execute_result"
    }
   ],
   "source": [
    "# 2022-Dez-28\n",
    "print(f'índice do espectro na lista: {ogra.a_spec_ind}')\n",
    "ogra.reduced_names_files_list[ogra.a_spec_ind]"
   ],
   "metadata": {
    "collapsed": false
   }
  },
  {
   "cell_type": "code",
   "execution_count": 19,
   "metadata": {},
   "outputs": [],
   "source": [
    "# 2022-Dez-28: Atualizar:\n",
    "# (2022-Jun-24 Lembrando como estão os defaults de total_analysis(...):\n",
    "# def total_analysis(self, k_sep_pk=2.0, smoo=3000.0, widths_range=(4.0, 20.0)):)\n",
    "# smoo=3000 fica razoável, mas faz umas ondas\n",
    "# smoo=1500 fica horrível, faz uns abismos. Quanto menor, pior\n",
    "# smoo=400 fica razoável, mas faz umas ondas\n",
    "# ogra.perform_total_analysis(\n",
    "#     k_sep_pk=2.0, smoo=4096, widths_range=(4.0, 20.0)\n",
    "# )"
   ]
  },
  {
   "cell_type": "code",
   "execution_count": 28,
   "outputs": [
    {
     "data": {
      "text/plain": "reduced_f_name       object\npeaks                 int64\nini_wide_regions      int32\nfin_wide_regions      int32\nfwhm_centr          float64\ncentroids           float64\nrough_sums          float64\npeak_heights        float64\nleft_thresholds     float64\nright_thresholds    float64\nprominences         float64\nleft_bases            int64\nright_bases           int64\nwidth_heights       float64\nleft_ips            float64\nright_ips           float64\nwidths              float64\nvariances           float64\ndtype: object"
     },
     "execution_count": 28,
     "metadata": {},
     "output_type": "execute_result"
    }
   ],
   "source": [
    "ogra.a_spec.spec_pks_df.dtypes"
   ],
   "metadata": {
    "collapsed": false
   }
  },
  {
   "cell_type": "code",
   "execution_count": 29,
   "metadata": {},
   "outputs": [
    {
     "data": {
      "text/plain": "'<table border=\"1\" class=\"dataframe\">\\n  <thead>\\n    <tr style=\"text-align: right;\">\\n      <th></th>\\n      <th>peaks</th>\\n      <th>centroids</th>\\n      <th>rough_sums</th>\\n    </tr>\\n  </thead>\\n  <tbody>\\n    <tr>\\n      <th>0</th>\\n      <td>40</td>\\n      <td>40.347871</td>\\n      <td>341.646930</td>\\n    </tr>\\n    <tr>\\n      <th>1</th>\\n      <td>53</td>\\n      <td>52.486985</td>\\n      <td>942.836374</td>\\n    </tr>\\n    <tr>\\n      <th>2</th>\\n      <td>57</td>\\n      <td>56.625467</td>\\n      <td>413.220851</td>\\n    </tr>\\n    <tr>\\n      <th>3</th>\\n      <td>136</td>\\n      <td>135.942795</td>\\n      <td>1589.581515</td>\\n    </tr>\\n    <tr>\\n      <th>4</th>\\n      <td>139</td>\\n      <td>139.025035</td>\\n      <td>2151.211150</td>\\n    </tr>\\n    <tr>\\n      <th>5</th>\\n      <td>155</td>\\n      <td>155.246472</td>\\n      <td>1055.478802</td>\\n    </tr>\\n    <tr>\\n      <th>6</th>\\n      <td>159</td>\\n      <td>159.240496</td>\\n      <td>373.078305</td>\\n    </tr>\\n    <tr>\\n      <th>7</th>\\n      <td>246</td>\\n      <td>245.015684</td>\\n      <td>563.540523</td>\\n    </tr>\\n    <tr>\\n      <th>8</th>\\n      <td>407</td>\\n      <td>406.607155</td>\\n      <td>651.824339</td>\\n    </tr>\\n    <tr>\\n      <th>9</th>\\n      <td>593</td>\\n      <td>592.741703</td>\\n      <td>324.235512</td>\\n    </tr>\\n    <tr>\\n      <th>10</th>\\n      <td>830</td>\\n      <td>830.369425</td>\\n      <td>297.649278</td>\\n    </tr>\\n    <tr>\\n      <th>11</th>\\n      <td>853</td>\\n      <td>853.040863</td>\\n      <td>3978.816767</td>\\n    </tr>\\n    <tr>\\n      <th>12</th>\\n      <td>971</td>\\n      <td>971.508104</td>\\n      <td>688.531211</td>\\n    </tr>\\n    <tr>\\n      <th>13</th>\\n      <td>1014</td>\\n      <td>1014.165252</td>\\n      <td>942.897469</td>\\n    </tr>\\n    <tr>\\n      <th>14</th>\\n      <td>1094</td>\\n      <td>1093.556325</td>\\n      <td>587.005994</td>\\n    </tr>\\n    <tr>\\n      <th>15</th>\\n      <td>1268</td>\\n      <td>1267.878060</td>\\n      <td>75.443034</td>\\n    </tr>\\n    <tr>\\n      <th>16</th>\\n      <td>1344</td>\\n      <td>1344.137701</td>\\n      <td>4358.824849</td>\\n    </tr>\\n    <tr>\\n      <th>17</th>\\n      <td>1384</td>\\n      <td>1383.969862</td>\\n      <td>185.777922</td>\\n    </tr>\\n    <tr>\\n      <th>18</th>\\n      <td>1466</td>\\n      <td>1465.296016</td>\\n      <td>371.187687</td>\\n    </tr>\\n    <tr>\\n      <th>19</th>\\n      <td>1509</td>\\n      <td>1508.855958</td>\\n      <td>498.251649</td>\\n    </tr>\\n    <tr>\\n      <th>20</th>\\n      <td>1552</td>\\n      <td>1551.926199</td>\\n      <td>232.823027</td>\\n    </tr>\\n    <tr>\\n      <th>21</th>\\n      <td>1604</td>\\n      <td>1603.651918</td>\\n      <td>396.879271</td>\\n    </tr>\\n    <tr>\\n      <th>22</th>\\n      <td>1843</td>\\n      <td>1842.715078</td>\\n      <td>431.309571</td>\\n    </tr>\\n    <tr>\\n      <th>23</th>\\n      <td>1851</td>\\n      <td>1850.965468</td>\\n      <td>402.652671</td>\\n    </tr>\\n    <tr>\\n      <th>24</th>\\n      <td>1938</td>\\n      <td>1937.891821</td>\\n      <td>9640.048330</td>\\n    </tr>\\n    <tr>\\n      <th>25</th>\\n      <td>2044</td>\\n      <td>2044.817755</td>\\n      <td>91.418206</td>\\n    </tr>\\n    <tr>\\n      <th>26</th>\\n      <td>2199</td>\\n      <td>2198.777009</td>\\n      <td>8705.493937</td>\\n    </tr>\\n    <tr>\\n      <th>27</th>\\n      <td>2409</td>\\n      <td>2409.252785</td>\\n      <td>3278.930459</td>\\n    </tr>\\n    <tr>\\n      <th>28</th>\\n      <td>2618</td>\\n      <td>2617.943763</td>\\n      <td>117.575499</td>\\n    </tr>\\n    <tr>\\n      <th>29</th>\\n      <td>2625</td>\\n      <td>2625.432192</td>\\n      <td>184.251898</td>\\n    </tr>\\n    <tr>\\n      <th>30</th>\\n      <td>2907</td>\\n      <td>2906.560469</td>\\n      <td>367.863746</td>\\n    </tr>\\n    <tr>\\n      <th>31</th>\\n      <td>3462</td>\\n      <td>3461.661554</td>\\n      <td>148.478718</td>\\n    </tr>\\n    <tr>\\n      <th>32</th>\\n      <td>3626</td>\\n      <td>3626.280810</td>\\n      <td>120.994140</td>\\n    </tr>\\n    <tr>\\n      <th>33</th>\\n      <td>4001</td>\\n      <td>4002.435195</td>\\n      <td>76.392060</td>\\n    </tr>\\n    <tr>\\n      <th>34</th>\\n      <td>4026</td>\\n      <td>4025.754557</td>\\n      <td>59.707840</td>\\n    </tr>\\n  </tbody>\\n</table>'"
     },
     "execution_count": 29,
     "metadata": {},
     "output_type": "execute_result"
    }
   ],
   "source": [
    "# 2022-Dez-28\n",
    "# Testes com conversão de pandas df .to_html\n",
    "# Teste 1: html direto\n",
    "df_to_html = ogra.a_spec.spec_pks_df.to_html(columns=['peaks', 'centroids', 'rough_sums'])\n",
    "df_to_html"
   ]
  },
  {
   "cell_type": "code",
   "execution_count": 21,
   "outputs": [
    {
     "data": {
      "text/plain": "<IPython.core.display.HTML object>",
      "text/html": "<table border=\"1\" class=\"dataframe\">\n  <thead>\n    <tr style=\"text-align: right;\">\n      <th></th>\n      <th>peaks</th>\n      <th>centroids</th>\n      <th>rough_sums</th>\n    </tr>\n  </thead>\n  <tbody>\n    <tr>\n      <th>0</th>\n      <td>&lt;b&gt;40&lt;/b&gt;</td>\n      <td>40.347871</td>\n      <td>&lt;i&gt;341.64693042498936&lt;/i&gt;</td>\n    </tr>\n    <tr>\n      <th>1</th>\n      <td>&lt;b&gt;53&lt;/b&gt;</td>\n      <td>52.486985</td>\n      <td>&lt;i&gt;942.836373872366&lt;/i&gt;</td>\n    </tr>\n    <tr>\n      <th>2</th>\n      <td>&lt;b&gt;57&lt;/b&gt;</td>\n      <td>56.625467</td>\n      <td>&lt;i&gt;413.2208512288305&lt;/i&gt;</td>\n    </tr>\n    <tr>\n      <th>3</th>\n      <td>&lt;b&gt;136&lt;/b&gt;</td>\n      <td>135.942795</td>\n      <td>&lt;i&gt;1589.5815152407927&lt;/i&gt;</td>\n    </tr>\n    <tr>\n      <th>4</th>\n      <td>&lt;b&gt;139&lt;/b&gt;</td>\n      <td>139.025035</td>\n      <td>&lt;i&gt;2151.211150490217&lt;/i&gt;</td>\n    </tr>\n    <tr>\n      <th>5</th>\n      <td>&lt;b&gt;155&lt;/b&gt;</td>\n      <td>155.246472</td>\n      <td>&lt;i&gt;1055.4788024304344&lt;/i&gt;</td>\n    </tr>\n    <tr>\n      <th>6</th>\n      <td>&lt;b&gt;159&lt;/b&gt;</td>\n      <td>159.240496</td>\n      <td>&lt;i&gt;373.07830543417367&lt;/i&gt;</td>\n    </tr>\n    <tr>\n      <th>7</th>\n      <td>&lt;b&gt;246&lt;/b&gt;</td>\n      <td>245.015684</td>\n      <td>&lt;i&gt;563.5405232693327&lt;/i&gt;</td>\n    </tr>\n    <tr>\n      <th>8</th>\n      <td>&lt;b&gt;407&lt;/b&gt;</td>\n      <td>406.607155</td>\n      <td>&lt;i&gt;651.8243388396772&lt;/i&gt;</td>\n    </tr>\n    <tr>\n      <th>9</th>\n      <td>&lt;b&gt;593&lt;/b&gt;</td>\n      <td>592.741703</td>\n      <td>&lt;i&gt;324.2355124179985&lt;/i&gt;</td>\n    </tr>\n    <tr>\n      <th>10</th>\n      <td>&lt;b&gt;830&lt;/b&gt;</td>\n      <td>830.369425</td>\n      <td>&lt;i&gt;297.6492779449238&lt;/i&gt;</td>\n    </tr>\n    <tr>\n      <th>11</th>\n      <td>&lt;b&gt;853&lt;/b&gt;</td>\n      <td>853.040863</td>\n      <td>&lt;i&gt;3978.816767208465&lt;/i&gt;</td>\n    </tr>\n    <tr>\n      <th>12</th>\n      <td>&lt;b&gt;971&lt;/b&gt;</td>\n      <td>971.508104</td>\n      <td>&lt;i&gt;688.5312108814767&lt;/i&gt;</td>\n    </tr>\n    <tr>\n      <th>13</th>\n      <td>&lt;b&gt;1014&lt;/b&gt;</td>\n      <td>1014.165252</td>\n      <td>&lt;i&gt;942.8974685433517&lt;/i&gt;</td>\n    </tr>\n    <tr>\n      <th>14</th>\n      <td>&lt;b&gt;1094&lt;/b&gt;</td>\n      <td>1093.556325</td>\n      <td>&lt;i&gt;587.0059939866351&lt;/i&gt;</td>\n    </tr>\n    <tr>\n      <th>15</th>\n      <td>&lt;b&gt;1268&lt;/b&gt;</td>\n      <td>1267.878060</td>\n      <td>&lt;i&gt;75.44303372919356&lt;/i&gt;</td>\n    </tr>\n    <tr>\n      <th>16</th>\n      <td>&lt;b&gt;1344&lt;/b&gt;</td>\n      <td>1344.137701</td>\n      <td>&lt;i&gt;4358.824849490918&lt;/i&gt;</td>\n    </tr>\n    <tr>\n      <th>17</th>\n      <td>&lt;b&gt;1384&lt;/b&gt;</td>\n      <td>1383.969862</td>\n      <td>&lt;i&gt;185.77792229644677&lt;/i&gt;</td>\n    </tr>\n    <tr>\n      <th>18</th>\n      <td>&lt;b&gt;1466&lt;/b&gt;</td>\n      <td>1465.296016</td>\n      <td>&lt;i&gt;371.1876873949326&lt;/i&gt;</td>\n    </tr>\n    <tr>\n      <th>19</th>\n      <td>&lt;b&gt;1509&lt;/b&gt;</td>\n      <td>1508.855958</td>\n      <td>&lt;i&gt;498.2516490175951&lt;/i&gt;</td>\n    </tr>\n    <tr>\n      <th>20</th>\n      <td>&lt;b&gt;1552&lt;/b&gt;</td>\n      <td>1551.926199</td>\n      <td>&lt;i&gt;232.82302668028643&lt;/i&gt;</td>\n    </tr>\n    <tr>\n      <th>21</th>\n      <td>&lt;b&gt;1604&lt;/b&gt;</td>\n      <td>1603.651918</td>\n      <td>&lt;i&gt;396.87927133492997&lt;/i&gt;</td>\n    </tr>\n    <tr>\n      <th>22</th>\n      <td>&lt;b&gt;1843&lt;/b&gt;</td>\n      <td>1842.715078</td>\n      <td>&lt;i&gt;431.3095706191734&lt;/i&gt;</td>\n    </tr>\n    <tr>\n      <th>23</th>\n      <td>&lt;b&gt;1851&lt;/b&gt;</td>\n      <td>1850.965468</td>\n      <td>&lt;i&gt;402.6526712151242&lt;/i&gt;</td>\n    </tr>\n    <tr>\n      <th>24</th>\n      <td>&lt;b&gt;1938&lt;/b&gt;</td>\n      <td>1937.891821</td>\n      <td>&lt;i&gt;9640.04832985519&lt;/i&gt;</td>\n    </tr>\n    <tr>\n      <th>25</th>\n      <td>&lt;b&gt;2044&lt;/b&gt;</td>\n      <td>2044.817755</td>\n      <td>&lt;i&gt;91.41820599422837&lt;/i&gt;</td>\n    </tr>\n    <tr>\n      <th>26</th>\n      <td>&lt;b&gt;2199&lt;/b&gt;</td>\n      <td>2198.777009</td>\n      <td>&lt;i&gt;8705.493936512323&lt;/i&gt;</td>\n    </tr>\n    <tr>\n      <th>27</th>\n      <td>&lt;b&gt;2409&lt;/b&gt;</td>\n      <td>2409.252785</td>\n      <td>&lt;i&gt;3278.930458541947&lt;/i&gt;</td>\n    </tr>\n    <tr>\n      <th>28</th>\n      <td>&lt;b&gt;2618&lt;/b&gt;</td>\n      <td>2617.943763</td>\n      <td>&lt;i&gt;117.57549892133562&lt;/i&gt;</td>\n    </tr>\n    <tr>\n      <th>29</th>\n      <td>&lt;b&gt;2625&lt;/b&gt;</td>\n      <td>2625.432192</td>\n      <td>&lt;i&gt;184.251897863632&lt;/i&gt;</td>\n    </tr>\n    <tr>\n      <th>30</th>\n      <td>&lt;b&gt;2907&lt;/b&gt;</td>\n      <td>2906.560469</td>\n      <td>&lt;i&gt;367.86374644825935&lt;/i&gt;</td>\n    </tr>\n    <tr>\n      <th>31</th>\n      <td>&lt;b&gt;3462&lt;/b&gt;</td>\n      <td>3461.661554</td>\n      <td>&lt;i&gt;148.4787180646796&lt;/i&gt;</td>\n    </tr>\n    <tr>\n      <th>32</th>\n      <td>&lt;b&gt;3626&lt;/b&gt;</td>\n      <td>3626.280810</td>\n      <td>&lt;i&gt;120.99413984008683&lt;/i&gt;</td>\n    </tr>\n    <tr>\n      <th>33</th>\n      <td>&lt;b&gt;4001&lt;/b&gt;</td>\n      <td>4002.435195</td>\n      <td>&lt;i&gt;76.39206042688774&lt;/i&gt;</td>\n    </tr>\n    <tr>\n      <th>34</th>\n      <td>&lt;b&gt;4026&lt;/b&gt;</td>\n      <td>4025.754557</td>\n      <td>&lt;i&gt;59.707840262877156&lt;/i&gt;</td>\n    </tr>\n  </tbody>\n</table>"
     },
     "execution_count": 21,
     "metadata": {},
     "output_type": "execute_result"
    }
   ],
   "source": [
    "# 2022-Dez-28\n",
    "# Testes com conversão de pandas df .to_html\n",
    "# Teste 2: aplicando tags html:\n",
    "df_to_html = ogra.a_spec.spec_pks_df.to_html(\n",
    "    columns=['peaks', 'centroids', 'rough_sums'],\n",
    "    formatters={\n",
    "        'peaks': lambda x: '<b>' + str(x) + '</b>',\n",
    "        'rough_sums': lambda x: '<i>' + str(x) + '</i>'}\n",
    ")\n",
    "df_to_html\n",
    "import IPython\n",
    "IPython.display.HTML(df_to_html)"
   ],
   "metadata": {
    "collapsed": false
   }
  },
  {
   "cell_type": "code",
   "execution_count": 22,
   "outputs": [
    {
     "data": {
      "text/plain": "'<table border=\"1\" class=\"dataframe\">\\n  <thead>\\n    <tr style=\"text-align: right;\">\\n      <th></th>\\n      <th>peaks</th>\\n      <th>centroids</th>\\n      <th>rough_sums</th>\\n    </tr>\\n  </thead>\\n  <tbody>\\n    <tr>\\n      <th>0</th>\\n      <td>40</td>\\n      <td>{:.3f}</td>\\n      <td>{:.3f}</td>\\n    </tr>\\n    <tr>\\n      <th>1</th>\\n      <td>53</td>\\n      <td>{:.3f}</td>\\n      <td>{:.3f}</td>\\n    </tr>\\n    <tr>\\n      <th>2</th>\\n      <td>57</td>\\n      <td>{:.3f}</td>\\n      <td>{:.3f}</td>\\n    </tr>\\n    <tr>\\n      <th>3</th>\\n      <td>136</td>\\n      <td>{:.3f}</td>\\n      <td>{:.3f}</td>\\n    </tr>\\n    <tr>\\n      <th>4</th>\\n      <td>139</td>\\n      <td>{:.3f}</td>\\n      <td>{:.3f}</td>\\n    </tr>\\n    <tr>\\n      <th>5</th>\\n      <td>155</td>\\n      <td>{:.3f}</td>\\n      <td>{:.3f}</td>\\n    </tr>\\n    <tr>\\n      <th>6</th>\\n      <td>159</td>\\n      <td>{:.3f}</td>\\n      <td>{:.3f}</td>\\n    </tr>\\n    <tr>\\n      <th>7</th>\\n      <td>246</td>\\n      <td>{:.3f}</td>\\n      <td>{:.3f}</td>\\n    </tr>\\n    <tr>\\n      <th>8</th>\\n      <td>407</td>\\n      <td>{:.3f}</td>\\n      <td>{:.3f}</td>\\n    </tr>\\n    <tr>\\n      <th>9</th>\\n      <td>593</td>\\n      <td>{:.3f}</td>\\n      <td>{:.3f}</td>\\n    </tr>\\n    <tr>\\n      <th>10</th>\\n      <td>830</td>\\n      <td>{:.3f}</td>\\n      <td>{:.3f}</td>\\n    </tr>\\n    <tr>\\n      <th>11</th>\\n      <td>853</td>\\n      <td>{:.3f}</td>\\n      <td>{:.3f}</td>\\n    </tr>\\n    <tr>\\n      <th>12</th>\\n      <td>971</td>\\n      <td>{:.3f}</td>\\n      <td>{:.3f}</td>\\n    </tr>\\n    <tr>\\n      <th>13</th>\\n      <td>1014</td>\\n      <td>{:.3f}</td>\\n      <td>{:.3f}</td>\\n    </tr>\\n    <tr>\\n      <th>14</th>\\n      <td>1094</td>\\n      <td>{:.3f}</td>\\n      <td>{:.3f}</td>\\n    </tr>\\n    <tr>\\n      <th>15</th>\\n      <td>1268</td>\\n      <td>{:.3f}</td>\\n      <td>{:.3f}</td>\\n    </tr>\\n    <tr>\\n      <th>16</th>\\n      <td>1344</td>\\n      <td>{:.3f}</td>\\n      <td>{:.3f}</td>\\n    </tr>\\n    <tr>\\n      <th>17</th>\\n      <td>1384</td>\\n      <td>{:.3f}</td>\\n      <td>{:.3f}</td>\\n    </tr>\\n    <tr>\\n      <th>18</th>\\n      <td>1466</td>\\n      <td>{:.3f}</td>\\n      <td>{:.3f}</td>\\n    </tr>\\n    <tr>\\n      <th>19</th>\\n      <td>1509</td>\\n      <td>{:.3f}</td>\\n      <td>{:.3f}</td>\\n    </tr>\\n    <tr>\\n      <th>20</th>\\n      <td>1552</td>\\n      <td>{:.3f}</td>\\n      <td>{:.3f}</td>\\n    </tr>\\n    <tr>\\n      <th>21</th>\\n      <td>1604</td>\\n      <td>{:.3f}</td>\\n      <td>{:.3f}</td>\\n    </tr>\\n    <tr>\\n      <th>22</th>\\n      <td>1843</td>\\n      <td>{:.3f}</td>\\n      <td>{:.3f}</td>\\n    </tr>\\n    <tr>\\n      <th>23</th>\\n      <td>1851</td>\\n      <td>{:.3f}</td>\\n      <td>{:.3f}</td>\\n    </tr>\\n    <tr>\\n      <th>24</th>\\n      <td>1938</td>\\n      <td>{:.3f}</td>\\n      <td>{:.3f}</td>\\n    </tr>\\n    <tr>\\n      <th>25</th>\\n      <td>2044</td>\\n      <td>{:.3f}</td>\\n      <td>{:.3f}</td>\\n    </tr>\\n    <tr>\\n      <th>26</th>\\n      <td>2199</td>\\n      <td>{:.3f}</td>\\n      <td>{:.3f}</td>\\n    </tr>\\n    <tr>\\n      <th>27</th>\\n      <td>2409</td>\\n      <td>{:.3f}</td>\\n      <td>{:.3f}</td>\\n    </tr>\\n    <tr>\\n      <th>28</th>\\n      <td>2618</td>\\n      <td>{:.3f}</td>\\n      <td>{:.3f}</td>\\n    </tr>\\n    <tr>\\n      <th>29</th>\\n      <td>2625</td>\\n      <td>{:.3f}</td>\\n      <td>{:.3f}</td>\\n    </tr>\\n    <tr>\\n      <th>30</th>\\n      <td>2907</td>\\n      <td>{:.3f}</td>\\n      <td>{:.3f}</td>\\n    </tr>\\n    <tr>\\n      <th>31</th>\\n      <td>3462</td>\\n      <td>{:.3f}</td>\\n      <td>{:.3f}</td>\\n    </tr>\\n    <tr>\\n      <th>32</th>\\n      <td>3626</td>\\n      <td>{:.3f}</td>\\n      <td>{:.3f}</td>\\n    </tr>\\n    <tr>\\n      <th>33</th>\\n      <td>4001</td>\\n      <td>{:.3f}</td>\\n      <td>{:.3f}</td>\\n    </tr>\\n    <tr>\\n      <th>34</th>\\n      <td>4026</td>\\n      <td>{:.3f}</td>\\n      <td>{:.3f}</td>\\n    </tr>\\n  </tbody>\\n</table>'"
     },
     "execution_count": 22,
     "metadata": {},
     "output_type": "execute_result"
    }
   ],
   "source": [
    "# 2022-Dez-28\n",
    "# Testes com conversão de pandas df .to_html\n",
    "# Teste 3: aplicando float_formatters:\n",
    "df_to_html = ogra.a_spec.spec_pks_df.to_html(\n",
    "    columns=['peaks', 'centroids', 'rough_sums'],\n",
    "    float_format='{:.3f}'\n",
    ")\n",
    "df_to_html"
   ],
   "metadata": {
    "collapsed": false
   }
  },
  {
   "cell_type": "code",
   "execution_count": 26,
   "outputs": [
    {
     "data": {
      "text/plain": "<pandas.io.formats.style.Styler at 0x191b1336520>",
      "text/html": "<style type=\"text/css\">\n</style>\n<table id=\"T_c787e\">\n  <thead>\n    <tr>\n      <th class=\"blank level0\" >&nbsp;</th>\n      <th id=\"T_c787e_level0_col0\" class=\"col_heading level0 col0\" >reduced_f_name</th>\n      <th id=\"T_c787e_level0_col1\" class=\"col_heading level0 col1\" >peaks</th>\n      <th id=\"T_c787e_level0_col2\" class=\"col_heading level0 col2\" >ini_wide_regions</th>\n      <th id=\"T_c787e_level0_col3\" class=\"col_heading level0 col3\" >fin_wide_regions</th>\n      <th id=\"T_c787e_level0_col4\" class=\"col_heading level0 col4\" >fwhm_centr</th>\n      <th id=\"T_c787e_level0_col5\" class=\"col_heading level0 col5\" >centroids</th>\n      <th id=\"T_c787e_level0_col6\" class=\"col_heading level0 col6\" >rough_sums</th>\n      <th id=\"T_c787e_level0_col7\" class=\"col_heading level0 col7\" >peak_heights</th>\n      <th id=\"T_c787e_level0_col8\" class=\"col_heading level0 col8\" >left_thresholds</th>\n      <th id=\"T_c787e_level0_col9\" class=\"col_heading level0 col9\" >right_thresholds</th>\n      <th id=\"T_c787e_level0_col10\" class=\"col_heading level0 col10\" >prominences</th>\n      <th id=\"T_c787e_level0_col11\" class=\"col_heading level0 col11\" >left_bases</th>\n      <th id=\"T_c787e_level0_col12\" class=\"col_heading level0 col12\" >right_bases</th>\n      <th id=\"T_c787e_level0_col13\" class=\"col_heading level0 col13\" >width_heights</th>\n      <th id=\"T_c787e_level0_col14\" class=\"col_heading level0 col14\" >left_ips</th>\n      <th id=\"T_c787e_level0_col15\" class=\"col_heading level0 col15\" >right_ips</th>\n      <th id=\"T_c787e_level0_col16\" class=\"col_heading level0 col16\" >widths</th>\n      <th id=\"T_c787e_level0_col17\" class=\"col_heading level0 col17\" >variances</th>\n    </tr>\n  </thead>\n  <tbody>\n    <tr>\n      <th id=\"T_c787e_level0_row0\" class=\"row_heading level0 row0\" >0</th>\n      <td id=\"T_c787e_row0_col0\" class=\"data row0 col0\" >Si/SI2022/SI09722.Chn</td>\n      <td id=\"T_c787e_row0_col1\" class=\"data row0 col1\" >40</td>\n      <td id=\"T_c787e_row0_col2\" class=\"data row0 col2\" >38</td>\n      <td id=\"T_c787e_row0_col3\" class=\"data row0 col3\" >42</td>\n      <td id=\"T_c787e_row0_col4\" class=\"data row0 col4\" >40.281344</td>\n      <td id=\"T_c787e_row0_col5\" class=\"data row0 col5\" >40.347871</td>\n      <td id=\"T_c787e_row0_col6\" class=\"data row0 col6\" >341.646930</td>\n      <td id=\"T_c787e_row0_col7\" class=\"data row0 col7\" >222.797702</td>\n      <td id=\"T_c787e_row0_col8\" class=\"data row0 col8\" >222.797702</td>\n      <td id=\"T_c787e_row0_col9\" class=\"data row0 col9\" >103.948474</td>\n      <td id=\"T_c787e_row0_col10\" class=\"data row0 col10\" >222.797702</td>\n      <td id=\"T_c787e_row0_col11\" class=\"data row0 col11\" >39</td>\n      <td id=\"T_c787e_row0_col12\" class=\"data row0 col12\" >42</td>\n      <td id=\"T_c787e_row0_col13\" class=\"data row0 col13\" >111.398851</td>\n      <td id=\"T_c787e_row0_col14\" class=\"data row0 col14\" >39.500000</td>\n      <td id=\"T_c787e_row0_col15\" class=\"data row0 col15\" >41.062688</td>\n      <td id=\"T_c787e_row0_col16\" class=\"data row0 col16\" >1.562688</td>\n      <td id=\"T_c787e_row0_col17\" class=\"data row0 col17\" >3 027.821493</td>\n    </tr>\n    <tr>\n      <th id=\"T_c787e_level0_row1\" class=\"row_heading level0 row1\" >1</th>\n      <td id=\"T_c787e_row1_col0\" class=\"data row1 col0\" >Si/SI2022/SI09722.Chn</td>\n      <td id=\"T_c787e_row1_col1\" class=\"data row1 col1\" >53</td>\n      <td id=\"T_c787e_row1_col2\" class=\"data row1 col2\" >50</td>\n      <td id=\"T_c787e_row1_col3\" class=\"data row1 col3\" >55</td>\n      <td id=\"T_c787e_row1_col4\" class=\"data row1 col4\" >52.477703</td>\n      <td id=\"T_c787e_row1_col5\" class=\"data row1 col5\" >52.486985</td>\n      <td id=\"T_c787e_row1_col6\" class=\"data row1 col6\" >942.836374</td>\n      <td id=\"T_c787e_row1_col7\" class=\"data row1 col7\" >361.054336</td>\n      <td id=\"T_c787e_row1_col8\" class=\"data row1 col8\" >78.781686</td>\n      <td id=\"T_c787e_row1_col9\" class=\"data row1 col9\" >308.795682</td>\n      <td id=\"T_c787e_row1_col10\" class=\"data row1 col10\" >361.054336</td>\n      <td id=\"T_c787e_row1_col11\" class=\"data row1 col11\" >44</td>\n      <td id=\"T_c787e_row1_col12\" class=\"data row1 col12\" >61</td>\n      <td id=\"T_c787e_row1_col13\" class=\"data row1 col13\" >180.527168</td>\n      <td id=\"T_c787e_row1_col14\" class=\"data row1 col14\" >51.370790</td>\n      <td id=\"T_c787e_row1_col15\" class=\"data row1 col15\" >53.584617</td>\n      <td id=\"T_c787e_row1_col16\" class=\"data row1 col16\" >2.213827</td>\n      <td id=\"T_c787e_row1_col17\" class=\"data row1 col17\" >6 811.163626</td>\n    </tr>\n    <tr>\n      <th id=\"T_c787e_level0_row2\" class=\"row_heading level0 row2\" >2</th>\n      <td id=\"T_c787e_row2_col0\" class=\"data row2 col0\" >Si/SI2022/SI09722.Chn</td>\n      <td id=\"T_c787e_row2_col1\" class=\"data row2 col1\" >57</td>\n      <td id=\"T_c787e_row2_col2\" class=\"data row2 col2\" >55</td>\n      <td id=\"T_c787e_row2_col3\" class=\"data row2 col3\" >59</td>\n      <td id=\"T_c787e_row2_col4\" class=\"data row2 col4\" >56.928700</td>\n      <td id=\"T_c787e_row2_col5\" class=\"data row2 col5\" >56.625467</td>\n      <td id=\"T_c787e_row2_col6\" class=\"data row2 col6\" >413.220851</td>\n      <td id=\"T_c787e_row2_col7\" class=\"data row2 col7\" >166.153349</td>\n      <td id=\"T_c787e_row2_col8\" class=\"data row2 col8\" >73.309112</td>\n      <td id=\"T_c787e_row2_col9\" class=\"data row2 col9\" >89.792493</td>\n      <td id=\"T_c787e_row2_col10\" class=\"data row2 col10\" >113.894695</td>\n      <td id=\"T_c787e_row2_col11\" class=\"data row2 col11\" >54</td>\n      <td id=\"T_c787e_row2_col12\" class=\"data row2 col12\" >61</td>\n      <td id=\"T_c787e_row2_col13\" class=\"data row2 col13\" >109.206002</td>\n      <td id=\"T_c787e_row2_col14\" class=\"data row2 col14\" >56.223189</td>\n      <td id=\"T_c787e_row2_col15\" class=\"data row2 col15\" >57.634211</td>\n      <td id=\"T_c787e_row2_col16\" class=\"data row2 col16\" >1.411022</td>\n      <td id=\"T_c787e_row2_col17\" class=\"data row2 col17\" >5 244.779149</td>\n    </tr>\n    <tr>\n      <th id=\"T_c787e_level0_row3\" class=\"row_heading level0 row3\" >3</th>\n      <td id=\"T_c787e_row3_col0\" class=\"data row3 col0\" >Si/SI2022/SI09722.Chn</td>\n      <td id=\"T_c787e_row3_col1\" class=\"data row3 col1\" >136</td>\n      <td id=\"T_c787e_row3_col2\" class=\"data row3 col2\" >133</td>\n      <td id=\"T_c787e_row3_col3\" class=\"data row3 col3\" >138</td>\n      <td id=\"T_c787e_row3_col4\" class=\"data row3 col4\" >135.537327</td>\n      <td id=\"T_c787e_row3_col5\" class=\"data row3 col5\" >135.942795</td>\n      <td id=\"T_c787e_row3_col6\" class=\"data row3 col6\" >1 589.581515</td>\n      <td id=\"T_c787e_row3_col7\" class=\"data row3 col7\" >505.205163</td>\n      <td id=\"T_c787e_row3_col8\" class=\"data row3 col8\" >60.263945</td>\n      <td id=\"T_c787e_row3_col9\" class=\"data row3 col9\" >396.040249</td>\n      <td id=\"T_c787e_row3_col10\" class=\"data row3 col10\" >396.040249</td>\n      <td id=\"T_c787e_row3_col11\" class=\"data row3 col11\" >128</td>\n      <td id=\"T_c787e_row3_col12\" class=\"data row3 col12\" >137</td>\n      <td id=\"T_c787e_row3_col13\" class=\"data row3 col13\" >307.185038</td>\n      <td id=\"T_c787e_row3_col14\" class=\"data row3 col14\" >134.574654</td>\n      <td id=\"T_c787e_row3_col15\" class=\"data row3 col15\" >136.500000</td>\n      <td id=\"T_c787e_row3_col16\" class=\"data row3 col16\" >1.925346</td>\n      <td id=\"T_c787e_row3_col17\" class=\"data row3 col17\" >7 880.418485</td>\n    </tr>\n    <tr>\n      <th id=\"T_c787e_level0_row4\" class=\"row_heading level0 row4\" >4</th>\n      <td id=\"T_c787e_row4_col0\" class=\"data row4 col0\" >Si/SI2022/SI09722.Chn</td>\n      <td id=\"T_c787e_row4_col1\" class=\"data row4 col1\" >139</td>\n      <td id=\"T_c787e_row4_col2\" class=\"data row4 col2\" >137</td>\n      <td id=\"T_c787e_row4_col3\" class=\"data row4 col3\" >141</td>\n      <td id=\"T_c787e_row4_col4\" class=\"data row4 col4\" >139.135463</td>\n      <td id=\"T_c787e_row4_col5\" class=\"data row4 col5\" >139.025035</td>\n      <td id=\"T_c787e_row4_col6\" class=\"data row4 col6\" >2 151.211150</td>\n      <td id=\"T_c787e_row4_col7\" class=\"data row4 col7\" >1 114.824156</td>\n      <td id=\"T_c787e_row4_col8\" class=\"data row4 col8\" >771.907647</td>\n      <td id=\"T_c787e_row4_col9\" class=\"data row4 col9\" >561.314175</td>\n      <td id=\"T_c787e_row4_col10\" class=\"data row4 col10\" >1 114.824156</td>\n      <td id=\"T_c787e_row4_col11\" class=\"data row4 col11\" >128</td>\n      <td id=\"T_c787e_row4_col12\" class=\"data row4 col12\" >142</td>\n      <td id=\"T_c787e_row4_col13\" class=\"data row4 col13\" >557.412078</td>\n      <td id=\"T_c787e_row4_col14\" class=\"data row4 col14\" >138.277877</td>\n      <td id=\"T_c787e_row4_col15\" class=\"data row4 col15\" >139.993048</td>\n      <td id=\"T_c787e_row4_col16\" class=\"data row4 col16\" >1.715171</td>\n      <td id=\"T_c787e_row4_col17\" class=\"data row4 col17\" >7 552.788850</td>\n    </tr>\n    <tr>\n      <th id=\"T_c787e_level0_row5\" class=\"row_heading level0 row5\" >5</th>\n      <td id=\"T_c787e_row5_col0\" class=\"data row5 col0\" >Si/SI2022/SI09722.Chn</td>\n      <td id=\"T_c787e_row5_col1\" class=\"data row5 col1\" >155</td>\n      <td id=\"T_c787e_row5_col2\" class=\"data row5 col2\" >153</td>\n      <td id=\"T_c787e_row5_col3\" class=\"data row5 col3\" >158</td>\n      <td id=\"T_c787e_row5_col4\" class=\"data row5 col4\" >155.260128</td>\n      <td id=\"T_c787e_row5_col5\" class=\"data row5 col5\" >155.246472</td>\n      <td id=\"T_c787e_row5_col6\" class=\"data row5 col6\" >1 055.478802</td>\n      <td id=\"T_c787e_row5_col7\" class=\"data row5 col7\" >485.302415</td>\n      <td id=\"T_c787e_row5_col8\" class=\"data row5 col8\" >306.126351</td>\n      <td id=\"T_c787e_row5_col9\" class=\"data row5 col9\" >156.638882</td>\n      <td id=\"T_c787e_row5_col10\" class=\"data row5 col10\" >485.302415</td>\n      <td id=\"T_c787e_row5_col11\" class=\"data row5 col11\" >152</td>\n      <td id=\"T_c787e_row5_col12\" class=\"data row5 col12\" >162</td>\n      <td id=\"T_c787e_row5_col13\" class=\"data row5 col13\" >242.651207</td>\n      <td id=\"T_c787e_row5_col14\" class=\"data row5 col14\" >154.207349</td>\n      <td id=\"T_c787e_row5_col15\" class=\"data row5 col15\" >156.312907</td>\n      <td id=\"T_c787e_row5_col16\" class=\"data row5 col16\" >2.105558</td>\n      <td id=\"T_c787e_row5_col17\" class=\"data row5 col17\" >7 998.521198</td>\n    </tr>\n    <tr>\n      <th id=\"T_c787e_level0_row6\" class=\"row_heading level0 row6\" >6</th>\n      <td id=\"T_c787e_row6_col0\" class=\"data row6 col0\" >Si/SI2022/SI09722.Chn</td>\n      <td id=\"T_c787e_row6_col1\" class=\"data row6 col1\" >159</td>\n      <td id=\"T_c787e_row6_col2\" class=\"data row6 col2\" >157</td>\n      <td id=\"T_c787e_row6_col3\" class=\"data row6 col3\" >162</td>\n      <td id=\"T_c787e_row6_col4\" class=\"data row6 col4\" >159.464525</td>\n      <td id=\"T_c787e_row6_col5\" class=\"data row6 col5\" >159.240496</td>\n      <td id=\"T_c787e_row6_col6\" class=\"data row6 col6\" >373.078305</td>\n      <td id=\"T_c787e_row6_col7\" class=\"data row6 col7\" >160.069986</td>\n      <td id=\"T_c787e_row6_col8\" class=\"data row6 col8\" >156.029391</td>\n      <td id=\"T_c787e_row6_col9\" class=\"data row6 col9\" >51.028291</td>\n      <td id=\"T_c787e_row6_col10\" class=\"data row6 col10\" >156.029391</td>\n      <td id=\"T_c787e_row6_col11\" class=\"data row6 col11\" >158</td>\n      <td id=\"T_c787e_row6_col12\" class=\"data row6 col12\" >162</td>\n      <td id=\"T_c787e_row6_col13\" class=\"data row6 col13\" >82.055291</td>\n      <td id=\"T_c787e_row6_col14\" class=\"data row6 col14\" >158.500000</td>\n      <td id=\"T_c787e_row6_col15\" class=\"data row6 col15\" >160.429050</td>\n      <td id=\"T_c787e_row6_col16\" class=\"data row6 col16\" >1.929050</td>\n      <td id=\"T_c787e_row6_col17\" class=\"data row6 col17\" >7 369.471552</td>\n    </tr>\n    <tr>\n      <th id=\"T_c787e_level0_row7\" class=\"row_heading level0 row7\" >7</th>\n      <td id=\"T_c787e_row7_col0\" class=\"data row7 col0\" >Si/SI2022/SI09722.Chn</td>\n      <td id=\"T_c787e_row7_col1\" class=\"data row7 col1\" >246</td>\n      <td id=\"T_c787e_row7_col2\" class=\"data row7 col2\" >240</td>\n      <td id=\"T_c787e_row7_col3\" class=\"data row7 col3\" >251</td>\n      <td id=\"T_c787e_row7_col4\" class=\"data row7 col4\" >245.489544</td>\n      <td id=\"T_c787e_row7_col5\" class=\"data row7 col5\" >245.015684</td>\n      <td id=\"T_c787e_row7_col6\" class=\"data row7 col6\" >563.540523</td>\n      <td id=\"T_c787e_row7_col7\" class=\"data row7 col7\" >114.577248</td>\n      <td id=\"T_c787e_row7_col8\" class=\"data row7 col8\" >41.489927</td>\n      <td id=\"T_c787e_row7_col9\" class=\"data row7 col9\" >8.536791</td>\n      <td id=\"T_c787e_row7_col10\" class=\"data row7 col10\" >114.577248</td>\n      <td id=\"T_c787e_row7_col11\" class=\"data row7 col11\" >242</td>\n      <td id=\"T_c787e_row7_col12\" class=\"data row7 col12\" >248</td>\n      <td id=\"T_c787e_row7_col13\" class=\"data row7 col13\" >57.288624</td>\n      <td id=\"T_c787e_row7_col14\" class=\"data row7 col14\" >243.519341</td>\n      <td id=\"T_c787e_row7_col15\" class=\"data row7 col15\" >247.459747</td>\n      <td id=\"T_c787e_row7_col16\" class=\"data row7 col16\" >3.940407</td>\n      <td id=\"T_c787e_row7_col17\" class=\"data row7 col17\" >15 681.420082</td>\n    </tr>\n    <tr>\n      <th id=\"T_c787e_level0_row8\" class=\"row_heading level0 row8\" >8</th>\n      <td id=\"T_c787e_row8_col0\" class=\"data row8 col0\" >Si/SI2022/SI09722.Chn</td>\n      <td id=\"T_c787e_row8_col1\" class=\"data row8 col1\" >407</td>\n      <td id=\"T_c787e_row8_col2\" class=\"data row8 col2\" >404</td>\n      <td id=\"T_c787e_row8_col3\" class=\"data row8 col3\" >410</td>\n      <td id=\"T_c787e_row8_col4\" class=\"data row8 col4\" >406.931348</td>\n      <td id=\"T_c787e_row8_col5\" class=\"data row8 col5\" >406.607155</td>\n      <td id=\"T_c787e_row8_col6\" class=\"data row8 col6\" >651.824339</td>\n      <td id=\"T_c787e_row8_col7\" class=\"data row8 col7\" >249.027013</td>\n      <td id=\"T_c787e_row8_col8\" class=\"data row8 col8\" >101.338205</td>\n      <td id=\"T_c787e_row8_col9\" class=\"data row8 col9\" >115.833338</td>\n      <td id=\"T_c787e_row8_col10\" class=\"data row8 col10\" >249.027013</td>\n      <td id=\"T_c787e_row8_col11\" class=\"data row8 col11\" >396</td>\n      <td id=\"T_c787e_row8_col12\" class=\"data row8 col12\" >410</td>\n      <td id=\"T_c787e_row8_col13\" class=\"data row8 col13\" >124.513507</td>\n      <td id=\"T_c787e_row8_col14\" class=\"data row8 col14\" >405.787896</td>\n      <td id=\"T_c787e_row8_col15\" class=\"data row8 col15\" >408.074801</td>\n      <td id=\"T_c787e_row8_col16\" class=\"data row8 col16\" >2.286905</td>\n      <td id=\"T_c787e_row8_col17\" class=\"data row8 col17\" >7 643.101969</td>\n    </tr>\n    <tr>\n      <th id=\"T_c787e_level0_row9\" class=\"row_heading level0 row9\" >9</th>\n      <td id=\"T_c787e_row9_col0\" class=\"data row9 col0\" >Si/SI2022/SI09722.Chn</td>\n      <td id=\"T_c787e_row9_col1\" class=\"data row9 col1\" >593</td>\n      <td id=\"T_c787e_row9_col2\" class=\"data row9 col2\" >590</td>\n      <td id=\"T_c787e_row9_col3\" class=\"data row9 col3\" >595</td>\n      <td id=\"T_c787e_row9_col4\" class=\"data row9 col4\" >592.664454</td>\n      <td id=\"T_c787e_row9_col5\" class=\"data row9 col5\" >592.741703</td>\n      <td id=\"T_c787e_row9_col6\" class=\"data row9 col6\" >324.235512</td>\n      <td id=\"T_c787e_row9_col7\" class=\"data row9 col7\" >165.481780</td>\n      <td id=\"T_c787e_row9_col8\" class=\"data row9 col8\" >44.230383</td>\n      <td id=\"T_c787e_row9_col9\" class=\"data row9 col9\" >127.979444</td>\n      <td id=\"T_c787e_row9_col10\" class=\"data row9 col10\" >165.481780</td>\n      <td id=\"T_c787e_row9_col11\" class=\"data row9 col11\" >591</td>\n      <td id=\"T_c787e_row9_col12\" class=\"data row9 col12\" >595</td>\n      <td id=\"T_c787e_row9_col13\" class=\"data row9 col13\" >82.740890</td>\n      <td id=\"T_c787e_row9_col14\" class=\"data row9 col14\" >591.682391</td>\n      <td id=\"T_c787e_row9_col15\" class=\"data row9 col15\" >593.646517</td>\n      <td id=\"T_c787e_row9_col16\" class=\"data row9 col16\" >1.964126</td>\n      <td id=\"T_c787e_row9_col17\" class=\"data row9 col17\" >4 229.915875</td>\n    </tr>\n    <tr>\n      <th id=\"T_c787e_level0_row10\" class=\"row_heading level0 row10\" >10</th>\n      <td id=\"T_c787e_row10_col0\" class=\"data row10 col0\" >Si/SI2022/SI09722.Chn</td>\n      <td id=\"T_c787e_row10_col1\" class=\"data row10 col1\" >830</td>\n      <td id=\"T_c787e_row10_col2\" class=\"data row10 col2\" >827</td>\n      <td id=\"T_c787e_row10_col3\" class=\"data row10 col3\" >834</td>\n      <td id=\"T_c787e_row10_col4\" class=\"data row10 col4\" >830.420766</td>\n      <td id=\"T_c787e_row10_col5\" class=\"data row10 col5\" >830.369425</td>\n      <td id=\"T_c787e_row10_col6\" class=\"data row10 col6\" >297.649278</td>\n      <td id=\"T_c787e_row10_col7\" class=\"data row10 col7\" >81.144314</td>\n      <td id=\"T_c787e_row10_col8\" class=\"data row10 col8\" >43.403944</td>\n      <td id=\"T_c787e_row10_col9\" class=\"data row10 col9\" >10.601199</td>\n      <td id=\"T_c787e_row10_col10\" class=\"data row10 col10\" >81.144314</td>\n      <td id=\"T_c787e_row10_col11\" class=\"data row10 col11\" >819</td>\n      <td id=\"T_c787e_row10_col12\" class=\"data row10 col12\" >844</td>\n      <td id=\"T_c787e_row10_col13\" class=\"data row10 col13\" >40.572157</td>\n      <td id=\"T_c787e_row10_col14\" class=\"data row10 col14\" >829.065243</td>\n      <td id=\"T_c787e_row10_col15\" class=\"data row10 col15\" >831.776289</td>\n      <td id=\"T_c787e_row10_col16\" class=\"data row10 col16\" >2.711046</td>\n      <td id=\"T_c787e_row10_col17\" class=\"data row10 col17\" >3 364.350722</td>\n    </tr>\n    <tr>\n      <th id=\"T_c787e_level0_row11\" class=\"row_heading level0 row11\" >11</th>\n      <td id=\"T_c787e_row11_col0\" class=\"data row11 col0\" >Si/SI2022/SI09722.Chn</td>\n      <td id=\"T_c787e_row11_col1\" class=\"data row11 col1\" >853</td>\n      <td id=\"T_c787e_row11_col2\" class=\"data row11 col2\" >848</td>\n      <td id=\"T_c787e_row11_col3\" class=\"data row11 col3\" >858</td>\n      <td id=\"T_c787e_row11_col4\" class=\"data row11 col4\" >852.988448</td>\n      <td id=\"T_c787e_row11_col5\" class=\"data row11 col5\" >853.040863</td>\n      <td id=\"T_c787e_row11_col6\" class=\"data row11 col6\" >3 978.816767</td>\n      <td id=\"T_c787e_row11_col7\" class=\"data row11 col7\" >869.993141</td>\n      <td id=\"T_c787e_row11_col8\" class=\"data row11 col8\" >138.791793</td>\n      <td id=\"T_c787e_row11_col9\" class=\"data row11 col9\" >128.316687</td>\n      <td id=\"T_c787e_row11_col10\" class=\"data row11 col10\" >869.993141</td>\n      <td id=\"T_c787e_row11_col11\" class=\"data row11 col11\" >844</td>\n      <td id=\"T_c787e_row11_col12\" class=\"data row11 col12\" >865</td>\n      <td id=\"T_c787e_row11_col13\" class=\"data row11 col13\" >434.996571</td>\n      <td id=\"T_c787e_row11_col14\" class=\"data row11 col14\" >851.043510</td>\n      <td id=\"T_c787e_row11_col15\" class=\"data row11 col15\" >854.933387</td>\n      <td id=\"T_c787e_row11_col16\" class=\"data row11 col16\" >3.889877</td>\n      <td id=\"T_c787e_row11_col17\" class=\"data row11 col17\" >8 031.183233</td>\n    </tr>\n    <tr>\n      <th id=\"T_c787e_level0_row12\" class=\"row_heading level0 row12\" >12</th>\n      <td id=\"T_c787e_row12_col0\" class=\"data row12 col0\" >Si/SI2022/SI09722.Chn</td>\n      <td id=\"T_c787e_row12_col1\" class=\"data row12 col1\" >971</td>\n      <td id=\"T_c787e_row12_col2\" class=\"data row12 col2\" >968</td>\n      <td id=\"T_c787e_row12_col3\" class=\"data row12 col3\" >975</td>\n      <td id=\"T_c787e_row12_col4\" class=\"data row12 col4\" >971.604760</td>\n      <td id=\"T_c787e_row12_col5\" class=\"data row12 col5\" >971.508104</td>\n      <td id=\"T_c787e_row12_col6\" class=\"data row12 col6\" >688.531211</td>\n      <td id=\"T_c787e_row12_col7\" class=\"data row12 col7\" >219.721426</td>\n      <td id=\"T_c787e_row12_col8\" class=\"data row12 col8\" >157.266429</td>\n      <td id=\"T_c787e_row12_col9\" class=\"data row12 col9\" >14.698524</td>\n      <td id=\"T_c787e_row12_col10\" class=\"data row12 col10\" >219.721426</td>\n      <td id=\"T_c787e_row12_col11\" class=\"data row12 col11\" >960</td>\n      <td id=\"T_c787e_row12_col12\" class=\"data row12 col12\" >979</td>\n      <td id=\"T_c787e_row12_col13\" class=\"data row12 col13\" >109.860713</td>\n      <td id=\"T_c787e_row12_col14\" class=\"data row12 col14\" >970.301436</td>\n      <td id=\"T_c787e_row12_col15\" class=\"data row12 col15\" >972.908084</td>\n      <td id=\"T_c787e_row12_col16\" class=\"data row12 col16\" >2.606648</td>\n      <td id=\"T_c787e_row12_col17\" class=\"data row12 col17\" >3 187.468789</td>\n    </tr>\n    <tr>\n      <th id=\"T_c787e_level0_row13\" class=\"row_heading level0 row13\" >13</th>\n      <td id=\"T_c787e_row13_col0\" class=\"data row13 col0\" >Si/SI2022/SI09722.Chn</td>\n      <td id=\"T_c787e_row13_col1\" class=\"data row13 col1\" >1 014</td>\n      <td id=\"T_c787e_row13_col2\" class=\"data row13 col2\" >1 010</td>\n      <td id=\"T_c787e_row13_col3\" class=\"data row13 col3\" >1 019</td>\n      <td id=\"T_c787e_row13_col4\" class=\"data row13 col4\" >1 014.207168</td>\n      <td id=\"T_c787e_row13_col5\" class=\"data row13 col5\" >1 014.165252</td>\n      <td id=\"T_c787e_row13_col6\" class=\"data row13 col6\" >942.897469</td>\n      <td id=\"T_c787e_row13_col7\" class=\"data row13 col7\" >228.051462</td>\n      <td id=\"T_c787e_row13_col8\" class=\"data row13 col8\" >64.231034</td>\n      <td id=\"T_c787e_row13_col9\" class=\"data row13 col9\" >16.799437</td>\n      <td id=\"T_c787e_row13_col10\" class=\"data row13 col10\" >228.051462</td>\n      <td id=\"T_c787e_row13_col11\" class=\"data row13 col11\" >1 008</td>\n      <td id=\"T_c787e_row13_col12\" class=\"data row13 col12\" >1 026</td>\n      <td id=\"T_c787e_row13_col13\" class=\"data row13 col13\" >114.025731</td>\n      <td id=\"T_c787e_row13_col14\" class=\"data row13 col14\" >1 012.575116</td>\n      <td id=\"T_c787e_row13_col15\" class=\"data row13 col15\" >1 015.839219</td>\n      <td id=\"T_c787e_row13_col16\" class=\"data row13 col16\" >3.264103</td>\n      <td id=\"T_c787e_row13_col17\" class=\"data row13 col17\" >3 941.102531</td>\n    </tr>\n    <tr>\n      <th id=\"T_c787e_level0_row14\" class=\"row_heading level0 row14\" >14</th>\n      <td id=\"T_c787e_row14_col0\" class=\"data row14 col0\" >Si/SI2022/SI09722.Chn</td>\n      <td id=\"T_c787e_row14_col1\" class=\"data row14 col1\" >1 094</td>\n      <td id=\"T_c787e_row14_col2\" class=\"data row14 col2\" >1 090</td>\n      <td id=\"T_c787e_row14_col3\" class=\"data row14 col3\" >1 097</td>\n      <td id=\"T_c787e_row14_col4\" class=\"data row14 col4\" >1 093.522684</td>\n      <td id=\"T_c787e_row14_col5\" class=\"data row14 col5\" >1 093.556325</td>\n      <td id=\"T_c787e_row14_col6\" class=\"data row14 col6\" >587.005994</td>\n      <td id=\"T_c787e_row14_col7\" class=\"data row14 col7\" >210.759959</td>\n      <td id=\"T_c787e_row14_col8\" class=\"data row14 col8\" >21.133789</td>\n      <td id=\"T_c787e_row14_col9\" class=\"data row14 col9\" >138.914980</td>\n      <td id=\"T_c787e_row14_col10\" class=\"data row14 col10\" >210.759959</td>\n      <td id=\"T_c787e_row14_col11\" class=\"data row14 col11\" >1 091</td>\n      <td id=\"T_c787e_row14_col12\" class=\"data row14 col12\" >1 097</td>\n      <td id=\"T_c787e_row14_col13\" class=\"data row14 col13\" >105.379979</td>\n      <td id=\"T_c787e_row14_col14\" class=\"data row14 col14\" >1 092.286774</td>\n      <td id=\"T_c787e_row14_col15\" class=\"data row14 col15\" >1 094.758593</td>\n      <td id=\"T_c787e_row14_col16\" class=\"data row14 col16\" >2.471819</td>\n      <td id=\"T_c787e_row14_col17\" class=\"data row14 col17\" >2 858.608739</td>\n    </tr>\n    <tr>\n      <th id=\"T_c787e_level0_row15\" class=\"row_heading level0 row15\" >15</th>\n      <td id=\"T_c787e_row15_col0\" class=\"data row15 col0\" >Si/SI2022/SI09722.Chn</td>\n      <td id=\"T_c787e_row15_col1\" class=\"data row15 col1\" >1 268</td>\n      <td id=\"T_c787e_row15_col2\" class=\"data row15 col2\" >1 267</td>\n      <td id=\"T_c787e_row15_col3\" class=\"data row15 col3\" >1 269</td>\n      <td id=\"T_c787e_row15_col4\" class=\"data row15 col4\" >1 267.959683</td>\n      <td id=\"T_c787e_row15_col5\" class=\"data row15 col5\" >1 267.878060</td>\n      <td id=\"T_c787e_row15_col6\" class=\"data row15 col6\" >75.443034</td>\n      <td id=\"T_c787e_row15_col7\" class=\"data row15 col7\" >66.243546</td>\n      <td id=\"T_c787e_row15_col8\" class=\"data row15 col8\" >57.044058</td>\n      <td id=\"T_c787e_row15_col9\" class=\"data row15 col9\" >66.243546</td>\n      <td id=\"T_c787e_row15_col10\" class=\"data row15 col10\" >66.243546</td>\n      <td id=\"T_c787e_row15_col11\" class=\"data row15 col11\" >1 266</td>\n      <td id=\"T_c787e_row15_col12\" class=\"data row15 col12\" >1 269</td>\n      <td id=\"T_c787e_row15_col13\" class=\"data row15 col13\" >33.121773</td>\n      <td id=\"T_c787e_row15_col14\" class=\"data row15 col14\" >1 267.419365</td>\n      <td id=\"T_c787e_row15_col15\" class=\"data row15 col15\" >1 268.500000</td>\n      <td id=\"T_c787e_row15_col16\" class=\"data row15 col16\" >1.080635</td>\n      <td id=\"T_c787e_row15_col17\" class=\"data row15 col17\" >876.271202</td>\n    </tr>\n    <tr>\n      <th id=\"T_c787e_level0_row16\" class=\"row_heading level0 row16\" >16</th>\n      <td id=\"T_c787e_row16_col0\" class=\"data row16 col0\" >Si/SI2022/SI09722.Chn</td>\n      <td id=\"T_c787e_row16_col1\" class=\"data row16 col1\" >1 344</td>\n      <td id=\"T_c787e_row16_col2\" class=\"data row16 col2\" >1 340</td>\n      <td id=\"T_c787e_row16_col3\" class=\"data row16 col3\" >1 348</td>\n      <td id=\"T_c787e_row16_col4\" class=\"data row16 col4\" >1 344.166514</td>\n      <td id=\"T_c787e_row16_col5\" class=\"data row16 col5\" >1 344.137701</td>\n      <td id=\"T_c787e_row16_col6\" class=\"data row16 col6\" >4 358.824849</td>\n      <td id=\"T_c787e_row16_col7\" class=\"data row16 col7\" >1 458.123562</td>\n      <td id=\"T_c787e_row16_col8\" class=\"data row16 col8\" >544.346732</td>\n      <td id=\"T_c787e_row16_col9\" class=\"data row16 col9\" >298.714436</td>\n      <td id=\"T_c787e_row16_col10\" class=\"data row16 col10\" >1 458.123562</td>\n      <td id=\"T_c787e_row16_col11\" class=\"data row16 col11\" >1 339</td>\n      <td id=\"T_c787e_row16_col12\" class=\"data row16 col12\" >1 348</td>\n      <td id=\"T_c787e_row16_col13\" class=\"data row16 col13\" >729.061781</td>\n      <td id=\"T_c787e_row16_col14\" class=\"data row16 col14\" >1 342.712832</td>\n      <td id=\"T_c787e_row16_col15\" class=\"data row16 col15\" >1 345.620197</td>\n      <td id=\"T_c787e_row16_col16\" class=\"data row16 col16\" >2.907365</td>\n      <td id=\"T_c787e_row16_col17\" class=\"data row16 col17\" >6 687.583157</td>\n    </tr>\n    <tr>\n      <th id=\"T_c787e_level0_row17\" class=\"row_heading level0 row17\" >17</th>\n      <td id=\"T_c787e_row17_col0\" class=\"data row17 col0\" >Si/SI2022/SI09722.Chn</td>\n      <td id=\"T_c787e_row17_col1\" class=\"data row17 col1\" >1 384</td>\n      <td id=\"T_c787e_row17_col2\" class=\"data row17 col2\" >1 380</td>\n      <td id=\"T_c787e_row17_col3\" class=\"data row17 col3\" >1 388</td>\n      <td id=\"T_c787e_row17_col4\" class=\"data row17 col4\" >1 383.862590</td>\n      <td id=\"T_c787e_row17_col5\" class=\"data row17 col5\" >1 383.969862</td>\n      <td id=\"T_c787e_row17_col6\" class=\"data row17 col6\" >185.777922</td>\n      <td id=\"T_c787e_row17_col7\" class=\"data row17 col7\" >58.403644</td>\n      <td id=\"T_c787e_row17_col8\" class=\"data row17 col8\" >10.089738</td>\n      <td id=\"T_c787e_row17_col9\" class=\"data row17 col9\" >18.914356</td>\n      <td id=\"T_c787e_row17_col10\" class=\"data row17 col10\" >58.403644</td>\n      <td id=\"T_c787e_row17_col11\" class=\"data row17 col11\" >1 380</td>\n      <td id=\"T_c787e_row17_col12\" class=\"data row17 col12\" >1 388</td>\n      <td id=\"T_c787e_row17_col13\" class=\"data row17 col13\" >29.201822</td>\n      <td id=\"T_c787e_row17_col14\" class=\"data row17 col14\" >1 382.343027</td>\n      <td id=\"T_c787e_row17_col15\" class=\"data row17 col15\" >1 385.382154</td>\n      <td id=\"T_c787e_row17_col16\" class=\"data row17 col16\" >3.039127</td>\n      <td id=\"T_c787e_row17_col17\" class=\"data row17 col17\" >2 474.455858</td>\n    </tr>\n    <tr>\n      <th id=\"T_c787e_level0_row18\" class=\"row_heading level0 row18\" >18</th>\n      <td id=\"T_c787e_row18_col0\" class=\"data row18 col0\" >Si/SI2022/SI09722.Chn</td>\n      <td id=\"T_c787e_row18_col1\" class=\"data row18 col1\" >1 466</td>\n      <td id=\"T_c787e_row18_col2\" class=\"data row18 col2\" >1 461</td>\n      <td id=\"T_c787e_row18_col3\" class=\"data row18 col3\" >1 469</td>\n      <td id=\"T_c787e_row18_col4\" class=\"data row18 col4\" >1 465.271418</td>\n      <td id=\"T_c787e_row18_col5\" class=\"data row18 col5\" >1 465.296016</td>\n      <td id=\"T_c787e_row18_col6\" class=\"data row18 col6\" >371.187687</td>\n      <td id=\"T_c787e_row18_col7\" class=\"data row18 col7\" >113.464957</td>\n      <td id=\"T_c787e_row18_col8\" class=\"data row18 col8\" >24.144991</td>\n      <td id=\"T_c787e_row18_col9\" class=\"data row18 col9\" >80.868292</td>\n      <td id=\"T_c787e_row18_col10\" class=\"data row18 col10\" >113.464957</td>\n      <td id=\"T_c787e_row18_col11\" class=\"data row18 col11\" >1 461</td>\n      <td id=\"T_c787e_row18_col12\" class=\"data row18 col12\" >1 469</td>\n      <td id=\"T_c787e_row18_col13\" class=\"data row18 col13\" >56.732479</td>\n      <td id=\"T_c787e_row18_col14\" class=\"data row18 col14\" >1 463.841295</td>\n      <td id=\"T_c787e_row18_col15\" class=\"data row18 col15\" >1 466.701542</td>\n      <td id=\"T_c787e_row18_col16\" class=\"data row18 col16\" >2.860247</td>\n      <td id=\"T_c787e_row18_col17\" class=\"data row18 col17\" >2 544.183010</td>\n    </tr>\n    <tr>\n      <th id=\"T_c787e_level0_row19\" class=\"row_heading level0 row19\" >19</th>\n      <td id=\"T_c787e_row19_col0\" class=\"data row19 col0\" >Si/SI2022/SI09722.Chn</td>\n      <td id=\"T_c787e_row19_col1\" class=\"data row19 col1\" >1 509</td>\n      <td id=\"T_c787e_row19_col2\" class=\"data row19 col2\" >1 506</td>\n      <td id=\"T_c787e_row19_col3\" class=\"data row19 col3\" >1 512</td>\n      <td id=\"T_c787e_row19_col4\" class=\"data row19 col4\" >1 508.940200</td>\n      <td id=\"T_c787e_row19_col5\" class=\"data row19 col5\" >1 508.855958</td>\n      <td id=\"T_c787e_row19_col6\" class=\"data row19 col6\" >498.251649</td>\n      <td id=\"T_c787e_row19_col7\" class=\"data row19 col7\" >180.790842</td>\n      <td id=\"T_c787e_row19_col8\" class=\"data row19 col8\" >69.205160</td>\n      <td id=\"T_c787e_row19_col9\" class=\"data row19 col9\" >68.833530</td>\n      <td id=\"T_c787e_row19_col10\" class=\"data row19 col10\" >180.790842</td>\n      <td id=\"T_c787e_row19_col11\" class=\"data row19 col11\" >1 505</td>\n      <td id=\"T_c787e_row19_col12\" class=\"data row19 col12\" >1 513</td>\n      <td id=\"T_c787e_row19_col13\" class=\"data row19 col13\" >90.395421</td>\n      <td id=\"T_c787e_row19_col14\" class=\"data row19 col14\" >1 507.629370</td>\n      <td id=\"T_c787e_row19_col15\" class=\"data row19 col15\" >1 510.251031</td>\n      <td id=\"T_c787e_row19_col16\" class=\"data row19 col16\" >2.621662</td>\n      <td id=\"T_c787e_row19_col17\" class=\"data row19 col17\" >2 139.748351</td>\n    </tr>\n    <tr>\n      <th id=\"T_c787e_level0_row20\" class=\"row_heading level0 row20\" >20</th>\n      <td id=\"T_c787e_row20_col0\" class=\"data row20 col0\" >Si/SI2022/SI09722.Chn</td>\n      <td id=\"T_c787e_row20_col1\" class=\"data row20 col1\" >1 552</td>\n      <td id=\"T_c787e_row20_col2\" class=\"data row20 col2\" >1 549</td>\n      <td id=\"T_c787e_row20_col3\" class=\"data row20 col3\" >1 555</td>\n      <td id=\"T_c787e_row20_col4\" class=\"data row20 col4\" >1 551.717937</td>\n      <td id=\"T_c787e_row20_col5\" class=\"data row20 col5\" >1 551.926199</td>\n      <td id=\"T_c787e_row20_col6\" class=\"data row20 col6\" >232.823027</td>\n      <td id=\"T_c787e_row20_col7\" class=\"data row20 col7\" >81.564656</td>\n      <td id=\"T_c787e_row20_col8\" class=\"data row20 col8\" >33.146628</td>\n      <td id=\"T_c787e_row20_col9\" class=\"data row20 col9\" >48.866966</td>\n      <td id=\"T_c787e_row20_col10\" class=\"data row20 col10\" >81.564656</td>\n      <td id=\"T_c787e_row20_col11\" class=\"data row20 col11\" >1 543</td>\n      <td id=\"T_c787e_row20_col12\" class=\"data row20 col12\" >1 556</td>\n      <td id=\"T_c787e_row20_col13\" class=\"data row20 col13\" >40.782328</td>\n      <td id=\"T_c787e_row20_col14\" class=\"data row20 col14\" >1 550.601316</td>\n      <td id=\"T_c787e_row20_col15\" class=\"data row20 col15\" >1 552.834558</td>\n      <td id=\"T_c787e_row20_col16\" class=\"data row20 col16\" >2.233242</td>\n      <td id=\"T_c787e_row20_col17\" class=\"data row20 col17\" >1 807.176973</td>\n    </tr>\n    <tr>\n      <th id=\"T_c787e_level0_row21\" class=\"row_heading level0 row21\" >21</th>\n      <td id=\"T_c787e_row21_col0\" class=\"data row21 col0\" >Si/SI2022/SI09722.Chn</td>\n      <td id=\"T_c787e_row21_col1\" class=\"data row21 col1\" >1 604</td>\n      <td id=\"T_c787e_row21_col2\" class=\"data row21 col2\" >1 600</td>\n      <td id=\"T_c787e_row21_col3\" class=\"data row21 col3\" >1 608</td>\n      <td id=\"T_c787e_row21_col4\" class=\"data row21 col4\" >1 603.740643</td>\n      <td id=\"T_c787e_row21_col5\" class=\"data row21 col5\" >1 603.651918</td>\n      <td id=\"T_c787e_row21_col6\" class=\"data row21 col6\" >396.879271</td>\n      <td id=\"T_c787e_row21_col7\" class=\"data row21 col7\" >116.850048</td>\n      <td id=\"T_c787e_row21_col8\" class=\"data row21 col8\" >16.209823</td>\n      <td id=\"T_c787e_row21_col9\" class=\"data row21 col9\" >46.823058</td>\n      <td id=\"T_c787e_row21_col10\" class=\"data row21 col10\" >116.850048</td>\n      <td id=\"T_c787e_row21_col11\" class=\"data row21 col11\" >1 562</td>\n      <td id=\"T_c787e_row21_col12\" class=\"data row21 col12\" >1 608</td>\n      <td id=\"T_c787e_row21_col13\" class=\"data row21 col13\" >58.425024</td>\n      <td id=\"T_c787e_row21_col14\" class=\"data row21 col14\" >1 602.248660</td>\n      <td id=\"T_c787e_row21_col15\" class=\"data row21 col15\" >1 605.232626</td>\n      <td id=\"T_c787e_row21_col16\" class=\"data row21 col16\" >2.983966</td>\n      <td id=\"T_c787e_row21_col17\" class=\"data row21 col17\" >2 302.770821</td>\n    </tr>\n    <tr>\n      <th id=\"T_c787e_level0_row22\" class=\"row_heading level0 row22\" >22</th>\n      <td id=\"T_c787e_row22_col0\" class=\"data row22 col0\" >Si/SI2022/SI09722.Chn</td>\n      <td id=\"T_c787e_row22_col1\" class=\"data row22 col1\" >1 843</td>\n      <td id=\"T_c787e_row22_col2\" class=\"data row22 col2\" >1 838</td>\n      <td id=\"T_c787e_row22_col3\" class=\"data row22 col3\" >1 848</td>\n      <td id=\"T_c787e_row22_col4\" class=\"data row22 col4\" >1 843.072837</td>\n      <td id=\"T_c787e_row22_col5\" class=\"data row22 col5\" >1 842.715078</td>\n      <td id=\"T_c787e_row22_col6\" class=\"data row22 col6\" >431.309571</td>\n      <td id=\"T_c787e_row22_col7\" class=\"data row22 col7\" >104.681195</td>\n      <td id=\"T_c787e_row22_col8\" class=\"data row22 col8\" >42.204745</td>\n      <td id=\"T_c787e_row22_col9\" class=\"data row22 col9\" >11.787406</td>\n      <td id=\"T_c787e_row22_col10\" class=\"data row22 col10\" >104.681195</td>\n      <td id=\"T_c787e_row22_col11\" class=\"data row22 col11\" >1 826</td>\n      <td id=\"T_c787e_row22_col12\" class=\"data row22 col12\" >1 855</td>\n      <td id=\"T_c787e_row22_col13\" class=\"data row22 col13\" >52.340598</td>\n      <td id=\"T_c787e_row22_col14\" class=\"data row22 col14\" >1 841.331872</td>\n      <td id=\"T_c787e_row22_col15\" class=\"data row22 col15\" >1 844.813802</td>\n      <td id=\"T_c787e_row22_col16\" class=\"data row22 col16\" >3.481931</td>\n      <td id=\"T_c787e_row22_col17\" class=\"data row22 col17\" >2 066.690429</td>\n    </tr>\n    <tr>\n      <th id=\"T_c787e_level0_row23\" class=\"row_heading level0 row23\" >23</th>\n      <td id=\"T_c787e_row23_col0\" class=\"data row23 col0\" >Si/SI2022/SI09722.Chn</td>\n      <td id=\"T_c787e_row23_col1\" class=\"data row23 col1\" >1 851</td>\n      <td id=\"T_c787e_row23_col2\" class=\"data row23 col2\" >1 846</td>\n      <td id=\"T_c787e_row23_col3\" class=\"data row23 col3\" >1 856</td>\n      <td id=\"T_c787e_row23_col4\" class=\"data row23 col4\" >1 851.221983</td>\n      <td id=\"T_c787e_row23_col5\" class=\"data row23 col5\" >1 850.965468</td>\n      <td id=\"T_c787e_row23_col6\" class=\"data row23 col6\" >402.652671</td>\n      <td id=\"T_c787e_row23_col7\" class=\"data row23 col7\" >100.910240</td>\n      <td id=\"T_c787e_row23_col8\" class=\"data row23 col8\" >17.209139</td>\n      <td id=\"T_c787e_row23_col9\" class=\"data row23 col9\" >5.807188</td>\n      <td id=\"T_c787e_row23_col10\" class=\"data row23 col10\" >98.652638</td>\n      <td id=\"T_c787e_row23_col11\" class=\"data row23 col11\" >1 847</td>\n      <td id=\"T_c787e_row23_col12\" class=\"data row23 col12\" >1 855</td>\n      <td id=\"T_c787e_row23_col13\" class=\"data row23 col13\" >51.583921</td>\n      <td id=\"T_c787e_row23_col14\" class=\"data row23 col14\" >1 849.360154</td>\n      <td id=\"T_c787e_row23_col15\" class=\"data row23 col15\" >1 853.083811</td>\n      <td id=\"T_c787e_row23_col16\" class=\"data row23 col16\" >3.723658</td>\n      <td id=\"T_c787e_row23_col17\" class=\"data row23 col17\" >1 994.308504</td>\n    </tr>\n    <tr>\n      <th id=\"T_c787e_level0_row24\" class=\"row_heading level0 row24\" >24</th>\n      <td id=\"T_c787e_row24_col0\" class=\"data row24 col0\" >Si/SI2022/SI09722.Chn</td>\n      <td id=\"T_c787e_row24_col1\" class=\"data row24 col1\" >1 938</td>\n      <td id=\"T_c787e_row24_col2\" class=\"data row24 col2\" >1 934</td>\n      <td id=\"T_c787e_row24_col3\" class=\"data row24 col3\" >1 942</td>\n      <td id=\"T_c787e_row24_col4\" class=\"data row24 col4\" >1 937.966871</td>\n      <td id=\"T_c787e_row24_col5\" class=\"data row24 col5\" >1 937.891821</td>\n      <td id=\"T_c787e_row24_col6\" class=\"data row24 col6\" >9 640.048330</td>\n      <td id=\"T_c787e_row24_col7\" class=\"data row24 col7\" >2 768.384288</td>\n      <td id=\"T_c787e_row24_col8\" class=\"data row24 col8\" >611.477994</td>\n      <td id=\"T_c787e_row24_col9\" class=\"data row24 col9\" >678.635720</td>\n      <td id=\"T_c787e_row24_col10\" class=\"data row24 col10\" >2 768.384288</td>\n      <td id=\"T_c787e_row24_col11\" class=\"data row24 col11\" >1 927</td>\n      <td id=\"T_c787e_row24_col12\" class=\"data row24 col12\" >1 949</td>\n      <td id=\"T_c787e_row24_col13\" class=\"data row24 col13\" >1 384.192144</td>\n      <td id=\"T_c787e_row24_col14\" class=\"data row24 col14\" >1 936.335226</td>\n      <td id=\"T_c787e_row24_col15\" class=\"data row24 col15\" >1 939.598517</td>\n      <td id=\"T_c787e_row24_col16\" class=\"data row24 col16\" >3.263292</td>\n      <td id=\"T_c787e_row24_col17\" class=\"data row24 col17\" >10 751.951670</td>\n    </tr>\n    <tr>\n      <th id=\"T_c787e_level0_row25\" class=\"row_heading level0 row25\" >25</th>\n      <td id=\"T_c787e_row25_col0\" class=\"data row25 col0\" >Si/SI2022/SI09722.Chn</td>\n      <td id=\"T_c787e_row25_col1\" class=\"data row25 col1\" >2 044</td>\n      <td id=\"T_c787e_row25_col2\" class=\"data row25 col2\" >2 042</td>\n      <td id=\"T_c787e_row25_col3\" class=\"data row25 col3\" >2 047</td>\n      <td id=\"T_c787e_row25_col4\" class=\"data row25 col4\" >2 044.522518</td>\n      <td id=\"T_c787e_row25_col5\" class=\"data row25 col5\" >2 044.817755</td>\n      <td id=\"T_c787e_row25_col6\" class=\"data row25 col6\" >91.418206</td>\n      <td id=\"T_c787e_row25_col7\" class=\"data row25 col7\" >38.950089</td>\n      <td id=\"T_c787e_row25_col8\" class=\"data row25 col8\" >34.136404</td>\n      <td id=\"T_c787e_row25_col9\" class=\"data row25 col9\" >15.863929</td>\n      <td id=\"T_c787e_row25_col10\" class=\"data row25 col10\" >38.950089</td>\n      <td id=\"T_c787e_row25_col11\" class=\"data row25 col11\" >2 042</td>\n      <td id=\"T_c787e_row25_col12\" class=\"data row25 col12\" >2 050</td>\n      <td id=\"T_c787e_row25_col13\" class=\"data row25 col13\" >19.475044</td>\n      <td id=\"T_c787e_row25_col14\" class=\"data row25 col14\" >2 043.429493</td>\n      <td id=\"T_c787e_row25_col15\" class=\"data row25 col15\" >2 045.615542</td>\n      <td id=\"T_c787e_row25_col16\" class=\"data row25 col16\" >2.186048</td>\n      <td id=\"T_c787e_row25_col17\" class=\"data row25 col17\" >677.902167</td>\n    </tr>\n    <tr>\n      <th id=\"T_c787e_level0_row26\" class=\"row_heading level0 row26\" >26</th>\n      <td id=\"T_c787e_row26_col0\" class=\"data row26 col0\" >Si/SI2022/SI09722.Chn</td>\n      <td id=\"T_c787e_row26_col1\" class=\"data row26 col1\" >2 199</td>\n      <td id=\"T_c787e_row26_col2\" class=\"data row26 col2\" >2 194</td>\n      <td id=\"T_c787e_row26_col3\" class=\"data row26 col3\" >2 204</td>\n      <td id=\"T_c787e_row26_col4\" class=\"data row26 col4\" >2 198.919741</td>\n      <td id=\"T_c787e_row26_col5\" class=\"data row26 col5\" >2 198.777009</td>\n      <td id=\"T_c787e_row26_col6\" class=\"data row26 col6\" >8 705.493937</td>\n      <td id=\"T_c787e_row26_col7\" class=\"data row26 col7\" >2 345.036049</td>\n      <td id=\"T_c787e_row26_col8\" class=\"data row26 col8\" >422.331361</td>\n      <td id=\"T_c787e_row26_col9\" class=\"data row26 col9\" >499.744058</td>\n      <td id=\"T_c787e_row26_col10\" class=\"data row26 col10\" >2 345.036049</td>\n      <td id=\"T_c787e_row26_col11\" class=\"data row26 col11\" >2 189</td>\n      <td id=\"T_c787e_row26_col12\" class=\"data row26 col12\" >2 204</td>\n      <td id=\"T_c787e_row26_col13\" class=\"data row26 col13\" >1 172.518024</td>\n      <td id=\"T_c787e_row26_col14\" class=\"data row26 col14\" >2 197.208888</td>\n      <td id=\"T_c787e_row26_col15\" class=\"data row26 col15\" >2 200.630595</td>\n      <td id=\"T_c787e_row26_col16\" class=\"data row26 col16\" >3.421707</td>\n      <td id=\"T_c787e_row26_col17\" class=\"data row26 col17\" >9 432.056778</td>\n    </tr>\n    <tr>\n      <th id=\"T_c787e_level0_row27\" class=\"row_heading level0 row27\" >27</th>\n      <td id=\"T_c787e_row27_col0\" class=\"data row27 col0\" >Si/SI2022/SI09722.Chn</td>\n      <td id=\"T_c787e_row27_col1\" class=\"data row27 col1\" >2 409</td>\n      <td id=\"T_c787e_row27_col2\" class=\"data row27 col2\" >2 405</td>\n      <td id=\"T_c787e_row27_col3\" class=\"data row27 col3\" >2 414</td>\n      <td id=\"T_c787e_row27_col4\" class=\"data row27 col4\" >2 409.347106</td>\n      <td id=\"T_c787e_row27_col5\" class=\"data row27 col5\" >2 409.252785</td>\n      <td id=\"T_c787e_row27_col6\" class=\"data row27 col6\" >3 278.930459</td>\n      <td id=\"T_c787e_row27_col7\" class=\"data row27 col7\" >911.688154</td>\n      <td id=\"T_c787e_row27_col8\" class=\"data row27 col8\" >364.175012</td>\n      <td id=\"T_c787e_row27_col9\" class=\"data row27 col9\" >98.851489</td>\n      <td id=\"T_c787e_row27_col10\" class=\"data row27 col10\" >911.688154</td>\n      <td id=\"T_c787e_row27_col11\" class=\"data row27 col11\" >2 396</td>\n      <td id=\"T_c787e_row27_col12\" class=\"data row27 col12\" >2 414</td>\n      <td id=\"T_c787e_row27_col13\" class=\"data row27 col13\" >455.844077</td>\n      <td id=\"T_c787e_row27_col14\" class=\"data row27 col14\" >2 407.699569</td>\n      <td id=\"T_c787e_row27_col15\" class=\"data row27 col15\" >2 410.994644</td>\n      <td id=\"T_c787e_row27_col16\" class=\"data row27 col16\" >3.295075</td>\n      <td id=\"T_c787e_row27_col17\" class=\"data row27 col17\" >3 645.096995</td>\n    </tr>\n    <tr>\n      <th id=\"T_c787e_level0_row28\" class=\"row_heading level0 row28\" >28</th>\n      <td id=\"T_c787e_row28_col0\" class=\"data row28 col0\" >Si/SI2022/SI09722.Chn</td>\n      <td id=\"T_c787e_row28_col1\" class=\"data row28 col1\" >2 618</td>\n      <td id=\"T_c787e_row28_col2\" class=\"data row28 col2\" >2 615</td>\n      <td id=\"T_c787e_row28_col3\" class=\"data row28 col3\" >2 621</td>\n      <td id=\"T_c787e_row28_col4\" class=\"data row28 col4\" >2 618.236394</td>\n      <td id=\"T_c787e_row28_col5\" class=\"data row28 col5\" >2 617.943763</td>\n      <td id=\"T_c787e_row28_col6\" class=\"data row28 col6\" >117.575499</td>\n      <td id=\"T_c787e_row28_col7\" class=\"data row28 col7\" >35.655173</td>\n      <td id=\"T_c787e_row28_col8\" class=\"data row28 col8\" >16.015234</td>\n      <td id=\"T_c787e_row28_col9\" class=\"data row28 col9\" >7.985810</td>\n      <td id=\"T_c787e_row28_col10\" class=\"data row28 col10\" >31.962296</td>\n      <td id=\"T_c787e_row28_col11\" class=\"data row28 col11\" >2 605</td>\n      <td id=\"T_c787e_row28_col12\" class=\"data row28 col12\" >2 621</td>\n      <td id=\"T_c787e_row28_col13\" class=\"data row28 col13\" >19.674025</td>\n      <td id=\"T_c787e_row28_col14\" class=\"data row28 col14\" >2 617.002128</td>\n      <td id=\"T_c787e_row28_col15\" class=\"data row28 col15\" >2 619.470660</td>\n      <td id=\"T_c787e_row28_col16\" class=\"data row28 col16\" >2.468531</td>\n      <td id=\"T_c787e_row28_col17\" class=\"data row28 col17\" >290.424501</td>\n    </tr>\n    <tr>\n      <th id=\"T_c787e_level0_row29\" class=\"row_heading level0 row29\" >29</th>\n      <td id=\"T_c787e_row29_col0\" class=\"data row29 col0\" >Si/SI2022/SI09722.Chn</td>\n      <td id=\"T_c787e_row29_col1\" class=\"data row29 col1\" >2 625</td>\n      <td id=\"T_c787e_row29_col2\" class=\"data row29 col2\" >2 620</td>\n      <td id=\"T_c787e_row29_col3\" class=\"data row29 col3\" >2 630</td>\n      <td id=\"T_c787e_row29_col4\" class=\"data row29 col4\" >2 625.235446</td>\n      <td id=\"T_c787e_row29_col5\" class=\"data row29 col5\" >2 625.432192</td>\n      <td id=\"T_c787e_row29_col6\" class=\"data row29 col6\" >184.251898</td>\n      <td id=\"T_c787e_row29_col7\" class=\"data row29 col7\" >36.747044</td>\n      <td id=\"T_c787e_row29_col8\" class=\"data row29 col8\" >8.016863</td>\n      <td id=\"T_c787e_row29_col9\" class=\"data row29 col9\" >7.981842</td>\n      <td id=\"T_c787e_row29_col10\" class=\"data row29 col10\" >36.747044</td>\n      <td id=\"T_c787e_row29_col11\" class=\"data row29 col11\" >2 605</td>\n      <td id=\"T_c787e_row29_col12\" class=\"data row29 col12\" >2 633</td>\n      <td id=\"T_c787e_row29_col13\" class=\"data row29 col13\" >18.373522</td>\n      <td id=\"T_c787e_row29_col14\" class=\"data row29 col14\" >2 623.353295</td>\n      <td id=\"T_c787e_row29_col15\" class=\"data row29 col15\" >2 627.117597</td>\n      <td id=\"T_c787e_row29_col16\" class=\"data row29 col16\" >3.764302</td>\n      <td id=\"T_c787e_row29_col17\" class=\"data row29 col17\" >453.748102</td>\n    </tr>\n    <tr>\n      <th id=\"T_c787e_level0_row30\" class=\"row_heading level0 row30\" >30</th>\n      <td id=\"T_c787e_row30_col0\" class=\"data row30 col0\" >Si/SI2022/SI09722.Chn</td>\n      <td id=\"T_c787e_row30_col1\" class=\"data row30 col1\" >2 907</td>\n      <td id=\"T_c787e_row30_col2\" class=\"data row30 col2\" >2 902</td>\n      <td id=\"T_c787e_row30_col3\" class=\"data row30 col3\" >2 912</td>\n      <td id=\"T_c787e_row30_col4\" class=\"data row30 col4\" >2 906.748621</td>\n      <td id=\"T_c787e_row30_col5\" class=\"data row30 col5\" >2 906.560469</td>\n      <td id=\"T_c787e_row30_col6\" class=\"data row30 col6\" >367.863746</td>\n      <td id=\"T_c787e_row30_col7\" class=\"data row30 col7\" >98.096980</td>\n      <td id=\"T_c787e_row30_col8\" class=\"data row30 col8\" >33.017606</td>\n      <td id=\"T_c787e_row30_col9\" class=\"data row30 col9\" >13.988388</td>\n      <td id=\"T_c787e_row30_col10\" class=\"data row30 col10\" >98.096980</td>\n      <td id=\"T_c787e_row30_col11\" class=\"data row30 col11\" >2 901</td>\n      <td id=\"T_c787e_row30_col12\" class=\"data row30 col12\" >2 912</td>\n      <td id=\"T_c787e_row30_col13\" class=\"data row30 col13\" >49.048490</td>\n      <td id=\"T_c787e_row30_col14\" class=\"data row30 col14\" >2 904.940681</td>\n      <td id=\"T_c787e_row30_col15\" class=\"data row30 col15\" >2 908.556561</td>\n      <td id=\"T_c787e_row30_col16\" class=\"data row30 col16\" >3.615880</td>\n      <td id=\"T_c787e_row30_col17\" class=\"data row30 col17\" >605.015676</td>\n    </tr>\n    <tr>\n      <th id=\"T_c787e_level0_row31\" class=\"row_heading level0 row31\" >31</th>\n      <td id=\"T_c787e_row31_col0\" class=\"data row31 col0\" >Si/SI2022/SI09722.Chn</td>\n      <td id=\"T_c787e_row31_col1\" class=\"data row31 col1\" >3 462</td>\n      <td id=\"T_c787e_row31_col2\" class=\"data row31 col2\" >3 459</td>\n      <td id=\"T_c787e_row31_col3\" class=\"data row31 col3\" >3 464</td>\n      <td id=\"T_c787e_row31_col4\" class=\"data row31 col4\" >3 461.705813</td>\n      <td id=\"T_c787e_row31_col5\" class=\"data row31 col5\" >3 461.661554</td>\n      <td id=\"T_c787e_row31_col6\" class=\"data row31 col6\" >148.478718</td>\n      <td id=\"T_c787e_row31_col7\" class=\"data row31 col7\" >49.412683</td>\n      <td id=\"T_c787e_row31_col8\" class=\"data row31 col8\" >20.999216</td>\n      <td id=\"T_c787e_row31_col9\" class=\"data row31 col9\" >33.000709</td>\n      <td id=\"T_c787e_row31_col10\" class=\"data row31 col10\" >49.412683</td>\n      <td id=\"T_c787e_row31_col11\" class=\"data row31 col11\" >3 455</td>\n      <td id=\"T_c787e_row31_col12\" class=\"data row31 col12\" >3 469</td>\n      <td id=\"T_c787e_row31_col13\" class=\"data row31 col13\" >24.706342</td>\n      <td id=\"T_c787e_row31_col14\" class=\"data row31 col14\" >3 460.662965</td>\n      <td id=\"T_c787e_row31_col15\" class=\"data row31 col15\" >3 462.748661</td>\n      <td id=\"T_c787e_row31_col16\" class=\"data row31 col16\" >2.085696</td>\n      <td id=\"T_c787e_row31_col17\" class=\"data row31 col17\" >239.521282</td>\n    </tr>\n    <tr>\n      <th id=\"T_c787e_level0_row32\" class=\"row_heading level0 row32\" >32</th>\n      <td id=\"T_c787e_row32_col0\" class=\"data row32 col0\" >Si/SI2022/SI09722.Chn</td>\n      <td id=\"T_c787e_row32_col1\" class=\"data row32 col1\" >3 626</td>\n      <td id=\"T_c787e_row32_col2\" class=\"data row32 col2\" >3 624</td>\n      <td id=\"T_c787e_row32_col3\" class=\"data row32 col3\" >3 628</td>\n      <td id=\"T_c787e_row32_col4\" class=\"data row32 col4\" >3 626.102670</td>\n      <td id=\"T_c787e_row32_col5\" class=\"data row32 col5\" >3 626.280810</td>\n      <td id=\"T_c787e_row32_col6\" class=\"data row32 col6\" >120.994140</td>\n      <td id=\"T_c787e_row32_col7\" class=\"data row32 col7\" >42.199071</td>\n      <td id=\"T_c787e_row32_col8\" class=\"data row32 col8\" >27.997676</td>\n      <td id=\"T_c787e_row32_col9\" class=\"data row32 col9\" >22.002599</td>\n      <td id=\"T_c787e_row32_col10\" class=\"data row32 col10\" >42.199071</td>\n      <td id=\"T_c787e_row32_col11\" class=\"data row32 col11\" >3 622</td>\n      <td id=\"T_c787e_row32_col12\" class=\"data row32 col12\" >3 631</td>\n      <td id=\"T_c787e_row32_col13\" class=\"data row32 col13\" >21.099535</td>\n      <td id=\"T_c787e_row32_col14\" class=\"data row32 col14\" >3 625.246383</td>\n      <td id=\"T_c787e_row32_col15\" class=\"data row32 col15\" >3 626.958957</td>\n      <td id=\"T_c787e_row32_col16\" class=\"data row32 col16\" >1.712574</td>\n      <td id=\"T_c787e_row32_col17\" class=\"data row32 col17\" >199.005860</td>\n    </tr>\n    <tr>\n      <th id=\"T_c787e_level0_row33\" class=\"row_heading level0 row33\" >33</th>\n      <td id=\"T_c787e_row33_col0\" class=\"data row33 col0\" >Si/SI2022/SI09722.Chn</td>\n      <td id=\"T_c787e_row33_col1\" class=\"data row33 col1\" >4 001</td>\n      <td id=\"T_c787e_row33_col2\" class=\"data row33 col2\" >3 997</td>\n      <td id=\"T_c787e_row33_col3\" class=\"data row33 col3\" >4 006</td>\n      <td id=\"T_c787e_row33_col4\" class=\"data row33 col4\" >4 001.508930</td>\n      <td id=\"T_c787e_row33_col5\" class=\"data row33 col5\" >4 002.435195</td>\n      <td id=\"T_c787e_row33_col6\" class=\"data row33 col6\" >76.392060</td>\n      <td id=\"T_c787e_row33_col7\" class=\"data row33 col7\" >18.340678</td>\n      <td id=\"T_c787e_row33_col8\" class=\"data row33 col8\" >7.027800</td>\n      <td id=\"T_c787e_row33_col9\" class=\"data row33 col9\" >7.967530</td>\n      <td id=\"T_c787e_row33_col10\" class=\"data row33 col10\" >18.340678</td>\n      <td id=\"T_c787e_row33_col11\" class=\"data row33 col11\" >3 999</td>\n      <td id=\"T_c787e_row33_col12\" class=\"data row33 col12\" >4 017</td>\n      <td id=\"T_c787e_row33_col13\" class=\"data row33 col13\" >9.170339</td>\n      <td id=\"T_c787e_row33_col14\" class=\"data row33 col14\" >3 999.810611</td>\n      <td id=\"T_c787e_row33_col15\" class=\"data row33 col15\" >4 003.207249</td>\n      <td id=\"T_c787e_row33_col16\" class=\"data row33 col16\" >3.396639</td>\n      <td id=\"T_c787e_row33_col17\" class=\"data row33 col17\" >186.315002</td>\n    </tr>\n    <tr>\n      <th id=\"T_c787e_level0_row34\" class=\"row_heading level0 row34\" >34</th>\n      <td id=\"T_c787e_row34_col0\" class=\"data row34 col0\" >Si/SI2022/SI09722.Chn</td>\n      <td id=\"T_c787e_row34_col1\" class=\"data row34 col1\" >4 026</td>\n      <td id=\"T_c787e_row34_col2\" class=\"data row34 col2\" >4 024</td>\n      <td id=\"T_c787e_row34_col3\" class=\"data row34 col3\" >4 028</td>\n      <td id=\"T_c787e_row34_col4\" class=\"data row34 col4\" >4 025.975717</td>\n      <td id=\"T_c787e_row34_col5\" class=\"data row34 col5\" >4 025.754557</td>\n      <td id=\"T_c787e_row34_col6\" class=\"data row34 col6\" >59.707840</td>\n      <td id=\"T_c787e_row34_col7\" class=\"data row34 col7\" >21.944393</td>\n      <td id=\"T_c787e_row34_col8\" class=\"data row34 col8\" >14.036538</td>\n      <td id=\"T_c787e_row34_col9\" class=\"data row34 col9\" >14.966399</td>\n      <td id=\"T_c787e_row34_col10\" class=\"data row34 col10\" >21.944393</td>\n      <td id=\"T_c787e_row34_col11\" class=\"data row34 col11\" >4 017</td>\n      <td id=\"T_c787e_row34_col12\" class=\"data row34 col12\" >4 032</td>\n      <td id=\"T_c787e_row34_col13\" class=\"data row34 col13\" >10.972196</td>\n      <td id=\"T_c787e_row34_col14\" class=\"data row34 col14\" >4 025.218312</td>\n      <td id=\"T_c787e_row34_col15\" class=\"data row34 col15\" >4 026.733122</td>\n      <td id=\"T_c787e_row34_col16\" class=\"data row34 col16\" >1.514810</td>\n      <td id=\"T_c787e_row34_col17\" class=\"data row34 col17\" >110.292160</td>\n    </tr>\n  </tbody>\n</table>\n"
     },
     "execution_count": 26,
     "metadata": {},
     "output_type": "execute_result"
    }
   ],
   "source": [
    "# Teste 3: usando Styles:\n",
    "my_df = ogra.a_spec.spec_pks_df\n",
    "my_df.style.format(na_rep='MISSING', thousands=\" \",\n",
    "                   formatter={('fwhm_centr', 'centroids'): \"{:.2f}\"})"
   ],
   "metadata": {
    "collapsed": false
   }
  },
  {
   "cell_type": "code",
   "execution_count": 30,
   "outputs": [
    {
     "data": {
      "text/plain": "<pandas.io.formats.style.Styler at 0x191b1b5cfa0>",
      "text/html": "<style type=\"text/css\">\n</style>\n<table id=\"T_7f69f\">\n  <thead>\n    <tr>\n      <th class=\"index_name level0\" >Model:</th>\n      <th id=\"T_7f69f_level0_col0\" class=\"col_heading level0 col0\" colspan=\"2\">Decision Tree</th>\n      <th id=\"T_7f69f_level0_col2\" class=\"col_heading level0 col2\" colspan=\"2\">Regression</th>\n      <th id=\"T_7f69f_level0_col4\" class=\"col_heading level0 col4\" colspan=\"2\">Random</th>\n    </tr>\n    <tr>\n      <th class=\"index_name level1\" >Predicted:</th>\n      <th id=\"T_7f69f_level1_col0\" class=\"col_heading level1 col0\" >Tumour</th>\n      <th id=\"T_7f69f_level1_col1\" class=\"col_heading level1 col1\" >Non-Tumour</th>\n      <th id=\"T_7f69f_level1_col2\" class=\"col_heading level1 col2\" >Tumour</th>\n      <th id=\"T_7f69f_level1_col3\" class=\"col_heading level1 col3\" >Non-Tumour</th>\n      <th id=\"T_7f69f_level1_col4\" class=\"col_heading level1 col4\" >Tumour</th>\n      <th id=\"T_7f69f_level1_col5\" class=\"col_heading level1 col5\" >Non-Tumour</th>\n    </tr>\n    <tr>\n      <th class=\"index_name level0\" >Actual Label:</th>\n      <th class=\"blank col0\" >&nbsp;</th>\n      <th class=\"blank col1\" >&nbsp;</th>\n      <th class=\"blank col2\" >&nbsp;</th>\n      <th class=\"blank col3\" >&nbsp;</th>\n      <th class=\"blank col4\" >&nbsp;</th>\n      <th class=\"blank col5\" >&nbsp;</th>\n    </tr>\n  </thead>\n  <tbody>\n    <tr>\n      <th id=\"T_7f69f_level0_row0\" class=\"row_heading level0 row0\" >Tumour (Positive)</th>\n      <td id=\"T_7f69f_row0_col0\" class=\"data row0 col0\" >38.00</td>\n      <td id=\"T_7f69f_row0_col1\" class=\"data row0 col1\" >2</td>\n      <td id=\"T_7f69f_row0_col2\" class=\"data row0 col2\" >18</td>\n      <td id=\"T_7f69f_row0_col3\" class=\"data row0 col3\" >$ -22 000 000.0</td>\n      <td id=\"T_7f69f_row0_col4\" class=\"data row0 col4\" >21</td>\n      <td id=\"T_7f69f_row0_col5\" class=\"data row0 col5\" >MISSING</td>\n    </tr>\n    <tr>\n      <th id=\"T_7f69f_level0_row1\" class=\"row_heading level0 row1\" >Non-Tumour (Negative)</th>\n      <td id=\"T_7f69f_row1_col0\" class=\"data row1 col0\" >19.00</td>\n      <td id=\"T_7f69f_row1_col1\" class=\"data row1 col1\" >439</td>\n      <td id=\"T_7f69f_row1_col2\" class=\"data row1 col2\" >6</td>\n      <td id=\"T_7f69f_row1_col3\" class=\"data row1 col3\" >$ -452 000 000.0</td>\n      <td id=\"T_7f69f_row1_col4\" class=\"data row1 col4\" >226</td>\n      <td id=\"T_7f69f_row1_col5\" class=\"data row1 col5\" >232</td>\n    </tr>\n  </tbody>\n</table>\n"
     },
     "execution_count": 30,
     "metadata": {},
     "output_type": "execute_result"
    }
   ],
   "source": [
    "df = pd.DataFrame([[38.0, 2.0, 18.0, 22.0, 21, np.nan],[19, 439, 6, 452, 226,232]],\n",
    "                  index=pd.Index(['Tumour (Positive)', 'Non-Tumour (Negative)'], name='Actual Label:'),\n",
    "                  columns=pd.MultiIndex.from_product([['Decision Tree', 'Regression', 'Random'],['Tumour', 'Non-Tumour']], names=['Model:', 'Predicted:']))\n",
    "\n",
    "df.style.format(precision=0, na_rep='MISSING', thousands=\" \",\n",
    "                formatter={('Decision Tree', 'Tumour'): \"{:.2f}\",\n",
    "                           ('Regression', 'Non-Tumour'): lambda x: \"$ {:,.1f}\".format(x*-1e6)\n",
    "                           })"
   ],
   "metadata": {
    "collapsed": false
   }
  },
  {
   "cell_type": "code",
   "execution_count": null,
   "metadata": {},
   "outputs": [],
   "source": [
    "# 2022-Jun-24 No momento esses são os que interessam:\n",
    "# pann = ogra.a_spec..saw_spec.spec_parms\n",
    "cntarr = ogra.a_spec.net_spec_ser_an.y_s\n",
    "pkprms = ogra.a_spec.net_spec_ser_an.pk_parms"
   ]
  },
  {
   "cell_type": "code",
   "execution_count": null,
   "outputs": [],
   "source": [],
   "metadata": {
    "collapsed": false
   }
  },
  {
   "cell_type": "code",
   "execution_count": null,
   "metadata": {},
   "outputs": [],
   "source": [
    "# 2022-Jun-14\n",
    "# Verificando o que se tem até agora em a_raw_spec:\n",
    "# (Pode pular e ir direto aos gráficos)"
   ]
  },
  {
   "cell_type": "code",
   "execution_count": null,
   "metadata": {},
   "outputs": [],
   "source": [
    "\n",
    "# Testes:\n",
    "# https://numpy.org/doc/stable/reference/random/generator.html#distributions\n",
    "# x = np.linspace(0, 10, N) + rng.normal(loc=7, scale=0.05, size=N)\n",
    "# y = np.linspace(22, 23, N)\n",
    "\n",
    "# Busca do canal onde a altura do espectro se \"estabiliza\"\n",
    "# https://numpy.org/doc/stable/reference/routines.sort.html#searching\n",
    "\n",
    "# Escolha do que plotar:\n",
    "# y_plot = noisy_y\n",
    "# y_plot = var_win\n",
    "# y_plot = var_rel"
   ]
  },
  {
   "cell_type": "code",
   "execution_count": null,
   "metadata": {},
   "outputs": [],
   "source": [
    "# Initialize figure\n",
    "ogra.call_graphics()"
   ]
  },
  {
   "cell_type": "code",
   "execution_count": null,
   "outputs": [],
   "source": [
    "vars(pkprms)"
   ],
   "metadata": {
    "collapsed": false
   }
  },
  {
   "cell_type": "code",
   "execution_count": null,
   "metadata": {},
   "outputs": [],
   "source": [
    "# 2022-Dez-21 Achar o pico de maior área inicial do espectro:"
   ]
  },
  {
   "cell_type": "code",
   "execution_count": null,
   "outputs": [],
   "source": [
    "largest_pk = np.argmax(pkprms.rough_sums)\n",
    "pkprms.centroids[largest_pk]"
   ],
   "metadata": {
    "collapsed": false
   }
  },
  {
   "cell_type": "code",
   "execution_count": null,
   "metadata": {},
   "outputs": [],
   "source": [
    "# Só pra lembrar como faz divisão inteira\n",
    "21 // 7"
   ]
  },
  {
   "cell_type": "code",
   "execution_count": null,
   "metadata": {},
   "outputs": [],
   "source": [
    "wi_re = pkprms.wide_regions[largest_pk]\n",
    "x = np.linspace(wi_re[0], wi_re[1], num=wi_re[1]-wi_re[0]+1)\n",
    "y = cntarr[wi_re[0]:wi_re[1]+1]\n",
    "c1 =  pkprms.centroids[largest_pk]\n",
    "s1 = pkprms.propts['widths'][largest_pk]*pkprms.k_fwhm_to_sd\n",
    "a1 = pkprms.rough_sums[largest_pk]\n",
    "# c2 = 313\n",
    "# s2 = 1.5\n",
    "# a2 = 400\n",
    "sste = 2.0"
   ]
  },
  {
   "cell_type": "code",
   "execution_count": null,
   "outputs": [],
   "source": [
    "vars(pkprms)"
   ],
   "metadata": {
    "collapsed": false
   }
  },
  {
   "cell_type": "code",
   "execution_count": null,
   "outputs": [],
   "source": [],
   "metadata": {
    "collapsed": false
   }
  },
  {
   "cell_type": "code",
   "execution_count": null,
   "metadata": {},
   "outputs": [],
   "source": [
    "pars = Parameters()\n",
    "\n",
    "# line_mod = LinearModel(prefix='line_')\n",
    "# pars.update(line_mod.make_params())\n",
    "# pars['line_intercept'].set(value=200, min=50, max=400)\n",
    "# pars['line_slope'].set(value=0, min=-0.001, max=0.001)\n",
    "                      \n",
    "# exp_mod = ExponentialModel(prefix='exp_')\n",
    "# pars = exp_mod.guess(y, x=x)\n",
    "\n",
    "gauss1 = GaussianModel(prefix='g1_')\n",
    "pars.update(gauss1.make_params())\n",
    "pars['g1_center'].set(value=c1, min=c1-2, max=c1+2)\n",
    "pars['g1_sigma'].set(value=s1, min=0.5, max=10)\n",
    "pars['g1_amplitude'].set(value=a1, min=10)\n",
    "\n",
    "# mod = gauss1 + gauss2 + line_mod - step_mod\n",
    "# mod = gauss1 + gauss2 - step_mod\n",
    "mod = gauss1\n",
    "\n",
    "init = mod.eval(pars, x=x)\n",
    "out = mod.fit(y, pars, x=x)\n",
    "\n",
    "print(out.fit_report(min_correl=0.1))\n",
    "\n",
    "fig, axes = plt.subplots(1, 2, figsize=(20, 16))\n",
    "axes[0].set_yscale('log')\n",
    "axes[1].set_yscale('log')\n",
    "axes[0].set_ylim([10, 2.5e6])\n",
    "axes[1].set_ylim([10, 2.5e6])\n",
    "\n",
    "axes[0].plot(x, y, 'b')\n",
    "axes[0].plot(x, init, 'k--', label='initial fit')\n",
    "axes[0].plot(x, out.best_fit, 'r-', label='best fit')\n",
    "axes[0].legend(loc='best')\n",
    "\n",
    "comps = out.eval_components(x=x)\n",
    "axes[1].plot(x, y, 'b')\n",
    "axes[1].plot(x, comps['g1_'], 'g--', label='Gaussian component 1')\n",
    "# axes[1].plot(x, comps['g2_'], 'm--', label='Gaussian component 2')\n",
    "# axes[1].plot(x, comps['line_'], 'k--', label='Linear component')\n",
    "# axes[1].plot(x, -comps['step_'], 'r--', label='Step component')\n",
    "# axes[1].plot(x, comps['exp_'], 'k--', label='Exponential component')\n",
    "axes[1].legend(loc='best')\n",
    "\n",
    "# plt.show()\n",
    "# <end examples/doc_builtinmodels_nistgauss.py>"
   ]
  },
  {
   "cell_type": "code",
   "execution_count": null,
   "metadata": {},
   "outputs": [],
   "source": [
    "xfgn sr hsrthf srth"
   ]
  },
  {
   "cell_type": "code",
   "execution_count": null,
   "metadata": {},
   "outputs": [],
   "source": [
    "\n",
    "# 2022-Dez-21:\n",
    "# PAREI AQUI;\n",
    "# Usar os resultados de áreas dos picos e montar as curvas de eficiência\n",
    "\n",
    "# 2022-Mar-16\n",
    "# Fazendo ajuste polinomial nas eficiências:"
   ]
  },
  {
   "cell_type": "code",
   "execution_count": null,
   "metadata": {},
   "outputs": [],
   "source": [
    "from numpy.polynomial import Polynomial as P # 2020-09-06 Esta é a nova classe recomendada "
   ]
  },
  {
   "cell_type": "code",
   "execution_count": null,
   "metadata": {},
   "outputs": [],
   "source": [
    "En_CV_LoBg = np.array([81.00,\n",
    "86.54,\n",
    "121.78,\n",
    "133.51,\n",
    "302.85,\n",
    "344.28,\n",
    "356.02,\n",
    "604.69,\n",
    "661.66,\n",
    "795.84,\n",
    "964.13,\n",
    "1085.91,\n",
    "1112.12,\n",
    "1173.24,\n",
    "1332.50,\n",
    "1408.01\n",
    "])\n",
    "En_CV_GMX"
   ]
  },
  {
   "cell_type": "code",
   "execution_count": null,
   "metadata": {},
   "outputs": [],
   "source": [
    "Eff_CV_LoBg = np.array([4.4358,\n",
    "4.4723,\n",
    "5.4386,\n",
    "5.5045,\n",
    "3.1379,\n",
    "2.8722,\n",
    "2.7305,\n",
    "1.7817,\n",
    "1.6453,\n",
    "1.4026,\n",
    "1.1216,\n",
    "1.0200,\n",
    "0.9703,\n",
    "0.8962,\n",
    "0.8009,\n",
    "0.7397 ])\n",
    "Eff_CV_GMX"
   ]
  },
  {
   "cell_type": "code",
   "execution_count": null,
   "metadata": {},
   "outputs": [],
   "source": [
    "unc_perc = np.array([2.01,\n",
    "1.43,\n",
    "1.33,\n",
    "2.11,\n",
    "1.81,\n",
    "1.42,\n",
    "1.41,\n",
    "2.24,\n",
    "1.44,\n",
    "3.68,\n",
    "1.66,\n",
    "1.71,\n",
    "1.58,\n",
    "0.87,\n",
    "0.87,\n",
    "1.51 ])\n",
    "unc_perc"
   ]
  },
  {
   "cell_type": "code",
   "execution_count": null,
   "metadata": {},
   "outputs": [],
   "source": [
    "ln_En_CV_LoBg = np.log (En_CV_LoBg)\n",
    "ln_Eff_CV_LoBg = np.log (Eff_CV_LoBg)"
   ]
  },
  {
   "cell_type": "code",
   "execution_count": null,
   "metadata": {},
   "outputs": [],
   "source": [
    "N = 16"
   ]
  },
  {
   "cell_type": "code",
   "execution_count": null,
   "metadata": {},
   "outputs": [],
   "source": []
  },
  {
   "cell_type": "code",
   "execution_count": null,
   "metadata": {},
   "outputs": [],
   "source": [
    "# 2022-Mar-23\n",
    "# Parêntese para fazer nova calibração canal-energia do HPGe do projeto:"
   ]
  },
  {
   "cell_type": "code",
   "execution_count": null,
   "metadata": {},
   "outputs": [],
   "source": [
    "canal = np.array([210, 920, 1181, 7232])\n",
    "ener = np.array([46.5, 186, 238.6, 1460.8])"
   ]
  },
  {
   "cell_type": "code",
   "execution_count": null,
   "metadata": {},
   "outputs": [],
   "source": [
    "projeto = P.fit(x=canal, y=ener, deg=1).convert()\n",
    "projeto"
   ]
  },
  {
   "cell_type": "code",
   "execution_count": null,
   "metadata": {},
   "outputs": [],
   "source": [
    "projeto_ener_canal = P.fit(x=ener, y=canal, deg=1).convert()\n",
    "projeto_ener_canal"
   ]
  },
  {
   "cell_type": "code",
   "execution_count": null,
   "metadata": {},
   "outputs": [],
   "source": [
    "projeto_ener_canal(1173.2)"
   ]
  },
  {
   "cell_type": "code",
   "execution_count": null,
   "metadata": {},
   "outputs": [],
   "source": [
    "projeto_ener_canal(1332.486)"
   ]
  },
  {
   "cell_type": "code",
   "execution_count": null,
   "metadata": {},
   "outputs": [],
   "source": []
  },
  {
   "cell_type": "code",
   "execution_count": null,
   "metadata": {},
   "outputs": [],
   "source": []
  },
  {
   "cell_type": "code",
   "execution_count": null,
   "metadata": {},
   "outputs": [],
   "source": []
  },
  {
   "cell_type": "code",
   "execution_count": null,
   "metadata": {},
   "outputs": [],
   "source": [
    "P.fit(x=ln_En_CV_LoBg, y=ln_Eff_CV_LoBg, deg=5).convert()"
   ]
  },
  {
   "cell_type": "code",
   "execution_count": null,
   "metadata": {},
   "outputs": [],
   "source": [
    "poly_w = P.fit(x=ln_En_CV_LoBg, y=ln_Eff_CV_LoBg, deg=5, w=1/unc_perc).convert()\n",
    "poly_w"
   ]
  },
  {
   "cell_type": "code",
   "execution_count": null,
   "metadata": {},
   "outputs": [],
   "source": [
    "poly_w = P.fit(x=ln_En_CV_LoBg, y=ln_Eff_CV_LoBg, deg=5, w=1/unc_perc**2).convert()\n",
    "poly_w"
   ]
  },
  {
   "cell_type": "code",
   "execution_count": null,
   "metadata": {},
   "outputs": [],
   "source": [
    "print(poly_w)"
   ]
  },
  {
   "cell_type": "code",
   "execution_count": null,
   "metadata": {},
   "outputs": [],
   "source": [
    "poly_o = P.fit(x=ln_En_CV_LoBg, y=Eff_CV_LoBg, deg=5)\n",
    "print(poly_o)"
   ]
  },
  {
   "cell_type": "code",
   "execution_count": null,
   "metadata": {},
   "outputs": [],
   "source": [
    "weights = np.linspace(1, 2, N)\n",
    "Xw = X * np.sqrt(weights)[:, None]\n",
    "yw = y * np.sqrt(weights)\n",
    "print (linalg.lstsq(Xw, yw)[0])"
   ]
  },
  {
   "cell_type": "code",
   "execution_count": null,
   "metadata": {},
   "outputs": [],
   "source": [
    "weights = 1.0 / unc_perc**2.0\n",
    "weights"
   ]
  },
  {
   "cell_type": "code",
   "execution_count": null,
   "metadata": {},
   "outputs": [],
   "source": [
    "Xw = ln_En_CV_LoBg * np.sqrt(weights)[:, None]\n",
    "yw = ln_Eff_CV_LoBg * np.sqrt(weights)\n",
    "print (linalg.lstsq(Xw, yw)[0])"
   ]
  },
  {
   "cell_type": "code",
   "execution_count": null,
   "metadata": {},
   "outputs": [],
   "source": [
    "print (linalg.lstsq(Xw, yw))"
   ]
  },
  {
   "cell_type": "code",
   "execution_count": null,
   "metadata": {},
   "outputs": [],
   "source": [
    "X = ln_En_CV_LoBg\n",
    "y = ln_Eff_CV_LoBg\n",
    "w1 = linalg.lstsq(X, y)\n",
    "print (w1)"
   ]
  },
  {
   "cell_type": "code",
   "execution_count": null,
   "metadata": {},
   "outputs": [],
   "source": [
    "np.log(2)"
   ]
  },
  {
   "cell_type": "code",
   "execution_count": null,
   "metadata": {},
   "outputs": [],
   "source": []
  },
  {
   "cell_type": "code",
   "execution_count": null,
   "metadata": {},
   "outputs": [],
   "source": [
    "# Figure 3\n",
    "figw3 = go.FigureWidget();\n",
    "figw3.add_trace(\n",
    "    go.Scatter(x=chans,\n",
    "               y=ys_net_counts,\n",
    "               name=\"Net counts\",\n",
    "               line=dict(color='green',width=0.5)));\n",
    "figw3.add_trace(\n",
    "    go.Scatter(x=peaks_net,\n",
    "               y=ys_net_counts[peaks_net],\n",
    "               mode=\"markers\",\n",
    "               name=\"net peaks\",\n",
    "               marker=dict(color='cyan',\n",
    "                           symbol='cross',\n",
    "                           size=15,\n",
    "                           opacity=0.7,\n",
    "                           line=dict(color='magenta', width=2.0)\n",
    "                          )\n",
    "              ));\n",
    "figw3.add_trace(\n",
    "    go.Scatter(x=peaks_1,\n",
    "               y=counts[peaks_1],\n",
    "               mode=\"markers\",\n",
    "               name=\"gross peaks\",\n",
    "               marker=dict(color='lightblue',\n",
    "                           symbol='cross',\n",
    "                           size=15,\n",
    "                           opacity=0.7,\n",
    "                           line=dict(color='green', width=2.0)\n",
    "                          )\n",
    "              ));\n",
    "# Set title and scale type\n",
    "figw3.update_layout(title_text=\"Gamma-ray net spectrum\")\n",
    "figw3.update_yaxes(type=\"log\");"
   ]
  },
  {
   "cell_type": "code",
   "execution_count": null,
   "metadata": {},
   "outputs": [],
   "source": [
    "figw3.write_html('figw3.html', auto_open=True)"
   ]
  },
  {
   "cell_type": "code",
   "execution_count": null,
   "metadata": {},
   "outputs": [],
   "source": [
    "# Essa será a 1b\n",
    "figw1 = go.FigureWidget();\n",
    "\n",
    "# Add Traces\n",
    "\n",
    "figw1.add_trace(\n",
    "    go.Scatter(x=chans_nzero,\n",
    "               y=counts_nzero,\n",
    "               error_y=dict(\n",
    "                   color='orange',width=3.0,\n",
    "                   type='data', # value of error bar given in data coordinates\n",
    "                   array=unc_y,\n",
    "                   visible=True),\n",
    "               name=\"Counts & uncertaintes\",\n",
    "               line=dict(color='orange',width=0.3)));\n",
    "\n",
    "figw1.add_trace(\n",
    "    go.Scatter(x=chans,\n",
    "               y=eval_y,\n",
    "               name=\"eval_y\",\n",
    "               line=dict(color='blue',width=0.5)));\n",
    "\n",
    "figw1.add_trace(\n",
    "    go.Scatter(x=peaks_1,\n",
    "               y=counts[peaks_1],\n",
    "               mode=\"markers\",\n",
    "               name=\"peaks\",\n",
    "               marker=dict(color='cyan',\n",
    "                           symbol='cross',\n",
    "                           size=20,\n",
    "                           opacity=0.5,\n",
    "                           line=dict(color='red', width=2.0)\n",
    "                          )\n",
    "              ));\n",
    "figw1.add_trace(\n",
    "    go.Scatter(x=peaks_net,\n",
    "               y=counts[peaks_net],\n",
    "               mode=\"markers\",\n",
    "               name=\"net peaks\",\n",
    "               marker=dict(color='red',\n",
    "                           symbol='circle',\n",
    "                           size=20,\n",
    "                           opacity=0.4,\n",
    "                           line=dict(color='green', width=2.0)\n",
    "                          )\n",
    "              ));\n",
    "\n",
    "figw4.add_trace(\n",
    "    go.Scatter(x=inis,\n",
    "               y=eval_y[inis],\n",
    "               mode=\"markers\",\n",
    "               name=\"inis\",\n",
    "               marker=dict(color='yellow',\n",
    "                           symbol='pentagon',\n",
    "                           size=10,\n",
    "                           opacity=1.0,\n",
    "                           line=dict(color='green', width=2.0)\n",
    "                          )\n",
    "              ));\n",
    "\n",
    "figw1.add_trace(\n",
    "    go.Scatter(x=fins,\n",
    "               y=eval_y[fins],\n",
    "               mode=\"markers\",\n",
    "               name=\"fins\",\n",
    "               marker=dict(color='cyan',\n",
    "                           symbol='star-triangle-down',\n",
    "                           size=10,\n",
    "                           opacity=1.0,\n",
    "                           line=dict(color='red', width=2.0)\n",
    "                          )\n",
    "              ));\n",
    "\n",
    "figw1.add_trace(\n",
    "    go.Scatter(x=xs_step_bline,\n",
    "               y=ys_step_bline,\n",
    "               name=\"Step baseline\",\n",
    "               line=dict(color='navy',width=0.4)));\n",
    "\n",
    "# Set title and scale type\n",
    "figw1.update_layout(title_text=\"Gamma-ray spectrum excerpt\")\n",
    "figw1.update_yaxes(type=\"log\");\n",
    "\n",
    "# Melhor não abrir inline, que seria simplesmente entrar com o nome do objeto:\n",
    "# figw2\n",
    "# Além de ficar com visualização incômoda, não funciona no JupyterLab; dá o erro:\n",
    "# Error displaying widget: model not found."
   ]
  },
  {
   "cell_type": "code",
   "execution_count": null,
   "metadata": {},
   "outputs": [],
   "source": [
    "figw4.write_html('figw4.html', auto_open=True)"
   ]
  },
  {
   "cell_type": "code",
   "execution_count": null,
   "outputs": [],
   "source": [
    "# 2022-Dez-28\n",
    "# Cópia do programa principal com interface, ograyspy_main_ui.py,\n",
    "# para testes com Pandas"
   ],
   "metadata": {
    "collapsed": false
   }
  },
  {
   "cell_type": "code",
   "execution_count": null,
   "outputs": [],
   "source": [
    "import sys\n",
    "from PyQt5.QtCore import *\n",
    "from PyQt5.QtGui import *\n",
    "from PyQt5.QtWebEngineWidgets import QWebEngineView\n",
    "from PyQt5.QtWidgets import *\n",
    "from css_test import css_test, apply_css\n",
    "\n",
    "from ograyspy_class import Ograyspy\n",
    "# from html_window_class import SimpleHtmlViewer\n",
    "\n",
    "class MainWindow(QMainWindow):\n",
    "    count = 0\n",
    "\n",
    "    def __init__(self, parent=None):\n",
    "        super(MainWindow, self).__init__(parent)\n",
    "        self.mdi = QMdiArea()\n",
    "\n",
    "        self.mdi.setHorizontalScrollBarPolicy(Qt.ScrollBarAsNeeded)\n",
    "        self.mdi.setVerticalScrollBarPolicy(Qt.ScrollBarAsNeeded)\n",
    "        self.setCentralWidget(self.mdi)\n",
    "\n",
    "        # self.mdi.subWindowActivated.connect(self.updateMenus)\n",
    "        self.windowMapper = QSignalMapper(self)\n",
    "        # self.windowMapper.mapped[QWidget].connect(self.setActiveSubWindow)\n",
    "\n",
    "        self.setCentralWidget(self.mdi)\n",
    "        bar = self.menuBar()\n",
    "\n",
    "        file = bar.addMenu(\"File\")\n",
    "        file.addAction(\"New\")\n",
    "        file.addAction(\"Open\")\n",
    "        file.addAction(\"Pandas-generate an_html_file.html\")\n",
    "        file.addAction(\"Show spectrum graphic\")\n",
    "        file.addAction(\"Show Pandas dataframe\")\n",
    "        file.addAction(\"cascade\")\n",
    "        file.addAction(\"Tiled\")\n",
    "        file.addAction(\"Exit\")\n",
    "        file.triggered[QAction].connect(self.windowaction)\n",
    "        self.setWindowTitle(\"MDI demo\")\n",
    "\n",
    "    def windowaction(self, q):\n",
    "        print(\"triggered\")\n",
    "\n",
    "        if q.text() == \"New\":\n",
    "            MainWindow.count = MainWindow.count + 1\n",
    "            sub = QMdiSubWindow()\n",
    "            sub.setWidget(QTextEdit())\n",
    "            sub.setWindowTitle(\"subwindow\" + str(MainWindow.count))\n",
    "            self.mdi.addSubWindow(sub)\n",
    "            sub.show()\n",
    "\n",
    "        if q.text() == \"Open\":\n",
    "            fileName, _ = QFileDialog.getOpenFileName(self)\n",
    "            if fileName:\n",
    "                # This is a hack...\n",
    "                # existing = self.findMdiChild(fileName)\n",
    "                existing = True\n",
    "                if existing:\n",
    "                    MainWindow.count = MainWindow.count + 1\n",
    "                    sub = QMdiSubWindow()\n",
    "                    sub.setWidget(QTextEdit())\n",
    "                    # sub.setWindowTitle(\"subwindow\" + str(MainWindow.count))\n",
    "                    sub.setWindowTitle(fileName)\n",
    "                    self.mdi.addSubWindow(sub)\n",
    "                    sub.show()\n",
    "\n",
    "        if q.text() == \"Pandas-generate an_html_file.html\":\n",
    "            fileName, _ = QFileDialog.getOpenFileName(self)\n",
    "            if fileName:\n",
    "                # This is a hack...\n",
    "                # existing = self.findMdiChild(fileName)\n",
    "                existing = True\n",
    "                if existing:\n",
    "                    ogra = Ograyspy(batch_mode=False)\n",
    "                    # to_be_found = 'Genie_Transfer'\n",
    "                    # print('\\nogra.define_files_folder(to_be_found)')\n",
    "                    # ogra.define_files_folder(to_be_found)\n",
    "                    ogra.a_spec_name = fileName\n",
    "                    # AQUI: ativar gener_dataframe qdo estiver pronto.\n",
    "                    ogra.perform_total_analysis(peak_sd_fact=3.0, gener_dataframe=True)\n",
    "                    ogra.a_spec.spec_pks_df.to_html(buf='an_html_file.html')\n",
    "                    # print(ogra.a_spec.spec_pks_df)\n",
    "\n",
    "                    MainWindow.count = MainWindow.count + 1\n",
    "                    sub = QMdiSubWindow()\n",
    "                    web = QWebEngineView()\n",
    "                    # web.load(QUrl(\"file:///C:/Users/mmaduar/PycharmProjects/OGRaySpY/src/my_file.html\"))\n",
    "                    apply_css(ogra.a_spec.spec_pks_df)\n",
    "                    web.load(QUrl(\"file:///C:/Users/mmaduar/PycharmProjects/OGRaySpY/src/an_html_file.html\"))\n",
    "                    # 2022-Dez-27 PAREI AQUI:\n",
    "                    # - passar a saída de to_html como string?\n",
    "                    # - O html pode ser renderizado com sucesso, inclusive com css\n",
    "                    # - porém, parece que o SEI não aceita css. Paciência.\n",
    "\n",
    "                    # web.load(ogra.dataframe_html_string)\n",
    "                    # css_test()\n",
    "                    sub.setWidget(web)\n",
    "                    sub.setWindowTitle(\"subwindow\" + str(MainWindow.count))\n",
    "                    self.mdi.addSubWindow(sub)\n",
    "                    sub.show()\n",
    "\n",
    "        if q.text() == \"Show spectrum graphic\":\n",
    "            MainWindow.count = MainWindow.count + 1\n",
    "            sub = QMdiSubWindow()\n",
    "            web = QWebEngineView()\n",
    "            web.load(QUrl(\"file:///C:/Users/mmaduar/PycharmProjects/OGRaySpY/src/gross_counts_graph.html\"))\n",
    "            sub.setWidget(web)\n",
    "            sub.setWindowTitle(\"subwindow\" + str(MainWindow.count))\n",
    "            self.mdi.addSubWindow(sub)\n",
    "            sub.show()\n",
    "\n",
    "        if q.text() == \"Show Pandas dataframe\":\n",
    "            MainWindow.count = MainWindow.count + 1\n",
    "            sub = QMdiSubWindow()\n",
    "            web = QWebEngineView()\n",
    "            web.load(QUrl(\"file:///C:/Users/mmaduar/PycharmProjects/OGRaySpY/src/my_file.html\"))\n",
    "            # 2022-Dez-23 PAREI AQUI - passar a saída de to_html como string\n",
    "            # web.load(ogra.dataframe_html_string)\n",
    "            css_test()\n",
    "            sub.setWidget(web)\n",
    "            sub.setWindowTitle(\"subwindow\" + str(MainWindow.count))\n",
    "            self.mdi.addSubWindow(sub)\n",
    "            sub.show()\n",
    "\n",
    "        if q.text() == \"cascade\":\n",
    "            self.mdi.cascadeSubWindows()\n",
    "\n",
    "        if q.text() == \"Tiled\":\n",
    "            self.mdi.tileSubWindows()\n",
    "\n",
    "        if q.text() == \"Exit\":\n",
    "            QApplication.instance().exit()\n",
    "\n",
    "    def findMdiChild(self, fileName):\n",
    "        canonicalFilePath = QFileInfo(fileName).canonicalFilePath()\n",
    "\n",
    "        for window in self.mdiArea.subWindowList():\n",
    "            if window.widget().currentFile() == canonicalFilePath:\n",
    "                return window\n",
    "        return None\n",
    "\n",
    "\n",
    "def main():\n",
    "    app = QApplication(sys.argv)\n",
    "    ex = MainWindow()\n",
    "    ex.show()\n",
    "    sys.exit(app.exec_())\n",
    "\n",
    "\n",
    "if __name__ == '__main__':\n",
    "    main()\n"
   ],
   "metadata": {
    "collapsed": false
   }
  },
  {
   "cell_type": "code",
   "execution_count": null,
   "outputs": [],
   "source": [
    "dir()"
   ],
   "metadata": {
    "collapsed": false
   }
  },
  {
   "cell_type": "code",
   "execution_count": null,
   "outputs": [],
   "source": [],
   "metadata": {
    "collapsed": false
   }
  }
 ],
 "metadata": {
  "kernelspec": {
   "display_name": "Python 3",
   "language": "python",
   "name": "python3"
  },
  "language_info": {
   "codemirror_mode": {
    "name": "ipython",
    "version": 3
   },
   "file_extension": ".py",
   "mimetype": "text/x-python",
   "name": "python",
   "nbconvert_exporter": "python",
   "pygments_lexer": "ipython3",
   "version": "3.7.3"
  }
 },
 "nbformat": 4,
 "nbformat_minor": 5
}
