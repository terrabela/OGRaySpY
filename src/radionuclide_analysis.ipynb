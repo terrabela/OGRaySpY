{
 "cells": [
  {
   "cell_type": "code",
   "execution_count": 1,
   "outputs": [],
   "source": [
    "# 2022-Dez-28\n",
    "# Jupyter notebook for tests with OGRaySpY modules"
   ],
   "metadata": {
    "collapsed": false
   }
  },
  {
   "cell_type": "code",
   "execution_count": 1,
   "outputs": [],
   "source": [],
   "metadata": {
    "collapsed": false
   }
  },
  {
   "cell_type": "code",
   "execution_count": 1,
   "outputs": [],
   "source": [],
   "metadata": {
    "collapsed": false
   }
  },
  {
   "cell_type": "code",
   "execution_count": 2,
   "outputs": [],
   "source": [
    "import numpy as np\n",
    "from numpy.random import default_rng\n",
    "from numpy.polynomial import Polynomial as P\n",
    "from scipy import special\n",
    "import matplotlib.pyplot as plt\n",
    "import pandas as pd\n",
    "import plotly.graph_objects as go\n",
    "\n",
    "from spec_class import Spec"
   ],
   "metadata": {
    "collapsed": false
   }
  },
  {
   "cell_type": "code",
   "execution_count": 3,
   "metadata": {},
   "outputs": [],
   "source": [
    "# https://lmfit.github.io/lmfit-py/builtin_models.html\n",
    "from lmfit import Model, minimize, Parameters, report_fit, fit_report, printfuncs\n",
    "from lmfit.models import LinearModel, StepModel, ExponentialModel, LorentzianModel\n",
    "from lmfit.models import GaussianModel, SkewedGaussianModel, ExpressionModel"
   ]
  },
  {
   "cell_type": "code",
   "execution_count": 4,
   "metadata": {},
   "outputs": [],
   "source": [
    "from ograyspy_class import Ograyspy"
   ]
  },
  {
   "cell_type": "code",
   "execution_count": 5,
   "metadata": {},
   "outputs": [
    {
     "name": "stdout",
     "output_type": "stream",
     "text": [
      "Objeto ogra: Ograyspy criado.\n",
      "ogra.info_plat: Windows-10-10.0.19044-SP0\n",
      "ogra.info_mach: AMD64\n",
      "ogra.info_syst: Windows\n",
      "ogra.info_node: I56611\n",
      "ogra.home_path: C:\\Users\\mmaduar\n"
     ]
    }
   ],
   "source": [
    "ogra = Ograyspy(batch_mode=False)\n",
    "print('Objeto ogra: Ograyspy criado.')\n",
    "print(f'ogra.info_plat: {ogra.info_plat}')\n",
    "print(f'ogra.info_mach: {ogra.info_mach}')\n",
    "print(f'ogra.info_syst: {ogra.info_syst}')\n",
    "print(f'ogra.info_node: {ogra.info_node}')\n",
    "print(f'ogra.home_path: {ogra.home_path}')"
   ]
  },
  {
   "cell_type": "code",
   "execution_count": 6,
   "metadata": {},
   "outputs": [],
   "source": [
    "# f_name = '../../Genie_Transfer/Si/SI2019/SI04119.Chn'\n",
    "# f_name = '../gamma/spectra/ALMERA-2016/alm_samp5_sedim_16.IEC'"
   ]
  },
  {
   "cell_type": "code",
   "execution_count": 7,
   "metadata": {},
   "outputs": [
    {
     "name": "stdout",
     "output_type": "stream",
     "text": [
      "\n",
      "ogra.define_files_folder(to_be_found)\n",
      "Found folder name:  C:\\Users\\mmaduar\\Nextcloud\\Genie_Transfer\n",
      "Partes:  ('C:\\\\', 'Users', 'mmaduar', 'Nextcloud', 'Genie_Transfer')\n",
      "No. spec files:  6868\n"
     ]
    }
   ],
   "source": [
    "to_be_found = 'Genie_Transfer'\n",
    "# to_be_found = 'some_spectra'\n",
    "print('\\nogra.define_files_folder(to_be_found)')\n",
    "ogra.define_files_folder(to_be_found)"
   ]
  },
  {
   "cell_type": "code",
   "execution_count": 8,
   "outputs": [],
   "source": [
    "# a spectrum pattern to find and test:"
   ],
   "metadata": {
    "collapsed": false
   }
  },
  {
   "cell_type": "code",
   "execution_count": 9,
   "metadata": {},
   "outputs": [],
   "source": [
    "# 2022\n",
    "# Se quiser ignorar o espectro aleatório, definir aqui um específico. Se não, pular.\n",
    "# Vou ignorar o espectro já analisado e refazer a análise, para testes.\n",
    "# 2022-Mar-24 Resolver essa questão dos nomes de arquivos em Linux e Windows\n",
    "# a_spec_name = '..\\\\..\\\\Genie_Transfer\\\\Si\\\\2018\\\\PNR\\\\PRN0803.Chn'\n",
    "# a_spec_name = '../../Genie_Transfer/Si/2018/PNR/PRN0803.Chn'\n",
    "# a_spec_name = '../../Genie_Transfer/Si/2018/CTP/CTP0908-2.Chn'\n",
    "# Esse é um que dá problema na baseline perto do 159 keV do I-123:\n",
    "# a_spec_name = '../../Genie_Transfer/Si/2018/CCI/CCI1508I.Chn'\n",
    "# Precisa quebrar mais a baseline: Ok, consertado!!!\n",
    "# 2022: Já usando o GMX:\n",
    "# a_spec_name = '../../Genie_Transfer/Filtros/2022/Cci/CCI1603-I.Chn'\n",
    "\n"
   ]
  },
  {
   "cell_type": "code",
   "execution_count": 10,
   "metadata": {},
   "outputs": [],
   "source": [
    "\n",
    "# 2022-out-7: Excelente espectro para testes, tenho usado ultimamente:\n",
    "# a_pattern = 'Si/SI2018/SI11318.Chn'\n",
    "# 2022-nov-16: outros espectros:\n",
    "# a_pattern = \"Filtros/2022/Cci/CCI1603-I.Chn\"\n",
    "# a_pattern = \"Filtros/2022/Cci/CCI2302-I.Chn\"\n",
    "\n",
    "# a_pattern = \"Eso_non_existe.Chn\"\n",
    "\n",
    "# 2022-Dez-21 Buscando outro espectro\n",
    "# a_pattern = 'CCI1603-I'\n",
    "# 2022-Dez-28 Este é um espectro mais recente:\n",
    "# a_pattern = 'SI09722.Chn'\n",
    "# 2022-Dez-28 Este é um espectro mais recente que posso comparar com saída do Genie:\n",
    "a_pattern = 'SI06322.Chn'"
   ]
  },
  {
   "cell_type": "code",
   "execution_count": 11,
   "outputs": [
    {
     "name": "stdout",
     "output_type": "stream",
     "text": [
      "\n",
      "\n",
      "ogra.select_spectrum(SI06322.Chn)\n",
      "Existing:\n",
      "Achou! indice=62, nomearq = almera22/user2023/SI2022/SI06322.Chn\n",
      "==========================\n",
      "Final choices:\n",
      "spectra_path: C:\\Users\\mmaduar\\Nextcloud\\Genie_Transfer\n",
      "a_spec_name: C:\\Users\\mmaduar\\Nextcloud\\Genie_Transfer\\almera22\\user2023\\SI2022\\SI06322.Chn\n",
      "reduced_f_name: almera22/user2023/SI2022/SI06322.Chn\n",
      "A spec name: C:\\Users\\mmaduar\\Nextcloud\\Genie_Transfer\\almera22\\user2023\\SI2022\\SI06322.Chn\n",
      "Reduced file name: almera22/user2023/SI2022/SI06322.Chn\n",
      "Starting Ograyspy.perform_total_analysis...\n",
      "Starting Spec.total_analysis...\n",
      "Finish Spec.total_analysis!\n",
      "Finished Ograyspy.perform_total_analysis!\n"
     ]
    }
   ],
   "source": [
    "\n",
    "\n",
    "print(f'\\n\\nogra.select_spectrum({a_pattern})')\n",
    "ogra.select_spectrum(a_pattern)\n",
    "print(f'A spec name: {ogra.a_spec_name}')\n",
    "print(f'Reduced file name: {ogra.reduced_f_name}')\n",
    "\n",
    "# AQUI: ativar gener_dataframe qdo estiver pronto.\n",
    "ogra.perform_total_analysis(peak_sd_fact=3.0, gener_dataframe=True)\n",
    "# print(ogra.a_spec.spec_pks_df)"
   ],
   "metadata": {
    "collapsed": false
   }
  },
  {
   "cell_type": "code",
   "execution_count": 12,
   "outputs": [
    {
     "data": {
      "text/plain": "{'net_spec_ser_an': <generic_series_analysis_class.GenericSeriesAnalysis at 0x1dd522fc0a0>,\n 'final_composed_baseline': <generic_series_analysis_class.GenericSeriesAnalysis at 0x1dd522fc070>,\n 'f_name': WindowsPath('C:/Users/mmaduar/Nextcloud/Genie_Transfer/almera22/user2023/SI2022/SI06322.Chn'),\n 'reduced_f_name': 'almera22/user2023/SI2022/SI06322.Chn',\n 'sufx': '.chn',\n 'spec_io': None,\n 'lv_time': 50000.0,\n 'rl_time': 50028.58,\n 'source_datetime': None,\n 'pkl_file': WindowsPath('C:/Users/mmaduar/Nextcloud/Genie_Transfer/almera22/user2023/SI2022/SI06322.pkl'),\n 'gross_spec_ser_an': <generic_series_analysis_class.GenericSeriesAnalysis at 0x1dd5227cb80>,\n 'origin_spec_ser_an': <generic_series_analysis_class.GenericSeriesAnalysis at 0x1dd52290880>,\n 'start_datetime': datetime.datetime(2022, 8, 4, 19, 42, 23),\n 'det_descr': 'MAQUINA_01 MCB 1 Input 1',\n 'sam_descr': 'SI-063/22 - Agua da Piscina do Reator IEA-R1 (GMX)',\n 'channel_energy_calib': <genericcalib_class.ChannelEnergyCalib at 0x1dd52290ee0>,\n 'spec_pks_df': Empty DataFrame\n Columns: []\n Index: []}"
     },
     "execution_count": 12,
     "metadata": {},
     "output_type": "execute_result"
    }
   ],
   "source": [
    "vars(ogra.a_spec)"
   ],
   "metadata": {
    "collapsed": false
   }
  },
  {
   "cell_type": "code",
   "execution_count": 13,
   "outputs": [
    {
     "data": {
      "text/plain": "{'k_fwhm_to_sd': 0.42466090014400953,\n 'peaks': array([  31,  125,  128,  144,  235,  241,  396,  582,  715,  737,  803,\n         842,  960, 1003, 1082, 1115, 1130, 1162, 1196, 1257, 1333, 1372,\n        1454, 1497, 1540, 1585, 1592, 1832, 1840, 1926, 2033, 2187, 2272,\n        2398, 2470, 2614, 2837, 2895, 3030, 3450, 3615, 4014], dtype=int64),\n 'pk_hei': array([], dtype=float64),\n 'widths': (None, None),\n 'mix_regions': array([], dtype=float64),\n 'plateaux': array([], dtype=float64),\n 'fwhm_plateaux': array([], dtype=float64),\n 'wide_regions': array([[  27,   35],\n        [ 123,  127],\n        [ 125,  131],\n        [ 142,  147],\n        [ 232,  239],\n        [ 237,  243],\n        [ 394,  398],\n        [ 579,  585],\n        [ 713,  717],\n        [ 734,  739],\n        [ 801,  805],\n        [ 836,  848],\n        [ 957,  964],\n        [1000, 1006],\n        [1079, 1086],\n        [1110, 1119],\n        [1127, 1132],\n        [1158, 1166],\n        [1194, 1198],\n        [1252, 1260],\n        [1328, 1337],\n        [1370, 1375],\n        [1450, 1458],\n        [1494, 1501],\n        [1536, 1544],\n        [1582, 1588],\n        [1589, 1595],\n        [1828, 1835],\n        [1835, 1844],\n        [1922, 1931],\n        [2028, 2036],\n        [2182, 2192],\n        [2267, 2277],\n        [2392, 2403],\n        [2467, 2473],\n        [2608, 2619],\n        [2834, 2841],\n        [2890, 2899],\n        [3026, 3034],\n        [3441, 3458],\n        [3610, 3621],\n        [4003, 4022]]),\n 'fwhm_centr': array([  31.01645579,  124.69690217,  128.28212143,  144.46856223,\n         235.36702762,  240.2492388 ,  396.0145058 ,  581.60936848,\n         715.12207284,  736.64232716,  802.67056744,  841.81011827,\n         960.25119868, 1002.98798753, 1082.17370278, 1114.62196057,\n        1129.55164526, 1162.26893269, 1195.99321241, 1256.05451846,\n        1332.77648595, 1372.44500207, 1453.82402486, 1497.23553061,\n        1540.26506344, 1585.18156761, 1592.02458625, 1831.63485366,\n        1839.81183506, 1926.26783626, 2032.1502095 , 2187.14015285,\n        2272.2787827 , 2397.40389929, 2469.87233458, 2613.43998576,\n        2837.6226341 , 2894.7262709 , 3030.00247774, 3449.77987134,\n        3615.31321308, 4012.64624649]),\n 'rough_sums': [1694.2500571756377,\n  1486.5959406853367,\n  2746.6605219002713,\n  1269.9550075441243,\n  668.2577111037252,\n  452.4611535668537,\n  346.9332852716651,\n  380.73353047985853,\n  151.62214001093798,\n  187.54026502419194,\n  118.8709421166466,\n  3222.9620337317106,\n  467.3472741083266,\n  731.2751128167524,\n  1920.2499961308986,\n  242.95679371015765,\n  160.52757510427898,\n  300.60480980632593,\n  82.72133811555052,\n  370.4936367928293,\n  2365.9709514630126,\n  167.47948451620772,\n  1193.7701710822455,\n  601.3174547895372,\n  692.7975235500821,\n  173.7064756667729,\n  340.0556063846695,\n  372.8865475974544,\n  329.5919518860874,\n  5347.497160537201,\n  142.60761531114832,\n  5023.581307779358,\n  286.8815609390967,\n  3156.520439390454,\n  136.9454336399722,\n  203.3864408643384,\n  88.66088235447995,\n  396.22338711619665,\n  68.06742998239882,\n  210.03904501013426,\n  148.20757745083299,\n  163.47601797762195],\n 'propts': {'peak_heights': array([ 563.32981903,  420.56893675,  864.43336533,  500.9611582 ,\n          170.44375986,  131.8759576 ,  205.2004002 ,  146.89976013,\n           73.93567206,   68.22252031,   65.11144042,  675.23074007,\n          160.32942296,  282.34701119,  660.38628531,   56.04454958,\n           57.30572755,   97.84907692,   54.57351234,  111.85523775,\n          686.97059987,   69.17516631,  364.10446193,  194.21681657,\n          180.43267718,   52.82033493,  119.61438423,  106.20498506,\n           80.08066194, 1453.91314791,   42.38543084, 1281.35886202,\n           74.91864881,  783.85248251,   45.69789474,   34.79609291,\n           23.82898884,  100.14597756,   19.45217984,   33.93028063,\n           31.83830596,   18.18947351]),\n  'left_thresholds': array([155.4122716 ,  71.87448396, 485.32919786, 386.69356603,\n          91.95482999,   3.09816454, 155.31199147,  11.2311923 ,\n          49.63229657,  31.55153681,  25.44687749,  77.68950708,\n          73.24340772, 121.26975583, 273.22945129,  11.09654329,\n          14.09048267,  39.13362348,  40.09163593,   2.14227827,\n          82.35096855,  51.13199131,  64.25706739,  91.19883822,\n          65.18281312,  24.10404974,  55.17606672,  24.16277521,\n          15.13550111, 512.29535953,  12.11775286, 374.23576017,\n          16.15345693,  21.16572754,  20.05731543,   6.03863992,\n          20.00856484,  19.01051816,   7.00120077,   7.01736719,\n           6.00661551,   5.03474197]),\n  'right_thresholds': array([2.17783355e+02, 1.94076831e+02, 2.38452778e+02, 7.62152157e+01,\n         3.69400061e-02, 1.25904597e+02, 1.48778162e+02, 9.19621139e+01,\n         3.73797624e+01, 5.84699884e+01, 6.25639710e+01, 1.71416256e+02,\n         2.67408286e+01, 1.21779801e+02, 1.18797736e+02, 2.19042878e+01,\n         4.19151650e+01, 2.58803540e+01, 4.09075630e+01, 8.18965151e+01,\n         2.14745675e+02, 1.08630276e+01, 1.06804402e+02, 4.98406873e+01,\n         1.88251963e+01, 6.89730290e+00, 4.88647209e+01, 5.28574369e+01,\n         2.08803715e+01, 1.55719806e+02, 3.29034041e+01, 1.28794193e+02,\n         4.84297025e+00, 3.11887893e+02, 2.19565883e+01, 1.29614347e+01,\n         9.91629314e-01, 4.29913518e+01, 7.99888744e+00, 9.83478497e-01,\n         8.99380084e+00, 2.96490567e+00]),\n  'prominences': array([ 563.32981903,  194.07683054,  864.43336533,  500.9611582 ,\n          170.44375986,  109.28640684,  205.2004002 ,  146.89976013,\n           73.93567206,   68.22252031,   65.11144042,  675.23074007,\n          160.32942296,  282.34701119,  660.38628531,   56.04454958,\n           57.30572755,   97.84907692,   54.57351234,  111.85523775,\n          686.97059987,   69.17516631,  364.10446193,  194.21681657,\n          180.43267718,   49.80132164,  119.61438423,  106.20498506,\n           77.48281467, 1453.91314791,   42.38543084, 1281.35886202,\n           74.91864881,  783.85248251,   45.69789474,   34.79609291,\n           23.82898884,  100.14597756,   19.45217984,   33.93028063,\n           31.83830596,   18.18947351]),\n  'left_bases': array([  28,  119,  119,  140,  194,  238,  394,  579,  712,  728,  801,\n          831,  951,  979, 1077, 1109, 1124, 1159, 1194, 1253, 1329, 1370,\n         1450, 1492, 1530, 1566, 1566, 1804, 1836, 1914, 2026, 2177, 2267,\n         2388, 2465, 2600, 2830, 2889, 3023, 3444, 3607, 3998], dtype=int64),\n  'right_bases': array([  36,  126,  134,  153,  275,  275,  399,  585,  718,  740,  808,\n          851,  964, 1006, 1087, 1120, 1134, 1165, 1198, 1259, 1337, 1376,\n         1459, 1501, 1549, 1587, 1596, 1843, 1843, 1932, 2036, 2192, 2276,\n         2403, 2473, 2622, 2847, 2899, 3036, 3457, 3621, 4020], dtype=int64),\n  'widths': array([2.87948023, 1.60619567, 2.34537074, 2.23262354, 2.58761485,\n         2.36953207, 1.35022576, 2.37865737, 1.73381425, 1.8821412 ,\n         1.69958294, 4.18046339, 2.71470561, 2.36168245, 2.78033714,\n         3.3707306 , 2.26389312, 2.95342755, 1.34764421, 3.25677501,\n         3.24695329, 2.24287863, 3.16589055, 2.69769696, 3.13243142,\n         2.47610355, 2.44932179, 2.74786223, 3.43000995, 3.34086139,\n         2.98775868, 3.60202329, 3.77090282, 3.74427421, 2.36052868,\n         4.01056915, 2.43620763, 3.33453444, 2.68606872, 5.90763757,\n         3.86501212, 6.4678015 ]),\n  'width_heights': array([281.66490952, 323.53052148, 432.21668266, 250.4805791 ,\n          85.22187993,  77.23275418, 102.6002001 ,  73.44988007,\n          36.96783603,  34.11126016,  32.55572021, 337.61537003,\n          80.16471148, 141.1735056 , 330.19314265,  28.02227479,\n          28.65286377,  48.92453846,  27.28675617,  55.92761887,\n         343.48529994,  34.58758316, 182.05223097,  97.10840828,\n          90.21633859,  27.91967411,  59.80719212,  53.10249253,\n          41.33925461, 726.95657395,  21.19271542, 640.67943101,\n          37.4593244 , 391.92624125,  22.84894737,  17.39804646,\n          11.91449442,  50.07298878,   9.72608992,  16.96514031,\n          15.91915298,   9.09473676]),\n  'left_ips': array([  29.57671568,  123.89380433,  127.10943606,  143.35225046,\n          234.07322019,  239.06447277,  395.33939293,  580.4200398 ,\n          714.25516572,  735.70125656,  801.82077597,  839.71988658,\n          958.89384588, 1001.8071463 , 1080.78353421, 1112.93659527,\n         1128.4196987 , 1160.79221892, 1195.3193903 , 1254.42613095,\n         1331.1530093 , 1371.32356276, 1452.24107958, 1495.88668213,\n         1538.69884773, 1583.94351583, 1590.79992536, 1830.26092255,\n         1838.09683009, 1924.59740556, 2030.65633016, 2185.33914121,\n         2270.39333129, 2395.53176218, 2468.69207024, 2611.43470119,\n         2836.40453028, 2893.05900368, 3028.65944338, 3446.82605255,\n         3613.38070702, 4009.41234574]),\n  'right_ips': array([  32.45619591,  125.5       ,  129.4548068 ,  145.584874  ,\n          236.66083504,  241.43400483,  396.68961868,  582.79869717,\n          715.98897996,  737.58339776,  803.52035892,  843.90034996,\n          961.60855149, 1004.16882875, 1083.56387135, 1116.30732587,\n         1130.68359182, 1163.74564646, 1196.66703451, 1257.68290597,\n         1334.3999626 , 1373.56644139, 1455.40697014, 1498.58437909,\n         1541.83127916, 1586.41961938, 1593.24924714, 1833.00878477,\n         1841.52684004, 1927.93826695, 2033.64408884, 2188.9411645 ,\n         2274.16423411, 2399.27603639, 2471.05259892, 2615.44527034,\n         2838.84073792, 2896.39353811, 3031.3455121 , 3452.73369012,\n         3617.24571914, 4015.88014725])},\n 'fwhm_centr_ini': array([  29.57671568,  123.89380433,  127.10943606,  143.35225046,\n         234.07322019,  239.06447277,  395.33939293,  580.4200398 ,\n         714.25516572,  735.70125656,  801.82077597,  839.71988658,\n         958.89384588, 1001.8071463 , 1080.78353421, 1112.93659527,\n        1128.4196987 , 1160.79221892, 1195.3193903 , 1254.42613095,\n        1331.1530093 , 1371.32356276, 1452.24107958, 1495.88668213,\n        1538.69884773, 1583.94351583, 1590.79992536, 1830.26092255,\n        1838.09683009, 1924.59740556, 2030.65633016, 2185.33914121,\n        2270.39333129, 2395.53176218, 2468.69207024, 2611.43470119,\n        2836.40453028, 2893.05900368, 3028.65944338, 3446.82605255,\n        3613.38070702, 4009.41234574]),\n 'fwhm_centr_fin': array([  32.45619591,  125.5       ,  129.4548068 ,  145.584874  ,\n         236.66083504,  241.43400483,  396.68961868,  582.79869717,\n         715.98897996,  737.58339776,  803.52035892,  843.90034996,\n         961.60855149, 1004.16882875, 1083.56387135, 1116.30732587,\n        1130.68359182, 1163.74564646, 1196.66703451, 1257.68290597,\n        1334.3999626 , 1373.56644139, 1455.40697014, 1498.58437909,\n        1541.83127916, 1586.41961938, 1593.24924714, 1833.00878477,\n        1841.52684004, 1927.93826695, 2033.64408884, 2188.9411645 ,\n        2274.16423411, 2399.27603639, 2471.05259892, 2615.44527034,\n        2838.84073792, 2896.39353811, 3031.3455121 , 3452.73369012,\n        3617.24571914, 4015.88014725]),\n 'centroids': [31.20376714216839,\n  125.27750205833703,\n  127.64410764527013,\n  144.56089422770515,\n  235.39582840610512,\n  240.09867413333603,\n  396.22303511681486,\n  581.7167934352312,\n  715.0476436376385,\n  736.6470896038497,\n  802.8820388354817,\n  841.7131184601277,\n  960.1584430401904,\n  1002.868702807657,\n  1082.1486160816687,\n  1114.3935783086679,\n  1129.5875915991471,\n  1161.981829441307,\n  1195.990136438083,\n  1256.046938637468,\n  1332.6786372126276,\n  1372.5355124688617,\n  1453.812298938367,\n  1497.1896389031951,\n  1540.148341263151,\n  1584.716720395848,\n  1591.9225234893595,\n  1831.7132173621342,\n  1839.6235586828823,\n  1926.274908054728,\n  2031.6267628186763,\n  2187.0203789782395,\n  2272.0816901597545,\n  2397.3201792793743,\n  2469.4374279589247,\n  2613.8865958690617,\n  2837.6391893398204,\n  2894.3696003616355,\n  3029.736571365467,\n  3449.9894000957097,\n  3614.7877792516856,\n  4011.885129534331],\n 'variances': [10141.76677534925,\n  6831.404059314664,\n  10283.33947809973,\n  7900.044992455876,\n  10179.742288896276,\n  8771.538846433146,\n  5401.351451804279,\n  4771.239773587763,\n  2402.377859989062,\n  2756.4597349758083,\n  1974.9174849604424,\n  7721.037966268289,\n  2809.5814564727407,\n  2697.933819882833,\n  4041.7500038691014,\n  2843.0432062898426,\n  1705.472424895721,\n  2543.542779133248,\n  1313.1283175665533,\n  2475.8025293528854,\n  4577.55114136314,\n  1460.5909241125296,\n  2989.802691650911,\n  2132.029065180326,\n  2341.2024764499183,\n  1394.2935243332272,\n  1549.9443936153307,\n  1379.1134524025456,\n  1562.0312472715643,\n  6428.502839462798,\n  945.7560665313615,\n  5743.670630764617,\n  878.0924365523687,\n  3643.4473521909003,\n  380.24732705136586,\n  520.6135591356616,\n  251.33911764552005,\n  593.6134148203754,\n  239.93257001760122,\n  494.4258377431314,\n  319.9327333528709,\n  397.11860461643755]}"
     },
     "execution_count": 13,
     "metadata": {},
     "output_type": "execute_result"
    }
   ],
   "source": [
    "vars(ogra.a_spec.net_spec_ser_an.pk_parms)"
   ],
   "metadata": {
    "collapsed": false
   }
  },
  {
   "cell_type": "code",
   "execution_count": 14,
   "outputs": [],
   "source": [
    "# 2022-Jun-24 No momento esses são os que interessam:\n",
    "# pann = ogra.a_spec..saw_spec.spec_parms\n",
    "cntarr = ogra.a_spec.net_spec_ser_an.y_s\n",
    "pkprms = ogra.a_spec.net_spec_ser_an.pk_parms"
   ],
   "metadata": {
    "collapsed": false
   }
  },
  {
   "cell_type": "code",
   "execution_count": 15,
   "outputs": [
    {
     "data": {
      "text/plain": "{'calib_kind': 'channel energy',\n 'p_en': Polynomial([-1.99049842,  0.61104035,  0.        ], domain=[-1,  1], window=[-1,  1]),\n 'coeffs_ch_en': array([ 0.        ,  0.61104035, -1.99049842]),\n 'en_ch_calib': array([], dtype=float64),\n 'chan_calib': array([], dtype=float64)}"
     },
     "execution_count": 15,
     "metadata": {},
     "output_type": "execute_result"
    }
   ],
   "source": [
    "vars(ogra.a_spec.channel_energy_calib)"
   ],
   "metadata": {
    "collapsed": false
   }
  },
  {
   "cell_type": "code",
   "execution_count": 16,
   "outputs": [
    {
     "data": {
      "text/plain": "275.1163020133972"
     },
     "execution_count": 16,
     "metadata": {},
     "output_type": "execute_result"
    }
   ],
   "source": [
    "ogra.a_spec.channel_energy_calib.p_en(453.5)"
   ],
   "metadata": {
    "collapsed": false
   }
  },
  {
   "cell_type": "code",
   "execution_count": 17,
   "outputs": [
    {
     "data": {
      "text/plain": "WindowsPath('C:/Users/mmaduar/Nextcloud/Genie_Transfer/almera22/user2023/SI2022/SI06322.pkl')"
     },
     "execution_count": 17,
     "metadata": {},
     "output_type": "execute_result"
    }
   ],
   "source": [
    "ogra.a_spec.pkl_file"
   ],
   "metadata": {
    "collapsed": false
   }
  },
  {
   "cell_type": "code",
   "execution_count": 18,
   "outputs": [
    {
     "data": {
      "text/plain": "                                     net_spec_ser_an  \\\n0  <generic_series_analysis_class.GenericSeriesAn...   \n\n                             final_composed_baseline  \\\n0  <generic_series_analysis_class.GenericSeriesAn...   \n\n                                              f_name  \\\n0  C:\\Users\\mmaduar\\Nextcloud\\Genie_Transfer\\alme...   \n\n                         reduced_f_name  sufx spec_io  lv_time   rl_time  \\\n0  almera22/user2023/SI2022/SI06322.Chn  .chn    None  50000.0  50028.58   \n\n  source_datetime                                           pkl_file  \\\n0            None  C:\\Users\\mmaduar\\Nextcloud\\Genie_Transfer\\alme...   \n\n                                   gross_spec_ser_an  \\\n0  <generic_series_analysis_class.GenericSeriesAn...   \n\n                                  origin_spec_ser_an      start_datetime  \\\n0  <generic_series_analysis_class.GenericSeriesAn... 2022-08-04 19:42:23   \n\n                  det_descr  \\\n0  MAQUINA_01 MCB 1 Input 1   \n\n                                           sam_descr  \\\n0  SI-063/22 - Agua da Piscina do Reator IEA-R1 (...   \n\n                                channel_energy_calib  \\\n0  <genericcalib_class.ChannelEnergyCalib object ...   \n\n                             spec_pks_df  \n0  Empty DataFrame\nColumns: []\nIndex: []  ",
      "text/html": "<div>\n<style scoped>\n    .dataframe tbody tr th:only-of-type {\n        vertical-align: middle;\n    }\n\n    .dataframe tbody tr th {\n        vertical-align: top;\n    }\n\n    .dataframe thead th {\n        text-align: right;\n    }\n</style>\n<table border=\"1\" class=\"dataframe\">\n  <thead>\n    <tr style=\"text-align: right;\">\n      <th></th>\n      <th>net_spec_ser_an</th>\n      <th>final_composed_baseline</th>\n      <th>f_name</th>\n      <th>reduced_f_name</th>\n      <th>sufx</th>\n      <th>spec_io</th>\n      <th>lv_time</th>\n      <th>rl_time</th>\n      <th>source_datetime</th>\n      <th>pkl_file</th>\n      <th>gross_spec_ser_an</th>\n      <th>origin_spec_ser_an</th>\n      <th>start_datetime</th>\n      <th>det_descr</th>\n      <th>sam_descr</th>\n      <th>channel_energy_calib</th>\n      <th>spec_pks_df</th>\n    </tr>\n  </thead>\n  <tbody>\n    <tr>\n      <th>0</th>\n      <td>&lt;generic_series_analysis_class.GenericSeriesAn...</td>\n      <td>&lt;generic_series_analysis_class.GenericSeriesAn...</td>\n      <td>C:\\Users\\mmaduar\\Nextcloud\\Genie_Transfer\\alme...</td>\n      <td>almera22/user2023/SI2022/SI06322.Chn</td>\n      <td>.chn</td>\n      <td>None</td>\n      <td>50000.0</td>\n      <td>50028.58</td>\n      <td>None</td>\n      <td>C:\\Users\\mmaduar\\Nextcloud\\Genie_Transfer\\alme...</td>\n      <td>&lt;generic_series_analysis_class.GenericSeriesAn...</td>\n      <td>&lt;generic_series_analysis_class.GenericSeriesAn...</td>\n      <td>2022-08-04 19:42:23</td>\n      <td>MAQUINA_01 MCB 1 Input 1</td>\n      <td>SI-063/22 - Agua da Piscina do Reator IEA-R1 (...</td>\n      <td>&lt;genericcalib_class.ChannelEnergyCalib object ...</td>\n      <td>Empty DataFrame\nColumns: []\nIndex: []</td>\n    </tr>\n  </tbody>\n</table>\n</div>"
     },
     "execution_count": 18,
     "metadata": {},
     "output_type": "execute_result"
    }
   ],
   "source": [
    "df_1 = pd.read_pickle(ogra.a_spec.pkl_file)\n",
    "df_1"
   ],
   "metadata": {
    "collapsed": false
   }
  },
  {
   "cell_type": "code",
   "execution_count": 19,
   "outputs": [
    {
     "data": {
      "text/plain": "       Nucl      Engy  sEngy      Yie   sYie\n0   Ag-110m   446.811  0.003    3.750  0.030\n1   Ag-110m   620.360  0.003    2.806  0.018\n2   Ag-110m   657.762  0.002   94.600  0.400\n3   Ag-110m   677.723  0.002   10.350  0.080\n4   Ag-110m   687.015  0.003    6.440  0.060\n5   Ag-110m   706.682  0.003   16.440  0.100\n6   Ag-110m   744.277  0.003    4.730  0.030\n7   Ag-110m   763.944  0.003   22.290  0.090\n8   Ag-110m   818.031  0.003    7.340  0.040\n9   Ag-110m   884.685  0.003   72.700  0.300\n10  Ag-110m   937.493  0.004   34.360  0.120\n11  Ag-110m  1384.300  0.004   24.280  0.080\n12  Ag-110m  1475.788  0.006    3.995  0.017\n13  Ag-110m  1505.040  0.005   13.040  0.050\n14  Ag-110m  1562.302  0.005    1.029  0.007\n15   Ba-140   304.874  0.007    4.300  0.060\n16   Ba-140   537.311  0.003   24.390  0.220\n17    Co-58   810.775  0.009   99.448  0.008\n18    Co-58  1674.730  0.010    0.518  0.008\n19    Co-60  1173.237  0.004   99.900  0.020\n20    Co-60  1332.501  0.005   99.982  0.001\n21    Cr-51   320.084  0.001   10.080  0.230\n22   Cs-137   661.660  0.003   85.210  0.070\n23    I-131   284.298  0.011    6.060  0.090\n24    I-131   364.480  0.011   81.200  1.200\n25    I-131   636.973  0.010    7.270  0.110\n26    I-131   722.893  0.010    1.800  0.030\n27   La-140   328.762  0.008   20.600  0.400\n28   La-140   487.021  0.012   44.300  0.800\n29   La-140   815.772  0.019   22.900  0.400\n30   La-140   867.846  0.020    5.590  0.050\n31   La-140   925.189  0.021    6.930  0.080\n32   La-140  1596.210  0.040   95.400  0.080\n33   La-140  2521.400  0.050    3.420  0.050\n34    Mn-54   834.827  0.001   99.975  0.005\n35    Na-24  1368.550  0.040  100.000  0.001\n36    Na-24  2754.050  0.080   99.944  0.004\n37   Np-239   106.123  0.002   22.900  1.200\n38   Np-239   228.183  0.001   10.800  0.600\n39   Np-239   277.599  0.001   14.200  0.200\n40   Ru-103   497.084  0.006   91.000  3.000\n41   Ru-103   610.330  0.020    5.730  0.190\n42   Te-132   228.160  0.060   88.200  0.400\n43    W-187   134.247  0.007    8.800  0.300\n44    W-187   479.550  0.022   21.800  0.800\n45    W-187   618.260  0.040    6.280  0.220\n46    W-187   685.730  0.040   27.300  1.000\n47    W-187   772.890  0.050    4.120  0.140\n48    Zn-65  1115.520  0.001   50.750  0.100",
      "text/html": "<div>\n<style scoped>\n    .dataframe tbody tr th:only-of-type {\n        vertical-align: middle;\n    }\n\n    .dataframe tbody tr th {\n        vertical-align: top;\n    }\n\n    .dataframe thead th {\n        text-align: right;\n    }\n</style>\n<table border=\"1\" class=\"dataframe\">\n  <thead>\n    <tr style=\"text-align: right;\">\n      <th></th>\n      <th>Nucl</th>\n      <th>Engy</th>\n      <th>sEngy</th>\n      <th>Yie</th>\n      <th>sYie</th>\n    </tr>\n  </thead>\n  <tbody>\n    <tr>\n      <th>0</th>\n      <td>Ag-110m</td>\n      <td>446.811</td>\n      <td>0.003</td>\n      <td>3.750</td>\n      <td>0.030</td>\n    </tr>\n    <tr>\n      <th>1</th>\n      <td>Ag-110m</td>\n      <td>620.360</td>\n      <td>0.003</td>\n      <td>2.806</td>\n      <td>0.018</td>\n    </tr>\n    <tr>\n      <th>2</th>\n      <td>Ag-110m</td>\n      <td>657.762</td>\n      <td>0.002</td>\n      <td>94.600</td>\n      <td>0.400</td>\n    </tr>\n    <tr>\n      <th>3</th>\n      <td>Ag-110m</td>\n      <td>677.723</td>\n      <td>0.002</td>\n      <td>10.350</td>\n      <td>0.080</td>\n    </tr>\n    <tr>\n      <th>4</th>\n      <td>Ag-110m</td>\n      <td>687.015</td>\n      <td>0.003</td>\n      <td>6.440</td>\n      <td>0.060</td>\n    </tr>\n    <tr>\n      <th>5</th>\n      <td>Ag-110m</td>\n      <td>706.682</td>\n      <td>0.003</td>\n      <td>16.440</td>\n      <td>0.100</td>\n    </tr>\n    <tr>\n      <th>6</th>\n      <td>Ag-110m</td>\n      <td>744.277</td>\n      <td>0.003</td>\n      <td>4.730</td>\n      <td>0.030</td>\n    </tr>\n    <tr>\n      <th>7</th>\n      <td>Ag-110m</td>\n      <td>763.944</td>\n      <td>0.003</td>\n      <td>22.290</td>\n      <td>0.090</td>\n    </tr>\n    <tr>\n      <th>8</th>\n      <td>Ag-110m</td>\n      <td>818.031</td>\n      <td>0.003</td>\n      <td>7.340</td>\n      <td>0.040</td>\n    </tr>\n    <tr>\n      <th>9</th>\n      <td>Ag-110m</td>\n      <td>884.685</td>\n      <td>0.003</td>\n      <td>72.700</td>\n      <td>0.300</td>\n    </tr>\n    <tr>\n      <th>10</th>\n      <td>Ag-110m</td>\n      <td>937.493</td>\n      <td>0.004</td>\n      <td>34.360</td>\n      <td>0.120</td>\n    </tr>\n    <tr>\n      <th>11</th>\n      <td>Ag-110m</td>\n      <td>1384.300</td>\n      <td>0.004</td>\n      <td>24.280</td>\n      <td>0.080</td>\n    </tr>\n    <tr>\n      <th>12</th>\n      <td>Ag-110m</td>\n      <td>1475.788</td>\n      <td>0.006</td>\n      <td>3.995</td>\n      <td>0.017</td>\n    </tr>\n    <tr>\n      <th>13</th>\n      <td>Ag-110m</td>\n      <td>1505.040</td>\n      <td>0.005</td>\n      <td>13.040</td>\n      <td>0.050</td>\n    </tr>\n    <tr>\n      <th>14</th>\n      <td>Ag-110m</td>\n      <td>1562.302</td>\n      <td>0.005</td>\n      <td>1.029</td>\n      <td>0.007</td>\n    </tr>\n    <tr>\n      <th>15</th>\n      <td>Ba-140</td>\n      <td>304.874</td>\n      <td>0.007</td>\n      <td>4.300</td>\n      <td>0.060</td>\n    </tr>\n    <tr>\n      <th>16</th>\n      <td>Ba-140</td>\n      <td>537.311</td>\n      <td>0.003</td>\n      <td>24.390</td>\n      <td>0.220</td>\n    </tr>\n    <tr>\n      <th>17</th>\n      <td>Co-58</td>\n      <td>810.775</td>\n      <td>0.009</td>\n      <td>99.448</td>\n      <td>0.008</td>\n    </tr>\n    <tr>\n      <th>18</th>\n      <td>Co-58</td>\n      <td>1674.730</td>\n      <td>0.010</td>\n      <td>0.518</td>\n      <td>0.008</td>\n    </tr>\n    <tr>\n      <th>19</th>\n      <td>Co-60</td>\n      <td>1173.237</td>\n      <td>0.004</td>\n      <td>99.900</td>\n      <td>0.020</td>\n    </tr>\n    <tr>\n      <th>20</th>\n      <td>Co-60</td>\n      <td>1332.501</td>\n      <td>0.005</td>\n      <td>99.982</td>\n      <td>0.001</td>\n    </tr>\n    <tr>\n      <th>21</th>\n      <td>Cr-51</td>\n      <td>320.084</td>\n      <td>0.001</td>\n      <td>10.080</td>\n      <td>0.230</td>\n    </tr>\n    <tr>\n      <th>22</th>\n      <td>Cs-137</td>\n      <td>661.660</td>\n      <td>0.003</td>\n      <td>85.210</td>\n      <td>0.070</td>\n    </tr>\n    <tr>\n      <th>23</th>\n      <td>I-131</td>\n      <td>284.298</td>\n      <td>0.011</td>\n      <td>6.060</td>\n      <td>0.090</td>\n    </tr>\n    <tr>\n      <th>24</th>\n      <td>I-131</td>\n      <td>364.480</td>\n      <td>0.011</td>\n      <td>81.200</td>\n      <td>1.200</td>\n    </tr>\n    <tr>\n      <th>25</th>\n      <td>I-131</td>\n      <td>636.973</td>\n      <td>0.010</td>\n      <td>7.270</td>\n      <td>0.110</td>\n    </tr>\n    <tr>\n      <th>26</th>\n      <td>I-131</td>\n      <td>722.893</td>\n      <td>0.010</td>\n      <td>1.800</td>\n      <td>0.030</td>\n    </tr>\n    <tr>\n      <th>27</th>\n      <td>La-140</td>\n      <td>328.762</td>\n      <td>0.008</td>\n      <td>20.600</td>\n      <td>0.400</td>\n    </tr>\n    <tr>\n      <th>28</th>\n      <td>La-140</td>\n      <td>487.021</td>\n      <td>0.012</td>\n      <td>44.300</td>\n      <td>0.800</td>\n    </tr>\n    <tr>\n      <th>29</th>\n      <td>La-140</td>\n      <td>815.772</td>\n      <td>0.019</td>\n      <td>22.900</td>\n      <td>0.400</td>\n    </tr>\n    <tr>\n      <th>30</th>\n      <td>La-140</td>\n      <td>867.846</td>\n      <td>0.020</td>\n      <td>5.590</td>\n      <td>0.050</td>\n    </tr>\n    <tr>\n      <th>31</th>\n      <td>La-140</td>\n      <td>925.189</td>\n      <td>0.021</td>\n      <td>6.930</td>\n      <td>0.080</td>\n    </tr>\n    <tr>\n      <th>32</th>\n      <td>La-140</td>\n      <td>1596.210</td>\n      <td>0.040</td>\n      <td>95.400</td>\n      <td>0.080</td>\n    </tr>\n    <tr>\n      <th>33</th>\n      <td>La-140</td>\n      <td>2521.400</td>\n      <td>0.050</td>\n      <td>3.420</td>\n      <td>0.050</td>\n    </tr>\n    <tr>\n      <th>34</th>\n      <td>Mn-54</td>\n      <td>834.827</td>\n      <td>0.001</td>\n      <td>99.975</td>\n      <td>0.005</td>\n    </tr>\n    <tr>\n      <th>35</th>\n      <td>Na-24</td>\n      <td>1368.550</td>\n      <td>0.040</td>\n      <td>100.000</td>\n      <td>0.001</td>\n    </tr>\n    <tr>\n      <th>36</th>\n      <td>Na-24</td>\n      <td>2754.050</td>\n      <td>0.080</td>\n      <td>99.944</td>\n      <td>0.004</td>\n    </tr>\n    <tr>\n      <th>37</th>\n      <td>Np-239</td>\n      <td>106.123</td>\n      <td>0.002</td>\n      <td>22.900</td>\n      <td>1.200</td>\n    </tr>\n    <tr>\n      <th>38</th>\n      <td>Np-239</td>\n      <td>228.183</td>\n      <td>0.001</td>\n      <td>10.800</td>\n      <td>0.600</td>\n    </tr>\n    <tr>\n      <th>39</th>\n      <td>Np-239</td>\n      <td>277.599</td>\n      <td>0.001</td>\n      <td>14.200</td>\n      <td>0.200</td>\n    </tr>\n    <tr>\n      <th>40</th>\n      <td>Ru-103</td>\n      <td>497.084</td>\n      <td>0.006</td>\n      <td>91.000</td>\n      <td>3.000</td>\n    </tr>\n    <tr>\n      <th>41</th>\n      <td>Ru-103</td>\n      <td>610.330</td>\n      <td>0.020</td>\n      <td>5.730</td>\n      <td>0.190</td>\n    </tr>\n    <tr>\n      <th>42</th>\n      <td>Te-132</td>\n      <td>228.160</td>\n      <td>0.060</td>\n      <td>88.200</td>\n      <td>0.400</td>\n    </tr>\n    <tr>\n      <th>43</th>\n      <td>W-187</td>\n      <td>134.247</td>\n      <td>0.007</td>\n      <td>8.800</td>\n      <td>0.300</td>\n    </tr>\n    <tr>\n      <th>44</th>\n      <td>W-187</td>\n      <td>479.550</td>\n      <td>0.022</td>\n      <td>21.800</td>\n      <td>0.800</td>\n    </tr>\n    <tr>\n      <th>45</th>\n      <td>W-187</td>\n      <td>618.260</td>\n      <td>0.040</td>\n      <td>6.280</td>\n      <td>0.220</td>\n    </tr>\n    <tr>\n      <th>46</th>\n      <td>W-187</td>\n      <td>685.730</td>\n      <td>0.040</td>\n      <td>27.300</td>\n      <td>1.000</td>\n    </tr>\n    <tr>\n      <th>47</th>\n      <td>W-187</td>\n      <td>772.890</td>\n      <td>0.050</td>\n      <td>4.120</td>\n      <td>0.140</td>\n    </tr>\n    <tr>\n      <th>48</th>\n      <td>Zn-65</td>\n      <td>1115.520</td>\n      <td>0.001</td>\n      <td>50.750</td>\n      <td>0.100</td>\n    </tr>\n  </tbody>\n</table>\n</div>"
     },
     "execution_count": 19,
     "metadata": {},
     "output_type": "execute_result"
    }
   ],
   "source": [
    "# 2023-Mar-20\n",
    "# Lendo biblioteca de nuclídeos\n",
    "pisciro_eng_df = pd.read_excel('../data/Pisciro-Eng_(2019).ods')\n",
    "pisciro_eng_df"
   ],
   "metadata": {
    "collapsed": false
   }
  },
  {
   "cell_type": "code",
   "execution_count": 20,
   "outputs": [
    {
     "data": {
      "text/plain": "{'k_fwhm_to_sd': 0.42466090014400953,\n 'peaks': array([  31,  125,  128,  144,  235,  241,  396,  582,  715,  737,  803,\n         842,  960, 1003, 1082, 1115, 1130, 1162, 1196, 1257, 1333, 1372,\n        1454, 1497, 1540, 1585, 1592, 1832, 1840, 1926, 2033, 2187, 2272,\n        2398, 2470, 2614, 2837, 2895, 3030, 3450, 3615, 4014], dtype=int64),\n 'pk_hei': array([], dtype=float64),\n 'widths': (None, None),\n 'mix_regions': array([], dtype=float64),\n 'plateaux': array([], dtype=float64),\n 'fwhm_plateaux': array([], dtype=float64),\n 'wide_regions': array([[  27,   35],\n        [ 123,  127],\n        [ 125,  131],\n        [ 142,  147],\n        [ 232,  239],\n        [ 237,  243],\n        [ 394,  398],\n        [ 579,  585],\n        [ 713,  717],\n        [ 734,  739],\n        [ 801,  805],\n        [ 836,  848],\n        [ 957,  964],\n        [1000, 1006],\n        [1079, 1086],\n        [1110, 1119],\n        [1127, 1132],\n        [1158, 1166],\n        [1194, 1198],\n        [1252, 1260],\n        [1328, 1337],\n        [1370, 1375],\n        [1450, 1458],\n        [1494, 1501],\n        [1536, 1544],\n        [1582, 1588],\n        [1589, 1595],\n        [1828, 1835],\n        [1835, 1844],\n        [1922, 1931],\n        [2028, 2036],\n        [2182, 2192],\n        [2267, 2277],\n        [2392, 2403],\n        [2467, 2473],\n        [2608, 2619],\n        [2834, 2841],\n        [2890, 2899],\n        [3026, 3034],\n        [3441, 3458],\n        [3610, 3621],\n        [4003, 4022]]),\n 'fwhm_centr': array([  31.01645579,  124.69690217,  128.28212143,  144.46856223,\n         235.36702762,  240.2492388 ,  396.0145058 ,  581.60936848,\n         715.12207284,  736.64232716,  802.67056744,  841.81011827,\n         960.25119868, 1002.98798753, 1082.17370278, 1114.62196057,\n        1129.55164526, 1162.26893269, 1195.99321241, 1256.05451846,\n        1332.77648595, 1372.44500207, 1453.82402486, 1497.23553061,\n        1540.26506344, 1585.18156761, 1592.02458625, 1831.63485366,\n        1839.81183506, 1926.26783626, 2032.1502095 , 2187.14015285,\n        2272.2787827 , 2397.40389929, 2469.87233458, 2613.43998576,\n        2837.6226341 , 2894.7262709 , 3030.00247774, 3449.77987134,\n        3615.31321308, 4012.64624649]),\n 'rough_sums': [1694.2500571756377,\n  1486.5959406853367,\n  2746.6605219002713,\n  1269.9550075441243,\n  668.2577111037252,\n  452.4611535668537,\n  346.9332852716651,\n  380.73353047985853,\n  151.62214001093798,\n  187.54026502419194,\n  118.8709421166466,\n  3222.9620337317106,\n  467.3472741083266,\n  731.2751128167524,\n  1920.2499961308986,\n  242.95679371015765,\n  160.52757510427898,\n  300.60480980632593,\n  82.72133811555052,\n  370.4936367928293,\n  2365.9709514630126,\n  167.47948451620772,\n  1193.7701710822455,\n  601.3174547895372,\n  692.7975235500821,\n  173.7064756667729,\n  340.0556063846695,\n  372.8865475974544,\n  329.5919518860874,\n  5347.497160537201,\n  142.60761531114832,\n  5023.581307779358,\n  286.8815609390967,\n  3156.520439390454,\n  136.9454336399722,\n  203.3864408643384,\n  88.66088235447995,\n  396.22338711619665,\n  68.06742998239882,\n  210.03904501013426,\n  148.20757745083299,\n  163.47601797762195],\n 'propts': {'peak_heights': array([ 563.32981903,  420.56893675,  864.43336533,  500.9611582 ,\n          170.44375986,  131.8759576 ,  205.2004002 ,  146.89976013,\n           73.93567206,   68.22252031,   65.11144042,  675.23074007,\n          160.32942296,  282.34701119,  660.38628531,   56.04454958,\n           57.30572755,   97.84907692,   54.57351234,  111.85523775,\n          686.97059987,   69.17516631,  364.10446193,  194.21681657,\n          180.43267718,   52.82033493,  119.61438423,  106.20498506,\n           80.08066194, 1453.91314791,   42.38543084, 1281.35886202,\n           74.91864881,  783.85248251,   45.69789474,   34.79609291,\n           23.82898884,  100.14597756,   19.45217984,   33.93028063,\n           31.83830596,   18.18947351]),\n  'left_thresholds': array([155.4122716 ,  71.87448396, 485.32919786, 386.69356603,\n          91.95482999,   3.09816454, 155.31199147,  11.2311923 ,\n          49.63229657,  31.55153681,  25.44687749,  77.68950708,\n          73.24340772, 121.26975583, 273.22945129,  11.09654329,\n          14.09048267,  39.13362348,  40.09163593,   2.14227827,\n          82.35096855,  51.13199131,  64.25706739,  91.19883822,\n          65.18281312,  24.10404974,  55.17606672,  24.16277521,\n          15.13550111, 512.29535953,  12.11775286, 374.23576017,\n          16.15345693,  21.16572754,  20.05731543,   6.03863992,\n          20.00856484,  19.01051816,   7.00120077,   7.01736719,\n           6.00661551,   5.03474197]),\n  'right_thresholds': array([2.17783355e+02, 1.94076831e+02, 2.38452778e+02, 7.62152157e+01,\n         3.69400061e-02, 1.25904597e+02, 1.48778162e+02, 9.19621139e+01,\n         3.73797624e+01, 5.84699884e+01, 6.25639710e+01, 1.71416256e+02,\n         2.67408286e+01, 1.21779801e+02, 1.18797736e+02, 2.19042878e+01,\n         4.19151650e+01, 2.58803540e+01, 4.09075630e+01, 8.18965151e+01,\n         2.14745675e+02, 1.08630276e+01, 1.06804402e+02, 4.98406873e+01,\n         1.88251963e+01, 6.89730290e+00, 4.88647209e+01, 5.28574369e+01,\n         2.08803715e+01, 1.55719806e+02, 3.29034041e+01, 1.28794193e+02,\n         4.84297025e+00, 3.11887893e+02, 2.19565883e+01, 1.29614347e+01,\n         9.91629314e-01, 4.29913518e+01, 7.99888744e+00, 9.83478497e-01,\n         8.99380084e+00, 2.96490567e+00]),\n  'prominences': array([ 563.32981903,  194.07683054,  864.43336533,  500.9611582 ,\n          170.44375986,  109.28640684,  205.2004002 ,  146.89976013,\n           73.93567206,   68.22252031,   65.11144042,  675.23074007,\n          160.32942296,  282.34701119,  660.38628531,   56.04454958,\n           57.30572755,   97.84907692,   54.57351234,  111.85523775,\n          686.97059987,   69.17516631,  364.10446193,  194.21681657,\n          180.43267718,   49.80132164,  119.61438423,  106.20498506,\n           77.48281467, 1453.91314791,   42.38543084, 1281.35886202,\n           74.91864881,  783.85248251,   45.69789474,   34.79609291,\n           23.82898884,  100.14597756,   19.45217984,   33.93028063,\n           31.83830596,   18.18947351]),\n  'left_bases': array([  28,  119,  119,  140,  194,  238,  394,  579,  712,  728,  801,\n          831,  951,  979, 1077, 1109, 1124, 1159, 1194, 1253, 1329, 1370,\n         1450, 1492, 1530, 1566, 1566, 1804, 1836, 1914, 2026, 2177, 2267,\n         2388, 2465, 2600, 2830, 2889, 3023, 3444, 3607, 3998], dtype=int64),\n  'right_bases': array([  36,  126,  134,  153,  275,  275,  399,  585,  718,  740,  808,\n          851,  964, 1006, 1087, 1120, 1134, 1165, 1198, 1259, 1337, 1376,\n         1459, 1501, 1549, 1587, 1596, 1843, 1843, 1932, 2036, 2192, 2276,\n         2403, 2473, 2622, 2847, 2899, 3036, 3457, 3621, 4020], dtype=int64),\n  'widths': array([2.87948023, 1.60619567, 2.34537074, 2.23262354, 2.58761485,\n         2.36953207, 1.35022576, 2.37865737, 1.73381425, 1.8821412 ,\n         1.69958294, 4.18046339, 2.71470561, 2.36168245, 2.78033714,\n         3.3707306 , 2.26389312, 2.95342755, 1.34764421, 3.25677501,\n         3.24695329, 2.24287863, 3.16589055, 2.69769696, 3.13243142,\n         2.47610355, 2.44932179, 2.74786223, 3.43000995, 3.34086139,\n         2.98775868, 3.60202329, 3.77090282, 3.74427421, 2.36052868,\n         4.01056915, 2.43620763, 3.33453444, 2.68606872, 5.90763757,\n         3.86501212, 6.4678015 ]),\n  'width_heights': array([281.66490952, 323.53052148, 432.21668266, 250.4805791 ,\n          85.22187993,  77.23275418, 102.6002001 ,  73.44988007,\n          36.96783603,  34.11126016,  32.55572021, 337.61537003,\n          80.16471148, 141.1735056 , 330.19314265,  28.02227479,\n          28.65286377,  48.92453846,  27.28675617,  55.92761887,\n         343.48529994,  34.58758316, 182.05223097,  97.10840828,\n          90.21633859,  27.91967411,  59.80719212,  53.10249253,\n          41.33925461, 726.95657395,  21.19271542, 640.67943101,\n          37.4593244 , 391.92624125,  22.84894737,  17.39804646,\n          11.91449442,  50.07298878,   9.72608992,  16.96514031,\n          15.91915298,   9.09473676]),\n  'left_ips': array([  29.57671568,  123.89380433,  127.10943606,  143.35225046,\n          234.07322019,  239.06447277,  395.33939293,  580.4200398 ,\n          714.25516572,  735.70125656,  801.82077597,  839.71988658,\n          958.89384588, 1001.8071463 , 1080.78353421, 1112.93659527,\n         1128.4196987 , 1160.79221892, 1195.3193903 , 1254.42613095,\n         1331.1530093 , 1371.32356276, 1452.24107958, 1495.88668213,\n         1538.69884773, 1583.94351583, 1590.79992536, 1830.26092255,\n         1838.09683009, 1924.59740556, 2030.65633016, 2185.33914121,\n         2270.39333129, 2395.53176218, 2468.69207024, 2611.43470119,\n         2836.40453028, 2893.05900368, 3028.65944338, 3446.82605255,\n         3613.38070702, 4009.41234574]),\n  'right_ips': array([  32.45619591,  125.5       ,  129.4548068 ,  145.584874  ,\n          236.66083504,  241.43400483,  396.68961868,  582.79869717,\n          715.98897996,  737.58339776,  803.52035892,  843.90034996,\n          961.60855149, 1004.16882875, 1083.56387135, 1116.30732587,\n         1130.68359182, 1163.74564646, 1196.66703451, 1257.68290597,\n         1334.3999626 , 1373.56644139, 1455.40697014, 1498.58437909,\n         1541.83127916, 1586.41961938, 1593.24924714, 1833.00878477,\n         1841.52684004, 1927.93826695, 2033.64408884, 2188.9411645 ,\n         2274.16423411, 2399.27603639, 2471.05259892, 2615.44527034,\n         2838.84073792, 2896.39353811, 3031.3455121 , 3452.73369012,\n         3617.24571914, 4015.88014725])},\n 'fwhm_centr_ini': array([  29.57671568,  123.89380433,  127.10943606,  143.35225046,\n         234.07322019,  239.06447277,  395.33939293,  580.4200398 ,\n         714.25516572,  735.70125656,  801.82077597,  839.71988658,\n         958.89384588, 1001.8071463 , 1080.78353421, 1112.93659527,\n        1128.4196987 , 1160.79221892, 1195.3193903 , 1254.42613095,\n        1331.1530093 , 1371.32356276, 1452.24107958, 1495.88668213,\n        1538.69884773, 1583.94351583, 1590.79992536, 1830.26092255,\n        1838.09683009, 1924.59740556, 2030.65633016, 2185.33914121,\n        2270.39333129, 2395.53176218, 2468.69207024, 2611.43470119,\n        2836.40453028, 2893.05900368, 3028.65944338, 3446.82605255,\n        3613.38070702, 4009.41234574]),\n 'fwhm_centr_fin': array([  32.45619591,  125.5       ,  129.4548068 ,  145.584874  ,\n         236.66083504,  241.43400483,  396.68961868,  582.79869717,\n         715.98897996,  737.58339776,  803.52035892,  843.90034996,\n         961.60855149, 1004.16882875, 1083.56387135, 1116.30732587,\n        1130.68359182, 1163.74564646, 1196.66703451, 1257.68290597,\n        1334.3999626 , 1373.56644139, 1455.40697014, 1498.58437909,\n        1541.83127916, 1586.41961938, 1593.24924714, 1833.00878477,\n        1841.52684004, 1927.93826695, 2033.64408884, 2188.9411645 ,\n        2274.16423411, 2399.27603639, 2471.05259892, 2615.44527034,\n        2838.84073792, 2896.39353811, 3031.3455121 , 3452.73369012,\n        3617.24571914, 4015.88014725]),\n 'centroids': [31.20376714216839,\n  125.27750205833703,\n  127.64410764527013,\n  144.56089422770515,\n  235.39582840610512,\n  240.09867413333603,\n  396.22303511681486,\n  581.7167934352312,\n  715.0476436376385,\n  736.6470896038497,\n  802.8820388354817,\n  841.7131184601277,\n  960.1584430401904,\n  1002.868702807657,\n  1082.1486160816687,\n  1114.3935783086679,\n  1129.5875915991471,\n  1161.981829441307,\n  1195.990136438083,\n  1256.046938637468,\n  1332.6786372126276,\n  1372.5355124688617,\n  1453.812298938367,\n  1497.1896389031951,\n  1540.148341263151,\n  1584.716720395848,\n  1591.9225234893595,\n  1831.7132173621342,\n  1839.6235586828823,\n  1926.274908054728,\n  2031.6267628186763,\n  2187.0203789782395,\n  2272.0816901597545,\n  2397.3201792793743,\n  2469.4374279589247,\n  2613.8865958690617,\n  2837.6391893398204,\n  2894.3696003616355,\n  3029.736571365467,\n  3449.9894000957097,\n  3614.7877792516856,\n  4011.885129534331],\n 'variances': [10141.76677534925,\n  6831.404059314664,\n  10283.33947809973,\n  7900.044992455876,\n  10179.742288896276,\n  8771.538846433146,\n  5401.351451804279,\n  4771.239773587763,\n  2402.377859989062,\n  2756.4597349758083,\n  1974.9174849604424,\n  7721.037966268289,\n  2809.5814564727407,\n  2697.933819882833,\n  4041.7500038691014,\n  2843.0432062898426,\n  1705.472424895721,\n  2543.542779133248,\n  1313.1283175665533,\n  2475.8025293528854,\n  4577.55114136314,\n  1460.5909241125296,\n  2989.802691650911,\n  2132.029065180326,\n  2341.2024764499183,\n  1394.2935243332272,\n  1549.9443936153307,\n  1379.1134524025456,\n  1562.0312472715643,\n  6428.502839462798,\n  945.7560665313615,\n  5743.670630764617,\n  878.0924365523687,\n  3643.4473521909003,\n  380.24732705136586,\n  520.6135591356616,\n  251.33911764552005,\n  593.6134148203754,\n  239.93257001760122,\n  494.4258377431314,\n  319.9327333528709,\n  397.11860461643755]}"
     },
     "execution_count": 20,
     "metadata": {},
     "output_type": "execute_result"
    }
   ],
   "source": [
    "vars_pkprms = vars(pkprms)\n",
    "vars_pkprms"
   ],
   "metadata": {
    "collapsed": false
   }
  },
  {
   "cell_type": "code",
   "execution_count": 21,
   "outputs": [],
   "source": [
    "keys_to_get = ['fwhm_centr', 'rough_sums', 'centroids', 'variances']"
   ],
   "metadata": {
    "collapsed": false
   }
  },
  {
   "cell_type": "code",
   "execution_count": 22,
   "outputs": [],
   "source": [
    "prep_for_dict = [(key, vars_pkprms[key]) for key in keys_to_get]"
   ],
   "metadata": {
    "collapsed": false
   }
  },
  {
   "cell_type": "code",
   "execution_count": 23,
   "outputs": [],
   "source": [
    "pks_dict = dict(prep_for_dict)"
   ],
   "metadata": {
    "collapsed": false
   }
  },
  {
   "cell_type": "code",
   "execution_count": 24,
   "outputs": [],
   "source": [
    "peaks_df = pd.DataFrame.from_dict(pks_dict)"
   ],
   "metadata": {
    "collapsed": false
   }
  },
  {
   "cell_type": "code",
   "execution_count": 25,
   "outputs": [
    {
     "data": {
      "text/plain": "Polynomial([-1.99049842,  0.61104035,  0.        ], domain=[-1,  1], window=[-1,  1])",
      "text/latex": "$x \\mapsto \\text{-1.990498423576355} + \\text{0.6110403537750244}\\,x\\color{LightGray}{ + \\text{0.0}\\,x^{2}}$"
     },
     "execution_count": 25,
     "metadata": {},
     "output_type": "execute_result"
    }
   ],
   "source": [
    "p_en = ogra.a_spec.channel_energy_calib.p_en\n",
    "p_en"
   ],
   "metadata": {
    "collapsed": false
   }
  },
  {
   "cell_type": "code",
   "execution_count": 26,
   "outputs": [
    {
     "data": {
      "text/plain": "     fwhm_centr   rough_sums    centroids     variances       energy\n0     31.016456  1694.250057    31.203767  10141.766775    17.076262\n1    124.696902  1486.595941   125.277502   6831.404059    74.559111\n2    128.282121  2746.660522   127.644108  10283.339478    76.005202\n3    144.468562  1269.955008   144.560894   7900.044992    86.342042\n4    235.367028   668.257711   235.395828  10179.742289   141.845852\n5    240.249239   452.461154   240.098674   8771.538846   144.719480\n6    396.014506   346.933285   396.223035   5401.351452   240.117765\n7    581.609368   380.733530   581.716793   4771.239774   353.461937\n8    715.122073   151.622140   715.047644   2402.377860   434.932467\n9    736.642327   187.540265   736.647090   2756.459735   448.130600\n10   802.670567   118.870942   802.882039   1974.917485   488.602827\n11   841.810118  3222.962034   841.713118   7721.037966   512.330183\n12   960.251199   467.347274   960.158443   2809.581456   584.705056\n13  1002.987988   731.275113  1002.868703   2697.933820   610.802749\n14  1082.173703  1920.249996  1082.148616   4041.750004   659.245975\n15  1114.621961   242.956794  1114.393578   2843.043206   678.948948\n16  1129.551645   160.527575  1129.587592   1705.472425   688.233103\n17  1162.268933   300.604810  1161.981829   2543.542779   708.027290\n18  1195.993212    82.721338  1195.990136   1313.128318   728.807738\n19  1256.054518   370.493637  1256.046939   2475.802529   765.504867\n20  1332.776486  2365.970951  1332.678637   4577.551141   812.329928\n21  1372.445002   167.479485  1372.535512   1460.590924   836.684087\n22  1453.824025  1193.770171  1453.812299   2989.802692   886.347483\n23  1497.235531   601.317455  1497.189639   2132.029065   912.852788\n24  1540.265063   692.797524  1540.148341   2341.202476   939.102289\n25  1585.181568   173.706476  1584.716720   1394.293524   966.335367\n26  1592.024586   340.055606  1591.922523   1549.944394   970.738404\n27  1831.634854   372.886548  1831.713217   1379.113452  1117.260194\n28  1839.811835   329.591952  1839.623559   1562.031247  1122.093732\n29  1926.267836  5347.497161  1926.274908   6428.502839  1175.041203\n30  2032.150210   142.607615  2031.626763    945.756067  1239.415437\n31  2187.140153  5023.581308  2187.020379   5743.670631  1334.367208\n32  2272.278783   286.881561  2272.081690    878.092437  1386.343101\n33  2397.403899  3156.520439  2397.320179   3643.447352  1462.868872\n34  2469.872335   136.945434  2469.437428    380.247327  1506.935421\n35  2613.439986   203.386441  2613.886596    520.613559  1595.199692\n36  2837.622634    88.660882  2837.639189    251.339118  1731.921556\n37  2894.726271   396.223387  2894.369600    593.613415  1766.586126\n38  3030.002478    68.067430  3029.736571    239.932570  1849.300808\n39  3449.779871   210.039045  3449.989400    494.425838  2106.092245\n40  3615.313213   148.207577  3614.787779    319.932733  2206.790705\n41  4012.646246   163.476018  4011.885130    397.118605  2449.433210",
      "text/html": "<div>\n<style scoped>\n    .dataframe tbody tr th:only-of-type {\n        vertical-align: middle;\n    }\n\n    .dataframe tbody tr th {\n        vertical-align: top;\n    }\n\n    .dataframe thead th {\n        text-align: right;\n    }\n</style>\n<table border=\"1\" class=\"dataframe\">\n  <thead>\n    <tr style=\"text-align: right;\">\n      <th></th>\n      <th>fwhm_centr</th>\n      <th>rough_sums</th>\n      <th>centroids</th>\n      <th>variances</th>\n      <th>energy</th>\n    </tr>\n  </thead>\n  <tbody>\n    <tr>\n      <th>0</th>\n      <td>31.016456</td>\n      <td>1694.250057</td>\n      <td>31.203767</td>\n      <td>10141.766775</td>\n      <td>17.076262</td>\n    </tr>\n    <tr>\n      <th>1</th>\n      <td>124.696902</td>\n      <td>1486.595941</td>\n      <td>125.277502</td>\n      <td>6831.404059</td>\n      <td>74.559111</td>\n    </tr>\n    <tr>\n      <th>2</th>\n      <td>128.282121</td>\n      <td>2746.660522</td>\n      <td>127.644108</td>\n      <td>10283.339478</td>\n      <td>76.005202</td>\n    </tr>\n    <tr>\n      <th>3</th>\n      <td>144.468562</td>\n      <td>1269.955008</td>\n      <td>144.560894</td>\n      <td>7900.044992</td>\n      <td>86.342042</td>\n    </tr>\n    <tr>\n      <th>4</th>\n      <td>235.367028</td>\n      <td>668.257711</td>\n      <td>235.395828</td>\n      <td>10179.742289</td>\n      <td>141.845852</td>\n    </tr>\n    <tr>\n      <th>5</th>\n      <td>240.249239</td>\n      <td>452.461154</td>\n      <td>240.098674</td>\n      <td>8771.538846</td>\n      <td>144.719480</td>\n    </tr>\n    <tr>\n      <th>6</th>\n      <td>396.014506</td>\n      <td>346.933285</td>\n      <td>396.223035</td>\n      <td>5401.351452</td>\n      <td>240.117765</td>\n    </tr>\n    <tr>\n      <th>7</th>\n      <td>581.609368</td>\n      <td>380.733530</td>\n      <td>581.716793</td>\n      <td>4771.239774</td>\n      <td>353.461937</td>\n    </tr>\n    <tr>\n      <th>8</th>\n      <td>715.122073</td>\n      <td>151.622140</td>\n      <td>715.047644</td>\n      <td>2402.377860</td>\n      <td>434.932467</td>\n    </tr>\n    <tr>\n      <th>9</th>\n      <td>736.642327</td>\n      <td>187.540265</td>\n      <td>736.647090</td>\n      <td>2756.459735</td>\n      <td>448.130600</td>\n    </tr>\n    <tr>\n      <th>10</th>\n      <td>802.670567</td>\n      <td>118.870942</td>\n      <td>802.882039</td>\n      <td>1974.917485</td>\n      <td>488.602827</td>\n    </tr>\n    <tr>\n      <th>11</th>\n      <td>841.810118</td>\n      <td>3222.962034</td>\n      <td>841.713118</td>\n      <td>7721.037966</td>\n      <td>512.330183</td>\n    </tr>\n    <tr>\n      <th>12</th>\n      <td>960.251199</td>\n      <td>467.347274</td>\n      <td>960.158443</td>\n      <td>2809.581456</td>\n      <td>584.705056</td>\n    </tr>\n    <tr>\n      <th>13</th>\n      <td>1002.987988</td>\n      <td>731.275113</td>\n      <td>1002.868703</td>\n      <td>2697.933820</td>\n      <td>610.802749</td>\n    </tr>\n    <tr>\n      <th>14</th>\n      <td>1082.173703</td>\n      <td>1920.249996</td>\n      <td>1082.148616</td>\n      <td>4041.750004</td>\n      <td>659.245975</td>\n    </tr>\n    <tr>\n      <th>15</th>\n      <td>1114.621961</td>\n      <td>242.956794</td>\n      <td>1114.393578</td>\n      <td>2843.043206</td>\n      <td>678.948948</td>\n    </tr>\n    <tr>\n      <th>16</th>\n      <td>1129.551645</td>\n      <td>160.527575</td>\n      <td>1129.587592</td>\n      <td>1705.472425</td>\n      <td>688.233103</td>\n    </tr>\n    <tr>\n      <th>17</th>\n      <td>1162.268933</td>\n      <td>300.604810</td>\n      <td>1161.981829</td>\n      <td>2543.542779</td>\n      <td>708.027290</td>\n    </tr>\n    <tr>\n      <th>18</th>\n      <td>1195.993212</td>\n      <td>82.721338</td>\n      <td>1195.990136</td>\n      <td>1313.128318</td>\n      <td>728.807738</td>\n    </tr>\n    <tr>\n      <th>19</th>\n      <td>1256.054518</td>\n      <td>370.493637</td>\n      <td>1256.046939</td>\n      <td>2475.802529</td>\n      <td>765.504867</td>\n    </tr>\n    <tr>\n      <th>20</th>\n      <td>1332.776486</td>\n      <td>2365.970951</td>\n      <td>1332.678637</td>\n      <td>4577.551141</td>\n      <td>812.329928</td>\n    </tr>\n    <tr>\n      <th>21</th>\n      <td>1372.445002</td>\n      <td>167.479485</td>\n      <td>1372.535512</td>\n      <td>1460.590924</td>\n      <td>836.684087</td>\n    </tr>\n    <tr>\n      <th>22</th>\n      <td>1453.824025</td>\n      <td>1193.770171</td>\n      <td>1453.812299</td>\n      <td>2989.802692</td>\n      <td>886.347483</td>\n    </tr>\n    <tr>\n      <th>23</th>\n      <td>1497.235531</td>\n      <td>601.317455</td>\n      <td>1497.189639</td>\n      <td>2132.029065</td>\n      <td>912.852788</td>\n    </tr>\n    <tr>\n      <th>24</th>\n      <td>1540.265063</td>\n      <td>692.797524</td>\n      <td>1540.148341</td>\n      <td>2341.202476</td>\n      <td>939.102289</td>\n    </tr>\n    <tr>\n      <th>25</th>\n      <td>1585.181568</td>\n      <td>173.706476</td>\n      <td>1584.716720</td>\n      <td>1394.293524</td>\n      <td>966.335367</td>\n    </tr>\n    <tr>\n      <th>26</th>\n      <td>1592.024586</td>\n      <td>340.055606</td>\n      <td>1591.922523</td>\n      <td>1549.944394</td>\n      <td>970.738404</td>\n    </tr>\n    <tr>\n      <th>27</th>\n      <td>1831.634854</td>\n      <td>372.886548</td>\n      <td>1831.713217</td>\n      <td>1379.113452</td>\n      <td>1117.260194</td>\n    </tr>\n    <tr>\n      <th>28</th>\n      <td>1839.811835</td>\n      <td>329.591952</td>\n      <td>1839.623559</td>\n      <td>1562.031247</td>\n      <td>1122.093732</td>\n    </tr>\n    <tr>\n      <th>29</th>\n      <td>1926.267836</td>\n      <td>5347.497161</td>\n      <td>1926.274908</td>\n      <td>6428.502839</td>\n      <td>1175.041203</td>\n    </tr>\n    <tr>\n      <th>30</th>\n      <td>2032.150210</td>\n      <td>142.607615</td>\n      <td>2031.626763</td>\n      <td>945.756067</td>\n      <td>1239.415437</td>\n    </tr>\n    <tr>\n      <th>31</th>\n      <td>2187.140153</td>\n      <td>5023.581308</td>\n      <td>2187.020379</td>\n      <td>5743.670631</td>\n      <td>1334.367208</td>\n    </tr>\n    <tr>\n      <th>32</th>\n      <td>2272.278783</td>\n      <td>286.881561</td>\n      <td>2272.081690</td>\n      <td>878.092437</td>\n      <td>1386.343101</td>\n    </tr>\n    <tr>\n      <th>33</th>\n      <td>2397.403899</td>\n      <td>3156.520439</td>\n      <td>2397.320179</td>\n      <td>3643.447352</td>\n      <td>1462.868872</td>\n    </tr>\n    <tr>\n      <th>34</th>\n      <td>2469.872335</td>\n      <td>136.945434</td>\n      <td>2469.437428</td>\n      <td>380.247327</td>\n      <td>1506.935421</td>\n    </tr>\n    <tr>\n      <th>35</th>\n      <td>2613.439986</td>\n      <td>203.386441</td>\n      <td>2613.886596</td>\n      <td>520.613559</td>\n      <td>1595.199692</td>\n    </tr>\n    <tr>\n      <th>36</th>\n      <td>2837.622634</td>\n      <td>88.660882</td>\n      <td>2837.639189</td>\n      <td>251.339118</td>\n      <td>1731.921556</td>\n    </tr>\n    <tr>\n      <th>37</th>\n      <td>2894.726271</td>\n      <td>396.223387</td>\n      <td>2894.369600</td>\n      <td>593.613415</td>\n      <td>1766.586126</td>\n    </tr>\n    <tr>\n      <th>38</th>\n      <td>3030.002478</td>\n      <td>68.067430</td>\n      <td>3029.736571</td>\n      <td>239.932570</td>\n      <td>1849.300808</td>\n    </tr>\n    <tr>\n      <th>39</th>\n      <td>3449.779871</td>\n      <td>210.039045</td>\n      <td>3449.989400</td>\n      <td>494.425838</td>\n      <td>2106.092245</td>\n    </tr>\n    <tr>\n      <th>40</th>\n      <td>3615.313213</td>\n      <td>148.207577</td>\n      <td>3614.787779</td>\n      <td>319.932733</td>\n      <td>2206.790705</td>\n    </tr>\n    <tr>\n      <th>41</th>\n      <td>4012.646246</td>\n      <td>163.476018</td>\n      <td>4011.885130</td>\n      <td>397.118605</td>\n      <td>2449.433210</td>\n    </tr>\n  </tbody>\n</table>\n</div>"
     },
     "execution_count": 26,
     "metadata": {},
     "output_type": "execute_result"
    }
   ],
   "source": [
    "peaks_df['energy'] = p_en(peaks_df['centroids'])\n",
    "peaks_df"
   ],
   "metadata": {
    "collapsed": false
   }
  },
  {
   "cell_type": "code",
   "execution_count": 27,
   "outputs": [],
   "source": [
    "# 2023-Mar-21: Identify nuclide candidates in peaks_df from pisciro_eng_df, with energy tolerance en_toler"
   ],
   "metadata": {
    "collapsed": false
   }
  },
  {
   "cell_type": "code",
   "execution_count": 28,
   "outputs": [
    {
     "data": {
      "text/plain": "       fwhm_centr   rough_sums    centroids     variances       energy  \\\n0       31.016456  1694.250057    31.203767  10141.766775    17.076262   \n1       31.016456  1694.250057    31.203767  10141.766775    17.076262   \n2       31.016456  1694.250057    31.203767  10141.766775    17.076262   \n3       31.016456  1694.250057    31.203767  10141.766775    17.076262   \n4       31.016456  1694.250057    31.203767  10141.766775    17.076262   \n...           ...          ...          ...           ...          ...   \n2053  4012.646246   163.476018  4011.885130    397.118605  2449.433210   \n2054  4012.646246   163.476018  4011.885130    397.118605  2449.433210   \n2055  4012.646246   163.476018  4011.885130    397.118605  2449.433210   \n2056  4012.646246   163.476018  4011.885130    397.118605  2449.433210   \n2057  4012.646246   163.476018  4011.885130    397.118605  2449.433210   \n\n         Nucl      Engy  sEngy     Yie   sYie  \n0     Ag-110m   446.811  0.003   3.750  0.030  \n1     Ag-110m   620.360  0.003   2.806  0.018  \n2     Ag-110m   657.762  0.002  94.600  0.400  \n3     Ag-110m   677.723  0.002  10.350  0.080  \n4     Ag-110m   687.015  0.003   6.440  0.060  \n...       ...       ...    ...     ...    ...  \n2053    W-187   479.550  0.022  21.800  0.800  \n2054    W-187   618.260  0.040   6.280  0.220  \n2055    W-187   685.730  0.040  27.300  1.000  \n2056    W-187   772.890  0.050   4.120  0.140  \n2057    Zn-65  1115.520  0.001  50.750  0.100  \n\n[2058 rows x 10 columns]",
      "text/html": "<div>\n<style scoped>\n    .dataframe tbody tr th:only-of-type {\n        vertical-align: middle;\n    }\n\n    .dataframe tbody tr th {\n        vertical-align: top;\n    }\n\n    .dataframe thead th {\n        text-align: right;\n    }\n</style>\n<table border=\"1\" class=\"dataframe\">\n  <thead>\n    <tr style=\"text-align: right;\">\n      <th></th>\n      <th>fwhm_centr</th>\n      <th>rough_sums</th>\n      <th>centroids</th>\n      <th>variances</th>\n      <th>energy</th>\n      <th>Nucl</th>\n      <th>Engy</th>\n      <th>sEngy</th>\n      <th>Yie</th>\n      <th>sYie</th>\n    </tr>\n  </thead>\n  <tbody>\n    <tr>\n      <th>0</th>\n      <td>31.016456</td>\n      <td>1694.250057</td>\n      <td>31.203767</td>\n      <td>10141.766775</td>\n      <td>17.076262</td>\n      <td>Ag-110m</td>\n      <td>446.811</td>\n      <td>0.003</td>\n      <td>3.750</td>\n      <td>0.030</td>\n    </tr>\n    <tr>\n      <th>1</th>\n      <td>31.016456</td>\n      <td>1694.250057</td>\n      <td>31.203767</td>\n      <td>10141.766775</td>\n      <td>17.076262</td>\n      <td>Ag-110m</td>\n      <td>620.360</td>\n      <td>0.003</td>\n      <td>2.806</td>\n      <td>0.018</td>\n    </tr>\n    <tr>\n      <th>2</th>\n      <td>31.016456</td>\n      <td>1694.250057</td>\n      <td>31.203767</td>\n      <td>10141.766775</td>\n      <td>17.076262</td>\n      <td>Ag-110m</td>\n      <td>657.762</td>\n      <td>0.002</td>\n      <td>94.600</td>\n      <td>0.400</td>\n    </tr>\n    <tr>\n      <th>3</th>\n      <td>31.016456</td>\n      <td>1694.250057</td>\n      <td>31.203767</td>\n      <td>10141.766775</td>\n      <td>17.076262</td>\n      <td>Ag-110m</td>\n      <td>677.723</td>\n      <td>0.002</td>\n      <td>10.350</td>\n      <td>0.080</td>\n    </tr>\n    <tr>\n      <th>4</th>\n      <td>31.016456</td>\n      <td>1694.250057</td>\n      <td>31.203767</td>\n      <td>10141.766775</td>\n      <td>17.076262</td>\n      <td>Ag-110m</td>\n      <td>687.015</td>\n      <td>0.003</td>\n      <td>6.440</td>\n      <td>0.060</td>\n    </tr>\n    <tr>\n      <th>...</th>\n      <td>...</td>\n      <td>...</td>\n      <td>...</td>\n      <td>...</td>\n      <td>...</td>\n      <td>...</td>\n      <td>...</td>\n      <td>...</td>\n      <td>...</td>\n      <td>...</td>\n    </tr>\n    <tr>\n      <th>2053</th>\n      <td>4012.646246</td>\n      <td>163.476018</td>\n      <td>4011.885130</td>\n      <td>397.118605</td>\n      <td>2449.433210</td>\n      <td>W-187</td>\n      <td>479.550</td>\n      <td>0.022</td>\n      <td>21.800</td>\n      <td>0.800</td>\n    </tr>\n    <tr>\n      <th>2054</th>\n      <td>4012.646246</td>\n      <td>163.476018</td>\n      <td>4011.885130</td>\n      <td>397.118605</td>\n      <td>2449.433210</td>\n      <td>W-187</td>\n      <td>618.260</td>\n      <td>0.040</td>\n      <td>6.280</td>\n      <td>0.220</td>\n    </tr>\n    <tr>\n      <th>2055</th>\n      <td>4012.646246</td>\n      <td>163.476018</td>\n      <td>4011.885130</td>\n      <td>397.118605</td>\n      <td>2449.433210</td>\n      <td>W-187</td>\n      <td>685.730</td>\n      <td>0.040</td>\n      <td>27.300</td>\n      <td>1.000</td>\n    </tr>\n    <tr>\n      <th>2056</th>\n      <td>4012.646246</td>\n      <td>163.476018</td>\n      <td>4011.885130</td>\n      <td>397.118605</td>\n      <td>2449.433210</td>\n      <td>W-187</td>\n      <td>772.890</td>\n      <td>0.050</td>\n      <td>4.120</td>\n      <td>0.140</td>\n    </tr>\n    <tr>\n      <th>2057</th>\n      <td>4012.646246</td>\n      <td>163.476018</td>\n      <td>4011.885130</td>\n      <td>397.118605</td>\n      <td>2449.433210</td>\n      <td>Zn-65</td>\n      <td>1115.520</td>\n      <td>0.001</td>\n      <td>50.750</td>\n      <td>0.100</td>\n    </tr>\n  </tbody>\n</table>\n<p>2058 rows × 10 columns</p>\n</div>"
     },
     "execution_count": 28,
     "metadata": {},
     "output_type": "execute_result"
    }
   ],
   "source": [
    "big_merge = pd.merge(peaks_df, pisciro_eng_df, how='cross')\n",
    "big_merge"
   ],
   "metadata": {
    "collapsed": false
   }
  },
  {
   "cell_type": "code",
   "execution_count": 29,
   "outputs": [],
   "source": [
    "en_toler = 2.0"
   ],
   "metadata": {
    "collapsed": false
   }
  },
  {
   "cell_type": "code",
   "execution_count": 30,
   "outputs": [
    {
     "data": {
      "text/plain": "       fwhm_centr   rough_sums    centroids     variances       energy  \\\n0       31.016456  1694.250057    31.203767  10141.766775    17.076262   \n1       31.016456  1694.250057    31.203767  10141.766775    17.076262   \n2       31.016456  1694.250057    31.203767  10141.766775    17.076262   \n3       31.016456  1694.250057    31.203767  10141.766775    17.076262   \n4       31.016456  1694.250057    31.203767  10141.766775    17.076262   \n...           ...          ...          ...           ...          ...   \n2053  4012.646246   163.476018  4011.885130    397.118605  2449.433210   \n2054  4012.646246   163.476018  4011.885130    397.118605  2449.433210   \n2055  4012.646246   163.476018  4011.885130    397.118605  2449.433210   \n2056  4012.646246   163.476018  4011.885130    397.118605  2449.433210   \n2057  4012.646246   163.476018  4011.885130    397.118605  2449.433210   \n\n         Nucl      Engy  sEngy     Yie   sYie     delta_en  \n0     Ag-110m   446.811  0.003   3.750  0.030  -429.734738  \n1     Ag-110m   620.360  0.003   2.806  0.018  -603.283738  \n2     Ag-110m   657.762  0.002  94.600  0.400  -640.685738  \n3     Ag-110m   677.723  0.002  10.350  0.080  -660.646738  \n4     Ag-110m   687.015  0.003   6.440  0.060  -669.938738  \n...       ...       ...    ...     ...    ...          ...  \n2053    W-187   479.550  0.022  21.800  0.800  1969.883210  \n2054    W-187   618.260  0.040   6.280  0.220  1831.173210  \n2055    W-187   685.730  0.040  27.300  1.000  1763.703210  \n2056    W-187   772.890  0.050   4.120  0.140  1676.543210  \n2057    Zn-65  1115.520  0.001  50.750  0.100  1333.913210  \n\n[2058 rows x 11 columns]",
      "text/html": "<div>\n<style scoped>\n    .dataframe tbody tr th:only-of-type {\n        vertical-align: middle;\n    }\n\n    .dataframe tbody tr th {\n        vertical-align: top;\n    }\n\n    .dataframe thead th {\n        text-align: right;\n    }\n</style>\n<table border=\"1\" class=\"dataframe\">\n  <thead>\n    <tr style=\"text-align: right;\">\n      <th></th>\n      <th>fwhm_centr</th>\n      <th>rough_sums</th>\n      <th>centroids</th>\n      <th>variances</th>\n      <th>energy</th>\n      <th>Nucl</th>\n      <th>Engy</th>\n      <th>sEngy</th>\n      <th>Yie</th>\n      <th>sYie</th>\n      <th>delta_en</th>\n    </tr>\n  </thead>\n  <tbody>\n    <tr>\n      <th>0</th>\n      <td>31.016456</td>\n      <td>1694.250057</td>\n      <td>31.203767</td>\n      <td>10141.766775</td>\n      <td>17.076262</td>\n      <td>Ag-110m</td>\n      <td>446.811</td>\n      <td>0.003</td>\n      <td>3.750</td>\n      <td>0.030</td>\n      <td>-429.734738</td>\n    </tr>\n    <tr>\n      <th>1</th>\n      <td>31.016456</td>\n      <td>1694.250057</td>\n      <td>31.203767</td>\n      <td>10141.766775</td>\n      <td>17.076262</td>\n      <td>Ag-110m</td>\n      <td>620.360</td>\n      <td>0.003</td>\n      <td>2.806</td>\n      <td>0.018</td>\n      <td>-603.283738</td>\n    </tr>\n    <tr>\n      <th>2</th>\n      <td>31.016456</td>\n      <td>1694.250057</td>\n      <td>31.203767</td>\n      <td>10141.766775</td>\n      <td>17.076262</td>\n      <td>Ag-110m</td>\n      <td>657.762</td>\n      <td>0.002</td>\n      <td>94.600</td>\n      <td>0.400</td>\n      <td>-640.685738</td>\n    </tr>\n    <tr>\n      <th>3</th>\n      <td>31.016456</td>\n      <td>1694.250057</td>\n      <td>31.203767</td>\n      <td>10141.766775</td>\n      <td>17.076262</td>\n      <td>Ag-110m</td>\n      <td>677.723</td>\n      <td>0.002</td>\n      <td>10.350</td>\n      <td>0.080</td>\n      <td>-660.646738</td>\n    </tr>\n    <tr>\n      <th>4</th>\n      <td>31.016456</td>\n      <td>1694.250057</td>\n      <td>31.203767</td>\n      <td>10141.766775</td>\n      <td>17.076262</td>\n      <td>Ag-110m</td>\n      <td>687.015</td>\n      <td>0.003</td>\n      <td>6.440</td>\n      <td>0.060</td>\n      <td>-669.938738</td>\n    </tr>\n    <tr>\n      <th>...</th>\n      <td>...</td>\n      <td>...</td>\n      <td>...</td>\n      <td>...</td>\n      <td>...</td>\n      <td>...</td>\n      <td>...</td>\n      <td>...</td>\n      <td>...</td>\n      <td>...</td>\n      <td>...</td>\n    </tr>\n    <tr>\n      <th>2053</th>\n      <td>4012.646246</td>\n      <td>163.476018</td>\n      <td>4011.885130</td>\n      <td>397.118605</td>\n      <td>2449.433210</td>\n      <td>W-187</td>\n      <td>479.550</td>\n      <td>0.022</td>\n      <td>21.800</td>\n      <td>0.800</td>\n      <td>1969.883210</td>\n    </tr>\n    <tr>\n      <th>2054</th>\n      <td>4012.646246</td>\n      <td>163.476018</td>\n      <td>4011.885130</td>\n      <td>397.118605</td>\n      <td>2449.433210</td>\n      <td>W-187</td>\n      <td>618.260</td>\n      <td>0.040</td>\n      <td>6.280</td>\n      <td>0.220</td>\n      <td>1831.173210</td>\n    </tr>\n    <tr>\n      <th>2055</th>\n      <td>4012.646246</td>\n      <td>163.476018</td>\n      <td>4011.885130</td>\n      <td>397.118605</td>\n      <td>2449.433210</td>\n      <td>W-187</td>\n      <td>685.730</td>\n      <td>0.040</td>\n      <td>27.300</td>\n      <td>1.000</td>\n      <td>1763.703210</td>\n    </tr>\n    <tr>\n      <th>2056</th>\n      <td>4012.646246</td>\n      <td>163.476018</td>\n      <td>4011.885130</td>\n      <td>397.118605</td>\n      <td>2449.433210</td>\n      <td>W-187</td>\n      <td>772.890</td>\n      <td>0.050</td>\n      <td>4.120</td>\n      <td>0.140</td>\n      <td>1676.543210</td>\n    </tr>\n    <tr>\n      <th>2057</th>\n      <td>4012.646246</td>\n      <td>163.476018</td>\n      <td>4011.885130</td>\n      <td>397.118605</td>\n      <td>2449.433210</td>\n      <td>Zn-65</td>\n      <td>1115.520</td>\n      <td>0.001</td>\n      <td>50.750</td>\n      <td>0.100</td>\n      <td>1333.913210</td>\n    </tr>\n  </tbody>\n</table>\n<p>2058 rows × 11 columns</p>\n</div>"
     },
     "execution_count": 30,
     "metadata": {},
     "output_type": "execute_result"
    }
   ],
   "source": [
    "big_merge['delta_en'] = big_merge.energy - big_merge.Engy\n",
    "big_merge"
   ],
   "metadata": {
    "collapsed": false
   }
  },
  {
   "cell_type": "code",
   "execution_count": 82,
   "outputs": [
    {
     "data": {
      "text/plain": "          Engy     Nucl   rough_sums     Yie\n441    446.811  Ag-110m   187.540265   3.750\n518    487.021   La-140   118.870942  44.300\n678    610.330   Ru-103   731.275113   5.730\n688    657.762  Ag-110m  1920.249996  94.600\n738    677.723  Ag-110m   242.956794  10.350\n788    687.015  Ag-110m   160.527575   6.440\n838    706.682  Ag-110m   300.604810  16.440\n938    763.944  Ag-110m   370.493637  22.290\n997    810.775    Co-58  2365.970951  99.448\n1063   834.827    Mn-54   167.479485  99.975\n1087   884.685  Ag-110m  1193.770171  72.700\n1186   937.493  Ag-110m   692.797524  34.360\n1371  1115.520    Zn-65   372.886548  50.750\n1440  1173.237    Co-60  5347.497161  99.900\n1539  1332.501    Co-60  5023.581308  99.982\n1679  1505.040  Ag-110m   136.945434  13.040\n1747  1596.210   La-140   203.386441  95.400",
      "text/html": "<div>\n<style scoped>\n    .dataframe tbody tr th:only-of-type {\n        vertical-align: middle;\n    }\n\n    .dataframe tbody tr th {\n        vertical-align: top;\n    }\n\n    .dataframe thead th {\n        text-align: right;\n    }\n</style>\n<table border=\"1\" class=\"dataframe\">\n  <thead>\n    <tr style=\"text-align: right;\">\n      <th></th>\n      <th>Engy</th>\n      <th>Nucl</th>\n      <th>rough_sums</th>\n      <th>Yie</th>\n    </tr>\n  </thead>\n  <tbody>\n    <tr>\n      <th>441</th>\n      <td>446.811</td>\n      <td>Ag-110m</td>\n      <td>187.540265</td>\n      <td>3.750</td>\n    </tr>\n    <tr>\n      <th>518</th>\n      <td>487.021</td>\n      <td>La-140</td>\n      <td>118.870942</td>\n      <td>44.300</td>\n    </tr>\n    <tr>\n      <th>678</th>\n      <td>610.330</td>\n      <td>Ru-103</td>\n      <td>731.275113</td>\n      <td>5.730</td>\n    </tr>\n    <tr>\n      <th>688</th>\n      <td>657.762</td>\n      <td>Ag-110m</td>\n      <td>1920.249996</td>\n      <td>94.600</td>\n    </tr>\n    <tr>\n      <th>738</th>\n      <td>677.723</td>\n      <td>Ag-110m</td>\n      <td>242.956794</td>\n      <td>10.350</td>\n    </tr>\n    <tr>\n      <th>788</th>\n      <td>687.015</td>\n      <td>Ag-110m</td>\n      <td>160.527575</td>\n      <td>6.440</td>\n    </tr>\n    <tr>\n      <th>838</th>\n      <td>706.682</td>\n      <td>Ag-110m</td>\n      <td>300.604810</td>\n      <td>16.440</td>\n    </tr>\n    <tr>\n      <th>938</th>\n      <td>763.944</td>\n      <td>Ag-110m</td>\n      <td>370.493637</td>\n      <td>22.290</td>\n    </tr>\n    <tr>\n      <th>997</th>\n      <td>810.775</td>\n      <td>Co-58</td>\n      <td>2365.970951</td>\n      <td>99.448</td>\n    </tr>\n    <tr>\n      <th>1063</th>\n      <td>834.827</td>\n      <td>Mn-54</td>\n      <td>167.479485</td>\n      <td>99.975</td>\n    </tr>\n    <tr>\n      <th>1087</th>\n      <td>884.685</td>\n      <td>Ag-110m</td>\n      <td>1193.770171</td>\n      <td>72.700</td>\n    </tr>\n    <tr>\n      <th>1186</th>\n      <td>937.493</td>\n      <td>Ag-110m</td>\n      <td>692.797524</td>\n      <td>34.360</td>\n    </tr>\n    <tr>\n      <th>1371</th>\n      <td>1115.520</td>\n      <td>Zn-65</td>\n      <td>372.886548</td>\n      <td>50.750</td>\n    </tr>\n    <tr>\n      <th>1440</th>\n      <td>1173.237</td>\n      <td>Co-60</td>\n      <td>5347.497161</td>\n      <td>99.900</td>\n    </tr>\n    <tr>\n      <th>1539</th>\n      <td>1332.501</td>\n      <td>Co-60</td>\n      <td>5023.581308</td>\n      <td>99.982</td>\n    </tr>\n    <tr>\n      <th>1679</th>\n      <td>1505.040</td>\n      <td>Ag-110m</td>\n      <td>136.945434</td>\n      <td>13.040</td>\n    </tr>\n    <tr>\n      <th>1747</th>\n      <td>1596.210</td>\n      <td>La-140</td>\n      <td>203.386441</td>\n      <td>95.400</td>\n    </tr>\n  </tbody>\n</table>\n</div>"
     },
     "execution_count": 82,
     "metadata": {},
     "output_type": "execute_result"
    }
   ],
   "source": [
    "# https://pandas.pydata.org/pandas-docs/stable/user_guide/indexing.html#selection-by-callable\n",
    "# MaTched ENergies\n",
    "mt_en = pd.DataFrame(big_merge.loc[lambda df: abs(df['delta_en']) < en_toler, :]) \\\n",
    "[['Engy', 'Nucl', 'rough_sums', 'Yie']]\n",
    "mt_en\n",
    "# mt_en[['Engy', 'Nucl']]"
   ],
   "metadata": {
    "collapsed": false
   }
  },
  {
   "cell_type": "code",
   "execution_count": 83,
   "outputs": [],
   "source": [
    "# Now, we can insert the counting efficiency function:"
   ],
   "metadata": {
    "collapsed": false
   }
  },
  {
   "cell_type": "code",
   "execution_count": 84,
   "outputs": [],
   "source": [
    "# Curva de eficiência para frasco F100 do GMX (2021):\n",
    "# Arquivo Effic_F100_GMX_2021.ods construído a partir de\n",
    "# Nextcloud\\Ipen\\Radiometria\\2021_Curvas-efic_Bessa\\F100 GMX_2021.pdf"
   ],
   "metadata": {
    "collapsed": false
   }
  },
  {
   "cell_type": "code",
   "execution_count": 85,
   "outputs": [
    {
     "data": {
      "text/plain": "       Engy   Effic  sEffic\n0     59.54  6.4299    3.61\n1     81.00  5.6528    3.61\n2    276.40  1.6306    3.61\n3    302.85  1.5006    3.61\n4    356.02  1.4023    3.61\n5    383.85  1.3216    3.61\n6    604.69  0.9112    3.61\n7    661.66  0.7900    3.61\n8    795.84  0.7000    3.61\n9   1155.00  0.5916    0.01\n10  1173.24  0.5513    3.61\n11  1332.50  0.5053    3.61",
      "text/html": "<div>\n<style scoped>\n    .dataframe tbody tr th:only-of-type {\n        vertical-align: middle;\n    }\n\n    .dataframe tbody tr th {\n        vertical-align: top;\n    }\n\n    .dataframe thead th {\n        text-align: right;\n    }\n</style>\n<table border=\"1\" class=\"dataframe\">\n  <thead>\n    <tr style=\"text-align: right;\">\n      <th></th>\n      <th>Engy</th>\n      <th>Effic</th>\n      <th>sEffic</th>\n    </tr>\n  </thead>\n  <tbody>\n    <tr>\n      <th>0</th>\n      <td>59.54</td>\n      <td>6.4299</td>\n      <td>3.61</td>\n    </tr>\n    <tr>\n      <th>1</th>\n      <td>81.00</td>\n      <td>5.6528</td>\n      <td>3.61</td>\n    </tr>\n    <tr>\n      <th>2</th>\n      <td>276.40</td>\n      <td>1.6306</td>\n      <td>3.61</td>\n    </tr>\n    <tr>\n      <th>3</th>\n      <td>302.85</td>\n      <td>1.5006</td>\n      <td>3.61</td>\n    </tr>\n    <tr>\n      <th>4</th>\n      <td>356.02</td>\n      <td>1.4023</td>\n      <td>3.61</td>\n    </tr>\n    <tr>\n      <th>5</th>\n      <td>383.85</td>\n      <td>1.3216</td>\n      <td>3.61</td>\n    </tr>\n    <tr>\n      <th>6</th>\n      <td>604.69</td>\n      <td>0.9112</td>\n      <td>3.61</td>\n    </tr>\n    <tr>\n      <th>7</th>\n      <td>661.66</td>\n      <td>0.7900</td>\n      <td>3.61</td>\n    </tr>\n    <tr>\n      <th>8</th>\n      <td>795.84</td>\n      <td>0.7000</td>\n      <td>3.61</td>\n    </tr>\n    <tr>\n      <th>9</th>\n      <td>1155.00</td>\n      <td>0.5916</td>\n      <td>0.01</td>\n    </tr>\n    <tr>\n      <th>10</th>\n      <td>1173.24</td>\n      <td>0.5513</td>\n      <td>3.61</td>\n    </tr>\n    <tr>\n      <th>11</th>\n      <td>1332.50</td>\n      <td>0.5053</td>\n      <td>3.61</td>\n    </tr>\n  </tbody>\n</table>\n</div>"
     },
     "execution_count": 85,
     "metadata": {},
     "output_type": "execute_result"
    }
   ],
   "source": [
    "# 2023-Mar-21\n",
    "# Lendo curva de eficiência\n",
    "eff_F100_GMX_2021_df = pd.read_excel('../data/Effic_F100_GMX_2021.ods')\n",
    "effics_df = eff_F100_GMX_2021_df\n",
    "effics_df"
   ],
   "metadata": {
    "collapsed": false
   }
  },
  {
   "cell_type": "code",
   "execution_count": 86,
   "outputs": [],
   "source": [
    "p_eff_log = P.fit(np.log(effics_df.Engy),\n",
    "                  np.log(effics_df.Effic),\n",
    "                  full=True,\n",
    "                  w = 1/effics_df.sEffic, deg=5)\n",
    "def p_eff(en):\n",
    "    return np.exp(p_eff_log[0](np.log(en)))"
   ],
   "metadata": {
    "collapsed": false
   }
  },
  {
   "cell_type": "code",
   "execution_count": 87,
   "outputs": [
    {
     "data": {
      "text/plain": "(Polynomial([ 0.51104917, -1.54282532,  0.42082601,  0.36310567, -0.3132035 ,\n        -0.06636575], domain=[4.08664836, 7.19481216], window=[-1.,  1.]),\n [array([0.00174484]),\n  6,\n  array([2.44946008e+00, 1.04967799e-02, 5.50802223e-03, 2.01458065e-03,\n         8.07092181e-04, 2.92462463e-04]),\n  2.6645352591003757e-15])"
     },
     "execution_count": 87,
     "metadata": {},
     "output_type": "execute_result"
    }
   ],
   "source": [
    "p_eff_log"
   ],
   "metadata": {
    "collapsed": false
   }
  },
  {
   "cell_type": "code",
   "execution_count": 88,
   "outputs": [
    {
     "data": {
      "text/plain": "0     6.454368\n1     5.607742\n2     1.698686\n3     1.552736\n4     1.335262\n5     1.249593\n6     0.884475\n7     0.834158\n8     0.744488\n9     0.591599\n10    0.585366\n11    0.533971\nName: Engy, dtype: float64"
     },
     "execution_count": 88,
     "metadata": {},
     "output_type": "execute_result"
    }
   ],
   "source": [
    "p_eff(effics_df.Engy)"
   ],
   "metadata": {
    "collapsed": false
   }
  },
  {
   "cell_type": "code",
   "execution_count": 89,
   "outputs": [
    {
     "data": {
      "text/plain": "Polynomial([ 47.00339024, -28.21798773,   5.7295277 ,  -0.38845885], domain=[-1,  1], window=[-1,  1])",
      "text/latex": "$x \\mapsto \\text{47.0033902423} - \\text{28.217987731}\\,x + \\text{5.72952770082}\\,x^{2} - \\text{0.388458849293}\\,x^{3}$"
     },
     "execution_count": 89,
     "metadata": {},
     "output_type": "execute_result"
    }
   ],
   "source": [
    "log_unc_fitted_effic = P([4.70033902423E+01, -2.82179877310E+01, 5.72952770082E+00, -3.88458849293E-01])\n",
    "log_unc_fitted_effic"
   ],
   "metadata": {
    "collapsed": false
   }
  },
  {
   "cell_type": "code",
   "execution_count": 90,
   "outputs": [
    {
     "data": {
      "text/plain": "0     2.366059\n1     1.972769\n2     1.533736\n3     1.437744\n4     1.233116\n5     1.126118\n6     0.470105\n7     0.365696\n8     0.198657\n9     0.037309\n10    0.034281\n11    0.016454\nName: Engy, dtype: float64"
     },
     "execution_count": 90,
     "metadata": {},
     "output_type": "execute_result"
    }
   ],
   "source": [
    "# Incerteza percentual da curva F100_GMX_2021 para os valores de eficiência\n",
    "# Os coeficientes foram tirados do InterWinner e a curva reconstruída aqui.\n",
    "unc_perc_fitted_effic = np.exp(log_unc_fitted_effic(np.log(effics_df.Engy)))\n",
    "unc_perc_fitted_effic"
   ],
   "metadata": {
    "collapsed": false
   }
  },
  {
   "cell_type": "code",
   "execution_count": 91,
   "outputs": [],
   "source": [
    "# Sample size (L, kg, g etc.)\n",
    "samp_size = 0.1"
   ],
   "metadata": {
    "collapsed": false
   }
  },
  {
   "cell_type": "code",
   "execution_count": 92,
   "outputs": [],
   "source": [
    "mt_en['uncorr_activ'] = mt_en['rough_sums'] /\\\n",
    "                        (p_eff(mt_en['Engy']) * 1e-4 * mt_en['Yie'] *\n",
    "                         ogra.a_spec.lv_time * samp_size)"
   ],
   "metadata": {
    "collapsed": false
   }
  },
  {
   "cell_type": "code",
   "execution_count": 93,
   "outputs": [
    {
     "data": {
      "text/plain": "          Engy     Nucl   rough_sums     Yie  uncorr_activ\n441    446.811  Ag-110m   187.540265   3.750     90.775325\n518    487.021   La-140   118.870942  44.300      5.206052\n678    610.330   Ru-103   731.275113   5.730    290.366685\n688    657.762  Ag-110m  1920.249996  94.600     48.485559\n738    677.723  Ag-110m   242.956794  10.350     57.143778\n788    687.015  Ag-110m   160.527575   6.440     61.201280\n838    706.682  Ag-110m   300.604810  16.440     45.691031\n938    763.944  Ag-110m   370.493637  22.290     43.563983\n997    810.775    Co-58  2365.970951  99.448     64.629632\n1063   834.827    Mn-54   167.479485  99.975      4.631152\n1087   884.685  Ag-110m  1193.770171  72.700     46.996680\n1186   937.493  Ag-110m   692.797524  34.360     59.753506\n1371  1115.520    Zn-65   372.886548  50.750     24.273288\n1440  1173.237    Co-60  5347.497161  99.900    182.888560\n1539  1332.501    Co-60  5023.581308  99.982    188.193309\n1679  1505.040  Ag-110m   136.945434  13.040     43.509493\n1747  1596.210   La-140   203.386441  95.400      9.328882",
      "text/html": "<div>\n<style scoped>\n    .dataframe tbody tr th:only-of-type {\n        vertical-align: middle;\n    }\n\n    .dataframe tbody tr th {\n        vertical-align: top;\n    }\n\n    .dataframe thead th {\n        text-align: right;\n    }\n</style>\n<table border=\"1\" class=\"dataframe\">\n  <thead>\n    <tr style=\"text-align: right;\">\n      <th></th>\n      <th>Engy</th>\n      <th>Nucl</th>\n      <th>rough_sums</th>\n      <th>Yie</th>\n      <th>uncorr_activ</th>\n    </tr>\n  </thead>\n  <tbody>\n    <tr>\n      <th>441</th>\n      <td>446.811</td>\n      <td>Ag-110m</td>\n      <td>187.540265</td>\n      <td>3.750</td>\n      <td>90.775325</td>\n    </tr>\n    <tr>\n      <th>518</th>\n      <td>487.021</td>\n      <td>La-140</td>\n      <td>118.870942</td>\n      <td>44.300</td>\n      <td>5.206052</td>\n    </tr>\n    <tr>\n      <th>678</th>\n      <td>610.330</td>\n      <td>Ru-103</td>\n      <td>731.275113</td>\n      <td>5.730</td>\n      <td>290.366685</td>\n    </tr>\n    <tr>\n      <th>688</th>\n      <td>657.762</td>\n      <td>Ag-110m</td>\n      <td>1920.249996</td>\n      <td>94.600</td>\n      <td>48.485559</td>\n    </tr>\n    <tr>\n      <th>738</th>\n      <td>677.723</td>\n      <td>Ag-110m</td>\n      <td>242.956794</td>\n      <td>10.350</td>\n      <td>57.143778</td>\n    </tr>\n    <tr>\n      <th>788</th>\n      <td>687.015</td>\n      <td>Ag-110m</td>\n      <td>160.527575</td>\n      <td>6.440</td>\n      <td>61.201280</td>\n    </tr>\n    <tr>\n      <th>838</th>\n      <td>706.682</td>\n      <td>Ag-110m</td>\n      <td>300.604810</td>\n      <td>16.440</td>\n      <td>45.691031</td>\n    </tr>\n    <tr>\n      <th>938</th>\n      <td>763.944</td>\n      <td>Ag-110m</td>\n      <td>370.493637</td>\n      <td>22.290</td>\n      <td>43.563983</td>\n    </tr>\n    <tr>\n      <th>997</th>\n      <td>810.775</td>\n      <td>Co-58</td>\n      <td>2365.970951</td>\n      <td>99.448</td>\n      <td>64.629632</td>\n    </tr>\n    <tr>\n      <th>1063</th>\n      <td>834.827</td>\n      <td>Mn-54</td>\n      <td>167.479485</td>\n      <td>99.975</td>\n      <td>4.631152</td>\n    </tr>\n    <tr>\n      <th>1087</th>\n      <td>884.685</td>\n      <td>Ag-110m</td>\n      <td>1193.770171</td>\n      <td>72.700</td>\n      <td>46.996680</td>\n    </tr>\n    <tr>\n      <th>1186</th>\n      <td>937.493</td>\n      <td>Ag-110m</td>\n      <td>692.797524</td>\n      <td>34.360</td>\n      <td>59.753506</td>\n    </tr>\n    <tr>\n      <th>1371</th>\n      <td>1115.520</td>\n      <td>Zn-65</td>\n      <td>372.886548</td>\n      <td>50.750</td>\n      <td>24.273288</td>\n    </tr>\n    <tr>\n      <th>1440</th>\n      <td>1173.237</td>\n      <td>Co-60</td>\n      <td>5347.497161</td>\n      <td>99.900</td>\n      <td>182.888560</td>\n    </tr>\n    <tr>\n      <th>1539</th>\n      <td>1332.501</td>\n      <td>Co-60</td>\n      <td>5023.581308</td>\n      <td>99.982</td>\n      <td>188.193309</td>\n    </tr>\n    <tr>\n      <th>1679</th>\n      <td>1505.040</td>\n      <td>Ag-110m</td>\n      <td>136.945434</td>\n      <td>13.040</td>\n      <td>43.509493</td>\n    </tr>\n    <tr>\n      <th>1747</th>\n      <td>1596.210</td>\n      <td>La-140</td>\n      <td>203.386441</td>\n      <td>95.400</td>\n      <td>9.328882</td>\n    </tr>\n  </tbody>\n</table>\n</div>"
     },
     "execution_count": 93,
     "metadata": {},
     "output_type": "execute_result"
    }
   ],
   "source": [
    "mt_en"
   ],
   "metadata": {
    "collapsed": false
   }
  },
  {
   "cell_type": "code",
   "execution_count": 42,
   "outputs": [],
   "source": [],
   "metadata": {
    "collapsed": false
   }
  },
  {
   "cell_type": "code",
   "execution_count": 43,
   "outputs": [
    {
     "ename": "SyntaxError",
     "evalue": "invalid syntax (1993140350.py, line 1)",
     "output_type": "error",
     "traceback": [
      "\u001B[1;36m  Cell \u001B[1;32mIn[43], line 1\u001B[1;36m\u001B[0m\n\u001B[1;33m    msedg serg set asrhg saertrg\u001B[0m\n\u001B[1;37m          ^\u001B[0m\n\u001B[1;31mSyntaxError\u001B[0m\u001B[1;31m:\u001B[0m invalid syntax\n"
     ]
    }
   ],
   "source": [
    "msedg serg set asrhg saertrg"
   ],
   "metadata": {
    "collapsed": false
   }
  },
  {
   "cell_type": "code",
   "execution_count": null,
   "outputs": [],
   "source": [
    "ogra.call_graphics()"
   ],
   "metadata": {
    "collapsed": false
   }
  },
  {
   "cell_type": "code",
   "execution_count": null,
   "outputs": [],
   "source": [],
   "metadata": {
    "collapsed": false
   }
  },
  {
   "cell_type": "code",
   "execution_count": null,
   "outputs": [],
   "source": [
    "rng = np.random.default_rng()\n",
    "# rints = rng.integers(low=0, high=10, size=3)\n",
    "\n",
    "# 2022-Jun-23: Reativar após consertar o arquivo pickle:\n",
    "# rints = rng.integers(pkl_df1.count()[0], size=3)\n",
    "# print(rints)\n",
    "# type(rints[0])\n",
    "# some_spec = rints[1]\n",
    "# pkl_df1.iloc[some_spec]\n",
    "# a_spec_name = pkl_df1.iloc[some_spec]['FName']\n",
    "# a_spec_name"
   ],
   "metadata": {
    "collapsed": false
   }
  },
  {
   "cell_type": "code",
   "execution_count": null,
   "outputs": [],
   "source": [
    "rng"
   ],
   "metadata": {
    "collapsed": false
   }
  },
  {
   "cell_type": "code",
   "execution_count": null,
   "outputs": [],
   "source": [
    "print(f'A spec name: {ogra.a_spec_name}')\n",
    "print(f'Reduced file name: {ogra.reduced_f_name}')"
   ],
   "metadata": {
    "collapsed": false
   }
  },
  {
   "cell_type": "code",
   "execution_count": null,
   "outputs": [],
   "source": [
    "vars(ogra)"
   ],
   "metadata": {
    "collapsed": false
   }
  },
  {
   "cell_type": "code",
   "execution_count": null,
   "outputs": [],
   "source": [
    "# 2022-Dez-28\n",
    "print(f'índice do espectro na lista: {ogra.a_spec_ind}')\n",
    "ogra.reduced_names_files_list[ogra.a_spec_ind]"
   ],
   "metadata": {
    "collapsed": false
   }
  },
  {
   "cell_type": "code",
   "execution_count": null,
   "metadata": {},
   "outputs": [],
   "source": [
    "# 2022-Dez-28: Atualizar:\n",
    "# (2022-Jun-24 Lembrando como estão os defaults de total_analysis(...):\n",
    "# def total_analysis(self, k_sep_pk=2.0, smoo=3000.0, widths_range=(4.0, 20.0)):)\n",
    "# smoo=3000 fica razoável, mas faz umas ondas\n",
    "# smoo=1500 fica horrível, faz uns abismos. Quanto menor, pior\n",
    "# smoo=400 fica razoável, mas faz umas ondas\n",
    "# ogra.perform_total_analysis(\n",
    "#     k_sep_pk=2.0, smoo=4096, widths_range=(4.0, 20.0)\n",
    "# )"
   ]
  },
  {
   "cell_type": "code",
   "execution_count": null,
   "outputs": [],
   "source": [
    "ogra.a_spec.spec_pks_df.dtypes"
   ],
   "metadata": {
    "collapsed": false
   }
  },
  {
   "cell_type": "code",
   "execution_count": null,
   "outputs": [],
   "source": [
    "dir()"
   ],
   "metadata": {
    "collapsed": false
   }
  },
  {
   "cell_type": "code",
   "execution_count": null,
   "outputs": [],
   "source": [],
   "metadata": {
    "collapsed": false
   }
  },
  {
   "cell_type": "code",
   "execution_count": null,
   "outputs": [],
   "source": [],
   "metadata": {
    "collapsed": false
   }
  },
  {
   "cell_type": "code",
   "execution_count": null,
   "outputs": [],
   "source": [],
   "metadata": {
    "collapsed": false
   }
  },
  {
   "cell_type": "code",
   "execution_count": null,
   "outputs": [],
   "source": [],
   "metadata": {
    "collapsed": false
   }
  },
  {
   "cell_type": "code",
   "execution_count": null,
   "metadata": {},
   "outputs": [],
   "source": [
    "# 2022-Dez-28\n",
    "# Testes com conversão de pandas df .to_html\n",
    "# Teste 1: html direto\n",
    "df_to_html = ogra.a_spec.spec_pks_df.to_html(columns=['peaks', 'centroids', 'rough_sums'])\n",
    "df_to_html"
   ]
  },
  {
   "cell_type": "code",
   "execution_count": null,
   "outputs": [],
   "source": [
    "# 2022-Dez-28\n",
    "# Testes com conversão de pandas df .to_html\n",
    "# Teste 2: aplicando tags html:\n",
    "df_to_html = ogra.a_spec.spec_pks_df.to_html(\n",
    "    columns=['peaks', 'centroids', 'rough_sums'],\n",
    "    formatters={\n",
    "        'peaks': lambda x: '<b>' + str(x) + '</b>',\n",
    "        'rough_sums': lambda x: '<i>' + str(x) + '</i>'}\n",
    ")\n",
    "df_to_html\n",
    "import IPython\n",
    "IPython.display.HTML(df_to_html)"
   ],
   "metadata": {
    "collapsed": false
   }
  },
  {
   "cell_type": "code",
   "execution_count": null,
   "outputs": [],
   "source": [
    "# 2022-Dez-28\n",
    "# Testes com conversão de pandas df .to_html\n",
    "# Teste 3: aplicando float_formatters:\n",
    "df_to_html = ogra.a_spec.spec_pks_df.to_html(\n",
    "    columns=['peaks', 'centroids', 'rough_sums'],\n",
    "    float_format='{:.3f}'\n",
    ")\n",
    "df_to_html"
   ],
   "metadata": {
    "collapsed": false
   }
  },
  {
   "cell_type": "code",
   "execution_count": null,
   "outputs": [],
   "source": [
    "# Teste 3: usando Styles:\n",
    "my_df = ogra.a_spec.spec_pks_df\n",
    "my_df.style.format(na_rep='MISSING', thousands=\" \",\n",
    "                   formatter={('fwhm_centr', 'centroids'): \"{:.2f}\"})"
   ],
   "metadata": {
    "collapsed": false
   }
  },
  {
   "cell_type": "code",
   "execution_count": null,
   "outputs": [],
   "source": [
    "df = pd.DataFrame([[38.0, 2.0, 18.0, 22.0, 21, np.nan],[19, 439, 6, 452, 226,232]],\n",
    "                  index=pd.Index(['Tumour (Positive)', 'Non-Tumour (Negative)'], name='Actual Label:'),\n",
    "                  columns=pd.MultiIndex.from_product([['Decision Tree', 'Regression', 'Random'],['Tumour', 'Non-Tumour']], names=['Model:', 'Predicted:']))\n",
    "\n",
    "df.style.format(precision=0, na_rep='MISSING', thousands=\" \",\n",
    "                formatter={('Decision Tree', 'Tumour'): \"{:.2f}\",\n",
    "                           ('Regression', 'Non-Tumour'): lambda x: \"$ {:,.1f}\".format(x*-1e6)\n",
    "                           })"
   ],
   "metadata": {
    "collapsed": false
   }
  },
  {
   "cell_type": "code",
   "execution_count": null,
   "metadata": {},
   "outputs": [],
   "source": []
  },
  {
   "cell_type": "code",
   "execution_count": null,
   "outputs": [],
   "source": [],
   "metadata": {
    "collapsed": false
   }
  },
  {
   "cell_type": "code",
   "execution_count": null,
   "metadata": {},
   "outputs": [],
   "source": [
    "# 2022-Jun-14\n",
    "# Verificando o que se tem até agora em a_raw_spec:\n",
    "# (Pode pular e ir direto aos gráficos)"
   ]
  },
  {
   "cell_type": "code",
   "execution_count": null,
   "metadata": {},
   "outputs": [],
   "source": [
    "\n",
    "# Testes:\n",
    "# https://numpy.org/doc/stable/reference/random/generator.html#distributions\n",
    "# x = np.linspace(0, 10, N) + rng.normal(loc=7, scale=0.05, size=N)\n",
    "# y = np.linspace(22, 23, N)\n",
    "\n",
    "# Busca do canal onde a altura do espectro se \"estabiliza\"\n",
    "# https://numpy.org/doc/stable/reference/routines.sort.html#searching\n",
    "\n",
    "# Escolha do que plotar:\n",
    "# y_plot = noisy_y\n",
    "# y_plot = var_win\n",
    "# y_plot = var_rel"
   ]
  },
  {
   "cell_type": "code",
   "execution_count": null,
   "outputs": [],
   "source": [
    "vars(pkprms)"
   ],
   "metadata": {
    "collapsed": false
   }
  },
  {
   "cell_type": "code",
   "execution_count": null,
   "metadata": {},
   "outputs": [],
   "source": [
    "# 2022-Dez-21 Achar o pico de maior área inicial do espectro:"
   ]
  },
  {
   "cell_type": "code",
   "execution_count": null,
   "outputs": [],
   "source": [
    "largest_pk = np.argmax(pkprms.rough_sums)\n",
    "pkprms.centroids[largest_pk]"
   ],
   "metadata": {
    "collapsed": false
   }
  },
  {
   "cell_type": "code",
   "execution_count": null,
   "metadata": {},
   "outputs": [],
   "source": [
    "# Só pra lembrar como faz divisão inteira\n",
    "21 // 7"
   ]
  },
  {
   "cell_type": "code",
   "execution_count": null,
   "metadata": {},
   "outputs": [],
   "source": [
    "wi_re = pkprms.wide_regions[largest_pk]\n",
    "x = np.linspace(wi_re[0], wi_re[1], num=wi_re[1]-wi_re[0]+1)\n",
    "y = cntarr[wi_re[0]:wi_re[1]+1]\n",
    "c1 =  pkprms.centroids[largest_pk]\n",
    "s1 = pkprms.propts['widths'][largest_pk]*pkprms.k_fwhm_to_sd\n",
    "a1 = pkprms.rough_sums[largest_pk]\n",
    "# c2 = 313\n",
    "# s2 = 1.5\n",
    "# a2 = 400\n",
    "sste = 2.0"
   ]
  },
  {
   "cell_type": "code",
   "execution_count": null,
   "outputs": [],
   "source": [],
   "metadata": {
    "collapsed": false
   }
  },
  {
   "cell_type": "code",
   "execution_count": null,
   "metadata": {},
   "outputs": [],
   "source": [
    "pars = Parameters()\n",
    "\n",
    "# line_mod = LinearModel(prefix='line_')\n",
    "# pars.update(line_mod.make_params())\n",
    "# pars['line_intercept'].set(value=200, min=50, max=400)\n",
    "# pars['line_slope'].set(value=0, min=-0.001, max=0.001)\n",
    "                      \n",
    "# exp_mod = ExponentialModel(prefix='exp_')\n",
    "# pars = exp_mod.guess(y, x=x)\n",
    "\n",
    "gauss1 = GaussianModel(prefix='g1_')\n",
    "pars.update(gauss1.make_params())\n",
    "pars['g1_center'].set(value=c1, min=c1-2, max=c1+2)\n",
    "pars['g1_sigma'].set(value=s1, min=0.5, max=10)\n",
    "pars['g1_amplitude'].set(value=a1, min=10)\n",
    "\n",
    "# mod = gauss1 + gauss2 + line_mod - step_mod\n",
    "# mod = gauss1 + gauss2 - step_mod\n",
    "mod = gauss1\n",
    "\n",
    "init = mod.eval(pars, x=x)\n",
    "out = mod.fit(y, pars, x=x)\n",
    "\n",
    "print(out.fit_report(min_correl=0.1))\n",
    "\n",
    "fig, axes = plt.subplots(1, 2, figsize=(20, 16))\n",
    "axes[0].set_yscale('log')\n",
    "axes[1].set_yscale('log')\n",
    "axes[0].set_ylim([10, 2.5e6])\n",
    "axes[1].set_ylim([10, 2.5e6])\n",
    "\n",
    "axes[0].plot(x, y, 'b')\n",
    "axes[0].plot(x, init, 'k--', label='initial fit')\n",
    "axes[0].plot(x, out.best_fit, 'r-', label='best fit')\n",
    "axes[0].legend(loc='best')\n",
    "\n",
    "comps = out.eval_components(x=x)\n",
    "axes[1].plot(x, y, 'b')\n",
    "axes[1].plot(x, comps['g1_'], 'g--', label='Gaussian component 1')\n",
    "# axes[1].plot(x, comps['g2_'], 'm--', label='Gaussian component 2')\n",
    "# axes[1].plot(x, comps['line_'], 'k--', label='Linear component')\n",
    "# axes[1].plot(x, -comps['step_'], 'r--', label='Step component')\n",
    "# axes[1].plot(x, comps['exp_'], 'k--', label='Exponential component')\n",
    "axes[1].legend(loc='best')\n",
    "\n",
    "# plt.show()\n",
    "# <end examples/doc_builtinmodels_nistgauss.py>"
   ]
  },
  {
   "cell_type": "code",
   "execution_count": null,
   "outputs": [],
   "source": [
    "# 2023-Jan-3\n",
    "# Aqui finalizo este teste:\n",
    "# Dado um espectro, escolhi o pico mais proeminente do espectro\n",
    "# e fiz o ajuste gaussianco com lmfit\n",
    "# No caso, o pico tem área, centroide, SD e FWHM:\n",
    "# g1_amplitude:  5264.84728 +/- 85.1465566 (1.62%) (init = 5347.497)\n",
    "# g1_center:     1926.29564 +/- 0.02690572 (0.00%) (init = 1926.275)\n",
    "# g1_sigma:      1.44040103 +/- 0.02690060 (1.87%) (init = 1.418733)\n",
    "# g1_fwhm:       3.39188516 +/- 0.06334608 (1.87%) == '2.3548200*g1_sigma'\n",
    "# g1_height:     1458.18438 +/- 23.5824677 (1.62%) == '0.3989423*g1_amplitude/max(1e-15, g1_sigma)'\n",
    "\n",
    "# Comparando com saíuda do Genie:\n",
    "# canal (>0)    En:    FWHM (keV)    net area    net area unc   continuum\n",
    "# 1927.34      1173.47 2.04          5.40E+003   89.73          8.83E+002\n",
    "#"
   ],
   "metadata": {
    "collapsed": false
   }
  },
  {
   "cell_type": "code",
   "execution_count": null,
   "outputs": [],
   "source": [
    "out"
   ],
   "metadata": {
    "collapsed": false
   }
  },
  {
   "cell_type": "code",
   "execution_count": null,
   "outputs": [],
   "source": [
    "out.params"
   ],
   "metadata": {
    "collapsed": false
   }
  },
  {
   "cell_type": "code",
   "execution_count": null,
   "outputs": [],
   "source": [
    "out.var_names"
   ],
   "metadata": {
    "collapsed": false
   }
  },
  {
   "cell_type": "code",
   "execution_count": null,
   "outputs": [],
   "source": [
    "out.params.items()"
   ],
   "metadata": {
    "collapsed": false
   }
  },
  {
   "cell_type": "code",
   "execution_count": null,
   "outputs": [],
   "source": [
    "out.params.pretty_print()"
   ],
   "metadata": {
    "collapsed": false
   }
  },
  {
   "cell_type": "code",
   "execution_count": null,
   "outputs": [],
   "source": [
    "print('-------------------------------')\n",
    "print('Parameter    Value       Stderr')\n",
    "for name, param in out.params.items():\n",
    "    # print(f'{name:7s} {param.value:11.5f} {param.stderr:11.5f}')\n",
    "    print(name)\n",
    "    print(param)\n",
    "    print(param.value)"
   ],
   "metadata": {
    "collapsed": false
   }
  },
  {
   "cell_type": "code",
   "execution_count": null,
   "outputs": [],
   "source": [],
   "metadata": {
    "collapsed": false
   }
  },
  {
   "cell_type": "code",
   "execution_count": null,
   "outputs": [],
   "source": [
    "def gauss_lmfit_singlet(pkprms, ipk):\n",
    "    wi_re = pkprms.wide_regions[ipk]\n",
    "    print(f'pico: {wi_re}')\n",
    "    x = np.linspace(wi_re[0], wi_re[1], num=wi_re[1]-wi_re[0]+1)\n",
    "    y = cntarr[wi_re[0]:wi_re[1]+1]\n",
    "    c1 = pkprms.centroids[ipk]\n",
    "    s1 = pkprms.propts['widths'][ipk]*pkprms.k_fwhm_to_sd\n",
    "    a1 = pkprms.rough_sums[ipk]\n",
    "\n",
    "    parames = Parameters()\n",
    "\n",
    "    gauss1 = GaussianModel(prefix='g1_')\n",
    "    parames.update(gauss1.make_params())\n",
    "    parames['g1_center'].set(value=c1, min=c1-2, max=c1+2)\n",
    "    parames['g1_sigma'].set(value=s1, min=0.5, max=10)\n",
    "    parames['g1_amplitude'].set(value=a1, min=10)\n",
    "\n",
    "    mod = gauss1\n",
    "\n",
    "    init = mod.eval(parames, x=x)\n",
    "    out = mod.fit(y, parames, x=x, verbose=False)\n",
    "    print('Fez.')\n",
    "\n",
    "    # ret = [param for param in out.params.items()]\n",
    "    ret = out\n",
    "    return ret"
   ],
   "metadata": {
    "collapsed": false
   }
  },
  {
   "cell_type": "code",
   "execution_count": null,
   "outputs": [],
   "source": [
    "for ipk in range(len(pkprms.peaks)):\n",
    "    ret = gauss_lmfit_singlet(pkprms, ipk)\n",
    "    print(ret)"
   ],
   "metadata": {
    "collapsed": false
   }
  },
  {
   "cell_type": "code",
   "execution_count": null,
   "outputs": [],
   "source": [
    "ret"
   ],
   "metadata": {
    "collapsed": false
   }
  },
  {
   "cell_type": "code",
   "execution_count": null,
   "outputs": [],
   "source": [
    "ret.params"
   ],
   "metadata": {
    "collapsed": false
   }
  },
  {
   "cell_type": "code",
   "execution_count": null,
   "outputs": [],
   "source": [
    "for name, param in ret.params.items():\n",
    "    print(name, param.value, param.stderr)"
   ],
   "metadata": {
    "collapsed": false
   }
  },
  {
   "cell_type": "code",
   "execution_count": null,
   "outputs": [],
   "source": [
    "for ipk in range(len(pkprms.peaks)):\n",
    "    ret = gauss_lmfit_singlet(pkprms, ipk)\n",
    "    # ret.params.pretty_print()"
   ],
   "metadata": {
    "collapsed": false
   }
  },
  {
   "cell_type": "code",
   "execution_count": null,
   "outputs": [],
   "source": [
    "ret"
   ],
   "metadata": {
    "collapsed": false
   }
  },
  {
   "cell_type": "code",
   "execution_count": null,
   "outputs": [],
   "source": [
    "xfgn sr hsrthf srth"
   ],
   "metadata": {
    "collapsed": false
   }
  },
  {
   "cell_type": "code",
   "execution_count": null,
   "outputs": [],
   "source": [],
   "metadata": {
    "collapsed": false
   }
  },
  {
   "cell_type": "code",
   "execution_count": null,
   "outputs": [],
   "source": [],
   "metadata": {
    "collapsed": false
   }
  },
  {
   "cell_type": "code",
   "execution_count": null,
   "outputs": [],
   "source": [],
   "metadata": {
    "collapsed": false
   }
  },
  {
   "cell_type": "code",
   "execution_count": null,
   "outputs": [],
   "source": [],
   "metadata": {
    "collapsed": false
   }
  },
  {
   "cell_type": "code",
   "execution_count": null,
   "outputs": [],
   "source": [
    "my_df.dtypes"
   ],
   "metadata": {
    "collapsed": false
   }
  },
  {
   "cell_type": "code",
   "execution_count": null,
   "outputs": [],
   "source": [
    "ch_en = ogra.a_spec.channel_energy_calib.p_en"
   ],
   "metadata": {
    "collapsed": false
   }
  },
  {
   "cell_type": "code",
   "execution_count": null,
   "outputs": [],
   "source": [
    "my_df['centrs_en'] = ch_en(my_df['centroids'])\n",
    "my_df"
   ],
   "metadata": {
    "collapsed": false
   }
  },
  {
   "cell_type": "code",
   "execution_count": null,
   "metadata": {},
   "outputs": [],
   "source": [
    "\n",
    "# 2022-Dez-21:\n",
    "# PAREI AQUI;\n",
    "# Usar os resultados de áreas dos picos e montar as curvas de eficiência\n",
    "\n",
    "# 2022-Mar-16\n",
    "# Fazendo ajuste polinomial nas eficiências:"
   ]
  },
  {
   "cell_type": "code",
   "execution_count": null,
   "metadata": {},
   "outputs": [],
   "source": [
    "from numpy.polynomial import Polynomial as P # 2020-09-06 Esta é a nova classe recomendada "
   ]
  },
  {
   "cell_type": "code",
   "execution_count": null,
   "metadata": {},
   "outputs": [],
   "source": [
    "En_CV_LoBg = np.array([81.00,\n",
    "86.54,\n",
    "121.78,\n",
    "133.51,\n",
    "302.85,\n",
    "344.28,\n",
    "356.02,\n",
    "604.69,\n",
    "661.66,\n",
    "795.84,\n",
    "964.13,\n",
    "1085.91,\n",
    "1112.12,\n",
    "1173.24,\n",
    "1332.50,\n",
    "1408.01\n",
    "])\n",
    "# En_CV_GMX"
   ]
  },
  {
   "cell_type": "code",
   "execution_count": null,
   "metadata": {},
   "outputs": [],
   "source": [
    "Eff_CV_LoBg = np.array([4.4358,\n",
    "4.4723,\n",
    "5.4386,\n",
    "5.5045,\n",
    "3.1379,\n",
    "2.8722,\n",
    "2.7305,\n",
    "1.7817,\n",
    "1.6453,\n",
    "1.4026,\n",
    "1.1216,\n",
    "1.0200,\n",
    "0.9703,\n",
    "0.8962,\n",
    "0.8009,\n",
    "0.7397 ])\n",
    "Eff_CV_GMX"
   ]
  },
  {
   "cell_type": "code",
   "execution_count": null,
   "metadata": {},
   "outputs": [],
   "source": [
    "unc_perc = np.array([2.01,\n",
    "1.43,\n",
    "1.33,\n",
    "2.11,\n",
    "1.81,\n",
    "1.42,\n",
    "1.41,\n",
    "2.24,\n",
    "1.44,\n",
    "3.68,\n",
    "1.66,\n",
    "1.71,\n",
    "1.58,\n",
    "0.87,\n",
    "0.87,\n",
    "1.51 ])\n",
    "unc_perc"
   ]
  },
  {
   "cell_type": "code",
   "execution_count": null,
   "metadata": {},
   "outputs": [],
   "source": [
    "ln_En_CV_LoBg = np.log (En_CV_LoBg)\n",
    "ln_Eff_CV_LoBg = np.log (Eff_CV_LoBg)"
   ]
  },
  {
   "cell_type": "code",
   "execution_count": null,
   "metadata": {},
   "outputs": [],
   "source": [
    "N = 16"
   ]
  },
  {
   "cell_type": "code",
   "execution_count": null,
   "metadata": {},
   "outputs": [],
   "source": []
  },
  {
   "cell_type": "code",
   "execution_count": null,
   "metadata": {},
   "outputs": [],
   "source": [
    "# 2022-Mar-23\n",
    "# Parêntese para fazer nova calibração canal-energia do HPGe do projeto:"
   ]
  },
  {
   "cell_type": "code",
   "execution_count": null,
   "metadata": {},
   "outputs": [],
   "source": [
    "canal = np.array([210, 920, 1181, 7232])\n",
    "ener = np.array([46.5, 186, 238.6, 1460.8])"
   ]
  },
  {
   "cell_type": "code",
   "execution_count": null,
   "metadata": {},
   "outputs": [],
   "source": [
    "projeto = P.fit(x=canal, y=ener, deg=1).convert()\n",
    "projeto"
   ]
  },
  {
   "cell_type": "code",
   "execution_count": null,
   "metadata": {},
   "outputs": [],
   "source": [
    "projeto_ener_canal = P.fit(x=ener, y=canal, deg=1).convert()\n",
    "projeto_ener_canal"
   ]
  },
  {
   "cell_type": "code",
   "execution_count": null,
   "metadata": {},
   "outputs": [],
   "source": [
    "projeto_ener_canal(1173.2)"
   ]
  },
  {
   "cell_type": "code",
   "execution_count": null,
   "metadata": {},
   "outputs": [],
   "source": [
    "projeto_ener_canal(1332.486)"
   ]
  },
  {
   "cell_type": "code",
   "execution_count": null,
   "metadata": {},
   "outputs": [],
   "source": []
  },
  {
   "cell_type": "code",
   "execution_count": null,
   "metadata": {},
   "outputs": [],
   "source": []
  },
  {
   "cell_type": "code",
   "execution_count": null,
   "metadata": {},
   "outputs": [],
   "source": []
  },
  {
   "cell_type": "code",
   "execution_count": null,
   "metadata": {},
   "outputs": [],
   "source": [
    "P.fit(x=ln_En_CV_LoBg, y=ln_Eff_CV_LoBg, deg=5).convert()"
   ]
  },
  {
   "cell_type": "code",
   "execution_count": null,
   "metadata": {},
   "outputs": [],
   "source": [
    "poly_w = P.fit(x=ln_En_CV_LoBg, y=ln_Eff_CV_LoBg, deg=5, w=1/unc_perc).convert()\n",
    "poly_w"
   ]
  },
  {
   "cell_type": "code",
   "execution_count": null,
   "metadata": {},
   "outputs": [],
   "source": [
    "poly_w = P.fit(x=ln_En_CV_LoBg, y=ln_Eff_CV_LoBg, deg=5, w=1/unc_perc**2).convert()\n",
    "poly_w"
   ]
  },
  {
   "cell_type": "code",
   "execution_count": null,
   "metadata": {},
   "outputs": [],
   "source": [
    "print(poly_w)"
   ]
  },
  {
   "cell_type": "code",
   "execution_count": null,
   "metadata": {},
   "outputs": [],
   "source": [
    "poly_o = P.fit(x=ln_En_CV_LoBg, y=Eff_CV_LoBg, deg=5)\n",
    "print(poly_o)"
   ]
  },
  {
   "cell_type": "code",
   "execution_count": null,
   "metadata": {},
   "outputs": [],
   "source": [
    "weights = np.linspace(1, 2, N)\n",
    "Xw = X * np.sqrt(weights)[:, None]\n",
    "yw = y * np.sqrt(weights)\n",
    "print (linalg.lstsq(Xw, yw)[0])"
   ]
  },
  {
   "cell_type": "code",
   "execution_count": null,
   "metadata": {},
   "outputs": [],
   "source": [
    "weights = 1.0 / unc_perc**2.0\n",
    "weights"
   ]
  },
  {
   "cell_type": "code",
   "execution_count": null,
   "metadata": {},
   "outputs": [],
   "source": [
    "Xw = ln_En_CV_LoBg * np.sqrt(weights)[:, None]\n",
    "yw = ln_Eff_CV_LoBg * np.sqrt(weights)\n",
    "print (linalg.lstsq(Xw, yw)[0])"
   ]
  },
  {
   "cell_type": "code",
   "execution_count": null,
   "metadata": {},
   "outputs": [],
   "source": [
    "print (linalg.lstsq(Xw, yw))"
   ]
  },
  {
   "cell_type": "code",
   "execution_count": null,
   "metadata": {},
   "outputs": [],
   "source": [
    "X = ln_En_CV_LoBg\n",
    "y = ln_Eff_CV_LoBg\n",
    "w1 = linalg.lstsq(X, y)\n",
    "print (w1)"
   ]
  },
  {
   "cell_type": "code",
   "execution_count": null,
   "metadata": {},
   "outputs": [],
   "source": [
    "np.log(2)"
   ]
  },
  {
   "cell_type": "code",
   "execution_count": null,
   "metadata": {},
   "outputs": [],
   "source": []
  },
  {
   "cell_type": "code",
   "execution_count": null,
   "metadata": {},
   "outputs": [],
   "source": [
    "# Figure 3\n",
    "figw3 = go.FigureWidget();\n",
    "figw3.add_trace(\n",
    "    go.Scatter(x=chans,\n",
    "               y=ys_net_counts,\n",
    "               name=\"Net counts\",\n",
    "               line=dict(color='green',width=0.5)));\n",
    "figw3.add_trace(\n",
    "    go.Scatter(x=peaks_net,\n",
    "               y=ys_net_counts[peaks_net],\n",
    "               mode=\"markers\",\n",
    "               name=\"net peaks\",\n",
    "               marker=dict(color='cyan',\n",
    "                           symbol='cross',\n",
    "                           size=15,\n",
    "                           opacity=0.7,\n",
    "                           line=dict(color='magenta', width=2.0)\n",
    "                          )\n",
    "              ));\n",
    "figw3.add_trace(\n",
    "    go.Scatter(x=peaks_1,\n",
    "               y=counts[peaks_1],\n",
    "               mode=\"markers\",\n",
    "               name=\"gross peaks\",\n",
    "               marker=dict(color='lightblue',\n",
    "                           symbol='cross',\n",
    "                           size=15,\n",
    "                           opacity=0.7,\n",
    "                           line=dict(color='green', width=2.0)\n",
    "                          )\n",
    "              ));\n",
    "# Set title and scale type\n",
    "figw3.update_layout(title_text=\"Gamma-ray net spectrum\")\n",
    "figw3.update_yaxes(type=\"log\");"
   ]
  },
  {
   "cell_type": "code",
   "execution_count": null,
   "metadata": {},
   "outputs": [],
   "source": [
    "figw3.write_html('figw3.html', auto_open=True)"
   ]
  },
  {
   "cell_type": "code",
   "execution_count": null,
   "metadata": {},
   "outputs": [],
   "source": [
    "# Essa será a 1b\n",
    "figw1 = go.FigureWidget();\n",
    "\n",
    "# Add Traces\n",
    "\n",
    "figw1.add_trace(\n",
    "    go.Scatter(x=chans_nzero,\n",
    "               y=counts_nzero,\n",
    "               error_y=dict(\n",
    "                   color='orange',width=3.0,\n",
    "                   type='data', # value of error bar given in data coordinates\n",
    "                   array=unc_y,\n",
    "                   visible=True),\n",
    "               name=\"Counts & uncertaintes\",\n",
    "               line=dict(color='orange',width=0.3)));\n",
    "\n",
    "figw1.add_trace(\n",
    "    go.Scatter(x=chans,\n",
    "               y=eval_y,\n",
    "               name=\"eval_y\",\n",
    "               line=dict(color='blue',width=0.5)));\n",
    "\n",
    "figw1.add_trace(\n",
    "    go.Scatter(x=peaks_1,\n",
    "               y=counts[peaks_1],\n",
    "               mode=\"markers\",\n",
    "               name=\"peaks\",\n",
    "               marker=dict(color='cyan',\n",
    "                           symbol='cross',\n",
    "                           size=20,\n",
    "                           opacity=0.5,\n",
    "                           line=dict(color='red', width=2.0)\n",
    "                          )\n",
    "              ));\n",
    "figw1.add_trace(\n",
    "    go.Scatter(x=peaks_net,\n",
    "               y=counts[peaks_net],\n",
    "               mode=\"markers\",\n",
    "               name=\"net peaks\",\n",
    "               marker=dict(color='red',\n",
    "                           symbol='circle',\n",
    "                           size=20,\n",
    "                           opacity=0.4,\n",
    "                           line=dict(color='green', width=2.0)\n",
    "                          )\n",
    "              ));\n",
    "\n",
    "figw4.add_trace(\n",
    "    go.Scatter(x=inis,\n",
    "               y=eval_y[inis],\n",
    "               mode=\"markers\",\n",
    "               name=\"inis\",\n",
    "               marker=dict(color='yellow',\n",
    "                           symbol='pentagon',\n",
    "                           size=10,\n",
    "                           opacity=1.0,\n",
    "                           line=dict(color='green', width=2.0)\n",
    "                          )\n",
    "              ));\n",
    "\n",
    "figw1.add_trace(\n",
    "    go.Scatter(x=fins,\n",
    "               y=eval_y[fins],\n",
    "               mode=\"markers\",\n",
    "               name=\"fins\",\n",
    "               marker=dict(color='cyan',\n",
    "                           symbol='star-triangle-down',\n",
    "                           size=10,\n",
    "                           opacity=1.0,\n",
    "                           line=dict(color='red', width=2.0)\n",
    "                          )\n",
    "              ));\n",
    "\n",
    "figw1.add_trace(\n",
    "    go.Scatter(x=xs_step_bline,\n",
    "               y=ys_step_bline,\n",
    "               name=\"Step baseline\",\n",
    "               line=dict(color='navy',width=0.4)));\n",
    "\n",
    "# Set title and scale type\n",
    "figw1.update_layout(title_text=\"Gamma-ray spectrum excerpt\")\n",
    "figw1.update_yaxes(type=\"log\");\n",
    "\n",
    "# Melhor não abrir inline, que seria simplesmente entrar com o nome do objeto:\n",
    "# figw2\n",
    "# Além de ficar com visualização incômoda, não funciona no JupyterLab; dá o erro:\n",
    "# Error displaying widget: model not found."
   ]
  },
  {
   "cell_type": "code",
   "execution_count": null,
   "metadata": {},
   "outputs": [],
   "source": [
    "figw4.write_html('figw4.html', auto_open=True)"
   ]
  },
  {
   "cell_type": "code",
   "execution_count": null,
   "outputs": [],
   "source": [
    "# 2022-Dez-28\n",
    "# Cópia do programa principal com interface, ograyspy_main_ui.py,\n",
    "# para testes com Pandas"
   ],
   "metadata": {
    "collapsed": false
   }
  },
  {
   "cell_type": "code",
   "execution_count": null,
   "outputs": [],
   "source": [
    "import sys\n",
    "from PyQt5.QtCore import *\n",
    "from PyQt5.QtGui import *\n",
    "from PyQt5.QtWebEngineWidgets import QWebEngineView\n",
    "from PyQt5.QtWidgets import *\n",
    "from css_test import css_test, apply_css\n",
    "\n",
    "from ograyspy_class import Ograyspy\n",
    "# from html_window_class import SimpleHtmlViewer\n",
    "\n",
    "class MainWindow(QMainWindow):\n",
    "    count = 0\n",
    "\n",
    "    def __init__(self, parent=None):\n",
    "        super(MainWindow, self).__init__(parent)\n",
    "        self.mdi = QMdiArea()\n",
    "\n",
    "        self.mdi.setHorizontalScrollBarPolicy(Qt.ScrollBarAsNeeded)\n",
    "        self.mdi.setVerticalScrollBarPolicy(Qt.ScrollBarAsNeeded)\n",
    "        self.setCentralWidget(self.mdi)\n",
    "\n",
    "        # self.mdi.subWindowActivated.connect(self.updateMenus)\n",
    "        self.windowMapper = QSignalMapper(self)\n",
    "        # self.windowMapper.mapped[QWidget].connect(self.setActiveSubWindow)\n",
    "\n",
    "        self.setCentralWidget(self.mdi)\n",
    "        bar = self.menuBar()\n",
    "\n",
    "        file = bar.addMenu(\"File\")\n",
    "        file.addAction(\"New\")\n",
    "        file.addAction(\"Open\")\n",
    "        file.addAction(\"Pandas-generate an_html_file.html\")\n",
    "        file.addAction(\"Show spectrum graphic\")\n",
    "        file.addAction(\"Show Pandas dataframe\")\n",
    "        file.addAction(\"cascade\")\n",
    "        file.addAction(\"Tiled\")\n",
    "        file.addAction(\"Exit\")\n",
    "        file.triggered[QAction].connect(self.windowaction)\n",
    "        self.setWindowTitle(\"MDI demo\")\n",
    "\n",
    "    def windowaction(self, q):\n",
    "        print(\"triggered\")\n",
    "\n",
    "        if q.text() == \"New\":\n",
    "            MainWindow.count = MainWindow.count + 1\n",
    "            sub = QMdiSubWindow()\n",
    "            sub.setWidget(QTextEdit())\n",
    "            sub.setWindowTitle(\"subwindow\" + str(MainWindow.count))\n",
    "            self.mdi.addSubWindow(sub)\n",
    "            sub.show()\n",
    "\n",
    "        if q.text() == \"Open\":\n",
    "            fileName, _ = QFileDialog.getOpenFileName(self)\n",
    "            if fileName:\n",
    "                # This is a hack...\n",
    "                # existing = self.findMdiChild(fileName)\n",
    "                existing = True\n",
    "                if existing:\n",
    "                    MainWindow.count = MainWindow.count + 1\n",
    "                    sub = QMdiSubWindow()\n",
    "                    sub.setWidget(QTextEdit())\n",
    "                    # sub.setWindowTitle(\"subwindow\" + str(MainWindow.count))\n",
    "                    sub.setWindowTitle(fileName)\n",
    "                    self.mdi.addSubWindow(sub)\n",
    "                    sub.show()\n",
    "\n",
    "        if q.text() == \"Pandas-generate an_html_file.html\":\n",
    "            fileName, _ = QFileDialog.getOpenFileName(self)\n",
    "            if fileName:\n",
    "                # This is a hack...\n",
    "                # existing = self.findMdiChild(fileName)\n",
    "                existing = True\n",
    "                if existing:\n",
    "                    ogra = Ograyspy(batch_mode=False)\n",
    "                    # to_be_found = 'Genie_Transfer'\n",
    "                    # print('\\nogra.define_files_folder(to_be_found)')\n",
    "                    # ogra.define_files_folder(to_be_found)\n",
    "                    ogra.a_spec_name = fileName\n",
    "                    # AQUI: ativar gener_dataframe qdo estiver pronto.\n",
    "                    ogra.perform_total_analysis(peak_sd_fact=3.0, gener_dataframe=True)\n",
    "                    ogra.a_spec.spec_pks_df.to_html(buf='an_html_file.html')\n",
    "                    # print(ogra.a_spec.spec_pks_df)\n",
    "\n",
    "                    MainWindow.count = MainWindow.count + 1\n",
    "                    sub = QMdiSubWindow()\n",
    "                    web = QWebEngineView()\n",
    "                    # web.load(QUrl(\"file:///C:/Users/mmaduar/PycharmProjects/OGRaySpY/src/my_file.html\"))\n",
    "                    apply_css(ogra.a_spec.spec_pks_df)\n",
    "                    web.load(QUrl(\"file:///C:/Users/mmaduar/PycharmProjects/OGRaySpY/src/an_html_file.html\"))\n",
    "                    # 2022-Dez-27 PAREI AQUI:\n",
    "                    # - passar a saída de to_html como string?\n",
    "                    # - O html pode ser renderizado com sucesso, inclusive com css\n",
    "                    # - porém, parece que o SEI não aceita css. Paciência.\n",
    "\n",
    "                    # web.load(ogra.dataframe_html_string)\n",
    "                    # css_test()\n",
    "                    sub.setWidget(web)\n",
    "                    sub.setWindowTitle(\"subwindow\" + str(MainWindow.count))\n",
    "                    self.mdi.addSubWindow(sub)\n",
    "                    sub.show()\n",
    "\n",
    "        if q.text() == \"Show spectrum graphic\":\n",
    "            MainWindow.count = MainWindow.count + 1\n",
    "            sub = QMdiSubWindow()\n",
    "            web = QWebEngineView()\n",
    "            web.load(QUrl(\"file:///C:/Users/mmaduar/PycharmProjects/OGRaySpY/src/gross_counts_graph.html\"))\n",
    "            sub.setWidget(web)\n",
    "            sub.setWindowTitle(\"subwindow\" + str(MainWindow.count))\n",
    "            self.mdi.addSubWindow(sub)\n",
    "            sub.show()\n",
    "\n",
    "        if q.text() == \"Show Pandas dataframe\":\n",
    "            MainWindow.count = MainWindow.count + 1\n",
    "            sub = QMdiSubWindow()\n",
    "            web = QWebEngineView()\n",
    "            web.load(QUrl(\"file:///C:/Users/mmaduar/PycharmProjects/OGRaySpY/src/my_file.html\"))\n",
    "            # 2022-Dez-23 PAREI AQUI - passar a saída de to_html como string\n",
    "            # web.load(ogra.dataframe_html_string)\n",
    "            css_test()\n",
    "            sub.setWidget(web)\n",
    "            sub.setWindowTitle(\"subwindow\" + str(MainWindow.count))\n",
    "            self.mdi.addSubWindow(sub)\n",
    "            sub.show()\n",
    "\n",
    "        if q.text() == \"cascade\":\n",
    "            self.mdi.cascadeSubWindows()\n",
    "\n",
    "        if q.text() == \"Tiled\":\n",
    "            self.mdi.tileSubWindows()\n",
    "\n",
    "        if q.text() == \"Exit\":\n",
    "            QApplication.instance().exit()\n",
    "\n",
    "    def findMdiChild(self, fileName):\n",
    "        canonicalFilePath = QFileInfo(fileName).canonicalFilePath()\n",
    "\n",
    "        for window in self.mdiArea.subWindowList():\n",
    "            if window.widget().currentFile() == canonicalFilePath:\n",
    "                return window\n",
    "        return None\n",
    "\n",
    "\n",
    "def main():\n",
    "    app = QApplication(sys.argv)\n",
    "    ex = MainWindow()\n",
    "    ex.show()\n",
    "    sys.exit(app.exec_())\n",
    "\n",
    "\n",
    "if __name__ == '__main__':\n",
    "    main()\n"
   ],
   "metadata": {
    "collapsed": false
   }
  },
  {
   "cell_type": "code",
   "execution_count": null,
   "outputs": [],
   "source": [
    "dir()"
   ],
   "metadata": {
    "collapsed": false
   }
  },
  {
   "cell_type": "code",
   "execution_count": null,
   "outputs": [],
   "source": [],
   "metadata": {
    "collapsed": false
   }
  }
 ],
 "metadata": {
  "kernelspec": {
   "display_name": "Python 3",
   "language": "python",
   "name": "python3"
  },
  "language_info": {
   "codemirror_mode": {
    "name": "ipython",
    "version": 3
   },
   "file_extension": ".py",
   "mimetype": "text/x-python",
   "name": "python",
   "nbconvert_exporter": "python",
   "pygments_lexer": "ipython3",
   "version": "3.7.3"
  }
 },
 "nbformat": 4,
 "nbformat_minor": 5
}
