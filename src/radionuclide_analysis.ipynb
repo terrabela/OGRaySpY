{
 "cells": [
  {
   "cell_type": "code",
   "execution_count": 1,
   "outputs": [],
   "source": [
    "# 2022-Dez-28\n",
    "# Jupyter notebook for tests with OGRaySpY modules"
   ],
   "metadata": {
    "collapsed": false
   }
  },
  {
   "cell_type": "code",
   "execution_count": 1,
   "outputs": [],
   "source": [],
   "metadata": {
    "collapsed": false
   }
  },
  {
   "cell_type": "code",
   "execution_count": 2,
   "outputs": [],
   "source": [
    "import numpy as np\n",
    "from numpy.random import default_rng\n",
    "from scipy import special\n",
    "import matplotlib.pyplot as plt\n",
    "import pandas as pd\n",
    "import plotly.graph_objects as go\n",
    "\n",
    "from spec_class import Spec"
   ],
   "metadata": {
    "collapsed": false
   }
  },
  {
   "cell_type": "code",
   "execution_count": 3,
   "metadata": {},
   "outputs": [],
   "source": [
    "# https://lmfit.github.io/lmfit-py/builtin_models.html\n",
    "from lmfit import Model, minimize, Parameters, report_fit, fit_report, printfuncs\n",
    "from lmfit.models import LinearModel, StepModel, ExponentialModel, LorentzianModel\n",
    "from lmfit.models import GaussianModel, SkewedGaussianModel, ExpressionModel"
   ]
  },
  {
   "cell_type": "code",
   "execution_count": 4,
   "metadata": {},
   "outputs": [],
   "source": [
    "from ograyspy_class import Ograyspy"
   ]
  },
  {
   "cell_type": "code",
   "execution_count": 5,
   "metadata": {},
   "outputs": [
    {
     "name": "stdout",
     "output_type": "stream",
     "text": [
      "Objeto ogra: Ograyspy criado.\n",
      "ogra.info_plat: Linux-5.19.0-35-generic-x86_64-with-glibc2.36\n",
      "ogra.info_mach: x86_64\n",
      "ogra.info_syst: Linux\n",
      "ogra.info_node: marcelofm-X540LA\n",
      "ogra.home_path: /home/marcelofm\n"
     ]
    }
   ],
   "source": [
    "ogra = Ograyspy(batch_mode=False)\n",
    "print('Objeto ogra: Ograyspy criado.')\n",
    "print(f'ogra.info_plat: {ogra.info_plat}')\n",
    "print(f'ogra.info_mach: {ogra.info_mach}')\n",
    "print(f'ogra.info_syst: {ogra.info_syst}')\n",
    "print(f'ogra.info_node: {ogra.info_node}')\n",
    "print(f'ogra.home_path: {ogra.home_path}')"
   ]
  },
  {
   "cell_type": "code",
   "execution_count": 6,
   "metadata": {},
   "outputs": [],
   "source": [
    "# f_name = '../../Genie_Transfer/Si/SI2019/SI04119.Chn'\n",
    "# f_name = '../gamma/spectra/ALMERA-2016/alm_samp5_sedim_16.IEC'"
   ]
  },
  {
   "cell_type": "code",
   "execution_count": 7,
   "metadata": {},
   "outputs": [
    {
     "name": "stdout",
     "output_type": "stream",
     "text": [
      "\n",
      "ogra.define_files_folder(to_be_found)\n",
      "Found folder name:  /home/marcelofm/Nextcloud/Genie_Transfer\n",
      "Partes:  ('/', 'home', 'marcelofm', 'Nextcloud', 'Genie_Transfer')\n",
      "No. spec files:  6868\n"
     ]
    }
   ],
   "source": [
    "to_be_found = 'Genie_Transfer'\n",
    "# to_be_found = 'some_spectra'\n",
    "print('\\nogra.define_files_folder(to_be_found)')\n",
    "ogra.define_files_folder(to_be_found)"
   ]
  },
  {
   "cell_type": "code",
   "execution_count": 8,
   "outputs": [],
   "source": [
    "# a spectrum pattern to find and test:"
   ],
   "metadata": {
    "collapsed": false
   }
  },
  {
   "cell_type": "code",
   "execution_count": 9,
   "metadata": {},
   "outputs": [],
   "source": [
    "# 2022\n",
    "# Se quiser ignorar o espectro aleatório, definir aqui um específico. Se não, pular.\n",
    "# Vou ignorar o espectro já analisado e refazer a análise, para testes.\n",
    "# 2022-Mar-24 Resolver essa questão dos nomes de arquivos em Linux e Windows\n",
    "# a_spec_name = '..\\\\..\\\\Genie_Transfer\\\\Si\\\\2018\\\\PNR\\\\PRN0803.Chn'\n",
    "# a_spec_name = '../../Genie_Transfer/Si/2018/PNR/PRN0803.Chn'\n",
    "# a_spec_name = '../../Genie_Transfer/Si/2018/CTP/CTP0908-2.Chn'\n",
    "# Esse é um que dá problema na baseline perto do 159 keV do I-123:\n",
    "# a_spec_name = '../../Genie_Transfer/Si/2018/CCI/CCI1508I.Chn'\n",
    "# Precisa quebrar mais a baseline: Ok, consertado!!!\n",
    "# 2022: Já usando o GMX:\n",
    "# a_spec_name = '../../Genie_Transfer/Filtros/2022/Cci/CCI1603-I.Chn'\n",
    "\n"
   ]
  },
  {
   "cell_type": "code",
   "execution_count": 10,
   "metadata": {},
   "outputs": [],
   "source": [
    "\n",
    "# 2022-out-7: Excelente espectro para testes, tenho usado ultimamente:\n",
    "# a_pattern = 'Si/SI2018/SI11318.Chn'\n",
    "# 2022-nov-16: outros espectros:\n",
    "# a_pattern = \"Filtros/2022/Cci/CCI1603-I.Chn\"\n",
    "# a_pattern = \"Filtros/2022/Cci/CCI2302-I.Chn\"\n",
    "\n",
    "# a_pattern = \"Eso_non_existe.Chn\"\n",
    "\n",
    "# 2022-Dez-21 Buscando outro espectro\n",
    "# a_pattern = 'CCI1603-I'\n",
    "# 2022-Dez-28 Este é um espectro mais recente:\n",
    "# a_pattern = 'SI09722.Chn'\n",
    "\n",
    "# 2022-Dez-28 Este é um espectro mais recente que posso comparar com saída do Genie:\n",
    "a_pattern = 'SI06322.Chn'\n",
    "# 2023-Mar-14 Para usar um espectro iec, pode ser este:\n",
    "# a_pattern = 'Sample Code 02B'"
   ]
  },
  {
   "cell_type": "code",
   "execution_count": 11,
   "outputs": [
    {
     "name": "stdout",
     "output_type": "stream",
     "text": [
      "\n",
      "\n",
      "ogra.select_spectrum(SI06322.Chn)\n",
      "Existing:\n",
      "Achou! indice=1351, nomearq = Si/SI2022/SI06322.Chn\n",
      "==========================\n",
      "Final choices:\n",
      "spectra_path: /home/marcelofm/Nextcloud/Genie_Transfer\n",
      "a_spec_name: /home/marcelofm/Nextcloud/Genie_Transfer/Si/SI2022/SI06322.Chn\n",
      "reduced_f_name: Si/SI2022/SI06322.Chn\n",
      "A spec name: /home/marcelofm/Nextcloud/Genie_Transfer/Si/SI2022/SI06322.Chn\n",
      "Reduced file name: Si/SI2022/SI06322.Chn\n",
      "Starting Ograyspy.perform_total_analysis...\n",
      "Starting Spec.total_analysis...\n",
      "Finish Spec.total_analysis!\n",
      "Finished Ograyspy.perform_total_analysis!\n"
     ]
    }
   ],
   "source": [
    "\n",
    "\n",
    "print(f'\\n\\nogra.select_spectrum({a_pattern})')\n",
    "ogra.select_spectrum(a_pattern)\n",
    "print(f'A spec name: {ogra.a_spec_name}')\n",
    "print(f'Reduced file name: {ogra.reduced_f_name}')\n",
    "\n",
    "# AQUI: ativar gener_dataframe qdo estiver pronto.\n",
    "ogra.perform_total_analysis(peak_sd_fact=3.0, gener_dataframe=True)\n",
    "# print(ogra.a_spec.spec_pks_df)"
   ],
   "metadata": {
    "collapsed": false
   }
  },
  {
   "cell_type": "code",
   "execution_count": 12,
   "outputs": [],
   "source": [
    "# 2023-Mar-14\n",
    "# Padronizando a gravação e leitura de arquivos iec e chn em formato pkl para leitura pelo Pandas.\n",
    "# Neste ipynb, serão usados pkl com dois conteúdos distintos:\n",
    "# - dodos de um espectro determinado, eventualmente analisado (ex.: SI06322.pkl\n",
    "# - dados para identificação de um conjunto de espectros, tipicamente contidos num diretório único e respetivos\n",
    "#   subdiretórios."
   ],
   "metadata": {
    "collapsed": false
   }
  },
  {
   "cell_type": "code",
   "execution_count": 13,
   "outputs": [
    {
     "data": {
      "text/plain": "{'net_spec_ser_an': <generic_series_analysis_class.GenericSeriesAnalysis at 0x7fc9fc63a590>,\n 'final_composed_baseline': <generic_series_analysis_class.GenericSeriesAnalysis at 0x7fc9fc63a740>,\n 'f_name': PosixPath('/home/marcelofm/Nextcloud/Genie_Transfer/Si/SI2022/SI06322.Chn'),\n 'reduced_f_name': 'Si/SI2022/SI06322.Chn',\n 'sufx': '.chn',\n 'spec_io': None,\n 'lv_time': 50000.0,\n 'rl_time': 50028.58,\n 'source_datetime': None,\n 'pkl_file': PosixPath('/home/marcelofm/Nextcloud/Genie_Transfer/Si/SI2022/SI06322.pkl'),\n 'gross_spec_ser_an': <generic_series_analysis_class.GenericSeriesAnalysis at 0x7fc9fca207f0>,\n 'origin_spec_ser_an': <generic_series_analysis_class.GenericSeriesAnalysis at 0x7fca1c061f90>,\n 'start_datetime': datetime.datetime(2022, 8, 4, 19, 42, 23),\n 'det_descr': 'MAQUINA_01 MCB 1 Input 1',\n 'sam_descr': 'SI-063/22 - Agua da Piscina do Reator IEA-R1 (GMX)',\n 'channel_energy_calib': <genericcalib_class.ChannelEnergyCalib at 0x7fca41813a90>,\n 'spec_pks_df': Empty DataFrame\n Columns: []\n Index: []}"
     },
     "execution_count": 13,
     "metadata": {},
     "output_type": "execute_result"
    }
   ],
   "source": [
    "vars(ogra.a_spec)"
   ],
   "metadata": {
    "collapsed": false
   }
  },
  {
   "cell_type": "code",
   "execution_count": 14,
   "outputs": [
    {
     "data": {
      "text/plain": "                                     net_spec_ser_an  \\\n0  <generic_series_analysis_class.GenericSeriesAn...   \n\n                             final_composed_baseline  \\\n0  <generic_series_analysis_class.GenericSeriesAn...   \n\n                                              f_name         reduced_f_name  \\\n0  /home/marcelofm/Nextcloud/Genie_Transfer/Si/SI...  Si/SI2022/SI06322.Chn   \n\n   sufx spec_io  lv_time   rl_time source_datetime  \\\n0  .chn    None  50000.0  50028.58            None   \n\n                                            pkl_file  \\\n0  /home/marcelofm/Nextcloud/Genie_Transfer/Si/SI...   \n\n                                   gross_spec_ser_an  \\\n0  <generic_series_analysis_class.GenericSeriesAn...   \n\n                                  origin_spec_ser_an      start_datetime  \\\n0  <generic_series_analysis_class.GenericSeriesAn... 2022-08-04 19:42:23   \n\n                  det_descr  \\\n0  MAQUINA_01 MCB 1 Input 1   \n\n                                           sam_descr  \\\n0  SI-063/22 - Agua da Piscina do Reator IEA-R1 (...   \n\n                                channel_energy_calib  \\\n0  <genericcalib_class.ChannelEnergyCalib object ...   \n\n                             spec_pks_df  \n0  Empty DataFrame\nColumns: []\nIndex: []  ",
      "text/html": "<div>\n<style scoped>\n    .dataframe tbody tr th:only-of-type {\n        vertical-align: middle;\n    }\n\n    .dataframe tbody tr th {\n        vertical-align: top;\n    }\n\n    .dataframe thead th {\n        text-align: right;\n    }\n</style>\n<table border=\"1\" class=\"dataframe\">\n  <thead>\n    <tr style=\"text-align: right;\">\n      <th></th>\n      <th>net_spec_ser_an</th>\n      <th>final_composed_baseline</th>\n      <th>f_name</th>\n      <th>reduced_f_name</th>\n      <th>sufx</th>\n      <th>spec_io</th>\n      <th>lv_time</th>\n      <th>rl_time</th>\n      <th>source_datetime</th>\n      <th>pkl_file</th>\n      <th>gross_spec_ser_an</th>\n      <th>origin_spec_ser_an</th>\n      <th>start_datetime</th>\n      <th>det_descr</th>\n      <th>sam_descr</th>\n      <th>channel_energy_calib</th>\n      <th>spec_pks_df</th>\n    </tr>\n  </thead>\n  <tbody>\n    <tr>\n      <th>0</th>\n      <td>&lt;generic_series_analysis_class.GenericSeriesAn...</td>\n      <td>&lt;generic_series_analysis_class.GenericSeriesAn...</td>\n      <td>/home/marcelofm/Nextcloud/Genie_Transfer/Si/SI...</td>\n      <td>Si/SI2022/SI06322.Chn</td>\n      <td>.chn</td>\n      <td>None</td>\n      <td>50000.0</td>\n      <td>50028.58</td>\n      <td>None</td>\n      <td>/home/marcelofm/Nextcloud/Genie_Transfer/Si/SI...</td>\n      <td>&lt;generic_series_analysis_class.GenericSeriesAn...</td>\n      <td>&lt;generic_series_analysis_class.GenericSeriesAn...</td>\n      <td>2022-08-04 19:42:23</td>\n      <td>MAQUINA_01 MCB 1 Input 1</td>\n      <td>SI-063/22 - Agua da Piscina do Reator IEA-R1 (...</td>\n      <td>&lt;genericcalib_class.ChannelEnergyCalib object ...</td>\n      <td>Empty DataFrame\nColumns: []\nIndex: []</td>\n    </tr>\n  </tbody>\n</table>\n</div>"
     },
     "execution_count": 14,
     "metadata": {},
     "output_type": "execute_result"
    }
   ],
   "source": [
    "unpickled_spec = pd.read_pickle(ogra.a_spec.pkl_file)\n",
    "unpickled_spec"
   ],
   "metadata": {
    "collapsed": false
   }
  },
  {
   "cell_type": "code",
   "execution_count": 15,
   "outputs": [],
   "source": [
    "# 2023-Mar-15 Compare as formas diferentes como os registros ficam no objeto original\n",
    "# com o dataframe unpickled:"
   ],
   "metadata": {
    "collapsed": false
   }
  },
  {
   "cell_type": "code",
   "execution_count": 16,
   "outputs": [
    {
     "data": {
      "text/plain": "{'calib_kind': 'channel energy',\n 'p_en': Polynomial([-1.99049842,  0.61104035,  0.        ], domain=[-1,  1], window=[-1,  1]),\n 'coeffs_ch_en': array([ 0.        ,  0.61104035, -1.99049842]),\n 'en_ch_calib': array([], dtype=float64),\n 'chan_calib': array([], dtype=float64)}"
     },
     "execution_count": 16,
     "metadata": {},
     "output_type": "execute_result"
    }
   ],
   "source": [
    "vars(ogra.a_spec.channel_energy_calib)"
   ],
   "metadata": {
    "collapsed": false
   }
  },
  {
   "cell_type": "code",
   "execution_count": 17,
   "outputs": [
    {
     "data": {
      "text/plain": "275.1163020133972"
     },
     "execution_count": 17,
     "metadata": {},
     "output_type": "execute_result"
    }
   ],
   "source": [
    "ogra.a_spec.channel_energy_calib.p_en(453.5)"
   ],
   "metadata": {
    "collapsed": false
   }
  },
  {
   "cell_type": "code",
   "execution_count": 18,
   "outputs": [
    {
     "data": {
      "text/plain": "Series([], dtype: object)"
     },
     "execution_count": 18,
     "metadata": {},
     "output_type": "execute_result"
    }
   ],
   "source": [
    "ogra.a_spec.spec_pks_df.dtypes"
   ],
   "metadata": {
    "collapsed": false
   }
  },
  {
   "cell_type": "code",
   "execution_count": 19,
   "outputs": [],
   "source": [
    "# O objeto unpickled:"
   ],
   "metadata": {
    "collapsed": false
   }
  },
  {
   "cell_type": "code",
   "execution_count": 20,
   "outputs": [
    {
     "data": {
      "text/plain": "{'calib_kind': 'channel energy',\n 'p_en': Polynomial([-1.99049842,  0.61104035,  0.        ], domain=[-1,  1], window=[-1,  1]),\n 'coeffs_ch_en': array([ 0.        ,  0.61104035, -1.99049842]),\n 'en_ch_calib': array([], dtype=float64),\n 'chan_calib': array([], dtype=float64)}"
     },
     "execution_count": 20,
     "metadata": {},
     "output_type": "execute_result"
    }
   ],
   "source": [
    "vars(unpickled_spec['channel_energy_calib'][0])"
   ],
   "metadata": {
    "collapsed": false
   }
  },
  {
   "cell_type": "code",
   "execution_count": 21,
   "outputs": [
    {
     "data": {
      "text/plain": "275.1163020133972"
     },
     "execution_count": 21,
     "metadata": {},
     "output_type": "execute_result"
    }
   ],
   "source": [
    "unpickled_spec['channel_energy_calib'][0].p_en(453.5)"
   ],
   "metadata": {
    "collapsed": false
   }
  },
  {
   "cell_type": "code",
   "execution_count": 22,
   "outputs": [],
   "source": [
    "# Os parâmetros dos picos estão aqui:\n",
    "pkprms = unpickled_spec['net_spec_ser_an'][0].pk_parms\n",
    "pkprms_vars = vars(pkprms)"
   ],
   "metadata": {
    "collapsed": false
   }
  },
  {
   "cell_type": "code",
   "execution_count": 23,
   "outputs": [
    {
     "ename": "ValueError",
     "evalue": "Per-column arrays must each be 1-dimensional",
     "output_type": "error",
     "traceback": [
      "\u001B[0;31m---------------------------------------------------------------------------\u001B[0m",
      "\u001B[0;31mValueError\u001B[0m                                Traceback (most recent call last)",
      "Cell \u001B[0;32mIn [23], line 1\u001B[0m\n\u001B[0;32m----> 1\u001B[0m pkprms_df_2 \u001B[38;5;241m=\u001B[39m \u001B[43mpd\u001B[49m\u001B[38;5;241;43m.\u001B[39;49m\u001B[43mDataFrame\u001B[49m\u001B[38;5;241;43m.\u001B[39;49m\u001B[43mfrom_dict\u001B[49m\u001B[43m(\u001B[49m\u001B[43mpkprms_vars\u001B[49m\u001B[43m)\u001B[49m\n",
      "File \u001B[0;32m~/ogrsp_in_github/venv/lib/python3.10/site-packages/pandas/core/frame.py:1763\u001B[0m, in \u001B[0;36mDataFrame.from_dict\u001B[0;34m(cls, data, orient, dtype, columns)\u001B[0m\n\u001B[1;32m   1757\u001B[0m     \u001B[38;5;28;01mraise\u001B[39;00m \u001B[38;5;167;01mValueError\u001B[39;00m(\n\u001B[1;32m   1758\u001B[0m         \u001B[38;5;124mf\u001B[39m\u001B[38;5;124m\"\u001B[39m\u001B[38;5;124mExpected \u001B[39m\u001B[38;5;124m'\u001B[39m\u001B[38;5;124mindex\u001B[39m\u001B[38;5;124m'\u001B[39m\u001B[38;5;124m, \u001B[39m\u001B[38;5;124m'\u001B[39m\u001B[38;5;124mcolumns\u001B[39m\u001B[38;5;124m'\u001B[39m\u001B[38;5;124m or \u001B[39m\u001B[38;5;124m'\u001B[39m\u001B[38;5;124mtight\u001B[39m\u001B[38;5;124m'\u001B[39m\u001B[38;5;124m for orient parameter. \u001B[39m\u001B[38;5;124m\"\u001B[39m\n\u001B[1;32m   1759\u001B[0m         \u001B[38;5;124mf\u001B[39m\u001B[38;5;124m\"\u001B[39m\u001B[38;5;124mGot \u001B[39m\u001B[38;5;124m'\u001B[39m\u001B[38;5;132;01m{\u001B[39;00morient\u001B[38;5;132;01m}\u001B[39;00m\u001B[38;5;124m'\u001B[39m\u001B[38;5;124m instead\u001B[39m\u001B[38;5;124m\"\u001B[39m\n\u001B[1;32m   1760\u001B[0m     )\n\u001B[1;32m   1762\u001B[0m \u001B[38;5;28;01mif\u001B[39;00m orient \u001B[38;5;241m!=\u001B[39m \u001B[38;5;124m\"\u001B[39m\u001B[38;5;124mtight\u001B[39m\u001B[38;5;124m\"\u001B[39m:\n\u001B[0;32m-> 1763\u001B[0m     \u001B[38;5;28;01mreturn\u001B[39;00m \u001B[38;5;28;43mcls\u001B[39;49m\u001B[43m(\u001B[49m\u001B[43mdata\u001B[49m\u001B[43m,\u001B[49m\u001B[43m \u001B[49m\u001B[43mindex\u001B[49m\u001B[38;5;241;43m=\u001B[39;49m\u001B[43mindex\u001B[49m\u001B[43m,\u001B[49m\u001B[43m \u001B[49m\u001B[43mcolumns\u001B[49m\u001B[38;5;241;43m=\u001B[39;49m\u001B[43mcolumns\u001B[49m\u001B[43m,\u001B[49m\u001B[43m \u001B[49m\u001B[43mdtype\u001B[49m\u001B[38;5;241;43m=\u001B[39;49m\u001B[43mdtype\u001B[49m\u001B[43m)\u001B[49m\n\u001B[1;32m   1764\u001B[0m \u001B[38;5;28;01melse\u001B[39;00m:\n\u001B[1;32m   1765\u001B[0m     realdata \u001B[38;5;241m=\u001B[39m data[\u001B[38;5;124m\"\u001B[39m\u001B[38;5;124mdata\u001B[39m\u001B[38;5;124m\"\u001B[39m]\n",
      "File \u001B[0;32m~/ogrsp_in_github/venv/lib/python3.10/site-packages/pandas/core/frame.py:663\u001B[0m, in \u001B[0;36mDataFrame.__init__\u001B[0;34m(self, data, index, columns, dtype, copy)\u001B[0m\n\u001B[1;32m    657\u001B[0m     mgr \u001B[38;5;241m=\u001B[39m \u001B[38;5;28mself\u001B[39m\u001B[38;5;241m.\u001B[39m_init_mgr(\n\u001B[1;32m    658\u001B[0m         data, axes\u001B[38;5;241m=\u001B[39m{\u001B[38;5;124m\"\u001B[39m\u001B[38;5;124mindex\u001B[39m\u001B[38;5;124m\"\u001B[39m: index, \u001B[38;5;124m\"\u001B[39m\u001B[38;5;124mcolumns\u001B[39m\u001B[38;5;124m\"\u001B[39m: columns}, dtype\u001B[38;5;241m=\u001B[39mdtype, copy\u001B[38;5;241m=\u001B[39mcopy\n\u001B[1;32m    659\u001B[0m     )\n\u001B[1;32m    661\u001B[0m \u001B[38;5;28;01melif\u001B[39;00m \u001B[38;5;28misinstance\u001B[39m(data, \u001B[38;5;28mdict\u001B[39m):\n\u001B[1;32m    662\u001B[0m     \u001B[38;5;66;03m# GH#38939 de facto copy defaults to False only in non-dict cases\u001B[39;00m\n\u001B[0;32m--> 663\u001B[0m     mgr \u001B[38;5;241m=\u001B[39m \u001B[43mdict_to_mgr\u001B[49m\u001B[43m(\u001B[49m\u001B[43mdata\u001B[49m\u001B[43m,\u001B[49m\u001B[43m \u001B[49m\u001B[43mindex\u001B[49m\u001B[43m,\u001B[49m\u001B[43m \u001B[49m\u001B[43mcolumns\u001B[49m\u001B[43m,\u001B[49m\u001B[43m \u001B[49m\u001B[43mdtype\u001B[49m\u001B[38;5;241;43m=\u001B[39;49m\u001B[43mdtype\u001B[49m\u001B[43m,\u001B[49m\u001B[43m \u001B[49m\u001B[43mcopy\u001B[49m\u001B[38;5;241;43m=\u001B[39;49m\u001B[43mcopy\u001B[49m\u001B[43m,\u001B[49m\u001B[43m \u001B[49m\u001B[43mtyp\u001B[49m\u001B[38;5;241;43m=\u001B[39;49m\u001B[43mmanager\u001B[49m\u001B[43m)\u001B[49m\n\u001B[1;32m    664\u001B[0m \u001B[38;5;28;01melif\u001B[39;00m \u001B[38;5;28misinstance\u001B[39m(data, ma\u001B[38;5;241m.\u001B[39mMaskedArray):\n\u001B[1;32m    665\u001B[0m     \u001B[38;5;28;01mimport\u001B[39;00m \u001B[38;5;21;01mnumpy\u001B[39;00m\u001B[38;5;21;01m.\u001B[39;00m\u001B[38;5;21;01mma\u001B[39;00m\u001B[38;5;21;01m.\u001B[39;00m\u001B[38;5;21;01mmrecords\u001B[39;00m \u001B[38;5;28;01mas\u001B[39;00m \u001B[38;5;21;01mmrecords\u001B[39;00m\n",
      "File \u001B[0;32m~/ogrsp_in_github/venv/lib/python3.10/site-packages/pandas/core/internals/construction.py:493\u001B[0m, in \u001B[0;36mdict_to_mgr\u001B[0;34m(data, index, columns, dtype, typ, copy)\u001B[0m\n\u001B[1;32m    489\u001B[0m     \u001B[38;5;28;01melse\u001B[39;00m:\n\u001B[1;32m    490\u001B[0m         \u001B[38;5;66;03m# dtype check to exclude e.g. range objects, scalars\u001B[39;00m\n\u001B[1;32m    491\u001B[0m         arrays \u001B[38;5;241m=\u001B[39m [x\u001B[38;5;241m.\u001B[39mcopy() \u001B[38;5;28;01mif\u001B[39;00m \u001B[38;5;28mhasattr\u001B[39m(x, \u001B[38;5;124m\"\u001B[39m\u001B[38;5;124mdtype\u001B[39m\u001B[38;5;124m\"\u001B[39m) \u001B[38;5;28;01melse\u001B[39;00m x \u001B[38;5;28;01mfor\u001B[39;00m x \u001B[38;5;129;01min\u001B[39;00m arrays]\n\u001B[0;32m--> 493\u001B[0m \u001B[38;5;28;01mreturn\u001B[39;00m \u001B[43marrays_to_mgr\u001B[49m\u001B[43m(\u001B[49m\u001B[43marrays\u001B[49m\u001B[43m,\u001B[49m\u001B[43m \u001B[49m\u001B[43mcolumns\u001B[49m\u001B[43m,\u001B[49m\u001B[43m \u001B[49m\u001B[43mindex\u001B[49m\u001B[43m,\u001B[49m\u001B[43m \u001B[49m\u001B[43mdtype\u001B[49m\u001B[38;5;241;43m=\u001B[39;49m\u001B[43mdtype\u001B[49m\u001B[43m,\u001B[49m\u001B[43m \u001B[49m\u001B[43mtyp\u001B[49m\u001B[38;5;241;43m=\u001B[39;49m\u001B[43mtyp\u001B[49m\u001B[43m,\u001B[49m\u001B[43m \u001B[49m\u001B[43mconsolidate\u001B[49m\u001B[38;5;241;43m=\u001B[39;49m\u001B[43mcopy\u001B[49m\u001B[43m)\u001B[49m\n",
      "File \u001B[0;32m~/ogrsp_in_github/venv/lib/python3.10/site-packages/pandas/core/internals/construction.py:118\u001B[0m, in \u001B[0;36marrays_to_mgr\u001B[0;34m(arrays, columns, index, dtype, verify_integrity, typ, consolidate)\u001B[0m\n\u001B[1;32m    115\u001B[0m \u001B[38;5;28;01mif\u001B[39;00m verify_integrity:\n\u001B[1;32m    116\u001B[0m     \u001B[38;5;66;03m# figure out the index, if necessary\u001B[39;00m\n\u001B[1;32m    117\u001B[0m     \u001B[38;5;28;01mif\u001B[39;00m index \u001B[38;5;129;01mis\u001B[39;00m \u001B[38;5;28;01mNone\u001B[39;00m:\n\u001B[0;32m--> 118\u001B[0m         index \u001B[38;5;241m=\u001B[39m \u001B[43m_extract_index\u001B[49m\u001B[43m(\u001B[49m\u001B[43marrays\u001B[49m\u001B[43m)\u001B[49m\n\u001B[1;32m    119\u001B[0m     \u001B[38;5;28;01melse\u001B[39;00m:\n\u001B[1;32m    120\u001B[0m         index \u001B[38;5;241m=\u001B[39m ensure_index(index)\n",
      "File \u001B[0;32m~/ogrsp_in_github/venv/lib/python3.10/site-packages/pandas/core/internals/construction.py:653\u001B[0m, in \u001B[0;36m_extract_index\u001B[0;34m(data)\u001B[0m\n\u001B[1;32m    651\u001B[0m         raw_lengths\u001B[38;5;241m.\u001B[39mappend(\u001B[38;5;28mlen\u001B[39m(val))\n\u001B[1;32m    652\u001B[0m     \u001B[38;5;28;01melif\u001B[39;00m \u001B[38;5;28misinstance\u001B[39m(val, np\u001B[38;5;241m.\u001B[39mndarray) \u001B[38;5;129;01mand\u001B[39;00m val\u001B[38;5;241m.\u001B[39mndim \u001B[38;5;241m>\u001B[39m \u001B[38;5;241m1\u001B[39m:\n\u001B[0;32m--> 653\u001B[0m         \u001B[38;5;28;01mraise\u001B[39;00m \u001B[38;5;167;01mValueError\u001B[39;00m(\u001B[38;5;124m\"\u001B[39m\u001B[38;5;124mPer-column arrays must each be 1-dimensional\u001B[39m\u001B[38;5;124m\"\u001B[39m)\n\u001B[1;32m    655\u001B[0m \u001B[38;5;28;01mif\u001B[39;00m \u001B[38;5;129;01mnot\u001B[39;00m indexes \u001B[38;5;129;01mand\u001B[39;00m \u001B[38;5;129;01mnot\u001B[39;00m raw_lengths:\n\u001B[1;32m    656\u001B[0m     \u001B[38;5;28;01mraise\u001B[39;00m \u001B[38;5;167;01mValueError\u001B[39;00m(\u001B[38;5;124m\"\u001B[39m\u001B[38;5;124mIf using all scalar values, you must pass an index\u001B[39m\u001B[38;5;124m\"\u001B[39m)\n",
      "\u001B[0;31mValueError\u001B[0m: Per-column arrays must each be 1-dimensional"
     ]
    }
   ],
   "source": [
    "pkprms_df_2 = pd.DataFrame.from_dict(pkprms_vars)"
   ],
   "metadata": {
    "collapsed": false
   }
  },
  {
   "cell_type": "code",
   "execution_count": 24,
   "outputs": [],
   "source": [
    "# 2023-Mar-15 AQUI: Não deveria gerar um gráfico??\n",
    "ogra.call_graphics()"
   ],
   "metadata": {
    "collapsed": false
   }
  },
  {
   "cell_type": "code",
   "execution_count": 25,
   "outputs": [],
   "source": [
    "# 2023-Mar-14: Após várias tentativas, usando as chamadas que documento abaixo, pois todas poderão\n",
    "# ser úteis, cheguei em dois modos diferentes\n",
    "# de serializar dado espectro em arquivo pkl.\n",
    "# a_spec_dir = dir(ogra.a_spec)\n",
    "# a_spec_dict = ogra.a_spec.__dict__\n",
    "# a_spec_vars = vars(ogra.a_spec)\n",
    "# campos = [a for a in a_spec_vars]\n",
    "# campos\n",
    "# valores = [a_spec_vars[a] for a in a_spec_vars]"
   ],
   "metadata": {
    "collapsed": false
   }
  },
  {
   "cell_type": "code",
   "execution_count": 26,
   "outputs": [],
   "source": [
    "# teste_df_1: cada nome de campo entra como um índice, e os valores numa coluna única.\n",
    "# teste_df_2: cada nome de campo entra como título de coluna, e os valores em cada coluna respectiva, num registro único.\n",
    "# Qual é melhor? Não sei ainda.\n",
    "# # 2023-Mar-16 Opção 2 parece melhor.\n",
    "# teste_df = pd.DataFrame(data={'col1': [1, 2], 'col2': [3, 4]})\n",
    "# teste_df = pd.DataFrame(data={'col1': [5], 'col2': [6]})\n",
    "# teste_df = pd.DataFrame(data=[[1,2,3]], columns=['um', 'dois', 'tres'])\n",
    "# teste_df_1 = pd.DataFrame(data=valores, index=campos)\n",
    "# teste_df_2 = pd.DataFrame(data=[valores], columns=campos)"
   ],
   "metadata": {
    "collapsed": false
   }
  },
  {
   "cell_type": "code",
   "execution_count": 27,
   "outputs": [
    {
     "data": {
      "text/plain": "   k_fwhm_to_sd                                              peaks pk_hei  \\\n0      0.424661  [31, 125, 128, 144, 235, 241, 396, 582, 715, 7...     []   \n\n         widths mix_regions plateaux fwhm_plateaux  \\\n0  (None, None)          []       []            []   \n\n                                        wide_regions  \\\n0  [[27, 35], [123, 127], [125, 131], [142, 147],...   \n\n                                          fwhm_centr  \\\n0  [31.016455792506445, 124.69690216687029, 128.2...   \n\n                                          rough_sums  \\\n0  [1694.2500571756377, 1486.5959406853367, 2746....   \n\n                                              propts  \\\n0  {'peak_heights': [563.3298190328605, 420.56893...   \n\n                                      fwhm_centr_ini  \\\n0  [29.576715678004177, 123.89380433374058, 127.1...   \n\n                                      fwhm_centr_fin  \\\n0  [32.45619590700871, 125.5, 129.4548068038913, ...   \n\n                                           centroids  \\\n0  [31.20376714216839, 125.27750205833703, 127.64...   \n\n                                           variances  \n0  [10141.76677534925, 6831.404059314664, 10283.3...  ",
      "text/html": "<div>\n<style scoped>\n    .dataframe tbody tr th:only-of-type {\n        vertical-align: middle;\n    }\n\n    .dataframe tbody tr th {\n        vertical-align: top;\n    }\n\n    .dataframe thead th {\n        text-align: right;\n    }\n</style>\n<table border=\"1\" class=\"dataframe\">\n  <thead>\n    <tr style=\"text-align: right;\">\n      <th></th>\n      <th>k_fwhm_to_sd</th>\n      <th>peaks</th>\n      <th>pk_hei</th>\n      <th>widths</th>\n      <th>mix_regions</th>\n      <th>plateaux</th>\n      <th>fwhm_plateaux</th>\n      <th>wide_regions</th>\n      <th>fwhm_centr</th>\n      <th>rough_sums</th>\n      <th>propts</th>\n      <th>fwhm_centr_ini</th>\n      <th>fwhm_centr_fin</th>\n      <th>centroids</th>\n      <th>variances</th>\n    </tr>\n  </thead>\n  <tbody>\n    <tr>\n      <th>0</th>\n      <td>0.424661</td>\n      <td>[31, 125, 128, 144, 235, 241, 396, 582, 715, 7...</td>\n      <td>[]</td>\n      <td>(None, None)</td>\n      <td>[]</td>\n      <td>[]</td>\n      <td>[]</td>\n      <td>[[27, 35], [123, 127], [125, 131], [142, 147],...</td>\n      <td>[31.016455792506445, 124.69690216687029, 128.2...</td>\n      <td>[1694.2500571756377, 1486.5959406853367, 2746....</td>\n      <td>{'peak_heights': [563.3298190328605, 420.56893...</td>\n      <td>[29.576715678004177, 123.89380433374058, 127.1...</td>\n      <td>[32.45619590700871, 125.5, 129.4548068038913, ...</td>\n      <td>[31.20376714216839, 125.27750205833703, 127.64...</td>\n      <td>[10141.76677534925, 6831.404059314664, 10283.3...</td>\n    </tr>\n  </tbody>\n</table>\n</div>"
     },
     "execution_count": 27,
     "metadata": {},
     "output_type": "execute_result"
    }
   ],
   "source": [
    "campos = [a for a in pkprms_vars]\n",
    "valores= [pkprms_vars[a] for a in pkprms_vars]\n",
    "pkprms_df = pd.DataFrame(data=[valores], columns=campos)\n",
    "pkprms_df"
   ],
   "metadata": {
    "collapsed": false
   }
  },
  {
   "cell_type": "code",
   "execution_count": 28,
   "outputs": [],
   "source": [
    "auxy_1 = pkprms_df[['peaks', 'wide_regions', 'fwhm_centr']]"
   ],
   "metadata": {
    "collapsed": false
   }
  },
  {
   "cell_type": "code",
   "execution_count": 29,
   "outputs": [
    {
     "ename": "SyntaxError",
     "evalue": "invalid syntax (805519704.py, line 1)",
     "output_type": "error",
     "traceback": [
      "\u001B[0;36m  Cell \u001B[0;32mIn [29], line 1\u001B[0;36m\u001B[0m\n\u001B[0;31m    auxy_2 = auxy_1..from_records()\u001B[0m\n\u001B[0m                    ^\u001B[0m\n\u001B[0;31mSyntaxError\u001B[0m\u001B[0;31m:\u001B[0m invalid syntax\n"
     ]
    }
   ],
   "source": [
    "auxy_2 = auxy_1..from_records()"
   ],
   "metadata": {
    "collapsed": false
   }
  },
  {
   "cell_type": "code",
   "execution_count": 30,
   "outputs": [],
   "source": [
    "# Em princípio, não usarei a partir deste ponto net_pks_df, pois os porâmetros que interessam\n",
    "# já foram colocados em"
   ],
   "metadata": {
    "collapsed": false
   }
  },
  {
   "cell_type": "code",
   "execution_count": 31,
   "outputs": [
    {
     "data": {
      "text/plain": "    peak_heights  left_thresholds  right_thresholds  prominences  left_bases  \\\n0     563.329819       155.412272        217.783355   563.329819          28   \n1     420.568937        71.874484        194.076831   194.076831         119   \n2     864.433365       485.329198        238.452778   864.433365         119   \n3     500.961158       386.693566         76.215216   500.961158         140   \n4     170.443760        91.954830          0.036940   170.443760         194   \n5     131.875958         3.098165        125.904597   109.286407         238   \n6     205.200400       155.311991        148.778162   205.200400         394   \n7     146.899760        11.231192         91.962114   146.899760         579   \n8      73.935672        49.632297         37.379762    73.935672         712   \n9      68.222520        31.551537         58.469988    68.222520         728   \n10     65.111440        25.446877         62.563971    65.111440         801   \n11    675.230740        77.689507        171.416256   675.230740         831   \n12    160.329423        73.243408         26.740829   160.329423         951   \n13    282.347011       121.269756        121.779801   282.347011         979   \n14    660.386285       273.229451        118.797736   660.386285        1077   \n15     56.044550        11.096543         21.904288    56.044550        1109   \n16     57.305728        14.090483         41.915165    57.305728        1124   \n17     97.849077        39.133623         25.880354    97.849077        1159   \n18     54.573512        40.091636         40.907563    54.573512        1194   \n19    111.855238         2.142278         81.896515   111.855238        1253   \n20    686.970600        82.350969        214.745675   686.970600        1329   \n21     69.175166        51.131991         10.863028    69.175166        1370   \n22    364.104462        64.257067        106.804402   364.104462        1450   \n23    194.216817        91.198838         49.840687   194.216817        1492   \n24    180.432677        65.182813         18.825196   180.432677        1530   \n25     52.820335        24.104050          6.897303    49.801322        1566   \n26    119.614384        55.176067         48.864721   119.614384        1566   \n27    106.204985        24.162775         52.857437   106.204985        1804   \n28     80.080662        15.135501         20.880372    77.482815        1836   \n29   1453.913148       512.295360        155.719806  1453.913148        1914   \n30     42.385431        12.117753         32.903404    42.385431        2026   \n31   1281.358862       374.235760        128.794193  1281.358862        2177   \n32     74.918649        16.153457          4.842970    74.918649        2267   \n33    783.852483        21.165728        311.887893   783.852483        2388   \n34     45.697895        20.057315         21.956588    45.697895        2465   \n35     34.796093         6.038640         12.961435    34.796093        2600   \n36     23.828989        20.008565          0.991629    23.828989        2830   \n37    100.145978        19.010518         42.991352   100.145978        2889   \n38     19.452180         7.001201          7.998887    19.452180        3023   \n39     33.930281         7.017367          0.983478    33.930281        3444   \n40     31.838306         6.006616          8.993801    31.838306        3607   \n41     18.189474         5.034742          2.964906    18.189474        3998   \n\n    right_bases    widths  width_heights     left_ips    right_ips  \n0            36  2.879480     281.664910    29.576716    32.456196  \n1           126  1.606196     323.530521   123.893804   125.500000  \n2           134  2.345371     432.216683   127.109436   129.454807  \n3           153  2.232624     250.480579   143.352250   145.584874  \n4           275  2.587615      85.221880   234.073220   236.660835  \n5           275  2.369532      77.232754   239.064473   241.434005  \n6           399  1.350226     102.600200   395.339393   396.689619  \n7           585  2.378657      73.449880   580.420040   582.798697  \n8           718  1.733814      36.967836   714.255166   715.988980  \n9           740  1.882141      34.111260   735.701257   737.583398  \n10          808  1.699583      32.555720   801.820776   803.520359  \n11          851  4.180463     337.615370   839.719887   843.900350  \n12          964  2.714706      80.164711   958.893846   961.608551  \n13         1006  2.361682     141.173506  1001.807146  1004.168829  \n14         1087  2.780337     330.193143  1080.783534  1083.563871  \n15         1120  3.370731      28.022275  1112.936595  1116.307326  \n16         1134  2.263893      28.652864  1128.419699  1130.683592  \n17         1165  2.953428      48.924538  1160.792219  1163.745646  \n18         1198  1.347644      27.286756  1195.319390  1196.667035  \n19         1259  3.256775      55.927619  1254.426131  1257.682906  \n20         1337  3.246953     343.485300  1331.153009  1334.399963  \n21         1376  2.242879      34.587583  1371.323563  1373.566441  \n22         1459  3.165891     182.052231  1452.241080  1455.406970  \n23         1501  2.697697      97.108408  1495.886682  1498.584379  \n24         1549  3.132431      90.216339  1538.698848  1541.831279  \n25         1587  2.476104      27.919674  1583.943516  1586.419619  \n26         1596  2.449322      59.807192  1590.799925  1593.249247  \n27         1843  2.747862      53.102493  1830.260923  1833.008785  \n28         1843  3.430010      41.339255  1838.096830  1841.526840  \n29         1932  3.340861     726.956574  1924.597406  1927.938267  \n30         2036  2.987759      21.192715  2030.656330  2033.644089  \n31         2192  3.602023     640.679431  2185.339141  2188.941164  \n32         2276  3.770903      37.459324  2270.393331  2274.164234  \n33         2403  3.744274     391.926241  2395.531762  2399.276036  \n34         2473  2.360529      22.848947  2468.692070  2471.052599  \n35         2622  4.010569      17.398046  2611.434701  2615.445270  \n36         2847  2.436208      11.914494  2836.404530  2838.840738  \n37         2899  3.334534      50.072989  2893.059004  2896.393538  \n38         3036  2.686069       9.726090  3028.659443  3031.345512  \n39         3457  5.907638      16.965140  3446.826053  3452.733690  \n40         3621  3.865012      15.919153  3613.380707  3617.245719  \n41         4020  6.467802       9.094737  4009.412346  4015.880147  ",
      "text/html": "<div>\n<style scoped>\n    .dataframe tbody tr th:only-of-type {\n        vertical-align: middle;\n    }\n\n    .dataframe tbody tr th {\n        vertical-align: top;\n    }\n\n    .dataframe thead th {\n        text-align: right;\n    }\n</style>\n<table border=\"1\" class=\"dataframe\">\n  <thead>\n    <tr style=\"text-align: right;\">\n      <th></th>\n      <th>peak_heights</th>\n      <th>left_thresholds</th>\n      <th>right_thresholds</th>\n      <th>prominences</th>\n      <th>left_bases</th>\n      <th>right_bases</th>\n      <th>widths</th>\n      <th>width_heights</th>\n      <th>left_ips</th>\n      <th>right_ips</th>\n    </tr>\n  </thead>\n  <tbody>\n    <tr>\n      <th>0</th>\n      <td>563.329819</td>\n      <td>155.412272</td>\n      <td>217.783355</td>\n      <td>563.329819</td>\n      <td>28</td>\n      <td>36</td>\n      <td>2.879480</td>\n      <td>281.664910</td>\n      <td>29.576716</td>\n      <td>32.456196</td>\n    </tr>\n    <tr>\n      <th>1</th>\n      <td>420.568937</td>\n      <td>71.874484</td>\n      <td>194.076831</td>\n      <td>194.076831</td>\n      <td>119</td>\n      <td>126</td>\n      <td>1.606196</td>\n      <td>323.530521</td>\n      <td>123.893804</td>\n      <td>125.500000</td>\n    </tr>\n    <tr>\n      <th>2</th>\n      <td>864.433365</td>\n      <td>485.329198</td>\n      <td>238.452778</td>\n      <td>864.433365</td>\n      <td>119</td>\n      <td>134</td>\n      <td>2.345371</td>\n      <td>432.216683</td>\n      <td>127.109436</td>\n      <td>129.454807</td>\n    </tr>\n    <tr>\n      <th>3</th>\n      <td>500.961158</td>\n      <td>386.693566</td>\n      <td>76.215216</td>\n      <td>500.961158</td>\n      <td>140</td>\n      <td>153</td>\n      <td>2.232624</td>\n      <td>250.480579</td>\n      <td>143.352250</td>\n      <td>145.584874</td>\n    </tr>\n    <tr>\n      <th>4</th>\n      <td>170.443760</td>\n      <td>91.954830</td>\n      <td>0.036940</td>\n      <td>170.443760</td>\n      <td>194</td>\n      <td>275</td>\n      <td>2.587615</td>\n      <td>85.221880</td>\n      <td>234.073220</td>\n      <td>236.660835</td>\n    </tr>\n    <tr>\n      <th>5</th>\n      <td>131.875958</td>\n      <td>3.098165</td>\n      <td>125.904597</td>\n      <td>109.286407</td>\n      <td>238</td>\n      <td>275</td>\n      <td>2.369532</td>\n      <td>77.232754</td>\n      <td>239.064473</td>\n      <td>241.434005</td>\n    </tr>\n    <tr>\n      <th>6</th>\n      <td>205.200400</td>\n      <td>155.311991</td>\n      <td>148.778162</td>\n      <td>205.200400</td>\n      <td>394</td>\n      <td>399</td>\n      <td>1.350226</td>\n      <td>102.600200</td>\n      <td>395.339393</td>\n      <td>396.689619</td>\n    </tr>\n    <tr>\n      <th>7</th>\n      <td>146.899760</td>\n      <td>11.231192</td>\n      <td>91.962114</td>\n      <td>146.899760</td>\n      <td>579</td>\n      <td>585</td>\n      <td>2.378657</td>\n      <td>73.449880</td>\n      <td>580.420040</td>\n      <td>582.798697</td>\n    </tr>\n    <tr>\n      <th>8</th>\n      <td>73.935672</td>\n      <td>49.632297</td>\n      <td>37.379762</td>\n      <td>73.935672</td>\n      <td>712</td>\n      <td>718</td>\n      <td>1.733814</td>\n      <td>36.967836</td>\n      <td>714.255166</td>\n      <td>715.988980</td>\n    </tr>\n    <tr>\n      <th>9</th>\n      <td>68.222520</td>\n      <td>31.551537</td>\n      <td>58.469988</td>\n      <td>68.222520</td>\n      <td>728</td>\n      <td>740</td>\n      <td>1.882141</td>\n      <td>34.111260</td>\n      <td>735.701257</td>\n      <td>737.583398</td>\n    </tr>\n    <tr>\n      <th>10</th>\n      <td>65.111440</td>\n      <td>25.446877</td>\n      <td>62.563971</td>\n      <td>65.111440</td>\n      <td>801</td>\n      <td>808</td>\n      <td>1.699583</td>\n      <td>32.555720</td>\n      <td>801.820776</td>\n      <td>803.520359</td>\n    </tr>\n    <tr>\n      <th>11</th>\n      <td>675.230740</td>\n      <td>77.689507</td>\n      <td>171.416256</td>\n      <td>675.230740</td>\n      <td>831</td>\n      <td>851</td>\n      <td>4.180463</td>\n      <td>337.615370</td>\n      <td>839.719887</td>\n      <td>843.900350</td>\n    </tr>\n    <tr>\n      <th>12</th>\n      <td>160.329423</td>\n      <td>73.243408</td>\n      <td>26.740829</td>\n      <td>160.329423</td>\n      <td>951</td>\n      <td>964</td>\n      <td>2.714706</td>\n      <td>80.164711</td>\n      <td>958.893846</td>\n      <td>961.608551</td>\n    </tr>\n    <tr>\n      <th>13</th>\n      <td>282.347011</td>\n      <td>121.269756</td>\n      <td>121.779801</td>\n      <td>282.347011</td>\n      <td>979</td>\n      <td>1006</td>\n      <td>2.361682</td>\n      <td>141.173506</td>\n      <td>1001.807146</td>\n      <td>1004.168829</td>\n    </tr>\n    <tr>\n      <th>14</th>\n      <td>660.386285</td>\n      <td>273.229451</td>\n      <td>118.797736</td>\n      <td>660.386285</td>\n      <td>1077</td>\n      <td>1087</td>\n      <td>2.780337</td>\n      <td>330.193143</td>\n      <td>1080.783534</td>\n      <td>1083.563871</td>\n    </tr>\n    <tr>\n      <th>15</th>\n      <td>56.044550</td>\n      <td>11.096543</td>\n      <td>21.904288</td>\n      <td>56.044550</td>\n      <td>1109</td>\n      <td>1120</td>\n      <td>3.370731</td>\n      <td>28.022275</td>\n      <td>1112.936595</td>\n      <td>1116.307326</td>\n    </tr>\n    <tr>\n      <th>16</th>\n      <td>57.305728</td>\n      <td>14.090483</td>\n      <td>41.915165</td>\n      <td>57.305728</td>\n      <td>1124</td>\n      <td>1134</td>\n      <td>2.263893</td>\n      <td>28.652864</td>\n      <td>1128.419699</td>\n      <td>1130.683592</td>\n    </tr>\n    <tr>\n      <th>17</th>\n      <td>97.849077</td>\n      <td>39.133623</td>\n      <td>25.880354</td>\n      <td>97.849077</td>\n      <td>1159</td>\n      <td>1165</td>\n      <td>2.953428</td>\n      <td>48.924538</td>\n      <td>1160.792219</td>\n      <td>1163.745646</td>\n    </tr>\n    <tr>\n      <th>18</th>\n      <td>54.573512</td>\n      <td>40.091636</td>\n      <td>40.907563</td>\n      <td>54.573512</td>\n      <td>1194</td>\n      <td>1198</td>\n      <td>1.347644</td>\n      <td>27.286756</td>\n      <td>1195.319390</td>\n      <td>1196.667035</td>\n    </tr>\n    <tr>\n      <th>19</th>\n      <td>111.855238</td>\n      <td>2.142278</td>\n      <td>81.896515</td>\n      <td>111.855238</td>\n      <td>1253</td>\n      <td>1259</td>\n      <td>3.256775</td>\n      <td>55.927619</td>\n      <td>1254.426131</td>\n      <td>1257.682906</td>\n    </tr>\n    <tr>\n      <th>20</th>\n      <td>686.970600</td>\n      <td>82.350969</td>\n      <td>214.745675</td>\n      <td>686.970600</td>\n      <td>1329</td>\n      <td>1337</td>\n      <td>3.246953</td>\n      <td>343.485300</td>\n      <td>1331.153009</td>\n      <td>1334.399963</td>\n    </tr>\n    <tr>\n      <th>21</th>\n      <td>69.175166</td>\n      <td>51.131991</td>\n      <td>10.863028</td>\n      <td>69.175166</td>\n      <td>1370</td>\n      <td>1376</td>\n      <td>2.242879</td>\n      <td>34.587583</td>\n      <td>1371.323563</td>\n      <td>1373.566441</td>\n    </tr>\n    <tr>\n      <th>22</th>\n      <td>364.104462</td>\n      <td>64.257067</td>\n      <td>106.804402</td>\n      <td>364.104462</td>\n      <td>1450</td>\n      <td>1459</td>\n      <td>3.165891</td>\n      <td>182.052231</td>\n      <td>1452.241080</td>\n      <td>1455.406970</td>\n    </tr>\n    <tr>\n      <th>23</th>\n      <td>194.216817</td>\n      <td>91.198838</td>\n      <td>49.840687</td>\n      <td>194.216817</td>\n      <td>1492</td>\n      <td>1501</td>\n      <td>2.697697</td>\n      <td>97.108408</td>\n      <td>1495.886682</td>\n      <td>1498.584379</td>\n    </tr>\n    <tr>\n      <th>24</th>\n      <td>180.432677</td>\n      <td>65.182813</td>\n      <td>18.825196</td>\n      <td>180.432677</td>\n      <td>1530</td>\n      <td>1549</td>\n      <td>3.132431</td>\n      <td>90.216339</td>\n      <td>1538.698848</td>\n      <td>1541.831279</td>\n    </tr>\n    <tr>\n      <th>25</th>\n      <td>52.820335</td>\n      <td>24.104050</td>\n      <td>6.897303</td>\n      <td>49.801322</td>\n      <td>1566</td>\n      <td>1587</td>\n      <td>2.476104</td>\n      <td>27.919674</td>\n      <td>1583.943516</td>\n      <td>1586.419619</td>\n    </tr>\n    <tr>\n      <th>26</th>\n      <td>119.614384</td>\n      <td>55.176067</td>\n      <td>48.864721</td>\n      <td>119.614384</td>\n      <td>1566</td>\n      <td>1596</td>\n      <td>2.449322</td>\n      <td>59.807192</td>\n      <td>1590.799925</td>\n      <td>1593.249247</td>\n    </tr>\n    <tr>\n      <th>27</th>\n      <td>106.204985</td>\n      <td>24.162775</td>\n      <td>52.857437</td>\n      <td>106.204985</td>\n      <td>1804</td>\n      <td>1843</td>\n      <td>2.747862</td>\n      <td>53.102493</td>\n      <td>1830.260923</td>\n      <td>1833.008785</td>\n    </tr>\n    <tr>\n      <th>28</th>\n      <td>80.080662</td>\n      <td>15.135501</td>\n      <td>20.880372</td>\n      <td>77.482815</td>\n      <td>1836</td>\n      <td>1843</td>\n      <td>3.430010</td>\n      <td>41.339255</td>\n      <td>1838.096830</td>\n      <td>1841.526840</td>\n    </tr>\n    <tr>\n      <th>29</th>\n      <td>1453.913148</td>\n      <td>512.295360</td>\n      <td>155.719806</td>\n      <td>1453.913148</td>\n      <td>1914</td>\n      <td>1932</td>\n      <td>3.340861</td>\n      <td>726.956574</td>\n      <td>1924.597406</td>\n      <td>1927.938267</td>\n    </tr>\n    <tr>\n      <th>30</th>\n      <td>42.385431</td>\n      <td>12.117753</td>\n      <td>32.903404</td>\n      <td>42.385431</td>\n      <td>2026</td>\n      <td>2036</td>\n      <td>2.987759</td>\n      <td>21.192715</td>\n      <td>2030.656330</td>\n      <td>2033.644089</td>\n    </tr>\n    <tr>\n      <th>31</th>\n      <td>1281.358862</td>\n      <td>374.235760</td>\n      <td>128.794193</td>\n      <td>1281.358862</td>\n      <td>2177</td>\n      <td>2192</td>\n      <td>3.602023</td>\n      <td>640.679431</td>\n      <td>2185.339141</td>\n      <td>2188.941164</td>\n    </tr>\n    <tr>\n      <th>32</th>\n      <td>74.918649</td>\n      <td>16.153457</td>\n      <td>4.842970</td>\n      <td>74.918649</td>\n      <td>2267</td>\n      <td>2276</td>\n      <td>3.770903</td>\n      <td>37.459324</td>\n      <td>2270.393331</td>\n      <td>2274.164234</td>\n    </tr>\n    <tr>\n      <th>33</th>\n      <td>783.852483</td>\n      <td>21.165728</td>\n      <td>311.887893</td>\n      <td>783.852483</td>\n      <td>2388</td>\n      <td>2403</td>\n      <td>3.744274</td>\n      <td>391.926241</td>\n      <td>2395.531762</td>\n      <td>2399.276036</td>\n    </tr>\n    <tr>\n      <th>34</th>\n      <td>45.697895</td>\n      <td>20.057315</td>\n      <td>21.956588</td>\n      <td>45.697895</td>\n      <td>2465</td>\n      <td>2473</td>\n      <td>2.360529</td>\n      <td>22.848947</td>\n      <td>2468.692070</td>\n      <td>2471.052599</td>\n    </tr>\n    <tr>\n      <th>35</th>\n      <td>34.796093</td>\n      <td>6.038640</td>\n      <td>12.961435</td>\n      <td>34.796093</td>\n      <td>2600</td>\n      <td>2622</td>\n      <td>4.010569</td>\n      <td>17.398046</td>\n      <td>2611.434701</td>\n      <td>2615.445270</td>\n    </tr>\n    <tr>\n      <th>36</th>\n      <td>23.828989</td>\n      <td>20.008565</td>\n      <td>0.991629</td>\n      <td>23.828989</td>\n      <td>2830</td>\n      <td>2847</td>\n      <td>2.436208</td>\n      <td>11.914494</td>\n      <td>2836.404530</td>\n      <td>2838.840738</td>\n    </tr>\n    <tr>\n      <th>37</th>\n      <td>100.145978</td>\n      <td>19.010518</td>\n      <td>42.991352</td>\n      <td>100.145978</td>\n      <td>2889</td>\n      <td>2899</td>\n      <td>3.334534</td>\n      <td>50.072989</td>\n      <td>2893.059004</td>\n      <td>2896.393538</td>\n    </tr>\n    <tr>\n      <th>38</th>\n      <td>19.452180</td>\n      <td>7.001201</td>\n      <td>7.998887</td>\n      <td>19.452180</td>\n      <td>3023</td>\n      <td>3036</td>\n      <td>2.686069</td>\n      <td>9.726090</td>\n      <td>3028.659443</td>\n      <td>3031.345512</td>\n    </tr>\n    <tr>\n      <th>39</th>\n      <td>33.930281</td>\n      <td>7.017367</td>\n      <td>0.983478</td>\n      <td>33.930281</td>\n      <td>3444</td>\n      <td>3457</td>\n      <td>5.907638</td>\n      <td>16.965140</td>\n      <td>3446.826053</td>\n      <td>3452.733690</td>\n    </tr>\n    <tr>\n      <th>40</th>\n      <td>31.838306</td>\n      <td>6.006616</td>\n      <td>8.993801</td>\n      <td>31.838306</td>\n      <td>3607</td>\n      <td>3621</td>\n      <td>3.865012</td>\n      <td>15.919153</td>\n      <td>3613.380707</td>\n      <td>3617.245719</td>\n    </tr>\n    <tr>\n      <th>41</th>\n      <td>18.189474</td>\n      <td>5.034742</td>\n      <td>2.964906</td>\n      <td>18.189474</td>\n      <td>3998</td>\n      <td>4020</td>\n      <td>6.467802</td>\n      <td>9.094737</td>\n      <td>4009.412346</td>\n      <td>4015.880147</td>\n    </tr>\n  </tbody>\n</table>\n</div>"
     },
     "execution_count": 31,
     "metadata": {},
     "output_type": "execute_result"
    }
   ],
   "source": [
    "net_pks_df = pd.DataFrame.from_dict(pkprms_df['propts'][0])\n",
    "net_pks_df"
   ],
   "metadata": {
    "collapsed": false
   }
  },
  {
   "cell_type": "code",
   "execution_count": 32,
   "outputs": [],
   "source": [
    "# teste_df_1.to_pickle('teste_df_1.pkl')\n",
    "# teste_df_2.to_pickle('teste_df_2.pkl')"
   ],
   "metadata": {
    "collapsed": false
   }
  },
  {
   "cell_type": "code",
   "execution_count": 33,
   "outputs": [
    {
     "data": {
      "text/plain": "['ExponentialModel',\n 'ExpressionModel',\n 'GaussianModel',\n 'In',\n 'LinearModel',\n 'LorentzianModel',\n 'Model',\n 'Ograyspy',\n 'Out',\n 'Parameters',\n 'SkewedGaussianModel',\n 'Spec',\n 'StepModel',\n '_',\n '_13',\n '_14',\n '_16',\n '_17',\n '_18',\n '_20',\n '_21',\n '_27',\n '_31',\n '__',\n '___',\n '__builtin__',\n '__builtins__',\n '__doc__',\n '__loader__',\n '__name__',\n '__package__',\n '__spec__',\n '_dh',\n '_i',\n '_i1',\n '_i10',\n '_i11',\n '_i12',\n '_i13',\n '_i14',\n '_i15',\n '_i16',\n '_i17',\n '_i18',\n '_i19',\n '_i2',\n '_i20',\n '_i21',\n '_i22',\n '_i23',\n '_i24',\n '_i25',\n '_i26',\n '_i27',\n '_i28',\n '_i29',\n '_i3',\n '_i30',\n '_i31',\n '_i32',\n '_i33',\n '_i4',\n '_i5',\n '_i6',\n '_i7',\n '_i8',\n '_i9',\n '_ih',\n '_ii',\n '_iii',\n '_oh',\n '_pydevd_bundle',\n 'a_pattern',\n 'auxy_1',\n 'campos',\n 'default_rng',\n 'exit',\n 'fit_report',\n 'get_ipython',\n 'go',\n 'minimize',\n 'net_pks_df',\n 'np',\n 'ogra',\n 'pd',\n 'pkprms',\n 'pkprms_df',\n 'pkprms_vars',\n 'plt',\n 'printfuncs',\n 'pydev_jupyter_vars',\n 'quit',\n 'remove_imported_pydev_package',\n 'report_fit',\n 'special',\n 'sys',\n 'to_be_found',\n 'unpickled_spec',\n 'valores']"
     },
     "execution_count": 33,
     "metadata": {},
     "output_type": "execute_result"
    }
   ],
   "source": [
    "dir()"
   ],
   "metadata": {
    "collapsed": false
   }
  },
  {
   "cell_type": "code",
   "execution_count": 34,
   "outputs": [],
   "source": [
    "# unpickled_teste_df_1 = pd.read_pickle('teste_df_1.pkl')\n",
    "# unpickled_teste_df_2 = pd.read_pickle('teste_df_2.pkl')"
   ],
   "metadata": {
    "collapsed": false
   }
  },
  {
   "cell_type": "code",
   "execution_count": 35,
   "outputs": [],
   "source": [
    "# unpickled_teste_df_1"
   ],
   "metadata": {
    "collapsed": false
   }
  },
  {
   "cell_type": "code",
   "execution_count": 36,
   "outputs": [],
   "source": [
    "# unpickled_teste_df_2"
   ],
   "metadata": {
    "collapsed": false
   }
  },
  {
   "cell_type": "code",
   "execution_count": 37,
   "outputs": [],
   "source": [
    "# No final de 2019, criei dois arquivos pkl:\n",
    "# C:\\Users\\mmaduar\\Nextcloud\\Python_Scripts\\Eflu_code\\todos_si_peaks\n",
    "# C:\\Users\\mmaduar\\Nextcloud\\Python_Scripts\\Eflu_code\\todos_si_specs\n",
    "\n",
    "# Creio que criei com o seguinte ipynb, para o trabalho do WARP2 (2019) das águas da piscina:\n",
    "# C:\\Users\\mmaduar\\Nextcloud\\Python_Scripts\\Eflu_code\\2019-nov-warp2.ipynb\n",
    "\n",
    "# unpickled_todos_si_specs = pd.read_pickle('/Users/mmaduar/Nextcloud/Python_Scripts/Eflu_code/todos_si_specs.pkl')\n",
    "# unpickled_todos_si_peaks = pd.read_pickle('/Users/mmaduar/Nextcloud/Python_Scripts/Eflu_code/todos_si_peaks.pkl')"
   ],
   "metadata": {
    "collapsed": false
   }
  },
  {
   "cell_type": "code",
   "execution_count": 38,
   "outputs": [],
   "source": [
    "# unpickled_todos_si_specs"
   ],
   "metadata": {
    "collapsed": false
   }
  },
  {
   "cell_type": "code",
   "execution_count": 39,
   "outputs": [],
   "source": [
    "# 2023-Mar-14: prosseguindo com a calibração"
   ],
   "metadata": {
    "collapsed": false
   }
  },
  {
   "cell_type": "code",
   "execution_count": 40,
   "outputs": [],
   "source": [
    "rng = np.random.default_rng()\n",
    "# rints = rng.integers(low=0, high=10, size=3)\n",
    "\n",
    "# 2022-Jun-23: Reativar após consertar o arquivo pickle:\n",
    "# rints = rng.integers(pkl_df1.count()[0], size=3)\n",
    "# print(rints)\n",
    "# type(rints[0])\n",
    "# some_spec = rints[1]\n",
    "# pkl_df1.iloc[some_spec]\n",
    "# a_spec_name = pkl_df1.iloc[some_spec]['FName']\n",
    "# a_spec_name"
   ],
   "metadata": {
    "collapsed": false
   }
  },
  {
   "cell_type": "code",
   "execution_count": 41,
   "outputs": [
    {
     "data": {
      "text/plain": "Generator(PCG64) at 0x7FC9F9A3ADC0"
     },
     "execution_count": 41,
     "metadata": {},
     "output_type": "execute_result"
    }
   ],
   "source": [
    "rng"
   ],
   "metadata": {
    "collapsed": false
   }
  },
  {
   "cell_type": "code",
   "execution_count": 42,
   "outputs": [
    {
     "name": "stdout",
     "output_type": "stream",
     "text": [
      "A spec name: /home/marcelofm/Nextcloud/Genie_Transfer/Si/SI2022/SI06322.Chn\n",
      "Reduced file name: Si/SI2022/SI06322.Chn\n"
     ]
    }
   ],
   "source": [
    "print(f'A spec name: {ogra.a_spec_name}')\n",
    "print(f'Reduced file name: {ogra.reduced_f_name}')"
   ],
   "metadata": {
    "collapsed": false
   }
  },
  {
   "cell_type": "code",
   "execution_count": 43,
   "outputs": [
    {
     "name": "stdout",
     "output_type": "stream",
     "text": [
      "índice do espectro na lista: 1351\n"
     ]
    },
    {
     "data": {
      "text/plain": "'Si/SI2022/SI06322.Chn'"
     },
     "execution_count": 43,
     "metadata": {},
     "output_type": "execute_result"
    }
   ],
   "source": [
    "# 2022-Dez-28\n",
    "print(f'índice do espectro na lista: {ogra.a_spec_ind}')\n",
    "ogra.reduced_names_files_list[ogra.a_spec_ind]"
   ],
   "metadata": {
    "collapsed": false
   }
  },
  {
   "cell_type": "code",
   "execution_count": 44,
   "metadata": {},
   "outputs": [],
   "source": [
    "# 2022-Dez-28: Atualizar:\n",
    "# (2022-Jun-24 Lembrando como estão os defaults de total_analysis(...):\n",
    "# def total_analysis(self, k_sep_pk=2.0, smoo=3000.0, widths_range=(4.0, 20.0)):)\n",
    "# smoo=3000 fica razoável, mas faz umas ondas\n",
    "# smoo=1500 fica horrível, faz uns abismos. Quanto menor, pior\n",
    "# smoo=400 fica razoável, mas faz umas ondas\n",
    "# ogra.perform_total_analysis(\n",
    "#     k_sep_pk=2.0, smoo=4096, widths_range=(4.0, 20.0)\n",
    "# )"
   ]
  },
  {
   "cell_type": "code",
   "execution_count": 45,
   "metadata": {},
   "outputs": [],
   "source": [
    "# 2022-Jun-24 No momento esses são os que interessam:\n",
    "# pann = ogra.a_spec..saw_spec.spec_parms\n",
    "# cntarr = ogra.a_spec.net_spec_ser_an.y_s\n",
    "# pkprms = ogra.a_spec.net_spec_ser_an.pk_parms"
   ]
  },
  {
   "cell_type": "code",
   "execution_count": 45,
   "outputs": [],
   "source": [],
   "metadata": {
    "collapsed": false
   }
  },
  {
   "cell_type": "code",
   "execution_count": 46,
   "metadata": {},
   "outputs": [],
   "source": [
    "# 2022-Jun-14\n",
    "# Verificando o que se tem até agora em a_raw_spec:\n",
    "# (Pode pular e ir direto aos gráficos)"
   ]
  },
  {
   "cell_type": "code",
   "execution_count": 47,
   "metadata": {},
   "outputs": [],
   "source": [
    "\n",
    "# Testes:\n",
    "# https://numpy.org/doc/stable/reference/random/generator.html#distributions\n",
    "# x = np.linspace(0, 10, N) + rng.normal(loc=7, scale=0.05, size=N)\n",
    "# y = np.linspace(22, 23, N)\n",
    "\n",
    "# Busca do canal onde a altura do espectro se \"estabiliza\"\n",
    "# https://numpy.org/doc/stable/reference/routines.sort.html#searching\n",
    "\n",
    "# Escolha do que plotar:\n",
    "# y_plot = noisy_y\n",
    "# y_plot = var_win\n",
    "# y_plot = var_rel"
   ]
  },
  {
   "cell_type": "code",
   "execution_count": 48,
   "outputs": [
    {
     "data": {
      "text/plain": "Empty DataFrame\nColumns: []\nIndex: []",
      "text/html": "<div>\n<style scoped>\n    .dataframe tbody tr th:only-of-type {\n        vertical-align: middle;\n    }\n\n    .dataframe tbody tr th {\n        vertical-align: top;\n    }\n\n    .dataframe thead th {\n        text-align: right;\n    }\n</style>\n<table border=\"1\" class=\"dataframe\">\n  <thead>\n    <tr style=\"text-align: right;\">\n      <th></th>\n    </tr>\n  </thead>\n  <tbody>\n  </tbody>\n</table>\n</div>"
     },
     "execution_count": 48,
     "metadata": {},
     "output_type": "execute_result"
    }
   ],
   "source": [
    "# 2022-Dez-28\n",
    "# Testes com conversão de pandas df .to_html\n",
    "# Teste 1: html direto\n",
    "\n",
    "df_to_html_1 = ogra.a_spec.spec_pks_df #.to  ogra.a_spec.spec_pks_df.to_html(columns=['peaks', 'centroids', 'rough_sums'])\n",
    "df_to_html_1"
   ],
   "metadata": {
    "collapsed": false
   }
  },
  {
   "cell_type": "code",
   "execution_count": 49,
   "outputs": [
    {
     "ename": "KeyError",
     "evalue": "\"None of [Index(['peaks', 'centroids', 'rough_sums'], dtype='object')] are in the [columns]\"",
     "output_type": "error",
     "traceback": [
      "\u001B[0;31m---------------------------------------------------------------------------\u001B[0m",
      "\u001B[0;31mKeyError\u001B[0m                                  Traceback (most recent call last)",
      "Cell \u001B[0;32mIn [49], line 4\u001B[0m\n\u001B[1;32m      1\u001B[0m \u001B[38;5;66;03m# 2022-Dez-28\u001B[39;00m\n\u001B[1;32m      2\u001B[0m \u001B[38;5;66;03m# Testes com conversão de pandas df .to_html\u001B[39;00m\n\u001B[1;32m      3\u001B[0m \u001B[38;5;66;03m# Teste 2: aplicando tags html:\u001B[39;00m\n\u001B[0;32m----> 4\u001B[0m df_to_html_2 \u001B[38;5;241m=\u001B[39m \u001B[43mogra\u001B[49m\u001B[38;5;241;43m.\u001B[39;49m\u001B[43ma_spec\u001B[49m\u001B[38;5;241;43m.\u001B[39;49m\u001B[43mspec_pks_df\u001B[49m\u001B[38;5;241;43m.\u001B[39;49m\u001B[43mto_html\u001B[49m\u001B[43m(\u001B[49m\n\u001B[1;32m      5\u001B[0m \u001B[43m    \u001B[49m\u001B[43mcolumns\u001B[49m\u001B[38;5;241;43m=\u001B[39;49m\u001B[43m[\u001B[49m\u001B[38;5;124;43m'\u001B[39;49m\u001B[38;5;124;43mpeaks\u001B[39;49m\u001B[38;5;124;43m'\u001B[39;49m\u001B[43m,\u001B[49m\u001B[43m \u001B[49m\u001B[38;5;124;43m'\u001B[39;49m\u001B[38;5;124;43mcentroids\u001B[39;49m\u001B[38;5;124;43m'\u001B[39;49m\u001B[43m,\u001B[49m\u001B[43m \u001B[49m\u001B[38;5;124;43m'\u001B[39;49m\u001B[38;5;124;43mrough_sums\u001B[39;49m\u001B[38;5;124;43m'\u001B[39;49m\u001B[43m]\u001B[49m\u001B[43m,\u001B[49m\n\u001B[1;32m      6\u001B[0m \u001B[43m    \u001B[49m\u001B[43mformatters\u001B[49m\u001B[38;5;241;43m=\u001B[39;49m\u001B[43m{\u001B[49m\n\u001B[1;32m      7\u001B[0m \u001B[43m        \u001B[49m\u001B[38;5;124;43m'\u001B[39;49m\u001B[38;5;124;43mpeaks\u001B[39;49m\u001B[38;5;124;43m'\u001B[39;49m\u001B[43m:\u001B[49m\u001B[43m \u001B[49m\u001B[38;5;28;43;01mlambda\u001B[39;49;00m\u001B[43m \u001B[49m\u001B[43mx\u001B[49m\u001B[43m:\u001B[49m\u001B[43m \u001B[49m\u001B[38;5;124;43m'\u001B[39;49m\u001B[38;5;124;43m<b>\u001B[39;49m\u001B[38;5;124;43m'\u001B[39;49m\u001B[43m \u001B[49m\u001B[38;5;241;43m+\u001B[39;49m\u001B[43m \u001B[49m\u001B[38;5;28;43mstr\u001B[39;49m\u001B[43m(\u001B[49m\u001B[43mx\u001B[49m\u001B[43m)\u001B[49m\u001B[43m \u001B[49m\u001B[38;5;241;43m+\u001B[39;49m\u001B[43m \u001B[49m\u001B[38;5;124;43m'\u001B[39;49m\u001B[38;5;124;43m</b>\u001B[39;49m\u001B[38;5;124;43m'\u001B[39;49m\u001B[43m,\u001B[49m\n\u001B[1;32m      8\u001B[0m \u001B[43m        \u001B[49m\u001B[38;5;124;43m'\u001B[39;49m\u001B[38;5;124;43mrough_sums\u001B[39;49m\u001B[38;5;124;43m'\u001B[39;49m\u001B[43m:\u001B[49m\u001B[43m \u001B[49m\u001B[38;5;28;43;01mlambda\u001B[39;49;00m\u001B[43m \u001B[49m\u001B[43mx\u001B[49m\u001B[43m:\u001B[49m\u001B[43m \u001B[49m\u001B[38;5;124;43m'\u001B[39;49m\u001B[38;5;124;43m<i>\u001B[39;49m\u001B[38;5;124;43m'\u001B[39;49m\u001B[43m \u001B[49m\u001B[38;5;241;43m+\u001B[39;49m\u001B[43m \u001B[49m\u001B[38;5;28;43mstr\u001B[39;49m\u001B[43m(\u001B[49m\u001B[43mx\u001B[49m\u001B[43m)\u001B[49m\u001B[43m \u001B[49m\u001B[38;5;241;43m+\u001B[39;49m\u001B[43m \u001B[49m\u001B[38;5;124;43m'\u001B[39;49m\u001B[38;5;124;43m</i>\u001B[39;49m\u001B[38;5;124;43m'\u001B[39;49m\u001B[43m}\u001B[49m\n\u001B[1;32m      9\u001B[0m \u001B[43m)\u001B[49m\n\u001B[1;32m     10\u001B[0m df_to_html_2\n\u001B[1;32m     11\u001B[0m \u001B[38;5;28;01mimport\u001B[39;00m \u001B[38;5;21;01mIPython\u001B[39;00m\n",
      "File \u001B[0;32m~/ogrsp_in_github/venv/lib/python3.10/site-packages/pandas/core/frame.py:3197\u001B[0m, in \u001B[0;36mDataFrame.to_html\u001B[0;34m(self, buf, columns, col_space, header, index, na_rep, formatters, float_format, sparsify, index_names, justify, max_rows, max_cols, show_dimensions, decimal, bold_rows, classes, escape, notebook, border, table_id, render_links, encoding)\u001B[0m\n\u001B[1;32m   3194\u001B[0m \u001B[38;5;28;01mif\u001B[39;00m justify \u001B[38;5;129;01mis\u001B[39;00m \u001B[38;5;129;01mnot\u001B[39;00m \u001B[38;5;28;01mNone\u001B[39;00m \u001B[38;5;129;01mand\u001B[39;00m justify \u001B[38;5;129;01mnot\u001B[39;00m \u001B[38;5;129;01min\u001B[39;00m fmt\u001B[38;5;241m.\u001B[39m_VALID_JUSTIFY_PARAMETERS:\n\u001B[1;32m   3195\u001B[0m     \u001B[38;5;28;01mraise\u001B[39;00m \u001B[38;5;167;01mValueError\u001B[39;00m(\u001B[38;5;124m\"\u001B[39m\u001B[38;5;124mInvalid value for justify parameter\u001B[39m\u001B[38;5;124m\"\u001B[39m)\n\u001B[0;32m-> 3197\u001B[0m formatter \u001B[38;5;241m=\u001B[39m \u001B[43mfmt\u001B[49m\u001B[38;5;241;43m.\u001B[39;49m\u001B[43mDataFrameFormatter\u001B[49m\u001B[43m(\u001B[49m\n\u001B[1;32m   3198\u001B[0m \u001B[43m    \u001B[49m\u001B[38;5;28;43mself\u001B[39;49m\u001B[43m,\u001B[49m\n\u001B[1;32m   3199\u001B[0m \u001B[43m    \u001B[49m\u001B[43mcolumns\u001B[49m\u001B[38;5;241;43m=\u001B[39;49m\u001B[43mcolumns\u001B[49m\u001B[43m,\u001B[49m\n\u001B[1;32m   3200\u001B[0m \u001B[43m    \u001B[49m\u001B[43mcol_space\u001B[49m\u001B[38;5;241;43m=\u001B[39;49m\u001B[43mcol_space\u001B[49m\u001B[43m,\u001B[49m\n\u001B[1;32m   3201\u001B[0m \u001B[43m    \u001B[49m\u001B[43mna_rep\u001B[49m\u001B[38;5;241;43m=\u001B[39;49m\u001B[43mna_rep\u001B[49m\u001B[43m,\u001B[49m\n\u001B[1;32m   3202\u001B[0m \u001B[43m    \u001B[49m\u001B[43mheader\u001B[49m\u001B[38;5;241;43m=\u001B[39;49m\u001B[43mheader\u001B[49m\u001B[43m,\u001B[49m\n\u001B[1;32m   3203\u001B[0m \u001B[43m    \u001B[49m\u001B[43mindex\u001B[49m\u001B[38;5;241;43m=\u001B[39;49m\u001B[43mindex\u001B[49m\u001B[43m,\u001B[49m\n\u001B[1;32m   3204\u001B[0m \u001B[43m    \u001B[49m\u001B[43mformatters\u001B[49m\u001B[38;5;241;43m=\u001B[39;49m\u001B[43mformatters\u001B[49m\u001B[43m,\u001B[49m\n\u001B[1;32m   3205\u001B[0m \u001B[43m    \u001B[49m\u001B[43mfloat_format\u001B[49m\u001B[38;5;241;43m=\u001B[39;49m\u001B[43mfloat_format\u001B[49m\u001B[43m,\u001B[49m\n\u001B[1;32m   3206\u001B[0m \u001B[43m    \u001B[49m\u001B[43mbold_rows\u001B[49m\u001B[38;5;241;43m=\u001B[39;49m\u001B[43mbold_rows\u001B[49m\u001B[43m,\u001B[49m\n\u001B[1;32m   3207\u001B[0m \u001B[43m    \u001B[49m\u001B[43msparsify\u001B[49m\u001B[38;5;241;43m=\u001B[39;49m\u001B[43msparsify\u001B[49m\u001B[43m,\u001B[49m\n\u001B[1;32m   3208\u001B[0m \u001B[43m    \u001B[49m\u001B[43mjustify\u001B[49m\u001B[38;5;241;43m=\u001B[39;49m\u001B[43mjustify\u001B[49m\u001B[43m,\u001B[49m\n\u001B[1;32m   3209\u001B[0m \u001B[43m    \u001B[49m\u001B[43mindex_names\u001B[49m\u001B[38;5;241;43m=\u001B[39;49m\u001B[43mindex_names\u001B[49m\u001B[43m,\u001B[49m\n\u001B[1;32m   3210\u001B[0m \u001B[43m    \u001B[49m\u001B[43mescape\u001B[49m\u001B[38;5;241;43m=\u001B[39;49m\u001B[43mescape\u001B[49m\u001B[43m,\u001B[49m\n\u001B[1;32m   3211\u001B[0m \u001B[43m    \u001B[49m\u001B[43mdecimal\u001B[49m\u001B[38;5;241;43m=\u001B[39;49m\u001B[43mdecimal\u001B[49m\u001B[43m,\u001B[49m\n\u001B[1;32m   3212\u001B[0m \u001B[43m    \u001B[49m\u001B[43mmax_rows\u001B[49m\u001B[38;5;241;43m=\u001B[39;49m\u001B[43mmax_rows\u001B[49m\u001B[43m,\u001B[49m\n\u001B[1;32m   3213\u001B[0m \u001B[43m    \u001B[49m\u001B[43mmax_cols\u001B[49m\u001B[38;5;241;43m=\u001B[39;49m\u001B[43mmax_cols\u001B[49m\u001B[43m,\u001B[49m\n\u001B[1;32m   3214\u001B[0m \u001B[43m    \u001B[49m\u001B[43mshow_dimensions\u001B[49m\u001B[38;5;241;43m=\u001B[39;49m\u001B[43mshow_dimensions\u001B[49m\u001B[43m,\u001B[49m\n\u001B[1;32m   3215\u001B[0m \u001B[43m\u001B[49m\u001B[43m)\u001B[49m\n\u001B[1;32m   3216\u001B[0m \u001B[38;5;66;03m# TODO: a generic formatter wld b in DataFrameFormatter\u001B[39;00m\n\u001B[1;32m   3217\u001B[0m \u001B[38;5;28;01mreturn\u001B[39;00m fmt\u001B[38;5;241m.\u001B[39mDataFrameRenderer(formatter)\u001B[38;5;241m.\u001B[39mto_html(\n\u001B[1;32m   3218\u001B[0m     buf\u001B[38;5;241m=\u001B[39mbuf,\n\u001B[1;32m   3219\u001B[0m     classes\u001B[38;5;241m=\u001B[39mclasses,\n\u001B[0;32m   (...)\u001B[0m\n\u001B[1;32m   3224\u001B[0m     render_links\u001B[38;5;241m=\u001B[39mrender_links,\n\u001B[1;32m   3225\u001B[0m )\n",
      "File \u001B[0;32m~/ogrsp_in_github/venv/lib/python3.10/site-packages/pandas/io/formats/format.py:588\u001B[0m, in \u001B[0;36mDataFrameFormatter.__init__\u001B[0;34m(self, frame, columns, col_space, header, index, na_rep, formatters, justify, float_format, sparsify, index_names, max_rows, min_rows, max_cols, show_dimensions, decimal, bold_rows, escape)\u001B[0m\n\u001B[1;32m    566\u001B[0m \u001B[38;5;28;01mdef\u001B[39;00m \u001B[38;5;21m__init__\u001B[39m(\n\u001B[1;32m    567\u001B[0m     \u001B[38;5;28mself\u001B[39m,\n\u001B[1;32m    568\u001B[0m     frame: DataFrame,\n\u001B[0;32m   (...)\u001B[0m\n\u001B[1;32m    585\u001B[0m     escape: \u001B[38;5;28mbool\u001B[39m \u001B[38;5;241m=\u001B[39m \u001B[38;5;28;01mTrue\u001B[39;00m,\n\u001B[1;32m    586\u001B[0m ) \u001B[38;5;241m-\u001B[39m\u001B[38;5;241m>\u001B[39m \u001B[38;5;28;01mNone\u001B[39;00m:\n\u001B[1;32m    587\u001B[0m     \u001B[38;5;28mself\u001B[39m\u001B[38;5;241m.\u001B[39mframe \u001B[38;5;241m=\u001B[39m frame\n\u001B[0;32m--> 588\u001B[0m     \u001B[38;5;28mself\u001B[39m\u001B[38;5;241m.\u001B[39mcolumns \u001B[38;5;241m=\u001B[39m \u001B[38;5;28;43mself\u001B[39;49m\u001B[38;5;241;43m.\u001B[39;49m\u001B[43m_initialize_columns\u001B[49m\u001B[43m(\u001B[49m\u001B[43mcolumns\u001B[49m\u001B[43m)\u001B[49m\n\u001B[1;32m    589\u001B[0m     \u001B[38;5;28mself\u001B[39m\u001B[38;5;241m.\u001B[39mcol_space \u001B[38;5;241m=\u001B[39m \u001B[38;5;28mself\u001B[39m\u001B[38;5;241m.\u001B[39m_initialize_colspace(col_space)\n\u001B[1;32m    590\u001B[0m     \u001B[38;5;28mself\u001B[39m\u001B[38;5;241m.\u001B[39mheader \u001B[38;5;241m=\u001B[39m header\n",
      "File \u001B[0;32m~/ogrsp_in_github/venv/lib/python3.10/site-packages/pandas/io/formats/format.py:696\u001B[0m, in \u001B[0;36mDataFrameFormatter._initialize_columns\u001B[0;34m(self, columns)\u001B[0m\n\u001B[1;32m    692\u001B[0m \u001B[38;5;28;01mif\u001B[39;00m columns \u001B[38;5;129;01mis\u001B[39;00m \u001B[38;5;129;01mnot\u001B[39;00m \u001B[38;5;28;01mNone\u001B[39;00m:\n\u001B[1;32m    693\u001B[0m     \u001B[38;5;66;03m# GH 47231 - columns doesn't have to be `Sequence[str]`\u001B[39;00m\n\u001B[1;32m    694\u001B[0m     \u001B[38;5;66;03m# Will fix in later PR\u001B[39;00m\n\u001B[1;32m    695\u001B[0m     cols \u001B[38;5;241m=\u001B[39m ensure_index(cast(Axes, columns))\n\u001B[0;32m--> 696\u001B[0m     \u001B[38;5;28mself\u001B[39m\u001B[38;5;241m.\u001B[39mframe \u001B[38;5;241m=\u001B[39m \u001B[38;5;28;43mself\u001B[39;49m\u001B[38;5;241;43m.\u001B[39;49m\u001B[43mframe\u001B[49m\u001B[43m[\u001B[49m\u001B[43mcols\u001B[49m\u001B[43m]\u001B[49m\n\u001B[1;32m    697\u001B[0m     \u001B[38;5;28;01mreturn\u001B[39;00m cols\n\u001B[1;32m    698\u001B[0m \u001B[38;5;28;01melse\u001B[39;00m:\n",
      "File \u001B[0;32m~/ogrsp_in_github/venv/lib/python3.10/site-packages/pandas/core/frame.py:3811\u001B[0m, in \u001B[0;36mDataFrame.__getitem__\u001B[0;34m(self, key)\u001B[0m\n\u001B[1;32m   3809\u001B[0m     \u001B[38;5;28;01mif\u001B[39;00m is_iterator(key):\n\u001B[1;32m   3810\u001B[0m         key \u001B[38;5;241m=\u001B[39m \u001B[38;5;28mlist\u001B[39m(key)\n\u001B[0;32m-> 3811\u001B[0m     indexer \u001B[38;5;241m=\u001B[39m \u001B[38;5;28;43mself\u001B[39;49m\u001B[38;5;241;43m.\u001B[39;49m\u001B[43mcolumns\u001B[49m\u001B[38;5;241;43m.\u001B[39;49m\u001B[43m_get_indexer_strict\u001B[49m\u001B[43m(\u001B[49m\u001B[43mkey\u001B[49m\u001B[43m,\u001B[49m\u001B[43m \u001B[49m\u001B[38;5;124;43m\"\u001B[39;49m\u001B[38;5;124;43mcolumns\u001B[39;49m\u001B[38;5;124;43m\"\u001B[39;49m\u001B[43m)\u001B[49m[\u001B[38;5;241m1\u001B[39m]\n\u001B[1;32m   3813\u001B[0m \u001B[38;5;66;03m# take() does not accept boolean indexers\u001B[39;00m\n\u001B[1;32m   3814\u001B[0m \u001B[38;5;28;01mif\u001B[39;00m \u001B[38;5;28mgetattr\u001B[39m(indexer, \u001B[38;5;124m\"\u001B[39m\u001B[38;5;124mdtype\u001B[39m\u001B[38;5;124m\"\u001B[39m, \u001B[38;5;28;01mNone\u001B[39;00m) \u001B[38;5;241m==\u001B[39m \u001B[38;5;28mbool\u001B[39m:\n",
      "File \u001B[0;32m~/ogrsp_in_github/venv/lib/python3.10/site-packages/pandas/core/indexes/base.py:6113\u001B[0m, in \u001B[0;36mIndex._get_indexer_strict\u001B[0;34m(self, key, axis_name)\u001B[0m\n\u001B[1;32m   6110\u001B[0m \u001B[38;5;28;01melse\u001B[39;00m:\n\u001B[1;32m   6111\u001B[0m     keyarr, indexer, new_indexer \u001B[38;5;241m=\u001B[39m \u001B[38;5;28mself\u001B[39m\u001B[38;5;241m.\u001B[39m_reindex_non_unique(keyarr)\n\u001B[0;32m-> 6113\u001B[0m \u001B[38;5;28;43mself\u001B[39;49m\u001B[38;5;241;43m.\u001B[39;49m\u001B[43m_raise_if_missing\u001B[49m\u001B[43m(\u001B[49m\u001B[43mkeyarr\u001B[49m\u001B[43m,\u001B[49m\u001B[43m \u001B[49m\u001B[43mindexer\u001B[49m\u001B[43m,\u001B[49m\u001B[43m \u001B[49m\u001B[43maxis_name\u001B[49m\u001B[43m)\u001B[49m\n\u001B[1;32m   6115\u001B[0m keyarr \u001B[38;5;241m=\u001B[39m \u001B[38;5;28mself\u001B[39m\u001B[38;5;241m.\u001B[39mtake(indexer)\n\u001B[1;32m   6116\u001B[0m \u001B[38;5;28;01mif\u001B[39;00m \u001B[38;5;28misinstance\u001B[39m(key, Index):\n\u001B[1;32m   6117\u001B[0m     \u001B[38;5;66;03m# GH 42790 - Preserve name from an Index\u001B[39;00m\n",
      "File \u001B[0;32m~/ogrsp_in_github/venv/lib/python3.10/site-packages/pandas/core/indexes/base.py:6173\u001B[0m, in \u001B[0;36mIndex._raise_if_missing\u001B[0;34m(self, key, indexer, axis_name)\u001B[0m\n\u001B[1;32m   6171\u001B[0m     \u001B[38;5;28;01mif\u001B[39;00m use_interval_msg:\n\u001B[1;32m   6172\u001B[0m         key \u001B[38;5;241m=\u001B[39m \u001B[38;5;28mlist\u001B[39m(key)\n\u001B[0;32m-> 6173\u001B[0m     \u001B[38;5;28;01mraise\u001B[39;00m \u001B[38;5;167;01mKeyError\u001B[39;00m(\u001B[38;5;124mf\u001B[39m\u001B[38;5;124m\"\u001B[39m\u001B[38;5;124mNone of [\u001B[39m\u001B[38;5;132;01m{\u001B[39;00mkey\u001B[38;5;132;01m}\u001B[39;00m\u001B[38;5;124m] are in the [\u001B[39m\u001B[38;5;132;01m{\u001B[39;00maxis_name\u001B[38;5;132;01m}\u001B[39;00m\u001B[38;5;124m]\u001B[39m\u001B[38;5;124m\"\u001B[39m)\n\u001B[1;32m   6175\u001B[0m not_found \u001B[38;5;241m=\u001B[39m \u001B[38;5;28mlist\u001B[39m(ensure_index(key)[missing_mask\u001B[38;5;241m.\u001B[39mnonzero()[\u001B[38;5;241m0\u001B[39m]]\u001B[38;5;241m.\u001B[39munique())\n\u001B[1;32m   6176\u001B[0m \u001B[38;5;28;01mraise\u001B[39;00m \u001B[38;5;167;01mKeyError\u001B[39;00m(\u001B[38;5;124mf\u001B[39m\u001B[38;5;124m\"\u001B[39m\u001B[38;5;132;01m{\u001B[39;00mnot_found\u001B[38;5;132;01m}\u001B[39;00m\u001B[38;5;124m not in index\u001B[39m\u001B[38;5;124m\"\u001B[39m)\n",
      "\u001B[0;31mKeyError\u001B[0m: \"None of [Index(['peaks', 'centroids', 'rough_sums'], dtype='object')] are in the [columns]\""
     ]
    }
   ],
   "source": [
    "# 2022-Dez-28\n",
    "# Testes com conversão de pandas df .to_html\n",
    "# Teste 2: aplicando tags html:\n",
    "df_to_html_2 = ogra.a_spec.spec_pks_df.to_html(\n",
    "    columns=['peaks', 'centroids', 'rough_sums'],\n",
    "    formatters={\n",
    "        'peaks': lambda x: '<b>' + str(x) + '</b>',\n",
    "        'rough_sums': lambda x: '<i>' + str(x) + '</i>'}\n",
    ")\n",
    "df_to_html_2\n",
    "import IPython\n",
    "IPython.display.HTML(df_to_html_2)"
   ],
   "metadata": {
    "collapsed": false
   }
  },
  {
   "cell_type": "code",
   "execution_count": 50,
   "outputs": [
    {
     "ename": "KeyError",
     "evalue": "\"None of [Index(['peaks', 'centroids', 'rough_sums'], dtype='object')] are in the [columns]\"",
     "output_type": "error",
     "traceback": [
      "\u001B[0;31m---------------------------------------------------------------------------\u001B[0m",
      "\u001B[0;31mKeyError\u001B[0m                                  Traceback (most recent call last)",
      "Cell \u001B[0;32mIn [50], line 4\u001B[0m\n\u001B[1;32m      1\u001B[0m \u001B[38;5;66;03m# 2022-Dez-28\u001B[39;00m\n\u001B[1;32m      2\u001B[0m \u001B[38;5;66;03m# Testes com conversão de pandas df .to_html\u001B[39;00m\n\u001B[1;32m      3\u001B[0m \u001B[38;5;66;03m# Teste 3: aplicando float_formatters:\u001B[39;00m\n\u001B[0;32m----> 4\u001B[0m df_to_html \u001B[38;5;241m=\u001B[39m \u001B[43mogra\u001B[49m\u001B[38;5;241;43m.\u001B[39;49m\u001B[43ma_spec\u001B[49m\u001B[38;5;241;43m.\u001B[39;49m\u001B[43mspec_pks_df\u001B[49m\u001B[38;5;241;43m.\u001B[39;49m\u001B[43mto_html\u001B[49m\u001B[43m(\u001B[49m\n\u001B[1;32m      5\u001B[0m \u001B[43m    \u001B[49m\u001B[43mcolumns\u001B[49m\u001B[38;5;241;43m=\u001B[39;49m\u001B[43m[\u001B[49m\u001B[38;5;124;43m'\u001B[39;49m\u001B[38;5;124;43mpeaks\u001B[39;49m\u001B[38;5;124;43m'\u001B[39;49m\u001B[43m,\u001B[49m\u001B[43m \u001B[49m\u001B[38;5;124;43m'\u001B[39;49m\u001B[38;5;124;43mcentroids\u001B[39;49m\u001B[38;5;124;43m'\u001B[39;49m\u001B[43m,\u001B[49m\u001B[43m \u001B[49m\u001B[38;5;124;43m'\u001B[39;49m\u001B[38;5;124;43mrough_sums\u001B[39;49m\u001B[38;5;124;43m'\u001B[39;49m\u001B[43m]\u001B[49m\u001B[43m,\u001B[49m\n\u001B[1;32m      6\u001B[0m \u001B[43m    \u001B[49m\u001B[43mfloat_format\u001B[49m\u001B[38;5;241;43m=\u001B[39;49m\u001B[38;5;124;43m'\u001B[39;49m\u001B[38;5;132;43;01m{:.3f}\u001B[39;49;00m\u001B[38;5;124;43m'\u001B[39;49m\n\u001B[1;32m      7\u001B[0m \u001B[43m)\u001B[49m\n\u001B[1;32m      8\u001B[0m df_to_html\n",
      "File \u001B[0;32m~/ogrsp_in_github/venv/lib/python3.10/site-packages/pandas/core/frame.py:3197\u001B[0m, in \u001B[0;36mDataFrame.to_html\u001B[0;34m(self, buf, columns, col_space, header, index, na_rep, formatters, float_format, sparsify, index_names, justify, max_rows, max_cols, show_dimensions, decimal, bold_rows, classes, escape, notebook, border, table_id, render_links, encoding)\u001B[0m\n\u001B[1;32m   3194\u001B[0m \u001B[38;5;28;01mif\u001B[39;00m justify \u001B[38;5;129;01mis\u001B[39;00m \u001B[38;5;129;01mnot\u001B[39;00m \u001B[38;5;28;01mNone\u001B[39;00m \u001B[38;5;129;01mand\u001B[39;00m justify \u001B[38;5;129;01mnot\u001B[39;00m \u001B[38;5;129;01min\u001B[39;00m fmt\u001B[38;5;241m.\u001B[39m_VALID_JUSTIFY_PARAMETERS:\n\u001B[1;32m   3195\u001B[0m     \u001B[38;5;28;01mraise\u001B[39;00m \u001B[38;5;167;01mValueError\u001B[39;00m(\u001B[38;5;124m\"\u001B[39m\u001B[38;5;124mInvalid value for justify parameter\u001B[39m\u001B[38;5;124m\"\u001B[39m)\n\u001B[0;32m-> 3197\u001B[0m formatter \u001B[38;5;241m=\u001B[39m \u001B[43mfmt\u001B[49m\u001B[38;5;241;43m.\u001B[39;49m\u001B[43mDataFrameFormatter\u001B[49m\u001B[43m(\u001B[49m\n\u001B[1;32m   3198\u001B[0m \u001B[43m    \u001B[49m\u001B[38;5;28;43mself\u001B[39;49m\u001B[43m,\u001B[49m\n\u001B[1;32m   3199\u001B[0m \u001B[43m    \u001B[49m\u001B[43mcolumns\u001B[49m\u001B[38;5;241;43m=\u001B[39;49m\u001B[43mcolumns\u001B[49m\u001B[43m,\u001B[49m\n\u001B[1;32m   3200\u001B[0m \u001B[43m    \u001B[49m\u001B[43mcol_space\u001B[49m\u001B[38;5;241;43m=\u001B[39;49m\u001B[43mcol_space\u001B[49m\u001B[43m,\u001B[49m\n\u001B[1;32m   3201\u001B[0m \u001B[43m    \u001B[49m\u001B[43mna_rep\u001B[49m\u001B[38;5;241;43m=\u001B[39;49m\u001B[43mna_rep\u001B[49m\u001B[43m,\u001B[49m\n\u001B[1;32m   3202\u001B[0m \u001B[43m    \u001B[49m\u001B[43mheader\u001B[49m\u001B[38;5;241;43m=\u001B[39;49m\u001B[43mheader\u001B[49m\u001B[43m,\u001B[49m\n\u001B[1;32m   3203\u001B[0m \u001B[43m    \u001B[49m\u001B[43mindex\u001B[49m\u001B[38;5;241;43m=\u001B[39;49m\u001B[43mindex\u001B[49m\u001B[43m,\u001B[49m\n\u001B[1;32m   3204\u001B[0m \u001B[43m    \u001B[49m\u001B[43mformatters\u001B[49m\u001B[38;5;241;43m=\u001B[39;49m\u001B[43mformatters\u001B[49m\u001B[43m,\u001B[49m\n\u001B[1;32m   3205\u001B[0m \u001B[43m    \u001B[49m\u001B[43mfloat_format\u001B[49m\u001B[38;5;241;43m=\u001B[39;49m\u001B[43mfloat_format\u001B[49m\u001B[43m,\u001B[49m\n\u001B[1;32m   3206\u001B[0m \u001B[43m    \u001B[49m\u001B[43mbold_rows\u001B[49m\u001B[38;5;241;43m=\u001B[39;49m\u001B[43mbold_rows\u001B[49m\u001B[43m,\u001B[49m\n\u001B[1;32m   3207\u001B[0m \u001B[43m    \u001B[49m\u001B[43msparsify\u001B[49m\u001B[38;5;241;43m=\u001B[39;49m\u001B[43msparsify\u001B[49m\u001B[43m,\u001B[49m\n\u001B[1;32m   3208\u001B[0m \u001B[43m    \u001B[49m\u001B[43mjustify\u001B[49m\u001B[38;5;241;43m=\u001B[39;49m\u001B[43mjustify\u001B[49m\u001B[43m,\u001B[49m\n\u001B[1;32m   3209\u001B[0m \u001B[43m    \u001B[49m\u001B[43mindex_names\u001B[49m\u001B[38;5;241;43m=\u001B[39;49m\u001B[43mindex_names\u001B[49m\u001B[43m,\u001B[49m\n\u001B[1;32m   3210\u001B[0m \u001B[43m    \u001B[49m\u001B[43mescape\u001B[49m\u001B[38;5;241;43m=\u001B[39;49m\u001B[43mescape\u001B[49m\u001B[43m,\u001B[49m\n\u001B[1;32m   3211\u001B[0m \u001B[43m    \u001B[49m\u001B[43mdecimal\u001B[49m\u001B[38;5;241;43m=\u001B[39;49m\u001B[43mdecimal\u001B[49m\u001B[43m,\u001B[49m\n\u001B[1;32m   3212\u001B[0m \u001B[43m    \u001B[49m\u001B[43mmax_rows\u001B[49m\u001B[38;5;241;43m=\u001B[39;49m\u001B[43mmax_rows\u001B[49m\u001B[43m,\u001B[49m\n\u001B[1;32m   3213\u001B[0m \u001B[43m    \u001B[49m\u001B[43mmax_cols\u001B[49m\u001B[38;5;241;43m=\u001B[39;49m\u001B[43mmax_cols\u001B[49m\u001B[43m,\u001B[49m\n\u001B[1;32m   3214\u001B[0m \u001B[43m    \u001B[49m\u001B[43mshow_dimensions\u001B[49m\u001B[38;5;241;43m=\u001B[39;49m\u001B[43mshow_dimensions\u001B[49m\u001B[43m,\u001B[49m\n\u001B[1;32m   3215\u001B[0m \u001B[43m\u001B[49m\u001B[43m)\u001B[49m\n\u001B[1;32m   3216\u001B[0m \u001B[38;5;66;03m# TODO: a generic formatter wld b in DataFrameFormatter\u001B[39;00m\n\u001B[1;32m   3217\u001B[0m \u001B[38;5;28;01mreturn\u001B[39;00m fmt\u001B[38;5;241m.\u001B[39mDataFrameRenderer(formatter)\u001B[38;5;241m.\u001B[39mto_html(\n\u001B[1;32m   3218\u001B[0m     buf\u001B[38;5;241m=\u001B[39mbuf,\n\u001B[1;32m   3219\u001B[0m     classes\u001B[38;5;241m=\u001B[39mclasses,\n\u001B[0;32m   (...)\u001B[0m\n\u001B[1;32m   3224\u001B[0m     render_links\u001B[38;5;241m=\u001B[39mrender_links,\n\u001B[1;32m   3225\u001B[0m )\n",
      "File \u001B[0;32m~/ogrsp_in_github/venv/lib/python3.10/site-packages/pandas/io/formats/format.py:588\u001B[0m, in \u001B[0;36mDataFrameFormatter.__init__\u001B[0;34m(self, frame, columns, col_space, header, index, na_rep, formatters, justify, float_format, sparsify, index_names, max_rows, min_rows, max_cols, show_dimensions, decimal, bold_rows, escape)\u001B[0m\n\u001B[1;32m    566\u001B[0m \u001B[38;5;28;01mdef\u001B[39;00m \u001B[38;5;21m__init__\u001B[39m(\n\u001B[1;32m    567\u001B[0m     \u001B[38;5;28mself\u001B[39m,\n\u001B[1;32m    568\u001B[0m     frame: DataFrame,\n\u001B[0;32m   (...)\u001B[0m\n\u001B[1;32m    585\u001B[0m     escape: \u001B[38;5;28mbool\u001B[39m \u001B[38;5;241m=\u001B[39m \u001B[38;5;28;01mTrue\u001B[39;00m,\n\u001B[1;32m    586\u001B[0m ) \u001B[38;5;241m-\u001B[39m\u001B[38;5;241m>\u001B[39m \u001B[38;5;28;01mNone\u001B[39;00m:\n\u001B[1;32m    587\u001B[0m     \u001B[38;5;28mself\u001B[39m\u001B[38;5;241m.\u001B[39mframe \u001B[38;5;241m=\u001B[39m frame\n\u001B[0;32m--> 588\u001B[0m     \u001B[38;5;28mself\u001B[39m\u001B[38;5;241m.\u001B[39mcolumns \u001B[38;5;241m=\u001B[39m \u001B[38;5;28;43mself\u001B[39;49m\u001B[38;5;241;43m.\u001B[39;49m\u001B[43m_initialize_columns\u001B[49m\u001B[43m(\u001B[49m\u001B[43mcolumns\u001B[49m\u001B[43m)\u001B[49m\n\u001B[1;32m    589\u001B[0m     \u001B[38;5;28mself\u001B[39m\u001B[38;5;241m.\u001B[39mcol_space \u001B[38;5;241m=\u001B[39m \u001B[38;5;28mself\u001B[39m\u001B[38;5;241m.\u001B[39m_initialize_colspace(col_space)\n\u001B[1;32m    590\u001B[0m     \u001B[38;5;28mself\u001B[39m\u001B[38;5;241m.\u001B[39mheader \u001B[38;5;241m=\u001B[39m header\n",
      "File \u001B[0;32m~/ogrsp_in_github/venv/lib/python3.10/site-packages/pandas/io/formats/format.py:696\u001B[0m, in \u001B[0;36mDataFrameFormatter._initialize_columns\u001B[0;34m(self, columns)\u001B[0m\n\u001B[1;32m    692\u001B[0m \u001B[38;5;28;01mif\u001B[39;00m columns \u001B[38;5;129;01mis\u001B[39;00m \u001B[38;5;129;01mnot\u001B[39;00m \u001B[38;5;28;01mNone\u001B[39;00m:\n\u001B[1;32m    693\u001B[0m     \u001B[38;5;66;03m# GH 47231 - columns doesn't have to be `Sequence[str]`\u001B[39;00m\n\u001B[1;32m    694\u001B[0m     \u001B[38;5;66;03m# Will fix in later PR\u001B[39;00m\n\u001B[1;32m    695\u001B[0m     cols \u001B[38;5;241m=\u001B[39m ensure_index(cast(Axes, columns))\n\u001B[0;32m--> 696\u001B[0m     \u001B[38;5;28mself\u001B[39m\u001B[38;5;241m.\u001B[39mframe \u001B[38;5;241m=\u001B[39m \u001B[38;5;28;43mself\u001B[39;49m\u001B[38;5;241;43m.\u001B[39;49m\u001B[43mframe\u001B[49m\u001B[43m[\u001B[49m\u001B[43mcols\u001B[49m\u001B[43m]\u001B[49m\n\u001B[1;32m    697\u001B[0m     \u001B[38;5;28;01mreturn\u001B[39;00m cols\n\u001B[1;32m    698\u001B[0m \u001B[38;5;28;01melse\u001B[39;00m:\n",
      "File \u001B[0;32m~/ogrsp_in_github/venv/lib/python3.10/site-packages/pandas/core/frame.py:3811\u001B[0m, in \u001B[0;36mDataFrame.__getitem__\u001B[0;34m(self, key)\u001B[0m\n\u001B[1;32m   3809\u001B[0m     \u001B[38;5;28;01mif\u001B[39;00m is_iterator(key):\n\u001B[1;32m   3810\u001B[0m         key \u001B[38;5;241m=\u001B[39m \u001B[38;5;28mlist\u001B[39m(key)\n\u001B[0;32m-> 3811\u001B[0m     indexer \u001B[38;5;241m=\u001B[39m \u001B[38;5;28;43mself\u001B[39;49m\u001B[38;5;241;43m.\u001B[39;49m\u001B[43mcolumns\u001B[49m\u001B[38;5;241;43m.\u001B[39;49m\u001B[43m_get_indexer_strict\u001B[49m\u001B[43m(\u001B[49m\u001B[43mkey\u001B[49m\u001B[43m,\u001B[49m\u001B[43m \u001B[49m\u001B[38;5;124;43m\"\u001B[39;49m\u001B[38;5;124;43mcolumns\u001B[39;49m\u001B[38;5;124;43m\"\u001B[39;49m\u001B[43m)\u001B[49m[\u001B[38;5;241m1\u001B[39m]\n\u001B[1;32m   3813\u001B[0m \u001B[38;5;66;03m# take() does not accept boolean indexers\u001B[39;00m\n\u001B[1;32m   3814\u001B[0m \u001B[38;5;28;01mif\u001B[39;00m \u001B[38;5;28mgetattr\u001B[39m(indexer, \u001B[38;5;124m\"\u001B[39m\u001B[38;5;124mdtype\u001B[39m\u001B[38;5;124m\"\u001B[39m, \u001B[38;5;28;01mNone\u001B[39;00m) \u001B[38;5;241m==\u001B[39m \u001B[38;5;28mbool\u001B[39m:\n",
      "File \u001B[0;32m~/ogrsp_in_github/venv/lib/python3.10/site-packages/pandas/core/indexes/base.py:6113\u001B[0m, in \u001B[0;36mIndex._get_indexer_strict\u001B[0;34m(self, key, axis_name)\u001B[0m\n\u001B[1;32m   6110\u001B[0m \u001B[38;5;28;01melse\u001B[39;00m:\n\u001B[1;32m   6111\u001B[0m     keyarr, indexer, new_indexer \u001B[38;5;241m=\u001B[39m \u001B[38;5;28mself\u001B[39m\u001B[38;5;241m.\u001B[39m_reindex_non_unique(keyarr)\n\u001B[0;32m-> 6113\u001B[0m \u001B[38;5;28;43mself\u001B[39;49m\u001B[38;5;241;43m.\u001B[39;49m\u001B[43m_raise_if_missing\u001B[49m\u001B[43m(\u001B[49m\u001B[43mkeyarr\u001B[49m\u001B[43m,\u001B[49m\u001B[43m \u001B[49m\u001B[43mindexer\u001B[49m\u001B[43m,\u001B[49m\u001B[43m \u001B[49m\u001B[43maxis_name\u001B[49m\u001B[43m)\u001B[49m\n\u001B[1;32m   6115\u001B[0m keyarr \u001B[38;5;241m=\u001B[39m \u001B[38;5;28mself\u001B[39m\u001B[38;5;241m.\u001B[39mtake(indexer)\n\u001B[1;32m   6116\u001B[0m \u001B[38;5;28;01mif\u001B[39;00m \u001B[38;5;28misinstance\u001B[39m(key, Index):\n\u001B[1;32m   6117\u001B[0m     \u001B[38;5;66;03m# GH 42790 - Preserve name from an Index\u001B[39;00m\n",
      "File \u001B[0;32m~/ogrsp_in_github/venv/lib/python3.10/site-packages/pandas/core/indexes/base.py:6173\u001B[0m, in \u001B[0;36mIndex._raise_if_missing\u001B[0;34m(self, key, indexer, axis_name)\u001B[0m\n\u001B[1;32m   6171\u001B[0m     \u001B[38;5;28;01mif\u001B[39;00m use_interval_msg:\n\u001B[1;32m   6172\u001B[0m         key \u001B[38;5;241m=\u001B[39m \u001B[38;5;28mlist\u001B[39m(key)\n\u001B[0;32m-> 6173\u001B[0m     \u001B[38;5;28;01mraise\u001B[39;00m \u001B[38;5;167;01mKeyError\u001B[39;00m(\u001B[38;5;124mf\u001B[39m\u001B[38;5;124m\"\u001B[39m\u001B[38;5;124mNone of [\u001B[39m\u001B[38;5;132;01m{\u001B[39;00mkey\u001B[38;5;132;01m}\u001B[39;00m\u001B[38;5;124m] are in the [\u001B[39m\u001B[38;5;132;01m{\u001B[39;00maxis_name\u001B[38;5;132;01m}\u001B[39;00m\u001B[38;5;124m]\u001B[39m\u001B[38;5;124m\"\u001B[39m)\n\u001B[1;32m   6175\u001B[0m not_found \u001B[38;5;241m=\u001B[39m \u001B[38;5;28mlist\u001B[39m(ensure_index(key)[missing_mask\u001B[38;5;241m.\u001B[39mnonzero()[\u001B[38;5;241m0\u001B[39m]]\u001B[38;5;241m.\u001B[39munique())\n\u001B[1;32m   6176\u001B[0m \u001B[38;5;28;01mraise\u001B[39;00m \u001B[38;5;167;01mKeyError\u001B[39;00m(\u001B[38;5;124mf\u001B[39m\u001B[38;5;124m\"\u001B[39m\u001B[38;5;132;01m{\u001B[39;00mnot_found\u001B[38;5;132;01m}\u001B[39;00m\u001B[38;5;124m not in index\u001B[39m\u001B[38;5;124m\"\u001B[39m)\n",
      "\u001B[0;31mKeyError\u001B[0m: \"None of [Index(['peaks', 'centroids', 'rough_sums'], dtype='object')] are in the [columns]\""
     ]
    }
   ],
   "source": [
    "# 2022-Dez-28\n",
    "# Testes com conversão de pandas df .to_html\n",
    "# Teste 3: aplicando float_formatters:\n",
    "df_to_html = ogra.a_spec.spec_pks_df.to_html(\n",
    "    columns=['peaks', 'centroids', 'rough_sums'],\n",
    "    float_format='{:.3f}'\n",
    ")\n",
    "df_to_html"
   ],
   "metadata": {
    "collapsed": false
   }
  },
  {
   "cell_type": "code",
   "execution_count": 51,
   "outputs": [],
   "source": [
    "# Teste com aquivo exmplo"
   ],
   "metadata": {
    "collapsed": false
   }
  },
  {
   "cell_type": "code",
   "execution_count": 52,
   "outputs": [
    {
     "data": {
      "text/plain": "<pandas.io.formats.style.Styler at 0x7fc9f7d3b0a0>",
      "text/html": "<style type=\"text/css\">\n</style>\n<table id=\"T_3cd43\">\n  <thead>\n    <tr>\n      <th class=\"index_name level0\" >Model:</th>\n      <th id=\"T_3cd43_level0_col0\" class=\"col_heading level0 col0\" colspan=\"2\">Decision Tree</th>\n      <th id=\"T_3cd43_level0_col2\" class=\"col_heading level0 col2\" colspan=\"2\">Regression</th>\n      <th id=\"T_3cd43_level0_col4\" class=\"col_heading level0 col4\" colspan=\"2\">Random</th>\n    </tr>\n    <tr>\n      <th class=\"index_name level1\" >Predicted:</th>\n      <th id=\"T_3cd43_level1_col0\" class=\"col_heading level1 col0\" >Tumour</th>\n      <th id=\"T_3cd43_level1_col1\" class=\"col_heading level1 col1\" >Non-Tumour</th>\n      <th id=\"T_3cd43_level1_col2\" class=\"col_heading level1 col2\" >Tumour</th>\n      <th id=\"T_3cd43_level1_col3\" class=\"col_heading level1 col3\" >Non-Tumour</th>\n      <th id=\"T_3cd43_level1_col4\" class=\"col_heading level1 col4\" >Tumour</th>\n      <th id=\"T_3cd43_level1_col5\" class=\"col_heading level1 col5\" >Non-Tumour</th>\n    </tr>\n    <tr>\n      <th class=\"index_name level0\" >Actual Label:</th>\n      <th class=\"blank col0\" >&nbsp;</th>\n      <th class=\"blank col1\" >&nbsp;</th>\n      <th class=\"blank col2\" >&nbsp;</th>\n      <th class=\"blank col3\" >&nbsp;</th>\n      <th class=\"blank col4\" >&nbsp;</th>\n      <th class=\"blank col5\" >&nbsp;</th>\n    </tr>\n  </thead>\n  <tbody>\n    <tr>\n      <th id=\"T_3cd43_level0_row0\" class=\"row_heading level0 row0\" >Tumour (Positive)</th>\n      <td id=\"T_3cd43_row0_col0\" class=\"data row0 col0\" >38.00</td>\n      <td id=\"T_3cd43_row0_col1\" class=\"data row0 col1\" >2</td>\n      <td id=\"T_3cd43_row0_col2\" class=\"data row0 col2\" >18</td>\n      <td id=\"T_3cd43_row0_col3\" class=\"data row0 col3\" >$ -22 000 000.0</td>\n      <td id=\"T_3cd43_row0_col4\" class=\"data row0 col4\" >21</td>\n      <td id=\"T_3cd43_row0_col5\" class=\"data row0 col5\" >MISSING</td>\n    </tr>\n    <tr>\n      <th id=\"T_3cd43_level0_row1\" class=\"row_heading level0 row1\" >Non-Tumour (Negative)</th>\n      <td id=\"T_3cd43_row1_col0\" class=\"data row1 col0\" >19.00</td>\n      <td id=\"T_3cd43_row1_col1\" class=\"data row1 col1\" >439</td>\n      <td id=\"T_3cd43_row1_col2\" class=\"data row1 col2\" >6</td>\n      <td id=\"T_3cd43_row1_col3\" class=\"data row1 col3\" >$ -452 000 000.0</td>\n      <td id=\"T_3cd43_row1_col4\" class=\"data row1 col4\" >226</td>\n      <td id=\"T_3cd43_row1_col5\" class=\"data row1 col5\" >232</td>\n    </tr>\n  </tbody>\n</table>\n"
     },
     "execution_count": 52,
     "metadata": {},
     "output_type": "execute_result"
    }
   ],
   "source": [
    "df = pd.DataFrame([[38.0, 2.0, 18.0, 22.0, 21, np.nan],[19, 439, 6, 452, 226,232]],\n",
    "                  index=pd.Index(['Tumour (Positive)', 'Non-Tumour (Negative)'], name='Actual Label:'),\n",
    "                  columns=pd.MultiIndex.from_product([['Decision Tree', 'Regression', 'Random'],['Tumour', 'Non-Tumour']], names=['Model:', 'Predicted:']))\n",
    "\n",
    "df.style.format(precision=0, na_rep='MISSING', thousands=\" \",\n",
    "                formatter={('Decision Tree', 'Tumour'): \"{:.2f}\",\n",
    "                           ('Regression', 'Non-Tumour'): lambda x: \"$ {:,.1f}\".format(x*-1e6)\n",
    "                           })"
   ],
   "metadata": {
    "collapsed": false
   }
  },
  {
   "cell_type": "code",
   "execution_count": 53,
   "outputs": [
    {
     "data": {
      "text/plain": "<pandas.io.formats.style.Styler at 0x7fc9f7d3bc70>",
      "text/html": "<style type=\"text/css\">\n</style>\n<table id=\"T_29ab8\">\n  <thead>\n  </thead>\n  <tbody>\n  </tbody>\n</table>\n"
     },
     "execution_count": 53,
     "metadata": {},
     "output_type": "execute_result"
    }
   ],
   "source": [
    "# Teste 3: usando Styles:\n",
    "my_df = ogra.a_spec.spec_pks_df\n",
    "my_df.style.format(na_rep='MISSING', thousands=\" \",\n",
    "                   formatter={('fwhm_centr', 'centroids'): \"{:.2f}\"})"
   ],
   "metadata": {
    "collapsed": false
   }
  },
  {
   "cell_type": "code",
   "execution_count": 54,
   "outputs": [],
   "source": [
    "ch_en = ogra.a_spec.channel_energy_calib.p_en"
   ],
   "metadata": {
    "collapsed": false
   }
  },
  {
   "cell_type": "code",
   "execution_count": 55,
   "outputs": [
    {
     "ename": "KeyError",
     "evalue": "'centroids'",
     "output_type": "error",
     "traceback": [
      "\u001B[0;31m---------------------------------------------------------------------------\u001B[0m",
      "\u001B[0;31mKeyError\u001B[0m                                  Traceback (most recent call last)",
      "File \u001B[0;32m~/ogrsp_in_github/venv/lib/python3.10/site-packages/pandas/core/indexes/base.py:3803\u001B[0m, in \u001B[0;36mIndex.get_loc\u001B[0;34m(self, key, method, tolerance)\u001B[0m\n\u001B[1;32m   3802\u001B[0m \u001B[38;5;28;01mtry\u001B[39;00m:\n\u001B[0;32m-> 3803\u001B[0m     \u001B[38;5;28;01mreturn\u001B[39;00m \u001B[38;5;28;43mself\u001B[39;49m\u001B[38;5;241;43m.\u001B[39;49m\u001B[43m_engine\u001B[49m\u001B[38;5;241;43m.\u001B[39;49m\u001B[43mget_loc\u001B[49m\u001B[43m(\u001B[49m\u001B[43mcasted_key\u001B[49m\u001B[43m)\u001B[49m\n\u001B[1;32m   3804\u001B[0m \u001B[38;5;28;01mexcept\u001B[39;00m \u001B[38;5;167;01mKeyError\u001B[39;00m \u001B[38;5;28;01mas\u001B[39;00m err:\n",
      "File \u001B[0;32m~/ogrsp_in_github/venv/lib/python3.10/site-packages/pandas/_libs/index.pyx:138\u001B[0m, in \u001B[0;36mpandas._libs.index.IndexEngine.get_loc\u001B[0;34m()\u001B[0m\n",
      "File \u001B[0;32m~/ogrsp_in_github/venv/lib/python3.10/site-packages/pandas/_libs/index.pyx:165\u001B[0m, in \u001B[0;36mpandas._libs.index.IndexEngine.get_loc\u001B[0;34m()\u001B[0m\n",
      "File \u001B[0;32mpandas/_libs/hashtable_class_helper.pxi:5745\u001B[0m, in \u001B[0;36mpandas._libs.hashtable.PyObjectHashTable.get_item\u001B[0;34m()\u001B[0m\n",
      "File \u001B[0;32mpandas/_libs/hashtable_class_helper.pxi:5753\u001B[0m, in \u001B[0;36mpandas._libs.hashtable.PyObjectHashTable.get_item\u001B[0;34m()\u001B[0m\n",
      "\u001B[0;31mKeyError\u001B[0m: 'centroids'",
      "\nThe above exception was the direct cause of the following exception:\n",
      "\u001B[0;31mKeyError\u001B[0m                                  Traceback (most recent call last)",
      "Cell \u001B[0;32mIn [55], line 1\u001B[0m\n\u001B[0;32m----> 1\u001B[0m my_df[\u001B[38;5;124m'\u001B[39m\u001B[38;5;124mcentrs_en\u001B[39m\u001B[38;5;124m'\u001B[39m] \u001B[38;5;241m=\u001B[39m ch_en(\u001B[43mmy_df\u001B[49m\u001B[43m[\u001B[49m\u001B[38;5;124;43m'\u001B[39;49m\u001B[38;5;124;43mcentroids\u001B[39;49m\u001B[38;5;124;43m'\u001B[39;49m\u001B[43m]\u001B[49m)\n\u001B[1;32m      2\u001B[0m my_df\n",
      "File \u001B[0;32m~/ogrsp_in_github/venv/lib/python3.10/site-packages/pandas/core/frame.py:3805\u001B[0m, in \u001B[0;36mDataFrame.__getitem__\u001B[0;34m(self, key)\u001B[0m\n\u001B[1;32m   3803\u001B[0m \u001B[38;5;28;01mif\u001B[39;00m \u001B[38;5;28mself\u001B[39m\u001B[38;5;241m.\u001B[39mcolumns\u001B[38;5;241m.\u001B[39mnlevels \u001B[38;5;241m>\u001B[39m \u001B[38;5;241m1\u001B[39m:\n\u001B[1;32m   3804\u001B[0m     \u001B[38;5;28;01mreturn\u001B[39;00m \u001B[38;5;28mself\u001B[39m\u001B[38;5;241m.\u001B[39m_getitem_multilevel(key)\n\u001B[0;32m-> 3805\u001B[0m indexer \u001B[38;5;241m=\u001B[39m \u001B[38;5;28;43mself\u001B[39;49m\u001B[38;5;241;43m.\u001B[39;49m\u001B[43mcolumns\u001B[49m\u001B[38;5;241;43m.\u001B[39;49m\u001B[43mget_loc\u001B[49m\u001B[43m(\u001B[49m\u001B[43mkey\u001B[49m\u001B[43m)\u001B[49m\n\u001B[1;32m   3806\u001B[0m \u001B[38;5;28;01mif\u001B[39;00m is_integer(indexer):\n\u001B[1;32m   3807\u001B[0m     indexer \u001B[38;5;241m=\u001B[39m [indexer]\n",
      "File \u001B[0;32m~/ogrsp_in_github/venv/lib/python3.10/site-packages/pandas/core/indexes/base.py:3805\u001B[0m, in \u001B[0;36mIndex.get_loc\u001B[0;34m(self, key, method, tolerance)\u001B[0m\n\u001B[1;32m   3803\u001B[0m     \u001B[38;5;28;01mreturn\u001B[39;00m \u001B[38;5;28mself\u001B[39m\u001B[38;5;241m.\u001B[39m_engine\u001B[38;5;241m.\u001B[39mget_loc(casted_key)\n\u001B[1;32m   3804\u001B[0m \u001B[38;5;28;01mexcept\u001B[39;00m \u001B[38;5;167;01mKeyError\u001B[39;00m \u001B[38;5;28;01mas\u001B[39;00m err:\n\u001B[0;32m-> 3805\u001B[0m     \u001B[38;5;28;01mraise\u001B[39;00m \u001B[38;5;167;01mKeyError\u001B[39;00m(key) \u001B[38;5;28;01mfrom\u001B[39;00m \u001B[38;5;21;01merr\u001B[39;00m\n\u001B[1;32m   3806\u001B[0m \u001B[38;5;28;01mexcept\u001B[39;00m \u001B[38;5;167;01mTypeError\u001B[39;00m:\n\u001B[1;32m   3807\u001B[0m     \u001B[38;5;66;03m# If we have a listlike key, _check_indexing_error will raise\u001B[39;00m\n\u001B[1;32m   3808\u001B[0m     \u001B[38;5;66;03m#  InvalidIndexError. Otherwise we fall through and re-raise\u001B[39;00m\n\u001B[1;32m   3809\u001B[0m     \u001B[38;5;66;03m#  the TypeError.\u001B[39;00m\n\u001B[1;32m   3810\u001B[0m     \u001B[38;5;28mself\u001B[39m\u001B[38;5;241m.\u001B[39m_check_indexing_error(key)\n",
      "\u001B[0;31mKeyError\u001B[0m: 'centroids'"
     ]
    }
   ],
   "source": [
    "my_df['centrs_en'] = ch_en(my_df['centroids'])\n",
    "my_df"
   ],
   "metadata": {
    "collapsed": false
   }
  },
  {
   "cell_type": "code",
   "execution_count": 56,
   "outputs": [],
   "source": [
    "# 2022-Dez-21 Achar o pico de maior área inicial do espectro:"
   ],
   "metadata": {
    "collapsed": false
   }
  },
  {
   "cell_type": "code",
   "execution_count": 57,
   "outputs": [
    {
     "data": {
      "text/plain": "1926.274908054728"
     },
     "execution_count": 57,
     "metadata": {},
     "output_type": "execute_result"
    }
   ],
   "source": [
    "largest_pk = np.argmax(pkprms.rough_sums)\n",
    "pkprms.centroids[largest_pk]"
   ],
   "metadata": {
    "collapsed": false
   }
  },
  {
   "cell_type": "code",
   "execution_count": 58,
   "outputs": [
    {
     "data": {
      "text/plain": "3"
     },
     "execution_count": 58,
     "metadata": {},
     "output_type": "execute_result"
    }
   ],
   "source": [
    "# Só pra lembrar como faz divisão inteira\n",
    "21 // 7"
   ],
   "metadata": {
    "collapsed": false
   }
  },
  {
   "cell_type": "code",
   "execution_count": 59,
   "outputs": [
    {
     "ename": "NameError",
     "evalue": "name 'cntarr' is not defined",
     "output_type": "error",
     "traceback": [
      "\u001B[0;31m---------------------------------------------------------------------------\u001B[0m",
      "\u001B[0;31mNameError\u001B[0m                                 Traceback (most recent call last)",
      "Cell \u001B[0;32mIn [59], line 3\u001B[0m\n\u001B[1;32m      1\u001B[0m wi_re \u001B[38;5;241m=\u001B[39m pkprms\u001B[38;5;241m.\u001B[39mwide_regions[largest_pk]\n\u001B[1;32m      2\u001B[0m x \u001B[38;5;241m=\u001B[39m np\u001B[38;5;241m.\u001B[39mlinspace(wi_re[\u001B[38;5;241m0\u001B[39m], wi_re[\u001B[38;5;241m1\u001B[39m], num\u001B[38;5;241m=\u001B[39mwi_re[\u001B[38;5;241m1\u001B[39m]\u001B[38;5;241m-\u001B[39mwi_re[\u001B[38;5;241m0\u001B[39m]\u001B[38;5;241m+\u001B[39m\u001B[38;5;241m1\u001B[39m)\n\u001B[0;32m----> 3\u001B[0m y \u001B[38;5;241m=\u001B[39m \u001B[43mcntarr\u001B[49m[wi_re[\u001B[38;5;241m0\u001B[39m]:wi_re[\u001B[38;5;241m1\u001B[39m]\u001B[38;5;241m+\u001B[39m\u001B[38;5;241m1\u001B[39m]\n\u001B[1;32m      4\u001B[0m c1 \u001B[38;5;241m=\u001B[39m  pkprms\u001B[38;5;241m.\u001B[39mcentroids[largest_pk]\n\u001B[1;32m      5\u001B[0m s1 \u001B[38;5;241m=\u001B[39m pkprms\u001B[38;5;241m.\u001B[39mpropts[\u001B[38;5;124m'\u001B[39m\u001B[38;5;124mwidths\u001B[39m\u001B[38;5;124m'\u001B[39m][largest_pk]\u001B[38;5;241m*\u001B[39mpkprms\u001B[38;5;241m.\u001B[39mk_fwhm_to_sd\n",
      "\u001B[0;31mNameError\u001B[0m: name 'cntarr' is not defined"
     ]
    }
   ],
   "source": [
    "wi_re = pkprms.wide_regions[largest_pk]\n",
    "x = np.linspace(wi_re[0], wi_re[1], num=wi_re[1]-wi_re[0]+1)\n",
    "y = cntarr[wi_re[0]:wi_re[1]+1]\n",
    "c1 =  pkprms.centroids[largest_pk]\n",
    "s1 = pkprms.propts['widths'][largest_pk]*pkprms.k_fwhm_to_sd\n",
    "a1 = pkprms.rough_sums[largest_pk]\n",
    "# c2 = 313\n",
    "# s2 = 1.5\n",
    "# a2 = 400\n",
    "sste = 2.0"
   ],
   "metadata": {
    "collapsed": false
   }
  },
  {
   "cell_type": "code",
   "execution_count": 59,
   "outputs": [],
   "source": [],
   "metadata": {
    "collapsed": false
   }
  },
  {
   "cell_type": "code",
   "execution_count": 60,
   "outputs": [
    {
     "ename": "NameError",
     "evalue": "name 'c1' is not defined",
     "output_type": "error",
     "traceback": [
      "\u001B[0;31m---------------------------------------------------------------------------\u001B[0m",
      "\u001B[0;31mNameError\u001B[0m                                 Traceback (most recent call last)",
      "Cell \u001B[0;32mIn [60], line 13\u001B[0m\n\u001B[1;32m     11\u001B[0m gauss1 \u001B[38;5;241m=\u001B[39m GaussianModel(prefix\u001B[38;5;241m=\u001B[39m\u001B[38;5;124m'\u001B[39m\u001B[38;5;124mg1_\u001B[39m\u001B[38;5;124m'\u001B[39m)\n\u001B[1;32m     12\u001B[0m pars\u001B[38;5;241m.\u001B[39mupdate(gauss1\u001B[38;5;241m.\u001B[39mmake_params())\n\u001B[0;32m---> 13\u001B[0m pars[\u001B[38;5;124m'\u001B[39m\u001B[38;5;124mg1_center\u001B[39m\u001B[38;5;124m'\u001B[39m]\u001B[38;5;241m.\u001B[39mset(value\u001B[38;5;241m=\u001B[39m\u001B[43mc1\u001B[49m, \u001B[38;5;28mmin\u001B[39m\u001B[38;5;241m=\u001B[39mc1\u001B[38;5;241m-\u001B[39m\u001B[38;5;241m2\u001B[39m, \u001B[38;5;28mmax\u001B[39m\u001B[38;5;241m=\u001B[39mc1\u001B[38;5;241m+\u001B[39m\u001B[38;5;241m2\u001B[39m)\n\u001B[1;32m     14\u001B[0m pars[\u001B[38;5;124m'\u001B[39m\u001B[38;5;124mg1_sigma\u001B[39m\u001B[38;5;124m'\u001B[39m]\u001B[38;5;241m.\u001B[39mset(value\u001B[38;5;241m=\u001B[39ms1, \u001B[38;5;28mmin\u001B[39m\u001B[38;5;241m=\u001B[39m\u001B[38;5;241m0.5\u001B[39m, \u001B[38;5;28mmax\u001B[39m\u001B[38;5;241m=\u001B[39m\u001B[38;5;241m10\u001B[39m)\n\u001B[1;32m     15\u001B[0m pars[\u001B[38;5;124m'\u001B[39m\u001B[38;5;124mg1_amplitude\u001B[39m\u001B[38;5;124m'\u001B[39m]\u001B[38;5;241m.\u001B[39mset(value\u001B[38;5;241m=\u001B[39ma1, \u001B[38;5;28mmin\u001B[39m\u001B[38;5;241m=\u001B[39m\u001B[38;5;241m10\u001B[39m)\n",
      "\u001B[0;31mNameError\u001B[0m: name 'c1' is not defined"
     ]
    }
   ],
   "source": [
    "pars = Parameters()\n",
    "\n",
    "# line_mod = LinearModel(prefix='line_')\n",
    "# pars.update(line_mod.make_params())\n",
    "# pars['line_intercept'].set(value=200, min=50, max=400)\n",
    "# pars['line_slope'].set(value=0, min=-0.001, max=0.001)\n",
    "\n",
    "# exp_mod = ExponentialModel(prefix='exp_')\n",
    "# pars = exp_mod.guess(y, x=x)\n",
    "\n",
    "gauss1 = GaussianModel(prefix='g1_')\n",
    "pars.update(gauss1.make_params())\n",
    "pars['g1_center'].set(value=c1, min=c1-2, max=c1+2)\n",
    "pars['g1_sigma'].set(value=s1, min=0.5, max=10)\n",
    "pars['g1_amplitude'].set(value=a1, min=10)\n",
    "\n",
    "# mod = gauss1 + gauss2 + line_mod - step_mod\n",
    "# mod = gauss1 + gauss2 - step_mod\n",
    "mod = gauss1\n",
    "\n",
    "init = mod.eval(pars, x=x)\n",
    "out = mod.fit(y, pars, x=x)\n",
    "\n",
    "print(out.fit_report(min_correl=0.1))\n",
    "\n",
    "fig, axes = plt.subplots(1, 2, figsize=(20, 16))\n",
    "axes[0].set_yscale('log')\n",
    "axes[1].set_yscale('log')\n",
    "axes[0].set_ylim([10, 2.5e6])\n",
    "axes[1].set_ylim([10, 2.5e6])\n",
    "\n",
    "axes[0].plot(x, y, 'b')\n",
    "axes[0].plot(x, init, 'k--', label='initial fit')\n",
    "axes[0].plot(x, out.best_fit, 'r-', label='best fit')\n",
    "axes[0].legend(loc='best')\n",
    "\n",
    "comps = out.eval_components(x=x)\n",
    "axes[1].plot(x, y, 'b')\n",
    "axes[1].plot(x, comps['g1_'], 'g--', label='Gaussian component 1')\n",
    "# axes[1].plot(x, comps['g2_'], 'm--', label='Gaussian component 2')\n",
    "# axes[1].plot(x, comps['line_'], 'k--', label='Linear component')\n",
    "# axes[1].plot(x, -comps['step_'], 'r--', label='Step component')\n",
    "# axes[1].plot(x, comps['exp_'], 'k--', label='Exponential component')\n",
    "axes[1].legend(loc='best')\n",
    "\n",
    "# plt.show()\n",
    "# <end examples/doc_builtinmodels_nistgauss.py>"
   ],
   "metadata": {
    "collapsed": false
   }
  },
  {
   "cell_type": "code",
   "execution_count": 61,
   "outputs": [],
   "source": [
    "# 2023-Jan-3\n",
    "# Aqui finalizo este teste:\n",
    "# Dado um espectro, escolhi o pico mais proeminente do espectro\n",
    "# e fiz o ajuste gaussianco com lmfit\n",
    "# No caso, o pico tem área, centroide, SD e FWHM:\n",
    "# g1_amplitude:  5264.84728 +/- 85.1465566 (1.62%) (init = 5347.497)\n",
    "# g1_center:     1926.29564 +/- 0.02690572 (0.00%) (init = 1926.275)\n",
    "# g1_sigma:      1.44040103 +/- 0.02690060 (1.87%) (init = 1.418733)\n",
    "# g1_fwhm:       3.39188516 +/- 0.06334608 (1.87%) == '2.3548200*g1_sigma'\n",
    "# g1_height:     1458.18438 +/- 23.5824677 (1.62%) == '0.3989423*g1_amplitude/max(1e-15, g1_sigma)'\n",
    "\n",
    "# Comparando com saíuda do Genie:\n",
    "# canal (>0)    En:    FWHM (keV)    net area    net area unc   continuum\n",
    "# 1927.34      1173.47 2.04          5.40E+003   89.73          8.83E+002\n",
    "#"
   ],
   "metadata": {
    "collapsed": false
   }
  },
  {
   "cell_type": "code",
   "execution_count": 62,
   "outputs": [
    {
     "ename": "NameError",
     "evalue": "name 'out' is not defined",
     "output_type": "error",
     "traceback": [
      "\u001B[0;31m---------------------------------------------------------------------------\u001B[0m",
      "\u001B[0;31mNameError\u001B[0m                                 Traceback (most recent call last)",
      "Cell \u001B[0;32mIn [62], line 1\u001B[0m\n\u001B[0;32m----> 1\u001B[0m \u001B[43mout\u001B[49m\n",
      "\u001B[0;31mNameError\u001B[0m: name 'out' is not defined"
     ]
    }
   ],
   "source": [
    "out"
   ],
   "metadata": {
    "collapsed": false
   }
  },
  {
   "cell_type": "code",
   "execution_count": 63,
   "outputs": [
    {
     "ename": "NameError",
     "evalue": "name 'out' is not defined",
     "output_type": "error",
     "traceback": [
      "\u001B[0;31m---------------------------------------------------------------------------\u001B[0m",
      "\u001B[0;31mNameError\u001B[0m                                 Traceback (most recent call last)",
      "Cell \u001B[0;32mIn [63], line 1\u001B[0m\n\u001B[0;32m----> 1\u001B[0m \u001B[43mout\u001B[49m\u001B[38;5;241m.\u001B[39mparams\n",
      "\u001B[0;31mNameError\u001B[0m: name 'out' is not defined"
     ]
    }
   ],
   "source": [
    "out.params"
   ],
   "metadata": {
    "collapsed": false
   }
  },
  {
   "cell_type": "code",
   "execution_count": null,
   "outputs": [],
   "source": [
    "out.var_names"
   ],
   "metadata": {
    "collapsed": false
   }
  },
  {
   "cell_type": "code",
   "execution_count": null,
   "outputs": [],
   "source": [
    "out.params.items()"
   ],
   "metadata": {
    "collapsed": false
   }
  },
  {
   "cell_type": "code",
   "execution_count": null,
   "outputs": [],
   "source": [
    "out.params.pretty_print()"
   ],
   "metadata": {
    "collapsed": false
   }
  },
  {
   "cell_type": "code",
   "execution_count": null,
   "outputs": [],
   "source": [
    "print('-------------------------------')\n",
    "print('Parameter    Value       Stderr')\n",
    "for name, param in out.params.items():\n",
    "    # print(f'{name:7s} {param.value:11.5f} {param.stderr:11.5f}')\n",
    "    print(name)\n",
    "    print(param)\n",
    "    print(param.value)"
   ],
   "metadata": {
    "collapsed": false
   }
  },
  {
   "cell_type": "code",
   "execution_count": null,
   "outputs": [],
   "source": [],
   "metadata": {
    "collapsed": false
   }
  },
  {
   "cell_type": "code",
   "execution_count": null,
   "outputs": [],
   "source": [
    "def gauss_lmfit_singlet(pkprms, ipk):\n",
    "    wi_re = pkprms.wide_regions[ipk]\n",
    "    print(f'pico: {wi_re}')\n",
    "    x = np.linspace(wi_re[0], wi_re[1], num=wi_re[1]-wi_re[0]+1)\n",
    "    y = cntarr[wi_re[0]:wi_re[1]+1]\n",
    "    c1 = pkprms.centroids[ipk]\n",
    "    s1 = pkprms.propts['widths'][ipk]*pkprms.k_fwhm_to_sd\n",
    "    a1 = pkprms.rough_sums[ipk]\n",
    "\n",
    "    parames = Parameters()\n",
    "\n",
    "    gauss1 = GaussianModel(prefix='g1_')\n",
    "    parames.update(gauss1.make_params())\n",
    "    parames['g1_center'].set(value=c1, min=c1-2, max=c1+2)\n",
    "    parames['g1_sigma'].set(value=s1, min=0.5, max=10)\n",
    "    parames['g1_amplitude'].set(value=a1, min=10)\n",
    "\n",
    "    mod = gauss1\n",
    "\n",
    "    init = mod.eval(parames, x=x)\n",
    "    out = mod.fit(y, parames, x=x, verbose=False)\n",
    "    print('Fez.')\n",
    "\n",
    "    # ret = [param for param in out.params.items()]\n",
    "    ret = out\n",
    "    return ret"
   ],
   "metadata": {
    "collapsed": false
   }
  },
  {
   "cell_type": "code",
   "execution_count": null,
   "outputs": [],
   "source": [
    "for ipk in range(len(pkprms.peaks)):\n",
    "    ret = gauss_lmfit_singlet(pkprms, ipk)\n",
    "    print(ret)"
   ],
   "metadata": {
    "collapsed": false
   }
  },
  {
   "cell_type": "code",
   "execution_count": null,
   "outputs": [],
   "source": [
    "ret"
   ],
   "metadata": {
    "collapsed": false
   }
  },
  {
   "cell_type": "code",
   "execution_count": null,
   "outputs": [],
   "source": [
    "ret.params"
   ],
   "metadata": {
    "collapsed": false
   }
  },
  {
   "cell_type": "code",
   "execution_count": null,
   "outputs": [],
   "source": [
    "for name, param in ret.params.items():\n",
    "    print(name, param.value, param.stderr)"
   ],
   "metadata": {
    "collapsed": false
   }
  },
  {
   "cell_type": "code",
   "execution_count": null,
   "outputs": [],
   "source": [
    "for ipk in range(len(pkprms.peaks)):\n",
    "    ret = gauss_lmfit_singlet(pkprms, ipk)\n",
    "    # ret.params.pretty_print()"
   ],
   "metadata": {
    "collapsed": false
   }
  },
  {
   "cell_type": "code",
   "execution_count": null,
   "outputs": [],
   "source": [
    "ret"
   ],
   "metadata": {
    "collapsed": false
   }
  },
  {
   "cell_type": "code",
   "execution_count": null,
   "metadata": {},
   "outputs": [],
   "source": [
    "\n",
    "# 2022-Dez-21:\n",
    "# PAREI AQUI;\n",
    "# Usar os resultados de áreas dos picos e montar as curvas de eficiência\n",
    "\n",
    "# 2022-Mar-16\n",
    "# Fazendo ajuste polinomial nas eficiências:"
   ]
  },
  {
   "cell_type": "code",
   "execution_count": null,
   "metadata": {},
   "outputs": [],
   "source": [
    "from numpy.polynomial import Polynomial as P # 2020-09-06 Esta é a nova classe recomendada "
   ]
  },
  {
   "cell_type": "code",
   "execution_count": null,
   "metadata": {},
   "outputs": [],
   "source": [
    "En_CV_LoBg = np.array([81.00,\n",
    "86.54,\n",
    "121.78,\n",
    "133.51,\n",
    "302.85,\n",
    "344.28,\n",
    "356.02,\n",
    "604.69,\n",
    "661.66,\n",
    "795.84,\n",
    "964.13,\n",
    "1085.91,\n",
    "1112.12,\n",
    "1173.24,\n",
    "1332.50,\n",
    "1408.01\n",
    "])\n",
    "# En_CV_GMX"
   ]
  },
  {
   "cell_type": "code",
   "execution_count": null,
   "metadata": {},
   "outputs": [],
   "source": [
    "Eff_CV_LoBg = np.array([4.4358,\n",
    "4.4723,\n",
    "5.4386,\n",
    "5.5045,\n",
    "3.1379,\n",
    "2.8722,\n",
    "2.7305,\n",
    "1.7817,\n",
    "1.6453,\n",
    "1.4026,\n",
    "1.1216,\n",
    "1.0200,\n",
    "0.9703,\n",
    "0.8962,\n",
    "0.8009,\n",
    "0.7397 ])\n",
    "# PAREI AQUI"
   ]
  },
  {
   "cell_type": "code",
   "execution_count": null,
   "metadata": {},
   "outputs": [],
   "source": [
    "unc_perc = np.array([2.01,\n",
    "1.43,\n",
    "1.33,\n",
    "2.11,\n",
    "1.81,\n",
    "1.42,\n",
    "1.41,\n",
    "2.24,\n",
    "1.44,\n",
    "3.68,\n",
    "1.66,\n",
    "1.71,\n",
    "1.58,\n",
    "0.87,\n",
    "0.87,\n",
    "1.51 ])\n",
    "unc_perc"
   ]
  },
  {
   "cell_type": "code",
   "execution_count": null,
   "metadata": {},
   "outputs": [],
   "source": [
    "ln_En_CV_LoBg = np.log (En_CV_LoBg)\n",
    "ln_Eff_CV_LoBg = np.log (Eff_CV_LoBg)"
   ]
  },
  {
   "cell_type": "code",
   "execution_count": null,
   "metadata": {},
   "outputs": [],
   "source": [
    "N = 16"
   ]
  },
  {
   "cell_type": "code",
   "execution_count": null,
   "metadata": {},
   "outputs": [],
   "source": []
  },
  {
   "cell_type": "code",
   "execution_count": null,
   "metadata": {},
   "outputs": [],
   "source": [
    "# 2022-Mar-23\n",
    "# Parêntese para fazer nova calibração canal-energia do HPGe do projeto:"
   ]
  },
  {
   "cell_type": "code",
   "execution_count": null,
   "metadata": {},
   "outputs": [],
   "source": [
    "canal = np.array([210, 920, 1181, 7232])\n",
    "ener = np.array([46.5, 186, 238.6, 1460.8])"
   ]
  },
  {
   "cell_type": "code",
   "execution_count": null,
   "metadata": {},
   "outputs": [],
   "source": [
    "projeto = P.fit(x=canal, y=ener, deg=1).convert()\n",
    "projeto"
   ]
  },
  {
   "cell_type": "code",
   "execution_count": null,
   "metadata": {},
   "outputs": [],
   "source": [
    "projeto_ener_canal = P.fit(x=ener, y=canal, deg=1).convert()\n",
    "projeto_ener_canal"
   ]
  },
  {
   "cell_type": "code",
   "execution_count": null,
   "metadata": {},
   "outputs": [],
   "source": [
    "projeto_ener_canal(1173.2)"
   ]
  },
  {
   "cell_type": "code",
   "execution_count": null,
   "metadata": {},
   "outputs": [],
   "source": [
    "projeto_ener_canal(1332.486)"
   ]
  },
  {
   "cell_type": "code",
   "execution_count": null,
   "metadata": {},
   "outputs": [],
   "source": []
  },
  {
   "cell_type": "code",
   "execution_count": null,
   "metadata": {},
   "outputs": [],
   "source": [
    "P.fit(x=ln_En_CV_LoBg, y=ln_Eff_CV_LoBg, deg=5).convert()"
   ]
  },
  {
   "cell_type": "code",
   "execution_count": null,
   "metadata": {},
   "outputs": [],
   "source": [
    "poly_w = P.fit(x=ln_En_CV_LoBg, y=ln_Eff_CV_LoBg, deg=5, w=1/unc_perc).convert()\n",
    "poly_w"
   ]
  },
  {
   "cell_type": "code",
   "execution_count": null,
   "metadata": {},
   "outputs": [],
   "source": [
    "poly_w = P.fit(x=ln_En_CV_LoBg, y=ln_Eff_CV_LoBg, deg=5, w=1/unc_perc**2).convert()\n",
    "poly_w"
   ]
  },
  {
   "cell_type": "code",
   "execution_count": null,
   "metadata": {},
   "outputs": [],
   "source": [
    "print(poly_w)"
   ]
  },
  {
   "cell_type": "code",
   "execution_count": null,
   "metadata": {},
   "outputs": [],
   "source": [
    "poly_o = P.fit(x=ln_En_CV_LoBg, y=Eff_CV_LoBg, deg=5)\n",
    "print(poly_o)"
   ]
  },
  {
   "cell_type": "code",
   "execution_count": null,
   "metadata": {},
   "outputs": [],
   "source": [
    "# AQUI IMPLEMENTAR AJUSTE POLINOMIAL MINIMOS QUADRADOS\n",
    "# weights = np.linspace(1, 2, N)\n",
    "# Xw = X * np.sqrt(weights)[:, None]\n",
    "# yw = y * np.sqrt(weights)\n",
    "# print (linalg.lstsq(Xw, yw)[0])"
   ]
  },
  {
   "cell_type": "code",
   "execution_count": null,
   "metadata": {},
   "outputs": [],
   "source": [
    "weights = 1.0 / unc_perc**2.0\n",
    "weights"
   ]
  },
  {
   "cell_type": "code",
   "execution_count": null,
   "metadata": {},
   "outputs": [],
   "source": [
    "# from scipy import linalg\n",
    "from numpy import linalg\n",
    "\n",
    "Xw = ln_En_CV_LoBg * np.sqrt(weights)[:, None]\n",
    "yw = ln_Eff_CV_LoBg * np.sqrt(weights)\n",
    "print (linalg.lstsq(Xw, yw)[0])"
   ]
  },
  {
   "cell_type": "code",
   "execution_count": null,
   "metadata": {},
   "outputs": [],
   "source": [
    "print (linalg.lstsq(Xw, yw))"
   ]
  },
  {
   "cell_type": "code",
   "execution_count": null,
   "metadata": {},
   "outputs": [],
   "source": [
    "X = ln_En_CV_LoBg\n",
    "y = ln_Eff_CV_LoBg\n",
    "w1 = linalg.lstsq(X, y)\n",
    "print (w1)"
   ]
  },
  {
   "cell_type": "code",
   "execution_count": null,
   "metadata": {},
   "outputs": [],
   "source": [
    "np.log(2)"
   ]
  },
  {
   "cell_type": "code",
   "execution_count": null,
   "metadata": {},
   "outputs": [],
   "source": []
  },
  {
   "cell_type": "code",
   "execution_count": null,
   "metadata": {},
   "outputs": [],
   "source": [
    "# Figure 3\n",
    "figw3 = go.FigureWidget();\n",
    "figw3.add_trace(\n",
    "    go.Scatter(x=chans,\n",
    "               y=ys_net_counts,\n",
    "               name=\"Net counts\",\n",
    "               line=dict(color='green',width=0.5)));\n",
    "figw3.add_trace(\n",
    "    go.Scatter(x=peaks_net,\n",
    "               y=ys_net_counts[peaks_net],\n",
    "               mode=\"markers\",\n",
    "               name=\"net peaks\",\n",
    "               marker=dict(color='cyan',\n",
    "                           symbol='cross',\n",
    "                           size=15,\n",
    "                           opacity=0.7,\n",
    "                           line=dict(color='magenta', width=2.0)\n",
    "                          )\n",
    "              ));\n",
    "figw3.add_trace(\n",
    "    go.Scatter(x=peaks_1,\n",
    "               y=counts[peaks_1],\n",
    "               mode=\"markers\",\n",
    "               name=\"gross peaks\",\n",
    "               marker=dict(color='lightblue',\n",
    "                           symbol='cross',\n",
    "                           size=15,\n",
    "                           opacity=0.7,\n",
    "                           line=dict(color='green', width=2.0)\n",
    "                          )\n",
    "              ));\n",
    "# Set title and scale type\n",
    "figw3.update_layout(title_text=\"Gamma-ray net spectrum\")\n",
    "figw3.update_yaxes(type=\"log\");"
   ]
  },
  {
   "cell_type": "code",
   "execution_count": null,
   "metadata": {},
   "outputs": [],
   "source": [
    "figw3.write_html('figw3.html', auto_open=True)"
   ]
  },
  {
   "cell_type": "code",
   "execution_count": null,
   "metadata": {},
   "outputs": [],
   "source": [
    "# Essa será a 1b\n",
    "figw1 = go.FigureWidget();\n",
    "\n",
    "# Add Traces\n",
    "\n",
    "figw1.add_trace(\n",
    "    go.Scatter(x=chans_nzero,\n",
    "               y=counts_nzero,\n",
    "               error_y=dict(\n",
    "                   color='orange',width=3.0,\n",
    "                   type='data', # value of error bar given in data coordinates\n",
    "                   array=unc_y,\n",
    "                   visible=True),\n",
    "               name=\"Counts & uncertaintes\",\n",
    "               line=dict(color='orange',width=0.3)));\n",
    "\n",
    "figw1.add_trace(\n",
    "    go.Scatter(x=chans,\n",
    "               y=eval_y,\n",
    "               name=\"eval_y\",\n",
    "               line=dict(color='blue',width=0.5)));\n",
    "\n",
    "figw1.add_trace(\n",
    "    go.Scatter(x=peaks_1,\n",
    "               y=counts[peaks_1],\n",
    "               mode=\"markers\",\n",
    "               name=\"peaks\",\n",
    "               marker=dict(color='cyan',\n",
    "                           symbol='cross',\n",
    "                           size=20,\n",
    "                           opacity=0.5,\n",
    "                           line=dict(color='red', width=2.0)\n",
    "                          )\n",
    "              ));\n",
    "figw1.add_trace(\n",
    "    go.Scatter(x=peaks_net,\n",
    "               y=counts[peaks_net],\n",
    "               mode=\"markers\",\n",
    "               name=\"net peaks\",\n",
    "               marker=dict(color='red',\n",
    "                           symbol='circle',\n",
    "                           size=20,\n",
    "                           opacity=0.4,\n",
    "                           line=dict(color='green', width=2.0)\n",
    "                          )\n",
    "              ));\n",
    "\n",
    "figw4.add_trace(\n",
    "    go.Scatter(x=inis,\n",
    "               y=eval_y[inis],\n",
    "               mode=\"markers\",\n",
    "               name=\"inis\",\n",
    "               marker=dict(color='yellow',\n",
    "                           symbol='pentagon',\n",
    "                           size=10,\n",
    "                           opacity=1.0,\n",
    "                           line=dict(color='green', width=2.0)\n",
    "                          )\n",
    "              ));\n",
    "\n",
    "figw1.add_trace(\n",
    "    go.Scatter(x=fins,\n",
    "               y=eval_y[fins],\n",
    "               mode=\"markers\",\n",
    "               name=\"fins\",\n",
    "               marker=dict(color='cyan',\n",
    "                           symbol='star-triangle-down',\n",
    "                           size=10,\n",
    "                           opacity=1.0,\n",
    "                           line=dict(color='red', width=2.0)\n",
    "                          )\n",
    "              ));\n",
    "\n",
    "figw1.add_trace(\n",
    "    go.Scatter(x=xs_step_bline,\n",
    "               y=ys_step_bline,\n",
    "               name=\"Step baseline\",\n",
    "               line=dict(color='navy',width=0.4)));\n",
    "\n",
    "# Set title and scale type\n",
    "figw1.update_layout(title_text=\"Gamma-ray spectrum excerpt\")\n",
    "figw1.update_yaxes(type=\"log\");\n",
    "\n",
    "# Melhor não abrir inline, que seria simplesmente entrar com o nome do objeto:\n",
    "# figw2\n",
    "# Além de ficar com visualização incômoda, não funciona no JupyterLab; dá o erro:\n",
    "# Error displaying widget: model not found."
   ]
  },
  {
   "cell_type": "code",
   "execution_count": null,
   "metadata": {},
   "outputs": [],
   "source": [
    "figw4.write_html('figw4.html', auto_open=True)"
   ]
  },
  {
   "cell_type": "code",
   "execution_count": null,
   "outputs": [],
   "source": [
    "dir()"
   ],
   "metadata": {
    "collapsed": false
   }
  },
  {
   "cell_type": "code",
   "execution_count": null,
   "outputs": [],
   "source": [],
   "metadata": {
    "collapsed": false
   }
  },
  {
   "cell_type": "code",
   "execution_count": null,
   "outputs": [],
   "source": [
    "# 2023-Mar-16 Testando Pandas"
   ],
   "metadata": {
    "collapsed": false
   }
  },
  {
   "cell_type": "code",
   "execution_count": null,
   "outputs": [],
   "source": [
    "# https://pandas.pydata.org/pandas-docs/stable/getting_started/comparison/comparison_with_sql.html"
   ],
   "metadata": {
    "collapsed": false
   }
  },
  {
   "cell_type": "code",
   "execution_count": null,
   "outputs": [],
   "source": [
    "url = ('https://raw.github.com/pandas-dev'\n",
    "       '/pandas/master/pandas/tests/io/data/csv/tips.csv')\n",
    "url"
   ],
   "metadata": {
    "collapsed": false
   }
  },
  {
   "cell_type": "code",
   "execution_count": null,
   "outputs": [],
   "source": [
    "tips = pd.read_csv(url)"
   ],
   "metadata": {
    "collapsed": false
   }
  },
  {
   "cell_type": "code",
   "execution_count": null,
   "outputs": [],
   "source": [
    "tips[['total_bill', 'tip', 'smoker', 'time']].head(5)"
   ],
   "metadata": {
    "collapsed": false
   }
  },
  {
   "cell_type": "code",
   "execution_count": null,
   "outputs": [],
   "source": [
    "len(tips)"
   ],
   "metadata": {
    "collapsed": false
   }
  },
  {
   "cell_type": "code",
   "execution_count": null,
   "outputs": [],
   "source": [
    "tips"
   ],
   "metadata": {
    "collapsed": false
   }
  },
  {
   "cell_type": "code",
   "execution_count": null,
   "outputs": [],
   "source": [
    "tips.sample(10)"
   ],
   "metadata": {
    "collapsed": false
   }
  },
  {
   "cell_type": "code",
   "execution_count": null,
   "outputs": [],
   "source": [
    "tips.dtypes"
   ],
   "metadata": {
    "collapsed": false
   }
  },
  {
   "cell_type": "code",
   "execution_count": null,
   "outputs": [],
   "source": [
    "is_dinner = tips['time'] == 'Dinner'\n",
    "is_dinner.value_counts()"
   ],
   "metadata": {
    "collapsed": false
   }
  },
  {
   "cell_type": "code",
   "execution_count": null,
   "outputs": [],
   "source": [
    "tips[is_dinner].head(5)"
   ],
   "metadata": {
    "collapsed": false
   }
  },
  {
   "cell_type": "code",
   "execution_count": null,
   "outputs": [],
   "source": [
    "is_dinner"
   ],
   "metadata": {
    "collapsed": false
   }
  },
  {
   "cell_type": "code",
   "execution_count": null,
   "outputs": [],
   "source": [
    "# tips of more than $5.00 at Dinner meals\n",
    "In [11]: tips[(tips['time'] == 'Dinner') & (tips['tip'] > 5.00)]"
   ],
   "metadata": {
    "collapsed": false
   }
  },
  {
   "cell_type": "code",
   "execution_count": null,
   "outputs": [],
   "source": [
    "# tips by parties of at least 5 diners OR bill total was more than $45\n",
    "tips[(tips['size'] >= 5) | (tips['total_bill'] > 45)]"
   ],
   "metadata": {
    "collapsed": false
   }
  },
  {
   "cell_type": "code",
   "execution_count": null,
   "outputs": [],
   "source": [
    "aerg aerg a"
   ],
   "metadata": {
    "collapsed": false
   }
  },
  {
   "cell_type": "code",
   "execution_count": null,
   "outputs": [],
   "source": [
    "# 2023-Jan-03: Usar com cuidado: update in-place de campos do dataframe\n",
    "tips.loc[tips['tip'] > 2, 'tip'] *= 200"
   ],
   "metadata": {
    "collapsed": false
   }
  },
  {
   "cell_type": "code",
   "execution_count": null,
   "outputs": [],
   "source": [
    "tips"
   ],
   "metadata": {
    "collapsed": false
   }
  },
  {
   "cell_type": "code",
   "execution_count": null,
   "outputs": [],
   "source": [
    "tips['newfield']=13.0\n",
    "tips"
   ],
   "metadata": {
    "collapsed": false
   }
  },
  {
   "cell_type": "code",
   "execution_count": null,
   "outputs": [],
   "source": [
    "tips['newfieldstr']=''\n",
    "tips"
   ],
   "metadata": {
    "collapsed": false
   }
  },
  {
   "cell_type": "code",
   "execution_count": null,
   "outputs": [],
   "source": [
    "tips.loc[(tips['tip'] >= 2) & (tips['tip'] < 3), 'newfieldstr'] = 'maisque2'\n",
    "tips"
   ],
   "metadata": {
    "collapsed": false
   }
  },
  {
   "cell_type": "code",
   "execution_count": null,
   "outputs": [],
   "source": [
    "tips.groupby('day')['total_bill'].count()"
   ],
   "metadata": {
    "collapsed": false
   }
  },
  {
   "cell_type": "code",
   "execution_count": null,
   "outputs": [],
   "source": [
    "tips.groupby('day')['total_bill'].max()"
   ],
   "metadata": {
    "collapsed": false
   }
  },
  {
   "cell_type": "code",
   "execution_count": null,
   "outputs": [],
   "source": [
    "tips.groupby('day').max().loc[lambda df: df['size'] < 5]"
   ],
   "metadata": {
    "collapsed": false
   }
  },
  {
   "cell_type": "code",
   "execution_count": null,
   "outputs": [],
   "source": [
    "# 2020-11-23 Aplicando funçoes customizadas após o groupby\n",
    "tips.groupby('day').agg({'total_bill': np.sum,\n",
    "                         'tip': lambda x: np.std(x, ddof=1)})"
   ],
   "metadata": {
    "collapsed": false
   }
  },
  {
   "cell_type": "code",
   "execution_count": null,
   "outputs": [],
   "source": [
    "# 2020-11-23 Aplicando funçoes customizadas após o groupby\n",
    "tips.groupby('day').agg({'total_bill': np.sum,\n",
    "                         'tip': list})"
   ],
   "metadata": {
    "collapsed": false
   }
  },
  {
   "cell_type": "code",
   "execution_count": null,
   "outputs": [],
   "source": [
    "# 2020-11-23 Aplicando funçoes customizadas após o groupby\n",
    "aggtips = tips.groupby('day').agg({'total_bill': tuple,\n",
    "                         'tip': list})\n",
    "aggtips"
   ],
   "metadata": {
    "collapsed": false
   }
  },
  {
   "cell_type": "code",
   "execution_count": null,
   "outputs": [],
   "source": [
    "aggtips['novacol'] = aggtips['total_bill']\n",
    "aggtips"
   ],
   "metadata": {
    "collapsed": false
   }
  },
  {
   "cell_type": "code",
   "execution_count": null,
   "outputs": [],
   "source": [
    "def MyCust(x):\n",
    "    if len(x) > 2:\n",
    "        return len(x)\n",
    "    return pd.NaT"
   ],
   "metadata": {
    "collapsed": false
   }
  },
  {
   "cell_type": "code",
   "execution_count": null,
   "outputs": [],
   "source": [
    "def MyCustDf1(df):\n",
    "    if len(df.total_bill) > 2:\n",
    "        return len(df.tip)*2\n",
    "    return pd.NaT"
   ],
   "metadata": {
    "collapsed": false
   }
  },
  {
   "cell_type": "code",
   "execution_count": null,
   "outputs": [],
   "source": [
    "def MyCustDf2(df):\n",
    "    if len(df.total_bill) > 2:\n",
    "        return P.fit(df.total_bill, df.tip, deg=2)\n",
    "    return pd.NaT"
   ],
   "metadata": {
    "collapsed": false
   }
  },
  {
   "cell_type": "code",
   "execution_count": null,
   "outputs": [],
   "source": [],
   "metadata": {
    "collapsed": false
   }
  },
  {
   "cell_type": "code",
   "execution_count": null,
   "outputs": [],
   "source": [
    "aggtips['novacol'] = MyCust(aggtips['total_bill'])\n",
    "aggtips"
   ],
   "metadata": {
    "collapsed": false
   }
  },
  {
   "cell_type": "code",
   "execution_count": null,
   "outputs": [],
   "source": [
    "aggtips['novacol'] = aggtips.apply(lambda x: len(x['tip']), axis=1)\n",
    "aggtips"
   ],
   "metadata": {
    "collapsed": false
   }
  },
  {
   "cell_type": "code",
   "execution_count": null,
   "outputs": [],
   "source": [
    "aggtips['novacol'] = aggtips.apply(lambda x: MyCust(x['tip']), axis=1)\n",
    "aggtips"
   ],
   "metadata": {
    "collapsed": false
   }
  },
  {
   "cell_type": "code",
   "execution_count": null,
   "outputs": [],
   "source": [
    "aggtips['novacol'] = aggtips.apply(MyCust, axis=1)\n",
    "aggtips"
   ],
   "metadata": {
    "collapsed": false
   }
  },
  {
   "cell_type": "code",
   "execution_count": null,
   "outputs": [],
   "source": [
    "aggtips['novacol'] = aggtips.apply(MyCustDf1, axis='columns')\n",
    "aggtips"
   ],
   "metadata": {
    "collapsed": false
   }
  },
  {
   "cell_type": "code",
   "execution_count": null,
   "outputs": [],
   "source": [
    "aggtips['novacol'] = aggtips.apply(MyCustDf2, axis='columns')\n",
    "aggtips"
   ],
   "metadata": {
    "collapsed": false
   }
  },
  {
   "cell_type": "code",
   "execution_count": null,
   "outputs": [],
   "source": [
    "tips.groupby('size')['total_bill'].count()"
   ],
   "metadata": {
    "collapsed": false
   }
  },
  {
   "cell_type": "code",
   "execution_count": null,
   "outputs": [],
   "source": [
    "tips.loc[lambda df: df['size'] > 4]"
   ],
   "metadata": {
    "collapsed": false
   }
  },
  {
   "cell_type": "code",
   "execution_count": null,
   "outputs": [],
   "source": [
    "tips.loc[tips['size'] > 4]"
   ],
   "metadata": {
    "collapsed": false
   }
  },
  {
   "cell_type": "code",
   "execution_count": null,
   "outputs": [],
   "source": [
    "tips[tips['size'] > 4]"
   ],
   "metadata": {
    "collapsed": false
   }
  },
  {
   "cell_type": "code",
   "execution_count": null,
   "outputs": [],
   "source": [
    "tips[tips['size'].isin([5,6])]"
   ],
   "metadata": {
    "collapsed": false
   }
  },
  {
   "cell_type": "code",
   "execution_count": null,
   "outputs": [],
   "source": [
    "tips[(tips['size']==1) | (tips['size']>4)]"
   ],
   "metadata": {
    "collapsed": false
   }
  },
  {
   "cell_type": "code",
   "execution_count": null,
   "outputs": [],
   "source": [],
   "metadata": {
    "collapsed": false
   }
  },
  {
   "cell_type": "code",
   "execution_count": null,
   "outputs": [],
   "source": [
    "df1 = pd.DataFrame({'key': ['A', 'B', 'C', 'D'], 'value': np.random.randn(4)*13, 'newfield': 13.0})\n",
    "df1"
   ],
   "metadata": {
    "collapsed": false
   }
  },
  {
   "cell_type": "code",
   "execution_count": null,
   "outputs": [],
   "source": [
    "244*4"
   ],
   "metadata": {
    "collapsed": false
   }
  },
  {
   "cell_type": "code",
   "execution_count": null,
   "outputs": [],
   "source": [
    "# FINALMENTE!!!!!!! 2019-11-13\n",
    "dfAll = pd.merge(tips,df1,on='newfield')\n",
    "dfAll"
   ],
   "metadata": {
    "collapsed": false
   }
  },
  {
   "cell_type": "code",
   "execution_count": null,
   "outputs": [],
   "source": [
    "# FINALMENTE!!!!!!! 2019-11-13\n",
    "dfAll = pd.merge(tips,df1,on='newfield')\n",
    "dfAll[dfAll['tip'] < dfAll['value']]"
   ],
   "metadata": {
    "collapsed": false
   }
  },
  {
   "cell_type": "code",
   "execution_count": null,
   "outputs": [],
   "source": [
    "# Naum funciona\n",
    "# dfAll = pd.merge(tips,df1,on='newfield').loc[dfAll['tip'] < dfAll['value']]\n",
    "# dfAll"
   ],
   "metadata": {
    "collapsed": false
   }
  },
  {
   "cell_type": "code",
   "execution_count": null,
   "outputs": [],
   "source": [
    "tips.groupby(['sex','smoker','day']).agg({'tip': np.max, })"
   ],
   "metadata": {
    "collapsed": false
   }
  },
  {
   "cell_type": "code",
   "execution_count": null,
   "outputs": [],
   "source": [
    "# gb1 = tips[tips['date']].groupby(['sex','smoker']).agg({'tip': np.max})\n",
    "gb1 = tips[['day','time']]\n",
    "gb1"
   ],
   "metadata": {
    "collapsed": false
   }
  },
  {
   "cell_type": "code",
   "execution_count": null,
   "outputs": [],
   "source": [
    "gb2 = tips.groupby(['sex','smoker','day'])\n",
    "gb2"
   ],
   "metadata": {
    "collapsed": false
   }
  },
  {
   "cell_type": "code",
   "execution_count": null,
   "outputs": [],
   "source": [],
   "metadata": {
    "collapsed": false
   }
  },
  {
   "cell_type": "code",
   "execution_count": null,
   "outputs": [],
   "source": [],
   "metadata": {
    "collapsed": false
   }
  },
  {
   "cell_type": "code",
   "execution_count": null,
   "outputs": [],
   "source": [
    "# 2021-Out-09: Deixando de lado o DataFrame *tips* e fazendo outros testes."
   ],
   "metadata": {
    "collapsed": false
   }
  },
  {
   "cell_type": "code",
   "execution_count": null,
   "outputs": [],
   "source": [
    "# Variados, tirados do Cookbook do Pandas\n",
    "# Isso é um dict em Python:"
   ],
   "metadata": {
    "collapsed": false
   }
  },
  {
   "cell_type": "code",
   "execution_count": null,
   "outputs": [],
   "source": [
    "teste1 = {'AAA': [4, 5, 6, 7], 'BBB': [10, 20, 30, 40], 'CCC': [100, 50, -30, -50]}\n",
    "teste1"
   ],
   "metadata": {
    "collapsed": false
   }
  },
  {
   "cell_type": "code",
   "execution_count": null,
   "outputs": [],
   "source": [
    "# O construtor do Pandas Dataframe converte: chaves -> colunas; listas -> valores de cada coluna"
   ],
   "metadata": {
    "collapsed": false
   }
  },
  {
   "cell_type": "code",
   "execution_count": null,
   "outputs": [],
   "source": [
    "df = pd.DataFrame(teste1)\n",
    "df"
   ],
   "metadata": {
    "collapsed": false
   }
  },
  {
   "cell_type": "code",
   "execution_count": null,
   "outputs": [],
   "source": [
    "df.loc[df.AAA >= 5, 'BBB'] = -1\n",
    "df"
   ],
   "metadata": {
    "collapsed": false
   }
  },
  {
   "cell_type": "code",
   "execution_count": null,
   "outputs": [],
   "source": [
    "df.loc[df.AAA >= 5, ['BBB', 'CCC']] = 555\n",
    "df"
   ],
   "metadata": {
    "collapsed": false
   }
  },
  {
   "cell_type": "code",
   "execution_count": null,
   "outputs": [],
   "source": [
    "df.loc[df.AAA < 5, ['BBB', 'CCC']] = 2000\n",
    "df"
   ],
   "metadata": {
    "collapsed": false
   }
  },
  {
   "cell_type": "code",
   "execution_count": null,
   "outputs": [],
   "source": [],
   "metadata": {
    "collapsed": false
   }
  },
  {
   "cell_type": "code",
   "execution_count": null,
   "outputs": [],
   "source": [
    "# Teste2 inventado por mim: 2020-11-14"
   ],
   "metadata": {
    "collapsed": false
   }
  },
  {
   "cell_type": "code",
   "execution_count": null,
   "outputs": [],
   "source": [
    "teste2 = {'AAA': [4, 4, 4, 5, 5, 6, 7], 'BBB': [10, 10, 15, 20, 25, 30, 40],\n",
    "          'CCC': [17, 13, 11, 7, 5, 3, 2], 'DDD': [239, 875, 113, 137, 987, 502, 266]}"
   ],
   "metadata": {
    "collapsed": false
   }
  },
  {
   "cell_type": "code",
   "execution_count": null,
   "outputs": [],
   "source": [
    "df2 = pd.DataFrame(teste2)\n",
    "df2"
   ],
   "metadata": {
    "collapsed": false
   }
  },
  {
   "cell_type": "code",
   "execution_count": null,
   "outputs": [],
   "source": [
    "df2.loc[:, ['AAA', 'BBB', 'CCC', 'DDD'] ].groupby(['AAA', 'BBB']).sum()"
   ],
   "metadata": {
    "collapsed": false
   }
  },
  {
   "cell_type": "code",
   "execution_count": null,
   "outputs": [],
   "source": [
    "# 2020-11-14 Ahá! Abaixo ele pega num grupo os máximos de linhas diferentes. Ver 17 e 875 na 1a linha"
   ],
   "metadata": {
    "collapsed": false
   }
  },
  {
   "cell_type": "code",
   "execution_count": null,
   "outputs": [],
   "source": [
    "df2.loc[:, ['AAA', 'BBB', 'CCC', 'DDD'] ].groupby(['AAA', 'BBB']).max()"
   ],
   "metadata": {
    "collapsed": false
   }
  },
  {
   "cell_type": "code",
   "execution_count": null,
   "outputs": [],
   "source": [
    "df2.loc[:, ['AAA', 'BBB', 'CCC', 'DDD'] ].groupby(['AAA']).max()"
   ],
   "metadata": {
    "collapsed": false
   }
  },
  {
   "cell_type": "code",
   "execution_count": null,
   "outputs": [],
   "source": [
    "df2.loc[:, ['AAA', 'BBB', 'CCC', 'DDD'] ].groupby(['AAA']).max()"
   ],
   "metadata": {
    "collapsed": false
   }
  },
  {
   "cell_type": "code",
   "execution_count": null,
   "outputs": [],
   "source": [
    "df2.loc[:, ['AAA', 'DDD'] ].groupby(['AAA']).max()"
   ],
   "metadata": {
    "collapsed": false
   }
  },
  {
   "cell_type": "code",
   "execution_count": null,
   "outputs": [],
   "source": [
    "df2.loc[:, ['AAA', 'BBB'] ].groupby(['AAA']).max()"
   ],
   "metadata": {
    "collapsed": false
   }
  },
  {
   "cell_type": "code",
   "execution_count": null,
   "outputs": [],
   "source": [
    "df2.keys()"
   ],
   "metadata": {
    "collapsed": false
   }
  },
  {
   "cell_type": "code",
   "execution_count": null,
   "outputs": [],
   "source": [
    "df2.set_index('AAA')"
   ],
   "metadata": {
    "collapsed": false
   }
  },
  {
   "cell_type": "code",
   "execution_count": null,
   "outputs": [],
   "source": [
    "df2.keys()"
   ],
   "metadata": {
    "collapsed": false
   }
  },
  {
   "cell_type": "code",
   "execution_count": null,
   "outputs": [],
   "source": [
    "df2"
   ],
   "metadata": {
    "collapsed": false
   }
  },
  {
   "cell_type": "code",
   "execution_count": null,
   "outputs": [],
   "source": [],
   "metadata": {
    "collapsed": false
   }
  },
  {
   "cell_type": "code",
   "execution_count": null,
   "outputs": [],
   "source": [
    "df2.loc[:, ['AAA', 'BBB'] ].groupby(['AAA']).max().merge(df2)"
   ],
   "metadata": {
    "collapsed": false
   }
  },
  {
   "cell_type": "code",
   "execution_count": null,
   "outputs": [],
   "source": [],
   "metadata": {
    "collapsed": false
   }
  },
  {
   "cell_type": "code",
   "execution_count": null,
   "outputs": [],
   "source": [],
   "metadata": {
    "collapsed": false
   }
  },
  {
   "cell_type": "code",
   "execution_count": null,
   "outputs": [],
   "source": [
    "teste3 = {'Order': ['cat', 'cat', 'cat', 'canine', 'canine'],\n",
    "          'Species': ['lion', 'cheetah', 'domestic', 'dog', 'wolf'],\n",
    "          'Weight': [200, 80, 3, 10, 20],\n",
    "          'Speed': [30, 120, 15, 15, 18],\n",
    "          'PortName': ['leão', 'chita', 'doméstico', 'cão', 'lobo']}\n",
    "df3 = pd.DataFrame(teste3)\n",
    "df3"
   ],
   "metadata": {
    "collapsed": false
   }
  },
  {
   "cell_type": "code",
   "execution_count": null,
   "outputs": [],
   "source": [
    "df3.loc[:, ['Order','Speed'] ].groupby(['Order']).max()"
   ],
   "metadata": {
    "collapsed": false
   }
  },
  {
   "cell_type": "code",
   "execution_count": null,
   "outputs": [],
   "source": [
    "df3.loc[:, ['Order','Weight'] ].groupby(['Order']).max()"
   ],
   "metadata": {
    "collapsed": false
   }
  },
  {
   "cell_type": "code",
   "execution_count": null,
   "outputs": [],
   "source": [
    "df3.loc[:, ['Order','Speed'] ].groupby(['Order']).max().merge(df3)"
   ],
   "metadata": {
    "collapsed": false
   }
  },
  {
   "cell_type": "code",
   "execution_count": null,
   "outputs": [],
   "source": [
    "df3.loc[:, ['Order','Weight'] ].groupby(['Order']).max().merge(df3)"
   ],
   "metadata": {
    "collapsed": false
   }
  },
  {
   "cell_type": "code",
   "execution_count": null,
   "outputs": [],
   "source": [
    "# 2020-11-14 Parei Aqui"
   ],
   "metadata": {
    "collapsed": false
   }
  },
  {
   "cell_type": "code",
   "execution_count": null,
   "outputs": [],
   "source": [],
   "metadata": {
    "collapsed": false
   }
  },
  {
   "cell_type": "code",
   "execution_count": null,
   "outputs": [],
   "source": [
    "# 2020-11-24 Continuando: uso de masked arrays em ajustes com polinômios"
   ],
   "metadata": {
    "collapsed": false
   }
  },
  {
   "cell_type": "code",
   "execution_count": null,
   "outputs": [],
   "source": [
    "xs = np.array([0.0, 0.5, 1.0, 2.0, 3.0, 4.0, 5.0])\n",
    "ys = np.array([5.1, 6.27, 8.2, 13.2, 20.1, 29.4, 40.1])\n",
    "P.fit(xs, ys, deg=2)"
   ],
   "metadata": {
    "collapsed": false
   }
  },
  {
   "cell_type": "code",
   "execution_count": null,
   "outputs": [],
   "source": [
    "# https://numpy.org/devdocs/reference/generated/\n",
    "# numpy.polynomial.polynomial.Polynomial.fit.html#numpy.polynomial.polynomial.Polynomial.fit\n",
    "P.fit(xs, ys, deg=2, full=True)"
   ],
   "metadata": {
    "collapsed": false
   }
  },
  {
   "cell_type": "code",
   "execution_count": null,
   "outputs": [],
   "source": [
    "P.fit(xs, ys, deg=2, w=np.sqrt(ys), full=True)"
   ],
   "metadata": {
    "collapsed": false
   }
  },
  {
   "cell_type": "code",
   "execution_count": null,
   "outputs": [],
   "source": [],
   "metadata": {
    "collapsed": false
   }
  },
  {
   "cell_type": "code",
   "execution_count": null,
   "outputs": [],
   "source": [],
   "metadata": {
    "collapsed": false
   }
  },
  {
   "cell_type": "code",
   "execution_count": null,
   "outputs": [],
   "source": [
    "P.fit(xs, ys, deg=2).convert()"
   ],
   "metadata": {
    "collapsed": false
   }
  },
  {
   "cell_type": "code",
   "execution_count": null,
   "outputs": [],
   "source": [
    "xsma = ma.masked_less(xs, 2.5)\n",
    "xsma"
   ],
   "metadata": {
    "collapsed": false
   }
  },
  {
   "cell_type": "code",
   "execution_count": null,
   "outputs": [],
   "source": [
    "xs_subst = xsma"
   ],
   "metadata": {
    "collapsed": false
   }
  },
  {
   "cell_type": "code",
   "execution_count": null,
   "outputs": [],
   "source": [
    "xs.mean()"
   ],
   "metadata": {
    "collapsed": false
   }
  },
  {
   "cell_type": "code",
   "execution_count": null,
   "outputs": [],
   "source": [
    "xsma.mean()"
   ],
   "metadata": {
    "collapsed": false
   }
  },
  {
   "cell_type": "code",
   "execution_count": null,
   "outputs": [],
   "source": [
    "# Mas a máscara pode ser criada diretamente:!\n",
    "ma_test = xs > 2.5\n",
    "ma_test"
   ],
   "metadata": {
    "collapsed": false
   }
  },
  {
   "cell_type": "code",
   "execution_count": null,
   "outputs": [],
   "source": [
    "ys"
   ],
   "metadata": {
    "collapsed": false
   }
  },
  {
   "cell_type": "code",
   "execution_count": null,
   "outputs": [],
   "source": [
    "~xsma.mask"
   ],
   "metadata": {
    "collapsed": false
   }
  },
  {
   "cell_type": "code",
   "execution_count": null,
   "outputs": [],
   "source": [
    "xsma.mask"
   ],
   "metadata": {
    "collapsed": false
   }
  },
  {
   "cell_type": "code",
   "execution_count": null,
   "outputs": [],
   "source": [
    "xsma"
   ],
   "metadata": {
    "collapsed": false
   }
  },
  {
   "cell_type": "code",
   "execution_count": null,
   "outputs": [],
   "source": [
    "ysma = ma.array(ys, mask=xsma.mask)\n",
    "ysma"
   ],
   "metadata": {
    "collapsed": false
   }
  },
  {
   "cell_type": "code",
   "execution_count": null,
   "outputs": [],
   "source": [
    "# 2021-06-12 Atenção: P.fit atua sobre masked array diretamente sem mascarar:"
   ],
   "metadata": {
    "collapsed": false
   }
  },
  {
   "cell_type": "code",
   "execution_count": null,
   "outputs": [],
   "source": [
    "P.fit(xs, ys, deg=2)"
   ],
   "metadata": {
    "collapsed": false
   }
  },
  {
   "cell_type": "code",
   "execution_count": null,
   "outputs": [],
   "source": [
    "P.fit(xsma, ysma, deg=2)"
   ],
   "metadata": {
    "collapsed": false
   }
  },
  {
   "cell_type": "code",
   "execution_count": null,
   "outputs": [],
   "source": [
    "# 2021-06-12 ...é preciso fazer isso:"
   ],
   "metadata": {
    "collapsed": false
   }
  },
  {
   "cell_type": "code",
   "execution_count": null,
   "outputs": [],
   "source": [
    "valid_ys = ys[~ysma.mask]\n",
    "valid_ys"
   ],
   "metadata": {
    "collapsed": false
   }
  },
  {
   "cell_type": "code",
   "execution_count": null,
   "outputs": [],
   "source": [
    "valid_xs = xs[~xsma.mask]\n",
    "valid_xs"
   ],
   "metadata": {
    "collapsed": false
   }
  },
  {
   "cell_type": "code",
   "execution_count": null,
   "outputs": [],
   "source": [
    "P.fit(valid_xs, valid_ys, deg=2)"
   ],
   "metadata": {
    "collapsed": false
   }
  },
  {
   "cell_type": "code",
   "execution_count": null,
   "outputs": [],
   "source": [
    "# 2021-06-12 ...ou diretamente:"
   ],
   "metadata": {
    "collapsed": false
   }
  },
  {
   "cell_type": "code",
   "execution_count": null,
   "outputs": [],
   "source": [
    "P.fit(xs[~xsma.mask], ys[~ysma.mask], deg=2)"
   ],
   "metadata": {
    "collapsed": false
   }
  },
  {
   "cell_type": "code",
   "execution_count": null,
   "outputs": [],
   "source": [
    "# 2021-06-12 Se a máscara for comum a ambos arrays, como deve ser P.fit, teremos:\n",
    "valid_ma = ~ysma.mask\n",
    "P.fit(xs[valid_ma], ys[valid_ma], deg=2)"
   ],
   "metadata": {
    "collapsed": false
   }
  },
  {
   "cell_type": "code",
   "execution_count": null,
   "outputs": [],
   "source": [
    "valid_ma"
   ],
   "metadata": {
    "collapsed": false
   }
  },
  {
   "cell_type": "code",
   "execution_count": null,
   "outputs": [],
   "source": [
    "# 2021-06-12 Percorrendo arrays:\n",
    "h_win = 2\n",
    "for i in range(h_win, xs.size-h_win):\n",
    "    win = slice(i-h_win, i+h_win+1)\n",
    "    print(win)\n",
    "    print(xs[win])\n",
    "print('==========')\n",
    "for i in range(h_win, xsma.size-h_win):\n",
    "    win = slice(i-h_win, i+h_win+1)\n",
    "    print(win)\n",
    "    print(xsma[win])\n",
    "print('==========')\n",
    "for i in range(h_win, ysma.size-h_win):\n",
    "    win = slice(i-h_win, i+h_win+1)\n",
    "    print(ysma[win])\n",
    "print('==========')\n",
    "for i in range(h_win, ys.size-h_win):\n",
    "    win = slice(i-h_win, i+h_win+1)\n",
    "    p_fit = P.fit(xs[win], ys[win], deg=2)\n",
    "    print(p_fit)\n",
    "print('==========')\n",
    "for i in range(h_win, ysma.size-h_win):\n",
    "    win = slice(i-h_win, i+h_win+1)\n",
    "    p_fit = P.fit(xsma[win], ysma[win], deg=2)\n",
    "    print(p_fit)"
   ],
   "metadata": {
    "collapsed": false
   }
  },
  {
   "cell_type": "code",
   "execution_count": null,
   "outputs": [],
   "source": [
    "# 2021-06-12 Montando arrays:\n",
    "print('==========')\n",
    "for i in range(h_win, ysma.size-h_win):\n",
    "    win = slice(i-h_win, i+h_win+1)\n",
    "    print(xs[win], ';', ys[win])"
   ],
   "metadata": {
    "collapsed": false
   }
  },
  {
   "cell_type": "code",
   "execution_count": null,
   "outputs": [],
   "source": [
    "# 2021-06-12 ... e agora só com valores válidos...\n",
    "print('==========')\n",
    "for i in range(h_win, ysma.size-h_win):\n",
    "    win = slice(i-h_win, i+h_win+1)\n",
    "    print(xs[win][valid_ma[win]], ';', ys[win][valid_ma[win]])"
   ],
   "metadata": {
    "collapsed": false
   }
  },
  {
   "cell_type": "code",
   "execution_count": null,
   "outputs": [],
   "source": [
    "# 2021-06-12 e finalmente fazendo ajustes só com os valores válidos:\n",
    "print('==========')\n",
    "for i in range(h_win, ysma.size-h_win):\n",
    "    win = slice(i-h_win, i+h_win+1)\n",
    "    print(valid_ma[win])\n",
    "    print(xs[win][valid_ma[win]], ';', ys[win][valid_ma[win]])\n",
    "    if xs[win][valid_ma[win]].size > 2:\n",
    "        print(P.fit(xs[win][valid_ma[win]], ys[win][valid_ma[win]], deg=2))"
   ],
   "metadata": {
    "collapsed": false
   }
  },
  {
   "cell_type": "code",
   "execution_count": null,
   "outputs": [],
   "source": [],
   "metadata": {
    "collapsed": false
   }
  },
  {
   "cell_type": "code",
   "execution_count": null,
   "outputs": [],
   "source": [],
   "metadata": {
    "collapsed": false
   }
  },
  {
   "cell_type": "code",
   "execution_count": null,
   "outputs": [],
   "source": [
    "ys"
   ],
   "metadata": {
    "collapsed": false
   }
  },
  {
   "cell_type": "code",
   "execution_count": null,
   "outputs": [],
   "source": [
    "xs[xsma.mask]"
   ],
   "metadata": {
    "collapsed": false
   }
  },
  {
   "cell_type": "code",
   "execution_count": null,
   "outputs": [],
   "source": [],
   "metadata": {
    "collapsed": false
   }
  },
  {
   "cell_type": "code",
   "execution_count": null,
   "outputs": [],
   "source": [
    "# 2021-06-13 Novos xs e ys, como encontro em contagens:"
   ],
   "metadata": {
    "collapsed": false
   }
  },
  {
   "cell_type": "code",
   "execution_count": null,
   "outputs": [],
   "source": [
    "xs = np.array([100, 101, 102, 103, 104, 105, 106])\n",
    "ys = np.array([1.0, 3.0, 24.0, 79.0, 22.0, 0.0, 1.0])\n",
    "ys"
   ],
   "metadata": {
    "collapsed": false
   }
  },
  {
   "cell_type": "code",
   "execution_count": null,
   "outputs": [],
   "source": [
    "log_ys=np.log(ys)"
   ],
   "metadata": {
    "collapsed": false
   }
  },
  {
   "cell_type": "code",
   "execution_count": null,
   "outputs": [],
   "source": [
    "log_ys"
   ],
   "metadata": {
    "collapsed": false
   }
  },
  {
   "cell_type": "code",
   "execution_count": null,
   "outputs": [],
   "source": [
    "valid_log_ys = log_ys > 0"
   ],
   "metadata": {
    "collapsed": false
   }
  },
  {
   "cell_type": "code",
   "execution_count": null,
   "outputs": [],
   "source": [
    "valid_log_ys"
   ],
   "metadata": {
    "collapsed": false
   }
  },
  {
   "cell_type": "code",
   "execution_count": null,
   "outputs": [],
   "source": [
    "valix = xs[valid_log_ys]\n",
    "valix"
   ],
   "metadata": {
    "collapsed": false
   }
  },
  {
   "cell_type": "code",
   "execution_count": null,
   "outputs": [],
   "source": [
    "valiy = log_ys[valid_log_ys]\n",
    "valiy"
   ],
   "metadata": {
    "collapsed": false
   }
  },
  {
   "cell_type": "code",
   "execution_count": null,
   "outputs": [],
   "source": [
    "p_fit = P.fit(valix, valiy, w=np.sqrt(valiy), deg=2, full=True)\n",
    "p_fit"
   ],
   "metadata": {
    "collapsed": false
   }
  },
  {
   "cell_type": "code",
   "execution_count": null,
   "outputs": [],
   "source": [
    "p_fit[0].coef[2]"
   ],
   "metadata": {
    "collapsed": false
   }
  },
  {
   "cell_type": "code",
   "execution_count": null,
   "outputs": [],
   "source": [
    "p_fit[1][2][2]"
   ],
   "metadata": {
    "collapsed": false
   }
  },
  {
   "cell_type": "code",
   "execution_count": null,
   "outputs": [],
   "source": [
    "# 2021-Jul-27\n",
    "# Exemplos de geração de aleatórios e indexação avançada de arrays"
   ],
   "metadata": {
    "collapsed": false
   }
  },
  {
   "cell_type": "code",
   "execution_count": null,
   "outputs": [],
   "source": [
    "# https://numpy.org/devdocs/reference/random/index.html#random-quick-start"
   ],
   "metadata": {
    "collapsed": false
   }
  },
  {
   "cell_type": "code",
   "execution_count": null,
   "outputs": [],
   "source": [
    "# Do this (new version)\n",
    "from numpy.random import default_rng\n",
    "rng = default_rng()\n",
    "vals = rng.standard_normal(10)\n",
    "more_vals = rng.standard_normal(10)"
   ],
   "metadata": {
    "collapsed": false
   }
  },
  {
   "cell_type": "code",
   "execution_count": null,
   "outputs": [],
   "source": [
    "print(vals, '\\n', more_vals)"
   ],
   "metadata": {
    "collapsed": false
   }
  },
  {
   "cell_type": "code",
   "execution_count": null,
   "outputs": [],
   "source": [
    "# Para inteiros:\n",
    "rng_integers = rng.integers\n",
    "a = rng_integers(1000)\n",
    "a"
   ],
   "metadata": {
    "collapsed": false
   }
  },
  {
   "cell_type": "code",
   "execution_count": null,
   "outputs": [],
   "source": [
    "rng = np.random.default_rng(12345)\n",
    "print(rng)"
   ],
   "metadata": {
    "collapsed": false
   }
  },
  {
   "cell_type": "code",
   "execution_count": null,
   "outputs": [],
   "source": [
    "rfloat = rng.random()\n",
    "rfloat"
   ],
   "metadata": {
    "collapsed": false
   }
  },
  {
   "cell_type": "code",
   "execution_count": null,
   "outputs": [],
   "source": [
    "# Here we use default_rng to create an instance of Generator to generate\n",
    "# 3 random integers between 0 (inclusive) and 10 (exclusive):\n",
    "rng = np.random.default_rng(12345)\n",
    "rints = rng.integers(low=0, high=10, size=3)\n",
    "rints"
   ],
   "metadata": {
    "collapsed": false
   }
  },
  {
   "cell_type": "code",
   "execution_count": null,
   "outputs": [],
   "source": [
    "rints = rng.integers(low=0, high=10, size=200)\n",
    "rints"
   ],
   "metadata": {
    "collapsed": false
   }
  },
  {
   "cell_type": "code",
   "execution_count": null,
   "outputs": [],
   "source": [
    "rng = np.random.default_rng(12346)\n",
    "rfloats = rng.random(10)\n",
    "rfloats"
   ],
   "metadata": {
    "collapsed": false
   }
  },
  {
   "cell_type": "code",
   "execution_count": null,
   "outputs": [],
   "source": [
    "rng = np.random.default_rng(12345)\n",
    "rints = rng.integers(low=0, high=10, size=4)\n",
    "rints"
   ],
   "metadata": {
    "collapsed": false
   }
  },
  {
   "cell_type": "code",
   "execution_count": null,
   "outputs": [],
   "source": [
    "np.argsort(rfloats)"
   ],
   "metadata": {
    "collapsed": false
   }
  },
  {
   "cell_type": "code",
   "execution_count": null,
   "outputs": [],
   "source": [
    "# Digamos que os picos detectados tenham sido:\n",
    "pks_detected = np.array([3,6,8,9])\n",
    "print(pks_detected)\n",
    "print(rfloats[pks_detected])"
   ],
   "metadata": {
    "collapsed": false
   }
  },
  {
   "cell_type": "code",
   "execution_count": null,
   "outputs": [],
   "source": [
    "# ... mas quero manter apenas os nm maiores, nm=3 no caso, ou seja, quero manter [3,6,9]:\n",
    "rfloats[np.array([3,6,9])]"
   ],
   "metadata": {
    "collapsed": false
   }
  },
  {
   "cell_type": "code",
   "execution_count": null,
   "outputs": [],
   "source": [
    "# Fazer:\n",
    "sort_inds = np.argsort(rfloats[pks_detected])\n",
    "sort_inds"
   ],
   "metadata": {
    "collapsed": false
   }
  },
  {
   "cell_type": "code",
   "execution_count": null,
   "outputs": [],
   "source": [
    "nm = 3\n",
    "gt_pks = sort_inds[-nm:]\n",
    "gt_pks"
   ],
   "metadata": {
    "collapsed": false
   }
  },
  {
   "cell_type": "code",
   "execution_count": null,
   "outputs": [],
   "source": [
    "rfloats[-4:]"
   ],
   "metadata": {
    "collapsed": false
   }
  },
  {
   "cell_type": "code",
   "execution_count": null,
   "outputs": [],
   "source": [
    "pks_detected[gt_pks]"
   ],
   "metadata": {
    "collapsed": false
   }
  },
  {
   "cell_type": "code",
   "execution_count": null,
   "outputs": [],
   "source": [
    "# https://pandas.pydata.org/pandas-docs/stable/getting_started/comparison/comparison_with_sql.html"
   ],
   "metadata": {
    "collapsed": false
   }
  },
  {
   "cell_type": "code",
   "execution_count": null,
   "outputs": [],
   "source": [
    "url = ('https://raw.github.com/pandas-dev'\n",
    "       '/pandas/master/pandas/tests/io/data/csv/tips.csv')\n",
    "url"
   ],
   "metadata": {
    "collapsed": false
   }
  },
  {
   "cell_type": "code",
   "execution_count": null,
   "outputs": [],
   "source": [
    "tips = pd.read_csv(url)"
   ],
   "metadata": {
    "collapsed": false
   }
  },
  {
   "cell_type": "code",
   "execution_count": null,
   "outputs": [],
   "source": [
    "tips[['total_bill', 'tip', 'smoker', 'time']].head(5)"
   ],
   "metadata": {
    "collapsed": false
   }
  },
  {
   "cell_type": "code",
   "execution_count": null,
   "outputs": [],
   "source": [],
   "metadata": {
    "collapsed": false
   }
  },
  {
   "cell_type": "code",
   "execution_count": null,
   "outputs": [],
   "source": [],
   "metadata": {
    "collapsed": false
   }
  },
  {
   "cell_type": "code",
   "execution_count": null,
   "outputs": [],
   "source": [
    "##################################################\n",
    "\n",
    "## 2019-nov-warp2.ipynb\n",
    "## P.P.\n",
    "## 2019-11-03: Integrando an'alise em lote de 2019_big-histogram.ipynb\n",
    "## com an'alise Cwt+ridges de 2019-cwt-analysis-real_with_effic-curve-Pandas.ipynb\n",
    "\n",
    "fb = FileBatch()\n",
    "spec = Spec()"
   ],
   "metadata": {
    "collapsed": false
   }
  },
  {
   "cell_type": "raw",
   "source": [
    "Pegando todos os arquivos SI"
   ],
   "metadata": {
    "collapsed": false
   }
  },
  {
   "cell_type": "code",
   "execution_count": null,
   "outputs": [],
   "source": [
    "fb.slotSetBatchCHN(\n",
    "    '../Genie_Transfer/Si'\n",
    ")"
   ],
   "metadata": {
    "collapsed": false
   }
  },
  {
   "cell_type": "code",
   "execution_count": null,
   "outputs": [],
   "source": [
    "# print (fb.arqslist)\n",
    "print (fb.numarqstxt, ' arquivos')"
   ],
   "metadata": {
    "collapsed": false
   }
  },
  {
   "cell_type": "code",
   "execution_count": null,
   "outputs": [],
   "source": [
    "np.random.random(100)"
   ],
   "metadata": {
    "collapsed": false
   }
  },
  {
   "cell_type": "code",
   "execution_count": null,
   "outputs": [],
   "source": [
    "# https://numpy.org/doc/1.17/reference/random/generated/numpy.random.Generator.integers.html\n",
    "rng = np.random.default_rng()\n",
    "# rng.integers(100, size=10)\n",
    "cemarqs = rng.integers(fb.numarqs, size=100)\n",
    "cemarqs"
   ],
   "metadata": {
    "collapsed": false
   }
  },
  {
   "cell_type": "code",
   "execution_count": null,
   "outputs": [],
   "source": [
    "indicetreze = cemarqs[13]\n",
    "# 2019-12-14 Vou fixar o indicetreze em 162. Espectro de bombona, bem legal. Para isso, habilitar:\n",
    "# indicetreze = 162\n",
    "indicetreze"
   ],
   "metadata": {
    "collapsed": false
   }
  },
  {
   "cell_type": "code",
   "execution_count": null,
   "outputs": [],
   "source": [],
   "metadata": {
    "collapsed": false
   }
  },
  {
   "cell_type": "code",
   "execution_count": null,
   "outputs": [],
   "source": [
    "arq_treze = fb.lp[indicetreze]\n",
    "arq_treze"
   ],
   "metadata": {
    "collapsed": false
   }
  },
  {
   "cell_type": "code",
   "execution_count": null,
   "outputs": [],
   "source": [
    "arq_treze = './I125_01.001.3.IEC'\n",
    "arq_treze"
   ],
   "metadata": {
    "collapsed": false
   }
  },
  {
   "cell_type": "code",
   "execution_count": null,
   "outputs": [],
   "source": [
    "aleator_spec = Spec()\n",
    "if aleator_spec.readSp( arq_treze ) >= 0:\n",
    "    print (aleator_spec.nCh)"
   ],
   "metadata": {
    "collapsed": false
   }
  },
  {
   "cell_type": "code",
   "execution_count": null,
   "outputs": [],
   "source": [
    "counts = aleator_spec.specIO.spCounts\n",
    "print(len(counts))\n",
    "# smo0, smo1, sum1, bline = spec2.coeffs_2nd_grade_estim(haWin=haWin)"
   ],
   "metadata": {
    "collapsed": false
   }
  },
  {
   "cell_type": "code",
   "execution_count": null,
   "outputs": [],
   "source": [
    "# https://docs.python.org/3/library/collections.html#collections.defaultdict"
   ],
   "metadata": {
    "collapsed": false
   }
  },
  {
   "cell_type": "code",
   "execution_count": null,
   "outputs": [],
   "source": [
    "with open('Pisciro-Eng_(2019).csv', newline='') as f:\n",
    "    reader = csv.reader(f)\n",
    "    gamma_bib = [row for row in reader]\n",
    "gamma_fields = gamma_bib[0]\n",
    "del gamma_bib[0]                          # delete the col names\n",
    "gamma_bib_splinuc = [[i[0],[np.float(j) for j in i[1:5]]] for i in gamma_bib]\n",
    "d = defaultdict(list)\n",
    "for k, v in gamma_bib_splinuc:\n",
    "    d[k].append(v)\n",
    "print(gamma_fields)\n",
    "sorted(d.items())"
   ],
   "metadata": {
    "collapsed": false
   }
  },
  {
   "cell_type": "code",
   "execution_count": null,
   "outputs": [],
   "source": [
    "with open('Pisciro-Nuc_(2019).csv', newline='') as f2:\n",
    "    reader = csv.reader(f2)\n",
    "    nucl_bib = [row for row in reader]\n",
    "nucl_fields = nucl_bib[0]\n",
    "del nucl_bib[0]                          # delete the col names\n",
    "nucl_bib_splinuc = [[i[0],[np.float(j) for j in i[1:5]]] for i in nucl_bib]\n",
    "d2 = defaultdict(list)\n",
    "for k, v in nucl_bib_splinuc:\n",
    "    d2[k].append(v)\n",
    "print(nucl_fields)\n",
    "sorted(d2.items())"
   ],
   "metadata": {
    "collapsed": false
   }
  },
  {
   "cell_type": "code",
   "execution_count": null,
   "outputs": [],
   "source": [
    "def search_energy(d=d, engy_to_search = 663.0, engy_toler = 0.8):\n",
    "    ret = ''\n",
    "    for nuc, gam in d.items():\n",
    "        for i in gam:\n",
    "            if np.abs(engy_to_search - i[0]) <= engy_toler:\n",
    "                ret = nuc\n",
    "    return ret"
   ],
   "metadata": {
    "collapsed": false
   }
  },
  {
   "cell_type": "code",
   "execution_count": null,
   "outputs": [],
   "source": [],
   "metadata": {
    "collapsed": false
   }
  },
  {
   "cell_type": "code",
   "execution_count": null,
   "outputs": [],
   "source": [
    "aleator_spec.analisa_este_espectro()"
   ],
   "metadata": {
    "collapsed": false
   }
  },
  {
   "cell_type": "code",
   "execution_count": null,
   "outputs": [],
   "source": [
    "np.size(cemarqs)"
   ],
   "metadata": {
    "collapsed": false
   }
  },
  {
   "cell_type": "code",
   "execution_count": null,
   "outputs": [],
   "source": [
    "piscina_calib = [[[ 355, 395], 320.08],\n",
    "                [[ 902, 942], 810.78],\n",
    "                [[1308,1348], 1173.24],\n",
    "                [[1499,1539], 1332.50],\n",
    "                [[1540,1580], 1368.55]]"
   ],
   "metadata": {
    "collapsed": false
   }
  },
  {
   "cell_type": "code",
   "execution_count": null,
   "outputs": [],
   "source": [
    "select_ener = aleator_spec.automatic_energy_calib( piscina_calib )\n",
    "select_ener"
   ],
   "metadata": {
    "collapsed": false
   }
  },
  {
   "cell_type": "code",
   "execution_count": null,
   "outputs": [],
   "source": [
    "select_ener"
   ],
   "metadata": {
    "collapsed": false
   }
  },
  {
   "cell_type": "code",
   "execution_count": null,
   "outputs": [],
   "source": [],
   "metadata": {
    "collapsed": false
   }
  },
  {
   "cell_type": "code",
   "execution_count": null,
   "outputs": [],
   "source": [],
   "metadata": {
    "collapsed": false
   }
  },
  {
   "cell_type": "code",
   "execution_count": null,
   "outputs": [],
   "source": [],
   "metadata": {
    "collapsed": false
   }
  },
  {
   "cell_type": "code",
   "execution_count": null,
   "outputs": [],
   "source": [
    "# 2019-12-14\n",
    "# Gr'aficos:"
   ],
   "metadata": {
    "collapsed": false
   }
  },
  {
   "cell_type": "code",
   "execution_count": null,
   "outputs": [],
   "source": [
    "default_plot_width, default_plot_height = set_screen_size_by_machine()"
   ],
   "metadata": {
    "collapsed": false
   }
  },
  {
   "cell_type": "code",
   "execution_count": null,
   "outputs": [],
   "source": [
    "xs = aleator_spec.xs\n",
    "y0s = aleator_spec.y0s\n",
    "peak_constructed_spectrum = aleator_spec.peak_constructed_spectrum\n",
    "baseline_spectrum = aleator_spec.baseline_spectrum\n",
    "bl_median_smoother = aleator_spec.bl_median_smoother\n",
    "ys_reconstructed = aleator_spec.ys_reconstructed\n",
    "stripped_spectrum = aleator_spec.stripped_spectrum\n",
    "\n",
    "centrpk_valid = aleator_spec.centrpk_valid\n",
    "y0s_xpk_valid = aleator_spec.y0s_xpk_valid\n",
    "centrpk_invld = aleator_spec.centrpk_invld\n",
    "y0s_xpk_invld = aleator_spec.y0s_xpk_invld\n",
    "\n",
    "enrgypk_valid = aleator_spec.enrgypk_valid\n",
    "\n",
    "fwhms = aleator_spec.fwhms\n",
    "xen = aleator_spec.xen"
   ],
   "metadata": {
    "collapsed": false
   }
  },
  {
   "cell_type": "code",
   "execution_count": null,
   "outputs": [],
   "source": [
    "bokspec1 = figure(\n",
    "   plot_width =default_plot_width,\n",
    "   plot_height=default_plot_height,\n",
    "   tools=\"pan,box_zoom,reset,save\",\n",
    "   y_axis_type=\"log\",\n",
    "   y_range=[10**1, 10**5], title=\"Espectro gama\",\n",
    "   # y_range=[-1000.0, 1000.0], title=\"synth\",\n",
    "   x_axis_label='canais', y_axis_label='contagens'\n",
    ")\n",
    "bokspec1.circle(xs, y0s, color=\"green\",size=2)\n",
    "# bokspec.line(xs, y0s, color=\"green\")\n",
    "bokspec1.line(xs, peak_constructed_spectrum, color=\"blue\")\n",
    "bokspec1.line(xs, ys_reconstructed, color=\"orange\")\n",
    "# bokspec1.line(xs, baseline_spectrum, color=\"orange\")\n",
    "bokspec1.line(xs, bl_median_smoother, color=\"magenta\")\n",
    "bokspec1.cross(centrpk_valid, y0s_xpk_valid, color=\"red\",size=16)\n",
    "bokspec1.cross(centrpk_invld, y0s_xpk_invld, color=\"magenta\",size=8)\n",
    "show(bokspec1)"
   ],
   "metadata": {
    "collapsed": false
   }
  },
  {
   "cell_type": "code",
   "execution_count": null,
   "outputs": [],
   "source": [
    "# 2017-12-17\n",
    "# Busca de energias\n",
    "found_nucs = []\n",
    "for i in enrgypk_valid:\n",
    "    found_nucs.append(search_energy(engy_to_search=i))"
   ],
   "metadata": {
    "collapsed": false
   }
  },
  {
   "cell_type": "code",
   "execution_count": null,
   "outputs": [],
   "source": [
    "spec_name = arq_treze"
   ],
   "metadata": {
    "collapsed": false
   }
  },
  {
   "cell_type": "code",
   "execution_count": null,
   "outputs": [],
   "source": [
    "source = ColumnDataSource(data=dict(energy=enrgypk_valid,\n",
    "                                    height=y0s_xpk_valid,\n",
    "                                    names=found_nucs))\n",
    "bokspec1a = figure(\n",
    "   plot_width =default_plot_width,\n",
    "   plot_height=default_plot_height,\n",
    "   tools=\"pan,box_zoom,reset,save\",\n",
    "   y_axis_type=\"log\",\n",
    "   y_range=[10**1, 10**5], title=spec_name,\n",
    "   # y_range=[-1000.0, 1000.0], title=\"synth\",\n",
    "   x_axis_label='Energia, keV', y_axis_label='contagens'\n",
    ")\n",
    "# 2019-12-17 usando xen (energia) em vez do canal (xs) no eixo x\n",
    "bokspec1a.circle(xen, y0s, color=\"green\",size=2)\n",
    "# bokspec.line(xs, y0s, color=\"green\")\n",
    "bokspec1a.line(xen, peak_constructed_spectrum, color=\"blue\")\n",
    "bokspec1a.line(xen, ys_reconstructed, color=\"orange\")\n",
    "# bokspec1.line(xs, baseline_spectrum, color=\"orange\")\n",
    "bokspec1a.line(xen, bl_median_smoother, color=\"magenta\")\n",
    "# 2019-12-17 Em vez de p^or cruzes vermelhas, p^or labels de energia\n",
    "# bokspec1a.cross(centrpk_valid, y0s_xpk_valid, color=\"red\",size=16)\n",
    "\n",
    "labels = LabelSet(x='energy', y='height', text='names', level='glyph', text_color='darkgreen', text_font='Carlito', angle=np.pi/12,\n",
    "              x_offset=5, y_offset=5, source=source, render_mode='canvas')\n",
    "\n",
    "bokspec1a.add_layout(labels)\n",
    "# bokspec1a.cross(centrpk_invld, y0s_xpk_invld, color=\"magenta\",size=8)\n",
    "show(bokspec1a)"
   ],
   "metadata": {
    "collapsed": false
   }
  },
  {
   "cell_type": "code",
   "execution_count": null,
   "outputs": [],
   "source": [
    "bokspec1b = figure(\n",
    "   plot_width =default_plot_width,\n",
    "   plot_height=default_plot_height,\n",
    "   tools=\"pan,box_zoom,reset,save\",\n",
    "   # y_axis_type=\"log\",\n",
    "   y_range=[10**1, 10**5], title=\"Espectro gama\",\n",
    "   # y_range=[-1000.0, 1000.0], title=\"synth\",\n",
    "   x_axis_label='canais', y_axis_label='contagens'\n",
    ")\n",
    "bokspec1b.circle(xen, y0s, color=\"green\",size=2)\n",
    "# bokspec.line(xs, y0s, color=\"green\")\n",
    "bokspec1b.line(xen, stripped_spectrum, color=\"blue\")\n",
    "bokspec1b.line(xen, ys_reconstructed, color=\"orange\")\n",
    "# bokspec1.line(xs, baseline_spectrum, color=\"orange\")\n",
    "bokspec1b.line(xen, bl_median_smoother, color=\"magenta\")\n",
    "bokspec1b.cross(centrpk_valid, y0s_xpk_valid, color=\"red\",size=16)\n",
    "# bokspec1a.cross(centrpk_invld, y0s_xpk_invld, color=\"magenta\",size=8)\n",
    "show(bokspec1b)"
   ],
   "metadata": {
    "collapsed": false
   }
  },
  {
   "cell_type": "code",
   "execution_count": null,
   "outputs": [],
   "source": [
    "len(xs)"
   ],
   "metadata": {
    "collapsed": false
   }
  },
  {
   "cell_type": "code",
   "execution_count": null,
   "outputs": [],
   "source": [
    "bokspec2 = figure(\n",
    "   plot_width =default_plot_width,\n",
    "   plot_height=default_plot_height,\n",
    "   tools=\"pan,box_zoom,reset,save\",\n",
    "   # y_axis_type=\"log\",\n",
    "   y_range=[10**1, 10**5], title=\"Espectro gama\",\n",
    "   # y_range=[-1000.0, 1000.0], title=\"synth\",\n",
    "   x_axis_label='channels', y_axis_label='counts'\n",
    ")\n",
    "bokspec2.circle(xs, y0s, legend_label=\"counts\", color=\"green\",size=4)\n",
    "bokspec2.line(xs, y0s, color=\"green\")\n",
    "bokspec2.line(xs, peak_constructed_spectrum, color=\"blue\")\n",
    "bokspec2.line(xs, baseline_spectrum, color=\"orange\")\n",
    "bokspec2.line(xs, bl_median_smoother, color=\"magenta\")\n",
    "bokspec2.cross(centrpk_valid, y0s_xpk_valid, color=\"red\",size=16)\n",
    "bokspec2.cross(centrpk_invld, y0s_xpk_invld, color=\"magenta\",size=8)\n",
    "show(bokspec2)"
   ],
   "metadata": {
    "collapsed": false
   }
  },
  {
   "cell_type": "code",
   "execution_count": null,
   "outputs": [],
   "source": [
    "bokfwhm = figure(\n",
    "   plot_width =default_plot_width,\n",
    "   plot_height=default_plot_height,\n",
    "   tools=\"pan,box_zoom,reset,save\",\n",
    "   # y_axis_type=\"log\",\n",
    "   # y_range=[10**1, 10**5], title=\"synth\",\n",
    "   # y_range=[-1000.0, 1000.0], title=\"synth\",\n",
    "   x_axis_label='channels', y_axis_label='counts'\n",
    ")\n",
    "bokfwhm.circle(xs, y0s, legend_label=\"counts\", color=\"green\",size=4)\n",
    "bokfwhm.line(xs, y0s, color=\"green\")\n",
    "bokfwhm.line(xs, peak_constructed_spectrum, color=\"blue\")\n",
    "bokfwhm.line(xs, bl_median_smoother, color=\"magenta\")\n",
    "bokfwhm.cross(centrpk_valid, y0s_xpk_valid, color=\"red\",size=16)\n",
    "bokfwhm.cross(centrpk_invld, y0s_xpk_invld, color=\"magenta\",size=8)\n",
    "bokfwhm.circle(centrpk_valid, np.asarray(fwhms)*2000, color=\"magenta\",size=10)\n",
    "show(bokfwhm)"
   ],
   "metadata": {
    "collapsed": false
   }
  },
  {
   "cell_type": "code",
   "execution_count": null,
   "outputs": [],
   "source": [
    "bokfwhmlog = figure(\n",
    "   plot_width =default_plot_width,\n",
    "   plot_height=default_plot_height,\n",
    "   tools=\"pan,box_zoom,reset,save\",\n",
    "   y_axis_type=\"log\",\n",
    "   y_range=[10**1, 10**5], title=\"synth\",\n",
    "   # y_range=[-1000.0, 1000.0], title=\"synth\",\n",
    "   x_axis_label='channels', y_axis_label='counts'\n",
    ")\n",
    "bokfwhmlog.circle(xs, y0s, legend_label=\"counts\", color=\"green\",size=4)\n",
    "bokfwhmlog.line(xs, y0s, color=\"green\")\n",
    "bokfwhmlog.line(xs, peak_constructed_spectrum, color=\"blue\")\n",
    "# bokspec.line(xs, baseline_spectrum, color=\"orange\")\n",
    "bokfwhmlog.line(xs, bl_median_smoother, color=\"magenta\")\n",
    "bokfwhmlog.cross(centrpk_valid, y0s_xpk_valid, color=\"red\",size=16)\n",
    "bokfwhmlog.cross(centrpk_invld, y0s_xpk_invld, color=\"magenta\",size=8)\n",
    "bokfwhmlog.circle(centrpk_valid, np.asarray(fwhms)*2000, color=\"magenta\",size=10)\n",
    "show(bokfwhmlog)"
   ],
   "metadata": {
    "collapsed": false
   }
  },
  {
   "cell_type": "code",
   "execution_count": null,
   "outputs": [],
   "source": [
    "5.1 in np.arange(1.1,6.9)"
   ],
   "metadata": {
    "collapsed": false
   }
  },
  {
   "cell_type": "code",
   "execution_count": null,
   "outputs": [],
   "source": [
    "np.arange(1.1,6.9)"
   ],
   "metadata": {
    "collapsed": false
   }
  }
 ],
 "metadata": {
  "kernelspec": {
   "display_name": "Python 3",
   "language": "python",
   "name": "python3"
  },
  "language_info": {
   "codemirror_mode": {
    "name": "ipython",
    "version": 3
   },
   "file_extension": ".py",
   "mimetype": "text/x-python",
   "name": "python",
   "nbconvert_exporter": "python",
   "pygments_lexer": "ipython3",
   "version": "3.7.3"
  }
 },
 "nbformat": 4,
 "nbformat_minor": 5
}
