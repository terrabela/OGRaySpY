{
 "cells": [
  {
   "cell_type": "code",
   "execution_count": 28,
   "outputs": [],
   "source": [
    "# 2022-Dez-28\n",
    "# Jupyter notebook for tests with OGRaySpY modules"
   ],
   "metadata": {
    "collapsed": false
   }
  },
  {
   "cell_type": "code",
   "execution_count": 28,
   "outputs": [],
   "source": [],
   "metadata": {
    "collapsed": false
   }
  },
  {
   "cell_type": "code",
   "execution_count": 28,
   "outputs": [],
   "source": [],
   "metadata": {
    "collapsed": false
   }
  },
  {
   "cell_type": "code",
   "execution_count": 29,
   "outputs": [],
   "source": [
    "import numpy as np\n",
    "from numpy.random import default_rng\n",
    "from numpy.polynomial import Polynomial as P\n",
    "from scipy import special\n",
    "import pandas as pd\n",
    "\n",
    "from spec_class import Spec"
   ],
   "metadata": {
    "collapsed": false
   }
  },
  {
   "cell_type": "code",
   "execution_count": 30,
   "metadata": {},
   "outputs": [],
   "source": [
    "# https://lmfit.github.io/lmfit-py/builtin_models.html\n",
    "from lmfit import Model, minimize, Parameters, report_fit, fit_report, printfuncs\n",
    "from lmfit.models import LinearModel, StepModel, ExponentialModel, LorentzianModel\n",
    "from lmfit.models import GaussianModel, SkewedGaussianModel, ExpressionModel"
   ]
  },
  {
   "cell_type": "code",
   "execution_count": 31,
   "outputs": [],
   "source": [
    "# a spectrum pattern to find and test:"
   ],
   "metadata": {
    "collapsed": false
   }
  },
  {
   "cell_type": "code",
   "execution_count": 32,
   "metadata": {},
   "outputs": [],
   "source": [
    "# 2022\n",
    "# Se quiser ignorar o espectro aleatório, definir aqui um específico. Se não, pular.\n",
    "# Vou ignorar o espectro já analisado e refazer a análise, para testes.\n",
    "# 2022-Mar-24 Resolver essa questão dos nomes de arquivos em Linux e Windows\n",
    "# a_spec_name = '..\\\\..\\\\Genie_Transfer\\\\Si\\\\2018\\\\PNR\\\\PRN0803.Chn'\n",
    "# a_spec_name = '../../Genie_Transfer/Si/2018/PNR/PRN0803.Chn'\n",
    "# a_spec_name = '../../Genie_Transfer/Si/2018/CTP/CTP0908-2.Chn'\n",
    "# Esse é um que dá problema na baseline perto do 159 keV do I-123:\n",
    "# a_spec_name = '../../Genie_Transfer/Si/2018/CCI/CCI1508I.Chn'\n",
    "# Precisa quebrar mais a baseline: Ok, consertado!!!\n",
    "# 2022: Já usando o GMX:\n",
    "# a_spec_name = '../../Genie_Transfer/Filtros/2022/Cci/CCI1603-I.Chn'\n",
    "\n"
   ]
  },
  {
   "cell_type": "code",
   "execution_count": 33,
   "metadata": {},
   "outputs": [],
   "source": [
    "\n",
    "# 2022-out-7: Excelente espectro para testes, tenho usado ultimamente:\n",
    "# a_pattern = 'Si/SI2018/SI11318.Chn'\n",
    "# 2022-nov-16: outros espectros:\n",
    "# a_pattern = \"Filtros/2022/Cci/CCI1603-I.Chn\"\n",
    "# a_pattern = \"Filtros/2022/Cci/CCI2302-I.Chn\"\n",
    "\n",
    "# a_pattern = \"Eso_non_existe.Chn\"\n",
    "\n",
    "# 2022-Dez-21 Buscando outro espectro\n",
    "# a_pattern = 'CCI1603-I'\n",
    "# 2022-Dez-28 Este é um espectro mais recente:\n",
    "# a_pattern = 'SI09722.Chn'\n",
    "# 2022-Dez-28 Este é um espectro mais recente que posso comparar com saída do Genie:\n",
    "a_pattern = 'SI06322.Chn'"
   ]
  },
  {
   "cell_type": "code",
   "execution_count": 34,
   "outputs": [
    {
     "data": {
      "text/plain": "                   info_plat info_mach info_syst info_node         home_path  \\\n0  Windows-10-10.0.19044-SP0     AMD64   Windows    I56611  C:\\Users\\mmaduar   \n\n                                spectra_path  n_files  a_spec_ind a_spec_name  \\\n0  C:\\Users\\mmaduar\\Nextcloud\\Genie_Transfer     6868           0               \n\n  reduced_f_name gross_counts_graphics pks_regions_gros  \\\n0                                 None             None   \n\n                                          files_list  \\\n0  [C:\\Users\\mmaduar\\Nextcloud\\Genie_Transfer\\alm...   \n\n                            reduced_names_files_list  \\\n0  [almera22/det_c/iaeaqcb.chn, almera22/det_c/ia...   \n\n                    spectra_pattern_names   pkl_folder_files  \n0  [**/*.[Cc][Hh][Nn], **/*.[Ii][Ee][Cc]]  WindowsI56611.pkl  ",
      "text/html": "<div>\n<style scoped>\n    .dataframe tbody tr th:only-of-type {\n        vertical-align: middle;\n    }\n\n    .dataframe tbody tr th {\n        vertical-align: top;\n    }\n\n    .dataframe thead th {\n        text-align: right;\n    }\n</style>\n<table border=\"1\" class=\"dataframe\">\n  <thead>\n    <tr style=\"text-align: right;\">\n      <th></th>\n      <th>info_plat</th>\n      <th>info_mach</th>\n      <th>info_syst</th>\n      <th>info_node</th>\n      <th>home_path</th>\n      <th>spectra_path</th>\n      <th>n_files</th>\n      <th>a_spec_ind</th>\n      <th>a_spec_name</th>\n      <th>reduced_f_name</th>\n      <th>gross_counts_graphics</th>\n      <th>pks_regions_gros</th>\n      <th>files_list</th>\n      <th>reduced_names_files_list</th>\n      <th>spectra_pattern_names</th>\n      <th>pkl_folder_files</th>\n    </tr>\n  </thead>\n  <tbody>\n    <tr>\n      <th>0</th>\n      <td>Windows-10-10.0.19044-SP0</td>\n      <td>AMD64</td>\n      <td>Windows</td>\n      <td>I56611</td>\n      <td>C:\\Users\\mmaduar</td>\n      <td>C:\\Users\\mmaduar\\Nextcloud\\Genie_Transfer</td>\n      <td>6868</td>\n      <td>0</td>\n      <td></td>\n      <td></td>\n      <td>None</td>\n      <td>None</td>\n      <td>[C:\\Users\\mmaduar\\Nextcloud\\Genie_Transfer\\alm...</td>\n      <td>[almera22/det_c/iaeaqcb.chn, almera22/det_c/ia...</td>\n      <td>[**/*.[Cc][Hh][Nn], **/*.[Ii][Ee][Cc]]</td>\n      <td>WindowsI56611.pkl</td>\n    </tr>\n  </tbody>\n</table>\n</div>"
     },
     "execution_count": 34,
     "metadata": {},
     "output_type": "execute_result"
    }
   ],
   "source": [
    "spectra_list_df = pd.read_pickle('WindowsI56611.pkl')\n",
    "spectra_list_df"
   ],
   "metadata": {
    "collapsed": false
   }
  },
  {
   "cell_type": "code",
   "execution_count": 34,
   "outputs": [],
   "source": [],
   "metadata": {
    "collapsed": false
   }
  },
  {
   "cell_type": "code",
   "execution_count": 34,
   "outputs": [],
   "source": [],
   "metadata": {
    "collapsed": false
   }
  },
  {
   "cell_type": "code",
   "execution_count": 35,
   "outputs": [],
   "source": [
    "def select_spectrum_from_folder_list(\n",
    "        reduced_names_file_list, files_list, spectra_path, a_pattern='', random_spectrum=False):\n",
    "    # Select a random spectrum...\n",
    "    n_files = len(reduced_names_file_list)\n",
    "    if random_spectrum:\n",
    "        try:\n",
    "            a_spec_ind = randrange(n_files)\n",
    "            print('Random spec index: ', a_spec_ind)\n",
    "            a_spec_name = files_list[a_spec_ind]\n",
    "            reduced_f_name = reduced_names_file_list[a_spec_ind]\n",
    "            print('...and its name: ', a_spec_name)\n",
    "        except ValueError:\n",
    "            print('No random spectrum found...')\n",
    "        # ...or define it directly.\n",
    "    else:\n",
    "        print('Existing:')\n",
    "        achou = False\n",
    "        a_spec_ind = None\n",
    "        nomearq = ''\n",
    "        for i, j in enumerate(reduced_names_file_list):\n",
    "            if a_pattern in j:\n",
    "                achou = True\n",
    "                a_spec_ind = i\n",
    "                nomearq = j\n",
    "                break\n",
    "        if achou:\n",
    "            print(f'Achou! indice={a_spec_ind}, nomearq = {nomearq}')\n",
    "            a_spec_name = files_list[a_spec_ind]\n",
    "            reduced_f_name = reduced_names_file_list[a_spec_ind]\n",
    "\n",
    "        matching_spec_name = [i for i in spectra_path.glob(a_pattern)]\n",
    "        if len(matching_spec_name) != 0:\n",
    "            for i in matching_spec_name:\n",
    "                print('name: ', i)\n",
    "            a_spec_name = matching_spec_name[0]\n",
    "\n",
    "    print('==========================')\n",
    "    print('Final choices:')\n",
    "    print(f'spectra_path: {spectra_path}')\n",
    "    print(f'a_spec_name: {a_spec_name}')\n",
    "    print(f'reduced_f_name: {reduced_f_name}')\n",
    "    return a_spec_name, reduced_f_name"
   ],
   "metadata": {
    "collapsed": false
   }
  },
  {
   "cell_type": "code",
   "execution_count": 35,
   "outputs": [],
   "source": [],
   "metadata": {
    "collapsed": false
   }
  },
  {
   "cell_type": "code",
   "execution_count": 36,
   "outputs": [
    {
     "data": {
      "text/plain": "                   info_plat info_mach info_syst info_node         home_path  \\\n0  Windows-10-10.0.19044-SP0     AMD64   Windows    I56611  C:\\Users\\mmaduar   \n\n                                spectra_path  n_files  a_spec_ind a_spec_name  \\\n0  C:\\Users\\mmaduar\\Nextcloud\\Genie_Transfer     6868           0               \n\n  reduced_f_name gross_counts_graphics pks_regions_gros  \\\n0                                 None             None   \n\n                                          files_list  \\\n0  [C:\\Users\\mmaduar\\Nextcloud\\Genie_Transfer\\alm...   \n\n                            reduced_names_files_list  \\\n0  [almera22/det_c/iaeaqcb.chn, almera22/det_c/ia...   \n\n                    spectra_pattern_names   pkl_folder_files  \n0  [**/*.[Cc][Hh][Nn], **/*.[Ii][Ee][Cc]]  WindowsI56611.pkl  ",
      "text/html": "<div>\n<style scoped>\n    .dataframe tbody tr th:only-of-type {\n        vertical-align: middle;\n    }\n\n    .dataframe tbody tr th {\n        vertical-align: top;\n    }\n\n    .dataframe thead th {\n        text-align: right;\n    }\n</style>\n<table border=\"1\" class=\"dataframe\">\n  <thead>\n    <tr style=\"text-align: right;\">\n      <th></th>\n      <th>info_plat</th>\n      <th>info_mach</th>\n      <th>info_syst</th>\n      <th>info_node</th>\n      <th>home_path</th>\n      <th>spectra_path</th>\n      <th>n_files</th>\n      <th>a_spec_ind</th>\n      <th>a_spec_name</th>\n      <th>reduced_f_name</th>\n      <th>gross_counts_graphics</th>\n      <th>pks_regions_gros</th>\n      <th>files_list</th>\n      <th>reduced_names_files_list</th>\n      <th>spectra_pattern_names</th>\n      <th>pkl_folder_files</th>\n    </tr>\n  </thead>\n  <tbody>\n    <tr>\n      <th>0</th>\n      <td>Windows-10-10.0.19044-SP0</td>\n      <td>AMD64</td>\n      <td>Windows</td>\n      <td>I56611</td>\n      <td>C:\\Users\\mmaduar</td>\n      <td>C:\\Users\\mmaduar\\Nextcloud\\Genie_Transfer</td>\n      <td>6868</td>\n      <td>0</td>\n      <td></td>\n      <td></td>\n      <td>None</td>\n      <td>None</td>\n      <td>[C:\\Users\\mmaduar\\Nextcloud\\Genie_Transfer\\alm...</td>\n      <td>[almera22/det_c/iaeaqcb.chn, almera22/det_c/ia...</td>\n      <td>[**/*.[Cc][Hh][Nn], **/*.[Ii][Ee][Cc]]</td>\n      <td>WindowsI56611.pkl</td>\n    </tr>\n  </tbody>\n</table>\n</div>"
     },
     "execution_count": 36,
     "metadata": {},
     "output_type": "execute_result"
    }
   ],
   "source": [
    "spectra_list_df = pd.read_pickle('WindowsI56611.pkl')\n",
    "spectra_list_df"
   ],
   "metadata": {
    "collapsed": false
   }
  },
  {
   "cell_type": "code",
   "execution_count": 37,
   "outputs": [],
   "source": [
    "reduc_nms = spectra_list_df.reduced_names_files_list[0]\n",
    "fil_lst = spectra_list_df.files_list[0]\n",
    "spc_pth = spectra_list_df.spectra_path[0]"
   ],
   "metadata": {
    "collapsed": false
   }
  },
  {
   "cell_type": "code",
   "execution_count": 38,
   "outputs": [
    {
     "name": "stdout",
     "output_type": "stream",
     "text": [
      "Existing:\n",
      "Achou! indice=62, nomearq = almera22/user2023/SI2022/SI06322.Chn\n",
      "==========================\n",
      "Final choices:\n",
      "spectra_path: C:\\Users\\mmaduar\\Nextcloud\\Genie_Transfer\n",
      "a_spec_name: C:\\Users\\mmaduar\\Nextcloud\\Genie_Transfer\\almera22\\user2023\\SI2022\\SI06322.Chn\n",
      "reduced_f_name: almera22/user2023/SI2022/SI06322.Chn\n"
     ]
    }
   ],
   "source": [
    "a_spec_name, reduced_f_name = select_spectrum_from_folder_list(reduc_nms, fil_lst, spc_pth, a_pattern)"
   ],
   "metadata": {
    "collapsed": false
   }
  },
  {
   "cell_type": "code",
   "execution_count": 40,
   "outputs": [
    {
     "data": {
      "text/plain": "(WindowsPath('C:/Users/mmaduar/Nextcloud/Genie_Transfer/almera22/user2023/SI2022/SI06322.Chn'),\n 'almera22/user2023/SI2022/SI06322.Chn')"
     },
     "execution_count": 40,
     "metadata": {},
     "output_type": "execute_result"
    }
   ],
   "source": [
    "a_spec_name, reduced_f_name"
   ],
   "metadata": {
    "collapsed": false
   }
  },
  {
   "cell_type": "code",
   "execution_count": 75,
   "outputs": [
    {
     "name": "stdout",
     "output_type": "stream",
     "text": [
      "Starting Spec.total_analysis...\n",
      "Finish Spec.total_analysis!\n"
     ]
    }
   ],
   "source": [
    "a_spec = Spec(a_spec_name, reduced_f_name)\n",
    "a_spec.total_analysis(gener_dataframe=True)"
   ],
   "metadata": {
    "collapsed": false
   }
  },
  {
   "cell_type": "code",
   "execution_count": 76,
   "outputs": [
    {
     "data": {
      "text/plain": "{'net_spec_ser_an': <generic_series_analysis_class.GenericSeriesAnalysis at 0x1335b3241c0>,\n 'final_composed_baseline': <generic_series_analysis_class.GenericSeriesAnalysis at 0x1335b324640>,\n 'f_name': WindowsPath('C:/Users/mmaduar/Nextcloud/Genie_Transfer/almera22/user2023/SI2022/SI06322.Chn'),\n 'reduced_f_name': 'almera22/user2023/SI2022/SI06322.Chn',\n 'sufx': '.chn',\n 'spec_io': None,\n 'lv_time': 50000.0,\n 'rl_time': 50028.58,\n 'source_datetime': None,\n 'pkl_file': WindowsPath('C:/Users/mmaduar/Nextcloud/Genie_Transfer/almera22/user2023/SI2022/SI06322.pkl'),\n 'gross_spec_ser_an': <generic_series_analysis_class.GenericSeriesAnalysis at 0x1335b324490>,\n 'origin_spec_ser_an': <generic_series_analysis_class.GenericSeriesAnalysis at 0x1335b324580>,\n 'start_datetime': datetime.datetime(2022, 8, 4, 19, 42, 23),\n 'det_descr': 'MAQUINA_01 MCB 1 Input 1',\n 'sam_descr': 'SI-063/22 - Agua da Piscina do Reator IEA-R1 (GMX)',\n 'channel_energy_calib': <genericcalib_class.ChannelEnergyCalib at 0x1335b324730>}"
     },
     "execution_count": 76,
     "metadata": {},
     "output_type": "execute_result"
    }
   ],
   "source": [
    "vars(a_spec)"
   ],
   "metadata": {
    "collapsed": false
   }
  },
  {
   "cell_type": "code",
   "execution_count": 77,
   "outputs": [
    {
     "data": {
      "text/plain": "{'k_fwhm_to_sd': 0.42466090014400953,\n 'peaks': array([  31,   42,  125,  128,  144,  235,  396,  488,  529,  582,  715,\n         842,  960, 1003, 1082, 1115, 1130, 1162, 1196, 1257, 1333, 1372,\n        1454, 1497, 1540, 1585, 1592, 1832, 1840, 1926, 2033, 2187, 2272,\n        2398, 2470, 2614, 2837, 2895, 3030, 3450, 3615, 4014], dtype=int64),\n 'pk_hei': array([], dtype=float64),\n 'widths': (None, None),\n 'mix_regions': array([], dtype=float64),\n 'plateaux': array([], dtype=float64),\n 'fwhm_plateaux': array([], dtype=float64),\n 'wide_regions': array([[  27,   35],\n        [  34,   54],\n        [ 123,  127],\n        [ 125,  131],\n        [ 142,  147],\n        [ 233,  238],\n        [ 394,  398],\n        [ 481,  494],\n        [ 526,  532],\n        [ 578,  585],\n        [ 713,  717],\n        [ 836,  847],\n        [ 957,  964],\n        [1000, 1006],\n        [1078, 1086],\n        [1110, 1120],\n        [1126, 1133],\n        [1158, 1167],\n        [1194, 1198],\n        [1251, 1261],\n        [1328, 1337],\n        [1369, 1376],\n        [1450, 1458],\n        [1494, 1501],\n        [1536, 1544],\n        [1582, 1588],\n        [1589, 1595],\n        [1828, 1835],\n        [1835, 1844],\n        [1922, 1931],\n        [2028, 2036],\n        [2182, 2192],\n        [2267, 2278],\n        [2392, 2403],\n        [2467, 2473],\n        [2608, 2619],\n        [2835, 2841],\n        [2890, 2899],\n        [3027, 3033],\n        [3441, 3458],\n        [3610, 3621],\n        [4003, 4022]]),\n 'fwhm_centr': array([  31.01499575,   43.8011232 ,  124.69485425,  128.28192162,\n         144.47002025,  235.39026343,  396.01981913,  487.81575308,\n         529.35937242,  581.61401597,  715.11483544,  841.81402033,\n         960.26242651, 1002.99119607, 1082.17403221, 1114.60260686,\n        1129.53206218, 1162.29310161, 1195.99271429, 1256.03424699,\n        1332.77565251, 1372.44985968, 1453.82250946, 1497.23370846,\n        1540.26420868, 1585.17535473, 1592.0379744 , 1831.63947247,\n        1839.81487894, 1926.26810864, 2032.15108347, 2187.13983827,\n        2272.27588758, 2397.40344034, 2469.85364465, 2613.42322756,\n        2837.61691356, 2894.72218647, 3030.00012543, 3449.77658766,\n        3615.31388084, 4012.61758393]),\n 'rough_sums': [1615.2769153873896,\n  1420.0072860350244,\n  1631.3024475940153,\n  2934.5326153046744,\n  1384.5901978147022,\n  332.0693500746728,\n  390.8974530838947,\n  533.6672972700078,\n  296.993918530664,\n  484.05563750117886,\n  139.54874256066788,\n  3048.3570255297223,\n  406.0519983509972,\n  697.995118993582,\n  1959.4193939934632,\n  288.7145225835527,\n  218.05373176553093,\n  353.2129721378957,\n  123.12848853921349,\n  435.2523980410171,\n  2432.312116591842,\n  203.12867491275858,\n  1210.5157980168542,\n  602.7490464623033,\n  679.9899761092106,\n  154.44418930093306,\n  319.7335641072061,\n  343.93605471554315,\n  299.1281510641544,\n  5327.999432441604,\n  144.2603645034211,\n  5053.077756923835,\n  317.05433603076654,\n  3185.804195126377,\n  146.37894795288796,\n  189.95064903744958,\n  75.49607158724038,\n  389.77175443427734,\n  58.73119355819848,\n  209.39997421270039,\n  145.8843505363524,\n  175.71868664624736],\n 'propts': {'peak_heights': array([ 551.09555582,  177.30774592,  449.53738119,  891.14542457,\n          520.32272445,  132.5526578 ,  215.97380516,   99.3847116 ,\n          112.99727786,  167.52972502,   71.51807459,  661.9816168 ,\n          151.15646652,  276.90042282,  662.3528314 ,   60.66627313,\n           63.11328554,  105.50884181,   63.42459446,  121.13242023,\n          694.32971739,   75.15595207,  366.19367186,  194.40901921,\n          179.00595505,   50.10352605,  116.70264009,  102.6005423 ,\n           76.60983837, 1451.95530773,   42.63501995, 1283.98053363,\n           78.0666564 ,  786.24852375,   46.92063573,   33.66923949,\n           22.91532047,   99.43590496,   19.24841713,   33.87701753,\n           31.6282845 ,   18.78923907]),\n  'left_thresholds': array([156.99696756,  12.80731429,  71.26039767, 484.41760117,\n         385.98077014,  91.28523318, 156.32124056,  45.16632918,\n          74.01524582,  10.95401831,  49.46820767,  77.63163902,\n          73.37375423, 121.47048412, 273.47007251,  11.18731903,\n          14.17555984,  39.20867727,  40.12266877,   2.12955151,\n          82.21217756,  51.071128  ,  64.13172976,  91.11327736,\n          65.12043412,  24.07850603,  55.13284319,  24.18761301,\n          15.15617717, 512.36051933,  12.14519685, 374.27008795,\n          16.16023596,  21.11641345,  20.02831494,   6.01859847,\n          20.01406296,  19.01761232,   7.00837308,   7.00039876,\n           6.01284856,   4.99928497]),\n  'right_thresholds': array([216.41817054,  42.17041163, 194.66435382, 239.24541943,\n          76.8782425 ,   0.69923551, 147.83826349,   5.85220512,\n          42.97554888,  92.19576955,  37.54072186, 171.46524788,\n          26.60204052, 121.61594793, 118.58562607,  21.81429351,\n          41.83539811,  25.81315115,  40.87625884,  81.90577183,\n         214.84624807,  10.92618776, 106.89976905,  49.90924019,\n          18.88484232,   6.92251454,  48.89793126,  52.83568321,\n          20.86211746, 155.65799146,  32.88089107, 128.76422695,\n           4.83603339, 311.92125158,  21.97855376,  12.98143746,\n           0.98625583,  42.98551885,   7.99224198,   0.99962066,\n           8.98796006,   3.00158205]),\n  'prominences': array([ 551.09555582,  177.30774592,  194.66435382,  891.14542457,\n          520.32272445,  132.5526578 ,  215.97380516,   99.3847116 ,\n          112.99727786,  167.52972502,   71.51807459,  661.9816168 ,\n          151.15646652,  276.90042282,  662.3528314 ,   60.66627313,\n           63.11328554,  105.50884181,   63.42459446,  121.13242023,\n          694.32971739,   75.15595207,  366.19367186,  194.40901921,\n          179.00595505,   50.10352605,  116.70264009,  102.6005423 ,\n           76.60983837, 1451.95530773,   42.63501995, 1283.98053363,\n           78.0666564 ,  786.24852375,   46.92063573,   33.66923949,\n           22.91532047,   99.43590496,   19.24841713,   33.87701753,\n           31.6282845 ,   18.78923907]),\n  'left_bases': array([  28,   36,  119,  119,  140,  224,  394,  482,  526,  579,  712,\n          835,  951,  983, 1077, 1109, 1124, 1152, 1193, 1252, 1324, 1369,\n         1450, 1492, 1530, 1578, 1587, 1820, 1836, 1916, 2026, 2176, 2258,\n         2388, 2465, 2600, 2831, 2889, 3023, 3444, 3607, 3998], dtype=int64),\n  'right_bases': array([  36,   56,  126,  134,  153,  238,  404,  492,  532,  585,  718,\n          849,  963, 1006, 1087, 1120, 1134, 1166, 1200, 1261, 1337, 1376,\n         1459, 1501, 1549, 1587, 1596, 1836, 1843, 1932, 2036, 2196, 2277,\n         2404, 2479, 2622, 2844, 2899, 3036, 3457, 3621, 4020], dtype=int64),\n  'widths': array([2.82113941, 6.82794156, 1.6102915 , 2.40346555, 2.28809399,\n         2.23259805, 1.42124068, 4.61486811, 2.24542055, 2.58907665,\n         1.67540902, 4.10003497, 2.59236336, 2.31094688, 2.78637246,\n         3.6544125 , 2.4444853 , 3.16030394, 1.56619567, 3.41043012,\n         3.2707362 , 2.37131309, 3.1789667 , 2.70130974, 3.11536242,\n         2.48897669, 2.35447333, 2.6629348 , 3.39970237, 3.33742531,\n         2.99448345, 3.60764103, 3.85416802, 3.75320006, 2.4672116 ,\n         3.92552417, 2.37878807, 3.30403774, 2.65348045, 5.90541545,\n         3.85199959, 6.59079776]),\n  'width_heights': array([275.54777791,  88.65387296, 352.20520428, 445.57271228,\n         260.16136223,  66.2763289 , 107.98690258,  49.6923558 ,\n          56.49863893,  83.76486251,  35.7590373 , 330.9908084 ,\n          75.57823326, 138.45021141, 331.1764157 ,  30.33313657,\n          31.55664277,  52.7544209 ,  31.71229723,  60.56621011,\n         347.16485869,  37.57797603, 183.09683593,  97.2045096 ,\n          89.50297753,  25.05176303,  58.35132004,  51.30027115,\n          38.30491918, 725.97765387,  21.31750997, 641.99026682,\n          39.0333282 , 393.12426187,  23.46031786,  16.83461975,\n          11.45766024,  49.71795248,   9.62420856,  16.93850877,\n          15.81414225,   9.39461953]),\n  'left_ips': array([  29.60442605,   40.38715242,  123.8897085 ,  127.08018885,\n          143.32597325,  234.2739644 ,  395.30919879,  485.50831903,\n          528.23666215,  580.31947765,  714.27713093,  839.76400285,\n          958.96624483, 1001.83572263, 1080.78084599, 1112.77540061,\n         1128.30981953, 1160.71294964, 1195.20961645, 1254.32903193,\n         1331.14028441, 1371.26420313, 1452.23302611, 1495.88305359,\n         1538.70652746, 1583.93086638, 1590.86073773, 1830.30800507,\n         1838.11502776, 1924.59939599, 2030.65384174, 2185.33601775,\n         2270.34880357, 2395.52684031, 2468.62003886, 2611.46046548,\n         2836.42751953, 2893.0701676 , 3028.6733852 , 3446.82387994,\n         3613.38788104, 4009.32218505]),\n  'right_ips': array([  32.42556546,   47.21509398,  125.5       ,  129.48365439,\n          145.61406725,  236.50656245,  396.73043947,  490.12318714,\n          530.4820827 ,  582.9085543 ,  715.95253995,  843.86403781,\n          961.55860819, 1004.14666951, 1083.56721844, 1116.42981311,\n         1130.75430483, 1163.87325358, 1196.77581212, 1257.73946205,\n         1334.41102061, 1373.63551622, 1455.41199282, 1498.58436333,\n         1541.82188989, 1586.41984307, 1593.21521106, 1832.97093987,\n         1841.51473013, 1927.9368213 , 2033.64832519, 2188.94365878,\n         2274.20297159, 2399.28004037, 2471.08725045, 2615.38598965,\n         2838.80630759, 2896.37420534, 3031.32686565, 3452.72929539,\n         3617.23988063, 4015.91298281])},\n 'fwhm_centr_ini': array([  29.60442605,   40.38715242,  123.8897085 ,  127.08018885,\n         143.32597325,  234.2739644 ,  395.30919879,  485.50831903,\n         528.23666215,  580.31947765,  714.27713093,  839.76400285,\n         958.96624483, 1001.83572263, 1080.78084599, 1112.77540061,\n        1128.30981953, 1160.71294964, 1195.20961645, 1254.32903193,\n        1331.14028441, 1371.26420313, 1452.23302611, 1495.88305359,\n        1538.70652746, 1583.93086638, 1590.86073773, 1830.30800507,\n        1838.11502776, 1924.59939599, 2030.65384174, 2185.33601775,\n        2270.34880357, 2395.52684031, 2468.62003886, 2611.46046548,\n        2836.42751953, 2893.0701676 , 3028.6733852 , 3446.82387994,\n        3613.38788104, 4009.32218505]),\n 'fwhm_centr_fin': array([  32.42556546,   47.21509398,  125.5       ,  129.48365439,\n         145.61406725,  236.50656245,  396.73043947,  490.12318714,\n         530.4820827 ,  582.9085543 ,  715.95253995,  843.86403781,\n         961.55860819, 1004.14666951, 1083.56721844, 1116.42981311,\n        1130.75430483, 1163.87325358, 1196.77581212, 1257.73946205,\n        1334.41102061, 1373.63551622, 1455.41199282, 1498.58436333,\n        1541.82188989, 1586.41984307, 1593.21521106, 1832.97093987,\n        1841.51473013, 1927.9368213 , 2033.64832519, 2188.94365878,\n        2274.20297159, 2399.28004037, 2471.08725045, 2615.38598965,\n        2838.80630759, 2896.37420534, 3031.32686565, 3452.72929539,\n        3617.23988063, 4015.91298281]),\n 'centroids': [31.185666210373373,\n  44.31841845185495,\n  125.249050828693,\n  127.66010311972907,\n  144.5482997026933,\n  235.14270390687855,\n  396.2628670501287,\n  488.1466176499413,\n  529.1647686659893,\n  581.7720473907531,\n  715.0401914634252,\n  841.6894511627432,\n  960.2117130685235,\n  1002.8901449071483,\n  1082.105279651268,\n  1114.435339551133,\n  1129.5741951663754,\n  1161.9280170566901,\n  1195.9855755952158,\n  1256.102621965556,\n  1332.659286822325,\n  1372.5253257744837,\n  1453.8191768659492,\n  1497.1863091929347,\n  1540.1472360590367,\n  1584.673669133088,\n  1591.9147937995629,\n  1831.7336074568057,\n  1839.6697607922015,\n  1926.274635924444,\n  2031.6327056036655,\n  2187.0213781545376,\n  2272.02499601513,\n  2397.3208071829686,\n  2469.4854572220156,\n  2613.9013029562166,\n  2837.9386790233625,\n  2894.376486948054,\n  3029.901683353041,\n  3449.9775856996607,\n  3614.7879341752136,\n  4011.784325388193],\n 'variances': [10253.822135085107,\n  21551.688710064227,\n  6686.697552405985,\n  10095.467384695325,\n  7785.409802185299,\n  7906.952591743568,\n  5348.525570197073,\n  10969.66156322829,\n  4995.0718026810155,\n  5194.312189177603,\n  2414.451257439332,\n  7521.642974470278,\n  2882.545720460839,\n  2736.329975022064,\n  4312.580606006537,\n  3039.768313112102,\n  2185.9462682344692,\n  2689.5210753086963,\n  1268.8715114607867,\n  2803.245987975827,\n  4503.067377149892,\n  1820.513076138195,\n  2970.6376134947386,\n  2130.5931688559294,\n  2354.0100238907894,\n  1413.302380864252,\n  1570.2664358927939,\n  1408.0639452844568,\n  1596.8673327455117,\n  6448.000567558395,\n  943.7952553453528,\n  5714.922243076165,\n  888.9592788345183,\n  3614.195804873623,\n  371.6210520471121,\n  534.0493509625504,\n  230.50392841275965,\n  600.7635054164838,\n  195.26880644180153,\n  495.2176080812016,\n  322.4458346845167,\n  384.51157638125017]}"
     },
     "execution_count": 77,
     "metadata": {},
     "output_type": "execute_result"
    }
   ],
   "source": [
    "vars(a_spec.net_spec_ser_an.pk_parms)"
   ],
   "metadata": {
    "collapsed": false
   }
  },
  {
   "cell_type": "code",
   "execution_count": 78,
   "outputs": [],
   "source": [
    "# 2022-Jun-24 No momento esses são os que interessam:\n",
    "# pann = ogra.a_spec..saw_spec.spec_parms\n",
    "cntarr = a_spec.net_spec_ser_an.y_s\n",
    "pkprms = a_spec.net_spec_ser_an.pk_parms"
   ],
   "metadata": {
    "collapsed": false
   }
  },
  {
   "cell_type": "code",
   "execution_count": 79,
   "outputs": [
    {
     "data": {
      "text/plain": "{'calib_kind': 'channel energy',\n 'p_en': Polynomial([-1.99049842,  0.61104035,  0.        ], domain=[-1,  1], window=[-1,  1]),\n 'coeffs_ch_en': array([ 0.        ,  0.61104035, -1.99049842]),\n 'en_ch_calib': array([], dtype=float64),\n 'chan_calib': array([], dtype=float64)}"
     },
     "execution_count": 79,
     "metadata": {},
     "output_type": "execute_result"
    }
   ],
   "source": [
    "vars(a_spec.channel_energy_calib)"
   ],
   "metadata": {
    "collapsed": false
   }
  },
  {
   "cell_type": "code",
   "execution_count": 80,
   "outputs": [
    {
     "data": {
      "text/plain": "275.1163020133972"
     },
     "execution_count": 80,
     "metadata": {},
     "output_type": "execute_result"
    }
   ],
   "source": [
    "a_spec.channel_energy_calib.p_en(453.5)"
   ],
   "metadata": {
    "collapsed": false
   }
  },
  {
   "cell_type": "code",
   "execution_count": 81,
   "outputs": [
    {
     "data": {
      "text/plain": "WindowsPath('C:/Users/mmaduar/Nextcloud/Genie_Transfer/almera22/user2023/SI2022/SI06322.pkl')"
     },
     "execution_count": 81,
     "metadata": {},
     "output_type": "execute_result"
    }
   ],
   "source": [
    "a_spec.pkl_file"
   ],
   "metadata": {
    "collapsed": false
   }
  },
  {
   "cell_type": "code",
   "execution_count": 82,
   "outputs": [
    {
     "data": {
      "text/plain": "                                     net_spec_ser_an  \\\n0  <generic_series_analysis_class.GenericSeriesAn...   \n\n                             final_composed_baseline  \\\n0  <generic_series_analysis_class.GenericSeriesAn...   \n\n                                              f_name  \\\n0  C:\\Users\\mmaduar\\Nextcloud\\Genie_Transfer\\alme...   \n\n                         reduced_f_name  sufx spec_io  lv_time   rl_time  \\\n0  almera22/user2023/SI2022/SI06322.Chn  .chn    None  50000.0  50028.58   \n\n  source_datetime                                           pkl_file  \\\n0            None  C:\\Users\\mmaduar\\Nextcloud\\Genie_Transfer\\alme...   \n\n                                   gross_spec_ser_an  \\\n0  <generic_series_analysis_class.GenericSeriesAn...   \n\n                                  origin_spec_ser_an      start_datetime  \\\n0  <generic_series_analysis_class.GenericSeriesAn... 2022-08-04 19:42:23   \n\n                  det_descr  \\\n0  MAQUINA_01 MCB 1 Input 1   \n\n                                           sam_descr  \\\n0  SI-063/22 - Agua da Piscina do Reator IEA-R1 (...   \n\n                                channel_energy_calib  \n0  <genericcalib_class.ChannelEnergyCalib object ...  ",
      "text/html": "<div>\n<style scoped>\n    .dataframe tbody tr th:only-of-type {\n        vertical-align: middle;\n    }\n\n    .dataframe tbody tr th {\n        vertical-align: top;\n    }\n\n    .dataframe thead th {\n        text-align: right;\n    }\n</style>\n<table border=\"1\" class=\"dataframe\">\n  <thead>\n    <tr style=\"text-align: right;\">\n      <th></th>\n      <th>net_spec_ser_an</th>\n      <th>final_composed_baseline</th>\n      <th>f_name</th>\n      <th>reduced_f_name</th>\n      <th>sufx</th>\n      <th>spec_io</th>\n      <th>lv_time</th>\n      <th>rl_time</th>\n      <th>source_datetime</th>\n      <th>pkl_file</th>\n      <th>gross_spec_ser_an</th>\n      <th>origin_spec_ser_an</th>\n      <th>start_datetime</th>\n      <th>det_descr</th>\n      <th>sam_descr</th>\n      <th>channel_energy_calib</th>\n    </tr>\n  </thead>\n  <tbody>\n    <tr>\n      <th>0</th>\n      <td>&lt;generic_series_analysis_class.GenericSeriesAn...</td>\n      <td>&lt;generic_series_analysis_class.GenericSeriesAn...</td>\n      <td>C:\\Users\\mmaduar\\Nextcloud\\Genie_Transfer\\alme...</td>\n      <td>almera22/user2023/SI2022/SI06322.Chn</td>\n      <td>.chn</td>\n      <td>None</td>\n      <td>50000.0</td>\n      <td>50028.58</td>\n      <td>None</td>\n      <td>C:\\Users\\mmaduar\\Nextcloud\\Genie_Transfer\\alme...</td>\n      <td>&lt;generic_series_analysis_class.GenericSeriesAn...</td>\n      <td>&lt;generic_series_analysis_class.GenericSeriesAn...</td>\n      <td>2022-08-04 19:42:23</td>\n      <td>MAQUINA_01 MCB 1 Input 1</td>\n      <td>SI-063/22 - Agua da Piscina do Reator IEA-R1 (...</td>\n      <td>&lt;genericcalib_class.ChannelEnergyCalib object ...</td>\n    </tr>\n  </tbody>\n</table>\n</div>"
     },
     "execution_count": 82,
     "metadata": {},
     "output_type": "execute_result"
    }
   ],
   "source": [
    "df_1 = pd.read_pickle(a_spec.pkl_file)\n",
    "df_1"
   ],
   "metadata": {
    "collapsed": false
   }
  },
  {
   "cell_type": "code",
   "execution_count": 83,
   "outputs": [
    {
     "data": {
      "text/plain": "       Nucl      Engy  sEngy      Yie   sYie\n0   Ag-110m   446.811  0.003    3.750  0.030\n1   Ag-110m   620.360  0.003    2.806  0.018\n2   Ag-110m   657.762  0.002   94.600  0.400\n3   Ag-110m   677.723  0.002   10.350  0.080\n4   Ag-110m   687.015  0.003    6.440  0.060\n5   Ag-110m   706.682  0.003   16.440  0.100\n6   Ag-110m   744.277  0.003    4.730  0.030\n7   Ag-110m   763.944  0.003   22.290  0.090\n8   Ag-110m   818.031  0.003    7.340  0.040\n9   Ag-110m   884.685  0.003   72.700  0.300\n10  Ag-110m   937.493  0.004   34.360  0.120\n11  Ag-110m  1384.300  0.004   24.280  0.080\n12  Ag-110m  1475.788  0.006    3.995  0.017\n13  Ag-110m  1505.040  0.005   13.040  0.050\n14  Ag-110m  1562.302  0.005    1.029  0.007\n15   Ba-140   304.874  0.007    4.300  0.060\n16   Ba-140   537.311  0.003   24.390  0.220\n17    Co-58   810.775  0.009   99.448  0.008\n18    Co-58  1674.730  0.010    0.518  0.008\n19    Co-60  1173.237  0.004   99.900  0.020\n20    Co-60  1332.501  0.005   99.982  0.001\n21    Cr-51   320.084  0.001   10.080  0.230\n22   Cs-137   661.660  0.003   85.210  0.070\n23    I-131   284.298  0.011    6.060  0.090\n24    I-131   364.480  0.011   81.200  1.200\n25    I-131   636.973  0.010    7.270  0.110\n26    I-131   722.893  0.010    1.800  0.030\n27   La-140   328.762  0.008   20.600  0.400\n28   La-140   487.021  0.012   44.300  0.800\n29   La-140   815.772  0.019   22.900  0.400\n30   La-140   867.846  0.020    5.590  0.050\n31   La-140   925.189  0.021    6.930  0.080\n32   La-140  1596.210  0.040   95.400  0.080\n33   La-140  2521.400  0.050    3.420  0.050\n34    Mn-54   834.827  0.001   99.975  0.005\n35    Na-24  1368.550  0.040  100.000  0.001\n36    Na-24  2754.050  0.080   99.944  0.004\n37   Np-239   106.123  0.002   22.900  1.200\n38   Np-239   228.183  0.001   10.800  0.600\n39   Np-239   277.599  0.001   14.200  0.200\n40   Ru-103   497.084  0.006   91.000  3.000\n41   Ru-103   610.330  0.020    5.730  0.190\n42   Te-132   228.160  0.060   88.200  0.400\n43    W-187   134.247  0.007    8.800  0.300\n44    W-187   479.550  0.022   21.800  0.800\n45    W-187   618.260  0.040    6.280  0.220\n46    W-187   685.730  0.040   27.300  1.000\n47    W-187   772.890  0.050    4.120  0.140\n48    Zn-65  1115.520  0.001   50.750  0.100",
      "text/html": "<div>\n<style scoped>\n    .dataframe tbody tr th:only-of-type {\n        vertical-align: middle;\n    }\n\n    .dataframe tbody tr th {\n        vertical-align: top;\n    }\n\n    .dataframe thead th {\n        text-align: right;\n    }\n</style>\n<table border=\"1\" class=\"dataframe\">\n  <thead>\n    <tr style=\"text-align: right;\">\n      <th></th>\n      <th>Nucl</th>\n      <th>Engy</th>\n      <th>sEngy</th>\n      <th>Yie</th>\n      <th>sYie</th>\n    </tr>\n  </thead>\n  <tbody>\n    <tr>\n      <th>0</th>\n      <td>Ag-110m</td>\n      <td>446.811</td>\n      <td>0.003</td>\n      <td>3.750</td>\n      <td>0.030</td>\n    </tr>\n    <tr>\n      <th>1</th>\n      <td>Ag-110m</td>\n      <td>620.360</td>\n      <td>0.003</td>\n      <td>2.806</td>\n      <td>0.018</td>\n    </tr>\n    <tr>\n      <th>2</th>\n      <td>Ag-110m</td>\n      <td>657.762</td>\n      <td>0.002</td>\n      <td>94.600</td>\n      <td>0.400</td>\n    </tr>\n    <tr>\n      <th>3</th>\n      <td>Ag-110m</td>\n      <td>677.723</td>\n      <td>0.002</td>\n      <td>10.350</td>\n      <td>0.080</td>\n    </tr>\n    <tr>\n      <th>4</th>\n      <td>Ag-110m</td>\n      <td>687.015</td>\n      <td>0.003</td>\n      <td>6.440</td>\n      <td>0.060</td>\n    </tr>\n    <tr>\n      <th>5</th>\n      <td>Ag-110m</td>\n      <td>706.682</td>\n      <td>0.003</td>\n      <td>16.440</td>\n      <td>0.100</td>\n    </tr>\n    <tr>\n      <th>6</th>\n      <td>Ag-110m</td>\n      <td>744.277</td>\n      <td>0.003</td>\n      <td>4.730</td>\n      <td>0.030</td>\n    </tr>\n    <tr>\n      <th>7</th>\n      <td>Ag-110m</td>\n      <td>763.944</td>\n      <td>0.003</td>\n      <td>22.290</td>\n      <td>0.090</td>\n    </tr>\n    <tr>\n      <th>8</th>\n      <td>Ag-110m</td>\n      <td>818.031</td>\n      <td>0.003</td>\n      <td>7.340</td>\n      <td>0.040</td>\n    </tr>\n    <tr>\n      <th>9</th>\n      <td>Ag-110m</td>\n      <td>884.685</td>\n      <td>0.003</td>\n      <td>72.700</td>\n      <td>0.300</td>\n    </tr>\n    <tr>\n      <th>10</th>\n      <td>Ag-110m</td>\n      <td>937.493</td>\n      <td>0.004</td>\n      <td>34.360</td>\n      <td>0.120</td>\n    </tr>\n    <tr>\n      <th>11</th>\n      <td>Ag-110m</td>\n      <td>1384.300</td>\n      <td>0.004</td>\n      <td>24.280</td>\n      <td>0.080</td>\n    </tr>\n    <tr>\n      <th>12</th>\n      <td>Ag-110m</td>\n      <td>1475.788</td>\n      <td>0.006</td>\n      <td>3.995</td>\n      <td>0.017</td>\n    </tr>\n    <tr>\n      <th>13</th>\n      <td>Ag-110m</td>\n      <td>1505.040</td>\n      <td>0.005</td>\n      <td>13.040</td>\n      <td>0.050</td>\n    </tr>\n    <tr>\n      <th>14</th>\n      <td>Ag-110m</td>\n      <td>1562.302</td>\n      <td>0.005</td>\n      <td>1.029</td>\n      <td>0.007</td>\n    </tr>\n    <tr>\n      <th>15</th>\n      <td>Ba-140</td>\n      <td>304.874</td>\n      <td>0.007</td>\n      <td>4.300</td>\n      <td>0.060</td>\n    </tr>\n    <tr>\n      <th>16</th>\n      <td>Ba-140</td>\n      <td>537.311</td>\n      <td>0.003</td>\n      <td>24.390</td>\n      <td>0.220</td>\n    </tr>\n    <tr>\n      <th>17</th>\n      <td>Co-58</td>\n      <td>810.775</td>\n      <td>0.009</td>\n      <td>99.448</td>\n      <td>0.008</td>\n    </tr>\n    <tr>\n      <th>18</th>\n      <td>Co-58</td>\n      <td>1674.730</td>\n      <td>0.010</td>\n      <td>0.518</td>\n      <td>0.008</td>\n    </tr>\n    <tr>\n      <th>19</th>\n      <td>Co-60</td>\n      <td>1173.237</td>\n      <td>0.004</td>\n      <td>99.900</td>\n      <td>0.020</td>\n    </tr>\n    <tr>\n      <th>20</th>\n      <td>Co-60</td>\n      <td>1332.501</td>\n      <td>0.005</td>\n      <td>99.982</td>\n      <td>0.001</td>\n    </tr>\n    <tr>\n      <th>21</th>\n      <td>Cr-51</td>\n      <td>320.084</td>\n      <td>0.001</td>\n      <td>10.080</td>\n      <td>0.230</td>\n    </tr>\n    <tr>\n      <th>22</th>\n      <td>Cs-137</td>\n      <td>661.660</td>\n      <td>0.003</td>\n      <td>85.210</td>\n      <td>0.070</td>\n    </tr>\n    <tr>\n      <th>23</th>\n      <td>I-131</td>\n      <td>284.298</td>\n      <td>0.011</td>\n      <td>6.060</td>\n      <td>0.090</td>\n    </tr>\n    <tr>\n      <th>24</th>\n      <td>I-131</td>\n      <td>364.480</td>\n      <td>0.011</td>\n      <td>81.200</td>\n      <td>1.200</td>\n    </tr>\n    <tr>\n      <th>25</th>\n      <td>I-131</td>\n      <td>636.973</td>\n      <td>0.010</td>\n      <td>7.270</td>\n      <td>0.110</td>\n    </tr>\n    <tr>\n      <th>26</th>\n      <td>I-131</td>\n      <td>722.893</td>\n      <td>0.010</td>\n      <td>1.800</td>\n      <td>0.030</td>\n    </tr>\n    <tr>\n      <th>27</th>\n      <td>La-140</td>\n      <td>328.762</td>\n      <td>0.008</td>\n      <td>20.600</td>\n      <td>0.400</td>\n    </tr>\n    <tr>\n      <th>28</th>\n      <td>La-140</td>\n      <td>487.021</td>\n      <td>0.012</td>\n      <td>44.300</td>\n      <td>0.800</td>\n    </tr>\n    <tr>\n      <th>29</th>\n      <td>La-140</td>\n      <td>815.772</td>\n      <td>0.019</td>\n      <td>22.900</td>\n      <td>0.400</td>\n    </tr>\n    <tr>\n      <th>30</th>\n      <td>La-140</td>\n      <td>867.846</td>\n      <td>0.020</td>\n      <td>5.590</td>\n      <td>0.050</td>\n    </tr>\n    <tr>\n      <th>31</th>\n      <td>La-140</td>\n      <td>925.189</td>\n      <td>0.021</td>\n      <td>6.930</td>\n      <td>0.080</td>\n    </tr>\n    <tr>\n      <th>32</th>\n      <td>La-140</td>\n      <td>1596.210</td>\n      <td>0.040</td>\n      <td>95.400</td>\n      <td>0.080</td>\n    </tr>\n    <tr>\n      <th>33</th>\n      <td>La-140</td>\n      <td>2521.400</td>\n      <td>0.050</td>\n      <td>3.420</td>\n      <td>0.050</td>\n    </tr>\n    <tr>\n      <th>34</th>\n      <td>Mn-54</td>\n      <td>834.827</td>\n      <td>0.001</td>\n      <td>99.975</td>\n      <td>0.005</td>\n    </tr>\n    <tr>\n      <th>35</th>\n      <td>Na-24</td>\n      <td>1368.550</td>\n      <td>0.040</td>\n      <td>100.000</td>\n      <td>0.001</td>\n    </tr>\n    <tr>\n      <th>36</th>\n      <td>Na-24</td>\n      <td>2754.050</td>\n      <td>0.080</td>\n      <td>99.944</td>\n      <td>0.004</td>\n    </tr>\n    <tr>\n      <th>37</th>\n      <td>Np-239</td>\n      <td>106.123</td>\n      <td>0.002</td>\n      <td>22.900</td>\n      <td>1.200</td>\n    </tr>\n    <tr>\n      <th>38</th>\n      <td>Np-239</td>\n      <td>228.183</td>\n      <td>0.001</td>\n      <td>10.800</td>\n      <td>0.600</td>\n    </tr>\n    <tr>\n      <th>39</th>\n      <td>Np-239</td>\n      <td>277.599</td>\n      <td>0.001</td>\n      <td>14.200</td>\n      <td>0.200</td>\n    </tr>\n    <tr>\n      <th>40</th>\n      <td>Ru-103</td>\n      <td>497.084</td>\n      <td>0.006</td>\n      <td>91.000</td>\n      <td>3.000</td>\n    </tr>\n    <tr>\n      <th>41</th>\n      <td>Ru-103</td>\n      <td>610.330</td>\n      <td>0.020</td>\n      <td>5.730</td>\n      <td>0.190</td>\n    </tr>\n    <tr>\n      <th>42</th>\n      <td>Te-132</td>\n      <td>228.160</td>\n      <td>0.060</td>\n      <td>88.200</td>\n      <td>0.400</td>\n    </tr>\n    <tr>\n      <th>43</th>\n      <td>W-187</td>\n      <td>134.247</td>\n      <td>0.007</td>\n      <td>8.800</td>\n      <td>0.300</td>\n    </tr>\n    <tr>\n      <th>44</th>\n      <td>W-187</td>\n      <td>479.550</td>\n      <td>0.022</td>\n      <td>21.800</td>\n      <td>0.800</td>\n    </tr>\n    <tr>\n      <th>45</th>\n      <td>W-187</td>\n      <td>618.260</td>\n      <td>0.040</td>\n      <td>6.280</td>\n      <td>0.220</td>\n    </tr>\n    <tr>\n      <th>46</th>\n      <td>W-187</td>\n      <td>685.730</td>\n      <td>0.040</td>\n      <td>27.300</td>\n      <td>1.000</td>\n    </tr>\n    <tr>\n      <th>47</th>\n      <td>W-187</td>\n      <td>772.890</td>\n      <td>0.050</td>\n      <td>4.120</td>\n      <td>0.140</td>\n    </tr>\n    <tr>\n      <th>48</th>\n      <td>Zn-65</td>\n      <td>1115.520</td>\n      <td>0.001</td>\n      <td>50.750</td>\n      <td>0.100</td>\n    </tr>\n  </tbody>\n</table>\n</div>"
     },
     "execution_count": 83,
     "metadata": {},
     "output_type": "execute_result"
    }
   ],
   "source": [
    "# 2023-Mar-20\n",
    "# Lendo biblioteca de nuclídeos\n",
    "pisciro_eng_df = pd.read_excel('../data/Pisciro-Eng_(2019).ods')\n",
    "pisciro_eng_df"
   ],
   "metadata": {
    "collapsed": false
   }
  },
  {
   "cell_type": "code",
   "execution_count": 84,
   "outputs": [
    {
     "data": {
      "text/plain": "{'k_fwhm_to_sd': 0.42466090014400953,\n 'peaks': array([  31,   42,  125,  128,  144,  235,  396,  488,  529,  582,  715,\n         842,  960, 1003, 1082, 1115, 1130, 1162, 1196, 1257, 1333, 1372,\n        1454, 1497, 1540, 1585, 1592, 1832, 1840, 1926, 2033, 2187, 2272,\n        2398, 2470, 2614, 2837, 2895, 3030, 3450, 3615, 4014], dtype=int64),\n 'pk_hei': array([], dtype=float64),\n 'widths': (None, None),\n 'mix_regions': array([], dtype=float64),\n 'plateaux': array([], dtype=float64),\n 'fwhm_plateaux': array([], dtype=float64),\n 'wide_regions': array([[  27,   35],\n        [  34,   54],\n        [ 123,  127],\n        [ 125,  131],\n        [ 142,  147],\n        [ 233,  238],\n        [ 394,  398],\n        [ 481,  494],\n        [ 526,  532],\n        [ 578,  585],\n        [ 713,  717],\n        [ 836,  847],\n        [ 957,  964],\n        [1000, 1006],\n        [1078, 1086],\n        [1110, 1120],\n        [1126, 1133],\n        [1158, 1167],\n        [1194, 1198],\n        [1251, 1261],\n        [1328, 1337],\n        [1369, 1376],\n        [1450, 1458],\n        [1494, 1501],\n        [1536, 1544],\n        [1582, 1588],\n        [1589, 1595],\n        [1828, 1835],\n        [1835, 1844],\n        [1922, 1931],\n        [2028, 2036],\n        [2182, 2192],\n        [2267, 2278],\n        [2392, 2403],\n        [2467, 2473],\n        [2608, 2619],\n        [2835, 2841],\n        [2890, 2899],\n        [3027, 3033],\n        [3441, 3458],\n        [3610, 3621],\n        [4003, 4022]]),\n 'fwhm_centr': array([  31.01499575,   43.8011232 ,  124.69485425,  128.28192162,\n         144.47002025,  235.39026343,  396.01981913,  487.81575308,\n         529.35937242,  581.61401597,  715.11483544,  841.81402033,\n         960.26242651, 1002.99119607, 1082.17403221, 1114.60260686,\n        1129.53206218, 1162.29310161, 1195.99271429, 1256.03424699,\n        1332.77565251, 1372.44985968, 1453.82250946, 1497.23370846,\n        1540.26420868, 1585.17535473, 1592.0379744 , 1831.63947247,\n        1839.81487894, 1926.26810864, 2032.15108347, 2187.13983827,\n        2272.27588758, 2397.40344034, 2469.85364465, 2613.42322756,\n        2837.61691356, 2894.72218647, 3030.00012543, 3449.77658766,\n        3615.31388084, 4012.61758393]),\n 'rough_sums': [1615.2769153873896,\n  1420.0072860350244,\n  1631.3024475940153,\n  2934.5326153046744,\n  1384.5901978147022,\n  332.0693500746728,\n  390.8974530838947,\n  533.6672972700078,\n  296.993918530664,\n  484.05563750117886,\n  139.54874256066788,\n  3048.3570255297223,\n  406.0519983509972,\n  697.995118993582,\n  1959.4193939934632,\n  288.7145225835527,\n  218.05373176553093,\n  353.2129721378957,\n  123.12848853921349,\n  435.2523980410171,\n  2432.312116591842,\n  203.12867491275858,\n  1210.5157980168542,\n  602.7490464623033,\n  679.9899761092106,\n  154.44418930093306,\n  319.7335641072061,\n  343.93605471554315,\n  299.1281510641544,\n  5327.999432441604,\n  144.2603645034211,\n  5053.077756923835,\n  317.05433603076654,\n  3185.804195126377,\n  146.37894795288796,\n  189.95064903744958,\n  75.49607158724038,\n  389.77175443427734,\n  58.73119355819848,\n  209.39997421270039,\n  145.8843505363524,\n  175.71868664624736],\n 'propts': {'peak_heights': array([ 551.09555582,  177.30774592,  449.53738119,  891.14542457,\n          520.32272445,  132.5526578 ,  215.97380516,   99.3847116 ,\n          112.99727786,  167.52972502,   71.51807459,  661.9816168 ,\n          151.15646652,  276.90042282,  662.3528314 ,   60.66627313,\n           63.11328554,  105.50884181,   63.42459446,  121.13242023,\n          694.32971739,   75.15595207,  366.19367186,  194.40901921,\n          179.00595505,   50.10352605,  116.70264009,  102.6005423 ,\n           76.60983837, 1451.95530773,   42.63501995, 1283.98053363,\n           78.0666564 ,  786.24852375,   46.92063573,   33.66923949,\n           22.91532047,   99.43590496,   19.24841713,   33.87701753,\n           31.6282845 ,   18.78923907]),\n  'left_thresholds': array([156.99696756,  12.80731429,  71.26039767, 484.41760117,\n         385.98077014,  91.28523318, 156.32124056,  45.16632918,\n          74.01524582,  10.95401831,  49.46820767,  77.63163902,\n          73.37375423, 121.47048412, 273.47007251,  11.18731903,\n          14.17555984,  39.20867727,  40.12266877,   2.12955151,\n          82.21217756,  51.071128  ,  64.13172976,  91.11327736,\n          65.12043412,  24.07850603,  55.13284319,  24.18761301,\n          15.15617717, 512.36051933,  12.14519685, 374.27008795,\n          16.16023596,  21.11641345,  20.02831494,   6.01859847,\n          20.01406296,  19.01761232,   7.00837308,   7.00039876,\n           6.01284856,   4.99928497]),\n  'right_thresholds': array([216.41817054,  42.17041163, 194.66435382, 239.24541943,\n          76.8782425 ,   0.69923551, 147.83826349,   5.85220512,\n          42.97554888,  92.19576955,  37.54072186, 171.46524788,\n          26.60204052, 121.61594793, 118.58562607,  21.81429351,\n          41.83539811,  25.81315115,  40.87625884,  81.90577183,\n         214.84624807,  10.92618776, 106.89976905,  49.90924019,\n          18.88484232,   6.92251454,  48.89793126,  52.83568321,\n          20.86211746, 155.65799146,  32.88089107, 128.76422695,\n           4.83603339, 311.92125158,  21.97855376,  12.98143746,\n           0.98625583,  42.98551885,   7.99224198,   0.99962066,\n           8.98796006,   3.00158205]),\n  'prominences': array([ 551.09555582,  177.30774592,  194.66435382,  891.14542457,\n          520.32272445,  132.5526578 ,  215.97380516,   99.3847116 ,\n          112.99727786,  167.52972502,   71.51807459,  661.9816168 ,\n          151.15646652,  276.90042282,  662.3528314 ,   60.66627313,\n           63.11328554,  105.50884181,   63.42459446,  121.13242023,\n          694.32971739,   75.15595207,  366.19367186,  194.40901921,\n          179.00595505,   50.10352605,  116.70264009,  102.6005423 ,\n           76.60983837, 1451.95530773,   42.63501995, 1283.98053363,\n           78.0666564 ,  786.24852375,   46.92063573,   33.66923949,\n           22.91532047,   99.43590496,   19.24841713,   33.87701753,\n           31.6282845 ,   18.78923907]),\n  'left_bases': array([  28,   36,  119,  119,  140,  224,  394,  482,  526,  579,  712,\n          835,  951,  983, 1077, 1109, 1124, 1152, 1193, 1252, 1324, 1369,\n         1450, 1492, 1530, 1578, 1587, 1820, 1836, 1916, 2026, 2176, 2258,\n         2388, 2465, 2600, 2831, 2889, 3023, 3444, 3607, 3998], dtype=int64),\n  'right_bases': array([  36,   56,  126,  134,  153,  238,  404,  492,  532,  585,  718,\n          849,  963, 1006, 1087, 1120, 1134, 1166, 1200, 1261, 1337, 1376,\n         1459, 1501, 1549, 1587, 1596, 1836, 1843, 1932, 2036, 2196, 2277,\n         2404, 2479, 2622, 2844, 2899, 3036, 3457, 3621, 4020], dtype=int64),\n  'widths': array([2.82113941, 6.82794156, 1.6102915 , 2.40346555, 2.28809399,\n         2.23259805, 1.42124068, 4.61486811, 2.24542055, 2.58907665,\n         1.67540902, 4.10003497, 2.59236336, 2.31094688, 2.78637246,\n         3.6544125 , 2.4444853 , 3.16030394, 1.56619567, 3.41043012,\n         3.2707362 , 2.37131309, 3.1789667 , 2.70130974, 3.11536242,\n         2.48897669, 2.35447333, 2.6629348 , 3.39970237, 3.33742531,\n         2.99448345, 3.60764103, 3.85416802, 3.75320006, 2.4672116 ,\n         3.92552417, 2.37878807, 3.30403774, 2.65348045, 5.90541545,\n         3.85199959, 6.59079776]),\n  'width_heights': array([275.54777791,  88.65387296, 352.20520428, 445.57271228,\n         260.16136223,  66.2763289 , 107.98690258,  49.6923558 ,\n          56.49863893,  83.76486251,  35.7590373 , 330.9908084 ,\n          75.57823326, 138.45021141, 331.1764157 ,  30.33313657,\n          31.55664277,  52.7544209 ,  31.71229723,  60.56621011,\n         347.16485869,  37.57797603, 183.09683593,  97.2045096 ,\n          89.50297753,  25.05176303,  58.35132004,  51.30027115,\n          38.30491918, 725.97765387,  21.31750997, 641.99026682,\n          39.0333282 , 393.12426187,  23.46031786,  16.83461975,\n          11.45766024,  49.71795248,   9.62420856,  16.93850877,\n          15.81414225,   9.39461953]),\n  'left_ips': array([  29.60442605,   40.38715242,  123.8897085 ,  127.08018885,\n          143.32597325,  234.2739644 ,  395.30919879,  485.50831903,\n          528.23666215,  580.31947765,  714.27713093,  839.76400285,\n          958.96624483, 1001.83572263, 1080.78084599, 1112.77540061,\n         1128.30981953, 1160.71294964, 1195.20961645, 1254.32903193,\n         1331.14028441, 1371.26420313, 1452.23302611, 1495.88305359,\n         1538.70652746, 1583.93086638, 1590.86073773, 1830.30800507,\n         1838.11502776, 1924.59939599, 2030.65384174, 2185.33601775,\n         2270.34880357, 2395.52684031, 2468.62003886, 2611.46046548,\n         2836.42751953, 2893.0701676 , 3028.6733852 , 3446.82387994,\n         3613.38788104, 4009.32218505]),\n  'right_ips': array([  32.42556546,   47.21509398,  125.5       ,  129.48365439,\n          145.61406725,  236.50656245,  396.73043947,  490.12318714,\n          530.4820827 ,  582.9085543 ,  715.95253995,  843.86403781,\n          961.55860819, 1004.14666951, 1083.56721844, 1116.42981311,\n         1130.75430483, 1163.87325358, 1196.77581212, 1257.73946205,\n         1334.41102061, 1373.63551622, 1455.41199282, 1498.58436333,\n         1541.82188989, 1586.41984307, 1593.21521106, 1832.97093987,\n         1841.51473013, 1927.9368213 , 2033.64832519, 2188.94365878,\n         2274.20297159, 2399.28004037, 2471.08725045, 2615.38598965,\n         2838.80630759, 2896.37420534, 3031.32686565, 3452.72929539,\n         3617.23988063, 4015.91298281])},\n 'fwhm_centr_ini': array([  29.60442605,   40.38715242,  123.8897085 ,  127.08018885,\n         143.32597325,  234.2739644 ,  395.30919879,  485.50831903,\n         528.23666215,  580.31947765,  714.27713093,  839.76400285,\n         958.96624483, 1001.83572263, 1080.78084599, 1112.77540061,\n        1128.30981953, 1160.71294964, 1195.20961645, 1254.32903193,\n        1331.14028441, 1371.26420313, 1452.23302611, 1495.88305359,\n        1538.70652746, 1583.93086638, 1590.86073773, 1830.30800507,\n        1838.11502776, 1924.59939599, 2030.65384174, 2185.33601775,\n        2270.34880357, 2395.52684031, 2468.62003886, 2611.46046548,\n        2836.42751953, 2893.0701676 , 3028.6733852 , 3446.82387994,\n        3613.38788104, 4009.32218505]),\n 'fwhm_centr_fin': array([  32.42556546,   47.21509398,  125.5       ,  129.48365439,\n         145.61406725,  236.50656245,  396.73043947,  490.12318714,\n         530.4820827 ,  582.9085543 ,  715.95253995,  843.86403781,\n         961.55860819, 1004.14666951, 1083.56721844, 1116.42981311,\n        1130.75430483, 1163.87325358, 1196.77581212, 1257.73946205,\n        1334.41102061, 1373.63551622, 1455.41199282, 1498.58436333,\n        1541.82188989, 1586.41984307, 1593.21521106, 1832.97093987,\n        1841.51473013, 1927.9368213 , 2033.64832519, 2188.94365878,\n        2274.20297159, 2399.28004037, 2471.08725045, 2615.38598965,\n        2838.80630759, 2896.37420534, 3031.32686565, 3452.72929539,\n        3617.23988063, 4015.91298281]),\n 'centroids': [31.185666210373373,\n  44.31841845185495,\n  125.249050828693,\n  127.66010311972907,\n  144.5482997026933,\n  235.14270390687855,\n  396.2628670501287,\n  488.1466176499413,\n  529.1647686659893,\n  581.7720473907531,\n  715.0401914634252,\n  841.6894511627432,\n  960.2117130685235,\n  1002.8901449071483,\n  1082.105279651268,\n  1114.435339551133,\n  1129.5741951663754,\n  1161.9280170566901,\n  1195.9855755952158,\n  1256.102621965556,\n  1332.659286822325,\n  1372.5253257744837,\n  1453.8191768659492,\n  1497.1863091929347,\n  1540.1472360590367,\n  1584.673669133088,\n  1591.9147937995629,\n  1831.7336074568057,\n  1839.6697607922015,\n  1926.274635924444,\n  2031.6327056036655,\n  2187.0213781545376,\n  2272.02499601513,\n  2397.3208071829686,\n  2469.4854572220156,\n  2613.9013029562166,\n  2837.9386790233625,\n  2894.376486948054,\n  3029.901683353041,\n  3449.9775856996607,\n  3614.7879341752136,\n  4011.784325388193],\n 'variances': [10253.822135085107,\n  21551.688710064227,\n  6686.697552405985,\n  10095.467384695325,\n  7785.409802185299,\n  7906.952591743568,\n  5348.525570197073,\n  10969.66156322829,\n  4995.0718026810155,\n  5194.312189177603,\n  2414.451257439332,\n  7521.642974470278,\n  2882.545720460839,\n  2736.329975022064,\n  4312.580606006537,\n  3039.768313112102,\n  2185.9462682344692,\n  2689.5210753086963,\n  1268.8715114607867,\n  2803.245987975827,\n  4503.067377149892,\n  1820.513076138195,\n  2970.6376134947386,\n  2130.5931688559294,\n  2354.0100238907894,\n  1413.302380864252,\n  1570.2664358927939,\n  1408.0639452844568,\n  1596.8673327455117,\n  6448.000567558395,\n  943.7952553453528,\n  5714.922243076165,\n  888.9592788345183,\n  3614.195804873623,\n  371.6210520471121,\n  534.0493509625504,\n  230.50392841275965,\n  600.7635054164838,\n  195.26880644180153,\n  495.2176080812016,\n  322.4458346845167,\n  384.51157638125017]}"
     },
     "execution_count": 84,
     "metadata": {},
     "output_type": "execute_result"
    }
   ],
   "source": [
    "vars_pkprms = vars(pkprms)\n",
    "vars_pkprms"
   ],
   "metadata": {
    "collapsed": false
   }
  },
  {
   "cell_type": "code",
   "execution_count": 85,
   "outputs": [],
   "source": [
    "keys_to_get = ['fwhm_centr', 'rough_sums', 'centroids', 'variances']"
   ],
   "metadata": {
    "collapsed": false
   }
  },
  {
   "cell_type": "code",
   "execution_count": 86,
   "outputs": [],
   "source": [
    "prep_for_dict = [(key, vars_pkprms[key]) for key in keys_to_get]"
   ],
   "metadata": {
    "collapsed": false
   }
  },
  {
   "cell_type": "code",
   "execution_count": 87,
   "outputs": [],
   "source": [
    "pks_dict = dict(prep_for_dict)"
   ],
   "metadata": {
    "collapsed": false
   }
  },
  {
   "cell_type": "code",
   "execution_count": 88,
   "outputs": [],
   "source": [
    "peaks_df = pd.DataFrame.from_dict(pks_dict)"
   ],
   "metadata": {
    "collapsed": false
   }
  },
  {
   "cell_type": "code",
   "execution_count": 89,
   "outputs": [
    {
     "data": {
      "text/plain": "Polynomial([-1.99049842,  0.61104035,  0.        ], domain=[-1,  1], window=[-1,  1])",
      "text/latex": "$x \\mapsto \\text{-1.990498423576355} + \\text{0.6110403537750244}\\,x\\color{LightGray}{ + \\text{0.0}\\,x^{2}}$"
     },
     "execution_count": 89,
     "metadata": {},
     "output_type": "execute_result"
    }
   ],
   "source": [
    "p_en = a_spec.channel_energy_calib.p_en\n",
    "p_en"
   ],
   "metadata": {
    "collapsed": false
   }
  },
  {
   "cell_type": "code",
   "execution_count": 90,
   "outputs": [
    {
     "data": {
      "text/plain": "     fwhm_centr   rough_sums    centroids     variances       energy\n0     31.014996  1615.276915    31.185666  10253.822135    17.065202\n1     43.801123  1420.007286    44.318418  21551.688710    25.089844\n2    124.694854  1631.302448   125.249051   6686.697552    74.541726\n3    128.281922  2934.532615   127.660103  10095.467385    76.014976\n4    144.470020  1384.590198   144.548300   7785.409802    86.334346\n5    235.390263   332.069350   235.142704   7906.952592   141.691183\n6    396.019819   390.897453   396.262867   5348.525570   240.142104\n7    487.815753   533.667297   488.146618  10969.661563   296.286784\n8    529.359372   296.993919   529.164769   4995.071803   321.350529\n9    581.614016   484.055638   581.772047   5194.312189   353.495699\n10   715.114835   139.548743   715.040191   2414.451257   434.927913\n11   841.814020  3048.357026   841.689451   7521.642974   512.315722\n12   960.262427   406.051998   960.211713   2882.545720   584.737606\n13  1002.991196   697.995119  1002.890145   2736.329975   610.815851\n14  1082.174032  1959.419394  1082.105280   4312.580606   659.219494\n15  1114.602607   288.714523  1114.435340   3039.768313   678.974466\n16  1129.532062   218.053732  1129.574195   2185.946268   688.224917\n17  1162.293102   353.212972  1161.928017   2689.521075   707.994408\n18  1195.992714   123.128489  1195.985576   1268.871511   728.804951\n19  1256.034247   435.252398  1256.102622   2803.245988   765.538892\n20  1332.775653  2432.312117  1332.659287   4503.067377   812.318104\n21  1372.449860   203.128675  1372.525326   1820.513076   836.677862\n22  1453.822509  1210.515798  1453.819177   2970.637613   886.351686\n23  1497.233708   602.749046  1497.186309   2130.593169   912.850754\n24  1540.264209   679.989976  1540.147236   2354.010024   939.101614\n25  1585.175355   154.444189  1584.673669   1413.302381   966.309061\n26  1592.037974   319.733564  1591.914794   1570.266436   970.733680\n27  1831.639472   343.936055  1831.733607   1408.063945  1117.272653\n28  1839.814879   299.128151  1839.669761   1596.867333  1122.121963\n29  1926.268109  5327.999432  1926.274636   6448.000568  1175.041037\n30  2032.151083   144.260365  2031.632706    943.795255  1239.419069\n31  2187.139838  5053.077757  2187.021378   5714.922243  1334.367818\n32  2272.275888   317.054336  2272.024996    888.959279  1386.308459\n33  2397.403440  3185.804195  2397.320807   3614.195805  1462.869256\n34  2469.853645   146.378948  2469.485457    371.621052  1506.964769\n35  2613.423228   189.950649  2613.901303    534.049351  1595.208678\n36  2837.616914    75.496072  2837.938679    230.503928  1732.104556\n37  2894.722186   389.771754  2894.376487    600.763505  1766.590334\n38  3030.000125    58.731194  3029.901683    195.268806  1849.401698\n39  3449.776588   209.399974  3449.977586    495.217608  2106.085026\n40  3615.313881   145.884351  3614.787934    322.445835  2206.790800\n41  4012.617584   175.718687  4011.784325    384.511576  2449.371615",
      "text/html": "<div>\n<style scoped>\n    .dataframe tbody tr th:only-of-type {\n        vertical-align: middle;\n    }\n\n    .dataframe tbody tr th {\n        vertical-align: top;\n    }\n\n    .dataframe thead th {\n        text-align: right;\n    }\n</style>\n<table border=\"1\" class=\"dataframe\">\n  <thead>\n    <tr style=\"text-align: right;\">\n      <th></th>\n      <th>fwhm_centr</th>\n      <th>rough_sums</th>\n      <th>centroids</th>\n      <th>variances</th>\n      <th>energy</th>\n    </tr>\n  </thead>\n  <tbody>\n    <tr>\n      <th>0</th>\n      <td>31.014996</td>\n      <td>1615.276915</td>\n      <td>31.185666</td>\n      <td>10253.822135</td>\n      <td>17.065202</td>\n    </tr>\n    <tr>\n      <th>1</th>\n      <td>43.801123</td>\n      <td>1420.007286</td>\n      <td>44.318418</td>\n      <td>21551.688710</td>\n      <td>25.089844</td>\n    </tr>\n    <tr>\n      <th>2</th>\n      <td>124.694854</td>\n      <td>1631.302448</td>\n      <td>125.249051</td>\n      <td>6686.697552</td>\n      <td>74.541726</td>\n    </tr>\n    <tr>\n      <th>3</th>\n      <td>128.281922</td>\n      <td>2934.532615</td>\n      <td>127.660103</td>\n      <td>10095.467385</td>\n      <td>76.014976</td>\n    </tr>\n    <tr>\n      <th>4</th>\n      <td>144.470020</td>\n      <td>1384.590198</td>\n      <td>144.548300</td>\n      <td>7785.409802</td>\n      <td>86.334346</td>\n    </tr>\n    <tr>\n      <th>5</th>\n      <td>235.390263</td>\n      <td>332.069350</td>\n      <td>235.142704</td>\n      <td>7906.952592</td>\n      <td>141.691183</td>\n    </tr>\n    <tr>\n      <th>6</th>\n      <td>396.019819</td>\n      <td>390.897453</td>\n      <td>396.262867</td>\n      <td>5348.525570</td>\n      <td>240.142104</td>\n    </tr>\n    <tr>\n      <th>7</th>\n      <td>487.815753</td>\n      <td>533.667297</td>\n      <td>488.146618</td>\n      <td>10969.661563</td>\n      <td>296.286784</td>\n    </tr>\n    <tr>\n      <th>8</th>\n      <td>529.359372</td>\n      <td>296.993919</td>\n      <td>529.164769</td>\n      <td>4995.071803</td>\n      <td>321.350529</td>\n    </tr>\n    <tr>\n      <th>9</th>\n      <td>581.614016</td>\n      <td>484.055638</td>\n      <td>581.772047</td>\n      <td>5194.312189</td>\n      <td>353.495699</td>\n    </tr>\n    <tr>\n      <th>10</th>\n      <td>715.114835</td>\n      <td>139.548743</td>\n      <td>715.040191</td>\n      <td>2414.451257</td>\n      <td>434.927913</td>\n    </tr>\n    <tr>\n      <th>11</th>\n      <td>841.814020</td>\n      <td>3048.357026</td>\n      <td>841.689451</td>\n      <td>7521.642974</td>\n      <td>512.315722</td>\n    </tr>\n    <tr>\n      <th>12</th>\n      <td>960.262427</td>\n      <td>406.051998</td>\n      <td>960.211713</td>\n      <td>2882.545720</td>\n      <td>584.737606</td>\n    </tr>\n    <tr>\n      <th>13</th>\n      <td>1002.991196</td>\n      <td>697.995119</td>\n      <td>1002.890145</td>\n      <td>2736.329975</td>\n      <td>610.815851</td>\n    </tr>\n    <tr>\n      <th>14</th>\n      <td>1082.174032</td>\n      <td>1959.419394</td>\n      <td>1082.105280</td>\n      <td>4312.580606</td>\n      <td>659.219494</td>\n    </tr>\n    <tr>\n      <th>15</th>\n      <td>1114.602607</td>\n      <td>288.714523</td>\n      <td>1114.435340</td>\n      <td>3039.768313</td>\n      <td>678.974466</td>\n    </tr>\n    <tr>\n      <th>16</th>\n      <td>1129.532062</td>\n      <td>218.053732</td>\n      <td>1129.574195</td>\n      <td>2185.946268</td>\n      <td>688.224917</td>\n    </tr>\n    <tr>\n      <th>17</th>\n      <td>1162.293102</td>\n      <td>353.212972</td>\n      <td>1161.928017</td>\n      <td>2689.521075</td>\n      <td>707.994408</td>\n    </tr>\n    <tr>\n      <th>18</th>\n      <td>1195.992714</td>\n      <td>123.128489</td>\n      <td>1195.985576</td>\n      <td>1268.871511</td>\n      <td>728.804951</td>\n    </tr>\n    <tr>\n      <th>19</th>\n      <td>1256.034247</td>\n      <td>435.252398</td>\n      <td>1256.102622</td>\n      <td>2803.245988</td>\n      <td>765.538892</td>\n    </tr>\n    <tr>\n      <th>20</th>\n      <td>1332.775653</td>\n      <td>2432.312117</td>\n      <td>1332.659287</td>\n      <td>4503.067377</td>\n      <td>812.318104</td>\n    </tr>\n    <tr>\n      <th>21</th>\n      <td>1372.449860</td>\n      <td>203.128675</td>\n      <td>1372.525326</td>\n      <td>1820.513076</td>\n      <td>836.677862</td>\n    </tr>\n    <tr>\n      <th>22</th>\n      <td>1453.822509</td>\n      <td>1210.515798</td>\n      <td>1453.819177</td>\n      <td>2970.637613</td>\n      <td>886.351686</td>\n    </tr>\n    <tr>\n      <th>23</th>\n      <td>1497.233708</td>\n      <td>602.749046</td>\n      <td>1497.186309</td>\n      <td>2130.593169</td>\n      <td>912.850754</td>\n    </tr>\n    <tr>\n      <th>24</th>\n      <td>1540.264209</td>\n      <td>679.989976</td>\n      <td>1540.147236</td>\n      <td>2354.010024</td>\n      <td>939.101614</td>\n    </tr>\n    <tr>\n      <th>25</th>\n      <td>1585.175355</td>\n      <td>154.444189</td>\n      <td>1584.673669</td>\n      <td>1413.302381</td>\n      <td>966.309061</td>\n    </tr>\n    <tr>\n      <th>26</th>\n      <td>1592.037974</td>\n      <td>319.733564</td>\n      <td>1591.914794</td>\n      <td>1570.266436</td>\n      <td>970.733680</td>\n    </tr>\n    <tr>\n      <th>27</th>\n      <td>1831.639472</td>\n      <td>343.936055</td>\n      <td>1831.733607</td>\n      <td>1408.063945</td>\n      <td>1117.272653</td>\n    </tr>\n    <tr>\n      <th>28</th>\n      <td>1839.814879</td>\n      <td>299.128151</td>\n      <td>1839.669761</td>\n      <td>1596.867333</td>\n      <td>1122.121963</td>\n    </tr>\n    <tr>\n      <th>29</th>\n      <td>1926.268109</td>\n      <td>5327.999432</td>\n      <td>1926.274636</td>\n      <td>6448.000568</td>\n      <td>1175.041037</td>\n    </tr>\n    <tr>\n      <th>30</th>\n      <td>2032.151083</td>\n      <td>144.260365</td>\n      <td>2031.632706</td>\n      <td>943.795255</td>\n      <td>1239.419069</td>\n    </tr>\n    <tr>\n      <th>31</th>\n      <td>2187.139838</td>\n      <td>5053.077757</td>\n      <td>2187.021378</td>\n      <td>5714.922243</td>\n      <td>1334.367818</td>\n    </tr>\n    <tr>\n      <th>32</th>\n      <td>2272.275888</td>\n      <td>317.054336</td>\n      <td>2272.024996</td>\n      <td>888.959279</td>\n      <td>1386.308459</td>\n    </tr>\n    <tr>\n      <th>33</th>\n      <td>2397.403440</td>\n      <td>3185.804195</td>\n      <td>2397.320807</td>\n      <td>3614.195805</td>\n      <td>1462.869256</td>\n    </tr>\n    <tr>\n      <th>34</th>\n      <td>2469.853645</td>\n      <td>146.378948</td>\n      <td>2469.485457</td>\n      <td>371.621052</td>\n      <td>1506.964769</td>\n    </tr>\n    <tr>\n      <th>35</th>\n      <td>2613.423228</td>\n      <td>189.950649</td>\n      <td>2613.901303</td>\n      <td>534.049351</td>\n      <td>1595.208678</td>\n    </tr>\n    <tr>\n      <th>36</th>\n      <td>2837.616914</td>\n      <td>75.496072</td>\n      <td>2837.938679</td>\n      <td>230.503928</td>\n      <td>1732.104556</td>\n    </tr>\n    <tr>\n      <th>37</th>\n      <td>2894.722186</td>\n      <td>389.771754</td>\n      <td>2894.376487</td>\n      <td>600.763505</td>\n      <td>1766.590334</td>\n    </tr>\n    <tr>\n      <th>38</th>\n      <td>3030.000125</td>\n      <td>58.731194</td>\n      <td>3029.901683</td>\n      <td>195.268806</td>\n      <td>1849.401698</td>\n    </tr>\n    <tr>\n      <th>39</th>\n      <td>3449.776588</td>\n      <td>209.399974</td>\n      <td>3449.977586</td>\n      <td>495.217608</td>\n      <td>2106.085026</td>\n    </tr>\n    <tr>\n      <th>40</th>\n      <td>3615.313881</td>\n      <td>145.884351</td>\n      <td>3614.787934</td>\n      <td>322.445835</td>\n      <td>2206.790800</td>\n    </tr>\n    <tr>\n      <th>41</th>\n      <td>4012.617584</td>\n      <td>175.718687</td>\n      <td>4011.784325</td>\n      <td>384.511576</td>\n      <td>2449.371615</td>\n    </tr>\n  </tbody>\n</table>\n</div>"
     },
     "execution_count": 90,
     "metadata": {},
     "output_type": "execute_result"
    }
   ],
   "source": [
    "peaks_df['energy'] = p_en(peaks_df['centroids'])\n",
    "peaks_df"
   ],
   "metadata": {
    "collapsed": false
   }
  },
  {
   "cell_type": "code",
   "execution_count": 91,
   "outputs": [],
   "source": [
    "# 2023-Mar-21: Identify nuclide candidates in peaks_df from pisciro_eng_df, with energy tolerance en_toler"
   ],
   "metadata": {
    "collapsed": false
   }
  },
  {
   "cell_type": "code",
   "execution_count": 92,
   "outputs": [
    {
     "data": {
      "text/plain": "       fwhm_centr   rough_sums    centroids     variances       energy  \\\n0       31.014996  1615.276915    31.185666  10253.822135    17.065202   \n1       31.014996  1615.276915    31.185666  10253.822135    17.065202   \n2       31.014996  1615.276915    31.185666  10253.822135    17.065202   \n3       31.014996  1615.276915    31.185666  10253.822135    17.065202   \n4       31.014996  1615.276915    31.185666  10253.822135    17.065202   \n...           ...          ...          ...           ...          ...   \n2053  4012.617584   175.718687  4011.784325    384.511576  2449.371615   \n2054  4012.617584   175.718687  4011.784325    384.511576  2449.371615   \n2055  4012.617584   175.718687  4011.784325    384.511576  2449.371615   \n2056  4012.617584   175.718687  4011.784325    384.511576  2449.371615   \n2057  4012.617584   175.718687  4011.784325    384.511576  2449.371615   \n\n         Nucl      Engy  sEngy     Yie   sYie  \n0     Ag-110m   446.811  0.003   3.750  0.030  \n1     Ag-110m   620.360  0.003   2.806  0.018  \n2     Ag-110m   657.762  0.002  94.600  0.400  \n3     Ag-110m   677.723  0.002  10.350  0.080  \n4     Ag-110m   687.015  0.003   6.440  0.060  \n...       ...       ...    ...     ...    ...  \n2053    W-187   479.550  0.022  21.800  0.800  \n2054    W-187   618.260  0.040   6.280  0.220  \n2055    W-187   685.730  0.040  27.300  1.000  \n2056    W-187   772.890  0.050   4.120  0.140  \n2057    Zn-65  1115.520  0.001  50.750  0.100  \n\n[2058 rows x 10 columns]",
      "text/html": "<div>\n<style scoped>\n    .dataframe tbody tr th:only-of-type {\n        vertical-align: middle;\n    }\n\n    .dataframe tbody tr th {\n        vertical-align: top;\n    }\n\n    .dataframe thead th {\n        text-align: right;\n    }\n</style>\n<table border=\"1\" class=\"dataframe\">\n  <thead>\n    <tr style=\"text-align: right;\">\n      <th></th>\n      <th>fwhm_centr</th>\n      <th>rough_sums</th>\n      <th>centroids</th>\n      <th>variances</th>\n      <th>energy</th>\n      <th>Nucl</th>\n      <th>Engy</th>\n      <th>sEngy</th>\n      <th>Yie</th>\n      <th>sYie</th>\n    </tr>\n  </thead>\n  <tbody>\n    <tr>\n      <th>0</th>\n      <td>31.014996</td>\n      <td>1615.276915</td>\n      <td>31.185666</td>\n      <td>10253.822135</td>\n      <td>17.065202</td>\n      <td>Ag-110m</td>\n      <td>446.811</td>\n      <td>0.003</td>\n      <td>3.750</td>\n      <td>0.030</td>\n    </tr>\n    <tr>\n      <th>1</th>\n      <td>31.014996</td>\n      <td>1615.276915</td>\n      <td>31.185666</td>\n      <td>10253.822135</td>\n      <td>17.065202</td>\n      <td>Ag-110m</td>\n      <td>620.360</td>\n      <td>0.003</td>\n      <td>2.806</td>\n      <td>0.018</td>\n    </tr>\n    <tr>\n      <th>2</th>\n      <td>31.014996</td>\n      <td>1615.276915</td>\n      <td>31.185666</td>\n      <td>10253.822135</td>\n      <td>17.065202</td>\n      <td>Ag-110m</td>\n      <td>657.762</td>\n      <td>0.002</td>\n      <td>94.600</td>\n      <td>0.400</td>\n    </tr>\n    <tr>\n      <th>3</th>\n      <td>31.014996</td>\n      <td>1615.276915</td>\n      <td>31.185666</td>\n      <td>10253.822135</td>\n      <td>17.065202</td>\n      <td>Ag-110m</td>\n      <td>677.723</td>\n      <td>0.002</td>\n      <td>10.350</td>\n      <td>0.080</td>\n    </tr>\n    <tr>\n      <th>4</th>\n      <td>31.014996</td>\n      <td>1615.276915</td>\n      <td>31.185666</td>\n      <td>10253.822135</td>\n      <td>17.065202</td>\n      <td>Ag-110m</td>\n      <td>687.015</td>\n      <td>0.003</td>\n      <td>6.440</td>\n      <td>0.060</td>\n    </tr>\n    <tr>\n      <th>...</th>\n      <td>...</td>\n      <td>...</td>\n      <td>...</td>\n      <td>...</td>\n      <td>...</td>\n      <td>...</td>\n      <td>...</td>\n      <td>...</td>\n      <td>...</td>\n      <td>...</td>\n    </tr>\n    <tr>\n      <th>2053</th>\n      <td>4012.617584</td>\n      <td>175.718687</td>\n      <td>4011.784325</td>\n      <td>384.511576</td>\n      <td>2449.371615</td>\n      <td>W-187</td>\n      <td>479.550</td>\n      <td>0.022</td>\n      <td>21.800</td>\n      <td>0.800</td>\n    </tr>\n    <tr>\n      <th>2054</th>\n      <td>4012.617584</td>\n      <td>175.718687</td>\n      <td>4011.784325</td>\n      <td>384.511576</td>\n      <td>2449.371615</td>\n      <td>W-187</td>\n      <td>618.260</td>\n      <td>0.040</td>\n      <td>6.280</td>\n      <td>0.220</td>\n    </tr>\n    <tr>\n      <th>2055</th>\n      <td>4012.617584</td>\n      <td>175.718687</td>\n      <td>4011.784325</td>\n      <td>384.511576</td>\n      <td>2449.371615</td>\n      <td>W-187</td>\n      <td>685.730</td>\n      <td>0.040</td>\n      <td>27.300</td>\n      <td>1.000</td>\n    </tr>\n    <tr>\n      <th>2056</th>\n      <td>4012.617584</td>\n      <td>175.718687</td>\n      <td>4011.784325</td>\n      <td>384.511576</td>\n      <td>2449.371615</td>\n      <td>W-187</td>\n      <td>772.890</td>\n      <td>0.050</td>\n      <td>4.120</td>\n      <td>0.140</td>\n    </tr>\n    <tr>\n      <th>2057</th>\n      <td>4012.617584</td>\n      <td>175.718687</td>\n      <td>4011.784325</td>\n      <td>384.511576</td>\n      <td>2449.371615</td>\n      <td>Zn-65</td>\n      <td>1115.520</td>\n      <td>0.001</td>\n      <td>50.750</td>\n      <td>0.100</td>\n    </tr>\n  </tbody>\n</table>\n<p>2058 rows × 10 columns</p>\n</div>"
     },
     "execution_count": 92,
     "metadata": {},
     "output_type": "execute_result"
    }
   ],
   "source": [
    "big_merge = pd.merge(peaks_df, pisciro_eng_df, how='cross')\n",
    "big_merge"
   ],
   "metadata": {
    "collapsed": false
   }
  },
  {
   "cell_type": "code",
   "execution_count": 93,
   "outputs": [],
   "source": [
    "en_toler = 2.0"
   ],
   "metadata": {
    "collapsed": false
   }
  },
  {
   "cell_type": "code",
   "execution_count": 94,
   "outputs": [
    {
     "data": {
      "text/plain": "       fwhm_centr   rough_sums    centroids     variances       energy  \\\n0       31.014996  1615.276915    31.185666  10253.822135    17.065202   \n1       31.014996  1615.276915    31.185666  10253.822135    17.065202   \n2       31.014996  1615.276915    31.185666  10253.822135    17.065202   \n3       31.014996  1615.276915    31.185666  10253.822135    17.065202   \n4       31.014996  1615.276915    31.185666  10253.822135    17.065202   \n...           ...          ...          ...           ...          ...   \n2053  4012.617584   175.718687  4011.784325    384.511576  2449.371615   \n2054  4012.617584   175.718687  4011.784325    384.511576  2449.371615   \n2055  4012.617584   175.718687  4011.784325    384.511576  2449.371615   \n2056  4012.617584   175.718687  4011.784325    384.511576  2449.371615   \n2057  4012.617584   175.718687  4011.784325    384.511576  2449.371615   \n\n         Nucl      Engy  sEngy     Yie   sYie     delta_en  \n0     Ag-110m   446.811  0.003   3.750  0.030  -429.745798  \n1     Ag-110m   620.360  0.003   2.806  0.018  -603.294798  \n2     Ag-110m   657.762  0.002  94.600  0.400  -640.696798  \n3     Ag-110m   677.723  0.002  10.350  0.080  -660.657798  \n4     Ag-110m   687.015  0.003   6.440  0.060  -669.949798  \n...       ...       ...    ...     ...    ...          ...  \n2053    W-187   479.550  0.022  21.800  0.800  1969.821615  \n2054    W-187   618.260  0.040   6.280  0.220  1831.111615  \n2055    W-187   685.730  0.040  27.300  1.000  1763.641615  \n2056    W-187   772.890  0.050   4.120  0.140  1676.481615  \n2057    Zn-65  1115.520  0.001  50.750  0.100  1333.851615  \n\n[2058 rows x 11 columns]",
      "text/html": "<div>\n<style scoped>\n    .dataframe tbody tr th:only-of-type {\n        vertical-align: middle;\n    }\n\n    .dataframe tbody tr th {\n        vertical-align: top;\n    }\n\n    .dataframe thead th {\n        text-align: right;\n    }\n</style>\n<table border=\"1\" class=\"dataframe\">\n  <thead>\n    <tr style=\"text-align: right;\">\n      <th></th>\n      <th>fwhm_centr</th>\n      <th>rough_sums</th>\n      <th>centroids</th>\n      <th>variances</th>\n      <th>energy</th>\n      <th>Nucl</th>\n      <th>Engy</th>\n      <th>sEngy</th>\n      <th>Yie</th>\n      <th>sYie</th>\n      <th>delta_en</th>\n    </tr>\n  </thead>\n  <tbody>\n    <tr>\n      <th>0</th>\n      <td>31.014996</td>\n      <td>1615.276915</td>\n      <td>31.185666</td>\n      <td>10253.822135</td>\n      <td>17.065202</td>\n      <td>Ag-110m</td>\n      <td>446.811</td>\n      <td>0.003</td>\n      <td>3.750</td>\n      <td>0.030</td>\n      <td>-429.745798</td>\n    </tr>\n    <tr>\n      <th>1</th>\n      <td>31.014996</td>\n      <td>1615.276915</td>\n      <td>31.185666</td>\n      <td>10253.822135</td>\n      <td>17.065202</td>\n      <td>Ag-110m</td>\n      <td>620.360</td>\n      <td>0.003</td>\n      <td>2.806</td>\n      <td>0.018</td>\n      <td>-603.294798</td>\n    </tr>\n    <tr>\n      <th>2</th>\n      <td>31.014996</td>\n      <td>1615.276915</td>\n      <td>31.185666</td>\n      <td>10253.822135</td>\n      <td>17.065202</td>\n      <td>Ag-110m</td>\n      <td>657.762</td>\n      <td>0.002</td>\n      <td>94.600</td>\n      <td>0.400</td>\n      <td>-640.696798</td>\n    </tr>\n    <tr>\n      <th>3</th>\n      <td>31.014996</td>\n      <td>1615.276915</td>\n      <td>31.185666</td>\n      <td>10253.822135</td>\n      <td>17.065202</td>\n      <td>Ag-110m</td>\n      <td>677.723</td>\n      <td>0.002</td>\n      <td>10.350</td>\n      <td>0.080</td>\n      <td>-660.657798</td>\n    </tr>\n    <tr>\n      <th>4</th>\n      <td>31.014996</td>\n      <td>1615.276915</td>\n      <td>31.185666</td>\n      <td>10253.822135</td>\n      <td>17.065202</td>\n      <td>Ag-110m</td>\n      <td>687.015</td>\n      <td>0.003</td>\n      <td>6.440</td>\n      <td>0.060</td>\n      <td>-669.949798</td>\n    </tr>\n    <tr>\n      <th>...</th>\n      <td>...</td>\n      <td>...</td>\n      <td>...</td>\n      <td>...</td>\n      <td>...</td>\n      <td>...</td>\n      <td>...</td>\n      <td>...</td>\n      <td>...</td>\n      <td>...</td>\n      <td>...</td>\n    </tr>\n    <tr>\n      <th>2053</th>\n      <td>4012.617584</td>\n      <td>175.718687</td>\n      <td>4011.784325</td>\n      <td>384.511576</td>\n      <td>2449.371615</td>\n      <td>W-187</td>\n      <td>479.550</td>\n      <td>0.022</td>\n      <td>21.800</td>\n      <td>0.800</td>\n      <td>1969.821615</td>\n    </tr>\n    <tr>\n      <th>2054</th>\n      <td>4012.617584</td>\n      <td>175.718687</td>\n      <td>4011.784325</td>\n      <td>384.511576</td>\n      <td>2449.371615</td>\n      <td>W-187</td>\n      <td>618.260</td>\n      <td>0.040</td>\n      <td>6.280</td>\n      <td>0.220</td>\n      <td>1831.111615</td>\n    </tr>\n    <tr>\n      <th>2055</th>\n      <td>4012.617584</td>\n      <td>175.718687</td>\n      <td>4011.784325</td>\n      <td>384.511576</td>\n      <td>2449.371615</td>\n      <td>W-187</td>\n      <td>685.730</td>\n      <td>0.040</td>\n      <td>27.300</td>\n      <td>1.000</td>\n      <td>1763.641615</td>\n    </tr>\n    <tr>\n      <th>2056</th>\n      <td>4012.617584</td>\n      <td>175.718687</td>\n      <td>4011.784325</td>\n      <td>384.511576</td>\n      <td>2449.371615</td>\n      <td>W-187</td>\n      <td>772.890</td>\n      <td>0.050</td>\n      <td>4.120</td>\n      <td>0.140</td>\n      <td>1676.481615</td>\n    </tr>\n    <tr>\n      <th>2057</th>\n      <td>4012.617584</td>\n      <td>175.718687</td>\n      <td>4011.784325</td>\n      <td>384.511576</td>\n      <td>2449.371615</td>\n      <td>Zn-65</td>\n      <td>1115.520</td>\n      <td>0.001</td>\n      <td>50.750</td>\n      <td>0.100</td>\n      <td>1333.851615</td>\n    </tr>\n  </tbody>\n</table>\n<p>2058 rows × 11 columns</p>\n</div>"
     },
     "execution_count": 94,
     "metadata": {},
     "output_type": "execute_result"
    }
   ],
   "source": [
    "big_merge['delta_en'] = big_merge.energy - big_merge.Engy\n",
    "big_merge"
   ],
   "metadata": {
    "collapsed": false
   }
  },
  {
   "cell_type": "code",
   "execution_count": 95,
   "outputs": [
    {
     "data": {
      "text/plain": "          Engy     Nucl   rough_sums     Yie\n413    320.084    Cr-51   296.993919  10.080\n678    610.330   Ru-103   697.995119   5.730\n688    657.762  Ag-110m  1959.419394  94.600\n738    677.723  Ag-110m   288.714523  10.350\n788    687.015  Ag-110m   218.053732   6.440\n838    706.682  Ag-110m   353.212972  16.440\n938    763.944  Ag-110m   435.252398  22.290\n997    810.775    Co-58  2432.312117  99.448\n1063   834.827    Mn-54   203.128675  99.975\n1087   884.685  Ag-110m  1210.515798  72.700\n1186   937.493  Ag-110m   679.989976  34.360\n1371  1115.520    Zn-65   343.936055  50.750\n1440  1173.237    Co-60  5327.999432  99.900\n1539  1332.501    Co-60  5053.077757  99.982\n1679  1505.040  Ag-110m   146.378948  13.040\n1747  1596.210   La-140   189.950649  95.400",
      "text/html": "<div>\n<style scoped>\n    .dataframe tbody tr th:only-of-type {\n        vertical-align: middle;\n    }\n\n    .dataframe tbody tr th {\n        vertical-align: top;\n    }\n\n    .dataframe thead th {\n        text-align: right;\n    }\n</style>\n<table border=\"1\" class=\"dataframe\">\n  <thead>\n    <tr style=\"text-align: right;\">\n      <th></th>\n      <th>Engy</th>\n      <th>Nucl</th>\n      <th>rough_sums</th>\n      <th>Yie</th>\n    </tr>\n  </thead>\n  <tbody>\n    <tr>\n      <th>413</th>\n      <td>320.084</td>\n      <td>Cr-51</td>\n      <td>296.993919</td>\n      <td>10.080</td>\n    </tr>\n    <tr>\n      <th>678</th>\n      <td>610.330</td>\n      <td>Ru-103</td>\n      <td>697.995119</td>\n      <td>5.730</td>\n    </tr>\n    <tr>\n      <th>688</th>\n      <td>657.762</td>\n      <td>Ag-110m</td>\n      <td>1959.419394</td>\n      <td>94.600</td>\n    </tr>\n    <tr>\n      <th>738</th>\n      <td>677.723</td>\n      <td>Ag-110m</td>\n      <td>288.714523</td>\n      <td>10.350</td>\n    </tr>\n    <tr>\n      <th>788</th>\n      <td>687.015</td>\n      <td>Ag-110m</td>\n      <td>218.053732</td>\n      <td>6.440</td>\n    </tr>\n    <tr>\n      <th>838</th>\n      <td>706.682</td>\n      <td>Ag-110m</td>\n      <td>353.212972</td>\n      <td>16.440</td>\n    </tr>\n    <tr>\n      <th>938</th>\n      <td>763.944</td>\n      <td>Ag-110m</td>\n      <td>435.252398</td>\n      <td>22.290</td>\n    </tr>\n    <tr>\n      <th>997</th>\n      <td>810.775</td>\n      <td>Co-58</td>\n      <td>2432.312117</td>\n      <td>99.448</td>\n    </tr>\n    <tr>\n      <th>1063</th>\n      <td>834.827</td>\n      <td>Mn-54</td>\n      <td>203.128675</td>\n      <td>99.975</td>\n    </tr>\n    <tr>\n      <th>1087</th>\n      <td>884.685</td>\n      <td>Ag-110m</td>\n      <td>1210.515798</td>\n      <td>72.700</td>\n    </tr>\n    <tr>\n      <th>1186</th>\n      <td>937.493</td>\n      <td>Ag-110m</td>\n      <td>679.989976</td>\n      <td>34.360</td>\n    </tr>\n    <tr>\n      <th>1371</th>\n      <td>1115.520</td>\n      <td>Zn-65</td>\n      <td>343.936055</td>\n      <td>50.750</td>\n    </tr>\n    <tr>\n      <th>1440</th>\n      <td>1173.237</td>\n      <td>Co-60</td>\n      <td>5327.999432</td>\n      <td>99.900</td>\n    </tr>\n    <tr>\n      <th>1539</th>\n      <td>1332.501</td>\n      <td>Co-60</td>\n      <td>5053.077757</td>\n      <td>99.982</td>\n    </tr>\n    <tr>\n      <th>1679</th>\n      <td>1505.040</td>\n      <td>Ag-110m</td>\n      <td>146.378948</td>\n      <td>13.040</td>\n    </tr>\n    <tr>\n      <th>1747</th>\n      <td>1596.210</td>\n      <td>La-140</td>\n      <td>189.950649</td>\n      <td>95.400</td>\n    </tr>\n  </tbody>\n</table>\n</div>"
     },
     "execution_count": 95,
     "metadata": {},
     "output_type": "execute_result"
    }
   ],
   "source": [
    "# https://pandas.pydata.org/pandas-docs/stable/user_guide/indexing.html#selection-by-callable\n",
    "# MaTched ENergies\n",
    "mt_en = pd.DataFrame(big_merge.loc[lambda df: abs(df['delta_en']) < en_toler, :]) \\\n",
    "[['Engy', 'Nucl', 'rough_sums', 'Yie']]\n",
    "mt_en\n",
    "# mt_en[['Engy', 'Nucl']]"
   ],
   "metadata": {
    "collapsed": false
   }
  },
  {
   "cell_type": "code",
   "execution_count": 96,
   "outputs": [],
   "source": [
    "# Now, we can insert the counting efficiency function:"
   ],
   "metadata": {
    "collapsed": false
   }
  },
  {
   "cell_type": "code",
   "execution_count": 97,
   "outputs": [],
   "source": [
    "# Curva de eficiência para frasco F100 do GMX (2021):\n",
    "# Arquivo Effic_F100_GMX_2021.ods construído a partir de\n",
    "# Nextcloud\\Ipen\\Radiometria\\2021_Curvas-efic_Bessa\\F100 GMX_2021.pdf"
   ],
   "metadata": {
    "collapsed": false
   }
  },
  {
   "cell_type": "code",
   "execution_count": 98,
   "outputs": [
    {
     "data": {
      "text/plain": "       Engy   Effic  sEffic\n0     59.54  6.4299    3.61\n1     81.00  5.6528    3.61\n2    276.40  1.6306    3.61\n3    302.85  1.5006    3.61\n4    356.02  1.4023    3.61\n5    383.85  1.3216    3.61\n6    604.69  0.9112    3.61\n7    661.66  0.7900    3.61\n8    795.84  0.7000    3.61\n9   1155.00  0.5916    0.01\n10  1173.24  0.5513    3.61\n11  1332.50  0.5053    3.61",
      "text/html": "<div>\n<style scoped>\n    .dataframe tbody tr th:only-of-type {\n        vertical-align: middle;\n    }\n\n    .dataframe tbody tr th {\n        vertical-align: top;\n    }\n\n    .dataframe thead th {\n        text-align: right;\n    }\n</style>\n<table border=\"1\" class=\"dataframe\">\n  <thead>\n    <tr style=\"text-align: right;\">\n      <th></th>\n      <th>Engy</th>\n      <th>Effic</th>\n      <th>sEffic</th>\n    </tr>\n  </thead>\n  <tbody>\n    <tr>\n      <th>0</th>\n      <td>59.54</td>\n      <td>6.4299</td>\n      <td>3.61</td>\n    </tr>\n    <tr>\n      <th>1</th>\n      <td>81.00</td>\n      <td>5.6528</td>\n      <td>3.61</td>\n    </tr>\n    <tr>\n      <th>2</th>\n      <td>276.40</td>\n      <td>1.6306</td>\n      <td>3.61</td>\n    </tr>\n    <tr>\n      <th>3</th>\n      <td>302.85</td>\n      <td>1.5006</td>\n      <td>3.61</td>\n    </tr>\n    <tr>\n      <th>4</th>\n      <td>356.02</td>\n      <td>1.4023</td>\n      <td>3.61</td>\n    </tr>\n    <tr>\n      <th>5</th>\n      <td>383.85</td>\n      <td>1.3216</td>\n      <td>3.61</td>\n    </tr>\n    <tr>\n      <th>6</th>\n      <td>604.69</td>\n      <td>0.9112</td>\n      <td>3.61</td>\n    </tr>\n    <tr>\n      <th>7</th>\n      <td>661.66</td>\n      <td>0.7900</td>\n      <td>3.61</td>\n    </tr>\n    <tr>\n      <th>8</th>\n      <td>795.84</td>\n      <td>0.7000</td>\n      <td>3.61</td>\n    </tr>\n    <tr>\n      <th>9</th>\n      <td>1155.00</td>\n      <td>0.5916</td>\n      <td>0.01</td>\n    </tr>\n    <tr>\n      <th>10</th>\n      <td>1173.24</td>\n      <td>0.5513</td>\n      <td>3.61</td>\n    </tr>\n    <tr>\n      <th>11</th>\n      <td>1332.50</td>\n      <td>0.5053</td>\n      <td>3.61</td>\n    </tr>\n  </tbody>\n</table>\n</div>"
     },
     "execution_count": 98,
     "metadata": {},
     "output_type": "execute_result"
    }
   ],
   "source": [
    "# 2023-Mar-21\n",
    "# Lendo curva de eficiência\n",
    "eff_F100_GMX_2021_df = pd.read_excel('../data/Effic_F100_GMX_2021.ods')\n",
    "effics_df = eff_F100_GMX_2021_df\n",
    "effics_df"
   ],
   "metadata": {
    "collapsed": false
   }
  },
  {
   "cell_type": "code",
   "execution_count": 99,
   "outputs": [],
   "source": [
    "p_eff_log = P.fit(np.log(effics_df.Engy),\n",
    "                  np.log(effics_df.Effic),\n",
    "                  full=True,\n",
    "                  w = 1/effics_df.sEffic, deg=5)\n",
    "def p_eff(en):\n",
    "    return np.exp(p_eff_log[0](np.log(en)))"
   ],
   "metadata": {
    "collapsed": false
   }
  },
  {
   "cell_type": "code",
   "execution_count": 100,
   "outputs": [
    {
     "data": {
      "text/plain": "(Polynomial([ 0.51104917, -1.54282532,  0.42082601,  0.36310567, -0.3132035 ,\n        -0.06636575], domain=[4.08664836, 7.19481216], window=[-1.,  1.]),\n [array([0.00174484]),\n  6,\n  array([2.44946008e+00, 1.04967799e-02, 5.50802223e-03, 2.01458065e-03,\n         8.07092181e-04, 2.92462463e-04]),\n  2.6645352591003757e-15])"
     },
     "execution_count": 100,
     "metadata": {},
     "output_type": "execute_result"
    }
   ],
   "source": [
    "p_eff_log"
   ],
   "metadata": {
    "collapsed": false
   }
  },
  {
   "cell_type": "code",
   "execution_count": 101,
   "outputs": [
    {
     "data": {
      "text/plain": "0     6.454368\n1     5.607742\n2     1.698686\n3     1.552736\n4     1.335262\n5     1.249593\n6     0.884475\n7     0.834158\n8     0.744488\n9     0.591599\n10    0.585366\n11    0.533971\nName: Engy, dtype: float64"
     },
     "execution_count": 101,
     "metadata": {},
     "output_type": "execute_result"
    }
   ],
   "source": [
    "p_eff(effics_df.Engy)"
   ],
   "metadata": {
    "collapsed": false
   }
  },
  {
   "cell_type": "code",
   "execution_count": 102,
   "outputs": [
    {
     "data": {
      "text/plain": "Polynomial([ 47.00339024, -28.21798773,   5.7295277 ,  -0.38845885], domain=[-1,  1], window=[-1,  1])",
      "text/latex": "$x \\mapsto \\text{47.0033902423} - \\text{28.217987731}\\,x + \\text{5.72952770082}\\,x^{2} - \\text{0.388458849293}\\,x^{3}$"
     },
     "execution_count": 102,
     "metadata": {},
     "output_type": "execute_result"
    }
   ],
   "source": [
    "log_unc_fitted_effic = P([4.70033902423E+01, -2.82179877310E+01, 5.72952770082E+00, -3.88458849293E-01])\n",
    "log_unc_fitted_effic"
   ],
   "metadata": {
    "collapsed": false
   }
  },
  {
   "cell_type": "code",
   "execution_count": 103,
   "outputs": [
    {
     "data": {
      "text/plain": "0     2.366059\n1     1.972769\n2     1.533736\n3     1.437744\n4     1.233116\n5     1.126118\n6     0.470105\n7     0.365696\n8     0.198657\n9     0.037309\n10    0.034281\n11    0.016454\nName: Engy, dtype: float64"
     },
     "execution_count": 103,
     "metadata": {},
     "output_type": "execute_result"
    }
   ],
   "source": [
    "# Incerteza percentual da curva F100_GMX_2021 para os valores de eficiência\n",
    "# Os coeficientes foram tirados do InterWinner e a curva reconstruída aqui.\n",
    "unc_perc_fitted_effic = np.exp(log_unc_fitted_effic(np.log(effics_df.Engy)))\n",
    "unc_perc_fitted_effic"
   ],
   "metadata": {
    "collapsed": false
   }
  },
  {
   "cell_type": "code",
   "execution_count": 104,
   "outputs": [],
   "source": [
    "# Sample size (L, kg, g etc.)\n",
    "samp_size = 0.1"
   ],
   "metadata": {
    "collapsed": false
   }
  },
  {
   "cell_type": "code",
   "execution_count": 105,
   "outputs": [],
   "source": [
    "mt_en['uncorr_activ'] = mt_en['rough_sums'] /\\\n",
    "                        (p_eff(mt_en['Engy']) * 1e-4 * mt_en['Yie'] *\n",
    "                         a_spec.lv_time * samp_size)"
   ],
   "metadata": {
    "collapsed": false
   }
  },
  {
   "cell_type": "code",
   "execution_count": 108,
   "outputs": [
    {
     "data": {
      "text/plain": "          Engy     Nucl   rough_sums     Yie  uncorr_activ\n413    320.084    Cr-51   296.993919  10.080     40.010732\n678    610.330   Ru-103   697.995119   5.730    277.152231\n688    657.762  Ag-110m  1959.419394  94.600     49.474571\n738    677.723  Ag-110m   288.714523  10.350     67.906060\n788    687.015  Ag-110m   218.053732   6.440     83.133178\n838    706.682  Ag-110m   353.212972  16.440     53.687315\n938    763.944  Ag-110m   435.252398  22.290     51.178552\n997    810.775    Co-58  2432.312117  99.448     66.441829\n1063   834.827    Mn-54   203.128675  99.975      5.616925\n1087   884.685  Ag-110m  1210.515798  72.700     47.655927\n1186   937.493  Ag-110m   679.989976  34.360     58.648861\n1371  1115.520    Zn-65   343.936055  50.750     22.388738\n1440  1173.237    Co-60  5327.999432  99.900    182.221723\n1539  1332.501    Co-60  5053.077757  99.982    189.298305\n1679  1505.040  Ag-110m   146.378948  13.040     46.506653\n1747  1596.210   La-140   189.950649  95.400      8.712612",
      "text/html": "<div>\n<style scoped>\n    .dataframe tbody tr th:only-of-type {\n        vertical-align: middle;\n    }\n\n    .dataframe tbody tr th {\n        vertical-align: top;\n    }\n\n    .dataframe thead th {\n        text-align: right;\n    }\n</style>\n<table border=\"1\" class=\"dataframe\">\n  <thead>\n    <tr style=\"text-align: right;\">\n      <th></th>\n      <th>Engy</th>\n      <th>Nucl</th>\n      <th>rough_sums</th>\n      <th>Yie</th>\n      <th>uncorr_activ</th>\n    </tr>\n  </thead>\n  <tbody>\n    <tr>\n      <th>413</th>\n      <td>320.084</td>\n      <td>Cr-51</td>\n      <td>296.993919</td>\n      <td>10.080</td>\n      <td>40.010732</td>\n    </tr>\n    <tr>\n      <th>678</th>\n      <td>610.330</td>\n      <td>Ru-103</td>\n      <td>697.995119</td>\n      <td>5.730</td>\n      <td>277.152231</td>\n    </tr>\n    <tr>\n      <th>688</th>\n      <td>657.762</td>\n      <td>Ag-110m</td>\n      <td>1959.419394</td>\n      <td>94.600</td>\n      <td>49.474571</td>\n    </tr>\n    <tr>\n      <th>738</th>\n      <td>677.723</td>\n      <td>Ag-110m</td>\n      <td>288.714523</td>\n      <td>10.350</td>\n      <td>67.906060</td>\n    </tr>\n    <tr>\n      <th>788</th>\n      <td>687.015</td>\n      <td>Ag-110m</td>\n      <td>218.053732</td>\n      <td>6.440</td>\n      <td>83.133178</td>\n    </tr>\n    <tr>\n      <th>838</th>\n      <td>706.682</td>\n      <td>Ag-110m</td>\n      <td>353.212972</td>\n      <td>16.440</td>\n      <td>53.687315</td>\n    </tr>\n    <tr>\n      <th>938</th>\n      <td>763.944</td>\n      <td>Ag-110m</td>\n      <td>435.252398</td>\n      <td>22.290</td>\n      <td>51.178552</td>\n    </tr>\n    <tr>\n      <th>997</th>\n      <td>810.775</td>\n      <td>Co-58</td>\n      <td>2432.312117</td>\n      <td>99.448</td>\n      <td>66.441829</td>\n    </tr>\n    <tr>\n      <th>1063</th>\n      <td>834.827</td>\n      <td>Mn-54</td>\n      <td>203.128675</td>\n      <td>99.975</td>\n      <td>5.616925</td>\n    </tr>\n    <tr>\n      <th>1087</th>\n      <td>884.685</td>\n      <td>Ag-110m</td>\n      <td>1210.515798</td>\n      <td>72.700</td>\n      <td>47.655927</td>\n    </tr>\n    <tr>\n      <th>1186</th>\n      <td>937.493</td>\n      <td>Ag-110m</td>\n      <td>679.989976</td>\n      <td>34.360</td>\n      <td>58.648861</td>\n    </tr>\n    <tr>\n      <th>1371</th>\n      <td>1115.520</td>\n      <td>Zn-65</td>\n      <td>343.936055</td>\n      <td>50.750</td>\n      <td>22.388738</td>\n    </tr>\n    <tr>\n      <th>1440</th>\n      <td>1173.237</td>\n      <td>Co-60</td>\n      <td>5327.999432</td>\n      <td>99.900</td>\n      <td>182.221723</td>\n    </tr>\n    <tr>\n      <th>1539</th>\n      <td>1332.501</td>\n      <td>Co-60</td>\n      <td>5053.077757</td>\n      <td>99.982</td>\n      <td>189.298305</td>\n    </tr>\n    <tr>\n      <th>1679</th>\n      <td>1505.040</td>\n      <td>Ag-110m</td>\n      <td>146.378948</td>\n      <td>13.040</td>\n      <td>46.506653</td>\n    </tr>\n    <tr>\n      <th>1747</th>\n      <td>1596.210</td>\n      <td>La-140</td>\n      <td>189.950649</td>\n      <td>95.400</td>\n      <td>8.712612</td>\n    </tr>\n  </tbody>\n</table>\n</div>"
     },
     "execution_count": 108,
     "metadata": {},
     "output_type": "execute_result"
    }
   ],
   "source": [
    "mt_en"
   ],
   "metadata": {
    "collapsed": false
   }
  },
  {
   "cell_type": "code",
   "execution_count": null,
   "outputs": [],
   "source": [
    "# 2023-Mar-22 PAREI AQUI"
   ],
   "metadata": {
    "collapsed": false
   }
  },
  {
   "cell_type": "code",
   "execution_count": null,
   "outputs": [],
   "source": [
    "\n",
    "msedg serg set asrhg saertrg"
   ],
   "metadata": {
    "collapsed": false
   }
  },
  {
   "cell_type": "code",
   "execution_count": null,
   "outputs": [],
   "source": [],
   "metadata": {
    "collapsed": false
   }
  },
  {
   "cell_type": "code",
   "execution_count": null,
   "outputs": [],
   "source": [
    "rng = np.random.default_rng()\n",
    "# rints = rng.integers(low=0, high=10, size=3)\n",
    "\n",
    "# 2022-Jun-23: Reativar após consertar o arquivo pickle:\n",
    "# rints = rng.integers(pkl_df1.count()[0], size=3)\n",
    "# print(rints)\n",
    "# type(rints[0])\n",
    "# some_spec = rints[1]\n",
    "# pkl_df1.iloc[some_spec]\n",
    "# a_spec_name = pkl_df1.iloc[some_spec]['FName']\n",
    "# a_spec_name"
   ],
   "metadata": {
    "collapsed": false
   }
  },
  {
   "cell_type": "code",
   "execution_count": null,
   "metadata": {},
   "outputs": [],
   "source": [
    "# 2022-Dez-28: Atualizar:\n",
    "# (2022-Jun-24 Lembrando como estão os defaults de total_analysis(...):\n",
    "# def total_analysis(self, k_sep_pk=2.0, smoo=3000.0, widths_range=(4.0, 20.0)):)\n",
    "# smoo=3000 fica razoável, mas faz umas ondas\n",
    "# smoo=1500 fica horrível, faz uns abismos. Quanto menor, pior\n",
    "# smoo=400 fica razoável, mas faz umas ondas\n",
    "# ogra.perform_total_analysis(\n",
    "#     k_sep_pk=2.0, smoo=4096, widths_range=(4.0, 20.0)\n",
    "# )"
   ]
  },
  {
   "cell_type": "code",
   "execution_count": null,
   "outputs": [],
   "source": [],
   "metadata": {
    "collapsed": false
   }
  },
  {
   "cell_type": "code",
   "execution_count": 106,
   "outputs": [],
   "source": [],
   "metadata": {
    "collapsed": false
   }
  },
  {
   "cell_type": "code",
   "execution_count": 106,
   "outputs": [],
   "source": [],
   "metadata": {
    "collapsed": false
   }
  },
  {
   "cell_type": "code",
   "execution_count": 107,
   "metadata": {},
   "outputs": [
    {
     "ename": "AttributeError",
     "evalue": "'Spec' object has no attribute 'spec_pks_df'",
     "output_type": "error",
     "traceback": [
      "\u001B[1;31m---------------------------------------------------------------------------\u001B[0m",
      "\u001B[1;31mAttributeError\u001B[0m                            Traceback (most recent call last)",
      "Cell \u001B[1;32mIn[107], line 4\u001B[0m\n\u001B[0;32m      1\u001B[0m \u001B[38;5;66;03m# 2022-Dez-28\u001B[39;00m\n\u001B[0;32m      2\u001B[0m \u001B[38;5;66;03m# Testes com conversão de pandas df .to_html\u001B[39;00m\n\u001B[0;32m      3\u001B[0m \u001B[38;5;66;03m# Teste 1: html direto\u001B[39;00m\n\u001B[1;32m----> 4\u001B[0m df_to_html \u001B[38;5;241m=\u001B[39m \u001B[43ma_spec\u001B[49m\u001B[38;5;241;43m.\u001B[39;49m\u001B[43mspec_pks_df\u001B[49m\u001B[38;5;241m.\u001B[39mto_html(columns\u001B[38;5;241m=\u001B[39m[\u001B[38;5;124m'\u001B[39m\u001B[38;5;124mpeaks\u001B[39m\u001B[38;5;124m'\u001B[39m, \u001B[38;5;124m'\u001B[39m\u001B[38;5;124mcentroids\u001B[39m\u001B[38;5;124m'\u001B[39m, \u001B[38;5;124m'\u001B[39m\u001B[38;5;124mrough_sums\u001B[39m\u001B[38;5;124m'\u001B[39m])\n\u001B[0;32m      5\u001B[0m df_to_html\n",
      "\u001B[1;31mAttributeError\u001B[0m: 'Spec' object has no attribute 'spec_pks_df'"
     ]
    }
   ],
   "source": [
    "# 2022-Dez-28\n",
    "# Testes com conversão de pandas df .to_html\n",
    "# Teste 1: html direto\n",
    "df_to_html = a_spec.spec_pks_df.to_html(columns=['peaks', 'centroids', 'rough_sums'])\n",
    "df_to_html"
   ]
  },
  {
   "cell_type": "code",
   "execution_count": null,
   "outputs": [],
   "source": [
    "# 2022-Dez-28\n",
    "# Testes com conversão de pandas df .to_html\n",
    "# Teste 2: aplicando tags html:\n",
    "df_to_html = ogra.a_spec.spec_pks_df.to_html(\n",
    "    columns=['peaks', 'centroids', 'rough_sums'],\n",
    "    formatters={\n",
    "        'peaks': lambda x: '<b>' + str(x) + '</b>',\n",
    "        'rough_sums': lambda x: '<i>' + str(x) + '</i>'}\n",
    ")\n",
    "df_to_html\n",
    "import IPython\n",
    "IPython.display.HTML(df_to_html)"
   ],
   "metadata": {
    "collapsed": false
   }
  },
  {
   "cell_type": "code",
   "execution_count": null,
   "outputs": [],
   "source": [
    "# 2022-Dez-28\n",
    "# Testes com conversão de pandas df .to_html\n",
    "# Teste 3: aplicando float_formatters:\n",
    "df_to_html = ogra.a_spec.spec_pks_df.to_html(\n",
    "    columns=['peaks', 'centroids', 'rough_sums'],\n",
    "    float_format='{:.3f}'\n",
    ")\n",
    "df_to_html"
   ],
   "metadata": {
    "collapsed": false
   }
  },
  {
   "cell_type": "code",
   "execution_count": null,
   "outputs": [],
   "source": [
    "# Teste 3: usando Styles:\n",
    "my_df = ogra.a_spec.spec_pks_df\n",
    "my_df.style.format(na_rep='MISSING', thousands=\" \",\n",
    "                   formatter={('fwhm_centr', 'centroids'): \"{:.2f}\"})"
   ],
   "metadata": {
    "collapsed": false
   }
  },
  {
   "cell_type": "code",
   "execution_count": null,
   "outputs": [],
   "source": [
    "df = pd.DataFrame([[38.0, 2.0, 18.0, 22.0, 21, np.nan],[19, 439, 6, 452, 226,232]],\n",
    "                  index=pd.Index(['Tumour (Positive)', 'Non-Tumour (Negative)'], name='Actual Label:'),\n",
    "                  columns=pd.MultiIndex.from_product([['Decision Tree', 'Regression', 'Random'],['Tumour', 'Non-Tumour']], names=['Model:', 'Predicted:']))\n",
    "\n",
    "df.style.format(precision=0, na_rep='MISSING', thousands=\" \",\n",
    "                formatter={('Decision Tree', 'Tumour'): \"{:.2f}\",\n",
    "                           ('Regression', 'Non-Tumour'): lambda x: \"$ {:,.1f}\".format(x*-1e6)\n",
    "                           })"
   ],
   "metadata": {
    "collapsed": false
   }
  },
  {
   "cell_type": "code",
   "execution_count": null,
   "metadata": {},
   "outputs": [],
   "source": []
  },
  {
   "cell_type": "code",
   "execution_count": null,
   "outputs": [],
   "source": [],
   "metadata": {
    "collapsed": false
   }
  },
  {
   "cell_type": "code",
   "execution_count": null,
   "metadata": {},
   "outputs": [],
   "source": [
    "# 2022-Jun-14\n",
    "# Verificando o que se tem até agora em a_raw_spec:\n",
    "# (Pode pular e ir direto aos gráficos)"
   ]
  },
  {
   "cell_type": "code",
   "execution_count": null,
   "metadata": {},
   "outputs": [],
   "source": [
    "\n",
    "# Testes:\n",
    "# https://numpy.org/doc/stable/reference/random/generator.html#distributions\n",
    "# x = np.linspace(0, 10, N) + rng.normal(loc=7, scale=0.05, size=N)\n",
    "# y = np.linspace(22, 23, N)\n",
    "\n",
    "# Busca do canal onde a altura do espectro se \"estabiliza\"\n",
    "# https://numpy.org/doc/stable/reference/routines.sort.html#searching\n",
    "\n"
   ]
  },
  {
   "cell_type": "code",
   "execution_count": null,
   "outputs": [],
   "source": [
    "vars(pkprms)"
   ],
   "metadata": {
    "collapsed": false
   }
  },
  {
   "cell_type": "code",
   "execution_count": null,
   "metadata": {},
   "outputs": [],
   "source": [
    "# 2022-Dez-21 Achar o pico de maior área inicial do espectro:"
   ]
  },
  {
   "cell_type": "code",
   "execution_count": null,
   "outputs": [],
   "source": [
    "largest_pk = np.argmax(pkprms.rough_sums)\n",
    "pkprms.centroids[largest_pk]"
   ],
   "metadata": {
    "collapsed": false
   }
  },
  {
   "cell_type": "code",
   "execution_count": null,
   "metadata": {},
   "outputs": [],
   "source": [
    "# Só pra lembrar como faz divisão inteira\n",
    "21 // 7"
   ]
  },
  {
   "cell_type": "code",
   "execution_count": null,
   "metadata": {},
   "outputs": [],
   "source": [
    "wi_re = pkprms.wide_regions[largest_pk]\n",
    "x = np.linspace(wi_re[0], wi_re[1], num=wi_re[1]-wi_re[0]+1)\n",
    "y = cntarr[wi_re[0]:wi_re[1]+1]\n",
    "c1 =  pkprms.centroids[largest_pk]\n",
    "s1 = pkprms.propts['widths'][largest_pk]*pkprms.k_fwhm_to_sd\n",
    "a1 = pkprms.rough_sums[largest_pk]\n",
    "# c2 = 313\n",
    "# s2 = 1.5\n",
    "# a2 = 400\n",
    "sste = 2.0"
   ]
  },
  {
   "cell_type": "code",
   "execution_count": null,
   "outputs": [],
   "source": [],
   "metadata": {
    "collapsed": false
   }
  },
  {
   "cell_type": "code",
   "execution_count": null,
   "outputs": [],
   "source": [
    "# 2023-Jan-3\n",
    "# Aqui finalizo este teste:\n",
    "# Dado um espectro, escolhi o pico mais proeminente do espectro\n",
    "# e fiz o ajuste gaussianco com lmfit\n",
    "# No caso, o pico tem área, centroide, SD e FWHM:\n",
    "# g1_amplitude:  5264.84728 +/- 85.1465566 (1.62%) (init = 5347.497)\n",
    "# g1_center:     1926.29564 +/- 0.02690572 (0.00%) (init = 1926.275)\n",
    "# g1_sigma:      1.44040103 +/- 0.02690060 (1.87%) (init = 1.418733)\n",
    "# g1_fwhm:       3.39188516 +/- 0.06334608 (1.87%) == '2.3548200*g1_sigma'\n",
    "# g1_height:     1458.18438 +/- 23.5824677 (1.62%) == '0.3989423*g1_amplitude/max(1e-15, g1_sigma)'\n",
    "\n",
    "# Comparando com saíuda do Genie:\n",
    "# canal (>0)    En:    FWHM (keV)    net area    net area unc   continuum\n",
    "# 1927.34      1173.47 2.04          5.40E+003   89.73          8.83E+002\n",
    "#"
   ],
   "metadata": {
    "collapsed": false
   }
  },
  {
   "cell_type": "code",
   "execution_count": null,
   "outputs": [],
   "source": [
    "out"
   ],
   "metadata": {
    "collapsed": false
   }
  },
  {
   "cell_type": "code",
   "execution_count": null,
   "outputs": [],
   "source": [
    "out.params"
   ],
   "metadata": {
    "collapsed": false
   }
  },
  {
   "cell_type": "code",
   "execution_count": null,
   "outputs": [],
   "source": [
    "out.var_names"
   ],
   "metadata": {
    "collapsed": false
   }
  },
  {
   "cell_type": "code",
   "execution_count": null,
   "outputs": [],
   "source": [
    "out.params.items()"
   ],
   "metadata": {
    "collapsed": false
   }
  },
  {
   "cell_type": "code",
   "execution_count": null,
   "outputs": [],
   "source": [
    "out.params.pretty_print()"
   ],
   "metadata": {
    "collapsed": false
   }
  },
  {
   "cell_type": "code",
   "execution_count": null,
   "outputs": [],
   "source": [
    "print('-------------------------------')\n",
    "print('Parameter    Value       Stderr')\n",
    "for name, param in out.params.items():\n",
    "    # print(f'{name:7s} {param.value:11.5f} {param.stderr:11.5f}')\n",
    "    print(name)\n",
    "    print(param)\n",
    "    print(param.value)"
   ],
   "metadata": {
    "collapsed": false
   }
  },
  {
   "cell_type": "code",
   "execution_count": null,
   "outputs": [],
   "source": [],
   "metadata": {
    "collapsed": false
   }
  },
  {
   "cell_type": "code",
   "execution_count": null,
   "outputs": [],
   "source": [
    "def gauss_lmfit_singlet(pkprms, ipk):\n",
    "    wi_re = pkprms.wide_regions[ipk]\n",
    "    print(f'pico: {wi_re}')\n",
    "    x = np.linspace(wi_re[0], wi_re[1], num=wi_re[1]-wi_re[0]+1)\n",
    "    y = cntarr[wi_re[0]:wi_re[1]+1]\n",
    "    c1 = pkprms.centroids[ipk]\n",
    "    s1 = pkprms.propts['widths'][ipk]*pkprms.k_fwhm_to_sd\n",
    "    a1 = pkprms.rough_sums[ipk]\n",
    "\n",
    "    parames = Parameters()\n",
    "\n",
    "    gauss1 = GaussianModel(prefix='g1_')\n",
    "    parames.update(gauss1.make_params())\n",
    "    parames['g1_center'].set(value=c1, min=c1-2, max=c1+2)\n",
    "    parames['g1_sigma'].set(value=s1, min=0.5, max=10)\n",
    "    parames['g1_amplitude'].set(value=a1, min=10)\n",
    "\n",
    "    mod = gauss1\n",
    "\n",
    "    init = mod.eval(parames, x=x)\n",
    "    out = mod.fit(y, parames, x=x, verbose=False)\n",
    "    print('Fez.')\n",
    "\n",
    "    # ret = [param for param in out.params.items()]\n",
    "    ret = out\n",
    "    return ret"
   ],
   "metadata": {
    "collapsed": false
   }
  },
  {
   "cell_type": "code",
   "execution_count": null,
   "outputs": [],
   "source": [
    "for ipk in range(len(pkprms.peaks)):\n",
    "    ret = gauss_lmfit_singlet(pkprms, ipk)\n",
    "    print(ret)"
   ],
   "metadata": {
    "collapsed": false
   }
  },
  {
   "cell_type": "code",
   "execution_count": null,
   "outputs": [],
   "source": [
    "ret"
   ],
   "metadata": {
    "collapsed": false
   }
  },
  {
   "cell_type": "code",
   "execution_count": null,
   "outputs": [],
   "source": [
    "ret.params"
   ],
   "metadata": {
    "collapsed": false
   }
  },
  {
   "cell_type": "code",
   "execution_count": null,
   "outputs": [],
   "source": [
    "for name, param in ret.params.items():\n",
    "    print(name, param.value, param.stderr)"
   ],
   "metadata": {
    "collapsed": false
   }
  },
  {
   "cell_type": "code",
   "execution_count": null,
   "outputs": [],
   "source": [
    "for ipk in range(len(pkprms.peaks)):\n",
    "    ret = gauss_lmfit_singlet(pkprms, ipk)\n",
    "    # ret.params.pretty_print()"
   ],
   "metadata": {
    "collapsed": false
   }
  },
  {
   "cell_type": "code",
   "execution_count": null,
   "outputs": [],
   "source": [
    "ret"
   ],
   "metadata": {
    "collapsed": false
   }
  },
  {
   "cell_type": "code",
   "execution_count": null,
   "outputs": [],
   "source": [
    "xfgn sr hsrthf srth"
   ],
   "metadata": {
    "collapsed": false
   }
  },
  {
   "cell_type": "code",
   "execution_count": null,
   "outputs": [],
   "source": [],
   "metadata": {
    "collapsed": false
   }
  },
  {
   "cell_type": "code",
   "execution_count": null,
   "outputs": [],
   "source": [],
   "metadata": {
    "collapsed": false
   }
  },
  {
   "cell_type": "code",
   "execution_count": null,
   "outputs": [],
   "source": [],
   "metadata": {
    "collapsed": false
   }
  },
  {
   "cell_type": "code",
   "execution_count": null,
   "outputs": [],
   "source": [],
   "metadata": {
    "collapsed": false
   }
  },
  {
   "cell_type": "code",
   "execution_count": null,
   "outputs": [],
   "source": [
    "my_df.dtypes"
   ],
   "metadata": {
    "collapsed": false
   }
  },
  {
   "cell_type": "code",
   "execution_count": null,
   "outputs": [],
   "source": [
    "ch_en = ogra.a_spec.channel_energy_calib.p_en"
   ],
   "metadata": {
    "collapsed": false
   }
  },
  {
   "cell_type": "code",
   "execution_count": null,
   "outputs": [],
   "source": [
    "my_df['centrs_en'] = ch_en(my_df['centroids'])\n",
    "my_df"
   ],
   "metadata": {
    "collapsed": false
   }
  },
  {
   "cell_type": "code",
   "execution_count": null,
   "metadata": {},
   "outputs": [],
   "source": [
    "\n",
    "# 2022-Dez-21:\n",
    "# PAREI AQUI;\n",
    "# Usar os resultados de áreas dos picos e montar as curvas de eficiência\n",
    "\n",
    "# 2022-Mar-16\n",
    "# Fazendo ajuste polinomial nas eficiências:"
   ]
  },
  {
   "cell_type": "code",
   "execution_count": null,
   "metadata": {},
   "outputs": [],
   "source": [
    "from numpy.polynomial import Polynomial as P # 2020-09-06 Esta é a nova classe recomendada "
   ]
  },
  {
   "cell_type": "code",
   "execution_count": null,
   "metadata": {},
   "outputs": [],
   "source": [
    "En_CV_LoBg = np.array([81.00,\n",
    "86.54,\n",
    "121.78,\n",
    "133.51,\n",
    "302.85,\n",
    "344.28,\n",
    "356.02,\n",
    "604.69,\n",
    "661.66,\n",
    "795.84,\n",
    "964.13,\n",
    "1085.91,\n",
    "1112.12,\n",
    "1173.24,\n",
    "1332.50,\n",
    "1408.01\n",
    "])\n",
    "# En_CV_GMX"
   ]
  },
  {
   "cell_type": "code",
   "execution_count": null,
   "metadata": {},
   "outputs": [],
   "source": [
    "Eff_CV_LoBg = np.array([4.4358,\n",
    "4.4723,\n",
    "5.4386,\n",
    "5.5045,\n",
    "3.1379,\n",
    "2.8722,\n",
    "2.7305,\n",
    "1.7817,\n",
    "1.6453,\n",
    "1.4026,\n",
    "1.1216,\n",
    "1.0200,\n",
    "0.9703,\n",
    "0.8962,\n",
    "0.8009,\n",
    "0.7397 ])\n",
    "Eff_CV_GMX"
   ]
  },
  {
   "cell_type": "code",
   "execution_count": null,
   "metadata": {},
   "outputs": [],
   "source": [
    "unc_perc = np.array([2.01,\n",
    "1.43,\n",
    "1.33,\n",
    "2.11,\n",
    "1.81,\n",
    "1.42,\n",
    "1.41,\n",
    "2.24,\n",
    "1.44,\n",
    "3.68,\n",
    "1.66,\n",
    "1.71,\n",
    "1.58,\n",
    "0.87,\n",
    "0.87,\n",
    "1.51 ])\n",
    "unc_perc"
   ]
  },
  {
   "cell_type": "code",
   "execution_count": null,
   "metadata": {},
   "outputs": [],
   "source": [
    "ln_En_CV_LoBg = np.log (En_CV_LoBg)\n",
    "ln_Eff_CV_LoBg = np.log (Eff_CV_LoBg)"
   ]
  },
  {
   "cell_type": "code",
   "execution_count": null,
   "metadata": {},
   "outputs": [],
   "source": [
    "N = 16"
   ]
  },
  {
   "cell_type": "code",
   "execution_count": null,
   "metadata": {},
   "outputs": [],
   "source": []
  },
  {
   "cell_type": "code",
   "execution_count": null,
   "metadata": {},
   "outputs": [],
   "source": [
    "# 2022-Mar-23\n",
    "# Parêntese para fazer nova calibração canal-energia do HPGe do projeto:"
   ]
  },
  {
   "cell_type": "code",
   "execution_count": null,
   "metadata": {},
   "outputs": [],
   "source": [
    "canal = np.array([210, 920, 1181, 7232])\n",
    "ener = np.array([46.5, 186, 238.6, 1460.8])"
   ]
  },
  {
   "cell_type": "code",
   "execution_count": null,
   "metadata": {},
   "outputs": [],
   "source": [
    "projeto = P.fit(x=canal, y=ener, deg=1).convert()\n",
    "projeto"
   ]
  },
  {
   "cell_type": "code",
   "execution_count": null,
   "metadata": {},
   "outputs": [],
   "source": [
    "projeto_ener_canal = P.fit(x=ener, y=canal, deg=1).convert()\n",
    "projeto_ener_canal"
   ]
  },
  {
   "cell_type": "code",
   "execution_count": null,
   "metadata": {},
   "outputs": [],
   "source": [
    "projeto_ener_canal(1173.2)"
   ]
  },
  {
   "cell_type": "code",
   "execution_count": null,
   "metadata": {},
   "outputs": [],
   "source": [
    "projeto_ener_canal(1332.486)"
   ]
  },
  {
   "cell_type": "code",
   "execution_count": null,
   "metadata": {},
   "outputs": [],
   "source": []
  },
  {
   "cell_type": "code",
   "execution_count": null,
   "metadata": {},
   "outputs": [],
   "source": []
  },
  {
   "cell_type": "code",
   "execution_count": null,
   "metadata": {},
   "outputs": [],
   "source": []
  },
  {
   "cell_type": "code",
   "execution_count": null,
   "metadata": {},
   "outputs": [],
   "source": [
    "P.fit(x=ln_En_CV_LoBg, y=ln_Eff_CV_LoBg, deg=5).convert()"
   ]
  },
  {
   "cell_type": "code",
   "execution_count": null,
   "metadata": {},
   "outputs": [],
   "source": [
    "poly_w = P.fit(x=ln_En_CV_LoBg, y=ln_Eff_CV_LoBg, deg=5, w=1/unc_perc).convert()\n",
    "poly_w"
   ]
  },
  {
   "cell_type": "code",
   "execution_count": null,
   "metadata": {},
   "outputs": [],
   "source": [
    "poly_w = P.fit(x=ln_En_CV_LoBg, y=ln_Eff_CV_LoBg, deg=5, w=1/unc_perc**2).convert()\n",
    "poly_w"
   ]
  },
  {
   "cell_type": "code",
   "execution_count": null,
   "metadata": {},
   "outputs": [],
   "source": [
    "print(poly_w)"
   ]
  },
  {
   "cell_type": "code",
   "execution_count": null,
   "metadata": {},
   "outputs": [],
   "source": [
    "poly_o = P.fit(x=ln_En_CV_LoBg, y=Eff_CV_LoBg, deg=5)\n",
    "print(poly_o)"
   ]
  },
  {
   "cell_type": "code",
   "execution_count": null,
   "metadata": {},
   "outputs": [],
   "source": [
    "weights = np.linspace(1, 2, N)\n",
    "Xw = X * np.sqrt(weights)[:, None]\n",
    "yw = y * np.sqrt(weights)\n",
    "print (linalg.lstsq(Xw, yw)[0])"
   ]
  },
  {
   "cell_type": "code",
   "execution_count": null,
   "metadata": {},
   "outputs": [],
   "source": [
    "weights = 1.0 / unc_perc**2.0\n",
    "weights"
   ]
  },
  {
   "cell_type": "code",
   "execution_count": null,
   "metadata": {},
   "outputs": [],
   "source": [
    "Xw = ln_En_CV_LoBg * np.sqrt(weights)[:, None]\n",
    "yw = ln_Eff_CV_LoBg * np.sqrt(weights)\n",
    "print (linalg.lstsq(Xw, yw)[0])"
   ]
  },
  {
   "cell_type": "code",
   "execution_count": null,
   "metadata": {},
   "outputs": [],
   "source": [
    "print (linalg.lstsq(Xw, yw))"
   ]
  },
  {
   "cell_type": "code",
   "execution_count": null,
   "metadata": {},
   "outputs": [],
   "source": [
    "X = ln_En_CV_LoBg\n",
    "y = ln_Eff_CV_LoBg\n",
    "w1 = linalg.lstsq(X, y)\n",
    "print (w1)"
   ]
  },
  {
   "cell_type": "code",
   "execution_count": null,
   "metadata": {},
   "outputs": [],
   "source": [
    "np.log(2)"
   ]
  },
  {
   "cell_type": "code",
   "execution_count": null,
   "metadata": {},
   "outputs": [],
   "source": []
  },
  {
   "cell_type": "code",
   "execution_count": null,
   "outputs": [],
   "source": [
    "# 2022-Dez-28\n",
    "# Cópia do programa principal com interface, ograyspy_main_ui.py,\n",
    "# para testes com Pandas"
   ],
   "metadata": {
    "collapsed": false
   }
  },
  {
   "cell_type": "code",
   "execution_count": null,
   "outputs": [],
   "source": [
    "import sys\n",
    "from PyQt5.QtCore import *\n",
    "from PyQt5.QtGui import *\n",
    "from PyQt5.QtWebEngineWidgets import QWebEngineView\n",
    "from PyQt5.QtWidgets import *\n",
    "from css_test import css_test, apply_css\n",
    "\n",
    "from ograyspy_class import Ograyspy\n",
    "# from html_window_class import SimpleHtmlViewer\n",
    "\n",
    "class MainWindow(QMainWindow):\n",
    "    count = 0\n",
    "\n",
    "    def __init__(self, parent=None):\n",
    "        super(MainWindow, self).__init__(parent)\n",
    "        self.mdi = QMdiArea()\n",
    "\n",
    "        self.mdi.setHorizontalScrollBarPolicy(Qt.ScrollBarAsNeeded)\n",
    "        self.mdi.setVerticalScrollBarPolicy(Qt.ScrollBarAsNeeded)\n",
    "        self.setCentralWidget(self.mdi)\n",
    "\n",
    "        # self.mdi.subWindowActivated.connect(self.updateMenus)\n",
    "        self.windowMapper = QSignalMapper(self)\n",
    "        # self.windowMapper.mapped[QWidget].connect(self.setActiveSubWindow)\n",
    "\n",
    "        self.setCentralWidget(self.mdi)\n",
    "        bar = self.menuBar()\n",
    "\n",
    "        file = bar.addMenu(\"File\")\n",
    "        file.addAction(\"New\")\n",
    "        file.addAction(\"Open\")\n",
    "        file.addAction(\"Pandas-generate an_html_file.html\")\n",
    "        file.addAction(\"Show spectrum graphic\")\n",
    "        file.addAction(\"Show Pandas dataframe\")\n",
    "        file.addAction(\"cascade\")\n",
    "        file.addAction(\"Tiled\")\n",
    "        file.addAction(\"Exit\")\n",
    "        file.triggered[QAction].connect(self.windowaction)\n",
    "        self.setWindowTitle(\"MDI demo\")\n",
    "\n",
    "    def windowaction(self, q):\n",
    "        print(\"triggered\")\n",
    "\n",
    "        if q.text() == \"New\":\n",
    "            MainWindow.count = MainWindow.count + 1\n",
    "            sub = QMdiSubWindow()\n",
    "            sub.setWidget(QTextEdit())\n",
    "            sub.setWindowTitle(\"subwindow\" + str(MainWindow.count))\n",
    "            self.mdi.addSubWindow(sub)\n",
    "            sub.show()\n",
    "\n",
    "        if q.text() == \"Open\":\n",
    "            fileName, _ = QFileDialog.getOpenFileName(self)\n",
    "            if fileName:\n",
    "                # This is a hack...\n",
    "                # existing = self.findMdiChild(fileName)\n",
    "                existing = True\n",
    "                if existing:\n",
    "                    MainWindow.count = MainWindow.count + 1\n",
    "                    sub = QMdiSubWindow()\n",
    "                    sub.setWidget(QTextEdit())\n",
    "                    # sub.setWindowTitle(\"subwindow\" + str(MainWindow.count))\n",
    "                    sub.setWindowTitle(fileName)\n",
    "                    self.mdi.addSubWindow(sub)\n",
    "                    sub.show()\n",
    "\n",
    "        if q.text() == \"Pandas-generate an_html_file.html\":\n",
    "            fileName, _ = QFileDialog.getOpenFileName(self)\n",
    "            if fileName:\n",
    "                # This is a hack...\n",
    "                # existing = self.findMdiChild(fileName)\n",
    "                existing = True\n",
    "                if existing:\n",
    "                    ogra = Ograyspy(batch_mode=False)\n",
    "                    # to_be_found = 'Genie_Transfer'\n",
    "                    # print('\\nogra.define_files_folder(to_be_found)')\n",
    "                    # ogra.define_files_folder(to_be_found)\n",
    "                    ogra.a_spec_name = fileName\n",
    "                    # AQUI: ativar gener_dataframe qdo estiver pronto.\n",
    "                    ogra.perform_total_analysis(peak_sd_fact=3.0, gener_dataframe=True)\n",
    "                    ogra.a_spec.spec_pks_df.to_html(buf='an_html_file.html')\n",
    "                    # print(ogra.a_spec.spec_pks_df)\n",
    "\n",
    "                    MainWindow.count = MainWindow.count + 1\n",
    "                    sub = QMdiSubWindow()\n",
    "                    web = QWebEngineView()\n",
    "                    # web.load(QUrl(\"file:///C:/Users/mmaduar/PycharmProjects/OGRaySpY/src/my_file.html\"))\n",
    "                    apply_css(ogra.a_spec.spec_pks_df)\n",
    "                    web.load(QUrl(\"file:///C:/Users/mmaduar/PycharmProjects/OGRaySpY/src/an_html_file.html\"))\n",
    "                    # 2022-Dez-27 PAREI AQUI:\n",
    "                    # - passar a saída de to_html como string?\n",
    "                    # - O html pode ser renderizado com sucesso, inclusive com css\n",
    "                    # - porém, parece que o SEI não aceita css. Paciência.\n",
    "\n",
    "                    # web.load(ogra.dataframe_html_string)\n",
    "                    # css_test()\n",
    "                    sub.setWidget(web)\n",
    "                    sub.setWindowTitle(\"subwindow\" + str(MainWindow.count))\n",
    "                    self.mdi.addSubWindow(sub)\n",
    "                    sub.show()\n",
    "\n",
    "        if q.text() == \"Show spectrum graphic\":\n",
    "            MainWindow.count = MainWindow.count + 1\n",
    "            sub = QMdiSubWindow()\n",
    "            web = QWebEngineView()\n",
    "            web.load(QUrl(\"file:///C:/Users/mmaduar/PycharmProjects/OGRaySpY/src/gross_counts_graph.html\"))\n",
    "            sub.setWidget(web)\n",
    "            sub.setWindowTitle(\"subwindow\" + str(MainWindow.count))\n",
    "            self.mdi.addSubWindow(sub)\n",
    "            sub.show()\n",
    "\n",
    "        if q.text() == \"Show Pandas dataframe\":\n",
    "            MainWindow.count = MainWindow.count + 1\n",
    "            sub = QMdiSubWindow()\n",
    "            web = QWebEngineView()\n",
    "            web.load(QUrl(\"file:///C:/Users/mmaduar/PycharmProjects/OGRaySpY/src/my_file.html\"))\n",
    "            # 2022-Dez-23 PAREI AQUI - passar a saída de to_html como string\n",
    "            # web.load(ogra.dataframe_html_string)\n",
    "            css_test()\n",
    "            sub.setWidget(web)\n",
    "            sub.setWindowTitle(\"subwindow\" + str(MainWindow.count))\n",
    "            self.mdi.addSubWindow(sub)\n",
    "            sub.show()\n",
    "\n",
    "        if q.text() == \"cascade\":\n",
    "            self.mdi.cascadeSubWindows()\n",
    "\n",
    "        if q.text() == \"Tiled\":\n",
    "            self.mdi.tileSubWindows()\n",
    "\n",
    "        if q.text() == \"Exit\":\n",
    "            QApplication.instance().exit()\n",
    "\n",
    "    def findMdiChild(self, fileName):\n",
    "        canonicalFilePath = QFileInfo(fileName).canonicalFilePath()\n",
    "\n",
    "        for window in self.mdiArea.subWindowList():\n",
    "            if window.widget().currentFile() == canonicalFilePath:\n",
    "                return window\n",
    "        return None\n",
    "\n",
    "\n",
    "def main():\n",
    "    app = QApplication(sys.argv)\n",
    "    ex = MainWindow()\n",
    "    ex.show()\n",
    "    sys.exit(app.exec_())\n",
    "\n",
    "\n",
    "if __name__ == '__main__':\n",
    "    main()\n"
   ],
   "metadata": {
    "collapsed": false
   }
  },
  {
   "cell_type": "code",
   "execution_count": null,
   "outputs": [],
   "source": [
    "dir()"
   ],
   "metadata": {
    "collapsed": false
   }
  },
  {
   "cell_type": "code",
   "execution_count": null,
   "outputs": [],
   "source": [],
   "metadata": {
    "collapsed": false
   }
  }
 ],
 "metadata": {
  "kernelspec": {
   "display_name": "Python 3",
   "language": "python",
   "name": "python3"
  },
  "language_info": {
   "codemirror_mode": {
    "name": "ipython",
    "version": 3
   },
   "file_extension": ".py",
   "mimetype": "text/x-python",
   "name": "python",
   "nbconvert_exporter": "python",
   "pygments_lexer": "ipython3",
   "version": "3.7.3"
  }
 },
 "nbformat": 4,
 "nbformat_minor": 5
}
