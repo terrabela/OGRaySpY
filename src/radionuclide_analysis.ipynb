{
 "cells": [
  {
   "cell_type": "code",
   "execution_count": 1,
   "id": "e358da32",
   "metadata": {},
   "outputs": [],
   "source": [
    "# 2022-Dez-28\n",
    "# Jupyter notebook for tests with OGRaySpY modules"
   ]
  },
  {
   "cell_type": "code",
   "execution_count": 2,
   "id": "15a2f1e2",
   "metadata": {},
   "outputs": [
    {
     "name": "stdout",
     "output_type": "stream",
     "text": [
      "Requirement already satisfied: pip in /home/marcelofm/lib/python3.10/site-packages (23.0.1)\n",
      "Note: you may need to restart the kernel to use updated packages.\n"
     ]
    }
   ],
   "source": [
    "pip install --upgrade pip"
   ]
  },
  {
   "cell_type": "code",
   "execution_count": 3,
   "id": "eb3dbca3",
   "metadata": {},
   "outputs": [
    {
     "name": "stdout",
     "output_type": "stream",
     "text": [
      "Requirement already satisfied: lmfit in /home/marcelofm/lib/python3.10/site-packages (1.1.0)\n",
      "Requirement already satisfied: scipy>=1.6 in /home/marcelofm/lib/python3.10/site-packages (from lmfit) (1.9.3)\n",
      "Requirement already satisfied: numpy>=1.19 in /home/marcelofm/lib/python3.10/site-packages (from lmfit) (1.23.4)\n",
      "Requirement already satisfied: uncertainties>=3.1.4 in /home/marcelofm/lib/python3.10/site-packages (from lmfit) (3.1.7)\n",
      "Requirement already satisfied: asteval>=0.9.28 in /home/marcelofm/lib/python3.10/site-packages (from lmfit) (0.9.29)\n",
      "Requirement already satisfied: future in /home/marcelofm/lib/python3.10/site-packages (from uncertainties>=3.1.4->lmfit) (0.18.3)\n",
      "Note: you may need to restart the kernel to use updated packages.\n"
     ]
    }
   ],
   "source": [
    "pip install lmfit"
   ]
  },
  {
   "cell_type": "code",
   "execution_count": 4,
   "id": "d9f72441",
   "metadata": {},
   "outputs": [
    {
     "name": "stdout",
     "output_type": "stream",
     "text": [
      "Requirement already satisfied: odfpy in /home/marcelofm/lib/python3.10/site-packages (1.4.1)\n",
      "Requirement already satisfied: defusedxml in /home/marcelofm/lib/python3.10/site-packages (from odfpy) (0.7.1)\n",
      "Note: you may need to restart the kernel to use updated packages.\n"
     ]
    }
   ],
   "source": [
    "pip install odfpy"
   ]
  },
  {
   "cell_type": "code",
   "execution_count": 5,
   "id": "4711bf0f",
   "metadata": {},
   "outputs": [
    {
     "name": "stdout",
     "output_type": "stream",
     "text": [
      "Requirement already satisfied: cython in /home/marcelofm/lib/python3.10/site-packages (0.29.33)\n",
      "Note: you may need to restart the kernel to use updated packages.\n"
     ]
    }
   ],
   "source": [
    "pip install cython"
   ]
  },
  {
   "cell_type": "code",
   "execution_count": 15,
   "id": "1bdf2da7",
   "metadata": {},
   "outputs": [
    {
     "name": "stdout",
     "output_type": "stream",
     "text": [
      "Requirement already satisfied: debugpy in /home/marcelofm/lib/python3.10/site-packages (1.6.3)\n",
      "Note: you may need to restart the kernel to use updated packages.\n"
     ]
    }
   ],
   "source": [
    "pip install debugpy"
   ]
  },
  {
   "cell_type": "code",
   "execution_count": 16,
   "id": "961f03bd",
   "metadata": {},
   "outputs": [
    {
     "name": "stdout",
     "output_type": "stream",
     "text": [
      "Collecting spyder-unittest\n",
      "  Downloading spyder_unittest-0.5.1-py3-none-any.whl (59 kB)\n",
      "\u001b[2K     \u001b[38;2;114;156;31m━━━━━━━━━━━━━━━━━━━━━━━━━━━━━━━━━━━━━━━\u001b[0m \u001b[32m60.0/60.0 kB\u001b[0m \u001b[31m874.6 kB/s\u001b[0m eta \u001b[36m0:00:00\u001b[0mMB/s\u001b[0m eta \u001b[36m0:00:01\u001b[0m\n",
      "\u001b[?25hCollecting spyder<6,>=5.3.1\n",
      "  Downloading spyder-5.4.2-py3-none-any.whl (14.9 MB)\n",
      "\u001b[2K     \u001b[38;2;114;156;31m━━━━━━━━━━━━━━━━━━━━━━━━━━━━━━━━━━━━━━━━\u001b[0m \u001b[32m14.9/14.9 MB\u001b[0m \u001b[31m8.6 MB/s\u001b[0m eta \u001b[36m0:00:00\u001b[0m0m eta \u001b[36m0:00:01\u001b[0m[36m0:00:01\u001b[0m\n",
      "\u001b[?25hCollecting lxml\n",
      "  Downloading lxml-4.9.2-cp310-cp310-manylinux_2_17_x86_64.manylinux2014_x86_64.manylinux_2_24_x86_64.whl (7.1 MB)\n",
      "\u001b[2K     \u001b[38;2;114;156;31m━━━━━━━━━━━━━━━━━━━━━━━━━━━━━━━━━━━━━━━━\u001b[0m \u001b[32m7.1/7.1 MB\u001b[0m \u001b[31m9.6 MB/s\u001b[0m eta \u001b[36m0:00:00\u001b[0m0m eta \u001b[36m0:00:01\u001b[0m[36m0:00:01\u001b[0m\n",
      "\u001b[?25hRequirement already satisfied: pyzmq in /home/marcelofm/lib/python3.10/site-packages (from spyder-unittest) (24.0.1)\n",
      "Requirement already satisfied: ipython<9.0.0,>=7.31.1 in /home/marcelofm/lib/python3.10/site-packages (from spyder<6,>=5.3.1->spyder-unittest) (8.6.0)\n",
      "Requirement already satisfied: pexpect>=4.4.0 in /home/marcelofm/lib/python3.10/site-packages (from spyder<6,>=5.3.1->spyder-unittest) (4.8.0)\n",
      "Collecting pyqt5<5.16\n",
      "  Downloading PyQt5-5.15.9-cp37-abi3-manylinux_2_17_x86_64.whl (8.4 MB)\n",
      "\u001b[2K     \u001b[38;2;114;156;31m━━━━━━━━━━━━━━━━━━━━━━━━━━━━━━━━━━━━━━━━\u001b[0m \u001b[32m8.4/8.4 MB\u001b[0m \u001b[31m9.4 MB/s\u001b[0m eta \u001b[36m0:00:00\u001b[0m0m eta \u001b[36m0:00:01\u001b[0m0:01\u001b[0m:01\u001b[0m\n",
      "\u001b[?25hCollecting cookiecutter>=1.6.0\n",
      "  Downloading cookiecutter-2.1.1-py2.py3-none-any.whl (36 kB)\n",
      "Collecting textdistance>=4.2.0\n",
      "  Downloading textdistance-4.5.0-py3-none-any.whl (31 kB)\n",
      "Requirement already satisfied: nbconvert>=4.0 in /home/marcelofm/lib/python3.10/site-packages (from spyder<6,>=5.3.1->spyder-unittest) (7.2.3)\n",
      "Collecting three-merge>=0.1.1\n",
      "  Downloading three_merge-0.1.1-py2.py3-none-any.whl (6.4 kB)\n",
      "Collecting watchdog>=0.10.3\n",
      "  Downloading watchdog-3.0.0-py3-none-manylinux2014_x86_64.whl (82 kB)\n",
      "\u001b[2K     \u001b[38;2;114;156;31m━━━━━━━━━━━━━━━━━━━━━━━━━━━━━━━━━━━━━━━━\u001b[0m \u001b[32m82.1/82.1 kB\u001b[0m \u001b[31m2.4 MB/s\u001b[0m eta \u001b[36m0:00:00\u001b[0m\n",
      "\u001b[?25hRequirement already satisfied: psutil>=5.3 in /home/marcelofm/lib/python3.10/site-packages (from spyder<6,>=5.3.1->spyder-unittest) (5.9.3)\n",
      "Collecting pylint<3.0,>=2.5.0\n",
      "  Downloading pylint-2.17.1-py3-none-any.whl (535 kB)\n",
      "\u001b[2K     \u001b[38;2;114;156;31m━━━━━━━━━━━━━━━━━━━━━━━━━━━━━━━━━━━━━━━\u001b[0m \u001b[32m535.8/535.8 kB\u001b[0m \u001b[31m3.7 MB/s\u001b[0m eta \u001b[36m0:00:00\u001b[0mm eta \u001b[36m0:00:01\u001b[0m0:01\u001b[0m\n",
      "\u001b[?25hCollecting numpydoc>=0.6.0\n",
      "  Downloading numpydoc-1.5.0-py3-none-any.whl (52 kB)\n",
      "\u001b[2K     \u001b[38;2;114;156;31m━━━━━━━━━━━━━━━━━━━━━━━━━━━━━━━━━━━━━━━━\u001b[0m \u001b[32m52.4/52.4 kB\u001b[0m \u001b[31m1.6 MB/s\u001b[0m eta \u001b[36m0:00:00\u001b[0m\n",
      "\u001b[?25hRequirement already satisfied: pickleshare>=0.4 in /home/marcelofm/lib/python3.10/site-packages (from spyder<6,>=5.3.1->spyder-unittest) (0.7.5)\n",
      "Collecting pyqtwebengine<5.16\n",
      "  Downloading PyQtWebEngine-5.15.6-cp37-abi3-manylinux1_x86_64.whl (230 kB)\n",
      "\u001b[2K     \u001b[38;2;114;156;31m━━━━━━━━━━━━━━━━━━━━━━━━━━━━━━━━━━━━━━━\u001b[0m \u001b[32m230.4/230.4 kB\u001b[0m \u001b[31m3.0 MB/s\u001b[0m eta \u001b[36m0:00:00\u001b[0m[36m0:00:01\u001b[0m\n",
      "\u001b[?25hRequirement already satisfied: setuptools>=49.6.0 in /home/marcelofm/lib/python3.10/site-packages (from spyder<6,>=5.3.1->spyder-unittest) (60.2.0)\n",
      "Requirement already satisfied: jsonschema>=3.2.0 in /home/marcelofm/lib/python3.10/site-packages (from spyder<6,>=5.3.1->spyder-unittest) (4.16.0)\n",
      "Collecting keyring>=17.0.0\n",
      "  Downloading keyring-23.13.1-py3-none-any.whl (37 kB)\n",
      "Collecting spyder-kernels<2.5.0,>=2.4.2\n",
      "  Downloading spyder_kernels-2.4.2-py2.py3-none-any.whl (97 kB)\n",
      "\u001b[2K     \u001b[38;2;114;156;31m━━━━━━━━━━━━━━━━━━━━━━━━━━━━━━━━━━━━━━━━\u001b[0m \u001b[32m97.6/97.6 kB\u001b[0m \u001b[31m3.0 MB/s\u001b[0m eta \u001b[36m0:00:00\u001b[0m\n",
      "\u001b[?25hCollecting pyxdg>=0.26\n",
      "  Downloading pyxdg-0.28-py2.py3-none-any.whl (49 kB)\n",
      "\u001b[2K     \u001b[38;2;114;156;31m━━━━━━━━━━━━━━━━━━━━━━━━━━━━━━━━━━━━━━━━\u001b[0m \u001b[32m49.5/49.5 kB\u001b[0m \u001b[31m1.3 MB/s\u001b[0m eta \u001b[36m0:00:00\u001b[0m\n",
      "\u001b[?25hCollecting intervaltree>=3.0.2\n",
      "  Downloading intervaltree-3.1.0.tar.gz (32 kB)\n",
      "  Preparing metadata (setup.py) ... \u001b[?25ldone\n",
      "\u001b[?25hCollecting rtree>=0.9.7\n",
      "  Downloading Rtree-1.0.1-cp310-cp310-manylinux_2_17_x86_64.manylinux2014_x86_64.whl (1.0 MB)\n",
      "\u001b[2K     \u001b[38;2;114;156;31m━━━━━━━━━━━━━━━━━━━━━━━━━━━━━━━━━━━━━━━━\u001b[0m \u001b[32m1.0/1.0 MB\u001b[0m \u001b[31m6.9 MB/s\u001b[0m eta \u001b[36m0:00:00\u001b[0m0m eta \u001b[36m0:00:01\u001b[0m[36m0:00:01\u001b[0m\n",
      "\u001b[?25hCollecting qdarkstyle<3.1.0,>=3.0.2\n",
      "  Downloading QDarkStyle-3.0.3-py2.py3-none-any.whl (450 kB)\n",
      "\u001b[2K     \u001b[38;2;114;156;31m━━━━━━━━━━━━━━━━━━━━━━━━━━━━━━━━━━━━━━━\u001b[0m \u001b[32m450.1/450.1 kB\u001b[0m \u001b[31m4.4 MB/s\u001b[0m eta \u001b[36m0:00:00\u001b[0m[36m0:00:01\u001b[0mm eta \u001b[36m0:00:01\u001b[0m\n",
      "\u001b[?25hRequirement already satisfied: jedi<0.19.0,>=0.17.2 in /home/marcelofm/lib/python3.10/site-packages (from spyder<6,>=5.3.1->spyder-unittest) (0.18.1)\n",
      "Collecting diff-match-patch>=20181111\n",
      "  Downloading diff_match_patch-20200713-py3-none-any.whl (61 kB)\n",
      "\u001b[2K     \u001b[38;2;114;156;31m━━━━━━━━━━━━━━━━━━━━━━━━━━━━━━━━━━━━━━━━\u001b[0m \u001b[32m61.6/61.6 kB\u001b[0m \u001b[31m1.5 MB/s\u001b[0m eta \u001b[36m0:00:00\u001b[0m0m eta \u001b[36m0:00:01\u001b[0m\n",
      "\u001b[?25hCollecting cloudpickle>=0.5.0\n",
      "  Downloading cloudpickle-2.2.1-py3-none-any.whl (25 kB)\n",
      "Requirement already satisfied: qtpy>=2.1.0 in /home/marcelofm/lib/python3.10/site-packages (from spyder<6,>=5.3.1->spyder-unittest) (2.2.1)\n",
      "Collecting pylint-venv>=2.1.1\n",
      "  Downloading pylint_venv-3.0.1-py3-none-any.whl (5.0 kB)\n",
      "Collecting python-lsp-server[all]<1.8.0,>=1.7.1\n",
      "  Downloading python_lsp_server-1.7.1-py3-none-any.whl (68 kB)\n",
      "\u001b[2K     \u001b[38;2;114;156;31m━━━━━━━━━━━━━━━━━━━━━━━━━━━━━━━━━━━━━━━━\u001b[0m \u001b[32m68.6/68.6 kB\u001b[0m \u001b[31m1.9 MB/s\u001b[0m eta \u001b[36m0:00:00\u001b[0m\n",
      "\u001b[?25hCollecting jellyfish>=0.7\n",
      "  Downloading jellyfish-0.11.1-cp310-cp310-manylinux_2_17_x86_64.manylinux2014_x86_64.whl (1.2 MB)\n",
      "\u001b[2K     \u001b[38;2;114;156;31m━━━━━━━━━━━━━━━━━━━━━━━━━━━━━━━━━━━━━━━━\u001b[0m \u001b[32m1.2/1.2 MB\u001b[0m \u001b[31m4.4 MB/s\u001b[0m eta \u001b[36m0:00:00\u001b[0mm eta \u001b[36m0:00:01\u001b[0m00:01\u001b[0m:01\u001b[0m\n",
      "\u001b[?25hCollecting qstylizer>=0.2.2\n",
      "  Downloading qstylizer-0.2.2-py2.py3-none-any.whl (15 kB)\n",
      "Collecting pyls-spyder>=0.4.0\n",
      "  Downloading pyls_spyder-0.4.0-py3-none-any.whl (8.1 kB)\n",
      "Collecting qtawesome>=1.2.1\n",
      "  Downloading QtAwesome-1.2.3-py3-none-any.whl (2.3 MB)\n",
      "\u001b[2K     \u001b[38;2;114;156;31m━━━━━━━━━━━━━━━━━━━━━━━━━━━━━━━━━━━━━━━━\u001b[0m \u001b[32m2.3/2.3 MB\u001b[0m \u001b[31m9.0 MB/s\u001b[0m eta \u001b[36m0:00:00\u001b[0m0m eta \u001b[36m0:00:01\u001b[0m[36m0:00:01\u001b[0m\n",
      "\u001b[?25hCollecting qtconsole<5.5.0,>=5.4.0\n",
      "  Downloading qtconsole-5.4.1-py3-none-any.whl (120 kB)\n",
      "\u001b[2K     \u001b[38;2;114;156;31m━━━━━━━━━━━━━━━━━━━━━━━━━━━━━━━━━━━━━━━\u001b[0m \u001b[32m120.9/120.9 kB\u001b[0m \u001b[31m2.5 MB/s\u001b[0m eta \u001b[36m0:00:00\u001b[0m MB/s\u001b[0m eta \u001b[36m0:00:01\u001b[0m\n",
      "\u001b[?25hCollecting chardet>=2.0.0\n",
      "  Downloading chardet-5.1.0-py3-none-any.whl (199 kB)\n",
      "\u001b[2K     \u001b[38;2;114;156;31m━━━━━━━━━━━━━━━━━━━━━━━━━━━━━━━━━━━━━━━\u001b[0m \u001b[32m199.1/199.1 kB\u001b[0m \u001b[31m2.3 MB/s\u001b[0m eta \u001b[36m0:00:00\u001b[0m[36m0:00:01\u001b[0m\n",
      "\u001b[?25hCollecting sphinx>=0.6.6\n",
      "  Downloading sphinx-6.1.3-py3-none-any.whl (3.0 MB)\n",
      "\u001b[2K     \u001b[38;2;114;156;31m━━━━━━━━━━━━━━━━━━━━━━━━━━━━━━━━━━━━━━━━\u001b[0m \u001b[32m3.0/3.0 MB\u001b[0m \u001b[31m8.8 MB/s\u001b[0m eta \u001b[36m0:00:00\u001b[0m0m eta \u001b[36m0:00:01\u001b[0m0:01\u001b[0m:01\u001b[0m\n",
      "\u001b[?25hCollecting atomicwrites>=1.2.0\n",
      "  Downloading atomicwrites-1.4.1.tar.gz (14 kB)\n",
      "  Preparing metadata (setup.py) ... \u001b[?25ldone\n",
      "\u001b[?25hRequirement already satisfied: pygments>=2.0 in /home/marcelofm/lib/python3.10/site-packages (from spyder<6,>=5.3.1->spyder-unittest) (2.13.0)\n",
      "Collecting python-lsp-black>=1.2.0\n",
      "  Downloading python_lsp_black-1.2.1-py3-none-any.whl (6.2 kB)\n",
      "Requirement already satisfied: parso<0.9.0,>=0.7.0 in /home/marcelofm/lib/python3.10/site-packages (from spyder<6,>=5.3.1->spyder-unittest) (0.8.3)\n",
      "Requirement already satisfied: Jinja2<4.0.0,>=2.7 in /home/marcelofm/lib/python3.10/site-packages (from cookiecutter>=1.6.0->spyder<6,>=5.3.1->spyder-unittest) (3.1.2)\n",
      "Collecting requests>=2.23.0\n",
      "  Downloading requests-2.28.2-py3-none-any.whl (62 kB)\n",
      "\u001b[2K     \u001b[38;2;114;156;31m━━━━━━━━━━━━━━━━━━━━━━━━━━━━━━━━━━━━━━━━\u001b[0m \u001b[32m62.8/62.8 kB\u001b[0m \u001b[31m2.0 MB/s\u001b[0m eta \u001b[36m0:00:00\u001b[0m\n",
      "\u001b[?25hCollecting binaryornot>=0.4.4\n",
      "  Downloading binaryornot-0.4.4-py2.py3-none-any.whl (9.0 kB)\n",
      "Collecting pyyaml>=5.3.1\n",
      "  Downloading PyYAML-6.0-cp310-cp310-manylinux_2_5_x86_64.manylinux1_x86_64.manylinux_2_12_x86_64.manylinux2010_x86_64.whl (682 kB)\n"
     ]
    },
    {
     "name": "stdout",
     "output_type": "stream",
     "text": [
      "\u001b[2K     \u001b[38;2;114;156;31m━━━━━━━━━━━━━━━━━━━━━━━━━━━━━━━━━━━━━━━\u001b[0m \u001b[32m682.2/682.2 kB\u001b[0m \u001b[31m6.7 MB/s\u001b[0m eta \u001b[36m0:00:00\u001b[0mm eta \u001b[36m0:00:01\u001b[0m0:01\u001b[0m\n",
      "\u001b[?25hCollecting jinja2-time>=0.2.0\n",
      "  Downloading jinja2_time-0.2.0-py2.py3-none-any.whl (6.4 kB)\n",
      "Collecting click<9.0.0,>=7.0\n",
      "  Downloading click-8.1.3-py3-none-any.whl (96 kB)\n",
      "\u001b[2K     \u001b[38;2;114;156;31m━━━━━━━━━━━━━━━━━━━━━━━━━━━━━━━━━━━━━━━━\u001b[0m \u001b[32m96.6/96.6 kB\u001b[0m \u001b[31m2.7 MB/s\u001b[0m eta \u001b[36m0:00:00\u001b[0m\n",
      "\u001b[?25hCollecting python-slugify>=4.0.0\n",
      "  Downloading python_slugify-8.0.1-py2.py3-none-any.whl (9.7 kB)\n",
      "Collecting sortedcontainers<3.0,>=2.0\n",
      "  Downloading sortedcontainers-2.4.0-py2.py3-none-any.whl (29 kB)\n",
      "Requirement already satisfied: stack-data in /home/marcelofm/lib/python3.10/site-packages (from ipython<9.0.0,>=7.31.1->spyder<6,>=5.3.1->spyder-unittest) (0.6.0)\n",
      "Requirement already satisfied: prompt-toolkit<3.1.0,>3.0.1 in /home/marcelofm/lib/python3.10/site-packages (from ipython<9.0.0,>=7.31.1->spyder<6,>=5.3.1->spyder-unittest) (3.0.31)\n",
      "Requirement already satisfied: backcall in /home/marcelofm/lib/python3.10/site-packages (from ipython<9.0.0,>=7.31.1->spyder<6,>=5.3.1->spyder-unittest) (0.2.0)\n",
      "Requirement already satisfied: matplotlib-inline in /home/marcelofm/lib/python3.10/site-packages (from ipython<9.0.0,>=7.31.1->spyder<6,>=5.3.1->spyder-unittest) (0.1.6)\n",
      "Requirement already satisfied: decorator in /home/marcelofm/lib/python3.10/site-packages (from ipython<9.0.0,>=7.31.1->spyder<6,>=5.3.1->spyder-unittest) (5.1.1)\n",
      "Requirement already satisfied: traitlets>=5 in /home/marcelofm/lib/python3.10/site-packages (from ipython<9.0.0,>=7.31.1->spyder<6,>=5.3.1->spyder-unittest) (5.5.0)\n",
      "Requirement already satisfied: pyrsistent!=0.17.0,!=0.17.1,!=0.17.2,>=0.14.0 in /home/marcelofm/lib/python3.10/site-packages (from jsonschema>=3.2.0->spyder<6,>=5.3.1->spyder-unittest) (0.19.1)\n",
      "Requirement already satisfied: attrs>=17.4.0 in /home/marcelofm/lib/python3.10/site-packages (from jsonschema>=3.2.0->spyder<6,>=5.3.1->spyder-unittest) (22.1.0)\n",
      "Collecting importlib-metadata>=4.11.4\n",
      "  Downloading importlib_metadata-6.1.0-py3-none-any.whl (21 kB)\n",
      "Collecting jeepney>=0.4.2\n",
      "  Downloading jeepney-0.8.0-py3-none-any.whl (48 kB)\n",
      "\u001b[2K     \u001b[38;2;114;156;31m━━━━━━━━━━━━━━━━━━━━━━━━━━━━━━━━━━━━━━━━\u001b[0m \u001b[32m48.4/48.4 kB\u001b[0m \u001b[31m1.2 MB/s\u001b[0m eta \u001b[36m0:00:00\u001b[0m\n",
      "\u001b[?25hCollecting SecretStorage>=3.2\n",
      "  Downloading SecretStorage-3.3.3-py3-none-any.whl (15 kB)\n",
      "Collecting jaraco.classes\n",
      "  Downloading jaraco.classes-3.2.3-py3-none-any.whl (6.0 kB)\n",
      "Requirement already satisfied: mistune<3,>=2.0.3 in /home/marcelofm/lib/python3.10/site-packages (from nbconvert>=4.0->spyder<6,>=5.3.1->spyder-unittest) (2.0.4)\n",
      "Requirement already satisfied: pandocfilters>=1.4.1 in /home/marcelofm/lib/python3.10/site-packages (from nbconvert>=4.0->spyder<6,>=5.3.1->spyder-unittest) (1.5.0)\n",
      "Requirement already satisfied: jupyterlab-pygments in /home/marcelofm/lib/python3.10/site-packages (from nbconvert>=4.0->spyder<6,>=5.3.1->spyder-unittest) (0.2.2)\n",
      "Requirement already satisfied: defusedxml in /home/marcelofm/lib/python3.10/site-packages (from nbconvert>=4.0->spyder<6,>=5.3.1->spyder-unittest) (0.7.1)\n",
      "Requirement already satisfied: nbformat>=5.1 in /home/marcelofm/lib/python3.10/site-packages (from nbconvert>=4.0->spyder<6,>=5.3.1->spyder-unittest) (5.7.0)\n",
      "Requirement already satisfied: packaging in /home/marcelofm/lib/python3.10/site-packages (from nbconvert>=4.0->spyder<6,>=5.3.1->spyder-unittest) (21.3)\n",
      "Requirement already satisfied: jupyter-core>=4.7 in /home/marcelofm/lib/python3.10/site-packages (from nbconvert>=4.0->spyder<6,>=5.3.1->spyder-unittest) (4.11.2)\n",
      "Requirement already satisfied: beautifulsoup4 in /home/marcelofm/lib/python3.10/site-packages (from nbconvert>=4.0->spyder<6,>=5.3.1->spyder-unittest) (4.11.1)\n",
      "Requirement already satisfied: tinycss2 in /home/marcelofm/lib/python3.10/site-packages (from nbconvert>=4.0->spyder<6,>=5.3.1->spyder-unittest) (1.2.1)\n",
      "Requirement already satisfied: bleach in /home/marcelofm/lib/python3.10/site-packages (from nbconvert>=4.0->spyder<6,>=5.3.1->spyder-unittest) (5.0.1)\n",
      "Requirement already satisfied: nbclient>=0.5.0 in /home/marcelofm/lib/python3.10/site-packages (from nbconvert>=4.0->spyder<6,>=5.3.1->spyder-unittest) (0.7.0)\n",
      "Requirement already satisfied: markupsafe>=2.0 in /home/marcelofm/lib/python3.10/site-packages (from nbconvert>=4.0->spyder<6,>=5.3.1->spyder-unittest) (2.1.1)\n",
      "Requirement already satisfied: ptyprocess>=0.5 in /home/marcelofm/lib/python3.10/site-packages (from pexpect>=4.4.0->spyder<6,>=5.3.1->spyder-unittest) (0.7.0)\n",
      "Collecting isort<6,>=4.2.5\n",
      "  Downloading isort-5.12.0-py3-none-any.whl (91 kB)\n",
      "\u001b[2K     \u001b[38;2;114;156;31m━━━━━━━━━━━━━━━━━━━━━━━━━━━━━━━━━━━━━━━━\u001b[0m \u001b[32m91.2/91.2 kB\u001b[0m \u001b[31m2.5 MB/s\u001b[0m eta \u001b[36m0:00:00\u001b[0m\n",
      "\u001b[?25hRequirement already satisfied: platformdirs>=2.2.0 in /home/marcelofm/lib/python3.10/site-packages (from pylint<3.0,>=2.5.0->spyder<6,>=5.3.1->spyder-unittest) (2.6.0)\n",
      "Collecting astroid<=2.17.0-dev0,>=2.15.0\n",
      "  Downloading astroid-2.15.1-py3-none-any.whl (277 kB)\n",
      "\u001b[2K     \u001b[38;2;114;156;31m━━━━━━━━━━━━━━━━━━━━━━━━━━━━━━━━━━━━━━━\u001b[0m \u001b[32m277.8/277.8 kB\u001b[0m \u001b[31m3.1 MB/s\u001b[0m eta \u001b[36m0:00:00\u001b[0mm eta \u001b[36m0:00:01\u001b[0m\n",
      "\u001b[?25hCollecting tomli>=1.1.0\n",
      "  Downloading tomli-2.0.1-py3-none-any.whl (12 kB)\n",
      "Collecting dill>=0.2\n",
      "  Downloading dill-0.3.6-py3-none-any.whl (110 kB)\n",
      "\u001b[2K     \u001b[38;2;114;156;31m━━━━━━━━━━━━━━━━━━━━━━━━━━━━━━━━━━━━━━━\u001b[0m \u001b[32m110.5/110.5 kB\u001b[0m \u001b[31m2.8 MB/s\u001b[0m eta \u001b[36m0:00:00\u001b[0m MB/s\u001b[0m eta \u001b[36m0:00:01\u001b[0m\n",
      "\u001b[?25hCollecting tomlkit>=0.10.1\n",
      "  Downloading tomlkit-0.11.7-py3-none-any.whl (35 kB)\n",
      "Collecting mccabe<0.8,>=0.6\n",
      "  Downloading mccabe-0.7.0-py2.py3-none-any.whl (7.3 kB)\n",
      "Collecting PyQt5-sip<13,>=12.11\n",
      "  Downloading PyQt5_sip-12.11.1-cp310-cp310-manylinux_2_5_x86_64.manylinux1_x86_64.whl (360 kB)\n",
      "\u001b[2K     \u001b[38;2;114;156;31m━━━━━━━━━━━━━━━━━━━━━━━━━━━━━━━━━━━━━━━\u001b[0m \u001b[32m360.1/360.1 kB\u001b[0m \u001b[31m4.4 MB/s\u001b[0m eta \u001b[36m0:00:00\u001b[0mm eta \u001b[36m0:00:01\u001b[0m\n",
      "\u001b[?25hCollecting PyQt5-Qt5>=5.15.2\n",
      "  Downloading PyQt5_Qt5-5.15.2-py3-none-manylinux2014_x86_64.whl (59.9 MB)\n",
      "\u001b[2K     \u001b[38;2;114;156;31m━━━━━━━━━━━━━━━━━━━━━━━━━━━━━━━━━━━━━━━━\u001b[0m \u001b[32m59.9/59.9 MB\u001b[0m \u001b[31m1.5 MB/s\u001b[0m eta \u001b[36m0:00:00\u001b[0m0m eta \u001b[36m0:00:01\u001b[0m[36m0:00:01\u001b[0m\n",
      "\u001b[?25hCollecting PyQtWebEngine-Qt5>=5.15.0\n",
      "  Downloading PyQtWebEngine_Qt5-5.15.2-py3-none-manylinux2014_x86_64.whl (67.5 MB)\n",
      "\u001b[2K     \u001b[38;2;114;156;31m━━━━━━━━━━━━━━━━━━━━━━━━━━━━━━━━━━━━━━━━\u001b[0m \u001b[32m67.5/67.5 MB\u001b[0m \u001b[31m4.3 MB/s\u001b[0m eta \u001b[36m0:00:00\u001b[0m0m eta \u001b[36m0:00:01\u001b[0m[36m0:00:01\u001b[0m\n",
      "\u001b[?25hCollecting toml\n",
      "  Downloading toml-0.10.2-py2.py3-none-any.whl (16 kB)\n",
      "Collecting black>=22.3.0\n",
      "  Downloading black-23.3.0-cp310-cp310-manylinux_2_17_x86_64.manylinux2014_x86_64.whl (1.7 MB)\n",
      "\u001b[2K     \u001b[38;2;114;156;31m━━━━━━━━━━━━━━━━━━━━━━━━━━━━━━━━━━━━━━━━\u001b[0m \u001b[32m1.7/1.7 MB\u001b[0m \u001b[31m8.3 MB/s\u001b[0m eta \u001b[36m0:00:00\u001b[0m0m eta \u001b[36m0:00:01\u001b[0m[36m0:00:01\u001b[0m\n",
      "\u001b[?25hCollecting docstring-to-markdown\n",
      "  Downloading docstring_to_markdown-0.12-py3-none-any.whl (18 kB)\n",
      "Collecting pluggy>=1.0.0\n",
      "  Downloading pluggy-1.0.0-py2.py3-none-any.whl (13 kB)\n",
      "Collecting python-lsp-jsonrpc>=1.0.0\n",
      "  Downloading python_lsp_jsonrpc-1.0.0-py3-none-any.whl (8.5 kB)\n",
      "Collecting ujson>=3.0.0\n",
      "  Downloading ujson-5.7.0-cp310-cp310-manylinux_2_17_x86_64.manylinux2014_x86_64.whl (52 kB)\n",
      "\u001b[2K     \u001b[38;2;114;156;31m━━━━━━━━━━━━━━━━━━━━━━━━━━━━━━━━━━━━━━━━\u001b[0m \u001b[32m52.8/52.8 kB\u001b[0m \u001b[31m1.3 MB/s\u001b[0m eta \u001b[36m0:00:00\u001b[0m\n",
      "\u001b[?25hCollecting whatthepatch<2.0.0,>=1.0.2\n",
      "  Downloading whatthepatch-1.0.4-py3-none-any.whl (11 kB)\n",
      "Collecting yapf\n",
      "  Downloading yapf-0.32.0-py2.py3-none-any.whl (190 kB)\n",
      "\u001b[2K     \u001b[38;2;114;156;31m━━━━━━━━━━━━━━━━━━━━━━━━━━━━━━━━━━━━━━━\u001b[0m \u001b[32m190.2/190.2 kB\u001b[0m \u001b[31m2.7 MB/s\u001b[0m eta \u001b[36m0:00:00\u001b[0m31m12.9 MB/s\u001b[0m eta \u001b[36m0:00:01\u001b[0m\n",
      "\u001b[?25hCollecting flake8<7,>=5.0.0\n",
      "  Downloading flake8-6.0.0-py2.py3-none-any.whl (57 kB)\n",
      "\u001b[2K     \u001b[38;2;114;156;31m━━━━━━━━━━━━━━━━━━━━━━━━━━━━━━━━━━━━━━━━\u001b[0m \u001b[32m57.8/57.8 kB\u001b[0m \u001b[31m1.3 MB/s\u001b[0m eta \u001b[36m0:00:00\u001b[0m7 MB/s\u001b[0m eta \u001b[36m0:00:01\u001b[0m\n",
      "\u001b[?25hCollecting autopep8<1.7.0,>=1.6.0\n",
      "  Downloading autopep8-1.6.0-py2.py3-none-any.whl (45 kB)\n",
      "\u001b[2K     \u001b[38;2;114;156;31m━━━━━━━━━━━━━━━━━━━━━━━━━━━━━━━━━━━━━━━━\u001b[0m \u001b[32m45.3/45.3 kB\u001b[0m \u001b[31m1.2 MB/s\u001b[0m eta \u001b[36m0:00:00\u001b[0m\n"
     ]
    },
    {
     "name": "stdout",
     "output_type": "stream",
     "text": [
      "\u001b[?25hCollecting pyflakes<3.1.0,>=2.5.0\n",
      "  Downloading pyflakes-3.0.1-py2.py3-none-any.whl (62 kB)\n",
      "\u001b[2K     \u001b[38;2;114;156;31m━━━━━━━━━━━━━━━━━━━━━━━━━━━━━━━━━━━━━━━\u001b[0m \u001b[32m62.8/62.8 kB\u001b[0m \u001b[31m655.2 kB/s\u001b[0m eta \u001b[36m0:00:00\u001b[0m[36m0:00:01\u001b[0m\n",
      "\u001b[?25hCollecting pydocstyle<6.3.0,>=6.2.0\n",
      "  Downloading pydocstyle-6.2.3-py3-none-any.whl (37 kB)\n",
      "Collecting pycodestyle<2.11.0,>=2.9.0\n",
      "  Downloading pycodestyle-2.10.0-py2.py3-none-any.whl (41 kB)\n",
      "\u001b[2K     \u001b[38;2;114;156;31m━━━━━━━━━━━━━━━━━━━━━━━━━━━━━━━━━━━━━━━\u001b[0m \u001b[32m41.3/41.3 kB\u001b[0m \u001b[31m863.9 kB/s\u001b[0m eta \u001b[36m0:00:00\u001b[0mm eta \u001b[36m0:00:01\u001b[0m\n",
      "\u001b[?25hCollecting rope>1.2.0\n",
      "  Downloading rope-1.7.0-py3-none-any.whl (199 kB)\n",
      "\u001b[2K     \u001b[38;2;114;156;31m━━━━━━━━━━━━━━━━━━━━━━━━━━━━━━━━━━━━━━━\u001b[0m \u001b[32m199.7/199.7 kB\u001b[0m \u001b[31m3.3 MB/s\u001b[0m eta \u001b[36m0:00:00\u001b[0m[36m0:00:01\u001b[0m\n",
      "\u001b[?25hCollecting inflection<1,>0.3.0\n",
      "  Downloading inflection-0.5.1-py2.py3-none-any.whl (9.5 kB)\n",
      "Requirement already satisfied: ipykernel>=4.1 in /home/marcelofm/lib/python3.10/site-packages (from qtconsole<5.5.0,>=5.4.0->spyder<6,>=5.3.1->spyder-unittest) (6.17.0)\n",
      "Requirement already satisfied: jupyter-client>=4.1 in /home/marcelofm/lib/python3.10/site-packages (from qtconsole<5.5.0,>=5.4.0->spyder<6,>=5.3.1->spyder-unittest) (7.4.4)\n",
      "Requirement already satisfied: ipython-genutils in /home/marcelofm/lib/python3.10/site-packages (from qtconsole<5.5.0,>=5.4.0->spyder<6,>=5.3.1->spyder-unittest) (0.2.0)\n",
      "Collecting snowballstemmer>=2.0\n",
      "  Downloading snowballstemmer-2.2.0-py2.py3-none-any.whl (93 kB)\n",
      "\u001b[2K     \u001b[38;2;114;156;31m━━━━━━━━━━━━━━━━━━━━━━━━━━━━━━━━━━━━━━━━\u001b[0m \u001b[32m93.0/93.0 kB\u001b[0m \u001b[31m2.3 MB/s\u001b[0m eta \u001b[36m0:00:00\u001b[0m0m eta \u001b[36m0:00:01\u001b[0m\n",
      "\u001b[?25hCollecting sphinxcontrib-htmlhelp>=2.0.0\n",
      "  Downloading sphinxcontrib_htmlhelp-2.0.1-py3-none-any.whl (99 kB)\n",
      "\u001b[2K     \u001b[38;2;114;156;31m━━━━━━━━━━━━━━━━━━━━━━━━━━━━━━━━━━━━━━━━\u001b[0m \u001b[32m99.8/99.8 kB\u001b[0m \u001b[31m2.5 MB/s\u001b[0m eta \u001b[36m0:00:00\u001b[0m[31m14.8 MB/s\u001b[0m eta \u001b[36m0:00:01\u001b[0m\n",
      "\u001b[?25hCollecting sphinxcontrib-applehelp\n",
      "  Downloading sphinxcontrib_applehelp-1.0.4-py3-none-any.whl (120 kB)\n",
      "\u001b[2K     \u001b[38;2;114;156;31m━━━━━━━━━━━━━━━━━━━━━━━━━━━━━━━━━━━━━━━\u001b[0m \u001b[32m120.6/120.6 kB\u001b[0m \u001b[31m2.3 MB/s\u001b[0m eta \u001b[36m0:00:00\u001b[0m MB/s\u001b[0m eta \u001b[36m0:00:01\u001b[0m\n",
      "\u001b[?25hCollecting sphinxcontrib-qthelp\n",
      "  Downloading sphinxcontrib_qthelp-1.0.3-py2.py3-none-any.whl (90 kB)\n",
      "\u001b[2K     \u001b[38;2;114;156;31m━━━━━━━━━━━━━━━━━━━━━━━━━━━━━━━━━━━━━━━━\u001b[0m \u001b[32m90.6/90.6 kB\u001b[0m \u001b[31m2.1 MB/s\u001b[0m eta \u001b[36m0:00:00\u001b[0m9 MB/s\u001b[0m eta \u001b[36m0:00:01\u001b[0m\n",
      "\u001b[?25hCollecting docutils<0.20,>=0.18\n",
      "  Downloading docutils-0.19-py3-none-any.whl (570 kB)\n",
      "\u001b[2K     \u001b[38;2;114;156;31m━━━━━━━━━━━━━━━━━━━━━━━━━━━━━━━━━━━━━━━\u001b[0m \u001b[32m570.5/570.5 kB\u001b[0m \u001b[31m5.5 MB/s\u001b[0m eta \u001b[36m0:00:00\u001b[0mm eta \u001b[36m0:00:01\u001b[0m0:01\u001b[0m\n",
      "\u001b[?25hCollecting sphinxcontrib-serializinghtml>=1.1.5\n",
      "  Downloading sphinxcontrib_serializinghtml-1.1.5-py2.py3-none-any.whl (94 kB)\n",
      "\u001b[2K     \u001b[38;2;114;156;31m━━━━━━━━━━━━━━━━━━━━━━━━━━━━━━━━━━━━━━━━\u001b[0m \u001b[32m94.0/94.0 kB\u001b[0m \u001b[31m2.6 MB/s\u001b[0m eta \u001b[36m0:00:00\u001b[0m\n",
      "\u001b[?25hCollecting imagesize>=1.3\n",
      "  Downloading imagesize-1.4.1-py2.py3-none-any.whl (8.8 kB)\n",
      "Collecting sphinxcontrib-devhelp\n",
      "  Downloading sphinxcontrib_devhelp-1.0.2-py2.py3-none-any.whl (84 kB)\n",
      "\u001b[2K     \u001b[38;2;114;156;31m━━━━━━━━━━━━━━━━━━━━━━━━━━━━━━━━━━━━━━━━\u001b[0m \u001b[32m84.7/84.7 kB\u001b[0m \u001b[31m2.1 MB/s\u001b[0m eta \u001b[36m0:00:00\u001b[0m[31m18.9 MB/s\u001b[0m eta \u001b[36m0:00:01\u001b[0m\n",
      "\u001b[?25hCollecting babel>=2.9\n",
      "  Downloading Babel-2.12.1-py3-none-any.whl (10.1 MB)\n",
      "\u001b[2K     \u001b[38;2;114;156;31m━━━━━━━━━━━━━━━━━━━━━━━━━━━━━━━━━━━━━━━━\u001b[0m \u001b[32m10.1/10.1 MB\u001b[0m \u001b[31m9.8 MB/s\u001b[0m eta \u001b[36m0:00:00\u001b[0m0m eta \u001b[36m0:00:01\u001b[0m36m0:00:01\u001b[0m\n",
      "\u001b[?25hCollecting sphinxcontrib-jsmath\n",
      "  Downloading sphinxcontrib_jsmath-1.0.1-py2.py3-none-any.whl (5.1 kB)\n",
      "Collecting alabaster<0.8,>=0.7\n",
      "  Downloading alabaster-0.7.13-py3-none-any.whl (13 kB)\n",
      "Collecting wurlitzer>=1.0.3\n",
      "  Downloading wurlitzer-3.0.3-py3-none-any.whl (7.3 kB)\n",
      "Collecting jupyter-client>=4.1\n",
      "  Downloading jupyter_client-7.4.9-py3-none-any.whl (133 kB)\n",
      "\u001b[2K     \u001b[38;2;114;156;31m━━━━━━━━━━━━━━━━━━━━━━━━━━━━━━━━━━━━━━━\u001b[0m \u001b[32m133.5/133.5 kB\u001b[0m \u001b[31m2.1 MB/s\u001b[0m eta \u001b[36m0:00:00\u001b[0mm eta \u001b[36m0:00:01\u001b[0m\n",
      "\u001b[?25hCollecting typing-extensions>=4.0.0\n",
      "  Downloading typing_extensions-4.5.0-py3-none-any.whl (27 kB)\n",
      "Collecting wrapt<2,>=1.11\n",
      "  Downloading wrapt-1.15.0-cp310-cp310-manylinux_2_5_x86_64.manylinux1_x86_64.manylinux_2_17_x86_64.manylinux2014_x86_64.whl (78 kB)\n",
      "\u001b[2K     \u001b[38;2;114;156;31m━━━━━━━━━━━━━━━━━━━━━━━━━━━━━━━━━━━━━━━━\u001b[0m \u001b[32m78.4/78.4 kB\u001b[0m \u001b[31m1.9 MB/s\u001b[0m eta \u001b[36m0:00:00\u001b[0m[31m16.7 MB/s\u001b[0m eta \u001b[36m0:00:01\u001b[0m\n",
      "\u001b[?25hCollecting lazy-object-proxy>=1.4.0\n",
      "  Downloading lazy_object_proxy-1.9.0-cp310-cp310-manylinux_2_5_x86_64.manylinux1_x86_64.manylinux_2_17_x86_64.manylinux2014_x86_64.whl (63 kB)\n",
      "\u001b[2K     \u001b[38;2;114;156;31m━━━━━━━━━━━━━━━━━━━━━━━━━━━━━━━━━━━━━━━━\u001b[0m \u001b[32m63.3/63.3 kB\u001b[0m \u001b[31m1.7 MB/s\u001b[0m eta \u001b[36m0:00:00\u001b[0m\n",
      "\u001b[?25hCollecting packaging\n",
      "  Downloading packaging-23.0-py3-none-any.whl (42 kB)\n",
      "\u001b[2K     \u001b[38;2;114;156;31m━━━━━━━━━━━━━━━━━━━━━━━━━━━━━━━━━━━━━━━━\u001b[0m \u001b[32m42.7/42.7 kB\u001b[0m \u001b[31m1.3 MB/s\u001b[0m eta \u001b[36m0:00:00\u001b[0m\n",
      "\u001b[?25hCollecting mypy-extensions>=0.4.3\n",
      "  Downloading mypy_extensions-1.0.0-py3-none-any.whl (4.7 kB)\n",
      "Collecting pathspec>=0.9.0\n",
      "  Downloading pathspec-0.11.1-py3-none-any.whl (29 kB)\n",
      "Collecting zipp>=0.5\n",
      "  Downloading zipp-3.15.0-py3-none-any.whl (6.8 kB)\n",
      "Requirement already satisfied: debugpy>=1.0 in /home/marcelofm/lib/python3.10/site-packages (from ipykernel>=4.1->qtconsole<5.5.0,>=5.4.0->spyder<6,>=5.3.1->spyder-unittest) (1.6.3)\n",
      "Requirement already satisfied: nest-asyncio in /home/marcelofm/lib/python3.10/site-packages (from ipykernel>=4.1->qtconsole<5.5.0,>=5.4.0->spyder<6,>=5.3.1->spyder-unittest) (1.5.6)\n",
      "Requirement already satisfied: tornado>=6.1 in /home/marcelofm/lib/python3.10/site-packages (from ipykernel>=4.1->qtconsole<5.5.0,>=5.4.0->spyder<6,>=5.3.1->spyder-unittest) (6.2)\n",
      "Collecting arrow\n",
      "  Downloading arrow-1.2.3-py3-none-any.whl (66 kB)\n",
      "\u001b[2K     \u001b[38;2;114;156;31m━━━━━━━━━━━━━━━━━━━━━━━━━━━━━━━━━━━━━━━━\u001b[0m \u001b[32m66.4/66.4 kB\u001b[0m \u001b[31m2.0 MB/s\u001b[0m eta \u001b[36m0:00:00\u001b[0m\n",
      "\u001b[?25hRequirement already satisfied: entrypoints in /home/marcelofm/lib/python3.10/site-packages (from jupyter-client>=4.1->qtconsole<5.5.0,>=5.4.0->spyder<6,>=5.3.1->spyder-unittest) (0.4)\n",
      "Requirement already satisfied: python-dateutil>=2.8.2 in /home/marcelofm/lib/python3.10/site-packages (from jupyter-client>=4.1->qtconsole<5.5.0,>=5.4.0->spyder<6,>=5.3.1->spyder-unittest) (2.8.2)\n",
      "Requirement already satisfied: fastjsonschema in /home/marcelofm/lib/python3.10/site-packages (from nbformat>=5.1->nbconvert>=4.0->spyder<6,>=5.3.1->spyder-unittest) (2.16.2)\n",
      "Requirement already satisfied: wcwidth in /home/marcelofm/lib/python3.10/site-packages (from prompt-toolkit<3.1.0,>3.0.1->ipython<9.0.0,>=7.31.1->spyder<6,>=5.3.1->spyder-unittest) (0.2.5)\n",
      "Collecting text-unidecode>=1.3\n",
      "  Downloading text_unidecode-1.3-py2.py3-none-any.whl (78 kB)\n",
      "\u001b[2K     \u001b[38;2;114;156;31m━━━━━━━━━━━━━━━━━━━━━━━━━━━━━━━━━━━━━━━━\u001b[0m \u001b[32m78.2/78.2 kB\u001b[0m \u001b[31m1.9 MB/s\u001b[0m eta \u001b[36m0:00:00\u001b[0m[31m16.0 MB/s\u001b[0m eta \u001b[36m0:00:01\u001b[0m\n",
      "\u001b[?25hRequirement already satisfied: idna<4,>=2.5 in /home/marcelofm/lib/python3.10/site-packages (from requests>=2.23.0->cookiecutter>=1.6.0->spyder<6,>=5.3.1->spyder-unittest) (3.4)\n",
      "Collecting charset-normalizer<4,>=2\n",
      "  Downloading charset_normalizer-3.1.0-cp310-cp310-manylinux_2_17_x86_64.manylinux2014_x86_64.whl (199 kB)\n",
      "\u001b[2K     \u001b[38;2;114;156;31m━━━━━━━━━━━━━━━━━━━━━━━━━━━━━━━━━━━━━━━\u001b[0m \u001b[32m199.3/199.3 kB\u001b[0m \u001b[31m2.7 MB/s\u001b[0m eta \u001b[36m0:00:00\u001b[0m[36m0:00:01\u001b[0m\n",
      "\u001b[?25hCollecting certifi>=2017.4.17\n",
      "  Downloading certifi-2022.12.7-py3-none-any.whl (155 kB)\n",
      "\u001b[2K     \u001b[38;2;114;156;31m━━━━━━━━━━━━━━━━━━━━━━━━━━━━━━━━━━━━━━━\u001b[0m \u001b[32m155.3/155.3 kB\u001b[0m \u001b[31m2.3 MB/s\u001b[0m eta \u001b[36m0:00:00\u001b[0mm eta \u001b[36m0:00:01\u001b[0m\n",
      "\u001b[?25hCollecting urllib3<1.27,>=1.21.1\n",
      "  Downloading urllib3-1.26.15-py2.py3-none-any.whl (140 kB)\n",
      "\u001b[2K     \u001b[38;2;114;156;31m━━━━━━━━━━━━━━━━━━━━━━━━━━━━━━━━━━━━━━━\u001b[0m \u001b[32m140.9/140.9 kB\u001b[0m \u001b[31m1.3 MB/s\u001b[0m eta \u001b[36m0:00:00\u001b[0m31m13.7 MB/s\u001b[0m eta \u001b[36m0:00:01\u001b[0m\n",
      "\u001b[?25hCollecting pytoolconfig[global]>=1.2.2\n",
      "  Downloading pytoolconfig-1.2.5-py3-none-any.whl (16 kB)\n"
     ]
    },
    {
     "name": "stdout",
     "output_type": "stream",
     "text": [
      "Collecting cryptography>=2.0\n",
      "  Downloading cryptography-40.0.1-cp36-abi3-manylinux_2_28_x86_64.whl (3.7 MB)\n",
      "\u001b[2K     \u001b[38;2;114;156;31m━━━━━━━━━━━━━━━━━━━━━━━━━━━━━━━━━━━━━━━━\u001b[0m \u001b[32m3.7/3.7 MB\u001b[0m \u001b[31m8.8 MB/s\u001b[0m eta \u001b[36m0:00:00\u001b[0m0m eta \u001b[36m0:00:01\u001b[0m[36m0:00:01\u001b[0m\n",
      "\u001b[?25hRequirement already satisfied: webencodings>=0.4 in /home/marcelofm/lib/python3.10/site-packages (from tinycss2->nbconvert>=4.0->spyder<6,>=5.3.1->spyder-unittest) (0.5.1)\n",
      "Requirement already satisfied: soupsieve>1.2 in /home/marcelofm/lib/python3.10/site-packages (from beautifulsoup4->nbconvert>=4.0->spyder<6,>=5.3.1->spyder-unittest) (2.3.2.post1)\n",
      "Requirement already satisfied: six>=1.9.0 in /home/marcelofm/lib/python3.10/site-packages (from bleach->nbconvert>=4.0->spyder<6,>=5.3.1->spyder-unittest) (1.16.0)\n",
      "Collecting more-itertools\n",
      "  Downloading more_itertools-9.1.0-py3-none-any.whl (54 kB)\n",
      "\u001b[2K     \u001b[38;2;114;156;31m━━━━━━━━━━━━━━━━━━━━━━━━━━━━━━━━━━━━━━━━\u001b[0m \u001b[32m54.2/54.2 kB\u001b[0m \u001b[31m1.6 MB/s\u001b[0m eta \u001b[36m0:00:00\u001b[0m\n",
      "\u001b[?25hRequirement already satisfied: pure-eval in /home/marcelofm/lib/python3.10/site-packages (from stack-data->ipython<9.0.0,>=7.31.1->spyder<6,>=5.3.1->spyder-unittest) (0.2.2)\n",
      "Requirement already satisfied: executing>=1.2.0 in /home/marcelofm/lib/python3.10/site-packages (from stack-data->ipython<9.0.0,>=7.31.1->spyder<6,>=5.3.1->spyder-unittest) (1.2.0)\n",
      "Requirement already satisfied: asttokens>=2.1.0 in /home/marcelofm/lib/python3.10/site-packages (from stack-data->ipython<9.0.0,>=7.31.1->spyder<6,>=5.3.1->spyder-unittest) (2.1.0)\n",
      "Requirement already satisfied: cffi>=1.12 in /home/marcelofm/lib/python3.10/site-packages (from cryptography>=2.0->SecretStorage>=3.2->keyring>=17.0.0->spyder<6,>=5.3.1->spyder-unittest) (1.15.1)\n",
      "Requirement already satisfied: pycparser in /home/marcelofm/lib/python3.10/site-packages (from cffi>=1.12->cryptography>=2.0->SecretStorage>=3.2->keyring>=17.0.0->spyder<6,>=5.3.1->spyder-unittest) (2.21)\n",
      "Building wheels for collected packages: atomicwrites, intervaltree\n",
      "  Building wheel for atomicwrites (setup.py) ... \u001b[?25ldone\n",
      "\u001b[?25h  Created wheel for atomicwrites: filename=atomicwrites-1.4.1-py2.py3-none-any.whl size=6957 sha256=97427de69c7147b697b7dfddf6b23ef326cd320bed81798ce228f40425546ae1\n",
      "  Stored in directory: /home/marcelofm/.cache/pip/wheels/34/07/0b/33b15f68736109f72ea0bb2499521d87312b932620737447a2\n",
      "  Building wheel for intervaltree (setup.py) ... \u001b[?25ldone\n",
      "\u001b[?25h  Created wheel for intervaltree: filename=intervaltree-3.1.0-py2.py3-none-any.whl size=26119 sha256=427a041f2ad7dfde09bddb956cf14df52676e8a0f67793d93ab42b0bf7bca2dc\n",
      "  Stored in directory: /home/marcelofm/.cache/pip/wheels/fa/80/8c/43488a924a046b733b64de3fac99252674c892a4c3801c0a61\n",
      "Successfully built atomicwrites intervaltree\n",
      "Installing collected packages: yapf, text-unidecode, sortedcontainers, snowballstemmer, pyxdg, PyQtWebEngine-Qt5, PyQt5-Qt5, zipp, wurlitzer, wrapt, whatthepatch, watchdog, urllib3, ujson, typing-extensions, tomlkit, tomli, toml, textdistance, sphinxcontrib-serializinghtml, sphinxcontrib-qthelp, sphinxcontrib-jsmath, sphinxcontrib-htmlhelp, sphinxcontrib-devhelp, sphinxcontrib-applehelp, rtree, pyyaml, python-slugify, PyQt5-sip, pylint-venv, pyflakes, pydocstyle, pycodestyle, pluggy, pathspec, packaging, mypy-extensions, more-itertools, mccabe, lxml, lazy-object-proxy, jellyfish, jeepney, isort, intervaltree, inflection, imagesize, docutils, docstring-to-markdown, dill, diff-match-patch, cloudpickle, click, charset-normalizer, chardet, certifi, babel, atomicwrites, alabaster, three-merge, requests, qstylizer, pytoolconfig, python-lsp-jsonrpc, pyqt5, jupyter-client, jaraco.classes, importlib-metadata, flake8, cryptography, black, binaryornot, autopep8, astroid, arrow, sphinx, SecretStorage, qtawesome, qdarkstyle, python-lsp-server, pyqtwebengine, pylint, jinja2-time, rope, python-lsp-black, pyls-spyder, numpydoc, keyring, cookiecutter, spyder-kernels, qtconsole, spyder, spyder-unittest\n",
      "  Attempting uninstall: packaging\n",
      "    Found existing installation: packaging 21.3\n",
      "    Uninstalling packaging-21.3:\n",
      "      Successfully uninstalled packaging-21.3\n",
      "  Attempting uninstall: jupyter-client\n",
      "    Found existing installation: jupyter_client 7.4.4\n",
      "    Uninstalling jupyter_client-7.4.4:\n",
      "      Successfully uninstalled jupyter_client-7.4.4\n",
      "  Attempting uninstall: qtconsole\n",
      "    Found existing installation: qtconsole 5.3.2\n",
      "    Uninstalling qtconsole-5.3.2:\n",
      "      Successfully uninstalled qtconsole-5.3.2\n",
      "Successfully installed PyQt5-Qt5-5.15.2 PyQt5-sip-12.11.1 PyQtWebEngine-Qt5-5.15.2 SecretStorage-3.3.3 alabaster-0.7.13 arrow-1.2.3 astroid-2.15.1 atomicwrites-1.4.1 autopep8-1.6.0 babel-2.12.1 binaryornot-0.4.4 black-23.3.0 certifi-2022.12.7 chardet-5.1.0 charset-normalizer-3.1.0 click-8.1.3 cloudpickle-2.2.1 cookiecutter-2.1.1 cryptography-40.0.1 diff-match-patch-20200713 dill-0.3.6 docstring-to-markdown-0.12 docutils-0.19 flake8-6.0.0 imagesize-1.4.1 importlib-metadata-6.1.0 inflection-0.5.1 intervaltree-3.1.0 isort-5.12.0 jaraco.classes-3.2.3 jeepney-0.8.0 jellyfish-0.11.1 jinja2-time-0.2.0 jupyter-client-7.4.9 keyring-23.13.1 lazy-object-proxy-1.9.0 lxml-4.9.2 mccabe-0.7.0 more-itertools-9.1.0 mypy-extensions-1.0.0 numpydoc-1.5.0 packaging-23.0 pathspec-0.11.1 pluggy-1.0.0 pycodestyle-2.10.0 pydocstyle-6.2.3 pyflakes-3.0.1 pylint-2.17.1 pylint-venv-3.0.1 pyls-spyder-0.4.0 pyqt5-5.15.9 pyqtwebengine-5.15.6 python-lsp-black-1.2.1 python-lsp-jsonrpc-1.0.0 python-lsp-server-1.7.1 python-slugify-8.0.1 pytoolconfig-1.2.5 pyxdg-0.28 pyyaml-6.0 qdarkstyle-3.0.3 qstylizer-0.2.2 qtawesome-1.2.3 qtconsole-5.4.1 requests-2.28.2 rope-1.7.0 rtree-1.0.1 snowballstemmer-2.2.0 sortedcontainers-2.4.0 sphinx-6.1.3 sphinxcontrib-applehelp-1.0.4 sphinxcontrib-devhelp-1.0.2 sphinxcontrib-htmlhelp-2.0.1 sphinxcontrib-jsmath-1.0.1 sphinxcontrib-qthelp-1.0.3 sphinxcontrib-serializinghtml-1.1.5 spyder-5.4.2 spyder-kernels-2.4.2 spyder-unittest-0.5.1 text-unidecode-1.3 textdistance-4.5.0 three-merge-0.1.1 toml-0.10.2 tomli-2.0.1 tomlkit-0.11.7 typing-extensions-4.5.0 ujson-5.7.0 urllib3-1.26.15 watchdog-3.0.0 whatthepatch-1.0.4 wrapt-1.15.0 wurlitzer-3.0.3 yapf-0.32.0 zipp-3.15.0\n",
      "Note: you may need to restart the kernel to use updated packages.\n"
     ]
    }
   ],
   "source": [
    "pip install spyder-unittest"
   ]
  },
  {
   "cell_type": "code",
   "execution_count": 17,
   "id": "aaa4b4c3",
   "metadata": {},
   "outputs": [
    {
     "name": "stdout",
     "output_type": "stream",
     "text": [
      "Package                       Version\n",
      "----------------------------- -----------\n",
      "alabaster                     0.7.13\n",
      "anyio                         3.6.2\n",
      "argon2-cffi                   21.3.0\n",
      "argon2-cffi-bindings          21.2.0\n",
      "arrow                         1.2.3\n",
      "asteval                       0.9.29\n",
      "astroid                       2.15.1\n",
      "asttokens                     2.1.0\n",
      "atomicwrites                  1.4.1\n",
      "attrs                         22.1.0\n",
      "autopep8                      1.6.0\n",
      "Babel                         2.12.1\n",
      "backcall                      0.2.0\n",
      "beautifulsoup4                4.11.1\n",
      "binaryornot                   0.4.4\n",
      "black                         23.3.0\n",
      "bleach                        5.0.1\n",
      "certifi                       2022.12.7\n",
      "cffi                          1.15.1\n",
      "chardet                       5.1.0\n",
      "charset-normalizer            3.1.0\n",
      "click                         8.1.3\n",
      "cloudpickle                   2.2.1\n",
      "contourpy                     1.0.6\n",
      "cookiecutter                  2.1.1\n",
      "cryptography                  40.0.1\n",
      "cycler                        0.11.0\n",
      "Cython                        0.29.33\n",
      "debugpy                       1.6.3\n",
      "decorator                     5.1.1\n",
      "defusedxml                    0.7.1\n",
      "diff-match-patch              20200713\n",
      "dill                          0.3.6\n",
      "distlib                       0.3.6\n",
      "docstring-to-markdown         0.12\n",
      "docutils                      0.19\n",
      "entrypoints                   0.4\n",
      "executing                     1.2.0\n",
      "fastjsonschema                2.16.2\n",
      "filelock                      3.8.2\n",
      "flake8                        6.0.0\n",
      "fonttools                     4.38.0\n",
      "future                        0.18.3\n",
      "idna                          3.4\n",
      "imagesize                     1.4.1\n",
      "importlib-metadata            6.1.0\n",
      "inflection                    0.5.1\n",
      "intervaltree                  3.1.0\n",
      "ipykernel                     6.17.0\n",
      "ipython                       8.6.0\n",
      "ipython-genutils              0.2.0\n",
      "ipywidgets                    8.0.3\n",
      "isort                         5.12.0\n",
      "jaraco.classes                3.2.3\n",
      "jedi                          0.18.1\n",
      "jeepney                       0.8.0\n",
      "jellyfish                     0.11.1\n",
      "Jinja2                        3.1.2\n",
      "jinja2-time                   0.2.0\n",
      "jsonschema                    4.16.0\n",
      "jupyter                       1.0.0\n",
      "jupyter_client                7.4.9\n",
      "jupyter-console               6.4.4\n",
      "jupyter_core                  4.11.2\n",
      "jupyter-server                1.21.0\n",
      "jupyterlab-pygments           0.2.2\n",
      "jupyterlab-widgets            3.0.3\n",
      "keyring                       23.13.1\n",
      "kiwisolver                    1.4.4\n",
      "lazy-object-proxy             1.9.0\n",
      "lmfit                         1.1.0\n",
      "lxml                          4.9.2\n",
      "MarkupSafe                    2.1.1\n",
      "matplotlib                    3.6.1\n",
      "matplotlib-inline             0.1.6\n",
      "mccabe                        0.7.0\n",
      "mistune                       2.0.4\n",
      "more-itertools                9.1.0\n",
      "mypy-extensions               1.0.0\n",
      "nbclassic                     0.4.7\n",
      "nbclient                      0.7.0\n",
      "nbconvert                     7.2.3\n",
      "nbformat                      5.7.0\n",
      "nest-asyncio                  1.5.6\n",
      "notebook                      6.5.2\n",
      "notebook_shim                 0.2.0\n",
      "numpy                         1.23.4\n",
      "numpydoc                      1.5.0\n",
      "odfpy                         1.4.1\n",
      "packaging                     23.0\n",
      "pandas                        1.5.1\n",
      "pandocfilters                 1.5.0\n",
      "parso                         0.8.3\n",
      "pathspec                      0.11.1\n",
      "pexpect                       4.8.0\n",
      "pickleshare                   0.7.5\n",
      "Pillow                        9.3.0\n",
      "pip                           23.0.1\n",
      "platformdirs                  2.6.0\n",
      "plotly                        5.11.0\n",
      "pluggy                        1.0.0\n",
      "prometheus-client             0.15.0\n",
      "prompt-toolkit                3.0.31\n",
      "psutil                        5.9.3\n",
      "ptyprocess                    0.7.0\n",
      "pure-eval                     0.2.2\n",
      "pycodestyle                   2.10.0\n",
      "pycparser                     2.21\n",
      "pydocstyle                    6.2.3\n",
      "pyflakes                      3.0.1\n",
      "Pygments                      2.13.0\n",
      "pylint                        2.17.1\n",
      "pylint-venv                   3.0.1\n",
      "pyls-spyder                   0.4.0\n",
      "pyparsing                     3.0.9\n",
      "PyQt5                         5.15.9\n",
      "PyQt5-Qt5                     5.15.2\n",
      "PyQt5-sip                     12.11.1\n",
      "PyQtWebEngine                 5.15.6\n",
      "PyQtWebEngine-Qt5             5.15.2\n",
      "pyrsistent                    0.19.1\n",
      "python-dateutil               2.8.2\n",
      "python-lsp-black              1.2.1\n",
      "python-lsp-jsonrpc            1.0.0\n",
      "python-lsp-server             1.7.1\n",
      "python-slugify                8.0.1\n",
      "pytoolconfig                  1.2.5\n",
      "pytz                          2022.6\n",
      "pyxdg                         0.28\n",
      "PyYAML                        6.0\n",
      "pyzmq                         24.0.1\n",
      "QDarkStyle                    3.0.3\n",
      "qstylizer                     0.2.2\n",
      "QtAwesome                     1.2.3\n",
      "qtconsole                     5.4.1\n",
      "QtPy                          2.2.1\n",
      "requests                      2.28.2\n",
      "rope                          1.7.0\n",
      "Rtree                         1.0.1\n",
      "scipy                         1.9.3\n",
      "SecretStorage                 3.3.3\n",
      "Send2Trash                    1.8.0\n",
      "setuptools                    60.2.0\n",
      "six                           1.16.0\n",
      "sniffio                       1.3.0\n",
      "snowballstemmer               2.2.0\n",
      "sortedcontainers              2.4.0\n",
      "soupsieve                     2.3.2.post1\n",
      "Sphinx                        6.1.3\n",
      "sphinxcontrib-applehelp       1.0.4\n",
      "sphinxcontrib-devhelp         1.0.2\n",
      "sphinxcontrib-htmlhelp        2.0.1\n",
      "sphinxcontrib-jsmath          1.0.1\n",
      "sphinxcontrib-qthelp          1.0.3\n",
      "sphinxcontrib-serializinghtml 1.1.5\n",
      "spyder                        5.4.2\n",
      "spyder-kernels                2.4.2\n",
      "spyder-unittest               0.5.1\n",
      "stack-data                    0.6.0\n",
      "tenacity                      8.1.0\n",
      "terminado                     0.17.0\n",
      "text-unidecode                1.3\n",
      "textdistance                  4.5.0\n",
      "three-merge                   0.1.1\n",
      "tinycss2                      1.2.1\n",
      "toml                          0.10.2\n",
      "tomli                         2.0.1\n",
      "tomlkit                       0.11.7\n",
      "tornado                       6.2\n",
      "traitlets                     5.5.0\n",
      "typing_extensions             4.5.0\n",
      "ujson                         5.7.0\n",
      "uncertainties                 3.1.7\n",
      "urllib3                       1.26.15\n",
      "virtualenv                    20.17.1\n",
      "watchdog                      3.0.0\n",
      "wcwidth                       0.2.5\n",
      "webencodings                  0.5.1\n",
      "websocket-client              1.4.1\n",
      "whatthepatch                  1.0.4\n",
      "wheel                         0.37.1\n",
      "widgetsnbextension            4.0.4\n",
      "wrapt                         1.15.0\n",
      "wurlitzer                     3.0.3\n",
      "yapf                          0.32.0\n",
      "zipp                          3.15.0\n",
      "Note: you may need to restart the kernel to use updated packages.\n"
     ]
    }
   ],
   "source": [
    "pip list"
   ]
  },
  {
   "cell_type": "code",
   "execution_count": 7,
   "id": "2f2af844",
   "metadata": {},
   "outputs": [],
   "source": [
    "import numpy as np\n",
    "from numpy.random import default_rng\n",
    "from numpy.polynomial import Polynomial as P\n",
    "from scipy import special\n",
    "import pandas as pd\n",
    "\n",
    "from ograyspy_class import select_spectrum_from_folder_list\n",
    "from spec_class import Spec"
   ]
  },
  {
   "cell_type": "code",
   "execution_count": 8,
   "id": "243352f1",
   "metadata": {},
   "outputs": [],
   "source": [
    "# https://lmfit.github.io/lmfit-py/builtin_models.html\n",
    "from lmfit import Model, minimize, Parameters, report_fit, fit_report, printfuncs\n",
    "from lmfit.models import LinearModel, StepModel, ExponentialModel, LorentzianModel\n",
    "from lmfit.models import GaussianModel, SkewedGaussianModel, ExpressionModel"
   ]
  },
  {
   "cell_type": "code",
   "execution_count": 9,
   "id": "f4ee10ef",
   "metadata": {},
   "outputs": [],
   "source": [
    "# a spectrum pattern to find and test:"
   ]
  },
  {
   "cell_type": "code",
   "execution_count": 10,
   "id": "2a26692d",
   "metadata": {},
   "outputs": [],
   "source": [
    "# 2022\n",
    "# Se quiser ignorar o espectro aleatório, definir aqui um específico. Se não, pular.\n",
    "# Vou ignorar o espectro já analisado e refazer a análise, para testes.\n",
    "# 2022-Mar-24 Resolver essa questão dos nomes de arquivos em Linux e Windows\n",
    "# a_spec_name = '..\\\\..\\\\Genie_Transfer\\\\Si\\\\2018\\\\PNR\\\\PRN0803.Chn'\n",
    "# a_spec_name = '../../Genie_Transfer/Si/2018/PNR/PRN0803.Chn'\n",
    "# a_spec_name = '../../Genie_Transfer/Si/2018/CTP/CTP0908-2.Chn'\n",
    "# Esse é um que dá problema na baseline perto do 159 keV do I-123:\n",
    "# a_spec_name = '../../Genie_Transfer/Si/2018/CCI/CCI1508I.Chn'\n",
    "# Precisa quebrar mais a baseline: Ok, consertado!!!\n",
    "# 2022: Já usando o GMX:\n",
    "# a_spec_name = '../../Genie_Transfer/Filtros/2022/Cci/CCI1603-I.Chn'\n",
    "\n"
   ]
  },
  {
   "cell_type": "code",
   "execution_count": 11,
   "id": "61f9279e",
   "metadata": {},
   "outputs": [],
   "source": [
    "\n",
    "# 2022-out-7: Excelente espectro para testes, tenho usado ultimamente:\n",
    "# a_pattern = 'Si/SI2018/SI11318.Chn'\n",
    "# 2022-nov-16: outros espectros:\n",
    "# a_pattern = \"Filtros/2022/Cci/CCI1603-I.Chn\"\n",
    "# a_pattern = \"Filtros/2022/Cci/CCI2302-I.Chn\"\n",
    "\n",
    "# a_pattern = \"Eso_non_existe.Chn\"\n",
    "\n",
    "# 2022-Dez-21 Buscando outro espectro\n",
    "# a_pattern = 'CCI1603-I'\n",
    "# 2022-Dez-28 Este é um espectro mais recente:\n",
    "# a_pattern = 'SI09722.Chn'\n",
    "# 2022-Dez-28 Este é um espectro mais recente que posso comparar com saída do Genie:\n",
    "a_pattern = 'SI06322.Chn'"
   ]
  },
  {
   "cell_type": "code",
   "execution_count": 12,
   "id": "41bd2b0c",
   "metadata": {},
   "outputs": [
    {
     "data": {
      "text/html": [
       "<div>\n",
       "<style scoped>\n",
       "    .dataframe tbody tr th:only-of-type {\n",
       "        vertical-align: middle;\n",
       "    }\n",
       "\n",
       "    .dataframe tbody tr th {\n",
       "        vertical-align: top;\n",
       "    }\n",
       "\n",
       "    .dataframe thead th {\n",
       "        text-align: right;\n",
       "    }\n",
       "</style>\n",
       "<table border=\"1\" class=\"dataframe\">\n",
       "  <thead>\n",
       "    <tr style=\"text-align: right;\">\n",
       "      <th></th>\n",
       "      <th>info_plat</th>\n",
       "      <th>info_mach</th>\n",
       "      <th>info_syst</th>\n",
       "      <th>info_node</th>\n",
       "      <th>home_path</th>\n",
       "      <th>spectra_path</th>\n",
       "      <th>n_files</th>\n",
       "      <th>a_spec_ind</th>\n",
       "      <th>a_spec_name</th>\n",
       "      <th>reduced_f_name</th>\n",
       "      <th>files_list</th>\n",
       "      <th>reduced_names_files_list</th>\n",
       "      <th>spectra_pattern_names</th>\n",
       "      <th>pkl_folder_files</th>\n",
       "    </tr>\n",
       "  </thead>\n",
       "  <tbody>\n",
       "    <tr>\n",
       "      <th>0</th>\n",
       "      <td>Linux-5.19.0-38-generic-x86_64-with-glibc2.36</td>\n",
       "      <td>x86_64</td>\n",
       "      <td>Linux</td>\n",
       "      <td>mmaduar-net13</td>\n",
       "      <td>/home/marcelofm</td>\n",
       "      <td>/home/marcelofm/Nextcloud/Genie_Transfer</td>\n",
       "      <td>6868</td>\n",
       "      <td>0</td>\n",
       "      <td></td>\n",
       "      <td></td>\n",
       "      <td>[/home/marcelofm/Nextcloud/Genie_Transfer/alme...</td>\n",
       "      <td>[almera22/IAEA-TERC-2022/pt2022_spectrum_exerc...</td>\n",
       "      <td>[**/*.[Cc][Hh][Nn], **/*.[Ii][Ee][Cc]]</td>\n",
       "      <td>Linuxmmaduar-net13.pkl</td>\n",
       "    </tr>\n",
       "  </tbody>\n",
       "</table>\n",
       "</div>"
      ],
      "text/plain": [
       "                                       info_plat info_mach info_syst  \\\n",
       "0  Linux-5.19.0-38-generic-x86_64-with-glibc2.36    x86_64     Linux   \n",
       "\n",
       "       info_node        home_path                              spectra_path  \\\n",
       "0  mmaduar-net13  /home/marcelofm  /home/marcelofm/Nextcloud/Genie_Transfer   \n",
       "\n",
       "   n_files  a_spec_ind a_spec_name reduced_f_name  \\\n",
       "0     6868           0                              \n",
       "\n",
       "                                          files_list  \\\n",
       "0  [/home/marcelofm/Nextcloud/Genie_Transfer/alme...   \n",
       "\n",
       "                            reduced_names_files_list  \\\n",
       "0  [almera22/IAEA-TERC-2022/pt2022_spectrum_exerc...   \n",
       "\n",
       "                    spectra_pattern_names        pkl_folder_files  \n",
       "0  [**/*.[Cc][Hh][Nn], **/*.[Ii][Ee][Cc]]  Linuxmmaduar-net13.pkl  "
      ]
     },
     "execution_count": 12,
     "metadata": {},
     "output_type": "execute_result"
    }
   ],
   "source": [
    "# Select a machine/system to read from:\n",
    "#spectra_list_df = pd.read_pickle('WindowsI56611.pkl')\n",
    "spectra_list_df = pd.read_pickle('Linuxmmaduar-net13.pkl')\n",
    "spectra_list_df"
   ]
  },
  {
   "cell_type": "code",
   "execution_count": null,
   "id": "5c078a8e",
   "metadata": {},
   "outputs": [],
   "source": []
  },
  {
   "cell_type": "code",
   "execution_count": 13,
   "id": "f024a879",
   "metadata": {},
   "outputs": [],
   "source": [
    "reduc_nms = spectra_list_df.reduced_names_files_list[0]\n",
    "fil_lst = spectra_list_df.files_list[0]\n",
    "spc_pth = spectra_list_df.spectra_path[0]"
   ]
  },
  {
   "cell_type": "code",
   "execution_count": 14,
   "id": "04e22b01",
   "metadata": {},
   "outputs": [
    {
     "name": "stdout",
     "output_type": "stream",
     "text": [
      "Existing:\n",
      "Achou! indice=33, nomearq = almera22/user2023/SI2022/SI06322.Chn\n",
      "==========================\n",
      "Final choices:\n",
      "spectra_path: /home/marcelofm/Nextcloud/Genie_Transfer\n",
      "a_spec_name: /home/marcelofm/Nextcloud/Genie_Transfer/almera22/user2023/SI2022/SI06322.Chn\n",
      "reduced_f_name: almera22/user2023/SI2022/SI06322.Chn\n"
     ]
    }
   ],
   "source": [
    "a_spec_name, reduced_f_name = select_spectrum_from_folder_list(reduc_nms, fil_lst, spc_pth, a_pattern)"
   ]
  },
  {
   "cell_type": "code",
   "execution_count": null,
   "id": "482e8a5a",
   "metadata": {},
   "outputs": [],
   "source": [
    "a_spec_name, reduced_f_name"
   ]
  },
  {
   "cell_type": "code",
   "execution_count": null,
   "id": "9ed8267c",
   "metadata": {},
   "outputs": [],
   "source": [
    "a_spec = Spec(a_spec_name, reduced_f_name)\n",
    "a_spec.total_analysis(gener_dataframe=True)"
   ]
  },
  {
   "cell_type": "code",
   "execution_count": null,
   "id": "fe7bf546",
   "metadata": {},
   "outputs": [],
   "source": [
    "vars(a_spec)"
   ]
  },
  {
   "cell_type": "code",
   "execution_count": null,
   "id": "6d225e54",
   "metadata": {},
   "outputs": [],
   "source": [
    "vars(a_spec.net_spec_ser_an.pk_parms)"
   ]
  },
  {
   "cell_type": "code",
   "execution_count": null,
   "id": "8f696c30",
   "metadata": {},
   "outputs": [],
   "source": [
    "# 2022-Jun-24 No momento esses são os que interessam:\n",
    "# pann = ogra.a_spec..saw_spec.spec_parms\n",
    "cntarr = a_spec.net_spec_ser_an.y_s\n",
    "pkprms = a_spec.net_spec_ser_an.pk_parms"
   ]
  },
  {
   "cell_type": "code",
   "execution_count": null,
   "id": "18d80f2a",
   "metadata": {},
   "outputs": [],
   "source": [
    "vars(a_spec.channel_energy_calib)"
   ]
  },
  {
   "cell_type": "code",
   "execution_count": null,
   "id": "e6a2b2c7",
   "metadata": {},
   "outputs": [],
   "source": [
    "a_spec.channel_energy_calib.p_en(453.5)"
   ]
  },
  {
   "cell_type": "code",
   "execution_count": null,
   "id": "cf6846ad",
   "metadata": {},
   "outputs": [],
   "source": [
    "a_spec.pkl_file"
   ]
  },
  {
   "cell_type": "code",
   "execution_count": null,
   "id": "649b14ce",
   "metadata": {},
   "outputs": [],
   "source": [
    "df_1 = pd.read_pickle(a_spec.pkl_file)\n",
    "df_1"
   ]
  },
  {
   "cell_type": "code",
   "execution_count": null,
   "id": "7e3ae600",
   "metadata": {},
   "outputs": [],
   "source": [
    "# 2023-Mar-20\n",
    "# Lendo biblioteca de nuclídeos\n",
    "pisciro_eng_df = pd.read_excel('../data/Pisciro-Eng_(2019).ods')\n",
    "pisciro_eng_df"
   ]
  },
  {
   "cell_type": "code",
   "execution_count": null,
   "id": "2995271d",
   "metadata": {},
   "outputs": [],
   "source": [
    "vars_pkprms = vars(pkprms)\n",
    "vars_pkprms"
   ]
  },
  {
   "cell_type": "code",
   "execution_count": null,
   "id": "256841bb",
   "metadata": {},
   "outputs": [],
   "source": [
    "keys_to_get = ['fwhm_centr', 'rough_sums', 'centroids', 'variances']"
   ]
  },
  {
   "cell_type": "code",
   "execution_count": null,
   "id": "ef5d481e",
   "metadata": {},
   "outputs": [],
   "source": [
    "prep_for_dict = [(key, vars_pkprms[key]) for key in keys_to_get]"
   ]
  },
  {
   "cell_type": "code",
   "execution_count": null,
   "id": "e85c870b",
   "metadata": {},
   "outputs": [],
   "source": [
    "pks_dict = dict(prep_for_dict)"
   ]
  },
  {
   "cell_type": "code",
   "execution_count": null,
   "id": "d8e8f9a5",
   "metadata": {},
   "outputs": [],
   "source": [
    "peaks_df = pd.DataFrame.from_dict(pks_dict)"
   ]
  },
  {
   "cell_type": "code",
   "execution_count": null,
   "id": "dc341172",
   "metadata": {},
   "outputs": [],
   "source": [
    "p_en = a_spec.channel_energy_calib.p_en\n",
    "p_en"
   ]
  },
  {
   "cell_type": "code",
   "execution_count": null,
   "id": "6d9f427a",
   "metadata": {},
   "outputs": [],
   "source": [
    "peaks_df['energy'] = p_en(peaks_df['centroids'])\n",
    "peaks_df"
   ]
  },
  {
   "cell_type": "code",
   "execution_count": null,
   "id": "55c413a9",
   "metadata": {},
   "outputs": [],
   "source": [
    "# 2023-Mar-21: Identify nuclide candidates in peaks_df from pisciro_eng_df, with energy tolerance en_toler"
   ]
  },
  {
   "cell_type": "code",
   "execution_count": null,
   "id": "44750c30",
   "metadata": {},
   "outputs": [],
   "source": [
    "big_merge = pd.merge(peaks_df, pisciro_eng_df, how='cross')\n",
    "big_merge"
   ]
  },
  {
   "cell_type": "code",
   "execution_count": null,
   "id": "886e4072",
   "metadata": {},
   "outputs": [],
   "source": [
    "en_toler = 2.0"
   ]
  },
  {
   "cell_type": "code",
   "execution_count": null,
   "id": "8f2a8a4c",
   "metadata": {},
   "outputs": [],
   "source": [
    "big_merge['delta_en'] = big_merge.energy - big_merge.Engy\n",
    "big_merge"
   ]
  },
  {
   "cell_type": "code",
   "execution_count": null,
   "id": "e2eb0fdc",
   "metadata": {},
   "outputs": [],
   "source": [
    "# https://pandas.pydata.org/pandas-docs/stable/user_guide/indexing.html#selection-by-callable\n",
    "# MaTched ENergies\n",
    "mt_en = pd.DataFrame(big_merge.loc[lambda df: abs(df['delta_en']) < en_toler, :]) \\\n",
    "[['Engy', 'Nucl', 'rough_sums', 'Yie']]\n",
    "mt_en\n",
    "# mt_en[['Engy', 'Nucl']]"
   ]
  },
  {
   "cell_type": "code",
   "execution_count": null,
   "id": "b7611c40",
   "metadata": {},
   "outputs": [],
   "source": [
    "# Now, we can insert the counting efficiency function:"
   ]
  },
  {
   "cell_type": "code",
   "execution_count": null,
   "id": "a82fa68d",
   "metadata": {},
   "outputs": [],
   "source": [
    "# Curva de eficiência para frasco F100 do GMX (2021):\n",
    "# Arquivo Effic_F100_GMX_2021.ods construído a partir de\n",
    "# Nextcloud\\Ipen\\Radiometria\\2021_Curvas-efic_Bessa\\F100 GMX_2021.pdf"
   ]
  },
  {
   "cell_type": "code",
   "execution_count": null,
   "id": "e53e87fa",
   "metadata": {},
   "outputs": [],
   "source": [
    "# 2023-Mar-21\n",
    "# Lendo curva de eficiência\n",
    "eff_F100_GMX_2021_df = pd.read_excel('../data/Effic_F100_GMX_2021.ods')\n",
    "effics_df = eff_F100_GMX_2021_df\n",
    "effics_df"
   ]
  },
  {
   "cell_type": "code",
   "execution_count": null,
   "id": "da6220ff",
   "metadata": {},
   "outputs": [],
   "source": [
    "p_eff_log = P.fit(np.log(effics_df.Engy),\n",
    "                  np.log(effics_df.Effic),\n",
    "                  full=True,\n",
    "                  w = 1/effics_df.sEffic, deg=5)\n",
    "def p_eff(en):\n",
    "    return np.exp(p_eff_log[0](np.log(en)))"
   ]
  },
  {
   "cell_type": "code",
   "execution_count": null,
   "id": "450a401f",
   "metadata": {},
   "outputs": [],
   "source": [
    "p_eff_log"
   ]
  },
  {
   "cell_type": "code",
   "execution_count": null,
   "id": "819d78f0",
   "metadata": {},
   "outputs": [],
   "source": [
    "p_eff(effics_df.Engy)"
   ]
  },
  {
   "cell_type": "code",
   "execution_count": null,
   "id": "fcdc3f6f",
   "metadata": {},
   "outputs": [],
   "source": [
    "log_unc_fitted_effic = P([4.70033902423E+01, -2.82179877310E+01, 5.72952770082E+00, -3.88458849293E-01])\n",
    "log_unc_fitted_effic"
   ]
  },
  {
   "cell_type": "code",
   "execution_count": null,
   "id": "be49a55c",
   "metadata": {},
   "outputs": [],
   "source": [
    "# Incerteza percentual da curva F100_GMX_2021 para os valores de eficiência\n",
    "# Os coeficientes foram tirados do InterWinner e a curva reconstruída aqui.\n",
    "unc_perc_fitted_effic = np.exp(log_unc_fitted_effic(np.log(effics_df.Engy)))\n",
    "unc_perc_fitted_effic"
   ]
  },
  {
   "cell_type": "code",
   "execution_count": null,
   "id": "5a13d474",
   "metadata": {},
   "outputs": [],
   "source": [
    "# Sample size (L, kg, g etc.)\n",
    "samp_size = 0.1"
   ]
  },
  {
   "cell_type": "code",
   "execution_count": null,
   "id": "525026c9",
   "metadata": {},
   "outputs": [],
   "source": [
    "mt_en['uncorr_activ'] = mt_en['rough_sums'] /\\\n",
    "                        (p_eff(mt_en['Engy']) * 1e-4 * mt_en['Yie'] *\n",
    "                         a_spec.lv_time * samp_size)"
   ]
  },
  {
   "cell_type": "code",
   "execution_count": null,
   "id": "ec5184cd",
   "metadata": {},
   "outputs": [],
   "source": [
    "mt_en"
   ]
  },
  {
   "cell_type": "code",
   "execution_count": null,
   "id": "8451a9c9",
   "metadata": {},
   "outputs": [],
   "source": [
    "# 2023-Mar-22 PAREI AQUI"
   ]
  },
  {
   "cell_type": "code",
   "execution_count": null,
   "id": "907315ba",
   "metadata": {},
   "outputs": [],
   "source": [
    "\n",
    "msedg serg set asrhg saertrg"
   ]
  },
  {
   "cell_type": "code",
   "execution_count": null,
   "id": "14e3e8c7",
   "metadata": {},
   "outputs": [],
   "source": []
  },
  {
   "cell_type": "code",
   "execution_count": null,
   "id": "4052065b",
   "metadata": {},
   "outputs": [],
   "source": [
    "rng = np.random.default_rng()\n",
    "# rints = rng.integers(low=0, high=10, size=3)\n",
    "\n",
    "# 2022-Jun-23: Reativar após consertar o arquivo pickle:\n",
    "# rints = rng.integers(pkl_df1.count()[0], size=3)\n",
    "# print(rints)\n",
    "# type(rints[0])\n",
    "# some_spec = rints[1]\n",
    "# pkl_df1.iloc[some_spec]\n",
    "# a_spec_name = pkl_df1.iloc[some_spec]['FName']\n",
    "# a_spec_name"
   ]
  },
  {
   "cell_type": "code",
   "execution_count": null,
   "id": "f27f94a6",
   "metadata": {},
   "outputs": [],
   "source": [
    "# 2022-Dez-28: Atualizar:\n",
    "# (2022-Jun-24 Lembrando como estão os defaults de total_analysis(...):\n",
    "# def total_analysis(self, k_sep_pk=2.0, smoo=3000.0, widths_range=(4.0, 20.0)):)\n",
    "# smoo=3000 fica razoável, mas faz umas ondas\n",
    "# smoo=1500 fica horrível, faz uns abismos. Quanto menor, pior\n",
    "# smoo=400 fica razoável, mas faz umas ondas\n",
    "# ogra.perform_total_analysis(\n",
    "#     k_sep_pk=2.0, smoo=4096, widths_range=(4.0, 20.0)\n",
    "# )"
   ]
  },
  {
   "cell_type": "code",
   "execution_count": null,
   "id": "6c9b5595",
   "metadata": {},
   "outputs": [],
   "source": []
  },
  {
   "cell_type": "code",
   "execution_count": null,
   "id": "897d2983",
   "metadata": {},
   "outputs": [],
   "source": []
  },
  {
   "cell_type": "code",
   "execution_count": null,
   "id": "6f82debe",
   "metadata": {},
   "outputs": [],
   "source": []
  },
  {
   "cell_type": "code",
   "execution_count": null,
   "id": "ce367e24",
   "metadata": {},
   "outputs": [],
   "source": [
    "# 2022-Dez-28\n",
    "# Testes com conversão de pandas df .to_html\n",
    "# Teste 1: html direto\n",
    "df_to_html = a_spec.spec_pks_df.to_html(columns=['peaks', 'centroids', 'rough_sums'])\n",
    "df_to_html"
   ]
  },
  {
   "cell_type": "code",
   "execution_count": null,
   "id": "7aa0a26b",
   "metadata": {},
   "outputs": [],
   "source": [
    "# 2022-Dez-28\n",
    "# Testes com conversão de pandas df .to_html\n",
    "# Teste 2: aplicando tags html:\n",
    "df_to_html = ogra.a_spec.spec_pks_df.to_html(\n",
    "    columns=['peaks', 'centroids', 'rough_sums'],\n",
    "    formatters={\n",
    "        'peaks': lambda x: '<b>' + str(x) + '</b>',\n",
    "        'rough_sums': lambda x: '<i>' + str(x) + '</i>'}\n",
    ")\n",
    "df_to_html\n",
    "import IPython\n",
    "IPython.display.HTML(df_to_html)"
   ]
  },
  {
   "cell_type": "code",
   "execution_count": null,
   "id": "03a37dbe",
   "metadata": {},
   "outputs": [],
   "source": [
    "# 2022-Dez-28\n",
    "# Testes com conversão de pandas df .to_html\n",
    "# Teste 3: aplicando float_formatters:\n",
    "df_to_html = ogra.a_spec.spec_pks_df.to_html(\n",
    "    columns=['peaks', 'centroids', 'rough_sums'],\n",
    "    float_format='{:.3f}'\n",
    ")\n",
    "df_to_html"
   ]
  },
  {
   "cell_type": "code",
   "execution_count": null,
   "id": "db9828d1",
   "metadata": {},
   "outputs": [],
   "source": [
    "# Teste 3: usando Styles:\n",
    "my_df = ogra.a_spec.spec_pks_df\n",
    "my_df.style.format(na_rep='MISSING', thousands=\" \",\n",
    "                   formatter={('fwhm_centr', 'centroids'): \"{:.2f}\"})"
   ]
  },
  {
   "cell_type": "code",
   "execution_count": null,
   "id": "ef4b57fa",
   "metadata": {},
   "outputs": [],
   "source": [
    "df = pd.DataFrame([[38.0, 2.0, 18.0, 22.0, 21, np.nan],[19, 439, 6, 452, 226,232]],\n",
    "                  index=pd.Index(['Tumour (Positive)', 'Non-Tumour (Negative)'], name='Actual Label:'),\n",
    "                  columns=pd.MultiIndex.from_product([['Decision Tree', 'Regression', 'Random'],['Tumour', 'Non-Tumour']], names=['Model:', 'Predicted:']))\n",
    "\n",
    "df.style.format(precision=0, na_rep='MISSING', thousands=\" \",\n",
    "                formatter={('Decision Tree', 'Tumour'): \"{:.2f}\",\n",
    "                           ('Regression', 'Non-Tumour'): lambda x: \"$ {:,.1f}\".format(x*-1e6)\n",
    "                           })"
   ]
  },
  {
   "cell_type": "code",
   "execution_count": null,
   "id": "6d71820f",
   "metadata": {},
   "outputs": [],
   "source": []
  },
  {
   "cell_type": "code",
   "execution_count": null,
   "id": "e14bd194",
   "metadata": {},
   "outputs": [],
   "source": []
  },
  {
   "cell_type": "code",
   "execution_count": null,
   "id": "d4396271",
   "metadata": {},
   "outputs": [],
   "source": [
    "# 2022-Jun-14\n",
    "# Verificando o que se tem até agora em a_raw_spec:\n",
    "# (Pode pular e ir direto aos gráficos)"
   ]
  },
  {
   "cell_type": "code",
   "execution_count": null,
   "id": "7a989972",
   "metadata": {},
   "outputs": [],
   "source": [
    "\n",
    "# Testes:\n",
    "# https://numpy.org/doc/stable/reference/random/generator.html#distributions\n",
    "# x = np.linspace(0, 10, N) + rng.normal(loc=7, scale=0.05, size=N)\n",
    "# y = np.linspace(22, 23, N)\n",
    "\n",
    "# Busca do canal onde a altura do espectro se \"estabiliza\"\n",
    "# https://numpy.org/doc/stable/reference/routines.sort.html#searching\n",
    "\n"
   ]
  },
  {
   "cell_type": "code",
   "execution_count": null,
   "id": "7762cf61",
   "metadata": {},
   "outputs": [],
   "source": [
    "vars(pkprms)"
   ]
  },
  {
   "cell_type": "code",
   "execution_count": null,
   "id": "9ec5149d",
   "metadata": {},
   "outputs": [],
   "source": [
    "# 2022-Dez-21 Achar o pico de maior área inicial do espectro:"
   ]
  },
  {
   "cell_type": "code",
   "execution_count": null,
   "id": "f2281a3d",
   "metadata": {},
   "outputs": [],
   "source": [
    "largest_pk = np.argmax(pkprms.rough_sums)\n",
    "pkprms.centroids[largest_pk]"
   ]
  },
  {
   "cell_type": "code",
   "execution_count": null,
   "id": "3b05fef8",
   "metadata": {},
   "outputs": [],
   "source": [
    "# Só pra lembrar como faz divisão inteira\n",
    "21 // 7"
   ]
  },
  {
   "cell_type": "code",
   "execution_count": null,
   "id": "b825b145",
   "metadata": {},
   "outputs": [],
   "source": [
    "wi_re = pkprms.wide_regions[largest_pk]\n",
    "x = np.linspace(wi_re[0], wi_re[1], num=wi_re[1]-wi_re[0]+1)\n",
    "y = cntarr[wi_re[0]:wi_re[1]+1]\n",
    "c1 =  pkprms.centroids[largest_pk]\n",
    "s1 = pkprms.propts['widths'][largest_pk]*pkprms.k_fwhm_to_sd\n",
    "a1 = pkprms.rough_sums[largest_pk]\n",
    "# c2 = 313\n",
    "# s2 = 1.5\n",
    "# a2 = 400\n",
    "sste = 2.0"
   ]
  },
  {
   "cell_type": "code",
   "execution_count": null,
   "id": "334e5e54",
   "metadata": {},
   "outputs": [],
   "source": []
  },
  {
   "cell_type": "code",
   "execution_count": null,
   "id": "48a68cb1",
   "metadata": {},
   "outputs": [],
   "source": [
    "# 2023-Jan-3\n",
    "# Aqui finalizo este teste:\n",
    "# Dado um espectro, escolhi o pico mais proeminente do espectro\n",
    "# e fiz o ajuste gaussianco com lmfit\n",
    "# No caso, o pico tem área, centroide, SD e FWHM:\n",
    "# g1_amplitude:  5264.84728 +/- 85.1465566 (1.62%) (init = 5347.497)\n",
    "# g1_center:     1926.29564 +/- 0.02690572 (0.00%) (init = 1926.275)\n",
    "# g1_sigma:      1.44040103 +/- 0.02690060 (1.87%) (init = 1.418733)\n",
    "# g1_fwhm:       3.39188516 +/- 0.06334608 (1.87%) == '2.3548200*g1_sigma'\n",
    "# g1_height:     1458.18438 +/- 23.5824677 (1.62%) == '0.3989423*g1_amplitude/max(1e-15, g1_sigma)'\n",
    "\n",
    "# Comparando com saíuda do Genie:\n",
    "# canal (>0)    En:    FWHM (keV)    net area    net area unc   continuum\n",
    "# 1927.34      1173.47 2.04          5.40E+003   89.73          8.83E+002\n",
    "#"
   ]
  },
  {
   "cell_type": "code",
   "execution_count": null,
   "id": "c3fd0934",
   "metadata": {},
   "outputs": [],
   "source": [
    "out"
   ]
  },
  {
   "cell_type": "code",
   "execution_count": null,
   "id": "cbbd80b3",
   "metadata": {},
   "outputs": [],
   "source": [
    "out.params"
   ]
  },
  {
   "cell_type": "code",
   "execution_count": null,
   "id": "e89b15da",
   "metadata": {},
   "outputs": [],
   "source": [
    "out.var_names"
   ]
  },
  {
   "cell_type": "code",
   "execution_count": null,
   "id": "5699594c",
   "metadata": {},
   "outputs": [],
   "source": [
    "out.params.items()"
   ]
  },
  {
   "cell_type": "code",
   "execution_count": null,
   "id": "f5f835bb",
   "metadata": {},
   "outputs": [],
   "source": [
    "out.params.pretty_print()"
   ]
  },
  {
   "cell_type": "code",
   "execution_count": null,
   "id": "723996f8",
   "metadata": {},
   "outputs": [],
   "source": [
    "print('-------------------------------')\n",
    "print('Parameter    Value       Stderr')\n",
    "for name, param in out.params.items():\n",
    "    # print(f'{name:7s} {param.value:11.5f} {param.stderr:11.5f}')\n",
    "    print(name)\n",
    "    print(param)\n",
    "    print(param.value)"
   ]
  },
  {
   "cell_type": "code",
   "execution_count": null,
   "id": "2c31812e",
   "metadata": {},
   "outputs": [],
   "source": []
  },
  {
   "cell_type": "code",
   "execution_count": null,
   "id": "a718f8f6",
   "metadata": {},
   "outputs": [],
   "source": [
    "def gauss_lmfit_singlet(pkprms, ipk):\n",
    "    wi_re = pkprms.wide_regions[ipk]\n",
    "    print(f'pico: {wi_re}')\n",
    "    x = np.linspace(wi_re[0], wi_re[1], num=wi_re[1]-wi_re[0]+1)\n",
    "    y = cntarr[wi_re[0]:wi_re[1]+1]\n",
    "    c1 = pkprms.centroids[ipk]\n",
    "    s1 = pkprms.propts['widths'][ipk]*pkprms.k_fwhm_to_sd\n",
    "    a1 = pkprms.rough_sums[ipk]\n",
    "\n",
    "    parames = Parameters()\n",
    "\n",
    "    gauss1 = GaussianModel(prefix='g1_')\n",
    "    parames.update(gauss1.make_params())\n",
    "    parames['g1_center'].set(value=c1, min=c1-2, max=c1+2)\n",
    "    parames['g1_sigma'].set(value=s1, min=0.5, max=10)\n",
    "    parames['g1_amplitude'].set(value=a1, min=10)\n",
    "\n",
    "    mod = gauss1\n",
    "\n",
    "    init = mod.eval(parames, x=x)\n",
    "    out = mod.fit(y, parames, x=x, verbose=False)\n",
    "    print('Fez.')\n",
    "\n",
    "    # ret = [param for param in out.params.items()]\n",
    "    ret = out\n",
    "    return ret"
   ]
  },
  {
   "cell_type": "code",
   "execution_count": null,
   "id": "84e2d85f",
   "metadata": {},
   "outputs": [],
   "source": [
    "for ipk in range(len(pkprms.peaks)):\n",
    "    ret = gauss_lmfit_singlet(pkprms, ipk)\n",
    "    print(ret)"
   ]
  },
  {
   "cell_type": "code",
   "execution_count": null,
   "id": "5cf511dc",
   "metadata": {},
   "outputs": [],
   "source": [
    "ret"
   ]
  },
  {
   "cell_type": "code",
   "execution_count": null,
   "id": "b3755fa3",
   "metadata": {},
   "outputs": [],
   "source": [
    "ret.params"
   ]
  },
  {
   "cell_type": "code",
   "execution_count": null,
   "id": "beb21bcb",
   "metadata": {},
   "outputs": [],
   "source": [
    "for name, param in ret.params.items():\n",
    "    print(name, param.value, param.stderr)"
   ]
  },
  {
   "cell_type": "code",
   "execution_count": null,
   "id": "0aba2ce3",
   "metadata": {},
   "outputs": [],
   "source": [
    "for ipk in range(len(pkprms.peaks)):\n",
    "    ret = gauss_lmfit_singlet(pkprms, ipk)\n",
    "    # ret.params.pretty_print()"
   ]
  },
  {
   "cell_type": "code",
   "execution_count": null,
   "id": "e23229b1",
   "metadata": {},
   "outputs": [],
   "source": [
    "ret"
   ]
  },
  {
   "cell_type": "code",
   "execution_count": null,
   "id": "bf8c2e77",
   "metadata": {},
   "outputs": [],
   "source": [
    "xfgn sr hsrthf srth"
   ]
  },
  {
   "cell_type": "code",
   "execution_count": null,
   "id": "6992a805",
   "metadata": {},
   "outputs": [],
   "source": []
  },
  {
   "cell_type": "code",
   "execution_count": null,
   "id": "52922cea",
   "metadata": {},
   "outputs": [],
   "source": []
  },
  {
   "cell_type": "code",
   "execution_count": null,
   "id": "7e005512",
   "metadata": {},
   "outputs": [],
   "source": []
  },
  {
   "cell_type": "code",
   "execution_count": null,
   "id": "dc68eaf1",
   "metadata": {},
   "outputs": [],
   "source": []
  },
  {
   "cell_type": "code",
   "execution_count": null,
   "id": "32c7f841",
   "metadata": {},
   "outputs": [],
   "source": [
    "my_df.dtypes"
   ]
  },
  {
   "cell_type": "code",
   "execution_count": null,
   "id": "30f3c2c6",
   "metadata": {},
   "outputs": [],
   "source": [
    "ch_en = ogra.a_spec.channel_energy_calib.p_en"
   ]
  },
  {
   "cell_type": "code",
   "execution_count": null,
   "id": "02639c2c",
   "metadata": {},
   "outputs": [],
   "source": [
    "my_df['centrs_en'] = ch_en(my_df['centroids'])\n",
    "my_df"
   ]
  },
  {
   "cell_type": "code",
   "execution_count": null,
   "id": "4c3d002d",
   "metadata": {},
   "outputs": [],
   "source": [
    "\n",
    "# 2022-Dez-21:\n",
    "# PAREI AQUI;\n",
    "# Usar os resultados de áreas dos picos e montar as curvas de eficiência\n",
    "\n",
    "# 2022-Mar-16\n",
    "# Fazendo ajuste polinomial nas eficiências:"
   ]
  },
  {
   "cell_type": "code",
   "execution_count": null,
   "id": "d879b9ca",
   "metadata": {},
   "outputs": [],
   "source": [
    "from numpy.polynomial import Polynomial as P # 2020-09-06 Esta é a nova classe recomendada "
   ]
  },
  {
   "cell_type": "code",
   "execution_count": null,
   "id": "bdee2c0c",
   "metadata": {},
   "outputs": [],
   "source": [
    "En_CV_LoBg = np.array([81.00,\n",
    "86.54,\n",
    "121.78,\n",
    "133.51,\n",
    "302.85,\n",
    "344.28,\n",
    "356.02,\n",
    "604.69,\n",
    "661.66,\n",
    "795.84,\n",
    "964.13,\n",
    "1085.91,\n",
    "1112.12,\n",
    "1173.24,\n",
    "1332.50,\n",
    "1408.01\n",
    "])\n",
    "# En_CV_GMX"
   ]
  },
  {
   "cell_type": "code",
   "execution_count": null,
   "id": "0cbb6709",
   "metadata": {},
   "outputs": [],
   "source": [
    "Eff_CV_LoBg = np.array([4.4358,\n",
    "4.4723,\n",
    "5.4386,\n",
    "5.5045,\n",
    "3.1379,\n",
    "2.8722,\n",
    "2.7305,\n",
    "1.7817,\n",
    "1.6453,\n",
    "1.4026,\n",
    "1.1216,\n",
    "1.0200,\n",
    "0.9703,\n",
    "0.8962,\n",
    "0.8009,\n",
    "0.7397 ])\n",
    "Eff_CV_GMX"
   ]
  },
  {
   "cell_type": "code",
   "execution_count": null,
   "id": "652df02a",
   "metadata": {},
   "outputs": [],
   "source": [
    "unc_perc = np.array([2.01,\n",
    "1.43,\n",
    "1.33,\n",
    "2.11,\n",
    "1.81,\n",
    "1.42,\n",
    "1.41,\n",
    "2.24,\n",
    "1.44,\n",
    "3.68,\n",
    "1.66,\n",
    "1.71,\n",
    "1.58,\n",
    "0.87,\n",
    "0.87,\n",
    "1.51 ])\n",
    "unc_perc"
   ]
  },
  {
   "cell_type": "code",
   "execution_count": null,
   "id": "a8253e45",
   "metadata": {},
   "outputs": [],
   "source": [
    "ln_En_CV_LoBg = np.log (En_CV_LoBg)\n",
    "ln_Eff_CV_LoBg = np.log (Eff_CV_LoBg)"
   ]
  },
  {
   "cell_type": "code",
   "execution_count": null,
   "id": "f5bd63fa",
   "metadata": {},
   "outputs": [],
   "source": [
    "N = 16"
   ]
  },
  {
   "cell_type": "code",
   "execution_count": null,
   "id": "707e4eb6",
   "metadata": {},
   "outputs": [],
   "source": []
  },
  {
   "cell_type": "code",
   "execution_count": null,
   "id": "a36f47cd",
   "metadata": {},
   "outputs": [],
   "source": [
    "# 2022-Mar-23\n",
    "# Parêntese para fazer nova calibração canal-energia do HPGe do projeto:"
   ]
  },
  {
   "cell_type": "code",
   "execution_count": null,
   "id": "470492e0",
   "metadata": {},
   "outputs": [],
   "source": [
    "canal = np.array([210, 920, 1181, 7232])\n",
    "ener = np.array([46.5, 186, 238.6, 1460.8])"
   ]
  },
  {
   "cell_type": "code",
   "execution_count": null,
   "id": "cca85ecd",
   "metadata": {},
   "outputs": [],
   "source": [
    "projeto = P.fit(x=canal, y=ener, deg=1).convert()\n",
    "projeto"
   ]
  },
  {
   "cell_type": "code",
   "execution_count": null,
   "id": "24427279",
   "metadata": {},
   "outputs": [],
   "source": [
    "projeto_ener_canal = P.fit(x=ener, y=canal, deg=1).convert()\n",
    "projeto_ener_canal"
   ]
  },
  {
   "cell_type": "code",
   "execution_count": null,
   "id": "3132dd1f",
   "metadata": {},
   "outputs": [],
   "source": [
    "projeto_ener_canal(1173.2)"
   ]
  },
  {
   "cell_type": "code",
   "execution_count": null,
   "id": "849d9f72",
   "metadata": {},
   "outputs": [],
   "source": [
    "projeto_ener_canal(1332.486)"
   ]
  },
  {
   "cell_type": "code",
   "execution_count": null,
   "id": "f4f03034",
   "metadata": {},
   "outputs": [],
   "source": []
  },
  {
   "cell_type": "code",
   "execution_count": null,
   "id": "62f5ce19",
   "metadata": {},
   "outputs": [],
   "source": []
  },
  {
   "cell_type": "code",
   "execution_count": null,
   "id": "a994b4fb",
   "metadata": {},
   "outputs": [],
   "source": []
  },
  {
   "cell_type": "code",
   "execution_count": null,
   "id": "046b413c",
   "metadata": {},
   "outputs": [],
   "source": [
    "P.fit(x=ln_En_CV_LoBg, y=ln_Eff_CV_LoBg, deg=5).convert()"
   ]
  },
  {
   "cell_type": "code",
   "execution_count": null,
   "id": "d9ee3a03",
   "metadata": {},
   "outputs": [],
   "source": [
    "poly_w = P.fit(x=ln_En_CV_LoBg, y=ln_Eff_CV_LoBg, deg=5, w=1/unc_perc).convert()\n",
    "poly_w"
   ]
  },
  {
   "cell_type": "code",
   "execution_count": null,
   "id": "7ee72c1c",
   "metadata": {},
   "outputs": [],
   "source": [
    "poly_w = P.fit(x=ln_En_CV_LoBg, y=ln_Eff_CV_LoBg, deg=5, w=1/unc_perc**2).convert()\n",
    "poly_w"
   ]
  },
  {
   "cell_type": "code",
   "execution_count": null,
   "id": "d8bc573c",
   "metadata": {},
   "outputs": [],
   "source": [
    "print(poly_w)"
   ]
  },
  {
   "cell_type": "code",
   "execution_count": null,
   "id": "3d39a6fb",
   "metadata": {},
   "outputs": [],
   "source": [
    "poly_o = P.fit(x=ln_En_CV_LoBg, y=Eff_CV_LoBg, deg=5)\n",
    "print(poly_o)"
   ]
  },
  {
   "cell_type": "code",
   "execution_count": null,
   "id": "0939d1b6",
   "metadata": {},
   "outputs": [],
   "source": [
    "weights = np.linspace(1, 2, N)\n",
    "Xw = X * np.sqrt(weights)[:, None]\n",
    "yw = y * np.sqrt(weights)\n",
    "print (linalg.lstsq(Xw, yw)[0])"
   ]
  },
  {
   "cell_type": "code",
   "execution_count": null,
   "id": "be309f94",
   "metadata": {},
   "outputs": [],
   "source": [
    "weights = 1.0 / unc_perc**2.0\n",
    "weights"
   ]
  },
  {
   "cell_type": "code",
   "execution_count": null,
   "id": "f9771928",
   "metadata": {},
   "outputs": [],
   "source": [
    "Xw = ln_En_CV_LoBg * np.sqrt(weights)[:, None]\n",
    "yw = ln_Eff_CV_LoBg * np.sqrt(weights)\n",
    "print (linalg.lstsq(Xw, yw)[0])"
   ]
  },
  {
   "cell_type": "code",
   "execution_count": null,
   "id": "ddf1ab34",
   "metadata": {},
   "outputs": [],
   "source": [
    "print (linalg.lstsq(Xw, yw))"
   ]
  },
  {
   "cell_type": "code",
   "execution_count": null,
   "id": "d514150d",
   "metadata": {},
   "outputs": [],
   "source": [
    "X = ln_En_CV_LoBg\n",
    "y = ln_Eff_CV_LoBg\n",
    "w1 = linalg.lstsq(X, y)\n",
    "print (w1)"
   ]
  },
  {
   "cell_type": "code",
   "execution_count": null,
   "id": "7ebb8822",
   "metadata": {},
   "outputs": [],
   "source": [
    "np.log(2)"
   ]
  },
  {
   "cell_type": "code",
   "execution_count": null,
   "id": "db2a0cbc",
   "metadata": {},
   "outputs": [],
   "source": []
  },
  {
   "cell_type": "code",
   "execution_count": null,
   "id": "a6692867",
   "metadata": {},
   "outputs": [],
   "source": [
    "# 2022-Dez-28\n",
    "# Cópia do programa principal com interface, ograyspy_main_ui.py,\n",
    "# para testes com Pandas"
   ]
  },
  {
   "cell_type": "code",
   "execution_count": null,
   "id": "b6c26693",
   "metadata": {},
   "outputs": [],
   "source": [
    "import sys\n",
    "from PyQt5.QtCore import *\n",
    "from PyQt5.QtGui import *\n",
    "from PyQt5.QtWebEngineWidgets import QWebEngineView\n",
    "from PyQt5.QtWidgets import *\n",
    "from css_test import css_test, apply_css\n",
    "\n",
    "from ograyspy_class import Ograyspy\n",
    "# from html_window_class import SimpleHtmlViewer\n",
    "\n",
    "class MainWindow(QMainWindow):\n",
    "    count = 0\n",
    "\n",
    "    def __init__(self, parent=None):\n",
    "        super(MainWindow, self).__init__(parent)\n",
    "        self.mdi = QMdiArea()\n",
    "\n",
    "        self.mdi.setHorizontalScrollBarPolicy(Qt.ScrollBarAsNeeded)\n",
    "        self.mdi.setVerticalScrollBarPolicy(Qt.ScrollBarAsNeeded)\n",
    "        self.setCentralWidget(self.mdi)\n",
    "\n",
    "        # self.mdi.subWindowActivated.connect(self.updateMenus)\n",
    "        self.windowMapper = QSignalMapper(self)\n",
    "        # self.windowMapper.mapped[QWidget].connect(self.setActiveSubWindow)\n",
    "\n",
    "        self.setCentralWidget(self.mdi)\n",
    "        bar = self.menuBar()\n",
    "\n",
    "        file = bar.addMenu(\"File\")\n",
    "        file.addAction(\"New\")\n",
    "        file.addAction(\"Open\")\n",
    "        file.addAction(\"Pandas-generate an_html_file.html\")\n",
    "        file.addAction(\"Show spectrum graphic\")\n",
    "        file.addAction(\"Show Pandas dataframe\")\n",
    "        file.addAction(\"cascade\")\n",
    "        file.addAction(\"Tiled\")\n",
    "        file.addAction(\"Exit\")\n",
    "        file.triggered[QAction].connect(self.windowaction)\n",
    "        self.setWindowTitle(\"MDI demo\")\n",
    "\n",
    "    def windowaction(self, q):\n",
    "        print(\"triggered\")\n",
    "\n",
    "        if q.text() == \"New\":\n",
    "            MainWindow.count = MainWindow.count + 1\n",
    "            sub = QMdiSubWindow()\n",
    "            sub.setWidget(QTextEdit())\n",
    "            sub.setWindowTitle(\"subwindow\" + str(MainWindow.count))\n",
    "            self.mdi.addSubWindow(sub)\n",
    "            sub.show()\n",
    "\n",
    "        if q.text() == \"Open\":\n",
    "            fileName, _ = QFileDialog.getOpenFileName(self)\n",
    "            if fileName:\n",
    "                # This is a hack...\n",
    "                # existing = self.findMdiChild(fileName)\n",
    "                existing = True\n",
    "                if existing:\n",
    "                    MainWindow.count = MainWindow.count + 1\n",
    "                    sub = QMdiSubWindow()\n",
    "                    sub.setWidget(QTextEdit())\n",
    "                    # sub.setWindowTitle(\"subwindow\" + str(MainWindow.count))\n",
    "                    sub.setWindowTitle(fileName)\n",
    "                    self.mdi.addSubWindow(sub)\n",
    "                    sub.show()\n",
    "\n",
    "        if q.text() == \"Pandas-generate an_html_file.html\":\n",
    "            fileName, _ = QFileDialog.getOpenFileName(self)\n",
    "            if fileName:\n",
    "                # This is a hack...\n",
    "                # existing = self.findMdiChild(fileName)\n",
    "                existing = True\n",
    "                if existing:\n",
    "                    ogra = Ograyspy(batch_mode=False)\n",
    "                    # to_be_found = 'Genie_Transfer'\n",
    "                    # print('\\nogra.define_files_folder(to_be_found)')\n",
    "                    # ogra.define_files_folder(to_be_found)\n",
    "                    ogra.a_spec_name = fileName\n",
    "                    # AQUI: ativar gener_dataframe qdo estiver pronto.\n",
    "                    ogra.perform_total_analysis(peak_sd_fact=3.0, gener_dataframe=True)\n",
    "                    ogra.a_spec.spec_pks_df.to_html(buf='an_html_file.html')\n",
    "                    # print(ogra.a_spec.spec_pks_df)\n",
    "\n",
    "                    MainWindow.count = MainWindow.count + 1\n",
    "                    sub = QMdiSubWindow()\n",
    "                    web = QWebEngineView()\n",
    "                    # web.load(QUrl(\"file:///C:/Users/mmaduar/PycharmProjects/OGRaySpY/src/my_file.html\"))\n",
    "                    apply_css(ogra.a_spec.spec_pks_df)\n",
    "                    web.load(QUrl(\"file:///C:/Users/mmaduar/PycharmProjects/OGRaySpY/src/an_html_file.html\"))\n",
    "                    # 2022-Dez-27 PAREI AQUI:\n",
    "                    # - passar a saída de to_html como string?\n",
    "                    # - O html pode ser renderizado com sucesso, inclusive com css\n",
    "                    # - porém, parece que o SEI não aceita css. Paciência.\n",
    "\n",
    "                    # web.load(ogra.dataframe_html_string)\n",
    "                    # css_test()\n",
    "                    sub.setWidget(web)\n",
    "                    sub.setWindowTitle(\"subwindow\" + str(MainWindow.count))\n",
    "                    self.mdi.addSubWindow(sub)\n",
    "                    sub.show()\n",
    "\n",
    "        if q.text() == \"Show spectrum graphic\":\n",
    "            MainWindow.count = MainWindow.count + 1\n",
    "            sub = QMdiSubWindow()\n",
    "            web = QWebEngineView()\n",
    "            web.load(QUrl(\"file:///C:/Users/mmaduar/PycharmProjects/OGRaySpY/src/gross_counts_graph.html\"))\n",
    "            sub.setWidget(web)\n",
    "            sub.setWindowTitle(\"subwindow\" + str(MainWindow.count))\n",
    "            self.mdi.addSubWindow(sub)\n",
    "            sub.show()\n",
    "\n",
    "        if q.text() == \"Show Pandas dataframe\":\n",
    "            MainWindow.count = MainWindow.count + 1\n",
    "            sub = QMdiSubWindow()\n",
    "            web = QWebEngineView()\n",
    "            web.load(QUrl(\"file:///C:/Users/mmaduar/PycharmProjects/OGRaySpY/src/my_file.html\"))\n",
    "            # 2022-Dez-23 PAREI AQUI - passar a saída de to_html como string\n",
    "            # web.load(ogra.dataframe_html_string)\n",
    "            css_test()\n",
    "            sub.setWidget(web)\n",
    "            sub.setWindowTitle(\"subwindow\" + str(MainWindow.count))\n",
    "            self.mdi.addSubWindow(sub)\n",
    "            sub.show()\n",
    "\n",
    "        if q.text() == \"cascade\":\n",
    "            self.mdi.cascadeSubWindows()\n",
    "\n",
    "        if q.text() == \"Tiled\":\n",
    "            self.mdi.tileSubWindows()\n",
    "\n",
    "        if q.text() == \"Exit\":\n",
    "            QApplication.instance().exit()\n",
    "\n",
    "    def findMdiChild(self, fileName):\n",
    "        canonicalFilePath = QFileInfo(fileName).canonicalFilePath()\n",
    "\n",
    "        for window in self.mdiArea.subWindowList():\n",
    "            if window.widget().currentFile() == canonicalFilePath:\n",
    "                return window\n",
    "        return None\n",
    "\n",
    "\n",
    "def main():\n",
    "    app = QApplication(sys.argv)\n",
    "    ex = MainWindow()\n",
    "    ex.show()\n",
    "    sys.exit(app.exec_())\n",
    "\n",
    "\n",
    "if __name__ == '__main__':\n",
    "    main()\n"
   ]
  },
  {
   "cell_type": "code",
   "execution_count": null,
   "id": "5c41dfdc",
   "metadata": {},
   "outputs": [],
   "source": [
    "dir()"
   ]
  },
  {
   "cell_type": "code",
   "execution_count": null,
   "id": "70443e5d",
   "metadata": {},
   "outputs": [],
   "source": []
  }
 ],
 "metadata": {
  "kernelspec": {
   "display_name": "Python 3 (ipykernel)",
   "language": "python",
   "name": "python3"
  },
  "language_info": {
   "codemirror_mode": {
    "name": "ipython",
    "version": 3
   },
   "file_extension": ".py",
   "mimetype": "text/x-python",
   "name": "python",
   "nbconvert_exporter": "python",
   "pygments_lexer": "ipython3",
   "version": "3.10.7"
  }
 },
 "nbformat": 4,
 "nbformat_minor": 5
}
