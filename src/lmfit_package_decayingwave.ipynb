{
 "cells": [
  {
   "cell_type": "code",
   "execution_count": 1,
   "id": "cde8a978-5d68-4a19-a5b7-f733579b9468",
   "metadata": {},
   "outputs": [],
   "source": [
    "import numpy as np\n",
    "import matplotlib.pyplot as plt\n",
    "from lmfit import Model, Minimizer, minimize, Parameters, report_fit, fit_report, printfuncs\n"
   ]
  },
  {
   "cell_type": "code",
   "execution_count": 2,
   "id": "2cb4c5ab-e9fd-4e4c-9a44-a9355fc7b1c2",
   "metadata": {},
   "outputs": [
    {
     "name": "stdout",
     "output_type": "stream",
     "text": [
      "[[Fit Statistics]]\n",
      "    # fitting method   = leastsq\n",
      "    # function evals   = 64\n",
      "    # data points      = 301\n",
      "    # variables        = 4\n",
      "    chi-square         = 11.9983210\n",
      "    reduced chi-square = 0.04039839\n",
      "    Akaike info crit   = -961.925405\n",
      "    Bayesian info crit = -947.096964\n",
      "[[Variables]]\n",
      "    amp:    5.01031283 +/- 0.04000482 (0.80%) (init = 10)\n",
      "    decay:  0.02565158 +/- 4.6803e-04 (1.82%) (init = 0.1)\n",
      "    shift: -0.09381801 +/- 0.01026478 (10.94%) (init = 0)\n",
      "    omega:  2.00062858 +/- 0.00331902 (0.17%) (init = 3)\n",
      "[[Correlations]] (unreported correlations are < 0.100)\n",
      "    C(shift, omega) = -0.785\n",
      "    C(amp, decay)   =  0.584\n",
      "    C(amp, shift)   = -0.120\n"
     ]
    },
    {
     "data": {
      "image/png": "[encoded data removed]",
      "text/plain": [
       "<Figure size 432x288 with 1 Axes>"
      ]
     },
     "metadata": {
      "needs_background": "light"
     },
     "output_type": "display_data"
    }
   ],
   "source": [
    "# 2021-07-08\n",
    "# https://lmfit.github.io/lmfit-py/parameters.html\n",
    "\n",
    "# create data to be fitted\n",
    "x = np.linspace(0, 15, 301)\n",
    "data = (5.0 * np.sin(2.0*x - 0.1) * np.exp(-x*x*0.025) +\n",
    "        np.random.normal(size=x.size, scale=0.2))\n",
    "\n",
    "\n",
    "# define objective function: returns the array to be minimized\n",
    "def fcn2min(params, x, data):\n",
    "    \"\"\"Model a decaying sine wave and subtract data.\"\"\"\n",
    "    amp = params['amp']\n",
    "    shift = params['shift']\n",
    "    omega = params['omega']\n",
    "    decay = params['decay']\n",
    "    model = amp * np.sin(x*omega + shift) * np.exp(-x*x*decay)\n",
    "    return model - data\n",
    "\n",
    "\n",
    "# create a set of Parameters\n",
    "params = Parameters()\n",
    "params.add('amp', value=10, min=0)\n",
    "params.add('decay', value=0.1)\n",
    "params.add('shift', value=0.0, min=-np.pi/2., max=np.pi/2.)\n",
    "params.add('omega', value=3.0)\n",
    "\n",
    "# do fit, here with the default leastsq algorithm\n",
    "minner = Minimizer(fcn2min, params, fcn_args=(x, data))\n",
    "result = minner.minimize()\n",
    "\n",
    "# calculate final result\n",
    "final = data + result.residual\n",
    "\n",
    "# write error report\n",
    "report_fit(result)\n",
    "\n",
    "# try to plot results\n",
    "try:\n",
    "    import matplotlib.pyplot as plt\n",
    "    plt.plot(x, data, 'k+')\n",
    "    plt.plot(x, final, 'r')\n",
    "    plt.show()\n",
    "except ImportError:\n",
    "    pass\n",
    "# <end of examples/doc_parameters_basic.py>"
   ]
  },
  {
   "cell_type": "code",
   "execution_count": 3,
   "id": "5757b194-b1bc-409a-b3d5-6b46aeb827a2",
   "metadata": {},
   "outputs": [
    {
     "data": {
      "text/html": [
       "<h2>Fit Statistics</h2><table><tr><td>fitting method</td><td>leastsq</td><td></td></tr><tr><td># function evals</td><td>64</td><td></td></tr><tr><td># data points</td><td>301</td><td></td></tr><tr><td># variables</td><td>4</td><td></td></tr><tr><td>chi-square</td><td> 11.9983210</td><td></td></tr><tr><td>reduced chi-square</td><td> 0.04039839</td><td></td></tr><tr><td>Akaike info crit.</td><td>-961.925405</td><td></td></tr><tr><td>Bayesian info crit.</td><td>-947.096964</td><td></td></tr></table><h2>Variables</h2><table><tr><th> name </th><th> value </th><th> standard error </th><th> relative error </th><th> initial value </th><th> min </th><th> max </th><th> vary </th></tr><tr><td> amp </td><td>  5.01031283 </td><td>  0.04000482 </td><td> (0.80%) </td><td> 10 </td><td>  0.00000000 </td><td>         inf </td><td> True </td></tr><tr><td> decay </td><td>  0.02565158 </td><td>  4.6803e-04 </td><td> (1.82%) </td><td> 0.1 </td><td>        -inf </td><td>         inf </td><td> True </td></tr><tr><td> shift </td><td> -0.09381801 </td><td>  0.01026478 </td><td> (10.94%) </td><td> 0.0 </td><td> -1.57079633 </td><td>  1.57079633 </td><td> True </td></tr><tr><td> omega </td><td>  2.00062858 </td><td>  0.00331902 </td><td> (0.17%) </td><td> 3.0 </td><td>        -inf </td><td>         inf </td><td> True </td></tr></table><h2>Correlations (unreported correlations are < 0.100)</h2><table><tr><td>shift</td><td>omega</td><td>-0.7854</td></tr><tr><td>amp</td><td>decay</td><td>0.5838</td></tr><tr><td>amp</td><td>shift</td><td>-0.1203</td></tr></table>"
      ],
      "text/plain": [
       "<lmfit.minimizer.MinimizerResult at 0x7fe53b91b460>"
      ]
     },
     "execution_count": 3,
     "metadata": {},
     "output_type": "execute_result"
    }
   ],
   "source": [
    "result"
   ]
  },
  {
   "cell_type": "code",
   "execution_count": 4,
   "id": "8571e5f6-d324-4af3-ac7a-ddd759912b99",
   "metadata": {},
   "outputs": [
    {
     "data": {
      "text/plain": [
       "['__class__',\n",
       " '__delattr__',\n",
       " '__dict__',\n",
       " '__dir__',\n",
       " '__doc__',\n",
       " '__eq__',\n",
       " '__format__',\n",
       " '__ge__',\n",
       " '__getattribute__',\n",
       " '__gt__',\n",
       " '__hash__',\n",
       " '__init__',\n",
       " '__init_subclass__',\n",
       " '__le__',\n",
       " '__lt__',\n",
       " '__module__',\n",
       " '__ne__',\n",
       " '__new__',\n",
       " '__reduce__',\n",
       " '__reduce_ex__',\n",
       " '__repr__',\n",
       " '__setattr__',\n",
       " '__sizeof__',\n",
       " '__str__',\n",
       " '__subclasshook__',\n",
       " '__weakref__',\n",
       " '_calculate_statistics',\n",
       " '_repr_html_',\n",
       " 'aborted',\n",
       " 'aic',\n",
       " 'bic',\n",
       " 'call_kws',\n",
       " 'chisqr',\n",
       " 'covar',\n",
       " 'errorbars',\n",
       " 'flatchain',\n",
       " 'ier',\n",
       " 'init_vals',\n",
       " 'init_values',\n",
       " 'last_internal_values',\n",
       " 'lmdif_message',\n",
       " 'message',\n",
       " 'method',\n",
       " 'ndata',\n",
       " 'nfev',\n",
       " 'nfree',\n",
       " 'nvarys',\n",
       " 'params',\n",
       " 'redchi',\n",
       " 'residual',\n",
       " 'show_candidates',\n",
       " 'success',\n",
       " 'var_names']"
      ]
     },
     "execution_count": 4,
     "metadata": {},
     "output_type": "execute_result"
    }
   ],
   "source": [
    "dir(result)"
   ]
  },
  {
   "cell_type": "code",
   "execution_count": 5,
   "id": "28479353-7716-411a-ad48-efb5f5cce2df",
   "metadata": {},
   "outputs": [
    {
     "data": {
      "text/html": [
       "<h2>Fit Statistics</h2><table><tr><td>fitting method</td><td>leastsq</td><td></td></tr><tr><td># function evals</td><td>64</td><td></td></tr><tr><td># data points</td><td>301</td><td></td></tr><tr><td># variables</td><td>4</td><td></td></tr><tr><td>chi-square</td><td> 11.9983210</td><td></td></tr><tr><td>reduced chi-square</td><td> 0.04039839</td><td></td></tr><tr><td>Akaike info crit.</td><td>-961.925405</td><td></td></tr><tr><td>Bayesian info crit.</td><td>-947.096964</td><td></td></tr></table><h2>Variables</h2><table><tr><th> name </th><th> value </th><th> standard error </th><th> relative error </th><th> initial value </th><th> min </th><th> max </th><th> vary </th></tr><tr><td> amp </td><td>  5.01031283 </td><td>  0.04000482 </td><td> (0.80%) </td><td> 10 </td><td>  0.00000000 </td><td>         inf </td><td> True </td></tr><tr><td> decay </td><td>  0.02565158 </td><td>  4.6803e-04 </td><td> (1.82%) </td><td> 0.1 </td><td>        -inf </td><td>         inf </td><td> True </td></tr><tr><td> shift </td><td> -0.09381801 </td><td>  0.01026478 </td><td> (10.94%) </td><td> 0.0 </td><td> -1.57079633 </td><td>  1.57079633 </td><td> True </td></tr><tr><td> omega </td><td>  2.00062858 </td><td>  0.00331902 </td><td> (0.17%) </td><td> 3.0 </td><td>        -inf </td><td>         inf </td><td> True </td></tr></table><h2>Correlations (unreported correlations are < 0.100)</h2><table><tr><td>shift</td><td>omega</td><td>-0.7854</td></tr><tr><td>amp</td><td>decay</td><td>0.5838</td></tr><tr><td>amp</td><td>shift</td><td>-0.1203</td></tr></table>"
      ],
      "text/plain": [
       "<lmfit.minimizer.MinimizerResult at 0x7fe53b91b460>"
      ]
     },
     "execution_count": 5,
     "metadata": {},
     "output_type": "execute_result"
    }
   ],
   "source": [
    "result"
   ]
  },
  {
   "cell_type": "code",
   "execution_count": 6,
   "id": "6c591683-2ade-4bd9-a5ca-701da1ea8eb3",
   "metadata": {},
   "outputs": [
    {
     "name": "stdout",
     "output_type": "stream",
     "text": [
      "[[Fit Statistics]]\n",
      "    # fitting method   = leastsq\n",
      "    # function evals   = 83\n",
      "    # data points      = 1001\n",
      "    # variables        = 4\n",
      "    chi-square         = 498.811759\n",
      "    reduced chi-square = 0.50031270\n",
      "    Akaike info crit   = -689.222517\n",
      "    Bayesian info crit = -669.587497\n",
      "[[Variables]]\n",
      "    amp:     13.9121945 +/- 0.14120288 (1.01%) (init = 13)\n",
      "    period:  5.48507045 +/- 0.02666492 (0.49%) (init = 2)\n",
      "    shift:   0.16203677 +/- 0.01405661 (8.67%) (init = 0)\n",
      "    decay:   0.03264538 +/- 3.8014e-04 (1.16%) (init = 0.02)\n",
      "[[Correlations]] (unreported correlations are < 0.100)\n",
      "    C(period, shift) =  0.797\n",
      "    C(amp, decay)    =  0.582\n",
      "    C(amp, shift)    = -0.297\n",
      "    C(amp, period)   = -0.243\n",
      "    C(shift, decay)  = -0.182\n",
      "    C(period, decay) = -0.150\n"
     ]
    }
   ],
   "source": [
    "# https://lmfit.github.io/lmfit-py/fitting.html\n",
    "# <examples/doc_fitting_withreport.py>\n",
    "\n",
    "p_true = Parameters()\n",
    "p_true.add('amp', value=14.0)\n",
    "p_true.add('period', value=5.46)\n",
    "p_true.add('shift', value=0.123)\n",
    "p_true.add('decay', value=0.032)\n",
    "\n",
    "\n",
    "def residual(pars, x, data=None):\n",
    "    \"\"\"Model a decaying sine wave and subtract data.\"\"\"\n",
    "    vals = pars.valuesdict()\n",
    "    amp = vals['amp']\n",
    "    per = vals['period']\n",
    "    shift = vals['shift']\n",
    "    decay = vals['decay']\n",
    "\n",
    "    if abs(shift) > np.pi/2:\n",
    "        shift = shift - np.sign(shift)*np.pi\n",
    "    model = amp * np.sin(shift + x/per) * np.exp(-x*x*decay*decay)\n",
    "    if data is None:\n",
    "        return model\n",
    "    return model - data\n",
    "\n",
    "\n",
    "np.random.seed(0)\n",
    "x = np.linspace(0.0, 250., 1001)\n",
    "noise = np.random.normal(scale=0.7215, size=x.size)\n",
    "data = residual(p_true, x) + noise\n",
    "\n",
    "fit_params = Parameters()\n",
    "fit_params.add('amp', value=13.0)\n",
    "fit_params.add('period', value=2)\n",
    "fit_params.add('shift', value=0.0)\n",
    "fit_params.add('decay', value=0.02)\n",
    "\n",
    "out = minimize(residual, fit_params, args=(x,), kws={'data': data})\n",
    "\n",
    "print(fit_report(out))\n",
    "# <end examples/doc_fitting_withreport.py>"
   ]
  },
  {
   "cell_type": "code",
   "execution_count": 7,
   "id": "911e33f2-6be7-4d8f-a283-2c96931c35a1",
   "metadata": {},
   "outputs": [],
   "source": [
    "# To be clear, you can get at all of these values from the fit result out and out.params.\n",
    "# For example, a crude printout of the best fit variables and standard errors could be done as"
   ]
  },
  {
   "cell_type": "code",
   "execution_count": 8,
   "id": "e0ba96c3-39ea-415b-b297-7471cb55a4c0",
   "metadata": {},
   "outputs": [
    {
     "name": "stdout",
     "output_type": "stream",
     "text": [
      "-------------------------------\n",
      "Parameter    Value       Stderr\n",
      "amp        13.91219     0.14120\n",
      "period      5.48507     0.02666\n",
      "shift       0.16204     0.01406\n",
      "decay       0.03265     0.00038\n"
     ]
    }
   ],
   "source": [
    "print('-------------------------------')\n",
    "print('Parameter    Value       Stderr')\n",
    "for name, param in out.params.items():\n",
    "    print('{:7s} {:11.5f} {:11.5f}'.format(name, param.value, param.stderr))"
   ]
  },
  {
   "cell_type": "code",
   "execution_count": null,
   "id": "2651936a-dfb2-4e71-a0eb-da8ba7d3c2f4",
   "metadata": {},
   "outputs": [],
   "source": []
  }
 ],
 "metadata": {
  "kernelspec": {
   "display_name": "Python 3",
   "language": "python",
   "name": "python3"
  },
  "language_info": {
   "codemirror_mode": {
    "name": "ipython",
    "version": 3
   },
   "file_extension": ".py",
   "mimetype": "text/x-python",
   "name": "python",
   "nbconvert_exporter": "python",
   "pygments_lexer": "ipython3",
   "version": "3.8.10"
  }
 },
 "nbformat": 4,
 "nbformat_minor": 5
}
