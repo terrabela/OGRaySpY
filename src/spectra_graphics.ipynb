{
 "cells": [
  {
   "cell_type": "code",
   "execution_count": 20,
   "metadata": {
    "collapsed": true
   },
   "outputs": [],
   "source": [
    "import numpy as np\n",
    "import pandas as pd\n",
    "from random import randrange\n",
    "import matplotlib.pyplot as plt\n",
    "import plotly.graph_objects as go"
   ]
  },
  {
   "cell_type": "code",
   "execution_count": 21,
   "outputs": [],
   "source": [
    "\n",
    "# 2022-out-7: Excelente espectro para testes, tenho usado ultimamente:\n",
    "# a_pattern = 'Si/SI2018/SI11318.Chn'\n",
    "# 2022-nov-16: outros espectros:\n",
    "# a_pattern = \"Filtros/2022/Cci/CCI1603-I.Chn\"\n",
    "# a_pattern = \"Filtros/2022/Cci/CCI2302-I.Chn\"\n",
    "\n",
    "# a_pattern = \"Eso_non_existe.Chn\"\n",
    "\n",
    "# 2022-Dez-21 Buscando outro espectro\n",
    "# a_pattern = 'CCI1603-I'\n",
    "# 2022-Dez-28 Este é um espectro mais recente:\n",
    "# a_pattern = 'SI09722.Chn'\n",
    "# 2022-Dez-28 Este é um espectro mais recente que posso comparar com saída do Genie:\n",
    "a_pattern = 'SI06322.Chn'"
   ],
   "metadata": {
    "collapsed": false
   }
  },
  {
   "cell_type": "code",
   "execution_count": 22,
   "outputs": [
    {
     "data": {
      "text/plain": "                   info_plat info_mach info_syst info_node         home_path  \\\n0  Windows-10-10.0.19044-SP0     AMD64   Windows    I56611  C:\\Users\\mmaduar   \n\n                                spectra_path  n_files  a_spec_ind a_spec_name  \\\n0  C:\\Users\\mmaduar\\Nextcloud\\Genie_Transfer     6868           0               \n\n  reduced_f_name gross_counts_graphics pks_regions_gros  \\\n0                                 None             None   \n\n                                          files_list  \\\n0  [C:\\Users\\mmaduar\\Nextcloud\\Genie_Transfer\\alm...   \n\n                            reduced_names_files_list  \\\n0  [almera22/det_c/iaeaqcb.chn, almera22/det_c/ia...   \n\n                    spectra_pattern_names   pkl_folder_files  \n0  [**/*.[Cc][Hh][Nn], **/*.[Ii][Ee][Cc]]  WindowsI56611.pkl  ",
      "text/html": "<div>\n<style scoped>\n    .dataframe tbody tr th:only-of-type {\n        vertical-align: middle;\n    }\n\n    .dataframe tbody tr th {\n        vertical-align: top;\n    }\n\n    .dataframe thead th {\n        text-align: right;\n    }\n</style>\n<table border=\"1\" class=\"dataframe\">\n  <thead>\n    <tr style=\"text-align: right;\">\n      <th></th>\n      <th>info_plat</th>\n      <th>info_mach</th>\n      <th>info_syst</th>\n      <th>info_node</th>\n      <th>home_path</th>\n      <th>spectra_path</th>\n      <th>n_files</th>\n      <th>a_spec_ind</th>\n      <th>a_spec_name</th>\n      <th>reduced_f_name</th>\n      <th>gross_counts_graphics</th>\n      <th>pks_regions_gros</th>\n      <th>files_list</th>\n      <th>reduced_names_files_list</th>\n      <th>spectra_pattern_names</th>\n      <th>pkl_folder_files</th>\n    </tr>\n  </thead>\n  <tbody>\n    <tr>\n      <th>0</th>\n      <td>Windows-10-10.0.19044-SP0</td>\n      <td>AMD64</td>\n      <td>Windows</td>\n      <td>I56611</td>\n      <td>C:\\Users\\mmaduar</td>\n      <td>C:\\Users\\mmaduar\\Nextcloud\\Genie_Transfer</td>\n      <td>6868</td>\n      <td>0</td>\n      <td></td>\n      <td></td>\n      <td>None</td>\n      <td>None</td>\n      <td>[C:\\Users\\mmaduar\\Nextcloud\\Genie_Transfer\\alm...</td>\n      <td>[almera22/det_c/iaeaqcb.chn, almera22/det_c/ia...</td>\n      <td>[**/*.[Cc][Hh][Nn], **/*.[Ii][Ee][Cc]]</td>\n      <td>WindowsI56611.pkl</td>\n    </tr>\n  </tbody>\n</table>\n</div>"
     },
     "execution_count": 22,
     "metadata": {},
     "output_type": "execute_result"
    }
   ],
   "source": [
    "spectra_list_df = pd.read_pickle('WindowsI56611.pkl')\n",
    "spectra_list_df"
   ],
   "metadata": {
    "collapsed": false
   }
  },
  {
   "cell_type": "code",
   "execution_count": 23,
   "outputs": [],
   "source": [
    "reduc_nms = spectra_list_df.reduced_names_files_list[0]\n",
    "fil_lst = spectra_list_df.files_list[0]\n",
    "spc_pth = spectra_list_df.spectra_path[0]"
   ],
   "metadata": {
    "collapsed": false
   }
  },
  {
   "cell_type": "code",
   "execution_count": 26,
   "outputs": [
    {
     "ename": "SyntaxError",
     "evalue": "invalid syntax (2582338204.py, line 2)",
     "output_type": "error",
     "traceback": [
      "\u001B[1;36m  Cell \u001B[1;32mIn[26], line 2\u001B[1;36m\u001B[0m\n\u001B[1;33m    zlçedkrjgl kerasg se\u001B[0m\n\u001B[1;37m               ^\u001B[0m\n\u001B[1;31mSyntaxError\u001B[0m\u001B[1;31m:\u001B[0m invalid syntax\n"
     ]
    }
   ],
   "source": [
    "# 2022-Mar-23 PAREI AQUI. REFATORAR O QUE SEGUE\n",
    "zlçedkrjgl kerasg se"
   ],
   "metadata": {
    "collapsed": false
   }
  },
  {
   "cell_type": "code",
   "execution_count": 25,
   "outputs": [
    {
     "name": "stdout",
     "output_type": "stream",
     "text": [
      "Existing:\n",
      "Achou! indice=62, nomearq = almera22/user2023/SI2022/SI06322.Chn\n",
      "==========================\n",
      "Final choices:\n",
      "spectra_path: C:\\Users\\mmaduar\\Nextcloud\\Genie_Transfer\n",
      "a_spec_name: C:\\Users\\mmaduar\\Nextcloud\\Genie_Transfer\\almera22\\user2023\\SI2022\\SI06322.Chn\n",
      "reduced_f_name: almera22/user2023/SI2022/SI06322.Chn\n"
     ]
    },
    {
     "data": {
      "text/plain": "WindowsPath('C:/Users/mmaduar/Nextcloud/Genie_Transfer/almera22/user2023/SI2022/SI06322.Chn')"
     },
     "execution_count": 25,
     "metadata": {},
     "output_type": "execute_result"
    }
   ],
   "source": [
    "select_spectrum_from_folder_list(reduc_nms, fil_lst, spc_pth, a_pattern)"
   ],
   "metadata": {
    "collapsed": false
   }
  },
  {
   "cell_type": "code",
   "execution_count": 18,
   "outputs": [
    {
     "name": "stdout",
     "output_type": "stream",
     "text": [
      "Existing:\n",
      "Achou! indice=62, nomearq = almera22/user2023/SI2022/SI06322.Chn\n",
      "==========================\n",
      "Final choices:\n",
      "spectra_path: C:\\Users\\mmaduar\\Nextcloud\\Genie_Transfer\n",
      "a_spec_name: C:\\Users\\mmaduar\\Nextcloud\\Genie_Transfer\\almera22\\user2023\\SI2022\\SI06322.Chn\n",
      "reduced_f_name: almera22/user2023/SI2022/SI06322.Chn\n"
     ]
    },
    {
     "data": {
      "text/plain": "WindowsPath('C:/Users/mmaduar/Nextcloud/Genie_Transfer/almera22/user2023/SI2022/SI06322.pkl')"
     },
     "execution_count": 18,
     "metadata": {},
     "output_type": "execute_result"
    }
   ],
   "source": [
    "spec_pkl_fname = select_spectrum_from_folder_list(reduc_nms, fil_lst, spc_pth, a_pattern).with_suffix('.pkl')\n",
    "spec_pkl_fname"
   ],
   "metadata": {
    "collapsed": false
   }
  },
  {
   "cell_type": "code",
   "execution_count": 19,
   "outputs": [
    {
     "data": {
      "text/plain": "                                     net_spec_ser_an  \\\n0  <generic_series_analysis_class.GenericSeriesAn...   \n\n                             final_composed_baseline  \\\n0  <generic_series_analysis_class.GenericSeriesAn...   \n\n                                              f_name  \\\n0  C:\\Users\\mmaduar\\Nextcloud\\Genie_Transfer\\alme...   \n\n                         reduced_f_name  sufx spec_io  lv_time   rl_time  \\\n0  almera22/user2023/SI2022/SI06322.Chn  .chn    None  50000.0  50028.58   \n\n  source_datetime                                           pkl_file  \\\n0            None  C:\\Users\\mmaduar\\Nextcloud\\Genie_Transfer\\alme...   \n\n                                   gross_spec_ser_an  \\\n0  <generic_series_analysis_class.GenericSeriesAn...   \n\n                                  origin_spec_ser_an      start_datetime  \\\n0  <generic_series_analysis_class.GenericSeriesAn... 2022-08-04 19:42:23   \n\n                  det_descr  \\\n0  MAQUINA_01 MCB 1 Input 1   \n\n                                           sam_descr  \\\n0  SI-063/22 - Agua da Piscina do Reator IEA-R1 (...   \n\n                                channel_energy_calib  \\\n0  <genericcalib_class.ChannelEnergyCalib object ...   \n\n                             spec_pks_df  \n0  Empty DataFrame\nColumns: []\nIndex: []  ",
      "text/html": "<div>\n<style scoped>\n    .dataframe tbody tr th:only-of-type {\n        vertical-align: middle;\n    }\n\n    .dataframe tbody tr th {\n        vertical-align: top;\n    }\n\n    .dataframe thead th {\n        text-align: right;\n    }\n</style>\n<table border=\"1\" class=\"dataframe\">\n  <thead>\n    <tr style=\"text-align: right;\">\n      <th></th>\n      <th>net_spec_ser_an</th>\n      <th>final_composed_baseline</th>\n      <th>f_name</th>\n      <th>reduced_f_name</th>\n      <th>sufx</th>\n      <th>spec_io</th>\n      <th>lv_time</th>\n      <th>rl_time</th>\n      <th>source_datetime</th>\n      <th>pkl_file</th>\n      <th>gross_spec_ser_an</th>\n      <th>origin_spec_ser_an</th>\n      <th>start_datetime</th>\n      <th>det_descr</th>\n      <th>sam_descr</th>\n      <th>channel_energy_calib</th>\n      <th>spec_pks_df</th>\n    </tr>\n  </thead>\n  <tbody>\n    <tr>\n      <th>0</th>\n      <td>&lt;generic_series_analysis_class.GenericSeriesAn...</td>\n      <td>&lt;generic_series_analysis_class.GenericSeriesAn...</td>\n      <td>C:\\Users\\mmaduar\\Nextcloud\\Genie_Transfer\\alme...</td>\n      <td>almera22/user2023/SI2022/SI06322.Chn</td>\n      <td>.chn</td>\n      <td>None</td>\n      <td>50000.0</td>\n      <td>50028.58</td>\n      <td>None</td>\n      <td>C:\\Users\\mmaduar\\Nextcloud\\Genie_Transfer\\alme...</td>\n      <td>&lt;generic_series_analysis_class.GenericSeriesAn...</td>\n      <td>&lt;generic_series_analysis_class.GenericSeriesAn...</td>\n      <td>2022-08-04 19:42:23</td>\n      <td>MAQUINA_01 MCB 1 Input 1</td>\n      <td>SI-063/22 - Agua da Piscina do Reator IEA-R1 (...</td>\n      <td>&lt;genericcalib_class.ChannelEnergyCalib object ...</td>\n      <td>Empty DataFrame\nColumns: []\nIndex: []</td>\n    </tr>\n  </tbody>\n</table>\n</div>"
     },
     "execution_count": 19,
     "metadata": {},
     "output_type": "execute_result"
    }
   ],
   "source": [
    "spec_df = pd.read_pickle(spec_pkl_fname)\n",
    "spec_df"
   ],
   "metadata": {
    "collapsed": false
   }
  },
  {
   "cell_type": "code",
   "execution_count": 10,
   "outputs": [
    {
     "data": {
      "text/plain": "{'__name__': '__main__',\n '__doc__': 'Automatically created module for IPython interactive environment',\n '__package__': None,\n '__loader__': None,\n '__spec__': None,\n '__builtin__': <module 'builtins' (built-in)>,\n '__builtins__': <module 'builtins' (built-in)>,\n '_ih': ['',\n  'import numpy as np\\nimport pandas as pd\\nfrom random import randrange\\nimport matplotlib.pyplot as plt\\nimport plotly.graph_objects as go',\n  '# 2022-out-7: Excelente espectro para testes, tenho usado ultimamente:\\n# a_pattern = \\'Si/SI2018/SI11318.Chn\\'\\n# 2022-nov-16: outros espectros:\\n# a_pattern = \"Filtros/2022/Cci/CCI1603-I.Chn\"\\n# a_pattern = \"Filtros/2022/Cci/CCI2302-I.Chn\"\\n\\n# a_pattern = \"Eso_non_existe.Chn\"\\n\\n# 2022-Dez-21 Buscando outro espectro\\n# a_pattern = \\'CCI1603-I\\'\\n# 2022-Dez-28 Este é um espectro mais recente:\\n# a_pattern = \\'SI09722.Chn\\'\\n# 2022-Dez-28 Este é um espectro mais recente que posso comparar com saída do Genie:\\na_pattern = \\'SI06322.Chn\\'',\n  \"def select_spectrum_from_folder_list(\\n        reduced_names_file_list, files_list, spectra_path, a_pattern='', random_spectrum=False):\\n    # Select a random spectrum...\\n    n_files = len(reduced_names_file_list)\\n    if random_spectrum:\\n        try:\\n            a_spec_ind = randrange(n_files)\\n            print('Random spec index: ', a_spec_ind)\\n            a_spec_name = files_list[a_spec_ind]\\n            reduced_f_name = reduced_names_file_list[a_spec_ind]\\n            print('...and its name: ', a_spec_name)\\n        except ValueError:\\n            print('No random spectrum found...')\\n        # ...or define it directly.\\n    else:\\n        print('Existing:')\\n        achou = False\\n        a_spec_ind = None\\n        nomearq = ''\\n        for i, j in enumerate(reduced_names_file_list):\\n            if a_pattern in j:\\n                achou = True\\n                a_spec_ind = i\\n                nomearq = j\\n                break\\n        if achou:\\n            print(f'Achou! indice={a_spec_ind}, nomearq = {nomearq}')\\n            a_spec_name = files_list[a_spec_ind]\\n            reduced_f_name = reduced_names_file_list[a_spec_ind]\\n\\n        matching_spec_name = [i for i in spectra_path.glob(a_pattern)]\\n        if len(matching_spec_name) != 0:\\n            for i in matching_spec_name:\\n                print('name: ', i)\\n            a_spec_name = matching_spec_name[0]\\n\\n    print('==========================')\\n    print('Final choices:')\\n    print(f'spectra_path: {spectra_path}')\\n    print(f'a_spec_name: {a_spec_name}')\\n    print(f'reduced_f_name: {reduced_f_name}')\",\n  \"spectra_list_df = pd.read_pickle('WindowsI56611.pkl')\\nspectra_list_df\",\n  'reduc_nms = spectra_list_df.reduced_names_files_list[0]\\nfil_lst = spectra_list_df.files_list[0]\\nspc_pth = spectra_list_df.spectra_path[0]',\n  'select_spectrum_from_folder_list(reduc_nms, fil_lst, spc_pth, a_pattern)',\n  'xfgn dfn dfny d',\n  'xfgn dfn dfny d',\n  'vars(ogra)',\n  'vars()'],\n '_oh': {4:                    info_plat info_mach info_syst info_node         home_path  \\\n  0  Windows-10-10.0.19044-SP0     AMD64   Windows    I56611  C:\\Users\\mmaduar   \n  \n                                  spectra_path  n_files  a_spec_ind a_spec_name  \\\n  0  C:\\Users\\mmaduar\\Nextcloud\\Genie_Transfer     6868           0               \n  \n    reduced_f_name gross_counts_graphics pks_regions_gros  \\\n  0                                 None             None   \n  \n                                            files_list  \\\n  0  [C:\\Users\\mmaduar\\Nextcloud\\Genie_Transfer\\alm...   \n  \n                              reduced_names_files_list  \\\n  0  [almera22/det_c/iaeaqcb.chn, almera22/det_c/ia...   \n  \n                      spectra_pattern_names   pkl_folder_files  \n  0  [**/*.[Cc][Hh][Nn], **/*.[Ii][Ee][Cc]]  WindowsI56611.pkl  },\n '_dh': [WindowsPath('C:/Users/mmaduar/PycharmProjects/OGRaySpY/src')],\n 'In': ['',\n  'import numpy as np\\nimport pandas as pd\\nfrom random import randrange\\nimport matplotlib.pyplot as plt\\nimport plotly.graph_objects as go',\n  '# 2022-out-7: Excelente espectro para testes, tenho usado ultimamente:\\n# a_pattern = \\'Si/SI2018/SI11318.Chn\\'\\n# 2022-nov-16: outros espectros:\\n# a_pattern = \"Filtros/2022/Cci/CCI1603-I.Chn\"\\n# a_pattern = \"Filtros/2022/Cci/CCI2302-I.Chn\"\\n\\n# a_pattern = \"Eso_non_existe.Chn\"\\n\\n# 2022-Dez-21 Buscando outro espectro\\n# a_pattern = \\'CCI1603-I\\'\\n# 2022-Dez-28 Este é um espectro mais recente:\\n# a_pattern = \\'SI09722.Chn\\'\\n# 2022-Dez-28 Este é um espectro mais recente que posso comparar com saída do Genie:\\na_pattern = \\'SI06322.Chn\\'',\n  \"def select_spectrum_from_folder_list(\\n        reduced_names_file_list, files_list, spectra_path, a_pattern='', random_spectrum=False):\\n    # Select a random spectrum...\\n    n_files = len(reduced_names_file_list)\\n    if random_spectrum:\\n        try:\\n            a_spec_ind = randrange(n_files)\\n            print('Random spec index: ', a_spec_ind)\\n            a_spec_name = files_list[a_spec_ind]\\n            reduced_f_name = reduced_names_file_list[a_spec_ind]\\n            print('...and its name: ', a_spec_name)\\n        except ValueError:\\n            print('No random spectrum found...')\\n        # ...or define it directly.\\n    else:\\n        print('Existing:')\\n        achou = False\\n        a_spec_ind = None\\n        nomearq = ''\\n        for i, j in enumerate(reduced_names_file_list):\\n            if a_pattern in j:\\n                achou = True\\n                a_spec_ind = i\\n                nomearq = j\\n                break\\n        if achou:\\n            print(f'Achou! indice={a_spec_ind}, nomearq = {nomearq}')\\n            a_spec_name = files_list[a_spec_ind]\\n            reduced_f_name = reduced_names_file_list[a_spec_ind]\\n\\n        matching_spec_name = [i for i in spectra_path.glob(a_pattern)]\\n        if len(matching_spec_name) != 0:\\n            for i in matching_spec_name:\\n                print('name: ', i)\\n            a_spec_name = matching_spec_name[0]\\n\\n    print('==========================')\\n    print('Final choices:')\\n    print(f'spectra_path: {spectra_path}')\\n    print(f'a_spec_name: {a_spec_name}')\\n    print(f'reduced_f_name: {reduced_f_name}')\",\n  \"spectra_list_df = pd.read_pickle('WindowsI56611.pkl')\\nspectra_list_df\",\n  'reduc_nms = spectra_list_df.reduced_names_files_list[0]\\nfil_lst = spectra_list_df.files_list[0]\\nspc_pth = spectra_list_df.spectra_path[0]',\n  'select_spectrum_from_folder_list(reduc_nms, fil_lst, spc_pth, a_pattern)',\n  'xfgn dfn dfny d',\n  'xfgn dfn dfny d',\n  'vars(ogra)',\n  'vars()'],\n 'Out': {4:                    info_plat info_mach info_syst info_node         home_path  \\\n  0  Windows-10-10.0.19044-SP0     AMD64   Windows    I56611  C:\\Users\\mmaduar   \n  \n                                  spectra_path  n_files  a_spec_ind a_spec_name  \\\n  0  C:\\Users\\mmaduar\\Nextcloud\\Genie_Transfer     6868           0               \n  \n    reduced_f_name gross_counts_graphics pks_regions_gros  \\\n  0                                 None             None   \n  \n                                            files_list  \\\n  0  [C:\\Users\\mmaduar\\Nextcloud\\Genie_Transfer\\alm...   \n  \n                              reduced_names_files_list  \\\n  0  [almera22/det_c/iaeaqcb.chn, almera22/det_c/ia...   \n  \n                      spectra_pattern_names   pkl_folder_files  \n  0  [**/*.[Cc][Hh][Nn], **/*.[Ii][Ee][Cc]]  WindowsI56611.pkl  },\n 'get_ipython': <bound method InteractiveShell.get_ipython of <ipykernel.zmqshell.ZMQInteractiveShell object at 0x0000027697F7BC10>>,\n 'exit': <IPython.core.autocall.ZMQExitAutocall at 0x27697fa7400>,\n 'quit': <IPython.core.autocall.ZMQExitAutocall at 0x27697fa7400>,\n 'open': <function io.open(file, mode='r', buffering=-1, encoding=None, errors=None, newline=None, closefd=True, opener=None)>,\n '_':                    info_plat info_mach info_syst info_node         home_path  \\\n 0  Windows-10-10.0.19044-SP0     AMD64   Windows    I56611  C:\\Users\\mmaduar   \n \n                                 spectra_path  n_files  a_spec_ind a_spec_name  \\\n 0  C:\\Users\\mmaduar\\Nextcloud\\Genie_Transfer     6868           0               \n \n   reduced_f_name gross_counts_graphics pks_regions_gros  \\\n 0                                 None             None   \n \n                                           files_list  \\\n 0  [C:\\Users\\mmaduar\\Nextcloud\\Genie_Transfer\\alm...   \n \n                             reduced_names_files_list  \\\n 0  [almera22/det_c/iaeaqcb.chn, almera22/det_c/ia...   \n \n                     spectra_pattern_names   pkl_folder_files  \n 0  [**/*.[Cc][Hh][Nn], **/*.[Ii][Ee][Cc]]  WindowsI56611.pkl  ,\n '__': '',\n '___': '',\n '_i': 'vars(ogra)',\n '_ii': 'xfgn dfn dfny d',\n '_iii': 'xfgn dfn dfny d',\n '_i1': 'import numpy as np\\nimport pandas as pd\\nfrom random import randrange\\nimport matplotlib.pyplot as plt\\nimport plotly.graph_objects as go',\n 'np': <module 'numpy' from 'C:\\\\Users\\\\mmaduar\\\\PycharmProjects\\\\OGRaySpY\\\\venv\\\\lib\\\\site-packages\\\\numpy\\\\__init__.py'>,\n 'pd': <module 'pandas' from 'C:\\\\Users\\\\mmaduar\\\\PycharmProjects\\\\OGRaySpY\\\\venv\\\\lib\\\\site-packages\\\\pandas\\\\__init__.py'>,\n 'randrange': <bound method Random.randrange of <random.Random object at 0x0000027693BE20A0>>,\n 'plt': <module 'matplotlib.pyplot' from 'C:\\\\Users\\\\mmaduar\\\\PycharmProjects\\\\OGRaySpY\\\\venv\\\\lib\\\\site-packages\\\\matplotlib\\\\pyplot.py'>,\n 'go': <module 'plotly.graph_objects' from 'C:\\\\Users\\\\mmaduar\\\\PycharmProjects\\\\OGRaySpY\\\\venv\\\\lib\\\\site-packages\\\\plotly\\\\graph_objects\\\\__init__.py'>,\n '_i2': '\\n# 2022-out-7: Excelente espectro para testes, tenho usado ultimamente:\\n# a_pattern = \\'Si/SI2018/SI11318.Chn\\'\\n# 2022-nov-16: outros espectros:\\n# a_pattern = \"Filtros/2022/Cci/CCI1603-I.Chn\"\\n# a_pattern = \"Filtros/2022/Cci/CCI2302-I.Chn\"\\n\\n# a_pattern = \"Eso_non_existe.Chn\"\\n\\n# 2022-Dez-21 Buscando outro espectro\\n# a_pattern = \\'CCI1603-I\\'\\n# 2022-Dez-28 Este é um espectro mais recente:\\n# a_pattern = \\'SI09722.Chn\\'\\n# 2022-Dez-28 Este é um espectro mais recente que posso comparar com saída do Genie:\\na_pattern = \\'SI06322.Chn\\'',\n 'a_pattern': 'SI06322.Chn',\n '_i3': \"def select_spectrum_from_folder_list(\\n        reduced_names_file_list, files_list, spectra_path, a_pattern='', random_spectrum=False):\\n    # Select a random spectrum...\\n    n_files = len(reduced_names_file_list)\\n    if random_spectrum:\\n        try:\\n            a_spec_ind = randrange(n_files)\\n            print('Random spec index: ', a_spec_ind)\\n            a_spec_name = files_list[a_spec_ind]\\n            reduced_f_name = reduced_names_file_list[a_spec_ind]\\n            print('...and its name: ', a_spec_name)\\n        except ValueError:\\n            print('No random spectrum found...')\\n        # ...or define it directly.\\n    else:\\n        print('Existing:')\\n        achou = False\\n        a_spec_ind = None\\n        nomearq = ''\\n        for i, j in enumerate(reduced_names_file_list):\\n            if a_pattern in j:\\n                achou = True\\n                a_spec_ind = i\\n                nomearq = j\\n                break\\n        if achou:\\n            print(f'Achou! indice={a_spec_ind}, nomearq = {nomearq}')\\n            a_spec_name = files_list[a_spec_ind]\\n            reduced_f_name = reduced_names_file_list[a_spec_ind]\\n\\n        matching_spec_name = [i for i in spectra_path.glob(a_pattern)]\\n        if len(matching_spec_name) != 0:\\n            for i in matching_spec_name:\\n                print('name: ', i)\\n            a_spec_name = matching_spec_name[0]\\n\\n    print('==========================')\\n    print('Final choices:')\\n    print(f'spectra_path: {spectra_path}')\\n    print(f'a_spec_name: {a_spec_name}')\\n    print(f'reduced_f_name: {reduced_f_name}')\",\n 'select_spectrum_from_folder_list': <function __main__.select_spectrum_from_folder_list(reduced_names_file_list, files_list, spectra_path, a_pattern='', random_spectrum=False)>,\n '_i4': \"spectra_list_df = pd.read_pickle('WindowsI56611.pkl')\\nspectra_list_df\",\n 'spectra_list_df':                    info_plat info_mach info_syst info_node         home_path  \\\n 0  Windows-10-10.0.19044-SP0     AMD64   Windows    I56611  C:\\Users\\mmaduar   \n \n                                 spectra_path  n_files  a_spec_ind a_spec_name  \\\n 0  C:\\Users\\mmaduar\\Nextcloud\\Genie_Transfer     6868           0               \n \n   reduced_f_name gross_counts_graphics pks_regions_gros  \\\n 0                                 None             None   \n \n                                           files_list  \\\n 0  [C:\\Users\\mmaduar\\Nextcloud\\Genie_Transfer\\alm...   \n \n                             reduced_names_files_list  \\\n 0  [almera22/det_c/iaeaqcb.chn, almera22/det_c/ia...   \n \n                     spectra_pattern_names   pkl_folder_files  \n 0  [**/*.[Cc][Hh][Nn], **/*.[Ii][Ee][Cc]]  WindowsI56611.pkl  ,\n '_4':                    info_plat info_mach info_syst info_node         home_path  \\\n 0  Windows-10-10.0.19044-SP0     AMD64   Windows    I56611  C:\\Users\\mmaduar   \n \n                                 spectra_path  n_files  a_spec_ind a_spec_name  \\\n 0  C:\\Users\\mmaduar\\Nextcloud\\Genie_Transfer     6868           0               \n \n   reduced_f_name gross_counts_graphics pks_regions_gros  \\\n 0                                 None             None   \n \n                                           files_list  \\\n 0  [C:\\Users\\mmaduar\\Nextcloud\\Genie_Transfer\\alm...   \n \n                             reduced_names_files_list  \\\n 0  [almera22/det_c/iaeaqcb.chn, almera22/det_c/ia...   \n \n                     spectra_pattern_names   pkl_folder_files  \n 0  [**/*.[Cc][Hh][Nn], **/*.[Ii][Ee][Cc]]  WindowsI56611.pkl  ,\n '_i5': 'reduc_nms = spectra_list_df.reduced_names_files_list[0]\\nfil_lst = spectra_list_df.files_list[0]\\nspc_pth = spectra_list_df.spectra_path[0]',\n 'reduc_nms': ['almera22/det_c/iaeaqcb.chn',\n  'almera22/det_c/iaeaqcc.chn',\n  'almera22/det_c/IAEASW1B.chn',\n  'almera22/det_c/iaeaw2a.chn',\n  'almera22/eur_g_p_xtraf/Spiked water Sample Code 01A  Det G.Chn',\n  'almera22/eur_g_p_xtraf/Spiked water Sample Code 01A  Det P.Chn',\n  'almera22/eur_g_p_xtraf/Spiked water Sample Code 01B Det Eurisys.Chn',\n  'almera22/eur_g_p_xtraf/Spiked water Sample Code 01B XtRa.Chn',\n  'almera22/eur_g_p_xtraf/Spiked water Sample Code 01C Eurisys.Chn',\n  'almera22/eur_g_p_xtraf/Spiked water Sample Code 02A  Det P.Chn',\n  'almera22/eur_g_p_xtraf/Spiked water Sample Code 02A  Eurisusys.Chn',\n  'almera22/eur_g_p_xtraf/Spiked water Sample Code 02C Det G.Chn',\n  'almera22/eur_g_p_xtraf/Spiked water Sample code 03A Det P.Chn',\n  'almera22/eur_g_p_xtraf/Spiked water Sample Code 03B Det G.Chn',\n  'almera22/eur_g_p_xtraf/Spiked water Sample Code 03C Det Eurisys.Chn',\n  'almera22/eur_g_p_xtraf/Spiked water Sample Code 03C XtRa.Chn',\n  'almera22/eur_g_p_xtraf/Spiked water Sample code QCA det XtRa.Chn',\n  'almera22/eur_g_p_xtraf/Spiked water Sample Code QCB Det Eurisys.Chn',\n  'almera22/eur_g_p_xtraf/Spiked water Sample Code QCB Det G.Chn',\n  'almera22/eur_g_p_xtraf/Spiked water Sample Code QCB Det XTRa.Chn',\n  'almera22/eur_g_p_xtraf/Spiked water Sample Code QCC Det P.Chn',\n  'almera22/IAEA-TERC-2022/pt2022_spectrum_exercise/PT2022_Spectrum_Exercise/PT2022-Calibration_Standard/Background-2017/BGR-BBE-17D.CHN',\n  'almera22/IAEA-TERC-2022/pt2022_spectrum_exercise/PT2022_Spectrum_Exercise/PT2022-Calibration_Standard/BBE_NPL-A170584-D1/BBE_NPL-A170584-D1.CHN',\n  'almera22/IAEA-TERC-2022/pt2022_spectrum_exercise/PT2022_Spectrum_Exercise/PT2022_Spectra/Background-2021/BGR-BBE-21D.CHN',\n  'almera22/IAEA-TERC-2022/pt2022_spectrum_exercise/PT2022_Spectrum_Exercise/PT2022_Spectra/BBE22032_PT2022/BBE22032_PT2022.CHN',\n  'almera22/IAEA-TERC-2022/pt2022_spectrum_exercise/PT2022_Spectrum_Exercise/PT2022_Spectra/BBE_P105_Blank/BBE_P105_Blank.CHN',\n  'almera22/user2023/GIG/CRM_5A.Chn',\n  'almera22/user2023/GIG/CRM_7.Chn',\n  'almera22/user2023/IAEA2022/IAEA-TERC-2022-01_02;SampleCodeQCA-SpikedWater 100,70g (GMX).Chn',\n  'almera22/user2023/IAEA2022/Sample Code 03B Pop top.Chn',\n  'almera22/user2023/IAEA2022/Sample Code QCA Pop top.Chn',\n  'almera22/user2023/IAEA2022/Sample Code QCC Pop top.Chn',\n  'almera22/user2023/SI2022/BGTESTE.Chn',\n  'almera22/user2023/SI2022/FRASCO ORIGINAL SI084_22.Chn',\n  'almera22/user2023/SI2022/SI00822.Chn',\n  'almera22/user2023/SI2022/SI00922.Chn',\n  'almera22/user2023/SI2022/SI01622.Chn',\n  'almera22/user2023/SI2022/SI01722.Chn',\n  'almera22/user2023/SI2022/SI01822.Chn',\n  'almera22/user2023/SI2022/SI01922.Chn',\n  'almera22/user2023/SI2022/SI02022.Chn',\n  'almera22/user2023/SI2022/SI02522.Chn',\n  'almera22/user2023/SI2022/SI02622.Chn',\n  'almera22/user2023/SI2022/SI02722.Chn',\n  'almera22/user2023/SI2022/SI02922.Chn',\n  'almera22/user2023/SI2022/SI03022.Chn',\n  'almera22/user2023/SI2022/SI03122.Chn',\n  'almera22/user2023/SI2022/SI03222.Chn',\n  'almera22/user2023/SI2022/SI03322.Chn',\n  'almera22/user2023/SI2022/SI03422.Chn',\n  'almera22/user2023/SI2022/SI03522.Chn',\n  'almera22/user2023/SI2022/SI03722.Chn',\n  'almera22/user2023/SI2022/SI04022 (cont em 31-05-22).Chn',\n  'almera22/user2023/SI2022/SI04422.Chn',\n  'almera22/user2023/SI2022/SI04722.Chn',\n  'almera22/user2023/SI2022/SI05122.Chn',\n  'almera22/user2023/SI2022/SI05322.Chn',\n  'almera22/user2023/SI2022/SI05522.Chn',\n  'almera22/user2023/SI2022/SI05622.Chn',\n  'almera22/user2023/SI2022/SI05822.Chn',\n  'almera22/user2023/SI2022/SI05922.Chn',\n  'almera22/user2023/SI2022/SI06122.Chn',\n  'almera22/user2023/SI2022/SI06322.Chn',\n  'almera22/user2023/SI2022/SI06522.Chn',\n  'almera22/user2023/SI2022/SI06722.Chn',\n  'almera22/user2023/SI2022/SI06922.Chn',\n  'almera22/user2023/SI2022/SI07222.Chn',\n  'almera22/user2023/SI2022/SI07322.Chn',\n  'almera22/user2023/SI2022/SI07522.Chn',\n  'almera22/user2023/SI2022/SI07722.Chn',\n  'almera22/user2023/SI2022/SI07922.Chn',\n  'almera22/user2023/SI2022/SI08222.Chn',\n  'almera22/user2023/SI2022/SI08422.Chn',\n  'almera22/user2023/SI2022/SI08522.Chn',\n  'almera22/user2023/SI2022/SI08622.Chn',\n  'almera22/user2023/SI2022/SI08722.Chn',\n  'almera22/user2023/SI2022/SI09122.Chn',\n  'almera22/user2023/SI2022/SI09222.Chn',\n  'almera22/user2023/SI2022/SI09322.Chn',\n  'almera22/user2023/SI2022/SI09422.Chn',\n  'almera22/user2023/SI2022/SI09722.Chn',\n  'almera22/user2023/SI2022/SI09922.Chn',\n  'Filtros/BGFILTRO.Chn',\n  'Filtros/Exaustor Dirf 20 julho 2016 SI 09816.Chn',\n  'Filtros/FC SAS DIRF 2007.Chn',\n  'Filtros/2009/cce/fcce0307.Chn',\n  'Filtros/2009/cce/fcce1408.Chn',\n  'Filtros/2009/cce/fcce1707.Chn',\n  'Filtros/2009/cce/fcce2708.Chn',\n  'Filtros/2009/cce/fcce3107.Chn',\n  'Filtros/2009/cci/cci0107.Chn',\n  'Filtros/2009/cci/cci0209.Chn',\n  'Filtros/2009/cci/cci0212.Chn',\n  'Filtros/2009/cci/cci0403.Chn',\n  'Filtros/2009/cci/cci0406.Chn',\n  'Filtros/2009/cci/cci0411.Chn',\n  'Filtros/2009/cci/cci0502.Chn',\n  'Filtros/2009/cci/cci0508.Chn',\n  'Filtros/2009/cci/cci0605.chn',\n  'Filtros/2009/cci/cci0701.Chn',\n  'Filtros/2009/cci/cci0710.Chn',\n  'Filtros/2009/cci/cci0804.Chn',\n  'Filtros/2009/cci/cci0807.Chn',\n  'Filtros/2009/cci/cci0909.Chn',\n  'Filtros/2009/cci/cci0912.Chn',\n  'Filtros/2009/cci/cci1006.Chn',\n  'Filtros/2009/cci/cci1103.Chn',\n  'Filtros/2009/cci/cci1111.Chn',\n  'Filtros/2009/cci/cci1208.Chn',\n  'Filtros/2009/cci/cci1305.Chn',\n  'Filtros/2009/cci/cci1410.Chn',\n  'Filtros/2009/cci/cci1504.Chn',\n  'Filtros/2009/cci/cci1507.Chn',\n  'Filtros/2009/cci/cci1609.Chn',\n  'Filtros/2009/cci/cci1706.Chn',\n  'Filtros/2009/cci/cci1803.Chn',\n  'Filtros/2009/cci/cci1811.Chn',\n  'Filtros/2009/cci/cci1908.Chn',\n  'Filtros/2009/cci/cci2005.Chn',\n  'Filtros/2009/cci/cci2101.Chn',\n  'Filtros/2009/cci/cci2110.Chn',\n  'Filtros/2009/cci/cci2207.Chn',\n  'Filtros/2009/cci/cci2309.Chn',\n  'Filtros/2009/cci/cci2406.Chn',\n  'Filtros/2009/cci/cci2503.Chn',\n  'Filtros/2009/cci/cci2511.Chn',\n  'Filtros/2009/cci/cci2608.Chn',\n  'Filtros/2009/cci/cci2801.Chn',\n  'Filtros/2009/cci/cci2810.Chn',\n  'Filtros/2009/cci/cci2907.chn',\n  'Filtros/2009/cci/cci2912.Chn',\n  'Filtros/2009/cci/cci3103.Chn',\n  'Filtros/2009/cci/xxi1006.Chn',\n  'Filtros/2009/ces/fces0109.Chn',\n  'Filtros/2009/ces/fces0408.Chn',\n  'Filtros/2009/ces/fces0707.Chn',\n  'Filtros/2009/ces/fces1808.Chn',\n  'Filtros/2009/ces/fces2107.Chn',\n  'Filtros/2009/crf/crf0210.Chn',\n  'Filtros/2009/crf/crf0304.Chn',\n  'Filtros/2009/crf/crf0307.Chn',\n  'Filtros/2009/crf/crf0409.Chn',\n  'Filtros/2009/crf/crf0412.Chn',\n  'Filtros/2009/crf/crf0506.Chn',\n  'Filtros/2009/crf/crf0602.Chn',\n  'Filtros/2009/crf/crf0603.Chn',\n  'Filtros/2009/crf/crf0611.Chn',\n  'Filtros/2009/crf/crf0708.Chn',\n  'Filtros/2009/crf/crf0901.Chn',\n  'Filtros/2009/crf/crf0904.Chn',\n  'Filtros/2009/crf/crf0910.Chn',\n  'Filtros/2009/crf/crf1007.Chn',\n  'Filtros/2009/crf/crf1109.Chn',\n  'Filtros/2009/crf/crf1112.Chn',\n  'Filtros/2009/crf/crf1206.Chn',\n  'Filtros/2009/crf/crf1302.Chn',\n  'Filtros/2009/crf/crf1303.Chn',\n  'Filtros/2009/crf/crf1311.Chn',\n  'Filtros/2009/crf/crf1408.Chn',\n  'Filtros/2009/crf/crf1505.Chn',\n  'Filtros/2009/crf/crf15052.Chn',\n  'Filtros/2009/crf/crf1601.Chn',\n  'Filtros/2009/crf/crf1610.Chn',\n  'Filtros/2009/crf/crf1704.Chn',\n  'Filtros/2009/crf/crf1707.chn',\n  'Filtros/2009/crf/crf1809.Chn',\n  'Filtros/2009/crf/crf1812.Chn',\n  'Filtros/2009/crf/crf1906.Chn',\n  'Filtros/2009/crf/crf1911.Chn',\n  'Filtros/2009/crf/crf2002.Chn',\n  'Filtros/2009/crf/crf2003.Chn',\n  'Filtros/2009/crf/crf2108.Chn',\n  'Filtros/2009/crf/crf2205.Chn',\n  'Filtros/2009/crf/crf2301.Chn',\n  'Filtros/2009/crf/crf2310.Chn',\n  'Filtros/2009/crf/crf2312.Chn',\n  'Filtros/2009/crf/crf2404.Chn',\n  'Filtros/2009/crf/crf2407.Chn',\n  'Filtros/2009/crf/crf2509.Chn',\n  'Filtros/2009/crf/crf2606.Chn',\n  'Filtros/2009/crf/crf2702.Chn',\n  'Filtros/2009/crf/crf2703.Chn',\n  'Filtros/2009/crf/crf2711.Chn',\n  'Filtros/2009/crf/crf2808.Chn',\n  'Filtros/2009/crf/crf2905.Chn',\n  'Filtros/2009/crf/crf3001.Chn',\n  'Filtros/2009/crf/crf3004.Chn',\n  'Filtros/2009/crf/crf3010.Chn',\n  'Filtros/2009/crf/crf3107.Chn',\n  'Filtros/2009/crn/crn0210.Chn',\n  'Filtros/2009/crn/crn0304.Chn',\n  'Filtros/2009/crn/crn0307.Chn',\n  'Filtros/2009/crn/crn0409.Chn',\n  'Filtros/2009/crn/crn0412.Chn',\n  'Filtros/2009/crn/crn0506.Chn',\n  'Filtros/2009/crn/crn0602.Chn',\n  'Filtros/2009/crn/crn0603.Chn',\n  'Filtros/2009/crn/crn0611.Chn',\n  'Filtros/2009/crn/crn0708.Chn',\n  'Filtros/2009/crn/crn0805.Chn',\n  'Filtros/2009/crn/crn0901.Chn',\n  'Filtros/2009/crn/crn0904.Chn',\n  'Filtros/2009/crn/crn0910.Chn',\n  'Filtros/2009/crn/crn1007.Chn',\n  'Filtros/2009/crn/crn1109.Chn',\n  'Filtros/2009/crn/crn1112.Chn',\n  'Filtros/2009/crn/crn1206.Chn',\n  'Filtros/2009/crn/crn1302.Chn',\n  'Filtros/2009/crn/crn1303.Chn',\n  'Filtros/2009/crn/crn1311.Chn',\n  'Filtros/2009/crn/crn1408.Chn',\n  'Filtros/2009/crn/crn1505.Chn',\n  'Filtros/2009/crn/crn1601.Chn',\n  'Filtros/2009/crn/crn1610.Chn',\n  'Filtros/2009/crn/crn1704.Chn',\n  'Filtros/2009/crn/crn1707.Chn',\n  'Filtros/2009/crn/crn1809.Chn',\n  'Filtros/2009/crn/crn1812.Chn',\n  'Filtros/2009/crn/crn1906.Chn',\n  'Filtros/2009/crn/crn1911.Chn',\n  'Filtros/2009/crn/crn2002.Chn',\n  'Filtros/2009/crn/crn2003.Chn',\n  'Filtros/2009/crn/crn2108.Chn',\n  'Filtros/2009/crn/crn2205.Chn',\n  'Filtros/2009/crn/crn2301.Chn',\n  'Filtros/2009/crn/crn2310.Chn',\n  'Filtros/2009/crn/crn2312.Chn',\n  'Filtros/2009/crn/crn2404.Chn',\n  'Filtros/2009/crn/CRN2407.CHN',\n  'Filtros/2009/crn/crn2509.Chn',\n  'Filtros/2009/crn/CRN2606.Chn',\n  'Filtros/2009/crn/crn2702.Chn',\n  'Filtros/2009/crn/crn2703.Chn',\n  'Filtros/2009/crn/crn2711.Chn',\n  'Filtros/2009/crn/crn2808.Chn',\n  'Filtros/2009/crn/crn2905.Chn',\n  'Filtros/2009/crn/crn3001.Chn',\n  'Filtros/2009/crn/crn3004.Chn',\n  'Filtros/2009/crn/crn3010.Chn',\n  'Filtros/2009/crn/crn3107.chn',\n  'Filtros/2009/ctp/ctp0201.Chn',\n  'Filtros/2009/ctp/ctp0210.Chn',\n  'Filtros/2009/ctp/ctp0304.Chn',\n  'Filtros/2009/ctp/ctp0307.Chn',\n  'Filtros/2009/ctp/ctp0409.Chn',\n  'Filtros/2009/ctp/ctp0412.Chn',\n  'Filtros/2009/ctp/ctp0506.Chn',\n  'Filtros/2009/ctp/ctp0602.Chn',\n  'Filtros/2009/ctp/ctp0603.Chn',\n  'Filtros/2009/ctp/ctp0611.Chn',\n  'Filtros/2009/ctp/ctp0708.Chn',\n  'Filtros/2009/ctp/ctp0901.Chn',\n  'Filtros/2009/ctp/ctp0904.Chn',\n  'Filtros/2009/ctp/ctp0910.Chn',\n  'Filtros/2009/ctp/ctp1007.Chn',\n  'Filtros/2009/ctp/ctp1109.Chn',\n  'Filtros/2009/ctp/ctp1112.Chn',\n  'Filtros/2009/ctp/ctp1206.Chn',\n  'Filtros/2009/ctp/ctp1302.Chn',\n  'Filtros/2009/ctp/ctp1303.Chn',\n  'Filtros/2009/ctp/ctp1311.Chn',\n  'Filtros/2009/ctp/ctp1408.Chn',\n  'Filtros/2009/ctp/ctp1505.Chn',\n  'Filtros/2009/ctp/ctp15052.Chn',\n  'Filtros/2009/ctp/ctp1601.Chn',\n  'Filtros/2009/ctp/ctp1610.Chn',\n  'Filtros/2009/ctp/ctp1704.Chn',\n  'Filtros/2009/ctp/ctp1707.chn',\n  'Filtros/2009/ctp/ctp1809.Chn',\n  'Filtros/2009/ctp/ctp1812.Chn',\n  'Filtros/2009/ctp/ctp1906.Chn',\n  'Filtros/2009/ctp/ctp1911.Chn',\n  'Filtros/2009/ctp/ctp2002.Chn',\n  'Filtros/2009/ctp/ctp2003.Chn',\n  'Filtros/2009/ctp/ctp2108.Chn',\n  'Filtros/2009/ctp/ctp2205.Chn',\n  'Filtros/2009/ctp/ctp2301.Chn',\n  'Filtros/2009/ctp/ctp2310.Chn',\n  'Filtros/2009/ctp/ctp2312.Chn',\n  'Filtros/2009/ctp/ctp2404.Chn',\n  'Filtros/2009/ctp/ctp2407.Chn',\n  'Filtros/2009/ctp/ctp2509.Chn',\n  'Filtros/2009/ctp/ctp2606.Chn',\n  'Filtros/2009/ctp/ctp2702.Chn',\n  'Filtros/2009/ctp/ctp2703.Chn',\n  'Filtros/2009/ctp/ctp2711.Chn',\n  'Filtros/2009/ctp/ctp2808.Chn',\n  'Filtros/2009/ctp/ctp2905.Chn',\n  'Filtros/2009/ctp/ctp3001.Chn',\n  'Filtros/2009/ctp/ctp3004.Chn',\n  'Filtros/2009/ctp/ctp3010.Chn',\n  'Filtros/2009/ctp/ctp3107.Chn',\n  'Filtros/2009/ctr/fctr0409.Chn',\n  'Filtros/2009/ctr/fctr0708.Chn',\n  'Filtros/2009/ctr/fctr1007.Chn',\n  'Filtros/2009/ctr/fctr2108.Chn',\n  'Filtros/2009/ctr/fctr2407.Chn',\n  'Filtros/2009/pci/pci0107.Chn',\n  'Filtros/2009/pci/pci0209.Chn',\n  'Filtros/2009/pci/pci0212.Chn',\n  'Filtros/2009/pci/pci0403.Chn',\n  'Filtros/2009/pci/pci0406.Chn',\n  'Filtros/2009/pci/pci0411.Chn',\n  'Filtros/2009/pci/pci0502.Chn',\n  'Filtros/2009/pci/pci0508.Chn',\n  'Filtros/2009/pci/pci0605.Chn',\n  'Filtros/2009/pci/pci0701.Chn',\n  'Filtros/2009/pci/pci0710.Chn',\n  'Filtros/2009/pci/pci0804.Chn',\n  'Filtros/2009/pci/pci0807.Chn',\n  'Filtros/2009/pci/pci0909.Chn',\n  'Filtros/2009/pci/pci0912.Chn',\n  'Filtros/2009/pci/pci1006.Chn',\n  'Filtros/2009/pci/pci1103.Chn',\n  'Filtros/2009/pci/pci1111.Chn',\n  'Filtros/2009/pci/pci1208.Chn',\n  'Filtros/2009/pci/pci1305.Chn',\n  'Filtros/2009/pci/pci1410.Chn',\n  'Filtros/2009/pci/pci1504.Chn',\n  'Filtros/2009/pci/pci1507.Chn',\n  'Filtros/2009/pci/pci1609.Chn',\n  'Filtros/2009/pci/PCI1706.Chn',\n  'Filtros/2009/pci/pci1803.Chn',\n  'Filtros/2009/pci/pci1811.Chn',\n  'Filtros/2009/pci/pci1908.Chn',\n  'Filtros/2009/pci/pci2005.Chn',\n  'Filtros/2009/pci/pci2101.Chn',\n  'Filtros/2009/pci/pci2110.Chn',\n  'Filtros/2009/pci/pci2207.Chn',\n  'Filtros/2009/pci/pci2309.Chn',\n  'Filtros/2009/pci/pci2406.Chn',\n  'Filtros/2009/pci/pci2503.Chn',\n  'Filtros/2009/pci/pci2511.Chn',\n  'Filtros/2009/pci/pci2608.Chn',\n  'Filtros/2009/pci/pci2801.Chn',\n  'Filtros/2009/pci/pci2810.Chn',\n  'Filtros/2009/pci/pci2907.chn',\n  'Filtros/2009/pci/pci2912.Chn',\n  'Filtros/2009/pci/pci3103.Chn',\n  'Filtros/2009/prf/prf0210.Chn',\n  'Filtros/2009/prf/prf0304.Chn',\n  'Filtros/2009/prf/prf0307.Chn',\n  'Filtros/2009/prf/prf0409.Chn',\n  'Filtros/2009/prf/prf0412.Chn',\n  'Filtros/2009/prf/prf0506.Chn',\n  'Filtros/2009/prf/prf0602.Chn',\n  'Filtros/2009/prf/prf0603.Chn',\n  'Filtros/2009/prf/prf0611.Chn',\n  'Filtros/2009/prf/prf0708.Chn',\n  'Filtros/2009/prf/prf0805.Chn',\n  'Filtros/2009/prf/prf0904.Chn',\n  'Filtros/2009/prf/prf0910.Chn',\n  'Filtros/2009/prf/prf1007.Chn',\n  'Filtros/2009/prf/prf1109.Chn',\n  'Filtros/2009/prf/prf1112.Chn',\n  'Filtros/2009/prf/prf1206.Chn',\n  'Filtros/2009/prf/prf1302.Chn',\n  'Filtros/2009/prf/prf1303.Chn',\n  'Filtros/2009/prf/prf1311.Chn',\n  'Filtros/2009/prf/prf1408.Chn',\n  'Filtros/2009/prf/prf1505.chn',\n  'Filtros/2009/prf/prf1601.Chn',\n  'Filtros/2009/prf/prf1610.Chn',\n  'Filtros/2009/prf/prf1704.Chn',\n  'Filtros/2009/prf/prf1707.chn',\n  'Filtros/2009/prf/prf1809.Chn',\n  'Filtros/2009/prf/prf1812.Chn',\n  'Filtros/2009/prf/prf1906.Chn',\n  'Filtros/2009/prf/prf1911.Chn',\n  'Filtros/2009/prf/PRF2002.Chn',\n  'Filtros/2009/prf/prf2003.Chn',\n  'Filtros/2009/prf/prf2108.Chn',\n  'Filtros/2009/prf/prf2205.Chn',\n  'Filtros/2009/prf/prf2301.Chn',\n  'Filtros/2009/prf/prf2310.Chn',\n  'Filtros/2009/prf/prf2312.Chn',\n  'Filtros/2009/prf/prf2404.Chn',\n  'Filtros/2009/prf/prf2407.chn',\n  'Filtros/2009/prf/prf2509.Chn',\n  'Filtros/2009/prf/prf2606.Chn',\n  'Filtros/2009/prf/prf2702.Chn',\n  'Filtros/2009/prf/prf2703.Chn',\n  'Filtros/2009/prf/prf2711.Chn',\n  'Filtros/2009/prf/prf2808.Chn',\n  'Filtros/2009/prf/prf2905.chn',\n  'Filtros/2009/prf/prf3001.Chn',\n  'Filtros/2009/prf/prf3004.Chn',\n  'Filtros/2009/prf/prf3010.Chn',\n  'Filtros/2009/prf/prf3107.Chn',\n  'Filtros/2009/ptp/ptp0304.Chn',\n  'Filtros/2009/ptp/ptp0307.Chn',\n  'Filtros/2009/ptp/ptp0409.Chn',\n  'Filtros/2009/ptp/ptp0412.Chn',\n  'Filtros/2009/ptp/ptp0506.Chn',\n  'Filtros/2009/ptp/ptp0602.Chn',\n  'Filtros/2009/ptp/ptp0603.Chn',\n  'Filtros/2009/ptp/ptp0611.Chn',\n  'Filtros/2009/ptp/ptp0708.Chn',\n  'Filtros/2009/ptp/ptp0805.Chn',\n  'Filtros/2009/ptp/ptp0901.Chn',\n  'Filtros/2009/ptp/ptp0904.Chn',\n  'Filtros/2009/ptp/ptp0910.Chn',\n  'Filtros/2009/ptp/ptp1007.Chn',\n  'Filtros/2009/ptp/ptp1109.Chn',\n  'Filtros/2009/ptp/ptp1112.Chn',\n  'Filtros/2009/ptp/ptp1206.Chn',\n  'Filtros/2009/ptp/ptp1302.Chn',\n  'Filtros/2009/ptp/ptp1303.Chn',\n  'Filtros/2009/ptp/ptp1311.Chn',\n  'Filtros/2009/ptp/ptp1408.Chn',\n  'Filtros/2009/ptp/ptp1505.chn',\n  'Filtros/2009/ptp/ptp1601.Chn',\n  'Filtros/2009/ptp/ptp1610.Chn',\n  'Filtros/2009/ptp/ptp1704.Chn',\n  'Filtros/2009/ptp/ptp1707.chn',\n  'Filtros/2009/ptp/ptp1809.Chn',\n  'Filtros/2009/ptp/ptp1812.Chn',\n  'Filtros/2009/ptp/ptp1906.Chn',\n  'Filtros/2009/ptp/ptp1911.Chn',\n  'Filtros/2009/ptp/ptp2002.Chn',\n  'Filtros/2009/ptp/ptp2003.Chn',\n  'Filtros/2009/ptp/ptp2108.Chn',\n  'Filtros/2009/ptp/ptp2205.Chn',\n  'Filtros/2009/ptp/ptp2301.Chn',\n  'Filtros/2009/ptp/ptp2310.Chn',\n  'Filtros/2009/ptp/ptp2312.Chn',\n  'Filtros/2009/ptp/ptp2404.Chn',\n  'Filtros/2009/ptp/ptp2407.chn',\n  'Filtros/2009/ptp/ptp2509.Chn',\n  'Filtros/2009/ptp/ptp2606.Chn',\n  'Filtros/2009/ptp/ptp2702.Chn',\n  'Filtros/2009/ptp/ptp2703.Chn',\n  'Filtros/2009/ptp/ptp2711.Chn',\n  'Filtros/2009/ptp/ptp2808.Chn',\n  'Filtros/2009/ptp/ptp2905.Chn',\n  'Filtros/2009/ptp/ptp3001.Chn',\n  'Filtros/2009/ptp/ptp3004.Chn',\n  'Filtros/2009/ptp/ptp3010.Chn',\n  'Filtros/2009/ptp/ptp3040.Chn',\n  'Filtros/2009/ptp/ptp3107.Chn',\n  'Filtros/2009/rnp/prn0210.Chn',\n  'Filtros/2009/rnp/prn0304.Chn',\n  'Filtros/2009/rnp/prn0307.Chn',\n  'Filtros/2009/rnp/prn0409.Chn',\n  'Filtros/2009/rnp/prn0412.Chn',\n  'Filtros/2009/rnp/prn0506.Chn',\n  'Filtros/2009/rnp/prn0602.Chn',\n  'Filtros/2009/rnp/prn0603.Chn',\n  'Filtros/2009/rnp/prn0611.Chn',\n  'Filtros/2009/rnp/prn0708.Chn',\n  'Filtros/2009/rnp/PRN0805.Chn',\n  'Filtros/2009/rnp/prn0901.Chn',\n  'Filtros/2009/rnp/prn0904.Chn',\n  'Filtros/2009/rnp/prn0910.Chn',\n  'Filtros/2009/rnp/prn1007.Chn',\n  'Filtros/2009/rnp/prn1109.Chn',\n  'Filtros/2009/rnp/prn1112.Chn',\n  'Filtros/2009/rnp/prn1206.Chn',\n  'Filtros/2009/rnp/prn1302.Chn',\n  'Filtros/2009/rnp/prn1303.Chn',\n  'Filtros/2009/rnp/prn1311.Chn',\n  'Filtros/2009/rnp/prn1408.Chn',\n  'Filtros/2009/rnp/prn1505.Chn',\n  'Filtros/2009/rnp/prn1601.Chn',\n  'Filtros/2009/rnp/prn1610.Chn',\n  'Filtros/2009/rnp/prn1704.Chn',\n  'Filtros/2009/rnp/prn1707.chn',\n  'Filtros/2009/rnp/prn1809.Chn',\n  'Filtros/2009/rnp/prn1812.Chn',\n  'Filtros/2009/rnp/prn1906.Chn',\n  'Filtros/2009/rnp/prn1911.Chn',\n  'Filtros/2009/rnp/prn2002.Chn',\n  'Filtros/2009/rnp/prn2003.Chn',\n  'Filtros/2009/rnp/prn2108.Chn',\n  'Filtros/2009/rnp/prn2205.Chn',\n  'Filtros/2009/rnp/prn2301.Chn',\n  'Filtros/2009/rnp/prn2310.Chn',\n  'Filtros/2009/rnp/prn2312.Chn',\n  'Filtros/2009/rnp/prn2404.Chn',\n  'Filtros/2009/rnp/prn2407.chn',\n  'Filtros/2009/rnp/prn2509.Chn',\n  'Filtros/2009/rnp/prn2606.Chn',\n  'Filtros/2009/rnp/PRN2702.Chn',\n  'Filtros/2009/rnp/prn2703.Chn',\n  'Filtros/2009/rnp/prn2711.Chn',\n  'Filtros/2009/rnp/prn2808.Chn',\n  'Filtros/2009/rnp/prn2905.Chn',\n  'Filtros/2009/rnp/prn3001.Chn',\n  'Filtros/2009/rnp/prn3004.Chn',\n  'Filtros/2009/rnp/prn3010.Chn',\n  'Filtros/2009/rnp/prn3107.Chn',\n  'Filtros/2010/cci/cci 2306.Chn',\n  'Filtros/2010/cci/cci0109.Chn',\n  'Filtros/2010/cci/cci0112.Chn',\n  'Filtros/2010/cci/cci0206.Chn',\n  'Filtros/2010/cci/cci0303.Chn',\n  'Filtros/2010/cci/cci0311.Chn',\n  'Filtros/2010/cci/cci0508.Chn',\n  'Filtros/2010/cci/cci0601.Chn',\n  'Filtros/2010/cci/cci0610.Chn',\n  'Filtros/2010/cci/cci0707.Chn',\n  'Filtros/2010/cci/cci0804.Chn',\n  'Filtros/2010/cci/cci0812.Chn',\n  'Filtros/2010/cci/cci0906.Chn',\n  'Filtros/2010/cci/cci1002.Chn',\n  'Filtros/2010/cci/cci1011.Chn',\n  'Filtros/2010/cci/cci1103.Chn',\n  'Filtros/2010/cci/cci1108.Chn',\n  'Filtros/2010/cci/cci1310.Chn',\n  'Filtros/2010/cci/cci1404.Chn',\n  'Filtros/2010/cci/cci1407.Chn',\n  'Filtros/2010/cci/cci1512.Chn',\n  'Filtros/2010/cci/cci1606.Chn',\n  'Filtros/2010/cci/cci1611.Chn',\n  'Filtros/2010/cci/cci1703.Chn',\n  'Filtros/2010/cci/cci1808.Chn',\n  'Filtros/2010/cci/cci1905.Chn',\n  'Filtros/2010/cci/cci2001.Chn',\n  'Filtros/2010/cci/cci2010.Chn',\n  'Filtros/2010/cci/cci2107.Chn',\n  'Filtros/2010/cci/cci2402.Chn',\n  'Filtros/2010/cci/cci2403.Chn',\n  'Filtros/2010/cci/cci2411.Chn',\n  'Filtros/2010/cci/cci2508.Chn',\n  'Filtros/2010/cci/cci2701.Chn',\n  'Filtros/2010/cci/cci2904.Chn',\n  'Filtros/2010/cci/cci3103.Chn',\n  'Filtros/2010/cci/pci1002.Chn',\n  'Filtros/2010/ces/ces0202.Chn',\n  'Filtros/2010/crf/crf0104.Chn',\n  'Filtros/2010/crf/crf0107.Chn',\n  'Filtros/2010/crf/crf0110.Chn',\n  'Filtros/2010/crf/crf0206.Chn',\n  'Filtros/2010/crf/crf0309.Chn',\n  'Filtros/2010/crf/crf0312.Chn',\n  'Filtros/2010/crf/crf0502.Chn',\n  'Filtros/2010/crf/crf0503.Chn',\n  'Filtros/2010/crf/crf0511.Chn',\n  'Filtros/2010/crf/crf0705.Chn',\n  'Filtros/2010/crf/crf0801.Chn',\n  'Filtros/2010/crf/crf0807.Chn',\n  'Filtros/2010/crf/crf0810.Chn',\n  'Filtros/2010/crf/crf0904.Chn',\n  'Filtros/2010/crf/crf1009.Chn',\n  'Filtros/2010/crf/crf1012.Chn',\n  'Filtros/2010/crf/crf1106.Chn',\n  'Filtros/2010/crf/crf1202.Chn',\n  'Filtros/2010/crf/crf1203.Chn',\n  'Filtros/2010/crf/crf1211.Chn',\n  'Filtros/2010/crf/crf1308.Chn',\n  'Filtros/2010/crf/crf1405.Chn',\n  'Filtros/2010/crf/crf1501.Chn',\n  'Filtros/2010/crf/crf1510.Chn',\n  'Filtros/2010/crf/crf1604.Chn',\n  'Filtros/2010/crf/crf1607.Chn',\n  'Filtros/2010/crf/crf1709.Chn',\n  'Filtros/2010/crf/crf1712.Chn',\n  'Filtros/2010/crf/crf1806.Chn',\n  'Filtros/2010/crf/crf1902.Chn',\n  'Filtros/2010/crf/crf1903.Chn',\n  'Filtros/2010/crf/crf1911.Chn',\n  'Filtros/2010/crf/crf2008.Chn',\n  'Filtros/2010/crf/crf2105.Chn',\n  'Filtros/2010/crf/crf2201.Chn',\n  'Filtros/2010/crf/crf2210.Chn',\n  'Filtros/2010/crf/crf2304.Chn',\n  'Filtros/2010/crf/crf2307.Chn',\n  'Filtros/2010/crf/crf2312.Chn',\n  'Filtros/2010/crf/crf2406.Chn',\n  'Filtros/2010/crf/crf2409.Chn',\n  'Filtros/2010/crf/crf2602.Chn',\n  'Filtros/2010/crf/crf2603.Chn',\n  'Filtros/2010/crf/crf2611.Chn',\n  'Filtros/2010/crf/crf2708.Chn',\n  'Filtros/2010/crf/crf2805.Chn',\n  'Filtros/2010/crf/crf2901.Chn',\n  'Filtros/2010/crf/crf2910.Chn',\n  'Filtros/2010/crf/crf3004.Chn',\n  'Filtros/2010/crf/crf3007.Chn',\n  'Filtros/2010/crf/crf3012.Chn',\n  'Filtros/2010/crn/crf0608.Chn',\n  'Filtros/2010/crn/crn0104.Chn',\n  'Filtros/2010/crn/crn0107.Chn',\n  'Filtros/2010/crn/crn0110.Chn',\n  'Filtros/2010/crn/crn0206.Chn',\n  'Filtros/2010/crn/crn0309.Chn',\n  'Filtros/2010/crn/crn0312.Chn',\n  'Filtros/2010/crn/crn0502.Chn',\n  'Filtros/2010/crn/crn0503.Chn',\n  'Filtros/2010/crn/crn0511.Chn',\n  'Filtros/2010/crn/crn0608.Chn',\n  'Filtros/2010/crn/crn0705.Chn',\n  'Filtros/2010/crn/crn0801.Chn',\n  'Filtros/2010/crn/crn0807.Chn',\n  'Filtros/2010/crn/crn0810.Chn',\n  'Filtros/2010/crn/crn0904.Chn',\n  'Filtros/2010/crn/crn1009.Chn',\n  'Filtros/2010/crn/crn1012.Chn',\n  'Filtros/2010/crn/crn1106.Chn',\n  'Filtros/2010/crn/crn1202.Chn',\n  'Filtros/2010/crn/crn1203.Chn',\n  'Filtros/2010/crn/crn1211.Chn',\n  'Filtros/2010/crn/crn1308.Chn',\n  'Filtros/2010/crn/crn1405.Chn',\n  'Filtros/2010/crn/crn1501.Chn',\n  'Filtros/2010/crn/crn1510.Chn',\n  'Filtros/2010/crn/crn1601.Chn',\n  'Filtros/2010/crn/crn1604.Chn',\n  'Filtros/2010/crn/crn1607.Chn',\n  'Filtros/2010/crn/crn1709.Chn',\n  'Filtros/2010/crn/crn1712.Chn',\n  'Filtros/2010/crn/crn1902.Chn',\n  'Filtros/2010/crn/crn1903.Chn',\n  'Filtros/2010/crn/crn1911.Chn',\n  'Filtros/2010/crn/crn2008.Chn',\n  'Filtros/2010/crn/crn2105.Chn',\n  'Filtros/2010/crn/crn2201.Chn',\n  'Filtros/2010/crn/crn2210.Chn',\n  'Filtros/2010/crn/crn2304.Chn',\n  'Filtros/2010/crn/crn2307.Chn',\n  'Filtros/2010/crn/crn2312.Chn',\n  'Filtros/2010/crn/crn2406.Chn',\n  'Filtros/2010/crn/crn2409.Chn',\n  'Filtros/2010/crn/crn2602.Chn',\n  'Filtros/2010/crn/crn2603.Chn',\n  'Filtros/2010/crn/crn2611.Chn',\n  'Filtros/2010/crn/crn2708.Chn',\n  'Filtros/2010/crn/crn2805.Chn',\n  'Filtros/2010/crn/crn2901.Chn',\n  'Filtros/2010/crn/crn2910.Chn',\n  'Filtros/2010/crn/crn3004.Chn',\n  'Filtros/2010/crn/crn3007.Chn',\n  'Filtros/2010/crn/crn3012.Chn',\n  'Filtros/2010/ctp/cpt0309.Chn',\n  'Filtros/2010/ctp/cpt1806.Chn',\n  'Filtros/2010/ctp/ctp0107.Chn',\n  'Filtros/2010/ctp/ctp0110.Chn',\n  'Filtros/2010/ctp/ctp0206.Chn',\n  'Filtros/2010/ctp/ctp0312.Chn',\n  'Filtros/2010/ctp/ctp0502.Chn',\n  'Filtros/2010/ctp/ctp0511.Chn',\n  'Filtros/2010/ctp/ctp0608.Chn',\n  'Filtros/2010/ctp/ctp0705.Chn',\n  'Filtros/2010/ctp/ctp0801.Chn',\n  'Filtros/2010/ctp/ctp0807.Chn',\n  'Filtros/2010/ctp/ctp0810.Chn',\n  'Filtros/2010/ctp/ctp0903.Chn',\n  'Filtros/2010/ctp/ctp0904.Chn',\n  'Filtros/2010/ctp/ctp1009.Chn',\n  'Filtros/2010/ctp/ctp1012.Chn',\n  'Filtros/2010/ctp/ctp1106.Chn',\n  'Filtros/2010/ctp/ctp1202.Chn',\n  'Filtros/2010/ctp/ctp1203.Chn',\n  'Filtros/2010/ctp/ctp1211.Chn',\n  'Filtros/2010/ctp/ctp1211a.Chn',\n  'Filtros/2010/ctp/ctp1308.Chn',\n  'Filtros/2010/ctp/ctp1405.Chn',\n  'Filtros/2010/ctp/ctp1501.Chn',\n  'Filtros/2010/ctp/ctp1510.Chn',\n  'Filtros/2010/ctp/ctp1604.Chn',\n  'Filtros/2010/ctp/ctp1607.Chn',\n  'Filtros/2010/ctp/ctp1709.Chn',\n  'Filtros/2010/ctp/ctp1712.Chn',\n  'Filtros/2010/ctp/ctp1902.Chn',\n  'Filtros/2010/ctp/ctp1903.Chn',\n  'Filtros/2010/ctp/ctp1911.Chn',\n  'Filtros/2010/ctp/ctp2008.Chn',\n  'Filtros/2010/ctp/ctp2105.Chn',\n  'Filtros/2010/ctp/ctp2201.Chn',\n  'Filtros/2010/ctp/ctp2210.Chn',\n  'Filtros/2010/ctp/ctp2304.Chn',\n  'Filtros/2010/ctp/ctp2307.Chn',\n  'Filtros/2010/ctp/ctp2312.Chn',\n  'Filtros/2010/ctp/ctp2406.Chn',\n  'Filtros/2010/ctp/ctp2409.Chn',\n  'Filtros/2010/ctp/ctp2602.Chn',\n  'Filtros/2010/ctp/ctp2603.Chn',\n  'Filtros/2010/ctp/ctp2611.Chn',\n  'Filtros/2010/ctp/ctp2708.Chn',\n  'Filtros/2010/ctp/ctp2805.Chn',\n  'Filtros/2010/ctp/ctp2901.Chn',\n  'Filtros/2010/ctp/ctp2910.Chn',\n  'Filtros/2010/ctp/ctp3004.Chn',\n  'Filtros/2010/ctp/ctp3007.Chn',\n  'Filtros/2010/ctp/ctp3012.Chn',\n  'Filtros/2010/pci/pci0109.Chn',\n  'Filtros/2010/pci/pci0112.Chn',\n  'Filtros/2010/pci/pci0206.Chn',\n  'Filtros/2010/pci/pci0303.Chn',\n  'Filtros/2010/pci/pci0311.Chn',\n  'Filtros/2010/pci/pci0508.Chn',\n  'Filtros/2010/pci/pci0601.Chn',\n  'Filtros/2010/pci/pci0610.Chn',\n  'Filtros/2010/pci/pci0707.Chn',\n  'Filtros/2010/pci/pci0804.Chn',\n  'Filtros/2010/pci/pci0812.Chn',\n  'Filtros/2010/pci/pci0906.Chn',\n  'Filtros/2010/pci/pci1011.Chn',\n  'Filtros/2010/pci/pci1103.Chn',\n  'Filtros/2010/pci/pci1108.Chn',\n  'Filtros/2010/pci/pci1310.Chn',\n  'Filtros/2010/pci/pci1404.Chn',\n  'Filtros/2010/pci/pci1407.Chn',\n  'Filtros/2010/pci/pci1512.Chn',\n  'Filtros/2010/pci/pci1606.Chn',\n  'Filtros/2010/pci/pci1611.Chn',\n  'Filtros/2010/pci/pci1703.Chn',\n  'Filtros/2010/pci/pci1808.Chn',\n  'Filtros/2010/pci/pci1905.Chn',\n  'Filtros/2010/pci/pci2001.Chn',\n  'Filtros/2010/pci/pci2010.Chn',\n  'Filtros/2010/pci/pci2107.Chn',\n  'Filtros/2010/pci/pci2306.Chn',\n  'Filtros/2010/pci/pci2402.Chn',\n  'Filtros/2010/pci/pci2403.Chn',\n  'Filtros/2010/pci/pci2411.Chn',\n  'Filtros/2010/pci/pci2508.Chn',\n  'Filtros/2010/pci/pci2701.Chn',\n  'Filtros/2010/pci/pci2904.Chn',\n  'Filtros/2010/pci/pci3103.Chn',\n  'Filtros/2010/prf/prf 0608.Chn',\n  'Filtros/2010/prf/prf0104.Chn',\n  'Filtros/2010/prf/prf0107.Chn',\n  'Filtros/2010/prf/prf0110.Chn',\n  'Filtros/2010/prf/prf0206.Chn',\n  'Filtros/2010/prf/prf0309.Chn',\n  'Filtros/2010/prf/prf0312.Chn',\n  'Filtros/2010/prf/prf0502.Chn',\n  'Filtros/2010/prf/prf0503.Chn',\n  'Filtros/2010/prf/prf0705.Chn',\n  'Filtros/2010/prf/prf0801.Chn',\n  'Filtros/2010/prf/prf0807.Chn',\n  'Filtros/2010/prf/prf0810.Chn',\n  'Filtros/2010/prf/prf0904.Chn',\n  'Filtros/2010/prf/prf1009.Chn',\n  'Filtros/2010/prf/PRF1012.Chn',\n  'Filtros/2010/prf/prf1106.Chn',\n  'Filtros/2010/prf/prf1202.Chn',\n  'Filtros/2010/prf/prf1203.Chn',\n  'Filtros/2010/prf/prf1308.Chn',\n  'Filtros/2010/prf/prf1405.Chn',\n  'Filtros/2010/prf/prf1510.Chn',\n  'Filtros/2010/prf/prf1604.Chn',\n  'Filtros/2010/prf/prf1607.Chn',\n  'Filtros/2010/prf/prf1709.Chn',\n  'Filtros/2010/prf/prf1712.Chn',\n  'Filtros/2010/prf/prf1806.Chn',\n  'Filtros/2010/prf/prf1902.Chn',\n  'Filtros/2010/prf/prf1903.Chn',\n  'Filtros/2010/prf/prf2105.Chn',\n  'Filtros/2010/prf/prf2201.Chn',\n  'Filtros/2010/prf/prf2307.Chn',\n  'Filtros/2010/prf/prf2312.Chn',\n  'Filtros/2010/prf/prf2406.Chn',\n  'Filtros/2010/prf/prf2409.Chn',\n  'Filtros/2010/prf/prf2602.Chn',\n  'Filtros/2010/prf/prf2603.Chn',\n  'Filtros/2010/prf/prf2611.Chn',\n  'Filtros/2010/prf/prf2708.Chn',\n  'Filtros/2010/prf/prf2805.Chn',\n  'Filtros/2010/prf/prf2901.Chn',\n  'Filtros/2010/prf/prf3004.Chn',\n  'Filtros/2010/prf/prf3007.Chn',\n  'Filtros/2010/prf/prf3012.Chn',\n  'Filtros/2010/ptp/ptp0107.Chn',\n  'Filtros/2010/ptp/ptp0110.Chn',\n  'Filtros/2010/ptp/ptp0206.Chn',\n  'Filtros/2010/ptp/ptp0309.Chn',\n  'Filtros/2010/ptp/ptp0312.Chn',\n  'Filtros/2010/ptp/ptp0502.Chn',\n  'Filtros/2010/ptp/ptp0503.Chn',\n  'Filtros/2010/ptp/ptp0608.Chn',\n  'Filtros/2010/ptp/ptp0705.Chn',\n  'Filtros/2010/ptp/ptp0801.Chn',\n  'Filtros/2010/ptp/ptp0807.Chn',\n  'Filtros/2010/ptp/ptp0810.Chn',\n  'Filtros/2010/ptp/ptp0904.Chn',\n  'Filtros/2010/ptp/ptp1009.Chn',\n  'Filtros/2010/ptp/ptp1012.Chn',\n  'Filtros/2010/ptp/ptp1106.Chn',\n  'Filtros/2010/ptp/ptp1202.Chn',\n  'Filtros/2010/ptp/ptp1203.Chn',\n  'Filtros/2010/ptp/ptp1308.Chn',\n  'Filtros/2010/ptp/ptp1405.Chn',\n  'Filtros/2010/ptp/ptp1501.Chn',\n  'Filtros/2010/ptp/ptp1604.Chn',\n  'Filtros/2010/ptp/ptp1607.Chn',\n  'Filtros/2010/ptp/ptp1709.Chn',\n  'Filtros/2010/ptp/ptp1712.Chn',\n  'Filtros/2010/ptp/ptp1902.Chn',\n  'Filtros/2010/ptp/ptp1903.Chn',\n  'Filtros/2010/ptp/ptp2008.Chn',\n  'Filtros/2010/ptp/ptp2105.Chn',\n  'Filtros/2010/ptp/ptp2201.Chn',\n  'Filtros/2010/ptp/ptp2307.Chn',\n  'Filtros/2010/ptp/ptp2312.Chn',\n  'Filtros/2010/ptp/ptp2406.Chn',\n  'Filtros/2010/ptp/ptp2409.Chn',\n  'Filtros/2010/ptp/ptp2603.Chn',\n  'Filtros/2010/ptp/ptp2611.Chn',\n  'Filtros/2010/ptp/ptp2708.Chn',\n  'Filtros/2010/ptp/ptp2805.Chn',\n  'Filtros/2010/ptp/ptp2901.Chn',\n  'Filtros/2010/ptp/ptp3004.Chn',\n  'Filtros/2010/ptp/ptp3007.Chn',\n  'Filtros/2010/ptp/ptp3012.Chn',\n  'Filtros/2010/rnp/prn0104.Chn',\n  'Filtros/2010/rnp/prn0107.Chn',\n  'Filtros/2010/rnp/prn0110.Chn',\n  'Filtros/2010/rnp/prn0206.Chn',\n  'Filtros/2010/rnp/prn0309.Chn',\n  'Filtros/2010/rnp/prn0312.Chn',\n  'Filtros/2010/rnp/prn0502.Chn',\n  'Filtros/2010/rnp/prn0503.Chn',\n  'Filtros/2010/rnp/prn0608.Chn',\n  'Filtros/2010/rnp/prn0705.Chn',\n  'Filtros/2010/rnp/prn0801.Chn',\n  'Filtros/2010/rnp/prn0807.Chn',\n  'Filtros/2010/rnp/prn0904.Chn',\n  'Filtros/2010/rnp/prn1009.Chn',\n  'Filtros/2010/rnp/prn1012.Chn',\n  'Filtros/2010/rnp/prn1106.Chn',\n  'Filtros/2010/rnp/prn1202.Chn',\n  'Filtros/2010/rnp/prn1203.Chn',\n  'Filtros/2010/rnp/prn1308.Chn',\n  'Filtros/2010/rnp/prn1405.Chn',\n  'Filtros/2010/rnp/prn1501.Chn',\n  'Filtros/2010/rnp/prn1604.Chn',\n  'Filtros/2010/rnp/prn1607.Chn',\n  'Filtros/2010/rnp/prn1709.Chn',\n  'Filtros/2010/rnp/prn1712.Chn',\n  'Filtros/2010/rnp/prn1806.Chn',\n  'Filtros/2010/rnp/prn1902.Chn',\n  'Filtros/2010/rnp/prn1903.Chn',\n  'Filtros/2010/rnp/PRN2008.Chn',\n  'Filtros/2010/rnp/prn2105.Chn',\n  'Filtros/2010/rnp/prn2201.Chn',\n  'Filtros/2010/rnp/prn2307.Chn',\n  'Filtros/2010/rnp/prn2312.Chn',\n  'Filtros/2010/rnp/prn2406.Chn',\n  'Filtros/2010/rnp/prn2409.Chn',\n  'Filtros/2010/rnp/prn2602.Chn',\n  'Filtros/2010/rnp/prn2603.Chn',\n  'Filtros/2010/rnp/prn2611.Chn',\n  'Filtros/2010/rnp/prn2708.Chn',\n  'Filtros/2010/rnp/prn2805.Chn',\n  'Filtros/2010/rnp/prn2901.Chn',\n  'Filtros/2010/rnp/prn3004.Chn',\n  'Filtros/2010/rnp/prn3007.Chn',\n  'Filtros/2010/rnp/prn3012.Chn',\n  'Filtros/2011/cci/cci0106.Chn',\n  'Filtros/2011/cci/cci0203.Chn',\n  'Filtros/2011/cci/cci0302.Chn',\n  'Filtros/2011/cci/cci0308.Chn',\n  'Filtros/2011/cci/cci0311.Chn',\n  'Filtros/2011/cci/cci0405.Chn',\n  'Filtros/2011/cci/cci0501.Chn',\n  'Filtros/2011/cci/cci0510.Chn',\n  'Filtros/2011/cci/cci0604.Chn',\n  'Filtros/2011/cci/cci0607.Chn',\n  'Filtros/2011/cci/cci0712.Chn',\n  'Filtros/2011/cci/cci0806.Chn',\n  'Filtros/2011/cci/cci0902.Chn',\n  'Filtros/2011/cci/cci1008.Chn',\n  'Filtros/2011/cci/cci1011.Chn',\n  'Filtros/2011/cci/cci1301.Chn',\n  'Filtros/2011/cci/cci1304.Chn',\n  'Filtros/2011/cci/cci1307.Chn',\n  'Filtros/2011/cci/cci1409.Chn',\n  'Filtros/2011/cci/cci1412.Chn',\n  'Filtros/2011/cci/cci1506.Chn',\n  'Filtros/2011/cci/cci1602.Chn',\n  'Filtros/2011/cci/cci1611.Chn',\n  'Filtros/2011/cci/CCI1703.Chn',\n  'Filtros/2011/cci/cci1708.Chn',\n  'Filtros/2011/cci/cci1901.Chn',\n  'Filtros/2011/cci/cci1910.Chn',\n  'Filtros/2011/cci/cci2007.Chn',\n  'Filtros/2011/cci/cci2206.Chn',\n  'Filtros/2011/cci/cci2209.Chn',\n  'Filtros/2011/cci/cci2212.Chn',\n  'Filtros/2011/cci/cci2302.Chn',\n  'Filtros/2011/cci/cci2311.Chn',\n  'Filtros/2011/cci/cci2408.Chn',\n  'Filtros/2011/cci/cci2505.Chn',\n  'Filtros/2011/cci/cci2601.Chn',\n  'Filtros/2011/cci/cci2610.Chn',\n  'Filtros/2011/cci/cci2704.Chn',\n  'Filtros/2011/cci/cci2707.Chn',\n  'Filtros/2011/cci/cci2809.Chn',\n  'Filtros/2011/cci/cci2906.Chn',\n  'Filtros/2011/cci/cci3003.Chn',\n  'Filtros/2011/cci/cci3108.Chn',\n  'Filtros/2011/crf/crf0104.Chn',\n  'Filtros/2011/crf/crf0107.Chn',\n  'Filtros/2011/crf/crf0209.Chn',\n  'Filtros/2011/crf/crf0212.Chn',\n  'Filtros/2011/crf/crf0306.Chn',\n  'Filtros/2011/crf/crf0402.Chn',\n  'Filtros/2011/crf/crf0403.Chn',\n  'Filtros/2011/crf/crf0411.Chn',\n  'Filtros/2011/crf/crf0508.Chn',\n  'Filtros/2011/crf/crf0605.Chn',\n  'Filtros/2011/crf/crf0701.Chn',\n  'Filtros/2011/crf/crf0710.Chn',\n  'Filtros/2011/crf/crf0804.Chn',\n  'Filtros/2011/crf/crf0909.Chn',\n  'Filtros/2011/crf/crf0912.Chn',\n  'Filtros/2011/crf/crf1006.Chn',\n  'Filtros/2011/crf/crf1102.Chn',\n  'Filtros/2011/crf/crf1103.Chn',\n  'Filtros/2011/crf/crf1111.Chn',\n  'Filtros/2011/crf/crf1208.Chn',\n  'Filtros/2011/crf/crf1305.Chn',\n  'Filtros/2011/crf/crf1401.Chn',\n  'Filtros/2011/crf/crf1410.Chn',\n  'Filtros/2011/crf/crf1504.Chn',\n  'Filtros/2011/crf/crf1507.Chn',\n  'Filtros/2011/crf/crf1609.Chn',\n  'Filtros/2011/crf/crf1612.Chn',\n  'Filtros/2011/crf/crf1706.Chn',\n  'Filtros/2011/crf/crf1802.Chn',\n  'Filtros/2011/crf/crf1803.Chn',\n  'Filtros/2011/crf/crf1811.Chn',\n  'Filtros/2011/crf/crf1908.Chn',\n  'Filtros/2011/crf/crf2005.Chn',\n  'Filtros/2011/crf/crf2101.Chn',\n  'Filtros/2011/crf/crf2110.Chn',\n  'Filtros/2011/crf/crf2207.Chn',\n  'Filtros/2011/crf/crf2309.Chn',\n  'Filtros/2011/crf/crf2312.Chn',\n  'Filtros/2011/crf/crf2406.Chn',\n  'Filtros/2011/crf/crf2502.Chn',\n  'Filtros/2011/crf/crf2503.Chn',\n  'Filtros/2011/crf/crf2511.Chn',\n  'Filtros/2011/crf/crf2608.Chn',\n  'Filtros/2011/crf/crf2705.Chn',\n  'Filtros/2011/crf/crf2801.Chn',\n  'Filtros/2011/crf/crf2810.Chn',\n  'Filtros/2011/crf/crf2904.Chn',\n  'Filtros/2011/crf/crf2907.Chn',\n  'Filtros/2011/crf/crf2912.Chn',\n  'Filtros/2011/crf/crf3009.Chn',\n  'Filtros/2011/crn/crn0104.Chn',\n  'Filtros/2011/crn/crn0107-reco.CHN',\n  'Filtros/2011/crn/crn0107.Chn',\n  'Filtros/2011/crn/crn0209.Chn',\n  'Filtros/2011/crn/crn0212.Chn',\n  'Filtros/2011/crn/crn0306.Chn',\n  'Filtros/2011/crn/crn0402.Chn',\n  'Filtros/2011/crn/crn0403.Chn',\n  'Filtros/2011/crn/crn0411.Chn',\n  'Filtros/2011/crn/crn0508.Chn',\n  'Filtros/2011/crn/crn0701.Chn',\n  'Filtros/2011/crn/crn0710.Chn',\n  'Filtros/2011/crn/crn0804.Chn',\n  'Filtros/2011/crn/crn0909.Chn',\n  'Filtros/2011/crn/crn0912.Chn',\n  'Filtros/2011/crn/crn1006.Chn',\n  'Filtros/2011/crn/crn1102.Chn',\n  'Filtros/2011/crn/crn1103.Chn',\n  'Filtros/2011/crn/crn1111.Chn',\n  'Filtros/2011/crn/crn1208.Chn',\n  'Filtros/2011/crn/crn1305.Chn',\n  'Filtros/2011/crn/crn1401.Chn',\n  'Filtros/2011/crn/crn1410.Chn',\n  'Filtros/2011/crn/crn1504.Chn',\n  'Filtros/2011/crn/crn1507.Chn',\n  'Filtros/2011/crn/crn1609.Chn',\n  'Filtros/2011/crn/crn1612.Chn',\n  'Filtros/2011/crn/crn1706.Chn',\n  'Filtros/2011/crn/crn1802.Chn',\n  'Filtros/2011/crn/crn1803.Chn',\n  'Filtros/2011/crn/crn1811.Chn',\n  'Filtros/2011/crn/crn1908.Chn',\n  'Filtros/2011/crn/crn2005.Chn',\n  'Filtros/2011/crn/crn2101.Chn',\n  'Filtros/2011/crn/crn2110.Chn',\n  'Filtros/2011/crn/crn2207.Chn',\n  'Filtros/2011/crn/crn2309.Chn',\n  'Filtros/2011/crn/crn2312.Chn',\n  'Filtros/2011/crn/crn2406.Chn',\n  'Filtros/2011/crn/crn2502.Chn',\n  'Filtros/2011/crn/crn2503.Chn',\n  'Filtros/2011/crn/crn2511.Chn',\n  'Filtros/2011/crn/crn2608.Chn',\n  'Filtros/2011/crn/crn2705.Chn',\n  'Filtros/2011/crn/crn2801.Chn',\n  'Filtros/2011/crn/crn2810.Chn',\n  'Filtros/2011/crn/crn2904.Chn',\n  'Filtros/2011/crn/crn2907.Chn',\n  'Filtros/2011/crn/crn2912.Chn',\n  'Filtros/2011/crn/crn3009.Chn',\n  'Filtros/2011/ctp/ctp0104.Chn',\n  'Filtros/2011/ctp/ctp0107.Chn',\n  'Filtros/2011/ctp/ctp0209.Chn',\n  'Filtros/2011/ctp/ctp0212.Chn',\n  'Filtros/2011/ctp/ctp0306.Chn',\n  'Filtros/2011/ctp/ctp0402.Chn',\n  'Filtros/2011/ctp/ctp0403.Chn',\n  ...],\n 'fil_lst': [WindowsPath('C:/Users/mmaduar/Nextcloud/Genie_Transfer/almera22/det_c/iaeaqcb.chn'),\n  WindowsPath('C:/Users/mmaduar/Nextcloud/Genie_Transfer/almera22/det_c/iaeaqcc.chn'),\n  WindowsPath('C:/Users/mmaduar/Nextcloud/Genie_Transfer/almera22/det_c/IAEASW1B.chn'),\n  WindowsPath('C:/Users/mmaduar/Nextcloud/Genie_Transfer/almera22/det_c/iaeaw2a.chn'),\n  WindowsPath('C:/Users/mmaduar/Nextcloud/Genie_Transfer/almera22/eur_g_p_xtraf/Spiked water Sample Code 01A  Det G.Chn'),\n  WindowsPath('C:/Users/mmaduar/Nextcloud/Genie_Transfer/almera22/eur_g_p_xtraf/Spiked water Sample Code 01A  Det P.Chn'),\n  WindowsPath('C:/Users/mmaduar/Nextcloud/Genie_Transfer/almera22/eur_g_p_xtraf/Spiked water Sample Code 01B Det Eurisys.Chn'),\n  WindowsPath('C:/Users/mmaduar/Nextcloud/Genie_Transfer/almera22/eur_g_p_xtraf/Spiked water Sample Code 01B XtRa.Chn'),\n  WindowsPath('C:/Users/mmaduar/Nextcloud/Genie_Transfer/almera22/eur_g_p_xtraf/Spiked water Sample Code 01C Eurisys.Chn'),\n  WindowsPath('C:/Users/mmaduar/Nextcloud/Genie_Transfer/almera22/eur_g_p_xtraf/Spiked water Sample Code 02A  Det P.Chn'),\n  WindowsPath('C:/Users/mmaduar/Nextcloud/Genie_Transfer/almera22/eur_g_p_xtraf/Spiked water Sample Code 02A  Eurisusys.Chn'),\n  WindowsPath('C:/Users/mmaduar/Nextcloud/Genie_Transfer/almera22/eur_g_p_xtraf/Spiked water Sample Code 02C Det G.Chn'),\n  WindowsPath('C:/Users/mmaduar/Nextcloud/Genie_Transfer/almera22/eur_g_p_xtraf/Spiked water Sample code 03A Det P.Chn'),\n  WindowsPath('C:/Users/mmaduar/Nextcloud/Genie_Transfer/almera22/eur_g_p_xtraf/Spiked water Sample Code 03B Det G.Chn'),\n  WindowsPath('C:/Users/mmaduar/Nextcloud/Genie_Transfer/almera22/eur_g_p_xtraf/Spiked water Sample Code 03C Det Eurisys.Chn'),\n  WindowsPath('C:/Users/mmaduar/Nextcloud/Genie_Transfer/almera22/eur_g_p_xtraf/Spiked water Sample Code 03C XtRa.Chn'),\n  WindowsPath('C:/Users/mmaduar/Nextcloud/Genie_Transfer/almera22/eur_g_p_xtraf/Spiked water Sample code QCA det XtRa.Chn'),\n  WindowsPath('C:/Users/mmaduar/Nextcloud/Genie_Transfer/almera22/eur_g_p_xtraf/Spiked water Sample Code QCB Det Eurisys.Chn'),\n  WindowsPath('C:/Users/mmaduar/Nextcloud/Genie_Transfer/almera22/eur_g_p_xtraf/Spiked water Sample Code QCB Det G.Chn'),\n  WindowsPath('C:/Users/mmaduar/Nextcloud/Genie_Transfer/almera22/eur_g_p_xtraf/Spiked water Sample Code QCB Det XTRa.Chn'),\n  WindowsPath('C:/Users/mmaduar/Nextcloud/Genie_Transfer/almera22/eur_g_p_xtraf/Spiked water Sample Code QCC Det P.Chn'),\n  WindowsPath('C:/Users/mmaduar/Nextcloud/Genie_Transfer/almera22/IAEA-TERC-2022/pt2022_spectrum_exercise/PT2022_Spectrum_Exercise/PT2022-Calibration_Standard/Background-2017/BGR-BBE-17D.CHN'),\n  WindowsPath('C:/Users/mmaduar/Nextcloud/Genie_Transfer/almera22/IAEA-TERC-2022/pt2022_spectrum_exercise/PT2022_Spectrum_Exercise/PT2022-Calibration_Standard/BBE_NPL-A170584-D1/BBE_NPL-A170584-D1.CHN'),\n  WindowsPath('C:/Users/mmaduar/Nextcloud/Genie_Transfer/almera22/IAEA-TERC-2022/pt2022_spectrum_exercise/PT2022_Spectrum_Exercise/PT2022_Spectra/Background-2021/BGR-BBE-21D.CHN'),\n  WindowsPath('C:/Users/mmaduar/Nextcloud/Genie_Transfer/almera22/IAEA-TERC-2022/pt2022_spectrum_exercise/PT2022_Spectrum_Exercise/PT2022_Spectra/BBE22032_PT2022/BBE22032_PT2022.CHN'),\n  WindowsPath('C:/Users/mmaduar/Nextcloud/Genie_Transfer/almera22/IAEA-TERC-2022/pt2022_spectrum_exercise/PT2022_Spectrum_Exercise/PT2022_Spectra/BBE_P105_Blank/BBE_P105_Blank.CHN'),\n  WindowsPath('C:/Users/mmaduar/Nextcloud/Genie_Transfer/almera22/user2023/GIG/CRM_5A.Chn'),\n  WindowsPath('C:/Users/mmaduar/Nextcloud/Genie_Transfer/almera22/user2023/GIG/CRM_7.Chn'),\n  WindowsPath('C:/Users/mmaduar/Nextcloud/Genie_Transfer/almera22/user2023/IAEA2022/IAEA-TERC-2022-01_02;SampleCodeQCA-SpikedWater 100,70g (GMX).Chn'),\n  WindowsPath('C:/Users/mmaduar/Nextcloud/Genie_Transfer/almera22/user2023/IAEA2022/Sample Code 03B Pop top.Chn'),\n  WindowsPath('C:/Users/mmaduar/Nextcloud/Genie_Transfer/almera22/user2023/IAEA2022/Sample Code QCA Pop top.Chn'),\n  WindowsPath('C:/Users/mmaduar/Nextcloud/Genie_Transfer/almera22/user2023/IAEA2022/Sample Code QCC Pop top.Chn'),\n  WindowsPath('C:/Users/mmaduar/Nextcloud/Genie_Transfer/almera22/user2023/SI2022/BGTESTE.Chn'),\n  WindowsPath('C:/Users/mmaduar/Nextcloud/Genie_Transfer/almera22/user2023/SI2022/FRASCO ORIGINAL SI084_22.Chn'),\n  WindowsPath('C:/Users/mmaduar/Nextcloud/Genie_Transfer/almera22/user2023/SI2022/SI00822.Chn'),\n  WindowsPath('C:/Users/mmaduar/Nextcloud/Genie_Transfer/almera22/user2023/SI2022/SI00922.Chn'),\n  WindowsPath('C:/Users/mmaduar/Nextcloud/Genie_Transfer/almera22/user2023/SI2022/SI01622.Chn'),\n  WindowsPath('C:/Users/mmaduar/Nextcloud/Genie_Transfer/almera22/user2023/SI2022/SI01722.Chn'),\n  WindowsPath('C:/Users/mmaduar/Nextcloud/Genie_Transfer/almera22/user2023/SI2022/SI01822.Chn'),\n  WindowsPath('C:/Users/mmaduar/Nextcloud/Genie_Transfer/almera22/user2023/SI2022/SI01922.Chn'),\n  WindowsPath('C:/Users/mmaduar/Nextcloud/Genie_Transfer/almera22/user2023/SI2022/SI02022.Chn'),\n  WindowsPath('C:/Users/mmaduar/Nextcloud/Genie_Transfer/almera22/user2023/SI2022/SI02522.Chn'),\n  WindowsPath('C:/Users/mmaduar/Nextcloud/Genie_Transfer/almera22/user2023/SI2022/SI02622.Chn'),\n  WindowsPath('C:/Users/mmaduar/Nextcloud/Genie_Transfer/almera22/user2023/SI2022/SI02722.Chn'),\n  WindowsPath('C:/Users/mmaduar/Nextcloud/Genie_Transfer/almera22/user2023/SI2022/SI02922.Chn'),\n  WindowsPath('C:/Users/mmaduar/Nextcloud/Genie_Transfer/almera22/user2023/SI2022/SI03022.Chn'),\n  WindowsPath('C:/Users/mmaduar/Nextcloud/Genie_Transfer/almera22/user2023/SI2022/SI03122.Chn'),\n  WindowsPath('C:/Users/mmaduar/Nextcloud/Genie_Transfer/almera22/user2023/SI2022/SI03222.Chn'),\n  WindowsPath('C:/Users/mmaduar/Nextcloud/Genie_Transfer/almera22/user2023/SI2022/SI03322.Chn'),\n  WindowsPath('C:/Users/mmaduar/Nextcloud/Genie_Transfer/almera22/user2023/SI2022/SI03422.Chn'),\n  WindowsPath('C:/Users/mmaduar/Nextcloud/Genie_Transfer/almera22/user2023/SI2022/SI03522.Chn'),\n  WindowsPath('C:/Users/mmaduar/Nextcloud/Genie_Transfer/almera22/user2023/SI2022/SI03722.Chn'),\n  WindowsPath('C:/Users/mmaduar/Nextcloud/Genie_Transfer/almera22/user2023/SI2022/SI04022 (cont em 31-05-22).Chn'),\n  WindowsPath('C:/Users/mmaduar/Nextcloud/Genie_Transfer/almera22/user2023/SI2022/SI04422.Chn'),\n  WindowsPath('C:/Users/mmaduar/Nextcloud/Genie_Transfer/almera22/user2023/SI2022/SI04722.Chn'),\n  WindowsPath('C:/Users/mmaduar/Nextcloud/Genie_Transfer/almera22/user2023/SI2022/SI05122.Chn'),\n  WindowsPath('C:/Users/mmaduar/Nextcloud/Genie_Transfer/almera22/user2023/SI2022/SI05322.Chn'),\n  WindowsPath('C:/Users/mmaduar/Nextcloud/Genie_Transfer/almera22/user2023/SI2022/SI05522.Chn'),\n  WindowsPath('C:/Users/mmaduar/Nextcloud/Genie_Transfer/almera22/user2023/SI2022/SI05622.Chn'),\n  WindowsPath('C:/Users/mmaduar/Nextcloud/Genie_Transfer/almera22/user2023/SI2022/SI05822.Chn'),\n  WindowsPath('C:/Users/mmaduar/Nextcloud/Genie_Transfer/almera22/user2023/SI2022/SI05922.Chn'),\n  WindowsPath('C:/Users/mmaduar/Nextcloud/Genie_Transfer/almera22/user2023/SI2022/SI06122.Chn'),\n  WindowsPath('C:/Users/mmaduar/Nextcloud/Genie_Transfer/almera22/user2023/SI2022/SI06322.Chn'),\n  WindowsPath('C:/Users/mmaduar/Nextcloud/Genie_Transfer/almera22/user2023/SI2022/SI06522.Chn'),\n  WindowsPath('C:/Users/mmaduar/Nextcloud/Genie_Transfer/almera22/user2023/SI2022/SI06722.Chn'),\n  WindowsPath('C:/Users/mmaduar/Nextcloud/Genie_Transfer/almera22/user2023/SI2022/SI06922.Chn'),\n  WindowsPath('C:/Users/mmaduar/Nextcloud/Genie_Transfer/almera22/user2023/SI2022/SI07222.Chn'),\n  WindowsPath('C:/Users/mmaduar/Nextcloud/Genie_Transfer/almera22/user2023/SI2022/SI07322.Chn'),\n  WindowsPath('C:/Users/mmaduar/Nextcloud/Genie_Transfer/almera22/user2023/SI2022/SI07522.Chn'),\n  WindowsPath('C:/Users/mmaduar/Nextcloud/Genie_Transfer/almera22/user2023/SI2022/SI07722.Chn'),\n  WindowsPath('C:/Users/mmaduar/Nextcloud/Genie_Transfer/almera22/user2023/SI2022/SI07922.Chn'),\n  WindowsPath('C:/Users/mmaduar/Nextcloud/Genie_Transfer/almera22/user2023/SI2022/SI08222.Chn'),\n  WindowsPath('C:/Users/mmaduar/Nextcloud/Genie_Transfer/almera22/user2023/SI2022/SI08422.Chn'),\n  WindowsPath('C:/Users/mmaduar/Nextcloud/Genie_Transfer/almera22/user2023/SI2022/SI08522.Chn'),\n  WindowsPath('C:/Users/mmaduar/Nextcloud/Genie_Transfer/almera22/user2023/SI2022/SI08622.Chn'),\n  WindowsPath('C:/Users/mmaduar/Nextcloud/Genie_Transfer/almera22/user2023/SI2022/SI08722.Chn'),\n  WindowsPath('C:/Users/mmaduar/Nextcloud/Genie_Transfer/almera22/user2023/SI2022/SI09122.Chn'),\n  WindowsPath('C:/Users/mmaduar/Nextcloud/Genie_Transfer/almera22/user2023/SI2022/SI09222.Chn'),\n  WindowsPath('C:/Users/mmaduar/Nextcloud/Genie_Transfer/almera22/user2023/SI2022/SI09322.Chn'),\n  WindowsPath('C:/Users/mmaduar/Nextcloud/Genie_Transfer/almera22/user2023/SI2022/SI09422.Chn'),\n  WindowsPath('C:/Users/mmaduar/Nextcloud/Genie_Transfer/almera22/user2023/SI2022/SI09722.Chn'),\n  WindowsPath('C:/Users/mmaduar/Nextcloud/Genie_Transfer/almera22/user2023/SI2022/SI09922.Chn'),\n  WindowsPath('C:/Users/mmaduar/Nextcloud/Genie_Transfer/Filtros/BGFILTRO.Chn'),\n  WindowsPath('C:/Users/mmaduar/Nextcloud/Genie_Transfer/Filtros/Exaustor Dirf 20 julho 2016 SI 09816.Chn'),\n  WindowsPath('C:/Users/mmaduar/Nextcloud/Genie_Transfer/Filtros/FC SAS DIRF 2007.Chn'),\n  WindowsPath('C:/Users/mmaduar/Nextcloud/Genie_Transfer/Filtros/2009/cce/fcce0307.Chn'),\n  WindowsPath('C:/Users/mmaduar/Nextcloud/Genie_Transfer/Filtros/2009/cce/fcce1408.Chn'),\n  WindowsPath('C:/Users/mmaduar/Nextcloud/Genie_Transfer/Filtros/2009/cce/fcce1707.Chn'),\n  WindowsPath('C:/Users/mmaduar/Nextcloud/Genie_Transfer/Filtros/2009/cce/fcce2708.Chn'),\n  WindowsPath('C:/Users/mmaduar/Nextcloud/Genie_Transfer/Filtros/2009/cce/fcce3107.Chn'),\n  WindowsPath('C:/Users/mmaduar/Nextcloud/Genie_Transfer/Filtros/2009/cci/cci0107.Chn'),\n  WindowsPath('C:/Users/mmaduar/Nextcloud/Genie_Transfer/Filtros/2009/cci/cci0209.Chn'),\n  WindowsPath('C:/Users/mmaduar/Nextcloud/Genie_Transfer/Filtros/2009/cci/cci0212.Chn'),\n  WindowsPath('C:/Users/mmaduar/Nextcloud/Genie_Transfer/Filtros/2009/cci/cci0403.Chn'),\n  WindowsPath('C:/Users/mmaduar/Nextcloud/Genie_Transfer/Filtros/2009/cci/cci0406.Chn'),\n  WindowsPath('C:/Users/mmaduar/Nextcloud/Genie_Transfer/Filtros/2009/cci/cci0411.Chn'),\n  WindowsPath('C:/Users/mmaduar/Nextcloud/Genie_Transfer/Filtros/2009/cci/cci0502.Chn'),\n  WindowsPath('C:/Users/mmaduar/Nextcloud/Genie_Transfer/Filtros/2009/cci/cci0508.Chn'),\n  WindowsPath('C:/Users/mmaduar/Nextcloud/Genie_Transfer/Filtros/2009/cci/cci0605.chn'),\n  WindowsPath('C:/Users/mmaduar/Nextcloud/Genie_Transfer/Filtros/2009/cci/cci0701.Chn'),\n  WindowsPath('C:/Users/mmaduar/Nextcloud/Genie_Transfer/Filtros/2009/cci/cci0710.Chn'),\n  WindowsPath('C:/Users/mmaduar/Nextcloud/Genie_Transfer/Filtros/2009/cci/cci0804.Chn'),\n  WindowsPath('C:/Users/mmaduar/Nextcloud/Genie_Transfer/Filtros/2009/cci/cci0807.Chn'),\n  WindowsPath('C:/Users/mmaduar/Nextcloud/Genie_Transfer/Filtros/2009/cci/cci0909.Chn'),\n  WindowsPath('C:/Users/mmaduar/Nextcloud/Genie_Transfer/Filtros/2009/cci/cci0912.Chn'),\n  WindowsPath('C:/Users/mmaduar/Nextcloud/Genie_Transfer/Filtros/2009/cci/cci1006.Chn'),\n  WindowsPath('C:/Users/mmaduar/Nextcloud/Genie_Transfer/Filtros/2009/cci/cci1103.Chn'),\n  WindowsPath('C:/Users/mmaduar/Nextcloud/Genie_Transfer/Filtros/2009/cci/cci1111.Chn'),\n  WindowsPath('C:/Users/mmaduar/Nextcloud/Genie_Transfer/Filtros/2009/cci/cci1208.Chn'),\n  WindowsPath('C:/Users/mmaduar/Nextcloud/Genie_Transfer/Filtros/2009/cci/cci1305.Chn'),\n  WindowsPath('C:/Users/mmaduar/Nextcloud/Genie_Transfer/Filtros/2009/cci/cci1410.Chn'),\n  WindowsPath('C:/Users/mmaduar/Nextcloud/Genie_Transfer/Filtros/2009/cci/cci1504.Chn'),\n  WindowsPath('C:/Users/mmaduar/Nextcloud/Genie_Transfer/Filtros/2009/cci/cci1507.Chn'),\n  WindowsPath('C:/Users/mmaduar/Nextcloud/Genie_Transfer/Filtros/2009/cci/cci1609.Chn'),\n  WindowsPath('C:/Users/mmaduar/Nextcloud/Genie_Transfer/Filtros/2009/cci/cci1706.Chn'),\n  WindowsPath('C:/Users/mmaduar/Nextcloud/Genie_Transfer/Filtros/2009/cci/cci1803.Chn'),\n  WindowsPath('C:/Users/mmaduar/Nextcloud/Genie_Transfer/Filtros/2009/cci/cci1811.Chn'),\n  WindowsPath('C:/Users/mmaduar/Nextcloud/Genie_Transfer/Filtros/2009/cci/cci1908.Chn'),\n  WindowsPath('C:/Users/mmaduar/Nextcloud/Genie_Transfer/Filtros/2009/cci/cci2005.Chn'),\n  WindowsPath('C:/Users/mmaduar/Nextcloud/Genie_Transfer/Filtros/2009/cci/cci2101.Chn'),\n  WindowsPath('C:/Users/mmaduar/Nextcloud/Genie_Transfer/Filtros/2009/cci/cci2110.Chn'),\n  WindowsPath('C:/Users/mmaduar/Nextcloud/Genie_Transfer/Filtros/2009/cci/cci2207.Chn'),\n  WindowsPath('C:/Users/mmaduar/Nextcloud/Genie_Transfer/Filtros/2009/cci/cci2309.Chn'),\n  WindowsPath('C:/Users/mmaduar/Nextcloud/Genie_Transfer/Filtros/2009/cci/cci2406.Chn'),\n  WindowsPath('C:/Users/mmaduar/Nextcloud/Genie_Transfer/Filtros/2009/cci/cci2503.Chn'),\n  WindowsPath('C:/Users/mmaduar/Nextcloud/Genie_Transfer/Filtros/2009/cci/cci2511.Chn'),\n  WindowsPath('C:/Users/mmaduar/Nextcloud/Genie_Transfer/Filtros/2009/cci/cci2608.Chn'),\n  WindowsPath('C:/Users/mmaduar/Nextcloud/Genie_Transfer/Filtros/2009/cci/cci2801.Chn'),\n  WindowsPath('C:/Users/mmaduar/Nextcloud/Genie_Transfer/Filtros/2009/cci/cci2810.Chn'),\n  WindowsPath('C:/Users/mmaduar/Nextcloud/Genie_Transfer/Filtros/2009/cci/cci2907.chn'),\n  WindowsPath('C:/Users/mmaduar/Nextcloud/Genie_Transfer/Filtros/2009/cci/cci2912.Chn'),\n  WindowsPath('C:/Users/mmaduar/Nextcloud/Genie_Transfer/Filtros/2009/cci/cci3103.Chn'),\n  WindowsPath('C:/Users/mmaduar/Nextcloud/Genie_Transfer/Filtros/2009/cci/xxi1006.Chn'),\n  WindowsPath('C:/Users/mmaduar/Nextcloud/Genie_Transfer/Filtros/2009/ces/fces0109.Chn'),\n  WindowsPath('C:/Users/mmaduar/Nextcloud/Genie_Transfer/Filtros/2009/ces/fces0408.Chn'),\n  WindowsPath('C:/Users/mmaduar/Nextcloud/Genie_Transfer/Filtros/2009/ces/fces0707.Chn'),\n  WindowsPath('C:/Users/mmaduar/Nextcloud/Genie_Transfer/Filtros/2009/ces/fces1808.Chn'),\n  WindowsPath('C:/Users/mmaduar/Nextcloud/Genie_Transfer/Filtros/2009/ces/fces2107.Chn'),\n  WindowsPath('C:/Users/mmaduar/Nextcloud/Genie_Transfer/Filtros/2009/crf/crf0210.Chn'),\n  WindowsPath('C:/Users/mmaduar/Nextcloud/Genie_Transfer/Filtros/2009/crf/crf0304.Chn'),\n  WindowsPath('C:/Users/mmaduar/Nextcloud/Genie_Transfer/Filtros/2009/crf/crf0307.Chn'),\n  WindowsPath('C:/Users/mmaduar/Nextcloud/Genie_Transfer/Filtros/2009/crf/crf0409.Chn'),\n  WindowsPath('C:/Users/mmaduar/Nextcloud/Genie_Transfer/Filtros/2009/crf/crf0412.Chn'),\n  WindowsPath('C:/Users/mmaduar/Nextcloud/Genie_Transfer/Filtros/2009/crf/crf0506.Chn'),\n  WindowsPath('C:/Users/mmaduar/Nextcloud/Genie_Transfer/Filtros/2009/crf/crf0602.Chn'),\n  WindowsPath('C:/Users/mmaduar/Nextcloud/Genie_Transfer/Filtros/2009/crf/crf0603.Chn'),\n  WindowsPath('C:/Users/mmaduar/Nextcloud/Genie_Transfer/Filtros/2009/crf/crf0611.Chn'),\n  WindowsPath('C:/Users/mmaduar/Nextcloud/Genie_Transfer/Filtros/2009/crf/crf0708.Chn'),\n  WindowsPath('C:/Users/mmaduar/Nextcloud/Genie_Transfer/Filtros/2009/crf/crf0901.Chn'),\n  WindowsPath('C:/Users/mmaduar/Nextcloud/Genie_Transfer/Filtros/2009/crf/crf0904.Chn'),\n  WindowsPath('C:/Users/mmaduar/Nextcloud/Genie_Transfer/Filtros/2009/crf/crf0910.Chn'),\n  WindowsPath('C:/Users/mmaduar/Nextcloud/Genie_Transfer/Filtros/2009/crf/crf1007.Chn'),\n  WindowsPath('C:/Users/mmaduar/Nextcloud/Genie_Transfer/Filtros/2009/crf/crf1109.Chn'),\n  WindowsPath('C:/Users/mmaduar/Nextcloud/Genie_Transfer/Filtros/2009/crf/crf1112.Chn'),\n  WindowsPath('C:/Users/mmaduar/Nextcloud/Genie_Transfer/Filtros/2009/crf/crf1206.Chn'),\n  WindowsPath('C:/Users/mmaduar/Nextcloud/Genie_Transfer/Filtros/2009/crf/crf1302.Chn'),\n  WindowsPath('C:/Users/mmaduar/Nextcloud/Genie_Transfer/Filtros/2009/crf/crf1303.Chn'),\n  WindowsPath('C:/Users/mmaduar/Nextcloud/Genie_Transfer/Filtros/2009/crf/crf1311.Chn'),\n  WindowsPath('C:/Users/mmaduar/Nextcloud/Genie_Transfer/Filtros/2009/crf/crf1408.Chn'),\n  WindowsPath('C:/Users/mmaduar/Nextcloud/Genie_Transfer/Filtros/2009/crf/crf1505.Chn'),\n  WindowsPath('C:/Users/mmaduar/Nextcloud/Genie_Transfer/Filtros/2009/crf/crf15052.Chn'),\n  WindowsPath('C:/Users/mmaduar/Nextcloud/Genie_Transfer/Filtros/2009/crf/crf1601.Chn'),\n  WindowsPath('C:/Users/mmaduar/Nextcloud/Genie_Transfer/Filtros/2009/crf/crf1610.Chn'),\n  WindowsPath('C:/Users/mmaduar/Nextcloud/Genie_Transfer/Filtros/2009/crf/crf1704.Chn'),\n  WindowsPath('C:/Users/mmaduar/Nextcloud/Genie_Transfer/Filtros/2009/crf/crf1707.chn'),\n  WindowsPath('C:/Users/mmaduar/Nextcloud/Genie_Transfer/Filtros/2009/crf/crf1809.Chn'),\n  WindowsPath('C:/Users/mmaduar/Nextcloud/Genie_Transfer/Filtros/2009/crf/crf1812.Chn'),\n  WindowsPath('C:/Users/mmaduar/Nextcloud/Genie_Transfer/Filtros/2009/crf/crf1906.Chn'),\n  WindowsPath('C:/Users/mmaduar/Nextcloud/Genie_Transfer/Filtros/2009/crf/crf1911.Chn'),\n  WindowsPath('C:/Users/mmaduar/Nextcloud/Genie_Transfer/Filtros/2009/crf/crf2002.Chn'),\n  WindowsPath('C:/Users/mmaduar/Nextcloud/Genie_Transfer/Filtros/2009/crf/crf2003.Chn'),\n  WindowsPath('C:/Users/mmaduar/Nextcloud/Genie_Transfer/Filtros/2009/crf/crf2108.Chn'),\n  WindowsPath('C:/Users/mmaduar/Nextcloud/Genie_Transfer/Filtros/2009/crf/crf2205.Chn'),\n  WindowsPath('C:/Users/mmaduar/Nextcloud/Genie_Transfer/Filtros/2009/crf/crf2301.Chn'),\n  WindowsPath('C:/Users/mmaduar/Nextcloud/Genie_Transfer/Filtros/2009/crf/crf2310.Chn'),\n  WindowsPath('C:/Users/mmaduar/Nextcloud/Genie_Transfer/Filtros/2009/crf/crf2312.Chn'),\n  WindowsPath('C:/Users/mmaduar/Nextcloud/Genie_Transfer/Filtros/2009/crf/crf2404.Chn'),\n  WindowsPath('C:/Users/mmaduar/Nextcloud/Genie_Transfer/Filtros/2009/crf/crf2407.Chn'),\n  WindowsPath('C:/Users/mmaduar/Nextcloud/Genie_Transfer/Filtros/2009/crf/crf2509.Chn'),\n  WindowsPath('C:/Users/mmaduar/Nextcloud/Genie_Transfer/Filtros/2009/crf/crf2606.Chn'),\n  WindowsPath('C:/Users/mmaduar/Nextcloud/Genie_Transfer/Filtros/2009/crf/crf2702.Chn'),\n  WindowsPath('C:/Users/mmaduar/Nextcloud/Genie_Transfer/Filtros/2009/crf/crf2703.Chn'),\n  WindowsPath('C:/Users/mmaduar/Nextcloud/Genie_Transfer/Filtros/2009/crf/crf2711.Chn'),\n  WindowsPath('C:/Users/mmaduar/Nextcloud/Genie_Transfer/Filtros/2009/crf/crf2808.Chn'),\n  WindowsPath('C:/Users/mmaduar/Nextcloud/Genie_Transfer/Filtros/2009/crf/crf2905.Chn'),\n  WindowsPath('C:/Users/mmaduar/Nextcloud/Genie_Transfer/Filtros/2009/crf/crf3001.Chn'),\n  WindowsPath('C:/Users/mmaduar/Nextcloud/Genie_Transfer/Filtros/2009/crf/crf3004.Chn'),\n  WindowsPath('C:/Users/mmaduar/Nextcloud/Genie_Transfer/Filtros/2009/crf/crf3010.Chn'),\n  WindowsPath('C:/Users/mmaduar/Nextcloud/Genie_Transfer/Filtros/2009/crf/crf3107.Chn'),\n  WindowsPath('C:/Users/mmaduar/Nextcloud/Genie_Transfer/Filtros/2009/crn/crn0210.Chn'),\n  WindowsPath('C:/Users/mmaduar/Nextcloud/Genie_Transfer/Filtros/2009/crn/crn0304.Chn'),\n  WindowsPath('C:/Users/mmaduar/Nextcloud/Genie_Transfer/Filtros/2009/crn/crn0307.Chn'),\n  WindowsPath('C:/Users/mmaduar/Nextcloud/Genie_Transfer/Filtros/2009/crn/crn0409.Chn'),\n  WindowsPath('C:/Users/mmaduar/Nextcloud/Genie_Transfer/Filtros/2009/crn/crn0412.Chn'),\n  WindowsPath('C:/Users/mmaduar/Nextcloud/Genie_Transfer/Filtros/2009/crn/crn0506.Chn'),\n  WindowsPath('C:/Users/mmaduar/Nextcloud/Genie_Transfer/Filtros/2009/crn/crn0602.Chn'),\n  WindowsPath('C:/Users/mmaduar/Nextcloud/Genie_Transfer/Filtros/2009/crn/crn0603.Chn'),\n  WindowsPath('C:/Users/mmaduar/Nextcloud/Genie_Transfer/Filtros/2009/crn/crn0611.Chn'),\n  WindowsPath('C:/Users/mmaduar/Nextcloud/Genie_Transfer/Filtros/2009/crn/crn0708.Chn'),\n  WindowsPath('C:/Users/mmaduar/Nextcloud/Genie_Transfer/Filtros/2009/crn/crn0805.Chn'),\n  WindowsPath('C:/Users/mmaduar/Nextcloud/Genie_Transfer/Filtros/2009/crn/crn0901.Chn'),\n  WindowsPath('C:/Users/mmaduar/Nextcloud/Genie_Transfer/Filtros/2009/crn/crn0904.Chn'),\n  WindowsPath('C:/Users/mmaduar/Nextcloud/Genie_Transfer/Filtros/2009/crn/crn0910.Chn'),\n  WindowsPath('C:/Users/mmaduar/Nextcloud/Genie_Transfer/Filtros/2009/crn/crn1007.Chn'),\n  WindowsPath('C:/Users/mmaduar/Nextcloud/Genie_Transfer/Filtros/2009/crn/crn1109.Chn'),\n  WindowsPath('C:/Users/mmaduar/Nextcloud/Genie_Transfer/Filtros/2009/crn/crn1112.Chn'),\n  WindowsPath('C:/Users/mmaduar/Nextcloud/Genie_Transfer/Filtros/2009/crn/crn1206.Chn'),\n  WindowsPath('C:/Users/mmaduar/Nextcloud/Genie_Transfer/Filtros/2009/crn/crn1302.Chn'),\n  WindowsPath('C:/Users/mmaduar/Nextcloud/Genie_Transfer/Filtros/2009/crn/crn1303.Chn'),\n  WindowsPath('C:/Users/mmaduar/Nextcloud/Genie_Transfer/Filtros/2009/crn/crn1311.Chn'),\n  WindowsPath('C:/Users/mmaduar/Nextcloud/Genie_Transfer/Filtros/2009/crn/crn1408.Chn'),\n  WindowsPath('C:/Users/mmaduar/Nextcloud/Genie_Transfer/Filtros/2009/crn/crn1505.Chn'),\n  WindowsPath('C:/Users/mmaduar/Nextcloud/Genie_Transfer/Filtros/2009/crn/crn1601.Chn'),\n  WindowsPath('C:/Users/mmaduar/Nextcloud/Genie_Transfer/Filtros/2009/crn/crn1610.Chn'),\n  WindowsPath('C:/Users/mmaduar/Nextcloud/Genie_Transfer/Filtros/2009/crn/crn1704.Chn'),\n  WindowsPath('C:/Users/mmaduar/Nextcloud/Genie_Transfer/Filtros/2009/crn/crn1707.Chn'),\n  WindowsPath('C:/Users/mmaduar/Nextcloud/Genie_Transfer/Filtros/2009/crn/crn1809.Chn'),\n  WindowsPath('C:/Users/mmaduar/Nextcloud/Genie_Transfer/Filtros/2009/crn/crn1812.Chn'),\n  WindowsPath('C:/Users/mmaduar/Nextcloud/Genie_Transfer/Filtros/2009/crn/crn1906.Chn'),\n  WindowsPath('C:/Users/mmaduar/Nextcloud/Genie_Transfer/Filtros/2009/crn/crn1911.Chn'),\n  WindowsPath('C:/Users/mmaduar/Nextcloud/Genie_Transfer/Filtros/2009/crn/crn2002.Chn'),\n  WindowsPath('C:/Users/mmaduar/Nextcloud/Genie_Transfer/Filtros/2009/crn/crn2003.Chn'),\n  WindowsPath('C:/Users/mmaduar/Nextcloud/Genie_Transfer/Filtros/2009/crn/crn2108.Chn'),\n  WindowsPath('C:/Users/mmaduar/Nextcloud/Genie_Transfer/Filtros/2009/crn/crn2205.Chn'),\n  WindowsPath('C:/Users/mmaduar/Nextcloud/Genie_Transfer/Filtros/2009/crn/crn2301.Chn'),\n  WindowsPath('C:/Users/mmaduar/Nextcloud/Genie_Transfer/Filtros/2009/crn/crn2310.Chn'),\n  WindowsPath('C:/Users/mmaduar/Nextcloud/Genie_Transfer/Filtros/2009/crn/crn2312.Chn'),\n  WindowsPath('C:/Users/mmaduar/Nextcloud/Genie_Transfer/Filtros/2009/crn/crn2404.Chn'),\n  WindowsPath('C:/Users/mmaduar/Nextcloud/Genie_Transfer/Filtros/2009/crn/CRN2407.CHN'),\n  WindowsPath('C:/Users/mmaduar/Nextcloud/Genie_Transfer/Filtros/2009/crn/crn2509.Chn'),\n  WindowsPath('C:/Users/mmaduar/Nextcloud/Genie_Transfer/Filtros/2009/crn/CRN2606.Chn'),\n  WindowsPath('C:/Users/mmaduar/Nextcloud/Genie_Transfer/Filtros/2009/crn/crn2702.Chn'),\n  WindowsPath('C:/Users/mmaduar/Nextcloud/Genie_Transfer/Filtros/2009/crn/crn2703.Chn'),\n  WindowsPath('C:/Users/mmaduar/Nextcloud/Genie_Transfer/Filtros/2009/crn/crn2711.Chn'),\n  WindowsPath('C:/Users/mmaduar/Nextcloud/Genie_Transfer/Filtros/2009/crn/crn2808.Chn'),\n  WindowsPath('C:/Users/mmaduar/Nextcloud/Genie_Transfer/Filtros/2009/crn/crn2905.Chn'),\n  WindowsPath('C:/Users/mmaduar/Nextcloud/Genie_Transfer/Filtros/2009/crn/crn3001.Chn'),\n  WindowsPath('C:/Users/mmaduar/Nextcloud/Genie_Transfer/Filtros/2009/crn/crn3004.Chn'),\n  WindowsPath('C:/Users/mmaduar/Nextcloud/Genie_Transfer/Filtros/2009/crn/crn3010.Chn'),\n  WindowsPath('C:/Users/mmaduar/Nextcloud/Genie_Transfer/Filtros/2009/crn/crn3107.chn'),\n  WindowsPath('C:/Users/mmaduar/Nextcloud/Genie_Transfer/Filtros/2009/ctp/ctp0201.Chn'),\n  WindowsPath('C:/Users/mmaduar/Nextcloud/Genie_Transfer/Filtros/2009/ctp/ctp0210.Chn'),\n  WindowsPath('C:/Users/mmaduar/Nextcloud/Genie_Transfer/Filtros/2009/ctp/ctp0304.Chn'),\n  WindowsPath('C:/Users/mmaduar/Nextcloud/Genie_Transfer/Filtros/2009/ctp/ctp0307.Chn'),\n  WindowsPath('C:/Users/mmaduar/Nextcloud/Genie_Transfer/Filtros/2009/ctp/ctp0409.Chn'),\n  WindowsPath('C:/Users/mmaduar/Nextcloud/Genie_Transfer/Filtros/2009/ctp/ctp0412.Chn'),\n  WindowsPath('C:/Users/mmaduar/Nextcloud/Genie_Transfer/Filtros/2009/ctp/ctp0506.Chn'),\n  WindowsPath('C:/Users/mmaduar/Nextcloud/Genie_Transfer/Filtros/2009/ctp/ctp0602.Chn'),\n  WindowsPath('C:/Users/mmaduar/Nextcloud/Genie_Transfer/Filtros/2009/ctp/ctp0603.Chn'),\n  WindowsPath('C:/Users/mmaduar/Nextcloud/Genie_Transfer/Filtros/2009/ctp/ctp0611.Chn'),\n  WindowsPath('C:/Users/mmaduar/Nextcloud/Genie_Transfer/Filtros/2009/ctp/ctp0708.Chn'),\n  WindowsPath('C:/Users/mmaduar/Nextcloud/Genie_Transfer/Filtros/2009/ctp/ctp0901.Chn'),\n  WindowsPath('C:/Users/mmaduar/Nextcloud/Genie_Transfer/Filtros/2009/ctp/ctp0904.Chn'),\n  WindowsPath('C:/Users/mmaduar/Nextcloud/Genie_Transfer/Filtros/2009/ctp/ctp0910.Chn'),\n  WindowsPath('C:/Users/mmaduar/Nextcloud/Genie_Transfer/Filtros/2009/ctp/ctp1007.Chn'),\n  WindowsPath('C:/Users/mmaduar/Nextcloud/Genie_Transfer/Filtros/2009/ctp/ctp1109.Chn'),\n  WindowsPath('C:/Users/mmaduar/Nextcloud/Genie_Transfer/Filtros/2009/ctp/ctp1112.Chn'),\n  WindowsPath('C:/Users/mmaduar/Nextcloud/Genie_Transfer/Filtros/2009/ctp/ctp1206.Chn'),\n  WindowsPath('C:/Users/mmaduar/Nextcloud/Genie_Transfer/Filtros/2009/ctp/ctp1302.Chn'),\n  WindowsPath('C:/Users/mmaduar/Nextcloud/Genie_Transfer/Filtros/2009/ctp/ctp1303.Chn'),\n  WindowsPath('C:/Users/mmaduar/Nextcloud/Genie_Transfer/Filtros/2009/ctp/ctp1311.Chn'),\n  WindowsPath('C:/Users/mmaduar/Nextcloud/Genie_Transfer/Filtros/2009/ctp/ctp1408.Chn'),\n  WindowsPath('C:/Users/mmaduar/Nextcloud/Genie_Transfer/Filtros/2009/ctp/ctp1505.Chn'),\n  WindowsPath('C:/Users/mmaduar/Nextcloud/Genie_Transfer/Filtros/2009/ctp/ctp15052.Chn'),\n  WindowsPath('C:/Users/mmaduar/Nextcloud/Genie_Transfer/Filtros/2009/ctp/ctp1601.Chn'),\n  WindowsPath('C:/Users/mmaduar/Nextcloud/Genie_Transfer/Filtros/2009/ctp/ctp1610.Chn'),\n  WindowsPath('C:/Users/mmaduar/Nextcloud/Genie_Transfer/Filtros/2009/ctp/ctp1704.Chn'),\n  WindowsPath('C:/Users/mmaduar/Nextcloud/Genie_Transfer/Filtros/2009/ctp/ctp1707.chn'),\n  WindowsPath('C:/Users/mmaduar/Nextcloud/Genie_Transfer/Filtros/2009/ctp/ctp1809.Chn'),\n  WindowsPath('C:/Users/mmaduar/Nextcloud/Genie_Transfer/Filtros/2009/ctp/ctp1812.Chn'),\n  WindowsPath('C:/Users/mmaduar/Nextcloud/Genie_Transfer/Filtros/2009/ctp/ctp1906.Chn'),\n  WindowsPath('C:/Users/mmaduar/Nextcloud/Genie_Transfer/Filtros/2009/ctp/ctp1911.Chn'),\n  WindowsPath('C:/Users/mmaduar/Nextcloud/Genie_Transfer/Filtros/2009/ctp/ctp2002.Chn'),\n  WindowsPath('C:/Users/mmaduar/Nextcloud/Genie_Transfer/Filtros/2009/ctp/ctp2003.Chn'),\n  WindowsPath('C:/Users/mmaduar/Nextcloud/Genie_Transfer/Filtros/2009/ctp/ctp2108.Chn'),\n  WindowsPath('C:/Users/mmaduar/Nextcloud/Genie_Transfer/Filtros/2009/ctp/ctp2205.Chn'),\n  WindowsPath('C:/Users/mmaduar/Nextcloud/Genie_Transfer/Filtros/2009/ctp/ctp2301.Chn'),\n  WindowsPath('C:/Users/mmaduar/Nextcloud/Genie_Transfer/Filtros/2009/ctp/ctp2310.Chn'),\n  WindowsPath('C:/Users/mmaduar/Nextcloud/Genie_Transfer/Filtros/2009/ctp/ctp2312.Chn'),\n  WindowsPath('C:/Users/mmaduar/Nextcloud/Genie_Transfer/Filtros/2009/ctp/ctp2404.Chn'),\n  WindowsPath('C:/Users/mmaduar/Nextcloud/Genie_Transfer/Filtros/2009/ctp/ctp2407.Chn'),\n  WindowsPath('C:/Users/mmaduar/Nextcloud/Genie_Transfer/Filtros/2009/ctp/ctp2509.Chn'),\n  WindowsPath('C:/Users/mmaduar/Nextcloud/Genie_Transfer/Filtros/2009/ctp/ctp2606.Chn'),\n  WindowsPath('C:/Users/mmaduar/Nextcloud/Genie_Transfer/Filtros/2009/ctp/ctp2702.Chn'),\n  WindowsPath('C:/Users/mmaduar/Nextcloud/Genie_Transfer/Filtros/2009/ctp/ctp2703.Chn'),\n  WindowsPath('C:/Users/mmaduar/Nextcloud/Genie_Transfer/Filtros/2009/ctp/ctp2711.Chn'),\n  WindowsPath('C:/Users/mmaduar/Nextcloud/Genie_Transfer/Filtros/2009/ctp/ctp2808.Chn'),\n  WindowsPath('C:/Users/mmaduar/Nextcloud/Genie_Transfer/Filtros/2009/ctp/ctp2905.Chn'),\n  WindowsPath('C:/Users/mmaduar/Nextcloud/Genie_Transfer/Filtros/2009/ctp/ctp3001.Chn'),\n  WindowsPath('C:/Users/mmaduar/Nextcloud/Genie_Transfer/Filtros/2009/ctp/ctp3004.Chn'),\n  WindowsPath('C:/Users/mmaduar/Nextcloud/Genie_Transfer/Filtros/2009/ctp/ctp3010.Chn'),\n  WindowsPath('C:/Users/mmaduar/Nextcloud/Genie_Transfer/Filtros/2009/ctp/ctp3107.Chn'),\n  WindowsPath('C:/Users/mmaduar/Nextcloud/Genie_Transfer/Filtros/2009/ctr/fctr0409.Chn'),\n  WindowsPath('C:/Users/mmaduar/Nextcloud/Genie_Transfer/Filtros/2009/ctr/fctr0708.Chn'),\n  WindowsPath('C:/Users/mmaduar/Nextcloud/Genie_Transfer/Filtros/2009/ctr/fctr1007.Chn'),\n  WindowsPath('C:/Users/mmaduar/Nextcloud/Genie_Transfer/Filtros/2009/ctr/fctr2108.Chn'),\n  WindowsPath('C:/Users/mmaduar/Nextcloud/Genie_Transfer/Filtros/2009/ctr/fctr2407.Chn'),\n  WindowsPath('C:/Users/mmaduar/Nextcloud/Genie_Transfer/Filtros/2009/pci/pci0107.Chn'),\n  WindowsPath('C:/Users/mmaduar/Nextcloud/Genie_Transfer/Filtros/2009/pci/pci0209.Chn'),\n  WindowsPath('C:/Users/mmaduar/Nextcloud/Genie_Transfer/Filtros/2009/pci/pci0212.Chn'),\n  WindowsPath('C:/Users/mmaduar/Nextcloud/Genie_Transfer/Filtros/2009/pci/pci0403.Chn'),\n  WindowsPath('C:/Users/mmaduar/Nextcloud/Genie_Transfer/Filtros/2009/pci/pci0406.Chn'),\n  WindowsPath('C:/Users/mmaduar/Nextcloud/Genie_Transfer/Filtros/2009/pci/pci0411.Chn'),\n  WindowsPath('C:/Users/mmaduar/Nextcloud/Genie_Transfer/Filtros/2009/pci/pci0502.Chn'),\n  WindowsPath('C:/Users/mmaduar/Nextcloud/Genie_Transfer/Filtros/2009/pci/pci0508.Chn'),\n  WindowsPath('C:/Users/mmaduar/Nextcloud/Genie_Transfer/Filtros/2009/pci/pci0605.Chn'),\n  WindowsPath('C:/Users/mmaduar/Nextcloud/Genie_Transfer/Filtros/2009/pci/pci0701.Chn'),\n  WindowsPath('C:/Users/mmaduar/Nextcloud/Genie_Transfer/Filtros/2009/pci/pci0710.Chn'),\n  WindowsPath('C:/Users/mmaduar/Nextcloud/Genie_Transfer/Filtros/2009/pci/pci0804.Chn'),\n  WindowsPath('C:/Users/mmaduar/Nextcloud/Genie_Transfer/Filtros/2009/pci/pci0807.Chn'),\n  WindowsPath('C:/Users/mmaduar/Nextcloud/Genie_Transfer/Filtros/2009/pci/pci0909.Chn'),\n  WindowsPath('C:/Users/mmaduar/Nextcloud/Genie_Transfer/Filtros/2009/pci/pci0912.Chn'),\n  WindowsPath('C:/Users/mmaduar/Nextcloud/Genie_Transfer/Filtros/2009/pci/pci1006.Chn'),\n  WindowsPath('C:/Users/mmaduar/Nextcloud/Genie_Transfer/Filtros/2009/pci/pci1103.Chn'),\n  WindowsPath('C:/Users/mmaduar/Nextcloud/Genie_Transfer/Filtros/2009/pci/pci1111.Chn'),\n  WindowsPath('C:/Users/mmaduar/Nextcloud/Genie_Transfer/Filtros/2009/pci/pci1208.Chn'),\n  WindowsPath('C:/Users/mmaduar/Nextcloud/Genie_Transfer/Filtros/2009/pci/pci1305.Chn'),\n  WindowsPath('C:/Users/mmaduar/Nextcloud/Genie_Transfer/Filtros/2009/pci/pci1410.Chn'),\n  WindowsPath('C:/Users/mmaduar/Nextcloud/Genie_Transfer/Filtros/2009/pci/pci1504.Chn'),\n  WindowsPath('C:/Users/mmaduar/Nextcloud/Genie_Transfer/Filtros/2009/pci/pci1507.Chn'),\n  WindowsPath('C:/Users/mmaduar/Nextcloud/Genie_Transfer/Filtros/2009/pci/pci1609.Chn'),\n  WindowsPath('C:/Users/mmaduar/Nextcloud/Genie_Transfer/Filtros/2009/pci/PCI1706.Chn'),\n  WindowsPath('C:/Users/mmaduar/Nextcloud/Genie_Transfer/Filtros/2009/pci/pci1803.Chn'),\n  WindowsPath('C:/Users/mmaduar/Nextcloud/Genie_Transfer/Filtros/2009/pci/pci1811.Chn'),\n  WindowsPath('C:/Users/mmaduar/Nextcloud/Genie_Transfer/Filtros/2009/pci/pci1908.Chn'),\n  WindowsPath('C:/Users/mmaduar/Nextcloud/Genie_Transfer/Filtros/2009/pci/pci2005.Chn'),\n  WindowsPath('C:/Users/mmaduar/Nextcloud/Genie_Transfer/Filtros/2009/pci/pci2101.Chn'),\n  WindowsPath('C:/Users/mmaduar/Nextcloud/Genie_Transfer/Filtros/2009/pci/pci2110.Chn'),\n  WindowsPath('C:/Users/mmaduar/Nextcloud/Genie_Transfer/Filtros/2009/pci/pci2207.Chn'),\n  WindowsPath('C:/Users/mmaduar/Nextcloud/Genie_Transfer/Filtros/2009/pci/pci2309.Chn'),\n  WindowsPath('C:/Users/mmaduar/Nextcloud/Genie_Transfer/Filtros/2009/pci/pci2406.Chn'),\n  WindowsPath('C:/Users/mmaduar/Nextcloud/Genie_Transfer/Filtros/2009/pci/pci2503.Chn'),\n  WindowsPath('C:/Users/mmaduar/Nextcloud/Genie_Transfer/Filtros/2009/pci/pci2511.Chn'),\n  WindowsPath('C:/Users/mmaduar/Nextcloud/Genie_Transfer/Filtros/2009/pci/pci2608.Chn'),\n  WindowsPath('C:/Users/mmaduar/Nextcloud/Genie_Transfer/Filtros/2009/pci/pci2801.Chn'),\n  WindowsPath('C:/Users/mmaduar/Nextcloud/Genie_Transfer/Filtros/2009/pci/pci2810.Chn'),\n  WindowsPath('C:/Users/mmaduar/Nextcloud/Genie_Transfer/Filtros/2009/pci/pci2907.chn'),\n  WindowsPath('C:/Users/mmaduar/Nextcloud/Genie_Transfer/Filtros/2009/pci/pci2912.Chn'),\n  WindowsPath('C:/Users/mmaduar/Nextcloud/Genie_Transfer/Filtros/2009/pci/pci3103.Chn'),\n  WindowsPath('C:/Users/mmaduar/Nextcloud/Genie_Transfer/Filtros/2009/prf/prf0210.Chn'),\n  WindowsPath('C:/Users/mmaduar/Nextcloud/Genie_Transfer/Filtros/2009/prf/prf0304.Chn'),\n  WindowsPath('C:/Users/mmaduar/Nextcloud/Genie_Transfer/Filtros/2009/prf/prf0307.Chn'),\n  WindowsPath('C:/Users/mmaduar/Nextcloud/Genie_Transfer/Filtros/2009/prf/prf0409.Chn'),\n  WindowsPath('C:/Users/mmaduar/Nextcloud/Genie_Transfer/Filtros/2009/prf/prf0412.Chn'),\n  WindowsPath('C:/Users/mmaduar/Nextcloud/Genie_Transfer/Filtros/2009/prf/prf0506.Chn'),\n  WindowsPath('C:/Users/mmaduar/Nextcloud/Genie_Transfer/Filtros/2009/prf/prf0602.Chn'),\n  WindowsPath('C:/Users/mmaduar/Nextcloud/Genie_Transfer/Filtros/2009/prf/prf0603.Chn'),\n  WindowsPath('C:/Users/mmaduar/Nextcloud/Genie_Transfer/Filtros/2009/prf/prf0611.Chn'),\n  WindowsPath('C:/Users/mmaduar/Nextcloud/Genie_Transfer/Filtros/2009/prf/prf0708.Chn'),\n  WindowsPath('C:/Users/mmaduar/Nextcloud/Genie_Transfer/Filtros/2009/prf/prf0805.Chn'),\n  WindowsPath('C:/Users/mmaduar/Nextcloud/Genie_Transfer/Filtros/2009/prf/prf0904.Chn'),\n  WindowsPath('C:/Users/mmaduar/Nextcloud/Genie_Transfer/Filtros/2009/prf/prf0910.Chn'),\n  WindowsPath('C:/Users/mmaduar/Nextcloud/Genie_Transfer/Filtros/2009/prf/prf1007.Chn'),\n  WindowsPath('C:/Users/mmaduar/Nextcloud/Genie_Transfer/Filtros/2009/prf/prf1109.Chn'),\n  WindowsPath('C:/Users/mmaduar/Nextcloud/Genie_Transfer/Filtros/2009/prf/prf1112.Chn'),\n  WindowsPath('C:/Users/mmaduar/Nextcloud/Genie_Transfer/Filtros/2009/prf/prf1206.Chn'),\n  WindowsPath('C:/Users/mmaduar/Nextcloud/Genie_Transfer/Filtros/2009/prf/prf1302.Chn'),\n  WindowsPath('C:/Users/mmaduar/Nextcloud/Genie_Transfer/Filtros/2009/prf/prf1303.Chn'),\n  WindowsPath('C:/Users/mmaduar/Nextcloud/Genie_Transfer/Filtros/2009/prf/prf1311.Chn'),\n  WindowsPath('C:/Users/mmaduar/Nextcloud/Genie_Transfer/Filtros/2009/prf/prf1408.Chn'),\n  WindowsPath('C:/Users/mmaduar/Nextcloud/Genie_Transfer/Filtros/2009/prf/prf1505.chn'),\n  WindowsPath('C:/Users/mmaduar/Nextcloud/Genie_Transfer/Filtros/2009/prf/prf1601.Chn'),\n  WindowsPath('C:/Users/mmaduar/Nextcloud/Genie_Transfer/Filtros/2009/prf/prf1610.Chn'),\n  WindowsPath('C:/Users/mmaduar/Nextcloud/Genie_Transfer/Filtros/2009/prf/prf1704.Chn'),\n  WindowsPath('C:/Users/mmaduar/Nextcloud/Genie_Transfer/Filtros/2009/prf/prf1707.chn'),\n  WindowsPath('C:/Users/mmaduar/Nextcloud/Genie_Transfer/Filtros/2009/prf/prf1809.Chn'),\n  WindowsPath('C:/Users/mmaduar/Nextcloud/Genie_Transfer/Filtros/2009/prf/prf1812.Chn'),\n  WindowsPath('C:/Users/mmaduar/Nextcloud/Genie_Transfer/Filtros/2009/prf/prf1906.Chn'),\n  WindowsPath('C:/Users/mmaduar/Nextcloud/Genie_Transfer/Filtros/2009/prf/prf1911.Chn'),\n  WindowsPath('C:/Users/mmaduar/Nextcloud/Genie_Transfer/Filtros/2009/prf/PRF2002.Chn'),\n  WindowsPath('C:/Users/mmaduar/Nextcloud/Genie_Transfer/Filtros/2009/prf/prf2003.Chn'),\n  WindowsPath('C:/Users/mmaduar/Nextcloud/Genie_Transfer/Filtros/2009/prf/prf2108.Chn'),\n  WindowsPath('C:/Users/mmaduar/Nextcloud/Genie_Transfer/Filtros/2009/prf/prf2205.Chn'),\n  WindowsPath('C:/Users/mmaduar/Nextcloud/Genie_Transfer/Filtros/2009/prf/prf2301.Chn'),\n  WindowsPath('C:/Users/mmaduar/Nextcloud/Genie_Transfer/Filtros/2009/prf/prf2310.Chn'),\n  WindowsPath('C:/Users/mmaduar/Nextcloud/Genie_Transfer/Filtros/2009/prf/prf2312.Chn'),\n  WindowsPath('C:/Users/mmaduar/Nextcloud/Genie_Transfer/Filtros/2009/prf/prf2404.Chn'),\n  WindowsPath('C:/Users/mmaduar/Nextcloud/Genie_Transfer/Filtros/2009/prf/prf2407.chn'),\n  WindowsPath('C:/Users/mmaduar/Nextcloud/Genie_Transfer/Filtros/2009/prf/prf2509.Chn'),\n  WindowsPath('C:/Users/mmaduar/Nextcloud/Genie_Transfer/Filtros/2009/prf/prf2606.Chn'),\n  WindowsPath('C:/Users/mmaduar/Nextcloud/Genie_Transfer/Filtros/2009/prf/prf2702.Chn'),\n  WindowsPath('C:/Users/mmaduar/Nextcloud/Genie_Transfer/Filtros/2009/prf/prf2703.Chn'),\n  WindowsPath('C:/Users/mmaduar/Nextcloud/Genie_Transfer/Filtros/2009/prf/prf2711.Chn'),\n  WindowsPath('C:/Users/mmaduar/Nextcloud/Genie_Transfer/Filtros/2009/prf/prf2808.Chn'),\n  WindowsPath('C:/Users/mmaduar/Nextcloud/Genie_Transfer/Filtros/2009/prf/prf2905.chn'),\n  WindowsPath('C:/Users/mmaduar/Nextcloud/Genie_Transfer/Filtros/2009/prf/prf3001.Chn'),\n  WindowsPath('C:/Users/mmaduar/Nextcloud/Genie_Transfer/Filtros/2009/prf/prf3004.Chn'),\n  WindowsPath('C:/Users/mmaduar/Nextcloud/Genie_Transfer/Filtros/2009/prf/prf3010.Chn'),\n  WindowsPath('C:/Users/mmaduar/Nextcloud/Genie_Transfer/Filtros/2009/prf/prf3107.Chn'),\n  WindowsPath('C:/Users/mmaduar/Nextcloud/Genie_Transfer/Filtros/2009/ptp/ptp0304.Chn'),\n  WindowsPath('C:/Users/mmaduar/Nextcloud/Genie_Transfer/Filtros/2009/ptp/ptp0307.Chn'),\n  WindowsPath('C:/Users/mmaduar/Nextcloud/Genie_Transfer/Filtros/2009/ptp/ptp0409.Chn'),\n  WindowsPath('C:/Users/mmaduar/Nextcloud/Genie_Transfer/Filtros/2009/ptp/ptp0412.Chn'),\n  WindowsPath('C:/Users/mmaduar/Nextcloud/Genie_Transfer/Filtros/2009/ptp/ptp0506.Chn'),\n  WindowsPath('C:/Users/mmaduar/Nextcloud/Genie_Transfer/Filtros/2009/ptp/ptp0602.Chn'),\n  WindowsPath('C:/Users/mmaduar/Nextcloud/Genie_Transfer/Filtros/2009/ptp/ptp0603.Chn'),\n  WindowsPath('C:/Users/mmaduar/Nextcloud/Genie_Transfer/Filtros/2009/ptp/ptp0611.Chn'),\n  WindowsPath('C:/Users/mmaduar/Nextcloud/Genie_Transfer/Filtros/2009/ptp/ptp0708.Chn'),\n  WindowsPath('C:/Users/mmaduar/Nextcloud/Genie_Transfer/Filtros/2009/ptp/ptp0805.Chn'),\n  WindowsPath('C:/Users/mmaduar/Nextcloud/Genie_Transfer/Filtros/2009/ptp/ptp0901.Chn'),\n  WindowsPath('C:/Users/mmaduar/Nextcloud/Genie_Transfer/Filtros/2009/ptp/ptp0904.Chn'),\n  WindowsPath('C:/Users/mmaduar/Nextcloud/Genie_Transfer/Filtros/2009/ptp/ptp0910.Chn'),\n  WindowsPath('C:/Users/mmaduar/Nextcloud/Genie_Transfer/Filtros/2009/ptp/ptp1007.Chn'),\n  WindowsPath('C:/Users/mmaduar/Nextcloud/Genie_Transfer/Filtros/2009/ptp/ptp1109.Chn'),\n  WindowsPath('C:/Users/mmaduar/Nextcloud/Genie_Transfer/Filtros/2009/ptp/ptp1112.Chn'),\n  WindowsPath('C:/Users/mmaduar/Nextcloud/Genie_Transfer/Filtros/2009/ptp/ptp1206.Chn'),\n  WindowsPath('C:/Users/mmaduar/Nextcloud/Genie_Transfer/Filtros/2009/ptp/ptp1302.Chn'),\n  WindowsPath('C:/Users/mmaduar/Nextcloud/Genie_Transfer/Filtros/2009/ptp/ptp1303.Chn'),\n  WindowsPath('C:/Users/mmaduar/Nextcloud/Genie_Transfer/Filtros/2009/ptp/ptp1311.Chn'),\n  WindowsPath('C:/Users/mmaduar/Nextcloud/Genie_Transfer/Filtros/2009/ptp/ptp1408.Chn'),\n  WindowsPath('C:/Users/mmaduar/Nextcloud/Genie_Transfer/Filtros/2009/ptp/ptp1505.chn'),\n  WindowsPath('C:/Users/mmaduar/Nextcloud/Genie_Transfer/Filtros/2009/ptp/ptp1601.Chn'),\n  WindowsPath('C:/Users/mmaduar/Nextcloud/Genie_Transfer/Filtros/2009/ptp/ptp1610.Chn'),\n  WindowsPath('C:/Users/mmaduar/Nextcloud/Genie_Transfer/Filtros/2009/ptp/ptp1704.Chn'),\n  WindowsPath('C:/Users/mmaduar/Nextcloud/Genie_Transfer/Filtros/2009/ptp/ptp1707.chn'),\n  WindowsPath('C:/Users/mmaduar/Nextcloud/Genie_Transfer/Filtros/2009/ptp/ptp1809.Chn'),\n  WindowsPath('C:/Users/mmaduar/Nextcloud/Genie_Transfer/Filtros/2009/ptp/ptp1812.Chn'),\n  WindowsPath('C:/Users/mmaduar/Nextcloud/Genie_Transfer/Filtros/2009/ptp/ptp1906.Chn'),\n  WindowsPath('C:/Users/mmaduar/Nextcloud/Genie_Transfer/Filtros/2009/ptp/ptp1911.Chn'),\n  WindowsPath('C:/Users/mmaduar/Nextcloud/Genie_Transfer/Filtros/2009/ptp/ptp2002.Chn'),\n  WindowsPath('C:/Users/mmaduar/Nextcloud/Genie_Transfer/Filtros/2009/ptp/ptp2003.Chn'),\n  WindowsPath('C:/Users/mmaduar/Nextcloud/Genie_Transfer/Filtros/2009/ptp/ptp2108.Chn'),\n  WindowsPath('C:/Users/mmaduar/Nextcloud/Genie_Transfer/Filtros/2009/ptp/ptp2205.Chn'),\n  WindowsPath('C:/Users/mmaduar/Nextcloud/Genie_Transfer/Filtros/2009/ptp/ptp2301.Chn'),\n  WindowsPath('C:/Users/mmaduar/Nextcloud/Genie_Transfer/Filtros/2009/ptp/ptp2310.Chn'),\n  WindowsPath('C:/Users/mmaduar/Nextcloud/Genie_Transfer/Filtros/2009/ptp/ptp2312.Chn'),\n  WindowsPath('C:/Users/mmaduar/Nextcloud/Genie_Transfer/Filtros/2009/ptp/ptp2404.Chn'),\n  WindowsPath('C:/Users/mmaduar/Nextcloud/Genie_Transfer/Filtros/2009/ptp/ptp2407.chn'),\n  WindowsPath('C:/Users/mmaduar/Nextcloud/Genie_Transfer/Filtros/2009/ptp/ptp2509.Chn'),\n  WindowsPath('C:/Users/mmaduar/Nextcloud/Genie_Transfer/Filtros/2009/ptp/ptp2606.Chn'),\n  WindowsPath('C:/Users/mmaduar/Nextcloud/Genie_Transfer/Filtros/2009/ptp/ptp2702.Chn'),\n  WindowsPath('C:/Users/mmaduar/Nextcloud/Genie_Transfer/Filtros/2009/ptp/ptp2703.Chn'),\n  WindowsPath('C:/Users/mmaduar/Nextcloud/Genie_Transfer/Filtros/2009/ptp/ptp2711.Chn'),\n  WindowsPath('C:/Users/mmaduar/Nextcloud/Genie_Transfer/Filtros/2009/ptp/ptp2808.Chn'),\n  WindowsPath('C:/Users/mmaduar/Nextcloud/Genie_Transfer/Filtros/2009/ptp/ptp2905.Chn'),\n  WindowsPath('C:/Users/mmaduar/Nextcloud/Genie_Transfer/Filtros/2009/ptp/ptp3001.Chn'),\n  WindowsPath('C:/Users/mmaduar/Nextcloud/Genie_Transfer/Filtros/2009/ptp/ptp3004.Chn'),\n  WindowsPath('C:/Users/mmaduar/Nextcloud/Genie_Transfer/Filtros/2009/ptp/ptp3010.Chn'),\n  WindowsPath('C:/Users/mmaduar/Nextcloud/Genie_Transfer/Filtros/2009/ptp/ptp3040.Chn'),\n  WindowsPath('C:/Users/mmaduar/Nextcloud/Genie_Transfer/Filtros/2009/ptp/ptp3107.Chn'),\n  WindowsPath('C:/Users/mmaduar/Nextcloud/Genie_Transfer/Filtros/2009/rnp/prn0210.Chn'),\n  WindowsPath('C:/Users/mmaduar/Nextcloud/Genie_Transfer/Filtros/2009/rnp/prn0304.Chn'),\n  WindowsPath('C:/Users/mmaduar/Nextcloud/Genie_Transfer/Filtros/2009/rnp/prn0307.Chn'),\n  WindowsPath('C:/Users/mmaduar/Nextcloud/Genie_Transfer/Filtros/2009/rnp/prn0409.Chn'),\n  WindowsPath('C:/Users/mmaduar/Nextcloud/Genie_Transfer/Filtros/2009/rnp/prn0412.Chn'),\n  WindowsPath('C:/Users/mmaduar/Nextcloud/Genie_Transfer/Filtros/2009/rnp/prn0506.Chn'),\n  WindowsPath('C:/Users/mmaduar/Nextcloud/Genie_Transfer/Filtros/2009/rnp/prn0602.Chn'),\n  WindowsPath('C:/Users/mmaduar/Nextcloud/Genie_Transfer/Filtros/2009/rnp/prn0603.Chn'),\n  WindowsPath('C:/Users/mmaduar/Nextcloud/Genie_Transfer/Filtros/2009/rnp/prn0611.Chn'),\n  WindowsPath('C:/Users/mmaduar/Nextcloud/Genie_Transfer/Filtros/2009/rnp/prn0708.Chn'),\n  WindowsPath('C:/Users/mmaduar/Nextcloud/Genie_Transfer/Filtros/2009/rnp/PRN0805.Chn'),\n  WindowsPath('C:/Users/mmaduar/Nextcloud/Genie_Transfer/Filtros/2009/rnp/prn0901.Chn'),\n  WindowsPath('C:/Users/mmaduar/Nextcloud/Genie_Transfer/Filtros/2009/rnp/prn0904.Chn'),\n  WindowsPath('C:/Users/mmaduar/Nextcloud/Genie_Transfer/Filtros/2009/rnp/prn0910.Chn'),\n  WindowsPath('C:/Users/mmaduar/Nextcloud/Genie_Transfer/Filtros/2009/rnp/prn1007.Chn'),\n  WindowsPath('C:/Users/mmaduar/Nextcloud/Genie_Transfer/Filtros/2009/rnp/prn1109.Chn'),\n  WindowsPath('C:/Users/mmaduar/Nextcloud/Genie_Transfer/Filtros/2009/rnp/prn1112.Chn'),\n  WindowsPath('C:/Users/mmaduar/Nextcloud/Genie_Transfer/Filtros/2009/rnp/prn1206.Chn'),\n  WindowsPath('C:/Users/mmaduar/Nextcloud/Genie_Transfer/Filtros/2009/rnp/prn1302.Chn'),\n  WindowsPath('C:/Users/mmaduar/Nextcloud/Genie_Transfer/Filtros/2009/rnp/prn1303.Chn'),\n  WindowsPath('C:/Users/mmaduar/Nextcloud/Genie_Transfer/Filtros/2009/rnp/prn1311.Chn'),\n  WindowsPath('C:/Users/mmaduar/Nextcloud/Genie_Transfer/Filtros/2009/rnp/prn1408.Chn'),\n  WindowsPath('C:/Users/mmaduar/Nextcloud/Genie_Transfer/Filtros/2009/rnp/prn1505.Chn'),\n  WindowsPath('C:/Users/mmaduar/Nextcloud/Genie_Transfer/Filtros/2009/rnp/prn1601.Chn'),\n  WindowsPath('C:/Users/mmaduar/Nextcloud/Genie_Transfer/Filtros/2009/rnp/prn1610.Chn'),\n  WindowsPath('C:/Users/mmaduar/Nextcloud/Genie_Transfer/Filtros/2009/rnp/prn1704.Chn'),\n  WindowsPath('C:/Users/mmaduar/Nextcloud/Genie_Transfer/Filtros/2009/rnp/prn1707.chn'),\n  WindowsPath('C:/Users/mmaduar/Nextcloud/Genie_Transfer/Filtros/2009/rnp/prn1809.Chn'),\n  WindowsPath('C:/Users/mmaduar/Nextcloud/Genie_Transfer/Filtros/2009/rnp/prn1812.Chn'),\n  WindowsPath('C:/Users/mmaduar/Nextcloud/Genie_Transfer/Filtros/2009/rnp/prn1906.Chn'),\n  WindowsPath('C:/Users/mmaduar/Nextcloud/Genie_Transfer/Filtros/2009/rnp/prn1911.Chn'),\n  WindowsPath('C:/Users/mmaduar/Nextcloud/Genie_Transfer/Filtros/2009/rnp/prn2002.Chn'),\n  WindowsPath('C:/Users/mmaduar/Nextcloud/Genie_Transfer/Filtros/2009/rnp/prn2003.Chn'),\n  WindowsPath('C:/Users/mmaduar/Nextcloud/Genie_Transfer/Filtros/2009/rnp/prn2108.Chn'),\n  WindowsPath('C:/Users/mmaduar/Nextcloud/Genie_Transfer/Filtros/2009/rnp/prn2205.Chn'),\n  WindowsPath('C:/Users/mmaduar/Nextcloud/Genie_Transfer/Filtros/2009/rnp/prn2301.Chn'),\n  WindowsPath('C:/Users/mmaduar/Nextcloud/Genie_Transfer/Filtros/2009/rnp/prn2310.Chn'),\n  WindowsPath('C:/Users/mmaduar/Nextcloud/Genie_Transfer/Filtros/2009/rnp/prn2312.Chn'),\n  WindowsPath('C:/Users/mmaduar/Nextcloud/Genie_Transfer/Filtros/2009/rnp/prn2404.Chn'),\n  WindowsPath('C:/Users/mmaduar/Nextcloud/Genie_Transfer/Filtros/2009/rnp/prn2407.chn'),\n  WindowsPath('C:/Users/mmaduar/Nextcloud/Genie_Transfer/Filtros/2009/rnp/prn2509.Chn'),\n  WindowsPath('C:/Users/mmaduar/Nextcloud/Genie_Transfer/Filtros/2009/rnp/prn2606.Chn'),\n  WindowsPath('C:/Users/mmaduar/Nextcloud/Genie_Transfer/Filtros/2009/rnp/PRN2702.Chn'),\n  WindowsPath('C:/Users/mmaduar/Nextcloud/Genie_Transfer/Filtros/2009/rnp/prn2703.Chn'),\n  WindowsPath('C:/Users/mmaduar/Nextcloud/Genie_Transfer/Filtros/2009/rnp/prn2711.Chn'),\n  WindowsPath('C:/Users/mmaduar/Nextcloud/Genie_Transfer/Filtros/2009/rnp/prn2808.Chn'),\n  WindowsPath('C:/Users/mmaduar/Nextcloud/Genie_Transfer/Filtros/2009/rnp/prn2905.Chn'),\n  WindowsPath('C:/Users/mmaduar/Nextcloud/Genie_Transfer/Filtros/2009/rnp/prn3001.Chn'),\n  WindowsPath('C:/Users/mmaduar/Nextcloud/Genie_Transfer/Filtros/2009/rnp/prn3004.Chn'),\n  WindowsPath('C:/Users/mmaduar/Nextcloud/Genie_Transfer/Filtros/2009/rnp/prn3010.Chn'),\n  WindowsPath('C:/Users/mmaduar/Nextcloud/Genie_Transfer/Filtros/2009/rnp/prn3107.Chn'),\n  WindowsPath('C:/Users/mmaduar/Nextcloud/Genie_Transfer/Filtros/2010/cci/cci 2306.Chn'),\n  WindowsPath('C:/Users/mmaduar/Nextcloud/Genie_Transfer/Filtros/2010/cci/cci0109.Chn'),\n  WindowsPath('C:/Users/mmaduar/Nextcloud/Genie_Transfer/Filtros/2010/cci/cci0112.Chn'),\n  WindowsPath('C:/Users/mmaduar/Nextcloud/Genie_Transfer/Filtros/2010/cci/cci0206.Chn'),\n  WindowsPath('C:/Users/mmaduar/Nextcloud/Genie_Transfer/Filtros/2010/cci/cci0303.Chn'),\n  WindowsPath('C:/Users/mmaduar/Nextcloud/Genie_Transfer/Filtros/2010/cci/cci0311.Chn'),\n  WindowsPath('C:/Users/mmaduar/Nextcloud/Genie_Transfer/Filtros/2010/cci/cci0508.Chn'),\n  WindowsPath('C:/Users/mmaduar/Nextcloud/Genie_Transfer/Filtros/2010/cci/cci0601.Chn'),\n  WindowsPath('C:/Users/mmaduar/Nextcloud/Genie_Transfer/Filtros/2010/cci/cci0610.Chn'),\n  WindowsPath('C:/Users/mmaduar/Nextcloud/Genie_Transfer/Filtros/2010/cci/cci0707.Chn'),\n  WindowsPath('C:/Users/mmaduar/Nextcloud/Genie_Transfer/Filtros/2010/cci/cci0804.Chn'),\n  WindowsPath('C:/Users/mmaduar/Nextcloud/Genie_Transfer/Filtros/2010/cci/cci0812.Chn'),\n  WindowsPath('C:/Users/mmaduar/Nextcloud/Genie_Transfer/Filtros/2010/cci/cci0906.Chn'),\n  WindowsPath('C:/Users/mmaduar/Nextcloud/Genie_Transfer/Filtros/2010/cci/cci1002.Chn'),\n  WindowsPath('C:/Users/mmaduar/Nextcloud/Genie_Transfer/Filtros/2010/cci/cci1011.Chn'),\n  WindowsPath('C:/Users/mmaduar/Nextcloud/Genie_Transfer/Filtros/2010/cci/cci1103.Chn'),\n  WindowsPath('C:/Users/mmaduar/Nextcloud/Genie_Transfer/Filtros/2010/cci/cci1108.Chn'),\n  WindowsPath('C:/Users/mmaduar/Nextcloud/Genie_Transfer/Filtros/2010/cci/cci1310.Chn'),\n  WindowsPath('C:/Users/mmaduar/Nextcloud/Genie_Transfer/Filtros/2010/cci/cci1404.Chn'),\n  WindowsPath('C:/Users/mmaduar/Nextcloud/Genie_Transfer/Filtros/2010/cci/cci1407.Chn'),\n  WindowsPath('C:/Users/mmaduar/Nextcloud/Genie_Transfer/Filtros/2010/cci/cci1512.Chn'),\n  WindowsPath('C:/Users/mmaduar/Nextcloud/Genie_Transfer/Filtros/2010/cci/cci1606.Chn'),\n  WindowsPath('C:/Users/mmaduar/Nextcloud/Genie_Transfer/Filtros/2010/cci/cci1611.Chn'),\n  WindowsPath('C:/Users/mmaduar/Nextcloud/Genie_Transfer/Filtros/2010/cci/cci1703.Chn'),\n  WindowsPath('C:/Users/mmaduar/Nextcloud/Genie_Transfer/Filtros/2010/cci/cci1808.Chn'),\n  WindowsPath('C:/Users/mmaduar/Nextcloud/Genie_Transfer/Filtros/2010/cci/cci1905.Chn'),\n  WindowsPath('C:/Users/mmaduar/Nextcloud/Genie_Transfer/Filtros/2010/cci/cci2001.Chn'),\n  WindowsPath('C:/Users/mmaduar/Nextcloud/Genie_Transfer/Filtros/2010/cci/cci2010.Chn'),\n  WindowsPath('C:/Users/mmaduar/Nextcloud/Genie_Transfer/Filtros/2010/cci/cci2107.Chn'),\n  WindowsPath('C:/Users/mmaduar/Nextcloud/Genie_Transfer/Filtros/2010/cci/cci2402.Chn'),\n  WindowsPath('C:/Users/mmaduar/Nextcloud/Genie_Transfer/Filtros/2010/cci/cci2403.Chn'),\n  WindowsPath('C:/Users/mmaduar/Nextcloud/Genie_Transfer/Filtros/2010/cci/cci2411.Chn'),\n  WindowsPath('C:/Users/mmaduar/Nextcloud/Genie_Transfer/Filtros/2010/cci/cci2508.Chn'),\n  WindowsPath('C:/Users/mmaduar/Nextcloud/Genie_Transfer/Filtros/2010/cci/cci2701.Chn'),\n  WindowsPath('C:/Users/mmaduar/Nextcloud/Genie_Transfer/Filtros/2010/cci/cci2904.Chn'),\n  WindowsPath('C:/Users/mmaduar/Nextcloud/Genie_Transfer/Filtros/2010/cci/cci3103.Chn'),\n  WindowsPath('C:/Users/mmaduar/Nextcloud/Genie_Transfer/Filtros/2010/cci/pci1002.Chn'),\n  WindowsPath('C:/Users/mmaduar/Nextcloud/Genie_Transfer/Filtros/2010/ces/ces0202.Chn'),\n  WindowsPath('C:/Users/mmaduar/Nextcloud/Genie_Transfer/Filtros/2010/crf/crf0104.Chn'),\n  WindowsPath('C:/Users/mmaduar/Nextcloud/Genie_Transfer/Filtros/2010/crf/crf0107.Chn'),\n  WindowsPath('C:/Users/mmaduar/Nextcloud/Genie_Transfer/Filtros/2010/crf/crf0110.Chn'),\n  WindowsPath('C:/Users/mmaduar/Nextcloud/Genie_Transfer/Filtros/2010/crf/crf0206.Chn'),\n  WindowsPath('C:/Users/mmaduar/Nextcloud/Genie_Transfer/Filtros/2010/crf/crf0309.Chn'),\n  WindowsPath('C:/Users/mmaduar/Nextcloud/Genie_Transfer/Filtros/2010/crf/crf0312.Chn'),\n  WindowsPath('C:/Users/mmaduar/Nextcloud/Genie_Transfer/Filtros/2010/crf/crf0502.Chn'),\n  WindowsPath('C:/Users/mmaduar/Nextcloud/Genie_Transfer/Filtros/2010/crf/crf0503.Chn'),\n  WindowsPath('C:/Users/mmaduar/Nextcloud/Genie_Transfer/Filtros/2010/crf/crf0511.Chn'),\n  WindowsPath('C:/Users/mmaduar/Nextcloud/Genie_Transfer/Filtros/2010/crf/crf0705.Chn'),\n  WindowsPath('C:/Users/mmaduar/Nextcloud/Genie_Transfer/Filtros/2010/crf/crf0801.Chn'),\n  WindowsPath('C:/Users/mmaduar/Nextcloud/Genie_Transfer/Filtros/2010/crf/crf0807.Chn'),\n  WindowsPath('C:/Users/mmaduar/Nextcloud/Genie_Transfer/Filtros/2010/crf/crf0810.Chn'),\n  WindowsPath('C:/Users/mmaduar/Nextcloud/Genie_Transfer/Filtros/2010/crf/crf0904.Chn'),\n  WindowsPath('C:/Users/mmaduar/Nextcloud/Genie_Transfer/Filtros/2010/crf/crf1009.Chn'),\n  WindowsPath('C:/Users/mmaduar/Nextcloud/Genie_Transfer/Filtros/2010/crf/crf1012.Chn'),\n  WindowsPath('C:/Users/mmaduar/Nextcloud/Genie_Transfer/Filtros/2010/crf/crf1106.Chn'),\n  WindowsPath('C:/Users/mmaduar/Nextcloud/Genie_Transfer/Filtros/2010/crf/crf1202.Chn'),\n  WindowsPath('C:/Users/mmaduar/Nextcloud/Genie_Transfer/Filtros/2010/crf/crf1203.Chn'),\n  WindowsPath('C:/Users/mmaduar/Nextcloud/Genie_Transfer/Filtros/2010/crf/crf1211.Chn'),\n  WindowsPath('C:/Users/mmaduar/Nextcloud/Genie_Transfer/Filtros/2010/crf/crf1308.Chn'),\n  WindowsPath('C:/Users/mmaduar/Nextcloud/Genie_Transfer/Filtros/2010/crf/crf1405.Chn'),\n  WindowsPath('C:/Users/mmaduar/Nextcloud/Genie_Transfer/Filtros/2010/crf/crf1501.Chn'),\n  WindowsPath('C:/Users/mmaduar/Nextcloud/Genie_Transfer/Filtros/2010/crf/crf1510.Chn'),\n  WindowsPath('C:/Users/mmaduar/Nextcloud/Genie_Transfer/Filtros/2010/crf/crf1604.Chn'),\n  WindowsPath('C:/Users/mmaduar/Nextcloud/Genie_Transfer/Filtros/2010/crf/crf1607.Chn'),\n  WindowsPath('C:/Users/mmaduar/Nextcloud/Genie_Transfer/Filtros/2010/crf/crf1709.Chn'),\n  WindowsPath('C:/Users/mmaduar/Nextcloud/Genie_Transfer/Filtros/2010/crf/crf1712.Chn'),\n  WindowsPath('C:/Users/mmaduar/Nextcloud/Genie_Transfer/Filtros/2010/crf/crf1806.Chn'),\n  WindowsPath('C:/Users/mmaduar/Nextcloud/Genie_Transfer/Filtros/2010/crf/crf1902.Chn'),\n  WindowsPath('C:/Users/mmaduar/Nextcloud/Genie_Transfer/Filtros/2010/crf/crf1903.Chn'),\n  WindowsPath('C:/Users/mmaduar/Nextcloud/Genie_Transfer/Filtros/2010/crf/crf1911.Chn'),\n  WindowsPath('C:/Users/mmaduar/Nextcloud/Genie_Transfer/Filtros/2010/crf/crf2008.Chn'),\n  WindowsPath('C:/Users/mmaduar/Nextcloud/Genie_Transfer/Filtros/2010/crf/crf2105.Chn'),\n  WindowsPath('C:/Users/mmaduar/Nextcloud/Genie_Transfer/Filtros/2010/crf/crf2201.Chn'),\n  WindowsPath('C:/Users/mmaduar/Nextcloud/Genie_Transfer/Filtros/2010/crf/crf2210.Chn'),\n  WindowsPath('C:/Users/mmaduar/Nextcloud/Genie_Transfer/Filtros/2010/crf/crf2304.Chn'),\n  WindowsPath('C:/Users/mmaduar/Nextcloud/Genie_Transfer/Filtros/2010/crf/crf2307.Chn'),\n  WindowsPath('C:/Users/mmaduar/Nextcloud/Genie_Transfer/Filtros/2010/crf/crf2312.Chn'),\n  WindowsPath('C:/Users/mmaduar/Nextcloud/Genie_Transfer/Filtros/2010/crf/crf2406.Chn'),\n  WindowsPath('C:/Users/mmaduar/Nextcloud/Genie_Transfer/Filtros/2010/crf/crf2409.Chn'),\n  WindowsPath('C:/Users/mmaduar/Nextcloud/Genie_Transfer/Filtros/2010/crf/crf2602.Chn'),\n  WindowsPath('C:/Users/mmaduar/Nextcloud/Genie_Transfer/Filtros/2010/crf/crf2603.Chn'),\n  WindowsPath('C:/Users/mmaduar/Nextcloud/Genie_Transfer/Filtros/2010/crf/crf2611.Chn'),\n  WindowsPath('C:/Users/mmaduar/Nextcloud/Genie_Transfer/Filtros/2010/crf/crf2708.Chn'),\n  WindowsPath('C:/Users/mmaduar/Nextcloud/Genie_Transfer/Filtros/2010/crf/crf2805.Chn'),\n  WindowsPath('C:/Users/mmaduar/Nextcloud/Genie_Transfer/Filtros/2010/crf/crf2901.Chn'),\n  WindowsPath('C:/Users/mmaduar/Nextcloud/Genie_Transfer/Filtros/2010/crf/crf2910.Chn'),\n  WindowsPath('C:/Users/mmaduar/Nextcloud/Genie_Transfer/Filtros/2010/crf/crf3004.Chn'),\n  WindowsPath('C:/Users/mmaduar/Nextcloud/Genie_Transfer/Filtros/2010/crf/crf3007.Chn'),\n  WindowsPath('C:/Users/mmaduar/Nextcloud/Genie_Transfer/Filtros/2010/crf/crf3012.Chn'),\n  WindowsPath('C:/Users/mmaduar/Nextcloud/Genie_Transfer/Filtros/2010/crn/crf0608.Chn'),\n  WindowsPath('C:/Users/mmaduar/Nextcloud/Genie_Transfer/Filtros/2010/crn/crn0104.Chn'),\n  WindowsPath('C:/Users/mmaduar/Nextcloud/Genie_Transfer/Filtros/2010/crn/crn0107.Chn'),\n  WindowsPath('C:/Users/mmaduar/Nextcloud/Genie_Transfer/Filtros/2010/crn/crn0110.Chn'),\n  WindowsPath('C:/Users/mmaduar/Nextcloud/Genie_Transfer/Filtros/2010/crn/crn0206.Chn'),\n  WindowsPath('C:/Users/mmaduar/Nextcloud/Genie_Transfer/Filtros/2010/crn/crn0309.Chn'),\n  WindowsPath('C:/Users/mmaduar/Nextcloud/Genie_Transfer/Filtros/2010/crn/crn0312.Chn'),\n  WindowsPath('C:/Users/mmaduar/Nextcloud/Genie_Transfer/Filtros/2010/crn/crn0502.Chn'),\n  WindowsPath('C:/Users/mmaduar/Nextcloud/Genie_Transfer/Filtros/2010/crn/crn0503.Chn'),\n  WindowsPath('C:/Users/mmaduar/Nextcloud/Genie_Transfer/Filtros/2010/crn/crn0511.Chn'),\n  WindowsPath('C:/Users/mmaduar/Nextcloud/Genie_Transfer/Filtros/2010/crn/crn0608.Chn'),\n  WindowsPath('C:/Users/mmaduar/Nextcloud/Genie_Transfer/Filtros/2010/crn/crn0705.Chn'),\n  WindowsPath('C:/Users/mmaduar/Nextcloud/Genie_Transfer/Filtros/2010/crn/crn0801.Chn'),\n  WindowsPath('C:/Users/mmaduar/Nextcloud/Genie_Transfer/Filtros/2010/crn/crn0807.Chn'),\n  WindowsPath('C:/Users/mmaduar/Nextcloud/Genie_Transfer/Filtros/2010/crn/crn0810.Chn'),\n  WindowsPath('C:/Users/mmaduar/Nextcloud/Genie_Transfer/Filtros/2010/crn/crn0904.Chn'),\n  WindowsPath('C:/Users/mmaduar/Nextcloud/Genie_Transfer/Filtros/2010/crn/crn1009.Chn'),\n  WindowsPath('C:/Users/mmaduar/Nextcloud/Genie_Transfer/Filtros/2010/crn/crn1012.Chn'),\n  WindowsPath('C:/Users/mmaduar/Nextcloud/Genie_Transfer/Filtros/2010/crn/crn1106.Chn'),\n  WindowsPath('C:/Users/mmaduar/Nextcloud/Genie_Transfer/Filtros/2010/crn/crn1202.Chn'),\n  WindowsPath('C:/Users/mmaduar/Nextcloud/Genie_Transfer/Filtros/2010/crn/crn1203.Chn'),\n  WindowsPath('C:/Users/mmaduar/Nextcloud/Genie_Transfer/Filtros/2010/crn/crn1211.Chn'),\n  WindowsPath('C:/Users/mmaduar/Nextcloud/Genie_Transfer/Filtros/2010/crn/crn1308.Chn'),\n  WindowsPath('C:/Users/mmaduar/Nextcloud/Genie_Transfer/Filtros/2010/crn/crn1405.Chn'),\n  WindowsPath('C:/Users/mmaduar/Nextcloud/Genie_Transfer/Filtros/2010/crn/crn1501.Chn'),\n  WindowsPath('C:/Users/mmaduar/Nextcloud/Genie_Transfer/Filtros/2010/crn/crn1510.Chn'),\n  WindowsPath('C:/Users/mmaduar/Nextcloud/Genie_Transfer/Filtros/2010/crn/crn1601.Chn'),\n  WindowsPath('C:/Users/mmaduar/Nextcloud/Genie_Transfer/Filtros/2010/crn/crn1604.Chn'),\n  WindowsPath('C:/Users/mmaduar/Nextcloud/Genie_Transfer/Filtros/2010/crn/crn1607.Chn'),\n  WindowsPath('C:/Users/mmaduar/Nextcloud/Genie_Transfer/Filtros/2010/crn/crn1709.Chn'),\n  WindowsPath('C:/Users/mmaduar/Nextcloud/Genie_Transfer/Filtros/2010/crn/crn1712.Chn'),\n  WindowsPath('C:/Users/mmaduar/Nextcloud/Genie_Transfer/Filtros/2010/crn/crn1902.Chn'),\n  WindowsPath('C:/Users/mmaduar/Nextcloud/Genie_Transfer/Filtros/2010/crn/crn1903.Chn'),\n  WindowsPath('C:/Users/mmaduar/Nextcloud/Genie_Transfer/Filtros/2010/crn/crn1911.Chn'),\n  WindowsPath('C:/Users/mmaduar/Nextcloud/Genie_Transfer/Filtros/2010/crn/crn2008.Chn'),\n  WindowsPath('C:/Users/mmaduar/Nextcloud/Genie_Transfer/Filtros/2010/crn/crn2105.Chn'),\n  WindowsPath('C:/Users/mmaduar/Nextcloud/Genie_Transfer/Filtros/2010/crn/crn2201.Chn'),\n  WindowsPath('C:/Users/mmaduar/Nextcloud/Genie_Transfer/Filtros/2010/crn/crn2210.Chn'),\n  WindowsPath('C:/Users/mmaduar/Nextcloud/Genie_Transfer/Filtros/2010/crn/crn2304.Chn'),\n  WindowsPath('C:/Users/mmaduar/Nextcloud/Genie_Transfer/Filtros/2010/crn/crn2307.Chn'),\n  WindowsPath('C:/Users/mmaduar/Nextcloud/Genie_Transfer/Filtros/2010/crn/crn2312.Chn'),\n  WindowsPath('C:/Users/mmaduar/Nextcloud/Genie_Transfer/Filtros/2010/crn/crn2406.Chn'),\n  WindowsPath('C:/Users/mmaduar/Nextcloud/Genie_Transfer/Filtros/2010/crn/crn2409.Chn'),\n  WindowsPath('C:/Users/mmaduar/Nextcloud/Genie_Transfer/Filtros/2010/crn/crn2602.Chn'),\n  WindowsPath('C:/Users/mmaduar/Nextcloud/Genie_Transfer/Filtros/2010/crn/crn2603.Chn'),\n  WindowsPath('C:/Users/mmaduar/Nextcloud/Genie_Transfer/Filtros/2010/crn/crn2611.Chn'),\n  WindowsPath('C:/Users/mmaduar/Nextcloud/Genie_Transfer/Filtros/2010/crn/crn2708.Chn'),\n  WindowsPath('C:/Users/mmaduar/Nextcloud/Genie_Transfer/Filtros/2010/crn/crn2805.Chn'),\n  WindowsPath('C:/Users/mmaduar/Nextcloud/Genie_Transfer/Filtros/2010/crn/crn2901.Chn'),\n  WindowsPath('C:/Users/mmaduar/Nextcloud/Genie_Transfer/Filtros/2010/crn/crn2910.Chn'),\n  WindowsPath('C:/Users/mmaduar/Nextcloud/Genie_Transfer/Filtros/2010/crn/crn3004.Chn'),\n  WindowsPath('C:/Users/mmaduar/Nextcloud/Genie_Transfer/Filtros/2010/crn/crn3007.Chn'),\n  WindowsPath('C:/Users/mmaduar/Nextcloud/Genie_Transfer/Filtros/2010/crn/crn3012.Chn'),\n  WindowsPath('C:/Users/mmaduar/Nextcloud/Genie_Transfer/Filtros/2010/ctp/cpt0309.Chn'),\n  WindowsPath('C:/Users/mmaduar/Nextcloud/Genie_Transfer/Filtros/2010/ctp/cpt1806.Chn'),\n  WindowsPath('C:/Users/mmaduar/Nextcloud/Genie_Transfer/Filtros/2010/ctp/ctp0107.Chn'),\n  WindowsPath('C:/Users/mmaduar/Nextcloud/Genie_Transfer/Filtros/2010/ctp/ctp0110.Chn'),\n  WindowsPath('C:/Users/mmaduar/Nextcloud/Genie_Transfer/Filtros/2010/ctp/ctp0206.Chn'),\n  WindowsPath('C:/Users/mmaduar/Nextcloud/Genie_Transfer/Filtros/2010/ctp/ctp0312.Chn'),\n  WindowsPath('C:/Users/mmaduar/Nextcloud/Genie_Transfer/Filtros/2010/ctp/ctp0502.Chn'),\n  WindowsPath('C:/Users/mmaduar/Nextcloud/Genie_Transfer/Filtros/2010/ctp/ctp0511.Chn'),\n  WindowsPath('C:/Users/mmaduar/Nextcloud/Genie_Transfer/Filtros/2010/ctp/ctp0608.Chn'),\n  WindowsPath('C:/Users/mmaduar/Nextcloud/Genie_Transfer/Filtros/2010/ctp/ctp0705.Chn'),\n  WindowsPath('C:/Users/mmaduar/Nextcloud/Genie_Transfer/Filtros/2010/ctp/ctp0801.Chn'),\n  WindowsPath('C:/Users/mmaduar/Nextcloud/Genie_Transfer/Filtros/2010/ctp/ctp0807.Chn'),\n  WindowsPath('C:/Users/mmaduar/Nextcloud/Genie_Transfer/Filtros/2010/ctp/ctp0810.Chn'),\n  WindowsPath('C:/Users/mmaduar/Nextcloud/Genie_Transfer/Filtros/2010/ctp/ctp0903.Chn'),\n  WindowsPath('C:/Users/mmaduar/Nextcloud/Genie_Transfer/Filtros/2010/ctp/ctp0904.Chn'),\n  WindowsPath('C:/Users/mmaduar/Nextcloud/Genie_Transfer/Filtros/2010/ctp/ctp1009.Chn'),\n  WindowsPath('C:/Users/mmaduar/Nextcloud/Genie_Transfer/Filtros/2010/ctp/ctp1012.Chn'),\n  WindowsPath('C:/Users/mmaduar/Nextcloud/Genie_Transfer/Filtros/2010/ctp/ctp1106.Chn'),\n  WindowsPath('C:/Users/mmaduar/Nextcloud/Genie_Transfer/Filtros/2010/ctp/ctp1202.Chn'),\n  WindowsPath('C:/Users/mmaduar/Nextcloud/Genie_Transfer/Filtros/2010/ctp/ctp1203.Chn'),\n  WindowsPath('C:/Users/mmaduar/Nextcloud/Genie_Transfer/Filtros/2010/ctp/ctp1211.Chn'),\n  WindowsPath('C:/Users/mmaduar/Nextcloud/Genie_Transfer/Filtros/2010/ctp/ctp1211a.Chn'),\n  WindowsPath('C:/Users/mmaduar/Nextcloud/Genie_Transfer/Filtros/2010/ctp/ctp1308.Chn'),\n  WindowsPath('C:/Users/mmaduar/Nextcloud/Genie_Transfer/Filtros/2010/ctp/ctp1405.Chn'),\n  WindowsPath('C:/Users/mmaduar/Nextcloud/Genie_Transfer/Filtros/2010/ctp/ctp1501.Chn'),\n  WindowsPath('C:/Users/mmaduar/Nextcloud/Genie_Transfer/Filtros/2010/ctp/ctp1510.Chn'),\n  WindowsPath('C:/Users/mmaduar/Nextcloud/Genie_Transfer/Filtros/2010/ctp/ctp1604.Chn'),\n  WindowsPath('C:/Users/mmaduar/Nextcloud/Genie_Transfer/Filtros/2010/ctp/ctp1607.Chn'),\n  WindowsPath('C:/Users/mmaduar/Nextcloud/Genie_Transfer/Filtros/2010/ctp/ctp1709.Chn'),\n  WindowsPath('C:/Users/mmaduar/Nextcloud/Genie_Transfer/Filtros/2010/ctp/ctp1712.Chn'),\n  WindowsPath('C:/Users/mmaduar/Nextcloud/Genie_Transfer/Filtros/2010/ctp/ctp1902.Chn'),\n  WindowsPath('C:/Users/mmaduar/Nextcloud/Genie_Transfer/Filtros/2010/ctp/ctp1903.Chn'),\n  WindowsPath('C:/Users/mmaduar/Nextcloud/Genie_Transfer/Filtros/2010/ctp/ctp1911.Chn'),\n  WindowsPath('C:/Users/mmaduar/Nextcloud/Genie_Transfer/Filtros/2010/ctp/ctp2008.Chn'),\n  WindowsPath('C:/Users/mmaduar/Nextcloud/Genie_Transfer/Filtros/2010/ctp/ctp2105.Chn'),\n  WindowsPath('C:/Users/mmaduar/Nextcloud/Genie_Transfer/Filtros/2010/ctp/ctp2201.Chn'),\n  WindowsPath('C:/Users/mmaduar/Nextcloud/Genie_Transfer/Filtros/2010/ctp/ctp2210.Chn'),\n  WindowsPath('C:/Users/mmaduar/Nextcloud/Genie_Transfer/Filtros/2010/ctp/ctp2304.Chn'),\n  WindowsPath('C:/Users/mmaduar/Nextcloud/Genie_Transfer/Filtros/2010/ctp/ctp2307.Chn'),\n  WindowsPath('C:/Users/mmaduar/Nextcloud/Genie_Transfer/Filtros/2010/ctp/ctp2312.Chn'),\n  WindowsPath('C:/Users/mmaduar/Nextcloud/Genie_Transfer/Filtros/2010/ctp/ctp2406.Chn'),\n  WindowsPath('C:/Users/mmaduar/Nextcloud/Genie_Transfer/Filtros/2010/ctp/ctp2409.Chn'),\n  WindowsPath('C:/Users/mmaduar/Nextcloud/Genie_Transfer/Filtros/2010/ctp/ctp2602.Chn'),\n  WindowsPath('C:/Users/mmaduar/Nextcloud/Genie_Transfer/Filtros/2010/ctp/ctp2603.Chn'),\n  WindowsPath('C:/Users/mmaduar/Nextcloud/Genie_Transfer/Filtros/2010/ctp/ctp2611.Chn'),\n  WindowsPath('C:/Users/mmaduar/Nextcloud/Genie_Transfer/Filtros/2010/ctp/ctp2708.Chn'),\n  WindowsPath('C:/Users/mmaduar/Nextcloud/Genie_Transfer/Filtros/2010/ctp/ctp2805.Chn'),\n  WindowsPath('C:/Users/mmaduar/Nextcloud/Genie_Transfer/Filtros/2010/ctp/ctp2901.Chn'),\n  WindowsPath('C:/Users/mmaduar/Nextcloud/Genie_Transfer/Filtros/2010/ctp/ctp2910.Chn'),\n  WindowsPath('C:/Users/mmaduar/Nextcloud/Genie_Transfer/Filtros/2010/ctp/ctp3004.Chn'),\n  WindowsPath('C:/Users/mmaduar/Nextcloud/Genie_Transfer/Filtros/2010/ctp/ctp3007.Chn'),\n  WindowsPath('C:/Users/mmaduar/Nextcloud/Genie_Transfer/Filtros/2010/ctp/ctp3012.Chn'),\n  WindowsPath('C:/Users/mmaduar/Nextcloud/Genie_Transfer/Filtros/2010/pci/pci0109.Chn'),\n  WindowsPath('C:/Users/mmaduar/Nextcloud/Genie_Transfer/Filtros/2010/pci/pci0112.Chn'),\n  WindowsPath('C:/Users/mmaduar/Nextcloud/Genie_Transfer/Filtros/2010/pci/pci0206.Chn'),\n  WindowsPath('C:/Users/mmaduar/Nextcloud/Genie_Transfer/Filtros/2010/pci/pci0303.Chn'),\n  WindowsPath('C:/Users/mmaduar/Nextcloud/Genie_Transfer/Filtros/2010/pci/pci0311.Chn'),\n  WindowsPath('C:/Users/mmaduar/Nextcloud/Genie_Transfer/Filtros/2010/pci/pci0508.Chn'),\n  WindowsPath('C:/Users/mmaduar/Nextcloud/Genie_Transfer/Filtros/2010/pci/pci0601.Chn'),\n  WindowsPath('C:/Users/mmaduar/Nextcloud/Genie_Transfer/Filtros/2010/pci/pci0610.Chn'),\n  WindowsPath('C:/Users/mmaduar/Nextcloud/Genie_Transfer/Filtros/2010/pci/pci0707.Chn'),\n  WindowsPath('C:/Users/mmaduar/Nextcloud/Genie_Transfer/Filtros/2010/pci/pci0804.Chn'),\n  WindowsPath('C:/Users/mmaduar/Nextcloud/Genie_Transfer/Filtros/2010/pci/pci0812.Chn'),\n  WindowsPath('C:/Users/mmaduar/Nextcloud/Genie_Transfer/Filtros/2010/pci/pci0906.Chn'),\n  WindowsPath('C:/Users/mmaduar/Nextcloud/Genie_Transfer/Filtros/2010/pci/pci1011.Chn'),\n  WindowsPath('C:/Users/mmaduar/Nextcloud/Genie_Transfer/Filtros/2010/pci/pci1103.Chn'),\n  WindowsPath('C:/Users/mmaduar/Nextcloud/Genie_Transfer/Filtros/2010/pci/pci1108.Chn'),\n  WindowsPath('C:/Users/mmaduar/Nextcloud/Genie_Transfer/Filtros/2010/pci/pci1310.Chn'),\n  WindowsPath('C:/Users/mmaduar/Nextcloud/Genie_Transfer/Filtros/2010/pci/pci1404.Chn'),\n  WindowsPath('C:/Users/mmaduar/Nextcloud/Genie_Transfer/Filtros/2010/pci/pci1407.Chn'),\n  WindowsPath('C:/Users/mmaduar/Nextcloud/Genie_Transfer/Filtros/2010/pci/pci1512.Chn'),\n  WindowsPath('C:/Users/mmaduar/Nextcloud/Genie_Transfer/Filtros/2010/pci/pci1606.Chn'),\n  WindowsPath('C:/Users/mmaduar/Nextcloud/Genie_Transfer/Filtros/2010/pci/pci1611.Chn'),\n  WindowsPath('C:/Users/mmaduar/Nextcloud/Genie_Transfer/Filtros/2010/pci/pci1703.Chn'),\n  WindowsPath('C:/Users/mmaduar/Nextcloud/Genie_Transfer/Filtros/2010/pci/pci1808.Chn'),\n  WindowsPath('C:/Users/mmaduar/Nextcloud/Genie_Transfer/Filtros/2010/pci/pci1905.Chn'),\n  WindowsPath('C:/Users/mmaduar/Nextcloud/Genie_Transfer/Filtros/2010/pci/pci2001.Chn'),\n  WindowsPath('C:/Users/mmaduar/Nextcloud/Genie_Transfer/Filtros/2010/pci/pci2010.Chn'),\n  WindowsPath('C:/Users/mmaduar/Nextcloud/Genie_Transfer/Filtros/2010/pci/pci2107.Chn'),\n  WindowsPath('C:/Users/mmaduar/Nextcloud/Genie_Transfer/Filtros/2010/pci/pci2306.Chn'),\n  WindowsPath('C:/Users/mmaduar/Nextcloud/Genie_Transfer/Filtros/2010/pci/pci2402.Chn'),\n  WindowsPath('C:/Users/mmaduar/Nextcloud/Genie_Transfer/Filtros/2010/pci/pci2403.Chn'),\n  WindowsPath('C:/Users/mmaduar/Nextcloud/Genie_Transfer/Filtros/2010/pci/pci2411.Chn'),\n  WindowsPath('C:/Users/mmaduar/Nextcloud/Genie_Transfer/Filtros/2010/pci/pci2508.Chn'),\n  WindowsPath('C:/Users/mmaduar/Nextcloud/Genie_Transfer/Filtros/2010/pci/pci2701.Chn'),\n  WindowsPath('C:/Users/mmaduar/Nextcloud/Genie_Transfer/Filtros/2010/pci/pci2904.Chn'),\n  WindowsPath('C:/Users/mmaduar/Nextcloud/Genie_Transfer/Filtros/2010/pci/pci3103.Chn'),\n  WindowsPath('C:/Users/mmaduar/Nextcloud/Genie_Transfer/Filtros/2010/prf/prf 0608.Chn'),\n  WindowsPath('C:/Users/mmaduar/Nextcloud/Genie_Transfer/Filtros/2010/prf/prf0104.Chn'),\n  WindowsPath('C:/Users/mmaduar/Nextcloud/Genie_Transfer/Filtros/2010/prf/prf0107.Chn'),\n  WindowsPath('C:/Users/mmaduar/Nextcloud/Genie_Transfer/Filtros/2010/prf/prf0110.Chn'),\n  WindowsPath('C:/Users/mmaduar/Nextcloud/Genie_Transfer/Filtros/2010/prf/prf0206.Chn'),\n  WindowsPath('C:/Users/mmaduar/Nextcloud/Genie_Transfer/Filtros/2010/prf/prf0309.Chn'),\n  WindowsPath('C:/Users/mmaduar/Nextcloud/Genie_Transfer/Filtros/2010/prf/prf0312.Chn'),\n  WindowsPath('C:/Users/mmaduar/Nextcloud/Genie_Transfer/Filtros/2010/prf/prf0502.Chn'),\n  WindowsPath('C:/Users/mmaduar/Nextcloud/Genie_Transfer/Filtros/2010/prf/prf0503.Chn'),\n  WindowsPath('C:/Users/mmaduar/Nextcloud/Genie_Transfer/Filtros/2010/prf/prf0705.Chn'),\n  WindowsPath('C:/Users/mmaduar/Nextcloud/Genie_Transfer/Filtros/2010/prf/prf0801.Chn'),\n  WindowsPath('C:/Users/mmaduar/Nextcloud/Genie_Transfer/Filtros/2010/prf/prf0807.Chn'),\n  WindowsPath('C:/Users/mmaduar/Nextcloud/Genie_Transfer/Filtros/2010/prf/prf0810.Chn'),\n  WindowsPath('C:/Users/mmaduar/Nextcloud/Genie_Transfer/Filtros/2010/prf/prf0904.Chn'),\n  WindowsPath('C:/Users/mmaduar/Nextcloud/Genie_Transfer/Filtros/2010/prf/prf1009.Chn'),\n  WindowsPath('C:/Users/mmaduar/Nextcloud/Genie_Transfer/Filtros/2010/prf/PRF1012.Chn'),\n  WindowsPath('C:/Users/mmaduar/Nextcloud/Genie_Transfer/Filtros/2010/prf/prf1106.Chn'),\n  WindowsPath('C:/Users/mmaduar/Nextcloud/Genie_Transfer/Filtros/2010/prf/prf1202.Chn'),\n  WindowsPath('C:/Users/mmaduar/Nextcloud/Genie_Transfer/Filtros/2010/prf/prf1203.Chn'),\n  WindowsPath('C:/Users/mmaduar/Nextcloud/Genie_Transfer/Filtros/2010/prf/prf1308.Chn'),\n  WindowsPath('C:/Users/mmaduar/Nextcloud/Genie_Transfer/Filtros/2010/prf/prf1405.Chn'),\n  WindowsPath('C:/Users/mmaduar/Nextcloud/Genie_Transfer/Filtros/2010/prf/prf1510.Chn'),\n  WindowsPath('C:/Users/mmaduar/Nextcloud/Genie_Transfer/Filtros/2010/prf/prf1604.Chn'),\n  WindowsPath('C:/Users/mmaduar/Nextcloud/Genie_Transfer/Filtros/2010/prf/prf1607.Chn'),\n  WindowsPath('C:/Users/mmaduar/Nextcloud/Genie_Transfer/Filtros/2010/prf/prf1709.Chn'),\n  WindowsPath('C:/Users/mmaduar/Nextcloud/Genie_Transfer/Filtros/2010/prf/prf1712.Chn'),\n  WindowsPath('C:/Users/mmaduar/Nextcloud/Genie_Transfer/Filtros/2010/prf/prf1806.Chn'),\n  WindowsPath('C:/Users/mmaduar/Nextcloud/Genie_Transfer/Filtros/2010/prf/prf1902.Chn'),\n  WindowsPath('C:/Users/mmaduar/Nextcloud/Genie_Transfer/Filtros/2010/prf/prf1903.Chn'),\n  WindowsPath('C:/Users/mmaduar/Nextcloud/Genie_Transfer/Filtros/2010/prf/prf2105.Chn'),\n  WindowsPath('C:/Users/mmaduar/Nextcloud/Genie_Transfer/Filtros/2010/prf/prf2201.Chn'),\n  WindowsPath('C:/Users/mmaduar/Nextcloud/Genie_Transfer/Filtros/2010/prf/prf2307.Chn'),\n  WindowsPath('C:/Users/mmaduar/Nextcloud/Genie_Transfer/Filtros/2010/prf/prf2312.Chn'),\n  WindowsPath('C:/Users/mmaduar/Nextcloud/Genie_Transfer/Filtros/2010/prf/prf2406.Chn'),\n  WindowsPath('C:/Users/mmaduar/Nextcloud/Genie_Transfer/Filtros/2010/prf/prf2409.Chn'),\n  WindowsPath('C:/Users/mmaduar/Nextcloud/Genie_Transfer/Filtros/2010/prf/prf2602.Chn'),\n  WindowsPath('C:/Users/mmaduar/Nextcloud/Genie_Transfer/Filtros/2010/prf/prf2603.Chn'),\n  WindowsPath('C:/Users/mmaduar/Nextcloud/Genie_Transfer/Filtros/2010/prf/prf2611.Chn'),\n  WindowsPath('C:/Users/mmaduar/Nextcloud/Genie_Transfer/Filtros/2010/prf/prf2708.Chn'),\n  WindowsPath('C:/Users/mmaduar/Nextcloud/Genie_Transfer/Filtros/2010/prf/prf2805.Chn'),\n  WindowsPath('C:/Users/mmaduar/Nextcloud/Genie_Transfer/Filtros/2010/prf/prf2901.Chn'),\n  WindowsPath('C:/Users/mmaduar/Nextcloud/Genie_Transfer/Filtros/2010/prf/prf3004.Chn'),\n  WindowsPath('C:/Users/mmaduar/Nextcloud/Genie_Transfer/Filtros/2010/prf/prf3007.Chn'),\n  WindowsPath('C:/Users/mmaduar/Nextcloud/Genie_Transfer/Filtros/2010/prf/prf3012.Chn'),\n  WindowsPath('C:/Users/mmaduar/Nextcloud/Genie_Transfer/Filtros/2010/ptp/ptp0107.Chn'),\n  WindowsPath('C:/Users/mmaduar/Nextcloud/Genie_Transfer/Filtros/2010/ptp/ptp0110.Chn'),\n  WindowsPath('C:/Users/mmaduar/Nextcloud/Genie_Transfer/Filtros/2010/ptp/ptp0206.Chn'),\n  WindowsPath('C:/Users/mmaduar/Nextcloud/Genie_Transfer/Filtros/2010/ptp/ptp0309.Chn'),\n  WindowsPath('C:/Users/mmaduar/Nextcloud/Genie_Transfer/Filtros/2010/ptp/ptp0312.Chn'),\n  WindowsPath('C:/Users/mmaduar/Nextcloud/Genie_Transfer/Filtros/2010/ptp/ptp0502.Chn'),\n  WindowsPath('C:/Users/mmaduar/Nextcloud/Genie_Transfer/Filtros/2010/ptp/ptp0503.Chn'),\n  WindowsPath('C:/Users/mmaduar/Nextcloud/Genie_Transfer/Filtros/2010/ptp/ptp0608.Chn'),\n  WindowsPath('C:/Users/mmaduar/Nextcloud/Genie_Transfer/Filtros/2010/ptp/ptp0705.Chn'),\n  WindowsPath('C:/Users/mmaduar/Nextcloud/Genie_Transfer/Filtros/2010/ptp/ptp0801.Chn'),\n  WindowsPath('C:/Users/mmaduar/Nextcloud/Genie_Transfer/Filtros/2010/ptp/ptp0807.Chn'),\n  WindowsPath('C:/Users/mmaduar/Nextcloud/Genie_Transfer/Filtros/2010/ptp/ptp0810.Chn'),\n  WindowsPath('C:/Users/mmaduar/Nextcloud/Genie_Transfer/Filtros/2010/ptp/ptp0904.Chn'),\n  WindowsPath('C:/Users/mmaduar/Nextcloud/Genie_Transfer/Filtros/2010/ptp/ptp1009.Chn'),\n  WindowsPath('C:/Users/mmaduar/Nextcloud/Genie_Transfer/Filtros/2010/ptp/ptp1012.Chn'),\n  WindowsPath('C:/Users/mmaduar/Nextcloud/Genie_Transfer/Filtros/2010/ptp/ptp1106.Chn'),\n  WindowsPath('C:/Users/mmaduar/Nextcloud/Genie_Transfer/Filtros/2010/ptp/ptp1202.Chn'),\n  WindowsPath('C:/Users/mmaduar/Nextcloud/Genie_Transfer/Filtros/2010/ptp/ptp1203.Chn'),\n  WindowsPath('C:/Users/mmaduar/Nextcloud/Genie_Transfer/Filtros/2010/ptp/ptp1308.Chn'),\n  WindowsPath('C:/Users/mmaduar/Nextcloud/Genie_Transfer/Filtros/2010/ptp/ptp1405.Chn'),\n  WindowsPath('C:/Users/mmaduar/Nextcloud/Genie_Transfer/Filtros/2010/ptp/ptp1501.Chn'),\n  WindowsPath('C:/Users/mmaduar/Nextcloud/Genie_Transfer/Filtros/2010/ptp/ptp1604.Chn'),\n  WindowsPath('C:/Users/mmaduar/Nextcloud/Genie_Transfer/Filtros/2010/ptp/ptp1607.Chn'),\n  WindowsPath('C:/Users/mmaduar/Nextcloud/Genie_Transfer/Filtros/2010/ptp/ptp1709.Chn'),\n  WindowsPath('C:/Users/mmaduar/Nextcloud/Genie_Transfer/Filtros/2010/ptp/ptp1712.Chn'),\n  WindowsPath('C:/Users/mmaduar/Nextcloud/Genie_Transfer/Filtros/2010/ptp/ptp1902.Chn'),\n  WindowsPath('C:/Users/mmaduar/Nextcloud/Genie_Transfer/Filtros/2010/ptp/ptp1903.Chn'),\n  WindowsPath('C:/Users/mmaduar/Nextcloud/Genie_Transfer/Filtros/2010/ptp/ptp2008.Chn'),\n  WindowsPath('C:/Users/mmaduar/Nextcloud/Genie_Transfer/Filtros/2010/ptp/ptp2105.Chn'),\n  WindowsPath('C:/Users/mmaduar/Nextcloud/Genie_Transfer/Filtros/2010/ptp/ptp2201.Chn'),\n  WindowsPath('C:/Users/mmaduar/Nextcloud/Genie_Transfer/Filtros/2010/ptp/ptp2307.Chn'),\n  WindowsPath('C:/Users/mmaduar/Nextcloud/Genie_Transfer/Filtros/2010/ptp/ptp2312.Chn'),\n  WindowsPath('C:/Users/mmaduar/Nextcloud/Genie_Transfer/Filtros/2010/ptp/ptp2406.Chn'),\n  WindowsPath('C:/Users/mmaduar/Nextcloud/Genie_Transfer/Filtros/2010/ptp/ptp2409.Chn'),\n  WindowsPath('C:/Users/mmaduar/Nextcloud/Genie_Transfer/Filtros/2010/ptp/ptp2603.Chn'),\n  WindowsPath('C:/Users/mmaduar/Nextcloud/Genie_Transfer/Filtros/2010/ptp/ptp2611.Chn'),\n  WindowsPath('C:/Users/mmaduar/Nextcloud/Genie_Transfer/Filtros/2010/ptp/ptp2708.Chn'),\n  WindowsPath('C:/Users/mmaduar/Nextcloud/Genie_Transfer/Filtros/2010/ptp/ptp2805.Chn'),\n  WindowsPath('C:/Users/mmaduar/Nextcloud/Genie_Transfer/Filtros/2010/ptp/ptp2901.Chn'),\n  WindowsPath('C:/Users/mmaduar/Nextcloud/Genie_Transfer/Filtros/2010/ptp/ptp3004.Chn'),\n  WindowsPath('C:/Users/mmaduar/Nextcloud/Genie_Transfer/Filtros/2010/ptp/ptp3007.Chn'),\n  WindowsPath('C:/Users/mmaduar/Nextcloud/Genie_Transfer/Filtros/2010/ptp/ptp3012.Chn'),\n  WindowsPath('C:/Users/mmaduar/Nextcloud/Genie_Transfer/Filtros/2010/rnp/prn0104.Chn'),\n  WindowsPath('C:/Users/mmaduar/Nextcloud/Genie_Transfer/Filtros/2010/rnp/prn0107.Chn'),\n  WindowsPath('C:/Users/mmaduar/Nextcloud/Genie_Transfer/Filtros/2010/rnp/prn0110.Chn'),\n  WindowsPath('C:/Users/mmaduar/Nextcloud/Genie_Transfer/Filtros/2010/rnp/prn0206.Chn'),\n  WindowsPath('C:/Users/mmaduar/Nextcloud/Genie_Transfer/Filtros/2010/rnp/prn0309.Chn'),\n  WindowsPath('C:/Users/mmaduar/Nextcloud/Genie_Transfer/Filtros/2010/rnp/prn0312.Chn'),\n  WindowsPath('C:/Users/mmaduar/Nextcloud/Genie_Transfer/Filtros/2010/rnp/prn0502.Chn'),\n  WindowsPath('C:/Users/mmaduar/Nextcloud/Genie_Transfer/Filtros/2010/rnp/prn0503.Chn'),\n  WindowsPath('C:/Users/mmaduar/Nextcloud/Genie_Transfer/Filtros/2010/rnp/prn0608.Chn'),\n  WindowsPath('C:/Users/mmaduar/Nextcloud/Genie_Transfer/Filtros/2010/rnp/prn0705.Chn'),\n  WindowsPath('C:/Users/mmaduar/Nextcloud/Genie_Transfer/Filtros/2010/rnp/prn0801.Chn'),\n  WindowsPath('C:/Users/mmaduar/Nextcloud/Genie_Transfer/Filtros/2010/rnp/prn0807.Chn'),\n  WindowsPath('C:/Users/mmaduar/Nextcloud/Genie_Transfer/Filtros/2010/rnp/prn0904.Chn'),\n  WindowsPath('C:/Users/mmaduar/Nextcloud/Genie_Transfer/Filtros/2010/rnp/prn1009.Chn'),\n  WindowsPath('C:/Users/mmaduar/Nextcloud/Genie_Transfer/Filtros/2010/rnp/prn1012.Chn'),\n  WindowsPath('C:/Users/mmaduar/Nextcloud/Genie_Transfer/Filtros/2010/rnp/prn1106.Chn'),\n  WindowsPath('C:/Users/mmaduar/Nextcloud/Genie_Transfer/Filtros/2010/rnp/prn1202.Chn'),\n  WindowsPath('C:/Users/mmaduar/Nextcloud/Genie_Transfer/Filtros/2010/rnp/prn1203.Chn'),\n  WindowsPath('C:/Users/mmaduar/Nextcloud/Genie_Transfer/Filtros/2010/rnp/prn1308.Chn'),\n  WindowsPath('C:/Users/mmaduar/Nextcloud/Genie_Transfer/Filtros/2010/rnp/prn1405.Chn'),\n  WindowsPath('C:/Users/mmaduar/Nextcloud/Genie_Transfer/Filtros/2010/rnp/prn1501.Chn'),\n  WindowsPath('C:/Users/mmaduar/Nextcloud/Genie_Transfer/Filtros/2010/rnp/prn1604.Chn'),\n  WindowsPath('C:/Users/mmaduar/Nextcloud/Genie_Transfer/Filtros/2010/rnp/prn1607.Chn'),\n  WindowsPath('C:/Users/mmaduar/Nextcloud/Genie_Transfer/Filtros/2010/rnp/prn1709.Chn'),\n  WindowsPath('C:/Users/mmaduar/Nextcloud/Genie_Transfer/Filtros/2010/rnp/prn1712.Chn'),\n  WindowsPath('C:/Users/mmaduar/Nextcloud/Genie_Transfer/Filtros/2010/rnp/prn1806.Chn'),\n  WindowsPath('C:/Users/mmaduar/Nextcloud/Genie_Transfer/Filtros/2010/rnp/prn1902.Chn'),\n  WindowsPath('C:/Users/mmaduar/Nextcloud/Genie_Transfer/Filtros/2010/rnp/prn1903.Chn'),\n  WindowsPath('C:/Users/mmaduar/Nextcloud/Genie_Transfer/Filtros/2010/rnp/PRN2008.Chn'),\n  WindowsPath('C:/Users/mmaduar/Nextcloud/Genie_Transfer/Filtros/2010/rnp/prn2105.Chn'),\n  WindowsPath('C:/Users/mmaduar/Nextcloud/Genie_Transfer/Filtros/2010/rnp/prn2201.Chn'),\n  WindowsPath('C:/Users/mmaduar/Nextcloud/Genie_Transfer/Filtros/2010/rnp/prn2307.Chn'),\n  WindowsPath('C:/Users/mmaduar/Nextcloud/Genie_Transfer/Filtros/2010/rnp/prn2312.Chn'),\n  WindowsPath('C:/Users/mmaduar/Nextcloud/Genie_Transfer/Filtros/2010/rnp/prn2406.Chn'),\n  WindowsPath('C:/Users/mmaduar/Nextcloud/Genie_Transfer/Filtros/2010/rnp/prn2409.Chn'),\n  WindowsPath('C:/Users/mmaduar/Nextcloud/Genie_Transfer/Filtros/2010/rnp/prn2602.Chn'),\n  WindowsPath('C:/Users/mmaduar/Nextcloud/Genie_Transfer/Filtros/2010/rnp/prn2603.Chn'),\n  WindowsPath('C:/Users/mmaduar/Nextcloud/Genie_Transfer/Filtros/2010/rnp/prn2611.Chn'),\n  WindowsPath('C:/Users/mmaduar/Nextcloud/Genie_Transfer/Filtros/2010/rnp/prn2708.Chn'),\n  WindowsPath('C:/Users/mmaduar/Nextcloud/Genie_Transfer/Filtros/2010/rnp/prn2805.Chn'),\n  WindowsPath('C:/Users/mmaduar/Nextcloud/Genie_Transfer/Filtros/2010/rnp/prn2901.Chn'),\n  WindowsPath('C:/Users/mmaduar/Nextcloud/Genie_Transfer/Filtros/2010/rnp/prn3004.Chn'),\n  WindowsPath('C:/Users/mmaduar/Nextcloud/Genie_Transfer/Filtros/2010/rnp/prn3007.Chn'),\n  WindowsPath('C:/Users/mmaduar/Nextcloud/Genie_Transfer/Filtros/2010/rnp/prn3012.Chn'),\n  WindowsPath('C:/Users/mmaduar/Nextcloud/Genie_Transfer/Filtros/2011/cci/cci0106.Chn'),\n  WindowsPath('C:/Users/mmaduar/Nextcloud/Genie_Transfer/Filtros/2011/cci/cci0203.Chn'),\n  WindowsPath('C:/Users/mmaduar/Nextcloud/Genie_Transfer/Filtros/2011/cci/cci0302.Chn'),\n  WindowsPath('C:/Users/mmaduar/Nextcloud/Genie_Transfer/Filtros/2011/cci/cci0308.Chn'),\n  WindowsPath('C:/Users/mmaduar/Nextcloud/Genie_Transfer/Filtros/2011/cci/cci0311.Chn'),\n  WindowsPath('C:/Users/mmaduar/Nextcloud/Genie_Transfer/Filtros/2011/cci/cci0405.Chn'),\n  WindowsPath('C:/Users/mmaduar/Nextcloud/Genie_Transfer/Filtros/2011/cci/cci0501.Chn'),\n  WindowsPath('C:/Users/mmaduar/Nextcloud/Genie_Transfer/Filtros/2011/cci/cci0510.Chn'),\n  WindowsPath('C:/Users/mmaduar/Nextcloud/Genie_Transfer/Filtros/2011/cci/cci0604.Chn'),\n  WindowsPath('C:/Users/mmaduar/Nextcloud/Genie_Transfer/Filtros/2011/cci/cci0607.Chn'),\n  WindowsPath('C:/Users/mmaduar/Nextcloud/Genie_Transfer/Filtros/2011/cci/cci0712.Chn'),\n  WindowsPath('C:/Users/mmaduar/Nextcloud/Genie_Transfer/Filtros/2011/cci/cci0806.Chn'),\n  WindowsPath('C:/Users/mmaduar/Nextcloud/Genie_Transfer/Filtros/2011/cci/cci0902.Chn'),\n  WindowsPath('C:/Users/mmaduar/Nextcloud/Genie_Transfer/Filtros/2011/cci/cci1008.Chn'),\n  WindowsPath('C:/Users/mmaduar/Nextcloud/Genie_Transfer/Filtros/2011/cci/cci1011.Chn'),\n  WindowsPath('C:/Users/mmaduar/Nextcloud/Genie_Transfer/Filtros/2011/cci/cci1301.Chn'),\n  WindowsPath('C:/Users/mmaduar/Nextcloud/Genie_Transfer/Filtros/2011/cci/cci1304.Chn'),\n  WindowsPath('C:/Users/mmaduar/Nextcloud/Genie_Transfer/Filtros/2011/cci/cci1307.Chn'),\n  WindowsPath('C:/Users/mmaduar/Nextcloud/Genie_Transfer/Filtros/2011/cci/cci1409.Chn'),\n  WindowsPath('C:/Users/mmaduar/Nextcloud/Genie_Transfer/Filtros/2011/cci/cci1412.Chn'),\n  WindowsPath('C:/Users/mmaduar/Nextcloud/Genie_Transfer/Filtros/2011/cci/cci1506.Chn'),\n  WindowsPath('C:/Users/mmaduar/Nextcloud/Genie_Transfer/Filtros/2011/cci/cci1602.Chn'),\n  WindowsPath('C:/Users/mmaduar/Nextcloud/Genie_Transfer/Filtros/2011/cci/cci1611.Chn'),\n  WindowsPath('C:/Users/mmaduar/Nextcloud/Genie_Transfer/Filtros/2011/cci/CCI1703.Chn'),\n  WindowsPath('C:/Users/mmaduar/Nextcloud/Genie_Transfer/Filtros/2011/cci/cci1708.Chn'),\n  WindowsPath('C:/Users/mmaduar/Nextcloud/Genie_Transfer/Filtros/2011/cci/cci1901.Chn'),\n  WindowsPath('C:/Users/mmaduar/Nextcloud/Genie_Transfer/Filtros/2011/cci/cci1910.Chn'),\n  WindowsPath('C:/Users/mmaduar/Nextcloud/Genie_Transfer/Filtros/2011/cci/cci2007.Chn'),\n  WindowsPath('C:/Users/mmaduar/Nextcloud/Genie_Transfer/Filtros/2011/cci/cci2206.Chn'),\n  WindowsPath('C:/Users/mmaduar/Nextcloud/Genie_Transfer/Filtros/2011/cci/cci2209.Chn'),\n  WindowsPath('C:/Users/mmaduar/Nextcloud/Genie_Transfer/Filtros/2011/cci/cci2212.Chn'),\n  WindowsPath('C:/Users/mmaduar/Nextcloud/Genie_Transfer/Filtros/2011/cci/cci2302.Chn'),\n  WindowsPath('C:/Users/mmaduar/Nextcloud/Genie_Transfer/Filtros/2011/cci/cci2311.Chn'),\n  WindowsPath('C:/Users/mmaduar/Nextcloud/Genie_Transfer/Filtros/2011/cci/cci2408.Chn'),\n  WindowsPath('C:/Users/mmaduar/Nextcloud/Genie_Transfer/Filtros/2011/cci/cci2505.Chn'),\n  WindowsPath('C:/Users/mmaduar/Nextcloud/Genie_Transfer/Filtros/2011/cci/cci2601.Chn'),\n  WindowsPath('C:/Users/mmaduar/Nextcloud/Genie_Transfer/Filtros/2011/cci/cci2610.Chn'),\n  WindowsPath('C:/Users/mmaduar/Nextcloud/Genie_Transfer/Filtros/2011/cci/cci2704.Chn'),\n  WindowsPath('C:/Users/mmaduar/Nextcloud/Genie_Transfer/Filtros/2011/cci/cci2707.Chn'),\n  WindowsPath('C:/Users/mmaduar/Nextcloud/Genie_Transfer/Filtros/2011/cci/cci2809.Chn'),\n  WindowsPath('C:/Users/mmaduar/Nextcloud/Genie_Transfer/Filtros/2011/cci/cci2906.Chn'),\n  WindowsPath('C:/Users/mmaduar/Nextcloud/Genie_Transfer/Filtros/2011/cci/cci3003.Chn'),\n  WindowsPath('C:/Users/mmaduar/Nextcloud/Genie_Transfer/Filtros/2011/cci/cci3108.Chn'),\n  WindowsPath('C:/Users/mmaduar/Nextcloud/Genie_Transfer/Filtros/2011/crf/crf0104.Chn'),\n  WindowsPath('C:/Users/mmaduar/Nextcloud/Genie_Transfer/Filtros/2011/crf/crf0107.Chn'),\n  WindowsPath('C:/Users/mmaduar/Nextcloud/Genie_Transfer/Filtros/2011/crf/crf0209.Chn'),\n  WindowsPath('C:/Users/mmaduar/Nextcloud/Genie_Transfer/Filtros/2011/crf/crf0212.Chn'),\n  WindowsPath('C:/Users/mmaduar/Nextcloud/Genie_Transfer/Filtros/2011/crf/crf0306.Chn'),\n  WindowsPath('C:/Users/mmaduar/Nextcloud/Genie_Transfer/Filtros/2011/crf/crf0402.Chn'),\n  WindowsPath('C:/Users/mmaduar/Nextcloud/Genie_Transfer/Filtros/2011/crf/crf0403.Chn'),\n  WindowsPath('C:/Users/mmaduar/Nextcloud/Genie_Transfer/Filtros/2011/crf/crf0411.Chn'),\n  WindowsPath('C:/Users/mmaduar/Nextcloud/Genie_Transfer/Filtros/2011/crf/crf0508.Chn'),\n  WindowsPath('C:/Users/mmaduar/Nextcloud/Genie_Transfer/Filtros/2011/crf/crf0605.Chn'),\n  WindowsPath('C:/Users/mmaduar/Nextcloud/Genie_Transfer/Filtros/2011/crf/crf0701.Chn'),\n  WindowsPath('C:/Users/mmaduar/Nextcloud/Genie_Transfer/Filtros/2011/crf/crf0710.Chn'),\n  WindowsPath('C:/Users/mmaduar/Nextcloud/Genie_Transfer/Filtros/2011/crf/crf0804.Chn'),\n  WindowsPath('C:/Users/mmaduar/Nextcloud/Genie_Transfer/Filtros/2011/crf/crf0909.Chn'),\n  WindowsPath('C:/Users/mmaduar/Nextcloud/Genie_Transfer/Filtros/2011/crf/crf0912.Chn'),\n  WindowsPath('C:/Users/mmaduar/Nextcloud/Genie_Transfer/Filtros/2011/crf/crf1006.Chn'),\n  WindowsPath('C:/Users/mmaduar/Nextcloud/Genie_Transfer/Filtros/2011/crf/crf1102.Chn'),\n  WindowsPath('C:/Users/mmaduar/Nextcloud/Genie_Transfer/Filtros/2011/crf/crf1103.Chn'),\n  WindowsPath('C:/Users/mmaduar/Nextcloud/Genie_Transfer/Filtros/2011/crf/crf1111.Chn'),\n  WindowsPath('C:/Users/mmaduar/Nextcloud/Genie_Transfer/Filtros/2011/crf/crf1208.Chn'),\n  WindowsPath('C:/Users/mmaduar/Nextcloud/Genie_Transfer/Filtros/2011/crf/crf1305.Chn'),\n  WindowsPath('C:/Users/mmaduar/Nextcloud/Genie_Transfer/Filtros/2011/crf/crf1401.Chn'),\n  WindowsPath('C:/Users/mmaduar/Nextcloud/Genie_Transfer/Filtros/2011/crf/crf1410.Chn'),\n  WindowsPath('C:/Users/mmaduar/Nextcloud/Genie_Transfer/Filtros/2011/crf/crf1504.Chn'),\n  WindowsPath('C:/Users/mmaduar/Nextcloud/Genie_Transfer/Filtros/2011/crf/crf1507.Chn'),\n  WindowsPath('C:/Users/mmaduar/Nextcloud/Genie_Transfer/Filtros/2011/crf/crf1609.Chn'),\n  WindowsPath('C:/Users/mmaduar/Nextcloud/Genie_Transfer/Filtros/2011/crf/crf1612.Chn'),\n  WindowsPath('C:/Users/mmaduar/Nextcloud/Genie_Transfer/Filtros/2011/crf/crf1706.Chn'),\n  WindowsPath('C:/Users/mmaduar/Nextcloud/Genie_Transfer/Filtros/2011/crf/crf1802.Chn'),\n  WindowsPath('C:/Users/mmaduar/Nextcloud/Genie_Transfer/Filtros/2011/crf/crf1803.Chn'),\n  WindowsPath('C:/Users/mmaduar/Nextcloud/Genie_Transfer/Filtros/2011/crf/crf1811.Chn'),\n  WindowsPath('C:/Users/mmaduar/Nextcloud/Genie_Transfer/Filtros/2011/crf/crf1908.Chn'),\n  WindowsPath('C:/Users/mmaduar/Nextcloud/Genie_Transfer/Filtros/2011/crf/crf2005.Chn'),\n  WindowsPath('C:/Users/mmaduar/Nextcloud/Genie_Transfer/Filtros/2011/crf/crf2101.Chn'),\n  WindowsPath('C:/Users/mmaduar/Nextcloud/Genie_Transfer/Filtros/2011/crf/crf2110.Chn'),\n  WindowsPath('C:/Users/mmaduar/Nextcloud/Genie_Transfer/Filtros/2011/crf/crf2207.Chn'),\n  WindowsPath('C:/Users/mmaduar/Nextcloud/Genie_Transfer/Filtros/2011/crf/crf2309.Chn'),\n  WindowsPath('C:/Users/mmaduar/Nextcloud/Genie_Transfer/Filtros/2011/crf/crf2312.Chn'),\n  WindowsPath('C:/Users/mmaduar/Nextcloud/Genie_Transfer/Filtros/2011/crf/crf2406.Chn'),\n  WindowsPath('C:/Users/mmaduar/Nextcloud/Genie_Transfer/Filtros/2011/crf/crf2502.Chn'),\n  WindowsPath('C:/Users/mmaduar/Nextcloud/Genie_Transfer/Filtros/2011/crf/crf2503.Chn'),\n  WindowsPath('C:/Users/mmaduar/Nextcloud/Genie_Transfer/Filtros/2011/crf/crf2511.Chn'),\n  WindowsPath('C:/Users/mmaduar/Nextcloud/Genie_Transfer/Filtros/2011/crf/crf2608.Chn'),\n  WindowsPath('C:/Users/mmaduar/Nextcloud/Genie_Transfer/Filtros/2011/crf/crf2705.Chn'),\n  WindowsPath('C:/Users/mmaduar/Nextcloud/Genie_Transfer/Filtros/2011/crf/crf2801.Chn'),\n  WindowsPath('C:/Users/mmaduar/Nextcloud/Genie_Transfer/Filtros/2011/crf/crf2810.Chn'),\n  WindowsPath('C:/Users/mmaduar/Nextcloud/Genie_Transfer/Filtros/2011/crf/crf2904.Chn'),\n  WindowsPath('C:/Users/mmaduar/Nextcloud/Genie_Transfer/Filtros/2011/crf/crf2907.Chn'),\n  WindowsPath('C:/Users/mmaduar/Nextcloud/Genie_Transfer/Filtros/2011/crf/crf2912.Chn'),\n  WindowsPath('C:/Users/mmaduar/Nextcloud/Genie_Transfer/Filtros/2011/crf/crf3009.Chn'),\n  WindowsPath('C:/Users/mmaduar/Nextcloud/Genie_Transfer/Filtros/2011/crn/crn0104.Chn'),\n  WindowsPath('C:/Users/mmaduar/Nextcloud/Genie_Transfer/Filtros/2011/crn/crn0107-reco.CHN'),\n  WindowsPath('C:/Users/mmaduar/Nextcloud/Genie_Transfer/Filtros/2011/crn/crn0107.Chn'),\n  WindowsPath('C:/Users/mmaduar/Nextcloud/Genie_Transfer/Filtros/2011/crn/crn0209.Chn'),\n  WindowsPath('C:/Users/mmaduar/Nextcloud/Genie_Transfer/Filtros/2011/crn/crn0212.Chn'),\n  WindowsPath('C:/Users/mmaduar/Nextcloud/Genie_Transfer/Filtros/2011/crn/crn0306.Chn'),\n  WindowsPath('C:/Users/mmaduar/Nextcloud/Genie_Transfer/Filtros/2011/crn/crn0402.Chn'),\n  WindowsPath('C:/Users/mmaduar/Nextcloud/Genie_Transfer/Filtros/2011/crn/crn0403.Chn'),\n  WindowsPath('C:/Users/mmaduar/Nextcloud/Genie_Transfer/Filtros/2011/crn/crn0411.Chn'),\n  WindowsPath('C:/Users/mmaduar/Nextcloud/Genie_Transfer/Filtros/2011/crn/crn0508.Chn'),\n  WindowsPath('C:/Users/mmaduar/Nextcloud/Genie_Transfer/Filtros/2011/crn/crn0701.Chn'),\n  WindowsPath('C:/Users/mmaduar/Nextcloud/Genie_Transfer/Filtros/2011/crn/crn0710.Chn'),\n  WindowsPath('C:/Users/mmaduar/Nextcloud/Genie_Transfer/Filtros/2011/crn/crn0804.Chn'),\n  WindowsPath('C:/Users/mmaduar/Nextcloud/Genie_Transfer/Filtros/2011/crn/crn0909.Chn'),\n  WindowsPath('C:/Users/mmaduar/Nextcloud/Genie_Transfer/Filtros/2011/crn/crn0912.Chn'),\n  WindowsPath('C:/Users/mmaduar/Nextcloud/Genie_Transfer/Filtros/2011/crn/crn1006.Chn'),\n  WindowsPath('C:/Users/mmaduar/Nextcloud/Genie_Transfer/Filtros/2011/crn/crn1102.Chn'),\n  WindowsPath('C:/Users/mmaduar/Nextcloud/Genie_Transfer/Filtros/2011/crn/crn1103.Chn'),\n  WindowsPath('C:/Users/mmaduar/Nextcloud/Genie_Transfer/Filtros/2011/crn/crn1111.Chn'),\n  WindowsPath('C:/Users/mmaduar/Nextcloud/Genie_Transfer/Filtros/2011/crn/crn1208.Chn'),\n  WindowsPath('C:/Users/mmaduar/Nextcloud/Genie_Transfer/Filtros/2011/crn/crn1305.Chn'),\n  WindowsPath('C:/Users/mmaduar/Nextcloud/Genie_Transfer/Filtros/2011/crn/crn1401.Chn'),\n  WindowsPath('C:/Users/mmaduar/Nextcloud/Genie_Transfer/Filtros/2011/crn/crn1410.Chn'),\n  WindowsPath('C:/Users/mmaduar/Nextcloud/Genie_Transfer/Filtros/2011/crn/crn1504.Chn'),\n  WindowsPath('C:/Users/mmaduar/Nextcloud/Genie_Transfer/Filtros/2011/crn/crn1507.Chn'),\n  WindowsPath('C:/Users/mmaduar/Nextcloud/Genie_Transfer/Filtros/2011/crn/crn1609.Chn'),\n  WindowsPath('C:/Users/mmaduar/Nextcloud/Genie_Transfer/Filtros/2011/crn/crn1612.Chn'),\n  WindowsPath('C:/Users/mmaduar/Nextcloud/Genie_Transfer/Filtros/2011/crn/crn1706.Chn'),\n  WindowsPath('C:/Users/mmaduar/Nextcloud/Genie_Transfer/Filtros/2011/crn/crn1802.Chn'),\n  WindowsPath('C:/Users/mmaduar/Nextcloud/Genie_Transfer/Filtros/2011/crn/crn1803.Chn'),\n  WindowsPath('C:/Users/mmaduar/Nextcloud/Genie_Transfer/Filtros/2011/crn/crn1811.Chn'),\n  WindowsPath('C:/Users/mmaduar/Nextcloud/Genie_Transfer/Filtros/2011/crn/crn1908.Chn'),\n  WindowsPath('C:/Users/mmaduar/Nextcloud/Genie_Transfer/Filtros/2011/crn/crn2005.Chn'),\n  WindowsPath('C:/Users/mmaduar/Nextcloud/Genie_Transfer/Filtros/2011/crn/crn2101.Chn'),\n  WindowsPath('C:/Users/mmaduar/Nextcloud/Genie_Transfer/Filtros/2011/crn/crn2110.Chn'),\n  WindowsPath('C:/Users/mmaduar/Nextcloud/Genie_Transfer/Filtros/2011/crn/crn2207.Chn'),\n  WindowsPath('C:/Users/mmaduar/Nextcloud/Genie_Transfer/Filtros/2011/crn/crn2309.Chn'),\n  WindowsPath('C:/Users/mmaduar/Nextcloud/Genie_Transfer/Filtros/2011/crn/crn2312.Chn'),\n  WindowsPath('C:/Users/mmaduar/Nextcloud/Genie_Transfer/Filtros/2011/crn/crn2406.Chn'),\n  WindowsPath('C:/Users/mmaduar/Nextcloud/Genie_Transfer/Filtros/2011/crn/crn2502.Chn'),\n  WindowsPath('C:/Users/mmaduar/Nextcloud/Genie_Transfer/Filtros/2011/crn/crn2503.Chn'),\n  WindowsPath('C:/Users/mmaduar/Nextcloud/Genie_Transfer/Filtros/2011/crn/crn2511.Chn'),\n  WindowsPath('C:/Users/mmaduar/Nextcloud/Genie_Transfer/Filtros/2011/crn/crn2608.Chn'),\n  WindowsPath('C:/Users/mmaduar/Nextcloud/Genie_Transfer/Filtros/2011/crn/crn2705.Chn'),\n  WindowsPath('C:/Users/mmaduar/Nextcloud/Genie_Transfer/Filtros/2011/crn/crn2801.Chn'),\n  WindowsPath('C:/Users/mmaduar/Nextcloud/Genie_Transfer/Filtros/2011/crn/crn2810.Chn'),\n  WindowsPath('C:/Users/mmaduar/Nextcloud/Genie_Transfer/Filtros/2011/crn/crn2904.Chn'),\n  WindowsPath('C:/Users/mmaduar/Nextcloud/Genie_Transfer/Filtros/2011/crn/crn2907.Chn'),\n  WindowsPath('C:/Users/mmaduar/Nextcloud/Genie_Transfer/Filtros/2011/crn/crn2912.Chn'),\n  WindowsPath('C:/Users/mmaduar/Nextcloud/Genie_Transfer/Filtros/2011/crn/crn3009.Chn'),\n  WindowsPath('C:/Users/mmaduar/Nextcloud/Genie_Transfer/Filtros/2011/ctp/ctp0104.Chn'),\n  WindowsPath('C:/Users/mmaduar/Nextcloud/Genie_Transfer/Filtros/2011/ctp/ctp0107.Chn'),\n  WindowsPath('C:/Users/mmaduar/Nextcloud/Genie_Transfer/Filtros/2011/ctp/ctp0209.Chn'),\n  WindowsPath('C:/Users/mmaduar/Nextcloud/Genie_Transfer/Filtros/2011/ctp/ctp0212.Chn'),\n  WindowsPath('C:/Users/mmaduar/Nextcloud/Genie_Transfer/Filtros/2011/ctp/ctp0306.Chn'),\n  WindowsPath('C:/Users/mmaduar/Nextcloud/Genie_Transfer/Filtros/2011/ctp/ctp0402.Chn'),\n  WindowsPath('C:/Users/mmaduar/Nextcloud/Genie_Transfer/Filtros/2011/ctp/ctp0403.Chn'),\n  ...],\n 'spc_pth': WindowsPath('C:/Users/mmaduar/Nextcloud/Genie_Transfer'),\n '_i6': 'select_spectrum_from_folder_list(reduc_nms, fil_lst, spc_pth, a_pattern)',\n '_i7': 'xfgn dfn dfny d',\n 'sys': <module 'sys' (built-in)>,\n 'remove_imported_pydev_package': <function pydev_jupyter_utils.remove_imported_pydev_package()>,\n '_pydevd_bundle': <module '_pydevd_bundle' from 'C:\\\\Users\\\\mmaduar\\\\AppData\\\\Local\\\\JetBrains\\\\Toolbox\\\\apps\\\\PyCharm-P\\\\ch-0\\\\223.8836.43\\\\plugins\\\\python\\\\helpers\\\\pydev\\\\_pydevd_bundle\\\\__init__.py'>,\n 'pydev_jupyter_vars': <module 'pydev_jupyter_vars' from 'C:\\\\Users\\\\mmaduar\\\\AppData\\\\Local\\\\JetBrains\\\\Toolbox\\\\apps\\\\PyCharm-P\\\\ch-0\\\\223.8836.43\\\\plugins\\\\python\\\\helpers-pro\\\\jupyter_debug\\\\pydev_jupyter_vars.py'>,\n '_i8': 'xfgn dfn dfny d',\n '_i9': 'vars(ogra)',\n 'DataFrame': pandas.core.frame.DataFrame,\n '_i10': 'vars()'}"
     },
     "execution_count": 10,
     "metadata": {},
     "output_type": "execute_result"
    }
   ],
   "source": [
    "vars()"
   ],
   "metadata": {
    "collapsed": false
   }
  },
  {
   "cell_type": "code",
   "execution_count": null,
   "outputs": [],
   "source": [
    "PAREI AQUI"
   ],
   "metadata": {
    "collapsed": false
   }
  },
  {
   "cell_type": "code",
   "execution_count": null,
   "outputs": [],
   "source": [
    "N = 1000\n",
    "fig = go.Figure(data=go.Scattergl(\n",
    "    x = np.random.randn(N),\n",
    "    y = np.random.randn(N),\n",
    "    mode='markers',\n",
    "    marker=dict(\n",
    "        color=np.random.randn(N),\n",
    "        colorscale='Viridis',\n",
    "        line_width=1\n",
    "    )\n",
    "))\n",
    "\n",
    "fig.update_layout(\n",
    "    width = 800,\n",
    "    height = 500,\n",
    "    margin=dict(l=20, r=20, t=20, b=20),\n",
    "    paper_bgcolor=\"LightSteelBlue\",\n",
    ")\n",
    "\n",
    "fig.write_html('figscattergl1.html', auto_open=True)\n",
    "# fig.show()\n"
   ],
   "metadata": {
    "collapsed": false
   }
  },
  {
   "cell_type": "code",
   "execution_count": null,
   "outputs": [],
   "source": [
    "fig = go.Figure(data=go.Scattergl(\n",
    "    x = x,\n",
    "    y = y_plot,\n",
    "    mode='markers',\n",
    "    #marker=dict(\n",
    "    #    color=np.random.randn(N),\n",
    "    #    colorscale='Viridis',\n",
    "    #    line_width=0.1\n",
    "    #)\n",
    "))\n",
    "\n",
    "fig.update_layout(\n",
    "    width = 900,\n",
    "    height = 500,\n",
    "    margin=dict(l=10, r=10, t=30, b=10),\n",
    "    paper_bgcolor=\"LightSteelBlue\",\n",
    ")\n",
    "fig.write_html('figscattergl2.html', auto_open=True)\n",
    "# fig.show()\n"
   ],
   "metadata": {
    "collapsed": false
   }
  },
  {
   "cell_type": "code",
   "execution_count": null,
   "outputs": [],
   "source": [
    "y_plot = var_rel"
   ],
   "metadata": {
    "collapsed": false
   }
  },
  {
   "cell_type": "code",
   "execution_count": null,
   "outputs": [],
   "source": [
    "fig = go.Figure(data=go.Scattergl(\n",
    "    x = x,\n",
    "    y = y_plot,\n",
    "    mode='markers',\n",
    "    #marker=dict(\n",
    "    #    color=np.random.randn(N),\n",
    "    #    colorscale='Viridis',\n",
    "    #    line_width=0.1\n",
    "    #)\n",
    "))\n",
    "\n",
    "fig.update_layout(\n",
    "    width = 900,\n",
    "    height = 500,\n",
    "    margin=dict(l=10, r=10, t=30, b=10),\n",
    "    paper_bgcolor=\"LightSteelBlue\",\n",
    ")\n",
    "fig.write_html('figscattergl3.html', auto_open=True)\n",
    "# fig.show()\n"
   ],
   "metadata": {
    "collapsed": false
   }
  },
  {
   "cell_type": "code",
   "execution_count": null,
   "outputs": [],
   "source": [],
   "metadata": {
    "collapsed": false
   }
  },
  {
   "cell_type": "code",
   "execution_count": null,
   "outputs": [],
   "source": [],
   "metadata": {
    "collapsed": false
   }
  },
  {
   "cell_type": "code",
   "execution_count": null,
   "outputs": [],
   "source": [
    "# Figure 3\n",
    "figw3 = go.FigureWidget();\n",
    "figw3.add_trace(\n",
    "    go.Scatter(x=chans,\n",
    "               y=ys_net_counts,\n",
    "               name=\"Net counts\",\n",
    "               line=dict(color='green',width=0.5)));\n",
    "figw3.add_trace(\n",
    "    go.Scatter(x=peaks_net,\n",
    "               y=ys_net_counts[peaks_net],\n",
    "               mode=\"markers\",\n",
    "               name=\"net peaks\",\n",
    "               marker=dict(color='cyan',\n",
    "                           symbol='cross',\n",
    "                           size=15,\n",
    "                           opacity=0.7,\n",
    "                           line=dict(color='magenta', width=2.0)\n",
    "                          )\n",
    "              ));\n",
    "figw3.add_trace(\n",
    "    go.Scatter(x=peaks_1,\n",
    "               y=counts[peaks_1],\n",
    "               mode=\"markers\",\n",
    "               name=\"gross peaks\",\n",
    "               marker=dict(color='lightblue',\n",
    "                           symbol='cross',\n",
    "                           size=15,\n",
    "                           opacity=0.7,\n",
    "                           line=dict(color='green', width=2.0)\n",
    "                          )\n",
    "              ));\n",
    "# Set title and scale type\n",
    "figw3.update_layout(title_text=\"Gamma-ray net spectrum\")\n",
    "figw3.update_yaxes(type=\"log\");"
   ],
   "metadata": {
    "collapsed": false
   }
  },
  {
   "cell_type": "code",
   "execution_count": null,
   "outputs": [],
   "source": [
    "figw3.write_html('figw3.html', auto_open=True)"
   ],
   "metadata": {
    "collapsed": false
   }
  },
  {
   "cell_type": "code",
   "execution_count": null,
   "outputs": [],
   "source": [
    "# Essa será a 1b\n",
    "figw1 = go.FigureWidget();\n",
    "\n",
    "# Add Traces\n",
    "\n",
    "figw1.add_trace(\n",
    "    go.Scatter(x=chans_nzero,\n",
    "               y=counts_nzero,\n",
    "               error_y=dict(\n",
    "                   color='orange',width=3.0,\n",
    "                   type='data', # value of error bar given in data coordinates\n",
    "                   array=unc_y,\n",
    "                   visible=True),\n",
    "               name=\"Counts & uncertaintes\",\n",
    "               line=dict(color='orange',width=0.3)));\n",
    "\n",
    "figw1.add_trace(\n",
    "    go.Scatter(x=chans,\n",
    "               y=eval_y,\n",
    "               name=\"eval_y\",\n",
    "               line=dict(color='blue',width=0.5)));\n",
    "\n",
    "figw1.add_trace(\n",
    "    go.Scatter(x=peaks_1,\n",
    "               y=counts[peaks_1],\n",
    "               mode=\"markers\",\n",
    "               name=\"peaks\",\n",
    "               marker=dict(color='cyan',\n",
    "                           symbol='cross',\n",
    "                           size=20,\n",
    "                           opacity=0.5,\n",
    "                           line=dict(color='red', width=2.0)\n",
    "                          )\n",
    "              ));\n",
    "figw1.add_trace(\n",
    "    go.Scatter(x=peaks_net,\n",
    "               y=counts[peaks_net],\n",
    "               mode=\"markers\",\n",
    "               name=\"net peaks\",\n",
    "               marker=dict(color='red',\n",
    "                           symbol='circle',\n",
    "                           size=20,\n",
    "                           opacity=0.4,\n",
    "                           line=dict(color='green', width=2.0)\n",
    "                          )\n",
    "              ));\n",
    "\n",
    "figw4.add_trace(\n",
    "    go.Scatter(x=inis,\n",
    "               y=eval_y[inis],\n",
    "               mode=\"markers\",\n",
    "               name=\"inis\",\n",
    "               marker=dict(color='yellow',\n",
    "                           symbol='pentagon',\n",
    "                           size=10,\n",
    "                           opacity=1.0,\n",
    "                           line=dict(color='green', width=2.0)\n",
    "                          )\n",
    "              ));\n",
    "\n",
    "figw1.add_trace(\n",
    "    go.Scatter(x=fins,\n",
    "               y=eval_y[fins],\n",
    "               mode=\"markers\",\n",
    "               name=\"fins\",\n",
    "               marker=dict(color='cyan',\n",
    "                           symbol='star-triangle-down',\n",
    "                           size=10,\n",
    "                           opacity=1.0,\n",
    "                           line=dict(color='red', width=2.0)\n",
    "                          )\n",
    "              ));\n",
    "\n",
    "figw1.add_trace(\n",
    "    go.Scatter(x=xs_step_bline,\n",
    "               y=ys_step_bline,\n",
    "               name=\"Step baseline\",\n",
    "               line=dict(color='navy',width=0.4)));\n",
    "\n",
    "# Set title and scale type\n",
    "figw1.update_layout(title_text=\"Gamma-ray spectrum excerpt\")\n",
    "figw1.update_yaxes(type=\"log\");\n",
    "\n",
    "# Melhor não abrir inline, que seria simplesmente entrar com o nome do objeto:\n",
    "# figw2\n",
    "# Além de ficar com visualização incômoda, não funciona no JupyterLab; dá o erro:\n",
    "# Error displaying widget: model not found."
   ],
   "metadata": {
    "collapsed": false
   }
  },
  {
   "cell_type": "code",
   "execution_count": null,
   "outputs": [],
   "source": [
    "figw4.write_html('figw4.html', auto_open=True)"
   ],
   "metadata": {
    "collapsed": false
   }
  },
  {
   "cell_type": "code",
   "execution_count": null,
   "outputs": [],
   "source": [],
   "metadata": {
    "collapsed": false
   }
  },
  {
   "cell_type": "code",
   "execution_count": null,
   "outputs": [],
   "source": [
    "# Escolha do que plotar:\n",
    "# y_plot = noisy_y\n",
    "# y_plot = var_win\n",
    "# y_plot = var_rel"
   ],
   "metadata": {
    "collapsed": false
   }
  },
  {
   "cell_type": "code",
   "execution_count": null,
   "outputs": [],
   "source": [
    "pars = Parameters()\n",
    "\n",
    "# line_mod = LinearModel(prefix='line_')\n",
    "# pars.update(line_mod.make_params())\n",
    "# pars['line_intercept'].set(value=200, min=50, max=400)\n",
    "# pars['line_slope'].set(value=0, min=-0.001, max=0.001)\n",
    "\n",
    "# exp_mod = ExponentialModel(prefix='exp_')\n",
    "# pars = exp_mod.guess(y, x=x)\n",
    "\n",
    "gauss1 = GaussianModel(prefix='g1_')\n",
    "pars.update(gauss1.make_params())\n",
    "pars['g1_center'].set(value=c1, min=c1 - 2, max=c1 + 2)\n",
    "pars['g1_sigma'].set(value=s1, min=0.5, max=10)\n",
    "pars['g1_amplitude'].set(value=a1, min=10)\n",
    "\n",
    "# mod = gauss1 + gauss2 + line_mod - step_mod\n",
    "# mod = gauss1 + gauss2 - step_mod\n",
    "mod = gauss1\n",
    "\n",
    "init = mod.eval(pars, x=x)\n",
    "out = mod.fit(y, pars, x=x)\n",
    "\n",
    "print(out.fit_report(min_correl=0.1))\n",
    "\n",
    "fig, axes = plt.subplots(1, 2, figsize=(20, 16))\n",
    "axes[0].set_yscale('log')\n",
    "axes[1].set_yscale('log')\n",
    "axes[0].set_ylim([10, 2.5e6])\n",
    "axes[1].set_ylim([10, 2.5e6])\n",
    "\n",
    "axes[0].plot(x, y, 'b')\n",
    "axes[0].plot(x, init, 'k--', label='initial fit')\n",
    "axes[0].plot(x, out.best_fit, 'r-', label='best fit')\n",
    "axes[0].legend(loc='best')\n",
    "\n",
    "comps = out.eval_components(x=x)\n",
    "axes[1].plot(x, y, 'b')\n",
    "axes[1].plot(x, comps['g1_'], 'g--', label='Gaussian component 1')\n",
    "# axes[1].plot(x, comps['g2_'], 'm--', label='Gaussian component 2')\n",
    "# axes[1].plot(x, comps['line_'], 'k--', label='Linear component')\n",
    "# axes[1].plot(x, -comps['step_'], 'r--', label='Step component')\n",
    "# axes[1].plot(x, comps['exp_'], 'k--', label='Exponential component')\n",
    "axes[1].legend(loc='best')\n",
    "\n",
    "# plt.show()\n",
    "# <end examples/doc_builtinmodels_nistgauss.py>"
   ],
   "metadata": {
    "collapsed": false
   }
  },
  {
   "cell_type": "code",
   "execution_count": null,
   "outputs": [],
   "source": [
    "pars = Parameters()\n",
    "\n",
    "# line_mod = LinearModel(prefix='line_')\n",
    "# pars.update(line_mod.make_params())\n",
    "# pars['line_intercept'].set(value=200, min=50, max=400)\n",
    "# pars['line_slope'].set(value=0, min=-0.001, max=0.001)\n",
    "\n",
    "# exp_mod = ExponentialModel(prefix='exp_')\n",
    "# pars = exp_mod.guess(y, x=x)\n",
    "\n",
    "step_mod = StepModel(form='erf', prefix='step_')\n",
    "pars.update(step_mod.make_params())\n",
    "pars['step_center'].set(value=310, min=305, max=315)\n",
    "# pars['step_sigma'].set(expr='g1_sigma')\n",
    "pars['step_sigma'].set(value=sste)\n",
    "pars['step_amplitude'].set(value=70)\n",
    "\n",
    "gauss1 = GaussianModel(prefix='g1_')\n",
    "pars.update(gauss1.make_params())\n",
    "pars['g1_center'].set(value=c1, min=c1-2, max=c1+2)\n",
    "pars['g1_sigma'].set(value=s1, min=0.5, max=10)\n",
    "pars['g1_amplitude'].set(value=a1, min=10)\n",
    "\n",
    "gauss2 = GaussianModel(prefix='g2_')\n",
    "pars.update(gauss2.make_params())\n",
    "pars['g2_center'].set(value=c2, min=c2-2, max=c2+2)\n",
    "# pars['g2_sigma'].set(expr='g1_sigma')\n",
    "pars['g2_sigma'].set(s2)\n",
    "pars['g2_amplitude'].set(value=a2, min=10)\n",
    "\n",
    "# mod = gauss1 + gauss2 + line_mod - step_mod\n",
    "mod = gauss1 + gauss2 - step_mod\n",
    "\n",
    "init = mod.eval(pars, x=x)\n",
    "out = mod.fit(y, pars, x=x)\n",
    "\n",
    "print(out.fit_report(min_correl=0.1))\n",
    "\n",
    "fig, axes = plt.subplots(1, 2, figsize=(20, 16))\n",
    "axes[0].set_yscale('log')\n",
    "axes[1].set_yscale('log')\n",
    "axes[0].set_ylim([10, 2.5e6])\n",
    "axes[1].set_ylim([10, 2.5e6])\n",
    "\n",
    "axes[0].plot(x, y, 'b')\n",
    "axes[0].plot(x, init, 'k--', label='initial fit')\n",
    "axes[0].plot(x, out.best_fit, 'r-', label='best fit')\n",
    "axes[0].legend(loc='best')\n",
    "\n",
    "comps = out.eval_components(x=x)\n",
    "axes[1].plot(x, y, 'b')\n",
    "axes[1].plot(x, comps['g1_'], 'g--', label='Gaussian component 1')\n",
    "axes[1].plot(x, comps['g2_'], 'm--', label='Gaussian component 2')\n",
    "# axes[1].plot(x, comps['line_'], 'k--', label='Linear component')\n",
    "axes[1].plot(x, -comps['step_'], 'r--', label='Step component')\n",
    "# axes[1].plot(x, comps['exp_'], 'k--', label='Exponential component')\n",
    "axes[1].legend(loc='best')\n",
    "\n",
    "# plt.show()\n",
    "# <end examples/doc_builtinmodels_nistgauss.py>"
   ],
   "metadata": {
    "collapsed": false
   }
  },
  {
   "cell_type": "code",
   "execution_count": null,
   "outputs": [],
   "source": [
    "plot_widths = go.FigureWidget();\n",
    "plot_widths.add_trace(\n",
    "    go.Scatter(x=good_peaks,\n",
    "               y=good_fwhms,\n",
    "               error_y=dict(\n",
    "                   color='orange',width=3.0,\n",
    "                   type='data', # value of error bar given in data coordinates\n",
    "                   array=1.0/np.sqrt(net_promns[is_good_fwhms]),\n",
    "                   visible=True),\n",
    "               name='good_fwhms',\n",
    "               mode='markers',\n",
    "               line=dict(color='blue',width=3.0)));\n",
    "plot_widths.add_trace(\n",
    "    go.Scatter(x=x_fwhm_fit,\n",
    "               y=y_fwhm_fit,\n",
    "               name='FWHMs fit',\n",
    "               line=dict(color='green',width=2.0)));\n",
    "\n",
    "plot_widths.update_layout(title_text=\"Peaks widths\")\n",
    "plot_widths.write_html('plot_widths.html', auto_open=True)"
   ],
   "metadata": {
    "collapsed": false
   }
  },
  {
   "cell_type": "code",
   "execution_count": null,
   "outputs": [],
   "source": [
    "fig1, ax1 = plt.subplots(figsize=(16, 12))\n",
    "ax1.set_yscale('log')\n",
    "ax1.plot(x,y)\n",
    "# ax1.plot(cntarr.x_s[700:760], cntarr.y0s[700:760])"
   ],
   "metadata": {
    "collapsed": false
   }
  },
  {
   "cell_type": "code",
   "execution_count": null,
   "outputs": [],
   "source": [
    "pars = Parameters()\n",
    "\n",
    "gauss1 = GaussianModel(prefix='g1_')\n",
    "pars.update(gauss1.make_params())\n",
    "pars['g1_center'].set(value=420, min=416, max=425)\n",
    "pars['g1_sigma'].set(value=1.0, min=0.5, max=2)\n",
    "pars['g1_amplitude'].set(value=2e6, min=10)\n",
    "\n",
    "gauss2 = GaussianModel(prefix='g2_')\n",
    "pars.update(gauss2.make_params())\n",
    "pars['g2_center'].set(value=412, min=400, max=416)\n",
    "pars['g2_sigma'].set(expr='g1_sigma')\n",
    "pars['g2_amplitude'].set(value=4e4, min=10)\n",
    "\n",
    "mod = gauss1 + gauss2\n",
    "\n",
    "init = mod.eval(pars, x=x)\n",
    "out = mod.fit(y, pars, x=x)\n",
    "\n",
    "print(out.fit_report(min_correl=0.1))\n",
    "\n",
    "fig, axes = plt.subplots(1, 2, figsize=(20, 16))\n",
    "axes[0].set_yscale('log')\n",
    "axes[1].set_yscale('log')\n",
    "axes[0].set_ylim([10, 2e6])\n",
    "axes[1].set_ylim([10, 2e6])\n",
    "\n",
    "axes[0].plot(x, y, 'b')\n",
    "axes[0].plot(x, init, 'k--', label='initial fit')\n",
    "axes[0].plot(x, out.best_fit, 'r-', label='best fit')\n",
    "axes[0].legend(loc='best')\n",
    "\n",
    "comps = out.eval_components(x=x)\n",
    "axes[1].plot(x, y, 'b')\n",
    "axes[1].plot(x, comps['g1_'], 'g--', label='Gaussian component 1')\n",
    "axes[1].plot(x, comps['g2_'], 'm--', label='Gaussian component 2')\n",
    "axes[1].legend(loc='best')\n",
    "\n",
    "# plt.show()\n",
    "# <end examples/doc_builtinmodels_nistgauss.py>\n"
   ],
   "metadata": {
    "collapsed": false
   }
  },
  {
   "cell_type": "code",
   "execution_count": null,
   "outputs": [],
   "source": [],
   "metadata": {
    "collapsed": false
   }
  },
  {
   "cell_type": "code",
   "execution_count": null,
   "outputs": [],
   "source": [
    "# Agora usando algoritmo SkewedGaussianModel"
   ],
   "metadata": {
    "collapsed": false
   }
  },
  {
   "cell_type": "code",
   "execution_count": null,
   "outputs": [],
   "source": [
    "pars = Parameters()\n",
    "\n",
    "gauss1 = SkewedGaussianModel(prefix='g1_')\n",
    "pars.update(gauss1.make_params())\n",
    "pars['g1_center'].set(value=420, min=416, max=425)\n",
    "pars['g1_sigma'].set(value=1.0, min=0.5, max=2)\n",
    "pars['g1_amplitude'].set(value=2e6, min=10)\n",
    "pars['g1_gamma'].set(value=1.0)\n",
    "\n",
    "mod = gauss1\n",
    "\n",
    "init = mod.eval(pars, x=x)\n",
    "out = mod.fit(y, pars, x=x)\n",
    "\n",
    "print(out.fit_report(min_correl=0.1))\n",
    "\n",
    "fig, axes = plt.subplots(1, 2, figsize=(20, 16))\n",
    "axes[0].set_yscale('log')\n",
    "axes[1].set_yscale('log')\n",
    "axes[0].set_ylim([10, 2e6])\n",
    "axes[1].set_ylim([10, 2e6])\n",
    "\n",
    "axes[0].plot(x, y, 'b')\n",
    "axes[0].plot(x, init, 'k--', label='initial fit')\n",
    "axes[0].plot(x, out.best_fit, 'r-', label='best fit')\n",
    "axes[0].legend(loc='best')\n",
    "\n",
    "comps = out.eval_components(x=x)\n",
    "axes[1].plot(x, y, 'b')\n",
    "axes[1].plot(x, comps['g1_'], 'g--', label='Skewed Gaussian component 1')\n",
    "axes[1].legend(loc='best')\n",
    "\n",
    "# plt.show()\n",
    "# <end examples/doc_builtinmodels_nistgauss.py>"
   ],
   "metadata": {
    "collapsed": false
   }
  },
  {
   "cell_type": "code",
   "execution_count": null,
   "outputs": [],
   "source": [],
   "metadata": {
    "collapsed": false
   }
  },
  {
   "cell_type": "code",
   "execution_count": null,
   "outputs": [],
   "source": [
    "fig, axes = plt.subplots(1, 2, figsize=(20, 16))\n",
    "axes[0].set_yscale('log')\n",
    "axes[1].set_yscale('log')\n",
    "axes[0].set_ylim([10, 2e6])\n",
    "axes[1].set_ylim([10, 2e6])\n",
    "\n",
    "axes[0].plot(x, y, 'b')\n",
    "axes[0].plot(x, init, 'k--', label='initial fit')\n",
    "axes[0].plot(x, out.best_fit, 'r-', label='best fit')\n",
    "axes[0].legend(loc='best')\n",
    "\n",
    "comps = out.eval_components(x=x)\n",
    "axes[1].plot(x, y, 'b')\n",
    "axes[1].plot(x, 'g--', label='Genie2k tailed Gaussian')\n",
    "axes[1].legend(loc='best')\n",
    "\n",
    "# plt.show()\n",
    "# <end examples/doc_builtinmodels_nistgauss.py>rg"
   ],
   "metadata": {
    "collapsed": false
   }
  },
  {
   "cell_type": "code",
   "execution_count": null,
   "outputs": [],
   "source": [],
   "metadata": {
    "collapsed": false
   }
  },
  {
   "cell_type": "code",
   "execution_count": null,
   "outputs": [],
   "source": [
    "fig, axes = plt.subplots(1, 2, figsize=(20, 16))\n",
    "axes[0].set_yscale('log')\n",
    "axes[1].set_yscale('log')\n",
    "axes[0].set_ylim([10, 2e6])\n",
    "axes[1].set_ylim([10, 2e6])\n",
    "\n",
    "axes[0].plot(x, y, 'b')\n",
    "axes[0].plot(x, init, 'k--', label='initial fit')\n",
    "axes[0].plot(x, out.best_fit, 'r-', label='best fit')\n",
    "axes[0].legend(loc='best')\n",
    "\n",
    "comps = out.eval_components(x=x)\n",
    "axes[1].plot(x, y, 'b')\n",
    "axes[1].plot(x, comps['g1_'], 'g--', label='Skewed Gaussian component 1')\n",
    "axes[1].legend(loc='best')\n",
    "\n",
    "# plt.show()\n",
    "# <end examples/doc_builtinmodels_nistgauss.py>"
   ],
   "metadata": {
    "collapsed": false
   }
  },
  {
   "cell_type": "code",
   "execution_count": null,
   "outputs": [],
   "source": [
    "def mycurve(x, amp, cen, sig):\n",
    "    loren = lorentzian(x, amplitude=amp, center=cen, sigma=sig)\n",
    "    gauss = gaussian(x, amplitude=amp, center=cen, sigma=sig)\n",
    "    return log(loren) * gradient(gauss) / gradient(x)"
   ],
   "metadata": {
    "collapsed": false
   }
  },
  {
   "cell_type": "code",
   "execution_count": null,
   "outputs": [],
   "source": [
    "fig1, ax1 = plt.subplots(figsize=(16, 12))\n",
    "ax1.set_yscale('log')\n",
    "ax1.plot(x,mycurve(x,1,1,1))\n",
    "# ax1.plot(cntarr.x_s[700:760], cntarr.y0s[700:760])"
   ],
   "metadata": {
    "collapsed": false
   }
  },
  {
   "cell_type": "code",
   "execution_count": null,
   "outputs": [],
   "source": [],
   "metadata": {
    "collapsed": false
   }
  },
  {
   "cell_type": "code",
   "execution_count": null,
   "outputs": [],
   "source": [],
   "metadata": {
    "collapsed": false
   }
  },
  {
   "cell_type": "code",
   "execution_count": null,
   "outputs": [],
   "source": [
    "fig1, ax1 = plt.subplots(figsize=(16, 12))\n",
    "ax1.set_yscale('log')\n",
    "ax1.plot(x,y)\n",
    "# ax1.plot(cntarr.x_s[700:760], cntarr.y0s[700:760])"
   ],
   "metadata": {
    "collapsed": false
   }
  },
  {
   "cell_type": "code",
   "execution_count": null,
   "outputs": [],
   "source": [
    "script = \"\"\"\n",
    "def mycurve(x, amp, cen, sig):\n",
    "    loren = lorentzian(x, amplitude=amp, center=cen, sigma=sig)\n",
    "    gauss = gaussian(x, amplitude=amp, center=cen, sigma=sig)\n",
    "    return log(loren) * gradient(gauss) / gradient(x)\n",
    "\"\"\""
   ],
   "metadata": {
    "collapsed": false
   }
  },
  {
   "cell_type": "code",
   "execution_count": null,
   "outputs": [],
   "source": [
    "mod = ExpressionModel('mycurve(x, height, mid, wid)', init_script=script,\n",
    "                      independent_vars=['x'])"
   ],
   "metadata": {
    "collapsed": false
   }
  },
  {
   "cell_type": "code",
   "execution_count": null,
   "outputs": [],
   "source": [
    "pars = Parameters()\n",
    "pars.update(mod.make_params())\n",
    "pars['height'].set(value=47720)\n",
    "pars['mid'].set(value=1.0)\n",
    "pars['wid'].set(value=2e6)\n",
    "\n",
    "init = mod.eval(pars, x=x)\n",
    "out = mod.fit(y, pars, x=x)\n",
    "\n",
    "print(out.fit_report(min_correl=0.1))"
   ],
   "metadata": {
    "collapsed": false
   }
  },
  {
   "cell_type": "code",
   "execution_count": null,
   "outputs": [],
   "source": [],
   "metadata": {
    "collapsed": false
   }
  },
  {
   "cell_type": "code",
   "execution_count": null,
   "outputs": [],
   "source": [],
   "metadata": {
    "collapsed": false
   }
  },
  {
   "cell_type": "code",
   "execution_count": null,
   "outputs": [],
   "source": [],
   "metadata": {
    "collapsed": false
   }
  },
  {
   "cell_type": "code",
   "execution_count": null,
   "outputs": [],
   "source": [
    "# 2022-Jun-23 Após resgatar o lmfit acima, prosseguir abaixo:"
   ],
   "metadata": {
    "collapsed": false
   }
  },
  {
   "cell_type": "code",
   "execution_count": null,
   "outputs": [],
   "source": [
    "afbvg aerfbaawer gawer"
   ],
   "metadata": {
    "collapsed": false
   }
  },
  {
   "cell_type": "code",
   "execution_count": null,
   "outputs": [],
   "source": [],
   "metadata": {
    "collapsed": false
   }
  },
  {
   "cell_type": "code",
   "execution_count": null,
   "outputs": [],
   "source": [],
   "metadata": {
    "collapsed": false
   }
  },
  {
   "cell_type": "code",
   "execution_count": null,
   "outputs": [],
   "source": [
    "# 2021-Jul-12\n",
    "\n",
    "def resolve_multiplet(internal_pks, y):\n",
    "    good_multifit = False\n",
    "    picos = internal_pks.copy()\n",
    "    max_loop = 10\n",
    "    loop = 0\n",
    "    while not good_multifit:\n",
    "        gausses = []\n",
    "        for i in range(len(picos)):\n",
    "            print(i)\n",
    "            prefix = 'g'+str(i)+'_'\n",
    "            gausses.append(GaussianModel(prefix=prefix))\n",
    "            if i==0:\n",
    "                x = np.linspace(start=0, stop=y.size-1, num=y.size)\n",
    "                pars = gausses[0].guess(y, x=x)\n",
    "                mod = gausses[0]\n",
    "            else:\n",
    "                pars.update(gausses[i].make_params())\n",
    "                mod = mod + gausses[i]\n",
    "            pars[prefix + 'center'].set(value=picos[i],\n",
    "                                        min=picos[i]-2,\n",
    "                                        max=picos[i]+2)\n",
    "            pars[prefix + 'sigma'].set(value=2, min=0.1, max=10)\n",
    "            pars[prefix + 'amplitude'].set(value=y[picos[i]], min=10)\n",
    "        bad_pks = []\n",
    "        init = mod.eval(pars, x=x)\n",
    "        out = mod.fit(y, pars, x=x)\n",
    "        for name, param in out.params.items():\n",
    "            if name[3:]=='center':\n",
    "                if param.stderr is None:\n",
    "                    bad_pks.append(int(name[1]))\n",
    "                else:\n",
    "                    if param.stderr >= 0.5:\n",
    "                        bad_pks.append(int(name[1]))\n",
    "        print(picos)\n",
    "        new_picos = [pico[1] for pico in enumerate(picos) if pico[0] not in bad_pks]\n",
    "        print(new_picos)\n",
    "        print(bad_pks)\n",
    "        print('---------')\n",
    "        picos = new_picos.copy()\n",
    "        loop = loop + 1\n",
    "        good_multifit = bad_pks == [] or loop >= max_loop\n",
    "        # good_multifit = True\n",
    "\n",
    "    print(out.fit_report(min_correl=0.1))\n",
    "\n",
    "    fig, axes = plt.subplots(1, 2, figsize=(12.8, 4.8))\n",
    "    axes[0].plot(x, y, 'b')\n",
    "    axes[0].plot(x, init, 'k--', label='initial fit')\n",
    "    axes[0].plot(x, out.best_fit, 'r-', label='best fit')\n",
    "    axes[0].legend(loc='best')\n",
    "\n",
    "    plt.show()\n",
    "    return out\n",
    "    # <end examples/doc_builtinmodels_nistgauss.py>"
   ],
   "metadata": {
    "collapsed": false
   }
  },
  {
   "cell_type": "code",
   "execution_count": null,
   "outputs": [],
   "source": [],
   "metadata": {
    "collapsed": false
   }
  },
  {
   "cell_type": "code",
   "execution_count": null,
   "outputs": [],
   "source": [],
   "metadata": {
    "collapsed": false
   }
  },
  {
   "cell_type": "code",
   "execution_count": null,
   "outputs": [],
   "source": [
    "fwhms_fit = P.fit(x=good_peaks, y=good_fwhms**2, deg=2, w=np.sqrt(net_promns[is_good_fwhms]))\n",
    "fwhms_fit"
   ],
   "metadata": {
    "collapsed": false
   }
  },
  {
   "cell_type": "code",
   "execution_count": null,
   "outputs": [],
   "source": [
    "plot_widths = go.FigureWidget();\n",
    "plot_widths.add_trace(\n",
    "    go.Scatter(x=good_peaks,\n",
    "               y=good_fwhms,\n",
    "               error_y=dict(\n",
    "                   color='orange',width=3.0,\n",
    "                   type='data', # value of error bar given in data coordinates\n",
    "                   array=1.0/np.sqrt(net_promns[is_good_fwhms]),\n",
    "                   visible=True),\n",
    "               name='good_fwhms',\n",
    "               mode='markers',\n",
    "               line=dict(color='blue',width=3.0)));\n",
    "plot_widths.add_trace(\n",
    "    go.Scatter(x=x_fwhm_fit,\n",
    "               y=y_fwhm_fit,\n",
    "               name='FWHMs fit',\n",
    "               line=dict(color='green',width=2.0)));\n",
    "\n",
    "plot_widths.update_layout(title_text=\"Peaks widths\")\n",
    "plot_widths.write_html('plot_widths.html', auto_open=True)"
   ],
   "metadata": {
    "collapsed": false
   }
  }
 ],
 "metadata": {
  "kernelspec": {
   "display_name": "Python 3",
   "language": "python",
   "name": "python3"
  },
  "language_info": {
   "codemirror_mode": {
    "name": "ipython",
    "version": 2
   },
   "file_extension": ".py",
   "mimetype": "text/x-python",
   "name": "python",
   "nbconvert_exporter": "python",
   "pygments_lexer": "ipython2",
   "version": "2.7.6"
  }
 },
 "nbformat": 4,
 "nbformat_minor": 0
}
