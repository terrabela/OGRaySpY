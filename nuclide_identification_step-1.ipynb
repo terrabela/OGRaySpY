{
 "cells": [
  {
   "cell_type": "code",
   "execution_count": 1,
   "metadata": {
    "tags": [],
    "ExecuteTime": {
     "end_time": "2024-03-27T13:52:24.436066Z",
     "start_time": "2024-03-27T13:52:24.421746Z"
    }
   },
   "outputs": [],
   "source": [
    "\n",
    "# 2022-out-7: Excelente espectro para testes, tenho usado ultimamente:\n",
    "# a_pattern = 'Si/SI2018/SI11318.Chn'\n",
    "# 2022-nov-16: outros espectros:\n",
    "# a_pattern = \"Filtros/2022/Cci/CCI1603-I.Chn\"\n",
    "# a_pattern = \"Filtros/2022/Cci/CCI2302-I.Chn\"\n",
    "\n",
    "# a_pattern = \"Eso_non_existe.Chn\"\n",
    "\n",
    "# 2022-Dez-21 Buscando outro espectro\n",
    "# a_pattern = 'CCI1603-I'\n",
    "# 2022-Dez-28 Este é um espectro mais recente:\n",
    "# a_pattern = 'SI09722.Chn'\n",
    "# 2022-Dez-28 Este é um espectro mais recente que posso comparar com saída do Genie:\n",
    "# a_pattern = 'SI06322.Chn'\n",
    "# a_pattern = 'SI06122.Chn'"
   ]
  },
  {
   "cell_type": "code",
   "execution_count": 2,
   "metadata": {
    "tags": [],
    "ExecuteTime": {
     "end_time": "2024-03-27T13:52:27.288089Z",
     "start_time": "2024-03-27T13:52:25.589987Z"
    }
   },
   "outputs": [],
   "source": [
    "import numpy as np\n",
    "from numpy.polynomial import Polynomial as P  # 2020-09-06 Esta é a nova classe recomendada\n",
    "import pandas as pd\n",
    "from pygments.lexers import go\n",
    "from sklearn import linear_model\n",
    "\n",
    "from dash import Dash, dcc, html, Input, Output, ctx, callback\n",
    "# import plotly.express as px\n",
    "# from plotly.express import data\n",
    "\n",
    "from pathlib import Path, PurePath\n",
    "\n",
    "from random import randrange\n",
    "import plotly.graph_objects as go"
   ]
  },
  {
   "cell_type": "code",
   "execution_count": 3,
   "metadata": {
    "tags": [],
    "ExecuteTime": {
     "end_time": "2024-03-27T13:52:28.412314Z",
     "start_time": "2024-03-27T13:52:28.331323Z"
    }
   },
   "outputs": [],
   "source": [
    "from ograyspy_class import Ograyspy\n",
    "from spec_class import Spec\n",
    "from spec_graphics_class import assemble_graph"
   ]
  },
  {
   "cell_type": "code",
   "outputs": [],
   "source": [],
   "metadata": {
    "collapsed": false,
    "ExecuteTime": {
     "end_time": "2024-03-27T13:52:29.434685Z",
     "start_time": "2024-03-27T13:52:29.419029Z"
    }
   },
   "execution_count": 4
  },
  {
   "cell_type": "code",
   "outputs": [],
   "source": [],
   "metadata": {
    "collapsed": false,
    "ExecuteTime": {
     "end_time": "2024-03-27T13:52:31.944707Z",
     "start_time": "2024-03-27T13:52:31.940174Z"
    }
   },
   "execution_count": 4
  },
  {
   "cell_type": "code",
   "execution_count": 5,
   "metadata": {
    "tags": [],
    "ExecuteTime": {
     "end_time": "2024-03-24T20:34:19.762969Z",
     "start_time": "2024-03-24T20:34:19.716188Z"
    }
   },
   "outputs": [
    {
     "name": "stdout",
     "output_type": "stream",
     "text": [
      "No. spec files:  1037\n"
     ]
    }
   ],
   "source": [
    "to_be_found = 'Genie_Transfer'\n",
    "ogra = Ograyspy(to_be_found)"
   ]
  },
  {
   "cell_type": "code",
   "outputs": [
    {
     "name": "stdout",
     "output_type": "stream",
     "text": [
      "Pedro-notebook\n",
      "Windows_Pedro-notebook.pkl\n"
     ]
    }
   ],
   "source": [
    "print(ogra.info_node)\n",
    "print(ogra.pkl_folder_files)"
   ],
   "metadata": {
    "collapsed": false,
    "ExecuteTime": {
     "end_time": "2024-03-24T20:34:20.537808Z",
     "start_time": "2024-03-24T20:34:20.523646Z"
    }
   },
   "execution_count": 6
  },
  {
   "cell_type": "code",
   "outputs": [
    {
     "data": {
      "text/plain": "                                                             0\ninfo_plat                            Windows-10-10.0.22621-SP0\ninfo_mach                                                AMD64\ninfo_syst                                              Windows\ninfo_node                                       Pedro-notebook\nhome_path                                       C:\\Users\\marce\nspectra_path           C:\\Users\\marce\\Documents\\genie_transfer\nn_files                                                   1037\nspectra_pattern_names   [**/*.[Cc][Hh][Nn], **/*.[Ii][Ee][Cc]]\npkl_folder_files                    Windows_Pedro-notebook.pkl\nresults_path_name                          ../ograyspy_results",
      "text/html": "<div>\n<style scoped>\n    .dataframe tbody tr th:only-of-type {\n        vertical-align: middle;\n    }\n\n    .dataframe tbody tr th {\n        vertical-align: top;\n    }\n\n    .dataframe thead th {\n        text-align: right;\n    }\n</style>\n<table border=\"1\" class=\"dataframe\">\n  <thead>\n    <tr style=\"text-align: right;\">\n      <th></th>\n      <th>0</th>\n    </tr>\n  </thead>\n  <tbody>\n    <tr>\n      <th>info_plat</th>\n      <td>Windows-10-10.0.22621-SP0</td>\n    </tr>\n    <tr>\n      <th>info_mach</th>\n      <td>AMD64</td>\n    </tr>\n    <tr>\n      <th>info_syst</th>\n      <td>Windows</td>\n    </tr>\n    <tr>\n      <th>info_node</th>\n      <td>Pedro-notebook</td>\n    </tr>\n    <tr>\n      <th>home_path</th>\n      <td>C:\\Users\\marce</td>\n    </tr>\n    <tr>\n      <th>spectra_path</th>\n      <td>C:\\Users\\marce\\Documents\\genie_transfer</td>\n    </tr>\n    <tr>\n      <th>n_files</th>\n      <td>1037</td>\n    </tr>\n    <tr>\n      <th>spectra_pattern_names</th>\n      <td>[**/*.[Cc][Hh][Nn], **/*.[Ii][Ee][Cc]]</td>\n    </tr>\n    <tr>\n      <th>pkl_folder_files</th>\n      <td>Windows_Pedro-notebook.pkl</td>\n    </tr>\n    <tr>\n      <th>results_path_name</th>\n      <td>../ograyspy_results</td>\n    </tr>\n  </tbody>\n</table>\n</div>"
     },
     "execution_count": 7,
     "metadata": {},
     "output_type": "execute_result"
    }
   ],
   "source": [
    "ogra.environment_df"
   ],
   "metadata": {
    "collapsed": false,
    "ExecuteTime": {
     "end_time": "2024-03-24T20:34:21.256100Z",
     "start_time": "2024-03-24T20:34:21.227380Z"
    }
   },
   "execution_count": 7
  },
  {
   "cell_type": "code",
   "execution_count": 8,
   "metadata": {
    "tags": [],
    "ExecuteTime": {
     "end_time": "2024-03-24T20:34:21.746990Z",
     "start_time": "2024-03-24T20:34:21.735864Z"
    }
   },
   "outputs": [
    {
     "data": {
      "text/plain": "                                             files_list  \\\n0     C:\\Users\\marce\\Documents\\genie_transfer\\Si\\SI2...   \n1     C:\\Users\\marce\\Documents\\genie_transfer\\Si\\SI2...   \n2     C:\\Users\\marce\\Documents\\genie_transfer\\Si\\SI2...   \n3     C:\\Users\\marce\\Documents\\genie_transfer\\Si\\SI2...   \n4     C:\\Users\\marce\\Documents\\genie_transfer\\Si\\SI2...   \n...                                                 ...   \n1032  C:\\Users\\marce\\Documents\\genie_transfer\\Si\\SI2...   \n1033  C:\\Users\\marce\\Documents\\genie_transfer\\Si\\SI2...   \n1034  C:\\Users\\marce\\Documents\\genie_transfer\\Si\\SI2...   \n1035  C:\\Users\\marce\\Documents\\genie_transfer\\CALFIL...   \n1036  C:\\Users\\marce\\Documents\\genie_transfer\\Si\\SI2...   \n\n      reduced_names_files_list  \n0        Si/SI2003/si02603.chn  \n1       Si/SI2003/si026303.chn  \n2        Si/SI2003/si04803.CHN  \n3        Si/SI2003/si05803.CHN  \n4        Si/SI2003/si05903.CHN  \n...                        ...  \n1032     Si/SI2023/SI03923.Chn  \n1033     Si/SI2023/SI04123.Chn  \n1034     Si/SI2023/SI04423.Chn  \n1035  CALFILES/Jabarra_004.IEC  \n1036     Si/SI2016/SI00716.iec  \n\n[1037 rows x 2 columns]",
      "text/html": "<div>\n<style scoped>\n    .dataframe tbody tr th:only-of-type {\n        vertical-align: middle;\n    }\n\n    .dataframe tbody tr th {\n        vertical-align: top;\n    }\n\n    .dataframe thead th {\n        text-align: right;\n    }\n</style>\n<table border=\"1\" class=\"dataframe\">\n  <thead>\n    <tr style=\"text-align: right;\">\n      <th></th>\n      <th>files_list</th>\n      <th>reduced_names_files_list</th>\n    </tr>\n  </thead>\n  <tbody>\n    <tr>\n      <th>0</th>\n      <td>C:\\Users\\marce\\Documents\\genie_transfer\\Si\\SI2...</td>\n      <td>Si/SI2003/si02603.chn</td>\n    </tr>\n    <tr>\n      <th>1</th>\n      <td>C:\\Users\\marce\\Documents\\genie_transfer\\Si\\SI2...</td>\n      <td>Si/SI2003/si026303.chn</td>\n    </tr>\n    <tr>\n      <th>2</th>\n      <td>C:\\Users\\marce\\Documents\\genie_transfer\\Si\\SI2...</td>\n      <td>Si/SI2003/si04803.CHN</td>\n    </tr>\n    <tr>\n      <th>3</th>\n      <td>C:\\Users\\marce\\Documents\\genie_transfer\\Si\\SI2...</td>\n      <td>Si/SI2003/si05803.CHN</td>\n    </tr>\n    <tr>\n      <th>4</th>\n      <td>C:\\Users\\marce\\Documents\\genie_transfer\\Si\\SI2...</td>\n      <td>Si/SI2003/si05903.CHN</td>\n    </tr>\n    <tr>\n      <th>...</th>\n      <td>...</td>\n      <td>...</td>\n    </tr>\n    <tr>\n      <th>1032</th>\n      <td>C:\\Users\\marce\\Documents\\genie_transfer\\Si\\SI2...</td>\n      <td>Si/SI2023/SI03923.Chn</td>\n    </tr>\n    <tr>\n      <th>1033</th>\n      <td>C:\\Users\\marce\\Documents\\genie_transfer\\Si\\SI2...</td>\n      <td>Si/SI2023/SI04123.Chn</td>\n    </tr>\n    <tr>\n      <th>1034</th>\n      <td>C:\\Users\\marce\\Documents\\genie_transfer\\Si\\SI2...</td>\n      <td>Si/SI2023/SI04423.Chn</td>\n    </tr>\n    <tr>\n      <th>1035</th>\n      <td>C:\\Users\\marce\\Documents\\genie_transfer\\CALFIL...</td>\n      <td>CALFILES/Jabarra_004.IEC</td>\n    </tr>\n    <tr>\n      <th>1036</th>\n      <td>C:\\Users\\marce\\Documents\\genie_transfer\\Si\\SI2...</td>\n      <td>Si/SI2016/SI00716.iec</td>\n    </tr>\n  </tbody>\n</table>\n<p>1037 rows × 2 columns</p>\n</div>"
     },
     "execution_count": 8,
     "metadata": {},
     "output_type": "execute_result"
    }
   ],
   "source": [
    "ogra.spectra_names_df"
   ]
  },
  {
   "cell_type": "code",
   "outputs": [],
   "source": [],
   "metadata": {
    "collapsed": false,
    "ExecuteTime": {
     "end_time": "2024-03-24T20:34:22.508997Z",
     "start_time": "2024-03-24T20:34:22.498379Z"
    }
   },
   "execution_count": 8
  },
  {
   "cell_type": "code",
   "outputs": [
    {
     "data": {
      "text/plain": "WindowsPath('C:/Users/marce/Documents/genie_transfer')"
     },
     "execution_count": 9,
     "metadata": {},
     "output_type": "execute_result"
    }
   ],
   "source": [
    "test1 = ogra.spectra_path\n",
    "test1"
   ],
   "metadata": {
    "collapsed": false,
    "ExecuteTime": {
     "end_time": "2024-03-24T20:34:23.065569Z",
     "start_time": "2024-03-24T20:34:23.052419Z"
    }
   },
   "execution_count": 9
  },
  {
   "cell_type": "code",
   "outputs": [
    {
     "data": {
      "text/plain": "'Si/SI2003/si02603.chn'"
     },
     "execution_count": 10,
     "metadata": {},
     "output_type": "execute_result"
    }
   ],
   "source": [
    "test2 = ogra.spectra_names_df.reduced_names_files_list[0]\n",
    "test2"
   ],
   "metadata": {
    "collapsed": false,
    "ExecuteTime": {
     "end_time": "2024-03-24T20:34:23.599315Z",
     "start_time": "2024-03-24T20:34:23.585585Z"
    }
   },
   "execution_count": 10
  },
  {
   "cell_type": "code",
   "outputs": [
    {
     "data": {
      "text/plain": "PureWindowsPath('C:/Users/marce/Documents/genie_transfer/Si/SI2003/si02603.chn')"
     },
     "execution_count": 11,
     "metadata": {},
     "output_type": "execute_result"
    }
   ],
   "source": [
    "test3 = PurePath(test1, test2)\n",
    "test3"
   ],
   "metadata": {
    "collapsed": false,
    "ExecuteTime": {
     "end_time": "2024-03-24T20:34:24.567876Z",
     "start_time": "2024-03-24T20:34:24.553899Z"
    }
   },
   "execution_count": 11
  },
  {
   "cell_type": "code",
   "outputs": [],
   "source": [
    "# a_spec, graf = assemble_graph(test2, test1, to_smooth=True)\n",
    "a_spec = Spec(test2, test1, to_smooth=True)"
   ],
   "metadata": {
    "collapsed": false,
    "ExecuteTime": {
     "end_time": "2024-03-24T20:34:29.872661Z",
     "start_time": "2024-03-24T20:34:29.837319Z"
    }
   },
   "execution_count": 12
  },
  {
   "cell_type": "code",
   "outputs": [
    {
     "data": {
      "text/plain": "          xs  ys\n0        0.0   0\n1        1.0   0\n2        2.0   0\n3        3.0   0\n4        4.0   0\n...      ...  ..\n4091  4091.0   6\n4092  4092.0   7\n4093  4093.0   6\n4094  4094.0  15\n4095  4095.0   4\n\n[4096 rows x 2 columns]",
      "text/html": "<div>\n<style scoped>\n    .dataframe tbody tr th:only-of-type {\n        vertical-align: middle;\n    }\n\n    .dataframe tbody tr th {\n        vertical-align: top;\n    }\n\n    .dataframe thead th {\n        text-align: right;\n    }\n</style>\n<table border=\"1\" class=\"dataframe\">\n  <thead>\n    <tr style=\"text-align: right;\">\n      <th></th>\n      <th>xs</th>\n      <th>ys</th>\n    </tr>\n  </thead>\n  <tbody>\n    <tr>\n      <th>0</th>\n      <td>0.0</td>\n      <td>0</td>\n    </tr>\n    <tr>\n      <th>1</th>\n      <td>1.0</td>\n      <td>0</td>\n    </tr>\n    <tr>\n      <th>2</th>\n      <td>2.0</td>\n      <td>0</td>\n    </tr>\n    <tr>\n      <th>3</th>\n      <td>3.0</td>\n      <td>0</td>\n    </tr>\n    <tr>\n      <th>4</th>\n      <td>4.0</td>\n      <td>0</td>\n    </tr>\n    <tr>\n      <th>...</th>\n      <td>...</td>\n      <td>...</td>\n    </tr>\n    <tr>\n      <th>4091</th>\n      <td>4091.0</td>\n      <td>6</td>\n    </tr>\n    <tr>\n      <th>4092</th>\n      <td>4092.0</td>\n      <td>7</td>\n    </tr>\n    <tr>\n      <th>4093</th>\n      <td>4093.0</td>\n      <td>6</td>\n    </tr>\n    <tr>\n      <th>4094</th>\n      <td>4094.0</td>\n      <td>15</td>\n    </tr>\n    <tr>\n      <th>4095</th>\n      <td>4095.0</td>\n      <td>4</td>\n    </tr>\n  </tbody>\n</table>\n<p>4096 rows × 2 columns</p>\n</div>"
     },
     "execution_count": 13,
     "metadata": {},
     "output_type": "execute_result"
    }
   ],
   "source": [
    "df_2 = pd.DataFrame({'xs': a_spec.origin_spec_ser_an.x_s,\n",
    "                     'ys': a_spec.origin_spec_ser_an.y_s})\n",
    "df_2"
   ],
   "metadata": {
    "collapsed": false,
    "ExecuteTime": {
     "end_time": "2024-03-24T20:34:31.433333Z",
     "start_time": "2024-03-24T20:34:31.419502Z"
    }
   },
   "execution_count": 13
  },
  {
   "cell_type": "code",
   "outputs": [
    {
     "data": {
      "text/plain": "'Si/SI2003/si02603.chn'"
     },
     "execution_count": 16,
     "metadata": {},
     "output_type": "execute_result"
    }
   ],
   "source": [
    "df =  ogra.spectra_names_df\n",
    "df.reduced_names_files_list.unique()[0]"
   ],
   "metadata": {
    "collapsed": false,
    "ExecuteTime": {
     "end_time": "2024-03-24T20:36:16.540380Z",
     "start_time": "2024-03-24T20:36:16.529708Z"
    }
   },
   "execution_count": 16
  },
  {
   "cell_type": "code",
   "outputs": [],
   "source": [],
   "metadata": {
    "collapsed": false
   },
   "execution_count": 0
  },
  {
   "cell_type": "code",
   "outputs": [],
   "source": [],
   "metadata": {
    "collapsed": false
   },
   "execution_count": 0
  },
  {
   "cell_type": "code",
   "outputs": [
    {
     "data": {
      "text/plain": "<IPython.lib.display.IFrame at 0x1e90438ee80>",
      "text/html": "\n        <iframe\n            width=\"100%\"\n            height=\"650\"\n            src=\"http://127.0.0.1:8050/\"\n            frameborder=\"0\"\n            allowfullscreen\n        ></iframe>\n        "
     },
     "metadata": {},
     "output_type": "display_data"
    }
   ],
   "source": [
    "df_2 = pd.DataFrame({'xs': a_spec.origin_spec_ser_an.x_s,\n",
    "                     'ys': a_spec.origin_spec_ser_an.y_s})\n",
    "\n",
    "app = Dash(__name__)\n",
    "app.layout = html.Div([\n",
    "    dcc.Dropdown(df.reduced_names_files_list.unique(), id='pandas-dropdown-2',\n",
    "                 value=df.reduced_names_files_list.unique()[0]),\n",
    "    dcc.Graph(id='plot-with-smooth-slider'),\n",
    "    dcc.Slider(1, 13, step=None, value=7, id='k-smooth'),\n",
    "    html.Div(id='container-ctx-example')\n",
    "])\n",
    "\n",
    "@callback(\n",
    "    Output('container-ctx-example', 'children'),\n",
    "    Input('k-smooth', 'value'),\n",
    "    Input('pandas-dropdown-2', 'value'))\n",
    "def display(k_value, spname):\n",
    "    button_clicked = ctx.triggered_id \n",
    "    return html.Div([\n",
    "        dcc.Markdown(\n",
    "            f'''You last clicked button with ID {button_clicked}. Values: {k_value} and {spname}. \n",
    "            ''' if button_clicked else '''You haven't clicked any button yet''')\n",
    "    ])\n",
    "\n",
    "if __name__ == '__main__':\n",
    "    app.run(debug=True)\n"
   ],
   "metadata": {
    "collapsed": false,
    "ExecuteTime": {
     "end_time": "2024-03-24T20:37:01.114700Z",
     "start_time": "2024-03-24T20:37:00.985498Z"
    }
   },
   "execution_count": 17
  },
  {
   "cell_type": "code",
   "outputs": [],
   "source": [
    "PAREI AQUI\n",
    "# a_spec, graf = assemble_graph(spname, test1)"
   ],
   "metadata": {
    "collapsed": false
   },
   "execution_count": 14
  },
  {
   "cell_type": "code",
   "outputs": [],
   "source": [
    "# 2022-Dez-28 Esse é um espectro mais recente que posso comparar com saída do Genie:\n",
    "a_pattern = 'SI06122.Chn'"
   ],
   "metadata": {
    "collapsed": false
   },
   "execution_count": 0
  },
  {
   "cell_type": "code",
   "outputs": [],
   "source": [
    "# 2024-Mar DESATIVADO\n",
    "# f_name, reduced_f_name = select_spectrum_from_folder_list(reduc_nms, fil_lst, spc_pth, a_pattern)\n",
    "# f_name, reduced_f_name"
   ],
   "metadata": {
    "collapsed": false
   },
   "execution_count": 0
  },
  {
   "cell_type": "code",
   "outputs": [],
   "source": [],
   "metadata": {
    "collapsed": false
   },
   "execution_count": 0
  },
  {
   "cell_type": "code",
   "outputs": [],
   "source": [],
   "metadata": {
    "collapsed": false
   },
   "execution_count": 0
  },
  {
   "cell_type": "code",
   "outputs": [],
   "source": [
    "# 2024-Feb-15: Reactivate to analyze with rough sums\n",
    "# a_spec.total_analysis(gener_dataframe=True, results_path='../ograyspy_results')\n",
    "# A opção acima, gener_dataframe=True,  grava o pkl_file do espectro\n",
    "# vars(a_spec)"
   ],
   "metadata": {
    "collapsed": false
   },
   "execution_count": 0
  },
  {
   "cell_type": "code",
   "outputs": [],
   "source": [
    "# 2024-Feb-15:\n",
    "# Testing lmfit\n",
    "a_spec.total_analysis(peak_area_calc_method='gaussian_with_tail')\n",
    "# A opção acima, gener_dataframe=True,  grava o pkl_file do espectro\n"
   ],
   "metadata": {
    "collapsed": false
   },
   "execution_count": 0
  },
  {
   "cell_type": "code",
   "outputs": [],
   "source": [
    "vars(a_spec)"
   ],
   "metadata": {
    "collapsed": false
   },
   "execution_count": 0
  },
  {
   "cell_type": "code",
   "outputs": [],
   "source": [
    "vars(a_spec.origin_spec_ser_an)"
   ],
   "metadata": {
    "collapsed": false
   },
   "execution_count": 0
  },
  {
   "cell_type": "code",
   "outputs": [],
   "source": [
    "spec_name = 'Si/SI2023/SI02923.Chn'\n",
    "print (test1)"
   ],
   "metadata": {
    "collapsed": false
   },
   "execution_count": 0
  },
  {
   "cell_type": "code",
   "outputs": [],
   "source": [
    "a_spec = Spec(spec_name, test1, to_smooth=True)\n",
    "vars(a_spec)"
   ],
   "metadata": {
    "collapsed": false
   },
   "execution_count": 0
  },
  {
   "cell_type": "markdown",
   "source": [],
   "metadata": {
    "collapsed": false
   }
  },
  {
   "cell_type": "code",
   "outputs": [],
   "source": [
    "df_2 = pd.DataFrame({'xs': a_spec.origin_spec_ser_an.x_s,\n",
    "                     'ys': a_spec.origin_spec_ser_an.y_s,\n",
    "                     'ysmo': a_spec.origin_spec_ser_an.y_smoothed})"
   ],
   "metadata": {
    "collapsed": false
   },
   "execution_count": 0
  },
  {
   "cell_type": "code",
   "outputs": [],
   "source": [
    "fig2 = go.Figure()\n",
    "fig2.add_scatter( df_2, x='xs', y= ['ys', 'ysmo'], log_x=False, log_y=True, title=spec_name)\n",
    "fig2.show()"
   ],
   "metadata": {
    "collapsed": false
   },
   "execution_count": 0
  },
  {
   "cell_type": "code",
   "outputs": [],
   "source": [
    "def update_fig(k_value, spec_name):\n",
    "    upd_trigg = ctx.triggered_id\n",
    "    fig2 = px.scatter(x=\"xs\", y=\"ys\", log_y=True)\n",
    "    if upd_trigg == 'pandas-dropdown-2':\n",
    "        a_spec = Spec(spec_name, test1)\n",
    "        print(spec_name)\n",
    "        df_2 = pd.DataFrame({'xs': a_spec.origin_spec_ser_an.x_s,\n",
    "                             'ys': a_spec.origin_spec_ser_an.y_s})\n",
    "        fig2.update_layout(transition_duration=200)\n",
    "    # assemble_graph(value, ogra.spectra_path)\n",
    "    return fig2\n"
   ],
   "metadata": {
    "collapsed": false
   },
   "execution_count": 0
  },
  {
   "cell_type": "code",
   "outputs": [],
   "source": [],
   "metadata": {
    "collapsed": false
   },
   "execution_count": 0
  },
  {
   "cell_type": "code",
   "outputs": [],
   "source": [
    "df = px.data.gapminder().query(\"continent=='Americas'\")\n",
    "df"
   ],
   "metadata": {
    "collapsed": false,
    "ExecuteTime": {
     "start_time": "2024-03-24T20:23:13.972405Z"
    }
   },
   "execution_count": null
  },
  {
   "cell_type": "code",
   "outputs": [],
   "source": [
    "fig = px.line(df, x=\"year\", y=\"lifeExp\", color='country')\n",
    "fig.show()"
   ],
   "metadata": {
    "collapsed": false
   },
   "execution_count": null
  },
  {
   "cell_type": "code",
   "outputs": [],
   "source": [
    "st ghsh tsrehtsrth "
   ],
   "metadata": {
    "collapsed": false,
    "ExecuteTime": {
     "start_time": "2024-03-24T20:23:13.977889Z"
    }
   },
   "execution_count": null
  },
  {
   "cell_type": "code",
   "outputs": [],
   "source": [],
   "metadata": {
    "collapsed": false
   }
  },
  {
   "cell_type": "code",
   "outputs": [
    {
     "data": {
      "text/plain": "<IPython.lib.display.IFrame at 0x1e9047cd780>",
      "text/html": "\n        <iframe\n            width=\"100%\"\n            height=\"650\"\n            src=\"http://127.0.0.1:8050/\"\n            frameborder=\"0\"\n            allowfullscreen\n        ></iframe>\n        "
     },
     "metadata": {},
     "output_type": "display_data"
    }
   ],
   "source": [
    "app2 = Dash('teste2')\n",
    "\n",
    "app2.layout = html.Div([\n",
    "    dcc.Graph(id='plot-with-smooth-slider'),\n",
    "    dcc.Slider(1, 13, step=None, value=7, id='k-smooth')\n",
    "])\n",
    "\n",
    "\n",
    "@callback(\n",
    "    Output('plot-with-smooth-slider', 'value'),\n",
    "    Input('k-smooth', 'value'))\n",
    "def update_fig(selected_smooth):\n",
    "    teste_df['kjhkjerr_rel'] = selected_smooth * teste_df['varncs']\n",
    "    fig2 = px.scatter(teste_df, x=\"valors\",\n",
    "                      y=\"kjhkjerr_rel\",\n",
    "                      size=\"varncs\", hover_name=\"nucls\",\n",
    "                      size_max=55)\n",
    "    fig2.update_layout(transition_duration=500)\n",
    "\n",
    "    return fig2\n",
    "\n",
    "\n",
    "app2.run(debug=True)"
   ],
   "metadata": {
    "collapsed": false,
    "ExecuteTime": {
     "end_time": "2024-03-24T20:38:25.285514Z",
     "start_time": "2024-03-24T20:38:25.037546Z"
    }
   },
   "execution_count": 18
  },
  {
   "cell_type": "code",
   "outputs": [],
   "source": [
    "# The End"
   ],
   "metadata": {
    "ExecuteTime": {
     "start_time": "2024-03-24T20:23:13.988186Z"
    }
   },
   "execution_count": null
  },
  {
   "cell_type": "code",
   "outputs": [],
   "source": [],
   "metadata": {
    "collapsed": false
   },
   "execution_count": null
  }
 ],
 "metadata": {
  "kernelspec": {
   "display_name": "Python 3 (ipykernel)",
   "language": "python",
   "name": "python3"
  },
  "language_info": {
   "codemirror_mode": {
    "name": "ipython",
    "version": 3
   },
   "file_extension": ".py",
   "mimetype": "text/x-python",
   "name": "python",
   "nbconvert_exporter": "python",
   "pygments_lexer": "ipython3",
   "version": "3.11.5"
  }
 },
 "nbformat": 4,
 "nbformat_minor": 4
}
