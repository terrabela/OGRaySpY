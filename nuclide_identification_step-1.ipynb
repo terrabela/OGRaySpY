{
 "cells": [
  {
   "cell_type": "code",
   "execution_count": 1,
   "metadata": {
    "tags": [],
    "ExecuteTime": {
     "end_time": "2024-02-08T15:25:20.220598600Z",
     "start_time": "2024-02-08T15:25:20.207174400Z"
    }
   },
   "outputs": [],
   "source": [
    "\n",
    "# 2022-out-7: Excelente espectro para testes, tenho usado ultimamente:\n",
    "# a_pattern = 'Si/SI2018/SI11318.Chn'\n",
    "# 2022-nov-16: outros espectros:\n",
    "# a_pattern = \"Filtros/2022/Cci/CCI1603-I.Chn\"\n",
    "# a_pattern = \"Filtros/2022/Cci/CCI2302-I.Chn\"\n",
    "\n",
    "# a_pattern = \"Eso_non_existe.Chn\"\n",
    "\n",
    "# 2022-Dez-21 Buscando outro espectro\n",
    "# a_pattern = 'CCI1603-I'\n",
    "# 2022-Dez-28 Este é um espectro mais recente:\n",
    "# a_pattern = 'SI09722.Chn'\n",
    "# 2022-Dez-28 Este é um espectro mais recente que posso comparar com saída do Genie:\n",
    "# a_pattern = 'SI06322.Chn'\n",
    "# a_pattern = 'SI06122.Chn'"
   ]
  },
  {
   "cell_type": "code",
   "execution_count": 2,
   "metadata": {
    "tags": [],
    "ExecuteTime": {
     "end_time": "2024-02-08T15:25:50.825532Z",
     "start_time": "2024-02-08T15:25:46.130400400Z"
    }
   },
   "outputs": [],
   "source": [
    "import numpy as np\n",
    "from numpy.polynomial import Polynomial as P  # 2020-09-06 Esta é a nova classe recomendada\n",
    "from sklearn import linear_model\n",
    "\n",
    "import pandas as pd\n",
    "from random import randrange\n",
    "# import plotly.graph_objects as go"
   ]
  },
  {
   "cell_type": "code",
   "execution_count": 3,
   "metadata": {
    "tags": [],
    "ExecuteTime": {
     "end_time": "2024-02-08T15:25:53.814761700Z",
     "start_time": "2024-02-08T15:25:53.705640200Z"
    }
   },
   "outputs": [],
   "source": [
    "from ograyspy_class import Ograyspy, select_spectrum_from_folder_list\n",
    "from spec_class import Spec"
   ]
  },
  {
   "cell_type": "code",
   "execution_count": 4,
   "metadata": {
    "tags": [],
    "ExecuteTime": {
     "end_time": "2024-02-08T15:26:00.051582600Z",
     "start_time": "2024-02-08T15:25:59.110240300Z"
    }
   },
   "outputs": [
    {
     "name": "stdout",
     "output_type": "stream",
     "text": [
      "Found folder name:  C:\\Users\\mmaduar\\.atom\n",
      "Parts:  ('C:\\\\', 'Users', 'mmaduar', '.atom')\n",
      "No. spec files:  0\n",
      "I56611\n"
     ]
    }
   ],
   "source": [
    "ogra = Ograyspy()\n",
    "print(ogra.info_node)\n",
    "to_be_found = 'Genie_Transfer'\n",
    "# to_be_found = 'some_spectra' # NAO ESTAH ACHANDO localmente no note!"
   ]
  },
  {
   "cell_type": "code",
   "execution_count": 5,
   "metadata": {
    "tags": [],
    "ExecuteTime": {
     "end_time": "2024-02-08T15:26:11.258307100Z",
     "start_time": "2024-02-08T15:26:08.013368500Z"
    }
   },
   "outputs": [
    {
     "name": "stdout",
     "output_type": "stream",
     "text": [
      "\n",
      "Exec ogra.define_files_folder(to_be_found):\n",
      "Found folder name:  C:\\Users\\mmaduar\\Nextcloud\\Genie_Transfer\n",
      "Parts:  ('C:\\\\', 'Users', 'mmaduar', 'Nextcloud', 'Genie_Transfer')\n",
      "No. spec files:  7317\n",
      "WindowsI56611.pkl\n"
     ]
    }
   ],
   "source": [
    "print('\\nExec ogra.define_files_folder(to_be_found):')\n",
    "ogra.define_files_folder(to_be_found)\n",
    "print(ogra.pkl_folder_files)\n",
    "spectra_list_df = pd.read_pickle(ogra.pkl_folder_files)\n",
    "del ogra"
   ]
  },
  {
   "cell_type": "code",
   "execution_count": 6,
   "metadata": {
    "tags": [],
    "ExecuteTime": {
     "end_time": "2024-01-03T20:12:17.357823300Z",
     "start_time": "2024-01-03T20:12:17.339888300Z"
    }
   },
   "outputs": [],
   "source": [
    "reduc_nms = spectra_list_df.reduced_names_files_list[0]\n",
    "fil_lst = spectra_list_df.files_list[0]\n",
    "spc_pth = spectra_list_df.spectra_path[0]"
   ]
  },
  {
   "cell_type": "code",
   "execution_count": 7,
   "metadata": {
    "tags": [],
    "ExecuteTime": {
     "end_time": "2024-01-03T20:12:18.700721800Z",
     "start_time": "2024-01-03T20:12:18.632640500Z"
    }
   },
   "outputs": [
    {
     "data": {
      "text/plain": "7316"
     },
     "execution_count": 7,
     "metadata": {},
     "output_type": "execute_result"
    }
   ],
   "source": [
    "len(reduc_nms)"
   ]
  },
  {
   "cell_type": "code",
   "execution_count": 8,
   "metadata": {
    "tags": [],
    "ExecuteTime": {
     "end_time": "2024-01-03T20:12:19.746602800Z",
     "start_time": "2024-01-03T20:12:19.722991500Z"
    }
   },
   "outputs": [],
   "source": [
    "# 2022-Dez-28 Esse é um espectro mais recente que posso comparar com saída do Genie:\n",
    "a_pattern = 'SI06122.Chn'"
   ]
  },
  {
   "cell_type": "code",
   "execution_count": 9,
   "metadata": {
    "tags": [],
    "ExecuteTime": {
     "end_time": "2024-01-03T20:12:25.212743100Z",
     "start_time": "2024-01-03T20:12:25.194081900Z"
    }
   },
   "outputs": [
    {
     "name": "stdout",
     "output_type": "stream",
     "text": [
      "Existing:\n",
      "Achou! indice=7212, nomearq = Si/SI2022/SI06122.Chn\n",
      "==========================\n",
      "Final choices:\n",
      "spectra_path: C:\\Users\\mmaduar\\Nextcloud\\Genie_Transfer\n",
      "a_spec_name: C:\\Users\\mmaduar\\Nextcloud\\Genie_Transfer\\Si\\SI2022\\SI06122.Chn\n",
      "reduced_f_name: Si/SI2022/SI06122.Chn\n"
     ]
    },
    {
     "data": {
      "text/plain": "(WindowsPath('C:/Users/mmaduar/Nextcloud/Genie_Transfer/Si/SI2022/SI06122.Chn'),\n 'Si/SI2022/SI06122.Chn')"
     },
     "execution_count": 9,
     "metadata": {},
     "output_type": "execute_result"
    }
   ],
   "source": [
    "f_name, reduced_f_name = select_spectrum_from_folder_list(reduc_nms, fil_lst, spc_pth, a_pattern)\n",
    "f_name, reduced_f_name"
   ]
  },
  {
   "cell_type": "code",
   "execution_count": 9,
   "metadata": {
    "ExecuteTime": {
     "end_time": "2024-01-03T20:12:45.119041400Z",
     "start_time": "2024-01-03T20:12:45.097239300Z"
    }
   },
   "outputs": [],
   "source": []
  },
  {
   "cell_type": "code",
   "execution_count": 10,
   "metadata": {
    "tags": [],
    "ExecuteTime": {
     "end_time": "2024-01-03T20:14:24.286388500Z",
     "start_time": "2024-01-03T20:14:23.826817700Z"
    }
   },
   "outputs": [],
   "source": [
    "a_spec = Spec(f_name, reduced_f_name)"
   ]
  },
  {
   "cell_type": "code",
   "execution_count": 11,
   "outputs": [
    {
     "data": {
      "text/plain": "{'net_spec_ser_an': None,\n 'final_composed_baseline': None,\n 'f_name': WindowsPath('C:/Users/mmaduar/Nextcloud/Genie_Transfer/Si/SI2022/SI06122.Chn'),\n 'reduced_f_name': 'Si/SI2022/SI06122.Chn',\n 'sufx': '.chn',\n 'spec_io': None,\n 'lv_time': 50000.0,\n 'rl_time': 50028.96,\n 'source_datetime': None,\n 'results_pkl_file': WindowsPath('.'),\n 'origin_spec_ser_an': <generic_series_analysis_class.GenericSeriesAnalysis at 0x2bf2d7cd760>,\n 'start_datetime': datetime.datetime(2022, 7, 27, 16, 56, 29),\n 'det_descr': 'MAQUINA_01 MCB 1 Input 1',\n 'sam_descr': 'SI-061/22 Agua da Piscina Reator IEA-R1 (GMX)',\n 'channel_energy_calib': <genericcalib_class.ChannelEnergyCalib at 0x2bf1d440a90>,\n 'nucl_an': <nuclide_analysis_class.NuclideAnalysis at 0x2bf1d440250>}"
     },
     "execution_count": 11,
     "metadata": {},
     "output_type": "execute_result"
    }
   ],
   "source": [
    "vars (a_spec)"
   ],
   "metadata": {
    "collapsed": false,
    "ExecuteTime": {
     "end_time": "2024-01-03T20:14:27.004681500Z",
     "start_time": "2024-01-03T20:14:26.987369600Z"
    }
   }
  },
  {
   "cell_type": "code",
   "execution_count": 11,
   "outputs": [],
   "source": [],
   "metadata": {
    "collapsed": false,
    "ExecuteTime": {
     "end_time": "2024-01-03T20:18:08.542650400Z",
     "start_time": "2024-01-03T20:18:08.521480200Z"
    }
   }
  },
  {
   "cell_type": "code",
   "outputs": [
    {
     "name": "stdout",
     "output_type": "stream",
     "text": [
      "Starting Spec.total_analysis...\n",
      "resolve_peaks_and_regions:\n",
      "define_multiplets_regions completado. Define: self.mix_regions.\n",
      "resolve_peaks_and_regions:\n",
      "define_multiplets_regions completado. Define: self.mix_regions.\n",
      "Si\\SI2022\\SI06122.Chn\n",
      "Si\\SI2022\\SI06122_result.pkl\n",
      "results_pkl_file\n",
      "..\\ograyspy_results\\Si\\SI2022\\SI06122_result.pkl\n",
      "Finish Spec.total_analysis!\n"
     ]
    },
    {
     "data": {
      "text/plain": "{'net_spec_ser_an': <generic_series_analysis_class.GenericSeriesAnalysis at 0x2bf1d427f70>,\n 'final_composed_baseline': <generic_series_analysis_class.GenericSeriesAnalysis at 0x2bf1d4341c0>,\n 'f_name': WindowsPath('C:/Users/mmaduar/Nextcloud/Genie_Transfer/Si/SI2022/SI06122.Chn'),\n 'reduced_f_name': 'Si/SI2022/SI06122.Chn',\n 'sufx': '.chn',\n 'spec_io': None,\n 'lv_time': 50000.0,\n 'rl_time': 50028.96,\n 'source_datetime': None,\n 'results_pkl_file': WindowsPath('../ograyspy_results/Si/SI2022/SI06122_result.pkl'),\n 'origin_spec_ser_an': <generic_series_analysis_class.GenericSeriesAnalysis at 0x2bf2d7cd760>,\n 'start_datetime': datetime.datetime(2022, 7, 27, 16, 56, 29),\n 'det_descr': 'MAQUINA_01 MCB 1 Input 1',\n 'sam_descr': 'SI-061/22 Agua da Piscina Reator IEA-R1 (GMX)',\n 'channel_energy_calib': <genericcalib_class.ChannelEnergyCalib at 0x2bf1d440a90>,\n 'nucl_an': <nuclide_analysis_class.NuclideAnalysis at 0x2bf1d440250>}"
     },
     "execution_count": 12,
     "metadata": {},
     "output_type": "execute_result"
    }
   ],
   "source": [
    "a_spec.total_analysis(gener_dataframe=True, results_path='../ograyspy_results')\n",
    "# A opção acima, gener_dataframe=True,  grava o pkl_file do espectro\n",
    "vars(a_spec)"
   ],
   "metadata": {
    "collapsed": false,
    "ExecuteTime": {
     "end_time": "2024-01-03T20:18:10.295400600Z",
     "start_time": "2024-01-03T20:18:10.017509100Z"
    }
   },
   "execution_count": 12
  },
  {
   "cell_type": "code",
   "execution_count": 13,
   "metadata": {
    "ExecuteTime": {
     "end_time": "2024-01-03T20:18:14.525436600Z",
     "start_time": "2024-01-03T20:18:14.498793200Z"
    }
   },
   "outputs": [],
   "source": [
    "# The End"
   ]
  },
  {
   "cell_type": "code",
   "execution_count": 13,
   "metadata": {
    "ExecuteTime": {
     "end_time": "2023-12-27T18:58:57.753702100Z",
     "start_time": "2023-12-27T18:58:57.737210200Z"
    }
   },
   "outputs": [],
   "source": []
  }
 ],
 "metadata": {
  "kernelspec": {
   "display_name": "Python 3 (ipykernel)",
   "language": "python",
   "name": "python3"
  },
  "language_info": {
   "codemirror_mode": {
    "name": "ipython",
    "version": 3
   },
   "file_extension": ".py",
   "mimetype": "text/x-python",
   "name": "python",
   "nbconvert_exporter": "python",
   "pygments_lexer": "ipython3",
   "version": "3.11.5"
  }
 },
 "nbformat": 4,
 "nbformat_minor": 4
}
