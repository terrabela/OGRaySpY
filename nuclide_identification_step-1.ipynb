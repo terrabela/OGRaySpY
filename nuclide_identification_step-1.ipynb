{
 "cells": [
  {
   "cell_type": "code",
   "execution_count": 1,
   "metadata": {
    "tags": [],
    "ExecuteTime": {
     "end_time": "2024-02-15T21:08:37.353678500Z",
     "start_time": "2024-02-15T21:08:37.327688Z"
    }
   },
   "outputs": [],
   "source": [
    "\n",
    "# 2022-out-7: Excelente espectro para testes, tenho usado ultimamente:\n",
    "# a_pattern = 'Si/SI2018/SI11318.Chn'\n",
    "# 2022-nov-16: outros espectros:\n",
    "# a_pattern = \"Filtros/2022/Cci/CCI1603-I.Chn\"\n",
    "# a_pattern = \"Filtros/2022/Cci/CCI2302-I.Chn\"\n",
    "\n",
    "# a_pattern = \"Eso_non_existe.Chn\"\n",
    "\n",
    "# 2022-Dez-21 Buscando outro espectro\n",
    "# a_pattern = 'CCI1603-I'\n",
    "# 2022-Dez-28 Este é um espectro mais recente:\n",
    "# a_pattern = 'SI09722.Chn'\n",
    "# 2022-Dez-28 Este é um espectro mais recente que posso comparar com saída do Genie:\n",
    "# a_pattern = 'SI06322.Chn'\n",
    "# a_pattern = 'SI06122.Chn'"
   ]
  },
  {
   "cell_type": "code",
   "execution_count": 2,
   "metadata": {
    "tags": [],
    "ExecuteTime": {
     "end_time": "2024-02-15T21:09:15.964966400Z",
     "start_time": "2024-02-15T21:08:37.345394300Z"
    }
   },
   "outputs": [],
   "source": [
    "import numpy as np\n",
    "from numpy.polynomial import Polynomial as P  # 2020-09-06 Esta é a nova classe recomendada\n",
    "from sklearn import linear_model\n",
    "\n",
    "import pandas as pd\n",
    "from random import randrange\n",
    "# import plotly.graph_objects as go"
   ]
  },
  {
   "cell_type": "code",
   "execution_count": 3,
   "metadata": {
    "tags": [],
    "ExecuteTime": {
     "end_time": "2024-02-15T21:09:16.915037400Z",
     "start_time": "2024-02-15T21:09:15.967267900Z"
    }
   },
   "outputs": [],
   "source": [
    "from ograyspy_class import Ograyspy, select_spectrum_from_folder_list\n",
    "from spec_class import Spec"
   ]
  },
  {
   "cell_type": "code",
   "execution_count": 4,
   "metadata": {
    "tags": [],
    "ExecuteTime": {
     "end_time": "2024-02-15T21:09:17.415813900Z",
     "start_time": "2024-02-15T21:09:16.917207800Z"
    }
   },
   "outputs": [
    {
     "name": "stdout",
     "output_type": "stream",
     "text": [
      "Found folder name:  C:\\Users\\mmaduar\\.atom\n",
      "Parts:  ('C:\\\\', 'Users', 'mmaduar', '.atom')\n",
      "No. spec files:  0\n",
      "I56611\n"
     ]
    }
   ],
   "source": [
    "ogra = Ograyspy()\n",
    "print(ogra.info_node)\n",
    "to_be_found = 'Genie_Transfer'\n",
    "# to_be_found = 'some_spectra' # NAO ESTAH ACHANDO localmente no note!"
   ]
  },
  {
   "cell_type": "code",
   "execution_count": 5,
   "metadata": {
    "tags": [],
    "ExecuteTime": {
     "end_time": "2024-02-15T21:09:19.969411800Z",
     "start_time": "2024-02-15T21:09:17.414814500Z"
    }
   },
   "outputs": [
    {
     "name": "stdout",
     "output_type": "stream",
     "text": [
      "\n",
      "Exec ogra.define_files_folder(to_be_found):\n",
      "Found folder name:  C:\\Users\\mmaduar\\Nextcloud\\Genie_Transfer\n",
      "Parts:  ('C:\\\\', 'Users', 'mmaduar', 'Nextcloud', 'Genie_Transfer')\n",
      "No. spec files:  7317\n",
      "WindowsI56611.pkl\n"
     ]
    }
   ],
   "source": [
    "print('\\nExec ogra.define_files_folder(to_be_found):')\n",
    "ogra.define_files_folder(to_be_found)\n",
    "print(ogra.pkl_folder_files)\n",
    "spectra_list_df = pd.read_pickle(ogra.pkl_folder_files)\n",
    "del ogra"
   ]
  },
  {
   "cell_type": "code",
   "execution_count": 6,
   "metadata": {
    "tags": [],
    "ExecuteTime": {
     "end_time": "2024-02-15T21:09:19.992143100Z",
     "start_time": "2024-02-15T21:09:19.971600200Z"
    }
   },
   "outputs": [],
   "source": [
    "reduc_nms = spectra_list_df.reduced_names_files_list[0]\n",
    "fil_lst = spectra_list_df.files_list[0]\n",
    "spc_pth = spectra_list_df.spectra_path[0]"
   ]
  },
  {
   "cell_type": "code",
   "execution_count": 7,
   "metadata": {
    "tags": [],
    "ExecuteTime": {
     "end_time": "2024-02-15T21:09:20.141979400Z",
     "start_time": "2024-02-15T21:09:19.987746200Z"
    }
   },
   "outputs": [
    {
     "data": {
      "text/plain": "7317"
     },
     "execution_count": 7,
     "metadata": {},
     "output_type": "execute_result"
    }
   ],
   "source": [
    "len(reduc_nms)"
   ]
  },
  {
   "cell_type": "code",
   "execution_count": 8,
   "metadata": {
    "tags": [],
    "ExecuteTime": {
     "end_time": "2024-02-15T21:09:20.235157900Z",
     "start_time": "2024-02-15T21:09:20.144068300Z"
    }
   },
   "outputs": [],
   "source": [
    "# 2022-Dez-28 Esse é um espectro mais recente que posso comparar com saída do Genie:\n",
    "a_pattern = 'SI06122.Chn'"
   ]
  },
  {
   "cell_type": "code",
   "execution_count": 9,
   "metadata": {
    "tags": [],
    "ExecuteTime": {
     "end_time": "2024-02-15T21:09:20.375218600Z",
     "start_time": "2024-02-15T21:09:20.238237800Z"
    }
   },
   "outputs": [
    {
     "name": "stdout",
     "output_type": "stream",
     "text": [
      "Existing:\n",
      "Achou! indice=1016, nomearq = almera22/user2023/SI2022/SI06122.Chn\n",
      "==========================\n",
      "Final choices:\n",
      "spectra_path: C:\\Users\\mmaduar\\Nextcloud\\Genie_Transfer\n",
      "a_spec_name: C:\\Users\\mmaduar\\Nextcloud\\Genie_Transfer\\almera22\\user2023\\SI2022\\SI06122.Chn\n",
      "reduced_f_name: almera22/user2023/SI2022/SI06122.Chn\n"
     ]
    },
    {
     "data": {
      "text/plain": "(WindowsPath('C:/Users/mmaduar/Nextcloud/Genie_Transfer/almera22/user2023/SI2022/SI06122.Chn'),\n 'almera22/user2023/SI2022/SI06122.Chn')"
     },
     "execution_count": 9,
     "metadata": {},
     "output_type": "execute_result"
    }
   ],
   "source": [
    "f_name, reduced_f_name = select_spectrum_from_folder_list(reduc_nms, fil_lst, spc_pth, a_pattern)\n",
    "f_name, reduced_f_name"
   ]
  },
  {
   "cell_type": "code",
   "execution_count": 9,
   "metadata": {
    "ExecuteTime": {
     "end_time": "2024-02-15T21:09:20.419668600Z",
     "start_time": "2024-02-15T21:09:20.378345600Z"
    }
   },
   "outputs": [],
   "source": []
  },
  {
   "cell_type": "code",
   "execution_count": 10,
   "metadata": {
    "tags": [],
    "ExecuteTime": {
     "end_time": "2024-02-15T21:09:20.531020100Z",
     "start_time": "2024-02-15T21:09:20.394514400Z"
    }
   },
   "outputs": [],
   "source": [
    "a_spec = Spec(f_name, reduced_f_name)"
   ]
  },
  {
   "cell_type": "code",
   "execution_count": 11,
   "outputs": [
    {
     "data": {
      "text/plain": "{'net_spec_ser_an': None,\n 'final_composed_baseline': None,\n 'f_name': WindowsPath('C:/Users/mmaduar/Nextcloud/Genie_Transfer/almera22/user2023/SI2022/SI06122.Chn'),\n 'reduced_f_name': 'almera22/user2023/SI2022/SI06122.Chn',\n 'sufx': '.chn',\n 'spec_io': None,\n 'lv_time': 50000.0,\n 'rl_time': 50028.96,\n 'source_datetime': None,\n 'results_pkl_file': WindowsPath('.'),\n 'origin_spec_ser_an': <generic_series_analysis_class.GenericSeriesAnalysis at 0x1716f369ac0>,\n 'start_datetime': datetime.datetime(2022, 7, 27, 16, 56, 29),\n 'det_descr': 'MAQUINA_01 MCB 1 Input 1',\n 'sam_descr': 'SI-061/22 Agua da Piscina Reator IEA-R1 (GMX)',\n 'channel_energy_calib': <genericcalib_class.ChannelEnergyCalib at 0x1716fca9670>,\n 'nucl_an': <nuclide_analysis_class.NuclideAnalysis at 0x1716fca9700>}"
     },
     "execution_count": 11,
     "metadata": {},
     "output_type": "execute_result"
    }
   ],
   "source": [
    "vars (a_spec)"
   ],
   "metadata": {
    "collapsed": false,
    "ExecuteTime": {
     "end_time": "2024-02-15T21:09:20.685918100Z",
     "start_time": "2024-02-15T21:09:20.533284900Z"
    }
   }
  },
  {
   "cell_type": "code",
   "execution_count": 11,
   "outputs": [],
   "source": [],
   "metadata": {
    "collapsed": false,
    "ExecuteTime": {
     "end_time": "2024-02-15T21:09:20.718974400Z",
     "start_time": "2024-02-15T21:09:20.689164500Z"
    }
   }
  },
  {
   "cell_type": "code",
   "outputs": [],
   "source": [
    "# 2024-Feb-15: Reactivate to analyze with rough sums\n",
    "# a_spec.total_analysis(gener_dataframe=True, results_path='../ograyspy_results')\n",
    "# A opção acima, gener_dataframe=True,  grava o pkl_file do espectro\n",
    "# vars(a_spec)"
   ],
   "metadata": {
    "collapsed": false,
    "ExecuteTime": {
     "end_time": "2024-02-15T21:09:20.829521200Z",
     "start_time": "2024-02-15T21:09:20.706364500Z"
    }
   },
   "execution_count": 12
  },
  {
   "cell_type": "code",
   "outputs": [
    {
     "name": "stdout",
     "output_type": "stream",
     "text": [
      "Starting Spec.total_analysis...\n",
      "resolve_peaks_and_regions:\n",
      "define_multiplets_regions completado. Define: self.mix_regions.\n",
      "resolve_peaks_and_regions:\n",
      "define_multiplets_regions completado. Define: self.mix_regions.\n",
      "[27. 28. 29. 30. 31. 32. 33.]\n",
      "[  0.           0.         617.18064592 818.64619493 367.80951529\n",
      "  90.30601139   0.        ]\n",
      "[125. 126. 127. 128. 129. 130. 131. 132.]\n",
      "[447.4263586  294.98162556 361.32940596 720.58562658 649.04632671\n",
      " 261.66474176 113.72218635  28.03222329]\n",
      "[141. 142. 143. 144. 145. 146. 147. 148.]\n",
      "[ 12.61479812   0.         165.99750047 385.29459126 389.571554\n",
      " 142.5529984   54.78173023 127.79480442]\n",
      "[231. 232. 233. 234. 235. 236. 237. 238. 239.]\n",
      "[ 49.47592158  24.27568087   0.          75.8739986   82.65604544\n",
      " 123.42578363  39.22073955  33.01749672  34.81365348]\n",
      "[392. 393. 394. 395. 396. 397. 398. 399. 400. 401.]\n",
      "[  0.          45.63037121  52.22731586  91.93540318 162.84530219\n",
      " 113.60603604  85.27902567  28.7823765   18.25062964  31.75398046]\n",
      "[487. 488. 489. 490. 491.]\n",
      "[ 27.81928971  36.84771612 125.08917372  36.11025423  24.11025423]\n",
      "[578. 579. 580. 581. 582. 583. 584. 585.]\n",
      "[  0.           0.          57.34153804 147.27613151 146.20667913\n",
      "  48.93897964  30.63284449   0.        ]\n",
      "[712. 713. 714. 715. 716. 717. 718. 719.]\n",
      "[ 0.          0.         34.7569985  63.36654475 79.0061673  32.55155079\n",
      " 13.05683256  0.        ]\n",
      "[836. 837. 838. 839. 840. 841. 842. 843. 844. 845. 846. 847. 848.]\n",
      "[  0.          59.53265874  80.87142086 158.30503638 345.96901014\n",
      " 559.89537056 548.80694863 520.6828027  314.30366128 194.77669639\n",
      "  60.08343009  37.36183096  19.61805832]\n",
      "[956. 957. 958. 959. 960. 961. 962. 963. 964.]\n",
      "[ 14.49818678  14.70945738  31.94136937  97.25220428 148.62496333\n",
      " 107.94794023  44.1932084    0.          24.60603602]\n",
      "[ 999. 1000. 1001. 1002. 1003. 1004. 1005. 1006. 1007.]\n",
      "[ 21.62785036  25.80665348  68.02812554 180.36338141 220.73927435\n",
      " 143.03592499  61.24926964  34.43518425  14.60078033]\n",
      "[1007. 1008. 1009. 1010. 1011. 1012. 1013. 1014. 1015. 1016.]\n",
      "[14.60078033  0.         28.92892471 31.11077562 63.32513619 61.5374649\n",
      " 37.72541137  2.8778004   6.03323721  0.        ]\n",
      "[1078. 1079. 1080. 1081. 1082. 1083. 1084. 1085. 1086.]\n",
      "[ 16.2579405   54.36221033 127.50633197 405.80221807 657.23512892\n",
      " 533.60034627 238.80451859  63.91315574  28.00213994]\n",
      "[1085. 1086. 1087. 1088. 1089. 1090. 1091. 1092.]\n",
      "[63.91315574 28.00213994 38.09658329 97.22323564 68.33405645 63.44214768\n",
      " 35.53495329  6.53495329]\n",
      "[1112. 1113. 1114. 1115. 1116. 1117. 1118.]\n",
      "[ 0.         17.37836562 43.54479991 67.73405947 30.88813007  0.\n",
      " 17.15062072]\n",
      "[1158. 1159. 1160. 1161. 1162. 1163. 1164. 1165. 1166.]\n",
      "[14.03947779 23.16387863 15.28160023 68.44357178 85.61973673 85.79590167\n",
      " 11.91028365 32.04136372  0.        ]\n",
      "[1186. 1187. 1188. 1189. 1190. 1191. 1192.]\n",
      "[ 0.          5.25386182 30.38160227 64.5377295  53.68467277  0.\n",
      "  6.89005938]\n",
      "[1253. 1254. 1255. 1256. 1257. 1258. 1259. 1260.]\n",
      "[  0.          28.89716733  72.02571269 134.19665066 107.34912734\n",
      "  51.46331391   4.54536414   6.62878187]\n",
      "[1328. 1329. 1330. 1331. 1332. 1333. 1334. 1335. 1336. 1337.]\n",
      "[  0.          38.43230265 118.5235941  342.70457538 659.01208341\n",
      " 751.35642833 482.59306537 146.69516764  38.7540266   13.80287553]\n",
      "[1366. 1367. 1368. 1369. 1370. 1371. 1372. 1373. 1374. 1375. 1376. 1377.\n",
      " 1378. 1379.]\n",
      "[ 8.570806    0.          0.          0.         26.88699699 39.99263517\n",
      " 65.11636208 59.23574769 36.33849167 33.43906501  0.         10.59969292\n",
      "  0.          0.        ]\n",
      "[1449. 1450. 1451. 1452. 1453. 1454. 1455. 1456. 1457. 1458.]\n",
      "[  0.          19.97488077  70.04147708 180.15116511 338.32274854\n",
      " 367.50569251 265.64867869  81.71958417  10.7626759   10.80576763]\n",
      "[1492. 1493. 1494. 1495. 1496. 1497. 1498. 1499. 1500. 1501. 1502. 1503.]\n",
      "[  5.06709299  15.13303947   0.          48.27553097 114.39976943\n",
      " 117.52577431 142.66649939  90.77660646  28.85020745  14.91556512\n",
      "   5.97562352   0.        ]\n",
      "[1535. 1536. 1537. 1538. 1539. 1540. 1541. 1542. 1543. 1544. 1545.]\n",
      "[ 13.09183806  21.15842821  43.23775734  81.33909017 112.4583734\n",
      " 175.61413644 136.74731674  80.84807053  26.9175559    9.97719751\n",
      "   8.03568103]\n",
      "[1580. 1581. 1582. 1583. 1584. 1585. 1586. 1587. 1588. 1589. 1590. 1591.]\n",
      "[27.39125295  9.4543028  13.51987464  0.         43.6617368  45.74748459\n",
      " 23.81936142 37.90006522  0.         27.02553442 37.10560773 73.20837898]\n",
      "[1588. 1589. 1590. 1591. 1592. 1593. 1594. 1595. 1596.]\n",
      "[ 0.         27.02553442 37.10560773 73.20837898 99.32754319 73.43031445\n",
      " 17.49777778 12.56208863  5.62198598]\n",
      "[1827. 1828. 1829. 1830. 1831. 1832. 1833. 1834. 1835. 1836. 1837.]\n",
      "[ 12.62131428  11.71207537   3.79398172  56.93455073  92.11385922\n",
      " 108.31087719  80.47690358  50.60972468  18.70712683  13.79899476\n",
      "  23.90193112]\n",
      "[1836. 1837. 1838. 1839. 1840. 1841. 1842. 1843.]\n",
      "[13.79899476 23.90193112 50.03364538 66.18306913 88.35684341 39.47638241\n",
      " 32.5881735   4.66897301]\n",
      "[1921. 1922. 1923. 1924. 1925. 1926. 1927. 1928. 1929. 1930. 1931.]\n",
      "[  19.88137906  100.92133861  193.98452464  553.1373699  1230.459294\n",
      " 1698.89809977 1436.27122203  799.48525535  295.5734161    57.60213703\n",
      "   12.61961933]\n",
      "[2029. 2030. 2031. 2032. 2033. 2034. 2035. 2036.]\n",
      "[ 7.73029287 17.87060699 19.01314832 39.20023382 32.37172886 12.49867973\n",
      " 16.63453944  4.74367264]\n",
      "[2182. 2183. 2184. 2185. 2186. 2187. 2188. 2189. 2190. 2191. 2192.]\n",
      "[  43.03283452  119.10055402  296.24871884  688.57504502 1179.12407291\n",
      " 1402.7744528  1181.32393519  635.62526424  229.74206902   58.78115544\n",
      "   13.79978966]\n",
      "[2242. 2243. 2244. 2245. 2246. 2247. 2248. 2249. 2250.]\n",
      "[ 0.          7.70825519 18.77958684 29.86875139 29.95791595 57.0908522\n",
      " 23.16866854  4.21568257  0.        ]\n",
      "[2256. 2257. 2258. 2259. 2260. 2261. 2262. 2263. 2264. 2265. 2266.]\n",
      "[ 1.48479742  0.          3.55775023 11.61611249 24.69555    17.7636393\n",
      " 25.84469799  7.89657555  3.94196841  2.9857401   8.03761766]\n",
      "[2266. 2267. 2268. 2269. 2270. 2271. 2272. 2273. 2274. 2275. 2276. 2277.]\n",
      "[ 8.03761766  0.          1.11381283 23.19000799 50.30997485 76.47209222\n",
      " 83.64555782 64.7882211  31.87738566 16.94223261  0.          4.0232913 ]\n",
      "[2392. 2393. 2394. 2395. 2396. 2397. 2398. 2399. 2400. 2401. 2402. 2403.]\n",
      "[ 23.56116638  40.57746611  95.60896051 288.69377436 513.84074819\n",
      " 777.06038014 755.27393423 468.4081998  167.45930912  62.48141045\n",
      "  12.48969845   1.49494752]\n",
      "[2466. 2467. 2468. 2469. 2470. 2471. 2472. 2473. 2474.]\n",
      "[ 6.92826176 23.95407541 22.97924371 44.01796418 47.05862067 24.08443432\n",
      " 11.10185853  2.11347467  1.12444547]\n",
      "[2602. 2603. 2604. 2605. 2606. 2607. 2608. 2609.]\n",
      "[ 3.72857552  7.7363902  22.74953305 22.76267591 42.78292301 15.79357938\n",
      "  5.80068362  9.80920872]\n",
      "[2607. 2608. 2609. 2610. 2611. 2612. 2613. 2614. 2615. 2616. 2617. 2618.\n",
      " 2619.]\n",
      "[15.79357938  5.80068362  9.80920872  7.81702339 22.83016625 32.84686122\n",
      " 33.86391141 28.87918554 18.89090755 14.90120871 13.91115465  9.91967975\n",
      " 18.93140175]\n",
      "[2834. 2835. 2836. 2837. 2838.]\n",
      "[ 7.57365511  9.59256745 21.62228685  5.63759684 19.66551506]\n",
      "[2889. 2890. 2891. 2892. 2893. 2894. 2895. 2896. 2897. 2898. 2899. 2900.]\n",
      "[ 0.          2.18963681 18.19787569 27.20867146 55.22742202 91.25640015\n",
      " 78.28168499 85.30895852 32.32117479  6.32600448  0.          1.33225466]\n",
      "[3028. 3029. 3030. 3031. 3032.]\n",
      "[ 9.07787804  4.08194386 23.09152757 13.09820712  5.10256335]\n",
      "[3446. 3447. 3448. 3449. 3450. 3451. 3452. 3453.]\n",
      "[12.31016028 16.30680844 21.3027583  30.29745122 46.28990958 21.28585944\n",
      " 12.28306624  8.28083168]\n",
      "[3608. 3609. 3610. 3611. 3612. 3613. 3614. 3615. 3616. 3617. 3618. 3619.\n",
      " 3620.]\n",
      "[ 0.          1.52053028  4.51664569  0.         18.50588838 21.49692395\n",
      " 21.48795952 28.4769034  19.4685366   2.46524964  5.46106624  1.4580781\n",
      "  0.        ]\n",
      "Finish Spec.total_analysis!\n"
     ]
    },
    {
     "data": {
      "text/plain": "{'net_spec_ser_an': <generic_series_analysis_class.GenericSeriesAnalysis at 0x1716fca9a60>,\n 'final_composed_baseline': <generic_series_analysis_class.GenericSeriesAnalysis at 0x1715f001400>,\n 'f_name': WindowsPath('C:/Users/mmaduar/Nextcloud/Genie_Transfer/almera22/user2023/SI2022/SI06122.Chn'),\n 'reduced_f_name': 'almera22/user2023/SI2022/SI06122.Chn',\n 'sufx': '.chn',\n 'spec_io': None,\n 'lv_time': 50000.0,\n 'rl_time': 50028.96,\n 'source_datetime': None,\n 'results_pkl_file': WindowsPath('.'),\n 'origin_spec_ser_an': <generic_series_analysis_class.GenericSeriesAnalysis at 0x1716f369ac0>,\n 'start_datetime': datetime.datetime(2022, 7, 27, 16, 56, 29),\n 'det_descr': 'MAQUINA_01 MCB 1 Input 1',\n 'sam_descr': 'SI-061/22 Agua da Piscina Reator IEA-R1 (GMX)',\n 'channel_energy_calib': <genericcalib_class.ChannelEnergyCalib at 0x1716fca9670>,\n 'nucl_an': <nuclide_analysis_class.NuclideAnalysis at 0x1716fca9700>}"
     },
     "execution_count": 13,
     "metadata": {},
     "output_type": "execute_result"
    }
   ],
   "source": [
    "# 2024-Feb-15:\n",
    "# Testing lmfit\n",
    "a_spec.total_analysis(peak_area_calc_method='gaussian_with_tail')\n",
    "# A opção acima, gener_dataframe=True,  grava o pkl_file do espectro\n",
    "vars(a_spec)"
   ],
   "metadata": {
    "collapsed": false,
    "ExecuteTime": {
     "end_time": "2024-02-15T21:09:20.994765600Z",
     "start_time": "2024-02-15T21:09:20.827434600Z"
    }
   },
   "execution_count": 13
  },
  {
   "cell_type": "code",
   "execution_count": 14,
   "metadata": {
    "ExecuteTime": {
     "end_time": "2024-02-15T21:09:21.059221Z",
     "start_time": "2024-02-15T21:09:20.996892300Z"
    }
   },
   "outputs": [],
   "source": [
    "# The End"
   ]
  },
  {
   "cell_type": "code",
   "execution_count": 14,
   "metadata": {
    "ExecuteTime": {
     "end_time": "2024-02-15T21:09:21.060349300Z",
     "start_time": "2024-02-15T21:09:21.043534300Z"
    }
   },
   "outputs": [],
   "source": []
  }
 ],
 "metadata": {
  "kernelspec": {
   "display_name": "Python 3 (ipykernel)",
   "language": "python",
   "name": "python3"
  },
  "language_info": {
   "codemirror_mode": {
    "name": "ipython",
    "version": 3
   },
   "file_extension": ".py",
   "mimetype": "text/x-python",
   "name": "python",
   "nbconvert_exporter": "python",
   "pygments_lexer": "ipython3",
   "version": "3.11.5"
  }
 },
 "nbformat": 4,
 "nbformat_minor": 4
}
