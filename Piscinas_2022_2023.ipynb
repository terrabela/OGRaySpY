{
 "cells": [
  {
   "cell_type": "code",
   "execution_count": 1,
   "id": "e358da32",
   "metadata": {
    "ExecuteTime": {
     "end_time": "2023-05-16T17:40:35.464734700Z",
     "start_time": "2023-05-16T17:40:35.449138100Z"
    }
   },
   "outputs": [],
   "source": [
    "# 2023-Apr-26\n",
    "# Jupyter notebook for Piscina IEA-R1 calculation 2022 & 2023."
   ]
  },
  {
   "cell_type": "code",
   "execution_count": 1,
   "id": "116e441e",
   "metadata": {
    "ExecuteTime": {
     "end_time": "2023-05-16T17:40:35.480359600Z",
     "start_time": "2023-05-16T17:40:35.464734700Z"
    }
   },
   "outputs": [],
   "source": []
  },
  {
   "cell_type": "code",
   "execution_count": 2,
   "id": "2f2af844",
   "metadata": {
    "ExecuteTime": {
     "end_time": "2023-05-16T17:40:45.333909500Z",
     "start_time": "2023-05-16T17:40:35.480359600Z"
    }
   },
   "outputs": [],
   "source": [
    "import numpy as np\n",
    "from numpy.random import default_rng\n",
    "from numpy.polynomial import Polynomial as P\n",
    "import time\n",
    "# from scipy import special\n",
    "import scipy as sci\n",
    "import pandas as pd\n",
    "\n",
    "from ograyspy_class import select_spectrum_from_folder_list\n",
    "from spec_class import Spec"
   ]
  },
  {
   "cell_type": "code",
   "execution_count": 3,
   "id": "0c9c87c6",
   "metadata": {
    "ExecuteTime": {
     "end_time": "2023-05-16T17:40:45.788207800Z",
     "start_time": "2023-05-16T17:40:45.333909500Z"
    }
   },
   "outputs": [],
   "source": [
    "import plotly.graph_objects as go\n",
    "import plotly.express as px"
   ]
  },
  {
   "cell_type": "code",
   "execution_count": 4,
   "id": "f4ee10ef",
   "metadata": {
    "ExecuteTime": {
     "end_time": "2023-05-16T17:40:45.803776700Z",
     "start_time": "2023-05-16T17:40:45.788207800Z"
    }
   },
   "outputs": [],
   "source": [
    "# a spectrum pattern to find and test:"
   ]
  },
  {
   "cell_type": "code",
   "execution_count": 5,
   "id": "61f9279e",
   "metadata": {
    "ExecuteTime": {
     "end_time": "2023-05-16T17:40:45.919609800Z",
     "start_time": "2023-05-16T17:40:45.803776700Z"
    }
   },
   "outputs": [],
   "source": [
    "# a_pattern = 'SI11318.Chn'\n",
    "# a_pattern = 'SI00718.Chn'"
   ]
  },
  {
   "cell_type": "code",
   "execution_count": 6,
   "id": "20fe0f60",
   "metadata": {
    "ExecuteTime": {
     "end_time": "2023-05-16T17:40:46.035188200Z",
     "start_time": "2023-05-16T17:40:45.919609800Z"
    }
   },
   "outputs": [],
   "source": [
    "from ograyspy_class import Ograyspy"
   ]
  },
  {
   "cell_type": "code",
   "execution_count": 7,
   "id": "9f9a8fa9",
   "metadata": {
    "ExecuteTime": {
     "end_time": "2023-05-16T17:40:46.135316300Z",
     "start_time": "2023-05-16T17:40:46.035188200Z"
    }
   },
   "outputs": [],
   "source": [
    "si_2022 = 'Genie_Transfer/Si/SI2022'"
   ]
  },
  {
   "cell_type": "code",
   "execution_count": 8,
   "id": "61a3afd9",
   "metadata": {
    "ExecuteTime": {
     "end_time": "2023-05-16T17:40:46.273400900Z",
     "start_time": "2023-05-16T17:40:46.135316300Z"
    }
   },
   "outputs": [
    {
     "name": "stdout",
     "output_type": "stream",
     "text": [
      "Found folder name:  C:\\Users\\mmaduar\\Nextcloud\\Genie_Transfer\\Si\\SI2022\n",
      "Partes:  ('C:\\\\', 'Users', 'mmaduar', 'Nextcloud', 'Genie_Transfer', 'Si', 'SI2022')\n",
      "No. spec files:  49\n",
      "Objeto ogra: Ograyspy criado.\n",
      "ogra.info_plat: Windows-10-10.0.19045-SP0\n",
      "ogra.info_mach: AMD64\n",
      "ogra.info_syst: Windows\n",
      "ogra.info_node: I56611\n",
      "ogra.home_path: C:\\Users\\mmaduar\n"
     ]
    }
   ],
   "source": [
    "ogra = Ograyspy(batch_mode=False, folder_to_find=si_2022)\n",
    "print('Objeto ogra: Ograyspy criado.')\n",
    "print(f'ogra.info_plat: {ogra.info_plat}')\n",
    "print(f'ogra.info_mach: {ogra.info_mach}')\n",
    "print(f'ogra.info_syst: {ogra.info_syst}')\n",
    "print(f'ogra.info_node: {ogra.info_node}')\n",
    "print(f'ogra.home_path: {ogra.home_path}')"
   ]
  },
  {
   "cell_type": "code",
   "execution_count": 9,
   "id": "41bd2b0c",
   "metadata": {
    "ExecuteTime": {
     "end_time": "2023-05-16T17:40:46.405118200Z",
     "start_time": "2023-05-16T17:40:46.273400900Z"
    }
   },
   "outputs": [
    {
     "data": {
      "text/plain": "                   info_plat info_mach info_syst info_node         home_path  \\\n0  Windows-10-10.0.19045-SP0     AMD64   Windows    I56611  C:\\Users\\mmaduar   \n\n                                        spectra_path  n_files  a_spec_ind  \\\n0  C:\\Users\\mmaduar\\Nextcloud\\Genie_Transfer\\Si\\S...       49           0   \n\n  a_spec_name reduced_f_name  \\\n0                              \n\n                                          files_list  \\\n0  [C:\\Users\\mmaduar\\Nextcloud\\Genie_Transfer\\Si\\...   \n\n                            reduced_names_files_list  \\\n0  [BGTESTE.Chn, FRASCO ORIGINAL SI084_22.Chn, SI...   \n\n                    spectra_pattern_names   pkl_folder_files  \n0  [**/*.[Cc][Hh][Nn], **/*.[Ii][Ee][Cc]]  WindowsI56611.pkl  ",
      "text/html": "<div>\n<style scoped>\n    .dataframe tbody tr th:only-of-type {\n        vertical-align: middle;\n    }\n\n    .dataframe tbody tr th {\n        vertical-align: top;\n    }\n\n    .dataframe thead th {\n        text-align: right;\n    }\n</style>\n<table border=\"1\" class=\"dataframe\">\n  <thead>\n    <tr style=\"text-align: right;\">\n      <th></th>\n      <th>info_plat</th>\n      <th>info_mach</th>\n      <th>info_syst</th>\n      <th>info_node</th>\n      <th>home_path</th>\n      <th>spectra_path</th>\n      <th>n_files</th>\n      <th>a_spec_ind</th>\n      <th>a_spec_name</th>\n      <th>reduced_f_name</th>\n      <th>files_list</th>\n      <th>reduced_names_files_list</th>\n      <th>spectra_pattern_names</th>\n      <th>pkl_folder_files</th>\n    </tr>\n  </thead>\n  <tbody>\n    <tr>\n      <th>0</th>\n      <td>Windows-10-10.0.19045-SP0</td>\n      <td>AMD64</td>\n      <td>Windows</td>\n      <td>I56611</td>\n      <td>C:\\Users\\mmaduar</td>\n      <td>C:\\Users\\mmaduar\\Nextcloud\\Genie_Transfer\\Si\\S...</td>\n      <td>49</td>\n      <td>0</td>\n      <td></td>\n      <td></td>\n      <td>[C:\\Users\\mmaduar\\Nextcloud\\Genie_Transfer\\Si\\...</td>\n      <td>[BGTESTE.Chn, FRASCO ORIGINAL SI084_22.Chn, SI...</td>\n      <td>[**/*.[Cc][Hh][Nn], **/*.[Ii][Ee][Cc]]</td>\n      <td>WindowsI56611.pkl</td>\n    </tr>\n  </tbody>\n</table>\n</div>"
     },
     "execution_count": 9,
     "metadata": {},
     "output_type": "execute_result"
    }
   ],
   "source": [
    "# Select a machine/system to read from:\n",
    "spectra_list_df = pd.read_pickle(ogra.pkl_folder_files)\n",
    "spectra_list_df"
   ]
  },
  {
   "cell_type": "code",
   "execution_count": 9,
   "id": "5c078a8e",
   "metadata": {
    "ExecuteTime": {
     "end_time": "2023-05-16T17:40:46.420718Z",
     "start_time": "2023-05-16T17:40:46.405118200Z"
    }
   },
   "outputs": [],
   "source": []
  },
  {
   "cell_type": "code",
   "execution_count": 10,
   "id": "f024a879",
   "metadata": {
    "ExecuteTime": {
     "end_time": "2023-05-16T17:40:46.474029100Z",
     "start_time": "2023-05-16T17:40:46.420718Z"
    }
   },
   "outputs": [],
   "source": [
    "reduc_nms = spectra_list_df.reduced_names_files_list[0]\n",
    "fil_lst = spectra_list_df.files_list[0]\n",
    "spc_pth = spectra_list_df.spectra_path[0]"
   ]
  },
  {
   "cell_type": "code",
   "execution_count": 11,
   "id": "1d96ddad",
   "metadata": {
    "ExecuteTime": {
     "end_time": "2023-05-16T17:40:46.674614500Z",
     "start_time": "2023-05-16T17:40:46.474029100Z"
    }
   },
   "outputs": [
    {
     "data": {
      "text/plain": "['BGTESTE.Chn',\n 'FRASCO ORIGINAL SI084_22.Chn',\n 'SI00822.Chn',\n 'SI00922.Chn',\n 'SI01622.Chn',\n 'SI01722.Chn',\n 'SI01822.Chn',\n 'SI01922.Chn',\n 'SI02022.Chn',\n 'SI02522.Chn',\n 'SI02622.Chn',\n 'SI02722.Chn',\n 'SI02922.Chn',\n 'SI03022.Chn',\n 'SI03122.Chn',\n 'SI03222.Chn',\n 'SI03322.Chn',\n 'SI03422.Chn',\n 'SI03522.Chn',\n 'SI03722.Chn',\n 'SI04022 (cont em 31-05-22).Chn',\n 'SI04422.Chn',\n 'SI04722.Chn',\n 'SI05122.Chn',\n 'SI05322.Chn',\n 'SI05522.Chn',\n 'SI05622.Chn',\n 'SI05822.Chn',\n 'SI05922.Chn',\n 'SI06122.Chn',\n 'SI06322.Chn',\n 'SI06522.Chn',\n 'SI06722.Chn',\n 'SI06922.Chn',\n 'SI07222.Chn',\n 'SI07322.Chn',\n 'SI07522.Chn',\n 'SI07722.Chn',\n 'SI07922.Chn',\n 'SI08222.Chn',\n 'SI08422.Chn',\n 'SI08522.Chn',\n 'SI08622.Chn',\n 'SI08722.Chn',\n 'SI09122.Chn',\n 'SI09222.Chn',\n 'SI09322.Chn',\n 'SI09422.Chn',\n 'SI09722.Chn']"
     },
     "execution_count": 11,
     "metadata": {},
     "output_type": "execute_result"
    }
   ],
   "source": [
    "reduc_nms"
   ]
  },
  {
   "cell_type": "code",
   "execution_count": 12,
   "id": "5b85b7d5",
   "metadata": {
    "ExecuteTime": {
     "end_time": "2023-05-16T17:40:46.775053500Z",
     "start_time": "2023-05-16T17:40:46.589893300Z"
    }
   },
   "outputs": [],
   "source": [
    "a_pattern='SI04722.Chn'"
   ]
  },
  {
   "cell_type": "code",
   "execution_count": 13,
   "id": "04e22b01",
   "metadata": {
    "ExecuteTime": {
     "end_time": "2023-05-16T17:40:46.813803600Z",
     "start_time": "2023-05-16T17:40:46.721506600Z"
    }
   },
   "outputs": [
    {
     "name": "stdout",
     "output_type": "stream",
     "text": [
      "Existing:\n",
      "Achou! indice=22, nomearq = SI04722.Chn\n",
      "name:  C:\\Users\\mmaduar\\Nextcloud\\Genie_Transfer\\Si\\SI2022\\SI04722.Chn\n",
      "==========================\n",
      "Final choices:\n",
      "spectra_path: C:\\Users\\mmaduar\\Nextcloud\\Genie_Transfer\\Si\\SI2022\n",
      "a_spec_name: C:\\Users\\mmaduar\\Nextcloud\\Genie_Transfer\\Si\\SI2022\\SI04722.Chn\n",
      "reduced_f_name: SI04722.Chn\n"
     ]
    }
   ],
   "source": [
    "a_spec_name, reduced_f_name = select_spectrum_from_folder_list(reduc_nms, fil_lst, spc_pth, a_pattern)"
   ]
  },
  {
   "cell_type": "code",
   "execution_count": 14,
   "id": "482e8a5a",
   "metadata": {
    "ExecuteTime": {
     "end_time": "2023-05-16T17:40:46.921903500Z",
     "start_time": "2023-05-16T17:40:46.813803600Z"
    }
   },
   "outputs": [
    {
     "data": {
      "text/plain": "(WindowsPath('C:/Users/mmaduar/Nextcloud/Genie_Transfer/Si/SI2022/SI04722.Chn'),\n 'SI04722.Chn')"
     },
     "execution_count": 14,
     "metadata": {},
     "output_type": "execute_result"
    }
   ],
   "source": [
    "a_spec_name, reduced_f_name"
   ]
  },
  {
   "cell_type": "code",
   "execution_count": 15,
   "id": "19e7d3b0",
   "metadata": {
    "ExecuteTime": {
     "end_time": "2023-05-16T17:40:47.059517400Z",
     "start_time": "2023-05-16T17:40:46.921903500Z"
    }
   },
   "outputs": [],
   "source": [
    "a_spec = Spec(a_spec_name, reduced_f_name)"
   ]
  },
  {
   "cell_type": "code",
   "execution_count": 16,
   "id": "dd520433",
   "metadata": {
    "ExecuteTime": {
     "end_time": "2023-05-16T17:40:47.206874600Z",
     "start_time": "2023-05-16T17:40:47.053484100Z"
    }
   },
   "outputs": [
    {
     "data": {
      "text/plain": "{'net_spec_ser_an': None,\n 'final_composed_baseline': None,\n 'f_name': WindowsPath('C:/Users/mmaduar/Nextcloud/Genie_Transfer/Si/SI2022/SI04722.Chn'),\n 'reduced_f_name': 'SI04722.Chn',\n 'sufx': '.chn',\n 'spec_io': None,\n 'lv_time': 50000.0,\n 'rl_time': 50030.1,\n 'source_datetime': None,\n 'pkl_file': WindowsPath('C:/Users/mmaduar/Nextcloud/Genie_Transfer/Si/SI2022/SI04722.pkl'),\n 'origin_spec_ser_an': <generic_series_analysis_class.GenericSeriesAnalysis at 0x1897fe5aa90>,\n 'start_datetime': datetime.datetime(2022, 6, 20, 17, 34, 1),\n 'det_descr': 'MAQUINA_01 MCB 1 Input 1',\n 'sam_descr': 'SI047/22 - Agua da piscina do reator IEA- R1 20/06/22 (SI02006)',\n 'channel_energy_calib': <genericcalib_class.ChannelEnergyCalib at 0x1897fe5a9a0>}"
     },
     "execution_count": 16,
     "metadata": {},
     "output_type": "execute_result"
    }
   ],
   "source": [
    "vars(a_spec)"
   ]
  },
  {
   "cell_type": "code",
   "execution_count": 17,
   "id": "6b81251b",
   "metadata": {
    "ExecuteTime": {
     "end_time": "2023-05-16T17:40:47.284333600Z",
     "start_time": "2023-05-16T17:40:47.175897800Z"
    }
   },
   "outputs": [],
   "source": [
    "origin_ser = a_spec.origin_spec_ser_an\n",
    "ch_en_cal = a_spec.channel_energy_calib"
   ]
  },
  {
   "cell_type": "code",
   "execution_count": 18,
   "id": "f5739716",
   "metadata": {
    "ExecuteTime": {
     "end_time": "2023-05-16T17:40:47.407107600Z",
     "start_time": "2023-05-16T17:40:47.284333600Z"
    }
   },
   "outputs": [
    {
     "data": {
      "text/plain": "{'mix_regions': None,\n 'spl_baseline': None,\n 'eval_baseline': None,\n 'y_s': array([0, 0, 0, ..., 8, 2, 4]),\n 'nzero': array([False, False, False, ...,  True,  True,  True]),\n 'n_ch': 4096,\n 'final_baseline': None,\n 'x_s': array([0.000e+00, 1.000e+00, 2.000e+00, ..., 4.093e+03, 4.094e+03,\n        4.095e+03]),\n 'chans_nzero': array([  23.,   24.,   25., ..., 4093., 4094., 4095.]),\n 'counts_nzero': array([  1,   8, 159, ...,   8,   2,   4]),\n 'unc_y': array([ 1.        ,  2.82842712, 12.60952021, ...,  2.82842712,\n         1.41421356,  2.        ]),\n 'given_variance': array([0, 0, 0, ..., 8, 2, 4]),\n 'y_smoothed': array([0, 0, 0, ..., 8, 2, 4]),\n 'fft_s': None,\n 'is_reg': array([False, False, False, ..., False, False, False]),\n 'xs_all_mplets': [],\n 'ys_all_mplets': [],\n 'ys_all_steps': [],\n 'chans_in_multiplets_list': [],\n 'calculated_step_counts': [],\n 'xs_bl_in_reg': array([], dtype=float64),\n 'ys_bl_in_reg': array([], dtype=float64),\n 'xs_bl_out_reg': array([], dtype=float64),\n 'ys_bl_out_reg': array([], dtype=float64),\n 'ws_bl_out_reg': array([], dtype=float64),\n 'pk_parms': <peaksparms_class.PeaksParms at 0x1897fe5a2e0>,\n 'fft_spec': array([], dtype=float64),\n 'k_erf': 0.9999975184539827}"
     },
     "execution_count": 18,
     "metadata": {},
     "output_type": "execute_result"
    }
   ],
   "source": [
    "vars(origin_ser)"
   ]
  },
  {
   "cell_type": "code",
   "execution_count": 19,
   "id": "04c0277e",
   "metadata": {
    "ExecuteTime": {
     "end_time": "2023-05-16T17:40:47.507359900Z",
     "start_time": "2023-05-16T17:40:47.407107600Z"
    }
   },
   "outputs": [
    {
     "data": {
      "text/plain": "{'calib_kind': 'channel energy',\n 'p_en': Polynomial([-1.99049842,  0.61104035,  0.        ], domain=[-1,  1], window=[-1,  1]),\n 'coeffs_ch_en': array([ 0.        ,  0.61104035, -1.99049842]),\n 'en_ch_calib': array([], dtype=float64),\n 'chan_calib': array([], dtype=float64)}"
     },
     "execution_count": 19,
     "metadata": {},
     "output_type": "execute_result"
    }
   ],
   "source": [
    "vars(ch_en_cal)"
   ]
  },
  {
   "cell_type": "code",
   "execution_count": 20,
   "id": "f379803f",
   "metadata": {
    "ExecuteTime": {
     "end_time": "2023-05-16T17:40:47.607696900Z",
     "start_time": "2023-05-16T17:40:47.507359900Z"
    }
   },
   "outputs": [
    {
     "data": {
      "text/plain": "array([0, 0, 0, ..., 8, 2, 4])"
     },
     "execution_count": 20,
     "metadata": {},
     "output_type": "execute_result"
    }
   ],
   "source": [
    "y0_s = np.array(origin_ser.y_s)\n",
    "y0_s"
   ]
  },
  {
   "cell_type": "code",
   "execution_count": 21,
   "id": "41f2ce24",
   "metadata": {
    "ExecuteTime": {
     "end_time": "2023-05-16T17:40:47.708147Z",
     "start_time": "2023-05-16T17:40:47.607696900Z"
    }
   },
   "outputs": [
    {
     "data": {
      "text/plain": "array([0.000e+00, 1.000e+00, 2.000e+00, ..., 4.093e+03, 4.094e+03,\n       4.095e+03])"
     },
     "execution_count": 21,
     "metadata": {},
     "output_type": "execute_result"
    }
   ],
   "source": [
    "x0_s = np.array(origin_ser.x_s)\n",
    "x0_s"
   ]
  },
  {
   "cell_type": "code",
   "execution_count": 22,
   "id": "682f31df",
   "metadata": {
    "ExecuteTime": {
     "end_time": "2023-05-16T17:40:47.808053300Z",
     "start_time": "2023-05-16T17:40:47.708147Z"
    }
   },
   "outputs": [],
   "source": [
    "x_nz = origin_ser.chans_nzero\n",
    "y_nz = origin_ser.counts_nzero"
   ]
  },
  {
   "cell_type": "code",
   "execution_count": 23,
   "id": "0d959bf9",
   "metadata": {
    "ExecuteTime": {
     "end_time": "2023-05-16T17:40:47.908062Z",
     "start_time": "2023-05-16T17:40:47.808053300Z"
    }
   },
   "outputs": [],
   "source": [
    "unc_y = origin_ser.unc_y"
   ]
  },
  {
   "cell_type": "code",
   "execution_count": 23,
   "outputs": [],
   "source": [],
   "metadata": {
    "collapsed": false,
    "ExecuteTime": {
     "end_time": "2023-05-16T17:40:47.923652100Z",
     "start_time": "2023-05-16T17:40:47.908062Z"
    }
   }
  },
  {
   "cell_type": "code",
   "execution_count": 24,
   "id": "b6998b66",
   "metadata": {
    "ExecuteTime": {
     "end_time": "2023-05-16T17:40:48.023900Z",
     "start_time": "2023-05-16T17:40:47.923652100Z"
    }
   },
   "outputs": [
    {
     "data": {
      "text/plain": "array([  26,   39,   44,   50,   53,   61,   70,   80,   87,   89,   95,\n        104,  112,  122,  126,  135,  142,  147,  155,  166,  177,  182,\n        186,  191,  196,  200,  206,  211,  223,  233,  241,  244,  248,\n        250,  257,  265,  274,  281,  289,  292,  297,  299,  309,  315,\n        331,  333,  341,  346,  349,  353,  358,  362,  365,  369,  371,\n        377,  386,  390,  393,  399,  408,  418,  424,  428,  431,  434,\n        437,  441,  447,  452,  456,  458,  466,  470,  478,  480,  486,\n        494,  498,  503,  512,  523,  527,  533,  535,  543,  549,  552,\n        557,  564,  566,  568,  579,  586,  588,  591,  599,  620,  624,\n        631,  641,  647,  652,  665,  670,  674,  678,  686,  690,  696,\n        701,  707,  718,  720,  723,  726,  728,  734,  741,  753,  760,\n        768,  775,  779,  787,  799,  809,  815,  839,  847,  852,  861,\n        865,  871,  883,  896,  900,  908,  926,  930,  939,  947,  957,\n        965,  988, 1000, 1009, 1015, 1025, 1050, 1053, 1080, 1095, 1113,\n       1118, 1126, 1139, 1141, 1152, 1157, 1193, 1200, 1221, 1225, 1228,\n       1236, 1248, 1250, 1253, 1260, 1268, 1288, 1300, 1320, 1330, 1356,\n       1365, 1369, 1377, 1397, 1413, 1450, 1459, 1470, 1494, 1537, 1560,\n       1566, 1582, 1589, 1599, 1610, 1623, 1640, 1653, 1677, 1694, 1709,\n       1724, 1728, 1735, 1741, 1761, 1771, 1784, 1802, 1829, 1836, 1854,\n       1867, 1870, 1923, 1936, 1941, 1949, 1959, 2031, 2184, 2243, 2259,\n       2270, 2394, 2603, 2836, 2891, 3446, 3610, 3676, 4006], dtype=int64)"
     },
     "execution_count": 24,
     "metadata": {},
     "output_type": "execute_result"
    }
   ],
   "source": [
    "# 2023-May-16\n",
    "# Faz busca simples de picos usando find_peaks do scipy:\n",
    "# Seleciona sensibilidade dos picos do espectro de referência:\n",
    "promin = 30\n",
    "# pks = sci.signal.find_peaks_cwt(y0_s, widths=(3,15), min_snr=1, noise_perc=10, max_distances=(1,20))\n",
    "# Acima: verificar melhores parâmetros\n",
    "pks, _ = sci.signal.find_peaks(y0_s, prominence=promin)\n",
    "pks"
   ]
  },
  {
   "cell_type": "code",
   "execution_count": 25,
   "id": "3304edc5",
   "metadata": {
    "ExecuteTime": {
     "end_time": "2023-05-16T17:40:48.124036500Z",
     "start_time": "2023-05-16T17:40:48.023900Z"
    }
   },
   "outputs": [
    {
     "data": {
      "text/plain": "array([ 456,  683,  618,  568,  558,  491,  496,  492,  496,  477,  523,\n        673,  638, 1045, 1380,  598,  991,  768,  648,  651,  679,  666,\n        649,  685,  687,  692,  721,  721,  801,  971,  741,  714,  728,\n        750,  696,  706,  681,  695,  692,  651,  695,  688,  750,  628,\n        638,  656,  599,  628,  624,  615,  661,  625,  607,  601,  574,\n        686,  546,  539,  678,  555,  503,  489,  492,  468,  485,  470,\n        480,  456,  477,  455,  453,  471,  453,  452,  463,  413,  474,\n        413,  407,  415,  414,  396,  452,  378,  361,  363,  352,  388,\n        375,  339,  344,  341,  466,  314,  309,  334,  356,  304,  296,\n        303,  287,  283,  292,  312,  264,  273,  275,  261,  270,  266,\n        265,  273,  257,  252,  246,  254,  245,  248,  252,  245,  258,\n        238,  226,  226,  301,  221,  217,  221,  830,  219,  212,  218,\n        204,  200,  202,  201,  203,  202,  208,  198,  203,  188,  326,\n        182,  196,  386,  198,  200,  190,  164,  168,  343,  181,  169,\n        152,  213,  143,  143,  151,  162,  173,  146,  142,  132,  132,\n        134,  138,  142,  157,  157,  180,  142,  141,  143,  815,  139,\n        144,  191,  147,  132,  140,  217,  127,  129,  258,  162,  142,\n        168,  144,  205,  111,  115,  116,  117,  115,  117,  109,  112,\n        104,  112,  111,  109,  107,  107,  111,  115,  151,  189,  101,\n         90,   90, 1695,   85,   82,   78,   79,   83, 1508,  533,   59,\n         57,  854,   49,   54,  109,   45,   41,   42,   36])"
     },
     "execution_count": 25,
     "metadata": {},
     "output_type": "execute_result"
    }
   ],
   "source": [
    "y0_s_pks = y0_s[pks]\n",
    "y0_s_pks"
   ]
  },
  {
   "cell_type": "code",
   "execution_count": 26,
   "id": "53ca7ed2",
   "metadata": {
    "ExecuteTime": {
     "end_time": "2023-05-16T17:40:48.255712300Z",
     "start_time": "2023-05-16T17:40:48.124036500Z"
    }
   },
   "outputs": [
    {
     "data": {
      "text/plain": "array([ 33,  42,  17,  28, 174, 128, 221,  29,  16,  13,  14, 217, 211],\n      dtype=int64)"
     },
     "execution_count": 26,
     "metadata": {},
     "output_type": "execute_result"
    }
   ],
   "source": [
    "indir_sort = np.argsort(y0_s_pks)[-13:]\n",
    "indir_sort"
   ]
  },
  {
   "cell_type": "code",
   "execution_count": 27,
   "id": "445becdf",
   "metadata": {
    "ExecuteTime": {
     "end_time": "2023-05-16T17:40:48.341279900Z",
     "start_time": "2023-05-16T17:40:48.255712300Z"
    }
   },
   "outputs": [
    {
     "data": {
      "text/plain": "array([ 750,  750,  768,  801,  815,  830,  854,  971,  991, 1045, 1380,\n       1508, 1695])"
     },
     "execution_count": 27,
     "metadata": {},
     "output_type": "execute_result"
    }
   ],
   "source": [
    "y0_s_pks[indir_sort]"
   ]
  },
  {
   "cell_type": "code",
   "execution_count": 28,
   "id": "24ec2874",
   "metadata": {
    "ExecuteTime": {
     "end_time": "2023-05-16T17:40:48.441192100Z",
     "start_time": "2023-05-16T17:40:48.341279900Z"
    }
   },
   "outputs": [
    {
     "data": {
      "text/plain": "array([ 250,  309,  147,  223, 1330,  839, 2394,  233,  142,  122,  126,\n       2184, 1923], dtype=int64)"
     },
     "execution_count": 28,
     "metadata": {},
     "output_type": "execute_result"
    }
   ],
   "source": [
    "pks[indir_sort]"
   ]
  },
  {
   "cell_type": "code",
   "execution_count": 29,
   "id": "cf818b75",
   "metadata": {
    "ExecuteTime": {
     "end_time": "2023-05-16T17:40:48.539948Z",
     "start_time": "2023-05-16T17:40:48.441192100Z"
    }
   },
   "outputs": [],
   "source": [
    "fig2 = go.Figure(data=go.Scattergl(\n",
    "    x=x_nz,\n",
    "    y=y_nz,\n",
    "    mode='markers'\n",
    "))\n"
   ]
  },
  {
   "cell_type": "code",
   "execution_count": 30,
   "id": "23577a62",
   "metadata": {
    "ExecuteTime": {
     "end_time": "2023-05-16T17:40:48.656335900Z",
     "start_time": "2023-05-16T17:40:48.539948Z"
    }
   },
   "outputs": [],
   "source": [
    "fig2.add_trace(\n",
    "    go.Scattergl(x=x0_s,\n",
    "                 y=y0_s,\n",
    "                 error_y=dict(\n",
    "                     color='orange',width=3.0,\n",
    "                     type='data', # value of error bar given in data coordinates\n",
    "                     array=unc_y,\n",
    "                     visible=True),\n",
    "                 name=\"Counts & uncertaintes\",\n",
    "                 line=dict(color='orange',width=0.3)));"
   ]
  },
  {
   "cell_type": "code",
   "execution_count": 31,
   "id": "e7f16f79",
   "metadata": {
    "ExecuteTime": {
     "end_time": "2023-05-16T17:40:48.778470200Z",
     "start_time": "2023-05-16T17:40:48.656335900Z"
    }
   },
   "outputs": [],
   "source": [
    "fig2.add_trace(\n",
    "    go.Scattergl(x=pks,\n",
    "                 y=y0_s[pks],\n",
    "                 mode=\"markers\",\n",
    "                 name=\"peaks\",\n",
    "                 marker=dict(color='cyan',\n",
    "                             symbol='circle',\n",
    "                             size=15,\n",
    "                             opacity=0.4,\n",
    "                             line=dict(color='green', width=2.0)\n",
    "                            )\n",
    "                ));"
   ]
  },
  {
   "cell_type": "code",
   "execution_count": 32,
   "id": "11a0987e",
   "metadata": {
    "ExecuteTime": {
     "end_time": "2023-05-16T17:40:49.642142900Z",
     "start_time": "2023-05-16T17:40:48.778470200Z"
    }
   },
   "outputs": [],
   "source": [
    "# Set title and scale type    width=1800,\n",
    "\n",
    "fig2.update_layout(\n",
    "    title_text=reduced_f_name,\n",
    "    height=700,\n",
    "    margin=dict(l=10, r=10, t=30, b=10),\n",
    "    paper_bgcolor=\"LightSteelBlue\"\n",
    ")\n",
    "fig2.update_yaxes(type=\"log\");\n",
    "fig2.write_html('fig2.html', auto_open=True)\n"
   ]
  },
  {
   "cell_type": "code",
   "execution_count": 33,
   "outputs": [
    {
     "name": "stdout",
     "output_type": "stream",
     "text": [
      "Starting Spec.total_analysis...\n",
      "Finish Spec.total_analysis!\n"
     ]
    }
   ],
   "source": [
    "a_spec.total_analysis()"
   ],
   "metadata": {
    "collapsed": false,
    "ExecuteTime": {
     "end_time": "2023-05-16T17:40:49.880289900Z",
     "start_time": "2023-05-16T17:40:49.642142900Z"
    }
   }
  },
  {
   "cell_type": "code",
   "execution_count": 35,
   "outputs": [
    {
     "data": {
      "text/plain": "{'net_spec_ser_an': <generic_series_analysis_class.GenericSeriesAnalysis at 0x1897fed6c70>,\n 'final_composed_baseline': <generic_series_analysis_class.GenericSeriesAnalysis at 0x1897fefe460>,\n 'f_name': WindowsPath('C:/Users/mmaduar/Nextcloud/Genie_Transfer/Si/SI2022/SI04722.Chn'),\n 'reduced_f_name': 'SI04722.Chn',\n 'sufx': '.chn',\n 'spec_io': None,\n 'lv_time': 50000.0,\n 'rl_time': 50030.1,\n 'source_datetime': None,\n 'pkl_file': WindowsPath('C:/Users/mmaduar/Nextcloud/Genie_Transfer/Si/SI2022/SI04722.pkl'),\n 'origin_spec_ser_an': <generic_series_analysis_class.GenericSeriesAnalysis at 0x1897fe5aa90>,\n 'start_datetime': datetime.datetime(2022, 6, 20, 17, 34, 1),\n 'det_descr': 'MAQUINA_01 MCB 1 Input 1',\n 'sam_descr': 'SI047/22 - Agua da piscina do reator IEA- R1 20/06/22 (SI02006)',\n 'channel_energy_calib': <genericcalib_class.ChannelEnergyCalib at 0x1897fe5a9a0>}"
     },
     "execution_count": 35,
     "metadata": {},
     "output_type": "execute_result"
    }
   ],
   "source": [
    "vars(a_spec)"
   ],
   "metadata": {
    "collapsed": false,
    "ExecuteTime": {
     "end_time": "2023-05-16T17:44:11.853460200Z",
     "start_time": "2023-05-16T17:44:11.806583Z"
    }
   }
  },
  {
   "cell_type": "code",
   "execution_count": 37,
   "outputs": [
    {
     "data": {
      "text/plain": "{'mix_regions': array([[  22,   57],\n        [  96,  189],\n        [ 218,  243],\n        [ 247,  287],\n        [ 303,  316],\n        [ 330,  337],\n        [ 356,  383],\n        [ 387,  417],\n        [ 437,  475],\n        [ 476,  494],\n        [ 508,  517],\n        [ 522,  533],\n        [ 548,  557],\n        [ 574,  585],\n        [ 590,  609],\n        [ 618,  645],\n        [ 649,  656],\n        [ 662,  669],\n        [ 670,  687],\n        [ 694,  699],\n        [ 705,  710],\n        [ 738,  745],\n        [ 749,  772],\n        [ 780,  795],\n        [ 829,  850],\n        [ 860,  871],\n        [ 919,  948],\n        [ 951,  964],\n        [ 979, 1020],\n        [1021, 1030],\n        [1051, 1056],\n        [1074, 1087],\n        [1088, 1103],\n        [1105, 1136],\n        [1154, 1161],\n        [1184, 1214],\n        [1245, 1277],\n        [1284, 1293],\n        [1312, 1338],\n        [1352, 1383],\n        [1392, 1403],\n        [1404, 1423],\n        [1443, 1458],\n        [1464, 1477],\n        [1487, 1502],\n        [1526, 1549],\n        [1557, 1571],\n        [1582, 1597],\n        [1601, 1636],\n        [1637, 1644],\n        [1663, 1719],\n        [1721, 1739],\n        [1756, 1767],\n        [1768, 1775],\n        [1781, 1788],\n        [1799, 1806],\n        [1818, 1844],\n        [1848, 1861],\n        [1915, 1975],\n        [2021, 2042],\n        [2057, 2066],\n        [2101, 2108],\n        [2137, 2144],\n        [2151, 2162],\n        [2176, 2193],\n        [2207, 2214],\n        [2235, 2279],\n        [2297, 2341],\n        [2365, 2382],\n        [2386, 2403],\n        [2414, 2427],\n        [2466, 2481],\n        [2505, 2514],\n        [2518, 2529],\n        [2593, 2614],\n        [2648, 2682],\n        [2683, 2694],\n        [2711, 2718],\n        [2751, 2760],\n        [2767, 2784],\n        [2823, 2850],\n        [2862, 2869],\n        [2878, 2900],\n        [2917, 2924],\n        [2944, 2953],\n        [3014, 3041],\n        [3133, 3140],\n        [3175, 3184],\n        [3186, 3193],\n        [3224, 3231],\n        [3244, 3251],\n        [3265, 3276],\n        [3294, 3305],\n        [3323, 3328],\n        [3337, 3352],\n        [3362, 3369],\n        [3430, 3463],\n        [3482, 3489],\n        [3495, 3526],\n        [3563, 3576],\n        [3598, 3623],\n        [3663, 3690],\n        [3715, 3728],\n        [3745, 3750],\n        [3856, 3871],\n        [3911, 3924],\n        [4000, 4013]], dtype=int64),\n 'spl_baseline': (array([   0.,    0.,    0.,    0.,  196.,  349.,  725., 1308., 2009.,\n         2529., 2972., 3335., 3783., 4095., 4095., 4095., 4095.]),\n  array([233.8513096 , 452.10806391, 795.5143348 , 435.91067326,\n         135.65532566, 138.42836826,  52.23987623,  10.33018109,\n          14.46235507,   9.30446074,  10.25509725,  14.59707432,\n           5.6708443 ,   0.        ,   0.        ,   0.        ,\n           0.        ]),\n  3),\n 'eval_baseline': array([233.8513096 , 237.18997254, 240.52455908, ...,   5.84118545,\n          5.75634378,   5.6708443 ]),\n 'y_s': array([0, 0, 0, ..., 8, 2, 4]),\n 'nzero': array([False, False, False, ...,  True,  True,  True]),\n 'n_ch': 4096,\n 'final_baseline': array([233.8513096 , 237.18997254, 240.52455908, ...,   5.84118545,\n          5.75634378,   5.6708443 ]),\n 'x_s': array([0.000e+00, 1.000e+00, 2.000e+00, ..., 4.093e+03, 4.094e+03,\n        4.095e+03]),\n 'chans_nzero': array([  23.,   24.,   25., ..., 4093., 4094., 4095.]),\n 'counts_nzero': array([  1,   8, 159, ...,   8,   2,   4]),\n 'unc_y': array([ 1.        ,  2.82842712, 12.60952021, ...,  2.82842712,\n         1.41421356,  2.        ]),\n 'given_variance': array([0, 0, 0, ..., 8, 2, 4]),\n 'y_smoothed': array([0, 0, 0, ..., 8, 2, 4]),\n 'fft_s': None,\n 'is_reg': array([False, False, False, ..., False, False, False]),\n 'xs_all_mplets': [],\n 'ys_all_mplets': [],\n 'ys_all_steps': [],\n 'chans_in_multiplets_list': [array([22., 23., 24., 25., 26., 27., 28., 29., 30., 31., 32., 33., 34.,\n         35., 36., 37., 38., 39., 40., 41., 42., 43., 44., 45., 46., 47.,\n         48., 49., 50., 51., 52., 53., 54., 55., 56.]),\n  array([ 96.,  97.,  98.,  99., 100., 101., 102., 103., 104., 105., 106.,\n         107., 108., 109., 110., 111., 112., 113., 114., 115., 116., 117.,\n         118., 119., 120., 121., 122., 123., 124., 125., 126., 127., 128.,\n         129., 130., 131., 132., 133., 134., 135., 136., 137., 138., 139.,\n         140., 141., 142., 143., 144., 145., 146., 147., 148., 149., 150.,\n         151., 152., 153., 154., 155., 156., 157., 158., 159., 160., 161.,\n         162., 163., 164., 165., 166., 167., 168., 169., 170., 171., 172.,\n         173., 174., 175., 176., 177., 178., 179., 180., 181., 182., 183.,\n         184., 185., 186., 187., 188.]),\n  array([218., 219., 220., 221., 222., 223., 224., 225., 226., 227., 228.,\n         229., 230., 231., 232., 233., 234., 235., 236., 237., 238., 239.,\n         240., 241., 242.]),\n  array([247., 248., 249., 250., 251., 252., 253., 254., 255., 256., 257.,\n         258., 259., 260., 261., 262., 263., 264., 265., 266., 267., 268.,\n         269., 270., 271., 272., 273., 274., 275., 276., 277., 278., 279.,\n         280., 281., 282., 283., 284., 285., 286.]),\n  array([303., 304., 305., 306., 307., 308., 309., 310., 311., 312., 313.,\n         314., 315.]),\n  array([330., 331., 332., 333., 334., 335., 336.]),\n  array([356., 357., 358., 359., 360., 361., 362., 363., 364., 365., 366.,\n         367., 368., 369., 370., 371., 372., 373., 374., 375., 376., 377.,\n         378., 379., 380., 381., 382.]),\n  array([387., 388., 389., 390., 391., 392., 393., 394., 395., 396., 397.,\n         398., 399., 400., 401., 402., 403., 404., 405., 406., 407., 408.,\n         409., 410., 411., 412., 413., 414., 415., 416.]),\n  array([437., 438., 439., 440., 441., 442., 443., 444., 445., 446., 447.,\n         448., 449., 450., 451., 452., 453., 454., 455., 456., 457., 458.,\n         459., 460., 461., 462., 463., 464., 465., 466., 467., 468., 469.,\n         470., 471., 472., 473., 474.]),\n  array([476., 477., 478., 479., 480., 481., 482., 483., 484., 485., 486.,\n         487., 488., 489., 490., 491., 492., 493.]),\n  array([508., 509., 510., 511., 512., 513., 514., 515., 516.]),\n  array([522., 523., 524., 525., 526., 527., 528., 529., 530., 531., 532.]),\n  array([548., 549., 550., 551., 552., 553., 554., 555., 556.]),\n  array([574., 575., 576., 577., 578., 579., 580., 581., 582., 583., 584.]),\n  array([590., 591., 592., 593., 594., 595., 596., 597., 598., 599., 600.,\n         601., 602., 603., 604., 605., 606., 607., 608.]),\n  array([618., 619., 620., 621., 622., 623., 624., 625., 626., 627., 628.,\n         629., 630., 631., 632., 633., 634., 635., 636., 637., 638., 639.,\n         640., 641., 642., 643., 644.]),\n  array([649., 650., 651., 652., 653., 654., 655.]),\n  array([662., 663., 664., 665., 666., 667., 668.]),\n  array([670., 671., 672., 673., 674., 675., 676., 677., 678., 679., 680.,\n         681., 682., 683., 684., 685., 686.]),\n  array([694., 695., 696., 697., 698.]),\n  array([705., 706., 707., 708., 709.]),\n  array([738., 739., 740., 741., 742., 743., 744.]),\n  array([749., 750., 751., 752., 753., 754., 755., 756., 757., 758., 759.,\n         760., 761., 762., 763., 764., 765., 766., 767., 768., 769., 770.,\n         771.]),\n  array([780., 781., 782., 783., 784., 785., 786., 787., 788., 789., 790.,\n         791., 792., 793., 794.]),\n  array([829., 830., 831., 832., 833., 834., 835., 836., 837., 838., 839.,\n         840., 841., 842., 843., 844., 845., 846., 847., 848., 849.]),\n  array([860., 861., 862., 863., 864., 865., 866., 867., 868., 869., 870.]),\n  array([919., 920., 921., 922., 923., 924., 925., 926., 927., 928., 929.,\n         930., 931., 932., 933., 934., 935., 936., 937., 938., 939., 940.,\n         941., 942., 943., 944., 945., 946., 947.]),\n  array([951., 952., 953., 954., 955., 956., 957., 958., 959., 960., 961.,\n         962., 963.]),\n  array([ 979.,  980.,  981.,  982.,  983.,  984.,  985.,  986.,  987.,\n          988.,  989.,  990.,  991.,  992.,  993.,  994.,  995.,  996.,\n          997.,  998.,  999., 1000., 1001., 1002., 1003., 1004., 1005.,\n         1006., 1007., 1008., 1009., 1010., 1011., 1012., 1013., 1014.,\n         1015., 1016., 1017., 1018., 1019.]),\n  array([1021., 1022., 1023., 1024., 1025., 1026., 1027., 1028., 1029.]),\n  array([1051., 1052., 1053., 1054., 1055.]),\n  array([1074., 1075., 1076., 1077., 1078., 1079., 1080., 1081., 1082.,\n         1083., 1084., 1085., 1086.]),\n  array([1088., 1089., 1090., 1091., 1092., 1093., 1094., 1095., 1096.,\n         1097., 1098., 1099., 1100., 1101., 1102.]),\n  array([1105., 1106., 1107., 1108., 1109., 1110., 1111., 1112., 1113.,\n         1114., 1115., 1116., 1117., 1118., 1119., 1120., 1121., 1122.,\n         1123., 1124., 1125., 1126., 1127., 1128., 1129., 1130., 1131.,\n         1132., 1133., 1134., 1135.]),\n  array([1154., 1155., 1156., 1157., 1158., 1159., 1160.]),\n  array([1184., 1185., 1186., 1187., 1188., 1189., 1190., 1191., 1192.,\n         1193., 1194., 1195., 1196., 1197., 1198., 1199., 1200., 1201.,\n         1202., 1203., 1204., 1205., 1206., 1207., 1208., 1209., 1210.,\n         1211., 1212., 1213.]),\n  array([1245., 1246., 1247., 1248., 1249., 1250., 1251., 1252., 1253.,\n         1254., 1255., 1256., 1257., 1258., 1259., 1260., 1261., 1262.,\n         1263., 1264., 1265., 1266., 1267., 1268., 1269., 1270., 1271.,\n         1272., 1273., 1274., 1275., 1276.]),\n  array([1284., 1285., 1286., 1287., 1288., 1289., 1290., 1291., 1292.]),\n  array([1312., 1313., 1314., 1315., 1316., 1317., 1318., 1319., 1320.,\n         1321., 1322., 1323., 1324., 1325., 1326., 1327., 1328., 1329.,\n         1330., 1331., 1332., 1333., 1334., 1335., 1336., 1337.]),\n  array([1352., 1353., 1354., 1355., 1356., 1357., 1358., 1359., 1360.,\n         1361., 1362., 1363., 1364., 1365., 1366., 1367., 1368., 1369.,\n         1370., 1371., 1372., 1373., 1374., 1375., 1376., 1377., 1378.,\n         1379., 1380., 1381., 1382.]),\n  array([1392., 1393., 1394., 1395., 1396., 1397., 1398., 1399., 1400.,\n         1401., 1402.]),\n  array([1404., 1405., 1406., 1407., 1408., 1409., 1410., 1411., 1412.,\n         1413., 1414., 1415., 1416., 1417., 1418., 1419., 1420., 1421.,\n         1422.]),\n  array([1443., 1444., 1445., 1446., 1447., 1448., 1449., 1450., 1451.,\n         1452., 1453., 1454., 1455., 1456., 1457.]),\n  array([1464., 1465., 1466., 1467., 1468., 1469., 1470., 1471., 1472.,\n         1473., 1474., 1475., 1476.]),\n  array([1487., 1488., 1489., 1490., 1491., 1492., 1493., 1494., 1495.,\n         1496., 1497., 1498., 1499., 1500., 1501.]),\n  array([1526., 1527., 1528., 1529., 1530., 1531., 1532., 1533., 1534.,\n         1535., 1536., 1537., 1538., 1539., 1540., 1541., 1542., 1543.,\n         1544., 1545., 1546., 1547., 1548.]),\n  array([1557., 1558., 1559., 1560., 1561., 1562., 1563., 1564., 1565.,\n         1566., 1567., 1568., 1569., 1570.]),\n  array([1582., 1583., 1584., 1585., 1586., 1587., 1588., 1589., 1590.,\n         1591., 1592., 1593., 1594., 1595., 1596.]),\n  array([1601., 1602., 1603., 1604., 1605., 1606., 1607., 1608., 1609.,\n         1610., 1611., 1612., 1613., 1614., 1615., 1616., 1617., 1618.,\n         1619., 1620., 1621., 1622., 1623., 1624., 1625., 1626., 1627.,\n         1628., 1629., 1630., 1631., 1632., 1633., 1634., 1635.]),\n  array([1637., 1638., 1639., 1640., 1641., 1642., 1643.]),\n  array([1663., 1664., 1665., 1666., 1667., 1668., 1669., 1670., 1671.,\n         1672., 1673., 1674., 1675., 1676., 1677., 1678., 1679., 1680.,\n         1681., 1682., 1683., 1684., 1685., 1686., 1687., 1688., 1689.,\n         1690., 1691., 1692., 1693., 1694., 1695., 1696., 1697., 1698.,\n         1699., 1700., 1701., 1702., 1703., 1704., 1705., 1706., 1707.,\n         1708., 1709., 1710., 1711., 1712., 1713., 1714., 1715., 1716.,\n         1717., 1718.]),\n  array([1721., 1722., 1723., 1724., 1725., 1726., 1727., 1728., 1729.,\n         1730., 1731., 1732., 1733., 1734., 1735., 1736., 1737., 1738.]),\n  array([1756., 1757., 1758., 1759., 1760., 1761., 1762., 1763., 1764.,\n         1765., 1766.]),\n  array([1768., 1769., 1770., 1771., 1772., 1773., 1774.]),\n  array([1781., 1782., 1783., 1784., 1785., 1786., 1787.]),\n  array([1799., 1800., 1801., 1802., 1803., 1804., 1805.]),\n  array([1818., 1819., 1820., 1821., 1822., 1823., 1824., 1825., 1826.,\n         1827., 1828., 1829., 1830., 1831., 1832., 1833., 1834., 1835.,\n         1836., 1837., 1838., 1839., 1840., 1841., 1842., 1843.]),\n  array([1848., 1849., 1850., 1851., 1852., 1853., 1854., 1855., 1856.,\n         1857., 1858., 1859., 1860.]),\n  array([1915., 1916., 1917., 1918., 1919., 1920., 1921., 1922., 1923.,\n         1924., 1925., 1926., 1927., 1928., 1929., 1930., 1931., 1932.,\n         1933., 1934., 1935., 1936., 1937., 1938., 1939., 1940., 1941.,\n         1942., 1943., 1944., 1945., 1946., 1947., 1948., 1949., 1950.,\n         1951., 1952., 1953., 1954., 1955., 1956., 1957., 1958., 1959.,\n         1960., 1961., 1962., 1963., 1964., 1965., 1966., 1967., 1968.,\n         1969., 1970., 1971., 1972., 1973., 1974.]),\n  array([2021., 2022., 2023., 2024., 2025., 2026., 2027., 2028., 2029.,\n         2030., 2031., 2032., 2033., 2034., 2035., 2036., 2037., 2038.,\n         2039., 2040., 2041.]),\n  array([2057., 2058., 2059., 2060., 2061., 2062., 2063., 2064., 2065.]),\n  array([2101., 2102., 2103., 2104., 2105., 2106., 2107.]),\n  array([2137., 2138., 2139., 2140., 2141., 2142., 2143.]),\n  array([2151., 2152., 2153., 2154., 2155., 2156., 2157., 2158., 2159.,\n         2160., 2161.]),\n  array([2176., 2177., 2178., 2179., 2180., 2181., 2182., 2183., 2184.,\n         2185., 2186., 2187., 2188., 2189., 2190., 2191., 2192.]),\n  array([2207., 2208., 2209., 2210., 2211., 2212., 2213.]),\n  array([2235., 2236., 2237., 2238., 2239., 2240., 2241., 2242., 2243.,\n         2244., 2245., 2246., 2247., 2248., 2249., 2250., 2251., 2252.,\n         2253., 2254., 2255., 2256., 2257., 2258., 2259., 2260., 2261.,\n         2262., 2263., 2264., 2265., 2266., 2267., 2268., 2269., 2270.,\n         2271., 2272., 2273., 2274., 2275., 2276., 2277., 2278.]),\n  array([2297., 2298., 2299., 2300., 2301., 2302., 2303., 2304., 2305.,\n         2306., 2307., 2308., 2309., 2310., 2311., 2312., 2313., 2314.,\n         2315., 2316., 2317., 2318., 2319., 2320., 2321., 2322., 2323.,\n         2324., 2325., 2326., 2327., 2328., 2329., 2330., 2331., 2332.,\n         2333., 2334., 2335., 2336., 2337., 2338., 2339., 2340.]),\n  array([2365., 2366., 2367., 2368., 2369., 2370., 2371., 2372., 2373.,\n         2374., 2375., 2376., 2377., 2378., 2379., 2380., 2381.]),\n  array([2386., 2387., 2388., 2389., 2390., 2391., 2392., 2393., 2394.,\n         2395., 2396., 2397., 2398., 2399., 2400., 2401., 2402.]),\n  array([2414., 2415., 2416., 2417., 2418., 2419., 2420., 2421., 2422.,\n         2423., 2424., 2425., 2426.]),\n  array([2466., 2467., 2468., 2469., 2470., 2471., 2472., 2473., 2474.,\n         2475., 2476., 2477., 2478., 2479., 2480.]),\n  array([2505., 2506., 2507., 2508., 2509., 2510., 2511., 2512., 2513.]),\n  array([2518., 2519., 2520., 2521., 2522., 2523., 2524., 2525., 2526.,\n         2527., 2528.]),\n  array([2593., 2594., 2595., 2596., 2597., 2598., 2599., 2600., 2601.,\n         2602., 2603., 2604., 2605., 2606., 2607., 2608., 2609., 2610.,\n         2611., 2612., 2613.]),\n  array([2648., 2649., 2650., 2651., 2652., 2653., 2654., 2655., 2656.,\n         2657., 2658., 2659., 2660., 2661., 2662., 2663., 2664., 2665.,\n         2666., 2667., 2668., 2669., 2670., 2671., 2672., 2673., 2674.,\n         2675., 2676., 2677., 2678., 2679., 2680., 2681.]),\n  array([2683., 2684., 2685., 2686., 2687., 2688., 2689., 2690., 2691.,\n         2692., 2693.]),\n  array([2711., 2712., 2713., 2714., 2715., 2716., 2717.]),\n  array([2751., 2752., 2753., 2754., 2755., 2756., 2757., 2758., 2759.]),\n  array([2767., 2768., 2769., 2770., 2771., 2772., 2773., 2774., 2775.,\n         2776., 2777., 2778., 2779., 2780., 2781., 2782., 2783.]),\n  array([2823., 2824., 2825., 2826., 2827., 2828., 2829., 2830., 2831.,\n         2832., 2833., 2834., 2835., 2836., 2837., 2838., 2839., 2840.,\n         2841., 2842., 2843., 2844., 2845., 2846., 2847., 2848., 2849.]),\n  array([2862., 2863., 2864., 2865., 2866., 2867., 2868.]),\n  array([2878., 2879., 2880., 2881., 2882., 2883., 2884., 2885., 2886.,\n         2887., 2888., 2889., 2890., 2891., 2892., 2893., 2894., 2895.,\n         2896., 2897., 2898., 2899.]),\n  array([2917., 2918., 2919., 2920., 2921., 2922., 2923.]),\n  array([2944., 2945., 2946., 2947., 2948., 2949., 2950., 2951., 2952.]),\n  array([3014., 3015., 3016., 3017., 3018., 3019., 3020., 3021., 3022.,\n         3023., 3024., 3025., 3026., 3027., 3028., 3029., 3030., 3031.,\n         3032., 3033., 3034., 3035., 3036., 3037., 3038., 3039., 3040.]),\n  array([3133., 3134., 3135., 3136., 3137., 3138., 3139.]),\n  array([3175., 3176., 3177., 3178., 3179., 3180., 3181., 3182., 3183.]),\n  array([3186., 3187., 3188., 3189., 3190., 3191., 3192.]),\n  array([3224., 3225., 3226., 3227., 3228., 3229., 3230.]),\n  array([3244., 3245., 3246., 3247., 3248., 3249., 3250.]),\n  array([3265., 3266., 3267., 3268., 3269., 3270., 3271., 3272., 3273.,\n         3274., 3275.]),\n  array([3294., 3295., 3296., 3297., 3298., 3299., 3300., 3301., 3302.,\n         3303., 3304.]),\n  array([3323., 3324., 3325., 3326., 3327.]),\n  array([3337., 3338., 3339., 3340., 3341., 3342., 3343., 3344., 3345.,\n         3346., 3347., 3348., 3349., 3350., 3351.]),\n  array([3362., 3363., 3364., 3365., 3366., 3367., 3368.]),\n  array([3430., 3431., 3432., 3433., 3434., 3435., 3436., 3437., 3438.,\n         3439., 3440., 3441., 3442., 3443., 3444., 3445., 3446., 3447.,\n         3448., 3449., 3450., 3451., 3452., 3453., 3454., 3455., 3456.,\n         3457., 3458., 3459., 3460., 3461., 3462.]),\n  array([3482., 3483., 3484., 3485., 3486., 3487., 3488.]),\n  array([3495., 3496., 3497., 3498., 3499., 3500., 3501., 3502., 3503.,\n         3504., 3505., 3506., 3507., 3508., 3509., 3510., 3511., 3512.,\n         3513., 3514., 3515., 3516., 3517., 3518., 3519., 3520., 3521.,\n         3522., 3523., 3524., 3525.]),\n  array([3563., 3564., 3565., 3566., 3567., 3568., 3569., 3570., 3571.,\n         3572., 3573., 3574., 3575.]),\n  array([3598., 3599., 3600., 3601., 3602., 3603., 3604., 3605., 3606.,\n         3607., 3608., 3609., 3610., 3611., 3612., 3613., 3614., 3615.,\n         3616., 3617., 3618., 3619., 3620., 3621., 3622.]),\n  array([3663., 3664., 3665., 3666., 3667., 3668., 3669., 3670., 3671.,\n         3672., 3673., 3674., 3675., 3676., 3677., 3678., 3679., 3680.,\n         3681., 3682., 3683., 3684., 3685., 3686., 3687., 3688., 3689.]),\n  array([3715., 3716., 3717., 3718., 3719., 3720., 3721., 3722., 3723.,\n         3724., 3725., 3726., 3727.]),\n  array([3745., 3746., 3747., 3748., 3749.]),\n  array([3856., 3857., 3858., 3859., 3860., 3861., 3862., 3863., 3864.,\n         3865., 3866., 3867., 3868., 3869., 3870.]),\n  array([3911., 3912., 3913., 3914., 3915., 3916., 3917., 3918., 3919.,\n         3920., 3921., 3922., 3923.]),\n  array([4000., 4001., 4002., 4003., 4004., 4005., 4006., 4007., 4008.,\n         4009., 4010., 4011., 4012.])],\n 'calculated_step_counts': [array([306.19149976, 306.19798416, 306.24985933, 307.28087824,\n         310.23776267, 313.10386556, 315.5873891 , 318.54427354,\n         321.87076852, 325.26859186, 328.79610311, 332.35603633,\n         335.85112561, 339.28137092, 342.71810063, 346.25209628,\n         349.98062379, 354.40946604, 358.56596368, 362.33988196,\n         366.26942574, 370.18600073, 374.19335727, 377.95430676,\n         381.13814504, 384.67862508, 388.102386  , 391.62989725,\n         395.313034  , 398.73031052, 401.89469561, 405.5129884 ,\n         408.83299899, 408.83299899, 411.50133648]),\n  array([520.11835816, 521.32356428, 522.57264299, 523.82946393,\n         525.14048044, 526.63989104, 528.30704983, 530.03872714,\n         531.77556593, 533.25949209, 534.76922567, 536.20411775,\n         537.58997574, 538.99647967, 540.2713658 , 541.6701275 ,\n         543.31664035, 544.73346725, 546.09093709, 547.60067066,\n         549.10266201, 550.70788301, 552.28471585, 553.86412943,\n         555.56483785, 557.74298338, 560.43985788, 562.72897528,\n         564.84260229, 567.52657308, 571.08799587, 573.87003483,\n         575.89849737, 577.37726205, 578.78892746, 580.21091583,\n         581.65613088, 582.98005109, 584.44333132, 585.98661453,\n         587.52215551, 589.01640464, 590.44871598, 592.00232215,\n         593.56883203, 595.58181012, 598.1393246 , 600.35618125,\n         602.05430893, 603.80921291, 605.68025024, 607.66225945,\n         609.23393081, 610.68688807, 612.11919941, 613.53860704,\n         614.87026948, 616.35935712, 618.02135442, 619.69367469,\n         621.24728086, 622.75701443, 624.24094059, 625.69389786,\n         627.04362548, 628.57658572, 630.11986893, 631.63992547,\n         633.20901609, 634.71100744, 636.39106993, 638.01177537,\n         639.5628008 , 641.11382623, 642.55129905, 644.08167855,\n         645.59915435, 647.2456672 , 648.91798747, 650.61095366,\n         652.26520874, 654.01753198, 655.68211002, 657.2486199 ,\n         658.81512978, 660.49777301, 662.21654661, 663.89144762,\n         665.4269886 , 667.03995182, 668.71485283, 668.71485283,\n         670.44509808]),\n  array([679.17033403, 678.87122038, 678.58187891, 678.28828867,\n         677.96495701, 677.62463026, 677.31404492, 677.02045467,\n         676.73408734, 676.44729513, 676.15497952, 675.8741356 ,\n         675.585219  , 675.27633317, 674.93558154, 674.52302564,\n         674.13681214, 673.80540781, 673.49737173, 673.19655857,\n         672.89829468, 672.61150247, 672.3408556 , 672.3408556 ,\n         672.05531452]),\n  array([669.25477525, 668.28371365, 667.39135072, 666.39094386,\n         665.50391643, 664.595547  , 663.69384694, 662.78414363,\n         661.85709993, 660.954066  , 660.02568843, 659.12932387,\n         658.21695281, 657.3405964 , 656.47624486, 655.6465741 ,\n         654.80890008, 653.93787917, 652.99616284, 652.09846441,\n         651.18475947, 650.26571903, 649.37869161, 648.47565767,\n         647.59930126, 646.68826407, 645.83191579, 644.92354636,\n         644.03918669, 643.17083352, 642.27180122, 641.41411907,\n         640.52975939, 639.72009677, 638.79305307, 637.90602565,\n         637.02700148, 636.21733886, 636.21733886, 635.3698344 ]),\n  array([615.69123391, 614.3025316 , 612.94143347, 611.52937379,\n         610.05998236, 608.61182491, 607.01927639, 605.77921195,\n         604.52216032, 603.22688753, 602.00381027, 602.00381027,\n         600.72822515]),\n  array([581.32027259, 579.67192262, 578.13466833, 576.43981319,\n         574.94648046, 574.94648046, 573.46486479]),\n  array([547.53940287, 546.2530738 , 544.77177847, 543.5638841 ,\n         542.26635006, 540.97778   , 539.57716036, 538.39391689,\n         537.058286  , 535.69800421, 534.41391613, 533.15671994,\n         531.92193367, 530.57509783, 529.40530031, 528.11897123,\n         526.89314892, 525.68749554, 524.46839621, 523.215682  ,\n         521.7814475 , 520.24412738, 518.88832757, 517.61544445,\n         516.42323701, 516.42323701, 515.26852467]),\n  array([509.25660955, 508.02658989, 506.88243952, 505.63153274,\n         504.45024971, 503.13436075, 501.5608639 , 500.04306606,\n         498.68772364, 497.41825052, 496.24625066, 495.03943892,\n         493.75139946, 492.49585109, 491.2751146 , 490.09847315,\n         488.88934062, 487.75679422, 486.59175673, 485.58453308,\n         484.51696885, 483.34961057, 482.20081862, 481.06363064,\n         479.95661294, 478.90761505, 477.83540923, 476.70286283,\n         476.70286283, 475.59909634]),\n  array([452.49454949, 451.42414087, 450.42476624, 449.38130156,\n         448.26435344, 447.25028212, 446.23131191, 445.1094649 ,\n         443.98026955, 442.82413027, 441.65574375, 440.54859342,\n         439.47818481, 438.35388835, 437.33001925, 436.21552058,\n         435.23329208, 434.15798457, 433.07042983, 431.96083005,\n         430.93696095, 429.78327112, 428.73735698, 427.67919561,\n         426.73125938, 425.72698585, 424.69331895, 423.62780924,\n         422.56474897, 421.45514919, 420.45087567, 419.36821982,\n         418.31005845, 417.20290812, 416.28191581, 415.32173234,\n         415.32173234, 414.30690927]),\n  array([412.33252849, 411.34443018, 410.18622887, 409.24065632,\n         408.20753074, 407.21192789, 406.18380535, 405.23322976,\n         404.28765721, 403.17698468, 401.99126671, 400.88059418,\n         399.7774262 , 398.79683243, 397.89128411, 396.90568732,\n         396.90568732, 395.91529938]),\n  array([381.96568897, 380.95525983, 380.01507443, 378.93710323,\n         377.8186068 , 376.80277429, 375.74101319, 375.74101319,\n         374.72861556]),\n  array([369.39242371, 368.41873168, 367.52126301, 366.55248862,\n         365.4730674 , 364.36168155, 363.44208352, 362.49052086,\n         361.55862874, 361.55862874, 360.67180233]),\n  array([347.16359568, 346.21949867, 345.36659285, 344.45199887,\n         343.41134648, 342.45115691, 341.52583456, 341.52583456,\n         340.61228048]),\n  array([326.35859449, 325.59754254, 324.86034802, 324.10883904,\n         323.09966984, 321.9879137 , 321.04077381, 320.24632146,\n         319.48765526, 319.48765526, 318.72725401]),\n  array([314.24572871, 313.41855653, 312.72264221, 311.99700913,\n         311.28375887, 310.58784455, 309.8671646 , 309.02017991,\n         308.15833585, 307.27667927, 306.43960084, 305.66938962,\n         304.88184245, 304.14382656, 303.40581066, 302.70741978,\n         301.97931014, 301.97931014, 301.2332868 ]),\n  array([294.2805957 , 293.6099718 , 292.85209199, 292.15903086,\n         291.49588603, 290.77290859, 290.03497299, 289.41919565,\n         288.70369728, 287.97822682, 287.28765871, 286.59958362,\n         285.88159223, 285.12620545, 284.40073499, 283.76999949,\n         283.08441743, 282.44869589, 281.82543947, 281.17475977,\n         280.47920561, 279.88835853, 279.17784622, 278.46234785,\n         277.79920302, 277.79920302, 277.10836476]),\n  array([273.95340812, 273.2042719 , 272.47455773, 271.66438078,\n         270.97905987, 270.97905987, 270.22928747]),\n  array([265.96909991, 265.28472381, 264.58989921, 263.77491698,\n         263.07486814, 263.07486814, 262.38947468]),\n  array([261.21093628, 260.63801228, 260.01836915, 259.41593834,\n         258.74465828, 258.22337121, 257.59389248, 257.02834518,\n         256.35214732, 255.68332617, 255.07597755, 254.4194509 ,\n         253.86865701, 253.2760618 , 252.66379538, 252.66379538,\n         252.04404395]),\n  array([247.63296378, 246.999146  , 246.20388407, 246.20388407,\n         245.47000081]),\n  array([241.75255647, 241.15055025, 240.36041709, 240.36041709,\n         239.66675902]),\n  array([225.36613298, 224.83869267, 224.30134737, 223.67733348,\n         223.13503569, 223.13503569, 222.58386338]),\n  array([220.31034969, 219.87982033, 219.418972  , 219.02280414,\n         218.52759431, 218.10515001, 217.64228041, 217.20568726,\n         216.76100905, 216.31633083, 215.86356756, 215.3420813 ,\n         214.83272262, 214.32336394, 213.85443055, 213.38549716,\n         212.94284021, 212.54060855, 212.11007919, 211.62901822,\n         211.20859518, 211.20859518, 210.78254788]),\n  array([207.10268191, 206.72286853, 206.32277384, 205.92452292,\n         205.59264714, 205.17964618, 204.71317634, 204.15820629,\n         203.65301761, 203.20129781, 202.78829685, 202.36423336,\n         201.99363874, 201.99363874, 201.6218975 ]),\n  array([189.16167413, 188.98203588, 188.81972314, 188.6364374 ,\n         188.43764989, 188.22427247, 187.97897962, 187.64705919,\n         187.15920911, 186.5145175 , 185.75766596, 185.09108949,\n         184.50566939, 184.05885342, 183.7324042 , 183.51993865,\n         183.33209357, 183.16248588, 182.9627865 , 182.9627865 ,\n         182.79610034]),\n  array([179.51652339, 179.13901484, 178.86713941, 178.58314216,\n         178.26970616, 177.91644128, 177.59781021, 177.29130098,\n         176.97266991, 176.97266991, 176.66673779]),\n  array([164.40343642, 164.21704995, 164.01214827, 163.80971528,\n         163.6072823 , 163.40114627, 163.17279199, 162.91604771,\n         162.6765843 , 162.44452698, 162.2396253 , 161.9952245 ,\n         161.78908847, 161.56690592, 161.34966077, 161.13858735,\n         160.90776437, 160.71397182, 160.49302362, 160.25973195,\n         160.00915941, 159.78203947, 159.55738823, 159.35742394,\n         159.16239704, 158.96983884, 158.75629672, 158.75629672,\n         158.56057787]),\n  array([157.78931059, 157.6399691 , 157.4915911 , 157.31527178,\n         157.14762391, 156.92023944, 156.60614056, 156.31131154,\n         156.08489057, 155.88544741, 155.71587255, 155.71587255,\n         155.56598573]),\n  array([152.80475225, 152.6659232 , 152.51221961, 152.37091147,\n         152.22464515, 152.07837883, 151.94450796, 151.81311618,\n         151.66932895, 151.50736173, 151.35283177, 151.20573909,\n         151.05120914, 150.9165119 , 150.79173103, 150.65042289,\n         150.51159384, 150.36698025, 150.21245029, 150.05461489,\n         149.85132949, 149.53235322, 149.26626421, 149.05223609,\n         148.88448432, 148.75474527, 148.63657531, 148.49857262,\n         148.36056993, 148.22091452, 148.05729457, 147.90772279,\n         147.7879001 , 147.64411287, 147.52676927, 147.38546113,\n         147.22018845, 147.07557486, 146.9549258 , 146.9549258 ,\n         146.8335879 ]),\n  array([146.56728737, 146.42900376, 146.27109883, 146.1458961 ,\n         145.96836985, 145.81607101, 145.66657522, 145.66657522,\n         145.53059889]),\n  array([142.90328516, 142.77070173, 142.60195918, 142.60195918,\n         142.45887065]),\n  array([140.47688218, 140.40405444, 140.33122671, 140.25315956,\n         140.11117167, 139.94508251, 139.7653709 , 139.65010398,\n         139.55841438, 139.48453876, 139.40070827, 139.40070827,\n         139.32770884]),\n  array([139.14339315, 139.04211045, 138.96083421, 138.87330595,\n         138.78202648, 138.68512019, 138.58946431, 138.47630277,\n         138.36314124, 138.25310571, 138.17620588, 138.09180363,\n         137.99364694, 137.99364694, 137.90742696]),\n  array([137.65439229, 137.5799184 , 137.50760318, 137.43312929,\n         137.35649674, 137.27662619, 137.19513664, 137.10555211,\n         137.01434858, 136.94904901, 136.8859081 , 136.81521188,\n         136.73911899, 136.65708978, 136.59502821, 136.52487164,\n         136.45471508, 136.37808253, 136.28957733, 136.18380282,\n         136.07532998, 135.96038115, 135.86216197, 135.78930708,\n         135.70565887, 135.62524865, 135.54537811, 135.47306288,\n         135.40074766, 135.40074766, 135.32771591]),\n  array([134.01896372, 133.95216361, 133.87839305, 133.78429203,\n         133.70529364, 133.70529364, 133.62767327]),\n  array([132.14863596, 132.08398254, 132.02112506, 131.96096146,\n         131.89585906, 131.83928733, 131.78540948, 131.73063367,\n         131.66418433, 131.58651043, 131.51557127, 131.447326  ,\n         131.38267258, 131.34001929, 131.27895773, 131.22552887,\n         131.15997749, 131.10475269, 131.04862994, 130.99250718,\n         130.9345885 , 130.87622083, 130.82413891, 130.76891412,\n         130.71054645, 130.65846454, 130.60368873, 130.55385172,\n         130.55385172, 130.49526169]),\n  array([128.74918425, 128.70801277, 128.65947377, 128.59966678,\n         128.55632838, 128.49478786, 128.45014931, 128.38600848,\n         128.3179672 , 128.25079269, 128.18318479, 128.1316121 ,\n         128.08090617, 128.02369949, 127.95999205, 127.89195076,\n         127.83907792, 127.788372  , 127.73983299, 127.68912707,\n         127.63365392, 127.57254678, 127.5045055 , 127.42649639,\n         127.3558548 , 127.29951488, 127.2505425 , 127.20070334,\n         127.14176312, 127.09192397, 127.09192397, 127.03686822]),\n  array([126.57942911, 126.52187451, 126.45823241, 126.39569713,\n         126.31711297, 126.25347087, 126.18208104, 126.18208104,\n         126.11228929]),\n  array([124.89091157, 124.85539539, 124.82083054, 124.79292496,\n         124.76057987, 124.72125838, 124.67686315, 124.63849299,\n         124.59314644, 124.55636182, 124.52401673, 124.48628078,\n         124.45520412, 124.42127349, 124.37560982, 124.30426035,\n         124.1796366 , 123.96051444, 123.70207079, 123.51180553,\n         123.40779386, 123.35261693, 123.31297833, 123.27809637,\n         123.27809637, 123.2390162 ]),\n  array([122.18231836, 122.11285107, 122.05096203, 121.97896866,\n         121.89118727, 121.81477325, 121.74972661, 121.69225821,\n         121.62847461, 121.55648124, 121.48069874, 121.4156521 ,\n         121.35060545, 121.25966646, 121.18767309, 121.1030493 ,\n         121.00516357, 120.8845431 , 120.78097368, 120.684351  ,\n         120.6085685 , 120.53531209, 120.46647632, 120.39069382,\n         120.31806893, 120.22523537, 120.14376919, 120.062303  ,\n         120.00483461, 120.00483461, 119.92909689]),\n  array([119.13838243, 119.03926451, 118.9464398 , 118.86462819,\n         118.77652338, 118.67268557, 118.58222081, 118.49490264,\n         118.42174419, 118.42174419, 118.32866093]),\n  array([118.16447873, 118.08130641, 117.99363829, 117.90671947,\n         117.82504575, 117.73887624, 117.64896021, 117.55230049,\n         117.46163517, 117.35673315, 117.27805663, 117.18364481,\n         117.09522739, 117.00306347, 116.91539535, 116.82323143,\n         116.74155771, 116.74155771, 116.65414874]),\n  array([114.82045784, 114.74263054, 114.65126807, 114.57817809,\n         114.48681561, 114.40086721, 114.3000301 , 114.15317338,\n         114.02255888, 113.89194438, 113.7971981 , 113.70177507,\n         113.63409917, 113.63409917, 113.55724827]),\n  array([112.91392091, 112.8057927 , 112.70570708, 112.61723855,\n         112.51536569, 112.40902472, 112.29374754, 112.20170452,\n         112.09893803, 111.99259707, 111.89340507, 111.89340507,\n         111.79350399]),\n  array([110.74757586, 110.65963153, 110.58668546, 110.51714808,\n         110.4353394 , 110.3426229 , 110.21581945, 110.03993079,\n         109.87290474, 109.73042129, 109.63565957, 109.55044219,\n         109.46590656, 109.46590656, 109.39133023]),\n  array([106.90360561, 106.81060454, 106.70992448, 106.60327187,\n         106.51624335, 106.40276497, 106.2892866 , 106.17751467,\n         106.0683024 , 105.94799827, 105.83025379, 105.69203201,\n         105.57002143, 105.44033187, 105.34477113, 105.24238463,\n         105.13914491, 105.04614384, 104.92925258, 104.82857252,\n         104.73898433, 104.73898433, 104.64969503]),\n  array([103.71145016, 103.60467005, 103.4886047 , 103.35675446,\n         103.256474  , 103.14319423, 103.04477081, 102.94077626,\n         102.81078307, 102.65479125, 102.55172522, 102.43565987,\n         102.43565987, 102.34063426]),\n  array([101.05975964, 100.94436199, 100.8455746 , 100.72668005,\n         100.62701845, 100.49501053, 100.33765009, 100.15843404,\n          99.99495404,  99.8979151 ,  99.81136686,  99.73530932,\n          99.63477349,  99.63477349,  99.5477464 ]),\n  array([99.00337224, 98.89145972, 98.79368352, 98.66763469, 98.55101007,\n         98.41671505, 98.30598056, 98.1964241 , 98.06801921, 97.93254617,\n         97.80414128, 97.67927047, 97.56853598, 97.45426741, 97.36827148,\n         97.26578318, 97.15151461, 97.05373841, 96.92768958, 96.80517482,\n         96.69208428, 96.58017177, 96.44352069, 96.32689607, 96.23265395,\n         96.13134368, 96.0347455 , 95.92047694, 95.81798863, 95.70254204,\n         95.5941636 , 95.4740049 , 95.3585583 , 95.3585583 , 95.24635558]),\n  array([95.02259346, 94.8764588 , 94.76415161, 94.60583906, 94.47729468,\n         94.47729468, 94.34963032]),\n  array([92.0894387 , 91.97694121, 91.86444372, 91.75194622, 91.6419212 ,\n         91.51582511, 91.40209138, 91.2661054 , 91.15237167, 91.01144074,\n         90.87792723, 90.75059491, 90.63191623, 90.50829261, 90.36365298,\n         90.2412656 , 90.14483917, 90.05088522, 89.95075009, 89.84443378,\n         89.73440876, 89.63303739, 89.52548484, 89.40556993, 89.28689126,\n         89.15461398, 89.02357295, 88.91107545, 88.78250689, 88.67124563,\n         88.55256696, 88.41781721, 88.28306747, 88.15079019, 88.04200141,\n         87.93321263, 87.80835277, 87.69461904, 87.58583026, 87.47333276,\n         87.37072516, 87.26317261, 87.13460405, 87.04065009, 86.91084529,\n         86.78598544, 86.64752699, 86.52266713, 86.40398846, 86.30138085,\n         86.2074269 , 86.10358306, 85.98366815, 85.87240689, 85.87240689,\n         85.76637939]),\n  array([85.41805313, 85.30562676, 85.20846817, 85.06411827, 84.94475201,\n         84.86008524, 84.73933099, 84.58387725, 84.43675139, 84.31183321,\n         84.20495876, 84.07865259, 83.95234643, 83.83575612, 83.68169036,\n         83.5553842 , 83.5553842 , 83.43957176]),\n  array([81.33807228, 81.19139018, 81.07034185, 80.93932482, 80.81685239,\n         80.6644739 , 80.52776049, 80.40386396, 80.28281562, 80.28281562,\n         80.16864761]),\n  array([79.93465623, 79.77889169, 79.63757954, 79.4657568 , 79.35977268,\n         79.35977268, 79.23253949]),\n  array([78.41324393, 78.27397813, 78.1427161 , 77.96503215, 77.83537088,\n         77.83537088, 77.71097454]),\n  array([76.30683044, 76.1791434 , 76.03899909, 75.8599258 , 75.72289581,\n         75.72289581, 75.60516654]),\n  array([74.08645095, 73.97420552, 73.87035226, 73.77489119, 73.674185  ,\n         73.58292002, 73.46333142, 73.34898794, 73.2273013 , 73.07729104,\n         72.9325259 , 72.77412346, 72.62096613, 72.4856422 , 72.40486744,\n         72.30521028, 72.21289627, 72.06918015, 71.87091485, 71.69992414,\n         71.54886486, 71.44081551, 71.34115835, 71.24989336, 71.24989336,\n         71.17522893]),\n  array([70.59499092, 70.47023614, 70.34397829, 70.22072659, 70.07793497,\n         69.9381495 , 69.78633947, 69.67962153, 69.55035755, 69.41959049,\n         69.30986641, 69.30986641, 69.20584521]),\n  array([62.92238312, 62.87322819, 62.81598447, 62.75189639, 62.6523421 ,\n         62.45510015, 62.03074998, 61.23182677, 60.17717346, 59.21647453,\n         58.60919333, 58.33915231, 58.2433313 , 58.18297651, 58.14626587,\n         58.0958665 , 58.06475579, 58.02120078, 57.98760121, 57.95213499,\n         57.90609113, 57.85320291, 57.82582548, 57.77667055, 57.74182655,\n         57.6964049 , 57.64538332, 57.61365039, 57.57009539, 57.5402291 ,\n         57.4923186 , 57.45560795, 57.4188973 , 57.37596452, 57.3274318 ,\n         57.28636565, 57.24841058, 57.21107772, 57.17001157, 57.13205649,\n         57.10530128, 57.07916828, 57.03374663, 56.98770277, 56.93854784,\n         56.89748169, 56.85206004, 56.82219375, 56.78361647, 56.74006146,\n         56.70210639, 56.66726238, 56.63490724, 56.58886338, 56.5465528 ,\n         56.50673109, 56.47375373, 56.43828751, 56.43828751, 56.40319263]),\n  array([51.43895079, 51.33792657, 51.23513   , 51.15537403, 51.06143923,\n         50.96573207, 50.87179727, 50.74596009, 50.60417171, 50.45883862,\n         50.31173317, 50.19830247, 50.08841647, 49.98030283, 49.86509978,\n         49.77648204, 49.68431959, 49.59038479, 49.48758821, 49.48758821,\n         49.40003383]),\n  array([47.80198029, 47.68292562, 47.59933404, 47.47014704, 47.32829466,\n         47.22950461, 47.13324764, 47.13324764, 47.0141571 ]),\n  array([43.56337226, 43.43380299, 43.33845956, 43.20644558, 43.10865745,\n         43.10865745, 43.00352658]),\n  array([40.27143409, 40.19084919, 40.08803396, 39.93520053, 39.84905804,\n         39.84905804, 39.73863274]),\n  array([39.03539486, 38.94172571, 38.86967252, 38.78801224, 38.68953955,\n         38.55984381, 38.45176402, 38.36289842, 38.25962218, 38.25962218,\n         38.16795143]),\n  array([36.89122023, 36.88292038, 36.87462052, 36.85660376, 36.82380921,\n         36.75073   , 36.59606928, 36.3543613 , 36.04908857, 35.80272457,\n         35.66041242, 35.6049451 , 35.58409424, 35.57721143, 35.56931645,\n         35.56931645, 35.56211741]),\n  array([34.34722871, 34.26998107, 34.1784283 , 34.04968222, 33.96671253,\n         33.96671253, 33.86981019]),\n  array([32.16156652, 32.12466499, 32.08776346, 32.0464689 , 31.98584496,\n         31.86723291, 31.63088741, 31.21794175, 30.7496438 , 30.35075586,\n         30.1073815 , 29.99140527, 29.93517438, 29.89739424, 29.87982209,\n         29.85609968, 29.83149866, 29.80689764, 29.7796608 , 29.74890952,\n         29.71376521, 29.68564976, 29.64084077, 29.59339595, 29.54155809,\n         29.51432124, 29.48269136, 29.46160478, 29.4299749 , 29.40888831,\n         29.38340868, 29.36056488, 29.32190614, 29.28588322, 29.24283144,\n         29.19275079, 29.16551395, 29.13827711, 29.11016166, 29.08731786,\n         29.06798849, 29.04426608, 29.04426608, 29.01876996]),\n  array([27.71479018, 27.65487366, 27.58247455, 27.4950963 , 27.4127111 ,\n         27.35029806, 27.28788503, 27.22796852, 27.14059027, 27.07068768,\n         26.97831639, 26.87595902, 26.78858077, 26.72616774, 26.64627906,\n         26.59634863, 26.54142516, 26.48150865, 26.41410257, 26.34919302,\n         26.28428347, 26.22187043, 26.17194001, 26.1245061 , 26.06958263,\n         26.01216264, 25.94226005, 25.91230179, 25.83990267, 25.76251051,\n         25.69760096, 25.62270532, 25.5503062 , 25.48539665, 25.42298361,\n         25.37554971, 25.30814363, 25.24822712, 25.17333148, 25.14337323,\n         25.08844976, 25.0235402 , 25.0235402 , 24.96122398]),\n  array([23.48937734, 23.42471313, 23.38234692, 23.31322311, 23.25078871,\n         23.1794351 , 23.12146029, 23.05902588, 22.97206367, 22.91185907,\n         22.84942466, 22.80705845, 22.75800285, 22.70448764, 22.64874263,\n         22.64874263, 22.59835282]),\n  array([22.32816508, 22.3224642 , 22.31303583, 22.30229188, 22.28518926,\n         22.24835284, 22.17292589, 22.0306233 , 21.84337151, 21.67760763,\n         21.5743341 , 21.52434182, 21.50745846, 21.50000347, 21.49496039,\n         21.49496039, 21.49024835]),\n  array([20.88872703, 20.83268733, 20.79857622, 20.73279049, 20.69380636,\n         20.63533016, 20.5597984 , 20.49888569, 20.44771902, 20.4136079 ,\n         20.36000472, 20.36000472, 20.31051797]),\n  array([18.5543083 , 18.49954445, 18.45799946, 18.41834288, 18.3786863 ,\n         18.32014564, 18.27482383, 18.20872953, 18.17096136, 18.14641204,\n         18.10486706, 18.07465252, 18.03688435, 18.03688435, 18.00288754]),\n  array([17.10139624, 17.06764761, 17.0378694 , 17.0080912 , 16.95052   ,\n         16.9068453 , 16.86912624, 16.86912624, 16.83570377]),\n  array([16.67530757, 16.65987059, 16.61870532, 16.57754005, 16.54495088,\n         16.49177907, 16.45232901, 16.42145506, 16.39572676, 16.39572676,\n         16.36765264]),\n  array([14.77484154, 14.76204861, 14.74858238, 14.73915601, 14.72568977,\n         14.71491678, 14.70347048, 14.6819245 , 14.65431872, 14.62873286,\n         14.59574058, 14.5741946 , 14.55601518, 14.54120232, 14.51898303,\n         14.49676374, 14.47656438, 14.44963191, 14.42269943, 14.42269943,\n         14.41299499]),\n  array([13.90498464, 13.89573406, 13.884749  , 13.87607659, 13.86682601,\n         13.85526279, 13.83907428, 13.81999497, 13.80091565, 13.78877427,\n         13.77085128, 13.76275703, 13.75524093, 13.75003748, 13.74078691,\n         13.73442714, 13.7245984 , 13.71650414, 13.70551908, 13.69973747,\n         13.6904869 , 13.68065816, 13.66909494, 13.65117195, 13.63671792,\n         13.62168573, 13.60549723, 13.59451217, 13.58757423, 13.5777455 ,\n         13.57196389, 13.56271331, 13.56271331, 13.55487641]),\n  array([13.53725354, 13.5273486 , 13.51802631, 13.50812138, 13.49705116,\n         13.48248508, 13.47607601, 13.46908429, 13.46267522, 13.46267522,\n         13.45483585]),\n  array([13.32910075, 13.32284578, 13.31748437, 13.30586799, 13.29916623,\n         13.29916623, 13.29322703]),\n  array([13.14013781, 13.13647525, 13.13453625, 13.13108914, 13.1250567 ,\n         13.12096325, 13.11794703, 13.11794703, 13.11512145]),\n  array([13.09374317, 13.09183207, 13.08978448, 13.0882829 , 13.08678133,\n         13.08473373, 13.08268613, 13.07940998, 13.07586081, 13.07299417,\n         13.07053705, 13.06917198, 13.06726089, 13.0653498 , 13.06261967,\n         13.06261967, 13.06083678]),\n  array([13.02361672, 13.02357122, 13.02355172, 13.02350297, 13.02345096,\n         13.02337946, 13.02332746, 13.02327221, 13.02322346, 13.02317795,\n         13.02305445, 13.0229472 , 13.02280094, 13.02262543, 13.02249218,\n         13.02234267, 13.02223217, 13.02217042, 13.02207291, 13.02201766,\n         13.02197541, 13.02192666, 13.02188116, 13.0218389 , 13.02179015,\n         13.02179015, 13.02174783]),\n  array([13.02394097, 13.02424488, 13.02443828, 13.02481127, 13.02503229,\n         13.02503229, 13.02521223]),\n  array([13.02729278, 13.02733358, 13.0274089 , 13.02742773, 13.02745284,\n         13.02751247, 13.02755954, 13.02760662, 13.02769136, 13.02775099,\n         13.02784828, 13.02797696, 13.02819038, 13.02853247, 13.02884945,\n         13.02907229, 13.02921979, 13.02929826, 13.02935161, 13.02937986,\n         13.02937986, 13.02942075]),\n  array([13.02584945, 13.02516368, 13.02459221, 13.02371594, 13.02348735,\n         13.02348735, 13.0229912 ]),\n  array([13.0042109 , 13.00247306, 13.00175748, 12.99991742, 12.99725954,\n         12.99582838, 12.99409054, 12.99409054, 12.99276235]),\n  array([12.79900194, 12.7943458 , 12.79112231, 12.786108  , 12.78252635,\n         12.77715387, 12.77536304, 12.77142323, 12.76605075, 12.75745478,\n         12.74814249, 12.73990469, 12.73202506, 12.7212801 , 12.71268414,\n         12.70766983, 12.70301368, 12.69728304, 12.69477588, 12.69191056,\n         12.68725441, 12.68295643, 12.67830029, 12.67364414, 12.66970432,\n         12.66970432, 12.6651681 ]),\n  array([12.01329255, 12.00419452, 11.99649618, 11.98109952, 11.97340118,\n         11.97340118, 11.96502748]),\n  array([11.66811593, 11.66146061, 11.65480528, 11.64349123, 11.62884951,\n         11.62086312, 11.60888354, 11.60888354, 11.60116259]),\n  array([11.57602832, 11.57124198, 11.56098553, 11.54115641, 11.53363502,\n         11.53363502, 11.52575413]),\n  array([11.25956981, 11.25140783, 11.24176185, 11.22617988, 11.2187599 ,\n         11.2187599 , 11.21044177]),\n  array([11.09737449, 11.08887184, 11.08462052, 11.06931575, 11.05911257,\n         11.05911257, 11.04971738]),\n  array([10.93313354, 10.92528617, 10.91562787, 10.90838415, 10.90053678,\n         10.88665298, 10.87759832, 10.86975095, 10.86431816, 10.86431816,\n         10.85776394]),\n  array([10.72075513, 10.71344789, 10.70614065, 10.69883342, 10.69040199,\n         10.6780359 , 10.67353914, 10.66510771, 10.65836257, 10.65836257,\n         10.65237492]),\n  array([10.53063806, 10.52527538, 10.51276247, 10.51276247, 10.50650214]),\n  array([10.4486258 , 10.44266242, 10.43908439, 10.43431368, 10.42994054,\n         10.4235796 , 10.41721866, 10.40807481, 10.40250899, 10.3965456 ,\n         10.39058222, 10.38461884, 10.37786034, 10.37786034, 10.37373618]),\n  array([10.31994757, 10.31517462, 10.30909995, 10.29912014, 10.29695061,\n         10.29695061, 10.29248465]),\n  array([10.08647001, 10.0858991 , 10.08475728, 10.08386013, 10.08320766,\n         10.08263675, 10.08100558, 10.08027155, 10.07945596, 10.07749855,\n         10.07611206, 10.07448088, 10.07293126, 10.07023983, 10.06738527,\n         10.0639598 , 10.06028966, 10.05678264, 10.05335717, 10.05107353,\n         10.04878988, 10.04772962, 10.04618   , 10.04503818, 10.04414103,\n         10.04291765, 10.0414496 , 10.04014466, 10.03892127, 10.03761634,\n         10.03663763, 10.03663763, 10.03581912]),\n  array([10.02348932, 10.02327689, 10.02316508, 10.02293029, 10.0228073 ,\n         10.0228073 , 10.02269524]),\n  array([10.02346526, 10.02428918, 10.02473283, 10.02530324, 10.0263173 ,\n         10.0268877 , 10.02790176, 10.02847217, 10.02910596, 10.03018339,\n         10.03113407, 10.03221151, 10.03322557, 10.03430301, 10.03512693,\n         10.03645788, 10.03715505, 10.03772545, 10.03899303, 10.03956344,\n         10.04038736, 10.04121128, 10.0420352 , 10.04273237, 10.04355629,\n         10.04425346, 10.04526751, 10.0459013 , 10.04685198, 10.04685198,\n         10.04748878]),\n  array([10.12628585, 10.12848144, 10.1314089 , 10.13580008, 10.13848358,\n         10.14263081, 10.14750991, 10.15116923, 10.15385273, 10.1572681 ,\n         10.1599516 , 10.1599516 , 10.16243077]),\n  array([10.24685569, 10.24963595, 10.25297226, 10.25547449, 10.25797672,\n         10.26020093, 10.26520539, 10.26909775, 10.27076591, 10.2760484 ,\n         10.28438917, 10.29245191, 10.30385097, 10.31302582, 10.32108857,\n         10.32859526, 10.33304367, 10.3344338 , 10.33804814, 10.34138445,\n         10.34499878, 10.34972522, 10.35333955, 10.35333955, 10.35621885]),\n  array([10.59344486, 10.59894798, 10.60287877, 10.60759573, 10.61349192,\n         10.61899504, 10.62764279, 10.63432515, 10.64061442, 10.65279989,\n         10.66773692, 10.68188779, 10.69564557, 10.71215492, 10.72276807,\n         10.73141582, 10.73849126, 10.74163589, 10.74713901, 10.75106981,\n         10.75657292, 10.76168296, 10.76443451, 10.76875839, 10.77268919,\n         10.77268919, 10.77692538]),\n  array([10.98613319, 10.99405828, 11.00126291, 11.00990847, 11.01783357,\n         11.03008144, 11.0444907 , 11.05457719, 11.06250228, 11.07330923,\n         11.08339571, 11.08339571, 11.09138665]),\n  array([11.25958419, 11.26654177, 11.28741451, 11.28741451, 11.29864468]),\n  array([12.4262826 , 12.4322201 , 12.43869738, 12.44301557, 12.45057239,\n         12.45650989, 12.46622581, 12.47864059, 12.48889628, 12.49537356,\n         12.50347015, 12.50994743, 12.51804403, 12.51804403, 12.52480458]),\n  array([12.61433532, 12.6120038 , 12.60833999, 12.6030108 , 12.59968006,\n         12.59335166, 12.58669018, 12.58202714, 12.57936255, 12.57503258,\n         12.57270106, 12.57270106, 12.56851482]),\n  array([11.166017  , 11.12465761, 11.08789371, 11.04959797, 11.00977041,\n         10.98066566, 10.9255198 , 10.87956493, 10.84892834, 10.80144163,\n         10.75089127, 10.75089127, 10.73444793])],\n 'xs_bl_in_reg': array([  22.,   23.,   24., ..., 4010., 4011., 4012.]),\n 'ys_bl_in_reg': array([ 0,  1,  8, ..., 33, 28, 29]),\n 'xs_bl_out_reg': array([0.000e+00, 1.000e+00, 2.000e+00, ..., 4.093e+03, 4.094e+03,\n        4.095e+03]),\n 'ys_bl_out_reg': array([272, 272, 272, ...,   8,   2,   4]),\n 'ws_bl_out_reg': array([0.06063391, 0.06063391, 0.06063391, ..., 0.35355339, 1.        ,\n        0.5       ]),\n 'pk_parms': <peaksparms_class.PeaksParms at 0x1897fe5a2e0>,\n 'fft_spec': array([], dtype=float64),\n 'k_erf': 0.9999975184539827,\n 'widths_range': (1.025114379084897, 8.543013055895585),\n 'widths_pair': (1.025114379084897, 8.543013055895585)}"
     },
     "execution_count": 37,
     "metadata": {},
     "output_type": "execute_result"
    }
   ],
   "source": [
    "origin_spec_ser_an = a_spec.origin_spec_ser_an\n",
    "vars(origin_spec_ser_an)"
   ],
   "metadata": {
    "collapsed": false,
    "ExecuteTime": {
     "end_time": "2023-05-16T17:45:32.238721100Z",
     "start_time": "2023-05-16T17:45:32.195516Z"
    }
   }
  },
  {
   "cell_type": "code",
   "execution_count": 38,
   "outputs": [],
   "source": [
    "fig2_a = go.Figure(fig2)\n",
    "fig2_a.add_trace()"
   ],
   "metadata": {
    "collapsed": false,
    "ExecuteTime": {
     "end_time": "2023-05-16T17:47:09.096509200Z",
     "start_time": "2023-05-16T17:47:09.061601900Z"
    }
   }
  },
  {
   "cell_type": "code",
   "execution_count": null,
   "outputs": [],
   "source": [
    "# Agora, o grande loop para comparar o espectro escolhido\n",
    "# com todos os outros:"
   ],
   "metadata": {
    "collapsed": false
   }
  },
  {
   "cell_type": "code",
   "execution_count": null,
   "id": "c2380946",
   "metadata": {},
   "outputs": [],
   "source": [
    "# Fazendo correlação entre cada espectro da pasta com um bem formado entre eles.\n",
    "# Método 1: correlação direta"
   ]
  },
  {
   "cell_type": "code",
   "execution_count": null,
   "id": "2e054650",
   "metadata": {},
   "outputs": [],
   "source": []
  },
  {
   "cell_type": "code",
   "execution_count": null,
   "id": "95db599c",
   "metadata": {},
   "outputs": [],
   "source": [
    "t = time.time()\n",
    "lista_mix = []\n",
    "i_n = 0\n",
    "for i_sp, j_sp in zip(fil_lst, reduc_nms):\n",
    "    a_spec = Spec(i_sp, j_sp)\n",
    "    strt = a_spec.start_datetime\n",
    "    y_s = a_spec.origin_spec_ser_an.y_s\n",
    "    # convo = sci.signal.correlate(y_s,y_s)\n",
    "    # convo = sci.signal.convolve(counts, counts)\n",
    "    # convo = sci.signal.fftconvolve(y_s, y_s)\n",
    "    # convo = sci.signal.fftconvolve(y_s, np.roll(y_s,1500))\n",
    "    # shifted_y_s = np.roll(y_s,1319)\n",
    "    convo = sci.signal.correlate(y_s, y0_s)\n",
    "    max_arg = np.argmax(abs(convo))\n",
    "    drift = y_s.size-max_arg-1\n",
    "    cts_tot = np.sum(y_s)\n",
    "    pks, _ = sci.signal.find_peaks(y_s, prominence=promin)\n",
    "    n_pks = pks.size\n",
    "    indir_sort = np.argsort(y_s[pks])[-13:]\n",
    "    tall_pks = pks[indir_sort]\n",
    "    # =  np.array(pks[indir_sort])\n",
    "    print(f'{i_n}: {j_sp}: {max_arg} ->  {drift}  n_pks: {n_pks}  Tot: {cts_tot}  Start {strt}.')\n",
    "    for rank, pk in enumerate(tall_pks):\n",
    "        lista_mix.append([i_n, j_sp, max_arg, drift, n_pks, pk, rank, cts_tot, strt])\n",
    "    i_n += 1\n",
    "    # af = sci.fft.fft(y_s)\n",
    "    # bf = sci.fft.fft(shifted_y_s)\n",
    "    # c = sci.fft.ifft(af * np.conj(bf))\n",
    "    # time_shift = np.argmax(abs(c))\n",
    "elapsd = time.time() - t\n",
    "elapsd\n",
    "\n"
   ]
  },
  {
   "cell_type": "code",
   "execution_count": null,
   "outputs": [],
   "source": [
    "lista_mix"
   ],
   "metadata": {
    "collapsed": false
   }
  },
  {
   "cell_type": "code",
   "execution_count": null,
   "id": "6e7a8562",
   "metadata": {},
   "outputs": [],
   "source": []
  },
  {
   "cell_type": "code",
   "execution_count": null,
   "id": "2b6954ac",
   "metadata": {},
   "outputs": [],
   "source": [
    "dataf_mix = pd.DataFrame(lista_mix,\n",
    "                         columns=['i_n', 'j_sp', 'max_arg', 'drift', 'n_pks', 'pk',\n",
    "                                  'rank', 'cts_tot', 'strt'])\n",
    "dataf_mix"
   ]
  },
  {
   "cell_type": "code",
   "execution_count": null,
   "id": "5d160a43",
   "metadata": {},
   "outputs": [],
   "source": []
  },
  {
   "cell_type": "code",
   "execution_count": null,
   "id": "f5f46cda",
   "metadata": {},
   "outputs": [],
   "source": [
    "# Plotar picos predominantes"
   ]
  },
  {
   "cell_type": "code",
   "execution_count": null,
   "id": "63fc52de",
   "metadata": {},
   "outputs": [],
   "source": [
    "spec_by_date = dataf_mix.sort_values(by='strt')\n",
    "spec_by_date"
   ]
  },
  {
   "cell_type": "code",
   "execution_count": null,
   "id": "60f44d94",
   "metadata": {},
   "outputs": [],
   "source": [
    "# df = px.data.gapminder().query(\"continent=='Oceania'\")\n",
    "fig = px.line(spec_by_date, x=\"strt\", y=([\"tall_1, tall_2\"]))\n",
    "# , color='country')\n",
    "fig.show()"
   ]
  },
  {
   "cell_type": "code",
   "execution_count": null,
   "id": "6c66efb5",
   "metadata": {},
   "outputs": [],
   "source": [
    "fir=lista_mix[5][:]\n",
    "sec=[i[5][-2] for i in lista_mix]\n",
    "thr=[i[5][-3] for i in lista_mix]\n",
    "fot=[i[5][-4] for i in lista_mix]\n",
    "fif=[i[5][-5] for i in lista_mix]\n",
    "fig3 = go.Figure(data=go.Scattergl(\n",
    "    x=[i[7] for i in lista_mix],\n",
    "    y=[fir, sec, thr, fot, fif],\n",
    "    mode='lines+markers'\n",
    "))\n",
    "fig3.write_html('fig3.html', auto_open=True)"
   ]
  },
  {
   "cell_type": "code",
   "execution_count": null,
   "id": "fa22f5f9",
   "metadata": {},
   "outputs": [],
   "source": []
  },
  {
   "cell_type": "code",
   "execution_count": null,
   "id": "aac46768",
   "metadata": {},
   "outputs": [],
   "source": [
    "df = px.data.gapminder().query(\"continent=='Oceania'\")\n",
    "fig = px.line(df, x=\"year\", y=\"lifeExp\", color='country')\n",
    "fig.show()"
   ]
  },
  {
   "cell_type": "code",
   "execution_count": null,
   "id": "49bcbad7",
   "metadata": {},
   "outputs": [],
   "source": [
    "df"
   ]
  },
  {
   "cell_type": "code",
   "execution_count": null,
   "id": "0e724b3b",
   "metadata": {},
   "outputs": [],
   "source": []
  },
  {
   "cell_type": "code",
   "execution_count": null,
   "id": "031d3136",
   "metadata": {},
   "outputs": [],
   "source": [
    "teste = np.array([1, 5, 2, 18])"
   ]
  },
  {
   "cell_type": "code",
   "execution_count": null,
   "id": "61051735",
   "metadata": {},
   "outputs": [],
   "source": [
    "teste"
   ]
  },
  {
   "cell_type": "code",
   "execution_count": null,
   "id": "9d9afcf0",
   "metadata": {},
   "outputs": [],
   "source": []
  },
  {
   "cell_type": "code",
   "execution_count": null,
   "id": "bb9223ea",
   "metadata": {},
   "outputs": [],
   "source": [
    "# num=21 dá percentis 0%, 5%, 10%, ... 100%\n",
    "percentis = np.percentile(drifts, np.linspace(0, 100, num=21))\n",
    "percentis"
   ]
  },
  {
   "cell_type": "code",
   "execution_count": null,
   "id": "b72b5861",
   "metadata": {},
   "outputs": [],
   "source": []
  },
  {
   "cell_type": "code",
   "execution_count": null,
   "id": "0070390a",
   "metadata": {},
   "outputs": [],
   "source": [
    "# Soma de 1 ano de espectros da piscina."
   ]
  },
  {
   "cell_type": "code",
   "execution_count": null,
   "id": "940d1e13",
   "metadata": {},
   "outputs": [],
   "source": [
    "i_n = 0\n",
    "i_m = 0\n",
    "ys_tot = np.zeros(y0_s.size)\n",
    "for i_sp, j_sp in zip(fil_lst, reduc_nms):\n",
    "    a_spec = Spec(i_sp, j_sp)\n",
    "    ori_ser = a_spec.origin_spec_ser_an\n",
    "    y_s = ori_ser.y_s\n",
    "    convo = sci.signal.correlate(y_s, y0_s)\n",
    "    max_arg = np.argmax(abs(convo))\n",
    "    drift = y_s.size-max_arg-1\n",
    "    cts_tot = np.sum(y_s)\n",
    "    pks, _ = sci.signal.find_peaks(y_s, prominence=promin)\n",
    "    n_pks = pks.size\n",
    "    print(f'{i_n}: {j_sp}: {max_arg} ->  {drift}  n_pks: {n_pks}  Tot: {cts_tot}.')\n",
    "    if abs(drift) < 60:\n",
    "        ys_tot += np.roll(y_s, -drift)\n",
    "        # ys_tot += y_s\n",
    "        i_m += 1\n",
    "    i_n += 1\n",
    "    # af = sci.fft.fft(y_s)\n",
    "    # bf = sci.fft.fft(shifted_y_s)\n",
    "    # c = sci.fft.ifft(af * np.conj(bf))\n",
    "    # time_shift = np.argmax(abs(c))"
   ]
  },
  {
   "cell_type": "code",
   "execution_count": null,
   "id": "89fe5c30",
   "metadata": {},
   "outputs": [],
   "source": [
    "i_m"
   ]
  },
  {
   "cell_type": "code",
   "execution_count": null,
   "id": "916174a9",
   "metadata": {},
   "outputs": [],
   "source": [
    "fig2 = go.Figure(data=go.Scattergl(\n",
    "    x=x_nz,\n",
    "    y=y_nz,\n",
    "    mode='markers'\n",
    "))\n"
   ]
  },
  {
   "cell_type": "code",
   "execution_count": null,
   "id": "ace8e20c",
   "metadata": {},
   "outputs": [],
   "source": [
    "fig2.add_trace(\n",
    "    go.Scattergl(x=x0_s,\n",
    "                 y=ys_tot,\n",
    "                 error_y=dict(\n",
    "                     color='orange',width=3.0,\n",
    "                     type='data', # value of error bar given in data coordinates\n",
    "                     array=unc_y,\n",
    "                     visible=True),\n",
    "                 name=\"Counts & uncertaintes\",\n",
    "                 line=dict(color='orange',width=0.3)));"
   ]
  },
  {
   "cell_type": "code",
   "execution_count": null,
   "id": "250536e5",
   "metadata": {},
   "outputs": [],
   "source": [
    "fig2.add_trace(\n",
    "    go.Scattergl(x=pks,\n",
    "                 y=y0_s[pks],\n",
    "                 mode=\"markers\",\n",
    "                 name=\"peaks\",\n",
    "                 marker=dict(color='cyan',\n",
    "                             symbol='circle',\n",
    "                             size=15,\n",
    "                             opacity=0.4,\n",
    "                             line=dict(color='green', width=2.0)\n",
    "                            )\n",
    "                ));"
   ]
  },
  {
   "cell_type": "code",
   "execution_count": null,
   "id": "8a098c9b",
   "metadata": {},
   "outputs": [],
   "source": [
    "# Set title and scale type    width=1800,\n",
    "\n",
    "fig2.update_layout(\n",
    "    title_text=\"Gamma-ray spectrum excerpt\",\n",
    "    height=900,\n",
    "    margin=dict(l=10, r=10, t=30, b=10),\n",
    "    paper_bgcolor=\"LightSteelBlue\"\n",
    ")\n",
    "fig2.update_yaxes(type=\"log\");\n",
    "fig2.write_html('fig2.html', auto_open=True)\n"
   ]
  },
  {
   "cell_type": "code",
   "execution_count": null,
   "id": "bacea814",
   "metadata": {},
   "outputs": [],
   "source": []
  },
  {
   "cell_type": "code",
   "execution_count": null,
   "id": "c1a50feb",
   "metadata": {},
   "outputs": [],
   "source": [
    "# Das Ende"
   ]
  }
 ],
 "metadata": {
  "kernelspec": {
   "display_name": "Python 3 (ipykernel)",
   "language": "python",
   "name": "python3"
  },
  "language_info": {
   "codemirror_mode": {
    "name": "ipython",
    "version": 3
   },
   "file_extension": ".py",
   "mimetype": "text/x-python",
   "name": "python",
   "nbconvert_exporter": "python",
   "pygments_lexer": "ipython3",
   "version": "3.11.2"
  }
 },
 "nbformat": 4,
 "nbformat_minor": 5
}
