{
 "metadata": {
  "kernelspec": {
   "display_name": "Python 3 (ipykernel)",
   "language": "python",
   "name": "python3"
  },
  "language_info": {
   "codemirror_mode": {
    "name": "ipython",
    "version": 3
   },
   "file_extension": ".py",
   "mimetype": "text/x-python",
   "name": "python",
   "nbconvert_exporter": "python",
   "pygments_lexer": "ipython3",
   "version": "3.10.11"
  }
 },
 "nbformat_minor": 4,
 "nbformat": 4,
 "cells": [
  {
   "cell_type": "code",
   "source": [
    "\n",
    "# 2022-out-7: Excelente espectro para testes, tenho usado ultimamente:\n",
    "# a_pattern = 'Si/SI2018/SI11318.Chn'\n",
    "# 2022-nov-16: outros espectros:\n",
    "# a_pattern = \"Filtros/2022/Cci/CCI1603-I.Chn\"\n",
    "# a_pattern = \"Filtros/2022/Cci/CCI2302-I.Chn\"\n",
    "\n",
    "# a_pattern = \"Eso_non_existe.Chn\"\n",
    "\n",
    "# 2022-Dez-21 Buscando outro espectro\n",
    "# a_pattern = 'CCI1603-I'\n",
    "# 2022-Dez-28 Este é um espectro mais recente:\n",
    "# a_pattern = 'SI09722.Chn'\n",
    "# 2022-Dez-28 Este é um espectro mais recente que posso comparar com saída do Genie:\n",
    "# a_pattern = 'SI06322.Chn'\n",
    "# a_pattern = 'SI06122.Chn'"
   ],
   "metadata": {
    "tags": [],
    "trusted": true,
    "ExecuteTime": {
     "end_time": "2023-10-24T18:38:52.750168906Z",
     "start_time": "2023-10-24T18:38:52.749890069Z"
    }
   },
   "execution_count": 1,
   "outputs": []
  },
  {
   "cell_type": "code",
   "source": [
    "import numpy as np\n",
    "from numpy.polynomial import Polynomial as P  # 2020-09-06 Esta é a nova classe recomendada\n",
    "from sklearn import linear_model\n",
    "\n",
    "import pandas as pd\n",
    "from random import randrange\n",
    "# import plotly.graph_objects as go"
   ],
   "metadata": {
    "tags": [],
    "collapsed": false,
    "trusted": true,
    "ExecuteTime": {
     "end_time": "2023-10-24T18:38:53.903195887Z",
     "start_time": "2023-10-24T18:38:52.750098010Z"
    }
   },
   "execution_count": 2,
   "outputs": []
  },
  {
   "cell_type": "code",
   "source": [
    "from ograyspy_class import Ograyspy, select_spectrum_from_folder_list\n",
    "from spec_class import Spec"
   ],
   "metadata": {
    "tags": [],
    "trusted": true,
    "ExecuteTime": {
     "end_time": "2023-10-24T18:38:53.985511910Z",
     "start_time": "2023-10-24T18:38:53.905088955Z"
    }
   },
   "execution_count": 3,
   "outputs": []
  },
  {
   "cell_type": "code",
   "source": [
    "ogra = Ograyspy()\n",
    "print(ogra.info_node)\n",
    "to_be_found = 'Genie_Transfer'\n",
    "# to_be_found = 'some_spectra' # NAO ESTAH ACHANDO localmente no note!"
   ],
   "metadata": {
    "tags": [],
    "collapsed": false,
    "trusted": true,
    "ExecuteTime": {
     "end_time": "2023-10-24T18:38:54.524634453Z",
     "start_time": "2023-10-24T18:38:53.941048928Z"
    }
   },
   "execution_count": 4,
   "outputs": [
    {
     "name": "stdout",
     "output_type": "stream",
     "text": [
      "Found folder name:  /home/marcelofm/snap\n",
      "Parts:  ('/', 'home', 'marcelofm', 'snap')\n",
      "No. spec files:  0\n",
      "marcelofm-X540LA\n"
     ]
    }
   ]
  },
  {
   "cell_type": "code",
   "source": [
    "print('\\nExec ogra.define_files_folder(to_be_found):')\n",
    "ogra.define_files_folder(to_be_found)\n",
    "print(ogra.pkl_folder_files)\n",
    "spectra_list_df = pd.read_pickle(ogra.pkl_folder_files)\n",
    "del ogra"
   ],
   "metadata": {
    "tags": [],
    "trusted": true,
    "ExecuteTime": {
     "end_time": "2023-10-24T18:38:54.827120389Z",
     "start_time": "2023-10-24T18:38:54.528789423Z"
    }
   },
   "execution_count": 5,
   "outputs": [
    {
     "name": "stdout",
     "output_type": "stream",
     "text": [
      "\n",
      "Exec ogra.define_files_folder(to_be_found):\n",
      "Found folder name:  /home/marcelofm/Nextcloud/Genie_Transfer\n",
      "Parts:  ('/', 'home', 'marcelofm', 'Nextcloud', 'Genie_Transfer')\n",
      "No. spec files:  7292\n",
      "Linuxmarcelofm-X540LA.pkl\n"
     ]
    }
   ]
  },
  {
   "cell_type": "code",
   "source": [
    "reduc_nms = spectra_list_df.reduced_names_files_list[0]\n",
    "fil_lst = spectra_list_df.files_list[0]\n",
    "spc_pth = spectra_list_df.spectra_path[0]"
   ],
   "metadata": {
    "tags": [],
    "trusted": true,
    "ExecuteTime": {
     "end_time": "2023-10-24T18:38:54.856956682Z",
     "start_time": "2023-10-24T18:38:54.826961330Z"
    }
   },
   "execution_count": 6,
   "outputs": []
  },
  {
   "cell_type": "code",
   "source": [
    "len(reduc_nms)"
   ],
   "metadata": {
    "tags": [],
    "collapsed": false,
    "trusted": true,
    "ExecuteTime": {
     "end_time": "2023-10-24T18:38:54.922063317Z",
     "start_time": "2023-10-24T18:38:54.835426846Z"
    }
   },
   "execution_count": 7,
   "outputs": [
    {
     "data": {
      "text/plain": "7292"
     },
     "execution_count": 7,
     "metadata": {},
     "output_type": "execute_result"
    }
   ]
  },
  {
   "cell_type": "code",
   "source": [
    "# 2022-Dez-28 Esse é um espectro mais recente que posso comparar com saída do Genie:\n",
    "a_pattern = 'SI06122.Chn'"
   ],
   "metadata": {
    "tags": [],
    "collapsed": false,
    "trusted": true,
    "ExecuteTime": {
     "end_time": "2023-10-24T18:38:55.032576937Z",
     "start_time": "2023-10-24T18:38:54.961826559Z"
    }
   },
   "execution_count": 8,
   "outputs": []
  },
  {
   "cell_type": "code",
   "source": [
    "f_name, reduced_f_name = select_spectrum_from_folder_list(reduc_nms, fil_lst, spc_pth, a_pattern)\n",
    "f_name, reduced_f_name"
   ],
   "metadata": {
    "tags": [],
    "trusted": true,
    "ExecuteTime": {
     "end_time": "2023-10-24T18:38:55.082983896Z",
     "start_time": "2023-10-24T18:38:55.005825678Z"
    }
   },
   "execution_count": 9,
   "outputs": [
    {
     "name": "stdout",
     "output_type": "stream",
     "text": [
      "Existing:\n",
      "Achou! indice=904, nomearq = Si/SI2022/SI06122.Chn\n",
      "==========================\n",
      "Final choices:\n",
      "spectra_path: /home/marcelofm/Nextcloud/Genie_Transfer\n",
      "a_spec_name: /home/marcelofm/Nextcloud/Genie_Transfer/Si/SI2022/SI06122.Chn\n",
      "reduced_f_name: Si/SI2022/SI06122.Chn\n"
     ]
    },
    {
     "data": {
      "text/plain": "(PosixPath('/home/marcelofm/Nextcloud/Genie_Transfer/Si/SI2022/SI06122.Chn'),\n 'Si/SI2022/SI06122.Chn')"
     },
     "execution_count": 9,
     "metadata": {},
     "output_type": "execute_result"
    }
   ]
  },
  {
   "cell_type": "code",
   "source": [],
   "metadata": {
    "collapsed": false,
    "ExecuteTime": {
     "end_time": "2023-10-24T18:38:55.182713621Z",
     "start_time": "2023-10-24T18:38:55.077293246Z"
    }
   },
   "execution_count": 9,
   "outputs": []
  },
  {
   "cell_type": "code",
   "source": [
    "nucl_iear1_df = pd.read_pickle('nucl_iear1_list.pkl')\n",
    "nucl_iear1_df"
   ],
   "metadata": {
    "tags": [],
    "collapsed": false,
    "trusted": true,
    "ExecuteTime": {
     "end_time": "2023-10-24T18:38:55.285907018Z",
     "start_time": "2023-10-24T18:38:55.117889012Z"
    }
   },
   "execution_count": 10,
   "outputs": [
    {
     "data": {
      "text/plain": "     nuclide_name     energy  unc_en  intensity  unc_i  half_life  decay  \\\n1            24na  1368.6250   0.005     99.994  0.002     14.956     B-   \n2            24na  2754.0080   0.011     99.867   0.01     14.956     B-   \n9            51cr   320.0824  0.0004      9.910   0.01     27.704     EC   \n15           54mn   834.8480   0.003     99.976  0.001    312.200  EC+B+   \n22           58co   810.7593   0.002     99.450   0.01     70.860  EC+B+   \n...           ...        ...     ...        ...    ...        ...    ...   \n1066        228Ac    89.9540              2.010   0.19      6.150     B-   \n1067        228Ac    93.3470              3.200    0.3      6.150     B-   \n1068        228Ac   105.5660              1.160   0.11      6.150     B-   \n1069        228Ac   106.8940              1.540   0.15      6.150     B-   \n1070        228Ac   108.5800              0.390   0.04      6.150     B-   \n\n      decay_%  key_gamma is_key_gamma  \n1       100.0     1368.6         True  \n2       100.0     1368.6        False  \n9       100.0      320.1         True  \n15      100.0      834.8         True  \n22      100.0      810.8         True  \n...       ...        ...          ...  \n1066    100.0      911.6        False  \n1067    100.0      911.6        False  \n1068    100.0      911.6        False  \n1069    100.0      911.6        False  \n1070    100.0      911.6        False  \n\n[235 rows x 10 columns]",
      "text/html": "<div>\n<style scoped>\n    .dataframe tbody tr th:only-of-type {\n        vertical-align: middle;\n    }\n\n    .dataframe tbody tr th {\n        vertical-align: top;\n    }\n\n    .dataframe thead th {\n        text-align: right;\n    }\n</style>\n<table border=\"1\" class=\"dataframe\">\n  <thead>\n    <tr style=\"text-align: right;\">\n      <th></th>\n      <th>nuclide_name</th>\n      <th>energy</th>\n      <th>unc_en</th>\n      <th>intensity</th>\n      <th>unc_i</th>\n      <th>half_life</th>\n      <th>decay</th>\n      <th>decay_%</th>\n      <th>key_gamma</th>\n      <th>is_key_gamma</th>\n    </tr>\n  </thead>\n  <tbody>\n    <tr>\n      <th>1</th>\n      <td>24na</td>\n      <td>1368.6250</td>\n      <td>0.005</td>\n      <td>99.994</td>\n      <td>0.002</td>\n      <td>14.956</td>\n      <td>B-</td>\n      <td>100.0</td>\n      <td>1368.6</td>\n      <td>True</td>\n    </tr>\n    <tr>\n      <th>2</th>\n      <td>24na</td>\n      <td>2754.0080</td>\n      <td>0.011</td>\n      <td>99.867</td>\n      <td>0.01</td>\n      <td>14.956</td>\n      <td>B-</td>\n      <td>100.0</td>\n      <td>1368.6</td>\n      <td>False</td>\n    </tr>\n    <tr>\n      <th>9</th>\n      <td>51cr</td>\n      <td>320.0824</td>\n      <td>0.0004</td>\n      <td>9.910</td>\n      <td>0.01</td>\n      <td>27.704</td>\n      <td>EC</td>\n      <td>100.0</td>\n      <td>320.1</td>\n      <td>True</td>\n    </tr>\n    <tr>\n      <th>15</th>\n      <td>54mn</td>\n      <td>834.8480</td>\n      <td>0.003</td>\n      <td>99.976</td>\n      <td>0.001</td>\n      <td>312.200</td>\n      <td>EC+B+</td>\n      <td>100.0</td>\n      <td>834.8</td>\n      <td>True</td>\n    </tr>\n    <tr>\n      <th>22</th>\n      <td>58co</td>\n      <td>810.7593</td>\n      <td>0.002</td>\n      <td>99.450</td>\n      <td>0.01</td>\n      <td>70.860</td>\n      <td>EC+B+</td>\n      <td>100.0</td>\n      <td>810.8</td>\n      <td>True</td>\n    </tr>\n    <tr>\n      <th>...</th>\n      <td>...</td>\n      <td>...</td>\n      <td>...</td>\n      <td>...</td>\n      <td>...</td>\n      <td>...</td>\n      <td>...</td>\n      <td>...</td>\n      <td>...</td>\n      <td>...</td>\n    </tr>\n    <tr>\n      <th>1066</th>\n      <td>228Ac</td>\n      <td>89.9540</td>\n      <td></td>\n      <td>2.010</td>\n      <td>0.19</td>\n      <td>6.150</td>\n      <td>B-</td>\n      <td>100.0</td>\n      <td>911.6</td>\n      <td>False</td>\n    </tr>\n    <tr>\n      <th>1067</th>\n      <td>228Ac</td>\n      <td>93.3470</td>\n      <td></td>\n      <td>3.200</td>\n      <td>0.3</td>\n      <td>6.150</td>\n      <td>B-</td>\n      <td>100.0</td>\n      <td>911.6</td>\n      <td>False</td>\n    </tr>\n    <tr>\n      <th>1068</th>\n      <td>228Ac</td>\n      <td>105.5660</td>\n      <td></td>\n      <td>1.160</td>\n      <td>0.11</td>\n      <td>6.150</td>\n      <td>B-</td>\n      <td>100.0</td>\n      <td>911.6</td>\n      <td>False</td>\n    </tr>\n    <tr>\n      <th>1069</th>\n      <td>228Ac</td>\n      <td>106.8940</td>\n      <td></td>\n      <td>1.540</td>\n      <td>0.15</td>\n      <td>6.150</td>\n      <td>B-</td>\n      <td>100.0</td>\n      <td>911.6</td>\n      <td>False</td>\n    </tr>\n    <tr>\n      <th>1070</th>\n      <td>228Ac</td>\n      <td>108.5800</td>\n      <td></td>\n      <td>0.390</td>\n      <td>0.04</td>\n      <td>6.150</td>\n      <td>B-</td>\n      <td>100.0</td>\n      <td>911.6</td>\n      <td>False</td>\n    </tr>\n  </tbody>\n</table>\n<p>235 rows × 10 columns</p>\n</div>"
     },
     "execution_count": 10,
     "metadata": {},
     "output_type": "execute_result"
    }
   ]
  },
  {
   "cell_type": "code",
   "source": [
    "# 2023-Jun-15: Setting gamma lines/ranges to dismiss in the analysis\n",
    "df1 = nucl_iear1_df\n",
    "df1[\"is_to_consider\"] = True\n",
    "df1.loc[((df1.energy > 509) & (df1.energy < 513)) | (df1.energy < 100), \"is_to_consider\"] = False\n",
    "# Convert these columns from object to numeric; empty strings turns into NaNs\n",
    "df1[\"unc_i\"] = pd.to_numeric(df1.unc_i, errors=\"coerce\")\n",
    "df1[\"unc_en\"] = pd.to_numeric(df1.unc_en, errors=\"coerce\")\n",
    "del df1\n",
    "nucl_iear1_df"
   ],
   "metadata": {
    "tags": [],
    "collapsed": false,
    "trusted": true,
    "ExecuteTime": {
     "end_time": "2023-10-24T18:38:55.482555942Z",
     "start_time": "2023-10-24T18:38:55.226494519Z"
    }
   },
   "execution_count": 11,
   "outputs": [
    {
     "data": {
      "text/plain": "     nuclide_name     energy  unc_en  intensity  unc_i  half_life  decay  \\\n1            24na  1368.6250  0.0050     99.994  0.002     14.956     B-   \n2            24na  2754.0080  0.0110     99.867  0.010     14.956     B-   \n9            51cr   320.0824  0.0004      9.910  0.010     27.704     EC   \n15           54mn   834.8480  0.0030     99.976  0.001    312.200  EC+B+   \n22           58co   810.7593  0.0020     99.450  0.010     70.860  EC+B+   \n...           ...        ...     ...        ...    ...        ...    ...   \n1066        228Ac    89.9540     NaN      2.010  0.190      6.150     B-   \n1067        228Ac    93.3470     NaN      3.200  0.300      6.150     B-   \n1068        228Ac   105.5660     NaN      1.160  0.110      6.150     B-   \n1069        228Ac   106.8940     NaN      1.540  0.150      6.150     B-   \n1070        228Ac   108.5800     NaN      0.390  0.040      6.150     B-   \n\n      decay_%  key_gamma is_key_gamma  is_to_consider  \n1       100.0     1368.6         True            True  \n2       100.0     1368.6        False            True  \n9       100.0      320.1         True            True  \n15      100.0      834.8         True            True  \n22      100.0      810.8         True            True  \n...       ...        ...          ...             ...  \n1066    100.0      911.6        False           False  \n1067    100.0      911.6        False           False  \n1068    100.0      911.6        False            True  \n1069    100.0      911.6        False            True  \n1070    100.0      911.6        False            True  \n\n[235 rows x 11 columns]",
      "text/html": "<div>\n<style scoped>\n    .dataframe tbody tr th:only-of-type {\n        vertical-align: middle;\n    }\n\n    .dataframe tbody tr th {\n        vertical-align: top;\n    }\n\n    .dataframe thead th {\n        text-align: right;\n    }\n</style>\n<table border=\"1\" class=\"dataframe\">\n  <thead>\n    <tr style=\"text-align: right;\">\n      <th></th>\n      <th>nuclide_name</th>\n      <th>energy</th>\n      <th>unc_en</th>\n      <th>intensity</th>\n      <th>unc_i</th>\n      <th>half_life</th>\n      <th>decay</th>\n      <th>decay_%</th>\n      <th>key_gamma</th>\n      <th>is_key_gamma</th>\n      <th>is_to_consider</th>\n    </tr>\n  </thead>\n  <tbody>\n    <tr>\n      <th>1</th>\n      <td>24na</td>\n      <td>1368.6250</td>\n      <td>0.0050</td>\n      <td>99.994</td>\n      <td>0.002</td>\n      <td>14.956</td>\n      <td>B-</td>\n      <td>100.0</td>\n      <td>1368.6</td>\n      <td>True</td>\n      <td>True</td>\n    </tr>\n    <tr>\n      <th>2</th>\n      <td>24na</td>\n      <td>2754.0080</td>\n      <td>0.0110</td>\n      <td>99.867</td>\n      <td>0.010</td>\n      <td>14.956</td>\n      <td>B-</td>\n      <td>100.0</td>\n      <td>1368.6</td>\n      <td>False</td>\n      <td>True</td>\n    </tr>\n    <tr>\n      <th>9</th>\n      <td>51cr</td>\n      <td>320.0824</td>\n      <td>0.0004</td>\n      <td>9.910</td>\n      <td>0.010</td>\n      <td>27.704</td>\n      <td>EC</td>\n      <td>100.0</td>\n      <td>320.1</td>\n      <td>True</td>\n      <td>True</td>\n    </tr>\n    <tr>\n      <th>15</th>\n      <td>54mn</td>\n      <td>834.8480</td>\n      <td>0.0030</td>\n      <td>99.976</td>\n      <td>0.001</td>\n      <td>312.200</td>\n      <td>EC+B+</td>\n      <td>100.0</td>\n      <td>834.8</td>\n      <td>True</td>\n      <td>True</td>\n    </tr>\n    <tr>\n      <th>22</th>\n      <td>58co</td>\n      <td>810.7593</td>\n      <td>0.0020</td>\n      <td>99.450</td>\n      <td>0.010</td>\n      <td>70.860</td>\n      <td>EC+B+</td>\n      <td>100.0</td>\n      <td>810.8</td>\n      <td>True</td>\n      <td>True</td>\n    </tr>\n    <tr>\n      <th>...</th>\n      <td>...</td>\n      <td>...</td>\n      <td>...</td>\n      <td>...</td>\n      <td>...</td>\n      <td>...</td>\n      <td>...</td>\n      <td>...</td>\n      <td>...</td>\n      <td>...</td>\n      <td>...</td>\n    </tr>\n    <tr>\n      <th>1066</th>\n      <td>228Ac</td>\n      <td>89.9540</td>\n      <td>NaN</td>\n      <td>2.010</td>\n      <td>0.190</td>\n      <td>6.150</td>\n      <td>B-</td>\n      <td>100.0</td>\n      <td>911.6</td>\n      <td>False</td>\n      <td>False</td>\n    </tr>\n    <tr>\n      <th>1067</th>\n      <td>228Ac</td>\n      <td>93.3470</td>\n      <td>NaN</td>\n      <td>3.200</td>\n      <td>0.300</td>\n      <td>6.150</td>\n      <td>B-</td>\n      <td>100.0</td>\n      <td>911.6</td>\n      <td>False</td>\n      <td>False</td>\n    </tr>\n    <tr>\n      <th>1068</th>\n      <td>228Ac</td>\n      <td>105.5660</td>\n      <td>NaN</td>\n      <td>1.160</td>\n      <td>0.110</td>\n      <td>6.150</td>\n      <td>B-</td>\n      <td>100.0</td>\n      <td>911.6</td>\n      <td>False</td>\n      <td>True</td>\n    </tr>\n    <tr>\n      <th>1069</th>\n      <td>228Ac</td>\n      <td>106.8940</td>\n      <td>NaN</td>\n      <td>1.540</td>\n      <td>0.150</td>\n      <td>6.150</td>\n      <td>B-</td>\n      <td>100.0</td>\n      <td>911.6</td>\n      <td>False</td>\n      <td>True</td>\n    </tr>\n    <tr>\n      <th>1070</th>\n      <td>228Ac</td>\n      <td>108.5800</td>\n      <td>NaN</td>\n      <td>0.390</td>\n      <td>0.040</td>\n      <td>6.150</td>\n      <td>B-</td>\n      <td>100.0</td>\n      <td>911.6</td>\n      <td>False</td>\n      <td>True</td>\n    </tr>\n  </tbody>\n</table>\n<p>235 rows × 11 columns</p>\n</div>"
     },
     "execution_count": 11,
     "metadata": {},
     "output_type": "execute_result"
    }
   ]
  },
  {
   "cell_type": "code",
   "source": [
    "a_spec = Spec(f_name, reduced_f_name)"
   ],
   "metadata": {
    "tags": [],
    "trusted": true,
    "ExecuteTime": {
     "end_time": "2023-10-24T18:38:55.482862466Z",
     "start_time": "2023-10-24T18:38:55.317861115Z"
    }
   },
   "execution_count": 12,
   "outputs": []
  },
  {
   "cell_type": "code",
   "source": [
    "dir(a_spec)"
   ],
   "metadata": {
    "tags": [],
    "collapsed": false,
    "trusted": true,
    "ExecuteTime": {
     "end_time": "2023-10-24T18:38:55.757127041Z",
     "start_time": "2023-10-24T18:38:55.379820565Z"
    }
   },
   "execution_count": 13,
   "outputs": [
    {
     "data": {
      "text/plain": "['__class__',\n '__delattr__',\n '__dict__',\n '__dir__',\n '__doc__',\n '__eq__',\n '__format__',\n '__ge__',\n '__getattribute__',\n '__getstate__',\n '__gt__',\n '__hash__',\n '__init__',\n '__init_subclass__',\n '__le__',\n '__lt__',\n '__module__',\n '__ne__',\n '__new__',\n '__reduce__',\n '__reduce_ex__',\n '__repr__',\n '__setattr__',\n '__sizeof__',\n '__str__',\n '__subclasshook__',\n '__weakref__',\n 'add_engy_to_pks_df',\n 'channel_energy_calib',\n 'create_activities_df',\n 'create_matching_peaks_df',\n 'curr_h_win',\n 'det_descr',\n 'en_eff',\n 'f_name',\n 'final_composed_baseline',\n 'generate_pandas_dataframe',\n 'identify_nuclides',\n 'lv_time',\n 'net_spec_ser_an',\n 'nucl_an',\n 'origin_spec_ser_an',\n 'read_pkl_file',\n 'reduced_f_name',\n 'results_pkl_file',\n 'rl_time',\n 'sam_descr',\n 'source_datetime',\n 'spec_io',\n 'start_datetime',\n 'sufx',\n 'total_analysis']"
     },
     "execution_count": 13,
     "metadata": {},
     "output_type": "execute_result"
    }
   ]
  },
  {
   "cell_type": "code",
   "source": [
    "a_spec.total_analysis(gener_dataframe=True, results_path='../ograyspy_results')\n",
    "# A opção acima, gener_dataframe=True,  grava o pkl_file do espectro\n",
    "vars(a_spec)"
   ],
   "metadata": {
    "tags": [],
    "collapsed": false,
    "trusted": true,
    "ExecuteTime": {
     "end_time": "2023-10-24T18:38:55.759077057Z",
     "start_time": "2023-10-24T18:38:55.533872463Z"
    }
   },
   "execution_count": 14,
   "outputs": [
    {
     "name": "stdout",
     "output_type": "stream",
     "text": [
      "Starting Spec.total_analysis...\n",
      "resolve_peaks_and_regions:\n",
      "define_multiplets_regions completado. Define: self.mix_regions.\n",
      "resolve_peaks_and_regions:\n",
      "define_multiplets_regions completado. Define: self.mix_regions.\n",
      "Si/SI2022/SI06122.Chn\n",
      "Si/SI2022/SI06122_result.pkl\n",
      "results_pkl_file\n",
      "../ograyspy_results/Si/SI2022/SI06122_result.pkl\n",
      "Finish Spec.total_analysis!\n"
     ]
    },
    {
     "data": {
      "text/plain": "{'net_spec_ser_an': <generic_series_analysis_class.GenericSeriesAnalysis at 0x7fd06c7d9bd0>,\n 'final_composed_baseline': <generic_series_analysis_class.GenericSeriesAnalysis at 0x7fd06c504cd0>,\n 'f_name': PosixPath('/home/marcelofm/Nextcloud/Genie_Transfer/Si/SI2022/SI06122.Chn'),\n 'reduced_f_name': 'Si/SI2022/SI06122.Chn',\n 'sufx': '.chn',\n 'spec_io': None,\n 'lv_time': 50000.0,\n 'rl_time': 50028.96,\n 'source_datetime': None,\n 'results_pkl_file': PosixPath('../ograyspy_results/Si/SI2022/SI06122_result.pkl'),\n 'origin_spec_ser_an': <generic_series_analysis_class.GenericSeriesAnalysis at 0x7fd0b05059d0>,\n 'start_datetime': datetime.datetime(2022, 7, 27, 16, 56, 29),\n 'det_descr': 'MAQUINA_01 MCB 1 Input 1',\n 'sam_descr': 'SI-061/22 Agua da Piscina Reator IEA-R1 (GMX)',\n 'channel_energy_calib': <genericcalib_class.ChannelEnergyCalib at 0x7fd06ebf7810>,\n 'nucl_an': <nuclide_analysis_class.NuclideAnalysis at 0x7fd06d2d77d0>}"
     },
     "execution_count": 14,
     "metadata": {},
     "output_type": "execute_result"
    }
   ]
  },
  {
   "cell_type": "code",
   "execution_count": 15,
   "outputs": [],
   "source": [
    "# 2023-Oct-18 PAREI AQUI. Reformatar-deletar tudo o que segue."
   ],
   "metadata": {
    "collapsed": false,
    "ExecuteTime": {
     "end_time": "2023-10-24T18:38:55.934227343Z",
     "start_time": "2023-10-24T18:38:55.650698986Z"
    }
   }
  },
  {
   "cell_type": "code",
   "execution_count": 16,
   "outputs": [
    {
     "data": {
      "text/plain": "                                      info_plat info_mach info_syst  \\\n0  Linux-6.2.0-35-generic-x86_64-with-glibc2.37    x86_64     Linux   \n\n          info_node        home_path  \\\n0  marcelofm-X540LA  /home/marcelofm   \n\n                               spectra_path  n_files  a_spec_ind a_spec_name  \\\n0  /home/marcelofm/Nextcloud/Genie_Transfer     7292           0               \n\n  reduced_f_name                                         files_list  \\\n0                 [/home/marcelofm/Nextcloud/Genie_Transfer/BGNO...   \n\n                            reduced_names_files_list  \\\n0  [BGNOVO.Chn, testes_lowbg_planar/Ba133 Planar....   \n\n                    spectra_pattern_names           pkl_folder_files  \\\n0  [**/*.[Cc][Hh][Nn], **/*.[Ii][Ee][Cc]]  Linuxmarcelofm-X540LA.pkl   \n\n     results_path_name  \n0  ../ograyspy_results  ",
      "text/html": "<div>\n<style scoped>\n    .dataframe tbody tr th:only-of-type {\n        vertical-align: middle;\n    }\n\n    .dataframe tbody tr th {\n        vertical-align: top;\n    }\n\n    .dataframe thead th {\n        text-align: right;\n    }\n</style>\n<table border=\"1\" class=\"dataframe\">\n  <thead>\n    <tr style=\"text-align: right;\">\n      <th></th>\n      <th>info_plat</th>\n      <th>info_mach</th>\n      <th>info_syst</th>\n      <th>info_node</th>\n      <th>home_path</th>\n      <th>spectra_path</th>\n      <th>n_files</th>\n      <th>a_spec_ind</th>\n      <th>a_spec_name</th>\n      <th>reduced_f_name</th>\n      <th>files_list</th>\n      <th>reduced_names_files_list</th>\n      <th>spectra_pattern_names</th>\n      <th>pkl_folder_files</th>\n      <th>results_path_name</th>\n    </tr>\n  </thead>\n  <tbody>\n    <tr>\n      <th>0</th>\n      <td>Linux-6.2.0-35-generic-x86_64-with-glibc2.37</td>\n      <td>x86_64</td>\n      <td>Linux</td>\n      <td>marcelofm-X540LA</td>\n      <td>/home/marcelofm</td>\n      <td>/home/marcelofm/Nextcloud/Genie_Transfer</td>\n      <td>7292</td>\n      <td>0</td>\n      <td></td>\n      <td></td>\n      <td>[/home/marcelofm/Nextcloud/Genie_Transfer/BGNO...</td>\n      <td>[BGNOVO.Chn, testes_lowbg_planar/Ba133 Planar....</td>\n      <td>[**/*.[Cc][Hh][Nn], **/*.[Ii][Ee][Cc]]</td>\n      <td>Linuxmarcelofm-X540LA.pkl</td>\n      <td>../ograyspy_results</td>\n    </tr>\n  </tbody>\n</table>\n</div>"
     },
     "execution_count": 16,
     "metadata": {},
     "output_type": "execute_result"
    }
   ],
   "source": [
    "spectra_list_df"
   ],
   "metadata": {
    "collapsed": false,
    "ExecuteTime": {
     "end_time": "2023-10-24T18:38:55.965223286Z",
     "start_time": "2023-10-24T18:38:55.822076442Z"
    }
   }
  },
  {
   "cell_type": "code",
   "source": [],
   "metadata": {
    "tags": [],
    "collapsed": false,
    "trusted": true,
    "ExecuteTime": {
     "end_time": "2023-10-24T18:38:56.011077385Z",
     "start_time": "2023-10-24T18:38:55.946098551Z"
    }
   },
   "execution_count": 16,
   "outputs": []
  },
  {
   "cell_type": "code",
   "source": [
    "nucl_iear1_selctd_gamms_df = nucl_iear1_df.loc [\n",
    "    (nucl_iear1_df.intensity > 1.0) & nucl_iear1_df.is_to_consider\n",
    "]\n",
    "nucl_iear1_selctd_gamms_df"
   ],
   "metadata": {
    "tags": [],
    "collapsed": false,
    "trusted": true,
    "ExecuteTime": {
     "end_time": "2023-10-24T18:38:56.112778388Z",
     "start_time": "2023-10-24T18:38:55.946254969Z"
    }
   },
   "execution_count": 17,
   "outputs": [
    {
     "data": {
      "text/plain": "     nuclide_name     energy  unc_en  intensity  unc_i  half_life  decay  \\\n1            24na  1368.6250  0.0050     99.994  0.002     14.956     B-   \n2            24na  2754.0080  0.0110     99.867  0.010     14.956     B-   \n9            51cr   320.0824  0.0004      9.910  0.010     27.704     EC   \n15           54mn   834.8480  0.0030     99.976  0.001    312.200  EC+B+   \n22           58co   810.7593  0.0020     99.450  0.010     70.860  EC+B+   \n...           ...        ...     ...        ...    ...        ...    ...   \n944         228Ac   968.9710  0.0170     15.800  0.300      6.150     B-   \n1014        228Ac  1588.2000  0.0300      3.220  0.080      6.150     B-   \n1017        228Ac  1630.6270  0.0100      1.510  0.040      6.150     B-   \n1068        228Ac   105.5660     NaN      1.160  0.110      6.150     B-   \n1069        228Ac   106.8940     NaN      1.540  0.150      6.150     B-   \n\n      decay_%  key_gamma is_key_gamma  is_to_consider  \n1       100.0     1368.6         True            True  \n2       100.0     1368.6        False            True  \n9       100.0      320.1         True            True  \n15      100.0      834.8         True            True  \n22      100.0      810.8         True            True  \n...       ...        ...          ...             ...  \n944     100.0      911.6        False            True  \n1014    100.0      911.6        False            True  \n1017    100.0      911.6        False            True  \n1068    100.0      911.6        False            True  \n1069    100.0      911.6        False            True  \n\n[118 rows x 11 columns]",
      "text/html": "<div>\n<style scoped>\n    .dataframe tbody tr th:only-of-type {\n        vertical-align: middle;\n    }\n\n    .dataframe tbody tr th {\n        vertical-align: top;\n    }\n\n    .dataframe thead th {\n        text-align: right;\n    }\n</style>\n<table border=\"1\" class=\"dataframe\">\n  <thead>\n    <tr style=\"text-align: right;\">\n      <th></th>\n      <th>nuclide_name</th>\n      <th>energy</th>\n      <th>unc_en</th>\n      <th>intensity</th>\n      <th>unc_i</th>\n      <th>half_life</th>\n      <th>decay</th>\n      <th>decay_%</th>\n      <th>key_gamma</th>\n      <th>is_key_gamma</th>\n      <th>is_to_consider</th>\n    </tr>\n  </thead>\n  <tbody>\n    <tr>\n      <th>1</th>\n      <td>24na</td>\n      <td>1368.6250</td>\n      <td>0.0050</td>\n      <td>99.994</td>\n      <td>0.002</td>\n      <td>14.956</td>\n      <td>B-</td>\n      <td>100.0</td>\n      <td>1368.6</td>\n      <td>True</td>\n      <td>True</td>\n    </tr>\n    <tr>\n      <th>2</th>\n      <td>24na</td>\n      <td>2754.0080</td>\n      <td>0.0110</td>\n      <td>99.867</td>\n      <td>0.010</td>\n      <td>14.956</td>\n      <td>B-</td>\n      <td>100.0</td>\n      <td>1368.6</td>\n      <td>False</td>\n      <td>True</td>\n    </tr>\n    <tr>\n      <th>9</th>\n      <td>51cr</td>\n      <td>320.0824</td>\n      <td>0.0004</td>\n      <td>9.910</td>\n      <td>0.010</td>\n      <td>27.704</td>\n      <td>EC</td>\n      <td>100.0</td>\n      <td>320.1</td>\n      <td>True</td>\n      <td>True</td>\n    </tr>\n    <tr>\n      <th>15</th>\n      <td>54mn</td>\n      <td>834.8480</td>\n      <td>0.0030</td>\n      <td>99.976</td>\n      <td>0.001</td>\n      <td>312.200</td>\n      <td>EC+B+</td>\n      <td>100.0</td>\n      <td>834.8</td>\n      <td>True</td>\n      <td>True</td>\n    </tr>\n    <tr>\n      <th>22</th>\n      <td>58co</td>\n      <td>810.7593</td>\n      <td>0.0020</td>\n      <td>99.450</td>\n      <td>0.010</td>\n      <td>70.860</td>\n      <td>EC+B+</td>\n      <td>100.0</td>\n      <td>810.8</td>\n      <td>True</td>\n      <td>True</td>\n    </tr>\n    <tr>\n      <th>...</th>\n      <td>...</td>\n      <td>...</td>\n      <td>...</td>\n      <td>...</td>\n      <td>...</td>\n      <td>...</td>\n      <td>...</td>\n      <td>...</td>\n      <td>...</td>\n      <td>...</td>\n      <td>...</td>\n    </tr>\n    <tr>\n      <th>944</th>\n      <td>228Ac</td>\n      <td>968.9710</td>\n      <td>0.0170</td>\n      <td>15.800</td>\n      <td>0.300</td>\n      <td>6.150</td>\n      <td>B-</td>\n      <td>100.0</td>\n      <td>911.6</td>\n      <td>False</td>\n      <td>True</td>\n    </tr>\n    <tr>\n      <th>1014</th>\n      <td>228Ac</td>\n      <td>1588.2000</td>\n      <td>0.0300</td>\n      <td>3.220</td>\n      <td>0.080</td>\n      <td>6.150</td>\n      <td>B-</td>\n      <td>100.0</td>\n      <td>911.6</td>\n      <td>False</td>\n      <td>True</td>\n    </tr>\n    <tr>\n      <th>1017</th>\n      <td>228Ac</td>\n      <td>1630.6270</td>\n      <td>0.0100</td>\n      <td>1.510</td>\n      <td>0.040</td>\n      <td>6.150</td>\n      <td>B-</td>\n      <td>100.0</td>\n      <td>911.6</td>\n      <td>False</td>\n      <td>True</td>\n    </tr>\n    <tr>\n      <th>1068</th>\n      <td>228Ac</td>\n      <td>105.5660</td>\n      <td>NaN</td>\n      <td>1.160</td>\n      <td>0.110</td>\n      <td>6.150</td>\n      <td>B-</td>\n      <td>100.0</td>\n      <td>911.6</td>\n      <td>False</td>\n      <td>True</td>\n    </tr>\n    <tr>\n      <th>1069</th>\n      <td>228Ac</td>\n      <td>106.8940</td>\n      <td>NaN</td>\n      <td>1.540</td>\n      <td>0.150</td>\n      <td>6.150</td>\n      <td>B-</td>\n      <td>100.0</td>\n      <td>911.6</td>\n      <td>False</td>\n      <td>True</td>\n    </tr>\n  </tbody>\n</table>\n<p>118 rows × 11 columns</p>\n</div>"
     },
     "execution_count": 17,
     "metadata": {},
     "output_type": "execute_result"
    }
   ]
  },
  {
   "cell_type": "code",
   "source": [
    "nucl_iear1_selctd_gamms_df.dtypes"
   ],
   "metadata": {
    "tags": [],
    "trusted": true,
    "ExecuteTime": {
     "end_time": "2023-10-24T18:38:56.222189024Z",
     "start_time": "2023-10-24T18:38:56.037849981Z"
    }
   },
   "execution_count": 18,
   "outputs": [
    {
     "data": {
      "text/plain": "nuclide_name       object\nenergy            float64\nunc_en            float64\nintensity         float64\nunc_i             float64\nhalf_life         float64\ndecay              object\ndecay_%           float64\nkey_gamma         float64\nis_key_gamma       object\nis_to_consider       bool\ndtype: object"
     },
     "execution_count": 18,
     "metadata": {},
     "output_type": "execute_result"
    }
   ]
  },
  {
   "cell_type": "code",
   "source": [
    "# Primeiro fiz assim:\n",
    "# cross_df = pd.merge(pks_comprehensive_df, nucl_iear1_selctd_gamms_df, how='cross')\n",
    "# cross_df[\"delta_en\"] = cross_df.engy_pk_det - cross_df.energy\n",
    "# cross_df\n",
    "\n",
    "# Agora fazer de novo:\n",
    "# cross_df_2 = pd.merge(matching_peaks_df, nucl_iear1_selctd_gamms_df, how='cross', suffixes=('_x', None))\n",
    "# cross_df_2.drop(cross_df_2.filter(regex='_x$').columns, axis=1, inplace=True)\n",
    "# cross_df_2[\"delta_en\"] = cross_df_2.recalib_engy_ransac - cross_df_2.energy\n",
    "# cross_df_2"
   ],
   "metadata": {
    "tags": [],
    "collapsed": false,
    "trusted": true,
    "ExecuteTime": {
     "end_time": "2023-10-24T18:38:56.371168833Z",
     "start_time": "2023-10-24T18:38:56.075150544Z"
    }
   },
   "execution_count": 19,
   "outputs": []
  },
  {
   "cell_type": "code",
   "source": [],
   "metadata": {
    "tags": [],
    "collapsed": false,
    "trusted": true,
    "ExecuteTime": {
     "end_time": "2023-10-24T18:38:56.462481629Z",
     "start_time": "2023-10-24T18:38:56.150105839Z"
    }
   },
   "execution_count": 19,
   "outputs": []
  },
  {
   "cell_type": "code",
   "source": [
    "# cross_df = pd.merge(pks_comprehensive_df, nucl_iear1_selctd_gamms_df, how='cross')\n",
    " #    cross_df[\"delta_en\"] = cross_df.engy_pk_det - cross_df.energy\n",
    "  #  cross_df "
   ],
   "metadata": {
    "tags": [],
    "trusted": true,
    "ExecuteTime": {
     "end_time": "2023-10-24T18:38:56.513734095Z",
     "start_time": "2023-10-24T18:38:56.197896016Z"
    }
   },
   "execution_count": 20,
   "outputs": []
  },
  {
   "cell_type": "code",
   "source": [
    "dir(a_spec)"
   ],
   "metadata": {
    "tags": [],
    "trusted": true,
    "ExecuteTime": {
     "end_time": "2023-10-24T18:38:56.727254459Z",
     "start_time": "2023-10-24T18:38:56.261121352Z"
    }
   },
   "execution_count": 21,
   "outputs": [
    {
     "data": {
      "text/plain": "['__class__',\n '__delattr__',\n '__dict__',\n '__dir__',\n '__doc__',\n '__eq__',\n '__format__',\n '__ge__',\n '__getattribute__',\n '__getstate__',\n '__gt__',\n '__hash__',\n '__init__',\n '__init_subclass__',\n '__le__',\n '__lt__',\n '__module__',\n '__ne__',\n '__new__',\n '__reduce__',\n '__reduce_ex__',\n '__repr__',\n '__setattr__',\n '__sizeof__',\n '__str__',\n '__subclasshook__',\n '__weakref__',\n 'add_engy_to_pks_df',\n 'channel_energy_calib',\n 'create_activities_df',\n 'create_matching_peaks_df',\n 'curr_h_win',\n 'det_descr',\n 'en_eff',\n 'f_name',\n 'final_composed_baseline',\n 'generate_pandas_dataframe',\n 'identify_nuclides',\n 'lv_time',\n 'net_spec_ser_an',\n 'nucl_an',\n 'origin_spec_ser_an',\n 'read_pkl_file',\n 'reduced_f_name',\n 'results_pkl_file',\n 'rl_time',\n 'sam_descr',\n 'source_datetime',\n 'spec_io',\n 'start_datetime',\n 'sufx',\n 'total_analysis']"
     },
     "execution_count": 21,
     "metadata": {},
     "output_type": "execute_result"
    }
   ]
  },
  {
   "cell_type": "code",
   "execution_count": 22,
   "outputs": [
    {
     "data": {
      "text/plain": "PosixPath('../ograyspy_results/Si/SI2022/SI06122_result.pkl')"
     },
     "execution_count": 22,
     "metadata": {},
     "output_type": "execute_result"
    }
   ],
   "source": [
    "a_spec.results_pkl_file"
   ],
   "metadata": {
    "collapsed": false,
    "ExecuteTime": {
     "end_time": "2023-10-24T18:38:56.730950350Z",
     "start_time": "2023-10-24T18:38:56.438411368Z"
    }
   }
  },
  {
   "cell_type": "code",
   "execution_count": 23,
   "outputs": [
    {
     "data": {
      "text/plain": "{'net_spec_ser_an': <generic_series_analysis_class.GenericSeriesAnalysis at 0x7fd06c7d9bd0>,\n 'final_composed_baseline': <generic_series_analysis_class.GenericSeriesAnalysis at 0x7fd06c504cd0>,\n 'f_name': PosixPath('/home/marcelofm/Nextcloud/Genie_Transfer/Si/SI2022/SI06122.Chn'),\n 'reduced_f_name': 'Si/SI2022/SI06122.Chn',\n 'sufx': '.chn',\n 'spec_io': None,\n 'lv_time': 50000.0,\n 'rl_time': 50028.96,\n 'source_datetime': None,\n 'results_pkl_file': PosixPath('../ograyspy_results/Si/SI2022/SI06122_result.pkl'),\n 'origin_spec_ser_an': <generic_series_analysis_class.GenericSeriesAnalysis at 0x7fd0b05059d0>,\n 'start_datetime': datetime.datetime(2022, 7, 27, 16, 56, 29),\n 'det_descr': 'MAQUINA_01 MCB 1 Input 1',\n 'sam_descr': 'SI-061/22 Agua da Piscina Reator IEA-R1 (GMX)',\n 'channel_energy_calib': <genericcalib_class.ChannelEnergyCalib at 0x7fd06ebf7810>,\n 'nucl_an': <nuclide_analysis_class.NuclideAnalysis at 0x7fd06d2d77d0>}"
     },
     "execution_count": 23,
     "metadata": {},
     "output_type": "execute_result"
    }
   ],
   "source": [
    "vars(a_spec)"
   ],
   "metadata": {
    "collapsed": false,
    "ExecuteTime": {
     "end_time": "2023-10-24T18:38:56.812620030Z",
     "start_time": "2023-10-24T18:38:56.484875705Z"
    }
   }
  },
  {
   "cell_type": "code",
   "execution_count": 23,
   "outputs": [],
   "source": [
    "/home/marcelofm/ograyspy_results/Si/SI2022"
   ],
   "metadata": {
    "collapsed": false,
    "ExecuteTime": {
     "end_time": "2023-10-24T18:38:56.813872821Z",
     "start_time": "2023-10-24T18:38:56.552642591Z"
    }
   }
  },
  {
   "cell_type": "code",
   "source": [
    "new_ch_en_calib"
   ],
   "metadata": {
    "tags": [],
    "trusted": true,
    "ExecuteTime": {
     "end_time": "2023-10-24T18:38:56.853630072Z",
     "start_time": "2023-10-24T18:38:56.563436793Z"
    }
   },
   "execution_count": 23,
   "outputs": []
  },
  {
   "cell_type": "code",
   "source": [],
   "metadata": {
    "tags": [],
    "collapsed": false,
    "trusted": true,
    "ExecuteTime": {
     "end_time": "2023-10-24T18:38:56.854132678Z",
     "start_time": "2023-10-24T18:38:56.609924841Z"
    }
   },
   "execution_count": 23,
   "outputs": []
  },
  {
   "cell_type": "code",
   "source": [
    "def en_eff(engy):\n",
    "    return np.exp(p_eff(np.log(engy)))"
   ],
   "metadata": {
    "tags": [],
    "collapsed": false,
    "trusted": true,
    "ExecuteTime": {
     "end_time": "2023-10-24T18:38:56.855032639Z",
     "start_time": "2023-10-24T18:38:56.610153938Z"
    }
   },
   "execution_count": 24,
   "outputs": [
    {
     "data": {
      "text/plain": "'SI06122_result_activ_list'"
     },
     "execution_count": 24,
     "metadata": {},
     "output_type": "execute_result"
    }
   ]
  },
  {
   "cell_type": "code",
   "source": [
    "en_eff(1332)"
   ],
   "metadata": {
    "tags": [],
    "collapsed": false,
    "trusted": true,
    "ExecuteTime": {
     "end_time": "2023-10-24T18:38:57.026874048Z",
     "start_time": "2023-10-24T18:38:56.653807636Z"
    }
   },
   "execution_count": 25,
   "outputs": [
    {
     "name": "stdout",
     "output_type": "stream",
     "text": [
      "../ograyspy_results/Si/SI2022/SI06122_result.pkl\n"
     ]
    }
   ]
  },
  {
   "cell_type": "code",
   "source": [],
   "metadata": {
    "tags": [],
    "collapsed": false,
    "trusted": true,
    "ExecuteTime": {
     "end_time": "2023-10-24T18:38:57.156260385Z",
     "start_time": "2023-10-24T18:38:56.819586168Z"
    }
   },
   "execution_count": 26,
   "outputs": [
    {
     "name": "stdout",
     "output_type": "stream",
     "text": [
      "Lets identify nuclides.\n",
      "    peaks   fwhm_centr   rough_sums    centroids     variances       pk_hei  \\\n",
      "0      30    29.785567  1893.942368    29.963695  14133.214332   818.646195   \n",
      "1     128   128.364887  2876.788495   127.767831  11283.211505   720.585627   \n",
      "2     145   144.459911  1278.607977   144.896569  10161.329960   389.571554   \n",
      "3     236   235.273124   462.759320   235.202199  12019.150830   123.425784   \n",
      "4     396   396.401754   630.310441   396.426778  10404.641509   162.845302   \n",
      "5     489   488.997063   249.976688   488.967375   4072.023312   125.089174   \n",
      "6     581   581.463638   430.396173   581.647407   5405.821287   147.276132   \n",
      "7     716   715.508125   222.738094   715.666805   4033.829966    79.006167   \n",
      "8     841   841.967813  2900.206925   841.976062   7873.573309   559.895371   \n",
      "9     960   960.088168   483.773366   960.065118   3335.841582   148.624963   \n",
      "10   1003  1002.888165   769.886444  1002.931019   3458.113556   220.739274   \n",
      "11   1011  1011.595555   246.139531  1011.090936   3193.930817    63.325136   \n",
      "12   1082  1082.208995  2125.483990  1082.200436   4570.516010   657.235129   \n",
      "13   1088  1088.722180   401.081225  1088.105023   2556.918775    97.223236   \n",
      "14   1115  1114.774649   176.695976  1115.022855   1999.057501    67.734059   \n",
      "15   1163  1162.050038   336.295814  1161.943753   2591.560129    85.795902   \n",
      "16   1189  1189.227086   160.747926  1189.208186   1865.322724    64.537729   \n",
      "17   1256  1256.302992   405.106118  1256.297717   2257.095859   134.196651   \n",
      "18   1333  1332.711271  2591.874119  1332.650344   4761.752838   751.356428   \n",
      "19   1372  1372.729536   280.179798  1372.499811   3213.742890    65.116362   \n",
      "20   1454  1453.734014  1344.932670  1453.640093   3338.139458   367.505693   \n",
      "21   1498  1497.331339   583.585709  1497.348693   2898.191988   142.666499   \n",
      "22   1540  1540.041676   709.425445  1539.865159   2764.574555   175.614136   \n",
      "23   1585  1585.460179   338.833600  1586.692586   2496.637384    45.747485   \n",
      "24   1592  1591.886380   345.779231  1591.826779   1952.269003    99.327543   \n",
      "25   1832  1831.914493   472.981339  1832.180142   2007.018661   108.310877   \n",
      "26   1840  1839.413659   319.008013  1839.453015   1418.991987    88.356843   \n",
      "27   1926  1926.179506  6398.833656  1926.124036   7679.166344  1698.898100   \n",
      "28   2032  2032.335868   150.062903  2032.321879    865.937097    39.200234   \n",
      "29   2187  2186.952804  5848.127892  2186.881900   6473.872108  1402.774453   \n",
      "30   2247  2246.361081   170.789713  2246.149438    610.315531    57.090852   \n",
      "31   2262  2260.909926   107.824449  2261.366983    633.663193    25.844698   \n",
      "32   2272  2271.692429   360.400194  2271.722928    921.547003    83.645558   \n",
      "33   2397  2397.354424  3206.949995  2397.267432   3637.050005   777.060380   \n",
      "34   2470  2469.534452   183.362379  2469.277794    470.637621    47.058621   \n",
      "35   2606  2605.351065   131.163569  2605.622131    358.836431    42.782923   \n",
      "36   2613  2612.853034   234.194972  2613.278554    601.805028    33.863911   \n",
      "37   2836  2835.888820    64.091621  2836.315622    177.908379    21.622287   \n",
      "38   2894  2894.703133   397.650084  2894.518455    654.835127    91.256400   \n",
      "39   3030  3030.293398    54.452120  3030.019570    153.547880    23.091528   \n",
      "40   3450  3449.565229   168.356845  3449.403829    291.643155    46.289910   \n",
      "41   3615  3614.038497   124.857782  3614.158312    343.648757    28.476903   \n",
      "\n",
      "        lf_thr      rg_thr       promns  lf_bas  rg_bas    widths      wi_hei  \\\n",
      "0   201.465549  450.836680   818.646195      28      33  2.244704  409.323097   \n",
      "1   359.256221   71.539300   720.585627     100     137  2.761022  360.292813   \n",
      "2     4.276963  247.018556   389.571554     142     151  2.657272  194.785777   \n",
      "3    40.769738   84.205044   123.425784     233     240  2.919528   61.712892   \n",
      "4    70.909899   49.239266   162.845302     392     404  3.333009   81.422651   \n",
      "5    88.241458   88.978919   125.089174     485     493  1.411704   62.544587   \n",
      "6    89.934593    1.069452   147.276132     579     585  2.564867   73.638066   \n",
      "7    15.639623   46.454617    79.006167     713     719  2.684467   39.503084   \n",
      "8   213.926360   11.088422   559.895371     836     850  4.639239  279.947685   \n",
      "9    51.372759   40.677023   148.624963     955     963  2.878815   74.312482   \n",
      "10   40.375893   77.703349   220.739274     990    1008  3.022488  110.369637   \n",
      "11   32.214361    1.787671    63.325136    1008    1016  3.156853   31.662568   \n",
      "12  251.432911  123.634783   657.235129    1073    1101  2.972686  328.617564   \n",
      "13   59.126652   28.889179    69.221096    1086    1101  2.615085   62.612688   \n",
      "14   24.189260   36.845929    67.734059    1112    1117  2.289007   33.867030   \n",
      "15    0.176165   73.885618    85.795902    1152    1166  3.061124   42.897951   \n",
      "16   34.156127   10.853057    64.537729    1186    1191  2.343664   32.268865   \n",
      "17   62.170938   26.847523   134.196651    1253    1261  2.834482   67.098325   \n",
      "18   92.344345  268.763363   751.356428    1328    1338  3.214050  375.678214   \n",
      "19   25.123727    5.880614    65.116362    1369    1376  4.593614   32.558181   \n",
      "20   29.182944  101.857014   367.505693    1449    1459  3.422487  183.752846   \n",
      "21   25.140725   51.889893   142.666499    1494    1503  3.965272   71.333250   \n",
      "22   63.155763   38.866820   175.614136    1534    1573  3.667664   87.807068   \n",
      "23    2.085748   21.928123    45.747485    1583    1588  3.872587   22.873742   \n",
      "24   26.119164   25.897229    99.327543    1588    1597  3.077070   49.663772   \n",
      "25   16.197018   27.833974   108.310877    1816    1845  3.933581   54.155439   \n",
      "26   22.173774   48.880461    74.557849    1836    1845  2.697992   51.077919   \n",
      "27  468.438806  262.626878  1698.898100    1916    1933  3.484062  849.449050   \n",
      "28   20.187085    6.828505    39.200234    2028    2037  2.613583   19.600117   \n",
      "29  223.650380  221.450518  1402.774453    2177    2193  3.853372  701.387226   \n",
      "30   27.132936   33.922184    57.090852    2242    2250  2.960832   28.545426   \n",
      "31    8.081059   17.948122    25.844698    2257    2267  3.620114   12.922349   \n",
      "32    7.173466   18.857337    83.645558    2267    2276  4.010758   41.822779   \n",
      "33  263.219632   21.786446   777.060380    2389    2404  3.821993  388.530190   \n",
      "34    3.040656   22.974186    47.058621    2460    2481  3.016614   23.529310   \n",
      "35   20.020247   26.989344    42.782923    2600    2624  2.883048   21.391462   \n",
      "36    1.017050    4.984726    28.063228    2608    2624  4.105433   19.832298   \n",
      "37   12.029719   15.984690    21.622287    2831    2842  1.575047   10.811143   \n",
      "38   36.028978   12.974715    91.256400    2889    2899  4.091466   45.628200   \n",
      "39   19.009584    9.993320    23.091528    3021    3038  1.801527   11.545764   \n",
      "40   15.992458   25.004050    46.289910    3442    3456  2.720839   23.144955   \n",
      "41    6.988944    9.008367    28.476903    3611    3620  4.538191   14.238452   \n",
      "\n",
      "         lf_ips       rg_ips  \n",
      "0     28.663214    30.907919  \n",
      "1    126.984376   129.745398  \n",
      "2    143.131275   145.788547  \n",
      "3    233.813360   236.732888  \n",
      "4    394.735249   398.068258  \n",
      "5    488.291211   489.702915  \n",
      "6    580.181204   582.746071  \n",
      "7    714.165892   716.850359  \n",
      "8    839.648194   844.287433  \n",
      "9    958.648761   961.527576  \n",
      "10  1001.376921  1004.399409  \n",
      "11  1010.017129  1013.173982  \n",
      "12  1080.722653  1083.695338  \n",
      "13  1087.414637  1090.029722  \n",
      "14  1113.630146  1115.919153  \n",
      "15  1160.519476  1163.580599  \n",
      "16  1188.055254  1190.398918  \n",
      "17  1254.885751  1257.720233  \n",
      "18  1331.104246  1334.318296  \n",
      "19  1370.432729  1375.026343  \n",
      "20  1452.022771  1455.445258  \n",
      "21  1495.348703  1499.313975  \n",
      "22  1538.207845  1541.875508  \n",
      "23  1583.523885  1587.396472  \n",
      "24  1590.347845  1593.424914  \n",
      "25  1829.947703  1833.881284  \n",
      "26  1838.064663  1840.762655  \n",
      "27  1924.437475  1927.921538  \n",
      "28  2031.029076  2033.642660  \n",
      "29  2185.026118  2188.879490  \n",
      "30  2244.880665  2247.841497  \n",
      "31  2259.099869  2262.719983  \n",
      "32  2269.687050  2273.697808  \n",
      "33  2395.443428  2399.265421  \n",
      "34  2468.026145  2471.042759  \n",
      "35  2603.909541  2606.792589  \n",
      "36  2610.800317  2614.905751  \n",
      "37  2835.101297  2836.676344  \n",
      "38  2892.657400  2896.748866  \n",
      "39  3029.392635  3031.194161  \n",
      "40  3448.204809  3450.925648  \n",
      "41  3611.769401  3616.307593  \n",
      "    peaks   fwhm_centr   rough_sums    centroids     variances       pk_hei  \\\n",
      "0      30    29.785567  1893.942368    29.963695  14133.214332   818.646195   \n",
      "1     128   128.364887  2876.788495   127.767831  11283.211505   720.585627   \n",
      "2     145   144.459911  1278.607977   144.896569  10161.329960   389.571554   \n",
      "3     236   235.273124   462.759320   235.202199  12019.150830   123.425784   \n",
      "4     396   396.401754   630.310441   396.426778  10404.641509   162.845302   \n",
      "5     489   488.997063   249.976688   488.967375   4072.023312   125.089174   \n",
      "6     581   581.463638   430.396173   581.647407   5405.821287   147.276132   \n",
      "7     716   715.508125   222.738094   715.666805   4033.829966    79.006167   \n",
      "8     841   841.967813  2900.206925   841.976062   7873.573309   559.895371   \n",
      "9     960   960.088168   483.773366   960.065118   3335.841582   148.624963   \n",
      "10   1003  1002.888165   769.886444  1002.931019   3458.113556   220.739274   \n",
      "11   1011  1011.595555   246.139531  1011.090936   3193.930817    63.325136   \n",
      "12   1082  1082.208995  2125.483990  1082.200436   4570.516010   657.235129   \n",
      "13   1088  1088.722180   401.081225  1088.105023   2556.918775    97.223236   \n",
      "14   1115  1114.774649   176.695976  1115.022855   1999.057501    67.734059   \n",
      "15   1163  1162.050038   336.295814  1161.943753   2591.560129    85.795902   \n",
      "16   1189  1189.227086   160.747926  1189.208186   1865.322724    64.537729   \n",
      "17   1256  1256.302992   405.106118  1256.297717   2257.095859   134.196651   \n",
      "18   1333  1332.711271  2591.874119  1332.650344   4761.752838   751.356428   \n",
      "19   1372  1372.729536   280.179798  1372.499811   3213.742890    65.116362   \n",
      "20   1454  1453.734014  1344.932670  1453.640093   3338.139458   367.505693   \n",
      "21   1498  1497.331339   583.585709  1497.348693   2898.191988   142.666499   \n",
      "22   1540  1540.041676   709.425445  1539.865159   2764.574555   175.614136   \n",
      "23   1585  1585.460179   338.833600  1586.692586   2496.637384    45.747485   \n",
      "24   1592  1591.886380   345.779231  1591.826779   1952.269003    99.327543   \n",
      "25   1832  1831.914493   472.981339  1832.180142   2007.018661   108.310877   \n",
      "26   1840  1839.413659   319.008013  1839.453015   1418.991987    88.356843   \n",
      "27   1926  1926.179506  6398.833656  1926.124036   7679.166344  1698.898100   \n",
      "28   2032  2032.335868   150.062903  2032.321879    865.937097    39.200234   \n",
      "29   2187  2186.952804  5848.127892  2186.881900   6473.872108  1402.774453   \n",
      "30   2247  2246.361081   170.789713  2246.149438    610.315531    57.090852   \n",
      "31   2262  2260.909926   107.824449  2261.366983    633.663193    25.844698   \n",
      "32   2272  2271.692429   360.400194  2271.722928    921.547003    83.645558   \n",
      "33   2397  2397.354424  3206.949995  2397.267432   3637.050005   777.060380   \n",
      "34   2470  2469.534452   183.362379  2469.277794    470.637621    47.058621   \n",
      "35   2606  2605.351065   131.163569  2605.622131    358.836431    42.782923   \n",
      "36   2613  2612.853034   234.194972  2613.278554    601.805028    33.863911   \n",
      "37   2836  2835.888820    64.091621  2836.315622    177.908379    21.622287   \n",
      "38   2894  2894.703133   397.650084  2894.518455    654.835127    91.256400   \n",
      "39   3030  3030.293398    54.452120  3030.019570    153.547880    23.091528   \n",
      "40   3450  3449.565229   168.356845  3449.403829    291.643155    46.289910   \n",
      "41   3615  3614.038497   124.857782  3614.158312    343.648757    28.476903   \n",
      "\n",
      "        lf_thr      rg_thr       promns  lf_bas  rg_bas    widths      wi_hei  \\\n",
      "0   201.465549  450.836680   818.646195      28      33  2.244704  409.323097   \n",
      "1   359.256221   71.539300   720.585627     100     137  2.761022  360.292813   \n",
      "2     4.276963  247.018556   389.571554     142     151  2.657272  194.785777   \n",
      "3    40.769738   84.205044   123.425784     233     240  2.919528   61.712892   \n",
      "4    70.909899   49.239266   162.845302     392     404  3.333009   81.422651   \n",
      "5    88.241458   88.978919   125.089174     485     493  1.411704   62.544587   \n",
      "6    89.934593    1.069452   147.276132     579     585  2.564867   73.638066   \n",
      "7    15.639623   46.454617    79.006167     713     719  2.684467   39.503084   \n",
      "8   213.926360   11.088422   559.895371     836     850  4.639239  279.947685   \n",
      "9    51.372759   40.677023   148.624963     955     963  2.878815   74.312482   \n",
      "10   40.375893   77.703349   220.739274     990    1008  3.022488  110.369637   \n",
      "11   32.214361    1.787671    63.325136    1008    1016  3.156853   31.662568   \n",
      "12  251.432911  123.634783   657.235129    1073    1101  2.972686  328.617564   \n",
      "13   59.126652   28.889179    69.221096    1086    1101  2.615085   62.612688   \n",
      "14   24.189260   36.845929    67.734059    1112    1117  2.289007   33.867030   \n",
      "15    0.176165   73.885618    85.795902    1152    1166  3.061124   42.897951   \n",
      "16   34.156127   10.853057    64.537729    1186    1191  2.343664   32.268865   \n",
      "17   62.170938   26.847523   134.196651    1253    1261  2.834482   67.098325   \n",
      "18   92.344345  268.763363   751.356428    1328    1338  3.214050  375.678214   \n",
      "19   25.123727    5.880614    65.116362    1369    1376  4.593614   32.558181   \n",
      "20   29.182944  101.857014   367.505693    1449    1459  3.422487  183.752846   \n",
      "21   25.140725   51.889893   142.666499    1494    1503  3.965272   71.333250   \n",
      "22   63.155763   38.866820   175.614136    1534    1573  3.667664   87.807068   \n",
      "23    2.085748   21.928123    45.747485    1583    1588  3.872587   22.873742   \n",
      "24   26.119164   25.897229    99.327543    1588    1597  3.077070   49.663772   \n",
      "25   16.197018   27.833974   108.310877    1816    1845  3.933581   54.155439   \n",
      "26   22.173774   48.880461    74.557849    1836    1845  2.697992   51.077919   \n",
      "27  468.438806  262.626878  1698.898100    1916    1933  3.484062  849.449050   \n",
      "28   20.187085    6.828505    39.200234    2028    2037  2.613583   19.600117   \n",
      "29  223.650380  221.450518  1402.774453    2177    2193  3.853372  701.387226   \n",
      "30   27.132936   33.922184    57.090852    2242    2250  2.960832   28.545426   \n",
      "31    8.081059   17.948122    25.844698    2257    2267  3.620114   12.922349   \n",
      "32    7.173466   18.857337    83.645558    2267    2276  4.010758   41.822779   \n",
      "33  263.219632   21.786446   777.060380    2389    2404  3.821993  388.530190   \n",
      "34    3.040656   22.974186    47.058621    2460    2481  3.016614   23.529310   \n",
      "35   20.020247   26.989344    42.782923    2600    2624  2.883048   21.391462   \n",
      "36    1.017050    4.984726    28.063228    2608    2624  4.105433   19.832298   \n",
      "37   12.029719   15.984690    21.622287    2831    2842  1.575047   10.811143   \n",
      "38   36.028978   12.974715    91.256400    2889    2899  4.091466   45.628200   \n",
      "39   19.009584    9.993320    23.091528    3021    3038  1.801527   11.545764   \n",
      "40   15.992458   25.004050    46.289910    3442    3456  2.720839   23.144955   \n",
      "41    6.988944    9.008367    28.476903    3611    3620  4.538191   14.238452   \n",
      "\n",
      "         lf_ips       rg_ips  engy_pk_det  \n",
      "0     28.663214    30.907919    16.318529  \n",
      "1    126.984376   129.745398    76.080802  \n",
      "2    143.131275   145.788547    86.547152  \n",
      "3    233.813360   236.732888   141.727537  \n",
      "4    394.735249   398.068258   240.242260  \n",
      "5    488.291211   489.702915   296.788299  \n",
      "6    580.181204   582.746071   353.419539  \n",
      "7    714.165892   716.850359   435.310799  \n",
      "8    839.648194   844.287433   512.490852  \n",
      "9    958.648761   961.527576   584.648031  \n",
      "10  1001.376921  1004.399409   610.840826  \n",
      "11  1010.017129  1013.173982   615.826865  \n",
      "12  1080.722653  1083.695338   659.277639  \n",
      "13  1087.414637  1090.029722   662.885580  \n",
      "14  1113.630146  1115.919153   679.333462  \n",
      "15  1160.519476  1163.580599   708.004023  \n",
      "16  1188.055254  1190.398918   724.663692  \n",
      "17  1254.885751  1257.720233   765.658103  \n",
      "18  1331.104246  1334.318296   812.312639  \n",
      "19  1370.432729  1375.026343   836.662272  \n",
      "20  1452.022771  1455.445258   886.242259  \n",
      "21  1495.348703  1499.313975   912.949977  \n",
      "22  1538.207845  1541.875508   938.929253  \n",
      "23  1583.523885  1587.396472   967.542701  \n",
      "24  1590.347845  1593.424914   970.679900  \n",
      "25  1829.947703  1833.881284  1117.545503  \n",
      "26  1838.064663  1840.762655  1121.989523  \n",
      "27  1924.437475  1927.921538  1174.949014  \n",
      "28  2031.029076  2033.642660  1239.840182  \n",
      "29  2185.026118  2188.879490  1334.282592  \n",
      "30  2244.880665  2247.841497  1370.497449  \n",
      "31  2259.099869  2262.719983  1379.795983  \n",
      "32  2269.687050  2273.697808  1386.123883  \n",
      "33  2395.443428  2399.265421  1462.836641  \n",
      "34  2468.026145  2471.042759  1506.837879  \n",
      "35  2603.909541  2606.792589  1590.149770  \n",
      "36  2610.800317  2614.905751  1594.828154  \n",
      "37  2835.101297  2836.676344  1731.112803  \n",
      "38  2892.657400  2896.748866  1766.677082  \n",
      "39  3029.392635  3031.194161  1849.473732  \n",
      "40  3448.204809  3450.925648  2105.734437  \n",
      "41  3611.769401  3616.307593  2206.406075  \n"
     ]
    }
   ]
  },
  {
   "cell_type": "code",
   "source": [
    "# 2023-Sep-21\n",
    "# Now use the assembled peak df, read_result_df, to proceed."
   ],
   "metadata": {
    "ExecuteTime": {
     "end_time": "2023-10-24T18:38:57.273761070Z",
     "start_time": "2023-10-24T18:38:56.981872216Z"
    }
   },
   "execution_count": 27,
   "outputs": [
    {
     "name": "stdout",
     "output_type": "stream",
     "text": [
      "final_pkl_file:\n",
      "../ograyspy_results/Si/SI2022/SI06122_final.pkl\n"
     ]
    }
   ]
  },
  {
   "cell_type": "code",
   "execution_count": 27,
   "outputs": [],
   "source": [],
   "metadata": {
    "collapsed": false,
    "ExecuteTime": {
     "end_time": "2023-10-24T18:38:57.274202302Z",
     "start_time": "2023-10-24T18:38:57.239976926Z"
    }
   }
  },
  {
   "cell_type": "code",
   "execution_count": 28,
   "outputs": [
    {
     "data": {
      "text/plain": "'SI06122_result_activ_list'"
     },
     "execution_count": 28,
     "metadata": {},
     "output_type": "execute_result"
    }
   ],
   "source": [
    "seconds = a_spec.results_pkl_file # .with_stem('second_result')\n",
    "seconds\n",
    "activ_stem = a_spec.results_pkl_file.stem + '_activ_list'\n",
    "activ_stem"
   ],
   "metadata": {
    "collapsed": false,
    "ExecuteTime": {
     "end_time": "2023-10-24T17:40:43.811194359Z",
     "start_time": "2023-10-24T17:40:43.791669601Z"
    }
   }
  },
  {
   "cell_type": "code",
   "execution_count": 29,
   "outputs": [
    {
     "name": "stdout",
     "output_type": "stream",
     "text": [
      "../ograyspy_results/Si/SI2022/SI06122_result.pkl\n"
     ]
    }
   ],
   "source": [],
   "metadata": {
    "collapsed": false,
    "ExecuteTime": {
     "end_time": "2023-10-24T17:40:44.718261804Z",
     "start_time": "2023-10-24T17:40:44.696611244Z"
    }
   }
  },
  {
   "cell_type": "code",
   "execution_count": 30,
   "outputs": [
    {
     "name": "stdout",
     "output_type": "stream",
     "text": [
      "Lets identify nuclides.\n",
      "    peaks   fwhm_centr   rough_sums    centroids     variances       pk_hei  \\\n",
      "0      30    29.785567  1893.942368    29.963695  14133.214332   818.646195   \n",
      "1     128   128.364887  2876.788495   127.767831  11283.211505   720.585627   \n",
      "2     145   144.459911  1278.607977   144.896569  10161.329960   389.571554   \n",
      "3     236   235.273124   462.759320   235.202199  12019.150830   123.425784   \n",
      "4     396   396.401754   630.310441   396.426778  10404.641509   162.845302   \n",
      "5     489   488.997063   249.976688   488.967375   4072.023312   125.089174   \n",
      "6     581   581.463638   430.396173   581.647407   5405.821287   147.276132   \n",
      "7     716   715.508125   222.738094   715.666805   4033.829966    79.006167   \n",
      "8     841   841.967813  2900.206925   841.976062   7873.573309   559.895371   \n",
      "9     960   960.088168   483.773366   960.065118   3335.841582   148.624963   \n",
      "10   1003  1002.888165   769.886444  1002.931019   3458.113556   220.739274   \n",
      "11   1011  1011.595555   246.139531  1011.090936   3193.930817    63.325136   \n",
      "12   1082  1082.208995  2125.483990  1082.200436   4570.516010   657.235129   \n",
      "13   1088  1088.722180   401.081225  1088.105023   2556.918775    97.223236   \n",
      "14   1115  1114.774649   176.695976  1115.022855   1999.057501    67.734059   \n",
      "15   1163  1162.050038   336.295814  1161.943753   2591.560129    85.795902   \n",
      "16   1189  1189.227086   160.747926  1189.208186   1865.322724    64.537729   \n",
      "17   1256  1256.302992   405.106118  1256.297717   2257.095859   134.196651   \n",
      "18   1333  1332.711271  2591.874119  1332.650344   4761.752838   751.356428   \n",
      "19   1372  1372.729536   280.179798  1372.499811   3213.742890    65.116362   \n",
      "20   1454  1453.734014  1344.932670  1453.640093   3338.139458   367.505693   \n",
      "21   1498  1497.331339   583.585709  1497.348693   2898.191988   142.666499   \n",
      "22   1540  1540.041676   709.425445  1539.865159   2764.574555   175.614136   \n",
      "23   1585  1585.460179   338.833600  1586.692586   2496.637384    45.747485   \n",
      "24   1592  1591.886380   345.779231  1591.826779   1952.269003    99.327543   \n",
      "25   1832  1831.914493   472.981339  1832.180142   2007.018661   108.310877   \n",
      "26   1840  1839.413659   319.008013  1839.453015   1418.991987    88.356843   \n",
      "27   1926  1926.179506  6398.833656  1926.124036   7679.166344  1698.898100   \n",
      "28   2032  2032.335868   150.062903  2032.321879    865.937097    39.200234   \n",
      "29   2187  2186.952804  5848.127892  2186.881900   6473.872108  1402.774453   \n",
      "30   2247  2246.361081   170.789713  2246.149438    610.315531    57.090852   \n",
      "31   2262  2260.909926   107.824449  2261.366983    633.663193    25.844698   \n",
      "32   2272  2271.692429   360.400194  2271.722928    921.547003    83.645558   \n",
      "33   2397  2397.354424  3206.949995  2397.267432   3637.050005   777.060380   \n",
      "34   2470  2469.534452   183.362379  2469.277794    470.637621    47.058621   \n",
      "35   2606  2605.351065   131.163569  2605.622131    358.836431    42.782923   \n",
      "36   2613  2612.853034   234.194972  2613.278554    601.805028    33.863911   \n",
      "37   2836  2835.888820    64.091621  2836.315622    177.908379    21.622287   \n",
      "38   2894  2894.703133   397.650084  2894.518455    654.835127    91.256400   \n",
      "39   3030  3030.293398    54.452120  3030.019570    153.547880    23.091528   \n",
      "40   3450  3449.565229   168.356845  3449.403829    291.643155    46.289910   \n",
      "41   3615  3614.038497   124.857782  3614.158312    343.648757    28.476903   \n",
      "\n",
      "        lf_thr      rg_thr       promns  lf_bas  rg_bas    widths      wi_hei  \\\n",
      "0   201.465549  450.836680   818.646195      28      33  2.244704  409.323097   \n",
      "1   359.256221   71.539300   720.585627     100     137  2.761022  360.292813   \n",
      "2     4.276963  247.018556   389.571554     142     151  2.657272  194.785777   \n",
      "3    40.769738   84.205044   123.425784     233     240  2.919528   61.712892   \n",
      "4    70.909899   49.239266   162.845302     392     404  3.333009   81.422651   \n",
      "5    88.241458   88.978919   125.089174     485     493  1.411704   62.544587   \n",
      "6    89.934593    1.069452   147.276132     579     585  2.564867   73.638066   \n",
      "7    15.639623   46.454617    79.006167     713     719  2.684467   39.503084   \n",
      "8   213.926360   11.088422   559.895371     836     850  4.639239  279.947685   \n",
      "9    51.372759   40.677023   148.624963     955     963  2.878815   74.312482   \n",
      "10   40.375893   77.703349   220.739274     990    1008  3.022488  110.369637   \n",
      "11   32.214361    1.787671    63.325136    1008    1016  3.156853   31.662568   \n",
      "12  251.432911  123.634783   657.235129    1073    1101  2.972686  328.617564   \n",
      "13   59.126652   28.889179    69.221096    1086    1101  2.615085   62.612688   \n",
      "14   24.189260   36.845929    67.734059    1112    1117  2.289007   33.867030   \n",
      "15    0.176165   73.885618    85.795902    1152    1166  3.061124   42.897951   \n",
      "16   34.156127   10.853057    64.537729    1186    1191  2.343664   32.268865   \n",
      "17   62.170938   26.847523   134.196651    1253    1261  2.834482   67.098325   \n",
      "18   92.344345  268.763363   751.356428    1328    1338  3.214050  375.678214   \n",
      "19   25.123727    5.880614    65.116362    1369    1376  4.593614   32.558181   \n",
      "20   29.182944  101.857014   367.505693    1449    1459  3.422487  183.752846   \n",
      "21   25.140725   51.889893   142.666499    1494    1503  3.965272   71.333250   \n",
      "22   63.155763   38.866820   175.614136    1534    1573  3.667664   87.807068   \n",
      "23    2.085748   21.928123    45.747485    1583    1588  3.872587   22.873742   \n",
      "24   26.119164   25.897229    99.327543    1588    1597  3.077070   49.663772   \n",
      "25   16.197018   27.833974   108.310877    1816    1845  3.933581   54.155439   \n",
      "26   22.173774   48.880461    74.557849    1836    1845  2.697992   51.077919   \n",
      "27  468.438806  262.626878  1698.898100    1916    1933  3.484062  849.449050   \n",
      "28   20.187085    6.828505    39.200234    2028    2037  2.613583   19.600117   \n",
      "29  223.650380  221.450518  1402.774453    2177    2193  3.853372  701.387226   \n",
      "30   27.132936   33.922184    57.090852    2242    2250  2.960832   28.545426   \n",
      "31    8.081059   17.948122    25.844698    2257    2267  3.620114   12.922349   \n",
      "32    7.173466   18.857337    83.645558    2267    2276  4.010758   41.822779   \n",
      "33  263.219632   21.786446   777.060380    2389    2404  3.821993  388.530190   \n",
      "34    3.040656   22.974186    47.058621    2460    2481  3.016614   23.529310   \n",
      "35   20.020247   26.989344    42.782923    2600    2624  2.883048   21.391462   \n",
      "36    1.017050    4.984726    28.063228    2608    2624  4.105433   19.832298   \n",
      "37   12.029719   15.984690    21.622287    2831    2842  1.575047   10.811143   \n",
      "38   36.028978   12.974715    91.256400    2889    2899  4.091466   45.628200   \n",
      "39   19.009584    9.993320    23.091528    3021    3038  1.801527   11.545764   \n",
      "40   15.992458   25.004050    46.289910    3442    3456  2.720839   23.144955   \n",
      "41    6.988944    9.008367    28.476903    3611    3620  4.538191   14.238452   \n",
      "\n",
      "         lf_ips       rg_ips  \n",
      "0     28.663214    30.907919  \n",
      "1    126.984376   129.745398  \n",
      "2    143.131275   145.788547  \n",
      "3    233.813360   236.732888  \n",
      "4    394.735249   398.068258  \n",
      "5    488.291211   489.702915  \n",
      "6    580.181204   582.746071  \n",
      "7    714.165892   716.850359  \n",
      "8    839.648194   844.287433  \n",
      "9    958.648761   961.527576  \n",
      "10  1001.376921  1004.399409  \n",
      "11  1010.017129  1013.173982  \n",
      "12  1080.722653  1083.695338  \n",
      "13  1087.414637  1090.029722  \n",
      "14  1113.630146  1115.919153  \n",
      "15  1160.519476  1163.580599  \n",
      "16  1188.055254  1190.398918  \n",
      "17  1254.885751  1257.720233  \n",
      "18  1331.104246  1334.318296  \n",
      "19  1370.432729  1375.026343  \n",
      "20  1452.022771  1455.445258  \n",
      "21  1495.348703  1499.313975  \n",
      "22  1538.207845  1541.875508  \n",
      "23  1583.523885  1587.396472  \n",
      "24  1590.347845  1593.424914  \n",
      "25  1829.947703  1833.881284  \n",
      "26  1838.064663  1840.762655  \n",
      "27  1924.437475  1927.921538  \n",
      "28  2031.029076  2033.642660  \n",
      "29  2185.026118  2188.879490  \n",
      "30  2244.880665  2247.841497  \n",
      "31  2259.099869  2262.719983  \n",
      "32  2269.687050  2273.697808  \n",
      "33  2395.443428  2399.265421  \n",
      "34  2468.026145  2471.042759  \n",
      "35  2603.909541  2606.792589  \n",
      "36  2610.800317  2614.905751  \n",
      "37  2835.101297  2836.676344  \n",
      "38  2892.657400  2896.748866  \n",
      "39  3029.392635  3031.194161  \n",
      "40  3448.204809  3450.925648  \n",
      "41  3611.769401  3616.307593  \n",
      "    peaks   fwhm_centr   rough_sums    centroids     variances       pk_hei  \\\n",
      "0      30    29.785567  1893.942368    29.963695  14133.214332   818.646195   \n",
      "1     128   128.364887  2876.788495   127.767831  11283.211505   720.585627   \n",
      "2     145   144.459911  1278.607977   144.896569  10161.329960   389.571554   \n",
      "3     236   235.273124   462.759320   235.202199  12019.150830   123.425784   \n",
      "4     396   396.401754   630.310441   396.426778  10404.641509   162.845302   \n",
      "5     489   488.997063   249.976688   488.967375   4072.023312   125.089174   \n",
      "6     581   581.463638   430.396173   581.647407   5405.821287   147.276132   \n",
      "7     716   715.508125   222.738094   715.666805   4033.829966    79.006167   \n",
      "8     841   841.967813  2900.206925   841.976062   7873.573309   559.895371   \n",
      "9     960   960.088168   483.773366   960.065118   3335.841582   148.624963   \n",
      "10   1003  1002.888165   769.886444  1002.931019   3458.113556   220.739274   \n",
      "11   1011  1011.595555   246.139531  1011.090936   3193.930817    63.325136   \n",
      "12   1082  1082.208995  2125.483990  1082.200436   4570.516010   657.235129   \n",
      "13   1088  1088.722180   401.081225  1088.105023   2556.918775    97.223236   \n",
      "14   1115  1114.774649   176.695976  1115.022855   1999.057501    67.734059   \n",
      "15   1163  1162.050038   336.295814  1161.943753   2591.560129    85.795902   \n",
      "16   1189  1189.227086   160.747926  1189.208186   1865.322724    64.537729   \n",
      "17   1256  1256.302992   405.106118  1256.297717   2257.095859   134.196651   \n",
      "18   1333  1332.711271  2591.874119  1332.650344   4761.752838   751.356428   \n",
      "19   1372  1372.729536   280.179798  1372.499811   3213.742890    65.116362   \n",
      "20   1454  1453.734014  1344.932670  1453.640093   3338.139458   367.505693   \n",
      "21   1498  1497.331339   583.585709  1497.348693   2898.191988   142.666499   \n",
      "22   1540  1540.041676   709.425445  1539.865159   2764.574555   175.614136   \n",
      "23   1585  1585.460179   338.833600  1586.692586   2496.637384    45.747485   \n",
      "24   1592  1591.886380   345.779231  1591.826779   1952.269003    99.327543   \n",
      "25   1832  1831.914493   472.981339  1832.180142   2007.018661   108.310877   \n",
      "26   1840  1839.413659   319.008013  1839.453015   1418.991987    88.356843   \n",
      "27   1926  1926.179506  6398.833656  1926.124036   7679.166344  1698.898100   \n",
      "28   2032  2032.335868   150.062903  2032.321879    865.937097    39.200234   \n",
      "29   2187  2186.952804  5848.127892  2186.881900   6473.872108  1402.774453   \n",
      "30   2247  2246.361081   170.789713  2246.149438    610.315531    57.090852   \n",
      "31   2262  2260.909926   107.824449  2261.366983    633.663193    25.844698   \n",
      "32   2272  2271.692429   360.400194  2271.722928    921.547003    83.645558   \n",
      "33   2397  2397.354424  3206.949995  2397.267432   3637.050005   777.060380   \n",
      "34   2470  2469.534452   183.362379  2469.277794    470.637621    47.058621   \n",
      "35   2606  2605.351065   131.163569  2605.622131    358.836431    42.782923   \n",
      "36   2613  2612.853034   234.194972  2613.278554    601.805028    33.863911   \n",
      "37   2836  2835.888820    64.091621  2836.315622    177.908379    21.622287   \n",
      "38   2894  2894.703133   397.650084  2894.518455    654.835127    91.256400   \n",
      "39   3030  3030.293398    54.452120  3030.019570    153.547880    23.091528   \n",
      "40   3450  3449.565229   168.356845  3449.403829    291.643155    46.289910   \n",
      "41   3615  3614.038497   124.857782  3614.158312    343.648757    28.476903   \n",
      "\n",
      "        lf_thr      rg_thr       promns  lf_bas  rg_bas    widths      wi_hei  \\\n",
      "0   201.465549  450.836680   818.646195      28      33  2.244704  409.323097   \n",
      "1   359.256221   71.539300   720.585627     100     137  2.761022  360.292813   \n",
      "2     4.276963  247.018556   389.571554     142     151  2.657272  194.785777   \n",
      "3    40.769738   84.205044   123.425784     233     240  2.919528   61.712892   \n",
      "4    70.909899   49.239266   162.845302     392     404  3.333009   81.422651   \n",
      "5    88.241458   88.978919   125.089174     485     493  1.411704   62.544587   \n",
      "6    89.934593    1.069452   147.276132     579     585  2.564867   73.638066   \n",
      "7    15.639623   46.454617    79.006167     713     719  2.684467   39.503084   \n",
      "8   213.926360   11.088422   559.895371     836     850  4.639239  279.947685   \n",
      "9    51.372759   40.677023   148.624963     955     963  2.878815   74.312482   \n",
      "10   40.375893   77.703349   220.739274     990    1008  3.022488  110.369637   \n",
      "11   32.214361    1.787671    63.325136    1008    1016  3.156853   31.662568   \n",
      "12  251.432911  123.634783   657.235129    1073    1101  2.972686  328.617564   \n",
      "13   59.126652   28.889179    69.221096    1086    1101  2.615085   62.612688   \n",
      "14   24.189260   36.845929    67.734059    1112    1117  2.289007   33.867030   \n",
      "15    0.176165   73.885618    85.795902    1152    1166  3.061124   42.897951   \n",
      "16   34.156127   10.853057    64.537729    1186    1191  2.343664   32.268865   \n",
      "17   62.170938   26.847523   134.196651    1253    1261  2.834482   67.098325   \n",
      "18   92.344345  268.763363   751.356428    1328    1338  3.214050  375.678214   \n",
      "19   25.123727    5.880614    65.116362    1369    1376  4.593614   32.558181   \n",
      "20   29.182944  101.857014   367.505693    1449    1459  3.422487  183.752846   \n",
      "21   25.140725   51.889893   142.666499    1494    1503  3.965272   71.333250   \n",
      "22   63.155763   38.866820   175.614136    1534    1573  3.667664   87.807068   \n",
      "23    2.085748   21.928123    45.747485    1583    1588  3.872587   22.873742   \n",
      "24   26.119164   25.897229    99.327543    1588    1597  3.077070   49.663772   \n",
      "25   16.197018   27.833974   108.310877    1816    1845  3.933581   54.155439   \n",
      "26   22.173774   48.880461    74.557849    1836    1845  2.697992   51.077919   \n",
      "27  468.438806  262.626878  1698.898100    1916    1933  3.484062  849.449050   \n",
      "28   20.187085    6.828505    39.200234    2028    2037  2.613583   19.600117   \n",
      "29  223.650380  221.450518  1402.774453    2177    2193  3.853372  701.387226   \n",
      "30   27.132936   33.922184    57.090852    2242    2250  2.960832   28.545426   \n",
      "31    8.081059   17.948122    25.844698    2257    2267  3.620114   12.922349   \n",
      "32    7.173466   18.857337    83.645558    2267    2276  4.010758   41.822779   \n",
      "33  263.219632   21.786446   777.060380    2389    2404  3.821993  388.530190   \n",
      "34    3.040656   22.974186    47.058621    2460    2481  3.016614   23.529310   \n",
      "35   20.020247   26.989344    42.782923    2600    2624  2.883048   21.391462   \n",
      "36    1.017050    4.984726    28.063228    2608    2624  4.105433   19.832298   \n",
      "37   12.029719   15.984690    21.622287    2831    2842  1.575047   10.811143   \n",
      "38   36.028978   12.974715    91.256400    2889    2899  4.091466   45.628200   \n",
      "39   19.009584    9.993320    23.091528    3021    3038  1.801527   11.545764   \n",
      "40   15.992458   25.004050    46.289910    3442    3456  2.720839   23.144955   \n",
      "41    6.988944    9.008367    28.476903    3611    3620  4.538191   14.238452   \n",
      "\n",
      "         lf_ips       rg_ips  engy_pk_det  \n",
      "0     28.663214    30.907919    16.318529  \n",
      "1    126.984376   129.745398    76.080802  \n",
      "2    143.131275   145.788547    86.547152  \n",
      "3    233.813360   236.732888   141.727537  \n",
      "4    394.735249   398.068258   240.242260  \n",
      "5    488.291211   489.702915   296.788299  \n",
      "6    580.181204   582.746071   353.419539  \n",
      "7    714.165892   716.850359   435.310799  \n",
      "8    839.648194   844.287433   512.490852  \n",
      "9    958.648761   961.527576   584.648031  \n",
      "10  1001.376921  1004.399409   610.840826  \n",
      "11  1010.017129  1013.173982   615.826865  \n",
      "12  1080.722653  1083.695338   659.277639  \n",
      "13  1087.414637  1090.029722   662.885580  \n",
      "14  1113.630146  1115.919153   679.333462  \n",
      "15  1160.519476  1163.580599   708.004023  \n",
      "16  1188.055254  1190.398918   724.663692  \n",
      "17  1254.885751  1257.720233   765.658103  \n",
      "18  1331.104246  1334.318296   812.312639  \n",
      "19  1370.432729  1375.026343   836.662272  \n",
      "20  1452.022771  1455.445258   886.242259  \n",
      "21  1495.348703  1499.313975   912.949977  \n",
      "22  1538.207845  1541.875508   938.929253  \n",
      "23  1583.523885  1587.396472   967.542701  \n",
      "24  1590.347845  1593.424914   970.679900  \n",
      "25  1829.947703  1833.881284  1117.545503  \n",
      "26  1838.064663  1840.762655  1121.989523  \n",
      "27  1924.437475  1927.921538  1174.949014  \n",
      "28  2031.029076  2033.642660  1239.840182  \n",
      "29  2185.026118  2188.879490  1334.282592  \n",
      "30  2244.880665  2247.841497  1370.497449  \n",
      "31  2259.099869  2262.719983  1379.795983  \n",
      "32  2269.687050  2273.697808  1386.123883  \n",
      "33  2395.443428  2399.265421  1462.836641  \n",
      "34  2468.026145  2471.042759  1506.837879  \n",
      "35  2603.909541  2606.792589  1590.149770  \n",
      "36  2610.800317  2614.905751  1594.828154  \n",
      "37  2835.101297  2836.676344  1731.112803  \n",
      "38  2892.657400  2896.748866  1766.677082  \n",
      "39  3029.392635  3031.194161  1849.473732  \n",
      "40  3448.204809  3450.925648  2105.734437  \n",
      "41  3611.769401  3616.307593  2206.406075  \n"
     ]
    }
   ],
   "source": [],
   "metadata": {
    "collapsed": false,
    "ExecuteTime": {
     "end_time": "2023-10-24T17:40:45.604217397Z",
     "start_time": "2023-10-24T17:40:45.550300977Z"
    }
   }
  },
  {
   "cell_type": "code",
   "execution_count": null,
   "outputs": [],
   "source": [],
   "metadata": {
    "collapsed": false,
    "ExecuteTime": {
     "start_time": "2023-10-24T17:40:33.087715958Z"
    }
   }
  },
  {
   "cell_type": "code",
   "execution_count": null,
   "outputs": [],
   "source": [
    "# 2023-Oct-24: FIX\n",
    "# Integrate what follows here"
   ],
   "metadata": {
    "collapsed": false
   }
  },
  {
   "cell_type": "code",
   "execution_count": null,
   "outputs": [],
   "source": [],
   "metadata": {
    "collapsed": false
   }
  },
  {
   "cell_type": "code",
   "execution_count": 8,
   "outputs": [],
   "source": [
    "analysis_df.reset_index(drop=True, inplace=True)"
   ],
   "metadata": {
    "collapsed": false
   }
  },
  {
   "cell_type": "code",
   "execution_count": 9,
   "outputs": [],
   "source": [
    "analysis_df['test'] = analysis_df['decay_%']*analysis_df['intensity']/100"
   ],
   "metadata": {
    "collapsed": false
   }
  },
  {
   "cell_type": "code",
   "execution_count": 12,
   "outputs": [
    {
     "execution_count": 12,
     "output_type": "execute_result",
     "data": {
      "text/html": "<div>\n<style scoped>\n    .dataframe tbody tr th:only-of-type {\n        vertical-align: middle;\n    }\n\n    .dataframe tbody tr th {\n        vertical-align: top;\n    }\n\n    .dataframe thead th {\n        text-align: right;\n    }\n</style>\n<table border=\"1\" class=\"dataframe\">\n  <thead>\n    <tr style=\"text-align: right;\">\n      <th></th>\n      <th>nuclide_name</th>\n      <th>centroids</th>\n      <th>rough_sums</th>\n      <th>variances</th>\n      <th>recalib_energy</th>\n      <th>energy</th>\n      <th>intensity</th>\n      <th>unc_i</th>\n      <th>decay_%</th>\n      <th>is_key_gamma</th>\n      <th>nuclide_name</th>\n      <th>disintegr</th>\n      <th>activity_conc</th>\n      <th>test</th>\n    </tr>\n  </thead>\n  <tbody>\n    <tr>\n      <th>0</th>\n      <td>212Pb</td>\n      <td>396.426778</td>\n      <td>630.310441</td>\n      <td>10404.641509</td>\n      <td>238.770932</td>\n      <td>238.6320</td>\n      <td>43.60000</td>\n      <td>0.5307178534777213</td>\n      <td>100.000</td>\n      <td>True</td>\n      <td>212Pb</td>\n      <td>7.324243e+04</td>\n      <td>14.648486</td>\n      <td>43.600000</td>\n    </tr>\n    <tr>\n      <th>1</th>\n      <td>214Pb</td>\n      <td>488.967375</td>\n      <td>249.976688</td>\n      <td>4072.023312</td>\n      <td>295.305981</td>\n      <td>295.2240</td>\n      <td>18.47088</td>\n      <td>0.11249527437185973</td>\n      <td>100.000</td>\n      <td>False</td>\n      <td>214Pb</td>\n      <td>8.502770e+04</td>\n      <td>17.005540</td>\n      <td>18.470880</td>\n    </tr>\n    <tr>\n      <th>2</th>\n      <td>214Pb</td>\n      <td>581.647407</td>\n      <td>430.396173</td>\n      <td>5405.821287</td>\n      <td>351.925344</td>\n      <td>351.9320</td>\n      <td>35.72370</td>\n      <td>0.2352736185805795</td>\n      <td>100.000</td>\n      <td>True</td>\n      <td>214Pb</td>\n      <td>8.929519e+04</td>\n      <td>17.859037</td>\n      <td>35.723700</td>\n    </tr>\n    <tr>\n      <th>3</th>\n      <td>208Tl</td>\n      <td>960.065118</td>\n      <td>483.773366</td>\n      <td>3335.841582</td>\n      <td>583.096300</td>\n      <td>583.1870</td>\n      <td>85.00000</td>\n      <td>0.3</td>\n      <td>100.000</td>\n      <td>True</td>\n      <td>208Tl</td>\n      <td>6.280187e+04</td>\n      <td>12.560374</td>\n      <td>85.000000</td>\n    </tr>\n    <tr>\n      <th>4</th>\n      <td>214Bi</td>\n      <td>1002.931019</td>\n      <td>769.886444</td>\n      <td>3458.113556</td>\n      <td>609.281662</td>\n      <td>609.3210</td>\n      <td>45.44000</td>\n      <td>0.19</td>\n      <td>99.979</td>\n      <td>True</td>\n      <td>214Bi</td>\n      <td>1.925320e+05</td>\n      <td>38.506404</td>\n      <td>45.430458</td>\n    </tr>\n    <tr>\n      <th>5</th>\n      <td>110ag</td>\n      <td>1082.200436</td>\n      <td>2125.483990</td>\n      <td>4570.516010</td>\n      <td>657.704238</td>\n      <td>657.7600</td>\n      <td>95.61000</td>\n      <td>0.09</td>\n      <td>98.670</td>\n      <td>True</td>\n      <td>110ag</td>\n      <td>2.655030e+05</td>\n      <td>53.100602</td>\n      <td>94.338387</td>\n    </tr>\n    <tr>\n      <th>6</th>\n      <td>137cs</td>\n      <td>1088.105023</td>\n      <td>401.081225</td>\n      <td>2556.918775</td>\n      <td>661.311093</td>\n      <td>661.6570</td>\n      <td>85.10000</td>\n      <td>0.2</td>\n      <td>100.000</td>\n      <td>True</td>\n      <td>137cs</td>\n      <td>5.650064e+04</td>\n      <td>11.300127</td>\n      <td>85.100000</td>\n    </tr>\n    <tr>\n      <th>7</th>\n      <td>110ag</td>\n      <td>1115.022855</td>\n      <td>176.695976</td>\n      <td>1999.057501</td>\n      <td>677.753980</td>\n      <td>677.6217</td>\n      <td>10.70000</td>\n      <td>0.05</td>\n      <td>98.670</td>\n      <td>False</td>\n      <td>110ag</td>\n      <td>2.009797e+05</td>\n      <td>40.195943</td>\n      <td>10.557690</td>\n    </tr>\n    <tr>\n      <th>8</th>\n      <td>110ag</td>\n      <td>1161.943753</td>\n      <td>336.295814</td>\n      <td>2591.560129</td>\n      <td>706.415658</td>\n      <td>706.6760</td>\n      <td>16.69000</td>\n      <td>0.07</td>\n      <td>98.670</td>\n      <td>False</td>\n      <td>110ag</td>\n      <td>2.517501e+05</td>\n      <td>50.350025</td>\n      <td>16.468023</td>\n    </tr>\n    <tr>\n      <th>9</th>\n      <td>131i</td>\n      <td>1189.208186</td>\n      <td>160.747926</td>\n      <td>1865.322724</td>\n      <td>723.070063</td>\n      <td>722.9110</td>\n      <td>1.76855</td>\n      <td>0.026749</td>\n      <td>100.000</td>\n      <td>False</td>\n      <td>131i</td>\n      <td>1.151661e+06</td>\n      <td>230.332119</td>\n      <td>1.768550</td>\n    </tr>\n    <tr>\n      <th>10</th>\n      <td>110ag</td>\n      <td>1256.297717</td>\n      <td>405.106118</td>\n      <td>2257.095859</td>\n      <td>764.051198</td>\n      <td>763.9424</td>\n      <td>22.60000</td>\n      <td>0.07</td>\n      <td>98.670</td>\n      <td>False</td>\n      <td>110ag</td>\n      <td>2.349020e+05</td>\n      <td>46.980399</td>\n      <td>22.299420</td>\n    </tr>\n    <tr>\n      <th>11</th>\n      <td>58co</td>\n      <td>1332.650344</td>\n      <td>2591.874119</td>\n      <td>4761.752838</td>\n      <td>810.690071</td>\n      <td>810.7593</td>\n      <td>99.45000</td>\n      <td>0.01</td>\n      <td>100.000</td>\n      <td>True</td>\n      <td>58co</td>\n      <td>3.539912e+05</td>\n      <td>70.798230</td>\n      <td>99.450000</td>\n    </tr>\n    <tr>\n      <th>12</th>\n      <td>54mn</td>\n      <td>1372.499811</td>\n      <td>280.179798</td>\n      <td>3213.742890</td>\n      <td>835.031294</td>\n      <td>834.8480</td>\n      <td>99.97600</td>\n      <td>0.001</td>\n      <td>100.000</td>\n      <td>True</td>\n      <td>54mn</td>\n      <td>3.873793e+04</td>\n      <td>7.747586</td>\n      <td>99.976000</td>\n    </tr>\n    <tr>\n      <th>13</th>\n      <td>110ag</td>\n      <td>1453.640093</td>\n      <td>1344.932670</td>\n      <td>3338.139458</td>\n      <td>884.593659</td>\n      <td>884.6781</td>\n      <td>75.00000</td>\n      <td>1.1</td>\n      <td>98.670</td>\n      <td>False</td>\n      <td>110ag</td>\n      <td>2.566186e+05</td>\n      <td>51.323719</td>\n      <td>74.002500</td>\n    </tr>\n    <tr>\n      <th>14</th>\n      <td>228Ac</td>\n      <td>1497.348693</td>\n      <td>583.585709</td>\n      <td>2898.191988</td>\n      <td>911.291608</td>\n      <td>911.2040</td>\n      <td>25.80000</td>\n      <td>0.4</td>\n      <td>100.000</td>\n      <td>False</td>\n      <td>228Ac</td>\n      <td>3.294775e+05</td>\n      <td>65.895503</td>\n      <td>25.800000</td>\n    </tr>\n    <tr>\n      <th>15</th>\n      <td>110ag</td>\n      <td>1539.865159</td>\n      <td>709.425445</td>\n      <td>2764.574555</td>\n      <td>937.261197</td>\n      <td>937.4850</td>\n      <td>35.00000</td>\n      <td>0.3</td>\n      <td>98.670</td>\n      <td>False</td>\n      <td>110ag</td>\n      <td>3.003424e+05</td>\n      <td>60.068488</td>\n      <td>34.534500</td>\n    </tr>\n    <tr>\n      <th>16</th>\n      <td>228Ac</td>\n      <td>1591.826779</td>\n      <td>345.779231</td>\n      <td>1952.269003</td>\n      <td>968.999754</td>\n      <td>968.9710</td>\n      <td>15.80000</td>\n      <td>0.3</td>\n      <td>100.000</td>\n      <td>False</td>\n      <td>228Ac</td>\n      <td>3.308437e+05</td>\n      <td>66.168749</td>\n      <td>15.800000</td>\n    </tr>\n    <tr>\n      <th>17</th>\n      <td>65zn</td>\n      <td>1832.180142</td>\n      <td>472.981339</td>\n      <td>2007.018661</td>\n      <td>1115.805873</td>\n      <td>1115.5390</td>\n      <td>50.04000</td>\n      <td>0.1</td>\n      <td>100.000</td>\n      <td>True</td>\n      <td>65zn</td>\n      <td>1.561311e+05</td>\n      <td>31.226226</td>\n      <td>50.040000</td>\n    </tr>\n    <tr>\n      <th>18</th>\n      <td>214Bi</td>\n      <td>1839.453015</td>\n      <td>319.008013</td>\n      <td>1418.991987</td>\n      <td>1120.248001</td>\n      <td>1120.2940</td>\n      <td>14.90000</td>\n      <td>0.08</td>\n      <td>99.979</td>\n      <td>False</td>\n      <td>214Bi</td>\n      <td>3.546413e+05</td>\n      <td>70.928257</td>\n      <td>14.896871</td>\n    </tr>\n    <tr>\n      <th>19</th>\n      <td>60co</td>\n      <td>1926.124036</td>\n      <td>6398.833656</td>\n      <td>7679.166344</td>\n      <td>1173.184541</td>\n      <td>1173.2280</td>\n      <td>99.85000</td>\n      <td>0.03</td>\n      <td>100.000</td>\n      <td>False</td>\n      <td>60co</td>\n      <td>1.094768e+06</td>\n      <td>218.953530</td>\n      <td>99.850000</td>\n    </tr>\n    <tr>\n      <th>20</th>\n      <td>214Bi</td>\n      <td>2032.321879</td>\n      <td>150.062903</td>\n      <td>865.937097</td>\n      <td>1238.046548</td>\n      <td>1238.1220</td>\n      <td>5.83000</td>\n      <td>0.03</td>\n      <td>99.979</td>\n      <td>False</td>\n      <td>214Bi</td>\n      <td>4.565165e+05</td>\n      <td>91.303296</td>\n      <td>5.828776</td>\n    </tr>\n    <tr>\n      <th>21</th>\n      <td>60co</td>\n      <td>2186.881900</td>\n      <td>5848.127892</td>\n      <td>6473.872108</td>\n      <td>1332.444474</td>\n      <td>1332.4920</td>\n      <td>99.98260</td>\n      <td>0.0006</td>\n      <td>100.000</td>\n      <td>True</td>\n      <td>60co</td>\n      <td>1.095400e+06</td>\n      <td>219.080004</td>\n      <td>99.982600</td>\n    </tr>\n    <tr>\n      <th>22</th>\n      <td>24na</td>\n      <td>2246.149438</td>\n      <td>170.789713</td>\n      <td>610.315531</td>\n      <td>1368.641631</td>\n      <td>1368.6250</td>\n      <td>99.99400</td>\n      <td>0.002</td>\n      <td>100.000</td>\n      <td>True</td>\n      <td>24na</td>\n      <td>3.266259e+04</td>\n      <td>6.532518</td>\n      <td>99.994000</td>\n    </tr>\n    <tr>\n      <th>23</th>\n      <td>214Bi</td>\n      <td>2261.366983</td>\n      <td>107.824449</td>\n      <td>633.663193</td>\n      <td>1377.935563</td>\n      <td>1377.6690</td>\n      <td>3.98500</td>\n      <td>0.022</td>\n      <td>99.979</td>\n      <td>False</td>\n      <td>214Bi</td>\n      <td>5.201526e+05</td>\n      <td>104.030525</td>\n      <td>3.984163</td>\n    </tr>\n    <tr>\n      <th>24</th>\n      <td>110ag</td>\n      <td>2271.722928</td>\n      <td>360.400194</td>\n      <td>921.547003</td>\n      <td>1384.260317</td>\n      <td>1384.2931</td>\n      <td>25.10000</td>\n      <td>0.5</td>\n      <td>98.670</td>\n      <td>False</td>\n      <td>110ag</td>\n      <td>2.770920e+05</td>\n      <td>55.418405</td>\n      <td>24.766170</td>\n    </tr>\n    <tr>\n      <th>25</th>\n      <td>40k</td>\n      <td>2397.267432</td>\n      <td>3206.949995</td>\n      <td>3637.050005</td>\n      <td>1460.934079</td>\n      <td>1460.8200</td>\n      <td>10.66000</td>\n      <td>0.13</td>\n      <td>10.720</td>\n      <td>True</td>\n      <td>40k</td>\n      <td>6.071168e+06</td>\n      <td>1214.233593</td>\n      <td>1.142752</td>\n    </tr>\n    <tr>\n      <th>26</th>\n      <td>110ag</td>\n      <td>2469.277794</td>\n      <td>183.362379</td>\n      <td>470.637621</td>\n      <td>1504.912228</td>\n      <td>1505.0280</td>\n      <td>13.33000</td>\n      <td>0.15</td>\n      <td>98.670</td>\n      <td>False</td>\n      <td>110ag</td>\n      <td>2.849450e+05</td>\n      <td>56.989002</td>\n      <td>13.152711</td>\n    </tr>\n    <tr>\n      <th>27</th>\n      <td>228Ac</td>\n      <td>2605.622131</td>\n      <td>131.163569</td>\n      <td>358.836431</td>\n      <td>1588.178962</td>\n      <td>1588.2000</td>\n      <td>3.22000</td>\n      <td>0.08</td>\n      <td>100.000</td>\n      <td>False</td>\n      <td>228Ac</td>\n      <td>8.869047e+05</td>\n      <td>177.380940</td>\n      <td>3.220000</td>\n    </tr>\n    <tr>\n      <th>28</th>\n      <td>214Bi</td>\n      <td>2894.518455</td>\n      <td>397.650084</td>\n      <td>654.835127</td>\n      <td>1764.604363</td>\n      <td>1764.4910</td>\n      <td>15.29000</td>\n      <td>0.08</td>\n      <td>99.979</td>\n      <td>False</td>\n      <td>214Bi</td>\n      <td>6.315313e+05</td>\n      <td>126.306270</td>\n      <td>15.286789</td>\n    </tr>\n    <tr>\n      <th>29</th>\n      <td>214Bi</td>\n      <td>3030.019570</td>\n      <td>54.452120</td>\n      <td>153.547880</td>\n      <td>1847.350296</td>\n      <td>1847.4330</td>\n      <td>2.02700</td>\n      <td>0.016</td>\n      <td>99.979</td>\n      <td>False</td>\n      <td>214Bi</td>\n      <td>6.879376e+05</td>\n      <td>137.587513</td>\n      <td>2.026574</td>\n    </tr>\n    <tr>\n      <th>30</th>\n      <td>214Bi</td>\n      <td>3614.158312</td>\n      <td>124.857782</td>\n      <td>343.648757</td>\n      <td>2204.042692</td>\n      <td>2204.1000</td>\n      <td>4.92000</td>\n      <td>0.03</td>\n      <td>99.979</td>\n      <td>False</td>\n      <td>214Bi</td>\n      <td>8.285796e+05</td>\n      <td>165.715924</td>\n      <td>4.918967</td>\n    </tr>\n  </tbody>\n</table>\n</div>",
      "text/plain": "   nuclide_name    centroids   rough_sums     variances  recalib_energy  \\\n0         212Pb   396.426778   630.310441  10404.641509      238.770932   \n1         214Pb   488.967375   249.976688   4072.023312      295.305981   \n2         214Pb   581.647407   430.396173   5405.821287      351.925344   \n3         208Tl   960.065118   483.773366   3335.841582      583.096300   \n4         214Bi  1002.931019   769.886444   3458.113556      609.281662   \n5         110ag  1082.200436  2125.483990   4570.516010      657.704238   \n6         137cs  1088.105023   401.081225   2556.918775      661.311093   \n7         110ag  1115.022855   176.695976   1999.057501      677.753980   \n8         110ag  1161.943753   336.295814   2591.560129      706.415658   \n9          131i  1189.208186   160.747926   1865.322724      723.070063   \n10        110ag  1256.297717   405.106118   2257.095859      764.051198   \n11         58co  1332.650344  2591.874119   4761.752838      810.690071   \n12         54mn  1372.499811   280.179798   3213.742890      835.031294   \n13        110ag  1453.640093  1344.932670   3338.139458      884.593659   \n14        228Ac  1497.348693   583.585709   2898.191988      911.291608   \n15        110ag  1539.865159   709.425445   2764.574555      937.261197   \n16        228Ac  1591.826779   345.779231   1952.269003      968.999754   \n17         65zn  1832.180142   472.981339   2007.018661     1115.805873   \n18        214Bi  1839.453015   319.008013   1418.991987     1120.248001   \n19         60co  1926.124036  6398.833656   7679.166344     1173.184541   \n20        214Bi  2032.321879   150.062903    865.937097     1238.046548   \n21         60co  2186.881900  5848.127892   6473.872108     1332.444474   \n22         24na  2246.149438   170.789713    610.315531     1368.641631   \n23        214Bi  2261.366983   107.824449    633.663193     1377.935563   \n24        110ag  2271.722928   360.400194    921.547003     1384.260317   \n25          40k  2397.267432  3206.949995   3637.050005     1460.934079   \n26        110ag  2469.277794   183.362379    470.637621     1504.912228   \n27        228Ac  2605.622131   131.163569    358.836431     1588.178962   \n28        214Bi  2894.518455   397.650084    654.835127     1764.604363   \n29        214Bi  3030.019570    54.452120    153.547880     1847.350296   \n30        214Bi  3614.158312   124.857782    343.648757     2204.042692   \n\n       energy  intensity                unc_i  decay_% is_key_gamma  \\\n0    238.6320   43.60000   0.5307178534777213  100.000         True   \n1    295.2240   18.47088  0.11249527437185973  100.000        False   \n2    351.9320   35.72370   0.2352736185805795  100.000         True   \n3    583.1870   85.00000                  0.3  100.000         True   \n4    609.3210   45.44000                 0.19   99.979         True   \n5    657.7600   95.61000                 0.09   98.670         True   \n6    661.6570   85.10000                  0.2  100.000         True   \n7    677.6217   10.70000                 0.05   98.670        False   \n8    706.6760   16.69000                 0.07   98.670        False   \n9    722.9110    1.76855             0.026749  100.000        False   \n10   763.9424   22.60000                 0.07   98.670        False   \n11   810.7593   99.45000                 0.01  100.000         True   \n12   834.8480   99.97600                0.001  100.000         True   \n13   884.6781   75.00000                  1.1   98.670        False   \n14   911.2040   25.80000                  0.4  100.000        False   \n15   937.4850   35.00000                  0.3   98.670        False   \n16   968.9710   15.80000                  0.3  100.000        False   \n17  1115.5390   50.04000                  0.1  100.000         True   \n18  1120.2940   14.90000                 0.08   99.979        False   \n19  1173.2280   99.85000                 0.03  100.000        False   \n20  1238.1220    5.83000                 0.03   99.979        False   \n21  1332.4920   99.98260               0.0006  100.000         True   \n22  1368.6250   99.99400                0.002  100.000         True   \n23  1377.6690    3.98500                0.022   99.979        False   \n24  1384.2931   25.10000                  0.5   98.670        False   \n25  1460.8200   10.66000                 0.13   10.720         True   \n26  1505.0280   13.33000                 0.15   98.670        False   \n27  1588.2000    3.22000                 0.08  100.000        False   \n28  1764.4910   15.29000                 0.08   99.979        False   \n29  1847.4330    2.02700                0.016   99.979        False   \n30  2204.1000    4.92000                 0.03   99.979        False   \n\n   nuclide_name     disintegr  activity_conc       test  \n0         212Pb  7.324243e+04      14.648486  43.600000  \n1         214Pb  8.502770e+04      17.005540  18.470880  \n2         214Pb  8.929519e+04      17.859037  35.723700  \n3         208Tl  6.280187e+04      12.560374  85.000000  \n4         214Bi  1.925320e+05      38.506404  45.430458  \n5         110ag  2.655030e+05      53.100602  94.338387  \n6         137cs  5.650064e+04      11.300127  85.100000  \n7         110ag  2.009797e+05      40.195943  10.557690  \n8         110ag  2.517501e+05      50.350025  16.468023  \n9          131i  1.151661e+06     230.332119   1.768550  \n10        110ag  2.349020e+05      46.980399  22.299420  \n11         58co  3.539912e+05      70.798230  99.450000  \n12         54mn  3.873793e+04       7.747586  99.976000  \n13        110ag  2.566186e+05      51.323719  74.002500  \n14        228Ac  3.294775e+05      65.895503  25.800000  \n15        110ag  3.003424e+05      60.068488  34.534500  \n16        228Ac  3.308437e+05      66.168749  15.800000  \n17         65zn  1.561311e+05      31.226226  50.040000  \n18        214Bi  3.546413e+05      70.928257  14.896871  \n19         60co  1.094768e+06     218.953530  99.850000  \n20        214Bi  4.565165e+05      91.303296   5.828776  \n21         60co  1.095400e+06     219.080004  99.982600  \n22         24na  3.266259e+04       6.532518  99.994000  \n23        214Bi  5.201526e+05     104.030525   3.984163  \n24        110ag  2.770920e+05      55.418405  24.766170  \n25          40k  6.071168e+06    1214.233593   1.142752  \n26        110ag  2.849450e+05      56.989002  13.152711  \n27        228Ac  8.869047e+05     177.380940   3.220000  \n28        214Bi  6.315313e+05     126.306270  15.286789  \n29        214Bi  6.879376e+05     137.587513   2.026574  \n30        214Bi  8.285796e+05     165.715924   4.918967  "
     },
     "metadata": {}
    }
   ],
   "source": [
    "analysis_df"
   ],
   "metadata": {
    "collapsed": false
   }
  },
  {
   "cell_type": "code",
   "execution_count": 18,
   "outputs": [
    {
     "execution_count": 18,
     "output_type": "execute_result",
     "data": {
      "text/html": "<div>\n<style scoped>\n    .dataframe tbody tr th:only-of-type {\n        vertical-align: middle;\n    }\n\n    .dataframe tbody tr th {\n        vertical-align: top;\n    }\n\n    .dataframe thead th {\n        text-align: right;\n    }\n</style>\n<table border=\"1\" class=\"dataframe\">\n  <thead>\n    <tr style=\"text-align: right;\">\n      <th></th>\n      <th>nuclide_name</th>\n      <th>centroids</th>\n      <th>rough_sums</th>\n      <th>variances</th>\n      <th>recalib_energy</th>\n      <th>energy</th>\n      <th>intensity</th>\n      <th>unc_i</th>\n      <th>decay_%</th>\n      <th>is_key_gamma</th>\n      <th>nuclide_name</th>\n      <th>disintegr</th>\n      <th>activity_conc</th>\n      <th>test</th>\n    </tr>\n  </thead>\n  <tbody>\n    <tr>\n      <th>nuclide_name</th>\n      <td>NaN</td>\n      <td>NaN</td>\n      <td>NaN</td>\n      <td>NaN</td>\n      <td>NaN</td>\n      <td>NaN</td>\n      <td>NaN</td>\n      <td>NaN</td>\n      <td>NaN</td>\n      <td>NaN</td>\n      <td>NaN</td>\n      <td>NaN</td>\n      <td>NaN</td>\n      <td>NaN</td>\n    </tr>\n  </tbody>\n</table>\n</div>",
      "text/plain": "             nuclide_name  centroids  rough_sums  variances  recalib_energy  \\\nnuclide_name          NaN        NaN         NaN        NaN             NaN   \n\n              energy  intensity unc_i  decay_% is_key_gamma nuclide_name  \\\nnuclide_name     NaN        NaN   NaN      NaN          NaN          NaN   \n\n              disintegr  activity_conc  test  \nnuclide_name        NaN            NaN   NaN  "
     },
     "metadata": {}
    }
   ],
   "source": [
    "analysis_df.reindex(['nuclide_name'])"
   ],
   "metadata": {
    "collapsed": false
   }
  },
  {
   "cell_type": "code",
   "execution_count": 15,
   "outputs": [
    {
     "ename": "ValueError",
     "evalue": "Index data must be 1-dimensional",
     "output_type": "error",
     "traceback": [
      "\u001B[0;31m---------------------------------------------------------------------------\u001B[0m",
      "\u001B[0;31mValueError\u001B[0m                                Traceback (most recent call last)",
      "Cell \u001B[0;32mIn[15], line 3\u001B[0m\n\u001B[1;32m      1\u001B[0m \u001B[38;5;66;03m# d5_where = d5.where(d5.nuclide_name==\"110ag\")\u001B[39;00m\n\u001B[1;32m      2\u001B[0m \u001B[38;5;66;03m# d5_where\u001B[39;00m\n\u001B[0;32m----> 3\u001B[0m d5_loc \u001B[38;5;241m=\u001B[39m \u001B[43manalysis_df\u001B[49m\u001B[38;5;241;43m.\u001B[39;49m\u001B[43mloc\u001B[49m\u001B[43m[\u001B[49m\u001B[43m[\u001B[49m\u001B[43manalysis_df\u001B[49m\u001B[38;5;241;43m.\u001B[39;49m\u001B[43mnuclide_name\u001B[49m\u001B[38;5;241;43m==\u001B[39;49m\u001B[38;5;124;43m\"\u001B[39;49m\u001B[38;5;124;43m110ag\u001B[39;49m\u001B[38;5;124;43m\"\u001B[39;49m\u001B[43m]\u001B[49m\u001B[43m]\u001B[49m\n\u001B[1;32m      4\u001B[0m d5_loc\n",
      "File \u001B[0;32m~/ogrsp_in_github/venv/lib/python3.11/lib/python3.11/site-packages/pandas/core/indexing.py:1073\u001B[0m, in \u001B[0;36m_LocationIndexer.__getitem__\u001B[0;34m(self, key)\u001B[0m\n\u001B[1;32m   1070\u001B[0m axis \u001B[38;5;241m=\u001B[39m \u001B[38;5;28mself\u001B[39m\u001B[38;5;241m.\u001B[39maxis \u001B[38;5;129;01mor\u001B[39;00m \u001B[38;5;241m0\u001B[39m\n\u001B[1;32m   1072\u001B[0m maybe_callable \u001B[38;5;241m=\u001B[39m com\u001B[38;5;241m.\u001B[39mapply_if_callable(key, \u001B[38;5;28mself\u001B[39m\u001B[38;5;241m.\u001B[39mobj)\n\u001B[0;32m-> 1073\u001B[0m \u001B[38;5;28;01mreturn\u001B[39;00m \u001B[38;5;28;43mself\u001B[39;49m\u001B[38;5;241;43m.\u001B[39;49m\u001B[43m_getitem_axis\u001B[49m\u001B[43m(\u001B[49m\u001B[43mmaybe_callable\u001B[49m\u001B[43m,\u001B[49m\u001B[43m \u001B[49m\u001B[43maxis\u001B[49m\u001B[38;5;241;43m=\u001B[39;49m\u001B[43maxis\u001B[49m\u001B[43m)\u001B[49m\n",
      "File \u001B[0;32m~/ogrsp_in_github/venv/lib/python3.11/lib/python3.11/site-packages/pandas/core/indexing.py:1301\u001B[0m, in \u001B[0;36m_LocIndexer._getitem_axis\u001B[0;34m(self, key, axis)\u001B[0m\n\u001B[1;32m   1298\u001B[0m     \u001B[38;5;28;01mif\u001B[39;00m \u001B[38;5;28mhasattr\u001B[39m(key, \u001B[38;5;124m\"\u001B[39m\u001B[38;5;124mndim\u001B[39m\u001B[38;5;124m\"\u001B[39m) \u001B[38;5;129;01mand\u001B[39;00m key\u001B[38;5;241m.\u001B[39mndim \u001B[38;5;241m>\u001B[39m \u001B[38;5;241m1\u001B[39m:\n\u001B[1;32m   1299\u001B[0m         \u001B[38;5;28;01mraise\u001B[39;00m \u001B[38;5;167;01mValueError\u001B[39;00m(\u001B[38;5;124m\"\u001B[39m\u001B[38;5;124mCannot index with multidimensional key\u001B[39m\u001B[38;5;124m\"\u001B[39m)\n\u001B[0;32m-> 1301\u001B[0m     \u001B[38;5;28;01mreturn\u001B[39;00m \u001B[38;5;28;43mself\u001B[39;49m\u001B[38;5;241;43m.\u001B[39;49m\u001B[43m_getitem_iterable\u001B[49m\u001B[43m(\u001B[49m\u001B[43mkey\u001B[49m\u001B[43m,\u001B[49m\u001B[43m \u001B[49m\u001B[43maxis\u001B[49m\u001B[38;5;241;43m=\u001B[39;49m\u001B[43maxis\u001B[49m\u001B[43m)\u001B[49m\n\u001B[1;32m   1303\u001B[0m \u001B[38;5;66;03m# nested tuple slicing\u001B[39;00m\n\u001B[1;32m   1304\u001B[0m \u001B[38;5;28;01mif\u001B[39;00m is_nested_tuple(key, labels):\n",
      "File \u001B[0;32m~/ogrsp_in_github/venv/lib/python3.11/lib/python3.11/site-packages/pandas/core/indexing.py:1239\u001B[0m, in \u001B[0;36m_LocIndexer._getitem_iterable\u001B[0;34m(self, key, axis)\u001B[0m\n\u001B[1;32m   1236\u001B[0m \u001B[38;5;28mself\u001B[39m\u001B[38;5;241m.\u001B[39m_validate_key(key, axis)\n\u001B[1;32m   1238\u001B[0m \u001B[38;5;66;03m# A collection of keys\u001B[39;00m\n\u001B[0;32m-> 1239\u001B[0m keyarr, indexer \u001B[38;5;241m=\u001B[39m \u001B[38;5;28;43mself\u001B[39;49m\u001B[38;5;241;43m.\u001B[39;49m\u001B[43m_get_listlike_indexer\u001B[49m\u001B[43m(\u001B[49m\u001B[43mkey\u001B[49m\u001B[43m,\u001B[49m\u001B[43m \u001B[49m\u001B[43maxis\u001B[49m\u001B[43m)\u001B[49m\n\u001B[1;32m   1240\u001B[0m \u001B[38;5;28;01mreturn\u001B[39;00m \u001B[38;5;28mself\u001B[39m\u001B[38;5;241m.\u001B[39mobj\u001B[38;5;241m.\u001B[39m_reindex_with_indexers(\n\u001B[1;32m   1241\u001B[0m     {axis: [keyarr, indexer]}, copy\u001B[38;5;241m=\u001B[39m\u001B[38;5;28;01mTrue\u001B[39;00m, allow_dups\u001B[38;5;241m=\u001B[39m\u001B[38;5;28;01mTrue\u001B[39;00m\n\u001B[1;32m   1242\u001B[0m )\n",
      "File \u001B[0;32m~/ogrsp_in_github/venv/lib/python3.11/lib/python3.11/site-packages/pandas/core/indexing.py:1432\u001B[0m, in \u001B[0;36m_LocIndexer._get_listlike_indexer\u001B[0;34m(self, key, axis)\u001B[0m\n\u001B[1;32m   1429\u001B[0m ax \u001B[38;5;241m=\u001B[39m \u001B[38;5;28mself\u001B[39m\u001B[38;5;241m.\u001B[39mobj\u001B[38;5;241m.\u001B[39m_get_axis(axis)\n\u001B[1;32m   1430\u001B[0m axis_name \u001B[38;5;241m=\u001B[39m \u001B[38;5;28mself\u001B[39m\u001B[38;5;241m.\u001B[39mobj\u001B[38;5;241m.\u001B[39m_get_axis_name(axis)\n\u001B[0;32m-> 1432\u001B[0m keyarr, indexer \u001B[38;5;241m=\u001B[39m \u001B[43max\u001B[49m\u001B[38;5;241;43m.\u001B[39;49m\u001B[43m_get_indexer_strict\u001B[49m\u001B[43m(\u001B[49m\u001B[43mkey\u001B[49m\u001B[43m,\u001B[49m\u001B[43m \u001B[49m\u001B[43maxis_name\u001B[49m\u001B[43m)\u001B[49m\n\u001B[1;32m   1434\u001B[0m \u001B[38;5;28;01mreturn\u001B[39;00m keyarr, indexer\n",
      "File \u001B[0;32m~/ogrsp_in_github/venv/lib/python3.11/lib/python3.11/site-packages/pandas/core/indexes/base.py:6065\u001B[0m, in \u001B[0;36mIndex._get_indexer_strict\u001B[0;34m(self, key, axis_name)\u001B[0m\n\u001B[1;32m   6062\u001B[0m     keyarr \u001B[38;5;241m=\u001B[39m com\u001B[38;5;241m.\u001B[39masarray_tuplesafe(keyarr)\n\u001B[1;32m   6064\u001B[0m \u001B[38;5;28;01mif\u001B[39;00m \u001B[38;5;28mself\u001B[39m\u001B[38;5;241m.\u001B[39m_index_as_unique:\n\u001B[0;32m-> 6065\u001B[0m     indexer \u001B[38;5;241m=\u001B[39m \u001B[38;5;28;43mself\u001B[39;49m\u001B[38;5;241;43m.\u001B[39;49m\u001B[43mget_indexer_for\u001B[49m\u001B[43m(\u001B[49m\u001B[43mkeyarr\u001B[49m\u001B[43m)\u001B[49m\n\u001B[1;32m   6066\u001B[0m     keyarr \u001B[38;5;241m=\u001B[39m \u001B[38;5;28mself\u001B[39m\u001B[38;5;241m.\u001B[39mreindex(keyarr)[\u001B[38;5;241m0\u001B[39m]\n\u001B[1;32m   6067\u001B[0m \u001B[38;5;28;01melse\u001B[39;00m:\n",
      "File \u001B[0;32m~/ogrsp_in_github/venv/lib/python3.11/lib/python3.11/site-packages/pandas/core/indexes/base.py:6052\u001B[0m, in \u001B[0;36mIndex.get_indexer_for\u001B[0;34m(self, target)\u001B[0m\n\u001B[1;32m   6034\u001B[0m \u001B[38;5;250m\u001B[39m\u001B[38;5;124;03m\"\"\"\u001B[39;00m\n\u001B[1;32m   6035\u001B[0m \u001B[38;5;124;03mGuaranteed return of an indexer even when non-unique.\u001B[39;00m\n\u001B[1;32m   6036\u001B[0m \n\u001B[0;32m   (...)\u001B[0m\n\u001B[1;32m   6049\u001B[0m \u001B[38;5;124;03marray([0, 2])\u001B[39;00m\n\u001B[1;32m   6050\u001B[0m \u001B[38;5;124;03m\"\"\"\u001B[39;00m\n\u001B[1;32m   6051\u001B[0m \u001B[38;5;28;01mif\u001B[39;00m \u001B[38;5;28mself\u001B[39m\u001B[38;5;241m.\u001B[39m_index_as_unique:\n\u001B[0;32m-> 6052\u001B[0m     \u001B[38;5;28;01mreturn\u001B[39;00m \u001B[38;5;28;43mself\u001B[39;49m\u001B[38;5;241;43m.\u001B[39;49m\u001B[43mget_indexer\u001B[49m\u001B[43m(\u001B[49m\u001B[43mtarget\u001B[49m\u001B[43m)\u001B[49m\n\u001B[1;32m   6053\u001B[0m indexer, _ \u001B[38;5;241m=\u001B[39m \u001B[38;5;28mself\u001B[39m\u001B[38;5;241m.\u001B[39mget_indexer_non_unique(target)\n\u001B[1;32m   6054\u001B[0m \u001B[38;5;28;01mreturn\u001B[39;00m indexer\n",
      "File \u001B[0;32m~/ogrsp_in_github/venv/lib/python3.11/lib/python3.11/site-packages/pandas/core/indexes/base.py:3899\u001B[0m, in \u001B[0;36mIndex.get_indexer\u001B[0;34m(self, target, method, limit, tolerance)\u001B[0m\n\u001B[1;32m   3897\u001B[0m method \u001B[38;5;241m=\u001B[39m missing\u001B[38;5;241m.\u001B[39mclean_reindex_fill_method(method)\n\u001B[1;32m   3898\u001B[0m orig_target \u001B[38;5;241m=\u001B[39m target\n\u001B[0;32m-> 3899\u001B[0m target \u001B[38;5;241m=\u001B[39m \u001B[38;5;28;43mself\u001B[39;49m\u001B[38;5;241;43m.\u001B[39;49m\u001B[43m_maybe_cast_listlike_indexer\u001B[49m\u001B[43m(\u001B[49m\u001B[43mtarget\u001B[49m\u001B[43m)\u001B[49m\n\u001B[1;32m   3901\u001B[0m \u001B[38;5;28mself\u001B[39m\u001B[38;5;241m.\u001B[39m_check_indexing_method(method, limit, tolerance)\n\u001B[1;32m   3903\u001B[0m \u001B[38;5;28;01mif\u001B[39;00m \u001B[38;5;129;01mnot\u001B[39;00m \u001B[38;5;28mself\u001B[39m\u001B[38;5;241m.\u001B[39m_index_as_unique:\n",
      "File \u001B[0;32m~/ogrsp_in_github/venv/lib/python3.11/lib/python3.11/site-packages/pandas/core/indexes/base.py:6580\u001B[0m, in \u001B[0;36mIndex._maybe_cast_listlike_indexer\u001B[0;34m(self, target)\u001B[0m\n\u001B[1;32m   6576\u001B[0m \u001B[38;5;28;01mdef\u001B[39;00m \u001B[38;5;21m_maybe_cast_listlike_indexer\u001B[39m(\u001B[38;5;28mself\u001B[39m, target) \u001B[38;5;241m-\u001B[39m\u001B[38;5;241m>\u001B[39m Index:\n\u001B[1;32m   6577\u001B[0m \u001B[38;5;250m    \u001B[39m\u001B[38;5;124;03m\"\"\"\u001B[39;00m\n\u001B[1;32m   6578\u001B[0m \u001B[38;5;124;03m    Analogue to maybe_cast_indexer for get_indexer instead of get_loc.\u001B[39;00m\n\u001B[1;32m   6579\u001B[0m \u001B[38;5;124;03m    \"\"\"\u001B[39;00m\n\u001B[0;32m-> 6580\u001B[0m     \u001B[38;5;28;01mreturn\u001B[39;00m \u001B[43mensure_index\u001B[49m\u001B[43m(\u001B[49m\u001B[43mtarget\u001B[49m\u001B[43m)\u001B[49m\n",
      "File \u001B[0;32m~/ogrsp_in_github/venv/lib/python3.11/lib/python3.11/site-packages/pandas/core/indexes/base.py:7333\u001B[0m, in \u001B[0;36mensure_index\u001B[0;34m(index_like, copy)\u001B[0m\n\u001B[1;32m   7331\u001B[0m         \u001B[38;5;28;01mreturn\u001B[39;00m Index\u001B[38;5;241m.\u001B[39m_with_infer(index_like, copy\u001B[38;5;241m=\u001B[39mcopy, tupleize_cols\u001B[38;5;241m=\u001B[39m\u001B[38;5;28;01mFalse\u001B[39;00m)\n\u001B[1;32m   7332\u001B[0m \u001B[38;5;28;01melse\u001B[39;00m:\n\u001B[0;32m-> 7333\u001B[0m     \u001B[38;5;28;01mreturn\u001B[39;00m \u001B[43mIndex\u001B[49m\u001B[38;5;241;43m.\u001B[39;49m\u001B[43m_with_infer\u001B[49m\u001B[43m(\u001B[49m\u001B[43mindex_like\u001B[49m\u001B[43m,\u001B[49m\u001B[43m \u001B[49m\u001B[43mcopy\u001B[49m\u001B[38;5;241;43m=\u001B[39;49m\u001B[43mcopy\u001B[49m\u001B[43m)\u001B[49m\n",
      "File \u001B[0;32m~/ogrsp_in_github/venv/lib/python3.11/lib/python3.11/site-packages/pandas/core/indexes/base.py:716\u001B[0m, in \u001B[0;36mIndex._with_infer\u001B[0;34m(cls, *args, **kwargs)\u001B[0m\n\u001B[1;32m    714\u001B[0m \u001B[38;5;28;01mwith\u001B[39;00m warnings\u001B[38;5;241m.\u001B[39mcatch_warnings():\n\u001B[1;32m    715\u001B[0m     warnings\u001B[38;5;241m.\u001B[39mfilterwarnings(\u001B[38;5;124m\"\u001B[39m\u001B[38;5;124mignore\u001B[39m\u001B[38;5;124m\"\u001B[39m, \u001B[38;5;124m\"\u001B[39m\u001B[38;5;124m.*the Index constructor\u001B[39m\u001B[38;5;124m\"\u001B[39m, \u001B[38;5;167;01mFutureWarning\u001B[39;00m)\n\u001B[0;32m--> 716\u001B[0m     result \u001B[38;5;241m=\u001B[39m \u001B[38;5;28;43mcls\u001B[39;49m\u001B[43m(\u001B[49m\u001B[38;5;241;43m*\u001B[39;49m\u001B[43margs\u001B[49m\u001B[43m,\u001B[49m\u001B[43m \u001B[49m\u001B[38;5;241;43m*\u001B[39;49m\u001B[38;5;241;43m*\u001B[39;49m\u001B[43mkwargs\u001B[49m\u001B[43m)\u001B[49m\n\u001B[1;32m    718\u001B[0m \u001B[38;5;28;01mif\u001B[39;00m result\u001B[38;5;241m.\u001B[39mdtype \u001B[38;5;241m==\u001B[39m _dtype_obj \u001B[38;5;129;01mand\u001B[39;00m \u001B[38;5;129;01mnot\u001B[39;00m result\u001B[38;5;241m.\u001B[39m_is_multi:\n\u001B[1;32m    719\u001B[0m     \u001B[38;5;66;03m# error: Argument 1 to \"maybe_convert_objects\" has incompatible type\u001B[39;00m\n\u001B[1;32m    720\u001B[0m     \u001B[38;5;66;03m# \"Union[ExtensionArray, ndarray[Any, Any]]\"; expected\u001B[39;00m\n\u001B[1;32m    721\u001B[0m     \u001B[38;5;66;03m# \"ndarray[Any, Any]\"\u001B[39;00m\n\u001B[1;32m    722\u001B[0m     values \u001B[38;5;241m=\u001B[39m lib\u001B[38;5;241m.\u001B[39mmaybe_convert_objects(result\u001B[38;5;241m.\u001B[39m_values)  \u001B[38;5;66;03m# type: ignore[arg-type]\u001B[39;00m\n",
      "File \u001B[0;32m~/ogrsp_in_github/venv/lib/python3.11/lib/python3.11/site-packages/pandas/core/indexes/base.py:540\u001B[0m, in \u001B[0;36mIndex.__new__\u001B[0;34m(cls, data, dtype, copy, name, tupleize_cols, **kwargs)\u001B[0m\n\u001B[1;32m    537\u001B[0m             \u001B[38;5;28;01mreturn\u001B[39;00m \u001B[38;5;28mcls\u001B[39m(arr, dtype, copy\u001B[38;5;241m=\u001B[39mcopy, name\u001B[38;5;241m=\u001B[39mname, \u001B[38;5;241m*\u001B[39m\u001B[38;5;241m*\u001B[39mkwargs)\n\u001B[1;32m    539\u001B[0m klass \u001B[38;5;241m=\u001B[39m \u001B[38;5;28mcls\u001B[39m\u001B[38;5;241m.\u001B[39m_dtype_to_subclass(arr\u001B[38;5;241m.\u001B[39mdtype)\n\u001B[0;32m--> 540\u001B[0m arr \u001B[38;5;241m=\u001B[39m \u001B[43mklass\u001B[49m\u001B[38;5;241;43m.\u001B[39;49m\u001B[43m_ensure_array\u001B[49m\u001B[43m(\u001B[49m\u001B[43marr\u001B[49m\u001B[43m,\u001B[49m\u001B[43m \u001B[49m\u001B[43mdtype\u001B[49m\u001B[43m,\u001B[49m\u001B[43m \u001B[49m\u001B[43mcopy\u001B[49m\u001B[43m)\u001B[49m\n\u001B[1;32m    541\u001B[0m disallow_kwargs(kwargs)\n\u001B[1;32m    542\u001B[0m \u001B[38;5;28;01mreturn\u001B[39;00m klass\u001B[38;5;241m.\u001B[39m_simple_new(arr, name)\n",
      "File \u001B[0;32m~/ogrsp_in_github/venv/lib/python3.11/lib/python3.11/site-packages/pandas/core/indexes/base.py:581\u001B[0m, in \u001B[0;36mIndex._ensure_array\u001B[0;34m(cls, data, dtype, copy)\u001B[0m\n\u001B[1;32m    576\u001B[0m \u001B[38;5;250m\u001B[39m\u001B[38;5;124;03m\"\"\"\u001B[39;00m\n\u001B[1;32m    577\u001B[0m \u001B[38;5;124;03mEnsure we have a valid array to pass to _simple_new.\u001B[39;00m\n\u001B[1;32m    578\u001B[0m \u001B[38;5;124;03m\"\"\"\u001B[39;00m\n\u001B[1;32m    579\u001B[0m \u001B[38;5;28;01mif\u001B[39;00m data\u001B[38;5;241m.\u001B[39mndim \u001B[38;5;241m>\u001B[39m \u001B[38;5;241m1\u001B[39m:\n\u001B[1;32m    580\u001B[0m     \u001B[38;5;66;03m# GH#13601, GH#20285, GH#27125\u001B[39;00m\n\u001B[0;32m--> 581\u001B[0m     \u001B[38;5;28;01mraise\u001B[39;00m \u001B[38;5;167;01mValueError\u001B[39;00m(\u001B[38;5;124m\"\u001B[39m\u001B[38;5;124mIndex data must be 1-dimensional\u001B[39m\u001B[38;5;124m\"\u001B[39m)\n\u001B[1;32m    582\u001B[0m \u001B[38;5;28;01mif\u001B[39;00m copy:\n\u001B[1;32m    583\u001B[0m     \u001B[38;5;66;03m# asarray_tuplesafe does not always copy underlying data,\u001B[39;00m\n\u001B[1;32m    584\u001B[0m     \u001B[38;5;66;03m#  so need to make sure that this happens\u001B[39;00m\n\u001B[1;32m    585\u001B[0m     data \u001B[38;5;241m=\u001B[39m data\u001B[38;5;241m.\u001B[39mcopy()\n",
      "\u001B[0;31mValueError\u001B[0m: Index data must be 1-dimensional"
     ]
    }
   ],
   "source": [
    "# d5_where = d5.where(d5.nuclide_name==\"110ag\")\n",
    "# d5_where\n",
    "d5_loc = analysis_df.loc[analysis_df.nuclide_name==\"110ag\"]\n",
    "d5_loc"
   ],
   "metadata": {
    "collapsed": false
   }
  },
  {
   "cell_type": "code",
   "execution_count": 14,
   "outputs": [
    {
     "ename": "ValueError",
     "evalue": "Grouper for 'nuclide_name' not 1-dimensional",
     "output_type": "error",
     "traceback": [
      "\u001B[0;31m---------------------------------------------------------------------------\u001B[0m",
      "\u001B[0;31mValueError\u001B[0m                                Traceback (most recent call last)",
      "Cell \u001B[0;32mIn[14], line 4\u001B[0m\n\u001B[1;32m      1\u001B[0m \u001B[38;5;66;03m# 2023-Ago-4 PAREI AQUI. Fazer a indexação para o cálculo da atividade considerando a média das linhas de cada nuclídeo\u001B[39;00m\n\u001B[1;32m      2\u001B[0m \u001B[38;5;66;03m# https://pandas.pydata.org/pandas-docs/stable/user_guide/groupby.html\u001B[39;00m\n\u001B[1;32m      3\u001B[0m \u001B[38;5;66;03m# https://pandas.pydata.org/pandas-docs/stable/user_guide/groupby.html#dataframe-column-selection-in-groupby\u001B[39;00m\n\u001B[0;32m----> 4\u001B[0m d5_grouped \u001B[38;5;241m=\u001B[39m \u001B[43manalysis_df\u001B[49m\u001B[38;5;241;43m.\u001B[39;49m\u001B[43mgroupby\u001B[49m\u001B[43m(\u001B[49m\u001B[38;5;124;43m\"\u001B[39;49m\u001B[38;5;124;43mnuclide_name\u001B[39;49m\u001B[38;5;124;43m\"\u001B[39;49m\u001B[43m)\u001B[49m[[\u001B[38;5;124m'\u001B[39m\u001B[38;5;124menergy\u001B[39m\u001B[38;5;124m'\u001B[39m,\u001B[38;5;124m'\u001B[39m\u001B[38;5;124mintensity\u001B[39m\u001B[38;5;124m'\u001B[39m,\u001B[38;5;124m'\u001B[39m\u001B[38;5;124mcentroids\u001B[39m\u001B[38;5;124m'\u001B[39m,\u001B[38;5;124m'\u001B[39m\u001B[38;5;124mrough_sums\u001B[39m\u001B[38;5;124m'\u001B[39m,\u001B[38;5;124m'\u001B[39m\u001B[38;5;124mvariances\u001B[39m\u001B[38;5;124m'\u001B[39m,\u001B[38;5;124m'\u001B[39m\u001B[38;5;124mdisintegr\u001B[39m\u001B[38;5;124m'\u001B[39m]]\n\u001B[1;32m      5\u001B[0m \u001B[38;5;66;03m# d5_grouped = d5.groupby(\"nuclide_name\")[['disintegr']]\u001B[39;00m\n\u001B[1;32m      6\u001B[0m \u001B[38;5;66;03m# sdfsdf = pd.DataFrame([[d5_grouped.mean(), d5_grouped.median()]]) \u001B[39;00m\n\u001B[1;32m      7\u001B[0m \u001B[38;5;66;03m# sdfsdf\u001B[39;00m\n",
      "File \u001B[0;32m~/ogrsp_in_github/venv/lib/python3.11/lib/python3.11/site-packages/pandas/core/frame.py:8402\u001B[0m, in \u001B[0;36mDataFrame.groupby\u001B[0;34m(self, by, axis, level, as_index, sort, group_keys, squeeze, observed, dropna)\u001B[0m\n\u001B[1;32m   8399\u001B[0m     \u001B[38;5;28;01mraise\u001B[39;00m \u001B[38;5;167;01mTypeError\u001B[39;00m(\u001B[38;5;124m\"\u001B[39m\u001B[38;5;124mYou have to supply one of \u001B[39m\u001B[38;5;124m'\u001B[39m\u001B[38;5;124mby\u001B[39m\u001B[38;5;124m'\u001B[39m\u001B[38;5;124m and \u001B[39m\u001B[38;5;124m'\u001B[39m\u001B[38;5;124mlevel\u001B[39m\u001B[38;5;124m'\u001B[39m\u001B[38;5;124m\"\u001B[39m)\n\u001B[1;32m   8400\u001B[0m axis \u001B[38;5;241m=\u001B[39m \u001B[38;5;28mself\u001B[39m\u001B[38;5;241m.\u001B[39m_get_axis_number(axis)\n\u001B[0;32m-> 8402\u001B[0m \u001B[38;5;28;01mreturn\u001B[39;00m \u001B[43mDataFrameGroupBy\u001B[49m\u001B[43m(\u001B[49m\n\u001B[1;32m   8403\u001B[0m \u001B[43m    \u001B[49m\u001B[43mobj\u001B[49m\u001B[38;5;241;43m=\u001B[39;49m\u001B[38;5;28;43mself\u001B[39;49m\u001B[43m,\u001B[49m\n\u001B[1;32m   8404\u001B[0m \u001B[43m    \u001B[49m\u001B[43mkeys\u001B[49m\u001B[38;5;241;43m=\u001B[39;49m\u001B[43mby\u001B[49m\u001B[43m,\u001B[49m\n\u001B[1;32m   8405\u001B[0m \u001B[43m    \u001B[49m\u001B[43maxis\u001B[49m\u001B[38;5;241;43m=\u001B[39;49m\u001B[43maxis\u001B[49m\u001B[43m,\u001B[49m\n\u001B[1;32m   8406\u001B[0m \u001B[43m    \u001B[49m\u001B[43mlevel\u001B[49m\u001B[38;5;241;43m=\u001B[39;49m\u001B[43mlevel\u001B[49m\u001B[43m,\u001B[49m\n\u001B[1;32m   8407\u001B[0m \u001B[43m    \u001B[49m\u001B[43mas_index\u001B[49m\u001B[38;5;241;43m=\u001B[39;49m\u001B[43mas_index\u001B[49m\u001B[43m,\u001B[49m\n\u001B[1;32m   8408\u001B[0m \u001B[43m    \u001B[49m\u001B[43msort\u001B[49m\u001B[38;5;241;43m=\u001B[39;49m\u001B[43msort\u001B[49m\u001B[43m,\u001B[49m\n\u001B[1;32m   8409\u001B[0m \u001B[43m    \u001B[49m\u001B[43mgroup_keys\u001B[49m\u001B[38;5;241;43m=\u001B[39;49m\u001B[43mgroup_keys\u001B[49m\u001B[43m,\u001B[49m\n\u001B[1;32m   8410\u001B[0m \u001B[43m    \u001B[49m\u001B[43msqueeze\u001B[49m\u001B[38;5;241;43m=\u001B[39;49m\u001B[43msqueeze\u001B[49m\u001B[43m,\u001B[49m\n\u001B[1;32m   8411\u001B[0m \u001B[43m    \u001B[49m\u001B[43mobserved\u001B[49m\u001B[38;5;241;43m=\u001B[39;49m\u001B[43mobserved\u001B[49m\u001B[43m,\u001B[49m\n\u001B[1;32m   8412\u001B[0m \u001B[43m    \u001B[49m\u001B[43mdropna\u001B[49m\u001B[38;5;241;43m=\u001B[39;49m\u001B[43mdropna\u001B[49m\u001B[43m,\u001B[49m\n\u001B[1;32m   8413\u001B[0m \u001B[43m\u001B[49m\u001B[43m)\u001B[49m\n",
      "File \u001B[0;32m~/ogrsp_in_github/venv/lib/python3.11/lib/python3.11/site-packages/pandas/core/groupby/groupby.py:965\u001B[0m, in \u001B[0;36mGroupBy.__init__\u001B[0;34m(self, obj, keys, axis, level, grouper, exclusions, selection, as_index, sort, group_keys, squeeze, observed, mutated, dropna)\u001B[0m\n\u001B[1;32m    962\u001B[0m \u001B[38;5;28;01mif\u001B[39;00m grouper \u001B[38;5;129;01mis\u001B[39;00m \u001B[38;5;28;01mNone\u001B[39;00m:\n\u001B[1;32m    963\u001B[0m     \u001B[38;5;28;01mfrom\u001B[39;00m \u001B[38;5;21;01mpandas\u001B[39;00m\u001B[38;5;21;01m.\u001B[39;00m\u001B[38;5;21;01mcore\u001B[39;00m\u001B[38;5;21;01m.\u001B[39;00m\u001B[38;5;21;01mgroupby\u001B[39;00m\u001B[38;5;21;01m.\u001B[39;00m\u001B[38;5;21;01mgrouper\u001B[39;00m \u001B[38;5;28;01mimport\u001B[39;00m get_grouper\n\u001B[0;32m--> 965\u001B[0m     grouper, exclusions, obj \u001B[38;5;241m=\u001B[39m \u001B[43mget_grouper\u001B[49m\u001B[43m(\u001B[49m\n\u001B[1;32m    966\u001B[0m \u001B[43m        \u001B[49m\u001B[43mobj\u001B[49m\u001B[43m,\u001B[49m\n\u001B[1;32m    967\u001B[0m \u001B[43m        \u001B[49m\u001B[43mkeys\u001B[49m\u001B[43m,\u001B[49m\n\u001B[1;32m    968\u001B[0m \u001B[43m        \u001B[49m\u001B[43maxis\u001B[49m\u001B[38;5;241;43m=\u001B[39;49m\u001B[43maxis\u001B[49m\u001B[43m,\u001B[49m\n\u001B[1;32m    969\u001B[0m \u001B[43m        \u001B[49m\u001B[43mlevel\u001B[49m\u001B[38;5;241;43m=\u001B[39;49m\u001B[43mlevel\u001B[49m\u001B[43m,\u001B[49m\n\u001B[1;32m    970\u001B[0m \u001B[43m        \u001B[49m\u001B[43msort\u001B[49m\u001B[38;5;241;43m=\u001B[39;49m\u001B[43msort\u001B[49m\u001B[43m,\u001B[49m\n\u001B[1;32m    971\u001B[0m \u001B[43m        \u001B[49m\u001B[43mobserved\u001B[49m\u001B[38;5;241;43m=\u001B[39;49m\u001B[43mobserved\u001B[49m\u001B[43m,\u001B[49m\n\u001B[1;32m    972\u001B[0m \u001B[43m        \u001B[49m\u001B[43mmutated\u001B[49m\u001B[38;5;241;43m=\u001B[39;49m\u001B[38;5;28;43mself\u001B[39;49m\u001B[38;5;241;43m.\u001B[39;49m\u001B[43mmutated\u001B[49m\u001B[43m,\u001B[49m\n\u001B[1;32m    973\u001B[0m \u001B[43m        \u001B[49m\u001B[43mdropna\u001B[49m\u001B[38;5;241;43m=\u001B[39;49m\u001B[38;5;28;43mself\u001B[39;49m\u001B[38;5;241;43m.\u001B[39;49m\u001B[43mdropna\u001B[49m\u001B[43m,\u001B[49m\n\u001B[1;32m    974\u001B[0m \u001B[43m    \u001B[49m\u001B[43m)\u001B[49m\n\u001B[1;32m    976\u001B[0m \u001B[38;5;28mself\u001B[39m\u001B[38;5;241m.\u001B[39mobj \u001B[38;5;241m=\u001B[39m obj\n\u001B[1;32m    977\u001B[0m \u001B[38;5;28mself\u001B[39m\u001B[38;5;241m.\u001B[39maxis \u001B[38;5;241m=\u001B[39m obj\u001B[38;5;241m.\u001B[39m_get_axis_number(axis)\n",
      "File \u001B[0;32m~/ogrsp_in_github/venv/lib/python3.11/lib/python3.11/site-packages/pandas/core/groupby/grouper.py:883\u001B[0m, in \u001B[0;36mget_grouper\u001B[0;34m(obj, key, axis, level, sort, observed, mutated, validate, dropna)\u001B[0m\n\u001B[1;32m    879\u001B[0m     in_axis, name, gpr \u001B[38;5;241m=\u001B[39m \u001B[38;5;28;01mTrue\u001B[39;00m, gpr, obj[gpr]\n\u001B[1;32m    880\u001B[0m     \u001B[38;5;28;01mif\u001B[39;00m gpr\u001B[38;5;241m.\u001B[39mndim \u001B[38;5;241m!=\u001B[39m \u001B[38;5;241m1\u001B[39m:\n\u001B[1;32m    881\u001B[0m         \u001B[38;5;66;03m# non-unique columns; raise here to get the name in the\u001B[39;00m\n\u001B[1;32m    882\u001B[0m         \u001B[38;5;66;03m# exception message\u001B[39;00m\n\u001B[0;32m--> 883\u001B[0m         \u001B[38;5;28;01mraise\u001B[39;00m \u001B[38;5;167;01mValueError\u001B[39;00m(\u001B[38;5;124mf\u001B[39m\u001B[38;5;124m\"\u001B[39m\u001B[38;5;124mGrouper for \u001B[39m\u001B[38;5;124m'\u001B[39m\u001B[38;5;132;01m{\u001B[39;00mname\u001B[38;5;132;01m}\u001B[39;00m\u001B[38;5;124m'\u001B[39m\u001B[38;5;124m not 1-dimensional\u001B[39m\u001B[38;5;124m\"\u001B[39m)\n\u001B[1;32m    884\u001B[0m     exclusions\u001B[38;5;241m.\u001B[39madd(name)\n\u001B[1;32m    885\u001B[0m \u001B[38;5;28;01melif\u001B[39;00m obj\u001B[38;5;241m.\u001B[39m_is_level_reference(gpr, axis\u001B[38;5;241m=\u001B[39maxis):\n",
      "\u001B[0;31mValueError\u001B[0m: Grouper for 'nuclide_name' not 1-dimensional"
     ]
    }
   ],
   "source": [
    "# 2023-Ago-4 PAREI AQUI. Fazer a indexação para o cálculo da atividade considerando a média das linhas de cada nuclídeo\n",
    "# https://pandas.pydata.org/pandas-docs/stable/user_guide/groupby.html\n",
    "# https://pandas.pydata.org/pandas-docs/stable/user_guide/groupby.html#dataframe-column-selection-in-groupby\n",
    "d5_grouped = analysis_df.groupby(\"nuclide_name\")[['energy','intensity','centroids','rough_sums','variances','disintegr']]\n",
    "# d5_grouped = d5.groupby(\"nuclide_name\")[['disintegr']]\n",
    "# sdfsdf = pd.DataFrame([[d5_grouped.mean(), d5_grouped.median()]]) \n",
    "# sdfsdf\n"
   ],
   "metadata": {
    "collapsed": false
   }
  },
  {
   "cell_type": "code",
   "execution_count": null,
   "outputs": [],
   "source": [
    "d5_grouped.mean()"
   ],
   "metadata": {
    "collapsed": false
   }
  },
  {
   "cell_type": "code",
   "execution_count": 64,
   "outputs": [
    {
     "ename": "ValueError",
     "evalue": "Grouper for 'nuclide_name' not 1-dimensional",
     "output_type": "error",
     "traceback": [
      "\u001B[0;31m---------------------------------------------------------------------------\u001B[0m",
      "\u001B[0;31mValueError\u001B[0m                                Traceback (most recent call last)",
      "Cell \u001B[0;32mIn[64], line 4\u001B[0m\n\u001B[1;32m      1\u001B[0m \u001B[38;5;66;03m# 2023-Ago-4 PAREI AQUI. Fazer a indexação para o cálculo da atividade considerando a média das linhas de cada nuclídeo\u001B[39;00m\n\u001B[1;32m      2\u001B[0m \u001B[38;5;66;03m# https://pandas.pydata.org/pandas-docs/stable/user_guide/groupby.html\u001B[39;00m\n\u001B[1;32m      3\u001B[0m \u001B[38;5;66;03m# https://pandas.pydata.org/pandas-docs/stable/user_guide/groupby.html#dataframe-column-selection-in-groupby\u001B[39;00m\n\u001B[0;32m----> 4\u001B[0m d5_grouped \u001B[38;5;241m=\u001B[39m \u001B[43mdf_result_2\u001B[49m\u001B[38;5;241;43m.\u001B[39;49m\u001B[43mgroupby\u001B[49m\u001B[43m(\u001B[49m\u001B[38;5;124;43m\"\u001B[39;49m\u001B[38;5;124;43mnuclide_name\u001B[39;49m\u001B[38;5;124;43m\"\u001B[39;49m\u001B[43m)\u001B[49m[[\u001B[38;5;124m'\u001B[39m\u001B[38;5;124menergy\u001B[39m\u001B[38;5;124m'\u001B[39m,\u001B[38;5;124m'\u001B[39m\u001B[38;5;124mintensity\u001B[39m\u001B[38;5;124m'\u001B[39m,\u001B[38;5;124m'\u001B[39m\u001B[38;5;124mcentroids\u001B[39m\u001B[38;5;124m'\u001B[39m,\u001B[38;5;124m'\u001B[39m\u001B[38;5;124mrough_sums\u001B[39m\u001B[38;5;124m'\u001B[39m,\u001B[38;5;124m'\u001B[39m\u001B[38;5;124mvariances\u001B[39m\u001B[38;5;124m'\u001B[39m,\u001B[38;5;124m'\u001B[39m\u001B[38;5;124mdisintegr\u001B[39m\u001B[38;5;124m'\u001B[39m]]\n\u001B[1;32m      5\u001B[0m \u001B[38;5;66;03m# d5_grouped = d5.groupby(\"nuclide_name\")[['disintegr']]\u001B[39;00m\n\u001B[1;32m      6\u001B[0m \u001B[38;5;66;03m# sdfsdf = pd.DataFrame([[d5_grouped.mean(), d5_grouped.median()]])\u001B[39;00m\n\u001B[1;32m      7\u001B[0m \u001B[38;5;66;03m# sdfsdf\u001B[39;00m\n\u001B[1;32m      8\u001B[0m d5_grouped\u001B[38;5;241m.\u001B[39mmean()\n",
      "File \u001B[0;32m~/ogrsp_in_github/venv/lib/python3.11/lib/python3.11/site-packages/pandas/core/frame.py:8402\u001B[0m, in \u001B[0;36mDataFrame.groupby\u001B[0;34m(self, by, axis, level, as_index, sort, group_keys, squeeze, observed, dropna)\u001B[0m\n\u001B[1;32m   8399\u001B[0m     \u001B[38;5;28;01mraise\u001B[39;00m \u001B[38;5;167;01mTypeError\u001B[39;00m(\u001B[38;5;124m\"\u001B[39m\u001B[38;5;124mYou have to supply one of \u001B[39m\u001B[38;5;124m'\u001B[39m\u001B[38;5;124mby\u001B[39m\u001B[38;5;124m'\u001B[39m\u001B[38;5;124m and \u001B[39m\u001B[38;5;124m'\u001B[39m\u001B[38;5;124mlevel\u001B[39m\u001B[38;5;124m'\u001B[39m\u001B[38;5;124m\"\u001B[39m)\n\u001B[1;32m   8400\u001B[0m axis \u001B[38;5;241m=\u001B[39m \u001B[38;5;28mself\u001B[39m\u001B[38;5;241m.\u001B[39m_get_axis_number(axis)\n\u001B[0;32m-> 8402\u001B[0m \u001B[38;5;28;01mreturn\u001B[39;00m \u001B[43mDataFrameGroupBy\u001B[49m\u001B[43m(\u001B[49m\n\u001B[1;32m   8403\u001B[0m \u001B[43m    \u001B[49m\u001B[43mobj\u001B[49m\u001B[38;5;241;43m=\u001B[39;49m\u001B[38;5;28;43mself\u001B[39;49m\u001B[43m,\u001B[49m\n\u001B[1;32m   8404\u001B[0m \u001B[43m    \u001B[49m\u001B[43mkeys\u001B[49m\u001B[38;5;241;43m=\u001B[39;49m\u001B[43mby\u001B[49m\u001B[43m,\u001B[49m\n\u001B[1;32m   8405\u001B[0m \u001B[43m    \u001B[49m\u001B[43maxis\u001B[49m\u001B[38;5;241;43m=\u001B[39;49m\u001B[43maxis\u001B[49m\u001B[43m,\u001B[49m\n\u001B[1;32m   8406\u001B[0m \u001B[43m    \u001B[49m\u001B[43mlevel\u001B[49m\u001B[38;5;241;43m=\u001B[39;49m\u001B[43mlevel\u001B[49m\u001B[43m,\u001B[49m\n\u001B[1;32m   8407\u001B[0m \u001B[43m    \u001B[49m\u001B[43mas_index\u001B[49m\u001B[38;5;241;43m=\u001B[39;49m\u001B[43mas_index\u001B[49m\u001B[43m,\u001B[49m\n\u001B[1;32m   8408\u001B[0m \u001B[43m    \u001B[49m\u001B[43msort\u001B[49m\u001B[38;5;241;43m=\u001B[39;49m\u001B[43msort\u001B[49m\u001B[43m,\u001B[49m\n\u001B[1;32m   8409\u001B[0m \u001B[43m    \u001B[49m\u001B[43mgroup_keys\u001B[49m\u001B[38;5;241;43m=\u001B[39;49m\u001B[43mgroup_keys\u001B[49m\u001B[43m,\u001B[49m\n\u001B[1;32m   8410\u001B[0m \u001B[43m    \u001B[49m\u001B[43msqueeze\u001B[49m\u001B[38;5;241;43m=\u001B[39;49m\u001B[43msqueeze\u001B[49m\u001B[43m,\u001B[49m\n\u001B[1;32m   8411\u001B[0m \u001B[43m    \u001B[49m\u001B[43mobserved\u001B[49m\u001B[38;5;241;43m=\u001B[39;49m\u001B[43mobserved\u001B[49m\u001B[43m,\u001B[49m\n\u001B[1;32m   8412\u001B[0m \u001B[43m    \u001B[49m\u001B[43mdropna\u001B[49m\u001B[38;5;241;43m=\u001B[39;49m\u001B[43mdropna\u001B[49m\u001B[43m,\u001B[49m\n\u001B[1;32m   8413\u001B[0m \u001B[43m\u001B[49m\u001B[43m)\u001B[49m\n",
      "File \u001B[0;32m~/ogrsp_in_github/venv/lib/python3.11/lib/python3.11/site-packages/pandas/core/groupby/groupby.py:965\u001B[0m, in \u001B[0;36mGroupBy.__init__\u001B[0;34m(self, obj, keys, axis, level, grouper, exclusions, selection, as_index, sort, group_keys, squeeze, observed, mutated, dropna)\u001B[0m\n\u001B[1;32m    962\u001B[0m \u001B[38;5;28;01mif\u001B[39;00m grouper \u001B[38;5;129;01mis\u001B[39;00m \u001B[38;5;28;01mNone\u001B[39;00m:\n\u001B[1;32m    963\u001B[0m     \u001B[38;5;28;01mfrom\u001B[39;00m \u001B[38;5;21;01mpandas\u001B[39;00m\u001B[38;5;21;01m.\u001B[39;00m\u001B[38;5;21;01mcore\u001B[39;00m\u001B[38;5;21;01m.\u001B[39;00m\u001B[38;5;21;01mgroupby\u001B[39;00m\u001B[38;5;21;01m.\u001B[39;00m\u001B[38;5;21;01mgrouper\u001B[39;00m \u001B[38;5;28;01mimport\u001B[39;00m get_grouper\n\u001B[0;32m--> 965\u001B[0m     grouper, exclusions, obj \u001B[38;5;241m=\u001B[39m \u001B[43mget_grouper\u001B[49m\u001B[43m(\u001B[49m\n\u001B[1;32m    966\u001B[0m \u001B[43m        \u001B[49m\u001B[43mobj\u001B[49m\u001B[43m,\u001B[49m\n\u001B[1;32m    967\u001B[0m \u001B[43m        \u001B[49m\u001B[43mkeys\u001B[49m\u001B[43m,\u001B[49m\n\u001B[1;32m    968\u001B[0m \u001B[43m        \u001B[49m\u001B[43maxis\u001B[49m\u001B[38;5;241;43m=\u001B[39;49m\u001B[43maxis\u001B[49m\u001B[43m,\u001B[49m\n\u001B[1;32m    969\u001B[0m \u001B[43m        \u001B[49m\u001B[43mlevel\u001B[49m\u001B[38;5;241;43m=\u001B[39;49m\u001B[43mlevel\u001B[49m\u001B[43m,\u001B[49m\n\u001B[1;32m    970\u001B[0m \u001B[43m        \u001B[49m\u001B[43msort\u001B[49m\u001B[38;5;241;43m=\u001B[39;49m\u001B[43msort\u001B[49m\u001B[43m,\u001B[49m\n\u001B[1;32m    971\u001B[0m \u001B[43m        \u001B[49m\u001B[43mobserved\u001B[49m\u001B[38;5;241;43m=\u001B[39;49m\u001B[43mobserved\u001B[49m\u001B[43m,\u001B[49m\n\u001B[1;32m    972\u001B[0m \u001B[43m        \u001B[49m\u001B[43mmutated\u001B[49m\u001B[38;5;241;43m=\u001B[39;49m\u001B[38;5;28;43mself\u001B[39;49m\u001B[38;5;241;43m.\u001B[39;49m\u001B[43mmutated\u001B[49m\u001B[43m,\u001B[49m\n\u001B[1;32m    973\u001B[0m \u001B[43m        \u001B[49m\u001B[43mdropna\u001B[49m\u001B[38;5;241;43m=\u001B[39;49m\u001B[38;5;28;43mself\u001B[39;49m\u001B[38;5;241;43m.\u001B[39;49m\u001B[43mdropna\u001B[49m\u001B[43m,\u001B[49m\n\u001B[1;32m    974\u001B[0m \u001B[43m    \u001B[49m\u001B[43m)\u001B[49m\n\u001B[1;32m    976\u001B[0m \u001B[38;5;28mself\u001B[39m\u001B[38;5;241m.\u001B[39mobj \u001B[38;5;241m=\u001B[39m obj\n\u001B[1;32m    977\u001B[0m \u001B[38;5;28mself\u001B[39m\u001B[38;5;241m.\u001B[39maxis \u001B[38;5;241m=\u001B[39m obj\u001B[38;5;241m.\u001B[39m_get_axis_number(axis)\n",
      "File \u001B[0;32m~/ogrsp_in_github/venv/lib/python3.11/lib/python3.11/site-packages/pandas/core/groupby/grouper.py:883\u001B[0m, in \u001B[0;36mget_grouper\u001B[0;34m(obj, key, axis, level, sort, observed, mutated, validate, dropna)\u001B[0m\n\u001B[1;32m    879\u001B[0m     in_axis, name, gpr \u001B[38;5;241m=\u001B[39m \u001B[38;5;28;01mTrue\u001B[39;00m, gpr, obj[gpr]\n\u001B[1;32m    880\u001B[0m     \u001B[38;5;28;01mif\u001B[39;00m gpr\u001B[38;5;241m.\u001B[39mndim \u001B[38;5;241m!=\u001B[39m \u001B[38;5;241m1\u001B[39m:\n\u001B[1;32m    881\u001B[0m         \u001B[38;5;66;03m# non-unique columns; raise here to get the name in the\u001B[39;00m\n\u001B[1;32m    882\u001B[0m         \u001B[38;5;66;03m# exception message\u001B[39;00m\n\u001B[0;32m--> 883\u001B[0m         \u001B[38;5;28;01mraise\u001B[39;00m \u001B[38;5;167;01mValueError\u001B[39;00m(\u001B[38;5;124mf\u001B[39m\u001B[38;5;124m\"\u001B[39m\u001B[38;5;124mGrouper for \u001B[39m\u001B[38;5;124m'\u001B[39m\u001B[38;5;132;01m{\u001B[39;00mname\u001B[38;5;132;01m}\u001B[39;00m\u001B[38;5;124m'\u001B[39m\u001B[38;5;124m not 1-dimensional\u001B[39m\u001B[38;5;124m\"\u001B[39m)\n\u001B[1;32m    884\u001B[0m     exclusions\u001B[38;5;241m.\u001B[39madd(name)\n\u001B[1;32m    885\u001B[0m \u001B[38;5;28;01melif\u001B[39;00m obj\u001B[38;5;241m.\u001B[39m_is_level_reference(gpr, axis\u001B[38;5;241m=\u001B[39maxis):\n",
      "\u001B[0;31mValueError\u001B[0m: Grouper for 'nuclide_name' not 1-dimensional"
     ]
    }
   ],
   "source": [
    "# https://pandas.pydata.org/pandas-docs/stable/user_guide/groupby.html#built-in-aggregation-methods\n",
    "d5_aggr_df = pd.DataFrame(df_result.groupby(\"nuclide_name\")[['disintegr']].mean())\n",
    "d5_aggr_df['dsnt_median'] = df_result.groupby(\"nuclide_name\")[['disintegr']].median()\n",
    "d5_aggr_df['dsnt_counts'] = df_result.groupby(\"nuclide_name\")[['disintegr']].count()\n",
    "d5_aggr_df['dsnt_sem'] = df_result.groupby(\"nuclide_name\")[['disintegr']].sem()\n",
    "d5_aggr_df['dsnt_std'] = df_result.groupby(\"nuclide_name\")[['disintegr']].std()\n",
    "d5_aggr_df"
   ],
   "metadata": {
    "collapsed": false
   }
  },
  {
   "cell_type": "code",
   "execution_count": null,
   "outputs": [],
   "source": [
    "df_result.groupby(\"nuclide_name\")[['disintegr']].describe()"
   ],
   "metadata": {
    "collapsed": false
   }
  },
  {
   "cell_type": "code",
   "execution_count": null,
   "outputs": [],
   "source": [
    "d5_aggr_df['disint_mean'] = d5_grouped.mean()\n",
    "d5_aggr_df['disint_count'] = d5_grouped.count()\n",
    "d5_aggr_df"
   ],
   "metadata": {
    "collapsed": false
   }
  },
  {
   "cell_type": "code",
   "execution_count": null,
   "outputs": [],
   "source": [
    "df_result"
   ],
   "metadata": {
    "collapsed": false
   }
  },
  {
   "cell_type": "code",
   "execution_count": null,
   "outputs": [],
   "source": [
    "help(spec_engy_identif)"
   ],
   "metadata": {
    "collapsed": false
   }
  },
  {
   "cell_type": "code",
   "execution_count": null,
   "outputs": [],
   "source": [],
   "metadata": {
    "collapsed": false
   }
  },
  {
   "cell_type": "code",
   "execution_count": null,
   "outputs": [],
   "source": [
    "# 2023-Jun-13\n",
    "# PAREI AQUI\n",
    "# Trazer o trabalho feito em\n",
    "# radionuclide_analysis.ipynb e adaptar ao que está aqui\n",
    "# especialmente na identificaćão dos nucl[ideos\n",
    "\n",
    "# Depois, deletar radionuclide_analysis.ipynb."
   ],
   "metadata": {
    "collapsed": false
   }
  },
  {
   "cell_type": "code",
   "execution_count": null,
   "outputs": [],
   "source": [],
   "metadata": {
    "collapsed": false
   }
  },
  {
   "cell_type": "code",
   "execution_count": 4,
   "outputs": [
    {
     "execution_count": 4,
     "output_type": "execute_result",
     "data": {
      "text/html": "<div>\n<style scoped>\n    .dataframe tbody tr th:only-of-type {\n        vertical-align: middle;\n    }\n\n    .dataframe tbody tr th {\n        vertical-align: top;\n    }\n\n    .dataframe thead th {\n        text-align: right;\n    }\n</style>\n<table border=\"1\" class=\"dataframe\">\n  <thead>\n    <tr style=\"text-align: right;\">\n      <th></th>\n      <th>A</th>\n      <th>B</th>\n      <th>C</th>\n      <th>D</th>\n    </tr>\n  </thead>\n  <tbody>\n    <tr>\n      <th>0</th>\n      <td>A0</td>\n      <td>B0</td>\n      <td>C0</td>\n      <td>D0</td>\n    </tr>\n    <tr>\n      <th>1</th>\n      <td>A1</td>\n      <td>B1</td>\n      <td>C1</td>\n      <td>D1</td>\n    </tr>\n    <tr>\n      <th>2</th>\n      <td>A2</td>\n      <td>B2</td>\n      <td>C2</td>\n      <td>D2</td>\n    </tr>\n    <tr>\n      <th>3</th>\n      <td>A3</td>\n      <td>B3</td>\n      <td>C3</td>\n      <td>D3</td>\n    </tr>\n    <tr>\n      <th>4</th>\n      <td>A4</td>\n      <td>B4</td>\n      <td>C4</td>\n      <td>D4</td>\n    </tr>\n    <tr>\n      <th>5</th>\n      <td>A5</td>\n      <td>B5</td>\n      <td>C5</td>\n      <td>D5</td>\n    </tr>\n    <tr>\n      <th>6</th>\n      <td>A6</td>\n      <td>B6</td>\n      <td>C6</td>\n      <td>D6</td>\n    </tr>\n    <tr>\n      <th>7</th>\n      <td>A7</td>\n      <td>B7</td>\n      <td>C7</td>\n      <td>D7</td>\n    </tr>\n    <tr>\n      <th>8</th>\n      <td>A8</td>\n      <td>B8</td>\n      <td>C8</td>\n      <td>D8</td>\n    </tr>\n    <tr>\n      <th>9</th>\n      <td>A9</td>\n      <td>B9</td>\n      <td>C9</td>\n      <td>D9</td>\n    </tr>\n    <tr>\n      <th>10</th>\n      <td>A10</td>\n      <td>B10</td>\n      <td>C10</td>\n      <td>D10</td>\n    </tr>\n    <tr>\n      <th>11</th>\n      <td>A11</td>\n      <td>B11</td>\n      <td>C11</td>\n      <td>D11</td>\n    </tr>\n  </tbody>\n</table>\n</div>",
      "text/plain": "      A    B    C    D\n0    A0   B0   C0   D0\n1    A1   B1   C1   D1\n2    A2   B2   C2   D2\n3    A3   B3   C3   D3\n4    A4   B4   C4   D4\n5    A5   B5   C5   D5\n6    A6   B6   C6   D6\n7    A7   B7   C7   D7\n8    A8   B8   C8   D8\n9    A9   B9   C9   D9\n10  A10  B10  C10  D10\n11  A11  B11  C11  D11"
     },
     "metadata": {}
    }
   ],
   "source": [
    "df1 = pd.DataFrame(\n",
    "    {\n",
    "        \"A\": [\"A0\", \"A1\", \"A2\", \"A3\"],\n",
    "        \"B\": [\"B0\", \"B1\", \"B2\", \"B3\"],\n",
    "        \"C\": [\"C0\", \"C1\", \"C2\", \"C3\"],\n",
    "        \"D\": [\"D0\", \"D1\", \"D2\", \"D3\"],\n",
    "    },\n",
    "    index=[0, 1, 2, 3],\n",
    ")\n",
    "\n",
    "\n",
    "df2 = pd.DataFrame(\n",
    "    {\n",
    "        \"A\": [\"A4\", \"A5\", \"A6\", \"A7\"],\n",
    "        \"B\": [\"B4\", \"B5\", \"B6\", \"B7\"],\n",
    "        \"C\": [\"C4\", \"C5\", \"C6\", \"C7\"],\n",
    "        \"D\": [\"D4\", \"D5\", \"D6\", \"D7\"],\n",
    "    },\n",
    "    index=[4, 5, 6, 7],\n",
    ")\n",
    "\n",
    "\n",
    "df3 = pd.DataFrame(\n",
    "    {\n",
    "        \"A\": [\"A8\", \"A9\", \"A10\", \"A11\"],\n",
    "        \"B\": [\"B8\", \"B9\", \"B10\", \"B11\"],\n",
    "        \"C\": [\"C8\", \"C9\", \"C10\", \"C11\"],\n",
    "        \"D\": [\"D8\", \"D9\", \"D10\", \"D11\"],\n",
    "    },\n",
    "    index=[8, 9, 10, 11],\n",
    ")\n",
    "\n",
    "\n",
    "frames = [df1, df2, df3]\n",
    "\n",
    "result = pd.concat(frames)\n",
    "result"
   ],
   "metadata": {
    "collapsed": false
   }
  },
  {
   "cell_type": "code",
   "execution_count": 5,
   "outputs": [
    {
     "execution_count": 5,
     "output_type": "execute_result",
     "data": {
      "text/html": "<div>\n<style scoped>\n    .dataframe tbody tr th:only-of-type {\n        vertical-align: middle;\n    }\n\n    .dataframe tbody tr th {\n        vertical-align: top;\n    }\n\n    .dataframe thead th {\n        text-align: right;\n    }\n</style>\n<table border=\"1\" class=\"dataframe\">\n  <thead>\n    <tr style=\"text-align: right;\">\n      <th></th>\n      <th></th>\n      <th>A</th>\n      <th>B</th>\n      <th>C</th>\n      <th>D</th>\n    </tr>\n  </thead>\n  <tbody>\n    <tr>\n      <th rowspan=\"4\" valign=\"top\">x</th>\n      <th>0</th>\n      <td>A0</td>\n      <td>B0</td>\n      <td>C0</td>\n      <td>D0</td>\n    </tr>\n    <tr>\n      <th>1</th>\n      <td>A1</td>\n      <td>B1</td>\n      <td>C1</td>\n      <td>D1</td>\n    </tr>\n    <tr>\n      <th>2</th>\n      <td>A2</td>\n      <td>B2</td>\n      <td>C2</td>\n      <td>D2</td>\n    </tr>\n    <tr>\n      <th>3</th>\n      <td>A3</td>\n      <td>B3</td>\n      <td>C3</td>\n      <td>D3</td>\n    </tr>\n    <tr>\n      <th rowspan=\"4\" valign=\"top\">y</th>\n      <th>4</th>\n      <td>A4</td>\n      <td>B4</td>\n      <td>C4</td>\n      <td>D4</td>\n    </tr>\n    <tr>\n      <th>5</th>\n      <td>A5</td>\n      <td>B5</td>\n      <td>C5</td>\n      <td>D5</td>\n    </tr>\n    <tr>\n      <th>6</th>\n      <td>A6</td>\n      <td>B6</td>\n      <td>C6</td>\n      <td>D6</td>\n    </tr>\n    <tr>\n      <th>7</th>\n      <td>A7</td>\n      <td>B7</td>\n      <td>C7</td>\n      <td>D7</td>\n    </tr>\n    <tr>\n      <th rowspan=\"4\" valign=\"top\">z</th>\n      <th>8</th>\n      <td>A8</td>\n      <td>B8</td>\n      <td>C8</td>\n      <td>D8</td>\n    </tr>\n    <tr>\n      <th>9</th>\n      <td>A9</td>\n      <td>B9</td>\n      <td>C9</td>\n      <td>D9</td>\n    </tr>\n    <tr>\n      <th>10</th>\n      <td>A10</td>\n      <td>B10</td>\n      <td>C10</td>\n      <td>D10</td>\n    </tr>\n    <tr>\n      <th>11</th>\n      <td>A11</td>\n      <td>B11</td>\n      <td>C11</td>\n      <td>D11</td>\n    </tr>\n  </tbody>\n</table>\n</div>",
      "text/plain": "        A    B    C    D\nx 0    A0   B0   C0   D0\n  1    A1   B1   C1   D1\n  2    A2   B2   C2   D2\n  3    A3   B3   C3   D3\ny 4    A4   B4   C4   D4\n  5    A5   B5   C5   D5\n  6    A6   B6   C6   D6\n  7    A7   B7   C7   D7\nz 8    A8   B8   C8   D8\n  9    A9   B9   C9   D9\n  10  A10  B10  C10  D10\n  11  A11  B11  C11  D11"
     },
     "metadata": {}
    }
   ],
   "source": [
    "result = pd.concat(frames, keys=[\"x\", \"y\", \"z\"])\n",
    "result"
   ],
   "metadata": {
    "collapsed": false
   }
  },
  {
   "cell_type": "code",
   "execution_count": 6,
   "outputs": [
    {
     "execution_count": 6,
     "output_type": "execute_result",
     "data": {
      "text/html": "<div>\n<style scoped>\n    .dataframe tbody tr th:only-of-type {\n        vertical-align: middle;\n    }\n\n    .dataframe tbody tr th {\n        vertical-align: top;\n    }\n\n    .dataframe thead th {\n        text-align: right;\n    }\n</style>\n<table border=\"1\" class=\"dataframe\">\n  <thead>\n    <tr style=\"text-align: right;\">\n      <th></th>\n      <th></th>\n      <th>A</th>\n      <th>B</th>\n      <th>C</th>\n      <th>D</th>\n    </tr>\n  </thead>\n  <tbody>\n  </tbody>\n</table>\n</div>",
      "text/plain": "Empty DataFrame\nColumns: [A, B, C, D]\nIndex: []"
     },
     "metadata": {}
    }
   ],
   "source": [
    "result.loc[result.A=='A1'].loc[result.C=='C0']"
   ],
   "metadata": {
    "collapsed": false
   }
  },
  {
   "cell_type": "code",
   "execution_count": null,
   "outputs": [],
   "source": [],
   "metadata": {
    "collapsed": false
   }
  },
  {
   "cell_type": "code",
   "execution_count": 7,
   "outputs": [],
   "source": [
    "# https://stackoverflow.com/questions/63529555"
   ],
   "metadata": {
    "collapsed": false
   }
  },
  {
   "cell_type": "code",
   "execution_count": 8,
   "outputs": [],
   "source": [
    "animals = ['cat', 'dog', 'hamster', 'dolphin']"
   ],
   "metadata": {
    "collapsed": false
   }
  },
  {
   "cell_type": "code",
   "execution_count": 9,
   "outputs": [
    {
     "execution_count": 9,
     "output_type": "execute_result",
     "data": {
      "text/html": "<div>\n<style scoped>\n    .dataframe tbody tr th:only-of-type {\n        vertical-align: middle;\n    }\n\n    .dataframe tbody tr th {\n        vertical-align: top;\n    }\n\n    .dataframe thead th {\n        text-align: right;\n    }\n</style>\n<table border=\"1\" class=\"dataframe\">\n  <thead>\n    <tr style=\"text-align: right;\">\n      <th></th>\n      <th>id</th>\n      <th>animals</th>\n    </tr>\n  </thead>\n  <tbody>\n    <tr>\n      <th>0</th>\n      <td>1</td>\n      <td>dog,cat</td>\n    </tr>\n    <tr>\n      <th>1</th>\n      <td>2</td>\n      <td>dog</td>\n    </tr>\n    <tr>\n      <th>2</th>\n      <td>3</td>\n      <td>cat,dolphin</td>\n    </tr>\n    <tr>\n      <th>3</th>\n      <td>4</td>\n      <td>cat,dog</td>\n    </tr>\n    <tr>\n      <th>4</th>\n      <td>5</td>\n      <td>hamster,dolphin</td>\n    </tr>\n  </tbody>\n</table>\n</div>",
      "text/plain": "   id          animals\n0   1          dog,cat\n1   2              dog\n2   3      cat,dolphin\n3   4          cat,dog\n4   5  hamster,dolphin"
     },
     "metadata": {}
    }
   ],
   "source": [
    "df_animals_sets = pd.DataFrame(data={\n",
    "    'id': [1,2,3,4,5],\n",
    "    'animals': ['dog,cat','dog','cat,dolphin','cat,dog','hamster,dolphin']\n",
    "})\n",
    "df_animals_sets"
   ],
   "metadata": {
    "collapsed": false
   }
  },
  {
   "cell_type": "code",
   "execution_count": 10,
   "outputs": [
    {
     "execution_count": 10,
     "output_type": "execute_result",
     "data": {
      "text/html": "<div>\n<style scoped>\n    .dataframe tbody tr th:only-of-type {\n        vertical-align: middle;\n    }\n\n    .dataframe tbody tr th {\n        vertical-align: top;\n    }\n\n    .dataframe thead th {\n        text-align: right;\n    }\n</style>\n<table border=\"1\" class=\"dataframe\">\n  <thead>\n    <tr style=\"text-align: right;\">\n      <th></th>\n      <th>animals</th>\n      <th>id</th>\n    </tr>\n  </thead>\n  <tbody>\n    <tr>\n      <th>0</th>\n      <td>cat</td>\n      <td>1,3,4</td>\n    </tr>\n    <tr>\n      <th>1</th>\n      <td>dog</td>\n      <td>1,2,4</td>\n    </tr>\n    <tr>\n      <th>2</th>\n      <td>dolphin</td>\n      <td>3,5</td>\n    </tr>\n    <tr>\n      <th>3</th>\n      <td>hamster</td>\n      <td>5</td>\n    </tr>\n  </tbody>\n</table>\n</div>",
      "text/plain": "   animals     id\n0      cat  1,3,4\n1      dog  1,2,4\n2  dolphin    3,5\n3  hamster      5"
     },
     "metadata": {}
    }
   ],
   "source": [
    "df = df_animals_sets\n",
    "df_final = (df.astype(str).assign(animals=df.animals.str.split(','))\n",
    "                          .explode('animals').groupby('animals').id.agg(','.join)\n",
    "                          .reset_index())\n",
    "df_final"
   ],
   "metadata": {
    "collapsed": false
   }
  },
  {
   "cell_type": "code",
   "execution_count": null,
   "outputs": [],
   "source": [],
   "metadata": {
    "collapsed": false
   }
  },
  {
   "cell_type": "code",
   "execution_count": 1,
   "outputs": [],
   "source": [
    "# 2023-Oct-24 FIX:\n",
    "# Brought from extinct radionuculde_analysis.ipynb\n",
    "# Jupyter notebook for tests with OGRaySpY modules"
   ],
   "metadata": {
    "collapsed": false
   }
  },
  {
   "cell_type": "code",
   "execution_count": 2,
   "outputs": [
    {
     "name": "stdout",
     "output_type": "stream",
     "text": [
      "Package                       Version\r\n",
      "----------------------------- --------\r\n",
      "alabaster                     0.7.13\r\n",
      "anyio                         3.7.0\r\n",
      "argon2-cffi                   21.3.0\r\n",
      "argon2-cffi-bindings          21.2.0\r\n",
      "arrow                         1.2.3\r\n",
      "asttokens                     2.2.1\r\n",
      "attrs                         23.1.0\r\n",
      "Babel                         2.12.1\r\n",
      "backcall                      0.2.0\r\n",
      "beautifulsoup4                4.12.2\r\n",
      "bleach                        6.0.0\r\n",
      "certifi                       2023.5.7\r\n",
      "cffi                          1.15.1\r\n",
      "charset-normalizer            3.1.0\r\n",
      "comm                          0.1.3\r\n",
      "debugpy                       1.6.7\r\n",
      "decorator                     5.1.1\r\n",
      "defusedxml                    0.7.1\r\n",
      "docutils                      0.19\r\n",
      "executing                     1.2.0\r\n",
      "fastjsonschema                2.17.1\r\n",
      "fqdn                          1.5.1\r\n",
      "idna                          3.4\r\n",
      "imagesize                     1.4.1\r\n",
      "ipykernel                     6.23.1\r\n",
      "ipython                       8.13.2\r\n",
      "ipython-genutils              0.2.0\r\n",
      "ipywidgets                    8.0.6\r\n",
      "isoduration                   20.11.0\r\n",
      "jedi                          0.18.2\r\n",
      "Jinja2                        3.1.2\r\n",
      "jsonpointer                   2.3\r\n",
      "jsonschema                    4.17.3\r\n",
      "jupyter                       1.0.0\r\n",
      "jupyter_client                8.2.0\r\n",
      "jupyter-console               6.6.3\r\n",
      "jupyter_core                  5.3.0\r\n",
      "jupyter-events                0.6.3\r\n",
      "jupyter_server                2.6.0\r\n",
      "jupyter_server_terminals      0.4.4\r\n",
      "jupyterlab-pygments           0.2.2\r\n",
      "jupyterlab-widgets            3.0.7\r\n",
      "livereload                    2.6.3\r\n",
      "markdown-it-py                2.2.0\r\n",
      "MarkupSafe                    2.1.2\r\n",
      "matplotlib-inline             0.1.6\r\n",
      "mdit-py-plugins               0.3.5\r\n",
      "mdurl                         0.1.2\r\n",
      "mistune                       2.0.5\r\n",
      "myst-parser                   1.0.0\r\n",
      "nbclassic                     1.0.0\r\n",
      "nbclient                      0.8.0\r\n",
      "nbconvert                     7.4.0\r\n",
      "nbformat                      5.8.0\r\n",
      "nest-asyncio                  1.5.6\r\n",
      "notebook                      6.5.4\r\n",
      "notebook_shim                 0.2.3\r\n",
      "numpy                         1.23.5\r\n",
      "odfpy                         1.4.1\r\n",
      "overrides                     7.3.1\r\n",
      "packaging                     23.1\r\n",
      "pandas                        1.5.3\r\n",
      "pandocfilters                 1.5.0\r\n",
      "parso                         0.8.3\r\n",
      "pexpect                       4.8.0\r\n",
      "pickleshare                   0.7.5\r\n",
      "pip                           22.3.1\r\n",
      "platformdirs                  3.5.1\r\n",
      "plotly                        5.11.0\r\n",
      "prometheus-client             0.17.0\r\n",
      "prompt-toolkit                3.0.38\r\n",
      "psutil                        5.9.5\r\n",
      "ptyprocess                    0.7.0\r\n",
      "pure-eval                     0.2.2\r\n",
      "pycparser                     2.21\r\n",
      "Pygments                      2.15.1\r\n",
      "PyQt5                         5.15.9\r\n",
      "PyQt5-Qt5                     5.15.2\r\n",
      "PyQt5-sip                     12.12.1\r\n",
      "pyrsistent                    0.19.3\r\n",
      "PySide2                       5.13.2\r\n",
      "python-dateutil               2.8.2\r\n",
      "python-json-logger            2.0.7\r\n",
      "pytz                          2023.3\r\n",
      "PyYAML                        6.0\r\n",
      "pyzmq                         25.1.0\r\n",
      "qtconsole                     5.4.3\r\n",
      "QtPy                          2.3.1\r\n",
      "requests                      2.31.0\r\n",
      "rfc3339-validator             0.1.4\r\n",
      "rfc3986-validator             0.1.1\r\n",
      "scipy                         1.9.3\r\n",
      "Send2Trash                    1.8.2\r\n",
      "setuptools                    60.2.0\r\n",
      "shiboken2                     5.13.2\r\n",
      "six                           1.16.0\r\n",
      "sniffio                       1.3.0\r\n",
      "snowballstemmer               2.2.0\r\n",
      "soupsieve                     2.4.1\r\n",
      "Sphinx                        6.2.1\r\n",
      "sphinxcontrib-applehelp       1.0.4\r\n",
      "sphinxcontrib-devhelp         1.0.2\r\n",
      "sphinxcontrib-htmlhelp        2.0.1\r\n",
      "sphinxcontrib-jsmath          1.0.1\r\n",
      "sphinxcontrib-qthelp          1.0.3\r\n",
      "sphinxcontrib-serializinghtml 1.1.5\r\n",
      "stack-data                    0.6.2\r\n",
      "tenacity                      8.2.2\r\n",
      "terminado                     0.17.1\r\n",
      "tinycss2                      1.2.1\r\n",
      "tornado                       6.3.2\r\n",
      "traitlets                     5.9.0\r\n",
      "uri-template                  1.2.0\r\n",
      "urllib3                       2.0.2\r\n",
      "wcwidth                       0.2.6\r\n",
      "webcolors                     1.13\r\n",
      "webencodings                  0.5.1\r\n",
      "websocket-client              1.5.2\r\n",
      "wheel                         0.38.4\r\n",
      "widgetsnbextension            4.0.7\r\n",
      "\r\n",
      "\u001B[1m[\u001B[0m\u001B[34;49mnotice\u001B[0m\u001B[1;39;49m]\u001B[0m\u001B[39;49m A new release of pip available: \u001B[0m\u001B[31;49m22.3.1\u001B[0m\u001B[39;49m -> \u001B[0m\u001B[32;49m23.1.2\u001B[0m\r\n",
      "\u001B[1m[\u001B[0m\u001B[34;49mnotice\u001B[0m\u001B[1;39;49m]\u001B[0m\u001B[39;49m To update, run: \u001B[0m\u001B[32;49mpip install --upgrade pip\u001B[0m\r\n",
      "Note: you may need to restart the kernel to use updated packages.\n"
     ]
    }
   ],
   "source": [
    "pip list"
   ],
   "metadata": {
    "collapsed": false
   }
  },
  {
   "cell_type": "code",
   "execution_count": 3,
   "outputs": [],
   "source": [
    "import numpy as np\n",
    "from numpy.random import default_rng\n",
    "from numpy.polynomial import Polynomial as P\n",
    "from scipy import special\n",
    "import pandas as pd\n",
    "\n",
    "from ograyspy_class import select_spectrum_from_folder_list\n",
    "from spec_class import Spec"
   ],
   "metadata": {
    "collapsed": false
   }
  },
  {
   "cell_type": "code",
   "execution_count": 4,
   "outputs": [
    {
     "ename": "ModuleNotFoundError",
     "evalue": "No module named 'lmfit'",
     "output_type": "error",
     "traceback": [
      "\u001B[0;31m---------------------------------------------------------------------------\u001B[0m",
      "\u001B[0;31mModuleNotFoundError\u001B[0m                       Traceback (most recent call last)",
      "Cell \u001B[0;32mIn[4], line 2\u001B[0m\n\u001B[1;32m      1\u001B[0m \u001B[38;5;66;03m# https://lmfit.github.io/lmfit-py/builtin_models.html\u001B[39;00m\n\u001B[0;32m----> 2\u001B[0m \u001B[38;5;28;01mfrom\u001B[39;00m \u001B[38;5;21;01mlmfit\u001B[39;00m \u001B[38;5;28;01mimport\u001B[39;00m Model, minimize, Parameters, report_fit, fit_report, printfuncs\n\u001B[1;32m      3\u001B[0m \u001B[38;5;28;01mfrom\u001B[39;00m \u001B[38;5;21;01mlmfit\u001B[39;00m\u001B[38;5;21;01m.\u001B[39;00m\u001B[38;5;21;01mmodels\u001B[39;00m \u001B[38;5;28;01mimport\u001B[39;00m LinearModel, StepModel, ExponentialModel, LorentzianModel\n\u001B[1;32m      4\u001B[0m \u001B[38;5;28;01mfrom\u001B[39;00m \u001B[38;5;21;01mlmfit\u001B[39;00m\u001B[38;5;21;01m.\u001B[39;00m\u001B[38;5;21;01mmodels\u001B[39;00m \u001B[38;5;28;01mimport\u001B[39;00m GaussianModel, SkewedGaussianModel, ExpressionModel\n",
      "\u001B[0;31mModuleNotFoundError\u001B[0m: No module named 'lmfit'"
     ]
    }
   ],
   "source": [
    "# https://lmfit.github.io/lmfit-py/builtin_models.html\n",
    "from lmfit import Model, minimize, Parameters, report_fit, fit_report, printfuncs\n",
    "from lmfit.models import LinearModel, StepModel, ExponentialModel, LorentzianModel\n",
    "from lmfit.models import GaussianModel, SkewedGaussianModel, ExpressionModel"
   ],
   "metadata": {
    "collapsed": false
   }
  },
  {
   "cell_type": "code",
   "execution_count": null,
   "outputs": [],
   "source": [
    "from ograyspy_class import Ograyspy"
   ],
   "metadata": {
    "collapsed": false
   }
  },
  {
   "cell_type": "code",
   "execution_count": null,
   "outputs": [],
   "source": [
    "ogra = Ograyspy(batch_mode=False, folder_to_find='Genie_Transfer')\n",
    "print('Objeto ogra: Ograyspy criado.')\n",
    "print(f'ogra.info_plat: {ogra.info_plat}')\n",
    "print(f'ogra.info_mach: {ogra.info_mach}')\n",
    "print(f'ogra.info_syst: {ogra.info_syst}')\n",
    "print(f'ogra.info_node: {ogra.info_node}')\n",
    "print(f'ogra.home_path: {ogra.home_path}')"
   ],
   "metadata": {
    "collapsed": false
   }
  },
  {
   "cell_type": "code",
   "execution_count": null,
   "outputs": [],
   "source": [
    "# a spectrum pattern to find and test:"
   ],
   "metadata": {
    "collapsed": false
   }
  },
  {
   "cell_type": "code",
   "execution_count": null,
   "outputs": [],
   "source": [
    "# 2022\n",
    "# Se quiser ignorar o espectro aleatório, definir aqui um específico. Se não, pular.\n",
    "# Vou ignorar o espectro já analisado e refazer a análise, para testes.\n",
    "# 2022-Mar-24 Resolver essa questão dos nomes de arquivos em Linux e Windows\n",
    "# a_spec_name = '..\\\\..\\\\Genie_Transfer\\\\Si\\\\2018\\\\PNR\\\\PRN0803.Chn'\n",
    "# a_spec_name = '../../Genie_Transfer/Si/2018/PNR/PRN0803.Chn'\n",
    "# a_spec_name = '../../Genie_Transfer/Si/2018/CTP/CTP0908-2.Chn'\n",
    "# Esse é um que dá problema na baseline perto do 159 keV do I-123:\n",
    "# a_spec_name = '../../Genie_Transfer/Si/2018/CCI/CCI1508I.Chn'\n",
    "# Precisa quebrar mais a baseline: Ok, consertado!!!\n",
    "# 2022: Já usando o GMX:\n",
    "# a_spec_name = '../../Genie_Transfer/Filtros/2022/Cci/CCI1603-I.Chn'\n",
    "\n"
   ],
   "metadata": {
    "collapsed": false
   }
  },
  {
   "cell_type": "code",
   "execution_count": null,
   "outputs": [],
   "source": [
    "\n",
    "# 2022-out-7: Excelente espectro para testes, tenho usado ultimamente:\n",
    "# a_pattern = 'Si/SI2018/SI11318.Chn'\n",
    "# 2022-nov-16: outros espectros:\n",
    "# a_pattern = \"Filtros/2022/Cci/CCI1603-I.Chn\"\n",
    "# a_pattern = \"Filtros/2022/Cci/CCI2302-I.Chn\"\n",
    "\n",
    "# a_pattern = \"Eso_non_existe.Chn\"\n",
    "\n",
    "# 2022-Dez-21 Buscando outro espectro\n",
    "# a_pattern = 'CCI1603-I'\n",
    "# 2022-Dez-28 Este é um espectro mais recente:\n",
    "# a_pattern = 'SI09722.Chn'\n",
    "# 2022-Dez-28 Este é um espectro mais recente que posso comparar com saída do Genie:\n",
    "a_pattern = 'SI06322.Chn'"
   ],
   "metadata": {
    "collapsed": false
   }
  },
  {
   "cell_type": "code",
   "execution_count": null,
   "outputs": [],
   "source": [
    "dir(ogra)"
   ],
   "metadata": {
    "collapsed": false
   }
  },
  {
   "cell_type": "code",
   "execution_count": null,
   "outputs": [],
   "source": [
    "vars(ogra)"
   ],
   "metadata": {
    "collapsed": false
   }
  },
  {
   "cell_type": "code",
   "execution_count": null,
   "outputs": [],
   "source": [
    "# Select a machine/system to read from:\n",
    "spectra_list_df = pd.read_pickle(ogra.pkl_folder_files)\n",
    "spectra_list_df"
   ],
   "metadata": {
    "collapsed": false
   }
  },
  {
   "cell_type": "code",
   "execution_count": null,
   "outputs": [],
   "source": [],
   "metadata": {
    "collapsed": false
   }
  },
  {
   "cell_type": "code",
   "execution_count": null,
   "outputs": [],
   "source": [
    "reduc_nms = spectra_list_df.reduced_names_files_list[0]\n",
    "fil_lst = spectra_list_df.files_list[0]\n",
    "spc_pth = spectra_list_df.spectra_path[0]"
   ],
   "metadata": {
    "collapsed": false
   }
  },
  {
   "cell_type": "code",
   "execution_count": null,
   "outputs": [],
   "source": [
    "reduc_nms"
   ],
   "metadata": {
    "collapsed": false
   }
  },
  {
   "cell_type": "code",
   "execution_count": null,
   "outputs": [],
   "source": [
    "a_spec_name, reduced_f_name = select_spectrum_from_folder_list(reduc_nms, fil_lst, spc_pth, a_pattern)"
   ],
   "metadata": {
    "collapsed": false
   }
  },
  {
   "cell_type": "code",
   "execution_count": null,
   "outputs": [],
   "source": [
    "a_spec_name, reduced_f_name"
   ],
   "metadata": {
    "collapsed": false
   }
  },
  {
   "cell_type": "code",
   "execution_count": null,
   "outputs": [],
   "source": [
    "a_spec = Spec(a_spec_name, reduced_f_name)"
   ],
   "metadata": {
    "collapsed": false
   }
  },
  {
   "cell_type": "code",
   "execution_count": null,
   "outputs": [],
   "source": [
    "vars(a_spec)"
   ],
   "metadata": {
    "collapsed": false
   }
  },
  {
   "cell_type": "code",
   "execution_count": null,
   "outputs": [],
   "source": [],
   "metadata": {
    "collapsed": false
   }
  },
  {
   "cell_type": "code",
   "execution_count": null,
   "outputs": [],
   "source": [],
   "metadata": {
    "collapsed": false
   }
  },
  {
   "cell_type": "code",
   "execution_count": null,
   "outputs": [],
   "source": [
    "# 2023-Jun-13\n",
    "# PAREI AQUI: levar tudo que está aqui para\n",
    "# nuclide_identification.ipynb\n"
   ],
   "metadata": {
    "collapsed": false
   }
  },
  {
   "cell_type": "code",
   "execution_count": null,
   "outputs": [],
   "source": [],
   "metadata": {
    "collapsed": false
   }
  },
  {
   "cell_type": "code",
   "execution_count": null,
   "outputs": [],
   "source": [
    "p_en = a_spec.channel_energy_calib.p_en\n",
    "p_en"
   ],
   "metadata": {
    "collapsed": false
   }
  },
  {
   "cell_type": "code",
   "execution_count": null,
   "outputs": [],
   "source": [
    "peaks_df['energy'] = p_en(peaks_df['centroids'])\n",
    "peaks_df"
   ],
   "metadata": {
    "collapsed": false
   }
  },
  {
   "cell_type": "code",
   "execution_count": null,
   "outputs": [],
   "source": [
    "# 2023-Mar-21: Identify nuclide candidates in peaks_df from pisciro_eng_df, with energy tolerance en_toler"
   ],
   "metadata": {
    "collapsed": false
   }
  },
  {
   "cell_type": "code",
   "execution_count": null,
   "outputs": [],
   "source": [
    "big_merge = pd.merge(peaks_df, pisciro_eng_df, how='cross')\n",
    "big_merge"
   ],
   "metadata": {
    "collapsed": false
   }
  },
  {
   "cell_type": "code",
   "execution_count": null,
   "outputs": [],
   "source": [
    "en_toler = 2.0"
   ],
   "metadata": {
    "collapsed": false
   }
  },
  {
   "cell_type": "code",
   "execution_count": null,
   "outputs": [],
   "source": [
    "big_merge['delta_en'] = big_merge.energy - big_merge.Engy\n",
    "big_merge"
   ],
   "metadata": {
    "collapsed": false
   }
  },
  {
   "cell_type": "code",
   "execution_count": null,
   "outputs": [],
   "source": [
    "# https://pandas.pydata.org/pandas-docs/stable/user_guide/indexing.html#selection-by-callable\n",
    "# MaTched ENergies\n",
    "mt_en = pd.DataFrame(big_merge.loc[lambda df: abs(df['delta_en']) < en_toler, :]) \\\n",
    "[['Engy', 'Nucl', 'rough_sums', 'Yie']]\n",
    "mt_en\n",
    "# mt_en[['Engy', 'Nucl']]"
   ],
   "metadata": {
    "collapsed": false
   }
  },
  {
   "cell_type": "code",
   "execution_count": null,
   "outputs": [],
   "source": [
    "\n",
    "msedg serg set asrhg saertrg"
   ],
   "metadata": {
    "collapsed": false
   }
  },
  {
   "cell_type": "code",
   "execution_count": null,
   "outputs": [],
   "source": [],
   "metadata": {
    "collapsed": false
   }
  },
  {
   "cell_type": "code",
   "execution_count": null,
   "outputs": [],
   "source": [
    "rng = np.random.default_rng()\n",
    "# rints = rng.integers(low=0, high=10, size=3)\n",
    "\n",
    "# 2022-Jun-23: Reativar após consertar o arquivo pickle:\n",
    "# rints = rng.integers(pkl_df1.count()[0], size=3)\n",
    "# print(rints)\n",
    "# type(rints[0])\n",
    "# some_spec = rints[1]\n",
    "# pkl_df1.iloc[some_spec]\n",
    "# a_spec_name = pkl_df1.iloc[some_spec]['FName']\n",
    "# a_spec_name"
   ],
   "metadata": {
    "collapsed": false
   }
  },
  {
   "cell_type": "code",
   "execution_count": null,
   "outputs": [],
   "source": [
    "# 2022-Dez-28: Atualizar:\n",
    "# (2022-Jun-24 Lembrando como estão os defaults de total_analysis(...):\n",
    "# def total_analysis(self, k_sep_pk=2.0, smoo=3000.0, widths_range=(4.0, 20.0)):)\n",
    "# smoo=3000 fica razoável, mas faz umas ondas\n",
    "# smoo=1500 fica horrível, faz uns abismos. Quanto menor, pior\n",
    "# smoo=400 fica razoável, mas faz umas ondas\n",
    "# ogra.perform_total_analysis(\n",
    "#     k_sep_pk=2.0, smoo=4096, widths_range=(4.0, 20.0)\n",
    "# )"
   ],
   "metadata": {
    "collapsed": false
   }
  },
  {
   "cell_type": "code",
   "execution_count": null,
   "outputs": [],
   "source": [],
   "metadata": {
    "collapsed": false
   }
  },
  {
   "cell_type": "code",
   "execution_count": null,
   "outputs": [],
   "source": [],
   "metadata": {
    "collapsed": false
   }
  },
  {
   "cell_type": "code",
   "execution_count": null,
   "outputs": [],
   "source": [],
   "metadata": {
    "collapsed": false
   }
  },
  {
   "cell_type": "code",
   "execution_count": null,
   "outputs": [],
   "source": [],
   "metadata": {
    "collapsed": false
   }
  },
  {
   "cell_type": "code",
   "execution_count": null,
   "outputs": [],
   "source": [
    "# 2022-Jun-14\n",
    "# Verificando o que se tem até agora em a_raw_spec:\n",
    "# (Pode pular e ir direto aos gráficos)"
   ],
   "metadata": {
    "collapsed": false
   }
  },
  {
   "cell_type": "code",
   "execution_count": null,
   "outputs": [],
   "source": [
    "\n",
    "# Testes:\n",
    "# https://numpy.org/doc/stable/reference/random/generator.html#distributions\n",
    "# x = np.linspace(0, 10, N) + rng.normal(loc=7, scale=0.05, size=N)\n",
    "# y = np.linspace(22, 23, N)\n",
    "\n",
    "# Busca do canal onde a altura do espectro se \"estabiliza\"\n",
    "# https://numpy.org/doc/stable/reference/routines.sort.html#searching\n",
    "\n"
   ],
   "metadata": {
    "collapsed": false
   }
  },
  {
   "cell_type": "code",
   "execution_count": null,
   "outputs": [],
   "source": [
    "vars(pkprms)"
   ],
   "metadata": {
    "collapsed": false
   }
  },
  {
   "cell_type": "code",
   "execution_count": null,
   "outputs": [],
   "source": [
    "# 2022-Dez-21 Achar o pico de maior área inicial do espectro:"
   ],
   "metadata": {
    "collapsed": false
   }
  },
  {
   "cell_type": "code",
   "execution_count": null,
   "outputs": [],
   "source": [
    "largest_pk = np.argmax(pkprms.rough_sums)\n",
    "pkprms.centroids[largest_pk]"
   ],
   "metadata": {
    "collapsed": false
   }
  },
  {
   "cell_type": "code",
   "execution_count": null,
   "outputs": [],
   "source": [
    "# Só pra lembrar como faz divisão inteira\n",
    "21 // 7"
   ],
   "metadata": {
    "collapsed": false
   }
  },
  {
   "cell_type": "code",
   "execution_count": null,
   "outputs": [],
   "source": [
    "wi_re = pkprms.wide_regions[largest_pk]\n",
    "x = np.linspace(wi_re[0], wi_re[1], num=wi_re[1]-wi_re[0]+1)\n",
    "y = cntarr[wi_re[0]:wi_re[1]+1]\n",
    "c1 =  pkprms.centroids[largest_pk]\n",
    "s1 = pkprms.propts['widths'][largest_pk]*pkprms.k_fwhm_to_sd\n",
    "a1 = pkprms.rough_sums[largest_pk]\n",
    "# c2 = 313\n",
    "# s2 = 1.5\n",
    "# a2 = 400\n",
    "sste = 2.0"
   ],
   "metadata": {
    "collapsed": false
   }
  },
  {
   "cell_type": "code",
   "execution_count": null,
   "outputs": [],
   "source": [],
   "metadata": {
    "collapsed": false
   }
  },
  {
   "cell_type": "code",
   "execution_count": null,
   "outputs": [],
   "source": [
    "# 2023-Jan-3\n",
    "# Aqui finalizo este teste:\n",
    "# Dado um espectro, escolhi o pico mais proeminente do espectro\n",
    "# e fiz o ajuste gaussianco com lmfit\n",
    "# No caso, o pico tem área, centroide, SD e FWHM:\n",
    "# g1_amplitude:  5264.84728 +/- 85.1465566 (1.62%) (init = 5347.497)\n",
    "# g1_center:     1926.29564 +/- 0.02690572 (0.00%) (init = 1926.275)\n",
    "# g1_sigma:      1.44040103 +/- 0.02690060 (1.87%) (init = 1.418733)\n",
    "# g1_fwhm:       3.39188516 +/- 0.06334608 (1.87%) == '2.3548200*g1_sigma'\n",
    "# g1_height:     1458.18438 +/- 23.5824677 (1.62%) == '0.3989423*g1_amplitude/max(1e-15, g1_sigma)'\n",
    "\n",
    "# Comparando com saíuda do Genie:\n",
    "# canal (>0)    En:    FWHM (keV)    net area    net area unc   continuum\n",
    "# 1927.34      1173.47 2.04          5.40E+003   89.73          8.83E+002\n",
    "#"
   ],
   "metadata": {
    "collapsed": false
   }
  },
  {
   "cell_type": "code",
   "execution_count": null,
   "outputs": [],
   "source": [
    "out"
   ],
   "metadata": {
    "collapsed": false
   }
  },
  {
   "cell_type": "code",
   "execution_count": null,
   "outputs": [],
   "source": [
    "out.params"
   ],
   "metadata": {
    "collapsed": false
   }
  },
  {
   "cell_type": "code",
   "execution_count": null,
   "outputs": [],
   "source": [
    "out.var_names"
   ],
   "metadata": {
    "collapsed": false
   }
  },
  {
   "cell_type": "code",
   "execution_count": null,
   "outputs": [],
   "source": [
    "out.params.items()"
   ],
   "metadata": {
    "collapsed": false
   }
  },
  {
   "cell_type": "code",
   "execution_count": null,
   "outputs": [],
   "source": [
    "out.params.pretty_print()"
   ],
   "metadata": {
    "collapsed": false
   }
  },
  {
   "cell_type": "code",
   "execution_count": null,
   "outputs": [],
   "source": [
    "print('-------------------------------')\n",
    "print('Parameter    Value       Stderr')\n",
    "for name, param in out.params.items():\n",
    "    # print(f'{name:7s} {param.value:11.5f} {param.stderr:11.5f}')\n",
    "    print(name)\n",
    "    print(param)\n",
    "    print(param.value)"
   ],
   "metadata": {
    "collapsed": false
   }
  },
  {
   "cell_type": "code",
   "execution_count": null,
   "outputs": [],
   "source": [],
   "metadata": {
    "collapsed": false
   }
  },
  {
   "cell_type": "code",
   "execution_count": null,
   "outputs": [],
   "source": [
    "def gauss_lmfit_singlet(pkprms, ipk):\n",
    "    wi_re = pkprms.wide_regions[ipk]\n",
    "    print(f'pico: {wi_re}')\n",
    "    x = np.linspace(wi_re[0], wi_re[1], num=wi_re[1]-wi_re[0]+1)\n",
    "    y = cntarr[wi_re[0]:wi_re[1]+1]\n",
    "    c1 = pkprms.centroids[ipk]\n",
    "    s1 = pkprms.propts['widths'][ipk]*pkprms.k_fwhm_to_sd\n",
    "    a1 = pkprms.rough_sums[ipk]\n",
    "\n",
    "    parames = Parameters()\n",
    "\n",
    "    gauss1 = GaussianModel(prefix='g1_')\n",
    "    parames.update(gauss1.make_params())\n",
    "    parames['g1_center'].set(value=c1, min=c1-2, max=c1+2)\n",
    "    parames['g1_sigma'].set(value=s1, min=0.5, max=10)\n",
    "    parames['g1_amplitude'].set(value=a1, min=10)\n",
    "\n",
    "    mod = gauss1\n",
    "\n",
    "    init = mod.eval(parames, x=x)\n",
    "    out = mod.fit(y, parames, x=x, verbose=False)\n",
    "    print('Fez.')\n",
    "\n",
    "    # ret = [param for param in out.params.items()]\n",
    "    ret = out\n",
    "    return ret"
   ],
   "metadata": {
    "collapsed": false
   }
  },
  {
   "cell_type": "code",
   "execution_count": null,
   "outputs": [],
   "source": [
    "for ipk in range(len(pkprms.peaks)):\n",
    "    ret = gauss_lmfit_singlet(pkprms, ipk)\n",
    "    print(ret)"
   ],
   "metadata": {
    "collapsed": false
   }
  },
  {
   "cell_type": "code",
   "execution_count": null,
   "outputs": [],
   "source": [
    "ret"
   ],
   "metadata": {
    "collapsed": false
   }
  },
  {
   "cell_type": "code",
   "execution_count": null,
   "outputs": [],
   "source": [
    "ret.params"
   ],
   "metadata": {
    "collapsed": false
   }
  },
  {
   "cell_type": "code",
   "execution_count": null,
   "outputs": [],
   "source": [
    "for name, param in ret.params.items():\n",
    "    print(name, param.value, param.stderr)"
   ],
   "metadata": {
    "collapsed": false
   }
  },
  {
   "cell_type": "code",
   "execution_count": null,
   "outputs": [],
   "source": [
    "for ipk in range(len(pkprms.peaks)):\n",
    "    ret = gauss_lmfit_singlet(pkprms, ipk)\n",
    "    # ret.params.pretty_print()"
   ],
   "metadata": {
    "collapsed": false
   }
  },
  {
   "cell_type": "code",
   "execution_count": null,
   "outputs": [],
   "source": [
    "ret"
   ],
   "metadata": {
    "collapsed": false
   }
  },
  {
   "cell_type": "code",
   "execution_count": null,
   "outputs": [],
   "source": [
    "xfgn sr hsrthf srth"
   ],
   "metadata": {
    "collapsed": false
   }
  },
  {
   "cell_type": "code",
   "execution_count": null,
   "outputs": [],
   "source": [],
   "metadata": {
    "collapsed": false
   }
  },
  {
   "cell_type": "code",
   "execution_count": null,
   "outputs": [],
   "source": [],
   "metadata": {
    "collapsed": false
   }
  },
  {
   "cell_type": "code",
   "execution_count": null,
   "outputs": [],
   "source": [],
   "metadata": {
    "collapsed": false
   }
  },
  {
   "cell_type": "code",
   "execution_count": null,
   "outputs": [],
   "source": [],
   "metadata": {
    "collapsed": false
   }
  },
  {
   "cell_type": "code",
   "execution_count": null,
   "outputs": [],
   "source": [
    "my_df.dtypes"
   ],
   "metadata": {
    "collapsed": false
   }
  },
  {
   "cell_type": "code",
   "execution_count": null,
   "outputs": [],
   "source": [
    "ch_en = ogra.a_spec.channel_energy_calib.p_en"
   ],
   "metadata": {
    "collapsed": false
   }
  },
  {
   "cell_type": "code",
   "execution_count": null,
   "outputs": [],
   "source": [
    "my_df['centrs_en'] = ch_en(my_df['centroids'])\n",
    "my_df"
   ],
   "metadata": {
    "collapsed": false
   }
  },
  {
   "cell_type": "code",
   "execution_count": 11,
   "outputs": [],
   "source": [
    "# The End"
   ],
   "metadata": {
    "collapsed": false
   }
  },
  {
   "cell_type": "code",
   "execution_count": null,
   "outputs": [],
   "source": [],
   "metadata": {
    "collapsed": false
   }
  }
 ]
}
