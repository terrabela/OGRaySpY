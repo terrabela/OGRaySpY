{
 "metadata": {
  "kernelspec": {
   "display_name": "Python 3 (ipykernel)",
   "language": "python",
   "name": "python3"
  },
  "language_info": {
   "codemirror_mode": {
    "name": "ipython",
    "version": 3
   },
   "file_extension": ".py",
   "mimetype": "text/x-python",
   "name": "python",
   "nbconvert_exporter": "python",
   "pygments_lexer": "ipython3",
   "version": "3.10.11"
  }
 },
 "nbformat_minor": 4,
 "nbformat": 4,
 "cells": [
  {
   "cell_type": "code",
   "source": [
    "\n",
    "# 2022-out-7: Excelente espectro para testes, tenho usado ultimamente:\n",
    "# a_pattern = 'Si/SI2018/SI11318.Chn'\n",
    "# 2022-nov-16: outros espectros:\n",
    "# a_pattern = \"Filtros/2022/Cci/CCI1603-I.Chn\"\n",
    "# a_pattern = \"Filtros/2022/Cci/CCI2302-I.Chn\"\n",
    "\n",
    "# a_pattern = \"Eso_non_existe.Chn\"\n",
    "\n",
    "# 2022-Dez-21 Buscando outro espectro\n",
    "# a_pattern = 'CCI1603-I'\n",
    "# 2022-Dez-28 Este é um espectro mais recente:\n",
    "# a_pattern = 'SI09722.Chn'\n",
    "# 2022-Dez-28 Este é um espectro mais recente que posso comparar com saída do Genie:\n",
    "# a_pattern = 'SI06322.Chn'\n",
    "# a_pattern = 'SI06122.Chn'"
   ],
   "metadata": {
    "tags": [],
    "trusted": true,
    "ExecuteTime": {
     "end_time": "2023-10-18T16:52:22.942878597Z",
     "start_time": "2023-10-18T16:52:22.789202466Z"
    }
   },
   "execution_count": 1,
   "outputs": []
  },
  {
   "cell_type": "code",
   "source": [
    "import numpy as np\n",
    "from numpy.polynomial import Polynomial as P  # 2020-09-06 Esta é a nova classe recomendada\n",
    "from sklearn import linear_model\n",
    "\n",
    "import pandas as pd\n",
    "from random import randrange\n",
    "# import plotly.graph_objects as go"
   ],
   "metadata": {
    "tags": [],
    "collapsed": false,
    "trusted": true,
    "ExecuteTime": {
     "end_time": "2023-10-18T16:52:24.386145246Z",
     "start_time": "2023-10-18T16:52:22.789648360Z"
    }
   },
   "execution_count": 2,
   "outputs": []
  },
  {
   "cell_type": "code",
   "source": [
    "from ograyspy_class import Ograyspy, select_spectrum_from_folder_list\n",
    "from spec_class import Spec"
   ],
   "metadata": {
    "tags": [],
    "trusted": true,
    "ExecuteTime": {
     "end_time": "2023-10-18T16:52:24.439920631Z",
     "start_time": "2023-10-18T16:52:24.381607721Z"
    }
   },
   "execution_count": 3,
   "outputs": []
  },
  {
   "cell_type": "code",
   "source": [
    "ogra = Ograyspy()\n",
    "print(ogra.info_node)\n",
    "to_be_found = 'Genie_Transfer'\n",
    "# to_be_found = 'some_spectra' # NAO ESTAH ACHANDO localmente no note!"
   ],
   "metadata": {
    "tags": [],
    "collapsed": false,
    "trusted": true,
    "ExecuteTime": {
     "end_time": "2023-10-18T16:52:25.789489308Z",
     "start_time": "2023-10-18T16:52:25.145533385Z"
    }
   },
   "execution_count": 4,
   "outputs": [
    {
     "name": "stdout",
     "output_type": "stream",
     "text": [
      "Found folder name:  /home/marcelofm/snap\n",
      "Parts:  ('/', 'home', 'marcelofm', 'snap')\n",
      "No. spec files:  0\n",
      "marcelofm-X540LA\n"
     ]
    }
   ]
  },
  {
   "cell_type": "code",
   "source": [
    "print('\\nExec ogra.define_files_folder(to_be_found):')\n",
    "ogra.define_files_folder(to_be_found)\n",
    "print(ogra.pkl_folder_files)\n",
    "spectra_list_df = pd.read_pickle(ogra.pkl_folder_files)\n",
    "del ogra"
   ],
   "metadata": {
    "tags": [],
    "trusted": true,
    "ExecuteTime": {
     "end_time": "2023-10-18T16:34:26.141247501Z",
     "start_time": "2023-10-18T16:34:25.380427900Z"
    }
   },
   "execution_count": 5,
   "outputs": [
    {
     "name": "stdout",
     "output_type": "stream",
     "text": [
      "\n",
      "Exec ogra.define_files_folder(to_be_found):\n",
      "Found folder name:  /home/marcelofm/Nextcloud/Genie_Transfer\n",
      "Parts:  ('/', 'home', 'marcelofm', 'Nextcloud', 'Genie_Transfer')\n",
      "No. spec files:  7292\n",
      "Linuxmarcelofm-X540LA.pkl\n"
     ]
    }
   ]
  },
  {
   "cell_type": "code",
   "source": [
    "reduc_nms = spectra_list_df.reduced_names_files_list[0]\n",
    "fil_lst = spectra_list_df.files_list[0]\n",
    "spc_pth = spectra_list_df.spectra_path[0]"
   ],
   "metadata": {
    "tags": [],
    "trusted": true,
    "ExecuteTime": {
     "end_time": "2023-10-18T16:34:26.275223140Z",
     "start_time": "2023-10-18T16:34:26.042081667Z"
    }
   },
   "execution_count": 6,
   "outputs": []
  },
  {
   "cell_type": "code",
   "source": [
    "reduc_nms"
   ],
   "metadata": {
    "tags": [],
    "collapsed": false,
    "trusted": true,
    "ExecuteTime": {
     "end_time": "2023-10-18T16:34:26.398099286Z",
     "start_time": "2023-10-18T16:34:26.241146570Z"
    }
   },
   "execution_count": 7,
   "outputs": [
    {
     "data": {
      "text/plain": "['BGNOVO.Chn',\n 'testes_lowbg_planar/Ba133 Planar.Chn',\n 'testes_lowbg_planar/576ALoBG.Chn',\n 'testes_lowbg_planar/Eu152 Planar.Chn',\n 'testes_lowbg_planar/2022-dez-09_Co-60_colimado.Chn',\n 'testes_lowbg_planar/2022-dez-09_Co-60_bequer.Chn',\n 'PNI_2022-04/Dy Abr-22 - digimed 1 - Det P.Chn',\n 'PNI_2022-04/Dy Abr-22 - digimed 2 - Det P.Chn',\n 'PNI_2022-04/Dy Abr-22 - digimed 3 - Det P.Chn',\n 'Luiz/Ra226/teste 1/Branco B 20ks.Chn',\n 'Luiz/Ra226/teste 1/PNI D 20ks.Chn',\n 'Luiz/Ra226/teste 1/PNI E 20ks.Chn',\n 'Luiz/Ra226/teste 1/Branco A 20ks.Chn',\n 'Luiz/Ra226/teste 1/Geiser C 20ks.Chn',\n 'Luiz/Ra226/teste 1/Pote vazio 20ks.Chn',\n 'Si/SI2004/si19504.CHN',\n 'Si/SI2004/si12104.CHN',\n 'Si/SI2004/si19104.CHN',\n 'Si/SI2004/si12204.CHN',\n 'Si/SI2004/si16904.CHN',\n 'Si/SI2004/CCI13101.chn',\n 'Si/SI2004/si12904.CHN',\n 'Si/SI2004/si034042.chn',\n 'Si/SI2004/SI11804.chn',\n 'Si/SI2004/SI14704.CHN',\n 'Si/SI2004/SI13804.CHN',\n 'Si/SI2004/SI20804.chn',\n 'Si/SI2004/si20304.chn',\n 'Si/SI2004/si15204.CHN',\n 'Si/SI2004/si11704.CHN',\n 'Si/SI2004/SI18204A.CHN',\n 'Si/SI2004/SI13704.CHN',\n 'Si/SI2004/si18104.CHN',\n 'Si/SI2004/SI19004.CHN',\n 'Si/SI2004/si11904.chn',\n 'Si/SI2004/rqba.chn',\n 'Si/SI2004/SI15604.CHN',\n 'Si/SI2004/si16104.CHN',\n 'Si/SI2004/si13004.CHN',\n 'Si/SI2004/SI13904.CHN',\n 'Si/SI2004/SI14004.CHN',\n 'Si/SI2004/SI18004.CHN',\n 'Si/SI2004/SI16004.CHN',\n 'Si/SI2004/si14804.CHN',\n 'Si/SI2004/SI18204.CHN',\n 'Si/SI2004/brs10d.chn',\n 'Si/SI2004/SI18604.CHN',\n 'Si/SI2004/si20404.CHN',\n 'Si/SI2004/si12004.CHN',\n 'Si/SI2004/si16504.CHN',\n 'Si/SI2004/SI17304.CHN',\n 'Si/SI2004/alg11x11.chn',\n 'Si/SI2004/si20104.CHN',\n 'Si/Si2006/SI16806.Chn',\n 'Si/Si2006/si18806.Chn',\n 'Si/Si2006/si05306.Chn',\n 'Si/Si2006/SI00706.Chn',\n 'Si/Si2006/SI07106.Chn',\n 'Si/Si2006/SI07906.Chn',\n 'Si/Si2006/si15906.Chn',\n 'Si/Si2006/SI08306.Chn',\n 'Si/Si2006/si02506.Chn',\n 'Si/Si2006/si129-130-137-13806.Chn',\n 'Si/Si2006/si08406.Chn',\n 'Si/Si2006/si09506.Chn',\n 'Si/Si2006/si06306.Chn',\n 'Si/Si2006/si05906.Chn',\n 'Si/Si2006/SI15106.Chn',\n 'Si/Si2006/SI13206.Chn',\n 'Si/Si2006/si02406.Chn',\n 'Si/Si2006/si00506.Chn',\n 'Si/Si2006/SI05506.Chn',\n 'Si/Si2006/SI10806.Chn',\n 'Si/Si2006/si07706r.Chn',\n 'Si/Si2006/SI07006.Chn',\n 'Si/Si2006/SI07806.Chn',\n 'Si/Si2006/si18006.Chn',\n 'Si/Si2006/SI02606.Chn',\n 'Si/Si2006/SI7706.Chn',\n 'Si/Si2006/SI07006R.Chn',\n 'Si/Si2006/SI10906.Chn',\n 'Si/Si2006/SI06906.Chn',\n 'Si/Si2006/SI12206.Chn',\n 'Si/Si2006/si15006r.Chn',\n 'Si/Si2006/SI01506.Chn',\n 'Si/Si2006/si11306.Chn',\n 'Si/Si2006/SI15006.Chn',\n 'Si/Si2006/si17806.Chn',\n 'Si/Si2006/si11706.Chn',\n 'Si/Si2006/si05406.Chn',\n 'Si/Si2006/si139.140.Chn',\n 'Si/Si2006/si04906.Chn',\n 'Si/Si2006/si12606.Chn',\n 'Si/Si2006/si07206.Chn',\n 'Si/Si2006/SI12706.Chn',\n 'Si/Si2006/SI16006.Chn',\n 'Si/Si2006/si12106.Chn',\n 'Si/Si2006/si1503.Chn',\n 'Si/Si2006/SI049A06.Chn',\n 'Si/Si2006/si00606.Chn',\n 'Si/Si2006/si14606.Chn',\n 'Si/Si2006/SI06706.Chn',\n 'Si/Si2006/SI01906.Chn',\n 'Si/Si2006/SI9106.Chn',\n 'Si/Si2006/SI16206.Chn',\n 'Si/Si2006/si02306.Chn',\n 'Si/Si2006/si7806.Chn',\n 'Si/Si2006/si17606.Chn',\n 'Si/Si2006/si06806.Chn',\n 'Si/Si2006/SI12306.Chn',\n 'Si/Si2006/si09906.Chn',\n 'Si/Si2006/si10306.Chn',\n 'Si/Si2006/si03906.Chn',\n 'Si/Si2006/si01106.Chn',\n 'Si/Si2006/si12906.Chn',\n 'Si/Si2006/si00406.Chn',\n 'Si/Si2006/SI15106A.Chn',\n 'Si/Si2006/SI07606.Chn',\n 'Si/Si2006/si04906r.Chn',\n 'Si/Si2006/si16906.Chn',\n 'Si/Si2006/SI08706.Chn',\n 'Si/Si2006/SI17506.Chn',\n 'Si/Si2006/si10406.Chn',\n 'Si/Si2006/si03806.Chn',\n 'Si/Si2006/SI7006.Chn',\n 'Si/Si2006/si04806.Chn',\n 'Si/Si2006/SI13106.Chn',\n 'Si/Si2006/SI12506.Chn',\n 'Si/Si2006/SI03106.Chn',\n 'Si/Si2006/si12406.Chn',\n 'Si/Si2006/si16106.Chn',\n 'Si/Si2006/SI00506R.Chn',\n 'Si/Si2006/si17906.Chn',\n 'Si/Si2006/SI02706.Chn',\n 'Si/Si2006/si17706.Chn',\n 'Si/SI2016/SI02016.Chn',\n 'Si/SI2016/SI04516.Chn',\n 'Si/SI2016/BG DET E.Chn',\n 'Si/SI2016/SI04819.Chn',\n 'Si/SI2016/SI02416.Chn',\n 'Si/SI2016/SI06416.Chn',\n 'Si/SI2016/SI08516.Chn',\n 'Si/SI2016/SI03016.Chn',\n 'Si/SI2016/SI08216.Chn',\n 'Si/SI2016/SI07416.Chn',\n 'Si/SI2016/SI15116.Chn',\n 'Si/SI2016/SI10316.Chn',\n 'Si/SI2016/SI01916.Chn',\n 'Si/SI2016/SI07816.Chn',\n 'Si/SI2016/SI02816.Chn',\n 'Si/SI2016/SI11916.Chn',\n 'Si/SI2016/SI14216.Chn',\n 'Si/SI2016/si13916.Chn',\n 'Si/SI2016/SI14416.Chn',\n 'Si/SI2016/SI13616.Chn',\n 'Si/SI2016/SI09416.Chn',\n 'Si/SI2016/SI05016.Chn',\n 'Si/SI2016/SI13816.Chn',\n 'Si/SI2016/SI6116.Chn',\n 'Si/SI2016/SI00716.Chn',\n 'Si/SI2016/SI14316.Chn',\n 'Si/SI2016/SI2616.Chn',\n 'Si/SI2016/SI10616.Chn',\n 'Si/SI2016/SI14516R.Chn',\n 'Si/SI2016/SI06716.Chn',\n 'Si/SI2016/SI12516.Chn',\n 'Si/SI2016/SI07716.Chn',\n 'Si/SI2016/SI13316.Chn',\n 'Si/SI2016/SI13016.Chn',\n 'Si/SI2016/SI10216.Chn',\n 'Si/SI2016/SI04616.Chn',\n 'Si/SI2016/SI14116.Chn',\n 'Si/SI2016/SI09116.Chn',\n 'Si/SI2016/SI12216.Chn',\n 'Si/SI2016/SI14516.Chn',\n 'Si/SI2016/SI08816.Chn',\n 'Si/SI2016/SI10916.Chn',\n 'Si/SI2016/SI04916.Chn',\n 'Si/SI2016/SI11816.Chn',\n 'Si/SI2016/SI14816.Chn',\n 'Si/SI2016/SI13716.Chn',\n 'Si/SI2016/SI2516.Chn',\n 'Si/SI2016/SI14016.Chn',\n 'Si/SI2016/SI11016.Chn',\n 'Si/SI2016/SI14716.Chn',\n 'Si/SI2016/SI14616.Chn',\n 'Si/SI2016/SI08116.Chn',\n 'Si/SI2016/SI09916.Chn',\n 'Si/SI2016/SI02916.Chn',\n 'Si/SI2016/SI11316.Chn',\n 'Si/SI2016/SI04716.Chn',\n 'Si/SI2016/SI02716.Chn',\n 'Si/SI2016/SI01516.Chn',\n 'Si/si2014/SI14514.Chn',\n 'Si/si2014/si17414.Chn',\n 'Si/si2014/si16814.Chn',\n 'Si/si2014/si15014.Chn',\n 'Si/si2014/SI12714.Chn',\n 'Si/si2014/cac073_14.Chn',\n 'Si/si2014/SI18214.Chn',\n 'Si/si2014/si11414.Chn',\n 'Si/si2014/si10114.Chn',\n 'Si/si2014/SI18314.Chn',\n 'Si/si2014/SI19614.Chn',\n 'Si/si2014/SI14614.Chn',\n 'Si/si2014/SI16714.Chn',\n 'Si/si2014/SI16914.Chn',\n 'Si/si2014/si03014.Chn',\n 'Si/si2014/SI12814.Chn',\n 'Si/si2014/SI11914.Chn',\n 'Si/si2014/SI12614.Chn',\n 'Si/si2014/SI13714.Chn',\n 'Si/si2014/si09914.Chn',\n 'Si/si2014/si10014.Chn',\n 'Si/si2014/SI18414.Chn',\n 'Si/si2014/si11214.Chn',\n 'Si/si2014/SI11514.Chn',\n 'Si/si2014/SI00714.Chn',\n 'Si/si2014/SI18814.Chn',\n 'Si/si2014/SI11814.Chn',\n 'Si/si2014/SI11414M.Chn',\n 'Si/si2014/si10214.Chn',\n 'Si/si2014/SI00814.Chn',\n 'Si/si2014/si15414.Chn',\n 'Si/si2014/SI19514.Chn',\n 'Si/si2014/SI11614.Chn',\n 'Si/si2014/si09814.Chn',\n 'Si/si2014/si13614.Chn',\n 'Si/si2014/SI14114.Chn',\n 'Si/si2014/si09714.Chn',\n 'Si/si2014/SI11714.Chn',\n 'Si/si2014/SI13214.Chn',\n 'Si/si2014/SI17014.Chn',\n 'Si/si2014/si11314.Chn',\n 'Si/SI2018/SI10318.Chn',\n 'Si/SI2018/SI09618.Chn',\n 'Si/SI2018/SI08118.Chn',\n 'Si/SI2018/co4.chn',\n 'Si/SI2018/SI10718.Chn',\n 'Si/SI2018/SI09818.Chn',\n 'Si/SI2018/SI07418.Chn',\n 'Si/SI2018/co1.chn',\n 'Si/SI2018/SI08718.Chn',\n 'Si/SI2018/si02618.Chn',\n 'Si/SI2018/SI08018.Chn',\n 'Si/SI2018/SI03118.Chn',\n 'Si/SI2018/Si05618.chn',\n 'Si/SI2018/Si06718.chn',\n 'Si/SI2018/co3.chn',\n 'Si/SI2018/co2.chn',\n 'Si/SI2018/SI09218.Chn',\n 'Si/SI2018/SI025182.Chn',\n 'Si/SI2018/SI09618 (aprox 17ks).Chn',\n 'Si/SI2018/Si03818.chn',\n 'Si/SI2018/SI07718.Chn',\n 'Si/SI2018/SI10918.Chn',\n 'Si/SI2018/SI00518.Chn',\n 'Si/SI2018/SI06818.Chn',\n 'Si/SI2018/SI10618.Chn',\n 'Si/SI2018/SI08818.Chn',\n 'Si/SI2018/SI07918.Chn',\n 'Si/SI2018/SI10118.Chn',\n 'Si/SI2018/SI01018.Chn',\n 'Si/SI2018/SI08218.Chn',\n 'Si/SI2018/SI09918.Chn',\n 'Si/SI2018/Si05718.chn',\n 'Si/SI2018/SI11418.Chn',\n 'Si/SI2018/SI10818.Chn',\n 'Si/SI2018/SI01518.Chn',\n 'Si/SI2018/SI03618.CHN',\n 'Si/SI2018/Si05818.chn',\n 'Si/SI2018/co6.chn',\n 'Si/SI2018/SI00618.Chn',\n 'Si/SI2018/Si06918.chn',\n 'Si/SI2018/SI09018.Chn',\n 'Si/SI2018/SI00718.Chn',\n 'Si/SI2018/co5.chn',\n 'Si/SI2018/SI10518.Chn',\n 'Si/SI2018/SI02418.Chn',\n 'Si/SI2018/SI09518.Chn',\n 'Si/SI2018/SI11318.Chn',\n 'Si/SI2018/SI02518.Chn',\n 'Si/SI2018/ESFREGAÇO CR MALVINA.Chn',\n 'Si/SI2018/SI10418.Chn',\n 'Si/SI2018/SI09718.Chn',\n 'Si/SI2018/SI10218.Chn',\n 'Si/SI2018/SI08318.Chn',\n 'Si/SI2018/SI10018.Chn',\n 'Si/SI2018/SI08918.Chn',\n 'Si/SI2018/Si03718.chn',\n 'Si/SI2018/SI08618.Chn',\n 'Si/SI2018/SI07818.Chn',\n 'Si/si2012/LIQFILTRA.Chn',\n 'Si/si2012/SI03912.Chn',\n 'Si/si2012/SI16812.Chn',\n 'Si/si2012/si16212.Chn',\n 'Si/si2012/SI01412.Chn',\n 'Si/si2012/SI05512.Chn',\n 'Si/si2012/SI14912.Chn',\n 'Si/si2012/SI04412.Chn',\n 'Si/si2012/SI16312.Chn',\n 'Si/si2012/SI10212.Chn',\n 'Si/si2012/SI11012.Chn',\n 'Si/si2012/SI03112.Chn',\n 'Si/si2012/SI09512.Chn',\n 'Si/si2012/SI10612.Chn',\n 'Si/si2012/SI03512.Chn',\n 'Si/si2012/SI07812.Chn',\n 'Si/si2012/SI01012.Chn',\n 'Si/si2012/SI13812.Chn',\n 'Si/si2012/SI13112.Chn',\n 'Si/si2012/SI12312.Chn',\n 'Si/si2012/SI14612.Chn',\n 'Si/si2012/LODOLIQ.Chn',\n 'Si/si2012/SI02312.Chn',\n 'Si/si2012/SI13312.Chn',\n 'Si/si2012/SI15412.Chn',\n 'Si/si2012/SI07912.Chn',\n 'Si/si2012/SI06812.Chn',\n 'Si/si2012/SI11412.Chn',\n 'Si/si2012/SI06012.Chn',\n 'Si/si2012/SI16712B.Chn',\n 'Si/si2012/SI08812.Chn',\n 'Si/si2012/SI02212.Chn',\n 'Si/si2012/SI06412.Chn',\n 'Si/si2012/si14712.Chn',\n 'Si/si2012/si08412.Chn',\n 'Si/si2012/SI05612.Chn',\n 'Si/si2012/SI04012.Chn',\n 'Si/si2012/SI02712.Chn',\n 'Si/si2012/SI12412.Chn',\n 'Si/si2012/SI01812.Chn',\n 'Si/si2012/SI15012.Chn',\n 'Si/si2012/CAGD1c2.Chn',\n 'Si/si2012/SI 13212.Chn',\n 'Si/si2012/SI16712.Chn',\n 'Si/si2012/SI04812.Chn',\n 'Si/si2012/SI 13912.Chn',\n 'Si/si2012/SI08312.Chn',\n 'Si/si2012/SI13412.Chn',\n 'Si/si2012/SI11512.Chn',\n 'Si/si2012/SI11912.Chn',\n 'Si/si2012/SI15512.Chn',\n 'Si/si2012/si14812.Chn',\n 'Si/si2012/liqfiltsegunda contagem.Chn',\n 'Si/si2008/SI11408R.Chn',\n 'Si/si2008/bombona5.Chn',\n 'Si/si2008/SI09008.Chn',\n 'Si/si2008/si16208.Chn',\n 'Si/si2008/SI05708.Chn',\n 'Si/si2008/SOLO2.Chn',\n 'Si/si2008/SI15608.Chn',\n 'Si/si2008/SI16108.Chn',\n 'Si/si2008/si06408.Chn',\n 'Si/si2008/si07408.Chn',\n 'Si/si2008/SI07508.Chn',\n 'Si/si2008/si15608r.Chn',\n 'Si/si2008/SI19208.Chn',\n 'Si/si2008/SI09408.Chn',\n 'Si/si2008/SI04408.Chn',\n 'Si/si2008/si11408.Chn',\n 'Si/si2008/SI10208.Chn',\n 'Si/si2008/SI12308.Chn',\n 'Si/si2008/si08308.Chn',\n 'Si/si2008/si05208.Chn',\n 'Si/si2008/SOLO1.Chn',\n 'Si/si2008/bombona4.Chn',\n 'Si/si2008/BOMBONA3.Chn',\n 'Si/si2008/si06908.Chn',\n 'Si/si2008/bombona1.Chn',\n 'Si/si2008/SI10408.Chn',\n 'Si/si2008/SI19108B.Chn',\n 'Si/si2008/si20608.Chn',\n 'Si/si2008/si08908.Chn',\n 'Si/si2008/SI11908.Chn',\n 'Si/si2008/SI20208.Chn',\n 'Si/si2008/SI10308.Chn',\n 'Si/si2008/SI10108.Chn',\n 'Si/si2008/SI07908.Chn',\n 'Si/si2008/bombona2.Chn',\n 'Si/si2008/si16608.Chn',\n 'Si/si2008/SI07308.Chn',\n 'Si/si2008/si11308.Chn',\n 'Si/si2008/SI10508.Chn',\n 'Si/si2008/SI05608.Chn',\n 'Si/si2008/SI04808.Chn',\n 'Si/si2008/SI10908.Chn',\n 'Si/si2008/si19108a.Chn',\n 'Si/si2008/si06508.Chn',\n 'Si/SI2017/SI03917.Chn',\n 'Si/SI2017/SI01417.Chn',\n 'Si/SI2017/SI02517.Chn',\n 'Si/SI2017/SI00117.Chn',\n 'Si/SI2017/SI07517.Chn',\n 'Si/SI2017/SI12317.Chn',\n 'Si/SI2017/SI05017.Chn',\n 'Si/SI2017/SI10217.Chn',\n 'Si/SI2017/SI08717.Chn',\n 'Si/SI2017/SI08017_F100.Chn',\n 'Si/SI2017/SI01317.Chn',\n 'Si/SI2017/SI06717.Chn',\n 'Si/SI2017/SI01217.Chn',\n 'Si/SI2017/SI02417.Chn',\n 'Si/SI2017/SI2317.Chn',\n 'Si/SI2017/SI06117.Chn',\n 'Si/SI2017/SI11017.Chn',\n 'Si/SI2017/SI11517.Chn',\n 'Si/SI2017/SI07117.Chn',\n 'Si/SI2017/SI06417.Chn',\n 'Si/SI2017/SI08117.Chn',\n 'Si/SI2017/SI05617.Chn',\n 'Si/SI2017/SI01017.Chn',\n 'Si/SI2017/SI11617.Chn',\n 'Si/SI2017/SI00817.Chn',\n 'Si/SI2017/SI01117.Chn',\n 'Si/SI2017/SI07417.Chn',\n 'Si/SI2017/SI2517.Chn',\n 'Si/SI2017/SI06817.Chn',\n 'Si/SI2017/SI08817.Chn',\n 'Si/SI2017/SI00917.Chn',\n 'Si/SI2017/SI04317.Chn',\n 'Si/SI2017/SI07617.Chn',\n 'Si/SI2017/SI03217.Chn',\n 'Si/SI2017/SI10317.Chn',\n 'Si/SI2017/SI02617.Chn',\n 'Si/SI2017/SI05117.Chn',\n 'Si/SI2017/SI08017.Chn',\n 'Si/SI2017/SI12417.Chn',\n 'Si/SI2017/SI02917.Chn',\n 'Si/SI2017/SI09217.Chn',\n 'Si/SI2017/SI12517.Chn',\n 'Si/SI2017/SI01717.Chn',\n 'Si/SI2017/SI11317.Chn',\n 'Si/SI2017/SI04017.Chn',\n 'Si/SI2017/SI09717.Chn',\n 'Si/SI2017/SI02017.Chn',\n 'Si/SI2017/SI09117.Chn',\n 'Si/SI2017/SI08417.Chn',\n 'Si/SI2017/SI07917.Chn',\n 'Si/SI2017/SI11417.Chn',\n 'Si/SI2017/SI12617.Chn',\n 'Si/SI2020/SI00120.Chn',\n 'Si/SI2020/SI05220.Chn',\n 'Si/SI2020/SI06520.Chn',\n 'Si/SI2020/SI05420.Chn',\n 'Si/SI2020/SI05720.Chn',\n 'Si/SI2020/SI05320.Chn',\n 'Si/SI2020/SI01720.Chn',\n 'Si/SI2020/SI02220.Chn',\n 'Si/SI2020/SI05820.Chn',\n 'Si/SI2020/si02120.Chn',\n 'Si/SI2020/SI06120.Chn',\n 'Si/SI2020/SI00120R.Chn',\n 'Si/SI2020/SI05520.Chn',\n 'Si/si2009/si05009.Chn',\n 'Si/si2009/si04809.Chn',\n 'Si/si2009/si06309.Chn',\n 'Si/si2009/SI06409.Chn',\n 'Si/si2009/SI14909.Chn',\n 'Si/si2009/si14909r.Chn',\n 'Si/si2009/si10409.CHN',\n 'Si/si2009/filtro2.Chn',\n 'Si/si2009/SI0409.Chn',\n 'Si/si2009/SI03509.Chn',\n 'Si/si2009/SI03909.Chn',\n 'Si/si2009/SI07209.Chn',\n 'Si/si2009/SI16509.Chn',\n 'Si/si2009/SI06809.Chn',\n 'Si/si2009/SI15709.Chn',\n 'Si/si2009/SI01809.Chn',\n 'Si/si2009/si10509.chn',\n 'Si/si2009/si08009.Chn',\n 'Si/si2009/SI00809.Chn',\n 'Si/si2009/si06209.Chn',\n 'Si/si2009/SI03009.Chn',\n 'Si/si2009/SI01909.Chn',\n 'Si/si2009/SI09309.Chn',\n 'Si/si2009/SI12109.Chn',\n 'Si/si2009/SI14409.Chn',\n 'Si/si2009/si17409.Chn',\n 'Si/si2009/SI09109.Chn',\n 'Si/si2009/si12609.Chn',\n 'Si/si2009/SI10909.Chn',\n 'Si/si2009/si05809.Chn',\n 'Si/si2009/OLEO2.Chn',\n 'Si/si2009/SI16909.Chn',\n 'Si/si2009/filtro1.Chn',\n 'Si/si2009/SI11709.Chn',\n 'Si/si2009/SI05409.Chn',\n 'Si/si2009/si17309.Chn',\n 'Si/si2009/SI11309.Chn',\n 'Si/si2009/SI01609.Chn',\n 'Si/si2009/SI10309.Chn',\n 'Si/si2009/SI09709.Chn',\n 'Si/si2009/si09909.Chn',\n 'Si/si2009/SI04909.Chn',\n 'Si/si2009/SI03109.Chn',\n 'Si/si2009/si01709.Chn',\n 'Si/si2009/si15309.Chn',\n 'Si/si2009/SI04709.Chn',\n 'Si/si2009/SI08409.Chn',\n 'Si/si2009/SI12509.Chn',\n 'Si/si2009/SI01209.Chn',\n 'Si/si2009/SI02609.Chn',\n 'Si/si2009/SI04609.Chn',\n 'Si/si2009/SI16109.Chn',\n 'Si/si2009/SI14809.Chn',\n 'Si/si2009/SI13309.Chn',\n 'Si/si2009/SI14009.Chn',\n 'Si/si2009/SI07609.Chn',\n 'Si/si2009/SI09209.chn',\n 'Si/si2009/OLEO1.Chn',\n 'Si/si2009/filtro3.Chn',\n 'Si/SI2015/SI09115.Chn',\n 'Si/SI2015/SI06215.Chn',\n 'Si/SI2015/SI12015.Chn',\n 'Si/SI2015/Regeneracao 2.Chn',\n 'Si/SI2015/SI10715.Chn',\n 'Si/SI2015/SI15015.Chn',\n 'Si/SI2015/si01115.Chn',\n 'Si/SI2015/SI07015.Chn',\n 'Si/SI2015/lavagem final 3.Chn',\n 'Si/SI2015/SI12415.Chn',\n 'Si/SI2015/Regeneracao 3.Chn',\n 'Si/SI2015/Regeneracao 1.Chn',\n 'Si/SI2015/SI3115.Chn',\n 'Si/SI2015/SI11815.Chn',\n 'Si/SI2015/SI08915.Chn',\n 'Si/SI2015/SI03915_RECONTAGEM.Chn',\n 'Si/SI2015/SI11915.Chn',\n 'Si/SI2015/Lavagem 2.Chn',\n 'Si/SI2015/lavagem final 2.Chn',\n 'Si/SI2015/SI09515.Chn',\n 'Si/SI2015/SI01915.Chn',\n 'Si/SI2015/SI05115.Chn',\n 'Si/SI2015/SI14915.Chn',\n 'Si/SI2015/SI03215.Chn',\n 'Si/SI2015/SI14215.Chn',\n 'Si/SI2015/SI11115.Chn',\n 'Si/SI2015/Lavagem 1.Chn',\n 'Si/SI2015/SI02315.Chn',\n 'Si/SI2015/SI3015.Chn',\n 'Si/SI2015/Lavagem final 1.Chn',\n 'Si/SI2015/SI04715.Chn',\n 'Si/SI2015/SI09015.CHN',\n 'Si/SI2015/SI06315.Chn',\n 'Si/SI2015/SI04115.Chn',\n 'Si/SI2015/si01015.Chn',\n 'Si/SI2015/SI02615.Chn',\n 'Si/SI2015/SI10215.Chn',\n 'Si/SI2015/Lavagem 3.Chn',\n 'Si/SI2015/SI04215.Chn',\n 'Si/SI2015/SI03915-contA.Chn',\n 'Si/SI2015/SI08315.Chn',\n 'Si/SI2015/SI08415.Chn',\n 'Si/SI2015/SI08815.Chn',\n 'Si/SI2015/SI01515.Chn',\n 'Si/SI2015/SI04315.Chn',\n 'Si/SI2015/SI04015.Chn',\n 'Si/SI2007/SI13507.Chn',\n 'Si/SI2007/Si10007.Chn',\n 'Si/SI2007/SI9407B.Chn',\n 'Si/SI2007/si16307.Chn',\n 'Si/SI2007/SI06107.Chn',\n 'Si/SI2007/si06207.Chn',\n 'Si/SI2007/si06307.Chn',\n 'Si/SI2007/SI06007.Chn',\n 'Si/SI2007/si13907.Chn',\n 'Si/SI2007/si01607.Chn',\n 'Si/SI2007/si15507.Chn',\n 'Si/SI2007/SI09807.Chn',\n 'Si/SI2007/si08907.Chn',\n 'Si/SI2007/si07107.Chn',\n 'Si/SI2007/si12607A.Chn',\n 'Si/SI2007/si-2007-06jun.Chn',\n 'Si/SI2007/SI13107.Chn',\n 'Si/SI2007/SI11107.Chn',\n 'Si/SI2007/si01507.Chn',\n 'Si/SI2007/si17907.Chn',\n 'Si/SI2007/si01407.Chn',\n 'Si/SI2007/SI09307.Chn',\n 'Si/SI2007/si14307.Chn',\n 'Si/SI2007/si12607.Chn',\n 'Si/SI2007/SI050.Chn',\n 'Si/SI2007/si00107.Chn',\n 'Si/SI2007/SI07007.Chn',\n 'Si/SI2007/esfr0808.Chn',\n 'Si/SI2007/SI14407.Chn',\n 'Si/SI2007/SI12707.Chn',\n 'Si/SI2007/si06907.Chn',\n 'Si/SI2007/si05707.Chn',\n 'Si/SI2007/si12107.Chn',\n 'Si/SI2007/si14807.Chn',\n 'Si/SI2007/SI15907.Chn',\n 'Si/SI2007/si03507.Chn',\n 'Si/SI2007/si01707.Chn',\n 'Si/SI2007/SI05907.Chn',\n 'Si/SI2007/si01807.Chn',\n 'Si/SI2007/SI09407.Chn',\n 'Si/SI2007/si14707.Chn',\n 'Si/SI2007/si11907.Chn',\n 'Si/SI2007/SI05807.Chn',\n 'Si/SI2007/si06807.Chn',\n 'Si/SI2007/SI12707A.Chn',\n 'Si/SI2007/SI02807.Chn',\n 'Si/SI2007/si08807.Chn',\n 'Si/SI2007/SI09907.Chn',\n 'Si/SI2007/SI10707.Chn',\n 'Si/SI2007/si06407.Chn',\n 'Si/SI2007/si14607.Chn',\n 'Si/SI2007/SI01907.Chn',\n 'Si/SI2007/si14507.Chn',\n 'Si/SI2007/SI0943.Chn',\n 'Si/SI2007/si03407.Chn',\n 'Si/SI2007/SI02907.Chn',\n 'Si/SI2003/si02603.chn',\n 'Si/SI2003/si026303.chn',\n 'Si/SI2003/si05903.CHN',\n 'Si/SI2003/si05803.CHN',\n 'Si/SI2003/si04803.CHN',\n 'Si/SI2023/SI01523.Chn',\n 'Si/SI2023/SI02023.Chn',\n 'Si/SI2023/SI02323.Chn',\n 'Si/SI2023/SI03623.Chn',\n 'Si/SI2023/SI03223.Chn',\n 'Si/SI2023/SI02923.Chn',\n 'Si/SI2023/SI01623.Chn',\n 'Si/SI2023/SI03823.Chn',\n 'Si/SI2023/SI03523.Chn',\n 'Si/SI2023/SI03323.Chn',\n 'Si/SI2023/SI00823.Chn',\n 'Si/SI2023/SI02223.Chn',\n 'Si/SI2023/SI03923.Chn',\n 'Si/SI2023/SI00623.Chn',\n 'Si/SI2023/SI04423.Chn',\n 'Si/SI2023/SI00523.Chn',\n 'Si/SI2023/SI02623.Chn',\n 'Si/SI2023/SI01123.Chn',\n 'Si/SI2023/SI01823.Chn',\n 'Si/SI2023/SI03023.Chn',\n 'Si/SI2023/SI01023.Chn',\n 'Si/SI2023/SI00723.Chn',\n 'Si/SI2023/SI04123.Chn',\n 'Si/SI2023/SI00423.Chn',\n 'Si/SI2023/SI02823.Chn',\n 'Si/SI2023/SI01323.Chn',\n 'Si/SI2021/SI05321.Chn',\n 'Si/SI2021/si00921.Chn',\n 'Si/SI2021/SI01321.Chn',\n 'Si/SI2021/SI01821.Chn',\n 'Si/SI2021/SI05221.Chn',\n 'Si/SI2021/SI05721.Chn',\n 'Si/SI2021/SI03421.Chn',\n 'Si/SI2021/si01221.Chn',\n 'Si/SI2021/SI03021.Chn',\n 'Si/SI2021/SI07221.Chn',\n 'Si/SI2021/SI06721.Chn',\n 'Si/SI2021/si05421.Chn',\n 'Si/SI2021/si00821.Chn',\n 'Si/SI2021/SI05521.Chn',\n 'Si/SI2021/SI05121.Chn',\n 'Si/SI2021/SI05621.Chn',\n 'Si/SI2021/SI02021.Chn',\n 'Si/SI2021/SI06821.Chn',\n 'Si/SI2021/SI03521.Chn',\n 'Si/si2013/si02813.Chn',\n 'Si/si2013/si07813.Chn',\n 'Si/si2013/si17713.Chn',\n 'Si/si2013/SI10313.Chn',\n 'Si/si2013/si11213.Chn',\n 'Si/si2013/SI05913.Chn',\n 'Si/si2013/SI02013.Chn',\n 'Si/si2013/SI01113.Chn',\n 'Si/si2013/SI01913.Chn',\n 'Si/si2013/SI06813.Chn',\n 'Si/si2013/si07913.Chn',\n 'Si/si2013/si06313.Chn',\n 'Si/si2013/si01013.Chn',\n 'Si/si2013/si04113.Chn',\n 'Si/si2013/SI09013.Chn',\n 'Si/si2013/SI08613.Chn',\n 'Si/si2013/si12313.Chn',\n 'Si/si2013/SI07313.Chn',\n 'Si/si2013/SI09613.Chn',\n 'Si/si2013/si04013.Chn',\n 'Si/si2013/si03513.Chn',\n 'Si/si2013/sr90_CR.Chn',\n 'Si/si2013/SI09513.Chn',\n 'Si/si2013/si10713.Chn',\n 'Si/si2013/si05713.Chn',\n 'Si/si2013/SI03913.Chn',\n 'Si/si2013/si09413.Chn',\n 'Si/si2013/si02713.Chn',\n 'Si/si2013/si11613.Chn',\n 'Si/si2013/si10813.Chn',\n 'Si/si2013/si05813.Chn',\n 'Si/si2013/si06413.Chn',\n 'Si/SI2019/SI05819.Chn',\n 'Si/SI2019/SI11619.Chn',\n 'Si/SI2019/SI03719.Chn',\n 'Si/SI2019/SI09919.Chn',\n 'Si/SI2019/SI02619.Chn',\n 'Si/SI2019/SI08219.Chn',\n 'Si/SI2019/SI09419.Chn',\n 'Si/SI2019/si05919.Chn',\n 'Si/SI2019/SI07419.Chn',\n 'Si/SI2019/si00319.Chn',\n 'Si/SI2019/SI03419.Chn',\n 'Si/SI2019/SI11119.Chn',\n 'Si/SI2019/SI04019.Chn',\n 'Si/SI2019/si115r.Chn',\n 'Si/SI2019/SI01519.Chn',\n 'Si/SI2019/SI08319.Chn',\n 'Si/SI2019/si06819.Chn',\n 'Si/SI2019/SI00519.Chn',\n 'Si/SI2019/SI10319.Chn',\n 'Si/SI2019/SI05219.Chn',\n 'Si/SI2019/SI11719.Chn',\n 'Si/SI2019/SI01419.Chn',\n 'Si/SI2019/SI10519.Chn',\n 'Si/SI2019/SI02719.Chn',\n 'Si/SI2019/SI06519.Chn',\n 'Si/SI2019/SI04319.Chn',\n 'Si/SI2019/SI02319.Chn',\n 'Si/SI2019/SI03119.Chn',\n 'Si/SI2019/SI11419.Chn',\n 'Si/SI2019/SI11519R.Chn',\n 'Si/SI2019/SI07719.Chn',\n 'Si/SI2019/SI02819.Chn',\n 'Si/SI2019/si00619.Chn',\n 'Si/SI2019/SI03819.Chn',\n 'Si/SI2019/SI10419.Chn',\n 'Si/SI2019/SI11819.Chn',\n 'Si/SI2019/SI07919.Chn',\n 'Si/SI2019/SI07819.Chn',\n 'Si/SI2019/SI03319.Chn',\n 'Si/SI2019/SI01619.Chn',\n 'Si/SI2019/SI00119.Chn',\n 'Si/SI2019/SI03919.Chn',\n 'Si/SI2019/SI04219.Chn',\n 'Si/SI2019/SI10219.Chn',\n 'Si/SI2019/si00819.Chn',\n 'Si/SI2019/SI05719.Chn',\n 'Si/SI2019/SI05419.Chn',\n 'Si/SI2019/si00919.Chn',\n 'Si/SI2019/SI04119.Chn',\n 'Si/SI2019/SI02419.Chn',\n 'Si/SI2019/si00719.Chn',\n 'Si/SI2019/SI08519.Chn',\n 'Si/SI2019/SI08419.Chn',\n 'Si/SI2019/SI03219.Chn',\n 'Si/SI2019/si06019.Chn',\n 'Si/SI2019/SI06919.Chn',\n 'Si/SI2019/SI05309.Chn',\n 'Si/SI2019/SI00219.Chn',\n 'Si/SI2019/si09719.Chn',\n 'Si/SI2019/SI10819.Chn',\n 'Si/SI2019/SI11519.Chn',\n 'Si/SI2019/SI00419.Chn',\n 'Si/SI2019/SI5-19-2.Chn',\n 'Si/SI2019/SI08819.Chn',\n 'Si/Si2005/si0172.Chn',\n 'Si/Si2005/SI19805.Chn',\n 'Si/Si2005/si12505.chn',\n 'Si/Si2005/si18705.chn',\n 'Si/Si2005/SI21105R.Chn',\n 'Si/Si2005/si24505.Chn',\n 'Si/Si2005/si15305.Chn',\n 'Si/Si2005/si4005x.chn',\n 'Si/Si2005/si21505.Chn',\n 'Si/Si2005/SI22205R.Chn',\n 'Si/Si2005/si9905.chn',\n 'Si/Si2005/si4305.chn',\n 'Si/Si2005/SI20405.Chn',\n 'Si/Si2005/si24105.Chn',\n 'Si/Si2005/SI22305.Chn',\n 'Si/Si2005/si10005a.CHN',\n 'Si/Si2005/SI11005.chn',\n 'Si/Si2005/si08705.CHN',\n 'Si/Si2005/SI7905.chn',\n 'Si/Si2005/si21005.Chn',\n 'Si/Si2005/SI13705.CHN',\n 'Si/Si2005/SI22805.Chn',\n 'Si/Si2005/si09405.CHN',\n 'Si/Si2005/si06605.chn',\n 'Si/Si2005/SI19905.Chn',\n 'Si/Si2005/si12005.chn',\n 'Si/Si2005/si19405b.Chn',\n 'Si/Si2005/si1405.chn',\n 'Si/Si2005/si18805.Chn',\n 'Si/Si2005/SI13105.CHN',\n 'Si/Si2005/si14105.Chn',\n 'Si/Si2005/si062052.chn',\n 'Si/Si2005/si13005.CHN',\n 'Si/Si2005/SI16005.Chn',\n 'Si/Si2005/SI6905.CHN',\n 'Si/Si2005/SI154052.Chn',\n 'Si/Si2005/SI15405.Chn',\n 'Si/Si2005/si06305.chn',\n 'Si/Si2005/si20505.Chn',\n 'Si/Si2005/SI18605.Chn',\n 'Si/Si2005/si07405.CHN',\n 'Si/Si2005/si17905.Chn',\n 'Si/Si2005/si19405c.Chn',\n 'Si/Si2005/si3205.CHN',\n 'Si/Si2005/si20105.Chn',\n 'Si/Si2005/si4205.chn',\n 'Si/Si2005/si06105.chn',\n 'Si/Si2005/SI17305.Chn',\n 'Si/Si2005/SI08005.CHN',\n 'Si/Si2005/si01805.CHN',\n 'Si/Si2005/si14505.Chn',\n 'Si/Si2005/SI17705.Chn',\n 'Si/Si2005/si13305.chn',\n 'Si/Si2005/SI16105.Chn',\n 'Si/Si2005/si19605.Chn',\n 'Si/Si2005/si16405.Chn',\n 'Si/Si2005/SI15905.Chn',\n 'Si/Si2005/SI20005.Chn',\n 'Si/Si2005/si22905.Chn',\n 'Si/Si2005/si10005.CHN',\n 'Si/Si2005/si1305.CHN',\n 'Si/Si2005/SI0705.chn',\n 'Si/Si2005/SI21605.Chn',\n 'Si/Si2005/si11105.CHN',\n 'Si/Si2005/si07505.CHN',\n 'Si/Si2005/si08605.CHN',\n 'Si/Si2005/si5405.chn',\n 'Si/Si2005/SI13205.CHN',\n 'Si/Si2005/SI22105.Chn',\n 'Si/Si2005/SI11605.CHN',\n 'Si/Si2005/SI20705.Chn',\n 'Si/Si2005/Unat.CHN',\n 'Si/Si2005/SI01705.CHN',\n 'Si/Si2005/si20905.Chn',\n 'Si/Si2005/si14905.Chn',\n 'Si/Si2005/si10205.chn',\n 'Si/Si2005/SI06805.CHN',\n 'Si/Si2005/si04405.chn',\n 'Si/Si2005/si04505.CHN',\n 'Si/Si2005/si22005.chn',\n 'Si/Si2005/si19505.Chn',\n 'Si/Si2005/si19305.Chn',\n 'Si/Si2005/si20305.Chn',\n 'Si/Si2005/si20805.Chn',\n 'Si/Si2005/SI08205.CHN',\n 'Si/Si2005/SI09505.CHN',\n 'Si/Si2005/si08905.chn',\n 'Si/Si2005/si15505.chn',\n 'Si/Si2005/SI19705A.Chn',\n 'Si/Si2005/si19405a.Chn',\n 'Si/Si2005/SI22105R.Chn',\n 'Si/Si2005/si07305.CHN',\n 'Si/Si2005/si08805.chn',\n 'Si/Si2005/si10105.chn',\n 'Si/Si2005/si4005.CHN',\n 'Si/Si2005/si06505.chn',\n 'Si/Si2005/SI08105.CHN',\n 'Si/Si2005/si16505.Chn',\n 'Si/Si2005/si01205.CHN',\n 'Si/Si2005/SI23705.Chn',\n 'Si/Si2005/si2205.CHN',\n 'Si/Si2005/SI22205.Chn',\n 'Si/Si2005/SI17805a.Chn',\n 'Si/Si2005/si19705.Chn',\n 'Si/Si2005/SI04905.CHN',\n 'Si/Si2005/si3605.chn',\n 'Si/Si2005/si22105rr.Chn',\n 'Si/Si2005/si12905.CHN',\n 'Si/Si2005/SI22405.Chn',\n 'Si/Si2005/si23305.Chn',\n 'Si/Si2005/SI17805.Chn',\n 'Si/Si2005/si01105.chn',\n 'Si/Si2005/SI19605A.Chn',\n 'Si/Si2005/si21105.Chn',\n 'Si/Si2005/si20605.Chn',\n 'Si/Si2005/si09305.chn',\n 'Si/Si2005/UNAT2.chn',\n 'Si/Si2005/si1505.chn',\n 'Si/Si2005/05005.CHN',\n 'Si/Si2005/si1605.chn',\n 'Si/Si2005/si12105.chn',\n 'Si/Si2005/si11505.chn',\n 'Si/Si2005/si20205.Chn',\n 'Si/Si2005/SI10605.CHN',\n 'Si/SI2022/SI02622.Chn',\n 'Si/SI2022/SI07222.Chn',\n 'Si/SI2022/SI04022 (cont em 31-05-22).Chn',\n 'Si/SI2022/SI02722.Chn',\n 'Si/SI2022/SI08222.Chn',\n 'Si/SI2022/SI09222.Chn',\n 'Si/SI2022/SI05322.Chn',\n 'Si/SI2022/SI03222.Chn',\n 'Si/SI2022/SI08622.Chn',\n 'Si/SI2022/SI02522.Chn',\n 'Si/SI2022/SI09322.Chn',\n 'Si/SI2022/SI00922.Chn',\n 'Si/SI2022/SI08522.Chn',\n 'Si/SI2022/SI07922.Chn',\n 'Si/SI2022/SI03322.Chn',\n 'Si/SI2022/SI05922.Chn',\n 'Si/SI2022/SI03022.Chn',\n 'Si/SI2022/SI08722.Chn',\n 'Si/SI2022/FRASCO ORIGINAL SI084_22.Chn',\n 'Si/SI2022/SI06122.Chn',\n 'Si/SI2022/SI01822.Chn',\n 'Si/SI2022/SI09422.Chn',\n 'Si/SI2022/SI00822.Chn',\n 'Si/SI2022/SI05822.Chn',\n 'Si/SI2022/SI04722.Chn',\n 'Si/SI2022/SI09922.Chn',\n 'Si/SI2022/SI01622.Chn',\n 'Si/SI2022/SI08422.Chn',\n 'Si/SI2022/SI02022.Chn',\n 'Si/SI2022/SI07522.Chn',\n 'Si/SI2022/SI01722.Chn',\n 'Si/SI2022/SI06922.Chn',\n 'Si/SI2022/SI09722.Chn',\n 'Si/SI2022/SI06522.Chn',\n 'Si/SI2022/SI09122.Chn',\n 'Si/SI2022/SI05522.Chn',\n 'Si/SI2022/SI03422.Chn',\n 'Si/SI2022/SI04422.Chn',\n 'Si/SI2022/SI03722.Chn',\n 'Si/SI2022/SI05622.Chn',\n 'Si/SI2022/SI02922.Chn',\n 'Si/SI2022/SI07722.Chn',\n 'Si/SI2022/SI03522.Chn',\n 'Si/SI2022/SI05122.Chn',\n 'Si/SI2022/SI06722.Chn',\n 'Si/SI2022/SI06322.Chn',\n 'Si/SI2022/SI07322.Chn',\n 'Si/SI2022/SI03122.Chn',\n 'Si/SI2022/SI01922.Chn',\n 'Si/SI2022/BGTESTE.Chn',\n 'Si/si2011/SI02211.Chn',\n 'Si/si2011/SI12511R.Chn',\n 'Si/si2011/SI10011.Chn',\n 'Si/si2011/SI03311.Chn',\n 'Si/si2011/SI13711.Chn',\n 'Si/si2011/si18711.Chn',\n 'Si/si2011/SI12411.Chn',\n 'Si/si2011/SI14511.Chn',\n 'Si/si2011/SI12911.Chn',\n 'Si/si2011/SI06111.Chn',\n 'Si/si2011/SI10911.Chn',\n 'Si/si2011/SI08711.Chn',\n 'Si/si2011/SI11711.Chn',\n 'Si/si2011/SI09111.Chn',\n 'Si/si2011/SI04811.Chn',\n 'Si/si2011/si05711.Chn',\n 'Si/si2011/SI12311.Chn',\n 'Si/si2011/SI15711.Chn',\n 'Si/si2011/SI10511.Chn',\n 'Si/si2011/SI15611.Chn',\n 'Si/si2011/SI04411.Chn',\n 'Si/si2011/SI12211.Chn',\n 'Si/si2011/SI00411.chn',\n 'Si/si2011/SI08311.Chn',\n 'Si/si2011/SI13311.Chn',\n 'Si/si2011/si03711.Chn',\n 'Si/si2011/SI17711.Chn',\n 'Si/si2011/SI14411.Chn',\n 'Si/si2011/SI14911.Chn',\n 'Si/si2011/SI04211.Chn',\n 'Si/si2011/ERFGA.Chn',\n 'Si/si2011/SI01211.Chn',\n 'Si/si2011/SI07211.Chn',\n 'Si/si2011/si07111.Chn',\n 'Si/si2011/si07011.Chn',\n 'Si/si2011/si01611.Chn',\n 'Si/si2011/SI10411.Chn',\n 'Si/si2011/si11011.Chn',\n 'Si/si2011/SI18211.Chn',\n 'Si/si2011/si16111.Chn',\n 'Si/si2011/SI11811.Chn',\n 'Si/si2011/SI18611.Chn',\n 'Si/si2011/SI05311.Chn',\n 'Si/si2011/SI00811.Chn',\n 'Si/si2011/SI06611.Chn',\n 'Si/si2011/SI04311.Chn',\n 'Si/si2011/SI02911.Chn',\n 'Si/si2011/SI07611.Chn',\n 'Si/si2011/si04111.Chn',\n 'Si/si2011/SI01711.Chn',\n 'Si/si2011/SI12511.Chn',\n 'Si/si2011/si04911.Chn',\n 'Si/si2011/si16511.Chn',\n 'Si/si2011/SI06211.Chn',\n 'Si/si2011/SI17311.Chn',\n 'Si/si2011/SI17211.Chn',\n 'Si/si2011/SI124R.Chn',\n 'Si/si2011/si17811.Chn',\n 'Si/si2011/SI09911.Chn',\n 'Si/si2011/SI09511.Chn',\n 'Si/si2010/si09510.Chn',\n 'Si/si2010/SI15610.Chn',\n 'Si/si2010/si07210.Chn',\n 'Si/si2010/si14310.Chn',\n 'Si/si2010/SI09610.Chn',\n ...]"
     },
     "execution_count": 7,
     "metadata": {},
     "output_type": "execute_result"
    }
   ]
  },
  {
   "cell_type": "code",
   "source": [
    "# 2022-Dez-28 Este é um espectro mais recente que posso comparar com saída do Genie:\n",
    "a_pattern = 'SI06122.Chn'"
   ],
   "metadata": {
    "tags": [],
    "collapsed": false,
    "trusted": true,
    "ExecuteTime": {
     "end_time": "2023-10-18T16:34:26.491783744Z",
     "start_time": "2023-10-18T16:34:26.383024725Z"
    }
   },
   "execution_count": 8,
   "outputs": []
  },
  {
   "cell_type": "code",
   "source": [
    "f_name, reduced_f_name = select_spectrum_from_folder_list(reduc_nms, fil_lst, spc_pth, a_pattern)\n",
    "f_name, reduced_f_name"
   ],
   "metadata": {
    "tags": [],
    "trusted": true,
    "ExecuteTime": {
     "end_time": "2023-10-18T16:34:26.638043633Z",
     "start_time": "2023-10-18T16:34:26.479717794Z"
    }
   },
   "execution_count": 9,
   "outputs": [
    {
     "name": "stdout",
     "output_type": "stream",
     "text": [
      "Existing:\n",
      "Achou! indice=904, nomearq = Si/SI2022/SI06122.Chn\n",
      "==========================\n",
      "Final choices:\n",
      "spectra_path: /home/marcelofm/Nextcloud/Genie_Transfer\n",
      "a_spec_name: /home/marcelofm/Nextcloud/Genie_Transfer/Si/SI2022/SI06122.Chn\n",
      "reduced_f_name: Si/SI2022/SI06122.Chn\n"
     ]
    },
    {
     "data": {
      "text/plain": "(PosixPath('/home/marcelofm/Nextcloud/Genie_Transfer/Si/SI2022/SI06122.Chn'),\n 'Si/SI2022/SI06122.Chn')"
     },
     "execution_count": 9,
     "metadata": {},
     "output_type": "execute_result"
    }
   ]
  },
  {
   "cell_type": "code",
   "source": [],
   "metadata": {
    "collapsed": false,
    "ExecuteTime": {
     "end_time": "2023-10-18T16:34:26.638733082Z",
     "start_time": "2023-10-18T16:34:26.629230706Z"
    }
   },
   "execution_count": 9,
   "outputs": []
  },
  {
   "cell_type": "code",
   "source": [
    "nucl_iear1_df = pd.read_pickle('nucl_iear1_list.pkl')\n",
    "nucl_iear1_df"
   ],
   "metadata": {
    "tags": [],
    "collapsed": false,
    "trusted": true,
    "ExecuteTime": {
     "end_time": "2023-10-18T16:34:26.767177891Z",
     "start_time": "2023-10-18T16:34:26.629860501Z"
    }
   },
   "execution_count": 10,
   "outputs": [
    {
     "data": {
      "text/plain": "     nuclide_name     energy  unc_en  intensity  unc_i  half_life  decay  \\\n1            24na  1368.6250   0.005     99.994  0.002     14.956     B-   \n2            24na  2754.0080   0.011     99.867   0.01     14.956     B-   \n9            51cr   320.0824  0.0004      9.910   0.01     27.704     EC   \n15           54mn   834.8480   0.003     99.976  0.001    312.200  EC+B+   \n22           58co   810.7593   0.002     99.450   0.01     70.860  EC+B+   \n...           ...        ...     ...        ...    ...        ...    ...   \n1066        228Ac    89.9540              2.010   0.19      6.150     B-   \n1067        228Ac    93.3470              3.200    0.3      6.150     B-   \n1068        228Ac   105.5660              1.160   0.11      6.150     B-   \n1069        228Ac   106.8940              1.540   0.15      6.150     B-   \n1070        228Ac   108.5800              0.390   0.04      6.150     B-   \n\n      decay_%  key_gamma is_key_gamma  \n1       100.0     1368.6         True  \n2       100.0     1368.6        False  \n9       100.0      320.1         True  \n15      100.0      834.8         True  \n22      100.0      810.8         True  \n...       ...        ...          ...  \n1066    100.0      911.6        False  \n1067    100.0      911.6        False  \n1068    100.0      911.6        False  \n1069    100.0      911.6        False  \n1070    100.0      911.6        False  \n\n[235 rows x 10 columns]",
      "text/html": "<div>\n<style scoped>\n    .dataframe tbody tr th:only-of-type {\n        vertical-align: middle;\n    }\n\n    .dataframe tbody tr th {\n        vertical-align: top;\n    }\n\n    .dataframe thead th {\n        text-align: right;\n    }\n</style>\n<table border=\"1\" class=\"dataframe\">\n  <thead>\n    <tr style=\"text-align: right;\">\n      <th></th>\n      <th>nuclide_name</th>\n      <th>energy</th>\n      <th>unc_en</th>\n      <th>intensity</th>\n      <th>unc_i</th>\n      <th>half_life</th>\n      <th>decay</th>\n      <th>decay_%</th>\n      <th>key_gamma</th>\n      <th>is_key_gamma</th>\n    </tr>\n  </thead>\n  <tbody>\n    <tr>\n      <th>1</th>\n      <td>24na</td>\n      <td>1368.6250</td>\n      <td>0.005</td>\n      <td>99.994</td>\n      <td>0.002</td>\n      <td>14.956</td>\n      <td>B-</td>\n      <td>100.0</td>\n      <td>1368.6</td>\n      <td>True</td>\n    </tr>\n    <tr>\n      <th>2</th>\n      <td>24na</td>\n      <td>2754.0080</td>\n      <td>0.011</td>\n      <td>99.867</td>\n      <td>0.01</td>\n      <td>14.956</td>\n      <td>B-</td>\n      <td>100.0</td>\n      <td>1368.6</td>\n      <td>False</td>\n    </tr>\n    <tr>\n      <th>9</th>\n      <td>51cr</td>\n      <td>320.0824</td>\n      <td>0.0004</td>\n      <td>9.910</td>\n      <td>0.01</td>\n      <td>27.704</td>\n      <td>EC</td>\n      <td>100.0</td>\n      <td>320.1</td>\n      <td>True</td>\n    </tr>\n    <tr>\n      <th>15</th>\n      <td>54mn</td>\n      <td>834.8480</td>\n      <td>0.003</td>\n      <td>99.976</td>\n      <td>0.001</td>\n      <td>312.200</td>\n      <td>EC+B+</td>\n      <td>100.0</td>\n      <td>834.8</td>\n      <td>True</td>\n    </tr>\n    <tr>\n      <th>22</th>\n      <td>58co</td>\n      <td>810.7593</td>\n      <td>0.002</td>\n      <td>99.450</td>\n      <td>0.01</td>\n      <td>70.860</td>\n      <td>EC+B+</td>\n      <td>100.0</td>\n      <td>810.8</td>\n      <td>True</td>\n    </tr>\n    <tr>\n      <th>...</th>\n      <td>...</td>\n      <td>...</td>\n      <td>...</td>\n      <td>...</td>\n      <td>...</td>\n      <td>...</td>\n      <td>...</td>\n      <td>...</td>\n      <td>...</td>\n      <td>...</td>\n    </tr>\n    <tr>\n      <th>1066</th>\n      <td>228Ac</td>\n      <td>89.9540</td>\n      <td></td>\n      <td>2.010</td>\n      <td>0.19</td>\n      <td>6.150</td>\n      <td>B-</td>\n      <td>100.0</td>\n      <td>911.6</td>\n      <td>False</td>\n    </tr>\n    <tr>\n      <th>1067</th>\n      <td>228Ac</td>\n      <td>93.3470</td>\n      <td></td>\n      <td>3.200</td>\n      <td>0.3</td>\n      <td>6.150</td>\n      <td>B-</td>\n      <td>100.0</td>\n      <td>911.6</td>\n      <td>False</td>\n    </tr>\n    <tr>\n      <th>1068</th>\n      <td>228Ac</td>\n      <td>105.5660</td>\n      <td></td>\n      <td>1.160</td>\n      <td>0.11</td>\n      <td>6.150</td>\n      <td>B-</td>\n      <td>100.0</td>\n      <td>911.6</td>\n      <td>False</td>\n    </tr>\n    <tr>\n      <th>1069</th>\n      <td>228Ac</td>\n      <td>106.8940</td>\n      <td></td>\n      <td>1.540</td>\n      <td>0.15</td>\n      <td>6.150</td>\n      <td>B-</td>\n      <td>100.0</td>\n      <td>911.6</td>\n      <td>False</td>\n    </tr>\n    <tr>\n      <th>1070</th>\n      <td>228Ac</td>\n      <td>108.5800</td>\n      <td></td>\n      <td>0.390</td>\n      <td>0.04</td>\n      <td>6.150</td>\n      <td>B-</td>\n      <td>100.0</td>\n      <td>911.6</td>\n      <td>False</td>\n    </tr>\n  </tbody>\n</table>\n<p>235 rows × 10 columns</p>\n</div>"
     },
     "execution_count": 10,
     "metadata": {},
     "output_type": "execute_result"
    }
   ]
  },
  {
   "cell_type": "code",
   "source": [
    "# 2023-Jun-15: Setting gamma lines/ranges to dismiss in the analysis\n",
    "df1 = nucl_iear1_df\n",
    "df1[\"is_to_consider\"] = True\n",
    "df1.loc[((df1.energy > 509) & (df1.energy < 513)) | (df1.energy < 100), \"is_to_consider\"] = False\n",
    "# Convert these columns from object to numeric; empty strings turns into NaNs\n",
    "df1[\"unc_i\"] = pd.to_numeric(df1.unc_i, errors=\"coerce\")\n",
    "df1[\"unc_en\"] = pd.to_numeric(df1.unc_en, errors=\"coerce\")\n",
    "del df1\n",
    "nucl_iear1_df"
   ],
   "metadata": {
    "tags": [],
    "collapsed": false,
    "trusted": true,
    "ExecuteTime": {
     "end_time": "2023-10-18T16:34:26.990991320Z",
     "start_time": "2023-10-18T16:34:26.728605030Z"
    }
   },
   "execution_count": 11,
   "outputs": [
    {
     "data": {
      "text/plain": "     nuclide_name     energy  unc_en  intensity  unc_i  half_life  decay  \\\n1            24na  1368.6250  0.0050     99.994  0.002     14.956     B-   \n2            24na  2754.0080  0.0110     99.867  0.010     14.956     B-   \n9            51cr   320.0824  0.0004      9.910  0.010     27.704     EC   \n15           54mn   834.8480  0.0030     99.976  0.001    312.200  EC+B+   \n22           58co   810.7593  0.0020     99.450  0.010     70.860  EC+B+   \n...           ...        ...     ...        ...    ...        ...    ...   \n1066        228Ac    89.9540     NaN      2.010  0.190      6.150     B-   \n1067        228Ac    93.3470     NaN      3.200  0.300      6.150     B-   \n1068        228Ac   105.5660     NaN      1.160  0.110      6.150     B-   \n1069        228Ac   106.8940     NaN      1.540  0.150      6.150     B-   \n1070        228Ac   108.5800     NaN      0.390  0.040      6.150     B-   \n\n      decay_%  key_gamma is_key_gamma  is_to_consider  \n1       100.0     1368.6         True            True  \n2       100.0     1368.6        False            True  \n9       100.0      320.1         True            True  \n15      100.0      834.8         True            True  \n22      100.0      810.8         True            True  \n...       ...        ...          ...             ...  \n1066    100.0      911.6        False           False  \n1067    100.0      911.6        False           False  \n1068    100.0      911.6        False            True  \n1069    100.0      911.6        False            True  \n1070    100.0      911.6        False            True  \n\n[235 rows x 11 columns]",
      "text/html": "<div>\n<style scoped>\n    .dataframe tbody tr th:only-of-type {\n        vertical-align: middle;\n    }\n\n    .dataframe tbody tr th {\n        vertical-align: top;\n    }\n\n    .dataframe thead th {\n        text-align: right;\n    }\n</style>\n<table border=\"1\" class=\"dataframe\">\n  <thead>\n    <tr style=\"text-align: right;\">\n      <th></th>\n      <th>nuclide_name</th>\n      <th>energy</th>\n      <th>unc_en</th>\n      <th>intensity</th>\n      <th>unc_i</th>\n      <th>half_life</th>\n      <th>decay</th>\n      <th>decay_%</th>\n      <th>key_gamma</th>\n      <th>is_key_gamma</th>\n      <th>is_to_consider</th>\n    </tr>\n  </thead>\n  <tbody>\n    <tr>\n      <th>1</th>\n      <td>24na</td>\n      <td>1368.6250</td>\n      <td>0.0050</td>\n      <td>99.994</td>\n      <td>0.002</td>\n      <td>14.956</td>\n      <td>B-</td>\n      <td>100.0</td>\n      <td>1368.6</td>\n      <td>True</td>\n      <td>True</td>\n    </tr>\n    <tr>\n      <th>2</th>\n      <td>24na</td>\n      <td>2754.0080</td>\n      <td>0.0110</td>\n      <td>99.867</td>\n      <td>0.010</td>\n      <td>14.956</td>\n      <td>B-</td>\n      <td>100.0</td>\n      <td>1368.6</td>\n      <td>False</td>\n      <td>True</td>\n    </tr>\n    <tr>\n      <th>9</th>\n      <td>51cr</td>\n      <td>320.0824</td>\n      <td>0.0004</td>\n      <td>9.910</td>\n      <td>0.010</td>\n      <td>27.704</td>\n      <td>EC</td>\n      <td>100.0</td>\n      <td>320.1</td>\n      <td>True</td>\n      <td>True</td>\n    </tr>\n    <tr>\n      <th>15</th>\n      <td>54mn</td>\n      <td>834.8480</td>\n      <td>0.0030</td>\n      <td>99.976</td>\n      <td>0.001</td>\n      <td>312.200</td>\n      <td>EC+B+</td>\n      <td>100.0</td>\n      <td>834.8</td>\n      <td>True</td>\n      <td>True</td>\n    </tr>\n    <tr>\n      <th>22</th>\n      <td>58co</td>\n      <td>810.7593</td>\n      <td>0.0020</td>\n      <td>99.450</td>\n      <td>0.010</td>\n      <td>70.860</td>\n      <td>EC+B+</td>\n      <td>100.0</td>\n      <td>810.8</td>\n      <td>True</td>\n      <td>True</td>\n    </tr>\n    <tr>\n      <th>...</th>\n      <td>...</td>\n      <td>...</td>\n      <td>...</td>\n      <td>...</td>\n      <td>...</td>\n      <td>...</td>\n      <td>...</td>\n      <td>...</td>\n      <td>...</td>\n      <td>...</td>\n      <td>...</td>\n    </tr>\n    <tr>\n      <th>1066</th>\n      <td>228Ac</td>\n      <td>89.9540</td>\n      <td>NaN</td>\n      <td>2.010</td>\n      <td>0.190</td>\n      <td>6.150</td>\n      <td>B-</td>\n      <td>100.0</td>\n      <td>911.6</td>\n      <td>False</td>\n      <td>False</td>\n    </tr>\n    <tr>\n      <th>1067</th>\n      <td>228Ac</td>\n      <td>93.3470</td>\n      <td>NaN</td>\n      <td>3.200</td>\n      <td>0.300</td>\n      <td>6.150</td>\n      <td>B-</td>\n      <td>100.0</td>\n      <td>911.6</td>\n      <td>False</td>\n      <td>False</td>\n    </tr>\n    <tr>\n      <th>1068</th>\n      <td>228Ac</td>\n      <td>105.5660</td>\n      <td>NaN</td>\n      <td>1.160</td>\n      <td>0.110</td>\n      <td>6.150</td>\n      <td>B-</td>\n      <td>100.0</td>\n      <td>911.6</td>\n      <td>False</td>\n      <td>True</td>\n    </tr>\n    <tr>\n      <th>1069</th>\n      <td>228Ac</td>\n      <td>106.8940</td>\n      <td>NaN</td>\n      <td>1.540</td>\n      <td>0.150</td>\n      <td>6.150</td>\n      <td>B-</td>\n      <td>100.0</td>\n      <td>911.6</td>\n      <td>False</td>\n      <td>True</td>\n    </tr>\n    <tr>\n      <th>1070</th>\n      <td>228Ac</td>\n      <td>108.5800</td>\n      <td>NaN</td>\n      <td>0.390</td>\n      <td>0.040</td>\n      <td>6.150</td>\n      <td>B-</td>\n      <td>100.0</td>\n      <td>911.6</td>\n      <td>False</td>\n      <td>True</td>\n    </tr>\n  </tbody>\n</table>\n<p>235 rows × 11 columns</p>\n</div>"
     },
     "execution_count": 11,
     "metadata": {},
     "output_type": "execute_result"
    }
   ]
  },
  {
   "cell_type": "code",
   "source": [
    "a_spec = Spec(f_name, reduced_f_name)"
   ],
   "metadata": {
    "tags": [],
    "trusted": true,
    "ExecuteTime": {
     "end_time": "2023-10-18T16:34:27.048261103Z",
     "start_time": "2023-10-18T16:34:26.885083102Z"
    }
   },
   "execution_count": 12,
   "outputs": []
  },
  {
   "cell_type": "code",
   "source": [
    "dir(a_spec)"
   ],
   "metadata": {
    "tags": [],
    "collapsed": false,
    "trusted": true,
    "ExecuteTime": {
     "end_time": "2023-10-18T16:34:27.279527128Z",
     "start_time": "2023-10-18T16:34:26.927755094Z"
    }
   },
   "execution_count": 13,
   "outputs": [
    {
     "data": {
      "text/plain": "['__class__',\n '__delattr__',\n '__dict__',\n '__dir__',\n '__doc__',\n '__eq__',\n '__format__',\n '__ge__',\n '__getattribute__',\n '__getstate__',\n '__gt__',\n '__hash__',\n '__init__',\n '__init_subclass__',\n '__le__',\n '__lt__',\n '__module__',\n '__ne__',\n '__new__',\n '__reduce__',\n '__reduce_ex__',\n '__repr__',\n '__setattr__',\n '__sizeof__',\n '__str__',\n '__subclasshook__',\n '__weakref__',\n 'channel_energy_calib',\n 'curr_h_win',\n 'det_descr',\n 'f_name',\n 'final_composed_baseline',\n 'generate_pandas_dataframe',\n 'identify_nuclides',\n 'lv_time',\n 'net_spec_ser_an',\n 'nucl_an',\n 'origin_spec_ser_an',\n 'reduced_f_name',\n 'results_pkl_file',\n 'rl_time',\n 'sam_descr',\n 'source_datetime',\n 'spec_io',\n 'start_datetime',\n 'sufx',\n 'total_analysis']"
     },
     "execution_count": 13,
     "metadata": {},
     "output_type": "execute_result"
    }
   ]
  },
  {
   "cell_type": "code",
   "source": [
    "orig_ser = a_spec.origin_spec_ser_an\n",
    "vars(orig_ser)"
   ],
   "metadata": {
    "tags": [],
    "collapsed": false,
    "trusted": true,
    "ExecuteTime": {
     "end_time": "2023-10-18T16:34:27.358480883Z",
     "start_time": "2023-10-18T16:34:27.031872472Z"
    }
   },
   "execution_count": 14,
   "outputs": [
    {
     "data": {
      "text/plain": "{'mix_regions': None,\n 'spl_baseline': None,\n 'eval_baseline': None,\n 'y_s': array([0, 0, 0, ..., 3, 4, 0]),\n 'nzero': array([False, False, False, ...,  True,  True, False]),\n 'n_ch': 4096,\n 'final_baseline': None,\n 'x_s': array([0.000e+00, 1.000e+00, 2.000e+00, ..., 4.093e+03, 4.094e+03,\n        4.095e+03]),\n 'chans_nzero': array([  26.,   27.,   28., ..., 4092., 4093., 4094.]),\n 'counts_nzero': array([  1,  81, 797, ...,   4,   3,   4]),\n 'unc_y': array([ 1.        ,  9.        , 28.23118843, ...,  2.        ,\n         1.73205081,  2.        ]),\n 'given_variance': array([0, 0, 0, ..., 3, 4, 0]),\n 'y_smoothed': array([0, 0, 0, ..., 3, 4, 0]),\n 'fft_s': None,\n 'is_reg': array([False, False, False, ..., False, False, False]),\n 'xs_all_mplets': [],\n 'ys_all_mplets': [],\n 'ys_all_steps': [],\n 'chans_in_multiplets_list': [],\n 'calculated_step_counts': [],\n 'xs_bl_in_reg': array([], dtype=float64),\n 'ys_bl_in_reg': array([], dtype=float64),\n 'xs_bl_out_reg': array([], dtype=float64),\n 'ys_bl_out_reg': array([], dtype=float64),\n 'ws_bl_out_reg': array([], dtype=float64),\n 'pk_parms': <peaksparms_class.PeaksParms at 0x7f171dd671d0>,\n 'fft_spec': array([], dtype=float64),\n 'k_erf': 0.9999975184539827}"
     },
     "execution_count": 14,
     "metadata": {},
     "output_type": "execute_result"
    }
   ]
  },
  {
   "cell_type": "code",
   "source": [
    "a_spec.total_analysis(gener_dataframe=True, results_path='../ograyspy_results')\n",
    "# A opção acima, gener_dataframe=True,  grava o pkl_file do espectro\n",
    "vars(a_spec)"
   ],
   "metadata": {
    "tags": [],
    "collapsed": false,
    "trusted": true,
    "ExecuteTime": {
     "end_time": "2023-10-18T16:34:27.745476260Z",
     "start_time": "2023-10-18T16:34:27.160987935Z"
    }
   },
   "execution_count": 15,
   "outputs": [
    {
     "name": "stdout",
     "output_type": "stream",
     "text": [
      "Starting Spec.total_analysis...\n",
      "resolve_peaks_and_regions:\n",
      "define_multiplets_regions completado. Define: self.mix_regions.\n",
      "resolve_peaks_and_regions:\n",
      "define_multiplets_regions completado. Define: self.mix_regions.\n",
      "Si/SI2022/SI06122.Chn\n",
      "Si/SI2022/SI06122_result.pkl\n",
      "results_pkl_file\n",
      "../ograyspy_results/Si/SI2022/SI06122_result.pkl\n",
      "Finish Spec.total_analysis!\n"
     ]
    },
    {
     "data": {
      "text/plain": "{'net_spec_ser_an': <generic_series_analysis_class.GenericSeriesAnalysis at 0x7f171fc478d0>,\n 'final_composed_baseline': <generic_series_analysis_class.GenericSeriesAnalysis at 0x7f171d6eeb90>,\n 'f_name': PosixPath('/home/marcelofm/Nextcloud/Genie_Transfer/Si/SI2022/SI06122.Chn'),\n 'reduced_f_name': 'Si/SI2022/SI06122.Chn',\n 'sufx': '.chn',\n 'spec_io': None,\n 'lv_time': 50000.0,\n 'rl_time': 50028.96,\n 'source_datetime': None,\n 'results_pkl_file': PosixPath('../ograyspy_results/Si/SI2022/SI06122_result.pkl'),\n 'origin_spec_ser_an': <generic_series_analysis_class.GenericSeriesAnalysis at 0x7f171d67a690>,\n 'start_datetime': datetime.datetime(2022, 7, 27, 16, 56, 29),\n 'det_descr': 'MAQUINA_01 MCB 1 Input 1',\n 'sam_descr': 'SI-061/22 Agua da Piscina Reator IEA-R1 (GMX)',\n 'channel_energy_calib': <genericcalib_class.ChannelEnergyCalib at 0x7f171dd67210>,\n 'nucl_an': <nuclide_analysis_class.NuclideAnalysis at 0x7f17614d84d0>}"
     },
     "execution_count": 15,
     "metadata": {},
     "output_type": "execute_result"
    }
   ]
  },
  {
   "cell_type": "code",
   "execution_count": 15,
   "outputs": [],
   "source": [],
   "metadata": {
    "collapsed": false,
    "ExecuteTime": {
     "end_time": "2023-10-18T16:34:27.745887837Z",
     "start_time": "2023-10-18T16:34:27.340260144Z"
    }
   }
  },
  {
   "cell_type": "code",
   "execution_count": 16,
   "outputs": [
    {
     "data": {
      "text/plain": "['In',\n 'Ograyspy',\n 'Out',\n 'P',\n 'Spec',\n '_',\n '_10',\n '_11',\n '_13',\n '_14',\n '_15',\n '_7',\n '_9',\n '__',\n '___',\n '__builtin__',\n '__builtins__',\n '__doc__',\n '__loader__',\n '__name__',\n '__package__',\n '__spec__',\n '_dh',\n '_i',\n '_i1',\n '_i10',\n '_i11',\n '_i12',\n '_i13',\n '_i14',\n '_i15',\n '_i16',\n '_i2',\n '_i3',\n '_i4',\n '_i5',\n '_i6',\n '_i7',\n '_i8',\n '_i9',\n '_ih',\n '_ii',\n '_iii',\n '_oh',\n 'a_pattern',\n 'a_spec',\n 'exit',\n 'f_name',\n 'fil_lst',\n 'get_ipython',\n 'linear_model',\n 'np',\n 'nucl_iear1_df',\n 'open',\n 'orig_ser',\n 'pd',\n 'quit',\n 'randrange',\n 'reduc_nms',\n 'reduced_f_name',\n 'select_spectrum_from_folder_list',\n 'spc_pth',\n 'spectra_list_df',\n 'to_be_found']"
     },
     "execution_count": 16,
     "metadata": {},
     "output_type": "execute_result"
    }
   ],
   "source": [
    "dir()"
   ],
   "metadata": {
    "collapsed": false,
    "ExecuteTime": {
     "end_time": "2023-10-18T16:34:27.904341435Z",
     "start_time": "2023-10-18T16:34:27.350134731Z"
    }
   }
  },
  {
   "cell_type": "code",
   "execution_count": 17,
   "outputs": [],
   "source": [
    "# 2023-Oct-18 PAREI AQUI. Reformatar-deletar tudo o que segue."
   ],
   "metadata": {
    "collapsed": false,
    "ExecuteTime": {
     "end_time": "2023-10-18T16:34:27.905602544Z",
     "start_time": "2023-10-18T16:34:27.501185223Z"
    }
   }
  },
  {
   "cell_type": "code",
   "execution_count": 18,
   "outputs": [
    {
     "data": {
      "text/plain": "                                      info_plat info_mach info_syst  \\\n0  Linux-6.2.0-34-generic-x86_64-with-glibc2.37    x86_64     Linux   \n\n          info_node        home_path  \\\n0  marcelofm-X540LA  /home/marcelofm   \n\n                               spectra_path  n_files  a_spec_ind a_spec_name  \\\n0  /home/marcelofm/Nextcloud/Genie_Transfer     7292           0               \n\n  reduced_f_name                                         files_list  \\\n0                 [/home/marcelofm/Nextcloud/Genie_Transfer/BGNO...   \n\n                            reduced_names_files_list  \\\n0  [BGNOVO.Chn, testes_lowbg_planar/Ba133 Planar....   \n\n                    spectra_pattern_names           pkl_folder_files  \\\n0  [**/*.[Cc][Hh][Nn], **/*.[Ii][Ee][Cc]]  Linuxmarcelofm-X540LA.pkl   \n\n     results_path_name  \n0  ../ograyspy_results  ",
      "text/html": "<div>\n<style scoped>\n    .dataframe tbody tr th:only-of-type {\n        vertical-align: middle;\n    }\n\n    .dataframe tbody tr th {\n        vertical-align: top;\n    }\n\n    .dataframe thead th {\n        text-align: right;\n    }\n</style>\n<table border=\"1\" class=\"dataframe\">\n  <thead>\n    <tr style=\"text-align: right;\">\n      <th></th>\n      <th>info_plat</th>\n      <th>info_mach</th>\n      <th>info_syst</th>\n      <th>info_node</th>\n      <th>home_path</th>\n      <th>spectra_path</th>\n      <th>n_files</th>\n      <th>a_spec_ind</th>\n      <th>a_spec_name</th>\n      <th>reduced_f_name</th>\n      <th>files_list</th>\n      <th>reduced_names_files_list</th>\n      <th>spectra_pattern_names</th>\n      <th>pkl_folder_files</th>\n      <th>results_path_name</th>\n    </tr>\n  </thead>\n  <tbody>\n    <tr>\n      <th>0</th>\n      <td>Linux-6.2.0-34-generic-x86_64-with-glibc2.37</td>\n      <td>x86_64</td>\n      <td>Linux</td>\n      <td>marcelofm-X540LA</td>\n      <td>/home/marcelofm</td>\n      <td>/home/marcelofm/Nextcloud/Genie_Transfer</td>\n      <td>7292</td>\n      <td>0</td>\n      <td></td>\n      <td></td>\n      <td>[/home/marcelofm/Nextcloud/Genie_Transfer/BGNO...</td>\n      <td>[BGNOVO.Chn, testes_lowbg_planar/Ba133 Planar....</td>\n      <td>[**/*.[Cc][Hh][Nn], **/*.[Ii][Ee][Cc]]</td>\n      <td>Linuxmarcelofm-X540LA.pkl</td>\n      <td>../ograyspy_results</td>\n    </tr>\n  </tbody>\n</table>\n</div>"
     },
     "execution_count": 18,
     "metadata": {},
     "output_type": "execute_result"
    }
   ],
   "source": [
    "spectra_list_df"
   ],
   "metadata": {
    "collapsed": false,
    "ExecuteTime": {
     "end_time": "2023-10-18T16:34:28.162489648Z",
     "start_time": "2023-10-18T16:34:27.628060051Z"
    }
   }
  },
  {
   "cell_type": "code",
   "source": [
    "net_ser = a_spec.net_spec_ser_an\n",
    "vars(net_ser)"
   ],
   "metadata": {
    "tags": [],
    "collapsed": false,
    "trusted": true,
    "ExecuteTime": {
     "end_time": "2023-10-18T16:34:28.164159515Z",
     "start_time": "2023-10-18T16:34:27.793140480Z"
    }
   },
   "execution_count": 19,
   "outputs": [
    {
     "data": {
      "text/plain": "{'mix_regions': array([[  26,   35],\n        [ 122,  135],\n        [ 140,  151],\n        [ 230,  243],\n        [ 389,  404],\n        [ 486,  493],\n        [ 576,  587],\n        [ 711,  722],\n        [ 832,  851],\n        [ 954,  967],\n        [ 997, 1018],\n        [1076, 1094],\n        [1110, 1121],\n        [1157, 1170],\n        [1184, 1195],\n        [1250, 1263],\n        [1327, 1340],\n        [1363, 1382],\n        [1447, 1462],\n        [1490, 1507],\n        [1533, 1548],\n        [1577, 1599],\n        [1824, 1846],\n        [1919, 1934],\n        [2027, 2038],\n        [2179, 2196],\n        [2241, 2254],\n        [2255, 2281],\n        [2389, 2406],\n        [2464, 2477],\n        [2600, 2622],\n        [2833, 2840],\n        [2886, 2903],\n        [3026, 3035],\n        [3445, 3456],\n        [3606, 3625]]),\n 'spl_baseline': None,\n 'eval_baseline': None,\n 'y_s': array([0.        , 0.        , 0.        , ..., 0.        , 1.87084501,\n        0.        ]),\n 'nzero': array([False, False, False, ..., False,  True, False]),\n 'n_ch': 4096,\n 'final_baseline': None,\n 'x_s': array([0.000e+00, 1.000e+00, 2.000e+00, ..., 4.093e+03, 4.094e+03,\n        4.095e+03]),\n 'chans_nzero': array([  29.,   30.,   31., ..., 4082., 4092., 4094.]),\n 'counts_nzero': array([617.18064592, 818.64619493, 367.80951529, ...,   4.86793026,\n          1.6918536 ,   1.87084501]),\n 'given_variance': array([961.59175888, 948.9596778 , 938.71829204, ...,   5.21925774,\n          6.12915499,   2.03782991]),\n 'unc_y': array([31.00954303, 30.80518914, 30.63850995, ...,  2.28456949,\n         2.47571303,  1.4275258 ]),\n 'y_smoothed': array([0.        , 0.        , 0.        , ..., 0.        , 1.87084501,\n        0.        ]),\n 'fft_s': None,\n 'is_reg': array([False, False, False, ..., False, False, False]),\n 'xs_all_mplets': [],\n 'ys_all_mplets': [],\n 'ys_all_steps': [],\n 'chans_in_multiplets_list': [],\n 'calculated_step_counts': [],\n 'xs_bl_in_reg': array([], dtype=float64),\n 'ys_bl_in_reg': array([], dtype=float64),\n 'xs_bl_out_reg': array([], dtype=float64),\n 'ys_bl_out_reg': array([], dtype=float64),\n 'ws_bl_out_reg': array([], dtype=float64),\n 'pk_parms': <peaksparms_class.PeaksParms at 0x7f171d518510>,\n 'fft_spec': array([], dtype=float64),\n 'k_erf': 0.9999975184539827,\n 'widths_range': (1.343924073525983, 7.566820901859273),\n 'widths_pair': (1.343924073525983, 7.566820901859273)}"
     },
     "execution_count": 19,
     "metadata": {},
     "output_type": "execute_result"
    }
   ]
  },
  {
   "cell_type": "code",
   "source": [],
   "metadata": {
    "collapsed": false,
    "ExecuteTime": {
     "end_time": "2023-10-18T16:34:28.164411552Z",
     "start_time": "2023-10-18T16:34:27.885143787Z"
    }
   },
   "execution_count": 19,
   "outputs": []
  },
  {
   "cell_type": "code",
   "source": [
    "# Só para verificar se o pkl_file pode ser recuperado:\n",
    "read_analysis_spec = pd.read_pickle(a_spec.results_pkl_file)"
   ],
   "metadata": {
    "tags": [],
    "collapsed": false,
    "trusted": true,
    "ExecuteTime": {
     "end_time": "2023-10-18T16:34:28.258515132Z",
     "start_time": "2023-10-18T16:34:27.885498971Z"
    }
   },
   "execution_count": 20,
   "outputs": []
  },
  {
   "cell_type": "code",
   "source": [
    "read_orig = read_analysis_spec['origin_spec_ser_an'][0]\n",
    "orig_ser = read_orig\n",
    "# vars(orig_ser)"
   ],
   "metadata": {
    "tags": [],
    "collapsed": false,
    "trusted": true,
    "ExecuteTime": {
     "end_time": "2023-10-18T16:34:28.303884166Z",
     "start_time": "2023-10-18T16:34:27.953155552Z"
    }
   },
   "execution_count": 21,
   "outputs": []
  },
  {
   "cell_type": "code",
   "source": [
    "read_net = read_analysis_spec['net_spec_ser_an'][0]\n",
    "net_ser = read_net\n",
    "vars(net_ser)"
   ],
   "metadata": {
    "tags": [],
    "collapsed": false,
    "trusted": true,
    "ExecuteTime": {
     "end_time": "2023-10-18T16:34:28.465778175Z",
     "start_time": "2023-10-18T16:34:28.079903145Z"
    }
   },
   "execution_count": 22,
   "outputs": [
    {
     "data": {
      "text/plain": "{'mix_regions': array([[  26,   35],\n        [ 122,  135],\n        [ 140,  151],\n        [ 230,  243],\n        [ 389,  404],\n        [ 486,  493],\n        [ 576,  587],\n        [ 711,  722],\n        [ 832,  851],\n        [ 954,  967],\n        [ 997, 1018],\n        [1076, 1094],\n        [1110, 1121],\n        [1157, 1170],\n        [1184, 1195],\n        [1250, 1263],\n        [1327, 1340],\n        [1363, 1382],\n        [1447, 1462],\n        [1490, 1507],\n        [1533, 1548],\n        [1577, 1599],\n        [1824, 1846],\n        [1919, 1934],\n        [2027, 2038],\n        [2179, 2196],\n        [2241, 2254],\n        [2255, 2281],\n        [2389, 2406],\n        [2464, 2477],\n        [2600, 2622],\n        [2833, 2840],\n        [2886, 2903],\n        [3026, 3035],\n        [3445, 3456],\n        [3606, 3625]]),\n 'spl_baseline': None,\n 'eval_baseline': None,\n 'y_s': array([0.        , 0.        , 0.        , ..., 0.        , 1.87084501,\n        0.        ]),\n 'nzero': array([False, False, False, ..., False,  True, False]),\n 'n_ch': 4096,\n 'final_baseline': None,\n 'x_s': array([0.000e+00, 1.000e+00, 2.000e+00, ..., 4.093e+03, 4.094e+03,\n        4.095e+03]),\n 'chans_nzero': array([  29.,   30.,   31., ..., 4082., 4092., 4094.]),\n 'counts_nzero': array([617.18064592, 818.64619493, 367.80951529, ...,   4.86793026,\n          1.6918536 ,   1.87084501]),\n 'given_variance': array([961.59175888, 948.9596778 , 938.71829204, ...,   5.21925774,\n          6.12915499,   2.03782991]),\n 'unc_y': array([31.00954303, 30.80518914, 30.63850995, ...,  2.28456949,\n         2.47571303,  1.4275258 ]),\n 'y_smoothed': array([0.        , 0.        , 0.        , ..., 0.        , 1.87084501,\n        0.        ]),\n 'fft_s': None,\n 'is_reg': array([False, False, False, ..., False, False, False]),\n 'xs_all_mplets': [],\n 'ys_all_mplets': [],\n 'ys_all_steps': [],\n 'chans_in_multiplets_list': [],\n 'calculated_step_counts': [],\n 'xs_bl_in_reg': array([], dtype=float64),\n 'ys_bl_in_reg': array([], dtype=float64),\n 'xs_bl_out_reg': array([], dtype=float64),\n 'ys_bl_out_reg': array([], dtype=float64),\n 'ws_bl_out_reg': array([], dtype=float64),\n 'pk_parms': <peaksparms_class.PeaksParms at 0x7f171d40acd0>,\n 'fft_spec': array([], dtype=float64),\n 'k_erf': 0.9999975184539827,\n 'widths_range': (1.343924073525983, 7.566820901859273),\n 'widths_pair': (1.343924073525983, 7.566820901859273)}"
     },
     "execution_count": 22,
     "metadata": {},
     "output_type": "execute_result"
    }
   ]
  },
  {
   "cell_type": "code",
   "source": [
    "# 2023-May-26\n",
    "# Ok! Espectro gravado, depois lido, então vamos prosseguir\n",
    "# com a identificação dos nuclídeos.\n",
    "# Agora, posso ler e analisar um espectro, gravá-lo e depois, em outro momento,\n",
    "# ler o pkl com a análise."
   ],
   "metadata": {
    "tags": [],
    "collapsed": false,
    "trusted": true,
    "ExecuteTime": {
     "end_time": "2023-10-18T16:34:28.515428790Z",
     "start_time": "2023-10-18T16:34:28.233028150Z"
    }
   },
   "execution_count": 23,
   "outputs": []
  },
  {
   "cell_type": "code",
   "source": [],
   "metadata": {
    "collapsed": false,
    "ExecuteTime": {
     "end_time": "2023-10-18T16:34:28.559816521Z",
     "start_time": "2023-10-18T16:34:28.279426704Z"
    }
   },
   "execution_count": 23,
   "outputs": []
  },
  {
   "cell_type": "code",
   "source": [
    "x_nz = orig_ser.chans_nzero\n",
    "y_nz = orig_ser.counts_nzero"
   ],
   "metadata": {
    "tags": [],
    "trusted": true,
    "ExecuteTime": {
     "end_time": "2023-10-18T16:34:28.665329386Z",
     "start_time": "2023-10-18T16:34:28.321220155Z"
    }
   },
   "execution_count": 24,
   "outputs": []
  },
  {
   "cell_type": "code",
   "source": [],
   "metadata": {
    "ExecuteTime": {
     "end_time": "2023-10-18T16:34:28.818616016Z",
     "start_time": "2023-10-18T16:34:28.475350566Z"
    }
   },
   "execution_count": 24,
   "outputs": []
  },
  {
   "cell_type": "code",
   "source": [
    "chans = net_ser.x_s\n",
    "ys_net_counts = net_ser.y_s\n",
    "peaks_net = net_ser.pk_parms.peaks\n",
    "peaks_orig = orig_ser.pk_parms.peaks\n",
    "counts = orig_ser.y_s\n",
    "chans_nzero = orig_ser.chans_nzero\n",
    "counts_nzero = orig_ser.counts_nzero\n",
    "unc_y = orig_ser.unc_y\n",
    "eval_y = orig_ser.y_smoothed\n",
    "eval_bl = orig_ser.eval_baseline\n",
    "fin_bl = orig_ser.final_baseline\n",
    "inis = orig_ser.pk_parms.propts['left_bases']\n",
    "fins = orig_ser.pk_parms.propts['right_bases']"
   ],
   "metadata": {
    "tags": [],
    "trusted": true,
    "ExecuteTime": {
     "end_time": "2023-10-18T16:34:28.869692020Z",
     "start_time": "2023-10-18T16:34:28.517041151Z"
    }
   },
   "execution_count": 25,
   "outputs": []
  },
  {
   "cell_type": "code",
   "source": [
    "# 2023-Jun-15\n",
    "# CRUCIAL step: take the dict net_ser.pk_parms' keys/values and organize them as a pd.Dataframe\n",
    "vars_pkprms = vars(net_ser.pk_parms)\n",
    "keys_to_get = ['peaks', 'fwhm_centr', 'rough_sums', 'centroids', 'variances']\n",
    "prep_for_dict = [(key, vars_pkprms[key]) for key in keys_to_get]\n",
    "pks_dict = dict(prep_for_dict)\n",
    "peaks_df = pd.DataFrame.from_dict(pks_dict)\n",
    "peaks_df"
   ],
   "metadata": {
    "tags": [],
    "collapsed": false,
    "trusted": true,
    "ExecuteTime": {
     "end_time": "2023-10-18T16:34:28.926337911Z",
     "start_time": "2023-10-18T16:34:28.578227434Z"
    }
   },
   "execution_count": 26,
   "outputs": [
    {
     "data": {
      "text/plain": "    peaks   fwhm_centr   rough_sums    centroids     variances\n0      30    29.785567  1893.942368    29.963695  14133.214332\n1     128   128.364887  2876.788495   127.767831  11283.211505\n2     145   144.459911  1278.607977   144.896569  10161.329960\n3     236   235.273124   462.759320   235.202199  12019.150830\n4     396   396.401754   630.310441   396.426778  10404.641509\n5     489   488.997063   249.976688   488.967375   4072.023312\n6     581   581.463638   430.396173   581.647407   5405.821287\n7     716   715.508125   222.738094   715.666805   4033.829966\n8     841   841.967813  2900.206925   841.976062   7873.573309\n9     960   960.088168   483.773366   960.065118   3335.841582\n10   1003  1002.888165   769.886444  1002.931019   3458.113556\n11   1011  1011.595555   246.139531  1011.090936   3193.930817\n12   1082  1082.208995  2125.483990  1082.200436   4570.516010\n13   1088  1088.722180   401.081225  1088.105023   2556.918775\n14   1115  1114.774649   176.695976  1115.022855   1999.057501\n15   1163  1162.050038   336.295814  1161.943753   2591.560129\n16   1189  1189.227086   160.747926  1189.208186   1865.322724\n17   1256  1256.302992   405.106118  1256.297717   2257.095859\n18   1333  1332.711271  2591.874119  1332.650344   4761.752838\n19   1372  1372.729536   280.179798  1372.499811   3213.742890\n20   1454  1453.734014  1344.932670  1453.640093   3338.139458\n21   1498  1497.331339   583.585709  1497.348693   2898.191988\n22   1540  1540.041676   709.425445  1539.865159   2764.574555\n23   1585  1585.460179   338.833600  1586.692586   2496.637384\n24   1592  1591.886380   345.779231  1591.826779   1952.269003\n25   1832  1831.914493   472.981339  1832.180142   2007.018661\n26   1840  1839.413659   319.008013  1839.453015   1418.991987\n27   1926  1926.179506  6398.833656  1926.124036   7679.166344\n28   2032  2032.335868   150.062903  2032.321879    865.937097\n29   2187  2186.952804  5848.127892  2186.881900   6473.872108\n30   2247  2246.361081   170.789713  2246.149438    610.315531\n31   2262  2260.909926   107.824449  2261.366983    633.663193\n32   2272  2271.692429   360.400194  2271.722928    921.547003\n33   2397  2397.354424  3206.949995  2397.267432   3637.050005\n34   2470  2469.534452   183.362379  2469.277794    470.637621\n35   2606  2605.351065   131.163569  2605.622131    358.836431\n36   2613  2612.853034   234.194972  2613.278554    601.805028\n37   2836  2835.888820    64.091621  2836.315622    177.908379\n38   2894  2894.703133   397.650084  2894.518455    654.835127\n39   3030  3030.293398    54.452120  3030.019570    153.547880\n40   3450  3449.565229   168.356845  3449.403829    291.643155\n41   3615  3614.038497   124.857782  3614.158312    343.648757",
      "text/html": "<div>\n<style scoped>\n    .dataframe tbody tr th:only-of-type {\n        vertical-align: middle;\n    }\n\n    .dataframe tbody tr th {\n        vertical-align: top;\n    }\n\n    .dataframe thead th {\n        text-align: right;\n    }\n</style>\n<table border=\"1\" class=\"dataframe\">\n  <thead>\n    <tr style=\"text-align: right;\">\n      <th></th>\n      <th>peaks</th>\n      <th>fwhm_centr</th>\n      <th>rough_sums</th>\n      <th>centroids</th>\n      <th>variances</th>\n    </tr>\n  </thead>\n  <tbody>\n    <tr>\n      <th>0</th>\n      <td>30</td>\n      <td>29.785567</td>\n      <td>1893.942368</td>\n      <td>29.963695</td>\n      <td>14133.214332</td>\n    </tr>\n    <tr>\n      <th>1</th>\n      <td>128</td>\n      <td>128.364887</td>\n      <td>2876.788495</td>\n      <td>127.767831</td>\n      <td>11283.211505</td>\n    </tr>\n    <tr>\n      <th>2</th>\n      <td>145</td>\n      <td>144.459911</td>\n      <td>1278.607977</td>\n      <td>144.896569</td>\n      <td>10161.329960</td>\n    </tr>\n    <tr>\n      <th>3</th>\n      <td>236</td>\n      <td>235.273124</td>\n      <td>462.759320</td>\n      <td>235.202199</td>\n      <td>12019.150830</td>\n    </tr>\n    <tr>\n      <th>4</th>\n      <td>396</td>\n      <td>396.401754</td>\n      <td>630.310441</td>\n      <td>396.426778</td>\n      <td>10404.641509</td>\n    </tr>\n    <tr>\n      <th>5</th>\n      <td>489</td>\n      <td>488.997063</td>\n      <td>249.976688</td>\n      <td>488.967375</td>\n      <td>4072.023312</td>\n    </tr>\n    <tr>\n      <th>6</th>\n      <td>581</td>\n      <td>581.463638</td>\n      <td>430.396173</td>\n      <td>581.647407</td>\n      <td>5405.821287</td>\n    </tr>\n    <tr>\n      <th>7</th>\n      <td>716</td>\n      <td>715.508125</td>\n      <td>222.738094</td>\n      <td>715.666805</td>\n      <td>4033.829966</td>\n    </tr>\n    <tr>\n      <th>8</th>\n      <td>841</td>\n      <td>841.967813</td>\n      <td>2900.206925</td>\n      <td>841.976062</td>\n      <td>7873.573309</td>\n    </tr>\n    <tr>\n      <th>9</th>\n      <td>960</td>\n      <td>960.088168</td>\n      <td>483.773366</td>\n      <td>960.065118</td>\n      <td>3335.841582</td>\n    </tr>\n    <tr>\n      <th>10</th>\n      <td>1003</td>\n      <td>1002.888165</td>\n      <td>769.886444</td>\n      <td>1002.931019</td>\n      <td>3458.113556</td>\n    </tr>\n    <tr>\n      <th>11</th>\n      <td>1011</td>\n      <td>1011.595555</td>\n      <td>246.139531</td>\n      <td>1011.090936</td>\n      <td>3193.930817</td>\n    </tr>\n    <tr>\n      <th>12</th>\n      <td>1082</td>\n      <td>1082.208995</td>\n      <td>2125.483990</td>\n      <td>1082.200436</td>\n      <td>4570.516010</td>\n    </tr>\n    <tr>\n      <th>13</th>\n      <td>1088</td>\n      <td>1088.722180</td>\n      <td>401.081225</td>\n      <td>1088.105023</td>\n      <td>2556.918775</td>\n    </tr>\n    <tr>\n      <th>14</th>\n      <td>1115</td>\n      <td>1114.774649</td>\n      <td>176.695976</td>\n      <td>1115.022855</td>\n      <td>1999.057501</td>\n    </tr>\n    <tr>\n      <th>15</th>\n      <td>1163</td>\n      <td>1162.050038</td>\n      <td>336.295814</td>\n      <td>1161.943753</td>\n      <td>2591.560129</td>\n    </tr>\n    <tr>\n      <th>16</th>\n      <td>1189</td>\n      <td>1189.227086</td>\n      <td>160.747926</td>\n      <td>1189.208186</td>\n      <td>1865.322724</td>\n    </tr>\n    <tr>\n      <th>17</th>\n      <td>1256</td>\n      <td>1256.302992</td>\n      <td>405.106118</td>\n      <td>1256.297717</td>\n      <td>2257.095859</td>\n    </tr>\n    <tr>\n      <th>18</th>\n      <td>1333</td>\n      <td>1332.711271</td>\n      <td>2591.874119</td>\n      <td>1332.650344</td>\n      <td>4761.752838</td>\n    </tr>\n    <tr>\n      <th>19</th>\n      <td>1372</td>\n      <td>1372.729536</td>\n      <td>280.179798</td>\n      <td>1372.499811</td>\n      <td>3213.742890</td>\n    </tr>\n    <tr>\n      <th>20</th>\n      <td>1454</td>\n      <td>1453.734014</td>\n      <td>1344.932670</td>\n      <td>1453.640093</td>\n      <td>3338.139458</td>\n    </tr>\n    <tr>\n      <th>21</th>\n      <td>1498</td>\n      <td>1497.331339</td>\n      <td>583.585709</td>\n      <td>1497.348693</td>\n      <td>2898.191988</td>\n    </tr>\n    <tr>\n      <th>22</th>\n      <td>1540</td>\n      <td>1540.041676</td>\n      <td>709.425445</td>\n      <td>1539.865159</td>\n      <td>2764.574555</td>\n    </tr>\n    <tr>\n      <th>23</th>\n      <td>1585</td>\n      <td>1585.460179</td>\n      <td>338.833600</td>\n      <td>1586.692586</td>\n      <td>2496.637384</td>\n    </tr>\n    <tr>\n      <th>24</th>\n      <td>1592</td>\n      <td>1591.886380</td>\n      <td>345.779231</td>\n      <td>1591.826779</td>\n      <td>1952.269003</td>\n    </tr>\n    <tr>\n      <th>25</th>\n      <td>1832</td>\n      <td>1831.914493</td>\n      <td>472.981339</td>\n      <td>1832.180142</td>\n      <td>2007.018661</td>\n    </tr>\n    <tr>\n      <th>26</th>\n      <td>1840</td>\n      <td>1839.413659</td>\n      <td>319.008013</td>\n      <td>1839.453015</td>\n      <td>1418.991987</td>\n    </tr>\n    <tr>\n      <th>27</th>\n      <td>1926</td>\n      <td>1926.179506</td>\n      <td>6398.833656</td>\n      <td>1926.124036</td>\n      <td>7679.166344</td>\n    </tr>\n    <tr>\n      <th>28</th>\n      <td>2032</td>\n      <td>2032.335868</td>\n      <td>150.062903</td>\n      <td>2032.321879</td>\n      <td>865.937097</td>\n    </tr>\n    <tr>\n      <th>29</th>\n      <td>2187</td>\n      <td>2186.952804</td>\n      <td>5848.127892</td>\n      <td>2186.881900</td>\n      <td>6473.872108</td>\n    </tr>\n    <tr>\n      <th>30</th>\n      <td>2247</td>\n      <td>2246.361081</td>\n      <td>170.789713</td>\n      <td>2246.149438</td>\n      <td>610.315531</td>\n    </tr>\n    <tr>\n      <th>31</th>\n      <td>2262</td>\n      <td>2260.909926</td>\n      <td>107.824449</td>\n      <td>2261.366983</td>\n      <td>633.663193</td>\n    </tr>\n    <tr>\n      <th>32</th>\n      <td>2272</td>\n      <td>2271.692429</td>\n      <td>360.400194</td>\n      <td>2271.722928</td>\n      <td>921.547003</td>\n    </tr>\n    <tr>\n      <th>33</th>\n      <td>2397</td>\n      <td>2397.354424</td>\n      <td>3206.949995</td>\n      <td>2397.267432</td>\n      <td>3637.050005</td>\n    </tr>\n    <tr>\n      <th>34</th>\n      <td>2470</td>\n      <td>2469.534452</td>\n      <td>183.362379</td>\n      <td>2469.277794</td>\n      <td>470.637621</td>\n    </tr>\n    <tr>\n      <th>35</th>\n      <td>2606</td>\n      <td>2605.351065</td>\n      <td>131.163569</td>\n      <td>2605.622131</td>\n      <td>358.836431</td>\n    </tr>\n    <tr>\n      <th>36</th>\n      <td>2613</td>\n      <td>2612.853034</td>\n      <td>234.194972</td>\n      <td>2613.278554</td>\n      <td>601.805028</td>\n    </tr>\n    <tr>\n      <th>37</th>\n      <td>2836</td>\n      <td>2835.888820</td>\n      <td>64.091621</td>\n      <td>2836.315622</td>\n      <td>177.908379</td>\n    </tr>\n    <tr>\n      <th>38</th>\n      <td>2894</td>\n      <td>2894.703133</td>\n      <td>397.650084</td>\n      <td>2894.518455</td>\n      <td>654.835127</td>\n    </tr>\n    <tr>\n      <th>39</th>\n      <td>3030</td>\n      <td>3030.293398</td>\n      <td>54.452120</td>\n      <td>3030.019570</td>\n      <td>153.547880</td>\n    </tr>\n    <tr>\n      <th>40</th>\n      <td>3450</td>\n      <td>3449.565229</td>\n      <td>168.356845</td>\n      <td>3449.403829</td>\n      <td>291.643155</td>\n    </tr>\n    <tr>\n      <th>41</th>\n      <td>3615</td>\n      <td>3614.038497</td>\n      <td>124.857782</td>\n      <td>3614.158312</td>\n      <td>343.648757</td>\n    </tr>\n  </tbody>\n</table>\n</div>"
     },
     "execution_count": 26,
     "metadata": {},
     "output_type": "execute_result"
    }
   ]
  },
  {
   "cell_type": "code",
   "source": [],
   "metadata": {
    "collapsed": false,
    "ExecuteTime": {
     "end_time": "2023-10-18T16:34:28.926662006Z",
     "start_time": "2023-10-18T16:34:28.793212667Z"
    }
   },
   "execution_count": 26,
   "outputs": []
  },
  {
   "cell_type": "code",
   "source": [
    "pr_pk = dict([('pk_hei',net_ser.pk_parms.propts['peak_heights']),\n",
    "              ('lf_thr',net_ser.pk_parms.propts['left_thresholds']),\n",
    "              ('rg_thr',net_ser.pk_parms.propts['right_thresholds']),\n",
    "              ('promns',net_ser.pk_parms.propts['prominences']),\n",
    "              ('lf_bas',net_ser.pk_parms.propts['left_bases']),\n",
    "              ('rg_bas',net_ser.pk_parms.propts['right_bases']),\n",
    "              ('widths',net_ser.pk_parms.propts['widths']),\n",
    "              ('wi_hei',net_ser.pk_parms.propts['width_heights']),\n",
    "              ('lf_ips',net_ser.pk_parms.propts['left_ips']),\n",
    "              ('rg_ips',net_ser.pk_parms.propts['right_ips'])])"
   ],
   "metadata": {
    "tags": [],
    "collapsed": false,
    "trusted": true,
    "ExecuteTime": {
     "end_time": "2023-10-18T16:34:29.002132651Z",
     "start_time": "2023-10-18T16:34:28.793582746Z"
    }
   },
   "execution_count": 27,
   "outputs": []
  },
  {
   "cell_type": "code",
   "source": [
    "pks_properties_df = pd.DataFrame(pr_pk)\n",
    "pks_properties_df"
   ],
   "metadata": {
    "tags": [],
    "collapsed": false,
    "trusted": true,
    "ExecuteTime": {
     "end_time": "2023-10-18T16:34:29.345618200Z",
     "start_time": "2023-10-18T16:34:28.872139754Z"
    }
   },
   "execution_count": 28,
   "outputs": [
    {
     "data": {
      "text/plain": "         pk_hei      lf_thr      rg_thr       promns  lf_bas  rg_bas  \\\n0    818.646195  201.465549  450.836680   818.646195      28      33   \n1    720.585627  359.256221   71.539300   720.585627     100     137   \n2    389.571554    4.276963  247.018556   389.571554     142     151   \n3    123.425784   40.769738   84.205044   123.425784     233     240   \n4    162.845302   70.909899   49.239266   162.845302     392     404   \n5    125.089174   88.241458   88.978919   125.089174     485     493   \n6    147.276132   89.934593    1.069452   147.276132     579     585   \n7     79.006167   15.639623   46.454617    79.006167     713     719   \n8    559.895371  213.926360   11.088422   559.895371     836     850   \n9    148.624963   51.372759   40.677023   148.624963     955     963   \n10   220.739274   40.375893   77.703349   220.739274     990    1008   \n11    63.325136   32.214361    1.787671    63.325136    1008    1016   \n12   657.235129  251.432911  123.634783   657.235129    1073    1101   \n13    97.223236   59.126652   28.889179    69.221096    1086    1101   \n14    67.734059   24.189260   36.845929    67.734059    1112    1117   \n15    85.795902    0.176165   73.885618    85.795902    1152    1166   \n16    64.537729   34.156127   10.853057    64.537729    1186    1191   \n17   134.196651   62.170938   26.847523   134.196651    1253    1261   \n18   751.356428   92.344345  268.763363   751.356428    1328    1338   \n19    65.116362   25.123727    5.880614    65.116362    1369    1376   \n20   367.505693   29.182944  101.857014   367.505693    1449    1459   \n21   142.666499   25.140725   51.889893   142.666499    1494    1503   \n22   175.614136   63.155763   38.866820   175.614136    1534    1573   \n23    45.747485    2.085748   21.928123    45.747485    1583    1588   \n24    99.327543   26.119164   25.897229    99.327543    1588    1597   \n25   108.310877   16.197018   27.833974   108.310877    1816    1845   \n26    88.356843   22.173774   48.880461    74.557849    1836    1845   \n27  1698.898100  468.438806  262.626878  1698.898100    1916    1933   \n28    39.200234   20.187085    6.828505    39.200234    2028    2037   \n29  1402.774453  223.650380  221.450518  1402.774453    2177    2193   \n30    57.090852   27.132936   33.922184    57.090852    2242    2250   \n31    25.844698    8.081059   17.948122    25.844698    2257    2267   \n32    83.645558    7.173466   18.857337    83.645558    2267    2276   \n33   777.060380  263.219632   21.786446   777.060380    2389    2404   \n34    47.058621    3.040656   22.974186    47.058621    2460    2481   \n35    42.782923   20.020247   26.989344    42.782923    2600    2624   \n36    33.863911    1.017050    4.984726    28.063228    2608    2624   \n37    21.622287   12.029719   15.984690    21.622287    2831    2842   \n38    91.256400   36.028978   12.974715    91.256400    2889    2899   \n39    23.091528   19.009584    9.993320    23.091528    3021    3038   \n40    46.289910   15.992458   25.004050    46.289910    3442    3456   \n41    28.476903    6.988944    9.008367    28.476903    3611    3620   \n\n      widths      wi_hei       lf_ips       rg_ips  \n0   2.244704  409.323097    28.663214    30.907919  \n1   2.761022  360.292813   126.984376   129.745398  \n2   2.657272  194.785777   143.131275   145.788547  \n3   2.919528   61.712892   233.813360   236.732888  \n4   3.333009   81.422651   394.735249   398.068258  \n5   1.411704   62.544587   488.291211   489.702915  \n6   2.564867   73.638066   580.181204   582.746071  \n7   2.684467   39.503084   714.165892   716.850359  \n8   4.639239  279.947685   839.648194   844.287433  \n9   2.878815   74.312482   958.648761   961.527576  \n10  3.022488  110.369637  1001.376921  1004.399409  \n11  3.156853   31.662568  1010.017129  1013.173982  \n12  2.972686  328.617564  1080.722653  1083.695338  \n13  2.615085   62.612688  1087.414637  1090.029722  \n14  2.289007   33.867030  1113.630146  1115.919153  \n15  3.061124   42.897951  1160.519476  1163.580599  \n16  2.343664   32.268865  1188.055254  1190.398918  \n17  2.834482   67.098325  1254.885751  1257.720233  \n18  3.214050  375.678214  1331.104246  1334.318296  \n19  4.593614   32.558181  1370.432729  1375.026343  \n20  3.422487  183.752846  1452.022771  1455.445258  \n21  3.965272   71.333250  1495.348703  1499.313975  \n22  3.667664   87.807068  1538.207845  1541.875508  \n23  3.872587   22.873742  1583.523885  1587.396472  \n24  3.077070   49.663772  1590.347845  1593.424914  \n25  3.933581   54.155439  1829.947703  1833.881284  \n26  2.697992   51.077919  1838.064663  1840.762655  \n27  3.484062  849.449050  1924.437475  1927.921538  \n28  2.613583   19.600117  2031.029076  2033.642660  \n29  3.853372  701.387226  2185.026118  2188.879490  \n30  2.960832   28.545426  2244.880665  2247.841497  \n31  3.620114   12.922349  2259.099869  2262.719983  \n32  4.010758   41.822779  2269.687050  2273.697808  \n33  3.821993  388.530190  2395.443428  2399.265421  \n34  3.016614   23.529310  2468.026145  2471.042759  \n35  2.883048   21.391462  2603.909541  2606.792589  \n36  4.105433   19.832298  2610.800317  2614.905751  \n37  1.575047   10.811143  2835.101297  2836.676344  \n38  4.091466   45.628200  2892.657400  2896.748866  \n39  1.801527   11.545764  3029.392635  3031.194161  \n40  2.720839   23.144955  3448.204809  3450.925648  \n41  4.538191   14.238452  3611.769401  3616.307593  ",
      "text/html": "<div>\n<style scoped>\n    .dataframe tbody tr th:only-of-type {\n        vertical-align: middle;\n    }\n\n    .dataframe tbody tr th {\n        vertical-align: top;\n    }\n\n    .dataframe thead th {\n        text-align: right;\n    }\n</style>\n<table border=\"1\" class=\"dataframe\">\n  <thead>\n    <tr style=\"text-align: right;\">\n      <th></th>\n      <th>pk_hei</th>\n      <th>lf_thr</th>\n      <th>rg_thr</th>\n      <th>promns</th>\n      <th>lf_bas</th>\n      <th>rg_bas</th>\n      <th>widths</th>\n      <th>wi_hei</th>\n      <th>lf_ips</th>\n      <th>rg_ips</th>\n    </tr>\n  </thead>\n  <tbody>\n    <tr>\n      <th>0</th>\n      <td>818.646195</td>\n      <td>201.465549</td>\n      <td>450.836680</td>\n      <td>818.646195</td>\n      <td>28</td>\n      <td>33</td>\n      <td>2.244704</td>\n      <td>409.323097</td>\n      <td>28.663214</td>\n      <td>30.907919</td>\n    </tr>\n    <tr>\n      <th>1</th>\n      <td>720.585627</td>\n      <td>359.256221</td>\n      <td>71.539300</td>\n      <td>720.585627</td>\n      <td>100</td>\n      <td>137</td>\n      <td>2.761022</td>\n      <td>360.292813</td>\n      <td>126.984376</td>\n      <td>129.745398</td>\n    </tr>\n    <tr>\n      <th>2</th>\n      <td>389.571554</td>\n      <td>4.276963</td>\n      <td>247.018556</td>\n      <td>389.571554</td>\n      <td>142</td>\n      <td>151</td>\n      <td>2.657272</td>\n      <td>194.785777</td>\n      <td>143.131275</td>\n      <td>145.788547</td>\n    </tr>\n    <tr>\n      <th>3</th>\n      <td>123.425784</td>\n      <td>40.769738</td>\n      <td>84.205044</td>\n      <td>123.425784</td>\n      <td>233</td>\n      <td>240</td>\n      <td>2.919528</td>\n      <td>61.712892</td>\n      <td>233.813360</td>\n      <td>236.732888</td>\n    </tr>\n    <tr>\n      <th>4</th>\n      <td>162.845302</td>\n      <td>70.909899</td>\n      <td>49.239266</td>\n      <td>162.845302</td>\n      <td>392</td>\n      <td>404</td>\n      <td>3.333009</td>\n      <td>81.422651</td>\n      <td>394.735249</td>\n      <td>398.068258</td>\n    </tr>\n    <tr>\n      <th>5</th>\n      <td>125.089174</td>\n      <td>88.241458</td>\n      <td>88.978919</td>\n      <td>125.089174</td>\n      <td>485</td>\n      <td>493</td>\n      <td>1.411704</td>\n      <td>62.544587</td>\n      <td>488.291211</td>\n      <td>489.702915</td>\n    </tr>\n    <tr>\n      <th>6</th>\n      <td>147.276132</td>\n      <td>89.934593</td>\n      <td>1.069452</td>\n      <td>147.276132</td>\n      <td>579</td>\n      <td>585</td>\n      <td>2.564867</td>\n      <td>73.638066</td>\n      <td>580.181204</td>\n      <td>582.746071</td>\n    </tr>\n    <tr>\n      <th>7</th>\n      <td>79.006167</td>\n      <td>15.639623</td>\n      <td>46.454617</td>\n      <td>79.006167</td>\n      <td>713</td>\n      <td>719</td>\n      <td>2.684467</td>\n      <td>39.503084</td>\n      <td>714.165892</td>\n      <td>716.850359</td>\n    </tr>\n    <tr>\n      <th>8</th>\n      <td>559.895371</td>\n      <td>213.926360</td>\n      <td>11.088422</td>\n      <td>559.895371</td>\n      <td>836</td>\n      <td>850</td>\n      <td>4.639239</td>\n      <td>279.947685</td>\n      <td>839.648194</td>\n      <td>844.287433</td>\n    </tr>\n    <tr>\n      <th>9</th>\n      <td>148.624963</td>\n      <td>51.372759</td>\n      <td>40.677023</td>\n      <td>148.624963</td>\n      <td>955</td>\n      <td>963</td>\n      <td>2.878815</td>\n      <td>74.312482</td>\n      <td>958.648761</td>\n      <td>961.527576</td>\n    </tr>\n    <tr>\n      <th>10</th>\n      <td>220.739274</td>\n      <td>40.375893</td>\n      <td>77.703349</td>\n      <td>220.739274</td>\n      <td>990</td>\n      <td>1008</td>\n      <td>3.022488</td>\n      <td>110.369637</td>\n      <td>1001.376921</td>\n      <td>1004.399409</td>\n    </tr>\n    <tr>\n      <th>11</th>\n      <td>63.325136</td>\n      <td>32.214361</td>\n      <td>1.787671</td>\n      <td>63.325136</td>\n      <td>1008</td>\n      <td>1016</td>\n      <td>3.156853</td>\n      <td>31.662568</td>\n      <td>1010.017129</td>\n      <td>1013.173982</td>\n    </tr>\n    <tr>\n      <th>12</th>\n      <td>657.235129</td>\n      <td>251.432911</td>\n      <td>123.634783</td>\n      <td>657.235129</td>\n      <td>1073</td>\n      <td>1101</td>\n      <td>2.972686</td>\n      <td>328.617564</td>\n      <td>1080.722653</td>\n      <td>1083.695338</td>\n    </tr>\n    <tr>\n      <th>13</th>\n      <td>97.223236</td>\n      <td>59.126652</td>\n      <td>28.889179</td>\n      <td>69.221096</td>\n      <td>1086</td>\n      <td>1101</td>\n      <td>2.615085</td>\n      <td>62.612688</td>\n      <td>1087.414637</td>\n      <td>1090.029722</td>\n    </tr>\n    <tr>\n      <th>14</th>\n      <td>67.734059</td>\n      <td>24.189260</td>\n      <td>36.845929</td>\n      <td>67.734059</td>\n      <td>1112</td>\n      <td>1117</td>\n      <td>2.289007</td>\n      <td>33.867030</td>\n      <td>1113.630146</td>\n      <td>1115.919153</td>\n    </tr>\n    <tr>\n      <th>15</th>\n      <td>85.795902</td>\n      <td>0.176165</td>\n      <td>73.885618</td>\n      <td>85.795902</td>\n      <td>1152</td>\n      <td>1166</td>\n      <td>3.061124</td>\n      <td>42.897951</td>\n      <td>1160.519476</td>\n      <td>1163.580599</td>\n    </tr>\n    <tr>\n      <th>16</th>\n      <td>64.537729</td>\n      <td>34.156127</td>\n      <td>10.853057</td>\n      <td>64.537729</td>\n      <td>1186</td>\n      <td>1191</td>\n      <td>2.343664</td>\n      <td>32.268865</td>\n      <td>1188.055254</td>\n      <td>1190.398918</td>\n    </tr>\n    <tr>\n      <th>17</th>\n      <td>134.196651</td>\n      <td>62.170938</td>\n      <td>26.847523</td>\n      <td>134.196651</td>\n      <td>1253</td>\n      <td>1261</td>\n      <td>2.834482</td>\n      <td>67.098325</td>\n      <td>1254.885751</td>\n      <td>1257.720233</td>\n    </tr>\n    <tr>\n      <th>18</th>\n      <td>751.356428</td>\n      <td>92.344345</td>\n      <td>268.763363</td>\n      <td>751.356428</td>\n      <td>1328</td>\n      <td>1338</td>\n      <td>3.214050</td>\n      <td>375.678214</td>\n      <td>1331.104246</td>\n      <td>1334.318296</td>\n    </tr>\n    <tr>\n      <th>19</th>\n      <td>65.116362</td>\n      <td>25.123727</td>\n      <td>5.880614</td>\n      <td>65.116362</td>\n      <td>1369</td>\n      <td>1376</td>\n      <td>4.593614</td>\n      <td>32.558181</td>\n      <td>1370.432729</td>\n      <td>1375.026343</td>\n    </tr>\n    <tr>\n      <th>20</th>\n      <td>367.505693</td>\n      <td>29.182944</td>\n      <td>101.857014</td>\n      <td>367.505693</td>\n      <td>1449</td>\n      <td>1459</td>\n      <td>3.422487</td>\n      <td>183.752846</td>\n      <td>1452.022771</td>\n      <td>1455.445258</td>\n    </tr>\n    <tr>\n      <th>21</th>\n      <td>142.666499</td>\n      <td>25.140725</td>\n      <td>51.889893</td>\n      <td>142.666499</td>\n      <td>1494</td>\n      <td>1503</td>\n      <td>3.965272</td>\n      <td>71.333250</td>\n      <td>1495.348703</td>\n      <td>1499.313975</td>\n    </tr>\n    <tr>\n      <th>22</th>\n      <td>175.614136</td>\n      <td>63.155763</td>\n      <td>38.866820</td>\n      <td>175.614136</td>\n      <td>1534</td>\n      <td>1573</td>\n      <td>3.667664</td>\n      <td>87.807068</td>\n      <td>1538.207845</td>\n      <td>1541.875508</td>\n    </tr>\n    <tr>\n      <th>23</th>\n      <td>45.747485</td>\n      <td>2.085748</td>\n      <td>21.928123</td>\n      <td>45.747485</td>\n      <td>1583</td>\n      <td>1588</td>\n      <td>3.872587</td>\n      <td>22.873742</td>\n      <td>1583.523885</td>\n      <td>1587.396472</td>\n    </tr>\n    <tr>\n      <th>24</th>\n      <td>99.327543</td>\n      <td>26.119164</td>\n      <td>25.897229</td>\n      <td>99.327543</td>\n      <td>1588</td>\n      <td>1597</td>\n      <td>3.077070</td>\n      <td>49.663772</td>\n      <td>1590.347845</td>\n      <td>1593.424914</td>\n    </tr>\n    <tr>\n      <th>25</th>\n      <td>108.310877</td>\n      <td>16.197018</td>\n      <td>27.833974</td>\n      <td>108.310877</td>\n      <td>1816</td>\n      <td>1845</td>\n      <td>3.933581</td>\n      <td>54.155439</td>\n      <td>1829.947703</td>\n      <td>1833.881284</td>\n    </tr>\n    <tr>\n      <th>26</th>\n      <td>88.356843</td>\n      <td>22.173774</td>\n      <td>48.880461</td>\n      <td>74.557849</td>\n      <td>1836</td>\n      <td>1845</td>\n      <td>2.697992</td>\n      <td>51.077919</td>\n      <td>1838.064663</td>\n      <td>1840.762655</td>\n    </tr>\n    <tr>\n      <th>27</th>\n      <td>1698.898100</td>\n      <td>468.438806</td>\n      <td>262.626878</td>\n      <td>1698.898100</td>\n      <td>1916</td>\n      <td>1933</td>\n      <td>3.484062</td>\n      <td>849.449050</td>\n      <td>1924.437475</td>\n      <td>1927.921538</td>\n    </tr>\n    <tr>\n      <th>28</th>\n      <td>39.200234</td>\n      <td>20.187085</td>\n      <td>6.828505</td>\n      <td>39.200234</td>\n      <td>2028</td>\n      <td>2037</td>\n      <td>2.613583</td>\n      <td>19.600117</td>\n      <td>2031.029076</td>\n      <td>2033.642660</td>\n    </tr>\n    <tr>\n      <th>29</th>\n      <td>1402.774453</td>\n      <td>223.650380</td>\n      <td>221.450518</td>\n      <td>1402.774453</td>\n      <td>2177</td>\n      <td>2193</td>\n      <td>3.853372</td>\n      <td>701.387226</td>\n      <td>2185.026118</td>\n      <td>2188.879490</td>\n    </tr>\n    <tr>\n      <th>30</th>\n      <td>57.090852</td>\n      <td>27.132936</td>\n      <td>33.922184</td>\n      <td>57.090852</td>\n      <td>2242</td>\n      <td>2250</td>\n      <td>2.960832</td>\n      <td>28.545426</td>\n      <td>2244.880665</td>\n      <td>2247.841497</td>\n    </tr>\n    <tr>\n      <th>31</th>\n      <td>25.844698</td>\n      <td>8.081059</td>\n      <td>17.948122</td>\n      <td>25.844698</td>\n      <td>2257</td>\n      <td>2267</td>\n      <td>3.620114</td>\n      <td>12.922349</td>\n      <td>2259.099869</td>\n      <td>2262.719983</td>\n    </tr>\n    <tr>\n      <th>32</th>\n      <td>83.645558</td>\n      <td>7.173466</td>\n      <td>18.857337</td>\n      <td>83.645558</td>\n      <td>2267</td>\n      <td>2276</td>\n      <td>4.010758</td>\n      <td>41.822779</td>\n      <td>2269.687050</td>\n      <td>2273.697808</td>\n    </tr>\n    <tr>\n      <th>33</th>\n      <td>777.060380</td>\n      <td>263.219632</td>\n      <td>21.786446</td>\n      <td>777.060380</td>\n      <td>2389</td>\n      <td>2404</td>\n      <td>3.821993</td>\n      <td>388.530190</td>\n      <td>2395.443428</td>\n      <td>2399.265421</td>\n    </tr>\n    <tr>\n      <th>34</th>\n      <td>47.058621</td>\n      <td>3.040656</td>\n      <td>22.974186</td>\n      <td>47.058621</td>\n      <td>2460</td>\n      <td>2481</td>\n      <td>3.016614</td>\n      <td>23.529310</td>\n      <td>2468.026145</td>\n      <td>2471.042759</td>\n    </tr>\n    <tr>\n      <th>35</th>\n      <td>42.782923</td>\n      <td>20.020247</td>\n      <td>26.989344</td>\n      <td>42.782923</td>\n      <td>2600</td>\n      <td>2624</td>\n      <td>2.883048</td>\n      <td>21.391462</td>\n      <td>2603.909541</td>\n      <td>2606.792589</td>\n    </tr>\n    <tr>\n      <th>36</th>\n      <td>33.863911</td>\n      <td>1.017050</td>\n      <td>4.984726</td>\n      <td>28.063228</td>\n      <td>2608</td>\n      <td>2624</td>\n      <td>4.105433</td>\n      <td>19.832298</td>\n      <td>2610.800317</td>\n      <td>2614.905751</td>\n    </tr>\n    <tr>\n      <th>37</th>\n      <td>21.622287</td>\n      <td>12.029719</td>\n      <td>15.984690</td>\n      <td>21.622287</td>\n      <td>2831</td>\n      <td>2842</td>\n      <td>1.575047</td>\n      <td>10.811143</td>\n      <td>2835.101297</td>\n      <td>2836.676344</td>\n    </tr>\n    <tr>\n      <th>38</th>\n      <td>91.256400</td>\n      <td>36.028978</td>\n      <td>12.974715</td>\n      <td>91.256400</td>\n      <td>2889</td>\n      <td>2899</td>\n      <td>4.091466</td>\n      <td>45.628200</td>\n      <td>2892.657400</td>\n      <td>2896.748866</td>\n    </tr>\n    <tr>\n      <th>39</th>\n      <td>23.091528</td>\n      <td>19.009584</td>\n      <td>9.993320</td>\n      <td>23.091528</td>\n      <td>3021</td>\n      <td>3038</td>\n      <td>1.801527</td>\n      <td>11.545764</td>\n      <td>3029.392635</td>\n      <td>3031.194161</td>\n    </tr>\n    <tr>\n      <th>40</th>\n      <td>46.289910</td>\n      <td>15.992458</td>\n      <td>25.004050</td>\n      <td>46.289910</td>\n      <td>3442</td>\n      <td>3456</td>\n      <td>2.720839</td>\n      <td>23.144955</td>\n      <td>3448.204809</td>\n      <td>3450.925648</td>\n    </tr>\n    <tr>\n      <th>41</th>\n      <td>28.476903</td>\n      <td>6.988944</td>\n      <td>9.008367</td>\n      <td>28.476903</td>\n      <td>3611</td>\n      <td>3620</td>\n      <td>4.538191</td>\n      <td>14.238452</td>\n      <td>3611.769401</td>\n      <td>3616.307593</td>\n    </tr>\n  </tbody>\n</table>\n</div>"
     },
     "execution_count": 28,
     "metadata": {},
     "output_type": "execute_result"
    }
   ]
  },
  {
   "cell_type": "code",
   "source": [
    "pks_comprehensive_df = pd.concat([peaks_df, pks_properties_df],axis=1)\n",
    "pks_comprehensive_df"
   ],
   "metadata": {
    "tags": [],
    "collapsed": false,
    "trusted": true,
    "ExecuteTime": {
     "end_time": "2023-10-18T16:34:29.508647376Z",
     "start_time": "2023-10-18T16:34:29.049090823Z"
    }
   },
   "execution_count": 29,
   "outputs": [
    {
     "data": {
      "text/plain": "    peaks   fwhm_centr   rough_sums    centroids     variances       pk_hei  \\\n0      30    29.785567  1893.942368    29.963695  14133.214332   818.646195   \n1     128   128.364887  2876.788495   127.767831  11283.211505   720.585627   \n2     145   144.459911  1278.607977   144.896569  10161.329960   389.571554   \n3     236   235.273124   462.759320   235.202199  12019.150830   123.425784   \n4     396   396.401754   630.310441   396.426778  10404.641509   162.845302   \n5     489   488.997063   249.976688   488.967375   4072.023312   125.089174   \n6     581   581.463638   430.396173   581.647407   5405.821287   147.276132   \n7     716   715.508125   222.738094   715.666805   4033.829966    79.006167   \n8     841   841.967813  2900.206925   841.976062   7873.573309   559.895371   \n9     960   960.088168   483.773366   960.065118   3335.841582   148.624963   \n10   1003  1002.888165   769.886444  1002.931019   3458.113556   220.739274   \n11   1011  1011.595555   246.139531  1011.090936   3193.930817    63.325136   \n12   1082  1082.208995  2125.483990  1082.200436   4570.516010   657.235129   \n13   1088  1088.722180   401.081225  1088.105023   2556.918775    97.223236   \n14   1115  1114.774649   176.695976  1115.022855   1999.057501    67.734059   \n15   1163  1162.050038   336.295814  1161.943753   2591.560129    85.795902   \n16   1189  1189.227086   160.747926  1189.208186   1865.322724    64.537729   \n17   1256  1256.302992   405.106118  1256.297717   2257.095859   134.196651   \n18   1333  1332.711271  2591.874119  1332.650344   4761.752838   751.356428   \n19   1372  1372.729536   280.179798  1372.499811   3213.742890    65.116362   \n20   1454  1453.734014  1344.932670  1453.640093   3338.139458   367.505693   \n21   1498  1497.331339   583.585709  1497.348693   2898.191988   142.666499   \n22   1540  1540.041676   709.425445  1539.865159   2764.574555   175.614136   \n23   1585  1585.460179   338.833600  1586.692586   2496.637384    45.747485   \n24   1592  1591.886380   345.779231  1591.826779   1952.269003    99.327543   \n25   1832  1831.914493   472.981339  1832.180142   2007.018661   108.310877   \n26   1840  1839.413659   319.008013  1839.453015   1418.991987    88.356843   \n27   1926  1926.179506  6398.833656  1926.124036   7679.166344  1698.898100   \n28   2032  2032.335868   150.062903  2032.321879    865.937097    39.200234   \n29   2187  2186.952804  5848.127892  2186.881900   6473.872108  1402.774453   \n30   2247  2246.361081   170.789713  2246.149438    610.315531    57.090852   \n31   2262  2260.909926   107.824449  2261.366983    633.663193    25.844698   \n32   2272  2271.692429   360.400194  2271.722928    921.547003    83.645558   \n33   2397  2397.354424  3206.949995  2397.267432   3637.050005   777.060380   \n34   2470  2469.534452   183.362379  2469.277794    470.637621    47.058621   \n35   2606  2605.351065   131.163569  2605.622131    358.836431    42.782923   \n36   2613  2612.853034   234.194972  2613.278554    601.805028    33.863911   \n37   2836  2835.888820    64.091621  2836.315622    177.908379    21.622287   \n38   2894  2894.703133   397.650084  2894.518455    654.835127    91.256400   \n39   3030  3030.293398    54.452120  3030.019570    153.547880    23.091528   \n40   3450  3449.565229   168.356845  3449.403829    291.643155    46.289910   \n41   3615  3614.038497   124.857782  3614.158312    343.648757    28.476903   \n\n        lf_thr      rg_thr       promns  lf_bas  rg_bas    widths      wi_hei  \\\n0   201.465549  450.836680   818.646195      28      33  2.244704  409.323097   \n1   359.256221   71.539300   720.585627     100     137  2.761022  360.292813   \n2     4.276963  247.018556   389.571554     142     151  2.657272  194.785777   \n3    40.769738   84.205044   123.425784     233     240  2.919528   61.712892   \n4    70.909899   49.239266   162.845302     392     404  3.333009   81.422651   \n5    88.241458   88.978919   125.089174     485     493  1.411704   62.544587   \n6    89.934593    1.069452   147.276132     579     585  2.564867   73.638066   \n7    15.639623   46.454617    79.006167     713     719  2.684467   39.503084   \n8   213.926360   11.088422   559.895371     836     850  4.639239  279.947685   \n9    51.372759   40.677023   148.624963     955     963  2.878815   74.312482   \n10   40.375893   77.703349   220.739274     990    1008  3.022488  110.369637   \n11   32.214361    1.787671    63.325136    1008    1016  3.156853   31.662568   \n12  251.432911  123.634783   657.235129    1073    1101  2.972686  328.617564   \n13   59.126652   28.889179    69.221096    1086    1101  2.615085   62.612688   \n14   24.189260   36.845929    67.734059    1112    1117  2.289007   33.867030   \n15    0.176165   73.885618    85.795902    1152    1166  3.061124   42.897951   \n16   34.156127   10.853057    64.537729    1186    1191  2.343664   32.268865   \n17   62.170938   26.847523   134.196651    1253    1261  2.834482   67.098325   \n18   92.344345  268.763363   751.356428    1328    1338  3.214050  375.678214   \n19   25.123727    5.880614    65.116362    1369    1376  4.593614   32.558181   \n20   29.182944  101.857014   367.505693    1449    1459  3.422487  183.752846   \n21   25.140725   51.889893   142.666499    1494    1503  3.965272   71.333250   \n22   63.155763   38.866820   175.614136    1534    1573  3.667664   87.807068   \n23    2.085748   21.928123    45.747485    1583    1588  3.872587   22.873742   \n24   26.119164   25.897229    99.327543    1588    1597  3.077070   49.663772   \n25   16.197018   27.833974   108.310877    1816    1845  3.933581   54.155439   \n26   22.173774   48.880461    74.557849    1836    1845  2.697992   51.077919   \n27  468.438806  262.626878  1698.898100    1916    1933  3.484062  849.449050   \n28   20.187085    6.828505    39.200234    2028    2037  2.613583   19.600117   \n29  223.650380  221.450518  1402.774453    2177    2193  3.853372  701.387226   \n30   27.132936   33.922184    57.090852    2242    2250  2.960832   28.545426   \n31    8.081059   17.948122    25.844698    2257    2267  3.620114   12.922349   \n32    7.173466   18.857337    83.645558    2267    2276  4.010758   41.822779   \n33  263.219632   21.786446   777.060380    2389    2404  3.821993  388.530190   \n34    3.040656   22.974186    47.058621    2460    2481  3.016614   23.529310   \n35   20.020247   26.989344    42.782923    2600    2624  2.883048   21.391462   \n36    1.017050    4.984726    28.063228    2608    2624  4.105433   19.832298   \n37   12.029719   15.984690    21.622287    2831    2842  1.575047   10.811143   \n38   36.028978   12.974715    91.256400    2889    2899  4.091466   45.628200   \n39   19.009584    9.993320    23.091528    3021    3038  1.801527   11.545764   \n40   15.992458   25.004050    46.289910    3442    3456  2.720839   23.144955   \n41    6.988944    9.008367    28.476903    3611    3620  4.538191   14.238452   \n\n         lf_ips       rg_ips  \n0     28.663214    30.907919  \n1    126.984376   129.745398  \n2    143.131275   145.788547  \n3    233.813360   236.732888  \n4    394.735249   398.068258  \n5    488.291211   489.702915  \n6    580.181204   582.746071  \n7    714.165892   716.850359  \n8    839.648194   844.287433  \n9    958.648761   961.527576  \n10  1001.376921  1004.399409  \n11  1010.017129  1013.173982  \n12  1080.722653  1083.695338  \n13  1087.414637  1090.029722  \n14  1113.630146  1115.919153  \n15  1160.519476  1163.580599  \n16  1188.055254  1190.398918  \n17  1254.885751  1257.720233  \n18  1331.104246  1334.318296  \n19  1370.432729  1375.026343  \n20  1452.022771  1455.445258  \n21  1495.348703  1499.313975  \n22  1538.207845  1541.875508  \n23  1583.523885  1587.396472  \n24  1590.347845  1593.424914  \n25  1829.947703  1833.881284  \n26  1838.064663  1840.762655  \n27  1924.437475  1927.921538  \n28  2031.029076  2033.642660  \n29  2185.026118  2188.879490  \n30  2244.880665  2247.841497  \n31  2259.099869  2262.719983  \n32  2269.687050  2273.697808  \n33  2395.443428  2399.265421  \n34  2468.026145  2471.042759  \n35  2603.909541  2606.792589  \n36  2610.800317  2614.905751  \n37  2835.101297  2836.676344  \n38  2892.657400  2896.748866  \n39  3029.392635  3031.194161  \n40  3448.204809  3450.925648  \n41  3611.769401  3616.307593  ",
      "text/html": "<div>\n<style scoped>\n    .dataframe tbody tr th:only-of-type {\n        vertical-align: middle;\n    }\n\n    .dataframe tbody tr th {\n        vertical-align: top;\n    }\n\n    .dataframe thead th {\n        text-align: right;\n    }\n</style>\n<table border=\"1\" class=\"dataframe\">\n  <thead>\n    <tr style=\"text-align: right;\">\n      <th></th>\n      <th>peaks</th>\n      <th>fwhm_centr</th>\n      <th>rough_sums</th>\n      <th>centroids</th>\n      <th>variances</th>\n      <th>pk_hei</th>\n      <th>lf_thr</th>\n      <th>rg_thr</th>\n      <th>promns</th>\n      <th>lf_bas</th>\n      <th>rg_bas</th>\n      <th>widths</th>\n      <th>wi_hei</th>\n      <th>lf_ips</th>\n      <th>rg_ips</th>\n    </tr>\n  </thead>\n  <tbody>\n    <tr>\n      <th>0</th>\n      <td>30</td>\n      <td>29.785567</td>\n      <td>1893.942368</td>\n      <td>29.963695</td>\n      <td>14133.214332</td>\n      <td>818.646195</td>\n      <td>201.465549</td>\n      <td>450.836680</td>\n      <td>818.646195</td>\n      <td>28</td>\n      <td>33</td>\n      <td>2.244704</td>\n      <td>409.323097</td>\n      <td>28.663214</td>\n      <td>30.907919</td>\n    </tr>\n    <tr>\n      <th>1</th>\n      <td>128</td>\n      <td>128.364887</td>\n      <td>2876.788495</td>\n      <td>127.767831</td>\n      <td>11283.211505</td>\n      <td>720.585627</td>\n      <td>359.256221</td>\n      <td>71.539300</td>\n      <td>720.585627</td>\n      <td>100</td>\n      <td>137</td>\n      <td>2.761022</td>\n      <td>360.292813</td>\n      <td>126.984376</td>\n      <td>129.745398</td>\n    </tr>\n    <tr>\n      <th>2</th>\n      <td>145</td>\n      <td>144.459911</td>\n      <td>1278.607977</td>\n      <td>144.896569</td>\n      <td>10161.329960</td>\n      <td>389.571554</td>\n      <td>4.276963</td>\n      <td>247.018556</td>\n      <td>389.571554</td>\n      <td>142</td>\n      <td>151</td>\n      <td>2.657272</td>\n      <td>194.785777</td>\n      <td>143.131275</td>\n      <td>145.788547</td>\n    </tr>\n    <tr>\n      <th>3</th>\n      <td>236</td>\n      <td>235.273124</td>\n      <td>462.759320</td>\n      <td>235.202199</td>\n      <td>12019.150830</td>\n      <td>123.425784</td>\n      <td>40.769738</td>\n      <td>84.205044</td>\n      <td>123.425784</td>\n      <td>233</td>\n      <td>240</td>\n      <td>2.919528</td>\n      <td>61.712892</td>\n      <td>233.813360</td>\n      <td>236.732888</td>\n    </tr>\n    <tr>\n      <th>4</th>\n      <td>396</td>\n      <td>396.401754</td>\n      <td>630.310441</td>\n      <td>396.426778</td>\n      <td>10404.641509</td>\n      <td>162.845302</td>\n      <td>70.909899</td>\n      <td>49.239266</td>\n      <td>162.845302</td>\n      <td>392</td>\n      <td>404</td>\n      <td>3.333009</td>\n      <td>81.422651</td>\n      <td>394.735249</td>\n      <td>398.068258</td>\n    </tr>\n    <tr>\n      <th>5</th>\n      <td>489</td>\n      <td>488.997063</td>\n      <td>249.976688</td>\n      <td>488.967375</td>\n      <td>4072.023312</td>\n      <td>125.089174</td>\n      <td>88.241458</td>\n      <td>88.978919</td>\n      <td>125.089174</td>\n      <td>485</td>\n      <td>493</td>\n      <td>1.411704</td>\n      <td>62.544587</td>\n      <td>488.291211</td>\n      <td>489.702915</td>\n    </tr>\n    <tr>\n      <th>6</th>\n      <td>581</td>\n      <td>581.463638</td>\n      <td>430.396173</td>\n      <td>581.647407</td>\n      <td>5405.821287</td>\n      <td>147.276132</td>\n      <td>89.934593</td>\n      <td>1.069452</td>\n      <td>147.276132</td>\n      <td>579</td>\n      <td>585</td>\n      <td>2.564867</td>\n      <td>73.638066</td>\n      <td>580.181204</td>\n      <td>582.746071</td>\n    </tr>\n    <tr>\n      <th>7</th>\n      <td>716</td>\n      <td>715.508125</td>\n      <td>222.738094</td>\n      <td>715.666805</td>\n      <td>4033.829966</td>\n      <td>79.006167</td>\n      <td>15.639623</td>\n      <td>46.454617</td>\n      <td>79.006167</td>\n      <td>713</td>\n      <td>719</td>\n      <td>2.684467</td>\n      <td>39.503084</td>\n      <td>714.165892</td>\n      <td>716.850359</td>\n    </tr>\n    <tr>\n      <th>8</th>\n      <td>841</td>\n      <td>841.967813</td>\n      <td>2900.206925</td>\n      <td>841.976062</td>\n      <td>7873.573309</td>\n      <td>559.895371</td>\n      <td>213.926360</td>\n      <td>11.088422</td>\n      <td>559.895371</td>\n      <td>836</td>\n      <td>850</td>\n      <td>4.639239</td>\n      <td>279.947685</td>\n      <td>839.648194</td>\n      <td>844.287433</td>\n    </tr>\n    <tr>\n      <th>9</th>\n      <td>960</td>\n      <td>960.088168</td>\n      <td>483.773366</td>\n      <td>960.065118</td>\n      <td>3335.841582</td>\n      <td>148.624963</td>\n      <td>51.372759</td>\n      <td>40.677023</td>\n      <td>148.624963</td>\n      <td>955</td>\n      <td>963</td>\n      <td>2.878815</td>\n      <td>74.312482</td>\n      <td>958.648761</td>\n      <td>961.527576</td>\n    </tr>\n    <tr>\n      <th>10</th>\n      <td>1003</td>\n      <td>1002.888165</td>\n      <td>769.886444</td>\n      <td>1002.931019</td>\n      <td>3458.113556</td>\n      <td>220.739274</td>\n      <td>40.375893</td>\n      <td>77.703349</td>\n      <td>220.739274</td>\n      <td>990</td>\n      <td>1008</td>\n      <td>3.022488</td>\n      <td>110.369637</td>\n      <td>1001.376921</td>\n      <td>1004.399409</td>\n    </tr>\n    <tr>\n      <th>11</th>\n      <td>1011</td>\n      <td>1011.595555</td>\n      <td>246.139531</td>\n      <td>1011.090936</td>\n      <td>3193.930817</td>\n      <td>63.325136</td>\n      <td>32.214361</td>\n      <td>1.787671</td>\n      <td>63.325136</td>\n      <td>1008</td>\n      <td>1016</td>\n      <td>3.156853</td>\n      <td>31.662568</td>\n      <td>1010.017129</td>\n      <td>1013.173982</td>\n    </tr>\n    <tr>\n      <th>12</th>\n      <td>1082</td>\n      <td>1082.208995</td>\n      <td>2125.483990</td>\n      <td>1082.200436</td>\n      <td>4570.516010</td>\n      <td>657.235129</td>\n      <td>251.432911</td>\n      <td>123.634783</td>\n      <td>657.235129</td>\n      <td>1073</td>\n      <td>1101</td>\n      <td>2.972686</td>\n      <td>328.617564</td>\n      <td>1080.722653</td>\n      <td>1083.695338</td>\n    </tr>\n    <tr>\n      <th>13</th>\n      <td>1088</td>\n      <td>1088.722180</td>\n      <td>401.081225</td>\n      <td>1088.105023</td>\n      <td>2556.918775</td>\n      <td>97.223236</td>\n      <td>59.126652</td>\n      <td>28.889179</td>\n      <td>69.221096</td>\n      <td>1086</td>\n      <td>1101</td>\n      <td>2.615085</td>\n      <td>62.612688</td>\n      <td>1087.414637</td>\n      <td>1090.029722</td>\n    </tr>\n    <tr>\n      <th>14</th>\n      <td>1115</td>\n      <td>1114.774649</td>\n      <td>176.695976</td>\n      <td>1115.022855</td>\n      <td>1999.057501</td>\n      <td>67.734059</td>\n      <td>24.189260</td>\n      <td>36.845929</td>\n      <td>67.734059</td>\n      <td>1112</td>\n      <td>1117</td>\n      <td>2.289007</td>\n      <td>33.867030</td>\n      <td>1113.630146</td>\n      <td>1115.919153</td>\n    </tr>\n    <tr>\n      <th>15</th>\n      <td>1163</td>\n      <td>1162.050038</td>\n      <td>336.295814</td>\n      <td>1161.943753</td>\n      <td>2591.560129</td>\n      <td>85.795902</td>\n      <td>0.176165</td>\n      <td>73.885618</td>\n      <td>85.795902</td>\n      <td>1152</td>\n      <td>1166</td>\n      <td>3.061124</td>\n      <td>42.897951</td>\n      <td>1160.519476</td>\n      <td>1163.580599</td>\n    </tr>\n    <tr>\n      <th>16</th>\n      <td>1189</td>\n      <td>1189.227086</td>\n      <td>160.747926</td>\n      <td>1189.208186</td>\n      <td>1865.322724</td>\n      <td>64.537729</td>\n      <td>34.156127</td>\n      <td>10.853057</td>\n      <td>64.537729</td>\n      <td>1186</td>\n      <td>1191</td>\n      <td>2.343664</td>\n      <td>32.268865</td>\n      <td>1188.055254</td>\n      <td>1190.398918</td>\n    </tr>\n    <tr>\n      <th>17</th>\n      <td>1256</td>\n      <td>1256.302992</td>\n      <td>405.106118</td>\n      <td>1256.297717</td>\n      <td>2257.095859</td>\n      <td>134.196651</td>\n      <td>62.170938</td>\n      <td>26.847523</td>\n      <td>134.196651</td>\n      <td>1253</td>\n      <td>1261</td>\n      <td>2.834482</td>\n      <td>67.098325</td>\n      <td>1254.885751</td>\n      <td>1257.720233</td>\n    </tr>\n    <tr>\n      <th>18</th>\n      <td>1333</td>\n      <td>1332.711271</td>\n      <td>2591.874119</td>\n      <td>1332.650344</td>\n      <td>4761.752838</td>\n      <td>751.356428</td>\n      <td>92.344345</td>\n      <td>268.763363</td>\n      <td>751.356428</td>\n      <td>1328</td>\n      <td>1338</td>\n      <td>3.214050</td>\n      <td>375.678214</td>\n      <td>1331.104246</td>\n      <td>1334.318296</td>\n    </tr>\n    <tr>\n      <th>19</th>\n      <td>1372</td>\n      <td>1372.729536</td>\n      <td>280.179798</td>\n      <td>1372.499811</td>\n      <td>3213.742890</td>\n      <td>65.116362</td>\n      <td>25.123727</td>\n      <td>5.880614</td>\n      <td>65.116362</td>\n      <td>1369</td>\n      <td>1376</td>\n      <td>4.593614</td>\n      <td>32.558181</td>\n      <td>1370.432729</td>\n      <td>1375.026343</td>\n    </tr>\n    <tr>\n      <th>20</th>\n      <td>1454</td>\n      <td>1453.734014</td>\n      <td>1344.932670</td>\n      <td>1453.640093</td>\n      <td>3338.139458</td>\n      <td>367.505693</td>\n      <td>29.182944</td>\n      <td>101.857014</td>\n      <td>367.505693</td>\n      <td>1449</td>\n      <td>1459</td>\n      <td>3.422487</td>\n      <td>183.752846</td>\n      <td>1452.022771</td>\n      <td>1455.445258</td>\n    </tr>\n    <tr>\n      <th>21</th>\n      <td>1498</td>\n      <td>1497.331339</td>\n      <td>583.585709</td>\n      <td>1497.348693</td>\n      <td>2898.191988</td>\n      <td>142.666499</td>\n      <td>25.140725</td>\n      <td>51.889893</td>\n      <td>142.666499</td>\n      <td>1494</td>\n      <td>1503</td>\n      <td>3.965272</td>\n      <td>71.333250</td>\n      <td>1495.348703</td>\n      <td>1499.313975</td>\n    </tr>\n    <tr>\n      <th>22</th>\n      <td>1540</td>\n      <td>1540.041676</td>\n      <td>709.425445</td>\n      <td>1539.865159</td>\n      <td>2764.574555</td>\n      <td>175.614136</td>\n      <td>63.155763</td>\n      <td>38.866820</td>\n      <td>175.614136</td>\n      <td>1534</td>\n      <td>1573</td>\n      <td>3.667664</td>\n      <td>87.807068</td>\n      <td>1538.207845</td>\n      <td>1541.875508</td>\n    </tr>\n    <tr>\n      <th>23</th>\n      <td>1585</td>\n      <td>1585.460179</td>\n      <td>338.833600</td>\n      <td>1586.692586</td>\n      <td>2496.637384</td>\n      <td>45.747485</td>\n      <td>2.085748</td>\n      <td>21.928123</td>\n      <td>45.747485</td>\n      <td>1583</td>\n      <td>1588</td>\n      <td>3.872587</td>\n      <td>22.873742</td>\n      <td>1583.523885</td>\n      <td>1587.396472</td>\n    </tr>\n    <tr>\n      <th>24</th>\n      <td>1592</td>\n      <td>1591.886380</td>\n      <td>345.779231</td>\n      <td>1591.826779</td>\n      <td>1952.269003</td>\n      <td>99.327543</td>\n      <td>26.119164</td>\n      <td>25.897229</td>\n      <td>99.327543</td>\n      <td>1588</td>\n      <td>1597</td>\n      <td>3.077070</td>\n      <td>49.663772</td>\n      <td>1590.347845</td>\n      <td>1593.424914</td>\n    </tr>\n    <tr>\n      <th>25</th>\n      <td>1832</td>\n      <td>1831.914493</td>\n      <td>472.981339</td>\n      <td>1832.180142</td>\n      <td>2007.018661</td>\n      <td>108.310877</td>\n      <td>16.197018</td>\n      <td>27.833974</td>\n      <td>108.310877</td>\n      <td>1816</td>\n      <td>1845</td>\n      <td>3.933581</td>\n      <td>54.155439</td>\n      <td>1829.947703</td>\n      <td>1833.881284</td>\n    </tr>\n    <tr>\n      <th>26</th>\n      <td>1840</td>\n      <td>1839.413659</td>\n      <td>319.008013</td>\n      <td>1839.453015</td>\n      <td>1418.991987</td>\n      <td>88.356843</td>\n      <td>22.173774</td>\n      <td>48.880461</td>\n      <td>74.557849</td>\n      <td>1836</td>\n      <td>1845</td>\n      <td>2.697992</td>\n      <td>51.077919</td>\n      <td>1838.064663</td>\n      <td>1840.762655</td>\n    </tr>\n    <tr>\n      <th>27</th>\n      <td>1926</td>\n      <td>1926.179506</td>\n      <td>6398.833656</td>\n      <td>1926.124036</td>\n      <td>7679.166344</td>\n      <td>1698.898100</td>\n      <td>468.438806</td>\n      <td>262.626878</td>\n      <td>1698.898100</td>\n      <td>1916</td>\n      <td>1933</td>\n      <td>3.484062</td>\n      <td>849.449050</td>\n      <td>1924.437475</td>\n      <td>1927.921538</td>\n    </tr>\n    <tr>\n      <th>28</th>\n      <td>2032</td>\n      <td>2032.335868</td>\n      <td>150.062903</td>\n      <td>2032.321879</td>\n      <td>865.937097</td>\n      <td>39.200234</td>\n      <td>20.187085</td>\n      <td>6.828505</td>\n      <td>39.200234</td>\n      <td>2028</td>\n      <td>2037</td>\n      <td>2.613583</td>\n      <td>19.600117</td>\n      <td>2031.029076</td>\n      <td>2033.642660</td>\n    </tr>\n    <tr>\n      <th>29</th>\n      <td>2187</td>\n      <td>2186.952804</td>\n      <td>5848.127892</td>\n      <td>2186.881900</td>\n      <td>6473.872108</td>\n      <td>1402.774453</td>\n      <td>223.650380</td>\n      <td>221.450518</td>\n      <td>1402.774453</td>\n      <td>2177</td>\n      <td>2193</td>\n      <td>3.853372</td>\n      <td>701.387226</td>\n      <td>2185.026118</td>\n      <td>2188.879490</td>\n    </tr>\n    <tr>\n      <th>30</th>\n      <td>2247</td>\n      <td>2246.361081</td>\n      <td>170.789713</td>\n      <td>2246.149438</td>\n      <td>610.315531</td>\n      <td>57.090852</td>\n      <td>27.132936</td>\n      <td>33.922184</td>\n      <td>57.090852</td>\n      <td>2242</td>\n      <td>2250</td>\n      <td>2.960832</td>\n      <td>28.545426</td>\n      <td>2244.880665</td>\n      <td>2247.841497</td>\n    </tr>\n    <tr>\n      <th>31</th>\n      <td>2262</td>\n      <td>2260.909926</td>\n      <td>107.824449</td>\n      <td>2261.366983</td>\n      <td>633.663193</td>\n      <td>25.844698</td>\n      <td>8.081059</td>\n      <td>17.948122</td>\n      <td>25.844698</td>\n      <td>2257</td>\n      <td>2267</td>\n      <td>3.620114</td>\n      <td>12.922349</td>\n      <td>2259.099869</td>\n      <td>2262.719983</td>\n    </tr>\n    <tr>\n      <th>32</th>\n      <td>2272</td>\n      <td>2271.692429</td>\n      <td>360.400194</td>\n      <td>2271.722928</td>\n      <td>921.547003</td>\n      <td>83.645558</td>\n      <td>7.173466</td>\n      <td>18.857337</td>\n      <td>83.645558</td>\n      <td>2267</td>\n      <td>2276</td>\n      <td>4.010758</td>\n      <td>41.822779</td>\n      <td>2269.687050</td>\n      <td>2273.697808</td>\n    </tr>\n    <tr>\n      <th>33</th>\n      <td>2397</td>\n      <td>2397.354424</td>\n      <td>3206.949995</td>\n      <td>2397.267432</td>\n      <td>3637.050005</td>\n      <td>777.060380</td>\n      <td>263.219632</td>\n      <td>21.786446</td>\n      <td>777.060380</td>\n      <td>2389</td>\n      <td>2404</td>\n      <td>3.821993</td>\n      <td>388.530190</td>\n      <td>2395.443428</td>\n      <td>2399.265421</td>\n    </tr>\n    <tr>\n      <th>34</th>\n      <td>2470</td>\n      <td>2469.534452</td>\n      <td>183.362379</td>\n      <td>2469.277794</td>\n      <td>470.637621</td>\n      <td>47.058621</td>\n      <td>3.040656</td>\n      <td>22.974186</td>\n      <td>47.058621</td>\n      <td>2460</td>\n      <td>2481</td>\n      <td>3.016614</td>\n      <td>23.529310</td>\n      <td>2468.026145</td>\n      <td>2471.042759</td>\n    </tr>\n    <tr>\n      <th>35</th>\n      <td>2606</td>\n      <td>2605.351065</td>\n      <td>131.163569</td>\n      <td>2605.622131</td>\n      <td>358.836431</td>\n      <td>42.782923</td>\n      <td>20.020247</td>\n      <td>26.989344</td>\n      <td>42.782923</td>\n      <td>2600</td>\n      <td>2624</td>\n      <td>2.883048</td>\n      <td>21.391462</td>\n      <td>2603.909541</td>\n      <td>2606.792589</td>\n    </tr>\n    <tr>\n      <th>36</th>\n      <td>2613</td>\n      <td>2612.853034</td>\n      <td>234.194972</td>\n      <td>2613.278554</td>\n      <td>601.805028</td>\n      <td>33.863911</td>\n      <td>1.017050</td>\n      <td>4.984726</td>\n      <td>28.063228</td>\n      <td>2608</td>\n      <td>2624</td>\n      <td>4.105433</td>\n      <td>19.832298</td>\n      <td>2610.800317</td>\n      <td>2614.905751</td>\n    </tr>\n    <tr>\n      <th>37</th>\n      <td>2836</td>\n      <td>2835.888820</td>\n      <td>64.091621</td>\n      <td>2836.315622</td>\n      <td>177.908379</td>\n      <td>21.622287</td>\n      <td>12.029719</td>\n      <td>15.984690</td>\n      <td>21.622287</td>\n      <td>2831</td>\n      <td>2842</td>\n      <td>1.575047</td>\n      <td>10.811143</td>\n      <td>2835.101297</td>\n      <td>2836.676344</td>\n    </tr>\n    <tr>\n      <th>38</th>\n      <td>2894</td>\n      <td>2894.703133</td>\n      <td>397.650084</td>\n      <td>2894.518455</td>\n      <td>654.835127</td>\n      <td>91.256400</td>\n      <td>36.028978</td>\n      <td>12.974715</td>\n      <td>91.256400</td>\n      <td>2889</td>\n      <td>2899</td>\n      <td>4.091466</td>\n      <td>45.628200</td>\n      <td>2892.657400</td>\n      <td>2896.748866</td>\n    </tr>\n    <tr>\n      <th>39</th>\n      <td>3030</td>\n      <td>3030.293398</td>\n      <td>54.452120</td>\n      <td>3030.019570</td>\n      <td>153.547880</td>\n      <td>23.091528</td>\n      <td>19.009584</td>\n      <td>9.993320</td>\n      <td>23.091528</td>\n      <td>3021</td>\n      <td>3038</td>\n      <td>1.801527</td>\n      <td>11.545764</td>\n      <td>3029.392635</td>\n      <td>3031.194161</td>\n    </tr>\n    <tr>\n      <th>40</th>\n      <td>3450</td>\n      <td>3449.565229</td>\n      <td>168.356845</td>\n      <td>3449.403829</td>\n      <td>291.643155</td>\n      <td>46.289910</td>\n      <td>15.992458</td>\n      <td>25.004050</td>\n      <td>46.289910</td>\n      <td>3442</td>\n      <td>3456</td>\n      <td>2.720839</td>\n      <td>23.144955</td>\n      <td>3448.204809</td>\n      <td>3450.925648</td>\n    </tr>\n    <tr>\n      <th>41</th>\n      <td>3615</td>\n      <td>3614.038497</td>\n      <td>124.857782</td>\n      <td>3614.158312</td>\n      <td>343.648757</td>\n      <td>28.476903</td>\n      <td>6.988944</td>\n      <td>9.008367</td>\n      <td>28.476903</td>\n      <td>3611</td>\n      <td>3620</td>\n      <td>4.538191</td>\n      <td>14.238452</td>\n      <td>3611.769401</td>\n      <td>3616.307593</td>\n    </tr>\n  </tbody>\n</table>\n</div>"
     },
     "execution_count": 29,
     "metadata": {},
     "output_type": "execute_result"
    }
   ]
  },
  {
   "cell_type": "code",
   "source": [
    "def add_engy_to_pks_df(peaks_net_kev_df, func_en):\n",
    "    peaks_net_kev_df['engy_pk_det'] = func_en(peaks_net_kev_df.centroids)"
   ],
   "metadata": {
    "tags": [],
    "collapsed": false,
    "trusted": true,
    "ExecuteTime": {
     "end_time": "2023-10-18T16:34:29.585672526Z",
     "start_time": "2023-10-18T16:34:29.236969847Z"
    }
   },
   "execution_count": 30,
   "outputs": []
  },
  {
   "cell_type": "code",
   "source": [
    "add_engy_to_pks_df(pks_comprehensive_df, a_spec.channel_energy_calib.get_energy)"
   ],
   "metadata": {
    "tags": [],
    "collapsed": false,
    "trusted": true,
    "ExecuteTime": {
     "end_time": "2023-10-18T16:34:29.745754590Z",
     "start_time": "2023-10-18T16:34:29.293926730Z"
    }
   },
   "execution_count": 31,
   "outputs": []
  },
  {
   "cell_type": "code",
   "source": [
    "pks_comprehensive_df"
   ],
   "metadata": {
    "tags": [],
    "collapsed": false,
    "trusted": true,
    "ExecuteTime": {
     "end_time": "2023-10-18T16:34:30.027088076Z",
     "start_time": "2023-10-18T16:34:29.445351564Z"
    }
   },
   "execution_count": 32,
   "outputs": [
    {
     "data": {
      "text/plain": "    peaks   fwhm_centr   rough_sums    centroids     variances       pk_hei  \\\n0      30    29.785567  1893.942368    29.963695  14133.214332   818.646195   \n1     128   128.364887  2876.788495   127.767831  11283.211505   720.585627   \n2     145   144.459911  1278.607977   144.896569  10161.329960   389.571554   \n3     236   235.273124   462.759320   235.202199  12019.150830   123.425784   \n4     396   396.401754   630.310441   396.426778  10404.641509   162.845302   \n5     489   488.997063   249.976688   488.967375   4072.023312   125.089174   \n6     581   581.463638   430.396173   581.647407   5405.821287   147.276132   \n7     716   715.508125   222.738094   715.666805   4033.829966    79.006167   \n8     841   841.967813  2900.206925   841.976062   7873.573309   559.895371   \n9     960   960.088168   483.773366   960.065118   3335.841582   148.624963   \n10   1003  1002.888165   769.886444  1002.931019   3458.113556   220.739274   \n11   1011  1011.595555   246.139531  1011.090936   3193.930817    63.325136   \n12   1082  1082.208995  2125.483990  1082.200436   4570.516010   657.235129   \n13   1088  1088.722180   401.081225  1088.105023   2556.918775    97.223236   \n14   1115  1114.774649   176.695976  1115.022855   1999.057501    67.734059   \n15   1163  1162.050038   336.295814  1161.943753   2591.560129    85.795902   \n16   1189  1189.227086   160.747926  1189.208186   1865.322724    64.537729   \n17   1256  1256.302992   405.106118  1256.297717   2257.095859   134.196651   \n18   1333  1332.711271  2591.874119  1332.650344   4761.752838   751.356428   \n19   1372  1372.729536   280.179798  1372.499811   3213.742890    65.116362   \n20   1454  1453.734014  1344.932670  1453.640093   3338.139458   367.505693   \n21   1498  1497.331339   583.585709  1497.348693   2898.191988   142.666499   \n22   1540  1540.041676   709.425445  1539.865159   2764.574555   175.614136   \n23   1585  1585.460179   338.833600  1586.692586   2496.637384    45.747485   \n24   1592  1591.886380   345.779231  1591.826779   1952.269003    99.327543   \n25   1832  1831.914493   472.981339  1832.180142   2007.018661   108.310877   \n26   1840  1839.413659   319.008013  1839.453015   1418.991987    88.356843   \n27   1926  1926.179506  6398.833656  1926.124036   7679.166344  1698.898100   \n28   2032  2032.335868   150.062903  2032.321879    865.937097    39.200234   \n29   2187  2186.952804  5848.127892  2186.881900   6473.872108  1402.774453   \n30   2247  2246.361081   170.789713  2246.149438    610.315531    57.090852   \n31   2262  2260.909926   107.824449  2261.366983    633.663193    25.844698   \n32   2272  2271.692429   360.400194  2271.722928    921.547003    83.645558   \n33   2397  2397.354424  3206.949995  2397.267432   3637.050005   777.060380   \n34   2470  2469.534452   183.362379  2469.277794    470.637621    47.058621   \n35   2606  2605.351065   131.163569  2605.622131    358.836431    42.782923   \n36   2613  2612.853034   234.194972  2613.278554    601.805028    33.863911   \n37   2836  2835.888820    64.091621  2836.315622    177.908379    21.622287   \n38   2894  2894.703133   397.650084  2894.518455    654.835127    91.256400   \n39   3030  3030.293398    54.452120  3030.019570    153.547880    23.091528   \n40   3450  3449.565229   168.356845  3449.403829    291.643155    46.289910   \n41   3615  3614.038497   124.857782  3614.158312    343.648757    28.476903   \n\n        lf_thr      rg_thr       promns  lf_bas  rg_bas    widths      wi_hei  \\\n0   201.465549  450.836680   818.646195      28      33  2.244704  409.323097   \n1   359.256221   71.539300   720.585627     100     137  2.761022  360.292813   \n2     4.276963  247.018556   389.571554     142     151  2.657272  194.785777   \n3    40.769738   84.205044   123.425784     233     240  2.919528   61.712892   \n4    70.909899   49.239266   162.845302     392     404  3.333009   81.422651   \n5    88.241458   88.978919   125.089174     485     493  1.411704   62.544587   \n6    89.934593    1.069452   147.276132     579     585  2.564867   73.638066   \n7    15.639623   46.454617    79.006167     713     719  2.684467   39.503084   \n8   213.926360   11.088422   559.895371     836     850  4.639239  279.947685   \n9    51.372759   40.677023   148.624963     955     963  2.878815   74.312482   \n10   40.375893   77.703349   220.739274     990    1008  3.022488  110.369637   \n11   32.214361    1.787671    63.325136    1008    1016  3.156853   31.662568   \n12  251.432911  123.634783   657.235129    1073    1101  2.972686  328.617564   \n13   59.126652   28.889179    69.221096    1086    1101  2.615085   62.612688   \n14   24.189260   36.845929    67.734059    1112    1117  2.289007   33.867030   \n15    0.176165   73.885618    85.795902    1152    1166  3.061124   42.897951   \n16   34.156127   10.853057    64.537729    1186    1191  2.343664   32.268865   \n17   62.170938   26.847523   134.196651    1253    1261  2.834482   67.098325   \n18   92.344345  268.763363   751.356428    1328    1338  3.214050  375.678214   \n19   25.123727    5.880614    65.116362    1369    1376  4.593614   32.558181   \n20   29.182944  101.857014   367.505693    1449    1459  3.422487  183.752846   \n21   25.140725   51.889893   142.666499    1494    1503  3.965272   71.333250   \n22   63.155763   38.866820   175.614136    1534    1573  3.667664   87.807068   \n23    2.085748   21.928123    45.747485    1583    1588  3.872587   22.873742   \n24   26.119164   25.897229    99.327543    1588    1597  3.077070   49.663772   \n25   16.197018   27.833974   108.310877    1816    1845  3.933581   54.155439   \n26   22.173774   48.880461    74.557849    1836    1845  2.697992   51.077919   \n27  468.438806  262.626878  1698.898100    1916    1933  3.484062  849.449050   \n28   20.187085    6.828505    39.200234    2028    2037  2.613583   19.600117   \n29  223.650380  221.450518  1402.774453    2177    2193  3.853372  701.387226   \n30   27.132936   33.922184    57.090852    2242    2250  2.960832   28.545426   \n31    8.081059   17.948122    25.844698    2257    2267  3.620114   12.922349   \n32    7.173466   18.857337    83.645558    2267    2276  4.010758   41.822779   \n33  263.219632   21.786446   777.060380    2389    2404  3.821993  388.530190   \n34    3.040656   22.974186    47.058621    2460    2481  3.016614   23.529310   \n35   20.020247   26.989344    42.782923    2600    2624  2.883048   21.391462   \n36    1.017050    4.984726    28.063228    2608    2624  4.105433   19.832298   \n37   12.029719   15.984690    21.622287    2831    2842  1.575047   10.811143   \n38   36.028978   12.974715    91.256400    2889    2899  4.091466   45.628200   \n39   19.009584    9.993320    23.091528    3021    3038  1.801527   11.545764   \n40   15.992458   25.004050    46.289910    3442    3456  2.720839   23.144955   \n41    6.988944    9.008367    28.476903    3611    3620  4.538191   14.238452   \n\n         lf_ips       rg_ips  engy_pk_det  \n0     28.663214    30.907919    16.318529  \n1    126.984376   129.745398    76.080802  \n2    143.131275   145.788547    86.547152  \n3    233.813360   236.732888   141.727537  \n4    394.735249   398.068258   240.242260  \n5    488.291211   489.702915   296.788299  \n6    580.181204   582.746071   353.419539  \n7    714.165892   716.850359   435.310799  \n8    839.648194   844.287433   512.490852  \n9    958.648761   961.527576   584.648031  \n10  1001.376921  1004.399409   610.840826  \n11  1010.017129  1013.173982   615.826865  \n12  1080.722653  1083.695338   659.277639  \n13  1087.414637  1090.029722   662.885580  \n14  1113.630146  1115.919153   679.333462  \n15  1160.519476  1163.580599   708.004023  \n16  1188.055254  1190.398918   724.663692  \n17  1254.885751  1257.720233   765.658103  \n18  1331.104246  1334.318296   812.312639  \n19  1370.432729  1375.026343   836.662272  \n20  1452.022771  1455.445258   886.242259  \n21  1495.348703  1499.313975   912.949977  \n22  1538.207845  1541.875508   938.929253  \n23  1583.523885  1587.396472   967.542701  \n24  1590.347845  1593.424914   970.679900  \n25  1829.947703  1833.881284  1117.545503  \n26  1838.064663  1840.762655  1121.989523  \n27  1924.437475  1927.921538  1174.949014  \n28  2031.029076  2033.642660  1239.840182  \n29  2185.026118  2188.879490  1334.282592  \n30  2244.880665  2247.841497  1370.497449  \n31  2259.099869  2262.719983  1379.795983  \n32  2269.687050  2273.697808  1386.123883  \n33  2395.443428  2399.265421  1462.836641  \n34  2468.026145  2471.042759  1506.837879  \n35  2603.909541  2606.792589  1590.149770  \n36  2610.800317  2614.905751  1594.828154  \n37  2835.101297  2836.676344  1731.112803  \n38  2892.657400  2896.748866  1766.677082  \n39  3029.392635  3031.194161  1849.473732  \n40  3448.204809  3450.925648  2105.734437  \n41  3611.769401  3616.307593  2206.406075  ",
      "text/html": "<div>\n<style scoped>\n    .dataframe tbody tr th:only-of-type {\n        vertical-align: middle;\n    }\n\n    .dataframe tbody tr th {\n        vertical-align: top;\n    }\n\n    .dataframe thead th {\n        text-align: right;\n    }\n</style>\n<table border=\"1\" class=\"dataframe\">\n  <thead>\n    <tr style=\"text-align: right;\">\n      <th></th>\n      <th>peaks</th>\n      <th>fwhm_centr</th>\n      <th>rough_sums</th>\n      <th>centroids</th>\n      <th>variances</th>\n      <th>pk_hei</th>\n      <th>lf_thr</th>\n      <th>rg_thr</th>\n      <th>promns</th>\n      <th>lf_bas</th>\n      <th>rg_bas</th>\n      <th>widths</th>\n      <th>wi_hei</th>\n      <th>lf_ips</th>\n      <th>rg_ips</th>\n      <th>engy_pk_det</th>\n    </tr>\n  </thead>\n  <tbody>\n    <tr>\n      <th>0</th>\n      <td>30</td>\n      <td>29.785567</td>\n      <td>1893.942368</td>\n      <td>29.963695</td>\n      <td>14133.214332</td>\n      <td>818.646195</td>\n      <td>201.465549</td>\n      <td>450.836680</td>\n      <td>818.646195</td>\n      <td>28</td>\n      <td>33</td>\n      <td>2.244704</td>\n      <td>409.323097</td>\n      <td>28.663214</td>\n      <td>30.907919</td>\n      <td>16.318529</td>\n    </tr>\n    <tr>\n      <th>1</th>\n      <td>128</td>\n      <td>128.364887</td>\n      <td>2876.788495</td>\n      <td>127.767831</td>\n      <td>11283.211505</td>\n      <td>720.585627</td>\n      <td>359.256221</td>\n      <td>71.539300</td>\n      <td>720.585627</td>\n      <td>100</td>\n      <td>137</td>\n      <td>2.761022</td>\n      <td>360.292813</td>\n      <td>126.984376</td>\n      <td>129.745398</td>\n      <td>76.080802</td>\n    </tr>\n    <tr>\n      <th>2</th>\n      <td>145</td>\n      <td>144.459911</td>\n      <td>1278.607977</td>\n      <td>144.896569</td>\n      <td>10161.329960</td>\n      <td>389.571554</td>\n      <td>4.276963</td>\n      <td>247.018556</td>\n      <td>389.571554</td>\n      <td>142</td>\n      <td>151</td>\n      <td>2.657272</td>\n      <td>194.785777</td>\n      <td>143.131275</td>\n      <td>145.788547</td>\n      <td>86.547152</td>\n    </tr>\n    <tr>\n      <th>3</th>\n      <td>236</td>\n      <td>235.273124</td>\n      <td>462.759320</td>\n      <td>235.202199</td>\n      <td>12019.150830</td>\n      <td>123.425784</td>\n      <td>40.769738</td>\n      <td>84.205044</td>\n      <td>123.425784</td>\n      <td>233</td>\n      <td>240</td>\n      <td>2.919528</td>\n      <td>61.712892</td>\n      <td>233.813360</td>\n      <td>236.732888</td>\n      <td>141.727537</td>\n    </tr>\n    <tr>\n      <th>4</th>\n      <td>396</td>\n      <td>396.401754</td>\n      <td>630.310441</td>\n      <td>396.426778</td>\n      <td>10404.641509</td>\n      <td>162.845302</td>\n      <td>70.909899</td>\n      <td>49.239266</td>\n      <td>162.845302</td>\n      <td>392</td>\n      <td>404</td>\n      <td>3.333009</td>\n      <td>81.422651</td>\n      <td>394.735249</td>\n      <td>398.068258</td>\n      <td>240.242260</td>\n    </tr>\n    <tr>\n      <th>5</th>\n      <td>489</td>\n      <td>488.997063</td>\n      <td>249.976688</td>\n      <td>488.967375</td>\n      <td>4072.023312</td>\n      <td>125.089174</td>\n      <td>88.241458</td>\n      <td>88.978919</td>\n      <td>125.089174</td>\n      <td>485</td>\n      <td>493</td>\n      <td>1.411704</td>\n      <td>62.544587</td>\n      <td>488.291211</td>\n      <td>489.702915</td>\n      <td>296.788299</td>\n    </tr>\n    <tr>\n      <th>6</th>\n      <td>581</td>\n      <td>581.463638</td>\n      <td>430.396173</td>\n      <td>581.647407</td>\n      <td>5405.821287</td>\n      <td>147.276132</td>\n      <td>89.934593</td>\n      <td>1.069452</td>\n      <td>147.276132</td>\n      <td>579</td>\n      <td>585</td>\n      <td>2.564867</td>\n      <td>73.638066</td>\n      <td>580.181204</td>\n      <td>582.746071</td>\n      <td>353.419539</td>\n    </tr>\n    <tr>\n      <th>7</th>\n      <td>716</td>\n      <td>715.508125</td>\n      <td>222.738094</td>\n      <td>715.666805</td>\n      <td>4033.829966</td>\n      <td>79.006167</td>\n      <td>15.639623</td>\n      <td>46.454617</td>\n      <td>79.006167</td>\n      <td>713</td>\n      <td>719</td>\n      <td>2.684467</td>\n      <td>39.503084</td>\n      <td>714.165892</td>\n      <td>716.850359</td>\n      <td>435.310799</td>\n    </tr>\n    <tr>\n      <th>8</th>\n      <td>841</td>\n      <td>841.967813</td>\n      <td>2900.206925</td>\n      <td>841.976062</td>\n      <td>7873.573309</td>\n      <td>559.895371</td>\n      <td>213.926360</td>\n      <td>11.088422</td>\n      <td>559.895371</td>\n      <td>836</td>\n      <td>850</td>\n      <td>4.639239</td>\n      <td>279.947685</td>\n      <td>839.648194</td>\n      <td>844.287433</td>\n      <td>512.490852</td>\n    </tr>\n    <tr>\n      <th>9</th>\n      <td>960</td>\n      <td>960.088168</td>\n      <td>483.773366</td>\n      <td>960.065118</td>\n      <td>3335.841582</td>\n      <td>148.624963</td>\n      <td>51.372759</td>\n      <td>40.677023</td>\n      <td>148.624963</td>\n      <td>955</td>\n      <td>963</td>\n      <td>2.878815</td>\n      <td>74.312482</td>\n      <td>958.648761</td>\n      <td>961.527576</td>\n      <td>584.648031</td>\n    </tr>\n    <tr>\n      <th>10</th>\n      <td>1003</td>\n      <td>1002.888165</td>\n      <td>769.886444</td>\n      <td>1002.931019</td>\n      <td>3458.113556</td>\n      <td>220.739274</td>\n      <td>40.375893</td>\n      <td>77.703349</td>\n      <td>220.739274</td>\n      <td>990</td>\n      <td>1008</td>\n      <td>3.022488</td>\n      <td>110.369637</td>\n      <td>1001.376921</td>\n      <td>1004.399409</td>\n      <td>610.840826</td>\n    </tr>\n    <tr>\n      <th>11</th>\n      <td>1011</td>\n      <td>1011.595555</td>\n      <td>246.139531</td>\n      <td>1011.090936</td>\n      <td>3193.930817</td>\n      <td>63.325136</td>\n      <td>32.214361</td>\n      <td>1.787671</td>\n      <td>63.325136</td>\n      <td>1008</td>\n      <td>1016</td>\n      <td>3.156853</td>\n      <td>31.662568</td>\n      <td>1010.017129</td>\n      <td>1013.173982</td>\n      <td>615.826865</td>\n    </tr>\n    <tr>\n      <th>12</th>\n      <td>1082</td>\n      <td>1082.208995</td>\n      <td>2125.483990</td>\n      <td>1082.200436</td>\n      <td>4570.516010</td>\n      <td>657.235129</td>\n      <td>251.432911</td>\n      <td>123.634783</td>\n      <td>657.235129</td>\n      <td>1073</td>\n      <td>1101</td>\n      <td>2.972686</td>\n      <td>328.617564</td>\n      <td>1080.722653</td>\n      <td>1083.695338</td>\n      <td>659.277639</td>\n    </tr>\n    <tr>\n      <th>13</th>\n      <td>1088</td>\n      <td>1088.722180</td>\n      <td>401.081225</td>\n      <td>1088.105023</td>\n      <td>2556.918775</td>\n      <td>97.223236</td>\n      <td>59.126652</td>\n      <td>28.889179</td>\n      <td>69.221096</td>\n      <td>1086</td>\n      <td>1101</td>\n      <td>2.615085</td>\n      <td>62.612688</td>\n      <td>1087.414637</td>\n      <td>1090.029722</td>\n      <td>662.885580</td>\n    </tr>\n    <tr>\n      <th>14</th>\n      <td>1115</td>\n      <td>1114.774649</td>\n      <td>176.695976</td>\n      <td>1115.022855</td>\n      <td>1999.057501</td>\n      <td>67.734059</td>\n      <td>24.189260</td>\n      <td>36.845929</td>\n      <td>67.734059</td>\n      <td>1112</td>\n      <td>1117</td>\n      <td>2.289007</td>\n      <td>33.867030</td>\n      <td>1113.630146</td>\n      <td>1115.919153</td>\n      <td>679.333462</td>\n    </tr>\n    <tr>\n      <th>15</th>\n      <td>1163</td>\n      <td>1162.050038</td>\n      <td>336.295814</td>\n      <td>1161.943753</td>\n      <td>2591.560129</td>\n      <td>85.795902</td>\n      <td>0.176165</td>\n      <td>73.885618</td>\n      <td>85.795902</td>\n      <td>1152</td>\n      <td>1166</td>\n      <td>3.061124</td>\n      <td>42.897951</td>\n      <td>1160.519476</td>\n      <td>1163.580599</td>\n      <td>708.004023</td>\n    </tr>\n    <tr>\n      <th>16</th>\n      <td>1189</td>\n      <td>1189.227086</td>\n      <td>160.747926</td>\n      <td>1189.208186</td>\n      <td>1865.322724</td>\n      <td>64.537729</td>\n      <td>34.156127</td>\n      <td>10.853057</td>\n      <td>64.537729</td>\n      <td>1186</td>\n      <td>1191</td>\n      <td>2.343664</td>\n      <td>32.268865</td>\n      <td>1188.055254</td>\n      <td>1190.398918</td>\n      <td>724.663692</td>\n    </tr>\n    <tr>\n      <th>17</th>\n      <td>1256</td>\n      <td>1256.302992</td>\n      <td>405.106118</td>\n      <td>1256.297717</td>\n      <td>2257.095859</td>\n      <td>134.196651</td>\n      <td>62.170938</td>\n      <td>26.847523</td>\n      <td>134.196651</td>\n      <td>1253</td>\n      <td>1261</td>\n      <td>2.834482</td>\n      <td>67.098325</td>\n      <td>1254.885751</td>\n      <td>1257.720233</td>\n      <td>765.658103</td>\n    </tr>\n    <tr>\n      <th>18</th>\n      <td>1333</td>\n      <td>1332.711271</td>\n      <td>2591.874119</td>\n      <td>1332.650344</td>\n      <td>4761.752838</td>\n      <td>751.356428</td>\n      <td>92.344345</td>\n      <td>268.763363</td>\n      <td>751.356428</td>\n      <td>1328</td>\n      <td>1338</td>\n      <td>3.214050</td>\n      <td>375.678214</td>\n      <td>1331.104246</td>\n      <td>1334.318296</td>\n      <td>812.312639</td>\n    </tr>\n    <tr>\n      <th>19</th>\n      <td>1372</td>\n      <td>1372.729536</td>\n      <td>280.179798</td>\n      <td>1372.499811</td>\n      <td>3213.742890</td>\n      <td>65.116362</td>\n      <td>25.123727</td>\n      <td>5.880614</td>\n      <td>65.116362</td>\n      <td>1369</td>\n      <td>1376</td>\n      <td>4.593614</td>\n      <td>32.558181</td>\n      <td>1370.432729</td>\n      <td>1375.026343</td>\n      <td>836.662272</td>\n    </tr>\n    <tr>\n      <th>20</th>\n      <td>1454</td>\n      <td>1453.734014</td>\n      <td>1344.932670</td>\n      <td>1453.640093</td>\n      <td>3338.139458</td>\n      <td>367.505693</td>\n      <td>29.182944</td>\n      <td>101.857014</td>\n      <td>367.505693</td>\n      <td>1449</td>\n      <td>1459</td>\n      <td>3.422487</td>\n      <td>183.752846</td>\n      <td>1452.022771</td>\n      <td>1455.445258</td>\n      <td>886.242259</td>\n    </tr>\n    <tr>\n      <th>21</th>\n      <td>1498</td>\n      <td>1497.331339</td>\n      <td>583.585709</td>\n      <td>1497.348693</td>\n      <td>2898.191988</td>\n      <td>142.666499</td>\n      <td>25.140725</td>\n      <td>51.889893</td>\n      <td>142.666499</td>\n      <td>1494</td>\n      <td>1503</td>\n      <td>3.965272</td>\n      <td>71.333250</td>\n      <td>1495.348703</td>\n      <td>1499.313975</td>\n      <td>912.949977</td>\n    </tr>\n    <tr>\n      <th>22</th>\n      <td>1540</td>\n      <td>1540.041676</td>\n      <td>709.425445</td>\n      <td>1539.865159</td>\n      <td>2764.574555</td>\n      <td>175.614136</td>\n      <td>63.155763</td>\n      <td>38.866820</td>\n      <td>175.614136</td>\n      <td>1534</td>\n      <td>1573</td>\n      <td>3.667664</td>\n      <td>87.807068</td>\n      <td>1538.207845</td>\n      <td>1541.875508</td>\n      <td>938.929253</td>\n    </tr>\n    <tr>\n      <th>23</th>\n      <td>1585</td>\n      <td>1585.460179</td>\n      <td>338.833600</td>\n      <td>1586.692586</td>\n      <td>2496.637384</td>\n      <td>45.747485</td>\n      <td>2.085748</td>\n      <td>21.928123</td>\n      <td>45.747485</td>\n      <td>1583</td>\n      <td>1588</td>\n      <td>3.872587</td>\n      <td>22.873742</td>\n      <td>1583.523885</td>\n      <td>1587.396472</td>\n      <td>967.542701</td>\n    </tr>\n    <tr>\n      <th>24</th>\n      <td>1592</td>\n      <td>1591.886380</td>\n      <td>345.779231</td>\n      <td>1591.826779</td>\n      <td>1952.269003</td>\n      <td>99.327543</td>\n      <td>26.119164</td>\n      <td>25.897229</td>\n      <td>99.327543</td>\n      <td>1588</td>\n      <td>1597</td>\n      <td>3.077070</td>\n      <td>49.663772</td>\n      <td>1590.347845</td>\n      <td>1593.424914</td>\n      <td>970.679900</td>\n    </tr>\n    <tr>\n      <th>25</th>\n      <td>1832</td>\n      <td>1831.914493</td>\n      <td>472.981339</td>\n      <td>1832.180142</td>\n      <td>2007.018661</td>\n      <td>108.310877</td>\n      <td>16.197018</td>\n      <td>27.833974</td>\n      <td>108.310877</td>\n      <td>1816</td>\n      <td>1845</td>\n      <td>3.933581</td>\n      <td>54.155439</td>\n      <td>1829.947703</td>\n      <td>1833.881284</td>\n      <td>1117.545503</td>\n    </tr>\n    <tr>\n      <th>26</th>\n      <td>1840</td>\n      <td>1839.413659</td>\n      <td>319.008013</td>\n      <td>1839.453015</td>\n      <td>1418.991987</td>\n      <td>88.356843</td>\n      <td>22.173774</td>\n      <td>48.880461</td>\n      <td>74.557849</td>\n      <td>1836</td>\n      <td>1845</td>\n      <td>2.697992</td>\n      <td>51.077919</td>\n      <td>1838.064663</td>\n      <td>1840.762655</td>\n      <td>1121.989523</td>\n    </tr>\n    <tr>\n      <th>27</th>\n      <td>1926</td>\n      <td>1926.179506</td>\n      <td>6398.833656</td>\n      <td>1926.124036</td>\n      <td>7679.166344</td>\n      <td>1698.898100</td>\n      <td>468.438806</td>\n      <td>262.626878</td>\n      <td>1698.898100</td>\n      <td>1916</td>\n      <td>1933</td>\n      <td>3.484062</td>\n      <td>849.449050</td>\n      <td>1924.437475</td>\n      <td>1927.921538</td>\n      <td>1174.949014</td>\n    </tr>\n    <tr>\n      <th>28</th>\n      <td>2032</td>\n      <td>2032.335868</td>\n      <td>150.062903</td>\n      <td>2032.321879</td>\n      <td>865.937097</td>\n      <td>39.200234</td>\n      <td>20.187085</td>\n      <td>6.828505</td>\n      <td>39.200234</td>\n      <td>2028</td>\n      <td>2037</td>\n      <td>2.613583</td>\n      <td>19.600117</td>\n      <td>2031.029076</td>\n      <td>2033.642660</td>\n      <td>1239.840182</td>\n    </tr>\n    <tr>\n      <th>29</th>\n      <td>2187</td>\n      <td>2186.952804</td>\n      <td>5848.127892</td>\n      <td>2186.881900</td>\n      <td>6473.872108</td>\n      <td>1402.774453</td>\n      <td>223.650380</td>\n      <td>221.450518</td>\n      <td>1402.774453</td>\n      <td>2177</td>\n      <td>2193</td>\n      <td>3.853372</td>\n      <td>701.387226</td>\n      <td>2185.026118</td>\n      <td>2188.879490</td>\n      <td>1334.282592</td>\n    </tr>\n    <tr>\n      <th>30</th>\n      <td>2247</td>\n      <td>2246.361081</td>\n      <td>170.789713</td>\n      <td>2246.149438</td>\n      <td>610.315531</td>\n      <td>57.090852</td>\n      <td>27.132936</td>\n      <td>33.922184</td>\n      <td>57.090852</td>\n      <td>2242</td>\n      <td>2250</td>\n      <td>2.960832</td>\n      <td>28.545426</td>\n      <td>2244.880665</td>\n      <td>2247.841497</td>\n      <td>1370.497449</td>\n    </tr>\n    <tr>\n      <th>31</th>\n      <td>2262</td>\n      <td>2260.909926</td>\n      <td>107.824449</td>\n      <td>2261.366983</td>\n      <td>633.663193</td>\n      <td>25.844698</td>\n      <td>8.081059</td>\n      <td>17.948122</td>\n      <td>25.844698</td>\n      <td>2257</td>\n      <td>2267</td>\n      <td>3.620114</td>\n      <td>12.922349</td>\n      <td>2259.099869</td>\n      <td>2262.719983</td>\n      <td>1379.795983</td>\n    </tr>\n    <tr>\n      <th>32</th>\n      <td>2272</td>\n      <td>2271.692429</td>\n      <td>360.400194</td>\n      <td>2271.722928</td>\n      <td>921.547003</td>\n      <td>83.645558</td>\n      <td>7.173466</td>\n      <td>18.857337</td>\n      <td>83.645558</td>\n      <td>2267</td>\n      <td>2276</td>\n      <td>4.010758</td>\n      <td>41.822779</td>\n      <td>2269.687050</td>\n      <td>2273.697808</td>\n      <td>1386.123883</td>\n    </tr>\n    <tr>\n      <th>33</th>\n      <td>2397</td>\n      <td>2397.354424</td>\n      <td>3206.949995</td>\n      <td>2397.267432</td>\n      <td>3637.050005</td>\n      <td>777.060380</td>\n      <td>263.219632</td>\n      <td>21.786446</td>\n      <td>777.060380</td>\n      <td>2389</td>\n      <td>2404</td>\n      <td>3.821993</td>\n      <td>388.530190</td>\n      <td>2395.443428</td>\n      <td>2399.265421</td>\n      <td>1462.836641</td>\n    </tr>\n    <tr>\n      <th>34</th>\n      <td>2470</td>\n      <td>2469.534452</td>\n      <td>183.362379</td>\n      <td>2469.277794</td>\n      <td>470.637621</td>\n      <td>47.058621</td>\n      <td>3.040656</td>\n      <td>22.974186</td>\n      <td>47.058621</td>\n      <td>2460</td>\n      <td>2481</td>\n      <td>3.016614</td>\n      <td>23.529310</td>\n      <td>2468.026145</td>\n      <td>2471.042759</td>\n      <td>1506.837879</td>\n    </tr>\n    <tr>\n      <th>35</th>\n      <td>2606</td>\n      <td>2605.351065</td>\n      <td>131.163569</td>\n      <td>2605.622131</td>\n      <td>358.836431</td>\n      <td>42.782923</td>\n      <td>20.020247</td>\n      <td>26.989344</td>\n      <td>42.782923</td>\n      <td>2600</td>\n      <td>2624</td>\n      <td>2.883048</td>\n      <td>21.391462</td>\n      <td>2603.909541</td>\n      <td>2606.792589</td>\n      <td>1590.149770</td>\n    </tr>\n    <tr>\n      <th>36</th>\n      <td>2613</td>\n      <td>2612.853034</td>\n      <td>234.194972</td>\n      <td>2613.278554</td>\n      <td>601.805028</td>\n      <td>33.863911</td>\n      <td>1.017050</td>\n      <td>4.984726</td>\n      <td>28.063228</td>\n      <td>2608</td>\n      <td>2624</td>\n      <td>4.105433</td>\n      <td>19.832298</td>\n      <td>2610.800317</td>\n      <td>2614.905751</td>\n      <td>1594.828154</td>\n    </tr>\n    <tr>\n      <th>37</th>\n      <td>2836</td>\n      <td>2835.888820</td>\n      <td>64.091621</td>\n      <td>2836.315622</td>\n      <td>177.908379</td>\n      <td>21.622287</td>\n      <td>12.029719</td>\n      <td>15.984690</td>\n      <td>21.622287</td>\n      <td>2831</td>\n      <td>2842</td>\n      <td>1.575047</td>\n      <td>10.811143</td>\n      <td>2835.101297</td>\n      <td>2836.676344</td>\n      <td>1731.112803</td>\n    </tr>\n    <tr>\n      <th>38</th>\n      <td>2894</td>\n      <td>2894.703133</td>\n      <td>397.650084</td>\n      <td>2894.518455</td>\n      <td>654.835127</td>\n      <td>91.256400</td>\n      <td>36.028978</td>\n      <td>12.974715</td>\n      <td>91.256400</td>\n      <td>2889</td>\n      <td>2899</td>\n      <td>4.091466</td>\n      <td>45.628200</td>\n      <td>2892.657400</td>\n      <td>2896.748866</td>\n      <td>1766.677082</td>\n    </tr>\n    <tr>\n      <th>39</th>\n      <td>3030</td>\n      <td>3030.293398</td>\n      <td>54.452120</td>\n      <td>3030.019570</td>\n      <td>153.547880</td>\n      <td>23.091528</td>\n      <td>19.009584</td>\n      <td>9.993320</td>\n      <td>23.091528</td>\n      <td>3021</td>\n      <td>3038</td>\n      <td>1.801527</td>\n      <td>11.545764</td>\n      <td>3029.392635</td>\n      <td>3031.194161</td>\n      <td>1849.473732</td>\n    </tr>\n    <tr>\n      <th>40</th>\n      <td>3450</td>\n      <td>3449.565229</td>\n      <td>168.356845</td>\n      <td>3449.403829</td>\n      <td>291.643155</td>\n      <td>46.289910</td>\n      <td>15.992458</td>\n      <td>25.004050</td>\n      <td>46.289910</td>\n      <td>3442</td>\n      <td>3456</td>\n      <td>2.720839</td>\n      <td>23.144955</td>\n      <td>3448.204809</td>\n      <td>3450.925648</td>\n      <td>2105.734437</td>\n    </tr>\n    <tr>\n      <th>41</th>\n      <td>3615</td>\n      <td>3614.038497</td>\n      <td>124.857782</td>\n      <td>3614.158312</td>\n      <td>343.648757</td>\n      <td>28.476903</td>\n      <td>6.988944</td>\n      <td>9.008367</td>\n      <td>28.476903</td>\n      <td>3611</td>\n      <td>3620</td>\n      <td>4.538191</td>\n      <td>14.238452</td>\n      <td>3611.769401</td>\n      <td>3616.307593</td>\n      <td>2206.406075</td>\n    </tr>\n  </tbody>\n</table>\n</div>"
     },
     "execution_count": 32,
     "metadata": {},
     "output_type": "execute_result"
    }
   ]
  },
  {
   "cell_type": "code",
   "source": [
    "nucl_iear1_selctd_gamms_df = nucl_iear1_df.loc [\n",
    "    (nucl_iear1_df.intensity > 1.0) & nucl_iear1_df.is_to_consider\n",
    "]\n",
    "nucl_iear1_selctd_gamms_df"
   ],
   "metadata": {
    "tags": [],
    "collapsed": false,
    "trusted": true,
    "ExecuteTime": {
     "end_time": "2023-10-18T16:34:30.226041547Z",
     "start_time": "2023-10-18T16:34:29.669006664Z"
    }
   },
   "execution_count": 33,
   "outputs": [
    {
     "data": {
      "text/plain": "     nuclide_name     energy  unc_en  intensity  unc_i  half_life  decay  \\\n1            24na  1368.6250  0.0050     99.994  0.002     14.956     B-   \n2            24na  2754.0080  0.0110     99.867  0.010     14.956     B-   \n9            51cr   320.0824  0.0004      9.910  0.010     27.704     EC   \n15           54mn   834.8480  0.0030     99.976  0.001    312.200  EC+B+   \n22           58co   810.7593  0.0020     99.450  0.010     70.860  EC+B+   \n...           ...        ...     ...        ...    ...        ...    ...   \n944         228Ac   968.9710  0.0170     15.800  0.300      6.150     B-   \n1014        228Ac  1588.2000  0.0300      3.220  0.080      6.150     B-   \n1017        228Ac  1630.6270  0.0100      1.510  0.040      6.150     B-   \n1068        228Ac   105.5660     NaN      1.160  0.110      6.150     B-   \n1069        228Ac   106.8940     NaN      1.540  0.150      6.150     B-   \n\n      decay_%  key_gamma is_key_gamma  is_to_consider  \n1       100.0     1368.6         True            True  \n2       100.0     1368.6        False            True  \n9       100.0      320.1         True            True  \n15      100.0      834.8         True            True  \n22      100.0      810.8         True            True  \n...       ...        ...          ...             ...  \n944     100.0      911.6        False            True  \n1014    100.0      911.6        False            True  \n1017    100.0      911.6        False            True  \n1068    100.0      911.6        False            True  \n1069    100.0      911.6        False            True  \n\n[118 rows x 11 columns]",
      "text/html": "<div>\n<style scoped>\n    .dataframe tbody tr th:only-of-type {\n        vertical-align: middle;\n    }\n\n    .dataframe tbody tr th {\n        vertical-align: top;\n    }\n\n    .dataframe thead th {\n        text-align: right;\n    }\n</style>\n<table border=\"1\" class=\"dataframe\">\n  <thead>\n    <tr style=\"text-align: right;\">\n      <th></th>\n      <th>nuclide_name</th>\n      <th>energy</th>\n      <th>unc_en</th>\n      <th>intensity</th>\n      <th>unc_i</th>\n      <th>half_life</th>\n      <th>decay</th>\n      <th>decay_%</th>\n      <th>key_gamma</th>\n      <th>is_key_gamma</th>\n      <th>is_to_consider</th>\n    </tr>\n  </thead>\n  <tbody>\n    <tr>\n      <th>1</th>\n      <td>24na</td>\n      <td>1368.6250</td>\n      <td>0.0050</td>\n      <td>99.994</td>\n      <td>0.002</td>\n      <td>14.956</td>\n      <td>B-</td>\n      <td>100.0</td>\n      <td>1368.6</td>\n      <td>True</td>\n      <td>True</td>\n    </tr>\n    <tr>\n      <th>2</th>\n      <td>24na</td>\n      <td>2754.0080</td>\n      <td>0.0110</td>\n      <td>99.867</td>\n      <td>0.010</td>\n      <td>14.956</td>\n      <td>B-</td>\n      <td>100.0</td>\n      <td>1368.6</td>\n      <td>False</td>\n      <td>True</td>\n    </tr>\n    <tr>\n      <th>9</th>\n      <td>51cr</td>\n      <td>320.0824</td>\n      <td>0.0004</td>\n      <td>9.910</td>\n      <td>0.010</td>\n      <td>27.704</td>\n      <td>EC</td>\n      <td>100.0</td>\n      <td>320.1</td>\n      <td>True</td>\n      <td>True</td>\n    </tr>\n    <tr>\n      <th>15</th>\n      <td>54mn</td>\n      <td>834.8480</td>\n      <td>0.0030</td>\n      <td>99.976</td>\n      <td>0.001</td>\n      <td>312.200</td>\n      <td>EC+B+</td>\n      <td>100.0</td>\n      <td>834.8</td>\n      <td>True</td>\n      <td>True</td>\n    </tr>\n    <tr>\n      <th>22</th>\n      <td>58co</td>\n      <td>810.7593</td>\n      <td>0.0020</td>\n      <td>99.450</td>\n      <td>0.010</td>\n      <td>70.860</td>\n      <td>EC+B+</td>\n      <td>100.0</td>\n      <td>810.8</td>\n      <td>True</td>\n      <td>True</td>\n    </tr>\n    <tr>\n      <th>...</th>\n      <td>...</td>\n      <td>...</td>\n      <td>...</td>\n      <td>...</td>\n      <td>...</td>\n      <td>...</td>\n      <td>...</td>\n      <td>...</td>\n      <td>...</td>\n      <td>...</td>\n      <td>...</td>\n    </tr>\n    <tr>\n      <th>944</th>\n      <td>228Ac</td>\n      <td>968.9710</td>\n      <td>0.0170</td>\n      <td>15.800</td>\n      <td>0.300</td>\n      <td>6.150</td>\n      <td>B-</td>\n      <td>100.0</td>\n      <td>911.6</td>\n      <td>False</td>\n      <td>True</td>\n    </tr>\n    <tr>\n      <th>1014</th>\n      <td>228Ac</td>\n      <td>1588.2000</td>\n      <td>0.0300</td>\n      <td>3.220</td>\n      <td>0.080</td>\n      <td>6.150</td>\n      <td>B-</td>\n      <td>100.0</td>\n      <td>911.6</td>\n      <td>False</td>\n      <td>True</td>\n    </tr>\n    <tr>\n      <th>1017</th>\n      <td>228Ac</td>\n      <td>1630.6270</td>\n      <td>0.0100</td>\n      <td>1.510</td>\n      <td>0.040</td>\n      <td>6.150</td>\n      <td>B-</td>\n      <td>100.0</td>\n      <td>911.6</td>\n      <td>False</td>\n      <td>True</td>\n    </tr>\n    <tr>\n      <th>1068</th>\n      <td>228Ac</td>\n      <td>105.5660</td>\n      <td>NaN</td>\n      <td>1.160</td>\n      <td>0.110</td>\n      <td>6.150</td>\n      <td>B-</td>\n      <td>100.0</td>\n      <td>911.6</td>\n      <td>False</td>\n      <td>True</td>\n    </tr>\n    <tr>\n      <th>1069</th>\n      <td>228Ac</td>\n      <td>106.8940</td>\n      <td>NaN</td>\n      <td>1.540</td>\n      <td>0.150</td>\n      <td>6.150</td>\n      <td>B-</td>\n      <td>100.0</td>\n      <td>911.6</td>\n      <td>False</td>\n      <td>True</td>\n    </tr>\n  </tbody>\n</table>\n<p>118 rows × 11 columns</p>\n</div>"
     },
     "execution_count": 33,
     "metadata": {},
     "output_type": "execute_result"
    }
   ]
  },
  {
   "cell_type": "code",
   "source": [
    "nucl_iear1_selctd_gamms_df.dtypes"
   ],
   "metadata": {
    "tags": [],
    "trusted": true,
    "ExecuteTime": {
     "end_time": "2023-10-18T16:34:30.277168296Z",
     "start_time": "2023-10-18T16:34:29.849049358Z"
    }
   },
   "execution_count": 34,
   "outputs": [
    {
     "data": {
      "text/plain": "nuclide_name       object\nenergy            float64\nunc_en            float64\nintensity         float64\nunc_i             float64\nhalf_life         float64\ndecay              object\ndecay_%           float64\nkey_gamma         float64\nis_key_gamma       object\nis_to_consider       bool\ndtype: object"
     },
     "execution_count": 34,
     "metadata": {},
     "output_type": "execute_result"
    }
   ]
  },
  {
   "cell_type": "code",
   "source": [
    "# Primeiro fiz assim:\n",
    "# cross_df = pd.merge(pks_comprehensive_df, nucl_iear1_selctd_gamms_df, how='cross')\n",
    "# cross_df[\"delta_en\"] = cross_df.engy_pk_det - cross_df.energy\n",
    "# cross_df\n",
    "\n",
    "# Agora fazer de novo:\n",
    "# cross_df_2 = pd.merge(matching_peaks_df, nucl_iear1_selctd_gamms_df, how='cross', suffixes=('_x', None))\n",
    "# cross_df_2.drop(cross_df_2.filter(regex='_x$').columns, axis=1, inplace=True)\n",
    "# cross_df_2[\"delta_en\"] = cross_df_2.recalib_engy_ransac - cross_df_2.energy\n",
    "# cross_df_2"
   ],
   "metadata": {
    "tags": [],
    "collapsed": false,
    "trusted": true,
    "ExecuteTime": {
     "end_time": "2023-10-18T16:34:30.341455826Z",
     "start_time": "2023-10-18T16:34:29.945946824Z"
    }
   },
   "execution_count": 35,
   "outputs": []
  },
  {
   "cell_type": "code",
   "source": [
    "def create_matching_peaks_df(pks_df, nucl_df, en_toler, must_be_key_gamma=False):\n",
    "    if must_be_key_gamma:\n",
    "        nucl_aux_df = pd.DataFrame(nucl_df.loc[nucl_df.is_key_gamma])\n",
    "    else:\n",
    "        nucl_aux_df = pd.DataFrame(nucl_df)\n",
    "    cross_df = pd.merge(pks_df, nucl_aux_df, how='cross')\n",
    "    cross_df[\"delta_en\"] = cross_df.engy_pk_det - cross_df.energy\n",
    "    aux_2 = pd.DataFrame(cross_df.loc[np.abs(cross_df.delta_en) < en_toler])\n",
    "    X_energy = np.array(aux_2.energy).reshape(-1,1)\n",
    "    y_delta_en = np.array(aux_2.delta_en)\n",
    "    # Robustly fit linear model with RANSAC algorithm\n",
    "    ransac = linear_model.RANSACRegressor()\n",
    "    ransac.fit(X_energy, y_delta_en)\n",
    "    inlier_mask = ransac.inlier_mask_\n",
    "    outlier_mask = np.logical_not(inlier_mask)\n",
    "    aux_2[\"recalib_engy_ransac\"] = aux_2.engy_pk_det - ransac.predict(X_energy)\n",
    "    aux_2[\"new_delta_en\"] = aux_2.recalib_engy_ransac - aux_2.energy\n",
    "    aux_3 = aux_2.loc[abs(aux_2.new_delta_en) < 0.4]\n",
    "    new_ch_en_calib = P.fit(aux_3.centroids, aux_3.energy, deg=2)\n",
    "    return aux_3, new_ch_en_calib"
   ],
   "metadata": {
    "tags": [],
    "collapsed": false,
    "trusted": true,
    "ExecuteTime": {
     "end_time": "2023-10-18T16:34:30.467643408Z",
     "start_time": "2023-10-18T16:34:30.068198102Z"
    }
   },
   "execution_count": 36,
   "outputs": []
  },
  {
   "cell_type": "code",
   "source": [
    "# cross_df = pd.merge(pks_comprehensive_df, nucl_iear1_selctd_gamms_df, how='cross')\n",
    " #    cross_df[\"delta_en\"] = cross_df.engy_pk_det - cross_df.energy\n",
    "  #  cross_df "
   ],
   "metadata": {
    "tags": [],
    "trusted": true,
    "ExecuteTime": {
     "end_time": "2023-10-18T16:34:30.521908062Z",
     "start_time": "2023-10-18T16:34:30.113899179Z"
    }
   },
   "execution_count": 37,
   "outputs": []
  },
  {
   "cell_type": "code",
   "source": [
    "en_toler_calib = 3.0\n",
    "en_toler_ident = 0.4"
   ],
   "metadata": {
    "tags": [],
    "collapsed": false,
    "trusted": true,
    "ExecuteTime": {
     "end_time": "2023-10-18T16:34:30.708712077Z",
     "start_time": "2023-10-18T16:34:30.189173053Z"
    }
   },
   "execution_count": 38,
   "outputs": []
  },
  {
   "cell_type": "code",
   "source": [
    "aux_3, new_ch_en_calib = create_matching_peaks_df(pks_comprehensive_df, nucl_iear1_selctd_gamms_df, en_toler_calib, must_be_key_gamma=False)\n",
    "aux_3"
   ],
   "metadata": {
    "tags": [],
    "trusted": true,
    "ExecuteTime": {
     "end_time": "2023-10-18T16:34:30.935880656Z",
     "start_time": "2023-10-18T16:34:30.377001887Z"
    }
   },
   "execution_count": 39,
   "outputs": [
    {
     "data": {
      "text/plain": "      peaks   fwhm_centr   rough_sums    centroids     variances       pk_hei  \\\n543     396   396.401754   630.310441   396.426778  10404.641509   162.845302   \n667     489   488.997063   249.976688   488.967375   4072.023312   125.089174   \n786     581   581.463638   430.396173   581.647407   5405.821287   147.276132   \n1129    960   960.088168   483.773366   960.065118   3335.841582   148.624963   \n1260   1003  1002.888165   769.886444  1002.931019   3458.113556   220.739274   \n1428   1082  1082.208995  2125.483990  1082.200436   4570.516010   657.235129   \n1566   1088  1088.722180   401.081225  1088.105023   2556.918775    97.223236   \n1665   1115  1114.774649   176.695976  1115.022855   1999.057501    67.734059   \n1785   1163  1162.050038   336.295814  1161.943753   2591.560129    85.795902   \n1916   1189  1189.227086   160.747926  1189.208186   1865.322724    64.537729   \n2023   1256  1256.302992   405.106118  1256.297717   2257.095859   134.196651   \n2128   1333  1332.711271  2591.874119  1332.650344   4761.752838   751.356428   \n2245   1372  1372.729536   280.179798  1372.499811   3213.742890    65.116362   \n2379   1454  1453.734014  1344.932670  1453.640093   3338.139458   367.505693   \n2589   1498  1497.331339   583.585709  1497.348693   2898.191988   142.666499   \n2616   1540  1540.041676   709.425445  1539.865159   2764.574555   175.614136   \n2945   1592  1591.886380   345.779231  1591.826779   1952.269003    99.327543   \n2957   1832  1831.914493   472.981339  1832.180142   2007.018661   108.310877   \n3153   1840  1839.413659   319.008013  1839.453015   1418.991987    88.356843   \n3191   1926  1926.179506  6398.833656  1926.124036   7679.166344  1698.898100   \n3391   2032  2032.335868   150.062903  2032.321879    865.937097    39.200234   \n3428   2187  2186.952804  5848.127892  2186.881900   6473.872108  1402.774453   \n3540   2247  2246.361081   170.789713  2246.149438    610.315531    57.090852   \n3747   2262  2260.909926   107.824449  2261.366983    633.663193    25.844698   \n3797   2272  2271.692429   360.400194  2271.722928    921.547003    83.645558   \n3959   2397  2397.354424  3206.949995  2397.267432   3637.050005   777.060380   \n4035   2470  2469.534452   183.362379  2469.277794    470.637621    47.058621   \n4244   2606  2605.351065   131.163569  2605.622131    358.836431    42.782923   \n4579   2894  2894.703133   397.650084  2894.518455    654.835127    91.256400   \n4698   3030  3030.293398    54.452120  3030.019570    153.547880    23.091528   \n4936   3615  3614.038497   124.857782  3614.158312    343.648757    28.476903   \n\n          lf_thr      rg_thr       promns  lf_bas  ...     unc_i  \\\n543    70.909899   49.239266   162.845302     392  ...  0.530718   \n667    88.241458   88.978919   125.089174     485  ...  0.112495   \n786    89.934593    1.069452   147.276132     579  ...  0.235274   \n1129   51.372759   40.677023   148.624963     955  ...  0.300000   \n1260   40.375893   77.703349   220.739274     990  ...  0.190000   \n1428  251.432911  123.634783   657.235129    1073  ...  0.090000   \n1566   59.126652   28.889179    69.221096    1086  ...  0.200000   \n1665   24.189260   36.845929    67.734059    1112  ...  0.050000   \n1785    0.176165   73.885618    85.795902    1152  ...  0.070000   \n1916   34.156127   10.853057    64.537729    1186  ...  0.026749   \n2023   62.170938   26.847523   134.196651    1253  ...  0.070000   \n2128   92.344345  268.763363   751.356428    1328  ...  0.010000   \n2245   25.123727    5.880614    65.116362    1369  ...  0.001000   \n2379   29.182944  101.857014   367.505693    1449  ...  1.100000   \n2589   25.140725   51.889893   142.666499    1494  ...  0.400000   \n2616   63.155763   38.866820   175.614136    1534  ...  0.300000   \n2945   26.119164   25.897229    99.327543    1588  ...  0.300000   \n2957   16.197018   27.833974   108.310877    1816  ...  0.100000   \n3153   22.173774   48.880461    74.557849    1836  ...  0.080000   \n3191  468.438806  262.626878  1698.898100    1916  ...  0.030000   \n3391   20.187085    6.828505    39.200234    2028  ...  0.030000   \n3428  223.650380  221.450518  1402.774453    2177  ...  0.000600   \n3540   27.132936   33.922184    57.090852    2242  ...  0.002000   \n3747    8.081059   17.948122    25.844698    2257  ...  0.022000   \n3797    7.173466   18.857337    83.645558    2267  ...  0.500000   \n3959  263.219632   21.786446   777.060380    2389  ...  0.130000   \n4035    3.040656   22.974186    47.058621    2460  ...  0.150000   \n4244   20.020247   26.989344    42.782923    2600  ...  0.080000   \n4579   36.028978   12.974715    91.256400    2889  ...  0.080000   \n4698   19.009584    9.993320    23.091528    3021  ...  0.016000   \n4936    6.988944    9.008367    28.476903    3611  ...  0.030000   \n\n         half_life  decay  decay_%  key_gamma  is_key_gamma is_to_consider  \\\n543   1.062200e+01     B-  100.000      238.6          True           True   \n667   2.706000e+01     B-  100.000      351.9         False           True   \n786   2.706000e+01     B-  100.000      351.9          True           True   \n1129  3.053000e+00     B-  100.000      583.2          True           True   \n1260  1.971000e+01     B-   99.979      609.3          True           True   \n1428  2.498300e+02     B-   98.670      657.8          True           True   \n1566  3.008000e+01     B-  100.000      661.7          True           True   \n1665  2.498300e+02     B-   98.670      657.8         False           True   \n1785  2.498300e+02     B-   98.670      657.8         False           True   \n1916  8.025200e+00     B-  100.000      364.5         False           True   \n2023  2.498300e+02     B-   98.670      657.8         False           True   \n2128  7.086000e+01  EC+B+  100.000      810.8          True           True   \n2245  3.122000e+02  EC+B+  100.000      834.8          True           True   \n2379  2.498300e+02     B-   98.670      657.8         False           True   \n2589  6.150000e+00     B-  100.000      911.6         False           True   \n2616  2.498300e+02     B-   98.670      657.8         False           True   \n2945  6.150000e+00     B-  100.000      911.6         False           True   \n2957  2.439300e+02  EC+B+  100.000     1115.5          True           True   \n3153  1.971000e+01     B-   99.979      609.3         False           True   \n3191  1.925280e+03     B-  100.000     1332.5         False           True   \n3391  1.971000e+01     B-   99.979      609.3         False           True   \n3428  1.925280e+03     B-  100.000     1332.5          True           True   \n3540  1.495600e+01     B-  100.000     1368.6          True           True   \n3747  1.971000e+01     B-   99.979      609.3         False           True   \n3797  2.498300e+02     B-   98.670      657.8         False           True   \n3959  1.248000e+09  EC+B+   10.720     1460.8          True           True   \n4035  2.498300e+02     B-   98.670      657.8         False           True   \n4244  6.150000e+00     B-  100.000      911.6         False           True   \n4579  1.971000e+01     B-   99.979      609.3         False           True   \n4698  1.971000e+01     B-   99.979      609.3         False           True   \n4936  1.971000e+01     B-   99.979      609.3         False           True   \n\n      delta_en  recalib_engy_ransac  new_delta_en  \n543   1.610260           238.785106      0.153106  \n667   1.564299           295.309109      0.085109  \n786   1.487539           351.918269     -0.013731  \n1129  1.461031           583.056716     -0.130284  \n1260  1.519826           609.239335     -0.081665  \n1428  1.517639           657.657287     -0.102713  \n1566  1.228580           661.263710     -0.393290  \n1665  1.711762           677.705376      0.083676  \n1785  1.328023           706.364625     -0.311375  \n1916  1.752692           723.017972      0.106972  \n2023  1.715703           763.996406      0.054006  \n2128  1.553339           810.632713     -0.126587  \n2245  1.814272           834.972966      0.124966  \n2379  1.564159           884.533551     -0.144549  \n2589  1.745977           911.230940      0.026940  \n2616  1.444253           937.199984     -0.285016  \n2945  1.708900           968.938371     -0.032629  \n2957  2.006503          1115.746905      0.207905  \n3153  1.695523          1120.189072     -0.104928  \n3191  1.721014          1173.127953     -0.100047  \n3391  1.718182          1237.993852     -0.128148  \n3428  1.790592          1332.399517     -0.092483  \n3540  1.872449          1368.600305     -0.024695  \n3747  2.126983          1377.895318      0.226318  \n3797  1.830783          1384.220638     -0.072462  \n3959  2.016641          1460.903599      0.083599  \n4035  1.809879          1504.887623     -0.140377  \n4244  1.949770          1588.167130     -0.032870  \n4579  2.186082          1764.625799      0.134799  \n4698  2.040732          1847.390153     -0.042847  \n4936  2.306075          2204.183619      0.083619  \n\n[31 rows x 30 columns]",
      "text/html": "<div>\n<style scoped>\n    .dataframe tbody tr th:only-of-type {\n        vertical-align: middle;\n    }\n\n    .dataframe tbody tr th {\n        vertical-align: top;\n    }\n\n    .dataframe thead th {\n        text-align: right;\n    }\n</style>\n<table border=\"1\" class=\"dataframe\">\n  <thead>\n    <tr style=\"text-align: right;\">\n      <th></th>\n      <th>peaks</th>\n      <th>fwhm_centr</th>\n      <th>rough_sums</th>\n      <th>centroids</th>\n      <th>variances</th>\n      <th>pk_hei</th>\n      <th>lf_thr</th>\n      <th>rg_thr</th>\n      <th>promns</th>\n      <th>lf_bas</th>\n      <th>...</th>\n      <th>unc_i</th>\n      <th>half_life</th>\n      <th>decay</th>\n      <th>decay_%</th>\n      <th>key_gamma</th>\n      <th>is_key_gamma</th>\n      <th>is_to_consider</th>\n      <th>delta_en</th>\n      <th>recalib_engy_ransac</th>\n      <th>new_delta_en</th>\n    </tr>\n  </thead>\n  <tbody>\n    <tr>\n      <th>543</th>\n      <td>396</td>\n      <td>396.401754</td>\n      <td>630.310441</td>\n      <td>396.426778</td>\n      <td>10404.641509</td>\n      <td>162.845302</td>\n      <td>70.909899</td>\n      <td>49.239266</td>\n      <td>162.845302</td>\n      <td>392</td>\n      <td>...</td>\n      <td>0.530718</td>\n      <td>1.062200e+01</td>\n      <td>B-</td>\n      <td>100.000</td>\n      <td>238.6</td>\n      <td>True</td>\n      <td>True</td>\n      <td>1.610260</td>\n      <td>238.785106</td>\n      <td>0.153106</td>\n    </tr>\n    <tr>\n      <th>667</th>\n      <td>489</td>\n      <td>488.997063</td>\n      <td>249.976688</td>\n      <td>488.967375</td>\n      <td>4072.023312</td>\n      <td>125.089174</td>\n      <td>88.241458</td>\n      <td>88.978919</td>\n      <td>125.089174</td>\n      <td>485</td>\n      <td>...</td>\n      <td>0.112495</td>\n      <td>2.706000e+01</td>\n      <td>B-</td>\n      <td>100.000</td>\n      <td>351.9</td>\n      <td>False</td>\n      <td>True</td>\n      <td>1.564299</td>\n      <td>295.309109</td>\n      <td>0.085109</td>\n    </tr>\n    <tr>\n      <th>786</th>\n      <td>581</td>\n      <td>581.463638</td>\n      <td>430.396173</td>\n      <td>581.647407</td>\n      <td>5405.821287</td>\n      <td>147.276132</td>\n      <td>89.934593</td>\n      <td>1.069452</td>\n      <td>147.276132</td>\n      <td>579</td>\n      <td>...</td>\n      <td>0.235274</td>\n      <td>2.706000e+01</td>\n      <td>B-</td>\n      <td>100.000</td>\n      <td>351.9</td>\n      <td>True</td>\n      <td>True</td>\n      <td>1.487539</td>\n      <td>351.918269</td>\n      <td>-0.013731</td>\n    </tr>\n    <tr>\n      <th>1129</th>\n      <td>960</td>\n      <td>960.088168</td>\n      <td>483.773366</td>\n      <td>960.065118</td>\n      <td>3335.841582</td>\n      <td>148.624963</td>\n      <td>51.372759</td>\n      <td>40.677023</td>\n      <td>148.624963</td>\n      <td>955</td>\n      <td>...</td>\n      <td>0.300000</td>\n      <td>3.053000e+00</td>\n      <td>B-</td>\n      <td>100.000</td>\n      <td>583.2</td>\n      <td>True</td>\n      <td>True</td>\n      <td>1.461031</td>\n      <td>583.056716</td>\n      <td>-0.130284</td>\n    </tr>\n    <tr>\n      <th>1260</th>\n      <td>1003</td>\n      <td>1002.888165</td>\n      <td>769.886444</td>\n      <td>1002.931019</td>\n      <td>3458.113556</td>\n      <td>220.739274</td>\n      <td>40.375893</td>\n      <td>77.703349</td>\n      <td>220.739274</td>\n      <td>990</td>\n      <td>...</td>\n      <td>0.190000</td>\n      <td>1.971000e+01</td>\n      <td>B-</td>\n      <td>99.979</td>\n      <td>609.3</td>\n      <td>True</td>\n      <td>True</td>\n      <td>1.519826</td>\n      <td>609.239335</td>\n      <td>-0.081665</td>\n    </tr>\n    <tr>\n      <th>1428</th>\n      <td>1082</td>\n      <td>1082.208995</td>\n      <td>2125.483990</td>\n      <td>1082.200436</td>\n      <td>4570.516010</td>\n      <td>657.235129</td>\n      <td>251.432911</td>\n      <td>123.634783</td>\n      <td>657.235129</td>\n      <td>1073</td>\n      <td>...</td>\n      <td>0.090000</td>\n      <td>2.498300e+02</td>\n      <td>B-</td>\n      <td>98.670</td>\n      <td>657.8</td>\n      <td>True</td>\n      <td>True</td>\n      <td>1.517639</td>\n      <td>657.657287</td>\n      <td>-0.102713</td>\n    </tr>\n    <tr>\n      <th>1566</th>\n      <td>1088</td>\n      <td>1088.722180</td>\n      <td>401.081225</td>\n      <td>1088.105023</td>\n      <td>2556.918775</td>\n      <td>97.223236</td>\n      <td>59.126652</td>\n      <td>28.889179</td>\n      <td>69.221096</td>\n      <td>1086</td>\n      <td>...</td>\n      <td>0.200000</td>\n      <td>3.008000e+01</td>\n      <td>B-</td>\n      <td>100.000</td>\n      <td>661.7</td>\n      <td>True</td>\n      <td>True</td>\n      <td>1.228580</td>\n      <td>661.263710</td>\n      <td>-0.393290</td>\n    </tr>\n    <tr>\n      <th>1665</th>\n      <td>1115</td>\n      <td>1114.774649</td>\n      <td>176.695976</td>\n      <td>1115.022855</td>\n      <td>1999.057501</td>\n      <td>67.734059</td>\n      <td>24.189260</td>\n      <td>36.845929</td>\n      <td>67.734059</td>\n      <td>1112</td>\n      <td>...</td>\n      <td>0.050000</td>\n      <td>2.498300e+02</td>\n      <td>B-</td>\n      <td>98.670</td>\n      <td>657.8</td>\n      <td>False</td>\n      <td>True</td>\n      <td>1.711762</td>\n      <td>677.705376</td>\n      <td>0.083676</td>\n    </tr>\n    <tr>\n      <th>1785</th>\n      <td>1163</td>\n      <td>1162.050038</td>\n      <td>336.295814</td>\n      <td>1161.943753</td>\n      <td>2591.560129</td>\n      <td>85.795902</td>\n      <td>0.176165</td>\n      <td>73.885618</td>\n      <td>85.795902</td>\n      <td>1152</td>\n      <td>...</td>\n      <td>0.070000</td>\n      <td>2.498300e+02</td>\n      <td>B-</td>\n      <td>98.670</td>\n      <td>657.8</td>\n      <td>False</td>\n      <td>True</td>\n      <td>1.328023</td>\n      <td>706.364625</td>\n      <td>-0.311375</td>\n    </tr>\n    <tr>\n      <th>1916</th>\n      <td>1189</td>\n      <td>1189.227086</td>\n      <td>160.747926</td>\n      <td>1189.208186</td>\n      <td>1865.322724</td>\n      <td>64.537729</td>\n      <td>34.156127</td>\n      <td>10.853057</td>\n      <td>64.537729</td>\n      <td>1186</td>\n      <td>...</td>\n      <td>0.026749</td>\n      <td>8.025200e+00</td>\n      <td>B-</td>\n      <td>100.000</td>\n      <td>364.5</td>\n      <td>False</td>\n      <td>True</td>\n      <td>1.752692</td>\n      <td>723.017972</td>\n      <td>0.106972</td>\n    </tr>\n    <tr>\n      <th>2023</th>\n      <td>1256</td>\n      <td>1256.302992</td>\n      <td>405.106118</td>\n      <td>1256.297717</td>\n      <td>2257.095859</td>\n      <td>134.196651</td>\n      <td>62.170938</td>\n      <td>26.847523</td>\n      <td>134.196651</td>\n      <td>1253</td>\n      <td>...</td>\n      <td>0.070000</td>\n      <td>2.498300e+02</td>\n      <td>B-</td>\n      <td>98.670</td>\n      <td>657.8</td>\n      <td>False</td>\n      <td>True</td>\n      <td>1.715703</td>\n      <td>763.996406</td>\n      <td>0.054006</td>\n    </tr>\n    <tr>\n      <th>2128</th>\n      <td>1333</td>\n      <td>1332.711271</td>\n      <td>2591.874119</td>\n      <td>1332.650344</td>\n      <td>4761.752838</td>\n      <td>751.356428</td>\n      <td>92.344345</td>\n      <td>268.763363</td>\n      <td>751.356428</td>\n      <td>1328</td>\n      <td>...</td>\n      <td>0.010000</td>\n      <td>7.086000e+01</td>\n      <td>EC+B+</td>\n      <td>100.000</td>\n      <td>810.8</td>\n      <td>True</td>\n      <td>True</td>\n      <td>1.553339</td>\n      <td>810.632713</td>\n      <td>-0.126587</td>\n    </tr>\n    <tr>\n      <th>2245</th>\n      <td>1372</td>\n      <td>1372.729536</td>\n      <td>280.179798</td>\n      <td>1372.499811</td>\n      <td>3213.742890</td>\n      <td>65.116362</td>\n      <td>25.123727</td>\n      <td>5.880614</td>\n      <td>65.116362</td>\n      <td>1369</td>\n      <td>...</td>\n      <td>0.001000</td>\n      <td>3.122000e+02</td>\n      <td>EC+B+</td>\n      <td>100.000</td>\n      <td>834.8</td>\n      <td>True</td>\n      <td>True</td>\n      <td>1.814272</td>\n      <td>834.972966</td>\n      <td>0.124966</td>\n    </tr>\n    <tr>\n      <th>2379</th>\n      <td>1454</td>\n      <td>1453.734014</td>\n      <td>1344.932670</td>\n      <td>1453.640093</td>\n      <td>3338.139458</td>\n      <td>367.505693</td>\n      <td>29.182944</td>\n      <td>101.857014</td>\n      <td>367.505693</td>\n      <td>1449</td>\n      <td>...</td>\n      <td>1.100000</td>\n      <td>2.498300e+02</td>\n      <td>B-</td>\n      <td>98.670</td>\n      <td>657.8</td>\n      <td>False</td>\n      <td>True</td>\n      <td>1.564159</td>\n      <td>884.533551</td>\n      <td>-0.144549</td>\n    </tr>\n    <tr>\n      <th>2589</th>\n      <td>1498</td>\n      <td>1497.331339</td>\n      <td>583.585709</td>\n      <td>1497.348693</td>\n      <td>2898.191988</td>\n      <td>142.666499</td>\n      <td>25.140725</td>\n      <td>51.889893</td>\n      <td>142.666499</td>\n      <td>1494</td>\n      <td>...</td>\n      <td>0.400000</td>\n      <td>6.150000e+00</td>\n      <td>B-</td>\n      <td>100.000</td>\n      <td>911.6</td>\n      <td>False</td>\n      <td>True</td>\n      <td>1.745977</td>\n      <td>911.230940</td>\n      <td>0.026940</td>\n    </tr>\n    <tr>\n      <th>2616</th>\n      <td>1540</td>\n      <td>1540.041676</td>\n      <td>709.425445</td>\n      <td>1539.865159</td>\n      <td>2764.574555</td>\n      <td>175.614136</td>\n      <td>63.155763</td>\n      <td>38.866820</td>\n      <td>175.614136</td>\n      <td>1534</td>\n      <td>...</td>\n      <td>0.300000</td>\n      <td>2.498300e+02</td>\n      <td>B-</td>\n      <td>98.670</td>\n      <td>657.8</td>\n      <td>False</td>\n      <td>True</td>\n      <td>1.444253</td>\n      <td>937.199984</td>\n      <td>-0.285016</td>\n    </tr>\n    <tr>\n      <th>2945</th>\n      <td>1592</td>\n      <td>1591.886380</td>\n      <td>345.779231</td>\n      <td>1591.826779</td>\n      <td>1952.269003</td>\n      <td>99.327543</td>\n      <td>26.119164</td>\n      <td>25.897229</td>\n      <td>99.327543</td>\n      <td>1588</td>\n      <td>...</td>\n      <td>0.300000</td>\n      <td>6.150000e+00</td>\n      <td>B-</td>\n      <td>100.000</td>\n      <td>911.6</td>\n      <td>False</td>\n      <td>True</td>\n      <td>1.708900</td>\n      <td>968.938371</td>\n      <td>-0.032629</td>\n    </tr>\n    <tr>\n      <th>2957</th>\n      <td>1832</td>\n      <td>1831.914493</td>\n      <td>472.981339</td>\n      <td>1832.180142</td>\n      <td>2007.018661</td>\n      <td>108.310877</td>\n      <td>16.197018</td>\n      <td>27.833974</td>\n      <td>108.310877</td>\n      <td>1816</td>\n      <td>...</td>\n      <td>0.100000</td>\n      <td>2.439300e+02</td>\n      <td>EC+B+</td>\n      <td>100.000</td>\n      <td>1115.5</td>\n      <td>True</td>\n      <td>True</td>\n      <td>2.006503</td>\n      <td>1115.746905</td>\n      <td>0.207905</td>\n    </tr>\n    <tr>\n      <th>3153</th>\n      <td>1840</td>\n      <td>1839.413659</td>\n      <td>319.008013</td>\n      <td>1839.453015</td>\n      <td>1418.991987</td>\n      <td>88.356843</td>\n      <td>22.173774</td>\n      <td>48.880461</td>\n      <td>74.557849</td>\n      <td>1836</td>\n      <td>...</td>\n      <td>0.080000</td>\n      <td>1.971000e+01</td>\n      <td>B-</td>\n      <td>99.979</td>\n      <td>609.3</td>\n      <td>False</td>\n      <td>True</td>\n      <td>1.695523</td>\n      <td>1120.189072</td>\n      <td>-0.104928</td>\n    </tr>\n    <tr>\n      <th>3191</th>\n      <td>1926</td>\n      <td>1926.179506</td>\n      <td>6398.833656</td>\n      <td>1926.124036</td>\n      <td>7679.166344</td>\n      <td>1698.898100</td>\n      <td>468.438806</td>\n      <td>262.626878</td>\n      <td>1698.898100</td>\n      <td>1916</td>\n      <td>...</td>\n      <td>0.030000</td>\n      <td>1.925280e+03</td>\n      <td>B-</td>\n      <td>100.000</td>\n      <td>1332.5</td>\n      <td>False</td>\n      <td>True</td>\n      <td>1.721014</td>\n      <td>1173.127953</td>\n      <td>-0.100047</td>\n    </tr>\n    <tr>\n      <th>3391</th>\n      <td>2032</td>\n      <td>2032.335868</td>\n      <td>150.062903</td>\n      <td>2032.321879</td>\n      <td>865.937097</td>\n      <td>39.200234</td>\n      <td>20.187085</td>\n      <td>6.828505</td>\n      <td>39.200234</td>\n      <td>2028</td>\n      <td>...</td>\n      <td>0.030000</td>\n      <td>1.971000e+01</td>\n      <td>B-</td>\n      <td>99.979</td>\n      <td>609.3</td>\n      <td>False</td>\n      <td>True</td>\n      <td>1.718182</td>\n      <td>1237.993852</td>\n      <td>-0.128148</td>\n    </tr>\n    <tr>\n      <th>3428</th>\n      <td>2187</td>\n      <td>2186.952804</td>\n      <td>5848.127892</td>\n      <td>2186.881900</td>\n      <td>6473.872108</td>\n      <td>1402.774453</td>\n      <td>223.650380</td>\n      <td>221.450518</td>\n      <td>1402.774453</td>\n      <td>2177</td>\n      <td>...</td>\n      <td>0.000600</td>\n      <td>1.925280e+03</td>\n      <td>B-</td>\n      <td>100.000</td>\n      <td>1332.5</td>\n      <td>True</td>\n      <td>True</td>\n      <td>1.790592</td>\n      <td>1332.399517</td>\n      <td>-0.092483</td>\n    </tr>\n    <tr>\n      <th>3540</th>\n      <td>2247</td>\n      <td>2246.361081</td>\n      <td>170.789713</td>\n      <td>2246.149438</td>\n      <td>610.315531</td>\n      <td>57.090852</td>\n      <td>27.132936</td>\n      <td>33.922184</td>\n      <td>57.090852</td>\n      <td>2242</td>\n      <td>...</td>\n      <td>0.002000</td>\n      <td>1.495600e+01</td>\n      <td>B-</td>\n      <td>100.000</td>\n      <td>1368.6</td>\n      <td>True</td>\n      <td>True</td>\n      <td>1.872449</td>\n      <td>1368.600305</td>\n      <td>-0.024695</td>\n    </tr>\n    <tr>\n      <th>3747</th>\n      <td>2262</td>\n      <td>2260.909926</td>\n      <td>107.824449</td>\n      <td>2261.366983</td>\n      <td>633.663193</td>\n      <td>25.844698</td>\n      <td>8.081059</td>\n      <td>17.948122</td>\n      <td>25.844698</td>\n      <td>2257</td>\n      <td>...</td>\n      <td>0.022000</td>\n      <td>1.971000e+01</td>\n      <td>B-</td>\n      <td>99.979</td>\n      <td>609.3</td>\n      <td>False</td>\n      <td>True</td>\n      <td>2.126983</td>\n      <td>1377.895318</td>\n      <td>0.226318</td>\n    </tr>\n    <tr>\n      <th>3797</th>\n      <td>2272</td>\n      <td>2271.692429</td>\n      <td>360.400194</td>\n      <td>2271.722928</td>\n      <td>921.547003</td>\n      <td>83.645558</td>\n      <td>7.173466</td>\n      <td>18.857337</td>\n      <td>83.645558</td>\n      <td>2267</td>\n      <td>...</td>\n      <td>0.500000</td>\n      <td>2.498300e+02</td>\n      <td>B-</td>\n      <td>98.670</td>\n      <td>657.8</td>\n      <td>False</td>\n      <td>True</td>\n      <td>1.830783</td>\n      <td>1384.220638</td>\n      <td>-0.072462</td>\n    </tr>\n    <tr>\n      <th>3959</th>\n      <td>2397</td>\n      <td>2397.354424</td>\n      <td>3206.949995</td>\n      <td>2397.267432</td>\n      <td>3637.050005</td>\n      <td>777.060380</td>\n      <td>263.219632</td>\n      <td>21.786446</td>\n      <td>777.060380</td>\n      <td>2389</td>\n      <td>...</td>\n      <td>0.130000</td>\n      <td>1.248000e+09</td>\n      <td>EC+B+</td>\n      <td>10.720</td>\n      <td>1460.8</td>\n      <td>True</td>\n      <td>True</td>\n      <td>2.016641</td>\n      <td>1460.903599</td>\n      <td>0.083599</td>\n    </tr>\n    <tr>\n      <th>4035</th>\n      <td>2470</td>\n      <td>2469.534452</td>\n      <td>183.362379</td>\n      <td>2469.277794</td>\n      <td>470.637621</td>\n      <td>47.058621</td>\n      <td>3.040656</td>\n      <td>22.974186</td>\n      <td>47.058621</td>\n      <td>2460</td>\n      <td>...</td>\n      <td>0.150000</td>\n      <td>2.498300e+02</td>\n      <td>B-</td>\n      <td>98.670</td>\n      <td>657.8</td>\n      <td>False</td>\n      <td>True</td>\n      <td>1.809879</td>\n      <td>1504.887623</td>\n      <td>-0.140377</td>\n    </tr>\n    <tr>\n      <th>4244</th>\n      <td>2606</td>\n      <td>2605.351065</td>\n      <td>131.163569</td>\n      <td>2605.622131</td>\n      <td>358.836431</td>\n      <td>42.782923</td>\n      <td>20.020247</td>\n      <td>26.989344</td>\n      <td>42.782923</td>\n      <td>2600</td>\n      <td>...</td>\n      <td>0.080000</td>\n      <td>6.150000e+00</td>\n      <td>B-</td>\n      <td>100.000</td>\n      <td>911.6</td>\n      <td>False</td>\n      <td>True</td>\n      <td>1.949770</td>\n      <td>1588.167130</td>\n      <td>-0.032870</td>\n    </tr>\n    <tr>\n      <th>4579</th>\n      <td>2894</td>\n      <td>2894.703133</td>\n      <td>397.650084</td>\n      <td>2894.518455</td>\n      <td>654.835127</td>\n      <td>91.256400</td>\n      <td>36.028978</td>\n      <td>12.974715</td>\n      <td>91.256400</td>\n      <td>2889</td>\n      <td>...</td>\n      <td>0.080000</td>\n      <td>1.971000e+01</td>\n      <td>B-</td>\n      <td>99.979</td>\n      <td>609.3</td>\n      <td>False</td>\n      <td>True</td>\n      <td>2.186082</td>\n      <td>1764.625799</td>\n      <td>0.134799</td>\n    </tr>\n    <tr>\n      <th>4698</th>\n      <td>3030</td>\n      <td>3030.293398</td>\n      <td>54.452120</td>\n      <td>3030.019570</td>\n      <td>153.547880</td>\n      <td>23.091528</td>\n      <td>19.009584</td>\n      <td>9.993320</td>\n      <td>23.091528</td>\n      <td>3021</td>\n      <td>...</td>\n      <td>0.016000</td>\n      <td>1.971000e+01</td>\n      <td>B-</td>\n      <td>99.979</td>\n      <td>609.3</td>\n      <td>False</td>\n      <td>True</td>\n      <td>2.040732</td>\n      <td>1847.390153</td>\n      <td>-0.042847</td>\n    </tr>\n    <tr>\n      <th>4936</th>\n      <td>3615</td>\n      <td>3614.038497</td>\n      <td>124.857782</td>\n      <td>3614.158312</td>\n      <td>343.648757</td>\n      <td>28.476903</td>\n      <td>6.988944</td>\n      <td>9.008367</td>\n      <td>28.476903</td>\n      <td>3611</td>\n      <td>...</td>\n      <td>0.030000</td>\n      <td>1.971000e+01</td>\n      <td>B-</td>\n      <td>99.979</td>\n      <td>609.3</td>\n      <td>False</td>\n      <td>True</td>\n      <td>2.306075</td>\n      <td>2204.183619</td>\n      <td>0.083619</td>\n    </tr>\n  </tbody>\n</table>\n<p>31 rows × 30 columns</p>\n</div>"
     },
     "execution_count": 39,
     "metadata": {},
     "output_type": "execute_result"
    }
   ]
  },
  {
   "cell_type": "code",
   "source": [
    "aux_3.columns"
   ],
   "metadata": {
    "tags": [],
    "trusted": true,
    "ExecuteTime": {
     "end_time": "2023-10-18T16:34:30.936449310Z",
     "start_time": "2023-10-18T16:34:30.625106061Z"
    }
   },
   "execution_count": 40,
   "outputs": [
    {
     "data": {
      "text/plain": "Index(['peaks', 'fwhm_centr', 'rough_sums', 'centroids', 'variances', 'pk_hei',\n       'lf_thr', 'rg_thr', 'promns', 'lf_bas', 'rg_bas', 'widths', 'wi_hei',\n       'lf_ips', 'rg_ips', 'engy_pk_det', 'nuclide_name', 'energy', 'unc_en',\n       'intensity', 'unc_i', 'half_life', 'decay', 'decay_%', 'key_gamma',\n       'is_key_gamma', 'is_to_consider', 'delta_en', 'recalib_engy_ransac',\n       'new_delta_en'],\n      dtype='object')"
     },
     "execution_count": 40,
     "metadata": {},
     "output_type": "execute_result"
    }
   ]
  },
  {
   "cell_type": "code",
   "source": [
    "new_ch_en_calib"
   ],
   "metadata": {
    "tags": [],
    "trusted": true,
    "ExecuteTime": {
     "end_time": "2023-10-18T16:34:31.066610977Z",
     "start_time": "2023-10-18T16:34:30.625454032Z"
    }
   },
   "execution_count": 41,
   "outputs": [
    {
     "data": {
      "text/plain": "Polynomial([ 1.22153806e+03,  9.82635880e+02, -1.31252172e-01], domain=[ 396.42677778, 3614.15831169], window=[-1.,  1.])",
      "text/latex": "$x \\mapsto \\text{1221.5380641599309} + \\text{982.6358795350822}\\,\\left(\\text{-1.2464014002411332} + \\text{0.0006215558939343086}x\\right) - \\text{0.13125217158112754}\\,\\left(\\text{-1.2464014002411332} + \\text{0.0006215558939343086}x\\right)^{2}$"
     },
     "execution_count": 41,
     "metadata": {},
     "output_type": "execute_result"
    }
   ]
  },
  {
   "cell_type": "code",
   "source": [
    "# 2023-Set-01 PAREI AQUI"
   ],
   "metadata": {
    "tags": [],
    "trusted": true,
    "ExecuteTime": {
     "end_time": "2023-10-18T16:34:31.068553282Z",
     "start_time": "2023-10-18T16:34:30.741519783Z"
    }
   },
   "execution_count": 42,
   "outputs": []
  },
  {
   "cell_type": "code",
   "source": [
    "pks_comprehensive_df.columns"
   ],
   "metadata": {
    "tags": [],
    "collapsed": false,
    "trusted": true,
    "ExecuteTime": {
     "end_time": "2023-10-18T16:34:31.396631554Z",
     "start_time": "2023-10-18T16:34:30.832157589Z"
    }
   },
   "execution_count": 43,
   "outputs": [
    {
     "data": {
      "text/plain": "Index(['peaks', 'fwhm_centr', 'rough_sums', 'centroids', 'variances', 'pk_hei',\n       'lf_thr', 'rg_thr', 'promns', 'lf_bas', 'rg_bas', 'widths', 'wi_hei',\n       'lf_ips', 'rg_ips', 'engy_pk_det'],\n      dtype='object')"
     },
     "execution_count": 43,
     "metadata": {},
     "output_type": "execute_result"
    }
   ]
  },
  {
   "cell_type": "code",
   "source": [
    "# def add_engy_to_pks_df(peaks_net_kev_df, func_en):\n",
    "#     peaks_net_kev_df['engy_pk_det'] = func_en(peaks_net_kev_df.centroids)"
   ],
   "metadata": {
    "tags": [],
    "collapsed": false,
    "trusted": true,
    "ExecuteTime": {
     "end_time": "2023-10-18T16:34:31.664559672Z",
     "start_time": "2023-10-18T16:34:31.053417251Z"
    }
   },
   "execution_count": 44,
   "outputs": []
  },
  {
   "cell_type": "code",
   "source": [
    "# 2023-Sep-7 Include recalibrated energy"
   ],
   "metadata": {
    "tags": [],
    "collapsed": false,
    "trusted": true,
    "ExecuteTime": {
     "end_time": "2023-10-18T16:34:31.666646792Z",
     "start_time": "2023-10-18T16:34:31.124899252Z"
    }
   },
   "execution_count": 45,
   "outputs": []
  },
  {
   "cell_type": "code",
   "source": [
    "pks_comprehensive_df['recalib_energy']=new_ch_en_calib(pks_comprehensive_df.centroids)"
   ],
   "metadata": {
    "tags": [],
    "collapsed": false,
    "trusted": true,
    "ExecuteTime": {
     "end_time": "2023-10-18T16:34:31.994050544Z",
     "start_time": "2023-10-18T16:34:31.277466722Z"
    }
   },
   "execution_count": 46,
   "outputs": []
  },
  {
   "cell_type": "code",
   "source": [
    "pks_comprehensive_df"
   ],
   "metadata": {
    "tags": [],
    "collapsed": false,
    "trusted": true,
    "ExecuteTime": {
     "end_time": "2023-10-18T16:34:32.033474852Z",
     "start_time": "2023-10-18T16:34:31.412247680Z"
    }
   },
   "execution_count": 47,
   "outputs": [
    {
     "data": {
      "text/plain": "    peaks   fwhm_centr   rough_sums    centroids     variances       pk_hei  \\\n0      30    29.785567  1893.942368    29.963695  14133.214332   818.646195   \n1     128   128.364887  2876.788495   127.767831  11283.211505   720.585627   \n2     145   144.459911  1278.607977   144.896569  10161.329960   389.571554   \n3     236   235.273124   462.759320   235.202199  12019.150830   123.425784   \n4     396   396.401754   630.310441   396.426778  10404.641509   162.845302   \n5     489   488.997063   249.976688   488.967375   4072.023312   125.089174   \n6     581   581.463638   430.396173   581.647407   5405.821287   147.276132   \n7     716   715.508125   222.738094   715.666805   4033.829966    79.006167   \n8     841   841.967813  2900.206925   841.976062   7873.573309   559.895371   \n9     960   960.088168   483.773366   960.065118   3335.841582   148.624963   \n10   1003  1002.888165   769.886444  1002.931019   3458.113556   220.739274   \n11   1011  1011.595555   246.139531  1011.090936   3193.930817    63.325136   \n12   1082  1082.208995  2125.483990  1082.200436   4570.516010   657.235129   \n13   1088  1088.722180   401.081225  1088.105023   2556.918775    97.223236   \n14   1115  1114.774649   176.695976  1115.022855   1999.057501    67.734059   \n15   1163  1162.050038   336.295814  1161.943753   2591.560129    85.795902   \n16   1189  1189.227086   160.747926  1189.208186   1865.322724    64.537729   \n17   1256  1256.302992   405.106118  1256.297717   2257.095859   134.196651   \n18   1333  1332.711271  2591.874119  1332.650344   4761.752838   751.356428   \n19   1372  1372.729536   280.179798  1372.499811   3213.742890    65.116362   \n20   1454  1453.734014  1344.932670  1453.640093   3338.139458   367.505693   \n21   1498  1497.331339   583.585709  1497.348693   2898.191988   142.666499   \n22   1540  1540.041676   709.425445  1539.865159   2764.574555   175.614136   \n23   1585  1585.460179   338.833600  1586.692586   2496.637384    45.747485   \n24   1592  1591.886380   345.779231  1591.826779   1952.269003    99.327543   \n25   1832  1831.914493   472.981339  1832.180142   2007.018661   108.310877   \n26   1840  1839.413659   319.008013  1839.453015   1418.991987    88.356843   \n27   1926  1926.179506  6398.833656  1926.124036   7679.166344  1698.898100   \n28   2032  2032.335868   150.062903  2032.321879    865.937097    39.200234   \n29   2187  2186.952804  5848.127892  2186.881900   6473.872108  1402.774453   \n30   2247  2246.361081   170.789713  2246.149438    610.315531    57.090852   \n31   2262  2260.909926   107.824449  2261.366983    633.663193    25.844698   \n32   2272  2271.692429   360.400194  2271.722928    921.547003    83.645558   \n33   2397  2397.354424  3206.949995  2397.267432   3637.050005   777.060380   \n34   2470  2469.534452   183.362379  2469.277794    470.637621    47.058621   \n35   2606  2605.351065   131.163569  2605.622131    358.836431    42.782923   \n36   2613  2612.853034   234.194972  2613.278554    601.805028    33.863911   \n37   2836  2835.888820    64.091621  2836.315622    177.908379    21.622287   \n38   2894  2894.703133   397.650084  2894.518455    654.835127    91.256400   \n39   3030  3030.293398    54.452120  3030.019570    153.547880    23.091528   \n40   3450  3449.565229   168.356845  3449.403829    291.643155    46.289910   \n41   3615  3614.038497   124.857782  3614.158312    343.648757    28.476903   \n\n        lf_thr      rg_thr       promns  lf_bas  rg_bas    widths      wi_hei  \\\n0   201.465549  450.836680   818.646195      28      33  2.244704  409.323097   \n1   359.256221   71.539300   720.585627     100     137  2.761022  360.292813   \n2     4.276963  247.018556   389.571554     142     151  2.657272  194.785777   \n3    40.769738   84.205044   123.425784     233     240  2.919528   61.712892   \n4    70.909899   49.239266   162.845302     392     404  3.333009   81.422651   \n5    88.241458   88.978919   125.089174     485     493  1.411704   62.544587   \n6    89.934593    1.069452   147.276132     579     585  2.564867   73.638066   \n7    15.639623   46.454617    79.006167     713     719  2.684467   39.503084   \n8   213.926360   11.088422   559.895371     836     850  4.639239  279.947685   \n9    51.372759   40.677023   148.624963     955     963  2.878815   74.312482   \n10   40.375893   77.703349   220.739274     990    1008  3.022488  110.369637   \n11   32.214361    1.787671    63.325136    1008    1016  3.156853   31.662568   \n12  251.432911  123.634783   657.235129    1073    1101  2.972686  328.617564   \n13   59.126652   28.889179    69.221096    1086    1101  2.615085   62.612688   \n14   24.189260   36.845929    67.734059    1112    1117  2.289007   33.867030   \n15    0.176165   73.885618    85.795902    1152    1166  3.061124   42.897951   \n16   34.156127   10.853057    64.537729    1186    1191  2.343664   32.268865   \n17   62.170938   26.847523   134.196651    1253    1261  2.834482   67.098325   \n18   92.344345  268.763363   751.356428    1328    1338  3.214050  375.678214   \n19   25.123727    5.880614    65.116362    1369    1376  4.593614   32.558181   \n20   29.182944  101.857014   367.505693    1449    1459  3.422487  183.752846   \n21   25.140725   51.889893   142.666499    1494    1503  3.965272   71.333250   \n22   63.155763   38.866820   175.614136    1534    1573  3.667664   87.807068   \n23    2.085748   21.928123    45.747485    1583    1588  3.872587   22.873742   \n24   26.119164   25.897229    99.327543    1588    1597  3.077070   49.663772   \n25   16.197018   27.833974   108.310877    1816    1845  3.933581   54.155439   \n26   22.173774   48.880461    74.557849    1836    1845  2.697992   51.077919   \n27  468.438806  262.626878  1698.898100    1916    1933  3.484062  849.449050   \n28   20.187085    6.828505    39.200234    2028    2037  2.613583   19.600117   \n29  223.650380  221.450518  1402.774453    2177    2193  3.853372  701.387226   \n30   27.132936   33.922184    57.090852    2242    2250  2.960832   28.545426   \n31    8.081059   17.948122    25.844698    2257    2267  3.620114   12.922349   \n32    7.173466   18.857337    83.645558    2267    2276  4.010758   41.822779   \n33  263.219632   21.786446   777.060380    2389    2404  3.821993  388.530190   \n34    3.040656   22.974186    47.058621    2460    2481  3.016614   23.529310   \n35   20.020247   26.989344    42.782923    2600    2624  2.883048   21.391462   \n36    1.017050    4.984726    28.063228    2608    2624  4.105433   19.832298   \n37   12.029719   15.984690    21.622287    2831    2842  1.575047   10.811143   \n38   36.028978   12.974715    91.256400    2889    2899  4.091466   45.628200   \n39   19.009584    9.993320    23.091528    3021    3038  1.801527   11.545764   \n40   15.992458   25.004050    46.289910    3442    3456  2.720839   23.144955   \n41    6.988944    9.008367    28.476903    3611    3620  4.538191   14.238452   \n\n         lf_ips       rg_ips  engy_pk_det  recalib_energy  \n0     28.663214    30.907919    16.318529       14.882194  \n1    126.984376   129.745398    76.080802       74.636461  \n2    143.131275   145.788547    86.547152       85.101309  \n3    233.813360   236.732888   141.727537      140.273282  \n4    394.735249   398.068258   240.242260      238.770932  \n5    488.291211   489.702915   296.788299      295.305981  \n6    580.181204   582.746071   353.419539      351.925344  \n7    714.165892   716.850359   435.310799      433.797888  \n8    839.648194   844.287433   512.490852      510.958635  \n9    958.648761   961.527576   584.648031      583.096300  \n10  1001.376921  1004.399409   610.840826      609.281662  \n11  1010.017129  1013.173982   615.826865      614.266265  \n12  1080.722653  1083.695338   659.277639      657.704238  \n13  1087.414637  1090.029722   662.885580      661.311093  \n14  1113.630146  1115.919153   679.333462      677.753980  \n15  1160.519476  1163.580599   708.004023      706.415658  \n16  1188.055254  1190.398918   724.663692      723.070063  \n17  1254.885751  1257.720233   765.658103      764.051198  \n18  1331.104246  1334.318296   812.312639      810.690071  \n19  1370.432729  1375.026343   836.662272      835.031294  \n20  1452.022771  1455.445258   886.242259      884.593659  \n21  1495.348703  1499.313975   912.949977      911.291608  \n22  1538.207845  1541.875508   938.929253      937.261197  \n23  1583.523885  1587.396472   967.542701      965.863761  \n24  1590.347845  1593.424914   970.679900      968.999754  \n25  1829.947703  1833.881284  1117.545503     1115.805873  \n26  1838.064663  1840.762655  1121.989523     1120.248001  \n27  1924.437475  1927.921538  1174.949014     1173.184541  \n28  2031.029076  2033.642660  1239.840182     1238.046548  \n29  2185.026118  2188.879490  1334.282592     1332.444474  \n30  2244.880665  2247.841497  1370.497449     1368.641631  \n31  2259.099869  2262.719983  1379.795983     1377.935563  \n32  2269.687050  2273.697808  1386.123883     1384.260317  \n33  2395.443428  2399.265421  1462.836641     1460.934079  \n34  2468.026145  2471.042759  1506.837879     1504.912228  \n35  2603.909541  2606.792589  1590.149770     1588.178962  \n36  2610.800317  2614.905751  1594.828154     1592.854754  \n37  2835.101297  2836.676344  1731.112803     1729.061296  \n38  2892.657400  2896.748866  1766.677082     1764.604363  \n39  3029.392635  3031.194161  1849.473732     1847.350296  \n40  3448.204809  3450.925648  2105.734437     2103.442234  \n41  3611.769401  3616.307593  2206.406075     2204.042692  ",
      "text/html": "<div>\n<style scoped>\n    .dataframe tbody tr th:only-of-type {\n        vertical-align: middle;\n    }\n\n    .dataframe tbody tr th {\n        vertical-align: top;\n    }\n\n    .dataframe thead th {\n        text-align: right;\n    }\n</style>\n<table border=\"1\" class=\"dataframe\">\n  <thead>\n    <tr style=\"text-align: right;\">\n      <th></th>\n      <th>peaks</th>\n      <th>fwhm_centr</th>\n      <th>rough_sums</th>\n      <th>centroids</th>\n      <th>variances</th>\n      <th>pk_hei</th>\n      <th>lf_thr</th>\n      <th>rg_thr</th>\n      <th>promns</th>\n      <th>lf_bas</th>\n      <th>rg_bas</th>\n      <th>widths</th>\n      <th>wi_hei</th>\n      <th>lf_ips</th>\n      <th>rg_ips</th>\n      <th>engy_pk_det</th>\n      <th>recalib_energy</th>\n    </tr>\n  </thead>\n  <tbody>\n    <tr>\n      <th>0</th>\n      <td>30</td>\n      <td>29.785567</td>\n      <td>1893.942368</td>\n      <td>29.963695</td>\n      <td>14133.214332</td>\n      <td>818.646195</td>\n      <td>201.465549</td>\n      <td>450.836680</td>\n      <td>818.646195</td>\n      <td>28</td>\n      <td>33</td>\n      <td>2.244704</td>\n      <td>409.323097</td>\n      <td>28.663214</td>\n      <td>30.907919</td>\n      <td>16.318529</td>\n      <td>14.882194</td>\n    </tr>\n    <tr>\n      <th>1</th>\n      <td>128</td>\n      <td>128.364887</td>\n      <td>2876.788495</td>\n      <td>127.767831</td>\n      <td>11283.211505</td>\n      <td>720.585627</td>\n      <td>359.256221</td>\n      <td>71.539300</td>\n      <td>720.585627</td>\n      <td>100</td>\n      <td>137</td>\n      <td>2.761022</td>\n      <td>360.292813</td>\n      <td>126.984376</td>\n      <td>129.745398</td>\n      <td>76.080802</td>\n      <td>74.636461</td>\n    </tr>\n    <tr>\n      <th>2</th>\n      <td>145</td>\n      <td>144.459911</td>\n      <td>1278.607977</td>\n      <td>144.896569</td>\n      <td>10161.329960</td>\n      <td>389.571554</td>\n      <td>4.276963</td>\n      <td>247.018556</td>\n      <td>389.571554</td>\n      <td>142</td>\n      <td>151</td>\n      <td>2.657272</td>\n      <td>194.785777</td>\n      <td>143.131275</td>\n      <td>145.788547</td>\n      <td>86.547152</td>\n      <td>85.101309</td>\n    </tr>\n    <tr>\n      <th>3</th>\n      <td>236</td>\n      <td>235.273124</td>\n      <td>462.759320</td>\n      <td>235.202199</td>\n      <td>12019.150830</td>\n      <td>123.425784</td>\n      <td>40.769738</td>\n      <td>84.205044</td>\n      <td>123.425784</td>\n      <td>233</td>\n      <td>240</td>\n      <td>2.919528</td>\n      <td>61.712892</td>\n      <td>233.813360</td>\n      <td>236.732888</td>\n      <td>141.727537</td>\n      <td>140.273282</td>\n    </tr>\n    <tr>\n      <th>4</th>\n      <td>396</td>\n      <td>396.401754</td>\n      <td>630.310441</td>\n      <td>396.426778</td>\n      <td>10404.641509</td>\n      <td>162.845302</td>\n      <td>70.909899</td>\n      <td>49.239266</td>\n      <td>162.845302</td>\n      <td>392</td>\n      <td>404</td>\n      <td>3.333009</td>\n      <td>81.422651</td>\n      <td>394.735249</td>\n      <td>398.068258</td>\n      <td>240.242260</td>\n      <td>238.770932</td>\n    </tr>\n    <tr>\n      <th>5</th>\n      <td>489</td>\n      <td>488.997063</td>\n      <td>249.976688</td>\n      <td>488.967375</td>\n      <td>4072.023312</td>\n      <td>125.089174</td>\n      <td>88.241458</td>\n      <td>88.978919</td>\n      <td>125.089174</td>\n      <td>485</td>\n      <td>493</td>\n      <td>1.411704</td>\n      <td>62.544587</td>\n      <td>488.291211</td>\n      <td>489.702915</td>\n      <td>296.788299</td>\n      <td>295.305981</td>\n    </tr>\n    <tr>\n      <th>6</th>\n      <td>581</td>\n      <td>581.463638</td>\n      <td>430.396173</td>\n      <td>581.647407</td>\n      <td>5405.821287</td>\n      <td>147.276132</td>\n      <td>89.934593</td>\n      <td>1.069452</td>\n      <td>147.276132</td>\n      <td>579</td>\n      <td>585</td>\n      <td>2.564867</td>\n      <td>73.638066</td>\n      <td>580.181204</td>\n      <td>582.746071</td>\n      <td>353.419539</td>\n      <td>351.925344</td>\n    </tr>\n    <tr>\n      <th>7</th>\n      <td>716</td>\n      <td>715.508125</td>\n      <td>222.738094</td>\n      <td>715.666805</td>\n      <td>4033.829966</td>\n      <td>79.006167</td>\n      <td>15.639623</td>\n      <td>46.454617</td>\n      <td>79.006167</td>\n      <td>713</td>\n      <td>719</td>\n      <td>2.684467</td>\n      <td>39.503084</td>\n      <td>714.165892</td>\n      <td>716.850359</td>\n      <td>435.310799</td>\n      <td>433.797888</td>\n    </tr>\n    <tr>\n      <th>8</th>\n      <td>841</td>\n      <td>841.967813</td>\n      <td>2900.206925</td>\n      <td>841.976062</td>\n      <td>7873.573309</td>\n      <td>559.895371</td>\n      <td>213.926360</td>\n      <td>11.088422</td>\n      <td>559.895371</td>\n      <td>836</td>\n      <td>850</td>\n      <td>4.639239</td>\n      <td>279.947685</td>\n      <td>839.648194</td>\n      <td>844.287433</td>\n      <td>512.490852</td>\n      <td>510.958635</td>\n    </tr>\n    <tr>\n      <th>9</th>\n      <td>960</td>\n      <td>960.088168</td>\n      <td>483.773366</td>\n      <td>960.065118</td>\n      <td>3335.841582</td>\n      <td>148.624963</td>\n      <td>51.372759</td>\n      <td>40.677023</td>\n      <td>148.624963</td>\n      <td>955</td>\n      <td>963</td>\n      <td>2.878815</td>\n      <td>74.312482</td>\n      <td>958.648761</td>\n      <td>961.527576</td>\n      <td>584.648031</td>\n      <td>583.096300</td>\n    </tr>\n    <tr>\n      <th>10</th>\n      <td>1003</td>\n      <td>1002.888165</td>\n      <td>769.886444</td>\n      <td>1002.931019</td>\n      <td>3458.113556</td>\n      <td>220.739274</td>\n      <td>40.375893</td>\n      <td>77.703349</td>\n      <td>220.739274</td>\n      <td>990</td>\n      <td>1008</td>\n      <td>3.022488</td>\n      <td>110.369637</td>\n      <td>1001.376921</td>\n      <td>1004.399409</td>\n      <td>610.840826</td>\n      <td>609.281662</td>\n    </tr>\n    <tr>\n      <th>11</th>\n      <td>1011</td>\n      <td>1011.595555</td>\n      <td>246.139531</td>\n      <td>1011.090936</td>\n      <td>3193.930817</td>\n      <td>63.325136</td>\n      <td>32.214361</td>\n      <td>1.787671</td>\n      <td>63.325136</td>\n      <td>1008</td>\n      <td>1016</td>\n      <td>3.156853</td>\n      <td>31.662568</td>\n      <td>1010.017129</td>\n      <td>1013.173982</td>\n      <td>615.826865</td>\n      <td>614.266265</td>\n    </tr>\n    <tr>\n      <th>12</th>\n      <td>1082</td>\n      <td>1082.208995</td>\n      <td>2125.483990</td>\n      <td>1082.200436</td>\n      <td>4570.516010</td>\n      <td>657.235129</td>\n      <td>251.432911</td>\n      <td>123.634783</td>\n      <td>657.235129</td>\n      <td>1073</td>\n      <td>1101</td>\n      <td>2.972686</td>\n      <td>328.617564</td>\n      <td>1080.722653</td>\n      <td>1083.695338</td>\n      <td>659.277639</td>\n      <td>657.704238</td>\n    </tr>\n    <tr>\n      <th>13</th>\n      <td>1088</td>\n      <td>1088.722180</td>\n      <td>401.081225</td>\n      <td>1088.105023</td>\n      <td>2556.918775</td>\n      <td>97.223236</td>\n      <td>59.126652</td>\n      <td>28.889179</td>\n      <td>69.221096</td>\n      <td>1086</td>\n      <td>1101</td>\n      <td>2.615085</td>\n      <td>62.612688</td>\n      <td>1087.414637</td>\n      <td>1090.029722</td>\n      <td>662.885580</td>\n      <td>661.311093</td>\n    </tr>\n    <tr>\n      <th>14</th>\n      <td>1115</td>\n      <td>1114.774649</td>\n      <td>176.695976</td>\n      <td>1115.022855</td>\n      <td>1999.057501</td>\n      <td>67.734059</td>\n      <td>24.189260</td>\n      <td>36.845929</td>\n      <td>67.734059</td>\n      <td>1112</td>\n      <td>1117</td>\n      <td>2.289007</td>\n      <td>33.867030</td>\n      <td>1113.630146</td>\n      <td>1115.919153</td>\n      <td>679.333462</td>\n      <td>677.753980</td>\n    </tr>\n    <tr>\n      <th>15</th>\n      <td>1163</td>\n      <td>1162.050038</td>\n      <td>336.295814</td>\n      <td>1161.943753</td>\n      <td>2591.560129</td>\n      <td>85.795902</td>\n      <td>0.176165</td>\n      <td>73.885618</td>\n      <td>85.795902</td>\n      <td>1152</td>\n      <td>1166</td>\n      <td>3.061124</td>\n      <td>42.897951</td>\n      <td>1160.519476</td>\n      <td>1163.580599</td>\n      <td>708.004023</td>\n      <td>706.415658</td>\n    </tr>\n    <tr>\n      <th>16</th>\n      <td>1189</td>\n      <td>1189.227086</td>\n      <td>160.747926</td>\n      <td>1189.208186</td>\n      <td>1865.322724</td>\n      <td>64.537729</td>\n      <td>34.156127</td>\n      <td>10.853057</td>\n      <td>64.537729</td>\n      <td>1186</td>\n      <td>1191</td>\n      <td>2.343664</td>\n      <td>32.268865</td>\n      <td>1188.055254</td>\n      <td>1190.398918</td>\n      <td>724.663692</td>\n      <td>723.070063</td>\n    </tr>\n    <tr>\n      <th>17</th>\n      <td>1256</td>\n      <td>1256.302992</td>\n      <td>405.106118</td>\n      <td>1256.297717</td>\n      <td>2257.095859</td>\n      <td>134.196651</td>\n      <td>62.170938</td>\n      <td>26.847523</td>\n      <td>134.196651</td>\n      <td>1253</td>\n      <td>1261</td>\n      <td>2.834482</td>\n      <td>67.098325</td>\n      <td>1254.885751</td>\n      <td>1257.720233</td>\n      <td>765.658103</td>\n      <td>764.051198</td>\n    </tr>\n    <tr>\n      <th>18</th>\n      <td>1333</td>\n      <td>1332.711271</td>\n      <td>2591.874119</td>\n      <td>1332.650344</td>\n      <td>4761.752838</td>\n      <td>751.356428</td>\n      <td>92.344345</td>\n      <td>268.763363</td>\n      <td>751.356428</td>\n      <td>1328</td>\n      <td>1338</td>\n      <td>3.214050</td>\n      <td>375.678214</td>\n      <td>1331.104246</td>\n      <td>1334.318296</td>\n      <td>812.312639</td>\n      <td>810.690071</td>\n    </tr>\n    <tr>\n      <th>19</th>\n      <td>1372</td>\n      <td>1372.729536</td>\n      <td>280.179798</td>\n      <td>1372.499811</td>\n      <td>3213.742890</td>\n      <td>65.116362</td>\n      <td>25.123727</td>\n      <td>5.880614</td>\n      <td>65.116362</td>\n      <td>1369</td>\n      <td>1376</td>\n      <td>4.593614</td>\n      <td>32.558181</td>\n      <td>1370.432729</td>\n      <td>1375.026343</td>\n      <td>836.662272</td>\n      <td>835.031294</td>\n    </tr>\n    <tr>\n      <th>20</th>\n      <td>1454</td>\n      <td>1453.734014</td>\n      <td>1344.932670</td>\n      <td>1453.640093</td>\n      <td>3338.139458</td>\n      <td>367.505693</td>\n      <td>29.182944</td>\n      <td>101.857014</td>\n      <td>367.505693</td>\n      <td>1449</td>\n      <td>1459</td>\n      <td>3.422487</td>\n      <td>183.752846</td>\n      <td>1452.022771</td>\n      <td>1455.445258</td>\n      <td>886.242259</td>\n      <td>884.593659</td>\n    </tr>\n    <tr>\n      <th>21</th>\n      <td>1498</td>\n      <td>1497.331339</td>\n      <td>583.585709</td>\n      <td>1497.348693</td>\n      <td>2898.191988</td>\n      <td>142.666499</td>\n      <td>25.140725</td>\n      <td>51.889893</td>\n      <td>142.666499</td>\n      <td>1494</td>\n      <td>1503</td>\n      <td>3.965272</td>\n      <td>71.333250</td>\n      <td>1495.348703</td>\n      <td>1499.313975</td>\n      <td>912.949977</td>\n      <td>911.291608</td>\n    </tr>\n    <tr>\n      <th>22</th>\n      <td>1540</td>\n      <td>1540.041676</td>\n      <td>709.425445</td>\n      <td>1539.865159</td>\n      <td>2764.574555</td>\n      <td>175.614136</td>\n      <td>63.155763</td>\n      <td>38.866820</td>\n      <td>175.614136</td>\n      <td>1534</td>\n      <td>1573</td>\n      <td>3.667664</td>\n      <td>87.807068</td>\n      <td>1538.207845</td>\n      <td>1541.875508</td>\n      <td>938.929253</td>\n      <td>937.261197</td>\n    </tr>\n    <tr>\n      <th>23</th>\n      <td>1585</td>\n      <td>1585.460179</td>\n      <td>338.833600</td>\n      <td>1586.692586</td>\n      <td>2496.637384</td>\n      <td>45.747485</td>\n      <td>2.085748</td>\n      <td>21.928123</td>\n      <td>45.747485</td>\n      <td>1583</td>\n      <td>1588</td>\n      <td>3.872587</td>\n      <td>22.873742</td>\n      <td>1583.523885</td>\n      <td>1587.396472</td>\n      <td>967.542701</td>\n      <td>965.863761</td>\n    </tr>\n    <tr>\n      <th>24</th>\n      <td>1592</td>\n      <td>1591.886380</td>\n      <td>345.779231</td>\n      <td>1591.826779</td>\n      <td>1952.269003</td>\n      <td>99.327543</td>\n      <td>26.119164</td>\n      <td>25.897229</td>\n      <td>99.327543</td>\n      <td>1588</td>\n      <td>1597</td>\n      <td>3.077070</td>\n      <td>49.663772</td>\n      <td>1590.347845</td>\n      <td>1593.424914</td>\n      <td>970.679900</td>\n      <td>968.999754</td>\n    </tr>\n    <tr>\n      <th>25</th>\n      <td>1832</td>\n      <td>1831.914493</td>\n      <td>472.981339</td>\n      <td>1832.180142</td>\n      <td>2007.018661</td>\n      <td>108.310877</td>\n      <td>16.197018</td>\n      <td>27.833974</td>\n      <td>108.310877</td>\n      <td>1816</td>\n      <td>1845</td>\n      <td>3.933581</td>\n      <td>54.155439</td>\n      <td>1829.947703</td>\n      <td>1833.881284</td>\n      <td>1117.545503</td>\n      <td>1115.805873</td>\n    </tr>\n    <tr>\n      <th>26</th>\n      <td>1840</td>\n      <td>1839.413659</td>\n      <td>319.008013</td>\n      <td>1839.453015</td>\n      <td>1418.991987</td>\n      <td>88.356843</td>\n      <td>22.173774</td>\n      <td>48.880461</td>\n      <td>74.557849</td>\n      <td>1836</td>\n      <td>1845</td>\n      <td>2.697992</td>\n      <td>51.077919</td>\n      <td>1838.064663</td>\n      <td>1840.762655</td>\n      <td>1121.989523</td>\n      <td>1120.248001</td>\n    </tr>\n    <tr>\n      <th>27</th>\n      <td>1926</td>\n      <td>1926.179506</td>\n      <td>6398.833656</td>\n      <td>1926.124036</td>\n      <td>7679.166344</td>\n      <td>1698.898100</td>\n      <td>468.438806</td>\n      <td>262.626878</td>\n      <td>1698.898100</td>\n      <td>1916</td>\n      <td>1933</td>\n      <td>3.484062</td>\n      <td>849.449050</td>\n      <td>1924.437475</td>\n      <td>1927.921538</td>\n      <td>1174.949014</td>\n      <td>1173.184541</td>\n    </tr>\n    <tr>\n      <th>28</th>\n      <td>2032</td>\n      <td>2032.335868</td>\n      <td>150.062903</td>\n      <td>2032.321879</td>\n      <td>865.937097</td>\n      <td>39.200234</td>\n      <td>20.187085</td>\n      <td>6.828505</td>\n      <td>39.200234</td>\n      <td>2028</td>\n      <td>2037</td>\n      <td>2.613583</td>\n      <td>19.600117</td>\n      <td>2031.029076</td>\n      <td>2033.642660</td>\n      <td>1239.840182</td>\n      <td>1238.046548</td>\n    </tr>\n    <tr>\n      <th>29</th>\n      <td>2187</td>\n      <td>2186.952804</td>\n      <td>5848.127892</td>\n      <td>2186.881900</td>\n      <td>6473.872108</td>\n      <td>1402.774453</td>\n      <td>223.650380</td>\n      <td>221.450518</td>\n      <td>1402.774453</td>\n      <td>2177</td>\n      <td>2193</td>\n      <td>3.853372</td>\n      <td>701.387226</td>\n      <td>2185.026118</td>\n      <td>2188.879490</td>\n      <td>1334.282592</td>\n      <td>1332.444474</td>\n    </tr>\n    <tr>\n      <th>30</th>\n      <td>2247</td>\n      <td>2246.361081</td>\n      <td>170.789713</td>\n      <td>2246.149438</td>\n      <td>610.315531</td>\n      <td>57.090852</td>\n      <td>27.132936</td>\n      <td>33.922184</td>\n      <td>57.090852</td>\n      <td>2242</td>\n      <td>2250</td>\n      <td>2.960832</td>\n      <td>28.545426</td>\n      <td>2244.880665</td>\n      <td>2247.841497</td>\n      <td>1370.497449</td>\n      <td>1368.641631</td>\n    </tr>\n    <tr>\n      <th>31</th>\n      <td>2262</td>\n      <td>2260.909926</td>\n      <td>107.824449</td>\n      <td>2261.366983</td>\n      <td>633.663193</td>\n      <td>25.844698</td>\n      <td>8.081059</td>\n      <td>17.948122</td>\n      <td>25.844698</td>\n      <td>2257</td>\n      <td>2267</td>\n      <td>3.620114</td>\n      <td>12.922349</td>\n      <td>2259.099869</td>\n      <td>2262.719983</td>\n      <td>1379.795983</td>\n      <td>1377.935563</td>\n    </tr>\n    <tr>\n      <th>32</th>\n      <td>2272</td>\n      <td>2271.692429</td>\n      <td>360.400194</td>\n      <td>2271.722928</td>\n      <td>921.547003</td>\n      <td>83.645558</td>\n      <td>7.173466</td>\n      <td>18.857337</td>\n      <td>83.645558</td>\n      <td>2267</td>\n      <td>2276</td>\n      <td>4.010758</td>\n      <td>41.822779</td>\n      <td>2269.687050</td>\n      <td>2273.697808</td>\n      <td>1386.123883</td>\n      <td>1384.260317</td>\n    </tr>\n    <tr>\n      <th>33</th>\n      <td>2397</td>\n      <td>2397.354424</td>\n      <td>3206.949995</td>\n      <td>2397.267432</td>\n      <td>3637.050005</td>\n      <td>777.060380</td>\n      <td>263.219632</td>\n      <td>21.786446</td>\n      <td>777.060380</td>\n      <td>2389</td>\n      <td>2404</td>\n      <td>3.821993</td>\n      <td>388.530190</td>\n      <td>2395.443428</td>\n      <td>2399.265421</td>\n      <td>1462.836641</td>\n      <td>1460.934079</td>\n    </tr>\n    <tr>\n      <th>34</th>\n      <td>2470</td>\n      <td>2469.534452</td>\n      <td>183.362379</td>\n      <td>2469.277794</td>\n      <td>470.637621</td>\n      <td>47.058621</td>\n      <td>3.040656</td>\n      <td>22.974186</td>\n      <td>47.058621</td>\n      <td>2460</td>\n      <td>2481</td>\n      <td>3.016614</td>\n      <td>23.529310</td>\n      <td>2468.026145</td>\n      <td>2471.042759</td>\n      <td>1506.837879</td>\n      <td>1504.912228</td>\n    </tr>\n    <tr>\n      <th>35</th>\n      <td>2606</td>\n      <td>2605.351065</td>\n      <td>131.163569</td>\n      <td>2605.622131</td>\n      <td>358.836431</td>\n      <td>42.782923</td>\n      <td>20.020247</td>\n      <td>26.989344</td>\n      <td>42.782923</td>\n      <td>2600</td>\n      <td>2624</td>\n      <td>2.883048</td>\n      <td>21.391462</td>\n      <td>2603.909541</td>\n      <td>2606.792589</td>\n      <td>1590.149770</td>\n      <td>1588.178962</td>\n    </tr>\n    <tr>\n      <th>36</th>\n      <td>2613</td>\n      <td>2612.853034</td>\n      <td>234.194972</td>\n      <td>2613.278554</td>\n      <td>601.805028</td>\n      <td>33.863911</td>\n      <td>1.017050</td>\n      <td>4.984726</td>\n      <td>28.063228</td>\n      <td>2608</td>\n      <td>2624</td>\n      <td>4.105433</td>\n      <td>19.832298</td>\n      <td>2610.800317</td>\n      <td>2614.905751</td>\n      <td>1594.828154</td>\n      <td>1592.854754</td>\n    </tr>\n    <tr>\n      <th>37</th>\n      <td>2836</td>\n      <td>2835.888820</td>\n      <td>64.091621</td>\n      <td>2836.315622</td>\n      <td>177.908379</td>\n      <td>21.622287</td>\n      <td>12.029719</td>\n      <td>15.984690</td>\n      <td>21.622287</td>\n      <td>2831</td>\n      <td>2842</td>\n      <td>1.575047</td>\n      <td>10.811143</td>\n      <td>2835.101297</td>\n      <td>2836.676344</td>\n      <td>1731.112803</td>\n      <td>1729.061296</td>\n    </tr>\n    <tr>\n      <th>38</th>\n      <td>2894</td>\n      <td>2894.703133</td>\n      <td>397.650084</td>\n      <td>2894.518455</td>\n      <td>654.835127</td>\n      <td>91.256400</td>\n      <td>36.028978</td>\n      <td>12.974715</td>\n      <td>91.256400</td>\n      <td>2889</td>\n      <td>2899</td>\n      <td>4.091466</td>\n      <td>45.628200</td>\n      <td>2892.657400</td>\n      <td>2896.748866</td>\n      <td>1766.677082</td>\n      <td>1764.604363</td>\n    </tr>\n    <tr>\n      <th>39</th>\n      <td>3030</td>\n      <td>3030.293398</td>\n      <td>54.452120</td>\n      <td>3030.019570</td>\n      <td>153.547880</td>\n      <td>23.091528</td>\n      <td>19.009584</td>\n      <td>9.993320</td>\n      <td>23.091528</td>\n      <td>3021</td>\n      <td>3038</td>\n      <td>1.801527</td>\n      <td>11.545764</td>\n      <td>3029.392635</td>\n      <td>3031.194161</td>\n      <td>1849.473732</td>\n      <td>1847.350296</td>\n    </tr>\n    <tr>\n      <th>40</th>\n      <td>3450</td>\n      <td>3449.565229</td>\n      <td>168.356845</td>\n      <td>3449.403829</td>\n      <td>291.643155</td>\n      <td>46.289910</td>\n      <td>15.992458</td>\n      <td>25.004050</td>\n      <td>46.289910</td>\n      <td>3442</td>\n      <td>3456</td>\n      <td>2.720839</td>\n      <td>23.144955</td>\n      <td>3448.204809</td>\n      <td>3450.925648</td>\n      <td>2105.734437</td>\n      <td>2103.442234</td>\n    </tr>\n    <tr>\n      <th>41</th>\n      <td>3615</td>\n      <td>3614.038497</td>\n      <td>124.857782</td>\n      <td>3614.158312</td>\n      <td>343.648757</td>\n      <td>28.476903</td>\n      <td>6.988944</td>\n      <td>9.008367</td>\n      <td>28.476903</td>\n      <td>3611</td>\n      <td>3620</td>\n      <td>4.538191</td>\n      <td>14.238452</td>\n      <td>3611.769401</td>\n      <td>3616.307593</td>\n      <td>2206.406075</td>\n      <td>2204.042692</td>\n    </tr>\n  </tbody>\n</table>\n</div>"
     },
     "execution_count": 47,
     "metadata": {},
     "output_type": "execute_result"
    }
   ]
  },
  {
   "cell_type": "code",
   "source": [
    "# 2023-Jun-20: Cálculo das atividades"
   ],
   "metadata": {
    "tags": [],
    "collapsed": false,
    "trusted": true,
    "ExecuteTime": {
     "end_time": "2023-10-18T16:34:32.033989542Z",
     "start_time": "2023-10-18T16:34:31.629071601Z"
    }
   },
   "execution_count": 48,
   "outputs": []
  },
  {
   "cell_type": "code",
   "source": [
    "# 2023-Jun-14\n",
    "# Loading calibration pkl file:\n",
    "calib_pkl_name = 'data/f100_gmx_2021.pkl'\n",
    "calib_df = pd.read_pickle(calib_pkl_name)\n",
    "calib_df"
   ],
   "metadata": {
    "tags": [],
    "collapsed": false,
    "trusted": true,
    "ExecuteTime": {
     "end_time": "2023-10-18T16:34:32.133258182Z",
     "start_time": "2023-10-18T16:34:31.636265500Z"
    }
   },
   "execution_count": 49,
   "outputs": [
    {
     "data": {
      "text/plain": "       Engy   Effic  sEffic                                         effic_func\n0     59.54  6.4299    3.61                                                743\n1     81.00  5.6528    3.61                                                743\n2    276.40  1.6306    3.61  ((0.5110491663154504, -1.542825320223859, 0.42...\n3    302.85  1.5006    3.61  ((0.5110491663154504, -1.542825320223859, 0.42...\n4    356.02  1.4023    3.61                                                743\n5    383.85  1.3216    3.61                                                743\n6    604.69  0.9112    3.61                                                743\n7    661.66  0.7900    3.61                                                743\n8    795.84  0.7000    3.61                                                743\n9   1155.00  0.5916    0.01                                                743\n10  1173.24  0.5513    3.61                                                743\n11  1332.50  0.5053    3.61                                                743",
      "text/html": "<div>\n<style scoped>\n    .dataframe tbody tr th:only-of-type {\n        vertical-align: middle;\n    }\n\n    .dataframe tbody tr th {\n        vertical-align: top;\n    }\n\n    .dataframe thead th {\n        text-align: right;\n    }\n</style>\n<table border=\"1\" class=\"dataframe\">\n  <thead>\n    <tr style=\"text-align: right;\">\n      <th></th>\n      <th>Engy</th>\n      <th>Effic</th>\n      <th>sEffic</th>\n      <th>effic_func</th>\n    </tr>\n  </thead>\n  <tbody>\n    <tr>\n      <th>0</th>\n      <td>59.54</td>\n      <td>6.4299</td>\n      <td>3.61</td>\n      <td>743</td>\n    </tr>\n    <tr>\n      <th>1</th>\n      <td>81.00</td>\n      <td>5.6528</td>\n      <td>3.61</td>\n      <td>743</td>\n    </tr>\n    <tr>\n      <th>2</th>\n      <td>276.40</td>\n      <td>1.6306</td>\n      <td>3.61</td>\n      <td>((0.5110491663154504, -1.542825320223859, 0.42...</td>\n    </tr>\n    <tr>\n      <th>3</th>\n      <td>302.85</td>\n      <td>1.5006</td>\n      <td>3.61</td>\n      <td>((0.5110491663154504, -1.542825320223859, 0.42...</td>\n    </tr>\n    <tr>\n      <th>4</th>\n      <td>356.02</td>\n      <td>1.4023</td>\n      <td>3.61</td>\n      <td>743</td>\n    </tr>\n    <tr>\n      <th>5</th>\n      <td>383.85</td>\n      <td>1.3216</td>\n      <td>3.61</td>\n      <td>743</td>\n    </tr>\n    <tr>\n      <th>6</th>\n      <td>604.69</td>\n      <td>0.9112</td>\n      <td>3.61</td>\n      <td>743</td>\n    </tr>\n    <tr>\n      <th>7</th>\n      <td>661.66</td>\n      <td>0.7900</td>\n      <td>3.61</td>\n      <td>743</td>\n    </tr>\n    <tr>\n      <th>8</th>\n      <td>795.84</td>\n      <td>0.7000</td>\n      <td>3.61</td>\n      <td>743</td>\n    </tr>\n    <tr>\n      <th>9</th>\n      <td>1155.00</td>\n      <td>0.5916</td>\n      <td>0.01</td>\n      <td>743</td>\n    </tr>\n    <tr>\n      <th>10</th>\n      <td>1173.24</td>\n      <td>0.5513</td>\n      <td>3.61</td>\n      <td>743</td>\n    </tr>\n    <tr>\n      <th>11</th>\n      <td>1332.50</td>\n      <td>0.5053</td>\n      <td>3.61</td>\n      <td>743</td>\n    </tr>\n  </tbody>\n</table>\n</div>"
     },
     "execution_count": 49,
     "metadata": {},
     "output_type": "execute_result"
    }
   ]
  },
  {
   "cell_type": "code",
   "source": [
    "p_eff, _ = calib_df.effic_func[3]"
   ],
   "metadata": {
    "tags": [],
    "collapsed": false,
    "trusted": true,
    "ExecuteTime": {
     "end_time": "2023-10-18T16:34:32.154763103Z",
     "start_time": "2023-10-18T16:34:31.753647784Z"
    }
   },
   "execution_count": 50,
   "outputs": []
  },
  {
   "cell_type": "code",
   "source": [
    "def en_eff(engy):\n",
    "    return np.exp(p_eff(np.log(engy)))"
   ],
   "metadata": {
    "tags": [],
    "collapsed": false,
    "trusted": true,
    "ExecuteTime": {
     "end_time": "2023-10-18T16:34:32.207057388Z",
     "start_time": "2023-10-18T16:34:31.888731366Z"
    }
   },
   "execution_count": 51,
   "outputs": []
  },
  {
   "cell_type": "code",
   "source": [
    "en_eff(1332)"
   ],
   "metadata": {
    "tags": [],
    "collapsed": false,
    "trusted": true,
    "ExecuteTime": {
     "end_time": "2023-10-18T16:34:32.341647606Z",
     "start_time": "2023-10-18T16:34:32.085515310Z"
    }
   },
   "execution_count": 52,
   "outputs": [
    {
     "data": {
      "text/plain": "0.5341252964668152"
     },
     "execution_count": 52,
     "metadata": {},
     "output_type": "execute_result"
    }
   ]
  },
  {
   "cell_type": "code",
   "source": [
    "# 2023-Aug-18\n",
    "# AQUI escolher nucludeo que tiver mais picos identificados (Ag-110m tem mais que Cs-137)\n",
    "# Por enquanto, usar a calibracao robusta, que deve bastar."
   ],
   "metadata": {
    "tags": [],
    "collapsed": false,
    "trusted": true,
    "ExecuteTime": {
     "end_time": "2023-10-18T16:34:32.593471443Z",
     "start_time": "2023-10-18T16:34:32.172885678Z"
    }
   },
   "execution_count": 53,
   "outputs": []
  },
  {
   "cell_type": "code",
   "source": [
    "cross_df = pd.merge(pks_comprehensive_df, nucl_iear1_selctd_gamms_df, how='cross')\n",
    "cross_df[\"delta_en\"] = cross_df.recalib_energy - cross_df.energy\n",
    "df_result = pd.DataFrame(cross_df.loc[np.abs(cross_df.delta_en) < en_toler_ident])\n",
    "df_result"
   ],
   "metadata": {
    "tags": [],
    "collapsed": false,
    "trusted": true,
    "ExecuteTime": {
     "end_time": "2023-10-18T16:34:32.729971840Z",
     "start_time": "2023-10-18T16:34:32.319324370Z"
    }
   },
   "execution_count": 54,
   "outputs": [
    {
     "data": {
      "text/plain": "      peaks   fwhm_centr   rough_sums    centroids     variances       pk_hei  \\\n543     396   396.401754   630.310441   396.426778  10404.641509   162.845302   \n667     489   488.997063   249.976688   488.967375   4072.023312   125.089174   \n786     581   581.463638   430.396173   581.647407   5405.821287   147.276132   \n1129    960   960.088168   483.773366   960.065118   3335.841582   148.624963   \n1260   1003  1002.888165   769.886444  1002.931019   3458.113556   220.739274   \n1428   1082  1082.208995  2125.483990  1082.200436   4570.516010   657.235129   \n1566   1088  1088.722180   401.081225  1088.105023   2556.918775    97.223236   \n1665   1115  1114.774649   176.695976  1115.022855   1999.057501    67.734059   \n1785   1163  1162.050038   336.295814  1161.943753   2591.560129    85.795902   \n1916   1189  1189.227086   160.747926  1189.208186   1865.322724    64.537729   \n2023   1256  1256.302992   405.106118  1256.297717   2257.095859   134.196651   \n2128   1333  1332.711271  2591.874119  1332.650344   4761.752838   751.356428   \n2245   1372  1372.729536   280.179798  1372.499811   3213.742890    65.116362   \n2379   1454  1453.734014  1344.932670  1453.640093   3338.139458   367.505693   \n2589   1498  1497.331339   583.585709  1497.348693   2898.191988   142.666499   \n2616   1540  1540.041676   709.425445  1539.865159   2764.574555   175.614136   \n2945   1592  1591.886380   345.779231  1591.826779   1952.269003    99.327543   \n2957   1832  1831.914493   472.981339  1832.180142   2007.018661   108.310877   \n3153   1840  1839.413659   319.008013  1839.453015   1418.991987    88.356843   \n3191   1926  1926.179506  6398.833656  1926.124036   7679.166344  1698.898100   \n3391   2032  2032.335868   150.062903  2032.321879    865.937097    39.200234   \n3428   2187  2186.952804  5848.127892  2186.881900   6473.872108  1402.774453   \n3540   2247  2246.361081   170.789713  2246.149438    610.315531    57.090852   \n3747   2262  2260.909926   107.824449  2261.366983    633.663193    25.844698   \n3797   2272  2271.692429   360.400194  2271.722928    921.547003    83.645558   \n3959   2397  2397.354424  3206.949995  2397.267432   3637.050005   777.060380   \n4035   2470  2469.534452   183.362379  2469.277794    470.637621    47.058621   \n4244   2606  2605.351065   131.163569  2605.622131    358.836431    42.782923   \n4579   2894  2894.703133   397.650084  2894.518455    654.835127    91.256400   \n4698   3030  3030.293398    54.452120  3030.019570    153.547880    23.091528   \n4936   3615  3614.038497   124.857782  3614.158312    343.648757    28.476903   \n\n          lf_thr      rg_thr       promns  lf_bas  ...  unc_en  intensity  \\\n543    70.909899   49.239266   162.845302     392  ...  0.0020   43.60000   \n667    88.241458   88.978919   125.089174     485  ...  0.0020   18.47088   \n786    89.934593    1.069452   147.276132     579  ...  0.0021   35.72370   \n1129   51.372759   40.677023   148.624963     955  ...  0.0020   85.00000   \n1260   40.375893   77.703349   220.739274     990  ...  0.0070   45.44000   \n1428  251.432911  123.634783   657.235129    1073  ...  0.0011   95.61000   \n1566   59.126652   28.889179    69.221096    1086  ...  0.0030   85.10000   \n1665   24.189260   36.845929    67.734059    1112  ...  0.0012   10.70000   \n1785    0.176165   73.885618    85.795902    1152  ...  0.0015   16.69000   \n1916   34.156127   10.853057    64.537729    1186  ...  0.0050    1.76855   \n2023   62.170938   26.847523   134.196651    1253  ...  0.0017   22.60000   \n2128   92.344345  268.763363   751.356428    1328  ...  0.0020   99.45000   \n2245   25.123727    5.880614    65.116362    1369  ...  0.0030   99.97600   \n2379   29.182944  101.857014   367.505693    1449  ...  0.0013   75.00000   \n2589   25.140725   51.889893   142.666499    1494  ...  0.0040   25.80000   \n2616   63.155763   38.866820   175.614136    1534  ...  0.0030   35.00000   \n2945   26.119164   25.897229    99.327543    1588  ...  0.0170   15.80000   \n2957   16.197018   27.833974   108.310877    1816  ...  0.0020   50.04000   \n3153   22.173774   48.880461    74.557849    1836  ...  0.0060   14.90000   \n3191  468.438806  262.626878  1698.898100    1916  ...  0.0030   99.85000   \n3391   20.187085    6.828505    39.200234    2028  ...  0.0100    5.83000   \n3428  223.650380  221.450518  1402.774453    2177  ...  0.0040   99.98260   \n3540   27.132936   33.922184    57.090852    2242  ...  0.0050   99.99400   \n3747    8.081059   17.948122    25.844698    2257  ...  0.0120    3.98500   \n3797    7.173466   18.857337    83.645558    2267  ...  0.0020   25.10000   \n3959  263.219632   21.786446   777.060380    2389  ...  0.0050   10.66000   \n4035    3.040656   22.974186    47.058621    2460  ...  0.0020   13.33000   \n4244   20.020247   26.989344    42.782923    2600  ...  0.0300    3.22000   \n4579   36.028978   12.974715    91.256400    2889  ...  0.0140   15.29000   \n4698   19.009584    9.993320    23.091528    3021  ...  0.0170    2.02700   \n4936    6.988944    9.008367    28.476903    3611  ...  0.0400    4.92000   \n\n         unc_i     half_life  decay  decay_%  key_gamma is_key_gamma  \\\n543   0.530718  1.062200e+01     B-  100.000      238.6         True   \n667   0.112495  2.706000e+01     B-  100.000      351.9        False   \n786   0.235274  2.706000e+01     B-  100.000      351.9         True   \n1129  0.300000  3.053000e+00     B-  100.000      583.2         True   \n1260  0.190000  1.971000e+01     B-   99.979      609.3         True   \n1428  0.090000  2.498300e+02     B-   98.670      657.8         True   \n1566  0.200000  3.008000e+01     B-  100.000      661.7         True   \n1665  0.050000  2.498300e+02     B-   98.670      657.8        False   \n1785  0.070000  2.498300e+02     B-   98.670      657.8        False   \n1916  0.026749  8.025200e+00     B-  100.000      364.5        False   \n2023  0.070000  2.498300e+02     B-   98.670      657.8        False   \n2128  0.010000  7.086000e+01  EC+B+  100.000      810.8         True   \n2245  0.001000  3.122000e+02  EC+B+  100.000      834.8         True   \n2379  1.100000  2.498300e+02     B-   98.670      657.8        False   \n2589  0.400000  6.150000e+00     B-  100.000      911.6        False   \n2616  0.300000  2.498300e+02     B-   98.670      657.8        False   \n2945  0.300000  6.150000e+00     B-  100.000      911.6        False   \n2957  0.100000  2.439300e+02  EC+B+  100.000     1115.5         True   \n3153  0.080000  1.971000e+01     B-   99.979      609.3        False   \n3191  0.030000  1.925280e+03     B-  100.000     1332.5        False   \n3391  0.030000  1.971000e+01     B-   99.979      609.3        False   \n3428  0.000600  1.925280e+03     B-  100.000     1332.5         True   \n3540  0.002000  1.495600e+01     B-  100.000     1368.6         True   \n3747  0.022000  1.971000e+01     B-   99.979      609.3        False   \n3797  0.500000  2.498300e+02     B-   98.670      657.8        False   \n3959  0.130000  1.248000e+09  EC+B+   10.720     1460.8         True   \n4035  0.150000  2.498300e+02     B-   98.670      657.8        False   \n4244  0.080000  6.150000e+00     B-  100.000      911.6        False   \n4579  0.080000  1.971000e+01     B-   99.979      609.3        False   \n4698  0.016000  1.971000e+01     B-   99.979      609.3        False   \n4936  0.030000  1.971000e+01     B-   99.979      609.3        False   \n\n      is_to_consider  delta_en  \n543             True  0.138932  \n667             True  0.081981  \n786             True -0.006656  \n1129            True -0.090700  \n1260            True -0.039338  \n1428            True -0.055762  \n1566            True -0.345907  \n1665            True  0.132280  \n1785            True -0.260342  \n1916            True  0.159063  \n2023            True  0.108798  \n2128            True -0.069229  \n2245            True  0.183294  \n2379            True -0.084441  \n2589            True  0.087608  \n2616            True -0.223803  \n2945            True  0.028754  \n2957            True  0.266873  \n3153            True -0.045999  \n3191            True -0.043459  \n3391            True -0.075452  \n3428            True -0.047526  \n3540            True  0.016631  \n3747            True  0.266563  \n3797            True -0.032783  \n3959            True  0.114079  \n4035            True -0.115772  \n4244            True -0.021038  \n4579            True  0.113363  \n4698            True -0.082704  \n4936            True -0.057308  \n\n[31 rows x 29 columns]",
      "text/html": "<div>\n<style scoped>\n    .dataframe tbody tr th:only-of-type {\n        vertical-align: middle;\n    }\n\n    .dataframe tbody tr th {\n        vertical-align: top;\n    }\n\n    .dataframe thead th {\n        text-align: right;\n    }\n</style>\n<table border=\"1\" class=\"dataframe\">\n  <thead>\n    <tr style=\"text-align: right;\">\n      <th></th>\n      <th>peaks</th>\n      <th>fwhm_centr</th>\n      <th>rough_sums</th>\n      <th>centroids</th>\n      <th>variances</th>\n      <th>pk_hei</th>\n      <th>lf_thr</th>\n      <th>rg_thr</th>\n      <th>promns</th>\n      <th>lf_bas</th>\n      <th>...</th>\n      <th>unc_en</th>\n      <th>intensity</th>\n      <th>unc_i</th>\n      <th>half_life</th>\n      <th>decay</th>\n      <th>decay_%</th>\n      <th>key_gamma</th>\n      <th>is_key_gamma</th>\n      <th>is_to_consider</th>\n      <th>delta_en</th>\n    </tr>\n  </thead>\n  <tbody>\n    <tr>\n      <th>543</th>\n      <td>396</td>\n      <td>396.401754</td>\n      <td>630.310441</td>\n      <td>396.426778</td>\n      <td>10404.641509</td>\n      <td>162.845302</td>\n      <td>70.909899</td>\n      <td>49.239266</td>\n      <td>162.845302</td>\n      <td>392</td>\n      <td>...</td>\n      <td>0.0020</td>\n      <td>43.60000</td>\n      <td>0.530718</td>\n      <td>1.062200e+01</td>\n      <td>B-</td>\n      <td>100.000</td>\n      <td>238.6</td>\n      <td>True</td>\n      <td>True</td>\n      <td>0.138932</td>\n    </tr>\n    <tr>\n      <th>667</th>\n      <td>489</td>\n      <td>488.997063</td>\n      <td>249.976688</td>\n      <td>488.967375</td>\n      <td>4072.023312</td>\n      <td>125.089174</td>\n      <td>88.241458</td>\n      <td>88.978919</td>\n      <td>125.089174</td>\n      <td>485</td>\n      <td>...</td>\n      <td>0.0020</td>\n      <td>18.47088</td>\n      <td>0.112495</td>\n      <td>2.706000e+01</td>\n      <td>B-</td>\n      <td>100.000</td>\n      <td>351.9</td>\n      <td>False</td>\n      <td>True</td>\n      <td>0.081981</td>\n    </tr>\n    <tr>\n      <th>786</th>\n      <td>581</td>\n      <td>581.463638</td>\n      <td>430.396173</td>\n      <td>581.647407</td>\n      <td>5405.821287</td>\n      <td>147.276132</td>\n      <td>89.934593</td>\n      <td>1.069452</td>\n      <td>147.276132</td>\n      <td>579</td>\n      <td>...</td>\n      <td>0.0021</td>\n      <td>35.72370</td>\n      <td>0.235274</td>\n      <td>2.706000e+01</td>\n      <td>B-</td>\n      <td>100.000</td>\n      <td>351.9</td>\n      <td>True</td>\n      <td>True</td>\n      <td>-0.006656</td>\n    </tr>\n    <tr>\n      <th>1129</th>\n      <td>960</td>\n      <td>960.088168</td>\n      <td>483.773366</td>\n      <td>960.065118</td>\n      <td>3335.841582</td>\n      <td>148.624963</td>\n      <td>51.372759</td>\n      <td>40.677023</td>\n      <td>148.624963</td>\n      <td>955</td>\n      <td>...</td>\n      <td>0.0020</td>\n      <td>85.00000</td>\n      <td>0.300000</td>\n      <td>3.053000e+00</td>\n      <td>B-</td>\n      <td>100.000</td>\n      <td>583.2</td>\n      <td>True</td>\n      <td>True</td>\n      <td>-0.090700</td>\n    </tr>\n    <tr>\n      <th>1260</th>\n      <td>1003</td>\n      <td>1002.888165</td>\n      <td>769.886444</td>\n      <td>1002.931019</td>\n      <td>3458.113556</td>\n      <td>220.739274</td>\n      <td>40.375893</td>\n      <td>77.703349</td>\n      <td>220.739274</td>\n      <td>990</td>\n      <td>...</td>\n      <td>0.0070</td>\n      <td>45.44000</td>\n      <td>0.190000</td>\n      <td>1.971000e+01</td>\n      <td>B-</td>\n      <td>99.979</td>\n      <td>609.3</td>\n      <td>True</td>\n      <td>True</td>\n      <td>-0.039338</td>\n    </tr>\n    <tr>\n      <th>1428</th>\n      <td>1082</td>\n      <td>1082.208995</td>\n      <td>2125.483990</td>\n      <td>1082.200436</td>\n      <td>4570.516010</td>\n      <td>657.235129</td>\n      <td>251.432911</td>\n      <td>123.634783</td>\n      <td>657.235129</td>\n      <td>1073</td>\n      <td>...</td>\n      <td>0.0011</td>\n      <td>95.61000</td>\n      <td>0.090000</td>\n      <td>2.498300e+02</td>\n      <td>B-</td>\n      <td>98.670</td>\n      <td>657.8</td>\n      <td>True</td>\n      <td>True</td>\n      <td>-0.055762</td>\n    </tr>\n    <tr>\n      <th>1566</th>\n      <td>1088</td>\n      <td>1088.722180</td>\n      <td>401.081225</td>\n      <td>1088.105023</td>\n      <td>2556.918775</td>\n      <td>97.223236</td>\n      <td>59.126652</td>\n      <td>28.889179</td>\n      <td>69.221096</td>\n      <td>1086</td>\n      <td>...</td>\n      <td>0.0030</td>\n      <td>85.10000</td>\n      <td>0.200000</td>\n      <td>3.008000e+01</td>\n      <td>B-</td>\n      <td>100.000</td>\n      <td>661.7</td>\n      <td>True</td>\n      <td>True</td>\n      <td>-0.345907</td>\n    </tr>\n    <tr>\n      <th>1665</th>\n      <td>1115</td>\n      <td>1114.774649</td>\n      <td>176.695976</td>\n      <td>1115.022855</td>\n      <td>1999.057501</td>\n      <td>67.734059</td>\n      <td>24.189260</td>\n      <td>36.845929</td>\n      <td>67.734059</td>\n      <td>1112</td>\n      <td>...</td>\n      <td>0.0012</td>\n      <td>10.70000</td>\n      <td>0.050000</td>\n      <td>2.498300e+02</td>\n      <td>B-</td>\n      <td>98.670</td>\n      <td>657.8</td>\n      <td>False</td>\n      <td>True</td>\n      <td>0.132280</td>\n    </tr>\n    <tr>\n      <th>1785</th>\n      <td>1163</td>\n      <td>1162.050038</td>\n      <td>336.295814</td>\n      <td>1161.943753</td>\n      <td>2591.560129</td>\n      <td>85.795902</td>\n      <td>0.176165</td>\n      <td>73.885618</td>\n      <td>85.795902</td>\n      <td>1152</td>\n      <td>...</td>\n      <td>0.0015</td>\n      <td>16.69000</td>\n      <td>0.070000</td>\n      <td>2.498300e+02</td>\n      <td>B-</td>\n      <td>98.670</td>\n      <td>657.8</td>\n      <td>False</td>\n      <td>True</td>\n      <td>-0.260342</td>\n    </tr>\n    <tr>\n      <th>1916</th>\n      <td>1189</td>\n      <td>1189.227086</td>\n      <td>160.747926</td>\n      <td>1189.208186</td>\n      <td>1865.322724</td>\n      <td>64.537729</td>\n      <td>34.156127</td>\n      <td>10.853057</td>\n      <td>64.537729</td>\n      <td>1186</td>\n      <td>...</td>\n      <td>0.0050</td>\n      <td>1.76855</td>\n      <td>0.026749</td>\n      <td>8.025200e+00</td>\n      <td>B-</td>\n      <td>100.000</td>\n      <td>364.5</td>\n      <td>False</td>\n      <td>True</td>\n      <td>0.159063</td>\n    </tr>\n    <tr>\n      <th>2023</th>\n      <td>1256</td>\n      <td>1256.302992</td>\n      <td>405.106118</td>\n      <td>1256.297717</td>\n      <td>2257.095859</td>\n      <td>134.196651</td>\n      <td>62.170938</td>\n      <td>26.847523</td>\n      <td>134.196651</td>\n      <td>1253</td>\n      <td>...</td>\n      <td>0.0017</td>\n      <td>22.60000</td>\n      <td>0.070000</td>\n      <td>2.498300e+02</td>\n      <td>B-</td>\n      <td>98.670</td>\n      <td>657.8</td>\n      <td>False</td>\n      <td>True</td>\n      <td>0.108798</td>\n    </tr>\n    <tr>\n      <th>2128</th>\n      <td>1333</td>\n      <td>1332.711271</td>\n      <td>2591.874119</td>\n      <td>1332.650344</td>\n      <td>4761.752838</td>\n      <td>751.356428</td>\n      <td>92.344345</td>\n      <td>268.763363</td>\n      <td>751.356428</td>\n      <td>1328</td>\n      <td>...</td>\n      <td>0.0020</td>\n      <td>99.45000</td>\n      <td>0.010000</td>\n      <td>7.086000e+01</td>\n      <td>EC+B+</td>\n      <td>100.000</td>\n      <td>810.8</td>\n      <td>True</td>\n      <td>True</td>\n      <td>-0.069229</td>\n    </tr>\n    <tr>\n      <th>2245</th>\n      <td>1372</td>\n      <td>1372.729536</td>\n      <td>280.179798</td>\n      <td>1372.499811</td>\n      <td>3213.742890</td>\n      <td>65.116362</td>\n      <td>25.123727</td>\n      <td>5.880614</td>\n      <td>65.116362</td>\n      <td>1369</td>\n      <td>...</td>\n      <td>0.0030</td>\n      <td>99.97600</td>\n      <td>0.001000</td>\n      <td>3.122000e+02</td>\n      <td>EC+B+</td>\n      <td>100.000</td>\n      <td>834.8</td>\n      <td>True</td>\n      <td>True</td>\n      <td>0.183294</td>\n    </tr>\n    <tr>\n      <th>2379</th>\n      <td>1454</td>\n      <td>1453.734014</td>\n      <td>1344.932670</td>\n      <td>1453.640093</td>\n      <td>3338.139458</td>\n      <td>367.505693</td>\n      <td>29.182944</td>\n      <td>101.857014</td>\n      <td>367.505693</td>\n      <td>1449</td>\n      <td>...</td>\n      <td>0.0013</td>\n      <td>75.00000</td>\n      <td>1.100000</td>\n      <td>2.498300e+02</td>\n      <td>B-</td>\n      <td>98.670</td>\n      <td>657.8</td>\n      <td>False</td>\n      <td>True</td>\n      <td>-0.084441</td>\n    </tr>\n    <tr>\n      <th>2589</th>\n      <td>1498</td>\n      <td>1497.331339</td>\n      <td>583.585709</td>\n      <td>1497.348693</td>\n      <td>2898.191988</td>\n      <td>142.666499</td>\n      <td>25.140725</td>\n      <td>51.889893</td>\n      <td>142.666499</td>\n      <td>1494</td>\n      <td>...</td>\n      <td>0.0040</td>\n      <td>25.80000</td>\n      <td>0.400000</td>\n      <td>6.150000e+00</td>\n      <td>B-</td>\n      <td>100.000</td>\n      <td>911.6</td>\n      <td>False</td>\n      <td>True</td>\n      <td>0.087608</td>\n    </tr>\n    <tr>\n      <th>2616</th>\n      <td>1540</td>\n      <td>1540.041676</td>\n      <td>709.425445</td>\n      <td>1539.865159</td>\n      <td>2764.574555</td>\n      <td>175.614136</td>\n      <td>63.155763</td>\n      <td>38.866820</td>\n      <td>175.614136</td>\n      <td>1534</td>\n      <td>...</td>\n      <td>0.0030</td>\n      <td>35.00000</td>\n      <td>0.300000</td>\n      <td>2.498300e+02</td>\n      <td>B-</td>\n      <td>98.670</td>\n      <td>657.8</td>\n      <td>False</td>\n      <td>True</td>\n      <td>-0.223803</td>\n    </tr>\n    <tr>\n      <th>2945</th>\n      <td>1592</td>\n      <td>1591.886380</td>\n      <td>345.779231</td>\n      <td>1591.826779</td>\n      <td>1952.269003</td>\n      <td>99.327543</td>\n      <td>26.119164</td>\n      <td>25.897229</td>\n      <td>99.327543</td>\n      <td>1588</td>\n      <td>...</td>\n      <td>0.0170</td>\n      <td>15.80000</td>\n      <td>0.300000</td>\n      <td>6.150000e+00</td>\n      <td>B-</td>\n      <td>100.000</td>\n      <td>911.6</td>\n      <td>False</td>\n      <td>True</td>\n      <td>0.028754</td>\n    </tr>\n    <tr>\n      <th>2957</th>\n      <td>1832</td>\n      <td>1831.914493</td>\n      <td>472.981339</td>\n      <td>1832.180142</td>\n      <td>2007.018661</td>\n      <td>108.310877</td>\n      <td>16.197018</td>\n      <td>27.833974</td>\n      <td>108.310877</td>\n      <td>1816</td>\n      <td>...</td>\n      <td>0.0020</td>\n      <td>50.04000</td>\n      <td>0.100000</td>\n      <td>2.439300e+02</td>\n      <td>EC+B+</td>\n      <td>100.000</td>\n      <td>1115.5</td>\n      <td>True</td>\n      <td>True</td>\n      <td>0.266873</td>\n    </tr>\n    <tr>\n      <th>3153</th>\n      <td>1840</td>\n      <td>1839.413659</td>\n      <td>319.008013</td>\n      <td>1839.453015</td>\n      <td>1418.991987</td>\n      <td>88.356843</td>\n      <td>22.173774</td>\n      <td>48.880461</td>\n      <td>74.557849</td>\n      <td>1836</td>\n      <td>...</td>\n      <td>0.0060</td>\n      <td>14.90000</td>\n      <td>0.080000</td>\n      <td>1.971000e+01</td>\n      <td>B-</td>\n      <td>99.979</td>\n      <td>609.3</td>\n      <td>False</td>\n      <td>True</td>\n      <td>-0.045999</td>\n    </tr>\n    <tr>\n      <th>3191</th>\n      <td>1926</td>\n      <td>1926.179506</td>\n      <td>6398.833656</td>\n      <td>1926.124036</td>\n      <td>7679.166344</td>\n      <td>1698.898100</td>\n      <td>468.438806</td>\n      <td>262.626878</td>\n      <td>1698.898100</td>\n      <td>1916</td>\n      <td>...</td>\n      <td>0.0030</td>\n      <td>99.85000</td>\n      <td>0.030000</td>\n      <td>1.925280e+03</td>\n      <td>B-</td>\n      <td>100.000</td>\n      <td>1332.5</td>\n      <td>False</td>\n      <td>True</td>\n      <td>-0.043459</td>\n    </tr>\n    <tr>\n      <th>3391</th>\n      <td>2032</td>\n      <td>2032.335868</td>\n      <td>150.062903</td>\n      <td>2032.321879</td>\n      <td>865.937097</td>\n      <td>39.200234</td>\n      <td>20.187085</td>\n      <td>6.828505</td>\n      <td>39.200234</td>\n      <td>2028</td>\n      <td>...</td>\n      <td>0.0100</td>\n      <td>5.83000</td>\n      <td>0.030000</td>\n      <td>1.971000e+01</td>\n      <td>B-</td>\n      <td>99.979</td>\n      <td>609.3</td>\n      <td>False</td>\n      <td>True</td>\n      <td>-0.075452</td>\n    </tr>\n    <tr>\n      <th>3428</th>\n      <td>2187</td>\n      <td>2186.952804</td>\n      <td>5848.127892</td>\n      <td>2186.881900</td>\n      <td>6473.872108</td>\n      <td>1402.774453</td>\n      <td>223.650380</td>\n      <td>221.450518</td>\n      <td>1402.774453</td>\n      <td>2177</td>\n      <td>...</td>\n      <td>0.0040</td>\n      <td>99.98260</td>\n      <td>0.000600</td>\n      <td>1.925280e+03</td>\n      <td>B-</td>\n      <td>100.000</td>\n      <td>1332.5</td>\n      <td>True</td>\n      <td>True</td>\n      <td>-0.047526</td>\n    </tr>\n    <tr>\n      <th>3540</th>\n      <td>2247</td>\n      <td>2246.361081</td>\n      <td>170.789713</td>\n      <td>2246.149438</td>\n      <td>610.315531</td>\n      <td>57.090852</td>\n      <td>27.132936</td>\n      <td>33.922184</td>\n      <td>57.090852</td>\n      <td>2242</td>\n      <td>...</td>\n      <td>0.0050</td>\n      <td>99.99400</td>\n      <td>0.002000</td>\n      <td>1.495600e+01</td>\n      <td>B-</td>\n      <td>100.000</td>\n      <td>1368.6</td>\n      <td>True</td>\n      <td>True</td>\n      <td>0.016631</td>\n    </tr>\n    <tr>\n      <th>3747</th>\n      <td>2262</td>\n      <td>2260.909926</td>\n      <td>107.824449</td>\n      <td>2261.366983</td>\n      <td>633.663193</td>\n      <td>25.844698</td>\n      <td>8.081059</td>\n      <td>17.948122</td>\n      <td>25.844698</td>\n      <td>2257</td>\n      <td>...</td>\n      <td>0.0120</td>\n      <td>3.98500</td>\n      <td>0.022000</td>\n      <td>1.971000e+01</td>\n      <td>B-</td>\n      <td>99.979</td>\n      <td>609.3</td>\n      <td>False</td>\n      <td>True</td>\n      <td>0.266563</td>\n    </tr>\n    <tr>\n      <th>3797</th>\n      <td>2272</td>\n      <td>2271.692429</td>\n      <td>360.400194</td>\n      <td>2271.722928</td>\n      <td>921.547003</td>\n      <td>83.645558</td>\n      <td>7.173466</td>\n      <td>18.857337</td>\n      <td>83.645558</td>\n      <td>2267</td>\n      <td>...</td>\n      <td>0.0020</td>\n      <td>25.10000</td>\n      <td>0.500000</td>\n      <td>2.498300e+02</td>\n      <td>B-</td>\n      <td>98.670</td>\n      <td>657.8</td>\n      <td>False</td>\n      <td>True</td>\n      <td>-0.032783</td>\n    </tr>\n    <tr>\n      <th>3959</th>\n      <td>2397</td>\n      <td>2397.354424</td>\n      <td>3206.949995</td>\n      <td>2397.267432</td>\n      <td>3637.050005</td>\n      <td>777.060380</td>\n      <td>263.219632</td>\n      <td>21.786446</td>\n      <td>777.060380</td>\n      <td>2389</td>\n      <td>...</td>\n      <td>0.0050</td>\n      <td>10.66000</td>\n      <td>0.130000</td>\n      <td>1.248000e+09</td>\n      <td>EC+B+</td>\n      <td>10.720</td>\n      <td>1460.8</td>\n      <td>True</td>\n      <td>True</td>\n      <td>0.114079</td>\n    </tr>\n    <tr>\n      <th>4035</th>\n      <td>2470</td>\n      <td>2469.534452</td>\n      <td>183.362379</td>\n      <td>2469.277794</td>\n      <td>470.637621</td>\n      <td>47.058621</td>\n      <td>3.040656</td>\n      <td>22.974186</td>\n      <td>47.058621</td>\n      <td>2460</td>\n      <td>...</td>\n      <td>0.0020</td>\n      <td>13.33000</td>\n      <td>0.150000</td>\n      <td>2.498300e+02</td>\n      <td>B-</td>\n      <td>98.670</td>\n      <td>657.8</td>\n      <td>False</td>\n      <td>True</td>\n      <td>-0.115772</td>\n    </tr>\n    <tr>\n      <th>4244</th>\n      <td>2606</td>\n      <td>2605.351065</td>\n      <td>131.163569</td>\n      <td>2605.622131</td>\n      <td>358.836431</td>\n      <td>42.782923</td>\n      <td>20.020247</td>\n      <td>26.989344</td>\n      <td>42.782923</td>\n      <td>2600</td>\n      <td>...</td>\n      <td>0.0300</td>\n      <td>3.22000</td>\n      <td>0.080000</td>\n      <td>6.150000e+00</td>\n      <td>B-</td>\n      <td>100.000</td>\n      <td>911.6</td>\n      <td>False</td>\n      <td>True</td>\n      <td>-0.021038</td>\n    </tr>\n    <tr>\n      <th>4579</th>\n      <td>2894</td>\n      <td>2894.703133</td>\n      <td>397.650084</td>\n      <td>2894.518455</td>\n      <td>654.835127</td>\n      <td>91.256400</td>\n      <td>36.028978</td>\n      <td>12.974715</td>\n      <td>91.256400</td>\n      <td>2889</td>\n      <td>...</td>\n      <td>0.0140</td>\n      <td>15.29000</td>\n      <td>0.080000</td>\n      <td>1.971000e+01</td>\n      <td>B-</td>\n      <td>99.979</td>\n      <td>609.3</td>\n      <td>False</td>\n      <td>True</td>\n      <td>0.113363</td>\n    </tr>\n    <tr>\n      <th>4698</th>\n      <td>3030</td>\n      <td>3030.293398</td>\n      <td>54.452120</td>\n      <td>3030.019570</td>\n      <td>153.547880</td>\n      <td>23.091528</td>\n      <td>19.009584</td>\n      <td>9.993320</td>\n      <td>23.091528</td>\n      <td>3021</td>\n      <td>...</td>\n      <td>0.0170</td>\n      <td>2.02700</td>\n      <td>0.016000</td>\n      <td>1.971000e+01</td>\n      <td>B-</td>\n      <td>99.979</td>\n      <td>609.3</td>\n      <td>False</td>\n      <td>True</td>\n      <td>-0.082704</td>\n    </tr>\n    <tr>\n      <th>4936</th>\n      <td>3615</td>\n      <td>3614.038497</td>\n      <td>124.857782</td>\n      <td>3614.158312</td>\n      <td>343.648757</td>\n      <td>28.476903</td>\n      <td>6.988944</td>\n      <td>9.008367</td>\n      <td>28.476903</td>\n      <td>3611</td>\n      <td>...</td>\n      <td>0.0400</td>\n      <td>4.92000</td>\n      <td>0.030000</td>\n      <td>1.971000e+01</td>\n      <td>B-</td>\n      <td>99.979</td>\n      <td>609.3</td>\n      <td>False</td>\n      <td>True</td>\n      <td>-0.057308</td>\n    </tr>\n  </tbody>\n</table>\n<p>31 rows × 29 columns</p>\n</div>"
     },
     "execution_count": 54,
     "metadata": {},
     "output_type": "execute_result"
    }
   ]
  },
  {
   "cell_type": "code",
   "source": [
    "\n"
   ],
   "metadata": {
    "collapsed": false,
    "ExecuteTime": {
     "end_time": "2023-10-18T16:34:32.758051584Z",
     "start_time": "2023-10-18T16:34:32.477093113Z"
    }
   },
   "execution_count": 54,
   "outputs": []
  },
  {
   "cell_type": "code",
   "source": [
    "lv_time=a_spec.lv_time\n",
    "# Sample size (L, kg, g etc.)\n",
    "samp_size = 0.1\n",
    "sam_descr = a_spec.sam_descr\n",
    "source_datetime = a_spec.source_datetime\n",
    "start_datetime = a_spec.start_datetime"
   ],
   "metadata": {
    "tags": [],
    "collapsed": false,
    "trusted": true,
    "ExecuteTime": {
     "end_time": "2023-10-18T16:34:32.758313495Z",
     "start_time": "2023-10-18T16:34:32.477464668Z"
    }
   },
   "execution_count": 55,
   "outputs": []
  },
  {
   "cell_type": "code",
   "source": [],
   "metadata": {
    "ExecuteTime": {
     "end_time": "2023-10-18T16:34:32.758446724Z",
     "start_time": "2023-10-18T16:34:32.485562574Z"
    }
   },
   "execution_count": 55,
   "outputs": []
  },
  {
   "cell_type": "code",
   "source": [],
   "metadata": {
    "trusted": true,
    "tags": [],
    "ExecuteTime": {
     "end_time": "2023-10-18T16:34:32.758632174Z",
     "start_time": "2023-10-18T16:34:32.492312363Z"
    }
   },
   "execution_count": 55,
   "outputs": []
  },
  {
   "cell_type": "code",
   "source": [
    "df_result[\"disintegr\"] = df_result.rough_sums / (en_eff(df_result.energy) * 1e-4 * df_result.intensity)\n",
    "df_result['activity_conc'] = df_result.disintegr / (lv_time*samp_size)\n",
    "# 2023-Sep-21:\n",
    "# AQUI: fazer a propagação de incerteza de activity_conc\n"
   ],
   "metadata": {
    "trusted": true,
    "tags": [],
    "ExecuteTime": {
     "end_time": "2023-10-18T16:34:32.932110439Z",
     "start_time": "2023-10-18T16:34:32.505794956Z"
    }
   },
   "execution_count": 56,
   "outputs": []
  },
  {
   "cell_type": "code",
   "execution_count": 57,
   "outputs": [
    {
     "data": {
      "text/plain": "      peaks   fwhm_centr   rough_sums    centroids     variances       pk_hei  \\\n543     396   396.401754   630.310441   396.426778  10404.641509   162.845302   \n667     489   488.997063   249.976688   488.967375   4072.023312   125.089174   \n786     581   581.463638   430.396173   581.647407   5405.821287   147.276132   \n1129    960   960.088168   483.773366   960.065118   3335.841582   148.624963   \n1260   1003  1002.888165   769.886444  1002.931019   3458.113556   220.739274   \n1428   1082  1082.208995  2125.483990  1082.200436   4570.516010   657.235129   \n1566   1088  1088.722180   401.081225  1088.105023   2556.918775    97.223236   \n1665   1115  1114.774649   176.695976  1115.022855   1999.057501    67.734059   \n1785   1163  1162.050038   336.295814  1161.943753   2591.560129    85.795902   \n1916   1189  1189.227086   160.747926  1189.208186   1865.322724    64.537729   \n2023   1256  1256.302992   405.106118  1256.297717   2257.095859   134.196651   \n2128   1333  1332.711271  2591.874119  1332.650344   4761.752838   751.356428   \n2245   1372  1372.729536   280.179798  1372.499811   3213.742890    65.116362   \n2379   1454  1453.734014  1344.932670  1453.640093   3338.139458   367.505693   \n2589   1498  1497.331339   583.585709  1497.348693   2898.191988   142.666499   \n2616   1540  1540.041676   709.425445  1539.865159   2764.574555   175.614136   \n2945   1592  1591.886380   345.779231  1591.826779   1952.269003    99.327543   \n2957   1832  1831.914493   472.981339  1832.180142   2007.018661   108.310877   \n3153   1840  1839.413659   319.008013  1839.453015   1418.991987    88.356843   \n3191   1926  1926.179506  6398.833656  1926.124036   7679.166344  1698.898100   \n3391   2032  2032.335868   150.062903  2032.321879    865.937097    39.200234   \n3428   2187  2186.952804  5848.127892  2186.881900   6473.872108  1402.774453   \n3540   2247  2246.361081   170.789713  2246.149438    610.315531    57.090852   \n3747   2262  2260.909926   107.824449  2261.366983    633.663193    25.844698   \n3797   2272  2271.692429   360.400194  2271.722928    921.547003    83.645558   \n3959   2397  2397.354424  3206.949995  2397.267432   3637.050005   777.060380   \n4035   2470  2469.534452   183.362379  2469.277794    470.637621    47.058621   \n4244   2606  2605.351065   131.163569  2605.622131    358.836431    42.782923   \n4579   2894  2894.703133   397.650084  2894.518455    654.835127    91.256400   \n4698   3030  3030.293398    54.452120  3030.019570    153.547880    23.091528   \n4936   3615  3614.038497   124.857782  3614.158312    343.648757    28.476903   \n\n          lf_thr      rg_thr       promns  lf_bas  ...     half_life  decay  \\\n543    70.909899   49.239266   162.845302     392  ...  1.062200e+01     B-   \n667    88.241458   88.978919   125.089174     485  ...  2.706000e+01     B-   \n786    89.934593    1.069452   147.276132     579  ...  2.706000e+01     B-   \n1129   51.372759   40.677023   148.624963     955  ...  3.053000e+00     B-   \n1260   40.375893   77.703349   220.739274     990  ...  1.971000e+01     B-   \n1428  251.432911  123.634783   657.235129    1073  ...  2.498300e+02     B-   \n1566   59.126652   28.889179    69.221096    1086  ...  3.008000e+01     B-   \n1665   24.189260   36.845929    67.734059    1112  ...  2.498300e+02     B-   \n1785    0.176165   73.885618    85.795902    1152  ...  2.498300e+02     B-   \n1916   34.156127   10.853057    64.537729    1186  ...  8.025200e+00     B-   \n2023   62.170938   26.847523   134.196651    1253  ...  2.498300e+02     B-   \n2128   92.344345  268.763363   751.356428    1328  ...  7.086000e+01  EC+B+   \n2245   25.123727    5.880614    65.116362    1369  ...  3.122000e+02  EC+B+   \n2379   29.182944  101.857014   367.505693    1449  ...  2.498300e+02     B-   \n2589   25.140725   51.889893   142.666499    1494  ...  6.150000e+00     B-   \n2616   63.155763   38.866820   175.614136    1534  ...  2.498300e+02     B-   \n2945   26.119164   25.897229    99.327543    1588  ...  6.150000e+00     B-   \n2957   16.197018   27.833974   108.310877    1816  ...  2.439300e+02  EC+B+   \n3153   22.173774   48.880461    74.557849    1836  ...  1.971000e+01     B-   \n3191  468.438806  262.626878  1698.898100    1916  ...  1.925280e+03     B-   \n3391   20.187085    6.828505    39.200234    2028  ...  1.971000e+01     B-   \n3428  223.650380  221.450518  1402.774453    2177  ...  1.925280e+03     B-   \n3540   27.132936   33.922184    57.090852    2242  ...  1.495600e+01     B-   \n3747    8.081059   17.948122    25.844698    2257  ...  1.971000e+01     B-   \n3797    7.173466   18.857337    83.645558    2267  ...  2.498300e+02     B-   \n3959  263.219632   21.786446   777.060380    2389  ...  1.248000e+09  EC+B+   \n4035    3.040656   22.974186    47.058621    2460  ...  2.498300e+02     B-   \n4244   20.020247   26.989344    42.782923    2600  ...  6.150000e+00     B-   \n4579   36.028978   12.974715    91.256400    2889  ...  1.971000e+01     B-   \n4698   19.009584    9.993320    23.091528    3021  ...  1.971000e+01     B-   \n4936    6.988944    9.008367    28.476903    3611  ...  1.971000e+01     B-   \n\n      decay_%  key_gamma  is_key_gamma  is_to_consider  delta_en  \\\n543   100.000      238.6          True            True  0.138932   \n667   100.000      351.9         False            True  0.081981   \n786   100.000      351.9          True            True -0.006656   \n1129  100.000      583.2          True            True -0.090700   \n1260   99.979      609.3          True            True -0.039338   \n1428   98.670      657.8          True            True -0.055762   \n1566  100.000      661.7          True            True -0.345907   \n1665   98.670      657.8         False            True  0.132280   \n1785   98.670      657.8         False            True -0.260342   \n1916  100.000      364.5         False            True  0.159063   \n2023   98.670      657.8         False            True  0.108798   \n2128  100.000      810.8          True            True -0.069229   \n2245  100.000      834.8          True            True  0.183294   \n2379   98.670      657.8         False            True -0.084441   \n2589  100.000      911.6         False            True  0.087608   \n2616   98.670      657.8         False            True -0.223803   \n2945  100.000      911.6         False            True  0.028754   \n2957  100.000     1115.5          True            True  0.266873   \n3153   99.979      609.3         False            True -0.045999   \n3191  100.000     1332.5         False            True -0.043459   \n3391   99.979      609.3         False            True -0.075452   \n3428  100.000     1332.5          True            True -0.047526   \n3540  100.000     1368.6          True            True  0.016631   \n3747   99.979      609.3         False            True  0.266563   \n3797   98.670      657.8         False            True -0.032783   \n3959   10.720     1460.8          True            True  0.114079   \n4035   98.670      657.8         False            True -0.115772   \n4244  100.000      911.6         False            True -0.021038   \n4579   99.979      609.3         False            True  0.113363   \n4698   99.979      609.3         False            True -0.082704   \n4936   99.979      609.3         False            True -0.057308   \n\n         disintegr  activity_conc  acti_conc_unc  \n543   7.324243e+04      14.648486       0.028856  \n667   8.502770e+04      17.005540       0.026439  \n786   8.929519e+04      17.859037       0.020093  \n1129  6.280187e+04      12.560374       0.005293  \n1260  1.925320e+05      38.506404       0.012298  \n1428  2.655030e+05      53.100602       0.001590  \n1566  5.650064e+04      11.300127       0.003348  \n1665  2.009797e+05      40.195943       0.047529  \n1785  2.517501e+05      50.350025       0.031967  \n1916  1.151661e+06     230.332119       0.936011  \n2023  2.349020e+05      46.980399       0.017065  \n2128  3.539912e+05      70.798230       0.000190  \n2245  3.873793e+04       7.747586       0.000016  \n2379  2.566186e+05      51.323719       0.032337  \n2589  3.294775e+05      65.895503       0.094244  \n2616  3.003424e+05      60.068488       0.038160  \n2945  3.308437e+05      66.168749       0.160542  \n2957  1.561311e+05      31.226226       0.005911  \n3153  3.546413e+05      70.928257       0.044969  \n3191  1.094768e+06     218.953530       0.000901  \n3391  4.565165e+05      91.303296       0.092132  \n3428  1.095400e+06     219.080004       0.000018  \n3540  3.266259e+04       6.532518       0.000019  \n3747  5.201526e+05     104.030525       0.134081  \n3797  2.770920e+05      55.418405       0.092987  \n3959  6.071168e+06    1214.233593       0.278465  \n4035  2.849450e+05      56.989002       0.075873  \n4244  8.869047e+05     177.380940       0.636467  \n4579  6.315313e+05     126.306270       0.042528  \n4698  6.879376e+05     137.587513       0.247145  \n4936  8.285796e+05     165.715924       0.150024  \n\n[31 rows x 32 columns]",
      "text/html": "<div>\n<style scoped>\n    .dataframe tbody tr th:only-of-type {\n        vertical-align: middle;\n    }\n\n    .dataframe tbody tr th {\n        vertical-align: top;\n    }\n\n    .dataframe thead th {\n        text-align: right;\n    }\n</style>\n<table border=\"1\" class=\"dataframe\">\n  <thead>\n    <tr style=\"text-align: right;\">\n      <th></th>\n      <th>peaks</th>\n      <th>fwhm_centr</th>\n      <th>rough_sums</th>\n      <th>centroids</th>\n      <th>variances</th>\n      <th>pk_hei</th>\n      <th>lf_thr</th>\n      <th>rg_thr</th>\n      <th>promns</th>\n      <th>lf_bas</th>\n      <th>...</th>\n      <th>half_life</th>\n      <th>decay</th>\n      <th>decay_%</th>\n      <th>key_gamma</th>\n      <th>is_key_gamma</th>\n      <th>is_to_consider</th>\n      <th>delta_en</th>\n      <th>disintegr</th>\n      <th>activity_conc</th>\n      <th>acti_conc_unc</th>\n    </tr>\n  </thead>\n  <tbody>\n    <tr>\n      <th>543</th>\n      <td>396</td>\n      <td>396.401754</td>\n      <td>630.310441</td>\n      <td>396.426778</td>\n      <td>10404.641509</td>\n      <td>162.845302</td>\n      <td>70.909899</td>\n      <td>49.239266</td>\n      <td>162.845302</td>\n      <td>392</td>\n      <td>...</td>\n      <td>1.062200e+01</td>\n      <td>B-</td>\n      <td>100.000</td>\n      <td>238.6</td>\n      <td>True</td>\n      <td>True</td>\n      <td>0.138932</td>\n      <td>7.324243e+04</td>\n      <td>14.648486</td>\n      <td>0.028856</td>\n    </tr>\n    <tr>\n      <th>667</th>\n      <td>489</td>\n      <td>488.997063</td>\n      <td>249.976688</td>\n      <td>488.967375</td>\n      <td>4072.023312</td>\n      <td>125.089174</td>\n      <td>88.241458</td>\n      <td>88.978919</td>\n      <td>125.089174</td>\n      <td>485</td>\n      <td>...</td>\n      <td>2.706000e+01</td>\n      <td>B-</td>\n      <td>100.000</td>\n      <td>351.9</td>\n      <td>False</td>\n      <td>True</td>\n      <td>0.081981</td>\n      <td>8.502770e+04</td>\n      <td>17.005540</td>\n      <td>0.026439</td>\n    </tr>\n    <tr>\n      <th>786</th>\n      <td>581</td>\n      <td>581.463638</td>\n      <td>430.396173</td>\n      <td>581.647407</td>\n      <td>5405.821287</td>\n      <td>147.276132</td>\n      <td>89.934593</td>\n      <td>1.069452</td>\n      <td>147.276132</td>\n      <td>579</td>\n      <td>...</td>\n      <td>2.706000e+01</td>\n      <td>B-</td>\n      <td>100.000</td>\n      <td>351.9</td>\n      <td>True</td>\n      <td>True</td>\n      <td>-0.006656</td>\n      <td>8.929519e+04</td>\n      <td>17.859037</td>\n      <td>0.020093</td>\n    </tr>\n    <tr>\n      <th>1129</th>\n      <td>960</td>\n      <td>960.088168</td>\n      <td>483.773366</td>\n      <td>960.065118</td>\n      <td>3335.841582</td>\n      <td>148.624963</td>\n      <td>51.372759</td>\n      <td>40.677023</td>\n      <td>148.624963</td>\n      <td>955</td>\n      <td>...</td>\n      <td>3.053000e+00</td>\n      <td>B-</td>\n      <td>100.000</td>\n      <td>583.2</td>\n      <td>True</td>\n      <td>True</td>\n      <td>-0.090700</td>\n      <td>6.280187e+04</td>\n      <td>12.560374</td>\n      <td>0.005293</td>\n    </tr>\n    <tr>\n      <th>1260</th>\n      <td>1003</td>\n      <td>1002.888165</td>\n      <td>769.886444</td>\n      <td>1002.931019</td>\n      <td>3458.113556</td>\n      <td>220.739274</td>\n      <td>40.375893</td>\n      <td>77.703349</td>\n      <td>220.739274</td>\n      <td>990</td>\n      <td>...</td>\n      <td>1.971000e+01</td>\n      <td>B-</td>\n      <td>99.979</td>\n      <td>609.3</td>\n      <td>True</td>\n      <td>True</td>\n      <td>-0.039338</td>\n      <td>1.925320e+05</td>\n      <td>38.506404</td>\n      <td>0.012298</td>\n    </tr>\n    <tr>\n      <th>1428</th>\n      <td>1082</td>\n      <td>1082.208995</td>\n      <td>2125.483990</td>\n      <td>1082.200436</td>\n      <td>4570.516010</td>\n      <td>657.235129</td>\n      <td>251.432911</td>\n      <td>123.634783</td>\n      <td>657.235129</td>\n      <td>1073</td>\n      <td>...</td>\n      <td>2.498300e+02</td>\n      <td>B-</td>\n      <td>98.670</td>\n      <td>657.8</td>\n      <td>True</td>\n      <td>True</td>\n      <td>-0.055762</td>\n      <td>2.655030e+05</td>\n      <td>53.100602</td>\n      <td>0.001590</td>\n    </tr>\n    <tr>\n      <th>1566</th>\n      <td>1088</td>\n      <td>1088.722180</td>\n      <td>401.081225</td>\n      <td>1088.105023</td>\n      <td>2556.918775</td>\n      <td>97.223236</td>\n      <td>59.126652</td>\n      <td>28.889179</td>\n      <td>69.221096</td>\n      <td>1086</td>\n      <td>...</td>\n      <td>3.008000e+01</td>\n      <td>B-</td>\n      <td>100.000</td>\n      <td>661.7</td>\n      <td>True</td>\n      <td>True</td>\n      <td>-0.345907</td>\n      <td>5.650064e+04</td>\n      <td>11.300127</td>\n      <td>0.003348</td>\n    </tr>\n    <tr>\n      <th>1665</th>\n      <td>1115</td>\n      <td>1114.774649</td>\n      <td>176.695976</td>\n      <td>1115.022855</td>\n      <td>1999.057501</td>\n      <td>67.734059</td>\n      <td>24.189260</td>\n      <td>36.845929</td>\n      <td>67.734059</td>\n      <td>1112</td>\n      <td>...</td>\n      <td>2.498300e+02</td>\n      <td>B-</td>\n      <td>98.670</td>\n      <td>657.8</td>\n      <td>False</td>\n      <td>True</td>\n      <td>0.132280</td>\n      <td>2.009797e+05</td>\n      <td>40.195943</td>\n      <td>0.047529</td>\n    </tr>\n    <tr>\n      <th>1785</th>\n      <td>1163</td>\n      <td>1162.050038</td>\n      <td>336.295814</td>\n      <td>1161.943753</td>\n      <td>2591.560129</td>\n      <td>85.795902</td>\n      <td>0.176165</td>\n      <td>73.885618</td>\n      <td>85.795902</td>\n      <td>1152</td>\n      <td>...</td>\n      <td>2.498300e+02</td>\n      <td>B-</td>\n      <td>98.670</td>\n      <td>657.8</td>\n      <td>False</td>\n      <td>True</td>\n      <td>-0.260342</td>\n      <td>2.517501e+05</td>\n      <td>50.350025</td>\n      <td>0.031967</td>\n    </tr>\n    <tr>\n      <th>1916</th>\n      <td>1189</td>\n      <td>1189.227086</td>\n      <td>160.747926</td>\n      <td>1189.208186</td>\n      <td>1865.322724</td>\n      <td>64.537729</td>\n      <td>34.156127</td>\n      <td>10.853057</td>\n      <td>64.537729</td>\n      <td>1186</td>\n      <td>...</td>\n      <td>8.025200e+00</td>\n      <td>B-</td>\n      <td>100.000</td>\n      <td>364.5</td>\n      <td>False</td>\n      <td>True</td>\n      <td>0.159063</td>\n      <td>1.151661e+06</td>\n      <td>230.332119</td>\n      <td>0.936011</td>\n    </tr>\n    <tr>\n      <th>2023</th>\n      <td>1256</td>\n      <td>1256.302992</td>\n      <td>405.106118</td>\n      <td>1256.297717</td>\n      <td>2257.095859</td>\n      <td>134.196651</td>\n      <td>62.170938</td>\n      <td>26.847523</td>\n      <td>134.196651</td>\n      <td>1253</td>\n      <td>...</td>\n      <td>2.498300e+02</td>\n      <td>B-</td>\n      <td>98.670</td>\n      <td>657.8</td>\n      <td>False</td>\n      <td>True</td>\n      <td>0.108798</td>\n      <td>2.349020e+05</td>\n      <td>46.980399</td>\n      <td>0.017065</td>\n    </tr>\n    <tr>\n      <th>2128</th>\n      <td>1333</td>\n      <td>1332.711271</td>\n      <td>2591.874119</td>\n      <td>1332.650344</td>\n      <td>4761.752838</td>\n      <td>751.356428</td>\n      <td>92.344345</td>\n      <td>268.763363</td>\n      <td>751.356428</td>\n      <td>1328</td>\n      <td>...</td>\n      <td>7.086000e+01</td>\n      <td>EC+B+</td>\n      <td>100.000</td>\n      <td>810.8</td>\n      <td>True</td>\n      <td>True</td>\n      <td>-0.069229</td>\n      <td>3.539912e+05</td>\n      <td>70.798230</td>\n      <td>0.000190</td>\n    </tr>\n    <tr>\n      <th>2245</th>\n      <td>1372</td>\n      <td>1372.729536</td>\n      <td>280.179798</td>\n      <td>1372.499811</td>\n      <td>3213.742890</td>\n      <td>65.116362</td>\n      <td>25.123727</td>\n      <td>5.880614</td>\n      <td>65.116362</td>\n      <td>1369</td>\n      <td>...</td>\n      <td>3.122000e+02</td>\n      <td>EC+B+</td>\n      <td>100.000</td>\n      <td>834.8</td>\n      <td>True</td>\n      <td>True</td>\n      <td>0.183294</td>\n      <td>3.873793e+04</td>\n      <td>7.747586</td>\n      <td>0.000016</td>\n    </tr>\n    <tr>\n      <th>2379</th>\n      <td>1454</td>\n      <td>1453.734014</td>\n      <td>1344.932670</td>\n      <td>1453.640093</td>\n      <td>3338.139458</td>\n      <td>367.505693</td>\n      <td>29.182944</td>\n      <td>101.857014</td>\n      <td>367.505693</td>\n      <td>1449</td>\n      <td>...</td>\n      <td>2.498300e+02</td>\n      <td>B-</td>\n      <td>98.670</td>\n      <td>657.8</td>\n      <td>False</td>\n      <td>True</td>\n      <td>-0.084441</td>\n      <td>2.566186e+05</td>\n      <td>51.323719</td>\n      <td>0.032337</td>\n    </tr>\n    <tr>\n      <th>2589</th>\n      <td>1498</td>\n      <td>1497.331339</td>\n      <td>583.585709</td>\n      <td>1497.348693</td>\n      <td>2898.191988</td>\n      <td>142.666499</td>\n      <td>25.140725</td>\n      <td>51.889893</td>\n      <td>142.666499</td>\n      <td>1494</td>\n      <td>...</td>\n      <td>6.150000e+00</td>\n      <td>B-</td>\n      <td>100.000</td>\n      <td>911.6</td>\n      <td>False</td>\n      <td>True</td>\n      <td>0.087608</td>\n      <td>3.294775e+05</td>\n      <td>65.895503</td>\n      <td>0.094244</td>\n    </tr>\n    <tr>\n      <th>2616</th>\n      <td>1540</td>\n      <td>1540.041676</td>\n      <td>709.425445</td>\n      <td>1539.865159</td>\n      <td>2764.574555</td>\n      <td>175.614136</td>\n      <td>63.155763</td>\n      <td>38.866820</td>\n      <td>175.614136</td>\n      <td>1534</td>\n      <td>...</td>\n      <td>2.498300e+02</td>\n      <td>B-</td>\n      <td>98.670</td>\n      <td>657.8</td>\n      <td>False</td>\n      <td>True</td>\n      <td>-0.223803</td>\n      <td>3.003424e+05</td>\n      <td>60.068488</td>\n      <td>0.038160</td>\n    </tr>\n    <tr>\n      <th>2945</th>\n      <td>1592</td>\n      <td>1591.886380</td>\n      <td>345.779231</td>\n      <td>1591.826779</td>\n      <td>1952.269003</td>\n      <td>99.327543</td>\n      <td>26.119164</td>\n      <td>25.897229</td>\n      <td>99.327543</td>\n      <td>1588</td>\n      <td>...</td>\n      <td>6.150000e+00</td>\n      <td>B-</td>\n      <td>100.000</td>\n      <td>911.6</td>\n      <td>False</td>\n      <td>True</td>\n      <td>0.028754</td>\n      <td>3.308437e+05</td>\n      <td>66.168749</td>\n      <td>0.160542</td>\n    </tr>\n    <tr>\n      <th>2957</th>\n      <td>1832</td>\n      <td>1831.914493</td>\n      <td>472.981339</td>\n      <td>1832.180142</td>\n      <td>2007.018661</td>\n      <td>108.310877</td>\n      <td>16.197018</td>\n      <td>27.833974</td>\n      <td>108.310877</td>\n      <td>1816</td>\n      <td>...</td>\n      <td>2.439300e+02</td>\n      <td>EC+B+</td>\n      <td>100.000</td>\n      <td>1115.5</td>\n      <td>True</td>\n      <td>True</td>\n      <td>0.266873</td>\n      <td>1.561311e+05</td>\n      <td>31.226226</td>\n      <td>0.005911</td>\n    </tr>\n    <tr>\n      <th>3153</th>\n      <td>1840</td>\n      <td>1839.413659</td>\n      <td>319.008013</td>\n      <td>1839.453015</td>\n      <td>1418.991987</td>\n      <td>88.356843</td>\n      <td>22.173774</td>\n      <td>48.880461</td>\n      <td>74.557849</td>\n      <td>1836</td>\n      <td>...</td>\n      <td>1.971000e+01</td>\n      <td>B-</td>\n      <td>99.979</td>\n      <td>609.3</td>\n      <td>False</td>\n      <td>True</td>\n      <td>-0.045999</td>\n      <td>3.546413e+05</td>\n      <td>70.928257</td>\n      <td>0.044969</td>\n    </tr>\n    <tr>\n      <th>3191</th>\n      <td>1926</td>\n      <td>1926.179506</td>\n      <td>6398.833656</td>\n      <td>1926.124036</td>\n      <td>7679.166344</td>\n      <td>1698.898100</td>\n      <td>468.438806</td>\n      <td>262.626878</td>\n      <td>1698.898100</td>\n      <td>1916</td>\n      <td>...</td>\n      <td>1.925280e+03</td>\n      <td>B-</td>\n      <td>100.000</td>\n      <td>1332.5</td>\n      <td>False</td>\n      <td>True</td>\n      <td>-0.043459</td>\n      <td>1.094768e+06</td>\n      <td>218.953530</td>\n      <td>0.000901</td>\n    </tr>\n    <tr>\n      <th>3391</th>\n      <td>2032</td>\n      <td>2032.335868</td>\n      <td>150.062903</td>\n      <td>2032.321879</td>\n      <td>865.937097</td>\n      <td>39.200234</td>\n      <td>20.187085</td>\n      <td>6.828505</td>\n      <td>39.200234</td>\n      <td>2028</td>\n      <td>...</td>\n      <td>1.971000e+01</td>\n      <td>B-</td>\n      <td>99.979</td>\n      <td>609.3</td>\n      <td>False</td>\n      <td>True</td>\n      <td>-0.075452</td>\n      <td>4.565165e+05</td>\n      <td>91.303296</td>\n      <td>0.092132</td>\n    </tr>\n    <tr>\n      <th>3428</th>\n      <td>2187</td>\n      <td>2186.952804</td>\n      <td>5848.127892</td>\n      <td>2186.881900</td>\n      <td>6473.872108</td>\n      <td>1402.774453</td>\n      <td>223.650380</td>\n      <td>221.450518</td>\n      <td>1402.774453</td>\n      <td>2177</td>\n      <td>...</td>\n      <td>1.925280e+03</td>\n      <td>B-</td>\n      <td>100.000</td>\n      <td>1332.5</td>\n      <td>True</td>\n      <td>True</td>\n      <td>-0.047526</td>\n      <td>1.095400e+06</td>\n      <td>219.080004</td>\n      <td>0.000018</td>\n    </tr>\n    <tr>\n      <th>3540</th>\n      <td>2247</td>\n      <td>2246.361081</td>\n      <td>170.789713</td>\n      <td>2246.149438</td>\n      <td>610.315531</td>\n      <td>57.090852</td>\n      <td>27.132936</td>\n      <td>33.922184</td>\n      <td>57.090852</td>\n      <td>2242</td>\n      <td>...</td>\n      <td>1.495600e+01</td>\n      <td>B-</td>\n      <td>100.000</td>\n      <td>1368.6</td>\n      <td>True</td>\n      <td>True</td>\n      <td>0.016631</td>\n      <td>3.266259e+04</td>\n      <td>6.532518</td>\n      <td>0.000019</td>\n    </tr>\n    <tr>\n      <th>3747</th>\n      <td>2262</td>\n      <td>2260.909926</td>\n      <td>107.824449</td>\n      <td>2261.366983</td>\n      <td>633.663193</td>\n      <td>25.844698</td>\n      <td>8.081059</td>\n      <td>17.948122</td>\n      <td>25.844698</td>\n      <td>2257</td>\n      <td>...</td>\n      <td>1.971000e+01</td>\n      <td>B-</td>\n      <td>99.979</td>\n      <td>609.3</td>\n      <td>False</td>\n      <td>True</td>\n      <td>0.266563</td>\n      <td>5.201526e+05</td>\n      <td>104.030525</td>\n      <td>0.134081</td>\n    </tr>\n    <tr>\n      <th>3797</th>\n      <td>2272</td>\n      <td>2271.692429</td>\n      <td>360.400194</td>\n      <td>2271.722928</td>\n      <td>921.547003</td>\n      <td>83.645558</td>\n      <td>7.173466</td>\n      <td>18.857337</td>\n      <td>83.645558</td>\n      <td>2267</td>\n      <td>...</td>\n      <td>2.498300e+02</td>\n      <td>B-</td>\n      <td>98.670</td>\n      <td>657.8</td>\n      <td>False</td>\n      <td>True</td>\n      <td>-0.032783</td>\n      <td>2.770920e+05</td>\n      <td>55.418405</td>\n      <td>0.092987</td>\n    </tr>\n    <tr>\n      <th>3959</th>\n      <td>2397</td>\n      <td>2397.354424</td>\n      <td>3206.949995</td>\n      <td>2397.267432</td>\n      <td>3637.050005</td>\n      <td>777.060380</td>\n      <td>263.219632</td>\n      <td>21.786446</td>\n      <td>777.060380</td>\n      <td>2389</td>\n      <td>...</td>\n      <td>1.248000e+09</td>\n      <td>EC+B+</td>\n      <td>10.720</td>\n      <td>1460.8</td>\n      <td>True</td>\n      <td>True</td>\n      <td>0.114079</td>\n      <td>6.071168e+06</td>\n      <td>1214.233593</td>\n      <td>0.278465</td>\n    </tr>\n    <tr>\n      <th>4035</th>\n      <td>2470</td>\n      <td>2469.534452</td>\n      <td>183.362379</td>\n      <td>2469.277794</td>\n      <td>470.637621</td>\n      <td>47.058621</td>\n      <td>3.040656</td>\n      <td>22.974186</td>\n      <td>47.058621</td>\n      <td>2460</td>\n      <td>...</td>\n      <td>2.498300e+02</td>\n      <td>B-</td>\n      <td>98.670</td>\n      <td>657.8</td>\n      <td>False</td>\n      <td>True</td>\n      <td>-0.115772</td>\n      <td>2.849450e+05</td>\n      <td>56.989002</td>\n      <td>0.075873</td>\n    </tr>\n    <tr>\n      <th>4244</th>\n      <td>2606</td>\n      <td>2605.351065</td>\n      <td>131.163569</td>\n      <td>2605.622131</td>\n      <td>358.836431</td>\n      <td>42.782923</td>\n      <td>20.020247</td>\n      <td>26.989344</td>\n      <td>42.782923</td>\n      <td>2600</td>\n      <td>...</td>\n      <td>6.150000e+00</td>\n      <td>B-</td>\n      <td>100.000</td>\n      <td>911.6</td>\n      <td>False</td>\n      <td>True</td>\n      <td>-0.021038</td>\n      <td>8.869047e+05</td>\n      <td>177.380940</td>\n      <td>0.636467</td>\n    </tr>\n    <tr>\n      <th>4579</th>\n      <td>2894</td>\n      <td>2894.703133</td>\n      <td>397.650084</td>\n      <td>2894.518455</td>\n      <td>654.835127</td>\n      <td>91.256400</td>\n      <td>36.028978</td>\n      <td>12.974715</td>\n      <td>91.256400</td>\n      <td>2889</td>\n      <td>...</td>\n      <td>1.971000e+01</td>\n      <td>B-</td>\n      <td>99.979</td>\n      <td>609.3</td>\n      <td>False</td>\n      <td>True</td>\n      <td>0.113363</td>\n      <td>6.315313e+05</td>\n      <td>126.306270</td>\n      <td>0.042528</td>\n    </tr>\n    <tr>\n      <th>4698</th>\n      <td>3030</td>\n      <td>3030.293398</td>\n      <td>54.452120</td>\n      <td>3030.019570</td>\n      <td>153.547880</td>\n      <td>23.091528</td>\n      <td>19.009584</td>\n      <td>9.993320</td>\n      <td>23.091528</td>\n      <td>3021</td>\n      <td>...</td>\n      <td>1.971000e+01</td>\n      <td>B-</td>\n      <td>99.979</td>\n      <td>609.3</td>\n      <td>False</td>\n      <td>True</td>\n      <td>-0.082704</td>\n      <td>6.879376e+05</td>\n      <td>137.587513</td>\n      <td>0.247145</td>\n    </tr>\n    <tr>\n      <th>4936</th>\n      <td>3615</td>\n      <td>3614.038497</td>\n      <td>124.857782</td>\n      <td>3614.158312</td>\n      <td>343.648757</td>\n      <td>28.476903</td>\n      <td>6.988944</td>\n      <td>9.008367</td>\n      <td>28.476903</td>\n      <td>3611</td>\n      <td>...</td>\n      <td>1.971000e+01</td>\n      <td>B-</td>\n      <td>99.979</td>\n      <td>609.3</td>\n      <td>False</td>\n      <td>True</td>\n      <td>-0.057308</td>\n      <td>8.285796e+05</td>\n      <td>165.715924</td>\n      <td>0.150024</td>\n    </tr>\n  </tbody>\n</table>\n<p>31 rows × 32 columns</p>\n</div>"
     },
     "execution_count": 57,
     "metadata": {},
     "output_type": "execute_result"
    }
   ],
   "source": [
    "# df_result.dtypes\n",
    "df_result['acti_conc_unc'] = (\n",
    "    df_result.activity_conc * (\n",
    "        np.sqrt(df_result.variances) / df_result.rough_sums\n",
    "    ) * (\n",
    "        df_result.unc_i / df_result.intensity\n",
    "    )\n",
    ")\n",
    "df_result"
   ],
   "metadata": {
    "collapsed": false,
    "ExecuteTime": {
     "end_time": "2023-10-18T16:34:33.098833974Z",
     "start_time": "2023-10-18T16:34:32.575055443Z"
    }
   }
  },
  {
   "cell_type": "code",
   "source": [
    "# 2023-Ago-4 PAREI AQUI. Fazer a indexação para o cálculo da atividade considerando a média das linhas de cada nuclídeo\n",
    "# https://pandas.pydata.org/pandas-docs/stable/user_guide/groupby.html\n",
    "# https://pandas.pydata.org/pandas-docs/stable/user_guide/groupby.html#dataframe-column-selection-in-groupby\n",
    "d5_grouped = df_result.groupby(\"nuclide_name\")[['energy','intensity','centroids','rough_sums','variances','disintegr']]\n",
    "# d5_grouped = d5.groupby(\"nuclide_name\")[['disintegr']]\n",
    "# sdfsdf = pd.DataFrame([[d5_grouped.mean(), d5_grouped.median()]]) \n",
    "# sdfsdf\n"
   ],
   "metadata": {
    "trusted": true,
    "tags": [],
    "ExecuteTime": {
     "end_time": "2023-10-18T16:34:33.235678151Z",
     "start_time": "2023-10-18T16:34:32.737073659Z"
    }
   },
   "execution_count": 58,
   "outputs": []
  },
  {
   "cell_type": "code",
   "source": [
    "df_result.groupby(\"nuclide_name\")[['activity_conc']].describe()"
   ],
   "metadata": {
    "tags": [],
    "collapsed": false,
    "trusted": true,
    "ExecuteTime": {
     "end_time": "2023-10-18T16:34:33.332638413Z",
     "start_time": "2023-10-18T16:34:32.839235131Z"
    }
   },
   "execution_count": 59,
   "outputs": [
    {
     "data": {
      "text/plain": "             activity_conc                                                    \\\n                     count         mean        std          min          25%   \nnuclide_name                                                                   \n110ag                  8.0    51.803323   6.213924    40.195943    49.507619   \n131i                   1.0   230.332119        NaN   230.332119   230.332119   \n137cs                  1.0    11.300127        NaN    11.300127    11.300127   \n208Tl                  1.0    12.560374        NaN    12.560374    12.560374   \n212Pb                  1.0    14.648486        NaN    14.648486    14.648486   \n214Bi                  7.0   104.911170  42.765042    38.506404    81.115776   \n214Pb                  2.0    17.432289   0.603514    17.005540    17.218914   \n228Ac                  3.0   103.148397  64.287413    65.895503    66.032126   \n24na                   1.0     6.532518        NaN     6.532518     6.532518   \n40k                    1.0  1214.233593        NaN  1214.233593  1214.233593   \n54mn                   1.0     7.747586        NaN     7.747586     7.747586   \n58co                   1.0    70.798230        NaN    70.798230    70.798230   \n60co                   2.0   219.016767   0.089431   218.953530   218.985148   \n65zn                   1.0    31.226226        NaN    31.226226    31.226226   \n\n                                                     \n                      50%          75%          max  \nnuclide_name                                         \n110ag           52.212161    55.811054    60.068488  \n131i           230.332119   230.332119   230.332119  \n137cs           11.300127    11.300127    11.300127  \n208Tl           12.560374    12.560374    12.560374  \n212Pb           14.648486    14.648486    14.648486  \n214Bi          104.030525   131.946891   165.715924  \n214Pb           17.432289    17.645663    17.859037  \n228Ac           66.168749   121.774845   177.380940  \n24na             6.532518     6.532518     6.532518  \n40k           1214.233593  1214.233593  1214.233593  \n54mn             7.747586     7.747586     7.747586  \n58co            70.798230    70.798230    70.798230  \n60co           219.016767   219.048385   219.080004  \n65zn            31.226226    31.226226    31.226226  ",
      "text/html": "<div>\n<style scoped>\n    .dataframe tbody tr th:only-of-type {\n        vertical-align: middle;\n    }\n\n    .dataframe tbody tr th {\n        vertical-align: top;\n    }\n\n    .dataframe thead tr th {\n        text-align: left;\n    }\n\n    .dataframe thead tr:last-of-type th {\n        text-align: right;\n    }\n</style>\n<table border=\"1\" class=\"dataframe\">\n  <thead>\n    <tr>\n      <th></th>\n      <th colspan=\"8\" halign=\"left\">activity_conc</th>\n    </tr>\n    <tr>\n      <th></th>\n      <th>count</th>\n      <th>mean</th>\n      <th>std</th>\n      <th>min</th>\n      <th>25%</th>\n      <th>50%</th>\n      <th>75%</th>\n      <th>max</th>\n    </tr>\n    <tr>\n      <th>nuclide_name</th>\n      <th></th>\n      <th></th>\n      <th></th>\n      <th></th>\n      <th></th>\n      <th></th>\n      <th></th>\n      <th></th>\n    </tr>\n  </thead>\n  <tbody>\n    <tr>\n      <th>110ag</th>\n      <td>8.0</td>\n      <td>51.803323</td>\n      <td>6.213924</td>\n      <td>40.195943</td>\n      <td>49.507619</td>\n      <td>52.212161</td>\n      <td>55.811054</td>\n      <td>60.068488</td>\n    </tr>\n    <tr>\n      <th>131i</th>\n      <td>1.0</td>\n      <td>230.332119</td>\n      <td>NaN</td>\n      <td>230.332119</td>\n      <td>230.332119</td>\n      <td>230.332119</td>\n      <td>230.332119</td>\n      <td>230.332119</td>\n    </tr>\n    <tr>\n      <th>137cs</th>\n      <td>1.0</td>\n      <td>11.300127</td>\n      <td>NaN</td>\n      <td>11.300127</td>\n      <td>11.300127</td>\n      <td>11.300127</td>\n      <td>11.300127</td>\n      <td>11.300127</td>\n    </tr>\n    <tr>\n      <th>208Tl</th>\n      <td>1.0</td>\n      <td>12.560374</td>\n      <td>NaN</td>\n      <td>12.560374</td>\n      <td>12.560374</td>\n      <td>12.560374</td>\n      <td>12.560374</td>\n      <td>12.560374</td>\n    </tr>\n    <tr>\n      <th>212Pb</th>\n      <td>1.0</td>\n      <td>14.648486</td>\n      <td>NaN</td>\n      <td>14.648486</td>\n      <td>14.648486</td>\n      <td>14.648486</td>\n      <td>14.648486</td>\n      <td>14.648486</td>\n    </tr>\n    <tr>\n      <th>214Bi</th>\n      <td>7.0</td>\n      <td>104.911170</td>\n      <td>42.765042</td>\n      <td>38.506404</td>\n      <td>81.115776</td>\n      <td>104.030525</td>\n      <td>131.946891</td>\n      <td>165.715924</td>\n    </tr>\n    <tr>\n      <th>214Pb</th>\n      <td>2.0</td>\n      <td>17.432289</td>\n      <td>0.603514</td>\n      <td>17.005540</td>\n      <td>17.218914</td>\n      <td>17.432289</td>\n      <td>17.645663</td>\n      <td>17.859037</td>\n    </tr>\n    <tr>\n      <th>228Ac</th>\n      <td>3.0</td>\n      <td>103.148397</td>\n      <td>64.287413</td>\n      <td>65.895503</td>\n      <td>66.032126</td>\n      <td>66.168749</td>\n      <td>121.774845</td>\n      <td>177.380940</td>\n    </tr>\n    <tr>\n      <th>24na</th>\n      <td>1.0</td>\n      <td>6.532518</td>\n      <td>NaN</td>\n      <td>6.532518</td>\n      <td>6.532518</td>\n      <td>6.532518</td>\n      <td>6.532518</td>\n      <td>6.532518</td>\n    </tr>\n    <tr>\n      <th>40k</th>\n      <td>1.0</td>\n      <td>1214.233593</td>\n      <td>NaN</td>\n      <td>1214.233593</td>\n      <td>1214.233593</td>\n      <td>1214.233593</td>\n      <td>1214.233593</td>\n      <td>1214.233593</td>\n    </tr>\n    <tr>\n      <th>54mn</th>\n      <td>1.0</td>\n      <td>7.747586</td>\n      <td>NaN</td>\n      <td>7.747586</td>\n      <td>7.747586</td>\n      <td>7.747586</td>\n      <td>7.747586</td>\n      <td>7.747586</td>\n    </tr>\n    <tr>\n      <th>58co</th>\n      <td>1.0</td>\n      <td>70.798230</td>\n      <td>NaN</td>\n      <td>70.798230</td>\n      <td>70.798230</td>\n      <td>70.798230</td>\n      <td>70.798230</td>\n      <td>70.798230</td>\n    </tr>\n    <tr>\n      <th>60co</th>\n      <td>2.0</td>\n      <td>219.016767</td>\n      <td>0.089431</td>\n      <td>218.953530</td>\n      <td>218.985148</td>\n      <td>219.016767</td>\n      <td>219.048385</td>\n      <td>219.080004</td>\n    </tr>\n    <tr>\n      <th>65zn</th>\n      <td>1.0</td>\n      <td>31.226226</td>\n      <td>NaN</td>\n      <td>31.226226</td>\n      <td>31.226226</td>\n      <td>31.226226</td>\n      <td>31.226226</td>\n      <td>31.226226</td>\n    </tr>\n  </tbody>\n</table>\n</div>"
     },
     "execution_count": 59,
     "metadata": {},
     "output_type": "execute_result"
    }
   ]
  },
  {
   "cell_type": "code",
   "source": [
    "f_name"
   ],
   "metadata": {
    "trusted": true,
    "tags": [],
    "ExecuteTime": {
     "end_time": "2023-10-18T16:34:33.402405679Z",
     "start_time": "2023-10-18T16:34:33.129017919Z"
    }
   },
   "execution_count": 60,
   "outputs": [
    {
     "data": {
      "text/plain": "PosixPath('/home/marcelofm/Nextcloud/Genie_Transfer/Si/SI2022/SI06122.Chn')"
     },
     "execution_count": 60,
     "metadata": {},
     "output_type": "execute_result"
    }
   ]
  },
  {
   "cell_type": "code",
   "execution_count": 63,
   "outputs": [
    {
     "data": {
      "text/plain": "PosixPath('../ograyspy_results/Si/SI2022/SI06122_result.pkl')"
     },
     "execution_count": 63,
     "metadata": {},
     "output_type": "execute_result"
    }
   ],
   "source": [
    "a_spec.results_pkl_file"
   ],
   "metadata": {
    "collapsed": false,
    "ExecuteTime": {
     "end_time": "2023-10-18T16:43:03.101199640Z",
     "start_time": "2023-10-18T16:43:02.858480923Z"
    }
   }
  },
  {
   "cell_type": "code",
   "execution_count": 67,
   "outputs": [
    {
     "data": {
      "text/plain": "PosixPath('../ograyspy_results/Si/SI2022/second_result.pkl')"
     },
     "execution_count": 67,
     "metadata": {},
     "output_type": "execute_result"
    }
   ],
   "source": [
    "second_result = a_spec.results_pkl_file.with_stem('second_result')\n",
    "second_result"
   ],
   "metadata": {
    "collapsed": false,
    "ExecuteTime": {
     "end_time": "2023-10-18T16:45:47.007549500Z",
     "start_time": "2023-10-18T16:45:46.819712289Z"
    }
   }
  },
  {
   "cell_type": "code",
   "source": [
    "df_result.to_pickle(second_result)"
   ],
   "metadata": {
    "trusted": true,
    "tags": [],
    "ExecuteTime": {
     "end_time": "2023-10-18T16:45:48.382289739Z",
     "start_time": "2023-10-18T16:45:48.213053930Z"
    }
   },
   "execution_count": 68,
   "outputs": []
  },
  {
   "cell_type": "code",
   "source": [
    "read_result_df = pd.read_pickle(second_result)\n",
    "read_result_df"
   ],
   "metadata": {
    "trusted": true,
    "tags": [],
    "ExecuteTime": {
     "end_time": "2023-10-18T16:49:14.294764411Z",
     "start_time": "2023-10-18T16:49:14.044949133Z"
    }
   },
   "execution_count": 74,
   "outputs": [
    {
     "data": {
      "text/plain": "      peaks   fwhm_centr   rough_sums    centroids     variances       pk_hei  \\\n543     396   396.401754   630.310441   396.426778  10404.641509   162.845302   \n667     489   488.997063   249.976688   488.967375   4072.023312   125.089174   \n786     581   581.463638   430.396173   581.647407   5405.821287   147.276132   \n1129    960   960.088168   483.773366   960.065118   3335.841582   148.624963   \n1260   1003  1002.888165   769.886444  1002.931019   3458.113556   220.739274   \n1428   1082  1082.208995  2125.483990  1082.200436   4570.516010   657.235129   \n1566   1088  1088.722180   401.081225  1088.105023   2556.918775    97.223236   \n1665   1115  1114.774649   176.695976  1115.022855   1999.057501    67.734059   \n1785   1163  1162.050038   336.295814  1161.943753   2591.560129    85.795902   \n1916   1189  1189.227086   160.747926  1189.208186   1865.322724    64.537729   \n2023   1256  1256.302992   405.106118  1256.297717   2257.095859   134.196651   \n2128   1333  1332.711271  2591.874119  1332.650344   4761.752838   751.356428   \n2245   1372  1372.729536   280.179798  1372.499811   3213.742890    65.116362   \n2379   1454  1453.734014  1344.932670  1453.640093   3338.139458   367.505693   \n2589   1498  1497.331339   583.585709  1497.348693   2898.191988   142.666499   \n2616   1540  1540.041676   709.425445  1539.865159   2764.574555   175.614136   \n2945   1592  1591.886380   345.779231  1591.826779   1952.269003    99.327543   \n2957   1832  1831.914493   472.981339  1832.180142   2007.018661   108.310877   \n3153   1840  1839.413659   319.008013  1839.453015   1418.991987    88.356843   \n3191   1926  1926.179506  6398.833656  1926.124036   7679.166344  1698.898100   \n3391   2032  2032.335868   150.062903  2032.321879    865.937097    39.200234   \n3428   2187  2186.952804  5848.127892  2186.881900   6473.872108  1402.774453   \n3540   2247  2246.361081   170.789713  2246.149438    610.315531    57.090852   \n3747   2262  2260.909926   107.824449  2261.366983    633.663193    25.844698   \n3797   2272  2271.692429   360.400194  2271.722928    921.547003    83.645558   \n3959   2397  2397.354424  3206.949995  2397.267432   3637.050005   777.060380   \n4035   2470  2469.534452   183.362379  2469.277794    470.637621    47.058621   \n4244   2606  2605.351065   131.163569  2605.622131    358.836431    42.782923   \n4579   2894  2894.703133   397.650084  2894.518455    654.835127    91.256400   \n4698   3030  3030.293398    54.452120  3030.019570    153.547880    23.091528   \n4936   3615  3614.038497   124.857782  3614.158312    343.648757    28.476903   \n\n          lf_thr      rg_thr       promns  lf_bas  ...     half_life  decay  \\\n543    70.909899   49.239266   162.845302     392  ...  1.062200e+01     B-   \n667    88.241458   88.978919   125.089174     485  ...  2.706000e+01     B-   \n786    89.934593    1.069452   147.276132     579  ...  2.706000e+01     B-   \n1129   51.372759   40.677023   148.624963     955  ...  3.053000e+00     B-   \n1260   40.375893   77.703349   220.739274     990  ...  1.971000e+01     B-   \n1428  251.432911  123.634783   657.235129    1073  ...  2.498300e+02     B-   \n1566   59.126652   28.889179    69.221096    1086  ...  3.008000e+01     B-   \n1665   24.189260   36.845929    67.734059    1112  ...  2.498300e+02     B-   \n1785    0.176165   73.885618    85.795902    1152  ...  2.498300e+02     B-   \n1916   34.156127   10.853057    64.537729    1186  ...  8.025200e+00     B-   \n2023   62.170938   26.847523   134.196651    1253  ...  2.498300e+02     B-   \n2128   92.344345  268.763363   751.356428    1328  ...  7.086000e+01  EC+B+   \n2245   25.123727    5.880614    65.116362    1369  ...  3.122000e+02  EC+B+   \n2379   29.182944  101.857014   367.505693    1449  ...  2.498300e+02     B-   \n2589   25.140725   51.889893   142.666499    1494  ...  6.150000e+00     B-   \n2616   63.155763   38.866820   175.614136    1534  ...  2.498300e+02     B-   \n2945   26.119164   25.897229    99.327543    1588  ...  6.150000e+00     B-   \n2957   16.197018   27.833974   108.310877    1816  ...  2.439300e+02  EC+B+   \n3153   22.173774   48.880461    74.557849    1836  ...  1.971000e+01     B-   \n3191  468.438806  262.626878  1698.898100    1916  ...  1.925280e+03     B-   \n3391   20.187085    6.828505    39.200234    2028  ...  1.971000e+01     B-   \n3428  223.650380  221.450518  1402.774453    2177  ...  1.925280e+03     B-   \n3540   27.132936   33.922184    57.090852    2242  ...  1.495600e+01     B-   \n3747    8.081059   17.948122    25.844698    2257  ...  1.971000e+01     B-   \n3797    7.173466   18.857337    83.645558    2267  ...  2.498300e+02     B-   \n3959  263.219632   21.786446   777.060380    2389  ...  1.248000e+09  EC+B+   \n4035    3.040656   22.974186    47.058621    2460  ...  2.498300e+02     B-   \n4244   20.020247   26.989344    42.782923    2600  ...  6.150000e+00     B-   \n4579   36.028978   12.974715    91.256400    2889  ...  1.971000e+01     B-   \n4698   19.009584    9.993320    23.091528    3021  ...  1.971000e+01     B-   \n4936    6.988944    9.008367    28.476903    3611  ...  1.971000e+01     B-   \n\n      decay_%  key_gamma  is_key_gamma  is_to_consider  delta_en  \\\n543   100.000      238.6          True            True  0.138932   \n667   100.000      351.9         False            True  0.081981   \n786   100.000      351.9          True            True -0.006656   \n1129  100.000      583.2          True            True -0.090700   \n1260   99.979      609.3          True            True -0.039338   \n1428   98.670      657.8          True            True -0.055762   \n1566  100.000      661.7          True            True -0.345907   \n1665   98.670      657.8         False            True  0.132280   \n1785   98.670      657.8         False            True -0.260342   \n1916  100.000      364.5         False            True  0.159063   \n2023   98.670      657.8         False            True  0.108798   \n2128  100.000      810.8          True            True -0.069229   \n2245  100.000      834.8          True            True  0.183294   \n2379   98.670      657.8         False            True -0.084441   \n2589  100.000      911.6         False            True  0.087608   \n2616   98.670      657.8         False            True -0.223803   \n2945  100.000      911.6         False            True  0.028754   \n2957  100.000     1115.5          True            True  0.266873   \n3153   99.979      609.3         False            True -0.045999   \n3191  100.000     1332.5         False            True -0.043459   \n3391   99.979      609.3         False            True -0.075452   \n3428  100.000     1332.5          True            True -0.047526   \n3540  100.000     1368.6          True            True  0.016631   \n3747   99.979      609.3         False            True  0.266563   \n3797   98.670      657.8         False            True -0.032783   \n3959   10.720     1460.8          True            True  0.114079   \n4035   98.670      657.8         False            True -0.115772   \n4244  100.000      911.6         False            True -0.021038   \n4579   99.979      609.3         False            True  0.113363   \n4698   99.979      609.3         False            True -0.082704   \n4936   99.979      609.3         False            True -0.057308   \n\n         disintegr  activity_conc  acti_conc_unc  \n543   7.324243e+04      14.648486       0.028856  \n667   8.502770e+04      17.005540       0.026439  \n786   8.929519e+04      17.859037       0.020093  \n1129  6.280187e+04      12.560374       0.005293  \n1260  1.925320e+05      38.506404       0.012298  \n1428  2.655030e+05      53.100602       0.001590  \n1566  5.650064e+04      11.300127       0.003348  \n1665  2.009797e+05      40.195943       0.047529  \n1785  2.517501e+05      50.350025       0.031967  \n1916  1.151661e+06     230.332119       0.936011  \n2023  2.349020e+05      46.980399       0.017065  \n2128  3.539912e+05      70.798230       0.000190  \n2245  3.873793e+04       7.747586       0.000016  \n2379  2.566186e+05      51.323719       0.032337  \n2589  3.294775e+05      65.895503       0.094244  \n2616  3.003424e+05      60.068488       0.038160  \n2945  3.308437e+05      66.168749       0.160542  \n2957  1.561311e+05      31.226226       0.005911  \n3153  3.546413e+05      70.928257       0.044969  \n3191  1.094768e+06     218.953530       0.000901  \n3391  4.565165e+05      91.303296       0.092132  \n3428  1.095400e+06     219.080004       0.000018  \n3540  3.266259e+04       6.532518       0.000019  \n3747  5.201526e+05     104.030525       0.134081  \n3797  2.770920e+05      55.418405       0.092987  \n3959  6.071168e+06    1214.233593       0.278465  \n4035  2.849450e+05      56.989002       0.075873  \n4244  8.869047e+05     177.380940       0.636467  \n4579  6.315313e+05     126.306270       0.042528  \n4698  6.879376e+05     137.587513       0.247145  \n4936  8.285796e+05     165.715924       0.150024  \n\n[31 rows x 32 columns]",
      "text/html": "<div>\n<style scoped>\n    .dataframe tbody tr th:only-of-type {\n        vertical-align: middle;\n    }\n\n    .dataframe tbody tr th {\n        vertical-align: top;\n    }\n\n    .dataframe thead th {\n        text-align: right;\n    }\n</style>\n<table border=\"1\" class=\"dataframe\">\n  <thead>\n    <tr style=\"text-align: right;\">\n      <th></th>\n      <th>peaks</th>\n      <th>fwhm_centr</th>\n      <th>rough_sums</th>\n      <th>centroids</th>\n      <th>variances</th>\n      <th>pk_hei</th>\n      <th>lf_thr</th>\n      <th>rg_thr</th>\n      <th>promns</th>\n      <th>lf_bas</th>\n      <th>...</th>\n      <th>half_life</th>\n      <th>decay</th>\n      <th>decay_%</th>\n      <th>key_gamma</th>\n      <th>is_key_gamma</th>\n      <th>is_to_consider</th>\n      <th>delta_en</th>\n      <th>disintegr</th>\n      <th>activity_conc</th>\n      <th>acti_conc_unc</th>\n    </tr>\n  </thead>\n  <tbody>\n    <tr>\n      <th>543</th>\n      <td>396</td>\n      <td>396.401754</td>\n      <td>630.310441</td>\n      <td>396.426778</td>\n      <td>10404.641509</td>\n      <td>162.845302</td>\n      <td>70.909899</td>\n      <td>49.239266</td>\n      <td>162.845302</td>\n      <td>392</td>\n      <td>...</td>\n      <td>1.062200e+01</td>\n      <td>B-</td>\n      <td>100.000</td>\n      <td>238.6</td>\n      <td>True</td>\n      <td>True</td>\n      <td>0.138932</td>\n      <td>7.324243e+04</td>\n      <td>14.648486</td>\n      <td>0.028856</td>\n    </tr>\n    <tr>\n      <th>667</th>\n      <td>489</td>\n      <td>488.997063</td>\n      <td>249.976688</td>\n      <td>488.967375</td>\n      <td>4072.023312</td>\n      <td>125.089174</td>\n      <td>88.241458</td>\n      <td>88.978919</td>\n      <td>125.089174</td>\n      <td>485</td>\n      <td>...</td>\n      <td>2.706000e+01</td>\n      <td>B-</td>\n      <td>100.000</td>\n      <td>351.9</td>\n      <td>False</td>\n      <td>True</td>\n      <td>0.081981</td>\n      <td>8.502770e+04</td>\n      <td>17.005540</td>\n      <td>0.026439</td>\n    </tr>\n    <tr>\n      <th>786</th>\n      <td>581</td>\n      <td>581.463638</td>\n      <td>430.396173</td>\n      <td>581.647407</td>\n      <td>5405.821287</td>\n      <td>147.276132</td>\n      <td>89.934593</td>\n      <td>1.069452</td>\n      <td>147.276132</td>\n      <td>579</td>\n      <td>...</td>\n      <td>2.706000e+01</td>\n      <td>B-</td>\n      <td>100.000</td>\n      <td>351.9</td>\n      <td>True</td>\n      <td>True</td>\n      <td>-0.006656</td>\n      <td>8.929519e+04</td>\n      <td>17.859037</td>\n      <td>0.020093</td>\n    </tr>\n    <tr>\n      <th>1129</th>\n      <td>960</td>\n      <td>960.088168</td>\n      <td>483.773366</td>\n      <td>960.065118</td>\n      <td>3335.841582</td>\n      <td>148.624963</td>\n      <td>51.372759</td>\n      <td>40.677023</td>\n      <td>148.624963</td>\n      <td>955</td>\n      <td>...</td>\n      <td>3.053000e+00</td>\n      <td>B-</td>\n      <td>100.000</td>\n      <td>583.2</td>\n      <td>True</td>\n      <td>True</td>\n      <td>-0.090700</td>\n      <td>6.280187e+04</td>\n      <td>12.560374</td>\n      <td>0.005293</td>\n    </tr>\n    <tr>\n      <th>1260</th>\n      <td>1003</td>\n      <td>1002.888165</td>\n      <td>769.886444</td>\n      <td>1002.931019</td>\n      <td>3458.113556</td>\n      <td>220.739274</td>\n      <td>40.375893</td>\n      <td>77.703349</td>\n      <td>220.739274</td>\n      <td>990</td>\n      <td>...</td>\n      <td>1.971000e+01</td>\n      <td>B-</td>\n      <td>99.979</td>\n      <td>609.3</td>\n      <td>True</td>\n      <td>True</td>\n      <td>-0.039338</td>\n      <td>1.925320e+05</td>\n      <td>38.506404</td>\n      <td>0.012298</td>\n    </tr>\n    <tr>\n      <th>1428</th>\n      <td>1082</td>\n      <td>1082.208995</td>\n      <td>2125.483990</td>\n      <td>1082.200436</td>\n      <td>4570.516010</td>\n      <td>657.235129</td>\n      <td>251.432911</td>\n      <td>123.634783</td>\n      <td>657.235129</td>\n      <td>1073</td>\n      <td>...</td>\n      <td>2.498300e+02</td>\n      <td>B-</td>\n      <td>98.670</td>\n      <td>657.8</td>\n      <td>True</td>\n      <td>True</td>\n      <td>-0.055762</td>\n      <td>2.655030e+05</td>\n      <td>53.100602</td>\n      <td>0.001590</td>\n    </tr>\n    <tr>\n      <th>1566</th>\n      <td>1088</td>\n      <td>1088.722180</td>\n      <td>401.081225</td>\n      <td>1088.105023</td>\n      <td>2556.918775</td>\n      <td>97.223236</td>\n      <td>59.126652</td>\n      <td>28.889179</td>\n      <td>69.221096</td>\n      <td>1086</td>\n      <td>...</td>\n      <td>3.008000e+01</td>\n      <td>B-</td>\n      <td>100.000</td>\n      <td>661.7</td>\n      <td>True</td>\n      <td>True</td>\n      <td>-0.345907</td>\n      <td>5.650064e+04</td>\n      <td>11.300127</td>\n      <td>0.003348</td>\n    </tr>\n    <tr>\n      <th>1665</th>\n      <td>1115</td>\n      <td>1114.774649</td>\n      <td>176.695976</td>\n      <td>1115.022855</td>\n      <td>1999.057501</td>\n      <td>67.734059</td>\n      <td>24.189260</td>\n      <td>36.845929</td>\n      <td>67.734059</td>\n      <td>1112</td>\n      <td>...</td>\n      <td>2.498300e+02</td>\n      <td>B-</td>\n      <td>98.670</td>\n      <td>657.8</td>\n      <td>False</td>\n      <td>True</td>\n      <td>0.132280</td>\n      <td>2.009797e+05</td>\n      <td>40.195943</td>\n      <td>0.047529</td>\n    </tr>\n    <tr>\n      <th>1785</th>\n      <td>1163</td>\n      <td>1162.050038</td>\n      <td>336.295814</td>\n      <td>1161.943753</td>\n      <td>2591.560129</td>\n      <td>85.795902</td>\n      <td>0.176165</td>\n      <td>73.885618</td>\n      <td>85.795902</td>\n      <td>1152</td>\n      <td>...</td>\n      <td>2.498300e+02</td>\n      <td>B-</td>\n      <td>98.670</td>\n      <td>657.8</td>\n      <td>False</td>\n      <td>True</td>\n      <td>-0.260342</td>\n      <td>2.517501e+05</td>\n      <td>50.350025</td>\n      <td>0.031967</td>\n    </tr>\n    <tr>\n      <th>1916</th>\n      <td>1189</td>\n      <td>1189.227086</td>\n      <td>160.747926</td>\n      <td>1189.208186</td>\n      <td>1865.322724</td>\n      <td>64.537729</td>\n      <td>34.156127</td>\n      <td>10.853057</td>\n      <td>64.537729</td>\n      <td>1186</td>\n      <td>...</td>\n      <td>8.025200e+00</td>\n      <td>B-</td>\n      <td>100.000</td>\n      <td>364.5</td>\n      <td>False</td>\n      <td>True</td>\n      <td>0.159063</td>\n      <td>1.151661e+06</td>\n      <td>230.332119</td>\n      <td>0.936011</td>\n    </tr>\n    <tr>\n      <th>2023</th>\n      <td>1256</td>\n      <td>1256.302992</td>\n      <td>405.106118</td>\n      <td>1256.297717</td>\n      <td>2257.095859</td>\n      <td>134.196651</td>\n      <td>62.170938</td>\n      <td>26.847523</td>\n      <td>134.196651</td>\n      <td>1253</td>\n      <td>...</td>\n      <td>2.498300e+02</td>\n      <td>B-</td>\n      <td>98.670</td>\n      <td>657.8</td>\n      <td>False</td>\n      <td>True</td>\n      <td>0.108798</td>\n      <td>2.349020e+05</td>\n      <td>46.980399</td>\n      <td>0.017065</td>\n    </tr>\n    <tr>\n      <th>2128</th>\n      <td>1333</td>\n      <td>1332.711271</td>\n      <td>2591.874119</td>\n      <td>1332.650344</td>\n      <td>4761.752838</td>\n      <td>751.356428</td>\n      <td>92.344345</td>\n      <td>268.763363</td>\n      <td>751.356428</td>\n      <td>1328</td>\n      <td>...</td>\n      <td>7.086000e+01</td>\n      <td>EC+B+</td>\n      <td>100.000</td>\n      <td>810.8</td>\n      <td>True</td>\n      <td>True</td>\n      <td>-0.069229</td>\n      <td>3.539912e+05</td>\n      <td>70.798230</td>\n      <td>0.000190</td>\n    </tr>\n    <tr>\n      <th>2245</th>\n      <td>1372</td>\n      <td>1372.729536</td>\n      <td>280.179798</td>\n      <td>1372.499811</td>\n      <td>3213.742890</td>\n      <td>65.116362</td>\n      <td>25.123727</td>\n      <td>5.880614</td>\n      <td>65.116362</td>\n      <td>1369</td>\n      <td>...</td>\n      <td>3.122000e+02</td>\n      <td>EC+B+</td>\n      <td>100.000</td>\n      <td>834.8</td>\n      <td>True</td>\n      <td>True</td>\n      <td>0.183294</td>\n      <td>3.873793e+04</td>\n      <td>7.747586</td>\n      <td>0.000016</td>\n    </tr>\n    <tr>\n      <th>2379</th>\n      <td>1454</td>\n      <td>1453.734014</td>\n      <td>1344.932670</td>\n      <td>1453.640093</td>\n      <td>3338.139458</td>\n      <td>367.505693</td>\n      <td>29.182944</td>\n      <td>101.857014</td>\n      <td>367.505693</td>\n      <td>1449</td>\n      <td>...</td>\n      <td>2.498300e+02</td>\n      <td>B-</td>\n      <td>98.670</td>\n      <td>657.8</td>\n      <td>False</td>\n      <td>True</td>\n      <td>-0.084441</td>\n      <td>2.566186e+05</td>\n      <td>51.323719</td>\n      <td>0.032337</td>\n    </tr>\n    <tr>\n      <th>2589</th>\n      <td>1498</td>\n      <td>1497.331339</td>\n      <td>583.585709</td>\n      <td>1497.348693</td>\n      <td>2898.191988</td>\n      <td>142.666499</td>\n      <td>25.140725</td>\n      <td>51.889893</td>\n      <td>142.666499</td>\n      <td>1494</td>\n      <td>...</td>\n      <td>6.150000e+00</td>\n      <td>B-</td>\n      <td>100.000</td>\n      <td>911.6</td>\n      <td>False</td>\n      <td>True</td>\n      <td>0.087608</td>\n      <td>3.294775e+05</td>\n      <td>65.895503</td>\n      <td>0.094244</td>\n    </tr>\n    <tr>\n      <th>2616</th>\n      <td>1540</td>\n      <td>1540.041676</td>\n      <td>709.425445</td>\n      <td>1539.865159</td>\n      <td>2764.574555</td>\n      <td>175.614136</td>\n      <td>63.155763</td>\n      <td>38.866820</td>\n      <td>175.614136</td>\n      <td>1534</td>\n      <td>...</td>\n      <td>2.498300e+02</td>\n      <td>B-</td>\n      <td>98.670</td>\n      <td>657.8</td>\n      <td>False</td>\n      <td>True</td>\n      <td>-0.223803</td>\n      <td>3.003424e+05</td>\n      <td>60.068488</td>\n      <td>0.038160</td>\n    </tr>\n    <tr>\n      <th>2945</th>\n      <td>1592</td>\n      <td>1591.886380</td>\n      <td>345.779231</td>\n      <td>1591.826779</td>\n      <td>1952.269003</td>\n      <td>99.327543</td>\n      <td>26.119164</td>\n      <td>25.897229</td>\n      <td>99.327543</td>\n      <td>1588</td>\n      <td>...</td>\n      <td>6.150000e+00</td>\n      <td>B-</td>\n      <td>100.000</td>\n      <td>911.6</td>\n      <td>False</td>\n      <td>True</td>\n      <td>0.028754</td>\n      <td>3.308437e+05</td>\n      <td>66.168749</td>\n      <td>0.160542</td>\n    </tr>\n    <tr>\n      <th>2957</th>\n      <td>1832</td>\n      <td>1831.914493</td>\n      <td>472.981339</td>\n      <td>1832.180142</td>\n      <td>2007.018661</td>\n      <td>108.310877</td>\n      <td>16.197018</td>\n      <td>27.833974</td>\n      <td>108.310877</td>\n      <td>1816</td>\n      <td>...</td>\n      <td>2.439300e+02</td>\n      <td>EC+B+</td>\n      <td>100.000</td>\n      <td>1115.5</td>\n      <td>True</td>\n      <td>True</td>\n      <td>0.266873</td>\n      <td>1.561311e+05</td>\n      <td>31.226226</td>\n      <td>0.005911</td>\n    </tr>\n    <tr>\n      <th>3153</th>\n      <td>1840</td>\n      <td>1839.413659</td>\n      <td>319.008013</td>\n      <td>1839.453015</td>\n      <td>1418.991987</td>\n      <td>88.356843</td>\n      <td>22.173774</td>\n      <td>48.880461</td>\n      <td>74.557849</td>\n      <td>1836</td>\n      <td>...</td>\n      <td>1.971000e+01</td>\n      <td>B-</td>\n      <td>99.979</td>\n      <td>609.3</td>\n      <td>False</td>\n      <td>True</td>\n      <td>-0.045999</td>\n      <td>3.546413e+05</td>\n      <td>70.928257</td>\n      <td>0.044969</td>\n    </tr>\n    <tr>\n      <th>3191</th>\n      <td>1926</td>\n      <td>1926.179506</td>\n      <td>6398.833656</td>\n      <td>1926.124036</td>\n      <td>7679.166344</td>\n      <td>1698.898100</td>\n      <td>468.438806</td>\n      <td>262.626878</td>\n      <td>1698.898100</td>\n      <td>1916</td>\n      <td>...</td>\n      <td>1.925280e+03</td>\n      <td>B-</td>\n      <td>100.000</td>\n      <td>1332.5</td>\n      <td>False</td>\n      <td>True</td>\n      <td>-0.043459</td>\n      <td>1.094768e+06</td>\n      <td>218.953530</td>\n      <td>0.000901</td>\n    </tr>\n    <tr>\n      <th>3391</th>\n      <td>2032</td>\n      <td>2032.335868</td>\n      <td>150.062903</td>\n      <td>2032.321879</td>\n      <td>865.937097</td>\n      <td>39.200234</td>\n      <td>20.187085</td>\n      <td>6.828505</td>\n      <td>39.200234</td>\n      <td>2028</td>\n      <td>...</td>\n      <td>1.971000e+01</td>\n      <td>B-</td>\n      <td>99.979</td>\n      <td>609.3</td>\n      <td>False</td>\n      <td>True</td>\n      <td>-0.075452</td>\n      <td>4.565165e+05</td>\n      <td>91.303296</td>\n      <td>0.092132</td>\n    </tr>\n    <tr>\n      <th>3428</th>\n      <td>2187</td>\n      <td>2186.952804</td>\n      <td>5848.127892</td>\n      <td>2186.881900</td>\n      <td>6473.872108</td>\n      <td>1402.774453</td>\n      <td>223.650380</td>\n      <td>221.450518</td>\n      <td>1402.774453</td>\n      <td>2177</td>\n      <td>...</td>\n      <td>1.925280e+03</td>\n      <td>B-</td>\n      <td>100.000</td>\n      <td>1332.5</td>\n      <td>True</td>\n      <td>True</td>\n      <td>-0.047526</td>\n      <td>1.095400e+06</td>\n      <td>219.080004</td>\n      <td>0.000018</td>\n    </tr>\n    <tr>\n      <th>3540</th>\n      <td>2247</td>\n      <td>2246.361081</td>\n      <td>170.789713</td>\n      <td>2246.149438</td>\n      <td>610.315531</td>\n      <td>57.090852</td>\n      <td>27.132936</td>\n      <td>33.922184</td>\n      <td>57.090852</td>\n      <td>2242</td>\n      <td>...</td>\n      <td>1.495600e+01</td>\n      <td>B-</td>\n      <td>100.000</td>\n      <td>1368.6</td>\n      <td>True</td>\n      <td>True</td>\n      <td>0.016631</td>\n      <td>3.266259e+04</td>\n      <td>6.532518</td>\n      <td>0.000019</td>\n    </tr>\n    <tr>\n      <th>3747</th>\n      <td>2262</td>\n      <td>2260.909926</td>\n      <td>107.824449</td>\n      <td>2261.366983</td>\n      <td>633.663193</td>\n      <td>25.844698</td>\n      <td>8.081059</td>\n      <td>17.948122</td>\n      <td>25.844698</td>\n      <td>2257</td>\n      <td>...</td>\n      <td>1.971000e+01</td>\n      <td>B-</td>\n      <td>99.979</td>\n      <td>609.3</td>\n      <td>False</td>\n      <td>True</td>\n      <td>0.266563</td>\n      <td>5.201526e+05</td>\n      <td>104.030525</td>\n      <td>0.134081</td>\n    </tr>\n    <tr>\n      <th>3797</th>\n      <td>2272</td>\n      <td>2271.692429</td>\n      <td>360.400194</td>\n      <td>2271.722928</td>\n      <td>921.547003</td>\n      <td>83.645558</td>\n      <td>7.173466</td>\n      <td>18.857337</td>\n      <td>83.645558</td>\n      <td>2267</td>\n      <td>...</td>\n      <td>2.498300e+02</td>\n      <td>B-</td>\n      <td>98.670</td>\n      <td>657.8</td>\n      <td>False</td>\n      <td>True</td>\n      <td>-0.032783</td>\n      <td>2.770920e+05</td>\n      <td>55.418405</td>\n      <td>0.092987</td>\n    </tr>\n    <tr>\n      <th>3959</th>\n      <td>2397</td>\n      <td>2397.354424</td>\n      <td>3206.949995</td>\n      <td>2397.267432</td>\n      <td>3637.050005</td>\n      <td>777.060380</td>\n      <td>263.219632</td>\n      <td>21.786446</td>\n      <td>777.060380</td>\n      <td>2389</td>\n      <td>...</td>\n      <td>1.248000e+09</td>\n      <td>EC+B+</td>\n      <td>10.720</td>\n      <td>1460.8</td>\n      <td>True</td>\n      <td>True</td>\n      <td>0.114079</td>\n      <td>6.071168e+06</td>\n      <td>1214.233593</td>\n      <td>0.278465</td>\n    </tr>\n    <tr>\n      <th>4035</th>\n      <td>2470</td>\n      <td>2469.534452</td>\n      <td>183.362379</td>\n      <td>2469.277794</td>\n      <td>470.637621</td>\n      <td>47.058621</td>\n      <td>3.040656</td>\n      <td>22.974186</td>\n      <td>47.058621</td>\n      <td>2460</td>\n      <td>...</td>\n      <td>2.498300e+02</td>\n      <td>B-</td>\n      <td>98.670</td>\n      <td>657.8</td>\n      <td>False</td>\n      <td>True</td>\n      <td>-0.115772</td>\n      <td>2.849450e+05</td>\n      <td>56.989002</td>\n      <td>0.075873</td>\n    </tr>\n    <tr>\n      <th>4244</th>\n      <td>2606</td>\n      <td>2605.351065</td>\n      <td>131.163569</td>\n      <td>2605.622131</td>\n      <td>358.836431</td>\n      <td>42.782923</td>\n      <td>20.020247</td>\n      <td>26.989344</td>\n      <td>42.782923</td>\n      <td>2600</td>\n      <td>...</td>\n      <td>6.150000e+00</td>\n      <td>B-</td>\n      <td>100.000</td>\n      <td>911.6</td>\n      <td>False</td>\n      <td>True</td>\n      <td>-0.021038</td>\n      <td>8.869047e+05</td>\n      <td>177.380940</td>\n      <td>0.636467</td>\n    </tr>\n    <tr>\n      <th>4579</th>\n      <td>2894</td>\n      <td>2894.703133</td>\n      <td>397.650084</td>\n      <td>2894.518455</td>\n      <td>654.835127</td>\n      <td>91.256400</td>\n      <td>36.028978</td>\n      <td>12.974715</td>\n      <td>91.256400</td>\n      <td>2889</td>\n      <td>...</td>\n      <td>1.971000e+01</td>\n      <td>B-</td>\n      <td>99.979</td>\n      <td>609.3</td>\n      <td>False</td>\n      <td>True</td>\n      <td>0.113363</td>\n      <td>6.315313e+05</td>\n      <td>126.306270</td>\n      <td>0.042528</td>\n    </tr>\n    <tr>\n      <th>4698</th>\n      <td>3030</td>\n      <td>3030.293398</td>\n      <td>54.452120</td>\n      <td>3030.019570</td>\n      <td>153.547880</td>\n      <td>23.091528</td>\n      <td>19.009584</td>\n      <td>9.993320</td>\n      <td>23.091528</td>\n      <td>3021</td>\n      <td>...</td>\n      <td>1.971000e+01</td>\n      <td>B-</td>\n      <td>99.979</td>\n      <td>609.3</td>\n      <td>False</td>\n      <td>True</td>\n      <td>-0.082704</td>\n      <td>6.879376e+05</td>\n      <td>137.587513</td>\n      <td>0.247145</td>\n    </tr>\n    <tr>\n      <th>4936</th>\n      <td>3615</td>\n      <td>3614.038497</td>\n      <td>124.857782</td>\n      <td>3614.158312</td>\n      <td>343.648757</td>\n      <td>28.476903</td>\n      <td>6.988944</td>\n      <td>9.008367</td>\n      <td>28.476903</td>\n      <td>3611</td>\n      <td>...</td>\n      <td>1.971000e+01</td>\n      <td>B-</td>\n      <td>99.979</td>\n      <td>609.3</td>\n      <td>False</td>\n      <td>True</td>\n      <td>-0.057308</td>\n      <td>8.285796e+05</td>\n      <td>165.715924</td>\n      <td>0.150024</td>\n    </tr>\n  </tbody>\n</table>\n<p>31 rows × 32 columns</p>\n</div>"
     },
     "execution_count": 74,
     "metadata": {},
     "output_type": "execute_result"
    }
   ]
  },
  {
   "cell_type": "code",
   "source": [
    "read_result_df.groupby(\"nuclide_name\")[['activity_conc']].describe()"
   ],
   "metadata": {
    "trusted": true,
    "tags": [],
    "ExecuteTime": {
     "end_time": "2023-10-18T16:49:30.096701017Z",
     "start_time": "2023-10-18T16:49:29.952183138Z"
    }
   },
   "execution_count": 75,
   "outputs": [
    {
     "data": {
      "text/plain": "             activity_conc                                                    \\\n                     count         mean        std          min          25%   \nnuclide_name                                                                   \n110ag                  8.0    51.803323   6.213924    40.195943    49.507619   \n131i                   1.0   230.332119        NaN   230.332119   230.332119   \n137cs                  1.0    11.300127        NaN    11.300127    11.300127   \n208Tl                  1.0    12.560374        NaN    12.560374    12.560374   \n212Pb                  1.0    14.648486        NaN    14.648486    14.648486   \n214Bi                  7.0   104.911170  42.765042    38.506404    81.115776   \n214Pb                  2.0    17.432289   0.603514    17.005540    17.218914   \n228Ac                  3.0   103.148397  64.287413    65.895503    66.032126   \n24na                   1.0     6.532518        NaN     6.532518     6.532518   \n40k                    1.0  1214.233593        NaN  1214.233593  1214.233593   \n54mn                   1.0     7.747586        NaN     7.747586     7.747586   \n58co                   1.0    70.798230        NaN    70.798230    70.798230   \n60co                   2.0   219.016767   0.089431   218.953530   218.985148   \n65zn                   1.0    31.226226        NaN    31.226226    31.226226   \n\n                                                     \n                      50%          75%          max  \nnuclide_name                                         \n110ag           52.212161    55.811054    60.068488  \n131i           230.332119   230.332119   230.332119  \n137cs           11.300127    11.300127    11.300127  \n208Tl           12.560374    12.560374    12.560374  \n212Pb           14.648486    14.648486    14.648486  \n214Bi          104.030525   131.946891   165.715924  \n214Pb           17.432289    17.645663    17.859037  \n228Ac           66.168749   121.774845   177.380940  \n24na             6.532518     6.532518     6.532518  \n40k           1214.233593  1214.233593  1214.233593  \n54mn             7.747586     7.747586     7.747586  \n58co            70.798230    70.798230    70.798230  \n60co           219.016767   219.048385   219.080004  \n65zn            31.226226    31.226226    31.226226  ",
      "text/html": "<div>\n<style scoped>\n    .dataframe tbody tr th:only-of-type {\n        vertical-align: middle;\n    }\n\n    .dataframe tbody tr th {\n        vertical-align: top;\n    }\n\n    .dataframe thead tr th {\n        text-align: left;\n    }\n\n    .dataframe thead tr:last-of-type th {\n        text-align: right;\n    }\n</style>\n<table border=\"1\" class=\"dataframe\">\n  <thead>\n    <tr>\n      <th></th>\n      <th colspan=\"8\" halign=\"left\">activity_conc</th>\n    </tr>\n    <tr>\n      <th></th>\n      <th>count</th>\n      <th>mean</th>\n      <th>std</th>\n      <th>min</th>\n      <th>25%</th>\n      <th>50%</th>\n      <th>75%</th>\n      <th>max</th>\n    </tr>\n    <tr>\n      <th>nuclide_name</th>\n      <th></th>\n      <th></th>\n      <th></th>\n      <th></th>\n      <th></th>\n      <th></th>\n      <th></th>\n      <th></th>\n    </tr>\n  </thead>\n  <tbody>\n    <tr>\n      <th>110ag</th>\n      <td>8.0</td>\n      <td>51.803323</td>\n      <td>6.213924</td>\n      <td>40.195943</td>\n      <td>49.507619</td>\n      <td>52.212161</td>\n      <td>55.811054</td>\n      <td>60.068488</td>\n    </tr>\n    <tr>\n      <th>131i</th>\n      <td>1.0</td>\n      <td>230.332119</td>\n      <td>NaN</td>\n      <td>230.332119</td>\n      <td>230.332119</td>\n      <td>230.332119</td>\n      <td>230.332119</td>\n      <td>230.332119</td>\n    </tr>\n    <tr>\n      <th>137cs</th>\n      <td>1.0</td>\n      <td>11.300127</td>\n      <td>NaN</td>\n      <td>11.300127</td>\n      <td>11.300127</td>\n      <td>11.300127</td>\n      <td>11.300127</td>\n      <td>11.300127</td>\n    </tr>\n    <tr>\n      <th>208Tl</th>\n      <td>1.0</td>\n      <td>12.560374</td>\n      <td>NaN</td>\n      <td>12.560374</td>\n      <td>12.560374</td>\n      <td>12.560374</td>\n      <td>12.560374</td>\n      <td>12.560374</td>\n    </tr>\n    <tr>\n      <th>212Pb</th>\n      <td>1.0</td>\n      <td>14.648486</td>\n      <td>NaN</td>\n      <td>14.648486</td>\n      <td>14.648486</td>\n      <td>14.648486</td>\n      <td>14.648486</td>\n      <td>14.648486</td>\n    </tr>\n    <tr>\n      <th>214Bi</th>\n      <td>7.0</td>\n      <td>104.911170</td>\n      <td>42.765042</td>\n      <td>38.506404</td>\n      <td>81.115776</td>\n      <td>104.030525</td>\n      <td>131.946891</td>\n      <td>165.715924</td>\n    </tr>\n    <tr>\n      <th>214Pb</th>\n      <td>2.0</td>\n      <td>17.432289</td>\n      <td>0.603514</td>\n      <td>17.005540</td>\n      <td>17.218914</td>\n      <td>17.432289</td>\n      <td>17.645663</td>\n      <td>17.859037</td>\n    </tr>\n    <tr>\n      <th>228Ac</th>\n      <td>3.0</td>\n      <td>103.148397</td>\n      <td>64.287413</td>\n      <td>65.895503</td>\n      <td>66.032126</td>\n      <td>66.168749</td>\n      <td>121.774845</td>\n      <td>177.380940</td>\n    </tr>\n    <tr>\n      <th>24na</th>\n      <td>1.0</td>\n      <td>6.532518</td>\n      <td>NaN</td>\n      <td>6.532518</td>\n      <td>6.532518</td>\n      <td>6.532518</td>\n      <td>6.532518</td>\n      <td>6.532518</td>\n    </tr>\n    <tr>\n      <th>40k</th>\n      <td>1.0</td>\n      <td>1214.233593</td>\n      <td>NaN</td>\n      <td>1214.233593</td>\n      <td>1214.233593</td>\n      <td>1214.233593</td>\n      <td>1214.233593</td>\n      <td>1214.233593</td>\n    </tr>\n    <tr>\n      <th>54mn</th>\n      <td>1.0</td>\n      <td>7.747586</td>\n      <td>NaN</td>\n      <td>7.747586</td>\n      <td>7.747586</td>\n      <td>7.747586</td>\n      <td>7.747586</td>\n      <td>7.747586</td>\n    </tr>\n    <tr>\n      <th>58co</th>\n      <td>1.0</td>\n      <td>70.798230</td>\n      <td>NaN</td>\n      <td>70.798230</td>\n      <td>70.798230</td>\n      <td>70.798230</td>\n      <td>70.798230</td>\n      <td>70.798230</td>\n    </tr>\n    <tr>\n      <th>60co</th>\n      <td>2.0</td>\n      <td>219.016767</td>\n      <td>0.089431</td>\n      <td>218.953530</td>\n      <td>218.985148</td>\n      <td>219.016767</td>\n      <td>219.048385</td>\n      <td>219.080004</td>\n    </tr>\n    <tr>\n      <th>65zn</th>\n      <td>1.0</td>\n      <td>31.226226</td>\n      <td>NaN</td>\n      <td>31.226226</td>\n      <td>31.226226</td>\n      <td>31.226226</td>\n      <td>31.226226</td>\n      <td>31.226226</td>\n    </tr>\n  </tbody>\n</table>\n</div>"
     },
     "execution_count": 75,
     "metadata": {},
     "output_type": "execute_result"
    }
   ]
  },
  {
   "cell_type": "code",
   "source": [
    "read_result_df.loc[df_result.nuclide_name==\"110ag\"]"
   ],
   "metadata": {
    "trusted": true,
    "tags": [],
    "ExecuteTime": {
     "end_time": "2023-10-18T16:49:35.064298127Z",
     "start_time": "2023-10-18T16:49:34.955267062Z"
    }
   },
   "execution_count": 76,
   "outputs": [
    {
     "data": {
      "text/plain": "      peaks   fwhm_centr   rough_sums    centroids    variances      pk_hei  \\\n1428   1082  1082.208995  2125.483990  1082.200436  4570.516010  657.235129   \n1665   1115  1114.774649   176.695976  1115.022855  1999.057501   67.734059   \n1785   1163  1162.050038   336.295814  1161.943753  2591.560129   85.795902   \n2023   1256  1256.302992   405.106118  1256.297717  2257.095859  134.196651   \n2379   1454  1453.734014  1344.932670  1453.640093  3338.139458  367.505693   \n2616   1540  1540.041676   709.425445  1539.865159  2764.574555  175.614136   \n3797   2272  2271.692429   360.400194  2271.722928   921.547003   83.645558   \n4035   2470  2469.534452   183.362379  2469.277794   470.637621   47.058621   \n\n          lf_thr      rg_thr      promns  lf_bas  ...  half_life  decay  \\\n1428  251.432911  123.634783  657.235129    1073  ...     249.83     B-   \n1665   24.189260   36.845929   67.734059    1112  ...     249.83     B-   \n1785    0.176165   73.885618   85.795902    1152  ...     249.83     B-   \n2023   62.170938   26.847523  134.196651    1253  ...     249.83     B-   \n2379   29.182944  101.857014  367.505693    1449  ...     249.83     B-   \n2616   63.155763   38.866820  175.614136    1534  ...     249.83     B-   \n3797    7.173466   18.857337   83.645558    2267  ...     249.83     B-   \n4035    3.040656   22.974186   47.058621    2460  ...     249.83     B-   \n\n      decay_%  key_gamma  is_key_gamma  is_to_consider  delta_en  \\\n1428    98.67      657.8          True            True -0.055762   \n1665    98.67      657.8         False            True  0.132280   \n1785    98.67      657.8         False            True -0.260342   \n2023    98.67      657.8         False            True  0.108798   \n2379    98.67      657.8         False            True -0.084441   \n2616    98.67      657.8         False            True -0.223803   \n3797    98.67      657.8         False            True -0.032783   \n4035    98.67      657.8         False            True -0.115772   \n\n          disintegr  activity_conc  acti_conc_unc  \n1428  265503.009753      53.100602       0.001590  \n1665  200979.715396      40.195943       0.047529  \n1785  251750.124341      50.350025       0.031967  \n2023  234901.997231      46.980399       0.017065  \n2379  256618.596357      51.323719       0.032337  \n2616  300342.441376      60.068488       0.038160  \n3797  277092.023485      55.418405       0.092987  \n4035  284945.009912      56.989002       0.075873  \n\n[8 rows x 32 columns]",
      "text/html": "<div>\n<style scoped>\n    .dataframe tbody tr th:only-of-type {\n        vertical-align: middle;\n    }\n\n    .dataframe tbody tr th {\n        vertical-align: top;\n    }\n\n    .dataframe thead th {\n        text-align: right;\n    }\n</style>\n<table border=\"1\" class=\"dataframe\">\n  <thead>\n    <tr style=\"text-align: right;\">\n      <th></th>\n      <th>peaks</th>\n      <th>fwhm_centr</th>\n      <th>rough_sums</th>\n      <th>centroids</th>\n      <th>variances</th>\n      <th>pk_hei</th>\n      <th>lf_thr</th>\n      <th>rg_thr</th>\n      <th>promns</th>\n      <th>lf_bas</th>\n      <th>...</th>\n      <th>half_life</th>\n      <th>decay</th>\n      <th>decay_%</th>\n      <th>key_gamma</th>\n      <th>is_key_gamma</th>\n      <th>is_to_consider</th>\n      <th>delta_en</th>\n      <th>disintegr</th>\n      <th>activity_conc</th>\n      <th>acti_conc_unc</th>\n    </tr>\n  </thead>\n  <tbody>\n    <tr>\n      <th>1428</th>\n      <td>1082</td>\n      <td>1082.208995</td>\n      <td>2125.483990</td>\n      <td>1082.200436</td>\n      <td>4570.516010</td>\n      <td>657.235129</td>\n      <td>251.432911</td>\n      <td>123.634783</td>\n      <td>657.235129</td>\n      <td>1073</td>\n      <td>...</td>\n      <td>249.83</td>\n      <td>B-</td>\n      <td>98.67</td>\n      <td>657.8</td>\n      <td>True</td>\n      <td>True</td>\n      <td>-0.055762</td>\n      <td>265503.009753</td>\n      <td>53.100602</td>\n      <td>0.001590</td>\n    </tr>\n    <tr>\n      <th>1665</th>\n      <td>1115</td>\n      <td>1114.774649</td>\n      <td>176.695976</td>\n      <td>1115.022855</td>\n      <td>1999.057501</td>\n      <td>67.734059</td>\n      <td>24.189260</td>\n      <td>36.845929</td>\n      <td>67.734059</td>\n      <td>1112</td>\n      <td>...</td>\n      <td>249.83</td>\n      <td>B-</td>\n      <td>98.67</td>\n      <td>657.8</td>\n      <td>False</td>\n      <td>True</td>\n      <td>0.132280</td>\n      <td>200979.715396</td>\n      <td>40.195943</td>\n      <td>0.047529</td>\n    </tr>\n    <tr>\n      <th>1785</th>\n      <td>1163</td>\n      <td>1162.050038</td>\n      <td>336.295814</td>\n      <td>1161.943753</td>\n      <td>2591.560129</td>\n      <td>85.795902</td>\n      <td>0.176165</td>\n      <td>73.885618</td>\n      <td>85.795902</td>\n      <td>1152</td>\n      <td>...</td>\n      <td>249.83</td>\n      <td>B-</td>\n      <td>98.67</td>\n      <td>657.8</td>\n      <td>False</td>\n      <td>True</td>\n      <td>-0.260342</td>\n      <td>251750.124341</td>\n      <td>50.350025</td>\n      <td>0.031967</td>\n    </tr>\n    <tr>\n      <th>2023</th>\n      <td>1256</td>\n      <td>1256.302992</td>\n      <td>405.106118</td>\n      <td>1256.297717</td>\n      <td>2257.095859</td>\n      <td>134.196651</td>\n      <td>62.170938</td>\n      <td>26.847523</td>\n      <td>134.196651</td>\n      <td>1253</td>\n      <td>...</td>\n      <td>249.83</td>\n      <td>B-</td>\n      <td>98.67</td>\n      <td>657.8</td>\n      <td>False</td>\n      <td>True</td>\n      <td>0.108798</td>\n      <td>234901.997231</td>\n      <td>46.980399</td>\n      <td>0.017065</td>\n    </tr>\n    <tr>\n      <th>2379</th>\n      <td>1454</td>\n      <td>1453.734014</td>\n      <td>1344.932670</td>\n      <td>1453.640093</td>\n      <td>3338.139458</td>\n      <td>367.505693</td>\n      <td>29.182944</td>\n      <td>101.857014</td>\n      <td>367.505693</td>\n      <td>1449</td>\n      <td>...</td>\n      <td>249.83</td>\n      <td>B-</td>\n      <td>98.67</td>\n      <td>657.8</td>\n      <td>False</td>\n      <td>True</td>\n      <td>-0.084441</td>\n      <td>256618.596357</td>\n      <td>51.323719</td>\n      <td>0.032337</td>\n    </tr>\n    <tr>\n      <th>2616</th>\n      <td>1540</td>\n      <td>1540.041676</td>\n      <td>709.425445</td>\n      <td>1539.865159</td>\n      <td>2764.574555</td>\n      <td>175.614136</td>\n      <td>63.155763</td>\n      <td>38.866820</td>\n      <td>175.614136</td>\n      <td>1534</td>\n      <td>...</td>\n      <td>249.83</td>\n      <td>B-</td>\n      <td>98.67</td>\n      <td>657.8</td>\n      <td>False</td>\n      <td>True</td>\n      <td>-0.223803</td>\n      <td>300342.441376</td>\n      <td>60.068488</td>\n      <td>0.038160</td>\n    </tr>\n    <tr>\n      <th>3797</th>\n      <td>2272</td>\n      <td>2271.692429</td>\n      <td>360.400194</td>\n      <td>2271.722928</td>\n      <td>921.547003</td>\n      <td>83.645558</td>\n      <td>7.173466</td>\n      <td>18.857337</td>\n      <td>83.645558</td>\n      <td>2267</td>\n      <td>...</td>\n      <td>249.83</td>\n      <td>B-</td>\n      <td>98.67</td>\n      <td>657.8</td>\n      <td>False</td>\n      <td>True</td>\n      <td>-0.032783</td>\n      <td>277092.023485</td>\n      <td>55.418405</td>\n      <td>0.092987</td>\n    </tr>\n    <tr>\n      <th>4035</th>\n      <td>2470</td>\n      <td>2469.534452</td>\n      <td>183.362379</td>\n      <td>2469.277794</td>\n      <td>470.637621</td>\n      <td>47.058621</td>\n      <td>3.040656</td>\n      <td>22.974186</td>\n      <td>47.058621</td>\n      <td>2460</td>\n      <td>...</td>\n      <td>249.83</td>\n      <td>B-</td>\n      <td>98.67</td>\n      <td>657.8</td>\n      <td>False</td>\n      <td>True</td>\n      <td>-0.115772</td>\n      <td>284945.009912</td>\n      <td>56.989002</td>\n      <td>0.075873</td>\n    </tr>\n  </tbody>\n</table>\n<p>8 rows × 32 columns</p>\n</div>"
     },
     "execution_count": 76,
     "metadata": {},
     "output_type": "execute_result"
    }
   ]
  },
  {
   "cell_type": "code",
   "source": [
    "# 2023-Sep-21\n",
    "# Now use the assembled peak df, read_result_df, to proceed."
   ],
   "metadata": {
    "ExecuteTime": {
     "end_time": "2023-10-18T16:49:37.247822025Z",
     "start_time": "2023-10-18T16:49:37.192708435Z"
    }
   },
   "execution_count": 77,
   "outputs": []
  },
  {
   "cell_type": "code",
   "execution_count": 78,
   "outputs": [
    {
     "data": {
      "text/plain": "      peaks   fwhm_centr   rough_sums    centroids     variances       pk_hei  \\\n543     396   396.401754   630.310441   396.426778  10404.641509   162.845302   \n667     489   488.997063   249.976688   488.967375   4072.023312   125.089174   \n786     581   581.463638   430.396173   581.647407   5405.821287   147.276132   \n1129    960   960.088168   483.773366   960.065118   3335.841582   148.624963   \n1260   1003  1002.888165   769.886444  1002.931019   3458.113556   220.739274   \n1428   1082  1082.208995  2125.483990  1082.200436   4570.516010   657.235129   \n1566   1088  1088.722180   401.081225  1088.105023   2556.918775    97.223236   \n1665   1115  1114.774649   176.695976  1115.022855   1999.057501    67.734059   \n1785   1163  1162.050038   336.295814  1161.943753   2591.560129    85.795902   \n1916   1189  1189.227086   160.747926  1189.208186   1865.322724    64.537729   \n2023   1256  1256.302992   405.106118  1256.297717   2257.095859   134.196651   \n2128   1333  1332.711271  2591.874119  1332.650344   4761.752838   751.356428   \n2245   1372  1372.729536   280.179798  1372.499811   3213.742890    65.116362   \n2379   1454  1453.734014  1344.932670  1453.640093   3338.139458   367.505693   \n2589   1498  1497.331339   583.585709  1497.348693   2898.191988   142.666499   \n2616   1540  1540.041676   709.425445  1539.865159   2764.574555   175.614136   \n2945   1592  1591.886380   345.779231  1591.826779   1952.269003    99.327543   \n2957   1832  1831.914493   472.981339  1832.180142   2007.018661   108.310877   \n3153   1840  1839.413659   319.008013  1839.453015   1418.991987    88.356843   \n3191   1926  1926.179506  6398.833656  1926.124036   7679.166344  1698.898100   \n3391   2032  2032.335868   150.062903  2032.321879    865.937097    39.200234   \n3428   2187  2186.952804  5848.127892  2186.881900   6473.872108  1402.774453   \n3540   2247  2246.361081   170.789713  2246.149438    610.315531    57.090852   \n3747   2262  2260.909926   107.824449  2261.366983    633.663193    25.844698   \n3797   2272  2271.692429   360.400194  2271.722928    921.547003    83.645558   \n3959   2397  2397.354424  3206.949995  2397.267432   3637.050005   777.060380   \n4035   2470  2469.534452   183.362379  2469.277794    470.637621    47.058621   \n4244   2606  2605.351065   131.163569  2605.622131    358.836431    42.782923   \n4579   2894  2894.703133   397.650084  2894.518455    654.835127    91.256400   \n4698   3030  3030.293398    54.452120  3030.019570    153.547880    23.091528   \n4936   3615  3614.038497   124.857782  3614.158312    343.648757    28.476903   \n\n          lf_thr      rg_thr       promns  lf_bas  ...  decay_%  key_gamma  \\\n543    70.909899   49.239266   162.845302     392  ...  100.000      238.6   \n667    88.241458   88.978919   125.089174     485  ...  100.000      351.9   \n786    89.934593    1.069452   147.276132     579  ...  100.000      351.9   \n1129   51.372759   40.677023   148.624963     955  ...  100.000      583.2   \n1260   40.375893   77.703349   220.739274     990  ...   99.979      609.3   \n1428  251.432911  123.634783   657.235129    1073  ...   98.670      657.8   \n1566   59.126652   28.889179    69.221096    1086  ...  100.000      661.7   \n1665   24.189260   36.845929    67.734059    1112  ...   98.670      657.8   \n1785    0.176165   73.885618    85.795902    1152  ...   98.670      657.8   \n1916   34.156127   10.853057    64.537729    1186  ...  100.000      364.5   \n2023   62.170938   26.847523   134.196651    1253  ...   98.670      657.8   \n2128   92.344345  268.763363   751.356428    1328  ...  100.000      810.8   \n2245   25.123727    5.880614    65.116362    1369  ...  100.000      834.8   \n2379   29.182944  101.857014   367.505693    1449  ...   98.670      657.8   \n2589   25.140725   51.889893   142.666499    1494  ...  100.000      911.6   \n2616   63.155763   38.866820   175.614136    1534  ...   98.670      657.8   \n2945   26.119164   25.897229    99.327543    1588  ...  100.000      911.6   \n2957   16.197018   27.833974   108.310877    1816  ...  100.000     1115.5   \n3153   22.173774   48.880461    74.557849    1836  ...   99.979      609.3   \n3191  468.438806  262.626878  1698.898100    1916  ...  100.000     1332.5   \n3391   20.187085    6.828505    39.200234    2028  ...   99.979      609.3   \n3428  223.650380  221.450518  1402.774453    2177  ...  100.000     1332.5   \n3540   27.132936   33.922184    57.090852    2242  ...  100.000     1368.6   \n3747    8.081059   17.948122    25.844698    2257  ...   99.979      609.3   \n3797    7.173466   18.857337    83.645558    2267  ...   98.670      657.8   \n3959  263.219632   21.786446   777.060380    2389  ...   10.720     1460.8   \n4035    3.040656   22.974186    47.058621    2460  ...   98.670      657.8   \n4244   20.020247   26.989344    42.782923    2600  ...  100.000      911.6   \n4579   36.028978   12.974715    91.256400    2889  ...   99.979      609.3   \n4698   19.009584    9.993320    23.091528    3021  ...   99.979      609.3   \n4936    6.988944    9.008367    28.476903    3611  ...   99.979      609.3   \n\n      is_key_gamma  is_to_consider  delta_en     disintegr  activity_conc  \\\n543           True            True  0.138932  7.324243e+04      14.648486   \n667          False            True  0.081981  8.502770e+04      17.005540   \n786           True            True -0.006656  8.929519e+04      17.859037   \n1129          True            True -0.090700  6.280187e+04      12.560374   \n1260          True            True -0.039338  1.925320e+05      38.506404   \n1428          True            True -0.055762  2.655030e+05      53.100602   \n1566          True            True -0.345907  5.650064e+04      11.300127   \n1665         False            True  0.132280  2.009797e+05      40.195943   \n1785         False            True -0.260342  2.517501e+05      50.350025   \n1916         False            True  0.159063  1.151661e+06     230.332119   \n2023         False            True  0.108798  2.349020e+05      46.980399   \n2128          True            True -0.069229  3.539912e+05      70.798230   \n2245          True            True  0.183294  3.873793e+04       7.747586   \n2379         False            True -0.084441  2.566186e+05      51.323719   \n2589         False            True  0.087608  3.294775e+05      65.895503   \n2616         False            True -0.223803  3.003424e+05      60.068488   \n2945         False            True  0.028754  3.308437e+05      66.168749   \n2957          True            True  0.266873  1.561311e+05      31.226226   \n3153         False            True -0.045999  3.546413e+05      70.928257   \n3191         False            True -0.043459  1.094768e+06     218.953530   \n3391         False            True -0.075452  4.565165e+05      91.303296   \n3428          True            True -0.047526  1.095400e+06     219.080004   \n3540          True            True  0.016631  3.266259e+04       6.532518   \n3747         False            True  0.266563  5.201526e+05     104.030525   \n3797         False            True -0.032783  2.770920e+05      55.418405   \n3959          True            True  0.114079  6.071168e+06    1214.233593   \n4035         False            True -0.115772  2.849450e+05      56.989002   \n4244         False            True -0.021038  8.869047e+05     177.380940   \n4579         False            True  0.113363  6.315313e+05     126.306270   \n4698         False            True -0.082704  6.879376e+05     137.587513   \n4936         False            True -0.057308  8.285796e+05     165.715924   \n\n     acti_conc_unc        one_s2          x_s2  \n543       0.028856  1.200997e+03  1.759279e+04  \n667       0.026439  1.430588e+03  2.432792e+04  \n786       0.020093  2.476997e+03  4.423678e+04  \n1129      0.005293  3.570004e+04  4.484058e+05  \n1260      0.012298  6.611768e+03  2.545954e+05  \n1428      0.001590  3.956154e+05  2.100741e+07  \n1566      0.003348  8.920315e+04  1.008007e+06  \n1665      0.047529  4.426813e+02  1.779399e+04  \n1785      0.031967  9.785857e+02  4.927181e+04  \n1916      0.936011  1.141399e+00  2.629009e+02  \n2023      0.017065  3.433800e+03  1.613213e+05  \n2128      0.000190  2.783721e+07  1.970825e+09  \n2245      0.000016  4.067440e+09  3.151284e+10  \n2379      0.032337  9.563074e+02  4.908125e+04  \n2589      0.094244  1.125875e+02  7.419007e+03  \n2616      0.038160  6.867290e+02  4.125077e+04  \n2945      0.160542  3.879931e+01  2.567302e+03  \n2957      0.005911  2.862412e+04  8.938234e+05  \n3153      0.044969  4.945125e+02  3.507491e+04  \n3191      0.000901  1.232075e+06  2.697673e+08  \n3391      0.092132  1.178100e+02  1.075644e+04  \n3428      0.000018  3.056402e+09  6.695966e+11  \n3540      0.000019  2.799598e+09  1.828842e+10  \n3747      0.134081  5.562445e+01  5.786641e+03  \n3797      0.092987  1.156517e+02  6.409231e+03  \n3959      0.278465  1.289610e+01  1.565888e+04  \n4035      0.075873  1.737119e+02  9.899666e+03  \n4244      0.636467  2.468583e+00  4.378796e+02  \n4579      0.042528  5.529112e+02  6.983615e+04  \n4698      0.247145  1.637176e+01  2.252549e+03  \n4936      0.150024  4.442993e+01  7.362747e+03  \n\n[31 rows x 34 columns]",
      "text/html": "<div>\n<style scoped>\n    .dataframe tbody tr th:only-of-type {\n        vertical-align: middle;\n    }\n\n    .dataframe tbody tr th {\n        vertical-align: top;\n    }\n\n    .dataframe thead th {\n        text-align: right;\n    }\n</style>\n<table border=\"1\" class=\"dataframe\">\n  <thead>\n    <tr style=\"text-align: right;\">\n      <th></th>\n      <th>peaks</th>\n      <th>fwhm_centr</th>\n      <th>rough_sums</th>\n      <th>centroids</th>\n      <th>variances</th>\n      <th>pk_hei</th>\n      <th>lf_thr</th>\n      <th>rg_thr</th>\n      <th>promns</th>\n      <th>lf_bas</th>\n      <th>...</th>\n      <th>decay_%</th>\n      <th>key_gamma</th>\n      <th>is_key_gamma</th>\n      <th>is_to_consider</th>\n      <th>delta_en</th>\n      <th>disintegr</th>\n      <th>activity_conc</th>\n      <th>acti_conc_unc</th>\n      <th>one_s2</th>\n      <th>x_s2</th>\n    </tr>\n  </thead>\n  <tbody>\n    <tr>\n      <th>543</th>\n      <td>396</td>\n      <td>396.401754</td>\n      <td>630.310441</td>\n      <td>396.426778</td>\n      <td>10404.641509</td>\n      <td>162.845302</td>\n      <td>70.909899</td>\n      <td>49.239266</td>\n      <td>162.845302</td>\n      <td>392</td>\n      <td>...</td>\n      <td>100.000</td>\n      <td>238.6</td>\n      <td>True</td>\n      <td>True</td>\n      <td>0.138932</td>\n      <td>7.324243e+04</td>\n      <td>14.648486</td>\n      <td>0.028856</td>\n      <td>1.200997e+03</td>\n      <td>1.759279e+04</td>\n    </tr>\n    <tr>\n      <th>667</th>\n      <td>489</td>\n      <td>488.997063</td>\n      <td>249.976688</td>\n      <td>488.967375</td>\n      <td>4072.023312</td>\n      <td>125.089174</td>\n      <td>88.241458</td>\n      <td>88.978919</td>\n      <td>125.089174</td>\n      <td>485</td>\n      <td>...</td>\n      <td>100.000</td>\n      <td>351.9</td>\n      <td>False</td>\n      <td>True</td>\n      <td>0.081981</td>\n      <td>8.502770e+04</td>\n      <td>17.005540</td>\n      <td>0.026439</td>\n      <td>1.430588e+03</td>\n      <td>2.432792e+04</td>\n    </tr>\n    <tr>\n      <th>786</th>\n      <td>581</td>\n      <td>581.463638</td>\n      <td>430.396173</td>\n      <td>581.647407</td>\n      <td>5405.821287</td>\n      <td>147.276132</td>\n      <td>89.934593</td>\n      <td>1.069452</td>\n      <td>147.276132</td>\n      <td>579</td>\n      <td>...</td>\n      <td>100.000</td>\n      <td>351.9</td>\n      <td>True</td>\n      <td>True</td>\n      <td>-0.006656</td>\n      <td>8.929519e+04</td>\n      <td>17.859037</td>\n      <td>0.020093</td>\n      <td>2.476997e+03</td>\n      <td>4.423678e+04</td>\n    </tr>\n    <tr>\n      <th>1129</th>\n      <td>960</td>\n      <td>960.088168</td>\n      <td>483.773366</td>\n      <td>960.065118</td>\n      <td>3335.841582</td>\n      <td>148.624963</td>\n      <td>51.372759</td>\n      <td>40.677023</td>\n      <td>148.624963</td>\n      <td>955</td>\n      <td>...</td>\n      <td>100.000</td>\n      <td>583.2</td>\n      <td>True</td>\n      <td>True</td>\n      <td>-0.090700</td>\n      <td>6.280187e+04</td>\n      <td>12.560374</td>\n      <td>0.005293</td>\n      <td>3.570004e+04</td>\n      <td>4.484058e+05</td>\n    </tr>\n    <tr>\n      <th>1260</th>\n      <td>1003</td>\n      <td>1002.888165</td>\n      <td>769.886444</td>\n      <td>1002.931019</td>\n      <td>3458.113556</td>\n      <td>220.739274</td>\n      <td>40.375893</td>\n      <td>77.703349</td>\n      <td>220.739274</td>\n      <td>990</td>\n      <td>...</td>\n      <td>99.979</td>\n      <td>609.3</td>\n      <td>True</td>\n      <td>True</td>\n      <td>-0.039338</td>\n      <td>1.925320e+05</td>\n      <td>38.506404</td>\n      <td>0.012298</td>\n      <td>6.611768e+03</td>\n      <td>2.545954e+05</td>\n    </tr>\n    <tr>\n      <th>1428</th>\n      <td>1082</td>\n      <td>1082.208995</td>\n      <td>2125.483990</td>\n      <td>1082.200436</td>\n      <td>4570.516010</td>\n      <td>657.235129</td>\n      <td>251.432911</td>\n      <td>123.634783</td>\n      <td>657.235129</td>\n      <td>1073</td>\n      <td>...</td>\n      <td>98.670</td>\n      <td>657.8</td>\n      <td>True</td>\n      <td>True</td>\n      <td>-0.055762</td>\n      <td>2.655030e+05</td>\n      <td>53.100602</td>\n      <td>0.001590</td>\n      <td>3.956154e+05</td>\n      <td>2.100741e+07</td>\n    </tr>\n    <tr>\n      <th>1566</th>\n      <td>1088</td>\n      <td>1088.722180</td>\n      <td>401.081225</td>\n      <td>1088.105023</td>\n      <td>2556.918775</td>\n      <td>97.223236</td>\n      <td>59.126652</td>\n      <td>28.889179</td>\n      <td>69.221096</td>\n      <td>1086</td>\n      <td>...</td>\n      <td>100.000</td>\n      <td>661.7</td>\n      <td>True</td>\n      <td>True</td>\n      <td>-0.345907</td>\n      <td>5.650064e+04</td>\n      <td>11.300127</td>\n      <td>0.003348</td>\n      <td>8.920315e+04</td>\n      <td>1.008007e+06</td>\n    </tr>\n    <tr>\n      <th>1665</th>\n      <td>1115</td>\n      <td>1114.774649</td>\n      <td>176.695976</td>\n      <td>1115.022855</td>\n      <td>1999.057501</td>\n      <td>67.734059</td>\n      <td>24.189260</td>\n      <td>36.845929</td>\n      <td>67.734059</td>\n      <td>1112</td>\n      <td>...</td>\n      <td>98.670</td>\n      <td>657.8</td>\n      <td>False</td>\n      <td>True</td>\n      <td>0.132280</td>\n      <td>2.009797e+05</td>\n      <td>40.195943</td>\n      <td>0.047529</td>\n      <td>4.426813e+02</td>\n      <td>1.779399e+04</td>\n    </tr>\n    <tr>\n      <th>1785</th>\n      <td>1163</td>\n      <td>1162.050038</td>\n      <td>336.295814</td>\n      <td>1161.943753</td>\n      <td>2591.560129</td>\n      <td>85.795902</td>\n      <td>0.176165</td>\n      <td>73.885618</td>\n      <td>85.795902</td>\n      <td>1152</td>\n      <td>...</td>\n      <td>98.670</td>\n      <td>657.8</td>\n      <td>False</td>\n      <td>True</td>\n      <td>-0.260342</td>\n      <td>2.517501e+05</td>\n      <td>50.350025</td>\n      <td>0.031967</td>\n      <td>9.785857e+02</td>\n      <td>4.927181e+04</td>\n    </tr>\n    <tr>\n      <th>1916</th>\n      <td>1189</td>\n      <td>1189.227086</td>\n      <td>160.747926</td>\n      <td>1189.208186</td>\n      <td>1865.322724</td>\n      <td>64.537729</td>\n      <td>34.156127</td>\n      <td>10.853057</td>\n      <td>64.537729</td>\n      <td>1186</td>\n      <td>...</td>\n      <td>100.000</td>\n      <td>364.5</td>\n      <td>False</td>\n      <td>True</td>\n      <td>0.159063</td>\n      <td>1.151661e+06</td>\n      <td>230.332119</td>\n      <td>0.936011</td>\n      <td>1.141399e+00</td>\n      <td>2.629009e+02</td>\n    </tr>\n    <tr>\n      <th>2023</th>\n      <td>1256</td>\n      <td>1256.302992</td>\n      <td>405.106118</td>\n      <td>1256.297717</td>\n      <td>2257.095859</td>\n      <td>134.196651</td>\n      <td>62.170938</td>\n      <td>26.847523</td>\n      <td>134.196651</td>\n      <td>1253</td>\n      <td>...</td>\n      <td>98.670</td>\n      <td>657.8</td>\n      <td>False</td>\n      <td>True</td>\n      <td>0.108798</td>\n      <td>2.349020e+05</td>\n      <td>46.980399</td>\n      <td>0.017065</td>\n      <td>3.433800e+03</td>\n      <td>1.613213e+05</td>\n    </tr>\n    <tr>\n      <th>2128</th>\n      <td>1333</td>\n      <td>1332.711271</td>\n      <td>2591.874119</td>\n      <td>1332.650344</td>\n      <td>4761.752838</td>\n      <td>751.356428</td>\n      <td>92.344345</td>\n      <td>268.763363</td>\n      <td>751.356428</td>\n      <td>1328</td>\n      <td>...</td>\n      <td>100.000</td>\n      <td>810.8</td>\n      <td>True</td>\n      <td>True</td>\n      <td>-0.069229</td>\n      <td>3.539912e+05</td>\n      <td>70.798230</td>\n      <td>0.000190</td>\n      <td>2.783721e+07</td>\n      <td>1.970825e+09</td>\n    </tr>\n    <tr>\n      <th>2245</th>\n      <td>1372</td>\n      <td>1372.729536</td>\n      <td>280.179798</td>\n      <td>1372.499811</td>\n      <td>3213.742890</td>\n      <td>65.116362</td>\n      <td>25.123727</td>\n      <td>5.880614</td>\n      <td>65.116362</td>\n      <td>1369</td>\n      <td>...</td>\n      <td>100.000</td>\n      <td>834.8</td>\n      <td>True</td>\n      <td>True</td>\n      <td>0.183294</td>\n      <td>3.873793e+04</td>\n      <td>7.747586</td>\n      <td>0.000016</td>\n      <td>4.067440e+09</td>\n      <td>3.151284e+10</td>\n    </tr>\n    <tr>\n      <th>2379</th>\n      <td>1454</td>\n      <td>1453.734014</td>\n      <td>1344.932670</td>\n      <td>1453.640093</td>\n      <td>3338.139458</td>\n      <td>367.505693</td>\n      <td>29.182944</td>\n      <td>101.857014</td>\n      <td>367.505693</td>\n      <td>1449</td>\n      <td>...</td>\n      <td>98.670</td>\n      <td>657.8</td>\n      <td>False</td>\n      <td>True</td>\n      <td>-0.084441</td>\n      <td>2.566186e+05</td>\n      <td>51.323719</td>\n      <td>0.032337</td>\n      <td>9.563074e+02</td>\n      <td>4.908125e+04</td>\n    </tr>\n    <tr>\n      <th>2589</th>\n      <td>1498</td>\n      <td>1497.331339</td>\n      <td>583.585709</td>\n      <td>1497.348693</td>\n      <td>2898.191988</td>\n      <td>142.666499</td>\n      <td>25.140725</td>\n      <td>51.889893</td>\n      <td>142.666499</td>\n      <td>1494</td>\n      <td>...</td>\n      <td>100.000</td>\n      <td>911.6</td>\n      <td>False</td>\n      <td>True</td>\n      <td>0.087608</td>\n      <td>3.294775e+05</td>\n      <td>65.895503</td>\n      <td>0.094244</td>\n      <td>1.125875e+02</td>\n      <td>7.419007e+03</td>\n    </tr>\n    <tr>\n      <th>2616</th>\n      <td>1540</td>\n      <td>1540.041676</td>\n      <td>709.425445</td>\n      <td>1539.865159</td>\n      <td>2764.574555</td>\n      <td>175.614136</td>\n      <td>63.155763</td>\n      <td>38.866820</td>\n      <td>175.614136</td>\n      <td>1534</td>\n      <td>...</td>\n      <td>98.670</td>\n      <td>657.8</td>\n      <td>False</td>\n      <td>True</td>\n      <td>-0.223803</td>\n      <td>3.003424e+05</td>\n      <td>60.068488</td>\n      <td>0.038160</td>\n      <td>6.867290e+02</td>\n      <td>4.125077e+04</td>\n    </tr>\n    <tr>\n      <th>2945</th>\n      <td>1592</td>\n      <td>1591.886380</td>\n      <td>345.779231</td>\n      <td>1591.826779</td>\n      <td>1952.269003</td>\n      <td>99.327543</td>\n      <td>26.119164</td>\n      <td>25.897229</td>\n      <td>99.327543</td>\n      <td>1588</td>\n      <td>...</td>\n      <td>100.000</td>\n      <td>911.6</td>\n      <td>False</td>\n      <td>True</td>\n      <td>0.028754</td>\n      <td>3.308437e+05</td>\n      <td>66.168749</td>\n      <td>0.160542</td>\n      <td>3.879931e+01</td>\n      <td>2.567302e+03</td>\n    </tr>\n    <tr>\n      <th>2957</th>\n      <td>1832</td>\n      <td>1831.914493</td>\n      <td>472.981339</td>\n      <td>1832.180142</td>\n      <td>2007.018661</td>\n      <td>108.310877</td>\n      <td>16.197018</td>\n      <td>27.833974</td>\n      <td>108.310877</td>\n      <td>1816</td>\n      <td>...</td>\n      <td>100.000</td>\n      <td>1115.5</td>\n      <td>True</td>\n      <td>True</td>\n      <td>0.266873</td>\n      <td>1.561311e+05</td>\n      <td>31.226226</td>\n      <td>0.005911</td>\n      <td>2.862412e+04</td>\n      <td>8.938234e+05</td>\n    </tr>\n    <tr>\n      <th>3153</th>\n      <td>1840</td>\n      <td>1839.413659</td>\n      <td>319.008013</td>\n      <td>1839.453015</td>\n      <td>1418.991987</td>\n      <td>88.356843</td>\n      <td>22.173774</td>\n      <td>48.880461</td>\n      <td>74.557849</td>\n      <td>1836</td>\n      <td>...</td>\n      <td>99.979</td>\n      <td>609.3</td>\n      <td>False</td>\n      <td>True</td>\n      <td>-0.045999</td>\n      <td>3.546413e+05</td>\n      <td>70.928257</td>\n      <td>0.044969</td>\n      <td>4.945125e+02</td>\n      <td>3.507491e+04</td>\n    </tr>\n    <tr>\n      <th>3191</th>\n      <td>1926</td>\n      <td>1926.179506</td>\n      <td>6398.833656</td>\n      <td>1926.124036</td>\n      <td>7679.166344</td>\n      <td>1698.898100</td>\n      <td>468.438806</td>\n      <td>262.626878</td>\n      <td>1698.898100</td>\n      <td>1916</td>\n      <td>...</td>\n      <td>100.000</td>\n      <td>1332.5</td>\n      <td>False</td>\n      <td>True</td>\n      <td>-0.043459</td>\n      <td>1.094768e+06</td>\n      <td>218.953530</td>\n      <td>0.000901</td>\n      <td>1.232075e+06</td>\n      <td>2.697673e+08</td>\n    </tr>\n    <tr>\n      <th>3391</th>\n      <td>2032</td>\n      <td>2032.335868</td>\n      <td>150.062903</td>\n      <td>2032.321879</td>\n      <td>865.937097</td>\n      <td>39.200234</td>\n      <td>20.187085</td>\n      <td>6.828505</td>\n      <td>39.200234</td>\n      <td>2028</td>\n      <td>...</td>\n      <td>99.979</td>\n      <td>609.3</td>\n      <td>False</td>\n      <td>True</td>\n      <td>-0.075452</td>\n      <td>4.565165e+05</td>\n      <td>91.303296</td>\n      <td>0.092132</td>\n      <td>1.178100e+02</td>\n      <td>1.075644e+04</td>\n    </tr>\n    <tr>\n      <th>3428</th>\n      <td>2187</td>\n      <td>2186.952804</td>\n      <td>5848.127892</td>\n      <td>2186.881900</td>\n      <td>6473.872108</td>\n      <td>1402.774453</td>\n      <td>223.650380</td>\n      <td>221.450518</td>\n      <td>1402.774453</td>\n      <td>2177</td>\n      <td>...</td>\n      <td>100.000</td>\n      <td>1332.5</td>\n      <td>True</td>\n      <td>True</td>\n      <td>-0.047526</td>\n      <td>1.095400e+06</td>\n      <td>219.080004</td>\n      <td>0.000018</td>\n      <td>3.056402e+09</td>\n      <td>6.695966e+11</td>\n    </tr>\n    <tr>\n      <th>3540</th>\n      <td>2247</td>\n      <td>2246.361081</td>\n      <td>170.789713</td>\n      <td>2246.149438</td>\n      <td>610.315531</td>\n      <td>57.090852</td>\n      <td>27.132936</td>\n      <td>33.922184</td>\n      <td>57.090852</td>\n      <td>2242</td>\n      <td>...</td>\n      <td>100.000</td>\n      <td>1368.6</td>\n      <td>True</td>\n      <td>True</td>\n      <td>0.016631</td>\n      <td>3.266259e+04</td>\n      <td>6.532518</td>\n      <td>0.000019</td>\n      <td>2.799598e+09</td>\n      <td>1.828842e+10</td>\n    </tr>\n    <tr>\n      <th>3747</th>\n      <td>2262</td>\n      <td>2260.909926</td>\n      <td>107.824449</td>\n      <td>2261.366983</td>\n      <td>633.663193</td>\n      <td>25.844698</td>\n      <td>8.081059</td>\n      <td>17.948122</td>\n      <td>25.844698</td>\n      <td>2257</td>\n      <td>...</td>\n      <td>99.979</td>\n      <td>609.3</td>\n      <td>False</td>\n      <td>True</td>\n      <td>0.266563</td>\n      <td>5.201526e+05</td>\n      <td>104.030525</td>\n      <td>0.134081</td>\n      <td>5.562445e+01</td>\n      <td>5.786641e+03</td>\n    </tr>\n    <tr>\n      <th>3797</th>\n      <td>2272</td>\n      <td>2271.692429</td>\n      <td>360.400194</td>\n      <td>2271.722928</td>\n      <td>921.547003</td>\n      <td>83.645558</td>\n      <td>7.173466</td>\n      <td>18.857337</td>\n      <td>83.645558</td>\n      <td>2267</td>\n      <td>...</td>\n      <td>98.670</td>\n      <td>657.8</td>\n      <td>False</td>\n      <td>True</td>\n      <td>-0.032783</td>\n      <td>2.770920e+05</td>\n      <td>55.418405</td>\n      <td>0.092987</td>\n      <td>1.156517e+02</td>\n      <td>6.409231e+03</td>\n    </tr>\n    <tr>\n      <th>3959</th>\n      <td>2397</td>\n      <td>2397.354424</td>\n      <td>3206.949995</td>\n      <td>2397.267432</td>\n      <td>3637.050005</td>\n      <td>777.060380</td>\n      <td>263.219632</td>\n      <td>21.786446</td>\n      <td>777.060380</td>\n      <td>2389</td>\n      <td>...</td>\n      <td>10.720</td>\n      <td>1460.8</td>\n      <td>True</td>\n      <td>True</td>\n      <td>0.114079</td>\n      <td>6.071168e+06</td>\n      <td>1214.233593</td>\n      <td>0.278465</td>\n      <td>1.289610e+01</td>\n      <td>1.565888e+04</td>\n    </tr>\n    <tr>\n      <th>4035</th>\n      <td>2470</td>\n      <td>2469.534452</td>\n      <td>183.362379</td>\n      <td>2469.277794</td>\n      <td>470.637621</td>\n      <td>47.058621</td>\n      <td>3.040656</td>\n      <td>22.974186</td>\n      <td>47.058621</td>\n      <td>2460</td>\n      <td>...</td>\n      <td>98.670</td>\n      <td>657.8</td>\n      <td>False</td>\n      <td>True</td>\n      <td>-0.115772</td>\n      <td>2.849450e+05</td>\n      <td>56.989002</td>\n      <td>0.075873</td>\n      <td>1.737119e+02</td>\n      <td>9.899666e+03</td>\n    </tr>\n    <tr>\n      <th>4244</th>\n      <td>2606</td>\n      <td>2605.351065</td>\n      <td>131.163569</td>\n      <td>2605.622131</td>\n      <td>358.836431</td>\n      <td>42.782923</td>\n      <td>20.020247</td>\n      <td>26.989344</td>\n      <td>42.782923</td>\n      <td>2600</td>\n      <td>...</td>\n      <td>100.000</td>\n      <td>911.6</td>\n      <td>False</td>\n      <td>True</td>\n      <td>-0.021038</td>\n      <td>8.869047e+05</td>\n      <td>177.380940</td>\n      <td>0.636467</td>\n      <td>2.468583e+00</td>\n      <td>4.378796e+02</td>\n    </tr>\n    <tr>\n      <th>4579</th>\n      <td>2894</td>\n      <td>2894.703133</td>\n      <td>397.650084</td>\n      <td>2894.518455</td>\n      <td>654.835127</td>\n      <td>91.256400</td>\n      <td>36.028978</td>\n      <td>12.974715</td>\n      <td>91.256400</td>\n      <td>2889</td>\n      <td>...</td>\n      <td>99.979</td>\n      <td>609.3</td>\n      <td>False</td>\n      <td>True</td>\n      <td>0.113363</td>\n      <td>6.315313e+05</td>\n      <td>126.306270</td>\n      <td>0.042528</td>\n      <td>5.529112e+02</td>\n      <td>6.983615e+04</td>\n    </tr>\n    <tr>\n      <th>4698</th>\n      <td>3030</td>\n      <td>3030.293398</td>\n      <td>54.452120</td>\n      <td>3030.019570</td>\n      <td>153.547880</td>\n      <td>23.091528</td>\n      <td>19.009584</td>\n      <td>9.993320</td>\n      <td>23.091528</td>\n      <td>3021</td>\n      <td>...</td>\n      <td>99.979</td>\n      <td>609.3</td>\n      <td>False</td>\n      <td>True</td>\n      <td>-0.082704</td>\n      <td>6.879376e+05</td>\n      <td>137.587513</td>\n      <td>0.247145</td>\n      <td>1.637176e+01</td>\n      <td>2.252549e+03</td>\n    </tr>\n    <tr>\n      <th>4936</th>\n      <td>3615</td>\n      <td>3614.038497</td>\n      <td>124.857782</td>\n      <td>3614.158312</td>\n      <td>343.648757</td>\n      <td>28.476903</td>\n      <td>6.988944</td>\n      <td>9.008367</td>\n      <td>28.476903</td>\n      <td>3611</td>\n      <td>...</td>\n      <td>99.979</td>\n      <td>609.3</td>\n      <td>False</td>\n      <td>True</td>\n      <td>-0.057308</td>\n      <td>8.285796e+05</td>\n      <td>165.715924</td>\n      <td>0.150024</td>\n      <td>4.442993e+01</td>\n      <td>7.362747e+03</td>\n    </tr>\n  </tbody>\n</table>\n<p>31 rows × 34 columns</p>\n</div>"
     },
     "execution_count": 78,
     "metadata": {},
     "output_type": "execute_result"
    }
   ],
   "source": [
    "read_result_df['one_s2'] = 1.0 / read_result_df.acti_conc_unc**2.0\n",
    "read_result_df['x_s2'] = read_result_df.activity_conc * read_result_df.one_s2\n",
    "read_result_df"
   ],
   "metadata": {
    "collapsed": false,
    "ExecuteTime": {
     "end_time": "2023-10-18T16:49:40.023294033Z",
     "start_time": "2023-10-18T16:49:39.928899129Z"
    }
   }
  },
  {
   "cell_type": "code",
   "execution_count": 79,
   "outputs": [],
   "source": [
    "# retomando\n",
    "grpd = read_result_df.groupby(\"nuclide_name\")"
   ],
   "metadata": {
    "collapsed": false,
    "ExecuteTime": {
     "end_time": "2023-10-18T16:49:41.054056661Z",
     "start_time": "2023-10-18T16:49:40.992018054Z"
    }
   }
  },
  {
   "cell_type": "code",
   "execution_count": 79,
   "outputs": [],
   "source": [],
   "metadata": {
    "collapsed": false,
    "ExecuteTime": {
     "end_time": "2023-10-18T16:49:42.272831451Z",
     "start_time": "2023-10-18T16:49:42.224598711Z"
    }
   }
  },
  {
   "cell_type": "code",
   "execution_count": 80,
   "outputs": [
    {
     "data": {
      "text/plain": "                    one_s2          x_s2\nnuclide_name                            \n110ag         4.024029e+05  2.134244e+07\n131i          1.141399e+00  2.629009e+02\n137cs         8.920315e+04  1.008007e+06\n208Tl         3.570004e+04  4.484058e+05\n212Pb         1.200997e+03  1.759279e+04\n214Bi         7.893428e+03  3.856648e+05\n214Pb         3.907585e+03  6.856470e+04\n228Ac         1.538554e+02  1.042419e+04\n24na          2.799598e+09  1.828842e+10\n40k           1.289610e+01  1.565888e+04\n54mn          4.067440e+09  3.151284e+10\n58co          2.783721e+07  1.970825e+09\n60co          3.057634e+09  6.698663e+11\n65zn          2.862412e+04  8.938234e+05",
      "text/html": "<div>\n<style scoped>\n    .dataframe tbody tr th:only-of-type {\n        vertical-align: middle;\n    }\n\n    .dataframe tbody tr th {\n        vertical-align: top;\n    }\n\n    .dataframe thead th {\n        text-align: right;\n    }\n</style>\n<table border=\"1\" class=\"dataframe\">\n  <thead>\n    <tr style=\"text-align: right;\">\n      <th></th>\n      <th>one_s2</th>\n      <th>x_s2</th>\n    </tr>\n    <tr>\n      <th>nuclide_name</th>\n      <th></th>\n      <th></th>\n    </tr>\n  </thead>\n  <tbody>\n    <tr>\n      <th>110ag</th>\n      <td>4.024029e+05</td>\n      <td>2.134244e+07</td>\n    </tr>\n    <tr>\n      <th>131i</th>\n      <td>1.141399e+00</td>\n      <td>2.629009e+02</td>\n    </tr>\n    <tr>\n      <th>137cs</th>\n      <td>8.920315e+04</td>\n      <td>1.008007e+06</td>\n    </tr>\n    <tr>\n      <th>208Tl</th>\n      <td>3.570004e+04</td>\n      <td>4.484058e+05</td>\n    </tr>\n    <tr>\n      <th>212Pb</th>\n      <td>1.200997e+03</td>\n      <td>1.759279e+04</td>\n    </tr>\n    <tr>\n      <th>214Bi</th>\n      <td>7.893428e+03</td>\n      <td>3.856648e+05</td>\n    </tr>\n    <tr>\n      <th>214Pb</th>\n      <td>3.907585e+03</td>\n      <td>6.856470e+04</td>\n    </tr>\n    <tr>\n      <th>228Ac</th>\n      <td>1.538554e+02</td>\n      <td>1.042419e+04</td>\n    </tr>\n    <tr>\n      <th>24na</th>\n      <td>2.799598e+09</td>\n      <td>1.828842e+10</td>\n    </tr>\n    <tr>\n      <th>40k</th>\n      <td>1.289610e+01</td>\n      <td>1.565888e+04</td>\n    </tr>\n    <tr>\n      <th>54mn</th>\n      <td>4.067440e+09</td>\n      <td>3.151284e+10</td>\n    </tr>\n    <tr>\n      <th>58co</th>\n      <td>2.783721e+07</td>\n      <td>1.970825e+09</td>\n    </tr>\n    <tr>\n      <th>60co</th>\n      <td>3.057634e+09</td>\n      <td>6.698663e+11</td>\n    </tr>\n    <tr>\n      <th>65zn</th>\n      <td>2.862412e+04</td>\n      <td>8.938234e+05</td>\n    </tr>\n  </tbody>\n</table>\n</div>"
     },
     "execution_count": 80,
     "metadata": {},
     "output_type": "execute_result"
    }
   ],
   "source": [
    "res_1 = pd.DataFrame(grpd[[\"one_s2\", \"x_s2\"]].agg(\"sum\"))\n",
    "res_1"
   ],
   "metadata": {
    "collapsed": false,
    "ExecuteTime": {
     "end_time": "2023-10-18T16:49:43.257705246Z",
     "start_time": "2023-10-18T16:49:43.171732182Z"
    }
   }
  },
  {
   "cell_type": "code",
   "execution_count": 81,
   "outputs": [
    {
     "data": {
      "text/plain": "                    one_s2          x_s2      avrg_xm   avrg_sd\nnuclide_name                                                   \n110ag         4.024029e+05  2.134244e+07    53.037505  0.001576\n131i          1.141399e+00  2.629009e+02   230.332119  0.936011\n137cs         8.920315e+04  1.008007e+06    11.300127  0.003348\n208Tl         3.570004e+04  4.484058e+05    12.560374  0.005293\n212Pb         1.200997e+03  1.759279e+04    14.648486  0.028856\n214Bi         7.893428e+03  3.856648e+05    48.858982  0.011256\n214Pb         3.907585e+03  6.856470e+04    17.546567  0.015997\n228Ac         1.538554e+02  1.042419e+04    67.753175  0.080620\n24na          2.799598e+09  1.828842e+10     6.532518  0.000019\n40k           1.289610e+01  1.565888e+04  1214.233593  0.278465\n54mn          4.067440e+09  3.151284e+10     7.747586  0.000016\n58co          2.783721e+07  1.970825e+09    70.798230  0.000190\n60co          3.057634e+09  6.698663e+11   219.079953  0.000018\n65zn          2.862412e+04  8.938234e+05    31.226226  0.005911",
      "text/html": "<div>\n<style scoped>\n    .dataframe tbody tr th:only-of-type {\n        vertical-align: middle;\n    }\n\n    .dataframe tbody tr th {\n        vertical-align: top;\n    }\n\n    .dataframe thead th {\n        text-align: right;\n    }\n</style>\n<table border=\"1\" class=\"dataframe\">\n  <thead>\n    <tr style=\"text-align: right;\">\n      <th></th>\n      <th>one_s2</th>\n      <th>x_s2</th>\n      <th>avrg_xm</th>\n      <th>avrg_sd</th>\n    </tr>\n    <tr>\n      <th>nuclide_name</th>\n      <th></th>\n      <th></th>\n      <th></th>\n      <th></th>\n    </tr>\n  </thead>\n  <tbody>\n    <tr>\n      <th>110ag</th>\n      <td>4.024029e+05</td>\n      <td>2.134244e+07</td>\n      <td>53.037505</td>\n      <td>0.001576</td>\n    </tr>\n    <tr>\n      <th>131i</th>\n      <td>1.141399e+00</td>\n      <td>2.629009e+02</td>\n      <td>230.332119</td>\n      <td>0.936011</td>\n    </tr>\n    <tr>\n      <th>137cs</th>\n      <td>8.920315e+04</td>\n      <td>1.008007e+06</td>\n      <td>11.300127</td>\n      <td>0.003348</td>\n    </tr>\n    <tr>\n      <th>208Tl</th>\n      <td>3.570004e+04</td>\n      <td>4.484058e+05</td>\n      <td>12.560374</td>\n      <td>0.005293</td>\n    </tr>\n    <tr>\n      <th>212Pb</th>\n      <td>1.200997e+03</td>\n      <td>1.759279e+04</td>\n      <td>14.648486</td>\n      <td>0.028856</td>\n    </tr>\n    <tr>\n      <th>214Bi</th>\n      <td>7.893428e+03</td>\n      <td>3.856648e+05</td>\n      <td>48.858982</td>\n      <td>0.011256</td>\n    </tr>\n    <tr>\n      <th>214Pb</th>\n      <td>3.907585e+03</td>\n      <td>6.856470e+04</td>\n      <td>17.546567</td>\n      <td>0.015997</td>\n    </tr>\n    <tr>\n      <th>228Ac</th>\n      <td>1.538554e+02</td>\n      <td>1.042419e+04</td>\n      <td>67.753175</td>\n      <td>0.080620</td>\n    </tr>\n    <tr>\n      <th>24na</th>\n      <td>2.799598e+09</td>\n      <td>1.828842e+10</td>\n      <td>6.532518</td>\n      <td>0.000019</td>\n    </tr>\n    <tr>\n      <th>40k</th>\n      <td>1.289610e+01</td>\n      <td>1.565888e+04</td>\n      <td>1214.233593</td>\n      <td>0.278465</td>\n    </tr>\n    <tr>\n      <th>54mn</th>\n      <td>4.067440e+09</td>\n      <td>3.151284e+10</td>\n      <td>7.747586</td>\n      <td>0.000016</td>\n    </tr>\n    <tr>\n      <th>58co</th>\n      <td>2.783721e+07</td>\n      <td>1.970825e+09</td>\n      <td>70.798230</td>\n      <td>0.000190</td>\n    </tr>\n    <tr>\n      <th>60co</th>\n      <td>3.057634e+09</td>\n      <td>6.698663e+11</td>\n      <td>219.079953</td>\n      <td>0.000018</td>\n    </tr>\n    <tr>\n      <th>65zn</th>\n      <td>2.862412e+04</td>\n      <td>8.938234e+05</td>\n      <td>31.226226</td>\n      <td>0.005911</td>\n    </tr>\n  </tbody>\n</table>\n</div>"
     },
     "execution_count": 81,
     "metadata": {},
     "output_type": "execute_result"
    }
   ],
   "source": [
    "res_1[\"avrg_xm\"] = res_1.x_s2 / res_1.one_s2\n",
    "res_1[\"avrg_sd\"] = 1.0 / np.sqrt(res_1.one_s2)\n",
    "res_1"
   ],
   "metadata": {
    "collapsed": false,
    "ExecuteTime": {
     "end_time": "2023-10-18T16:49:44.567337565Z",
     "start_time": "2023-10-18T16:49:44.332945781Z"
    }
   }
  },
  {
   "cell_type": "code",
   "execution_count": 82,
   "outputs": [
    {
     "data": {
      "text/plain": "PosixPath('/home/marcelofm/Nextcloud/Genie_Transfer/Si/SI2022/SI06122_activ_list.pkl')"
     },
     "execution_count": 82,
     "metadata": {},
     "output_type": "execute_result"
    }
   ],
   "source": [
    "final_activity_list_pkl_file=f_name.with_stem(f_name.stem+'_activ_list').with_suffix('.pkl')\n",
    "final_activity_list_pkl_file"
   ],
   "metadata": {
    "collapsed": false,
    "ExecuteTime": {
     "end_time": "2023-10-18T16:49:45.866631303Z",
     "start_time": "2023-10-18T16:49:45.688298262Z"
    }
   }
  },
  {
   "cell_type": "code",
   "execution_count": 83,
   "outputs": [],
   "source": [
    "res_1.to_pickle(final_activity_list_pkl_file)"
   ],
   "metadata": {
    "collapsed": false,
    "ExecuteTime": {
     "end_time": "2023-10-18T16:49:57.883289075Z",
     "start_time": "2023-10-18T16:49:57.787730411Z"
    }
   }
  },
  {
   "cell_type": "code",
   "execution_count": 84,
   "outputs": [
    {
     "data": {
      "text/plain": "PosixPath('/home/marcelofm/Nextcloud/Genie_Transfer/Si/SI2022/SI06122.Chn')"
     },
     "execution_count": 84,
     "metadata": {},
     "output_type": "execute_result"
    }
   ],
   "source": [
    "f_name"
   ],
   "metadata": {
    "collapsed": false,
    "ExecuteTime": {
     "end_time": "2023-10-18T16:49:59.519786191Z",
     "start_time": "2023-10-18T16:49:59.441596617Z"
    }
   }
  },
  {
   "cell_type": "code",
   "execution_count": null,
   "outputs": [],
   "source": [],
   "metadata": {
    "collapsed": false,
    "ExecuteTime": {
     "start_time": "2023-10-18T16:34:33.413316704Z"
    }
   }
  }
 ]
}
