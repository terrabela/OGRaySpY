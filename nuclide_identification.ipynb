{
 "cells": [
  {
   "cell_type": "code",
   "execution_count": 1,
   "metadata": {
    "tags": [],
    "ExecuteTime": {
     "end_time": "2023-12-20T19:16:51.803321900Z",
     "start_time": "2023-12-20T19:16:50.086743700Z"
    }
   },
   "outputs": [],
   "source": [
    "\n",
    "# 2022-out-7: Excelente espectro para testes, tenho usado ultimamente:\n",
    "# a_pattern = 'Si/SI2018/SI11318.Chn'\n",
    "# 2022-nov-16: outros espectros:\n",
    "# a_pattern = \"Filtros/2022/Cci/CCI1603-I.Chn\"\n",
    "# a_pattern = \"Filtros/2022/Cci/CCI2302-I.Chn\"\n",
    "\n",
    "# a_pattern = \"Eso_non_existe.Chn\"\n",
    "\n",
    "# 2022-Dez-21 Buscando outro espectro\n",
    "# a_pattern = 'CCI1603-I'\n",
    "# 2022-Dez-28 Este é um espectro mais recente:\n",
    "# a_pattern = 'SI09722.Chn'\n",
    "# 2022-Dez-28 Este é um espectro mais recente que posso comparar com saída do Genie:\n",
    "# a_pattern = 'SI06322.Chn'\n",
    "# a_pattern = 'SI06122.Chn'"
   ]
  },
  {
   "cell_type": "code",
   "execution_count": 2,
   "metadata": {
    "tags": [],
    "ExecuteTime": {
     "end_time": "2023-12-20T19:16:53.261790100Z",
     "start_time": "2023-12-20T19:16:51.789801600Z"
    }
   },
   "outputs": [],
   "source": [
    "import numpy as np\n",
    "from numpy.polynomial import Polynomial as P  # 2020-09-06 Esta é a nova classe recomendada\n",
    "from sklearn import linear_model\n",
    "\n",
    "import pandas as pd\n",
    "from random import randrange\n",
    "# import plotly.graph_objects as go"
   ]
  },
  {
   "cell_type": "code",
   "execution_count": 3,
   "metadata": {
    "tags": [],
    "ExecuteTime": {
     "end_time": "2023-12-20T19:16:53.369048Z",
     "start_time": "2023-12-20T19:16:53.197065100Z"
    }
   },
   "outputs": [],
   "source": [
    "from ograyspy_class import Ograyspy, select_spectrum_from_folder_list\n",
    "from spec_class import Spec"
   ]
  },
  {
   "cell_type": "code",
   "execution_count": 4,
   "metadata": {
    "tags": [],
    "ExecuteTime": {
     "end_time": "2023-12-20T19:16:53.461378300Z",
     "start_time": "2023-12-20T19:16:53.242715400Z"
    }
   },
   "outputs": [
    {
     "name": "stdout",
     "output_type": "stream",
     "text": [
      "Found folder name:  C:\\Users\\mmaduar\\.atom\n",
      "Parts:  ('C:\\\\', 'Users', 'mmaduar', '.atom')\n",
      "No. spec files:  0\n",
      "I56611\n"
     ]
    }
   ],
   "source": [
    "ogra = Ograyspy()\n",
    "print(ogra.info_node)\n",
    "to_be_found = 'Genie_Transfer'\n",
    "# to_be_found = 'some_spectra' # NAO ESTAH ACHANDO localmente no note!"
   ]
  },
  {
   "cell_type": "code",
   "execution_count": 5,
   "metadata": {
    "tags": [],
    "ExecuteTime": {
     "end_time": "2023-12-20T19:16:54.050829700Z",
     "start_time": "2023-12-20T19:16:53.360963300Z"
    }
   },
   "outputs": [
    {
     "name": "stdout",
     "output_type": "stream",
     "text": [
      "\n",
      "Exec ogra.define_files_folder(to_be_found):\n",
      "Found folder name:  C:\\Users\\mmaduar\\Nextcloud\\Genie_Transfer\n",
      "Parts:  ('C:\\\\', 'Users', 'mmaduar', 'Nextcloud', 'Genie_Transfer')\n",
      "No. spec files:  7316\n",
      "WindowsI56611.pkl\n"
     ]
    }
   ],
   "source": [
    "print('\\nExec ogra.define_files_folder(to_be_found):')\n",
    "ogra.define_files_folder(to_be_found)\n",
    "print(ogra.pkl_folder_files)\n",
    "spectra_list_df = pd.read_pickle(ogra.pkl_folder_files)\n",
    "del ogra"
   ]
  },
  {
   "cell_type": "code",
   "execution_count": 6,
   "metadata": {
    "tags": [],
    "ExecuteTime": {
     "end_time": "2023-12-20T19:16:54.074074100Z",
     "start_time": "2023-12-20T19:16:53.953360900Z"
    }
   },
   "outputs": [],
   "source": [
    "reduc_nms = spectra_list_df.reduced_names_files_list[0]\n",
    "fil_lst = spectra_list_df.files_list[0]\n",
    "spc_pth = spectra_list_df.spectra_path[0]"
   ]
  },
  {
   "cell_type": "code",
   "execution_count": 7,
   "metadata": {
    "tags": [],
    "ExecuteTime": {
     "end_time": "2023-12-20T19:16:54.907267300Z",
     "start_time": "2023-12-20T19:16:53.968884600Z"
    }
   },
   "outputs": [
    {
     "data": {
      "text/plain": "7316"
     },
     "execution_count": 7,
     "metadata": {},
     "output_type": "execute_result"
    }
   ],
   "source": [
    "len(reduc_nms)"
   ]
  },
  {
   "cell_type": "code",
   "execution_count": 8,
   "metadata": {
    "tags": [],
    "ExecuteTime": {
     "end_time": "2023-12-20T19:16:55.104370500Z",
     "start_time": "2023-12-20T19:16:54.867436600Z"
    }
   },
   "outputs": [],
   "source": [
    "# 2022-Dez-28 Esse é um espectro mais recente que posso comparar com saída do Genie:\n",
    "a_pattern = 'SI06122.Chn'"
   ]
  },
  {
   "cell_type": "code",
   "execution_count": 9,
   "metadata": {
    "tags": [],
    "ExecuteTime": {
     "end_time": "2023-12-20T19:16:55.233731Z",
     "start_time": "2023-12-20T19:16:54.976534500Z"
    }
   },
   "outputs": [
    {
     "name": "stdout",
     "output_type": "stream",
     "text": [
      "Existing:\n",
      "Achou! indice=7212, nomearq = Si/SI2022/SI06122.Chn\n",
      "==========================\n",
      "Final choices:\n",
      "spectra_path: C:\\Users\\mmaduar\\Nextcloud\\Genie_Transfer\n",
      "a_spec_name: C:\\Users\\mmaduar\\Nextcloud\\Genie_Transfer\\Si\\SI2022\\SI06122.Chn\n",
      "reduced_f_name: Si/SI2022/SI06122.Chn\n"
     ]
    },
    {
     "data": {
      "text/plain": "(WindowsPath('C:/Users/mmaduar/Nextcloud/Genie_Transfer/Si/SI2022/SI06122.Chn'),\n 'Si/SI2022/SI06122.Chn')"
     },
     "execution_count": 9,
     "metadata": {},
     "output_type": "execute_result"
    }
   ],
   "source": [
    "f_name, reduced_f_name = select_spectrum_from_folder_list(reduc_nms, fil_lst, spc_pth, a_pattern)\n",
    "f_name, reduced_f_name"
   ]
  },
  {
   "cell_type": "code",
   "execution_count": 9,
   "metadata": {
    "ExecuteTime": {
     "end_time": "2023-12-20T19:16:55.256795Z",
     "start_time": "2023-12-20T19:16:55.085250300Z"
    }
   },
   "outputs": [],
   "source": []
  },
  {
   "cell_type": "code",
   "execution_count": 10,
   "metadata": {
    "tags": [],
    "ExecuteTime": {
     "end_time": "2023-12-20T19:16:55.291669800Z",
     "start_time": "2023-12-20T19:16:55.105404300Z"
    }
   },
   "outputs": [
    {
     "data": {
      "text/plain": "     nuclide_name     energy  unc_en  intensity  unc_i  half_life  decay  \\\n1            24na  1368.6250   0.005     99.994  0.002     14.956     B-   \n2            24na  2754.0080   0.011     99.867   0.01     14.956     B-   \n9            51cr   320.0824  0.0004      9.910   0.01     27.704     EC   \n15           54mn   834.8480   0.003     99.976  0.001    312.200  EC+B+   \n22           58co   810.7593   0.002     99.450   0.01     70.860  EC+B+   \n...           ...        ...     ...        ...    ...        ...    ...   \n1066        228Ac    89.9540              2.010   0.19      6.150     B-   \n1067        228Ac    93.3470              3.200    0.3      6.150     B-   \n1068        228Ac   105.5660              1.160   0.11      6.150     B-   \n1069        228Ac   106.8940              1.540   0.15      6.150     B-   \n1070        228Ac   108.5800              0.390   0.04      6.150     B-   \n\n      decay_%  key_gamma is_key_gamma  \n1       100.0     1368.6         True  \n2       100.0     1368.6        False  \n9       100.0      320.1         True  \n15      100.0      834.8         True  \n22      100.0      810.8         True  \n...       ...        ...          ...  \n1066    100.0      911.6        False  \n1067    100.0      911.6        False  \n1068    100.0      911.6        False  \n1069    100.0      911.6        False  \n1070    100.0      911.6        False  \n\n[235 rows x 10 columns]",
      "text/html": "<div>\n<style scoped>\n    .dataframe tbody tr th:only-of-type {\n        vertical-align: middle;\n    }\n\n    .dataframe tbody tr th {\n        vertical-align: top;\n    }\n\n    .dataframe thead th {\n        text-align: right;\n    }\n</style>\n<table border=\"1\" class=\"dataframe\">\n  <thead>\n    <tr style=\"text-align: right;\">\n      <th></th>\n      <th>nuclide_name</th>\n      <th>energy</th>\n      <th>unc_en</th>\n      <th>intensity</th>\n      <th>unc_i</th>\n      <th>half_life</th>\n      <th>decay</th>\n      <th>decay_%</th>\n      <th>key_gamma</th>\n      <th>is_key_gamma</th>\n    </tr>\n  </thead>\n  <tbody>\n    <tr>\n      <th>1</th>\n      <td>24na</td>\n      <td>1368.6250</td>\n      <td>0.005</td>\n      <td>99.994</td>\n      <td>0.002</td>\n      <td>14.956</td>\n      <td>B-</td>\n      <td>100.0</td>\n      <td>1368.6</td>\n      <td>True</td>\n    </tr>\n    <tr>\n      <th>2</th>\n      <td>24na</td>\n      <td>2754.0080</td>\n      <td>0.011</td>\n      <td>99.867</td>\n      <td>0.01</td>\n      <td>14.956</td>\n      <td>B-</td>\n      <td>100.0</td>\n      <td>1368.6</td>\n      <td>False</td>\n    </tr>\n    <tr>\n      <th>9</th>\n      <td>51cr</td>\n      <td>320.0824</td>\n      <td>0.0004</td>\n      <td>9.910</td>\n      <td>0.01</td>\n      <td>27.704</td>\n      <td>EC</td>\n      <td>100.0</td>\n      <td>320.1</td>\n      <td>True</td>\n    </tr>\n    <tr>\n      <th>15</th>\n      <td>54mn</td>\n      <td>834.8480</td>\n      <td>0.003</td>\n      <td>99.976</td>\n      <td>0.001</td>\n      <td>312.200</td>\n      <td>EC+B+</td>\n      <td>100.0</td>\n      <td>834.8</td>\n      <td>True</td>\n    </tr>\n    <tr>\n      <th>22</th>\n      <td>58co</td>\n      <td>810.7593</td>\n      <td>0.002</td>\n      <td>99.450</td>\n      <td>0.01</td>\n      <td>70.860</td>\n      <td>EC+B+</td>\n      <td>100.0</td>\n      <td>810.8</td>\n      <td>True</td>\n    </tr>\n    <tr>\n      <th>...</th>\n      <td>...</td>\n      <td>...</td>\n      <td>...</td>\n      <td>...</td>\n      <td>...</td>\n      <td>...</td>\n      <td>...</td>\n      <td>...</td>\n      <td>...</td>\n      <td>...</td>\n    </tr>\n    <tr>\n      <th>1066</th>\n      <td>228Ac</td>\n      <td>89.9540</td>\n      <td></td>\n      <td>2.010</td>\n      <td>0.19</td>\n      <td>6.150</td>\n      <td>B-</td>\n      <td>100.0</td>\n      <td>911.6</td>\n      <td>False</td>\n    </tr>\n    <tr>\n      <th>1067</th>\n      <td>228Ac</td>\n      <td>93.3470</td>\n      <td></td>\n      <td>3.200</td>\n      <td>0.3</td>\n      <td>6.150</td>\n      <td>B-</td>\n      <td>100.0</td>\n      <td>911.6</td>\n      <td>False</td>\n    </tr>\n    <tr>\n      <th>1068</th>\n      <td>228Ac</td>\n      <td>105.5660</td>\n      <td></td>\n      <td>1.160</td>\n      <td>0.11</td>\n      <td>6.150</td>\n      <td>B-</td>\n      <td>100.0</td>\n      <td>911.6</td>\n      <td>False</td>\n    </tr>\n    <tr>\n      <th>1069</th>\n      <td>228Ac</td>\n      <td>106.8940</td>\n      <td></td>\n      <td>1.540</td>\n      <td>0.15</td>\n      <td>6.150</td>\n      <td>B-</td>\n      <td>100.0</td>\n      <td>911.6</td>\n      <td>False</td>\n    </tr>\n    <tr>\n      <th>1070</th>\n      <td>228Ac</td>\n      <td>108.5800</td>\n      <td></td>\n      <td>0.390</td>\n      <td>0.04</td>\n      <td>6.150</td>\n      <td>B-</td>\n      <td>100.0</td>\n      <td>911.6</td>\n      <td>False</td>\n    </tr>\n  </tbody>\n</table>\n<p>235 rows × 10 columns</p>\n</div>"
     },
     "execution_count": 10,
     "metadata": {},
     "output_type": "execute_result"
    }
   ],
   "source": [
    "nucl_iear1_df = pd.read_pickle('nucl_iear1_list.pkl')\n",
    "nucl_iear1_df"
   ]
  },
  {
   "cell_type": "code",
   "execution_count": 11,
   "metadata": {
    "tags": [],
    "ExecuteTime": {
     "end_time": "2023-12-20T19:16:55.584977900Z",
     "start_time": "2023-12-20T19:16:55.210622300Z"
    }
   },
   "outputs": [
    {
     "data": {
      "text/plain": "     nuclide_name     energy  unc_en  intensity  unc_i  half_life  decay  \\\n1            24na  1368.6250  0.0050     99.994  0.002     14.956     B-   \n2            24na  2754.0080  0.0110     99.867  0.010     14.956     B-   \n9            51cr   320.0824  0.0004      9.910  0.010     27.704     EC   \n15           54mn   834.8480  0.0030     99.976  0.001    312.200  EC+B+   \n22           58co   810.7593  0.0020     99.450  0.010     70.860  EC+B+   \n...           ...        ...     ...        ...    ...        ...    ...   \n1066        228Ac    89.9540     NaN      2.010  0.190      6.150     B-   \n1067        228Ac    93.3470     NaN      3.200  0.300      6.150     B-   \n1068        228Ac   105.5660     NaN      1.160  0.110      6.150     B-   \n1069        228Ac   106.8940     NaN      1.540  0.150      6.150     B-   \n1070        228Ac   108.5800     NaN      0.390  0.040      6.150     B-   \n\n      decay_%  key_gamma is_key_gamma  is_to_consider  \n1       100.0     1368.6         True            True  \n2       100.0     1368.6        False            True  \n9       100.0      320.1         True            True  \n15      100.0      834.8         True            True  \n22      100.0      810.8         True            True  \n...       ...        ...          ...             ...  \n1066    100.0      911.6        False           False  \n1067    100.0      911.6        False           False  \n1068    100.0      911.6        False            True  \n1069    100.0      911.6        False            True  \n1070    100.0      911.6        False            True  \n\n[235 rows x 11 columns]",
      "text/html": "<div>\n<style scoped>\n    .dataframe tbody tr th:only-of-type {\n        vertical-align: middle;\n    }\n\n    .dataframe tbody tr th {\n        vertical-align: top;\n    }\n\n    .dataframe thead th {\n        text-align: right;\n    }\n</style>\n<table border=\"1\" class=\"dataframe\">\n  <thead>\n    <tr style=\"text-align: right;\">\n      <th></th>\n      <th>nuclide_name</th>\n      <th>energy</th>\n      <th>unc_en</th>\n      <th>intensity</th>\n      <th>unc_i</th>\n      <th>half_life</th>\n      <th>decay</th>\n      <th>decay_%</th>\n      <th>key_gamma</th>\n      <th>is_key_gamma</th>\n      <th>is_to_consider</th>\n    </tr>\n  </thead>\n  <tbody>\n    <tr>\n      <th>1</th>\n      <td>24na</td>\n      <td>1368.6250</td>\n      <td>0.0050</td>\n      <td>99.994</td>\n      <td>0.002</td>\n      <td>14.956</td>\n      <td>B-</td>\n      <td>100.0</td>\n      <td>1368.6</td>\n      <td>True</td>\n      <td>True</td>\n    </tr>\n    <tr>\n      <th>2</th>\n      <td>24na</td>\n      <td>2754.0080</td>\n      <td>0.0110</td>\n      <td>99.867</td>\n      <td>0.010</td>\n      <td>14.956</td>\n      <td>B-</td>\n      <td>100.0</td>\n      <td>1368.6</td>\n      <td>False</td>\n      <td>True</td>\n    </tr>\n    <tr>\n      <th>9</th>\n      <td>51cr</td>\n      <td>320.0824</td>\n      <td>0.0004</td>\n      <td>9.910</td>\n      <td>0.010</td>\n      <td>27.704</td>\n      <td>EC</td>\n      <td>100.0</td>\n      <td>320.1</td>\n      <td>True</td>\n      <td>True</td>\n    </tr>\n    <tr>\n      <th>15</th>\n      <td>54mn</td>\n      <td>834.8480</td>\n      <td>0.0030</td>\n      <td>99.976</td>\n      <td>0.001</td>\n      <td>312.200</td>\n      <td>EC+B+</td>\n      <td>100.0</td>\n      <td>834.8</td>\n      <td>True</td>\n      <td>True</td>\n    </tr>\n    <tr>\n      <th>22</th>\n      <td>58co</td>\n      <td>810.7593</td>\n      <td>0.0020</td>\n      <td>99.450</td>\n      <td>0.010</td>\n      <td>70.860</td>\n      <td>EC+B+</td>\n      <td>100.0</td>\n      <td>810.8</td>\n      <td>True</td>\n      <td>True</td>\n    </tr>\n    <tr>\n      <th>...</th>\n      <td>...</td>\n      <td>...</td>\n      <td>...</td>\n      <td>...</td>\n      <td>...</td>\n      <td>...</td>\n      <td>...</td>\n      <td>...</td>\n      <td>...</td>\n      <td>...</td>\n      <td>...</td>\n    </tr>\n    <tr>\n      <th>1066</th>\n      <td>228Ac</td>\n      <td>89.9540</td>\n      <td>NaN</td>\n      <td>2.010</td>\n      <td>0.190</td>\n      <td>6.150</td>\n      <td>B-</td>\n      <td>100.0</td>\n      <td>911.6</td>\n      <td>False</td>\n      <td>False</td>\n    </tr>\n    <tr>\n      <th>1067</th>\n      <td>228Ac</td>\n      <td>93.3470</td>\n      <td>NaN</td>\n      <td>3.200</td>\n      <td>0.300</td>\n      <td>6.150</td>\n      <td>B-</td>\n      <td>100.0</td>\n      <td>911.6</td>\n      <td>False</td>\n      <td>False</td>\n    </tr>\n    <tr>\n      <th>1068</th>\n      <td>228Ac</td>\n      <td>105.5660</td>\n      <td>NaN</td>\n      <td>1.160</td>\n      <td>0.110</td>\n      <td>6.150</td>\n      <td>B-</td>\n      <td>100.0</td>\n      <td>911.6</td>\n      <td>False</td>\n      <td>True</td>\n    </tr>\n    <tr>\n      <th>1069</th>\n      <td>228Ac</td>\n      <td>106.8940</td>\n      <td>NaN</td>\n      <td>1.540</td>\n      <td>0.150</td>\n      <td>6.150</td>\n      <td>B-</td>\n      <td>100.0</td>\n      <td>911.6</td>\n      <td>False</td>\n      <td>True</td>\n    </tr>\n    <tr>\n      <th>1070</th>\n      <td>228Ac</td>\n      <td>108.5800</td>\n      <td>NaN</td>\n      <td>0.390</td>\n      <td>0.040</td>\n      <td>6.150</td>\n      <td>B-</td>\n      <td>100.0</td>\n      <td>911.6</td>\n      <td>False</td>\n      <td>True</td>\n    </tr>\n  </tbody>\n</table>\n<p>235 rows × 11 columns</p>\n</div>"
     },
     "execution_count": 11,
     "metadata": {},
     "output_type": "execute_result"
    }
   ],
   "source": [
    "# 2023-Jun-15: Setting gamma lines/ranges to dismiss in the analysis\n",
    "df1 = nucl_iear1_df\n",
    "df1[\"is_to_consider\"] = True\n",
    "df1.loc[((df1.energy > 509) & (df1.energy < 513)) | (df1.energy < 100), \"is_to_consider\"] = False\n",
    "# Convert these columns from object to numeric; empty strings turns into NaNs\n",
    "df1[\"unc_i\"] = pd.to_numeric(df1.unc_i, errors=\"coerce\")\n",
    "df1[\"unc_en\"] = pd.to_numeric(df1.unc_en, errors=\"coerce\")\n",
    "del df1\n",
    "nucl_iear1_df"
   ]
  },
  {
   "cell_type": "code",
   "execution_count": 12,
   "metadata": {
    "tags": [],
    "ExecuteTime": {
     "end_time": "2023-12-20T19:16:55.681510100Z",
     "start_time": "2023-12-20T19:16:55.320780900Z"
    }
   },
   "outputs": [],
   "source": [
    "a_spec = Spec(f_name, reduced_f_name)"
   ]
  },
  {
   "cell_type": "code",
   "execution_count": 38,
   "outputs": [
    {
     "data": {
      "text/plain": "{'net_spec_ser_an': None,\n 'final_composed_baseline': None,\n 'f_name': WindowsPath('C:/Users/mmaduar/Nextcloud/Genie_Transfer/almera22/user2023/SI2022/SI06322.Chn'),\n 'reduced_f_name': 'almera22/user2023/SI2022/SI06322.Chn',\n 'sufx': '.chn',\n 'spec_io': None,\n 'lv_time': 50000.0,\n 'rl_time': 50028.58,\n 'source_datetime': None,\n 'results_pkl_file': WindowsPath('.'),\n 'origin_spec_ser_an': <generic_series_analysis_class.GenericSeriesAnalysis at 0x1d74630b190>,\n 'start_datetime': datetime.datetime(2022, 8, 4, 19, 42, 23),\n 'det_descr': 'MAQUINA_01 MCB 1 Input 1',\n 'sam_descr': 'SI-063/22 - Agua da Piscina do Reator IEA-R1 (GMX)',\n 'channel_energy_calib': <genericcalib_class.ChannelEnergyCalib at 0x1d74630b3d0>,\n 'nucl_an': <nuclide_analysis_class.NuclideAnalysis at 0x1d74630b5e0>}"
     },
     "execution_count": 38,
     "metadata": {},
     "output_type": "execute_result"
    }
   ],
   "source": [
    "vars (a_spec)"
   ],
   "metadata": {
    "collapsed": false,
    "ExecuteTime": {
     "end_time": "2023-12-20T19:17:41.265888400Z",
     "start_time": "2023-12-20T19:17:41.110512Z"
    }
   }
  },
  {
   "cell_type": "code",
   "execution_count": null,
   "outputs": [],
   "source": [],
   "metadata": {
    "collapsed": false
   }
  },
  {
   "cell_type": "code",
   "execution_count": 13,
   "outputs": [
    {
     "ename": "SyntaxError",
     "evalue": "invalid syntax (2640695910.py, line 1)",
     "output_type": "error",
     "traceback": [
      "\u001B[1;36m  Cell \u001B[1;32mIn[13], line 1\u001B[1;36m\u001B[0m\n\u001B[1;33m    parar aqio\u001B[0m\n\u001B[1;37m          ^\u001B[0m\n\u001B[1;31mSyntaxError\u001B[0m\u001B[1;31m:\u001B[0m invalid syntax\n"
     ]
    }
   ],
   "source": [
    "parar aqio"
   ],
   "metadata": {
    "collapsed": false,
    "ExecuteTime": {
     "end_time": "2023-12-20T19:16:55.726640400Z",
     "start_time": "2023-12-20T19:16:55.399927700Z"
    }
   }
  },
  {
   "cell_type": "code",
   "execution_count": null,
   "metadata": {
    "tags": [],
    "ExecuteTime": {
     "start_time": "2023-12-20T19:16:55.493708600Z"
    }
   },
   "outputs": [],
   "source": [
    "dir(a_spec)"
   ]
  },
  {
   "cell_type": "code",
   "execution_count": null,
   "metadata": {
    "tags": [],
    "ExecuteTime": {
     "start_time": "2023-12-20T19:16:55.495901600Z"
    }
   },
   "outputs": [],
   "source": [
    "a_spec.total_analysis(gener_dataframe=True, results_path='../ograyspy_results')\n",
    "# A opção acima, gener_dataframe=True,  grava o pkl_file do espectro\n",
    "vars(a_spec)"
   ]
  },
  {
   "cell_type": "code",
   "execution_count": null,
   "metadata": {
    "ExecuteTime": {
     "start_time": "2023-12-20T19:16:55.499959200Z"
    }
   },
   "outputs": [],
   "source": [
    "a_spec.identify_nuclides(nucl_iear1_df)"
   ]
  },
  {
   "cell_type": "code",
   "execution_count": null,
   "metadata": {
    "ExecuteTime": {
     "start_time": "2023-12-20T19:16:55.503044300Z"
    }
   },
   "outputs": [],
   "source": [
    "aux_3, pks_comprehensive_df, df_result, d5_grouped, res_1 = (\n",
    "    a_spec.create_activities_df(nucl_iear1_df, results_path='../ograyspy_results')\n",
    ")"
   ]
  },
  {
   "cell_type": "code",
   "execution_count": null,
   "metadata": {
    "ExecuteTime": {
     "start_time": "2023-12-20T19:16:55.507249Z"
    }
   },
   "outputs": [],
   "source": [
    "aux_3"
   ]
  },
  {
   "cell_type": "code",
   "execution_count": null,
   "metadata": {
    "ExecuteTime": {
     "start_time": "2023-12-20T19:16:55.510275100Z"
    }
   },
   "outputs": [],
   "source": [
    "pks_comprehensive_df"
   ]
  },
  {
   "cell_type": "code",
   "execution_count": null,
   "metadata": {
    "ExecuteTime": {
     "start_time": "2023-12-20T19:16:55.513543600Z"
    }
   },
   "outputs": [],
   "source": [
    "df_result"
   ]
  },
  {
   "cell_type": "code",
   "execution_count": null,
   "metadata": {
    "ExecuteTime": {
     "start_time": "2023-12-20T19:16:55.516575800Z"
    }
   },
   "outputs": [],
   "source": [
    "df_result.columns"
   ]
  },
  {
   "cell_type": "code",
   "execution_count": null,
   "metadata": {
    "ExecuteTime": {
     "start_time": "2023-12-20T19:16:55.519667700Z"
    }
   },
   "outputs": [],
   "source": [
    "df_result[['peaks','rough_sums','nuclide_name']]"
   ]
  },
  {
   "cell_type": "code",
   "execution_count": null,
   "metadata": {
    "ExecuteTime": {
     "start_time": "2023-12-20T19:16:55.524012600Z"
    }
   },
   "outputs": [],
   "source": [
    "d5_grouped"
   ]
  },
  {
   "cell_type": "code",
   "execution_count": null,
   "metadata": {
    "ExecuteTime": {
     "start_time": "2023-12-20T19:16:55.528174Z"
    }
   },
   "outputs": [],
   "source": [
    "res_1"
   ]
  },
  {
   "cell_type": "code",
   "execution_count": null,
   "metadata": {
    "ExecuteTime": {
     "start_time": "2023-12-20T19:16:55.533231600Z"
    }
   },
   "outputs": [],
   "source": []
  },
  {
   "cell_type": "code",
   "execution_count": null,
   "metadata": {
    "ExecuteTime": {
     "start_time": "2023-12-20T19:16:55.539342400Z"
    }
   },
   "outputs": [],
   "source": [
    "# 2023-Oct-25 PAREI AQUI. Reformatar-deletar tudo o que segue."
   ]
  },
  {
   "cell_type": "code",
   "execution_count": null,
   "metadata": {
    "ExecuteTime": {
     "start_time": "2023-12-20T19:16:55.543424Z"
    }
   },
   "outputs": [],
   "source": [
    "justtostopthenotebook"
   ]
  },
  {
   "cell_type": "code",
   "execution_count": null,
   "metadata": {
    "ExecuteTime": {
     "start_time": "2023-12-20T19:16:55.547477500Z"
    }
   },
   "outputs": [],
   "source": [
    "dir(a_spec)"
   ]
  },
  {
   "cell_type": "code",
   "execution_count": null,
   "metadata": {
    "ExecuteTime": {
     "start_time": "2023-12-20T19:16:55.550541Z"
    }
   },
   "outputs": [],
   "source": []
  },
  {
   "cell_type": "code",
   "execution_count": null,
   "metadata": {
    "ExecuteTime": {
     "start_time": "2023-12-20T19:16:55.555690200Z"
    }
   },
   "outputs": [],
   "source": []
  },
  {
   "cell_type": "code",
   "execution_count": null,
   "metadata": {
    "ExecuteTime": {
     "start_time": "2023-12-20T19:16:55.559748400Z"
    }
   },
   "outputs": [],
   "source": [
    "spectra_list_df"
   ]
  },
  {
   "cell_type": "code",
   "execution_count": null,
   "metadata": {
    "tags": [],
    "ExecuteTime": {
     "start_time": "2023-12-20T19:16:55.564801700Z"
    }
   },
   "outputs": [],
   "source": []
  },
  {
   "cell_type": "code",
   "execution_count": null,
   "metadata": {
    "tags": [],
    "ExecuteTime": {
     "start_time": "2023-12-20T19:16:55.570616800Z"
    }
   },
   "outputs": [],
   "source": [
    "nucl_iear1_selctd_gamms_df = nucl_iear1_df.loc [\n",
    "    (nucl_iear1_df.intensity > 1.0) & nucl_iear1_df.is_to_consider\n",
    "]\n",
    "nucl_iear1_selctd_gamms_df"
   ]
  },
  {
   "cell_type": "code",
   "execution_count": null,
   "metadata": {
    "tags": [],
    "ExecuteTime": {
     "start_time": "2023-12-20T19:16:55.577802200Z"
    }
   },
   "outputs": [],
   "source": [
    "nucl_iear1_selctd_gamms_df.dtypes"
   ]
  },
  {
   "cell_type": "code",
   "execution_count": null,
   "metadata": {
    "tags": [],
    "ExecuteTime": {
     "start_time": "2023-12-20T19:16:55.581914800Z"
    }
   },
   "outputs": [],
   "source": [
    "# Primeiro fiz assim:\n",
    "# cross_df = pd.merge(pks_comprehensive_df, nucl_iear1_selctd_gamms_df, how='cross')\n",
    "# cross_df[\"delta_en\"] = cross_df.engy_pk_det - cross_df.energy\n",
    "# cross_df\n",
    "\n",
    "# Agora fazer de novo:\n",
    "# cross_df_2 = pd.merge(matching_peaks_df, nucl_iear1_selctd_gamms_df, how='cross', suffixes=('_x', None))\n",
    "# cross_df_2.drop(cross_df_2.filter(regex='_x$').columns, axis=1, inplace=True)\n",
    "# cross_df_2[\"delta_en\"] = cross_df_2.recalib_engy_ransac - cross_df_2.energy\n",
    "# cross_df_2"
   ]
  },
  {
   "cell_type": "code",
   "execution_count": null,
   "metadata": {
    "tags": [],
    "ExecuteTime": {
     "start_time": "2023-12-20T19:16:55.584977900Z"
    }
   },
   "outputs": [],
   "source": []
  },
  {
   "cell_type": "code",
   "execution_count": null,
   "metadata": {
    "tags": [],
    "ExecuteTime": {
     "start_time": "2023-12-20T19:16:55.587091300Z"
    }
   },
   "outputs": [],
   "source": [
    "# cross_df = pd.merge(pks_comprehensive_df, nucl_iear1_selctd_gamms_df, how='cross')\n",
    " #    cross_df[\"delta_en\"] = cross_df.engy_pk_det - cross_df.energy\n",
    "  #  cross_df "
   ]
  },
  {
   "cell_type": "code",
   "execution_count": null,
   "metadata": {
    "ExecuteTime": {
     "start_time": "2023-12-20T19:16:55.590304200Z"
    }
   },
   "outputs": [],
   "source": []
  },
  {
   "cell_type": "code",
   "execution_count": null,
   "metadata": {
    "ExecuteTime": {
     "start_time": "2023-12-20T19:16:55.592326300Z"
    }
   },
   "outputs": [],
   "source": [
    "# 2023-Oct-25\n",
    "# Proceed from here."
   ]
  },
  {
   "cell_type": "code",
   "execution_count": null,
   "metadata": {
    "ExecuteTime": {
     "start_time": "2023-12-20T19:16:55.595379Z"
    }
   },
   "outputs": [],
   "source": []
  },
  {
   "cell_type": "code",
   "execution_count": null,
   "metadata": {
    "ExecuteTime": {
     "start_time": "2023-12-20T19:16:55.597417400Z"
    }
   },
   "outputs": [],
   "source": [
    "new_ch_en_calib"
   ]
  },
  {
   "cell_type": "code",
   "execution_count": null,
   "metadata": {
    "ExecuteTime": {
     "start_time": "2023-12-20T19:16:55.599472200Z"
    }
   },
   "outputs": [],
   "source": []
  },
  {
   "cell_type": "code",
   "execution_count": null,
   "metadata": {
    "ExecuteTime": {
     "start_time": "2023-12-20T19:16:55.601497100Z"
    }
   },
   "outputs": [],
   "source": [
    "def en_eff(engy):\n",
    "    return np.exp(p_eff(np.log(engy)))"
   ]
  },
  {
   "cell_type": "code",
   "execution_count": null,
   "metadata": {
    "ExecuteTime": {
     "start_time": "2023-12-20T19:16:55.607620100Z"
    }
   },
   "outputs": [],
   "source": [
    "en_eff(1332)"
   ]
  },
  {
   "cell_type": "code",
   "execution_count": null,
   "metadata": {
    "ExecuteTime": {
     "start_time": "2023-12-20T19:16:55.612732300Z"
    }
   },
   "outputs": [],
   "source": []
  },
  {
   "cell_type": "code",
   "execution_count": null,
   "metadata": {
    "ExecuteTime": {
     "start_time": "2023-12-20T19:16:55.619998600Z"
    }
   },
   "outputs": [],
   "source": [
    "# 2023-Sep-21\n",
    "# Now use the assembled peak df, read_result_df, to proceed."
   ]
  },
  {
   "cell_type": "code",
   "execution_count": null,
   "metadata": {
    "ExecuteTime": {
     "start_time": "2023-12-20T19:16:55.624092Z"
    }
   },
   "outputs": [],
   "source": []
  },
  {
   "cell_type": "code",
   "execution_count": 13,
   "metadata": {
    "ExecuteTime": {
     "end_time": "2023-12-20T19:16:58.894622600Z",
     "start_time": "2023-12-20T19:16:55.844614200Z"
    }
   },
   "outputs": [],
   "source": []
  },
  {
   "cell_type": "code",
   "execution_count": 13,
   "metadata": {
    "ExecuteTime": {
     "end_time": "2023-12-20T19:16:59.040250600Z",
     "start_time": "2023-12-20T19:16:58.891492600Z"
    }
   },
   "outputs": [],
   "source": []
  },
  {
   "cell_type": "code",
   "execution_count": 13,
   "metadata": {
    "ExecuteTime": {
     "end_time": "2023-12-20T19:16:59.146715200Z",
     "start_time": "2023-12-20T19:16:59.006756700Z"
    }
   },
   "outputs": [],
   "source": []
  },
  {
   "cell_type": "code",
   "execution_count": 14,
   "metadata": {
    "ExecuteTime": {
     "end_time": "2023-12-20T19:16:59.216800900Z",
     "start_time": "2023-12-20T19:16:59.142588800Z"
    }
   },
   "outputs": [],
   "source": [
    "# 2023-Oct-24: FIX\n",
    "# Integrate what follows here"
   ]
  },
  {
   "cell_type": "code",
   "execution_count": 14,
   "metadata": {
    "ExecuteTime": {
     "end_time": "2023-12-20T19:16:59.379848900Z",
     "start_time": "2023-12-20T19:16:59.213695800Z"
    }
   },
   "outputs": [],
   "source": []
  },
  {
   "cell_type": "code",
   "execution_count": 15,
   "metadata": {
    "ExecuteTime": {
     "end_time": "2023-12-20T19:17:00.651310200Z",
     "start_time": "2023-12-20T19:16:59.339393500Z"
    }
   },
   "outputs": [
    {
     "ename": "NameError",
     "evalue": "name 'analysis_df' is not defined",
     "output_type": "error",
     "traceback": [
      "\u001B[1;31m---------------------------------------------------------------------------\u001B[0m",
      "\u001B[1;31mNameError\u001B[0m                                 Traceback (most recent call last)",
      "Cell \u001B[1;32mIn[15], line 1\u001B[0m\n\u001B[1;32m----> 1\u001B[0m \u001B[43manalysis_df\u001B[49m\u001B[38;5;241m.\u001B[39mreset_index(drop\u001B[38;5;241m=\u001B[39m\u001B[38;5;28;01mTrue\u001B[39;00m, inplace\u001B[38;5;241m=\u001B[39m\u001B[38;5;28;01mTrue\u001B[39;00m)\n",
      "\u001B[1;31mNameError\u001B[0m: name 'analysis_df' is not defined"
     ]
    }
   ],
   "source": [
    "analysis_df.reset_index(drop=True, inplace=True)"
   ]
  },
  {
   "cell_type": "code",
   "execution_count": null,
   "metadata": {
    "ExecuteTime": {
     "start_time": "2023-12-20T19:17:00.593085100Z"
    }
   },
   "outputs": [],
   "source": [
    "analysis_df['test'] = analysis_df['decay_%']*analysis_df['intensity']/100"
   ]
  },
  {
   "cell_type": "code",
   "execution_count": null,
   "metadata": {
    "ExecuteTime": {
     "start_time": "2023-12-20T19:17:00.596303100Z"
    }
   },
   "outputs": [],
   "source": [
    "analysis_df"
   ]
  },
  {
   "cell_type": "code",
   "execution_count": null,
   "metadata": {
    "ExecuteTime": {
     "start_time": "2023-12-20T19:17:00.598332500Z"
    }
   },
   "outputs": [],
   "source": [
    "analysis_df.reindex(['nuclide_name'])"
   ]
  },
  {
   "cell_type": "code",
   "execution_count": null,
   "metadata": {
    "ExecuteTime": {
     "start_time": "2023-12-20T19:17:00.601365600Z"
    }
   },
   "outputs": [],
   "source": [
    "# d5_where = d5.where(d5.nuclide_name==\"110ag\")\n",
    "# d5_where\n",
    "d5_loc = analysis_df.loc[analysis_df.nuclide_name==\"110ag\"]\n",
    "d5_loc"
   ]
  },
  {
   "cell_type": "code",
   "execution_count": null,
   "metadata": {
    "ExecuteTime": {
     "start_time": "2023-12-20T19:17:00.603394900Z"
    }
   },
   "outputs": [],
   "source": [
    "# 2023-Ago-4 PAREI AQUI. Fazer a indexação para o cálculo da atividade considerando a média das linhas de cada nuclídeo\n",
    "# https://pandas.pydata.org/pandas-docs/stable/user_guide/groupby.html\n",
    "# https://pandas.pydata.org/pandas-docs/stable/user_guide/groupby.html#dataframe-column-selection-in-groupby\n",
    "d5_grouped = analysis_df.groupby(\"nuclide_name\")[['energy','intensity','centroids','rough_sums','variances','disintegr']]\n",
    "# d5_grouped = d5.groupby(\"nuclide_name\")[['disintegr']]\n",
    "# sdfsdf = pd.DataFrame([[d5_grouped.mean(), d5_grouped.median()]]) \n",
    "# sdfsdf\n"
   ]
  },
  {
   "cell_type": "code",
   "execution_count": null,
   "metadata": {
    "ExecuteTime": {
     "start_time": "2023-12-20T19:17:00.607622300Z"
    }
   },
   "outputs": [],
   "source": [
    "d5_grouped.mean()"
   ]
  },
  {
   "cell_type": "code",
   "execution_count": null,
   "metadata": {
    "ExecuteTime": {
     "start_time": "2023-12-20T19:17:00.609885400Z"
    }
   },
   "outputs": [],
   "source": [
    "# https://pandas.pydata.org/pandas-docs/stable/user_guide/groupby.html#built-in-aggregation-methods\n",
    "d5_aggr_df = pd.DataFrame(df_result.groupby(\"nuclide_name\")[['disintegr']].mean())\n",
    "d5_aggr_df['dsnt_median'] = df_result.groupby(\"nuclide_name\")[['disintegr']].median()\n",
    "d5_aggr_df['dsnt_counts'] = df_result.groupby(\"nuclide_name\")[['disintegr']].count()\n",
    "d5_aggr_df['dsnt_sem'] = df_result.groupby(\"nuclide_name\")[['disintegr']].sem()\n",
    "d5_aggr_df['dsnt_std'] = df_result.groupby(\"nuclide_name\")[['disintegr']].std()\n",
    "d5_aggr_df"
   ]
  },
  {
   "cell_type": "code",
   "execution_count": null,
   "metadata": {
    "ExecuteTime": {
     "start_time": "2023-12-20T19:17:00.612938100Z"
    }
   },
   "outputs": [],
   "source": [
    "df_result.groupby(\"nuclide_name\")[['disintegr']].describe()"
   ]
  },
  {
   "cell_type": "code",
   "execution_count": null,
   "metadata": {
    "ExecuteTime": {
     "start_time": "2023-12-20T19:17:00.614962800Z"
    }
   },
   "outputs": [],
   "source": [
    "d5_aggr_df['disint_mean'] = d5_grouped.mean()\n",
    "d5_aggr_df['disint_count'] = d5_grouped.count()\n",
    "d5_aggr_df"
   ]
  },
  {
   "cell_type": "code",
   "execution_count": null,
   "metadata": {
    "ExecuteTime": {
     "start_time": "2023-12-20T19:17:00.618513Z"
    }
   },
   "outputs": [],
   "source": [
    "df_result"
   ]
  },
  {
   "cell_type": "code",
   "execution_count": null,
   "metadata": {
    "ExecuteTime": {
     "start_time": "2023-12-20T19:17:00.620600100Z"
    }
   },
   "outputs": [],
   "source": [
    "help(spec_engy_identif)"
   ]
  },
  {
   "cell_type": "code",
   "execution_count": null,
   "metadata": {
    "ExecuteTime": {
     "start_time": "2023-12-20T19:17:00.624891100Z"
    }
   },
   "outputs": [],
   "source": []
  },
  {
   "cell_type": "code",
   "execution_count": null,
   "metadata": {
    "ExecuteTime": {
     "start_time": "2023-12-20T19:17:00.628131700Z"
    }
   },
   "outputs": [],
   "source": [
    "# 2023-Jun-13\n",
    "# PAREI AQUI\n",
    "# Trazer o trabalho feito em\n",
    "# radionuclide_analysis.ipynb e adaptar ao que está aqui\n",
    "# especialmente na identificaćão dos nucl[ideos\n",
    "\n",
    "# Depois, deletar radionuclide_analysis.ipynb."
   ]
  },
  {
   "cell_type": "code",
   "execution_count": null,
   "metadata": {
    "ExecuteTime": {
     "start_time": "2023-12-20T19:17:00.632249100Z"
    }
   },
   "outputs": [],
   "source": []
  },
  {
   "cell_type": "code",
   "execution_count": null,
   "metadata": {
    "ExecuteTime": {
     "start_time": "2023-12-20T19:17:00.635272100Z"
    }
   },
   "outputs": [],
   "source": [
    "df1 = pd.DataFrame(\n",
    "    {\n",
    "        \"A\": [\"A0\", \"A1\", \"A2\", \"A3\"],\n",
    "        \"B\": [\"B0\", \"B1\", \"B2\", \"B3\"],\n",
    "        \"C\": [\"C0\", \"C1\", \"C2\", \"C3\"],\n",
    "        \"D\": [\"D0\", \"D1\", \"D2\", \"D3\"],\n",
    "    },\n",
    "    index=[0, 1, 2, 3],\n",
    ")\n",
    "\n",
    "\n",
    "df2 = pd.DataFrame(\n",
    "    {\n",
    "        \"A\": [\"A4\", \"A5\", \"A6\", \"A7\"],\n",
    "        \"B\": [\"B4\", \"B5\", \"B6\", \"B7\"],\n",
    "        \"C\": [\"C4\", \"C5\", \"C6\", \"C7\"],\n",
    "        \"D\": [\"D4\", \"D5\", \"D6\", \"D7\"],\n",
    "    },\n",
    "    index=[4, 5, 6, 7],\n",
    ")\n",
    "\n",
    "\n",
    "df3 = pd.DataFrame(\n",
    "    {\n",
    "        \"A\": [\"A8\", \"A9\", \"A10\", \"A11\"],\n",
    "        \"B\": [\"B8\", \"B9\", \"B10\", \"B11\"],\n",
    "        \"C\": [\"C8\", \"C9\", \"C10\", \"C11\"],\n",
    "        \"D\": [\"D8\", \"D9\", \"D10\", \"D11\"],\n",
    "    },\n",
    "    index=[8, 9, 10, 11],\n",
    ")\n",
    "\n",
    "\n",
    "frames = [df1, df2, df3]\n",
    "\n",
    "result = pd.concat(frames)\n",
    "result"
   ]
  },
  {
   "cell_type": "code",
   "execution_count": null,
   "metadata": {
    "ExecuteTime": {
     "start_time": "2023-12-20T19:17:00.638556100Z"
    }
   },
   "outputs": [],
   "source": [
    "result = pd.concat(frames, keys=[\"x\", \"y\", \"z\"])\n",
    "result"
   ]
  },
  {
   "cell_type": "code",
   "execution_count": null,
   "metadata": {
    "ExecuteTime": {
     "start_time": "2023-12-20T19:17:00.640748100Z"
    }
   },
   "outputs": [],
   "source": [
    "result.loc[result.A=='A1'].loc[result.C=='C0']"
   ]
  },
  {
   "cell_type": "code",
   "execution_count": null,
   "metadata": {
    "ExecuteTime": {
     "start_time": "2023-12-20T19:17:00.642840800Z"
    }
   },
   "outputs": [],
   "source": []
  },
  {
   "cell_type": "code",
   "execution_count": null,
   "metadata": {
    "ExecuteTime": {
     "start_time": "2023-12-20T19:17:00.644952200Z"
    }
   },
   "outputs": [],
   "source": [
    "# https://stackoverflow.com/questions/63529555"
   ]
  },
  {
   "cell_type": "code",
   "execution_count": null,
   "metadata": {
    "ExecuteTime": {
     "start_time": "2023-12-20T19:17:00.646091400Z"
    }
   },
   "outputs": [],
   "source": [
    "animals = ['cat', 'dog', 'hamster', 'dolphin']"
   ]
  },
  {
   "cell_type": "code",
   "execution_count": null,
   "metadata": {
    "ExecuteTime": {
     "start_time": "2023-12-20T19:17:00.648243800Z"
    }
   },
   "outputs": [],
   "source": [
    "df_animals_sets = pd.DataFrame(data={\n",
    "    'id': [1,2,3,4,5],\n",
    "    'animals': ['dog,cat','dog','cat,dolphin','cat,dog','hamster,dolphin']\n",
    "})\n",
    "df_animals_sets"
   ]
  },
  {
   "cell_type": "code",
   "execution_count": null,
   "metadata": {
    "ExecuteTime": {
     "start_time": "2023-12-20T19:17:00.651310200Z"
    }
   },
   "outputs": [],
   "source": [
    "df = df_animals_sets\n",
    "df_final = (df.astype(str).assign(animals=df.animals.str.split(','))\n",
    "                          .explode('animals').groupby('animals').id.agg(','.join)\n",
    "                          .reset_index())\n",
    "df_final"
   ]
  },
  {
   "cell_type": "code",
   "execution_count": 15,
   "metadata": {
    "ExecuteTime": {
     "end_time": "2023-12-20T19:17:01.414377300Z",
     "start_time": "2023-12-20T19:17:00.655607Z"
    }
   },
   "outputs": [],
   "source": []
  },
  {
   "cell_type": "code",
   "execution_count": 16,
   "metadata": {
    "ExecuteTime": {
     "end_time": "2023-12-20T19:17:01.471451700Z",
     "start_time": "2023-12-20T19:17:01.213163900Z"
    }
   },
   "outputs": [],
   "source": [
    "# 2023-Oct-24 FIX:\n",
    "# Brought from extinct radionuculde_analysis.ipynb\n",
    "# Jupyter notebook for tests with OGRaySpY modules"
   ]
  },
  {
   "cell_type": "code",
   "execution_count": 17,
   "metadata": {
    "ExecuteTime": {
     "end_time": "2023-12-20T19:17:09.445545100Z",
     "start_time": "2023-12-20T19:17:01.467399800Z"
    }
   },
   "outputs": [
    {
     "name": "stdout",
     "output_type": "stream",
     "text": [
      "Package                       Version\n",
      "----------------------------- ------------\n",
      "alabaster                     0.7.13\n",
      "anyio                         4.0.0\n",
      "argon2-cffi                   23.1.0\n",
      "argon2-cffi-bindings          21.2.0\n",
      "arrow                         1.2.3\n",
      "asteval                       0.9.31\n",
      "asttokens                     2.4.0\n",
      "async-lru                     2.0.4\n",
      "attrs                         23.1.0\n",
      "Babel                         2.12.1\n",
      "backcall                      0.2.0\n",
      "beautifulsoup4                4.12.2\n",
      "bleach                        6.0.0\n",
      "certifi                       2023.7.22\n",
      "cffi                          1.15.1\n",
      "charset-normalizer            3.2.0\n",
      "colorama                      0.4.6\n",
      "comm                          0.1.4\n",
      "contourpy                     1.1.1\n",
      "cycler                        0.11.0\n",
      "debugpy                       1.8.0\n",
      "decorator                     5.1.1\n",
      "defusedxml                    0.7.1\n",
      "docutils                      0.20.1\n",
      "exceptiongroup                1.1.3\n",
      "executing                     1.2.0\n",
      "fastjsonschema                2.18.0\n",
      "fonttools                     4.42.1\n",
      "fqdn                          1.5.1\n",
      "future                        0.18.3\n",
      "idna                          3.4\n",
      "imagesize                     1.4.1\n",
      "importlib-metadata            6.8.0\n",
      "importlib-resources           6.1.0\n",
      "ipykernel                     6.25.2\n",
      "ipython                       8.15.0\n",
      "ipython-genutils              0.2.0\n",
      "ipywidgets                    8.1.1\n",
      "isoduration                   20.11.0\n",
      "jedi                          0.19.0\n",
      "Jinja2                        3.1.2\n",
      "joblib                        1.3.2\n",
      "json5                         0.9.14\n",
      "jsonpointer                   2.4\n",
      "jsonschema                    4.19.1\n",
      "jsonschema-specifications     2023.7.1\n",
      "jupyter                       1.0.0\n",
      "jupyter_client                8.3.1\n",
      "jupyter-console               6.6.3\n",
      "jupyter_core                  5.3.1\n",
      "jupyter-events                0.7.0\n",
      "jupyter-lsp                   2.2.0\n",
      "jupyter_server                2.7.3\n",
      "jupyter_server_terminals      0.4.4\n",
      "jupyterlab                    4.0.6\n",
      "jupyterlab-pygments           0.2.2\n",
      "jupyterlab_server             2.25.0\n",
      "jupyterlab-widgets            3.0.9\n",
      "kiwisolver                    1.4.5\n",
      "lmfit                         1.2.2\n",
      "MarkupSafe                    2.1.3\n",
      "matplotlib                    3.8.0\n",
      "matplotlib-inline             0.1.6\n",
      "mistune                       3.0.1\n",
      "nbclient                      0.8.0\n",
      "nbconvert                     7.8.0\n",
      "nbformat                      5.9.2\n",
      "nest-asyncio                  1.5.8\n",
      "notebook                      7.0.4\n",
      "notebook_shim                 0.2.3\n",
      "numpy                         1.26.0\n",
      "overrides                     7.4.0\n",
      "packaging                     23.1\n",
      "pandas                        2.1.1\n",
      "pandocfilters                 1.5.0\n",
      "parso                         0.8.3\n",
      "pickleshare                   0.7.5\n",
      "Pillow                        10.0.1\n",
      "pip                           22.0.4\n",
      "platformdirs                  3.10.0\n",
      "plotly                        5.17.0\n",
      "prometheus-client             0.17.1\n",
      "prompt-toolkit                3.0.39\n",
      "psutil                        5.9.5\n",
      "pure-eval                     0.2.2\n",
      "pycparser                     2.21\n",
      "Pygments                      2.16.1\n",
      "pyparsing                     3.1.1\n",
      "python-dateutil               2.8.2\n",
      "python-json-logger            2.0.7\n",
      "pytz                          2023.3.post1\n",
      "pywin32                       306\n",
      "pywinpty                      2.0.11\n",
      "PyYAML                        6.0.1\n",
      "pyzmq                         25.1.1\n",
      "qtconsole                     5.4.4\n",
      "QtPy                          2.4.0\n",
      "referencing                   0.30.2\n",
      "requests                      2.31.0\n",
      "rfc3339-validator             0.1.4\n",
      "rfc3986-validator             0.1.1\n",
      "rpds-py                       0.10.3\n",
      "scikit-learn                  1.3.0\n",
      "scipy                         1.11.2\n",
      "Send2Trash                    1.8.2\n",
      "setuptools                    58.1.0\n",
      "six                           1.16.0\n",
      "sniffio                       1.3.0\n",
      "snowballstemmer               2.2.0\n",
      "soupsieve                     2.5\n",
      "Sphinx                        7.2.6\n",
      "sphinxcontrib-applehelp       1.0.7\n",
      "sphinxcontrib-devhelp         1.0.5\n",
      "sphinxcontrib-htmlhelp        2.0.4\n",
      "sphinxcontrib-jsmath          1.0.1\n",
      "sphinxcontrib-qthelp          1.0.6\n",
      "sphinxcontrib-serializinghtml 1.1.9\n",
      "stack-data                    0.6.2\n",
      "tenacity                      8.2.3\n",
      "terminado                     0.17.1\n",
      "threadpoolctl                 3.2.0\n",
      "tinycss2                      1.2.1\n",
      "tomli                         2.0.1\n",
      "tornado                       6.3.3\n",
      "traitlets                     5.10.0\n",
      "typing_extensions             4.8.0\n",
      "tzdata                        2023.3\n",
      "uncertainties                 3.1.7\n",
      "uri-template                  1.3.0\n",
      "urllib3                       2.0.5\n",
      "wcwidth                       0.2.6\n",
      "webcolors                     1.13\n",
      "webencodings                  0.5.1\n",
      "websocket-client              1.6.3\n",
      "widgetsnbextension            4.0.9\n",
      "zipp                          3.17.0\n",
      "Note: you may need to restart the kernel to use updated packages.\n"
     ]
    },
    {
     "name": "stderr",
     "output_type": "stream",
     "text": [
      "WARNING: You are using pip version 22.0.4; however, version 23.3.2 is available.\n",
      "You should consider upgrading via the 'C:\\Users\\mmaduar\\AppData\\Local\\Programs\\Python\\Python39\\python.exe -m pip install --upgrade pip' command.\n"
     ]
    }
   ],
   "source": [
    "pip list"
   ]
  },
  {
   "cell_type": "code",
   "execution_count": 18,
   "metadata": {
    "ExecuteTime": {
     "end_time": "2023-12-20T19:17:09.517005700Z",
     "start_time": "2023-12-20T19:17:09.429834600Z"
    }
   },
   "outputs": [],
   "source": [
    "import numpy as np\n",
    "from numpy.random import default_rng\n",
    "from numpy.polynomial import Polynomial as P\n",
    "from scipy import special\n",
    "import pandas as pd\n",
    "\n",
    "from ograyspy_class import select_spectrum_from_folder_list\n",
    "from spec_class import Spec"
   ]
  },
  {
   "cell_type": "code",
   "execution_count": 19,
   "metadata": {
    "ExecuteTime": {
     "end_time": "2023-12-20T19:17:12.639772100Z",
     "start_time": "2023-12-20T19:17:09.444484800Z"
    }
   },
   "outputs": [],
   "source": [
    "# https://lmfit.github.io/lmfit-py/builtin_models.html\n",
    "from lmfit import Model, minimize, Parameters, report_fit, fit_report, printfuncs\n",
    "from lmfit.models import LinearModel, StepModel, ExponentialModel, LorentzianModel\n",
    "from lmfit.models import GaussianModel, SkewedGaussianModel, ExpressionModel"
   ]
  },
  {
   "cell_type": "code",
   "execution_count": 20,
   "metadata": {
    "ExecuteTime": {
     "end_time": "2023-12-20T19:17:12.670557100Z",
     "start_time": "2023-12-20T19:17:12.641833900Z"
    }
   },
   "outputs": [],
   "source": [
    "from ograyspy_class import Ograyspy"
   ]
  },
  {
   "cell_type": "code",
   "execution_count": 21,
   "metadata": {
    "ExecuteTime": {
     "end_time": "2023-12-20T19:17:13.380988500Z",
     "start_time": "2023-12-20T19:17:12.656781600Z"
    }
   },
   "outputs": [
    {
     "name": "stdout",
     "output_type": "stream",
     "text": [
      "Found folder name:  C:\\Users\\mmaduar\\Nextcloud\\Genie_Transfer\n",
      "Parts:  ('C:\\\\', 'Users', 'mmaduar', 'Nextcloud', 'Genie_Transfer')\n",
      "No. spec files:  7316\n",
      "Objeto ogra: Ograyspy criado.\n",
      "ogra.info_plat: Windows-10-10.0.19045-SP0\n",
      "ogra.info_mach: AMD64\n",
      "ogra.info_syst: Windows\n",
      "ogra.info_node: I56611\n",
      "ogra.home_path: C:\\Users\\mmaduar\n"
     ]
    }
   ],
   "source": [
    "ogra = Ograyspy(batch_mode=False, folder_to_find='Genie_Transfer')\n",
    "print('Objeto ogra: Ograyspy criado.')\n",
    "print(f'ogra.info_plat: {ogra.info_plat}')\n",
    "print(f'ogra.info_mach: {ogra.info_mach}')\n",
    "print(f'ogra.info_syst: {ogra.info_syst}')\n",
    "print(f'ogra.info_node: {ogra.info_node}')\n",
    "print(f'ogra.home_path: {ogra.home_path}')"
   ]
  },
  {
   "cell_type": "code",
   "execution_count": 22,
   "metadata": {
    "ExecuteTime": {
     "end_time": "2023-12-20T19:17:13.460372900Z",
     "start_time": "2023-12-20T19:17:13.377852700Z"
    }
   },
   "outputs": [],
   "source": [
    "# a spectrum pattern to find and test:"
   ]
  },
  {
   "cell_type": "code",
   "execution_count": 23,
   "metadata": {
    "ExecuteTime": {
     "end_time": "2023-12-20T19:17:13.765792200Z",
     "start_time": "2023-12-20T19:17:13.393768500Z"
    }
   },
   "outputs": [],
   "source": [
    "# 2022\n",
    "# Se quiser ignorar o espectro aleatório, definir aqui um específico. Se não, pular.\n",
    "# Vou ignorar o espectro já analisado e refazer a análise, para testes.\n",
    "# 2022-Mar-24 Resolver essa questão dos nomes de arquivos em Linux e Windows\n",
    "# a_spec_name = '..\\\\..\\\\Genie_Transfer\\\\Si\\\\2018\\\\PNR\\\\PRN0803.Chn'\n",
    "# a_spec_name = '../../Genie_Transfer/Si/2018/PNR/PRN0803.Chn'\n",
    "# a_spec_name = '../../Genie_Transfer/Si/2018/CTP/CTP0908-2.Chn'\n",
    "# Esse é um que dá problema na baseline perto do 159 keV do I-123:\n",
    "# a_spec_name = '../../Genie_Transfer/Si/2018/CCI/CCI1508I.Chn'\n",
    "# Precisa quebrar mais a baseline: Ok, consertado!!!\n",
    "# 2022: Já usando o GMX:\n",
    "# a_spec_name = '../../Genie_Transfer/Filtros/2022/Cci/CCI1603-I.Chn'\n",
    "\n"
   ]
  },
  {
   "cell_type": "code",
   "execution_count": 24,
   "metadata": {
    "ExecuteTime": {
     "end_time": "2023-12-20T19:17:13.858507100Z",
     "start_time": "2023-12-20T19:17:13.767820900Z"
    }
   },
   "outputs": [],
   "source": [
    "\n",
    "# 2022-out-7: Excelente espectro para testes, tenho usado ultimamente:\n",
    "# a_pattern = 'Si/SI2018/SI11318.Chn'\n",
    "# 2022-nov-16: outros espectros:\n",
    "# a_pattern = \"Filtros/2022/Cci/CCI1603-I.Chn\"\n",
    "# a_pattern = \"Filtros/2022/Cci/CCI2302-I.Chn\"\n",
    "\n",
    "# a_pattern = \"Eso_non_existe.Chn\"\n",
    "\n",
    "# 2022-Dez-21 Buscando outro espectro\n",
    "# a_pattern = 'CCI1603-I'\n",
    "# 2022-Dez-28 Este é um espectro mais recente:\n",
    "# a_pattern = 'SI09722.Chn'\n",
    "# 2022-Dez-28 Este é um espectro mais recente que posso comparar com saída do Genie:\n",
    "a_pattern = 'SI06322.Chn'"
   ]
  },
  {
   "cell_type": "code",
   "execution_count": 25,
   "metadata": {
    "ExecuteTime": {
     "end_time": "2023-12-20T19:17:13.964746400Z",
     "start_time": "2023-12-20T19:17:13.859506Z"
    }
   },
   "outputs": [
    {
     "data": {
      "text/plain": "['__annotations__',\n '__class__',\n '__delattr__',\n '__dict__',\n '__dir__',\n '__doc__',\n '__eq__',\n '__format__',\n '__ge__',\n '__getattribute__',\n '__gt__',\n '__hash__',\n '__init__',\n '__init_subclass__',\n '__le__',\n '__lt__',\n '__module__',\n '__ne__',\n '__new__',\n '__reduce__',\n '__reduce_ex__',\n '__repr__',\n '__setattr__',\n '__sizeof__',\n '__str__',\n '__subclasshook__',\n '__weakref__',\n 'a_spec_ind',\n 'a_spec_name',\n 'define_files_folder',\n 'files_list',\n 'home_path',\n 'info_mach',\n 'info_node',\n 'info_plat',\n 'info_syst',\n 'n_files',\n 'pkl_folder_files',\n 'process_pickled_list',\n 'reduced_f_name',\n 'reduced_names_files_list',\n 'results_path_name',\n 'select_spectrum',\n 'spectra_path',\n 'spectra_pattern_names']"
     },
     "execution_count": 25,
     "metadata": {},
     "output_type": "execute_result"
    }
   ],
   "source": [
    "dir(ogra)"
   ]
  },
  {
   "cell_type": "code",
   "execution_count": 26,
   "metadata": {
    "ExecuteTime": {
     "end_time": "2023-12-20T19:17:14.148512400Z",
     "start_time": "2023-12-20T19:17:13.956080400Z"
    }
   },
   "outputs": [
    {
     "data": {
      "text/plain": "{'info_plat': 'Windows-10-10.0.19045-SP0',\n 'info_mach': 'AMD64',\n 'info_syst': 'Windows',\n 'info_node': 'I56611',\n 'home_path': WindowsPath('C:/Users/mmaduar'),\n 'spectra_path': WindowsPath('C:/Users/mmaduar/Nextcloud/Genie_Transfer'),\n 'n_files': 7316,\n 'a_spec_ind': 0,\n 'a_spec_name': '',\n 'reduced_f_name': '',\n 'files_list': [WindowsPath('C:/Users/mmaduar/Nextcloud/Genie_Transfer/BGNOVO.Chn'),\n  WindowsPath('C:/Users/mmaduar/Nextcloud/Genie_Transfer/2018/CCI/CCI (I-123) 210218.Chn'),\n  WindowsPath('C:/Users/mmaduar/Nextcloud/Genie_Transfer/2018/CCI/CCI0404F.Chn'),\n  WindowsPath('C:/Users/mmaduar/Nextcloud/Genie_Transfer/2018/CCI/CCI0404I.Chn'),\n  WindowsPath('C:/Users/mmaduar/Nextcloud/Genie_Transfer/2018/CCI/CCI0703F.Chn'),\n  WindowsPath('C:/Users/mmaduar/Nextcloud/Genie_Transfer/2018/CCI/CCI0703I.Chn'),\n  WindowsPath('C:/Users/mmaduar/Nextcloud/Genie_Transfer/2018/CCI/CCI0808I.Chn'),\n  WindowsPath('C:/Users/mmaduar/Nextcloud/Genie_Transfer/2018/CCI/CCI0905 I-123.Chn'),\n  WindowsPath('C:/Users/mmaduar/Nextcloud/Genie_Transfer/2018/CCI/CCI0905F.Chn'),\n  WindowsPath('C:/Users/mmaduar/Nextcloud/Genie_Transfer/2018/CCI/CCI1104F.Chn'),\n  WindowsPath('C:/Users/mmaduar/Nextcloud/Genie_Transfer/2018/CCI/CCI1104I.Chn'),\n  WindowsPath('C:/Users/mmaduar/Nextcloud/Genie_Transfer/2018/CCI/CCI1403F.Chn'),\n  WindowsPath('C:/Users/mmaduar/Nextcloud/Genie_Transfer/2018/CCI/CCI1403I.Chn'),\n  WindowsPath('C:/Users/mmaduar/Nextcloud/Genie_Transfer/2018/CCI/CCI1508I.Chn'),\n  WindowsPath('C:/Users/mmaduar/Nextcloud/Genie_Transfer/2018/CCI/CCI1605.Chn'),\n  WindowsPath('C:/Users/mmaduar/Nextcloud/Genie_Transfer/2018/CCI/CCI1804F.Chn'),\n  WindowsPath('C:/Users/mmaduar/Nextcloud/Genie_Transfer/2018/CCI/CCI1804I.Chn'),\n  WindowsPath('C:/Users/mmaduar/Nextcloud/Genie_Transfer/2018/CCI/CCI1807.Chn'),\n  WindowsPath('C:/Users/mmaduar/Nextcloud/Genie_Transfer/2018/CCI/CCI2004F-1.Chn'),\n  WindowsPath('C:/Users/mmaduar/Nextcloud/Genie_Transfer/2018/CCI/CCI2004F-2.Chn'),\n  WindowsPath('C:/Users/mmaduar/Nextcloud/Genie_Transfer/2018/CCI/CCI2102F.Chn'),\n  WindowsPath('C:/Users/mmaduar/Nextcloud/Genie_Transfer/2018/CCI/CCI2103F.Chn'),\n  WindowsPath('C:/Users/mmaduar/Nextcloud/Genie_Transfer/2018/CCI/CCI2103I.Chn'),\n  WindowsPath('C:/Users/mmaduar/Nextcloud/Genie_Transfer/2018/CCI/CCI2304F.Chn'),\n  WindowsPath('C:/Users/mmaduar/Nextcloud/Genie_Transfer/2018/CCI/CCI2802F.Chn'),\n  WindowsPath('C:/Users/mmaduar/Nextcloud/Genie_Transfer/2018/CCI/CCI2802I.Chn'),\n  WindowsPath('C:/Users/mmaduar/Nextcloud/Genie_Transfer/2018/CCI/PCI0905 F18.Chn'),\n  WindowsPath('C:/Users/mmaduar/Nextcloud/Genie_Transfer/2018/CCI/PCI1403I.Chn'),\n  WindowsPath('C:/Users/mmaduar/Nextcloud/Genie_Transfer/2018/CRF/CRF0103.Chn'),\n  WindowsPath('C:/Users/mmaduar/Nextcloud/Genie_Transfer/2018/CRF/CRF0111.Chn'),\n  WindowsPath('C:/Users/mmaduar/Nextcloud/Genie_Transfer/2018/CRF/CRF0208.Chn'),\n  WindowsPath('C:/Users/mmaduar/Nextcloud/Genie_Transfer/2018/CRF/CRF0305.Chn'),\n  WindowsPath('C:/Users/mmaduar/Nextcloud/Genie_Transfer/2018/CRF/CRF0410.Chn'),\n  WindowsPath('C:/Users/mmaduar/Nextcloud/Genie_Transfer/2018/CRF/CRF0504.Chn'),\n  WindowsPath('C:/Users/mmaduar/Nextcloud/Genie_Transfer/2018/CRF/CRF0507.Chn'),\n  WindowsPath('C:/Users/mmaduar/Nextcloud/Genie_Transfer/2018/CRF/CRF0609.Chn'),\n  WindowsPath('C:/Users/mmaduar/Nextcloud/Genie_Transfer/2018/CRF/CRF0706.Chn'),\n  WindowsPath('C:/Users/mmaduar/Nextcloud/Genie_Transfer/2018/CRF/CRF0803.Chn'),\n  WindowsPath('C:/Users/mmaduar/Nextcloud/Genie_Transfer/2018/CRF/CRF0908.Chn'),\n  WindowsPath('C:/Users/mmaduar/Nextcloud/Genie_Transfer/2018/CRF/CRF1005.Chn'),\n  WindowsPath('C:/Users/mmaduar/Nextcloud/Genie_Transfer/2018/CRF/CRF1110.Chn'),\n  WindowsPath('C:/Users/mmaduar/Nextcloud/Genie_Transfer/2018/CRF/CRF1204.Chn'),\n  WindowsPath('C:/Users/mmaduar/Nextcloud/Genie_Transfer/2018/CRF/CRF1207.Chn'),\n  WindowsPath('C:/Users/mmaduar/Nextcloud/Genie_Transfer/2018/CRF/CRF1309.Chn'),\n  WindowsPath('C:/Users/mmaduar/Nextcloud/Genie_Transfer/2018/CRF/CRF1406.Chn'),\n  WindowsPath('C:/Users/mmaduar/Nextcloud/Genie_Transfer/2018/CRF/CRF1503.Chn'),\n  WindowsPath('C:/Users/mmaduar/Nextcloud/Genie_Transfer/2018/CRF/CRF1608.Chn'),\n  WindowsPath('C:/Users/mmaduar/Nextcloud/Genie_Transfer/2018/CRF/crf1705.Chn'),\n  WindowsPath('C:/Users/mmaduar/Nextcloud/Genie_Transfer/2018/CRF/CRF1810.Chn'),\n  WindowsPath('C:/Users/mmaduar/Nextcloud/Genie_Transfer/2018/CRF/CRF1907.Chn'),\n  WindowsPath('C:/Users/mmaduar/Nextcloud/Genie_Transfer/2018/CRF/CRF2009.Chn'),\n  WindowsPath('C:/Users/mmaduar/Nextcloud/Genie_Transfer/2018/CRF/CRF2106.Chn'),\n  WindowsPath('C:/Users/mmaduar/Nextcloud/Genie_Transfer/2018/CRF/CRF2202.Chn'),\n  WindowsPath('C:/Users/mmaduar/Nextcloud/Genie_Transfer/2018/CRF/CRF2203.Chn'),\n  WindowsPath('C:/Users/mmaduar/Nextcloud/Genie_Transfer/2018/CRF/CRF2308.Chn'),\n  WindowsPath('C:/Users/mmaduar/Nextcloud/Genie_Transfer/2018/CRF/CRF2604.Chn'),\n  WindowsPath('C:/Users/mmaduar/Nextcloud/Genie_Transfer/2018/CRF/CRF2607.Chn'),\n  WindowsPath('C:/Users/mmaduar/Nextcloud/Genie_Transfer/2018/CRF/CRF2709.Chn'),\n  WindowsPath('C:/Users/mmaduar/Nextcloud/Genie_Transfer/2018/CRF/CRF2806.Chn'),\n  WindowsPath('C:/Users/mmaduar/Nextcloud/Genie_Transfer/2018/CRF/CRF2903.Chn'),\n  WindowsPath('C:/Users/mmaduar/Nextcloud/Genie_Transfer/2018/CRF/CRF3005.Chn'),\n  WindowsPath('C:/Users/mmaduar/Nextcloud/Genie_Transfer/2018/CRF/CRF3008.Chn'),\n  WindowsPath('C:/Users/mmaduar/Nextcloud/Genie_Transfer/2018/CRN/CRF2405.Chn'),\n  WindowsPath('C:/Users/mmaduar/Nextcloud/Genie_Transfer/2018/CRN/CRN0103.Chn'),\n  WindowsPath('C:/Users/mmaduar/Nextcloud/Genie_Transfer/2018/CRN/CRN0111.Chn'),\n  WindowsPath('C:/Users/mmaduar/Nextcloud/Genie_Transfer/2018/CRN/CRN0208.Chn'),\n  WindowsPath('C:/Users/mmaduar/Nextcloud/Genie_Transfer/2018/CRN/CRN0305.Chn'),\n  WindowsPath('C:/Users/mmaduar/Nextcloud/Genie_Transfer/2018/CRN/CRN0410.Chn'),\n  WindowsPath('C:/Users/mmaduar/Nextcloud/Genie_Transfer/2018/CRN/CRN0507.Chn'),\n  WindowsPath('C:/Users/mmaduar/Nextcloud/Genie_Transfer/2018/CRN/CRN0609.Chn'),\n  WindowsPath('C:/Users/mmaduar/Nextcloud/Genie_Transfer/2018/CRN/CRN0706.Chn'),\n  WindowsPath('C:/Users/mmaduar/Nextcloud/Genie_Transfer/2018/CRN/CRN0803.Chn'),\n  WindowsPath('C:/Users/mmaduar/Nextcloud/Genie_Transfer/2018/CRN/CRN0908.Chn'),\n  WindowsPath('C:/Users/mmaduar/Nextcloud/Genie_Transfer/2018/CRN/CRN1005.Chn'),\n  WindowsPath('C:/Users/mmaduar/Nextcloud/Genie_Transfer/2018/CRN/CRN1110.Chn'),\n  WindowsPath('C:/Users/mmaduar/Nextcloud/Genie_Transfer/2018/CRN/CRN1207.Chn'),\n  WindowsPath('C:/Users/mmaduar/Nextcloud/Genie_Transfer/2018/CRN/CRN1309.Chn'),\n  WindowsPath('C:/Users/mmaduar/Nextcloud/Genie_Transfer/2018/CRN/CRN1406.Chn'),\n  WindowsPath('C:/Users/mmaduar/Nextcloud/Genie_Transfer/2018/CRN/CRN1503.Chn'),\n  WindowsPath('C:/Users/mmaduar/Nextcloud/Genie_Transfer/2018/CRN/CRN1608.Chn'),\n  WindowsPath('C:/Users/mmaduar/Nextcloud/Genie_Transfer/2018/CRN/CRN1705.Chn'),\n  WindowsPath('C:/Users/mmaduar/Nextcloud/Genie_Transfer/2018/CRN/CRN1810.Chn'),\n  WindowsPath('C:/Users/mmaduar/Nextcloud/Genie_Transfer/2018/CRN/CRN1904.Chn'),\n  WindowsPath('C:/Users/mmaduar/Nextcloud/Genie_Transfer/2018/CRN/CRN1907.Chn'),\n  WindowsPath('C:/Users/mmaduar/Nextcloud/Genie_Transfer/2018/CRN/CRN2009.Chn'),\n  WindowsPath('C:/Users/mmaduar/Nextcloud/Genie_Transfer/2018/CRN/CRN2106.Chn'),\n  WindowsPath('C:/Users/mmaduar/Nextcloud/Genie_Transfer/2018/CRN/CRN2202.Chn'),\n  WindowsPath('C:/Users/mmaduar/Nextcloud/Genie_Transfer/2018/CRN/CRN2203.Chn'),\n  WindowsPath('C:/Users/mmaduar/Nextcloud/Genie_Transfer/2018/CRN/CRN2308.Chn'),\n  WindowsPath('C:/Users/mmaduar/Nextcloud/Genie_Transfer/2018/CRN/CRN2405.Chn'),\n  WindowsPath('C:/Users/mmaduar/Nextcloud/Genie_Transfer/2018/CRN/CRN2510.Chn'),\n  WindowsPath('C:/Users/mmaduar/Nextcloud/Genie_Transfer/2018/CRN/CRN2604.Chn'),\n  WindowsPath('C:/Users/mmaduar/Nextcloud/Genie_Transfer/2018/CRN/CRN2607.Chn'),\n  WindowsPath('C:/Users/mmaduar/Nextcloud/Genie_Transfer/2018/CRN/CRN2709.Chn'),\n  WindowsPath('C:/Users/mmaduar/Nextcloud/Genie_Transfer/2018/CRN/CRN2806.Chn'),\n  WindowsPath('C:/Users/mmaduar/Nextcloud/Genie_Transfer/2018/CRN/CRN2903.Chn'),\n  WindowsPath('C:/Users/mmaduar/Nextcloud/Genie_Transfer/2018/CRN/CRN3005.Chn'),\n  WindowsPath('C:/Users/mmaduar/Nextcloud/Genie_Transfer/2018/CRN/CRN3008.Chn'),\n  WindowsPath('C:/Users/mmaduar/Nextcloud/Genie_Transfer/2018/CTP/CTP0103.Chn'),\n  WindowsPath('C:/Users/mmaduar/Nextcloud/Genie_Transfer/2018/CTP/CTP0111.Chn'),\n  WindowsPath('C:/Users/mmaduar/Nextcloud/Genie_Transfer/2018/CTP/CTP0208-2.Chn'),\n  WindowsPath('C:/Users/mmaduar/Nextcloud/Genie_Transfer/2018/CTP/CTP0208.Chn'),\n  WindowsPath('C:/Users/mmaduar/Nextcloud/Genie_Transfer/2018/CTP/CTP0305-2.Chn'),\n  WindowsPath('C:/Users/mmaduar/Nextcloud/Genie_Transfer/2018/CTP/CTP0305.Chn'),\n  WindowsPath('C:/Users/mmaduar/Nextcloud/Genie_Transfer/2018/CTP/CTP0410-2.Chn'),\n  WindowsPath('C:/Users/mmaduar/Nextcloud/Genie_Transfer/2018/CTP/CTP0410-3.Chn'),\n  WindowsPath('C:/Users/mmaduar/Nextcloud/Genie_Transfer/2018/CTP/CTP0410.Chn'),\n  WindowsPath('C:/Users/mmaduar/Nextcloud/Genie_Transfer/2018/CTP/CTP0504.Chn'),\n  WindowsPath('C:/Users/mmaduar/Nextcloud/Genie_Transfer/2018/CTP/CTP0507.Chn'),\n  WindowsPath('C:/Users/mmaduar/Nextcloud/Genie_Transfer/2018/CTP/CTP05072.Chn'),\n  WindowsPath('C:/Users/mmaduar/Nextcloud/Genie_Transfer/2018/CTP/CTP05073.Chn'),\n  WindowsPath('C:/Users/mmaduar/Nextcloud/Genie_Transfer/2018/CTP/CTP05074.Chn'),\n  WindowsPath('C:/Users/mmaduar/Nextcloud/Genie_Transfer/2018/CTP/CTP0609-2.Chn'),\n  WindowsPath('C:/Users/mmaduar/Nextcloud/Genie_Transfer/2018/CTP/CTP0609-3.Chn'),\n  WindowsPath('C:/Users/mmaduar/Nextcloud/Genie_Transfer/2018/CTP/CTP0609-4.Chn'),\n  WindowsPath('C:/Users/mmaduar/Nextcloud/Genie_Transfer/2018/CTP/CTP0609.Chn'),\n  WindowsPath('C:/Users/mmaduar/Nextcloud/Genie_Transfer/2018/CTP/CTP0706.Chn'),\n  WindowsPath('C:/Users/mmaduar/Nextcloud/Genie_Transfer/2018/CTP/CTP0803.Chn'),\n  WindowsPath('C:/Users/mmaduar/Nextcloud/Genie_Transfer/2018/CTP/CTP0908-2.Chn'),\n  WindowsPath('C:/Users/mmaduar/Nextcloud/Genie_Transfer/2018/CTP/CTP0908.Chn'),\n  WindowsPath('C:/Users/mmaduar/Nextcloud/Genie_Transfer/2018/CTP/CTP1005.Chn'),\n  WindowsPath('C:/Users/mmaduar/Nextcloud/Genie_Transfer/2018/CTP/CTP1110-2.Chn'),\n  WindowsPath('C:/Users/mmaduar/Nextcloud/Genie_Transfer/2018/CTP/CTP1110-3.Chn'),\n  WindowsPath('C:/Users/mmaduar/Nextcloud/Genie_Transfer/2018/CTP/CTP1110-4.Chn'),\n  WindowsPath('C:/Users/mmaduar/Nextcloud/Genie_Transfer/2018/CTP/CTP1110.Chn'),\n  WindowsPath('C:/Users/mmaduar/Nextcloud/Genie_Transfer/2018/CTP/CTP1204.Chn'),\n  WindowsPath('C:/Users/mmaduar/Nextcloud/Genie_Transfer/2018/CTP/CTP1207-4.Chn'),\n  WindowsPath('C:/Users/mmaduar/Nextcloud/Genie_Transfer/2018/CTP/CTP1207.Chn'),\n  WindowsPath('C:/Users/mmaduar/Nextcloud/Genie_Transfer/2018/CTP/CTP12072.Chn'),\n  WindowsPath('C:/Users/mmaduar/Nextcloud/Genie_Transfer/2018/CTP/CTP12073.Chn'),\n  WindowsPath('C:/Users/mmaduar/Nextcloud/Genie_Transfer/2018/CTP/CTP1309-2.Chn'),\n  WindowsPath('C:/Users/mmaduar/Nextcloud/Genie_Transfer/2018/CTP/CTP1309-3.Chn'),\n  WindowsPath('C:/Users/mmaduar/Nextcloud/Genie_Transfer/2018/CTP/CTP1309.Chn'),\n  WindowsPath('C:/Users/mmaduar/Nextcloud/Genie_Transfer/2018/CTP/CTP1406.Chn'),\n  WindowsPath('C:/Users/mmaduar/Nextcloud/Genie_Transfer/2018/CTP/CTP1502.Chn'),\n  WindowsPath('C:/Users/mmaduar/Nextcloud/Genie_Transfer/2018/CTP/CTP150218 2 CONTAGEM.Chn'),\n  WindowsPath('C:/Users/mmaduar/Nextcloud/Genie_Transfer/2018/CTP/CTP15023.Chn'),\n  WindowsPath('C:/Users/mmaduar/Nextcloud/Genie_Transfer/2018/CTP/CTP1503 4.Chn'),\n  WindowsPath('C:/Users/mmaduar/Nextcloud/Genie_Transfer/2018/CTP/CTP1503.Chn'),\n  WindowsPath('C:/Users/mmaduar/Nextcloud/Genie_Transfer/2018/CTP/CTP15032.Chn'),\n  WindowsPath('C:/Users/mmaduar/Nextcloud/Genie_Transfer/2018/CTP/CTP15033.Chn'),\n  WindowsPath('C:/Users/mmaduar/Nextcloud/Genie_Transfer/2018/CTP/CTP1608-2.Chn'),\n  WindowsPath('C:/Users/mmaduar/Nextcloud/Genie_Transfer/2018/CTP/CTP1608-3.Chn'),\n  WindowsPath('C:/Users/mmaduar/Nextcloud/Genie_Transfer/2018/CTP/CTP1608.Chn'),\n  WindowsPath('C:/Users/mmaduar/Nextcloud/Genie_Transfer/2018/CTP/CTP1705-2.Chn'),\n  WindowsPath('C:/Users/mmaduar/Nextcloud/Genie_Transfer/2018/CTP/CTP1705.Chn'),\n  WindowsPath('C:/Users/mmaduar/Nextcloud/Genie_Transfer/2018/CTP/CTP1810-2.Chn'),\n  WindowsPath('C:/Users/mmaduar/Nextcloud/Genie_Transfer/2018/CTP/CTP1810-3.Chn'),\n  WindowsPath('C:/Users/mmaduar/Nextcloud/Genie_Transfer/2018/CTP/CTP1810.Chn'),\n  WindowsPath('C:/Users/mmaduar/Nextcloud/Genie_Transfer/2018/CTP/CTP1904.Chn'),\n  WindowsPath('C:/Users/mmaduar/Nextcloud/Genie_Transfer/2018/CTP/CTP1907.Chn'),\n  WindowsPath('C:/Users/mmaduar/Nextcloud/Genie_Transfer/2018/CTP/CTP19072.Chn'),\n  WindowsPath('C:/Users/mmaduar/Nextcloud/Genie_Transfer/2018/CTP/CTP2009-2.Chn'),\n  WindowsPath('C:/Users/mmaduar/Nextcloud/Genie_Transfer/2018/CTP/CTP2009-3.Chn'),\n  WindowsPath('C:/Users/mmaduar/Nextcloud/Genie_Transfer/2018/CTP/CTP2009-4.Chn'),\n  WindowsPath('C:/Users/mmaduar/Nextcloud/Genie_Transfer/2018/CTP/CTP2009.Chn'),\n  WindowsPath('C:/Users/mmaduar/Nextcloud/Genie_Transfer/2018/CTP/CTP2106.Chn'),\n  WindowsPath('C:/Users/mmaduar/Nextcloud/Genie_Transfer/2018/CTP/CTP21062.Chn'),\n  WindowsPath('C:/Users/mmaduar/Nextcloud/Genie_Transfer/2018/CTP/CTP21063.Chn'),\n  WindowsPath('C:/Users/mmaduar/Nextcloud/Genie_Transfer/2018/CTP/CTP21064.Chn'),\n  WindowsPath('C:/Users/mmaduar/Nextcloud/Genie_Transfer/2018/CTP/CTP2202.Chn'),\n  WindowsPath('C:/Users/mmaduar/Nextcloud/Genie_Transfer/2018/CTP/CTP2203-2.Chn'),\n  WindowsPath('C:/Users/mmaduar/Nextcloud/Genie_Transfer/2018/CTP/CTP2203-3.Chn'),\n  WindowsPath('C:/Users/mmaduar/Nextcloud/Genie_Transfer/2018/CTP/CTP2203.Chn'),\n  WindowsPath('C:/Users/mmaduar/Nextcloud/Genie_Transfer/2018/CTP/CTP2308-2.Chn'),\n  WindowsPath('C:/Users/mmaduar/Nextcloud/Genie_Transfer/2018/CTP/CTP2308-3.Chn'),\n  WindowsPath('C:/Users/mmaduar/Nextcloud/Genie_Transfer/2018/CTP/CTP2308-4.Chn'),\n  WindowsPath('C:/Users/mmaduar/Nextcloud/Genie_Transfer/2018/CTP/CTP2308-5.Chn'),\n  WindowsPath('C:/Users/mmaduar/Nextcloud/Genie_Transfer/2018/CTP/CTP2308.Chn'),\n  WindowsPath('C:/Users/mmaduar/Nextcloud/Genie_Transfer/2018/CTP/CTP2405.Chn'),\n  WindowsPath('C:/Users/mmaduar/Nextcloud/Genie_Transfer/2018/CTP/CTP2510-2.Chn'),\n  WindowsPath('C:/Users/mmaduar/Nextcloud/Genie_Transfer/2018/CTP/CTP2510.Chn'),\n  WindowsPath('C:/Users/mmaduar/Nextcloud/Genie_Transfer/2018/CTP/CTP2604.Chn'),\n  WindowsPath('C:/Users/mmaduar/Nextcloud/Genie_Transfer/2018/CTP/CTP2607-2.Chn'),\n  WindowsPath('C:/Users/mmaduar/Nextcloud/Genie_Transfer/2018/CTP/CTP2607.Chn'),\n  WindowsPath('C:/Users/mmaduar/Nextcloud/Genie_Transfer/2018/CTP/CTP2709-2.Chn'),\n  WindowsPath('C:/Users/mmaduar/Nextcloud/Genie_Transfer/2018/CTP/CTP2709-3.Chn'),\n  WindowsPath('C:/Users/mmaduar/Nextcloud/Genie_Transfer/2018/CTP/CTP2709-4.Chn'),\n  WindowsPath('C:/Users/mmaduar/Nextcloud/Genie_Transfer/2018/CTP/CTP2709.Chn'),\n  WindowsPath('C:/Users/mmaduar/Nextcloud/Genie_Transfer/2018/CTP/CTP2806.Chn'),\n  WindowsPath('C:/Users/mmaduar/Nextcloud/Genie_Transfer/2018/CTP/CTP2903-2.Chn'),\n  WindowsPath('C:/Users/mmaduar/Nextcloud/Genie_Transfer/2018/CTP/CTP2903.Chn'),\n  WindowsPath('C:/Users/mmaduar/Nextcloud/Genie_Transfer/2018/CTP/CTP3005.Chn'),\n  WindowsPath('C:/Users/mmaduar/Nextcloud/Genie_Transfer/2018/CTP/CTP3008-2.Chn'),\n  WindowsPath('C:/Users/mmaduar/Nextcloud/Genie_Transfer/2018/CTP/CTP3008-3.Chn'),\n  WindowsPath('C:/Users/mmaduar/Nextcloud/Genie_Transfer/2018/CTP/CTP3008-4.Chn'),\n  WindowsPath('C:/Users/mmaduar/Nextcloud/Genie_Transfer/2018/CTP/CTP3008.Chn'),\n  WindowsPath('C:/Users/mmaduar/Nextcloud/Genie_Transfer/2018/CTP/PTP1406.Chn'),\n  WindowsPath('C:/Users/mmaduar/Nextcloud/Genie_Transfer/2018/PCI/PCI0404F.Chn'),\n  WindowsPath('C:/Users/mmaduar/Nextcloud/Genie_Transfer/2018/PCI/PCI0404I.Chn'),\n  WindowsPath('C:/Users/mmaduar/Nextcloud/Genie_Transfer/2018/PCI/PCI0703F.Chn'),\n  WindowsPath('C:/Users/mmaduar/Nextcloud/Genie_Transfer/2018/PCI/PCI0703I.Chn'),\n  WindowsPath('C:/Users/mmaduar/Nextcloud/Genie_Transfer/2018/PCI/PCI0905I.Chn'),\n  WindowsPath('C:/Users/mmaduar/Nextcloud/Genie_Transfer/2018/PCI/PCI1104F.Chn'),\n  WindowsPath('C:/Users/mmaduar/Nextcloud/Genie_Transfer/2018/PCI/PCI1104I.Chn'),\n  WindowsPath('C:/Users/mmaduar/Nextcloud/Genie_Transfer/2018/PCI/PCI1403F.Chn'),\n  WindowsPath('C:/Users/mmaduar/Nextcloud/Genie_Transfer/2018/PCI/PCI1508I.Chn'),\n  WindowsPath('C:/Users/mmaduar/Nextcloud/Genie_Transfer/2018/PCI/PCI1605.Chn'),\n  WindowsPath('C:/Users/mmaduar/Nextcloud/Genie_Transfer/2018/PCI/PCI1804F.Chn'),\n  WindowsPath('C:/Users/mmaduar/Nextcloud/Genie_Transfer/2018/PCI/PCI1804I.Chn'),\n  WindowsPath('C:/Users/mmaduar/Nextcloud/Genie_Transfer/2018/PCI/PCI1807.Chn'),\n  WindowsPath('C:/Users/mmaduar/Nextcloud/Genie_Transfer/2018/PCI/PCI2004F-1.Chn'),\n  WindowsPath('C:/Users/mmaduar/Nextcloud/Genie_Transfer/2018/PCI/PCI2004F-2.Chn'),\n  WindowsPath('C:/Users/mmaduar/Nextcloud/Genie_Transfer/2018/PCI/PCI2102F.Chn'),\n  WindowsPath('C:/Users/mmaduar/Nextcloud/Genie_Transfer/2018/PCI/PCI2102I.Chn'),\n  WindowsPath('C:/Users/mmaduar/Nextcloud/Genie_Transfer/2018/PCI/PCI2103F.Chn'),\n  WindowsPath('C:/Users/mmaduar/Nextcloud/Genie_Transfer/2018/PCI/PCI2103I.Chn'),\n  WindowsPath('C:/Users/mmaduar/Nextcloud/Genie_Transfer/2018/PCI/PCI2304F.Chn'),\n  WindowsPath('C:/Users/mmaduar/Nextcloud/Genie_Transfer/2018/PCI/PCI2802F.Chn'),\n  WindowsPath('C:/Users/mmaduar/Nextcloud/Genie_Transfer/2018/PCI/PCI2802I.Chn'),\n  WindowsPath('C:/Users/mmaduar/Nextcloud/Genie_Transfer/2018/PNR/prn0103.Chn'),\n  WindowsPath('C:/Users/mmaduar/Nextcloud/Genie_Transfer/2018/PNR/PRN0111.Chn'),\n  WindowsPath('C:/Users/mmaduar/Nextcloud/Genie_Transfer/2018/PNR/PRN0208.Chn'),\n  WindowsPath('C:/Users/mmaduar/Nextcloud/Genie_Transfer/2018/PNR/PRN0305.Chn'),\n  WindowsPath('C:/Users/mmaduar/Nextcloud/Genie_Transfer/2018/PNR/PRN0410.Chn'),\n  WindowsPath('C:/Users/mmaduar/Nextcloud/Genie_Transfer/2018/PNR/PRN0507.Chn'),\n  WindowsPath('C:/Users/mmaduar/Nextcloud/Genie_Transfer/2018/PNR/PRN0609-2.Chn'),\n  WindowsPath('C:/Users/mmaduar/Nextcloud/Genie_Transfer/2018/PNR/PRN0609.Chn'),\n  WindowsPath('C:/Users/mmaduar/Nextcloud/Genie_Transfer/2018/PNR/PRN0706.Chn'),\n  WindowsPath('C:/Users/mmaduar/Nextcloud/Genie_Transfer/2018/PNR/PRN0803.Chn'),\n  WindowsPath('C:/Users/mmaduar/Nextcloud/Genie_Transfer/2018/PNR/PRN0908.Chn'),\n  WindowsPath('C:/Users/mmaduar/Nextcloud/Genie_Transfer/2018/PNR/PRN1005.Chn'),\n  WindowsPath('C:/Users/mmaduar/Nextcloud/Genie_Transfer/2018/PNR/PRN1110.Chn'),\n  WindowsPath('C:/Users/mmaduar/Nextcloud/Genie_Transfer/2018/PNR/prn1207.Chn'),\n  WindowsPath('C:/Users/mmaduar/Nextcloud/Genie_Transfer/2018/PNR/PRN1309.Chn'),\n  WindowsPath('C:/Users/mmaduar/Nextcloud/Genie_Transfer/2018/PNR/PRN1406.Chn'),\n  WindowsPath('C:/Users/mmaduar/Nextcloud/Genie_Transfer/2018/PNR/PRN1502.Chn'),\n  WindowsPath('C:/Users/mmaduar/Nextcloud/Genie_Transfer/2018/PNR/PRN1503.Chn'),\n  WindowsPath('C:/Users/mmaduar/Nextcloud/Genie_Transfer/2018/PNR/PRN1608.Chn'),\n  WindowsPath('C:/Users/mmaduar/Nextcloud/Genie_Transfer/2018/PNR/PRN1705.Chn'),\n  WindowsPath('C:/Users/mmaduar/Nextcloud/Genie_Transfer/2018/PNR/PRN1810.Chn'),\n  WindowsPath('C:/Users/mmaduar/Nextcloud/Genie_Transfer/2018/PNR/PRN1904.Chn'),\n  WindowsPath('C:/Users/mmaduar/Nextcloud/Genie_Transfer/2018/PNR/PRN1907.Chn'),\n  WindowsPath('C:/Users/mmaduar/Nextcloud/Genie_Transfer/2018/PNR/PRN2009.Chn'),\n  WindowsPath('C:/Users/mmaduar/Nextcloud/Genie_Transfer/2018/PNR/PRN2106.Chn'),\n  WindowsPath('C:/Users/mmaduar/Nextcloud/Genie_Transfer/2018/PNR/PRN2202.Chn'),\n  WindowsPath('C:/Users/mmaduar/Nextcloud/Genie_Transfer/2018/PNR/PRN2203.Chn'),\n  WindowsPath('C:/Users/mmaduar/Nextcloud/Genie_Transfer/2018/PNR/PRN2308.Chn'),\n  WindowsPath('C:/Users/mmaduar/Nextcloud/Genie_Transfer/2018/PNR/PRN2405.Chn'),\n  WindowsPath('C:/Users/mmaduar/Nextcloud/Genie_Transfer/2018/PNR/PRN2510.Chn'),\n  WindowsPath('C:/Users/mmaduar/Nextcloud/Genie_Transfer/2018/PNR/PRN2604.Chn'),\n  WindowsPath('C:/Users/mmaduar/Nextcloud/Genie_Transfer/2018/PNR/PRN2607.Chn'),\n  WindowsPath('C:/Users/mmaduar/Nextcloud/Genie_Transfer/2018/PNR/prn26072.Chn'),\n  WindowsPath('C:/Users/mmaduar/Nextcloud/Genie_Transfer/2018/PNR/PRN2709.Chn'),\n  WindowsPath('C:/Users/mmaduar/Nextcloud/Genie_Transfer/2018/PNR/PRN2806.Chn'),\n  WindowsPath('C:/Users/mmaduar/Nextcloud/Genie_Transfer/2018/PNR/PRN2903.Chn'),\n  WindowsPath('C:/Users/mmaduar/Nextcloud/Genie_Transfer/2018/PNR/PRN3005.Chn'),\n  WindowsPath('C:/Users/mmaduar/Nextcloud/Genie_Transfer/2018/PNR/PRN3008.Chn'),\n  WindowsPath('C:/Users/mmaduar/Nextcloud/Genie_Transfer/2018/PRF/PRF0103.Chn'),\n  WindowsPath('C:/Users/mmaduar/Nextcloud/Genie_Transfer/2018/PRF/PRF0111.Chn'),\n  WindowsPath('C:/Users/mmaduar/Nextcloud/Genie_Transfer/2018/PRF/PRF0208.Chn'),\n  WindowsPath('C:/Users/mmaduar/Nextcloud/Genie_Transfer/2018/PRF/PRF0305.Chn'),\n  WindowsPath('C:/Users/mmaduar/Nextcloud/Genie_Transfer/2018/PRF/PRF0410.Chn'),\n  WindowsPath('C:/Users/mmaduar/Nextcloud/Genie_Transfer/2018/PRF/PRF0504.Chn'),\n  WindowsPath('C:/Users/mmaduar/Nextcloud/Genie_Transfer/2018/PRF/PRF0507-2.Chn'),\n  WindowsPath('C:/Users/mmaduar/Nextcloud/Genie_Transfer/2018/PRF/PRF0507.Chn'),\n  WindowsPath('C:/Users/mmaduar/Nextcloud/Genie_Transfer/2018/PRF/PRF0609.Chn'),\n  WindowsPath('C:/Users/mmaduar/Nextcloud/Genie_Transfer/2018/PRF/PRF0706.Chn'),\n  WindowsPath('C:/Users/mmaduar/Nextcloud/Genie_Transfer/2018/PRF/PRF0803.Chn'),\n  WindowsPath('C:/Users/mmaduar/Nextcloud/Genie_Transfer/2018/PRF/PRF0908.Chn'),\n  WindowsPath('C:/Users/mmaduar/Nextcloud/Genie_Transfer/2018/PRF/PRF1005.Chn'),\n  WindowsPath('C:/Users/mmaduar/Nextcloud/Genie_Transfer/2018/PRF/PRF1110.Chn'),\n  WindowsPath('C:/Users/mmaduar/Nextcloud/Genie_Transfer/2018/PRF/PRF1204.Chn'),\n  WindowsPath('C:/Users/mmaduar/Nextcloud/Genie_Transfer/2018/PRF/PRF1207.Chn'),\n  WindowsPath('C:/Users/mmaduar/Nextcloud/Genie_Transfer/2018/PRF/PRF1309.Chn'),\n  WindowsPath('C:/Users/mmaduar/Nextcloud/Genie_Transfer/2018/PRF/PRF1406.Chn'),\n  WindowsPath('C:/Users/mmaduar/Nextcloud/Genie_Transfer/2018/PRF/PRF1503.Chn'),\n  WindowsPath('C:/Users/mmaduar/Nextcloud/Genie_Transfer/2018/PRF/PRF1608.Chn'),\n  WindowsPath('C:/Users/mmaduar/Nextcloud/Genie_Transfer/2018/PRF/prf1705.Chn'),\n  WindowsPath('C:/Users/mmaduar/Nextcloud/Genie_Transfer/2018/PRF/PRF1810.Chn'),\n  WindowsPath('C:/Users/mmaduar/Nextcloud/Genie_Transfer/2018/PRF/PRF1904.Chn'),\n  WindowsPath('C:/Users/mmaduar/Nextcloud/Genie_Transfer/2018/PRF/PRF1907.Chn'),\n  WindowsPath('C:/Users/mmaduar/Nextcloud/Genie_Transfer/2018/PRF/PRF2009.Chn'),\n  WindowsPath('C:/Users/mmaduar/Nextcloud/Genie_Transfer/2018/PRF/PRF2106.Chn'),\n  WindowsPath('C:/Users/mmaduar/Nextcloud/Genie_Transfer/2018/PRF/PRF2202.Chn'),\n  WindowsPath('C:/Users/mmaduar/Nextcloud/Genie_Transfer/2018/PRF/PRF2203.Chn'),\n  WindowsPath('C:/Users/mmaduar/Nextcloud/Genie_Transfer/2018/PRF/PRF2308.Chn'),\n  WindowsPath('C:/Users/mmaduar/Nextcloud/Genie_Transfer/2018/PRF/PRF2405.Chn'),\n  WindowsPath('C:/Users/mmaduar/Nextcloud/Genie_Transfer/2018/PRF/PRF2604.Chn'),\n  WindowsPath('C:/Users/mmaduar/Nextcloud/Genie_Transfer/2018/PRF/PRF2607.Chn'),\n  WindowsPath('C:/Users/mmaduar/Nextcloud/Genie_Transfer/2018/PRF/PRF2709.Chn'),\n  WindowsPath('C:/Users/mmaduar/Nextcloud/Genie_Transfer/2018/PRF/PRF2806.Chn'),\n  WindowsPath('C:/Users/mmaduar/Nextcloud/Genie_Transfer/2018/PRF/PRF2903.Chn'),\n  WindowsPath('C:/Users/mmaduar/Nextcloud/Genie_Transfer/2018/PRF/PRF3005.Chn'),\n  WindowsPath('C:/Users/mmaduar/Nextcloud/Genie_Transfer/2018/PRF/PRF3008.Chn'),\n  WindowsPath('C:/Users/mmaduar/Nextcloud/Genie_Transfer/2018/PTP/PTP0103.Chn'),\n  WindowsPath('C:/Users/mmaduar/Nextcloud/Genie_Transfer/2018/PTP/PTP0111.Chn'),\n  WindowsPath('C:/Users/mmaduar/Nextcloud/Genie_Transfer/2018/PTP/PTP0208.Chn'),\n  WindowsPath('C:/Users/mmaduar/Nextcloud/Genie_Transfer/2018/PTP/PTP0305.Chn'),\n  WindowsPath('C:/Users/mmaduar/Nextcloud/Genie_Transfer/2018/PTP/PTP0410.Chn'),\n  WindowsPath('C:/Users/mmaduar/Nextcloud/Genie_Transfer/2018/PTP/PTP0504.Chn'),\n  WindowsPath('C:/Users/mmaduar/Nextcloud/Genie_Transfer/2018/PTP/PTP0507.Chn'),\n  WindowsPath('C:/Users/mmaduar/Nextcloud/Genie_Transfer/2018/PTP/PTP0609.Chn'),\n  WindowsPath('C:/Users/mmaduar/Nextcloud/Genie_Transfer/2018/PTP/PTP0706.Chn'),\n  WindowsPath('C:/Users/mmaduar/Nextcloud/Genie_Transfer/2018/PTP/PTP0803.Chn'),\n  WindowsPath('C:/Users/mmaduar/Nextcloud/Genie_Transfer/2018/PTP/PTP0908.Chn'),\n  WindowsPath('C:/Users/mmaduar/Nextcloud/Genie_Transfer/2018/PTP/PTP1005.Chn'),\n  WindowsPath('C:/Users/mmaduar/Nextcloud/Genie_Transfer/2018/PTP/PTP1110.Chn'),\n  WindowsPath('C:/Users/mmaduar/Nextcloud/Genie_Transfer/2018/PTP/PTP1204.Chn'),\n  WindowsPath('C:/Users/mmaduar/Nextcloud/Genie_Transfer/2018/PTP/PTP1207.Chn'),\n  WindowsPath('C:/Users/mmaduar/Nextcloud/Genie_Transfer/2018/PTP/PTP1309.Chn'),\n  WindowsPath('C:/Users/mmaduar/Nextcloud/Genie_Transfer/2018/PTP/PTP1502.Chn'),\n  WindowsPath('C:/Users/mmaduar/Nextcloud/Genie_Transfer/2018/PTP/PTP1503.Chn'),\n  WindowsPath('C:/Users/mmaduar/Nextcloud/Genie_Transfer/2018/PTP/PTP1608-1.Chn'),\n  WindowsPath('C:/Users/mmaduar/Nextcloud/Genie_Transfer/2018/PTP/PTP1608.Chn'),\n  WindowsPath('C:/Users/mmaduar/Nextcloud/Genie_Transfer/2018/PTP/PTP1705.Chn'),\n  WindowsPath('C:/Users/mmaduar/Nextcloud/Genie_Transfer/2018/PTP/PTP1810.Chn'),\n  WindowsPath('C:/Users/mmaduar/Nextcloud/Genie_Transfer/2018/PTP/PTP1904.Chn'),\n  WindowsPath('C:/Users/mmaduar/Nextcloud/Genie_Transfer/2018/PTP/PTP1907.Chn'),\n  WindowsPath('C:/Users/mmaduar/Nextcloud/Genie_Transfer/2018/PTP/PTP2009.Chn'),\n  WindowsPath('C:/Users/mmaduar/Nextcloud/Genie_Transfer/2018/PTP/PTP2106.Chn'),\n  WindowsPath('C:/Users/mmaduar/Nextcloud/Genie_Transfer/2018/PTP/PTP2202.Chn'),\n  WindowsPath('C:/Users/mmaduar/Nextcloud/Genie_Transfer/2018/PTP/PTP2203.Chn'),\n  WindowsPath('C:/Users/mmaduar/Nextcloud/Genie_Transfer/2018/PTP/PTP2308.Chn'),\n  WindowsPath('C:/Users/mmaduar/Nextcloud/Genie_Transfer/2018/PTP/PTP2405.Chn'),\n  WindowsPath('C:/Users/mmaduar/Nextcloud/Genie_Transfer/2018/PTP/PTP2510.Chn'),\n  WindowsPath('C:/Users/mmaduar/Nextcloud/Genie_Transfer/2018/PTP/PTP2604.Chn'),\n  WindowsPath('C:/Users/mmaduar/Nextcloud/Genie_Transfer/2018/PTP/PTP2607.Chn'),\n  WindowsPath('C:/Users/mmaduar/Nextcloud/Genie_Transfer/2018/PTP/PTP2709.Chn'),\n  WindowsPath('C:/Users/mmaduar/Nextcloud/Genie_Transfer/2018/PTP/PTP2806.Chn'),\n  WindowsPath('C:/Users/mmaduar/Nextcloud/Genie_Transfer/2018/PTP/PTP2903.Chn'),\n  WindowsPath('C:/Users/mmaduar/Nextcloud/Genie_Transfer/2018/PTP/PTP3005.Chn'),\n  WindowsPath('C:/Users/mmaduar/Nextcloud/Genie_Transfer/2018/PTP/PTP3008.Chn'),\n  WindowsPath('C:/Users/mmaduar/Nextcloud/Genie_Transfer/2019/Cci/CCI0210-I (Rep)...(DESCONSID).Chn'),\n  WindowsPath('C:/Users/mmaduar/Nextcloud/Genie_Transfer/2019/Cci/CCI0210-I.Chn'),\n  WindowsPath('C:/Users/mmaduar/Nextcloud/Genie_Transfer/2019/Cci/CCI0409-I.Chn'),\n  WindowsPath('C:/Users/mmaduar/Nextcloud/Genie_Transfer/2019/Cci/CCI0506F (22,13%).Chn'),\n  WindowsPath('C:/Users/mmaduar/Nextcloud/Genie_Transfer/2019/Cci/CCI0506F-2.Chn'),\n  WindowsPath('C:/Users/mmaduar/Nextcloud/Genie_Transfer/2019/Cci/CCI0608.Chn'),\n  WindowsPath('C:/Users/mmaduar/Nextcloud/Genie_Transfer/2019/Cci/CCI0611-I.Chn'),\n  WindowsPath('C:/Users/mmaduar/Nextcloud/Genie_Transfer/2019/Cci/CCI0711-F.Chn'),\n  WindowsPath('C:/Users/mmaduar/Nextcloud/Genie_Transfer/2019/Cci/CCI0910-I.Chn'),\n  WindowsPath('C:/Users/mmaduar/Nextcloud/Genie_Transfer/2019/Cci/CCI1010-F.Chn'),\n  WindowsPath('C:/Users/mmaduar/Nextcloud/Genie_Transfer/2019/Cci/CCI1109-I.Chn'),\n  WindowsPath('C:/Users/mmaduar/Nextcloud/Genie_Transfer/2019/Cci/CCI1112-I.Chn'),\n  WindowsPath('C:/Users/mmaduar/Nextcloud/Genie_Transfer/2019/Cci/CCI1311-I.Chn'),\n  WindowsPath('C:/Users/mmaduar/Nextcloud/Genie_Transfer/2019/Cci/CCI1405F.Chn'),\n  WindowsPath('C:/Users/mmaduar/Nextcloud/Genie_Transfer/2019/Cci/CCI1610-I.Chn'),\n  WindowsPath('C:/Users/mmaduar/Nextcloud/Genie_Transfer/2019/Cci/CCI1809-I 123.Chn'),\n  WindowsPath('C:/Users/mmaduar/Nextcloud/Genie_Transfer/2019/Cci/CCI1812-I.Chn'),\n  WindowsPath('C:/Users/mmaduar/Nextcloud/Genie_Transfer/2019/Cci/CCI1907F.Chn'),\n  WindowsPath('C:/Users/mmaduar/Nextcloud/Genie_Transfer/2019/Cci/CCI2108-F.Chn'),\n  WindowsPath('C:/Users/mmaduar/Nextcloud/Genie_Transfer/2019/Cci/CCI2108-I.Chn'),\n  WindowsPath('C:/Users/mmaduar/Nextcloud/Genie_Transfer/2019/Cci/CCI2310-I.Chn'),\n  WindowsPath('C:/Users/mmaduar/Nextcloud/Genie_Transfer/2019/Cci/CCI2507F.Chn'),\n  WindowsPath('C:/Users/mmaduar/Nextcloud/Genie_Transfer/2019/Cci/CCI2607.Chn'),\n  WindowsPath('C:/Users/mmaduar/Nextcloud/Genie_Transfer/2019/Cci/CCI2808-I.Chn'),\n  WindowsPath('C:/Users/mmaduar/Nextcloud/Genie_Transfer/2019/Cci/cci3007.Chn'),\n  WindowsPath('C:/Users/mmaduar/Nextcloud/Genie_Transfer/2019/Cci/CCI3008-F.Chn'),\n  WindowsPath('C:/Users/mmaduar/Nextcloud/Genie_Transfer/2019/Crf/CRF0108.Chn'),\n  WindowsPath('C:/Users/mmaduar/Nextcloud/Genie_Transfer/2019/Crf/CRF0205.Chn'),\n  WindowsPath('C:/Users/mmaduar/Nextcloud/Genie_Transfer/2019/Crf/CRF0310 (rep)(seria p CALIB energia no Maestro).Chn'),\n  WindowsPath('C:/Users/mmaduar/Nextcloud/Genie_Transfer/2019/Crf/CRF0310.Chn'),\n  WindowsPath('C:/Users/mmaduar/Nextcloud/Genie_Transfer/2019/Crf/CRF0507.Chn'),\n  WindowsPath('C:/Users/mmaduar/Nextcloud/Genie_Transfer/2019/Crf/CRF0509.Chn'),\n  WindowsPath('C:/Users/mmaduar/Nextcloud/Genie_Transfer/2019/Crf/CRF0606.Chn'),\n  WindowsPath('C:/Users/mmaduar/Nextcloud/Genie_Transfer/2019/Crf/CRF0808.Chn'),\n  WindowsPath('C:/Users/mmaduar/Nextcloud/Genie_Transfer/2019/Crf/CRF1005.Chn'),\n  WindowsPath('C:/Users/mmaduar/Nextcloud/Genie_Transfer/2019/Crf/CRF1010.Chn'),\n  WindowsPath('C:/Users/mmaduar/Nextcloud/Genie_Transfer/2019/Crf/CRF1107.Chn'),\n  WindowsPath('C:/Users/mmaduar/Nextcloud/Genie_Transfer/2019/Crf/CRF1209.Chn'),\n  WindowsPath('C:/Users/mmaduar/Nextcloud/Genie_Transfer/2019/Crf/CRF1306.Chn'),\n  WindowsPath('C:/Users/mmaduar/Nextcloud/Genie_Transfer/2019/Crf/CRF1508.Chn'),\n  WindowsPath('C:/Users/mmaduar/Nextcloud/Genie_Transfer/2019/Crf/CRF1605.Chn'),\n  WindowsPath('C:/Users/mmaduar/Nextcloud/Genie_Transfer/2019/Crf/CRF1710.Chn'),\n  WindowsPath('C:/Users/mmaduar/Nextcloud/Genie_Transfer/2019/Crf/CRF1807.Chn'),\n  WindowsPath('C:/Users/mmaduar/Nextcloud/Genie_Transfer/2019/Crf/CRF1906.Chn'),\n  WindowsPath('C:/Users/mmaduar/Nextcloud/Genie_Transfer/2019/Crf/CRF1909.Chn'),\n  WindowsPath('C:/Users/mmaduar/Nextcloud/Genie_Transfer/2019/Crf/CRF2102.Chn'),\n  WindowsPath('C:/Users/mmaduar/Nextcloud/Genie_Transfer/2019/Crf/CRF2208.Chn'),\n  WindowsPath('C:/Users/mmaduar/Nextcloud/Genie_Transfer/2019/Crf/CRF2305.Chn'),\n  WindowsPath('C:/Users/mmaduar/Nextcloud/Genie_Transfer/2019/Crf/CRF2507.Chn'),\n  WindowsPath('C:/Users/mmaduar/Nextcloud/Genie_Transfer/2019/Crf/CRF2609.Chn'),\n  WindowsPath('C:/Users/mmaduar/Nextcloud/Genie_Transfer/2019/Crf/CRF2706.Chn'),\n  WindowsPath('C:/Users/mmaduar/Nextcloud/Genie_Transfer/2019/Crf/CRF2802.Chn'),\n  WindowsPath('C:/Users/mmaduar/Nextcloud/Genie_Transfer/2019/Crf/CRF2908.Chn'),\n  WindowsPath('C:/Users/mmaduar/Nextcloud/Genie_Transfer/2019/Crf/CRF3005.Chn'),\n  WindowsPath('C:/Users/mmaduar/Nextcloud/Genie_Transfer/2019/Crn/CRN0108.Chn'),\n  WindowsPath('C:/Users/mmaduar/Nextcloud/Genie_Transfer/2019/Crn/CRN0205.Chn'),\n  WindowsPath('C:/Users/mmaduar/Nextcloud/Genie_Transfer/2019/Crn/CRN0310.Chn'),\n  WindowsPath('C:/Users/mmaduar/Nextcloud/Genie_Transfer/2019/Crn/CRN0507.Chn'),\n  WindowsPath('C:/Users/mmaduar/Nextcloud/Genie_Transfer/2019/Crn/CRN0509.Chn'),\n  WindowsPath('C:/Users/mmaduar/Nextcloud/Genie_Transfer/2019/Crn/CRN0512.Chn'),\n  WindowsPath('C:/Users/mmaduar/Nextcloud/Genie_Transfer/2019/Crn/CRN0606.Chn'),\n  WindowsPath('C:/Users/mmaduar/Nextcloud/Genie_Transfer/2019/Crn/CRN0703.Chn'),\n  WindowsPath('C:/Users/mmaduar/Nextcloud/Genie_Transfer/2019/Crn/CRN0711.Chn'),\n  WindowsPath('C:/Users/mmaduar/Nextcloud/Genie_Transfer/2019/Crn/CRN0808.Chn'),\n  WindowsPath('C:/Users/mmaduar/Nextcloud/Genie_Transfer/2019/Crn/CRN1005.Chn'),\n  WindowsPath('C:/Users/mmaduar/Nextcloud/Genie_Transfer/2019/Crn/CRN1010.Chn'),\n  WindowsPath('C:/Users/mmaduar/Nextcloud/Genie_Transfer/2019/Crn/CRN1107.Chn'),\n  WindowsPath('C:/Users/mmaduar/Nextcloud/Genie_Transfer/2019/Crn/CRN1209.Chn'),\n  WindowsPath('C:/Users/mmaduar/Nextcloud/Genie_Transfer/2019/Crn/CRN1212.Chn'),\n  WindowsPath('C:/Users/mmaduar/Nextcloud/Genie_Transfer/2019/Crn/CRN1306.Chn'),\n  WindowsPath('C:/Users/mmaduar/Nextcloud/Genie_Transfer/2019/Crn/CRN1411.Chn'),\n  WindowsPath('C:/Users/mmaduar/Nextcloud/Genie_Transfer/2019/Crn/CRN1508.Chn'),\n  WindowsPath('C:/Users/mmaduar/Nextcloud/Genie_Transfer/2019/Crn/CRN1605.Chn'),\n  WindowsPath('C:/Users/mmaduar/Nextcloud/Genie_Transfer/2019/Crn/CRN1710.Chn'),\n  WindowsPath('C:/Users/mmaduar/Nextcloud/Genie_Transfer/2019/Crn/CRN1807.Chn'),\n  WindowsPath('C:/Users/mmaduar/Nextcloud/Genie_Transfer/2019/Crn/CRN1906.Chn'),\n  WindowsPath('C:/Users/mmaduar/Nextcloud/Genie_Transfer/2019/Crn/CRN1909.Chn'),\n  WindowsPath('C:/Users/mmaduar/Nextcloud/Genie_Transfer/2019/Crn/CRN1912.Chn'),\n  WindowsPath('C:/Users/mmaduar/Nextcloud/Genie_Transfer/2019/Crn/CRN2102.Chn'),\n  WindowsPath('C:/Users/mmaduar/Nextcloud/Genie_Transfer/2019/Crn/CRN2111.Chn'),\n  WindowsPath('C:/Users/mmaduar/Nextcloud/Genie_Transfer/2019/Crn/CRN2208.Chn'),\n  WindowsPath('C:/Users/mmaduar/Nextcloud/Genie_Transfer/2019/Crn/CRN2305.Chn'),\n  WindowsPath('C:/Users/mmaduar/Nextcloud/Genie_Transfer/2019/Crn/CRN2410.Chn'),\n  WindowsPath('C:/Users/mmaduar/Nextcloud/Genie_Transfer/2019/Crn/CRN2507.Chn'),\n  WindowsPath('C:/Users/mmaduar/Nextcloud/Genie_Transfer/2019/Crn/CRN2609.Chn'),\n  WindowsPath('C:/Users/mmaduar/Nextcloud/Genie_Transfer/2019/Crn/CRN2612.Chn'),\n  WindowsPath('C:/Users/mmaduar/Nextcloud/Genie_Transfer/2019/Crn/CRN2706.Chn'),\n  WindowsPath('C:/Users/mmaduar/Nextcloud/Genie_Transfer/2019/Crn/CRN2802.Chn'),\n  WindowsPath('C:/Users/mmaduar/Nextcloud/Genie_Transfer/2019/Crn/CRN2811.Chn'),\n  WindowsPath('C:/Users/mmaduar/Nextcloud/Genie_Transfer/2019/Crn/CRN2908.Chn'),\n  WindowsPath('C:/Users/mmaduar/Nextcloud/Genie_Transfer/2019/Crn/CRN3005.Chn'),\n  WindowsPath('C:/Users/mmaduar/Nextcloud/Genie_Transfer/2019/Crn/CRN3110.Chn'),\n  WindowsPath('C:/Users/mmaduar/Nextcloud/Genie_Transfer/2019/Ctp/CTP0102-3.Chn'),\n  WindowsPath('C:/Users/mmaduar/Nextcloud/Genie_Transfer/2019/Ctp/CTP0108-2.Chn'),\n  WindowsPath('C:/Users/mmaduar/Nextcloud/Genie_Transfer/2019/Ctp/CTP0205-2.Chn'),\n  WindowsPath('C:/Users/mmaduar/Nextcloud/Genie_Transfer/2019/Ctp/CTP0310-2 (10,05%).Chn'),\n  WindowsPath('C:/Users/mmaduar/Nextcloud/Genie_Transfer/2019/Ctp/CTP0310-3 (5,46%).Chn'),\n  WindowsPath('C:/Users/mmaduar/Nextcloud/Genie_Transfer/2019/Ctp/CTP0507.Chn'),\n  WindowsPath('C:/Users/mmaduar/Nextcloud/Genie_Transfer/2019/Ctp/CTP0509-2 (10,76%).Chn'),\n  WindowsPath('C:/Users/mmaduar/Nextcloud/Genie_Transfer/2019/Ctp/CTP0509-3 (8,10%).Chn'),\n  WindowsPath('C:/Users/mmaduar/Nextcloud/Genie_Transfer/2019/Ctp/CTP0512-2 (5,33%).Chn'),\n  WindowsPath('C:/Users/mmaduar/Nextcloud/Genie_Transfer/2019/Ctp/CTP0606-2 (7,77%).Chn'),\n  WindowsPath('C:/Users/mmaduar/Nextcloud/Genie_Transfer/2019/Ctp/CTP0702-1.Chn'),\n  WindowsPath('C:/Users/mmaduar/Nextcloud/Genie_Transfer/2019/Ctp/CTP0711-3 (7,72%).Chn'),\n  WindowsPath('C:/Users/mmaduar/Nextcloud/Genie_Transfer/2019/Ctp/CTP0808-2.Chn'),\n  WindowsPath('C:/Users/mmaduar/Nextcloud/Genie_Transfer/2019/Ctp/CTP1005-2 (10,67%).Chn'),\n  WindowsPath('C:/Users/mmaduar/Nextcloud/Genie_Transfer/2019/Ctp/CTP1005-3.Chn'),\n  WindowsPath('C:/Users/mmaduar/Nextcloud/Genie_Transfer/2019/Ctp/CTP1010-4 (9,54%).Chn'),\n  WindowsPath('C:/Users/mmaduar/Nextcloud/Genie_Transfer/2019/Ctp/CTP11073.Chn'),\n  WindowsPath('C:/Users/mmaduar/Nextcloud/Genie_Transfer/2019/Ctp/CTP1209-3 (5,31%).Chn'),\n  WindowsPath('C:/Users/mmaduar/Nextcloud/Genie_Transfer/2019/Ctp/CTP1212-2 (7,31%).Chn'),\n  WindowsPath('C:/Users/mmaduar/Nextcloud/Genie_Transfer/2019/Ctp/CTP1306-2 (7,07%).Chn'),\n  WindowsPath('C:/Users/mmaduar/Nextcloud/Genie_Transfer/2019/Ctp/CTP1402.Chn'),\n  WindowsPath('C:/Users/mmaduar/Nextcloud/Genie_Transfer/2019/Ctp/CTP1411-2 (6,78%).Chn'),\n  WindowsPath('C:/Users/mmaduar/Nextcloud/Genie_Transfer/2019/Ctp/CTP1508-4 (7,67%).Chn'),\n  WindowsPath('C:/Users/mmaduar/Nextcloud/Genie_Transfer/2019/Ctp/CTP1605-2 (7,53%).Chn'),\n  WindowsPath('C:/Users/mmaduar/Nextcloud/Genie_Transfer/2019/Ctp/CTP1710-3 (8,33%).Chn'),\n  WindowsPath('C:/Users/mmaduar/Nextcloud/Genie_Transfer/2019/Ctp/CTP1807.Chn'),\n  WindowsPath('C:/Users/mmaduar/Nextcloud/Genie_Transfer/2019/Ctp/CTP1906-2 (4,70%).Chn'),\n  WindowsPath('C:/Users/mmaduar/Nextcloud/Genie_Transfer/2019/Ctp/CTP1909-3 (6,70%).Chn'),\n  WindowsPath('C:/Users/mmaduar/Nextcloud/Genie_Transfer/2019/Ctp/CTP1912-2 (6,90%).Chn'),\n  WindowsPath('C:/Users/mmaduar/Nextcloud/Genie_Transfer/2019/Ctp/CTP2111-2 (9,91%)(Descons).Chn'),\n  WindowsPath('C:/Users/mmaduar/Nextcloud/Genie_Transfer/2019/Ctp/CTP2111-3 (9,17%).Chn'),\n  WindowsPath('C:/Users/mmaduar/Nextcloud/Genie_Transfer/2019/Ctp/CTP2208-3 (6,39%).Chn'),\n  WindowsPath('C:/Users/mmaduar/Nextcloud/Genie_Transfer/2019/Ctp/CTP2305-3 (7,75%).Chn'),\n  WindowsPath('C:/Users/mmaduar/Nextcloud/Genie_Transfer/2019/Ctp/CTP2410-3 (6,14%).Chn'),\n  WindowsPath('C:/Users/mmaduar/Nextcloud/Genie_Transfer/2019/Ctp/CTP2504-3 (3,26%) (tb no Det LoBG).Chn'),\n  WindowsPath('C:/Users/mmaduar/Nextcloud/Genie_Transfer/2019/Ctp/CTP2507-2.Chn'),\n  WindowsPath('C:/Users/mmaduar/Nextcloud/Genie_Transfer/2019/Ctp/CTP2609-2 (9,26%).Chn'),\n  WindowsPath('C:/Users/mmaduar/Nextcloud/Genie_Transfer/2019/Ctp/CTP2612-2 5ks (5,31%).Chn'),\n  WindowsPath('C:/Users/mmaduar/Nextcloud/Genie_Transfer/2019/Ctp/CTP2706-2.Chn'),\n  WindowsPath('C:/Users/mmaduar/Nextcloud/Genie_Transfer/2019/Ctp/CTP2811-2 (7,31%).Chn'),\n  WindowsPath('C:/Users/mmaduar/Nextcloud/Genie_Transfer/2019/Ctp/CTP2908-2 (7,57%).Chn'),\n  WindowsPath('C:/Users/mmaduar/Nextcloud/Genie_Transfer/2019/Ctp/CTP3005-3 (7,86%).Chn'),\n  WindowsPath('C:/Users/mmaduar/Nextcloud/Genie_Transfer/2019/Ctp/CTP3110-3 (10,05%).Chn'),\n  WindowsPath('C:/Users/mmaduar/Nextcloud/Genie_Transfer/2019/Ctp/t_morto/CTP 19 6 19 100s.Chn'),\n  WindowsPath('C:/Users/mmaduar/Nextcloud/Genie_Transfer/2019/Ctp/t_morto/CTP 250719 100s.Chn'),\n  WindowsPath('C:/Users/mmaduar/Nextcloud/Genie_Transfer/2019/Ctp/t_morto/CTP0108-1.Chn'),\n  WindowsPath('C:/Users/mmaduar/Nextcloud/Genie_Transfer/2019/Ctp/t_morto/CTP0205-1 (28,86%).Chn'),\n  WindowsPath('C:/Users/mmaduar/Nextcloud/Genie_Transfer/2019/Ctp/t_morto/CTP0310-1 (17,64%).Chn'),\n  WindowsPath('C:/Users/mmaduar/Nextcloud/Genie_Transfer/2019/Ctp/t_morto/CTP0507-1 (9,26%).Chn'),\n  WindowsPath('C:/Users/mmaduar/Nextcloud/Genie_Transfer/2019/Ctp/t_morto/CTP0509-1 (19,42%).Chn'),\n  WindowsPath('C:/Users/mmaduar/Nextcloud/Genie_Transfer/2019/Ctp/t_morto/CTP0512-1 (14,2%).Chn'),\n  WindowsPath('C:/Users/mmaduar/Nextcloud/Genie_Transfer/2019/Ctp/t_morto/CTP0606_100s.Chn'),\n  WindowsPath('C:/Users/mmaduar/Nextcloud/Genie_Transfer/2019/Ctp/t_morto/CTP0711-1 (23,28%).Chn'),\n  WindowsPath('C:/Users/mmaduar/Nextcloud/Genie_Transfer/2019/Ctp/t_morto/CTP0711-2 (12,96%).Chn'),\n  WindowsPath('C:/Users/mmaduar/Nextcloud/Genie_Transfer/2019/Ctp/t_morto/CTP0808-1.Chn'),\n  WindowsPath('C:/Users/mmaduar/Nextcloud/Genie_Transfer/2019/Ctp/t_morto/CTP100519-1.Chn'),\n  WindowsPath('C:/Users/mmaduar/Nextcloud/Genie_Transfer/2019/Ctp/t_morto/CTP1010-1 (412,72%).Chn'),\n  WindowsPath('C:/Users/mmaduar/Nextcloud/Genie_Transfer/2019/Ctp/t_morto/CTP1010-2 (34,54%).Chn'),\n  WindowsPath('C:/Users/mmaduar/Nextcloud/Genie_Transfer/2019/Ctp/t_morto/CTP1010-3 (18,10%).Chn'),\n  WindowsPath('C:/Users/mmaduar/Nextcloud/Genie_Transfer/2019/Ctp/t_morto/CTP1010-4 (9,56%).Chn'),\n  WindowsPath('C:/Users/mmaduar/Nextcloud/Genie_Transfer/2019/Ctp/t_morto/CTP1107-1 (28,44%).Chn'),\n  WindowsPath('C:/Users/mmaduar/Nextcloud/Genie_Transfer/2019/Ctp/t_morto/CTP1107-2 (12,38%).Chn'),\n  WindowsPath('C:/Users/mmaduar/Nextcloud/Genie_Transfer/2019/Ctp/t_morto/CTP1209-1 (16,6%).Chn'),\n  WindowsPath('C:/Users/mmaduar/Nextcloud/Genie_Transfer/2019/Ctp/t_morto/CTP1209-2 (12,46%) 100s.Chn'),\n  WindowsPath('C:/Users/mmaduar/Nextcloud/Genie_Transfer/2019/Ctp/t_morto/CTP1212-1 (13,52%).Chn'),\n  WindowsPath('C:/Users/mmaduar/Nextcloud/Genie_Transfer/2019/Ctp/t_morto/CTP1306-1 (12,58%).Chn'),\n  WindowsPath('C:/Users/mmaduar/Nextcloud/Genie_Transfer/2019/Ctp/t_morto/CTP1411-1 (11,46%).Chn'),\n  WindowsPath('C:/Users/mmaduar/Nextcloud/Genie_Transfer/2019/Ctp/t_morto/CTP1508-1(36,5%).Chn'),\n  WindowsPath('C:/Users/mmaduar/Nextcloud/Genie_Transfer/2019/Ctp/t_morto/CTP1508-2 (27,10%).Chn'),\n  WindowsPath('C:/Users/mmaduar/Nextcloud/Genie_Transfer/2019/Ctp/t_morto/CTP1508-3 (14,30%).Chn'),\n  WindowsPath('C:/Users/mmaduar/Nextcloud/Genie_Transfer/2019/Ctp/t_morto/CTP16051.Chn'),\n  WindowsPath('C:/Users/mmaduar/Nextcloud/Genie_Transfer/2019/Ctp/t_morto/CTP1710 (38%).Chn'),\n  WindowsPath('C:/Users/mmaduar/Nextcloud/Genie_Transfer/2019/Ctp/t_morto/CTP1710-2 (15,34%).Chn'),\n  WindowsPath('C:/Users/mmaduar/Nextcloud/Genie_Transfer/2019/Ctp/t_morto/CTP1807-1 (12,08%).Chn'),\n  WindowsPath('C:/Users/mmaduar/Nextcloud/Genie_Transfer/2019/Ctp/t_morto/CTP1909-1 (22,02%).Chn'),\n  WindowsPath('C:/Users/mmaduar/Nextcloud/Genie_Transfer/2019/Ctp/t_morto/CTP1909-2 (12,56%).Chn'),\n  WindowsPath('C:/Users/mmaduar/Nextcloud/Genie_Transfer/2019/Ctp/t_morto/CTP1912-1 (28.72%).Chn'),\n  WindowsPath('C:/Users/mmaduar/Nextcloud/Genie_Transfer/2019/Ctp/t_morto/CTP1912-2 (6,92%).Chn'),\n  WindowsPath('C:/Users/mmaduar/Nextcloud/Genie_Transfer/2019/Ctp/t_morto/CTP2102-1.Chn'),\n  WindowsPath('C:/Users/mmaduar/Nextcloud/Genie_Transfer/2019/Ctp/t_morto/CTP2102-2.Chn'),\n  WindowsPath('C:/Users/mmaduar/Nextcloud/Genie_Transfer/2019/Ctp/t_morto/CTP2111-1 (15,92%).Chn'),\n  WindowsPath('C:/Users/mmaduar/Nextcloud/Genie_Transfer/2019/Ctp/t_morto/CTP2111-2 (9,92%).Chn'),\n  WindowsPath('C:/Users/mmaduar/Nextcloud/Genie_Transfer/2019/Ctp/t_morto/CTP2111-3 (9,22%).Chn'),\n  WindowsPath('C:/Users/mmaduar/Nextcloud/Genie_Transfer/2019/Ctp/t_morto/CTP2208-1 (19,5%).Chn'),\n  WindowsPath('C:/Users/mmaduar/Nextcloud/Genie_Transfer/2019/Ctp/t_morto/CTP2208-2 (11,88%).Chn'),\n  WindowsPath('C:/Users/mmaduar/Nextcloud/Genie_Transfer/2019/Ctp/t_morto/CTP2305-1 (43,80%).Chn'),\n  WindowsPath('C:/Users/mmaduar/Nextcloud/Genie_Transfer/2019/Ctp/t_morto/CTP2305-2 (20,44%).Chn'),\n  WindowsPath('C:/Users/mmaduar/Nextcloud/Genie_Transfer/2019/Ctp/t_morto/CTP2410 (19.5%).Chn'),\n  WindowsPath('C:/Users/mmaduar/Nextcloud/Genie_Transfer/2019/Ctp/t_morto/CTP2410-2 (11,24%).Chn'),\n  WindowsPath('C:/Users/mmaduar/Nextcloud/Genie_Transfer/2019/Ctp/t_morto/CTP2609-1 (16,32%).Chn'),\n  WindowsPath('C:/Users/mmaduar/Nextcloud/Genie_Transfer/2019/Ctp/t_morto/CTP2612-1.Chn'),\n  WindowsPath('C:/Users/mmaduar/Nextcloud/Genie_Transfer/2019/Ctp/t_morto/CTP2612-2 (7,54%).Chn'),\n  WindowsPath('C:/Users/mmaduar/Nextcloud/Genie_Transfer/2019/Ctp/t_morto/CTP2706.Chn'),\n  WindowsPath('C:/Users/mmaduar/Nextcloud/Genie_Transfer/2019/Ctp/t_morto/CTP2802-1.Chn'),\n  WindowsPath('C:/Users/mmaduar/Nextcloud/Genie_Transfer/2019/Ctp/t_morto/CTP2811-1 (11,44%).Chn'),\n  WindowsPath('C:/Users/mmaduar/Nextcloud/Genie_Transfer/2019/Ctp/t_morto/CTP2908-1 (14,6%).Chn'),\n  WindowsPath('C:/Users/mmaduar/Nextcloud/Genie_Transfer/2019/Ctp/t_morto/CTP3005-2 (12,32%).Chn'),\n  WindowsPath('C:/Users/mmaduar/Nextcloud/Genie_Transfer/2019/Ctp/t_morto/CTP3005_1.Chn'),\n  WindowsPath('C:/Users/mmaduar/Nextcloud/Genie_Transfer/2019/Ctp/t_morto/CTP3110-1 (33,44%).Chn'),\n  WindowsPath('C:/Users/mmaduar/Nextcloud/Genie_Transfer/2019/Ctp/t_morto/CTP3110-2 (19,14%).Chn'),\n  WindowsPath('C:/Users/mmaduar/Nextcloud/Genie_Transfer/2019/Ctp/t_morto/CTP3110-3 (10,06%).Chn'),\n  WindowsPath('C:/Users/mmaduar/Nextcloud/Genie_Transfer/2019/Pci/PCI0210-I.Chn'),\n  WindowsPath('C:/Users/mmaduar/Nextcloud/Genie_Transfer/2019/Pci/PCI0409-I.Chn'),\n  WindowsPath('C:/Users/mmaduar/Nextcloud/Genie_Transfer/2019/Pci/PCI0506F.Chn'),\n  WindowsPath('C:/Users/mmaduar/Nextcloud/Genie_Transfer/2019/Pci/PCI0608.Chn'),\n  WindowsPath('C:/Users/mmaduar/Nextcloud/Genie_Transfer/2019/Pci/PCI0611-I123.Chn'),\n  WindowsPath('C:/Users/mmaduar/Nextcloud/Genie_Transfer/2019/Pci/PCI0711-F.Chn'),\n  WindowsPath('C:/Users/mmaduar/Nextcloud/Genie_Transfer/2019/Pci/PCI0910-I.Chn'),\n  WindowsPath('C:/Users/mmaduar/Nextcloud/Genie_Transfer/2019/Pci/PCI1010-F.Chn'),\n  WindowsPath('C:/Users/mmaduar/Nextcloud/Genie_Transfer/2019/Pci/PCI1109-I.Chn'),\n  WindowsPath('C:/Users/mmaduar/Nextcloud/Genie_Transfer/2019/Pci/PCI1112-I (com plaqueta).Chn'),\n  WindowsPath('C:/Users/mmaduar/Nextcloud/Genie_Transfer/2019/Pci/PCI1112-I (sem plaqueta).Chn'),\n  WindowsPath('C:/Users/mmaduar/Nextcloud/Genie_Transfer/2019/Pci/PCI1311-I.Chn'),\n  WindowsPath('C:/Users/mmaduar/Nextcloud/Genie_Transfer/2019/Pci/PCI1405F.Chn'),\n  WindowsPath('C:/Users/mmaduar/Nextcloud/Genie_Transfer/2019/Pci/PCI1610-I.Chn'),\n  WindowsPath('C:/Users/mmaduar/Nextcloud/Genie_Transfer/2019/Pci/PCI1809-I123.Chn'),\n  WindowsPath('C:/Users/mmaduar/Nextcloud/Genie_Transfer/2019/Pci/PCI1812-I.Chn'),\n  WindowsPath('C:/Users/mmaduar/Nextcloud/Genie_Transfer/2019/Pci/PCI1907F.Chn'),\n  WindowsPath('C:/Users/mmaduar/Nextcloud/Genie_Transfer/2019/Pci/PCI2108-F.Chn'),\n  WindowsPath('C:/Users/mmaduar/Nextcloud/Genie_Transfer/2019/Pci/PCI2108-I.Chn'),\n  WindowsPath('C:/Users/mmaduar/Nextcloud/Genie_Transfer/2019/Pci/PCI2310-I.Chn'),\n  WindowsPath('C:/Users/mmaduar/Nextcloud/Genie_Transfer/2019/Pci/PCI2507F.Chn'),\n  WindowsPath('C:/Users/mmaduar/Nextcloud/Genie_Transfer/2019/Pci/PCI2607.Chn'),\n  WindowsPath('C:/Users/mmaduar/Nextcloud/Genie_Transfer/2019/Pci/PCI2808-I.Chn'),\n  WindowsPath('C:/Users/mmaduar/Nextcloud/Genie_Transfer/2019/Pci/PCI3007.Chn'),\n  WindowsPath('C:/Users/mmaduar/Nextcloud/Genie_Transfer/2019/Pci/PCI3008-F.Chn'),\n  WindowsPath('C:/Users/mmaduar/Nextcloud/Genie_Transfer/2019/Pnr/PRN0108.Chn'),\n  WindowsPath('C:/Users/mmaduar/Nextcloud/Genie_Transfer/2019/Pnr/PRN0310.Chn'),\n  WindowsPath('C:/Users/mmaduar/Nextcloud/Genie_Transfer/2019/Pnr/PRN0507.Chn'),\n  WindowsPath('C:/Users/mmaduar/Nextcloud/Genie_Transfer/2019/Pnr/PRN0509.Chn'),\n  WindowsPath('C:/Users/mmaduar/Nextcloud/Genie_Transfer/2019/Pnr/PRN0512.Chn'),\n  WindowsPath('C:/Users/mmaduar/Nextcloud/Genie_Transfer/2019/Pnr/PRN0606.Chn'),\n  WindowsPath('C:/Users/mmaduar/Nextcloud/Genie_Transfer/2019/Pnr/PRN0703.Chn'),\n  WindowsPath('C:/Users/mmaduar/Nextcloud/Genie_Transfer/2019/Pnr/PRN0711.Chn'),\n  WindowsPath('C:/Users/mmaduar/Nextcloud/Genie_Transfer/2019/Pnr/PRN0808.Chn'),\n  WindowsPath('C:/Users/mmaduar/Nextcloud/Genie_Transfer/2019/Pnr/PRN1005.Chn'),\n  WindowsPath('C:/Users/mmaduar/Nextcloud/Genie_Transfer/2019/Pnr/PRN1010.Chn'),\n  WindowsPath('C:/Users/mmaduar/Nextcloud/Genie_Transfer/2019/Pnr/PRN1107.Chn'),\n  WindowsPath('C:/Users/mmaduar/Nextcloud/Genie_Transfer/2019/Pnr/PRN1209.Chn'),\n  WindowsPath('C:/Users/mmaduar/Nextcloud/Genie_Transfer/2019/Pnr/PRN1212.Chn'),\n  WindowsPath('C:/Users/mmaduar/Nextcloud/Genie_Transfer/2019/Pnr/PRN1306.Chn'),\n  WindowsPath('C:/Users/mmaduar/Nextcloud/Genie_Transfer/2019/Pnr/PRN1411.Chn'),\n  WindowsPath('C:/Users/mmaduar/Nextcloud/Genie_Transfer/2019/Pnr/PRN1508.Chn'),\n  WindowsPath('C:/Users/mmaduar/Nextcloud/Genie_Transfer/2019/Pnr/PRN1605.Chn'),\n  WindowsPath('C:/Users/mmaduar/Nextcloud/Genie_Transfer/2019/Pnr/PRN1710.Chn'),\n  WindowsPath('C:/Users/mmaduar/Nextcloud/Genie_Transfer/2019/Pnr/PRN1807.Chn'),\n  WindowsPath('C:/Users/mmaduar/Nextcloud/Genie_Transfer/2019/Pnr/PRN1906.Chn'),\n  WindowsPath('C:/Users/mmaduar/Nextcloud/Genie_Transfer/2019/Pnr/PRN1909.Chn'),\n  WindowsPath('C:/Users/mmaduar/Nextcloud/Genie_Transfer/2019/Pnr/PRN1912.Chn'),\n  WindowsPath('C:/Users/mmaduar/Nextcloud/Genie_Transfer/2019/Pnr/PRN2102.Chn'),\n  WindowsPath('C:/Users/mmaduar/Nextcloud/Genie_Transfer/2019/Pnr/PRN2111.Chn'),\n  WindowsPath('C:/Users/mmaduar/Nextcloud/Genie_Transfer/2019/Pnr/PRN2208.Chn'),\n  WindowsPath('C:/Users/mmaduar/Nextcloud/Genie_Transfer/2019/Pnr/PRN2305.Chn'),\n  WindowsPath('C:/Users/mmaduar/Nextcloud/Genie_Transfer/2019/Pnr/PRN2410.Chn'),\n  WindowsPath('C:/Users/mmaduar/Nextcloud/Genie_Transfer/2019/Pnr/PRN2507.Chn'),\n  WindowsPath('C:/Users/mmaduar/Nextcloud/Genie_Transfer/2019/Pnr/PRN2609.Chn'),\n  WindowsPath('C:/Users/mmaduar/Nextcloud/Genie_Transfer/2019/Pnr/PRN2612.Chn'),\n  WindowsPath('C:/Users/mmaduar/Nextcloud/Genie_Transfer/2019/Pnr/PRN2706.Chn'),\n  WindowsPath('C:/Users/mmaduar/Nextcloud/Genie_Transfer/2019/Pnr/PRN2802.Chn'),\n  WindowsPath('C:/Users/mmaduar/Nextcloud/Genie_Transfer/2019/Pnr/PRN2811-Rep.Chn'),\n  WindowsPath('C:/Users/mmaduar/Nextcloud/Genie_Transfer/2019/Pnr/PRN2811.Chn'),\n  WindowsPath('C:/Users/mmaduar/Nextcloud/Genie_Transfer/2019/Pnr/PRN2908.Chn'),\n  WindowsPath('C:/Users/mmaduar/Nextcloud/Genie_Transfer/2019/Pnr/PRN3005.Chn'),\n  WindowsPath('C:/Users/mmaduar/Nextcloud/Genie_Transfer/2019/Pnr/PRN3110.Chn'),\n  WindowsPath('C:/Users/mmaduar/Nextcloud/Genie_Transfer/2019/Prf/PRF0108.Chn'),\n  WindowsPath('C:/Users/mmaduar/Nextcloud/Genie_Transfer/2019/Prf/PRF0310.Chn'),\n  WindowsPath('C:/Users/mmaduar/Nextcloud/Genie_Transfer/2019/Prf/PRF0507.Chn'),\n  WindowsPath('C:/Users/mmaduar/Nextcloud/Genie_Transfer/2019/Prf/PRF0509.Chn'),\n  WindowsPath('C:/Users/mmaduar/Nextcloud/Genie_Transfer/2019/Prf/PRF0606.Chn'),\n  WindowsPath('C:/Users/mmaduar/Nextcloud/Genie_Transfer/2019/Prf/PRF0703-ruim-2.Chn'),\n  WindowsPath('C:/Users/mmaduar/Nextcloud/Genie_Transfer/2019/Prf/PRF0703-ruim.Chn'),\n  WindowsPath('C:/Users/mmaduar/Nextcloud/Genie_Transfer/2019/Prf/PRF0808.Chn'),\n  WindowsPath('C:/Users/mmaduar/Nextcloud/Genie_Transfer/2019/Prf/PRF1005.Chn'),\n  WindowsPath('C:/Users/mmaduar/Nextcloud/Genie_Transfer/2019/Prf/PRF1010.Chn'),\n  WindowsPath('C:/Users/mmaduar/Nextcloud/Genie_Transfer/2019/Prf/PRF1107.Chn'),\n  WindowsPath('C:/Users/mmaduar/Nextcloud/Genie_Transfer/2019/Prf/PRF1209.Chn'),\n  WindowsPath('C:/Users/mmaduar/Nextcloud/Genie_Transfer/2019/Prf/PRF1306.Chn'),\n  WindowsPath('C:/Users/mmaduar/Nextcloud/Genie_Transfer/2019/Prf/PRF1508.Chn'),\n  WindowsPath('C:/Users/mmaduar/Nextcloud/Genie_Transfer/2019/Prf/PRF1605.Chn'),\n  WindowsPath('C:/Users/mmaduar/Nextcloud/Genie_Transfer/2019/Prf/PRF1710.Chn'),\n  WindowsPath('C:/Users/mmaduar/Nextcloud/Genie_Transfer/2019/Prf/PRF1807.Chn'),\n  WindowsPath('C:/Users/mmaduar/Nextcloud/Genie_Transfer/2019/Prf/PRF1906.Chn'),\n  WindowsPath('C:/Users/mmaduar/Nextcloud/Genie_Transfer/2019/Prf/PRF1909.Chn'),\n  WindowsPath('C:/Users/mmaduar/Nextcloud/Genie_Transfer/2019/Prf/PRF2102.Chn'),\n  WindowsPath('C:/Users/mmaduar/Nextcloud/Genie_Transfer/2019/Prf/PRF2208.Chn'),\n  WindowsPath('C:/Users/mmaduar/Nextcloud/Genie_Transfer/2019/Prf/PRF2305.Chn'),\n  WindowsPath('C:/Users/mmaduar/Nextcloud/Genie_Transfer/2019/Prf/PRF2507.Chn'),\n  WindowsPath('C:/Users/mmaduar/Nextcloud/Genie_Transfer/2019/Prf/PRF2609.Chn'),\n  WindowsPath('C:/Users/mmaduar/Nextcloud/Genie_Transfer/2019/Prf/PRF2706.Chn'),\n  WindowsPath('C:/Users/mmaduar/Nextcloud/Genie_Transfer/2019/Prf/PRF2802.Chn'),\n  WindowsPath('C:/Users/mmaduar/Nextcloud/Genie_Transfer/2019/Prf/PRF2908.Chn'),\n  WindowsPath('C:/Users/mmaduar/Nextcloud/Genie_Transfer/2019/Prf/PRF3005.Chn'),\n  WindowsPath('C:/Users/mmaduar/Nextcloud/Genie_Transfer/2019/Ptp/PTP0108.Chn'),\n  WindowsPath('C:/Users/mmaduar/Nextcloud/Genie_Transfer/2019/Ptp/PTP0310.Chn'),\n  WindowsPath('C:/Users/mmaduar/Nextcloud/Genie_Transfer/2019/Ptp/PTP0507.Chn'),\n  WindowsPath('C:/Users/mmaduar/Nextcloud/Genie_Transfer/2019/Ptp/PTP0509.Chn'),\n  WindowsPath('C:/Users/mmaduar/Nextcloud/Genie_Transfer/2019/Ptp/PTP0512.Chn'),\n  WindowsPath('C:/Users/mmaduar/Nextcloud/Genie_Transfer/2019/Ptp/PTP0606.Chn'),\n  WindowsPath('C:/Users/mmaduar/Nextcloud/Genie_Transfer/2019/Ptp/PTP0703.Chn'),\n  WindowsPath('C:/Users/mmaduar/Nextcloud/Genie_Transfer/2019/Ptp/PTP0711.Chn'),\n  WindowsPath('C:/Users/mmaduar/Nextcloud/Genie_Transfer/2019/Ptp/PTP0808.Chn'),\n  WindowsPath('C:/Users/mmaduar/Nextcloud/Genie_Transfer/2019/Ptp/PTP1005.Chn'),\n  WindowsPath('C:/Users/mmaduar/Nextcloud/Genie_Transfer/2019/Ptp/PTP1010.Chn'),\n  WindowsPath('C:/Users/mmaduar/Nextcloud/Genie_Transfer/2019/Ptp/PTP1107.Chn'),\n  WindowsPath('C:/Users/mmaduar/Nextcloud/Genie_Transfer/2019/Ptp/PTP1209.Chn'),\n  WindowsPath('C:/Users/mmaduar/Nextcloud/Genie_Transfer/2019/Ptp/PTP1212.Chn'),\n  WindowsPath('C:/Users/mmaduar/Nextcloud/Genie_Transfer/2019/Ptp/PTP1306.Chn'),\n  WindowsPath('C:/Users/mmaduar/Nextcloud/Genie_Transfer/2019/Ptp/PTP1411.Chn'),\n  WindowsPath('C:/Users/mmaduar/Nextcloud/Genie_Transfer/2019/Ptp/PTP1508.Chn'),\n  WindowsPath('C:/Users/mmaduar/Nextcloud/Genie_Transfer/2019/Ptp/PTP1605.Chn'),\n  WindowsPath('C:/Users/mmaduar/Nextcloud/Genie_Transfer/2019/Ptp/PTP1710.Chn'),\n  WindowsPath('C:/Users/mmaduar/Nextcloud/Genie_Transfer/2019/Ptp/PTP1807.Chn'),\n  WindowsPath('C:/Users/mmaduar/Nextcloud/Genie_Transfer/2019/Ptp/PTP1906.Chn'),\n  WindowsPath('C:/Users/mmaduar/Nextcloud/Genie_Transfer/2019/Ptp/PTP1909.Chn'),\n  WindowsPath('C:/Users/mmaduar/Nextcloud/Genie_Transfer/2019/Ptp/PTP1912.Chn'),\n  WindowsPath('C:/Users/mmaduar/Nextcloud/Genie_Transfer/2019/Ptp/PTP2102.Chn'),\n  WindowsPath('C:/Users/mmaduar/Nextcloud/Genie_Transfer/2019/Ptp/PTP2111.Chn'),\n  WindowsPath('C:/Users/mmaduar/Nextcloud/Genie_Transfer/2019/Ptp/PTP2208.Chn'),\n  WindowsPath('C:/Users/mmaduar/Nextcloud/Genie_Transfer/2019/Ptp/PTP2305.Chn'),\n  WindowsPath('C:/Users/mmaduar/Nextcloud/Genie_Transfer/2019/Ptp/PTP2410 rep.Chn'),\n  WindowsPath('C:/Users/mmaduar/Nextcloud/Genie_Transfer/2019/Ptp/PTP2410.Chn'),\n  WindowsPath('C:/Users/mmaduar/Nextcloud/Genie_Transfer/2019/Ptp/PTP2507.Chn'),\n  WindowsPath('C:/Users/mmaduar/Nextcloud/Genie_Transfer/2019/Ptp/PTP2609.Chn'),\n  WindowsPath('C:/Users/mmaduar/Nextcloud/Genie_Transfer/2019/Ptp/PTP2612.Chn'),\n  WindowsPath('C:/Users/mmaduar/Nextcloud/Genie_Transfer/2019/Ptp/PTP2706.Chn'),\n  WindowsPath('C:/Users/mmaduar/Nextcloud/Genie_Transfer/2019/Ptp/PTP2811-Rep.Chn'),\n  WindowsPath('C:/Users/mmaduar/Nextcloud/Genie_Transfer/2019/Ptp/PTP2811.Chn'),\n  WindowsPath('C:/Users/mmaduar/Nextcloud/Genie_Transfer/2019/Ptp/PTP2908.Chn'),\n  WindowsPath('C:/Users/mmaduar/Nextcloud/Genie_Transfer/2019/Ptp/PTP3005.Chn'),\n  WindowsPath('C:/Users/mmaduar/Nextcloud/Genie_Transfer/2019/Ptp/PTP3110.Chn'),\n  WindowsPath('C:/Users/mmaduar/Nextcloud/Genie_Transfer/2020/Cci/CCI-1507-I.Chn'),\n  WindowsPath('C:/Users/mmaduar/Nextcloud/Genie_Transfer/2020/Cci/CCI0107-I.Chn'),\n  WindowsPath('C:/Users/mmaduar/Nextcloud/Genie_Transfer/2020/Cci/CCI0212-I.Chn'),\n  WindowsPath('C:/Users/mmaduar/Nextcloud/Genie_Transfer/2020/Cci/CCI0508-I.Chn'),\n  WindowsPath('C:/Users/mmaduar/Nextcloud/Genie_Transfer/2020/Cci/CCI0801-I.Chn'),\n  WindowsPath('C:/Users/mmaduar/Nextcloud/Genie_Transfer/2020/Cci/CCI0807-I.Chn'),\n  WindowsPath('C:/Users/mmaduar/Nextcloud/Genie_Transfer/2020/Cci/CCI0912-F.Chn'),\n  WindowsPath('C:/Users/mmaduar/Nextcloud/Genie_Transfer/2020/Cci/CCI0912-I.Chn'),\n  WindowsPath('C:/Users/mmaduar/Nextcloud/Genie_Transfer/2020/Cci/CCI1103-I.Chn'),\n  WindowsPath('C:/Users/mmaduar/Nextcloud/Genie_Transfer/2020/Cci/CCI1202-I.Chn'),\n  WindowsPath('C:/Users/mmaduar/Nextcloud/Genie_Transfer/2020/Cci/CCI1208-I.Chn'),\n  WindowsPath('C:/Users/mmaduar/Nextcloud/Genie_Transfer/2020/Cci/CCI1501-I.Chn'),\n  WindowsPath('C:/Users/mmaduar/Nextcloud/Genie_Transfer/2020/Cci/CCI1504-I.Chn'),\n  WindowsPath('C:/Users/mmaduar/Nextcloud/Genie_Transfer/2020/Cci/CCI1601-F.Chn'),\n  WindowsPath('C:/Users/mmaduar/Nextcloud/Genie_Transfer/2020/Cci/CCI1612-I.Chn'),\n  WindowsPath('C:/Users/mmaduar/Nextcloud/Genie_Transfer/2020/Cci/CCI1706-I.Chn'),\n  WindowsPath('C:/Users/mmaduar/Nextcloud/Genie_Transfer/2020/Cci/CCI1802-F.Chn'),\n  WindowsPath('C:/Users/mmaduar/Nextcloud/Genie_Transfer/2020/Cci/CCI1803-I.Chn'),\n  WindowsPath('C:/Users/mmaduar/Nextcloud/Genie_Transfer/2020/Cci/CCI1902-I.Chn'),\n  WindowsPath('C:/Users/mmaduar/Nextcloud/Genie_Transfer/2020/Cci/CCI1908-I.Chn'),\n  WindowsPath('C:/Users/mmaduar/Nextcloud/Genie_Transfer/2020/Cci/CCI2205-I.Chn'),\n  WindowsPath('C:/Users/mmaduar/Nextcloud/Genie_Transfer/2020/Cci/CCI2207-I.Chn'),\n  WindowsPath('C:/Users/mmaduar/Nextcloud/Genie_Transfer/2020/Cci/CCI2301-F.Chn'),\n  WindowsPath('C:/Users/mmaduar/Nextcloud/Genie_Transfer/2020/Cci/CCI2301-I.Chn'),\n  WindowsPath('C:/Users/mmaduar/Nextcloud/Genie_Transfer/2020/Cci/CCI2304-I.Chn'),\n  WindowsPath('C:/Users/mmaduar/Nextcloud/Genie_Transfer/2020/Cci/CCI2406 -I.Chn'),\n  WindowsPath('C:/Users/mmaduar/Nextcloud/Genie_Transfer/2020/Cci/CCI2503-I.Chn'),\n  WindowsPath('C:/Users/mmaduar/Nextcloud/Genie_Transfer/2020/Cci/CCI2608-I.Chn'),\n  WindowsPath('C:/Users/mmaduar/Nextcloud/Genie_Transfer/2020/Cci/CCI2702-F.Chn'),\n  WindowsPath('C:/Users/mmaduar/Nextcloud/Genie_Transfer/2020/Cci/CCI2705-I.Chn'),\n  WindowsPath('C:/Users/mmaduar/Nextcloud/Genie_Transfer/2020/Cci/CCI2901-F.Chn'),\n  WindowsPath('C:/Users/mmaduar/Nextcloud/Genie_Transfer/2020/Cci/CCI2901-I.Chn'),\n  WindowsPath('C:/Users/mmaduar/Nextcloud/Genie_Transfer/2020/Cci/CCI2907-I.Chn'),\n  WindowsPath('C:/Users/mmaduar/Nextcloud/Genie_Transfer/2020/Crn/CRN0201.Chn'),\n  WindowsPath('C:/Users/mmaduar/Nextcloud/Genie_Transfer/2020/Crn/CRN0204.Chn'),\n  WindowsPath('C:/Users/mmaduar/Nextcloud/Genie_Transfer/2020/Crn/CRN0503.Chn'),\n  WindowsPath('C:/Users/mmaduar/Nextcloud/Genie_Transfer/2020/Crn/CRN0602.Chn'),\n  WindowsPath('C:/Users/mmaduar/Nextcloud/Genie_Transfer/2020/Crn/CRN0901.Chn'),\n  WindowsPath('C:/Users/mmaduar/Nextcloud/Genie_Transfer/2020/Crn/CRN0904.Chn'),\n  WindowsPath('C:/Users/mmaduar/Nextcloud/Genie_Transfer/2020/Crn/CRN1203.Chn'),\n  WindowsPath('C:/Users/mmaduar/Nextcloud/Genie_Transfer/2020/Crn/CRN1302.Chn'),\n  WindowsPath('C:/Users/mmaduar/Nextcloud/Genie_Transfer/2020/Crn/CRN1601.Chn'),\n  WindowsPath('C:/Users/mmaduar/Nextcloud/Genie_Transfer/2020/Crn/CRN1903.Chn'),\n  WindowsPath('C:/Users/mmaduar/Nextcloud/Genie_Transfer/2020/Crn/CRN2002.Chn'),\n  WindowsPath('C:/Users/mmaduar/Nextcloud/Genie_Transfer/2020/Crn/CRN2301.Chn'),\n  WindowsPath('C:/Users/mmaduar/Nextcloud/Genie_Transfer/2020/Crn/CRN2603.Chn'),\n  WindowsPath('C:/Users/mmaduar/Nextcloud/Genie_Transfer/2020/Crn/CRN2702.Chn'),\n  WindowsPath('C:/Users/mmaduar/Nextcloud/Genie_Transfer/2020/Crn/CRN3001.Chn'),\n  WindowsPath('C:/Users/mmaduar/Nextcloud/Genie_Transfer/2020/Ctp/CTP0201-1 5ks (7,71%).Chn'),\n  WindowsPath('C:/Users/mmaduar/Nextcloud/Genie_Transfer/2020/Ctp/CTP0204.Chn'),\n  WindowsPath('C:/Users/mmaduar/Nextcloud/Genie_Transfer/2020/Ctp/CTP0207-1 (10,79%).Chn'),\n  WindowsPath('C:/Users/mmaduar/Nextcloud/Genie_Transfer/2020/Ctp/CTP0207-2 (5,86%).Chn'),\n  WindowsPath('C:/Users/mmaduar/Nextcloud/Genie_Transfer/2020/Ctp/CTP0406-2 (5,90%).Chn'),\n  WindowsPath('C:/Users/mmaduar/Nextcloud/Genie_Transfer/2020/Ctp/CTP0412-2 (6,02%).Chn'),\n  WindowsPath('C:/Users/mmaduar/Nextcloud/Genie_Transfer/2020/Ctp/CTP0503 5ks (3,27%).Chn'),\n  WindowsPath('C:/Users/mmaduar/Nextcloud/Genie_Transfer/2020/Ctp/CTP0602-1(4,9%).Chn'),\n  WindowsPath('C:/Users/mmaduar/Nextcloud/Genie_Transfer/2020/Ctp/CTP0901-1 (8,93%).Chn'),\n  WindowsPath('C:/Users/mmaduar/Nextcloud/Genie_Transfer/2020/Ctp/CTP0904 (1,05%).Chn'),\n  WindowsPath('C:/Users/mmaduar/Nextcloud/Genie_Transfer/2020/Ctp/CTP1012 (6,44%).Chn'),\n  WindowsPath('C:/Users/mmaduar/Nextcloud/Genie_Transfer/2020/Ctp/CTP1203 (4,54%).Chn'),\n  WindowsPath('C:/Users/mmaduar/Nextcloud/Genie_Transfer/2020/Ctp/CTP1206 (8,60%).Chn'),\n  WindowsPath('C:/Users/mmaduar/Nextcloud/Genie_Transfer/2020/Ctp/CTP1302-1 (7,3%).Chn'),\n  WindowsPath('C:/Users/mmaduar/Nextcloud/Genie_Transfer/2020/Ctp/ctp1302.Chn'),\n  WindowsPath('C:/Users/mmaduar/Nextcloud/Genie_Transfer/2020/Ctp/CTP1405-3 (10,32%).Chn'),\n  WindowsPath('C:/Users/mmaduar/Nextcloud/Genie_Transfer/2020/Ctp/CTP1601-2 (7,80%).Chn'),\n  WindowsPath('C:/Users/mmaduar/Nextcloud/Genie_Transfer/2020/Ctp/CTP1604 (1,02%)(é 2%).Chn'),\n  WindowsPath('C:/Users/mmaduar/Nextcloud/Genie_Transfer/2020/Ctp/CTP1707.Chn'),\n  WindowsPath('C:/Users/mmaduar/Nextcloud/Genie_Transfer/2020/Ctp/CTP1806 (5,23%).Chn'),\n  WindowsPath('C:/Users/mmaduar/Nextcloud/Genie_Transfer/2020/Ctp/CTP1812-2 (8,23%).Chn'),\n  WindowsPath('C:/Users/mmaduar/Nextcloud/Genie_Transfer/2020/Ctp/CTP1903 (7,94%).Chn'),\n  WindowsPath('C:/Users/mmaduar/Nextcloud/Genie_Transfer/2020/Ctp/CTP2002-1 (14,3%).Chn'),\n  WindowsPath('C:/Users/mmaduar/Nextcloud/Genie_Transfer/2020/Ctp/CTP2002-3 (6,34%).Chn'),\n  WindowsPath('C:/Users/mmaduar/Nextcloud/Genie_Transfer/2020/Ctp/CTP2002.Chn'),\n  WindowsPath('C:/Users/mmaduar/Nextcloud/Genie_Transfer/2020/Ctp/CTP2008-2 (8,55%).Chn'),\n  WindowsPath('C:/Users/mmaduar/Nextcloud/Genie_Transfer/2020/Ctp/CTP2205-4 (6,07%).Chn'),\n  WindowsPath('C:/Users/mmaduar/Nextcloud/Genie_Transfer/2020/Ctp/CTP2304-3 (10,25%).Chn'),\n  WindowsPath('C:/Users/mmaduar/Nextcloud/Genie_Transfer/2020/Ctp/CTP2312 (7,56%).Chn'),\n  WindowsPath('C:/Users/mmaduar/Nextcloud/Genie_Transfer/2020/Ctp/CTP2407-4 (7,78%).Chn'),\n  WindowsPath('C:/Users/mmaduar/Nextcloud/Genie_Transfer/2020/Ctp/CTP2506.Chn'),\n  WindowsPath('C:/Users/mmaduar/Nextcloud/Genie_Transfer/2020/Ctp/CTP2603.Chn'),\n  WindowsPath('C:/Users/mmaduar/Nextcloud/Genie_Transfer/2020/Ctp/CTP2702-1 (8,63%).Chn'),\n  WindowsPath('C:/Users/mmaduar/Nextcloud/Genie_Transfer/2020/Ctp/CTP2711-2 (9,07%).Chn'),\n  WindowsPath('C:/Users/mmaduar/Nextcloud/Genie_Transfer/2020/Ctp/CTP2805-3 (7,63%).Chn'),\n  WindowsPath('C:/Users/mmaduar/Nextcloud/Genie_Transfer/2020/Ctp/CTP3001-1 (7,63%).Chn'),\n  WindowsPath('C:/Users/mmaduar/Nextcloud/Genie_Transfer/2020/Ctp/CTP3004-2 (11,34%).Chn'),\n  WindowsPath('C:/Users/mmaduar/Nextcloud/Genie_Transfer/2020/Ctp/CTP3007-3 (8,63%).Chn'),\n  WindowsPath('C:/Users/mmaduar/Nextcloud/Genie_Transfer/2020/Ctp/CTP3012-2 (6,10%).Chn'),\n  WindowsPath('C:/Users/mmaduar/Nextcloud/Genie_Transfer/2020/Ctp/t_morto/CTP0201-1 (7,04%).Chn'),\n  WindowsPath('C:/Users/mmaduar/Nextcloud/Genie_Transfer/2020/Ctp/t_morto/CTP0406-1 (13,00%).Chn'),\n  WindowsPath('C:/Users/mmaduar/Nextcloud/Genie_Transfer/2020/Ctp/t_morto/CTP0412-1 (10,22%).Chn'),\n  WindowsPath('C:/Users/mmaduar/Nextcloud/Genie_Transfer/2020/Ctp/t_morto/CTP0705-1 (46,54%).Chn'),\n  WindowsPath('C:/Users/mmaduar/Nextcloud/Genie_Transfer/2020/Ctp/t_morto/CTP0705-2 (18,88%).Chn'),\n  WindowsPath('C:/Users/mmaduar/Nextcloud/Genie_Transfer/2020/Ctp/t_morto/CTP0705-3 (10,26%).Chn'),\n  WindowsPath('C:/Users/mmaduar/Nextcloud/Genie_Transfer/2020/Ctp/t_morto/CTP0901-1 (7,1%).Chn'),\n  WindowsPath('C:/Users/mmaduar/Nextcloud/Genie_Transfer/2020/Ctp/t_morto/CTP0901-1 (8,96%)ok.Chn'),\n  WindowsPath('C:/Users/mmaduar/Nextcloud/Genie_Transfer/2020/Ctp/t_morto/CTP0907-1 (28,62%).Chn'),\n  WindowsPath('C:/Users/mmaduar/Nextcloud/Genie_Transfer/2020/Ctp/t_morto/CTP0907-2 (13,32%).Chn'),\n  WindowsPath('C:/Users/mmaduar/Nextcloud/Genie_Transfer/2020/Ctp/t_morto/CTP0907-3 (7,14%).Chn'),\n  WindowsPath('C:/Users/mmaduar/Nextcloud/Genie_Transfer/2020/Ctp/t_morto/CTP1308-1 (46,36%).Chn'),\n  WindowsPath('C:/Users/mmaduar/Nextcloud/Genie_Transfer/2020/Ctp/t_morto/CTP1308-2 (23,12%).Chn'),\n  WindowsPath('C:/Users/mmaduar/Nextcloud/Genie_Transfer/2020/Ctp/t_morto/CTP1308-3 (10,85%)(5ks).Chn'),\n  WindowsPath('C:/Users/mmaduar/Nextcloud/Genie_Transfer/2020/Ctp/t_morto/CTP1308-3 (10,98%).Chn'),\n  WindowsPath('C:/Users/mmaduar/Nextcloud/Genie_Transfer/2020/Ctp/t_morto/CTP1405-1 (29,54%).Chn'),\n  WindowsPath('C:/Users/mmaduar/Nextcloud/Genie_Transfer/2020/Ctp/t_morto/CTP1405-2 (15,60%).Chn'),\n  WindowsPath('C:/Users/mmaduar/Nextcloud/Genie_Transfer/2020/Ctp/t_morto/CTP1601-1 (13,86%).Chn'),\n  WindowsPath('C:/Users/mmaduar/Nextcloud/Genie_Transfer/2020/Ctp/t_morto/CTP1601-2 (7,82%).Chn'),\n  WindowsPath('C:/Users/mmaduar/Nextcloud/Genie_Transfer/2020/Ctp/t_morto/CTP1812-1 (11,28%).Chn'),\n  WindowsPath('C:/Users/mmaduar/Nextcloud/Genie_Transfer/2020/Ctp/t_morto/CTP2008-1 (18,24%).Chn'),\n  WindowsPath('C:/Users/mmaduar/Nextcloud/Genie_Transfer/2020/Ctp/t_morto/CTP2205-1 (35,80%).Chn'),\n  WindowsPath('C:/Users/mmaduar/Nextcloud/Genie_Transfer/2020/Ctp/t_morto/CTP2205-2 (23,14%).Chn'),\n  WindowsPath('C:/Users/mmaduar/Nextcloud/Genie_Transfer/2020/Ctp/t_morto/CTP2205-3 (12,16%) 5ks.Chn'),\n  WindowsPath('C:/Users/mmaduar/Nextcloud/Genie_Transfer/2020/Ctp/t_morto/CTP2205-3 (12,32%).Chn'),\n  WindowsPath('C:/Users/mmaduar/Nextcloud/Genie_Transfer/2020/Ctp/t_morto/CTP2304-1 (37,40%).Chn'),\n  WindowsPath('C:/Users/mmaduar/Nextcloud/Genie_Transfer/2020/Ctp/t_morto/CTP2304-2 (1,17%)(é 17%).Chn'),\n  WindowsPath('C:/Users/mmaduar/Nextcloud/Genie_Transfer/2020/Ctp/t_morto/CTP2407-1 (43,02%).Chn'),\n  WindowsPath('C:/Users/mmaduar/Nextcloud/Genie_Transfer/2020/Ctp/t_morto/CTP2407-2 (29,12%).Chn'),\n  WindowsPath('C:/Users/mmaduar/Nextcloud/Genie_Transfer/2020/Ctp/t_morto/CTP2407-3 (24,36%).Chn'),\n  WindowsPath('C:/Users/mmaduar/Nextcloud/Genie_Transfer/2020/Ctp/t_morto/CTP2702-1 (8,66%).Chn'),\n  WindowsPath('C:/Users/mmaduar/Nextcloud/Genie_Transfer/2020/Ctp/t_morto/CTP2805-1 (29,68%).Chn'),\n  WindowsPath('C:/Users/mmaduar/Nextcloud/Genie_Transfer/2020/Ctp/t_morto/CTP2805-2 (15,62%).Chn'),\n  WindowsPath('C:/Users/mmaduar/Nextcloud/Genie_Transfer/2020/Ctp/t_morto/CTP3001-1 (7,64%).Chn'),\n  WindowsPath('C:/Users/mmaduar/Nextcloud/Genie_Transfer/2020/Ctp/t_morto/CTP3004-1 (1,19%)(é 19%).Chn'),\n  WindowsPath('C:/Users/mmaduar/Nextcloud/Genie_Transfer/2020/Ctp/t_morto/CTP3004-2 (5,00%).Chn'),\n  WindowsPath('C:/Users/mmaduar/Nextcloud/Genie_Transfer/2020/Ctp/t_morto/CTP3007-1 (53,94%).Chn'),\n  WindowsPath('C:/Users/mmaduar/Nextcloud/Genie_Transfer/2020/Ctp/t_morto/CTP3007-2 (16,08%).Chn'),\n  WindowsPath('C:/Users/mmaduar/Nextcloud/Genie_Transfer/2020/Ctp/t_morto/CTP3012-1 (12,57%) 5ks.Chn'),\n  WindowsPath('C:/Users/mmaduar/Nextcloud/Genie_Transfer/2020/Pci/PCI0801-I.Chn'),\n  WindowsPath('C:/Users/mmaduar/Nextcloud/Genie_Transfer/2020/Pci/PCI1501-I.Chn'),\n  WindowsPath('C:/Users/mmaduar/Nextcloud/Genie_Transfer/2020/Pci/PCI1601-F.Chn'),\n  WindowsPath('C:/Users/mmaduar/Nextcloud/Genie_Transfer/2020/Pci/PCI2301-F.Chn'),\n  WindowsPath('C:/Users/mmaduar/Nextcloud/Genie_Transfer/2020/Pci/PCI2301-I.Chn'),\n  WindowsPath('C:/Users/mmaduar/Nextcloud/Genie_Transfer/2020/Pnr/PRN0201.Chn'),\n  WindowsPath('C:/Users/mmaduar/Nextcloud/Genie_Transfer/2020/Pnr/PRN0204.Chn'),\n  WindowsPath('C:/Users/mmaduar/Nextcloud/Genie_Transfer/2020/Pnr/PRN0503.Chn'),\n  WindowsPath('C:/Users/mmaduar/Nextcloud/Genie_Transfer/2020/Pnr/PRN0602.Chn'),\n  WindowsPath('C:/Users/mmaduar/Nextcloud/Genie_Transfer/2020/Pnr/PRN0901.Chn'),\n  WindowsPath('C:/Users/mmaduar/Nextcloud/Genie_Transfer/2020/Pnr/PRN0904.Chn'),\n  WindowsPath('C:/Users/mmaduar/Nextcloud/Genie_Transfer/2020/Pnr/PRN1203.Chn'),\n  WindowsPath('C:/Users/mmaduar/Nextcloud/Genie_Transfer/2020/Pnr/PRN1302.Chn'),\n  WindowsPath('C:/Users/mmaduar/Nextcloud/Genie_Transfer/2020/Pnr/PRN1601.Chn'),\n  WindowsPath('C:/Users/mmaduar/Nextcloud/Genie_Transfer/2020/Pnr/PRN1903.Chn'),\n  WindowsPath('C:/Users/mmaduar/Nextcloud/Genie_Transfer/2020/Pnr/PRN2002.Chn'),\n  WindowsPath('C:/Users/mmaduar/Nextcloud/Genie_Transfer/2020/Pnr/PRN2301.Chn'),\n  WindowsPath('C:/Users/mmaduar/Nextcloud/Genie_Transfer/2020/Pnr/PRN2603.Chn'),\n  WindowsPath('C:/Users/mmaduar/Nextcloud/Genie_Transfer/2020/Pnr/PRN2702.Chn'),\n  WindowsPath('C:/Users/mmaduar/Nextcloud/Genie_Transfer/2020/Pnr/PRN3001.Chn'),\n  WindowsPath('C:/Users/mmaduar/Nextcloud/Genie_Transfer/2020/Ptp/PTP0201.Chn'),\n  WindowsPath('C:/Users/mmaduar/Nextcloud/Genie_Transfer/2020/Ptp/PTP0204.Chn'),\n  WindowsPath('C:/Users/mmaduar/Nextcloud/Genie_Transfer/2020/Ptp/PTP0207.Chn'),\n  WindowsPath('C:/Users/mmaduar/Nextcloud/Genie_Transfer/2020/Ptp/PTP0406.Chn'),\n  WindowsPath('C:/Users/mmaduar/Nextcloud/Genie_Transfer/2020/Ptp/PTP0412.Chn'),\n  WindowsPath('C:/Users/mmaduar/Nextcloud/Genie_Transfer/2020/Ptp/PTP0503.Chn'),\n  WindowsPath('C:/Users/mmaduar/Nextcloud/Genie_Transfer/2020/Ptp/PTP0602.Chn'),\n  WindowsPath('C:/Users/mmaduar/Nextcloud/Genie_Transfer/2020/Ptp/PTP0705.Chn'),\n  WindowsPath('C:/Users/mmaduar/Nextcloud/Genie_Transfer/2020/Ptp/PTP0901.Chn'),\n  WindowsPath('C:/Users/mmaduar/Nextcloud/Genie_Transfer/2020/Ptp/PTP0901ok.Chn'),\n  WindowsPath('C:/Users/mmaduar/Nextcloud/Genie_Transfer/2020/Ptp/PTP0904.Chn'),\n  WindowsPath('C:/Users/mmaduar/Nextcloud/Genie_Transfer/2020/Ptp/PTP0907.Chn'),\n  WindowsPath('C:/Users/mmaduar/Nextcloud/Genie_Transfer/2020/Ptp/PTP1012.Chn'),\n  WindowsPath('C:/Users/mmaduar/Nextcloud/Genie_Transfer/2020/Ptp/PTP1203.Chn'),\n  WindowsPath('C:/Users/mmaduar/Nextcloud/Genie_Transfer/2020/Ptp/PTP1206.Chn'),\n  WindowsPath('C:/Users/mmaduar/Nextcloud/Genie_Transfer/2020/Ptp/PTP1302.Chn'),\n  WindowsPath('C:/Users/mmaduar/Nextcloud/Genie_Transfer/2020/Ptp/PTP1308.Chn'),\n  WindowsPath('C:/Users/mmaduar/Nextcloud/Genie_Transfer/2020/Ptp/PTP1405.Chn'),\n  WindowsPath('C:/Users/mmaduar/Nextcloud/Genie_Transfer/2020/Ptp/PTP1601.Chn'),\n  WindowsPath('C:/Users/mmaduar/Nextcloud/Genie_Transfer/2020/Ptp/PTP1604.Chn'),\n  WindowsPath('C:/Users/mmaduar/Nextcloud/Genie_Transfer/2020/Ptp/PTP1707.Chn'),\n  WindowsPath('C:/Users/mmaduar/Nextcloud/Genie_Transfer/2020/Ptp/PTP1806.Chn'),\n  WindowsPath('C:/Users/mmaduar/Nextcloud/Genie_Transfer/2020/Ptp/PTP1812.Chn'),\n  WindowsPath('C:/Users/mmaduar/Nextcloud/Genie_Transfer/2020/Ptp/PTP1903.Chn'),\n  WindowsPath('C:/Users/mmaduar/Nextcloud/Genie_Transfer/2020/Ptp/PTP2002.Chn'),\n  WindowsPath('C:/Users/mmaduar/Nextcloud/Genie_Transfer/2020/Ptp/PTP2008.Chn'),\n  WindowsPath('C:/Users/mmaduar/Nextcloud/Genie_Transfer/2020/Ptp/PTP2205.Chn'),\n  WindowsPath('C:/Users/mmaduar/Nextcloud/Genie_Transfer/2020/Ptp/PTP2304.Chn'),\n  WindowsPath('C:/Users/mmaduar/Nextcloud/Genie_Transfer/2020/Ptp/PTP2312.Chn'),\n  WindowsPath('C:/Users/mmaduar/Nextcloud/Genie_Transfer/2020/Ptp/PTP2407.Chn'),\n  WindowsPath('C:/Users/mmaduar/Nextcloud/Genie_Transfer/2020/Ptp/PTP2506.Chn'),\n  WindowsPath('C:/Users/mmaduar/Nextcloud/Genie_Transfer/2020/Ptp/PTP2603.Chn'),\n  WindowsPath('C:/Users/mmaduar/Nextcloud/Genie_Transfer/2020/Ptp/PTP2702.Chn'),\n  WindowsPath('C:/Users/mmaduar/Nextcloud/Genie_Transfer/2020/Ptp/PTP2805.Chn'),\n  WindowsPath('C:/Users/mmaduar/Nextcloud/Genie_Transfer/2020/Ptp/PTP3001.Chn'),\n  WindowsPath('C:/Users/mmaduar/Nextcloud/Genie_Transfer/2020/Ptp/PTP3004.Chn'),\n  WindowsPath('C:/Users/mmaduar/Nextcloud/Genie_Transfer/2020/Ptp/PTP3007.Chn'),\n  WindowsPath('C:/Users/mmaduar/Nextcloud/Genie_Transfer/2020/Ptp/PTP3012.Chn'),\n  WindowsPath('C:/Users/mmaduar/Nextcloud/Genie_Transfer/2021/cal 08 11 21 GMX.Chn'),\n  WindowsPath('C:/Users/mmaduar/Nextcloud/Genie_Transfer/2021/Co60cal.Chn'),\n  WindowsPath('C:/Users/mmaduar/Nextcloud/Genie_Transfer/2021/grrteste1.Chn'),\n  WindowsPath('C:/Users/mmaduar/Nextcloud/Genie_Transfer/2021/MNR 5a.Chn'),\n  WindowsPath('C:/Users/mmaduar/Nextcloud/Genie_Transfer/2021/SI07418+CTP0305.Chn'),\n  WindowsPath('C:/Users/mmaduar/Nextcloud/Genie_Transfer/2021/teste-2021-ago.Chn'),\n  WindowsPath('C:/Users/mmaduar/Nextcloud/Genie_Transfer/2021/CaL Co-60/03-01-2020.Chn'),\n  WindowsPath('C:/Users/mmaduar/Nextcloud/Genie_Transfer/2021/CaL Co-60/07-01-21.Chn'),\n  WindowsPath('C:/Users/mmaduar/Nextcloud/Genie_Transfer/2021/CaL Co-60/15-jun-2021-A.Chn'),\n  WindowsPath('C:/Users/mmaduar/Nextcloud/Genie_Transfer/2021/CaL Co-60/15-jun-2021-B.Chn'),\n  WindowsPath('C:/Users/mmaduar/Nextcloud/Genie_Transfer/2021/CaL Co-60/15-jun-2021-C.Chn'),\n  WindowsPath('C:/Users/mmaduar/Nextcloud/Genie_Transfer/2021/CaL Co-60/15-jun-2021-D.Chn'),\n  WindowsPath('C:/Users/mmaduar/Nextcloud/Genie_Transfer/2021/CaL Co-60/15-jun-2021-E.Chn'),\n  WindowsPath('C:/Users/mmaduar/Nextcloud/Genie_Transfer/2021/CaL Co-60/18-ago-2020.Chn'),\n  WindowsPath('C:/Users/mmaduar/Nextcloud/Genie_Transfer/2021/CaL Co-60/19-ago-2021.Chn'),\n  WindowsPath('C:/Users/mmaduar/Nextcloud/Genie_Transfer/2021/CaL Co-60/2021-03-17.Chn'),\n  WindowsPath('C:/Users/mmaduar/Nextcloud/Genie_Transfer/2021/CaL Co-60/23-jun-2021.Chn'),\n  WindowsPath('C:/Users/mmaduar/Nextcloud/Genie_Transfer/2021/CaL Co-60/28-jul-2021_5k.Chn'),\n  WindowsPath('C:/Users/mmaduar/Nextcloud/Genie_Transfer/2021/CaL Co-60/Eu-152.Chn'),\n  WindowsPath('C:/Users/mmaduar/Nextcloud/Genie_Transfer/2021/CaL Co-60/GMX_2021-01jan-19.Chn'),\n  WindowsPath('C:/Users/mmaduar/Nextcloud/Genie_Transfer/2021/descarte ativ/AM1-18-10-26.Chn'),\n  WindowsPath('C:/Users/mmaduar/Nextcloud/Genie_Transfer/2021/descarte ativ/AM2-18-10-26.Chn'),\n  WindowsPath('C:/Users/mmaduar/Nextcloud/Genie_Transfer/2021/descarte ativ/Papel Al 17 06 2019.Chn'),\n  WindowsPath('C:/Users/mmaduar/Nextcloud/Genie_Transfer/2021/Petrobrás/P1 10ks/P1 LIQ.Chn'),\n  WindowsPath('C:/Users/mmaduar/Nextcloud/Genie_Transfer/2021/Petrobrás/P1 10ks/P1.1.1.Chn'),\n  WindowsPath('C:/Users/mmaduar/Nextcloud/Genie_Transfer/2021/Petrobrás/P1 10ks/P1.1.2.Chn'),\n  WindowsPath('C:/Users/mmaduar/Nextcloud/Genie_Transfer/2021/Petrobrás/P1 10ks/P1.1.3.Chn'),\n  WindowsPath('C:/Users/mmaduar/Nextcloud/Genie_Transfer/2021/Petrobrás/P1 10ks/P1.2.1.Chn'),\n  WindowsPath('C:/Users/mmaduar/Nextcloud/Genie_Transfer/2021/Petrobrás/P1 10ks/P1.2.2.Chn'),\n  WindowsPath('C:/Users/mmaduar/Nextcloud/Genie_Transfer/2021/Petrobrás/P1 10ks/P1.2.3.Chn'),\n  WindowsPath('C:/Users/mmaduar/Nextcloud/Genie_Transfer/2021/Petrobrás/P1 10ks/P1.3.1.Chn'),\n  WindowsPath('C:/Users/mmaduar/Nextcloud/Genie_Transfer/2021/Petrobrás/P1 10ks/P1.3.2.Chn'),\n  WindowsPath('C:/Users/mmaduar/Nextcloud/Genie_Transfer/2021/Petrobrás/P1 10ks/P1.3.3.Chn'),\n  WindowsPath('C:/Users/mmaduar/Nextcloud/Genie_Transfer/2021/Petrobrás/P1 20ks/P1.1.3 20ks.Chn'),\n  WindowsPath('C:/Users/mmaduar/Nextcloud/Genie_Transfer/2021/Petrobrás/P1 20ks/P1.2.3 20ks.Chn'),\n  WindowsPath('C:/Users/mmaduar/Nextcloud/Genie_Transfer/2021/Petrobrás/P1 5ks/P1.1.1.Chn'),\n  WindowsPath('C:/Users/mmaduar/Nextcloud/Genie_Transfer/2021/Petrobrás/P1 5ks/P1.1.2.Chn'),\n  WindowsPath('C:/Users/mmaduar/Nextcloud/Genie_Transfer/2021/Petrobrás/P1 5ks/P1.1.3.Chn'),\n  WindowsPath('C:/Users/mmaduar/Nextcloud/Genie_Transfer/2021/Petrobrás/P10 5ks/P10.1,LIQ 10ks.Chn'),\n  WindowsPath('C:/Users/mmaduar/Nextcloud/Genie_Transfer/2021/Petrobrás/P10 5ks/P10.1,LIQ 50ks.Chn'),\n  WindowsPath('C:/Users/mmaduar/Nextcloud/Genie_Transfer/2021/Petrobrás/P10 5ks/P10.1.1 10ks.Chn'),\n  WindowsPath('C:/Users/mmaduar/Nextcloud/Genie_Transfer/2021/Petrobrás/P10 5ks/P10.1.1.Chn'),\n  WindowsPath('C:/Users/mmaduar/Nextcloud/Genie_Transfer/2021/Petrobrás/P10 5ks/P10.1.2.Chn'),\n  WindowsPath('C:/Users/mmaduar/Nextcloud/Genie_Transfer/2021/Petrobrás/P10 5ks/P10.2.1.Chn'),\n  WindowsPath('C:/Users/mmaduar/Nextcloud/Genie_Transfer/2021/Petrobrás/P10 5ks/P10.2.2.Chn'),\n  WindowsPath('C:/Users/mmaduar/Nextcloud/Genie_Transfer/2021/Petrobrás/P10 5ks/P10.3.1.Chn'),\n  WindowsPath('C:/Users/mmaduar/Nextcloud/Genie_Transfer/2021/Petrobrás/P10 5ks/P10.3.2.Chn'),\n  WindowsPath('C:/Users/mmaduar/Nextcloud/Genie_Transfer/2021/Petrobrás/P10 5ks/P10.C1.Chn'),\n  WindowsPath('C:/Users/mmaduar/Nextcloud/Genie_Transfer/2021/Petrobrás/P10 5ks/P10.C2.Chn'),\n  WindowsPath('C:/Users/mmaduar/Nextcloud/Genie_Transfer/2021/Petrobrás/P11 5ks/P 11.3.Chn'),\n  WindowsPath('C:/Users/mmaduar/Nextcloud/Genie_Transfer/2021/Petrobrás/P11 5ks/P11.1.Chn'),\n  WindowsPath('C:/Users/mmaduar/Nextcloud/Genie_Transfer/2021/Petrobrás/P11 5ks/P11.10.Chn'),\n  WindowsPath('C:/Users/mmaduar/Nextcloud/Genie_Transfer/2021/Petrobrás/P11 5ks/P11.2.Chn'),\n  WindowsPath('C:/Users/mmaduar/Nextcloud/Genie_Transfer/2021/Petrobrás/P11 5ks/P11.4.Chn'),\n  WindowsPath('C:/Users/mmaduar/Nextcloud/Genie_Transfer/2021/Petrobrás/P11 5ks/P11.5.Chn'),\n  WindowsPath('C:/Users/mmaduar/Nextcloud/Genie_Transfer/2021/Petrobrás/P11 5ks/P11.6.Chn'),\n  WindowsPath('C:/Users/mmaduar/Nextcloud/Genie_Transfer/2021/Petrobrás/P11 5ks/P11.7.Chn'),\n  WindowsPath('C:/Users/mmaduar/Nextcloud/Genie_Transfer/2021/Petrobrás/P11 5ks/P11.8.Chn'),\n  WindowsPath('C:/Users/mmaduar/Nextcloud/Genie_Transfer/2021/Petrobrás/P11 5ks/P11.9.Chn'),\n  WindowsPath('C:/Users/mmaduar/Nextcloud/Genie_Transfer/2021/Petrobrás/P12 5ks/P12.1.Chn'),\n  WindowsPath('C:/Users/mmaduar/Nextcloud/Genie_Transfer/2021/Petrobrás/P12 5ks/P12.2.Chn'),\n  WindowsPath('C:/Users/mmaduar/Nextcloud/Genie_Transfer/2021/Petrobrás/P12 5ks/P12.3.Chn'),\n  WindowsPath('C:/Users/mmaduar/Nextcloud/Genie_Transfer/2021/Petrobrás/P12 5ks/P12.4.Chn'),\n  WindowsPath('C:/Users/mmaduar/Nextcloud/Genie_Transfer/2021/Petrobrás/P12 5ks/P12.5.Chn'),\n  WindowsPath('C:/Users/mmaduar/Nextcloud/Genie_Transfer/2021/Petrobrás/P12 5ks/P12.6.Chn'),\n  WindowsPath('C:/Users/mmaduar/Nextcloud/Genie_Transfer/2021/Petrobrás/P12 5ks/P12.7.Chn'),\n  WindowsPath('C:/Users/mmaduar/Nextcloud/Genie_Transfer/2021/Petrobrás/P12 5ks/P12.8.Chn'),\n  WindowsPath('C:/Users/mmaduar/Nextcloud/Genie_Transfer/2021/Petrobrás/P12 5ks/P12.9.Chn'),\n  WindowsPath('C:/Users/mmaduar/Nextcloud/Genie_Transfer/2021/Petrobrás/P12 5ks/P12.LIQ 50ks.Chn'),\n  WindowsPath('C:/Users/mmaduar/Nextcloud/Genie_Transfer/2021/Petrobrás/P2 10ks/P2.1.1.Chn'),\n  WindowsPath('C:/Users/mmaduar/Nextcloud/Genie_Transfer/2021/Petrobrás/P2 10ks/P2.1.2.Chn'),\n  WindowsPath('C:/Users/mmaduar/Nextcloud/Genie_Transfer/2021/Petrobrás/P2 10ks/P2.2.1.Chn'),\n  WindowsPath('C:/Users/mmaduar/Nextcloud/Genie_Transfer/2021/Petrobrás/P2 10ks/P2.2.2.Chn'),\n  WindowsPath('C:/Users/mmaduar/Nextcloud/Genie_Transfer/2021/Petrobrás/P2 10ks/P2.3.1.Chn'),\n  WindowsPath('C:/Users/mmaduar/Nextcloud/Genie_Transfer/2021/Petrobrás/P2 10ks/P2.3.2.Chn'),\n  WindowsPath('C:/Users/mmaduar/Nextcloud/Genie_Transfer/2021/Petrobrás/P2 5ks/P2.1.1.Chn'),\n  WindowsPath('C:/Users/mmaduar/Nextcloud/Genie_Transfer/2021/Petrobrás/P2 5ks/P2.1.2.Chn'),\n  WindowsPath('C:/Users/mmaduar/Nextcloud/Genie_Transfer/2021/Petrobrás/P3 10ks/P3.1.Chn'),\n  WindowsPath('C:/Users/mmaduar/Nextcloud/Genie_Transfer/2021/Petrobrás/P3 10ks/P3.10.L╓Q.Chn'),\n  WindowsPath('C:/Users/mmaduar/Nextcloud/Genie_Transfer/2021/Petrobrás/P3 10ks/P3.2.Chn'),\n  WindowsPath('C:/Users/mmaduar/Nextcloud/Genie_Transfer/2021/Petrobrás/P3 10ks/P3.3.Chn'),\n  WindowsPath('C:/Users/mmaduar/Nextcloud/Genie_Transfer/2021/Petrobrás/P3 10ks/P3.4.Chn'),\n  WindowsPath('C:/Users/mmaduar/Nextcloud/Genie_Transfer/2021/Petrobrás/P3 10ks/P3.5.Chn'),\n  WindowsPath('C:/Users/mmaduar/Nextcloud/Genie_Transfer/2021/Petrobrás/P3 10ks/P3.6.Chn'),\n  WindowsPath('C:/Users/mmaduar/Nextcloud/Genie_Transfer/2021/Petrobrás/P3 10ks/P3.7.Chn'),\n  WindowsPath('C:/Users/mmaduar/Nextcloud/Genie_Transfer/2021/Petrobrás/P3 10ks/P3.9.Chn'),\n  WindowsPath('C:/Users/mmaduar/Nextcloud/Genie_Transfer/2021/Petrobrás/P3 10ks/P310.LIQ20ks.Chn'),\n  WindowsPath('C:/Users/mmaduar/Nextcloud/Genie_Transfer/2021/Petrobrás/P3 5 ks/P3.1.Chn'),\n  WindowsPath('C:/Users/mmaduar/Nextcloud/Genie_Transfer/2021/Petrobrás/P3 5 ks/P3.10 LIQ.Chn'),\n  WindowsPath('C:/Users/mmaduar/Nextcloud/Genie_Transfer/2021/Petrobrás/P3 5 ks/P3.3.Chn'),\n  WindowsPath('C:/Users/mmaduar/Nextcloud/Genie_Transfer/2021/Petrobrás/P3 5 ks/P3.5.Chn'),\n  WindowsPath('C:/Users/mmaduar/Nextcloud/Genie_Transfer/2021/Petrobrás/P3 5 ks/P3.7.Chn'),\n  WindowsPath('C:/Users/mmaduar/Nextcloud/Genie_Transfer/2021/Petrobrás/P3 5 ks/P3.8.Chn'),\n  WindowsPath('C:/Users/mmaduar/Nextcloud/Genie_Transfer/2021/Petrobrás/P4 10ks/P4 L╓Q.Chn'),\n  WindowsPath('C:/Users/mmaduar/Nextcloud/Genie_Transfer/2021/Petrobrás/P4 10ks/P4.1.Chn'),\n  WindowsPath('C:/Users/mmaduar/Nextcloud/Genie_Transfer/2021/Petrobrás/P4 10ks/P4.2.Chn'),\n  WindowsPath('C:/Users/mmaduar/Nextcloud/Genie_Transfer/2021/Petrobrás/P4 5ks/P.4 Incrustac╞o.Chn'),\n  WindowsPath('C:/Users/mmaduar/Nextcloud/Genie_Transfer/2021/Petrobrás/P4 5ks/P.4 Líquida.Chn'),\n  WindowsPath('C:/Users/mmaduar/Nextcloud/Genie_Transfer/2021/Petrobrás/P4 5ks/P.4.1 Borra.Chn'),\n  WindowsPath('C:/Users/mmaduar/Nextcloud/Genie_Transfer/2021/Petrobrás/P4 5ks/P.4.2 Borra.Chn'),\n  WindowsPath('C:/Users/mmaduar/Nextcloud/Genie_Transfer/2021/Petrobrás/P4 5ks/P4 LIQ.Chn'),\n  WindowsPath('C:/Users/mmaduar/Nextcloud/Genie_Transfer/2021/Petrobrás/P5 10ks/P.5.2.1.Chn'),\n  WindowsPath('C:/Users/mmaduar/Nextcloud/Genie_Transfer/2021/Petrobrás/P5 10ks/P.5.2.2.Chn'),\n  WindowsPath('C:/Users/mmaduar/Nextcloud/Genie_Transfer/2021/Petrobrás/P5 10ks/P5.1.1.Chn'),\n  WindowsPath('C:/Users/mmaduar/Nextcloud/Genie_Transfer/2021/Petrobrás/P5 10ks/P5.1.2.Chn'),\n  WindowsPath('C:/Users/mmaduar/Nextcloud/Genie_Transfer/2021/Petrobrás/P5 10ks/P5.1.3.Chn'),\n  WindowsPath('C:/Users/mmaduar/Nextcloud/Genie_Transfer/2021/Petrobrás/P5 10ks/P5.2.3.Chn'),\n  WindowsPath('C:/Users/mmaduar/Nextcloud/Genie_Transfer/2021/Petrobrás/P5 10ks/P5.3.1.Chn'),\n  WindowsPath('C:/Users/mmaduar/Nextcloud/Genie_Transfer/2021/Petrobrás/P5 10ks/P5.3.2.Chn'),\n  WindowsPath('C:/Users/mmaduar/Nextcloud/Genie_Transfer/2021/Petrobrás/P5 10ks/P5.3.3.Chn'),\n  WindowsPath('C:/Users/mmaduar/Nextcloud/Genie_Transfer/2021/Petrobrás/P5 5ks/P5.1.1.Chn'),\n  WindowsPath('C:/Users/mmaduar/Nextcloud/Genie_Transfer/2021/Petrobrás/P5 5ks/P5.1.2.Chn'),\n  WindowsPath('C:/Users/mmaduar/Nextcloud/Genie_Transfer/2021/Petrobrás/P5 5ks/P5.1.3.Chn'),\n  WindowsPath('C:/Users/mmaduar/Nextcloud/Genie_Transfer/2021/Petrobrás/P6 5ks/P.6.10.Chn'),\n  WindowsPath('C:/Users/mmaduar/Nextcloud/Genie_Transfer/2021/Petrobrás/P6 5ks/P6.1.Chn'),\n  WindowsPath('C:/Users/mmaduar/Nextcloud/Genie_Transfer/2021/Petrobrás/P6 5ks/P6.3.Chn'),\n  WindowsPath('C:/Users/mmaduar/Nextcloud/Genie_Transfer/2021/Petrobrás/P6 5ks/P6.5.Chn'),\n  WindowsPath('C:/Users/mmaduar/Nextcloud/Genie_Transfer/2021/Petrobrás/P6 5ks/P6.8.Chn'),\n  WindowsPath('C:/Users/mmaduar/Nextcloud/Genie_Transfer/2021/Petrobrás/P7 5ks/P7.1.1.Chn'),\n  WindowsPath('C:/Users/mmaduar/Nextcloud/Genie_Transfer/2021/Petrobrás/P7 5ks/P7.1.2.Chn'),\n  WindowsPath('C:/Users/mmaduar/Nextcloud/Genie_Transfer/2021/Petrobrás/P7 5ks/P7.LIQ 50ks.Chn'),\n  WindowsPath('C:/Users/mmaduar/Nextcloud/Genie_Transfer/2021/Petrobrás/P7 5ks/P7LIQ.Chn'),\n  WindowsPath('C:/Users/mmaduar/Nextcloud/Genie_Transfer/2021/Petrobrás/P9 5ks/P9 LIQ+FUNDO.Chn'),\n  WindowsPath('C:/Users/mmaduar/Nextcloud/Genie_Transfer/2021/Petrobrás/P9 5ks/P9.1.1 INCRUSTACOES.Chn'),\n  WindowsPath('C:/Users/mmaduar/Nextcloud/Genie_Transfer/2021/Petrobrás/P9 5ks/P9.1.2.Chn'),\n  WindowsPath('C:/Users/mmaduar/Nextcloud/Genie_Transfer/2021/Petrobrás/P9 5ks/P9 EQUIL/P9 LIQ+FUNDO.Chn'),\n  WindowsPath('C:/Users/mmaduar/Nextcloud/Genie_Transfer/almera22/det_c/iaeaqcb.chn'),\n  WindowsPath('C:/Users/mmaduar/Nextcloud/Genie_Transfer/almera22/det_c/iaeaqcc.chn'),\n  WindowsPath('C:/Users/mmaduar/Nextcloud/Genie_Transfer/almera22/det_c/IAEASW1B.chn'),\n  WindowsPath('C:/Users/mmaduar/Nextcloud/Genie_Transfer/almera22/det_c/iaeaw2a.chn'),\n  WindowsPath('C:/Users/mmaduar/Nextcloud/Genie_Transfer/almera22/eur_g_p_xtraf/Spiked water Sample Code 01A  Det G.Chn'),\n  WindowsPath('C:/Users/mmaduar/Nextcloud/Genie_Transfer/almera22/eur_g_p_xtraf/Spiked water Sample Code 01A  Det P.Chn'),\n  WindowsPath('C:/Users/mmaduar/Nextcloud/Genie_Transfer/almera22/eur_g_p_xtraf/Spiked water Sample Code 01B Det Eurisys.Chn'),\n  WindowsPath('C:/Users/mmaduar/Nextcloud/Genie_Transfer/almera22/eur_g_p_xtraf/Spiked water Sample Code 01B XtRa.Chn'),\n  WindowsPath('C:/Users/mmaduar/Nextcloud/Genie_Transfer/almera22/eur_g_p_xtraf/Spiked water Sample Code 01C Eurisys.Chn'),\n  WindowsPath('C:/Users/mmaduar/Nextcloud/Genie_Transfer/almera22/eur_g_p_xtraf/Spiked water Sample Code 02A  Det P.Chn'),\n  WindowsPath('C:/Users/mmaduar/Nextcloud/Genie_Transfer/almera22/eur_g_p_xtraf/Spiked water Sample Code 02A  Eurisusys.Chn'),\n  WindowsPath('C:/Users/mmaduar/Nextcloud/Genie_Transfer/almera22/eur_g_p_xtraf/Spiked water Sample Code 02C Det G.Chn'),\n  WindowsPath('C:/Users/mmaduar/Nextcloud/Genie_Transfer/almera22/eur_g_p_xtraf/Spiked water Sample code 03A Det P.Chn'),\n  WindowsPath('C:/Users/mmaduar/Nextcloud/Genie_Transfer/almera22/eur_g_p_xtraf/Spiked water Sample Code 03B Det G.Chn'),\n  WindowsPath('C:/Users/mmaduar/Nextcloud/Genie_Transfer/almera22/eur_g_p_xtraf/Spiked water Sample Code 03C Det Eurisys.Chn'),\n  WindowsPath('C:/Users/mmaduar/Nextcloud/Genie_Transfer/almera22/eur_g_p_xtraf/Spiked water Sample Code 03C XtRa.Chn'),\n  WindowsPath('C:/Users/mmaduar/Nextcloud/Genie_Transfer/almera22/eur_g_p_xtraf/Spiked water Sample code QCA det XtRa.Chn'),\n  WindowsPath('C:/Users/mmaduar/Nextcloud/Genie_Transfer/almera22/eur_g_p_xtraf/Spiked water Sample Code QCB Det Eurisys.Chn'),\n  WindowsPath('C:/Users/mmaduar/Nextcloud/Genie_Transfer/almera22/eur_g_p_xtraf/Spiked water Sample Code QCB Det G.Chn'),\n  WindowsPath('C:/Users/mmaduar/Nextcloud/Genie_Transfer/almera22/eur_g_p_xtraf/Spiked water Sample Code QCB Det XTRa.Chn'),\n  WindowsPath('C:/Users/mmaduar/Nextcloud/Genie_Transfer/almera22/eur_g_p_xtraf/Spiked water Sample Code QCC Det P.Chn'),\n  WindowsPath('C:/Users/mmaduar/Nextcloud/Genie_Transfer/almera22/IAEA-TERC-2022/pt2022_spectrum_exercise/PT2022_Spectrum_Exercise/PT2022-Calibration_Standard/Background-2017/BGR-BBE-17D.CHN'),\n  WindowsPath('C:/Users/mmaduar/Nextcloud/Genie_Transfer/almera22/IAEA-TERC-2022/pt2022_spectrum_exercise/PT2022_Spectrum_Exercise/PT2022-Calibration_Standard/BBE_NPL-A170584-D1/BBE_NPL-A170584-D1.CHN'),\n  WindowsPath('C:/Users/mmaduar/Nextcloud/Genie_Transfer/almera22/IAEA-TERC-2022/pt2022_spectrum_exercise/PT2022_Spectrum_Exercise/PT2022_Spectra/Background-2021/BGR-BBE-21D.CHN'),\n  WindowsPath('C:/Users/mmaduar/Nextcloud/Genie_Transfer/almera22/IAEA-TERC-2022/pt2022_spectrum_exercise/PT2022_Spectrum_Exercise/PT2022_Spectra/BBE22032_PT2022/BBE22032_PT2022.CHN'),\n  WindowsPath('C:/Users/mmaduar/Nextcloud/Genie_Transfer/almera22/IAEA-TERC-2022/pt2022_spectrum_exercise/PT2022_Spectrum_Exercise/PT2022_Spectra/BBE_P105_Blank/BBE_P105_Blank.CHN'),\n  WindowsPath('C:/Users/mmaduar/Nextcloud/Genie_Transfer/almera22/user2023/GIG/CRM_5A.Chn'),\n  WindowsPath('C:/Users/mmaduar/Nextcloud/Genie_Transfer/almera22/user2023/GIG/CRM_7.Chn'),\n  WindowsPath('C:/Users/mmaduar/Nextcloud/Genie_Transfer/almera22/user2023/IAEA2022/IAEA-TERC-2022-01_02;SampleCodeQCA-SpikedWater 100,70g (GMX).Chn'),\n  WindowsPath('C:/Users/mmaduar/Nextcloud/Genie_Transfer/almera22/user2023/IAEA2022/Sample Code 03B Pop top.Chn'),\n  WindowsPath('C:/Users/mmaduar/Nextcloud/Genie_Transfer/almera22/user2023/IAEA2022/Sample Code QCA Pop top.Chn'),\n  WindowsPath('C:/Users/mmaduar/Nextcloud/Genie_Transfer/almera22/user2023/IAEA2022/Sample Code QCC Pop top.Chn'),\n  WindowsPath('C:/Users/mmaduar/Nextcloud/Genie_Transfer/almera22/user2023/SI2022/BGTESTE.Chn'),\n  WindowsPath('C:/Users/mmaduar/Nextcloud/Genie_Transfer/almera22/user2023/SI2022/FRASCO ORIGINAL SI084_22.Chn'),\n  WindowsPath('C:/Users/mmaduar/Nextcloud/Genie_Transfer/almera22/user2023/SI2022/SI00822.Chn'),\n  WindowsPath('C:/Users/mmaduar/Nextcloud/Genie_Transfer/almera22/user2023/SI2022/SI00922.Chn'),\n  WindowsPath('C:/Users/mmaduar/Nextcloud/Genie_Transfer/almera22/user2023/SI2022/SI01622.Chn'),\n  WindowsPath('C:/Users/mmaduar/Nextcloud/Genie_Transfer/almera22/user2023/SI2022/SI01722.Chn'),\n  WindowsPath('C:/Users/mmaduar/Nextcloud/Genie_Transfer/almera22/user2023/SI2022/SI01822.Chn'),\n  WindowsPath('C:/Users/mmaduar/Nextcloud/Genie_Transfer/almera22/user2023/SI2022/SI01922.Chn'),\n  WindowsPath('C:/Users/mmaduar/Nextcloud/Genie_Transfer/almera22/user2023/SI2022/SI02022.Chn'),\n  WindowsPath('C:/Users/mmaduar/Nextcloud/Genie_Transfer/almera22/user2023/SI2022/SI02522.Chn'),\n  WindowsPath('C:/Users/mmaduar/Nextcloud/Genie_Transfer/almera22/user2023/SI2022/SI02622.Chn'),\n  WindowsPath('C:/Users/mmaduar/Nextcloud/Genie_Transfer/almera22/user2023/SI2022/SI02722.Chn'),\n  WindowsPath('C:/Users/mmaduar/Nextcloud/Genie_Transfer/almera22/user2023/SI2022/SI02922.Chn'),\n  ...],\n 'reduced_names_files_list': ['BGNOVO.Chn',\n  '2018/CCI/CCI (I-123) 210218.Chn',\n  '2018/CCI/CCI0404F.Chn',\n  '2018/CCI/CCI0404I.Chn',\n  '2018/CCI/CCI0703F.Chn',\n  '2018/CCI/CCI0703I.Chn',\n  '2018/CCI/CCI0808I.Chn',\n  '2018/CCI/CCI0905 I-123.Chn',\n  '2018/CCI/CCI0905F.Chn',\n  '2018/CCI/CCI1104F.Chn',\n  '2018/CCI/CCI1104I.Chn',\n  '2018/CCI/CCI1403F.Chn',\n  '2018/CCI/CCI1403I.Chn',\n  '2018/CCI/CCI1508I.Chn',\n  '2018/CCI/CCI1605.Chn',\n  '2018/CCI/CCI1804F.Chn',\n  '2018/CCI/CCI1804I.Chn',\n  '2018/CCI/CCI1807.Chn',\n  '2018/CCI/CCI2004F-1.Chn',\n  '2018/CCI/CCI2004F-2.Chn',\n  '2018/CCI/CCI2102F.Chn',\n  '2018/CCI/CCI2103F.Chn',\n  '2018/CCI/CCI2103I.Chn',\n  '2018/CCI/CCI2304F.Chn',\n  '2018/CCI/CCI2802F.Chn',\n  '2018/CCI/CCI2802I.Chn',\n  '2018/CCI/PCI0905 F18.Chn',\n  '2018/CCI/PCI1403I.Chn',\n  '2018/CRF/CRF0103.Chn',\n  '2018/CRF/CRF0111.Chn',\n  '2018/CRF/CRF0208.Chn',\n  '2018/CRF/CRF0305.Chn',\n  '2018/CRF/CRF0410.Chn',\n  '2018/CRF/CRF0504.Chn',\n  '2018/CRF/CRF0507.Chn',\n  '2018/CRF/CRF0609.Chn',\n  '2018/CRF/CRF0706.Chn',\n  '2018/CRF/CRF0803.Chn',\n  '2018/CRF/CRF0908.Chn',\n  '2018/CRF/CRF1005.Chn',\n  '2018/CRF/CRF1110.Chn',\n  '2018/CRF/CRF1204.Chn',\n  '2018/CRF/CRF1207.Chn',\n  '2018/CRF/CRF1309.Chn',\n  '2018/CRF/CRF1406.Chn',\n  '2018/CRF/CRF1503.Chn',\n  '2018/CRF/CRF1608.Chn',\n  '2018/CRF/crf1705.Chn',\n  '2018/CRF/CRF1810.Chn',\n  '2018/CRF/CRF1907.Chn',\n  '2018/CRF/CRF2009.Chn',\n  '2018/CRF/CRF2106.Chn',\n  '2018/CRF/CRF2202.Chn',\n  '2018/CRF/CRF2203.Chn',\n  '2018/CRF/CRF2308.Chn',\n  '2018/CRF/CRF2604.Chn',\n  '2018/CRF/CRF2607.Chn',\n  '2018/CRF/CRF2709.Chn',\n  '2018/CRF/CRF2806.Chn',\n  '2018/CRF/CRF2903.Chn',\n  '2018/CRF/CRF3005.Chn',\n  '2018/CRF/CRF3008.Chn',\n  '2018/CRN/CRF2405.Chn',\n  '2018/CRN/CRN0103.Chn',\n  '2018/CRN/CRN0111.Chn',\n  '2018/CRN/CRN0208.Chn',\n  '2018/CRN/CRN0305.Chn',\n  '2018/CRN/CRN0410.Chn',\n  '2018/CRN/CRN0507.Chn',\n  '2018/CRN/CRN0609.Chn',\n  '2018/CRN/CRN0706.Chn',\n  '2018/CRN/CRN0803.Chn',\n  '2018/CRN/CRN0908.Chn',\n  '2018/CRN/CRN1005.Chn',\n  '2018/CRN/CRN1110.Chn',\n  '2018/CRN/CRN1207.Chn',\n  '2018/CRN/CRN1309.Chn',\n  '2018/CRN/CRN1406.Chn',\n  '2018/CRN/CRN1503.Chn',\n  '2018/CRN/CRN1608.Chn',\n  '2018/CRN/CRN1705.Chn',\n  '2018/CRN/CRN1810.Chn',\n  '2018/CRN/CRN1904.Chn',\n  '2018/CRN/CRN1907.Chn',\n  '2018/CRN/CRN2009.Chn',\n  '2018/CRN/CRN2106.Chn',\n  '2018/CRN/CRN2202.Chn',\n  '2018/CRN/CRN2203.Chn',\n  '2018/CRN/CRN2308.Chn',\n  '2018/CRN/CRN2405.Chn',\n  '2018/CRN/CRN2510.Chn',\n  '2018/CRN/CRN2604.Chn',\n  '2018/CRN/CRN2607.Chn',\n  '2018/CRN/CRN2709.Chn',\n  '2018/CRN/CRN2806.Chn',\n  '2018/CRN/CRN2903.Chn',\n  '2018/CRN/CRN3005.Chn',\n  '2018/CRN/CRN3008.Chn',\n  '2018/CTP/CTP0103.Chn',\n  '2018/CTP/CTP0111.Chn',\n  '2018/CTP/CTP0208-2.Chn',\n  '2018/CTP/CTP0208.Chn',\n  '2018/CTP/CTP0305-2.Chn',\n  '2018/CTP/CTP0305.Chn',\n  '2018/CTP/CTP0410-2.Chn',\n  '2018/CTP/CTP0410-3.Chn',\n  '2018/CTP/CTP0410.Chn',\n  '2018/CTP/CTP0504.Chn',\n  '2018/CTP/CTP0507.Chn',\n  '2018/CTP/CTP05072.Chn',\n  '2018/CTP/CTP05073.Chn',\n  '2018/CTP/CTP05074.Chn',\n  '2018/CTP/CTP0609-2.Chn',\n  '2018/CTP/CTP0609-3.Chn',\n  '2018/CTP/CTP0609-4.Chn',\n  '2018/CTP/CTP0609.Chn',\n  '2018/CTP/CTP0706.Chn',\n  '2018/CTP/CTP0803.Chn',\n  '2018/CTP/CTP0908-2.Chn',\n  '2018/CTP/CTP0908.Chn',\n  '2018/CTP/CTP1005.Chn',\n  '2018/CTP/CTP1110-2.Chn',\n  '2018/CTP/CTP1110-3.Chn',\n  '2018/CTP/CTP1110-4.Chn',\n  '2018/CTP/CTP1110.Chn',\n  '2018/CTP/CTP1204.Chn',\n  '2018/CTP/CTP1207-4.Chn',\n  '2018/CTP/CTP1207.Chn',\n  '2018/CTP/CTP12072.Chn',\n  '2018/CTP/CTP12073.Chn',\n  '2018/CTP/CTP1309-2.Chn',\n  '2018/CTP/CTP1309-3.Chn',\n  '2018/CTP/CTP1309.Chn',\n  '2018/CTP/CTP1406.Chn',\n  '2018/CTP/CTP1502.Chn',\n  '2018/CTP/CTP150218 2 CONTAGEM.Chn',\n  '2018/CTP/CTP15023.Chn',\n  '2018/CTP/CTP1503 4.Chn',\n  '2018/CTP/CTP1503.Chn',\n  '2018/CTP/CTP15032.Chn',\n  '2018/CTP/CTP15033.Chn',\n  '2018/CTP/CTP1608-2.Chn',\n  '2018/CTP/CTP1608-3.Chn',\n  '2018/CTP/CTP1608.Chn',\n  '2018/CTP/CTP1705-2.Chn',\n  '2018/CTP/CTP1705.Chn',\n  '2018/CTP/CTP1810-2.Chn',\n  '2018/CTP/CTP1810-3.Chn',\n  '2018/CTP/CTP1810.Chn',\n  '2018/CTP/CTP1904.Chn',\n  '2018/CTP/CTP1907.Chn',\n  '2018/CTP/CTP19072.Chn',\n  '2018/CTP/CTP2009-2.Chn',\n  '2018/CTP/CTP2009-3.Chn',\n  '2018/CTP/CTP2009-4.Chn',\n  '2018/CTP/CTP2009.Chn',\n  '2018/CTP/CTP2106.Chn',\n  '2018/CTP/CTP21062.Chn',\n  '2018/CTP/CTP21063.Chn',\n  '2018/CTP/CTP21064.Chn',\n  '2018/CTP/CTP2202.Chn',\n  '2018/CTP/CTP2203-2.Chn',\n  '2018/CTP/CTP2203-3.Chn',\n  '2018/CTP/CTP2203.Chn',\n  '2018/CTP/CTP2308-2.Chn',\n  '2018/CTP/CTP2308-3.Chn',\n  '2018/CTP/CTP2308-4.Chn',\n  '2018/CTP/CTP2308-5.Chn',\n  '2018/CTP/CTP2308.Chn',\n  '2018/CTP/CTP2405.Chn',\n  '2018/CTP/CTP2510-2.Chn',\n  '2018/CTP/CTP2510.Chn',\n  '2018/CTP/CTP2604.Chn',\n  '2018/CTP/CTP2607-2.Chn',\n  '2018/CTP/CTP2607.Chn',\n  '2018/CTP/CTP2709-2.Chn',\n  '2018/CTP/CTP2709-3.Chn',\n  '2018/CTP/CTP2709-4.Chn',\n  '2018/CTP/CTP2709.Chn',\n  '2018/CTP/CTP2806.Chn',\n  '2018/CTP/CTP2903-2.Chn',\n  '2018/CTP/CTP2903.Chn',\n  '2018/CTP/CTP3005.Chn',\n  '2018/CTP/CTP3008-2.Chn',\n  '2018/CTP/CTP3008-3.Chn',\n  '2018/CTP/CTP3008-4.Chn',\n  '2018/CTP/CTP3008.Chn',\n  '2018/CTP/PTP1406.Chn',\n  '2018/PCI/PCI0404F.Chn',\n  '2018/PCI/PCI0404I.Chn',\n  '2018/PCI/PCI0703F.Chn',\n  '2018/PCI/PCI0703I.Chn',\n  '2018/PCI/PCI0905I.Chn',\n  '2018/PCI/PCI1104F.Chn',\n  '2018/PCI/PCI1104I.Chn',\n  '2018/PCI/PCI1403F.Chn',\n  '2018/PCI/PCI1508I.Chn',\n  '2018/PCI/PCI1605.Chn',\n  '2018/PCI/PCI1804F.Chn',\n  '2018/PCI/PCI1804I.Chn',\n  '2018/PCI/PCI1807.Chn',\n  '2018/PCI/PCI2004F-1.Chn',\n  '2018/PCI/PCI2004F-2.Chn',\n  '2018/PCI/PCI2102F.Chn',\n  '2018/PCI/PCI2102I.Chn',\n  '2018/PCI/PCI2103F.Chn',\n  '2018/PCI/PCI2103I.Chn',\n  '2018/PCI/PCI2304F.Chn',\n  '2018/PCI/PCI2802F.Chn',\n  '2018/PCI/PCI2802I.Chn',\n  '2018/PNR/prn0103.Chn',\n  '2018/PNR/PRN0111.Chn',\n  '2018/PNR/PRN0208.Chn',\n  '2018/PNR/PRN0305.Chn',\n  '2018/PNR/PRN0410.Chn',\n  '2018/PNR/PRN0507.Chn',\n  '2018/PNR/PRN0609-2.Chn',\n  '2018/PNR/PRN0609.Chn',\n  '2018/PNR/PRN0706.Chn',\n  '2018/PNR/PRN0803.Chn',\n  '2018/PNR/PRN0908.Chn',\n  '2018/PNR/PRN1005.Chn',\n  '2018/PNR/PRN1110.Chn',\n  '2018/PNR/prn1207.Chn',\n  '2018/PNR/PRN1309.Chn',\n  '2018/PNR/PRN1406.Chn',\n  '2018/PNR/PRN1502.Chn',\n  '2018/PNR/PRN1503.Chn',\n  '2018/PNR/PRN1608.Chn',\n  '2018/PNR/PRN1705.Chn',\n  '2018/PNR/PRN1810.Chn',\n  '2018/PNR/PRN1904.Chn',\n  '2018/PNR/PRN1907.Chn',\n  '2018/PNR/PRN2009.Chn',\n  '2018/PNR/PRN2106.Chn',\n  '2018/PNR/PRN2202.Chn',\n  '2018/PNR/PRN2203.Chn',\n  '2018/PNR/PRN2308.Chn',\n  '2018/PNR/PRN2405.Chn',\n  '2018/PNR/PRN2510.Chn',\n  '2018/PNR/PRN2604.Chn',\n  '2018/PNR/PRN2607.Chn',\n  '2018/PNR/prn26072.Chn',\n  '2018/PNR/PRN2709.Chn',\n  '2018/PNR/PRN2806.Chn',\n  '2018/PNR/PRN2903.Chn',\n  '2018/PNR/PRN3005.Chn',\n  '2018/PNR/PRN3008.Chn',\n  '2018/PRF/PRF0103.Chn',\n  '2018/PRF/PRF0111.Chn',\n  '2018/PRF/PRF0208.Chn',\n  '2018/PRF/PRF0305.Chn',\n  '2018/PRF/PRF0410.Chn',\n  '2018/PRF/PRF0504.Chn',\n  '2018/PRF/PRF0507-2.Chn',\n  '2018/PRF/PRF0507.Chn',\n  '2018/PRF/PRF0609.Chn',\n  '2018/PRF/PRF0706.Chn',\n  '2018/PRF/PRF0803.Chn',\n  '2018/PRF/PRF0908.Chn',\n  '2018/PRF/PRF1005.Chn',\n  '2018/PRF/PRF1110.Chn',\n  '2018/PRF/PRF1204.Chn',\n  '2018/PRF/PRF1207.Chn',\n  '2018/PRF/PRF1309.Chn',\n  '2018/PRF/PRF1406.Chn',\n  '2018/PRF/PRF1503.Chn',\n  '2018/PRF/PRF1608.Chn',\n  '2018/PRF/prf1705.Chn',\n  '2018/PRF/PRF1810.Chn',\n  '2018/PRF/PRF1904.Chn',\n  '2018/PRF/PRF1907.Chn',\n  '2018/PRF/PRF2009.Chn',\n  '2018/PRF/PRF2106.Chn',\n  '2018/PRF/PRF2202.Chn',\n  '2018/PRF/PRF2203.Chn',\n  '2018/PRF/PRF2308.Chn',\n  '2018/PRF/PRF2405.Chn',\n  '2018/PRF/PRF2604.Chn',\n  '2018/PRF/PRF2607.Chn',\n  '2018/PRF/PRF2709.Chn',\n  '2018/PRF/PRF2806.Chn',\n  '2018/PRF/PRF2903.Chn',\n  '2018/PRF/PRF3005.Chn',\n  '2018/PRF/PRF3008.Chn',\n  '2018/PTP/PTP0103.Chn',\n  '2018/PTP/PTP0111.Chn',\n  '2018/PTP/PTP0208.Chn',\n  '2018/PTP/PTP0305.Chn',\n  '2018/PTP/PTP0410.Chn',\n  '2018/PTP/PTP0504.Chn',\n  '2018/PTP/PTP0507.Chn',\n  '2018/PTP/PTP0609.Chn',\n  '2018/PTP/PTP0706.Chn',\n  '2018/PTP/PTP0803.Chn',\n  '2018/PTP/PTP0908.Chn',\n  '2018/PTP/PTP1005.Chn',\n  '2018/PTP/PTP1110.Chn',\n  '2018/PTP/PTP1204.Chn',\n  '2018/PTP/PTP1207.Chn',\n  '2018/PTP/PTP1309.Chn',\n  '2018/PTP/PTP1502.Chn',\n  '2018/PTP/PTP1503.Chn',\n  '2018/PTP/PTP1608-1.Chn',\n  '2018/PTP/PTP1608.Chn',\n  '2018/PTP/PTP1705.Chn',\n  '2018/PTP/PTP1810.Chn',\n  '2018/PTP/PTP1904.Chn',\n  '2018/PTP/PTP1907.Chn',\n  '2018/PTP/PTP2009.Chn',\n  '2018/PTP/PTP2106.Chn',\n  '2018/PTP/PTP2202.Chn',\n  '2018/PTP/PTP2203.Chn',\n  '2018/PTP/PTP2308.Chn',\n  '2018/PTP/PTP2405.Chn',\n  '2018/PTP/PTP2510.Chn',\n  '2018/PTP/PTP2604.Chn',\n  '2018/PTP/PTP2607.Chn',\n  '2018/PTP/PTP2709.Chn',\n  '2018/PTP/PTP2806.Chn',\n  '2018/PTP/PTP2903.Chn',\n  '2018/PTP/PTP3005.Chn',\n  '2018/PTP/PTP3008.Chn',\n  '2019/Cci/CCI0210-I (Rep)...(DESCONSID).Chn',\n  '2019/Cci/CCI0210-I.Chn',\n  '2019/Cci/CCI0409-I.Chn',\n  '2019/Cci/CCI0506F (22,13%).Chn',\n  '2019/Cci/CCI0506F-2.Chn',\n  '2019/Cci/CCI0608.Chn',\n  '2019/Cci/CCI0611-I.Chn',\n  '2019/Cci/CCI0711-F.Chn',\n  '2019/Cci/CCI0910-I.Chn',\n  '2019/Cci/CCI1010-F.Chn',\n  '2019/Cci/CCI1109-I.Chn',\n  '2019/Cci/CCI1112-I.Chn',\n  '2019/Cci/CCI1311-I.Chn',\n  '2019/Cci/CCI1405F.Chn',\n  '2019/Cci/CCI1610-I.Chn',\n  '2019/Cci/CCI1809-I 123.Chn',\n  '2019/Cci/CCI1812-I.Chn',\n  '2019/Cci/CCI1907F.Chn',\n  '2019/Cci/CCI2108-F.Chn',\n  '2019/Cci/CCI2108-I.Chn',\n  '2019/Cci/CCI2310-I.Chn',\n  '2019/Cci/CCI2507F.Chn',\n  '2019/Cci/CCI2607.Chn',\n  '2019/Cci/CCI2808-I.Chn',\n  '2019/Cci/cci3007.Chn',\n  '2019/Cci/CCI3008-F.Chn',\n  '2019/Crf/CRF0108.Chn',\n  '2019/Crf/CRF0205.Chn',\n  '2019/Crf/CRF0310 (rep)(seria p CALIB energia no Maestro).Chn',\n  '2019/Crf/CRF0310.Chn',\n  '2019/Crf/CRF0507.Chn',\n  '2019/Crf/CRF0509.Chn',\n  '2019/Crf/CRF0606.Chn',\n  '2019/Crf/CRF0808.Chn',\n  '2019/Crf/CRF1005.Chn',\n  '2019/Crf/CRF1010.Chn',\n  '2019/Crf/CRF1107.Chn',\n  '2019/Crf/CRF1209.Chn',\n  '2019/Crf/CRF1306.Chn',\n  '2019/Crf/CRF1508.Chn',\n  '2019/Crf/CRF1605.Chn',\n  '2019/Crf/CRF1710.Chn',\n  '2019/Crf/CRF1807.Chn',\n  '2019/Crf/CRF1906.Chn',\n  '2019/Crf/CRF1909.Chn',\n  '2019/Crf/CRF2102.Chn',\n  '2019/Crf/CRF2208.Chn',\n  '2019/Crf/CRF2305.Chn',\n  '2019/Crf/CRF2507.Chn',\n  '2019/Crf/CRF2609.Chn',\n  '2019/Crf/CRF2706.Chn',\n  '2019/Crf/CRF2802.Chn',\n  '2019/Crf/CRF2908.Chn',\n  '2019/Crf/CRF3005.Chn',\n  '2019/Crn/CRN0108.Chn',\n  '2019/Crn/CRN0205.Chn',\n  '2019/Crn/CRN0310.Chn',\n  '2019/Crn/CRN0507.Chn',\n  '2019/Crn/CRN0509.Chn',\n  '2019/Crn/CRN0512.Chn',\n  '2019/Crn/CRN0606.Chn',\n  '2019/Crn/CRN0703.Chn',\n  '2019/Crn/CRN0711.Chn',\n  '2019/Crn/CRN0808.Chn',\n  '2019/Crn/CRN1005.Chn',\n  '2019/Crn/CRN1010.Chn',\n  '2019/Crn/CRN1107.Chn',\n  '2019/Crn/CRN1209.Chn',\n  '2019/Crn/CRN1212.Chn',\n  '2019/Crn/CRN1306.Chn',\n  '2019/Crn/CRN1411.Chn',\n  '2019/Crn/CRN1508.Chn',\n  '2019/Crn/CRN1605.Chn',\n  '2019/Crn/CRN1710.Chn',\n  '2019/Crn/CRN1807.Chn',\n  '2019/Crn/CRN1906.Chn',\n  '2019/Crn/CRN1909.Chn',\n  '2019/Crn/CRN1912.Chn',\n  '2019/Crn/CRN2102.Chn',\n  '2019/Crn/CRN2111.Chn',\n  '2019/Crn/CRN2208.Chn',\n  '2019/Crn/CRN2305.Chn',\n  '2019/Crn/CRN2410.Chn',\n  '2019/Crn/CRN2507.Chn',\n  '2019/Crn/CRN2609.Chn',\n  '2019/Crn/CRN2612.Chn',\n  '2019/Crn/CRN2706.Chn',\n  '2019/Crn/CRN2802.Chn',\n  '2019/Crn/CRN2811.Chn',\n  '2019/Crn/CRN2908.Chn',\n  '2019/Crn/CRN3005.Chn',\n  '2019/Crn/CRN3110.Chn',\n  '2019/Ctp/CTP0102-3.Chn',\n  '2019/Ctp/CTP0108-2.Chn',\n  '2019/Ctp/CTP0205-2.Chn',\n  '2019/Ctp/CTP0310-2 (10,05%).Chn',\n  '2019/Ctp/CTP0310-3 (5,46%).Chn',\n  '2019/Ctp/CTP0507.Chn',\n  '2019/Ctp/CTP0509-2 (10,76%).Chn',\n  '2019/Ctp/CTP0509-3 (8,10%).Chn',\n  '2019/Ctp/CTP0512-2 (5,33%).Chn',\n  '2019/Ctp/CTP0606-2 (7,77%).Chn',\n  '2019/Ctp/CTP0702-1.Chn',\n  '2019/Ctp/CTP0711-3 (7,72%).Chn',\n  '2019/Ctp/CTP0808-2.Chn',\n  '2019/Ctp/CTP1005-2 (10,67%).Chn',\n  '2019/Ctp/CTP1005-3.Chn',\n  '2019/Ctp/CTP1010-4 (9,54%).Chn',\n  '2019/Ctp/CTP11073.Chn',\n  '2019/Ctp/CTP1209-3 (5,31%).Chn',\n  '2019/Ctp/CTP1212-2 (7,31%).Chn',\n  '2019/Ctp/CTP1306-2 (7,07%).Chn',\n  '2019/Ctp/CTP1402.Chn',\n  '2019/Ctp/CTP1411-2 (6,78%).Chn',\n  '2019/Ctp/CTP1508-4 (7,67%).Chn',\n  '2019/Ctp/CTP1605-2 (7,53%).Chn',\n  '2019/Ctp/CTP1710-3 (8,33%).Chn',\n  '2019/Ctp/CTP1807.Chn',\n  '2019/Ctp/CTP1906-2 (4,70%).Chn',\n  '2019/Ctp/CTP1909-3 (6,70%).Chn',\n  '2019/Ctp/CTP1912-2 (6,90%).Chn',\n  '2019/Ctp/CTP2111-2 (9,91%)(Descons).Chn',\n  '2019/Ctp/CTP2111-3 (9,17%).Chn',\n  '2019/Ctp/CTP2208-3 (6,39%).Chn',\n  '2019/Ctp/CTP2305-3 (7,75%).Chn',\n  '2019/Ctp/CTP2410-3 (6,14%).Chn',\n  '2019/Ctp/CTP2504-3 (3,26%) (tb no Det LoBG).Chn',\n  '2019/Ctp/CTP2507-2.Chn',\n  '2019/Ctp/CTP2609-2 (9,26%).Chn',\n  '2019/Ctp/CTP2612-2 5ks (5,31%).Chn',\n  '2019/Ctp/CTP2706-2.Chn',\n  '2019/Ctp/CTP2811-2 (7,31%).Chn',\n  '2019/Ctp/CTP2908-2 (7,57%).Chn',\n  '2019/Ctp/CTP3005-3 (7,86%).Chn',\n  '2019/Ctp/CTP3110-3 (10,05%).Chn',\n  '2019/Ctp/t_morto/CTP 19 6 19 100s.Chn',\n  '2019/Ctp/t_morto/CTP 250719 100s.Chn',\n  '2019/Ctp/t_morto/CTP0108-1.Chn',\n  '2019/Ctp/t_morto/CTP0205-1 (28,86%).Chn',\n  '2019/Ctp/t_morto/CTP0310-1 (17,64%).Chn',\n  '2019/Ctp/t_morto/CTP0507-1 (9,26%).Chn',\n  '2019/Ctp/t_morto/CTP0509-1 (19,42%).Chn',\n  '2019/Ctp/t_morto/CTP0512-1 (14,2%).Chn',\n  '2019/Ctp/t_morto/CTP0606_100s.Chn',\n  '2019/Ctp/t_morto/CTP0711-1 (23,28%).Chn',\n  '2019/Ctp/t_morto/CTP0711-2 (12,96%).Chn',\n  '2019/Ctp/t_morto/CTP0808-1.Chn',\n  '2019/Ctp/t_morto/CTP100519-1.Chn',\n  '2019/Ctp/t_morto/CTP1010-1 (412,72%).Chn',\n  '2019/Ctp/t_morto/CTP1010-2 (34,54%).Chn',\n  '2019/Ctp/t_morto/CTP1010-3 (18,10%).Chn',\n  '2019/Ctp/t_morto/CTP1010-4 (9,56%).Chn',\n  '2019/Ctp/t_morto/CTP1107-1 (28,44%).Chn',\n  '2019/Ctp/t_morto/CTP1107-2 (12,38%).Chn',\n  '2019/Ctp/t_morto/CTP1209-1 (16,6%).Chn',\n  '2019/Ctp/t_morto/CTP1209-2 (12,46%) 100s.Chn',\n  '2019/Ctp/t_morto/CTP1212-1 (13,52%).Chn',\n  '2019/Ctp/t_morto/CTP1306-1 (12,58%).Chn',\n  '2019/Ctp/t_morto/CTP1411-1 (11,46%).Chn',\n  '2019/Ctp/t_morto/CTP1508-1(36,5%).Chn',\n  '2019/Ctp/t_morto/CTP1508-2 (27,10%).Chn',\n  '2019/Ctp/t_morto/CTP1508-3 (14,30%).Chn',\n  '2019/Ctp/t_morto/CTP16051.Chn',\n  '2019/Ctp/t_morto/CTP1710 (38%).Chn',\n  '2019/Ctp/t_morto/CTP1710-2 (15,34%).Chn',\n  '2019/Ctp/t_morto/CTP1807-1 (12,08%).Chn',\n  '2019/Ctp/t_morto/CTP1909-1 (22,02%).Chn',\n  '2019/Ctp/t_morto/CTP1909-2 (12,56%).Chn',\n  '2019/Ctp/t_morto/CTP1912-1 (28.72%).Chn',\n  '2019/Ctp/t_morto/CTP1912-2 (6,92%).Chn',\n  '2019/Ctp/t_morto/CTP2102-1.Chn',\n  '2019/Ctp/t_morto/CTP2102-2.Chn',\n  '2019/Ctp/t_morto/CTP2111-1 (15,92%).Chn',\n  '2019/Ctp/t_morto/CTP2111-2 (9,92%).Chn',\n  '2019/Ctp/t_morto/CTP2111-3 (9,22%).Chn',\n  '2019/Ctp/t_morto/CTP2208-1 (19,5%).Chn',\n  '2019/Ctp/t_morto/CTP2208-2 (11,88%).Chn',\n  '2019/Ctp/t_morto/CTP2305-1 (43,80%).Chn',\n  '2019/Ctp/t_morto/CTP2305-2 (20,44%).Chn',\n  '2019/Ctp/t_morto/CTP2410 (19.5%).Chn',\n  '2019/Ctp/t_morto/CTP2410-2 (11,24%).Chn',\n  '2019/Ctp/t_morto/CTP2609-1 (16,32%).Chn',\n  '2019/Ctp/t_morto/CTP2612-1.Chn',\n  '2019/Ctp/t_morto/CTP2612-2 (7,54%).Chn',\n  '2019/Ctp/t_morto/CTP2706.Chn',\n  '2019/Ctp/t_morto/CTP2802-1.Chn',\n  '2019/Ctp/t_morto/CTP2811-1 (11,44%).Chn',\n  '2019/Ctp/t_morto/CTP2908-1 (14,6%).Chn',\n  '2019/Ctp/t_morto/CTP3005-2 (12,32%).Chn',\n  '2019/Ctp/t_morto/CTP3005_1.Chn',\n  '2019/Ctp/t_morto/CTP3110-1 (33,44%).Chn',\n  '2019/Ctp/t_morto/CTP3110-2 (19,14%).Chn',\n  '2019/Ctp/t_morto/CTP3110-3 (10,06%).Chn',\n  '2019/Pci/PCI0210-I.Chn',\n  '2019/Pci/PCI0409-I.Chn',\n  '2019/Pci/PCI0506F.Chn',\n  '2019/Pci/PCI0608.Chn',\n  '2019/Pci/PCI0611-I123.Chn',\n  '2019/Pci/PCI0711-F.Chn',\n  '2019/Pci/PCI0910-I.Chn',\n  '2019/Pci/PCI1010-F.Chn',\n  '2019/Pci/PCI1109-I.Chn',\n  '2019/Pci/PCI1112-I (com plaqueta).Chn',\n  '2019/Pci/PCI1112-I (sem plaqueta).Chn',\n  '2019/Pci/PCI1311-I.Chn',\n  '2019/Pci/PCI1405F.Chn',\n  '2019/Pci/PCI1610-I.Chn',\n  '2019/Pci/PCI1809-I123.Chn',\n  '2019/Pci/PCI1812-I.Chn',\n  '2019/Pci/PCI1907F.Chn',\n  '2019/Pci/PCI2108-F.Chn',\n  '2019/Pci/PCI2108-I.Chn',\n  '2019/Pci/PCI2310-I.Chn',\n  '2019/Pci/PCI2507F.Chn',\n  '2019/Pci/PCI2607.Chn',\n  '2019/Pci/PCI2808-I.Chn',\n  '2019/Pci/PCI3007.Chn',\n  '2019/Pci/PCI3008-F.Chn',\n  '2019/Pnr/PRN0108.Chn',\n  '2019/Pnr/PRN0310.Chn',\n  '2019/Pnr/PRN0507.Chn',\n  '2019/Pnr/PRN0509.Chn',\n  '2019/Pnr/PRN0512.Chn',\n  '2019/Pnr/PRN0606.Chn',\n  '2019/Pnr/PRN0703.Chn',\n  '2019/Pnr/PRN0711.Chn',\n  '2019/Pnr/PRN0808.Chn',\n  '2019/Pnr/PRN1005.Chn',\n  '2019/Pnr/PRN1010.Chn',\n  '2019/Pnr/PRN1107.Chn',\n  '2019/Pnr/PRN1209.Chn',\n  '2019/Pnr/PRN1212.Chn',\n  '2019/Pnr/PRN1306.Chn',\n  '2019/Pnr/PRN1411.Chn',\n  '2019/Pnr/PRN1508.Chn',\n  '2019/Pnr/PRN1605.Chn',\n  '2019/Pnr/PRN1710.Chn',\n  '2019/Pnr/PRN1807.Chn',\n  '2019/Pnr/PRN1906.Chn',\n  '2019/Pnr/PRN1909.Chn',\n  '2019/Pnr/PRN1912.Chn',\n  '2019/Pnr/PRN2102.Chn',\n  '2019/Pnr/PRN2111.Chn',\n  '2019/Pnr/PRN2208.Chn',\n  '2019/Pnr/PRN2305.Chn',\n  '2019/Pnr/PRN2410.Chn',\n  '2019/Pnr/PRN2507.Chn',\n  '2019/Pnr/PRN2609.Chn',\n  '2019/Pnr/PRN2612.Chn',\n  '2019/Pnr/PRN2706.Chn',\n  '2019/Pnr/PRN2802.Chn',\n  '2019/Pnr/PRN2811-Rep.Chn',\n  '2019/Pnr/PRN2811.Chn',\n  '2019/Pnr/PRN2908.Chn',\n  '2019/Pnr/PRN3005.Chn',\n  '2019/Pnr/PRN3110.Chn',\n  '2019/Prf/PRF0108.Chn',\n  '2019/Prf/PRF0310.Chn',\n  '2019/Prf/PRF0507.Chn',\n  '2019/Prf/PRF0509.Chn',\n  '2019/Prf/PRF0606.Chn',\n  '2019/Prf/PRF0703-ruim-2.Chn',\n  '2019/Prf/PRF0703-ruim.Chn',\n  '2019/Prf/PRF0808.Chn',\n  '2019/Prf/PRF1005.Chn',\n  '2019/Prf/PRF1010.Chn',\n  '2019/Prf/PRF1107.Chn',\n  '2019/Prf/PRF1209.Chn',\n  '2019/Prf/PRF1306.Chn',\n  '2019/Prf/PRF1508.Chn',\n  '2019/Prf/PRF1605.Chn',\n  '2019/Prf/PRF1710.Chn',\n  '2019/Prf/PRF1807.Chn',\n  '2019/Prf/PRF1906.Chn',\n  '2019/Prf/PRF1909.Chn',\n  '2019/Prf/PRF2102.Chn',\n  '2019/Prf/PRF2208.Chn',\n  '2019/Prf/PRF2305.Chn',\n  '2019/Prf/PRF2507.Chn',\n  '2019/Prf/PRF2609.Chn',\n  '2019/Prf/PRF2706.Chn',\n  '2019/Prf/PRF2802.Chn',\n  '2019/Prf/PRF2908.Chn',\n  '2019/Prf/PRF3005.Chn',\n  '2019/Ptp/PTP0108.Chn',\n  '2019/Ptp/PTP0310.Chn',\n  '2019/Ptp/PTP0507.Chn',\n  '2019/Ptp/PTP0509.Chn',\n  '2019/Ptp/PTP0512.Chn',\n  '2019/Ptp/PTP0606.Chn',\n  '2019/Ptp/PTP0703.Chn',\n  '2019/Ptp/PTP0711.Chn',\n  '2019/Ptp/PTP0808.Chn',\n  '2019/Ptp/PTP1005.Chn',\n  '2019/Ptp/PTP1010.Chn',\n  '2019/Ptp/PTP1107.Chn',\n  '2019/Ptp/PTP1209.Chn',\n  '2019/Ptp/PTP1212.Chn',\n  '2019/Ptp/PTP1306.Chn',\n  '2019/Ptp/PTP1411.Chn',\n  '2019/Ptp/PTP1508.Chn',\n  '2019/Ptp/PTP1605.Chn',\n  '2019/Ptp/PTP1710.Chn',\n  '2019/Ptp/PTP1807.Chn',\n  '2019/Ptp/PTP1906.Chn',\n  '2019/Ptp/PTP1909.Chn',\n  '2019/Ptp/PTP1912.Chn',\n  '2019/Ptp/PTP2102.Chn',\n  '2019/Ptp/PTP2111.Chn',\n  '2019/Ptp/PTP2208.Chn',\n  '2019/Ptp/PTP2305.Chn',\n  '2019/Ptp/PTP2410 rep.Chn',\n  '2019/Ptp/PTP2410.Chn',\n  '2019/Ptp/PTP2507.Chn',\n  '2019/Ptp/PTP2609.Chn',\n  '2019/Ptp/PTP2612.Chn',\n  '2019/Ptp/PTP2706.Chn',\n  '2019/Ptp/PTP2811-Rep.Chn',\n  '2019/Ptp/PTP2811.Chn',\n  '2019/Ptp/PTP2908.Chn',\n  '2019/Ptp/PTP3005.Chn',\n  '2019/Ptp/PTP3110.Chn',\n  '2020/Cci/CCI-1507-I.Chn',\n  '2020/Cci/CCI0107-I.Chn',\n  '2020/Cci/CCI0212-I.Chn',\n  '2020/Cci/CCI0508-I.Chn',\n  '2020/Cci/CCI0801-I.Chn',\n  '2020/Cci/CCI0807-I.Chn',\n  '2020/Cci/CCI0912-F.Chn',\n  '2020/Cci/CCI0912-I.Chn',\n  '2020/Cci/CCI1103-I.Chn',\n  '2020/Cci/CCI1202-I.Chn',\n  '2020/Cci/CCI1208-I.Chn',\n  '2020/Cci/CCI1501-I.Chn',\n  '2020/Cci/CCI1504-I.Chn',\n  '2020/Cci/CCI1601-F.Chn',\n  '2020/Cci/CCI1612-I.Chn',\n  '2020/Cci/CCI1706-I.Chn',\n  '2020/Cci/CCI1802-F.Chn',\n  '2020/Cci/CCI1803-I.Chn',\n  '2020/Cci/CCI1902-I.Chn',\n  '2020/Cci/CCI1908-I.Chn',\n  '2020/Cci/CCI2205-I.Chn',\n  '2020/Cci/CCI2207-I.Chn',\n  '2020/Cci/CCI2301-F.Chn',\n  '2020/Cci/CCI2301-I.Chn',\n  '2020/Cci/CCI2304-I.Chn',\n  '2020/Cci/CCI2406 -I.Chn',\n  '2020/Cci/CCI2503-I.Chn',\n  '2020/Cci/CCI2608-I.Chn',\n  '2020/Cci/CCI2702-F.Chn',\n  '2020/Cci/CCI2705-I.Chn',\n  '2020/Cci/CCI2901-F.Chn',\n  '2020/Cci/CCI2901-I.Chn',\n  '2020/Cci/CCI2907-I.Chn',\n  '2020/Crn/CRN0201.Chn',\n  '2020/Crn/CRN0204.Chn',\n  '2020/Crn/CRN0503.Chn',\n  '2020/Crn/CRN0602.Chn',\n  '2020/Crn/CRN0901.Chn',\n  '2020/Crn/CRN0904.Chn',\n  '2020/Crn/CRN1203.Chn',\n  '2020/Crn/CRN1302.Chn',\n  '2020/Crn/CRN1601.Chn',\n  '2020/Crn/CRN1903.Chn',\n  '2020/Crn/CRN2002.Chn',\n  '2020/Crn/CRN2301.Chn',\n  '2020/Crn/CRN2603.Chn',\n  '2020/Crn/CRN2702.Chn',\n  '2020/Crn/CRN3001.Chn',\n  '2020/Ctp/CTP0201-1 5ks (7,71%).Chn',\n  '2020/Ctp/CTP0204.Chn',\n  '2020/Ctp/CTP0207-1 (10,79%).Chn',\n  '2020/Ctp/CTP0207-2 (5,86%).Chn',\n  '2020/Ctp/CTP0406-2 (5,90%).Chn',\n  '2020/Ctp/CTP0412-2 (6,02%).Chn',\n  '2020/Ctp/CTP0503 5ks (3,27%).Chn',\n  '2020/Ctp/CTP0602-1(4,9%).Chn',\n  '2020/Ctp/CTP0901-1 (8,93%).Chn',\n  '2020/Ctp/CTP0904 (1,05%).Chn',\n  '2020/Ctp/CTP1012 (6,44%).Chn',\n  '2020/Ctp/CTP1203 (4,54%).Chn',\n  '2020/Ctp/CTP1206 (8,60%).Chn',\n  '2020/Ctp/CTP1302-1 (7,3%).Chn',\n  '2020/Ctp/ctp1302.Chn',\n  '2020/Ctp/CTP1405-3 (10,32%).Chn',\n  '2020/Ctp/CTP1601-2 (7,80%).Chn',\n  '2020/Ctp/CTP1604 (1,02%)(é 2%).Chn',\n  '2020/Ctp/CTP1707.Chn',\n  '2020/Ctp/CTP1806 (5,23%).Chn',\n  '2020/Ctp/CTP1812-2 (8,23%).Chn',\n  '2020/Ctp/CTP1903 (7,94%).Chn',\n  '2020/Ctp/CTP2002-1 (14,3%).Chn',\n  '2020/Ctp/CTP2002-3 (6,34%).Chn',\n  '2020/Ctp/CTP2002.Chn',\n  '2020/Ctp/CTP2008-2 (8,55%).Chn',\n  '2020/Ctp/CTP2205-4 (6,07%).Chn',\n  '2020/Ctp/CTP2304-3 (10,25%).Chn',\n  '2020/Ctp/CTP2312 (7,56%).Chn',\n  '2020/Ctp/CTP2407-4 (7,78%).Chn',\n  '2020/Ctp/CTP2506.Chn',\n  '2020/Ctp/CTP2603.Chn',\n  '2020/Ctp/CTP2702-1 (8,63%).Chn',\n  '2020/Ctp/CTP2711-2 (9,07%).Chn',\n  '2020/Ctp/CTP2805-3 (7,63%).Chn',\n  '2020/Ctp/CTP3001-1 (7,63%).Chn',\n  '2020/Ctp/CTP3004-2 (11,34%).Chn',\n  '2020/Ctp/CTP3007-3 (8,63%).Chn',\n  '2020/Ctp/CTP3012-2 (6,10%).Chn',\n  '2020/Ctp/t_morto/CTP0201-1 (7,04%).Chn',\n  '2020/Ctp/t_morto/CTP0406-1 (13,00%).Chn',\n  '2020/Ctp/t_morto/CTP0412-1 (10,22%).Chn',\n  '2020/Ctp/t_morto/CTP0705-1 (46,54%).Chn',\n  '2020/Ctp/t_morto/CTP0705-2 (18,88%).Chn',\n  '2020/Ctp/t_morto/CTP0705-3 (10,26%).Chn',\n  '2020/Ctp/t_morto/CTP0901-1 (7,1%).Chn',\n  '2020/Ctp/t_morto/CTP0901-1 (8,96%)ok.Chn',\n  '2020/Ctp/t_morto/CTP0907-1 (28,62%).Chn',\n  '2020/Ctp/t_morto/CTP0907-2 (13,32%).Chn',\n  '2020/Ctp/t_morto/CTP0907-3 (7,14%).Chn',\n  '2020/Ctp/t_morto/CTP1308-1 (46,36%).Chn',\n  '2020/Ctp/t_morto/CTP1308-2 (23,12%).Chn',\n  '2020/Ctp/t_morto/CTP1308-3 (10,85%)(5ks).Chn',\n  '2020/Ctp/t_morto/CTP1308-3 (10,98%).Chn',\n  '2020/Ctp/t_morto/CTP1405-1 (29,54%).Chn',\n  '2020/Ctp/t_morto/CTP1405-2 (15,60%).Chn',\n  '2020/Ctp/t_morto/CTP1601-1 (13,86%).Chn',\n  '2020/Ctp/t_morto/CTP1601-2 (7,82%).Chn',\n  '2020/Ctp/t_morto/CTP1812-1 (11,28%).Chn',\n  '2020/Ctp/t_morto/CTP2008-1 (18,24%).Chn',\n  '2020/Ctp/t_morto/CTP2205-1 (35,80%).Chn',\n  '2020/Ctp/t_morto/CTP2205-2 (23,14%).Chn',\n  '2020/Ctp/t_morto/CTP2205-3 (12,16%) 5ks.Chn',\n  '2020/Ctp/t_morto/CTP2205-3 (12,32%).Chn',\n  '2020/Ctp/t_morto/CTP2304-1 (37,40%).Chn',\n  '2020/Ctp/t_morto/CTP2304-2 (1,17%)(é 17%).Chn',\n  '2020/Ctp/t_morto/CTP2407-1 (43,02%).Chn',\n  '2020/Ctp/t_morto/CTP2407-2 (29,12%).Chn',\n  '2020/Ctp/t_morto/CTP2407-3 (24,36%).Chn',\n  '2020/Ctp/t_morto/CTP2702-1 (8,66%).Chn',\n  '2020/Ctp/t_morto/CTP2805-1 (29,68%).Chn',\n  '2020/Ctp/t_morto/CTP2805-2 (15,62%).Chn',\n  '2020/Ctp/t_morto/CTP3001-1 (7,64%).Chn',\n  '2020/Ctp/t_morto/CTP3004-1 (1,19%)(é 19%).Chn',\n  '2020/Ctp/t_morto/CTP3004-2 (5,00%).Chn',\n  '2020/Ctp/t_morto/CTP3007-1 (53,94%).Chn',\n  '2020/Ctp/t_morto/CTP3007-2 (16,08%).Chn',\n  '2020/Ctp/t_morto/CTP3012-1 (12,57%) 5ks.Chn',\n  '2020/Pci/PCI0801-I.Chn',\n  '2020/Pci/PCI1501-I.Chn',\n  '2020/Pci/PCI1601-F.Chn',\n  '2020/Pci/PCI2301-F.Chn',\n  '2020/Pci/PCI2301-I.Chn',\n  '2020/Pnr/PRN0201.Chn',\n  '2020/Pnr/PRN0204.Chn',\n  '2020/Pnr/PRN0503.Chn',\n  '2020/Pnr/PRN0602.Chn',\n  '2020/Pnr/PRN0901.Chn',\n  '2020/Pnr/PRN0904.Chn',\n  '2020/Pnr/PRN1203.Chn',\n  '2020/Pnr/PRN1302.Chn',\n  '2020/Pnr/PRN1601.Chn',\n  '2020/Pnr/PRN1903.Chn',\n  '2020/Pnr/PRN2002.Chn',\n  '2020/Pnr/PRN2301.Chn',\n  '2020/Pnr/PRN2603.Chn',\n  '2020/Pnr/PRN2702.Chn',\n  '2020/Pnr/PRN3001.Chn',\n  '2020/Ptp/PTP0201.Chn',\n  '2020/Ptp/PTP0204.Chn',\n  '2020/Ptp/PTP0207.Chn',\n  '2020/Ptp/PTP0406.Chn',\n  '2020/Ptp/PTP0412.Chn',\n  '2020/Ptp/PTP0503.Chn',\n  '2020/Ptp/PTP0602.Chn',\n  '2020/Ptp/PTP0705.Chn',\n  '2020/Ptp/PTP0901.Chn',\n  '2020/Ptp/PTP0901ok.Chn',\n  '2020/Ptp/PTP0904.Chn',\n  '2020/Ptp/PTP0907.Chn',\n  '2020/Ptp/PTP1012.Chn',\n  '2020/Ptp/PTP1203.Chn',\n  '2020/Ptp/PTP1206.Chn',\n  '2020/Ptp/PTP1302.Chn',\n  '2020/Ptp/PTP1308.Chn',\n  '2020/Ptp/PTP1405.Chn',\n  '2020/Ptp/PTP1601.Chn',\n  '2020/Ptp/PTP1604.Chn',\n  '2020/Ptp/PTP1707.Chn',\n  '2020/Ptp/PTP1806.Chn',\n  '2020/Ptp/PTP1812.Chn',\n  '2020/Ptp/PTP1903.Chn',\n  '2020/Ptp/PTP2002.Chn',\n  '2020/Ptp/PTP2008.Chn',\n  '2020/Ptp/PTP2205.Chn',\n  '2020/Ptp/PTP2304.Chn',\n  '2020/Ptp/PTP2312.Chn',\n  '2020/Ptp/PTP2407.Chn',\n  '2020/Ptp/PTP2506.Chn',\n  '2020/Ptp/PTP2603.Chn',\n  '2020/Ptp/PTP2702.Chn',\n  '2020/Ptp/PTP2805.Chn',\n  '2020/Ptp/PTP3001.Chn',\n  '2020/Ptp/PTP3004.Chn',\n  '2020/Ptp/PTP3007.Chn',\n  '2020/Ptp/PTP3012.Chn',\n  '2021/cal 08 11 21 GMX.Chn',\n  '2021/Co60cal.Chn',\n  '2021/grrteste1.Chn',\n  '2021/MNR 5a.Chn',\n  '2021/SI07418+CTP0305.Chn',\n  '2021/teste-2021-ago.Chn',\n  '2021/CaL Co-60/03-01-2020.Chn',\n  '2021/CaL Co-60/07-01-21.Chn',\n  '2021/CaL Co-60/15-jun-2021-A.Chn',\n  '2021/CaL Co-60/15-jun-2021-B.Chn',\n  '2021/CaL Co-60/15-jun-2021-C.Chn',\n  '2021/CaL Co-60/15-jun-2021-D.Chn',\n  '2021/CaL Co-60/15-jun-2021-E.Chn',\n  '2021/CaL Co-60/18-ago-2020.Chn',\n  '2021/CaL Co-60/19-ago-2021.Chn',\n  '2021/CaL Co-60/2021-03-17.Chn',\n  '2021/CaL Co-60/23-jun-2021.Chn',\n  '2021/CaL Co-60/28-jul-2021_5k.Chn',\n  '2021/CaL Co-60/Eu-152.Chn',\n  '2021/CaL Co-60/GMX_2021-01jan-19.Chn',\n  '2021/descarte ativ/AM1-18-10-26.Chn',\n  '2021/descarte ativ/AM2-18-10-26.Chn',\n  '2021/descarte ativ/Papel Al 17 06 2019.Chn',\n  '2021/Petrobrás/P1 10ks/P1 LIQ.Chn',\n  '2021/Petrobrás/P1 10ks/P1.1.1.Chn',\n  '2021/Petrobrás/P1 10ks/P1.1.2.Chn',\n  '2021/Petrobrás/P1 10ks/P1.1.3.Chn',\n  '2021/Petrobrás/P1 10ks/P1.2.1.Chn',\n  '2021/Petrobrás/P1 10ks/P1.2.2.Chn',\n  '2021/Petrobrás/P1 10ks/P1.2.3.Chn',\n  '2021/Petrobrás/P1 10ks/P1.3.1.Chn',\n  '2021/Petrobrás/P1 10ks/P1.3.2.Chn',\n  '2021/Petrobrás/P1 10ks/P1.3.3.Chn',\n  '2021/Petrobrás/P1 20ks/P1.1.3 20ks.Chn',\n  '2021/Petrobrás/P1 20ks/P1.2.3 20ks.Chn',\n  '2021/Petrobrás/P1 5ks/P1.1.1.Chn',\n  '2021/Petrobrás/P1 5ks/P1.1.2.Chn',\n  '2021/Petrobrás/P1 5ks/P1.1.3.Chn',\n  '2021/Petrobrás/P10 5ks/P10.1,LIQ 10ks.Chn',\n  '2021/Petrobrás/P10 5ks/P10.1,LIQ 50ks.Chn',\n  '2021/Petrobrás/P10 5ks/P10.1.1 10ks.Chn',\n  '2021/Petrobrás/P10 5ks/P10.1.1.Chn',\n  '2021/Petrobrás/P10 5ks/P10.1.2.Chn',\n  '2021/Petrobrás/P10 5ks/P10.2.1.Chn',\n  '2021/Petrobrás/P10 5ks/P10.2.2.Chn',\n  '2021/Petrobrás/P10 5ks/P10.3.1.Chn',\n  '2021/Petrobrás/P10 5ks/P10.3.2.Chn',\n  '2021/Petrobrás/P10 5ks/P10.C1.Chn',\n  '2021/Petrobrás/P10 5ks/P10.C2.Chn',\n  '2021/Petrobrás/P11 5ks/P 11.3.Chn',\n  '2021/Petrobrás/P11 5ks/P11.1.Chn',\n  '2021/Petrobrás/P11 5ks/P11.10.Chn',\n  '2021/Petrobrás/P11 5ks/P11.2.Chn',\n  '2021/Petrobrás/P11 5ks/P11.4.Chn',\n  '2021/Petrobrás/P11 5ks/P11.5.Chn',\n  '2021/Petrobrás/P11 5ks/P11.6.Chn',\n  '2021/Petrobrás/P11 5ks/P11.7.Chn',\n  '2021/Petrobrás/P11 5ks/P11.8.Chn',\n  '2021/Petrobrás/P11 5ks/P11.9.Chn',\n  '2021/Petrobrás/P12 5ks/P12.1.Chn',\n  '2021/Petrobrás/P12 5ks/P12.2.Chn',\n  '2021/Petrobrás/P12 5ks/P12.3.Chn',\n  '2021/Petrobrás/P12 5ks/P12.4.Chn',\n  '2021/Petrobrás/P12 5ks/P12.5.Chn',\n  '2021/Petrobrás/P12 5ks/P12.6.Chn',\n  '2021/Petrobrás/P12 5ks/P12.7.Chn',\n  '2021/Petrobrás/P12 5ks/P12.8.Chn',\n  '2021/Petrobrás/P12 5ks/P12.9.Chn',\n  '2021/Petrobrás/P12 5ks/P12.LIQ 50ks.Chn',\n  '2021/Petrobrás/P2 10ks/P2.1.1.Chn',\n  '2021/Petrobrás/P2 10ks/P2.1.2.Chn',\n  '2021/Petrobrás/P2 10ks/P2.2.1.Chn',\n  '2021/Petrobrás/P2 10ks/P2.2.2.Chn',\n  '2021/Petrobrás/P2 10ks/P2.3.1.Chn',\n  '2021/Petrobrás/P2 10ks/P2.3.2.Chn',\n  '2021/Petrobrás/P2 5ks/P2.1.1.Chn',\n  '2021/Petrobrás/P2 5ks/P2.1.2.Chn',\n  '2021/Petrobrás/P3 10ks/P3.1.Chn',\n  '2021/Petrobrás/P3 10ks/P3.10.L╓Q.Chn',\n  '2021/Petrobrás/P3 10ks/P3.2.Chn',\n  '2021/Petrobrás/P3 10ks/P3.3.Chn',\n  '2021/Petrobrás/P3 10ks/P3.4.Chn',\n  '2021/Petrobrás/P3 10ks/P3.5.Chn',\n  '2021/Petrobrás/P3 10ks/P3.6.Chn',\n  '2021/Petrobrás/P3 10ks/P3.7.Chn',\n  '2021/Petrobrás/P3 10ks/P3.9.Chn',\n  '2021/Petrobrás/P3 10ks/P310.LIQ20ks.Chn',\n  '2021/Petrobrás/P3 5 ks/P3.1.Chn',\n  '2021/Petrobrás/P3 5 ks/P3.10 LIQ.Chn',\n  '2021/Petrobrás/P3 5 ks/P3.3.Chn',\n  '2021/Petrobrás/P3 5 ks/P3.5.Chn',\n  '2021/Petrobrás/P3 5 ks/P3.7.Chn',\n  '2021/Petrobrás/P3 5 ks/P3.8.Chn',\n  '2021/Petrobrás/P4 10ks/P4 L╓Q.Chn',\n  '2021/Petrobrás/P4 10ks/P4.1.Chn',\n  '2021/Petrobrás/P4 10ks/P4.2.Chn',\n  '2021/Petrobrás/P4 5ks/P.4 Incrustac╞o.Chn',\n  '2021/Petrobrás/P4 5ks/P.4 Líquida.Chn',\n  '2021/Petrobrás/P4 5ks/P.4.1 Borra.Chn',\n  '2021/Petrobrás/P4 5ks/P.4.2 Borra.Chn',\n  '2021/Petrobrás/P4 5ks/P4 LIQ.Chn',\n  '2021/Petrobrás/P5 10ks/P.5.2.1.Chn',\n  '2021/Petrobrás/P5 10ks/P.5.2.2.Chn',\n  '2021/Petrobrás/P5 10ks/P5.1.1.Chn',\n  '2021/Petrobrás/P5 10ks/P5.1.2.Chn',\n  '2021/Petrobrás/P5 10ks/P5.1.3.Chn',\n  '2021/Petrobrás/P5 10ks/P5.2.3.Chn',\n  '2021/Petrobrás/P5 10ks/P5.3.1.Chn',\n  '2021/Petrobrás/P5 10ks/P5.3.2.Chn',\n  '2021/Petrobrás/P5 10ks/P5.3.3.Chn',\n  '2021/Petrobrás/P5 5ks/P5.1.1.Chn',\n  '2021/Petrobrás/P5 5ks/P5.1.2.Chn',\n  '2021/Petrobrás/P5 5ks/P5.1.3.Chn',\n  '2021/Petrobrás/P6 5ks/P.6.10.Chn',\n  '2021/Petrobrás/P6 5ks/P6.1.Chn',\n  '2021/Petrobrás/P6 5ks/P6.3.Chn',\n  '2021/Petrobrás/P6 5ks/P6.5.Chn',\n  '2021/Petrobrás/P6 5ks/P6.8.Chn',\n  '2021/Petrobrás/P7 5ks/P7.1.1.Chn',\n  '2021/Petrobrás/P7 5ks/P7.1.2.Chn',\n  '2021/Petrobrás/P7 5ks/P7.LIQ 50ks.Chn',\n  '2021/Petrobrás/P7 5ks/P7LIQ.Chn',\n  '2021/Petrobrás/P9 5ks/P9 LIQ+FUNDO.Chn',\n  '2021/Petrobrás/P9 5ks/P9.1.1 INCRUSTACOES.Chn',\n  '2021/Petrobrás/P9 5ks/P9.1.2.Chn',\n  '2021/Petrobrás/P9 5ks/P9 EQUIL/P9 LIQ+FUNDO.Chn',\n  'almera22/det_c/iaeaqcb.chn',\n  'almera22/det_c/iaeaqcc.chn',\n  'almera22/det_c/IAEASW1B.chn',\n  'almera22/det_c/iaeaw2a.chn',\n  'almera22/eur_g_p_xtraf/Spiked water Sample Code 01A  Det G.Chn',\n  'almera22/eur_g_p_xtraf/Spiked water Sample Code 01A  Det P.Chn',\n  'almera22/eur_g_p_xtraf/Spiked water Sample Code 01B Det Eurisys.Chn',\n  'almera22/eur_g_p_xtraf/Spiked water Sample Code 01B XtRa.Chn',\n  'almera22/eur_g_p_xtraf/Spiked water Sample Code 01C Eurisys.Chn',\n  'almera22/eur_g_p_xtraf/Spiked water Sample Code 02A  Det P.Chn',\n  'almera22/eur_g_p_xtraf/Spiked water Sample Code 02A  Eurisusys.Chn',\n  'almera22/eur_g_p_xtraf/Spiked water Sample Code 02C Det G.Chn',\n  'almera22/eur_g_p_xtraf/Spiked water Sample code 03A Det P.Chn',\n  'almera22/eur_g_p_xtraf/Spiked water Sample Code 03B Det G.Chn',\n  'almera22/eur_g_p_xtraf/Spiked water Sample Code 03C Det Eurisys.Chn',\n  'almera22/eur_g_p_xtraf/Spiked water Sample Code 03C XtRa.Chn',\n  'almera22/eur_g_p_xtraf/Spiked water Sample code QCA det XtRa.Chn',\n  'almera22/eur_g_p_xtraf/Spiked water Sample Code QCB Det Eurisys.Chn',\n  'almera22/eur_g_p_xtraf/Spiked water Sample Code QCB Det G.Chn',\n  'almera22/eur_g_p_xtraf/Spiked water Sample Code QCB Det XTRa.Chn',\n  'almera22/eur_g_p_xtraf/Spiked water Sample Code QCC Det P.Chn',\n  'almera22/IAEA-TERC-2022/pt2022_spectrum_exercise/PT2022_Spectrum_Exercise/PT2022-Calibration_Standard/Background-2017/BGR-BBE-17D.CHN',\n  'almera22/IAEA-TERC-2022/pt2022_spectrum_exercise/PT2022_Spectrum_Exercise/PT2022-Calibration_Standard/BBE_NPL-A170584-D1/BBE_NPL-A170584-D1.CHN',\n  'almera22/IAEA-TERC-2022/pt2022_spectrum_exercise/PT2022_Spectrum_Exercise/PT2022_Spectra/Background-2021/BGR-BBE-21D.CHN',\n  'almera22/IAEA-TERC-2022/pt2022_spectrum_exercise/PT2022_Spectrum_Exercise/PT2022_Spectra/BBE22032_PT2022/BBE22032_PT2022.CHN',\n  'almera22/IAEA-TERC-2022/pt2022_spectrum_exercise/PT2022_Spectrum_Exercise/PT2022_Spectra/BBE_P105_Blank/BBE_P105_Blank.CHN',\n  'almera22/user2023/GIG/CRM_5A.Chn',\n  'almera22/user2023/GIG/CRM_7.Chn',\n  'almera22/user2023/IAEA2022/IAEA-TERC-2022-01_02;SampleCodeQCA-SpikedWater 100,70g (GMX).Chn',\n  'almera22/user2023/IAEA2022/Sample Code 03B Pop top.Chn',\n  'almera22/user2023/IAEA2022/Sample Code QCA Pop top.Chn',\n  'almera22/user2023/IAEA2022/Sample Code QCC Pop top.Chn',\n  'almera22/user2023/SI2022/BGTESTE.Chn',\n  'almera22/user2023/SI2022/FRASCO ORIGINAL SI084_22.Chn',\n  'almera22/user2023/SI2022/SI00822.Chn',\n  'almera22/user2023/SI2022/SI00922.Chn',\n  'almera22/user2023/SI2022/SI01622.Chn',\n  'almera22/user2023/SI2022/SI01722.Chn',\n  'almera22/user2023/SI2022/SI01822.Chn',\n  'almera22/user2023/SI2022/SI01922.Chn',\n  'almera22/user2023/SI2022/SI02022.Chn',\n  'almera22/user2023/SI2022/SI02522.Chn',\n  'almera22/user2023/SI2022/SI02622.Chn',\n  'almera22/user2023/SI2022/SI02722.Chn',\n  'almera22/user2023/SI2022/SI02922.Chn',\n  ...],\n 'spectra_pattern_names': ['**/*.[Cc][Hh][Nn]', '**/*.[Ii][Ee][Cc]'],\n 'pkl_folder_files': WindowsPath('WindowsI56611.pkl'),\n 'results_path_name': '../ograyspy_results'}"
     },
     "execution_count": 26,
     "metadata": {},
     "output_type": "execute_result"
    }
   ],
   "source": [
    "vars(ogra)"
   ]
  },
  {
   "cell_type": "code",
   "execution_count": 27,
   "metadata": {
    "ExecuteTime": {
     "end_time": "2023-12-20T19:17:14.418026900Z",
     "start_time": "2023-12-20T19:17:14.140794500Z"
    }
   },
   "outputs": [
    {
     "data": {
      "text/plain": "                   info_plat info_mach info_syst info_node         home_path  \\\n0  Windows-10-10.0.19045-SP0     AMD64   Windows    I56611  C:\\Users\\mmaduar   \n\n                                spectra_path  n_files  a_spec_ind a_spec_name  \\\n0  C:\\Users\\mmaduar\\Nextcloud\\Genie_Transfer     7316           0               \n\n  reduced_f_name                                         files_list  \\\n0                 [C:\\Users\\mmaduar\\Nextcloud\\Genie_Transfer\\BGN...   \n\n                            reduced_names_files_list  \\\n0  [BGNOVO.Chn, 2018/CCI/CCI (I-123) 210218.Chn, ...   \n\n                    spectra_pattern_names   pkl_folder_files  \n0  [**/*.[Cc][Hh][Nn], **/*.[Ii][Ee][Cc]]  WindowsI56611.pkl  ",
      "text/html": "<div>\n<style scoped>\n    .dataframe tbody tr th:only-of-type {\n        vertical-align: middle;\n    }\n\n    .dataframe tbody tr th {\n        vertical-align: top;\n    }\n\n    .dataframe thead th {\n        text-align: right;\n    }\n</style>\n<table border=\"1\" class=\"dataframe\">\n  <thead>\n    <tr style=\"text-align: right;\">\n      <th></th>\n      <th>info_plat</th>\n      <th>info_mach</th>\n      <th>info_syst</th>\n      <th>info_node</th>\n      <th>home_path</th>\n      <th>spectra_path</th>\n      <th>n_files</th>\n      <th>a_spec_ind</th>\n      <th>a_spec_name</th>\n      <th>reduced_f_name</th>\n      <th>files_list</th>\n      <th>reduced_names_files_list</th>\n      <th>spectra_pattern_names</th>\n      <th>pkl_folder_files</th>\n    </tr>\n  </thead>\n  <tbody>\n    <tr>\n      <th>0</th>\n      <td>Windows-10-10.0.19045-SP0</td>\n      <td>AMD64</td>\n      <td>Windows</td>\n      <td>I56611</td>\n      <td>C:\\Users\\mmaduar</td>\n      <td>C:\\Users\\mmaduar\\Nextcloud\\Genie_Transfer</td>\n      <td>7316</td>\n      <td>0</td>\n      <td></td>\n      <td></td>\n      <td>[C:\\Users\\mmaduar\\Nextcloud\\Genie_Transfer\\BGN...</td>\n      <td>[BGNOVO.Chn, 2018/CCI/CCI (I-123) 210218.Chn, ...</td>\n      <td>[**/*.[Cc][Hh][Nn], **/*.[Ii][Ee][Cc]]</td>\n      <td>WindowsI56611.pkl</td>\n    </tr>\n  </tbody>\n</table>\n</div>"
     },
     "execution_count": 27,
     "metadata": {},
     "output_type": "execute_result"
    }
   ],
   "source": [
    "# Select a machine/system to read from:\n",
    "spectra_list_df = pd.read_pickle(ogra.pkl_folder_files)\n",
    "spectra_list_df"
   ]
  },
  {
   "cell_type": "code",
   "execution_count": 27,
   "metadata": {
    "ExecuteTime": {
     "end_time": "2023-12-20T19:17:14.449573700Z",
     "start_time": "2023-12-20T19:17:14.403868100Z"
    }
   },
   "outputs": [],
   "source": []
  },
  {
   "cell_type": "code",
   "execution_count": 28,
   "metadata": {
    "ExecuteTime": {
     "end_time": "2023-12-20T19:17:14.557655700Z",
     "start_time": "2023-12-20T19:17:14.420076800Z"
    }
   },
   "outputs": [],
   "source": [
    "reduc_nms = spectra_list_df.reduced_names_files_list[0]\n",
    "fil_lst = spectra_list_df.files_list[0]\n",
    "spc_pth = spectra_list_df.spectra_path[0]"
   ]
  },
  {
   "cell_type": "code",
   "execution_count": 29,
   "metadata": {
    "ExecuteTime": {
     "end_time": "2023-12-20T19:17:14.663634200Z",
     "start_time": "2023-12-20T19:17:14.431315700Z"
    }
   },
   "outputs": [
    {
     "data": {
      "text/plain": "['BGNOVO.Chn',\n '2018/CCI/CCI (I-123) 210218.Chn',\n '2018/CCI/CCI0404F.Chn',\n '2018/CCI/CCI0404I.Chn',\n '2018/CCI/CCI0703F.Chn',\n '2018/CCI/CCI0703I.Chn',\n '2018/CCI/CCI0808I.Chn',\n '2018/CCI/CCI0905 I-123.Chn',\n '2018/CCI/CCI0905F.Chn',\n '2018/CCI/CCI1104F.Chn',\n '2018/CCI/CCI1104I.Chn',\n '2018/CCI/CCI1403F.Chn',\n '2018/CCI/CCI1403I.Chn',\n '2018/CCI/CCI1508I.Chn',\n '2018/CCI/CCI1605.Chn',\n '2018/CCI/CCI1804F.Chn',\n '2018/CCI/CCI1804I.Chn',\n '2018/CCI/CCI1807.Chn',\n '2018/CCI/CCI2004F-1.Chn',\n '2018/CCI/CCI2004F-2.Chn',\n '2018/CCI/CCI2102F.Chn',\n '2018/CCI/CCI2103F.Chn',\n '2018/CCI/CCI2103I.Chn',\n '2018/CCI/CCI2304F.Chn',\n '2018/CCI/CCI2802F.Chn',\n '2018/CCI/CCI2802I.Chn',\n '2018/CCI/PCI0905 F18.Chn',\n '2018/CCI/PCI1403I.Chn',\n '2018/CRF/CRF0103.Chn',\n '2018/CRF/CRF0111.Chn',\n '2018/CRF/CRF0208.Chn',\n '2018/CRF/CRF0305.Chn',\n '2018/CRF/CRF0410.Chn',\n '2018/CRF/CRF0504.Chn',\n '2018/CRF/CRF0507.Chn',\n '2018/CRF/CRF0609.Chn',\n '2018/CRF/CRF0706.Chn',\n '2018/CRF/CRF0803.Chn',\n '2018/CRF/CRF0908.Chn',\n '2018/CRF/CRF1005.Chn',\n '2018/CRF/CRF1110.Chn',\n '2018/CRF/CRF1204.Chn',\n '2018/CRF/CRF1207.Chn',\n '2018/CRF/CRF1309.Chn',\n '2018/CRF/CRF1406.Chn',\n '2018/CRF/CRF1503.Chn',\n '2018/CRF/CRF1608.Chn',\n '2018/CRF/crf1705.Chn',\n '2018/CRF/CRF1810.Chn',\n '2018/CRF/CRF1907.Chn',\n '2018/CRF/CRF2009.Chn',\n '2018/CRF/CRF2106.Chn',\n '2018/CRF/CRF2202.Chn',\n '2018/CRF/CRF2203.Chn',\n '2018/CRF/CRF2308.Chn',\n '2018/CRF/CRF2604.Chn',\n '2018/CRF/CRF2607.Chn',\n '2018/CRF/CRF2709.Chn',\n '2018/CRF/CRF2806.Chn',\n '2018/CRF/CRF2903.Chn',\n '2018/CRF/CRF3005.Chn',\n '2018/CRF/CRF3008.Chn',\n '2018/CRN/CRF2405.Chn',\n '2018/CRN/CRN0103.Chn',\n '2018/CRN/CRN0111.Chn',\n '2018/CRN/CRN0208.Chn',\n '2018/CRN/CRN0305.Chn',\n '2018/CRN/CRN0410.Chn',\n '2018/CRN/CRN0507.Chn',\n '2018/CRN/CRN0609.Chn',\n '2018/CRN/CRN0706.Chn',\n '2018/CRN/CRN0803.Chn',\n '2018/CRN/CRN0908.Chn',\n '2018/CRN/CRN1005.Chn',\n '2018/CRN/CRN1110.Chn',\n '2018/CRN/CRN1207.Chn',\n '2018/CRN/CRN1309.Chn',\n '2018/CRN/CRN1406.Chn',\n '2018/CRN/CRN1503.Chn',\n '2018/CRN/CRN1608.Chn',\n '2018/CRN/CRN1705.Chn',\n '2018/CRN/CRN1810.Chn',\n '2018/CRN/CRN1904.Chn',\n '2018/CRN/CRN1907.Chn',\n '2018/CRN/CRN2009.Chn',\n '2018/CRN/CRN2106.Chn',\n '2018/CRN/CRN2202.Chn',\n '2018/CRN/CRN2203.Chn',\n '2018/CRN/CRN2308.Chn',\n '2018/CRN/CRN2405.Chn',\n '2018/CRN/CRN2510.Chn',\n '2018/CRN/CRN2604.Chn',\n '2018/CRN/CRN2607.Chn',\n '2018/CRN/CRN2709.Chn',\n '2018/CRN/CRN2806.Chn',\n '2018/CRN/CRN2903.Chn',\n '2018/CRN/CRN3005.Chn',\n '2018/CRN/CRN3008.Chn',\n '2018/CTP/CTP0103.Chn',\n '2018/CTP/CTP0111.Chn',\n '2018/CTP/CTP0208-2.Chn',\n '2018/CTP/CTP0208.Chn',\n '2018/CTP/CTP0305-2.Chn',\n '2018/CTP/CTP0305.Chn',\n '2018/CTP/CTP0410-2.Chn',\n '2018/CTP/CTP0410-3.Chn',\n '2018/CTP/CTP0410.Chn',\n '2018/CTP/CTP0504.Chn',\n '2018/CTP/CTP0507.Chn',\n '2018/CTP/CTP05072.Chn',\n '2018/CTP/CTP05073.Chn',\n '2018/CTP/CTP05074.Chn',\n '2018/CTP/CTP0609-2.Chn',\n '2018/CTP/CTP0609-3.Chn',\n '2018/CTP/CTP0609-4.Chn',\n '2018/CTP/CTP0609.Chn',\n '2018/CTP/CTP0706.Chn',\n '2018/CTP/CTP0803.Chn',\n '2018/CTP/CTP0908-2.Chn',\n '2018/CTP/CTP0908.Chn',\n '2018/CTP/CTP1005.Chn',\n '2018/CTP/CTP1110-2.Chn',\n '2018/CTP/CTP1110-3.Chn',\n '2018/CTP/CTP1110-4.Chn',\n '2018/CTP/CTP1110.Chn',\n '2018/CTP/CTP1204.Chn',\n '2018/CTP/CTP1207-4.Chn',\n '2018/CTP/CTP1207.Chn',\n '2018/CTP/CTP12072.Chn',\n '2018/CTP/CTP12073.Chn',\n '2018/CTP/CTP1309-2.Chn',\n '2018/CTP/CTP1309-3.Chn',\n '2018/CTP/CTP1309.Chn',\n '2018/CTP/CTP1406.Chn',\n '2018/CTP/CTP1502.Chn',\n '2018/CTP/CTP150218 2 CONTAGEM.Chn',\n '2018/CTP/CTP15023.Chn',\n '2018/CTP/CTP1503 4.Chn',\n '2018/CTP/CTP1503.Chn',\n '2018/CTP/CTP15032.Chn',\n '2018/CTP/CTP15033.Chn',\n '2018/CTP/CTP1608-2.Chn',\n '2018/CTP/CTP1608-3.Chn',\n '2018/CTP/CTP1608.Chn',\n '2018/CTP/CTP1705-2.Chn',\n '2018/CTP/CTP1705.Chn',\n '2018/CTP/CTP1810-2.Chn',\n '2018/CTP/CTP1810-3.Chn',\n '2018/CTP/CTP1810.Chn',\n '2018/CTP/CTP1904.Chn',\n '2018/CTP/CTP1907.Chn',\n '2018/CTP/CTP19072.Chn',\n '2018/CTP/CTP2009-2.Chn',\n '2018/CTP/CTP2009-3.Chn',\n '2018/CTP/CTP2009-4.Chn',\n '2018/CTP/CTP2009.Chn',\n '2018/CTP/CTP2106.Chn',\n '2018/CTP/CTP21062.Chn',\n '2018/CTP/CTP21063.Chn',\n '2018/CTP/CTP21064.Chn',\n '2018/CTP/CTP2202.Chn',\n '2018/CTP/CTP2203-2.Chn',\n '2018/CTP/CTP2203-3.Chn',\n '2018/CTP/CTP2203.Chn',\n '2018/CTP/CTP2308-2.Chn',\n '2018/CTP/CTP2308-3.Chn',\n '2018/CTP/CTP2308-4.Chn',\n '2018/CTP/CTP2308-5.Chn',\n '2018/CTP/CTP2308.Chn',\n '2018/CTP/CTP2405.Chn',\n '2018/CTP/CTP2510-2.Chn',\n '2018/CTP/CTP2510.Chn',\n '2018/CTP/CTP2604.Chn',\n '2018/CTP/CTP2607-2.Chn',\n '2018/CTP/CTP2607.Chn',\n '2018/CTP/CTP2709-2.Chn',\n '2018/CTP/CTP2709-3.Chn',\n '2018/CTP/CTP2709-4.Chn',\n '2018/CTP/CTP2709.Chn',\n '2018/CTP/CTP2806.Chn',\n '2018/CTP/CTP2903-2.Chn',\n '2018/CTP/CTP2903.Chn',\n '2018/CTP/CTP3005.Chn',\n '2018/CTP/CTP3008-2.Chn',\n '2018/CTP/CTP3008-3.Chn',\n '2018/CTP/CTP3008-4.Chn',\n '2018/CTP/CTP3008.Chn',\n '2018/CTP/PTP1406.Chn',\n '2018/PCI/PCI0404F.Chn',\n '2018/PCI/PCI0404I.Chn',\n '2018/PCI/PCI0703F.Chn',\n '2018/PCI/PCI0703I.Chn',\n '2018/PCI/PCI0905I.Chn',\n '2018/PCI/PCI1104F.Chn',\n '2018/PCI/PCI1104I.Chn',\n '2018/PCI/PCI1403F.Chn',\n '2018/PCI/PCI1508I.Chn',\n '2018/PCI/PCI1605.Chn',\n '2018/PCI/PCI1804F.Chn',\n '2018/PCI/PCI1804I.Chn',\n '2018/PCI/PCI1807.Chn',\n '2018/PCI/PCI2004F-1.Chn',\n '2018/PCI/PCI2004F-2.Chn',\n '2018/PCI/PCI2102F.Chn',\n '2018/PCI/PCI2102I.Chn',\n '2018/PCI/PCI2103F.Chn',\n '2018/PCI/PCI2103I.Chn',\n '2018/PCI/PCI2304F.Chn',\n '2018/PCI/PCI2802F.Chn',\n '2018/PCI/PCI2802I.Chn',\n '2018/PNR/prn0103.Chn',\n '2018/PNR/PRN0111.Chn',\n '2018/PNR/PRN0208.Chn',\n '2018/PNR/PRN0305.Chn',\n '2018/PNR/PRN0410.Chn',\n '2018/PNR/PRN0507.Chn',\n '2018/PNR/PRN0609-2.Chn',\n '2018/PNR/PRN0609.Chn',\n '2018/PNR/PRN0706.Chn',\n '2018/PNR/PRN0803.Chn',\n '2018/PNR/PRN0908.Chn',\n '2018/PNR/PRN1005.Chn',\n '2018/PNR/PRN1110.Chn',\n '2018/PNR/prn1207.Chn',\n '2018/PNR/PRN1309.Chn',\n '2018/PNR/PRN1406.Chn',\n '2018/PNR/PRN1502.Chn',\n '2018/PNR/PRN1503.Chn',\n '2018/PNR/PRN1608.Chn',\n '2018/PNR/PRN1705.Chn',\n '2018/PNR/PRN1810.Chn',\n '2018/PNR/PRN1904.Chn',\n '2018/PNR/PRN1907.Chn',\n '2018/PNR/PRN2009.Chn',\n '2018/PNR/PRN2106.Chn',\n '2018/PNR/PRN2202.Chn',\n '2018/PNR/PRN2203.Chn',\n '2018/PNR/PRN2308.Chn',\n '2018/PNR/PRN2405.Chn',\n '2018/PNR/PRN2510.Chn',\n '2018/PNR/PRN2604.Chn',\n '2018/PNR/PRN2607.Chn',\n '2018/PNR/prn26072.Chn',\n '2018/PNR/PRN2709.Chn',\n '2018/PNR/PRN2806.Chn',\n '2018/PNR/PRN2903.Chn',\n '2018/PNR/PRN3005.Chn',\n '2018/PNR/PRN3008.Chn',\n '2018/PRF/PRF0103.Chn',\n '2018/PRF/PRF0111.Chn',\n '2018/PRF/PRF0208.Chn',\n '2018/PRF/PRF0305.Chn',\n '2018/PRF/PRF0410.Chn',\n '2018/PRF/PRF0504.Chn',\n '2018/PRF/PRF0507-2.Chn',\n '2018/PRF/PRF0507.Chn',\n '2018/PRF/PRF0609.Chn',\n '2018/PRF/PRF0706.Chn',\n '2018/PRF/PRF0803.Chn',\n '2018/PRF/PRF0908.Chn',\n '2018/PRF/PRF1005.Chn',\n '2018/PRF/PRF1110.Chn',\n '2018/PRF/PRF1204.Chn',\n '2018/PRF/PRF1207.Chn',\n '2018/PRF/PRF1309.Chn',\n '2018/PRF/PRF1406.Chn',\n '2018/PRF/PRF1503.Chn',\n '2018/PRF/PRF1608.Chn',\n '2018/PRF/prf1705.Chn',\n '2018/PRF/PRF1810.Chn',\n '2018/PRF/PRF1904.Chn',\n '2018/PRF/PRF1907.Chn',\n '2018/PRF/PRF2009.Chn',\n '2018/PRF/PRF2106.Chn',\n '2018/PRF/PRF2202.Chn',\n '2018/PRF/PRF2203.Chn',\n '2018/PRF/PRF2308.Chn',\n '2018/PRF/PRF2405.Chn',\n '2018/PRF/PRF2604.Chn',\n '2018/PRF/PRF2607.Chn',\n '2018/PRF/PRF2709.Chn',\n '2018/PRF/PRF2806.Chn',\n '2018/PRF/PRF2903.Chn',\n '2018/PRF/PRF3005.Chn',\n '2018/PRF/PRF3008.Chn',\n '2018/PTP/PTP0103.Chn',\n '2018/PTP/PTP0111.Chn',\n '2018/PTP/PTP0208.Chn',\n '2018/PTP/PTP0305.Chn',\n '2018/PTP/PTP0410.Chn',\n '2018/PTP/PTP0504.Chn',\n '2018/PTP/PTP0507.Chn',\n '2018/PTP/PTP0609.Chn',\n '2018/PTP/PTP0706.Chn',\n '2018/PTP/PTP0803.Chn',\n '2018/PTP/PTP0908.Chn',\n '2018/PTP/PTP1005.Chn',\n '2018/PTP/PTP1110.Chn',\n '2018/PTP/PTP1204.Chn',\n '2018/PTP/PTP1207.Chn',\n '2018/PTP/PTP1309.Chn',\n '2018/PTP/PTP1502.Chn',\n '2018/PTP/PTP1503.Chn',\n '2018/PTP/PTP1608-1.Chn',\n '2018/PTP/PTP1608.Chn',\n '2018/PTP/PTP1705.Chn',\n '2018/PTP/PTP1810.Chn',\n '2018/PTP/PTP1904.Chn',\n '2018/PTP/PTP1907.Chn',\n '2018/PTP/PTP2009.Chn',\n '2018/PTP/PTP2106.Chn',\n '2018/PTP/PTP2202.Chn',\n '2018/PTP/PTP2203.Chn',\n '2018/PTP/PTP2308.Chn',\n '2018/PTP/PTP2405.Chn',\n '2018/PTP/PTP2510.Chn',\n '2018/PTP/PTP2604.Chn',\n '2018/PTP/PTP2607.Chn',\n '2018/PTP/PTP2709.Chn',\n '2018/PTP/PTP2806.Chn',\n '2018/PTP/PTP2903.Chn',\n '2018/PTP/PTP3005.Chn',\n '2018/PTP/PTP3008.Chn',\n '2019/Cci/CCI0210-I (Rep)...(DESCONSID).Chn',\n '2019/Cci/CCI0210-I.Chn',\n '2019/Cci/CCI0409-I.Chn',\n '2019/Cci/CCI0506F (22,13%).Chn',\n '2019/Cci/CCI0506F-2.Chn',\n '2019/Cci/CCI0608.Chn',\n '2019/Cci/CCI0611-I.Chn',\n '2019/Cci/CCI0711-F.Chn',\n '2019/Cci/CCI0910-I.Chn',\n '2019/Cci/CCI1010-F.Chn',\n '2019/Cci/CCI1109-I.Chn',\n '2019/Cci/CCI1112-I.Chn',\n '2019/Cci/CCI1311-I.Chn',\n '2019/Cci/CCI1405F.Chn',\n '2019/Cci/CCI1610-I.Chn',\n '2019/Cci/CCI1809-I 123.Chn',\n '2019/Cci/CCI1812-I.Chn',\n '2019/Cci/CCI1907F.Chn',\n '2019/Cci/CCI2108-F.Chn',\n '2019/Cci/CCI2108-I.Chn',\n '2019/Cci/CCI2310-I.Chn',\n '2019/Cci/CCI2507F.Chn',\n '2019/Cci/CCI2607.Chn',\n '2019/Cci/CCI2808-I.Chn',\n '2019/Cci/cci3007.Chn',\n '2019/Cci/CCI3008-F.Chn',\n '2019/Crf/CRF0108.Chn',\n '2019/Crf/CRF0205.Chn',\n '2019/Crf/CRF0310 (rep)(seria p CALIB energia no Maestro).Chn',\n '2019/Crf/CRF0310.Chn',\n '2019/Crf/CRF0507.Chn',\n '2019/Crf/CRF0509.Chn',\n '2019/Crf/CRF0606.Chn',\n '2019/Crf/CRF0808.Chn',\n '2019/Crf/CRF1005.Chn',\n '2019/Crf/CRF1010.Chn',\n '2019/Crf/CRF1107.Chn',\n '2019/Crf/CRF1209.Chn',\n '2019/Crf/CRF1306.Chn',\n '2019/Crf/CRF1508.Chn',\n '2019/Crf/CRF1605.Chn',\n '2019/Crf/CRF1710.Chn',\n '2019/Crf/CRF1807.Chn',\n '2019/Crf/CRF1906.Chn',\n '2019/Crf/CRF1909.Chn',\n '2019/Crf/CRF2102.Chn',\n '2019/Crf/CRF2208.Chn',\n '2019/Crf/CRF2305.Chn',\n '2019/Crf/CRF2507.Chn',\n '2019/Crf/CRF2609.Chn',\n '2019/Crf/CRF2706.Chn',\n '2019/Crf/CRF2802.Chn',\n '2019/Crf/CRF2908.Chn',\n '2019/Crf/CRF3005.Chn',\n '2019/Crn/CRN0108.Chn',\n '2019/Crn/CRN0205.Chn',\n '2019/Crn/CRN0310.Chn',\n '2019/Crn/CRN0507.Chn',\n '2019/Crn/CRN0509.Chn',\n '2019/Crn/CRN0512.Chn',\n '2019/Crn/CRN0606.Chn',\n '2019/Crn/CRN0703.Chn',\n '2019/Crn/CRN0711.Chn',\n '2019/Crn/CRN0808.Chn',\n '2019/Crn/CRN1005.Chn',\n '2019/Crn/CRN1010.Chn',\n '2019/Crn/CRN1107.Chn',\n '2019/Crn/CRN1209.Chn',\n '2019/Crn/CRN1212.Chn',\n '2019/Crn/CRN1306.Chn',\n '2019/Crn/CRN1411.Chn',\n '2019/Crn/CRN1508.Chn',\n '2019/Crn/CRN1605.Chn',\n '2019/Crn/CRN1710.Chn',\n '2019/Crn/CRN1807.Chn',\n '2019/Crn/CRN1906.Chn',\n '2019/Crn/CRN1909.Chn',\n '2019/Crn/CRN1912.Chn',\n '2019/Crn/CRN2102.Chn',\n '2019/Crn/CRN2111.Chn',\n '2019/Crn/CRN2208.Chn',\n '2019/Crn/CRN2305.Chn',\n '2019/Crn/CRN2410.Chn',\n '2019/Crn/CRN2507.Chn',\n '2019/Crn/CRN2609.Chn',\n '2019/Crn/CRN2612.Chn',\n '2019/Crn/CRN2706.Chn',\n '2019/Crn/CRN2802.Chn',\n '2019/Crn/CRN2811.Chn',\n '2019/Crn/CRN2908.Chn',\n '2019/Crn/CRN3005.Chn',\n '2019/Crn/CRN3110.Chn',\n '2019/Ctp/CTP0102-3.Chn',\n '2019/Ctp/CTP0108-2.Chn',\n '2019/Ctp/CTP0205-2.Chn',\n '2019/Ctp/CTP0310-2 (10,05%).Chn',\n '2019/Ctp/CTP0310-3 (5,46%).Chn',\n '2019/Ctp/CTP0507.Chn',\n '2019/Ctp/CTP0509-2 (10,76%).Chn',\n '2019/Ctp/CTP0509-3 (8,10%).Chn',\n '2019/Ctp/CTP0512-2 (5,33%).Chn',\n '2019/Ctp/CTP0606-2 (7,77%).Chn',\n '2019/Ctp/CTP0702-1.Chn',\n '2019/Ctp/CTP0711-3 (7,72%).Chn',\n '2019/Ctp/CTP0808-2.Chn',\n '2019/Ctp/CTP1005-2 (10,67%).Chn',\n '2019/Ctp/CTP1005-3.Chn',\n '2019/Ctp/CTP1010-4 (9,54%).Chn',\n '2019/Ctp/CTP11073.Chn',\n '2019/Ctp/CTP1209-3 (5,31%).Chn',\n '2019/Ctp/CTP1212-2 (7,31%).Chn',\n '2019/Ctp/CTP1306-2 (7,07%).Chn',\n '2019/Ctp/CTP1402.Chn',\n '2019/Ctp/CTP1411-2 (6,78%).Chn',\n '2019/Ctp/CTP1508-4 (7,67%).Chn',\n '2019/Ctp/CTP1605-2 (7,53%).Chn',\n '2019/Ctp/CTP1710-3 (8,33%).Chn',\n '2019/Ctp/CTP1807.Chn',\n '2019/Ctp/CTP1906-2 (4,70%).Chn',\n '2019/Ctp/CTP1909-3 (6,70%).Chn',\n '2019/Ctp/CTP1912-2 (6,90%).Chn',\n '2019/Ctp/CTP2111-2 (9,91%)(Descons).Chn',\n '2019/Ctp/CTP2111-3 (9,17%).Chn',\n '2019/Ctp/CTP2208-3 (6,39%).Chn',\n '2019/Ctp/CTP2305-3 (7,75%).Chn',\n '2019/Ctp/CTP2410-3 (6,14%).Chn',\n '2019/Ctp/CTP2504-3 (3,26%) (tb no Det LoBG).Chn',\n '2019/Ctp/CTP2507-2.Chn',\n '2019/Ctp/CTP2609-2 (9,26%).Chn',\n '2019/Ctp/CTP2612-2 5ks (5,31%).Chn',\n '2019/Ctp/CTP2706-2.Chn',\n '2019/Ctp/CTP2811-2 (7,31%).Chn',\n '2019/Ctp/CTP2908-2 (7,57%).Chn',\n '2019/Ctp/CTP3005-3 (7,86%).Chn',\n '2019/Ctp/CTP3110-3 (10,05%).Chn',\n '2019/Ctp/t_morto/CTP 19 6 19 100s.Chn',\n '2019/Ctp/t_morto/CTP 250719 100s.Chn',\n '2019/Ctp/t_morto/CTP0108-1.Chn',\n '2019/Ctp/t_morto/CTP0205-1 (28,86%).Chn',\n '2019/Ctp/t_morto/CTP0310-1 (17,64%).Chn',\n '2019/Ctp/t_morto/CTP0507-1 (9,26%).Chn',\n '2019/Ctp/t_morto/CTP0509-1 (19,42%).Chn',\n '2019/Ctp/t_morto/CTP0512-1 (14,2%).Chn',\n '2019/Ctp/t_morto/CTP0606_100s.Chn',\n '2019/Ctp/t_morto/CTP0711-1 (23,28%).Chn',\n '2019/Ctp/t_morto/CTP0711-2 (12,96%).Chn',\n '2019/Ctp/t_morto/CTP0808-1.Chn',\n '2019/Ctp/t_morto/CTP100519-1.Chn',\n '2019/Ctp/t_morto/CTP1010-1 (412,72%).Chn',\n '2019/Ctp/t_morto/CTP1010-2 (34,54%).Chn',\n '2019/Ctp/t_morto/CTP1010-3 (18,10%).Chn',\n '2019/Ctp/t_morto/CTP1010-4 (9,56%).Chn',\n '2019/Ctp/t_morto/CTP1107-1 (28,44%).Chn',\n '2019/Ctp/t_morto/CTP1107-2 (12,38%).Chn',\n '2019/Ctp/t_morto/CTP1209-1 (16,6%).Chn',\n '2019/Ctp/t_morto/CTP1209-2 (12,46%) 100s.Chn',\n '2019/Ctp/t_morto/CTP1212-1 (13,52%).Chn',\n '2019/Ctp/t_morto/CTP1306-1 (12,58%).Chn',\n '2019/Ctp/t_morto/CTP1411-1 (11,46%).Chn',\n '2019/Ctp/t_morto/CTP1508-1(36,5%).Chn',\n '2019/Ctp/t_morto/CTP1508-2 (27,10%).Chn',\n '2019/Ctp/t_morto/CTP1508-3 (14,30%).Chn',\n '2019/Ctp/t_morto/CTP16051.Chn',\n '2019/Ctp/t_morto/CTP1710 (38%).Chn',\n '2019/Ctp/t_morto/CTP1710-2 (15,34%).Chn',\n '2019/Ctp/t_morto/CTP1807-1 (12,08%).Chn',\n '2019/Ctp/t_morto/CTP1909-1 (22,02%).Chn',\n '2019/Ctp/t_morto/CTP1909-2 (12,56%).Chn',\n '2019/Ctp/t_morto/CTP1912-1 (28.72%).Chn',\n '2019/Ctp/t_morto/CTP1912-2 (6,92%).Chn',\n '2019/Ctp/t_morto/CTP2102-1.Chn',\n '2019/Ctp/t_morto/CTP2102-2.Chn',\n '2019/Ctp/t_morto/CTP2111-1 (15,92%).Chn',\n '2019/Ctp/t_morto/CTP2111-2 (9,92%).Chn',\n '2019/Ctp/t_morto/CTP2111-3 (9,22%).Chn',\n '2019/Ctp/t_morto/CTP2208-1 (19,5%).Chn',\n '2019/Ctp/t_morto/CTP2208-2 (11,88%).Chn',\n '2019/Ctp/t_morto/CTP2305-1 (43,80%).Chn',\n '2019/Ctp/t_morto/CTP2305-2 (20,44%).Chn',\n '2019/Ctp/t_morto/CTP2410 (19.5%).Chn',\n '2019/Ctp/t_morto/CTP2410-2 (11,24%).Chn',\n '2019/Ctp/t_morto/CTP2609-1 (16,32%).Chn',\n '2019/Ctp/t_morto/CTP2612-1.Chn',\n '2019/Ctp/t_morto/CTP2612-2 (7,54%).Chn',\n '2019/Ctp/t_morto/CTP2706.Chn',\n '2019/Ctp/t_morto/CTP2802-1.Chn',\n '2019/Ctp/t_morto/CTP2811-1 (11,44%).Chn',\n '2019/Ctp/t_morto/CTP2908-1 (14,6%).Chn',\n '2019/Ctp/t_morto/CTP3005-2 (12,32%).Chn',\n '2019/Ctp/t_morto/CTP3005_1.Chn',\n '2019/Ctp/t_morto/CTP3110-1 (33,44%).Chn',\n '2019/Ctp/t_morto/CTP3110-2 (19,14%).Chn',\n '2019/Ctp/t_morto/CTP3110-3 (10,06%).Chn',\n '2019/Pci/PCI0210-I.Chn',\n '2019/Pci/PCI0409-I.Chn',\n '2019/Pci/PCI0506F.Chn',\n '2019/Pci/PCI0608.Chn',\n '2019/Pci/PCI0611-I123.Chn',\n '2019/Pci/PCI0711-F.Chn',\n '2019/Pci/PCI0910-I.Chn',\n '2019/Pci/PCI1010-F.Chn',\n '2019/Pci/PCI1109-I.Chn',\n '2019/Pci/PCI1112-I (com plaqueta).Chn',\n '2019/Pci/PCI1112-I (sem plaqueta).Chn',\n '2019/Pci/PCI1311-I.Chn',\n '2019/Pci/PCI1405F.Chn',\n '2019/Pci/PCI1610-I.Chn',\n '2019/Pci/PCI1809-I123.Chn',\n '2019/Pci/PCI1812-I.Chn',\n '2019/Pci/PCI1907F.Chn',\n '2019/Pci/PCI2108-F.Chn',\n '2019/Pci/PCI2108-I.Chn',\n '2019/Pci/PCI2310-I.Chn',\n '2019/Pci/PCI2507F.Chn',\n '2019/Pci/PCI2607.Chn',\n '2019/Pci/PCI2808-I.Chn',\n '2019/Pci/PCI3007.Chn',\n '2019/Pci/PCI3008-F.Chn',\n '2019/Pnr/PRN0108.Chn',\n '2019/Pnr/PRN0310.Chn',\n '2019/Pnr/PRN0507.Chn',\n '2019/Pnr/PRN0509.Chn',\n '2019/Pnr/PRN0512.Chn',\n '2019/Pnr/PRN0606.Chn',\n '2019/Pnr/PRN0703.Chn',\n '2019/Pnr/PRN0711.Chn',\n '2019/Pnr/PRN0808.Chn',\n '2019/Pnr/PRN1005.Chn',\n '2019/Pnr/PRN1010.Chn',\n '2019/Pnr/PRN1107.Chn',\n '2019/Pnr/PRN1209.Chn',\n '2019/Pnr/PRN1212.Chn',\n '2019/Pnr/PRN1306.Chn',\n '2019/Pnr/PRN1411.Chn',\n '2019/Pnr/PRN1508.Chn',\n '2019/Pnr/PRN1605.Chn',\n '2019/Pnr/PRN1710.Chn',\n '2019/Pnr/PRN1807.Chn',\n '2019/Pnr/PRN1906.Chn',\n '2019/Pnr/PRN1909.Chn',\n '2019/Pnr/PRN1912.Chn',\n '2019/Pnr/PRN2102.Chn',\n '2019/Pnr/PRN2111.Chn',\n '2019/Pnr/PRN2208.Chn',\n '2019/Pnr/PRN2305.Chn',\n '2019/Pnr/PRN2410.Chn',\n '2019/Pnr/PRN2507.Chn',\n '2019/Pnr/PRN2609.Chn',\n '2019/Pnr/PRN2612.Chn',\n '2019/Pnr/PRN2706.Chn',\n '2019/Pnr/PRN2802.Chn',\n '2019/Pnr/PRN2811-Rep.Chn',\n '2019/Pnr/PRN2811.Chn',\n '2019/Pnr/PRN2908.Chn',\n '2019/Pnr/PRN3005.Chn',\n '2019/Pnr/PRN3110.Chn',\n '2019/Prf/PRF0108.Chn',\n '2019/Prf/PRF0310.Chn',\n '2019/Prf/PRF0507.Chn',\n '2019/Prf/PRF0509.Chn',\n '2019/Prf/PRF0606.Chn',\n '2019/Prf/PRF0703-ruim-2.Chn',\n '2019/Prf/PRF0703-ruim.Chn',\n '2019/Prf/PRF0808.Chn',\n '2019/Prf/PRF1005.Chn',\n '2019/Prf/PRF1010.Chn',\n '2019/Prf/PRF1107.Chn',\n '2019/Prf/PRF1209.Chn',\n '2019/Prf/PRF1306.Chn',\n '2019/Prf/PRF1508.Chn',\n '2019/Prf/PRF1605.Chn',\n '2019/Prf/PRF1710.Chn',\n '2019/Prf/PRF1807.Chn',\n '2019/Prf/PRF1906.Chn',\n '2019/Prf/PRF1909.Chn',\n '2019/Prf/PRF2102.Chn',\n '2019/Prf/PRF2208.Chn',\n '2019/Prf/PRF2305.Chn',\n '2019/Prf/PRF2507.Chn',\n '2019/Prf/PRF2609.Chn',\n '2019/Prf/PRF2706.Chn',\n '2019/Prf/PRF2802.Chn',\n '2019/Prf/PRF2908.Chn',\n '2019/Prf/PRF3005.Chn',\n '2019/Ptp/PTP0108.Chn',\n '2019/Ptp/PTP0310.Chn',\n '2019/Ptp/PTP0507.Chn',\n '2019/Ptp/PTP0509.Chn',\n '2019/Ptp/PTP0512.Chn',\n '2019/Ptp/PTP0606.Chn',\n '2019/Ptp/PTP0703.Chn',\n '2019/Ptp/PTP0711.Chn',\n '2019/Ptp/PTP0808.Chn',\n '2019/Ptp/PTP1005.Chn',\n '2019/Ptp/PTP1010.Chn',\n '2019/Ptp/PTP1107.Chn',\n '2019/Ptp/PTP1209.Chn',\n '2019/Ptp/PTP1212.Chn',\n '2019/Ptp/PTP1306.Chn',\n '2019/Ptp/PTP1411.Chn',\n '2019/Ptp/PTP1508.Chn',\n '2019/Ptp/PTP1605.Chn',\n '2019/Ptp/PTP1710.Chn',\n '2019/Ptp/PTP1807.Chn',\n '2019/Ptp/PTP1906.Chn',\n '2019/Ptp/PTP1909.Chn',\n '2019/Ptp/PTP1912.Chn',\n '2019/Ptp/PTP2102.Chn',\n '2019/Ptp/PTP2111.Chn',\n '2019/Ptp/PTP2208.Chn',\n '2019/Ptp/PTP2305.Chn',\n '2019/Ptp/PTP2410 rep.Chn',\n '2019/Ptp/PTP2410.Chn',\n '2019/Ptp/PTP2507.Chn',\n '2019/Ptp/PTP2609.Chn',\n '2019/Ptp/PTP2612.Chn',\n '2019/Ptp/PTP2706.Chn',\n '2019/Ptp/PTP2811-Rep.Chn',\n '2019/Ptp/PTP2811.Chn',\n '2019/Ptp/PTP2908.Chn',\n '2019/Ptp/PTP3005.Chn',\n '2019/Ptp/PTP3110.Chn',\n '2020/Cci/CCI-1507-I.Chn',\n '2020/Cci/CCI0107-I.Chn',\n '2020/Cci/CCI0212-I.Chn',\n '2020/Cci/CCI0508-I.Chn',\n '2020/Cci/CCI0801-I.Chn',\n '2020/Cci/CCI0807-I.Chn',\n '2020/Cci/CCI0912-F.Chn',\n '2020/Cci/CCI0912-I.Chn',\n '2020/Cci/CCI1103-I.Chn',\n '2020/Cci/CCI1202-I.Chn',\n '2020/Cci/CCI1208-I.Chn',\n '2020/Cci/CCI1501-I.Chn',\n '2020/Cci/CCI1504-I.Chn',\n '2020/Cci/CCI1601-F.Chn',\n '2020/Cci/CCI1612-I.Chn',\n '2020/Cci/CCI1706-I.Chn',\n '2020/Cci/CCI1802-F.Chn',\n '2020/Cci/CCI1803-I.Chn',\n '2020/Cci/CCI1902-I.Chn',\n '2020/Cci/CCI1908-I.Chn',\n '2020/Cci/CCI2205-I.Chn',\n '2020/Cci/CCI2207-I.Chn',\n '2020/Cci/CCI2301-F.Chn',\n '2020/Cci/CCI2301-I.Chn',\n '2020/Cci/CCI2304-I.Chn',\n '2020/Cci/CCI2406 -I.Chn',\n '2020/Cci/CCI2503-I.Chn',\n '2020/Cci/CCI2608-I.Chn',\n '2020/Cci/CCI2702-F.Chn',\n '2020/Cci/CCI2705-I.Chn',\n '2020/Cci/CCI2901-F.Chn',\n '2020/Cci/CCI2901-I.Chn',\n '2020/Cci/CCI2907-I.Chn',\n '2020/Crn/CRN0201.Chn',\n '2020/Crn/CRN0204.Chn',\n '2020/Crn/CRN0503.Chn',\n '2020/Crn/CRN0602.Chn',\n '2020/Crn/CRN0901.Chn',\n '2020/Crn/CRN0904.Chn',\n '2020/Crn/CRN1203.Chn',\n '2020/Crn/CRN1302.Chn',\n '2020/Crn/CRN1601.Chn',\n '2020/Crn/CRN1903.Chn',\n '2020/Crn/CRN2002.Chn',\n '2020/Crn/CRN2301.Chn',\n '2020/Crn/CRN2603.Chn',\n '2020/Crn/CRN2702.Chn',\n '2020/Crn/CRN3001.Chn',\n '2020/Ctp/CTP0201-1 5ks (7,71%).Chn',\n '2020/Ctp/CTP0204.Chn',\n '2020/Ctp/CTP0207-1 (10,79%).Chn',\n '2020/Ctp/CTP0207-2 (5,86%).Chn',\n '2020/Ctp/CTP0406-2 (5,90%).Chn',\n '2020/Ctp/CTP0412-2 (6,02%).Chn',\n '2020/Ctp/CTP0503 5ks (3,27%).Chn',\n '2020/Ctp/CTP0602-1(4,9%).Chn',\n '2020/Ctp/CTP0901-1 (8,93%).Chn',\n '2020/Ctp/CTP0904 (1,05%).Chn',\n '2020/Ctp/CTP1012 (6,44%).Chn',\n '2020/Ctp/CTP1203 (4,54%).Chn',\n '2020/Ctp/CTP1206 (8,60%).Chn',\n '2020/Ctp/CTP1302-1 (7,3%).Chn',\n '2020/Ctp/ctp1302.Chn',\n '2020/Ctp/CTP1405-3 (10,32%).Chn',\n '2020/Ctp/CTP1601-2 (7,80%).Chn',\n '2020/Ctp/CTP1604 (1,02%)(é 2%).Chn',\n '2020/Ctp/CTP1707.Chn',\n '2020/Ctp/CTP1806 (5,23%).Chn',\n '2020/Ctp/CTP1812-2 (8,23%).Chn',\n '2020/Ctp/CTP1903 (7,94%).Chn',\n '2020/Ctp/CTP2002-1 (14,3%).Chn',\n '2020/Ctp/CTP2002-3 (6,34%).Chn',\n '2020/Ctp/CTP2002.Chn',\n '2020/Ctp/CTP2008-2 (8,55%).Chn',\n '2020/Ctp/CTP2205-4 (6,07%).Chn',\n '2020/Ctp/CTP2304-3 (10,25%).Chn',\n '2020/Ctp/CTP2312 (7,56%).Chn',\n '2020/Ctp/CTP2407-4 (7,78%).Chn',\n '2020/Ctp/CTP2506.Chn',\n '2020/Ctp/CTP2603.Chn',\n '2020/Ctp/CTP2702-1 (8,63%).Chn',\n '2020/Ctp/CTP2711-2 (9,07%).Chn',\n '2020/Ctp/CTP2805-3 (7,63%).Chn',\n '2020/Ctp/CTP3001-1 (7,63%).Chn',\n '2020/Ctp/CTP3004-2 (11,34%).Chn',\n '2020/Ctp/CTP3007-3 (8,63%).Chn',\n '2020/Ctp/CTP3012-2 (6,10%).Chn',\n '2020/Ctp/t_morto/CTP0201-1 (7,04%).Chn',\n '2020/Ctp/t_morto/CTP0406-1 (13,00%).Chn',\n '2020/Ctp/t_morto/CTP0412-1 (10,22%).Chn',\n '2020/Ctp/t_morto/CTP0705-1 (46,54%).Chn',\n '2020/Ctp/t_morto/CTP0705-2 (18,88%).Chn',\n '2020/Ctp/t_morto/CTP0705-3 (10,26%).Chn',\n '2020/Ctp/t_morto/CTP0901-1 (7,1%).Chn',\n '2020/Ctp/t_morto/CTP0901-1 (8,96%)ok.Chn',\n '2020/Ctp/t_morto/CTP0907-1 (28,62%).Chn',\n '2020/Ctp/t_morto/CTP0907-2 (13,32%).Chn',\n '2020/Ctp/t_morto/CTP0907-3 (7,14%).Chn',\n '2020/Ctp/t_morto/CTP1308-1 (46,36%).Chn',\n '2020/Ctp/t_morto/CTP1308-2 (23,12%).Chn',\n '2020/Ctp/t_morto/CTP1308-3 (10,85%)(5ks).Chn',\n '2020/Ctp/t_morto/CTP1308-3 (10,98%).Chn',\n '2020/Ctp/t_morto/CTP1405-1 (29,54%).Chn',\n '2020/Ctp/t_morto/CTP1405-2 (15,60%).Chn',\n '2020/Ctp/t_morto/CTP1601-1 (13,86%).Chn',\n '2020/Ctp/t_morto/CTP1601-2 (7,82%).Chn',\n '2020/Ctp/t_morto/CTP1812-1 (11,28%).Chn',\n '2020/Ctp/t_morto/CTP2008-1 (18,24%).Chn',\n '2020/Ctp/t_morto/CTP2205-1 (35,80%).Chn',\n '2020/Ctp/t_morto/CTP2205-2 (23,14%).Chn',\n '2020/Ctp/t_morto/CTP2205-3 (12,16%) 5ks.Chn',\n '2020/Ctp/t_morto/CTP2205-3 (12,32%).Chn',\n '2020/Ctp/t_morto/CTP2304-1 (37,40%).Chn',\n '2020/Ctp/t_morto/CTP2304-2 (1,17%)(é 17%).Chn',\n '2020/Ctp/t_morto/CTP2407-1 (43,02%).Chn',\n '2020/Ctp/t_morto/CTP2407-2 (29,12%).Chn',\n '2020/Ctp/t_morto/CTP2407-3 (24,36%).Chn',\n '2020/Ctp/t_morto/CTP2702-1 (8,66%).Chn',\n '2020/Ctp/t_morto/CTP2805-1 (29,68%).Chn',\n '2020/Ctp/t_morto/CTP2805-2 (15,62%).Chn',\n '2020/Ctp/t_morto/CTP3001-1 (7,64%).Chn',\n '2020/Ctp/t_morto/CTP3004-1 (1,19%)(é 19%).Chn',\n '2020/Ctp/t_morto/CTP3004-2 (5,00%).Chn',\n '2020/Ctp/t_morto/CTP3007-1 (53,94%).Chn',\n '2020/Ctp/t_morto/CTP3007-2 (16,08%).Chn',\n '2020/Ctp/t_morto/CTP3012-1 (12,57%) 5ks.Chn',\n '2020/Pci/PCI0801-I.Chn',\n '2020/Pci/PCI1501-I.Chn',\n '2020/Pci/PCI1601-F.Chn',\n '2020/Pci/PCI2301-F.Chn',\n '2020/Pci/PCI2301-I.Chn',\n '2020/Pnr/PRN0201.Chn',\n '2020/Pnr/PRN0204.Chn',\n '2020/Pnr/PRN0503.Chn',\n '2020/Pnr/PRN0602.Chn',\n '2020/Pnr/PRN0901.Chn',\n '2020/Pnr/PRN0904.Chn',\n '2020/Pnr/PRN1203.Chn',\n '2020/Pnr/PRN1302.Chn',\n '2020/Pnr/PRN1601.Chn',\n '2020/Pnr/PRN1903.Chn',\n '2020/Pnr/PRN2002.Chn',\n '2020/Pnr/PRN2301.Chn',\n '2020/Pnr/PRN2603.Chn',\n '2020/Pnr/PRN2702.Chn',\n '2020/Pnr/PRN3001.Chn',\n '2020/Ptp/PTP0201.Chn',\n '2020/Ptp/PTP0204.Chn',\n '2020/Ptp/PTP0207.Chn',\n '2020/Ptp/PTP0406.Chn',\n '2020/Ptp/PTP0412.Chn',\n '2020/Ptp/PTP0503.Chn',\n '2020/Ptp/PTP0602.Chn',\n '2020/Ptp/PTP0705.Chn',\n '2020/Ptp/PTP0901.Chn',\n '2020/Ptp/PTP0901ok.Chn',\n '2020/Ptp/PTP0904.Chn',\n '2020/Ptp/PTP0907.Chn',\n '2020/Ptp/PTP1012.Chn',\n '2020/Ptp/PTP1203.Chn',\n '2020/Ptp/PTP1206.Chn',\n '2020/Ptp/PTP1302.Chn',\n '2020/Ptp/PTP1308.Chn',\n '2020/Ptp/PTP1405.Chn',\n '2020/Ptp/PTP1601.Chn',\n '2020/Ptp/PTP1604.Chn',\n '2020/Ptp/PTP1707.Chn',\n '2020/Ptp/PTP1806.Chn',\n '2020/Ptp/PTP1812.Chn',\n '2020/Ptp/PTP1903.Chn',\n '2020/Ptp/PTP2002.Chn',\n '2020/Ptp/PTP2008.Chn',\n '2020/Ptp/PTP2205.Chn',\n '2020/Ptp/PTP2304.Chn',\n '2020/Ptp/PTP2312.Chn',\n '2020/Ptp/PTP2407.Chn',\n '2020/Ptp/PTP2506.Chn',\n '2020/Ptp/PTP2603.Chn',\n '2020/Ptp/PTP2702.Chn',\n '2020/Ptp/PTP2805.Chn',\n '2020/Ptp/PTP3001.Chn',\n '2020/Ptp/PTP3004.Chn',\n '2020/Ptp/PTP3007.Chn',\n '2020/Ptp/PTP3012.Chn',\n '2021/cal 08 11 21 GMX.Chn',\n '2021/Co60cal.Chn',\n '2021/grrteste1.Chn',\n '2021/MNR 5a.Chn',\n '2021/SI07418+CTP0305.Chn',\n '2021/teste-2021-ago.Chn',\n '2021/CaL Co-60/03-01-2020.Chn',\n '2021/CaL Co-60/07-01-21.Chn',\n '2021/CaL Co-60/15-jun-2021-A.Chn',\n '2021/CaL Co-60/15-jun-2021-B.Chn',\n '2021/CaL Co-60/15-jun-2021-C.Chn',\n '2021/CaL Co-60/15-jun-2021-D.Chn',\n '2021/CaL Co-60/15-jun-2021-E.Chn',\n '2021/CaL Co-60/18-ago-2020.Chn',\n '2021/CaL Co-60/19-ago-2021.Chn',\n '2021/CaL Co-60/2021-03-17.Chn',\n '2021/CaL Co-60/23-jun-2021.Chn',\n '2021/CaL Co-60/28-jul-2021_5k.Chn',\n '2021/CaL Co-60/Eu-152.Chn',\n '2021/CaL Co-60/GMX_2021-01jan-19.Chn',\n '2021/descarte ativ/AM1-18-10-26.Chn',\n '2021/descarte ativ/AM2-18-10-26.Chn',\n '2021/descarte ativ/Papel Al 17 06 2019.Chn',\n '2021/Petrobrás/P1 10ks/P1 LIQ.Chn',\n '2021/Petrobrás/P1 10ks/P1.1.1.Chn',\n '2021/Petrobrás/P1 10ks/P1.1.2.Chn',\n '2021/Petrobrás/P1 10ks/P1.1.3.Chn',\n '2021/Petrobrás/P1 10ks/P1.2.1.Chn',\n '2021/Petrobrás/P1 10ks/P1.2.2.Chn',\n '2021/Petrobrás/P1 10ks/P1.2.3.Chn',\n '2021/Petrobrás/P1 10ks/P1.3.1.Chn',\n '2021/Petrobrás/P1 10ks/P1.3.2.Chn',\n '2021/Petrobrás/P1 10ks/P1.3.3.Chn',\n '2021/Petrobrás/P1 20ks/P1.1.3 20ks.Chn',\n '2021/Petrobrás/P1 20ks/P1.2.3 20ks.Chn',\n '2021/Petrobrás/P1 5ks/P1.1.1.Chn',\n '2021/Petrobrás/P1 5ks/P1.1.2.Chn',\n '2021/Petrobrás/P1 5ks/P1.1.3.Chn',\n '2021/Petrobrás/P10 5ks/P10.1,LIQ 10ks.Chn',\n '2021/Petrobrás/P10 5ks/P10.1,LIQ 50ks.Chn',\n '2021/Petrobrás/P10 5ks/P10.1.1 10ks.Chn',\n '2021/Petrobrás/P10 5ks/P10.1.1.Chn',\n '2021/Petrobrás/P10 5ks/P10.1.2.Chn',\n '2021/Petrobrás/P10 5ks/P10.2.1.Chn',\n '2021/Petrobrás/P10 5ks/P10.2.2.Chn',\n '2021/Petrobrás/P10 5ks/P10.3.1.Chn',\n '2021/Petrobrás/P10 5ks/P10.3.2.Chn',\n '2021/Petrobrás/P10 5ks/P10.C1.Chn',\n '2021/Petrobrás/P10 5ks/P10.C2.Chn',\n '2021/Petrobrás/P11 5ks/P 11.3.Chn',\n '2021/Petrobrás/P11 5ks/P11.1.Chn',\n '2021/Petrobrás/P11 5ks/P11.10.Chn',\n '2021/Petrobrás/P11 5ks/P11.2.Chn',\n '2021/Petrobrás/P11 5ks/P11.4.Chn',\n '2021/Petrobrás/P11 5ks/P11.5.Chn',\n '2021/Petrobrás/P11 5ks/P11.6.Chn',\n '2021/Petrobrás/P11 5ks/P11.7.Chn',\n '2021/Petrobrás/P11 5ks/P11.8.Chn',\n '2021/Petrobrás/P11 5ks/P11.9.Chn',\n '2021/Petrobrás/P12 5ks/P12.1.Chn',\n '2021/Petrobrás/P12 5ks/P12.2.Chn',\n '2021/Petrobrás/P12 5ks/P12.3.Chn',\n '2021/Petrobrás/P12 5ks/P12.4.Chn',\n '2021/Petrobrás/P12 5ks/P12.5.Chn',\n '2021/Petrobrás/P12 5ks/P12.6.Chn',\n '2021/Petrobrás/P12 5ks/P12.7.Chn',\n '2021/Petrobrás/P12 5ks/P12.8.Chn',\n '2021/Petrobrás/P12 5ks/P12.9.Chn',\n '2021/Petrobrás/P12 5ks/P12.LIQ 50ks.Chn',\n '2021/Petrobrás/P2 10ks/P2.1.1.Chn',\n '2021/Petrobrás/P2 10ks/P2.1.2.Chn',\n '2021/Petrobrás/P2 10ks/P2.2.1.Chn',\n '2021/Petrobrás/P2 10ks/P2.2.2.Chn',\n '2021/Petrobrás/P2 10ks/P2.3.1.Chn',\n '2021/Petrobrás/P2 10ks/P2.3.2.Chn',\n '2021/Petrobrás/P2 5ks/P2.1.1.Chn',\n '2021/Petrobrás/P2 5ks/P2.1.2.Chn',\n '2021/Petrobrás/P3 10ks/P3.1.Chn',\n '2021/Petrobrás/P3 10ks/P3.10.L╓Q.Chn',\n '2021/Petrobrás/P3 10ks/P3.2.Chn',\n '2021/Petrobrás/P3 10ks/P3.3.Chn',\n '2021/Petrobrás/P3 10ks/P3.4.Chn',\n '2021/Petrobrás/P3 10ks/P3.5.Chn',\n '2021/Petrobrás/P3 10ks/P3.6.Chn',\n '2021/Petrobrás/P3 10ks/P3.7.Chn',\n '2021/Petrobrás/P3 10ks/P3.9.Chn',\n '2021/Petrobrás/P3 10ks/P310.LIQ20ks.Chn',\n '2021/Petrobrás/P3 5 ks/P3.1.Chn',\n '2021/Petrobrás/P3 5 ks/P3.10 LIQ.Chn',\n '2021/Petrobrás/P3 5 ks/P3.3.Chn',\n '2021/Petrobrás/P3 5 ks/P3.5.Chn',\n '2021/Petrobrás/P3 5 ks/P3.7.Chn',\n '2021/Petrobrás/P3 5 ks/P3.8.Chn',\n '2021/Petrobrás/P4 10ks/P4 L╓Q.Chn',\n '2021/Petrobrás/P4 10ks/P4.1.Chn',\n '2021/Petrobrás/P4 10ks/P4.2.Chn',\n '2021/Petrobrás/P4 5ks/P.4 Incrustac╞o.Chn',\n '2021/Petrobrás/P4 5ks/P.4 Líquida.Chn',\n '2021/Petrobrás/P4 5ks/P.4.1 Borra.Chn',\n '2021/Petrobrás/P4 5ks/P.4.2 Borra.Chn',\n '2021/Petrobrás/P4 5ks/P4 LIQ.Chn',\n '2021/Petrobrás/P5 10ks/P.5.2.1.Chn',\n '2021/Petrobrás/P5 10ks/P.5.2.2.Chn',\n '2021/Petrobrás/P5 10ks/P5.1.1.Chn',\n '2021/Petrobrás/P5 10ks/P5.1.2.Chn',\n '2021/Petrobrás/P5 10ks/P5.1.3.Chn',\n '2021/Petrobrás/P5 10ks/P5.2.3.Chn',\n '2021/Petrobrás/P5 10ks/P5.3.1.Chn',\n '2021/Petrobrás/P5 10ks/P5.3.2.Chn',\n '2021/Petrobrás/P5 10ks/P5.3.3.Chn',\n '2021/Petrobrás/P5 5ks/P5.1.1.Chn',\n '2021/Petrobrás/P5 5ks/P5.1.2.Chn',\n '2021/Petrobrás/P5 5ks/P5.1.3.Chn',\n '2021/Petrobrás/P6 5ks/P.6.10.Chn',\n '2021/Petrobrás/P6 5ks/P6.1.Chn',\n '2021/Petrobrás/P6 5ks/P6.3.Chn',\n '2021/Petrobrás/P6 5ks/P6.5.Chn',\n '2021/Petrobrás/P6 5ks/P6.8.Chn',\n '2021/Petrobrás/P7 5ks/P7.1.1.Chn',\n '2021/Petrobrás/P7 5ks/P7.1.2.Chn',\n '2021/Petrobrás/P7 5ks/P7.LIQ 50ks.Chn',\n '2021/Petrobrás/P7 5ks/P7LIQ.Chn',\n '2021/Petrobrás/P9 5ks/P9 LIQ+FUNDO.Chn',\n '2021/Petrobrás/P9 5ks/P9.1.1 INCRUSTACOES.Chn',\n '2021/Petrobrás/P9 5ks/P9.1.2.Chn',\n '2021/Petrobrás/P9 5ks/P9 EQUIL/P9 LIQ+FUNDO.Chn',\n 'almera22/det_c/iaeaqcb.chn',\n 'almera22/det_c/iaeaqcc.chn',\n 'almera22/det_c/IAEASW1B.chn',\n 'almera22/det_c/iaeaw2a.chn',\n 'almera22/eur_g_p_xtraf/Spiked water Sample Code 01A  Det G.Chn',\n 'almera22/eur_g_p_xtraf/Spiked water Sample Code 01A  Det P.Chn',\n 'almera22/eur_g_p_xtraf/Spiked water Sample Code 01B Det Eurisys.Chn',\n 'almera22/eur_g_p_xtraf/Spiked water Sample Code 01B XtRa.Chn',\n 'almera22/eur_g_p_xtraf/Spiked water Sample Code 01C Eurisys.Chn',\n 'almera22/eur_g_p_xtraf/Spiked water Sample Code 02A  Det P.Chn',\n 'almera22/eur_g_p_xtraf/Spiked water Sample Code 02A  Eurisusys.Chn',\n 'almera22/eur_g_p_xtraf/Spiked water Sample Code 02C Det G.Chn',\n 'almera22/eur_g_p_xtraf/Spiked water Sample code 03A Det P.Chn',\n 'almera22/eur_g_p_xtraf/Spiked water Sample Code 03B Det G.Chn',\n 'almera22/eur_g_p_xtraf/Spiked water Sample Code 03C Det Eurisys.Chn',\n 'almera22/eur_g_p_xtraf/Spiked water Sample Code 03C XtRa.Chn',\n 'almera22/eur_g_p_xtraf/Spiked water Sample code QCA det XtRa.Chn',\n 'almera22/eur_g_p_xtraf/Spiked water Sample Code QCB Det Eurisys.Chn',\n 'almera22/eur_g_p_xtraf/Spiked water Sample Code QCB Det G.Chn',\n 'almera22/eur_g_p_xtraf/Spiked water Sample Code QCB Det XTRa.Chn',\n 'almera22/eur_g_p_xtraf/Spiked water Sample Code QCC Det P.Chn',\n 'almera22/IAEA-TERC-2022/pt2022_spectrum_exercise/PT2022_Spectrum_Exercise/PT2022-Calibration_Standard/Background-2017/BGR-BBE-17D.CHN',\n 'almera22/IAEA-TERC-2022/pt2022_spectrum_exercise/PT2022_Spectrum_Exercise/PT2022-Calibration_Standard/BBE_NPL-A170584-D1/BBE_NPL-A170584-D1.CHN',\n 'almera22/IAEA-TERC-2022/pt2022_spectrum_exercise/PT2022_Spectrum_Exercise/PT2022_Spectra/Background-2021/BGR-BBE-21D.CHN',\n 'almera22/IAEA-TERC-2022/pt2022_spectrum_exercise/PT2022_Spectrum_Exercise/PT2022_Spectra/BBE22032_PT2022/BBE22032_PT2022.CHN',\n 'almera22/IAEA-TERC-2022/pt2022_spectrum_exercise/PT2022_Spectrum_Exercise/PT2022_Spectra/BBE_P105_Blank/BBE_P105_Blank.CHN',\n 'almera22/user2023/GIG/CRM_5A.Chn',\n 'almera22/user2023/GIG/CRM_7.Chn',\n 'almera22/user2023/IAEA2022/IAEA-TERC-2022-01_02;SampleCodeQCA-SpikedWater 100,70g (GMX).Chn',\n 'almera22/user2023/IAEA2022/Sample Code 03B Pop top.Chn',\n 'almera22/user2023/IAEA2022/Sample Code QCA Pop top.Chn',\n 'almera22/user2023/IAEA2022/Sample Code QCC Pop top.Chn',\n 'almera22/user2023/SI2022/BGTESTE.Chn',\n 'almera22/user2023/SI2022/FRASCO ORIGINAL SI084_22.Chn',\n 'almera22/user2023/SI2022/SI00822.Chn',\n 'almera22/user2023/SI2022/SI00922.Chn',\n 'almera22/user2023/SI2022/SI01622.Chn',\n 'almera22/user2023/SI2022/SI01722.Chn',\n 'almera22/user2023/SI2022/SI01822.Chn',\n 'almera22/user2023/SI2022/SI01922.Chn',\n 'almera22/user2023/SI2022/SI02022.Chn',\n 'almera22/user2023/SI2022/SI02522.Chn',\n 'almera22/user2023/SI2022/SI02622.Chn',\n 'almera22/user2023/SI2022/SI02722.Chn',\n 'almera22/user2023/SI2022/SI02922.Chn',\n ...]"
     },
     "execution_count": 29,
     "metadata": {},
     "output_type": "execute_result"
    }
   ],
   "source": [
    "reduc_nms"
   ]
  },
  {
   "cell_type": "code",
   "execution_count": 30,
   "metadata": {
    "ExecuteTime": {
     "end_time": "2023-12-20T19:17:14.937446400Z",
     "start_time": "2023-12-20T19:17:14.538449300Z"
    }
   },
   "outputs": [
    {
     "name": "stdout",
     "output_type": "stream",
     "text": [
      "Existing:\n",
      "Achou! indice=1016, nomearq = almera22/user2023/SI2022/SI06322.Chn\n",
      "==========================\n",
      "Final choices:\n",
      "spectra_path: C:\\Users\\mmaduar\\Nextcloud\\Genie_Transfer\n",
      "a_spec_name: C:\\Users\\mmaduar\\Nextcloud\\Genie_Transfer\\almera22\\user2023\\SI2022\\SI06322.Chn\n",
      "reduced_f_name: almera22/user2023/SI2022/SI06322.Chn\n"
     ]
    }
   ],
   "source": [
    "a_spec_name, reduced_f_name = select_spectrum_from_folder_list(reduc_nms, fil_lst, spc_pth, a_pattern)"
   ]
  },
  {
   "cell_type": "code",
   "execution_count": 31,
   "metadata": {
    "ExecuteTime": {
     "end_time": "2023-12-20T19:17:15.030103Z",
     "start_time": "2023-12-20T19:17:14.647775400Z"
    }
   },
   "outputs": [
    {
     "data": {
      "text/plain": "(WindowsPath('C:/Users/mmaduar/Nextcloud/Genie_Transfer/almera22/user2023/SI2022/SI06322.Chn'),\n 'almera22/user2023/SI2022/SI06322.Chn')"
     },
     "execution_count": 31,
     "metadata": {},
     "output_type": "execute_result"
    }
   ],
   "source": [
    "a_spec_name, reduced_f_name"
   ]
  },
  {
   "cell_type": "code",
   "execution_count": 32,
   "metadata": {
    "ExecuteTime": {
     "end_time": "2023-12-20T19:17:15.111205700Z",
     "start_time": "2023-12-20T19:17:14.743345400Z"
    }
   },
   "outputs": [],
   "source": [
    "a_spec = Spec(a_spec_name, reduced_f_name)"
   ]
  },
  {
   "cell_type": "code",
   "execution_count": 33,
   "metadata": {
    "ExecuteTime": {
     "end_time": "2023-12-20T19:17:15.194446300Z",
     "start_time": "2023-12-20T19:17:14.864632Z"
    }
   },
   "outputs": [
    {
     "data": {
      "text/plain": "{'net_spec_ser_an': None,\n 'final_composed_baseline': None,\n 'f_name': WindowsPath('C:/Users/mmaduar/Nextcloud/Genie_Transfer/almera22/user2023/SI2022/SI06322.Chn'),\n 'reduced_f_name': 'almera22/user2023/SI2022/SI06322.Chn',\n 'sufx': '.chn',\n 'spec_io': None,\n 'lv_time': 50000.0,\n 'rl_time': 50028.58,\n 'source_datetime': None,\n 'results_pkl_file': WindowsPath('.'),\n 'origin_spec_ser_an': <generic_series_analysis_class.GenericSeriesAnalysis at 0x1d74630b190>,\n 'start_datetime': datetime.datetime(2022, 8, 4, 19, 42, 23),\n 'det_descr': 'MAQUINA_01 MCB 1 Input 1',\n 'sam_descr': 'SI-063/22 - Agua da Piscina do Reator IEA-R1 (GMX)',\n 'channel_energy_calib': <genericcalib_class.ChannelEnergyCalib at 0x1d74630b3d0>,\n 'nucl_an': <nuclide_analysis_class.NuclideAnalysis at 0x1d74630b5e0>}"
     },
     "execution_count": 33,
     "metadata": {},
     "output_type": "execute_result"
    }
   ],
   "source": [
    "vars(a_spec)"
   ]
  },
  {
   "cell_type": "code",
   "execution_count": 33,
   "metadata": {
    "ExecuteTime": {
     "end_time": "2023-12-20T19:17:15.204758300Z",
     "start_time": "2023-12-20T19:17:14.959973200Z"
    }
   },
   "outputs": [],
   "source": []
  },
  {
   "cell_type": "code",
   "execution_count": 33,
   "metadata": {
    "ExecuteTime": {
     "end_time": "2023-12-20T19:17:15.229071400Z",
     "start_time": "2023-12-20T19:17:14.975476700Z"
    }
   },
   "outputs": [],
   "source": []
  },
  {
   "cell_type": "code",
   "execution_count": 34,
   "metadata": {
    "ExecuteTime": {
     "end_time": "2023-12-20T19:17:15.296889900Z",
     "start_time": "2023-12-20T19:17:14.993043200Z"
    }
   },
   "outputs": [],
   "source": [
    "# 2023-Jun-13\n",
    "# PAREI AQUI: levar tudo que está aqui para\n",
    "# nuclide_identification.ipynb\n"
   ]
  },
  {
   "cell_type": "code",
   "execution_count": 34,
   "metadata": {
    "ExecuteTime": {
     "end_time": "2023-12-20T19:17:15.305419600Z",
     "start_time": "2023-12-20T19:17:15.055321600Z"
    }
   },
   "outputs": [],
   "source": []
  },
  {
   "cell_type": "code",
   "execution_count": 35,
   "metadata": {
    "ExecuteTime": {
     "end_time": "2023-12-20T19:17:15.511335600Z",
     "start_time": "2023-12-20T19:17:15.070918400Z"
    }
   },
   "outputs": [
    {
     "data": {
      "text/plain": "Polynomial([-1.99049842,  0.61104035,  0.        ], domain=[-1,  1], window=[-1,  1], symbol='x')",
      "text/latex": "$x \\mapsto \\text{-1.99049842} + \\text{0.61104035}\\,x\\color{LightGray}{ + \\text{0.0}\\,x^{2}}$"
     },
     "execution_count": 35,
     "metadata": {},
     "output_type": "execute_result"
    }
   ],
   "source": [
    "p_en = a_spec.channel_energy_calib.p_en\n",
    "p_en"
   ]
  },
  {
   "cell_type": "code",
   "execution_count": 36,
   "metadata": {
    "ExecuteTime": {
     "end_time": "2023-12-20T19:17:15.665205700Z",
     "start_time": "2023-12-20T19:17:15.177619900Z"
    }
   },
   "outputs": [
    {
     "ename": "NameError",
     "evalue": "name 'peaks_df' is not defined",
     "output_type": "error",
     "traceback": [
      "\u001B[1;31m---------------------------------------------------------------------------\u001B[0m",
      "\u001B[1;31mNameError\u001B[0m                                 Traceback (most recent call last)",
      "Cell \u001B[1;32mIn[36], line 1\u001B[0m\n\u001B[1;32m----> 1\u001B[0m peaks_df[\u001B[38;5;124m'\u001B[39m\u001B[38;5;124menergy\u001B[39m\u001B[38;5;124m'\u001B[39m] \u001B[38;5;241m=\u001B[39m p_en(\u001B[43mpeaks_df\u001B[49m[\u001B[38;5;124m'\u001B[39m\u001B[38;5;124mcentroids\u001B[39m\u001B[38;5;124m'\u001B[39m])\n\u001B[0;32m      2\u001B[0m peaks_df\n",
      "\u001B[1;31mNameError\u001B[0m: name 'peaks_df' is not defined"
     ]
    }
   ],
   "source": [
    "peaks_df['energy'] = p_en(peaks_df['centroids'])\n",
    "peaks_df"
   ]
  },
  {
   "cell_type": "code",
   "execution_count": null,
   "metadata": {
    "ExecuteTime": {
     "start_time": "2023-12-20T19:17:15.351921300Z"
    }
   },
   "outputs": [],
   "source": [
    "# 2023-Mar-21: Identify nuclide candidates in peaks_df from pisciro_eng_df, with energy tolerance en_toler"
   ]
  },
  {
   "cell_type": "code",
   "execution_count": null,
   "metadata": {
    "ExecuteTime": {
     "start_time": "2023-12-20T19:17:15.356046Z"
    }
   },
   "outputs": [],
   "source": [
    "big_merge = pd.merge(peaks_df, pisciro_eng_df, how='cross')\n",
    "big_merge"
   ]
  },
  {
   "cell_type": "code",
   "execution_count": null,
   "metadata": {
    "ExecuteTime": {
     "start_time": "2023-12-20T19:17:15.360078700Z"
    }
   },
   "outputs": [],
   "source": [
    "en_toler = 2.0"
   ]
  },
  {
   "cell_type": "code",
   "execution_count": null,
   "metadata": {
    "ExecuteTime": {
     "start_time": "2023-12-20T19:17:15.362205600Z"
    }
   },
   "outputs": [],
   "source": [
    "big_merge['delta_en'] = big_merge.energy - big_merge.Engy\n",
    "big_merge"
   ]
  },
  {
   "cell_type": "code",
   "execution_count": null,
   "metadata": {
    "ExecuteTime": {
     "start_time": "2023-12-20T19:17:15.365230600Z"
    }
   },
   "outputs": [],
   "source": [
    "# https://pandas.pydata.org/pandas-docs/stable/user_guide/indexing.html#selection-by-callable\n",
    "# MaTched ENergies\n",
    "mt_en = pd.DataFrame(big_merge.loc[lambda df: abs(df['delta_en']) < en_toler, :]) \\\n",
    "[['Engy', 'Nucl', 'rough_sums', 'Yie']]\n",
    "mt_en\n",
    "# mt_en[['Engy', 'Nucl']]"
   ]
  },
  {
   "cell_type": "code",
   "execution_count": null,
   "metadata": {
    "ExecuteTime": {
     "start_time": "2023-12-20T19:17:15.368283200Z"
    }
   },
   "outputs": [],
   "source": [
    "\n",
    "msedg serg set asrhg saertrg"
   ]
  },
  {
   "cell_type": "code",
   "execution_count": null,
   "metadata": {
    "ExecuteTime": {
     "start_time": "2023-12-20T19:17:15.371309500Z"
    }
   },
   "outputs": [],
   "source": []
  },
  {
   "cell_type": "code",
   "execution_count": null,
   "metadata": {
    "ExecuteTime": {
     "start_time": "2023-12-20T19:17:15.374374900Z"
    }
   },
   "outputs": [],
   "source": [
    "rng = np.random.default_rng()\n",
    "# rints = rng.integers(low=0, high=10, size=3)\n",
    "\n",
    "# 2022-Jun-23: Reativar após consertar o arquivo pickle:\n",
    "# rints = rng.integers(pkl_df1.count()[0], size=3)\n",
    "# print(rints)\n",
    "# type(rints[0])\n",
    "# some_spec = rints[1]\n",
    "# pkl_df1.iloc[some_spec]\n",
    "# a_spec_name = pkl_df1.iloc[some_spec]['FName']\n",
    "# a_spec_name"
   ]
  },
  {
   "cell_type": "code",
   "execution_count": null,
   "metadata": {
    "ExecuteTime": {
     "start_time": "2023-12-20T19:17:15.376410800Z"
    }
   },
   "outputs": [],
   "source": [
    "# 2022-Dez-28: Atualizar:\n",
    "# (2022-Jun-24 Lembrando como estão os defaults de total_analysis(...):\n",
    "# def total_analysis(self, k_sep_pk=2.0, smoo=3000.0, widths_range=(4.0, 20.0)):)\n",
    "# smoo=3000 fica razoável, mas faz umas ondas\n",
    "# smoo=1500 fica horrível, faz uns abismos. Quanto menor, pior\n",
    "# smoo=400 fica razoável, mas faz umas ondas\n",
    "# ogra.perform_total_analysis(\n",
    "#     k_sep_pk=2.0, smoo=4096, widths_range=(4.0, 20.0)\n",
    "# )"
   ]
  },
  {
   "cell_type": "code",
   "execution_count": null,
   "metadata": {
    "ExecuteTime": {
     "start_time": "2023-12-20T19:17:15.379436300Z"
    }
   },
   "outputs": [],
   "source": []
  },
  {
   "cell_type": "code",
   "execution_count": null,
   "metadata": {
    "ExecuteTime": {
     "start_time": "2023-12-20T19:17:15.382635600Z"
    }
   },
   "outputs": [],
   "source": []
  },
  {
   "cell_type": "code",
   "execution_count": null,
   "metadata": {
    "ExecuteTime": {
     "start_time": "2023-12-20T19:17:15.386698700Z"
    }
   },
   "outputs": [],
   "source": []
  },
  {
   "cell_type": "code",
   "execution_count": null,
   "metadata": {
    "ExecuteTime": {
     "start_time": "2023-12-20T19:17:15.391814600Z"
    }
   },
   "outputs": [],
   "source": []
  },
  {
   "cell_type": "code",
   "execution_count": null,
   "metadata": {
    "ExecuteTime": {
     "start_time": "2023-12-20T19:17:15.395880200Z"
    }
   },
   "outputs": [],
   "source": [
    "# 2022-Jun-14\n",
    "# Verificando o que se tem até agora em a_raw_spec:\n",
    "# (Pode pular e ir direto aos gráficos)"
   ]
  },
  {
   "cell_type": "code",
   "execution_count": null,
   "metadata": {
    "ExecuteTime": {
     "start_time": "2023-12-20T19:17:15.400218300Z"
    }
   },
   "outputs": [],
   "source": [
    "\n",
    "# Testes:\n",
    "# https://numpy.org/doc/stable/reference/random/generator.html#distributions\n",
    "# x = np.linspace(0, 10, N) + rng.normal(loc=7, scale=0.05, size=N)\n",
    "# y = np.linspace(22, 23, N)\n",
    "\n",
    "# Busca do canal onde a altura do espectro se \"estabiliza\"\n",
    "# https://numpy.org/doc/stable/reference/routines.sort.html#searching\n",
    "\n"
   ]
  },
  {
   "cell_type": "code",
   "execution_count": null,
   "metadata": {
    "ExecuteTime": {
     "start_time": "2023-12-20T19:17:15.404276600Z"
    }
   },
   "outputs": [],
   "source": [
    "vars(pkprms)"
   ]
  },
  {
   "cell_type": "code",
   "execution_count": null,
   "metadata": {
    "ExecuteTime": {
     "start_time": "2023-12-20T19:17:15.409402900Z"
    }
   },
   "outputs": [],
   "source": [
    "# 2022-Dez-21 Achar o pico de maior área inicial do espectro:"
   ]
  },
  {
   "cell_type": "code",
   "execution_count": null,
   "metadata": {
    "ExecuteTime": {
     "start_time": "2023-12-20T19:17:15.412431700Z"
    }
   },
   "outputs": [],
   "source": [
    "largest_pk = np.argmax(pkprms.rough_sums)\n",
    "pkprms.centroids[largest_pk]"
   ]
  },
  {
   "cell_type": "code",
   "execution_count": null,
   "metadata": {
    "ExecuteTime": {
     "start_time": "2023-12-20T19:17:15.426061300Z"
    }
   },
   "outputs": [],
   "source": [
    "# Só pra lembrar como faz divisão inteira\n",
    "21 // 7"
   ]
  },
  {
   "cell_type": "code",
   "execution_count": null,
   "metadata": {
    "ExecuteTime": {
     "start_time": "2023-12-20T19:17:15.430116500Z"
    }
   },
   "outputs": [],
   "source": [
    "wi_re = pkprms.wide_regions[largest_pk]\n",
    "x = np.linspace(wi_re[0], wi_re[1], num=wi_re[1]-wi_re[0]+1)\n",
    "y = cntarr[wi_re[0]:wi_re[1]+1]\n",
    "c1 =  pkprms.centroids[largest_pk]\n",
    "s1 = pkprms.propts['widths'][largest_pk]*pkprms.k_fwhm_to_sd\n",
    "a1 = pkprms.rough_sums[largest_pk]\n",
    "# c2 = 313\n",
    "# s2 = 1.5\n",
    "# a2 = 400\n",
    "sste = 2.0"
   ]
  },
  {
   "cell_type": "code",
   "execution_count": null,
   "metadata": {
    "ExecuteTime": {
     "start_time": "2023-12-20T19:17:15.433144800Z"
    }
   },
   "outputs": [],
   "source": []
  },
  {
   "cell_type": "code",
   "execution_count": null,
   "metadata": {
    "ExecuteTime": {
     "start_time": "2023-12-20T19:17:15.436211500Z"
    }
   },
   "outputs": [],
   "source": [
    "# 2023-Jan-3\n",
    "# Aqui finalizo este teste:\n",
    "# Dado um espectro, escolhi o pico mais proeminente do espectro\n",
    "# e fiz o ajuste gaussianco com lmfit\n",
    "# No caso, o pico tem área, centroide, SD e FWHM:\n",
    "# g1_amplitude:  5264.84728 +/- 85.1465566 (1.62%) (init = 5347.497)\n",
    "# g1_center:     1926.29564 +/- 0.02690572 (0.00%) (init = 1926.275)\n",
    "# g1_sigma:      1.44040103 +/- 0.02690060 (1.87%) (init = 1.418733)\n",
    "# g1_fwhm:       3.39188516 +/- 0.06334608 (1.87%) == '2.3548200*g1_sigma'\n",
    "# g1_height:     1458.18438 +/- 23.5824677 (1.62%) == '0.3989423*g1_amplitude/max(1e-15, g1_sigma)'\n",
    "\n",
    "# Comparando com saíuda do Genie:\n",
    "# canal (>0)    En:    FWHM (keV)    net area    net area unc   continuum\n",
    "# 1927.34      1173.47 2.04          5.40E+003   89.73          8.83E+002\n",
    "#"
   ]
  },
  {
   "cell_type": "code",
   "execution_count": null,
   "metadata": {
    "ExecuteTime": {
     "start_time": "2023-12-20T19:17:15.444356600Z"
    }
   },
   "outputs": [],
   "source": [
    "out"
   ]
  },
  {
   "cell_type": "code",
   "execution_count": null,
   "metadata": {
    "ExecuteTime": {
     "start_time": "2023-12-20T19:17:15.461597200Z"
    }
   },
   "outputs": [],
   "source": [
    "out.params"
   ]
  },
  {
   "cell_type": "code",
   "execution_count": null,
   "metadata": {
    "ExecuteTime": {
     "start_time": "2023-12-20T19:17:15.467681400Z"
    }
   },
   "outputs": [],
   "source": [
    "out.var_names"
   ]
  },
  {
   "cell_type": "code",
   "execution_count": null,
   "metadata": {
    "ExecuteTime": {
     "start_time": "2023-12-20T19:17:15.472778200Z"
    }
   },
   "outputs": [],
   "source": [
    "out.params.items()"
   ]
  },
  {
   "cell_type": "code",
   "execution_count": null,
   "metadata": {
    "ExecuteTime": {
     "start_time": "2023-12-20T19:17:15.476839Z"
    }
   },
   "outputs": [],
   "source": [
    "out.params.pretty_print()"
   ]
  },
  {
   "cell_type": "code",
   "execution_count": null,
   "metadata": {
    "ExecuteTime": {
     "start_time": "2023-12-20T19:17:15.480905300Z"
    }
   },
   "outputs": [],
   "source": [
    "print('-------------------------------')\n",
    "print('Parameter    Value       Stderr')\n",
    "for name, param in out.params.items():\n",
    "    # print(f'{name:7s} {param.value:11.5f} {param.stderr:11.5f}')\n",
    "    print(name)\n",
    "    print(param)\n",
    "    print(param.value)"
   ]
  },
  {
   "cell_type": "code",
   "execution_count": null,
   "metadata": {
    "ExecuteTime": {
     "start_time": "2023-12-20T19:17:15.484981Z"
    }
   },
   "outputs": [],
   "source": []
  },
  {
   "cell_type": "code",
   "execution_count": null,
   "metadata": {
    "ExecuteTime": {
     "start_time": "2023-12-20T19:17:15.488011600Z"
    }
   },
   "outputs": [],
   "source": [
    "def gauss_lmfit_singlet(pkprms, ipk):\n",
    "    wi_re = pkprms.wide_regions[ipk]\n",
    "    print(f'pico: {wi_re}')\n",
    "    x = np.linspace(wi_re[0], wi_re[1], num=wi_re[1]-wi_re[0]+1)\n",
    "    y = cntarr[wi_re[0]:wi_re[1]+1]\n",
    "    c1 = pkprms.centroids[ipk]\n",
    "    s1 = pkprms.propts['widths'][ipk]*pkprms.k_fwhm_to_sd\n",
    "    a1 = pkprms.rough_sums[ipk]\n",
    "\n",
    "    parames = Parameters()\n",
    "\n",
    "    gauss1 = GaussianModel(prefix='g1_')\n",
    "    parames.update(gauss1.make_params())\n",
    "    parames['g1_center'].set(value=c1, min=c1-2, max=c1+2)\n",
    "    parames['g1_sigma'].set(value=s1, min=0.5, max=10)\n",
    "    parames['g1_amplitude'].set(value=a1, min=10)\n",
    "\n",
    "    mod = gauss1\n",
    "\n",
    "    init = mod.eval(parames, x=x)\n",
    "    out = mod.fit(y, parames, x=x, verbose=False)\n",
    "    print('Fez.')\n",
    "\n",
    "    # ret = [param for param in out.params.items()]\n",
    "    ret = out\n",
    "    return ret"
   ]
  },
  {
   "cell_type": "code",
   "execution_count": null,
   "metadata": {
    "ExecuteTime": {
     "start_time": "2023-12-20T19:17:15.491042200Z"
    }
   },
   "outputs": [],
   "source": [
    "for ipk in range(len(pkprms.peaks)):\n",
    "    ret = gauss_lmfit_singlet(pkprms, ipk)\n",
    "    print(ret)"
   ]
  },
  {
   "cell_type": "code",
   "execution_count": null,
   "metadata": {
    "ExecuteTime": {
     "start_time": "2023-12-20T19:17:15.494033800Z"
    }
   },
   "outputs": [],
   "source": [
    "ret"
   ]
  },
  {
   "cell_type": "code",
   "execution_count": null,
   "metadata": {
    "ExecuteTime": {
     "start_time": "2023-12-20T19:17:15.498109200Z"
    }
   },
   "outputs": [],
   "source": [
    "ret.params"
   ]
  },
  {
   "cell_type": "code",
   "execution_count": null,
   "metadata": {
    "ExecuteTime": {
     "start_time": "2023-12-20T19:17:15.500157300Z"
    }
   },
   "outputs": [],
   "source": [
    "for name, param in ret.params.items():\n",
    "    print(name, param.value, param.stderr)"
   ]
  },
  {
   "cell_type": "code",
   "execution_count": null,
   "metadata": {
    "ExecuteTime": {
     "start_time": "2023-12-20T19:17:15.505236200Z"
    }
   },
   "outputs": [],
   "source": [
    "for ipk in range(len(pkprms.peaks)):\n",
    "    ret = gauss_lmfit_singlet(pkprms, ipk)\n",
    "    # ret.params.pretty_print()"
   ]
  },
  {
   "cell_type": "code",
   "execution_count": null,
   "metadata": {
    "ExecuteTime": {
     "start_time": "2023-12-20T19:17:15.510308200Z"
    }
   },
   "outputs": [],
   "source": [
    "ret"
   ]
  },
  {
   "cell_type": "code",
   "execution_count": null,
   "metadata": {
    "ExecuteTime": {
     "start_time": "2023-12-20T19:17:15.513369500Z"
    }
   },
   "outputs": [],
   "source": [
    "xfgn sr hsrthf srth"
   ]
  },
  {
   "cell_type": "code",
   "execution_count": null,
   "metadata": {
    "ExecuteTime": {
     "start_time": "2023-12-20T19:17:15.515468900Z"
    }
   },
   "outputs": [],
   "source": []
  },
  {
   "cell_type": "code",
   "execution_count": null,
   "metadata": {
    "ExecuteTime": {
     "start_time": "2023-12-20T19:17:15.517521600Z"
    }
   },
   "outputs": [],
   "source": []
  },
  {
   "cell_type": "code",
   "execution_count": null,
   "metadata": {
    "ExecuteTime": {
     "start_time": "2023-12-20T19:17:15.519547Z"
    }
   },
   "outputs": [],
   "source": []
  },
  {
   "cell_type": "code",
   "execution_count": null,
   "metadata": {
    "ExecuteTime": {
     "start_time": "2023-12-20T19:17:15.521630500Z"
    }
   },
   "outputs": [],
   "source": []
  },
  {
   "cell_type": "code",
   "execution_count": null,
   "metadata": {
    "ExecuteTime": {
     "start_time": "2023-12-20T19:17:15.524744900Z"
    }
   },
   "outputs": [],
   "source": [
    "my_df.dtypes"
   ]
  },
  {
   "cell_type": "code",
   "execution_count": null,
   "metadata": {
    "ExecuteTime": {
     "start_time": "2023-12-20T19:17:15.527789300Z"
    }
   },
   "outputs": [],
   "source": [
    "ch_en = ogra.a_spec.channel_energy_calib.p_en"
   ]
  },
  {
   "cell_type": "code",
   "execution_count": null,
   "metadata": {
    "ExecuteTime": {
     "start_time": "2023-12-20T19:17:15.529823100Z"
    }
   },
   "outputs": [],
   "source": [
    "my_df['centrs_en'] = ch_en(my_df['centroids'])\n",
    "my_df"
   ]
  },
  {
   "cell_type": "code",
   "execution_count": null,
   "metadata": {
    "ExecuteTime": {
     "start_time": "2023-12-20T19:17:15.532886200Z"
    }
   },
   "outputs": [],
   "source": [
    "# The End"
   ]
  },
  {
   "cell_type": "code",
   "execution_count": null,
   "metadata": {
    "ExecuteTime": {
     "start_time": "2023-12-20T19:17:15.535076200Z"
    }
   },
   "outputs": [],
   "source": []
  }
 ],
 "metadata": {
  "kernelspec": {
   "display_name": "Python 3 (ipykernel)",
   "language": "python",
   "name": "python3"
  },
  "language_info": {
   "codemirror_mode": {
    "name": "ipython",
    "version": 3
   },
   "file_extension": ".py",
   "mimetype": "text/x-python",
   "name": "python",
   "nbconvert_exporter": "python",
   "pygments_lexer": "ipython3",
   "version": "3.11.5"
  }
 },
 "nbformat": 4,
 "nbformat_minor": 4
}
