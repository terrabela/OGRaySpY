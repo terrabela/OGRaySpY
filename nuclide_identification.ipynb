{
 "metadata": {
  "kernelspec": {
   "display_name": "Python 3 (ipykernel)",
   "language": "python",
   "name": "python3"
  },
  "language_info": {
   "codemirror_mode": {
    "name": "ipython",
    "version": 3
   },
   "file_extension": ".py",
   "mimetype": "text/x-python",
   "name": "python",
   "nbconvert_exporter": "python",
   "pygments_lexer": "ipython3",
   "version": "3.10.11"
  }
 },
 "nbformat_minor": 4,
 "nbformat": 4,
 "cells": [
  {
   "cell_type": "code",
   "source": [
    "\n",
    "# 2022-out-7: Excelente espectro para testes, tenho usado ultimamente:\n",
    "# a_pattern = 'Si/SI2018/SI11318.Chn'\n",
    "# 2022-nov-16: outros espectros:\n",
    "# a_pattern = \"Filtros/2022/Cci/CCI1603-I.Chn\"\n",
    "# a_pattern = \"Filtros/2022/Cci/CCI2302-I.Chn\"\n",
    "\n",
    "# a_pattern = \"Eso_non_existe.Chn\"\n",
    "\n",
    "# 2022-Dez-21 Buscando outro espectro\n",
    "# a_pattern = 'CCI1603-I'\n",
    "# 2022-Dez-28 Este é um espectro mais recente:\n",
    "# a_pattern = 'SI09722.Chn'\n",
    "# 2022-Dez-28 Este é um espectro mais recente que posso comparar com saída do Genie:\n",
    "# a_pattern = 'SI06322.Chn'\n",
    "# a_pattern = 'SI06122.Chn'"
   ],
   "metadata": {
    "tags": [],
    "trusted": true,
    "ExecuteTime": {
     "end_time": "2023-10-25T15:24:45.303998500Z",
     "start_time": "2023-10-25T15:24:40.190461900Z"
    }
   },
   "execution_count": 28,
   "outputs": []
  },
  {
   "cell_type": "code",
   "source": [
    "import numpy as np\n",
    "from numpy.polynomial import Polynomial as P  # 2020-09-06 Esta é a nova classe recomendada\n",
    "from sklearn import linear_model\n",
    "\n",
    "import pandas as pd\n",
    "from random import randrange\n",
    "# import plotly.graph_objects as go"
   ],
   "metadata": {
    "tags": [],
    "collapsed": false,
    "trusted": true,
    "ExecuteTime": {
     "end_time": "2023-10-25T15:24:45.319591200Z",
     "start_time": "2023-10-25T15:24:40.190461900Z"
    }
   },
   "execution_count": 29,
   "outputs": []
  },
  {
   "cell_type": "code",
   "source": [
    "from ograyspy_class import Ograyspy, select_spectrum_from_folder_list\n",
    "from spec_class import Spec"
   ],
   "metadata": {
    "tags": [],
    "trusted": true,
    "ExecuteTime": {
     "end_time": "2023-10-25T15:24:45.319591200Z",
     "start_time": "2023-10-25T15:24:40.768474700Z"
    }
   },
   "execution_count": 30,
   "outputs": []
  },
  {
   "cell_type": "code",
   "source": [
    "ogra = Ograyspy()\n",
    "print(ogra.info_node)\n",
    "to_be_found = 'Genie_Transfer'\n",
    "# to_be_found = 'some_spectra' # NAO ESTAH ACHANDO localmente no note!"
   ],
   "metadata": {
    "tags": [],
    "collapsed": false,
    "trusted": true,
    "ExecuteTime": {
     "end_time": "2023-10-25T15:24:45.319591200Z",
     "start_time": "2023-10-25T15:24:40.846580400Z"
    }
   },
   "execution_count": 31,
   "outputs": [
    {
     "name": "stdout",
     "output_type": "stream",
     "text": [
      "Found folder name:  C:\\Users\\mmaduar\\.atom\n",
      "Parts:  ('C:\\\\', 'Users', 'mmaduar', '.atom')\n",
      "No. spec files:  0\n",
      "I56611\n"
     ]
    }
   ]
  },
  {
   "cell_type": "code",
   "source": [
    "print('\\nExec ogra.define_files_folder(to_be_found):')\n",
    "ogra.define_files_folder(to_be_found)\n",
    "print(ogra.pkl_folder_files)\n",
    "spectra_list_df = pd.read_pickle(ogra.pkl_folder_files)\n",
    "del ogra"
   ],
   "metadata": {
    "tags": [],
    "trusted": true,
    "ExecuteTime": {
     "end_time": "2023-10-25T15:24:45.319591200Z",
     "start_time": "2023-10-25T15:24:41.065280300Z"
    }
   },
   "execution_count": 32,
   "outputs": [
    {
     "name": "stdout",
     "output_type": "stream",
     "text": [
      "\n",
      "Exec ogra.define_files_folder(to_be_found):\n",
      "Found folder name:  C:\\Users\\mmaduar\\Nextcloud\\Genie_Transfer\n",
      "Parts:  ('C:\\\\', 'Users', 'mmaduar', 'Nextcloud', 'Genie_Transfer')\n",
      "No. spec files:  7291\n",
      "WindowsI56611.pkl\n"
     ]
    }
   ]
  },
  {
   "cell_type": "code",
   "source": [
    "reduc_nms = spectra_list_df.reduced_names_files_list[0]\n",
    "fil_lst = spectra_list_df.files_list[0]\n",
    "spc_pth = spectra_list_df.spectra_path[0]"
   ],
   "metadata": {
    "tags": [],
    "trusted": true,
    "ExecuteTime": {
     "end_time": "2023-10-25T15:24:45.319591200Z",
     "start_time": "2023-10-25T15:24:41.908793600Z"
    }
   },
   "execution_count": 33,
   "outputs": []
  },
  {
   "cell_type": "code",
   "source": [
    "len(reduc_nms)"
   ],
   "metadata": {
    "tags": [],
    "collapsed": false,
    "trusted": true,
    "ExecuteTime": {
     "end_time": "2023-10-25T15:24:45.319591200Z",
     "start_time": "2023-10-25T15:24:41.924443800Z"
    }
   },
   "execution_count": 34,
   "outputs": [
    {
     "data": {
      "text/plain": "7291"
     },
     "execution_count": 34,
     "metadata": {},
     "output_type": "execute_result"
    }
   ]
  },
  {
   "cell_type": "code",
   "source": [
    "# 2022-Dez-28 Esse é um espectro mais recente que posso comparar com saída do Genie:\n",
    "a_pattern = 'SI06122.Chn'"
   ],
   "metadata": {
    "tags": [],
    "collapsed": false,
    "trusted": true,
    "ExecuteTime": {
     "end_time": "2023-10-25T15:24:45.319591200Z",
     "start_time": "2023-10-25T15:24:42.835119800Z"
    }
   },
   "execution_count": 35,
   "outputs": []
  },
  {
   "cell_type": "code",
   "source": [
    "f_name, reduced_f_name = select_spectrum_from_folder_list(reduc_nms, fil_lst, spc_pth, a_pattern)\n",
    "f_name, reduced_f_name"
   ],
   "metadata": {
    "tags": [],
    "trusted": true,
    "ExecuteTime": {
     "end_time": "2023-10-25T15:24:45.335242Z",
     "start_time": "2023-10-25T15:24:43.069436300Z"
    }
   },
   "execution_count": 36,
   "outputs": [
    {
     "name": "stdout",
     "output_type": "stream",
     "text": [
      "Existing:\n",
      "Achou! indice=7212, nomearq = Si/SI2022/SI06122.Chn\n",
      "==========================\n",
      "Final choices:\n",
      "spectra_path: C:\\Users\\mmaduar\\Nextcloud\\Genie_Transfer\n",
      "a_spec_name: C:\\Users\\mmaduar\\Nextcloud\\Genie_Transfer\\Si\\SI2022\\SI06122.Chn\n",
      "reduced_f_name: Si/SI2022/SI06122.Chn\n"
     ]
    },
    {
     "data": {
      "text/plain": "(WindowsPath('C:/Users/mmaduar/Nextcloud/Genie_Transfer/Si/SI2022/SI06122.Chn'),\n 'Si/SI2022/SI06122.Chn')"
     },
     "execution_count": 36,
     "metadata": {},
     "output_type": "execute_result"
    }
   ]
  },
  {
   "cell_type": "code",
   "source": [],
   "metadata": {
    "collapsed": false,
    "ExecuteTime": {
     "end_time": "2023-10-25T15:24:45.335242Z",
     "start_time": "2023-10-25T15:24:43.194405800Z"
    }
   },
   "execution_count": 36,
   "outputs": []
  },
  {
   "cell_type": "code",
   "source": [
    "nucl_iear1_df = pd.read_pickle('nucl_iear1_list.pkl')\n",
    "nucl_iear1_df"
   ],
   "metadata": {
    "tags": [],
    "collapsed": false,
    "trusted": true,
    "ExecuteTime": {
     "end_time": "2023-10-25T15:24:45.335242Z",
     "start_time": "2023-10-25T15:24:43.210056300Z"
    }
   },
   "execution_count": 37,
   "outputs": [
    {
     "data": {
      "text/plain": "     nuclide_name     energy  unc_en  intensity  unc_i  half_life  decay  \\\n1            24na  1368.6250   0.005     99.994  0.002     14.956     B-   \n2            24na  2754.0080   0.011     99.867   0.01     14.956     B-   \n9            51cr   320.0824  0.0004      9.910   0.01     27.704     EC   \n15           54mn   834.8480   0.003     99.976  0.001    312.200  EC+B+   \n22           58co   810.7593   0.002     99.450   0.01     70.860  EC+B+   \n...           ...        ...     ...        ...    ...        ...    ...   \n1066        228Ac    89.9540              2.010   0.19      6.150     B-   \n1067        228Ac    93.3470              3.200    0.3      6.150     B-   \n1068        228Ac   105.5660              1.160   0.11      6.150     B-   \n1069        228Ac   106.8940              1.540   0.15      6.150     B-   \n1070        228Ac   108.5800              0.390   0.04      6.150     B-   \n\n      decay_%  key_gamma is_key_gamma  \n1       100.0     1368.6         True  \n2       100.0     1368.6        False  \n9       100.0      320.1         True  \n15      100.0      834.8         True  \n22      100.0      810.8         True  \n...       ...        ...          ...  \n1066    100.0      911.6        False  \n1067    100.0      911.6        False  \n1068    100.0      911.6        False  \n1069    100.0      911.6        False  \n1070    100.0      911.6        False  \n\n[235 rows x 10 columns]",
      "text/html": "<div>\n<style scoped>\n    .dataframe tbody tr th:only-of-type {\n        vertical-align: middle;\n    }\n\n    .dataframe tbody tr th {\n        vertical-align: top;\n    }\n\n    .dataframe thead th {\n        text-align: right;\n    }\n</style>\n<table border=\"1\" class=\"dataframe\">\n  <thead>\n    <tr style=\"text-align: right;\">\n      <th></th>\n      <th>nuclide_name</th>\n      <th>energy</th>\n      <th>unc_en</th>\n      <th>intensity</th>\n      <th>unc_i</th>\n      <th>half_life</th>\n      <th>decay</th>\n      <th>decay_%</th>\n      <th>key_gamma</th>\n      <th>is_key_gamma</th>\n    </tr>\n  </thead>\n  <tbody>\n    <tr>\n      <th>1</th>\n      <td>24na</td>\n      <td>1368.6250</td>\n      <td>0.005</td>\n      <td>99.994</td>\n      <td>0.002</td>\n      <td>14.956</td>\n      <td>B-</td>\n      <td>100.0</td>\n      <td>1368.6</td>\n      <td>True</td>\n    </tr>\n    <tr>\n      <th>2</th>\n      <td>24na</td>\n      <td>2754.0080</td>\n      <td>0.011</td>\n      <td>99.867</td>\n      <td>0.01</td>\n      <td>14.956</td>\n      <td>B-</td>\n      <td>100.0</td>\n      <td>1368.6</td>\n      <td>False</td>\n    </tr>\n    <tr>\n      <th>9</th>\n      <td>51cr</td>\n      <td>320.0824</td>\n      <td>0.0004</td>\n      <td>9.910</td>\n      <td>0.01</td>\n      <td>27.704</td>\n      <td>EC</td>\n      <td>100.0</td>\n      <td>320.1</td>\n      <td>True</td>\n    </tr>\n    <tr>\n      <th>15</th>\n      <td>54mn</td>\n      <td>834.8480</td>\n      <td>0.003</td>\n      <td>99.976</td>\n      <td>0.001</td>\n      <td>312.200</td>\n      <td>EC+B+</td>\n      <td>100.0</td>\n      <td>834.8</td>\n      <td>True</td>\n    </tr>\n    <tr>\n      <th>22</th>\n      <td>58co</td>\n      <td>810.7593</td>\n      <td>0.002</td>\n      <td>99.450</td>\n      <td>0.01</td>\n      <td>70.860</td>\n      <td>EC+B+</td>\n      <td>100.0</td>\n      <td>810.8</td>\n      <td>True</td>\n    </tr>\n    <tr>\n      <th>...</th>\n      <td>...</td>\n      <td>...</td>\n      <td>...</td>\n      <td>...</td>\n      <td>...</td>\n      <td>...</td>\n      <td>...</td>\n      <td>...</td>\n      <td>...</td>\n      <td>...</td>\n    </tr>\n    <tr>\n      <th>1066</th>\n      <td>228Ac</td>\n      <td>89.9540</td>\n      <td></td>\n      <td>2.010</td>\n      <td>0.19</td>\n      <td>6.150</td>\n      <td>B-</td>\n      <td>100.0</td>\n      <td>911.6</td>\n      <td>False</td>\n    </tr>\n    <tr>\n      <th>1067</th>\n      <td>228Ac</td>\n      <td>93.3470</td>\n      <td></td>\n      <td>3.200</td>\n      <td>0.3</td>\n      <td>6.150</td>\n      <td>B-</td>\n      <td>100.0</td>\n      <td>911.6</td>\n      <td>False</td>\n    </tr>\n    <tr>\n      <th>1068</th>\n      <td>228Ac</td>\n      <td>105.5660</td>\n      <td></td>\n      <td>1.160</td>\n      <td>0.11</td>\n      <td>6.150</td>\n      <td>B-</td>\n      <td>100.0</td>\n      <td>911.6</td>\n      <td>False</td>\n    </tr>\n    <tr>\n      <th>1069</th>\n      <td>228Ac</td>\n      <td>106.8940</td>\n      <td></td>\n      <td>1.540</td>\n      <td>0.15</td>\n      <td>6.150</td>\n      <td>B-</td>\n      <td>100.0</td>\n      <td>911.6</td>\n      <td>False</td>\n    </tr>\n    <tr>\n      <th>1070</th>\n      <td>228Ac</td>\n      <td>108.5800</td>\n      <td></td>\n      <td>0.390</td>\n      <td>0.04</td>\n      <td>6.150</td>\n      <td>B-</td>\n      <td>100.0</td>\n      <td>911.6</td>\n      <td>False</td>\n    </tr>\n  </tbody>\n</table>\n<p>235 rows × 10 columns</p>\n</div>"
     },
     "execution_count": 37,
     "metadata": {},
     "output_type": "execute_result"
    }
   ]
  },
  {
   "cell_type": "code",
   "source": [
    "# 2023-Jun-15: Setting gamma lines/ranges to dismiss in the analysis\n",
    "df1 = nucl_iear1_df\n",
    "df1[\"is_to_consider\"] = True\n",
    "df1.loc[((df1.energy > 509) & (df1.energy < 513)) | (df1.energy < 100), \"is_to_consider\"] = False\n",
    "# Convert these columns from object to numeric; empty strings turns into NaNs\n",
    "df1[\"unc_i\"] = pd.to_numeric(df1.unc_i, errors=\"coerce\")\n",
    "df1[\"unc_en\"] = pd.to_numeric(df1.unc_en, errors=\"coerce\")\n",
    "del df1\n",
    "nucl_iear1_df"
   ],
   "metadata": {
    "tags": [],
    "collapsed": false,
    "trusted": true,
    "ExecuteTime": {
     "end_time": "2023-10-25T15:24:45.335242Z",
     "start_time": "2023-10-25T15:24:43.319403600Z"
    }
   },
   "execution_count": 38,
   "outputs": [
    {
     "data": {
      "text/plain": "     nuclide_name     energy  unc_en  intensity  unc_i  half_life  decay  \\\n1            24na  1368.6250  0.0050     99.994  0.002     14.956     B-   \n2            24na  2754.0080  0.0110     99.867  0.010     14.956     B-   \n9            51cr   320.0824  0.0004      9.910  0.010     27.704     EC   \n15           54mn   834.8480  0.0030     99.976  0.001    312.200  EC+B+   \n22           58co   810.7593  0.0020     99.450  0.010     70.860  EC+B+   \n...           ...        ...     ...        ...    ...        ...    ...   \n1066        228Ac    89.9540     NaN      2.010  0.190      6.150     B-   \n1067        228Ac    93.3470     NaN      3.200  0.300      6.150     B-   \n1068        228Ac   105.5660     NaN      1.160  0.110      6.150     B-   \n1069        228Ac   106.8940     NaN      1.540  0.150      6.150     B-   \n1070        228Ac   108.5800     NaN      0.390  0.040      6.150     B-   \n\n      decay_%  key_gamma is_key_gamma  is_to_consider  \n1       100.0     1368.6         True            True  \n2       100.0     1368.6        False            True  \n9       100.0      320.1         True            True  \n15      100.0      834.8         True            True  \n22      100.0      810.8         True            True  \n...       ...        ...          ...             ...  \n1066    100.0      911.6        False           False  \n1067    100.0      911.6        False           False  \n1068    100.0      911.6        False            True  \n1069    100.0      911.6        False            True  \n1070    100.0      911.6        False            True  \n\n[235 rows x 11 columns]",
      "text/html": "<div>\n<style scoped>\n    .dataframe tbody tr th:only-of-type {\n        vertical-align: middle;\n    }\n\n    .dataframe tbody tr th {\n        vertical-align: top;\n    }\n\n    .dataframe thead th {\n        text-align: right;\n    }\n</style>\n<table border=\"1\" class=\"dataframe\">\n  <thead>\n    <tr style=\"text-align: right;\">\n      <th></th>\n      <th>nuclide_name</th>\n      <th>energy</th>\n      <th>unc_en</th>\n      <th>intensity</th>\n      <th>unc_i</th>\n      <th>half_life</th>\n      <th>decay</th>\n      <th>decay_%</th>\n      <th>key_gamma</th>\n      <th>is_key_gamma</th>\n      <th>is_to_consider</th>\n    </tr>\n  </thead>\n  <tbody>\n    <tr>\n      <th>1</th>\n      <td>24na</td>\n      <td>1368.6250</td>\n      <td>0.0050</td>\n      <td>99.994</td>\n      <td>0.002</td>\n      <td>14.956</td>\n      <td>B-</td>\n      <td>100.0</td>\n      <td>1368.6</td>\n      <td>True</td>\n      <td>True</td>\n    </tr>\n    <tr>\n      <th>2</th>\n      <td>24na</td>\n      <td>2754.0080</td>\n      <td>0.0110</td>\n      <td>99.867</td>\n      <td>0.010</td>\n      <td>14.956</td>\n      <td>B-</td>\n      <td>100.0</td>\n      <td>1368.6</td>\n      <td>False</td>\n      <td>True</td>\n    </tr>\n    <tr>\n      <th>9</th>\n      <td>51cr</td>\n      <td>320.0824</td>\n      <td>0.0004</td>\n      <td>9.910</td>\n      <td>0.010</td>\n      <td>27.704</td>\n      <td>EC</td>\n      <td>100.0</td>\n      <td>320.1</td>\n      <td>True</td>\n      <td>True</td>\n    </tr>\n    <tr>\n      <th>15</th>\n      <td>54mn</td>\n      <td>834.8480</td>\n      <td>0.0030</td>\n      <td>99.976</td>\n      <td>0.001</td>\n      <td>312.200</td>\n      <td>EC+B+</td>\n      <td>100.0</td>\n      <td>834.8</td>\n      <td>True</td>\n      <td>True</td>\n    </tr>\n    <tr>\n      <th>22</th>\n      <td>58co</td>\n      <td>810.7593</td>\n      <td>0.0020</td>\n      <td>99.450</td>\n      <td>0.010</td>\n      <td>70.860</td>\n      <td>EC+B+</td>\n      <td>100.0</td>\n      <td>810.8</td>\n      <td>True</td>\n      <td>True</td>\n    </tr>\n    <tr>\n      <th>...</th>\n      <td>...</td>\n      <td>...</td>\n      <td>...</td>\n      <td>...</td>\n      <td>...</td>\n      <td>...</td>\n      <td>...</td>\n      <td>...</td>\n      <td>...</td>\n      <td>...</td>\n      <td>...</td>\n    </tr>\n    <tr>\n      <th>1066</th>\n      <td>228Ac</td>\n      <td>89.9540</td>\n      <td>NaN</td>\n      <td>2.010</td>\n      <td>0.190</td>\n      <td>6.150</td>\n      <td>B-</td>\n      <td>100.0</td>\n      <td>911.6</td>\n      <td>False</td>\n      <td>False</td>\n    </tr>\n    <tr>\n      <th>1067</th>\n      <td>228Ac</td>\n      <td>93.3470</td>\n      <td>NaN</td>\n      <td>3.200</td>\n      <td>0.300</td>\n      <td>6.150</td>\n      <td>B-</td>\n      <td>100.0</td>\n      <td>911.6</td>\n      <td>False</td>\n      <td>False</td>\n    </tr>\n    <tr>\n      <th>1068</th>\n      <td>228Ac</td>\n      <td>105.5660</td>\n      <td>NaN</td>\n      <td>1.160</td>\n      <td>0.110</td>\n      <td>6.150</td>\n      <td>B-</td>\n      <td>100.0</td>\n      <td>911.6</td>\n      <td>False</td>\n      <td>True</td>\n    </tr>\n    <tr>\n      <th>1069</th>\n      <td>228Ac</td>\n      <td>106.8940</td>\n      <td>NaN</td>\n      <td>1.540</td>\n      <td>0.150</td>\n      <td>6.150</td>\n      <td>B-</td>\n      <td>100.0</td>\n      <td>911.6</td>\n      <td>False</td>\n      <td>True</td>\n    </tr>\n    <tr>\n      <th>1070</th>\n      <td>228Ac</td>\n      <td>108.5800</td>\n      <td>NaN</td>\n      <td>0.390</td>\n      <td>0.040</td>\n      <td>6.150</td>\n      <td>B-</td>\n      <td>100.0</td>\n      <td>911.6</td>\n      <td>False</td>\n      <td>True</td>\n    </tr>\n  </tbody>\n</table>\n<p>235 rows × 11 columns</p>\n</div>"
     },
     "execution_count": 38,
     "metadata": {},
     "output_type": "execute_result"
    }
   ]
  },
  {
   "cell_type": "code",
   "source": [
    "a_spec = Spec(f_name, reduced_f_name)"
   ],
   "metadata": {
    "tags": [],
    "trusted": true,
    "ExecuteTime": {
     "end_time": "2023-10-25T15:24:45.335242Z",
     "start_time": "2023-10-25T15:24:43.444344700Z"
    }
   },
   "execution_count": 39,
   "outputs": []
  },
  {
   "cell_type": "code",
   "source": [
    "dir(a_spec)"
   ],
   "metadata": {
    "tags": [],
    "collapsed": false,
    "trusted": true,
    "ExecuteTime": {
     "end_time": "2023-10-25T15:24:45.335242Z",
     "start_time": "2023-10-25T15:24:43.538100500Z"
    }
   },
   "execution_count": 40,
   "outputs": [
    {
     "data": {
      "text/plain": "['__class__',\n '__delattr__',\n '__dict__',\n '__dir__',\n '__doc__',\n '__eq__',\n '__format__',\n '__ge__',\n '__getattribute__',\n '__gt__',\n '__hash__',\n '__init__',\n '__init_subclass__',\n '__le__',\n '__lt__',\n '__module__',\n '__ne__',\n '__new__',\n '__reduce__',\n '__reduce_ex__',\n '__repr__',\n '__setattr__',\n '__sizeof__',\n '__str__',\n '__subclasshook__',\n '__weakref__',\n 'add_engy_to_pks_df',\n 'channel_energy_calib',\n 'create_activities_df',\n 'create_matching_peaks_df',\n 'curr_h_win',\n 'det_descr',\n 'en_eff',\n 'f_name',\n 'final_composed_baseline',\n 'generate_pandas_dataframe',\n 'identify_nuclides',\n 'lv_time',\n 'net_spec_ser_an',\n 'nucl_an',\n 'origin_spec_ser_an',\n 'read_pkl_file',\n 'reduced_f_name',\n 'results_pkl_file',\n 'rl_time',\n 'sam_descr',\n 'source_datetime',\n 'spec_io',\n 'start_datetime',\n 'sufx',\n 'total_analysis']"
     },
     "execution_count": 40,
     "metadata": {},
     "output_type": "execute_result"
    }
   ]
  },
  {
   "cell_type": "code",
   "source": [
    "a_spec.total_analysis(gener_dataframe=True, results_path='../ograyspy_results')\n",
    "# A opção acima, gener_dataframe=True,  grava o pkl_file do espectro\n",
    "vars(a_spec)"
   ],
   "metadata": {
    "tags": [],
    "collapsed": false,
    "trusted": true,
    "ExecuteTime": {
     "end_time": "2023-10-25T15:24:45.335242Z",
     "start_time": "2023-10-25T15:24:43.616206900Z"
    }
   },
   "execution_count": 41,
   "outputs": [
    {
     "name": "stdout",
     "output_type": "stream",
     "text": [
      "Starting Spec.total_analysis...\n",
      "resolve_peaks_and_regions:\n",
      "define_multiplets_regions completado. Define: self.mix_regions.\n",
      "resolve_peaks_and_regions:\n",
      "define_multiplets_regions completado. Define: self.mix_regions.\n",
      "Si\\SI2022\\SI06122.Chn\n",
      "Si\\SI2022\\SI06122_result.pkl\n",
      "results_pkl_file\n",
      "..\\ograyspy_results\\Si\\SI2022\\SI06122_result.pkl\n",
      "Finish Spec.total_analysis!\n"
     ]
    },
    {
     "data": {
      "text/plain": "{'net_spec_ser_an': <generic_series_analysis_class.GenericSeriesAnalysis at 0x1f07321dc40>,\n 'final_composed_baseline': <generic_series_analysis_class.GenericSeriesAnalysis at 0x1f073206f40>,\n 'f_name': WindowsPath('C:/Users/mmaduar/Nextcloud/Genie_Transfer/Si/SI2022/SI06122.Chn'),\n 'reduced_f_name': 'Si/SI2022/SI06122.Chn',\n 'sufx': '.chn',\n 'spec_io': None,\n 'lv_time': 50000.0,\n 'rl_time': 50028.96,\n 'source_datetime': None,\n 'results_pkl_file': WindowsPath('../ograyspy_results/Si/SI2022/SI06122_result.pkl'),\n 'origin_spec_ser_an': <generic_series_analysis_class.GenericSeriesAnalysis at 0x1f073206940>,\n 'start_datetime': datetime.datetime(2022, 7, 27, 16, 56, 29),\n 'det_descr': 'MAQUINA_01 MCB 1 Input 1',\n 'sam_descr': 'SI-061/22 Agua da Piscina Reator IEA-R1 (GMX)',\n 'channel_energy_calib': <genericcalib_class.ChannelEnergyCalib at 0x1f073206b20>,\n 'nucl_an': <nuclide_analysis_class.NuclideAnalysis at 0x1f0732062b0>}"
     },
     "execution_count": 41,
     "metadata": {},
     "output_type": "execute_result"
    }
   ]
  },
  {
   "cell_type": "code",
   "execution_count": 42,
   "outputs": [
    {
     "name": "stdout",
     "output_type": "stream",
     "text": [
      "Lets identify nuclides.\n",
      "    peaks   fwhm_centr   rough_sums    centroids     variances       pk_hei  \\\n",
      "0      30    29.785567  1893.942368    29.963695  14133.214332   818.646195   \n",
      "1     128   128.364887  2876.788495   127.767831  11283.211505   720.585627   \n",
      "2     145   144.459911  1278.607977   144.896569  10161.329960   389.571554   \n",
      "3     236   235.273124   462.759320   235.202199  12019.150830   123.425784   \n",
      "4     396   396.401754   630.310441   396.426778  10404.641509   162.845302   \n",
      "5     489   488.997063   249.976688   488.967375   4072.023312   125.089174   \n",
      "6     581   581.463638   430.396173   581.647407   5405.821287   147.276132   \n",
      "7     716   715.508125   222.738094   715.666805   4033.829966    79.006167   \n",
      "8     841   841.967813  2900.206925   841.976062   7873.573309   559.895371   \n",
      "9     960   960.088168   483.773366   960.065118   3335.841582   148.624963   \n",
      "10   1003  1002.888165   769.886444  1002.931019   3458.113556   220.739274   \n",
      "11   1011  1011.595555   246.139531  1011.090936   3193.930817    63.325136   \n",
      "12   1082  1082.208995  2125.483990  1082.200436   4570.516010   657.235129   \n",
      "13   1088  1088.722180   401.081225  1088.105023   2556.918775    97.223236   \n",
      "14   1115  1114.774649   176.695976  1115.022855   1999.057501    67.734059   \n",
      "15   1163  1162.050038   336.295814  1161.943753   2591.560129    85.795902   \n",
      "16   1189  1189.227086   160.747926  1189.208186   1865.322724    64.537729   \n",
      "17   1256  1256.302992   405.106118  1256.297717   2257.095859   134.196651   \n",
      "18   1333  1332.711271  2591.874119  1332.650344   4761.752838   751.356428   \n",
      "19   1372  1372.729536   280.179798  1372.499811   3213.742890    65.116362   \n",
      "20   1454  1453.734014  1344.932670  1453.640093   3338.139458   367.505693   \n",
      "21   1498  1497.331339   583.585709  1497.348693   2898.191988   142.666499   \n",
      "22   1540  1540.041676   709.425445  1539.865159   2764.574555   175.614136   \n",
      "23   1585  1585.460179   338.833600  1586.692586   2496.637384    45.747485   \n",
      "24   1592  1591.886380   345.779231  1591.826779   1952.269003    99.327543   \n",
      "25   1832  1831.914493   472.981339  1832.180142   2007.018661   108.310877   \n",
      "26   1840  1839.413659   319.008013  1839.453015   1418.991987    88.356843   \n",
      "27   1926  1926.179506  6398.833656  1926.124036   7679.166344  1698.898100   \n",
      "28   2032  2032.335868   150.062903  2032.321879    865.937097    39.200234   \n",
      "29   2187  2186.952804  5848.127892  2186.881900   6473.872108  1402.774453   \n",
      "30   2247  2246.361081   170.789713  2246.149438    610.315531    57.090852   \n",
      "31   2262  2260.909926   107.824449  2261.366983    633.663193    25.844698   \n",
      "32   2272  2271.692429   360.400194  2271.722928    921.547003    83.645558   \n",
      "33   2397  2397.354424  3206.949995  2397.267432   3637.050005   777.060380   \n",
      "34   2470  2469.534452   183.362379  2469.277794    470.637621    47.058621   \n",
      "35   2606  2605.351065   131.163569  2605.622131    358.836431    42.782923   \n",
      "36   2613  2612.853034   234.194972  2613.278554    601.805028    33.863911   \n",
      "37   2836  2835.888820    64.091621  2836.315622    177.908379    21.622287   \n",
      "38   2894  2894.703133   397.650084  2894.518455    654.835127    91.256400   \n",
      "39   3030  3030.293398    54.452120  3030.019570    153.547880    23.091528   \n",
      "40   3450  3449.565229   168.356845  3449.403829    291.643155    46.289910   \n",
      "41   3615  3614.038497   124.857782  3614.158312    343.648757    28.476903   \n",
      "\n",
      "        lf_thr      rg_thr       promns  lf_bas  rg_bas    widths      wi_hei  \\\n",
      "0   201.465549  450.836680   818.646195      28      33  2.244704  409.323097   \n",
      "1   359.256221   71.539300   720.585627     100     137  2.761022  360.292813   \n",
      "2     4.276963  247.018556   389.571554     142     151  2.657272  194.785777   \n",
      "3    40.769738   84.205044   123.425784     233     240  2.919528   61.712892   \n",
      "4    70.909899   49.239266   162.845302     392     404  3.333009   81.422651   \n",
      "5    88.241458   88.978919   125.089174     485     493  1.411704   62.544587   \n",
      "6    89.934593    1.069452   147.276132     579     585  2.564867   73.638066   \n",
      "7    15.639623   46.454617    79.006167     713     719  2.684467   39.503084   \n",
      "8   213.926360   11.088422   559.895371     836     850  4.639239  279.947685   \n",
      "9    51.372759   40.677023   148.624963     955     963  2.878815   74.312482   \n",
      "10   40.375893   77.703349   220.739274     990    1008  3.022488  110.369637   \n",
      "11   32.214361    1.787671    63.325136    1008    1016  3.156853   31.662568   \n",
      "12  251.432911  123.634783   657.235129    1073    1101  2.972686  328.617564   \n",
      "13   59.126652   28.889179    69.221096    1086    1101  2.615085   62.612688   \n",
      "14   24.189260   36.845929    67.734059    1112    1117  2.289007   33.867030   \n",
      "15    0.176165   73.885618    85.795902    1152    1166  3.061124   42.897951   \n",
      "16   34.156127   10.853057    64.537729    1186    1191  2.343664   32.268865   \n",
      "17   62.170938   26.847523   134.196651    1253    1261  2.834482   67.098325   \n",
      "18   92.344345  268.763363   751.356428    1328    1338  3.214050  375.678214   \n",
      "19   25.123727    5.880614    65.116362    1369    1376  4.593614   32.558181   \n",
      "20   29.182944  101.857014   367.505693    1449    1459  3.422487  183.752846   \n",
      "21   25.140725   51.889893   142.666499    1494    1503  3.965272   71.333250   \n",
      "22   63.155763   38.866820   175.614136    1534    1573  3.667664   87.807068   \n",
      "23    2.085748   21.928123    45.747485    1583    1588  3.872587   22.873742   \n",
      "24   26.119164   25.897229    99.327543    1588    1597  3.077070   49.663772   \n",
      "25   16.197018   27.833974   108.310877    1816    1845  3.933581   54.155439   \n",
      "26   22.173774   48.880461    74.557849    1836    1845  2.697992   51.077919   \n",
      "27  468.438806  262.626878  1698.898100    1916    1933  3.484062  849.449050   \n",
      "28   20.187085    6.828505    39.200234    2028    2037  2.613583   19.600117   \n",
      "29  223.650380  221.450518  1402.774453    2177    2193  3.853372  701.387226   \n",
      "30   27.132936   33.922184    57.090852    2242    2250  2.960832   28.545426   \n",
      "31    8.081059   17.948122    25.844698    2257    2267  3.620114   12.922349   \n",
      "32    7.173466   18.857337    83.645558    2267    2276  4.010758   41.822779   \n",
      "33  263.219632   21.786446   777.060380    2389    2404  3.821993  388.530190   \n",
      "34    3.040656   22.974186    47.058621    2460    2481  3.016614   23.529310   \n",
      "35   20.020247   26.989344    42.782923    2600    2624  2.883048   21.391462   \n",
      "36    1.017050    4.984726    28.063228    2608    2624  4.105433   19.832298   \n",
      "37   12.029719   15.984690    21.622287    2831    2842  1.575047   10.811143   \n",
      "38   36.028978   12.974715    91.256400    2889    2899  4.091466   45.628200   \n",
      "39   19.009584    9.993320    23.091528    3021    3038  1.801527   11.545764   \n",
      "40   15.992458   25.004050    46.289910    3442    3456  2.720839   23.144955   \n",
      "41    6.988944    9.008367    28.476903    3611    3620  4.538191   14.238452   \n",
      "\n",
      "         lf_ips       rg_ips  \n",
      "0     28.663214    30.907919  \n",
      "1    126.984376   129.745398  \n",
      "2    143.131275   145.788547  \n",
      "3    233.813360   236.732888  \n",
      "4    394.735249   398.068258  \n",
      "5    488.291211   489.702915  \n",
      "6    580.181204   582.746071  \n",
      "7    714.165892   716.850359  \n",
      "8    839.648194   844.287433  \n",
      "9    958.648761   961.527576  \n",
      "10  1001.376921  1004.399409  \n",
      "11  1010.017129  1013.173982  \n",
      "12  1080.722653  1083.695338  \n",
      "13  1087.414637  1090.029722  \n",
      "14  1113.630146  1115.919153  \n",
      "15  1160.519476  1163.580599  \n",
      "16  1188.055254  1190.398918  \n",
      "17  1254.885751  1257.720233  \n",
      "18  1331.104246  1334.318296  \n",
      "19  1370.432729  1375.026343  \n",
      "20  1452.022771  1455.445258  \n",
      "21  1495.348703  1499.313975  \n",
      "22  1538.207845  1541.875508  \n",
      "23  1583.523885  1587.396472  \n",
      "24  1590.347845  1593.424914  \n",
      "25  1829.947703  1833.881284  \n",
      "26  1838.064663  1840.762655  \n",
      "27  1924.437475  1927.921538  \n",
      "28  2031.029076  2033.642660  \n",
      "29  2185.026118  2188.879490  \n",
      "30  2244.880665  2247.841497  \n",
      "31  2259.099869  2262.719983  \n",
      "32  2269.687050  2273.697808  \n",
      "33  2395.443428  2399.265421  \n",
      "34  2468.026145  2471.042759  \n",
      "35  2603.909541  2606.792589  \n",
      "36  2610.800317  2614.905751  \n",
      "37  2835.101297  2836.676344  \n",
      "38  2892.657400  2896.748866  \n",
      "39  3029.392635  3031.194161  \n",
      "40  3448.204809  3450.925648  \n",
      "41  3611.769401  3616.307593  \n",
      "    peaks   fwhm_centr   rough_sums    centroids     variances       pk_hei  \\\n",
      "0      30    29.785567  1893.942368    29.963695  14133.214332   818.646195   \n",
      "1     128   128.364887  2876.788495   127.767831  11283.211505   720.585627   \n",
      "2     145   144.459911  1278.607977   144.896569  10161.329960   389.571554   \n",
      "3     236   235.273124   462.759320   235.202199  12019.150830   123.425784   \n",
      "4     396   396.401754   630.310441   396.426778  10404.641509   162.845302   \n",
      "5     489   488.997063   249.976688   488.967375   4072.023312   125.089174   \n",
      "6     581   581.463638   430.396173   581.647407   5405.821287   147.276132   \n",
      "7     716   715.508125   222.738094   715.666805   4033.829966    79.006167   \n",
      "8     841   841.967813  2900.206925   841.976062   7873.573309   559.895371   \n",
      "9     960   960.088168   483.773366   960.065118   3335.841582   148.624963   \n",
      "10   1003  1002.888165   769.886444  1002.931019   3458.113556   220.739274   \n",
      "11   1011  1011.595555   246.139531  1011.090936   3193.930817    63.325136   \n",
      "12   1082  1082.208995  2125.483990  1082.200436   4570.516010   657.235129   \n",
      "13   1088  1088.722180   401.081225  1088.105023   2556.918775    97.223236   \n",
      "14   1115  1114.774649   176.695976  1115.022855   1999.057501    67.734059   \n",
      "15   1163  1162.050038   336.295814  1161.943753   2591.560129    85.795902   \n",
      "16   1189  1189.227086   160.747926  1189.208186   1865.322724    64.537729   \n",
      "17   1256  1256.302992   405.106118  1256.297717   2257.095859   134.196651   \n",
      "18   1333  1332.711271  2591.874119  1332.650344   4761.752838   751.356428   \n",
      "19   1372  1372.729536   280.179798  1372.499811   3213.742890    65.116362   \n",
      "20   1454  1453.734014  1344.932670  1453.640093   3338.139458   367.505693   \n",
      "21   1498  1497.331339   583.585709  1497.348693   2898.191988   142.666499   \n",
      "22   1540  1540.041676   709.425445  1539.865159   2764.574555   175.614136   \n",
      "23   1585  1585.460179   338.833600  1586.692586   2496.637384    45.747485   \n",
      "24   1592  1591.886380   345.779231  1591.826779   1952.269003    99.327543   \n",
      "25   1832  1831.914493   472.981339  1832.180142   2007.018661   108.310877   \n",
      "26   1840  1839.413659   319.008013  1839.453015   1418.991987    88.356843   \n",
      "27   1926  1926.179506  6398.833656  1926.124036   7679.166344  1698.898100   \n",
      "28   2032  2032.335868   150.062903  2032.321879    865.937097    39.200234   \n",
      "29   2187  2186.952804  5848.127892  2186.881900   6473.872108  1402.774453   \n",
      "30   2247  2246.361081   170.789713  2246.149438    610.315531    57.090852   \n",
      "31   2262  2260.909926   107.824449  2261.366983    633.663193    25.844698   \n",
      "32   2272  2271.692429   360.400194  2271.722928    921.547003    83.645558   \n",
      "33   2397  2397.354424  3206.949995  2397.267432   3637.050005   777.060380   \n",
      "34   2470  2469.534452   183.362379  2469.277794    470.637621    47.058621   \n",
      "35   2606  2605.351065   131.163569  2605.622131    358.836431    42.782923   \n",
      "36   2613  2612.853034   234.194972  2613.278554    601.805028    33.863911   \n",
      "37   2836  2835.888820    64.091621  2836.315622    177.908379    21.622287   \n",
      "38   2894  2894.703133   397.650084  2894.518455    654.835127    91.256400   \n",
      "39   3030  3030.293398    54.452120  3030.019570    153.547880    23.091528   \n",
      "40   3450  3449.565229   168.356845  3449.403829    291.643155    46.289910   \n",
      "41   3615  3614.038497   124.857782  3614.158312    343.648757    28.476903   \n",
      "\n",
      "        lf_thr      rg_thr       promns  lf_bas  rg_bas    widths      wi_hei  \\\n",
      "0   201.465549  450.836680   818.646195      28      33  2.244704  409.323097   \n",
      "1   359.256221   71.539300   720.585627     100     137  2.761022  360.292813   \n",
      "2     4.276963  247.018556   389.571554     142     151  2.657272  194.785777   \n",
      "3    40.769738   84.205044   123.425784     233     240  2.919528   61.712892   \n",
      "4    70.909899   49.239266   162.845302     392     404  3.333009   81.422651   \n",
      "5    88.241458   88.978919   125.089174     485     493  1.411704   62.544587   \n",
      "6    89.934593    1.069452   147.276132     579     585  2.564867   73.638066   \n",
      "7    15.639623   46.454617    79.006167     713     719  2.684467   39.503084   \n",
      "8   213.926360   11.088422   559.895371     836     850  4.639239  279.947685   \n",
      "9    51.372759   40.677023   148.624963     955     963  2.878815   74.312482   \n",
      "10   40.375893   77.703349   220.739274     990    1008  3.022488  110.369637   \n",
      "11   32.214361    1.787671    63.325136    1008    1016  3.156853   31.662568   \n",
      "12  251.432911  123.634783   657.235129    1073    1101  2.972686  328.617564   \n",
      "13   59.126652   28.889179    69.221096    1086    1101  2.615085   62.612688   \n",
      "14   24.189260   36.845929    67.734059    1112    1117  2.289007   33.867030   \n",
      "15    0.176165   73.885618    85.795902    1152    1166  3.061124   42.897951   \n",
      "16   34.156127   10.853057    64.537729    1186    1191  2.343664   32.268865   \n",
      "17   62.170938   26.847523   134.196651    1253    1261  2.834482   67.098325   \n",
      "18   92.344345  268.763363   751.356428    1328    1338  3.214050  375.678214   \n",
      "19   25.123727    5.880614    65.116362    1369    1376  4.593614   32.558181   \n",
      "20   29.182944  101.857014   367.505693    1449    1459  3.422487  183.752846   \n",
      "21   25.140725   51.889893   142.666499    1494    1503  3.965272   71.333250   \n",
      "22   63.155763   38.866820   175.614136    1534    1573  3.667664   87.807068   \n",
      "23    2.085748   21.928123    45.747485    1583    1588  3.872587   22.873742   \n",
      "24   26.119164   25.897229    99.327543    1588    1597  3.077070   49.663772   \n",
      "25   16.197018   27.833974   108.310877    1816    1845  3.933581   54.155439   \n",
      "26   22.173774   48.880461    74.557849    1836    1845  2.697992   51.077919   \n",
      "27  468.438806  262.626878  1698.898100    1916    1933  3.484062  849.449050   \n",
      "28   20.187085    6.828505    39.200234    2028    2037  2.613583   19.600117   \n",
      "29  223.650380  221.450518  1402.774453    2177    2193  3.853372  701.387226   \n",
      "30   27.132936   33.922184    57.090852    2242    2250  2.960832   28.545426   \n",
      "31    8.081059   17.948122    25.844698    2257    2267  3.620114   12.922349   \n",
      "32    7.173466   18.857337    83.645558    2267    2276  4.010758   41.822779   \n",
      "33  263.219632   21.786446   777.060380    2389    2404  3.821993  388.530190   \n",
      "34    3.040656   22.974186    47.058621    2460    2481  3.016614   23.529310   \n",
      "35   20.020247   26.989344    42.782923    2600    2624  2.883048   21.391462   \n",
      "36    1.017050    4.984726    28.063228    2608    2624  4.105433   19.832298   \n",
      "37   12.029719   15.984690    21.622287    2831    2842  1.575047   10.811143   \n",
      "38   36.028978   12.974715    91.256400    2889    2899  4.091466   45.628200   \n",
      "39   19.009584    9.993320    23.091528    3021    3038  1.801527   11.545764   \n",
      "40   15.992458   25.004050    46.289910    3442    3456  2.720839   23.144955   \n",
      "41    6.988944    9.008367    28.476903    3611    3620  4.538191   14.238452   \n",
      "\n",
      "         lf_ips       rg_ips  engy_pk_det  \n",
      "0     28.663214    30.907919    16.318529  \n",
      "1    126.984376   129.745398    76.080802  \n",
      "2    143.131275   145.788547    86.547152  \n",
      "3    233.813360   236.732888   141.727537  \n",
      "4    394.735249   398.068258   240.242260  \n",
      "5    488.291211   489.702915   296.788299  \n",
      "6    580.181204   582.746071   353.419539  \n",
      "7    714.165892   716.850359   435.310799  \n",
      "8    839.648194   844.287433   512.490852  \n",
      "9    958.648761   961.527576   584.648031  \n",
      "10  1001.376921  1004.399409   610.840826  \n",
      "11  1010.017129  1013.173982   615.826865  \n",
      "12  1080.722653  1083.695338   659.277639  \n",
      "13  1087.414637  1090.029722   662.885580  \n",
      "14  1113.630146  1115.919153   679.333462  \n",
      "15  1160.519476  1163.580599   708.004023  \n",
      "16  1188.055254  1190.398918   724.663692  \n",
      "17  1254.885751  1257.720233   765.658103  \n",
      "18  1331.104246  1334.318296   812.312639  \n",
      "19  1370.432729  1375.026343   836.662272  \n",
      "20  1452.022771  1455.445258   886.242259  \n",
      "21  1495.348703  1499.313975   912.949977  \n",
      "22  1538.207845  1541.875508   938.929253  \n",
      "23  1583.523885  1587.396472   967.542701  \n",
      "24  1590.347845  1593.424914   970.679900  \n",
      "25  1829.947703  1833.881284  1117.545503  \n",
      "26  1838.064663  1840.762655  1121.989523  \n",
      "27  1924.437475  1927.921538  1174.949014  \n",
      "28  2031.029076  2033.642660  1239.840182  \n",
      "29  2185.026118  2188.879490  1334.282592  \n",
      "30  2244.880665  2247.841497  1370.497449  \n",
      "31  2259.099869  2262.719983  1379.795983  \n",
      "32  2269.687050  2273.697808  1386.123883  \n",
      "33  2395.443428  2399.265421  1462.836641  \n",
      "34  2468.026145  2471.042759  1506.837879  \n",
      "35  2603.909541  2606.792589  1590.149770  \n",
      "36  2610.800317  2614.905751  1594.828154  \n",
      "37  2835.101297  2836.676344  1731.112803  \n",
      "38  2892.657400  2896.748866  1766.677082  \n",
      "39  3029.392635  3031.194161  1849.473732  \n",
      "40  3448.204809  3450.925648  2105.734437  \n",
      "41  3611.769401  3616.307593  2206.406075  \n"
     ]
    }
   ],
   "source": [
    "a_spec.identify_nuclides(nucl_iear1_df)"
   ],
   "metadata": {
    "collapsed": false,
    "ExecuteTime": {
     "end_time": "2023-10-25T15:24:45.335242Z",
     "start_time": "2023-10-25T15:24:43.788042900Z"
    }
   }
  },
  {
   "cell_type": "code",
   "execution_count": 43,
   "outputs": [
    {
     "name": "stdout",
     "output_type": "stream",
     "text": [
      "final_pkl_file:\n",
      "..\\ograyspy_results\\Si\\SI2022\\SI06122_final.pkl\n"
     ]
    }
   ],
   "source": [
    "a_spec.create_activities_df(nucl_iear1_df, results_path='../ograyspy_results')"
   ],
   "metadata": {
    "collapsed": false,
    "ExecuteTime": {
     "end_time": "2023-10-25T15:24:45.335242Z",
     "start_time": "2023-10-25T15:24:43.850524600Z"
    }
   }
  },
  {
   "cell_type": "code",
   "execution_count": 43,
   "outputs": [],
   "source": [],
   "metadata": {
    "collapsed": false,
    "ExecuteTime": {
     "end_time": "2023-10-25T15:24:45.335242Z",
     "start_time": "2023-10-25T15:24:44.084813900Z"
    }
   }
  },
  {
   "cell_type": "code",
   "execution_count": 44,
   "outputs": [],
   "source": [
    "# 2023-Oct-25 PAREI AQUI. Reformatar-deletar tudo o que segue."
   ],
   "metadata": {
    "collapsed": false,
    "ExecuteTime": {
     "end_time": "2023-10-25T15:24:45.335242Z",
     "start_time": "2023-10-25T15:24:44.100464300Z"
    }
   }
  },
  {
   "cell_type": "code",
   "execution_count": 45,
   "outputs": [
    {
     "ename": "NameError",
     "evalue": "name 'justtostopthenotebook' is not defined",
     "output_type": "error",
     "traceback": [
      "\u001B[1;31m---------------------------------------------------------------------------\u001B[0m",
      "\u001B[1;31mNameError\u001B[0m                                 Traceback (most recent call last)",
      "Cell \u001B[1;32mIn[45], line 1\u001B[0m\n\u001B[1;32m----> 1\u001B[0m \u001B[43mjusttostopthenotebook\u001B[49m\n",
      "\u001B[1;31mNameError\u001B[0m: name 'justtostopthenotebook' is not defined"
     ]
    }
   ],
   "source": [
    "justtostopthenotebook"
   ],
   "metadata": {
    "collapsed": false,
    "ExecuteTime": {
     "end_time": "2023-10-25T15:24:45.335242Z",
     "start_time": "2023-10-25T15:24:44.116085300Z"
    }
   }
  },
  {
   "cell_type": "code",
   "execution_count": null,
   "outputs": [],
   "source": [],
   "metadata": {
    "collapsed": false,
    "ExecuteTime": {
     "start_time": "2023-10-25T15:24:44.241756900Z"
    }
   }
  },
  {
   "cell_type": "code",
   "execution_count": null,
   "outputs": [],
   "source": [],
   "metadata": {
    "collapsed": false,
    "ExecuteTime": {
     "start_time": "2023-10-25T15:24:44.241756900Z"
    }
   }
  },
  {
   "cell_type": "code",
   "execution_count": null,
   "outputs": [],
   "source": [],
   "metadata": {
    "collapsed": false,
    "ExecuteTime": {
     "start_time": "2023-10-25T15:24:44.257348700Z"
    }
   }
  },
  {
   "cell_type": "code",
   "execution_count": null,
   "outputs": [],
   "source": [
    "spectra_list_df"
   ],
   "metadata": {
    "collapsed": false,
    "ExecuteTime": {
     "start_time": "2023-10-25T15:24:44.257348700Z"
    }
   }
  },
  {
   "cell_type": "code",
   "source": [],
   "metadata": {
    "tags": [],
    "collapsed": false,
    "trusted": true,
    "ExecuteTime": {
     "start_time": "2023-10-25T15:24:44.257348700Z"
    }
   },
   "execution_count": null,
   "outputs": []
  },
  {
   "cell_type": "code",
   "source": [
    "nucl_iear1_selctd_gamms_df = nucl_iear1_df.loc [\n",
    "    (nucl_iear1_df.intensity > 1.0) & nucl_iear1_df.is_to_consider\n",
    "]\n",
    "nucl_iear1_selctd_gamms_df"
   ],
   "metadata": {
    "tags": [],
    "collapsed": false,
    "trusted": true,
    "ExecuteTime": {
     "start_time": "2023-10-25T15:24:44.257348700Z"
    }
   },
   "execution_count": null,
   "outputs": []
  },
  {
   "cell_type": "code",
   "source": [
    "nucl_iear1_selctd_gamms_df.dtypes"
   ],
   "metadata": {
    "tags": [],
    "trusted": true,
    "ExecuteTime": {
     "start_time": "2023-10-25T15:24:44.257348700Z"
    }
   },
   "execution_count": null,
   "outputs": []
  },
  {
   "cell_type": "code",
   "source": [
    "# Primeiro fiz assim:\n",
    "# cross_df = pd.merge(pks_comprehensive_df, nucl_iear1_selctd_gamms_df, how='cross')\n",
    "# cross_df[\"delta_en\"] = cross_df.engy_pk_det - cross_df.energy\n",
    "# cross_df\n",
    "\n",
    "# Agora fazer de novo:\n",
    "# cross_df_2 = pd.merge(matching_peaks_df, nucl_iear1_selctd_gamms_df, how='cross', suffixes=('_x', None))\n",
    "# cross_df_2.drop(cross_df_2.filter(regex='_x$').columns, axis=1, inplace=True)\n",
    "# cross_df_2[\"delta_en\"] = cross_df_2.recalib_engy_ransac - cross_df_2.energy\n",
    "# cross_df_2"
   ],
   "metadata": {
    "tags": [],
    "collapsed": false,
    "trusted": true,
    "ExecuteTime": {
     "start_time": "2023-10-25T15:24:44.272971300Z"
    }
   },
   "execution_count": null,
   "outputs": []
  },
  {
   "cell_type": "code",
   "source": [],
   "metadata": {
    "tags": [],
    "collapsed": false,
    "trusted": true,
    "ExecuteTime": {
     "start_time": "2023-10-25T15:24:44.272971300Z"
    }
   },
   "execution_count": null,
   "outputs": []
  },
  {
   "cell_type": "code",
   "source": [
    "# cross_df = pd.merge(pks_comprehensive_df, nucl_iear1_selctd_gamms_df, how='cross')\n",
    " #    cross_df[\"delta_en\"] = cross_df.engy_pk_det - cross_df.energy\n",
    "  #  cross_df "
   ],
   "metadata": {
    "tags": [],
    "trusted": true,
    "ExecuteTime": {
     "start_time": "2023-10-25T15:24:44.272971300Z"
    }
   },
   "execution_count": null,
   "outputs": []
  },
  {
   "cell_type": "code",
   "source": [
    "dir(a_spec)"
   ],
   "metadata": {
    "tags": [],
    "trusted": true,
    "ExecuteTime": {
     "start_time": "2023-10-25T15:24:44.272971300Z"
    }
   },
   "execution_count": null,
   "outputs": []
  },
  {
   "cell_type": "code",
   "execution_count": null,
   "outputs": [],
   "source": [
    "vars(a_spec)"
   ],
   "metadata": {
    "collapsed": false,
    "ExecuteTime": {
     "start_time": "2023-10-25T15:24:44.272971300Z"
    }
   }
  },
  {
   "cell_type": "code",
   "execution_count": null,
   "outputs": [],
   "source": [],
   "metadata": {
    "collapsed": false,
    "ExecuteTime": {
     "start_time": "2023-10-25T15:24:44.272971300Z"
    }
   }
  },
  {
   "cell_type": "code",
   "execution_count": null,
   "outputs": [],
   "source": [
    "# 2023-Oct-25\n",
    "# Proceed from here."
   ],
   "metadata": {
    "collapsed": false,
    "ExecuteTime": {
     "start_time": "2023-10-25T15:24:44.288591800Z"
    }
   }
  },
  {
   "cell_type": "code",
   "execution_count": null,
   "outputs": [],
   "source": [],
   "metadata": {
    "collapsed": false,
    "ExecuteTime": {
     "start_time": "2023-10-25T15:24:44.288591800Z"
    }
   }
  },
  {
   "cell_type": "code",
   "execution_count": null,
   "outputs": [],
   "source": [
    "new_ch_en_calib"
   ],
   "metadata": {
    "collapsed": false,
    "ExecuteTime": {
     "start_time": "2023-10-25T15:24:44.288591800Z"
    }
   }
  },
  {
   "cell_type": "code",
   "execution_count": null,
   "outputs": [],
   "source": [],
   "metadata": {
    "collapsed": false,
    "ExecuteTime": {
     "start_time": "2023-10-25T15:24:44.288591800Z"
    }
   }
  },
  {
   "cell_type": "code",
   "execution_count": null,
   "outputs": [],
   "source": [
    "def en_eff(engy):\n",
    "    return np.exp(p_eff(np.log(engy)))"
   ],
   "metadata": {
    "collapsed": false,
    "ExecuteTime": {
     "start_time": "2023-10-25T15:24:44.304212600Z"
    }
   }
  },
  {
   "cell_type": "code",
   "execution_count": null,
   "outputs": [],
   "source": [
    "en_eff(1332)"
   ],
   "metadata": {
    "collapsed": false,
    "ExecuteTime": {
     "start_time": "2023-10-25T15:24:44.304212600Z"
    }
   }
  },
  {
   "cell_type": "code",
   "execution_count": null,
   "outputs": [],
   "source": [],
   "metadata": {
    "collapsed": false,
    "ExecuteTime": {
     "start_time": "2023-10-25T15:24:44.304212600Z"
    }
   }
  },
  {
   "cell_type": "code",
   "execution_count": null,
   "outputs": [],
   "source": [
    "# 2023-Sep-21\n",
    "# Now use the assembled peak df, read_result_df, to proceed."
   ],
   "metadata": {
    "collapsed": false,
    "ExecuteTime": {
     "start_time": "2023-10-25T15:24:44.304212600Z"
    }
   }
  },
  {
   "cell_type": "code",
   "execution_count": null,
   "outputs": [],
   "source": [],
   "metadata": {
    "collapsed": false,
    "ExecuteTime": {
     "start_time": "2023-10-25T15:24:44.319833400Z"
    }
   }
  },
  {
   "cell_type": "code",
   "execution_count": null,
   "outputs": [],
   "source": [],
   "metadata": {
    "collapsed": false,
    "ExecuteTime": {
     "start_time": "2023-10-25T15:24:44.319833400Z"
    }
   }
  },
  {
   "cell_type": "code",
   "execution_count": null,
   "outputs": [],
   "source": [],
   "metadata": {
    "collapsed": false,
    "ExecuteTime": {
     "start_time": "2023-10-25T15:24:44.319833400Z"
    }
   }
  },
  {
   "cell_type": "code",
   "execution_count": null,
   "outputs": [],
   "source": [],
   "metadata": {
    "collapsed": false,
    "ExecuteTime": {
     "start_time": "2023-10-25T15:24:44.335455800Z"
    }
   }
  },
  {
   "cell_type": "code",
   "execution_count": null,
   "outputs": [],
   "source": [
    "# 2023-Oct-24: FIX\n",
    "# Integrate what follows here"
   ],
   "metadata": {
    "collapsed": false,
    "ExecuteTime": {
     "start_time": "2023-10-25T15:24:44.351075900Z"
    }
   }
  },
  {
   "cell_type": "code",
   "execution_count": null,
   "outputs": [],
   "source": [],
   "metadata": {
    "collapsed": false,
    "ExecuteTime": {
     "start_time": "2023-10-25T15:24:44.351075900Z"
    }
   }
  },
  {
   "cell_type": "code",
   "execution_count": null,
   "outputs": [],
   "source": [
    "analysis_df.reset_index(drop=True, inplace=True)"
   ],
   "metadata": {
    "collapsed": false,
    "ExecuteTime": {
     "start_time": "2023-10-25T15:24:44.366697700Z"
    }
   }
  },
  {
   "cell_type": "code",
   "execution_count": null,
   "outputs": [],
   "source": [
    "analysis_df['test'] = analysis_df['decay_%']*analysis_df['intensity']/100"
   ],
   "metadata": {
    "collapsed": false,
    "ExecuteTime": {
     "start_time": "2023-10-25T15:24:44.366697700Z"
    }
   }
  },
  {
   "cell_type": "code",
   "execution_count": null,
   "outputs": [],
   "source": [
    "analysis_df"
   ],
   "metadata": {
    "collapsed": false,
    "ExecuteTime": {
     "start_time": "2023-10-25T15:24:44.366697700Z"
    }
   }
  },
  {
   "cell_type": "code",
   "execution_count": null,
   "outputs": [],
   "source": [
    "analysis_df.reindex(['nuclide_name'])"
   ],
   "metadata": {
    "collapsed": false,
    "ExecuteTime": {
     "start_time": "2023-10-25T15:24:44.382318500Z"
    }
   }
  },
  {
   "cell_type": "code",
   "execution_count": null,
   "outputs": [],
   "source": [
    "# d5_where = d5.where(d5.nuclide_name==\"110ag\")\n",
    "# d5_where\n",
    "d5_loc = analysis_df.loc[analysis_df.nuclide_name==\"110ag\"]\n",
    "d5_loc"
   ],
   "metadata": {
    "collapsed": false,
    "ExecuteTime": {
     "start_time": "2023-10-25T15:24:44.382318500Z"
    }
   }
  },
  {
   "cell_type": "code",
   "execution_count": null,
   "outputs": [],
   "source": [
    "# 2023-Ago-4 PAREI AQUI. Fazer a indexação para o cálculo da atividade considerando a média das linhas de cada nuclídeo\n",
    "# https://pandas.pydata.org/pandas-docs/stable/user_guide/groupby.html\n",
    "# https://pandas.pydata.org/pandas-docs/stable/user_guide/groupby.html#dataframe-column-selection-in-groupby\n",
    "d5_grouped = analysis_df.groupby(\"nuclide_name\")[['energy','intensity','centroids','rough_sums','variances','disintegr']]\n",
    "# d5_grouped = d5.groupby(\"nuclide_name\")[['disintegr']]\n",
    "# sdfsdf = pd.DataFrame([[d5_grouped.mean(), d5_grouped.median()]]) \n",
    "# sdfsdf\n"
   ],
   "metadata": {
    "collapsed": false,
    "ExecuteTime": {
     "start_time": "2023-10-25T15:24:44.382318500Z"
    }
   }
  },
  {
   "cell_type": "code",
   "execution_count": null,
   "outputs": [],
   "source": [
    "d5_grouped.mean()"
   ],
   "metadata": {
    "collapsed": false,
    "ExecuteTime": {
     "start_time": "2023-10-25T15:24:44.382318500Z"
    }
   }
  },
  {
   "cell_type": "code",
   "execution_count": null,
   "outputs": [],
   "source": [
    "# https://pandas.pydata.org/pandas-docs/stable/user_guide/groupby.html#built-in-aggregation-methods\n",
    "d5_aggr_df = pd.DataFrame(df_result.groupby(\"nuclide_name\")[['disintegr']].mean())\n",
    "d5_aggr_df['dsnt_median'] = df_result.groupby(\"nuclide_name\")[['disintegr']].median()\n",
    "d5_aggr_df['dsnt_counts'] = df_result.groupby(\"nuclide_name\")[['disintegr']].count()\n",
    "d5_aggr_df['dsnt_sem'] = df_result.groupby(\"nuclide_name\")[['disintegr']].sem()\n",
    "d5_aggr_df['dsnt_std'] = df_result.groupby(\"nuclide_name\")[['disintegr']].std()\n",
    "d5_aggr_df"
   ],
   "metadata": {
    "collapsed": false,
    "ExecuteTime": {
     "start_time": "2023-10-25T15:24:44.397940400Z"
    }
   }
  },
  {
   "cell_type": "code",
   "execution_count": null,
   "outputs": [],
   "source": [
    "df_result.groupby(\"nuclide_name\")[['disintegr']].describe()"
   ],
   "metadata": {
    "collapsed": false,
    "ExecuteTime": {
     "start_time": "2023-10-25T15:24:44.397940400Z"
    }
   }
  },
  {
   "cell_type": "code",
   "execution_count": null,
   "outputs": [],
   "source": [
    "d5_aggr_df['disint_mean'] = d5_grouped.mean()\n",
    "d5_aggr_df['disint_count'] = d5_grouped.count()\n",
    "d5_aggr_df"
   ],
   "metadata": {
    "collapsed": false,
    "ExecuteTime": {
     "start_time": "2023-10-25T15:24:44.413561600Z"
    }
   }
  },
  {
   "cell_type": "code",
   "execution_count": null,
   "outputs": [],
   "source": [
    "df_result"
   ],
   "metadata": {
    "collapsed": false,
    "ExecuteTime": {
     "start_time": "2023-10-25T15:24:44.429182800Z"
    }
   }
  },
  {
   "cell_type": "code",
   "execution_count": null,
   "outputs": [],
   "source": [
    "help(spec_engy_identif)"
   ],
   "metadata": {
    "collapsed": false,
    "ExecuteTime": {
     "start_time": "2023-10-25T15:24:44.429182800Z"
    }
   }
  },
  {
   "cell_type": "code",
   "execution_count": null,
   "outputs": [],
   "source": [],
   "metadata": {
    "collapsed": false,
    "ExecuteTime": {
     "start_time": "2023-10-25T15:24:44.429182800Z"
    }
   }
  },
  {
   "cell_type": "code",
   "execution_count": null,
   "outputs": [],
   "source": [
    "# 2023-Jun-13\n",
    "# PAREI AQUI\n",
    "# Trazer o trabalho feito em\n",
    "# radionuclide_analysis.ipynb e adaptar ao que está aqui\n",
    "# especialmente na identificaćão dos nucl[ideos\n",
    "\n",
    "# Depois, deletar radionuclide_analysis.ipynb."
   ],
   "metadata": {
    "collapsed": false,
    "ExecuteTime": {
     "start_time": "2023-10-25T15:24:44.444803Z"
    }
   }
  },
  {
   "cell_type": "code",
   "execution_count": null,
   "outputs": [],
   "source": [],
   "metadata": {
    "collapsed": false,
    "ExecuteTime": {
     "start_time": "2023-10-25T15:24:44.444803Z"
    }
   }
  },
  {
   "cell_type": "code",
   "execution_count": null,
   "outputs": [],
   "source": [
    "df1 = pd.DataFrame(\n",
    "    {\n",
    "        \"A\": [\"A0\", \"A1\", \"A2\", \"A3\"],\n",
    "        \"B\": [\"B0\", \"B1\", \"B2\", \"B3\"],\n",
    "        \"C\": [\"C0\", \"C1\", \"C2\", \"C3\"],\n",
    "        \"D\": [\"D0\", \"D1\", \"D2\", \"D3\"],\n",
    "    },\n",
    "    index=[0, 1, 2, 3],\n",
    ")\n",
    "\n",
    "\n",
    "df2 = pd.DataFrame(\n",
    "    {\n",
    "        \"A\": [\"A4\", \"A5\", \"A6\", \"A7\"],\n",
    "        \"B\": [\"B4\", \"B5\", \"B6\", \"B7\"],\n",
    "        \"C\": [\"C4\", \"C5\", \"C6\", \"C7\"],\n",
    "        \"D\": [\"D4\", \"D5\", \"D6\", \"D7\"],\n",
    "    },\n",
    "    index=[4, 5, 6, 7],\n",
    ")\n",
    "\n",
    "\n",
    "df3 = pd.DataFrame(\n",
    "    {\n",
    "        \"A\": [\"A8\", \"A9\", \"A10\", \"A11\"],\n",
    "        \"B\": [\"B8\", \"B9\", \"B10\", \"B11\"],\n",
    "        \"C\": [\"C8\", \"C9\", \"C10\", \"C11\"],\n",
    "        \"D\": [\"D8\", \"D9\", \"D10\", \"D11\"],\n",
    "    },\n",
    "    index=[8, 9, 10, 11],\n",
    ")\n",
    "\n",
    "\n",
    "frames = [df1, df2, df3]\n",
    "\n",
    "result = pd.concat(frames)\n",
    "result"
   ],
   "metadata": {
    "collapsed": false,
    "ExecuteTime": {
     "start_time": "2023-10-25T15:24:44.460425400Z"
    }
   }
  },
  {
   "cell_type": "code",
   "execution_count": null,
   "outputs": [],
   "source": [
    "result = pd.concat(frames, keys=[\"x\", \"y\", \"z\"])\n",
    "result"
   ],
   "metadata": {
    "collapsed": false,
    "ExecuteTime": {
     "start_time": "2023-10-25T15:24:44.460425400Z"
    }
   }
  },
  {
   "cell_type": "code",
   "execution_count": null,
   "outputs": [],
   "source": [
    "result.loc[result.A=='A1'].loc[result.C=='C0']"
   ],
   "metadata": {
    "collapsed": false,
    "ExecuteTime": {
     "start_time": "2023-10-25T15:24:44.476046300Z"
    }
   }
  },
  {
   "cell_type": "code",
   "execution_count": null,
   "outputs": [],
   "source": [],
   "metadata": {
    "collapsed": false,
    "ExecuteTime": {
     "start_time": "2023-10-25T15:24:44.476046300Z"
    }
   }
  },
  {
   "cell_type": "code",
   "execution_count": null,
   "outputs": [],
   "source": [
    "# https://stackoverflow.com/questions/63529555"
   ],
   "metadata": {
    "collapsed": false,
    "ExecuteTime": {
     "start_time": "2023-10-25T15:24:44.476046300Z"
    }
   }
  },
  {
   "cell_type": "code",
   "execution_count": null,
   "outputs": [],
   "source": [
    "animals = ['cat', 'dog', 'hamster', 'dolphin']"
   ],
   "metadata": {
    "collapsed": false,
    "ExecuteTime": {
     "start_time": "2023-10-25T15:24:44.491667900Z"
    }
   }
  },
  {
   "cell_type": "code",
   "execution_count": null,
   "outputs": [],
   "source": [
    "df_animals_sets = pd.DataFrame(data={\n",
    "    'id': [1,2,3,4,5],\n",
    "    'animals': ['dog,cat','dog','cat,dolphin','cat,dog','hamster,dolphin']\n",
    "})\n",
    "df_animals_sets"
   ],
   "metadata": {
    "collapsed": false,
    "ExecuteTime": {
     "start_time": "2023-10-25T15:24:44.491667900Z"
    }
   }
  },
  {
   "cell_type": "code",
   "execution_count": null,
   "outputs": [],
   "source": [
    "df = df_animals_sets\n",
    "df_final = (df.astype(str).assign(animals=df.animals.str.split(','))\n",
    "                          .explode('animals').groupby('animals').id.agg(','.join)\n",
    "                          .reset_index())\n",
    "df_final"
   ],
   "metadata": {
    "collapsed": false,
    "ExecuteTime": {
     "start_time": "2023-10-25T15:24:44.507288200Z"
    }
   }
  },
  {
   "cell_type": "code",
   "execution_count": null,
   "outputs": [],
   "source": [],
   "metadata": {
    "collapsed": false,
    "ExecuteTime": {
     "start_time": "2023-10-25T15:24:44.507288200Z"
    }
   }
  },
  {
   "cell_type": "code",
   "execution_count": null,
   "outputs": [],
   "source": [
    "# 2023-Oct-24 FIX:\n",
    "# Brought from extinct radionuculde_analysis.ipynb\n",
    "# Jupyter notebook for tests with OGRaySpY modules"
   ],
   "metadata": {
    "collapsed": false,
    "ExecuteTime": {
     "start_time": "2023-10-25T15:24:44.507288200Z"
    }
   }
  },
  {
   "cell_type": "code",
   "execution_count": null,
   "outputs": [],
   "source": [
    "pip list"
   ],
   "metadata": {
    "collapsed": false,
    "ExecuteTime": {
     "start_time": "2023-10-25T15:24:44.522910600Z"
    }
   }
  },
  {
   "cell_type": "code",
   "execution_count": null,
   "outputs": [],
   "source": [
    "import numpy as np\n",
    "from numpy.random import default_rng\n",
    "from numpy.polynomial import Polynomial as P\n",
    "from scipy import special\n",
    "import pandas as pd\n",
    "\n",
    "from ograyspy_class import select_spectrum_from_folder_list\n",
    "from spec_class import Spec"
   ],
   "metadata": {
    "collapsed": false,
    "ExecuteTime": {
     "start_time": "2023-10-25T15:24:44.522910600Z"
    }
   }
  },
  {
   "cell_type": "code",
   "execution_count": null,
   "outputs": [],
   "source": [
    "# https://lmfit.github.io/lmfit-py/builtin_models.html\n",
    "from lmfit import Model, minimize, Parameters, report_fit, fit_report, printfuncs\n",
    "from lmfit.models import LinearModel, StepModel, ExponentialModel, LorentzianModel\n",
    "from lmfit.models import GaussianModel, SkewedGaussianModel, ExpressionModel"
   ],
   "metadata": {
    "collapsed": false,
    "ExecuteTime": {
     "start_time": "2023-10-25T15:24:44.522910600Z"
    }
   }
  },
  {
   "cell_type": "code",
   "execution_count": null,
   "outputs": [],
   "source": [
    "from ograyspy_class import Ograyspy"
   ],
   "metadata": {
    "collapsed": false,
    "ExecuteTime": {
     "start_time": "2023-10-25T15:24:44.522910600Z"
    }
   }
  },
  {
   "cell_type": "code",
   "execution_count": null,
   "outputs": [],
   "source": [
    "ogra = Ograyspy(batch_mode=False, folder_to_find='Genie_Transfer')\n",
    "print('Objeto ogra: Ograyspy criado.')\n",
    "print(f'ogra.info_plat: {ogra.info_plat}')\n",
    "print(f'ogra.info_mach: {ogra.info_mach}')\n",
    "print(f'ogra.info_syst: {ogra.info_syst}')\n",
    "print(f'ogra.info_node: {ogra.info_node}')\n",
    "print(f'ogra.home_path: {ogra.home_path}')"
   ],
   "metadata": {
    "collapsed": false,
    "ExecuteTime": {
     "start_time": "2023-10-25T15:24:44.538532500Z"
    }
   }
  },
  {
   "cell_type": "code",
   "execution_count": null,
   "outputs": [],
   "source": [
    "# a spectrum pattern to find and test:"
   ],
   "metadata": {
    "collapsed": false,
    "ExecuteTime": {
     "start_time": "2023-10-25T15:24:44.538532500Z"
    }
   }
  },
  {
   "cell_type": "code",
   "execution_count": null,
   "outputs": [],
   "source": [
    "# 2022\n",
    "# Se quiser ignorar o espectro aleatório, definir aqui um específico. Se não, pular.\n",
    "# Vou ignorar o espectro já analisado e refazer a análise, para testes.\n",
    "# 2022-Mar-24 Resolver essa questão dos nomes de arquivos em Linux e Windows\n",
    "# a_spec_name = '..\\\\..\\\\Genie_Transfer\\\\Si\\\\2018\\\\PNR\\\\PRN0803.Chn'\n",
    "# a_spec_name = '../../Genie_Transfer/Si/2018/PNR/PRN0803.Chn'\n",
    "# a_spec_name = '../../Genie_Transfer/Si/2018/CTP/CTP0908-2.Chn'\n",
    "# Esse é um que dá problema na baseline perto do 159 keV do I-123:\n",
    "# a_spec_name = '../../Genie_Transfer/Si/2018/CCI/CCI1508I.Chn'\n",
    "# Precisa quebrar mais a baseline: Ok, consertado!!!\n",
    "# 2022: Já usando o GMX:\n",
    "# a_spec_name = '../../Genie_Transfer/Filtros/2022/Cci/CCI1603-I.Chn'\n",
    "\n"
   ],
   "metadata": {
    "collapsed": false,
    "ExecuteTime": {
     "start_time": "2023-10-25T15:24:44.538532500Z"
    }
   }
  },
  {
   "cell_type": "code",
   "execution_count": null,
   "outputs": [],
   "source": [
    "\n",
    "# 2022-out-7: Excelente espectro para testes, tenho usado ultimamente:\n",
    "# a_pattern = 'Si/SI2018/SI11318.Chn'\n",
    "# 2022-nov-16: outros espectros:\n",
    "# a_pattern = \"Filtros/2022/Cci/CCI1603-I.Chn\"\n",
    "# a_pattern = \"Filtros/2022/Cci/CCI2302-I.Chn\"\n",
    "\n",
    "# a_pattern = \"Eso_non_existe.Chn\"\n",
    "\n",
    "# 2022-Dez-21 Buscando outro espectro\n",
    "# a_pattern = 'CCI1603-I'\n",
    "# 2022-Dez-28 Este é um espectro mais recente:\n",
    "# a_pattern = 'SI09722.Chn'\n",
    "# 2022-Dez-28 Este é um espectro mais recente que posso comparar com saída do Genie:\n",
    "a_pattern = 'SI06322.Chn'"
   ],
   "metadata": {
    "collapsed": false,
    "ExecuteTime": {
     "start_time": "2023-10-25T15:24:44.538532500Z"
    }
   }
  },
  {
   "cell_type": "code",
   "execution_count": null,
   "outputs": [],
   "source": [
    "dir(ogra)"
   ],
   "metadata": {
    "collapsed": false,
    "ExecuteTime": {
     "start_time": "2023-10-25T15:24:44.538532500Z"
    }
   }
  },
  {
   "cell_type": "code",
   "execution_count": null,
   "outputs": [],
   "source": [
    "vars(ogra)"
   ],
   "metadata": {
    "collapsed": false,
    "ExecuteTime": {
     "start_time": "2023-10-25T15:24:44.538532500Z"
    }
   }
  },
  {
   "cell_type": "code",
   "execution_count": null,
   "outputs": [],
   "source": [
    "# Select a machine/system to read from:\n",
    "spectra_list_df = pd.read_pickle(ogra.pkl_folder_files)\n",
    "spectra_list_df"
   ],
   "metadata": {
    "collapsed": false,
    "ExecuteTime": {
     "start_time": "2023-10-25T15:24:44.554152500Z"
    }
   }
  },
  {
   "cell_type": "code",
   "execution_count": null,
   "outputs": [],
   "source": [],
   "metadata": {
    "collapsed": false,
    "ExecuteTime": {
     "start_time": "2023-10-25T15:24:44.554152500Z"
    }
   }
  },
  {
   "cell_type": "code",
   "execution_count": null,
   "outputs": [],
   "source": [
    "reduc_nms = spectra_list_df.reduced_names_files_list[0]\n",
    "fil_lst = spectra_list_df.files_list[0]\n",
    "spc_pth = spectra_list_df.spectra_path[0]"
   ],
   "metadata": {
    "collapsed": false,
    "ExecuteTime": {
     "start_time": "2023-10-25T15:24:44.554152500Z"
    }
   }
  },
  {
   "cell_type": "code",
   "execution_count": null,
   "outputs": [],
   "source": [
    "reduc_nms"
   ],
   "metadata": {
    "collapsed": false,
    "ExecuteTime": {
     "start_time": "2023-10-25T15:24:44.554152500Z"
    }
   }
  },
  {
   "cell_type": "code",
   "execution_count": null,
   "outputs": [],
   "source": [
    "a_spec_name, reduced_f_name = select_spectrum_from_folder_list(reduc_nms, fil_lst, spc_pth, a_pattern)"
   ],
   "metadata": {
    "collapsed": false,
    "ExecuteTime": {
     "start_time": "2023-10-25T15:24:44.554152500Z"
    }
   }
  },
  {
   "cell_type": "code",
   "execution_count": null,
   "outputs": [],
   "source": [
    "a_spec_name, reduced_f_name"
   ],
   "metadata": {
    "collapsed": false,
    "ExecuteTime": {
     "start_time": "2023-10-25T15:24:44.569774200Z"
    }
   }
  },
  {
   "cell_type": "code",
   "execution_count": null,
   "outputs": [],
   "source": [
    "a_spec = Spec(a_spec_name, reduced_f_name)"
   ],
   "metadata": {
    "collapsed": false,
    "ExecuteTime": {
     "start_time": "2023-10-25T15:24:44.569774200Z"
    }
   }
  },
  {
   "cell_type": "code",
   "execution_count": null,
   "outputs": [],
   "source": [
    "vars(a_spec)"
   ],
   "metadata": {
    "collapsed": false,
    "ExecuteTime": {
     "start_time": "2023-10-25T15:24:44.569774200Z"
    }
   }
  },
  {
   "cell_type": "code",
   "execution_count": null,
   "outputs": [],
   "source": [],
   "metadata": {
    "collapsed": false,
    "ExecuteTime": {
     "start_time": "2023-10-25T15:24:44.569774200Z"
    }
   }
  },
  {
   "cell_type": "code",
   "execution_count": null,
   "outputs": [],
   "source": [],
   "metadata": {
    "collapsed": false,
    "ExecuteTime": {
     "start_time": "2023-10-25T15:24:44.569774200Z"
    }
   }
  },
  {
   "cell_type": "code",
   "execution_count": null,
   "outputs": [],
   "source": [
    "# 2023-Jun-13\n",
    "# PAREI AQUI: levar tudo que está aqui para\n",
    "# nuclide_identification.ipynb\n"
   ],
   "metadata": {
    "collapsed": false,
    "ExecuteTime": {
     "start_time": "2023-10-25T15:24:44.569774200Z"
    }
   }
  },
  {
   "cell_type": "code",
   "execution_count": null,
   "outputs": [],
   "source": [],
   "metadata": {
    "collapsed": false,
    "ExecuteTime": {
     "start_time": "2023-10-25T15:24:44.569774200Z"
    }
   }
  },
  {
   "cell_type": "code",
   "execution_count": null,
   "outputs": [],
   "source": [
    "p_en = a_spec.channel_energy_calib.p_en\n",
    "p_en"
   ],
   "metadata": {
    "collapsed": false,
    "ExecuteTime": {
     "start_time": "2023-10-25T15:24:44.569774200Z"
    }
   }
  },
  {
   "cell_type": "code",
   "execution_count": null,
   "outputs": [],
   "source": [
    "peaks_df['energy'] = p_en(peaks_df['centroids'])\n",
    "peaks_df"
   ],
   "metadata": {
    "collapsed": false,
    "ExecuteTime": {
     "start_time": "2023-10-25T15:24:44.585395Z"
    }
   }
  },
  {
   "cell_type": "code",
   "execution_count": null,
   "outputs": [],
   "source": [
    "# 2023-Mar-21: Identify nuclide candidates in peaks_df from pisciro_eng_df, with energy tolerance en_toler"
   ],
   "metadata": {
    "collapsed": false,
    "ExecuteTime": {
     "start_time": "2023-10-25T15:24:44.585395Z"
    }
   }
  },
  {
   "cell_type": "code",
   "execution_count": null,
   "outputs": [],
   "source": [
    "big_merge = pd.merge(peaks_df, pisciro_eng_df, how='cross')\n",
    "big_merge"
   ],
   "metadata": {
    "collapsed": false,
    "ExecuteTime": {
     "start_time": "2023-10-25T15:24:44.585395Z"
    }
   }
  },
  {
   "cell_type": "code",
   "execution_count": null,
   "outputs": [],
   "source": [
    "en_toler = 2.0"
   ],
   "metadata": {
    "collapsed": false,
    "ExecuteTime": {
     "start_time": "2023-10-25T15:24:44.585395Z"
    }
   }
  },
  {
   "cell_type": "code",
   "execution_count": null,
   "outputs": [],
   "source": [
    "big_merge['delta_en'] = big_merge.energy - big_merge.Engy\n",
    "big_merge"
   ],
   "metadata": {
    "collapsed": false,
    "ExecuteTime": {
     "start_time": "2023-10-25T15:24:44.585395Z"
    }
   }
  },
  {
   "cell_type": "code",
   "execution_count": null,
   "outputs": [],
   "source": [
    "# https://pandas.pydata.org/pandas-docs/stable/user_guide/indexing.html#selection-by-callable\n",
    "# MaTched ENergies\n",
    "mt_en = pd.DataFrame(big_merge.loc[lambda df: abs(df['delta_en']) < en_toler, :]) \\\n",
    "[['Engy', 'Nucl', 'rough_sums', 'Yie']]\n",
    "mt_en\n",
    "# mt_en[['Engy', 'Nucl']]"
   ],
   "metadata": {
    "collapsed": false,
    "ExecuteTime": {
     "start_time": "2023-10-25T15:24:44.585395Z"
    }
   }
  },
  {
   "cell_type": "code",
   "execution_count": null,
   "outputs": [],
   "source": [
    "\n",
    "msedg serg set asrhg saertrg"
   ],
   "metadata": {
    "collapsed": false,
    "ExecuteTime": {
     "start_time": "2023-10-25T15:24:44.585395Z"
    }
   }
  },
  {
   "cell_type": "code",
   "execution_count": null,
   "outputs": [],
   "source": [],
   "metadata": {
    "collapsed": false,
    "ExecuteTime": {
     "start_time": "2023-10-25T15:24:44.601016300Z"
    }
   }
  },
  {
   "cell_type": "code",
   "execution_count": null,
   "outputs": [],
   "source": [
    "rng = np.random.default_rng()\n",
    "# rints = rng.integers(low=0, high=10, size=3)\n",
    "\n",
    "# 2022-Jun-23: Reativar após consertar o arquivo pickle:\n",
    "# rints = rng.integers(pkl_df1.count()[0], size=3)\n",
    "# print(rints)\n",
    "# type(rints[0])\n",
    "# some_spec = rints[1]\n",
    "# pkl_df1.iloc[some_spec]\n",
    "# a_spec_name = pkl_df1.iloc[some_spec]['FName']\n",
    "# a_spec_name"
   ],
   "metadata": {
    "collapsed": false,
    "ExecuteTime": {
     "start_time": "2023-10-25T15:24:44.601016300Z"
    }
   }
  },
  {
   "cell_type": "code",
   "execution_count": null,
   "outputs": [],
   "source": [
    "# 2022-Dez-28: Atualizar:\n",
    "# (2022-Jun-24 Lembrando como estão os defaults de total_analysis(...):\n",
    "# def total_analysis(self, k_sep_pk=2.0, smoo=3000.0, widths_range=(4.0, 20.0)):)\n",
    "# smoo=3000 fica razoável, mas faz umas ondas\n",
    "# smoo=1500 fica horrível, faz uns abismos. Quanto menor, pior\n",
    "# smoo=400 fica razoável, mas faz umas ondas\n",
    "# ogra.perform_total_analysis(\n",
    "#     k_sep_pk=2.0, smoo=4096, widths_range=(4.0, 20.0)\n",
    "# )"
   ],
   "metadata": {
    "collapsed": false,
    "ExecuteTime": {
     "start_time": "2023-10-25T15:24:44.601016300Z"
    }
   }
  },
  {
   "cell_type": "code",
   "execution_count": null,
   "outputs": [],
   "source": [],
   "metadata": {
    "collapsed": false,
    "ExecuteTime": {
     "start_time": "2023-10-25T15:24:44.601016300Z"
    }
   }
  },
  {
   "cell_type": "code",
   "execution_count": null,
   "outputs": [],
   "source": [],
   "metadata": {
    "collapsed": false,
    "ExecuteTime": {
     "start_time": "2023-10-25T15:24:44.601016300Z"
    }
   }
  },
  {
   "cell_type": "code",
   "execution_count": null,
   "outputs": [],
   "source": [],
   "metadata": {
    "collapsed": false,
    "ExecuteTime": {
     "start_time": "2023-10-25T15:24:44.601016300Z"
    }
   }
  },
  {
   "cell_type": "code",
   "execution_count": null,
   "outputs": [],
   "source": [],
   "metadata": {
    "collapsed": false,
    "ExecuteTime": {
     "start_time": "2023-10-25T15:24:44.616637600Z"
    }
   }
  },
  {
   "cell_type": "code",
   "execution_count": null,
   "outputs": [],
   "source": [
    "# 2022-Jun-14\n",
    "# Verificando o que se tem até agora em a_raw_spec:\n",
    "# (Pode pular e ir direto aos gráficos)"
   ],
   "metadata": {
    "collapsed": false,
    "ExecuteTime": {
     "start_time": "2023-10-25T15:24:44.616637600Z"
    }
   }
  },
  {
   "cell_type": "code",
   "execution_count": null,
   "outputs": [],
   "source": [
    "\n",
    "# Testes:\n",
    "# https://numpy.org/doc/stable/reference/random/generator.html#distributions\n",
    "# x = np.linspace(0, 10, N) + rng.normal(loc=7, scale=0.05, size=N)\n",
    "# y = np.linspace(22, 23, N)\n",
    "\n",
    "# Busca do canal onde a altura do espectro se \"estabiliza\"\n",
    "# https://numpy.org/doc/stable/reference/routines.sort.html#searching\n",
    "\n"
   ],
   "metadata": {
    "collapsed": false,
    "ExecuteTime": {
     "start_time": "2023-10-25T15:24:44.616637600Z"
    }
   }
  },
  {
   "cell_type": "code",
   "execution_count": null,
   "outputs": [],
   "source": [
    "vars(pkprms)"
   ],
   "metadata": {
    "collapsed": false,
    "ExecuteTime": {
     "start_time": "2023-10-25T15:24:44.616637600Z"
    }
   }
  },
  {
   "cell_type": "code",
   "execution_count": null,
   "outputs": [],
   "source": [
    "# 2022-Dez-21 Achar o pico de maior área inicial do espectro:"
   ],
   "metadata": {
    "collapsed": false,
    "ExecuteTime": {
     "start_time": "2023-10-25T15:24:44.616637600Z"
    }
   }
  },
  {
   "cell_type": "code",
   "execution_count": null,
   "outputs": [],
   "source": [
    "largest_pk = np.argmax(pkprms.rough_sums)\n",
    "pkprms.centroids[largest_pk]"
   ],
   "metadata": {
    "collapsed": false,
    "ExecuteTime": {
     "start_time": "2023-10-25T15:24:44.616637600Z"
    }
   }
  },
  {
   "cell_type": "code",
   "execution_count": null,
   "outputs": [],
   "source": [
    "# Só pra lembrar como faz divisão inteira\n",
    "21 // 7"
   ],
   "metadata": {
    "collapsed": false,
    "ExecuteTime": {
     "start_time": "2023-10-25T15:24:44.632258800Z"
    }
   }
  },
  {
   "cell_type": "code",
   "execution_count": null,
   "outputs": [],
   "source": [
    "wi_re = pkprms.wide_regions[largest_pk]\n",
    "x = np.linspace(wi_re[0], wi_re[1], num=wi_re[1]-wi_re[0]+1)\n",
    "y = cntarr[wi_re[0]:wi_re[1]+1]\n",
    "c1 =  pkprms.centroids[largest_pk]\n",
    "s1 = pkprms.propts['widths'][largest_pk]*pkprms.k_fwhm_to_sd\n",
    "a1 = pkprms.rough_sums[largest_pk]\n",
    "# c2 = 313\n",
    "# s2 = 1.5\n",
    "# a2 = 400\n",
    "sste = 2.0"
   ],
   "metadata": {
    "collapsed": false,
    "ExecuteTime": {
     "start_time": "2023-10-25T15:24:44.632258800Z"
    }
   }
  },
  {
   "cell_type": "code",
   "execution_count": null,
   "outputs": [],
   "source": [],
   "metadata": {
    "collapsed": false,
    "ExecuteTime": {
     "start_time": "2023-10-25T15:24:44.632258800Z"
    }
   }
  },
  {
   "cell_type": "code",
   "execution_count": null,
   "outputs": [],
   "source": [
    "# 2023-Jan-3\n",
    "# Aqui finalizo este teste:\n",
    "# Dado um espectro, escolhi o pico mais proeminente do espectro\n",
    "# e fiz o ajuste gaussianco com lmfit\n",
    "# No caso, o pico tem área, centroide, SD e FWHM:\n",
    "# g1_amplitude:  5264.84728 +/- 85.1465566 (1.62%) (init = 5347.497)\n",
    "# g1_center:     1926.29564 +/- 0.02690572 (0.00%) (init = 1926.275)\n",
    "# g1_sigma:      1.44040103 +/- 0.02690060 (1.87%) (init = 1.418733)\n",
    "# g1_fwhm:       3.39188516 +/- 0.06334608 (1.87%) == '2.3548200*g1_sigma'\n",
    "# g1_height:     1458.18438 +/- 23.5824677 (1.62%) == '0.3989423*g1_amplitude/max(1e-15, g1_sigma)'\n",
    "\n",
    "# Comparando com saíuda do Genie:\n",
    "# canal (>0)    En:    FWHM (keV)    net area    net area unc   continuum\n",
    "# 1927.34      1173.47 2.04          5.40E+003   89.73          8.83E+002\n",
    "#"
   ],
   "metadata": {
    "collapsed": false,
    "ExecuteTime": {
     "start_time": "2023-10-25T15:24:44.632258800Z"
    }
   }
  },
  {
   "cell_type": "code",
   "execution_count": null,
   "outputs": [],
   "source": [
    "out"
   ],
   "metadata": {
    "collapsed": false,
    "ExecuteTime": {
     "start_time": "2023-10-25T15:24:44.632258800Z"
    }
   }
  },
  {
   "cell_type": "code",
   "execution_count": null,
   "outputs": [],
   "source": [
    "out.params"
   ],
   "metadata": {
    "collapsed": false,
    "ExecuteTime": {
     "start_time": "2023-10-25T15:24:44.632258800Z"
    }
   }
  },
  {
   "cell_type": "code",
   "execution_count": null,
   "outputs": [],
   "source": [
    "out.var_names"
   ],
   "metadata": {
    "collapsed": false,
    "ExecuteTime": {
     "start_time": "2023-10-25T15:24:44.632258800Z"
    }
   }
  },
  {
   "cell_type": "code",
   "execution_count": null,
   "outputs": [],
   "source": [
    "out.params.items()"
   ],
   "metadata": {
    "collapsed": false,
    "ExecuteTime": {
     "start_time": "2023-10-25T15:24:44.647879400Z"
    }
   }
  },
  {
   "cell_type": "code",
   "execution_count": null,
   "outputs": [],
   "source": [
    "out.params.pretty_print()"
   ],
   "metadata": {
    "collapsed": false,
    "ExecuteTime": {
     "start_time": "2023-10-25T15:24:44.647879400Z"
    }
   }
  },
  {
   "cell_type": "code",
   "execution_count": null,
   "outputs": [],
   "source": [
    "print('-------------------------------')\n",
    "print('Parameter    Value       Stderr')\n",
    "for name, param in out.params.items():\n",
    "    # print(f'{name:7s} {param.value:11.5f} {param.stderr:11.5f}')\n",
    "    print(name)\n",
    "    print(param)\n",
    "    print(param.value)"
   ],
   "metadata": {
    "collapsed": false,
    "ExecuteTime": {
     "start_time": "2023-10-25T15:24:44.647879400Z"
    }
   }
  },
  {
   "cell_type": "code",
   "execution_count": null,
   "outputs": [],
   "source": [],
   "metadata": {
    "collapsed": false,
    "ExecuteTime": {
     "start_time": "2023-10-25T15:24:44.647879400Z"
    }
   }
  },
  {
   "cell_type": "code",
   "execution_count": null,
   "outputs": [],
   "source": [
    "def gauss_lmfit_singlet(pkprms, ipk):\n",
    "    wi_re = pkprms.wide_regions[ipk]\n",
    "    print(f'pico: {wi_re}')\n",
    "    x = np.linspace(wi_re[0], wi_re[1], num=wi_re[1]-wi_re[0]+1)\n",
    "    y = cntarr[wi_re[0]:wi_re[1]+1]\n",
    "    c1 = pkprms.centroids[ipk]\n",
    "    s1 = pkprms.propts['widths'][ipk]*pkprms.k_fwhm_to_sd\n",
    "    a1 = pkprms.rough_sums[ipk]\n",
    "\n",
    "    parames = Parameters()\n",
    "\n",
    "    gauss1 = GaussianModel(prefix='g1_')\n",
    "    parames.update(gauss1.make_params())\n",
    "    parames['g1_center'].set(value=c1, min=c1-2, max=c1+2)\n",
    "    parames['g1_sigma'].set(value=s1, min=0.5, max=10)\n",
    "    parames['g1_amplitude'].set(value=a1, min=10)\n",
    "\n",
    "    mod = gauss1\n",
    "\n",
    "    init = mod.eval(parames, x=x)\n",
    "    out = mod.fit(y, parames, x=x, verbose=False)\n",
    "    print('Fez.')\n",
    "\n",
    "    # ret = [param for param in out.params.items()]\n",
    "    ret = out\n",
    "    return ret"
   ],
   "metadata": {
    "collapsed": false,
    "ExecuteTime": {
     "start_time": "2023-10-25T15:24:44.647879400Z"
    }
   }
  },
  {
   "cell_type": "code",
   "execution_count": null,
   "outputs": [],
   "source": [
    "for ipk in range(len(pkprms.peaks)):\n",
    "    ret = gauss_lmfit_singlet(pkprms, ipk)\n",
    "    print(ret)"
   ],
   "metadata": {
    "collapsed": false,
    "ExecuteTime": {
     "start_time": "2023-10-25T15:24:44.647879400Z"
    }
   }
  },
  {
   "cell_type": "code",
   "execution_count": null,
   "outputs": [],
   "source": [
    "ret"
   ],
   "metadata": {
    "collapsed": false,
    "ExecuteTime": {
     "start_time": "2023-10-25T15:24:44.647879400Z"
    }
   }
  },
  {
   "cell_type": "code",
   "execution_count": null,
   "outputs": [],
   "source": [
    "ret.params"
   ],
   "metadata": {
    "collapsed": false,
    "ExecuteTime": {
     "start_time": "2023-10-25T15:24:44.663500200Z"
    }
   }
  },
  {
   "cell_type": "code",
   "execution_count": null,
   "outputs": [],
   "source": [
    "for name, param in ret.params.items():\n",
    "    print(name, param.value, param.stderr)"
   ],
   "metadata": {
    "collapsed": false,
    "ExecuteTime": {
     "start_time": "2023-10-25T15:24:44.663500200Z"
    }
   }
  },
  {
   "cell_type": "code",
   "execution_count": null,
   "outputs": [],
   "source": [
    "for ipk in range(len(pkprms.peaks)):\n",
    "    ret = gauss_lmfit_singlet(pkprms, ipk)\n",
    "    # ret.params.pretty_print()"
   ],
   "metadata": {
    "collapsed": false,
    "ExecuteTime": {
     "start_time": "2023-10-25T15:24:44.663500200Z"
    }
   }
  },
  {
   "cell_type": "code",
   "execution_count": null,
   "outputs": [],
   "source": [
    "ret"
   ],
   "metadata": {
    "collapsed": false,
    "ExecuteTime": {
     "start_time": "2023-10-25T15:24:44.663500200Z"
    }
   }
  },
  {
   "cell_type": "code",
   "execution_count": null,
   "outputs": [],
   "source": [
    "xfgn sr hsrthf srth"
   ],
   "metadata": {
    "collapsed": false,
    "ExecuteTime": {
     "start_time": "2023-10-25T15:24:44.663500200Z"
    }
   }
  },
  {
   "cell_type": "code",
   "execution_count": null,
   "outputs": [],
   "source": [],
   "metadata": {
    "collapsed": false,
    "ExecuteTime": {
     "start_time": "2023-10-25T15:24:44.663500200Z"
    }
   }
  },
  {
   "cell_type": "code",
   "execution_count": null,
   "outputs": [],
   "source": [],
   "metadata": {
    "collapsed": false,
    "ExecuteTime": {
     "start_time": "2023-10-25T15:24:44.663500200Z"
    }
   }
  },
  {
   "cell_type": "code",
   "execution_count": null,
   "outputs": [],
   "source": [],
   "metadata": {
    "collapsed": false,
    "ExecuteTime": {
     "start_time": "2023-10-25T15:24:44.679121800Z"
    }
   }
  },
  {
   "cell_type": "code",
   "execution_count": null,
   "outputs": [],
   "source": [],
   "metadata": {
    "collapsed": false,
    "ExecuteTime": {
     "start_time": "2023-10-25T15:24:44.679121800Z"
    }
   }
  },
  {
   "cell_type": "code",
   "execution_count": null,
   "outputs": [],
   "source": [
    "my_df.dtypes"
   ],
   "metadata": {
    "collapsed": false,
    "ExecuteTime": {
     "start_time": "2023-10-25T15:24:44.679121800Z"
    }
   }
  },
  {
   "cell_type": "code",
   "execution_count": null,
   "outputs": [],
   "source": [
    "ch_en = ogra.a_spec.channel_energy_calib.p_en"
   ],
   "metadata": {
    "collapsed": false,
    "ExecuteTime": {
     "start_time": "2023-10-25T15:24:44.679121800Z"
    }
   }
  },
  {
   "cell_type": "code",
   "execution_count": null,
   "outputs": [],
   "source": [
    "my_df['centrs_en'] = ch_en(my_df['centroids'])\n",
    "my_df"
   ],
   "metadata": {
    "collapsed": false,
    "ExecuteTime": {
     "start_time": "2023-10-25T15:24:44.679121800Z"
    }
   }
  },
  {
   "cell_type": "code",
   "execution_count": null,
   "outputs": [],
   "source": [
    "# The End"
   ],
   "metadata": {
    "collapsed": false,
    "ExecuteTime": {
     "start_time": "2023-10-25T15:24:44.679121800Z"
    }
   }
  },
  {
   "cell_type": "code",
   "execution_count": null,
   "outputs": [],
   "source": [],
   "metadata": {
    "collapsed": false,
    "ExecuteTime": {
     "start_time": "2023-10-25T15:24:44.679121800Z"
    }
   }
  }
 ]
}
