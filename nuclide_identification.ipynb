{
 "cells": [
  {
   "cell_type": "code",
   "execution_count": 1,
   "metadata": {
    "ExecuteTime": {
     "end_time": "2023-08-28T22:24:12.796078100Z",
     "start_time": "2023-08-28T22:24:12.680046500Z"
    },
    "tags": []
   },
   "outputs": [],
   "source": [
    "\n",
    "# 2022-out-7: Excelente espectro para testes, tenho usado ultimamente:\n",
    "# a_pattern = 'Si/SI2018/SI11318.Chn'\n",
    "# 2022-nov-16: outros espectros:\n",
    "# a_pattern = \"Filtros/2022/Cci/CCI1603-I.Chn\"\n",
    "# a_pattern = \"Filtros/2022/Cci/CCI2302-I.Chn\"\n",
    "\n",
    "# a_pattern = \"Eso_non_existe.Chn\"\n",
    "\n",
    "# 2022-Dez-21 Buscando outro espectro\n",
    "# a_pattern = 'CCI1603-I'\n",
    "# 2022-Dez-28 Este é um espectro mais recente:\n",
    "# a_pattern = 'SI09722.Chn'\n",
    "# 2022-Dez-28 Este é um espectro mais recente que posso comparar com saída do Genie:\n",
    "# a_pattern = 'SI06322.Chn'\n",
    "# a_pattern = 'SI06122.Chn'"
   ]
  },
  {
   "cell_type": "code",
   "execution_count": 2,
   "metadata": {
    "ExecuteTime": {
     "end_time": "2023-08-28T22:24:14.252750Z",
     "start_time": "2023-08-28T22:24:12.717769300Z"
    },
    "collapsed": false,
    "jupyter": {
     "outputs_hidden": false
    },
    "tags": []
   },
   "outputs": [],
   "source": [
    "import numpy as np\n",
    "from numpy.polynomial import Polynomial as P  # 2020-09-06 Esta é a nova classe recomendada\n",
    "from sklearn import linear_model\n",
    "\n",
    "import pandas as pd\n",
    "from random import randrange\n",
    "# import plotly.graph_objects as go"
   ]
  },
  {
   "cell_type": "code",
   "execution_count": null,
   "metadata": {
    "tags": []
   },
   "outputs": [],
   "source": []
  },
  {
   "cell_type": "code",
   "execution_count": 3,
   "metadata": {
    "tags": []
   },
   "outputs": [],
   "source": [
    "from ograyspy_class import Ograyspy, select_spectrum_from_folder_list\n",
    "from spec_class import Spec"
   ]
  },
  {
   "cell_type": "code",
   "execution_count": 4,
   "metadata": {
    "ExecuteTime": {
     "end_time": "2023-08-28T22:24:16.288379900Z",
     "start_time": "2023-08-28T22:24:14.252750Z"
    },
    "collapsed": false,
    "jupyter": {
     "outputs_hidden": false
    },
    "tags": []
   },
   "outputs": [
    {
     "name": "stdout",
     "output_type": "stream",
     "text": [
      "Found folder name:  /home/jovyan/.bashrc\n",
      "Parts:  ('/', 'home', 'jovyan', '.bashrc')\n",
      "No. spec files:  0\n",
      "jupyter-terrabela-2dograyspy-2dzkasrbmk\n",
      "\n",
      "Exec ogra.define_files_folder(to_be_found):\n",
      "Found folder name:  /home/jovyan/data/some_spectra\n",
      "Parts:  ('/', 'home', 'jovyan', 'data', 'some_spectra')\n",
      "No. spec files:  11\n",
      "Linuxjupyter-terrabela-2dograyspy-2dzkasrbmk.pkl\n"
     ]
    }
   ],
   "source": [
    "ogra = Ograyspy()\n",
    "print(ogra.info_node)\n",
    "# to_be_found = 'Genie_Transfer'\n",
    "to_be_found = 'some_spectra'\n",
    "print('\\nExec ogra.define_files_folder(to_be_found):')\n",
    "ogra.define_files_folder(to_be_found)\n",
    "print(ogra.pkl_folder_files)\n",
    "spectra_list_df = pd.read_pickle(ogra.pkl_folder_files)\n",
    "del ogra"
   ]
  },
  {
   "cell_type": "code",
   "execution_count": 5,
   "metadata": {
    "ExecuteTime": {
     "end_time": "2023-08-28T22:24:38.680113900Z",
     "start_time": "2023-08-28T22:24:37.608646900Z"
    },
    "collapsed": false,
    "jupyter": {
     "outputs_hidden": false
    },
    "tags": []
   },
   "outputs": [
    {
     "data": {
      "text/html": [
       "<div>\n",
       "<style scoped>\n",
       "    .dataframe tbody tr th:only-of-type {\n",
       "        vertical-align: middle;\n",
       "    }\n",
       "\n",
       "    .dataframe tbody tr th {\n",
       "        vertical-align: top;\n",
       "    }\n",
       "\n",
       "    .dataframe thead th {\n",
       "        text-align: right;\n",
       "    }\n",
       "</style>\n",
       "<table border=\"1\" class=\"dataframe\">\n",
       "  <thead>\n",
       "    <tr style=\"text-align: right;\">\n",
       "      <th></th>\n",
       "      <th>info_plat</th>\n",
       "      <th>info_mach</th>\n",
       "      <th>info_syst</th>\n",
       "      <th>info_node</th>\n",
       "      <th>home_path</th>\n",
       "      <th>spectra_path</th>\n",
       "      <th>n_files</th>\n",
       "      <th>a_spec_ind</th>\n",
       "      <th>a_spec_name</th>\n",
       "      <th>reduced_f_name</th>\n",
       "      <th>files_list</th>\n",
       "      <th>reduced_names_files_list</th>\n",
       "      <th>spectra_pattern_names</th>\n",
       "      <th>pkl_folder_files</th>\n",
       "    </tr>\n",
       "  </thead>\n",
       "  <tbody>\n",
       "    <tr>\n",
       "      <th>0</th>\n",
       "      <td>Linux-5.15.0-79-generic-x86_64-with-glibc2.27</td>\n",
       "      <td>x86_64</td>\n",
       "      <td>Linux</td>\n",
       "      <td>jupyter-terrabela-2dograyspy-2dzkasrbmk</td>\n",
       "      <td>/home/jovyan</td>\n",
       "      <td>/home/jovyan/data/some_spectra</td>\n",
       "      <td>11</td>\n",
       "      <td>0</td>\n",
       "      <td></td>\n",
       "      <td></td>\n",
       "      <td>[/home/jovyan/data/some_spectra/CCI0902-I.Chn,...</td>\n",
       "      <td>[CCI0902-I.Chn, CCI0202-I.Chn, CCI0903-I.Chn, ...</td>\n",
       "      <td>[**/*.[Cc][Hh][Nn], **/*.[Ii][Ee][Cc]]</td>\n",
       "      <td>Linuxjupyter-terrabela-2dograyspy-2dzkasrbmk.pkl</td>\n",
       "    </tr>\n",
       "  </tbody>\n",
       "</table>\n",
       "</div>"
      ],
      "text/plain": [
       "                                       info_plat info_mach info_syst  \\\n",
       "0  Linux-5.15.0-79-generic-x86_64-with-glibc2.27    x86_64     Linux   \n",
       "\n",
       "                                 info_node     home_path  \\\n",
       "0  jupyter-terrabela-2dograyspy-2dzkasrbmk  /home/jovyan   \n",
       "\n",
       "                     spectra_path  n_files  a_spec_ind a_spec_name  \\\n",
       "0  /home/jovyan/data/some_spectra       11           0               \n",
       "\n",
       "  reduced_f_name                                         files_list  \\\n",
       "0                 [/home/jovyan/data/some_spectra/CCI0902-I.Chn,...   \n",
       "\n",
       "                            reduced_names_files_list  \\\n",
       "0  [CCI0902-I.Chn, CCI0202-I.Chn, CCI0903-I.Chn, ...   \n",
       "\n",
       "                    spectra_pattern_names  \\\n",
       "0  [**/*.[Cc][Hh][Nn], **/*.[Ii][Ee][Cc]]   \n",
       "\n",
       "                                   pkl_folder_files  \n",
       "0  Linuxjupyter-terrabela-2dograyspy-2dzkasrbmk.pkl  "
      ]
     },
     "execution_count": 5,
     "metadata": {},
     "output_type": "execute_result"
    }
   ],
   "source": [
    "spectra_list_df"
   ]
  },
  {
   "cell_type": "code",
   "execution_count": 6,
   "metadata": {
    "ExecuteTime": {
     "end_time": "2023-08-28T22:24:40.923623200Z",
     "start_time": "2023-08-28T22:24:40.844174400Z"
    },
    "tags": []
   },
   "outputs": [],
   "source": [
    "reduc_nms = spectra_list_df.reduced_names_files_list[0]\n",
    "fil_lst = spectra_list_df.files_list[0]\n",
    "spc_pth = spectra_list_df.spectra_path[0]"
   ]
  },
  {
   "cell_type": "code",
   "execution_count": 7,
   "metadata": {
    "ExecuteTime": {
     "end_time": "2023-08-28T22:24:42.661227200Z",
     "start_time": "2023-08-28T22:24:42.398211400Z"
    },
    "collapsed": false,
    "jupyter": {
     "outputs_hidden": false
    },
    "tags": []
   },
   "outputs": [
    {
     "data": {
      "text/plain": [
       "['CCI0902-I.Chn',\n",
       " 'CCI0202-I.Chn',\n",
       " 'CCI0903-I.Chn',\n",
       " 'CCI0501-I.Chn',\n",
       " 'CCI2302-I.Chn',\n",
       " 'CCI1201-I.Chn',\n",
       " 'CCI1503-F.Chn',\n",
       " 'CCI1901-I.Chn',\n",
       " 'CCI1602-I.Chn',\n",
       " 'CCI2601-I.Chn',\n",
       " 'CCI1603-I.Chn']"
      ]
     },
     "execution_count": 7,
     "metadata": {},
     "output_type": "execute_result"
    }
   ],
   "source": [
    "reduc_nms"
   ]
  },
  {
   "cell_type": "code",
   "execution_count": 8,
   "metadata": {
    "ExecuteTime": {
     "end_time": "2023-08-28T22:24:44.205680600Z",
     "start_time": "2023-08-28T22:24:44.158820900Z"
    },
    "collapsed": false,
    "jupyter": {
     "outputs_hidden": false
    }
   },
   "outputs": [],
   "source": [
    "# 2022-Dez-28 Este é um espectro mais recente que posso comparar com saída do Genie:\n",
    "a_pattern = 'SI06122.Chn'"
   ]
  },
  {
   "cell_type": "code",
   "execution_count": 9,
   "metadata": {
    "ExecuteTime": {
     "end_time": "2023-08-28T22:24:45.735398900Z",
     "start_time": "2023-08-28T22:24:45.688538100Z"
    }
   },
   "outputs": [
    {
     "name": "stdout",
     "output_type": "stream",
     "text": [
      "Existing:\n",
      "==========================\n",
      "Final choices:\n",
      "spectra_path: /home/jovyan/data/some_spectra\n"
     ]
    },
    {
     "ename": "UnboundLocalError",
     "evalue": "local variable 'a_spec_name' referenced before assignment",
     "output_type": "error",
     "traceback": [
      "\u001b[0;31m---------------------------------------------------------------------------\u001b[0m",
      "\u001b[0;31mUnboundLocalError\u001b[0m                         Traceback (most recent call last)",
      "Cell \u001b[0;32mIn[9], line 1\u001b[0m\n\u001b[0;32m----> 1\u001b[0m f_name, reduced_f_name \u001b[38;5;241m=\u001b[39m \u001b[43mselect_spectrum_from_folder_list\u001b[49m\u001b[43m(\u001b[49m\u001b[43mreduc_nms\u001b[49m\u001b[43m,\u001b[49m\u001b[43m \u001b[49m\u001b[43mfil_lst\u001b[49m\u001b[43m,\u001b[49m\u001b[43m \u001b[49m\u001b[43mspc_pth\u001b[49m\u001b[43m,\u001b[49m\u001b[43m \u001b[49m\u001b[43ma_pattern\u001b[49m\u001b[43m)\u001b[49m\n\u001b[1;32m      2\u001b[0m f_name, reduced_f_name\n",
      "File \u001b[0;32m~/ograyspy_class.py:48\u001b[0m, in \u001b[0;36mselect_spectrum_from_folder_list\u001b[0;34m(reduced_names_file_list, files_list, spectra_path, a_pattern, random_spectrum)\u001b[0m\n\u001b[1;32m     46\u001b[0m \u001b[38;5;28mprint\u001b[39m(\u001b[38;5;124m'\u001b[39m\u001b[38;5;124mFinal choices:\u001b[39m\u001b[38;5;124m'\u001b[39m)\n\u001b[1;32m     47\u001b[0m \u001b[38;5;28mprint\u001b[39m(\u001b[38;5;124mf\u001b[39m\u001b[38;5;124m'\u001b[39m\u001b[38;5;124mspectra_path: \u001b[39m\u001b[38;5;132;01m{\u001b[39;00mspectra_path\u001b[38;5;132;01m}\u001b[39;00m\u001b[38;5;124m'\u001b[39m)\n\u001b[0;32m---> 48\u001b[0m \u001b[38;5;28mprint\u001b[39m(\u001b[38;5;124mf\u001b[39m\u001b[38;5;124m'\u001b[39m\u001b[38;5;124ma_spec_name: \u001b[39m\u001b[38;5;132;01m{\u001b[39;00m\u001b[43ma_spec_name\u001b[49m\u001b[38;5;132;01m}\u001b[39;00m\u001b[38;5;124m'\u001b[39m)\n\u001b[1;32m     49\u001b[0m \u001b[38;5;28mprint\u001b[39m(\u001b[38;5;124mf\u001b[39m\u001b[38;5;124m'\u001b[39m\u001b[38;5;124mreduced_f_name: \u001b[39m\u001b[38;5;132;01m{\u001b[39;00mreduced_f_name\u001b[38;5;132;01m}\u001b[39;00m\u001b[38;5;124m'\u001b[39m)\n\u001b[1;32m     50\u001b[0m \u001b[38;5;28;01mreturn\u001b[39;00m a_spec_name, reduced_f_name\n",
      "\u001b[0;31mUnboundLocalError\u001b[0m: local variable 'a_spec_name' referenced before assignment"
     ]
    }
   ],
   "source": [
    "f_name, reduced_f_name = select_spectrum_from_folder_list(reduc_nms, fil_lst, spc_pth, a_pattern)\n",
    "f_name, reduced_f_name"
   ]
  },
  {
   "cell_type": "code",
   "execution_count": null,
   "metadata": {
    "ExecuteTime": {
     "end_time": "2023-08-28T22:24:47.877188900Z",
     "start_time": "2023-08-28T22:24:47.845948600Z"
    },
    "collapsed": false,
    "jupyter": {
     "outputs_hidden": false
    }
   },
   "outputs": [],
   "source": []
  },
  {
   "cell_type": "code",
   "execution_count": null,
   "metadata": {
    "ExecuteTime": {
     "end_time": "2023-08-28T22:24:50.052004Z",
     "start_time": "2023-08-28T22:24:49.989521700Z"
    },
    "collapsed": false,
    "jupyter": {
     "outputs_hidden": false
    }
   },
   "outputs": [],
   "source": [
    "nucl_iear1_df = pd.read_pickle('nucl_iear1_list.pkl')\n",
    "nucl_iear1_df"
   ]
  },
  {
   "cell_type": "code",
   "execution_count": null,
   "metadata": {
    "ExecuteTime": {
     "end_time": "2023-08-28T22:24:51.670424400Z",
     "start_time": "2023-08-28T22:24:51.590047200Z"
    },
    "collapsed": false,
    "jupyter": {
     "outputs_hidden": false
    }
   },
   "outputs": [],
   "source": [
    "# 2023-Jun-15: Setting gamma lines/ranges to dismiss in the analysis\n",
    "df1 = nucl_iear1_df\n",
    "df1[\"is_to_consider\"] = True\n",
    "df1.loc[((df1.energy > 509) & (df1.energy < 513)) | (df1.energy < 100), \"is_to_consider\"] = False\n",
    "del df1\n",
    "nucl_iear1_df"
   ]
  },
  {
   "cell_type": "code",
   "execution_count": null,
   "metadata": {
    "ExecuteTime": {
     "end_time": "2023-08-28T22:24:54.021235500Z",
     "start_time": "2023-08-28T22:24:53.952466800Z"
    },
    "collapsed": false,
    "jupyter": {
     "outputs_hidden": false
    }
   },
   "outputs": [],
   "source": [
    "nucl_iear1_df"
   ]
  },
  {
   "cell_type": "code",
   "execution_count": null,
   "metadata": {
    "ExecuteTime": {
     "end_time": "2023-08-28T22:24:55.519926500Z",
     "start_time": "2023-08-28T22:24:55.446987900Z"
    }
   },
   "outputs": [],
   "source": [
    "a_spec = Spec(f_name, reduced_f_name)"
   ]
  },
  {
   "cell_type": "code",
   "execution_count": null,
   "metadata": {
    "ExecuteTime": {
     "end_time": "2023-08-28T22:25:00.044318300Z",
     "start_time": "2023-08-28T22:24:59.959676800Z"
    },
    "collapsed": false,
    "jupyter": {
     "outputs_hidden": false
    }
   },
   "outputs": [],
   "source": [
    "dir(a_spec)"
   ]
  },
  {
   "cell_type": "code",
   "execution_count": null,
   "metadata": {
    "ExecuteTime": {
     "end_time": "2023-08-28T22:25:04.759201200Z",
     "start_time": "2023-08-28T22:25:04.658868100Z"
    },
    "collapsed": false,
    "jupyter": {
     "outputs_hidden": false
    }
   },
   "outputs": [],
   "source": [
    "orig_ser = a_spec.origin_spec_ser_an\n",
    "vars(orig_ser)"
   ]
  },
  {
   "cell_type": "code",
   "execution_count": null,
   "metadata": {
    "ExecuteTime": {
     "end_time": "2023-08-28T22:25:09.349409200Z",
     "start_time": "2023-08-28T22:25:09.264772200Z"
    },
    "collapsed": false,
    "jupyter": {
     "outputs_hidden": false
    }
   },
   "outputs": [],
   "source": [
    "a_spec.total_analysis(gener_dataframe=True)\n",
    "# A opção acima, gener_dataframe=True,  grava o pkl_file do espectro\n",
    "vars(a_spec)"
   ]
  },
  {
   "cell_type": "code",
   "execution_count": null,
   "metadata": {
    "ExecuteTime": {
     "end_time": "2023-08-28T22:25:16.547442900Z",
     "start_time": "2023-08-28T22:25:16.425314700Z"
    },
    "collapsed": false,
    "jupyter": {
     "outputs_hidden": false
    }
   },
   "outputs": [],
   "source": [
    "vars(orig_ser)"
   ]
  },
  {
   "cell_type": "code",
   "execution_count": null,
   "metadata": {
    "ExecuteTime": {
     "end_time": "2023-08-28T22:25:19.059163100Z",
     "start_time": "2023-08-28T22:25:19.012301400Z"
    },
    "collapsed": false,
    "jupyter": {
     "outputs_hidden": false
    }
   },
   "outputs": [],
   "source": [
    "net_ser = a_spec.net_spec_ser_an\n",
    "vars(net_ser)"
   ]
  },
  {
   "cell_type": "code",
   "execution_count": null,
   "metadata": {
    "ExecuteTime": {
     "end_time": "2023-08-28T22:25:23.911209900Z",
     "start_time": "2023-08-28T22:25:23.864319500Z"
    },
    "collapsed": false,
    "jupyter": {
     "outputs_hidden": false
    }
   },
   "outputs": [],
   "source": [
    "print(a_spec.pkl_file)"
   ]
  },
  {
   "cell_type": "code",
   "execution_count": null,
   "metadata": {
    "ExecuteTime": {
     "end_time": "2023-08-28T22:25:26.883518600Z",
     "start_time": "2023-08-28T22:25:26.852279Z"
    },
    "collapsed": false,
    "jupyter": {
     "outputs_hidden": false
    }
   },
   "outputs": [],
   "source": [
    "a_spec.pkl_file"
   ]
  },
  {
   "cell_type": "code",
   "execution_count": null,
   "metadata": {
    "ExecuteTime": {
     "end_time": "2023-08-28T22:25:30.171496600Z",
     "start_time": "2023-08-28T22:25:30.108980500Z"
    },
    "collapsed": false,
    "jupyter": {
     "outputs_hidden": false
    }
   },
   "outputs": [],
   "source": []
  },
  {
   "cell_type": "code",
   "execution_count": null,
   "metadata": {
    "ExecuteTime": {
     "end_time": "2023-08-28T22:25:31.617604100Z",
     "start_time": "2023-08-28T22:25:31.557159300Z"
    },
    "collapsed": false,
    "jupyter": {
     "outputs_hidden": false
    }
   },
   "outputs": [],
   "source": [
    "# Só para verificar se o pkl_file pode ser recuperado:\n",
    "read_analysis_spec = pd.read_pickle(a_spec.pkl_file)"
   ]
  },
  {
   "cell_type": "code",
   "execution_count": null,
   "metadata": {
    "ExecuteTime": {
     "end_time": "2023-08-28T22:25:33.750952900Z",
     "start_time": "2023-08-28T22:25:33.666240Z"
    },
    "collapsed": false,
    "jupyter": {
     "outputs_hidden": false
    }
   },
   "outputs": [],
   "source": [
    "read_orig = read_analysis_spec['origin_spec_ser_an'][0]\n",
    "orig_ser = read_orig\n",
    "vars(orig_ser)"
   ]
  },
  {
   "cell_type": "code",
   "execution_count": null,
   "metadata": {
    "ExecuteTime": {
     "end_time": "2023-08-28T22:25:36.492999800Z",
     "start_time": "2023-08-28T22:25:36.439627200Z"
    },
    "collapsed": false,
    "jupyter": {
     "outputs_hidden": false
    }
   },
   "outputs": [],
   "source": [
    "read_net = read_analysis_spec['net_spec_ser_an'][0]\n",
    "net_ser = read_net\n",
    "vars(net_ser)"
   ]
  },
  {
   "cell_type": "code",
   "execution_count": null,
   "metadata": {
    "ExecuteTime": {
     "end_time": "2023-08-28T22:25:38.254932500Z",
     "start_time": "2023-08-28T22:25:38.216779Z"
    },
    "collapsed": false,
    "jupyter": {
     "outputs_hidden": false
    }
   },
   "outputs": [],
   "source": [
    "# 2023-May-26\n",
    "# Ok! Espectro gravado, depois lido, então vamos prosseguir\n",
    "# com a identificação dos nuclídeos.\n",
    "# Agora, posso ler e analisar um espectro, gravá-lo e depois, em outro momento,\n",
    "# ler o pkl com a análise."
   ]
  },
  {
   "cell_type": "code",
   "execution_count": null,
   "metadata": {
    "ExecuteTime": {
     "end_time": "2023-08-28T22:25:39.334448Z",
     "start_time": "2023-08-28T22:25:39.287582900Z"
    },
    "collapsed": false,
    "jupyter": {
     "outputs_hidden": false
    }
   },
   "outputs": [],
   "source": []
  },
  {
   "cell_type": "code",
   "execution_count": null,
   "metadata": {
    "ExecuteTime": {
     "end_time": "2023-08-28T22:25:41.252873600Z",
     "start_time": "2023-08-28T22:25:41.199480900Z"
    }
   },
   "outputs": [],
   "source": [
    "x_nz = orig_ser.chans_nzero\n",
    "y_nz = orig_ser.counts_nzero"
   ]
  },
  {
   "cell_type": "code",
   "execution_count": null,
   "metadata": {
    "ExecuteTime": {
     "end_time": "2023-08-28T22:25:43.389185Z",
     "start_time": "2023-08-28T22:25:43.335812600Z"
    }
   },
   "outputs": [],
   "source": []
  },
  {
   "cell_type": "code",
   "execution_count": null,
   "metadata": {
    "ExecuteTime": {
     "end_time": "2023-08-28T22:25:44.422338500Z",
     "start_time": "2023-08-28T22:25:44.352544Z"
    }
   },
   "outputs": [],
   "source": [
    "chans = net_ser.x_s\n",
    "ys_net_counts = net_ser.y_s\n",
    "peaks_net = net_ser.pk_parms.peaks\n",
    "peaks_orig = orig_ser.pk_parms.peaks\n",
    "counts = orig_ser.y_s\n",
    "chans_nzero = orig_ser.chans_nzero\n",
    "counts_nzero = orig_ser.counts_nzero\n",
    "unc_y = orig_ser.unc_y\n",
    "eval_y = orig_ser.y_smoothed\n",
    "eval_bl = orig_ser.eval_baseline\n",
    "fin_bl = orig_ser.final_baseline\n",
    "inis = orig_ser.pk_parms.propts['left_bases']\n",
    "fins = orig_ser.pk_parms.propts['right_bases']"
   ]
  },
  {
   "cell_type": "code",
   "execution_count": null,
   "metadata": {
    "ExecuteTime": {
     "end_time": "2023-08-28T22:25:45.754076200Z",
     "start_time": "2023-08-28T22:25:45.695839600Z"
    },
    "collapsed": false,
    "jupyter": {
     "outputs_hidden": false
    }
   },
   "outputs": [],
   "source": [
    "# 2023-Jun-15\n",
    "# CRUCIAL step: take the dict net_ser.pk_parms' keys/values and organize them as a pd.Dataframe\n",
    "vars_pkprms = vars(net_ser.pk_parms)\n",
    "keys_to_get = ['peaks', 'fwhm_centr', 'rough_sums', 'centroids', 'variances']\n",
    "prep_for_dict = [(key, vars_pkprms[key]) for key in keys_to_get]\n",
    "pks_dict = dict(prep_for_dict)\n",
    "peaks_df = pd.DataFrame.from_dict(pks_dict)\n",
    "peaks_df"
   ]
  },
  {
   "cell_type": "code",
   "execution_count": null,
   "metadata": {
    "ExecuteTime": {
     "end_time": "2023-08-28T22:25:47.823150300Z",
     "start_time": "2023-08-28T22:25:47.762889Z"
    },
    "collapsed": false,
    "jupyter": {
     "outputs_hidden": false
    }
   },
   "outputs": [],
   "source": []
  },
  {
   "cell_type": "code",
   "execution_count": null,
   "metadata": {
    "ExecuteTime": {
     "end_time": "2023-08-28T22:25:50.065008300Z",
     "start_time": "2023-08-28T22:25:49.949079400Z"
    },
    "collapsed": false,
    "jupyter": {
     "outputs_hidden": false
    }
   },
   "outputs": [],
   "source": [
    "pr_pk = dict([('pk_hei',net_ser.pk_parms.propts['peak_heights']),\n",
    "              ('lf_thr',net_ser.pk_parms.propts['left_thresholds']),\n",
    "              ('rg_thr',net_ser.pk_parms.propts['right_thresholds']),\n",
    "              ('promns',net_ser.pk_parms.propts['prominences']),\n",
    "              ('lf_bas',net_ser.pk_parms.propts['left_bases']),\n",
    "              ('rg_bas',net_ser.pk_parms.propts['right_bases']),\n",
    "              ('widths',net_ser.pk_parms.propts['widths']),\n",
    "              ('wi_hei',net_ser.pk_parms.propts['width_heights']),\n",
    "              ('lf_ips',net_ser.pk_parms.propts['left_ips']),\n",
    "              ('rg_ips',net_ser.pk_parms.propts['right_ips'])])"
   ]
  },
  {
   "cell_type": "code",
   "execution_count": null,
   "metadata": {
    "ExecuteTime": {
     "end_time": "2023-08-28T22:25:51.495520400Z",
     "start_time": "2023-08-28T22:25:51.364060500Z"
    },
    "collapsed": false,
    "jupyter": {
     "outputs_hidden": false
    }
   },
   "outputs": [],
   "source": [
    "pks_properties_df = pd.DataFrame(pr_pk)\n",
    "pks_properties_df"
   ]
  },
  {
   "cell_type": "code",
   "execution_count": null,
   "metadata": {
    "ExecuteTime": {
     "end_time": "2023-08-28T22:25:52.856962900Z",
     "start_time": "2023-08-28T22:25:52.748507800Z"
    },
    "collapsed": false,
    "jupyter": {
     "outputs_hidden": false
    }
   },
   "outputs": [],
   "source": [
    "pks_comprehensive_df = pd.concat([peaks_df, pks_properties_df],axis=1)\n",
    "pks_comprehensive_df"
   ]
  },
  {
   "cell_type": "code",
   "execution_count": null,
   "metadata": {
    "ExecuteTime": {
     "end_time": "2023-08-28T22:25:54.690939200Z",
     "start_time": "2023-08-28T22:25:54.659696300Z"
    },
    "collapsed": false,
    "jupyter": {
     "outputs_hidden": false
    }
   },
   "outputs": [],
   "source": [
    "def add_engy_to_pks_df(peaks_net_kev_df, func_en):\n",
    "    peaks_net_kev_df['engy_pk_det'] = func_en(peaks_net_kev_df.centroids)"
   ]
  },
  {
   "cell_type": "code",
   "execution_count": null,
   "metadata": {
    "ExecuteTime": {
     "end_time": "2023-08-28T22:25:56.781463900Z",
     "start_time": "2023-08-28T22:25:56.728087200Z"
    },
    "collapsed": false,
    "jupyter": {
     "outputs_hidden": false
    }
   },
   "outputs": [],
   "source": [
    "add_engy_to_pks_df(pks_comprehensive_df, a_spec.channel_energy_calib.get_energy)"
   ]
  },
  {
   "cell_type": "code",
   "execution_count": null,
   "metadata": {
    "ExecuteTime": {
     "end_time": "2023-08-28T22:25:59.293724100Z",
     "start_time": "2023-08-28T22:25:59.124493200Z"
    },
    "collapsed": false,
    "jupyter": {
     "outputs_hidden": false
    }
   },
   "outputs": [],
   "source": [
    "pks_comprehensive_df"
   ]
  },
  {
   "cell_type": "code",
   "execution_count": null,
   "metadata": {
    "ExecuteTime": {
     "end_time": "2023-08-28T22:26:02.815759900Z",
     "start_time": "2023-08-28T22:26:01.691124400Z"
    },
    "collapsed": false,
    "jupyter": {
     "outputs_hidden": false
    }
   },
   "outputs": [],
   "source": [
    "vars()"
   ]
  },
  {
   "cell_type": "code",
   "execution_count": null,
   "metadata": {
    "ExecuteTime": {
     "end_time": "2023-08-28T22:26:23.852085200Z",
     "start_time": "2023-08-28T22:26:23.726000100Z"
    },
    "collapsed": false,
    "jupyter": {
     "outputs_hidden": false
    }
   },
   "outputs": [],
   "source": [
    "nucl_iear1_df"
   ]
  },
  {
   "cell_type": "code",
   "execution_count": null,
   "metadata": {
    "ExecuteTime": {
     "end_time": "2023-08-28T22:27:07.171751200Z",
     "start_time": "2023-08-28T22:26:32.998036200Z"
    },
    "collapsed": false,
    "jupyter": {
     "outputs_hidden": false
    }
   },
   "outputs": [],
   "source": [
    "nucl_iear1_selctd_gamms_df = nucl_iear1_df.loc [\n",
    "    (nucl_iear1_df.intensity > 1.0) & nucl_iear1_df.is_to_consider\n",
    "]\n",
    "nucl_iear1_selctd_gamms_df"
   ]
  },
  {
   "cell_type": "code",
   "execution_count": null,
   "metadata": {
    "ExecuteTime": {
     "end_time": "2023-08-28T22:37:17.300507100Z",
     "start_time": "2023-08-28T22:37:17.069029Z"
    },
    "collapsed": false,
    "jupyter": {
     "outputs_hidden": false
    }
   },
   "outputs": [],
   "source": [
    "cross_df = pd.merge(pks_comprehensive_df, nucl_iear1_selctd_gamms_df, how='cross')\n",
    "cross_df[\"delta_en\"] = cross_df.engy_pk_det - cross_df.energy\n",
    "cross_df"
   ]
  },
  {
   "cell_type": "code",
   "execution_count": null,
   "metadata": {
    "ExecuteTime": {
     "end_time": "2023-08-28T22:37:31.438496800Z",
     "start_time": "2023-08-28T22:37:31.385098500Z"
    },
    "collapsed": false,
    "jupyter": {
     "outputs_hidden": false
    }
   },
   "outputs": [],
   "source": [
    "def create_matching_peaks_df(pks_df, en_toler, must_be_key_gamma=False):\n",
    "    if must_be_key_gamma:\n",
    "        aux_df = pd.DataFrame(pks_df.loc[pks_df.is_key_gamma])\n",
    "    else:\n",
    "        aux_df = pd.DataFrame(pks_df)\n",
    "    return aux_df.loc[np.abs(pks_df.delta_en) < en_toler] "
   ]
  },
  {
   "cell_type": "code",
   "execution_count": null,
   "metadata": {
    "ExecuteTime": {
     "end_time": "2023-08-28T22:37:33.775426100Z",
     "start_time": "2023-08-28T22:37:33.728532500Z"
    },
    "collapsed": false,
    "jupyter": {
     "outputs_hidden": false
    }
   },
   "outputs": [],
   "source": [
    "en_toler_calib = 3.0"
   ]
  },
  {
   "cell_type": "code",
   "execution_count": null,
   "metadata": {
    "ExecuteTime": {
     "end_time": "2023-08-28T22:37:35.897881800Z",
     "start_time": "2023-08-28T22:37:35.797391300Z"
    },
    "collapsed": false,
    "jupyter": {
     "outputs_hidden": false
    }
   },
   "outputs": [],
   "source": [
    "matching_peaks_df = create_matching_peaks_df(cross_df, en_toler_calib, must_be_key_gamma=True)\n",
    "matching_peaks_df"
   ]
  },
  {
   "cell_type": "code",
   "execution_count": null,
   "metadata": {
    "ExecuteTime": {
     "end_time": "2023-08-28T22:37:42.135031100Z",
     "start_time": "2023-08-28T22:37:42.072520500Z"
    },
    "collapsed": false,
    "jupyter": {
     "outputs_hidden": false
    }
   },
   "outputs": [],
   "source": [
    "matching_peaks_df = create_matching_peaks_df(cross_df, en_toler_calib, must_be_key_gamma=False)\n",
    "matching_peaks_df"
   ]
  },
  {
   "cell_type": "code",
   "execution_count": null,
   "metadata": {
    "ExecuteTime": {
     "end_time": "2023-08-28T22:37:50.721044900Z",
     "start_time": "2023-08-28T22:37:49.481037700Z"
    },
    "collapsed": false,
    "jupyter": {
     "outputs_hidden": false
    }
   },
   "outputs": [],
   "source": [
    "X_energy = np.array(matching_peaks_df.energy).reshape(-1,1)\n",
    "y_delta_en = np.array(matching_peaks_df.delta_en)\n",
    "# Robustly fit linear model with RANSAC algorithm\n",
    "ransac = linear_model.RANSACRegressor()\n",
    "ransac.fit(X_energy, y_delta_en)\n",
    "inlier_mask = ransac.inlier_mask_\n",
    "outlier_mask = np.logical_not(inlier_mask)\n",
    "matching_peaks_df[\"recalib_engy_ransac\"] = matching_peaks_df.engy_pk_det - ransac.predict(X_energy)\n",
    "# cross_df[\"recalib_engy_ransac\"] = cross_df.engy_pk_det - ransac.predict(X_energy)"
   ]
  },
  {
   "cell_type": "code",
   "execution_count": null,
   "metadata": {
    "ExecuteTime": {
     "end_time": "2023-08-28T22:38:06.982315200Z",
     "start_time": "2023-08-28T22:38:06.881779700Z"
    },
    "collapsed": false,
    "jupyter": {
     "outputs_hidden": false
    }
   },
   "outputs": [],
   "source": [
    "# 2023-Aug-18 PAREI AQUI: Ver como eliminar as duplicadas (tipo 238 e 241 keV, etc)\n",
    "matching_peaks_df"
   ]
  },
  {
   "cell_type": "code",
   "execution_count": null,
   "metadata": {
    "ExecuteTime": {
     "start_time": "2023-08-22T15:59:47.569005300Z"
    },
    "collapsed": false,
    "jupyter": {
     "outputs_hidden": false
    }
   },
   "outputs": [],
   "source": [
    "xzdfgxfrt jm dyjd"
   ]
  },
  {
   "cell_type": "code",
   "execution_count": null,
   "metadata": {
    "ExecuteTime": {
     "start_time": "2023-08-22T15:59:47.896898500Z"
    },
    "collapsed": false,
    "jupyter": {
     "outputs_hidden": false
    }
   },
   "outputs": [],
   "source": [
    "2+3"
   ]
  },
  {
   "cell_type": "code",
   "execution_count": null,
   "metadata": {
    "ExecuteTime": {
     "start_time": "2023-08-22T15:59:47.899890700Z"
    },
    "collapsed": false,
    "jupyter": {
     "outputs_hidden": false
    }
   },
   "outputs": [],
   "source": [
    "cross_df_2 = pd.merge(df1, nucl_lib_df, how='cross', suffixes=('_x', None))\n",
    "cross_df_2.drop(cross_df_2.filter(regex='_x$').columns, axis=1, inplace=True)\n",
    "cross_df_2[\"new_delta_en\"] = cross_df_2.recalib_engy_ransac - cross_df_2.energy"
   ]
  },
  {
   "cell_type": "code",
   "execution_count": null,
   "metadata": {
    "ExecuteTime": {
     "start_time": "2023-08-22T15:59:47.901885500Z"
    },
    "collapsed": false,
    "jupyter": {
     "outputs_hidden": false
    }
   },
   "outputs": [],
   "source": [
    "df1"
   ]
  },
  {
   "cell_type": "code",
   "execution_count": null,
   "metadata": {
    "ExecuteTime": {
     "start_time": "2023-08-22T15:59:47.904877700Z"
    },
    "collapsed": false,
    "jupyter": {
     "outputs_hidden": false
    }
   },
   "outputs": [],
   "source": []
  },
  {
   "cell_type": "code",
   "execution_count": null,
   "metadata": {
    "ExecuteTime": {
     "start_time": "2023-08-22T15:59:47.907870Z"
    },
    "collapsed": false,
    "jupyter": {
     "outputs_hidden": false
    }
   },
   "outputs": [],
   "source": [
    "def spec_engy_recalib(peaks_net_kev_df, nucl_lib_df, func_en,\n",
    "                      en_toler_calib=3.0, ):\n",
    "    # Library-based spectrum energy/channel recalibration\n",
    "    # TODO: implement option to update self.channel_energy_calib\n",
    "\n",
    "    \"\"\"Perform a library-based spectrum energy/channel recalibration\n",
    "    :param func_en: energy function\n",
    "    :type callable\n",
    "    :param peaks_net_kev_df: single col 'energy_detected' w/ peaks' energies detected\n",
    "    :type peaks_net_kev_df: pd.Dataframe\n",
    "    :param nucl_lib_df: nuclide library based on IAEA format as a Pandas dataframe\n",
    "    :type nucl_lib_df: pd.Dataframe\n",
    "    :param en_toler_calib: energy difference accetable to take a peak for automatic calibration\n",
    "        (default is 3.0)\n",
    "    :type en_toler_calib: float\n",
    "    :returns: a pd.Dataframe with each row as an identified peak with parameters\n",
    "    :rtype: pd.Dataframe\n",
    "    \"\"\"\n",
    "\n",
    "    # peaks_net_kev_df['engy_pk_det'] = func_en(peaks_net_kev_df.centroids)\n",
    "    # cross_df = pd.merge(peaks_net_kev_df, nucl_lib_df, how='cross')\n",
    "    # cross_df[\"delta_en\"] = cross_df.engy_pk_det - cross_df.energy\n",
    "    # df1 = pd.DataFrame(cross_df.loc [(np.abs(cross_df.delta_en) < en_toler_calib)] )\n",
    "    X_energy = np.array(df1.energy).reshape(-1,1)\n",
    "    y_delta_en = np.array(df1.delta_en)\n",
    "    # Robustly fit linear model with RANSAC algorithm\n",
    "    ransac = linear_model.RANSACRegressor()\n",
    "    ransac.fit(X_energy, y_delta_en)\n",
    "    inlier_mask = ransac.inlier_mask_\n",
    "    outlier_mask = np.logical_not(inlier_mask)\n",
    "    df1[\"recalib_engy_ransac\"] = df1.engy_pk_det - ransac.predict(X_energy)\n",
    "    # cross_df[\"recalib_engy_ransac\"] = cross_df.engy_pk_det - ransac.predict(X_energy)\n",
    "\n",
    "    cross_df_2 = pd.merge(df1, nucl_lib_df, how='cross', suffixes=('_x', None))\n",
    "    cross_df_2.drop(cross_df_2.filter(regex='_x$').columns, axis=1, inplace=True)\n",
    "    cross_df_2[\"new_delta_en\"] = cross_df_2.recalib_engy_ransac - cross_df_2.energy\n",
    "    # return cross_df_2\n",
    "    return df1\n",
    "    \n",
    "    # df_result = pd.DataFrame(cross_df_2.loc [(np.abs(cross_df_2.new_delta_en) < en_toler_ident)] )\n",
    "    # return peaks_net_kev_df, nucl_lib_df, df1, cross_df_2, df_result\n",
    "    # return cross_df_2"
   ]
  },
  {
   "cell_type": "code",
   "execution_count": null,
   "metadata": {
    "ExecuteTime": {
     "start_time": "2023-08-22T15:59:47.910862Z"
    },
    "collapsed": false,
    "jupyter": {
     "outputs_hidden": false
    }
   },
   "outputs": [],
   "source": [
    "def spec_engy_identif(cross_df_2, en_toler_ident=0.5):\n",
    "    # Library-based spectrum energy/channel recalibration\n",
    "    # TODO: implement options for activity calculation\n",
    "\n",
    "    \"\"\"Perform a library-based spectrum energy/channel recalibration\n",
    "    :param nucl_lib_df: nuclide library based on IAEA format as a Pandas dataframe\n",
    "    :type nucl_lib_df: pd.Dataframe\n",
    "    :param en_toler_ident: energy difference accetable to take a detected peak as possibly identified\n",
    "        (default is 0.5)\n",
    "    :type en_toler_ident: float\n",
    "    :returns: a pd.Dataframe with aggregated activity calculations\n",
    "    :rtype: pd.Dataframe\n",
    "    \"\"\"\n",
    "\n",
    "    df_result = pd.DataFrame(cross_df_2.loc [(np.abs(cross_df_2.new_delta_en) < en_toler_ident)] )\n",
    "    return df_result\n",
    "    # return cross_df_2"
   ]
  },
  {
   "cell_type": "code",
   "execution_count": null,
   "metadata": {
    "ExecuteTime": {
     "start_time": "2023-08-22T15:59:47.912856100Z"
    },
    "collapsed": false,
    "jupyter": {
     "outputs_hidden": false
    }
   },
   "outputs": [],
   "source": [
    "chnm dgfynj dtfyj dtyj dy jd"
   ]
  },
  {
   "cell_type": "code",
   "execution_count": null,
   "metadata": {
    "ExecuteTime": {
     "start_time": "2023-08-22T15:59:47.914851Z"
    },
    "collapsed": false,
    "jupyter": {
     "outputs_hidden": false
    }
   },
   "outputs": [],
   "source": [
    "dir()"
   ]
  },
  {
   "cell_type": "code",
   "execution_count": null,
   "metadata": {
    "ExecuteTime": {
     "start_time": "2023-08-22T15:59:47.918840400Z"
    },
    "collapsed": false,
    "jupyter": {
     "outputs_hidden": false
    }
   },
   "outputs": [],
   "source": [
    "engy_recalib_pks_df = spec_engy_recalib(big_df, nucl_iear1_selctd_gamms_df, a_spec.channel_energy_calib.get_energy)\n",
    "engy_recalib_pks_df"
   ]
  },
  {
   "cell_type": "code",
   "execution_count": null,
   "metadata": {
    "ExecuteTime": {
     "start_time": "2023-08-22T15:59:47.920835200Z"
    },
    "collapsed": false,
    "jupyter": {
     "outputs_hidden": false
    }
   },
   "outputs": [],
   "source": [
    "big_df"
   ]
  },
  {
   "cell_type": "code",
   "execution_count": null,
   "metadata": {
    "ExecuteTime": {
     "start_time": "2023-08-22T15:59:47.923827800Z"
    },
    "collapsed": false,
    "jupyter": {
     "outputs_hidden": false
    }
   },
   "outputs": [],
   "source": []
  },
  {
   "cell_type": "code",
   "execution_count": null,
   "metadata": {
    "ExecuteTime": {
     "start_time": "2023-08-22T15:59:47.925822Z"
    },
    "collapsed": false,
    "jupyter": {
     "outputs_hidden": false
    }
   },
   "outputs": [],
   "source": [
    "d1, d2, d3, d4, d5 = spec_engy_identif(\n",
    "    big_df, nucl_iear1_df, a_spec.channel_energy_calib.get_energy\n",
    ")"
   ]
  },
  {
   "cell_type": "code",
   "execution_count": null,
   "metadata": {
    "ExecuteTime": {
     "start_time": "2023-08-22T15:59:47.928814Z"
    },
    "collapsed": false,
    "jupyter": {
     "outputs_hidden": false
    }
   },
   "outputs": [],
   "source": [
    "d1"
   ]
  },
  {
   "cell_type": "code",
   "execution_count": null,
   "metadata": {
    "ExecuteTime": {
     "start_time": "2023-08-22T15:59:47.932803400Z"
    },
    "collapsed": false,
    "jupyter": {
     "outputs_hidden": false
    }
   },
   "outputs": [],
   "source": [
    "d2"
   ]
  },
  {
   "cell_type": "code",
   "execution_count": null,
   "metadata": {
    "ExecuteTime": {
     "start_time": "2023-08-22T15:59:47.935795600Z"
    },
    "collapsed": false,
    "jupyter": {
     "outputs_hidden": false
    }
   },
   "outputs": [],
   "source": [
    "d3"
   ]
  },
  {
   "cell_type": "code",
   "execution_count": null,
   "metadata": {
    "ExecuteTime": {
     "start_time": "2023-08-22T15:59:47.938786700Z"
    },
    "collapsed": false,
    "jupyter": {
     "outputs_hidden": false
    }
   },
   "outputs": [],
   "source": [
    "d4"
   ]
  },
  {
   "cell_type": "code",
   "execution_count": null,
   "metadata": {
    "ExecuteTime": {
     "start_time": "2023-08-22T15:59:47.941779600Z"
    },
    "collapsed": false,
    "jupyter": {
     "outputs_hidden": false
    }
   },
   "outputs": [],
   "source": [
    "d5"
   ]
  },
  {
   "cell_type": "code",
   "execution_count": null,
   "metadata": {
    "ExecuteTime": {
     "start_time": "2023-08-22T15:59:47.945769200Z"
    },
    "collapsed": false,
    "jupyter": {
     "outputs_hidden": false
    }
   },
   "outputs": [],
   "source": [
    "d5.columns"
   ]
  },
  {
   "cell_type": "code",
   "execution_count": null,
   "metadata": {
    "ExecuteTime": {
     "start_time": "2023-08-22T15:59:47.948760Z"
    },
    "collapsed": false,
    "jupyter": {
     "outputs_hidden": false
    }
   },
   "outputs": [],
   "source": [
    "# 2023-Jun-20: Cálculo das atividades"
   ]
  },
  {
   "cell_type": "code",
   "execution_count": null,
   "metadata": {
    "ExecuteTime": {
     "start_time": "2023-08-22T15:59:47.951752800Z"
    },
    "collapsed": false,
    "jupyter": {
     "outputs_hidden": false
    }
   },
   "outputs": [],
   "source": [
    "# Ver exatamente o que são esses elementos de Polynomial"
   ]
  },
  {
   "cell_type": "code",
   "execution_count": null,
   "metadata": {
    "ExecuteTime": {
     "start_time": "2023-08-22T15:59:47.954745400Z"
    },
    "collapsed": false,
    "jupyter": {
     "outputs_hidden": false
    }
   },
   "outputs": [],
   "source": [
    "# 2023-Jun-14\n",
    "# Loading calibration pkl file:\n",
    "calib_pkl_name = 'f100_gmx_2021.pkl'\n",
    "calib_df = pd.read_pickle(calib_pkl_name)\n",
    "calib_df"
   ]
  },
  {
   "cell_type": "code",
   "execution_count": null,
   "metadata": {
    "ExecuteTime": {
     "start_time": "2023-08-22T15:59:47.957736500Z"
    },
    "collapsed": false,
    "jupyter": {
     "outputs_hidden": false
    }
   },
   "outputs": [],
   "source": [
    "p_eff, _ = calib_df.effic_func[3]\n",
    "p_eff"
   ]
  },
  {
   "cell_type": "code",
   "execution_count": null,
   "metadata": {
    "ExecuteTime": {
     "start_time": "2023-08-22T15:59:47.960757800Z"
    },
    "collapsed": false,
    "jupyter": {
     "outputs_hidden": false
    }
   },
   "outputs": [],
   "source": [
    "def en_eff(engy):\n",
    "    return np.exp(p_eff(np.log(engy)))"
   ]
  },
  {
   "cell_type": "code",
   "execution_count": null,
   "metadata": {
    "ExecuteTime": {
     "start_time": "2023-08-22T15:59:47.963720200Z"
    },
    "collapsed": false,
    "jupyter": {
     "outputs_hidden": false
    }
   },
   "outputs": [],
   "source": [
    "en_eff(1332)"
   ]
  },
  {
   "cell_type": "code",
   "execution_count": null,
   "metadata": {
    "ExecuteTime": {
     "start_time": "2023-08-22T15:59:47.967710500Z"
    },
    "collapsed": false,
    "jupyter": {
     "outputs_hidden": false
    }
   },
   "outputs": [],
   "source": []
  },
  {
   "cell_type": "code",
   "execution_count": null,
   "metadata": {
    "ExecuteTime": {
     "start_time": "2023-08-22T15:59:47.971699300Z"
    },
    "collapsed": false,
    "jupyter": {
     "outputs_hidden": false
    }
   },
   "outputs": [],
   "source": [
    "\n"
   ]
  },
  {
   "cell_type": "code",
   "execution_count": null,
   "metadata": {
    "ExecuteTime": {
     "start_time": "2023-08-22T15:59:46.283327200Z"
    },
    "collapsed": false,
    "jupyter": {
     "outputs_hidden": false
    }
   },
   "outputs": [],
   "source": [
    "# 2023-Aug-18\n",
    "# AQUI escolher nucludeo que tiver mais picos identificados (Ag-110m tem mais que Cs-137)\n",
    "# Por enquanto, usar a calibracao robusta, que deve bastar."
   ]
  },
  {
   "cell_type": "code",
   "execution_count": null,
   "metadata": {
    "ExecuteTime": {
     "start_time": "2023-08-22T15:59:47.975688Z"
    },
    "collapsed": false,
    "jupyter": {
     "outputs_hidden": false
    }
   },
   "outputs": [],
   "source": []
  },
  {
   "cell_type": "code",
   "execution_count": null,
   "metadata": {
    "ExecuteTime": {
     "start_time": "2023-08-22T15:59:47.980675300Z"
    },
    "collapsed": false,
    "jupyter": {
     "outputs_hidden": false
    }
   },
   "outputs": [],
   "source": [
    "d5"
   ]
  },
  {
   "cell_type": "code",
   "execution_count": null,
   "metadata": {
    "ExecuteTime": {
     "start_time": "2023-08-22T15:59:47.983667200Z"
    },
    "collapsed": false,
    "jupyter": {
     "outputs_hidden": false
    }
   },
   "outputs": [],
   "source": [
    "d5[\"disintegr\"] = d5.rough_sums / (en_eff(d5.energy) * 1e-4 * d5.intensity)"
   ]
  },
  {
   "cell_type": "code",
   "execution_count": null,
   "metadata": {
    "ExecuteTime": {
     "start_time": "2023-08-22T15:59:47.988654100Z"
    },
    "collapsed": false,
    "jupyter": {
     "outputs_hidden": false
    }
   },
   "outputs": [],
   "source": [
    "# 2023-Ago-02 Aparece a nova coluna \"disintegr\"\n",
    "d5"
   ]
  },
  {
   "cell_type": "code",
   "execution_count": null,
   "metadata": {
    "ExecuteTime": {
     "start_time": "2023-08-22T15:59:47.993641500Z"
    },
    "collapsed": false,
    "jupyter": {
     "outputs_hidden": false
    }
   },
   "outputs": [],
   "source": [
    "# d5_where = d5.where(d5.nuclide_name==\"110ag\")\n",
    "# d5_where\n",
    "d5_loc = d5.loc[(d5.nuclide_name==\"110ag\")]\n",
    "d5_loc"
   ]
  },
  {
   "cell_type": "code",
   "execution_count": null,
   "metadata": {
    "ExecuteTime": {
     "start_time": "2023-08-22T15:59:47.997630600Z"
    },
    "collapsed": false,
    "jupyter": {
     "outputs_hidden": false
    }
   },
   "outputs": [],
   "source": [
    "# 2023-Ago-4 PAREI AQUI. Fazer a indexação para o cálculo da atividade considerando a média das linhas de cada nuclídeo\n",
    "# https://pandas.pydata.org/pandas-docs/stable/user_guide/groupby.html\n",
    "# https://pandas.pydata.org/pandas-docs/stable/user_guide/groupby.html#dataframe-column-selection-in-groupby\n",
    "d5_grouped = d5.groupby(\"nuclide_name\")[['energy','intensity','centroids','rough_sums','variances','disintegr']]\n",
    "# d5_grouped = d5.groupby(\"nuclide_name\")[['disintegr']]\n",
    "# sdfsdf = pd.DataFrame([[d5_grouped.mean(), d5_grouped.median()]]) \n",
    "# sdfsdf\n",
    "d5_grouped.mean()"
   ]
  },
  {
   "cell_type": "code",
   "execution_count": null,
   "metadata": {
    "ExecuteTime": {
     "start_time": "2023-08-22T15:59:48.003613700Z"
    },
    "collapsed": false,
    "jupyter": {
     "outputs_hidden": false
    }
   },
   "outputs": [],
   "source": [
    "# https://pandas.pydata.org/pandas-docs/stable/user_guide/groupby.html#built-in-aggregation-methods\n",
    "d5_aggr_df = pd.DataFrame(d5.groupby(\"nuclide_name\")[['disintegr']].mean())\n",
    "d5_aggr_df['dsnt_median'] = d5.groupby(\"nuclide_name\")[['disintegr']].median()\n",
    "d5_aggr_df['dsnt_counts'] = d5.groupby(\"nuclide_name\")[['disintegr']].count()\n",
    "d5_aggr_df['dsnt_sem'] = d5.groupby(\"nuclide_name\")[['disintegr']].sem()\n",
    "d5_aggr_df['dsnt_std'] = d5.groupby(\"nuclide_name\")[['disintegr']].std()\n",
    "d5_aggr_df"
   ]
  },
  {
   "cell_type": "code",
   "execution_count": null,
   "metadata": {
    "ExecuteTime": {
     "start_time": "2023-08-22T15:59:48.009598300Z"
    },
    "collapsed": false,
    "jupyter": {
     "outputs_hidden": false
    }
   },
   "outputs": [],
   "source": [
    "d5.groupby(\"nuclide_name\")[['disintegr']].describe()"
   ]
  },
  {
   "cell_type": "code",
   "execution_count": null,
   "metadata": {
    "ExecuteTime": {
     "start_time": "2023-08-22T15:59:48.014584600Z"
    },
    "collapsed": false,
    "jupyter": {
     "outputs_hidden": false
    }
   },
   "outputs": [],
   "source": [
    "d5_aggregated['disint_mean'] = d5_grouped.mean()\n",
    "d5_aggregated['disint_count'] = d5_grouped.count()\n",
    "d5_aggregated"
   ]
  },
  {
   "cell_type": "code",
   "execution_count": null,
   "metadata": {
    "ExecuteTime": {
     "start_time": "2023-08-22T15:59:48.019571400Z"
    },
    "collapsed": false,
    "jupyter": {
     "outputs_hidden": false
    }
   },
   "outputs": [],
   "source": [
    "d5"
   ]
  },
  {
   "cell_type": "code",
   "execution_count": null,
   "metadata": {
    "ExecuteTime": {
     "start_time": "2023-08-22T15:59:48.022563300Z"
    },
    "collapsed": false,
    "jupyter": {
     "outputs_hidden": false
    }
   },
   "outputs": [],
   "source": []
  },
  {
   "cell_type": "code",
   "execution_count": null,
   "metadata": {
    "ExecuteTime": {
     "start_time": "2023-08-22T15:59:48.026552700Z"
    },
    "collapsed": false,
    "jupyter": {
     "outputs_hidden": false
    }
   },
   "outputs": [],
   "source": [
    "a_spec.lv_time"
   ]
  },
  {
   "cell_type": "code",
   "execution_count": null,
   "metadata": {
    "ExecuteTime": {
     "start_time": "2023-08-22T15:59:48.028547900Z"
    },
    "collapsed": false,
    "jupyter": {
     "outputs_hidden": false
    }
   },
   "outputs": [],
   "source": [
    "# Sample size (L, kg, g etc.)\n",
    "samp_size = 0.1"
   ]
  },
  {
   "cell_type": "code",
   "execution_count": null,
   "metadata": {
    "ExecuteTime": {
     "start_time": "2023-08-22T15:59:48.030542400Z"
    },
    "collapsed": false,
    "jupyter": {
     "outputs_hidden": false
    }
   },
   "outputs": [],
   "source": [
    "a_spec.sam_descr"
   ]
  },
  {
   "cell_type": "code",
   "execution_count": null,
   "metadata": {
    "ExecuteTime": {
     "start_time": "2023-08-22T15:59:48.032537100Z"
    },
    "collapsed": false,
    "jupyter": {
     "outputs_hidden": false
    }
   },
   "outputs": [],
   "source": [
    "a_spec.source_datetime"
   ]
  },
  {
   "cell_type": "code",
   "execution_count": null,
   "metadata": {
    "ExecuteTime": {
     "start_time": "2023-08-22T15:59:48.034531700Z"
    },
    "collapsed": false,
    "jupyter": {
     "outputs_hidden": false
    }
   },
   "outputs": [],
   "source": [
    "a_spec.start_datetime"
   ]
  },
  {
   "cell_type": "code",
   "execution_count": null,
   "metadata": {
    "ExecuteTime": {
     "start_time": "2023-08-22T15:59:48.036527200Z"
    },
    "collapsed": false,
    "jupyter": {
     "outputs_hidden": false
    }
   },
   "outputs": [],
   "source": []
  },
  {
   "cell_type": "code",
   "execution_count": null,
   "metadata": {
    "ExecuteTime": {
     "start_time": "2023-08-22T15:59:48.038521300Z"
    },
    "collapsed": false,
    "jupyter": {
     "outputs_hidden": false
    }
   },
   "outputs": [],
   "source": [
    "# 2023-May-24\n",
    "# Implementing:\n",
    "#  - nuclide labels\n",
    "# https://plotly.com/python/text-and-annotations/\n",
    "#  - and energy search in pandas\n",
    "# https://stackoverflow.com/questions/63529555/get-list-of-occurrences-using-pandas"
   ]
  },
  {
   "cell_type": "code",
   "execution_count": null,
   "metadata": {
    "ExecuteTime": {
     "start_time": "2023-08-22T15:59:48.041514400Z"
    },
    "collapsed": false,
    "jupyter": {
     "outputs_hidden": false
    }
   },
   "outputs": [],
   "source": [
    "# counts_nzero_cps = counts_nzero / a_spec.lv_time\n",
    "# unc_y_cps = unc_y / a_spec.lv_time\n",
    "# fin_bl_cps = fin_bl / a_spec.lv_time\n",
    "# counts_cps = counts / a_spec.lv_time\n",
    "# en_kev_nzero = get_energy(chans_nzero)\n",
    "# en_kev = get_energy(chans)\n",
    "# peaks_net_kev = get_energy(peaks_net)"
   ]
  },
  {
   "cell_type": "code",
   "execution_count": null,
   "metadata": {
    "ExecuteTime": {
     "start_time": "2023-08-22T15:59:48.043508200Z"
    },
    "collapsed": false,
    "jupyter": {
     "outputs_hidden": false
    }
   },
   "outputs": [],
   "source": [
    "help(spec_engy_identif)"
   ]
  },
  {
   "cell_type": "code",
   "execution_count": null,
   "metadata": {
    "ExecuteTime": {
     "start_time": "2023-08-22T15:59:48.046501200Z"
    },
    "collapsed": false,
    "jupyter": {
     "outputs_hidden": false
    }
   },
   "outputs": [],
   "source": []
  },
  {
   "cell_type": "code",
   "execution_count": null,
   "metadata": {
    "ExecuteTime": {
     "start_time": "2023-08-22T15:59:48.048495200Z"
    },
    "collapsed": false,
    "jupyter": {
     "outputs_hidden": false
    }
   },
   "outputs": [],
   "source": [
    "# 2023-Jun-13\n",
    "# PAREI AQUI\n",
    "# Trazer o trabalho feito em\n",
    "# radionuclide_analysis.ipynb e adaptar ao que está aqui\n",
    "# especialmente na identificaćão dos nucl[ideos\n",
    "\n",
    "# Depois, deletar radionuclide_analysis.ipynb."
   ]
  },
  {
   "cell_type": "code",
   "execution_count": null,
   "metadata": {
    "ExecuteTime": {
     "start_time": "2023-08-22T15:59:48.051487100Z"
    },
    "collapsed": false,
    "jupyter": {
     "outputs_hidden": false
    }
   },
   "outputs": [],
   "source": []
  },
  {
   "cell_type": "code",
   "execution_count": null,
   "metadata": {
    "ExecuteTime": {
     "start_time": "2023-08-22T15:59:48.053482400Z"
    },
    "collapsed": false,
    "jupyter": {
     "outputs_hidden": false
    }
   },
   "outputs": [],
   "source": [
    "xdfgh rxfth rxthj rds"
   ]
  },
  {
   "cell_type": "code",
   "execution_count": null,
   "metadata": {
    "ExecuteTime": {
     "start_time": "2023-08-22T15:59:48.055476600Z"
    },
    "collapsed": false,
    "jupyter": {
     "outputs_hidden": false
    }
   },
   "outputs": [],
   "source": [
    "df1 = pd.DataFrame(\n",
    "    {\n",
    "        \"A\": [\"A0\", \"A1\", \"A2\", \"A3\"],\n",
    "        \"B\": [\"B0\", \"B1\", \"B2\", \"B3\"],\n",
    "        \"C\": [\"C0\", \"C1\", \"C2\", \"C3\"],\n",
    "        \"D\": [\"D0\", \"D1\", \"D2\", \"D3\"],\n",
    "    },\n",
    "    index=[0, 1, 2, 3],\n",
    ")\n",
    "\n",
    "\n",
    "df2 = pd.DataFrame(\n",
    "    {\n",
    "        \"A\": [\"A4\", \"A5\", \"A6\", \"A7\"],\n",
    "        \"B\": [\"B4\", \"B5\", \"B6\", \"B7\"],\n",
    "        \"C\": [\"C4\", \"C5\", \"C6\", \"C7\"],\n",
    "        \"D\": [\"D4\", \"D5\", \"D6\", \"D7\"],\n",
    "    },\n",
    "    index=[4, 5, 6, 7],\n",
    ")\n",
    "\n",
    "\n",
    "df3 = pd.DataFrame(\n",
    "    {\n",
    "        \"A\": [\"A8\", \"A9\", \"A10\", \"A11\"],\n",
    "        \"B\": [\"B8\", \"B9\", \"B10\", \"B11\"],\n",
    "        \"C\": [\"C8\", \"C9\", \"C10\", \"C11\"],\n",
    "        \"D\": [\"D8\", \"D9\", \"D10\", \"D11\"],\n",
    "    },\n",
    "    index=[8, 9, 10, 11],\n",
    ")\n",
    "\n",
    "\n",
    "frames = [df1, df2, df3]\n",
    "\n",
    "result = pd.concat(frames)\n",
    "result"
   ]
  },
  {
   "cell_type": "code",
   "execution_count": null,
   "metadata": {
    "ExecuteTime": {
     "start_time": "2023-08-22T15:59:48.058469600Z"
    },
    "collapsed": false,
    "jupyter": {
     "outputs_hidden": false
    }
   },
   "outputs": [],
   "source": [
    "result = pd.concat(frames, keys=[\"x\", \"y\", \"z\"])\n",
    "result"
   ]
  },
  {
   "cell_type": "code",
   "execution_count": null,
   "metadata": {
    "ExecuteTime": {
     "start_time": "2023-08-22T15:59:48.060462300Z"
    },
    "collapsed": false,
    "jupyter": {
     "outputs_hidden": false
    }
   },
   "outputs": [],
   "source": [
    "result.loc[result.A=='A1'].loc[result.C=='C0']"
   ]
  },
  {
   "cell_type": "code",
   "execution_count": null,
   "metadata": {
    "ExecuteTime": {
     "start_time": "2023-08-22T15:59:48.062459200Z"
    },
    "collapsed": false,
    "jupyter": {
     "outputs_hidden": false
    }
   },
   "outputs": [],
   "source": []
  },
  {
   "cell_type": "code",
   "execution_count": null,
   "metadata": {
    "ExecuteTime": {
     "start_time": "2023-08-22T15:59:48.063455200Z"
    },
    "collapsed": false,
    "jupyter": {
     "outputs_hidden": false
    }
   },
   "outputs": [],
   "source": [
    "# https://stackoverflow.com/questions/63529555"
   ]
  },
  {
   "cell_type": "code",
   "execution_count": null,
   "metadata": {
    "ExecuteTime": {
     "start_time": "2023-08-22T15:59:48.066446100Z"
    },
    "collapsed": false,
    "jupyter": {
     "outputs_hidden": false
    }
   },
   "outputs": [],
   "source": [
    "animals = ['cat', 'dog', 'hamster', 'dolphin']"
   ]
  },
  {
   "cell_type": "code",
   "execution_count": null,
   "metadata": {
    "ExecuteTime": {
     "start_time": "2023-08-22T15:59:48.067443900Z"
    },
    "collapsed": false,
    "jupyter": {
     "outputs_hidden": false
    }
   },
   "outputs": [],
   "source": [
    "df_animals_sets = pd.DataFrame(data={\n",
    "    'id': [1,2,3,4,5],\n",
    "    'animals': ['dog,cat','dog','cat,dolphin','cat,dog','hamster,dolphin']\n",
    "})\n",
    "df_animals_sets"
   ]
  },
  {
   "cell_type": "code",
   "execution_count": null,
   "metadata": {
    "ExecuteTime": {
     "start_time": "2023-08-22T15:59:48.069438900Z"
    },
    "collapsed": false,
    "jupyter": {
     "outputs_hidden": false
    }
   },
   "outputs": [],
   "source": [
    "df = df_animals_sets\n",
    "df_final = (df.astype(str).assign(animals=df.animals.str.split(','))\n",
    "                          .explode('animals').groupby('animals').id.agg(','.join)\n",
    "                          .reset_index())\n",
    "df_final"
   ]
  },
  {
   "cell_type": "code",
   "execution_count": null,
   "metadata": {
    "ExecuteTime": {
     "start_time": "2023-08-22T15:59:48.071434Z"
    },
    "collapsed": false,
    "jupyter": {
     "outputs_hidden": false
    }
   },
   "outputs": [],
   "source": []
  },
  {
   "cell_type": "code",
   "execution_count": null,
   "metadata": {
    "ExecuteTime": {
     "start_time": "2023-08-22T15:59:48.073428600Z"
    },
    "collapsed": false,
    "jupyter": {
     "outputs_hidden": false
    },
    "tags": []
   },
   "outputs": [],
   "source": [
    "# The End"
   ]
  }
 ],
 "metadata": {
  "kernelspec": {
   "display_name": "Python 3 (ipykernel)",
   "language": "python",
   "name": "python3"
  },
  "language_info": {
   "codemirror_mode": {
    "name": "ipython",
    "version": 3
   },
   "file_extension": ".py",
   "mimetype": "text/x-python",
   "name": "python",
   "nbconvert_exporter": "python",
   "pygments_lexer": "ipython3",
   "version": "3.10.11"
  }
 },
 "nbformat": 4,
 "nbformat_minor": 4
}
