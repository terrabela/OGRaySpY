{
 "cells": [
  {
   "cell_type": "code",
   "execution_count": 1,
   "outputs": [],
   "source": [
    "import numpy as np\n",
    "import scipy.special as special"
   ],
   "metadata": {
    "collapsed": false,
    "ExecuteTime": {
     "end_time": "2024-02-23T15:03:33.059906200Z",
     "start_time": "2024-02-23T15:03:08.306768500Z"
    }
   },
   "id": "b4420f3877a93634"
  },
  {
   "cell_type": "code",
   "execution_count": 4,
   "outputs": [],
   "source": [
    "\n",
    "# Testes:\n",
    "# https://numpy.org/doc/stable/reference/random/generator.html#distributions\n",
    "# x = np.linspace(0, 10, N) + rng.normal(loc=7, scale=0.05, size=N)\n",
    "# y = np.linspace(22, 23, N)\n",
    "\n",
    "x_step = 400\n",
    "step_stretchness = 0.05\n",
    "height = 1500\n",
    "nch = 4096\n",
    "x = np.linspace(0, nch-1, nch)\n",
    "base_y = height * (special.erf(step_stretchness*(x-x_step))+1)/2\n",
    "noisy_y = np.array([np.random.default_rng().normal(loc=yi, scale=np.sqrt(yi), size=None) for yi in base_y])\n",
    "\n",
    "# Se quiser pegar um espectro real:\n",
    "# noisy_y = ....\n",
    "\n",
    "# Busca do canal onde a altura do espectro se \"estabiliza\"\n",
    "# https://numpy.org/doc/stable/reference/routines.sort.html#searching\n",
    "\n"
   ],
   "metadata": {
    "collapsed": false,
    "ExecuteTime": {
     "end_time": "2024-02-23T15:31:39.431390500Z",
     "start_time": "2024-02-23T15:31:39.220613200Z"
    }
   },
   "id": "8f4745dff9d22bfd"
  },
  {
   "cell_type": "code",
   "execution_count": 5,
   "id": "72955334",
   "metadata": {
    "ExecuteTime": {
     "end_time": "2024-02-23T15:31:44.548880500Z",
     "start_time": "2024-02-23T15:31:44.460887600Z"
    }
   },
   "outputs": [],
   "source": [
    "# 2022-Dez-21\n",
    "# Aproveitar e adaptar o que segue para usar futuramente\n",
    "# vários tipos de ajustes lmfit no radionuclide_analysis.ipynb\n"
   ]
  },
  {
   "cell_type": "code",
   "execution_count": 5,
   "id": "4dde6a7f",
   "metadata": {
    "ExecuteTime": {
     "end_time": "2024-02-23T15:31:48.640043900Z",
     "start_time": "2024-02-23T15:31:48.564227200Z"
    }
   },
   "outputs": [],
   "source": []
  },
  {
   "cell_type": "code",
   "execution_count": 5,
   "id": "51a1a072",
   "metadata": {
    "ExecuteTime": {
     "end_time": "2024-02-23T15:31:49.863492900Z",
     "start_time": "2024-02-23T15:31:49.789592200Z"
    }
   },
   "outputs": [],
   "source": []
  },
  {
   "cell_type": "code",
   "execution_count": 8,
   "id": "f37ea0fa",
   "metadata": {
    "ExecuteTime": {
     "end_time": "2024-02-23T15:33:03.932925500Z",
     "start_time": "2024-02-23T15:33:03.718628900Z"
    }
   },
   "outputs": [],
   "source": [
    "# y = counts\n",
    "y = noisy_y"
   ]
  },
  {
   "cell_type": "code",
   "execution_count": 12,
   "id": "852f83bd",
   "metadata": {
    "ExecuteTime": {
     "end_time": "2024-02-23T15:33:34.015287200Z",
     "start_time": "2024-02-23T15:33:33.915952700Z"
    }
   },
   "outputs": [],
   "source": [
    "# Após descontar a step_baseline:\n",
    "# y = cntarr.y0s - cntarr.step_baseline(y0s[0], y0s[-1], y0s)"
   ]
  },
  {
   "cell_type": "code",
   "execution_count": 12,
   "id": "eac085e6",
   "metadata": {
    "ExecuteTime": {
     "end_time": "2024-02-23T15:33:35.412645900Z",
     "start_time": "2024-02-23T15:33:35.314392500Z"
    }
   },
   "outputs": [],
   "source": []
  },
  {
   "cell_type": "code",
   "execution_count": 12,
   "id": "e1bed61d",
   "metadata": {
    "ExecuteTime": {
     "end_time": "2024-02-23T15:33:35.869215300Z",
     "start_time": "2024-02-23T15:33:35.722996Z"
    }
   },
   "outputs": [],
   "source": []
  },
  {
   "cell_type": "code",
   "execution_count": 12,
   "id": "a83486bf",
   "metadata": {
    "ExecuteTime": {
     "end_time": "2024-02-23T15:33:36.012487300Z",
     "start_time": "2024-02-23T15:33:35.855353600Z"
    }
   },
   "outputs": [],
   "source": []
  },
  {
   "cell_type": "code",
   "execution_count": 13,
   "id": "84153320",
   "metadata": {
    "ExecuteTime": {
     "end_time": "2024-02-23T15:33:36.198672400Z",
     "start_time": "2024-02-23T15:33:36.044587600Z"
    }
   },
   "outputs": [
    {
     "data": {
      "text/plain": "array([0., 0., 0., 0., 0., 0., 0., 0., 0., 0.])"
     },
     "execution_count": 13,
     "metadata": {},
     "output_type": "execute_result"
    }
   ],
   "source": [
    "y[0:10]"
   ]
  },
  {
   "cell_type": "code",
   "execution_count": 14,
   "id": "1c870280",
   "metadata": {
    "ExecuteTime": {
     "end_time": "2024-02-23T15:33:36.926994100Z",
     "start_time": "2024-02-23T15:33:36.803818700Z"
    }
   },
   "outputs": [
    {
     "data": {
      "text/plain": "array([1441.21603012, 1564.38484726, 1476.25661911, 1544.90034789,\n       1487.37571412, 1487.65391662, 1450.7304414 , 1477.7449136 ,\n       1518.06498838, 1473.87546245])"
     },
     "execution_count": 14,
     "metadata": {},
     "output_type": "execute_result"
    }
   ],
   "source": [
    "y[-11:-1]"
   ]
  },
  {
   "cell_type": "code",
   "execution_count": 15,
   "id": "b74c7831",
   "metadata": {
    "ExecuteTime": {
     "end_time": "2024-02-23T15:33:37.647998300Z",
     "start_time": "2024-02-23T15:33:37.570034Z"
    }
   },
   "outputs": [
    {
     "data": {
      "text/plain": "4096"
     },
     "execution_count": 15,
     "metadata": {},
     "output_type": "execute_result"
    }
   ],
   "source": [
    "y.size"
   ]
  },
  {
   "cell_type": "code",
   "execution_count": 15,
   "id": "b0d0c4b6",
   "metadata": {
    "ExecuteTime": {
     "end_time": "2024-02-23T15:33:50.963939900Z",
     "start_time": "2024-02-23T15:33:50.887141800Z"
    }
   },
   "outputs": [],
   "source": []
  },
  {
   "cell_type": "code",
   "execution_count": 16,
   "id": "14cf6202",
   "metadata": {
    "ExecuteTime": {
     "end_time": "2024-02-23T15:33:51.767196900Z",
     "start_time": "2024-02-23T15:33:51.685904300Z"
    }
   },
   "outputs": [],
   "source": [
    "# Agora usando algoritmo Tail do Genie"
   ]
  },
  {
   "cell_type": "code",
   "execution_count": 17,
   "id": "279b54ee",
   "metadata": {
    "ExecuteTime": {
     "end_time": "2024-02-23T15:33:52.494360600Z",
     "start_time": "2024-02-23T15:33:52.417676400Z"
    }
   },
   "outputs": [],
   "source": [
    "def tailed_gaussian(x, cp, height, sigma, tail):\n",
    "    if x >= cp - tail:\n",
    "        fx = height * np.exp(-((x-cp)**2)/(2*sigma**2))\n",
    "    else:\n",
    "        fx = height * np.exp(tail*(2*x-2*cp+tail)/(2*sigma**2))\n",
    "    return fx"
   ]
  },
  {
   "cell_type": "code",
   "execution_count": 18,
   "id": "ae3fe8fc",
   "metadata": {
    "ExecuteTime": {
     "end_time": "2024-02-23T15:33:54.229494800Z",
     "start_time": "2024-02-23T15:33:54.150385Z"
    }
   },
   "outputs": [],
   "source": [
    "script = \"\"\"\n",
    "def tailed_gaussian(x, cp, height, sigma, tail):\n",
    "    if x >= cp - tail:\n",
    "        fx = height * np.exp(-((x-cp)**2)/(2*sigma**2))\n",
    "    else:\n",
    "        fx = height * np.exp(tail*(2*x-2*cp+tail)/(2*sigma**2))\n",
    "    return fx\n",
    "\"\"\""
   ]
  },
  {
   "cell_type": "code",
   "execution_count": 19,
   "id": "6c3049a1",
   "metadata": {
    "ExecuteTime": {
     "end_time": "2024-02-23T15:33:56.231202600Z",
     "start_time": "2024-02-23T15:33:56.134703800Z"
    }
   },
   "outputs": [],
   "source": [
    "script = \"\"\"\n",
    "def mycurve(x, amp, cen, sig):\n",
    "    loren = lorentzian(x, amplitude=amp, center=cen, sigma=sig)\n",
    "    gauss = gaussian(x, amplitude=amp, center=cen, sigma=sig)\n",
    "    return log(loren) * gradient(gauss) / gradient(x)\n",
    "\"\"\""
   ]
  },
  {
   "cell_type": "code",
   "execution_count": 20,
   "id": "5617eb22",
   "metadata": {
    "ExecuteTime": {
     "end_time": "2024-02-23T15:33:57.551170700Z",
     "start_time": "2024-02-23T15:33:57.398918400Z"
    }
   },
   "outputs": [
    {
     "ename": "NameError",
     "evalue": "name 'ExpressionModel' is not defined",
     "output_type": "error",
     "traceback": [
      "\u001B[1;31m---------------------------------------------------------------------------\u001B[0m",
      "\u001B[1;31mNameError\u001B[0m                                 Traceback (most recent call last)",
      "Cell \u001B[1;32mIn[20], line 1\u001B[0m\n\u001B[1;32m----> 1\u001B[0m mod \u001B[38;5;241m=\u001B[39m \u001B[43mExpressionModel\u001B[49m(\u001B[38;5;124m'\u001B[39m\u001B[38;5;124mmycurve(x, height, mid, wid)\u001B[39m\u001B[38;5;124m'\u001B[39m, init_script\u001B[38;5;241m=\u001B[39mscript,\n\u001B[0;32m      2\u001B[0m                       independent_vars\u001B[38;5;241m=\u001B[39m[\u001B[38;5;124m'\u001B[39m\u001B[38;5;124mx\u001B[39m\u001B[38;5;124m'\u001B[39m])\n",
      "\u001B[1;31mNameError\u001B[0m: name 'ExpressionModel' is not defined"
     ]
    }
   ],
   "source": [
    "mod = ExpressionModel('mycurve(x, height, mid, wid)', init_script=script,\n",
    "                      independent_vars=['x'])"
   ]
  },
  {
   "cell_type": "code",
   "execution_count": 21,
   "id": "69aae1ae",
   "metadata": {
    "ExecuteTime": {
     "end_time": "2024-02-23T15:34:00.338962100Z",
     "start_time": "2024-02-23T15:34:00.266097200Z"
    }
   },
   "outputs": [
    {
     "data": {
      "text/plain": "1.8919189378135308"
     },
     "execution_count": 21,
     "metadata": {},
     "output_type": "execute_result"
    }
   ],
   "source": [
    "tailed_gaussian(0,1,2,3,4)"
   ]
  },
  {
   "cell_type": "code",
   "execution_count": 22,
   "id": "5c0a344d",
   "metadata": {
    "ExecuteTime": {
     "end_time": "2024-02-23T15:34:02.217054400Z",
     "start_time": "2024-02-23T15:34:02.103226300Z"
    }
   },
   "outputs": [
    {
     "data": {
      "text/plain": "array([   0.        ,    0.        ,    0.        , ..., 1518.06498838,\n       1473.87546245, 1442.80262754])"
     },
     "execution_count": 22,
     "metadata": {},
     "output_type": "execute_result"
    }
   ],
   "source": [
    "y"
   ]
  },
  {
   "cell_type": "code",
   "execution_count": 23,
   "id": "75cb7f90",
   "metadata": {
    "ExecuteTime": {
     "end_time": "2024-02-23T15:34:03.677974500Z",
     "start_time": "2024-02-23T15:34:03.584679700Z"
    }
   },
   "outputs": [
    {
     "data": {
      "text/plain": "array([   0.        ,    0.        ,    0.        , ..., 1518.06498838,\n       1473.87546245, 1442.80262754])"
     },
     "execution_count": 23,
     "metadata": {},
     "output_type": "execute_result"
    }
   ],
   "source": [
    "y"
   ]
  },
  {
   "cell_type": "code",
   "execution_count": 24,
   "id": "2484be07",
   "metadata": {
    "ExecuteTime": {
     "end_time": "2024-02-23T15:34:08.068613200Z",
     "start_time": "2024-02-23T15:34:07.983795900Z"
    }
   },
   "outputs": [
    {
     "ename": "NameError",
     "evalue": "name 'ExpressionModel' is not defined",
     "output_type": "error",
     "traceback": [
      "\u001B[1;31m---------------------------------------------------------------------------\u001B[0m",
      "\u001B[1;31mNameError\u001B[0m                                 Traceback (most recent call last)",
      "Cell \u001B[1;32mIn[24], line 1\u001B[0m\n\u001B[1;32m----> 1\u001B[0m mod \u001B[38;5;241m=\u001B[39m \u001B[43mExpressionModel\u001B[49m(\u001B[38;5;124m'\u001B[39m\u001B[38;5;124mtailed_gaussian(x, cp, height, sigma, tail)\u001B[39m\u001B[38;5;124m'\u001B[39m, init_script\u001B[38;5;241m=\u001B[39mscript,\n\u001B[0;32m      2\u001B[0m                       independent_vars\u001B[38;5;241m=\u001B[39m[\u001B[38;5;124m'\u001B[39m\u001B[38;5;124mx\u001B[39m\u001B[38;5;124m'\u001B[39m])\n",
      "\u001B[1;31mNameError\u001B[0m: name 'ExpressionModel' is not defined"
     ]
    }
   ],
   "source": [
    "mod = ExpressionModel('tailed_gaussian(x, cp, height, sigma, tail)', init_script=script,\n",
    "                      independent_vars=['x'])"
   ]
  },
  {
   "cell_type": "code",
   "execution_count": 25,
   "id": "abf0ecb4",
   "metadata": {
    "ExecuteTime": {
     "end_time": "2024-02-23T15:34:09.029860100Z",
     "start_time": "2024-02-23T15:34:08.914245500Z"
    }
   },
   "outputs": [
    {
     "ename": "NameError",
     "evalue": "name 'Parameters' is not defined",
     "output_type": "error",
     "traceback": [
      "\u001B[1;31m---------------------------------------------------------------------------\u001B[0m",
      "\u001B[1;31mNameError\u001B[0m                                 Traceback (most recent call last)",
      "Cell \u001B[1;32mIn[25], line 1\u001B[0m\n\u001B[1;32m----> 1\u001B[0m pars \u001B[38;5;241m=\u001B[39m \u001B[43mParameters\u001B[49m()\n\u001B[0;32m      3\u001B[0m pars\u001B[38;5;241m.\u001B[39mupdate(mod\u001B[38;5;241m.\u001B[39mmake_params())\n\u001B[0;32m      4\u001B[0m pars[\u001B[38;5;124m'\u001B[39m\u001B[38;5;124mcp\u001B[39m\u001B[38;5;124m'\u001B[39m]\u001B[38;5;241m.\u001B[39mset(value\u001B[38;5;241m=\u001B[39m\u001B[38;5;241m420\u001B[39m, \u001B[38;5;28mmin\u001B[39m\u001B[38;5;241m=\u001B[39m\u001B[38;5;241m416\u001B[39m, \u001B[38;5;28mmax\u001B[39m\u001B[38;5;241m=\u001B[39m\u001B[38;5;241m425\u001B[39m)\n",
      "\u001B[1;31mNameError\u001B[0m: name 'Parameters' is not defined"
     ]
    }
   ],
   "source": [
    "pars = Parameters()\n",
    "\n",
    "pars.update(mod.make_params())\n",
    "pars['cp'].set(value=420, min=416, max=425)\n",
    "pars['height'].set(value=1.0)\n",
    "pars['sigma'].set(value=1.0, min=0.5, max=2)\n",
    "pars['tail'].set(value=2e6, min=10)\n",
    "\n",
    "init = mod.eval(pars, x=x)\n",
    "out = mod.fit(y, pars, x=x)\n",
    "\n",
    "print(out.fit_report(min_correl=0.1))\n",
    "\n"
   ]
  },
  {
   "cell_type": "code",
   "execution_count": 26,
   "id": "6651413d",
   "metadata": {
    "ExecuteTime": {
     "end_time": "2024-02-23T15:34:10.785183100Z",
     "start_time": "2024-02-23T15:34:10.713177800Z"
    }
   },
   "outputs": [
    {
     "ename": "NameError",
     "evalue": "name 'ExpressionModel' is not defined",
     "output_type": "error",
     "traceback": [
      "\u001B[1;31m---------------------------------------------------------------------------\u001B[0m",
      "\u001B[1;31mNameError\u001B[0m                                 Traceback (most recent call last)",
      "Cell \u001B[1;32mIn[26], line 1\u001B[0m\n\u001B[1;32m----> 1\u001B[0m mod \u001B[38;5;241m=\u001B[39m \u001B[43mExpressionModel\u001B[49m(\u001B[38;5;124m'\u001B[39m\u001B[38;5;124mtailed_gaussian(x, cp, height, sigma, tail)\u001B[39m\u001B[38;5;124m'\u001B[39m, init_script\u001B[38;5;241m=\u001B[39mscript,\n\u001B[0;32m      2\u001B[0m                       independent_vars\u001B[38;5;241m=\u001B[39m[\u001B[38;5;124m'\u001B[39m\u001B[38;5;124mx\u001B[39m\u001B[38;5;124m'\u001B[39m])\n",
      "\u001B[1;31mNameError\u001B[0m: name 'ExpressionModel' is not defined"
     ]
    }
   ],
   "source": [
    "mod = ExpressionModel('tailed_gaussian(x, cp, height, sigma, tail)', init_script=script,\n",
    "                      independent_vars=['x'])"
   ]
  },
  {
   "cell_type": "code",
   "execution_count": 26,
   "id": "7a02f4b6",
   "metadata": {
    "ExecuteTime": {
     "end_time": "2024-02-23T15:34:14.369401300Z",
     "start_time": "2024-02-23T15:34:14.270171500Z"
    }
   },
   "outputs": [],
   "source": []
  },
  {
   "cell_type": "code",
   "execution_count": null,
   "id": "f9ec3be4",
   "metadata": {},
   "outputs": [],
   "source": []
  },
  {
   "cell_type": "code",
   "execution_count": null,
   "id": "26a1929d",
   "metadata": {},
   "outputs": [],
   "source": []
  },
  {
   "cell_type": "code",
   "execution_count": null,
   "id": "3674a0ae",
   "metadata": {},
   "outputs": [],
   "source": []
  },
  {
   "cell_type": "code",
   "execution_count": null,
   "id": "f1aefc48",
   "metadata": {},
   "outputs": [],
   "source": []
  },
  {
   "cell_type": "code",
   "execution_count": null,
   "id": "77c7d02d",
   "metadata": {},
   "outputs": [],
   "source": [
    "# https://docs.python.org/3.8/library/string.html#formatspec\n",
    "# 2021-Jul-23 A formatação tem que ser exatamente assim para obter o que quero:\n",
    "[print((item.size*'{:10.4f}      ').format(*item))\n",
    " for item in np.array([peaks_net, pk_hei_net, width_heights_net, widths_net]).T]"
   ]
  },
  {
   "cell_type": "code",
   "execution_count": null,
   "id": "8d393325",
   "metadata": {},
   "outputs": [],
   "source": []
  },
  {
   "cell_type": "code",
   "execution_count": null,
   "id": "d458fe6e",
   "metadata": {},
   "outputs": [],
   "source": [
    "# Para o cálculo da centroide:\n",
    "# weighted_means = sum([ w*v for w,v in zip(weights, values)]) / sum( w*w )"
   ]
  },
  {
   "cell_type": "code",
   "execution_count": null,
   "id": "833329f0",
   "metadata": {},
   "outputs": [],
   "source": []
  },
  {
   "cell_type": "code",
   "execution_count": null,
   "id": "6faad16d",
   "metadata": {},
   "outputs": [],
   "source": [
    "# width_heights_net = propts_net['width_heights']\n",
    "# left_ips_net = propts_net['left_ips']\n",
    "# right_ips_net = propts_net['right_ips']\n",
    "# pk_hei_net = propts_net['peak_heights']\n",
    "# promns_net = propts_net['prominences']\n",
    "# widths_net = propts_net['widths']"
   ]
  },
  {
   "cell_type": "code",
   "execution_count": null,
   "id": "94fe55a7",
   "metadata": {},
   "outputs": [],
   "source": [
    "# https://docs.python.org/3.8/library/string.html#formatspec\n",
    "# 2021-Jul-23 Assim seria melhor, mas não consigo pôr newline:\n",
    "# print([(item.size*'{:10.4f}      '+'                                             ').format(*item)\n",
    "#        for item in np.array([peaks_net, pk_hei_net, width_heights_net, widths_net]).T])"
   ]
  },
  {
   "cell_type": "code",
   "execution_count": null,
   "id": "34ccee88",
   "metadata": {},
   "outputs": [],
   "source": [
    "2*np.sqrt(2*np.log(2))"
   ]
  },
  {
   "cell_type": "code",
   "execution_count": null,
   "id": "66d0a775",
   "metadata": {},
   "outputs": [],
   "source": []
  },
  {
   "cell_type": "code",
   "execution_count": null,
   "id": "2e894dd7",
   "metadata": {},
   "outputs": [],
   "source": [
    "# 2021-Jul-27\n",
    "# Exemplos de geração de aleatórios e indexação avançada de arrays"
   ]
  },
  {
   "cell_type": "code",
   "execution_count": null,
   "id": "e3eb621e",
   "metadata": {},
   "outputs": [],
   "source": [
    "# https://numpy.org/devdocs/reference/random/index.html#random-quick-start"
   ]
  },
  {
   "cell_type": "code",
   "execution_count": null,
   "id": "9cb6c82f",
   "metadata": {},
   "outputs": [],
   "source": []
  },
  {
   "cell_type": "code",
   "execution_count": null,
   "id": "e6d9a011",
   "metadata": {},
   "outputs": [],
   "source": [
    "def gaussian_fw_fixed(x,*p):\n",
    "    \"\"\"Gaussian function.\n",
    "    \"\"\"\n",
    "    # fgf: factor for gaussian with fwhm\n",
    "#    fgf = 4.0 * np.log(2.0)\n",
    "    # ng: number of gaussian in multiplet\n",
    "    ng = int( len(p) / 3)\n",
    "    a = 0.0\n",
    "    for i in range(ng):\n",
    "        fw, he, cn = p[3*i+0], p[3*i+1], p[3*i+2]\n",
    "        a += he*np.exp(-fgf*(x-cn)**2/fw**2)\n",
    "    return a"
   ]
  },
  {
   "cell_type": "code",
   "execution_count": null,
   "id": "8c31c06c",
   "metadata": {},
   "outputs": [],
   "source": [
    "# 2022-Mar-30: CONTINUAR DAQUI."
   ]
  },
  {
   "cell_type": "code",
   "execution_count": null,
   "id": "fb1b667d",
   "metadata": {},
   "outputs": [],
   "source": [
    "# Localizar os picos pann.peaks_parms.peaks_net dentro de cada região pann.peaks_parms.net_regions:\n",
    "all_matches = []\n",
    "for nt_rg in pann.peaks_parms.net_regions:\n",
    "    matches = [pk for pk in peaks_net if pk in range(nt_rg[0], nt_rg[1])]\n",
    "    all_matches.append(matches)\n",
    "all_matches"
   ]
  },
  {
   "cell_type": "code",
   "execution_count": null,
   "id": "5d8f9c51",
   "metadata": {},
   "outputs": [],
   "source": [
    "net_regions = pann.peaks_parms.net_regions\n",
    "net_regions"
   ]
  },
  {
   "cell_type": "code",
   "execution_count": null,
   "id": "65c74e36",
   "metadata": {},
   "outputs": [],
   "source": [
    "internal_pk_chans = [all_matches[i]-net_regions[i][0] for i in range(len(all_matches))]\n",
    "internal_pk_chans[0]"
   ]
  },
  {
   "cell_type": "code",
   "execution_count": null,
   "id": "00d56c33",
   "metadata": {},
   "outputs": [],
   "source": [
    "net_y = pann.cnt_array_like.net_spec[slice(*pann.peaks_parms.net_regions[0])]\n",
    "net_y"
   ]
  },
  {
   "cell_type": "code",
   "execution_count": null,
   "id": "16479e5a",
   "metadata": {},
   "outputs": [],
   "source": []
  },
  {
   "cell_type": "code",
   "execution_count": null,
   "id": "b2227344",
   "metadata": {},
   "outputs": [],
   "source": []
  },
  {
   "cell_type": "code",
   "execution_count": null,
   "id": "2536bd1c",
   "metadata": {},
   "outputs": [],
   "source": []
  },
  {
   "cell_type": "code",
   "execution_count": null,
   "id": "875f29e7",
   "metadata": {},
   "outputs": [],
   "source": []
  },
  {
   "cell_type": "code",
   "execution_count": null,
   "id": "d72ec118",
   "metadata": {},
   "outputs": [],
   "source": []
  },
  {
   "cell_type": "code",
   "execution_count": null,
   "id": "d8582488",
   "metadata": {},
   "outputs": [],
   "source": [
    "net_regions"
   ]
  },
  {
   "cell_type": "code",
   "execution_count": null,
   "id": "a105011c",
   "metadata": {},
   "outputs": [],
   "source": [
    "# 2021-Jul-12\n",
    "# Super loop!: Revisto em Jul-25\n",
    "# 2022-Mar-30: Revisto novamente.\n",
    "all_outs = []\n",
    "useful_regs_inichan = []\n",
    "for i_rg, nt_rg in enumerate(pann.peaks_parms.net_regions):\n",
    "    print(nt_rg)\n",
    "    net_y = pann.cnt_array_like.net_spec[slice(*nt_rg)]\n",
    "    print('Canal inicial: ' + str(nt_rg[0]))\n",
    "    print('Contagens líquidas na região: ' + str(net_y))\n",
    "    print('Picos internos candidatos: ' + str(internal_pk_chans[i_rg]))\n",
    "    if not len(internal_pk_chans[i_rg]):\n",
    "        print('Sem picos.')\n",
    "    elif 3*len(internal_pk_chans[i_rg]) > net_y.size:\n",
    "        print('Muitos picos. Selecionar.')\n",
    "    else:\n",
    "        print('Poder resolver o multipleto.')\n",
    "        an_out = resolve_multiplet(internal_pk_chans[i_rg], net_y)\n",
    "        all_outs.append(an_out)\n",
    "        useful_regs_inichan.append(nt_rg)\n",
    "    print('------------------------------------------')"
   ]
  },
  {
   "cell_type": "code",
   "execution_count": null,
   "id": "fb3b94a6",
   "metadata": {},
   "outputs": [],
   "source": [
    "all_matches"
   ]
  },
  {
   "cell_type": "code",
   "execution_count": null,
   "id": "7c2f9f39",
   "metadata": {},
   "outputs": [],
   "source": [
    "all_outs"
   ]
  },
  {
   "cell_type": "code",
   "execution_count": null,
   "id": "45a5aa2f",
   "metadata": {},
   "outputs": [],
   "source": [
    "useful_regs_inichan"
   ]
  },
  {
   "cell_type": "code",
   "execution_count": null,
   "id": "b21e399a",
   "metadata": {},
   "outputs": [],
   "source": []
  },
  {
   "cell_type": "code",
   "execution_count": null,
   "id": "b2ace7ce",
   "metadata": {},
   "outputs": [],
   "source": [
    "import pickle\n",
    "\n",
    "# An arbitrary collection of objects supported by pickle.\n",
    "data = useful_regs_inichan\n",
    "\n",
    "with open('data.pickle', 'wb') as f:\n",
    "    # Pickle the 'data' dictionary using the highest protocol available.\n",
    "    pickle.dump(data, f, pickle.HIGHEST_PROTOCOL)"
   ]
  },
  {
   "cell_type": "code",
   "execution_count": null,
   "id": "b99349f2",
   "metadata": {},
   "outputs": [],
   "source": [
    "# 2022-Mar-30 Parei aqui.\n",
    "WSDEF waef WEF we "
   ]
  },
  {
   "cell_type": "code",
   "execution_count": null,
   "id": "72a27b61",
   "metadata": {},
   "outputs": [],
   "source": []
  },
  {
   "cell_type": "code",
   "execution_count": null,
   "id": "54370f7e",
   "metadata": {},
   "outputs": [],
   "source": [
    "p_lo = np.percentile(net_fwhms, q=10)\n",
    "p_hi = np.percentile(net_fwhms, q=90)\n",
    "is_good_fwhms = (net_fwhms > p_lo) & (net_fwhms < p_hi)\n",
    "is_good_fwhms\n",
    "good_fwhms = net_fwhms[is_good_fwhms]\n",
    "good_peaks = peaks_net[is_good_fwhms]\n",
    "good_fwhms.shape"
   ]
  },
  {
   "cell_type": "code",
   "execution_count": null,
   "id": "f1767f67",
   "metadata": {
    "tags": []
   },
   "outputs": [],
   "source": [
    "good_fwhms"
   ]
  },
  {
   "cell_type": "code",
   "execution_count": null,
   "id": "10c4c4f0",
   "metadata": {},
   "outputs": [],
   "source": []
  },
  {
   "cell_type": "code",
   "execution_count": null,
   "id": "d4e12ecb",
   "metadata": {},
   "outputs": [],
   "source": [
    "fwhms_fit = P.fit(x=good_peaks, y=good_fwhms**2, deg=2, w=np.sqrt(net_promns[is_good_fwhms]))\n",
    "fwhms_fit"
   ]
  },
  {
   "cell_type": "code",
   "execution_count": null,
   "id": "1c540b2a",
   "metadata": {},
   "outputs": [],
   "source": []
  },
  {
   "cell_type": "code",
   "execution_count": null,
   "id": "456408fe",
   "metadata": {},
   "outputs": [],
   "source": []
  },
  {
   "cell_type": "code",
   "execution_count": null,
   "id": "62a2fdec",
   "metadata": {},
   "outputs": [],
   "source": [
    "# all_matches é obtido a partir de:\n",
    "# net_regions_nz\n",
    "# peaks_net"
   ]
  },
  {
   "cell_type": "code",
   "execution_count": null,
   "id": "4b286687",
   "metadata": {},
   "outputs": [],
   "source": [
    "peaks_net"
   ]
  },
  {
   "cell_type": "code",
   "execution_count": null,
   "id": "14cf292c",
   "metadata": {},
   "outputs": [],
   "source": [
    "for i_reg, rg_pk in enumerate(net_regions_nz):\n",
    "    if rg_pk: # If there is at least one peak in region,\n",
    "        print('i_reg: '+ str(i_reg))\n",
    "        print('net region '+ str(i_reg) + ': ' + str(rg_pk))\n",
    "        print('candidates: ' + str(all_matches[i_reg]))\n",
    "        print('----------------------')"
   ]
  },
  {
   "cell_type": "code",
   "execution_count": null,
   "id": "3f5b0388",
   "metadata": {},
   "outputs": [],
   "source": [
    "len(all_matches)"
   ]
  },
  {
   "cell_type": "code",
   "execution_count": null,
   "id": "65acb396",
   "metadata": {},
   "outputs": [],
   "source": []
  },
  {
   "cell_type": "code",
   "execution_count": null,
   "id": "d4443180",
   "metadata": {},
   "outputs": [],
   "source": [
    "# 2021-Set-16\n",
    "# Variáveis usadas no super-loop a seguir:\n",
    "# net_regions_nz\n",
    "# all_matches"
   ]
  },
  {
   "cell_type": "code",
   "execution_count": null,
   "id": "2666bb45",
   "metadata": {},
   "outputs": [],
   "source": [
    "net_regions_nz"
   ]
  },
  {
   "cell_type": "code",
   "execution_count": null,
   "id": "6ba0c537",
   "metadata": {},
   "outputs": [],
   "source": [
    "all_matches"
   ]
  },
  {
   "cell_type": "code",
   "execution_count": null,
   "id": "5c69fe1c",
   "metadata": {},
   "outputs": [],
   "source": [
    "serg esgh es gthresh rs"
   ]
  },
  {
   "cell_type": "code",
   "execution_count": null,
   "id": "98712038",
   "metadata": {},
   "outputs": [],
   "source": []
  },
  {
   "cell_type": "code",
   "execution_count": null,
   "id": "d8ef05b0",
   "metadata": {},
   "outputs": [],
   "source": [
    "2*np.sqrt(2*np.log(2))"
   ]
  },
  {
   "cell_type": "code",
   "execution_count": null,
   "id": "0337b1b8",
   "metadata": {},
   "outputs": [],
   "source": [
    "net_regions_nz[11]"
   ]
  },
  {
   "cell_type": "code",
   "execution_count": null,
   "id": "65ec3aa5",
   "metadata": {},
   "outputs": [],
   "source": [
    "pks = np.array(all_matches[11])\n",
    "pks"
   ]
  },
  {
   "cell_type": "code",
   "execution_count": null,
   "id": "44bf7d1d",
   "metadata": {},
   "outputs": [],
   "source": [
    "net_regions_nz[11][1][np.array(all_matches[11])]"
   ]
  },
  {
   "cell_type": "code",
   "execution_count": null,
   "id": "a4f93807",
   "metadata": {},
   "outputs": [],
   "source": [
    "np.argsort(net_regions_nz[11][1])"
   ]
  },
  {
   "cell_type": "code",
   "execution_count": null,
   "id": "f6d22066",
   "metadata": {},
   "outputs": [],
   "source": [
    "pk_sort = np.argsort(net_regions_nz[11][1])\n",
    "pk_sort"
   ]
  },
  {
   "cell_type": "code",
   "execution_count": null,
   "id": "0d680de3",
   "metadata": {},
   "outputs": [],
   "source": [
    "np.argwhere(pk_sort==1)"
   ]
  },
  {
   "cell_type": "code",
   "execution_count": null,
   "id": "42be7564",
   "metadata": {},
   "outputs": [],
   "source": [
    "np.argwhere(pk_sort==4)"
   ]
  },
  {
   "cell_type": "code",
   "execution_count": null,
   "id": "cf94daaf",
   "metadata": {},
   "outputs": [],
   "source": [
    "hei_order = [np.argwhere(pk_sort==i)[0][0] for i in pks]\n",
    "hei_order"
   ]
  },
  {
   "cell_type": "code",
   "execution_count": null,
   "id": "2e194b46",
   "metadata": {},
   "outputs": [],
   "source": [
    "# AQIO: SINCRONIZAR AS LISTAS ctrds E fwhms"
   ]
  },
  {
   "cell_type": "code",
   "execution_count": null,
   "id": "d7560361",
   "metadata": {},
   "outputs": [],
   "source": [
    "print ('Número de multipletos: ' + str(len(all_outs)))\n",
    "print ('Canais iniciais: qtd: ' + str(len(useful_regs_inichan)))\n",
    "print (useful_regs_inichan)\n",
    "print('Parameter    Value       Stderr')\n",
    "ctrds = []\n",
    "ctrds_sd = []\n",
    "fwhms = []\n",
    "fwhms_sd = []\n",
    "\n",
    "for iout, out in enumerate(all_outs):\n",
    "    ini_ch = useful_regs_inichan[iout]\n",
    "    print('-------------------')\n",
    "    print('Canal ini do multipleto: ' + str(ini_ch))\n",
    "    for name, param in out.params.items():\n",
    "        if name[3:]=='center':\n",
    "            if (param.stderr is None) or np.isnan(param.stderr):\n",
    "                print('inválido')\n",
    "            elif param.stderr < 1.0e-5:\n",
    "                print('erro pequeno')\n",
    "            elif param.stderr > 1.0:\n",
    "                print('erro grande')\n",
    "            else:\n",
    "                print('centroid {:11.5f} {:11.5f}'.format(param.value+ini_ch, param.stderr))\n",
    "                print('{:7s} {:11.5f} {:11.5f}'.format(name, param.value, param.stderr))\n",
    "                print(param.value+ini_ch)\n",
    "                ctrds.append(param.value+ini_ch)\n",
    "                ctrds_sd.append(param.stderr)\n",
    "\n",
    "        if name[3:]=='fwhm':\n",
    "            if (param.stderr is None) or np.isnan(param.stderr):\n",
    "                print('inválido')\n",
    "            elif param.stderr < 1.0e-5:\n",
    "                print('erro pequeno')\n",
    "            elif param.stderr > 1.0:\n",
    "                print('erro grande')\n",
    "            else:\n",
    "                print('centroid {:11.5f} {:11.5f}'.format(param.value+ini_ch, param.stderr))\n",
    "                print('{:7s} {:11.5f} {:11.5f}'.format(name, param.value, param.stderr))\n",
    "                print(param.value)\n",
    "                fwhms.append(param.value)\n",
    "                fwhms_sd.append(param.stderr)"
   ]
  },
  {
   "cell_type": "code",
   "execution_count": null,
   "id": "fa254181",
   "metadata": {},
   "outputs": [],
   "source": []
  },
  {
   "cell_type": "code",
   "execution_count": null,
   "id": "bdb4e108",
   "metadata": {},
   "outputs": [],
   "source": [
    "len(ctrds)"
   ]
  },
  {
   "cell_type": "code",
   "execution_count": null,
   "id": "9e81da22",
   "metadata": {},
   "outputs": [],
   "source": [
    "len(fwhms)"
   ]
  },
  {
   "cell_type": "code",
   "execution_count": null,
   "id": "e608f5c2",
   "metadata": {},
   "outputs": [],
   "source": [
    "fwhms_fit = P.fit(x=np.asarray(ctrds), y=np.asarray(fwhms)**2, deg=2, w=1.0/np.asarray(fwhms_sd)**2)\n",
    "fwhms_fit"
   ]
  },
  {
   "cell_type": "code",
   "execution_count": null,
   "id": "7e3c7ec9",
   "metadata": {},
   "outputs": [],
   "source": [
    "x_fwhm_fit = np.linspace(0, nch, num=150)\n",
    "y_fwhm_fit = np.sqrt(fwhms_fit(x_fwhm_fit))"
   ]
  },
  {
   "cell_type": "code",
   "execution_count": null,
   "id": "a011b436",
   "metadata": {},
   "outputs": [],
   "source": [
    "fig_fwhms = go.FigureWidget();\n",
    "fig_fwhms.add_trace(\n",
    "    go.Scatter(x=ctrds,\n",
    "               y=fwhms,\n",
    "               name='fig_fwhms & uncertaintes',\n",
    "               error_y=dict(\n",
    "                   color='orange',width=3.0,\n",
    "                   type='data', # value of error bar given in data coordinates\n",
    "                   array=fwhms_sd,\n",
    "                   visible=True),\n",
    "               marker=dict(color='blue',\n",
    "                           symbol='circle',\n",
    "                           size=20,\n",
    "                           opacity=0.4,\n",
    "                           line=dict(color='green', width=2.0)\n",
    "                          ),\n",
    "               mode='markers'));\n",
    "fig_fwhms.add_trace(\n",
    "    go.Scatter(x=x_fwhm_fit,\n",
    "               y=y_fwhm_fit,\n",
    "               name='FWHMs fit',\n",
    "               line=dict(color='green',width=2.0)));\n",
    "\n",
    "# Set title and scale type\n",
    "fig_fwhms.update_layout(title_text='fig_fwhms')\n",
    "fig_fwhms.write_html('fig_fwhms.html', auto_open=True)"
   ]
  },
  {
   "cell_type": "code",
   "execution_count": null,
   "id": "4a31b224",
   "metadata": {},
   "outputs": [],
   "source": [
    "seh sehseth seth wseth seth setrh "
   ]
  },
  {
   "cell_type": "code",
   "execution_count": null,
   "id": "3e2643af",
   "metadata": {},
   "outputs": [],
   "source": [
    "# 2021-Jul-27\n",
    "# Exemplos de geração de aleatórios e indexação avançada de arrays"
   ]
  },
  {
   "cell_type": "code",
   "execution_count": null,
   "id": "de313296",
   "metadata": {},
   "outputs": [],
   "source": [
    "# https://numpy.org/devdocs/reference/random/index.html#random-quick-start"
   ]
  },
  {
   "cell_type": "code",
   "execution_count": null,
   "id": "ba5fa7ff",
   "metadata": {},
   "outputs": [],
   "source": [
    "# Do this (new version)\n",
    "from numpy.random import default_rng\n",
    "rng = default_rng()\n",
    "vals = rng.standard_normal(10)\n",
    "more_vals = rng.standard_normal(10)"
   ]
  },
  {
   "cell_type": "code",
   "execution_count": null,
   "id": "c3ea5d91",
   "metadata": {},
   "outputs": [],
   "source": [
    "print(vals, '\\n', more_vals)"
   ]
  },
  {
   "cell_type": "code",
   "execution_count": null,
   "id": "77020ae5",
   "metadata": {},
   "outputs": [],
   "source": [
    "# Para inteiros:\n",
    "rng_integers = rng.integers\n",
    "a = rng_integers(1000)\n",
    "a"
   ]
  },
  {
   "cell_type": "code",
   "execution_count": null,
   "id": "52c5e299",
   "metadata": {},
   "outputs": [],
   "source": [
    "rng = np.random.default_rng(12345)\n",
    "print(rng)"
   ]
  },
  {
   "cell_type": "code",
   "execution_count": null,
   "id": "8b9e37d4",
   "metadata": {},
   "outputs": [],
   "source": [
    "rfloat = rng.random()\n",
    "rfloat"
   ]
  },
  {
   "cell_type": "code",
   "execution_count": null,
   "id": "a05edba0",
   "metadata": {},
   "outputs": [],
   "source": [
    "# Here we use default_rng to create an instance of Generator to generate\n",
    "# 3 random integers between 0 (inclusive) and 10 (exclusive):\n",
    "rng = np.random.default_rng(12345)\n",
    "rints = rng.integers(low=0, high=10, size=3)\n",
    "rints"
   ]
  },
  {
   "cell_type": "code",
   "execution_count": null,
   "id": "d4d0a8c8",
   "metadata": {},
   "outputs": [],
   "source": [
    "rints = rng.integers(low=0, high=10, size=200)\n",
    "rints"
   ]
  },
  {
   "cell_type": "code",
   "execution_count": null,
   "id": "05a9ec3b",
   "metadata": {},
   "outputs": [],
   "source": [
    "rng = np.random.default_rng(12346)\n",
    "rfloats = rng.random(10)\n",
    "rfloats"
   ]
  },
  {
   "cell_type": "code",
   "execution_count": null,
   "id": "9a4b9d22",
   "metadata": {},
   "outputs": [],
   "source": [
    "rng = np.random.default_rng(12345)\n",
    "rints = rng.integers(low=0, high=10, size=4)\n",
    "rints"
   ]
  },
  {
   "cell_type": "code",
   "execution_count": null,
   "id": "59f5b705",
   "metadata": {},
   "outputs": [],
   "source": [
    "np.argsort(rfloats)"
   ]
  },
  {
   "cell_type": "code",
   "execution_count": null,
   "id": "db0ceec7",
   "metadata": {},
   "outputs": [],
   "source": [
    "# Digamos que os picos detectados tenham sido:\n",
    "pks_detected = np.array([3,6,8,9])\n",
    "print(pks_detected)\n",
    "print(rfloats[pks_detected])"
   ]
  },
  {
   "cell_type": "code",
   "execution_count": null,
   "id": "b921e260",
   "metadata": {},
   "outputs": [],
   "source": [
    "# ... mas quero manter apenas os nm maiores, nm=3 no caso, ou seja, quero manter [3,6,9]: \n",
    "rfloats[np.array([3,6,9])]"
   ]
  },
  {
   "cell_type": "code",
   "execution_count": null,
   "id": "d3002c50",
   "metadata": {},
   "outputs": [],
   "source": [
    "# Fazer:\n",
    "sort_inds = np.argsort(rfloats[pks_detected])\n",
    "sort_inds"
   ]
  },
  {
   "cell_type": "code",
   "execution_count": null,
   "id": "01f0df33",
   "metadata": {},
   "outputs": [],
   "source": [
    "nm = 3\n",
    "gt_pks = sort_inds[-nm:]\n",
    "gt_pks"
   ]
  },
  {
   "cell_type": "code",
   "execution_count": null,
   "id": "f5410828",
   "metadata": {},
   "outputs": [],
   "source": [
    "rfloats[-4:]"
   ]
  },
  {
   "cell_type": "code",
   "execution_count": null,
   "id": "bc83a56b",
   "metadata": {},
   "outputs": [],
   "source": [
    "pks_detected[gt_pks]"
   ]
  },
  {
   "cell_type": "code",
   "execution_count": null,
   "id": "331b550c",
   "metadata": {},
   "outputs": [],
   "source": [
    "# 2021-Jul-19:\n",
    "# Aos poucos, aproveitar só a parte gráfica do que segue e prosseguir na agregação dos picos\n",
    "# já obtidos com lmfit."
   ]
  },
  {
   "cell_type": "code",
   "execution_count": null,
   "id": "f9e11b5f",
   "metadata": {},
   "outputs": [],
   "source": []
  },
  {
   "cell_type": "code",
   "execution_count": null,
   "id": "5813420f",
   "metadata": {},
   "outputs": [],
   "source": [
    "def gaussian_fw_fixed(x,*p):\n",
    "    \"\"\"Gaussian function.\n",
    "    \"\"\"\n",
    "    # fgf: factor for gaussian with fwhm\n",
    "#    fgf = 4.0 * np.log(2.0)\n",
    "    # ng: number of gaussian in multiplet\n",
    "    ng = int( len(p) / 3)\n",
    "    a = 0.0\n",
    "    for i in range(ng):\n",
    "        fw, he, cn = p[3*i+0], p[3*i+1], p[3*i+2]\n",
    "        a += he*np.exp(-fgf*(x-cn)**2/fw**2)\n",
    "    return a"
   ]
  },
  {
   "cell_type": "code",
   "execution_count": null,
   "id": "c19bd010",
   "metadata": {},
   "outputs": [],
   "source": []
  },
  {
   "cell_type": "code",
   "execution_count": null,
   "id": "60db88ca",
   "metadata": {},
   "outputs": [],
   "source": []
  },
  {
   "cell_type": "code",
   "execution_count": null,
   "id": "fe2f1d28",
   "metadata": {},
   "outputs": [],
   "source": []
  },
  {
   "cell_type": "code",
   "execution_count": null,
   "id": "6b310a10",
   "metadata": {},
   "outputs": [],
   "source": []
  },
  {
   "cell_type": "code",
   "execution_count": null,
   "id": "1217d567",
   "metadata": {},
   "outputs": [],
   "source": []
  },
  {
   "cell_type": "code",
   "execution_count": null,
   "id": "9b15d27a",
   "metadata": {},
   "outputs": [],
   "source": []
  },
  {
   "cell_type": "code",
   "execution_count": null,
   "id": "e47b303a",
   "metadata": {},
   "outputs": [],
   "source": [
    "p_lo = np.percentile(net_fwhms, q=10)\n",
    "p_hi = np.percentile(net_fwhms, q=90)\n",
    "is_good_fwhms = (net_fwhms > p_lo) & (net_fwhms < p_hi)\n",
    "is_good_fwhms\n",
    "good_fwhms = net_fwhms[is_good_fwhms]\n",
    "good_peaks = peaks_net[is_good_fwhms]\n",
    "good_fwhms.shape"
   ]
  },
  {
   "cell_type": "code",
   "execution_count": null,
   "id": "0e8d36fb",
   "metadata": {
    "tags": []
   },
   "outputs": [],
   "source": [
    "good_fwhms"
   ]
  },
  {
   "cell_type": "code",
   "execution_count": null,
   "id": "1cb052d6",
   "metadata": {},
   "outputs": [],
   "source": []
  },
  {
   "cell_type": "code",
   "execution_count": null,
   "id": "47deccb9",
   "metadata": {},
   "outputs": [],
   "source": []
  },
  {
   "cell_type": "code",
   "execution_count": null,
   "id": "3f9ff229",
   "metadata": {},
   "outputs": [],
   "source": []
  },
  {
   "cell_type": "code",
   "execution_count": null,
   "id": "fba9f9a1",
   "metadata": {},
   "outputs": [],
   "source": [
    "# 2021-06-25 Próxima etapa: refazer as regiões com base no espectro líquido, separando pelas contagens \n",
    "# líquidas nulas."
   ]
  },
  {
   "cell_type": "code",
   "execution_count": null,
   "id": "6137ed2a",
   "metadata": {},
   "outputs": [],
   "source": []
  },
  {
   "cell_type": "code",
   "execution_count": null,
   "id": "fbf4596f",
   "metadata": {},
   "outputs": [],
   "source": [
    "def response(change):\n",
    "    figw3.layout.title = 'Updating...'\n",
    "    # figw3.data[1].line=dict(color='red',width=0.1)\n",
    "    spec2.aSta = 0.001 * milliasta.value\n",
    "    spec2.bSta = bsta.value\n",
    "    spec2.calc_parabSpec()\n",
    "    spec2.calc_regions()\n",
    "    # figw3.update_traces(selector=dict(type='line'))\n",
    "    bline = figw3.data[1]\n",
    "    bline.y = spec2.smooParabSpec\n",
    "    mixline = figw3.data[2]\n",
    "    mixline.y = spec2.mix\n",
    "    # figw3.data[1].line=dict(color='green',width=0.9)\n",
    "    figw3.layout.title = 'Gamma-ray spectrum'\n",
    "    analysisVars.value = 'hWIni: ' + str(spec2.hWIni) + '\\n' + 'hWFin: ' + str(spec2.hWFin)\n",
    "        \n",
    "milliasta.observe(response, names=\"value\")\n",
    "bsta.observe(response, names=\"value\")"
   ]
  },
  {
   "cell_type": "code",
   "execution_count": null,
   "id": "ab7eb20e",
   "metadata": {},
   "outputs": [],
   "source": []
  },
  {
   "cell_type": "code",
   "execution_count": null,
   "id": "94e7416c",
   "metadata": {},
   "outputs": [],
   "source": [
    "## Fim ##"
   ]
  },
  {
   "cell_type": "code",
   "execution_count": null,
   "id": "3a21403f",
   "metadata": {},
   "outputs": [],
   "source": []
  }
 ],
 "metadata": {
  "kernelspec": {
   "display_name": "Python 3 (ipykernel)",
   "language": "python",
   "name": "python3"
  },
  "language_info": {
   "codemirror_mode": {
    "name": "ipython",
    "version": 3
   },
   "file_extension": ".py",
   "mimetype": "text/x-python",
   "name": "python",
   "nbconvert_exporter": "python",
   "pygments_lexer": "ipython3",
   "version": "3.11.2"
  }
 },
 "nbformat": 4,
 "nbformat_minor": 5
}
